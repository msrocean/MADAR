{
 "cells": [
  {
   "cell_type": "code",
   "execution_count": 1,
   "metadata": {},
   "outputs": [
    {
     "name": "stdout",
     "output_type": "stream",
     "text": [
      "Torch 1.6.0 CUDA 10.2\n",
      "Model has 3.132161m parameters\n",
      "\n",
      "2023-01-30 11:51:41 Round 1 ...\n",
      "Current Task 2018-01 w/ 500 samples to Replay per Malware family.\n",
      "X_train (55722, 2381) Y_train (55722,) Y_tr_family (55722,)\n",
      "X_test (6192, 2381) Y_test (6192,) Y_te_family (6192,)\n",
      "Task 2018-01 and #-of new samples stored 55722\n",
      "2023-01-30 11:51:43 Standardizing ...\n"
     ]
    },
    {
     "name": "stderr",
     "output_type": "stream",
     "text": [
      "\r",
      "  0%|          | 0/9 [00:00<?, ?it/s]"
     ]
    },
    {
     "name": "stdout",
     "output_type": "stream",
     "text": [
      "\n",
      "X_train (55722, 2381) Y_train (55722,)\n",
      "\n",
      "2023-01-30 11:51:47 Training ...\n",
      "Epoch 1 of 500\n"
     ]
    },
    {
     "name": "stderr",
     "output_type": "stream",
     "text": [
      "100%|██████████| 9/9 [00:01<00:00,  5.08it/s]\n",
      "100%|██████████| 2/2 [00:00<00:00, 13.10it/s]\n",
      "  0%|          | 0/9 [00:00<?, ?it/s]"
     ]
    },
    {
     "name": "stdout",
     "output_type": "stream",
     "text": [
      "Train Loss: 0.7057, Train Acc: 0.5231\n",
      "Val Loss: 0.6831, Val Acc: 0.5962\n",
      "Validation loss decreased (inf --> 0.683147).  Saving model ...\n",
      "../WeightsFinal_0.3_model_weights/Weights_replay_500/2018-01/best_model_epoch_1.pt\n",
      "../WeightsFinal_0.3_optimizer_weights/Weights_replay_500/2018-01/best_optimizer_epoch_1.pt\n",
      "Epoch 2 of 500\n"
     ]
    },
    {
     "name": "stderr",
     "output_type": "stream",
     "text": [
      "100%|██████████| 9/9 [00:01<00:00,  5.71it/s]\n",
      "100%|██████████| 2/2 [00:00<00:00, 13.15it/s]\n",
      "  0%|          | 0/9 [00:00<?, ?it/s]"
     ]
    },
    {
     "name": "stdout",
     "output_type": "stream",
     "text": [
      "Train Loss: 0.6638, Train Acc: 0.6134\n",
      "Val Loss: 0.6480, Val Acc: 0.7457\n",
      "Validation loss decreased (0.683147 --> 0.648046).  Saving model ...\n",
      "../WeightsFinal_0.3_model_weights/Weights_replay_500/2018-01/best_model_epoch_2.pt\n",
      "../WeightsFinal_0.3_optimizer_weights/Weights_replay_500/2018-01/best_optimizer_epoch_2.pt\n",
      "Epoch 3 of 500\n"
     ]
    },
    {
     "name": "stderr",
     "output_type": "stream",
     "text": [
      "100%|██████████| 9/9 [00:01<00:00,  5.16it/s]\n",
      "100%|██████████| 2/2 [00:00<00:00,  7.43it/s]\n",
      "  0%|          | 0/9 [00:00<?, ?it/s]"
     ]
    },
    {
     "name": "stdout",
     "output_type": "stream",
     "text": [
      "Train Loss: 0.6221, Train Acc: 0.6820\n",
      "Val Loss: 0.5897, Val Acc: 0.7904\n",
      "Validation loss decreased (0.648046 --> 0.589655).  Saving model ...\n",
      "../WeightsFinal_0.3_model_weights/Weights_replay_500/2018-01/best_model_epoch_3.pt\n",
      "../WeightsFinal_0.3_optimizer_weights/Weights_replay_500/2018-01/best_optimizer_epoch_3.pt\n",
      "Epoch 4 of 500\n"
     ]
    },
    {
     "name": "stderr",
     "output_type": "stream",
     "text": [
      "100%|██████████| 9/9 [00:01<00:00,  5.47it/s]\n",
      "100%|██████████| 2/2 [00:00<00:00, 12.80it/s]\n",
      "  0%|          | 0/9 [00:00<?, ?it/s]"
     ]
    },
    {
     "name": "stdout",
     "output_type": "stream",
     "text": [
      "Train Loss: 0.5701, Train Acc: 0.7266\n",
      "Val Loss: 0.5203, Val Acc: 0.8065\n",
      "Validation loss decreased (0.589655 --> 0.520306).  Saving model ...\n",
      "../WeightsFinal_0.3_model_weights/Weights_replay_500/2018-01/best_model_epoch_4.pt\n",
      "../WeightsFinal_0.3_optimizer_weights/Weights_replay_500/2018-01/best_optimizer_epoch_4.pt\n",
      "Epoch 5 of 500\n"
     ]
    },
    {
     "name": "stderr",
     "output_type": "stream",
     "text": [
      "100%|██████████| 9/9 [00:01<00:00,  5.30it/s]\n",
      "100%|██████████| 2/2 [00:00<00:00, 11.75it/s]\n",
      "  0%|          | 0/9 [00:00<?, ?it/s]"
     ]
    },
    {
     "name": "stdout",
     "output_type": "stream",
     "text": [
      "Train Loss: 0.5124, Train Acc: 0.7601\n",
      "Val Loss: 0.4574, Val Acc: 0.8090\n",
      "Validation loss decreased (0.520306 --> 0.457442).  Saving model ...\n",
      "../WeightsFinal_0.3_model_weights/Weights_replay_500/2018-01/best_model_epoch_5.pt\n",
      "../WeightsFinal_0.3_optimizer_weights/Weights_replay_500/2018-01/best_optimizer_epoch_5.pt\n",
      "Epoch 6 of 500\n"
     ]
    },
    {
     "name": "stderr",
     "output_type": "stream",
     "text": [
      "100%|██████████| 9/9 [00:01<00:00,  6.01it/s]\n",
      "100%|██████████| 2/2 [00:00<00:00, 11.32it/s]\n",
      "  0%|          | 0/9 [00:00<?, ?it/s]"
     ]
    },
    {
     "name": "stdout",
     "output_type": "stream",
     "text": [
      "Train Loss: 0.4629, Train Acc: 0.7830\n",
      "Val Loss: 0.4092, Val Acc: 0.8259\n",
      "Validation loss decreased (0.457442 --> 0.409224).  Saving model ...\n",
      "../WeightsFinal_0.3_model_weights/Weights_replay_500/2018-01/best_model_epoch_6.pt\n",
      "../WeightsFinal_0.3_optimizer_weights/Weights_replay_500/2018-01/best_optimizer_epoch_6.pt\n",
      "Epoch 7 of 500\n"
     ]
    },
    {
     "name": "stderr",
     "output_type": "stream",
     "text": [
      "100%|██████████| 9/9 [00:01<00:00,  5.40it/s]\n",
      "100%|██████████| 2/2 [00:00<00:00,  8.39it/s]\n",
      "  0%|          | 0/9 [00:00<?, ?it/s]"
     ]
    },
    {
     "name": "stdout",
     "output_type": "stream",
     "text": [
      "Train Loss: 0.4246, Train Acc: 0.8007\n",
      "Val Loss: 0.3728, Val Acc: 0.8383\n",
      "Validation loss decreased (0.409224 --> 0.372788).  Saving model ...\n",
      "../WeightsFinal_0.3_model_weights/Weights_replay_500/2018-01/best_model_epoch_7.pt\n",
      "../WeightsFinal_0.3_optimizer_weights/Weights_replay_500/2018-01/best_optimizer_epoch_7.pt\n",
      "Epoch 8 of 500\n"
     ]
    },
    {
     "name": "stderr",
     "output_type": "stream",
     "text": [
      "100%|██████████| 9/9 [00:01<00:00,  6.04it/s]\n",
      "100%|██████████| 2/2 [00:00<00:00, 13.29it/s]\n",
      "  0%|          | 0/9 [00:00<?, ?it/s]"
     ]
    },
    {
     "name": "stdout",
     "output_type": "stream",
     "text": [
      "Train Loss: 0.3899, Train Acc: 0.8224\n",
      "Val Loss: 0.3384, Val Acc: 0.8727\n",
      "Validation loss decreased (0.372788 --> 0.338432).  Saving model ...\n",
      "../WeightsFinal_0.3_model_weights/Weights_replay_500/2018-01/best_model_epoch_8.pt\n",
      "../WeightsFinal_0.3_optimizer_weights/Weights_replay_500/2018-01/best_optimizer_epoch_8.pt\n",
      "Epoch 9 of 500\n"
     ]
    },
    {
     "name": "stderr",
     "output_type": "stream",
     "text": [
      "100%|██████████| 9/9 [00:01<00:00,  6.29it/s]\n",
      "100%|██████████| 2/2 [00:00<00:00, 14.46it/s]\n",
      "  0%|          | 0/9 [00:00<?, ?it/s]"
     ]
    },
    {
     "name": "stdout",
     "output_type": "stream",
     "text": [
      "Train Loss: 0.3567, Train Acc: 0.8413\n",
      "Val Loss: 0.3045, Val Acc: 0.8841\n",
      "Validation loss decreased (0.338432 --> 0.304462).  Saving model ...\n",
      "../WeightsFinal_0.3_model_weights/Weights_replay_500/2018-01/best_model_epoch_9.pt\n",
      "../WeightsFinal_0.3_optimizer_weights/Weights_replay_500/2018-01/best_optimizer_epoch_9.pt\n",
      "Epoch 10 of 500\n"
     ]
    },
    {
     "name": "stderr",
     "output_type": "stream",
     "text": [
      "100%|██████████| 9/9 [00:01<00:00,  5.23it/s]\n",
      "100%|██████████| 2/2 [00:00<00:00,  5.73it/s]\n",
      "  0%|          | 0/9 [00:00<?, ?it/s]"
     ]
    },
    {
     "name": "stdout",
     "output_type": "stream",
     "text": [
      "Train Loss: 0.3277, Train Acc: 0.8558\n",
      "Val Loss: 0.2755, Val Acc: 0.8955\n",
      "Validation loss decreased (0.304462 --> 0.275509).  Saving model ...\n",
      "../WeightsFinal_0.3_model_weights/Weights_replay_500/2018-01/best_model_epoch_10.pt\n",
      "../WeightsFinal_0.3_optimizer_weights/Weights_replay_500/2018-01/best_optimizer_epoch_10.pt\n",
      "Epoch 11 of 500\n"
     ]
    },
    {
     "name": "stderr",
     "output_type": "stream",
     "text": [
      "100%|██████████| 9/9 [00:01<00:00,  5.42it/s]\n",
      "100%|██████████| 2/2 [00:00<00:00, 12.78it/s]\n",
      "  0%|          | 0/9 [00:00<?, ?it/s]"
     ]
    },
    {
     "name": "stdout",
     "output_type": "stream",
     "text": [
      "Train Loss: 0.3131, Train Acc: 0.8626\n",
      "Val Loss: 0.2557, Val Acc: 0.8990\n",
      "Validation loss decreased (0.275509 --> 0.255701).  Saving model ...\n",
      "../WeightsFinal_0.3_model_weights/Weights_replay_500/2018-01/best_model_epoch_11.pt\n",
      "../WeightsFinal_0.3_optimizer_weights/Weights_replay_500/2018-01/best_optimizer_epoch_11.pt\n",
      "Epoch 12 of 500\n"
     ]
    },
    {
     "name": "stderr",
     "output_type": "stream",
     "text": [
      "100%|██████████| 9/9 [00:01<00:00,  5.24it/s]\n",
      "100%|██████████| 2/2 [00:00<00:00, 13.34it/s]\n",
      "  0%|          | 0/9 [00:00<?, ?it/s]"
     ]
    },
    {
     "name": "stdout",
     "output_type": "stream",
     "text": [
      "Train Loss: 0.2928, Train Acc: 0.8725\n",
      "Val Loss: 0.2383, Val Acc: 0.9042\n",
      "Validation loss decreased (0.255701 --> 0.238286).  Saving model ...\n",
      "../WeightsFinal_0.3_model_weights/Weights_replay_500/2018-01/best_model_epoch_12.pt\n",
      "../WeightsFinal_0.3_optimizer_weights/Weights_replay_500/2018-01/best_optimizer_epoch_12.pt\n",
      "Epoch 13 of 500\n"
     ]
    },
    {
     "name": "stderr",
     "output_type": "stream",
     "text": [
      "100%|██████████| 9/9 [00:01<00:00,  4.57it/s]\n",
      "100%|██████████| 2/2 [00:00<00:00, 13.16it/s]\n",
      "  0%|          | 0/9 [00:00<?, ?it/s]"
     ]
    },
    {
     "name": "stdout",
     "output_type": "stream",
     "text": [
      "Train Loss: 0.2747, Train Acc: 0.8826\n",
      "Val Loss: 0.2297, Val Acc: 0.9093\n",
      "Validation loss decreased (0.238286 --> 0.229708).  Saving model ...\n",
      "../WeightsFinal_0.3_model_weights/Weights_replay_500/2018-01/best_model_epoch_13.pt\n",
      "../WeightsFinal_0.3_optimizer_weights/Weights_replay_500/2018-01/best_optimizer_epoch_13.pt\n",
      "Epoch 14 of 500\n"
     ]
    },
    {
     "name": "stderr",
     "output_type": "stream",
     "text": [
      "100%|██████████| 9/9 [00:01<00:00,  5.81it/s]\n",
      "100%|██████████| 2/2 [00:00<00:00,  7.73it/s]\n",
      "  0%|          | 0/9 [00:00<?, ?it/s]"
     ]
    },
    {
     "name": "stdout",
     "output_type": "stream",
     "text": [
      "Train Loss: 0.2597, Train Acc: 0.8895\n",
      "Val Loss: 0.2229, Val Acc: 0.9108\n",
      "Validation loss decreased (0.229708 --> 0.222937).  Saving model ...\n",
      "../WeightsFinal_0.3_model_weights/Weights_replay_500/2018-01/best_model_epoch_14.pt\n",
      "../WeightsFinal_0.3_optimizer_weights/Weights_replay_500/2018-01/best_optimizer_epoch_14.pt\n",
      "Epoch 15 of 500\n"
     ]
    },
    {
     "name": "stderr",
     "output_type": "stream",
     "text": [
      "100%|██████████| 9/9 [00:01<00:00,  5.73it/s]\n",
      "100%|██████████| 2/2 [00:00<00:00, 14.14it/s]\n",
      "  0%|          | 0/9 [00:00<?, ?it/s]"
     ]
    },
    {
     "name": "stdout",
     "output_type": "stream",
     "text": [
      "Train Loss: 0.2521, Train Acc: 0.8937\n",
      "Val Loss: 0.2188, Val Acc: 0.9114\n",
      "Validation loss decreased (0.222937 --> 0.218821).  Saving model ...\n",
      "../WeightsFinal_0.3_model_weights/Weights_replay_500/2018-01/best_model_epoch_15.pt\n",
      "../WeightsFinal_0.3_optimizer_weights/Weights_replay_500/2018-01/best_optimizer_epoch_15.pt\n",
      "Epoch 16 of 500\n"
     ]
    },
    {
     "name": "stderr",
     "output_type": "stream",
     "text": [
      "100%|██████████| 9/9 [00:01<00:00,  5.08it/s]\n",
      "100%|██████████| 2/2 [00:00<00:00, 14.54it/s]\n",
      "  0%|          | 0/9 [00:00<?, ?it/s]"
     ]
    },
    {
     "name": "stdout",
     "output_type": "stream",
     "text": [
      "Train Loss: 0.2404, Train Acc: 0.8994\n",
      "Val Loss: 0.2147, Val Acc: 0.9127\n",
      "Validation loss decreased (0.218821 --> 0.214684).  Saving model ...\n",
      "../WeightsFinal_0.3_model_weights/Weights_replay_500/2018-01/best_model_epoch_16.pt\n",
      "../WeightsFinal_0.3_optimizer_weights/Weights_replay_500/2018-01/best_optimizer_epoch_16.pt\n",
      "Epoch 17 of 500\n"
     ]
    },
    {
     "name": "stderr",
     "output_type": "stream",
     "text": [
      "100%|██████████| 9/9 [00:01<00:00,  5.11it/s]\n",
      "100%|██████████| 2/2 [00:00<00:00, 11.93it/s]\n",
      "  0%|          | 0/9 [00:00<?, ?it/s]"
     ]
    },
    {
     "name": "stdout",
     "output_type": "stream",
     "text": [
      "Train Loss: 0.2337, Train Acc: 0.9029\n",
      "Val Loss: 0.2078, Val Acc: 0.9187\n",
      "Validation loss decreased (0.214684 --> 0.207848).  Saving model ...\n",
      "../WeightsFinal_0.3_model_weights/Weights_replay_500/2018-01/best_model_epoch_17.pt\n",
      "../WeightsFinal_0.3_optimizer_weights/Weights_replay_500/2018-01/best_optimizer_epoch_17.pt\n",
      "Epoch 18 of 500\n"
     ]
    },
    {
     "name": "stderr",
     "output_type": "stream",
     "text": [
      "100%|██████████| 9/9 [00:01<00:00,  5.13it/s]\n",
      "100%|██████████| 2/2 [00:00<00:00,  6.27it/s]\n",
      "  0%|          | 0/9 [00:00<?, ?it/s]"
     ]
    },
    {
     "name": "stdout",
     "output_type": "stream",
     "text": [
      "Train Loss: 0.2226, Train Acc: 0.9076\n",
      "Val Loss: 0.2056, Val Acc: 0.9200\n",
      "Validation loss decreased (0.207848 --> 0.205630).  Saving model ...\n",
      "../WeightsFinal_0.3_model_weights/Weights_replay_500/2018-01/best_model_epoch_18.pt\n",
      "../WeightsFinal_0.3_optimizer_weights/Weights_replay_500/2018-01/best_optimizer_epoch_18.pt\n",
      "Epoch 19 of 500\n"
     ]
    },
    {
     "name": "stderr",
     "output_type": "stream",
     "text": [
      "100%|██████████| 9/9 [00:01<00:00,  5.20it/s]\n",
      "100%|██████████| 2/2 [00:00<00:00, 13.36it/s]\n",
      "  0%|          | 0/9 [00:00<?, ?it/s]"
     ]
    },
    {
     "name": "stdout",
     "output_type": "stream",
     "text": [
      "Train Loss: 0.2194, Train Acc: 0.9122\n",
      "Val Loss: 0.1999, Val Acc: 0.9236\n",
      "Validation loss decreased (0.205630 --> 0.199885).  Saving model ...\n",
      "../WeightsFinal_0.3_model_weights/Weights_replay_500/2018-01/best_model_epoch_19.pt\n",
      "../WeightsFinal_0.3_optimizer_weights/Weights_replay_500/2018-01/best_optimizer_epoch_19.pt\n",
      "Epoch 20 of 500\n"
     ]
    },
    {
     "name": "stderr",
     "output_type": "stream",
     "text": [
      "100%|██████████| 9/9 [00:01<00:00,  5.43it/s]\n",
      "100%|██████████| 2/2 [00:00<00:00, 12.62it/s]\n",
      "  0%|          | 0/9 [00:00<?, ?it/s]"
     ]
    },
    {
     "name": "stdout",
     "output_type": "stream",
     "text": [
      "Train Loss: 0.2092, Train Acc: 0.9157\n",
      "Val Loss: 0.1995, Val Acc: 0.9214\n",
      "Validation loss decreased (0.199885 --> 0.199505).  Saving model ...\n",
      "../WeightsFinal_0.3_model_weights/Weights_replay_500/2018-01/best_model_epoch_20.pt\n",
      "../WeightsFinal_0.3_optimizer_weights/Weights_replay_500/2018-01/best_optimizer_epoch_20.pt\n",
      "Epoch 21 of 500\n"
     ]
    },
    {
     "name": "stderr",
     "output_type": "stream",
     "text": [
      "100%|██████████| 9/9 [00:01<00:00,  5.72it/s]\n",
      "100%|██████████| 2/2 [00:00<00:00,  9.90it/s]\n",
      "  0%|          | 0/9 [00:00<?, ?it/s]"
     ]
    },
    {
     "name": "stdout",
     "output_type": "stream",
     "text": [
      "Train Loss: 0.2055, Train Acc: 0.9162\n",
      "Val Loss: 0.1950, Val Acc: 0.9246\n",
      "Validation loss decreased (0.199505 --> 0.195023).  Saving model ...\n",
      "../WeightsFinal_0.3_model_weights/Weights_replay_500/2018-01/best_model_epoch_21.pt\n",
      "../WeightsFinal_0.3_optimizer_weights/Weights_replay_500/2018-01/best_optimizer_epoch_21.pt\n",
      "Epoch 22 of 500\n"
     ]
    },
    {
     "name": "stderr",
     "output_type": "stream",
     "text": [
      "100%|██████████| 9/9 [00:01<00:00,  5.35it/s]\n",
      "100%|██████████| 2/2 [00:00<00:00,  6.81it/s]\n",
      "  0%|          | 0/9 [00:00<?, ?it/s]"
     ]
    },
    {
     "name": "stdout",
     "output_type": "stream",
     "text": [
      "Train Loss: 0.2001, Train Acc: 0.9194\n",
      "Val Loss: 0.1946, Val Acc: 0.9237\n",
      "Validation loss decreased (0.195023 --> 0.194626).  Saving model ...\n",
      "../WeightsFinal_0.3_model_weights/Weights_replay_500/2018-01/best_model_epoch_22.pt\n",
      "../WeightsFinal_0.3_optimizer_weights/Weights_replay_500/2018-01/best_optimizer_epoch_22.pt\n",
      "Epoch 23 of 500\n"
     ]
    },
    {
     "name": "stderr",
     "output_type": "stream",
     "text": [
      "100%|██████████| 9/9 [00:01<00:00,  5.45it/s]\n",
      "100%|██████████| 2/2 [00:00<00:00,  8.33it/s]\n",
      "  0%|          | 0/9 [00:00<?, ?it/s]"
     ]
    },
    {
     "name": "stdout",
     "output_type": "stream",
     "text": [
      "Train Loss: 0.1982, Train Acc: 0.9198\n",
      "Val Loss: 0.1875, Val Acc: 0.9253\n",
      "Validation loss decreased (0.194626 --> 0.187541).  Saving model ...\n",
      "../WeightsFinal_0.3_model_weights/Weights_replay_500/2018-01/best_model_epoch_23.pt\n",
      "../WeightsFinal_0.3_optimizer_weights/Weights_replay_500/2018-01/best_optimizer_epoch_23.pt\n",
      "Epoch 24 of 500\n"
     ]
    },
    {
     "name": "stderr",
     "output_type": "stream",
     "text": [
      "100%|██████████| 9/9 [00:01<00:00,  5.38it/s]\n",
      "100%|██████████| 2/2 [00:00<00:00, 13.05it/s]\n",
      "  0%|          | 0/9 [00:00<?, ?it/s]"
     ]
    },
    {
     "name": "stdout",
     "output_type": "stream",
     "text": [
      "Train Loss: 0.1903, Train Acc: 0.9234\n",
      "Val Loss: 0.1903, Val Acc: 0.9234\n",
      "EarlyStopping counter: 1 out of 5\n",
      "Epoch 25 of 500\n"
     ]
    },
    {
     "name": "stderr",
     "output_type": "stream",
     "text": [
      "100%|██████████| 9/9 [00:01<00:00,  5.64it/s]\n",
      "100%|██████████| 2/2 [00:00<00:00,  9.82it/s]\n",
      "  0%|          | 0/9 [00:00<?, ?it/s]"
     ]
    },
    {
     "name": "stdout",
     "output_type": "stream",
     "text": [
      "Train Loss: 0.1874, Train Acc: 0.9247\n",
      "Val Loss: 0.1862, Val Acc: 0.9239\n",
      "Validation loss decreased (0.187541 --> 0.186160).  Saving model ...\n",
      "../WeightsFinal_0.3_model_weights/Weights_replay_500/2018-01/best_model_epoch_25.pt\n",
      "../WeightsFinal_0.3_optimizer_weights/Weights_replay_500/2018-01/best_optimizer_epoch_25.pt\n",
      "Epoch 26 of 500\n"
     ]
    },
    {
     "name": "stderr",
     "output_type": "stream",
     "text": [
      "100%|██████████| 9/9 [00:01<00:00,  5.25it/s]\n",
      "100%|██████████| 2/2 [00:00<00:00,  6.97it/s]\n",
      "  0%|          | 0/9 [00:00<?, ?it/s]"
     ]
    },
    {
     "name": "stdout",
     "output_type": "stream",
     "text": [
      "Train Loss: 0.1832, Train Acc: 0.9268\n",
      "Val Loss: 0.1846, Val Acc: 0.9249\n",
      "Validation loss decreased (0.186160 --> 0.184597).  Saving model ...\n",
      "../WeightsFinal_0.3_model_weights/Weights_replay_500/2018-01/best_model_epoch_26.pt\n",
      "../WeightsFinal_0.3_optimizer_weights/Weights_replay_500/2018-01/best_optimizer_epoch_26.pt\n",
      "Epoch 27 of 500\n"
     ]
    },
    {
     "name": "stderr",
     "output_type": "stream",
     "text": [
      "100%|██████████| 9/9 [00:01<00:00,  4.69it/s]\n",
      "100%|██████████| 2/2 [00:00<00:00, 10.01it/s]\n",
      "  0%|          | 0/9 [00:00<?, ?it/s]"
     ]
    },
    {
     "name": "stdout",
     "output_type": "stream",
     "text": [
      "Train Loss: 0.1794, Train Acc: 0.9286\n",
      "Val Loss: 0.1831, Val Acc: 0.9222\n",
      "Validation loss decreased (0.184597 --> 0.183105).  Saving model ...\n",
      "../WeightsFinal_0.3_model_weights/Weights_replay_500/2018-01/best_model_epoch_27.pt\n",
      "../WeightsFinal_0.3_optimizer_weights/Weights_replay_500/2018-01/best_optimizer_epoch_27.pt\n",
      "Epoch 28 of 500\n"
     ]
    },
    {
     "name": "stderr",
     "output_type": "stream",
     "text": [
      "100%|██████████| 9/9 [00:01<00:00,  4.86it/s]\n",
      "100%|██████████| 2/2 [00:00<00:00, 12.56it/s]\n",
      "  0%|          | 0/9 [00:00<?, ?it/s]"
     ]
    },
    {
     "name": "stdout",
     "output_type": "stream",
     "text": [
      "Train Loss: 0.1784, Train Acc: 0.9290\n",
      "Val Loss: 0.1815, Val Acc: 0.9231\n",
      "Validation loss decreased (0.183105 --> 0.181503).  Saving model ...\n",
      "../WeightsFinal_0.3_model_weights/Weights_replay_500/2018-01/best_model_epoch_28.pt\n",
      "../WeightsFinal_0.3_optimizer_weights/Weights_replay_500/2018-01/best_optimizer_epoch_28.pt\n",
      "Epoch 29 of 500\n"
     ]
    },
    {
     "name": "stderr",
     "output_type": "stream",
     "text": [
      "100%|██████████| 9/9 [00:01<00:00,  4.50it/s]\n",
      "100%|██████████| 2/2 [00:00<00:00,  6.54it/s]\n",
      "  0%|          | 0/9 [00:00<?, ?it/s]"
     ]
    },
    {
     "name": "stdout",
     "output_type": "stream",
     "text": [
      "Train Loss: 0.1737, Train Acc: 0.9306\n",
      "Val Loss: 0.1810, Val Acc: 0.9258\n",
      "Validation loss decreased (0.181503 --> 0.181008).  Saving model ...\n",
      "../WeightsFinal_0.3_model_weights/Weights_replay_500/2018-01/best_model_epoch_29.pt\n",
      "../WeightsFinal_0.3_optimizer_weights/Weights_replay_500/2018-01/best_optimizer_epoch_29.pt\n",
      "Epoch 30 of 500\n"
     ]
    },
    {
     "name": "stderr",
     "output_type": "stream",
     "text": [
      "100%|██████████| 9/9 [00:01<00:00,  5.37it/s]\n",
      "100%|██████████| 2/2 [00:00<00:00, 10.75it/s]\n"
     ]
    },
    {
     "name": "stdout",
     "output_type": "stream",
     "text": [
      "Train Loss: 0.1705, Train Acc: 0.9320\n",
      "Val Loss: 0.1789, Val Acc: 0.9286\n",
      "Validation loss decreased (0.181008 --> 0.178880).  Saving model ...\n",
      "../WeightsFinal_0.3_model_weights/Weights_replay_500/2018-01/best_model_epoch_30.pt\n"
     ]
    },
    {
     "name": "stderr",
     "output_type": "stream",
     "text": [
      "\r",
      "  0%|          | 0/9 [00:00<?, ?it/s]"
     ]
    },
    {
     "name": "stdout",
     "output_type": "stream",
     "text": [
      "../WeightsFinal_0.3_optimizer_weights/Weights_replay_500/2018-01/best_optimizer_epoch_30.pt\n",
      "Epoch 31 of 500\n"
     ]
    },
    {
     "name": "stderr",
     "output_type": "stream",
     "text": [
      "100%|██████████| 9/9 [00:01<00:00,  4.96it/s]\n",
      "100%|██████████| 2/2 [00:00<00:00, 12.71it/s]\n",
      "  0%|          | 0/9 [00:00<?, ?it/s]"
     ]
    },
    {
     "name": "stdout",
     "output_type": "stream",
     "text": [
      "Train Loss: 0.1674, Train Acc: 0.9348\n",
      "Val Loss: 0.1791, Val Acc: 0.9264\n",
      "EarlyStopping counter: 1 out of 5\n",
      "Epoch 32 of 500\n"
     ]
    },
    {
     "name": "stderr",
     "output_type": "stream",
     "text": [
      "100%|██████████| 9/9 [00:01<00:00,  5.53it/s]\n",
      "100%|██████████| 2/2 [00:00<00:00, 12.17it/s]\n",
      "  0%|          | 0/9 [00:00<?, ?it/s]"
     ]
    },
    {
     "name": "stdout",
     "output_type": "stream",
     "text": [
      "Train Loss: 0.1632, Train Acc: 0.9364\n",
      "Val Loss: 0.1724, Val Acc: 0.9324\n",
      "Validation loss decreased (0.178880 --> 0.172424).  Saving model ...\n",
      "../WeightsFinal_0.3_model_weights/Weights_replay_500/2018-01/best_model_epoch_32.pt\n",
      "../WeightsFinal_0.3_optimizer_weights/Weights_replay_500/2018-01/best_optimizer_epoch_32.pt\n",
      "Epoch 33 of 500\n"
     ]
    },
    {
     "name": "stderr",
     "output_type": "stream",
     "text": [
      "100%|██████████| 9/9 [00:01<00:00,  4.67it/s]\n",
      "100%|██████████| 2/2 [00:00<00:00,  6.31it/s]\n",
      "  0%|          | 0/9 [00:00<?, ?it/s]"
     ]
    },
    {
     "name": "stdout",
     "output_type": "stream",
     "text": [
      "Train Loss: 0.1597, Train Acc: 0.9382\n",
      "Val Loss: 0.1717, Val Acc: 0.9303\n",
      "Validation loss decreased (0.172424 --> 0.171675).  Saving model ...\n",
      "../WeightsFinal_0.3_model_weights/Weights_replay_500/2018-01/best_model_epoch_33.pt\n",
      "../WeightsFinal_0.3_optimizer_weights/Weights_replay_500/2018-01/best_optimizer_epoch_33.pt\n",
      "Epoch 34 of 500\n"
     ]
    },
    {
     "name": "stderr",
     "output_type": "stream",
     "text": [
      "100%|██████████| 9/9 [00:01<00:00,  5.29it/s]\n",
      "100%|██████████| 2/2 [00:00<00:00, 12.38it/s]\n",
      "  0%|          | 0/9 [00:00<?, ?it/s]"
     ]
    },
    {
     "name": "stdout",
     "output_type": "stream",
     "text": [
      "Train Loss: 0.1603, Train Acc: 0.9367\n",
      "Val Loss: 0.1709, Val Acc: 0.9272\n",
      "Validation loss decreased (0.171675 --> 0.170921).  Saving model ...\n",
      "../WeightsFinal_0.3_model_weights/Weights_replay_500/2018-01/best_model_epoch_34.pt\n",
      "../WeightsFinal_0.3_optimizer_weights/Weights_replay_500/2018-01/best_optimizer_epoch_34.pt\n",
      "Epoch 35 of 500\n"
     ]
    },
    {
     "name": "stderr",
     "output_type": "stream",
     "text": [
      "100%|██████████| 9/9 [00:01<00:00,  5.44it/s]\n",
      "100%|██████████| 2/2 [00:00<00:00, 11.07it/s]\n",
      "  0%|          | 0/9 [00:00<?, ?it/s]"
     ]
    },
    {
     "name": "stdout",
     "output_type": "stream",
     "text": [
      "Train Loss: 0.1577, Train Acc: 0.9380\n",
      "Val Loss: 0.1686, Val Acc: 0.9310\n",
      "Validation loss decreased (0.170921 --> 0.168609).  Saving model ...\n",
      "../WeightsFinal_0.3_model_weights/Weights_replay_500/2018-01/best_model_epoch_35.pt\n",
      "../WeightsFinal_0.3_optimizer_weights/Weights_replay_500/2018-01/best_optimizer_epoch_35.pt\n",
      "Epoch 36 of 500\n"
     ]
    },
    {
     "name": "stderr",
     "output_type": "stream",
     "text": [
      "100%|██████████| 9/9 [00:01<00:00,  5.41it/s]\n",
      "100%|██████████| 2/2 [00:00<00:00, 12.76it/s]\n",
      "  0%|          | 0/9 [00:00<?, ?it/s]"
     ]
    },
    {
     "name": "stdout",
     "output_type": "stream",
     "text": [
      "Train Loss: 0.1552, Train Acc: 0.9394\n",
      "Val Loss: 0.1699, Val Acc: 0.9306\n",
      "EarlyStopping counter: 1 out of 5\n",
      "Epoch 37 of 500\n"
     ]
    },
    {
     "name": "stderr",
     "output_type": "stream",
     "text": [
      "100%|██████████| 9/9 [00:01<00:00,  4.84it/s]\n",
      "100%|██████████| 2/2 [00:00<00:00,  7.19it/s]\n",
      "  0%|          | 0/9 [00:00<?, ?it/s]"
     ]
    },
    {
     "name": "stdout",
     "output_type": "stream",
     "text": [
      "Train Loss: 0.1536, Train Acc: 0.9392\n",
      "Val Loss: 0.1687, Val Acc: 0.9370\n",
      "EarlyStopping counter: 2 out of 5\n",
      "Epoch 38 of 500\n"
     ]
    },
    {
     "name": "stderr",
     "output_type": "stream",
     "text": [
      "100%|██████████| 9/9 [00:01<00:00,  5.84it/s]\n",
      "100%|██████████| 2/2 [00:00<00:00, 11.35it/s]\n",
      "  0%|          | 0/9 [00:00<?, ?it/s]"
     ]
    },
    {
     "name": "stdout",
     "output_type": "stream",
     "text": [
      "Train Loss: 0.1482, Train Acc: 0.9425\n",
      "Val Loss: 0.1647, Val Acc: 0.9369\n",
      "Validation loss decreased (0.168609 --> 0.164684).  Saving model ...\n",
      "../WeightsFinal_0.3_model_weights/Weights_replay_500/2018-01/best_model_epoch_38.pt\n",
      "../WeightsFinal_0.3_optimizer_weights/Weights_replay_500/2018-01/best_optimizer_epoch_38.pt\n",
      "Epoch 39 of 500\n"
     ]
    },
    {
     "name": "stderr",
     "output_type": "stream",
     "text": [
      "100%|██████████| 9/9 [00:01<00:00,  5.13it/s]\n",
      "100%|██████████| 2/2 [00:00<00:00, 13.01it/s]\n",
      "  0%|          | 0/9 [00:00<?, ?it/s]"
     ]
    },
    {
     "name": "stdout",
     "output_type": "stream",
     "text": [
      "Train Loss: 0.1464, Train Acc: 0.9431\n",
      "Val Loss: 0.1666, Val Acc: 0.9346\n",
      "EarlyStopping counter: 1 out of 5\n",
      "Epoch 40 of 500\n"
     ]
    },
    {
     "name": "stderr",
     "output_type": "stream",
     "text": [
      "100%|██████████| 9/9 [00:01<00:00,  4.95it/s]\n",
      "100%|██████████| 2/2 [00:00<00:00, 12.81it/s]\n",
      "  0%|          | 0/9 [00:00<?, ?it/s]"
     ]
    },
    {
     "name": "stdout",
     "output_type": "stream",
     "text": [
      "Train Loss: 0.1457, Train Acc: 0.9426\n",
      "Val Loss: 0.1637, Val Acc: 0.9344\n",
      "Validation loss decreased (0.164684 --> 0.163701).  Saving model ...\n",
      "../WeightsFinal_0.3_model_weights/Weights_replay_500/2018-01/best_model_epoch_40.pt\n",
      "../WeightsFinal_0.3_optimizer_weights/Weights_replay_500/2018-01/best_optimizer_epoch_40.pt\n",
      "Epoch 41 of 500\n"
     ]
    },
    {
     "name": "stderr",
     "output_type": "stream",
     "text": [
      "100%|██████████| 9/9 [00:01<00:00,  5.09it/s]\n",
      "100%|██████████| 2/2 [00:00<00:00,  6.59it/s]\n",
      "  0%|          | 0/9 [00:00<?, ?it/s]"
     ]
    },
    {
     "name": "stdout",
     "output_type": "stream",
     "text": [
      "Train Loss: 0.1436, Train Acc: 0.9432\n",
      "Val Loss: 0.1598, Val Acc: 0.9378\n",
      "Validation loss decreased (0.163701 --> 0.159849).  Saving model ...\n",
      "../WeightsFinal_0.3_model_weights/Weights_replay_500/2018-01/best_model_epoch_41.pt\n",
      "../WeightsFinal_0.3_optimizer_weights/Weights_replay_500/2018-01/best_optimizer_epoch_41.pt\n",
      "Epoch 42 of 500\n"
     ]
    },
    {
     "name": "stderr",
     "output_type": "stream",
     "text": [
      "100%|██████████| 9/9 [00:01<00:00,  4.87it/s]\n",
      "100%|██████████| 2/2 [00:00<00:00, 12.14it/s]\n",
      "  0%|          | 0/9 [00:00<?, ?it/s]"
     ]
    },
    {
     "name": "stdout",
     "output_type": "stream",
     "text": [
      "Train Loss: 0.1419, Train Acc: 0.9460\n",
      "Val Loss: 0.1599, Val Acc: 0.9361\n",
      "EarlyStopping counter: 1 out of 5\n",
      "Epoch 43 of 500\n"
     ]
    },
    {
     "name": "stderr",
     "output_type": "stream",
     "text": [
      "100%|██████████| 9/9 [00:01<00:00,  5.61it/s]\n",
      "100%|██████████| 2/2 [00:00<00:00, 11.42it/s]\n",
      "  0%|          | 0/9 [00:00<?, ?it/s]"
     ]
    },
    {
     "name": "stdout",
     "output_type": "stream",
     "text": [
      "Train Loss: 0.1390, Train Acc: 0.9450\n",
      "Val Loss: 0.1625, Val Acc: 0.9351\n",
      "EarlyStopping counter: 2 out of 5\n",
      "Epoch 44 of 500\n"
     ]
    },
    {
     "name": "stderr",
     "output_type": "stream",
     "text": [
      "100%|██████████| 9/9 [00:01<00:00,  5.05it/s]\n",
      "100%|██████████| 2/2 [00:00<00:00, 12.68it/s]\n",
      "  0%|          | 0/9 [00:00<?, ?it/s]"
     ]
    },
    {
     "name": "stdout",
     "output_type": "stream",
     "text": [
      "Train Loss: 0.1379, Train Acc: 0.9471\n",
      "Val Loss: 0.1604, Val Acc: 0.9382\n",
      "EarlyStopping counter: 3 out of 5\n",
      "Epoch 45 of 500\n"
     ]
    },
    {
     "name": "stderr",
     "output_type": "stream",
     "text": [
      "100%|██████████| 9/9 [00:01<00:00,  5.35it/s]\n",
      "100%|██████████| 2/2 [00:00<00:00,  7.05it/s]\n",
      "  0%|          | 0/9 [00:00<?, ?it/s]"
     ]
    },
    {
     "name": "stdout",
     "output_type": "stream",
     "text": [
      "Train Loss: 0.1357, Train Acc: 0.9476\n",
      "Val Loss: 0.1583, Val Acc: 0.9354\n",
      "Validation loss decreased (0.159849 --> 0.158300).  Saving model ...\n",
      "../WeightsFinal_0.3_model_weights/Weights_replay_500/2018-01/best_model_epoch_45.pt\n",
      "../WeightsFinal_0.3_optimizer_weights/Weights_replay_500/2018-01/best_optimizer_epoch_45.pt\n",
      "Epoch 46 of 500\n"
     ]
    },
    {
     "name": "stderr",
     "output_type": "stream",
     "text": [
      "100%|██████████| 9/9 [00:01<00:00,  4.95it/s]\n",
      "100%|██████████| 2/2 [00:00<00:00, 17.15it/s]\n",
      "  0%|          | 0/9 [00:00<?, ?it/s]"
     ]
    },
    {
     "name": "stdout",
     "output_type": "stream",
     "text": [
      "Train Loss: 0.1326, Train Acc: 0.9482\n",
      "Val Loss: 0.1582, Val Acc: 0.9363\n",
      "Validation loss decreased (0.158300 --> 0.158216).  Saving model ...\n",
      "../WeightsFinal_0.3_model_weights/Weights_replay_500/2018-01/best_model_epoch_46.pt\n",
      "../WeightsFinal_0.3_optimizer_weights/Weights_replay_500/2018-01/best_optimizer_epoch_46.pt\n",
      "Epoch 47 of 500\n"
     ]
    },
    {
     "name": "stderr",
     "output_type": "stream",
     "text": [
      "100%|██████████| 9/9 [00:01<00:00,  5.77it/s]\n",
      "100%|██████████| 2/2 [00:00<00:00, 10.57it/s]\n",
      "  0%|          | 0/9 [00:00<?, ?it/s]"
     ]
    },
    {
     "name": "stdout",
     "output_type": "stream",
     "text": [
      "Train Loss: 0.1272, Train Acc: 0.9506\n",
      "Val Loss: 0.1549, Val Acc: 0.9391\n",
      "Validation loss decreased (0.158216 --> 0.154921).  Saving model ...\n",
      "../WeightsFinal_0.3_model_weights/Weights_replay_500/2018-01/best_model_epoch_47.pt\n",
      "../WeightsFinal_0.3_optimizer_weights/Weights_replay_500/2018-01/best_optimizer_epoch_47.pt\n",
      "Epoch 48 of 500\n"
     ]
    },
    {
     "name": "stderr",
     "output_type": "stream",
     "text": [
      "100%|██████████| 9/9 [00:01<00:00,  4.56it/s]\n",
      "100%|██████████| 2/2 [00:00<00:00,  7.01it/s]\n",
      "  0%|          | 0/9 [00:00<?, ?it/s]"
     ]
    },
    {
     "name": "stdout",
     "output_type": "stream",
     "text": [
      "Train Loss: 0.1287, Train Acc: 0.9499\n",
      "Val Loss: 0.1558, Val Acc: 0.9390\n",
      "EarlyStopping counter: 1 out of 5\n",
      "Epoch 49 of 500\n"
     ]
    },
    {
     "name": "stderr",
     "output_type": "stream",
     "text": [
      "100%|██████████| 9/9 [00:01<00:00,  4.87it/s]\n",
      "100%|██████████| 2/2 [00:00<00:00, 11.84it/s]\n",
      "  0%|          | 0/9 [00:00<?, ?it/s]"
     ]
    },
    {
     "name": "stdout",
     "output_type": "stream",
     "text": [
      "Train Loss: 0.1277, Train Acc: 0.9500\n",
      "Val Loss: 0.1565, Val Acc: 0.9394\n",
      "EarlyStopping counter: 2 out of 5\n",
      "Epoch 50 of 500\n"
     ]
    },
    {
     "name": "stderr",
     "output_type": "stream",
     "text": [
      "100%|██████████| 9/9 [00:01<00:00,  5.13it/s]\n",
      "100%|██████████| 2/2 [00:00<00:00, 12.72it/s]\n",
      "  0%|          | 0/9 [00:00<?, ?it/s]"
     ]
    },
    {
     "name": "stdout",
     "output_type": "stream",
     "text": [
      "Train Loss: 0.1271, Train Acc: 0.9516\n",
      "Val Loss: 0.1569, Val Acc: 0.9394\n",
      "EarlyStopping counter: 3 out of 5\n",
      "Epoch 51 of 500\n"
     ]
    },
    {
     "name": "stderr",
     "output_type": "stream",
     "text": [
      "100%|██████████| 9/9 [00:01<00:00,  5.55it/s]\n",
      "100%|██████████| 2/2 [00:00<00:00, 12.39it/s]\n",
      "  0%|          | 0/9 [00:00<?, ?it/s]"
     ]
    },
    {
     "name": "stdout",
     "output_type": "stream",
     "text": [
      "Train Loss: 0.1266, Train Acc: 0.9520\n",
      "Val Loss: 0.1544, Val Acc: 0.9408\n",
      "Validation loss decreased (0.154921 --> 0.154434).  Saving model ...\n",
      "../WeightsFinal_0.3_model_weights/Weights_replay_500/2018-01/best_model_epoch_51.pt\n",
      "../WeightsFinal_0.3_optimizer_weights/Weights_replay_500/2018-01/best_optimizer_epoch_51.pt\n",
      "Epoch 52 of 500\n"
     ]
    },
    {
     "name": "stderr",
     "output_type": "stream",
     "text": [
      "100%|██████████| 9/9 [00:01<00:00,  5.43it/s]\n",
      "100%|██████████| 2/2 [00:00<00:00,  6.69it/s]\n",
      "  0%|          | 0/9 [00:00<?, ?it/s]"
     ]
    },
    {
     "name": "stdout",
     "output_type": "stream",
     "text": [
      "Train Loss: 0.1206, Train Acc: 0.9544\n",
      "Val Loss: 0.1555, Val Acc: 0.9403\n",
      "EarlyStopping counter: 1 out of 5\n",
      "Epoch 53 of 500\n"
     ]
    },
    {
     "name": "stderr",
     "output_type": "stream",
     "text": [
      "100%|██████████| 9/9 [00:01<00:00,  5.44it/s]\n",
      "100%|██████████| 2/2 [00:00<00:00, 11.07it/s]\n",
      "  0%|          | 0/9 [00:00<?, ?it/s]"
     ]
    },
    {
     "name": "stdout",
     "output_type": "stream",
     "text": [
      "Train Loss: 0.1255, Train Acc: 0.9513\n",
      "Val Loss: 0.1569, Val Acc: 0.9399\n",
      "EarlyStopping counter: 2 out of 5\n",
      "Epoch 54 of 500\n"
     ]
    },
    {
     "name": "stderr",
     "output_type": "stream",
     "text": [
      "100%|██████████| 9/9 [00:01<00:00,  5.74it/s]\n",
      "100%|██████████| 2/2 [00:00<00:00, 13.10it/s]\n",
      "  0%|          | 0/9 [00:00<?, ?it/s]"
     ]
    },
    {
     "name": "stdout",
     "output_type": "stream",
     "text": [
      "Train Loss: 0.1201, Train Acc: 0.9533\n",
      "Val Loss: 0.1562, Val Acc: 0.9411\n",
      "EarlyStopping counter: 3 out of 5\n",
      "Epoch 55 of 500\n"
     ]
    },
    {
     "name": "stderr",
     "output_type": "stream",
     "text": [
      "100%|██████████| 9/9 [00:01<00:00,  5.29it/s]\n",
      "100%|██████████| 2/2 [00:00<00:00, 11.83it/s]\n",
      "  0%|          | 0/9 [00:00<?, ?it/s]"
     ]
    },
    {
     "name": "stdout",
     "output_type": "stream",
     "text": [
      "Train Loss: 0.1201, Train Acc: 0.9535\n",
      "Val Loss: 0.1562, Val Acc: 0.9433\n",
      "EarlyStopping counter: 4 out of 5\n",
      "Epoch 56 of 500\n"
     ]
    },
    {
     "name": "stderr",
     "output_type": "stream",
     "text": [
      "100%|██████████| 9/9 [00:01<00:00,  5.46it/s]\n",
      "100%|██████████| 2/2 [00:00<00:00,  5.75it/s]\n",
      "  0%|          | 0/9 [00:00<?, ?it/s]"
     ]
    },
    {
     "name": "stdout",
     "output_type": "stream",
     "text": [
      "Train Loss: 0.1179, Train Acc: 0.9543\n",
      "Val Loss: 0.1524, Val Acc: 0.9414\n",
      "Validation loss decreased (0.154434 --> 0.152414).  Saving model ...\n",
      "../WeightsFinal_0.3_model_weights/Weights_replay_500/2018-01/best_model_epoch_56.pt\n",
      "../WeightsFinal_0.3_optimizer_weights/Weights_replay_500/2018-01/best_optimizer_epoch_56.pt\n",
      "Epoch 57 of 500\n"
     ]
    },
    {
     "name": "stderr",
     "output_type": "stream",
     "text": [
      "100%|██████████| 9/9 [00:01<00:00,  5.64it/s]\n",
      "100%|██████████| 2/2 [00:00<00:00, 12.39it/s]\n",
      "  0%|          | 0/9 [00:00<?, ?it/s]"
     ]
    },
    {
     "name": "stdout",
     "output_type": "stream",
     "text": [
      "Train Loss: 0.1130, Train Acc: 0.9570\n",
      "Val Loss: 0.1529, Val Acc: 0.9462\n",
      "EarlyStopping counter: 1 out of 5\n",
      "Epoch 58 of 500\n"
     ]
    },
    {
     "name": "stderr",
     "output_type": "stream",
     "text": [
      "100%|██████████| 9/9 [00:01<00:00,  5.04it/s]\n",
      "100%|██████████| 2/2 [00:00<00:00, 11.32it/s]\n",
      "  0%|          | 0/9 [00:00<?, ?it/s]"
     ]
    },
    {
     "name": "stdout",
     "output_type": "stream",
     "text": [
      "Train Loss: 0.1129, Train Acc: 0.9577\n",
      "Val Loss: 0.1519, Val Acc: 0.9447\n",
      "Validation loss decreased (0.152414 --> 0.151854).  Saving model ...\n",
      "../WeightsFinal_0.3_model_weights/Weights_replay_500/2018-01/best_model_epoch_58.pt\n",
      "../WeightsFinal_0.3_optimizer_weights/Weights_replay_500/2018-01/best_optimizer_epoch_58.pt\n",
      "Epoch 59 of 500\n"
     ]
    },
    {
     "name": "stderr",
     "output_type": "stream",
     "text": [
      "100%|██████████| 9/9 [00:01<00:00,  5.50it/s]\n",
      "100%|██████████| 2/2 [00:00<00:00, 10.56it/s]\n",
      "  0%|          | 0/9 [00:00<?, ?it/s]"
     ]
    },
    {
     "name": "stdout",
     "output_type": "stream",
     "text": [
      "Train Loss: 0.1130, Train Acc: 0.9567\n",
      "Val Loss: 0.1497, Val Acc: 0.9470\n",
      "Validation loss decreased (0.151854 --> 0.149670).  Saving model ...\n",
      "../WeightsFinal_0.3_model_weights/Weights_replay_500/2018-01/best_model_epoch_59.pt\n",
      "../WeightsFinal_0.3_optimizer_weights/Weights_replay_500/2018-01/best_optimizer_epoch_59.pt\n",
      "Epoch 60 of 500\n"
     ]
    },
    {
     "name": "stderr",
     "output_type": "stream",
     "text": [
      "100%|██████████| 9/9 [00:01<00:00,  5.81it/s]\n",
      "100%|██████████| 2/2 [00:00<00:00,  5.46it/s]\n",
      "  0%|          | 0/9 [00:00<?, ?it/s]"
     ]
    },
    {
     "name": "stdout",
     "output_type": "stream",
     "text": [
      "Train Loss: 0.1139, Train Acc: 0.9564\n",
      "Val Loss: 0.1530, Val Acc: 0.9445\n",
      "EarlyStopping counter: 1 out of 5\n",
      "Epoch 61 of 500\n"
     ]
    },
    {
     "name": "stderr",
     "output_type": "stream",
     "text": [
      "100%|██████████| 9/9 [00:01<00:00,  5.68it/s]\n",
      "100%|██████████| 2/2 [00:00<00:00, 12.08it/s]\n",
      "  0%|          | 0/9 [00:00<?, ?it/s]"
     ]
    },
    {
     "name": "stdout",
     "output_type": "stream",
     "text": [
      "Train Loss: 0.1142, Train Acc: 0.9573\n",
      "Val Loss: 0.1474, Val Acc: 0.9475\n",
      "Validation loss decreased (0.149670 --> 0.147446).  Saving model ...\n",
      "../WeightsFinal_0.3_model_weights/Weights_replay_500/2018-01/best_model_epoch_61.pt\n",
      "../WeightsFinal_0.3_optimizer_weights/Weights_replay_500/2018-01/best_optimizer_epoch_61.pt\n",
      "Epoch 62 of 500\n"
     ]
    },
    {
     "name": "stderr",
     "output_type": "stream",
     "text": [
      "100%|██████████| 9/9 [00:01<00:00,  5.38it/s]\n",
      "100%|██████████| 2/2 [00:00<00:00, 11.59it/s]\n",
      "  0%|          | 0/9 [00:00<?, ?it/s]"
     ]
    },
    {
     "name": "stdout",
     "output_type": "stream",
     "text": [
      "Train Loss: 0.1079, Train Acc: 0.9589\n",
      "Val Loss: 0.1466, Val Acc: 0.9473\n",
      "Validation loss decreased (0.147446 --> 0.146597).  Saving model ...\n",
      "../WeightsFinal_0.3_model_weights/Weights_replay_500/2018-01/best_model_epoch_62.pt\n",
      "../WeightsFinal_0.3_optimizer_weights/Weights_replay_500/2018-01/best_optimizer_epoch_62.pt\n",
      "Epoch 63 of 500\n"
     ]
    },
    {
     "name": "stderr",
     "output_type": "stream",
     "text": [
      "100%|██████████| 9/9 [00:01<00:00,  5.80it/s]\n",
      "100%|██████████| 2/2 [00:00<00:00, 12.95it/s]\n",
      "  0%|          | 0/9 [00:00<?, ?it/s]"
     ]
    },
    {
     "name": "stdout",
     "output_type": "stream",
     "text": [
      "Train Loss: 0.1087, Train Acc: 0.9579\n",
      "Val Loss: 0.1468, Val Acc: 0.9481\n",
      "EarlyStopping counter: 1 out of 5\n",
      "Epoch 64 of 500\n"
     ]
    },
    {
     "name": "stderr",
     "output_type": "stream",
     "text": [
      "100%|██████████| 9/9 [00:01<00:00,  5.03it/s]\n",
      "100%|██████████| 2/2 [00:00<00:00,  6.72it/s]\n",
      "  0%|          | 0/9 [00:00<?, ?it/s]"
     ]
    },
    {
     "name": "stdout",
     "output_type": "stream",
     "text": [
      "Train Loss: 0.1079, Train Acc: 0.9589\n",
      "Val Loss: 0.1463, Val Acc: 0.9501\n",
      "Validation loss decreased (0.146597 --> 0.146329).  Saving model ...\n",
      "../WeightsFinal_0.3_model_weights/Weights_replay_500/2018-01/best_model_epoch_64.pt\n",
      "../WeightsFinal_0.3_optimizer_weights/Weights_replay_500/2018-01/best_optimizer_epoch_64.pt\n",
      "Epoch 65 of 500\n"
     ]
    },
    {
     "name": "stderr",
     "output_type": "stream",
     "text": [
      "100%|██████████| 9/9 [00:01<00:00,  5.58it/s]\n",
      "100%|██████████| 2/2 [00:00<00:00, 11.34it/s]\n",
      "  0%|          | 0/9 [00:00<?, ?it/s]"
     ]
    },
    {
     "name": "stdout",
     "output_type": "stream",
     "text": [
      "Train Loss: 0.0997, Train Acc: 0.9616\n",
      "Val Loss: 0.1519, Val Acc: 0.9396\n",
      "EarlyStopping counter: 1 out of 5\n",
      "Epoch 66 of 500\n"
     ]
    },
    {
     "name": "stderr",
     "output_type": "stream",
     "text": [
      "100%|██████████| 9/9 [00:01<00:00,  5.64it/s]\n",
      "100%|██████████| 2/2 [00:00<00:00, 12.25it/s]\n",
      "  0%|          | 0/9 [00:00<?, ?it/s]"
     ]
    },
    {
     "name": "stdout",
     "output_type": "stream",
     "text": [
      "Train Loss: 0.1047, Train Acc: 0.9594\n",
      "Val Loss: 0.1481, Val Acc: 0.9481\n",
      "EarlyStopping counter: 2 out of 5\n",
      "Epoch 67 of 500\n"
     ]
    },
    {
     "name": "stderr",
     "output_type": "stream",
     "text": [
      "100%|██████████| 9/9 [00:01<00:00,  4.93it/s]\n",
      "100%|██████████| 2/2 [00:00<00:00,  5.52it/s]\n",
      "  0%|          | 0/9 [00:00<?, ?it/s]"
     ]
    },
    {
     "name": "stdout",
     "output_type": "stream",
     "text": [
      "Train Loss: 0.1002, Train Acc: 0.9607\n",
      "Val Loss: 0.1474, Val Acc: 0.9507\n",
      "EarlyStopping counter: 3 out of 5\n",
      "Epoch 68 of 500\n"
     ]
    },
    {
     "name": "stderr",
     "output_type": "stream",
     "text": [
      "100%|██████████| 9/9 [00:01<00:00,  5.80it/s]\n",
      "100%|██████████| 2/2 [00:00<00:00, 11.99it/s]\n",
      "  0%|          | 0/9 [00:00<?, ?it/s]"
     ]
    },
    {
     "name": "stdout",
     "output_type": "stream",
     "text": [
      "Train Loss: 0.1014, Train Acc: 0.9609\n",
      "Val Loss: 0.1469, Val Acc: 0.9508\n",
      "EarlyStopping counter: 4 out of 5\n",
      "Epoch 69 of 500\n"
     ]
    },
    {
     "name": "stderr",
     "output_type": "stream",
     "text": [
      "100%|██████████| 9/9 [00:01<00:00,  5.18it/s]\n",
      "100%|██████████| 2/2 [00:00<00:00,  8.58it/s]\n",
      "  0%|          | 0/2 [00:00<?, ?it/s]"
     ]
    },
    {
     "name": "stdout",
     "output_type": "stream",
     "text": [
      "Train Loss: 0.0998, Train Acc: 0.9623\n",
      "Val Loss: 0.1466, Val Acc: 0.9509\n",
      "EarlyStopping counter: 5 out of 5\n",
      "Early stopping\n",
      "Training time: 2.290 minutes\n",
      "loading best model ../WeightsFinal_0.3_model_weights/Weights_replay_500/2018-01/best_model_epoch_64.pt\n",
      "loading best optimizer ../WeightsFinal_0.3_optimizer_weights/Weights_replay_500/2018-01/best_optimizer_epoch_64.pt\n"
     ]
    },
    {
     "name": "stderr",
     "output_type": "stream",
     "text": [
      "100%|██████████| 2/2 [00:00<00:00,  4.54it/s]\n"
     ]
    },
    {
     "name": "stdout",
     "output_type": "stream",
     "text": [
      "test accuracy 0.9469791650772095 and ROC-AUC 0.9412144702842378\n",
      "Elapsed time 2.4866930047671 mins.\n",
      "\n",
      "\n",
      "2023-01-30 11:54:04 Round 1 ...\n",
      "Current Task 2018-02 w/ 500 samples to Replay per Malware family.\n",
      "X_train (48723, 2381) Y_train (48723,) Y_tr_family (48723,)\n",
      "X_test (11606, 2381) Y_test (11606,) Y_te_family (11606,)\n",
      "Task 2018-02 and #-of new samples stored 48723\n"
     ]
    },
    {
     "name": "stderr",
     "output_type": "stream",
     "text": [
      "\r",
      "  0%|          | 0/1 [00:00<?, ?it/s]"
     ]
    },
    {
     "name": "stdout",
     "output_type": "stream",
     "text": [
      "loading best model ../WeightsFinal_0.3_model_weights/Weights_replay_500/2018-01/best_model_epoch_64.pt\n"
     ]
    },
    {
     "name": "stderr",
     "output_type": "stream",
     "text": [
      "100%|██████████| 1/1 [00:00<00:00,  4.14it/s]\n",
      "100%|██████████| 1/1 [00:00<00:00,  1.78it/s]\n",
      "100%|██████████| 2/2 [00:00<00:00,  2.97it/s]\n",
      "100%|██████████| 1/1 [00:00<00:00,  2.06it/s]\n",
      "100%|██████████| 1/1 [00:00<00:00,  1.84it/s]\n",
      "100%|██████████| 1/1 [00:00<00:00,  4.24it/s]\n",
      "100%|██████████| 1/1 [00:00<00:00,  3.97it/s]\n",
      "100%|██████████| 1/1 [00:00<00:00,  3.83it/s]\n",
      "100%|██████████| 1/1 [00:00<00:00,  3.59it/s]\n",
      "100%|██████████| 1/1 [00:00<00:00,  4.15it/s]\n",
      "100%|██████████| 1/1 [00:00<00:00,  3.94it/s]\n",
      "100%|██████████| 1/1 [00:00<00:00,  1.93it/s]\n",
      "100%|██████████| 1/1 [00:00<00:00,  3.00it/s]\n",
      "100%|██████████| 1/1 [00:00<00:00,  3.68it/s]\n",
      "100%|██████████| 1/1 [00:00<00:00,  3.97it/s]\n",
      "100%|██████████| 1/1 [00:00<00:00,  4.14it/s]\n",
      "100%|██████████| 1/1 [00:00<00:00,  3.71it/s]\n",
      "100%|██████████| 1/1 [00:00<00:00,  3.47it/s]\n",
      "100%|██████████| 1/1 [00:00<00:00,  3.90it/s]\n",
      "100%|██████████| 1/1 [00:00<00:00,  3.65it/s]\n",
      "100%|██████████| 1/1 [00:00<00:00,  3.72it/s]\n"
     ]
    },
    {
     "name": "stdout",
     "output_type": "stream",
     "text": [
      "2023-01-30 11:54:43 Standardizing ...\n"
     ]
    },
    {
     "name": "stderr",
     "output_type": "stream",
     "text": [
      "\r",
      "  0%|          | 0/10 [00:00<?, ?it/s]"
     ]
    },
    {
     "name": "stdout",
     "output_type": "stream",
     "text": [
      "\n",
      "X_train (60296, 2381) Y_train (60296,)\n",
      "\n",
      "2023-01-30 11:54:49 Training ...\n",
      "Epoch 1 of 500\n"
     ]
    },
    {
     "name": "stderr",
     "output_type": "stream",
     "text": [
      "100%|██████████| 10/10 [00:01<00:00,  5.31it/s]\n",
      "100%|██████████| 2/2 [00:00<00:00,  4.47it/s]\n",
      "  0%|          | 0/10 [00:00<?, ?it/s]"
     ]
    },
    {
     "name": "stdout",
     "output_type": "stream",
     "text": [
      "Train Loss: 0.2373, Train Acc: 0.9110\n",
      "Val Loss: 0.1819, Val Acc: 0.9345\n",
      "Validation loss decreased (inf --> 0.181949).  Saving model ...\n",
      "../WeightsFinal_0.3_model_weights/Weights_replay_500/2018-02/best_model_epoch_1.pt\n",
      "../WeightsFinal_0.3_optimizer_weights/Weights_replay_500/2018-02/best_optimizer_epoch_1.pt\n",
      "Epoch 2 of 500\n"
     ]
    },
    {
     "name": "stderr",
     "output_type": "stream",
     "text": [
      "100%|██████████| 10/10 [00:01<00:00,  5.51it/s]\n",
      "100%|██████████| 2/2 [00:00<00:00,  7.65it/s]\n",
      "  0%|          | 0/10 [00:00<?, ?it/s]"
     ]
    },
    {
     "name": "stdout",
     "output_type": "stream",
     "text": [
      "Train Loss: 0.2124, Train Acc: 0.9187\n",
      "Val Loss: 0.1820, Val Acc: 0.9345\n",
      "EarlyStopping counter: 1 out of 5\n",
      "Epoch 3 of 500\n"
     ]
    },
    {
     "name": "stderr",
     "output_type": "stream",
     "text": [
      "100%|██████████| 10/10 [00:01<00:00,  5.43it/s]\n",
      "100%|██████████| 2/2 [00:00<00:00,  4.65it/s]\n",
      "  0%|          | 0/10 [00:00<?, ?it/s]"
     ]
    },
    {
     "name": "stdout",
     "output_type": "stream",
     "text": [
      "Train Loss: 0.2013, Train Acc: 0.9207\n",
      "Val Loss: 0.1732, Val Acc: 0.9370\n",
      "Validation loss decreased (0.181949 --> 0.173188).  Saving model ...\n",
      "../WeightsFinal_0.3_model_weights/Weights_replay_500/2018-02/best_model_epoch_3.pt\n",
      "../WeightsFinal_0.3_optimizer_weights/Weights_replay_500/2018-02/best_optimizer_epoch_3.pt\n",
      "Epoch 4 of 500\n"
     ]
    },
    {
     "name": "stderr",
     "output_type": "stream",
     "text": [
      "100%|██████████| 10/10 [00:01<00:00,  5.92it/s]\n",
      "100%|██████████| 2/2 [00:00<00:00,  6.94it/s]\n",
      "  0%|          | 0/10 [00:00<?, ?it/s]"
     ]
    },
    {
     "name": "stdout",
     "output_type": "stream",
     "text": [
      "Train Loss: 0.1931, Train Acc: 0.9240\n",
      "Val Loss: 0.1672, Val Acc: 0.9371\n",
      "Validation loss decreased (0.173188 --> 0.167228).  Saving model ...\n",
      "../WeightsFinal_0.3_model_weights/Weights_replay_500/2018-02/best_model_epoch_4.pt\n",
      "../WeightsFinal_0.3_optimizer_weights/Weights_replay_500/2018-02/best_optimizer_epoch_4.pt\n",
      "Epoch 5 of 500\n"
     ]
    },
    {
     "name": "stderr",
     "output_type": "stream",
     "text": [
      "100%|██████████| 10/10 [00:01<00:00,  5.14it/s]\n",
      "100%|██████████| 2/2 [00:00<00:00,  4.09it/s]\n",
      "  0%|          | 0/10 [00:00<?, ?it/s]"
     ]
    },
    {
     "name": "stdout",
     "output_type": "stream",
     "text": [
      "Train Loss: 0.1815, Train Acc: 0.9275\n",
      "Val Loss: 0.1641, Val Acc: 0.9382\n",
      "Validation loss decreased (0.167228 --> 0.164080).  Saving model ...\n",
      "../WeightsFinal_0.3_model_weights/Weights_replay_500/2018-02/best_model_epoch_5.pt\n",
      "../WeightsFinal_0.3_optimizer_weights/Weights_replay_500/2018-02/best_optimizer_epoch_5.pt\n",
      "Epoch 6 of 500\n"
     ]
    },
    {
     "name": "stderr",
     "output_type": "stream",
     "text": [
      "100%|██████████| 10/10 [00:01<00:00,  5.45it/s]\n",
      "100%|██████████| 2/2 [00:00<00:00,  6.89it/s]\n",
      "  0%|          | 0/10 [00:00<?, ?it/s]"
     ]
    },
    {
     "name": "stdout",
     "output_type": "stream",
     "text": [
      "Train Loss: 0.1759, Train Acc: 0.9300\n",
      "Val Loss: 0.1605, Val Acc: 0.9396\n",
      "Validation loss decreased (0.164080 --> 0.160542).  Saving model ...\n",
      "../WeightsFinal_0.3_model_weights/Weights_replay_500/2018-02/best_model_epoch_6.pt\n",
      "../WeightsFinal_0.3_optimizer_weights/Weights_replay_500/2018-02/best_optimizer_epoch_6.pt\n",
      "Epoch 7 of 500\n"
     ]
    },
    {
     "name": "stderr",
     "output_type": "stream",
     "text": [
      "100%|██████████| 10/10 [00:01<00:00,  5.09it/s]\n",
      "100%|██████████| 2/2 [00:00<00:00,  4.60it/s]\n",
      "  0%|          | 0/10 [00:00<?, ?it/s]"
     ]
    },
    {
     "name": "stdout",
     "output_type": "stream",
     "text": [
      "Train Loss: 0.1767, Train Acc: 0.9313\n",
      "Val Loss: 0.1614, Val Acc: 0.9393\n",
      "EarlyStopping counter: 1 out of 5\n",
      "Epoch 8 of 500\n"
     ]
    },
    {
     "name": "stderr",
     "output_type": "stream",
     "text": [
      "100%|██████████| 10/10 [00:01<00:00,  5.98it/s]\n",
      "100%|██████████| 2/2 [00:00<00:00,  7.10it/s]\n",
      "  0%|          | 0/10 [00:00<?, ?it/s]"
     ]
    },
    {
     "name": "stdout",
     "output_type": "stream",
     "text": [
      "Train Loss: 0.1706, Train Acc: 0.9327\n",
      "Val Loss: 0.1626, Val Acc: 0.9384\n",
      "EarlyStopping counter: 2 out of 5\n",
      "Epoch 9 of 500\n"
     ]
    },
    {
     "name": "stderr",
     "output_type": "stream",
     "text": [
      "100%|██████████| 10/10 [00:01<00:00,  5.44it/s]\n",
      "100%|██████████| 2/2 [00:00<00:00,  4.72it/s]\n",
      "  0%|          | 0/10 [00:00<?, ?it/s]"
     ]
    },
    {
     "name": "stdout",
     "output_type": "stream",
     "text": [
      "Train Loss: 0.1668, Train Acc: 0.9355\n",
      "Val Loss: 0.1602, Val Acc: 0.9384\n",
      "Validation loss decreased (0.160542 --> 0.160244).  Saving model ...\n",
      "../WeightsFinal_0.3_model_weights/Weights_replay_500/2018-02/best_model_epoch_9.pt\n",
      "../WeightsFinal_0.3_optimizer_weights/Weights_replay_500/2018-02/best_optimizer_epoch_9.pt\n",
      "Epoch 10 of 500\n"
     ]
    },
    {
     "name": "stderr",
     "output_type": "stream",
     "text": [
      "100%|██████████| 10/10 [00:01<00:00,  5.92it/s]\n",
      "100%|██████████| 2/2 [00:00<00:00,  7.95it/s]\n",
      "  0%|          | 0/10 [00:00<?, ?it/s]"
     ]
    },
    {
     "name": "stdout",
     "output_type": "stream",
     "text": [
      "Train Loss: 0.1659, Train Acc: 0.9346\n",
      "Val Loss: 0.1594, Val Acc: 0.9392\n",
      "Validation loss decreased (0.160244 --> 0.159380).  Saving model ...\n",
      "../WeightsFinal_0.3_model_weights/Weights_replay_500/2018-02/best_model_epoch_10.pt\n",
      "../WeightsFinal_0.3_optimizer_weights/Weights_replay_500/2018-02/best_optimizer_epoch_10.pt\n",
      "Epoch 11 of 500\n"
     ]
    },
    {
     "name": "stderr",
     "output_type": "stream",
     "text": [
      "100%|██████████| 10/10 [00:02<00:00,  4.92it/s]\n",
      "100%|██████████| 2/2 [00:00<00:00,  4.18it/s]\n",
      "  0%|          | 0/10 [00:00<?, ?it/s]"
     ]
    },
    {
     "name": "stdout",
     "output_type": "stream",
     "text": [
      "Train Loss: 0.1629, Train Acc: 0.9359\n",
      "Val Loss: 0.1569, Val Acc: 0.9417\n",
      "Validation loss decreased (0.159380 --> 0.156854).  Saving model ...\n",
      "../WeightsFinal_0.3_model_weights/Weights_replay_500/2018-02/best_model_epoch_11.pt\n",
      "../WeightsFinal_0.3_optimizer_weights/Weights_replay_500/2018-02/best_optimizer_epoch_11.pt\n",
      "Epoch 12 of 500\n"
     ]
    },
    {
     "name": "stderr",
     "output_type": "stream",
     "text": [
      "100%|██████████| 10/10 [00:01<00:00,  5.84it/s]\n",
      "100%|██████████| 2/2 [00:00<00:00,  7.17it/s]\n",
      "  0%|          | 0/10 [00:00<?, ?it/s]"
     ]
    },
    {
     "name": "stdout",
     "output_type": "stream",
     "text": [
      "Train Loss: 0.1608, Train Acc: 0.9368\n",
      "Val Loss: 0.1614, Val Acc: 0.9385\n",
      "EarlyStopping counter: 1 out of 5\n",
      "Epoch 13 of 500\n"
     ]
    },
    {
     "name": "stderr",
     "output_type": "stream",
     "text": [
      "100%|██████████| 10/10 [00:01<00:00,  5.67it/s]\n",
      "100%|██████████| 2/2 [00:00<00:00,  4.98it/s]\n",
      "  0%|          | 0/10 [00:00<?, ?it/s]"
     ]
    },
    {
     "name": "stdout",
     "output_type": "stream",
     "text": [
      "Train Loss: 0.1583, Train Acc: 0.9374\n",
      "Val Loss: 0.1574, Val Acc: 0.9416\n",
      "EarlyStopping counter: 2 out of 5\n",
      "Epoch 14 of 500\n"
     ]
    },
    {
     "name": "stderr",
     "output_type": "stream",
     "text": [
      "100%|██████████| 10/10 [00:01<00:00,  5.80it/s]\n",
      "100%|██████████| 2/2 [00:00<00:00,  7.38it/s]\n",
      "  0%|          | 0/10 [00:00<?, ?it/s]"
     ]
    },
    {
     "name": "stdout",
     "output_type": "stream",
     "text": [
      "Train Loss: 0.1533, Train Acc: 0.9401\n",
      "Val Loss: 0.1525, Val Acc: 0.9431\n",
      "Validation loss decreased (0.156854 --> 0.152530).  Saving model ...\n",
      "../WeightsFinal_0.3_model_weights/Weights_replay_500/2018-02/best_model_epoch_14.pt\n",
      "../WeightsFinal_0.3_optimizer_weights/Weights_replay_500/2018-02/best_optimizer_epoch_14.pt\n",
      "Epoch 15 of 500\n"
     ]
    },
    {
     "name": "stderr",
     "output_type": "stream",
     "text": [
      "100%|██████████| 10/10 [00:02<00:00,  4.92it/s]\n",
      "100%|██████████| 2/2 [00:00<00:00,  4.21it/s]\n",
      "  0%|          | 0/10 [00:00<?, ?it/s]"
     ]
    },
    {
     "name": "stdout",
     "output_type": "stream",
     "text": [
      "Train Loss: 0.1538, Train Acc: 0.9395\n",
      "Val Loss: 0.1520, Val Acc: 0.9424\n",
      "Validation loss decreased (0.152530 --> 0.152028).  Saving model ...\n",
      "../WeightsFinal_0.3_model_weights/Weights_replay_500/2018-02/best_model_epoch_15.pt\n",
      "../WeightsFinal_0.3_optimizer_weights/Weights_replay_500/2018-02/best_optimizer_epoch_15.pt\n",
      "Epoch 16 of 500\n"
     ]
    },
    {
     "name": "stderr",
     "output_type": "stream",
     "text": [
      "100%|██████████| 10/10 [00:01<00:00,  5.86it/s]\n",
      "100%|██████████| 2/2 [00:00<00:00,  7.66it/s]\n",
      "  0%|          | 0/10 [00:00<?, ?it/s]"
     ]
    },
    {
     "name": "stdout",
     "output_type": "stream",
     "text": [
      "Train Loss: 0.1508, Train Acc: 0.9402\n",
      "Val Loss: 0.1556, Val Acc: 0.9419\n",
      "EarlyStopping counter: 1 out of 5\n",
      "Epoch 17 of 500\n"
     ]
    },
    {
     "name": "stderr",
     "output_type": "stream",
     "text": [
      "100%|██████████| 10/10 [00:01<00:00,  5.35it/s]\n",
      "100%|██████████| 2/2 [00:00<00:00,  3.84it/s]\n",
      "  0%|          | 0/10 [00:00<?, ?it/s]"
     ]
    },
    {
     "name": "stdout",
     "output_type": "stream",
     "text": [
      "Train Loss: 0.1483, Train Acc: 0.9420\n",
      "Val Loss: 0.1549, Val Acc: 0.9422\n",
      "EarlyStopping counter: 2 out of 5\n",
      "Epoch 18 of 500\n"
     ]
    },
    {
     "name": "stderr",
     "output_type": "stream",
     "text": [
      "100%|██████████| 10/10 [00:01<00:00,  5.57it/s]\n",
      "100%|██████████| 2/2 [00:00<00:00,  7.74it/s]\n",
      "  0%|          | 0/10 [00:00<?, ?it/s]"
     ]
    },
    {
     "name": "stdout",
     "output_type": "stream",
     "text": [
      "Train Loss: 0.1485, Train Acc: 0.9411\n",
      "Val Loss: 0.1531, Val Acc: 0.9438\n",
      "EarlyStopping counter: 3 out of 5\n",
      "Epoch 19 of 500\n"
     ]
    },
    {
     "name": "stderr",
     "output_type": "stream",
     "text": [
      "100%|██████████| 10/10 [00:01<00:00,  5.11it/s]\n",
      "100%|██████████| 2/2 [00:00<00:00,  3.58it/s]\n",
      "  0%|          | 0/10 [00:00<?, ?it/s]"
     ]
    },
    {
     "name": "stdout",
     "output_type": "stream",
     "text": [
      "Train Loss: 0.1459, Train Acc: 0.9427\n",
      "Val Loss: 0.1558, Val Acc: 0.9417\n",
      "EarlyStopping counter: 4 out of 5\n",
      "Epoch 20 of 500\n"
     ]
    },
    {
     "name": "stderr",
     "output_type": "stream",
     "text": [
      "100%|██████████| 10/10 [00:01<00:00,  5.18it/s]\n",
      "100%|██████████| 2/2 [00:00<00:00,  7.68it/s]\n",
      "  0%|          | 0/10 [00:00<?, ?it/s]"
     ]
    },
    {
     "name": "stdout",
     "output_type": "stream",
     "text": [
      "Train Loss: 0.1414, Train Acc: 0.9447\n",
      "Val Loss: 0.1520, Val Acc: 0.9441\n",
      "Validation loss decreased (0.152028 --> 0.151967).  Saving model ...\n",
      "../WeightsFinal_0.3_model_weights/Weights_replay_500/2018-02/best_model_epoch_20.pt\n",
      "../WeightsFinal_0.3_optimizer_weights/Weights_replay_500/2018-02/best_optimizer_epoch_20.pt\n",
      "Epoch 21 of 500\n"
     ]
    },
    {
     "name": "stderr",
     "output_type": "stream",
     "text": [
      "100%|██████████| 10/10 [00:01<00:00,  5.56it/s]\n",
      "100%|██████████| 2/2 [00:00<00:00,  4.89it/s]\n",
      "  0%|          | 0/10 [00:00<?, ?it/s]"
     ]
    },
    {
     "name": "stdout",
     "output_type": "stream",
     "text": [
      "Train Loss: 0.1396, Train Acc: 0.9461\n",
      "Val Loss: 0.1509, Val Acc: 0.9446\n",
      "Validation loss decreased (0.151967 --> 0.150869).  Saving model ...\n",
      "../WeightsFinal_0.3_model_weights/Weights_replay_500/2018-02/best_model_epoch_21.pt\n",
      "../WeightsFinal_0.3_optimizer_weights/Weights_replay_500/2018-02/best_optimizer_epoch_21.pt\n",
      "Epoch 22 of 500\n"
     ]
    },
    {
     "name": "stderr",
     "output_type": "stream",
     "text": [
      "100%|██████████| 10/10 [00:01<00:00,  5.48it/s]\n",
      "100%|██████████| 2/2 [00:00<00:00,  6.60it/s]\n",
      "  0%|          | 0/10 [00:00<?, ?it/s]"
     ]
    },
    {
     "name": "stdout",
     "output_type": "stream",
     "text": [
      "Train Loss: 0.1374, Train Acc: 0.9460\n",
      "Val Loss: 0.1507, Val Acc: 0.9456\n",
      "Validation loss decreased (0.150869 --> 0.150735).  Saving model ...\n",
      "../WeightsFinal_0.3_model_weights/Weights_replay_500/2018-02/best_model_epoch_22.pt\n",
      "../WeightsFinal_0.3_optimizer_weights/Weights_replay_500/2018-02/best_optimizer_epoch_22.pt\n",
      "Epoch 23 of 500\n"
     ]
    },
    {
     "name": "stderr",
     "output_type": "stream",
     "text": [
      "100%|██████████| 10/10 [00:01<00:00,  5.19it/s]\n",
      "100%|██████████| 2/2 [00:00<00:00,  4.45it/s]\n",
      "  0%|          | 0/10 [00:00<?, ?it/s]"
     ]
    },
    {
     "name": "stdout",
     "output_type": "stream",
     "text": [
      "Train Loss: 0.1367, Train Acc: 0.9465\n",
      "Val Loss: 0.1518, Val Acc: 0.9442\n",
      "EarlyStopping counter: 1 out of 5\n",
      "Epoch 24 of 500\n"
     ]
    },
    {
     "name": "stderr",
     "output_type": "stream",
     "text": [
      "100%|██████████| 10/10 [00:01<00:00,  5.53it/s]\n",
      "100%|██████████| 2/2 [00:00<00:00,  6.98it/s]\n",
      "  0%|          | 0/10 [00:00<?, ?it/s]"
     ]
    },
    {
     "name": "stdout",
     "output_type": "stream",
     "text": [
      "Train Loss: 0.1325, Train Acc: 0.9483\n",
      "Val Loss: 0.1520, Val Acc: 0.9451\n",
      "EarlyStopping counter: 2 out of 5\n",
      "Epoch 25 of 500\n"
     ]
    },
    {
     "name": "stderr",
     "output_type": "stream",
     "text": [
      "100%|██████████| 10/10 [00:01<00:00,  5.18it/s]\n",
      "100%|██████████| 2/2 [00:00<00:00,  4.26it/s]\n",
      "  0%|          | 0/10 [00:00<?, ?it/s]"
     ]
    },
    {
     "name": "stdout",
     "output_type": "stream",
     "text": [
      "Train Loss: 0.1330, Train Acc: 0.9478\n",
      "Val Loss: 0.1511, Val Acc: 0.9445\n",
      "EarlyStopping counter: 3 out of 5\n",
      "Epoch 26 of 500\n"
     ]
    },
    {
     "name": "stderr",
     "output_type": "stream",
     "text": [
      "100%|██████████| 10/10 [00:01<00:00,  5.49it/s]\n",
      "100%|██████████| 2/2 [00:00<00:00,  6.34it/s]\n",
      "  0%|          | 0/10 [00:00<?, ?it/s]"
     ]
    },
    {
     "name": "stdout",
     "output_type": "stream",
     "text": [
      "Train Loss: 0.1350, Train Acc: 0.9477\n",
      "Val Loss: 0.1505, Val Acc: 0.9457\n",
      "Validation loss decreased (0.150735 --> 0.150548).  Saving model ...\n",
      "../WeightsFinal_0.3_model_weights/Weights_replay_500/2018-02/best_model_epoch_26.pt\n",
      "../WeightsFinal_0.3_optimizer_weights/Weights_replay_500/2018-02/best_optimizer_epoch_26.pt\n",
      "Epoch 27 of 500\n"
     ]
    },
    {
     "name": "stderr",
     "output_type": "stream",
     "text": [
      "100%|██████████| 10/10 [00:01<00:00,  5.14it/s]\n",
      "100%|██████████| 2/2 [00:00<00:00,  5.08it/s]\n",
      "  0%|          | 0/10 [00:00<?, ?it/s]"
     ]
    },
    {
     "name": "stdout",
     "output_type": "stream",
     "text": [
      "Train Loss: 0.1310, Train Acc: 0.9485\n",
      "Val Loss: 0.1514, Val Acc: 0.9456\n",
      "EarlyStopping counter: 1 out of 5\n",
      "Epoch 28 of 500\n"
     ]
    },
    {
     "name": "stderr",
     "output_type": "stream",
     "text": [
      "100%|██████████| 10/10 [00:01<00:00,  5.80it/s]\n",
      "100%|██████████| 2/2 [00:00<00:00,  6.99it/s]\n",
      "  0%|          | 0/10 [00:00<?, ?it/s]"
     ]
    },
    {
     "name": "stdout",
     "output_type": "stream",
     "text": [
      "Train Loss: 0.1265, Train Acc: 0.9505\n",
      "Val Loss: 0.1514, Val Acc: 0.9456\n",
      "EarlyStopping counter: 2 out of 5\n",
      "Epoch 29 of 500\n"
     ]
    },
    {
     "name": "stderr",
     "output_type": "stream",
     "text": [
      "100%|██████████| 10/10 [00:02<00:00,  4.76it/s]\n",
      "100%|██████████| 2/2 [00:00<00:00,  5.27it/s]\n",
      "  0%|          | 0/10 [00:00<?, ?it/s]"
     ]
    },
    {
     "name": "stdout",
     "output_type": "stream",
     "text": [
      "Train Loss: 0.1274, Train Acc: 0.9506\n",
      "Val Loss: 0.1505, Val Acc: 0.9456\n",
      "Validation loss decreased (0.150548 --> 0.150544).  Saving model ...\n",
      "../WeightsFinal_0.3_model_weights/Weights_replay_500/2018-02/best_model_epoch_29.pt\n",
      "../WeightsFinal_0.3_optimizer_weights/Weights_replay_500/2018-02/best_optimizer_epoch_29.pt\n",
      "Epoch 30 of 500\n"
     ]
    },
    {
     "name": "stderr",
     "output_type": "stream",
     "text": [
      "100%|██████████| 10/10 [00:01<00:00,  5.92it/s]\n",
      "100%|██████████| 2/2 [00:00<00:00,  7.41it/s]\n",
      "  0%|          | 0/10 [00:00<?, ?it/s]"
     ]
    },
    {
     "name": "stdout",
     "output_type": "stream",
     "text": [
      "Train Loss: 0.1228, Train Acc: 0.9530\n",
      "Val Loss: 0.1495, Val Acc: 0.9468\n",
      "Validation loss decreased (0.150544 --> 0.149466).  Saving model ...\n",
      "../WeightsFinal_0.3_model_weights/Weights_replay_500/2018-02/best_model_epoch_30.pt\n",
      "../WeightsFinal_0.3_optimizer_weights/Weights_replay_500/2018-02/best_optimizer_epoch_30.pt\n",
      "Epoch 31 of 500\n"
     ]
    },
    {
     "name": "stderr",
     "output_type": "stream",
     "text": [
      "100%|██████████| 10/10 [00:01<00:00,  5.54it/s]\n",
      "100%|██████████| 2/2 [00:00<00:00,  4.92it/s]\n",
      "  0%|          | 0/10 [00:00<?, ?it/s]"
     ]
    },
    {
     "name": "stdout",
     "output_type": "stream",
     "text": [
      "Train Loss: 0.1241, Train Acc: 0.9523\n",
      "Val Loss: 0.1486, Val Acc: 0.9466\n",
      "Validation loss decreased (0.149466 --> 0.148572).  Saving model ...\n",
      "../WeightsFinal_0.3_model_weights/Weights_replay_500/2018-02/best_model_epoch_31.pt\n",
      "../WeightsFinal_0.3_optimizer_weights/Weights_replay_500/2018-02/best_optimizer_epoch_31.pt\n",
      "Epoch 32 of 500\n"
     ]
    },
    {
     "name": "stderr",
     "output_type": "stream",
     "text": [
      "100%|██████████| 10/10 [00:01<00:00,  5.38it/s]\n",
      "100%|██████████| 2/2 [00:00<00:00,  7.96it/s]\n",
      "  0%|          | 0/10 [00:00<?, ?it/s]"
     ]
    },
    {
     "name": "stdout",
     "output_type": "stream",
     "text": [
      "Train Loss: 0.1244, Train Acc: 0.9525\n",
      "Val Loss: 0.1532, Val Acc: 0.9454\n",
      "EarlyStopping counter: 1 out of 5\n",
      "Epoch 33 of 500\n"
     ]
    },
    {
     "name": "stderr",
     "output_type": "stream",
     "text": [
      "100%|██████████| 10/10 [00:01<00:00,  5.26it/s]\n",
      "100%|██████████| 2/2 [00:00<00:00,  3.75it/s]\n",
      "  0%|          | 0/10 [00:00<?, ?it/s]"
     ]
    },
    {
     "name": "stdout",
     "output_type": "stream",
     "text": [
      "Train Loss: 0.1213, Train Acc: 0.9523\n",
      "Val Loss: 0.1506, Val Acc: 0.9472\n",
      "EarlyStopping counter: 2 out of 5\n",
      "Epoch 34 of 500\n"
     ]
    },
    {
     "name": "stderr",
     "output_type": "stream",
     "text": [
      "100%|██████████| 10/10 [00:01<00:00,  5.41it/s]\n",
      "100%|██████████| 2/2 [00:00<00:00,  6.92it/s]\n",
      "  0%|          | 0/10 [00:00<?, ?it/s]"
     ]
    },
    {
     "name": "stdout",
     "output_type": "stream",
     "text": [
      "Train Loss: 0.1170, Train Acc: 0.9543\n",
      "Val Loss: 0.1487, Val Acc: 0.9479\n",
      "EarlyStopping counter: 3 out of 5\n",
      "Epoch 35 of 500\n"
     ]
    },
    {
     "name": "stderr",
     "output_type": "stream",
     "text": [
      "100%|██████████| 10/10 [00:01<00:00,  5.44it/s]\n",
      "100%|██████████| 2/2 [00:00<00:00,  4.50it/s]\n",
      "  0%|          | 0/10 [00:00<?, ?it/s]"
     ]
    },
    {
     "name": "stdout",
     "output_type": "stream",
     "text": [
      "Train Loss: 0.1222, Train Acc: 0.9528\n",
      "Val Loss: 0.1502, Val Acc: 0.9465\n",
      "EarlyStopping counter: 4 out of 5\n",
      "Epoch 36 of 500\n"
     ]
    },
    {
     "name": "stderr",
     "output_type": "stream",
     "text": [
      "100%|██████████| 10/10 [00:01<00:00,  5.74it/s]\n",
      "100%|██████████| 2/2 [00:00<00:00,  7.34it/s]\n",
      "  0%|          | 0/2 [00:00<?, ?it/s]"
     ]
    },
    {
     "name": "stdout",
     "output_type": "stream",
     "text": [
      "Train Loss: 0.1175, Train Acc: 0.9541\n",
      "Val Loss: 0.1507, Val Acc: 0.9462\n",
      "EarlyStopping counter: 5 out of 5\n",
      "Early stopping\n",
      "Training time: 1.372 minutes\n",
      "loading best model ../WeightsFinal_0.3_model_weights/Weights_replay_500/2018-02/best_model_epoch_31.pt\n",
      "loading best optimizer ../WeightsFinal_0.3_optimizer_weights/Weights_replay_500/2018-02/best_optimizer_epoch_31.pt\n"
     ]
    },
    {
     "name": "stderr",
     "output_type": "stream",
     "text": [
      "100%|██████████| 2/2 [00:00<00:00,  2.66it/s]\n"
     ]
    },
    {
     "name": "stdout",
     "output_type": "stream",
     "text": [
      "test accuracy 0.9475398063659668 and ROC-AUC 0.9475057931348193\n",
      "Elapsed time 4.61484667857488 mins.\n",
      "\n",
      "\n",
      "2023-01-30 11:56:12 Round 1 ...\n",
      "Current Task 2018-03 w/ 500 samples to Replay per Malware family.\n",
      "X_train (37372, 2381) Y_train (37372,) Y_tr_family (37372,)\n",
      "X_test (15759, 2381) Y_test (15759,) Y_te_family (15759,)\n",
      "Task 2018-03 and #-of new samples stored 37372\n"
     ]
    },
    {
     "name": "stderr",
     "output_type": "stream",
     "text": [
      "\r",
      "  0%|          | 0/1 [00:00<?, ?it/s]"
     ]
    },
    {
     "name": "stdout",
     "output_type": "stream",
     "text": [
      "loading best model ../WeightsFinal_0.3_model_weights/Weights_replay_500/2018-02/best_model_epoch_31.pt\n"
     ]
    },
    {
     "name": "stderr",
     "output_type": "stream",
     "text": [
      "100%|██████████| 1/1 [00:00<00:00,  2.78it/s]\n",
      "100%|██████████| 2/2 [00:00<00:00,  4.09it/s]\n",
      "100%|██████████| 1/1 [00:00<00:00,  3.41it/s]\n",
      "100%|██████████| 1/1 [00:00<00:00,  2.98it/s]\n",
      "100%|██████████| 1/1 [00:00<00:00,  3.24it/s]\n",
      "100%|██████████| 1/1 [00:00<00:00,  3.04it/s]\n",
      "100%|██████████| 1/1 [00:00<00:00,  3.69it/s]\n",
      "100%|██████████| 1/1 [00:00<00:00,  4.05it/s]\n",
      "100%|██████████| 1/1 [00:00<00:00,  3.71it/s]\n",
      "100%|██████████| 1/1 [00:00<00:00,  3.64it/s]\n",
      "100%|██████████| 1/1 [00:00<00:00,  3.77it/s]\n"
     ]
    },
    {
     "name": "stdout",
     "output_type": "stream",
     "text": [
      "2023-01-30 11:56:42 Standardizing ...\n"
     ]
    },
    {
     "name": "stderr",
     "output_type": "stream",
     "text": [
      "\r",
      "  0%|          | 0/11 [00:00<?, ?it/s]"
     ]
    },
    {
     "name": "stdout",
     "output_type": "stream",
     "text": [
      "\n",
      "X_train (69200, 2381) Y_train (69200,)\n",
      "\n",
      "2023-01-30 11:56:47 Training ...\n",
      "Epoch 1 of 500\n"
     ]
    },
    {
     "name": "stderr",
     "output_type": "stream",
     "text": [
      "100%|██████████| 11/11 [00:01<00:00,  6.28it/s]\n",
      "100%|██████████| 3/3 [00:00<00:00,  4.87it/s]\n",
      "  0%|          | 0/11 [00:00<?, ?it/s]"
     ]
    },
    {
     "name": "stdout",
     "output_type": "stream",
     "text": [
      "Train Loss: 0.1912, Train Acc: 0.9291\n",
      "Val Loss: 0.1843, Val Acc: 0.9362\n",
      "Validation loss decreased (inf --> 0.184287).  Saving model ...\n",
      "../WeightsFinal_0.3_model_weights/Weights_replay_500/2018-03/best_model_epoch_1.pt\n",
      "../WeightsFinal_0.3_optimizer_weights/Weights_replay_500/2018-03/best_optimizer_epoch_1.pt\n",
      "Epoch 2 of 500\n"
     ]
    },
    {
     "name": "stderr",
     "output_type": "stream",
     "text": [
      "100%|██████████| 11/11 [00:01<00:00,  5.97it/s]\n",
      "100%|██████████| 3/3 [00:00<00:00,  6.99it/s]\n",
      "  0%|          | 0/11 [00:00<?, ?it/s]"
     ]
    },
    {
     "name": "stdout",
     "output_type": "stream",
     "text": [
      "Train Loss: 0.1806, Train Acc: 0.9320\n",
      "Val Loss: 0.1777, Val Acc: 0.9378\n",
      "Validation loss decreased (0.184287 --> 0.177716).  Saving model ...\n",
      "../WeightsFinal_0.3_model_weights/Weights_replay_500/2018-03/best_model_epoch_2.pt\n",
      "../WeightsFinal_0.3_optimizer_weights/Weights_replay_500/2018-03/best_optimizer_epoch_2.pt\n",
      "Epoch 3 of 500\n"
     ]
    },
    {
     "name": "stderr",
     "output_type": "stream",
     "text": [
      "100%|██████████| 11/11 [00:01<00:00,  6.15it/s]\n",
      "100%|██████████| 3/3 [00:00<00:00,  6.01it/s]\n",
      "  0%|          | 0/11 [00:00<?, ?it/s]"
     ]
    },
    {
     "name": "stdout",
     "output_type": "stream",
     "text": [
      "Train Loss: 0.1718, Train Acc: 0.9347\n",
      "Val Loss: 0.1697, Val Acc: 0.9402\n",
      "Validation loss decreased (0.177716 --> 0.169685).  Saving model ...\n",
      "../WeightsFinal_0.3_model_weights/Weights_replay_500/2018-03/best_model_epoch_3.pt\n",
      "../WeightsFinal_0.3_optimizer_weights/Weights_replay_500/2018-03/best_optimizer_epoch_3.pt\n",
      "Epoch 4 of 500\n"
     ]
    },
    {
     "name": "stderr",
     "output_type": "stream",
     "text": [
      "100%|██████████| 11/11 [00:01<00:00,  5.84it/s]\n",
      "100%|██████████| 3/3 [00:00<00:00,  5.07it/s]\n",
      "  0%|          | 0/11 [00:00<?, ?it/s]"
     ]
    },
    {
     "name": "stdout",
     "output_type": "stream",
     "text": [
      "Train Loss: 0.1750, Train Acc: 0.9333\n",
      "Val Loss: 0.1686, Val Acc: 0.9389\n",
      "Validation loss decreased (0.169685 --> 0.168587).  Saving model ...\n",
      "../WeightsFinal_0.3_model_weights/Weights_replay_500/2018-03/best_model_epoch_4.pt\n",
      "../WeightsFinal_0.3_optimizer_weights/Weights_replay_500/2018-03/best_optimizer_epoch_4.pt\n",
      "Epoch 5 of 500\n"
     ]
    },
    {
     "name": "stderr",
     "output_type": "stream",
     "text": [
      "100%|██████████| 11/11 [00:01<00:00,  5.63it/s]\n",
      "100%|██████████| 3/3 [00:00<00:00,  8.97it/s]\n",
      "  0%|          | 0/11 [00:00<?, ?it/s]"
     ]
    },
    {
     "name": "stdout",
     "output_type": "stream",
     "text": [
      "Train Loss: 0.1695, Train Acc: 0.9351\n",
      "Val Loss: 0.1636, Val Acc: 0.9412\n",
      "Validation loss decreased (0.168587 --> 0.163644).  Saving model ...\n",
      "../WeightsFinal_0.3_model_weights/Weights_replay_500/2018-03/best_model_epoch_5.pt\n",
      "../WeightsFinal_0.3_optimizer_weights/Weights_replay_500/2018-03/best_optimizer_epoch_5.pt\n",
      "Epoch 6 of 500\n"
     ]
    },
    {
     "name": "stderr",
     "output_type": "stream",
     "text": [
      "100%|██████████| 11/11 [00:01<00:00,  6.00it/s]\n",
      "100%|██████████| 3/3 [00:00<00:00,  5.67it/s]\n",
      "  0%|          | 0/11 [00:00<?, ?it/s]"
     ]
    },
    {
     "name": "stdout",
     "output_type": "stream",
     "text": [
      "Train Loss: 0.1616, Train Acc: 0.9385\n",
      "Val Loss: 0.1603, Val Acc: 0.9427\n",
      "Validation loss decreased (0.163644 --> 0.160294).  Saving model ...\n",
      "../WeightsFinal_0.3_model_weights/Weights_replay_500/2018-03/best_model_epoch_6.pt\n",
      "../WeightsFinal_0.3_optimizer_weights/Weights_replay_500/2018-03/best_optimizer_epoch_6.pt\n",
      "Epoch 7 of 500\n"
     ]
    },
    {
     "name": "stderr",
     "output_type": "stream",
     "text": [
      "100%|██████████| 11/11 [00:01<00:00,  5.55it/s]\n",
      "100%|██████████| 3/3 [00:00<00:00,  6.37it/s]\n",
      "  0%|          | 0/11 [00:00<?, ?it/s]"
     ]
    },
    {
     "name": "stdout",
     "output_type": "stream",
     "text": [
      "Train Loss: 0.1620, Train Acc: 0.9376\n",
      "Val Loss: 0.1591, Val Acc: 0.9419\n",
      "Validation loss decreased (0.160294 --> 0.159126).  Saving model ...\n",
      "../WeightsFinal_0.3_model_weights/Weights_replay_500/2018-03/best_model_epoch_7.pt\n",
      "../WeightsFinal_0.3_optimizer_weights/Weights_replay_500/2018-03/best_optimizer_epoch_7.pt\n",
      "Epoch 8 of 500\n"
     ]
    },
    {
     "name": "stderr",
     "output_type": "stream",
     "text": [
      "100%|██████████| 11/11 [00:01<00:00,  5.78it/s]\n",
      "100%|██████████| 3/3 [00:00<00:00,  6.64it/s]\n",
      "  0%|          | 0/11 [00:00<?, ?it/s]"
     ]
    },
    {
     "name": "stdout",
     "output_type": "stream",
     "text": [
      "Train Loss: 0.1543, Train Acc: 0.9403\n",
      "Val Loss: 0.1625, Val Acc: 0.9413\n",
      "EarlyStopping counter: 1 out of 5\n",
      "Epoch 9 of 500\n"
     ]
    },
    {
     "name": "stderr",
     "output_type": "stream",
     "text": [
      "100%|██████████| 11/11 [00:02<00:00,  5.33it/s]\n",
      "100%|██████████| 3/3 [00:00<00:00,  6.28it/s]\n",
      "  0%|          | 0/11 [00:00<?, ?it/s]"
     ]
    },
    {
     "name": "stdout",
     "output_type": "stream",
     "text": [
      "Train Loss: 0.1571, Train Acc: 0.9415\n",
      "Val Loss: 0.1587, Val Acc: 0.9426\n",
      "Validation loss decreased (0.159126 --> 0.158698).  Saving model ...\n",
      "../WeightsFinal_0.3_model_weights/Weights_replay_500/2018-03/best_model_epoch_9.pt\n",
      "../WeightsFinal_0.3_optimizer_weights/Weights_replay_500/2018-03/best_optimizer_epoch_9.pt\n",
      "Epoch 10 of 500\n"
     ]
    },
    {
     "name": "stderr",
     "output_type": "stream",
     "text": [
      "100%|██████████| 11/11 [00:01<00:00,  5.80it/s]\n",
      "100%|██████████| 3/3 [00:00<00:00,  5.05it/s]\n",
      "  0%|          | 0/11 [00:00<?, ?it/s]"
     ]
    },
    {
     "name": "stdout",
     "output_type": "stream",
     "text": [
      "Train Loss: 0.1515, Train Acc: 0.9416\n",
      "Val Loss: 0.1576, Val Acc: 0.9439\n",
      "Validation loss decreased (0.158698 --> 0.157565).  Saving model ...\n",
      "../WeightsFinal_0.3_model_weights/Weights_replay_500/2018-03/best_model_epoch_10.pt\n",
      "../WeightsFinal_0.3_optimizer_weights/Weights_replay_500/2018-03/best_optimizer_epoch_10.pt\n",
      "Epoch 11 of 500\n"
     ]
    },
    {
     "name": "stderr",
     "output_type": "stream",
     "text": [
      "100%|██████████| 11/11 [00:01<00:00,  5.77it/s]\n",
      "100%|██████████| 3/3 [00:00<00:00,  8.49it/s]\n",
      "  0%|          | 0/11 [00:00<?, ?it/s]"
     ]
    },
    {
     "name": "stdout",
     "output_type": "stream",
     "text": [
      "Train Loss: 0.1513, Train Acc: 0.9421\n",
      "Val Loss: 0.1623, Val Acc: 0.9427\n",
      "EarlyStopping counter: 1 out of 5\n",
      "Epoch 12 of 500\n"
     ]
    },
    {
     "name": "stderr",
     "output_type": "stream",
     "text": [
      "100%|██████████| 11/11 [00:02<00:00,  5.36it/s]\n",
      "100%|██████████| 3/3 [00:00<00:00,  5.94it/s]\n",
      "  0%|          | 0/11 [00:00<?, ?it/s]"
     ]
    },
    {
     "name": "stdout",
     "output_type": "stream",
     "text": [
      "Train Loss: 0.1476, Train Acc: 0.9432\n",
      "Val Loss: 0.1590, Val Acc: 0.9423\n",
      "EarlyStopping counter: 2 out of 5\n",
      "Epoch 13 of 500\n"
     ]
    },
    {
     "name": "stderr",
     "output_type": "stream",
     "text": [
      "100%|██████████| 11/11 [00:01<00:00,  6.00it/s]\n",
      "100%|██████████| 3/3 [00:00<00:00,  6.97it/s]\n",
      "  0%|          | 0/11 [00:00<?, ?it/s]"
     ]
    },
    {
     "name": "stdout",
     "output_type": "stream",
     "text": [
      "Train Loss: 0.1452, Train Acc: 0.9442\n",
      "Val Loss: 0.1562, Val Acc: 0.9443\n",
      "Validation loss decreased (0.157565 --> 0.156235).  Saving model ...\n",
      "../WeightsFinal_0.3_model_weights/Weights_replay_500/2018-03/best_model_epoch_13.pt\n",
      "../WeightsFinal_0.3_optimizer_weights/Weights_replay_500/2018-03/best_optimizer_epoch_13.pt\n",
      "Epoch 14 of 500\n"
     ]
    },
    {
     "name": "stderr",
     "output_type": "stream",
     "text": [
      "100%|██████████| 11/11 [00:01<00:00,  6.03it/s]\n",
      "100%|██████████| 3/3 [00:00<00:00,  8.90it/s]\n",
      "  0%|          | 0/11 [00:00<?, ?it/s]"
     ]
    },
    {
     "name": "stdout",
     "output_type": "stream",
     "text": [
      "Train Loss: 0.1423, Train Acc: 0.9442\n",
      "Val Loss: 0.1587, Val Acc: 0.9439\n",
      "EarlyStopping counter: 1 out of 5\n",
      "Epoch 15 of 500\n"
     ]
    },
    {
     "name": "stderr",
     "output_type": "stream",
     "text": [
      "100%|██████████| 11/11 [00:01<00:00,  5.82it/s]\n",
      "100%|██████████| 3/3 [00:00<00:00,  6.02it/s]\n",
      "  0%|          | 0/11 [00:00<?, ?it/s]"
     ]
    },
    {
     "name": "stdout",
     "output_type": "stream",
     "text": [
      "Train Loss: 0.1442, Train Acc: 0.9449\n",
      "Val Loss: 0.1575, Val Acc: 0.9440\n",
      "EarlyStopping counter: 2 out of 5\n",
      "Epoch 16 of 500\n"
     ]
    },
    {
     "name": "stderr",
     "output_type": "stream",
     "text": [
      "100%|██████████| 11/11 [00:02<00:00,  4.88it/s]\n",
      "100%|██████████| 3/3 [00:00<00:00,  4.42it/s]\n",
      "  0%|          | 0/11 [00:00<?, ?it/s]"
     ]
    },
    {
     "name": "stdout",
     "output_type": "stream",
     "text": [
      "Train Loss: 0.1409, Train Acc: 0.9462\n",
      "Val Loss: 0.1598, Val Acc: 0.9436\n",
      "EarlyStopping counter: 3 out of 5\n",
      "Epoch 17 of 500\n"
     ]
    },
    {
     "name": "stderr",
     "output_type": "stream",
     "text": [
      "100%|██████████| 11/11 [00:02<00:00,  4.95it/s]\n",
      "100%|██████████| 3/3 [00:00<00:00,  8.63it/s]\n",
      "  0%|          | 0/11 [00:00<?, ?it/s]"
     ]
    },
    {
     "name": "stdout",
     "output_type": "stream",
     "text": [
      "Train Loss: 0.1420, Train Acc: 0.9468\n",
      "Val Loss: 0.1607, Val Acc: 0.9428\n",
      "EarlyStopping counter: 4 out of 5\n",
      "Epoch 18 of 500\n"
     ]
    },
    {
     "name": "stderr",
     "output_type": "stream",
     "text": [
      "100%|██████████| 11/11 [00:01<00:00,  5.98it/s]\n",
      "100%|██████████| 3/3 [00:00<00:00,  6.07it/s]\n",
      "  0%|          | 0/3 [00:00<?, ?it/s]"
     ]
    },
    {
     "name": "stdout",
     "output_type": "stream",
     "text": [
      "Train Loss: 0.1353, Train Acc: 0.9484\n",
      "Val Loss: 0.1573, Val Acc: 0.9444\n",
      "EarlyStopping counter: 5 out of 5\n",
      "Early stopping\n",
      "Training time: 0.748 minutes\n",
      "loading best model ../WeightsFinal_0.3_model_weights/Weights_replay_500/2018-03/best_model_epoch_13.pt\n",
      "loading best optimizer ../WeightsFinal_0.3_optimizer_weights/Weights_replay_500/2018-03/best_optimizer_epoch_13.pt\n"
     ]
    },
    {
     "name": "stderr",
     "output_type": "stream",
     "text": [
      "100%|██████████| 3/3 [00:00<00:00,  3.65it/s]\n"
     ]
    },
    {
     "name": "stdout",
     "output_type": "stream",
     "text": [
      "test accuracy 0.9407925208409628 and ROC-AUC 0.9409058631523936\n",
      "Elapsed time 5.95925444761912 mins.\n",
      "\n",
      "\n",
      "2023-01-30 11:57:33 Round 1 ...\n",
      "Current Task 2018-04 w/ 500 samples to Replay per Malware family.\n",
      "X_train (46873, 2381) Y_train (46873,) Y_tr_family (46873,)\n",
      "X_test (20968, 2381) Y_test (20968,) Y_te_family (20968,)\n",
      "Task 2018-04 and #-of new samples stored 46873\n"
     ]
    },
    {
     "name": "stderr",
     "output_type": "stream",
     "text": [
      "\r",
      "  0%|          | 0/1 [00:00<?, ?it/s]"
     ]
    },
    {
     "name": "stdout",
     "output_type": "stream",
     "text": [
      "loading best model ../WeightsFinal_0.3_model_weights/Weights_replay_500/2018-03/best_model_epoch_13.pt\n"
     ]
    },
    {
     "name": "stderr",
     "output_type": "stream",
     "text": [
      "100%|██████████| 1/1 [00:00<00:00,  4.01it/s]\n",
      "100%|██████████| 1/1 [00:00<00:00,  2.81it/s]\n",
      "100%|██████████| 1/1 [00:00<00:00,  3.00it/s]\n",
      "100%|██████████| 1/1 [00:00<00:00,  2.99it/s]\n",
      "100%|██████████| 1/1 [00:00<00:00,  3.26it/s]\n",
      "100%|██████████| 1/1 [00:00<00:00,  3.47it/s]\n",
      "100%|██████████| 1/1 [00:00<00:00,  3.45it/s]\n",
      "100%|██████████| 1/1 [00:00<00:00,  3.52it/s]\n",
      "100%|██████████| 1/1 [00:00<00:00,  3.27it/s]\n",
      "100%|██████████| 1/1 [00:00<00:00,  2.97it/s]\n",
      "100%|██████████| 1/1 [00:00<00:00,  3.58it/s]\n",
      "100%|██████████| 1/1 [00:00<00:00,  3.33it/s]\n",
      "100%|██████████| 1/1 [00:00<00:00,  3.33it/s]\n",
      "100%|██████████| 2/2 [00:00<00:00,  3.53it/s]\n",
      "100%|██████████| 1/1 [00:00<00:00,  3.51it/s]\n",
      "100%|██████████| 1/1 [00:00<00:00,  3.36it/s]\n",
      "100%|██████████| 1/1 [00:00<00:00,  3.44it/s]\n",
      "100%|██████████| 1/1 [00:00<00:00,  3.39it/s]\n"
     ]
    },
    {
     "name": "stdout",
     "output_type": "stream",
     "text": [
      "2023-01-30 11:58:10 Standardizing ...\n"
     ]
    },
    {
     "name": "stderr",
     "output_type": "stream",
     "text": [
      "\r",
      "  0%|          | 0/13 [00:00<?, ?it/s]"
     ]
    },
    {
     "name": "stdout",
     "output_type": "stream",
     "text": [
      "\n",
      "X_train (78874, 2381) Y_train (78874,)\n",
      "\n",
      "2023-01-30 11:58:15 Training ...\n",
      "Epoch 1 of 500\n"
     ]
    },
    {
     "name": "stderr",
     "output_type": "stream",
     "text": [
      "100%|██████████| 13/13 [00:02<00:00,  5.63it/s]\n",
      "100%|██████████| 4/4 [00:00<00:00,  6.02it/s]\n",
      "  0%|          | 0/13 [00:00<?, ?it/s]"
     ]
    },
    {
     "name": "stdout",
     "output_type": "stream",
     "text": [
      "Train Loss: 0.1753, Train Acc: 0.9331\n",
      "Val Loss: 0.1624, Val Acc: 0.9443\n",
      "Validation loss decreased (inf --> 0.162430).  Saving model ...\n",
      "../WeightsFinal_0.3_model_weights/Weights_replay_500/2018-04/best_model_epoch_1.pt\n",
      "../WeightsFinal_0.3_optimizer_weights/Weights_replay_500/2018-04/best_optimizer_epoch_1.pt\n",
      "Epoch 2 of 500\n"
     ]
    },
    {
     "name": "stderr",
     "output_type": "stream",
     "text": [
      "100%|██████████| 13/13 [00:02<00:00,  5.14it/s]\n",
      "100%|██████████| 4/4 [00:00<00:00,  6.56it/s]\n",
      "  0%|          | 0/13 [00:00<?, ?it/s]"
     ]
    },
    {
     "name": "stdout",
     "output_type": "stream",
     "text": [
      "Train Loss: 0.1667, Train Acc: 0.9363\n",
      "Val Loss: 0.1621, Val Acc: 0.9421\n",
      "Validation loss decreased (0.162430 --> 0.162097).  Saving model ...\n",
      "../WeightsFinal_0.3_model_weights/Weights_replay_500/2018-04/best_model_epoch_2.pt\n",
      "../WeightsFinal_0.3_optimizer_weights/Weights_replay_500/2018-04/best_optimizer_epoch_2.pt\n",
      "Epoch 3 of 500\n"
     ]
    },
    {
     "name": "stderr",
     "output_type": "stream",
     "text": [
      "100%|██████████| 13/13 [00:02<00:00,  5.02it/s]\n",
      "100%|██████████| 4/4 [00:00<00:00,  5.39it/s]\n",
      "  0%|          | 0/13 [00:00<?, ?it/s]"
     ]
    },
    {
     "name": "stdout",
     "output_type": "stream",
     "text": [
      "Train Loss: 0.1623, Train Acc: 0.9375\n",
      "Val Loss: 0.1614, Val Acc: 0.9423\n",
      "Validation loss decreased (0.162097 --> 0.161370).  Saving model ...\n",
      "../WeightsFinal_0.3_model_weights/Weights_replay_500/2018-04/best_model_epoch_3.pt\n",
      "../WeightsFinal_0.3_optimizer_weights/Weights_replay_500/2018-04/best_optimizer_epoch_3.pt\n",
      "Epoch 4 of 500\n"
     ]
    },
    {
     "name": "stderr",
     "output_type": "stream",
     "text": [
      "100%|██████████| 13/13 [00:02<00:00,  5.20it/s]\n",
      "100%|██████████| 4/4 [00:00<00:00,  7.11it/s]\n",
      "  0%|          | 0/13 [00:00<?, ?it/s]"
     ]
    },
    {
     "name": "stdout",
     "output_type": "stream",
     "text": [
      "Train Loss: 0.1561, Train Acc: 0.9398\n",
      "Val Loss: 0.1570, Val Acc: 0.9437\n",
      "Validation loss decreased (0.161370 --> 0.157002).  Saving model ...\n",
      "../WeightsFinal_0.3_model_weights/Weights_replay_500/2018-04/best_model_epoch_4.pt\n",
      "../WeightsFinal_0.3_optimizer_weights/Weights_replay_500/2018-04/best_optimizer_epoch_4.pt\n",
      "Epoch 5 of 500\n"
     ]
    },
    {
     "name": "stderr",
     "output_type": "stream",
     "text": [
      "100%|██████████| 13/13 [00:02<00:00,  5.25it/s]\n",
      "100%|██████████| 4/4 [00:00<00:00,  7.97it/s]\n",
      "  0%|          | 0/13 [00:00<?, ?it/s]"
     ]
    },
    {
     "name": "stdout",
     "output_type": "stream",
     "text": [
      "Train Loss: 0.1579, Train Acc: 0.9415\n",
      "Val Loss: 0.1554, Val Acc: 0.9445\n",
      "Validation loss decreased (0.157002 --> 0.155384).  Saving model ...\n",
      "../WeightsFinal_0.3_model_weights/Weights_replay_500/2018-04/best_model_epoch_5.pt\n",
      "../WeightsFinal_0.3_optimizer_weights/Weights_replay_500/2018-04/best_optimizer_epoch_5.pt\n",
      "Epoch 6 of 500\n"
     ]
    },
    {
     "name": "stderr",
     "output_type": "stream",
     "text": [
      "100%|██████████| 13/13 [00:02<00:00,  5.41it/s]\n",
      "100%|██████████| 4/4 [00:00<00:00,  7.69it/s]\n",
      "  0%|          | 0/13 [00:00<?, ?it/s]"
     ]
    },
    {
     "name": "stdout",
     "output_type": "stream",
     "text": [
      "Train Loss: 0.1525, Train Acc: 0.9421\n",
      "Val Loss: 0.1533, Val Acc: 0.9459\n",
      "Validation loss decreased (0.155384 --> 0.153333).  Saving model ...\n",
      "../WeightsFinal_0.3_model_weights/Weights_replay_500/2018-04/best_model_epoch_6.pt\n",
      "../WeightsFinal_0.3_optimizer_weights/Weights_replay_500/2018-04/best_optimizer_epoch_6.pt\n",
      "Epoch 7 of 500\n"
     ]
    },
    {
     "name": "stderr",
     "output_type": "stream",
     "text": [
      "100%|██████████| 13/13 [00:02<00:00,  5.13it/s]\n",
      "100%|██████████| 4/4 [00:00<00:00,  6.24it/s]\n",
      "  0%|          | 0/13 [00:00<?, ?it/s]"
     ]
    },
    {
     "name": "stdout",
     "output_type": "stream",
     "text": [
      "Train Loss: 0.1479, Train Acc: 0.9433\n",
      "Val Loss: 0.1548, Val Acc: 0.9457\n",
      "EarlyStopping counter: 1 out of 5\n",
      "Epoch 8 of 500\n"
     ]
    },
    {
     "name": "stderr",
     "output_type": "stream",
     "text": [
      "100%|██████████| 13/13 [00:02<00:00,  5.43it/s]\n",
      "100%|██████████| 4/4 [00:00<00:00,  6.48it/s]\n",
      "  0%|          | 0/13 [00:00<?, ?it/s]"
     ]
    },
    {
     "name": "stdout",
     "output_type": "stream",
     "text": [
      "Train Loss: 0.1452, Train Acc: 0.9450\n",
      "Val Loss: 0.1522, Val Acc: 0.9461\n",
      "Validation loss decreased (0.153333 --> 0.152245).  Saving model ...\n",
      "../WeightsFinal_0.3_model_weights/Weights_replay_500/2018-04/best_model_epoch_8.pt\n",
      "../WeightsFinal_0.3_optimizer_weights/Weights_replay_500/2018-04/best_optimizer_epoch_8.pt\n",
      "Epoch 9 of 500\n"
     ]
    },
    {
     "name": "stderr",
     "output_type": "stream",
     "text": [
      "100%|██████████| 13/13 [00:02<00:00,  5.18it/s]\n",
      "100%|██████████| 4/4 [00:00<00:00,  5.87it/s]\n",
      "  0%|          | 0/13 [00:00<?, ?it/s]"
     ]
    },
    {
     "name": "stdout",
     "output_type": "stream",
     "text": [
      "Train Loss: 0.1400, Train Acc: 0.9463\n",
      "Val Loss: 0.1555, Val Acc: 0.9458\n",
      "EarlyStopping counter: 1 out of 5\n",
      "Epoch 10 of 500\n"
     ]
    },
    {
     "name": "stderr",
     "output_type": "stream",
     "text": [
      "100%|██████████| 13/13 [00:02<00:00,  5.86it/s]\n",
      "100%|██████████| 4/4 [00:00<00:00,  6.24it/s]\n",
      "  0%|          | 0/13 [00:00<?, ?it/s]"
     ]
    },
    {
     "name": "stdout",
     "output_type": "stream",
     "text": [
      "Train Loss: 0.1388, Train Acc: 0.9457\n",
      "Val Loss: 0.1531, Val Acc: 0.9461\n",
      "EarlyStopping counter: 2 out of 5\n",
      "Epoch 11 of 500\n"
     ]
    },
    {
     "name": "stderr",
     "output_type": "stream",
     "text": [
      "100%|██████████| 13/13 [00:02<00:00,  4.99it/s]\n",
      "100%|██████████| 4/4 [00:00<00:00,  6.80it/s]\n",
      "  0%|          | 0/13 [00:00<?, ?it/s]"
     ]
    },
    {
     "name": "stdout",
     "output_type": "stream",
     "text": [
      "Train Loss: 0.1367, Train Acc: 0.9480\n",
      "Val Loss: 0.1504, Val Acc: 0.9473\n",
      "Validation loss decreased (0.152245 --> 0.150429).  Saving model ...\n",
      "../WeightsFinal_0.3_model_weights/Weights_replay_500/2018-04/best_model_epoch_11.pt\n",
      "../WeightsFinal_0.3_optimizer_weights/Weights_replay_500/2018-04/best_optimizer_epoch_11.pt\n",
      "Epoch 12 of 500\n"
     ]
    },
    {
     "name": "stderr",
     "output_type": "stream",
     "text": [
      "100%|██████████| 13/13 [00:02<00:00,  5.11it/s]\n",
      "100%|██████████| 4/4 [00:00<00:00,  6.42it/s]\n",
      "  0%|          | 0/13 [00:00<?, ?it/s]"
     ]
    },
    {
     "name": "stdout",
     "output_type": "stream",
     "text": [
      "Train Loss: 0.1390, Train Acc: 0.9466\n",
      "Val Loss: 0.1513, Val Acc: 0.9475\n",
      "EarlyStopping counter: 1 out of 5\n",
      "Epoch 13 of 500\n"
     ]
    },
    {
     "name": "stderr",
     "output_type": "stream",
     "text": [
      "100%|██████████| 13/13 [00:02<00:00,  5.85it/s]\n",
      "100%|██████████| 4/4 [00:00<00:00,  7.30it/s]\n",
      "  0%|          | 0/13 [00:00<?, ?it/s]"
     ]
    },
    {
     "name": "stdout",
     "output_type": "stream",
     "text": [
      "Train Loss: 0.1336, Train Acc: 0.9484\n",
      "Val Loss: 0.1530, Val Acc: 0.9457\n",
      "EarlyStopping counter: 2 out of 5\n",
      "Epoch 14 of 500\n"
     ]
    },
    {
     "name": "stderr",
     "output_type": "stream",
     "text": [
      "100%|██████████| 13/13 [00:02<00:00,  5.93it/s]\n",
      "100%|██████████| 4/4 [00:00<00:00,  5.97it/s]\n",
      "  0%|          | 0/13 [00:00<?, ?it/s]"
     ]
    },
    {
     "name": "stdout",
     "output_type": "stream",
     "text": [
      "Train Loss: 0.1341, Train Acc: 0.9494\n",
      "Val Loss: 0.1519, Val Acc: 0.9464\n",
      "EarlyStopping counter: 3 out of 5\n",
      "Epoch 15 of 500\n"
     ]
    },
    {
     "name": "stderr",
     "output_type": "stream",
     "text": [
      "100%|██████████| 13/13 [00:02<00:00,  5.44it/s]\n",
      "100%|██████████| 4/4 [00:00<00:00,  7.89it/s]\n",
      "  0%|          | 0/13 [00:00<?, ?it/s]"
     ]
    },
    {
     "name": "stdout",
     "output_type": "stream",
     "text": [
      "Train Loss: 0.1334, Train Acc: 0.9488\n",
      "Val Loss: 0.1489, Val Acc: 0.9465\n",
      "Validation loss decreased (0.150429 --> 0.148907).  Saving model ...\n",
      "../WeightsFinal_0.3_model_weights/Weights_replay_500/2018-04/best_model_epoch_15.pt\n",
      "../WeightsFinal_0.3_optimizer_weights/Weights_replay_500/2018-04/best_optimizer_epoch_15.pt\n",
      "Epoch 16 of 500\n"
     ]
    },
    {
     "name": "stderr",
     "output_type": "stream",
     "text": [
      "100%|██████████| 13/13 [00:02<00:00,  5.18it/s]\n",
      "100%|██████████| 4/4 [00:00<00:00,  6.19it/s]\n",
      "  0%|          | 0/13 [00:00<?, ?it/s]"
     ]
    },
    {
     "name": "stdout",
     "output_type": "stream",
     "text": [
      "Train Loss: 0.1295, Train Acc: 0.9508\n",
      "Val Loss: 0.1506, Val Acc: 0.9472\n",
      "EarlyStopping counter: 1 out of 5\n",
      "Epoch 17 of 500\n"
     ]
    },
    {
     "name": "stderr",
     "output_type": "stream",
     "text": [
      "100%|██████████| 13/13 [00:02<00:00,  5.34it/s]\n",
      "100%|██████████| 4/4 [00:00<00:00,  6.63it/s]\n",
      "  0%|          | 0/13 [00:00<?, ?it/s]"
     ]
    },
    {
     "name": "stdout",
     "output_type": "stream",
     "text": [
      "Train Loss: 0.1294, Train Acc: 0.9511\n",
      "Val Loss: 0.1497, Val Acc: 0.9484\n",
      "EarlyStopping counter: 2 out of 5\n",
      "Epoch 18 of 500\n"
     ]
    },
    {
     "name": "stderr",
     "output_type": "stream",
     "text": [
      "100%|██████████| 13/13 [00:02<00:00,  5.06it/s]\n",
      "100%|██████████| 4/4 [00:00<00:00,  6.54it/s]\n",
      "  0%|          | 0/13 [00:00<?, ?it/s]"
     ]
    },
    {
     "name": "stdout",
     "output_type": "stream",
     "text": [
      "Train Loss: 0.1257, Train Acc: 0.9522\n",
      "Val Loss: 0.1521, Val Acc: 0.9463\n",
      "EarlyStopping counter: 3 out of 5\n",
      "Epoch 19 of 500\n"
     ]
    },
    {
     "name": "stderr",
     "output_type": "stream",
     "text": [
      "100%|██████████| 13/13 [00:02<00:00,  6.06it/s]\n",
      "100%|██████████| 4/4 [00:00<00:00,  7.74it/s]\n",
      "  0%|          | 0/13 [00:00<?, ?it/s]"
     ]
    },
    {
     "name": "stdout",
     "output_type": "stream",
     "text": [
      "Train Loss: 0.1231, Train Acc: 0.9528\n",
      "Val Loss: 0.1533, Val Acc: 0.9468\n",
      "EarlyStopping counter: 4 out of 5\n",
      "Epoch 20 of 500\n"
     ]
    },
    {
     "name": "stderr",
     "output_type": "stream",
     "text": [
      "100%|██████████| 13/13 [00:02<00:00,  5.37it/s]\n",
      "100%|██████████| 4/4 [00:00<00:00,  6.13it/s]\n",
      "  0%|          | 0/4 [00:00<?, ?it/s]"
     ]
    },
    {
     "name": "stdout",
     "output_type": "stream",
     "text": [
      "Train Loss: 0.1215, Train Acc: 0.9542\n",
      "Val Loss: 0.1505, Val Acc: 0.9470\n",
      "EarlyStopping counter: 5 out of 5\n",
      "Early stopping\n",
      "Training time: 1.032 minutes\n",
      "loading best model ../WeightsFinal_0.3_model_weights/Weights_replay_500/2018-04/best_model_epoch_15.pt\n",
      "loading best optimizer ../WeightsFinal_0.3_optimizer_weights/Weights_replay_500/2018-04/best_optimizer_epoch_15.pt\n"
     ]
    },
    {
     "name": "stderr",
     "output_type": "stream",
     "text": [
      "100%|██████████| 4/4 [00:00<00:00,  4.27it/s]\n"
     ]
    },
    {
     "name": "stdout",
     "output_type": "stream",
     "text": [
      "test accuracy 0.947135329246521 and ROC-AUC 0.9480746374206737\n",
      "Elapsed time 7.719279563426971 mins.\n",
      "\n",
      "\n",
      "2023-01-30 11:59:18 Round 1 ...\n",
      "Current Task 2018-05 w/ 500 samples to Replay per Malware family.\n",
      "X_train (41320, 2381) Y_train (41320,) Y_tr_family (41320,)\n",
      "X_test (25560, 2381) Y_test (25560,) Y_te_family (25560,)\n",
      "Task 2018-05 and #-of new samples stored 41320\n"
     ]
    },
    {
     "name": "stderr",
     "output_type": "stream",
     "text": [
      "\r",
      "  0%|          | 0/1 [00:00<?, ?it/s]"
     ]
    },
    {
     "name": "stdout",
     "output_type": "stream",
     "text": [
      "loading best model ../WeightsFinal_0.3_model_weights/Weights_replay_500/2018-04/best_model_epoch_15.pt\n"
     ]
    },
    {
     "name": "stderr",
     "output_type": "stream",
     "text": [
      "100%|██████████| 1/1 [00:00<00:00,  2.89it/s]\n",
      "100%|██████████| 1/1 [00:00<00:00,  2.28it/s]\n",
      "100%|██████████| 1/1 [00:00<00:00,  2.68it/s]\n",
      "100%|██████████| 1/1 [00:00<00:00,  3.07it/s]\n",
      "100%|██████████| 1/1 [00:00<00:00,  2.60it/s]\n",
      "100%|██████████| 1/1 [00:00<00:00,  3.11it/s]\n",
      "100%|██████████| 1/1 [00:00<00:00,  2.96it/s]\n",
      "100%|██████████| 1/1 [00:00<00:00,  2.86it/s]\n",
      "100%|██████████| 1/1 [00:00<00:00,  2.96it/s]\n",
      "100%|██████████| 1/1 [00:00<00:00,  2.86it/s]\n",
      "100%|██████████| 1/1 [00:00<00:00,  2.93it/s]\n",
      "100%|██████████| 1/1 [00:00<00:00,  2.94it/s]\n",
      "100%|██████████| 1/1 [00:00<00:00,  2.75it/s]\n",
      "100%|██████████| 1/1 [00:00<00:00,  2.93it/s]\n",
      "100%|██████████| 1/1 [00:00<00:00,  3.01it/s]\n",
      "100%|██████████| 1/1 [00:00<00:00,  2.67it/s]\n",
      "100%|██████████| 1/1 [00:00<00:00,  2.30it/s]\n",
      "100%|██████████| 1/1 [00:00<00:00,  3.17it/s]\n",
      "100%|██████████| 1/1 [00:00<00:00,  3.14it/s]\n",
      "100%|██████████| 1/1 [00:00<00:00,  2.88it/s]\n",
      "100%|██████████| 1/1 [00:00<00:00,  3.02it/s]\n",
      "100%|██████████| 1/1 [00:00<00:00,  3.04it/s]\n",
      "100%|██████████| 1/1 [00:00<00:00,  2.89it/s]\n",
      "100%|██████████| 1/1 [00:00<00:00,  3.31it/s]\n",
      "100%|██████████| 1/1 [00:00<00:00,  2.67it/s]\n"
     ]
    },
    {
     "name": "stdout",
     "output_type": "stream",
     "text": [
      "2023-01-30 12:00:08 Standardizing ...\n"
     ]
    },
    {
     "name": "stderr",
     "output_type": "stream",
     "text": [
      "\r",
      "  0%|          | 0/14 [00:00<?, ?it/s]"
     ]
    },
    {
     "name": "stdout",
     "output_type": "stream",
     "text": [
      "\n",
      "X_train (87066, 2381) Y_train (87066,)\n",
      "\n",
      "2023-01-30 12:00:14 Training ...\n",
      "Epoch 1 of 500\n"
     ]
    },
    {
     "name": "stderr",
     "output_type": "stream",
     "text": [
      "100%|██████████| 14/14 [00:02<00:00,  5.74it/s]\n",
      "100%|██████████| 5/5 [00:00<00:00,  6.40it/s]\n",
      "  0%|          | 0/14 [00:00<?, ?it/s]"
     ]
    },
    {
     "name": "stdout",
     "output_type": "stream",
     "text": [
      "Train Loss: 0.1625, Train Acc: 0.9380\n",
      "Val Loss: 0.1568, Val Acc: 0.9449\n",
      "Validation loss decreased (inf --> 0.156788).  Saving model ...\n",
      "../WeightsFinal_0.3_model_weights/Weights_replay_500/2018-05/best_model_epoch_1.pt\n",
      "../WeightsFinal_0.3_optimizer_weights/Weights_replay_500/2018-05/best_optimizer_epoch_1.pt\n",
      "Epoch 2 of 500\n"
     ]
    },
    {
     "name": "stderr",
     "output_type": "stream",
     "text": [
      "100%|██████████| 14/14 [00:02<00:00,  4.68it/s]\n",
      "100%|██████████| 5/5 [00:00<00:00,  6.24it/s]\n",
      "  0%|          | 0/14 [00:00<?, ?it/s]"
     ]
    },
    {
     "name": "stdout",
     "output_type": "stream",
     "text": [
      "Train Loss: 0.1552, Train Acc: 0.9415\n",
      "Val Loss: 0.1570, Val Acc: 0.9428\n",
      "EarlyStopping counter: 1 out of 5\n",
      "Epoch 3 of 500\n"
     ]
    },
    {
     "name": "stderr",
     "output_type": "stream",
     "text": [
      "100%|██████████| 14/14 [00:02<00:00,  5.85it/s]\n",
      "100%|██████████| 5/5 [00:00<00:00,  7.98it/s]\n",
      "  0%|          | 0/14 [00:00<?, ?it/s]"
     ]
    },
    {
     "name": "stdout",
     "output_type": "stream",
     "text": [
      "Train Loss: 0.1512, Train Acc: 0.9427\n",
      "Val Loss: 0.1550, Val Acc: 0.9442\n",
      "Validation loss decreased (0.156788 --> 0.155000).  Saving model ...\n",
      "../WeightsFinal_0.3_model_weights/Weights_replay_500/2018-05/best_model_epoch_3.pt\n",
      "../WeightsFinal_0.3_optimizer_weights/Weights_replay_500/2018-05/best_optimizer_epoch_3.pt\n",
      "Epoch 4 of 500\n"
     ]
    },
    {
     "name": "stderr",
     "output_type": "stream",
     "text": [
      "100%|██████████| 14/14 [00:02<00:00,  5.58it/s]\n",
      "100%|██████████| 5/5 [00:00<00:00,  6.93it/s]\n",
      "  0%|          | 0/14 [00:00<?, ?it/s]"
     ]
    },
    {
     "name": "stdout",
     "output_type": "stream",
     "text": [
      "Train Loss: 0.1450, Train Acc: 0.9451\n",
      "Val Loss: 0.1494, Val Acc: 0.9465\n",
      "Validation loss decreased (0.155000 --> 0.149432).  Saving model ...\n",
      "../WeightsFinal_0.3_model_weights/Weights_replay_500/2018-05/best_model_epoch_4.pt\n",
      "../WeightsFinal_0.3_optimizer_weights/Weights_replay_500/2018-05/best_optimizer_epoch_4.pt\n",
      "Epoch 5 of 500\n"
     ]
    },
    {
     "name": "stderr",
     "output_type": "stream",
     "text": [
      "100%|██████████| 14/14 [00:02<00:00,  5.27it/s]\n",
      "100%|██████████| 5/5 [00:00<00:00,  8.24it/s]\n",
      "  0%|          | 0/14 [00:00<?, ?it/s]"
     ]
    },
    {
     "name": "stdout",
     "output_type": "stream",
     "text": [
      "Train Loss: 0.1425, Train Acc: 0.9459\n",
      "Val Loss: 0.1508, Val Acc: 0.9450\n",
      "EarlyStopping counter: 1 out of 5\n",
      "Epoch 6 of 500\n"
     ]
    },
    {
     "name": "stderr",
     "output_type": "stream",
     "text": [
      "100%|██████████| 14/14 [00:02<00:00,  6.26it/s]\n",
      "100%|██████████| 5/5 [00:00<00:00,  6.73it/s]\n",
      "  0%|          | 0/14 [00:00<?, ?it/s]"
     ]
    },
    {
     "name": "stdout",
     "output_type": "stream",
     "text": [
      "Train Loss: 0.1454, Train Acc: 0.9447\n",
      "Val Loss: 0.1509, Val Acc: 0.9470\n",
      "EarlyStopping counter: 2 out of 5\n",
      "Epoch 7 of 500\n"
     ]
    },
    {
     "name": "stderr",
     "output_type": "stream",
     "text": [
      "100%|██████████| 14/14 [00:02<00:00,  5.27it/s]\n",
      "100%|██████████| 5/5 [00:00<00:00,  7.99it/s]\n",
      "  0%|          | 0/14 [00:00<?, ?it/s]"
     ]
    },
    {
     "name": "stdout",
     "output_type": "stream",
     "text": [
      "Train Loss: 0.1380, Train Acc: 0.9476\n",
      "Val Loss: 0.1470, Val Acc: 0.9476\n",
      "Validation loss decreased (0.149432 --> 0.147016).  Saving model ...\n",
      "../WeightsFinal_0.3_model_weights/Weights_replay_500/2018-05/best_model_epoch_7.pt\n",
      "../WeightsFinal_0.3_optimizer_weights/Weights_replay_500/2018-05/best_optimizer_epoch_7.pt\n",
      "Epoch 8 of 500\n"
     ]
    },
    {
     "name": "stderr",
     "output_type": "stream",
     "text": [
      "100%|██████████| 14/14 [00:02<00:00,  5.22it/s]\n",
      "100%|██████████| 5/5 [00:00<00:00,  6.55it/s]\n",
      "  0%|          | 0/14 [00:00<?, ?it/s]"
     ]
    },
    {
     "name": "stdout",
     "output_type": "stream",
     "text": [
      "Train Loss: 0.1384, Train Acc: 0.9484\n",
      "Val Loss: 0.1486, Val Acc: 0.9466\n",
      "EarlyStopping counter: 1 out of 5\n",
      "Epoch 9 of 500\n"
     ]
    },
    {
     "name": "stderr",
     "output_type": "stream",
     "text": [
      "100%|██████████| 14/14 [00:02<00:00,  5.97it/s]\n",
      "100%|██████████| 5/5 [00:00<00:00,  6.72it/s]\n",
      "  0%|          | 0/14 [00:00<?, ?it/s]"
     ]
    },
    {
     "name": "stdout",
     "output_type": "stream",
     "text": [
      "Train Loss: 0.1361, Train Acc: 0.9477\n",
      "Val Loss: 0.1434, Val Acc: 0.9481\n",
      "Validation loss decreased (0.147016 --> 0.143413).  Saving model ...\n",
      "../WeightsFinal_0.3_model_weights/Weights_replay_500/2018-05/best_model_epoch_9.pt\n",
      "../WeightsFinal_0.3_optimizer_weights/Weights_replay_500/2018-05/best_optimizer_epoch_9.pt\n",
      "Epoch 10 of 500\n"
     ]
    },
    {
     "name": "stderr",
     "output_type": "stream",
     "text": [
      "100%|██████████| 14/14 [00:02<00:00,  6.27it/s]\n",
      "100%|██████████| 5/5 [00:00<00:00,  8.72it/s]\n",
      "  0%|          | 0/14 [00:00<?, ?it/s]"
     ]
    },
    {
     "name": "stdout",
     "output_type": "stream",
     "text": [
      "Train Loss: 0.1361, Train Acc: 0.9480\n",
      "Val Loss: 0.1558, Val Acc: 0.9435\n",
      "EarlyStopping counter: 1 out of 5\n",
      "Epoch 11 of 500\n"
     ]
    },
    {
     "name": "stderr",
     "output_type": "stream",
     "text": [
      "100%|██████████| 14/14 [00:02<00:00,  4.89it/s]\n",
      "100%|██████████| 5/5 [00:00<00:00,  6.19it/s]\n",
      "  0%|          | 0/14 [00:00<?, ?it/s]"
     ]
    },
    {
     "name": "stdout",
     "output_type": "stream",
     "text": [
      "Train Loss: 0.1379, Train Acc: 0.9477\n",
      "Val Loss: 0.1467, Val Acc: 0.9480\n",
      "EarlyStopping counter: 2 out of 5\n",
      "Epoch 12 of 500\n"
     ]
    },
    {
     "name": "stderr",
     "output_type": "stream",
     "text": [
      "100%|██████████| 14/14 [00:02<00:00,  5.89it/s]\n",
      "100%|██████████| 5/5 [00:00<00:00,  7.90it/s]\n",
      "  0%|          | 0/14 [00:00<?, ?it/s]"
     ]
    },
    {
     "name": "stdout",
     "output_type": "stream",
     "text": [
      "Train Loss: 0.1299, Train Acc: 0.9499\n",
      "Val Loss: 0.1439, Val Acc: 0.9495\n",
      "EarlyStopping counter: 3 out of 5\n",
      "Epoch 13 of 500\n"
     ]
    },
    {
     "name": "stderr",
     "output_type": "stream",
     "text": [
      "100%|██████████| 14/14 [00:02<00:00,  5.92it/s]\n",
      "100%|██████████| 5/5 [00:00<00:00,  6.59it/s]\n",
      "  0%|          | 0/14 [00:00<?, ?it/s]"
     ]
    },
    {
     "name": "stdout",
     "output_type": "stream",
     "text": [
      "Train Loss: 0.1314, Train Acc: 0.9495\n",
      "Val Loss: 0.1442, Val Acc: 0.9494\n",
      "EarlyStopping counter: 4 out of 5\n",
      "Epoch 14 of 500\n"
     ]
    },
    {
     "name": "stderr",
     "output_type": "stream",
     "text": [
      "100%|██████████| 14/14 [00:02<00:00,  5.03it/s]\n",
      "100%|██████████| 5/5 [00:00<00:00,  7.58it/s]\n",
      "  0%|          | 0/5 [00:00<?, ?it/s]"
     ]
    },
    {
     "name": "stdout",
     "output_type": "stream",
     "text": [
      "Train Loss: 0.1290, Train Acc: 0.9507\n",
      "Val Loss: 0.1471, Val Acc: 0.9493\n",
      "EarlyStopping counter: 5 out of 5\n",
      "Early stopping\n",
      "Training time: 0.770 minutes\n",
      "loading best model ../WeightsFinal_0.3_model_weights/Weights_replay_500/2018-05/best_model_epoch_9.pt\n",
      "loading best optimizer ../WeightsFinal_0.3_optimizer_weights/Weights_replay_500/2018-05/best_optimizer_epoch_9.pt\n"
     ]
    },
    {
     "name": "stderr",
     "output_type": "stream",
     "text": [
      "100%|██████████| 5/5 [00:01<00:00,  4.22it/s]\n"
     ]
    },
    {
     "name": "stdout",
     "output_type": "stream",
     "text": [
      "test accuracy 0.948397433757782 and ROC-AUC 0.9473066467763938\n",
      "Elapsed time 9.440738793214162 mins.\n",
      "\n",
      "\n",
      "2023-01-30 12:01:02 Round 1 ...\n",
      "Current Task 2018-06 w/ 500 samples to Replay per Malware family.\n",
      "X_train (43560, 2381) Y_train (43560,) Y_tr_family (43560,)\n",
      "X_test (30401, 2381) Y_test (30401,) Y_te_family (30401,)\n",
      "Task 2018-06 and #-of new samples stored 43560\n"
     ]
    },
    {
     "name": "stderr",
     "output_type": "stream",
     "text": [
      "\r",
      "  0%|          | 0/1 [00:00<?, ?it/s]"
     ]
    },
    {
     "name": "stdout",
     "output_type": "stream",
     "text": [
      "loading best model ../WeightsFinal_0.3_model_weights/Weights_replay_500/2018-05/best_model_epoch_9.pt\n"
     ]
    },
    {
     "name": "stderr",
     "output_type": "stream",
     "text": [
      "100%|██████████| 1/1 [00:00<00:00,  2.72it/s]\n",
      "100%|██████████| 1/1 [00:00<00:00,  2.77it/s]\n",
      "100%|██████████| 1/1 [00:00<00:00,  2.51it/s]\n",
      "100%|██████████| 1/1 [00:00<00:00,  2.83it/s]\n",
      "100%|██████████| 1/1 [00:00<00:00,  2.80it/s]\n",
      "100%|██████████| 1/1 [00:00<00:00,  2.68it/s]\n",
      "100%|██████████| 1/1 [00:00<00:00,  2.89it/s]\n",
      "100%|██████████| 1/1 [00:00<00:00,  2.55it/s]\n",
      "100%|██████████| 1/1 [00:00<00:00,  2.85it/s]\n",
      "100%|██████████| 1/1 [00:00<00:00,  2.81it/s]\n",
      "100%|██████████| 1/1 [00:00<00:00,  2.81it/s]\n",
      "100%|██████████| 1/1 [00:00<00:00,  2.94it/s]\n",
      "100%|██████████| 1/1 [00:00<00:00,  2.74it/s]\n",
      "100%|██████████| 1/1 [00:00<00:00,  2.68it/s]\n",
      "100%|██████████| 1/1 [00:00<00:00,  2.76it/s]\n",
      "100%|██████████| 1/1 [00:00<00:00,  2.59it/s]\n",
      "100%|██████████| 1/1 [00:00<00:00,  2.88it/s]\n",
      "100%|██████████| 1/1 [00:00<00:00,  2.86it/s]\n",
      "100%|██████████| 1/1 [00:00<00:00,  2.79it/s]\n",
      "100%|██████████| 1/1 [00:00<00:00,  2.93it/s]\n",
      "100%|██████████| 1/1 [00:00<00:00,  2.78it/s]\n",
      "100%|██████████| 1/1 [00:00<00:00,  2.79it/s]\n",
      "100%|██████████| 1/1 [00:00<00:00,  2.78it/s]\n",
      "100%|██████████| 1/1 [00:00<00:00,  2.86it/s]\n",
      "100%|██████████| 1/1 [00:00<00:00,  2.65it/s]\n",
      "100%|██████████| 1/1 [00:00<00:00,  2.78it/s]\n",
      "100%|██████████| 1/1 [00:00<00:00,  2.70it/s]\n",
      "100%|██████████| 1/1 [00:00<00:00,  2.74it/s]\n"
     ]
    },
    {
     "name": "stdout",
     "output_type": "stream",
     "text": [
      "2023-01-30 12:01:56 Standardizing ...\n"
     ]
    },
    {
     "name": "stderr",
     "output_type": "stream",
     "text": [
      "\r",
      "  0%|          | 0/17 [00:00<?, ?it/s]"
     ]
    },
    {
     "name": "stdout",
     "output_type": "stream",
     "text": [
      "\n",
      "X_train (102068, 2381) Y_train (102068,)\n",
      "\n",
      "2023-01-30 12:02:06 Training ...\n",
      "Epoch 1 of 500\n"
     ]
    },
    {
     "name": "stderr",
     "output_type": "stream",
     "text": [
      "100%|██████████| 17/17 [00:03<00:00,  4.96it/s]\n",
      "100%|██████████| 6/6 [00:00<00:00,  6.47it/s]\n",
      "  0%|          | 0/17 [00:00<?, ?it/s]"
     ]
    },
    {
     "name": "stdout",
     "output_type": "stream",
     "text": [
      "Train Loss: 0.1584, Train Acc: 0.9408\n",
      "Val Loss: 0.1384, Val Acc: 0.9509\n",
      "Validation loss decreased (inf --> 0.138388).  Saving model ...\n",
      "../WeightsFinal_0.3_model_weights/Weights_replay_500/2018-06/best_model_epoch_1.pt\n",
      "../WeightsFinal_0.3_optimizer_weights/Weights_replay_500/2018-06/best_optimizer_epoch_1.pt\n",
      "Epoch 2 of 500\n"
     ]
    },
    {
     "name": "stderr",
     "output_type": "stream",
     "text": [
      "100%|██████████| 17/17 [00:03<00:00,  5.16it/s]\n",
      "100%|██████████| 6/6 [00:00<00:00,  6.74it/s]\n",
      "  0%|          | 0/17 [00:00<?, ?it/s]"
     ]
    },
    {
     "name": "stdout",
     "output_type": "stream",
     "text": [
      "Train Loss: 0.1532, Train Acc: 0.9434\n",
      "Val Loss: 0.1348, Val Acc: 0.9506\n",
      "Validation loss decreased (0.138388 --> 0.134839).  Saving model ...\n",
      "../WeightsFinal_0.3_model_weights/Weights_replay_500/2018-06/best_model_epoch_2.pt\n",
      "../WeightsFinal_0.3_optimizer_weights/Weights_replay_500/2018-06/best_optimizer_epoch_2.pt\n",
      "Epoch 3 of 500\n"
     ]
    },
    {
     "name": "stderr",
     "output_type": "stream",
     "text": [
      "100%|██████████| 17/17 [00:03<00:00,  5.63it/s]\n",
      "100%|██████████| 6/6 [00:00<00:00,  8.39it/s]\n",
      "  0%|          | 0/17 [00:00<?, ?it/s]"
     ]
    },
    {
     "name": "stdout",
     "output_type": "stream",
     "text": [
      "Train Loss: 0.1478, Train Acc: 0.9447\n",
      "Val Loss: 0.1329, Val Acc: 0.9510\n",
      "Validation loss decreased (0.134839 --> 0.132940).  Saving model ...\n",
      "../WeightsFinal_0.3_model_weights/Weights_replay_500/2018-06/best_model_epoch_3.pt\n",
      "../WeightsFinal_0.3_optimizer_weights/Weights_replay_500/2018-06/best_optimizer_epoch_3.pt\n",
      "Epoch 4 of 500\n"
     ]
    },
    {
     "name": "stderr",
     "output_type": "stream",
     "text": [
      "100%|██████████| 17/17 [00:03<00:00,  5.60it/s]\n",
      "100%|██████████| 6/6 [00:00<00:00,  9.56it/s]\n",
      "  0%|          | 0/17 [00:00<?, ?it/s]"
     ]
    },
    {
     "name": "stdout",
     "output_type": "stream",
     "text": [
      "Train Loss: 0.1449, Train Acc: 0.9455\n",
      "Val Loss: 0.1349, Val Acc: 0.9501\n",
      "EarlyStopping counter: 1 out of 5\n",
      "Epoch 5 of 500\n"
     ]
    },
    {
     "name": "stderr",
     "output_type": "stream",
     "text": [
      "100%|██████████| 17/17 [00:02<00:00,  6.01it/s]\n",
      "100%|██████████| 6/6 [00:00<00:00,  7.40it/s]\n",
      "  0%|          | 0/17 [00:00<?, ?it/s]"
     ]
    },
    {
     "name": "stdout",
     "output_type": "stream",
     "text": [
      "Train Loss: 0.1412, Train Acc: 0.9475\n",
      "Val Loss: 0.1373, Val Acc: 0.9491\n",
      "EarlyStopping counter: 2 out of 5\n",
      "Epoch 6 of 500\n"
     ]
    },
    {
     "name": "stderr",
     "output_type": "stream",
     "text": [
      "100%|██████████| 17/17 [00:03<00:00,  4.90it/s]\n",
      "100%|██████████| 6/6 [00:00<00:00,  7.11it/s]\n",
      "  0%|          | 0/17 [00:00<?, ?it/s]"
     ]
    },
    {
     "name": "stdout",
     "output_type": "stream",
     "text": [
      "Train Loss: 0.1379, Train Acc: 0.9479\n",
      "Val Loss: 0.1311, Val Acc: 0.9513\n",
      "Validation loss decreased (0.132940 --> 0.131123).  Saving model ...\n",
      "../WeightsFinal_0.3_model_weights/Weights_replay_500/2018-06/best_model_epoch_6.pt\n",
      "../WeightsFinal_0.3_optimizer_weights/Weights_replay_500/2018-06/best_optimizer_epoch_6.pt\n",
      "Epoch 7 of 500\n"
     ]
    },
    {
     "name": "stderr",
     "output_type": "stream",
     "text": [
      "100%|██████████| 17/17 [00:03<00:00,  5.46it/s]\n",
      "100%|██████████| 6/6 [00:00<00:00,  7.64it/s]\n",
      "  0%|          | 0/17 [00:00<?, ?it/s]"
     ]
    },
    {
     "name": "stdout",
     "output_type": "stream",
     "text": [
      "Train Loss: 0.1364, Train Acc: 0.9476\n",
      "Val Loss: 0.1321, Val Acc: 0.9508\n",
      "EarlyStopping counter: 1 out of 5\n",
      "Epoch 8 of 500\n"
     ]
    },
    {
     "name": "stderr",
     "output_type": "stream",
     "text": [
      "100%|██████████| 17/17 [00:02<00:00,  5.70it/s]\n",
      "100%|██████████| 6/6 [00:00<00:00,  7.13it/s]\n",
      "  0%|          | 0/17 [00:00<?, ?it/s]"
     ]
    },
    {
     "name": "stdout",
     "output_type": "stream",
     "text": [
      "Train Loss: 0.1356, Train Acc: 0.9483\n",
      "Val Loss: 0.1288, Val Acc: 0.9532\n",
      "Validation loss decreased (0.131123 --> 0.128777).  Saving model ...\n",
      "../WeightsFinal_0.3_model_weights/Weights_replay_500/2018-06/best_model_epoch_8.pt\n",
      "../WeightsFinal_0.3_optimizer_weights/Weights_replay_500/2018-06/best_optimizer_epoch_8.pt\n",
      "Epoch 9 of 500\n"
     ]
    },
    {
     "name": "stderr",
     "output_type": "stream",
     "text": [
      "100%|██████████| 17/17 [00:03<00:00,  4.90it/s]\n",
      "100%|██████████| 6/6 [00:00<00:00,  6.28it/s]\n",
      "  0%|          | 0/17 [00:00<?, ?it/s]"
     ]
    },
    {
     "name": "stdout",
     "output_type": "stream",
     "text": [
      "Train Loss: 0.1332, Train Acc: 0.9499\n",
      "Val Loss: 0.1315, Val Acc: 0.9508\n",
      "EarlyStopping counter: 1 out of 5\n",
      "Epoch 10 of 500\n"
     ]
    },
    {
     "name": "stderr",
     "output_type": "stream",
     "text": [
      "100%|██████████| 17/17 [00:03<00:00,  5.27it/s]\n",
      "100%|██████████| 6/6 [00:00<00:00,  7.32it/s]\n",
      "  0%|          | 0/17 [00:00<?, ?it/s]"
     ]
    },
    {
     "name": "stdout",
     "output_type": "stream",
     "text": [
      "Train Loss: 0.1312, Train Acc: 0.9513\n",
      "Val Loss: 0.1300, Val Acc: 0.9517\n",
      "EarlyStopping counter: 2 out of 5\n",
      "Epoch 11 of 500\n"
     ]
    },
    {
     "name": "stderr",
     "output_type": "stream",
     "text": [
      "100%|██████████| 17/17 [00:02<00:00,  5.72it/s]\n",
      "100%|██████████| 6/6 [00:00<00:00,  7.57it/s]\n",
      "  0%|          | 0/17 [00:00<?, ?it/s]"
     ]
    },
    {
     "name": "stdout",
     "output_type": "stream",
     "text": [
      "Train Loss: 0.1308, Train Acc: 0.9505\n",
      "Val Loss: 0.1321, Val Acc: 0.9508\n",
      "EarlyStopping counter: 3 out of 5\n",
      "Epoch 12 of 500\n"
     ]
    },
    {
     "name": "stderr",
     "output_type": "stream",
     "text": [
      "100%|██████████| 17/17 [00:03<00:00,  4.95it/s]\n",
      "100%|██████████| 6/6 [00:00<00:00,  6.74it/s]\n",
      "  0%|          | 0/17 [00:00<?, ?it/s]"
     ]
    },
    {
     "name": "stdout",
     "output_type": "stream",
     "text": [
      "Train Loss: 0.1301, Train Acc: 0.9503\n",
      "Val Loss: 0.1287, Val Acc: 0.9534\n",
      "Validation loss decreased (0.128777 --> 0.128651).  Saving model ...\n",
      "../WeightsFinal_0.3_model_weights/Weights_replay_500/2018-06/best_model_epoch_12.pt\n",
      "../WeightsFinal_0.3_optimizer_weights/Weights_replay_500/2018-06/best_optimizer_epoch_12.pt\n",
      "Epoch 13 of 500\n"
     ]
    },
    {
     "name": "stderr",
     "output_type": "stream",
     "text": [
      "100%|██████████| 17/17 [00:03<00:00,  4.99it/s]\n",
      "100%|██████████| 6/6 [00:00<00:00,  6.61it/s]\n",
      "  0%|          | 0/17 [00:00<?, ?it/s]"
     ]
    },
    {
     "name": "stdout",
     "output_type": "stream",
     "text": [
      "Train Loss: 0.1287, Train Acc: 0.9508\n",
      "Val Loss: 0.1331, Val Acc: 0.9519\n",
      "EarlyStopping counter: 1 out of 5\n",
      "Epoch 14 of 500\n"
     ]
    },
    {
     "name": "stderr",
     "output_type": "stream",
     "text": [
      "100%|██████████| 17/17 [00:03<00:00,  5.54it/s]\n",
      "100%|██████████| 6/6 [00:00<00:00,  7.71it/s]\n",
      "  0%|          | 0/17 [00:00<?, ?it/s]"
     ]
    },
    {
     "name": "stdout",
     "output_type": "stream",
     "text": [
      "Train Loss: 0.1273, Train Acc: 0.9523\n",
      "Val Loss: 0.1346, Val Acc: 0.9499\n",
      "EarlyStopping counter: 2 out of 5\n",
      "Epoch 15 of 500\n"
     ]
    },
    {
     "name": "stderr",
     "output_type": "stream",
     "text": [
      "100%|██████████| 17/17 [00:03<00:00,  5.40it/s]\n",
      "100%|██████████| 6/6 [00:00<00:00,  7.45it/s]\n",
      "  0%|          | 0/17 [00:00<?, ?it/s]"
     ]
    },
    {
     "name": "stdout",
     "output_type": "stream",
     "text": [
      "Train Loss: 0.1219, Train Acc: 0.9537\n",
      "Val Loss: 0.1269, Val Acc: 0.9542\n",
      "Validation loss decreased (0.128651 --> 0.126927).  Saving model ...\n",
      "../WeightsFinal_0.3_model_weights/Weights_replay_500/2018-06/best_model_epoch_15.pt\n",
      "../WeightsFinal_0.3_optimizer_weights/Weights_replay_500/2018-06/best_optimizer_epoch_15.pt\n",
      "Epoch 16 of 500\n"
     ]
    },
    {
     "name": "stderr",
     "output_type": "stream",
     "text": [
      "100%|██████████| 17/17 [00:03<00:00,  5.02it/s]\n",
      "100%|██████████| 6/6 [00:00<00:00,  8.52it/s]\n",
      "  0%|          | 0/17 [00:00<?, ?it/s]"
     ]
    },
    {
     "name": "stdout",
     "output_type": "stream",
     "text": [
      "Train Loss: 0.1195, Train Acc: 0.9543\n",
      "Val Loss: 0.1304, Val Acc: 0.9538\n",
      "EarlyStopping counter: 1 out of 5\n",
      "Epoch 17 of 500\n"
     ]
    },
    {
     "name": "stderr",
     "output_type": "stream",
     "text": [
      "100%|██████████| 17/17 [00:03<00:00,  4.93it/s]\n",
      "100%|██████████| 6/6 [00:00<00:00,  7.19it/s]\n",
      "  0%|          | 0/17 [00:00<?, ?it/s]"
     ]
    },
    {
     "name": "stdout",
     "output_type": "stream",
     "text": [
      "Train Loss: 0.1208, Train Acc: 0.9544\n",
      "Val Loss: 0.1288, Val Acc: 0.9535\n",
      "EarlyStopping counter: 2 out of 5\n",
      "Epoch 18 of 500\n"
     ]
    },
    {
     "name": "stderr",
     "output_type": "stream",
     "text": [
      "100%|██████████| 17/17 [00:02<00:00,  5.95it/s]\n",
      "100%|██████████| 6/6 [00:00<00:00,  6.98it/s]\n",
      "  0%|          | 0/17 [00:00<?, ?it/s]"
     ]
    },
    {
     "name": "stdout",
     "output_type": "stream",
     "text": [
      "Train Loss: 0.1212, Train Acc: 0.9544\n",
      "Val Loss: 0.1310, Val Acc: 0.9527\n",
      "EarlyStopping counter: 3 out of 5\n",
      "Epoch 19 of 500\n"
     ]
    },
    {
     "name": "stderr",
     "output_type": "stream",
     "text": [
      "100%|██████████| 17/17 [00:03<00:00,  5.06it/s]\n",
      "100%|██████████| 6/6 [00:00<00:00,  7.50it/s]\n",
      "  0%|          | 0/17 [00:00<?, ?it/s]"
     ]
    },
    {
     "name": "stdout",
     "output_type": "stream",
     "text": [
      "Train Loss: 0.1206, Train Acc: 0.9542\n",
      "Val Loss: 0.1320, Val Acc: 0.9537\n",
      "EarlyStopping counter: 4 out of 5\n",
      "Epoch 20 of 500\n"
     ]
    },
    {
     "name": "stderr",
     "output_type": "stream",
     "text": [
      "100%|██████████| 17/17 [00:03<00:00,  5.29it/s]\n",
      "100%|██████████| 6/6 [00:00<00:00,  6.07it/s]\n",
      "  0%|          | 0/6 [00:00<?, ?it/s]"
     ]
    },
    {
     "name": "stdout",
     "output_type": "stream",
     "text": [
      "Train Loss: 0.1185, Train Acc: 0.9549\n",
      "Val Loss: 0.1321, Val Acc: 0.9527\n",
      "EarlyStopping counter: 5 out of 5\n",
      "Early stopping\n",
      "Training time: 1.365 minutes\n",
      "loading best model ../WeightsFinal_0.3_model_weights/Weights_replay_500/2018-06/best_model_epoch_15.pt\n",
      "loading best optimizer ../WeightsFinal_0.3_optimizer_weights/Weights_replay_500/2018-06/best_optimizer_epoch_15.pt\n"
     ]
    },
    {
     "name": "stderr",
     "output_type": "stream",
     "text": [
      "100%|██████████| 6/6 [00:01<00:00,  4.90it/s]\n"
     ]
    },
    {
     "name": "stdout",
     "output_type": "stream",
     "text": [
      "test accuracy 0.9499384860197703 and ROC-AUC 0.9506285523032315\n",
      "Elapsed time 11.893525767326356 mins.\n",
      "\n",
      "\n",
      "2023-01-30 12:03:29 Round 1 ...\n",
      "Current Task 2018-07 w/ 500 samples to Replay per Malware family.\n",
      "X_train (46278, 2381) Y_train (46278,) Y_tr_family (46278,)\n",
      "X_test (35544, 2381) Y_test (35544,) Y_te_family (35544,)\n",
      "Task 2018-07 and #-of new samples stored 46278\n"
     ]
    },
    {
     "name": "stderr",
     "output_type": "stream",
     "text": [
      "\r",
      "  0%|          | 0/1 [00:00<?, ?it/s]"
     ]
    },
    {
     "name": "stdout",
     "output_type": "stream",
     "text": [
      "loading best model ../WeightsFinal_0.3_model_weights/Weights_replay_500/2018-06/best_model_epoch_15.pt\n"
     ]
    },
    {
     "name": "stderr",
     "output_type": "stream",
     "text": [
      "100%|██████████| 1/1 [00:00<00:00,  2.58it/s]\n",
      "100%|██████████| 1/1 [00:00<00:00,  2.35it/s]\n",
      "100%|██████████| 1/1 [00:00<00:00,  2.82it/s]\n",
      "100%|██████████| 1/1 [00:00<00:00,  2.42it/s]\n",
      "100%|██████████| 1/1 [00:00<00:00,  2.57it/s]\n",
      "100%|██████████| 1/1 [00:00<00:00,  2.65it/s]\n",
      "100%|██████████| 1/1 [00:00<00:00,  2.65it/s]\n",
      "100%|██████████| 1/1 [00:00<00:00,  2.85it/s]\n",
      "100%|██████████| 1/1 [00:00<00:00,  2.65it/s]\n",
      "100%|██████████| 1/1 [00:00<00:00,  2.66it/s]\n",
      "100%|██████████| 1/1 [00:00<00:00,  2.46it/s]\n",
      "100%|██████████| 1/1 [00:00<00:00,  2.87it/s]\n",
      "100%|██████████| 1/1 [00:00<00:00,  2.53it/s]\n",
      "100%|██████████| 1/1 [00:00<00:00,  2.72it/s]\n",
      "100%|██████████| 1/1 [00:00<00:00,  2.66it/s]\n",
      "100%|██████████| 1/1 [00:00<00:00,  2.74it/s]\n",
      "100%|██████████| 1/1 [00:00<00:00,  2.66it/s]\n",
      "100%|██████████| 1/1 [00:00<00:00,  2.67it/s]\n",
      "100%|██████████| 1/1 [00:00<00:00,  2.69it/s]\n",
      "100%|██████████| 1/1 [00:00<00:00,  2.51it/s]\n",
      "100%|██████████| 1/1 [00:00<00:00,  2.65it/s]\n",
      "100%|██████████| 1/1 [00:00<00:00,  2.58it/s]\n",
      "100%|██████████| 1/1 [00:00<00:00,  2.77it/s]\n",
      "100%|██████████| 1/1 [00:00<00:00,  2.03it/s]\n",
      "100%|██████████| 1/1 [00:00<00:00,  2.72it/s]\n",
      "100%|██████████| 1/1 [00:00<00:00,  2.63it/s]\n",
      "100%|██████████| 1/1 [00:00<00:00,  2.59it/s]\n",
      "100%|██████████| 1/1 [00:00<00:00,  2.50it/s]\n"
     ]
    },
    {
     "name": "stdout",
     "output_type": "stream",
     "text": [
      "2023-01-30 12:04:27 Standardizing ...\n"
     ]
    },
    {
     "name": "stderr",
     "output_type": "stream",
     "text": [
      "\r",
      "  0%|          | 0/19 [00:00<?, ?it/s]"
     ]
    },
    {
     "name": "stdout",
     "output_type": "stream",
     "text": [
      "\n",
      "X_train (115150, 2381) Y_train (115150,)\n",
      "\n",
      "2023-01-30 12:04:34 Training ...\n",
      "Epoch 1 of 500\n"
     ]
    },
    {
     "name": "stderr",
     "output_type": "stream",
     "text": [
      "100%|██████████| 19/19 [00:02<00:00,  6.42it/s]\n",
      "100%|██████████| 6/6 [00:00<00:00,  6.03it/s]\n",
      "  0%|          | 0/19 [00:00<?, ?it/s]"
     ]
    },
    {
     "name": "stdout",
     "output_type": "stream",
     "text": [
      "Train Loss: 0.1384, Train Acc: 0.9496\n",
      "Val Loss: 0.1391, Val Acc: 0.9507\n",
      "Validation loss decreased (inf --> 0.139084).  Saving model ...\n",
      "../WeightsFinal_0.3_model_weights/Weights_replay_500/2018-07/best_model_epoch_1.pt\n",
      "../WeightsFinal_0.3_optimizer_weights/Weights_replay_500/2018-07/best_optimizer_epoch_1.pt\n",
      "Epoch 2 of 500\n"
     ]
    },
    {
     "name": "stderr",
     "output_type": "stream",
     "text": [
      "100%|██████████| 19/19 [00:02<00:00,  6.43it/s]\n",
      "100%|██████████| 6/6 [00:00<00:00,  7.50it/s]\n",
      "  0%|          | 0/19 [00:00<?, ?it/s]"
     ]
    },
    {
     "name": "stdout",
     "output_type": "stream",
     "text": [
      "Train Loss: 0.1313, Train Acc: 0.9515\n",
      "Val Loss: 0.1354, Val Acc: 0.9520\n",
      "Validation loss decreased (0.139084 --> 0.135366).  Saving model ...\n",
      "../WeightsFinal_0.3_model_weights/Weights_replay_500/2018-07/best_model_epoch_2.pt\n",
      "../WeightsFinal_0.3_optimizer_weights/Weights_replay_500/2018-07/best_optimizer_epoch_2.pt\n",
      "Epoch 3 of 500\n"
     ]
    },
    {
     "name": "stderr",
     "output_type": "stream",
     "text": [
      "100%|██████████| 19/19 [00:03<00:00,  6.30it/s]\n",
      "100%|██████████| 6/6 [00:00<00:00,  6.16it/s]\n",
      "  0%|          | 0/19 [00:00<?, ?it/s]"
     ]
    },
    {
     "name": "stdout",
     "output_type": "stream",
     "text": [
      "Train Loss: 0.1279, Train Acc: 0.9527\n",
      "Val Loss: 0.1356, Val Acc: 0.9519\n",
      "EarlyStopping counter: 1 out of 5\n",
      "Epoch 4 of 500\n"
     ]
    },
    {
     "name": "stderr",
     "output_type": "stream",
     "text": [
      "100%|██████████| 19/19 [00:03<00:00,  6.22it/s]\n",
      "100%|██████████| 6/6 [00:01<00:00,  5.80it/s]\n",
      "  0%|          | 0/19 [00:00<?, ?it/s]"
     ]
    },
    {
     "name": "stdout",
     "output_type": "stream",
     "text": [
      "Train Loss: 0.1257, Train Acc: 0.9525\n",
      "Val Loss: 0.1324, Val Acc: 0.9532\n",
      "Validation loss decreased (0.135366 --> 0.132431).  Saving model ...\n",
      "../WeightsFinal_0.3_model_weights/Weights_replay_500/2018-07/best_model_epoch_4.pt\n",
      "../WeightsFinal_0.3_optimizer_weights/Weights_replay_500/2018-07/best_optimizer_epoch_4.pt\n",
      "Epoch 5 of 500\n"
     ]
    },
    {
     "name": "stderr",
     "output_type": "stream",
     "text": [
      "100%|██████████| 19/19 [00:02<00:00,  6.72it/s]\n",
      "100%|██████████| 6/6 [00:00<00:00,  6.46it/s]\n",
      "  0%|          | 0/19 [00:00<?, ?it/s]"
     ]
    },
    {
     "name": "stdout",
     "output_type": "stream",
     "text": [
      "Train Loss: 0.1226, Train Acc: 0.9540\n",
      "Val Loss: 0.1336, Val Acc: 0.9525\n",
      "EarlyStopping counter: 1 out of 5\n",
      "Epoch 6 of 500\n"
     ]
    },
    {
     "name": "stderr",
     "output_type": "stream",
     "text": [
      "100%|██████████| 19/19 [00:03<00:00,  6.24it/s]\n",
      "100%|██████████| 6/6 [00:00<00:00,  7.55it/s]\n",
      "  0%|          | 0/19 [00:00<?, ?it/s]"
     ]
    },
    {
     "name": "stdout",
     "output_type": "stream",
     "text": [
      "Train Loss: 0.1198, Train Acc: 0.9550\n",
      "Val Loss: 0.1327, Val Acc: 0.9534\n",
      "EarlyStopping counter: 2 out of 5\n",
      "Epoch 7 of 500\n"
     ]
    },
    {
     "name": "stderr",
     "output_type": "stream",
     "text": [
      "100%|██████████| 19/19 [00:03<00:00,  5.66it/s]\n",
      "100%|██████████| 6/6 [00:00<00:00,  7.14it/s]\n",
      "  0%|          | 0/19 [00:00<?, ?it/s]"
     ]
    },
    {
     "name": "stdout",
     "output_type": "stream",
     "text": [
      "Train Loss: 0.1246, Train Acc: 0.9528\n",
      "Val Loss: 0.1365, Val Acc: 0.9518\n",
      "EarlyStopping counter: 3 out of 5\n",
      "Epoch 8 of 500\n"
     ]
    },
    {
     "name": "stderr",
     "output_type": "stream",
     "text": [
      "100%|██████████| 19/19 [00:02<00:00,  6.46it/s]\n",
      "100%|██████████| 6/6 [00:00<00:00,  7.50it/s]\n",
      "  0%|          | 0/19 [00:00<?, ?it/s]"
     ]
    },
    {
     "name": "stdout",
     "output_type": "stream",
     "text": [
      "Train Loss: 0.1203, Train Acc: 0.9542\n",
      "Val Loss: 0.1337, Val Acc: 0.9526\n",
      "EarlyStopping counter: 4 out of 5\n",
      "Epoch 9 of 500\n"
     ]
    },
    {
     "name": "stderr",
     "output_type": "stream",
     "text": [
      "100%|██████████| 19/19 [00:03<00:00,  5.64it/s]\n",
      "100%|██████████| 6/6 [00:00<00:00,  7.35it/s]\n",
      "  0%|          | 0/19 [00:00<?, ?it/s]"
     ]
    },
    {
     "name": "stdout",
     "output_type": "stream",
     "text": [
      "Train Loss: 0.1146, Train Acc: 0.9564\n",
      "Val Loss: 0.1323, Val Acc: 0.9538\n",
      "Validation loss decreased (0.132431 --> 0.132306).  Saving model ...\n",
      "../WeightsFinal_0.3_model_weights/Weights_replay_500/2018-07/best_model_epoch_9.pt\n",
      "../WeightsFinal_0.3_optimizer_weights/Weights_replay_500/2018-07/best_optimizer_epoch_9.pt\n",
      "Epoch 10 of 500\n"
     ]
    },
    {
     "name": "stderr",
     "output_type": "stream",
     "text": [
      "100%|██████████| 19/19 [00:03<00:00,  5.41it/s]\n",
      "100%|██████████| 6/6 [00:00<00:00,  6.95it/s]\n",
      "  0%|          | 0/19 [00:00<?, ?it/s]"
     ]
    },
    {
     "name": "stdout",
     "output_type": "stream",
     "text": [
      "Train Loss: 0.1163, Train Acc: 0.9565\n",
      "Val Loss: 0.1348, Val Acc: 0.9535\n",
      "EarlyStopping counter: 1 out of 5\n",
      "Epoch 11 of 500\n"
     ]
    },
    {
     "name": "stderr",
     "output_type": "stream",
     "text": [
      "100%|██████████| 19/19 [00:03<00:00,  6.12it/s]\n",
      "100%|██████████| 6/6 [00:00<00:00,  6.08it/s]\n",
      "  0%|          | 0/19 [00:00<?, ?it/s]"
     ]
    },
    {
     "name": "stdout",
     "output_type": "stream",
     "text": [
      "Train Loss: 0.1128, Train Acc: 0.9573\n",
      "Val Loss: 0.1346, Val Acc: 0.9537\n",
      "EarlyStopping counter: 2 out of 5\n",
      "Epoch 12 of 500\n"
     ]
    },
    {
     "name": "stderr",
     "output_type": "stream",
     "text": [
      "100%|██████████| 19/19 [00:03<00:00,  5.34it/s]\n",
      "100%|██████████| 6/6 [00:00<00:00,  7.28it/s]\n",
      "  0%|          | 0/19 [00:00<?, ?it/s]"
     ]
    },
    {
     "name": "stdout",
     "output_type": "stream",
     "text": [
      "Train Loss: 0.1103, Train Acc: 0.9584\n",
      "Val Loss: 0.1366, Val Acc: 0.9535\n",
      "EarlyStopping counter: 3 out of 5\n",
      "Epoch 13 of 500\n"
     ]
    },
    {
     "name": "stderr",
     "output_type": "stream",
     "text": [
      "100%|██████████| 19/19 [00:03<00:00,  5.77it/s]\n",
      "100%|██████████| 6/6 [00:00<00:00,  7.20it/s]\n",
      "  0%|          | 0/19 [00:00<?, ?it/s]"
     ]
    },
    {
     "name": "stdout",
     "output_type": "stream",
     "text": [
      "Train Loss: 0.1105, Train Acc: 0.9585\n",
      "Val Loss: 0.1352, Val Acc: 0.9533\n",
      "EarlyStopping counter: 4 out of 5\n",
      "Epoch 14 of 500\n"
     ]
    },
    {
     "name": "stderr",
     "output_type": "stream",
     "text": [
      "100%|██████████| 19/19 [00:03<00:00,  6.25it/s]\n",
      "100%|██████████| 6/6 [00:00<00:00,  6.25it/s]\n",
      "  0%|          | 0/6 [00:00<?, ?it/s]"
     ]
    },
    {
     "name": "stdout",
     "output_type": "stream",
     "text": [
      "Train Loss: 0.1092, Train Acc: 0.9586\n",
      "Val Loss: 0.1340, Val Acc: 0.9535\n",
      "EarlyStopping counter: 5 out of 5\n",
      "Early stopping\n",
      "Training time: 0.954 minutes\n",
      "loading best model ../WeightsFinal_0.3_model_weights/Weights_replay_500/2018-07/best_model_epoch_9.pt\n",
      "loading best optimizer ../WeightsFinal_0.3_optimizer_weights/Weights_replay_500/2018-07/best_optimizer_epoch_9.pt\n"
     ]
    },
    {
     "name": "stderr",
     "output_type": "stream",
     "text": [
      "100%|██████████| 6/6 [00:01<00:00,  4.66it/s]\n"
     ]
    },
    {
     "name": "stdout",
     "output_type": "stream",
     "text": [
      "test accuracy 0.9537255863348643 and ROC-AUC 0.9535186298374939\n",
      "Elapsed time 13.96203509569168 mins.\n",
      "\n",
      "\n",
      "2023-01-30 12:05:33 Round 1 ...\n",
      "Current Task 2018-08 w/ 500 samples to Replay per Malware family.\n",
      "X_train (40882, 2381) Y_train (40882,) Y_tr_family (40882,)\n",
      "X_test (40087, 2381) Y_test (40087,) Y_te_family (40087,)\n",
      "Task 2018-08 and #-of new samples stored 40882\n",
      "loading best model ../WeightsFinal_0.3_model_weights/Weights_replay_500/2018-07/best_model_epoch_9.pt\n"
     ]
    },
    {
     "name": "stderr",
     "output_type": "stream",
     "text": [
      "100%|██████████| 1/1 [00:00<00:00,  2.55it/s]\n",
      "100%|██████████| 1/1 [00:00<00:00,  2.53it/s]\n",
      "100%|██████████| 1/1 [00:00<00:00,  2.44it/s]\n",
      "100%|██████████| 1/1 [00:00<00:00,  2.30it/s]\n",
      "100%|██████████| 1/1 [00:00<00:00,  2.64it/s]\n",
      "100%|██████████| 1/1 [00:00<00:00,  2.38it/s]\n",
      "100%|██████████| 1/1 [00:00<00:00,  2.73it/s]\n",
      "100%|██████████| 1/1 [00:00<00:00,  2.18it/s]\n",
      "100%|██████████| 1/1 [00:00<00:00,  2.56it/s]\n",
      "100%|██████████| 1/1 [00:00<00:00,  2.45it/s]\n",
      "100%|██████████| 1/1 [00:00<00:00,  2.48it/s]\n",
      "100%|██████████| 1/1 [00:00<00:00,  2.54it/s]\n",
      "100%|██████████| 1/1 [00:00<00:00,  2.33it/s]\n",
      "100%|██████████| 1/1 [00:00<00:00,  2.16it/s]\n",
      "100%|██████████| 1/1 [00:00<00:00,  2.41it/s]\n",
      "100%|██████████| 1/1 [00:00<00:00,  2.24it/s]\n",
      "100%|██████████| 1/1 [00:00<00:00,  2.49it/s]\n",
      "100%|██████████| 1/1 [00:00<00:00,  2.61it/s]\n",
      "100%|██████████| 1/1 [00:00<00:00,  2.79it/s]\n",
      "100%|██████████| 1/1 [00:00<00:00,  2.47it/s]\n",
      "100%|██████████| 1/1 [00:00<00:00,  2.43it/s]\n",
      "100%|██████████| 1/1 [00:00<00:00,  2.62it/s]\n",
      "100%|██████████| 1/1 [00:00<00:00,  2.36it/s]\n",
      "100%|██████████| 1/1 [00:00<00:00,  2.44it/s]\n",
      "100%|██████████| 1/1 [00:00<00:00,  2.32it/s]\n",
      "100%|██████████| 1/1 [00:00<00:00,  2.58it/s]\n",
      "100%|██████████| 1/1 [00:00<00:00,  2.55it/s]\n",
      "100%|██████████| 1/1 [00:00<00:00,  2.54it/s]\n"
     ]
    },
    {
     "name": "stdout",
     "output_type": "stream",
     "text": [
      "2023-01-30 12:06:29 Standardizing ...\n"
     ]
    },
    {
     "name": "stderr",
     "output_type": "stream",
     "text": [
      "\r",
      "  0%|          | 0/20 [00:00<?, ?it/s]"
     ]
    },
    {
     "name": "stdout",
     "output_type": "stream",
     "text": [
      "\n",
      "X_train (125288, 2381) Y_train (125288,)\n",
      "\n",
      "2023-01-30 12:06:37 Training ...\n",
      "Epoch 1 of 500\n"
     ]
    },
    {
     "name": "stderr",
     "output_type": "stream",
     "text": [
      "100%|██████████| 20/20 [00:03<00:00,  6.10it/s]\n",
      "100%|██████████| 7/7 [00:00<00:00,  9.97it/s]\n",
      "  0%|          | 0/20 [00:00<?, ?it/s]"
     ]
    },
    {
     "name": "stdout",
     "output_type": "stream",
     "text": [
      "Train Loss: 0.1372, Train Acc: 0.9484\n",
      "Val Loss: 0.1383, Val Acc: 0.9506\n",
      "Validation loss decreased (inf --> 0.138261).  Saving model ...\n",
      "../WeightsFinal_0.3_model_weights/Weights_replay_500/2018-08/best_model_epoch_1.pt\n",
      "../WeightsFinal_0.3_optimizer_weights/Weights_replay_500/2018-08/best_optimizer_epoch_1.pt\n",
      "Epoch 2 of 500\n"
     ]
    },
    {
     "name": "stderr",
     "output_type": "stream",
     "text": [
      "100%|██████████| 20/20 [00:03<00:00,  5.95it/s]\n",
      "100%|██████████| 7/7 [00:00<00:00,  8.73it/s]\n",
      "  0%|          | 0/20 [00:00<?, ?it/s]"
     ]
    },
    {
     "name": "stdout",
     "output_type": "stream",
     "text": [
      "Train Loss: 0.1292, Train Acc: 0.9504\n",
      "Val Loss: 0.1343, Val Acc: 0.9523\n",
      "Validation loss decreased (0.138261 --> 0.134338).  Saving model ...\n",
      "../WeightsFinal_0.3_model_weights/Weights_replay_500/2018-08/best_model_epoch_2.pt\n",
      "../WeightsFinal_0.3_optimizer_weights/Weights_replay_500/2018-08/best_optimizer_epoch_2.pt\n",
      "Epoch 3 of 500\n"
     ]
    },
    {
     "name": "stderr",
     "output_type": "stream",
     "text": [
      "100%|██████████| 20/20 [00:03<00:00,  6.17it/s]\n",
      "100%|██████████| 7/7 [00:00<00:00,  8.78it/s]\n",
      "  0%|          | 0/20 [00:00<?, ?it/s]"
     ]
    },
    {
     "name": "stdout",
     "output_type": "stream",
     "text": [
      "Train Loss: 0.1274, Train Acc: 0.9518\n",
      "Val Loss: 0.1357, Val Acc: 0.9529\n",
      "EarlyStopping counter: 1 out of 5\n",
      "Epoch 4 of 500\n"
     ]
    },
    {
     "name": "stderr",
     "output_type": "stream",
     "text": [
      "100%|██████████| 20/20 [00:03<00:00,  6.49it/s]\n",
      "100%|██████████| 7/7 [00:00<00:00,  8.85it/s]\n",
      "  0%|          | 0/20 [00:00<?, ?it/s]"
     ]
    },
    {
     "name": "stdout",
     "output_type": "stream",
     "text": [
      "Train Loss: 0.1237, Train Acc: 0.9525\n",
      "Val Loss: 0.1347, Val Acc: 0.9524\n",
      "EarlyStopping counter: 2 out of 5\n",
      "Epoch 5 of 500\n"
     ]
    },
    {
     "name": "stderr",
     "output_type": "stream",
     "text": [
      "100%|██████████| 20/20 [00:02<00:00,  6.72it/s]\n",
      "100%|██████████| 7/7 [00:00<00:00,  7.91it/s]\n",
      "  0%|          | 0/20 [00:00<?, ?it/s]"
     ]
    },
    {
     "name": "stdout",
     "output_type": "stream",
     "text": [
      "Train Loss: 0.1231, Train Acc: 0.9528\n",
      "Val Loss: 0.1413, Val Acc: 0.9502\n",
      "EarlyStopping counter: 3 out of 5\n",
      "Epoch 6 of 500\n"
     ]
    },
    {
     "name": "stderr",
     "output_type": "stream",
     "text": [
      "100%|██████████| 20/20 [00:03<00:00,  6.09it/s]\n",
      "100%|██████████| 7/7 [00:00<00:00,  9.91it/s]\n",
      "  0%|          | 0/20 [00:00<?, ?it/s]"
     ]
    },
    {
     "name": "stdout",
     "output_type": "stream",
     "text": [
      "Train Loss: 0.1187, Train Acc: 0.9551\n",
      "Val Loss: 0.1351, Val Acc: 0.9526\n",
      "EarlyStopping counter: 4 out of 5\n",
      "Epoch 7 of 500\n"
     ]
    },
    {
     "name": "stderr",
     "output_type": "stream",
     "text": [
      "100%|██████████| 20/20 [00:03<00:00,  6.06it/s]\n",
      "100%|██████████| 7/7 [00:00<00:00,  8.37it/s]\n",
      "  0%|          | 0/7 [00:00<?, ?it/s]"
     ]
    },
    {
     "name": "stdout",
     "output_type": "stream",
     "text": [
      "Train Loss: 0.1177, Train Acc: 0.9552\n",
      "Val Loss: 0.1350, Val Acc: 0.9532\n",
      "EarlyStopping counter: 5 out of 5\n",
      "Early stopping\n",
      "Training time: 0.473 minutes\n",
      "loading best model ../WeightsFinal_0.3_model_weights/Weights_replay_500/2018-08/best_model_epoch_2.pt\n",
      "loading best optimizer ../WeightsFinal_0.3_optimizer_weights/Weights_replay_500/2018-08/best_optimizer_epoch_2.pt\n"
     ]
    },
    {
     "name": "stderr",
     "output_type": "stream",
     "text": [
      "100%|██████████| 7/7 [00:01<00:00,  4.74it/s]\n"
     ]
    },
    {
     "name": "stdout",
     "output_type": "stream",
     "text": [
      "test accuracy 0.9520410980497088 and ROC-AUC 0.9519499599250161\n",
      "Elapsed time 15.533524537086487 mins.\n",
      "\n",
      "\n",
      "2023-01-30 12:07:07 Round 1 ...\n",
      "Current Task 2018-09 w/ 500 samples to Replay per Malware family.\n",
      "X_train (56492, 2381) Y_train (56492,) Y_tr_family (56492,)\n",
      "X_test (46364, 2381) Y_test (46364,) Y_te_family (46364,)\n"
     ]
    },
    {
     "name": "stderr",
     "output_type": "stream",
     "text": [
      "\r",
      "  0%|          | 0/1 [00:00<?, ?it/s]"
     ]
    },
    {
     "name": "stdout",
     "output_type": "stream",
     "text": [
      "Task 2018-09 and #-of new samples stored 56492\n",
      "loading best model ../WeightsFinal_0.3_model_weights/Weights_replay_500/2018-08/best_model_epoch_2.pt\n"
     ]
    },
    {
     "name": "stderr",
     "output_type": "stream",
     "text": [
      "100%|██████████| 1/1 [00:00<00:00,  2.38it/s]\n",
      "100%|██████████| 1/1 [00:00<00:00,  2.50it/s]\n",
      "100%|██████████| 1/1 [00:00<00:00,  2.09it/s]\n",
      "100%|██████████| 1/1 [00:00<00:00,  2.11it/s]\n",
      "100%|██████████| 1/1 [00:00<00:00,  2.26it/s]\n",
      "100%|██████████| 1/1 [00:00<00:00,  2.27it/s]\n",
      "100%|██████████| 1/1 [00:00<00:00,  2.18it/s]\n",
      "100%|██████████| 1/1 [00:00<00:00,  1.57it/s]\n",
      "100%|██████████| 1/1 [00:00<00:00,  2.02it/s]\n",
      "100%|██████████| 1/1 [00:00<00:00,  2.08it/s]\n",
      "100%|██████████| 1/1 [00:00<00:00,  1.60it/s]\n",
      "100%|██████████| 1/1 [00:00<00:00,  1.58it/s]\n",
      "100%|██████████| 1/1 [00:00<00:00,  2.34it/s]\n",
      "100%|██████████| 1/1 [00:00<00:00,  2.41it/s]\n",
      "100%|██████████| 1/1 [00:00<00:00,  2.00it/s]\n",
      "100%|██████████| 1/1 [00:00<00:00,  2.30it/s]\n",
      "100%|██████████| 1/1 [00:00<00:00,  2.28it/s]\n",
      "100%|██████████| 1/1 [00:00<00:00,  1.28it/s]\n",
      "100%|██████████| 1/1 [00:00<00:00,  2.19it/s]\n",
      "100%|██████████| 1/1 [00:00<00:00,  2.41it/s]\n",
      "100%|██████████| 1/1 [00:00<00:00,  2.32it/s]\n",
      "100%|██████████| 1/1 [00:00<00:00,  1.66it/s]\n",
      "100%|██████████| 1/1 [00:00<00:00,  2.22it/s]\n",
      "100%|██████████| 1/1 [00:00<00:00,  2.41it/s]\n",
      "100%|██████████| 1/1 [00:00<00:00,  2.15it/s]\n",
      "100%|██████████| 1/1 [00:00<00:00,  1.55it/s]\n",
      "100%|██████████| 1/1 [00:00<00:00,  2.29it/s]\n",
      "100%|██████████| 1/1 [00:00<00:00,  2.42it/s]\n",
      "100%|██████████| 1/1 [00:00<00:00,  2.21it/s]\n",
      "100%|██████████| 1/1 [00:00<00:00,  2.13it/s]\n",
      "100%|██████████| 1/1 [00:00<00:00,  2.01it/s]\n",
      "100%|██████████| 1/1 [00:00<00:00,  1.62it/s]\n",
      "100%|██████████| 1/1 [00:00<00:00,  1.57it/s]\n",
      "100%|██████████| 1/1 [00:00<00:00,  2.19it/s]\n",
      "100%|██████████| 1/1 [00:00<00:00,  1.67it/s]\n",
      "100%|██████████| 1/1 [00:00<00:00,  1.65it/s]\n",
      "100%|██████████| 1/1 [00:00<00:00,  1.64it/s]\n",
      "100%|██████████| 1/1 [00:00<00:00,  1.74it/s]\n",
      "100%|██████████| 1/1 [00:00<00:00,  2.44it/s]\n",
      "100%|██████████| 1/1 [00:00<00:00,  1.73it/s]\n",
      "100%|██████████| 1/1 [00:00<00:00,  1.68it/s]\n",
      "100%|██████████| 1/1 [00:00<00:00,  1.58it/s]\n"
     ]
    },
    {
     "name": "stdout",
     "output_type": "stream",
     "text": [
      "2023-01-30 12:08:23 Standardizing ...\n"
     ]
    },
    {
     "name": "stderr",
     "output_type": "stream",
     "text": [
      "\r",
      "  0%|          | 0/23 [00:00<?, ?it/s]"
     ]
    },
    {
     "name": "stdout",
     "output_type": "stream",
     "text": [
      "\n",
      "X_train (143690, 2381) Y_train (143690,)\n",
      "\n",
      "2023-01-30 12:08:33 Training ...\n",
      "Epoch 1 of 500\n"
     ]
    },
    {
     "name": "stderr",
     "output_type": "stream",
     "text": [
      "100%|██████████| 23/23 [00:04<00:00,  5.46it/s]\n",
      "100%|██████████| 8/8 [00:01<00:00,  7.93it/s]\n",
      "  0%|          | 0/23 [00:00<?, ?it/s]"
     ]
    },
    {
     "name": "stdout",
     "output_type": "stream",
     "text": [
      "Train Loss: 0.1537, Train Acc: 0.9412\n",
      "Val Loss: 0.1452, Val Acc: 0.9485\n",
      "Validation loss decreased (inf --> 0.145186).  Saving model ...\n",
      "../WeightsFinal_0.3_model_weights/Weights_replay_500/2018-09/best_model_epoch_1.pt\n",
      "../WeightsFinal_0.3_optimizer_weights/Weights_replay_500/2018-09/best_optimizer_epoch_1.pt\n",
      "Epoch 2 of 500\n"
     ]
    },
    {
     "name": "stderr",
     "output_type": "stream",
     "text": [
      "100%|██████████| 23/23 [00:04<00:00,  5.18it/s]\n",
      "100%|██████████| 8/8 [00:00<00:00,  8.37it/s]\n",
      "  0%|          | 0/23 [00:00<?, ?it/s]"
     ]
    },
    {
     "name": "stdout",
     "output_type": "stream",
     "text": [
      "Train Loss: 0.1467, Train Acc: 0.9436\n",
      "Val Loss: 0.1381, Val Acc: 0.9496\n",
      "Validation loss decreased (0.145186 --> 0.138142).  Saving model ...\n",
      "../WeightsFinal_0.3_model_weights/Weights_replay_500/2018-09/best_model_epoch_2.pt\n",
      "../WeightsFinal_0.3_optimizer_weights/Weights_replay_500/2018-09/best_optimizer_epoch_2.pt\n",
      "Epoch 3 of 500\n"
     ]
    },
    {
     "name": "stderr",
     "output_type": "stream",
     "text": [
      "100%|██████████| 23/23 [00:03<00:00,  6.48it/s]\n",
      "100%|██████████| 8/8 [00:00<00:00,  8.62it/s]\n",
      "  0%|          | 0/23 [00:00<?, ?it/s]"
     ]
    },
    {
     "name": "stdout",
     "output_type": "stream",
     "text": [
      "Train Loss: 0.1419, Train Acc: 0.9458\n",
      "Val Loss: 0.1354, Val Acc: 0.9504\n",
      "Validation loss decreased (0.138142 --> 0.135387).  Saving model ...\n",
      "../WeightsFinal_0.3_model_weights/Weights_replay_500/2018-09/best_model_epoch_3.pt\n",
      "../WeightsFinal_0.3_optimizer_weights/Weights_replay_500/2018-09/best_optimizer_epoch_3.pt\n",
      "Epoch 4 of 500\n"
     ]
    },
    {
     "name": "stderr",
     "output_type": "stream",
     "text": [
      "100%|██████████| 23/23 [00:04<00:00,  5.30it/s]\n",
      "100%|██████████| 8/8 [00:01<00:00,  7.75it/s]\n",
      "  0%|          | 0/23 [00:00<?, ?it/s]"
     ]
    },
    {
     "name": "stdout",
     "output_type": "stream",
     "text": [
      "Train Loss: 0.1400, Train Acc: 0.9463\n",
      "Val Loss: 0.1377, Val Acc: 0.9499\n",
      "EarlyStopping counter: 1 out of 5\n",
      "Epoch 5 of 500\n"
     ]
    },
    {
     "name": "stderr",
     "output_type": "stream",
     "text": [
      "100%|██████████| 23/23 [00:04<00:00,  5.46it/s]\n",
      "100%|██████████| 8/8 [00:00<00:00,  9.12it/s]\n",
      "  0%|          | 0/23 [00:00<?, ?it/s]"
     ]
    },
    {
     "name": "stdout",
     "output_type": "stream",
     "text": [
      "Train Loss: 0.1619, Train Acc: 0.9377\n",
      "Val Loss: 0.1467, Val Acc: 0.9402\n",
      "EarlyStopping counter: 2 out of 5\n",
      "Epoch 6 of 500\n"
     ]
    },
    {
     "name": "stderr",
     "output_type": "stream",
     "text": [
      "100%|██████████| 23/23 [00:03<00:00,  5.93it/s]\n",
      "100%|██████████| 8/8 [00:01<00:00,  7.85it/s]\n",
      "  0%|          | 0/23 [00:00<?, ?it/s]"
     ]
    },
    {
     "name": "stdout",
     "output_type": "stream",
     "text": [
      "Train Loss: 0.1440, Train Acc: 0.9424\n",
      "Val Loss: 0.1370, Val Acc: 0.9499\n",
      "EarlyStopping counter: 3 out of 5\n",
      "Epoch 7 of 500\n"
     ]
    },
    {
     "name": "stderr",
     "output_type": "stream",
     "text": [
      "100%|██████████| 23/23 [00:03<00:00,  5.79it/s]\n",
      "100%|██████████| 8/8 [00:00<00:00,  8.69it/s]\n",
      "  0%|          | 0/23 [00:00<?, ?it/s]"
     ]
    },
    {
     "name": "stdout",
     "output_type": "stream",
     "text": [
      "Train Loss: 0.1326, Train Acc: 0.9489\n",
      "Val Loss: 0.1369, Val Acc: 0.9491\n",
      "EarlyStopping counter: 4 out of 5\n",
      "Epoch 8 of 500\n"
     ]
    },
    {
     "name": "stderr",
     "output_type": "stream",
     "text": [
      "100%|██████████| 23/23 [00:03<00:00,  5.93it/s]\n",
      "100%|██████████| 8/8 [00:00<00:00,  8.04it/s]\n",
      "  0%|          | 0/8 [00:00<?, ?it/s]"
     ]
    },
    {
     "name": "stdout",
     "output_type": "stream",
     "text": [
      "Train Loss: 0.1325, Train Acc: 0.9485\n",
      "Val Loss: 0.1375, Val Acc: 0.9480\n",
      "EarlyStopping counter: 5 out of 5\n",
      "Early stopping\n",
      "Training time: 0.678 minutes\n",
      "loading best model ../WeightsFinal_0.3_model_weights/Weights_replay_500/2018-09/best_model_epoch_3.pt\n",
      "loading best optimizer ../WeightsFinal_0.3_optimizer_weights/Weights_replay_500/2018-09/best_optimizer_epoch_3.pt\n"
     ]
    },
    {
     "name": "stderr",
     "output_type": "stream",
     "text": [
      "100%|██████████| 8/8 [00:01<00:00,  5.32it/s]\n"
     ]
    },
    {
     "name": "stdout",
     "output_type": "stream",
     "text": [
      "test accuracy 0.9483234360814095 and ROC-AUC 0.9482814908457431\n",
      "Elapsed time 17.663586723804475 mins.\n",
      "\n",
      "\n",
      "2023-01-30 12:09:15 Round 1 ...\n",
      "Current Task 2018-10 w/ 500 samples to Replay per Malware family.\n",
      "X_train (77772, 2381) Y_train (77772,) Y_tr_family (77772,)\n",
      "X_test (55006, 2381) Y_test (55006,) Y_te_family (55006,)\n"
     ]
    },
    {
     "name": "stderr",
     "output_type": "stream",
     "text": [
      "\r",
      "  0%|          | 0/1 [00:00<?, ?it/s]"
     ]
    },
    {
     "name": "stdout",
     "output_type": "stream",
     "text": [
      "Task 2018-10 and #-of new samples stored 77772\n",
      "loading best model ../WeightsFinal_0.3_model_weights/Weights_replay_500/2018-09/best_model_epoch_3.pt\n"
     ]
    },
    {
     "name": "stderr",
     "output_type": "stream",
     "text": [
      "100%|██████████| 1/1 [00:00<00:00,  2.31it/s]\n",
      "100%|██████████| 1/1 [00:00<00:00,  2.20it/s]\n",
      "100%|██████████| 1/1 [00:00<00:00,  1.97it/s]\n",
      "100%|██████████| 2/2 [00:00<00:00,  3.02it/s]\n",
      "100%|██████████| 1/1 [00:00<00:00,  1.93it/s]\n",
      "100%|██████████| 1/1 [00:00<00:00,  2.32it/s]\n",
      "100%|██████████| 1/1 [00:00<00:00,  2.32it/s]\n",
      "100%|██████████| 1/1 [00:00<00:00,  1.93it/s]\n",
      "100%|██████████| 1/1 [00:00<00:00,  1.93it/s]\n",
      "100%|██████████| 2/2 [00:00<00:00,  3.06it/s]\n",
      "100%|██████████| 1/1 [00:00<00:00,  2.31it/s]\n",
      "100%|██████████| 1/1 [00:00<00:00,  2.22it/s]\n",
      "100%|██████████| 1/1 [00:00<00:00,  1.82it/s]\n",
      "100%|██████████| 2/2 [00:00<00:00,  2.69it/s]\n",
      "100%|██████████| 1/1 [00:00<00:00,  2.32it/s]\n",
      "100%|██████████| 1/1 [00:00<00:00,  2.32it/s]\n",
      "100%|██████████| 1/1 [00:00<00:00,  2.37it/s]\n",
      "100%|██████████| 1/1 [00:00<00:00,  2.32it/s]\n",
      "100%|██████████| 1/1 [00:00<00:00,  1.84it/s]\n",
      "100%|██████████| 1/1 [00:00<00:00,  1.97it/s]\n",
      "100%|██████████| 1/1 [00:00<00:00,  2.13it/s]\n",
      "100%|██████████| 3/3 [00:01<00:00,  2.82it/s]\n",
      "100%|██████████| 1/1 [00:00<00:00,  2.18it/s]\n",
      "100%|██████████| 1/1 [00:00<00:00,  2.25it/s]\n",
      "100%|██████████| 1/1 [00:00<00:00,  2.25it/s]\n"
     ]
    },
    {
     "name": "stdout",
     "output_type": "stream",
     "text": [
      "2023-01-30 12:10:26 Standardizing ...\n"
     ]
    },
    {
     "name": "stderr",
     "output_type": "stream",
     "text": [
      "\r",
      "  0%|          | 0/27 [00:00<?, ?it/s]"
     ]
    },
    {
     "name": "stdout",
     "output_type": "stream",
     "text": [
      "\n",
      "X_train (164996, 2381) Y_train (164996,)\n",
      "\n",
      "2023-01-30 12:10:37 Training ...\n",
      "Epoch 1 of 500\n"
     ]
    },
    {
     "name": "stderr",
     "output_type": "stream",
     "text": [
      "100%|██████████| 27/27 [00:04<00:00,  6.05it/s]\n",
      "100%|██████████| 10/10 [00:01<00:00,  9.16it/s]\n"
     ]
    },
    {
     "name": "stdout",
     "output_type": "stream",
     "text": [
      "Train Loss: 0.1764, Train Acc: 0.9326\n",
      "Val Loss: 0.1456, Val Acc: 0.9467\n",
      "Validation loss decreased (inf --> 0.145582).  Saving model ...\n"
     ]
    },
    {
     "name": "stderr",
     "output_type": "stream",
     "text": [
      "\r",
      "  0%|          | 0/27 [00:00<?, ?it/s]"
     ]
    },
    {
     "name": "stdout",
     "output_type": "stream",
     "text": [
      "../WeightsFinal_0.3_model_weights/Weights_replay_500/2018-10/best_model_epoch_1.pt\n",
      "../WeightsFinal_0.3_optimizer_weights/Weights_replay_500/2018-10/best_optimizer_epoch_1.pt\n",
      "Epoch 2 of 500\n"
     ]
    },
    {
     "name": "stderr",
     "output_type": "stream",
     "text": [
      "100%|██████████| 27/27 [00:04<00:00,  5.57it/s]\n",
      "100%|██████████| 10/10 [00:01<00:00,  7.92it/s]\n",
      "  0%|          | 0/27 [00:00<?, ?it/s]"
     ]
    },
    {
     "name": "stdout",
     "output_type": "stream",
     "text": [
      "Train Loss: 0.1713, Train Acc: 0.9352\n",
      "Val Loss: 0.1452, Val Acc: 0.9460\n",
      "Validation loss decreased (0.145582 --> 0.145175).  Saving model ...\n",
      "../WeightsFinal_0.3_model_weights/Weights_replay_500/2018-10/best_model_epoch_2.pt\n",
      "../WeightsFinal_0.3_optimizer_weights/Weights_replay_500/2018-10/best_optimizer_epoch_2.pt\n",
      "Epoch 3 of 500\n"
     ]
    },
    {
     "name": "stderr",
     "output_type": "stream",
     "text": [
      "100%|██████████| 27/27 [00:04<00:00,  6.01it/s]\n",
      "100%|██████████| 10/10 [00:01<00:00,  8.19it/s]\n",
      "  0%|          | 0/27 [00:00<?, ?it/s]"
     ]
    },
    {
     "name": "stdout",
     "output_type": "stream",
     "text": [
      "Train Loss: 0.1689, Train Acc: 0.9346\n",
      "Val Loss: 0.1351, Val Acc: 0.9489\n",
      "Validation loss decreased (0.145175 --> 0.135109).  Saving model ...\n",
      "../WeightsFinal_0.3_model_weights/Weights_replay_500/2018-10/best_model_epoch_3.pt\n",
      "../WeightsFinal_0.3_optimizer_weights/Weights_replay_500/2018-10/best_optimizer_epoch_3.pt\n",
      "Epoch 4 of 500\n"
     ]
    },
    {
     "name": "stderr",
     "output_type": "stream",
     "text": [
      "100%|██████████| 27/27 [00:04<00:00,  5.91it/s]\n",
      "100%|██████████| 10/10 [00:00<00:00, 10.69it/s]\n",
      "  0%|          | 0/27 [00:00<?, ?it/s]"
     ]
    },
    {
     "name": "stdout",
     "output_type": "stream",
     "text": [
      "Train Loss: 0.1592, Train Acc: 0.9386\n",
      "Val Loss: 0.1407, Val Acc: 0.9445\n",
      "EarlyStopping counter: 1 out of 5\n",
      "Epoch 5 of 500\n"
     ]
    },
    {
     "name": "stderr",
     "output_type": "stream",
     "text": [
      "100%|██████████| 27/27 [00:04<00:00,  5.65it/s]\n",
      "100%|██████████| 10/10 [00:01<00:00,  8.90it/s]\n",
      "  0%|          | 0/27 [00:00<?, ?it/s]"
     ]
    },
    {
     "name": "stdout",
     "output_type": "stream",
     "text": [
      "Train Loss: 0.1621, Train Acc: 0.9353\n",
      "Val Loss: 0.1399, Val Acc: 0.9475\n",
      "EarlyStopping counter: 2 out of 5\n",
      "Epoch 6 of 500\n"
     ]
    },
    {
     "name": "stderr",
     "output_type": "stream",
     "text": [
      "100%|██████████| 27/27 [00:04<00:00,  6.69it/s]\n",
      "100%|██████████| 10/10 [00:01<00:00,  7.72it/s]\n",
      "  0%|          | 0/27 [00:00<?, ?it/s]"
     ]
    },
    {
     "name": "stdout",
     "output_type": "stream",
     "text": [
      "Train Loss: 0.1567, Train Acc: 0.9394\n",
      "Val Loss: 0.1321, Val Acc: 0.9496\n",
      "Validation loss decreased (0.135109 --> 0.132131).  Saving model ...\n",
      "../WeightsFinal_0.3_model_weights/Weights_replay_500/2018-10/best_model_epoch_6.pt\n",
      "../WeightsFinal_0.3_optimizer_weights/Weights_replay_500/2018-10/best_optimizer_epoch_6.pt\n",
      "Epoch 7 of 500\n"
     ]
    },
    {
     "name": "stderr",
     "output_type": "stream",
     "text": [
      "100%|██████████| 27/27 [00:04<00:00,  5.78it/s]\n",
      "100%|██████████| 10/10 [00:01<00:00,  8.68it/s]\n",
      "  0%|          | 0/27 [00:00<?, ?it/s]"
     ]
    },
    {
     "name": "stdout",
     "output_type": "stream",
     "text": [
      "Train Loss: 0.1457, Train Acc: 0.9428\n",
      "Val Loss: 0.1337, Val Acc: 0.9491\n",
      "EarlyStopping counter: 1 out of 5\n",
      "Epoch 8 of 500\n"
     ]
    },
    {
     "name": "stderr",
     "output_type": "stream",
     "text": [
      "100%|██████████| 27/27 [00:04<00:00,  6.36it/s]\n",
      "100%|██████████| 10/10 [00:01<00:00,  8.75it/s]\n",
      "  0%|          | 0/27 [00:00<?, ?it/s]"
     ]
    },
    {
     "name": "stdout",
     "output_type": "stream",
     "text": [
      "Train Loss: 0.1512, Train Acc: 0.9405\n",
      "Val Loss: 0.1360, Val Acc: 0.9490\n",
      "EarlyStopping counter: 2 out of 5\n",
      "Epoch 9 of 500\n"
     ]
    },
    {
     "name": "stderr",
     "output_type": "stream",
     "text": [
      "100%|██████████| 27/27 [00:04<00:00,  6.56it/s]\n",
      "100%|██████████| 10/10 [00:01<00:00,  8.79it/s]\n",
      "  0%|          | 0/27 [00:00<?, ?it/s]"
     ]
    },
    {
     "name": "stdout",
     "output_type": "stream",
     "text": [
      "Train Loss: 0.1868, Train Acc: 0.9258\n",
      "Val Loss: 0.1636, Val Acc: 0.9323\n",
      "EarlyStopping counter: 3 out of 5\n",
      "Epoch 10 of 500\n"
     ]
    },
    {
     "name": "stderr",
     "output_type": "stream",
     "text": [
      "100%|██████████| 27/27 [00:04<00:00,  5.99it/s]\n",
      "100%|██████████| 10/10 [00:01<00:00,  8.20it/s]\n",
      "  0%|          | 0/27 [00:00<?, ?it/s]"
     ]
    },
    {
     "name": "stdout",
     "output_type": "stream",
     "text": [
      "Train Loss: 0.1535, Train Acc: 0.9380\n",
      "Val Loss: 0.1334, Val Acc: 0.9494\n",
      "EarlyStopping counter: 4 out of 5\n",
      "Epoch 11 of 500\n"
     ]
    },
    {
     "name": "stderr",
     "output_type": "stream",
     "text": [
      "100%|██████████| 27/27 [00:04<00:00,  6.00it/s]\n",
      "100%|██████████| 10/10 [00:01<00:00,  8.80it/s]\n",
      "  0%|          | 0/10 [00:00<?, ?it/s]"
     ]
    },
    {
     "name": "stdout",
     "output_type": "stream",
     "text": [
      "Train Loss: 0.1646, Train Acc: 0.9369\n",
      "Val Loss: 0.2331, Val Acc: 0.9136\n",
      "EarlyStopping counter: 5 out of 5\n",
      "Early stopping\n",
      "Training time: 1.047 minutes\n",
      "loading best model ../WeightsFinal_0.3_model_weights/Weights_replay_500/2018-10/best_model_epoch_6.pt\n",
      "loading best optimizer ../WeightsFinal_0.3_optimizer_weights/Weights_replay_500/2018-10/best_optimizer_epoch_6.pt\n"
     ]
    },
    {
     "name": "stderr",
     "output_type": "stream",
     "text": [
      "100%|██████████| 10/10 [00:01<00:00,  5.28it/s]\n"
     ]
    },
    {
     "name": "stdout",
     "output_type": "stream",
     "text": [
      "test accuracy 0.9491030395030975 and ROC-AUC 0.9499796845210244\n",
      "Elapsed time 20.109954981009164 mins.\n",
      "\n",
      "\n",
      "2023-01-30 12:11:42 Round 1 ...\n",
      "Current Task 2018-11 w/ 500 samples to Replay per Malware family.\n",
      "X_train (90000, 2381) Y_train (90000,) Y_tr_family (90000,)\n",
      "X_test (65006, 2381) Y_test (65006,) Y_te_family (65006,)\n"
     ]
    },
    {
     "name": "stderr",
     "output_type": "stream",
     "text": [
      "\r",
      "  0%|          | 0/1 [00:00<?, ?it/s]"
     ]
    },
    {
     "name": "stdout",
     "output_type": "stream",
     "text": [
      "Task 2018-11 and #-of new samples stored 90000\n",
      "loading best model ../WeightsFinal_0.3_model_weights/Weights_replay_500/2018-10/best_model_epoch_6.pt\n"
     ]
    },
    {
     "name": "stderr",
     "output_type": "stream",
     "text": [
      "100%|██████████| 1/1 [00:00<00:00,  1.99it/s]\n",
      "100%|██████████| 1/1 [00:00<00:00,  2.06it/s]\n",
      "100%|██████████| 1/1 [00:00<00:00,  1.57it/s]\n",
      "100%|██████████| 2/2 [00:00<00:00,  2.22it/s]\n",
      "100%|██████████| 1/1 [00:00<00:00,  1.66it/s]\n",
      "100%|██████████| 1/1 [00:00<00:00,  1.73it/s]\n",
      "100%|██████████| 1/1 [00:00<00:00,  1.83it/s]\n",
      "100%|██████████| 1/1 [00:00<00:00,  1.79it/s]\n",
      "100%|██████████| 1/1 [00:00<00:00,  1.10it/s]\n",
      "100%|██████████| 1/1 [00:00<00:00,  1.86it/s]\n",
      "100%|██████████| 1/1 [00:00<00:00,  1.82it/s]\n",
      "100%|██████████| 1/1 [00:00<00:00,  1.58it/s]\n",
      "100%|██████████| 2/2 [00:01<00:00,  1.99it/s]\n",
      "100%|██████████| 1/1 [00:00<00:00,  1.85it/s]\n",
      "100%|██████████| 1/1 [00:00<00:00,  1.98it/s]\n",
      "100%|██████████| 1/1 [00:00<00:00,  1.94it/s]\n",
      "100%|██████████| 1/1 [00:00<00:00,  1.94it/s]\n",
      "100%|██████████| 1/1 [00:00<00:00,  1.84it/s]\n",
      "100%|██████████| 1/1 [00:00<00:00,  1.72it/s]\n",
      "100%|██████████| 1/1 [00:00<00:00,  1.89it/s]\n",
      "100%|██████████| 3/3 [00:01<00:00,  2.77it/s]\n",
      "100%|██████████| 1/1 [00:00<00:00,  1.76it/s]\n",
      "100%|██████████| 1/1 [00:00<00:00,  1.97it/s]\n",
      "100%|██████████| 1/1 [00:00<00:00,  1.72it/s]\n",
      "100%|██████████| 1/1 [00:00<00:00,  2.01it/s]\n",
      "100%|██████████| 1/1 [00:00<00:00,  2.02it/s]\n",
      "100%|██████████| 1/1 [00:00<00:00,  1.99it/s]\n",
      "100%|██████████| 1/1 [00:00<00:00,  1.70it/s]\n"
     ]
    },
    {
     "name": "stdout",
     "output_type": "stream",
     "text": [
      "2023-01-30 12:13:08 Standardizing ...\n"
     ]
    },
    {
     "name": "stderr",
     "output_type": "stream",
     "text": [
      "\r",
      "  0%|          | 0/28 [00:00<?, ?it/s]"
     ]
    },
    {
     "name": "stdout",
     "output_type": "stream",
     "text": [
      "\n",
      "X_train (170564, 2381) Y_train (170564,)\n",
      "\n",
      "2023-01-30 12:13:21 Training ...\n",
      "Epoch 1 of 500\n"
     ]
    },
    {
     "name": "stderr",
     "output_type": "stream",
     "text": [
      "100%|██████████| 28/28 [00:05<00:00,  5.33it/s]\n",
      "100%|██████████| 11/11 [00:01<00:00,  8.08it/s]\n",
      "  0%|          | 0/28 [00:00<?, ?it/s]"
     ]
    },
    {
     "name": "stdout",
     "output_type": "stream",
     "text": [
      "Train Loss: 0.1880, Train Acc: 0.9273\n",
      "Val Loss: 0.1472, Val Acc: 0.9441\n",
      "Validation loss decreased (inf --> 0.147174).  Saving model ...\n",
      "../WeightsFinal_0.3_model_weights/Weights_replay_500/2018-11/best_model_epoch_1.pt\n",
      "../WeightsFinal_0.3_optimizer_weights/Weights_replay_500/2018-11/best_optimizer_epoch_1.pt\n",
      "Epoch 2 of 500\n"
     ]
    },
    {
     "name": "stderr",
     "output_type": "stream",
     "text": [
      "100%|██████████| 28/28 [00:05<00:00,  4.95it/s]\n",
      "100%|██████████| 11/11 [00:01<00:00,  8.42it/s]\n",
      "  0%|          | 0/28 [00:00<?, ?it/s]"
     ]
    },
    {
     "name": "stdout",
     "output_type": "stream",
     "text": [
      "Train Loss: 0.1894, Train Acc: 0.9268\n",
      "Val Loss: 0.1362, Val Acc: 0.9488\n",
      "Validation loss decreased (0.147174 --> 0.136176).  Saving model ...\n",
      "../WeightsFinal_0.3_model_weights/Weights_replay_500/2018-11/best_model_epoch_2.pt\n",
      "../WeightsFinal_0.3_optimizer_weights/Weights_replay_500/2018-11/best_optimizer_epoch_2.pt\n",
      "Epoch 3 of 500\n"
     ]
    },
    {
     "name": "stderr",
     "output_type": "stream",
     "text": [
      "100%|██████████| 28/28 [00:04<00:00,  6.08it/s]\n",
      "100%|██████████| 11/11 [00:01<00:00,  8.49it/s]\n",
      "  0%|          | 0/28 [00:00<?, ?it/s]"
     ]
    },
    {
     "name": "stdout",
     "output_type": "stream",
     "text": [
      "Train Loss: 0.2000, Train Acc: 0.9202\n",
      "Val Loss: 0.1412, Val Acc: 0.9461\n",
      "EarlyStopping counter: 1 out of 5\n",
      "Epoch 4 of 500\n"
     ]
    },
    {
     "name": "stderr",
     "output_type": "stream",
     "text": [
      "100%|██████████| 28/28 [00:05<00:00,  5.58it/s]\n",
      "100%|██████████| 11/11 [00:01<00:00,  8.96it/s]\n",
      "  0%|          | 0/28 [00:00<?, ?it/s]"
     ]
    },
    {
     "name": "stdout",
     "output_type": "stream",
     "text": [
      "Train Loss: 0.1989, Train Acc: 0.9215\n",
      "Val Loss: 0.1435, Val Acc: 0.9466\n",
      "EarlyStopping counter: 2 out of 5\n",
      "Epoch 5 of 500\n"
     ]
    },
    {
     "name": "stderr",
     "output_type": "stream",
     "text": [
      "100%|██████████| 28/28 [00:05<00:00,  5.25it/s]\n",
      "100%|██████████| 11/11 [00:01<00:00,  9.17it/s]\n",
      "  0%|          | 0/28 [00:00<?, ?it/s]"
     ]
    },
    {
     "name": "stdout",
     "output_type": "stream",
     "text": [
      "Train Loss: 0.1686, Train Acc: 0.9332\n",
      "Val Loss: 0.1478, Val Acc: 0.9470\n",
      "EarlyStopping counter: 3 out of 5\n",
      "Epoch 6 of 500\n"
     ]
    },
    {
     "name": "stderr",
     "output_type": "stream",
     "text": [
      "100%|██████████| 28/28 [00:04<00:00,  5.89it/s]\n",
      "100%|██████████| 11/11 [00:01<00:00,  8.73it/s]\n",
      "  0%|          | 0/28 [00:00<?, ?it/s]"
     ]
    },
    {
     "name": "stdout",
     "output_type": "stream",
     "text": [
      "Train Loss: 0.1963, Train Acc: 0.9225\n",
      "Val Loss: 0.1579, Val Acc: 0.9452\n",
      "EarlyStopping counter: 4 out of 5\n",
      "Epoch 7 of 500\n"
     ]
    },
    {
     "name": "stderr",
     "output_type": "stream",
     "text": [
      "100%|██████████| 28/28 [00:04<00:00,  5.85it/s]\n",
      "100%|██████████| 11/11 [00:01<00:00,  9.32it/s]\n",
      "  0%|          | 0/11 [00:00<?, ?it/s]"
     ]
    },
    {
     "name": "stdout",
     "output_type": "stream",
     "text": [
      "Train Loss: 0.1650, Train Acc: 0.9350\n",
      "Val Loss: 0.1522, Val Acc: 0.9431\n",
      "EarlyStopping counter: 5 out of 5\n",
      "Early stopping\n",
      "Training time: 0.744 minutes\n",
      "loading best model ../WeightsFinal_0.3_model_weights/Weights_replay_500/2018-11/best_model_epoch_2.pt\n",
      "loading best optimizer ../WeightsFinal_0.3_optimizer_weights/Weights_replay_500/2018-11/best_optimizer_epoch_2.pt\n"
     ]
    },
    {
     "name": "stderr",
     "output_type": "stream",
     "text": [
      "100%|██████████| 11/11 [00:02<00:00,  5.23it/s]\n"
     ]
    },
    {
     "name": "stdout",
     "output_type": "stream",
     "text": [
      "test accuracy 0.9477390592748468 and ROC-AUC 0.9477347487461035\n",
      "Elapsed time 22.55167314608892 mins.\n",
      "\n",
      "\n",
      "2023-01-30 12:14:08 Round 1 ...\n",
      "Current Task 2018-12 w/ 500 samples to Replay per Malware family.\n",
      "X_train (90000, 2381) Y_train (90000,) Y_tr_family (90000,)\n",
      "X_test (75006, 2381) Y_test (75006,) Y_te_family (75006,)\n"
     ]
    },
    {
     "name": "stderr",
     "output_type": "stream",
     "text": [
      "\r",
      "  0%|          | 0/1 [00:00<?, ?it/s]"
     ]
    },
    {
     "name": "stdout",
     "output_type": "stream",
     "text": [
      "Task 2018-12 and #-of new samples stored 90000\n",
      "loading best model ../WeightsFinal_0.3_model_weights/Weights_replay_500/2018-11/best_model_epoch_2.pt\n"
     ]
    },
    {
     "name": "stderr",
     "output_type": "stream",
     "text": [
      "100%|██████████| 1/1 [00:00<00:00,  1.89it/s]\n",
      "100%|██████████| 1/1 [00:00<00:00,  1.74it/s]\n",
      "100%|██████████| 1/1 [00:00<00:00,  1.65it/s]\n",
      "100%|██████████| 1/1 [00:00<00:00,  1.88it/s]\n",
      "100%|██████████| 1/1 [00:00<00:00,  1.58it/s]\n",
      "100%|██████████| 2/2 [00:00<00:00,  2.17it/s]\n",
      "100%|██████████| 1/1 [00:00<00:00,  1.70it/s]\n",
      "100%|██████████| 1/1 [00:00<00:00,  1.38it/s]\n",
      "100%|██████████| 1/1 [00:00<00:00,  1.74it/s]\n",
      "100%|██████████| 1/1 [00:00<00:00,  1.64it/s]\n",
      "100%|██████████| 1/1 [00:00<00:00,  1.70it/s]\n",
      "100%|██████████| 1/1 [00:00<00:00,  1.62it/s]\n",
      "100%|██████████| 2/2 [00:00<00:00,  2.13it/s]\n",
      "100%|██████████| 1/1 [00:00<00:00,  1.81it/s]\n",
      "100%|██████████| 1/1 [00:00<00:00,  1.55it/s]\n",
      "100%|██████████| 1/1 [00:00<00:00,  1.76it/s]\n",
      "100%|██████████| 1/1 [00:00<00:00,  1.78it/s]\n",
      "100%|██████████| 1/1 [00:00<00:00,  1.71it/s]\n",
      "100%|██████████| 1/1 [00:00<00:00,  1.70it/s]\n",
      "100%|██████████| 2/2 [00:00<00:00,  2.04it/s]\n",
      "100%|██████████| 1/1 [00:00<00:00,  1.83it/s]\n",
      "100%|██████████| 1/1 [00:00<00:00,  1.77it/s]\n",
      "100%|██████████| 1/1 [00:00<00:00,  1.60it/s]\n",
      "100%|██████████| 1/1 [00:00<00:00,  1.66it/s]\n",
      "100%|██████████| 1/1 [00:00<00:00,  1.47it/s]\n",
      "100%|██████████| 1/1 [00:00<00:00,  1.54it/s]\n",
      "100%|██████████| 1/1 [00:00<00:00,  1.85it/s]\n",
      "100%|██████████| 2/2 [00:01<00:00,  1.94it/s]\n",
      "100%|██████████| 1/1 [00:00<00:00,  1.48it/s]\n",
      "100%|██████████| 1/1 [00:00<00:00,  1.74it/s]\n",
      "100%|██████████| 1/1 [00:00<00:00,  1.83it/s]\n",
      "100%|██████████| 1/1 [00:00<00:00,  1.69it/s]\n",
      "100%|██████████| 1/1 [00:00<00:00,  1.78it/s]\n",
      "100%|██████████| 1/1 [00:00<00:00,  1.62it/s]\n",
      "100%|██████████| 1/1 [00:00<00:00,  1.65it/s]\n"
     ]
    },
    {
     "name": "stdout",
     "output_type": "stream",
     "text": [
      "2023-01-30 12:15:41 Standardizing ...\n"
     ]
    },
    {
     "name": "stderr",
     "output_type": "stream",
     "text": [
      "\r",
      "  0%|          | 0/29 [00:00<?, ?it/s]"
     ]
    },
    {
     "name": "stdout",
     "output_type": "stream",
     "text": [
      "\n",
      "X_train (174146, 2381) Y_train (174146,)\n",
      "\n",
      "2023-01-30 12:15:53 Training ...\n",
      "Epoch 1 of 500\n"
     ]
    },
    {
     "name": "stderr",
     "output_type": "stream",
     "text": [
      "100%|██████████| 29/29 [00:04<00:00,  5.83it/s]\n",
      "100%|██████████| 13/13 [00:01<00:00,  7.97it/s]\n",
      "  0%|          | 0/29 [00:00<?, ?it/s]"
     ]
    },
    {
     "name": "stdout",
     "output_type": "stream",
     "text": [
      "Train Loss: 0.1874, Train Acc: 0.9280\n",
      "Val Loss: 0.1443, Val Acc: 0.9457\n",
      "Validation loss decreased (inf --> 0.144278).  Saving model ...\n",
      "../WeightsFinal_0.3_model_weights/Weights_replay_500/2018-12/best_model_epoch_1.pt\n",
      "../WeightsFinal_0.3_optimizer_weights/Weights_replay_500/2018-12/best_optimizer_epoch_1.pt\n",
      "Epoch 2 of 500\n"
     ]
    },
    {
     "name": "stderr",
     "output_type": "stream",
     "text": [
      "100%|██████████| 29/29 [00:04<00:00,  6.58it/s]\n",
      "100%|██████████| 13/13 [00:01<00:00,  9.63it/s]\n",
      "  0%|          | 0/29 [00:00<?, ?it/s]"
     ]
    },
    {
     "name": "stdout",
     "output_type": "stream",
     "text": [
      "Train Loss: 0.1860, Train Acc: 0.9294\n",
      "Val Loss: 0.1475, Val Acc: 0.9444\n",
      "EarlyStopping counter: 1 out of 5\n",
      "Epoch 3 of 500\n"
     ]
    },
    {
     "name": "stderr",
     "output_type": "stream",
     "text": [
      "100%|██████████| 29/29 [00:04<00:00,  6.41it/s]\n",
      "100%|██████████| 13/13 [00:01<00:00,  9.22it/s]\n",
      "  0%|          | 0/29 [00:00<?, ?it/s]"
     ]
    },
    {
     "name": "stdout",
     "output_type": "stream",
     "text": [
      "Train Loss: 0.1771, Train Acc: 0.9318\n",
      "Val Loss: 0.1418, Val Acc: 0.9466\n",
      "Validation loss decreased (0.144278 --> 0.141845).  Saving model ...\n",
      "../WeightsFinal_0.3_model_weights/Weights_replay_500/2018-12/best_model_epoch_3.pt\n",
      "../WeightsFinal_0.3_optimizer_weights/Weights_replay_500/2018-12/best_optimizer_epoch_3.pt\n",
      "Epoch 4 of 500\n"
     ]
    },
    {
     "name": "stderr",
     "output_type": "stream",
     "text": [
      "100%|██████████| 29/29 [00:04<00:00,  5.95it/s]\n",
      "100%|██████████| 13/13 [00:01<00:00,  9.24it/s]\n",
      "  0%|          | 0/29 [00:00<?, ?it/s]"
     ]
    },
    {
     "name": "stdout",
     "output_type": "stream",
     "text": [
      "Train Loss: 0.1968, Train Acc: 0.9234\n",
      "Val Loss: 0.1794, Val Acc: 0.9311\n",
      "EarlyStopping counter: 1 out of 5\n",
      "Epoch 5 of 500\n"
     ]
    },
    {
     "name": "stderr",
     "output_type": "stream",
     "text": [
      "100%|██████████| 29/29 [00:04<00:00,  6.22it/s]\n",
      "100%|██████████| 13/13 [00:01<00:00,  9.78it/s]\n",
      "  0%|          | 0/29 [00:00<?, ?it/s]"
     ]
    },
    {
     "name": "stdout",
     "output_type": "stream",
     "text": [
      "Train Loss: 0.1689, Train Acc: 0.9356\n",
      "Val Loss: 0.1444, Val Acc: 0.9455\n",
      "EarlyStopping counter: 2 out of 5\n",
      "Epoch 6 of 500\n"
     ]
    },
    {
     "name": "stderr",
     "output_type": "stream",
     "text": [
      "100%|██████████| 29/29 [00:04<00:00,  5.97it/s]\n",
      "100%|██████████| 13/13 [00:01<00:00,  9.65it/s]\n",
      "  0%|          | 0/29 [00:00<?, ?it/s]"
     ]
    },
    {
     "name": "stdout",
     "output_type": "stream",
     "text": [
      "Train Loss: 0.1643, Train Acc: 0.9365\n",
      "Val Loss: 0.1376, Val Acc: 0.9480\n",
      "Validation loss decreased (0.141845 --> 0.137628).  Saving model ...\n",
      "../WeightsFinal_0.3_model_weights/Weights_replay_500/2018-12/best_model_epoch_6.pt\n",
      "../WeightsFinal_0.3_optimizer_weights/Weights_replay_500/2018-12/best_optimizer_epoch_6.pt\n",
      "Epoch 7 of 500\n"
     ]
    },
    {
     "name": "stderr",
     "output_type": "stream",
     "text": [
      "100%|██████████| 29/29 [00:04<00:00,  6.46it/s]\n",
      "100%|██████████| 13/13 [00:01<00:00,  8.87it/s]\n",
      "  0%|          | 0/29 [00:00<?, ?it/s]"
     ]
    },
    {
     "name": "stdout",
     "output_type": "stream",
     "text": [
      "Train Loss: 0.1830, Train Acc: 0.9286\n",
      "Val Loss: 0.1622, Val Acc: 0.9319\n",
      "EarlyStopping counter: 1 out of 5\n",
      "Epoch 8 of 500\n"
     ]
    },
    {
     "name": "stderr",
     "output_type": "stream",
     "text": [
      "100%|██████████| 29/29 [00:04<00:00,  6.45it/s]\n",
      "100%|██████████| 13/13 [00:01<00:00,  9.23it/s]\n",
      "  0%|          | 0/29 [00:00<?, ?it/s]"
     ]
    },
    {
     "name": "stdout",
     "output_type": "stream",
     "text": [
      "Train Loss: 0.1777, Train Acc: 0.9295\n",
      "Val Loss: 0.1663, Val Acc: 0.9368\n",
      "EarlyStopping counter: 2 out of 5\n",
      "Epoch 9 of 500\n"
     ]
    },
    {
     "name": "stderr",
     "output_type": "stream",
     "text": [
      "100%|██████████| 29/29 [00:04<00:00,  6.50it/s]\n",
      "100%|██████████| 13/13 [00:01<00:00,  9.05it/s]\n",
      "  0%|          | 0/29 [00:00<?, ?it/s]"
     ]
    },
    {
     "name": "stdout",
     "output_type": "stream",
     "text": [
      "Train Loss: 0.1635, Train Acc: 0.9368\n",
      "Val Loss: 0.1401, Val Acc: 0.9468\n",
      "EarlyStopping counter: 3 out of 5\n",
      "Epoch 10 of 500\n"
     ]
    },
    {
     "name": "stderr",
     "output_type": "stream",
     "text": [
      "100%|██████████| 29/29 [00:04<00:00,  6.07it/s]\n",
      "100%|██████████| 13/13 [00:01<00:00,  8.68it/s]\n",
      "  0%|          | 0/29 [00:00<?, ?it/s]"
     ]
    },
    {
     "name": "stdout",
     "output_type": "stream",
     "text": [
      "Train Loss: 0.1534, Train Acc: 0.9411\n",
      "Val Loss: 0.1514, Val Acc: 0.9424\n",
      "EarlyStopping counter: 4 out of 5\n",
      "Epoch 11 of 500\n"
     ]
    },
    {
     "name": "stderr",
     "output_type": "stream",
     "text": [
      "100%|██████████| 29/29 [00:04<00:00,  5.85it/s]\n",
      "100%|██████████| 13/13 [00:01<00:00, 10.03it/s]\n",
      "  0%|          | 0/13 [00:00<?, ?it/s]"
     ]
    },
    {
     "name": "stdout",
     "output_type": "stream",
     "text": [
      "Train Loss: 0.1497, Train Acc: 0.9423\n",
      "Val Loss: 0.1430, Val Acc: 0.9465\n",
      "EarlyStopping counter: 5 out of 5\n",
      "Early stopping\n",
      "Training time: 1.127 minutes\n",
      "loading best model ../WeightsFinal_0.3_model_weights/Weights_replay_500/2018-12/best_model_epoch_6.pt\n",
      "loading best optimizer ../WeightsFinal_0.3_optimizer_weights/Weights_replay_500/2018-12/best_optimizer_epoch_6.pt\n"
     ]
    },
    {
     "name": "stderr",
     "output_type": "stream",
     "text": [
      "100%|██████████| 13/13 [00:02<00:00,  5.65it/s]\n"
     ]
    },
    {
     "name": "stdout",
     "output_type": "stream",
     "text": [
      "test accuracy 0.9492635130882263 and ROC-AUC 0.9490694782496301\n",
      "Elapsed time 25.46519871155421 mins.\n",
      "\n",
      "Elapsed time 25.46521186431249 mins.\n",
      "Torch 1.6.0 CUDA 10.2\n",
      "Model has 3.132161m parameters\n",
      "\n",
      "2023-01-30 12:17:04 Round 2 ...\n",
      "Current Task 2018-01 w/ 500 samples to Replay per Malware family.\n",
      "X_train (55722, 2381) Y_train (55722,) Y_tr_family (55722,)\n",
      "X_test (6192, 2381) Y_test (6192,) Y_te_family (6192,)\n",
      "Task 2018-01 and #-of new samples stored 55722\n",
      "2023-01-30 12:17:06 Standardizing ...\n"
     ]
    },
    {
     "name": "stderr",
     "output_type": "stream",
     "text": [
      "\r",
      "  0%|          | 0/9 [00:00<?, ?it/s]"
     ]
    },
    {
     "name": "stdout",
     "output_type": "stream",
     "text": [
      "\n",
      "X_train (55722, 2381) Y_train (55722,)\n",
      "\n",
      "2023-01-30 12:17:09 Training ...\n",
      "Epoch 1 of 500\n"
     ]
    },
    {
     "name": "stderr",
     "output_type": "stream",
     "text": [
      "100%|██████████| 9/9 [00:01<00:00,  6.06it/s]\n",
      "100%|██████████| 2/2 [00:00<00:00, 15.42it/s]\n",
      "  0%|          | 0/9 [00:00<?, ?it/s]"
     ]
    },
    {
     "name": "stdout",
     "output_type": "stream",
     "text": [
      "Train Loss: 0.7029, Train Acc: 0.5304\n",
      "Val Loss: 0.6826, Val Acc: 0.7103\n",
      "Validation loss decreased (inf --> 0.682572).  Saving model ...\n",
      "../WeightsFinal_0.3_model_weights/Weights_replay_500/2018-01/best_model_epoch_1.pt\n",
      "../WeightsFinal_0.3_optimizer_weights/Weights_replay_500/2018-01/best_optimizer_epoch_1.pt\n",
      "Epoch 2 of 500\n"
     ]
    },
    {
     "name": "stderr",
     "output_type": "stream",
     "text": [
      "100%|██████████| 9/9 [00:01<00:00,  5.55it/s]\n",
      "100%|██████████| 2/2 [00:00<00:00, 16.71it/s]\n",
      "  0%|          | 0/9 [00:00<?, ?it/s]"
     ]
    },
    {
     "name": "stdout",
     "output_type": "stream",
     "text": [
      "Train Loss: 0.6582, Train Acc: 0.6233\n",
      "Val Loss: 0.6415, Val Acc: 0.7516\n",
      "Validation loss decreased (0.682572 --> 0.641511).  Saving model ...\n",
      "../WeightsFinal_0.3_model_weights/Weights_replay_500/2018-01/best_model_epoch_2.pt\n",
      "../WeightsFinal_0.3_optimizer_weights/Weights_replay_500/2018-01/best_optimizer_epoch_2.pt\n",
      "Epoch 3 of 500\n"
     ]
    },
    {
     "name": "stderr",
     "output_type": "stream",
     "text": [
      "100%|██████████| 9/9 [00:01<00:00,  4.53it/s]\n",
      "100%|██████████| 2/2 [00:00<00:00, 15.09it/s]\n",
      "  0%|          | 0/9 [00:00<?, ?it/s]"
     ]
    },
    {
     "name": "stdout",
     "output_type": "stream",
     "text": [
      "Train Loss: 0.6090, Train Acc: 0.6898\n",
      "Val Loss: 0.5766, Val Acc: 0.7885\n",
      "Validation loss decreased (0.641511 --> 0.576641).  Saving model ...\n",
      "../WeightsFinal_0.3_model_weights/Weights_replay_500/2018-01/best_model_epoch_3.pt\n",
      "../WeightsFinal_0.3_optimizer_weights/Weights_replay_500/2018-01/best_optimizer_epoch_3.pt\n",
      "Epoch 4 of 500\n"
     ]
    },
    {
     "name": "stderr",
     "output_type": "stream",
     "text": [
      "100%|██████████| 9/9 [00:01<00:00,  4.73it/s]\n",
      "100%|██████████| 2/2 [00:00<00:00,  7.69it/s]\n",
      "  0%|          | 0/9 [00:00<?, ?it/s]"
     ]
    },
    {
     "name": "stdout",
     "output_type": "stream",
     "text": [
      "Train Loss: 0.5530, Train Acc: 0.7369\n",
      "Val Loss: 0.5011, Val Acc: 0.8145\n",
      "Validation loss decreased (0.576641 --> 0.501080).  Saving model ...\n",
      "../WeightsFinal_0.3_model_weights/Weights_replay_500/2018-01/best_model_epoch_4.pt\n",
      "../WeightsFinal_0.3_optimizer_weights/Weights_replay_500/2018-01/best_optimizer_epoch_4.pt\n",
      "Epoch 5 of 500\n"
     ]
    },
    {
     "name": "stderr",
     "output_type": "stream",
     "text": [
      "100%|██████████| 9/9 [00:01<00:00,  5.90it/s]\n",
      "100%|██████████| 2/2 [00:00<00:00, 14.31it/s]\n",
      "  0%|          | 0/9 [00:00<?, ?it/s]"
     ]
    },
    {
     "name": "stdout",
     "output_type": "stream",
     "text": [
      "Train Loss: 0.4967, Train Acc: 0.7655\n",
      "Val Loss: 0.4387, Val Acc: 0.8070\n",
      "Validation loss decreased (0.501080 --> 0.438740).  Saving model ...\n",
      "../WeightsFinal_0.3_model_weights/Weights_replay_500/2018-01/best_model_epoch_5.pt\n",
      "../WeightsFinal_0.3_optimizer_weights/Weights_replay_500/2018-01/best_optimizer_epoch_5.pt\n",
      "Epoch 6 of 500\n"
     ]
    },
    {
     "name": "stderr",
     "output_type": "stream",
     "text": [
      "100%|██████████| 9/9 [00:01<00:00,  5.92it/s]\n",
      "100%|██████████| 2/2 [00:00<00:00, 14.03it/s]\n",
      "  0%|          | 0/9 [00:00<?, ?it/s]"
     ]
    },
    {
     "name": "stdout",
     "output_type": "stream",
     "text": [
      "Train Loss: 0.4489, Train Acc: 0.7903\n",
      "Val Loss: 0.3909, Val Acc: 0.8270\n",
      "Validation loss decreased (0.438740 --> 0.390907).  Saving model ...\n",
      "../WeightsFinal_0.3_model_weights/Weights_replay_500/2018-01/best_model_epoch_6.pt\n",
      "../WeightsFinal_0.3_optimizer_weights/Weights_replay_500/2018-01/best_optimizer_epoch_6.pt\n",
      "Epoch 7 of 500\n"
     ]
    },
    {
     "name": "stderr",
     "output_type": "stream",
     "text": [
      "100%|██████████| 9/9 [00:01<00:00,  5.89it/s]\n",
      "100%|██████████| 2/2 [00:00<00:00, 10.69it/s]\n",
      "  0%|          | 0/9 [00:00<?, ?it/s]"
     ]
    },
    {
     "name": "stdout",
     "output_type": "stream",
     "text": [
      "Train Loss: 0.4106, Train Acc: 0.8075\n",
      "Val Loss: 0.3514, Val Acc: 0.8573\n",
      "Validation loss decreased (0.390907 --> 0.351439).  Saving model ...\n",
      "../WeightsFinal_0.3_model_weights/Weights_replay_500/2018-01/best_model_epoch_7.pt\n",
      "../WeightsFinal_0.3_optimizer_weights/Weights_replay_500/2018-01/best_optimizer_epoch_7.pt\n",
      "Epoch 8 of 500\n"
     ]
    },
    {
     "name": "stderr",
     "output_type": "stream",
     "text": [
      "100%|██████████| 9/9 [00:01<00:00,  4.71it/s]\n",
      "100%|██████████| 2/2 [00:00<00:00,  6.07it/s]\n",
      "  0%|          | 0/9 [00:00<?, ?it/s]"
     ]
    },
    {
     "name": "stdout",
     "output_type": "stream",
     "text": [
      "Train Loss: 0.3774, Train Acc: 0.8292\n",
      "Val Loss: 0.3149, Val Acc: 0.8725\n",
      "Validation loss decreased (0.351439 --> 0.314860).  Saving model ...\n",
      "../WeightsFinal_0.3_model_weights/Weights_replay_500/2018-01/best_model_epoch_8.pt\n",
      "../WeightsFinal_0.3_optimizer_weights/Weights_replay_500/2018-01/best_optimizer_epoch_8.pt\n",
      "Epoch 9 of 500\n"
     ]
    },
    {
     "name": "stderr",
     "output_type": "stream",
     "text": [
      "100%|██████████| 9/9 [00:01<00:00,  4.53it/s]\n",
      "100%|██████████| 2/2 [00:00<00:00, 12.54it/s]\n",
      "  0%|          | 0/9 [00:00<?, ?it/s]"
     ]
    },
    {
     "name": "stdout",
     "output_type": "stream",
     "text": [
      "Train Loss: 0.3467, Train Acc: 0.8457\n",
      "Val Loss: 0.2825, Val Acc: 0.8854\n",
      "Validation loss decreased (0.314860 --> 0.282465).  Saving model ...\n",
      "../WeightsFinal_0.3_model_weights/Weights_replay_500/2018-01/best_model_epoch_9.pt\n",
      "../WeightsFinal_0.3_optimizer_weights/Weights_replay_500/2018-01/best_optimizer_epoch_9.pt\n",
      "Epoch 10 of 500\n"
     ]
    },
    {
     "name": "stderr",
     "output_type": "stream",
     "text": [
      "100%|██████████| 9/9 [00:01<00:00,  5.01it/s]\n",
      "100%|██████████| 2/2 [00:00<00:00, 16.21it/s]\n",
      "  0%|          | 0/9 [00:00<?, ?it/s]"
     ]
    },
    {
     "name": "stdout",
     "output_type": "stream",
     "text": [
      "Train Loss: 0.3224, Train Acc: 0.8578\n",
      "Val Loss: 0.2605, Val Acc: 0.8962\n",
      "Validation loss decreased (0.282465 --> 0.260517).  Saving model ...\n",
      "../WeightsFinal_0.3_model_weights/Weights_replay_500/2018-01/best_model_epoch_10.pt\n",
      "../WeightsFinal_0.3_optimizer_weights/Weights_replay_500/2018-01/best_optimizer_epoch_10.pt\n",
      "Epoch 11 of 500\n"
     ]
    },
    {
     "name": "stderr",
     "output_type": "stream",
     "text": [
      "100%|██████████| 9/9 [00:01<00:00,  5.42it/s]\n",
      "100%|██████████| 2/2 [00:00<00:00, 14.28it/s]\n",
      "  0%|          | 0/9 [00:00<?, ?it/s]"
     ]
    },
    {
     "name": "stdout",
     "output_type": "stream",
     "text": [
      "Train Loss: 0.2984, Train Acc: 0.8704\n",
      "Val Loss: 0.2435, Val Acc: 0.9040\n",
      "Validation loss decreased (0.260517 --> 0.243499).  Saving model ...\n",
      "../WeightsFinal_0.3_model_weights/Weights_replay_500/2018-01/best_model_epoch_11.pt\n",
      "../WeightsFinal_0.3_optimizer_weights/Weights_replay_500/2018-01/best_optimizer_epoch_11.pt\n",
      "Epoch 12 of 500\n"
     ]
    },
    {
     "name": "stderr",
     "output_type": "stream",
     "text": [
      "100%|██████████| 9/9 [00:01<00:00,  4.93it/s]\n",
      "100%|██████████| 2/2 [00:00<00:00,  8.86it/s]\n",
      "  0%|          | 0/9 [00:00<?, ?it/s]"
     ]
    },
    {
     "name": "stdout",
     "output_type": "stream",
     "text": [
      "Train Loss: 0.2795, Train Acc: 0.8811\n",
      "Val Loss: 0.2322, Val Acc: 0.9040\n",
      "Validation loss decreased (0.243499 --> 0.232201).  Saving model ...\n",
      "../WeightsFinal_0.3_model_weights/Weights_replay_500/2018-01/best_model_epoch_12.pt\n",
      "../WeightsFinal_0.3_optimizer_weights/Weights_replay_500/2018-01/best_optimizer_epoch_12.pt\n",
      "Epoch 13 of 500\n"
     ]
    },
    {
     "name": "stderr",
     "output_type": "stream",
     "text": [
      "100%|██████████| 9/9 [00:01<00:00,  5.84it/s]\n",
      "100%|██████████| 2/2 [00:00<00:00, 13.60it/s]\n",
      "  0%|          | 0/9 [00:00<?, ?it/s]"
     ]
    },
    {
     "name": "stdout",
     "output_type": "stream",
     "text": [
      "Train Loss: 0.2679, Train Acc: 0.8861\n",
      "Val Loss: 0.2254, Val Acc: 0.9011\n",
      "Validation loss decreased (0.232201 --> 0.225397).  Saving model ...\n",
      "../WeightsFinal_0.3_model_weights/Weights_replay_500/2018-01/best_model_epoch_13.pt\n",
      "../WeightsFinal_0.3_optimizer_weights/Weights_replay_500/2018-01/best_optimizer_epoch_13.pt\n",
      "Epoch 14 of 500\n"
     ]
    },
    {
     "name": "stderr",
     "output_type": "stream",
     "text": [
      "100%|██████████| 9/9 [00:01<00:00,  5.88it/s]\n",
      "100%|██████████| 2/2 [00:00<00:00, 13.39it/s]\n",
      "  0%|          | 0/9 [00:00<?, ?it/s]"
     ]
    },
    {
     "name": "stdout",
     "output_type": "stream",
     "text": [
      "Train Loss: 0.2570, Train Acc: 0.8923\n",
      "Val Loss: 0.2210, Val Acc: 0.8992\n",
      "Validation loss decreased (0.225397 --> 0.221035).  Saving model ...\n",
      "../WeightsFinal_0.3_model_weights/Weights_replay_500/2018-01/best_model_epoch_14.pt\n",
      "../WeightsFinal_0.3_optimizer_weights/Weights_replay_500/2018-01/best_optimizer_epoch_14.pt\n",
      "Epoch 15 of 500\n"
     ]
    },
    {
     "name": "stderr",
     "output_type": "stream",
     "text": [
      "100%|██████████| 9/9 [00:01<00:00,  5.91it/s]\n",
      "100%|██████████| 2/2 [00:00<00:00, 15.83it/s]\n",
      "  0%|          | 0/9 [00:00<?, ?it/s]"
     ]
    },
    {
     "name": "stdout",
     "output_type": "stream",
     "text": [
      "Train Loss: 0.2454, Train Acc: 0.8981\n",
      "Val Loss: 0.2120, Val Acc: 0.9092\n",
      "Validation loss decreased (0.221035 --> 0.211978).  Saving model ...\n",
      "../WeightsFinal_0.3_model_weights/Weights_replay_500/2018-01/best_model_epoch_15.pt\n",
      "../WeightsFinal_0.3_optimizer_weights/Weights_replay_500/2018-01/best_optimizer_epoch_15.pt\n",
      "Epoch 16 of 500\n"
     ]
    },
    {
     "name": "stderr",
     "output_type": "stream",
     "text": [
      "100%|██████████| 9/9 [00:01<00:00,  5.57it/s]\n",
      "100%|██████████| 2/2 [00:00<00:00,  8.39it/s]\n",
      "  0%|          | 0/9 [00:00<?, ?it/s]"
     ]
    },
    {
     "name": "stdout",
     "output_type": "stream",
     "text": [
      "Train Loss: 0.2347, Train Acc: 0.9032\n",
      "Val Loss: 0.2069, Val Acc: 0.9111\n",
      "Validation loss decreased (0.211978 --> 0.206883).  Saving model ...\n",
      "../WeightsFinal_0.3_model_weights/Weights_replay_500/2018-01/best_model_epoch_16.pt\n",
      "../WeightsFinal_0.3_optimizer_weights/Weights_replay_500/2018-01/best_optimizer_epoch_16.pt\n",
      "Epoch 17 of 500\n"
     ]
    },
    {
     "name": "stderr",
     "output_type": "stream",
     "text": [
      "100%|██████████| 9/9 [00:01<00:00,  5.90it/s]\n",
      "100%|██████████| 2/2 [00:00<00:00, 12.10it/s]\n",
      "  0%|          | 0/9 [00:00<?, ?it/s]"
     ]
    },
    {
     "name": "stdout",
     "output_type": "stream",
     "text": [
      "Train Loss: 0.2285, Train Acc: 0.9061\n",
      "Val Loss: 0.2057, Val Acc: 0.9111\n",
      "Validation loss decreased (0.206883 --> 0.205681).  Saving model ...\n",
      "../WeightsFinal_0.3_model_weights/Weights_replay_500/2018-01/best_model_epoch_17.pt\n",
      "../WeightsFinal_0.3_optimizer_weights/Weights_replay_500/2018-01/best_optimizer_epoch_17.pt\n",
      "Epoch 18 of 500\n"
     ]
    },
    {
     "name": "stderr",
     "output_type": "stream",
     "text": [
      "100%|██████████| 9/9 [00:01<00:00,  5.04it/s]\n",
      "100%|██████████| 2/2 [00:00<00:00, 14.64it/s]\n",
      "  0%|          | 0/9 [00:00<?, ?it/s]"
     ]
    },
    {
     "name": "stdout",
     "output_type": "stream",
     "text": [
      "Train Loss: 0.2162, Train Acc: 0.9117\n",
      "Val Loss: 0.2024, Val Acc: 0.9118\n",
      "Validation loss decreased (0.205681 --> 0.202369).  Saving model ...\n",
      "../WeightsFinal_0.3_model_weights/Weights_replay_500/2018-01/best_model_epoch_18.pt\n",
      "../WeightsFinal_0.3_optimizer_weights/Weights_replay_500/2018-01/best_optimizer_epoch_18.pt\n",
      "Epoch 19 of 500\n"
     ]
    },
    {
     "name": "stderr",
     "output_type": "stream",
     "text": [
      "100%|██████████| 9/9 [00:02<00:00,  4.38it/s]\n",
      "100%|██████████| 2/2 [00:00<00:00,  6.89it/s]\n",
      "  0%|          | 0/9 [00:00<?, ?it/s]"
     ]
    },
    {
     "name": "stdout",
     "output_type": "stream",
     "text": [
      "Train Loss: 0.2112, Train Acc: 0.9137\n",
      "Val Loss: 0.2001, Val Acc: 0.9147\n",
      "Validation loss decreased (0.202369 --> 0.200060).  Saving model ...\n",
      "../WeightsFinal_0.3_model_weights/Weights_replay_500/2018-01/best_model_epoch_19.pt\n",
      "../WeightsFinal_0.3_optimizer_weights/Weights_replay_500/2018-01/best_optimizer_epoch_19.pt\n",
      "Epoch 20 of 500\n"
     ]
    },
    {
     "name": "stderr",
     "output_type": "stream",
     "text": [
      "100%|██████████| 9/9 [00:01<00:00,  6.11it/s]\n",
      "100%|██████████| 2/2 [00:00<00:00, 14.80it/s]\n",
      "  0%|          | 0/9 [00:00<?, ?it/s]"
     ]
    },
    {
     "name": "stdout",
     "output_type": "stream",
     "text": [
      "Train Loss: 0.2107, Train Acc: 0.9137\n",
      "Val Loss: 0.1939, Val Acc: 0.9183\n",
      "Validation loss decreased (0.200060 --> 0.193939).  Saving model ...\n",
      "../WeightsFinal_0.3_model_weights/Weights_replay_500/2018-01/best_model_epoch_20.pt\n",
      "../WeightsFinal_0.3_optimizer_weights/Weights_replay_500/2018-01/best_optimizer_epoch_20.pt\n",
      "Epoch 21 of 500\n"
     ]
    },
    {
     "name": "stderr",
     "output_type": "stream",
     "text": [
      "100%|██████████| 9/9 [00:01<00:00,  5.66it/s]\n",
      "100%|██████████| 2/2 [00:00<00:00, 15.53it/s]\n",
      "  0%|          | 0/9 [00:00<?, ?it/s]"
     ]
    },
    {
     "name": "stdout",
     "output_type": "stream",
     "text": [
      "Train Loss: 0.2005, Train Acc: 0.9192\n",
      "Val Loss: 0.1946, Val Acc: 0.9266\n",
      "EarlyStopping counter: 1 out of 5\n",
      "Epoch 22 of 500\n"
     ]
    },
    {
     "name": "stderr",
     "output_type": "stream",
     "text": [
      "100%|██████████| 9/9 [00:01<00:00,  5.67it/s]\n",
      "100%|██████████| 2/2 [00:00<00:00, 12.57it/s]\n",
      "  0%|          | 0/9 [00:00<?, ?it/s]"
     ]
    },
    {
     "name": "stdout",
     "output_type": "stream",
     "text": [
      "Train Loss: 0.2001, Train Acc: 0.9190\n",
      "Val Loss: 0.1891, Val Acc: 0.9252\n",
      "Validation loss decreased (0.193939 --> 0.189148).  Saving model ...\n",
      "../WeightsFinal_0.3_model_weights/Weights_replay_500/2018-01/best_model_epoch_22.pt\n",
      "../WeightsFinal_0.3_optimizer_weights/Weights_replay_500/2018-01/best_optimizer_epoch_22.pt\n",
      "Epoch 23 of 500\n"
     ]
    },
    {
     "name": "stderr",
     "output_type": "stream",
     "text": [
      "100%|██████████| 9/9 [00:01<00:00,  5.64it/s]\n",
      "100%|██████████| 2/2 [00:00<00:00,  8.43it/s]\n",
      "  0%|          | 0/9 [00:00<?, ?it/s]"
     ]
    },
    {
     "name": "stdout",
     "output_type": "stream",
     "text": [
      "Train Loss: 0.1932, Train Acc: 0.9235\n",
      "Val Loss: 0.1902, Val Acc: 0.9226\n",
      "EarlyStopping counter: 1 out of 5\n",
      "Epoch 24 of 500\n"
     ]
    },
    {
     "name": "stderr",
     "output_type": "stream",
     "text": [
      "100%|██████████| 9/9 [00:01<00:00,  5.40it/s]\n",
      "100%|██████████| 2/2 [00:00<00:00, 15.66it/s]\n",
      "  0%|          | 0/9 [00:00<?, ?it/s]"
     ]
    },
    {
     "name": "stdout",
     "output_type": "stream",
     "text": [
      "Train Loss: 0.1886, Train Acc: 0.9219\n",
      "Val Loss: 0.1855, Val Acc: 0.9235\n",
      "Validation loss decreased (0.189148 --> 0.185483).  Saving model ...\n",
      "../WeightsFinal_0.3_model_weights/Weights_replay_500/2018-01/best_model_epoch_24.pt\n",
      "../WeightsFinal_0.3_optimizer_weights/Weights_replay_500/2018-01/best_optimizer_epoch_24.pt\n",
      "Epoch 25 of 500\n"
     ]
    },
    {
     "name": "stderr",
     "output_type": "stream",
     "text": [
      "100%|██████████| 9/9 [00:01<00:00,  5.82it/s]\n",
      "100%|██████████| 2/2 [00:00<00:00, 14.66it/s]\n",
      "  0%|          | 0/9 [00:00<?, ?it/s]"
     ]
    },
    {
     "name": "stdout",
     "output_type": "stream",
     "text": [
      "Train Loss: 0.1851, Train Acc: 0.9252\n",
      "Val Loss: 0.1867, Val Acc: 0.9236\n",
      "EarlyStopping counter: 1 out of 5\n",
      "Epoch 26 of 500\n"
     ]
    },
    {
     "name": "stderr",
     "output_type": "stream",
     "text": [
      "100%|██████████| 9/9 [00:01<00:00,  5.05it/s]\n",
      "100%|██████████| 2/2 [00:00<00:00, 12.37it/s]\n",
      "  0%|          | 0/9 [00:00<?, ?it/s]"
     ]
    },
    {
     "name": "stdout",
     "output_type": "stream",
     "text": [
      "Train Loss: 0.1779, Train Acc: 0.9290\n",
      "Val Loss: 0.1810, Val Acc: 0.9248\n",
      "Validation loss decreased (0.185483 --> 0.181046).  Saving model ...\n",
      "../WeightsFinal_0.3_model_weights/Weights_replay_500/2018-01/best_model_epoch_26.pt\n",
      "../WeightsFinal_0.3_optimizer_weights/Weights_replay_500/2018-01/best_optimizer_epoch_26.pt\n",
      "Epoch 27 of 500\n"
     ]
    },
    {
     "name": "stderr",
     "output_type": "stream",
     "text": [
      "100%|██████████| 9/9 [00:01<00:00,  4.66it/s]\n",
      "100%|██████████| 2/2 [00:00<00:00,  7.57it/s]\n",
      "  0%|          | 0/9 [00:00<?, ?it/s]"
     ]
    },
    {
     "name": "stdout",
     "output_type": "stream",
     "text": [
      "Train Loss: 0.1760, Train Acc: 0.9308\n",
      "Val Loss: 0.1865, Val Acc: 0.9242\n",
      "EarlyStopping counter: 1 out of 5\n",
      "Epoch 28 of 500\n"
     ]
    },
    {
     "name": "stderr",
     "output_type": "stream",
     "text": [
      "100%|██████████| 9/9 [00:01<00:00,  5.72it/s]\n",
      "100%|██████████| 2/2 [00:00<00:00, 15.69it/s]\n",
      "  0%|          | 0/9 [00:00<?, ?it/s]"
     ]
    },
    {
     "name": "stdout",
     "output_type": "stream",
     "text": [
      "Train Loss: 0.1750, Train Acc: 0.9308\n",
      "Val Loss: 0.1788, Val Acc: 0.9280\n",
      "Validation loss decreased (0.181046 --> 0.178813).  Saving model ...\n",
      "../WeightsFinal_0.3_model_weights/Weights_replay_500/2018-01/best_model_epoch_28.pt\n",
      "../WeightsFinal_0.3_optimizer_weights/Weights_replay_500/2018-01/best_optimizer_epoch_28.pt\n",
      "Epoch 29 of 500\n"
     ]
    },
    {
     "name": "stderr",
     "output_type": "stream",
     "text": [
      "100%|██████████| 9/9 [00:01<00:00,  5.82it/s]\n",
      "100%|██████████| 2/2 [00:00<00:00, 13.41it/s]\n",
      "  0%|          | 0/9 [00:00<?, ?it/s]"
     ]
    },
    {
     "name": "stdout",
     "output_type": "stream",
     "text": [
      "Train Loss: 0.1705, Train Acc: 0.9318\n",
      "Val Loss: 0.1774, Val Acc: 0.9314\n",
      "Validation loss decreased (0.178813 --> 0.177387).  Saving model ...\n",
      "../WeightsFinal_0.3_model_weights/Weights_replay_500/2018-01/best_model_epoch_29.pt\n",
      "../WeightsFinal_0.3_optimizer_weights/Weights_replay_500/2018-01/best_optimizer_epoch_29.pt\n",
      "Epoch 30 of 500\n"
     ]
    },
    {
     "name": "stderr",
     "output_type": "stream",
     "text": [
      "100%|██████████| 9/9 [00:01<00:00,  5.23it/s]\n",
      "100%|██████████| 2/2 [00:00<00:00, 13.69it/s]\n",
      "  0%|          | 0/9 [00:00<?, ?it/s]"
     ]
    },
    {
     "name": "stdout",
     "output_type": "stream",
     "text": [
      "Train Loss: 0.1732, Train Acc: 0.9312\n",
      "Val Loss: 0.1759, Val Acc: 0.9311\n",
      "Validation loss decreased (0.177387 --> 0.175877).  Saving model ...\n",
      "../WeightsFinal_0.3_model_weights/Weights_replay_500/2018-01/best_model_epoch_30.pt\n",
      "../WeightsFinal_0.3_optimizer_weights/Weights_replay_500/2018-01/best_optimizer_epoch_30.pt\n",
      "Epoch 31 of 500\n"
     ]
    },
    {
     "name": "stderr",
     "output_type": "stream",
     "text": [
      "100%|██████████| 9/9 [00:01<00:00,  4.93it/s]\n",
      "100%|██████████| 2/2 [00:00<00:00,  6.92it/s]\n",
      "  0%|          | 0/9 [00:00<?, ?it/s]"
     ]
    },
    {
     "name": "stdout",
     "output_type": "stream",
     "text": [
      "Train Loss: 0.1633, Train Acc: 0.9342\n",
      "Val Loss: 0.1809, Val Acc: 0.9269\n",
      "EarlyStopping counter: 1 out of 5\n",
      "Epoch 32 of 500\n"
     ]
    },
    {
     "name": "stderr",
     "output_type": "stream",
     "text": [
      "100%|██████████| 9/9 [00:01<00:00,  5.62it/s]\n",
      "100%|██████████| 2/2 [00:00<00:00, 13.88it/s]\n",
      "  0%|          | 0/9 [00:00<?, ?it/s]"
     ]
    },
    {
     "name": "stdout",
     "output_type": "stream",
     "text": [
      "Train Loss: 0.1624, Train Acc: 0.9356\n",
      "Val Loss: 0.1773, Val Acc: 0.9267\n",
      "EarlyStopping counter: 2 out of 5\n",
      "Epoch 33 of 500\n"
     ]
    },
    {
     "name": "stderr",
     "output_type": "stream",
     "text": [
      "100%|██████████| 9/9 [00:01<00:00,  5.94it/s]\n",
      "100%|██████████| 2/2 [00:00<00:00, 13.31it/s]\n",
      "  0%|          | 0/9 [00:00<?, ?it/s]"
     ]
    },
    {
     "name": "stdout",
     "output_type": "stream",
     "text": [
      "Train Loss: 0.1598, Train Acc: 0.9376\n",
      "Val Loss: 0.1741, Val Acc: 0.9302\n",
      "Validation loss decreased (0.175877 --> 0.174080).  Saving model ...\n",
      "../WeightsFinal_0.3_model_weights/Weights_replay_500/2018-01/best_model_epoch_33.pt\n",
      "../WeightsFinal_0.3_optimizer_weights/Weights_replay_500/2018-01/best_optimizer_epoch_33.pt\n",
      "Epoch 34 of 500\n"
     ]
    },
    {
     "name": "stderr",
     "output_type": "stream",
     "text": [
      "100%|██████████| 9/9 [00:01<00:00,  5.63it/s]\n",
      "100%|██████████| 2/2 [00:00<00:00, 15.19it/s]\n",
      "  0%|          | 0/9 [00:00<?, ?it/s]"
     ]
    },
    {
     "name": "stdout",
     "output_type": "stream",
     "text": [
      "Train Loss: 0.1600, Train Acc: 0.9375\n",
      "Val Loss: 0.1741, Val Acc: 0.9287\n",
      "EarlyStopping counter: 1 out of 5\n",
      "Epoch 35 of 500\n"
     ]
    },
    {
     "name": "stderr",
     "output_type": "stream",
     "text": [
      "100%|██████████| 9/9 [00:01<00:00,  5.09it/s]\n",
      "100%|██████████| 2/2 [00:00<00:00,  8.31it/s]\n",
      "  0%|          | 0/9 [00:00<?, ?it/s]"
     ]
    },
    {
     "name": "stdout",
     "output_type": "stream",
     "text": [
      "Train Loss: 0.1541, Train Acc: 0.9394\n",
      "Val Loss: 0.1703, Val Acc: 0.9287\n",
      "Validation loss decreased (0.174080 --> 0.170260).  Saving model ...\n",
      "../WeightsFinal_0.3_model_weights/Weights_replay_500/2018-01/best_model_epoch_35.pt\n",
      "../WeightsFinal_0.3_optimizer_weights/Weights_replay_500/2018-01/best_optimizer_epoch_35.pt\n",
      "Epoch 36 of 500\n"
     ]
    },
    {
     "name": "stderr",
     "output_type": "stream",
     "text": [
      "100%|██████████| 9/9 [00:01<00:00,  5.38it/s]\n",
      "100%|██████████| 2/2 [00:00<00:00, 12.38it/s]\n",
      "  0%|          | 0/9 [00:00<?, ?it/s]"
     ]
    },
    {
     "name": "stdout",
     "output_type": "stream",
     "text": [
      "Train Loss: 0.1529, Train Acc: 0.9399\n",
      "Val Loss: 0.1702, Val Acc: 0.9316\n",
      "Validation loss decreased (0.170260 --> 0.170239).  Saving model ...\n",
      "../WeightsFinal_0.3_model_weights/Weights_replay_500/2018-01/best_model_epoch_36.pt\n",
      "../WeightsFinal_0.3_optimizer_weights/Weights_replay_500/2018-01/best_optimizer_epoch_36.pt\n",
      "Epoch 37 of 500\n"
     ]
    },
    {
     "name": "stderr",
     "output_type": "stream",
     "text": [
      "100%|██████████| 9/9 [00:01<00:00,  5.34it/s]\n",
      "100%|██████████| 2/2 [00:00<00:00, 15.71it/s]\n",
      "  0%|          | 0/9 [00:00<?, ?it/s]"
     ]
    },
    {
     "name": "stdout",
     "output_type": "stream",
     "text": [
      "Train Loss: 0.1477, Train Acc: 0.9406\n",
      "Val Loss: 0.1689, Val Acc: 0.9342\n",
      "Validation loss decreased (0.170239 --> 0.168896).  Saving model ...\n",
      "../WeightsFinal_0.3_model_weights/Weights_replay_500/2018-01/best_model_epoch_37.pt\n",
      "../WeightsFinal_0.3_optimizer_weights/Weights_replay_500/2018-01/best_optimizer_epoch_37.pt\n",
      "Epoch 38 of 500\n"
     ]
    },
    {
     "name": "stderr",
     "output_type": "stream",
     "text": [
      "100%|██████████| 9/9 [00:01<00:00,  5.32it/s]\n",
      "100%|██████████| 2/2 [00:00<00:00,  8.09it/s]\n",
      "  0%|          | 0/9 [00:00<?, ?it/s]"
     ]
    },
    {
     "name": "stdout",
     "output_type": "stream",
     "text": [
      "Train Loss: 0.1472, Train Acc: 0.9420\n",
      "Val Loss: 0.1701, Val Acc: 0.9313\n",
      "EarlyStopping counter: 1 out of 5\n",
      "Epoch 39 of 500\n"
     ]
    },
    {
     "name": "stderr",
     "output_type": "stream",
     "text": [
      "100%|██████████| 9/9 [00:01<00:00,  5.19it/s]\n",
      "100%|██████████| 2/2 [00:00<00:00, 12.09it/s]\n",
      "  0%|          | 0/9 [00:00<?, ?it/s]"
     ]
    },
    {
     "name": "stdout",
     "output_type": "stream",
     "text": [
      "Train Loss: 0.1454, Train Acc: 0.9435\n",
      "Val Loss: 0.1658, Val Acc: 0.9320\n",
      "Validation loss decreased (0.168896 --> 0.165794).  Saving model ...\n",
      "../WeightsFinal_0.3_model_weights/Weights_replay_500/2018-01/best_model_epoch_39.pt\n",
      "../WeightsFinal_0.3_optimizer_weights/Weights_replay_500/2018-01/best_optimizer_epoch_39.pt\n",
      "Epoch 40 of 500\n"
     ]
    },
    {
     "name": "stderr",
     "output_type": "stream",
     "text": [
      "100%|██████████| 9/9 [00:01<00:00,  5.60it/s]\n",
      "100%|██████████| 2/2 [00:00<00:00, 13.21it/s]\n",
      "  0%|          | 0/9 [00:00<?, ?it/s]"
     ]
    },
    {
     "name": "stdout",
     "output_type": "stream",
     "text": [
      "Train Loss: 0.1457, Train Acc: 0.9439\n",
      "Val Loss: 0.1699, Val Acc: 0.9314\n",
      "EarlyStopping counter: 1 out of 5\n",
      "Epoch 41 of 500\n"
     ]
    },
    {
     "name": "stderr",
     "output_type": "stream",
     "text": [
      "100%|██████████| 9/9 [00:01<00:00,  5.34it/s]\n",
      "100%|██████████| 2/2 [00:00<00:00, 13.80it/s]\n",
      "  0%|          | 0/9 [00:00<?, ?it/s]"
     ]
    },
    {
     "name": "stdout",
     "output_type": "stream",
     "text": [
      "Train Loss: 0.1430, Train Acc: 0.9434\n",
      "Val Loss: 0.1646, Val Acc: 0.9320\n",
      "Validation loss decreased (0.165794 --> 0.164585).  Saving model ...\n",
      "../WeightsFinal_0.3_model_weights/Weights_replay_500/2018-01/best_model_epoch_41.pt\n",
      "../WeightsFinal_0.3_optimizer_weights/Weights_replay_500/2018-01/best_optimizer_epoch_41.pt\n",
      "Epoch 42 of 500\n"
     ]
    },
    {
     "name": "stderr",
     "output_type": "stream",
     "text": [
      "100%|██████████| 9/9 [00:01<00:00,  4.86it/s]\n",
      "100%|██████████| 2/2 [00:00<00:00,  7.38it/s]\n",
      "  0%|          | 0/9 [00:00<?, ?it/s]"
     ]
    },
    {
     "name": "stdout",
     "output_type": "stream",
     "text": [
      "Train Loss: 0.1398, Train Acc: 0.9449\n",
      "Val Loss: 0.1655, Val Acc: 0.9354\n",
      "EarlyStopping counter: 1 out of 5\n",
      "Epoch 43 of 500\n"
     ]
    },
    {
     "name": "stderr",
     "output_type": "stream",
     "text": [
      "100%|██████████| 9/9 [00:01<00:00,  5.34it/s]\n",
      "100%|██████████| 2/2 [00:00<00:00, 15.54it/s]\n",
      "  0%|          | 0/9 [00:00<?, ?it/s]"
     ]
    },
    {
     "name": "stdout",
     "output_type": "stream",
     "text": [
      "Train Loss: 0.1411, Train Acc: 0.9454\n",
      "Val Loss: 0.1639, Val Acc: 0.9377\n",
      "Validation loss decreased (0.164585 --> 0.163926).  Saving model ...\n",
      "../WeightsFinal_0.3_model_weights/Weights_replay_500/2018-01/best_model_epoch_43.pt\n",
      "../WeightsFinal_0.3_optimizer_weights/Weights_replay_500/2018-01/best_optimizer_epoch_43.pt\n",
      "Epoch 44 of 500\n"
     ]
    },
    {
     "name": "stderr",
     "output_type": "stream",
     "text": [
      "100%|██████████| 9/9 [00:01<00:00,  5.02it/s]\n",
      "100%|██████████| 2/2 [00:00<00:00, 15.77it/s]\n",
      "  0%|          | 0/9 [00:00<?, ?it/s]"
     ]
    },
    {
     "name": "stdout",
     "output_type": "stream",
     "text": [
      "Train Loss: 0.1327, Train Acc: 0.9470\n",
      "Val Loss: 0.1641, Val Acc: 0.9387\n",
      "EarlyStopping counter: 1 out of 5\n",
      "Epoch 45 of 500\n"
     ]
    },
    {
     "name": "stderr",
     "output_type": "stream",
     "text": [
      "100%|██████████| 9/9 [00:01<00:00,  4.83it/s]\n",
      "100%|██████████| 2/2 [00:00<00:00, 12.82it/s]\n",
      "  0%|          | 0/9 [00:00<?, ?it/s]"
     ]
    },
    {
     "name": "stdout",
     "output_type": "stream",
     "text": [
      "Train Loss: 0.1358, Train Acc: 0.9476\n",
      "Val Loss: 0.1654, Val Acc: 0.9361\n",
      "EarlyStopping counter: 2 out of 5\n",
      "Epoch 46 of 500\n"
     ]
    },
    {
     "name": "stderr",
     "output_type": "stream",
     "text": [
      "100%|██████████| 9/9 [00:01<00:00,  5.68it/s]\n",
      "100%|██████████| 2/2 [00:00<00:00,  7.30it/s]\n",
      "  0%|          | 0/9 [00:00<?, ?it/s]"
     ]
    },
    {
     "name": "stdout",
     "output_type": "stream",
     "text": [
      "Train Loss: 0.1301, Train Acc: 0.9488\n",
      "Val Loss: 0.1590, Val Acc: 0.9387\n",
      "Validation loss decreased (0.163926 --> 0.158987).  Saving model ...\n",
      "../WeightsFinal_0.3_model_weights/Weights_replay_500/2018-01/best_model_epoch_46.pt\n",
      "../WeightsFinal_0.3_optimizer_weights/Weights_replay_500/2018-01/best_optimizer_epoch_46.pt\n",
      "Epoch 47 of 500\n"
     ]
    },
    {
     "name": "stderr",
     "output_type": "stream",
     "text": [
      "100%|██████████| 9/9 [00:01<00:00,  5.53it/s]\n",
      "100%|██████████| 2/2 [00:00<00:00, 15.30it/s]\n",
      "  0%|          | 0/9 [00:00<?, ?it/s]"
     ]
    },
    {
     "name": "stdout",
     "output_type": "stream",
     "text": [
      "Train Loss: 0.1253, Train Acc: 0.9522\n",
      "Val Loss: 0.1599, Val Acc: 0.9391\n",
      "EarlyStopping counter: 1 out of 5\n",
      "Epoch 48 of 500\n"
     ]
    },
    {
     "name": "stderr",
     "output_type": "stream",
     "text": [
      "100%|██████████| 9/9 [00:01<00:00,  5.49it/s]\n",
      "100%|██████████| 2/2 [00:00<00:00, 11.43it/s]\n",
      "  0%|          | 0/9 [00:00<?, ?it/s]"
     ]
    },
    {
     "name": "stdout",
     "output_type": "stream",
     "text": [
      "Train Loss: 0.1242, Train Acc: 0.9516\n",
      "Val Loss: 0.1613, Val Acc: 0.9387\n",
      "EarlyStopping counter: 2 out of 5\n",
      "Epoch 49 of 500\n"
     ]
    },
    {
     "name": "stderr",
     "output_type": "stream",
     "text": [
      "100%|██████████| 9/9 [00:01<00:00,  5.21it/s]\n",
      "100%|██████████| 2/2 [00:00<00:00, 13.24it/s]\n",
      "  0%|          | 0/9 [00:00<?, ?it/s]"
     ]
    },
    {
     "name": "stdout",
     "output_type": "stream",
     "text": [
      "Train Loss: 0.1287, Train Acc: 0.9499\n",
      "Val Loss: 0.1633, Val Acc: 0.9360\n",
      "EarlyStopping counter: 3 out of 5\n",
      "Epoch 50 of 500\n"
     ]
    },
    {
     "name": "stderr",
     "output_type": "stream",
     "text": [
      "100%|██████████| 9/9 [00:01<00:00,  5.42it/s]\n",
      "100%|██████████| 2/2 [00:00<00:00,  7.92it/s]\n",
      "  0%|          | 0/9 [00:00<?, ?it/s]"
     ]
    },
    {
     "name": "stdout",
     "output_type": "stream",
     "text": [
      "Train Loss: 0.1226, Train Acc: 0.9528\n",
      "Val Loss: 0.1605, Val Acc: 0.9358\n",
      "EarlyStopping counter: 4 out of 5\n",
      "Epoch 51 of 500\n"
     ]
    },
    {
     "name": "stderr",
     "output_type": "stream",
     "text": [
      "100%|██████████| 9/9 [00:01<00:00,  5.60it/s]\n",
      "100%|██████████| 2/2 [00:00<00:00, 12.93it/s]\n",
      "  0%|          | 0/9 [00:00<?, ?it/s]"
     ]
    },
    {
     "name": "stdout",
     "output_type": "stream",
     "text": [
      "Train Loss: 0.1214, Train Acc: 0.9534\n",
      "Val Loss: 0.1562, Val Acc: 0.9418\n",
      "Validation loss decreased (0.158987 --> 0.156167).  Saving model ...\n",
      "../WeightsFinal_0.3_model_weights/Weights_replay_500/2018-01/best_model_epoch_51.pt\n",
      "../WeightsFinal_0.3_optimizer_weights/Weights_replay_500/2018-01/best_optimizer_epoch_51.pt\n",
      "Epoch 52 of 500\n"
     ]
    },
    {
     "name": "stderr",
     "output_type": "stream",
     "text": [
      "100%|██████████| 9/9 [00:01<00:00,  5.55it/s]\n",
      "100%|██████████| 2/2 [00:00<00:00, 14.47it/s]\n",
      "  0%|          | 0/9 [00:00<?, ?it/s]"
     ]
    },
    {
     "name": "stdout",
     "output_type": "stream",
     "text": [
      "Train Loss: 0.1216, Train Acc: 0.9530\n",
      "Val Loss: 0.1540, Val Acc: 0.9424\n",
      "Validation loss decreased (0.156167 --> 0.153974).  Saving model ...\n",
      "../WeightsFinal_0.3_model_weights/Weights_replay_500/2018-01/best_model_epoch_52.pt\n",
      "../WeightsFinal_0.3_optimizer_weights/Weights_replay_500/2018-01/best_optimizer_epoch_52.pt\n",
      "Epoch 53 of 500\n"
     ]
    },
    {
     "name": "stderr",
     "output_type": "stream",
     "text": [
      "100%|██████████| 9/9 [00:01<00:00,  6.37it/s]\n",
      "100%|██████████| 2/2 [00:00<00:00, 16.55it/s]\n",
      "  0%|          | 0/9 [00:00<?, ?it/s]"
     ]
    },
    {
     "name": "stdout",
     "output_type": "stream",
     "text": [
      "Train Loss: 0.1228, Train Acc: 0.9528\n",
      "Val Loss: 0.1536, Val Acc: 0.9427\n",
      "Validation loss decreased (0.153974 --> 0.153568).  Saving model ...\n",
      "../WeightsFinal_0.3_model_weights/Weights_replay_500/2018-01/best_model_epoch_53.pt\n",
      "../WeightsFinal_0.3_optimizer_weights/Weights_replay_500/2018-01/best_optimizer_epoch_53.pt\n",
      "Epoch 54 of 500\n"
     ]
    },
    {
     "name": "stderr",
     "output_type": "stream",
     "text": [
      "100%|██████████| 9/9 [00:01<00:00,  5.98it/s]\n",
      "100%|██████████| 2/2 [00:00<00:00,  8.30it/s]\n",
      "  0%|          | 0/9 [00:00<?, ?it/s]"
     ]
    },
    {
     "name": "stdout",
     "output_type": "stream",
     "text": [
      "Train Loss: 0.1196, Train Acc: 0.9549\n",
      "Val Loss: 0.1589, Val Acc: 0.9399\n",
      "EarlyStopping counter: 1 out of 5\n",
      "Epoch 55 of 500\n"
     ]
    },
    {
     "name": "stderr",
     "output_type": "stream",
     "text": [
      "100%|██████████| 9/9 [00:01<00:00,  5.88it/s]\n",
      "100%|██████████| 2/2 [00:00<00:00, 10.08it/s]\n",
      "  0%|          | 0/9 [00:00<?, ?it/s]"
     ]
    },
    {
     "name": "stdout",
     "output_type": "stream",
     "text": [
      "Train Loss: 0.1157, Train Acc: 0.9558\n",
      "Val Loss: 0.1547, Val Acc: 0.9400\n",
      "EarlyStopping counter: 2 out of 5\n",
      "Epoch 56 of 500\n"
     ]
    },
    {
     "name": "stderr",
     "output_type": "stream",
     "text": [
      "100%|██████████| 9/9 [00:01<00:00,  5.68it/s]\n",
      "100%|██████████| 2/2 [00:00<00:00, 14.50it/s]\n",
      "  0%|          | 0/9 [00:00<?, ?it/s]"
     ]
    },
    {
     "name": "stdout",
     "output_type": "stream",
     "text": [
      "Train Loss: 0.1146, Train Acc: 0.9561\n",
      "Val Loss: 0.1553, Val Acc: 0.9380\n",
      "EarlyStopping counter: 3 out of 5\n",
      "Epoch 57 of 500\n"
     ]
    },
    {
     "name": "stderr",
     "output_type": "stream",
     "text": [
      "100%|██████████| 9/9 [00:01<00:00,  4.56it/s]\n",
      "100%|██████████| 2/2 [00:00<00:00,  4.95it/s]\n",
      "  0%|          | 0/9 [00:00<?, ?it/s]"
     ]
    },
    {
     "name": "stdout",
     "output_type": "stream",
     "text": [
      "Train Loss: 0.1125, Train Acc: 0.9568\n",
      "Val Loss: 0.1529, Val Acc: 0.9405\n",
      "Validation loss decreased (0.153568 --> 0.152941).  Saving model ...\n",
      "../WeightsFinal_0.3_model_weights/Weights_replay_500/2018-01/best_model_epoch_57.pt\n",
      "../WeightsFinal_0.3_optimizer_weights/Weights_replay_500/2018-01/best_optimizer_epoch_57.pt\n",
      "Epoch 58 of 500\n"
     ]
    },
    {
     "name": "stderr",
     "output_type": "stream",
     "text": [
      "100%|██████████| 9/9 [00:01<00:00,  5.85it/s]\n",
      "100%|██████████| 2/2 [00:00<00:00, 14.03it/s]\n",
      "  0%|          | 0/9 [00:00<?, ?it/s]"
     ]
    },
    {
     "name": "stdout",
     "output_type": "stream",
     "text": [
      "Train Loss: 0.1104, Train Acc: 0.9579\n",
      "Val Loss: 0.1522, Val Acc: 0.9434\n",
      "Validation loss decreased (0.152941 --> 0.152248).  Saving model ...\n",
      "../WeightsFinal_0.3_model_weights/Weights_replay_500/2018-01/best_model_epoch_58.pt\n",
      "../WeightsFinal_0.3_optimizer_weights/Weights_replay_500/2018-01/best_optimizer_epoch_58.pt\n",
      "Epoch 59 of 500\n"
     ]
    },
    {
     "name": "stderr",
     "output_type": "stream",
     "text": [
      "100%|██████████| 9/9 [00:01<00:00,  5.59it/s]\n",
      "100%|██████████| 2/2 [00:00<00:00, 14.68it/s]\n",
      "  0%|          | 0/9 [00:00<?, ?it/s]"
     ]
    },
    {
     "name": "stdout",
     "output_type": "stream",
     "text": [
      "Train Loss: 0.1109, Train Acc: 0.9581\n",
      "Val Loss: 0.1522, Val Acc: 0.9460\n",
      "Validation loss decreased (0.152248 --> 0.152204).  Saving model ...\n",
      "../WeightsFinal_0.3_model_weights/Weights_replay_500/2018-01/best_model_epoch_59.pt\n",
      "../WeightsFinal_0.3_optimizer_weights/Weights_replay_500/2018-01/best_optimizer_epoch_59.pt\n",
      "Epoch 60 of 500\n"
     ]
    },
    {
     "name": "stderr",
     "output_type": "stream",
     "text": [
      "100%|██████████| 9/9 [00:01<00:00,  5.33it/s]\n",
      "100%|██████████| 2/2 [00:00<00:00, 13.06it/s]\n",
      "  0%|          | 0/9 [00:00<?, ?it/s]"
     ]
    },
    {
     "name": "stdout",
     "output_type": "stream",
     "text": [
      "Train Loss: 0.1104, Train Acc: 0.9568\n",
      "Val Loss: 0.1537, Val Acc: 0.9437\n",
      "EarlyStopping counter: 1 out of 5\n",
      "Epoch 61 of 500\n"
     ]
    },
    {
     "name": "stderr",
     "output_type": "stream",
     "text": [
      "100%|██████████| 9/9 [00:01<00:00,  5.64it/s]\n",
      "100%|██████████| 2/2 [00:00<00:00,  7.81it/s]\n",
      "  0%|          | 0/9 [00:00<?, ?it/s]"
     ]
    },
    {
     "name": "stdout",
     "output_type": "stream",
     "text": [
      "Train Loss: 0.1075, Train Acc: 0.9598\n",
      "Val Loss: 0.1557, Val Acc: 0.9449\n",
      "EarlyStopping counter: 2 out of 5\n",
      "Epoch 62 of 500\n"
     ]
    },
    {
     "name": "stderr",
     "output_type": "stream",
     "text": [
      "100%|██████████| 9/9 [00:01<00:00,  5.34it/s]\n",
      "100%|██████████| 2/2 [00:00<00:00, 10.14it/s]\n",
      "  0%|          | 0/9 [00:00<?, ?it/s]"
     ]
    },
    {
     "name": "stdout",
     "output_type": "stream",
     "text": [
      "Train Loss: 0.1085, Train Acc: 0.9580\n",
      "Val Loss: 0.1505, Val Acc: 0.9440\n",
      "Validation loss decreased (0.152204 --> 0.150472).  Saving model ...\n",
      "../WeightsFinal_0.3_model_weights/Weights_replay_500/2018-01/best_model_epoch_62.pt\n",
      "../WeightsFinal_0.3_optimizer_weights/Weights_replay_500/2018-01/best_optimizer_epoch_62.pt\n",
      "Epoch 63 of 500\n"
     ]
    },
    {
     "name": "stderr",
     "output_type": "stream",
     "text": [
      "100%|██████████| 9/9 [00:01<00:00,  5.86it/s]\n",
      "100%|██████████| 2/2 [00:00<00:00, 12.61it/s]\n",
      "  0%|          | 0/9 [00:00<?, ?it/s]"
     ]
    },
    {
     "name": "stdout",
     "output_type": "stream",
     "text": [
      "Train Loss: 0.1084, Train Acc: 0.9586\n",
      "Val Loss: 0.1505, Val Acc: 0.9473\n",
      "EarlyStopping counter: 1 out of 5\n",
      "Epoch 64 of 500\n"
     ]
    },
    {
     "name": "stderr",
     "output_type": "stream",
     "text": [
      "100%|██████████| 9/9 [00:01<00:00,  5.50it/s]\n",
      "100%|██████████| 2/2 [00:00<00:00, 12.46it/s]\n",
      "  0%|          | 0/9 [00:00<?, ?it/s]"
     ]
    },
    {
     "name": "stdout",
     "output_type": "stream",
     "text": [
      "Train Loss: 0.1025, Train Acc: 0.9614\n",
      "Val Loss: 0.1527, Val Acc: 0.9515\n",
      "EarlyStopping counter: 2 out of 5\n",
      "Epoch 65 of 500\n"
     ]
    },
    {
     "name": "stderr",
     "output_type": "stream",
     "text": [
      "100%|██████████| 9/9 [00:01<00:00,  5.51it/s]\n",
      "100%|██████████| 2/2 [00:00<00:00,  7.08it/s]\n",
      "  0%|          | 0/9 [00:00<?, ?it/s]"
     ]
    },
    {
     "name": "stdout",
     "output_type": "stream",
     "text": [
      "Train Loss: 0.1025, Train Acc: 0.9607\n",
      "Val Loss: 0.1542, Val Acc: 0.9516\n",
      "EarlyStopping counter: 3 out of 5\n",
      "Epoch 66 of 500\n"
     ]
    },
    {
     "name": "stderr",
     "output_type": "stream",
     "text": [
      "100%|██████████| 9/9 [00:01<00:00,  5.43it/s]\n",
      "100%|██████████| 2/2 [00:00<00:00, 13.20it/s]\n",
      "  0%|          | 0/9 [00:00<?, ?it/s]"
     ]
    },
    {
     "name": "stdout",
     "output_type": "stream",
     "text": [
      "Train Loss: 0.1010, Train Acc: 0.9622\n",
      "Val Loss: 0.1524, Val Acc: 0.9465\n",
      "EarlyStopping counter: 4 out of 5\n",
      "Epoch 67 of 500\n"
     ]
    },
    {
     "name": "stderr",
     "output_type": "stream",
     "text": [
      "100%|██████████| 9/9 [00:01<00:00,  5.97it/s]\n",
      "100%|██████████| 2/2 [00:00<00:00, 12.96it/s]\n",
      "  0%|          | 0/2 [00:00<?, ?it/s]"
     ]
    },
    {
     "name": "stdout",
     "output_type": "stream",
     "text": [
      "Train Loss: 0.0997, Train Acc: 0.9623\n",
      "Val Loss: 0.1517, Val Acc: 0.9496\n",
      "EarlyStopping counter: 5 out of 5\n",
      "Early stopping\n",
      "Training time: 2.145 minutes\n",
      "loading best model ../WeightsFinal_0.3_model_weights/Weights_replay_500/2018-01/best_model_epoch_62.pt\n",
      "loading best optimizer ../WeightsFinal_0.3_optimizer_weights/Weights_replay_500/2018-01/best_optimizer_epoch_62.pt\n"
     ]
    },
    {
     "name": "stderr",
     "output_type": "stream",
     "text": [
      "100%|██████████| 2/2 [00:00<00:00,  4.46it/s]\n"
     ]
    },
    {
     "name": "stdout",
     "output_type": "stream",
     "text": [
      "test accuracy 0.9392291605472565 and ROC-AUC 0.9457689121311844\n",
      "Elapsed time 2.2495940764745077 mins.\n",
      "\n",
      "\n",
      "2023-01-30 12:19:18 Round 2 ...\n",
      "Current Task 2018-02 w/ 500 samples to Replay per Malware family.\n",
      "X_train (48723, 2381) Y_train (48723,) Y_tr_family (48723,)\n",
      "X_test (11606, 2381) Y_test (11606,) Y_te_family (11606,)\n",
      "Task 2018-02 and #-of new samples stored 48723\n"
     ]
    },
    {
     "name": "stderr",
     "output_type": "stream",
     "text": [
      "\r",
      "  0%|          | 0/1 [00:00<?, ?it/s]"
     ]
    },
    {
     "name": "stdout",
     "output_type": "stream",
     "text": [
      "loading best model ../WeightsFinal_0.3_model_weights/Weights_replay_500/2018-01/best_model_epoch_62.pt\n"
     ]
    },
    {
     "name": "stderr",
     "output_type": "stream",
     "text": [
      "100%|██████████| 1/1 [00:00<00:00,  3.68it/s]\n",
      "100%|██████████| 1/1 [00:00<00:00,  2.36it/s]\n",
      "100%|██████████| 2/2 [00:00<00:00,  3.97it/s]\n",
      "100%|██████████| 1/1 [00:00<00:00,  2.91it/s]\n",
      "100%|██████████| 1/1 [00:00<00:00,  2.52it/s]\n",
      "100%|██████████| 1/1 [00:00<00:00,  4.20it/s]\n",
      "100%|██████████| 1/1 [00:00<00:00,  3.84it/s]\n",
      "100%|██████████| 1/1 [00:00<00:00,  3.46it/s]\n",
      "100%|██████████| 1/1 [00:00<00:00,  3.48it/s]\n",
      "100%|██████████| 1/1 [00:00<00:00,  3.73it/s]\n",
      "100%|██████████| 1/1 [00:00<00:00,  3.92it/s]\n",
      "100%|██████████| 1/1 [00:00<00:00,  2.77it/s]\n",
      "100%|██████████| 1/1 [00:00<00:00,  3.33it/s]\n",
      "100%|██████████| 1/1 [00:00<00:00,  4.13it/s]\n",
      "100%|██████████| 1/1 [00:00<00:00,  3.55it/s]\n",
      "100%|██████████| 1/1 [00:00<00:00,  3.92it/s]\n",
      "100%|██████████| 1/1 [00:00<00:00,  3.60it/s]\n",
      "100%|██████████| 1/1 [00:00<00:00,  3.47it/s]\n",
      "100%|██████████| 1/1 [00:00<00:00,  3.97it/s]\n",
      "100%|██████████| 1/1 [00:00<00:00,  3.84it/s]\n",
      "100%|██████████| 1/1 [00:00<00:00,  3.74it/s]\n"
     ]
    },
    {
     "name": "stdout",
     "output_type": "stream",
     "text": [
      "2023-01-30 12:19:54 Standardizing ...\n"
     ]
    },
    {
     "name": "stderr",
     "output_type": "stream",
     "text": [
      "\r",
      "  0%|          | 0/10 [00:00<?, ?it/s]"
     ]
    },
    {
     "name": "stdout",
     "output_type": "stream",
     "text": [
      "\n",
      "X_train (60306, 2381) Y_train (60306,)\n",
      "\n",
      "2023-01-30 12:19:57 Training ...\n",
      "Epoch 1 of 500\n"
     ]
    },
    {
     "name": "stderr",
     "output_type": "stream",
     "text": [
      "100%|██████████| 10/10 [00:01<00:00,  5.87it/s]\n",
      "100%|██████████| 2/2 [00:00<00:00,  4.87it/s]\n",
      "  0%|          | 0/10 [00:00<?, ?it/s]"
     ]
    },
    {
     "name": "stdout",
     "output_type": "stream",
     "text": [
      "Train Loss: 0.2387, Train Acc: 0.9101\n",
      "Val Loss: 0.1898, Val Acc: 0.9337\n",
      "Validation loss decreased (inf --> 0.189831).  Saving model ...\n",
      "../WeightsFinal_0.3_model_weights/Weights_replay_500/2018-02/best_model_epoch_1.pt\n",
      "../WeightsFinal_0.3_optimizer_weights/Weights_replay_500/2018-02/best_optimizer_epoch_1.pt\n",
      "Epoch 2 of 500\n"
     ]
    },
    {
     "name": "stderr",
     "output_type": "stream",
     "text": [
      "100%|██████████| 10/10 [00:01<00:00,  5.87it/s]\n",
      "100%|██████████| 2/2 [00:00<00:00,  7.06it/s]\n",
      "  0%|          | 0/10 [00:00<?, ?it/s]"
     ]
    },
    {
     "name": "stdout",
     "output_type": "stream",
     "text": [
      "Train Loss: 0.2168, Train Acc: 0.9177\n",
      "Val Loss: 0.1876, Val Acc: 0.9329\n",
      "Validation loss decreased (0.189831 --> 0.187627).  Saving model ...\n",
      "../WeightsFinal_0.3_model_weights/Weights_replay_500/2018-02/best_model_epoch_2.pt\n",
      "../WeightsFinal_0.3_optimizer_weights/Weights_replay_500/2018-02/best_optimizer_epoch_2.pt\n",
      "Epoch 3 of 500\n"
     ]
    },
    {
     "name": "stderr",
     "output_type": "stream",
     "text": [
      "100%|██████████| 10/10 [00:02<00:00,  4.72it/s]\n",
      "100%|██████████| 2/2 [00:00<00:00,  5.69it/s]\n",
      "  0%|          | 0/10 [00:00<?, ?it/s]"
     ]
    },
    {
     "name": "stdout",
     "output_type": "stream",
     "text": [
      "Train Loss: 0.2043, Train Acc: 0.9201\n",
      "Val Loss: 0.1787, Val Acc: 0.9350\n",
      "Validation loss decreased (0.187627 --> 0.178680).  Saving model ...\n",
      "../WeightsFinal_0.3_model_weights/Weights_replay_500/2018-02/best_model_epoch_3.pt\n",
      "../WeightsFinal_0.3_optimizer_weights/Weights_replay_500/2018-02/best_optimizer_epoch_3.pt\n",
      "Epoch 4 of 500\n"
     ]
    },
    {
     "name": "stderr",
     "output_type": "stream",
     "text": [
      "100%|██████████| 10/10 [00:01<00:00,  6.02it/s]\n",
      "100%|██████████| 2/2 [00:00<00:00,  9.40it/s]\n",
      "  0%|          | 0/10 [00:00<?, ?it/s]"
     ]
    },
    {
     "name": "stdout",
     "output_type": "stream",
     "text": [
      "Train Loss: 0.1906, Train Acc: 0.9239\n",
      "Val Loss: 0.1754, Val Acc: 0.9343\n",
      "Validation loss decreased (0.178680 --> 0.175413).  Saving model ...\n",
      "../WeightsFinal_0.3_model_weights/Weights_replay_500/2018-02/best_model_epoch_4.pt\n",
      "../WeightsFinal_0.3_optimizer_weights/Weights_replay_500/2018-02/best_optimizer_epoch_4.pt\n",
      "Epoch 5 of 500\n"
     ]
    },
    {
     "name": "stderr",
     "output_type": "stream",
     "text": [
      "100%|██████████| 10/10 [00:01<00:00,  5.55it/s]\n",
      "100%|██████████| 2/2 [00:00<00:00,  5.15it/s]\n",
      "  0%|          | 0/10 [00:00<?, ?it/s]"
     ]
    },
    {
     "name": "stdout",
     "output_type": "stream",
     "text": [
      "Train Loss: 0.1868, Train Acc: 0.9271\n",
      "Val Loss: 0.1666, Val Acc: 0.9382\n",
      "Validation loss decreased (0.175413 --> 0.166625).  Saving model ...\n",
      "../WeightsFinal_0.3_model_weights/Weights_replay_500/2018-02/best_model_epoch_5.pt\n",
      "../WeightsFinal_0.3_optimizer_weights/Weights_replay_500/2018-02/best_optimizer_epoch_5.pt\n",
      "Epoch 6 of 500\n"
     ]
    },
    {
     "name": "stderr",
     "output_type": "stream",
     "text": [
      "100%|██████████| 10/10 [00:02<00:00,  4.97it/s]\n",
      "100%|██████████| 2/2 [00:00<00:00,  8.95it/s]\n",
      "  0%|          | 0/10 [00:00<?, ?it/s]"
     ]
    },
    {
     "name": "stdout",
     "output_type": "stream",
     "text": [
      "Train Loss: 0.1826, Train Acc: 0.9276\n",
      "Val Loss: 0.1658, Val Acc: 0.9364\n",
      "Validation loss decreased (0.166625 --> 0.165840).  Saving model ...\n",
      "../WeightsFinal_0.3_model_weights/Weights_replay_500/2018-02/best_model_epoch_6.pt\n",
      "../WeightsFinal_0.3_optimizer_weights/Weights_replay_500/2018-02/best_optimizer_epoch_6.pt\n",
      "Epoch 7 of 500\n"
     ]
    },
    {
     "name": "stderr",
     "output_type": "stream",
     "text": [
      "100%|██████████| 10/10 [00:02<00:00,  4.58it/s]\n",
      "100%|██████████| 2/2 [00:00<00:00,  4.95it/s]\n",
      "  0%|          | 0/10 [00:00<?, ?it/s]"
     ]
    },
    {
     "name": "stdout",
     "output_type": "stream",
     "text": [
      "Train Loss: 0.1809, Train Acc: 0.9288\n",
      "Val Loss: 0.1653, Val Acc: 0.9375\n",
      "Validation loss decreased (0.165840 --> 0.165340).  Saving model ...\n",
      "../WeightsFinal_0.3_model_weights/Weights_replay_500/2018-02/best_model_epoch_7.pt\n",
      "../WeightsFinal_0.3_optimizer_weights/Weights_replay_500/2018-02/best_optimizer_epoch_7.pt\n",
      "Epoch 8 of 500\n"
     ]
    },
    {
     "name": "stderr",
     "output_type": "stream",
     "text": [
      "100%|██████████| 10/10 [00:01<00:00,  5.28it/s]\n",
      "100%|██████████| 2/2 [00:00<00:00,  9.48it/s]\n",
      "  0%|          | 0/10 [00:00<?, ?it/s]"
     ]
    },
    {
     "name": "stdout",
     "output_type": "stream",
     "text": [
      "Train Loss: 0.1750, Train Acc: 0.9293\n",
      "Val Loss: 0.1622, Val Acc: 0.9389\n",
      "Validation loss decreased (0.165340 --> 0.162179).  Saving model ...\n",
      "../WeightsFinal_0.3_model_weights/Weights_replay_500/2018-02/best_model_epoch_8.pt\n",
      "../WeightsFinal_0.3_optimizer_weights/Weights_replay_500/2018-02/best_optimizer_epoch_8.pt\n",
      "Epoch 9 of 500\n"
     ]
    },
    {
     "name": "stderr",
     "output_type": "stream",
     "text": [
      "100%|██████████| 10/10 [00:01<00:00,  5.13it/s]\n",
      "100%|██████████| 2/2 [00:00<00:00,  4.45it/s]\n",
      "  0%|          | 0/10 [00:00<?, ?it/s]"
     ]
    },
    {
     "name": "stdout",
     "output_type": "stream",
     "text": [
      "Train Loss: 0.1727, Train Acc: 0.9318\n",
      "Val Loss: 0.1615, Val Acc: 0.9389\n",
      "Validation loss decreased (0.162179 --> 0.161491).  Saving model ...\n",
      "../WeightsFinal_0.3_model_weights/Weights_replay_500/2018-02/best_model_epoch_9.pt\n",
      "../WeightsFinal_0.3_optimizer_weights/Weights_replay_500/2018-02/best_optimizer_epoch_9.pt\n",
      "Epoch 10 of 500\n"
     ]
    },
    {
     "name": "stderr",
     "output_type": "stream",
     "text": [
      "100%|██████████| 10/10 [00:02<00:00,  4.92it/s]\n",
      "100%|██████████| 2/2 [00:00<00:00,  8.09it/s]\n",
      "  0%|          | 0/10 [00:00<?, ?it/s]"
     ]
    },
    {
     "name": "stdout",
     "output_type": "stream",
     "text": [
      "Train Loss: 0.1697, Train Acc: 0.9333\n",
      "Val Loss: 0.1591, Val Acc: 0.9401\n",
      "Validation loss decreased (0.161491 --> 0.159113).  Saving model ...\n",
      "../WeightsFinal_0.3_model_weights/Weights_replay_500/2018-02/best_model_epoch_10.pt\n",
      "../WeightsFinal_0.3_optimizer_weights/Weights_replay_500/2018-02/best_optimizer_epoch_10.pt\n",
      "Epoch 11 of 500\n"
     ]
    },
    {
     "name": "stderr",
     "output_type": "stream",
     "text": [
      "100%|██████████| 10/10 [00:01<00:00,  5.84it/s]\n",
      "100%|██████████| 2/2 [00:00<00:00,  5.51it/s]\n",
      "  0%|          | 0/10 [00:00<?, ?it/s]"
     ]
    },
    {
     "name": "stdout",
     "output_type": "stream",
     "text": [
      "Train Loss: 0.1650, Train Acc: 0.9347\n",
      "Val Loss: 0.1597, Val Acc: 0.9407\n",
      "EarlyStopping counter: 1 out of 5\n",
      "Epoch 12 of 500\n"
     ]
    },
    {
     "name": "stderr",
     "output_type": "stream",
     "text": [
      "100%|██████████| 10/10 [00:01<00:00,  5.38it/s]\n",
      "100%|██████████| 2/2 [00:00<00:00,  7.37it/s]\n",
      "  0%|          | 0/10 [00:00<?, ?it/s]"
     ]
    },
    {
     "name": "stdout",
     "output_type": "stream",
     "text": [
      "Train Loss: 0.1647, Train Acc: 0.9344\n",
      "Val Loss: 0.1586, Val Acc: 0.9413\n",
      "Validation loss decreased (0.159113 --> 0.158580).  Saving model ...\n",
      "../WeightsFinal_0.3_model_weights/Weights_replay_500/2018-02/best_model_epoch_12.pt\n",
      "../WeightsFinal_0.3_optimizer_weights/Weights_replay_500/2018-02/best_optimizer_epoch_12.pt\n",
      "Epoch 13 of 500\n"
     ]
    },
    {
     "name": "stderr",
     "output_type": "stream",
     "text": [
      "100%|██████████| 10/10 [00:01<00:00,  5.04it/s]\n",
      "100%|██████████| 2/2 [00:00<00:00,  5.86it/s]\n",
      "  0%|          | 0/10 [00:00<?, ?it/s]"
     ]
    },
    {
     "name": "stdout",
     "output_type": "stream",
     "text": [
      "Train Loss: 0.1595, Train Acc: 0.9370\n",
      "Val Loss: 0.1578, Val Acc: 0.9421\n",
      "Validation loss decreased (0.158580 --> 0.157782).  Saving model ...\n",
      "../WeightsFinal_0.3_model_weights/Weights_replay_500/2018-02/best_model_epoch_13.pt\n",
      "../WeightsFinal_0.3_optimizer_weights/Weights_replay_500/2018-02/best_optimizer_epoch_13.pt\n",
      "Epoch 14 of 500\n"
     ]
    },
    {
     "name": "stderr",
     "output_type": "stream",
     "text": [
      "100%|██████████| 10/10 [00:01<00:00,  5.49it/s]\n",
      "100%|██████████| 2/2 [00:00<00:00,  7.30it/s]\n",
      "  0%|          | 0/10 [00:00<?, ?it/s]"
     ]
    },
    {
     "name": "stdout",
     "output_type": "stream",
     "text": [
      "Train Loss: 0.1573, Train Acc: 0.9378\n",
      "Val Loss: 0.1574, Val Acc: 0.9415\n",
      "Validation loss decreased (0.157782 --> 0.157366).  Saving model ...\n",
      "../WeightsFinal_0.3_model_weights/Weights_replay_500/2018-02/best_model_epoch_14.pt\n",
      "../WeightsFinal_0.3_optimizer_weights/Weights_replay_500/2018-02/best_optimizer_epoch_14.pt\n",
      "Epoch 15 of 500\n"
     ]
    },
    {
     "name": "stderr",
     "output_type": "stream",
     "text": [
      "100%|██████████| 10/10 [00:01<00:00,  5.37it/s]\n",
      "100%|██████████| 2/2 [00:00<00:00,  6.30it/s]\n",
      "  0%|          | 0/10 [00:00<?, ?it/s]"
     ]
    },
    {
     "name": "stdout",
     "output_type": "stream",
     "text": [
      "Train Loss: 0.1550, Train Acc: 0.9381\n",
      "Val Loss: 0.1551, Val Acc: 0.9421\n",
      "Validation loss decreased (0.157366 --> 0.155094).  Saving model ...\n",
      "../WeightsFinal_0.3_model_weights/Weights_replay_500/2018-02/best_model_epoch_15.pt\n",
      "../WeightsFinal_0.3_optimizer_weights/Weights_replay_500/2018-02/best_optimizer_epoch_15.pt\n",
      "Epoch 16 of 500\n"
     ]
    },
    {
     "name": "stderr",
     "output_type": "stream",
     "text": [
      "100%|██████████| 10/10 [00:01<00:00,  5.32it/s]\n",
      "100%|██████████| 2/2 [00:00<00:00,  7.31it/s]\n",
      "  0%|          | 0/10 [00:00<?, ?it/s]"
     ]
    },
    {
     "name": "stdout",
     "output_type": "stream",
     "text": [
      "Train Loss: 0.1527, Train Acc: 0.9404\n",
      "Val Loss: 0.1553, Val Acc: 0.9426\n",
      "EarlyStopping counter: 1 out of 5\n",
      "Epoch 17 of 500\n"
     ]
    },
    {
     "name": "stderr",
     "output_type": "stream",
     "text": [
      "100%|██████████| 10/10 [00:01<00:00,  5.12it/s]\n",
      "100%|██████████| 2/2 [00:00<00:00,  6.06it/s]\n",
      "  0%|          | 0/10 [00:00<?, ?it/s]"
     ]
    },
    {
     "name": "stdout",
     "output_type": "stream",
     "text": [
      "Train Loss: 0.1479, Train Acc: 0.9417\n",
      "Val Loss: 0.1574, Val Acc: 0.9413\n",
      "EarlyStopping counter: 2 out of 5\n",
      "Epoch 18 of 500\n"
     ]
    },
    {
     "name": "stderr",
     "output_type": "stream",
     "text": [
      "100%|██████████| 10/10 [00:01<00:00,  5.86it/s]\n",
      "100%|██████████| 2/2 [00:00<00:00,  8.87it/s]\n",
      "  0%|          | 0/10 [00:00<?, ?it/s]"
     ]
    },
    {
     "name": "stdout",
     "output_type": "stream",
     "text": [
      "Train Loss: 0.1485, Train Acc: 0.9414\n",
      "Val Loss: 0.1526, Val Acc: 0.9436\n",
      "Validation loss decreased (0.155094 --> 0.152618).  Saving model ...\n",
      "../WeightsFinal_0.3_model_weights/Weights_replay_500/2018-02/best_model_epoch_18.pt\n",
      "../WeightsFinal_0.3_optimizer_weights/Weights_replay_500/2018-02/best_optimizer_epoch_18.pt\n",
      "Epoch 19 of 500\n"
     ]
    },
    {
     "name": "stderr",
     "output_type": "stream",
     "text": [
      "100%|██████████| 10/10 [00:01<00:00,  5.31it/s]\n",
      "100%|██████████| 2/2 [00:00<00:00,  7.71it/s]\n",
      "  0%|          | 0/10 [00:00<?, ?it/s]"
     ]
    },
    {
     "name": "stdout",
     "output_type": "stream",
     "text": [
      "Train Loss: 0.1483, Train Acc: 0.9421\n",
      "Val Loss: 0.1560, Val Acc: 0.9422\n",
      "EarlyStopping counter: 1 out of 5\n",
      "Epoch 20 of 500\n"
     ]
    },
    {
     "name": "stderr",
     "output_type": "stream",
     "text": [
      "100%|██████████| 10/10 [00:01<00:00,  5.27it/s]\n",
      "100%|██████████| 2/2 [00:00<00:00,  5.70it/s]\n",
      "  0%|          | 0/10 [00:00<?, ?it/s]"
     ]
    },
    {
     "name": "stdout",
     "output_type": "stream",
     "text": [
      "Train Loss: 0.1446, Train Acc: 0.9429\n",
      "Val Loss: 0.1539, Val Acc: 0.9434\n",
      "EarlyStopping counter: 2 out of 5\n",
      "Epoch 21 of 500\n"
     ]
    },
    {
     "name": "stderr",
     "output_type": "stream",
     "text": [
      "100%|██████████| 10/10 [00:01<00:00,  5.37it/s]\n",
      "100%|██████████| 2/2 [00:00<00:00,  8.10it/s]\n",
      "  0%|          | 0/10 [00:00<?, ?it/s]"
     ]
    },
    {
     "name": "stdout",
     "output_type": "stream",
     "text": [
      "Train Loss: 0.1448, Train Acc: 0.9433\n",
      "Val Loss: 0.1552, Val Acc: 0.9436\n",
      "EarlyStopping counter: 3 out of 5\n",
      "Epoch 22 of 500\n"
     ]
    },
    {
     "name": "stderr",
     "output_type": "stream",
     "text": [
      "100%|██████████| 10/10 [00:02<00:00,  4.81it/s]\n",
      "100%|██████████| 2/2 [00:00<00:00,  6.10it/s]\n",
      "  0%|          | 0/10 [00:00<?, ?it/s]"
     ]
    },
    {
     "name": "stdout",
     "output_type": "stream",
     "text": [
      "Train Loss: 0.1398, Train Acc: 0.9457\n",
      "Val Loss: 0.1528, Val Acc: 0.9441\n",
      "EarlyStopping counter: 4 out of 5\n",
      "Epoch 23 of 500\n"
     ]
    },
    {
     "name": "stderr",
     "output_type": "stream",
     "text": [
      "100%|██████████| 10/10 [00:01<00:00,  5.64it/s]\n",
      "100%|██████████| 2/2 [00:00<00:00,  5.91it/s]\n",
      "  0%|          | 0/10 [00:00<?, ?it/s]"
     ]
    },
    {
     "name": "stdout",
     "output_type": "stream",
     "text": [
      "Train Loss: 0.1398, Train Acc: 0.9456\n",
      "Val Loss: 0.1526, Val Acc: 0.9451\n",
      "Validation loss decreased (0.152618 --> 0.152614).  Saving model ...\n",
      "../WeightsFinal_0.3_model_weights/Weights_replay_500/2018-02/best_model_epoch_23.pt\n",
      "../WeightsFinal_0.3_optimizer_weights/Weights_replay_500/2018-02/best_optimizer_epoch_23.pt\n",
      "Epoch 24 of 500\n"
     ]
    },
    {
     "name": "stderr",
     "output_type": "stream",
     "text": [
      "100%|██████████| 10/10 [00:01<00:00,  5.53it/s]\n",
      "100%|██████████| 2/2 [00:00<00:00,  6.28it/s]\n",
      "  0%|          | 0/10 [00:00<?, ?it/s]"
     ]
    },
    {
     "name": "stdout",
     "output_type": "stream",
     "text": [
      "Train Loss: 0.1383, Train Acc: 0.9447\n",
      "Val Loss: 0.1524, Val Acc: 0.9449\n",
      "Validation loss decreased (0.152614 --> 0.152370).  Saving model ...\n",
      "../WeightsFinal_0.3_model_weights/Weights_replay_500/2018-02/best_model_epoch_24.pt\n",
      "../WeightsFinal_0.3_optimizer_weights/Weights_replay_500/2018-02/best_optimizer_epoch_24.pt\n",
      "Epoch 25 of 500\n"
     ]
    },
    {
     "name": "stderr",
     "output_type": "stream",
     "text": [
      "100%|██████████| 10/10 [00:01<00:00,  6.16it/s]\n",
      "100%|██████████| 2/2 [00:00<00:00,  7.14it/s]\n",
      "  0%|          | 0/10 [00:00<?, ?it/s]"
     ]
    },
    {
     "name": "stdout",
     "output_type": "stream",
     "text": [
      "Train Loss: 0.1367, Train Acc: 0.9461\n",
      "Val Loss: 0.1530, Val Acc: 0.9443\n",
      "EarlyStopping counter: 1 out of 5\n",
      "Epoch 26 of 500\n"
     ]
    },
    {
     "name": "stderr",
     "output_type": "stream",
     "text": [
      "100%|██████████| 10/10 [00:01<00:00,  5.65it/s]\n",
      "100%|██████████| 2/2 [00:00<00:00,  6.19it/s]\n",
      "  0%|          | 0/10 [00:00<?, ?it/s]"
     ]
    },
    {
     "name": "stdout",
     "output_type": "stream",
     "text": [
      "Train Loss: 0.1385, Train Acc: 0.9469\n",
      "Val Loss: 0.1482, Val Acc: 0.9465\n",
      "Validation loss decreased (0.152370 --> 0.148157).  Saving model ...\n",
      "../WeightsFinal_0.3_model_weights/Weights_replay_500/2018-02/best_model_epoch_26.pt\n",
      "../WeightsFinal_0.3_optimizer_weights/Weights_replay_500/2018-02/best_optimizer_epoch_26.pt\n",
      "Epoch 27 of 500\n"
     ]
    },
    {
     "name": "stderr",
     "output_type": "stream",
     "text": [
      "100%|██████████| 10/10 [00:01<00:00,  5.72it/s]\n",
      "100%|██████████| 2/2 [00:00<00:00,  6.53it/s]\n",
      "  0%|          | 0/10 [00:00<?, ?it/s]"
     ]
    },
    {
     "name": "stdout",
     "output_type": "stream",
     "text": [
      "Train Loss: 0.1319, Train Acc: 0.9482\n",
      "Val Loss: 0.1528, Val Acc: 0.9450\n",
      "EarlyStopping counter: 1 out of 5\n",
      "Epoch 28 of 500\n"
     ]
    },
    {
     "name": "stderr",
     "output_type": "stream",
     "text": [
      "100%|██████████| 10/10 [00:01<00:00,  5.64it/s]\n",
      "100%|██████████| 2/2 [00:00<00:00,  5.27it/s]\n",
      "  0%|          | 0/10 [00:00<?, ?it/s]"
     ]
    },
    {
     "name": "stdout",
     "output_type": "stream",
     "text": [
      "Train Loss: 0.1340, Train Acc: 0.9481\n",
      "Val Loss: 0.1561, Val Acc: 0.9436\n",
      "EarlyStopping counter: 2 out of 5\n",
      "Epoch 29 of 500\n"
     ]
    },
    {
     "name": "stderr",
     "output_type": "stream",
     "text": [
      "100%|██████████| 10/10 [00:02<00:00,  4.57it/s]\n",
      "100%|██████████| 2/2 [00:00<00:00,  7.86it/s]\n",
      "  0%|          | 0/10 [00:00<?, ?it/s]"
     ]
    },
    {
     "name": "stdout",
     "output_type": "stream",
     "text": [
      "Train Loss: 0.1307, Train Acc: 0.9481\n",
      "Val Loss: 0.1505, Val Acc: 0.9459\n",
      "EarlyStopping counter: 3 out of 5\n",
      "Epoch 30 of 500\n"
     ]
    },
    {
     "name": "stderr",
     "output_type": "stream",
     "text": [
      "100%|██████████| 10/10 [00:01<00:00,  5.55it/s]\n",
      "100%|██████████| 2/2 [00:00<00:00,  5.16it/s]\n",
      "  0%|          | 0/10 [00:00<?, ?it/s]"
     ]
    },
    {
     "name": "stdout",
     "output_type": "stream",
     "text": [
      "Train Loss: 0.1296, Train Acc: 0.9504\n",
      "Val Loss: 0.1504, Val Acc: 0.9458\n",
      "EarlyStopping counter: 4 out of 5\n",
      "Epoch 31 of 500\n"
     ]
    },
    {
     "name": "stderr",
     "output_type": "stream",
     "text": [
      "100%|██████████| 10/10 [00:01<00:00,  5.11it/s]\n",
      "100%|██████████| 2/2 [00:00<00:00,  7.86it/s]\n",
      "  0%|          | 0/2 [00:00<?, ?it/s]"
     ]
    },
    {
     "name": "stdout",
     "output_type": "stream",
     "text": [
      "Train Loss: 0.1260, Train Acc: 0.9519\n",
      "Val Loss: 0.1523, Val Acc: 0.9447\n",
      "EarlyStopping counter: 5 out of 5\n",
      "Early stopping\n",
      "Training time: 1.168 minutes\n",
      "loading best model ../WeightsFinal_0.3_model_weights/Weights_replay_500/2018-02/best_model_epoch_26.pt\n",
      "loading best optimizer ../WeightsFinal_0.3_optimizer_weights/Weights_replay_500/2018-02/best_optimizer_epoch_26.pt\n"
     ]
    },
    {
     "name": "stderr",
     "output_type": "stream",
     "text": [
      "100%|██████████| 2/2 [00:00<00:00,  2.89it/s]\n"
     ]
    },
    {
     "name": "stdout",
     "output_type": "stream",
     "text": [
      "test accuracy 0.9466739892959595 and ROC-AUC 0.9470501485964414\n",
      "Elapsed time 4.084314946333567 mins.\n",
      "\n",
      "\n",
      "2023-01-30 12:21:08 Round 2 ...\n",
      "Current Task 2018-03 w/ 500 samples to Replay per Malware family.\n",
      "X_train (37372, 2381) Y_train (37372,) Y_tr_family (37372,)\n",
      "X_test (15759, 2381) Y_test (15759,) Y_te_family (15759,)\n",
      "Task 2018-03 and #-of new samples stored 37372\n",
      "loading best model ../WeightsFinal_0.3_model_weights/Weights_replay_500/2018-02/best_model_epoch_26.pt\n"
     ]
    },
    {
     "name": "stderr",
     "output_type": "stream",
     "text": [
      "100%|██████████| 1/1 [00:00<00:00,  2.52it/s]\n",
      "100%|██████████| 2/2 [00:00<00:00,  4.07it/s]\n",
      "100%|██████████| 1/1 [00:00<00:00,  3.31it/s]\n",
      "100%|██████████| 1/1 [00:00<00:00,  2.90it/s]\n",
      "100%|██████████| 1/1 [00:00<00:00,  3.46it/s]\n",
      "100%|██████████| 1/1 [00:00<00:00,  3.07it/s]\n",
      "100%|██████████| 1/1 [00:00<00:00,  3.57it/s]\n",
      "100%|██████████| 1/1 [00:00<00:00,  3.65it/s]\n",
      "100%|██████████| 1/1 [00:00<00:00,  3.40it/s]\n",
      "100%|██████████| 1/1 [00:00<00:00,  3.22it/s]\n",
      "100%|██████████| 1/1 [00:00<00:00,  3.58it/s]\n"
     ]
    },
    {
     "name": "stdout",
     "output_type": "stream",
     "text": [
      "2023-01-30 12:21:36 Standardizing ...\n"
     ]
    },
    {
     "name": "stderr",
     "output_type": "stream",
     "text": [
      "\r",
      "  0%|          | 0/11 [00:00<?, ?it/s]"
     ]
    },
    {
     "name": "stdout",
     "output_type": "stream",
     "text": [
      "\n",
      "X_train (69204, 2381) Y_train (69204,)\n",
      "\n",
      "2023-01-30 12:21:41 Training ...\n",
      "Epoch 1 of 500\n"
     ]
    },
    {
     "name": "stderr",
     "output_type": "stream",
     "text": [
      "100%|██████████| 11/11 [00:01<00:00,  6.37it/s]\n",
      "100%|██████████| 3/3 [00:00<00:00,  5.92it/s]\n",
      "  0%|          | 0/11 [00:00<?, ?it/s]"
     ]
    },
    {
     "name": "stdout",
     "output_type": "stream",
     "text": [
      "Train Loss: 0.1999, Train Acc: 0.9238\n",
      "Val Loss: 0.1874, Val Acc: 0.9340\n",
      "Validation loss decreased (inf --> 0.187437).  Saving model ...\n",
      "../WeightsFinal_0.3_model_weights/Weights_replay_500/2018-03/best_model_epoch_1.pt\n",
      "../WeightsFinal_0.3_optimizer_weights/Weights_replay_500/2018-03/best_optimizer_epoch_1.pt\n",
      "Epoch 2 of 500\n"
     ]
    },
    {
     "name": "stderr",
     "output_type": "stream",
     "text": [
      "100%|██████████| 11/11 [00:02<00:00,  4.69it/s]\n",
      "100%|██████████| 3/3 [00:00<00:00,  9.52it/s]\n",
      "  0%|          | 0/11 [00:00<?, ?it/s]"
     ]
    },
    {
     "name": "stdout",
     "output_type": "stream",
     "text": [
      "Train Loss: 0.1916, Train Acc: 0.9266\n",
      "Val Loss: 0.1829, Val Acc: 0.9340\n",
      "Validation loss decreased (0.187437 --> 0.182928).  Saving model ...\n",
      "../WeightsFinal_0.3_model_weights/Weights_replay_500/2018-03/best_model_epoch_2.pt\n",
      "../WeightsFinal_0.3_optimizer_weights/Weights_replay_500/2018-03/best_optimizer_epoch_2.pt\n",
      "Epoch 3 of 500\n"
     ]
    },
    {
     "name": "stderr",
     "output_type": "stream",
     "text": [
      "100%|██████████| 11/11 [00:02<00:00,  4.98it/s]\n",
      "100%|██████████| 3/3 [00:00<00:00,  7.37it/s]\n",
      "  0%|          | 0/11 [00:00<?, ?it/s]"
     ]
    },
    {
     "name": "stdout",
     "output_type": "stream",
     "text": [
      "Train Loss: 0.1807, Train Acc: 0.9300\n",
      "Val Loss: 0.1747, Val Acc: 0.9365\n",
      "Validation loss decreased (0.182928 --> 0.174689).  Saving model ...\n",
      "../WeightsFinal_0.3_model_weights/Weights_replay_500/2018-03/best_model_epoch_3.pt\n",
      "../WeightsFinal_0.3_optimizer_weights/Weights_replay_500/2018-03/best_optimizer_epoch_3.pt\n",
      "Epoch 4 of 500\n"
     ]
    },
    {
     "name": "stderr",
     "output_type": "stream",
     "text": [
      "100%|██████████| 11/11 [00:01<00:00,  5.72it/s]\n",
      "100%|██████████| 3/3 [00:00<00:00,  6.23it/s]\n",
      "  0%|          | 0/11 [00:00<?, ?it/s]"
     ]
    },
    {
     "name": "stdout",
     "output_type": "stream",
     "text": [
      "Train Loss: 0.1789, Train Acc: 0.9307\n",
      "Val Loss: 0.1729, Val Acc: 0.9363\n",
      "Validation loss decreased (0.174689 --> 0.172912).  Saving model ...\n",
      "../WeightsFinal_0.3_model_weights/Weights_replay_500/2018-03/best_model_epoch_4.pt\n",
      "../WeightsFinal_0.3_optimizer_weights/Weights_replay_500/2018-03/best_optimizer_epoch_4.pt\n",
      "Epoch 5 of 500\n"
     ]
    },
    {
     "name": "stderr",
     "output_type": "stream",
     "text": [
      "100%|██████████| 11/11 [00:02<00:00,  5.38it/s]\n",
      "100%|██████████| 3/3 [00:00<00:00,  9.99it/s]\n",
      "  0%|          | 0/11 [00:00<?, ?it/s]"
     ]
    },
    {
     "name": "stdout",
     "output_type": "stream",
     "text": [
      "Train Loss: 0.1756, Train Acc: 0.9333\n",
      "Val Loss: 0.1688, Val Acc: 0.9371\n",
      "Validation loss decreased (0.172912 --> 0.168829).  Saving model ...\n",
      "../WeightsFinal_0.3_model_weights/Weights_replay_500/2018-03/best_model_epoch_5.pt\n",
      "../WeightsFinal_0.3_optimizer_weights/Weights_replay_500/2018-03/best_optimizer_epoch_5.pt\n",
      "Epoch 6 of 500\n"
     ]
    },
    {
     "name": "stderr",
     "output_type": "stream",
     "text": [
      "100%|██████████| 11/11 [00:02<00:00,  5.48it/s]\n",
      "100%|██████████| 3/3 [00:00<00:00,  5.67it/s]\n",
      "  0%|          | 0/11 [00:00<?, ?it/s]"
     ]
    },
    {
     "name": "stdout",
     "output_type": "stream",
     "text": [
      "Train Loss: 0.1720, Train Acc: 0.9344\n",
      "Val Loss: 0.1656, Val Acc: 0.9390\n",
      "Validation loss decreased (0.168829 --> 0.165641).  Saving model ...\n",
      "../WeightsFinal_0.3_model_weights/Weights_replay_500/2018-03/best_model_epoch_6.pt\n",
      "../WeightsFinal_0.3_optimizer_weights/Weights_replay_500/2018-03/best_optimizer_epoch_6.pt\n",
      "Epoch 7 of 500\n"
     ]
    },
    {
     "name": "stderr",
     "output_type": "stream",
     "text": [
      "100%|██████████| 11/11 [00:01<00:00,  5.75it/s]\n",
      "100%|██████████| 3/3 [00:00<00:00,  6.87it/s]\n",
      "  0%|          | 0/11 [00:00<?, ?it/s]"
     ]
    },
    {
     "name": "stdout",
     "output_type": "stream",
     "text": [
      "Train Loss: 0.1662, Train Acc: 0.9354\n",
      "Val Loss: 0.1622, Val Acc: 0.9395\n",
      "Validation loss decreased (0.165641 --> 0.162236).  Saving model ...\n",
      "../WeightsFinal_0.3_model_weights/Weights_replay_500/2018-03/best_model_epoch_7.pt\n",
      "../WeightsFinal_0.3_optimizer_weights/Weights_replay_500/2018-03/best_optimizer_epoch_7.pt\n",
      "Epoch 8 of 500\n"
     ]
    },
    {
     "name": "stderr",
     "output_type": "stream",
     "text": [
      "100%|██████████| 11/11 [00:02<00:00,  5.09it/s]\n",
      "100%|██████████| 3/3 [00:00<00:00,  9.00it/s]\n",
      "  0%|          | 0/11 [00:00<?, ?it/s]"
     ]
    },
    {
     "name": "stdout",
     "output_type": "stream",
     "text": [
      "Train Loss: 0.1639, Train Acc: 0.9366\n",
      "Val Loss: 0.1636, Val Acc: 0.9400\n",
      "EarlyStopping counter: 1 out of 5\n",
      "Epoch 9 of 500\n"
     ]
    },
    {
     "name": "stderr",
     "output_type": "stream",
     "text": [
      "100%|██████████| 11/11 [00:02<00:00,  5.16it/s]\n",
      "100%|██████████| 3/3 [00:00<00:00,  7.05it/s]\n",
      "  0%|          | 0/11 [00:00<?, ?it/s]"
     ]
    },
    {
     "name": "stdout",
     "output_type": "stream",
     "text": [
      "Train Loss: 0.1667, Train Acc: 0.9357\n",
      "Val Loss: 0.1637, Val Acc: 0.9398\n",
      "EarlyStopping counter: 2 out of 5\n",
      "Epoch 10 of 500\n"
     ]
    },
    {
     "name": "stderr",
     "output_type": "stream",
     "text": [
      "100%|██████████| 11/11 [00:01<00:00,  5.54it/s]\n",
      "100%|██████████| 3/3 [00:00<00:00,  5.70it/s]\n",
      "  0%|          | 0/11 [00:00<?, ?it/s]"
     ]
    },
    {
     "name": "stdout",
     "output_type": "stream",
     "text": [
      "Train Loss: 0.1568, Train Acc: 0.9390\n",
      "Val Loss: 0.1646, Val Acc: 0.9393\n",
      "EarlyStopping counter: 3 out of 5\n",
      "Epoch 11 of 500\n"
     ]
    },
    {
     "name": "stderr",
     "output_type": "stream",
     "text": [
      "100%|██████████| 11/11 [00:02<00:00,  5.35it/s]\n",
      "100%|██████████| 3/3 [00:00<00:00, 10.02it/s]\n",
      "  0%|          | 0/11 [00:00<?, ?it/s]"
     ]
    },
    {
     "name": "stdout",
     "output_type": "stream",
     "text": [
      "Train Loss: 0.1559, Train Acc: 0.9400\n",
      "Val Loss: 0.1676, Val Acc: 0.9391\n",
      "EarlyStopping counter: 4 out of 5\n",
      "Epoch 12 of 500\n"
     ]
    },
    {
     "name": "stderr",
     "output_type": "stream",
     "text": [
      "100%|██████████| 11/11 [00:02<00:00,  5.21it/s]\n",
      "100%|██████████| 3/3 [00:00<00:00,  6.08it/s]\n",
      "  0%|          | 0/11 [00:00<?, ?it/s]"
     ]
    },
    {
     "name": "stdout",
     "output_type": "stream",
     "text": [
      "Train Loss: 0.1538, Train Acc: 0.9411\n",
      "Val Loss: 0.1617, Val Acc: 0.9409\n",
      "Validation loss decreased (0.162236 --> 0.161746).  Saving model ...\n",
      "../WeightsFinal_0.3_model_weights/Weights_replay_500/2018-03/best_model_epoch_12.pt\n",
      "../WeightsFinal_0.3_optimizer_weights/Weights_replay_500/2018-03/best_optimizer_epoch_12.pt\n",
      "Epoch 13 of 500\n"
     ]
    },
    {
     "name": "stderr",
     "output_type": "stream",
     "text": [
      "100%|██████████| 11/11 [00:02<00:00,  5.11it/s]\n",
      "100%|██████████| 3/3 [00:00<00:00,  7.22it/s]\n",
      "  0%|          | 0/11 [00:00<?, ?it/s]"
     ]
    },
    {
     "name": "stdout",
     "output_type": "stream",
     "text": [
      "Train Loss: 0.1504, Train Acc: 0.9414\n",
      "Val Loss: 0.1603, Val Acc: 0.9408\n",
      "Validation loss decreased (0.161746 --> 0.160340).  Saving model ...\n",
      "../WeightsFinal_0.3_model_weights/Weights_replay_500/2018-03/best_model_epoch_13.pt\n",
      "../WeightsFinal_0.3_optimizer_weights/Weights_replay_500/2018-03/best_optimizer_epoch_13.pt\n",
      "Epoch 14 of 500\n"
     ]
    },
    {
     "name": "stderr",
     "output_type": "stream",
     "text": [
      "100%|██████████| 11/11 [00:01<00:00,  5.64it/s]\n",
      "100%|██████████| 3/3 [00:00<00:00,  8.57it/s]\n",
      "  0%|          | 0/11 [00:00<?, ?it/s]"
     ]
    },
    {
     "name": "stdout",
     "output_type": "stream",
     "text": [
      "Train Loss: 0.1497, Train Acc: 0.9424\n",
      "Val Loss: 0.1596, Val Acc: 0.9419\n",
      "Validation loss decreased (0.160340 --> 0.159578).  Saving model ...\n",
      "../WeightsFinal_0.3_model_weights/Weights_replay_500/2018-03/best_model_epoch_14.pt\n",
      "../WeightsFinal_0.3_optimizer_weights/Weights_replay_500/2018-03/best_optimizer_epoch_14.pt\n",
      "Epoch 15 of 500\n"
     ]
    },
    {
     "name": "stderr",
     "output_type": "stream",
     "text": [
      "100%|██████████| 11/11 [00:01<00:00,  5.92it/s]\n",
      "100%|██████████| 3/3 [00:00<00:00,  6.06it/s]\n",
      "  0%|          | 0/11 [00:00<?, ?it/s]"
     ]
    },
    {
     "name": "stdout",
     "output_type": "stream",
     "text": [
      "Train Loss: 0.1491, Train Acc: 0.9428\n",
      "Val Loss: 0.1622, Val Acc: 0.9404\n",
      "EarlyStopping counter: 1 out of 5\n",
      "Epoch 16 of 500\n"
     ]
    },
    {
     "name": "stderr",
     "output_type": "stream",
     "text": [
      "100%|██████████| 11/11 [00:01<00:00,  6.03it/s]\n",
      "100%|██████████| 3/3 [00:00<00:00,  5.71it/s]\n",
      "  0%|          | 0/11 [00:00<?, ?it/s]"
     ]
    },
    {
     "name": "stdout",
     "output_type": "stream",
     "text": [
      "Train Loss: 0.1427, Train Acc: 0.9453\n",
      "Val Loss: 0.1613, Val Acc: 0.9416\n",
      "EarlyStopping counter: 2 out of 5\n",
      "Epoch 17 of 500\n"
     ]
    },
    {
     "name": "stderr",
     "output_type": "stream",
     "text": [
      "100%|██████████| 11/11 [00:02<00:00,  4.78it/s]\n",
      "100%|██████████| 3/3 [00:00<00:00,  9.16it/s]\n",
      "  0%|          | 0/11 [00:00<?, ?it/s]"
     ]
    },
    {
     "name": "stdout",
     "output_type": "stream",
     "text": [
      "Train Loss: 0.1466, Train Acc: 0.9450\n",
      "Val Loss: 0.1605, Val Acc: 0.9415\n",
      "EarlyStopping counter: 3 out of 5\n",
      "Epoch 18 of 500\n"
     ]
    },
    {
     "name": "stderr",
     "output_type": "stream",
     "text": [
      "100%|██████████| 11/11 [00:02<00:00,  5.09it/s]\n",
      "100%|██████████| 3/3 [00:00<00:00,  6.28it/s]\n",
      "  0%|          | 0/11 [00:00<?, ?it/s]"
     ]
    },
    {
     "name": "stdout",
     "output_type": "stream",
     "text": [
      "Train Loss: 0.1458, Train Acc: 0.9451\n",
      "Val Loss: 0.1620, Val Acc: 0.9422\n",
      "EarlyStopping counter: 4 out of 5\n",
      "Epoch 19 of 500\n"
     ]
    },
    {
     "name": "stderr",
     "output_type": "stream",
     "text": [
      "100%|██████████| 11/11 [00:02<00:00,  5.42it/s]\n",
      "100%|██████████| 3/3 [00:00<00:00,  5.92it/s]\n",
      "  0%|          | 0/3 [00:00<?, ?it/s]"
     ]
    },
    {
     "name": "stdout",
     "output_type": "stream",
     "text": [
      "Train Loss: 0.1401, Train Acc: 0.9471\n",
      "Val Loss: 0.1619, Val Acc: 0.9426\n",
      "EarlyStopping counter: 5 out of 5\n",
      "Early stopping\n",
      "Training time: 0.809 minutes\n",
      "loading best model ../WeightsFinal_0.3_model_weights/Weights_replay_500/2018-03/best_model_epoch_14.pt\n",
      "loading best optimizer ../WeightsFinal_0.3_optimizer_weights/Weights_replay_500/2018-03/best_optimizer_epoch_14.pt\n"
     ]
    },
    {
     "name": "stderr",
     "output_type": "stream",
     "text": [
      "100%|██████████| 3/3 [00:00<00:00,  4.36it/s]\n"
     ]
    },
    {
     "name": "stdout",
     "output_type": "stream",
     "text": [
      "test accuracy 0.9406675299008688 and ROC-AUC 0.9400139884972084\n",
      "Elapsed time 5.4517614086469015 mins.\n",
      "\n",
      "\n",
      "2023-01-30 12:22:30 Round 2 ...\n",
      "Current Task 2018-04 w/ 500 samples to Replay per Malware family.\n",
      "X_train (46873, 2381) Y_train (46873,) Y_tr_family (46873,)\n",
      "X_test (20968, 2381) Y_test (20968,) Y_te_family (20968,)\n",
      "Task 2018-04 and #-of new samples stored 46873\n"
     ]
    },
    {
     "name": "stderr",
     "output_type": "stream",
     "text": [
      "\r",
      "  0%|          | 0/1 [00:00<?, ?it/s]"
     ]
    },
    {
     "name": "stdout",
     "output_type": "stream",
     "text": [
      "loading best model ../WeightsFinal_0.3_model_weights/Weights_replay_500/2018-03/best_model_epoch_14.pt\n"
     ]
    },
    {
     "name": "stderr",
     "output_type": "stream",
     "text": [
      "100%|██████████| 1/1 [00:00<00:00,  3.40it/s]\n",
      "100%|██████████| 1/1 [00:00<00:00,  2.36it/s]\n",
      "100%|██████████| 1/1 [00:00<00:00,  2.53it/s]\n",
      "100%|██████████| 1/1 [00:00<00:00,  2.61it/s]\n",
      "100%|██████████| 1/1 [00:00<00:00,  2.54it/s]\n",
      "100%|██████████| 1/1 [00:00<00:00,  2.95it/s]\n",
      "100%|██████████| 1/1 [00:00<00:00,  2.93it/s]\n",
      "100%|██████████| 1/1 [00:00<00:00,  2.96it/s]\n",
      "100%|██████████| 1/1 [00:00<00:00,  2.80it/s]\n",
      "100%|██████████| 1/1 [00:00<00:00,  2.64it/s]\n",
      "100%|██████████| 1/1 [00:00<00:00,  3.31it/s]\n",
      "100%|██████████| 1/1 [00:00<00:00,  3.15it/s]\n",
      "100%|██████████| 1/1 [00:00<00:00,  3.11it/s]\n",
      "100%|██████████| 2/2 [00:00<00:00,  3.36it/s]\n",
      "100%|██████████| 1/1 [00:00<00:00,  3.10it/s]\n",
      "100%|██████████| 1/1 [00:00<00:00,  3.35it/s]\n",
      "100%|██████████| 1/1 [00:00<00:00,  3.21it/s]\n",
      "100%|██████████| 1/1 [00:00<00:00,  2.79it/s]\n"
     ]
    },
    {
     "name": "stdout",
     "output_type": "stream",
     "text": [
      "2023-01-30 12:23:14 Standardizing ...\n"
     ]
    },
    {
     "name": "stderr",
     "output_type": "stream",
     "text": [
      "\r",
      "  0%|          | 0/13 [00:00<?, ?it/s]"
     ]
    },
    {
     "name": "stdout",
     "output_type": "stream",
     "text": [
      "\n",
      "X_train (78830, 2381) Y_train (78830,)\n",
      "\n",
      "2023-01-30 12:23:20 Training ...\n",
      "Epoch 1 of 500\n"
     ]
    },
    {
     "name": "stderr",
     "output_type": "stream",
     "text": [
      "100%|██████████| 13/13 [00:02<00:00,  6.29it/s]\n",
      "100%|██████████| 4/4 [00:00<00:00,  6.52it/s]\n",
      "  0%|          | 0/13 [00:00<?, ?it/s]"
     ]
    },
    {
     "name": "stdout",
     "output_type": "stream",
     "text": [
      "Train Loss: 0.1811, Train Acc: 0.9319\n",
      "Val Loss: 0.1726, Val Acc: 0.9396\n",
      "Validation loss decreased (inf --> 0.172615).  Saving model ...\n",
      "../WeightsFinal_0.3_model_weights/Weights_replay_500/2018-04/best_model_epoch_1.pt\n",
      "../WeightsFinal_0.3_optimizer_weights/Weights_replay_500/2018-04/best_optimizer_epoch_1.pt\n",
      "Epoch 2 of 500\n"
     ]
    },
    {
     "name": "stderr",
     "output_type": "stream",
     "text": [
      "100%|██████████| 13/13 [00:02<00:00,  6.12it/s]\n",
      "100%|██████████| 4/4 [00:00<00:00,  6.87it/s]\n",
      "  0%|          | 0/13 [00:00<?, ?it/s]"
     ]
    },
    {
     "name": "stdout",
     "output_type": "stream",
     "text": [
      "Train Loss: 0.1681, Train Acc: 0.9351\n",
      "Val Loss: 0.1629, Val Acc: 0.9419\n",
      "Validation loss decreased (0.172615 --> 0.162894).  Saving model ...\n",
      "../WeightsFinal_0.3_model_weights/Weights_replay_500/2018-04/best_model_epoch_2.pt\n",
      "../WeightsFinal_0.3_optimizer_weights/Weights_replay_500/2018-04/best_optimizer_epoch_2.pt\n",
      "Epoch 3 of 500\n"
     ]
    },
    {
     "name": "stderr",
     "output_type": "stream",
     "text": [
      "100%|██████████| 13/13 [00:02<00:00,  4.92it/s]\n",
      "100%|██████████| 4/4 [00:00<00:00,  6.39it/s]\n",
      "  0%|          | 0/13 [00:00<?, ?it/s]"
     ]
    },
    {
     "name": "stdout",
     "output_type": "stream",
     "text": [
      "Train Loss: 0.1600, Train Acc: 0.9373\n",
      "Val Loss: 0.1587, Val Acc: 0.9439\n",
      "Validation loss decreased (0.162894 --> 0.158657).  Saving model ...\n",
      "../WeightsFinal_0.3_model_weights/Weights_replay_500/2018-04/best_model_epoch_3.pt\n",
      "../WeightsFinal_0.3_optimizer_weights/Weights_replay_500/2018-04/best_optimizer_epoch_3.pt\n",
      "Epoch 4 of 500\n"
     ]
    },
    {
     "name": "stderr",
     "output_type": "stream",
     "text": [
      "100%|██████████| 13/13 [00:02<00:00,  5.10it/s]\n",
      "100%|██████████| 4/4 [00:00<00:00,  6.45it/s]\n",
      "  0%|          | 0/13 [00:00<?, ?it/s]"
     ]
    },
    {
     "name": "stdout",
     "output_type": "stream",
     "text": [
      "Train Loss: 0.1592, Train Acc: 0.9386\n",
      "Val Loss: 0.1617, Val Acc: 0.9420\n",
      "EarlyStopping counter: 1 out of 5\n",
      "Epoch 5 of 500\n"
     ]
    },
    {
     "name": "stderr",
     "output_type": "stream",
     "text": [
      "100%|██████████| 13/13 [00:02<00:00,  5.21it/s]\n",
      "100%|██████████| 4/4 [00:00<00:00,  7.90it/s]\n",
      "  0%|          | 0/13 [00:00<?, ?it/s]"
     ]
    },
    {
     "name": "stdout",
     "output_type": "stream",
     "text": [
      "Train Loss: 0.1567, Train Acc: 0.9401\n",
      "Val Loss: 0.1623, Val Acc: 0.9400\n",
      "EarlyStopping counter: 2 out of 5\n",
      "Epoch 6 of 500\n"
     ]
    },
    {
     "name": "stderr",
     "output_type": "stream",
     "text": [
      "100%|██████████| 13/13 [00:02<00:00,  5.03it/s]\n",
      "100%|██████████| 4/4 [00:00<00:00,  8.06it/s]\n",
      "  0%|          | 0/13 [00:00<?, ?it/s]"
     ]
    },
    {
     "name": "stdout",
     "output_type": "stream",
     "text": [
      "Train Loss: 0.1503, Train Acc: 0.9408\n",
      "Val Loss: 0.1565, Val Acc: 0.9438\n",
      "Validation loss decreased (0.158657 --> 0.156454).  Saving model ...\n",
      "../WeightsFinal_0.3_model_weights/Weights_replay_500/2018-04/best_model_epoch_6.pt\n",
      "../WeightsFinal_0.3_optimizer_weights/Weights_replay_500/2018-04/best_optimizer_epoch_6.pt\n",
      "Epoch 7 of 500\n"
     ]
    },
    {
     "name": "stderr",
     "output_type": "stream",
     "text": [
      "100%|██████████| 13/13 [00:02<00:00,  4.79it/s]\n",
      "100%|██████████| 4/4 [00:00<00:00,  6.75it/s]\n",
      "  0%|          | 0/13 [00:00<?, ?it/s]"
     ]
    },
    {
     "name": "stdout",
     "output_type": "stream",
     "text": [
      "Train Loss: 0.1532, Train Acc: 0.9411\n",
      "Val Loss: 0.1592, Val Acc: 0.9416\n",
      "EarlyStopping counter: 1 out of 5\n",
      "Epoch 8 of 500\n"
     ]
    },
    {
     "name": "stderr",
     "output_type": "stream",
     "text": [
      "100%|██████████| 13/13 [00:02<00:00,  5.66it/s]\n",
      "100%|██████████| 4/4 [00:00<00:00,  7.10it/s]\n",
      "  0%|          | 0/13 [00:00<?, ?it/s]"
     ]
    },
    {
     "name": "stdout",
     "output_type": "stream",
     "text": [
      "Train Loss: 0.1496, Train Acc: 0.9431\n",
      "Val Loss: 0.1565, Val Acc: 0.9425\n",
      "EarlyStopping counter: 2 out of 5\n",
      "Epoch 9 of 500\n"
     ]
    },
    {
     "name": "stderr",
     "output_type": "stream",
     "text": [
      "100%|██████████| 13/13 [00:02<00:00,  5.21it/s]\n",
      "100%|██████████| 4/4 [00:00<00:00,  7.52it/s]\n",
      "  0%|          | 0/13 [00:00<?, ?it/s]"
     ]
    },
    {
     "name": "stdout",
     "output_type": "stream",
     "text": [
      "Train Loss: 0.1444, Train Acc: 0.9441\n",
      "Val Loss: 0.1596, Val Acc: 0.9408\n",
      "EarlyStopping counter: 3 out of 5\n",
      "Epoch 10 of 500\n"
     ]
    },
    {
     "name": "stderr",
     "output_type": "stream",
     "text": [
      "100%|██████████| 13/13 [00:02<00:00,  5.35it/s]\n",
      "100%|██████████| 4/4 [00:00<00:00,  7.56it/s]\n",
      "  0%|          | 0/13 [00:00<?, ?it/s]"
     ]
    },
    {
     "name": "stdout",
     "output_type": "stream",
     "text": [
      "Train Loss: 0.1415, Train Acc: 0.9458\n",
      "Val Loss: 0.1586, Val Acc: 0.9409\n",
      "EarlyStopping counter: 4 out of 5\n",
      "Epoch 11 of 500\n"
     ]
    },
    {
     "name": "stderr",
     "output_type": "stream",
     "text": [
      "100%|██████████| 13/13 [00:02<00:00,  5.61it/s]\n",
      "100%|██████████| 4/4 [00:00<00:00,  7.00it/s]\n",
      "  0%|          | 0/4 [00:00<?, ?it/s]"
     ]
    },
    {
     "name": "stdout",
     "output_type": "stream",
     "text": [
      "Train Loss: 0.1395, Train Acc: 0.9464\n",
      "Val Loss: 0.1566, Val Acc: 0.9427\n",
      "EarlyStopping counter: 5 out of 5\n",
      "Early stopping\n",
      "Training time: 0.562 minutes\n",
      "loading best model ../WeightsFinal_0.3_model_weights/Weights_replay_500/2018-04/best_model_epoch_6.pt\n",
      "loading best optimizer ../WeightsFinal_0.3_optimizer_weights/Weights_replay_500/2018-04/best_optimizer_epoch_6.pt\n"
     ]
    },
    {
     "name": "stderr",
     "output_type": "stream",
     "text": [
      "100%|██████████| 4/4 [00:01<00:00,  3.93it/s]\n"
     ]
    },
    {
     "name": "stdout",
     "output_type": "stream",
     "text": [
      "test accuracy 0.9456679970026016 and ROC-AUC 0.9468686175956671\n",
      "Elapsed time 6.854469056924184 mins.\n",
      "\n",
      "\n",
      "2023-01-30 12:23:54 Round 2 ...\n",
      "Current Task 2018-05 w/ 500 samples to Replay per Malware family.\n",
      "X_train (41320, 2381) Y_train (41320,) Y_tr_family (41320,)\n",
      "X_test (25560, 2381) Y_test (25560,) Y_te_family (25560,)\n",
      "Task 2018-05 and #-of new samples stored 41320\n"
     ]
    },
    {
     "name": "stderr",
     "output_type": "stream",
     "text": [
      "\r",
      "  0%|          | 0/1 [00:00<?, ?it/s]"
     ]
    },
    {
     "name": "stdout",
     "output_type": "stream",
     "text": [
      "loading best model ../WeightsFinal_0.3_model_weights/Weights_replay_500/2018-04/best_model_epoch_6.pt\n"
     ]
    },
    {
     "name": "stderr",
     "output_type": "stream",
     "text": [
      "100%|██████████| 1/1 [00:00<00:00,  3.39it/s]\n",
      "100%|██████████| 1/1 [00:00<00:00,  2.43it/s]\n",
      "100%|██████████| 1/1 [00:00<00:00,  2.94it/s]\n",
      "100%|██████████| 1/1 [00:00<00:00,  3.06it/s]\n",
      "100%|██████████| 1/1 [00:00<00:00,  2.80it/s]\n",
      "100%|██████████| 1/1 [00:00<00:00,  2.80it/s]\n",
      "100%|██████████| 1/1 [00:00<00:00,  3.11it/s]\n",
      "100%|██████████| 1/1 [00:00<00:00,  3.07it/s]\n",
      "100%|██████████| 1/1 [00:00<00:00,  2.97it/s]\n",
      "100%|██████████| 1/1 [00:00<00:00,  2.88it/s]\n",
      "100%|██████████| 1/1 [00:00<00:00,  2.98it/s]\n",
      "100%|██████████| 1/1 [00:00<00:00,  2.87it/s]\n",
      "100%|██████████| 1/1 [00:00<00:00,  2.93it/s]\n",
      "100%|██████████| 1/1 [00:00<00:00,  3.09it/s]\n",
      "100%|██████████| 1/1 [00:00<00:00,  3.03it/s]\n",
      "100%|██████████| 1/1 [00:00<00:00,  2.71it/s]\n",
      "100%|██████████| 1/1 [00:00<00:00,  2.48it/s]\n",
      "100%|██████████| 1/1 [00:00<00:00,  3.45it/s]\n",
      "100%|██████████| 1/1 [00:00<00:00,  3.04it/s]\n",
      "100%|██████████| 1/1 [00:00<00:00,  2.87it/s]\n",
      "100%|██████████| 1/1 [00:00<00:00,  3.18it/s]\n",
      "100%|██████████| 1/1 [00:00<00:00,  3.18it/s]\n",
      "100%|██████████| 1/1 [00:00<00:00,  3.15it/s]\n",
      "100%|██████████| 1/1 [00:00<00:00,  3.50it/s]\n",
      "100%|██████████| 1/1 [00:00<00:00,  3.19it/s]\n"
     ]
    },
    {
     "name": "stdout",
     "output_type": "stream",
     "text": [
      "2023-01-30 12:24:41 Standardizing ...\n"
     ]
    },
    {
     "name": "stderr",
     "output_type": "stream",
     "text": [
      "\r",
      "  0%|          | 0/14 [00:00<?, ?it/s]"
     ]
    },
    {
     "name": "stdout",
     "output_type": "stream",
     "text": [
      "\n",
      "X_train (86954, 2381) Y_train (86954,)\n",
      "\n",
      "2023-01-30 12:24:47 Training ...\n",
      "Epoch 1 of 500\n"
     ]
    },
    {
     "name": "stderr",
     "output_type": "stream",
     "text": [
      "100%|██████████| 14/14 [00:02<00:00,  5.95it/s]\n",
      "100%|██████████| 5/5 [00:00<00:00,  6.59it/s]\n",
      "  0%|          | 0/14 [00:00<?, ?it/s]"
     ]
    },
    {
     "name": "stdout",
     "output_type": "stream",
     "text": [
      "Train Loss: 0.1775, Train Acc: 0.9325\n",
      "Val Loss: 0.1635, Val Acc: 0.9396\n",
      "Validation loss decreased (inf --> 0.163462).  Saving model ...\n",
      "../WeightsFinal_0.3_model_weights/Weights_replay_500/2018-05/best_model_epoch_1.pt\n",
      "../WeightsFinal_0.3_optimizer_weights/Weights_replay_500/2018-05/best_optimizer_epoch_1.pt\n",
      "Epoch 2 of 500\n"
     ]
    },
    {
     "name": "stderr",
     "output_type": "stream",
     "text": [
      "100%|██████████| 14/14 [00:02<00:00,  5.55it/s]\n",
      "100%|██████████| 5/5 [00:00<00:00,  6.68it/s]\n",
      "  0%|          | 0/14 [00:00<?, ?it/s]"
     ]
    },
    {
     "name": "stdout",
     "output_type": "stream",
     "text": [
      "Train Loss: 0.1679, Train Acc: 0.9348\n",
      "Val Loss: 0.1674, Val Acc: 0.9369\n",
      "EarlyStopping counter: 1 out of 5\n",
      "Epoch 3 of 500\n"
     ]
    },
    {
     "name": "stderr",
     "output_type": "stream",
     "text": [
      "100%|██████████| 14/14 [00:02<00:00,  6.04it/s]\n",
      "100%|██████████| 5/5 [00:00<00:00,  5.55it/s]\n",
      "  0%|          | 0/14 [00:00<?, ?it/s]"
     ]
    },
    {
     "name": "stdout",
     "output_type": "stream",
     "text": [
      "Train Loss: 0.1672, Train Acc: 0.9357\n",
      "Val Loss: 0.1629, Val Acc: 0.9374\n",
      "Validation loss decreased (0.163462 --> 0.162877).  Saving model ...\n",
      "../WeightsFinal_0.3_model_weights/Weights_replay_500/2018-05/best_model_epoch_3.pt\n",
      "../WeightsFinal_0.3_optimizer_weights/Weights_replay_500/2018-05/best_optimizer_epoch_3.pt\n",
      "Epoch 4 of 500\n"
     ]
    },
    {
     "name": "stderr",
     "output_type": "stream",
     "text": [
      "100%|██████████| 14/14 [00:02<00:00,  6.21it/s]\n",
      "100%|██████████| 5/5 [00:00<00:00,  7.58it/s]\n",
      "  0%|          | 0/14 [00:00<?, ?it/s]"
     ]
    },
    {
     "name": "stdout",
     "output_type": "stream",
     "text": [
      "Train Loss: 0.1626, Train Acc: 0.9368\n",
      "Val Loss: 0.1574, Val Acc: 0.9399\n",
      "Validation loss decreased (0.162877 --> 0.157378).  Saving model ...\n",
      "../WeightsFinal_0.3_model_weights/Weights_replay_500/2018-05/best_model_epoch_4.pt\n",
      "../WeightsFinal_0.3_optimizer_weights/Weights_replay_500/2018-05/best_optimizer_epoch_4.pt\n",
      "Epoch 5 of 500\n"
     ]
    },
    {
     "name": "stderr",
     "output_type": "stream",
     "text": [
      "100%|██████████| 14/14 [00:02<00:00,  6.03it/s]\n",
      "100%|██████████| 5/5 [00:00<00:00,  6.47it/s]\n",
      "  0%|          | 0/14 [00:00<?, ?it/s]"
     ]
    },
    {
     "name": "stdout",
     "output_type": "stream",
     "text": [
      "Train Loss: 0.1575, Train Acc: 0.9387\n",
      "Val Loss: 0.1578, Val Acc: 0.9397\n",
      "EarlyStopping counter: 1 out of 5\n",
      "Epoch 6 of 500\n"
     ]
    },
    {
     "name": "stderr",
     "output_type": "stream",
     "text": [
      "100%|██████████| 14/14 [00:02<00:00,  5.02it/s]\n",
      "100%|██████████| 5/5 [00:00<00:00,  7.21it/s]\n",
      "  0%|          | 0/14 [00:00<?, ?it/s]"
     ]
    },
    {
     "name": "stdout",
     "output_type": "stream",
     "text": [
      "Train Loss: 0.1550, Train Acc: 0.9394\n",
      "Val Loss: 0.1543, Val Acc: 0.9418\n",
      "Validation loss decreased (0.157378 --> 0.154312).  Saving model ...\n",
      "../WeightsFinal_0.3_model_weights/Weights_replay_500/2018-05/best_model_epoch_6.pt\n",
      "../WeightsFinal_0.3_optimizer_weights/Weights_replay_500/2018-05/best_optimizer_epoch_6.pt\n",
      "Epoch 7 of 500\n"
     ]
    },
    {
     "name": "stderr",
     "output_type": "stream",
     "text": [
      "100%|██████████| 14/14 [00:02<00:00,  5.27it/s]\n",
      "100%|██████████| 5/5 [00:00<00:00,  6.63it/s]\n",
      "  0%|          | 0/14 [00:00<?, ?it/s]"
     ]
    },
    {
     "name": "stdout",
     "output_type": "stream",
     "text": [
      "Train Loss: 0.1507, Train Acc: 0.9428\n",
      "Val Loss: 0.1580, Val Acc: 0.9397\n",
      "EarlyStopping counter: 1 out of 5\n",
      "Epoch 8 of 500\n"
     ]
    },
    {
     "name": "stderr",
     "output_type": "stream",
     "text": [
      "100%|██████████| 14/14 [00:02<00:00,  5.44it/s]\n",
      "100%|██████████| 5/5 [00:00<00:00,  7.41it/s]\n",
      "  0%|          | 0/14 [00:00<?, ?it/s]"
     ]
    },
    {
     "name": "stdout",
     "output_type": "stream",
     "text": [
      "Train Loss: 0.1505, Train Acc: 0.9433\n",
      "Val Loss: 0.1548, Val Acc: 0.9416\n",
      "EarlyStopping counter: 2 out of 5\n",
      "Epoch 9 of 500\n"
     ]
    },
    {
     "name": "stderr",
     "output_type": "stream",
     "text": [
      "100%|██████████| 14/14 [00:02<00:00,  5.04it/s]\n",
      "100%|██████████| 5/5 [00:00<00:00,  6.45it/s]\n",
      "  0%|          | 0/14 [00:00<?, ?it/s]"
     ]
    },
    {
     "name": "stdout",
     "output_type": "stream",
     "text": [
      "Train Loss: 0.1495, Train Acc: 0.9430\n",
      "Val Loss: 0.1541, Val Acc: 0.9433\n",
      "Validation loss decreased (0.154312 --> 0.154076).  Saving model ...\n",
      "../WeightsFinal_0.3_model_weights/Weights_replay_500/2018-05/best_model_epoch_9.pt\n",
      "../WeightsFinal_0.3_optimizer_weights/Weights_replay_500/2018-05/best_optimizer_epoch_9.pt\n",
      "Epoch 10 of 500\n"
     ]
    },
    {
     "name": "stderr",
     "output_type": "stream",
     "text": [
      "100%|██████████| 14/14 [00:02<00:00,  5.07it/s]\n",
      "100%|██████████| 5/5 [00:00<00:00,  7.53it/s]\n",
      "  0%|          | 0/14 [00:00<?, ?it/s]"
     ]
    },
    {
     "name": "stdout",
     "output_type": "stream",
     "text": [
      "Train Loss: 0.1469, Train Acc: 0.9434\n",
      "Val Loss: 0.1530, Val Acc: 0.9433\n",
      "Validation loss decreased (0.154076 --> 0.152979).  Saving model ...\n",
      "../WeightsFinal_0.3_model_weights/Weights_replay_500/2018-05/best_model_epoch_10.pt\n",
      "../WeightsFinal_0.3_optimizer_weights/Weights_replay_500/2018-05/best_optimizer_epoch_10.pt\n",
      "Epoch 11 of 500\n"
     ]
    },
    {
     "name": "stderr",
     "output_type": "stream",
     "text": [
      "100%|██████████| 14/14 [00:02<00:00,  4.93it/s]\n",
      "100%|██████████| 5/5 [00:00<00:00,  6.60it/s]\n",
      "  0%|          | 0/14 [00:00<?, ?it/s]"
     ]
    },
    {
     "name": "stdout",
     "output_type": "stream",
     "text": [
      "Train Loss: 0.1463, Train Acc: 0.9443\n",
      "Val Loss: 0.1554, Val Acc: 0.9414\n",
      "EarlyStopping counter: 1 out of 5\n",
      "Epoch 12 of 500\n"
     ]
    },
    {
     "name": "stderr",
     "output_type": "stream",
     "text": [
      "100%|██████████| 14/14 [00:02<00:00,  5.09it/s]\n",
      "100%|██████████| 5/5 [00:00<00:00,  7.20it/s]\n",
      "  0%|          | 0/14 [00:00<?, ?it/s]"
     ]
    },
    {
     "name": "stdout",
     "output_type": "stream",
     "text": [
      "Train Loss: 0.1454, Train Acc: 0.9436\n",
      "Val Loss: 0.1592, Val Acc: 0.9400\n",
      "EarlyStopping counter: 2 out of 5\n",
      "Epoch 13 of 500\n"
     ]
    },
    {
     "name": "stderr",
     "output_type": "stream",
     "text": [
      "100%|██████████| 14/14 [00:02<00:00,  5.19it/s]\n",
      "100%|██████████| 5/5 [00:00<00:00,  6.56it/s]\n",
      "  0%|          | 0/14 [00:00<?, ?it/s]"
     ]
    },
    {
     "name": "stdout",
     "output_type": "stream",
     "text": [
      "Train Loss: 0.1361, Train Acc: 0.9481\n",
      "Val Loss: 0.1532, Val Acc: 0.9435\n",
      "EarlyStopping counter: 3 out of 5\n",
      "Epoch 14 of 500\n"
     ]
    },
    {
     "name": "stderr",
     "output_type": "stream",
     "text": [
      "100%|██████████| 14/14 [00:02<00:00,  5.23it/s]\n",
      "100%|██████████| 5/5 [00:00<00:00,  6.56it/s]\n",
      "  0%|          | 0/14 [00:00<?, ?it/s]"
     ]
    },
    {
     "name": "stdout",
     "output_type": "stream",
     "text": [
      "Train Loss: 0.1370, Train Acc: 0.9468\n",
      "Val Loss: 0.1560, Val Acc: 0.9425\n",
      "EarlyStopping counter: 4 out of 5\n",
      "Epoch 15 of 500\n"
     ]
    },
    {
     "name": "stderr",
     "output_type": "stream",
     "text": [
      "100%|██████████| 14/14 [00:02<00:00,  5.70it/s]\n",
      "100%|██████████| 5/5 [00:00<00:00,  5.87it/s]\n",
      "  0%|          | 0/5 [00:00<?, ?it/s]"
     ]
    },
    {
     "name": "stdout",
     "output_type": "stream",
     "text": [
      "Train Loss: 0.1360, Train Acc: 0.9481\n",
      "Val Loss: 0.1543, Val Acc: 0.9427\n",
      "EarlyStopping counter: 5 out of 5\n",
      "Early stopping\n",
      "Training time: 0.849 minutes\n",
      "loading best model ../WeightsFinal_0.3_model_weights/Weights_replay_500/2018-05/best_model_epoch_10.pt\n",
      "loading best optimizer ../WeightsFinal_0.3_optimizer_weights/Weights_replay_500/2018-05/best_optimizer_epoch_10.pt\n"
     ]
    },
    {
     "name": "stderr",
     "output_type": "stream",
     "text": [
      "100%|██████████| 5/5 [00:01<00:00,  4.56it/s]\n"
     ]
    },
    {
     "name": "stdout",
     "output_type": "stream",
     "text": [
      "test accuracy 0.9404282093048095 and ROC-AUC 0.9400226242627603\n",
      "Elapsed time 8.602973500887552 mins.\n",
      "\n",
      "\n",
      "2023-01-30 12:25:39 Round 2 ...\n",
      "Current Task 2018-06 w/ 500 samples to Replay per Malware family.\n",
      "X_train (43560, 2381) Y_train (43560,) Y_tr_family (43560,)\n",
      "X_test (30401, 2381) Y_test (30401,) Y_te_family (30401,)\n"
     ]
    },
    {
     "name": "stderr",
     "output_type": "stream",
     "text": [
      "\r",
      "  0%|          | 0/1 [00:00<?, ?it/s]"
     ]
    },
    {
     "name": "stdout",
     "output_type": "stream",
     "text": [
      "Task 2018-06 and #-of new samples stored 43560\n",
      "loading best model ../WeightsFinal_0.3_model_weights/Weights_replay_500/2018-05/best_model_epoch_10.pt\n"
     ]
    },
    {
     "name": "stderr",
     "output_type": "stream",
     "text": [
      "100%|██████████| 1/1 [00:00<00:00,  2.56it/s]\n",
      "100%|██████████| 1/1 [00:00<00:00,  2.73it/s]\n",
      "100%|██████████| 1/1 [00:00<00:00,  2.71it/s]\n",
      "100%|██████████| 1/1 [00:00<00:00,  2.79it/s]\n",
      "100%|██████████| 1/1 [00:00<00:00,  2.74it/s]\n",
      "100%|██████████| 1/1 [00:00<00:00,  2.87it/s]\n",
      "100%|██████████| 1/1 [00:00<00:00,  2.73it/s]\n",
      "100%|██████████| 1/1 [00:00<00:00,  2.45it/s]\n",
      "100%|██████████| 1/1 [00:00<00:00,  2.72it/s]\n",
      "100%|██████████| 1/1 [00:00<00:00,  3.06it/s]\n",
      "100%|██████████| 1/1 [00:00<00:00,  2.77it/s]\n",
      "100%|██████████| 1/1 [00:00<00:00,  2.72it/s]\n",
      "100%|██████████| 1/1 [00:00<00:00,  2.77it/s]\n",
      "100%|██████████| 1/1 [00:00<00:00,  2.53it/s]\n",
      "100%|██████████| 1/1 [00:00<00:00,  2.62it/s]\n",
      "100%|██████████| 1/1 [00:00<00:00,  2.68it/s]\n",
      "100%|██████████| 1/1 [00:00<00:00,  2.78it/s]\n",
      "100%|██████████| 1/1 [00:00<00:00,  2.66it/s]\n",
      "100%|██████████| 1/1 [00:00<00:00,  2.62it/s]\n",
      "100%|██████████| 1/1 [00:00<00:00,  2.75it/s]\n",
      "100%|██████████| 1/1 [00:00<00:00,  2.85it/s]\n",
      "100%|██████████| 1/1 [00:00<00:00,  2.82it/s]\n",
      "100%|██████████| 1/1 [00:00<00:00,  2.64it/s]\n",
      "100%|██████████| 1/1 [00:00<00:00,  2.76it/s]\n",
      "100%|██████████| 1/1 [00:00<00:00,  2.69it/s]\n",
      "100%|██████████| 1/1 [00:00<00:00,  2.81it/s]\n",
      "100%|██████████| 1/1 [00:00<00:00,  2.70it/s]\n",
      "100%|██████████| 1/1 [00:00<00:00,  3.02it/s]\n"
     ]
    },
    {
     "name": "stdout",
     "output_type": "stream",
     "text": [
      "2023-01-30 12:26:35 Standardizing ...\n"
     ]
    },
    {
     "name": "stderr",
     "output_type": "stream",
     "text": [
      "\r",
      "  0%|          | 0/17 [00:00<?, ?it/s]"
     ]
    },
    {
     "name": "stdout",
     "output_type": "stream",
     "text": [
      "\n",
      "X_train (102018, 2381) Y_train (102018,)\n",
      "\n",
      "2023-01-30 12:26:43 Training ...\n",
      "Epoch 1 of 500\n"
     ]
    },
    {
     "name": "stderr",
     "output_type": "stream",
     "text": [
      "100%|██████████| 17/17 [00:03<00:00,  5.51it/s]\n",
      "100%|██████████| 6/6 [00:00<00:00,  7.38it/s]\n",
      "  0%|          | 0/17 [00:00<?, ?it/s]"
     ]
    },
    {
     "name": "stdout",
     "output_type": "stream",
     "text": [
      "Train Loss: 0.1767, Train Acc: 0.9328\n",
      "Val Loss: 0.1482, Val Acc: 0.9443\n",
      "Validation loss decreased (inf --> 0.148184).  Saving model ...\n",
      "../WeightsFinal_0.3_model_weights/Weights_replay_500/2018-06/best_model_epoch_1.pt\n",
      "../WeightsFinal_0.3_optimizer_weights/Weights_replay_500/2018-06/best_optimizer_epoch_1.pt\n",
      "Epoch 2 of 500\n"
     ]
    },
    {
     "name": "stderr",
     "output_type": "stream",
     "text": [
      "100%|██████████| 17/17 [00:02<00:00,  5.85it/s]\n",
      "100%|██████████| 6/6 [00:01<00:00,  5.19it/s]\n",
      "  0%|          | 0/17 [00:00<?, ?it/s]"
     ]
    },
    {
     "name": "stdout",
     "output_type": "stream",
     "text": [
      "Train Loss: 0.1785, Train Acc: 0.9326\n",
      "Val Loss: 0.1465, Val Acc: 0.9440\n",
      "Validation loss decreased (0.148184 --> 0.146468).  Saving model ...\n",
      "../WeightsFinal_0.3_model_weights/Weights_replay_500/2018-06/best_model_epoch_2.pt\n",
      "../WeightsFinal_0.3_optimizer_weights/Weights_replay_500/2018-06/best_optimizer_epoch_2.pt\n",
      "Epoch 3 of 500\n"
     ]
    },
    {
     "name": "stderr",
     "output_type": "stream",
     "text": [
      "100%|██████████| 17/17 [00:02<00:00,  6.23it/s]\n",
      "100%|██████████| 6/6 [00:00<00:00,  7.06it/s]\n",
      "  0%|          | 0/17 [00:00<?, ?it/s]"
     ]
    },
    {
     "name": "stdout",
     "output_type": "stream",
     "text": [
      "Train Loss: 0.1613, Train Acc: 0.9384\n",
      "Val Loss: 0.1449, Val Acc: 0.9440\n",
      "Validation loss decreased (0.146468 --> 0.144879).  Saving model ...\n",
      "../WeightsFinal_0.3_model_weights/Weights_replay_500/2018-06/best_model_epoch_3.pt\n",
      "../WeightsFinal_0.3_optimizer_weights/Weights_replay_500/2018-06/best_optimizer_epoch_3.pt\n",
      "Epoch 4 of 500\n"
     ]
    },
    {
     "name": "stderr",
     "output_type": "stream",
     "text": [
      "100%|██████████| 17/17 [00:02<00:00,  6.13it/s]\n",
      "100%|██████████| 6/6 [00:00<00:00,  7.61it/s]\n",
      "  0%|          | 0/17 [00:00<?, ?it/s]"
     ]
    },
    {
     "name": "stdout",
     "output_type": "stream",
     "text": [
      "Train Loss: 0.1582, Train Acc: 0.9396\n",
      "Val Loss: 0.1431, Val Acc: 0.9451\n",
      "Validation loss decreased (0.144879 --> 0.143069).  Saving model ...\n",
      "../WeightsFinal_0.3_model_weights/Weights_replay_500/2018-06/best_model_epoch_4.pt\n",
      "../WeightsFinal_0.3_optimizer_weights/Weights_replay_500/2018-06/best_optimizer_epoch_4.pt\n",
      "Epoch 5 of 500\n"
     ]
    },
    {
     "name": "stderr",
     "output_type": "stream",
     "text": [
      "100%|██████████| 17/17 [00:02<00:00,  6.07it/s]\n",
      "100%|██████████| 6/6 [00:01<00:00,  5.06it/s]\n",
      "  0%|          | 0/17 [00:00<?, ?it/s]"
     ]
    },
    {
     "name": "stdout",
     "output_type": "stream",
     "text": [
      "Train Loss: 0.1753, Train Acc: 0.9337\n",
      "Val Loss: 0.1824, Val Acc: 0.9320\n",
      "EarlyStopping counter: 1 out of 5\n",
      "Epoch 6 of 500\n"
     ]
    },
    {
     "name": "stderr",
     "output_type": "stream",
     "text": [
      "100%|██████████| 17/17 [00:02<00:00,  6.10it/s]\n",
      "100%|██████████| 6/6 [00:00<00:00,  7.79it/s]\n",
      "  0%|          | 0/17 [00:00<?, ?it/s]"
     ]
    },
    {
     "name": "stdout",
     "output_type": "stream",
     "text": [
      "Train Loss: 0.1664, Train Acc: 0.9369\n",
      "Val Loss: 0.1335, Val Acc: 0.9480\n",
      "Validation loss decreased (0.143069 --> 0.133520).  Saving model ...\n",
      "../WeightsFinal_0.3_model_weights/Weights_replay_500/2018-06/best_model_epoch_6.pt\n",
      "../WeightsFinal_0.3_optimizer_weights/Weights_replay_500/2018-06/best_optimizer_epoch_6.pt\n",
      "Epoch 7 of 500\n"
     ]
    },
    {
     "name": "stderr",
     "output_type": "stream",
     "text": [
      "100%|██████████| 17/17 [00:02<00:00,  6.10it/s]\n",
      "100%|██████████| 6/6 [00:00<00:00,  6.93it/s]\n",
      "  0%|          | 0/17 [00:00<?, ?it/s]"
     ]
    },
    {
     "name": "stdout",
     "output_type": "stream",
     "text": [
      "Train Loss: 0.1569, Train Acc: 0.9400\n",
      "Val Loss: 0.1484, Val Acc: 0.9427\n",
      "EarlyStopping counter: 1 out of 5\n",
      "Epoch 8 of 500\n"
     ]
    },
    {
     "name": "stderr",
     "output_type": "stream",
     "text": [
      "100%|██████████| 17/17 [00:02<00:00,  6.56it/s]\n",
      "100%|██████████| 6/6 [00:00<00:00,  6.92it/s]\n",
      "  0%|          | 0/17 [00:00<?, ?it/s]"
     ]
    },
    {
     "name": "stdout",
     "output_type": "stream",
     "text": [
      "Train Loss: 0.1573, Train Acc: 0.9400\n",
      "Val Loss: 0.1297, Val Acc: 0.9498\n",
      "Validation loss decreased (0.133520 --> 0.129713).  Saving model ...\n",
      "../WeightsFinal_0.3_model_weights/Weights_replay_500/2018-06/best_model_epoch_8.pt\n",
      "../WeightsFinal_0.3_optimizer_weights/Weights_replay_500/2018-06/best_optimizer_epoch_8.pt\n",
      "Epoch 9 of 500\n"
     ]
    },
    {
     "name": "stderr",
     "output_type": "stream",
     "text": [
      "100%|██████████| 17/17 [00:02<00:00,  6.36it/s]\n",
      "100%|██████████| 6/6 [00:00<00:00,  6.90it/s]\n",
      "  0%|          | 0/17 [00:00<?, ?it/s]"
     ]
    },
    {
     "name": "stdout",
     "output_type": "stream",
     "text": [
      "Train Loss: 0.1561, Train Acc: 0.9390\n",
      "Val Loss: 0.1502, Val Acc: 0.9428\n",
      "EarlyStopping counter: 1 out of 5\n",
      "Epoch 10 of 500\n"
     ]
    },
    {
     "name": "stderr",
     "output_type": "stream",
     "text": [
      "100%|██████████| 17/17 [00:03<00:00,  5.64it/s]\n",
      "100%|██████████| 6/6 [00:01<00:00,  5.92it/s]\n",
      "  0%|          | 0/17 [00:00<?, ?it/s]"
     ]
    },
    {
     "name": "stdout",
     "output_type": "stream",
     "text": [
      "Train Loss: 0.1539, Train Acc: 0.9413\n",
      "Val Loss: 0.1346, Val Acc: 0.9478\n",
      "EarlyStopping counter: 2 out of 5\n",
      "Epoch 11 of 500\n"
     ]
    },
    {
     "name": "stderr",
     "output_type": "stream",
     "text": [
      "100%|██████████| 17/17 [00:02<00:00,  6.23it/s]\n",
      "100%|██████████| 6/6 [00:00<00:00,  7.55it/s]\n",
      "  0%|          | 0/17 [00:00<?, ?it/s]"
     ]
    },
    {
     "name": "stdout",
     "output_type": "stream",
     "text": [
      "Train Loss: 0.1455, Train Acc: 0.9451\n",
      "Val Loss: 0.1308, Val Acc: 0.9490\n",
      "EarlyStopping counter: 3 out of 5\n",
      "Epoch 12 of 500\n"
     ]
    },
    {
     "name": "stderr",
     "output_type": "stream",
     "text": [
      "100%|██████████| 17/17 [00:02<00:00,  6.24it/s]\n",
      "100%|██████████| 6/6 [00:00<00:00,  6.80it/s]\n",
      "  0%|          | 0/17 [00:00<?, ?it/s]"
     ]
    },
    {
     "name": "stdout",
     "output_type": "stream",
     "text": [
      "Train Loss: 0.1488, Train Acc: 0.9432\n",
      "Val Loss: 0.1474, Val Acc: 0.9416\n",
      "EarlyStopping counter: 4 out of 5\n",
      "Epoch 13 of 500\n"
     ]
    },
    {
     "name": "stderr",
     "output_type": "stream",
     "text": [
      "100%|██████████| 17/17 [00:03<00:00,  5.65it/s]\n",
      "100%|██████████| 6/6 [00:00<00:00,  6.29it/s]\n",
      "  0%|          | 0/6 [00:00<?, ?it/s]"
     ]
    },
    {
     "name": "stdout",
     "output_type": "stream",
     "text": [
      "Train Loss: 0.1396, Train Acc: 0.9473\n",
      "Val Loss: 0.1359, Val Acc: 0.9475\n",
      "EarlyStopping counter: 5 out of 5\n",
      "Early stopping\n",
      "Training time: 0.823 minutes\n",
      "loading best model ../WeightsFinal_0.3_model_weights/Weights_replay_500/2018-06/best_model_epoch_8.pt\n",
      "loading best optimizer ../WeightsFinal_0.3_optimizer_weights/Weights_replay_500/2018-06/best_optimizer_epoch_8.pt\n"
     ]
    },
    {
     "name": "stderr",
     "output_type": "stream",
     "text": [
      "100%|██████████| 6/6 [00:01<00:00,  4.83it/s]\n"
     ]
    },
    {
     "name": "stdout",
     "output_type": "stream",
     "text": [
      "test accuracy 0.9469075997670492 and ROC-AUC 0.9453221749974285\n",
      "Elapsed time 10.503174686431885 mins.\n",
      "\n",
      "\n",
      "2023-01-30 12:27:33 Round 2 ...\n",
      "Current Task 2018-07 w/ 500 samples to Replay per Malware family.\n",
      "X_train (46278, 2381) Y_train (46278,) Y_tr_family (46278,)\n",
      "X_test (35544, 2381) Y_test (35544,) Y_te_family (35544,)\n",
      "Task 2018-07 and #-of new samples stored 46278\n"
     ]
    },
    {
     "name": "stderr",
     "output_type": "stream",
     "text": [
      "\r",
      "  0%|          | 0/1 [00:00<?, ?it/s]"
     ]
    },
    {
     "name": "stdout",
     "output_type": "stream",
     "text": [
      "loading best model ../WeightsFinal_0.3_model_weights/Weights_replay_500/2018-06/best_model_epoch_8.pt\n"
     ]
    },
    {
     "name": "stderr",
     "output_type": "stream",
     "text": [
      "100%|██████████| 1/1 [00:00<00:00,  2.54it/s]\n",
      "100%|██████████| 1/1 [00:00<00:00,  2.65it/s]\n",
      "100%|██████████| 1/1 [00:00<00:00,  2.52it/s]\n",
      "100%|██████████| 1/1 [00:00<00:00,  2.42it/s]\n",
      "100%|██████████| 1/1 [00:00<00:00,  2.54it/s]\n",
      "100%|██████████| 1/1 [00:00<00:00,  2.34it/s]\n",
      "100%|██████████| 1/1 [00:00<00:00,  2.54it/s]\n",
      "100%|██████████| 1/1 [00:00<00:00,  2.87it/s]\n",
      "100%|██████████| 1/1 [00:00<00:00,  2.43it/s]\n",
      "100%|██████████| 1/1 [00:00<00:00,  2.49it/s]\n",
      "100%|██████████| 1/1 [00:00<00:00,  2.28it/s]\n",
      "100%|██████████| 1/1 [00:00<00:00,  2.82it/s]\n",
      "100%|██████████| 1/1 [00:00<00:00,  2.56it/s]\n",
      "100%|██████████| 1/1 [00:00<00:00,  2.59it/s]\n",
      "100%|██████████| 1/1 [00:00<00:00,  2.40it/s]\n",
      "100%|██████████| 1/1 [00:00<00:00,  2.49it/s]\n",
      "100%|██████████| 1/1 [00:00<00:00,  2.57it/s]\n",
      "100%|██████████| 1/1 [00:00<00:00,  2.62it/s]\n",
      "100%|██████████| 1/1 [00:00<00:00,  2.41it/s]\n",
      "100%|██████████| 1/1 [00:00<00:00,  2.53it/s]\n",
      "100%|██████████| 1/1 [00:00<00:00,  2.56it/s]\n",
      "100%|██████████| 1/1 [00:00<00:00,  2.68it/s]\n",
      "100%|██████████| 1/1 [00:00<00:00,  2.41it/s]\n",
      "100%|██████████| 1/1 [00:00<00:00,  2.01it/s]\n",
      "100%|██████████| 1/1 [00:00<00:00,  2.70it/s]\n",
      "100%|██████████| 1/1 [00:00<00:00,  2.41it/s]\n",
      "100%|██████████| 1/1 [00:00<00:00,  2.58it/s]\n",
      "100%|██████████| 1/1 [00:00<00:00,  2.51it/s]\n"
     ]
    },
    {
     "name": "stdout",
     "output_type": "stream",
     "text": [
      "2023-01-30 12:28:33 Standardizing ...\n"
     ]
    },
    {
     "name": "stderr",
     "output_type": "stream",
     "text": [
      "\r",
      "  0%|          | 0/19 [00:00<?, ?it/s]"
     ]
    },
    {
     "name": "stdout",
     "output_type": "stream",
     "text": [
      "\n",
      "X_train (115382, 2381) Y_train (115382,)\n",
      "\n",
      "2023-01-30 12:28:42 Training ...\n",
      "Epoch 1 of 500\n"
     ]
    },
    {
     "name": "stderr",
     "output_type": "stream",
     "text": [
      "100%|██████████| 19/19 [00:03<00:00,  5.09it/s]\n",
      "100%|██████████| 6/6 [00:00<00:00,  6.06it/s]\n",
      "  0%|          | 0/19 [00:00<?, ?it/s]"
     ]
    },
    {
     "name": "stdout",
     "output_type": "stream",
     "text": [
      "Train Loss: 0.1592, Train Acc: 0.9404\n",
      "Val Loss: 0.1447, Val Acc: 0.9458\n",
      "Validation loss decreased (inf --> 0.144669).  Saving model ...\n",
      "../WeightsFinal_0.3_model_weights/Weights_replay_500/2018-07/best_model_epoch_1.pt\n",
      "../WeightsFinal_0.3_optimizer_weights/Weights_replay_500/2018-07/best_optimizer_epoch_1.pt\n",
      "Epoch 2 of 500\n"
     ]
    },
    {
     "name": "stderr",
     "output_type": "stream",
     "text": [
      "100%|██████████| 19/19 [00:03<00:00,  5.23it/s]\n",
      "100%|██████████| 6/6 [00:01<00:00,  5.33it/s]\n",
      "  0%|          | 0/19 [00:00<?, ?it/s]"
     ]
    },
    {
     "name": "stdout",
     "output_type": "stream",
     "text": [
      "Train Loss: 0.1602, Train Acc: 0.9391\n",
      "Val Loss: 0.1718, Val Acc: 0.9316\n",
      "EarlyStopping counter: 1 out of 5\n",
      "Epoch 3 of 500\n"
     ]
    },
    {
     "name": "stderr",
     "output_type": "stream",
     "text": [
      "100%|██████████| 19/19 [00:03<00:00,  5.67it/s]\n",
      "100%|██████████| 6/6 [00:01<00:00,  5.19it/s]\n",
      "  0%|          | 0/19 [00:00<?, ?it/s]"
     ]
    },
    {
     "name": "stdout",
     "output_type": "stream",
     "text": [
      "Train Loss: 0.1585, Train Acc: 0.9395\n",
      "Val Loss: 0.1450, Val Acc: 0.9433\n",
      "EarlyStopping counter: 2 out of 5\n",
      "Epoch 4 of 500\n"
     ]
    },
    {
     "name": "stderr",
     "output_type": "stream",
     "text": [
      "100%|██████████| 19/19 [00:03<00:00,  6.03it/s]\n",
      "100%|██████████| 6/6 [00:00<00:00,  6.22it/s]\n",
      "  0%|          | 0/19 [00:00<?, ?it/s]"
     ]
    },
    {
     "name": "stdout",
     "output_type": "stream",
     "text": [
      "Train Loss: 0.1475, Train Acc: 0.9443\n",
      "Val Loss: 0.1471, Val Acc: 0.9435\n",
      "EarlyStopping counter: 3 out of 5\n",
      "Epoch 5 of 500\n"
     ]
    },
    {
     "name": "stderr",
     "output_type": "stream",
     "text": [
      "100%|██████████| 19/19 [00:03<00:00,  5.24it/s]\n",
      "100%|██████████| 6/6 [00:01<00:00,  5.52it/s]\n",
      "  0%|          | 0/19 [00:00<?, ?it/s]"
     ]
    },
    {
     "name": "stdout",
     "output_type": "stream",
     "text": [
      "Train Loss: 0.1434, Train Acc: 0.9461\n",
      "Val Loss: 0.1427, Val Acc: 0.9457\n",
      "Validation loss decreased (0.144669 --> 0.142694).  Saving model ...\n",
      "../WeightsFinal_0.3_model_weights/Weights_replay_500/2018-07/best_model_epoch_5.pt\n",
      "../WeightsFinal_0.3_optimizer_weights/Weights_replay_500/2018-07/best_optimizer_epoch_5.pt\n",
      "Epoch 6 of 500\n"
     ]
    },
    {
     "name": "stderr",
     "output_type": "stream",
     "text": [
      "100%|██████████| 19/19 [00:03<00:00,  6.21it/s]\n",
      "100%|██████████| 6/6 [00:01<00:00,  5.88it/s]\n",
      "  0%|          | 0/19 [00:00<?, ?it/s]"
     ]
    },
    {
     "name": "stdout",
     "output_type": "stream",
     "text": [
      "Train Loss: 0.1413, Train Acc: 0.9463\n",
      "Val Loss: 0.1436, Val Acc: 0.9463\n",
      "EarlyStopping counter: 1 out of 5\n",
      "Epoch 7 of 500\n"
     ]
    },
    {
     "name": "stderr",
     "output_type": "stream",
     "text": [
      "100%|██████████| 19/19 [00:03<00:00,  6.02it/s]\n",
      "100%|██████████| 6/6 [00:00<00:00,  6.25it/s]\n",
      "  0%|          | 0/19 [00:00<?, ?it/s]"
     ]
    },
    {
     "name": "stdout",
     "output_type": "stream",
     "text": [
      "Train Loss: 0.1374, Train Acc: 0.9482\n",
      "Val Loss: 0.1451, Val Acc: 0.9452\n",
      "EarlyStopping counter: 2 out of 5\n",
      "Epoch 8 of 500\n"
     ]
    },
    {
     "name": "stderr",
     "output_type": "stream",
     "text": [
      "100%|██████████| 19/19 [00:03<00:00,  5.69it/s]\n",
      "100%|██████████| 6/6 [00:00<00:00,  6.19it/s]\n",
      "  0%|          | 0/19 [00:00<?, ?it/s]"
     ]
    },
    {
     "name": "stdout",
     "output_type": "stream",
     "text": [
      "Train Loss: 0.1338, Train Acc: 0.9487\n",
      "Val Loss: 0.1438, Val Acc: 0.9454\n",
      "EarlyStopping counter: 3 out of 5\n",
      "Epoch 9 of 500\n"
     ]
    },
    {
     "name": "stderr",
     "output_type": "stream",
     "text": [
      "100%|██████████| 19/19 [00:03<00:00,  5.43it/s]\n",
      "100%|██████████| 6/6 [00:00<00:00,  6.18it/s]\n",
      "  0%|          | 0/19 [00:00<?, ?it/s]"
     ]
    },
    {
     "name": "stdout",
     "output_type": "stream",
     "text": [
      "Train Loss: 0.1298, Train Acc: 0.9509\n",
      "Val Loss: 0.1437, Val Acc: 0.9457\n",
      "EarlyStopping counter: 4 out of 5\n",
      "Epoch 10 of 500\n"
     ]
    },
    {
     "name": "stderr",
     "output_type": "stream",
     "text": [
      "100%|██████████| 19/19 [00:03<00:00,  6.05it/s]\n",
      "100%|██████████| 6/6 [00:01<00:00,  4.90it/s]\n",
      "  0%|          | 0/19 [00:00<?, ?it/s]"
     ]
    },
    {
     "name": "stdout",
     "output_type": "stream",
     "text": [
      "Train Loss: 0.1284, Train Acc: 0.9514\n",
      "Val Loss: 0.1416, Val Acc: 0.9480\n",
      "Validation loss decreased (0.142694 --> 0.141594).  Saving model ...\n",
      "../WeightsFinal_0.3_model_weights/Weights_replay_500/2018-07/best_model_epoch_10.pt\n",
      "../WeightsFinal_0.3_optimizer_weights/Weights_replay_500/2018-07/best_optimizer_epoch_10.pt\n",
      "Epoch 11 of 500\n"
     ]
    },
    {
     "name": "stderr",
     "output_type": "stream",
     "text": [
      "100%|██████████| 19/19 [00:03<00:00,  5.46it/s]\n",
      "100%|██████████| 6/6 [00:01<00:00,  5.36it/s]\n",
      "  0%|          | 0/19 [00:00<?, ?it/s]"
     ]
    },
    {
     "name": "stdout",
     "output_type": "stream",
     "text": [
      "Train Loss: 0.1259, Train Acc: 0.9528\n",
      "Val Loss: 0.1375, Val Acc: 0.9485\n",
      "Validation loss decreased (0.141594 --> 0.137515).  Saving model ...\n",
      "../WeightsFinal_0.3_model_weights/Weights_replay_500/2018-07/best_model_epoch_11.pt\n",
      "../WeightsFinal_0.3_optimizer_weights/Weights_replay_500/2018-07/best_optimizer_epoch_11.pt\n",
      "Epoch 12 of 500\n"
     ]
    },
    {
     "name": "stderr",
     "output_type": "stream",
     "text": [
      "100%|██████████| 19/19 [00:03<00:00,  5.40it/s]\n",
      "100%|██████████| 6/6 [00:01<00:00,  5.42it/s]\n",
      "  0%|          | 0/19 [00:00<?, ?it/s]"
     ]
    },
    {
     "name": "stdout",
     "output_type": "stream",
     "text": [
      "Train Loss: 0.1251, Train Acc: 0.9529\n",
      "Val Loss: 0.1484, Val Acc: 0.9444\n",
      "EarlyStopping counter: 1 out of 5\n",
      "Epoch 13 of 500\n"
     ]
    },
    {
     "name": "stderr",
     "output_type": "stream",
     "text": [
      "100%|██████████| 19/19 [00:03<00:00,  5.64it/s]\n",
      "100%|██████████| 6/6 [00:01<00:00,  5.84it/s]\n",
      "  0%|          | 0/19 [00:00<?, ?it/s]"
     ]
    },
    {
     "name": "stdout",
     "output_type": "stream",
     "text": [
      "Train Loss: 0.1242, Train Acc: 0.9523\n",
      "Val Loss: 0.1472, Val Acc: 0.9441\n",
      "EarlyStopping counter: 2 out of 5\n",
      "Epoch 14 of 500\n"
     ]
    },
    {
     "name": "stderr",
     "output_type": "stream",
     "text": [
      "100%|██████████| 19/19 [00:03<00:00,  5.95it/s]\n",
      "100%|██████████| 6/6 [00:01<00:00,  5.33it/s]\n",
      "  0%|          | 0/19 [00:00<?, ?it/s]"
     ]
    },
    {
     "name": "stdout",
     "output_type": "stream",
     "text": [
      "Train Loss: 0.1249, Train Acc: 0.9528\n",
      "Val Loss: 0.1467, Val Acc: 0.9455\n",
      "EarlyStopping counter: 3 out of 5\n",
      "Epoch 15 of 500\n"
     ]
    },
    {
     "name": "stderr",
     "output_type": "stream",
     "text": [
      "100%|██████████| 19/19 [00:03<00:00,  5.57it/s]\n",
      "100%|██████████| 6/6 [00:01<00:00,  5.09it/s]\n",
      "  0%|          | 0/19 [00:00<?, ?it/s]"
     ]
    },
    {
     "name": "stdout",
     "output_type": "stream",
     "text": [
      "Train Loss: 0.1323, Train Acc: 0.9491\n",
      "Val Loss: 0.1427, Val Acc: 0.9464\n",
      "EarlyStopping counter: 4 out of 5\n",
      "Epoch 16 of 500\n"
     ]
    },
    {
     "name": "stderr",
     "output_type": "stream",
     "text": [
      "100%|██████████| 19/19 [00:03<00:00,  5.71it/s]\n",
      "100%|██████████| 6/6 [00:00<00:00,  6.32it/s]\n",
      "  0%|          | 0/6 [00:00<?, ?it/s]"
     ]
    },
    {
     "name": "stdout",
     "output_type": "stream",
     "text": [
      "Train Loss: 0.1190, Train Acc: 0.9550\n",
      "Val Loss: 0.1459, Val Acc: 0.9474\n",
      "EarlyStopping counter: 5 out of 5\n",
      "Early stopping\n",
      "Training time: 1.200 minutes\n",
      "loading best model ../WeightsFinal_0.3_model_weights/Weights_replay_500/2018-07/best_model_epoch_11.pt\n",
      "loading best optimizer ../WeightsFinal_0.3_optimizer_weights/Weights_replay_500/2018-07/best_optimizer_epoch_11.pt\n"
     ]
    },
    {
     "name": "stderr",
     "output_type": "stream",
     "text": [
      "100%|██████████| 6/6 [00:01<00:00,  5.00it/s]\n"
     ]
    },
    {
     "name": "stdout",
     "output_type": "stream",
     "text": [
      "test accuracy 0.9479975799719492 and ROC-AUC 0.9480650223544327\n",
      "Elapsed time 12.864700957139332 mins.\n",
      "\n",
      "\n",
      "2023-01-30 12:29:55 Round 2 ...\n",
      "Current Task 2018-08 w/ 500 samples to Replay per Malware family.\n",
      "X_train (40882, 2381) Y_train (40882,) Y_tr_family (40882,)\n",
      "X_test (40087, 2381) Y_test (40087,) Y_te_family (40087,)\n",
      "Task 2018-08 and #-of new samples stored 40882\n"
     ]
    },
    {
     "name": "stderr",
     "output_type": "stream",
     "text": [
      "\r",
      "  0%|          | 0/1 [00:00<?, ?it/s]"
     ]
    },
    {
     "name": "stdout",
     "output_type": "stream",
     "text": [
      "loading best model ../WeightsFinal_0.3_model_weights/Weights_replay_500/2018-07/best_model_epoch_11.pt\n"
     ]
    },
    {
     "name": "stderr",
     "output_type": "stream",
     "text": [
      "100%|██████████| 1/1 [00:00<00:00,  2.44it/s]\n",
      "100%|██████████| 1/1 [00:00<00:00,  2.39it/s]\n",
      "100%|██████████| 1/1 [00:00<00:00,  2.42it/s]\n",
      "100%|██████████| 1/1 [00:00<00:00,  2.29it/s]\n",
      "100%|██████████| 1/1 [00:00<00:00,  2.35it/s]\n",
      "100%|██████████| 1/1 [00:00<00:00,  2.38it/s]\n",
      "100%|██████████| 1/1 [00:00<00:00,  2.42it/s]\n",
      "100%|██████████| 1/1 [00:00<00:00,  2.31it/s]\n",
      "100%|██████████| 1/1 [00:00<00:00,  2.39it/s]\n",
      "100%|██████████| 1/1 [00:00<00:00,  2.31it/s]\n",
      "100%|██████████| 1/1 [00:00<00:00,  2.24it/s]\n",
      "100%|██████████| 1/1 [00:00<00:00,  2.55it/s]\n",
      "100%|██████████| 1/1 [00:00<00:00,  2.64it/s]\n",
      "100%|██████████| 1/1 [00:00<00:00,  2.44it/s]\n",
      "100%|██████████| 1/1 [00:00<00:00,  2.48it/s]\n",
      "100%|██████████| 1/1 [00:00<00:00,  2.25it/s]\n",
      "100%|██████████| 1/1 [00:00<00:00,  2.55it/s]\n",
      "100%|██████████| 1/1 [00:00<00:00,  2.46it/s]\n",
      "100%|██████████| 1/1 [00:00<00:00,  2.46it/s]\n",
      "100%|██████████| 1/1 [00:00<00:00,  2.57it/s]\n",
      "100%|██████████| 1/1 [00:00<00:00,  2.41it/s]\n",
      "100%|██████████| 1/1 [00:00<00:00,  2.38it/s]\n",
      "100%|██████████| 1/1 [00:00<00:00,  2.31it/s]\n",
      "100%|██████████| 1/1 [00:00<00:00,  2.49it/s]\n",
      "100%|██████████| 1/1 [00:00<00:00,  2.56it/s]\n",
      "100%|██████████| 1/1 [00:00<00:00,  2.41it/s]\n",
      "100%|██████████| 1/1 [00:00<00:00,  2.34it/s]\n",
      "100%|██████████| 1/1 [00:00<00:00,  2.40it/s]\n"
     ]
    },
    {
     "name": "stdout",
     "output_type": "stream",
     "text": [
      "2023-01-30 12:30:59 Standardizing ...\n"
     ]
    },
    {
     "name": "stderr",
     "output_type": "stream",
     "text": [
      "\r",
      "  0%|          | 0/20 [00:00<?, ?it/s]"
     ]
    },
    {
     "name": "stdout",
     "output_type": "stream",
     "text": [
      "\n",
      "X_train (125374, 2381) Y_train (125374,)\n",
      "\n",
      "2023-01-30 12:31:09 Training ...\n",
      "Epoch 1 of 500\n"
     ]
    },
    {
     "name": "stderr",
     "output_type": "stream",
     "text": [
      "100%|██████████| 20/20 [00:03<00:00,  5.79it/s]\n",
      "100%|██████████| 7/7 [00:01<00:00,  6.55it/s]\n",
      "  0%|          | 0/20 [00:00<?, ?it/s]"
     ]
    },
    {
     "name": "stdout",
     "output_type": "stream",
     "text": [
      "Train Loss: 0.1453, Train Acc: 0.9446\n",
      "Val Loss: 0.1502, Val Acc: 0.9450\n",
      "Validation loss decreased (inf --> 0.150202).  Saving model ...\n",
      "../WeightsFinal_0.3_model_weights/Weights_replay_500/2018-08/best_model_epoch_1.pt\n",
      "../WeightsFinal_0.3_optimizer_weights/Weights_replay_500/2018-08/best_optimizer_epoch_1.pt\n",
      "Epoch 2 of 500\n"
     ]
    },
    {
     "name": "stderr",
     "output_type": "stream",
     "text": [
      "100%|██████████| 20/20 [00:03<00:00,  6.18it/s]\n",
      "100%|██████████| 7/7 [00:00<00:00,  7.88it/s]\n",
      "  0%|          | 0/20 [00:00<?, ?it/s]"
     ]
    },
    {
     "name": "stdout",
     "output_type": "stream",
     "text": [
      "Train Loss: 0.1461, Train Acc: 0.9437\n",
      "Val Loss: 0.1370, Val Acc: 0.9472\n",
      "Validation loss decreased (0.150202 --> 0.137036).  Saving model ...\n",
      "../WeightsFinal_0.3_model_weights/Weights_replay_500/2018-08/best_model_epoch_2.pt\n",
      "../WeightsFinal_0.3_optimizer_weights/Weights_replay_500/2018-08/best_optimizer_epoch_2.pt\n",
      "Epoch 3 of 500\n"
     ]
    },
    {
     "name": "stderr",
     "output_type": "stream",
     "text": [
      "100%|██████████| 20/20 [00:04<00:00,  4.48it/s]\n",
      "100%|██████████| 7/7 [00:01<00:00,  5.57it/s]\n",
      "  0%|          | 0/20 [00:00<?, ?it/s]"
     ]
    },
    {
     "name": "stdout",
     "output_type": "stream",
     "text": [
      "Train Loss: 0.1432, Train Acc: 0.9446\n",
      "Val Loss: 0.1493, Val Acc: 0.9423\n",
      "EarlyStopping counter: 1 out of 5\n",
      "Epoch 4 of 500\n"
     ]
    },
    {
     "name": "stderr",
     "output_type": "stream",
     "text": [
      "100%|██████████| 20/20 [00:03<00:00,  5.30it/s]\n",
      "100%|██████████| 7/7 [00:01<00:00,  5.65it/s]\n",
      "  0%|          | 0/20 [00:00<?, ?it/s]"
     ]
    },
    {
     "name": "stdout",
     "output_type": "stream",
     "text": [
      "Train Loss: 0.1415, Train Acc: 0.9446\n",
      "Val Loss: 0.1408, Val Acc: 0.9465\n",
      "EarlyStopping counter: 2 out of 5\n",
      "Epoch 5 of 500\n"
     ]
    },
    {
     "name": "stderr",
     "output_type": "stream",
     "text": [
      "100%|██████████| 20/20 [00:04<00:00,  4.84it/s]\n",
      "100%|██████████| 7/7 [00:01<00:00,  5.04it/s]\n",
      "  0%|          | 0/20 [00:00<?, ?it/s]"
     ]
    },
    {
     "name": "stdout",
     "output_type": "stream",
     "text": [
      "Train Loss: 0.1339, Train Acc: 0.9477\n",
      "Val Loss: 0.1422, Val Acc: 0.9464\n",
      "EarlyStopping counter: 3 out of 5\n",
      "Epoch 6 of 500\n"
     ]
    },
    {
     "name": "stderr",
     "output_type": "stream",
     "text": [
      "100%|██████████| 20/20 [00:03<00:00,  5.33it/s]\n",
      "100%|██████████| 7/7 [00:01<00:00,  5.61it/s]\n",
      "  0%|          | 0/20 [00:00<?, ?it/s]"
     ]
    },
    {
     "name": "stdout",
     "output_type": "stream",
     "text": [
      "Train Loss: 0.1348, Train Acc: 0.9484\n",
      "Val Loss: 0.1381, Val Acc: 0.9488\n",
      "EarlyStopping counter: 4 out of 5\n",
      "Epoch 7 of 500\n"
     ]
    },
    {
     "name": "stderr",
     "output_type": "stream",
     "text": [
      "100%|██████████| 20/20 [00:03<00:00,  5.73it/s]\n",
      "100%|██████████| 7/7 [00:01<00:00,  6.25it/s]\n",
      "  0%|          | 0/7 [00:00<?, ?it/s]"
     ]
    },
    {
     "name": "stdout",
     "output_type": "stream",
     "text": [
      "Train Loss: 0.1284, Train Acc: 0.9502\n",
      "Val Loss: 0.1440, Val Acc: 0.9477\n",
      "EarlyStopping counter: 5 out of 5\n",
      "Early stopping\n",
      "Training time: 0.583 minutes\n",
      "loading best model ../WeightsFinal_0.3_model_weights/Weights_replay_500/2018-08/best_model_epoch_2.pt\n",
      "loading best optimizer ../WeightsFinal_0.3_optimizer_weights/Weights_replay_500/2018-08/best_optimizer_epoch_2.pt\n"
     ]
    },
    {
     "name": "stderr",
     "output_type": "stream",
     "text": [
      "100%|██████████| 7/7 [00:01<00:00,  4.64it/s]\n"
     ]
    },
    {
     "name": "stdout",
     "output_type": "stream",
     "text": [
      "test accuracy 0.9475091951234 and ROC-AUC 0.9474796258889522\n",
      "Elapsed time 14.706176729996999 mins.\n",
      "\n",
      "\n",
      "2023-01-30 12:31:46 Round 2 ...\n",
      "Current Task 2018-09 w/ 500 samples to Replay per Malware family.\n",
      "X_train (56492, 2381) Y_train (56492,) Y_tr_family (56492,)\n",
      "X_test (46364, 2381) Y_test (46364,) Y_te_family (46364,)\n"
     ]
    },
    {
     "name": "stderr",
     "output_type": "stream",
     "text": [
      "\r",
      "  0%|          | 0/1 [00:00<?, ?it/s]"
     ]
    },
    {
     "name": "stdout",
     "output_type": "stream",
     "text": [
      "Task 2018-09 and #-of new samples stored 56492\n",
      "loading best model ../WeightsFinal_0.3_model_weights/Weights_replay_500/2018-08/best_model_epoch_2.pt\n"
     ]
    },
    {
     "name": "stderr",
     "output_type": "stream",
     "text": [
      "100%|██████████| 1/1 [00:00<00:00,  2.25it/s]\n",
      "100%|██████████| 1/1 [00:00<00:00,  2.21it/s]\n",
      "100%|██████████| 1/1 [00:00<00:00,  2.19it/s]\n",
      "100%|██████████| 1/1 [00:00<00:00,  2.06it/s]\n",
      "100%|██████████| 1/1 [00:00<00:00,  2.35it/s]\n",
      "100%|██████████| 1/1 [00:00<00:00,  2.11it/s]\n",
      "100%|██████████| 1/1 [00:00<00:00,  2.26it/s]\n",
      "100%|██████████| 1/1 [00:00<00:00,  2.01it/s]\n",
      "100%|██████████| 1/1 [00:00<00:00,  2.27it/s]\n",
      "100%|██████████| 1/1 [00:00<00:00,  2.37it/s]\n",
      "100%|██████████| 1/1 [00:00<00:00,  2.11it/s]\n",
      "100%|██████████| 1/1 [00:00<00:00,  2.22it/s]\n",
      "100%|██████████| 1/1 [00:00<00:00,  2.29it/s]\n",
      "100%|██████████| 1/1 [00:00<00:00,  2.18it/s]\n",
      "100%|██████████| 1/1 [00:00<00:00,  2.39it/s]\n",
      "100%|██████████| 1/1 [00:00<00:00,  2.36it/s]\n",
      "100%|██████████| 1/1 [00:00<00:00,  2.43it/s]\n",
      "100%|██████████| 1/1 [00:00<00:00,  1.92it/s]\n",
      "100%|██████████| 1/1 [00:00<00:00,  2.15it/s]\n",
      "100%|██████████| 1/1 [00:00<00:00,  2.43it/s]\n",
      "100%|██████████| 1/1 [00:00<00:00,  2.38it/s]\n",
      "100%|██████████| 1/1 [00:00<00:00,  2.24it/s]\n",
      "100%|██████████| 1/1 [00:00<00:00,  2.31it/s]\n",
      "100%|██████████| 1/1 [00:00<00:00,  2.29it/s]\n",
      "100%|██████████| 1/1 [00:00<00:00,  2.32it/s]\n",
      "100%|██████████| 1/1 [00:00<00:00,  2.22it/s]\n",
      "100%|██████████| 1/1 [00:00<00:00,  2.35it/s]\n",
      "100%|██████████| 1/1 [00:00<00:00,  2.29it/s]\n",
      "100%|██████████| 1/1 [00:00<00:00,  2.14it/s]\n",
      "100%|██████████| 1/1 [00:00<00:00,  2.37it/s]\n",
      "100%|██████████| 1/1 [00:00<00:00,  2.20it/s]\n",
      "100%|██████████| 1/1 [00:00<00:00,  2.02it/s]\n",
      "100%|██████████| 1/1 [00:00<00:00,  2.00it/s]\n",
      "100%|██████████| 1/1 [00:00<00:00,  2.25it/s]\n",
      "100%|██████████| 1/1 [00:00<00:00,  2.32it/s]\n",
      "100%|██████████| 1/1 [00:00<00:00,  2.33it/s]\n",
      "100%|██████████| 1/1 [00:00<00:00,  2.38it/s]\n",
      "100%|██████████| 1/1 [00:00<00:00,  2.26it/s]\n",
      "100%|██████████| 1/1 [00:00<00:00,  2.14it/s]\n",
      "100%|██████████| 1/1 [00:00<00:00,  2.21it/s]\n",
      "100%|██████████| 1/1 [00:00<00:00,  2.40it/s]\n",
      "100%|██████████| 1/1 [00:00<00:00,  2.33it/s]\n",
      "100%|██████████| 1/1 [00:00<00:00,  2.07it/s]\n"
     ]
    },
    {
     "name": "stdout",
     "output_type": "stream",
     "text": [
      "2023-01-30 12:33:10 Standardizing ...\n"
     ]
    },
    {
     "name": "stderr",
     "output_type": "stream",
     "text": [
      "\r",
      "  0%|          | 0/23 [00:00<?, ?it/s]"
     ]
    },
    {
     "name": "stdout",
     "output_type": "stream",
     "text": [
      "\n",
      "X_train (143046, 2381) Y_train (143046,)\n",
      "\n",
      "2023-01-30 12:33:20 Training ...\n",
      "Epoch 1 of 500\n"
     ]
    },
    {
     "name": "stderr",
     "output_type": "stream",
     "text": [
      "100%|██████████| 23/23 [00:03<00:00,  6.22it/s]\n",
      "100%|██████████| 8/8 [00:01<00:00,  5.96it/s]\n",
      "  0%|          | 0/23 [00:00<?, ?it/s]"
     ]
    },
    {
     "name": "stdout",
     "output_type": "stream",
     "text": [
      "Train Loss: 0.1669, Train Acc: 0.9347\n",
      "Val Loss: 0.1501, Val Acc: 0.9439\n",
      "Validation loss decreased (inf --> 0.150072).  Saving model ...\n",
      "../WeightsFinal_0.3_model_weights/Weights_replay_500/2018-09/best_model_epoch_1.pt\n",
      "../WeightsFinal_0.3_optimizer_weights/Weights_replay_500/2018-09/best_optimizer_epoch_1.pt\n",
      "Epoch 2 of 500\n"
     ]
    },
    {
     "name": "stderr",
     "output_type": "stream",
     "text": [
      "100%|██████████| 23/23 [00:03<00:00,  6.33it/s]\n",
      "100%|██████████| 8/8 [00:01<00:00,  6.68it/s]\n",
      "  0%|          | 0/23 [00:00<?, ?it/s]"
     ]
    },
    {
     "name": "stdout",
     "output_type": "stream",
     "text": [
      "Train Loss: 0.1608, Train Acc: 0.9366\n",
      "Val Loss: 0.1710, Val Acc: 0.9335\n",
      "EarlyStopping counter: 1 out of 5\n",
      "Epoch 3 of 500\n"
     ]
    },
    {
     "name": "stderr",
     "output_type": "stream",
     "text": [
      "100%|██████████| 23/23 [00:04<00:00,  5.07it/s]\n",
      "100%|██████████| 8/8 [00:01<00:00,  6.06it/s]\n",
      "  0%|          | 0/23 [00:00<?, ?it/s]"
     ]
    },
    {
     "name": "stdout",
     "output_type": "stream",
     "text": [
      "Train Loss: 0.1612, Train Acc: 0.9373\n",
      "Val Loss: 0.1383, Val Acc: 0.9482\n",
      "Validation loss decreased (0.150072 --> 0.138345).  Saving model ...\n",
      "../WeightsFinal_0.3_model_weights/Weights_replay_500/2018-09/best_model_epoch_3.pt\n",
      "../WeightsFinal_0.3_optimizer_weights/Weights_replay_500/2018-09/best_optimizer_epoch_3.pt\n",
      "Epoch 4 of 500\n"
     ]
    },
    {
     "name": "stderr",
     "output_type": "stream",
     "text": [
      "100%|██████████| 23/23 [00:04<00:00,  5.10it/s]\n",
      "100%|██████████| 8/8 [00:01<00:00,  5.62it/s]\n",
      "  0%|          | 0/23 [00:00<?, ?it/s]"
     ]
    },
    {
     "name": "stdout",
     "output_type": "stream",
     "text": [
      "Train Loss: 0.1544, Train Acc: 0.9393\n",
      "Val Loss: 0.1363, Val Acc: 0.9484\n",
      "Validation loss decreased (0.138345 --> 0.136274).  Saving model ...\n",
      "../WeightsFinal_0.3_model_weights/Weights_replay_500/2018-09/best_model_epoch_4.pt\n",
      "../WeightsFinal_0.3_optimizer_weights/Weights_replay_500/2018-09/best_optimizer_epoch_4.pt\n",
      "Epoch 5 of 500\n"
     ]
    },
    {
     "name": "stderr",
     "output_type": "stream",
     "text": [
      "100%|██████████| 23/23 [00:03<00:00,  6.01it/s]\n",
      "100%|██████████| 8/8 [00:01<00:00,  6.73it/s]\n",
      "  0%|          | 0/23 [00:00<?, ?it/s]"
     ]
    },
    {
     "name": "stdout",
     "output_type": "stream",
     "text": [
      "Train Loss: 0.1448, Train Acc: 0.9437\n",
      "Val Loss: 0.1448, Val Acc: 0.9430\n",
      "EarlyStopping counter: 1 out of 5\n",
      "Epoch 6 of 500\n"
     ]
    },
    {
     "name": "stderr",
     "output_type": "stream",
     "text": [
      "100%|██████████| 23/23 [00:04<00:00,  5.53it/s]\n",
      "100%|██████████| 8/8 [00:01<00:00,  6.63it/s]\n",
      "  0%|          | 0/23 [00:00<?, ?it/s]"
     ]
    },
    {
     "name": "stdout",
     "output_type": "stream",
     "text": [
      "Train Loss: 0.1463, Train Acc: 0.9421\n",
      "Val Loss: 0.1462, Val Acc: 0.9437\n",
      "EarlyStopping counter: 2 out of 5\n",
      "Epoch 7 of 500\n"
     ]
    },
    {
     "name": "stderr",
     "output_type": "stream",
     "text": [
      "100%|██████████| 23/23 [00:04<00:00,  5.30it/s]\n",
      "100%|██████████| 8/8 [00:01<00:00,  5.76it/s]\n",
      "  0%|          | 0/23 [00:00<?, ?it/s]"
     ]
    },
    {
     "name": "stdout",
     "output_type": "stream",
     "text": [
      "Train Loss: 0.1384, Train Acc: 0.9460\n",
      "Val Loss: 0.1429, Val Acc: 0.9475\n",
      "EarlyStopping counter: 3 out of 5\n",
      "Epoch 8 of 500\n"
     ]
    },
    {
     "name": "stderr",
     "output_type": "stream",
     "text": [
      "100%|██████████| 23/23 [00:04<00:00,  4.89it/s]\n",
      "100%|██████████| 8/8 [00:01<00:00,  7.92it/s]\n",
      "  0%|          | 0/23 [00:00<?, ?it/s]"
     ]
    },
    {
     "name": "stdout",
     "output_type": "stream",
     "text": [
      "Train Loss: 0.1386, Train Acc: 0.9455\n",
      "Val Loss: 0.1453, Val Acc: 0.9452\n",
      "EarlyStopping counter: 4 out of 5\n",
      "Epoch 9 of 500\n"
     ]
    },
    {
     "name": "stderr",
     "output_type": "stream",
     "text": [
      "100%|██████████| 23/23 [00:04<00:00,  4.99it/s]\n",
      "100%|██████████| 8/8 [00:01<00:00,  6.43it/s]\n",
      "  0%|          | 0/8 [00:00<?, ?it/s]"
     ]
    },
    {
     "name": "stdout",
     "output_type": "stream",
     "text": [
      "Train Loss: 0.1393, Train Acc: 0.9454\n",
      "Val Loss: 0.1479, Val Acc: 0.9423\n",
      "EarlyStopping counter: 5 out of 5\n",
      "Early stopping\n",
      "Training time: 0.832 minutes\n",
      "loading best model ../WeightsFinal_0.3_model_weights/Weights_replay_500/2018-09/best_model_epoch_4.pt\n",
      "loading best optimizer ../WeightsFinal_0.3_optimizer_weights/Weights_replay_500/2018-09/best_optimizer_epoch_4.pt\n"
     ]
    },
    {
     "name": "stderr",
     "output_type": "stream",
     "text": [
      "100%|██████████| 8/8 [00:01<00:00,  4.22it/s]\n"
     ]
    },
    {
     "name": "stdout",
     "output_type": "stream",
     "text": [
      "test accuracy 0.9463104903697968 and ROC-AUC 0.9465217317801256\n",
      "Elapsed time 17.147683850924174 mins.\n",
      "\n",
      "\n",
      "2023-01-30 12:34:12 Round 2 ...\n",
      "Current Task 2018-10 w/ 500 samples to Replay per Malware family.\n",
      "X_train (77772, 2381) Y_train (77772,) Y_tr_family (77772,)\n",
      "X_test (55006, 2381) Y_test (55006,) Y_te_family (55006,)\n"
     ]
    },
    {
     "name": "stderr",
     "output_type": "stream",
     "text": [
      "\r",
      "  0%|          | 0/1 [00:00<?, ?it/s]"
     ]
    },
    {
     "name": "stdout",
     "output_type": "stream",
     "text": [
      "Task 2018-10 and #-of new samples stored 77772\n",
      "loading best model ../WeightsFinal_0.3_model_weights/Weights_replay_500/2018-09/best_model_epoch_4.pt\n"
     ]
    },
    {
     "name": "stderr",
     "output_type": "stream",
     "text": [
      "100%|██████████| 1/1 [00:00<00:00,  2.15it/s]\n",
      "100%|██████████| 1/1 [00:00<00:00,  2.27it/s]\n",
      "100%|██████████| 1/1 [00:00<00:00,  1.99it/s]\n",
      "100%|██████████| 2/2 [00:00<00:00,  2.92it/s]\n",
      "100%|██████████| 1/1 [00:00<00:00,  2.02it/s]\n",
      "100%|██████████| 1/1 [00:00<00:00,  2.33it/s]\n",
      "100%|██████████| 1/1 [00:00<00:00,  2.37it/s]\n",
      "100%|██████████| 1/1 [00:00<00:00,  2.22it/s]\n",
      "100%|██████████| 1/1 [00:00<00:00,  2.22it/s]\n",
      "100%|██████████| 2/2 [00:00<00:00,  2.96it/s]\n",
      "100%|██████████| 1/1 [00:00<00:00,  2.36it/s]\n",
      "100%|██████████| 1/1 [00:00<00:00,  2.38it/s]\n",
      "100%|██████████| 1/1 [00:00<00:00,  1.88it/s]\n",
      "100%|██████████| 2/2 [00:00<00:00,  2.99it/s]\n",
      "100%|██████████| 1/1 [00:00<00:00,  2.39it/s]\n",
      "100%|██████████| 1/1 [00:00<00:00,  2.30it/s]\n",
      "100%|██████████| 1/1 [00:00<00:00,  2.24it/s]\n",
      "100%|██████████| 1/1 [00:00<00:00,  2.21it/s]\n",
      "100%|██████████| 1/1 [00:00<00:00,  1.87it/s]\n",
      "100%|██████████| 1/1 [00:00<00:00,  2.20it/s]\n",
      "100%|██████████| 1/1 [00:00<00:00,  2.21it/s]\n",
      "100%|██████████| 3/3 [00:01<00:00,  2.62it/s]\n",
      "100%|██████████| 1/1 [00:00<00:00,  2.04it/s]\n",
      "100%|██████████| 1/1 [00:00<00:00,  2.15it/s]\n",
      "100%|██████████| 1/1 [00:00<00:00,  2.15it/s]\n"
     ]
    },
    {
     "name": "stdout",
     "output_type": "stream",
     "text": [
      "2023-01-30 12:35:27 Standardizing ...\n"
     ]
    },
    {
     "name": "stderr",
     "output_type": "stream",
     "text": [
      "\r",
      "  0%|          | 0/27 [00:00<?, ?it/s]"
     ]
    },
    {
     "name": "stdout",
     "output_type": "stream",
     "text": [
      "\n",
      "X_train (164210, 2381) Y_train (164210,)\n",
      "\n",
      "2023-01-30 12:35:38 Training ...\n",
      "Epoch 1 of 500\n"
     ]
    },
    {
     "name": "stderr",
     "output_type": "stream",
     "text": [
      "100%|██████████| 27/27 [00:04<00:00,  6.32it/s]\n",
      "100%|██████████| 10/10 [00:01<00:00,  7.71it/s]\n",
      "  0%|          | 0/27 [00:00<?, ?it/s]"
     ]
    },
    {
     "name": "stdout",
     "output_type": "stream",
     "text": [
      "Train Loss: 0.1904, Train Acc: 0.9281\n",
      "Val Loss: 0.1495, Val Acc: 0.9426\n",
      "Validation loss decreased (inf --> 0.149482).  Saving model ...\n",
      "../WeightsFinal_0.3_model_weights/Weights_replay_500/2018-10/best_model_epoch_1.pt\n",
      "../WeightsFinal_0.3_optimizer_weights/Weights_replay_500/2018-10/best_optimizer_epoch_1.pt\n",
      "Epoch 2 of 500\n"
     ]
    },
    {
     "name": "stderr",
     "output_type": "stream",
     "text": [
      "100%|██████████| 27/27 [00:04<00:00,  6.61it/s]\n",
      "100%|██████████| 10/10 [00:01<00:00,  8.59it/s]\n",
      "  0%|          | 0/27 [00:00<?, ?it/s]"
     ]
    },
    {
     "name": "stdout",
     "output_type": "stream",
     "text": [
      "Train Loss: 0.1771, Train Acc: 0.9318\n",
      "Val Loss: 0.1456, Val Acc: 0.9450\n",
      "Validation loss decreased (0.149482 --> 0.145616).  Saving model ...\n",
      "../WeightsFinal_0.3_model_weights/Weights_replay_500/2018-10/best_model_epoch_2.pt\n",
      "../WeightsFinal_0.3_optimizer_weights/Weights_replay_500/2018-10/best_optimizer_epoch_2.pt\n",
      "Epoch 3 of 500\n"
     ]
    },
    {
     "name": "stderr",
     "output_type": "stream",
     "text": [
      "100%|██████████| 27/27 [00:05<00:00,  4.92it/s]\n",
      "100%|██████████| 10/10 [00:01<00:00,  8.19it/s]\n",
      "  0%|          | 0/27 [00:00<?, ?it/s]"
     ]
    },
    {
     "name": "stdout",
     "output_type": "stream",
     "text": [
      "Train Loss: 0.1711, Train Acc: 0.9340\n",
      "Val Loss: 0.1442, Val Acc: 0.9454\n",
      "Validation loss decreased (0.145616 --> 0.144181).  Saving model ...\n",
      "../WeightsFinal_0.3_model_weights/Weights_replay_500/2018-10/best_model_epoch_3.pt\n",
      "../WeightsFinal_0.3_optimizer_weights/Weights_replay_500/2018-10/best_optimizer_epoch_3.pt\n",
      "Epoch 4 of 500\n"
     ]
    },
    {
     "name": "stderr",
     "output_type": "stream",
     "text": [
      "100%|██████████| 27/27 [00:04<00:00,  6.36it/s]\n",
      "100%|██████████| 10/10 [00:01<00:00,  8.98it/s]\n",
      "  0%|          | 0/27 [00:00<?, ?it/s]"
     ]
    },
    {
     "name": "stdout",
     "output_type": "stream",
     "text": [
      "Train Loss: 0.1677, Train Acc: 0.9333\n",
      "Val Loss: 0.1441, Val Acc: 0.9458\n",
      "Validation loss decreased (0.144181 --> 0.144062).  Saving model ...\n",
      "../WeightsFinal_0.3_model_weights/Weights_replay_500/2018-10/best_model_epoch_4.pt\n",
      "../WeightsFinal_0.3_optimizer_weights/Weights_replay_500/2018-10/best_optimizer_epoch_4.pt\n",
      "Epoch 5 of 500\n"
     ]
    },
    {
     "name": "stderr",
     "output_type": "stream",
     "text": [
      "100%|██████████| 27/27 [00:04<00:00,  5.81it/s]\n",
      "100%|██████████| 10/10 [00:01<00:00,  9.16it/s]\n",
      "  0%|          | 0/27 [00:00<?, ?it/s]"
     ]
    },
    {
     "name": "stdout",
     "output_type": "stream",
     "text": [
      "Train Loss: 0.1563, Train Acc: 0.9387\n",
      "Val Loss: 0.1479, Val Acc: 0.9433\n",
      "EarlyStopping counter: 1 out of 5\n",
      "Epoch 6 of 500\n"
     ]
    },
    {
     "name": "stderr",
     "output_type": "stream",
     "text": [
      "100%|██████████| 27/27 [00:04<00:00,  5.55it/s]\n",
      "100%|██████████| 10/10 [00:01<00:00,  7.29it/s]\n",
      "  0%|          | 0/27 [00:00<?, ?it/s]"
     ]
    },
    {
     "name": "stdout",
     "output_type": "stream",
     "text": [
      "Train Loss: 0.1574, Train Acc: 0.9384\n",
      "Val Loss: 0.1433, Val Acc: 0.9451\n",
      "Validation loss decreased (0.144062 --> 0.143261).  Saving model ...\n",
      "../WeightsFinal_0.3_model_weights/Weights_replay_500/2018-10/best_model_epoch_6.pt\n",
      "../WeightsFinal_0.3_optimizer_weights/Weights_replay_500/2018-10/best_optimizer_epoch_6.pt\n",
      "Epoch 7 of 500\n"
     ]
    },
    {
     "name": "stderr",
     "output_type": "stream",
     "text": [
      "100%|██████████| 27/27 [00:05<00:00,  5.19it/s]\n",
      "100%|██████████| 10/10 [00:01<00:00,  7.74it/s]\n",
      "  0%|          | 0/27 [00:00<?, ?it/s]"
     ]
    },
    {
     "name": "stdout",
     "output_type": "stream",
     "text": [
      "Train Loss: 0.1576, Train Acc: 0.9382\n",
      "Val Loss: 0.1498, Val Acc: 0.9412\n",
      "EarlyStopping counter: 1 out of 5\n",
      "Epoch 8 of 500\n"
     ]
    },
    {
     "name": "stderr",
     "output_type": "stream",
     "text": [
      "100%|██████████| 27/27 [00:05<00:00,  5.38it/s]\n",
      "100%|██████████| 10/10 [00:01<00:00,  6.40it/s]\n",
      "  0%|          | 0/27 [00:00<?, ?it/s]"
     ]
    },
    {
     "name": "stdout",
     "output_type": "stream",
     "text": [
      "Train Loss: 0.1524, Train Acc: 0.9409\n",
      "Val Loss: 0.1341, Val Acc: 0.9482\n",
      "Validation loss decreased (0.143261 --> 0.134133).  Saving model ...\n",
      "../WeightsFinal_0.3_model_weights/Weights_replay_500/2018-10/best_model_epoch_8.pt\n",
      "../WeightsFinal_0.3_optimizer_weights/Weights_replay_500/2018-10/best_optimizer_epoch_8.pt\n",
      "Epoch 9 of 500\n"
     ]
    },
    {
     "name": "stderr",
     "output_type": "stream",
     "text": [
      "100%|██████████| 27/27 [00:04<00:00,  5.87it/s]\n",
      "100%|██████████| 10/10 [00:01<00:00,  6.96it/s]\n",
      "  0%|          | 0/27 [00:00<?, ?it/s]"
     ]
    },
    {
     "name": "stdout",
     "output_type": "stream",
     "text": [
      "Train Loss: 0.1573, Train Acc: 0.9384\n",
      "Val Loss: 0.1354, Val Acc: 0.9487\n",
      "EarlyStopping counter: 1 out of 5\n",
      "Epoch 10 of 500\n"
     ]
    },
    {
     "name": "stderr",
     "output_type": "stream",
     "text": [
      "100%|██████████| 27/27 [00:04<00:00,  6.05it/s]\n",
      "100%|██████████| 10/10 [00:01<00:00,  6.25it/s]\n",
      "  0%|          | 0/27 [00:00<?, ?it/s]"
     ]
    },
    {
     "name": "stdout",
     "output_type": "stream",
     "text": [
      "Train Loss: 0.1436, Train Acc: 0.9442\n",
      "Val Loss: 0.1376, Val Acc: 0.9486\n",
      "EarlyStopping counter: 2 out of 5\n",
      "Epoch 11 of 500\n"
     ]
    },
    {
     "name": "stderr",
     "output_type": "stream",
     "text": [
      "100%|██████████| 27/27 [00:04<00:00,  6.45it/s]\n",
      "100%|██████████| 10/10 [00:01<00:00,  6.99it/s]\n",
      "  0%|          | 0/27 [00:00<?, ?it/s]"
     ]
    },
    {
     "name": "stdout",
     "output_type": "stream",
     "text": [
      "Train Loss: 0.1405, Train Acc: 0.9462\n",
      "Val Loss: 0.1352, Val Acc: 0.9495\n",
      "EarlyStopping counter: 3 out of 5\n",
      "Epoch 12 of 500\n"
     ]
    },
    {
     "name": "stderr",
     "output_type": "stream",
     "text": [
      "100%|██████████| 27/27 [00:04<00:00,  6.45it/s]\n",
      "100%|██████████| 10/10 [00:01<00:00,  6.75it/s]\n",
      "  0%|          | 0/27 [00:00<?, ?it/s]"
     ]
    },
    {
     "name": "stdout",
     "output_type": "stream",
     "text": [
      "Train Loss: 0.1423, Train Acc: 0.9451\n",
      "Val Loss: 0.1400, Val Acc: 0.9473\n",
      "EarlyStopping counter: 4 out of 5\n",
      "Epoch 13 of 500\n"
     ]
    },
    {
     "name": "stderr",
     "output_type": "stream",
     "text": [
      "100%|██████████| 27/27 [00:04<00:00,  6.30it/s]\n",
      "100%|██████████| 10/10 [00:01<00:00,  6.85it/s]\n",
      "  0%|          | 0/27 [00:00<?, ?it/s]"
     ]
    },
    {
     "name": "stdout",
     "output_type": "stream",
     "text": [
      "Train Loss: 0.1400, Train Acc: 0.9458\n",
      "Val Loss: 0.1332, Val Acc: 0.9498\n",
      "Validation loss decreased (0.134133 --> 0.133205).  Saving model ...\n",
      "../WeightsFinal_0.3_model_weights/Weights_replay_500/2018-10/best_model_epoch_13.pt\n",
      "../WeightsFinal_0.3_optimizer_weights/Weights_replay_500/2018-10/best_optimizer_epoch_13.pt\n",
      "Epoch 14 of 500\n"
     ]
    },
    {
     "name": "stderr",
     "output_type": "stream",
     "text": [
      "100%|██████████| 27/27 [00:04<00:00,  6.44it/s]\n",
      "100%|██████████| 10/10 [00:01<00:00,  7.08it/s]\n",
      "  0%|          | 0/27 [00:00<?, ?it/s]"
     ]
    },
    {
     "name": "stdout",
     "output_type": "stream",
     "text": [
      "Train Loss: 0.1387, Train Acc: 0.9463\n",
      "Val Loss: 0.1474, Val Acc: 0.9449\n",
      "EarlyStopping counter: 1 out of 5\n",
      "Epoch 15 of 500\n"
     ]
    },
    {
     "name": "stderr",
     "output_type": "stream",
     "text": [
      "100%|██████████| 27/27 [00:04<00:00,  5.97it/s]\n",
      "100%|██████████| 10/10 [00:01<00:00,  6.19it/s]\n",
      "  0%|          | 0/27 [00:00<?, ?it/s]"
     ]
    },
    {
     "name": "stdout",
     "output_type": "stream",
     "text": [
      "Train Loss: 0.1397, Train Acc: 0.9459\n",
      "Val Loss: 0.1308, Val Acc: 0.9501\n",
      "Validation loss decreased (0.133205 --> 0.130824).  Saving model ...\n",
      "../WeightsFinal_0.3_model_weights/Weights_replay_500/2018-10/best_model_epoch_15.pt\n",
      "../WeightsFinal_0.3_optimizer_weights/Weights_replay_500/2018-10/best_optimizer_epoch_15.pt\n",
      "Epoch 16 of 500\n"
     ]
    },
    {
     "name": "stderr",
     "output_type": "stream",
     "text": [
      "100%|██████████| 27/27 [00:04<00:00,  6.27it/s]\n",
      "100%|██████████| 10/10 [00:01<00:00,  7.98it/s]\n",
      "  0%|          | 0/27 [00:00<?, ?it/s]"
     ]
    },
    {
     "name": "stdout",
     "output_type": "stream",
     "text": [
      "Train Loss: 0.1384, Train Acc: 0.9461\n",
      "Val Loss: 0.1335, Val Acc: 0.9492\n",
      "EarlyStopping counter: 1 out of 5\n",
      "Epoch 17 of 500\n"
     ]
    },
    {
     "name": "stderr",
     "output_type": "stream",
     "text": [
      "100%|██████████| 27/27 [00:04<00:00,  6.31it/s]\n",
      "100%|██████████| 10/10 [00:01<00:00,  7.14it/s]\n",
      "  0%|          | 0/27 [00:00<?, ?it/s]"
     ]
    },
    {
     "name": "stdout",
     "output_type": "stream",
     "text": [
      "Train Loss: 0.1333, Train Acc: 0.9475\n",
      "Val Loss: 0.1344, Val Acc: 0.9502\n",
      "EarlyStopping counter: 2 out of 5\n",
      "Epoch 18 of 500\n"
     ]
    },
    {
     "name": "stderr",
     "output_type": "stream",
     "text": [
      "100%|██████████| 27/27 [00:04<00:00,  6.38it/s]\n",
      "100%|██████████| 10/10 [00:01<00:00,  6.84it/s]\n",
      "  0%|          | 0/27 [00:00<?, ?it/s]"
     ]
    },
    {
     "name": "stdout",
     "output_type": "stream",
     "text": [
      "Train Loss: 0.1294, Train Acc: 0.9492\n",
      "Val Loss: 0.1359, Val Acc: 0.9455\n",
      "EarlyStopping counter: 3 out of 5\n",
      "Epoch 19 of 500\n"
     ]
    },
    {
     "name": "stderr",
     "output_type": "stream",
     "text": [
      "100%|██████████| 27/27 [00:04<00:00,  6.28it/s]\n",
      "100%|██████████| 10/10 [00:01<00:00,  8.17it/s]\n",
      "  0%|          | 0/27 [00:00<?, ?it/s]"
     ]
    },
    {
     "name": "stdout",
     "output_type": "stream",
     "text": [
      "Train Loss: 0.1334, Train Acc: 0.9486\n",
      "Val Loss: 0.1276, Val Acc: 0.9526\n",
      "Validation loss decreased (0.130824 --> 0.127589).  Saving model ...\n",
      "../WeightsFinal_0.3_model_weights/Weights_replay_500/2018-10/best_model_epoch_19.pt\n",
      "../WeightsFinal_0.3_optimizer_weights/Weights_replay_500/2018-10/best_optimizer_epoch_19.pt\n",
      "Epoch 20 of 500\n"
     ]
    },
    {
     "name": "stderr",
     "output_type": "stream",
     "text": [
      "100%|██████████| 27/27 [00:04<00:00,  6.38it/s]\n",
      "100%|██████████| 10/10 [00:01<00:00,  7.88it/s]\n",
      "  0%|          | 0/27 [00:00<?, ?it/s]"
     ]
    },
    {
     "name": "stdout",
     "output_type": "stream",
     "text": [
      "Train Loss: 0.1304, Train Acc: 0.9492\n",
      "Val Loss: 0.1314, Val Acc: 0.9510\n",
      "EarlyStopping counter: 1 out of 5\n",
      "Epoch 21 of 500\n"
     ]
    },
    {
     "name": "stderr",
     "output_type": "stream",
     "text": [
      "100%|██████████| 27/27 [00:04<00:00,  6.25it/s]\n",
      "100%|██████████| 10/10 [00:01<00:00,  8.13it/s]\n",
      "  0%|          | 0/27 [00:00<?, ?it/s]"
     ]
    },
    {
     "name": "stdout",
     "output_type": "stream",
     "text": [
      "Train Loss: 0.1257, Train Acc: 0.9517\n",
      "Val Loss: 0.1352, Val Acc: 0.9496\n",
      "EarlyStopping counter: 2 out of 5\n",
      "Epoch 22 of 500\n"
     ]
    },
    {
     "name": "stderr",
     "output_type": "stream",
     "text": [
      "100%|██████████| 27/27 [00:04<00:00,  5.67it/s]\n",
      "100%|██████████| 10/10 [00:01<00:00,  6.69it/s]\n",
      "  0%|          | 0/27 [00:00<?, ?it/s]"
     ]
    },
    {
     "name": "stdout",
     "output_type": "stream",
     "text": [
      "Train Loss: 0.1271, Train Acc: 0.9515\n",
      "Val Loss: 0.1295, Val Acc: 0.9529\n",
      "EarlyStopping counter: 3 out of 5\n",
      "Epoch 23 of 500\n"
     ]
    },
    {
     "name": "stderr",
     "output_type": "stream",
     "text": [
      "100%|██████████| 27/27 [00:04<00:00,  6.00it/s]\n",
      "100%|██████████| 10/10 [00:01<00:00,  9.76it/s]\n",
      "  0%|          | 0/27 [00:00<?, ?it/s]"
     ]
    },
    {
     "name": "stdout",
     "output_type": "stream",
     "text": [
      "Train Loss: 0.1219, Train Acc: 0.9529\n",
      "Val Loss: 0.1276, Val Acc: 0.9525\n",
      "EarlyStopping counter: 4 out of 5\n",
      "Epoch 24 of 500\n"
     ]
    },
    {
     "name": "stderr",
     "output_type": "stream",
     "text": [
      "100%|██████████| 27/27 [00:04<00:00,  6.17it/s]\n",
      "100%|██████████| 10/10 [00:01<00:00,  6.90it/s]\n",
      "  0%|          | 0/10 [00:00<?, ?it/s]"
     ]
    },
    {
     "name": "stdout",
     "output_type": "stream",
     "text": [
      "Train Loss: 0.1198, Train Acc: 0.9544\n",
      "Val Loss: 0.1295, Val Acc: 0.9528\n",
      "EarlyStopping counter: 5 out of 5\n",
      "Early stopping\n",
      "Training time: 2.357 minutes\n",
      "loading best model ../WeightsFinal_0.3_model_weights/Weights_replay_500/2018-10/best_model_epoch_19.pt\n",
      "loading best optimizer ../WeightsFinal_0.3_optimizer_weights/Weights_replay_500/2018-10/best_optimizer_epoch_19.pt\n"
     ]
    },
    {
     "name": "stderr",
     "output_type": "stream",
     "text": [
      "100%|██████████| 10/10 [00:02<00:00,  4.85it/s]\n"
     ]
    },
    {
     "name": "stdout",
     "output_type": "stream",
     "text": [
      "test accuracy 0.9530476748943328 and ROC-AUC 0.9534544796639266\n",
      "Elapsed time 20.97898739973704 mins.\n",
      "\n",
      "\n",
      "2023-01-30 12:38:02 Round 2 ...\n",
      "Current Task 2018-11 w/ 500 samples to Replay per Malware family.\n",
      "X_train (90000, 2381) Y_train (90000,) Y_tr_family (90000,)\n",
      "X_test (65006, 2381) Y_test (65006,) Y_te_family (65006,)\n"
     ]
    },
    {
     "name": "stderr",
     "output_type": "stream",
     "text": [
      "\r",
      "  0%|          | 0/1 [00:00<?, ?it/s]"
     ]
    },
    {
     "name": "stdout",
     "output_type": "stream",
     "text": [
      "Task 2018-11 and #-of new samples stored 90000\n",
      "loading best model ../WeightsFinal_0.3_model_weights/Weights_replay_500/2018-10/best_model_epoch_19.pt\n"
     ]
    },
    {
     "name": "stderr",
     "output_type": "stream",
     "text": [
      "100%|██████████| 1/1 [00:00<00:00,  1.75it/s]\n",
      "100%|██████████| 1/1 [00:00<00:00,  1.91it/s]\n",
      "100%|██████████| 1/1 [00:00<00:00,  1.62it/s]\n",
      "100%|██████████| 2/2 [00:00<00:00,  2.83it/s]\n",
      "100%|██████████| 1/1 [00:00<00:00,  1.65it/s]\n",
      "100%|██████████| 1/1 [00:00<00:00,  1.70it/s]\n",
      "100%|██████████| 1/1 [00:00<00:00,  1.90it/s]\n",
      "100%|██████████| 1/1 [00:00<00:00,  1.89it/s]\n",
      "100%|██████████| 1/1 [00:00<00:00,  1.49it/s]\n",
      "100%|██████████| 1/1 [00:00<00:00,  1.98it/s]\n",
      "100%|██████████| 1/1 [00:00<00:00,  1.91it/s]\n",
      "100%|██████████| 1/1 [00:00<00:00,  1.74it/s]\n",
      "100%|██████████| 2/2 [00:00<00:00,  2.66it/s]\n",
      "100%|██████████| 1/1 [00:00<00:00,  2.07it/s]\n",
      "100%|██████████| 1/1 [00:00<00:00,  1.97it/s]\n",
      "100%|██████████| 1/1 [00:00<00:00,  2.01it/s]\n",
      "100%|██████████| 1/1 [00:00<00:00,  1.82it/s]\n",
      "100%|██████████| 1/1 [00:00<00:00,  1.78it/s]\n",
      "100%|██████████| 1/1 [00:00<00:00,  2.10it/s]\n",
      "100%|██████████| 1/1 [00:00<00:00,  2.07it/s]\n",
      "100%|██████████| 3/3 [00:01<00:00,  2.82it/s]\n",
      "100%|██████████| 1/1 [00:00<00:00,  1.88it/s]\n",
      "100%|██████████| 1/1 [00:00<00:00,  2.06it/s]\n",
      "100%|██████████| 1/1 [00:00<00:00,  2.06it/s]\n",
      "100%|██████████| 1/1 [00:00<00:00,  2.02it/s]\n",
      "100%|██████████| 1/1 [00:00<00:00,  2.05it/s]\n",
      "100%|██████████| 1/1 [00:00<00:00,  1.98it/s]\n"
     ]
    },
    {
     "name": "stdout",
     "output_type": "stream",
     "text": [
      "2023-01-30 12:39:38 Standardizing ...\n"
     ]
    },
    {
     "name": "stderr",
     "output_type": "stream",
     "text": [
      "\r",
      "  0%|          | 0/28 [00:00<?, ?it/s]"
     ]
    },
    {
     "name": "stdout",
     "output_type": "stream",
     "text": [
      "\n",
      "X_train (170464, 2381) Y_train (170464,)\n",
      "\n",
      "2023-01-30 12:39:50 Training ...\n",
      "Epoch 1 of 500\n"
     ]
    },
    {
     "name": "stderr",
     "output_type": "stream",
     "text": [
      "100%|██████████| 28/28 [00:04<00:00,  6.26it/s]\n",
      "100%|██████████| 11/11 [00:01<00:00,  6.83it/s]\n",
      "  0%|          | 0/28 [00:00<?, ?it/s]"
     ]
    },
    {
     "name": "stdout",
     "output_type": "stream",
     "text": [
      "Train Loss: 0.1765, Train Acc: 0.9323\n",
      "Val Loss: 0.1494, Val Acc: 0.9432\n",
      "Validation loss decreased (inf --> 0.149430).  Saving model ...\n",
      "../WeightsFinal_0.3_model_weights/Weights_replay_500/2018-11/best_model_epoch_1.pt\n",
      "../WeightsFinal_0.3_optimizer_weights/Weights_replay_500/2018-11/best_optimizer_epoch_1.pt\n",
      "Epoch 2 of 500\n"
     ]
    },
    {
     "name": "stderr",
     "output_type": "stream",
     "text": [
      "100%|██████████| 28/28 [00:05<00:00,  5.56it/s]\n",
      "100%|██████████| 11/11 [00:01<00:00,  5.53it/s]\n",
      "  0%|          | 0/28 [00:00<?, ?it/s]"
     ]
    },
    {
     "name": "stdout",
     "output_type": "stream",
     "text": [
      "Train Loss: 0.1944, Train Acc: 0.9250\n",
      "Val Loss: 0.1413, Val Acc: 0.9441\n",
      "Validation loss decreased (0.149430 --> 0.141310).  Saving model ...\n",
      "../WeightsFinal_0.3_model_weights/Weights_replay_500/2018-11/best_model_epoch_2.pt\n",
      "../WeightsFinal_0.3_optimizer_weights/Weights_replay_500/2018-11/best_optimizer_epoch_2.pt\n",
      "Epoch 3 of 500\n"
     ]
    },
    {
     "name": "stderr",
     "output_type": "stream",
     "text": [
      "100%|██████████| 28/28 [00:05<00:00,  5.54it/s]\n",
      "100%|██████████| 11/11 [00:01<00:00,  6.74it/s]\n",
      "  0%|          | 0/28 [00:00<?, ?it/s]"
     ]
    },
    {
     "name": "stdout",
     "output_type": "stream",
     "text": [
      "Train Loss: 0.1812, Train Acc: 0.9270\n",
      "Val Loss: 0.1561, Val Acc: 0.9395\n",
      "EarlyStopping counter: 1 out of 5\n",
      "Epoch 4 of 500\n"
     ]
    },
    {
     "name": "stderr",
     "output_type": "stream",
     "text": [
      "100%|██████████| 28/28 [00:05<00:00,  5.04it/s]\n",
      "100%|██████████| 11/11 [00:01<00:00,  7.40it/s]\n",
      "  0%|          | 0/28 [00:00<?, ?it/s]"
     ]
    },
    {
     "name": "stdout",
     "output_type": "stream",
     "text": [
      "Train Loss: 0.1777, Train Acc: 0.9291\n",
      "Val Loss: 0.1373, Val Acc: 0.9489\n",
      "Validation loss decreased (0.141310 --> 0.137349).  Saving model ...\n",
      "../WeightsFinal_0.3_model_weights/Weights_replay_500/2018-11/best_model_epoch_4.pt\n",
      "../WeightsFinal_0.3_optimizer_weights/Weights_replay_500/2018-11/best_optimizer_epoch_4.pt\n",
      "Epoch 5 of 500\n"
     ]
    },
    {
     "name": "stderr",
     "output_type": "stream",
     "text": [
      "100%|██████████| 28/28 [00:04<00:00,  6.47it/s]\n",
      "100%|██████████| 11/11 [00:01<00:00,  6.14it/s]\n",
      "  0%|          | 0/28 [00:00<?, ?it/s]"
     ]
    },
    {
     "name": "stdout",
     "output_type": "stream",
     "text": [
      "Train Loss: 0.1621, Train Acc: 0.9367\n",
      "Val Loss: 0.1617, Val Acc: 0.9352\n",
      "EarlyStopping counter: 1 out of 5\n",
      "Epoch 6 of 500\n"
     ]
    },
    {
     "name": "stderr",
     "output_type": "stream",
     "text": [
      "100%|██████████| 28/28 [00:04<00:00,  6.01it/s]\n",
      "100%|██████████| 11/11 [00:01<00:00,  7.96it/s]\n",
      "  0%|          | 0/28 [00:00<?, ?it/s]"
     ]
    },
    {
     "name": "stdout",
     "output_type": "stream",
     "text": [
      "Train Loss: 0.1490, Train Acc: 0.9414\n",
      "Val Loss: 0.1328, Val Acc: 0.9505\n",
      "Validation loss decreased (0.137349 --> 0.132843).  Saving model ...\n",
      "../WeightsFinal_0.3_model_weights/Weights_replay_500/2018-11/best_model_epoch_6.pt\n",
      "../WeightsFinal_0.3_optimizer_weights/Weights_replay_500/2018-11/best_optimizer_epoch_6.pt\n",
      "Epoch 7 of 500\n"
     ]
    },
    {
     "name": "stderr",
     "output_type": "stream",
     "text": [
      "100%|██████████| 28/28 [00:04<00:00,  6.32it/s]\n",
      "100%|██████████| 11/11 [00:01<00:00,  5.93it/s]\n",
      "  0%|          | 0/28 [00:00<?, ?it/s]"
     ]
    },
    {
     "name": "stdout",
     "output_type": "stream",
     "text": [
      "Train Loss: 0.1611, Train Acc: 0.9370\n",
      "Val Loss: 0.1336, Val Acc: 0.9477\n",
      "EarlyStopping counter: 1 out of 5\n",
      "Epoch 8 of 500\n"
     ]
    },
    {
     "name": "stderr",
     "output_type": "stream",
     "text": [
      "100%|██████████| 28/28 [00:04<00:00,  6.15it/s]\n",
      "100%|██████████| 11/11 [00:01<00:00,  5.52it/s]\n",
      "  0%|          | 0/28 [00:00<?, ?it/s]"
     ]
    },
    {
     "name": "stdout",
     "output_type": "stream",
     "text": [
      "Train Loss: 0.1630, Train Acc: 0.9360\n",
      "Val Loss: 0.1398, Val Acc: 0.9467\n",
      "EarlyStopping counter: 2 out of 5\n",
      "Epoch 9 of 500\n"
     ]
    },
    {
     "name": "stderr",
     "output_type": "stream",
     "text": [
      "100%|██████████| 28/28 [00:04<00:00,  6.68it/s]\n",
      "100%|██████████| 11/11 [00:01<00:00,  6.90it/s]\n",
      "  0%|          | 0/28 [00:00<?, ?it/s]"
     ]
    },
    {
     "name": "stdout",
     "output_type": "stream",
     "text": [
      "Train Loss: 0.1447, Train Acc: 0.9435\n",
      "Val Loss: 0.1312, Val Acc: 0.9503\n",
      "Validation loss decreased (0.132843 --> 0.131230).  Saving model ...\n",
      "../WeightsFinal_0.3_model_weights/Weights_replay_500/2018-11/best_model_epoch_9.pt\n",
      "../WeightsFinal_0.3_optimizer_weights/Weights_replay_500/2018-11/best_optimizer_epoch_9.pt\n",
      "Epoch 10 of 500\n"
     ]
    },
    {
     "name": "stderr",
     "output_type": "stream",
     "text": [
      "100%|██████████| 28/28 [00:04<00:00,  6.58it/s]\n",
      "100%|██████████| 11/11 [00:01<00:00,  6.68it/s]\n",
      "  0%|          | 0/28 [00:00<?, ?it/s]"
     ]
    },
    {
     "name": "stdout",
     "output_type": "stream",
     "text": [
      "Train Loss: 0.1461, Train Acc: 0.9423\n",
      "Val Loss: 0.1427, Val Acc: 0.9437\n",
      "EarlyStopping counter: 1 out of 5\n",
      "Epoch 11 of 500\n"
     ]
    },
    {
     "name": "stderr",
     "output_type": "stream",
     "text": [
      "100%|██████████| 28/28 [00:04<00:00,  6.37it/s]\n",
      "100%|██████████| 11/11 [00:01<00:00,  6.94it/s]\n",
      "  0%|          | 0/28 [00:00<?, ?it/s]"
     ]
    },
    {
     "name": "stdout",
     "output_type": "stream",
     "text": [
      "Train Loss: 0.1683, Train Acc: 0.9352\n",
      "Val Loss: 0.1859, Val Acc: 0.9286\n",
      "EarlyStopping counter: 2 out of 5\n",
      "Epoch 12 of 500\n"
     ]
    },
    {
     "name": "stderr",
     "output_type": "stream",
     "text": [
      "100%|██████████| 28/28 [00:04<00:00,  6.47it/s]\n",
      "100%|██████████| 11/11 [00:01<00:00,  6.92it/s]\n",
      "  0%|          | 0/28 [00:00<?, ?it/s]"
     ]
    },
    {
     "name": "stdout",
     "output_type": "stream",
     "text": [
      "Train Loss: 0.1433, Train Acc: 0.9446\n",
      "Val Loss: 0.1471, Val Acc: 0.9441\n",
      "EarlyStopping counter: 3 out of 5\n",
      "Epoch 13 of 500\n"
     ]
    },
    {
     "name": "stderr",
     "output_type": "stream",
     "text": [
      "100%|██████████| 28/28 [00:04<00:00,  5.99it/s]\n",
      "100%|██████████| 11/11 [00:01<00:00,  6.97it/s]\n",
      "  0%|          | 0/28 [00:00<?, ?it/s]"
     ]
    },
    {
     "name": "stdout",
     "output_type": "stream",
     "text": [
      "Train Loss: 0.1434, Train Acc: 0.9441\n",
      "Val Loss: 0.1350, Val Acc: 0.9497\n",
      "EarlyStopping counter: 4 out of 5\n",
      "Epoch 14 of 500\n"
     ]
    },
    {
     "name": "stderr",
     "output_type": "stream",
     "text": [
      "100%|██████████| 28/28 [00:04<00:00,  6.33it/s]\n",
      "100%|██████████| 11/11 [00:01<00:00,  6.59it/s]\n",
      "  0%|          | 0/11 [00:00<?, ?it/s]"
     ]
    },
    {
     "name": "stdout",
     "output_type": "stream",
     "text": [
      "Train Loss: 0.1451, Train Acc: 0.9441\n",
      "Val Loss: 0.1527, Val Acc: 0.9436\n",
      "EarlyStopping counter: 5 out of 5\n",
      "Early stopping\n",
      "Training time: 1.478 minutes\n",
      "loading best model ../WeightsFinal_0.3_model_weights/Weights_replay_500/2018-11/best_model_epoch_9.pt\n",
      "loading best optimizer ../WeightsFinal_0.3_optimizer_weights/Weights_replay_500/2018-11/best_optimizer_epoch_9.pt\n"
     ]
    },
    {
     "name": "stderr",
     "output_type": "stream",
     "text": [
      "100%|██████████| 11/11 [00:01<00:00,  5.52it/s]\n"
     ]
    },
    {
     "name": "stdout",
     "output_type": "stream",
     "text": [
      "test accuracy 0.9498267282139171 and ROC-AUC 0.9498359041415506\n",
      "Elapsed time 24.29004857937495 mins.\n",
      "\n",
      "\n",
      "2023-01-30 12:41:21 Round 2 ...\n",
      "Current Task 2018-12 w/ 500 samples to Replay per Malware family.\n",
      "X_train (90000, 2381) Y_train (90000,) Y_tr_family (90000,)\n",
      "X_test (75006, 2381) Y_test (75006,) Y_te_family (75006,)\n"
     ]
    },
    {
     "name": "stderr",
     "output_type": "stream",
     "text": [
      "\r",
      "  0%|          | 0/1 [00:00<?, ?it/s]"
     ]
    },
    {
     "name": "stdout",
     "output_type": "stream",
     "text": [
      "Task 2018-12 and #-of new samples stored 90000\n",
      "loading best model ../WeightsFinal_0.3_model_weights/Weights_replay_500/2018-11/best_model_epoch_9.pt\n"
     ]
    },
    {
     "name": "stderr",
     "output_type": "stream",
     "text": [
      "100%|██████████| 1/1 [00:00<00:00,  1.97it/s]\n",
      "100%|██████████| 1/1 [00:00<00:00,  1.93it/s]\n",
      "100%|██████████| 1/1 [00:00<00:00,  1.85it/s]\n",
      "100%|██████████| 1/1 [00:00<00:00,  1.86it/s]\n",
      "100%|██████████| 1/1 [00:00<00:00,  1.54it/s]\n",
      "100%|██████████| 2/2 [00:00<00:00,  2.20it/s]\n",
      "100%|██████████| 1/1 [00:00<00:00,  1.72it/s]\n",
      "100%|██████████| 1/1 [00:00<00:00,  1.50it/s]\n",
      "100%|██████████| 1/1 [00:00<00:00,  1.62it/s]\n",
      "100%|██████████| 1/1 [00:00<00:00,  1.46it/s]\n",
      "100%|██████████| 1/1 [00:00<00:00,  1.89it/s]\n",
      "100%|██████████| 1/1 [00:00<00:00,  1.73it/s]\n",
      "100%|██████████| 2/2 [00:00<00:00,  2.19it/s]\n",
      "100%|██████████| 1/1 [00:00<00:00,  1.94it/s]\n",
      "100%|██████████| 1/1 [00:00<00:00,  1.91it/s]\n",
      "100%|██████████| 1/1 [00:00<00:00,  1.82it/s]\n",
      "100%|██████████| 1/1 [00:00<00:00,  1.60it/s]\n",
      "100%|██████████| 1/1 [00:00<00:00,  1.58it/s]\n",
      "100%|██████████| 1/1 [00:00<00:00,  1.76it/s]\n",
      "100%|██████████| 2/2 [00:01<00:00,  1.91it/s]\n",
      "100%|██████████| 1/1 [00:00<00:00,  1.90it/s]\n",
      "100%|██████████| 1/1 [00:00<00:00,  1.84it/s]\n",
      "100%|██████████| 1/1 [00:00<00:00,  1.73it/s]\n",
      "100%|██████████| 1/1 [00:00<00:00,  1.59it/s]\n",
      "100%|██████████| 1/1 [00:00<00:00,  1.66it/s]\n",
      "100%|██████████| 1/1 [00:00<00:00,  1.58it/s]\n",
      "100%|██████████| 1/1 [00:00<00:00,  1.59it/s]\n",
      "100%|██████████| 2/2 [00:01<00:00,  1.72it/s]\n",
      "100%|██████████| 1/1 [00:00<00:00,  1.58it/s]\n",
      "100%|██████████| 1/1 [00:00<00:00,  1.75it/s]\n",
      "100%|██████████| 1/1 [00:00<00:00,  1.83it/s]\n",
      "100%|██████████| 1/1 [00:00<00:00,  1.77it/s]\n",
      "100%|██████████| 1/1 [00:00<00:00,  1.64it/s]\n",
      "100%|██████████| 1/1 [00:00<00:00,  1.73it/s]\n",
      "100%|██████████| 1/1 [00:00<00:00,  1.64it/s]\n"
     ]
    },
    {
     "name": "stdout",
     "output_type": "stream",
     "text": [
      "2023-01-30 12:42:56 Standardizing ...\n"
     ]
    },
    {
     "name": "stderr",
     "output_type": "stream",
     "text": [
      "\r",
      "  0%|          | 0/29 [00:00<?, ?it/s]"
     ]
    },
    {
     "name": "stdout",
     "output_type": "stream",
     "text": [
      "\n",
      "X_train (174112, 2381) Y_train (174112,)\n",
      "\n",
      "2023-01-30 12:43:08 Training ...\n",
      "Epoch 1 of 500\n"
     ]
    },
    {
     "name": "stderr",
     "output_type": "stream",
     "text": [
      "100%|██████████| 29/29 [00:05<00:00,  5.09it/s]\n",
      "100%|██████████| 13/13 [00:02<00:00,  6.05it/s]\n",
      "  0%|          | 0/29 [00:00<?, ?it/s]"
     ]
    },
    {
     "name": "stdout",
     "output_type": "stream",
     "text": [
      "Train Loss: 0.1746, Train Acc: 0.9334\n",
      "Val Loss: 0.1415, Val Acc: 0.9451\n",
      "Validation loss decreased (inf --> 0.141462).  Saving model ...\n",
      "../WeightsFinal_0.3_model_weights/Weights_replay_500/2018-12/best_model_epoch_1.pt\n",
      "../WeightsFinal_0.3_optimizer_weights/Weights_replay_500/2018-12/best_optimizer_epoch_1.pt\n",
      "Epoch 2 of 500\n"
     ]
    },
    {
     "name": "stderr",
     "output_type": "stream",
     "text": [
      "100%|██████████| 29/29 [00:05<00:00,  5.22it/s]\n",
      "100%|██████████| 13/13 [00:02<00:00,  6.37it/s]\n",
      "  0%|          | 0/29 [00:00<?, ?it/s]"
     ]
    },
    {
     "name": "stdout",
     "output_type": "stream",
     "text": [
      "Train Loss: 0.1628, Train Acc: 0.9377\n",
      "Val Loss: 0.1482, Val Acc: 0.9418\n",
      "EarlyStopping counter: 1 out of 5\n",
      "Epoch 3 of 500\n"
     ]
    },
    {
     "name": "stderr",
     "output_type": "stream",
     "text": [
      "100%|██████████| 29/29 [00:05<00:00,  4.97it/s]\n",
      "100%|██████████| 13/13 [00:01<00:00,  7.27it/s]\n",
      "  0%|          | 0/29 [00:00<?, ?it/s]"
     ]
    },
    {
     "name": "stdout",
     "output_type": "stream",
     "text": [
      "Train Loss: 0.1578, Train Acc: 0.9407\n",
      "Val Loss: 0.1368, Val Acc: 0.9460\n",
      "Validation loss decreased (0.141462 --> 0.136783).  Saving model ...\n",
      "../WeightsFinal_0.3_model_weights/Weights_replay_500/2018-12/best_model_epoch_3.pt\n",
      "../WeightsFinal_0.3_optimizer_weights/Weights_replay_500/2018-12/best_optimizer_epoch_3.pt\n",
      "Epoch 4 of 500\n"
     ]
    },
    {
     "name": "stderr",
     "output_type": "stream",
     "text": [
      "100%|██████████| 29/29 [00:04<00:00,  5.84it/s]\n",
      "100%|██████████| 13/13 [00:02<00:00,  6.04it/s]\n",
      "  0%|          | 0/29 [00:00<?, ?it/s]"
     ]
    },
    {
     "name": "stdout",
     "output_type": "stream",
     "text": [
      "Train Loss: 0.1614, Train Acc: 0.9380\n",
      "Val Loss: 0.1591, Val Acc: 0.9364\n",
      "EarlyStopping counter: 1 out of 5\n",
      "Epoch 5 of 500\n"
     ]
    },
    {
     "name": "stderr",
     "output_type": "stream",
     "text": [
      "100%|██████████| 29/29 [00:05<00:00,  5.68it/s]\n",
      "100%|██████████| 13/13 [00:01<00:00,  7.33it/s]\n",
      "  0%|          | 0/29 [00:00<?, ?it/s]"
     ]
    },
    {
     "name": "stdout",
     "output_type": "stream",
     "text": [
      "Train Loss: 0.1551, Train Acc: 0.9402\n",
      "Val Loss: 0.1336, Val Acc: 0.9472\n",
      "Validation loss decreased (0.136783 --> 0.133622).  Saving model ...\n",
      "../WeightsFinal_0.3_model_weights/Weights_replay_500/2018-12/best_model_epoch_5.pt\n",
      "../WeightsFinal_0.3_optimizer_weights/Weights_replay_500/2018-12/best_optimizer_epoch_5.pt\n",
      "Epoch 6 of 500\n"
     ]
    },
    {
     "name": "stderr",
     "output_type": "stream",
     "text": [
      "100%|██████████| 29/29 [00:04<00:00,  5.99it/s]\n",
      "100%|██████████| 13/13 [00:01<00:00,  7.41it/s]\n",
      "  0%|          | 0/29 [00:00<?, ?it/s]"
     ]
    },
    {
     "name": "stdout",
     "output_type": "stream",
     "text": [
      "Train Loss: 0.1418, Train Acc: 0.9464\n",
      "Val Loss: 0.1377, Val Acc: 0.9461\n",
      "EarlyStopping counter: 1 out of 5\n",
      "Epoch 7 of 500\n"
     ]
    },
    {
     "name": "stderr",
     "output_type": "stream",
     "text": [
      "100%|██████████| 29/29 [00:04<00:00,  6.22it/s]\n",
      "100%|██████████| 13/13 [00:01<00:00,  6.51it/s]\n",
      "  0%|          | 0/29 [00:00<?, ?it/s]"
     ]
    },
    {
     "name": "stdout",
     "output_type": "stream",
     "text": [
      "Train Loss: 0.1420, Train Acc: 0.9460\n",
      "Val Loss: 0.1343, Val Acc: 0.9471\n",
      "EarlyStopping counter: 2 out of 5\n",
      "Epoch 8 of 500\n"
     ]
    },
    {
     "name": "stderr",
     "output_type": "stream",
     "text": [
      "100%|██████████| 29/29 [00:04<00:00,  6.08it/s]\n",
      "100%|██████████| 13/13 [00:01<00:00,  7.30it/s]\n",
      "  0%|          | 0/29 [00:00<?, ?it/s]"
     ]
    },
    {
     "name": "stdout",
     "output_type": "stream",
     "text": [
      "Train Loss: 0.1470, Train Acc: 0.9432\n",
      "Val Loss: 0.1358, Val Acc: 0.9469\n",
      "EarlyStopping counter: 3 out of 5\n",
      "Epoch 9 of 500\n"
     ]
    },
    {
     "name": "stderr",
     "output_type": "stream",
     "text": [
      "100%|██████████| 29/29 [00:05<00:00,  5.53it/s]\n",
      "100%|██████████| 13/13 [00:01<00:00,  7.79it/s]\n",
      "  0%|          | 0/29 [00:00<?, ?it/s]"
     ]
    },
    {
     "name": "stdout",
     "output_type": "stream",
     "text": [
      "Train Loss: 0.1604, Train Acc: 0.9367\n",
      "Val Loss: 0.1434, Val Acc: 0.9441\n",
      "EarlyStopping counter: 4 out of 5\n",
      "Epoch 10 of 500\n"
     ]
    },
    {
     "name": "stderr",
     "output_type": "stream",
     "text": [
      "100%|██████████| 29/29 [00:05<00:00,  5.21it/s]\n",
      "100%|██████████| 13/13 [00:01<00:00,  6.70it/s]\n",
      "  0%|          | 0/13 [00:00<?, ?it/s]"
     ]
    },
    {
     "name": "stdout",
     "output_type": "stream",
     "text": [
      "Train Loss: 0.1415, Train Acc: 0.9461\n",
      "Val Loss: 0.1346, Val Acc: 0.9470\n",
      "EarlyStopping counter: 5 out of 5\n",
      "Early stopping\n",
      "Training time: 1.197 minutes\n",
      "loading best model ../WeightsFinal_0.3_model_weights/Weights_replay_500/2018-12/best_model_epoch_5.pt\n",
      "loading best optimizer ../WeightsFinal_0.3_optimizer_weights/Weights_replay_500/2018-12/best_optimizer_epoch_5.pt\n"
     ]
    },
    {
     "name": "stderr",
     "output_type": "stream",
     "text": [
      "100%|██████████| 13/13 [00:02<00:00,  5.82it/s]\n"
     ]
    },
    {
     "name": "stdout",
     "output_type": "stream",
     "text": [
      "test accuracy 0.9484816697927622 and ROC-AUC 0.9483171886880077\n",
      "Elapsed time 27.321704991658528 mins.\n",
      "\n",
      "Elapsed time 27.32172377904256 mins.\n",
      "Torch 1.6.0 CUDA 10.2\n",
      "Model has 3.132161m parameters\n",
      "\n",
      "2023-01-30 12:44:23 Round 3 ...\n",
      "Current Task 2018-01 w/ 500 samples to Replay per Malware family.\n",
      "X_train (55722, 2381) Y_train (55722,) Y_tr_family (55722,)\n",
      "X_test (6192, 2381) Y_test (6192,) Y_te_family (6192,)\n",
      "Task 2018-01 and #-of new samples stored 55722\n",
      "2023-01-30 12:44:25 Standardizing ...\n"
     ]
    },
    {
     "name": "stderr",
     "output_type": "stream",
     "text": [
      "\r",
      "  0%|          | 0/9 [00:00<?, ?it/s]"
     ]
    },
    {
     "name": "stdout",
     "output_type": "stream",
     "text": [
      "\n",
      "X_train (55722, 2381) Y_train (55722,)\n",
      "\n",
      "2023-01-30 12:44:28 Training ...\n",
      "Epoch 1 of 500\n"
     ]
    },
    {
     "name": "stderr",
     "output_type": "stream",
     "text": [
      "100%|██████████| 9/9 [00:02<00:00,  4.36it/s]\n",
      "100%|██████████| 2/2 [00:00<00:00,  4.81it/s]\n",
      "  0%|          | 0/9 [00:00<?, ?it/s]"
     ]
    },
    {
     "name": "stdout",
     "output_type": "stream",
     "text": [
      "Train Loss: 0.7029, Train Acc: 0.5305\n",
      "Val Loss: 0.6817, Val Acc: 0.6671\n",
      "Validation loss decreased (inf --> 0.681740).  Saving model ...\n",
      "../WeightsFinal_0.3_model_weights/Weights_replay_500/2018-01/best_model_epoch_1.pt\n",
      "../WeightsFinal_0.3_optimizer_weights/Weights_replay_500/2018-01/best_optimizer_epoch_1.pt\n",
      "Epoch 2 of 500\n"
     ]
    },
    {
     "name": "stderr",
     "output_type": "stream",
     "text": [
      "100%|██████████| 9/9 [00:01<00:00,  5.89it/s]\n",
      "100%|██████████| 2/2 [00:00<00:00, 11.97it/s]\n",
      "  0%|          | 0/9 [00:00<?, ?it/s]"
     ]
    },
    {
     "name": "stdout",
     "output_type": "stream",
     "text": [
      "Train Loss: 0.6610, Train Acc: 0.6135\n",
      "Val Loss: 0.6397, Val Acc: 0.7137\n",
      "Validation loss decreased (0.681740 --> 0.639708).  Saving model ...\n",
      "../WeightsFinal_0.3_model_weights/Weights_replay_500/2018-01/best_model_epoch_2.pt\n",
      "../WeightsFinal_0.3_optimizer_weights/Weights_replay_500/2018-01/best_optimizer_epoch_2.pt\n",
      "Epoch 3 of 500\n"
     ]
    },
    {
     "name": "stderr",
     "output_type": "stream",
     "text": [
      "100%|██████████| 9/9 [00:01<00:00,  5.61it/s]\n",
      "100%|██████████| 2/2 [00:00<00:00, 15.48it/s]\n",
      "  0%|          | 0/9 [00:00<?, ?it/s]"
     ]
    },
    {
     "name": "stdout",
     "output_type": "stream",
     "text": [
      "Train Loss: 0.6171, Train Acc: 0.6808\n",
      "Val Loss: 0.5765, Val Acc: 0.7564\n",
      "Validation loss decreased (0.639708 --> 0.576484).  Saving model ...\n",
      "../WeightsFinal_0.3_model_weights/Weights_replay_500/2018-01/best_model_epoch_3.pt\n",
      "../WeightsFinal_0.3_optimizer_weights/Weights_replay_500/2018-01/best_optimizer_epoch_3.pt\n",
      "Epoch 4 of 500\n"
     ]
    },
    {
     "name": "stderr",
     "output_type": "stream",
     "text": [
      "100%|██████████| 9/9 [00:01<00:00,  4.89it/s]\n",
      "100%|██████████| 2/2 [00:00<00:00, 14.67it/s]\n",
      "  0%|          | 0/9 [00:00<?, ?it/s]"
     ]
    },
    {
     "name": "stdout",
     "output_type": "stream",
     "text": [
      "Train Loss: 0.5603, Train Acc: 0.7274\n",
      "Val Loss: 0.5078, Val Acc: 0.7839\n",
      "Validation loss decreased (0.576484 --> 0.507801).  Saving model ...\n",
      "../WeightsFinal_0.3_model_weights/Weights_replay_500/2018-01/best_model_epoch_4.pt\n",
      "../WeightsFinal_0.3_optimizer_weights/Weights_replay_500/2018-01/best_optimizer_epoch_4.pt\n",
      "Epoch 5 of 500\n"
     ]
    },
    {
     "name": "stderr",
     "output_type": "stream",
     "text": [
      "100%|██████████| 9/9 [00:01<00:00,  5.00it/s]\n",
      "100%|██████████| 2/2 [00:00<00:00,  6.78it/s]\n",
      "  0%|          | 0/9 [00:00<?, ?it/s]"
     ]
    },
    {
     "name": "stdout",
     "output_type": "stream",
     "text": [
      "Train Loss: 0.5059, Train Acc: 0.7582\n",
      "Val Loss: 0.4464, Val Acc: 0.8180\n",
      "Validation loss decreased (0.507801 --> 0.446440).  Saving model ...\n",
      "../WeightsFinal_0.3_model_weights/Weights_replay_500/2018-01/best_model_epoch_5.pt\n",
      "../WeightsFinal_0.3_optimizer_weights/Weights_replay_500/2018-01/best_optimizer_epoch_5.pt\n",
      "Epoch 6 of 500\n"
     ]
    },
    {
     "name": "stderr",
     "output_type": "stream",
     "text": [
      "100%|██████████| 9/9 [00:01<00:00,  4.80it/s]\n",
      "100%|██████████| 2/2 [00:00<00:00, 13.73it/s]\n",
      "  0%|          | 0/9 [00:00<?, ?it/s]"
     ]
    },
    {
     "name": "stdout",
     "output_type": "stream",
     "text": [
      "Train Loss: 0.4543, Train Acc: 0.7867\n",
      "Val Loss: 0.3990, Val Acc: 0.8266\n",
      "Validation loss decreased (0.446440 --> 0.399034).  Saving model ...\n",
      "../WeightsFinal_0.3_model_weights/Weights_replay_500/2018-01/best_model_epoch_6.pt\n",
      "../WeightsFinal_0.3_optimizer_weights/Weights_replay_500/2018-01/best_optimizer_epoch_6.pt\n",
      "Epoch 7 of 500\n"
     ]
    },
    {
     "name": "stderr",
     "output_type": "stream",
     "text": [
      "100%|██████████| 9/9 [00:01<00:00,  5.70it/s]\n",
      "100%|██████████| 2/2 [00:00<00:00, 11.50it/s]\n",
      "  0%|          | 0/9 [00:00<?, ?it/s]"
     ]
    },
    {
     "name": "stdout",
     "output_type": "stream",
     "text": [
      "Train Loss: 0.4134, Train Acc: 0.8079\n",
      "Val Loss: 0.3588, Val Acc: 0.8471\n",
      "Validation loss decreased (0.399034 --> 0.358759).  Saving model ...\n",
      "../WeightsFinal_0.3_model_weights/Weights_replay_500/2018-01/best_model_epoch_7.pt\n",
      "../WeightsFinal_0.3_optimizer_weights/Weights_replay_500/2018-01/best_optimizer_epoch_7.pt\n",
      "Epoch 8 of 500\n"
     ]
    },
    {
     "name": "stderr",
     "output_type": "stream",
     "text": [
      "100%|██████████| 9/9 [00:01<00:00,  5.63it/s]\n",
      "100%|██████████| 2/2 [00:00<00:00, 14.61it/s]\n",
      "  0%|          | 0/9 [00:00<?, ?it/s]"
     ]
    },
    {
     "name": "stdout",
     "output_type": "stream",
     "text": [
      "Train Loss: 0.3846, Train Acc: 0.8239\n",
      "Val Loss: 0.3229, Val Acc: 0.8654\n",
      "Validation loss decreased (0.358759 --> 0.322904).  Saving model ...\n",
      "../WeightsFinal_0.3_model_weights/Weights_replay_500/2018-01/best_model_epoch_8.pt\n",
      "../WeightsFinal_0.3_optimizer_weights/Weights_replay_500/2018-01/best_optimizer_epoch_8.pt\n",
      "Epoch 9 of 500\n"
     ]
    },
    {
     "name": "stderr",
     "output_type": "stream",
     "text": [
      "100%|██████████| 9/9 [00:01<00:00,  5.02it/s]\n",
      "100%|██████████| 2/2 [00:00<00:00,  6.77it/s]\n",
      "  0%|          | 0/9 [00:00<?, ?it/s]"
     ]
    },
    {
     "name": "stdout",
     "output_type": "stream",
     "text": [
      "Train Loss: 0.3527, Train Acc: 0.8428\n",
      "Val Loss: 0.2938, Val Acc: 0.8809\n",
      "Validation loss decreased (0.322904 --> 0.293782).  Saving model ...\n",
      "../WeightsFinal_0.3_model_weights/Weights_replay_500/2018-01/best_model_epoch_9.pt\n",
      "../WeightsFinal_0.3_optimizer_weights/Weights_replay_500/2018-01/best_optimizer_epoch_9.pt\n",
      "Epoch 10 of 500\n"
     ]
    },
    {
     "name": "stderr",
     "output_type": "stream",
     "text": [
      "100%|██████████| 9/9 [00:01<00:00,  5.49it/s]\n",
      "100%|██████████| 2/2 [00:00<00:00, 15.13it/s]\n",
      "  0%|          | 0/9 [00:00<?, ?it/s]"
     ]
    },
    {
     "name": "stdout",
     "output_type": "stream",
     "text": [
      "Train Loss: 0.3255, Train Acc: 0.8559\n",
      "Val Loss: 0.2728, Val Acc: 0.8873\n",
      "Validation loss decreased (0.293782 --> 0.272821).  Saving model ...\n",
      "../WeightsFinal_0.3_model_weights/Weights_replay_500/2018-01/best_model_epoch_10.pt\n",
      "../WeightsFinal_0.3_optimizer_weights/Weights_replay_500/2018-01/best_optimizer_epoch_10.pt\n",
      "Epoch 11 of 500\n"
     ]
    },
    {
     "name": "stderr",
     "output_type": "stream",
     "text": [
      "100%|██████████| 9/9 [00:01<00:00,  5.85it/s]\n",
      "100%|██████████| 2/2 [00:00<00:00, 16.08it/s]\n",
      "  0%|          | 0/9 [00:00<?, ?it/s]"
     ]
    },
    {
     "name": "stdout",
     "output_type": "stream",
     "text": [
      "Train Loss: 0.3031, Train Acc: 0.8681\n",
      "Val Loss: 0.2589, Val Acc: 0.8953\n",
      "Validation loss decreased (0.272821 --> 0.258925).  Saving model ...\n",
      "../WeightsFinal_0.3_model_weights/Weights_replay_500/2018-01/best_model_epoch_11.pt\n",
      "../WeightsFinal_0.3_optimizer_weights/Weights_replay_500/2018-01/best_optimizer_epoch_11.pt\n",
      "Epoch 12 of 500\n"
     ]
    },
    {
     "name": "stderr",
     "output_type": "stream",
     "text": [
      "100%|██████████| 9/9 [00:01<00:00,  5.84it/s]\n",
      "100%|██████████| 2/2 [00:00<00:00, 12.13it/s]\n",
      "  0%|          | 0/9 [00:00<?, ?it/s]"
     ]
    },
    {
     "name": "stdout",
     "output_type": "stream",
     "text": [
      "Train Loss: 0.2842, Train Acc: 0.8795\n",
      "Val Loss: 0.2491, Val Acc: 0.8967\n",
      "Validation loss decreased (0.258925 --> 0.249070).  Saving model ...\n",
      "../WeightsFinal_0.3_model_weights/Weights_replay_500/2018-01/best_model_epoch_12.pt\n",
      "../WeightsFinal_0.3_optimizer_weights/Weights_replay_500/2018-01/best_optimizer_epoch_12.pt\n",
      "Epoch 13 of 500\n"
     ]
    },
    {
     "name": "stderr",
     "output_type": "stream",
     "text": [
      "100%|██████████| 9/9 [00:01<00:00,  4.79it/s]\n",
      "100%|██████████| 2/2 [00:00<00:00,  6.36it/s]\n",
      "  0%|          | 0/9 [00:00<?, ?it/s]"
     ]
    },
    {
     "name": "stdout",
     "output_type": "stream",
     "text": [
      "Train Loss: 0.2722, Train Acc: 0.8843\n",
      "Val Loss: 0.2407, Val Acc: 0.8953\n",
      "Validation loss decreased (0.249070 --> 0.240678).  Saving model ...\n",
      "../WeightsFinal_0.3_model_weights/Weights_replay_500/2018-01/best_model_epoch_13.pt\n",
      "../WeightsFinal_0.3_optimizer_weights/Weights_replay_500/2018-01/best_optimizer_epoch_13.pt\n",
      "Epoch 14 of 500\n"
     ]
    },
    {
     "name": "stderr",
     "output_type": "stream",
     "text": [
      "100%|██████████| 9/9 [00:01<00:00,  5.16it/s]\n",
      "100%|██████████| 2/2 [00:00<00:00, 14.80it/s]\n",
      "  0%|          | 0/9 [00:00<?, ?it/s]"
     ]
    },
    {
     "name": "stdout",
     "output_type": "stream",
     "text": [
      "Train Loss: 0.2610, Train Acc: 0.8890\n",
      "Val Loss: 0.2351, Val Acc: 0.8999\n",
      "Validation loss decreased (0.240678 --> 0.235087).  Saving model ...\n",
      "../WeightsFinal_0.3_model_weights/Weights_replay_500/2018-01/best_model_epoch_14.pt\n",
      "../WeightsFinal_0.3_optimizer_weights/Weights_replay_500/2018-01/best_optimizer_epoch_14.pt\n",
      "Epoch 15 of 500\n"
     ]
    },
    {
     "name": "stderr",
     "output_type": "stream",
     "text": [
      "100%|██████████| 9/9 [00:01<00:00,  5.43it/s]\n",
      "100%|██████████| 2/2 [00:00<00:00,  8.96it/s]\n",
      "  0%|          | 0/9 [00:00<?, ?it/s]"
     ]
    },
    {
     "name": "stdout",
     "output_type": "stream",
     "text": [
      "Train Loss: 0.2450, Train Acc: 0.8983\n",
      "Val Loss: 0.2271, Val Acc: 0.9040\n",
      "Validation loss decreased (0.235087 --> 0.227064).  Saving model ...\n",
      "../WeightsFinal_0.3_model_weights/Weights_replay_500/2018-01/best_model_epoch_15.pt\n",
      "../WeightsFinal_0.3_optimizer_weights/Weights_replay_500/2018-01/best_optimizer_epoch_15.pt\n",
      "Epoch 16 of 500\n"
     ]
    },
    {
     "name": "stderr",
     "output_type": "stream",
     "text": [
      "100%|██████████| 9/9 [00:01<00:00,  5.21it/s]\n",
      "100%|██████████| 2/2 [00:00<00:00,  7.55it/s]\n",
      "  0%|          | 0/9 [00:00<?, ?it/s]"
     ]
    },
    {
     "name": "stdout",
     "output_type": "stream",
     "text": [
      "Train Loss: 0.2379, Train Acc: 0.9005\n",
      "Val Loss: 0.2227, Val Acc: 0.9071\n",
      "Validation loss decreased (0.227064 --> 0.222714).  Saving model ...\n",
      "../WeightsFinal_0.3_model_weights/Weights_replay_500/2018-01/best_model_epoch_16.pt\n",
      "../WeightsFinal_0.3_optimizer_weights/Weights_replay_500/2018-01/best_optimizer_epoch_16.pt\n",
      "Epoch 17 of 500\n"
     ]
    },
    {
     "name": "stderr",
     "output_type": "stream",
     "text": [
      "100%|██████████| 9/9 [00:01<00:00,  5.70it/s]\n",
      "100%|██████████| 2/2 [00:00<00:00, 14.36it/s]\n",
      "  0%|          | 0/9 [00:00<?, ?it/s]"
     ]
    },
    {
     "name": "stdout",
     "output_type": "stream",
     "text": [
      "Train Loss: 0.2267, Train Acc: 0.9064\n",
      "Val Loss: 0.2161, Val Acc: 0.9139\n",
      "Validation loss decreased (0.222714 --> 0.216063).  Saving model ...\n",
      "../WeightsFinal_0.3_model_weights/Weights_replay_500/2018-01/best_model_epoch_17.pt\n",
      "../WeightsFinal_0.3_optimizer_weights/Weights_replay_500/2018-01/best_optimizer_epoch_17.pt\n",
      "Epoch 18 of 500\n"
     ]
    },
    {
     "name": "stderr",
     "output_type": "stream",
     "text": [
      "100%|██████████| 9/9 [00:01<00:00,  5.52it/s]\n",
      "100%|██████████| 2/2 [00:00<00:00, 12.15it/s]\n",
      "  0%|          | 0/9 [00:00<?, ?it/s]"
     ]
    },
    {
     "name": "stdout",
     "output_type": "stream",
     "text": [
      "Train Loss: 0.2245, Train Acc: 0.9085\n",
      "Val Loss: 0.2136, Val Acc: 0.9153\n",
      "Validation loss decreased (0.216063 --> 0.213631).  Saving model ...\n",
      "../WeightsFinal_0.3_model_weights/Weights_replay_500/2018-01/best_model_epoch_18.pt\n",
      "../WeightsFinal_0.3_optimizer_weights/Weights_replay_500/2018-01/best_optimizer_epoch_18.pt\n",
      "Epoch 19 of 500\n"
     ]
    },
    {
     "name": "stderr",
     "output_type": "stream",
     "text": [
      "100%|██████████| 9/9 [00:01<00:00,  5.62it/s]\n",
      "100%|██████████| 2/2 [00:00<00:00, 17.11it/s]\n",
      "  0%|          | 0/9 [00:00<?, ?it/s]"
     ]
    },
    {
     "name": "stdout",
     "output_type": "stream",
     "text": [
      "Train Loss: 0.2106, Train Acc: 0.9147\n",
      "Val Loss: 0.2086, Val Acc: 0.9136\n",
      "Validation loss decreased (0.213631 --> 0.208555).  Saving model ...\n",
      "../WeightsFinal_0.3_model_weights/Weights_replay_500/2018-01/best_model_epoch_19.pt\n",
      "../WeightsFinal_0.3_optimizer_weights/Weights_replay_500/2018-01/best_optimizer_epoch_19.pt\n",
      "Epoch 20 of 500\n"
     ]
    },
    {
     "name": "stderr",
     "output_type": "stream",
     "text": [
      "100%|██████████| 9/9 [00:01<00:00,  5.37it/s]\n",
      "100%|██████████| 2/2 [00:00<00:00,  7.15it/s]\n",
      "  0%|          | 0/9 [00:00<?, ?it/s]"
     ]
    },
    {
     "name": "stdout",
     "output_type": "stream",
     "text": [
      "Train Loss: 0.2057, Train Acc: 0.9168\n",
      "Val Loss: 0.2075, Val Acc: 0.9197\n",
      "Validation loss decreased (0.208555 --> 0.207545).  Saving model ...\n",
      "../WeightsFinal_0.3_model_weights/Weights_replay_500/2018-01/best_model_epoch_20.pt\n",
      "../WeightsFinal_0.3_optimizer_weights/Weights_replay_500/2018-01/best_optimizer_epoch_20.pt\n",
      "Epoch 21 of 500\n"
     ]
    },
    {
     "name": "stderr",
     "output_type": "stream",
     "text": [
      "100%|██████████| 9/9 [00:01<00:00,  5.67it/s]\n",
      "100%|██████████| 2/2 [00:00<00:00, 12.41it/s]\n",
      "  0%|          | 0/9 [00:00<?, ?it/s]"
     ]
    },
    {
     "name": "stdout",
     "output_type": "stream",
     "text": [
      "Train Loss: 0.2005, Train Acc: 0.9180\n",
      "Val Loss: 0.2042, Val Acc: 0.9155\n",
      "Validation loss decreased (0.207545 --> 0.204217).  Saving model ...\n",
      "../WeightsFinal_0.3_model_weights/Weights_replay_500/2018-01/best_model_epoch_21.pt\n",
      "../WeightsFinal_0.3_optimizer_weights/Weights_replay_500/2018-01/best_optimizer_epoch_21.pt\n",
      "Epoch 22 of 500\n"
     ]
    },
    {
     "name": "stderr",
     "output_type": "stream",
     "text": [
      "100%|██████████| 9/9 [00:01<00:00,  5.37it/s]\n",
      "100%|██████████| 2/2 [00:00<00:00, 15.06it/s]\n",
      "  0%|          | 0/9 [00:00<?, ?it/s]"
     ]
    },
    {
     "name": "stdout",
     "output_type": "stream",
     "text": [
      "Train Loss: 0.2001, Train Acc: 0.9192\n",
      "Val Loss: 0.2020, Val Acc: 0.9191\n",
      "Validation loss decreased (0.204217 --> 0.201961).  Saving model ...\n",
      "../WeightsFinal_0.3_model_weights/Weights_replay_500/2018-01/best_model_epoch_22.pt\n",
      "../WeightsFinal_0.3_optimizer_weights/Weights_replay_500/2018-01/best_optimizer_epoch_22.pt\n",
      "Epoch 23 of 500\n"
     ]
    },
    {
     "name": "stderr",
     "output_type": "stream",
     "text": [
      "100%|██████████| 9/9 [00:01<00:00,  5.59it/s]\n",
      "100%|██████████| 2/2 [00:00<00:00, 14.38it/s]\n",
      "  0%|          | 0/9 [00:00<?, ?it/s]"
     ]
    },
    {
     "name": "stdout",
     "output_type": "stream",
     "text": [
      "Train Loss: 0.1916, Train Acc: 0.9237\n",
      "Val Loss: 0.2009, Val Acc: 0.9220\n",
      "Validation loss decreased (0.201961 --> 0.200942).  Saving model ...\n",
      "../WeightsFinal_0.3_model_weights/Weights_replay_500/2018-01/best_model_epoch_23.pt\n",
      "../WeightsFinal_0.3_optimizer_weights/Weights_replay_500/2018-01/best_optimizer_epoch_23.pt\n",
      "Epoch 24 of 500\n"
     ]
    },
    {
     "name": "stderr",
     "output_type": "stream",
     "text": [
      "100%|██████████| 9/9 [00:01<00:00,  5.50it/s]\n",
      "100%|██████████| 2/2 [00:00<00:00,  7.40it/s]\n",
      "  0%|          | 0/9 [00:00<?, ?it/s]"
     ]
    },
    {
     "name": "stdout",
     "output_type": "stream",
     "text": [
      "Train Loss: 0.1888, Train Acc: 0.9237\n",
      "Val Loss: 0.1949, Val Acc: 0.9231\n",
      "Validation loss decreased (0.200942 --> 0.194874).  Saving model ...\n",
      "../WeightsFinal_0.3_model_weights/Weights_replay_500/2018-01/best_model_epoch_24.pt\n",
      "../WeightsFinal_0.3_optimizer_weights/Weights_replay_500/2018-01/best_optimizer_epoch_24.pt\n",
      "Epoch 25 of 500\n"
     ]
    },
    {
     "name": "stderr",
     "output_type": "stream",
     "text": [
      "100%|██████████| 9/9 [00:01<00:00,  5.43it/s]\n",
      "100%|██████████| 2/2 [00:00<00:00, 13.11it/s]\n",
      "  0%|          | 0/9 [00:00<?, ?it/s]"
     ]
    },
    {
     "name": "stdout",
     "output_type": "stream",
     "text": [
      "Train Loss: 0.1837, Train Acc: 0.9271\n",
      "Val Loss: 0.1970, Val Acc: 0.9277\n",
      "EarlyStopping counter: 1 out of 5\n",
      "Epoch 26 of 500\n"
     ]
    },
    {
     "name": "stderr",
     "output_type": "stream",
     "text": [
      "100%|██████████| 9/9 [00:01<00:00,  5.38it/s]\n",
      "100%|██████████| 2/2 [00:00<00:00,  9.50it/s]\n",
      "  0%|          | 0/9 [00:00<?, ?it/s]"
     ]
    },
    {
     "name": "stdout",
     "output_type": "stream",
     "text": [
      "Train Loss: 0.1794, Train Acc: 0.9279\n",
      "Val Loss: 0.1921, Val Acc: 0.9271\n",
      "Validation loss decreased (0.194874 --> 0.192088).  Saving model ...\n",
      "../WeightsFinal_0.3_model_weights/Weights_replay_500/2018-01/best_model_epoch_26.pt\n",
      "../WeightsFinal_0.3_optimizer_weights/Weights_replay_500/2018-01/best_optimizer_epoch_26.pt\n",
      "Epoch 27 of 500\n"
     ]
    },
    {
     "name": "stderr",
     "output_type": "stream",
     "text": [
      "100%|██████████| 9/9 [00:01<00:00,  4.89it/s]\n",
      "100%|██████████| 2/2 [00:00<00:00, 14.82it/s]\n",
      "  0%|          | 0/9 [00:00<?, ?it/s]"
     ]
    },
    {
     "name": "stdout",
     "output_type": "stream",
     "text": [
      "Train Loss: 0.1756, Train Acc: 0.9300\n",
      "Val Loss: 0.1888, Val Acc: 0.9246\n",
      "Validation loss decreased (0.192088 --> 0.188837).  Saving model ...\n",
      "../WeightsFinal_0.3_model_weights/Weights_replay_500/2018-01/best_model_epoch_27.pt\n",
      "../WeightsFinal_0.3_optimizer_weights/Weights_replay_500/2018-01/best_optimizer_epoch_27.pt\n",
      "Epoch 28 of 500\n"
     ]
    },
    {
     "name": "stderr",
     "output_type": "stream",
     "text": [
      "100%|██████████| 9/9 [00:01<00:00,  4.77it/s]\n",
      "100%|██████████| 2/2 [00:00<00:00,  7.13it/s]\n",
      "  0%|          | 0/9 [00:00<?, ?it/s]"
     ]
    },
    {
     "name": "stdout",
     "output_type": "stream",
     "text": [
      "Train Loss: 0.1756, Train Acc: 0.9288\n",
      "Val Loss: 0.1924, Val Acc: 0.9272\n",
      "EarlyStopping counter: 1 out of 5\n",
      "Epoch 29 of 500\n"
     ]
    },
    {
     "name": "stderr",
     "output_type": "stream",
     "text": [
      "100%|██████████| 9/9 [00:01<00:00,  5.84it/s]\n",
      "100%|██████████| 2/2 [00:00<00:00, 11.88it/s]\n",
      "  0%|          | 0/9 [00:00<?, ?it/s]"
     ]
    },
    {
     "name": "stdout",
     "output_type": "stream",
     "text": [
      "Train Loss: 0.1748, Train Acc: 0.9306\n",
      "Val Loss: 0.1879, Val Acc: 0.9250\n",
      "Validation loss decreased (0.188837 --> 0.187929).  Saving model ...\n",
      "../WeightsFinal_0.3_model_weights/Weights_replay_500/2018-01/best_model_epoch_29.pt\n",
      "../WeightsFinal_0.3_optimizer_weights/Weights_replay_500/2018-01/best_optimizer_epoch_29.pt\n",
      "Epoch 30 of 500\n"
     ]
    },
    {
     "name": "stderr",
     "output_type": "stream",
     "text": [
      "100%|██████████| 9/9 [00:01<00:00,  5.95it/s]\n",
      "100%|██████████| 2/2 [00:00<00:00, 14.10it/s]\n",
      "  0%|          | 0/9 [00:00<?, ?it/s]"
     ]
    },
    {
     "name": "stdout",
     "output_type": "stream",
     "text": [
      "Train Loss: 0.1691, Train Acc: 0.9327\n",
      "Val Loss: 0.1884, Val Acc: 0.9276\n",
      "EarlyStopping counter: 1 out of 5\n",
      "Epoch 31 of 500\n"
     ]
    },
    {
     "name": "stderr",
     "output_type": "stream",
     "text": [
      "100%|██████████| 9/9 [00:01<00:00,  5.20it/s]\n",
      "100%|██████████| 2/2 [00:00<00:00, 13.93it/s]\n",
      "  0%|          | 0/9 [00:00<?, ?it/s]"
     ]
    },
    {
     "name": "stdout",
     "output_type": "stream",
     "text": [
      "Train Loss: 0.1630, Train Acc: 0.9364\n",
      "Val Loss: 0.1836, Val Acc: 0.9251\n",
      "Validation loss decreased (0.187929 --> 0.183564).  Saving model ...\n",
      "../WeightsFinal_0.3_model_weights/Weights_replay_500/2018-01/best_model_epoch_31.pt\n",
      "../WeightsFinal_0.3_optimizer_weights/Weights_replay_500/2018-01/best_optimizer_epoch_31.pt\n",
      "Epoch 32 of 500\n"
     ]
    },
    {
     "name": "stderr",
     "output_type": "stream",
     "text": [
      "100%|██████████| 9/9 [00:01<00:00,  5.28it/s]\n",
      "100%|██████████| 2/2 [00:00<00:00,  6.77it/s]\n",
      "  0%|          | 0/9 [00:00<?, ?it/s]"
     ]
    },
    {
     "name": "stdout",
     "output_type": "stream",
     "text": [
      "Train Loss: 0.1629, Train Acc: 0.9357\n",
      "Val Loss: 0.1831, Val Acc: 0.9321\n",
      "Validation loss decreased (0.183564 --> 0.183055).  Saving model ...\n",
      "../WeightsFinal_0.3_model_weights/Weights_replay_500/2018-01/best_model_epoch_32.pt\n",
      "../WeightsFinal_0.3_optimizer_weights/Weights_replay_500/2018-01/best_optimizer_epoch_32.pt\n",
      "Epoch 33 of 500\n"
     ]
    },
    {
     "name": "stderr",
     "output_type": "stream",
     "text": [
      "100%|██████████| 9/9 [00:01<00:00,  5.61it/s]\n",
      "100%|██████████| 2/2 [00:00<00:00, 14.61it/s]\n",
      "  0%|          | 0/9 [00:00<?, ?it/s]"
     ]
    },
    {
     "name": "stdout",
     "output_type": "stream",
     "text": [
      "Train Loss: 0.1587, Train Acc: 0.9377\n",
      "Val Loss: 0.1804, Val Acc: 0.9324\n",
      "Validation loss decreased (0.183055 --> 0.180430).  Saving model ...\n",
      "../WeightsFinal_0.3_model_weights/Weights_replay_500/2018-01/best_model_epoch_33.pt\n",
      "../WeightsFinal_0.3_optimizer_weights/Weights_replay_500/2018-01/best_optimizer_epoch_33.pt\n",
      "Epoch 34 of 500\n"
     ]
    },
    {
     "name": "stderr",
     "output_type": "stream",
     "text": [
      "100%|██████████| 9/9 [00:01<00:00,  5.92it/s]\n",
      "100%|██████████| 2/2 [00:00<00:00, 14.40it/s]\n",
      "  0%|          | 0/9 [00:00<?, ?it/s]"
     ]
    },
    {
     "name": "stdout",
     "output_type": "stream",
     "text": [
      "Train Loss: 0.1599, Train Acc: 0.9369\n",
      "Val Loss: 0.1766, Val Acc: 0.9323\n",
      "Validation loss decreased (0.180430 --> 0.176597).  Saving model ...\n",
      "../WeightsFinal_0.3_model_weights/Weights_replay_500/2018-01/best_model_epoch_34.pt\n",
      "../WeightsFinal_0.3_optimizer_weights/Weights_replay_500/2018-01/best_optimizer_epoch_34.pt\n",
      "Epoch 35 of 500\n"
     ]
    },
    {
     "name": "stderr",
     "output_type": "stream",
     "text": [
      "100%|██████████| 9/9 [00:01<00:00,  4.74it/s]\n",
      "100%|██████████| 2/2 [00:00<00:00,  5.61it/s]\n",
      "  0%|          | 0/9 [00:00<?, ?it/s]"
     ]
    },
    {
     "name": "stdout",
     "output_type": "stream",
     "text": [
      "Train Loss: 0.1536, Train Acc: 0.9391\n",
      "Val Loss: 0.1778, Val Acc: 0.9301\n",
      "EarlyStopping counter: 1 out of 5\n",
      "Epoch 36 of 500\n"
     ]
    },
    {
     "name": "stderr",
     "output_type": "stream",
     "text": [
      "100%|██████████| 9/9 [00:01<00:00,  6.17it/s]\n",
      "100%|██████████| 2/2 [00:00<00:00, 14.68it/s]\n",
      "  0%|          | 0/9 [00:00<?, ?it/s]"
     ]
    },
    {
     "name": "stdout",
     "output_type": "stream",
     "text": [
      "Train Loss: 0.1537, Train Acc: 0.9401\n",
      "Val Loss: 0.1777, Val Acc: 0.9294\n",
      "EarlyStopping counter: 2 out of 5\n",
      "Epoch 37 of 500\n"
     ]
    },
    {
     "name": "stderr",
     "output_type": "stream",
     "text": [
      "100%|██████████| 9/9 [00:01<00:00,  5.51it/s]\n",
      "100%|██████████| 2/2 [00:00<00:00, 14.85it/s]\n",
      "  0%|          | 0/9 [00:00<?, ?it/s]"
     ]
    },
    {
     "name": "stdout",
     "output_type": "stream",
     "text": [
      "Train Loss: 0.1518, Train Acc: 0.9393\n",
      "Val Loss: 0.1745, Val Acc: 0.9295\n",
      "Validation loss decreased (0.176597 --> 0.174547).  Saving model ...\n",
      "../WeightsFinal_0.3_model_weights/Weights_replay_500/2018-01/best_model_epoch_37.pt\n",
      "../WeightsFinal_0.3_optimizer_weights/Weights_replay_500/2018-01/best_optimizer_epoch_37.pt\n",
      "Epoch 38 of 500\n"
     ]
    },
    {
     "name": "stderr",
     "output_type": "stream",
     "text": [
      "100%|██████████| 9/9 [00:01<00:00,  5.22it/s]\n",
      "100%|██████████| 2/2 [00:00<00:00, 11.36it/s]\n",
      "  0%|          | 0/9 [00:00<?, ?it/s]"
     ]
    },
    {
     "name": "stdout",
     "output_type": "stream",
     "text": [
      "Train Loss: 0.1466, Train Acc: 0.9414\n",
      "Val Loss: 0.1762, Val Acc: 0.9302\n",
      "EarlyStopping counter: 1 out of 5\n",
      "Epoch 39 of 500\n"
     ]
    },
    {
     "name": "stderr",
     "output_type": "stream",
     "text": [
      "100%|██████████| 9/9 [00:01<00:00,  4.79it/s]\n",
      "100%|██████████| 2/2 [00:00<00:00,  6.49it/s]\n",
      "  0%|          | 0/9 [00:00<?, ?it/s]"
     ]
    },
    {
     "name": "stdout",
     "output_type": "stream",
     "text": [
      "Train Loss: 0.1439, Train Acc: 0.9439\n",
      "Val Loss: 0.1698, Val Acc: 0.9340\n",
      "Validation loss decreased (0.174547 --> 0.169798).  Saving model ...\n",
      "../WeightsFinal_0.3_model_weights/Weights_replay_500/2018-01/best_model_epoch_39.pt\n",
      "../WeightsFinal_0.3_optimizer_weights/Weights_replay_500/2018-01/best_optimizer_epoch_39.pt\n",
      "Epoch 40 of 500\n"
     ]
    },
    {
     "name": "stderr",
     "output_type": "stream",
     "text": [
      "100%|██████████| 9/9 [00:01<00:00,  6.01it/s]\n",
      "100%|██████████| 2/2 [00:00<00:00, 12.99it/s]\n",
      "  0%|          | 0/9 [00:00<?, ?it/s]"
     ]
    },
    {
     "name": "stdout",
     "output_type": "stream",
     "text": [
      "Train Loss: 0.1440, Train Acc: 0.9435\n",
      "Val Loss: 0.1730, Val Acc: 0.9286\n",
      "EarlyStopping counter: 1 out of 5\n",
      "Epoch 41 of 500\n"
     ]
    },
    {
     "name": "stderr",
     "output_type": "stream",
     "text": [
      "100%|██████████| 9/9 [00:01<00:00,  5.68it/s]\n",
      "100%|██████████| 2/2 [00:00<00:00, 11.52it/s]\n",
      "  0%|          | 0/9 [00:00<?, ?it/s]"
     ]
    },
    {
     "name": "stdout",
     "output_type": "stream",
     "text": [
      "Train Loss: 0.1436, Train Acc: 0.9433\n",
      "Val Loss: 0.1721, Val Acc: 0.9342\n",
      "EarlyStopping counter: 2 out of 5\n",
      "Epoch 42 of 500\n"
     ]
    },
    {
     "name": "stderr",
     "output_type": "stream",
     "text": [
      "100%|██████████| 9/9 [00:01<00:00,  5.63it/s]\n",
      "100%|██████████| 2/2 [00:00<00:00, 15.59it/s]\n",
      "  0%|          | 0/9 [00:00<?, ?it/s]"
     ]
    },
    {
     "name": "stdout",
     "output_type": "stream",
     "text": [
      "Train Loss: 0.1388, Train Acc: 0.9461\n",
      "Val Loss: 0.1694, Val Acc: 0.9341\n",
      "Validation loss decreased (0.169798 --> 0.169405).  Saving model ...\n",
      "../WeightsFinal_0.3_model_weights/Weights_replay_500/2018-01/best_model_epoch_42.pt\n",
      "../WeightsFinal_0.3_optimizer_weights/Weights_replay_500/2018-01/best_optimizer_epoch_42.pt\n",
      "Epoch 43 of 500\n"
     ]
    },
    {
     "name": "stderr",
     "output_type": "stream",
     "text": [
      "100%|██████████| 9/9 [00:01<00:00,  5.65it/s]\n",
      "100%|██████████| 2/2 [00:00<00:00,  7.89it/s]\n",
      "  0%|          | 0/9 [00:00<?, ?it/s]"
     ]
    },
    {
     "name": "stdout",
     "output_type": "stream",
     "text": [
      "Train Loss: 0.1409, Train Acc: 0.9443\n",
      "Val Loss: 0.1698, Val Acc: 0.9312\n",
      "EarlyStopping counter: 1 out of 5\n",
      "Epoch 44 of 500\n"
     ]
    },
    {
     "name": "stderr",
     "output_type": "stream",
     "text": [
      "100%|██████████| 9/9 [00:01<00:00,  5.24it/s]\n",
      "100%|██████████| 2/2 [00:00<00:00, 11.59it/s]\n",
      "  0%|          | 0/9 [00:00<?, ?it/s]"
     ]
    },
    {
     "name": "stdout",
     "output_type": "stream",
     "text": [
      "Train Loss: 0.1363, Train Acc: 0.9474\n",
      "Val Loss: 0.1622, Val Acc: 0.9358\n",
      "Validation loss decreased (0.169405 --> 0.162242).  Saving model ...\n",
      "../WeightsFinal_0.3_model_weights/Weights_replay_500/2018-01/best_model_epoch_44.pt\n",
      "../WeightsFinal_0.3_optimizer_weights/Weights_replay_500/2018-01/best_optimizer_epoch_44.pt\n",
      "Epoch 45 of 500\n"
     ]
    },
    {
     "name": "stderr",
     "output_type": "stream",
     "text": [
      "100%|██████████| 9/9 [00:01<00:00,  5.93it/s]\n",
      "100%|██████████| 2/2 [00:00<00:00, 14.19it/s]\n",
      "  0%|          | 0/9 [00:00<?, ?it/s]"
     ]
    },
    {
     "name": "stdout",
     "output_type": "stream",
     "text": [
      "Train Loss: 0.1313, Train Acc: 0.9492\n",
      "Val Loss: 0.1700, Val Acc: 0.9264\n",
      "EarlyStopping counter: 1 out of 5\n",
      "Epoch 46 of 500\n"
     ]
    },
    {
     "name": "stderr",
     "output_type": "stream",
     "text": [
      "100%|██████████| 9/9 [00:01<00:00,  5.72it/s]\n",
      "100%|██████████| 2/2 [00:00<00:00, 14.51it/s]\n",
      "  0%|          | 0/9 [00:00<?, ?it/s]"
     ]
    },
    {
     "name": "stdout",
     "output_type": "stream",
     "text": [
      "Train Loss: 0.1313, Train Acc: 0.9496\n",
      "Val Loss: 0.1601, Val Acc: 0.9420\n",
      "Validation loss decreased (0.162242 --> 0.160064).  Saving model ...\n",
      "../WeightsFinal_0.3_model_weights/Weights_replay_500/2018-01/best_model_epoch_46.pt\n",
      "../WeightsFinal_0.3_optimizer_weights/Weights_replay_500/2018-01/best_optimizer_epoch_46.pt\n",
      "Epoch 47 of 500\n"
     ]
    },
    {
     "name": "stderr",
     "output_type": "stream",
     "text": [
      "100%|██████████| 9/9 [00:01<00:00,  4.86it/s]\n",
      "100%|██████████| 2/2 [00:00<00:00,  7.74it/s]\n",
      "  0%|          | 0/9 [00:00<?, ?it/s]"
     ]
    },
    {
     "name": "stdout",
     "output_type": "stream",
     "text": [
      "Train Loss: 0.1286, Train Acc: 0.9509\n",
      "Val Loss: 0.1605, Val Acc: 0.9365\n",
      "EarlyStopping counter: 1 out of 5\n",
      "Epoch 48 of 500\n"
     ]
    },
    {
     "name": "stderr",
     "output_type": "stream",
     "text": [
      "100%|██████████| 9/9 [00:01<00:00,  5.90it/s]\n",
      "100%|██████████| 2/2 [00:00<00:00, 11.98it/s]\n",
      "  0%|          | 0/9 [00:00<?, ?it/s]"
     ]
    },
    {
     "name": "stdout",
     "output_type": "stream",
     "text": [
      "Train Loss: 0.1274, Train Acc: 0.9505\n",
      "Val Loss: 0.1575, Val Acc: 0.9361\n",
      "Validation loss decreased (0.160064 --> 0.157525).  Saving model ...\n",
      "../WeightsFinal_0.3_model_weights/Weights_replay_500/2018-01/best_model_epoch_48.pt\n",
      "../WeightsFinal_0.3_optimizer_weights/Weights_replay_500/2018-01/best_optimizer_epoch_48.pt\n",
      "Epoch 49 of 500\n"
     ]
    },
    {
     "name": "stderr",
     "output_type": "stream",
     "text": [
      "100%|██████████| 9/9 [00:01<00:00,  5.87it/s]\n",
      "100%|██████████| 2/2 [00:00<00:00, 14.20it/s]\n",
      "  0%|          | 0/9 [00:00<?, ?it/s]"
     ]
    },
    {
     "name": "stdout",
     "output_type": "stream",
     "text": [
      "Train Loss: 0.1279, Train Acc: 0.9500\n",
      "Val Loss: 0.1588, Val Acc: 0.9363\n",
      "EarlyStopping counter: 1 out of 5\n",
      "Epoch 50 of 500\n"
     ]
    },
    {
     "name": "stderr",
     "output_type": "stream",
     "text": [
      "100%|██████████| 9/9 [00:01<00:00,  5.47it/s]\n",
      "100%|██████████| 2/2 [00:00<00:00, 15.05it/s]\n",
      "  0%|          | 0/9 [00:00<?, ?it/s]"
     ]
    },
    {
     "name": "stdout",
     "output_type": "stream",
     "text": [
      "Train Loss: 0.1247, Train Acc: 0.9514\n",
      "Val Loss: 0.1600, Val Acc: 0.9382\n",
      "EarlyStopping counter: 2 out of 5\n",
      "Epoch 51 of 500\n"
     ]
    },
    {
     "name": "stderr",
     "output_type": "stream",
     "text": [
      "100%|██████████| 9/9 [00:01<00:00,  5.56it/s]\n",
      "100%|██████████| 2/2 [00:00<00:00,  8.01it/s]\n",
      "  0%|          | 0/9 [00:00<?, ?it/s]"
     ]
    },
    {
     "name": "stdout",
     "output_type": "stream",
     "text": [
      "Train Loss: 0.1223, Train Acc: 0.9515\n",
      "Val Loss: 0.1534, Val Acc: 0.9398\n",
      "Validation loss decreased (0.157525 --> 0.153363).  Saving model ...\n",
      "../WeightsFinal_0.3_model_weights/Weights_replay_500/2018-01/best_model_epoch_51.pt\n",
      "../WeightsFinal_0.3_optimizer_weights/Weights_replay_500/2018-01/best_optimizer_epoch_51.pt\n",
      "Epoch 52 of 500\n"
     ]
    },
    {
     "name": "stderr",
     "output_type": "stream",
     "text": [
      "100%|██████████| 9/9 [00:01<00:00,  5.62it/s]\n",
      "100%|██████████| 2/2 [00:00<00:00, 14.49it/s]\n",
      "  0%|          | 0/9 [00:00<?, ?it/s]"
     ]
    },
    {
     "name": "stdout",
     "output_type": "stream",
     "text": [
      "Train Loss: 0.1158, Train Acc: 0.9558\n",
      "Val Loss: 0.1543, Val Acc: 0.9392\n",
      "EarlyStopping counter: 1 out of 5\n",
      "Epoch 53 of 500\n"
     ]
    },
    {
     "name": "stderr",
     "output_type": "stream",
     "text": [
      "100%|██████████| 9/9 [00:01<00:00,  5.56it/s]\n",
      "100%|██████████| 2/2 [00:00<00:00, 14.22it/s]\n",
      "  0%|          | 0/9 [00:00<?, ?it/s]"
     ]
    },
    {
     "name": "stdout",
     "output_type": "stream",
     "text": [
      "Train Loss: 0.1204, Train Acc: 0.9535\n",
      "Val Loss: 0.1536, Val Acc: 0.9449\n",
      "EarlyStopping counter: 2 out of 5\n",
      "Epoch 54 of 500\n"
     ]
    },
    {
     "name": "stderr",
     "output_type": "stream",
     "text": [
      "100%|██████████| 9/9 [00:01<00:00,  5.23it/s]\n",
      "100%|██████████| 2/2 [00:00<00:00,  7.42it/s]\n",
      "  0%|          | 0/9 [00:00<?, ?it/s]"
     ]
    },
    {
     "name": "stdout",
     "output_type": "stream",
     "text": [
      "Train Loss: 0.1174, Train Acc: 0.9544\n",
      "Val Loss: 0.1557, Val Acc: 0.9449\n",
      "EarlyStopping counter: 3 out of 5\n",
      "Epoch 55 of 500\n"
     ]
    },
    {
     "name": "stderr",
     "output_type": "stream",
     "text": [
      "100%|██████████| 9/9 [00:01<00:00,  5.27it/s]\n",
      "100%|██████████| 2/2 [00:00<00:00, 12.71it/s]\n",
      "  0%|          | 0/9 [00:00<?, ?it/s]"
     ]
    },
    {
     "name": "stdout",
     "output_type": "stream",
     "text": [
      "Train Loss: 0.1191, Train Acc: 0.9537\n",
      "Val Loss: 0.1548, Val Acc: 0.9421\n",
      "EarlyStopping counter: 4 out of 5\n",
      "Epoch 56 of 500\n"
     ]
    },
    {
     "name": "stderr",
     "output_type": "stream",
     "text": [
      "100%|██████████| 9/9 [00:01<00:00,  5.38it/s]\n",
      "100%|██████████| 2/2 [00:00<00:00, 14.98it/s]\n",
      "  0%|          | 0/9 [00:00<?, ?it/s]"
     ]
    },
    {
     "name": "stdout",
     "output_type": "stream",
     "text": [
      "Train Loss: 0.1181, Train Acc: 0.9552\n",
      "Val Loss: 0.1525, Val Acc: 0.9400\n",
      "Validation loss decreased (0.153363 --> 0.152510).  Saving model ...\n",
      "../WeightsFinal_0.3_model_weights/Weights_replay_500/2018-01/best_model_epoch_56.pt\n",
      "../WeightsFinal_0.3_optimizer_weights/Weights_replay_500/2018-01/best_optimizer_epoch_56.pt\n",
      "Epoch 57 of 500\n"
     ]
    },
    {
     "name": "stderr",
     "output_type": "stream",
     "text": [
      "100%|██████████| 9/9 [00:01<00:00,  5.29it/s]\n",
      "100%|██████████| 2/2 [00:00<00:00, 14.31it/s]\n",
      "  0%|          | 0/9 [00:00<?, ?it/s]"
     ]
    },
    {
     "name": "stdout",
     "output_type": "stream",
     "text": [
      "Train Loss: 0.1131, Train Acc: 0.9560\n",
      "Val Loss: 0.1523, Val Acc: 0.9425\n",
      "Validation loss decreased (0.152510 --> 0.152285).  Saving model ...\n",
      "../WeightsFinal_0.3_model_weights/Weights_replay_500/2018-01/best_model_epoch_57.pt\n",
      "../WeightsFinal_0.3_optimizer_weights/Weights_replay_500/2018-01/best_optimizer_epoch_57.pt\n",
      "Epoch 58 of 500\n"
     ]
    },
    {
     "name": "stderr",
     "output_type": "stream",
     "text": [
      "100%|██████████| 9/9 [00:01<00:00,  5.19it/s]\n",
      "100%|██████████| 2/2 [00:00<00:00,  7.38it/s]\n",
      "  0%|          | 0/9 [00:00<?, ?it/s]"
     ]
    },
    {
     "name": "stdout",
     "output_type": "stream",
     "text": [
      "Train Loss: 0.1121, Train Acc: 0.9564\n",
      "Val Loss: 0.1512, Val Acc: 0.9403\n",
      "Validation loss decreased (0.152285 --> 0.151224).  Saving model ...\n",
      "../WeightsFinal_0.3_model_weights/Weights_replay_500/2018-01/best_model_epoch_58.pt\n",
      "../WeightsFinal_0.3_optimizer_weights/Weights_replay_500/2018-01/best_optimizer_epoch_58.pt\n",
      "Epoch 59 of 500\n"
     ]
    },
    {
     "name": "stderr",
     "output_type": "stream",
     "text": [
      "100%|██████████| 9/9 [00:01<00:00,  5.34it/s]\n",
      "100%|██████████| 2/2 [00:00<00:00, 13.34it/s]\n",
      "  0%|          | 0/9 [00:00<?, ?it/s]"
     ]
    },
    {
     "name": "stdout",
     "output_type": "stream",
     "text": [
      "Train Loss: 0.1130, Train Acc: 0.9565\n",
      "Val Loss: 0.1519, Val Acc: 0.9429\n",
      "EarlyStopping counter: 1 out of 5\n",
      "Epoch 60 of 500\n"
     ]
    },
    {
     "name": "stderr",
     "output_type": "stream",
     "text": [
      "100%|██████████| 9/9 [00:01<00:00,  5.80it/s]\n",
      "100%|██████████| 2/2 [00:00<00:00, 11.47it/s]\n",
      "  0%|          | 0/9 [00:00<?, ?it/s]"
     ]
    },
    {
     "name": "stdout",
     "output_type": "stream",
     "text": [
      "Train Loss: 0.1119, Train Acc: 0.9571\n",
      "Val Loss: 0.1512, Val Acc: 0.9458\n",
      "Validation loss decreased (0.151224 --> 0.151197).  Saving model ...\n",
      "../WeightsFinal_0.3_model_weights/Weights_replay_500/2018-01/best_model_epoch_60.pt\n",
      "../WeightsFinal_0.3_optimizer_weights/Weights_replay_500/2018-01/best_optimizer_epoch_60.pt\n",
      "Epoch 61 of 500\n"
     ]
    },
    {
     "name": "stderr",
     "output_type": "stream",
     "text": [
      "100%|██████████| 9/9 [00:01<00:00,  5.81it/s]\n",
      "100%|██████████| 2/2 [00:00<00:00, 15.68it/s]\n",
      "  0%|          | 0/9 [00:00<?, ?it/s]"
     ]
    },
    {
     "name": "stdout",
     "output_type": "stream",
     "text": [
      "Train Loss: 0.1089, Train Acc: 0.9573\n",
      "Val Loss: 0.1522, Val Acc: 0.9448\n",
      "EarlyStopping counter: 1 out of 5\n",
      "Epoch 62 of 500\n"
     ]
    },
    {
     "name": "stderr",
     "output_type": "stream",
     "text": [
      "100%|██████████| 9/9 [00:01<00:00,  5.12it/s]\n",
      "100%|██████████| 2/2 [00:00<00:00,  7.84it/s]\n",
      "  0%|          | 0/9 [00:00<?, ?it/s]"
     ]
    },
    {
     "name": "stdout",
     "output_type": "stream",
     "text": [
      "Train Loss: 0.1032, Train Acc: 0.9602\n",
      "Val Loss: 0.1521, Val Acc: 0.9406\n",
      "EarlyStopping counter: 2 out of 5\n",
      "Epoch 63 of 500\n"
     ]
    },
    {
     "name": "stderr",
     "output_type": "stream",
     "text": [
      "100%|██████████| 9/9 [00:01<00:00,  5.84it/s]\n",
      "100%|██████████| 2/2 [00:00<00:00, 15.62it/s]\n",
      "  0%|          | 0/9 [00:00<?, ?it/s]"
     ]
    },
    {
     "name": "stdout",
     "output_type": "stream",
     "text": [
      "Train Loss: 0.1078, Train Acc: 0.9580\n",
      "Val Loss: 0.1525, Val Acc: 0.9491\n",
      "EarlyStopping counter: 3 out of 5\n",
      "Epoch 64 of 500\n"
     ]
    },
    {
     "name": "stderr",
     "output_type": "stream",
     "text": [
      "100%|██████████| 9/9 [00:01<00:00,  5.40it/s]\n",
      "100%|██████████| 2/2 [00:00<00:00, 14.24it/s]\n",
      "  0%|          | 0/9 [00:00<?, ?it/s]"
     ]
    },
    {
     "name": "stdout",
     "output_type": "stream",
     "text": [
      "Train Loss: 0.1057, Train Acc: 0.9598\n",
      "Val Loss: 0.1520, Val Acc: 0.9492\n",
      "EarlyStopping counter: 4 out of 5\n",
      "Epoch 65 of 500\n"
     ]
    },
    {
     "name": "stderr",
     "output_type": "stream",
     "text": [
      "100%|██████████| 9/9 [00:01<00:00,  5.20it/s]\n",
      "100%|██████████| 2/2 [00:00<00:00, 15.35it/s]\n",
      "  0%|          | 0/9 [00:00<?, ?it/s]"
     ]
    },
    {
     "name": "stdout",
     "output_type": "stream",
     "text": [
      "Train Loss: 0.1055, Train Acc: 0.9596\n",
      "Val Loss: 0.1499, Val Acc: 0.9500\n",
      "Validation loss decreased (0.151197 --> 0.149881).  Saving model ...\n",
      "../WeightsFinal_0.3_model_weights/Weights_replay_500/2018-01/best_model_epoch_65.pt\n",
      "../WeightsFinal_0.3_optimizer_weights/Weights_replay_500/2018-01/best_optimizer_epoch_65.pt\n",
      "Epoch 66 of 500\n"
     ]
    },
    {
     "name": "stderr",
     "output_type": "stream",
     "text": [
      "100%|██████████| 9/9 [00:01<00:00,  5.34it/s]\n",
      "100%|██████████| 2/2 [00:00<00:00,  8.19it/s]\n",
      "  0%|          | 0/9 [00:00<?, ?it/s]"
     ]
    },
    {
     "name": "stdout",
     "output_type": "stream",
     "text": [
      "Train Loss: 0.1003, Train Acc: 0.9618\n",
      "Val Loss: 0.1545, Val Acc: 0.9386\n",
      "EarlyStopping counter: 1 out of 5\n",
      "Epoch 67 of 500\n"
     ]
    },
    {
     "name": "stderr",
     "output_type": "stream",
     "text": [
      "100%|██████████| 9/9 [00:01<00:00,  5.26it/s]\n",
      "100%|██████████| 2/2 [00:00<00:00, 11.75it/s]\n",
      "  0%|          | 0/9 [00:00<?, ?it/s]"
     ]
    },
    {
     "name": "stdout",
     "output_type": "stream",
     "text": [
      "Train Loss: 0.1020, Train Acc: 0.9606\n",
      "Val Loss: 0.1501, Val Acc: 0.9478\n",
      "EarlyStopping counter: 2 out of 5\n",
      "Epoch 68 of 500\n"
     ]
    },
    {
     "name": "stderr",
     "output_type": "stream",
     "text": [
      "100%|██████████| 9/9 [00:01<00:00,  5.58it/s]\n",
      "100%|██████████| 2/2 [00:00<00:00, 16.50it/s]\n",
      "  0%|          | 0/9 [00:00<?, ?it/s]"
     ]
    },
    {
     "name": "stdout",
     "output_type": "stream",
     "text": [
      "Train Loss: 0.0987, Train Acc: 0.9620\n",
      "Val Loss: 0.1501, Val Acc: 0.9446\n",
      "EarlyStopping counter: 3 out of 5\n",
      "Epoch 69 of 500\n"
     ]
    },
    {
     "name": "stderr",
     "output_type": "stream",
     "text": [
      "100%|██████████| 9/9 [00:01<00:00,  5.76it/s]\n",
      "100%|██████████| 2/2 [00:00<00:00, 15.04it/s]\n",
      "  0%|          | 0/9 [00:00<?, ?it/s]"
     ]
    },
    {
     "name": "stdout",
     "output_type": "stream",
     "text": [
      "Train Loss: 0.0967, Train Acc: 0.9628\n",
      "Val Loss: 0.1515, Val Acc: 0.9476\n",
      "EarlyStopping counter: 4 out of 5\n",
      "Epoch 70 of 500\n"
     ]
    },
    {
     "name": "stderr",
     "output_type": "stream",
     "text": [
      "100%|██████████| 9/9 [00:01<00:00,  5.17it/s]\n",
      "100%|██████████| 2/2 [00:00<00:00,  7.55it/s]\n",
      "  0%|          | 0/2 [00:00<?, ?it/s]"
     ]
    },
    {
     "name": "stdout",
     "output_type": "stream",
     "text": [
      "Train Loss: 0.0969, Train Acc: 0.9630\n",
      "Val Loss: 0.1540, Val Acc: 0.9441\n",
      "EarlyStopping counter: 5 out of 5\n",
      "Early stopping\n",
      "Training time: 2.258 minutes\n",
      "loading best model ../WeightsFinal_0.3_model_weights/Weights_replay_500/2018-01/best_model_epoch_65.pt\n",
      "loading best optimizer ../WeightsFinal_0.3_optimizer_weights/Weights_replay_500/2018-01/best_optimizer_epoch_65.pt\n"
     ]
    },
    {
     "name": "stderr",
     "output_type": "stream",
     "text": [
      "100%|██████████| 2/2 [00:00<00:00,  4.37it/s]\n"
     ]
    },
    {
     "name": "stdout",
     "output_type": "stream",
     "text": [
      "test accuracy 0.9381458461284637 and ROC-AUC 0.9435920232994573\n",
      "Elapsed time 2.3657440423965452 mins.\n",
      "\n",
      "\n",
      "2023-01-30 12:46:44 Round 3 ...\n",
      "Current Task 2018-02 w/ 500 samples to Replay per Malware family.\n",
      "X_train (48723, 2381) Y_train (48723,) Y_tr_family (48723,)\n",
      "X_test (11606, 2381) Y_test (11606,) Y_te_family (11606,)\n",
      "Task 2018-02 and #-of new samples stored 48723\n"
     ]
    },
    {
     "name": "stderr",
     "output_type": "stream",
     "text": [
      "\r",
      "  0%|          | 0/1 [00:00<?, ?it/s]"
     ]
    },
    {
     "name": "stdout",
     "output_type": "stream",
     "text": [
      "loading best model ../WeightsFinal_0.3_model_weights/Weights_replay_500/2018-01/best_model_epoch_65.pt\n"
     ]
    },
    {
     "name": "stderr",
     "output_type": "stream",
     "text": [
      "100%|██████████| 1/1 [00:00<00:00,  3.64it/s]\n",
      "100%|██████████| 1/1 [00:00<00:00,  2.35it/s]\n",
      "100%|██████████| 2/2 [00:00<00:00,  2.75it/s]\n",
      "100%|██████████| 1/1 [00:00<00:00,  2.50it/s]\n",
      "100%|██████████| 1/1 [00:00<00:00,  2.56it/s]\n",
      "100%|██████████| 1/1 [00:00<00:00,  4.04it/s]\n",
      "100%|██████████| 1/1 [00:00<00:00,  3.72it/s]\n",
      "100%|██████████| 1/1 [00:00<00:00,  3.31it/s]\n",
      "100%|██████████| 1/1 [00:00<00:00,  3.48it/s]\n",
      "100%|██████████| 1/1 [00:00<00:00,  3.56it/s]\n",
      "100%|██████████| 1/1 [00:00<00:00,  3.79it/s]\n",
      "100%|██████████| 1/1 [00:00<00:00,  2.51it/s]\n",
      "100%|██████████| 1/1 [00:00<00:00,  3.26it/s]\n",
      "100%|██████████| 1/1 [00:00<00:00,  3.58it/s]\n",
      "100%|██████████| 1/1 [00:00<00:00,  3.58it/s]\n",
      "100%|██████████| 1/1 [00:00<00:00,  3.85it/s]\n",
      "100%|██████████| 1/1 [00:00<00:00,  3.51it/s]\n",
      "100%|██████████| 1/1 [00:00<00:00,  3.37it/s]\n",
      "100%|██████████| 1/1 [00:00<00:00,  3.45it/s]\n",
      "100%|██████████| 1/1 [00:00<00:00,  3.64it/s]\n",
      "100%|██████████| 1/1 [00:00<00:00,  4.03it/s]\n"
     ]
    },
    {
     "name": "stdout",
     "output_type": "stream",
     "text": [
      "2023-01-30 12:47:26 Standardizing ...\n"
     ]
    },
    {
     "name": "stderr",
     "output_type": "stream",
     "text": [
      "\r",
      "  0%|          | 0/10 [00:00<?, ?it/s]"
     ]
    },
    {
     "name": "stdout",
     "output_type": "stream",
     "text": [
      "\n",
      "X_train (60352, 2381) Y_train (60352,)\n",
      "\n",
      "2023-01-30 12:47:31 Training ...\n",
      "Epoch 1 of 500\n"
     ]
    },
    {
     "name": "stderr",
     "output_type": "stream",
     "text": [
      "100%|██████████| 10/10 [00:01<00:00,  5.63it/s]\n",
      "100%|██████████| 2/2 [00:00<00:00,  5.16it/s]\n",
      "  0%|          | 0/10 [00:00<?, ?it/s]"
     ]
    },
    {
     "name": "stdout",
     "output_type": "stream",
     "text": [
      "Train Loss: 0.2423, Train Acc: 0.9103\n",
      "Val Loss: 0.1950, Val Acc: 0.9326\n",
      "Validation loss decreased (inf --> 0.195044).  Saving model ...\n",
      "../WeightsFinal_0.3_model_weights/Weights_replay_500/2018-02/best_model_epoch_1.pt\n",
      "../WeightsFinal_0.3_optimizer_weights/Weights_replay_500/2018-02/best_optimizer_epoch_1.pt\n",
      "Epoch 2 of 500\n"
     ]
    },
    {
     "name": "stderr",
     "output_type": "stream",
     "text": [
      "100%|██████████| 10/10 [00:01<00:00,  5.00it/s]\n",
      "100%|██████████| 2/2 [00:00<00:00,  9.07it/s]\n",
      "  0%|          | 0/10 [00:00<?, ?it/s]"
     ]
    },
    {
     "name": "stdout",
     "output_type": "stream",
     "text": [
      "Train Loss: 0.2115, Train Acc: 0.9192\n",
      "Val Loss: 0.1902, Val Acc: 0.9310\n",
      "Validation loss decreased (0.195044 --> 0.190226).  Saving model ...\n",
      "../WeightsFinal_0.3_model_weights/Weights_replay_500/2018-02/best_model_epoch_2.pt\n",
      "../WeightsFinal_0.3_optimizer_weights/Weights_replay_500/2018-02/best_optimizer_epoch_2.pt\n",
      "Epoch 3 of 500\n"
     ]
    },
    {
     "name": "stderr",
     "output_type": "stream",
     "text": [
      "100%|██████████| 10/10 [00:02<00:00,  4.83it/s]\n",
      "100%|██████████| 2/2 [00:00<00:00,  5.82it/s]\n",
      "  0%|          | 0/10 [00:00<?, ?it/s]"
     ]
    },
    {
     "name": "stdout",
     "output_type": "stream",
     "text": [
      "Train Loss: 0.2012, Train Acc: 0.9215\n",
      "Val Loss: 0.1835, Val Acc: 0.9331\n",
      "Validation loss decreased (0.190226 --> 0.183536).  Saving model ...\n",
      "../WeightsFinal_0.3_model_weights/Weights_replay_500/2018-02/best_model_epoch_3.pt\n",
      "../WeightsFinal_0.3_optimizer_weights/Weights_replay_500/2018-02/best_optimizer_epoch_3.pt\n",
      "Epoch 4 of 500\n"
     ]
    },
    {
     "name": "stderr",
     "output_type": "stream",
     "text": [
      "100%|██████████| 10/10 [00:01<00:00,  5.00it/s]\n",
      "100%|██████████| 2/2 [00:00<00:00,  8.59it/s]\n",
      "  0%|          | 0/10 [00:00<?, ?it/s]"
     ]
    },
    {
     "name": "stdout",
     "output_type": "stream",
     "text": [
      "Train Loss: 0.1925, Train Acc: 0.9253\n",
      "Val Loss: 0.1776, Val Acc: 0.9338\n",
      "Validation loss decreased (0.183536 --> 0.177608).  Saving model ...\n",
      "../WeightsFinal_0.3_model_weights/Weights_replay_500/2018-02/best_model_epoch_4.pt\n",
      "../WeightsFinal_0.3_optimizer_weights/Weights_replay_500/2018-02/best_optimizer_epoch_4.pt\n",
      "Epoch 5 of 500\n"
     ]
    },
    {
     "name": "stderr",
     "output_type": "stream",
     "text": [
      "100%|██████████| 10/10 [00:01<00:00,  5.52it/s]\n",
      "100%|██████████| 2/2 [00:00<00:00,  4.76it/s]\n",
      "  0%|          | 0/10 [00:00<?, ?it/s]"
     ]
    },
    {
     "name": "stdout",
     "output_type": "stream",
     "text": [
      "Train Loss: 0.1837, Train Acc: 0.9268\n",
      "Val Loss: 0.1716, Val Acc: 0.9367\n",
      "Validation loss decreased (0.177608 --> 0.171580).  Saving model ...\n",
      "../WeightsFinal_0.3_model_weights/Weights_replay_500/2018-02/best_model_epoch_5.pt\n",
      "../WeightsFinal_0.3_optimizer_weights/Weights_replay_500/2018-02/best_optimizer_epoch_5.pt\n",
      "Epoch 6 of 500\n"
     ]
    },
    {
     "name": "stderr",
     "output_type": "stream",
     "text": [
      "100%|██████████| 10/10 [00:01<00:00,  5.58it/s]\n",
      "100%|██████████| 2/2 [00:00<00:00,  6.27it/s]\n",
      "  0%|          | 0/10 [00:00<?, ?it/s]"
     ]
    },
    {
     "name": "stdout",
     "output_type": "stream",
     "text": [
      "Train Loss: 0.1803, Train Acc: 0.9278\n",
      "Val Loss: 0.1709, Val Acc: 0.9354\n",
      "Validation loss decreased (0.171580 --> 0.170882).  Saving model ...\n",
      "../WeightsFinal_0.3_model_weights/Weights_replay_500/2018-02/best_model_epoch_6.pt\n",
      "../WeightsFinal_0.3_optimizer_weights/Weights_replay_500/2018-02/best_optimizer_epoch_6.pt\n",
      "Epoch 7 of 500\n"
     ]
    },
    {
     "name": "stderr",
     "output_type": "stream",
     "text": [
      "100%|██████████| 10/10 [00:02<00:00,  4.67it/s]\n",
      "100%|██████████| 2/2 [00:00<00:00,  4.96it/s]\n"
     ]
    },
    {
     "name": "stdout",
     "output_type": "stream",
     "text": [
      "Train Loss: 0.1724, Train Acc: 0.9316\n",
      "Val Loss: 0.1686, Val Acc: 0.9354\n",
      "Validation loss decreased (0.170882 --> 0.168609).  Saving model ...\n",
      "../WeightsFinal_0.3_model_weights/Weights_replay_500/2018-02/best_model_epoch_7.pt\n",
      "../WeightsFinal_0.3_optimizer_weights/Weights_replay_500/2018-02/best_optimizer_epoch_7.pt\n"
     ]
    },
    {
     "name": "stderr",
     "output_type": "stream",
     "text": [
      "\r",
      "  0%|          | 0/10 [00:00<?, ?it/s]"
     ]
    },
    {
     "name": "stdout",
     "output_type": "stream",
     "text": [
      "Epoch 8 of 500\n"
     ]
    },
    {
     "name": "stderr",
     "output_type": "stream",
     "text": [
      "100%|██████████| 10/10 [00:02<00:00,  4.76it/s]\n",
      "100%|██████████| 2/2 [00:00<00:00,  8.00it/s]\n",
      "  0%|          | 0/10 [00:00<?, ?it/s]"
     ]
    },
    {
     "name": "stdout",
     "output_type": "stream",
     "text": [
      "Train Loss: 0.1716, Train Acc: 0.9315\n",
      "Val Loss: 0.1676, Val Acc: 0.9366\n",
      "Validation loss decreased (0.168609 --> 0.167582).  Saving model ...\n",
      "../WeightsFinal_0.3_model_weights/Weights_replay_500/2018-02/best_model_epoch_8.pt\n",
      "../WeightsFinal_0.3_optimizer_weights/Weights_replay_500/2018-02/best_optimizer_epoch_8.pt\n",
      "Epoch 9 of 500\n"
     ]
    },
    {
     "name": "stderr",
     "output_type": "stream",
     "text": [
      "100%|██████████| 10/10 [00:01<00:00,  5.89it/s]\n",
      "100%|██████████| 2/2 [00:00<00:00,  5.62it/s]\n",
      "  0%|          | 0/10 [00:00<?, ?it/s]"
     ]
    },
    {
     "name": "stdout",
     "output_type": "stream",
     "text": [
      "Train Loss: 0.1699, Train Acc: 0.9333\n",
      "Val Loss: 0.1641, Val Acc: 0.9376\n",
      "Validation loss decreased (0.167582 --> 0.164128).  Saving model ...\n",
      "../WeightsFinal_0.3_model_weights/Weights_replay_500/2018-02/best_model_epoch_9.pt\n",
      "../WeightsFinal_0.3_optimizer_weights/Weights_replay_500/2018-02/best_optimizer_epoch_9.pt\n",
      "Epoch 10 of 500\n"
     ]
    },
    {
     "name": "stderr",
     "output_type": "stream",
     "text": [
      "100%|██████████| 10/10 [00:01<00:00,  5.48it/s]\n",
      "100%|██████████| 2/2 [00:00<00:00,  9.33it/s]\n",
      "  0%|          | 0/10 [00:00<?, ?it/s]"
     ]
    },
    {
     "name": "stdout",
     "output_type": "stream",
     "text": [
      "Train Loss: 0.1664, Train Acc: 0.9342\n",
      "Val Loss: 0.1662, Val Acc: 0.9381\n",
      "EarlyStopping counter: 1 out of 5\n",
      "Epoch 11 of 500\n"
     ]
    },
    {
     "name": "stderr",
     "output_type": "stream",
     "text": [
      "100%|██████████| 10/10 [00:01<00:00,  5.46it/s]\n",
      "100%|██████████| 2/2 [00:00<00:00,  6.16it/s]\n",
      "  0%|          | 0/10 [00:00<?, ?it/s]"
     ]
    },
    {
     "name": "stdout",
     "output_type": "stream",
     "text": [
      "Train Loss: 0.1612, Train Acc: 0.9353\n",
      "Val Loss: 0.1616, Val Acc: 0.9386\n",
      "Validation loss decreased (0.164128 --> 0.161607).  Saving model ...\n",
      "../WeightsFinal_0.3_model_weights/Weights_replay_500/2018-02/best_model_epoch_11.pt\n",
      "../WeightsFinal_0.3_optimizer_weights/Weights_replay_500/2018-02/best_optimizer_epoch_11.pt\n",
      "Epoch 12 of 500\n"
     ]
    },
    {
     "name": "stderr",
     "output_type": "stream",
     "text": [
      "100%|██████████| 10/10 [00:01<00:00,  6.04it/s]\n",
      "100%|██████████| 2/2 [00:00<00:00,  6.81it/s]\n",
      "  0%|          | 0/10 [00:00<?, ?it/s]"
     ]
    },
    {
     "name": "stdout",
     "output_type": "stream",
     "text": [
      "Train Loss: 0.1618, Train Acc: 0.9362\n",
      "Val Loss: 0.1666, Val Acc: 0.9362\n",
      "EarlyStopping counter: 1 out of 5\n",
      "Epoch 13 of 500\n"
     ]
    },
    {
     "name": "stderr",
     "output_type": "stream",
     "text": [
      "100%|██████████| 10/10 [00:01<00:00,  5.92it/s]\n",
      "100%|██████████| 2/2 [00:00<00:00,  5.99it/s]\n",
      "  0%|          | 0/10 [00:00<?, ?it/s]"
     ]
    },
    {
     "name": "stdout",
     "output_type": "stream",
     "text": [
      "Train Loss: 0.1573, Train Acc: 0.9380\n",
      "Val Loss: 0.1613, Val Acc: 0.9387\n",
      "Validation loss decreased (0.161607 --> 0.161299).  Saving model ...\n",
      "../WeightsFinal_0.3_model_weights/Weights_replay_500/2018-02/best_model_epoch_13.pt\n",
      "../WeightsFinal_0.3_optimizer_weights/Weights_replay_500/2018-02/best_optimizer_epoch_13.pt\n",
      "Epoch 14 of 500\n"
     ]
    },
    {
     "name": "stderr",
     "output_type": "stream",
     "text": [
      "100%|██████████| 10/10 [00:01<00:00,  6.05it/s]\n",
      "100%|██████████| 2/2 [00:00<00:00,  9.49it/s]\n",
      "  0%|          | 0/10 [00:00<?, ?it/s]"
     ]
    },
    {
     "name": "stdout",
     "output_type": "stream",
     "text": [
      "Train Loss: 0.1568, Train Acc: 0.9383\n",
      "Val Loss: 0.1602, Val Acc: 0.9401\n",
      "Validation loss decreased (0.161299 --> 0.160236).  Saving model ...\n",
      "../WeightsFinal_0.3_model_weights/Weights_replay_500/2018-02/best_model_epoch_14.pt\n",
      "../WeightsFinal_0.3_optimizer_weights/Weights_replay_500/2018-02/best_optimizer_epoch_14.pt\n",
      "Epoch 15 of 500\n"
     ]
    },
    {
     "name": "stderr",
     "output_type": "stream",
     "text": [
      "100%|██████████| 10/10 [00:01<00:00,  5.92it/s]\n",
      "100%|██████████| 2/2 [00:00<00:00,  6.56it/s]\n",
      "  0%|          | 0/10 [00:00<?, ?it/s]"
     ]
    },
    {
     "name": "stdout",
     "output_type": "stream",
     "text": [
      "Train Loss: 0.1555, Train Acc: 0.9392\n",
      "Val Loss: 0.1610, Val Acc: 0.9400\n",
      "EarlyStopping counter: 1 out of 5\n",
      "Epoch 16 of 500\n"
     ]
    },
    {
     "name": "stderr",
     "output_type": "stream",
     "text": [
      "100%|██████████| 10/10 [00:01<00:00,  6.18it/s]\n",
      "100%|██████████| 2/2 [00:00<00:00,  7.51it/s]\n",
      "  0%|          | 0/10 [00:00<?, ?it/s]"
     ]
    },
    {
     "name": "stdout",
     "output_type": "stream",
     "text": [
      "Train Loss: 0.1527, Train Acc: 0.9400\n",
      "Val Loss: 0.1575, Val Acc: 0.9418\n",
      "Validation loss decreased (0.160236 --> 0.157507).  Saving model ...\n",
      "../WeightsFinal_0.3_model_weights/Weights_replay_500/2018-02/best_model_epoch_16.pt\n",
      "../WeightsFinal_0.3_optimizer_weights/Weights_replay_500/2018-02/best_optimizer_epoch_16.pt\n",
      "Epoch 17 of 500\n"
     ]
    },
    {
     "name": "stderr",
     "output_type": "stream",
     "text": [
      "100%|██████████| 10/10 [00:01<00:00,  5.91it/s]\n",
      "100%|██████████| 2/2 [00:00<00:00,  8.60it/s]\n",
      "  0%|          | 0/10 [00:00<?, ?it/s]"
     ]
    },
    {
     "name": "stdout",
     "output_type": "stream",
     "text": [
      "Train Loss: 0.1495, Train Acc: 0.9409\n",
      "Val Loss: 0.1593, Val Acc: 0.9409\n",
      "EarlyStopping counter: 1 out of 5\n",
      "Epoch 18 of 500\n"
     ]
    },
    {
     "name": "stderr",
     "output_type": "stream",
     "text": [
      "100%|██████████| 10/10 [00:01<00:00,  5.71it/s]\n",
      "100%|██████████| 2/2 [00:00<00:00,  9.59it/s]\n",
      "  0%|          | 0/10 [00:00<?, ?it/s]"
     ]
    },
    {
     "name": "stdout",
     "output_type": "stream",
     "text": [
      "Train Loss: 0.1509, Train Acc: 0.9411\n",
      "Val Loss: 0.1581, Val Acc: 0.9415\n",
      "EarlyStopping counter: 2 out of 5\n",
      "Epoch 19 of 500\n"
     ]
    },
    {
     "name": "stderr",
     "output_type": "stream",
     "text": [
      "100%|██████████| 10/10 [00:01<00:00,  5.84it/s]\n",
      "100%|██████████| 2/2 [00:00<00:00,  6.07it/s]\n",
      "  0%|          | 0/10 [00:00<?, ?it/s]"
     ]
    },
    {
     "name": "stdout",
     "output_type": "stream",
     "text": [
      "Train Loss: 0.1434, Train Acc: 0.9438\n",
      "Val Loss: 0.1608, Val Acc: 0.9404\n",
      "EarlyStopping counter: 3 out of 5\n",
      "Epoch 20 of 500\n"
     ]
    },
    {
     "name": "stderr",
     "output_type": "stream",
     "text": [
      "100%|██████████| 10/10 [00:01<00:00,  5.68it/s]\n",
      "100%|██████████| 2/2 [00:00<00:00,  9.52it/s]\n",
      "  0%|          | 0/10 [00:00<?, ?it/s]"
     ]
    },
    {
     "name": "stdout",
     "output_type": "stream",
     "text": [
      "Train Loss: 0.1400, Train Acc: 0.9448\n",
      "Val Loss: 0.1577, Val Acc: 0.9422\n",
      "EarlyStopping counter: 4 out of 5\n",
      "Epoch 21 of 500\n"
     ]
    },
    {
     "name": "stderr",
     "output_type": "stream",
     "text": [
      "100%|██████████| 10/10 [00:01<00:00,  5.41it/s]\n",
      "100%|██████████| 2/2 [00:00<00:00,  6.79it/s]\n",
      "  0%|          | 0/10 [00:00<?, ?it/s]"
     ]
    },
    {
     "name": "stdout",
     "output_type": "stream",
     "text": [
      "Train Loss: 0.1434, Train Acc: 0.9435\n",
      "Val Loss: 0.1547, Val Acc: 0.9441\n",
      "Validation loss decreased (0.157507 --> 0.154739).  Saving model ...\n",
      "../WeightsFinal_0.3_model_weights/Weights_replay_500/2018-02/best_model_epoch_21.pt\n",
      "../WeightsFinal_0.3_optimizer_weights/Weights_replay_500/2018-02/best_optimizer_epoch_21.pt\n",
      "Epoch 22 of 500\n"
     ]
    },
    {
     "name": "stderr",
     "output_type": "stream",
     "text": [
      "100%|██████████| 10/10 [00:01<00:00,  5.65it/s]\n",
      "100%|██████████| 2/2 [00:00<00:00,  9.58it/s]\n",
      "  0%|          | 0/10 [00:00<?, ?it/s]"
     ]
    },
    {
     "name": "stdout",
     "output_type": "stream",
     "text": [
      "Train Loss: 0.1414, Train Acc: 0.9454\n",
      "Val Loss: 0.1567, Val Acc: 0.9435\n",
      "EarlyStopping counter: 1 out of 5\n",
      "Epoch 23 of 500\n"
     ]
    },
    {
     "name": "stderr",
     "output_type": "stream",
     "text": [
      "100%|██████████| 10/10 [00:01<00:00,  5.91it/s]\n",
      "100%|██████████| 2/2 [00:00<00:00,  5.54it/s]\n",
      "  0%|          | 0/10 [00:00<?, ?it/s]"
     ]
    },
    {
     "name": "stdout",
     "output_type": "stream",
     "text": [
      "Train Loss: 0.1359, Train Acc: 0.9461\n",
      "Val Loss: 0.1614, Val Acc: 0.9401\n",
      "EarlyStopping counter: 2 out of 5\n",
      "Epoch 24 of 500\n"
     ]
    },
    {
     "name": "stderr",
     "output_type": "stream",
     "text": [
      "100%|██████████| 10/10 [00:01<00:00,  6.03it/s]\n",
      "100%|██████████| 2/2 [00:00<00:00,  9.44it/s]\n",
      "  0%|          | 0/10 [00:00<?, ?it/s]"
     ]
    },
    {
     "name": "stdout",
     "output_type": "stream",
     "text": [
      "Train Loss: 0.1368, Train Acc: 0.9460\n",
      "Val Loss: 0.1561, Val Acc: 0.9441\n",
      "EarlyStopping counter: 3 out of 5\n",
      "Epoch 25 of 500\n"
     ]
    },
    {
     "name": "stderr",
     "output_type": "stream",
     "text": [
      "100%|██████████| 10/10 [00:01<00:00,  5.92it/s]\n",
      "100%|██████████| 2/2 [00:00<00:00,  6.68it/s]\n",
      "  0%|          | 0/10 [00:00<?, ?it/s]"
     ]
    },
    {
     "name": "stdout",
     "output_type": "stream",
     "text": [
      "Train Loss: 0.1325, Train Acc: 0.9486\n",
      "Val Loss: 0.1545, Val Acc: 0.9441\n",
      "Validation loss decreased (0.154739 --> 0.154463).  Saving model ...\n",
      "../WeightsFinal_0.3_model_weights/Weights_replay_500/2018-02/best_model_epoch_25.pt\n",
      "../WeightsFinal_0.3_optimizer_weights/Weights_replay_500/2018-02/best_optimizer_epoch_25.pt\n",
      "Epoch 26 of 500\n"
     ]
    },
    {
     "name": "stderr",
     "output_type": "stream",
     "text": [
      "100%|██████████| 10/10 [00:01<00:00,  6.17it/s]\n",
      "100%|██████████| 2/2 [00:00<00:00,  9.43it/s]\n",
      "  0%|          | 0/10 [00:00<?, ?it/s]"
     ]
    },
    {
     "name": "stdout",
     "output_type": "stream",
     "text": [
      "Train Loss: 0.1344, Train Acc: 0.9473\n",
      "Val Loss: 0.1581, Val Acc: 0.9423\n",
      "EarlyStopping counter: 1 out of 5\n",
      "Epoch 27 of 500\n"
     ]
    },
    {
     "name": "stderr",
     "output_type": "stream",
     "text": [
      "100%|██████████| 10/10 [00:01<00:00,  6.34it/s]\n",
      "100%|██████████| 2/2 [00:00<00:00,  5.95it/s]\n",
      "  0%|          | 0/10 [00:00<?, ?it/s]"
     ]
    },
    {
     "name": "stdout",
     "output_type": "stream",
     "text": [
      "Train Loss: 0.1324, Train Acc: 0.9484\n",
      "Val Loss: 0.1564, Val Acc: 0.9423\n",
      "EarlyStopping counter: 2 out of 5\n",
      "Epoch 28 of 500\n"
     ]
    },
    {
     "name": "stderr",
     "output_type": "stream",
     "text": [
      "100%|██████████| 10/10 [00:01<00:00,  6.62it/s]\n",
      "100%|██████████| 2/2 [00:00<00:00,  9.42it/s]\n",
      "  0%|          | 0/10 [00:00<?, ?it/s]"
     ]
    },
    {
     "name": "stdout",
     "output_type": "stream",
     "text": [
      "Train Loss: 0.1300, Train Acc: 0.9491\n",
      "Val Loss: 0.1544, Val Acc: 0.9437\n",
      "Validation loss decreased (0.154463 --> 0.154386).  Saving model ...\n",
      "../WeightsFinal_0.3_model_weights/Weights_replay_500/2018-02/best_model_epoch_28.pt\n",
      "../WeightsFinal_0.3_optimizer_weights/Weights_replay_500/2018-02/best_optimizer_epoch_28.pt\n",
      "Epoch 29 of 500\n"
     ]
    },
    {
     "name": "stderr",
     "output_type": "stream",
     "text": [
      "100%|██████████| 10/10 [00:01<00:00,  5.91it/s]\n",
      "100%|██████████| 2/2 [00:00<00:00,  6.81it/s]\n",
      "  0%|          | 0/10 [00:00<?, ?it/s]"
     ]
    },
    {
     "name": "stdout",
     "output_type": "stream",
     "text": [
      "Train Loss: 0.1306, Train Acc: 0.9486\n",
      "Val Loss: 0.1567, Val Acc: 0.9430\n",
      "EarlyStopping counter: 1 out of 5\n",
      "Epoch 30 of 500\n"
     ]
    },
    {
     "name": "stderr",
     "output_type": "stream",
     "text": [
      "100%|██████████| 10/10 [00:01<00:00,  6.14it/s]\n",
      "100%|██████████| 2/2 [00:00<00:00,  9.43it/s]\n",
      "  0%|          | 0/10 [00:00<?, ?it/s]"
     ]
    },
    {
     "name": "stdout",
     "output_type": "stream",
     "text": [
      "Train Loss: 0.1269, Train Acc: 0.9505\n",
      "Val Loss: 0.1570, Val Acc: 0.9438\n",
      "EarlyStopping counter: 2 out of 5\n",
      "Epoch 31 of 500\n"
     ]
    },
    {
     "name": "stderr",
     "output_type": "stream",
     "text": [
      "100%|██████████| 10/10 [00:01<00:00,  5.83it/s]\n",
      "100%|██████████| 2/2 [00:00<00:00,  5.70it/s]\n",
      "  0%|          | 0/10 [00:00<?, ?it/s]"
     ]
    },
    {
     "name": "stdout",
     "output_type": "stream",
     "text": [
      "Train Loss: 0.1253, Train Acc: 0.9517\n",
      "Val Loss: 0.1564, Val Acc: 0.9441\n",
      "EarlyStopping counter: 3 out of 5\n",
      "Epoch 32 of 500\n"
     ]
    },
    {
     "name": "stderr",
     "output_type": "stream",
     "text": [
      "100%|██████████| 10/10 [00:01<00:00,  5.59it/s]\n",
      "100%|██████████| 2/2 [00:00<00:00,  7.88it/s]\n",
      "  0%|          | 0/10 [00:00<?, ?it/s]"
     ]
    },
    {
     "name": "stdout",
     "output_type": "stream",
     "text": [
      "Train Loss: 0.1256, Train Acc: 0.9515\n",
      "Val Loss: 0.1545, Val Acc: 0.9446\n",
      "EarlyStopping counter: 4 out of 5\n",
      "Epoch 33 of 500\n"
     ]
    },
    {
     "name": "stderr",
     "output_type": "stream",
     "text": [
      "100%|██████████| 10/10 [00:01<00:00,  5.86it/s]\n",
      "100%|██████████| 2/2 [00:00<00:00,  6.85it/s]\n",
      "  0%|          | 0/2 [00:00<?, ?it/s]"
     ]
    },
    {
     "name": "stdout",
     "output_type": "stream",
     "text": [
      "Train Loss: 0.1205, Train Acc: 0.9530\n",
      "Val Loss: 0.1548, Val Acc: 0.9453\n",
      "EarlyStopping counter: 5 out of 5\n",
      "Early stopping\n",
      "Training time: 1.169 minutes\n",
      "loading best model ../WeightsFinal_0.3_model_weights/Weights_replay_500/2018-02/best_model_epoch_28.pt\n",
      "loading best optimizer ../WeightsFinal_0.3_optimizer_weights/Weights_replay_500/2018-02/best_optimizer_epoch_28.pt\n"
     ]
    },
    {
     "name": "stderr",
     "output_type": "stream",
     "text": [
      "100%|██████████| 2/2 [00:00<00:00,  3.58it/s]\n"
     ]
    },
    {
     "name": "stdout",
     "output_type": "stream",
     "text": [
      "test accuracy 0.936651885509491 and ROC-AUC 0.9368499643620813\n",
      "Elapsed time 4.3166268229484555 mins.\n",
      "\n",
      "\n",
      "2023-01-30 12:48:41 Round 3 ...\n",
      "Current Task 2018-03 w/ 500 samples to Replay per Malware family.\n",
      "X_train (37372, 2381) Y_train (37372,) Y_tr_family (37372,)\n"
     ]
    },
    {
     "name": "stderr",
     "output_type": "stream",
     "text": [
      "\r",
      "  0%|          | 0/1 [00:00<?, ?it/s]"
     ]
    },
    {
     "name": "stdout",
     "output_type": "stream",
     "text": [
      "X_test (15759, 2381) Y_test (15759,) Y_te_family (15759,)\n",
      "Task 2018-03 and #-of new samples stored 37372\n",
      "loading best model ../WeightsFinal_0.3_model_weights/Weights_replay_500/2018-02/best_model_epoch_28.pt\n"
     ]
    },
    {
     "name": "stderr",
     "output_type": "stream",
     "text": [
      "100%|██████████| 1/1 [00:00<00:00,  2.71it/s]\n",
      "100%|██████████| 2/2 [00:00<00:00,  4.15it/s]\n",
      "100%|██████████| 1/1 [00:00<00:00,  3.18it/s]\n",
      "100%|██████████| 1/1 [00:00<00:00,  2.71it/s]\n",
      "100%|██████████| 1/1 [00:00<00:00,  3.14it/s]\n",
      "100%|██████████| 1/1 [00:00<00:00,  2.87it/s]\n",
      "100%|██████████| 1/1 [00:00<00:00,  3.47it/s]\n",
      "100%|██████████| 1/1 [00:00<00:00,  3.71it/s]\n",
      "100%|██████████| 1/1 [00:00<00:00,  3.20it/s]\n",
      "100%|██████████| 1/1 [00:00<00:00,  3.28it/s]\n",
      "100%|██████████| 1/1 [00:00<00:00,  3.40it/s]\n"
     ]
    },
    {
     "name": "stdout",
     "output_type": "stream",
     "text": [
      "2023-01-30 12:49:09 Standardizing ...\n"
     ]
    },
    {
     "name": "stderr",
     "output_type": "stream",
     "text": [
      "\r",
      "  0%|          | 0/11 [00:00<?, ?it/s]"
     ]
    },
    {
     "name": "stdout",
     "output_type": "stream",
     "text": [
      "\n",
      "X_train (68944, 2381) Y_train (68944,)\n",
      "\n",
      "2023-01-30 12:49:13 Training ...\n",
      "Epoch 1 of 500\n"
     ]
    },
    {
     "name": "stderr",
     "output_type": "stream",
     "text": [
      "100%|██████████| 11/11 [00:01<00:00,  5.52it/s]\n",
      "100%|██████████| 3/3 [00:00<00:00,  7.50it/s]\n",
      "  0%|          | 0/11 [00:00<?, ?it/s]"
     ]
    },
    {
     "name": "stdout",
     "output_type": "stream",
     "text": [
      "Train Loss: 0.1996, Train Acc: 0.9239\n",
      "Val Loss: 0.1900, Val Acc: 0.9335\n",
      "Validation loss decreased (inf --> 0.189951).  Saving model ...\n",
      "../WeightsFinal_0.3_model_weights/Weights_replay_500/2018-03/best_model_epoch_1.pt\n",
      "../WeightsFinal_0.3_optimizer_weights/Weights_replay_500/2018-03/best_optimizer_epoch_1.pt\n",
      "Epoch 2 of 500\n"
     ]
    },
    {
     "name": "stderr",
     "output_type": "stream",
     "text": [
      "100%|██████████| 11/11 [00:01<00:00,  5.59it/s]\n",
      "100%|██████████| 3/3 [00:00<00:00, 10.03it/s]\n",
      "  0%|          | 0/11 [00:00<?, ?it/s]"
     ]
    },
    {
     "name": "stdout",
     "output_type": "stream",
     "text": [
      "Train Loss: 0.1914, Train Acc: 0.9273\n",
      "Val Loss: 0.1815, Val Acc: 0.9352\n",
      "Validation loss decreased (0.189951 --> 0.181501).  Saving model ...\n",
      "../WeightsFinal_0.3_model_weights/Weights_replay_500/2018-03/best_model_epoch_2.pt\n",
      "../WeightsFinal_0.3_optimizer_weights/Weights_replay_500/2018-03/best_optimizer_epoch_2.pt\n",
      "Epoch 3 of 500\n"
     ]
    },
    {
     "name": "stderr",
     "output_type": "stream",
     "text": [
      "100%|██████████| 11/11 [00:02<00:00,  5.49it/s]\n",
      "100%|██████████| 3/3 [00:00<00:00,  7.83it/s]\n",
      "  0%|          | 0/11 [00:00<?, ?it/s]"
     ]
    },
    {
     "name": "stdout",
     "output_type": "stream",
     "text": [
      "Train Loss: 0.1817, Train Acc: 0.9287\n",
      "Val Loss: 0.1786, Val Acc: 0.9360\n",
      "Validation loss decreased (0.181501 --> 0.178614).  Saving model ...\n",
      "../WeightsFinal_0.3_model_weights/Weights_replay_500/2018-03/best_model_epoch_3.pt\n",
      "../WeightsFinal_0.3_optimizer_weights/Weights_replay_500/2018-03/best_optimizer_epoch_3.pt\n",
      "Epoch 4 of 500\n"
     ]
    },
    {
     "name": "stderr",
     "output_type": "stream",
     "text": [
      "100%|██████████| 11/11 [00:01<00:00,  6.15it/s]\n",
      "100%|██████████| 3/3 [00:00<00:00,  8.32it/s]\n",
      "  0%|          | 0/11 [00:00<?, ?it/s]"
     ]
    },
    {
     "name": "stdout",
     "output_type": "stream",
     "text": [
      "Train Loss: 0.1764, Train Acc: 0.9323\n",
      "Val Loss: 0.1769, Val Acc: 0.9357\n",
      "Validation loss decreased (0.178614 --> 0.176857).  Saving model ...\n",
      "../WeightsFinal_0.3_model_weights/Weights_replay_500/2018-03/best_model_epoch_4.pt\n",
      "../WeightsFinal_0.3_optimizer_weights/Weights_replay_500/2018-03/best_optimizer_epoch_4.pt\n",
      "Epoch 5 of 500\n"
     ]
    },
    {
     "name": "stderr",
     "output_type": "stream",
     "text": [
      "100%|██████████| 11/11 [00:01<00:00,  6.02it/s]\n",
      "100%|██████████| 3/3 [00:00<00:00,  8.51it/s]\n",
      "  0%|          | 0/11 [00:00<?, ?it/s]"
     ]
    },
    {
     "name": "stdout",
     "output_type": "stream",
     "text": [
      "Train Loss: 0.1727, Train Acc: 0.9328\n",
      "Val Loss: 0.1719, Val Acc: 0.9373\n",
      "Validation loss decreased (0.176857 --> 0.171882).  Saving model ...\n",
      "../WeightsFinal_0.3_model_weights/Weights_replay_500/2018-03/best_model_epoch_5.pt\n",
      "../WeightsFinal_0.3_optimizer_weights/Weights_replay_500/2018-03/best_optimizer_epoch_5.pt\n",
      "Epoch 6 of 500\n"
     ]
    },
    {
     "name": "stderr",
     "output_type": "stream",
     "text": [
      "100%|██████████| 11/11 [00:01<00:00,  6.21it/s]\n",
      "100%|██████████| 3/3 [00:00<00:00,  8.27it/s]\n",
      "  0%|          | 0/11 [00:00<?, ?it/s]"
     ]
    },
    {
     "name": "stdout",
     "output_type": "stream",
     "text": [
      "Train Loss: 0.1689, Train Acc: 0.9343\n",
      "Val Loss: 0.1686, Val Acc: 0.9381\n",
      "Validation loss decreased (0.171882 --> 0.168573).  Saving model ...\n",
      "../WeightsFinal_0.3_model_weights/Weights_replay_500/2018-03/best_model_epoch_6.pt\n",
      "../WeightsFinal_0.3_optimizer_weights/Weights_replay_500/2018-03/best_optimizer_epoch_6.pt\n",
      "Epoch 7 of 500\n"
     ]
    },
    {
     "name": "stderr",
     "output_type": "stream",
     "text": [
      "100%|██████████| 11/11 [00:01<00:00,  6.14it/s]\n",
      "100%|██████████| 3/3 [00:00<00:00,  8.17it/s]\n",
      "  0%|          | 0/11 [00:00<?, ?it/s]"
     ]
    },
    {
     "name": "stdout",
     "output_type": "stream",
     "text": [
      "Train Loss: 0.1613, Train Acc: 0.9377\n",
      "Val Loss: 0.1674, Val Acc: 0.9389\n",
      "Validation loss decreased (0.168573 --> 0.167381).  Saving model ...\n",
      "../WeightsFinal_0.3_model_weights/Weights_replay_500/2018-03/best_model_epoch_7.pt\n",
      "../WeightsFinal_0.3_optimizer_weights/Weights_replay_500/2018-03/best_optimizer_epoch_7.pt\n",
      "Epoch 8 of 500\n"
     ]
    },
    {
     "name": "stderr",
     "output_type": "stream",
     "text": [
      "100%|██████████| 11/11 [00:01<00:00,  6.06it/s]\n",
      "100%|██████████| 3/3 [00:00<00:00, 11.42it/s]\n",
      "  0%|          | 0/11 [00:00<?, ?it/s]"
     ]
    },
    {
     "name": "stdout",
     "output_type": "stream",
     "text": [
      "Train Loss: 0.1585, Train Acc: 0.9387\n",
      "Val Loss: 0.1658, Val Acc: 0.9405\n",
      "Validation loss decreased (0.167381 --> 0.165817).  Saving model ...\n",
      "../WeightsFinal_0.3_model_weights/Weights_replay_500/2018-03/best_model_epoch_8.pt\n",
      "../WeightsFinal_0.3_optimizer_weights/Weights_replay_500/2018-03/best_optimizer_epoch_8.pt\n",
      "Epoch 9 of 500\n"
     ]
    },
    {
     "name": "stderr",
     "output_type": "stream",
     "text": [
      "100%|██████████| 11/11 [00:01<00:00,  6.13it/s]\n",
      "100%|██████████| 3/3 [00:00<00:00,  8.76it/s]\n",
      "  0%|          | 0/11 [00:00<?, ?it/s]"
     ]
    },
    {
     "name": "stdout",
     "output_type": "stream",
     "text": [
      "Train Loss: 0.1592, Train Acc: 0.9386\n",
      "Val Loss: 0.1644, Val Acc: 0.9408\n",
      "Validation loss decreased (0.165817 --> 0.164428).  Saving model ...\n",
      "../WeightsFinal_0.3_model_weights/Weights_replay_500/2018-03/best_model_epoch_9.pt\n",
      "../WeightsFinal_0.3_optimizer_weights/Weights_replay_500/2018-03/best_optimizer_epoch_9.pt\n",
      "Epoch 10 of 500\n"
     ]
    },
    {
     "name": "stderr",
     "output_type": "stream",
     "text": [
      "100%|██████████| 11/11 [00:01<00:00,  5.56it/s]\n",
      "100%|██████████| 3/3 [00:00<00:00,  8.69it/s]\n",
      "  0%|          | 0/11 [00:00<?, ?it/s]"
     ]
    },
    {
     "name": "stdout",
     "output_type": "stream",
     "text": [
      "Train Loss: 0.1559, Train Acc: 0.9398\n",
      "Val Loss: 0.1643, Val Acc: 0.9405\n",
      "Validation loss decreased (0.164428 --> 0.164329).  Saving model ...\n",
      "../WeightsFinal_0.3_model_weights/Weights_replay_500/2018-03/best_model_epoch_10.pt\n",
      "../WeightsFinal_0.3_optimizer_weights/Weights_replay_500/2018-03/best_optimizer_epoch_10.pt\n",
      "Epoch 11 of 500\n"
     ]
    },
    {
     "name": "stderr",
     "output_type": "stream",
     "text": [
      "100%|██████████| 11/11 [00:01<00:00,  5.61it/s]\n",
      "100%|██████████| 3/3 [00:00<00:00, 10.69it/s]\n",
      "  0%|          | 0/11 [00:00<?, ?it/s]"
     ]
    },
    {
     "name": "stdout",
     "output_type": "stream",
     "text": [
      "Train Loss: 0.1517, Train Acc: 0.9416\n",
      "Val Loss: 0.1672, Val Acc: 0.9406\n",
      "EarlyStopping counter: 1 out of 5\n",
      "Epoch 12 of 500\n"
     ]
    },
    {
     "name": "stderr",
     "output_type": "stream",
     "text": [
      "100%|██████████| 11/11 [00:01<00:00,  5.52it/s]\n",
      "100%|██████████| 3/3 [00:00<00:00,  7.29it/s]\n",
      "  0%|          | 0/11 [00:00<?, ?it/s]"
     ]
    },
    {
     "name": "stdout",
     "output_type": "stream",
     "text": [
      "Train Loss: 0.1537, Train Acc: 0.9404\n",
      "Val Loss: 0.1655, Val Acc: 0.9400\n",
      "EarlyStopping counter: 2 out of 5\n",
      "Epoch 13 of 500\n"
     ]
    },
    {
     "name": "stderr",
     "output_type": "stream",
     "text": [
      "100%|██████████| 11/11 [00:01<00:00,  5.97it/s]\n",
      "100%|██████████| 3/3 [00:00<00:00,  7.98it/s]\n",
      "  0%|          | 0/11 [00:00<?, ?it/s]"
     ]
    },
    {
     "name": "stdout",
     "output_type": "stream",
     "text": [
      "Train Loss: 0.1492, Train Acc: 0.9428\n",
      "Val Loss: 0.1630, Val Acc: 0.9413\n",
      "Validation loss decreased (0.164329 --> 0.163038).  Saving model ...\n",
      "../WeightsFinal_0.3_model_weights/Weights_replay_500/2018-03/best_model_epoch_13.pt\n",
      "../WeightsFinal_0.3_optimizer_weights/Weights_replay_500/2018-03/best_optimizer_epoch_13.pt\n",
      "Epoch 14 of 500\n"
     ]
    },
    {
     "name": "stderr",
     "output_type": "stream",
     "text": [
      "100%|██████████| 11/11 [00:01<00:00,  6.08it/s]\n",
      "100%|██████████| 3/3 [00:00<00:00, 11.23it/s]\n",
      "  0%|          | 0/11 [00:00<?, ?it/s]"
     ]
    },
    {
     "name": "stdout",
     "output_type": "stream",
     "text": [
      "Train Loss: 0.1453, Train Acc: 0.9439\n",
      "Val Loss: 0.1633, Val Acc: 0.9429\n",
      "EarlyStopping counter: 1 out of 5\n",
      "Epoch 15 of 500\n"
     ]
    },
    {
     "name": "stderr",
     "output_type": "stream",
     "text": [
      "100%|██████████| 11/11 [00:01<00:00,  6.16it/s]\n",
      "100%|██████████| 3/3 [00:00<00:00,  8.33it/s]\n",
      "  0%|          | 0/11 [00:00<?, ?it/s]"
     ]
    },
    {
     "name": "stdout",
     "output_type": "stream",
     "text": [
      "Train Loss: 0.1481, Train Acc: 0.9435\n",
      "Val Loss: 0.1657, Val Acc: 0.9416\n",
      "EarlyStopping counter: 2 out of 5\n",
      "Epoch 16 of 500\n"
     ]
    },
    {
     "name": "stderr",
     "output_type": "stream",
     "text": [
      "100%|██████████| 11/11 [00:01<00:00,  6.03it/s]\n",
      "100%|██████████| 3/3 [00:00<00:00,  8.52it/s]\n",
      "  0%|          | 0/11 [00:00<?, ?it/s]"
     ]
    },
    {
     "name": "stdout",
     "output_type": "stream",
     "text": [
      "Train Loss: 0.1441, Train Acc: 0.9440\n",
      "Val Loss: 0.1657, Val Acc: 0.9404\n",
      "EarlyStopping counter: 3 out of 5\n",
      "Epoch 17 of 500\n"
     ]
    },
    {
     "name": "stderr",
     "output_type": "stream",
     "text": [
      "100%|██████████| 11/11 [00:01<00:00,  6.11it/s]\n",
      "100%|██████████| 3/3 [00:00<00:00, 11.25it/s]\n",
      "  0%|          | 0/11 [00:00<?, ?it/s]"
     ]
    },
    {
     "name": "stdout",
     "output_type": "stream",
     "text": [
      "Train Loss: 0.1437, Train Acc: 0.9451\n",
      "Val Loss: 0.1644, Val Acc: 0.9419\n",
      "EarlyStopping counter: 4 out of 5\n",
      "Epoch 18 of 500\n"
     ]
    },
    {
     "name": "stderr",
     "output_type": "stream",
     "text": [
      "100%|██████████| 11/11 [00:01<00:00,  6.16it/s]\n",
      "100%|██████████| 3/3 [00:00<00:00,  8.75it/s]\n",
      "  0%|          | 0/11 [00:00<?, ?it/s]"
     ]
    },
    {
     "name": "stdout",
     "output_type": "stream",
     "text": [
      "Train Loss: 0.1424, Train Acc: 0.9463\n",
      "Val Loss: 0.1612, Val Acc: 0.9426\n",
      "Validation loss decreased (0.163038 --> 0.161199).  Saving model ...\n",
      "../WeightsFinal_0.3_model_weights/Weights_replay_500/2018-03/best_model_epoch_18.pt\n",
      "../WeightsFinal_0.3_optimizer_weights/Weights_replay_500/2018-03/best_optimizer_epoch_18.pt\n",
      "Epoch 19 of 500\n"
     ]
    },
    {
     "name": "stderr",
     "output_type": "stream",
     "text": [
      "100%|██████████| 11/11 [00:01<00:00,  6.14it/s]\n",
      "100%|██████████| 3/3 [00:00<00:00,  9.08it/s]\n",
      "  0%|          | 0/11 [00:00<?, ?it/s]"
     ]
    },
    {
     "name": "stdout",
     "output_type": "stream",
     "text": [
      "Train Loss: 0.1407, Train Acc: 0.9465\n",
      "Val Loss: 0.1645, Val Acc: 0.9418\n",
      "EarlyStopping counter: 1 out of 5\n",
      "Epoch 20 of 500\n"
     ]
    },
    {
     "name": "stderr",
     "output_type": "stream",
     "text": [
      "100%|██████████| 11/11 [00:01<00:00,  6.19it/s]\n",
      "100%|██████████| 3/3 [00:00<00:00, 11.14it/s]\n",
      "  0%|          | 0/11 [00:00<?, ?it/s]"
     ]
    },
    {
     "name": "stdout",
     "output_type": "stream",
     "text": [
      "Train Loss: 0.1393, Train Acc: 0.9468\n",
      "Val Loss: 0.1660, Val Acc: 0.9427\n",
      "EarlyStopping counter: 2 out of 5\n",
      "Epoch 21 of 500\n"
     ]
    },
    {
     "name": "stderr",
     "output_type": "stream",
     "text": [
      "100%|██████████| 11/11 [00:01<00:00,  6.21it/s]\n",
      "100%|██████████| 3/3 [00:00<00:00,  8.69it/s]\n",
      "  0%|          | 0/11 [00:00<?, ?it/s]"
     ]
    },
    {
     "name": "stdout",
     "output_type": "stream",
     "text": [
      "Train Loss: 0.1372, Train Acc: 0.9478\n",
      "Val Loss: 0.1635, Val Acc: 0.9439\n",
      "EarlyStopping counter: 3 out of 5\n",
      "Epoch 22 of 500\n"
     ]
    },
    {
     "name": "stderr",
     "output_type": "stream",
     "text": [
      "100%|██████████| 11/11 [00:01<00:00,  6.06it/s]\n",
      "100%|██████████| 3/3 [00:00<00:00,  8.49it/s]\n",
      "  0%|          | 0/11 [00:00<?, ?it/s]"
     ]
    },
    {
     "name": "stdout",
     "output_type": "stream",
     "text": [
      "Train Loss: 0.1402, Train Acc: 0.9462\n",
      "Val Loss: 0.1613, Val Acc: 0.9433\n",
      "EarlyStopping counter: 4 out of 5\n",
      "Epoch 23 of 500\n"
     ]
    },
    {
     "name": "stderr",
     "output_type": "stream",
     "text": [
      "100%|██████████| 11/11 [00:01<00:00,  6.06it/s]\n",
      "100%|██████████| 3/3 [00:00<00:00,  9.55it/s]\n",
      "  0%|          | 0/3 [00:00<?, ?it/s]"
     ]
    },
    {
     "name": "stdout",
     "output_type": "stream",
     "text": [
      "Train Loss: 0.1348, Train Acc: 0.9480\n",
      "Val Loss: 0.1618, Val Acc: 0.9442\n",
      "EarlyStopping counter: 5 out of 5\n",
      "Early stopping\n",
      "Training time: 0.865 minutes\n",
      "loading best model ../WeightsFinal_0.3_model_weights/Weights_replay_500/2018-03/best_model_epoch_18.pt\n",
      "loading best optimizer ../WeightsFinal_0.3_optimizer_weights/Weights_replay_500/2018-03/best_optimizer_epoch_18.pt\n"
     ]
    },
    {
     "name": "stderr",
     "output_type": "stream",
     "text": [
      "100%|██████████| 3/3 [00:00<00:00,  3.85it/s]\n"
     ]
    },
    {
     "name": "stdout",
     "output_type": "stream",
     "text": [
      "test accuracy 0.9365382393201193 and ROC-AUC 0.9362126629678625\n",
      "Elapsed time 5.717654152711233 mins.\n",
      "\n",
      "\n",
      "2023-01-30 12:50:06 Round 3 ...\n",
      "Current Task 2018-04 w/ 500 samples to Replay per Malware family.\n",
      "X_train (46873, 2381) Y_train (46873,) Y_tr_family (46873,)\n",
      "X_test (20968, 2381) Y_test (20968,) Y_te_family (20968,)\n",
      "Task 2018-04 and #-of new samples stored 46873\n",
      "loading best model ../WeightsFinal_0.3_model_weights/Weights_replay_500/2018-03/best_model_epoch_18.pt\n"
     ]
    },
    {
     "name": "stderr",
     "output_type": "stream",
     "text": [
      "100%|██████████| 1/1 [00:00<00:00,  3.71it/s]\n",
      "100%|██████████| 1/1 [00:00<00:00,  2.86it/s]\n",
      "100%|██████████| 1/1 [00:00<00:00,  2.85it/s]\n",
      "100%|██████████| 1/1 [00:00<00:00,  3.01it/s]\n",
      "100%|██████████| 1/1 [00:00<00:00,  3.07it/s]\n",
      "100%|██████████| 1/1 [00:00<00:00,  3.48it/s]\n",
      "100%|██████████| 1/1 [00:00<00:00,  3.31it/s]\n",
      "100%|██████████| 1/1 [00:00<00:00,  3.47it/s]\n",
      "100%|██████████| 1/1 [00:00<00:00,  3.13it/s]\n",
      "100%|██████████| 1/1 [00:00<00:00,  2.97it/s]\n",
      "100%|██████████| 1/1 [00:00<00:00,  3.38it/s]\n",
      "100%|██████████| 1/1 [00:00<00:00,  3.30it/s]\n",
      "100%|██████████| 1/1 [00:00<00:00,  3.41it/s]\n",
      "100%|██████████| 2/2 [00:00<00:00,  3.71it/s]\n",
      "100%|██████████| 1/1 [00:00<00:00,  3.70it/s]\n",
      "100%|██████████| 1/1 [00:00<00:00,  3.74it/s]\n",
      "100%|██████████| 1/1 [00:00<00:00,  3.67it/s]\n",
      "100%|██████████| 1/1 [00:00<00:00,  3.33it/s]\n"
     ]
    },
    {
     "name": "stdout",
     "output_type": "stream",
     "text": [
      "2023-01-30 12:50:40 Standardizing ...\n"
     ]
    },
    {
     "name": "stderr",
     "output_type": "stream",
     "text": [
      "\r",
      "  0%|          | 0/13 [00:00<?, ?it/s]"
     ]
    },
    {
     "name": "stdout",
     "output_type": "stream",
     "text": [
      "\n",
      "X_train (78808, 2381) Y_train (78808,)\n",
      "\n",
      "2023-01-30 12:50:45 Training ...\n",
      "Epoch 1 of 500\n"
     ]
    },
    {
     "name": "stderr",
     "output_type": "stream",
     "text": [
      "100%|██████████| 13/13 [00:02<00:00,  6.47it/s]\n",
      "100%|██████████| 4/4 [00:00<00:00,  6.99it/s]\n",
      "  0%|          | 0/13 [00:00<?, ?it/s]"
     ]
    },
    {
     "name": "stdout",
     "output_type": "stream",
     "text": [
      "Train Loss: 0.1744, Train Acc: 0.9338\n",
      "Val Loss: 0.1708, Val Acc: 0.9379\n",
      "Validation loss decreased (inf --> 0.170765).  Saving model ...\n",
      "../WeightsFinal_0.3_model_weights/Weights_replay_500/2018-04/best_model_epoch_1.pt\n",
      "../WeightsFinal_0.3_optimizer_weights/Weights_replay_500/2018-04/best_optimizer_epoch_1.pt\n",
      "Epoch 2 of 500\n"
     ]
    },
    {
     "name": "stderr",
     "output_type": "stream",
     "text": [
      "100%|██████████| 13/13 [00:02<00:00,  4.80it/s]\n",
      "100%|██████████| 4/4 [00:00<00:00,  8.30it/s]\n",
      "  0%|          | 0/13 [00:00<?, ?it/s]"
     ]
    },
    {
     "name": "stdout",
     "output_type": "stream",
     "text": [
      "Train Loss: 0.1623, Train Acc: 0.9372\n",
      "Val Loss: 0.1647, Val Acc: 0.9403\n",
      "Validation loss decreased (0.170765 --> 0.164700).  Saving model ...\n",
      "../WeightsFinal_0.3_model_weights/Weights_replay_500/2018-04/best_model_epoch_2.pt\n",
      "../WeightsFinal_0.3_optimizer_weights/Weights_replay_500/2018-04/best_optimizer_epoch_2.pt\n",
      "Epoch 3 of 500\n"
     ]
    },
    {
     "name": "stderr",
     "output_type": "stream",
     "text": [
      "100%|██████████| 13/13 [00:02<00:00,  5.21it/s]\n",
      "100%|██████████| 4/4 [00:00<00:00,  7.41it/s]\n",
      "  0%|          | 0/13 [00:00<?, ?it/s]"
     ]
    },
    {
     "name": "stdout",
     "output_type": "stream",
     "text": [
      "Train Loss: 0.1598, Train Acc: 0.9397\n",
      "Val Loss: 0.1631, Val Acc: 0.9412\n",
      "Validation loss decreased (0.164700 --> 0.163056).  Saving model ...\n",
      "../WeightsFinal_0.3_model_weights/Weights_replay_500/2018-04/best_model_epoch_3.pt\n",
      "../WeightsFinal_0.3_optimizer_weights/Weights_replay_500/2018-04/best_optimizer_epoch_3.pt\n",
      "Epoch 4 of 500\n"
     ]
    },
    {
     "name": "stderr",
     "output_type": "stream",
     "text": [
      "100%|██████████| 13/13 [00:02<00:00,  5.86it/s]\n",
      "100%|██████████| 4/4 [00:00<00:00,  8.69it/s]\n",
      "  0%|          | 0/13 [00:00<?, ?it/s]"
     ]
    },
    {
     "name": "stdout",
     "output_type": "stream",
     "text": [
      "Train Loss: 0.1555, Train Acc: 0.9410\n",
      "Val Loss: 0.1607, Val Acc: 0.9412\n",
      "Validation loss decreased (0.163056 --> 0.160719).  Saving model ...\n",
      "../WeightsFinal_0.3_model_weights/Weights_replay_500/2018-04/best_model_epoch_4.pt\n",
      "../WeightsFinal_0.3_optimizer_weights/Weights_replay_500/2018-04/best_optimizer_epoch_4.pt\n",
      "Epoch 5 of 500\n"
     ]
    },
    {
     "name": "stderr",
     "output_type": "stream",
     "text": [
      "100%|██████████| 13/13 [00:02<00:00,  5.84it/s]\n",
      "100%|██████████| 4/4 [00:00<00:00, 11.10it/s]\n",
      "  0%|          | 0/13 [00:00<?, ?it/s]"
     ]
    },
    {
     "name": "stdout",
     "output_type": "stream",
     "text": [
      "Train Loss: 0.1484, Train Acc: 0.9442\n",
      "Val Loss: 0.1605, Val Acc: 0.9419\n",
      "Validation loss decreased (0.160719 --> 0.160536).  Saving model ...\n",
      "../WeightsFinal_0.3_model_weights/Weights_replay_500/2018-04/best_model_epoch_5.pt\n",
      "../WeightsFinal_0.3_optimizer_weights/Weights_replay_500/2018-04/best_optimizer_epoch_5.pt\n",
      "Epoch 6 of 500\n"
     ]
    },
    {
     "name": "stderr",
     "output_type": "stream",
     "text": [
      "100%|██████████| 13/13 [00:02<00:00,  4.78it/s]\n",
      "100%|██████████| 4/4 [00:00<00:00,  8.02it/s]\n",
      "  0%|          | 0/13 [00:00<?, ?it/s]"
     ]
    },
    {
     "name": "stdout",
     "output_type": "stream",
     "text": [
      "Train Loss: 0.1512, Train Acc: 0.9426\n",
      "Val Loss: 0.1623, Val Acc: 0.9403\n",
      "EarlyStopping counter: 1 out of 5\n",
      "Epoch 7 of 500\n"
     ]
    },
    {
     "name": "stderr",
     "output_type": "stream",
     "text": [
      "100%|██████████| 13/13 [00:02<00:00,  5.21it/s]\n",
      "100%|██████████| 4/4 [00:00<00:00,  7.28it/s]\n",
      "  0%|          | 0/13 [00:00<?, ?it/s]"
     ]
    },
    {
     "name": "stdout",
     "output_type": "stream",
     "text": [
      "Train Loss: 0.1472, Train Acc: 0.9434\n",
      "Val Loss: 0.1597, Val Acc: 0.9408\n",
      "Validation loss decreased (0.160536 --> 0.159697).  Saving model ...\n",
      "../WeightsFinal_0.3_model_weights/Weights_replay_500/2018-04/best_model_epoch_7.pt\n",
      "../WeightsFinal_0.3_optimizer_weights/Weights_replay_500/2018-04/best_optimizer_epoch_7.pt\n",
      "Epoch 8 of 500\n"
     ]
    },
    {
     "name": "stderr",
     "output_type": "stream",
     "text": [
      "100%|██████████| 13/13 [00:02<00:00,  5.96it/s]\n",
      "100%|██████████| 4/4 [00:00<00:00,  6.55it/s]\n",
      "  0%|          | 0/13 [00:00<?, ?it/s]"
     ]
    },
    {
     "name": "stdout",
     "output_type": "stream",
     "text": [
      "Train Loss: 0.1389, Train Acc: 0.9469\n",
      "Val Loss: 0.1601, Val Acc: 0.9420\n",
      "EarlyStopping counter: 1 out of 5\n",
      "Epoch 9 of 500\n"
     ]
    },
    {
     "name": "stderr",
     "output_type": "stream",
     "text": [
      "100%|██████████| 13/13 [00:02<00:00,  6.21it/s]\n",
      "100%|██████████| 4/4 [00:00<00:00,  7.13it/s]\n",
      "  0%|          | 0/13 [00:00<?, ?it/s]"
     ]
    },
    {
     "name": "stdout",
     "output_type": "stream",
     "text": [
      "Train Loss: 0.1439, Train Acc: 0.9454\n",
      "Val Loss: 0.1612, Val Acc: 0.9416\n",
      "EarlyStopping counter: 2 out of 5\n",
      "Epoch 10 of 500\n"
     ]
    },
    {
     "name": "stderr",
     "output_type": "stream",
     "text": [
      "100%|██████████| 13/13 [00:02<00:00,  6.37it/s]\n",
      "100%|██████████| 4/4 [00:00<00:00,  8.83it/s]\n",
      "  0%|          | 0/13 [00:00<?, ?it/s]"
     ]
    },
    {
     "name": "stdout",
     "output_type": "stream",
     "text": [
      "Train Loss: 0.1396, Train Acc: 0.9463\n",
      "Val Loss: 0.1584, Val Acc: 0.9422\n",
      "Validation loss decreased (0.159697 --> 0.158369).  Saving model ...\n",
      "../WeightsFinal_0.3_model_weights/Weights_replay_500/2018-04/best_model_epoch_10.pt\n",
      "../WeightsFinal_0.3_optimizer_weights/Weights_replay_500/2018-04/best_optimizer_epoch_10.pt\n",
      "Epoch 11 of 500\n"
     ]
    },
    {
     "name": "stderr",
     "output_type": "stream",
     "text": [
      "100%|██████████| 13/13 [00:02<00:00,  6.42it/s]\n",
      "100%|██████████| 4/4 [00:00<00:00,  7.56it/s]\n",
      "  0%|          | 0/13 [00:00<?, ?it/s]"
     ]
    },
    {
     "name": "stdout",
     "output_type": "stream",
     "text": [
      "Train Loss: 0.1342, Train Acc: 0.9486\n",
      "Val Loss: 0.1606, Val Acc: 0.9429\n",
      "EarlyStopping counter: 1 out of 5\n",
      "Epoch 12 of 500\n"
     ]
    },
    {
     "name": "stderr",
     "output_type": "stream",
     "text": [
      "100%|██████████| 13/13 [00:02<00:00,  6.32it/s]\n",
      "100%|██████████| 4/4 [00:00<00:00,  8.53it/s]\n",
      "  0%|          | 0/13 [00:00<?, ?it/s]"
     ]
    },
    {
     "name": "stdout",
     "output_type": "stream",
     "text": [
      "Train Loss: 0.1324, Train Acc: 0.9497\n",
      "Val Loss: 0.1600, Val Acc: 0.9421\n",
      "EarlyStopping counter: 2 out of 5\n",
      "Epoch 13 of 500\n"
     ]
    },
    {
     "name": "stderr",
     "output_type": "stream",
     "text": [
      "100%|██████████| 13/13 [00:02<00:00,  5.52it/s]\n",
      "100%|██████████| 4/4 [00:00<00:00,  9.29it/s]\n",
      "  0%|          | 0/13 [00:00<?, ?it/s]"
     ]
    },
    {
     "name": "stdout",
     "output_type": "stream",
     "text": [
      "Train Loss: 0.1354, Train Acc: 0.9485\n",
      "Val Loss: 0.1601, Val Acc: 0.9412\n",
      "EarlyStopping counter: 3 out of 5\n",
      "Epoch 14 of 500\n"
     ]
    },
    {
     "name": "stderr",
     "output_type": "stream",
     "text": [
      "100%|██████████| 13/13 [00:02<00:00,  6.37it/s]\n",
      "100%|██████████| 4/4 [00:00<00:00, 11.44it/s]\n",
      "  0%|          | 0/13 [00:00<?, ?it/s]"
     ]
    },
    {
     "name": "stdout",
     "output_type": "stream",
     "text": [
      "Train Loss: 0.1313, Train Acc: 0.9496\n",
      "Val Loss: 0.1585, Val Acc: 0.9430\n",
      "EarlyStopping counter: 4 out of 5\n",
      "Epoch 15 of 500\n"
     ]
    },
    {
     "name": "stderr",
     "output_type": "stream",
     "text": [
      "100%|██████████| 13/13 [00:02<00:00,  6.23it/s]\n",
      "100%|██████████| 4/4 [00:00<00:00,  7.78it/s]\n",
      "  0%|          | 0/13 [00:00<?, ?it/s]"
     ]
    },
    {
     "name": "stdout",
     "output_type": "stream",
     "text": [
      "Train Loss: 0.1275, Train Acc: 0.9507\n",
      "Val Loss: 0.1560, Val Acc: 0.9449\n",
      "Validation loss decreased (0.158369 --> 0.155960).  Saving model ...\n",
      "../WeightsFinal_0.3_model_weights/Weights_replay_500/2018-04/best_model_epoch_15.pt\n",
      "../WeightsFinal_0.3_optimizer_weights/Weights_replay_500/2018-04/best_optimizer_epoch_15.pt\n",
      "Epoch 16 of 500\n"
     ]
    },
    {
     "name": "stderr",
     "output_type": "stream",
     "text": [
      "100%|██████████| 13/13 [00:02<00:00,  6.17it/s]\n",
      "100%|██████████| 4/4 [00:00<00:00,  9.13it/s]\n",
      "  0%|          | 0/13 [00:00<?, ?it/s]"
     ]
    },
    {
     "name": "stdout",
     "output_type": "stream",
     "text": [
      "Train Loss: 0.1265, Train Acc: 0.9504\n",
      "Val Loss: 0.1579, Val Acc: 0.9446\n",
      "EarlyStopping counter: 1 out of 5\n",
      "Epoch 17 of 500\n"
     ]
    },
    {
     "name": "stderr",
     "output_type": "stream",
     "text": [
      "100%|██████████| 13/13 [00:02<00:00,  6.21it/s]\n",
      "100%|██████████| 4/4 [00:00<00:00,  8.68it/s]\n",
      "  0%|          | 0/13 [00:00<?, ?it/s]"
     ]
    },
    {
     "name": "stdout",
     "output_type": "stream",
     "text": [
      "Train Loss: 0.1263, Train Acc: 0.9522\n",
      "Val Loss: 0.1571, Val Acc: 0.9445\n",
      "EarlyStopping counter: 2 out of 5\n",
      "Epoch 18 of 500\n"
     ]
    },
    {
     "name": "stderr",
     "output_type": "stream",
     "text": [
      "100%|██████████| 13/13 [00:02<00:00,  6.44it/s]\n",
      "100%|██████████| 4/4 [00:00<00:00,  9.04it/s]\n",
      "  0%|          | 0/13 [00:00<?, ?it/s]"
     ]
    },
    {
     "name": "stdout",
     "output_type": "stream",
     "text": [
      "Train Loss: 0.1221, Train Acc: 0.9532\n",
      "Val Loss: 0.1572, Val Acc: 0.9444\n",
      "EarlyStopping counter: 3 out of 5\n",
      "Epoch 19 of 500\n"
     ]
    },
    {
     "name": "stderr",
     "output_type": "stream",
     "text": [
      "100%|██████████| 13/13 [00:02<00:00,  6.37it/s]\n",
      "100%|██████████| 4/4 [00:00<00:00,  9.19it/s]\n",
      "  0%|          | 0/13 [00:00<?, ?it/s]"
     ]
    },
    {
     "name": "stdout",
     "output_type": "stream",
     "text": [
      "Train Loss: 0.1232, Train Acc: 0.9524\n",
      "Val Loss: 0.1574, Val Acc: 0.9449\n",
      "EarlyStopping counter: 4 out of 5\n",
      "Epoch 20 of 500\n"
     ]
    },
    {
     "name": "stderr",
     "output_type": "stream",
     "text": [
      "100%|██████████| 13/13 [00:02<00:00,  6.44it/s]\n",
      "100%|██████████| 4/4 [00:00<00:00,  9.22it/s]\n",
      "  0%|          | 0/4 [00:00<?, ?it/s]"
     ]
    },
    {
     "name": "stdout",
     "output_type": "stream",
     "text": [
      "Train Loss: 0.1203, Train Acc: 0.9536\n",
      "Val Loss: 0.1567, Val Acc: 0.9460\n",
      "EarlyStopping counter: 5 out of 5\n",
      "Early stopping\n",
      "Training time: 0.913 minutes\n",
      "loading best model ../WeightsFinal_0.3_model_weights/Weights_replay_500/2018-04/best_model_epoch_15.pt\n",
      "loading best optimizer ../WeightsFinal_0.3_optimizer_weights/Weights_replay_500/2018-04/best_optimizer_epoch_15.pt\n"
     ]
    },
    {
     "name": "stderr",
     "output_type": "stream",
     "text": [
      "100%|██████████| 4/4 [00:00<00:00,  4.34it/s]\n"
     ]
    },
    {
     "name": "stdout",
     "output_type": "stream",
     "text": [
      "test accuracy 0.9418835192918777 and ROC-AUC 0.9425602738415847\n",
      "Elapsed time 7.301323656241099 mins.\n",
      "\n",
      "\n",
      "2023-01-30 12:51:41 Round 3 ...\n",
      "Current Task 2018-05 w/ 500 samples to Replay per Malware family.\n",
      "X_train (41320, 2381) Y_train (41320,) Y_tr_family (41320,)\n",
      "X_test (25560, 2381) Y_test (25560,) Y_te_family (25560,)\n",
      "Task 2018-05 and #-of new samples stored 41320\n",
      "loading best model ../WeightsFinal_0.3_model_weights/Weights_replay_500/2018-04/best_model_epoch_15.pt\n"
     ]
    },
    {
     "name": "stderr",
     "output_type": "stream",
     "text": [
      "100%|██████████| 1/1 [00:00<00:00,  3.42it/s]\n",
      "100%|██████████| 1/1 [00:00<00:00,  2.60it/s]\n",
      "100%|██████████| 1/1 [00:00<00:00,  3.24it/s]\n",
      "100%|██████████| 1/1 [00:00<00:00,  3.44it/s]\n",
      "100%|██████████| 1/1 [00:00<00:00,  2.55it/s]\n",
      "100%|██████████| 1/1 [00:00<00:00,  3.17it/s]\n",
      "100%|██████████| 1/1 [00:00<00:00,  3.17it/s]\n",
      "100%|██████████| 1/1 [00:00<00:00,  3.15it/s]\n",
      "100%|██████████| 1/1 [00:00<00:00,  3.12it/s]\n",
      "100%|██████████| 1/1 [00:00<00:00,  2.88it/s]\n",
      "100%|██████████| 1/1 [00:00<00:00,  3.11it/s]\n",
      "100%|██████████| 1/1 [00:00<00:00,  3.16it/s]\n",
      "100%|██████████| 1/1 [00:00<00:00,  3.00it/s]\n",
      "100%|██████████| 1/1 [00:00<00:00,  3.10it/s]\n",
      "100%|██████████| 1/1 [00:00<00:00,  3.05it/s]\n",
      "100%|██████████| 1/1 [00:00<00:00,  2.75it/s]\n",
      "100%|██████████| 1/1 [00:00<00:00,  2.20it/s]\n",
      "100%|██████████| 1/1 [00:00<00:00,  3.16it/s]\n",
      "100%|██████████| 1/1 [00:00<00:00,  2.95it/s]\n",
      "100%|██████████| 1/1 [00:00<00:00,  2.94it/s]\n",
      "100%|██████████| 1/1 [00:00<00:00,  3.11it/s]\n",
      "100%|██████████| 1/1 [00:00<00:00,  3.15it/s]\n",
      "100%|██████████| 1/1 [00:00<00:00,  3.02it/s]\n",
      "100%|██████████| 1/1 [00:00<00:00,  3.21it/s]\n",
      "100%|██████████| 1/1 [00:00<00:00,  3.10it/s]\n"
     ]
    },
    {
     "name": "stdout",
     "output_type": "stream",
     "text": [
      "2023-01-30 12:52:21 Standardizing ...\n"
     ]
    },
    {
     "name": "stderr",
     "output_type": "stream",
     "text": [
      "\r",
      "  0%|          | 0/14 [00:00<?, ?it/s]"
     ]
    },
    {
     "name": "stdout",
     "output_type": "stream",
     "text": [
      "\n",
      "X_train (87040, 2381) Y_train (87040,)\n",
      "\n",
      "2023-01-30 12:52:26 Training ...\n",
      "Epoch 1 of 500\n"
     ]
    },
    {
     "name": "stderr",
     "output_type": "stream",
     "text": [
      "100%|██████████| 14/14 [00:02<00:00,  6.20it/s]\n",
      "100%|██████████| 5/5 [00:00<00:00,  6.67it/s]\n",
      "  0%|          | 0/14 [00:00<?, ?it/s]"
     ]
    },
    {
     "name": "stdout",
     "output_type": "stream",
     "text": [
      "Train Loss: 0.1621, Train Acc: 0.9389\n",
      "Val Loss: 0.1597, Val Acc: 0.9427\n",
      "Validation loss decreased (inf --> 0.159656).  Saving model ...\n",
      "../WeightsFinal_0.3_model_weights/Weights_replay_500/2018-05/best_model_epoch_1.pt\n",
      "../WeightsFinal_0.3_optimizer_weights/Weights_replay_500/2018-05/best_optimizer_epoch_1.pt\n",
      "Epoch 2 of 500\n"
     ]
    },
    {
     "name": "stderr",
     "output_type": "stream",
     "text": [
      "100%|██████████| 14/14 [00:02<00:00,  6.38it/s]\n",
      "100%|██████████| 5/5 [00:00<00:00,  9.18it/s]\n",
      "  0%|          | 0/14 [00:00<?, ?it/s]"
     ]
    },
    {
     "name": "stdout",
     "output_type": "stream",
     "text": [
      "Train Loss: 0.1545, Train Acc: 0.9408\n",
      "Val Loss: 0.1615, Val Acc: 0.9413\n",
      "EarlyStopping counter: 1 out of 5\n",
      "Epoch 3 of 500\n"
     ]
    },
    {
     "name": "stderr",
     "output_type": "stream",
     "text": [
      "100%|██████████| 14/14 [00:02<00:00,  5.77it/s]\n",
      "100%|██████████| 5/5 [00:00<00:00,  6.83it/s]\n",
      "  0%|          | 0/14 [00:00<?, ?it/s]"
     ]
    },
    {
     "name": "stdout",
     "output_type": "stream",
     "text": [
      "Train Loss: 0.1519, Train Acc: 0.9411\n",
      "Val Loss: 0.1616, Val Acc: 0.9399\n",
      "EarlyStopping counter: 2 out of 5\n",
      "Epoch 4 of 500\n"
     ]
    },
    {
     "name": "stderr",
     "output_type": "stream",
     "text": [
      "100%|██████████| 14/14 [00:02<00:00,  5.92it/s]\n",
      "100%|██████████| 5/5 [00:00<00:00,  8.21it/s]\n",
      "  0%|          | 0/14 [00:00<?, ?it/s]"
     ]
    },
    {
     "name": "stdout",
     "output_type": "stream",
     "text": [
      "Train Loss: 0.1466, Train Acc: 0.9439\n",
      "Val Loss: 0.1559, Val Acc: 0.9435\n",
      "Validation loss decreased (0.159656 --> 0.155949).  Saving model ...\n",
      "../WeightsFinal_0.3_model_weights/Weights_replay_500/2018-05/best_model_epoch_4.pt\n",
      "../WeightsFinal_0.3_optimizer_weights/Weights_replay_500/2018-05/best_optimizer_epoch_4.pt\n",
      "Epoch 5 of 500\n"
     ]
    },
    {
     "name": "stderr",
     "output_type": "stream",
     "text": [
      "100%|██████████| 14/14 [00:02<00:00,  6.38it/s]\n",
      "100%|██████████| 5/5 [00:00<00:00,  8.70it/s]\n",
      "  0%|          | 0/14 [00:00<?, ?it/s]"
     ]
    },
    {
     "name": "stdout",
     "output_type": "stream",
     "text": [
      "Train Loss: 0.1466, Train Acc: 0.9447\n",
      "Val Loss: 0.1565, Val Acc: 0.9414\n",
      "EarlyStopping counter: 1 out of 5\n",
      "Epoch 6 of 500\n"
     ]
    },
    {
     "name": "stderr",
     "output_type": "stream",
     "text": [
      "100%|██████████| 14/14 [00:02<00:00,  6.49it/s]\n",
      "100%|██████████| 5/5 [00:00<00:00,  8.26it/s]\n",
      "  0%|          | 0/14 [00:00<?, ?it/s]"
     ]
    },
    {
     "name": "stdout",
     "output_type": "stream",
     "text": [
      "Train Loss: 0.1428, Train Acc: 0.9447\n",
      "Val Loss: 0.1538, Val Acc: 0.9450\n",
      "Validation loss decreased (0.155949 --> 0.153759).  Saving model ...\n",
      "../WeightsFinal_0.3_model_weights/Weights_replay_500/2018-05/best_model_epoch_6.pt\n",
      "../WeightsFinal_0.3_optimizer_weights/Weights_replay_500/2018-05/best_optimizer_epoch_6.pt\n",
      "Epoch 7 of 500\n"
     ]
    },
    {
     "name": "stderr",
     "output_type": "stream",
     "text": [
      "100%|██████████| 14/14 [00:02<00:00,  6.69it/s]\n",
      "100%|██████████| 5/5 [00:00<00:00,  9.63it/s]\n",
      "  0%|          | 0/14 [00:00<?, ?it/s]"
     ]
    },
    {
     "name": "stdout",
     "output_type": "stream",
     "text": [
      "Train Loss: 0.1367, Train Acc: 0.9482\n",
      "Val Loss: 0.1512, Val Acc: 0.9445\n",
      "Validation loss decreased (0.153759 --> 0.151201).  Saving model ...\n",
      "../WeightsFinal_0.3_model_weights/Weights_replay_500/2018-05/best_model_epoch_7.pt\n",
      "../WeightsFinal_0.3_optimizer_weights/Weights_replay_500/2018-05/best_optimizer_epoch_7.pt\n",
      "Epoch 8 of 500\n"
     ]
    },
    {
     "name": "stderr",
     "output_type": "stream",
     "text": [
      "100%|██████████| 14/14 [00:02<00:00,  6.51it/s]\n",
      "100%|██████████| 5/5 [00:00<00:00,  8.97it/s]\n",
      "  0%|          | 0/14 [00:00<?, ?it/s]"
     ]
    },
    {
     "name": "stdout",
     "output_type": "stream",
     "text": [
      "Train Loss: 0.1360, Train Acc: 0.9480\n",
      "Val Loss: 0.1542, Val Acc: 0.9436\n",
      "EarlyStopping counter: 1 out of 5\n",
      "Epoch 9 of 500\n"
     ]
    },
    {
     "name": "stderr",
     "output_type": "stream",
     "text": [
      "100%|██████████| 14/14 [00:02<00:00,  6.26it/s]\n",
      "100%|██████████| 5/5 [00:00<00:00,  8.44it/s]\n",
      "  0%|          | 0/14 [00:00<?, ?it/s]"
     ]
    },
    {
     "name": "stdout",
     "output_type": "stream",
     "text": [
      "Train Loss: 0.1347, Train Acc: 0.9483\n",
      "Val Loss: 0.1543, Val Acc: 0.9443\n",
      "EarlyStopping counter: 2 out of 5\n",
      "Epoch 10 of 500\n"
     ]
    },
    {
     "name": "stderr",
     "output_type": "stream",
     "text": [
      "100%|██████████| 14/14 [00:02<00:00,  6.62it/s]\n",
      "100%|██████████| 5/5 [00:00<00:00,  9.68it/s]\n",
      "  0%|          | 0/14 [00:00<?, ?it/s]"
     ]
    },
    {
     "name": "stdout",
     "output_type": "stream",
     "text": [
      "Train Loss: 0.1314, Train Acc: 0.9491\n",
      "Val Loss: 0.1535, Val Acc: 0.9457\n",
      "EarlyStopping counter: 3 out of 5\n",
      "Epoch 11 of 500\n"
     ]
    },
    {
     "name": "stderr",
     "output_type": "stream",
     "text": [
      "100%|██████████| 14/14 [00:02<00:00,  6.13it/s]\n",
      "100%|██████████| 5/5 [00:00<00:00,  9.25it/s]\n",
      "  0%|          | 0/14 [00:00<?, ?it/s]"
     ]
    },
    {
     "name": "stdout",
     "output_type": "stream",
     "text": [
      "Train Loss: 0.1327, Train Acc: 0.9484\n",
      "Val Loss: 0.1493, Val Acc: 0.9473\n",
      "Validation loss decreased (0.151201 --> 0.149251).  Saving model ...\n",
      "../WeightsFinal_0.3_model_weights/Weights_replay_500/2018-05/best_model_epoch_11.pt\n",
      "../WeightsFinal_0.3_optimizer_weights/Weights_replay_500/2018-05/best_optimizer_epoch_11.pt\n",
      "Epoch 12 of 500\n"
     ]
    },
    {
     "name": "stderr",
     "output_type": "stream",
     "text": [
      "100%|██████████| 14/14 [00:02<00:00,  6.22it/s]\n",
      "100%|██████████| 5/5 [00:00<00:00,  9.53it/s]\n",
      "  0%|          | 0/14 [00:00<?, ?it/s]"
     ]
    },
    {
     "name": "stdout",
     "output_type": "stream",
     "text": [
      "Train Loss: 0.1292, Train Acc: 0.9499\n",
      "Val Loss: 0.1505, Val Acc: 0.9460\n",
      "EarlyStopping counter: 1 out of 5\n",
      "Epoch 13 of 500\n"
     ]
    },
    {
     "name": "stderr",
     "output_type": "stream",
     "text": [
      "100%|██████████| 14/14 [00:02<00:00,  4.89it/s]\n",
      "100%|██████████| 5/5 [00:00<00:00,  8.55it/s]\n",
      "  0%|          | 0/14 [00:00<?, ?it/s]"
     ]
    },
    {
     "name": "stdout",
     "output_type": "stream",
     "text": [
      "Train Loss: 0.1289, Train Acc: 0.9511\n",
      "Val Loss: 0.1503, Val Acc: 0.9474\n",
      "EarlyStopping counter: 2 out of 5\n",
      "Epoch 14 of 500\n"
     ]
    },
    {
     "name": "stderr",
     "output_type": "stream",
     "text": [
      "100%|██████████| 14/14 [00:02<00:00,  5.28it/s]\n",
      "100%|██████████| 5/5 [00:00<00:00,  8.77it/s]\n",
      "  0%|          | 0/14 [00:00<?, ?it/s]"
     ]
    },
    {
     "name": "stdout",
     "output_type": "stream",
     "text": [
      "Train Loss: 0.1246, Train Acc: 0.9520\n",
      "Val Loss: 0.1568, Val Acc: 0.9441\n",
      "EarlyStopping counter: 3 out of 5\n",
      "Epoch 15 of 500\n"
     ]
    },
    {
     "name": "stderr",
     "output_type": "stream",
     "text": [
      "100%|██████████| 14/14 [00:02<00:00,  6.41it/s]\n",
      "100%|██████████| 5/5 [00:00<00:00,  7.42it/s]\n",
      "  0%|          | 0/14 [00:00<?, ?it/s]"
     ]
    },
    {
     "name": "stdout",
     "output_type": "stream",
     "text": [
      "Train Loss: 0.1289, Train Acc: 0.9505\n",
      "Val Loss: 0.1492, Val Acc: 0.9458\n",
      "Validation loss decreased (0.149251 --> 0.149250).  Saving model ...\n",
      "../WeightsFinal_0.3_model_weights/Weights_replay_500/2018-05/best_model_epoch_15.pt\n",
      "../WeightsFinal_0.3_optimizer_weights/Weights_replay_500/2018-05/best_optimizer_epoch_15.pt\n",
      "Epoch 16 of 500\n"
     ]
    },
    {
     "name": "stderr",
     "output_type": "stream",
     "text": [
      "100%|██████████| 14/14 [00:02<00:00,  6.41it/s]\n",
      "100%|██████████| 5/5 [00:00<00:00,  9.67it/s]\n",
      "  0%|          | 0/14 [00:00<?, ?it/s]"
     ]
    },
    {
     "name": "stdout",
     "output_type": "stream",
     "text": [
      "Train Loss: 0.1241, Train Acc: 0.9515\n",
      "Val Loss: 0.1503, Val Acc: 0.9472\n",
      "EarlyStopping counter: 1 out of 5\n",
      "Epoch 17 of 500\n"
     ]
    },
    {
     "name": "stderr",
     "output_type": "stream",
     "text": [
      "100%|██████████| 14/14 [00:02<00:00,  6.38it/s]\n",
      "100%|██████████| 5/5 [00:00<00:00,  8.70it/s]\n",
      "  0%|          | 0/14 [00:00<?, ?it/s]"
     ]
    },
    {
     "name": "stdout",
     "output_type": "stream",
     "text": [
      "Train Loss: 0.1214, Train Acc: 0.9540\n",
      "Val Loss: 0.1548, Val Acc: 0.9447\n",
      "EarlyStopping counter: 2 out of 5\n",
      "Epoch 18 of 500\n"
     ]
    },
    {
     "name": "stderr",
     "output_type": "stream",
     "text": [
      "100%|██████████| 14/14 [00:02<00:00,  6.56it/s]\n",
      "100%|██████████| 5/5 [00:00<00:00,  8.85it/s]\n",
      "  0%|          | 0/14 [00:00<?, ?it/s]"
     ]
    },
    {
     "name": "stdout",
     "output_type": "stream",
     "text": [
      "Train Loss: 0.1213, Train Acc: 0.9532\n",
      "Val Loss: 0.1518, Val Acc: 0.9464\n",
      "EarlyStopping counter: 3 out of 5\n",
      "Epoch 19 of 500\n"
     ]
    },
    {
     "name": "stderr",
     "output_type": "stream",
     "text": [
      "100%|██████████| 14/14 [00:02<00:00,  6.39it/s]\n",
      "100%|██████████| 5/5 [00:00<00:00,  9.73it/s]\n",
      "  0%|          | 0/14 [00:00<?, ?it/s]"
     ]
    },
    {
     "name": "stdout",
     "output_type": "stream",
     "text": [
      "Train Loss: 0.1205, Train Acc: 0.9529\n",
      "Val Loss: 0.1578, Val Acc: 0.9441\n",
      "EarlyStopping counter: 4 out of 5\n",
      "Epoch 20 of 500\n"
     ]
    },
    {
     "name": "stderr",
     "output_type": "stream",
     "text": [
      "100%|██████████| 14/14 [00:02<00:00,  6.33it/s]\n",
      "100%|██████████| 5/5 [00:00<00:00,  9.03it/s]\n",
      "  0%|          | 0/5 [00:00<?, ?it/s]"
     ]
    },
    {
     "name": "stdout",
     "output_type": "stream",
     "text": [
      "Train Loss: 0.1168, Train Acc: 0.9547\n",
      "Val Loss: 0.1515, Val Acc: 0.9452\n",
      "EarlyStopping counter: 5 out of 5\n",
      "Early stopping\n",
      "Training time: 0.968 minutes\n",
      "loading best model ../WeightsFinal_0.3_model_weights/Weights_replay_500/2018-05/best_model_epoch_15.pt\n",
      "loading best optimizer ../WeightsFinal_0.3_optimizer_weights/Weights_replay_500/2018-05/best_optimizer_epoch_15.pt\n"
     ]
    },
    {
     "name": "stderr",
     "output_type": "stream",
     "text": [
      "100%|██████████| 5/5 [00:01<00:00,  4.92it/s]\n"
     ]
    },
    {
     "name": "stdout",
     "output_type": "stream",
     "text": [
      "test accuracy 0.9467999935150146 and ROC-AUC 0.9464386891284614\n",
      "Elapsed time 9.048042889436086 mins.\n",
      "\n",
      "\n",
      "2023-01-30 12:53:25 Round 3 ...\n",
      "Current Task 2018-06 w/ 500 samples to Replay per Malware family.\n",
      "X_train (43560, 2381) Y_train (43560,) Y_tr_family (43560,)\n",
      "X_test (30401, 2381) Y_test (30401,) Y_te_family (30401,)\n",
      "Task 2018-06 and #-of new samples stored 43560\n"
     ]
    },
    {
     "name": "stderr",
     "output_type": "stream",
     "text": [
      "\r",
      "  0%|          | 0/1 [00:00<?, ?it/s]"
     ]
    },
    {
     "name": "stdout",
     "output_type": "stream",
     "text": [
      "loading best model ../WeightsFinal_0.3_model_weights/Weights_replay_500/2018-05/best_model_epoch_15.pt\n"
     ]
    },
    {
     "name": "stderr",
     "output_type": "stream",
     "text": [
      "100%|██████████| 1/1 [00:00<00:00,  2.87it/s]\n",
      "100%|██████████| 1/1 [00:00<00:00,  3.01it/s]\n",
      "100%|██████████| 1/1 [00:00<00:00,  2.75it/s]\n",
      "100%|██████████| 1/1 [00:00<00:00,  3.02it/s]\n",
      "100%|██████████| 1/1 [00:00<00:00,  3.03it/s]\n",
      "100%|██████████| 1/1 [00:00<00:00,  3.25it/s]\n",
      "100%|██████████| 1/1 [00:00<00:00,  3.14it/s]\n",
      "100%|██████████| 1/1 [00:00<00:00,  2.98it/s]\n",
      "100%|██████████| 1/1 [00:00<00:00,  3.29it/s]\n",
      "100%|██████████| 1/1 [00:00<00:00,  3.40it/s]\n",
      "100%|██████████| 1/1 [00:00<00:00,  3.27it/s]\n",
      "100%|██████████| 1/1 [00:00<00:00,  3.18it/s]\n",
      "100%|██████████| 1/1 [00:00<00:00,  3.19it/s]\n",
      "100%|██████████| 1/1 [00:00<00:00,  3.12it/s]\n",
      "100%|██████████| 1/1 [00:00<00:00,  3.01it/s]\n",
      "100%|██████████| 1/1 [00:00<00:00,  2.88it/s]\n",
      "100%|██████████| 1/1 [00:00<00:00,  3.05it/s]\n",
      "100%|██████████| 1/1 [00:00<00:00,  2.84it/s]\n",
      "100%|██████████| 1/1 [00:00<00:00,  2.88it/s]\n",
      "100%|██████████| 1/1 [00:00<00:00,  3.33it/s]\n",
      "100%|██████████| 1/1 [00:00<00:00,  3.08it/s]\n",
      "100%|██████████| 1/1 [00:00<00:00,  3.03it/s]\n",
      "100%|██████████| 1/1 [00:00<00:00,  3.01it/s]\n",
      "100%|██████████| 1/1 [00:00<00:00,  2.95it/s]\n",
      "100%|██████████| 1/1 [00:00<00:00,  3.01it/s]\n",
      "100%|██████████| 1/1 [00:00<00:00,  3.11it/s]\n",
      "100%|██████████| 1/1 [00:00<00:00,  2.84it/s]\n",
      "100%|██████████| 1/1 [00:00<00:00,  3.01it/s]\n"
     ]
    },
    {
     "name": "stdout",
     "output_type": "stream",
     "text": [
      "2023-01-30 12:54:10 Standardizing ...\n"
     ]
    },
    {
     "name": "stderr",
     "output_type": "stream",
     "text": [
      "\r",
      "  0%|          | 0/17 [00:00<?, ?it/s]"
     ]
    },
    {
     "name": "stdout",
     "output_type": "stream",
     "text": [
      "\n",
      "X_train (102096, 2381) Y_train (102096,)\n",
      "\n",
      "2023-01-30 12:54:16 Training ...\n",
      "Epoch 1 of 500\n"
     ]
    },
    {
     "name": "stderr",
     "output_type": "stream",
     "text": [
      "100%|██████████| 17/17 [00:02<00:00,  6.77it/s]\n",
      "100%|██████████| 6/6 [00:00<00:00,  6.17it/s]\n",
      "  0%|          | 0/17 [00:00<?, ?it/s]"
     ]
    },
    {
     "name": "stdout",
     "output_type": "stream",
     "text": [
      "Train Loss: 0.1651, Train Acc: 0.9378\n",
      "Val Loss: 0.1515, Val Acc: 0.9434\n",
      "Validation loss decreased (inf --> 0.151497).  Saving model ...\n",
      "../WeightsFinal_0.3_model_weights/Weights_replay_500/2018-06/best_model_epoch_1.pt\n",
      "../WeightsFinal_0.3_optimizer_weights/Weights_replay_500/2018-06/best_optimizer_epoch_1.pt\n",
      "Epoch 2 of 500\n"
     ]
    },
    {
     "name": "stderr",
     "output_type": "stream",
     "text": [
      "100%|██████████| 17/17 [00:02<00:00,  6.80it/s]\n",
      "100%|██████████| 6/6 [00:00<00:00,  8.32it/s]\n",
      "  0%|          | 0/17 [00:00<?, ?it/s]"
     ]
    },
    {
     "name": "stdout",
     "output_type": "stream",
     "text": [
      "Train Loss: 0.1628, Train Acc: 0.9385\n",
      "Val Loss: 0.1514, Val Acc: 0.9445\n",
      "Validation loss decreased (0.151497 --> 0.151422).  Saving model ...\n",
      "../WeightsFinal_0.3_model_weights/Weights_replay_500/2018-06/best_model_epoch_2.pt\n",
      "../WeightsFinal_0.3_optimizer_weights/Weights_replay_500/2018-06/best_optimizer_epoch_2.pt\n",
      "Epoch 3 of 500\n"
     ]
    },
    {
     "name": "stderr",
     "output_type": "stream",
     "text": [
      "100%|██████████| 17/17 [00:02<00:00,  6.75it/s]\n",
      "100%|██████████| 6/6 [00:00<00:00,  8.28it/s]\n",
      "  0%|          | 0/17 [00:00<?, ?it/s]"
     ]
    },
    {
     "name": "stdout",
     "output_type": "stream",
     "text": [
      "Train Loss: 0.1487, Train Acc: 0.9443\n",
      "Val Loss: 0.1477, Val Acc: 0.9457\n",
      "Validation loss decreased (0.151422 --> 0.147737).  Saving model ...\n",
      "../WeightsFinal_0.3_model_weights/Weights_replay_500/2018-06/best_model_epoch_3.pt\n",
      "../WeightsFinal_0.3_optimizer_weights/Weights_replay_500/2018-06/best_optimizer_epoch_3.pt\n",
      "Epoch 4 of 500\n"
     ]
    },
    {
     "name": "stderr",
     "output_type": "stream",
     "text": [
      "100%|██████████| 17/17 [00:02<00:00,  6.41it/s]\n",
      "100%|██████████| 6/6 [00:00<00:00,  6.72it/s]\n",
      "  0%|          | 0/17 [00:00<?, ?it/s]"
     ]
    },
    {
     "name": "stdout",
     "output_type": "stream",
     "text": [
      "Train Loss: 0.1464, Train Acc: 0.9437\n",
      "Val Loss: 0.1448, Val Acc: 0.9455\n",
      "Validation loss decreased (0.147737 --> 0.144774).  Saving model ...\n",
      "../WeightsFinal_0.3_model_weights/Weights_replay_500/2018-06/best_model_epoch_4.pt\n",
      "../WeightsFinal_0.3_optimizer_weights/Weights_replay_500/2018-06/best_optimizer_epoch_4.pt\n",
      "Epoch 5 of 500\n"
     ]
    },
    {
     "name": "stderr",
     "output_type": "stream",
     "text": [
      "100%|██████████| 17/17 [00:02<00:00,  6.73it/s]\n",
      "100%|██████████| 6/6 [00:00<00:00,  7.90it/s]\n",
      "  0%|          | 0/17 [00:00<?, ?it/s]"
     ]
    },
    {
     "name": "stdout",
     "output_type": "stream",
     "text": [
      "Train Loss: 0.1420, Train Acc: 0.9459\n",
      "Val Loss: 0.1413, Val Acc: 0.9466\n",
      "Validation loss decreased (0.144774 --> 0.141267).  Saving model ...\n",
      "../WeightsFinal_0.3_model_weights/Weights_replay_500/2018-06/best_model_epoch_5.pt\n",
      "../WeightsFinal_0.3_optimizer_weights/Weights_replay_500/2018-06/best_optimizer_epoch_5.pt\n",
      "Epoch 6 of 500\n"
     ]
    },
    {
     "name": "stderr",
     "output_type": "stream",
     "text": [
      "100%|██████████| 17/17 [00:02<00:00,  6.62it/s]\n",
      "100%|██████████| 6/6 [00:00<00:00,  8.30it/s]\n",
      "  0%|          | 0/17 [00:00<?, ?it/s]"
     ]
    },
    {
     "name": "stdout",
     "output_type": "stream",
     "text": [
      "Train Loss: 0.1602, Train Acc: 0.9390\n",
      "Val Loss: 0.1983, Val Acc: 0.9253\n",
      "EarlyStopping counter: 1 out of 5\n",
      "Epoch 7 of 500\n"
     ]
    },
    {
     "name": "stderr",
     "output_type": "stream",
     "text": [
      "100%|██████████| 17/17 [00:02<00:00,  6.48it/s]\n",
      "100%|██████████| 6/6 [00:00<00:00,  8.33it/s]\n",
      "  0%|          | 0/17 [00:00<?, ?it/s]"
     ]
    },
    {
     "name": "stdout",
     "output_type": "stream",
     "text": [
      "Train Loss: 0.1454, Train Acc: 0.9442\n",
      "Val Loss: 0.1503, Val Acc: 0.9433\n",
      "EarlyStopping counter: 2 out of 5\n",
      "Epoch 8 of 500\n"
     ]
    },
    {
     "name": "stderr",
     "output_type": "stream",
     "text": [
      "100%|██████████| 17/17 [00:02<00:00,  5.98it/s]\n",
      "100%|██████████| 6/6 [00:00<00:00,  7.75it/s]\n",
      "  0%|          | 0/17 [00:00<?, ?it/s]"
     ]
    },
    {
     "name": "stdout",
     "output_type": "stream",
     "text": [
      "Train Loss: 0.1716, Train Acc: 0.9323\n",
      "Val Loss: 0.1374, Val Acc: 0.9451\n",
      "Validation loss decreased (0.141267 --> 0.137444).  Saving model ...\n",
      "../WeightsFinal_0.3_model_weights/Weights_replay_500/2018-06/best_model_epoch_8.pt\n",
      "../WeightsFinal_0.3_optimizer_weights/Weights_replay_500/2018-06/best_optimizer_epoch_8.pt\n",
      "Epoch 9 of 500\n"
     ]
    },
    {
     "name": "stderr",
     "output_type": "stream",
     "text": [
      "100%|██████████| 17/17 [00:02<00:00,  6.66it/s]\n",
      "100%|██████████| 6/6 [00:00<00:00,  8.30it/s]\n",
      "  0%|          | 0/17 [00:00<?, ?it/s]"
     ]
    },
    {
     "name": "stdout",
     "output_type": "stream",
     "text": [
      "Train Loss: 0.1775, Train Acc: 0.9333\n",
      "Val Loss: 0.2099, Val Acc: 0.9158\n",
      "EarlyStopping counter: 1 out of 5\n",
      "Epoch 10 of 500\n"
     ]
    },
    {
     "name": "stderr",
     "output_type": "stream",
     "text": [
      "100%|██████████| 17/17 [00:02<00:00,  6.70it/s]\n",
      "100%|██████████| 6/6 [00:00<00:00,  7.55it/s]\n",
      "  0%|          | 0/17 [00:00<?, ?it/s]"
     ]
    },
    {
     "name": "stdout",
     "output_type": "stream",
     "text": [
      "Train Loss: 0.1427, Train Acc: 0.9450\n",
      "Val Loss: 0.1414, Val Acc: 0.9464\n",
      "EarlyStopping counter: 2 out of 5\n",
      "Epoch 11 of 500\n"
     ]
    },
    {
     "name": "stderr",
     "output_type": "stream",
     "text": [
      "100%|██████████| 17/17 [00:02<00:00,  6.49it/s]\n",
      "100%|██████████| 6/6 [00:00<00:00,  7.45it/s]\n",
      "  0%|          | 0/17 [00:00<?, ?it/s]"
     ]
    },
    {
     "name": "stdout",
     "output_type": "stream",
     "text": [
      "Train Loss: 0.1367, Train Acc: 0.9488\n",
      "Val Loss: 0.1331, Val Acc: 0.9500\n",
      "Validation loss decreased (0.137444 --> 0.133059).  Saving model ...\n",
      "../WeightsFinal_0.3_model_weights/Weights_replay_500/2018-06/best_model_epoch_11.pt\n",
      "../WeightsFinal_0.3_optimizer_weights/Weights_replay_500/2018-06/best_optimizer_epoch_11.pt\n",
      "Epoch 12 of 500\n"
     ]
    },
    {
     "name": "stderr",
     "output_type": "stream",
     "text": [
      "100%|██████████| 17/17 [00:02<00:00,  6.77it/s]\n",
      "100%|██████████| 6/6 [00:00<00:00,  8.50it/s]\n",
      "  0%|          | 0/17 [00:00<?, ?it/s]"
     ]
    },
    {
     "name": "stdout",
     "output_type": "stream",
     "text": [
      "Train Loss: 0.1307, Train Acc: 0.9496\n",
      "Val Loss: 0.1329, Val Acc: 0.9498\n",
      "Validation loss decreased (0.133059 --> 0.132883).  Saving model ...\n",
      "../WeightsFinal_0.3_model_weights/Weights_replay_500/2018-06/best_model_epoch_12.pt\n",
      "../WeightsFinal_0.3_optimizer_weights/Weights_replay_500/2018-06/best_optimizer_epoch_12.pt\n",
      "Epoch 13 of 500\n"
     ]
    },
    {
     "name": "stderr",
     "output_type": "stream",
     "text": [
      "100%|██████████| 17/17 [00:02<00:00,  6.67it/s]\n",
      "100%|██████████| 6/6 [00:00<00:00,  8.46it/s]\n",
      "  0%|          | 0/17 [00:00<?, ?it/s]"
     ]
    },
    {
     "name": "stdout",
     "output_type": "stream",
     "text": [
      "Train Loss: 0.1265, Train Acc: 0.9511\n",
      "Val Loss: 0.1311, Val Acc: 0.9513\n",
      "Validation loss decreased (0.132883 --> 0.131122).  Saving model ...\n",
      "../WeightsFinal_0.3_model_weights/Weights_replay_500/2018-06/best_model_epoch_13.pt\n",
      "../WeightsFinal_0.3_optimizer_weights/Weights_replay_500/2018-06/best_optimizer_epoch_13.pt\n",
      "Epoch 14 of 500\n"
     ]
    },
    {
     "name": "stderr",
     "output_type": "stream",
     "text": [
      "100%|██████████| 17/17 [00:02<00:00,  6.52it/s]\n",
      "100%|██████████| 6/6 [00:00<00:00,  7.58it/s]\n",
      "  0%|          | 0/17 [00:00<?, ?it/s]"
     ]
    },
    {
     "name": "stdout",
     "output_type": "stream",
     "text": [
      "Train Loss: 0.1272, Train Acc: 0.9519\n",
      "Val Loss: 0.1321, Val Acc: 0.9499\n",
      "EarlyStopping counter: 1 out of 5\n",
      "Epoch 15 of 500\n"
     ]
    },
    {
     "name": "stderr",
     "output_type": "stream",
     "text": [
      "100%|██████████| 17/17 [00:02<00:00,  5.88it/s]\n",
      "100%|██████████| 6/6 [00:00<00:00,  8.33it/s]\n",
      "  0%|          | 0/17 [00:00<?, ?it/s]"
     ]
    },
    {
     "name": "stdout",
     "output_type": "stream",
     "text": [
      "Train Loss: 0.1235, Train Acc: 0.9528\n",
      "Val Loss: 0.1341, Val Acc: 0.9512\n",
      "EarlyStopping counter: 2 out of 5\n",
      "Epoch 16 of 500\n"
     ]
    },
    {
     "name": "stderr",
     "output_type": "stream",
     "text": [
      "100%|██████████| 17/17 [00:02<00:00,  6.63it/s]\n",
      "100%|██████████| 6/6 [00:00<00:00,  8.47it/s]\n",
      "  0%|          | 0/17 [00:00<?, ?it/s]"
     ]
    },
    {
     "name": "stdout",
     "output_type": "stream",
     "text": [
      "Train Loss: 0.1227, Train Acc: 0.9531\n",
      "Val Loss: 0.1348, Val Acc: 0.9499\n",
      "EarlyStopping counter: 3 out of 5\n",
      "Epoch 17 of 500\n"
     ]
    },
    {
     "name": "stderr",
     "output_type": "stream",
     "text": [
      "100%|██████████| 17/17 [00:02<00:00,  6.02it/s]\n",
      "100%|██████████| 6/6 [00:00<00:00,  8.27it/s]\n",
      "  0%|          | 0/17 [00:00<?, ?it/s]"
     ]
    },
    {
     "name": "stdout",
     "output_type": "stream",
     "text": [
      "Train Loss: 0.1183, Train Acc: 0.9558\n",
      "Val Loss: 0.1330, Val Acc: 0.9534\n",
      "EarlyStopping counter: 4 out of 5\n",
      "Epoch 18 of 500\n"
     ]
    },
    {
     "name": "stderr",
     "output_type": "stream",
     "text": [
      "100%|██████████| 17/17 [00:02<00:00,  5.94it/s]\n",
      "100%|██████████| 6/6 [00:00<00:00,  6.87it/s]\n",
      "  0%|          | 0/17 [00:00<?, ?it/s]"
     ]
    },
    {
     "name": "stdout",
     "output_type": "stream",
     "text": [
      "Train Loss: 0.1238, Train Acc: 0.9536\n",
      "Val Loss: 0.1240, Val Acc: 0.9540\n",
      "Validation loss decreased (0.131122 --> 0.123955).  Saving model ...\n",
      "../WeightsFinal_0.3_model_weights/Weights_replay_500/2018-06/best_model_epoch_18.pt\n",
      "../WeightsFinal_0.3_optimizer_weights/Weights_replay_500/2018-06/best_optimizer_epoch_18.pt\n",
      "Epoch 19 of 500\n"
     ]
    },
    {
     "name": "stderr",
     "output_type": "stream",
     "text": [
      "100%|██████████| 17/17 [00:02<00:00,  6.60it/s]\n",
      "100%|██████████| 6/6 [00:00<00:00,  8.14it/s]\n",
      "  0%|          | 0/17 [00:00<?, ?it/s]"
     ]
    },
    {
     "name": "stdout",
     "output_type": "stream",
     "text": [
      "Train Loss: 0.1264, Train Acc: 0.9501\n",
      "Val Loss: 0.1380, Val Acc: 0.9485\n",
      "EarlyStopping counter: 1 out of 5\n",
      "Epoch 20 of 500\n"
     ]
    },
    {
     "name": "stderr",
     "output_type": "stream",
     "text": [
      "100%|██████████| 17/17 [00:02<00:00,  6.60it/s]\n",
      "100%|██████████| 6/6 [00:00<00:00,  8.30it/s]\n",
      "  0%|          | 0/17 [00:00<?, ?it/s]"
     ]
    },
    {
     "name": "stdout",
     "output_type": "stream",
     "text": [
      "Train Loss: 0.1298, Train Acc: 0.9502\n",
      "Val Loss: 0.1233, Val Acc: 0.9543\n",
      "Validation loss decreased (0.123955 --> 0.123272).  Saving model ...\n",
      "../WeightsFinal_0.3_model_weights/Weights_replay_500/2018-06/best_model_epoch_20.pt\n",
      "../WeightsFinal_0.3_optimizer_weights/Weights_replay_500/2018-06/best_optimizer_epoch_20.pt\n",
      "Epoch 21 of 500\n"
     ]
    },
    {
     "name": "stderr",
     "output_type": "stream",
     "text": [
      "100%|██████████| 17/17 [00:02<00:00,  6.47it/s]\n",
      "100%|██████████| 6/6 [00:00<00:00,  7.66it/s]\n",
      "  0%|          | 0/17 [00:00<?, ?it/s]"
     ]
    },
    {
     "name": "stdout",
     "output_type": "stream",
     "text": [
      "Train Loss: 0.1240, Train Acc: 0.9522\n",
      "Val Loss: 0.1345, Val Acc: 0.9491\n",
      "EarlyStopping counter: 1 out of 5\n",
      "Epoch 22 of 500\n"
     ]
    },
    {
     "name": "stderr",
     "output_type": "stream",
     "text": [
      "100%|██████████| 17/17 [00:02<00:00,  6.70it/s]\n",
      "100%|██████████| 6/6 [00:00<00:00,  8.41it/s]\n",
      "  0%|          | 0/17 [00:00<?, ?it/s]"
     ]
    },
    {
     "name": "stdout",
     "output_type": "stream",
     "text": [
      "Train Loss: 0.1148, Train Acc: 0.9552\n",
      "Val Loss: 0.1332, Val Acc: 0.9515\n",
      "EarlyStopping counter: 2 out of 5\n",
      "Epoch 23 of 500\n"
     ]
    },
    {
     "name": "stderr",
     "output_type": "stream",
     "text": [
      "100%|██████████| 17/17 [00:02<00:00,  6.60it/s]\n",
      "100%|██████████| 6/6 [00:00<00:00,  8.47it/s]\n",
      "  0%|          | 0/17 [00:00<?, ?it/s]"
     ]
    },
    {
     "name": "stdout",
     "output_type": "stream",
     "text": [
      "Train Loss: 0.1144, Train Acc: 0.9563\n",
      "Val Loss: 0.1369, Val Acc: 0.9508\n",
      "EarlyStopping counter: 3 out of 5\n",
      "Epoch 24 of 500\n"
     ]
    },
    {
     "name": "stderr",
     "output_type": "stream",
     "text": [
      "100%|██████████| 17/17 [00:02<00:00,  6.45it/s]\n",
      "100%|██████████| 6/6 [00:00<00:00,  8.47it/s]\n",
      "  0%|          | 0/17 [00:00<?, ?it/s]"
     ]
    },
    {
     "name": "stdout",
     "output_type": "stream",
     "text": [
      "Train Loss: 0.1174, Train Acc: 0.9554\n",
      "Val Loss: 0.1240, Val Acc: 0.9525\n",
      "EarlyStopping counter: 4 out of 5\n",
      "Epoch 25 of 500\n"
     ]
    },
    {
     "name": "stderr",
     "output_type": "stream",
     "text": [
      "100%|██████████| 17/17 [00:02<00:00,  6.54it/s]\n",
      "100%|██████████| 6/6 [00:00<00:00,  7.65it/s]\n",
      "  0%|          | 0/6 [00:00<?, ?it/s]"
     ]
    },
    {
     "name": "stdout",
     "output_type": "stream",
     "text": [
      "Train Loss: 0.1062, Train Acc: 0.9600\n",
      "Val Loss: 0.1265, Val Acc: 0.9528\n",
      "EarlyStopping counter: 5 out of 5\n",
      "Early stopping\n",
      "Training time: 1.433 minutes\n",
      "loading best model ../WeightsFinal_0.3_model_weights/Weights_replay_500/2018-06/best_model_epoch_20.pt\n",
      "loading best optimizer ../WeightsFinal_0.3_optimizer_weights/Weights_replay_500/2018-06/best_optimizer_epoch_20.pt\n"
     ]
    },
    {
     "name": "stderr",
     "output_type": "stream",
     "text": [
      "100%|██████████| 6/6 [00:01<00:00,  5.43it/s]\n"
     ]
    },
    {
     "name": "stdout",
     "output_type": "stream",
     "text": [
      "test accuracy 0.9520989159742991 and ROC-AUC 0.9501307018119031\n",
      "Elapsed time 11.343095350265504 mins.\n",
      "\n",
      "\n",
      "2023-01-30 12:55:43 Round 3 ...\n",
      "Current Task 2018-07 w/ 500 samples to Replay per Malware family.\n",
      "X_train (46278, 2381) Y_train (46278,) Y_tr_family (46278,)\n",
      "X_test (35544, 2381) Y_test (35544,) Y_te_family (35544,)\n",
      "Task 2018-07 and #-of new samples stored 46278\n"
     ]
    },
    {
     "name": "stderr",
     "output_type": "stream",
     "text": [
      "\r",
      "  0%|          | 0/1 [00:00<?, ?it/s]"
     ]
    },
    {
     "name": "stdout",
     "output_type": "stream",
     "text": [
      "loading best model ../WeightsFinal_0.3_model_weights/Weights_replay_500/2018-06/best_model_epoch_20.pt\n"
     ]
    },
    {
     "name": "stderr",
     "output_type": "stream",
     "text": [
      "100%|██████████| 1/1 [00:00<00:00,  3.09it/s]\n",
      "100%|██████████| 1/1 [00:00<00:00,  2.91it/s]\n",
      "100%|██████████| 1/1 [00:00<00:00,  2.56it/s]\n",
      "100%|██████████| 1/1 [00:00<00:00,  2.52it/s]\n",
      "100%|██████████| 1/1 [00:00<00:00,  2.66it/s]\n",
      "100%|██████████| 1/1 [00:00<00:00,  2.66it/s]\n",
      "100%|██████████| 1/1 [00:00<00:00,  2.74it/s]\n",
      "100%|██████████| 1/1 [00:00<00:00,  2.80it/s]\n",
      "100%|██████████| 1/1 [00:00<00:00,  2.76it/s]\n",
      "100%|██████████| 1/1 [00:00<00:00,  2.44it/s]\n",
      "100%|██████████| 1/1 [00:00<00:00,  2.62it/s]\n",
      "100%|██████████| 1/1 [00:00<00:00,  3.04it/s]\n",
      "100%|██████████| 1/1 [00:00<00:00,  2.50it/s]\n",
      "100%|██████████| 1/1 [00:00<00:00,  2.77it/s]\n",
      "100%|██████████| 1/1 [00:00<00:00,  3.03it/s]\n",
      "100%|██████████| 1/1 [00:00<00:00,  2.43it/s]\n",
      "100%|██████████| 1/1 [00:00<00:00,  2.85it/s]\n",
      "100%|██████████| 1/1 [00:00<00:00,  3.05it/s]\n",
      "100%|██████████| 1/1 [00:00<00:00,  2.69it/s]\n",
      "100%|██████████| 1/1 [00:00<00:00,  2.43it/s]\n",
      "100%|██████████| 1/1 [00:00<00:00,  2.76it/s]\n",
      "100%|██████████| 1/1 [00:00<00:00,  2.76it/s]\n",
      "100%|██████████| 1/1 [00:00<00:00,  2.85it/s]\n",
      "100%|██████████| 1/1 [00:00<00:00,  2.25it/s]\n",
      "100%|██████████| 1/1 [00:00<00:00,  3.02it/s]\n",
      "100%|██████████| 1/1 [00:00<00:00,  2.97it/s]\n",
      "100%|██████████| 1/1 [00:00<00:00,  3.00it/s]\n",
      "100%|██████████| 1/1 [00:00<00:00,  2.77it/s]\n"
     ]
    },
    {
     "name": "stdout",
     "output_type": "stream",
     "text": [
      "2023-01-30 12:56:33 Standardizing ...\n"
     ]
    },
    {
     "name": "stderr",
     "output_type": "stream",
     "text": [
      "\r",
      "  0%|          | 0/19 [00:00<?, ?it/s]"
     ]
    },
    {
     "name": "stdout",
     "output_type": "stream",
     "text": [
      "\n",
      "X_train (115268, 2381) Y_train (115268,)\n",
      "\n",
      "2023-01-30 12:56:40 Training ...\n",
      "Epoch 1 of 500\n"
     ]
    },
    {
     "name": "stderr",
     "output_type": "stream",
     "text": [
      "100%|██████████| 19/19 [00:03<00:00,  5.80it/s]\n",
      "100%|██████████| 6/6 [00:00<00:00,  6.26it/s]\n",
      "  0%|          | 0/19 [00:00<?, ?it/s]"
     ]
    },
    {
     "name": "stdout",
     "output_type": "stream",
     "text": [
      "Train Loss: 0.1381, Train Acc: 0.9493\n",
      "Val Loss: 0.1435, Val Acc: 0.9465\n",
      "Validation loss decreased (inf --> 0.143470).  Saving model ...\n",
      "../WeightsFinal_0.3_model_weights/Weights_replay_500/2018-07/best_model_epoch_1.pt\n",
      "../WeightsFinal_0.3_optimizer_weights/Weights_replay_500/2018-07/best_optimizer_epoch_1.pt\n",
      "Epoch 2 of 500\n"
     ]
    },
    {
     "name": "stderr",
     "output_type": "stream",
     "text": [
      "100%|██████████| 19/19 [00:02<00:00,  6.91it/s]\n",
      "100%|██████████| 6/6 [00:00<00:00,  7.24it/s]\n",
      "  0%|          | 0/19 [00:00<?, ?it/s]"
     ]
    },
    {
     "name": "stdout",
     "output_type": "stream",
     "text": [
      "Train Loss: 0.1275, Train Acc: 0.9516\n",
      "Val Loss: 0.1441, Val Acc: 0.9458\n",
      "EarlyStopping counter: 1 out of 5\n",
      "Epoch 3 of 500\n"
     ]
    },
    {
     "name": "stderr",
     "output_type": "stream",
     "text": [
      "100%|██████████| 19/19 [00:02<00:00,  6.99it/s]\n",
      "100%|██████████| 6/6 [00:00<00:00,  6.77it/s]\n",
      "  0%|          | 0/19 [00:00<?, ?it/s]"
     ]
    },
    {
     "name": "stdout",
     "output_type": "stream",
     "text": [
      "Train Loss: 0.1267, Train Acc: 0.9524\n",
      "Val Loss: 0.1457, Val Acc: 0.9456\n",
      "EarlyStopping counter: 2 out of 5\n",
      "Epoch 4 of 500\n"
     ]
    },
    {
     "name": "stderr",
     "output_type": "stream",
     "text": [
      "100%|██████████| 19/19 [00:02<00:00,  6.97it/s]\n",
      "100%|██████████| 6/6 [00:00<00:00,  7.41it/s]\n",
      "  0%|          | 0/19 [00:00<?, ?it/s]"
     ]
    },
    {
     "name": "stdout",
     "output_type": "stream",
     "text": [
      "Train Loss: 0.1184, Train Acc: 0.9556\n",
      "Val Loss: 0.1373, Val Acc: 0.9484\n",
      "Validation loss decreased (0.143470 --> 0.137255).  Saving model ...\n",
      "../WeightsFinal_0.3_model_weights/Weights_replay_500/2018-07/best_model_epoch_4.pt\n",
      "../WeightsFinal_0.3_optimizer_weights/Weights_replay_500/2018-07/best_optimizer_epoch_4.pt\n",
      "Epoch 5 of 500\n"
     ]
    },
    {
     "name": "stderr",
     "output_type": "stream",
     "text": [
      "100%|██████████| 19/19 [00:03<00:00,  6.13it/s]\n",
      "100%|██████████| 6/6 [00:00<00:00,  6.12it/s]\n",
      "  0%|          | 0/19 [00:00<?, ?it/s]"
     ]
    },
    {
     "name": "stdout",
     "output_type": "stream",
     "text": [
      "Train Loss: 0.1181, Train Acc: 0.9556\n",
      "Val Loss: 0.1402, Val Acc: 0.9470\n",
      "EarlyStopping counter: 1 out of 5\n",
      "Epoch 6 of 500\n"
     ]
    },
    {
     "name": "stderr",
     "output_type": "stream",
     "text": [
      "100%|██████████| 19/19 [00:03<00:00,  4.88it/s]\n",
      "100%|██████████| 6/6 [00:00<00:00,  6.66it/s]\n",
      "  0%|          | 0/19 [00:00<?, ?it/s]"
     ]
    },
    {
     "name": "stdout",
     "output_type": "stream",
     "text": [
      "Train Loss: 0.1193, Train Acc: 0.9551\n",
      "Val Loss: 0.1313, Val Acc: 0.9514\n",
      "Validation loss decreased (0.137255 --> 0.131300).  Saving model ...\n",
      "../WeightsFinal_0.3_model_weights/Weights_replay_500/2018-07/best_model_epoch_6.pt\n",
      "../WeightsFinal_0.3_optimizer_weights/Weights_replay_500/2018-07/best_optimizer_epoch_6.pt\n",
      "Epoch 7 of 500\n"
     ]
    },
    {
     "name": "stderr",
     "output_type": "stream",
     "text": [
      "100%|██████████| 19/19 [00:03<00:00,  4.79it/s]\n",
      "100%|██████████| 6/6 [00:01<00:00,  5.63it/s]\n",
      "  0%|          | 0/19 [00:00<?, ?it/s]"
     ]
    },
    {
     "name": "stdout",
     "output_type": "stream",
     "text": [
      "Train Loss: 0.1153, Train Acc: 0.9570\n",
      "Val Loss: 0.1382, Val Acc: 0.9497\n",
      "EarlyStopping counter: 1 out of 5\n",
      "Epoch 8 of 500\n"
     ]
    },
    {
     "name": "stderr",
     "output_type": "stream",
     "text": [
      "100%|██████████| 19/19 [00:02<00:00,  6.35it/s]\n",
      "100%|██████████| 6/6 [00:00<00:00,  6.69it/s]\n",
      "  0%|          | 0/19 [00:00<?, ?it/s]"
     ]
    },
    {
     "name": "stdout",
     "output_type": "stream",
     "text": [
      "Train Loss: 0.1132, Train Acc: 0.9570\n",
      "Val Loss: 0.1419, Val Acc: 0.9487\n",
      "EarlyStopping counter: 2 out of 5\n",
      "Epoch 9 of 500\n"
     ]
    },
    {
     "name": "stderr",
     "output_type": "stream",
     "text": [
      "100%|██████████| 19/19 [00:03<00:00,  6.33it/s]\n",
      "100%|██████████| 6/6 [00:00<00:00,  6.62it/s]\n",
      "  0%|          | 0/19 [00:00<?, ?it/s]"
     ]
    },
    {
     "name": "stdout",
     "output_type": "stream",
     "text": [
      "Train Loss: 0.1099, Train Acc: 0.9587\n",
      "Val Loss: 0.1413, Val Acc: 0.9493\n",
      "EarlyStopping counter: 3 out of 5\n",
      "Epoch 10 of 500\n"
     ]
    },
    {
     "name": "stderr",
     "output_type": "stream",
     "text": [
      "100%|██████████| 19/19 [00:02<00:00,  6.53it/s]\n",
      "100%|██████████| 6/6 [00:00<00:00,  6.36it/s]\n",
      "  0%|          | 0/19 [00:00<?, ?it/s]"
     ]
    },
    {
     "name": "stdout",
     "output_type": "stream",
     "text": [
      "Train Loss: 0.1174, Train Acc: 0.9545\n",
      "Val Loss: 0.1507, Val Acc: 0.9446\n",
      "EarlyStopping counter: 4 out of 5\n",
      "Epoch 11 of 500\n"
     ]
    },
    {
     "name": "stderr",
     "output_type": "stream",
     "text": [
      "100%|██████████| 19/19 [00:02<00:00,  6.65it/s]\n",
      "100%|██████████| 6/6 [00:00<00:00,  6.50it/s]\n",
      "  0%|          | 0/6 [00:00<?, ?it/s]"
     ]
    },
    {
     "name": "stdout",
     "output_type": "stream",
     "text": [
      "Train Loss: 0.1092, Train Acc: 0.9582\n",
      "Val Loss: 0.1407, Val Acc: 0.9492\n",
      "EarlyStopping counter: 5 out of 5\n",
      "Early stopping\n",
      "Training time: 0.748 minutes\n",
      "loading best model ../WeightsFinal_0.3_model_weights/Weights_replay_500/2018-07/best_model_epoch_6.pt\n",
      "loading best optimizer ../WeightsFinal_0.3_optimizer_weights/Weights_replay_500/2018-07/best_optimizer_epoch_6.pt\n"
     ]
    },
    {
     "name": "stderr",
     "output_type": "stream",
     "text": [
      "100%|██████████| 6/6 [00:01<00:00,  5.22it/s]\n"
     ]
    },
    {
     "name": "stdout",
     "output_type": "stream",
     "text": [
      "test accuracy 0.9512632191181183 and ROC-AUC 0.9513524165816577\n",
      "Elapsed time 13.059437954425812 mins.\n",
      "\n",
      "\n",
      "2023-01-30 12:57:26 Round 3 ...\n",
      "Current Task 2018-08 w/ 500 samples to Replay per Malware family.\n",
      "X_train (40882, 2381) Y_train (40882,) Y_tr_family (40882,)\n",
      "X_test (40087, 2381) Y_test (40087,) Y_te_family (40087,)\n",
      "Task 2018-08 and #-of new samples stored 40882\n",
      "loading best model ../WeightsFinal_0.3_model_weights/Weights_replay_500/2018-07/best_model_epoch_6.pt\n"
     ]
    },
    {
     "name": "stderr",
     "output_type": "stream",
     "text": [
      "100%|██████████| 1/1 [00:00<00:00,  2.89it/s]\n",
      "100%|██████████| 1/1 [00:00<00:00,  2.92it/s]\n",
      "100%|██████████| 1/1 [00:00<00:00,  2.79it/s]\n",
      "100%|██████████| 1/1 [00:00<00:00,  2.42it/s]\n",
      "100%|██████████| 1/1 [00:00<00:00,  2.59it/s]\n",
      "100%|██████████| 1/1 [00:00<00:00,  2.69it/s]\n",
      "100%|██████████| 1/1 [00:00<00:00,  2.52it/s]\n",
      "100%|██████████| 1/1 [00:00<00:00,  2.26it/s]\n",
      "100%|██████████| 1/1 [00:00<00:00,  2.52it/s]\n",
      "100%|██████████| 1/1 [00:00<00:00,  2.39it/s]\n",
      "100%|██████████| 1/1 [00:00<00:00,  2.63it/s]\n",
      "100%|██████████| 1/1 [00:00<00:00,  2.70it/s]\n",
      "100%|██████████| 1/1 [00:00<00:00,  2.75it/s]\n",
      "100%|██████████| 1/1 [00:00<00:00,  2.67it/s]\n",
      "100%|██████████| 1/1 [00:00<00:00,  2.85it/s]\n",
      "100%|██████████| 1/1 [00:00<00:00,  2.48it/s]\n",
      "100%|██████████| 1/1 [00:00<00:00,  2.71it/s]\n",
      "100%|██████████| 1/1 [00:00<00:00,  2.91it/s]\n",
      "100%|██████████| 1/1 [00:00<00:00,  2.95it/s]\n",
      "100%|██████████| 1/1 [00:00<00:00,  2.89it/s]\n",
      "100%|██████████| 1/1 [00:00<00:00,  2.78it/s]\n",
      "100%|██████████| 1/1 [00:00<00:00,  2.71it/s]\n",
      "100%|██████████| 1/1 [00:00<00:00,  2.73it/s]\n",
      "100%|██████████| 1/1 [00:00<00:00,  2.72it/s]\n",
      "100%|██████████| 1/1 [00:00<00:00,  2.77it/s]\n",
      "100%|██████████| 1/1 [00:00<00:00,  2.87it/s]\n",
      "100%|██████████| 1/1 [00:00<00:00,  2.75it/s]\n",
      "100%|██████████| 1/1 [00:00<00:00,  2.71it/s]\n"
     ]
    },
    {
     "name": "stdout",
     "output_type": "stream",
     "text": [
      "2023-01-30 12:58:19 Standardizing ...\n"
     ]
    },
    {
     "name": "stderr",
     "output_type": "stream",
     "text": [
      "\r",
      "  0%|          | 0/20 [00:00<?, ?it/s]"
     ]
    },
    {
     "name": "stdout",
     "output_type": "stream",
     "text": [
      "\n",
      "X_train (125320, 2381) Y_train (125320,)\n",
      "\n",
      "2023-01-30 12:58:26 Training ...\n",
      "Epoch 1 of 500\n"
     ]
    },
    {
     "name": "stderr",
     "output_type": "stream",
     "text": [
      "100%|██████████| 20/20 [00:03<00:00,  6.36it/s]\n",
      "100%|██████████| 7/7 [00:01<00:00,  6.92it/s]\n",
      "  0%|          | 0/20 [00:00<?, ?it/s]"
     ]
    },
    {
     "name": "stdout",
     "output_type": "stream",
     "text": [
      "Train Loss: 0.1359, Train Acc: 0.9480\n",
      "Val Loss: 0.1412, Val Acc: 0.9475\n",
      "Validation loss decreased (inf --> 0.141240).  Saving model ...\n",
      "../WeightsFinal_0.3_model_weights/Weights_replay_500/2018-08/best_model_epoch_1.pt\n",
      "../WeightsFinal_0.3_optimizer_weights/Weights_replay_500/2018-08/best_optimizer_epoch_1.pt\n",
      "Epoch 2 of 500\n"
     ]
    },
    {
     "name": "stderr",
     "output_type": "stream",
     "text": [
      "100%|██████████| 20/20 [00:03<00:00,  5.18it/s]\n",
      "100%|██████████| 7/7 [00:00<00:00,  7.50it/s]\n",
      "  0%|          | 0/20 [00:00<?, ?it/s]"
     ]
    },
    {
     "name": "stdout",
     "output_type": "stream",
     "text": [
      "Train Loss: 0.1305, Train Acc: 0.9489\n",
      "Val Loss: 0.1547, Val Acc: 0.9422\n",
      "EarlyStopping counter: 1 out of 5\n",
      "Epoch 3 of 500\n"
     ]
    },
    {
     "name": "stderr",
     "output_type": "stream",
     "text": [
      "100%|██████████| 20/20 [00:03<00:00,  6.14it/s]\n",
      "100%|██████████| 7/7 [00:00<00:00,  7.22it/s]\n",
      "  0%|          | 0/20 [00:00<?, ?it/s]"
     ]
    },
    {
     "name": "stdout",
     "output_type": "stream",
     "text": [
      "Train Loss: 0.1270, Train Acc: 0.9513\n",
      "Val Loss: 0.1390, Val Acc: 0.9478\n",
      "Validation loss decreased (0.141240 --> 0.139011).  Saving model ...\n",
      "../WeightsFinal_0.3_model_weights/Weights_replay_500/2018-08/best_model_epoch_3.pt\n",
      "../WeightsFinal_0.3_optimizer_weights/Weights_replay_500/2018-08/best_optimizer_epoch_3.pt\n",
      "Epoch 4 of 500\n"
     ]
    },
    {
     "name": "stderr",
     "output_type": "stream",
     "text": [
      "100%|██████████| 20/20 [00:03<00:00,  6.47it/s]\n",
      "100%|██████████| 7/7 [00:00<00:00,  7.13it/s]\n",
      "  0%|          | 0/20 [00:00<?, ?it/s]"
     ]
    },
    {
     "name": "stdout",
     "output_type": "stream",
     "text": [
      "Train Loss: 0.1217, Train Acc: 0.9531\n",
      "Val Loss: 0.1387, Val Acc: 0.9477\n",
      "Validation loss decreased (0.139011 --> 0.138732).  Saving model ...\n",
      "../WeightsFinal_0.3_model_weights/Weights_replay_500/2018-08/best_model_epoch_4.pt\n",
      "../WeightsFinal_0.3_optimizer_weights/Weights_replay_500/2018-08/best_optimizer_epoch_4.pt\n",
      "Epoch 5 of 500\n"
     ]
    },
    {
     "name": "stderr",
     "output_type": "stream",
     "text": [
      "100%|██████████| 20/20 [00:02<00:00,  6.73it/s]\n",
      "100%|██████████| 7/7 [00:01<00:00,  6.49it/s]\n",
      "  0%|          | 0/20 [00:00<?, ?it/s]"
     ]
    },
    {
     "name": "stdout",
     "output_type": "stream",
     "text": [
      "Train Loss: 0.1299, Train Acc: 0.9498\n",
      "Val Loss: 0.1348, Val Acc: 0.9483\n",
      "Validation loss decreased (0.138732 --> 0.134763).  Saving model ...\n",
      "../WeightsFinal_0.3_model_weights/Weights_replay_500/2018-08/best_model_epoch_5.pt\n",
      "../WeightsFinal_0.3_optimizer_weights/Weights_replay_500/2018-08/best_optimizer_epoch_5.pt\n",
      "Epoch 6 of 500\n"
     ]
    },
    {
     "name": "stderr",
     "output_type": "stream",
     "text": [
      "100%|██████████| 20/20 [00:02<00:00,  6.78it/s]\n",
      "100%|██████████| 7/7 [00:00<00:00,  7.33it/s]\n",
      "  0%|          | 0/20 [00:00<?, ?it/s]"
     ]
    },
    {
     "name": "stdout",
     "output_type": "stream",
     "text": [
      "Train Loss: 0.1204, Train Acc: 0.9532\n",
      "Val Loss: 0.1338, Val Acc: 0.9498\n",
      "Validation loss decreased (0.134763 --> 0.133818).  Saving model ...\n",
      "../WeightsFinal_0.3_model_weights/Weights_replay_500/2018-08/best_model_epoch_6.pt\n",
      "../WeightsFinal_0.3_optimizer_weights/Weights_replay_500/2018-08/best_optimizer_epoch_6.pt\n",
      "Epoch 7 of 500\n"
     ]
    },
    {
     "name": "stderr",
     "output_type": "stream",
     "text": [
      "100%|██████████| 20/20 [00:03<00:00,  6.36it/s]\n",
      "100%|██████████| 7/7 [00:01<00:00,  6.92it/s]\n",
      "  0%|          | 0/20 [00:00<?, ?it/s]"
     ]
    },
    {
     "name": "stdout",
     "output_type": "stream",
     "text": [
      "Train Loss: 0.1184, Train Acc: 0.9539\n",
      "Val Loss: 0.1384, Val Acc: 0.9479\n",
      "EarlyStopping counter: 1 out of 5\n",
      "Epoch 8 of 500\n"
     ]
    },
    {
     "name": "stderr",
     "output_type": "stream",
     "text": [
      "100%|██████████| 20/20 [00:03<00:00,  5.90it/s]\n",
      "100%|██████████| 7/7 [00:00<00:00,  7.17it/s]\n",
      "  0%|          | 0/20 [00:00<?, ?it/s]"
     ]
    },
    {
     "name": "stdout",
     "output_type": "stream",
     "text": [
      "Train Loss: 0.1157, Train Acc: 0.9558\n",
      "Val Loss: 0.1354, Val Acc: 0.9485\n",
      "EarlyStopping counter: 2 out of 5\n",
      "Epoch 9 of 500\n"
     ]
    },
    {
     "name": "stderr",
     "output_type": "stream",
     "text": [
      "100%|██████████| 20/20 [00:02<00:00,  6.75it/s]\n",
      "100%|██████████| 7/7 [00:00<00:00,  7.22it/s]\n",
      "  0%|          | 0/20 [00:00<?, ?it/s]"
     ]
    },
    {
     "name": "stdout",
     "output_type": "stream",
     "text": [
      "Train Loss: 0.1161, Train Acc: 0.9556\n",
      "Val Loss: 0.1357, Val Acc: 0.9504\n",
      "EarlyStopping counter: 3 out of 5\n",
      "Epoch 10 of 500\n"
     ]
    },
    {
     "name": "stderr",
     "output_type": "stream",
     "text": [
      "100%|██████████| 20/20 [00:02<00:00,  6.74it/s]\n",
      "100%|██████████| 7/7 [00:00<00:00,  7.94it/s]\n",
      "  0%|          | 0/20 [00:00<?, ?it/s]"
     ]
    },
    {
     "name": "stdout",
     "output_type": "stream",
     "text": [
      "Train Loss: 0.1121, Train Acc: 0.9572\n",
      "Val Loss: 0.1368, Val Acc: 0.9507\n",
      "EarlyStopping counter: 4 out of 5\n",
      "Epoch 11 of 500\n"
     ]
    },
    {
     "name": "stderr",
     "output_type": "stream",
     "text": [
      "100%|██████████| 20/20 [00:02<00:00,  6.71it/s]\n",
      "100%|██████████| 7/7 [00:01<00:00,  5.91it/s]\n",
      "  0%|          | 0/7 [00:00<?, ?it/s]"
     ]
    },
    {
     "name": "stdout",
     "output_type": "stream",
     "text": [
      "Train Loss: 0.1199, Train Acc: 0.9539\n",
      "Val Loss: 0.1432, Val Acc: 0.9447\n",
      "EarlyStopping counter: 5 out of 5\n",
      "Early stopping\n",
      "Training time: 0.772 minutes\n",
      "loading best model ../WeightsFinal_0.3_model_weights/Weights_replay_500/2018-08/best_model_epoch_6.pt\n",
      "loading best optimizer ../WeightsFinal_0.3_optimizer_weights/Weights_replay_500/2018-08/best_optimizer_epoch_6.pt\n"
     ]
    },
    {
     "name": "stderr",
     "output_type": "stream",
     "text": [
      "100%|██████████| 7/7 [00:01<00:00,  4.63it/s]\n"
     ]
    },
    {
     "name": "stdout",
     "output_type": "stream",
     "text": [
      "test accuracy 0.9488060559545245 and ROC-AUC 0.9487773576401062\n",
      "Elapsed time 14.855415912469228 mins.\n",
      "\n",
      "\n",
      "2023-01-30 12:59:14 Round 3 ...\n",
      "Current Task 2018-09 w/ 500 samples to Replay per Malware family.\n",
      "X_train (56492, 2381) Y_train (56492,) Y_tr_family (56492,)\n",
      "X_test (46364, 2381) Y_test (46364,) Y_te_family (46364,)\n"
     ]
    },
    {
     "name": "stderr",
     "output_type": "stream",
     "text": [
      "\r",
      "  0%|          | 0/1 [00:00<?, ?it/s]"
     ]
    },
    {
     "name": "stdout",
     "output_type": "stream",
     "text": [
      "Task 2018-09 and #-of new samples stored 56492\n",
      "loading best model ../WeightsFinal_0.3_model_weights/Weights_replay_500/2018-08/best_model_epoch_6.pt\n"
     ]
    },
    {
     "name": "stderr",
     "output_type": "stream",
     "text": [
      "100%|██████████| 1/1 [00:00<00:00,  2.75it/s]\n",
      "100%|██████████| 1/1 [00:00<00:00,  2.77it/s]\n",
      "100%|██████████| 1/1 [00:00<00:00,  2.20it/s]\n",
      "100%|██████████| 1/1 [00:00<00:00,  2.55it/s]\n",
      "100%|██████████| 1/1 [00:00<00:00,  2.34it/s]\n",
      "100%|██████████| 1/1 [00:00<00:00,  2.19it/s]\n",
      "100%|██████████| 1/1 [00:00<00:00,  2.36it/s]\n",
      "100%|██████████| 1/1 [00:00<00:00,  2.22it/s]\n",
      "100%|██████████| 1/1 [00:00<00:00,  2.56it/s]\n",
      "100%|██████████| 1/1 [00:00<00:00,  2.57it/s]\n",
      "100%|██████████| 1/1 [00:00<00:00,  2.24it/s]\n",
      "100%|██████████| 1/1 [00:00<00:00,  2.40it/s]\n",
      "100%|██████████| 1/1 [00:00<00:00,  2.40it/s]\n",
      "100%|██████████| 1/1 [00:00<00:00,  2.16it/s]\n",
      "100%|██████████| 1/1 [00:00<00:00,  2.16it/s]\n",
      "100%|██████████| 1/1 [00:00<00:00,  2.32it/s]\n",
      "100%|██████████| 1/1 [00:00<00:00,  2.24it/s]\n",
      "100%|██████████| 1/1 [00:00<00:00,  2.02it/s]\n",
      "100%|██████████| 1/1 [00:00<00:00,  2.46it/s]\n",
      "100%|██████████| 1/1 [00:00<00:00,  2.59it/s]\n",
      "100%|██████████| 1/1 [00:00<00:00,  2.68it/s]\n",
      "100%|██████████| 1/1 [00:00<00:00,  2.47it/s]\n",
      "100%|██████████| 1/1 [00:00<00:00,  2.68it/s]\n",
      "100%|██████████| 1/1 [00:00<00:00,  2.60it/s]\n",
      "100%|██████████| 1/1 [00:00<00:00,  2.80it/s]\n",
      "100%|██████████| 1/1 [00:00<00:00,  2.54it/s]\n",
      "100%|██████████| 1/1 [00:00<00:00,  2.33it/s]\n",
      "100%|██████████| 1/1 [00:00<00:00,  2.54it/s]\n",
      "100%|██████████| 1/1 [00:00<00:00,  2.27it/s]\n",
      "100%|██████████| 1/1 [00:00<00:00,  2.32it/s]\n",
      "100%|██████████| 1/1 [00:00<00:00,  2.41it/s]\n",
      "100%|██████████| 1/1 [00:00<00:00,  2.29it/s]\n",
      "100%|██████████| 1/1 [00:00<00:00,  2.17it/s]\n",
      "100%|██████████| 1/1 [00:00<00:00,  2.72it/s]\n",
      "100%|██████████| 1/1 [00:00<00:00,  2.63it/s]\n",
      "100%|██████████| 1/1 [00:00<00:00,  2.51it/s]\n",
      "100%|██████████| 1/1 [00:00<00:00,  2.57it/s]\n",
      "100%|██████████| 1/1 [00:00<00:00,  2.26it/s]\n",
      "100%|██████████| 1/1 [00:00<00:00,  2.60it/s]\n",
      "100%|██████████| 1/1 [00:00<00:00,  2.36it/s]\n",
      "100%|██████████| 1/1 [00:00<00:00,  2.31it/s]\n",
      "100%|██████████| 1/1 [00:00<00:00,  2.53it/s]\n",
      "100%|██████████| 1/1 [00:00<00:00,  2.37it/s]\n"
     ]
    },
    {
     "name": "stdout",
     "output_type": "stream",
     "text": [
      "2023-01-30 13:00:25 Standardizing ...\n"
     ]
    },
    {
     "name": "stderr",
     "output_type": "stream",
     "text": [
      "\r",
      "  0%|          | 0/23 [00:00<?, ?it/s]"
     ]
    },
    {
     "name": "stdout",
     "output_type": "stream",
     "text": [
      "\n",
      "X_train (143026, 2381) Y_train (143026,)\n",
      "\n",
      "2023-01-30 13:00:34 Training ...\n",
      "Epoch 1 of 500\n"
     ]
    },
    {
     "name": "stderr",
     "output_type": "stream",
     "text": [
      "100%|██████████| 23/23 [00:03<00:00,  6.11it/s]\n",
      "100%|██████████| 8/8 [00:01<00:00,  6.47it/s]\n",
      "  0%|          | 0/23 [00:00<?, ?it/s]"
     ]
    },
    {
     "name": "stdout",
     "output_type": "stream",
     "text": [
      "Train Loss: 0.1553, Train Acc: 0.9409\n",
      "Val Loss: 0.1450, Val Acc: 0.9437\n",
      "Validation loss decreased (inf --> 0.145023).  Saving model ...\n",
      "../WeightsFinal_0.3_model_weights/Weights_replay_500/2018-09/best_model_epoch_1.pt\n",
      "../WeightsFinal_0.3_optimizer_weights/Weights_replay_500/2018-09/best_optimizer_epoch_1.pt\n",
      "Epoch 2 of 500\n"
     ]
    },
    {
     "name": "stderr",
     "output_type": "stream",
     "text": [
      "100%|██████████| 23/23 [00:04<00:00,  5.57it/s]\n",
      "100%|██████████| 8/8 [00:01<00:00,  7.17it/s]\n",
      "  0%|          | 0/23 [00:00<?, ?it/s]"
     ]
    },
    {
     "name": "stdout",
     "output_type": "stream",
     "text": [
      "Train Loss: 0.1620, Train Acc: 0.9386\n",
      "Val Loss: 0.1546, Val Acc: 0.9403\n",
      "EarlyStopping counter: 1 out of 5\n",
      "Epoch 3 of 500\n"
     ]
    },
    {
     "name": "stderr",
     "output_type": "stream",
     "text": [
      "100%|██████████| 23/23 [00:04<00:00,  4.97it/s]\n",
      "100%|██████████| 8/8 [00:01<00:00,  6.23it/s]\n",
      "  0%|          | 0/23 [00:00<?, ?it/s]"
     ]
    },
    {
     "name": "stdout",
     "output_type": "stream",
     "text": [
      "Train Loss: 0.1582, Train Acc: 0.9387\n",
      "Val Loss: 0.1352, Val Acc: 0.9484\n",
      "Validation loss decreased (0.145023 --> 0.135227).  Saving model ...\n",
      "../WeightsFinal_0.3_model_weights/Weights_replay_500/2018-09/best_model_epoch_3.pt\n",
      "../WeightsFinal_0.3_optimizer_weights/Weights_replay_500/2018-09/best_optimizer_epoch_3.pt\n",
      "Epoch 4 of 500\n"
     ]
    },
    {
     "name": "stderr",
     "output_type": "stream",
     "text": [
      "100%|██████████| 23/23 [00:03<00:00,  6.67it/s]\n",
      "100%|██████████| 8/8 [00:01<00:00,  6.97it/s]\n",
      "  0%|          | 0/23 [00:00<?, ?it/s]"
     ]
    },
    {
     "name": "stdout",
     "output_type": "stream",
     "text": [
      "Train Loss: 0.1507, Train Acc: 0.9413\n",
      "Val Loss: 0.1437, Val Acc: 0.9438\n",
      "EarlyStopping counter: 1 out of 5\n",
      "Epoch 5 of 500\n"
     ]
    },
    {
     "name": "stderr",
     "output_type": "stream",
     "text": [
      "100%|██████████| 23/23 [00:03<00:00,  6.58it/s]\n",
      "100%|██████████| 8/8 [00:01<00:00,  7.27it/s]\n",
      "  0%|          | 0/23 [00:00<?, ?it/s]"
     ]
    },
    {
     "name": "stdout",
     "output_type": "stream",
     "text": [
      "Train Loss: 0.1519, Train Acc: 0.9407\n",
      "Val Loss: 0.1393, Val Acc: 0.9467\n",
      "EarlyStopping counter: 2 out of 5\n",
      "Epoch 6 of 500\n"
     ]
    },
    {
     "name": "stderr",
     "output_type": "stream",
     "text": [
      "100%|██████████| 23/23 [00:03<00:00,  6.70it/s]\n",
      "100%|██████████| 8/8 [00:01<00:00,  7.70it/s]\n",
      "  0%|          | 0/23 [00:00<?, ?it/s]"
     ]
    },
    {
     "name": "stdout",
     "output_type": "stream",
     "text": [
      "Train Loss: 0.1457, Train Acc: 0.9412\n",
      "Val Loss: 0.1373, Val Acc: 0.9465\n",
      "EarlyStopping counter: 3 out of 5\n",
      "Epoch 7 of 500\n"
     ]
    },
    {
     "name": "stderr",
     "output_type": "stream",
     "text": [
      "100%|██████████| 23/23 [00:03<00:00,  6.17it/s]\n",
      "100%|██████████| 8/8 [00:01<00:00,  6.65it/s]\n",
      "  0%|          | 0/23 [00:00<?, ?it/s]"
     ]
    },
    {
     "name": "stdout",
     "output_type": "stream",
     "text": [
      "Train Loss: 0.1553, Train Acc: 0.9375\n",
      "Val Loss: 0.1334, Val Acc: 0.9507\n",
      "Validation loss decreased (0.135227 --> 0.133381).  Saving model ...\n",
      "../WeightsFinal_0.3_model_weights/Weights_replay_500/2018-09/best_model_epoch_7.pt\n",
      "../WeightsFinal_0.3_optimizer_weights/Weights_replay_500/2018-09/best_optimizer_epoch_7.pt\n",
      "Epoch 8 of 500\n"
     ]
    },
    {
     "name": "stderr",
     "output_type": "stream",
     "text": [
      "100%|██████████| 23/23 [00:03<00:00,  6.50it/s]\n",
      "100%|██████████| 8/8 [00:01<00:00,  7.61it/s]\n",
      "  0%|          | 0/23 [00:00<?, ?it/s]"
     ]
    },
    {
     "name": "stdout",
     "output_type": "stream",
     "text": [
      "Train Loss: 0.1378, Train Acc: 0.9458\n",
      "Val Loss: 0.1385, Val Acc: 0.9459\n",
      "EarlyStopping counter: 1 out of 5\n",
      "Epoch 9 of 500\n"
     ]
    },
    {
     "name": "stderr",
     "output_type": "stream",
     "text": [
      "100%|██████████| 23/23 [00:03<00:00,  6.76it/s]\n",
      "100%|██████████| 8/8 [00:01<00:00,  6.15it/s]\n",
      "  0%|          | 0/23 [00:00<?, ?it/s]"
     ]
    },
    {
     "name": "stdout",
     "output_type": "stream",
     "text": [
      "Train Loss: 0.1332, Train Acc: 0.9466\n",
      "Val Loss: 0.1351, Val Acc: 0.9484\n",
      "EarlyStopping counter: 2 out of 5\n",
      "Epoch 10 of 500\n"
     ]
    },
    {
     "name": "stderr",
     "output_type": "stream",
     "text": [
      "100%|██████████| 23/23 [00:03<00:00,  6.78it/s]\n",
      "100%|██████████| 8/8 [00:00<00:00,  8.78it/s]\n",
      "  0%|          | 0/23 [00:00<?, ?it/s]"
     ]
    },
    {
     "name": "stdout",
     "output_type": "stream",
     "text": [
      "Train Loss: 0.1379, Train Acc: 0.9464\n",
      "Val Loss: 0.1267, Val Acc: 0.9527\n",
      "Validation loss decreased (0.133381 --> 0.126651).  Saving model ...\n",
      "../WeightsFinal_0.3_model_weights/Weights_replay_500/2018-09/best_model_epoch_10.pt\n",
      "../WeightsFinal_0.3_optimizer_weights/Weights_replay_500/2018-09/best_optimizer_epoch_10.pt\n",
      "Epoch 11 of 500\n"
     ]
    },
    {
     "name": "stderr",
     "output_type": "stream",
     "text": [
      "100%|██████████| 23/23 [00:03<00:00,  6.80it/s]\n",
      "100%|██████████| 8/8 [00:01<00:00,  7.48it/s]\n",
      "  0%|          | 0/23 [00:00<?, ?it/s]"
     ]
    },
    {
     "name": "stdout",
     "output_type": "stream",
     "text": [
      "Train Loss: 0.1323, Train Acc: 0.9481\n",
      "Val Loss: 0.1304, Val Acc: 0.9516\n",
      "EarlyStopping counter: 1 out of 5\n",
      "Epoch 12 of 500\n"
     ]
    },
    {
     "name": "stderr",
     "output_type": "stream",
     "text": [
      "100%|██████████| 23/23 [00:03<00:00,  6.73it/s]\n",
      "100%|██████████| 8/8 [00:01<00:00,  7.48it/s]\n",
      "  0%|          | 0/23 [00:00<?, ?it/s]"
     ]
    },
    {
     "name": "stdout",
     "output_type": "stream",
     "text": [
      "Train Loss: 0.1245, Train Acc: 0.9523\n",
      "Val Loss: 0.1324, Val Acc: 0.9500\n",
      "EarlyStopping counter: 2 out of 5\n",
      "Epoch 13 of 500\n"
     ]
    },
    {
     "name": "stderr",
     "output_type": "stream",
     "text": [
      "100%|██████████| 23/23 [00:03<00:00,  6.73it/s]\n",
      "100%|██████████| 8/8 [00:01<00:00,  6.74it/s]\n",
      "  0%|          | 0/23 [00:00<?, ?it/s]"
     ]
    },
    {
     "name": "stdout",
     "output_type": "stream",
     "text": [
      "Train Loss: 0.1318, Train Acc: 0.9471\n",
      "Val Loss: 0.1528, Val Acc: 0.9412\n",
      "EarlyStopping counter: 3 out of 5\n",
      "Epoch 14 of 500\n"
     ]
    },
    {
     "name": "stderr",
     "output_type": "stream",
     "text": [
      "100%|██████████| 23/23 [00:03<00:00,  6.80it/s]\n",
      "100%|██████████| 8/8 [00:01<00:00,  7.49it/s]\n",
      "  0%|          | 0/23 [00:00<?, ?it/s]"
     ]
    },
    {
     "name": "stdout",
     "output_type": "stream",
     "text": [
      "Train Loss: 0.1492, Train Acc: 0.9412\n",
      "Val Loss: 0.1884, Val Acc: 0.9256\n",
      "EarlyStopping counter: 4 out of 5\n",
      "Epoch 15 of 500\n"
     ]
    },
    {
     "name": "stderr",
     "output_type": "stream",
     "text": [
      "100%|██████████| 23/23 [00:03<00:00,  6.86it/s]\n",
      "100%|██████████| 8/8 [00:01<00:00,  7.52it/s]\n",
      "  0%|          | 0/8 [00:00<?, ?it/s]"
     ]
    },
    {
     "name": "stdout",
     "output_type": "stream",
     "text": [
      "Train Loss: 0.1328, Train Acc: 0.9464\n",
      "Val Loss: 0.1297, Val Acc: 0.9521\n",
      "EarlyStopping counter: 5 out of 5\n",
      "Early stopping\n",
      "Training time: 1.190 minutes\n",
      "loading best model ../WeightsFinal_0.3_model_weights/Weights_replay_500/2018-09/best_model_epoch_10.pt\n",
      "loading best optimizer ../WeightsFinal_0.3_optimizer_weights/Weights_replay_500/2018-09/best_optimizer_epoch_10.pt\n"
     ]
    },
    {
     "name": "stderr",
     "output_type": "stream",
     "text": [
      "100%|██████████| 8/8 [00:01<00:00,  6.10it/s]\n"
     ]
    },
    {
     "name": "stdout",
     "output_type": "stream",
     "text": [
      "test accuracy 0.9518443122506142 and ROC-AUC 0.9521476007852291\n",
      "Elapsed time 17.401845546563468 mins.\n",
      "\n",
      "\n",
      "2023-01-30 13:01:47 Round 3 ...\n",
      "Current Task 2018-10 w/ 500 samples to Replay per Malware family.\n",
      "X_train (77772, 2381) Y_train (77772,) Y_tr_family (77772,)\n",
      "X_test (55006, 2381) Y_test (55006,) Y_te_family (55006,)\n"
     ]
    },
    {
     "name": "stderr",
     "output_type": "stream",
     "text": [
      "\r",
      "  0%|          | 0/1 [00:00<?, ?it/s]"
     ]
    },
    {
     "name": "stdout",
     "output_type": "stream",
     "text": [
      "Task 2018-10 and #-of new samples stored 77772\n",
      "loading best model ../WeightsFinal_0.3_model_weights/Weights_replay_500/2018-09/best_model_epoch_10.pt\n"
     ]
    },
    {
     "name": "stderr",
     "output_type": "stream",
     "text": [
      "100%|██████████| 1/1 [00:00<00:00,  2.51it/s]\n",
      "100%|██████████| 1/1 [00:00<00:00,  2.64it/s]\n",
      "100%|██████████| 1/1 [00:00<00:00,  2.05it/s]\n",
      "100%|██████████| 2/2 [00:00<00:00,  2.43it/s]\n",
      "100%|██████████| 1/1 [00:00<00:00,  2.03it/s]\n",
      "100%|██████████| 1/1 [00:00<00:00,  2.40it/s]\n",
      "100%|██████████| 1/1 [00:00<00:00,  2.51it/s]\n",
      "100%|██████████| 1/1 [00:00<00:00,  2.36it/s]\n",
      "100%|██████████| 1/1 [00:00<00:00,  2.35it/s]\n",
      "100%|██████████| 2/2 [00:00<00:00,  3.08it/s]\n",
      "100%|██████████| 1/1 [00:00<00:00,  2.53it/s]\n",
      "100%|██████████| 1/1 [00:00<00:00,  2.42it/s]\n",
      "100%|██████████| 1/1 [00:00<00:00,  1.95it/s]\n",
      "100%|██████████| 2/2 [00:00<00:00,  2.42it/s]\n",
      "100%|██████████| 1/1 [00:00<00:00,  2.42it/s]\n",
      "100%|██████████| 1/1 [00:00<00:00,  2.31it/s]\n",
      "100%|██████████| 1/1 [00:00<00:00,  2.32it/s]\n",
      "100%|██████████| 1/1 [00:00<00:00,  2.35it/s]\n",
      "100%|██████████| 1/1 [00:00<00:00,  1.86it/s]\n",
      "100%|██████████| 1/1 [00:00<00:00,  2.30it/s]\n",
      "100%|██████████| 1/1 [00:00<00:00,  2.33it/s]\n",
      "100%|██████████| 3/3 [00:00<00:00,  3.31it/s]\n",
      "100%|██████████| 1/1 [00:00<00:00,  2.29it/s]\n",
      "100%|██████████| 1/1 [00:00<00:00,  2.35it/s]\n",
      "100%|██████████| 1/1 [00:00<00:00,  2.22it/s]\n"
     ]
    },
    {
     "name": "stdout",
     "output_type": "stream",
     "text": [
      "2023-01-30 13:02:56 Standardizing ...\n"
     ]
    },
    {
     "name": "stderr",
     "output_type": "stream",
     "text": [
      "\r",
      "  0%|          | 0/27 [00:00<?, ?it/s]"
     ]
    },
    {
     "name": "stdout",
     "output_type": "stream",
     "text": [
      "\n",
      "X_train (164312, 2381) Y_train (164312,)\n",
      "\n",
      "2023-01-30 13:03:06 Training ...\n",
      "Epoch 1 of 500\n"
     ]
    },
    {
     "name": "stderr",
     "output_type": "stream",
     "text": [
      "100%|██████████| 27/27 [00:03<00:00,  7.19it/s]\n",
      "100%|██████████| 10/10 [00:01<00:00,  7.52it/s]\n",
      "  0%|          | 0/27 [00:00<?, ?it/s]"
     ]
    },
    {
     "name": "stdout",
     "output_type": "stream",
     "text": [
      "Train Loss: 0.1664, Train Acc: 0.9365\n",
      "Val Loss: 0.1441, Val Acc: 0.9466\n",
      "Validation loss decreased (inf --> 0.144146).  Saving model ...\n",
      "../WeightsFinal_0.3_model_weights/Weights_replay_500/2018-10/best_model_epoch_1.pt\n",
      "../WeightsFinal_0.3_optimizer_weights/Weights_replay_500/2018-10/best_optimizer_epoch_1.pt\n",
      "Epoch 2 of 500\n"
     ]
    },
    {
     "name": "stderr",
     "output_type": "stream",
     "text": [
      "100%|██████████| 27/27 [00:03<00:00,  7.15it/s]\n",
      "100%|██████████| 10/10 [00:01<00:00,  7.18it/s]\n",
      "  0%|          | 0/27 [00:00<?, ?it/s]"
     ]
    },
    {
     "name": "stdout",
     "output_type": "stream",
     "text": [
      "Train Loss: 0.1645, Train Acc: 0.9358\n",
      "Val Loss: 0.1380, Val Acc: 0.9481\n",
      "Validation loss decreased (0.144146 --> 0.137987).  Saving model ...\n",
      "../WeightsFinal_0.3_model_weights/Weights_replay_500/2018-10/best_model_epoch_2.pt\n",
      "../WeightsFinal_0.3_optimizer_weights/Weights_replay_500/2018-10/best_optimizer_epoch_2.pt\n",
      "Epoch 3 of 500\n"
     ]
    },
    {
     "name": "stderr",
     "output_type": "stream",
     "text": [
      "100%|██████████| 27/27 [00:03<00:00,  7.01it/s]\n",
      "100%|██████████| 10/10 [00:01<00:00,  8.32it/s]\n",
      "  0%|          | 0/27 [00:00<?, ?it/s]"
     ]
    },
    {
     "name": "stdout",
     "output_type": "stream",
     "text": [
      "Train Loss: 0.1523, Train Acc: 0.9418\n",
      "Val Loss: 0.1385, Val Acc: 0.9456\n",
      "EarlyStopping counter: 1 out of 5\n",
      "Epoch 4 of 500\n"
     ]
    },
    {
     "name": "stderr",
     "output_type": "stream",
     "text": [
      "100%|██████████| 27/27 [00:04<00:00,  6.24it/s]\n",
      "100%|██████████| 10/10 [00:01<00:00,  9.57it/s]\n",
      "  0%|          | 0/27 [00:00<?, ?it/s]"
     ]
    },
    {
     "name": "stdout",
     "output_type": "stream",
     "text": [
      "Train Loss: 0.1538, Train Acc: 0.9395\n",
      "Val Loss: 0.1468, Val Acc: 0.9433\n",
      "EarlyStopping counter: 2 out of 5\n",
      "Epoch 5 of 500\n"
     ]
    },
    {
     "name": "stderr",
     "output_type": "stream",
     "text": [
      "100%|██████████| 27/27 [00:03<00:00,  7.33it/s]\n",
      "100%|██████████| 10/10 [00:01<00:00,  7.06it/s]\n",
      "  0%|          | 0/27 [00:00<?, ?it/s]"
     ]
    },
    {
     "name": "stdout",
     "output_type": "stream",
     "text": [
      "Train Loss: 0.1472, Train Acc: 0.9426\n",
      "Val Loss: 0.1388, Val Acc: 0.9476\n",
      "EarlyStopping counter: 3 out of 5\n",
      "Epoch 6 of 500\n"
     ]
    },
    {
     "name": "stderr",
     "output_type": "stream",
     "text": [
      "100%|██████████| 27/27 [00:03<00:00,  6.90it/s]\n",
      "100%|██████████| 10/10 [00:01<00:00,  7.33it/s]\n",
      "  0%|          | 0/27 [00:00<?, ?it/s]"
     ]
    },
    {
     "name": "stdout",
     "output_type": "stream",
     "text": [
      "Train Loss: 0.1436, Train Acc: 0.9437\n",
      "Val Loss: 0.1371, Val Acc: 0.9434\n",
      "Validation loss decreased (0.137987 --> 0.137137).  Saving model ...\n",
      "../WeightsFinal_0.3_model_weights/Weights_replay_500/2018-10/best_model_epoch_6.pt\n",
      "../WeightsFinal_0.3_optimizer_weights/Weights_replay_500/2018-10/best_optimizer_epoch_6.pt\n",
      "Epoch 7 of 500\n"
     ]
    },
    {
     "name": "stderr",
     "output_type": "stream",
     "text": [
      "100%|██████████| 27/27 [00:04<00:00,  6.09it/s]\n",
      "100%|██████████| 10/10 [00:01<00:00,  7.78it/s]\n",
      "  0%|          | 0/27 [00:00<?, ?it/s]"
     ]
    },
    {
     "name": "stdout",
     "output_type": "stream",
     "text": [
      "Train Loss: 0.1437, Train Acc: 0.9445\n",
      "Val Loss: 0.1384, Val Acc: 0.9472\n",
      "EarlyStopping counter: 1 out of 5\n",
      "Epoch 8 of 500\n"
     ]
    },
    {
     "name": "stderr",
     "output_type": "stream",
     "text": [
      "100%|██████████| 27/27 [00:03<00:00,  7.02it/s]\n",
      "100%|██████████| 10/10 [00:01<00:00,  7.32it/s]\n",
      "  0%|          | 0/27 [00:00<?, ?it/s]"
     ]
    },
    {
     "name": "stdout",
     "output_type": "stream",
     "text": [
      "Train Loss: 0.1380, Train Acc: 0.9453\n",
      "Val Loss: 0.1336, Val Acc: 0.9493\n",
      "Validation loss decreased (0.137137 --> 0.133559).  Saving model ...\n",
      "../WeightsFinal_0.3_model_weights/Weights_replay_500/2018-10/best_model_epoch_8.pt\n",
      "../WeightsFinal_0.3_optimizer_weights/Weights_replay_500/2018-10/best_optimizer_epoch_8.pt\n",
      "Epoch 9 of 500\n"
     ]
    },
    {
     "name": "stderr",
     "output_type": "stream",
     "text": [
      "100%|██████████| 27/27 [00:03<00:00,  6.88it/s]\n",
      "100%|██████████| 10/10 [00:01<00:00,  7.38it/s]\n",
      "  0%|          | 0/27 [00:00<?, ?it/s]"
     ]
    },
    {
     "name": "stdout",
     "output_type": "stream",
     "text": [
      "Train Loss: 0.1332, Train Acc: 0.9486\n",
      "Val Loss: 0.1343, Val Acc: 0.9482\n",
      "EarlyStopping counter: 1 out of 5\n",
      "Epoch 10 of 500\n"
     ]
    },
    {
     "name": "stderr",
     "output_type": "stream",
     "text": [
      "100%|██████████| 27/27 [00:03<00:00,  7.06it/s]\n",
      "100%|██████████| 10/10 [00:01<00:00,  7.84it/s]\n",
      "  0%|          | 0/27 [00:00<?, ?it/s]"
     ]
    },
    {
     "name": "stdout",
     "output_type": "stream",
     "text": [
      "Train Loss: 0.1312, Train Acc: 0.9493\n",
      "Val Loss: 0.1296, Val Acc: 0.9511\n",
      "Validation loss decreased (0.133559 --> 0.129573).  Saving model ...\n",
      "../WeightsFinal_0.3_model_weights/Weights_replay_500/2018-10/best_model_epoch_10.pt\n",
      "../WeightsFinal_0.3_optimizer_weights/Weights_replay_500/2018-10/best_optimizer_epoch_10.pt\n",
      "Epoch 11 of 500\n"
     ]
    },
    {
     "name": "stderr",
     "output_type": "stream",
     "text": [
      "100%|██████████| 27/27 [00:03<00:00,  7.01it/s]\n",
      "100%|██████████| 10/10 [00:01<00:00,  7.69it/s]\n",
      "  0%|          | 0/27 [00:00<?, ?it/s]"
     ]
    },
    {
     "name": "stdout",
     "output_type": "stream",
     "text": [
      "Train Loss: 0.1315, Train Acc: 0.9486\n",
      "Val Loss: 0.1414, Val Acc: 0.9444\n",
      "EarlyStopping counter: 1 out of 5\n",
      "Epoch 12 of 500\n"
     ]
    },
    {
     "name": "stderr",
     "output_type": "stream",
     "text": [
      "100%|██████████| 27/27 [00:05<00:00,  5.32it/s]\n",
      "100%|██████████| 10/10 [00:01<00:00,  7.02it/s]\n",
      "  0%|          | 0/27 [00:00<?, ?it/s]"
     ]
    },
    {
     "name": "stdout",
     "output_type": "stream",
     "text": [
      "Train Loss: 0.1335, Train Acc: 0.9468\n",
      "Val Loss: 0.1359, Val Acc: 0.9478\n",
      "EarlyStopping counter: 2 out of 5\n",
      "Epoch 13 of 500\n"
     ]
    },
    {
     "name": "stderr",
     "output_type": "stream",
     "text": [
      "100%|██████████| 27/27 [00:03<00:00,  6.84it/s]\n",
      "100%|██████████| 10/10 [00:01<00:00,  6.40it/s]\n",
      "  0%|          | 0/27 [00:00<?, ?it/s]"
     ]
    },
    {
     "name": "stdout",
     "output_type": "stream",
     "text": [
      "Train Loss: 0.1273, Train Acc: 0.9501\n",
      "Val Loss: 0.1337, Val Acc: 0.9498\n",
      "EarlyStopping counter: 3 out of 5\n",
      "Epoch 14 of 500\n"
     ]
    },
    {
     "name": "stderr",
     "output_type": "stream",
     "text": [
      "100%|██████████| 27/27 [00:03<00:00,  7.00it/s]\n",
      "100%|██████████| 10/10 [00:01<00:00,  6.68it/s]\n",
      "  0%|          | 0/27 [00:00<?, ?it/s]"
     ]
    },
    {
     "name": "stdout",
     "output_type": "stream",
     "text": [
      "Train Loss: 0.1251, Train Acc: 0.9520\n",
      "Val Loss: 0.1248, Val Acc: 0.9536\n",
      "Validation loss decreased (0.129573 --> 0.124791).  Saving model ...\n",
      "../WeightsFinal_0.3_model_weights/Weights_replay_500/2018-10/best_model_epoch_14.pt\n",
      "../WeightsFinal_0.3_optimizer_weights/Weights_replay_500/2018-10/best_optimizer_epoch_14.pt\n",
      "Epoch 15 of 500\n"
     ]
    },
    {
     "name": "stderr",
     "output_type": "stream",
     "text": [
      "100%|██████████| 27/27 [00:03<00:00,  6.99it/s]\n",
      "100%|██████████| 10/10 [00:01<00:00,  7.32it/s]\n",
      "  0%|          | 0/27 [00:00<?, ?it/s]"
     ]
    },
    {
     "name": "stdout",
     "output_type": "stream",
     "text": [
      "Train Loss: 0.1259, Train Acc: 0.9514\n",
      "Val Loss: 0.1288, Val Acc: 0.9522\n",
      "EarlyStopping counter: 1 out of 5\n",
      "Epoch 16 of 500\n"
     ]
    },
    {
     "name": "stderr",
     "output_type": "stream",
     "text": [
      "100%|██████████| 27/27 [00:03<00:00,  6.94it/s]\n",
      "100%|██████████| 10/10 [00:01<00:00,  6.55it/s]\n",
      "  0%|          | 0/27 [00:00<?, ?it/s]"
     ]
    },
    {
     "name": "stdout",
     "output_type": "stream",
     "text": [
      "Train Loss: 0.1211, Train Acc: 0.9529\n",
      "Val Loss: 0.1268, Val Acc: 0.9532\n",
      "EarlyStopping counter: 2 out of 5\n",
      "Epoch 17 of 500\n"
     ]
    },
    {
     "name": "stderr",
     "output_type": "stream",
     "text": [
      "100%|██████████| 27/27 [00:03<00:00,  6.82it/s]\n",
      "100%|██████████| 10/10 [00:01<00:00,  6.69it/s]\n",
      "  0%|          | 0/27 [00:00<?, ?it/s]"
     ]
    },
    {
     "name": "stdout",
     "output_type": "stream",
     "text": [
      "Train Loss: 0.1221, Train Acc: 0.9520\n",
      "Val Loss: 0.1279, Val Acc: 0.9529\n",
      "EarlyStopping counter: 3 out of 5\n",
      "Epoch 18 of 500\n"
     ]
    },
    {
     "name": "stderr",
     "output_type": "stream",
     "text": [
      "100%|██████████| 27/27 [00:04<00:00,  5.54it/s]\n",
      "100%|██████████| 10/10 [00:01<00:00,  7.46it/s]\n",
      "  0%|          | 0/27 [00:00<?, ?it/s]"
     ]
    },
    {
     "name": "stdout",
     "output_type": "stream",
     "text": [
      "Train Loss: 0.1335, Train Acc: 0.9471\n",
      "Val Loss: 0.1314, Val Acc: 0.9500\n",
      "EarlyStopping counter: 4 out of 5\n",
      "Epoch 19 of 500\n"
     ]
    },
    {
     "name": "stderr",
     "output_type": "stream",
     "text": [
      "100%|██████████| 27/27 [00:04<00:00,  5.68it/s]\n",
      "100%|██████████| 10/10 [00:01<00:00,  7.47it/s]\n",
      "  0%|          | 0/10 [00:00<?, ?it/s]"
     ]
    },
    {
     "name": "stdout",
     "output_type": "stream",
     "text": [
      "Train Loss: 0.1227, Train Acc: 0.9517\n",
      "Val Loss: 0.1335, Val Acc: 0.9511\n",
      "EarlyStopping counter: 5 out of 5\n",
      "Early stopping\n",
      "Training time: 1.737 minutes\n",
      "loading best model ../WeightsFinal_0.3_model_weights/Weights_replay_500/2018-10/best_model_epoch_14.pt\n",
      "loading best optimizer ../WeightsFinal_0.3_optimizer_weights/Weights_replay_500/2018-10/best_optimizer_epoch_14.pt\n"
     ]
    },
    {
     "name": "stderr",
     "output_type": "stream",
     "text": [
      "100%|██████████| 10/10 [00:02<00:00,  4.95it/s]\n"
     ]
    },
    {
     "name": "stdout",
     "output_type": "stream",
     "text": [
      "test accuracy 0.9541964709758759 and ROC-AUC 0.9544830814900053\n",
      "Elapsed time 20.495291729768116 mins.\n",
      "\n",
      "\n",
      "2023-01-30 13:04:52 Round 3 ...\n",
      "Current Task 2018-11 w/ 500 samples to Replay per Malware family.\n",
      "X_train (90000, 2381) Y_train (90000,) Y_tr_family (90000,)\n",
      "X_test (65006, 2381) Y_test (65006,) Y_te_family (65006,)\n"
     ]
    },
    {
     "name": "stderr",
     "output_type": "stream",
     "text": [
      "\r",
      "  0%|          | 0/1 [00:00<?, ?it/s]"
     ]
    },
    {
     "name": "stdout",
     "output_type": "stream",
     "text": [
      "Task 2018-11 and #-of new samples stored 90000\n",
      "loading best model ../WeightsFinal_0.3_model_weights/Weights_replay_500/2018-10/best_model_epoch_14.pt\n"
     ]
    },
    {
     "name": "stderr",
     "output_type": "stream",
     "text": [
      "100%|██████████| 1/1 [00:00<00:00,  2.27it/s]\n",
      "100%|██████████| 1/1 [00:00<00:00,  2.27it/s]\n",
      "100%|██████████| 1/1 [00:00<00:00,  1.68it/s]\n",
      "100%|██████████| 2/2 [00:00<00:00,  2.83it/s]\n",
      "100%|██████████| 1/1 [00:00<00:00,  1.85it/s]\n",
      "100%|██████████| 1/1 [00:00<00:00,  2.09it/s]\n",
      "100%|██████████| 1/1 [00:00<00:00,  1.97it/s]\n",
      "100%|██████████| 1/1 [00:00<00:00,  1.67it/s]\n",
      "100%|██████████| 1/1 [00:00<00:00,  1.28it/s]\n",
      "100%|██████████| 1/1 [00:00<00:00,  1.81it/s]\n",
      "100%|██████████| 1/1 [00:00<00:00,  1.92it/s]\n",
      "100%|██████████| 1/1 [00:00<00:00,  1.75it/s]\n",
      "100%|██████████| 2/2 [00:00<00:00,  2.88it/s]\n",
      "100%|██████████| 1/1 [00:00<00:00,  2.17it/s]\n",
      "100%|██████████| 1/1 [00:00<00:00,  2.23it/s]\n",
      "100%|██████████| 1/1 [00:00<00:00,  1.99it/s]\n",
      "100%|██████████| 1/1 [00:00<00:00,  1.89it/s]\n",
      "100%|██████████| 1/1 [00:00<00:00,  2.04it/s]\n",
      "100%|██████████| 1/1 [00:00<00:00,  2.10it/s]\n",
      "100%|██████████| 1/1 [00:00<00:00,  2.06it/s]\n",
      "100%|██████████| 3/3 [00:01<00:00,  2.71it/s]\n",
      "100%|██████████| 1/1 [00:00<00:00,  2.19it/s]\n",
      "100%|██████████| 1/1 [00:00<00:00,  2.05it/s]\n",
      "100%|██████████| 1/1 [00:00<00:00,  2.03it/s]\n",
      "100%|██████████| 1/1 [00:00<00:00,  2.03it/s]\n",
      "100%|██████████| 1/1 [00:00<00:00,  2.08it/s]\n",
      "100%|██████████| 1/1 [00:00<00:00,  1.99it/s]\n"
     ]
    },
    {
     "name": "stdout",
     "output_type": "stream",
     "text": [
      "2023-01-30 13:06:11 Standardizing ...\n"
     ]
    },
    {
     "name": "stderr",
     "output_type": "stream",
     "text": [
      "\r",
      "  0%|          | 0/28 [00:00<?, ?it/s]"
     ]
    },
    {
     "name": "stdout",
     "output_type": "stream",
     "text": [
      "\n",
      "X_train (170666, 2381) Y_train (170666,)\n",
      "\n",
      "2023-01-30 13:06:21 Training ...\n",
      "Epoch 1 of 500\n"
     ]
    },
    {
     "name": "stderr",
     "output_type": "stream",
     "text": [
      "100%|██████████| 28/28 [00:04<00:00,  5.75it/s]\n",
      "100%|██████████| 11/11 [00:01<00:00,  7.05it/s]\n",
      "  0%|          | 0/28 [00:00<?, ?it/s]"
     ]
    },
    {
     "name": "stdout",
     "output_type": "stream",
     "text": [
      "Train Loss: 0.1690, Train Acc: 0.9362\n",
      "Val Loss: 0.1571, Val Acc: 0.9390\n",
      "Validation loss decreased (inf --> 0.157051).  Saving model ...\n",
      "../WeightsFinal_0.3_model_weights/Weights_replay_500/2018-11/best_model_epoch_1.pt\n",
      "../WeightsFinal_0.3_optimizer_weights/Weights_replay_500/2018-11/best_optimizer_epoch_1.pt\n",
      "Epoch 2 of 500\n"
     ]
    },
    {
     "name": "stderr",
     "output_type": "stream",
     "text": [
      "100%|██████████| 28/28 [00:05<00:00,  5.51it/s]\n",
      "100%|██████████| 11/11 [00:01<00:00,  7.16it/s]\n",
      "  0%|          | 0/28 [00:00<?, ?it/s]"
     ]
    },
    {
     "name": "stdout",
     "output_type": "stream",
     "text": [
      "Train Loss: 0.1630, Train Acc: 0.9375\n",
      "Val Loss: 0.1345, Val Acc: 0.9492\n",
      "Validation loss decreased (0.157051 --> 0.134480).  Saving model ...\n",
      "../WeightsFinal_0.3_model_weights/Weights_replay_500/2018-11/best_model_epoch_2.pt\n",
      "../WeightsFinal_0.3_optimizer_weights/Weights_replay_500/2018-11/best_optimizer_epoch_2.pt\n",
      "Epoch 3 of 500\n"
     ]
    },
    {
     "name": "stderr",
     "output_type": "stream",
     "text": [
      "100%|██████████| 28/28 [00:04<00:00,  5.75it/s]\n",
      "100%|██████████| 11/11 [00:01<00:00,  7.02it/s]\n",
      "  0%|          | 0/28 [00:00<?, ?it/s]"
     ]
    },
    {
     "name": "stdout",
     "output_type": "stream",
     "text": [
      "Train Loss: 0.1599, Train Acc: 0.9392\n",
      "Val Loss: 0.1347, Val Acc: 0.9481\n",
      "EarlyStopping counter: 1 out of 5\n",
      "Epoch 4 of 500\n"
     ]
    },
    {
     "name": "stderr",
     "output_type": "stream",
     "text": [
      "100%|██████████| 28/28 [00:04<00:00,  5.93it/s]\n",
      "100%|██████████| 11/11 [00:01<00:00,  6.62it/s]\n",
      "  0%|          | 0/28 [00:00<?, ?it/s]"
     ]
    },
    {
     "name": "stdout",
     "output_type": "stream",
     "text": [
      "Train Loss: 0.1503, Train Acc: 0.9418\n",
      "Val Loss: 0.1672, Val Acc: 0.9348\n",
      "EarlyStopping counter: 2 out of 5\n",
      "Epoch 5 of 500\n"
     ]
    },
    {
     "name": "stderr",
     "output_type": "stream",
     "text": [
      "100%|██████████| 28/28 [00:04<00:00,  6.00it/s]\n",
      "100%|██████████| 11/11 [00:02<00:00,  4.98it/s]\n",
      "  0%|          | 0/28 [00:00<?, ?it/s]"
     ]
    },
    {
     "name": "stdout",
     "output_type": "stream",
     "text": [
      "Train Loss: 0.1566, Train Acc: 0.9397\n",
      "Val Loss: 0.1285, Val Acc: 0.9516\n",
      "Validation loss decreased (0.134480 --> 0.128494).  Saving model ...\n",
      "../WeightsFinal_0.3_model_weights/Weights_replay_500/2018-11/best_model_epoch_5.pt\n",
      "../WeightsFinal_0.3_optimizer_weights/Weights_replay_500/2018-11/best_optimizer_epoch_5.pt\n",
      "Epoch 6 of 500\n"
     ]
    },
    {
     "name": "stderr",
     "output_type": "stream",
     "text": [
      "100%|██████████| 28/28 [00:04<00:00,  5.91it/s]\n",
      "100%|██████████| 11/11 [00:01<00:00,  7.00it/s]\n",
      "  0%|          | 0/28 [00:00<?, ?it/s]"
     ]
    },
    {
     "name": "stdout",
     "output_type": "stream",
     "text": [
      "Train Loss: 0.1603, Train Acc: 0.9385\n",
      "Val Loss: 0.1528, Val Acc: 0.9464\n",
      "EarlyStopping counter: 1 out of 5\n",
      "Epoch 7 of 500\n"
     ]
    },
    {
     "name": "stderr",
     "output_type": "stream",
     "text": [
      "100%|██████████| 28/28 [00:04<00:00,  5.95it/s]\n",
      "100%|██████████| 11/11 [00:01<00:00,  6.73it/s]\n",
      "  0%|          | 0/28 [00:00<?, ?it/s]"
     ]
    },
    {
     "name": "stdout",
     "output_type": "stream",
     "text": [
      "Train Loss: 0.1437, Train Acc: 0.9441\n",
      "Val Loss: 0.1478, Val Acc: 0.9407\n",
      "EarlyStopping counter: 2 out of 5\n",
      "Epoch 8 of 500\n"
     ]
    },
    {
     "name": "stderr",
     "output_type": "stream",
     "text": [
      "100%|██████████| 28/28 [00:04<00:00,  6.02it/s]\n",
      "100%|██████████| 11/11 [00:01<00:00,  6.67it/s]\n",
      "  0%|          | 0/28 [00:00<?, ?it/s]"
     ]
    },
    {
     "name": "stdout",
     "output_type": "stream",
     "text": [
      "Train Loss: 0.1543, Train Acc: 0.9396\n",
      "Val Loss: 0.1369, Val Acc: 0.9514\n",
      "EarlyStopping counter: 3 out of 5\n",
      "Epoch 9 of 500\n"
     ]
    },
    {
     "name": "stderr",
     "output_type": "stream",
     "text": [
      "100%|██████████| 28/28 [00:05<00:00,  5.49it/s]\n",
      "100%|██████████| 11/11 [00:01<00:00,  7.01it/s]\n",
      "  0%|          | 0/28 [00:00<?, ?it/s]"
     ]
    },
    {
     "name": "stdout",
     "output_type": "stream",
     "text": [
      "Train Loss: 0.1360, Train Acc: 0.9474\n",
      "Val Loss: 0.1262, Val Acc: 0.9530\n",
      "Validation loss decreased (0.128494 --> 0.126238).  Saving model ...\n",
      "../WeightsFinal_0.3_model_weights/Weights_replay_500/2018-11/best_model_epoch_9.pt\n",
      "../WeightsFinal_0.3_optimizer_weights/Weights_replay_500/2018-11/best_optimizer_epoch_9.pt\n",
      "Epoch 10 of 500\n"
     ]
    },
    {
     "name": "stderr",
     "output_type": "stream",
     "text": [
      "100%|██████████| 28/28 [00:05<00:00,  5.52it/s]\n",
      "100%|██████████| 11/11 [00:01<00:00,  6.46it/s]\n",
      "  0%|          | 0/28 [00:00<?, ?it/s]"
     ]
    },
    {
     "name": "stdout",
     "output_type": "stream",
     "text": [
      "Train Loss: 0.1539, Train Acc: 0.9401\n",
      "Val Loss: 0.1352, Val Acc: 0.9478\n",
      "EarlyStopping counter: 1 out of 5\n",
      "Epoch 11 of 500\n"
     ]
    },
    {
     "name": "stderr",
     "output_type": "stream",
     "text": [
      "100%|██████████| 28/28 [00:05<00:00,  5.28it/s]\n",
      "100%|██████████| 11/11 [00:01<00:00,  7.43it/s]\n",
      "  0%|          | 0/28 [00:00<?, ?it/s]"
     ]
    },
    {
     "name": "stdout",
     "output_type": "stream",
     "text": [
      "Train Loss: 0.1541, Train Acc: 0.9383\n",
      "Val Loss: 0.1430, Val Acc: 0.9502\n",
      "EarlyStopping counter: 2 out of 5\n",
      "Epoch 12 of 500\n"
     ]
    },
    {
     "name": "stderr",
     "output_type": "stream",
     "text": [
      "100%|██████████| 28/28 [00:05<00:00,  5.55it/s]\n",
      "100%|██████████| 11/11 [00:01<00:00,  5.71it/s]\n",
      "  0%|          | 0/28 [00:00<?, ?it/s]"
     ]
    },
    {
     "name": "stdout",
     "output_type": "stream",
     "text": [
      "Train Loss: 0.1340, Train Acc: 0.9479\n",
      "Val Loss: 0.1421, Val Acc: 0.9484\n",
      "EarlyStopping counter: 3 out of 5\n",
      "Epoch 13 of 500\n"
     ]
    },
    {
     "name": "stderr",
     "output_type": "stream",
     "text": [
      "100%|██████████| 28/28 [00:04<00:00,  6.15it/s]\n",
      "100%|██████████| 11/11 [00:01<00:00,  7.01it/s]\n",
      "  0%|          | 0/28 [00:00<?, ?it/s]"
     ]
    },
    {
     "name": "stdout",
     "output_type": "stream",
     "text": [
      "Train Loss: 0.1384, Train Acc: 0.9463\n",
      "Val Loss: 0.1488, Val Acc: 0.9433\n",
      "EarlyStopping counter: 4 out of 5\n",
      "Epoch 14 of 500\n"
     ]
    },
    {
     "name": "stderr",
     "output_type": "stream",
     "text": [
      "100%|██████████| 28/28 [00:04<00:00,  5.92it/s]\n",
      "100%|██████████| 11/11 [00:01<00:00,  6.41it/s]\n",
      "  0%|          | 0/11 [00:00<?, ?it/s]"
     ]
    },
    {
     "name": "stdout",
     "output_type": "stream",
     "text": [
      "Train Loss: 0.1400, Train Acc: 0.9448\n",
      "Val Loss: 0.1861, Val Acc: 0.9262\n",
      "EarlyStopping counter: 5 out of 5\n",
      "Early stopping\n",
      "Training time: 1.537 minutes\n",
      "loading best model ../WeightsFinal_0.3_model_weights/Weights_replay_500/2018-11/best_model_epoch_9.pt\n",
      "loading best optimizer ../WeightsFinal_0.3_optimizer_weights/Weights_replay_500/2018-11/best_optimizer_epoch_9.pt\n"
     ]
    },
    {
     "name": "stderr",
     "output_type": "stream",
     "text": [
      "100%|██████████| 11/11 [00:02<00:00,  4.89it/s]\n"
     ]
    },
    {
     "name": "stdout",
     "output_type": "stream",
     "text": [
      "test accuracy 0.9514715779911388 and ROC-AUC 0.9514277482117226\n",
      "Elapsed time 23.54721152385076 mins.\n",
      "\n",
      "\n",
      "2023-01-30 13:07:55 Round 3 ...\n",
      "Current Task 2018-12 w/ 500 samples to Replay per Malware family.\n",
      "X_train (90000, 2381) Y_train (90000,) Y_tr_family (90000,)\n",
      "X_test (75006, 2381) Y_test (75006,) Y_te_family (75006,)\n"
     ]
    },
    {
     "name": "stderr",
     "output_type": "stream",
     "text": [
      "\r",
      "  0%|          | 0/1 [00:00<?, ?it/s]"
     ]
    },
    {
     "name": "stdout",
     "output_type": "stream",
     "text": [
      "Task 2018-12 and #-of new samples stored 90000\n",
      "loading best model ../WeightsFinal_0.3_model_weights/Weights_replay_500/2018-11/best_model_epoch_9.pt\n"
     ]
    },
    {
     "name": "stderr",
     "output_type": "stream",
     "text": [
      "100%|██████████| 1/1 [00:00<00:00,  1.61it/s]\n",
      "100%|██████████| 1/1 [00:00<00:00,  1.74it/s]\n",
      "100%|██████████| 1/1 [00:00<00:00,  1.79it/s]\n",
      "100%|██████████| 1/1 [00:00<00:00,  1.80it/s]\n",
      "100%|██████████| 1/1 [00:00<00:00,  1.48it/s]\n",
      "100%|██████████| 2/2 [00:01<00:00,  1.95it/s]\n",
      "100%|██████████| 1/1 [00:00<00:00,  1.90it/s]\n",
      "100%|██████████| 1/1 [00:00<00:00,  1.54it/s]\n",
      "100%|██████████| 1/1 [00:00<00:00,  1.58it/s]\n",
      "100%|██████████| 1/1 [00:00<00:00,  1.47it/s]\n",
      "100%|██████████| 1/1 [00:00<00:00,  1.57it/s]\n",
      "100%|██████████| 1/1 [00:00<00:00,  1.42it/s]\n",
      "100%|██████████| 2/2 [00:00<00:00,  2.47it/s]\n",
      "100%|██████████| 1/1 [00:00<00:00,  1.92it/s]\n",
      "100%|██████████| 1/1 [00:00<00:00,  1.85it/s]\n",
      "100%|██████████| 1/1 [00:00<00:00,  1.74it/s]\n",
      "100%|██████████| 1/1 [00:00<00:00,  1.76it/s]\n",
      "100%|██████████| 1/1 [00:00<00:00,  1.72it/s]\n",
      "100%|██████████| 1/1 [00:00<00:00,  1.69it/s]\n",
      "100%|██████████| 2/2 [00:00<00:00,  2.60it/s]\n",
      "100%|██████████| 1/1 [00:00<00:00,  1.88it/s]\n",
      "100%|██████████| 1/1 [00:00<00:00,  1.90it/s]\n",
      "100%|██████████| 1/1 [00:00<00:00,  1.78it/s]\n",
      "100%|██████████| 1/1 [00:00<00:00,  1.79it/s]\n",
      "100%|██████████| 1/1 [00:00<00:00,  1.69it/s]\n",
      "100%|██████████| 1/1 [00:00<00:00,  1.60it/s]\n",
      "100%|██████████| 1/1 [00:00<00:00,  1.53it/s]\n",
      "100%|██████████| 2/2 [00:01<00:00,  1.91it/s]\n",
      "100%|██████████| 1/1 [00:00<00:00,  1.65it/s]\n",
      "100%|██████████| 1/1 [00:00<00:00,  1.85it/s]\n",
      "100%|██████████| 1/1 [00:00<00:00,  1.86it/s]\n",
      "100%|██████████| 1/1 [00:00<00:00,  1.94it/s]\n",
      "100%|██████████| 1/1 [00:00<00:00,  1.80it/s]\n",
      "100%|██████████| 1/1 [00:00<00:00,  1.68it/s]\n",
      "100%|██████████| 1/1 [00:00<00:00,  1.85it/s]\n"
     ]
    },
    {
     "name": "stdout",
     "output_type": "stream",
     "text": [
      "2023-01-30 13:09:26 Standardizing ...\n"
     ]
    },
    {
     "name": "stderr",
     "output_type": "stream",
     "text": [
      "\r",
      "  0%|          | 0/29 [00:00<?, ?it/s]"
     ]
    },
    {
     "name": "stdout",
     "output_type": "stream",
     "text": [
      "\n",
      "X_train (174370, 2381) Y_train (174370,)\n",
      "\n",
      "2023-01-30 13:09:37 Training ...\n",
      "Epoch 1 of 500\n"
     ]
    },
    {
     "name": "stderr",
     "output_type": "stream",
     "text": [
      "100%|██████████| 29/29 [00:04<00:00,  5.84it/s]\n",
      "100%|██████████| 13/13 [00:01<00:00,  7.26it/s]\n",
      "  0%|          | 0/29 [00:00<?, ?it/s]"
     ]
    },
    {
     "name": "stdout",
     "output_type": "stream",
     "text": [
      "Train Loss: 0.1571, Train Acc: 0.9410\n",
      "Val Loss: 0.1365, Val Acc: 0.9467\n",
      "Validation loss decreased (inf --> 0.136527).  Saving model ...\n",
      "../WeightsFinal_0.3_model_weights/Weights_replay_500/2018-12/best_model_epoch_1.pt\n",
      "../WeightsFinal_0.3_optimizer_weights/Weights_replay_500/2018-12/best_optimizer_epoch_1.pt\n",
      "Epoch 2 of 500\n"
     ]
    },
    {
     "name": "stderr",
     "output_type": "stream",
     "text": [
      "100%|██████████| 29/29 [00:05<00:00,  5.11it/s]\n",
      "100%|██████████| 13/13 [00:01<00:00,  6.58it/s]\n",
      "  0%|          | 0/29 [00:00<?, ?it/s]"
     ]
    },
    {
     "name": "stdout",
     "output_type": "stream",
     "text": [
      "Train Loss: 0.1477, Train Acc: 0.9442\n",
      "Val Loss: 0.1328, Val Acc: 0.9469\n",
      "Validation loss decreased (0.136527 --> 0.132786).  Saving model ...\n",
      "../WeightsFinal_0.3_model_weights/Weights_replay_500/2018-12/best_model_epoch_2.pt\n",
      "../WeightsFinal_0.3_optimizer_weights/Weights_replay_500/2018-12/best_optimizer_epoch_2.pt\n",
      "Epoch 3 of 500\n"
     ]
    },
    {
     "name": "stderr",
     "output_type": "stream",
     "text": [
      "100%|██████████| 29/29 [00:04<00:00,  6.15it/s]\n",
      "100%|██████████| 13/13 [00:01<00:00,  7.52it/s]\n",
      "  0%|          | 0/29 [00:00<?, ?it/s]"
     ]
    },
    {
     "name": "stdout",
     "output_type": "stream",
     "text": [
      "Train Loss: 0.1621, Train Acc: 0.9390\n",
      "Val Loss: 0.1435, Val Acc: 0.9450\n",
      "EarlyStopping counter: 1 out of 5\n",
      "Epoch 4 of 500\n"
     ]
    },
    {
     "name": "stderr",
     "output_type": "stream",
     "text": [
      "100%|██████████| 29/29 [00:04<00:00,  6.24it/s]\n",
      "100%|██████████| 13/13 [00:01<00:00,  6.55it/s]\n",
      "  0%|          | 0/29 [00:00<?, ?it/s]"
     ]
    },
    {
     "name": "stdout",
     "output_type": "stream",
     "text": [
      "Train Loss: 0.1466, Train Acc: 0.9442\n",
      "Val Loss: 0.1441, Val Acc: 0.9431\n",
      "EarlyStopping counter: 2 out of 5\n",
      "Epoch 5 of 500\n"
     ]
    },
    {
     "name": "stderr",
     "output_type": "stream",
     "text": [
      "100%|██████████| 29/29 [00:04<00:00,  6.57it/s]\n",
      "100%|██████████| 13/13 [00:01<00:00,  7.40it/s]\n",
      "  0%|          | 0/29 [00:00<?, ?it/s]"
     ]
    },
    {
     "name": "stdout",
     "output_type": "stream",
     "text": [
      "Train Loss: 0.1461, Train Acc: 0.9448\n",
      "Val Loss: 0.1368, Val Acc: 0.9453\n",
      "EarlyStopping counter: 3 out of 5\n",
      "Epoch 6 of 500\n"
     ]
    },
    {
     "name": "stderr",
     "output_type": "stream",
     "text": [
      "100%|██████████| 29/29 [00:04<00:00,  6.36it/s]\n",
      "100%|██████████| 13/13 [00:02<00:00,  6.33it/s]\n",
      "  0%|          | 0/29 [00:00<?, ?it/s]"
     ]
    },
    {
     "name": "stdout",
     "output_type": "stream",
     "text": [
      "Train Loss: 0.1408, Train Acc: 0.9467\n",
      "Val Loss: 0.1288, Val Acc: 0.9512\n",
      "Validation loss decreased (0.132786 --> 0.128769).  Saving model ...\n",
      "../WeightsFinal_0.3_model_weights/Weights_replay_500/2018-12/best_model_epoch_6.pt\n",
      "../WeightsFinal_0.3_optimizer_weights/Weights_replay_500/2018-12/best_optimizer_epoch_6.pt\n",
      "Epoch 7 of 500\n"
     ]
    },
    {
     "name": "stderr",
     "output_type": "stream",
     "text": [
      "100%|██████████| 29/29 [00:04<00:00,  6.33it/s]\n",
      "100%|██████████| 13/13 [00:01<00:00,  7.59it/s]\n",
      "  0%|          | 0/29 [00:00<?, ?it/s]"
     ]
    },
    {
     "name": "stdout",
     "output_type": "stream",
     "text": [
      "Train Loss: 0.1464, Train Acc: 0.9438\n",
      "Val Loss: 0.1542, Val Acc: 0.9409\n",
      "EarlyStopping counter: 1 out of 5\n",
      "Epoch 8 of 500\n"
     ]
    },
    {
     "name": "stderr",
     "output_type": "stream",
     "text": [
      "100%|██████████| 29/29 [00:04<00:00,  6.39it/s]\n",
      "100%|██████████| 13/13 [00:02<00:00,  5.81it/s]\n",
      "  0%|          | 0/29 [00:00<?, ?it/s]"
     ]
    },
    {
     "name": "stdout",
     "output_type": "stream",
     "text": [
      "Train Loss: 0.1532, Train Acc: 0.9400\n",
      "Val Loss: 0.1377, Val Acc: 0.9489\n",
      "EarlyStopping counter: 2 out of 5\n",
      "Epoch 9 of 500\n"
     ]
    },
    {
     "name": "stderr",
     "output_type": "stream",
     "text": [
      "100%|██████████| 29/29 [00:04<00:00,  6.34it/s]\n",
      "100%|██████████| 13/13 [00:02<00:00,  6.09it/s]\n",
      "  0%|          | 0/29 [00:00<?, ?it/s]"
     ]
    },
    {
     "name": "stdout",
     "output_type": "stream",
     "text": [
      "Train Loss: 0.1369, Train Acc: 0.9473\n",
      "Val Loss: 0.1320, Val Acc: 0.9508\n",
      "EarlyStopping counter: 3 out of 5\n",
      "Epoch 10 of 500\n"
     ]
    },
    {
     "name": "stderr",
     "output_type": "stream",
     "text": [
      "100%|██████████| 29/29 [00:04<00:00,  6.07it/s]\n",
      "100%|██████████| 13/13 [00:01<00:00,  7.08it/s]\n",
      "  0%|          | 0/29 [00:00<?, ?it/s]"
     ]
    },
    {
     "name": "stdout",
     "output_type": "stream",
     "text": [
      "Train Loss: 0.1343, Train Acc: 0.9492\n",
      "Val Loss: 0.1388, Val Acc: 0.9476\n",
      "EarlyStopping counter: 4 out of 5\n",
      "Epoch 11 of 500\n"
     ]
    },
    {
     "name": "stderr",
     "output_type": "stream",
     "text": [
      "100%|██████████| 29/29 [00:04<00:00,  6.09it/s]\n",
      "100%|██████████| 13/13 [00:02<00:00,  5.65it/s]\n",
      "  0%|          | 0/13 [00:00<?, ?it/s]"
     ]
    },
    {
     "name": "stdout",
     "output_type": "stream",
     "text": [
      "Train Loss: 0.1332, Train Acc: 0.9488\n",
      "Val Loss: 0.1379, Val Acc: 0.9457\n",
      "EarlyStopping counter: 5 out of 5\n",
      "Early stopping\n",
      "Training time: 1.238 minutes\n",
      "loading best model ../WeightsFinal_0.3_model_weights/Weights_replay_500/2018-12/best_model_epoch_6.pt\n",
      "loading best optimizer ../WeightsFinal_0.3_optimizer_weights/Weights_replay_500/2018-12/best_optimizer_epoch_6.pt\n"
     ]
    },
    {
     "name": "stderr",
     "output_type": "stream",
     "text": [
      "100%|██████████| 13/13 [00:02<00:00,  5.32it/s]"
     ]
    },
    {
     "name": "stdout",
     "output_type": "stream",
     "text": [
      "test accuracy 0.9523664804605337 and ROC-AUC 0.9524294350749894\n",
      "Elapsed time 26.525262200832366 mins.\n",
      "\n",
      "Elapsed time 26.525276279449464 mins.\n"
     ]
    },
    {
     "name": "stderr",
     "output_type": "stream",
     "text": [
      "\n"
     ]
    }
   ],
   "source": [
    "import numpy as np\n",
    "import random\n",
    "import datetime\n",
    "import time\n",
    "import os\n",
    "from collections import defaultdict\n",
    "from sklearn.preprocessing import StandardScaler\n",
    "from sklearn.ensemble import IsolationForest\n",
    "import matplotlib.pyplot as plt\n",
    "from tqdm import tqdm\n",
    "import ast\n",
    "import pandas as pd\n",
    "import seaborn as sns\n",
    "\n",
    "import argparse\n",
    "import torch\n",
    "import torchvision\n",
    "import torch.nn as nn\n",
    "import torch.optim as optim\n",
    "import torch.nn.functional as F\n",
    "from torchvision import transforms, utils, datasets\n",
    "from torch.utils.data import Dataset, DataLoader\n",
    "\n",
    "import matplotlib.pyplot as plt\n",
    "from scipy import stats\n",
    "import seaborn as sns\n",
    "plt.rcParams['font.size'] = 18\n",
    "#plt.rcParams['font.family'] = \"serif\"\n",
    "tdir = 'in'\n",
    "major = 5.0\n",
    "minor = 3.0\n",
    "plt.rcParams['xtick.direction'] = tdir\n",
    "plt.rcParams['ytick.direction'] = tdir\n",
    "plt.rcParams['xtick.major.size'] = major\n",
    "plt.rcParams['xtick.minor.size'] = minor\n",
    "plt.rcParams['ytick.major.size'] = major\n",
    "plt.rcParams['ytick.minor.size'] = minor\n",
    "\n",
    "\n",
    "from ember_utils import *\n",
    "from ember_model import *\n",
    "from ember_pjr_utils import *\n",
    "\n",
    "\n",
    "\n",
    "class Ember_MLP_Net_V2(nn.Module):\n",
    "    def __init__(self):\n",
    "        super(Ember_MLP_Net_V2, self).__init__()\n",
    "        \n",
    "        input_features = 2381\n",
    "        self.fc1 = nn.Linear(input_features, 1024)\n",
    "        self.fc1_bn = nn.BatchNorm1d(1024)\n",
    "        self.act1 = nn.ReLU()\n",
    "        self.fc1_drop = nn.Dropout(p=0.5)\n",
    "        \n",
    "        self.fc2 = nn.Linear(1024, 512)\n",
    "        self.fc2_bn = nn.BatchNorm1d(512)\n",
    "        self.act2 = nn.ReLU()\n",
    "        self.fc2_drop = nn.Dropout(p=0.5)\n",
    "        \n",
    "        self.fc3 = nn.Linear(512, 256)\n",
    "        self.fc3_bn = nn.BatchNorm1d(256)\n",
    "        self.act3 = nn.ReLU()\n",
    "        self.fc3_drop = nn.Dropout(p=0.5)        \n",
    "        \n",
    "        self.fc4 = nn.Linear(256, 128)\n",
    "        self.fc4_bn = nn.BatchNorm1d(128)\n",
    "        self.act4 = nn.ReLU()\n",
    "        self.fc4_drop = nn.Dropout(p=0.5)  \n",
    "        \n",
    "        self.fc_last = nn.Linear(128, 1) \n",
    "        self.out = nn.Sigmoid()\n",
    "        \n",
    "        #self.activate = nn.ReLU()\n",
    "\n",
    "    def forward(self, x):\n",
    "        x = x.view(x.size(0), -1)\n",
    "        #print(x.shape)\n",
    "        x = self.fc1(x)\n",
    "        #x = self.fc1_bn(x)\n",
    "        x = self.act1(x) \n",
    "        x = self.fc1_drop(x)\n",
    "\n",
    "        x = self.fc2(x)\n",
    "        #x = self.fc2_bn(x)\n",
    "        x = self.act2(x) \n",
    "        x = self.fc2_drop(x)\n",
    "        \n",
    "        x = self.fc3(x)\n",
    "        #x = self.fc3_bn(x)\n",
    "        x = self.act3(x) \n",
    "        x = self.fc3_drop(x)\n",
    "        \n",
    "        x = self.fc4(x)\n",
    "        #x = self.fc4_bn(x)\n",
    "        x = self.act4(x)\n",
    "        x = self.fc4_drop(x)\n",
    "        \n",
    "        x = self.fc_last(x)\n",
    "        x = self.out(x)\n",
    "        return x\n",
    "\n",
    "\n",
    "def get_dataloader_weights(X, y, batch_size):\n",
    "    \n",
    "    X_ = torch.from_numpy(np.array(X)).type(torch.FloatTensor)\n",
    "    y_ = torch.from_numpy(y).type(torch.FloatTensor)\n",
    "    \n",
    "    data_tensored = torch.utils.data.TensorDataset(X_,y_)    \n",
    "    \n",
    "    data_loader = torch.utils.data.DataLoader(data_tensored, batch_size = batch_size,\n",
    "                                              num_workers=1, drop_last=False)\n",
    "    return data_loader\n",
    "\n",
    "\n",
    "\n",
    "def get_weights(model, layer, X_, Y_, batch_size, device):\n",
    "    \n",
    "    activation = {}\n",
    "    def get_activation(name):\n",
    "        def hook(model, input, output):\n",
    "            activation[name] = output.detach()\n",
    "        return hook\n",
    "    \n",
    "    if layer == 'fc2':\n",
    "        model.fc2.register_forward_hook(get_activation(layer))\n",
    "    elif layer == 'fc3':\n",
    "        model.fc3.register_forward_hook(get_activation(layer))\n",
    "    elif layer == 'fc4':\n",
    "        model.fc4.register_forward_hook(get_activation(layer))\n",
    "    elif layer == 'fc2_bn':\n",
    "        model.fc2_bn.register_forward_hook(get_activation(layer))\n",
    "    elif layer == 'fc3_bn':\n",
    "        model.fc3_bn.register_forward_hook(get_activation(layer))\n",
    "    elif layer == 'fc4_bn':\n",
    "        model.fc4_bn.register_forward_hook(get_activation(layer))\n",
    "    elif layer == 'act2':\n",
    "        model.act2.register_forward_hook(get_activation(layer))\n",
    "    elif layer == 'act3':\n",
    "        model.act3.register_forward_hook(get_activation(layer))\n",
    "    elif layer == 'act4':\n",
    "        model.act4.register_forward_hook(get_activation(layer)) \n",
    "    \n",
    "    dataloader = get_dataloader_weights(X_, Y_, batch_size)   \n",
    "    \n",
    "    model.eval()\n",
    "    \n",
    "    features = []\n",
    "\n",
    "    with torch.no_grad():\n",
    "        for x_batch, y_batch in tqdm(dataloader):\n",
    "            x_batch, y_batch = x_batch.to(device), y_batch.to(device)\n",
    "            y_test_pred = model(x_batch)\n",
    "            feats_batch = activation[layer].cpu().numpy()\n",
    "            \n",
    "            for f in feats_batch:\n",
    "                features.append(f)\n",
    " \n",
    "            \n",
    "    assert len(features) == len(X_)      \n",
    "    return np.array(features)\n",
    "\n",
    "\n",
    "\n",
    "def get_anomalyScoresSamples(fam, weight_data, contamination,\\\n",
    "                             raw_data, samples_in_family,\\\n",
    "                             chooseSample = True):\n",
    "    clf = IsolationForest(max_samples=len(weight_data), contamination=contamination)\n",
    "    clf.fit(weight_data)\n",
    "    #scores_prediction = clf.decision_function(weight_data)\n",
    "    y_pred = clf.predict(weight_data)\n",
    "\n",
    "\n",
    "    anomalous_idx = np.where(y_pred == -1.0)\n",
    "    similar_idx = np.where(y_pred == 1.0)\n",
    "\n",
    "    #print(f'family {fam} anomaly-similar: {len(anomalous_idx[0])} - {len(similar_idx[0])}')\n",
    "    \n",
    "    if chooseSample:\n",
    "        raw_data = np.array(raw_data)\n",
    "        anomaly_samples = raw_data[anomalous_idx]\n",
    "        \n",
    "#         remaining_samples_to_pick = samples_in_family - len(anomaly_samples)\n",
    "        \n",
    "#         if remaining_samples_to_pick == 0 or int(abs(remaining_samples_to_pick)/remaining_samples_to_pick) == -1:\n",
    "#             remaining_samples_to_pick = min(int(len(anomaly_samples) * 0.50), abs(remaining_samples_to_pick))\n",
    "        \n",
    "        \n",
    "#         if remaining_samples_to_pick >= len(similar_idx):\n",
    "#             similar_samples = raw_data[similar_idx]\n",
    "#         else:\n",
    "#             similar_samples_pool = list(raw_data[similar_idx])\n",
    "#             similar_samples = random.sample(similar_samples_pool, remaining_samples_to_pick)\n",
    "        \n",
    "#         try:\n",
    "#             mal_replay_samples = np.concatenate((np.array(anomaly_samples), np.array(similar_samples)))\n",
    "#         except:\n",
    "#             print(np.array(anomaly_samples).shape, np.array(similar_samples).shape)\n",
    "        \n",
    "        return anomaly_samples\n",
    "    else:\n",
    "        return scores_prediction\n",
    "\n",
    "\n",
    "def get_anomalySamples(family_dict, contamination,\\\n",
    "                       samples_in_family,\\\n",
    "                       model, layer, device):\n",
    "    \n",
    "    \n",
    "    \n",
    "    pre_malware_samples = []\n",
    "    for k, v in family_dict.items():\n",
    "        #print(f'family {k} ....')\n",
    "        if k != 'goodware':\n",
    "            if len(v) > samples_in_family:\n",
    "                #print(f'family {k} to IF.')\n",
    "                \n",
    "                k_samples = v\n",
    "                k_Y = np.ones(len(k_samples))\n",
    "                k_weights = get_weights(model, layer, k_samples, k_Y, batch_size, device)\n",
    "                \n",
    "                #print(f'k_samples {len(k_samples)}  k_weights {len(k_weights)}')\n",
    "                \n",
    "                k_selected_samples = get_anomalyScoresSamples(k, k_weights, contamination,\\\n",
    "                                                     k_samples, samples_in_family,\\\n",
    "                                                     chooseSample = True)\n",
    "                for sample in k_selected_samples:\n",
    "                    pre_malware_samples.append(sample)\n",
    "                \n",
    "                family_dict[k] = list(k_selected_samples)\n",
    "            else:\n",
    "                for sample in v:\n",
    "                    pre_malware_samples.append(sample)\n",
    "    \n",
    "\n",
    "    if len(family_dict['goodware']) < len(pre_malware_samples):\n",
    "        pre_goodware_samples = random.sample(family_dict['goodware'], len(family_dict['goodware']))\n",
    "    else:\n",
    "        pre_goodware_samples = random.sample(family_dict['goodware'], len(pre_malware_samples))\n",
    "    \n",
    "    family_dict['goodware'] = list(pre_goodware_samples)\n",
    "    \n",
    "    replay_samples = np.concatenate((list(pre_goodware_samples),\\\n",
    "                                     list(pre_malware_samples)))\n",
    "    labels_to_replay = np.concatenate((list(np.zeros(len(pre_goodware_samples))),\\\n",
    "                                       (np.ones(len(pre_malware_samples)))))\n",
    "    \n",
    "    #random.shuffle(replay_samples, labels_to_replay)\n",
    "    from sklearn.utils import shuffle\n",
    "    X_, Y_ = shuffle(replay_samples, labels_to_replay)\n",
    "    \n",
    "    return X_, Y_, family_dict\n",
    "\n",
    "\n",
    "\n",
    "\n",
    "\n",
    "all_task_months = ['2018-01', '2018-02', '2018-03', '2018-04', '2018-05', '2018-06',\n",
    "                   '2018-07', '2018-08', '2018-09', '2018-10', '2018-11', '2018-12']\n",
    "\n",
    "data_dir = '../../month_based_processing_with_family_labels/'\n",
    "\n",
    "\n",
    "\n",
    "patience = 5\n",
    "replay_type = 'pjr'\n",
    "\n",
    "\n",
    "\n",
    "num_exps = 3 #args.num_exps\n",
    "#task_month = args.task_month\n",
    "num_epoch = 500 #args.num_epoch\n",
    "batch_size = 6000 #args.batch_size\n",
    "num_samples_per_malware_family = 500\n",
    "\n",
    "layer = 'act4'\n",
    "exp_type = 'weights'\n",
    "\n",
    "\n",
    "contamination = 0.3 #'auto'\n",
    "\n",
    "exp_seeds = [random.randint(1, 99999) for i in range(num_exps)]\n",
    "\n",
    "\n",
    "expSaveDir = '../WeightsFinal_' + str(contamination) + '_'\n",
    "resSaveDir = './Weights_'\n",
    "expSaveFile = '/Weights_replay_'\n",
    "\n",
    "\n",
    "raw_anomalyScores_Dict = {}\n",
    "weight_anomalyScores_Dict = {}\n",
    "\n",
    "restartMonth = 100\n",
    "cnt =  1    \n",
    "for exp in exp_seeds:\n",
    "    start_time = time.time()\n",
    "    use_cuda = True\n",
    "    print('Torch', torch.__version__, 'CUDA', torch.version.cuda)\n",
    "    use_cuda = use_cuda and torch.cuda.is_available()\n",
    "    device = torch.device(\"cuda\" if use_cuda else \"cpu\")\n",
    "    torch.manual_seed(exp)\n",
    "\n",
    "    model = Ember_MLP_Net()\n",
    "    \n",
    "    optimizer = torch.optim.SGD(model.parameters(), lr=0.01, momentum=0.9, weight_decay=0.000001)\n",
    "       \n",
    "    if torch.cuda.device_count() > 1:\n",
    "        print(\"Let's use\", torch.cuda.device_count(), \"GPUs!\")\n",
    "        model = nn.DataParallel(model)\n",
    "    \n",
    "    model = model.to(device)\n",
    "    print(f'Model has {count_parameters(model)/1000000}m parameters')    \n",
    "    criterion = nn.BCELoss()    \n",
    "\n",
    "    \n",
    "    \n",
    "    stored_global_family_dict = defaultdict(list)\n",
    "    \n",
    "    standardization = StandardScaler()\n",
    "    standard_scaler = None\n",
    "    for task_month in range(len(all_task_months)):\n",
    "                \n",
    "        print(f'\\n{datetime.datetime.now().strftime(\"%Y-%m-%d %H:%M:%S\")} Round {cnt} ...')\n",
    "        task_start = time.time()\n",
    "        \n",
    "        #task_month = restartMonth - 1\n",
    "        current_task = all_task_months[task_month]\n",
    "        task_months = all_task_months[:task_month+1]\n",
    "        print(f'Current Task {current_task} w/ {num_samples_per_malware_family} samples to Replay per Malware family.')\n",
    "\n",
    "\n",
    "        model_save_dir = str(expSaveDir) + 'model_' +\\\n",
    "                    str(exp_type) + str(expSaveFile) +\\\n",
    "                    str(num_samples_per_malware_family) + '/' + str(current_task) + '/'\n",
    "        create_parent_folder(model_save_dir)\n",
    "        \n",
    "        opt_save_path = str(expSaveDir) + 'optimizer_' +\\\n",
    "                    str(exp_type) + str(expSaveFile) +\\\n",
    "                    str(num_samples_per_malware_family) + '/' + str(current_task) + '/'\n",
    "        create_parent_folder(opt_save_path)\n",
    "        \n",
    "        \n",
    "        results_save_dir = str(resSaveDir) + 'results_' +\\\n",
    "                    str(exp_type) + str(expSaveFile) +\\\n",
    "                    str(num_samples_per_malware_family) + '/' \n",
    "        create_parent_folder(results_save_dir)\n",
    "        \n",
    "        \n",
    "        if task_month == restartMonth -1:\n",
    "            tmpcurrent_task = all_task_months[task_month - 1]\n",
    "            tmp_model_save_dir = str(expSaveDir) + 'model_' +\\\n",
    "                    str(exp_type) + str(expSaveFile) +\\\n",
    "                    str(num_samples_per_malware_family) + '/' + str(tmpcurrent_task) + '/'\n",
    "            \n",
    "            dict_save_file = tmp_model_save_dir + 'global_family_dict_' + str(task_month) + '.npz'\n",
    "            dictFile = np.load(dict_save_file)\n",
    "            stored_global_family_dict = dictFile['dictfile']\n",
    "        else:\n",
    "            dict_save_file = model_save_dir + 'global_family_dict_' + str(task_month) + '.npz'\n",
    "            np.savez_compressed(dict_save_file, dictfile = stored_global_family_dict)\n",
    "        \n",
    "        X_train, Y_train, Y_train_family = get_family_labeled_month_data(data_dir, current_task)\n",
    "        X_test, Y_test, Y_test_family = get_family_labeled_task_test_data(data_dir, task_months, mlp_net=True)\n",
    "        \n",
    "        \n",
    "        \n",
    "        stored_global_family_dict = make_family_based_dict(\\\n",
    "                                   X_train, Y_train, Y_train_family,\\\n",
    "                                   current_task, stored_global_family_dict)\n",
    "        \n",
    "        if current_task != all_task_months[0]:\n",
    "            model_new = Ember_MLP_Net_V2()\n",
    "            model_new = model_new.to(device)\n",
    "            #load the best model for this task\n",
    "            #best_model_path = model_save_dir + os.listdir(model_save_dir)[0]\n",
    "            print(f'loading best model {best_model_path}')\n",
    "            model_new.load_state_dict(torch.load(best_model_path))\n",
    "            \n",
    "            X_train, Y_train, stored_global_family_dict = get_anomalySamples(\n",
    "                                        stored_global_family_dict, contamination,\\\n",
    "                                        num_samples_per_malware_family,\\\n",
    "                                        model_new, layer, device)\n",
    "        \n",
    "        \n",
    "        print(f'{datetime.datetime.now().strftime(\"%Y-%m-%d %H:%M:%S\")} Standardizing ...')\n",
    "        standard_scaler = standardization.partial_fit(X_train)\n",
    "\n",
    "        X_train = standard_scaler.transform(X_train)\n",
    "        X_test = standard_scaler.transform(X_test)\n",
    "\n",
    "        X_train, Y_train = np.array(X_train, np.float32), np.array(Y_train, np.int32)\n",
    "        X_test, Y_test = np.array(X_test, np.float32), np.array(Y_test, np.int32)        \n",
    "        \n",
    "        \n",
    "\n",
    "        # to debug\n",
    "        #X_train, Y_train, Y_train_family = X_train[:500], Y_train [:500], Y_train_family[:500]\n",
    "        #X_test, Y_test, Y_test_family = X_test[:50], Y_test[:50], Y_test_family[:50]\n",
    "        \n",
    "        print()\n",
    "        print(f'X_train {X_train.shape} Y_train {Y_train.shape}')\n",
    "        print()\n",
    "        \n",
    "    \n",
    "        \n",
    "        print(f'{datetime.datetime.now().strftime(\"%Y-%m-%d %H:%M:%S\")} Training ...')\n",
    "        task_training_time, epoch_ran, training_loss, validation_loss  =\\\n",
    "                                training_early_stopping(model, model_save_dir, opt_save_path,\\\n",
    "                                X_train, Y_train, X_test, Y_test, patience,\\\n",
    "                                batch_size, device, optimizer, num_epoch,\\\n",
    "                                 criterion, replay_type, current_task, exp, earlystopping=True)\n",
    "        \n",
    "        \n",
    "        \n",
    "        model = Ember_MLP_Net()\n",
    "        model = model.to(device)\n",
    "        #load the best model for this task\n",
    "        best_model_path = model_save_dir + os.listdir(model_save_dir)[0]\n",
    "        print(f'loading best model {best_model_path}')\n",
    "        model.load_state_dict(torch.load(best_model_path))\n",
    "        \n",
    "        \n",
    "        optimizer = torch.optim.SGD(model.parameters(), lr=0.01, momentum=0.9, weight_decay=0.000001)\n",
    "        best_optimizer = opt_save_path + os.listdir(opt_save_path)[0]\n",
    "        print(f'loading best optimizer {best_optimizer}')\n",
    "        optimizer.load_state_dict(torch.load(best_optimizer))\n",
    "        \n",
    "        acc, rocauc = testing_aucscore(model, X_test, Y_test, batch_size, device)\n",
    "        \n",
    "        \n",
    "        end_time = time.time()\n",
    "\n",
    "        print(f'Elapsed time {(end_time - start_time)/60} mins.')    \n",
    "        \n",
    "\n",
    "        task_end = time.time()\n",
    "        task_run_time = (task_end - task_start)/60\n",
    "        \n",
    "        \n",
    "        num_replay_samples = len(X_train)\n",
    "        \n",
    "        print()\n",
    "        \n",
    "        \n",
    "        results_f = open(os.path.join(results_save_dir + layer + '_weight_wobn_' + str(contamination) + '_' + str(num_samples_per_malware_family) + '_results.txt'), 'a')\n",
    "        result_string = '{}\\t{}\\t{}\\t{}\\t{}\\t{}\\t\\n'.format(current_task,epoch_ran, task_training_time, acc, rocauc, num_replay_samples)\n",
    "        results_f.write(result_string)\n",
    "        results_f.flush()\n",
    "        results_f.close()\n",
    "        \n",
    "    \n",
    "    end_time = time.time()\n",
    "    cnt += 1\n",
    "    print(f'Elapsed time {(end_time - start_time)/60} mins.')\n",
    "   \n"
   ]
  }
 ],
 "metadata": {
  "kernelspec": {
   "display_name": "PyTorch",
   "language": "python",
   "name": "pytorch"
  },
  "language_info": {
   "codemirror_mode": {
    "name": "ipython",
    "version": 3
   },
   "file_extension": ".py",
   "mimetype": "text/x-python",
   "name": "python",
   "nbconvert_exporter": "python",
   "pygments_lexer": "ipython3",
   "version": "3.7.9"
  }
 },
 "nbformat": 4,
 "nbformat_minor": 4
}
