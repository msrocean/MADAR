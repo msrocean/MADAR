{
 "cells": [
  {
   "cell_type": "code",
   "execution_count": 1,
   "metadata": {},
   "outputs": [
    {
     "name": "stdout",
     "output_type": "stream",
     "text": [
      "Processing data for task 2018-01\n",
      "WARNING: EMBER feature version 2 were computed using lief version 0.9.0-\n",
      "WARNING:   lief version 0.10.1-bfe5414 found instead. There may be slight inconsistencies\n",
      "WARNING:   in the feature calculations.\n",
      "Vectorizing 2018-01 task data\n"
     ]
    },
    {
     "name": "stderr",
     "output_type": "stream",
     "text": [
      "100%|██████████| 84702/84702 [02:13<00:00, 636.03it/s] \n"
     ]
    },
    {
     "name": "stdout",
     "output_type": "stream",
     "text": [
      "WARNING: EMBER feature version 2 were computed using lief version 0.9.0-\n",
      "WARNING:   lief version 0.10.1-bfe5414 found instead. There may be slight inconsistencies\n",
      "WARNING:   in the feature calculations.\n",
      "[-1.  0.  1.]\n",
      "61914 29423 32491\n",
      "X_train (55722, 2381) Y_train (55722,) Y_family_train (55722,)\n",
      " X_test (6192, 2381) Y_test (6192,) \n",
      " Y_family_test (6192,)\n",
      "saving files ...\n",
      "Elapsed time 4.198094546794891 mins.\n",
      "Processing data for task 2018-02\n",
      "WARNING: EMBER feature version 2 were computed using lief version 0.9.0-\n",
      "WARNING:   lief version 0.10.1-bfe5414 found instead. There may be slight inconsistencies\n",
      "WARNING:   in the feature calculations.\n",
      "Vectorizing 2018-02 task data\n"
     ]
    },
    {
     "name": "stderr",
     "output_type": "stream",
     "text": [
      "100%|██████████| 73456/73456 [02:15<00:00, 541.33it/s] \n"
     ]
    },
    {
     "name": "stdout",
     "output_type": "stream",
     "text": [
      "WARNING: EMBER feature version 2 were computed using lief version 0.9.0-\n",
      "WARNING:   lief version 0.10.1-bfe5414 found instead. There may be slight inconsistencies\n",
      "WARNING:   in the feature calculations.\n",
      "[-1.  0.  1.]\n",
      "54137 22915 31222\n",
      "X_train (48723, 2381) Y_train (48723,) Y_family_train (48723,)\n",
      " X_test (5414, 2381) Y_test (5414,) \n",
      " Y_family_test (5414,)\n",
      "saving files ...\n",
      "Elapsed time 4.2252695798873905 mins.\n",
      "Processing data for task 2018-03\n",
      "WARNING: EMBER feature version 2 were computed using lief version 0.9.0-\n",
      "WARNING:   lief version 0.10.1-bfe5414 found instead. There may be slight inconsistencies\n",
      "WARNING:   in the feature calculations.\n",
      "Vectorizing 2018-03 task data\n"
     ]
    },
    {
     "name": "stderr",
     "output_type": "stream",
     "text": [
      "100%|██████████| 56929/56929 [02:11<00:00, 431.58it/s] \n"
     ]
    },
    {
     "name": "stdout",
     "output_type": "stream",
     "text": [
      "WARNING: EMBER feature version 2 were computed using lief version 0.9.0-\n",
      "WARNING:   lief version 0.10.1-bfe5414 found instead. There may be slight inconsistencies\n",
      "WARNING:   in the feature calculations.\n",
      "[-1.  0.  1.]\n",
      "41525 21373 20152\n",
      "X_train (37372, 2381) Y_train (37372,) Y_family_train (37372,)\n",
      " X_test (4153, 2381) Y_test (4153,) \n",
      " Y_family_test (4153,)\n",
      "saving files ...\n",
      "Elapsed time 4.243781665960948 mins.\n",
      "Processing data for task 2018-04\n",
      "WARNING: EMBER feature version 2 were computed using lief version 0.9.0-\n",
      "WARNING:   lief version 0.10.1-bfe5414 found instead. There may be slight inconsistencies\n",
      "WARNING:   in the feature calculations.\n",
      "Vectorizing 2018-04 task data\n"
     ]
    },
    {
     "name": "stderr",
     "output_type": "stream",
     "text": [
      "100%|██████████| 70962/70962 [02:13<00:00, 530.37it/s] \n"
     ]
    },
    {
     "name": "stdout",
     "output_type": "stream",
     "text": [
      "WARNING: EMBER feature version 2 were computed using lief version 0.9.0-\n",
      "WARNING:   lief version 0.10.1-bfe5414 found instead. There may be slight inconsistencies\n",
      "WARNING:   in the feature calculations.\n",
      "[-1.  0.  1.]\n",
      "52082 25190 26892\n",
      "X_train (46873, 2381) Y_train (46873,) Y_family_train (46873,)\n",
      " X_test (5209, 2381) Y_test (5209,) \n",
      " Y_family_test (5209,)\n",
      "saving files ...\n",
      "Elapsed time 4.218596339225769 mins.\n",
      "Processing data for task 2018-05\n",
      "WARNING: EMBER feature version 2 were computed using lief version 0.9.0-\n",
      "WARNING:   lief version 0.10.1-bfe5414 found instead. There may be slight inconsistencies\n",
      "WARNING:   in the feature calculations.\n",
      "Vectorizing 2018-05 task data\n"
     ]
    },
    {
     "name": "stderr",
     "output_type": "stream",
     "text": [
      "100%|██████████| 63000/63000 [02:19<00:00, 450.46it/s] \n"
     ]
    },
    {
     "name": "stdout",
     "output_type": "stream",
     "text": [
      "WARNING: EMBER feature version 2 were computed using lief version 0.9.0-\n",
      "WARNING:   lief version 0.10.1-bfe5414 found instead. There may be slight inconsistencies\n",
      "WARNING:   in the feature calculations.\n",
      "[-1.  0.  1.]\n",
      "45912 23719 22193\n",
      "X_train (41320, 2381) Y_train (41320,) Y_family_train (41320,)\n",
      " X_test (4592, 2381) Y_test (4592,) \n",
      " Y_family_test (4592,)\n",
      "saving files ...\n",
      "Elapsed time 4.4493802189826965 mins.\n",
      "Processing data for task 2018-06\n",
      "WARNING: EMBER feature version 2 were computed using lief version 0.9.0-\n",
      "WARNING:   lief version 0.10.1-bfe5414 found instead. There may be slight inconsistencies\n",
      "WARNING:   in the feature calculations.\n",
      "Vectorizing 2018-06 task data\n"
     ]
    },
    {
     "name": "stderr",
     "output_type": "stream",
     "text": [
      "100%|██████████| 66195/66195 [02:23<00:00, 460.76it/s] \n"
     ]
    },
    {
     "name": "stdout",
     "output_type": "stream",
     "text": [
      "WARNING: EMBER feature version 2 were computed using lief version 0.9.0-\n",
      "WARNING:   lief version 0.10.1-bfe5414 found instead. There may be slight inconsistencies\n",
      "WARNING:   in the feature calculations.\n",
      "[-1.  0.  1.]\n",
      "48401 23285 25116\n",
      "X_train (43560, 2381) Y_train (43560,) Y_family_train (43560,)\n",
      " X_test (4841, 2381) Y_test (4841,) \n",
      " Y_family_test (4841,)\n",
      "saving files ...\n",
      "Elapsed time 4.547687896092733 mins.\n",
      "Processing data for task 2018-07\n",
      "WARNING: EMBER feature version 2 were computed using lief version 0.9.0-\n",
      "WARNING:   lief version 0.10.1-bfe5414 found instead. There may be slight inconsistencies\n",
      "WARNING:   in the feature calculations.\n",
      "Vectorizing 2018-07 task data\n"
     ]
    },
    {
     "name": "stderr",
     "output_type": "stream",
     "text": [
      "100%|██████████| 70064/70064 [02:22<00:00, 492.41it/s] \n"
     ]
    },
    {
     "name": "stdout",
     "output_type": "stream",
     "text": [
      "WARNING: EMBER feature version 2 were computed using lief version 0.9.0-\n",
      "WARNING:   lief version 0.10.1-bfe5414 found instead. There may be slight inconsistencies\n",
      "WARNING:   in the feature calculations.\n",
      "[-1.  0.  1.]\n",
      "51421 24799 26622\n",
      "X_train (46278, 2381) Y_train (46278,) Y_family_train (46278,)\n",
      " X_test (5143, 2381) Y_test (5143,) \n",
      " Y_family_test (5143,)\n",
      "saving files ...\n",
      "Elapsed time 4.456874783833822 mins.\n",
      "Processing data for task 2018-08\n",
      "WARNING: EMBER feature version 2 were computed using lief version 0.9.0-\n",
      "WARNING:   lief version 0.10.1-bfe5414 found instead. There may be slight inconsistencies\n",
      "WARNING:   in the feature calculations.\n",
      "Vectorizing 2018-08 task data\n"
     ]
    },
    {
     "name": "stderr",
     "output_type": "stream",
     "text": [
      "100%|██████████| 62118/62118 [02:24<00:00, 430.92it/s] \n"
     ]
    },
    {
     "name": "stdout",
     "output_type": "stream",
     "text": [
      "WARNING: EMBER feature version 2 were computed using lief version 0.9.0-\n",
      "WARNING:   lief version 0.10.1-bfe5414 found instead. There may be slight inconsistencies\n",
      "WARNING:   in the feature calculations.\n",
      "[-1.  0.  1.]\n",
      "45425 23634 21791\n",
      "X_train (40882, 2381) Y_train (40882,) Y_family_train (40882,)\n",
      " X_test (4543, 2381) Y_test (4543,) \n",
      " Y_family_test (4543,)\n",
      "saving files ...\n",
      "Elapsed time 4.598857307434082 mins.\n",
      "Processing data for task 2018-09\n",
      "WARNING: EMBER feature version 2 were computed using lief version 0.9.0-\n",
      "WARNING:   lief version 0.10.1-bfe5414 found instead. There may be slight inconsistencies\n",
      "WARNING:   in the feature calculations.\n",
      "Vectorizing 2018-09 task data\n"
     ]
    },
    {
     "name": "stderr",
     "output_type": "stream",
     "text": [
      "100%|██████████| 85352/85352 [02:28<00:00, 576.09it/s] \n"
     ]
    },
    {
     "name": "stdout",
     "output_type": "stream",
     "text": [
      "WARNING: EMBER feature version 2 were computed using lief version 0.9.0-\n",
      "WARNING:   lief version 0.10.1-bfe5414 found instead. There may be slight inconsistencies\n",
      "WARNING:   in the feature calculations.\n",
      "[-1.  0.  1.]\n",
      "62769 25707 37062\n",
      "X_train (56492, 2381) Y_train (56492,) Y_family_train (56492,)\n",
      " X_test (6277, 2381) Y_test (6277,) \n",
      " Y_family_test (6277,)\n",
      "saving files ...\n",
      "Elapsed time 4.674197260538737 mins.\n",
      "Processing data for task 2018-10\n",
      "WARNING: EMBER feature version 2 were computed using lief version 0.9.0-\n",
      "WARNING:   lief version 0.10.1-bfe5414 found instead. There may be slight inconsistencies\n",
      "WARNING:   in the feature calculations.\n",
      "Vectorizing 2018-10 task data\n"
     ]
    },
    {
     "name": "stderr",
     "output_type": "stream",
     "text": [
      "100%|██████████| 117222/117222 [02:33<00:00, 761.53it/s] \n"
     ]
    },
    {
     "name": "stdout",
     "output_type": "stream",
     "text": [
      "WARNING: EMBER feature version 2 were computed using lief version 0.9.0-\n",
      "WARNING:   lief version 0.10.1-bfe5414 found instead. There may be slight inconsistencies\n",
      "WARNING:   in the feature calculations.\n",
      "[-1.  0.  1.]\n",
      "86414 29955 56459\n",
      "X_train (77772, 2381) Y_train (77772,) Y_family_train (77772,)\n",
      " X_test (8642, 2381) Y_test (8642,) \n",
      " Y_family_test (8642,)\n",
      "saving files ...\n",
      "Elapsed time 4.776598564783732 mins.\n",
      "Processing data for task 2018-11\n",
      "WARNING: EMBER feature version 2 were computed using lief version 0.9.0-\n",
      "WARNING:   lief version 0.10.1-bfe5414 found instead. There may be slight inconsistencies\n",
      "WARNING:   in the feature calculations.\n",
      "Vectorizing 2018-11 task data\n"
     ]
    },
    {
     "name": "stderr",
     "output_type": "stream",
     "text": [
      "100%|██████████| 100000/100000 [02:44<00:00, 608.61it/s]\n"
     ]
    },
    {
     "name": "stdout",
     "output_type": "stream",
     "text": [
      "WARNING: EMBER feature version 2 were computed using lief version 0.9.0-\n",
      "WARNING:   lief version 0.10.1-bfe5414 found instead. There may be slight inconsistencies\n",
      "WARNING:   in the feature calculations.\n",
      "[0. 1.]\n",
      "100000 50000 50000\n",
      "X_train (90000, 2381) Y_train (90000,) Y_family_train (90000,)\n",
      " X_test (10000, 2381) Y_test (10000,) \n",
      " Y_family_test (10000,)\n",
      "saving files ...\n",
      "Elapsed time 5.000741116205851 mins.\n",
      "Processing data for task 2018-12\n",
      "WARNING: EMBER feature version 2 were computed using lief version 0.9.0-\n",
      "WARNING:   lief version 0.10.1-bfe5414 found instead. There may be slight inconsistencies\n",
      "WARNING:   in the feature calculations.\n",
      "Vectorizing 2018-12 task data\n"
     ]
    },
    {
     "name": "stderr",
     "output_type": "stream",
     "text": [
      "100%|██████████| 100000/100000 [03:01<00:00, 551.30it/s]\n"
     ]
    },
    {
     "name": "stdout",
     "output_type": "stream",
     "text": [
      "WARNING: EMBER feature version 2 were computed using lief version 0.9.0-\n",
      "WARNING:   lief version 0.10.1-bfe5414 found instead. There may be slight inconsistencies\n",
      "WARNING:   in the feature calculations.\n",
      "[0. 1.]\n",
      "100000 50000 50000\n",
      "X_train (90000, 2381) Y_train (90000,) Y_family_train (90000,)\n",
      " X_test (10000, 2381) Y_test (10000,) \n",
      " Y_family_test (10000,)\n",
      "saving files ...\n",
      "Elapsed time 5.274661012490591 mins.\n"
     ]
    }
   ],
   "source": [
    "import os\n",
    "import numpy as np\n",
    "import tqdm\n",
    "import json\n",
    "import random\n",
    "import time\n",
    "import multiprocessing\n",
    "from ember_features import PEFeatureExtractor\n",
    "\n",
    "def vectorize(irow, raw_features_string, X_path, y_path, extractor, nrows):\n",
    "    \"\"\"\n",
    "    Vectorize a single sample of raw features and write to a large numpy file\n",
    "    \"\"\"\n",
    "    raw_features = json.loads(raw_features_string)\n",
    "    \n",
    "    feature_vector = extractor.process_raw_features(raw_features)\n",
    "\n",
    "    y = np.memmap(y_path, dtype=np.float32, mode=\"r+\", shape=nrows)\n",
    "    y[irow] = raw_features[\"label\"]\n",
    "    \n",
    "\n",
    "    X = np.memmap(X_path, dtype=np.float32, mode=\"r+\", shape=(nrows, extractor.dim))\n",
    "    X[irow] = feature_vector\n",
    "\n",
    "\n",
    "def vectorize_unpack(args):\n",
    "    \"\"\"\n",
    "    Pass through function for unpacking vectorize arguments\n",
    "    \"\"\"\n",
    "    return vectorize(*args)\n",
    "\n",
    "\n",
    "\n",
    "def create_parent_folder(file_path):\n",
    "    if not os.path.exists(os.path.dirname(file_path)):\n",
    "        os.makedirs(os.path.dirname(file_path))\n",
    "        \n",
    "def raw_feature_iterator(file_paths, task_months):\n",
    "    \"\"\"\n",
    "    Yield raw feature strings from the inputed file paths\n",
    "    \"\"\"\n",
    "    for path in file_paths:\n",
    "        with open(path, \"r\") as fin:\n",
    "            for line in fin:\n",
    "                raw_features = json.loads(line)\n",
    "                if raw_features['appeared'] in task_months:\n",
    "                    yield line\n",
    "\n",
    "\n",
    "def task_based_vectorize_subset(X_path, y_path, raw_feature_paths, task_months, extractor, nrows):\n",
    "    \"\"\"\n",
    "    Vectorize a subset of data and write it to disk\n",
    "    \"\"\"\n",
    "    # Create space on disk to write features to\n",
    "    X = np.memmap(X_path, dtype=np.float32, mode=\"w+\", shape=(nrows, extractor.dim))\n",
    "    y = np.memmap(y_path, dtype=np.float32, mode=\"w+\", shape=nrows)\n",
    "\n",
    "    del X, y\n",
    "\n",
    "    # Distribute the vectorization work\n",
    "    pool = multiprocessing.Pool()\n",
    "    argument_iterator = ((irow, raw_features_string, X_path, y_path, extractor, nrows)\n",
    "                         for irow, raw_features_string in enumerate(raw_feature_iterator(raw_feature_paths, task_months)))\n",
    "    #print(argument_iterator)\n",
    "    \n",
    "    \n",
    "    for _ in tqdm.tqdm(pool.imap_unordered(vectorize_unpack, argument_iterator), total=nrows):\n",
    "        pass\n",
    "    \n",
    "    #return argument_iterator\n",
    "\n",
    "        \n",
    "def task_num_rows(raw_feature_paths, task_months):\n",
    "    cnt_rows = 0\n",
    "    \n",
    "    family_labels = []\n",
    "    \n",
    "    for fp in raw_feature_paths:\n",
    "        #print(fp)\n",
    "        with open(fp, \"r\") as fin:\n",
    "            #print(fp)\n",
    "            for line in fin:\n",
    "                raw_features = json.loads(line)\n",
    "                if raw_features['appeared'] in task_months:\n",
    "                    family_labels.append(raw_features['avclass'])\n",
    "                    cnt_rows += 1\n",
    "    return cnt_rows, family_labels\n",
    "\n",
    "\n",
    "def create_task_based_vectorized_features(data_dir, save_dir, current_task, task_months, feature_version=2):\n",
    "    \"\"\"\n",
    "    Create feature vectors from raw features and write them to disk\n",
    "    \"\"\"\n",
    "    extractor = PEFeatureExtractor(feature_version)\n",
    "    \n",
    "    print(f'Vectorizing {current_task} task data')\n",
    "    X_path = os.path.join(save_dir, \"X_train.dat\")\n",
    "    y_path = os.path.join(save_dir, \"y_train.dat\")\n",
    "    \n",
    "    #y_path_family_labels = os.path.join(save_dir, \"y_family_train.dat\")\n",
    "    \n",
    "    raw_feature_paths_base_tr = [os.path.join(data_dir, \"train_features_{}.jsonl\".format(i)) for i in range(6)]\n",
    "    raw_feature_paths_base_te = [os.path.join(data_dir, \"test_features.jsonl\")]\n",
    "    raw_feature_paths = raw_feature_paths_base_tr + raw_feature_paths_base_te\n",
    "    \n",
    "    nrows, family_labels = task_num_rows(raw_feature_paths, current_task)\n",
    "    #print(nrows)\n",
    "    \n",
    "    save_test_file = save_dir + 'task_family_labels.npz'\n",
    "    np.savez(save_test_file, family_labels=family_labels)\n",
    "    \n",
    "    \n",
    "    task_based_vectorize_subset(X_path, y_path, raw_feature_paths, current_task, extractor, nrows)\n",
    "    #argument_iterator = task_based_vectorize_subset(X_path, y_path, raw_feature_paths, task_months, extractor, nrows)\n",
    "    \n",
    "    #return argument_iterator\n",
    "\n",
    "def read_task_based_vectorized_features(save_dir, feature_version=2):\n",
    "    \"\"\"\n",
    "    Read vectorized features into memory mapped numpy arrays\n",
    "    \"\"\"\n",
    "\n",
    "    extractor = PEFeatureExtractor(feature_version)\n",
    "    ndim = extractor.dim\n",
    "    X_ = None\n",
    "    y_ = None\n",
    "\n",
    "\n",
    "    X_path = os.path.join(save_dir, \"X_train.dat\")\n",
    "    y_path = os.path.join(save_dir, \"y_train.dat\")\n",
    "    \n",
    "    y_ = np.memmap(y_path, dtype=np.float32, mode=\"r\")\n",
    "    N = y_.shape[0]\n",
    "    \n",
    "    X_ = np.memmap(X_path, dtype=np.float32, mode=\"r\", shape=(N, ndim))\n",
    "    \n",
    "    print(np.unique(y_))\n",
    "    \n",
    "    goodware_indices = []\n",
    "    malware_indices = []\n",
    "    \n",
    "    \n",
    "    for ind, i in enumerate(y_):\n",
    "        if i == 0:\n",
    "            goodware_indices.append(ind)\n",
    "        elif i == 1:\n",
    "            malware_indices.append(ind)\n",
    "        else:\n",
    "            pass\n",
    "    \n",
    "    malware_goodware_indices = goodware_indices + malware_indices\n",
    "    \n",
    "    print(len(y_[malware_goodware_indices]), len(y_[goodware_indices]), len(y_[malware_indices]))\n",
    "    \n",
    "    \n",
    "    Y_family_labels_file = save_dir + 'task_family_labels.npz'\n",
    "    Y_fam_labels_ = np.load(Y_family_labels_file)\n",
    "    Y_fam_labels = Y_fam_labels_['family_labels']\n",
    "    \n",
    "    \n",
    "    X = X_[malware_goodware_indices]\n",
    "    Y = y_[malware_goodware_indices]\n",
    "    Y_families = Y_fam_labels[malware_goodware_indices]\n",
    "    \n",
    "    indx = [i for i in range(len(Y))]\n",
    "    random.shuffle(indx)\n",
    "\n",
    "    train_size = int(len(indx)*0.9)\n",
    "    trainset = indx[:train_size]\n",
    "    testset = indx[train_size:]\n",
    "\n",
    "    # Separate the training set\n",
    "    X_train = X[trainset]\n",
    "    Y_train = Y[trainset]\n",
    "    Y_family_train = Y_families[trainset]\n",
    "\n",
    "    # Separate the test set\n",
    "    X_test = X[testset]\n",
    "    Y_test = Y[testset]\n",
    "    Y_family_test = Y_families[testset]\n",
    "    \n",
    "    \n",
    "    print(f'X_train {X_train.shape} Y_train {Y_train.shape} Y_family_train {Y_family_train.shape}\\n X_test {X_test.shape} Y_test {Y_test.shape} \\n Y_family_test {Y_family_test.shape}')\n",
    "    \n",
    "    print(f'saving files ...')\n",
    "    save_training_file = save_dir + 'XY_train.npz'\n",
    "    save_test_file = save_dir + 'XY_test.npz'\n",
    "    \n",
    "    np.savez(save_training_file, X_train=X_train, Y_train=Y_train, Y_family_train = Y_family_train)\n",
    "    np.savez(save_test_file, X_test=X_test, Y_test=Y_test, Y_family_test = Y_family_test)\n",
    "\n",
    "    \n",
    "    \n",
    "    \n",
    "    \n",
    "all_task_months = ['2018-01', '2018-02', '2018-03', '2018-04', '2018-05', '2018-06',\n",
    "                   '2018-07', '2018-08', '2018-09', '2018-10', '2018-11', '2018-12']\n",
    "\n",
    "data_dir = \"../../../ember/ember_data/2018_data/ember2018/\"\n",
    "\n",
    "for task in range(0,len(all_task_months)):\n",
    "    start_time = time.time()\n",
    "    #task = 5 + task\n",
    "    current_task = all_task_months[task]\n",
    "    task_months = all_task_months[:task+1]\n",
    "    \n",
    "    \n",
    "    save_dir = '../../ember2018/month_based_processing_with_family_labels/' + str(current_task) + '/'\n",
    "    create_parent_folder(save_dir)\n",
    "    \n",
    "    print(f'Processing data for task {current_task}')\n",
    "    #print(current_task, task_months)\n",
    "    create_task_based_vectorized_features(data_dir, save_dir, current_task, task_months, feature_version=2)\n",
    "    read_task_based_vectorized_features(save_dir, feature_version=2)\n",
    "    \n",
    "    \n",
    "    end_time = time.time()\n",
    "    \n",
    "    print(f'Elapsed time {(end_time - start_time)/60} mins.')    "
   ]
  },
  {
   "cell_type": "code",
   "execution_count": null,
   "metadata": {},
   "outputs": [],
   "source": []
  }
 ],
 "metadata": {
  "kernelspec": {
   "display_name": "Python 3",
   "language": "python",
   "name": "python3"
  },
  "language_info": {
   "codemirror_mode": {
    "name": "ipython",
    "version": 3
   },
   "file_extension": ".py",
   "mimetype": "text/x-python",
   "name": "python",
   "nbconvert_exporter": "python",
   "pygments_lexer": "ipython3",
   "version": "3.7.9"
  }
 },
 "nbformat": 4,
 "nbformat_minor": 4
}
