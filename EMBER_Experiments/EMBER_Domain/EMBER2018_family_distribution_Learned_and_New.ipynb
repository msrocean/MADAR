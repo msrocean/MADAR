{
 "cells": [
  {
   "cell_type": "code",
   "execution_count": 1,
   "metadata": {},
   "outputs": [],
   "source": [
    "import os\n",
    "import numpy as np\n",
    "import tqdm\n",
    "import json\n",
    "import random\n",
    "import time\n",
    "import multiprocessing\n",
    "from ember_features import PEFeatureExtractor\n",
    "from sklearn.metrics import classification_report,accuracy_score\n",
    "from sklearn.ensemble import IsolationForest\n",
    "import copy\n",
    "import matplotlib.pyplot as plt\n",
    "import scipy as stats\n",
    "from sklearn.manifold import TSNE\n",
    "from collections import defaultdict\n",
    "\n",
    "plt.rcParams['font.size'] = 18\n",
    "#plt.rcParams['font.family'] = \"serif\"\n",
    "tdir = 'in'\n",
    "major = 5.0\n",
    "minor = 3.0\n",
    "plt.rcParams['xtick.direction'] = tdir\n",
    "plt.rcParams['ytick.direction'] = tdir\n",
    "plt.rcParams['xtick.major.size'] = major\n",
    "plt.rcParams['xtick.minor.size'] = minor\n",
    "plt.rcParams['ytick.major.size'] = major\n",
    "plt.rcParams['ytick.minor.size'] = minor\n",
    "\n",
    "np.random.RandomState(42);"
   ]
  },
  {
   "cell_type": "code",
   "execution_count": 2,
   "metadata": {},
   "outputs": [
    {
     "name": "stdout",
     "output_type": "stream",
     "text": [
      "Processing data for task 2018-01\n",
      "Processing data for task 2018-02\n",
      "Processing data for task 2018-03\n",
      "Processing data for task 2018-04\n",
      "Processing data for task 2018-05\n",
      "Processing data for task 2018-06\n",
      "Processing data for task 2018-07\n",
      "Processing data for task 2018-08\n",
      "Processing data for task 2018-09\n",
      "Processing data for task 2018-10\n",
      "Processing data for task 2018-11\n",
      "Processing data for task 2018-12\n",
      "2900 1\n"
     ]
    }
   ],
   "source": [
    "all_task_months = ['2018-01', '2018-02', '2018-03', '2018-04', '2018-05', '2018-06',\n",
    "                   '2018-07', '2018-08', '2018-09', '2018-10', '2018-11', '2018-12']\n",
    "\n",
    "malware_family_sample_count = {}\n",
    "goodware_family_sample_count = {}\n",
    "\n",
    "malware_family_samples = {}\n",
    "\n",
    "others_family = {}\n",
    "\n",
    "for task in range(0,len(all_task_months)):\n",
    "    \n",
    "    current_task = all_task_months[task]\n",
    "    task_months = all_task_months[:task+1]\n",
    "    \n",
    "    \n",
    "    save_dir = '/home/mr6564/continual_research/month_based_processing_with_family_labels/' + str(current_task) + '/'\n",
    "    \n",
    "    print(f'Processing data for task {current_task}')\n",
    "    Y_family_labels_file = save_dir + 'task_family_labels.npz'\n",
    "    Y_fam_labels_ = np.load(Y_family_labels_file)\n",
    "    Y_fam_labels = Y_fam_labels_['family_labels']\n",
    "\n",
    "    y_path = os.path.join(save_dir, \"y_train.dat\")\n",
    "    X_path = os.path.join(save_dir, \"X_train.dat\")\n",
    "    \n",
    "    \n",
    "    y_ = np.memmap(y_path, dtype=np.float32, mode=\"r\")\n",
    "    N = y_.shape[0]\n",
    "    \n",
    "    ndim = 2381\n",
    "    X_ = np.memmap(X_path, dtype=np.float32, mode=\"r\", shape=(N, ndim))    \n",
    "    #print(np.unique(y_))\n",
    "    \n",
    "#     Y_family_labels_file = save_dir + 'task_family_labels.npz'\n",
    "#     Y_fam_labels_ = np.load(Y_family_labels_file)\n",
    "#     Y_fam_labels = Y_fam_labels_['family_labels']\n",
    "    \n",
    "    \n",
    "    goodware_indices = []\n",
    "    malware_indices = []\n",
    "    \n",
    "    others_family_samples = []\n",
    "    \n",
    "    malware_task_family_samples = defaultdict(list)\n",
    "    \n",
    "    for ind, i in enumerate(y_):\n",
    "        if i == 0:\n",
    "            goodware_indices.append(ind)\n",
    "        elif i == 1:\n",
    "            malware_indices.append(ind)\n",
    "            if Y_fam_labels[ind] == '':\n",
    "                others_family_samples.append(X_[ind])\n",
    "            else:\n",
    "                malware_task_family_samples[Y_fam_labels[ind]].append(X_[ind])\n",
    "                #if Y_fam_labels[ind] not in malware_task_family_samples.keys():\n",
    "                #    malware_task_family_samples[Y_fam_labels[ind]]= X_ind\n",
    "                #else:\n",
    "                #    malware_task_family_samples[Y_fam_labels[ind]].append(X_ind)\n",
    "        else:\n",
    "            pass\n",
    "    \n",
    "    malware_family_samples[task] = malware_task_family_samples\n",
    "    others_family[task] = others_family_samples\n",
    "    \n",
    "\n",
    "    Y_families_malware = Y_fam_labels[malware_indices]\n",
    "    Y_families_goodware = Y_fam_labels[goodware_indices]\n",
    "    \n",
    "    \n",
    "    \n",
    "    for yfam in Y_families_malware:\n",
    "        if yfam in malware_family_sample_count.keys():\n",
    "            malware_family_sample_count[yfam] += 1\n",
    "        else:\n",
    "            malware_family_sample_count[yfam] = 1\n",
    "    \n",
    "    \n",
    "    for yfam in Y_families_goodware:\n",
    "        if yfam in goodware_family_sample_count.keys():\n",
    "            goodware_family_sample_count[yfam] += 1\n",
    "        else:\n",
    "            goodware_family_sample_count[yfam] = 1\n",
    "            \n",
    "\n",
    "print(len(malware_family_sample_count.keys()), len(goodware_family_sample_count.keys()))\n"
   ]
  },
  {
   "cell_type": "code",
   "execution_count": null,
   "metadata": {},
   "outputs": [],
   "source": [
    "def read_task_based_vectorized_features(save_dir):\n",
    "    \"\"\"\n",
    "    Read vectorized features into memory mapped numpy arrays\n",
    "    \"\"\"\n",
    "    ndim = 2381\n",
    "    X_ = None\n",
    "    y_ = None\n",
    "\n",
    "\n",
    "    X_path = os.path.join(save_dir, \"X_train.dat\")\n",
    "    y_path = os.path.join(save_dir, \"y_train.dat\")\n",
    "    \n",
    "    y_ = np.memmap(y_path, dtype=np.float32, mode=\"r\")\n",
    "    N = y_.shape[0]\n",
    "    \n",
    "    X_ = np.memmap(X_path, dtype=np.float32, mode=\"r\", shape=(N, ndim))\n",
    "    \n",
    "    print(np.unique(y_))\n",
    "    \n",
    "    goodware_indices = []\n",
    "    malware_indices = []\n",
    "    \n",
    "    \n",
    "    for ind, i in enumerate(y_):\n",
    "        if i == 0:\n",
    "            goodware_indices.append(ind)\n",
    "        elif i == 1:\n",
    "            malware_indices.append(ind)\n",
    "        else:\n",
    "            pass\n",
    "    \n",
    "    malware_goodware_indices = goodware_indices + malware_indices\n",
    "    \n",
    "    print(len(y_[malware_goodware_indices]), len(y_[goodware_indices]), len(y_[malware_indices]))\n",
    "    \n",
    "    \n",
    "    Y_family_labels_file = save_dir + 'task_family_labels.npz'\n",
    "    Y_fam_labels_ = np.load(Y_family_labels_file)\n",
    "    Y_fam_labels = Y_fam_labels_['family_labels']\n",
    "    \n",
    "    \n",
    "    \n",
    "    X = X_[malware_goodware_indices]\n",
    "    Y = y_[malware_goodware_indices]\n",
    "    Y_families = Y_fam_labels[malware_goodware_indices]\n",
    "    \n",
    "    indx = [i for i in range(len(Y))]\n",
    "    random.shuffle(indx)\n",
    "\n",
    "    train_size = int(len(indx)*0.9)\n",
    "    trainset = indx[:train_size]\n",
    "    testset = indx[train_size:]\n",
    "\n",
    "    # Separate the training set\n",
    "    X_train = X[trainset]\n",
    "    Y_train = Y[trainset]\n",
    "    Y_family_train = Y_families[trainset]\n",
    "\n",
    "    # Separate the test set\n",
    "    X_test = X[testset]\n",
    "    Y_test = Y[testset]\n",
    "    Y_family_test = Y_families[testset]\n",
    "    \n",
    "    \n",
    "    print(f'X_train {X_train.shape} Y_train {Y_train.shape} Y_family_train {Y_family_train.shape}\\n X_test {X_test.shape} Y_test {Y_test.shape} \\n Y_family_test {Y_family_test.shape}')\n",
    "    \n",
    "    print(f'saving files ...')\n",
    "    save_training_file = save_dir + 'XY_train.npz'\n",
    "    save_test_file = save_dir + 'XY_test.npz'\n",
    "    \n",
    "    np.savez(save_training_file, X_train=X_train, Y_train=Y_train, Y_family_train = Y_family_train)\n",
    "    np.savez(save_test_file, X_test=X_test, Y_test=Y_test, Y_family_test = Y_family_test)\n"
   ]
  },
  {
   "cell_type": "code",
   "execution_count": null,
   "metadata": {},
   "outputs": [],
   "source": [
    "all_task_months = ['2018-01', '2018-02', '2018-03', '2018-04', '2018-05', '2018-06',\n",
    "                   '2018-07', '2018-08', '2018-09', '2018-10', '2018-11', '2018-12']\n",
    "\n",
    "data_dir = \"../../../ember/ember_data/2018_data/ember2018/\"\n",
    "\n",
    "for task in range(0,len(all_task_months)):\n",
    "    start_time = time.time()\n",
    "    #task = 5 + task\n",
    "    current_task = all_task_months[task]\n",
    "    task_months = all_task_months[:task+1]\n",
    "    \n",
    "    save_dir = '../../ember2018/month_based_processing_with_family_labels_strict/' + str(current_task) + '/'\n",
    "    create_parent_folder(save_dir)\n",
    "    \n",
    "    print(f'Processing data for task {current_task}')\n",
    "    #print(current_task, task_months)\n",
    "    read_task_based_vectorized_features(save_dir, feature_version=2)\n",
    "    \n",
    "    \n",
    "    end_time = time.time()\n",
    "    \n",
    "    print(f'Elapsed time {(end_time - start_time)/60} mins.')    "
   ]
  },
  {
   "cell_type": "code",
   "execution_count": null,
   "metadata": {},
   "outputs": [],
   "source": []
  },
  {
   "cell_type": "code",
   "execution_count": 28,
   "metadata": {},
   "outputs": [
    {
     "name": "stdout",
     "output_type": "stream",
     "text": [
      "55722\n",
      "6192\n"
     ]
    }
   ],
   "source": [
    "def get_month_data(data_dir, month, train=True):\n",
    "    \n",
    "    if train:\n",
    "        data_dir = data_dir + str(month) + '/'\n",
    "        XY_train = np.load(data_dir + 'XY_train.npz')\n",
    "        X_tr, Y_tr = XY_train['X_train'], XY_train['Y_train']\n",
    "        assert len(Y_tr) == len(X_tr)\n",
    "        print(len(Y_tr))\n",
    "        return X_tr, Y_tr\n",
    "    else:\n",
    "        data_dir = data_dir + str(month) + '/'\n",
    "        XY_test = np.load(data_dir + 'XY_test.npz')\n",
    "        X_test, Y_test = XY_test['X_test'], XY_test['Y_test']\n",
    "        assert len(X_test) == len(Y_test)\n",
    "        print(len(Y_test))\n",
    "        return X_test, Y_test \n",
    "\n",
    "X_model, Y_model = get_month_data('../../../month_based_processing_with_family_labels/', str(all_task_months[0]), train=True)\n",
    "X_model, Y_model = get_month_data('../../../month_based_processing_with_family_labels/', str(all_task_months[0]), train=False)"
   ]
  },
  {
   "cell_type": "code",
   "execution_count": 18,
   "metadata": {},
   "outputs": [
    {
     "name": "stdout",
     "output_type": "stream",
     "text": [
      "[-1.  0.  1.]\n"
     ]
    }
   ],
   "source": [
    "save_dir = '../../../month_based_processing_with_family_labels/' + str(all_task_months[0]) + '/'\n",
    "\n",
    "ndim = 2381\n",
    "X_ = None\n",
    "y_ = None\n",
    "\n",
    "\n",
    "X_path = os.path.join(save_dir, \"X_train.dat\")\n",
    "y_path = os.path.join(save_dir, \"y_train.dat\")\n",
    "\n",
    "y_ = np.memmap(y_path, dtype=np.float32, mode=\"r\")\n",
    "N = y_.shape[0]\n",
    "\n",
    "X_ = np.memmap(X_path, dtype=np.float32, mode=\"r\", shape=(N, ndim))\n",
    "\n",
    "print(np.unique(y_))\n",
    "\n",
    "X, Y = X_, y_"
   ]
  },
  {
   "cell_type": "code",
   "execution_count": 21,
   "metadata": {},
   "outputs": [
    {
     "data": {
      "text/plain": [
       "(84702, 84702)"
      ]
     },
     "execution_count": 21,
     "metadata": {},
     "output_type": "execute_result"
    }
   ],
   "source": [
    "len(X_), len(y_)"
   ]
  },
  {
   "cell_type": "code",
   "execution_count": 24,
   "metadata": {},
   "outputs": [
    {
     "name": "stdout",
     "output_type": "stream",
     "text": [
      "30723\n",
      "0\n",
      "0\n",
      "0\n",
      "0\n",
      "0\n",
      "0\n",
      "0\n",
      "0\n",
      "0\n",
      "0\n",
      "0\n"
     ]
    }
   ],
   "source": [
    "for task, task_samples in malware_family_samples.items():\n",
    "    #print(task)\n",
    "    cnt = 0\n",
    "    if task == 0:\n",
    "        for task_family, family_samples in task_samples.items():\n",
    "            for f in family_samples:\n",
    "                cnt += 1\n",
    "    print(cnt)"
   ]
  },
  {
   "cell_type": "code",
   "execution_count": 4,
   "metadata": {},
   "outputs": [],
   "source": [
    "malware_counts_task_family = {}\n",
    "\n",
    "family_lists = []\n",
    "\n",
    "for task, task_samples in malware_family_samples.items():\n",
    "    #print(task)\n",
    "    if task == 0:\n",
    "        #print(task_samples)\n",
    "        learned_families = 0\n",
    "        new_families = 0\n",
    "        for task_family, family_samples in task_samples.items():\n",
    "            if task_family != 0:\n",
    "                #print(task_family, len(family_samples))\n",
    "                if task_family not in family_lists:\n",
    "                    new_families += 1\n",
    "                    family_lists.append(task_family)\n",
    "                    \n",
    "        malware_counts_task_family[task] = (learned_families, new_families)\n",
    "    else:\n",
    "        learned_families = 0\n",
    "        new_families = 0\n",
    "        for task_family, family_samples in task_samples.items():\n",
    "            if task_family != 0:\n",
    "                #print(task_family, len(family_samples))\n",
    "                if task_family not in family_lists:\n",
    "                    new_families += 1\n",
    "                    family_lists.append(task_family)\n",
    "                else:\n",
    "                    learned_families += 1\n",
    "                    \n",
    "        malware_counts_task_family[task] = (learned_families, new_families)"
   ]
  },
  {
   "cell_type": "code",
   "execution_count": 10,
   "metadata": {},
   "outputs": [
    {
     "data": {
      "text/plain": [
       "({0: (0, 913),\n",
       "  1: (551, 425),\n",
       "  2: (641, 257),\n",
       "  3: (596, 208),\n",
       "  4: (726, 183),\n",
       "  5: (761, 184),\n",
       "  6: (658, 118),\n",
       "  7: (784, 133),\n",
       "  8: (873, 287),\n",
       "  9: (370, 23),\n",
       "  10: (508, 66),\n",
       "  11: (652, 102)},\n",
       " 2899)"
      ]
     },
     "execution_count": 10,
     "metadata": {},
     "output_type": "execute_result"
    }
   ],
   "source": [
    "malware_counts_task_family, len(family_lists)"
   ]
  },
  {
   "cell_type": "code",
   "execution_count": null,
   "metadata": {},
   "outputs": [],
   "source": []
  },
  {
   "cell_type": "code",
   "execution_count": 28,
   "metadata": {},
   "outputs": [
    {
     "name": "stdout",
     "output_type": "stream",
     "text": [
      "[0, 551, 641, 596, 726, 761, 658, 784, 873, 370, 508, 652] [913, 425, 257, 208, 183, 184, 118, 133, 287, 23, 66, 102]\n"
     ]
    }
   ],
   "source": [
    "learned_families_all = [v[0] for k, v in malware_counts_task_family.items()]\n",
    "new_families_all = [v[1] for k, v in malware_counts_task_family.items()]\n",
    "print(learned_families_all, new_families_all)"
   ]
  },
  {
   "cell_type": "code",
   "execution_count": 45,
   "metadata": {},
   "outputs": [
    {
     "name": "stdout",
     "output_type": "stream",
     "text": [
      "0 913\n",
      "551 425\n",
      "641 257\n",
      "596 208\n",
      "726 183\n",
      "761 184\n",
      "658 118\n",
      "784 133\n",
      "873 287\n",
      "370 23\n",
      "508 66\n",
      "652 102\n"
     ]
    }
   ],
   "source": [
    "for ind in range(len(learned_families_all)):\n",
    "    \n",
    "    print(learned_families_all[ind], new_families_all[ind])"
   ]
  },
  {
   "cell_type": "code",
   "execution_count": 47,
   "metadata": {},
   "outputs": [
    {
     "data": {
      "text/plain": [
       "754"
      ]
     },
     "execution_count": 47,
     "metadata": {},
     "output_type": "execute_result"
    }
   ],
   "source": [
    "def compute(a, b, c):\n",
    "    return a + b - c\n",
    "\n",
    "#jan\n",
    "compute(0, 913, 551)\n",
    "\n",
    "# feb 551 + 425 - 641\n",
    "compute(551, 425, 641)\n",
    "\n",
    "#march \n",
    "compute(641, 257, 596)\n",
    "\n",
    "#april\n",
    "compute(596, 208, 726)\n",
    "\n",
    "#may\n",
    "compute(726, 183, 761)\n",
    "\n",
    "#june\n",
    "compute(761, 185, 658)\n",
    "\n",
    "#july\n",
    "compute(658, 118, 784)\n",
    "\n",
    "#august\n",
    "compute(784, 133, 873)\n",
    "\n",
    "#september\n",
    "compute(873, 287, 370)\n",
    "\n",
    "#october\n",
    "compute(370, 23, 508)\n",
    "\n",
    "#november\n",
    "compute(508, 66, 652)\n",
    "\n",
    "#december\n",
    "compute(652, 102, 0)\n"
   ]
  },
  {
   "cell_type": "code",
   "execution_count": 54,
   "metadata": {},
   "outputs": [
    {
     "data": {
      "text/plain": [
       "362"
      ]
     },
     "execution_count": 54,
     "metadata": {},
     "output_type": "execute_result"
    }
   ],
   "source": [
    "compute(0, 913, 551)"
   ]
  },
  {
   "cell_type": "code",
   "execution_count": 49,
   "metadata": {},
   "outputs": [
    {
     "data": {
      "text/plain": [
       "12"
      ]
     },
     "execution_count": 49,
     "metadata": {},
     "output_type": "execute_result"
    }
   ],
   "source": [
    "len(learned_families_all)"
   ]
  },
  {
   "cell_type": "code",
   "execution_count": 57,
   "metadata": {},
   "outputs": [
    {
     "name": "stdout",
     "output_type": "stream",
     "text": [
      "[0, 362, 335, 302, 78, 148, 287, 0, 44, 790, 0, 0]\n"
     ]
    }
   ],
   "source": [
    "losts = [0, ]\n",
    "\n",
    "current = 913\n",
    "for ind in range(len(learned_families_all) -1 ):\n",
    "    #print(ind)\n",
    "    lost = current - learned_families_all[ind+1]\n",
    "    current = learned_families_all[ind+1] + new_families_all[ind+1]\n",
    "    \n",
    "    #print(current, lost)\n",
    "    if abs(lost)/lost == -1: \n",
    "        losts.append(0)\n",
    "    else:\n",
    "        losts.append(lost)\n",
    "print(losts)\n"
   ]
  },
  {
   "cell_type": "code",
   "execution_count": 59,
   "metadata": {},
   "outputs": [
    {
     "data": {
      "image/png": "[encoded data removed]",
      "text/plain": [
       "<Figure size 1584x720 with 1 Axes>"
      ]
     },
     "metadata": {
      "needs_background": "light"
     },
     "output_type": "display_data"
    }
   ],
   "source": [
    "save_file_name = f'malware_family_counts_by_task.pdf'\n",
    "\n",
    "\n",
    "tasksmonths = ['Jan', 'Feb', 'Mar', 'Apr', 'May', 'Jun', 'Jul', 'Aug', 'Sep', 'Oct', 'Nov', 'Dec']\n",
    "\n",
    "\n",
    "x = np.arange(len(tasksmonths))  # the label locations\n",
    "width = 0.45  # the width of the bars\n",
    "\n",
    "fig, ax = plt.subplots(figsize=(22, 10))\n",
    "learned = ax.bar(x - width/2, learned_families_all, width, label='Learned Families', color='brown')\n",
    "new = ax.bar(x + width/2, new_families_all, width, label='New Families', color='teal')\n",
    "\n",
    "\n",
    "ax.bar_label(learned, padding=3, color='blue', fontweight ='bold',fontsize=18)\n",
    "ax.bar_label(new, padding=3, color='blue', fontweight ='bold',fontsize=18)\n",
    "\n",
    "ax.legend(fontsize=25)\n",
    "plt.xticks(x, tasksmonths, fontsize=20, fontweight ='bold');\n",
    "plt.yticks(fontsize=20);\n",
    "plt.xlabel(f'Incremental Task Months', fontsize=25)\n",
    "plt.ylabel(f'Frequency of Families', fontsize=25)\n",
    " \n",
    "#title of plot\n",
    "#plt.title(f'EMBER 2018 - NO AVCLASS Labels SAMPLES', fontsize=30);\n",
    "\n",
    "#plt.grid(True, linestyle='--', linewidth=1.)\n",
    "plt.savefig('./figures/' + save_file_name, bbox_inches='tight', transparent=True);"
   ]
  },
  {
   "cell_type": "code",
   "execution_count": null,
   "metadata": {},
   "outputs": [],
   "source": [
    "top_10 = top_100_key[:100]\n",
    "\n",
    "print(top_10)"
   ]
  },
  {
   "cell_type": "code",
   "execution_count": null,
   "metadata": {},
   "outputs": [],
   "source": [
    "malware_family_samples.keys()"
   ]
  },
  {
   "cell_type": "code",
   "execution_count": null,
   "metadata": {},
   "outputs": [],
   "source": [
    "print(top_10)\n",
    "top_10_families = {}\n",
    "\n",
    "for month, data in malware_family_samples.items():\n",
    "    for k, v in data.items():\n",
    "        if k in top_10:\n",
    "            if k not in top_10_families.keys():\n",
    "                top_10_families[k] = v\n",
    "            else:\n",
    "                top_10_families[k] = np.concatenate((top_10_families[k], v))\n",
    "                "
   ]
  },
  {
   "cell_type": "code",
   "execution_count": null,
   "metadata": {},
   "outputs": [],
   "source": [
    "len(top_10_families['xtrat'])"
   ]
  },
  {
   "cell_type": "code",
   "execution_count": null,
   "metadata": {
    "scrolled": true
   },
   "outputs": [],
   "source": [
    "len(malware_family_sample_count.keys())"
   ]
  },
  {
   "cell_type": "code",
   "execution_count": null,
   "metadata": {},
   "outputs": [],
   "source": [
    "num_others = []\n",
    "for k, v in others_family.items():\n",
    "    print(len(v))\n",
    "    num_others.append(len(v))\n",
    "\n",
    "print(sum(num_others))"
   ]
  },
  {
   "cell_type": "code",
   "execution_count": 21,
   "metadata": {},
   "outputs": [],
   "source": [
    "all_others = np.concatenate(([v for k, v in others_family.items()]))"
   ]
  },
  {
   "cell_type": "code",
   "execution_count": null,
   "metadata": {},
   "outputs": [],
   "source": [
    "len(all_others)"
   ]
  },
  {
   "cell_type": "code",
   "execution_count": null,
   "metadata": {},
   "outputs": [],
   "source": [
    "ramnit = malware_family_sample_count['ramnit']\n",
    "print(ramnit)"
   ]
  },
  {
   "cell_type": "code",
   "execution_count": null,
   "metadata": {},
   "outputs": [],
   "source": [
    "\n",
    "data_X = top_10_families['xtrat']\n",
    "\n",
    "# fit the model\n",
    "clf = IsolationForest(max_samples=len(data_X))\n",
    "clf.fit(data_X)\n",
    "scores_prediction = clf.decision_function(data_X)\n",
    "#y_pred_train = clf.predict(all_others)"
   ]
  },
  {
   "cell_type": "code",
   "execution_count": null,
   "metadata": {},
   "outputs": [],
   "source": [
    "len(scores_prediction[np.where(scores_prediction >= 0.15)])"
   ]
  },
  {
   "cell_type": "code",
   "execution_count": null,
   "metadata": {},
   "outputs": [],
   "source": [
    "top_10"
   ]
  },
  {
   "cell_type": "code",
   "execution_count": null,
   "metadata": {},
   "outputs": [],
   "source": [
    "top_10"
   ]
  },
  {
   "cell_type": "code",
   "execution_count": null,
   "metadata": {},
   "outputs": [],
   "source": [
    "def get_isolation_forest_scores(family_index, top_families_name, top_families_data):\n",
    "    \n",
    "    if family_index == 'others_family':\n",
    "        print(f'family name {family_index}')\n",
    "        data_X = all_others #top_10_families[top_10[top_ind]]\n",
    "    else:\n",
    "        print(f'family name {top_families_name[family_index]}')\n",
    "        data_X = top_families_data[top_families_name[family_index]]\n",
    "        #top_10_families[top_10[top_ind]]\n",
    "        \n",
    "        \n",
    "    # fit the model\n",
    "    clf = IsolationForest(max_samples=len(data_X))\n",
    "    clf.fit(data_X)\n",
    "    scores_prediction = clf.decision_function(data_X)\n",
    "    y_pred = clf.predict(all_others)\n",
    "    \n",
    "    return scores_prediction, y_pred"
   ]
  },
  {
   "cell_type": "code",
   "execution_count": null,
   "metadata": {},
   "outputs": [],
   "source": [
    "anomaly_others = get_isolation_forest_scores('others_family', top_10, top_10_families)"
   ]
  },
  {
   "cell_type": "code",
   "execution_count": null,
   "metadata": {},
   "outputs": [],
   "source": [
    "anomaly_0 = get_isolation_forest_scores(0, top_10, top_10_families)"
   ]
  },
  {
   "cell_type": "code",
   "execution_count": null,
   "metadata": {},
   "outputs": [],
   "source": [
    "anomaly_1, y_pred_1 = get_isolation_forest_scores(1, top_10, top_10_families)"
   ]
  },
  {
   "cell_type": "code",
   "execution_count": null,
   "metadata": {},
   "outputs": [],
   "source": []
  },
  {
   "cell_type": "code",
   "execution_count": null,
   "metadata": {},
   "outputs": [],
   "source": [
    "anomaly_1[np.where(anomaly_1 <= 0.0)], y_pred_1[np.where(y_pred_1 == -1)]\n",
    "\n",
    "anomalous_samples = np.where(y_pred_1 == -1.0)\n",
    "similar_samples = np.where(y_pred_1 == 1.0)\n",
    "\n",
    "print(f'all-{len(y_pred_1)} anom-{len(anomalous_samples[0])} sim-{len(similar_samples[0])}')\n",
    "len(anomalous_samples[0]) + len(similar_samples[0]) == len(y_pred_1)"
   ]
  },
  {
   "cell_type": "code",
   "execution_count": null,
   "metadata": {},
   "outputs": [],
   "source": [
    "print(type(anomalous_samples)), print(type(top_10_families[top_10[1]]))"
   ]
  },
  {
   "cell_type": "code",
   "execution_count": null,
   "metadata": {},
   "outputs": [],
   "source": [
    "\n",
    "len(top_10_families[top_10[1]][anomalous_samples])"
   ]
  },
  {
   "cell_type": "code",
   "execution_count": null,
   "metadata": {},
   "outputs": [],
   "source": [
    "anomaly_2 = get_isolation_forest_scores(2, top_10, top_10_families)\n",
    "anomaly_3 = get_isolation_forest_scores(3, top_10, top_10_families)\n",
    "anomaly_4 = get_isolation_forest_scores(4, top_10, top_10_families)\n",
    "anomaly_5 = get_isolation_forest_scores(5, top_10, top_10_families)\n",
    "anomaly_6 = get_isolation_forest_scores(6, top_10, top_10_families)\n",
    "anomaly_7 = get_isolation_forest_scores(7, top_10, top_10_families)"
   ]
  },
  {
   "cell_type": "code",
   "execution_count": null,
   "metadata": {},
   "outputs": [],
   "source": [
    "save_file_name = 'kdeplot_anomaly_scores_top_9.png'\n",
    "figure, axis = plt.subplots(3, 3, figsize=(18, 12))\n",
    "\n",
    "figure.suptitle('KDE Plot of Anomaly Scores of Top 9 Malware Families')\n",
    "#figure.supxlabel(\"Anomaly Scores\", fontsize=15)\n",
    "#figure.supylabel(\"Density\", fontsize=15)   \n",
    "\n",
    "\n",
    "sns.kdeplot(ax=axis[0, 0], data=anomaly_others, shade=True, color=\"blue\", linewidth=4)\n",
    "axis[0, 0].set_title(f\"Others Family - {len(anomaly_others)} samples\", fontsize=15)\n",
    "axis[0, 0].tick_params(labelsize=15)  \n",
    "#axis[0, 0].set_xlabel(\"Anomaly Scores\",fontsize=15)    \n",
    "axis[0, 0].set_ylabel(\"Density\",fontsize=15)    \n",
    "axis[0, 0].set_xlim(-0.5, 0.5)\n",
    "axis[0, 0].set_ylim(0, 120)\n",
    "\n",
    "\n",
    "sns.kdeplot(ax=axis[0, 1], data=anomaly_0, shade=True, color=\"blue\", linewidth=4)\n",
    "axis[0, 1].set_title(f'{[top_10[0]][0]} - {len(anomaly_0)} samples', fontsize=15)\n",
    "axis[0, 1].tick_params(labelsize=15)  \n",
    "#axis[0, 1].set_xlabel(\"Anomaly Scores\",fontsize=15)    \n",
    "axis[0, 1].set_ylabel(\" \",fontsize=15)    \n",
    "axis[0, 1].set_xlim(-0.5, 0.5)  \n",
    "axis[0, 1].set_ylim(0, 120)\n",
    "\n",
    "\n",
    "sns.kdeplot(ax=axis[0, 2], data=anomaly_1, shade=True, color=\"blue\", linewidth=4)\n",
    "axis[0, 2].set_title(f'{[top_10[1]][0]} - {len(anomaly_1)} samples', fontsize=15)\n",
    "axis[0, 2].tick_params(labelsize=15)  \n",
    "#axis[0, 2].set_xlabel(\"Anomaly Scores\",fontsize=15)    \n",
    "axis[0, 2].set_ylabel(\" \",fontsize=15)    \n",
    "axis[0, 2].set_xlim(-0.5, 0.5)\n",
    "axis[0, 2].set_ylim(0, 120)\n",
    "\n",
    "\n",
    "\n",
    "sns.kdeplot(ax=axis[1, 0], data=anomaly_2, shade=True, color=\"blue\", linewidth=4)\n",
    "axis[1, 0].set_title(f'{[top_10[2]][0]} - {len(anomaly_2)} samples', fontsize=15)\n",
    "axis[1, 0].tick_params(labelsize=15)  \n",
    "#axis[1, 0].set_xlabel(\"Anomaly Scores\",fontsize=15)    \n",
    "axis[1, 0].set_ylabel(\"Density\",fontsize=15) \n",
    "axis[1, 0].set_xlim(-0.5, 0.5)\n",
    "axis[1, 0].set_ylim(0, 120)\n",
    "\n",
    "\n",
    "sns.kdeplot(ax=axis[1, 1], data=anomaly_3, shade=True, color=\"blue\", linewidth=4)\n",
    "axis[1, 1].set_title(f'{[top_10[3]][0]} - {len(anomaly_3)} samples', fontsize=15)\n",
    "axis[1, 1].tick_params(labelsize=15)  \n",
    "#axis[1, 1].set_xlabel(\"Anomaly Scores\",fontsize=15)    \n",
    "axis[1, 1].set_ylabel(\" \",fontsize=15) \n",
    "axis[1, 1].set_xlim(-0.5, 0.5)  \n",
    "axis[1, 1].set_ylim(0, 120)\n",
    "\n",
    "\n",
    "\n",
    "sns.kdeplot(ax=axis[1, 2], data=anomaly_4, shade=True, color=\"blue\", linewidth=4)\n",
    "axis[1, 2].set_title(f'{[top_10[4]][0]} - {len(anomaly_4)} samples', fontsize=15)\n",
    "axis[1, 2].tick_params(labelsize=15)  \n",
    "#axis[1, 2].set_xlabel(\"Anomaly Scores\",fontsize=15)    \n",
    "axis[1, 2].set_ylabel(\" \",fontsize=15) \n",
    "axis[1, 2].set_xlim(-0.5, 0.5)\n",
    "axis[1, 2].set_ylim(0, 120)\n",
    "\n",
    "\n",
    "\n",
    "sns.kdeplot(ax=axis[2, 0], data=anomaly_5, shade=True, color=\"blue\", linewidth=4)\n",
    "axis[2, 0].set_title(f'{[top_10[5]][0]} - {len(anomaly_5)} samples', fontsize=15)\n",
    "axis[2, 0].tick_params(labelsize=15)  \n",
    "axis[2, 0].set_xlabel(\"Anomaly Scores\",fontsize=15)    \n",
    "axis[2, 0].set_ylabel(\"Density\",fontsize=15) \n",
    "axis[2, 0].set_xlim(-0.5, 0.5)\n",
    "axis[2, 0].set_ylim(0, 120)\n",
    "\n",
    "\n",
    "\n",
    "sns.kdeplot(ax=axis[2, 1], data=anomaly_6, shade=True, color=\"blue\", linewidth=4)\n",
    "axis[2, 1].set_title(f'{[top_10[6]][0]} - {len(anomaly_6)} samples', fontsize=15)\n",
    "axis[2, 1].tick_params(labelsize=15)  \n",
    "axis[2, 1].set_xlabel(\"Anomaly Scores\",fontsize=15)    \n",
    "axis[2, 1].set_ylabel(\" \",fontsize=15) \n",
    "axis[2, 1].set_xlim(-0.5, 0.5)\n",
    "axis[2, 1].set_ylim(0, 120)\n",
    "\n",
    "\n",
    "\n",
    "sns.kdeplot(ax=axis[2, 2], data=anomaly_7, shade=True, color=\"blue\", linewidth=4)\n",
    "axis[2, 2].set_title(f'{[top_10[7]][0]} - {len(anomaly_7)} samples', fontsize=15)\n",
    "axis[2, 2].tick_params(labelsize=15)  \n",
    "axis[2, 2].set_xlabel(\"Anomaly Scores\",fontsize=15)    \n",
    "axis[2, 2].set_ylabel(\" \",fontsize=15) \n",
    "axis[2, 2].set_xlim(-0.5, 0.5)\n",
    "axis[2, 2].set_ylim(0, 120)\n",
    "\n",
    "\n",
    "\n",
    "#plt.tick_params(labelcolor=\"none\", bottom=False, left=False)\n",
    "\n",
    "\n",
    "plt.subplots_adjust(hspace = 0.3)\n",
    "\n",
    "plt.savefig('./figures/isolation_forest/' + save_file_name,\n",
    "                bbox_inches='tight');\n"
   ]
  },
  {
   "cell_type": "code",
   "execution_count": null,
   "metadata": {},
   "outputs": [],
   "source": [
    "\n",
    "sns.color_palette()\n",
    "save_file_name = 'scatter_anomaly_scores_top_9.png'\n",
    "figure, axis = plt.subplots(3, 3, figsize=(18, 12))\n",
    "\n",
    "figure.suptitle('Scatter Plot of Anomaly Scores of Top 9 Malware Families')\n",
    "#figure.supxlabel(\"Anomaly Scores\", fontsize=15)\n",
    "#figure.supylabel(\"Density\", fontsize=15)   \n",
    "\n",
    "\n",
    "\n",
    "sns.scatterplot(ax=axis[0, 0], x=anomaly_others, y=[i for i in range(len(anomaly_others))], color='green', s=100)\n",
    "axis[0, 0].set_title(f\"Others Family - {len(anomaly_others)} samples\", fontsize=15)\n",
    "axis[0, 0].tick_params(labelsize=15)  \n",
    "#axis[0, 0].set_xlabel(\"Anomaly Scores\",fontsize=15)    \n",
    "axis[0, 0].set_ylabel(\"Index of Samples\",fontsize=15)    \n",
    "axis[0, 0].set_xlim(-0.5, 0.5)\n",
    "axis[0, 0].set_ylim(0, 40000)\n",
    "\n",
    "\n",
    "sns.scatterplot(ax=axis[0, 1], x=anomaly_0, y=[i for i in range(len(anomaly_0))], color='green', s=100)\n",
    "axis[0, 1].set_title(f'{[top_10[0]][0]} - {len(anomaly_0)} samples', fontsize=15)\n",
    "axis[0, 1].tick_params(labelsize=15)  \n",
    "#axis[0, 1].set_xlabel(\"Anomaly Scores\",fontsize=15)    \n",
    "axis[0, 1].set_ylabel(\" \",fontsize=15)    \n",
    "axis[0, 1].set_xlim(-0.5, 0.5)  \n",
    "axis[0, 1].set_ylim(0, 40000)\n",
    "\n",
    "\n",
    "sns.scatterplot(ax=axis[0, 2], x=anomaly_1, y=[i for i in range(len(anomaly_1))], color='green', s=100)\n",
    "axis[0, 2].set_title(f'{[top_10[1]][0]} - {len(anomaly_1)} samples', fontsize=15)\n",
    "axis[0, 2].tick_params(labelsize=15)  \n",
    "#axis[0, 2].set_xlabel(\"Anomaly Scores\",fontsize=15)    \n",
    "axis[0, 2].set_ylabel(\" \",fontsize=15)    \n",
    "axis[0, 2].set_xlim(-0.5, 0.5)\n",
    "axis[0, 2].set_ylim(0, 40000)\n",
    "\n",
    "\n",
    "sns.scatterplot(ax=axis[1, 0], x=anomaly_2, y=[i for i in range(len(anomaly_2))], color='green', s=100)\n",
    "axis[1, 0].set_title(f'{[top_10[2]][0]} - {len(anomaly_2)} samples', fontsize=15)\n",
    "axis[1, 0].tick_params(labelsize=15)  \n",
    "#axis[1, 0].set_xlabel(\"Anomaly Scores\",fontsize=15)    \n",
    "axis[1, 0].set_ylabel(\"Index of Samples\",fontsize=15) \n",
    "axis[1, 0].set_xlim(-0.5, 0.5)\n",
    "axis[1, 0].set_ylim(0, 40000)\n",
    "\n",
    "\n",
    "sns.scatterplot(ax=axis[1, 1], x=anomaly_3, y=[i for i in range(len(anomaly_3))], color='green', s=100)\n",
    "axis[1, 1].set_title(f'{[top_10[3]][0]} - {len(anomaly_3)} samples', fontsize=15)\n",
    "axis[1, 1].tick_params(labelsize=15)  \n",
    "#axis[1, 1].set_xlabel(\"Anomaly Scores\",fontsize=15)    \n",
    "axis[1, 1].set_ylabel(\" \",fontsize=15) \n",
    "axis[1, 1].set_xlim(-0.5, 0.5)  \n",
    "axis[1, 1].set_ylim(0, 40000)\n",
    "\n",
    "\n",
    "\n",
    "sns.scatterplot(ax=axis[1, 2], x=anomaly_4, y=[i for i in range(len(anomaly_4))], color='green', s=100)\n",
    "axis[1, 2].set_title(f'{[top_10[4]][0]} - {len(anomaly_4)} samples', fontsize=15)\n",
    "axis[1, 2].tick_params(labelsize=15)  \n",
    "#axis[1, 2].set_xlabel(\"Anomaly Scores\",fontsize=15)    \n",
    "axis[1, 2].set_ylabel(\" \",fontsize=15) \n",
    "axis[1, 2].set_xlim(-0.5, 0.5)\n",
    "axis[1, 2].set_ylim(0, 40000)\n",
    "\n",
    "\n",
    "sns.scatterplot(ax=axis[2, 0], x=anomaly_5, y=[i for i in range(len(anomaly_5))], color='green', s=100)\n",
    "sns.kdeplot(ax=axis[2, 0], data=anomaly_5, shade=True, color=\"blue\", linewidth=4)\n",
    "axis[2, 0].set_title(f'{[top_10[5]][0]} - {len(anomaly_5)} samples', fontsize=15)\n",
    "axis[2, 0].tick_params(labelsize=15)  \n",
    "axis[2, 0].set_xlabel(\"Anomaly Scores\",fontsize=15)    \n",
    "axis[2, 0].set_ylabel(\"Index of Samples\",fontsize=15) \n",
    "axis[2, 0].set_xlim(-0.5, 0.5)\n",
    "axis[2, 0].set_ylim(0, 40000)\n",
    "\n",
    "\n",
    "\n",
    "sns.scatterplot(ax=axis[2, 1], x=anomaly_6, y=[i for i in range(len(anomaly_6))], color='green', s=100)\n",
    "axis[2, 1].set_title(f'{[top_10[6]][0]} - {len(anomaly_6)} samples', fontsize=15)\n",
    "axis[2, 1].tick_params(labelsize=15)  \n",
    "axis[2, 1].set_xlabel(\"Anomaly Scores\",fontsize=15)    \n",
    "axis[2, 1].set_ylabel(\" \",fontsize=15) \n",
    "axis[2, 1].set_xlim(-0.5, 0.5)\n",
    "axis[2, 1].set_ylim(0, 40000)\n",
    "\n",
    "\n",
    "sns.scatterplot(ax=axis[2, 2], x=anomaly_7, y=[i for i in range(len(anomaly_7))], color='green', s=100)\n",
    "axis[2, 2].set_title(f'{[top_10[7]][0]} - {len(anomaly_7)} samples', fontsize=15)\n",
    "axis[2, 2].tick_params(labelsize=15)  \n",
    "axis[2, 2].set_xlabel(\"Anomaly Scores\",fontsize=15)    \n",
    "axis[2, 2].set_ylabel(\" \",fontsize=15) \n",
    "axis[2, 2].set_xlim(-0.5, 0.5)\n",
    "axis[2, 2].set_ylim(0, 40000)\n",
    "\n",
    "\n",
    "\n",
    "#plt.tick_params(labelcolor=\"none\", bottom=False, left=False)\n",
    "\n",
    "\n",
    "plt.subplots_adjust(hspace = 0.3)\n",
    "\n",
    "plt.savefig('./figures/isolation_forest/' + save_file_name,\n",
    "                bbox_inches='tight');\n"
   ]
  },
  {
   "cell_type": "code",
   "execution_count": null,
   "metadata": {},
   "outputs": [],
   "source": [
    "\n",
    "\n",
    "family_name = 'others_family' #top_10[top_ind] #'others_family'\n",
    "\n",
    "save_file_name = family_name +'.png'\n",
    "\n",
    "plt.figure(figsize=(12, 8))\n",
    "\n",
    "plt.scatter(scores_prediction, [i for i in range(len(scores_prediction))], s=50 ,c=\"green\");\n",
    "\n",
    "plt.xticks(fontsize=25);\n",
    "plt.yticks(fontsize=25);\n",
    "plt.xlabel(f'Anomaly Scores', fontsize=25)\n",
    "plt.ylabel(f'#of Samples', fontsize=25)\n",
    "\n",
    "\n",
    "plt.title(f\"{family_name} has {len(scores_prediction)} Samples\", fontsize=30)\n",
    "plt.savefig('./figures/isolation_forest/' + save_file_name,\n",
    "                bbox_inches='tight');\n"
   ]
  },
  {
   "cell_type": "code",
   "execution_count": null,
   "metadata": {},
   "outputs": [],
   "source": []
  },
  {
   "cell_type": "code",
   "execution_count": null,
   "metadata": {},
   "outputs": [],
   "source": [
    "tasksmonths = ['January', 'February', 'March', 'April', 'May', 'June',\n",
    "               'July', 'August', 'September', 'October', 'November', 'December']\n",
    "\n",
    "    \n",
    "tsne = TSNE(random_state=123)\n",
    "embedded = tsne.fit_transform(all_others)\n",
    "\n",
    "sns.set (style = 'white', color_codes = True, \n",
    "         palette = [\"#FF0000\", \"#0000FF\", \"#00FF00\", \"#C03030\", \"#3030C0\", \"#30C030\"])\n",
    "\n",
    "save_file_name = f'allmonths_others_family.png'\n",
    "\n",
    "\n",
    "fig, axes = plt.subplots(1, 1, figsize=(10, 10), sharey=True)\n",
    "\n",
    "sns.scatterplot(ax=axes, x=embedded[:,0],\\\n",
    "                y=embedded[:,1], legend=True,\n",
    "                alpha=1);\n",
    "\n",
    "\n",
    "plt.title(f\"January to December\", fontsize=30)\n",
    "plt.savefig('./figures/others_family/' + save_file_name,\n",
    "                bbox_inches='tight');\n",
    "plt.show()"
   ]
  },
  {
   "cell_type": "code",
   "execution_count": null,
   "metadata": {},
   "outputs": [],
   "source": []
  },
  {
   "cell_type": "code",
   "execution_count": null,
   "metadata": {},
   "outputs": [],
   "source": [
    "Y_families_malware"
   ]
  },
  {
   "cell_type": "code",
   "execution_count": null,
   "metadata": {},
   "outputs": [],
   "source": [
    "goodware_family_sample_count.values(), sum(malware_family_sample_count.values())"
   ]
  },
  {
   "cell_type": "code",
   "execution_count": null,
   "metadata": {},
   "outputs": [],
   "source": [
    "#malware_family_sample_count['others_family'] = malware_family_sample_count[''] \n",
    "#del malware_family_sample_count[''] "
   ]
  },
  {
   "cell_type": "code",
   "execution_count": null,
   "metadata": {},
   "outputs": [],
   "source": [
    "#11433\n",
    "print(malware_family_sample_count['others_family'])\n",
    "print(sum(malware_family_sample_count.values()))"
   ]
  },
  {
   "cell_type": "code",
   "execution_count": null,
   "metadata": {},
   "outputs": [],
   "source": []
  },
  {
   "cell_type": "code",
   "execution_count": null,
   "metadata": {},
   "outputs": [],
   "source": [
    "sorted_dict = dict(sorted(malware_family_sample_count.items(), key=lambda item: item[1], reverse=True))"
   ]
  },
  {
   "cell_type": "code",
   "execution_count": null,
   "metadata": {},
   "outputs": [],
   "source": [
    "top_k = [1, 5, 10, 50, 100, 500, 1000, 5000, 10000, 20000, 30000]\n",
    "\n",
    "for j in top_k:\n",
    "    cnt = 0\n",
    "    for k, v in malware_family_sample_count.items():\n",
    "        if v <= j:\n",
    "            cnt += 1\n",
    "\n",
    "    print(f'#of families with {j} samples are {cnt}')\n",
    "    "
   ]
  },
  {
   "cell_type": "code",
   "execution_count": null,
   "metadata": {},
   "outputs": [],
   "source": [
    "top_100_val = []\n",
    "top_100_key = []\n",
    "top_100 = {}\n",
    "\n",
    "cnt_f = 0\n",
    "for k, v in sorted_dict.items():\n",
    "    if cnt_f == 100:\n",
    "        break\n",
    "    \n",
    "    top_100_val.append(v)\n",
    "    top_100_key.append(k)\n",
    "    top_100[k] = v\n",
    "    cnt_f += 1\n",
    "    "
   ]
  },
  {
   "cell_type": "code",
   "execution_count": null,
   "metadata": {},
   "outputs": [],
   "source": [
    "import pandas as pd\n",
    "#import seaborn as sns\n",
    "import matplotlib.pyplot as plt\n",
    "import seaborn as sns\n",
    "\n",
    "save_file_name = f'Top_50_families_EMBER_2018.png'\n",
    "\n",
    "sns.set(rc={'figure.figsize':(30, 12)})\n",
    "\n",
    "plt.bar(top_100_key[:50], top_100_val[:50], color='blue')\n",
    "plt.xticks(rotation=90, fontsize=25);\n",
    "plt.yticks(fontsize=25);\n",
    "plt.xlabel(f'Top 50 Malware Families', fontsize=25)\n",
    "plt.ylabel(f'#of Samples', fontsize=25)\n",
    " \n",
    "# title of plot\n",
    "plt.title(f'EMBER 2018 - Top 50 Malware Families in the Dataset', fontsize=30);\n",
    "\n",
    "#plt.grid(True, linestyle='--', linewidth=1.)\n",
    "plt.savefig('./figures/' + save_file_name,\n",
    "                bbox_inches='tight');"
   ]
  },
  {
   "cell_type": "code",
   "execution_count": null,
   "metadata": {},
   "outputs": [],
   "source": []
  },
  {
   "cell_type": "code",
   "execution_count": null,
   "metadata": {},
   "outputs": [],
   "source": []
  },
  {
   "cell_type": "code",
   "execution_count": null,
   "metadata": {},
   "outputs": [],
   "source": [
    "# Add exemplars (if available) to current dataset (if requested)\n",
    "if add_exemplars and task>1:\n",
    "    target_transform = (lambda y, x=classes_per_task: y%x) if scenario==\"domain\" else None\n",
    "    exemplar_dataset = ExemplarDataset(model.exemplar_sets, target_transform=target_transform)\n",
    "    training_dataset = ConcatDataset([train_dataset, exemplar_dataset])\n",
    "else:\n",
    "    training_dataset = train_dataset\n",
    "\n",
    "\n",
    "# <CL Training Procedure>\n",
    "\n",
    "\n",
    "\n",
    "# EXEMPLARS: update exemplar sets\n",
    "if (add_exemplars or use_exemplars) or replay_mode==\"exemplars\":\n",
    "    exemplars_per_class = int(np.floor(model.memory_budget / (classes_per_task*task)))\n",
    "    # reduce examplar-sets\n",
    "    model.reduce_exemplar_sets(exemplars_per_class)\n",
    "    # for each new class trained on, construct examplar-set\n",
    "    new_classes = list(range(classes_per_task)) if scenario==\"domain\" else list(range(classes_per_task*(task-1),\n",
    "                                                                                      classes_per_task*task))\n",
    "    for class_id in new_classes:\n",
    "        # create new dataset containing only all examples of this class\n",
    "        class_dataset = SubDataset(original_dataset=train_dataset, \n",
    "                                   orig_length_features=2492,\\\n",
    "                                   target_length_features=2500,\\\n",
    "                                   sub_labels=[class_id])\n",
    "        # based on this dataset, construct new exemplar-set for this class\n",
    "        model.construct_exemplar_set(dataset=class_dataset, n=exemplars_per_class)\n",
    "    model.compute_means = True"
   ]
  },
  {
   "cell_type": "code",
   "execution_count": null,
   "metadata": {},
   "outputs": [],
   "source": []
  },
  {
   "cell_type": "code",
   "execution_count": null,
   "metadata": {},
   "outputs": [],
   "source": []
  },
  {
   "cell_type": "code",
   "execution_count": null,
   "metadata": {},
   "outputs": [],
   "source": []
  },
  {
   "cell_type": "code",
   "execution_count": null,
   "metadata": {},
   "outputs": [],
   "source": []
  },
  {
   "cell_type": "raw",
   "metadata": {},
   "source": [
    "def vectorize(irow, raw_features_string, X_path, y_path, extractor, nrows):\n",
    "    \"\"\"\n",
    "    Vectorize a single sample of raw features and write to a large numpy file\n",
    "    \"\"\"\n",
    "    raw_features = json.loads(raw_features_string)\n",
    "    \n",
    "    feature_vector = extractor.process_raw_features(raw_features)\n",
    "\n",
    "    y = np.memmap(y_path, dtype=np.float32, mode=\"r+\", shape=nrows)\n",
    "    y[irow] = raw_features[\"label\"]\n",
    "    \n",
    "\n",
    "    X = np.memmap(X_path, dtype=np.float32, mode=\"r+\", shape=(nrows, extractor.dim))\n",
    "    X[irow] = feature_vector\n",
    "\n",
    "\n",
    "def vectorize_unpack(args):\n",
    "    \"\"\"\n",
    "    Pass through function for unpacking vectorize arguments\n",
    "    \"\"\"\n",
    "    return vectorize(*args)\n",
    "\n",
    "\n",
    "\n",
    "def create_parent_folder(file_path):\n",
    "    if not os.path.exists(os.path.dirname(file_path)):\n",
    "        os.makedirs(os.path.dirname(file_path))\n",
    "        \n",
    "def raw_feature_iterator(file_paths, task_months):\n",
    "    \"\"\"\n",
    "    Yield raw feature strings from the inputed file paths\n",
    "    \"\"\"\n",
    "    for path in file_paths:\n",
    "        with open(path, \"r\") as fin:\n",
    "            for line in fin:\n",
    "                raw_features = json.loads(line)\n",
    "                if raw_features['appeared'] in task_months:\n",
    "                    yield line\n",
    "\n",
    "\n",
    "def task_based_vectorize_subset(X_path, y_path, raw_feature_paths, task_months, extractor, nrows):\n",
    "    \"\"\"\n",
    "    Vectorize a subset of data and write it to disk\n",
    "    \"\"\"\n",
    "    # Create space on disk to write features to\n",
    "    X = np.memmap(X_path, dtype=np.float32, mode=\"w+\", shape=(nrows, extractor.dim))\n",
    "    y = np.memmap(y_path, dtype=np.float32, mode=\"w+\", shape=nrows)\n",
    "\n",
    "    del X, y\n",
    "\n",
    "    # Distribute the vectorization work\n",
    "    pool = multiprocessing.Pool()\n",
    "    argument_iterator = ((irow, raw_features_string, X_path, y_path, extractor, nrows)\n",
    "                         for irow, raw_features_string in enumerate(raw_feature_iterator(raw_feature_paths, task_months)))\n",
    "    #print(argument_iterator)\n",
    "    \n",
    "    \n",
    "    for _ in tqdm.tqdm(pool.imap_unordered(vectorize_unpack, argument_iterator), total=nrows):\n",
    "        pass\n",
    "    \n",
    "    #return argument_iterator\n",
    "\n",
    "        \n",
    "def task_num_rows(raw_feature_paths, task_months):\n",
    "    cnt_rows = 0\n",
    "    \n",
    "    family_labels = []\n",
    "    \n",
    "    for fp in raw_feature_paths:\n",
    "        #print(fp)\n",
    "        with open(fp, \"r\") as fin:\n",
    "            #print(fp)\n",
    "            for line in fin:\n",
    "                raw_features = json.loads(line)\n",
    "                if raw_features['appeared'] in task_months:\n",
    "                    family_labels.append(raw_features['avclass'])\n",
    "                    cnt_rows += 1\n",
    "    return cnt_rows, family_labels\n",
    "\n",
    "\n",
    "def create_task_based_vectorized_features(data_dir, save_dir, current_task, task_months, feature_version=2):\n",
    "    \"\"\"\n",
    "    Create feature vectors from raw features and write them to disk\n",
    "    \"\"\"\n",
    "    extractor = PEFeatureExtractor(feature_version)\n",
    "    \n",
    "    print(f'Vectorizing {current_task} task data')\n",
    "    X_path = os.path.join(save_dir, \"X_train.dat\")\n",
    "    y_path = os.path.join(save_dir, \"y_train.dat\")\n",
    "    \n",
    "    #y_path_family_labels = os.path.join(save_dir, \"y_family_train.dat\")\n",
    "    \n",
    "    raw_feature_paths_base_tr = [os.path.join(data_dir, \"train_features_{}.jsonl\".format(i)) for i in range(6)]\n",
    "    raw_feature_paths_base_te = [os.path.join(data_dir, \"test_features.jsonl\")]\n",
    "    raw_feature_paths = raw_feature_paths_base_tr + raw_feature_paths_base_te\n",
    "    \n",
    "    nrows, family_labels = task_num_rows(raw_feature_paths, current_task)\n",
    "    #print(nrows)\n",
    "    \n",
    "    save_test_file = save_dir + 'task_family_labels.npz'\n",
    "    np.savez(save_test_file, family_labels=family_labels)\n",
    "    \n",
    "    \n",
    "    task_based_vectorize_subset(X_path, y_path, raw_feature_paths, current_task, extractor, nrows)\n",
    "    #argument_iterator = task_based_vectorize_subset(X_path, y_path, raw_feature_paths, task_months, extractor, nrows)\n",
    "    \n",
    "    #return argument_iterator\n",
    "\n",
    "def read_task_based_vectorized_features(save_dir, feature_version=2):\n",
    "    \"\"\"\n",
    "    Read vectorized features into memory mapped numpy arrays\n",
    "    \"\"\"\n",
    "\n",
    "    extractor = PEFeatureExtractor(feature_version)\n",
    "    ndim = extractor.dim\n",
    "    X_ = None\n",
    "    y_ = None\n",
    "\n",
    "\n",
    "    X_path = os.path.join(save_dir, \"X_train.dat\")\n",
    "    y_path = os.path.join(save_dir, \"y_train.dat\")\n",
    "    \n",
    "    y_ = np.memmap(y_path, dtype=np.float32, mode=\"r\")\n",
    "    N = y_.shape[0]\n",
    "    \n",
    "    X_ = np.memmap(X_path, dtype=np.float32, mode=\"r\", shape=(N, ndim))\n",
    "    \n",
    "    print(np.unique(y_))\n",
    "    \n",
    "    goodware_indices = []\n",
    "    malware_indices = []\n",
    "    \n",
    "    \n",
    "    for ind, i in enumerate(y_):\n",
    "        if i == 0:\n",
    "            goodware_indices.append(ind)\n",
    "        elif i == 1:\n",
    "            malware_indices.append(ind)\n",
    "        else:\n",
    "            pass\n",
    "    \n",
    "    malware_goodware_indices = goodware_indices + malware_indices\n",
    "    \n",
    "    print(len(y_[malware_goodware_indices]), len(y_[goodware_indices]), len(y_[malware_indices]))\n",
    "    \n",
    "    \n",
    "    Y_family_labels_file = save_dir + 'task_family_labels.npz'\n",
    "    Y_fam_labels_ = np.load(Y_family_labels_file)\n",
    "    Y_fam_labels = Y_fam_labels_['family_labels']\n",
    "    \n",
    "    \n",
    "    X = X_[malware_goodware_indices]\n",
    "    Y = y_[malware_goodware_indices]\n",
    "    Y_families = Y_fam_labels[malware_goodware_indices]\n",
    "    \n",
    "    indx = [i for i in range(len(Y))]\n",
    "    random.shuffle(indx)\n",
    "\n",
    "    train_size = int(len(indx)*0.9)\n",
    "    trainset = indx[:train_size]\n",
    "    testset = indx[train_size:]\n",
    "\n",
    "    # Separate the training set\n",
    "    X_train = X[trainset]\n",
    "    Y_train = Y[trainset]\n",
    "    Y_family_train = Y_families[trainset]\n",
    "\n",
    "    # Separate the test set\n",
    "    X_test = X[testset]\n",
    "    Y_test = Y[testset]\n",
    "    Y_family_test = Y_families[testset]\n",
    "    \n",
    "    \n",
    "    print(f'X_train {X_train.shape} Y_train {Y_train.shape} Y_family_train {Y_family_train.shape}\\n X_test {X_test.shape} Y_test {Y_test.shape} \\n Y_family_test {Y_family_test.shape}')\n",
    "    \n",
    "    print(f'saving files ...')\n",
    "    save_training_file = save_dir + 'XY_train.npz'\n",
    "    save_test_file = save_dir + 'XY_test.npz'\n",
    "    \n",
    "    np.savez(save_training_file, X_train=X_train, Y_train=Y_train, Y_family_train = Y_family_train)\n",
    "    np.savez(save_test_file, X_test=X_test, Y_test=Y_test, Y_family_test = Y_family_test)\n",
    "\n",
    "    \n",
    "    \n",
    "    \n",
    "    \n",
    "all_task_months = ['2018-01', '2018-02', '2018-03', '2018-04', '2018-05', '2018-06',\n",
    "                   '2018-07', '2018-08', '2018-09', '2018-10', '2018-11', '2018-12']\n",
    "\n",
    "data_dir = \"../../../ember/ember_data/2018_data/ember2018/\"\n",
    "\n",
    "for task in range(0,len(all_task_months)):\n",
    "    start_time = time.time()\n",
    "    #task = 5 + task\n",
    "    current_task = all_task_months[task]\n",
    "    task_months = all_task_months[:task+1]\n",
    "    \n",
    "    \n",
    "    save_dir = '../../ember2018/month_based_processing_with_family_labels/' + str(current_task) + '/'\n",
    "    create_parent_folder(save_dir)\n",
    "    \n",
    "    print(f'Processing data for task {current_task}')\n",
    "    #print(current_task, task_months)\n",
    "    create_task_based_vectorized_features(data_dir, save_dir, current_task, task_months, feature_version=2)\n",
    "    read_task_based_vectorized_features(save_dir, feature_version=2)\n",
    "    \n",
    "    \n",
    "    end_time = time.time()\n",
    "    \n",
    "    print(f'Elapsed time {(end_time - start_time)/60} mins.')    "
   ]
  }
 ],
 "metadata": {
  "kernelspec": {
   "display_name": "PyTorch",
   "language": "python",
   "name": "pytorch"
  },
  "language_info": {
   "codemirror_mode": {
    "name": "ipython",
    "version": 3
   },
   "file_extension": ".py",
   "mimetype": "text/x-python",
   "name": "python",
   "nbconvert_exporter": "python",
   "pygments_lexer": "ipython3",
   "version": "3.7.9"
  }
 },
 "nbformat": 4,
 "nbformat_minor": 4
}
