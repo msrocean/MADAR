{
 "cells": [
  {
   "cell_type": "code",
   "execution_count": 48,
   "metadata": {},
   "outputs": [],
   "source": [
    "import numpy as np\n",
    "import pandas as pd\n",
    "import matplotlib.pyplot as plt\n",
    "#import seaborn as sns\n",
    "import random\n",
    "import os"
   ]
  },
  {
   "cell_type": "code",
   "execution_count": 4,
   "metadata": {},
   "outputs": [
    {
     "name": "stdout",
     "output_type": "stream",
     "text": [
      "(134435, 2381) (134435,)\n"
     ]
    }
   ],
   "source": [
    "data_path = '../../../BODMAS_DATA/'\n",
    "\n",
    "filename = data_path + 'bodmas.npz'\n",
    "data = np.load(filename)\n",
    "X = data['X']  # all the feature vectors\n",
    "y = data['y']  # labels, 0 as benign, 1 as malicious\n",
    "\n",
    "print(X.shape, y.shape)\n",
    "# >>> (134435, 2381), (134435,)"
   ]
  },
  {
   "cell_type": "code",
   "execution_count": 7,
   "metadata": {},
   "outputs": [
    {
     "data": {
      "text/plain": [
       "['X', 'y']"
      ]
     },
     "execution_count": 7,
     "metadata": {},
     "output_type": "execute_result"
    }
   ],
   "source": [
    "data.files"
   ]
  },
  {
   "cell_type": "code",
   "execution_count": 4,
   "metadata": {},
   "outputs": [],
   "source": [
    "# bodmas_malware_category.csv\n",
    "# bodmas_metadata.csv"
   ]
  },
  {
   "cell_type": "code",
   "execution_count": 8,
   "metadata": {},
   "outputs": [
    {
     "name": "stdout",
     "output_type": "stream",
     "text": [
      "Index(['sha', 'timestamp', 'family'], dtype='object')\n",
      "Index(['sha256', 'category'], dtype='object')\n"
     ]
    }
   ],
   "source": [
    "metadata = pd.read_csv(data_path + 'bodmas_metadata.csv')\n",
    "print(metadata.keys())\n",
    "\n",
    "malwareCategory = pd.read_csv(data_path + 'bodmas_malware_category.csv')\n",
    "print(malwareCategory.keys())"
   ]
  },
  {
   "cell_type": "code",
   "execution_count": 10,
   "metadata": {},
   "outputs": [],
   "source": [
    "shas = np.array(metadata['sha'])\n",
    "appear_time = np.array(metadata['timestamp'])\n",
    "family_labels = np.array(metadata['family'])"
   ]
  },
  {
   "cell_type": "code",
   "execution_count": 11,
   "metadata": {},
   "outputs": [
    {
     "data": {
      "text/plain": [
       "array([nan, nan, nan, ..., 'autoit', 'autoit', 'autoit'], dtype=object)"
      ]
     },
     "execution_count": 11,
     "metadata": {},
     "output_type": "execute_result"
    }
   ],
   "source": [
    "family_labels"
   ]
  },
  {
   "cell_type": "code",
   "execution_count": 30,
   "metadata": {},
   "outputs": [
    {
     "name": "stdout",
     "output_type": "stream",
     "text": [
      "goodware 77142 malware 57293\n"
     ]
    }
   ],
   "source": [
    "cnt_gd = 0\n",
    "cnt_mal = 0\n",
    "\n",
    "testlabels = []\n",
    "\n",
    "for k in family_labels:\n",
    "    if type(k) == float:\n",
    "        cnt_gd += 1\n",
    "        testlabels.append(0)\n",
    "    else:\n",
    "        cnt_mal += 1\n",
    "        testlabels.append(1)\n",
    "print(f'goodware {cnt_gd} malware {cnt_mal}')"
   ]
  },
  {
   "cell_type": "code",
   "execution_count": 31,
   "metadata": {},
   "outputs": [],
   "source": [
    "testlabels = np.array(testlabels)"
   ]
  },
  {
   "cell_type": "code",
   "execution_count": 34,
   "metadata": {},
   "outputs": [],
   "source": [
    "t = appear_time[0]\n",
    "tt = t.split(' ')[0].split('-')[:-1]\n",
    "month = tt[0] + '-' + tt[1]"
   ]
  },
  {
   "cell_type": "code",
   "execution_count": 36,
   "metadata": {},
   "outputs": [
    {
     "data": {
      "text/plain": [
       "str"
      ]
     },
     "execution_count": 36,
     "metadata": {},
     "output_type": "execute_result"
    }
   ],
   "source": [
    "type(month)"
   ]
  },
  {
   "cell_type": "code",
   "execution_count": 49,
   "metadata": {},
   "outputs": [
    {
     "name": "stdout",
     "output_type": "stream",
     "text": [
      "task 2019-08 good 3371 mal 680\n",
      "\n",
      "saving data for task 2019-08\n",
      "data saved ...\n",
      "task 2019-09 good 3463 mal 4061\n",
      "\n",
      "saving data for task 2019-09\n",
      "data saved ...\n",
      "task 2019-10 good 3925 mal 4549\n",
      "\n",
      "saving data for task 2019-10\n",
      "data saved ...\n",
      "task 2019-11 good 3718 mal 2494\n",
      "\n",
      "saving data for task 2019-11\n",
      "data saved ...\n",
      "task 2019-12 good 6120 mal 4039\n",
      "\n",
      "saving data for task 2019-12\n",
      "data saved ...\n",
      "task 2020-01 good 5926 mal 4510\n",
      "\n",
      "saving data for task 2020-01\n",
      "data saved ...\n",
      "task 2020-02 good 3703 mal 4269\n",
      "\n",
      "saving data for task 2020-02\n",
      "data saved ...\n",
      "task 2020-03 good 3577 mal 4990\n",
      "\n",
      "saving data for task 2020-03\n",
      "data saved ...\n",
      "task 2020-04 good 5201 mal 4640\n",
      "\n",
      "saving data for task 2020-04\n",
      "data saved ...\n",
      "task 2020-05 good 6121 mal 5449\n",
      "\n",
      "saving data for task 2020-05\n",
      "data saved ...\n",
      "task 2020-06 good 8182 mal 4217\n",
      "\n",
      "saving data for task 2020-06\n",
      "data saved ...\n",
      "task 2020-07 good 6392 mal 4995\n",
      "\n",
      "saving data for task 2020-07\n",
      "data saved ...\n",
      "task 2020-08 good 2514 mal 3823\n",
      "\n",
      "saving data for task 2020-08\n",
      "data saved ...\n",
      "task 2020-09 good 4198 mal 4577\n",
      "\n",
      "saving data for task 2020-09\n",
      "data saved ...\n"
     ]
    }
   ],
   "source": [
    "def create_parent_folder(file_path):\n",
    "    if not os.path.exists(os.path.dirname(file_path)):\n",
    "        os.makedirs(os.path.dirname(file_path))\n",
    "\n",
    "task_months = ['2019-08', '2019-09', '2019-10', '2019-11', '2019-12',\\\n",
    "                '2020-01', '2020-02', '2020-03', '2020-04', '2020-05',\\\n",
    "                '2020-06', '2020-07', '2020-08', '2020-09']\n",
    "\n",
    "task_family_dict_mal = {}\n",
    "task_family_dict_good = {}\n",
    "\n",
    "\n",
    "first_3 = ['2019-08', '2019-09', '2019-10']\n",
    "\n",
    "for tm in task_months:\n",
    "    task_X = []\n",
    "    task_Y = []\n",
    "    task_F = []\n",
    "    \n",
    "    task_goodX = 0\n",
    "    task_malX = 0\n",
    "    for ind, family in enumerate(family_labels):\n",
    "        t = appear_time[ind]\n",
    "        tt = t.split(' ')[0].split('-')[:-1]\n",
    "        month = tt[0] + '-' + tt[1]\n",
    "        \n",
    "        if month == tm:\n",
    "            getx = X[ind]\n",
    "            gety = y[ind]\n",
    "        \n",
    "            if gety == 0:\n",
    "                task_goodX += 1\n",
    "                task_F.append('goodware')\n",
    "            else:\n",
    "                task_malX += 1\n",
    "                task_F.append(family)\n",
    "\n",
    "            task_X.append(getx)\n",
    "            task_Y.append(gety)\n",
    "    \n",
    "    print(f'task {tm} good {task_goodX} mal {task_malX}')\n",
    "    \n",
    "    \n",
    "    task_X, task_Y, task_F = np.array(task_X), np.array(task_Y), np.array(task_F)\n",
    "    \n",
    "    print()\n",
    "    print(f'saving data for task {tm}')\n",
    "    indx = [i for i in range(len(task_Y))]\n",
    "    random.shuffle(indx)\n",
    "\n",
    "    train_size = int(len(indx)*0.9)\n",
    "    trainset = indx[:train_size]\n",
    "    testset = indx[train_size:]    \n",
    "    \n",
    "    # Separate the training set\n",
    "    task_X_train = task_X[trainset]\n",
    "    task_Y_train = task_Y[trainset]\n",
    "    task_F_train = task_F[trainset]\n",
    "    \n",
    "    # Separate the test set\n",
    "    task_X_test = task_X[testset]\n",
    "    task_Y_test = task_Y[testset] \n",
    "    task_F_test = task_F[testset]\n",
    "    \n",
    "    savedir = data_path + 'BODMASbyMonth/' + str(tm) + '/'\n",
    "    create_parent_folder(savedir)\n",
    "    save_training_file = savedir + 'XYF_train.npz'\n",
    "    save_test_file = savedir + 'XYF_test.npz'\n",
    "    \n",
    "    np.savez(save_training_file, X_train=task_X_train, Y_train=task_Y_train, Y_family=task_F_train)\n",
    "    np.savez(save_test_file, X_test=task_X_test, Y_test=task_Y_test, Y_family=task_F_test)\n",
    "    \n",
    "    print(f'data saved ...')"
   ]
  },
  {
   "cell_type": "code",
   "execution_count": null,
   "metadata": {},
   "outputs": [],
   "source": [
    "def create_parent_folder(file_path):\n",
    "    if not os.path.exists(os.path.dirname(file_path)):\n",
    "        os.makedirs(os.path.dirname(file_path))\n",
    "\n",
    "first_3 = ['2019-08', '2019-09', '2019-10']\n",
    "\n",
    "\n",
    "task_X = []\n",
    "task_Y = []\n",
    "task_F = []\n",
    "task_goodX = 0\n",
    "task_malX = 0\n",
    "\n",
    "for tm in first_3:\n",
    "    for ind, family in enumerate(family_labels):\n",
    "        t = appear_time[ind]\n",
    "        tt = t.split(' ')[0].split('-')[:-1]\n",
    "        month = tt[0] + '-' + tt[1]\n",
    "        \n",
    "        if month == tm:\n",
    "            getx = X[ind]\n",
    "            gety = y[ind]\n",
    "        \n",
    "            if gety == 0:\n",
    "                task_goodX += 1\n",
    "                task_F.append('goodware')\n",
    "            else:\n",
    "                task_malX += 1\n",
    "                task_F.append(family)\n",
    "\n",
    "            task_X.append(getx)\n",
    "            task_Y.append(gety)\n",
    "    \n",
    "    print(f'task {tm} good {task_goodX} mal {task_malX}')\n",
    "    \n",
    "    \n",
    "    task_X, task_Y, task_F = np.array(task_X), np.array(task_Y), np.array(task_F)\n",
    "    \n",
    "    print()\n",
    "    print(f'saving data for task {tm}')\n",
    "    indx = [i for i in range(len(task_Y))]\n",
    "    random.shuffle(indx)\n",
    "\n",
    "    train_size = int(len(indx)*0.9)\n",
    "    trainset = indx[:train_size]\n",
    "    testset = indx[train_size:]    \n",
    "    \n",
    "    # Separate the training set\n",
    "    task_X_train = task_X[trainset]\n",
    "    task_Y_train = task_Y[trainset]\n",
    "    task_F_train = task_F[trainset]\n",
    "    \n",
    "    # Separate the test set\n",
    "    task_X_test = task_X[testset]\n",
    "    task_Y_test = task_Y[testset] \n",
    "    task_F_test = task_F[testset]\n",
    "    \n",
    "    savedir = data_path + 'BODMASbyMonth/' + str(tm) + '/'\n",
    "    create_parent_folder(savedir)\n",
    "    save_training_file = savedir + 'XYF_train.npz'\n",
    "    save_test_file = savedir + 'XYF_test.npz'\n",
    "    \n",
    "    np.savez(save_training_file, X_train=task_X_train, Y_train=task_Y_train, Y_family=task_F_train)\n",
    "    np.savez(save_test_file, X_test=task_X_test, Y_test=task_Y_test, Y_family=task_F_test)\n",
    "    \n",
    "    print(f'data saved ...')"
   ]
  },
  {
   "cell_type": "code",
   "execution_count": 37,
   "metadata": {},
   "outputs": [
    {
     "name": "stdout",
     "output_type": "stream",
     "text": [
      "77142 57293\n"
     ]
    }
   ],
   "source": [
    "task_family_dict_mal = {}\n",
    "task_family_dict_good = {}\n",
    "\n",
    "malval = 0\n",
    "goodval = 0\n",
    "for ind, family in enumerate(family_labels):\n",
    "    if type(family) != float:\n",
    "        malval += 1\n",
    "        t = appear_time[ind]\n",
    "        tt = t.split(' ')[0].split('-')[:-1]\n",
    "        month = tt[0] + '-' + tt[1]\n",
    "        #print(month)\n",
    "        family_sha = shas[ind]\n",
    "        if month not in task_family_dict_mal.keys():\n",
    "            task_family_dict_mal[month] = [(family, family_sha, ind)]\n",
    "        else:\n",
    "            task_family_dict_mal[month].append((family, family_sha, ind))\n",
    "    else:\n",
    "        goodval += 1\n",
    "        t = appear_time[ind]\n",
    "        tt = t.split(' ')[0].split('-')[:-1]\n",
    "        month = tt[0] + '-' + tt[1]\n",
    "        #print(month)\n",
    "        family = 'goodware'\n",
    "        family_sha = shas[ind]\n",
    "        if month not in task_family_dict_good.keys():\n",
    "            task_family_dict_good[month] = [(family, family_sha, ind)]\n",
    "        else:\n",
    "            task_family_dict_good[month].append((family, family_sha, ind))\n",
    "print(goodval, malval)"
   ]
  },
  {
   "cell_type": "code",
   "execution_count": 38,
   "metadata": {},
   "outputs": [
    {
     "name": "stdout",
     "output_type": "stream",
     "text": [
      "task month 2019-08 num_samples 3371\n",
      "task month 2019-09 num_samples 3463\n",
      "task month 2019-10 num_samples 3925\n",
      "task month 2019-11 num_samples 3718\n",
      "task month 2019-12 num_samples 6120\n",
      "task month 2020-01 num_samples 5926\n",
      "task month 2020-02 num_samples 3703\n",
      "task month 2020-03 num_samples 3577\n",
      "task month 2020-04 num_samples 5201\n",
      "task month 2020-05 num_samples 6121\n",
      "task month 2020-06 num_samples 8182\n",
      "task month 2020-07 num_samples 6392\n",
      "task month 2020-08 num_samples 2514\n",
      "task month 2020-09 num_samples 4198\n",
      "[3371, 3463, 3925, 3718, 6120, 5926, 3703, 3577, 5201, 6121, 8182, 6392, 2514, 4198]\n"
     ]
    }
   ],
   "source": [
    "cnt_good_samples = 0\n",
    "\n",
    "good_samples = []\n",
    "\n",
    "final_task_family_dict_good = {}\n",
    "\n",
    "for k, v in task_family_dict_good.items():\n",
    "    if k in task_family_dict_mal.keys():\n",
    "        final_task_family_dict_good[k] = v\n",
    "        good_samples.append(len(v))\n",
    "        #cnt_good_samples += len(v)\n",
    "        print(f'task month {k} num_samples {len(v)}')\n",
    "#print(cnt_good_samples)\n",
    "#good_samples = np.array(good_samples)\n",
    "\n",
    "print(good_samples)"
   ]
  },
  {
   "cell_type": "code",
   "execution_count": 41,
   "metadata": {},
   "outputs": [
    {
     "data": {
      "text/plain": [
       "(66411, 57293)"
      ]
     },
     "execution_count": 41,
     "metadata": {},
     "output_type": "execute_result"
    }
   ],
   "source": [
    "sum(good_samples), sum(mal_samples)"
   ]
  },
  {
   "cell_type": "code",
   "execution_count": 163,
   "metadata": {},
   "outputs": [
    {
     "name": "stdout",
     "output_type": "stream",
     "text": [
      "task month 2019-08 num_samples 3371\n",
      "task month 2019-09 num_samples 3463\n",
      "task month 2019-10 num_samples 3925\n",
      "task month 2019-11 num_samples 3718\n",
      "task month 2019-12 num_samples 6120\n",
      "task month 2020-01 num_samples 5926\n",
      "task month 2020-02 num_samples 3703\n",
      "task month 2020-03 num_samples 3577\n",
      "task month 2020-04 num_samples 5201\n",
      "task month 2020-05 num_samples 6121\n",
      "task month 2020-06 num_samples 8182\n",
      "task month 2020-07 num_samples 6392\n",
      "task month 2020-08 num_samples 2514\n",
      "task month 2020-09 num_samples 4198\n",
      "[3371, 3463, 3925, 3718, 6120, 5926, 3703, 3577, 5201, 6121, 8182, 6392, 2514, 4198]\n"
     ]
    }
   ],
   "source": [
    "cnt_good_samples = 0\n",
    "\n",
    "good_samples = []\n",
    "\n",
    "final_task_family_dict_good = {}\n",
    "\n",
    "for k, v in task_family_dict_good.items():\n",
    "    if k in task_family_dict_mal.keys():\n",
    "        final_task_family_dict_good[k] = v\n",
    "        good_samples.append(len(v))\n",
    "        #cnt_good_samples += len(v)\n",
    "        print(f'task month {k} num_samples {len(v)}')\n",
    "#print(cnt_good_samples)\n",
    "#good_samples = np.array(good_samples)\n",
    "\n",
    "print(good_samples)"
   ]
  },
  {
   "cell_type": "code",
   "execution_count": 164,
   "metadata": {},
   "outputs": [
    {
     "data": {
      "text/plain": [
       "dict_keys(['2019-08', '2019-09', '2019-10', '2019-11', '2019-12', '2020-01', '2020-02', '2020-03', '2020-04', '2020-05', '2020-06', '2020-07', '2020-08', '2020-09'])"
      ]
     },
     "execution_count": 164,
     "metadata": {},
     "output_type": "execute_result"
    }
   ],
   "source": [
    "final_task_family_dict_good.keys()"
   ]
  },
  {
   "cell_type": "code",
   "execution_count": 118,
   "metadata": {},
   "outputs": [
    {
     "data": {
      "text/plain": [
       "10731"
      ]
     },
     "execution_count": 118,
     "metadata": {},
     "output_type": "execute_result"
    }
   ],
   "source": [
    "77142 - 66411"
   ]
  },
  {
   "cell_type": "code",
   "execution_count": 40,
   "metadata": {},
   "outputs": [
    {
     "name": "stdout",
     "output_type": "stream",
     "text": [
      "task month 2019-08 num_samples 680\n",
      "task month 2019-09 num_samples 4061\n",
      "task month 2019-10 num_samples 4549\n",
      "task month 2019-11 num_samples 2494\n",
      "task month 2019-12 num_samples 4039\n",
      "task month 2020-01 num_samples 4510\n",
      "task month 2020-02 num_samples 4269\n",
      "task month 2020-03 num_samples 4990\n",
      "task month 2020-04 num_samples 4640\n",
      "task month 2020-05 num_samples 5449\n",
      "task month 2020-06 num_samples 4217\n",
      "task month 2020-07 num_samples 4995\n",
      "task month 2020-08 num_samples 3823\n",
      "task month 2020-09 num_samples 4577\n",
      "[680, 4061, 4549, 2494, 4039, 4510, 4269, 4990, 4640, 5449, 4217, 4995, 3823, 4577]\n"
     ]
    }
   ],
   "source": [
    "cnt_mal_samples = 0\n",
    "mal_samples = []\n",
    "for k, v in task_family_dict_mal.items():\n",
    "    print(f'task month {k} num_samples {len(v)}')\n",
    "    mal_samples.append(len(v))\n",
    "#     cnt_mal_samples += len(v)\n",
    "# print(cnt_mal_samples)\n",
    "\n",
    "# mal_samples = np.array(mal_samples)\n",
    "\n",
    "print(mal_samples)"
   ]
  },
  {
   "cell_type": "code",
   "execution_count": 136,
   "metadata": {},
   "outputs": [],
   "source": [
    "task_months = ['2019-08', '2019-09', '2019-10', '2019-11', '2019-12',\\\n",
    "               '2020-01', '2020-02', '2020-03', '2020-04', '2020-05',\\\n",
    "               '2020-06', '2020-07', '2020-08', '2020-09']"
   ]
  },
  {
   "cell_type": "code",
   "execution_count": null,
   "metadata": {},
   "outputs": [],
   "source": []
  },
  {
   "cell_type": "code",
   "execution_count": 133,
   "metadata": {},
   "outputs": [
    {
     "data": {
      "image/png": "[encoded data removed]",
      "text/plain": [
       "<Figure size 1296x432 with 1 Axes>"
      ]
     },
     "metadata": {
      "needs_background": "light"
     },
     "output_type": "display_data"
    }
   ],
   "source": [
    "# BODMAS data\n",
    "\n",
    "good_samples = np.array([3371, 3463, 3925, 3718, 6120, 5926, 3703, 3577, 5201, 6121, 8182, 6392, 2514, 4198])\n",
    "\n",
    "mal_samples = np.array([680, 4061, 4549, 2494, 4039, 4510, 4269, 4990, 4640, 5449, 4217, 4995, 3823, 4577])\n",
    "\n",
    "\n",
    "months = ['Aug-19', 'Sep-19', 'Oct-19', 'Nov-19', 'Dec-19',\\\n",
    "          'Jan-20', 'Feb-20', 'Mar-20', 'Apr-20', 'May-20', 'Jun-20' ,'Jul-20', 'Aug-20', 'Sep-20']\n",
    "ind = np.array([0, 1, 2, 3, 4, 5, 6, 7, 8, 9, 10, 11, 12, 13])\n",
    "\n",
    "plt.figure(figsize=(18, 6))\n",
    "plt.bar(ind-0.2, good_samples, 0.4, color='green',label = r'Goodware')\n",
    "plt.bar(ind+0.2, mal_samples, 0.4, color='red', label = r'Malware',)\n",
    "\n",
    "plt.yticks(fontsize=16)\n",
    "plt.legend(loc='best', fontsize=16)\n",
    "plt.ylabel(\"Number of Samples\", size=16)\n",
    "plt.xlabel(\"Incremental Month \", size=16)\n",
    "plt.xticks([0, 1, 2, 3, 4, 5, 6, 7, 8, 9, 10, 11, 12, 13],\\\n",
    "           ['Aug-19', 'Sep-19', 'Oct-19', 'Nov-19', 'Dec-19',\\\n",
    "          'Jan-20', 'Feb-20', 'Mar-20', 'Apr-20', 'May-20', 'Jun-20' ,'Jul-20', 'Aug-20', 'Sep-20'], fontsize=14, fontweight ='bold'); \n",
    "plt.grid(True)\n",
    "\n",
    "plt.savefig('./figs_proposal/BODMAS_Aug_19_Sep_20.pdf',\n",
    "                bbox_inches='tight', \n",
    "               transparent=True);"
   ]
  },
  {
   "cell_type": "code",
   "execution_count": 139,
   "metadata": {},
   "outputs": [],
   "source": [
    "\n",
    "family_samples_count = {}\n",
    "for k, v in task_family_dict_mal.items():\n",
    "    for sample in v:\n",
    "        fam = sample[0]\n",
    "        \n",
    "        if fam not in family_samples_count.keys():\n",
    "            family_samples_count[fam] = 1\n",
    "        else:\n",
    "            family_samples_count[fam] += 1\n",
    "    "
   ]
  },
  {
   "cell_type": "code",
   "execution_count": 145,
   "metadata": {},
   "outputs": [
    {
     "name": "stdout",
     "output_type": "stream",
     "text": [
      "582 57293\n"
     ]
    }
   ],
   "source": [
    "#len(family_samples_count.keys())\n",
    "\n",
    "cnt_fm = 0\n",
    "cnt_sm = 0\n",
    "for k, v in family_samples_count.items():\n",
    "    cnt_fm += 1\n",
    "    cnt_sm += v\n",
    "print(cnt_fm, cnt_sm)"
   ]
  },
  {
   "cell_type": "code",
   "execution_count": 148,
   "metadata": {},
   "outputs": [],
   "source": [
    "sorted_mal_dict = dict(sorted(family_samples_count.items(), key=lambda item: item[1], reverse=True))"
   ]
  },
  {
   "cell_type": "code",
   "execution_count": 153,
   "metadata": {},
   "outputs": [
    {
     "name": "stdout",
     "output_type": "stream",
     "text": [
      "minium_samples 1 - num_family 198\n",
      "minium_samples 5 - num_family 339\n",
      "minium_samples 10 - num_family 397\n",
      "minium_samples 50 - num_family 497\n",
      "minium_samples 100 - num_family 525\n",
      "minium_samples 500 - num_family 555\n",
      "minium_samples 1000 - num_family 568\n"
     ]
    }
   ],
   "source": [
    "\n",
    "min_samples = [1, 5, 10, 50, 100, 500, 1000]\n",
    "\n",
    "for m in min_samples:\n",
    "    cnt_m = 0\n",
    "    for k, v in sorted_mal_dict.items():\n",
    "        if m == 1:\n",
    "            if v == m:\n",
    "                cnt_m += 1\n",
    "        else:\n",
    "            if v <= m:\n",
    "                cnt_m += 1\n",
    "    print(f'minium_samples {m} - num_family {cnt_m}')\n",
    "            \n",
    "        "
   ]
  },
  {
   "cell_type": "code",
   "execution_count": 149,
   "metadata": {},
   "outputs": [],
   "source": [
    "mal_counts = sorted_mal_dict.values()"
   ]
  },
  {
   "cell_type": "code",
   "execution_count": 150,
   "metadata": {},
   "outputs": [
    {
     "data": {
      "text/plain": [
       "[<matplotlib.lines.Line2D at 0x7fedddb22dd0>]"
      ]
     },
     "execution_count": 150,
     "metadata": {},
     "output_type": "execute_result"
    },
    {
     "data": {
      "image/png": "[encoded data removed]",
      "text/plain": [
       "<Figure size 432x288 with 1 Axes>"
      ]
     },
     "metadata": {
      "needs_background": "light"
     },
     "output_type": "display_data"
    }
   ],
   "source": [
    "plt.plot(mal_counts)"
   ]
  },
  {
   "cell_type": "code",
   "execution_count": 168,
   "metadata": {},
   "outputs": [
    {
     "name": "stdout",
     "output_type": "stream",
     "text": [
      "123704\n"
     ]
    }
   ],
   "source": [
    "#final_task_family_dict_good, task_family_dict_mal\n",
    "\n",
    "all_sample_inx = []\n",
    "\n",
    "for k, v in final_task_family_dict_good.items():\n",
    "    for i in v:\n",
    "        all_sample_inx.append(i[2])\n",
    "\n",
    "\n",
    "for k, v in task_family_dict_mal.items():\n",
    "    for i in v:\n",
    "        all_sample_inx.append(i[2])\n",
    "        \n",
    "        \n",
    "print(len(all_sample_inx))"
   ]
  },
  {
   "cell_type": "code",
   "execution_count": 169,
   "metadata": {},
   "outputs": [],
   "source": [
    "X_all = X[all_sample_inx]\n",
    "Y_all = y[all_sample_inx]\n",
    "\n",
    "\n"
   ]
  },
  {
   "cell_type": "code",
   "execution_count": 171,
   "metadata": {},
   "outputs": [],
   "source": [
    "from sklearn.utils import shuffle\n",
    "\n",
    "\n",
    "X_all, Y_all = shuffle(X_all, Y_all)"
   ]
  },
  {
   "cell_type": "code",
   "execution_count": 174,
   "metadata": {},
   "outputs": [],
   "source": [
    "#np.savez_compressed(data_path + 'XY_processed.npz', X=X_all, Y=Y_all)"
   ]
  }
 ],
 "metadata": {
  "kernelspec": {
   "display_name": "PyTorch",
   "language": "python",
   "name": "pytorch"
  },
  "language_info": {
   "codemirror_mode": {
    "name": "ipython",
    "version": 3
   },
   "file_extension": ".py",
   "mimetype": "text/x-python",
   "name": "python",
   "nbconvert_exporter": "python",
   "pygments_lexer": "ipython3",
   "version": "3.7.9"
  }
 },
 "nbformat": 4,
 "nbformat_minor": 4
}
