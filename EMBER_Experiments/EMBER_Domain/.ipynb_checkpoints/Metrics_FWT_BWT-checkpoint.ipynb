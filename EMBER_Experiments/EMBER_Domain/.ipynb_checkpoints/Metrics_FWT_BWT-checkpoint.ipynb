{
 "cells": [
  {
   "cell_type": "code",
   "execution_count": 1,
   "metadata": {},
   "outputs": [],
   "source": [
    "import numpy as np"
   ]
  },
  {
   "cell_type": "code",
   "execution_count": 11,
   "metadata": {},
   "outputs": [],
   "source": [
    "\n",
    "resultsTest = np.load('./Submission_Domain/grs_joint_results.npz')"
   ]
  },
  {
   "cell_type": "code",
   "execution_count": 8,
   "metadata": {},
   "outputs": [
    {
     "data": {
      "text/plain": [
       "['task_accs', 'num_task']"
      ]
     },
     "execution_count": 8,
     "metadata": {},
     "output_type": "execute_result"
    }
   ],
   "source": [
    "resultsTest.files"
   ]
  },
  {
   "cell_type": "code",
   "execution_count": 12,
   "metadata": {},
   "outputs": [],
   "source": [
    "accs = resultsTest['task_accs']\n",
    "tasks = resultsTest['num_task']"
   ]
  },
  {
   "cell_type": "code",
   "execution_count": 19,
   "metadata": {},
   "outputs": [
    {
     "data": {
      "text/plain": [
       "array([ 0,  0,  1,  2,  3,  4,  5,  6,  7,  8,  9, 10, 11])"
      ]
     },
     "execution_count": 19,
     "metadata": {},
     "output_type": "execute_result"
    }
   ],
   "source": [
    "tasks"
   ]
  },
  {
   "cell_type": "code",
   "execution_count": 21,
   "metadata": {},
   "outputs": [
    {
     "data": {
      "text/plain": [
       "array([[0.50812501, 0.50812703, 0.50132436, 0.51775771, 0.5037021 ,\n",
       "        0.50258213, 0.51565236, 0.4983491 , 0.50251263, 0.50076085,\n",
       "        0.50575   , 0.51229167],\n",
       "       [0.68664584, 0.54931659, 0.60943896, 0.54021883, 0.52656794,\n",
       "        0.50630033, 0.48629203, 0.49856922, 0.5020394 , 0.50073986,\n",
       "        0.49604169, 0.49533333],\n",
       "       [0.74177083, 0.72774285, 0.71394169, 0.76924556, 0.75348431,\n",
       "        0.70336705, 0.74509043, 0.72925377, 0.70312244, 0.68299994,\n",
       "        0.7105417 , 0.67833337],\n",
       "       [0.75939584, 0.78278536, 0.73850226, 0.64004606, 0.75195992,\n",
       "        0.69613713, 0.72447985, 0.71868807, 0.68232191, 0.68672734,\n",
       "        0.68091667, 0.66183335],\n",
       "       [0.85920835, 0.85408199, 0.82687211, 0.84507585, 0.85104531,\n",
       "        0.81429458, 0.85650396, 0.81620073, 0.81744075, 0.73302233,\n",
       "        0.78175002, 0.77504167],\n",
       "       [0.88091666, 0.87957144, 0.84830242, 0.88711846, 0.89416379,\n",
       "        0.86159885, 0.88936418, 0.85340083, 0.85698977, 0.76411948,\n",
       "        0.81483334, 0.83004168],\n",
       "       [0.91612503, 0.89970446, 0.88634717, 0.92493761, 0.91223866,\n",
       "        0.88266885, 0.90608591, 0.88157606, 0.8635731 , 0.77145123,\n",
       "        0.82791668, 0.83029169],\n",
       "       [0.93458334, 0.91115624, 0.90199852, 0.92340183, 0.92530489,\n",
       "        0.91510016, 0.93739063, 0.89214176, 0.86379933, 0.84305134,\n",
       "        0.87258336, 0.85958335],\n",
       "       [0.92329168, 0.91817504, 0.90898144, 0.92800921, 0.93401569,\n",
       "        0.91985124, 0.94069606, 0.90512878, 0.8893216 , 0.85691813,\n",
       "        0.885625  , 0.86591667],\n",
       "       [0.91416666, 0.91503507, 0.90031302, 0.92935306, 0.94229096,\n",
       "        0.91985124, 0.94652927, 0.92383885, 0.92145395, 0.87976456,\n",
       "        0.89187503, 0.87200001],\n",
       "       [0.93343753, 0.92611742, 0.91740906, 0.94163948, 0.94163764,\n",
       "        0.92088413, 0.9498347 , 0.91723531, 0.90684837, 0.91948479,\n",
       "        0.91133335, 0.89425004],\n",
       "       [0.93054169, 0.93110448, 0.91500115, 0.94279134, 0.93858886,\n",
       "        0.9303863 , 0.95411235, 0.93308383, 0.9243156 , 0.92583212,\n",
       "        0.93179169, 0.91408333],\n",
       "       [0.93531251, 0.92796451, 0.9287262 , 0.94605494, 0.94664633,\n",
       "        0.93472421, 0.9648065 , 0.92163765, 0.93151051, 0.93635157,\n",
       "        0.9449167 , 0.93645835]])"
      ]
     },
     "execution_count": 21,
     "metadata": {},
     "output_type": "execute_result"
    }
   ],
   "source": []
  },
  {
   "cell_type": "code",
   "execution_count": 28,
   "metadata": {},
   "outputs": [
    {
     "ename": "TypeError",
     "evalue": "unsupported operand type(s) for -: 'list' and 'int'",
     "output_type": "error",
     "traceback": [
      "\u001b[0;31m---------------------------------------------------------------------------\u001b[0m",
      "\u001b[0;31mTypeError\u001b[0m                                 Traceback (most recent call last)",
      "\u001b[0;32m<ipython-input-28-d6dd031f5844>\u001b[0m in \u001b[0;36m<module>\u001b[0;34m\u001b[0m\n\u001b[1;32m      1\u001b[0m \u001b[0mnt\u001b[0m\u001b[0;34m,\u001b[0m \u001b[0mchanges\u001b[0m \u001b[0;34m=\u001b[0m \u001b[0mtask_changes\u001b[0m\u001b[0;34m(\u001b[0m\u001b[0mtasks\u001b[0m\u001b[0;34m)\u001b[0m\u001b[0;34m\u001b[0m\u001b[0;34m\u001b[0m\u001b[0m\n\u001b[0;32m----> 2\u001b[0;31m \u001b[0ma\u001b[0m \u001b[0;34m=\u001b[0m \u001b[0;34m(\u001b[0m\u001b[0mchanges\u001b[0m \u001b[0;34m+\u001b[0m \u001b[0;34m[\u001b[0m\u001b[0mlen\u001b[0m\u001b[0;34m(\u001b[0m\u001b[0maccs\u001b[0m\u001b[0;34m)\u001b[0m\u001b[0;34m]\u001b[0m\u001b[0;34m)\u001b[0m \u001b[0;34m-\u001b[0m \u001b[0;36m1\u001b[0m\u001b[0;34m\u001b[0m\u001b[0;34m\u001b[0m\u001b[0m\n\u001b[0m",
      "\u001b[0;31mTypeError\u001b[0m: unsupported operand type(s) for -: 'list' and 'int'"
     ]
    }
   ],
   "source": [
    "nt, changes = task_changes(tasks)\n",
    "a = (changes + [len(accs)]) - 1"
   ]
  },
  {
   "cell_type": "code",
   "execution_count": null,
   "metadata": {},
   "outputs": [],
   "source": []
  },
  {
   "cell_type": "code",
   "execution_count": 31,
   "metadata": {},
   "outputs": [
    {
     "name": "stdout",
     "output_type": "stream",
     "text": [
      "[0.50812501 0.50812703 0.50132436 0.51775771 0.5037021  0.50258213\n",
      " 0.51565236 0.4983491  0.50251263 0.50076085 0.50575    0.51229167] 12 [2, 3, 4, 5, 6, 7, 8, 9, 10, 11, 12]\n"
     ]
    }
   ],
   "source": [
    "def task_changes(result_t):\n",
    "    n_tasks = int(result_t.max() + 1)\n",
    "    changes = []\n",
    "    current = result_t[0]\n",
    "    for i, t in enumerate(result_t):\n",
    "        if t != current:\n",
    "            changes.append(i)\n",
    "            current = t\n",
    "\n",
    "    return n_tasks, changes\n",
    "\n",
    "def confusion_matrix(result_t, result_a, fname=None):\n",
    "    nt, changes = task_changes(result_t)\n",
    "    \n",
    "    baseline = result_a[0]\n",
    "    #print(baseline, nt, changes)\n",
    "    changes = np.array(changes + [len(result_a)]) - 1\n",
    "    \n",
    "    result = result_a[changes]\n",
    "\n",
    "    # acc[t] equals result[t,t]\n",
    "    acc = result.diagonal()\n",
    "    fin = result[nt - 1]\n",
    "    # bwt[t] equals result[T,t] - acc[t]\n",
    "    bwt = result[nt - 1] - acc\n",
    "\n",
    "    # fwt[t] equals result[t-1,t] - baseline[t]\n",
    "    fwt = np.zeros(nt)\n",
    "    for t in range(1, nt):\n",
    "        fwt[t] = result[t - 1, t] - baseline[t]\n",
    "\n",
    "#     if fname is not None:\n",
    "#         f = open(fname, 'w')\n",
    "\n",
    "#         print(' '.join(['%.4f' % r for r in baseline]), file=f)\n",
    "#         print('|', file=f)\n",
    "#         for row in range(result.size(0)):\n",
    "#             print(' '.join(['%.4f' % r for r in result[row]]), file=f)\n",
    "#         print('', file=f)\n",
    "#         # print('Diagonal Accuracy: %.4f' % acc.mean(), file=f)\n",
    "#         print('Final Accuracy: %.4f' % fin.mean(), file=f)\n",
    "#         print('Backward: %.4f' % bwt.mean(), file=f)\n",
    "#         print('Forward:  %.4f' % fwt.mean(), file=f)\n",
    "#         f.close()\n",
    "\n",
    "    stats = []\n",
    "    # stats.append(acc.mean())\n",
    "    stats.append(fin.mean())\n",
    "    stats.append(bwt.mean())\n",
    "    stats.append(fwt.mean())\n",
    "\n",
    "    return stats\n",
    "\n",
    "\n",
    "stats = confusion_matrix(tasks, accs, 'saidurtest.txt')"
   ]
  }
 ],
 "metadata": {
  "kernelspec": {
   "display_name": "Python 3",
   "language": "python",
   "name": "python3"
  },
  "language_info": {
   "codemirror_mode": {
    "name": "ipython",
    "version": 3
   },
   "file_extension": ".py",
   "mimetype": "text/x-python",
   "name": "python",
   "nbconvert_exporter": "python",
   "pygments_lexer": "ipython3",
   "version": "3.6.8"
  }
 },
 "nbformat": 4,
 "nbformat_minor": 4
}
