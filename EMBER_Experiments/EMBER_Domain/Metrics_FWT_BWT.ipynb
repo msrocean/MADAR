{
 "cells": [
  {
   "cell_type": "code",
   "execution_count": 1,
   "metadata": {},
   "outputs": [],
   "source": [
    "import numpy as np"
   ]
  },
  {
   "cell_type": "code",
   "execution_count": 36,
   "metadata": {},
   "outputs": [],
   "source": [
    "resultsTest = np.load('./Submission_Domain/grs_joint_results.npz')\n",
    "accs = resultsTest['task_accs']\n",
    "tasks = resultsTest['num_task']"
   ]
  },
  {
   "cell_type": "code",
   "execution_count": 37,
   "metadata": {},
   "outputs": [
    {
     "data": {
      "text/plain": [
       "array([ 0,  0,  1,  2,  3,  4,  5,  6,  7,  8,  9, 10, 11])"
      ]
     },
     "execution_count": 37,
     "metadata": {},
     "output_type": "execute_result"
    }
   ],
   "source": [
    "tasks"
   ]
  },
  {
   "cell_type": "code",
   "execution_count": 41,
   "metadata": {},
   "outputs": [],
   "source": [
    "def task_changes(result_t):\n",
    "    n_tasks = int(result_t.max() + 1)\n",
    "    changes = []\n",
    "    current = result_t[0]\n",
    "    for i, t in enumerate(result_t):\n",
    "        if t != current:\n",
    "            changes.append(i)\n",
    "            current = t\n",
    "\n",
    "    return n_tasks, changes\n",
    "\n",
    "def confusion_matrix(result_t, result_a, fname=None):\n",
    "    nt, changes = task_changes(result_t)\n",
    "    \n",
    "    baseline = result_a[0]\n",
    "    #print(baseline, nt, changes)\n",
    "    changes = np.array(changes + [len(result_a)]) - 1\n",
    "    \n",
    "    result = result_a[changes]\n",
    "\n",
    "    # acc[t] equals result[t,t]\n",
    "    acc = result.diagonal()\n",
    "    fin = result[nt - 1]\n",
    "    # bwt[t] equals result[T,t] - acc[t]\n",
    "    bwt = result[nt - 1] - acc\n",
    "\n",
    "    # fwt[t] equals result[t-1,t] - baseline[t]\n",
    "    fwt = np.zeros(nt)\n",
    "    for t in range(1, nt):\n",
    "        fwt[t] = result[t - 1, t] - baseline[t]\n",
    "\n",
    "    if fname is not None:\n",
    "        f = open(fname, 'w')\n",
    "\n",
    "        print(' '.join(['%.4f' % r for r in baseline]), file=f)\n",
    "        print('|', file=f)\n",
    "        for row in range(len(result)):\n",
    "            print(' '.join(['%.4f' % r for r in result[row]]), file=f)\n",
    "        print('', file=f)\n",
    "        # print('Diagonal Accuracy: %.4f' % acc.mean(), file=f)\n",
    "        print('Final Accuracy: %.4f' % fin.mean(), file=f)\n",
    "        print('Backward: %.4f' % bwt.mean(), file=f)\n",
    "        print('Forward:  %.4f' % fwt.mean(), file=f)\n",
    "        f.close()\n",
    "\n",
    "    stats = []\n",
    "    # stats.append(acc.mean())\n",
    "    stats.append(fin.mean())\n",
    "    stats.append(bwt.mean())\n",
    "    stats.append(fwt.mean())\n",
    "\n",
    "    return stats\n",
    "\n",
    "\n",
    "\n",
    "resultsTest = np.load('./Submission_Domain/grs_none_results.npz')\n",
    "accs = resultsTest['task_accs']\n",
    "tasks = resultsTest['num_task']\n",
    "stats = confusion_matrix(tasks, accs, 'saidurtestNone.txt')"
   ]
  },
  {
   "cell_type": "code",
   "execution_count": 42,
   "metadata": {},
   "outputs": [
    {
     "data": {
      "text/plain": [
       "[0.9293019771575928, -0.026571601629257202, 0.40408753976225853]"
      ]
     },
     "execution_count": 42,
     "metadata": {},
     "output_type": "execute_result"
    }
   ],
   "source": [
    "stats"
   ]
  }
 ],
 "metadata": {
  "kernelspec": {
   "display_name": "Python 3",
   "language": "python",
   "name": "python3"
  },
  "language_info": {
   "codemirror_mode": {
    "name": "ipython",
    "version": 3
   },
   "file_extension": ".py",
   "mimetype": "text/x-python",
   "name": "python",
   "nbconvert_exporter": "python",
   "pygments_lexer": "ipython3",
   "version": "3.6.8"
  }
 },
 "nbformat": 4,
 "nbformat_minor": 4
}
