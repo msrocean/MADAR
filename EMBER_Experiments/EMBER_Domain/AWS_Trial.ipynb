{
 "cells": [
  {
   "cell_type": "code",
   "execution_count": 1,
   "metadata": {},
   "outputs": [],
   "source": [
    "import numpy as np\n",
    "import random\n",
    "import datetime\n",
    "import time\n",
    "import os\n",
    "from collections import defaultdict\n",
    "from sklearn.preprocessing import StandardScaler\n",
    "from sklearn.ensemble import IsolationForest\n",
    "import matplotlib.pyplot as plt\n",
    "from tqdm import tqdm\n",
    "import ast\n",
    "import pandas as pd\n",
    "import seaborn as sns\n",
    "\n",
    "import argparse\n",
    "import torch\n",
    "import torchvision\n",
    "import torch.nn as nn\n",
    "import torch.optim as optim\n",
    "import torch.nn.functional as F\n",
    "from torchvision import transforms, utils, datasets\n",
    "from torch.utils.data import Dataset, DataLoader\n",
    "from sklearn.utils import shuffle\n",
    "from ember_utils import *\n",
    "from ember_model import *\n",
    "from ember_pjr_utils import *"
   ]
  },
  {
   "cell_type": "code",
   "execution_count": 8,
   "metadata": {
    "scrolled": true
   },
   "outputs": [
    {
     "name": "stdout",
     "output_type": "stream",
     "text": [
      "Torch 1.2.0+cu92 CUDA 9.2.148\n",
      "Model has 3.132161m parameters\n",
      "\n",
      "2023-08-19 22:35:56...\n",
      "X_train (55722, 2381) Y_train (55722,) Y_tr_family (55722,)\n",
      "X_test (6192, 2381) Y_test (6192,) Y_te_family (6192,)\n",
      "\n",
      "\n",
      "task 0 num_Y_replay 0\n",
      "\n",
      "\n",
      "\n",
      "X_train (55722, 2381) Y_train (55722,)\n",
      "\n",
      "\n",
      "X_train (55722, 2381) Y_train (55722,)\n",
      "\n",
      "2023-08-19 22:35:58 Standardizing ...\n"
     ]
    },
    {
     "name": "stderr",
     "output_type": "stream",
     "text": [
      "\r",
      "  0%|          | 0/9 [00:00<?, ?it/s]"
     ]
    },
    {
     "name": "stdout",
     "output_type": "stream",
     "text": [
      "2023-08-19 22:36:03 Training ...\n",
      "Epoch 1 of 500\n"
     ]
    },
    {
     "name": "stderr",
     "output_type": "stream",
     "text": [
      "100%|██████████| 9/9 [00:01<00:00,  6.12it/s]\n",
      "100%|██████████| 2/2 [00:00<00:00, 10.94it/s]\n",
      "  0%|          | 0/9 [00:00<?, ?it/s]"
     ]
    },
    {
     "name": "stdout",
     "output_type": "stream",
     "text": [
      "Train Loss: 0.6980, Train Acc: 0.5265\n",
      "Val Loss: 0.6871, Val Acc: 0.5762\n",
      "Validation loss decreased (inf --> 0.687130).  Saving model ...\n",
      "../AWS_SavedModel/AWSModel_400000/2018-01/best_model_epoch_1.pt\n",
      "../AWS_SavedModel/AWSOpt_400000/2018-01/best_optimizer_epoch_1.pt\n",
      "Epoch 2 of 500\n"
     ]
    },
    {
     "name": "stderr",
     "output_type": "stream",
     "text": [
      "100%|██████████| 9/9 [00:01<00:00,  6.09it/s]\n",
      "100%|██████████| 2/2 [00:00<00:00, 11.32it/s]\n",
      "  0%|          | 0/9 [00:00<?, ?it/s]"
     ]
    },
    {
     "name": "stdout",
     "output_type": "stream",
     "text": [
      "Train Loss: 0.6713, Train Acc: 0.5884\n",
      "Val Loss: 0.6654, Val Acc: 0.6105\n",
      "Validation loss decreased (0.687130 --> 0.665448).  Saving model ...\n",
      "../AWS_SavedModel/AWSModel_400000/2018-01/best_model_epoch_2.pt\n",
      "../AWS_SavedModel/AWSOpt_400000/2018-01/best_optimizer_epoch_2.pt\n",
      "Epoch 3 of 500\n"
     ]
    },
    {
     "name": "stderr",
     "output_type": "stream",
     "text": [
      "100%|██████████| 9/9 [00:01<00:00,  5.98it/s]\n",
      "100%|██████████| 2/2 [00:00<00:00,  6.39it/s]\n",
      "  0%|          | 0/9 [00:00<?, ?it/s]"
     ]
    },
    {
     "name": "stdout",
     "output_type": "stream",
     "text": [
      "Train Loss: 0.6394, Train Acc: 0.6531\n",
      "Val Loss: 0.6249, Val Acc: 0.6804\n",
      "Validation loss decreased (0.665448 --> 0.624870).  Saving model ...\n",
      "../AWS_SavedModel/AWSModel_400000/2018-01/best_model_epoch_3.pt\n",
      "../AWS_SavedModel/AWSOpt_400000/2018-01/best_optimizer_epoch_3.pt\n",
      "Epoch 4 of 500\n"
     ]
    },
    {
     "name": "stderr",
     "output_type": "stream",
     "text": [
      "100%|██████████| 9/9 [00:01<00:00,  6.14it/s]\n",
      "100%|██████████| 2/2 [00:00<00:00, 11.37it/s]\n",
      "  0%|          | 0/9 [00:00<?, ?it/s]"
     ]
    },
    {
     "name": "stdout",
     "output_type": "stream",
     "text": [
      "Train Loss: 0.5964, Train Acc: 0.7045\n",
      "Val Loss: 0.5669, Val Acc: 0.7683\n",
      "Validation loss decreased (0.624870 --> 0.566902).  Saving model ...\n",
      "../AWS_SavedModel/AWSModel_400000/2018-01/best_model_epoch_4.pt\n",
      "../AWS_SavedModel/AWSOpt_400000/2018-01/best_optimizer_epoch_4.pt\n",
      "Epoch 5 of 500\n"
     ]
    },
    {
     "name": "stderr",
     "output_type": "stream",
     "text": [
      "100%|██████████| 9/9 [00:01<00:00,  6.02it/s]\n",
      "100%|██████████| 2/2 [00:00<00:00,  9.12it/s]\n",
      "  0%|          | 0/9 [00:00<?, ?it/s]"
     ]
    },
    {
     "name": "stdout",
     "output_type": "stream",
     "text": [
      "Train Loss: 0.5399, Train Acc: 0.7481\n",
      "Val Loss: 0.4989, Val Acc: 0.7849\n",
      "Validation loss decreased (0.566902 --> 0.498902).  Saving model ...\n",
      "../AWS_SavedModel/AWSModel_400000/2018-01/best_model_epoch_5.pt\n",
      "../AWS_SavedModel/AWSOpt_400000/2018-01/best_optimizer_epoch_5.pt\n",
      "Epoch 6 of 500\n"
     ]
    },
    {
     "name": "stderr",
     "output_type": "stream",
     "text": [
      "100%|██████████| 9/9 [00:01<00:00,  5.88it/s]\n",
      "100%|██████████| 2/2 [00:00<00:00, 11.09it/s]\n",
      "  0%|          | 0/9 [00:00<?, ?it/s]"
     ]
    },
    {
     "name": "stdout",
     "output_type": "stream",
     "text": [
      "Train Loss: 0.4862, Train Acc: 0.7725\n",
      "Val Loss: 0.4443, Val Acc: 0.7977\n",
      "Validation loss decreased (0.498902 --> 0.444341).  Saving model ...\n",
      "../AWS_SavedModel/AWSModel_400000/2018-01/best_model_epoch_6.pt\n",
      "../AWS_SavedModel/AWSOpt_400000/2018-01/best_optimizer_epoch_6.pt\n",
      "Epoch 7 of 500\n"
     ]
    },
    {
     "name": "stderr",
     "output_type": "stream",
     "text": [
      "100%|██████████| 9/9 [00:01<00:00,  5.76it/s]\n",
      "100%|██████████| 2/2 [00:00<00:00,  5.68it/s]\n",
      "  0%|          | 0/9 [00:00<?, ?it/s]"
     ]
    },
    {
     "name": "stdout",
     "output_type": "stream",
     "text": [
      "Train Loss: 0.4462, Train Acc: 0.7932\n",
      "Val Loss: 0.4021, Val Acc: 0.8228\n",
      "Validation loss decreased (0.444341 --> 0.402091).  Saving model ...\n",
      "../AWS_SavedModel/AWSModel_400000/2018-01/best_model_epoch_7.pt\n",
      "../AWS_SavedModel/AWSOpt_400000/2018-01/best_optimizer_epoch_7.pt\n",
      "Epoch 8 of 500\n"
     ]
    },
    {
     "name": "stderr",
     "output_type": "stream",
     "text": [
      "100%|██████████| 9/9 [00:01<00:00,  5.78it/s]\n",
      "100%|██████████| 2/2 [00:00<00:00, 11.50it/s]\n",
      "  0%|          | 0/9 [00:00<?, ?it/s]"
     ]
    },
    {
     "name": "stdout",
     "output_type": "stream",
     "text": [
      "Train Loss: 0.4082, Train Acc: 0.8133\n",
      "Val Loss: 0.3635, Val Acc: 0.8380\n",
      "Validation loss decreased (0.402091 --> 0.363506).  Saving model ...\n",
      "../AWS_SavedModel/AWSModel_400000/2018-01/best_model_epoch_8.pt\n",
      "../AWS_SavedModel/AWSOpt_400000/2018-01/best_optimizer_epoch_8.pt\n",
      "Epoch 9 of 500\n"
     ]
    },
    {
     "name": "stderr",
     "output_type": "stream",
     "text": [
      "100%|██████████| 9/9 [00:01<00:00,  5.95it/s]\n",
      "100%|██████████| 2/2 [00:00<00:00, 11.23it/s]\n",
      "  0%|          | 0/9 [00:00<?, ?it/s]"
     ]
    },
    {
     "name": "stdout",
     "output_type": "stream",
     "text": [
      "Train Loss: 0.3716, Train Acc: 0.8340\n",
      "Val Loss: 0.3281, Val Acc: 0.8552\n",
      "Validation loss decreased (0.363506 --> 0.328098).  Saving model ...\n",
      "../AWS_SavedModel/AWSModel_400000/2018-01/best_model_epoch_9.pt\n",
      "../AWS_SavedModel/AWSOpt_400000/2018-01/best_optimizer_epoch_9.pt\n",
      "Epoch 10 of 500\n"
     ]
    },
    {
     "name": "stderr",
     "output_type": "stream",
     "text": [
      "100%|██████████| 9/9 [00:01<00:00,  5.78it/s]\n",
      "100%|██████████| 2/2 [00:00<00:00, 11.35it/s]\n",
      "  0%|          | 0/9 [00:00<?, ?it/s]"
     ]
    },
    {
     "name": "stdout",
     "output_type": "stream",
     "text": [
      "Train Loss: 0.3454, Train Acc: 0.8476\n",
      "Val Loss: 0.2958, Val Acc: 0.8695\n",
      "Validation loss decreased (0.328098 --> 0.295825).  Saving model ...\n",
      "../AWS_SavedModel/AWSModel_400000/2018-01/best_model_epoch_10.pt\n",
      "../AWS_SavedModel/AWSOpt_400000/2018-01/best_optimizer_epoch_10.pt\n",
      "Epoch 11 of 500\n"
     ]
    },
    {
     "name": "stderr",
     "output_type": "stream",
     "text": [
      "100%|██████████| 9/9 [00:01<00:00,  5.75it/s]\n",
      "100%|██████████| 2/2 [00:00<00:00,  6.52it/s]\n",
      "  0%|          | 0/9 [00:00<?, ?it/s]"
     ]
    },
    {
     "name": "stdout",
     "output_type": "stream",
     "text": [
      "Train Loss: 0.3220, Train Acc: 0.8590\n",
      "Val Loss: 0.2770, Val Acc: 0.8798\n",
      "Validation loss decreased (0.295825 --> 0.276963).  Saving model ...\n",
      "../AWS_SavedModel/AWSModel_400000/2018-01/best_model_epoch_11.pt\n",
      "../AWS_SavedModel/AWSOpt_400000/2018-01/best_optimizer_epoch_11.pt\n",
      "Epoch 12 of 500\n"
     ]
    },
    {
     "name": "stderr",
     "output_type": "stream",
     "text": [
      "100%|██████████| 9/9 [00:01<00:00,  5.71it/s]\n",
      "100%|██████████| 2/2 [00:00<00:00, 10.97it/s]\n",
      "  0%|          | 0/9 [00:00<?, ?it/s]"
     ]
    },
    {
     "name": "stdout",
     "output_type": "stream",
     "text": [
      "Train Loss: 0.3005, Train Acc: 0.8691\n",
      "Val Loss: 0.2653, Val Acc: 0.8899\n",
      "Validation loss decreased (0.276963 --> 0.265287).  Saving model ...\n",
      "../AWS_SavedModel/AWSModel_400000/2018-01/best_model_epoch_12.pt\n",
      "../AWS_SavedModel/AWSOpt_400000/2018-01/best_optimizer_epoch_12.pt\n",
      "Epoch 13 of 500\n"
     ]
    },
    {
     "name": "stderr",
     "output_type": "stream",
     "text": [
      "100%|██████████| 9/9 [00:01<00:00,  5.74it/s]\n",
      "100%|██████████| 2/2 [00:00<00:00, 11.30it/s]\n",
      "  0%|          | 0/9 [00:00<?, ?it/s]"
     ]
    },
    {
     "name": "stdout",
     "output_type": "stream",
     "text": [
      "Train Loss: 0.2820, Train Acc: 0.8800\n",
      "Val Loss: 0.2533, Val Acc: 0.8961\n",
      "Validation loss decreased (0.265287 --> 0.253300).  Saving model ...\n",
      "../AWS_SavedModel/AWSModel_400000/2018-01/best_model_epoch_13.pt\n",
      "../AWS_SavedModel/AWSOpt_400000/2018-01/best_optimizer_epoch_13.pt\n",
      "Epoch 14 of 500\n"
     ]
    },
    {
     "name": "stderr",
     "output_type": "stream",
     "text": [
      "100%|██████████| 9/9 [00:01<00:00,  5.62it/s]\n",
      "100%|██████████| 2/2 [00:00<00:00, 11.43it/s]\n",
      "  0%|          | 0/9 [00:00<?, ?it/s]"
     ]
    },
    {
     "name": "stdout",
     "output_type": "stream",
     "text": [
      "Train Loss: 0.2668, Train Acc: 0.8863\n",
      "Val Loss: 0.2416, Val Acc: 0.8997\n",
      "Validation loss decreased (0.253300 --> 0.241556).  Saving model ...\n",
      "../AWS_SavedModel/AWSModel_400000/2018-01/best_model_epoch_14.pt\n",
      "../AWS_SavedModel/AWSOpt_400000/2018-01/best_optimizer_epoch_14.pt\n",
      "Epoch 15 of 500\n"
     ]
    },
    {
     "name": "stderr",
     "output_type": "stream",
     "text": [
      "100%|██████████| 9/9 [00:01<00:00,  5.73it/s]\n",
      "100%|██████████| 2/2 [00:00<00:00,  6.85it/s]\n",
      "  0%|          | 0/9 [00:00<?, ?it/s]"
     ]
    },
    {
     "name": "stdout",
     "output_type": "stream",
     "text": [
      "Train Loss: 0.2551, Train Acc: 0.8920\n",
      "Val Loss: 0.2383, Val Acc: 0.9004\n",
      "Validation loss decreased (0.241556 --> 0.238326).  Saving model ...\n",
      "../AWS_SavedModel/AWSModel_400000/2018-01/best_model_epoch_15.pt\n",
      "../AWS_SavedModel/AWSOpt_400000/2018-01/best_optimizer_epoch_15.pt\n",
      "Epoch 16 of 500\n"
     ]
    },
    {
     "name": "stderr",
     "output_type": "stream",
     "text": [
      "100%|██████████| 9/9 [00:01<00:00,  5.76it/s]\n",
      "100%|██████████| 2/2 [00:00<00:00, 10.33it/s]\n",
      "  0%|          | 0/9 [00:00<?, ?it/s]"
     ]
    },
    {
     "name": "stdout",
     "output_type": "stream",
     "text": [
      "Train Loss: 0.2485, Train Acc: 0.8958\n",
      "Val Loss: 0.2353, Val Acc: 0.8967\n",
      "Validation loss decreased (0.238326 --> 0.235309).  Saving model ...\n",
      "../AWS_SavedModel/AWSModel_400000/2018-01/best_model_epoch_16.pt\n",
      "../AWS_SavedModel/AWSOpt_400000/2018-01/best_optimizer_epoch_16.pt\n",
      "Epoch 17 of 500\n"
     ]
    },
    {
     "name": "stderr",
     "output_type": "stream",
     "text": [
      "100%|██████████| 9/9 [00:01<00:00,  5.87it/s]\n",
      "100%|██████████| 2/2 [00:00<00:00, 11.42it/s]\n",
      "  0%|          | 0/9 [00:00<?, ?it/s]"
     ]
    },
    {
     "name": "stdout",
     "output_type": "stream",
     "text": [
      "Train Loss: 0.2316, Train Acc: 0.9037\n",
      "Val Loss: 0.2286, Val Acc: 0.8992\n",
      "Validation loss decreased (0.235309 --> 0.228621).  Saving model ...\n",
      "../AWS_SavedModel/AWSModel_400000/2018-01/best_model_epoch_17.pt\n",
      "../AWS_SavedModel/AWSOpt_400000/2018-01/best_optimizer_epoch_17.pt\n",
      "Epoch 18 of 500\n"
     ]
    },
    {
     "name": "stderr",
     "output_type": "stream",
     "text": [
      "100%|██████████| 9/9 [00:01<00:00,  5.53it/s]\n",
      "100%|██████████| 2/2 [00:00<00:00,  5.90it/s]\n",
      "  0%|          | 0/9 [00:00<?, ?it/s]"
     ]
    },
    {
     "name": "stdout",
     "output_type": "stream",
     "text": [
      "Train Loss: 0.2297, Train Acc: 0.9053\n",
      "Val Loss: 0.2254, Val Acc: 0.8998\n",
      "Validation loss decreased (0.228621 --> 0.225359).  Saving model ...\n",
      "../AWS_SavedModel/AWSModel_400000/2018-01/best_model_epoch_18.pt\n",
      "../AWS_SavedModel/AWSOpt_400000/2018-01/best_optimizer_epoch_18.pt\n",
      "Epoch 19 of 500\n"
     ]
    },
    {
     "name": "stderr",
     "output_type": "stream",
     "text": [
      "100%|██████████| 9/9 [00:01<00:00,  5.81it/s]\n",
      "100%|██████████| 2/2 [00:00<00:00, 11.38it/s]\n",
      "  0%|          | 0/9 [00:00<?, ?it/s]"
     ]
    },
    {
     "name": "stdout",
     "output_type": "stream",
     "text": [
      "Train Loss: 0.2245, Train Acc: 0.9072\n",
      "Val Loss: 0.2239, Val Acc: 0.9007\n",
      "Validation loss decreased (0.225359 --> 0.223923).  Saving model ...\n",
      "../AWS_SavedModel/AWSModel_400000/2018-01/best_model_epoch_19.pt\n",
      "../AWS_SavedModel/AWSOpt_400000/2018-01/best_optimizer_epoch_19.pt\n",
      "Epoch 20 of 500\n"
     ]
    },
    {
     "name": "stderr",
     "output_type": "stream",
     "text": [
      "100%|██████████| 9/9 [00:01<00:00,  5.82it/s]\n",
      "100%|██████████| 2/2 [00:00<00:00, 11.28it/s]\n",
      "  0%|          | 0/9 [00:00<?, ?it/s]"
     ]
    },
    {
     "name": "stdout",
     "output_type": "stream",
     "text": [
      "Train Loss: 0.2150, Train Acc: 0.9127\n",
      "Val Loss: 0.2187, Val Acc: 0.9067\n",
      "Validation loss decreased (0.223923 --> 0.218694).  Saving model ...\n",
      "../AWS_SavedModel/AWSModel_400000/2018-01/best_model_epoch_20.pt\n",
      "../AWS_SavedModel/AWSOpt_400000/2018-01/best_optimizer_epoch_20.pt\n",
      "Epoch 21 of 500\n"
     ]
    },
    {
     "name": "stderr",
     "output_type": "stream",
     "text": [
      "100%|██████████| 9/9 [00:01<00:00,  5.92it/s]\n",
      "100%|██████████| 2/2 [00:00<00:00, 11.40it/s]\n",
      "  0%|          | 0/9 [00:00<?, ?it/s]"
     ]
    },
    {
     "name": "stdout",
     "output_type": "stream",
     "text": [
      "Train Loss: 0.2122, Train Acc: 0.9128\n",
      "Val Loss: 0.2157, Val Acc: 0.9081\n",
      "Validation loss decreased (0.218694 --> 0.215745).  Saving model ...\n",
      "../AWS_SavedModel/AWSModel_400000/2018-01/best_model_epoch_21.pt\n",
      "../AWS_SavedModel/AWSOpt_400000/2018-01/best_optimizer_epoch_21.pt\n",
      "Epoch 22 of 500\n"
     ]
    },
    {
     "name": "stderr",
     "output_type": "stream",
     "text": [
      "100%|██████████| 9/9 [00:01<00:00,  5.67it/s]\n",
      "100%|██████████| 2/2 [00:00<00:00,  6.35it/s]\n",
      "  0%|          | 0/9 [00:00<?, ?it/s]"
     ]
    },
    {
     "name": "stdout",
     "output_type": "stream",
     "text": [
      "Train Loss: 0.2041, Train Acc: 0.9167\n",
      "Val Loss: 0.2164, Val Acc: 0.9058\n",
      "EarlyStopping counter: 1 out of 5\n",
      "Epoch 23 of 500\n"
     ]
    },
    {
     "name": "stderr",
     "output_type": "stream",
     "text": [
      "100%|██████████| 9/9 [00:01<00:00,  5.77it/s]\n",
      "100%|██████████| 2/2 [00:00<00:00, 11.37it/s]\n",
      "  0%|          | 0/9 [00:00<?, ?it/s]"
     ]
    },
    {
     "name": "stdout",
     "output_type": "stream",
     "text": [
      "Train Loss: 0.2004, Train Acc: 0.9191\n",
      "Val Loss: 0.2110, Val Acc: 0.9088\n",
      "Validation loss decreased (0.215745 --> 0.210951).  Saving model ...\n",
      "../AWS_SavedModel/AWSModel_400000/2018-01/best_model_epoch_23.pt\n",
      "../AWS_SavedModel/AWSOpt_400000/2018-01/best_optimizer_epoch_23.pt\n",
      "Epoch 24 of 500\n"
     ]
    },
    {
     "name": "stderr",
     "output_type": "stream",
     "text": [
      "100%|██████████| 9/9 [00:01<00:00,  5.82it/s]\n",
      "100%|██████████| 2/2 [00:00<00:00, 11.32it/s]\n",
      "  0%|          | 0/9 [00:00<?, ?it/s]"
     ]
    },
    {
     "name": "stdout",
     "output_type": "stream",
     "text": [
      "Train Loss: 0.1933, Train Acc: 0.9230\n",
      "Val Loss: 0.2084, Val Acc: 0.9110\n",
      "Validation loss decreased (0.210951 --> 0.208356).  Saving model ...\n",
      "../AWS_SavedModel/AWSModel_400000/2018-01/best_model_epoch_24.pt\n",
      "../AWS_SavedModel/AWSOpt_400000/2018-01/best_optimizer_epoch_24.pt\n",
      "Epoch 25 of 500\n"
     ]
    },
    {
     "name": "stderr",
     "output_type": "stream",
     "text": [
      "100%|██████████| 9/9 [00:01<00:00,  5.78it/s]\n",
      "100%|██████████| 2/2 [00:00<00:00, 12.70it/s]\n",
      "  0%|          | 0/9 [00:00<?, ?it/s]"
     ]
    },
    {
     "name": "stdout",
     "output_type": "stream",
     "text": [
      "Train Loss: 0.1869, Train Acc: 0.9257\n",
      "Val Loss: 0.2044, Val Acc: 0.9128\n",
      "Validation loss decreased (0.208356 --> 0.204427).  Saving model ...\n",
      "../AWS_SavedModel/AWSModel_400000/2018-01/best_model_epoch_25.pt\n",
      "../AWS_SavedModel/AWSOpt_400000/2018-01/best_optimizer_epoch_25.pt\n",
      "Epoch 26 of 500\n"
     ]
    },
    {
     "name": "stderr",
     "output_type": "stream",
     "text": [
      "100%|██████████| 9/9 [00:01<00:00,  5.65it/s]\n",
      "100%|██████████| 2/2 [00:00<00:00,  6.51it/s]\n",
      "  0%|          | 0/9 [00:00<?, ?it/s]"
     ]
    },
    {
     "name": "stdout",
     "output_type": "stream",
     "text": [
      "Train Loss: 0.1831, Train Acc: 0.9270\n",
      "Val Loss: 0.2048, Val Acc: 0.9120\n",
      "EarlyStopping counter: 1 out of 5\n",
      "Epoch 27 of 500\n"
     ]
    },
    {
     "name": "stderr",
     "output_type": "stream",
     "text": [
      "100%|██████████| 9/9 [00:01<00:00,  5.82it/s]\n",
      "100%|██████████| 2/2 [00:00<00:00, 11.00it/s]\n",
      "  0%|          | 0/9 [00:00<?, ?it/s]"
     ]
    },
    {
     "name": "stdout",
     "output_type": "stream",
     "text": [
      "Train Loss: 0.1811, Train Acc: 0.9266\n",
      "Val Loss: 0.2060, Val Acc: 0.9103\n",
      "EarlyStopping counter: 2 out of 5\n",
      "Epoch 28 of 500\n"
     ]
    },
    {
     "name": "stderr",
     "output_type": "stream",
     "text": [
      "100%|██████████| 9/9 [00:01<00:00,  5.75it/s]\n",
      "100%|██████████| 2/2 [00:00<00:00, 11.22it/s]\n",
      "  0%|          | 0/9 [00:00<?, ?it/s]"
     ]
    },
    {
     "name": "stdout",
     "output_type": "stream",
     "text": [
      "Train Loss: 0.1762, Train Acc: 0.9296\n",
      "Val Loss: 0.2009, Val Acc: 0.9138\n",
      "Validation loss decreased (0.204427 --> 0.200881).  Saving model ...\n",
      "../AWS_SavedModel/AWSModel_400000/2018-01/best_model_epoch_28.pt\n",
      "../AWS_SavedModel/AWSOpt_400000/2018-01/best_optimizer_epoch_28.pt\n",
      "Epoch 29 of 500\n"
     ]
    },
    {
     "name": "stderr",
     "output_type": "stream",
     "text": [
      "100%|██████████| 9/9 [00:01<00:00,  5.89it/s]\n",
      "100%|██████████| 2/2 [00:00<00:00, 11.34it/s]\n",
      "  0%|          | 0/9 [00:00<?, ?it/s]"
     ]
    },
    {
     "name": "stdout",
     "output_type": "stream",
     "text": [
      "Train Loss: 0.1748, Train Acc: 0.9303\n",
      "Val Loss: 0.2000, Val Acc: 0.9143\n",
      "Validation loss decreased (0.200881 --> 0.200044).  Saving model ...\n",
      "../AWS_SavedModel/AWSModel_400000/2018-01/best_model_epoch_29.pt\n",
      "../AWS_SavedModel/AWSOpt_400000/2018-01/best_optimizer_epoch_29.pt\n",
      "Epoch 30 of 500\n"
     ]
    },
    {
     "name": "stderr",
     "output_type": "stream",
     "text": [
      "100%|██████████| 9/9 [00:01<00:00,  5.74it/s]\n",
      "100%|██████████| 2/2 [00:00<00:00,  7.18it/s]\n",
      "  0%|          | 0/9 [00:00<?, ?it/s]"
     ]
    },
    {
     "name": "stdout",
     "output_type": "stream",
     "text": [
      "Train Loss: 0.1752, Train Acc: 0.9315\n",
      "Val Loss: 0.2036, Val Acc: 0.9144\n",
      "EarlyStopping counter: 1 out of 5\n",
      "Epoch 31 of 500\n"
     ]
    },
    {
     "name": "stderr",
     "output_type": "stream",
     "text": [
      "100%|██████████| 9/9 [00:01<00:00,  5.76it/s]\n",
      "100%|██████████| 2/2 [00:00<00:00, 10.47it/s]\n",
      "  0%|          | 0/9 [00:00<?, ?it/s]"
     ]
    },
    {
     "name": "stdout",
     "output_type": "stream",
     "text": [
      "Train Loss: 0.1712, Train Acc: 0.9318\n",
      "Val Loss: 0.1997, Val Acc: 0.9178\n",
      "Validation loss decreased (0.200044 --> 0.199703).  Saving model ...\n",
      "../AWS_SavedModel/AWSModel_400000/2018-01/best_model_epoch_31.pt\n",
      "../AWS_SavedModel/AWSOpt_400000/2018-01/best_optimizer_epoch_31.pt\n",
      "Epoch 32 of 500\n"
     ]
    },
    {
     "name": "stderr",
     "output_type": "stream",
     "text": [
      "100%|██████████| 9/9 [00:01<00:00,  5.84it/s]\n",
      "100%|██████████| 2/2 [00:00<00:00, 11.32it/s]\n",
      "  0%|          | 0/9 [00:00<?, ?it/s]"
     ]
    },
    {
     "name": "stdout",
     "output_type": "stream",
     "text": [
      "Train Loss: 0.1639, Train Acc: 0.9337\n",
      "Val Loss: 0.1980, Val Acc: 0.9182\n",
      "Validation loss decreased (0.199703 --> 0.198016).  Saving model ...\n",
      "../AWS_SavedModel/AWSModel_400000/2018-01/best_model_epoch_32.pt\n",
      "../AWS_SavedModel/AWSOpt_400000/2018-01/best_optimizer_epoch_32.pt\n",
      "Epoch 33 of 500\n"
     ]
    },
    {
     "name": "stderr",
     "output_type": "stream",
     "text": [
      "100%|██████████| 9/9 [00:01<00:00,  5.61it/s]\n",
      "100%|██████████| 2/2 [00:00<00:00, 11.37it/s]\n",
      "  0%|          | 0/9 [00:00<?, ?it/s]"
     ]
    },
    {
     "name": "stdout",
     "output_type": "stream",
     "text": [
      "Train Loss: 0.1610, Train Acc: 0.9366\n",
      "Val Loss: 0.2028, Val Acc: 0.9168\n",
      "EarlyStopping counter: 1 out of 5\n",
      "Epoch 34 of 500\n"
     ]
    },
    {
     "name": "stderr",
     "output_type": "stream",
     "text": [
      "100%|██████████| 9/9 [00:01<00:00,  5.67it/s]\n",
      "100%|██████████| 2/2 [00:00<00:00,  6.37it/s]\n",
      "  0%|          | 0/9 [00:00<?, ?it/s]"
     ]
    },
    {
     "name": "stdout",
     "output_type": "stream",
     "text": [
      "Train Loss: 0.1612, Train Acc: 0.9374\n",
      "Val Loss: 0.1976, Val Acc: 0.9162\n",
      "Validation loss decreased (0.198016 --> 0.197619).  Saving model ...\n",
      "../AWS_SavedModel/AWSModel_400000/2018-01/best_model_epoch_34.pt\n",
      "../AWS_SavedModel/AWSOpt_400000/2018-01/best_optimizer_epoch_34.pt\n",
      "Epoch 35 of 500\n"
     ]
    },
    {
     "name": "stderr",
     "output_type": "stream",
     "text": [
      "100%|██████████| 9/9 [00:01<00:00,  5.76it/s]\n",
      "100%|██████████| 2/2 [00:00<00:00, 11.31it/s]\n",
      "  0%|          | 0/9 [00:00<?, ?it/s]"
     ]
    },
    {
     "name": "stdout",
     "output_type": "stream",
     "text": [
      "Train Loss: 0.1587, Train Acc: 0.9371\n",
      "Val Loss: 0.1947, Val Acc: 0.9197\n",
      "Validation loss decreased (0.197619 --> 0.194715).  Saving model ...\n",
      "../AWS_SavedModel/AWSModel_400000/2018-01/best_model_epoch_35.pt\n",
      "../AWS_SavedModel/AWSOpt_400000/2018-01/best_optimizer_epoch_35.pt\n",
      "Epoch 36 of 500\n"
     ]
    },
    {
     "name": "stderr",
     "output_type": "stream",
     "text": [
      "100%|██████████| 9/9 [00:01<00:00,  5.90it/s]\n",
      "100%|██████████| 2/2 [00:00<00:00, 11.38it/s]\n",
      "  0%|          | 0/9 [00:00<?, ?it/s]"
     ]
    },
    {
     "name": "stdout",
     "output_type": "stream",
     "text": [
      "Train Loss: 0.1551, Train Acc: 0.9391\n",
      "Val Loss: 0.1970, Val Acc: 0.9199\n",
      "EarlyStopping counter: 1 out of 5\n",
      "Epoch 37 of 500\n"
     ]
    },
    {
     "name": "stderr",
     "output_type": "stream",
     "text": [
      "100%|██████████| 9/9 [00:01<00:00,  6.26it/s]\n",
      "100%|██████████| 2/2 [00:00<00:00,  6.99it/s]\n",
      "  0%|          | 0/9 [00:00<?, ?it/s]"
     ]
    },
    {
     "name": "stdout",
     "output_type": "stream",
     "text": [
      "Train Loss: 0.1487, Train Acc: 0.9414\n",
      "Val Loss: 0.1941, Val Acc: 0.9175\n",
      "Validation loss decreased (0.194715 --> 0.194145).  Saving model ...\n",
      "../AWS_SavedModel/AWSModel_400000/2018-01/best_model_epoch_37.pt\n",
      "../AWS_SavedModel/AWSOpt_400000/2018-01/best_optimizer_epoch_37.pt\n",
      "Epoch 38 of 500\n"
     ]
    },
    {
     "name": "stderr",
     "output_type": "stream",
     "text": [
      "100%|██████████| 9/9 [00:01<00:00,  6.30it/s]\n",
      "100%|██████████| 2/2 [00:00<00:00, 11.27it/s]\n",
      "  0%|          | 0/9 [00:00<?, ?it/s]"
     ]
    },
    {
     "name": "stdout",
     "output_type": "stream",
     "text": [
      "Train Loss: 0.1480, Train Acc: 0.9419\n",
      "Val Loss: 0.1908, Val Acc: 0.9240\n",
      "Validation loss decreased (0.194145 --> 0.190783).  Saving model ...\n",
      "../AWS_SavedModel/AWSModel_400000/2018-01/best_model_epoch_38.pt\n",
      "../AWS_SavedModel/AWSOpt_400000/2018-01/best_optimizer_epoch_38.pt\n",
      "Epoch 39 of 500\n"
     ]
    },
    {
     "name": "stderr",
     "output_type": "stream",
     "text": [
      "100%|██████████| 9/9 [00:01<00:00,  6.33it/s]\n",
      "100%|██████████| 2/2 [00:00<00:00, 11.21it/s]\n",
      "  0%|          | 0/9 [00:00<?, ?it/s]"
     ]
    },
    {
     "name": "stdout",
     "output_type": "stream",
     "text": [
      "Train Loss: 0.1481, Train Acc: 0.9408\n",
      "Val Loss: 0.1903, Val Acc: 0.9228\n",
      "Validation loss decreased (0.190783 --> 0.190293).  Saving model ...\n",
      "../AWS_SavedModel/AWSModel_400000/2018-01/best_model_epoch_39.pt\n",
      "../AWS_SavedModel/AWSOpt_400000/2018-01/best_optimizer_epoch_39.pt\n",
      "Epoch 40 of 500\n"
     ]
    },
    {
     "name": "stderr",
     "output_type": "stream",
     "text": [
      "100%|██████████| 9/9 [00:01<00:00,  6.42it/s]\n",
      "100%|██████████| 2/2 [00:00<00:00, 10.05it/s]\n",
      "  0%|          | 0/9 [00:00<?, ?it/s]"
     ]
    },
    {
     "name": "stdout",
     "output_type": "stream",
     "text": [
      "Train Loss: 0.1436, Train Acc: 0.9439\n",
      "Val Loss: 0.1903, Val Acc: 0.9229\n",
      "EarlyStopping counter: 1 out of 5\n",
      "Epoch 41 of 500\n"
     ]
    },
    {
     "name": "stderr",
     "output_type": "stream",
     "text": [
      "100%|██████████| 9/9 [00:01<00:00,  5.49it/s]\n",
      "100%|██████████| 2/2 [00:00<00:00,  6.08it/s]\n",
      "  0%|          | 0/9 [00:00<?, ?it/s]"
     ]
    },
    {
     "name": "stdout",
     "output_type": "stream",
     "text": [
      "Train Loss: 0.1431, Train Acc: 0.9439\n",
      "Val Loss: 0.1866, Val Acc: 0.9242\n",
      "Validation loss decreased (0.190293 --> 0.186634).  Saving model ...\n",
      "../AWS_SavedModel/AWSModel_400000/2018-01/best_model_epoch_41.pt\n",
      "../AWS_SavedModel/AWSOpt_400000/2018-01/best_optimizer_epoch_41.pt\n",
      "Epoch 42 of 500\n"
     ]
    },
    {
     "name": "stderr",
     "output_type": "stream",
     "text": [
      "100%|██████████| 9/9 [00:01<00:00,  5.85it/s]\n",
      "100%|██████████| 2/2 [00:00<00:00, 11.33it/s]\n",
      "  0%|          | 0/9 [00:00<?, ?it/s]"
     ]
    },
    {
     "name": "stdout",
     "output_type": "stream",
     "text": [
      "Train Loss: 0.1358, Train Acc: 0.9476\n",
      "Val Loss: 0.1847, Val Acc: 0.9245\n",
      "Validation loss decreased (0.186634 --> 0.184681).  Saving model ...\n",
      "../AWS_SavedModel/AWSModel_400000/2018-01/best_model_epoch_42.pt\n",
      "../AWS_SavedModel/AWSOpt_400000/2018-01/best_optimizer_epoch_42.pt\n",
      "Epoch 43 of 500\n"
     ]
    },
    {
     "name": "stderr",
     "output_type": "stream",
     "text": [
      "100%|██████████| 9/9 [00:01<00:00,  5.71it/s]\n",
      "100%|██████████| 2/2 [00:00<00:00, 11.64it/s]\n",
      "  0%|          | 0/9 [00:00<?, ?it/s]"
     ]
    },
    {
     "name": "stdout",
     "output_type": "stream",
     "text": [
      "Train Loss: 0.1411, Train Acc: 0.9447\n",
      "Val Loss: 0.1838, Val Acc: 0.9250\n",
      "Validation loss decreased (0.184681 --> 0.183764).  Saving model ...\n",
      "../AWS_SavedModel/AWSModel_400000/2018-01/best_model_epoch_43.pt\n",
      "../AWS_SavedModel/AWSOpt_400000/2018-01/best_optimizer_epoch_43.pt\n",
      "Epoch 44 of 500\n"
     ]
    },
    {
     "name": "stderr",
     "output_type": "stream",
     "text": [
      "100%|██████████| 9/9 [00:01<00:00,  5.82it/s]\n",
      "100%|██████████| 2/2 [00:00<00:00, 11.19it/s]\n",
      "  0%|          | 0/9 [00:00<?, ?it/s]"
     ]
    },
    {
     "name": "stdout",
     "output_type": "stream",
     "text": [
      "Train Loss: 0.1373, Train Acc: 0.9459\n",
      "Val Loss: 0.1832, Val Acc: 0.9255\n",
      "Validation loss decreased (0.183764 --> 0.183188).  Saving model ...\n",
      "../AWS_SavedModel/AWSModel_400000/2018-01/best_model_epoch_44.pt\n",
      "../AWS_SavedModel/AWSOpt_400000/2018-01/best_optimizer_epoch_44.pt\n",
      "Epoch 45 of 500\n"
     ]
    },
    {
     "name": "stderr",
     "output_type": "stream",
     "text": [
      "100%|██████████| 9/9 [00:01<00:00,  5.59it/s]\n",
      "100%|██████████| 2/2 [00:00<00:00,  7.03it/s]\n",
      "  0%|          | 0/9 [00:00<?, ?it/s]"
     ]
    },
    {
     "name": "stdout",
     "output_type": "stream",
     "text": [
      "Train Loss: 0.1326, Train Acc: 0.9479\n",
      "Val Loss: 0.1819, Val Acc: 0.9228\n",
      "Validation loss decreased (0.183188 --> 0.181940).  Saving model ...\n",
      "../AWS_SavedModel/AWSModel_400000/2018-01/best_model_epoch_45.pt\n",
      "../AWS_SavedModel/AWSOpt_400000/2018-01/best_optimizer_epoch_45.pt\n",
      "Epoch 46 of 500\n"
     ]
    },
    {
     "name": "stderr",
     "output_type": "stream",
     "text": [
      "100%|██████████| 9/9 [00:01<00:00,  5.87it/s]\n",
      "100%|██████████| 2/2 [00:00<00:00, 13.22it/s]\n",
      "  0%|          | 0/9 [00:00<?, ?it/s]"
     ]
    },
    {
     "name": "stdout",
     "output_type": "stream",
     "text": [
      "Train Loss: 0.1331, Train Acc: 0.9486\n",
      "Val Loss: 0.1832, Val Acc: 0.9253\n",
      "EarlyStopping counter: 1 out of 5\n",
      "Epoch 47 of 500\n"
     ]
    },
    {
     "name": "stderr",
     "output_type": "stream",
     "text": [
      "100%|██████████| 9/9 [00:01<00:00,  5.85it/s]\n",
      "100%|██████████| 2/2 [00:00<00:00, 11.42it/s]\n",
      "  0%|          | 0/9 [00:00<?, ?it/s]"
     ]
    },
    {
     "name": "stdout",
     "output_type": "stream",
     "text": [
      "Train Loss: 0.1324, Train Acc: 0.9479\n",
      "Val Loss: 0.1808, Val Acc: 0.9258\n",
      "Validation loss decreased (0.181940 --> 0.180793).  Saving model ...\n",
      "../AWS_SavedModel/AWSModel_400000/2018-01/best_model_epoch_47.pt\n",
      "../AWS_SavedModel/AWSOpt_400000/2018-01/best_optimizer_epoch_47.pt\n",
      "Epoch 48 of 500\n"
     ]
    },
    {
     "name": "stderr",
     "output_type": "stream",
     "text": [
      "100%|██████████| 9/9 [00:01<00:00,  5.82it/s]\n",
      "100%|██████████| 2/2 [00:00<00:00, 11.45it/s]\n",
      "  0%|          | 0/9 [00:00<?, ?it/s]"
     ]
    },
    {
     "name": "stdout",
     "output_type": "stream",
     "text": [
      "Train Loss: 0.1293, Train Acc: 0.9499\n",
      "Val Loss: 0.1784, Val Acc: 0.9310\n",
      "Validation loss decreased (0.180793 --> 0.178449).  Saving model ...\n",
      "../AWS_SavedModel/AWSModel_400000/2018-01/best_model_epoch_48.pt\n",
      "../AWS_SavedModel/AWSOpt_400000/2018-01/best_optimizer_epoch_48.pt\n",
      "Epoch 49 of 500\n"
     ]
    },
    {
     "name": "stderr",
     "output_type": "stream",
     "text": [
      "100%|██████████| 9/9 [00:01<00:00,  5.67it/s]\n",
      "100%|██████████| 2/2 [00:00<00:00,  7.33it/s]\n",
      "  0%|          | 0/9 [00:00<?, ?it/s]"
     ]
    },
    {
     "name": "stdout",
     "output_type": "stream",
     "text": [
      "Train Loss: 0.1286, Train Acc: 0.9494\n",
      "Val Loss: 0.1776, Val Acc: 0.9307\n",
      "Validation loss decreased (0.178449 --> 0.177590).  Saving model ...\n",
      "../AWS_SavedModel/AWSModel_400000/2018-01/best_model_epoch_49.pt\n",
      "../AWS_SavedModel/AWSOpt_400000/2018-01/best_optimizer_epoch_49.pt\n",
      "Epoch 50 of 500\n"
     ]
    },
    {
     "name": "stderr",
     "output_type": "stream",
     "text": [
      "100%|██████████| 9/9 [00:01<00:00,  5.51it/s]\n",
      "100%|██████████| 2/2 [00:00<00:00, 10.05it/s]\n",
      "  0%|          | 0/9 [00:00<?, ?it/s]"
     ]
    },
    {
     "name": "stdout",
     "output_type": "stream",
     "text": [
      "Train Loss: 0.1263, Train Acc: 0.9513\n",
      "Val Loss: 0.1755, Val Acc: 0.9324\n",
      "Validation loss decreased (0.177590 --> 0.175483).  Saving model ...\n",
      "../AWS_SavedModel/AWSModel_400000/2018-01/best_model_epoch_50.pt\n",
      "../AWS_SavedModel/AWSOpt_400000/2018-01/best_optimizer_epoch_50.pt\n",
      "Epoch 51 of 500\n"
     ]
    },
    {
     "name": "stderr",
     "output_type": "stream",
     "text": [
      "100%|██████████| 9/9 [00:01<00:00,  6.00it/s]\n",
      "100%|██████████| 2/2 [00:00<00:00, 10.80it/s]\n",
      "  0%|          | 0/9 [00:00<?, ?it/s]"
     ]
    },
    {
     "name": "stdout",
     "output_type": "stream",
     "text": [
      "Train Loss: 0.1287, Train Acc: 0.9487\n",
      "Val Loss: 0.1729, Val Acc: 0.9302\n",
      "Validation loss decreased (0.175483 --> 0.172901).  Saving model ...\n",
      "../AWS_SavedModel/AWSModel_400000/2018-01/best_model_epoch_51.pt\n",
      "../AWS_SavedModel/AWSOpt_400000/2018-01/best_optimizer_epoch_51.pt\n",
      "Epoch 52 of 500\n"
     ]
    },
    {
     "name": "stderr",
     "output_type": "stream",
     "text": [
      "100%|██████████| 9/9 [00:01<00:00,  5.51it/s]\n",
      "100%|██████████| 2/2 [00:00<00:00, 11.22it/s]\n",
      "  0%|          | 0/9 [00:00<?, ?it/s]"
     ]
    },
    {
     "name": "stdout",
     "output_type": "stream",
     "text": [
      "Train Loss: 0.1255, Train Acc: 0.9512\n",
      "Val Loss: 0.1752, Val Acc: 0.9309\n",
      "EarlyStopping counter: 1 out of 5\n",
      "Epoch 53 of 500\n"
     ]
    },
    {
     "name": "stderr",
     "output_type": "stream",
     "text": [
      "100%|██████████| 9/9 [00:01<00:00,  6.24it/s]\n",
      "100%|██████████| 2/2 [00:00<00:00,  6.92it/s]\n",
      "  0%|          | 0/9 [00:00<?, ?it/s]"
     ]
    },
    {
     "name": "stdout",
     "output_type": "stream",
     "text": [
      "Train Loss: 0.1216, Train Acc: 0.9532\n",
      "Val Loss: 0.1760, Val Acc: 0.9282\n",
      "EarlyStopping counter: 2 out of 5\n",
      "Epoch 54 of 500\n"
     ]
    },
    {
     "name": "stderr",
     "output_type": "stream",
     "text": [
      "100%|██████████| 9/9 [00:01<00:00,  6.41it/s]\n",
      "100%|██████████| 2/2 [00:00<00:00, 11.30it/s]\n",
      "  0%|          | 0/9 [00:00<?, ?it/s]"
     ]
    },
    {
     "name": "stdout",
     "output_type": "stream",
     "text": [
      "Train Loss: 0.1192, Train Acc: 0.9537\n",
      "Val Loss: 0.1742, Val Acc: 0.9304\n",
      "EarlyStopping counter: 3 out of 5\n",
      "Epoch 55 of 500\n"
     ]
    },
    {
     "name": "stderr",
     "output_type": "stream",
     "text": [
      "100%|██████████| 9/9 [00:01<00:00,  6.46it/s]\n",
      "100%|██████████| 2/2 [00:00<00:00, 11.40it/s]\n",
      "  0%|          | 0/9 [00:00<?, ?it/s]"
     ]
    },
    {
     "name": "stdout",
     "output_type": "stream",
     "text": [
      "Train Loss: 0.1196, Train Acc: 0.9537\n",
      "Val Loss: 0.1752, Val Acc: 0.9328\n",
      "EarlyStopping counter: 4 out of 5\n",
      "Epoch 56 of 500\n"
     ]
    },
    {
     "name": "stderr",
     "output_type": "stream",
     "text": [
      "100%|██████████| 9/9 [00:01<00:00,  6.22it/s]\n",
      "100%|██████████| 2/2 [00:00<00:00,  6.88it/s]\n",
      "  0%|          | 0/2 [00:00<?, ?it/s]"
     ]
    },
    {
     "name": "stdout",
     "output_type": "stream",
     "text": [
      "Train Loss: 0.1188, Train Acc: 0.9541\n",
      "Val Loss: 0.1736, Val Acc: 0.9326\n",
      "EarlyStopping counter: 5 out of 5\n",
      "Early stopping\n",
      "Training time: 1.694 minutes\n",
      "loading best model ../AWS_SavedModel/AWSModel_400000/2018-01/best_model_epoch_51.pt\n",
      "loading best optimizer ../AWS_SavedModel/AWSOpt_400000/2018-01/best_optimizer_epoch_51.pt\n"
     ]
    },
    {
     "name": "stderr",
     "output_type": "stream",
     "text": [
      "100%|██████████| 2/2 [00:00<00:00,  4.23it/s]\n"
     ]
    },
    {
     "name": "stdout",
     "output_type": "stream",
     "text": [
      "test accuracy 0.9098541736602783 and ROC-AUC 0.9378396129902637\n",
      "test acc 0.9098541736602783\n",
      "\n",
      "2023-08-19 22:37:45...\n",
      "X_train (48723, 2381) Y_train (48723,) Y_tr_family (48723,)\n",
      "X_test (11606, 2381) Y_test (11606,) Y_te_family (11606,)\n",
      "loading best model ../AWS_SavedModel/AWSModel_400000/2018-01/best_model_epoch_51.pt\n",
      "\n",
      "\n",
      "task 1 num_Y_replay 29310\n",
      "\n",
      "\n",
      "\n",
      "X_train (48723, 2381) Y_train (48723,)\n",
      "\n",
      "\n",
      "X_train (48723, 2381) Y_train (48723,)\n",
      "\n",
      "2023-08-19 22:37:48 Standardizing ...\n"
     ]
    },
    {
     "name": "stderr",
     "output_type": "stream",
     "text": [
      "\r",
      "  0%|          | 0/8 [00:00<?, ?it/s]"
     ]
    },
    {
     "name": "stdout",
     "output_type": "stream",
     "text": [
      "2023-08-19 22:37:53 Training ...\n",
      "Epoch 1 of 500\n"
     ]
    },
    {
     "name": "stderr",
     "output_type": "stream",
     "text": [
      "100%|██████████| 8/8 [00:01<00:00,  5.79it/s]\n",
      "100%|██████████| 2/2 [00:00<00:00,  7.99it/s]\n",
      "  0%|          | 0/8 [00:00<?, ?it/s]"
     ]
    },
    {
     "name": "stdout",
     "output_type": "stream",
     "text": [
      "Train Loss: 0.2790, Train Acc: 0.8942\n",
      "Val Loss: 0.1958, Val Acc: 0.9275\n",
      "Validation loss decreased (inf --> 0.195784).  Saving model ...\n",
      "../AWS_SavedModel/AWSModel_400000/2018-02/best_model_epoch_1.pt\n",
      "../AWS_SavedModel/AWSOpt_400000/2018-02/best_optimizer_epoch_1.pt\n",
      "Epoch 2 of 500\n"
     ]
    },
    {
     "name": "stderr",
     "output_type": "stream",
     "text": [
      "100%|██████████| 8/8 [00:01<00:00,  5.84it/s]\n",
      "100%|██████████| 2/2 [00:00<00:00,  5.39it/s]\n",
      "  0%|          | 0/8 [00:00<?, ?it/s]"
     ]
    },
    {
     "name": "stdout",
     "output_type": "stream",
     "text": [
      "Train Loss: 0.2418, Train Acc: 0.9056\n",
      "Val Loss: 0.1904, Val Acc: 0.9225\n",
      "Validation loss decreased (0.195784 --> 0.190405).  Saving model ...\n",
      "../AWS_SavedModel/AWSModel_400000/2018-02/best_model_epoch_2.pt\n",
      "../AWS_SavedModel/AWSOpt_400000/2018-02/best_optimizer_epoch_2.pt\n",
      "Epoch 3 of 500\n"
     ]
    },
    {
     "name": "stderr",
     "output_type": "stream",
     "text": [
      "100%|██████████| 8/8 [00:01<00:00,  5.75it/s]\n",
      "100%|██████████| 2/2 [00:00<00:00,  7.98it/s]"
     ]
    },
    {
     "name": "stdout",
     "output_type": "stream",
     "text": [
      "Train Loss: 0.2225, Train Acc: 0.9110\n",
      "Val Loss: 0.1818, Val Acc: 0.9284\n",
      "Validation loss decreased (0.190405 --> 0.181840).  Saving model ...\n"
     ]
    },
    {
     "name": "stderr",
     "output_type": "stream",
     "text": [
      "\n"
     ]
    },
    {
     "ename": "KeyboardInterrupt",
     "evalue": "",
     "output_type": "error",
     "traceback": [
      "\u001b[0;31m---------------------------------------------------------------------------\u001b[0m",
      "\u001b[0;31mKeyboardInterrupt\u001b[0m                         Traceback (most recent call last)",
      "\u001b[0;32m<ipython-input-8-9f43f2699d1d>\u001b[0m in \u001b[0;36m<module>\u001b[0;34m\u001b[0m\n\u001b[1;32m    452\u001b[0m                             \u001b[0mX_train\u001b[0m\u001b[0;34m,\u001b[0m \u001b[0mY_train\u001b[0m\u001b[0;34m,\u001b[0m \u001b[0mX_test\u001b[0m\u001b[0;34m,\u001b[0m \u001b[0mY_test\u001b[0m\u001b[0;34m,\u001b[0m \u001b[0mpatience\u001b[0m\u001b[0;34m,\u001b[0m\u001b[0;31m\\\u001b[0m\u001b[0;34m\u001b[0m\u001b[0;34m\u001b[0m\u001b[0m\n\u001b[1;32m    453\u001b[0m                             \u001b[0mbatch_size\u001b[0m\u001b[0;34m,\u001b[0m \u001b[0mdevice\u001b[0m\u001b[0;34m,\u001b[0m \u001b[0moptimizer\u001b[0m\u001b[0;34m,\u001b[0m \u001b[0mnum_epoch\u001b[0m\u001b[0;34m,\u001b[0m\u001b[0;31m\\\u001b[0m\u001b[0;34m\u001b[0m\u001b[0;34m\u001b[0m\u001b[0m\n\u001b[0;32m--> 454\u001b[0;31m                              criterion, replay_type, current_task, 42, earlystopping=True)\n\u001b[0m\u001b[1;32m    455\u001b[0m \u001b[0;34m\u001b[0m\u001b[0m\n\u001b[1;32m    456\u001b[0m \u001b[0;34m\u001b[0m\u001b[0m\n",
      "\u001b[0;32m~/continual_research/Project_2_CL_Malware/Continual-Learning-PJR/EMBER_Domain/ember_model.py\u001b[0m in \u001b[0;36mtraining_early_stopping\u001b[0;34m(model, save_path, opt_save_path, X_train, y_train, X_valid, y_valid, patience, batch_size, device, optimizer, num_epoch, criterion, replay_type, current_task, exp, earlystopping)\u001b[0m\n\u001b[1;32m    315\u001b[0m         \u001b[0;31m#lr_scheduler(epoch_valid_loss)\u001b[0m\u001b[0;34m\u001b[0m\u001b[0;34m\u001b[0m\u001b[0;34m\u001b[0m\u001b[0m\n\u001b[1;32m    316\u001b[0m         \u001b[0;32mif\u001b[0m \u001b[0mearlystopping\u001b[0m\u001b[0;34m:\u001b[0m\u001b[0;34m\u001b[0m\u001b[0;34m\u001b[0m\u001b[0m\n\u001b[0;32m--> 317\u001b[0;31m             \u001b[0mearly_stopping\u001b[0m\u001b[0;34m(\u001b[0m\u001b[0msave_path\u001b[0m\u001b[0;34m,\u001b[0m \u001b[0mopt_save_path\u001b[0m\u001b[0;34m,\u001b[0m \u001b[0mepoch\u001b[0m\u001b[0;34m,\u001b[0m \u001b[0mepoch_valid_loss\u001b[0m\u001b[0;34m,\u001b[0m \u001b[0mmodel\u001b[0m\u001b[0;34m,\u001b[0m \u001b[0moptimizer\u001b[0m\u001b[0;34m)\u001b[0m\u001b[0;34m\u001b[0m\u001b[0;34m\u001b[0m\u001b[0m\n\u001b[0m\u001b[1;32m    318\u001b[0m \u001b[0;34m\u001b[0m\u001b[0m\n\u001b[1;32m    319\u001b[0m             \u001b[0;32mif\u001b[0m \u001b[0mearly_stopping\u001b[0m\u001b[0;34m.\u001b[0m\u001b[0mearly_stop\u001b[0m\u001b[0;34m:\u001b[0m\u001b[0;34m\u001b[0m\u001b[0;34m\u001b[0m\u001b[0m\n",
      "\u001b[0;32m~/continual_research/Project_2_CL_Malware/Continual-Learning-PJR/EMBER_Domain/ember_model.py\u001b[0m in \u001b[0;36m__call__\u001b[0;34m(self, path, opt_path, epoch, val_loss, model, optimizer)\u001b[0m\n\u001b[1;32m    241\u001b[0m         \u001b[0;32melse\u001b[0m\u001b[0;34m:\u001b[0m\u001b[0;34m\u001b[0m\u001b[0;34m\u001b[0m\u001b[0m\n\u001b[1;32m    242\u001b[0m             \u001b[0mself\u001b[0m\u001b[0;34m.\u001b[0m\u001b[0mbest_score\u001b[0m \u001b[0;34m=\u001b[0m \u001b[0mscore\u001b[0m\u001b[0;34m\u001b[0m\u001b[0;34m\u001b[0m\u001b[0m\n\u001b[0;32m--> 243\u001b[0;31m             \u001b[0mself\u001b[0m\u001b[0;34m.\u001b[0m\u001b[0msave_checkpoint\u001b[0m\u001b[0;34m(\u001b[0m\u001b[0mpath\u001b[0m\u001b[0;34m,\u001b[0m \u001b[0mopt_path\u001b[0m\u001b[0;34m,\u001b[0m \u001b[0mepoch\u001b[0m\u001b[0;34m,\u001b[0m \u001b[0mval_loss\u001b[0m\u001b[0;34m,\u001b[0m \u001b[0mmodel\u001b[0m\u001b[0;34m,\u001b[0m \u001b[0moptimizer\u001b[0m\u001b[0;34m)\u001b[0m\u001b[0;34m\u001b[0m\u001b[0;34m\u001b[0m\u001b[0m\n\u001b[0m\u001b[1;32m    244\u001b[0m             \u001b[0mself\u001b[0m\u001b[0;34m.\u001b[0m\u001b[0mcounter\u001b[0m \u001b[0;34m=\u001b[0m \u001b[0;36m0\u001b[0m\u001b[0;34m\u001b[0m\u001b[0;34m\u001b[0m\u001b[0m\n\u001b[1;32m    245\u001b[0m \u001b[0;34m\u001b[0m\u001b[0m\n",
      "\u001b[0;32m~/continual_research/Project_2_CL_Malware/Continual-Learning-PJR/EMBER_Domain/ember_model.py\u001b[0m in \u001b[0;36msave_checkpoint\u001b[0;34m(self, path, opt_path, epoch, val_loss, model, optimizer)\u001b[0m\n\u001b[1;32m    248\u001b[0m         \u001b[0;32mif\u001b[0m \u001b[0mself\u001b[0m\u001b[0;34m.\u001b[0m\u001b[0mverbose\u001b[0m\u001b[0;34m:\u001b[0m\u001b[0;34m\u001b[0m\u001b[0;34m\u001b[0m\u001b[0m\n\u001b[1;32m    249\u001b[0m             \u001b[0mself\u001b[0m\u001b[0;34m.\u001b[0m\u001b[0mtrace_func\u001b[0m\u001b[0;34m(\u001b[0m\u001b[0;34mf'Validation loss decreased ({self.val_loss_min:.6f} --> {val_loss:.6f}).  Saving model ...'\u001b[0m\u001b[0;34m)\u001b[0m\u001b[0;34m\u001b[0m\u001b[0;34m\u001b[0m\u001b[0m\n\u001b[0;32m--> 250\u001b[0;31m         \u001b[0mself\u001b[0m\u001b[0;34m.\u001b[0m\u001b[0mdelete_previous_saved_model\u001b[0m\u001b[0;34m(\u001b[0m\u001b[0mpath\u001b[0m\u001b[0;34m,\u001b[0m \u001b[0mopt_path\u001b[0m\u001b[0;34m)\u001b[0m\u001b[0;34m\u001b[0m\u001b[0;34m\u001b[0m\u001b[0m\n\u001b[0m\u001b[1;32m    251\u001b[0m         \u001b[0mpath\u001b[0m \u001b[0;34m=\u001b[0m \u001b[0mpath\u001b[0m \u001b[0;34m+\u001b[0m \u001b[0;34m'best_model_epoch_'\u001b[0m \u001b[0;34m+\u001b[0m \u001b[0mstr\u001b[0m\u001b[0;34m(\u001b[0m\u001b[0mepoch\u001b[0m\u001b[0;34m)\u001b[0m \u001b[0;34m+\u001b[0m \u001b[0;34m'.pt'\u001b[0m\u001b[0;34m\u001b[0m\u001b[0;34m\u001b[0m\u001b[0m\n\u001b[1;32m    252\u001b[0m         \u001b[0mprint\u001b[0m\u001b[0;34m(\u001b[0m\u001b[0;34mf'{path}'\u001b[0m\u001b[0;34m)\u001b[0m\u001b[0;34m\u001b[0m\u001b[0;34m\u001b[0m\u001b[0m\n",
      "\u001b[0;32m~/continual_research/Project_2_CL_Malware/Continual-Learning-PJR/EMBER_Domain/ember_model.py\u001b[0m in \u001b[0;36mdelete_previous_saved_model\u001b[0;34m(self, path, opt_path)\u001b[0m\n\u001b[1;32m    265\u001b[0m             \u001b[0;31m#print(prev_model)\u001b[0m\u001b[0;34m\u001b[0m\u001b[0;34m\u001b[0m\u001b[0;34m\u001b[0m\u001b[0m\n\u001b[1;32m    266\u001b[0m             \u001b[0;32mif\u001b[0m \u001b[0mos\u001b[0m\u001b[0;34m.\u001b[0m\u001b[0mpath\u001b[0m\u001b[0;34m.\u001b[0m\u001b[0misfile\u001b[0m\u001b[0;34m(\u001b[0m\u001b[0mprev_model\u001b[0m\u001b[0;34m)\u001b[0m\u001b[0;34m:\u001b[0m\u001b[0;34m\u001b[0m\u001b[0;34m\u001b[0m\u001b[0m\n\u001b[0;32m--> 267\u001b[0;31m                 \u001b[0mos\u001b[0m\u001b[0;34m.\u001b[0m\u001b[0mremove\u001b[0m\u001b[0;34m(\u001b[0m\u001b[0mprev_model\u001b[0m\u001b[0;34m)\u001b[0m\u001b[0;34m\u001b[0m\u001b[0;34m\u001b[0m\u001b[0m\n\u001b[0m\u001b[1;32m    268\u001b[0m             \u001b[0;32melse\u001b[0m\u001b[0;34m:\u001b[0m \u001b[0;32mpass\u001b[0m\u001b[0;34m\u001b[0m\u001b[0;34m\u001b[0m\u001b[0m\n\u001b[1;32m    269\u001b[0m \u001b[0;34m\u001b[0m\u001b[0m\n",
      "\u001b[0;31mKeyboardInterrupt\u001b[0m: "
     ]
    }
   ],
   "source": [
    "\n",
    "class Ember_MLP_Net_V2(nn.Module):\n",
    "    def __init__(self):\n",
    "        super(Ember_MLP_Net_V2, self).__init__()\n",
    "        \n",
    "        input_features = 2381\n",
    "        self.fc1 = nn.Linear(input_features, 1024)\n",
    "        self.fc1_bn = nn.BatchNorm1d(1024)\n",
    "        self.act1 = nn.ReLU()\n",
    "        self.fc1_drop = nn.Dropout(p=0.5)\n",
    "        \n",
    "        self.fc2 = nn.Linear(1024, 512)\n",
    "        self.fc2_bn = nn.BatchNorm1d(512)\n",
    "        self.act2 = nn.ReLU()\n",
    "        self.fc2_drop = nn.Dropout(p=0.5)\n",
    "        \n",
    "        self.fc3 = nn.Linear(512, 256)\n",
    "        self.fc3_bn = nn.BatchNorm1d(256)\n",
    "        self.act3 = nn.ReLU()\n",
    "        self.fc3_drop = nn.Dropout(p=0.5)        \n",
    "        \n",
    "        self.fc4 = nn.Linear(256, 128)\n",
    "        self.fc4_bn = nn.BatchNorm1d(128)\n",
    "        self.act4 = nn.ReLU()\n",
    "        self.fc4_drop = nn.Dropout(p=0.5)  \n",
    "        \n",
    "        self.fc_last = nn.Linear(128, 1) \n",
    "        self.out = nn.Sigmoid()\n",
    "        \n",
    "        #self.activate = nn.ReLU()\n",
    "\n",
    "    def forward(self, x):\n",
    "        x = x.view(x.size(0), -1)\n",
    "        #print(x.shape)\n",
    "        x = self.fc1(x)\n",
    "        #x = self.fc1_bn(x)\n",
    "        x = self.act1(x) \n",
    "        x = self.fc1_drop(x)\n",
    "\n",
    "        x = self.fc2(x)\n",
    "        #x = self.fc2_bn(x)\n",
    "        x = self.act2(x) \n",
    "        x = self.fc2_drop(x)\n",
    "        \n",
    "        x = self.fc3(x)\n",
    "        #x = self.fc3_bn(x)\n",
    "        x = self.act3(x) \n",
    "        x = self.fc3_drop(x)\n",
    "        \n",
    "        x = self.fc4(x)\n",
    "        #x = self.fc4_bn(x)\n",
    "        x = self.act4(x)\n",
    "        x = self.fc4_drop(x)\n",
    "        \n",
    "        x = self.fc_last(x)\n",
    "        x = self.out(x)\n",
    "        return x\n",
    "\n",
    "\n",
    "def get_dataloader_weights(X, y, batch_size):\n",
    "    \n",
    "    X_ = torch.from_numpy(np.array(X)).type(torch.FloatTensor)\n",
    "    y_ = torch.from_numpy(y).type(torch.FloatTensor)\n",
    "    \n",
    "    data_tensored = torch.utils.data.TensorDataset(X_,y_)    \n",
    "    \n",
    "    data_loader = torch.utils.data.DataLoader(data_tensored, batch_size = batch_size,\n",
    "                                              num_workers=1, drop_last=False)\n",
    "    return data_loader\n",
    "\n",
    "\n",
    "\n",
    "def get_weights(model, layer, X_, Y_, batch_size, device):\n",
    "    \n",
    "    activation = {}\n",
    "    def get_activation(name):\n",
    "        def hook(model, input, output):\n",
    "            activation[name] = output.detach()\n",
    "        return hook\n",
    "    \n",
    "    if layer == 'fc2':\n",
    "        model.fc2.register_forward_hook(get_activation(layer))\n",
    "    elif layer == 'fc3':\n",
    "        model.fc3.register_forward_hook(get_activation(layer))\n",
    "    elif layer == 'fc4':\n",
    "        model.fc4.register_forward_hook(get_activation(layer))\n",
    "    elif layer == 'fc2_bn':\n",
    "        model.fc2_bn.register_forward_hook(get_activation(layer))\n",
    "    elif layer == 'fc3_bn':\n",
    "        model.fc3_bn.register_forward_hook(get_activation(layer))\n",
    "    elif layer == 'fc4_bn':\n",
    "        model.fc4_bn.register_forward_hook(get_activation(layer))\n",
    "    elif layer == 'act2':\n",
    "        model.act2.register_forward_hook(get_activation(layer))\n",
    "    elif layer == 'act3':\n",
    "        model.act3.register_forward_hook(get_activation(layer))\n",
    "    elif layer == 'act4':\n",
    "        model.act4.register_forward_hook(get_activation(layer)) \n",
    "    \n",
    "    dataloader = get_dataloader_weights(X_, Y_, batch_size)   \n",
    "    \n",
    "    model.eval()\n",
    "    \n",
    "    features = []\n",
    "\n",
    "    with torch.no_grad():\n",
    "        for x_batch, y_batch in tqdm(dataloader):\n",
    "            x_batch, y_batch = x_batch.to(device), y_batch.to(device)\n",
    "            y_test_pred = model(x_batch)\n",
    "            feats_batch = activation[layer].cpu().numpy()\n",
    "            \n",
    "            for f in feats_batch:\n",
    "                features.append(f)\n",
    " \n",
    "            \n",
    "    assert len(features) == len(X_)      \n",
    "    return np.array(features)\n",
    "\n",
    "\n",
    "\n",
    "def GetFamilyDict(X_train, Y_train, Y_train_family,\\\n",
    "                  task_month, mal_cnt, global_family_dict):\n",
    "    count = 0\n",
    "    for x_ind, x_sample in enumerate(X_train):\n",
    "        count += 1\n",
    "        #print(x_ind, Y_train[x_ind])\n",
    "\n",
    "        if Y_train[x_ind] == 0:\n",
    "            global_family_dict[\"goodware\"].append(x_sample)\n",
    "        if Y_train[x_ind] == 1:\n",
    "            mal_cnt += 1\n",
    "            \n",
    "            if Y_train_family[x_ind] == '':\n",
    "                global_family_dict[\"others_family\"].append(x_sample)\n",
    "            else:\n",
    "                global_family_dict[Y_train_family[x_ind]].append(x_sample)\n",
    "    \n",
    "    #print(f'Task {task_month} and #-of new samples stored {count}')\n",
    "    \n",
    "    return global_family_dict, mal_cnt\n",
    "\n",
    "\n",
    "def AWS_Samples(v, v_weights, v_choose, get_anomalous=True, contamination=0.1):\n",
    "    \n",
    "    v_weights = np.array(v_weights) \n",
    "    data_X = v\n",
    "    \n",
    "    clf = IsolationForest(max_samples=len(v_weights), contamination=contamination)\n",
    "    clf.fit(v_weights)\n",
    "    y_pred = clf.predict(v_weights)\n",
    "    anomalous_idx = np.where(y_pred == -1.0)\n",
    "    similar_idx = np.where(y_pred == 1.0)\n",
    "\n",
    "    assert len(anomalous_idx[0]) + len(similar_idx[0]) == len(y_pred)\n",
    "    \n",
    "    if get_anomalous:\n",
    "        anomalous_samples_pool = list(data_X[anomalous_idx])\n",
    "        similar_samples_pool = list(data_X[similar_idx])\n",
    "\n",
    "        v_choose_split = int(np.ceil(v_choose/2))\n",
    "\n",
    "        if len(anomalous_samples_pool) > v_choose_split:\n",
    "            anomalous_samples = random.sample(anomalous_samples_pool, v_choose_split)\n",
    "\n",
    "        else:\n",
    "            anomalous_samples = anomalous_samples_pool\n",
    "\n",
    "        if len(anomalous_samples) == v_choose_split:\n",
    "            similar_samples = random.sample(similar_samples_pool, v_choose_split)\n",
    "        elif len(anomalous_samples) < v_choose_split:\n",
    "            v_choose_split += v_choose_split - len(anomalous_samples)\n",
    "            if len(similar_samples_pool) > v_choose_split:\n",
    "                similar_samples = random.sample(similar_samples_pool, v_choose_split)\n",
    "            else:\n",
    "                similar_samples = similar_samples_pool\n",
    "        if len(anomalous_samples) > 0 and len(similar_samples) > 0: \n",
    "            anomalous_samples, similar_samples = np.array(anomalous_samples), np.array(similar_samples)\n",
    "            #print(f'anomalous_samples {anomalous_samples.shape} similar_samples {similar_samples.shape}')\n",
    "            replay_samples = np.concatenate((anomalous_samples, similar_samples))\n",
    "        else:\n",
    "            if len(anomalous_samples) <= 0:\n",
    "                replay_samples = similar_samples\n",
    "            if len(similar_samples) <= 0:\n",
    "                replay_samples = anomalous_samples\n",
    "    else:\n",
    "        similar_samples_pool = list(data_X[similar_idx])\n",
    "        if len(similar_samples_pool) > v_choose:\n",
    "            similar_samples = random.sample(similar_samples_pool, v_choose)\n",
    "        else:\n",
    "            similar_samples = similar_samples_pool\n",
    "            \n",
    "        replay_samples = np.array(similar_samples)\n",
    "        \n",
    "    return replay_samples\n",
    "\n",
    "\n",
    "def AWS(GFamilyDict, memory_budget, model, layer, batch_size, device,\\\n",
    "        goodware_ifs=False, min_samples=1, fs_option='ratio'):\n",
    "    #fs_option = 'uniform'\n",
    "    #memory_budget = 1000\n",
    "    goodware_budget = malware_budget = int(np.ceil(memory_budget/2))\n",
    "    \n",
    "    num_families = len(GFamilyDict.keys()) - 1 \n",
    "    pre_malSamples = []\n",
    "    #cnt = 0\n",
    "    #fam_cnt = 0\n",
    "    \n",
    "    for k, v in GFamilyDict.items():\n",
    "        \n",
    "        if k != 'goodware':\n",
    "            if fs_option != 'gifs':\n",
    "                #fam_cnt += 1\n",
    "                v = np.array(v)\n",
    "                #print(f'{k} - {len(v)}')\n",
    "                #cnt += len(v)\n",
    "\n",
    "                if fs_option == 'ratio':\n",
    "                    v_choose = int(np.ceil((len(v) / malware_count) * malware_budget))\n",
    "                \n",
    "                if fs_option == 'uniform':\n",
    "                    v_choose = int(np.ceil(malware_budget / num_families))\n",
    "                \n",
    "                if fs_option == 'mix':\n",
    "                    v_choose = int(np.ceil((len(v) / malware_count) * malware_budget))\n",
    "                    if v_choose < min_samples:\n",
    "                        #print(f'v_choose {v_choose} min_samples {min_samples}')\n",
    "                        v_choose = min_samples\n",
    "                    #else: print(f'v_choose {v_choose} **')                \n",
    "\n",
    "                if len(v) <= v_choose:\n",
    "                    for i in v:\n",
    "                        pre_malSamples.append(i)\n",
    "                else:\n",
    "                    v_Y = np.ones(len(v))\n",
    "                    v_weights = get_weights(model, layer, v, v_Y, batch_size, device)\n",
    "                    v = AWS_Samples(v, v_weights, v_choose, get_anomalous=True, contamination=0.1)\n",
    "                    \n",
    "                    for i in v:\n",
    "                        pre_malSamples.append(i)\n",
    "            else:\n",
    "                for i in v:\n",
    "                    pre_malSamples.append(i)\n",
    "    \n",
    "    if fs_option == 'gifs':\n",
    "        if malware_budget < len(pre_malSamples):\n",
    "            pre_malSamples = random.sample(list(pre_malSamples), malware_budget)\n",
    "    \n",
    "    \n",
    "    all_Goodware = GFamilyDict['goodware']\n",
    "    if goodware_ifs:\n",
    "        #print(f'I am here NOW.')\n",
    "        pre_GoodSamples = []\n",
    "            \n",
    "        if len(all_Goodware) > goodware_budget:\n",
    "            v = all_Goodware\n",
    "            v_Y = np.ones(len(v))\n",
    "            v_weights = get_weights(model, layer, v, v_Y, batch_size, device)\n",
    "            v_choose = goodware_budget\n",
    "            v = AWS_Samples(v, v_weights, v_choose, get_anomalous=True, contamination=0.1)\n",
    "            for i in v:\n",
    "                pre_GoodSamples.append(i)\n",
    "        else:\n",
    "            for i in v:\n",
    "                pre_GoodSamples.append(i)\n",
    "    else:\n",
    "        if goodware_budget > len(all_Goodware):\n",
    "            pre_GoodSamples = all_Goodware\n",
    "        else:\n",
    "            pre_GoodSamples = random.sample(list(all_Goodware), goodware_budget)\n",
    "    \n",
    "    \n",
    "    samples_to_replay = np.concatenate((np.array(pre_GoodSamples), np.array(pre_malSamples)))\n",
    "    labels_to_replay = np.concatenate((np.zeros(len(pre_GoodSamples)), np.ones(len(pre_malSamples))))\n",
    "    \n",
    "    X_replay, Y_replay = shuffle(samples_to_replay, labels_to_replay)\n",
    "    \n",
    "    return X_replay, Y_replay\n",
    "\n",
    "\n",
    "def MixSampleCount(GBudget, MinBudget, GFamilyDict):\n",
    "    \n",
    "    print(f'budget unallocated {GBudget} MinBudget {MinBudget}')\n",
    "    \n",
    "    tmpBudget = GBudget\n",
    "    \n",
    "    GfamStat = {}\n",
    "    \n",
    "    for fam, S in GFamilyDict.items():\n",
    "        if fam != 'goodware':\n",
    "            GfamStat[fam] = len(S)\n",
    "    \n",
    "    assert len(GfamStat.keys()) == len(GFamilyDict.keys()) - 1\n",
    "    \n",
    "    GfamChoose = {}\n",
    "    GfamTemp = {}\n",
    "    \n",
    "    allocated = 0\n",
    "    for fam, numSample in GfamStat.items():\n",
    "        if numSample > MinBudget:\n",
    "            GfamChoose[fam] = MinBudget\n",
    "            GfamTemp[fam] = numSample - MinBudget\n",
    "            GBudget -= MinBudget\n",
    "            allocated += MinBudget\n",
    "        else:\n",
    "            GfamChoose[fam] = numSample\n",
    "            GfamTemp[fam] = 0\n",
    "            GBudget -= numSample\n",
    "            allocated += numSample\n",
    "    \n",
    "    print(f'GBudget {GBudget} allocated {allocated}')\n",
    "    \n",
    "    if allocated > tmpBudget:\n",
    "        print(f'reduce minimum samples, budget is lower than required allocation')\n",
    "    \n",
    "    UnallocatedSamples = int(sum(GfamTemp.values()))\n",
    "\n",
    "    #print(f'allocated {allocated} unallocated {GBudget} Sample remainin {UnallocatedSamples}')\n",
    "    for fam, numSample in GfamTemp.items():\n",
    "        if numSample != 0:\n",
    "            #print(f'here ')\n",
    "            allocate = int(np.round((numSample/UnallocatedSamples) * GBudget))\n",
    "            #print(f'GBudget {GBudget} {np.round(numSample/UnallocatedSamples)} allocate {allocate}')\n",
    "            GfamChoose[fam] += allocate\n",
    "            \n",
    "    #print(f'_________________')        \n",
    "            \n",
    "    return GfamChoose\n",
    "\n",
    "\n",
    "\n",
    "\n",
    "all_task_months = ['2018-01', '2018-02', '2018-03', '2018-04', '2018-05', '2018-06',\n",
    "                   '2018-07', '2018-08', '2018-09', '2018-10', '2018-11', '2018-12']\n",
    "\n",
    "# data_dir = '../../month_based_processing_with_family_labels/'\n",
    "\n",
    "patience = 5\n",
    "replay_type = 'aws'\n",
    "\n",
    "\n",
    "data_dir = '../../../month_based_processing_with_family_labels/' #args.data_dir\n",
    "num_exps = 1 #args.num_exps\n",
    "contamination = 0.1 #args.contamination #0.1 #[0.2, 0.3, 0.4, 0.5]\n",
    "\n",
    "replay_type = ifs_option = 'ratio'\n",
    "num_epoch = 500\n",
    "batch_size = 6000\n",
    "memory_budget = 400000\n",
    "min_samples = 0\n",
    "layer = 'act4'\n",
    "batch_norm = 'no'\n",
    "\n",
    "\n",
    "exp_seeds = [random.randint(1, 99999) for i in range(num_exps)]\n",
    "\n",
    "use_cuda = True\n",
    "print('Torch', torch.__version__, 'CUDA', torch.version.cuda)\n",
    "use_cuda = use_cuda and torch.cuda.is_available()\n",
    "device = torch.device(\"cuda\" if use_cuda else \"cpu\")\n",
    "torch.manual_seed(42)\n",
    "\n",
    "model = Ember_MLP_Net()\n",
    "\n",
    "optimizer = torch.optim.SGD(model.parameters(), lr=0.01, momentum=0.9, weight_decay=0.000001)\n",
    "\n",
    "if torch.cuda.device_count() > 1:\n",
    "    print(\"Let's use\", torch.cuda.device_count(), \"GPUs!\")\n",
    "    model = nn.DataParallel(model)\n",
    "\n",
    "model = model.to(device)\n",
    "print(f'Model has {count_parameters(model)/1000000}m parameters')    \n",
    "criterion = nn.BCELoss()    \n",
    "\n",
    "GFamilyDict = defaultdict(list)\n",
    "malware_count = 0\n",
    "\n",
    "standardization = StandardScaler()\n",
    "standard_scaler = None\n",
    "\n",
    "for task_month in range(len(all_task_months[:2])):\n",
    "\n",
    "    print(f'\\n{datetime.datetime.now().strftime(\"%Y-%m-%d %H:%M:%S\")}...')\n",
    "    task_start = time.time()\n",
    "    \n",
    "    #task_month = task_month\n",
    "    current_task = all_task_months[task_month]\n",
    "    task_months = all_task_months[:task_month+1]\n",
    "    #print(f'Current Task {current_task} w/ {num_samples_per_malware_family} samples to Replay per Malware family.')\n",
    "\n",
    "\n",
    "    model_save_dir = '../AWS_SavedModel' + '/AWSModel_' + str(memory_budget) + '/' + str(current_task) + '/'\n",
    "    create_parent_folder(model_save_dir)\n",
    "\n",
    "    opt_save_path = '../AWS_SavedModel' + '/AWSOpt_' + str(memory_budget) + '/' + str(current_task) + '/'\n",
    "    create_parent_folder(opt_save_path)\n",
    "\n",
    "    results_save_dir =  './AWS_SavedResults_' +'/AWS_' + str(memory_budget) + '/' \n",
    "    create_parent_folder(results_save_dir)\n",
    "\n",
    "\n",
    "    X_train, Y_train, Y_train_family = get_family_labeled_month_data(data_dir, current_task)\n",
    "    X_test, Y_test, Y_test_family = get_family_labeled_task_test_data(data_dir, task_months, mlp_net=True)\n",
    "\n",
    "\n",
    "    if current_task == all_task_months[0]:\n",
    "        GFamilyDict, malware_count = GetFamilyDict(X_train, Y_train, Y_train_family,\\\n",
    "                                               current_task, malware_count, GFamilyDict)\n",
    "        num_Y_replay = 0\n",
    "        print(f'\\n\\ntask {task_month} num_Y_replay {num_Y_replay}\\n\\n')\n",
    "    else:\n",
    "        model_new = Ember_MLP_Net_V2()\n",
    "        model_new = model_new.to(device)\n",
    "        #load the best model for this task\n",
    "        #best_model_path = model_save_dir + os.listdir(model_save_dir)[0]\n",
    "        print(f'loading best model {best_model_path}')\n",
    "        model_new.load_state_dict(torch.load(best_model_path))\n",
    "        \n",
    "        X_replay, Y_replay = AWS(GFamilyDict, memory_budget, model_new,\\\n",
    "                                          layer, batch_size, device,\\\n",
    "                                          goodware_ifs=True, min_samples=min_samples,\n",
    "                                          fs_option=ifs_option)\n",
    "        \n",
    "        num_Y_replay = len(Y_replay)\n",
    "        print(f'\\n\\ntask {task_month} num_Y_replay {num_Y_replay}\\n\\n')\n",
    "        GFamilyDict, malware_count = GetFamilyDict(X_train, Y_train, Y_train_family,\\\n",
    "                                       current_task, malware_count, GFamilyDict)\n",
    "    print()\n",
    "    print(f'X_train {X_train.shape} Y_train {Y_train.shape}')\n",
    "    print()\n",
    "    \n",
    "    X_train, Y_train = shuffle(X_train, Y_train)\n",
    "\n",
    "    print()\n",
    "    print(f'X_train {X_train.shape} Y_train {Y_train.shape}')\n",
    "    print()\n",
    "\n",
    "    print(f'{datetime.datetime.now().strftime(\"%Y-%m-%d %H:%M:%S\")} Standardizing ...')\n",
    "    standard_scaler = standardization.partial_fit(X_train)\n",
    "\n",
    "    X_train = standard_scaler.transform(X_train)\n",
    "    X_test = standard_scaler.transform(X_test)\n",
    "\n",
    "    X_train, Y_train = np.array(X_train, np.float32), np.array(Y_train, np.int32)\n",
    "    X_test, Y_test = np.array(X_test, np.float32), np.array(Y_test, np.int32)\n",
    "\n",
    "\n",
    "    print(f'{datetime.datetime.now().strftime(\"%Y-%m-%d %H:%M:%S\")} Training ...')\n",
    "    task_training_time, epoch_ran, training_loss, validation_loss  =\\\n",
    "                            training_early_stopping(model, model_save_dir, opt_save_path,\\\n",
    "                            X_train, Y_train, X_test, Y_test, patience,\\\n",
    "                            batch_size, device, optimizer, num_epoch,\\\n",
    "                             criterion, replay_type, current_task, 42, earlystopping=True)\n",
    "\n",
    "\n",
    "\n",
    "    model = Ember_MLP_Net()\n",
    "    model = model.to(device)\n",
    "    #load the best model for this task\n",
    "    best_model_path = model_save_dir + os.listdir(model_save_dir)[0]\n",
    "    print(f'loading best model {best_model_path}')\n",
    "    model.load_state_dict(torch.load(best_model_path))\n",
    "\n",
    "\n",
    "    optimizer = torch.optim.SGD(model.parameters(), lr=0.01, momentum=0.9, weight_decay=0.000001)\n",
    "    best_optimizer = opt_save_path + os.listdir(opt_save_path)[0]\n",
    "    print(f'loading best optimizer {best_optimizer}')\n",
    "    optimizer.load_state_dict(torch.load(best_optimizer))\n",
    "\n",
    "    acc, precision, recall, f1score = testing_aucscore(model, X_test, Y_test, batch_size, device)\n",
    "    \n",
    "    print(f'test acc {acc}')\n",
    "    "
   ]
  },
  {
   "cell_type": "code",
   "execution_count": 22,
   "metadata": {},
   "outputs": [
    {
     "name": "stdout",
     "output_type": "stream",
     "text": [
      "pre_GoodSamples (47058, 2381) pre_malSamples (57387, 2381)\n",
      "Y_replay (104445,)\n"
     ]
    }
   ],
   "source": [
    "\n",
    "\n",
    "X_replay, Y_replay = AWS(GFamilyDict, memory_budget, model_new,\\\n",
    "                                          layer, batch_size, device,\\\n",
    "                                          goodware_ifs=True, min_samples=min_samples,\n",
    "                                          fs_option=ifs_option)\n",
    "\n",
    "print(f'Y_replay {Y_replay.shape}')"
   ]
  },
  {
   "cell_type": "code",
   "execution_count": 23,
   "metadata": {},
   "outputs": [
    {
     "name": "stdout",
     "output_type": "stream",
     "text": [
      "pre_GoodSamples (47058, 2381) pre_malSamples (57387, 2381)\n",
      "Y_replay (104445,)\n"
     ]
    }
   ],
   "source": [
    "\n",
    "\n",
    "X_replay, Y_replay = AWS(GFamilyDict, memory_budget, model_new,\\\n",
    "                                          layer, batch_size, device,\\\n",
    "                                          goodware_ifs=True, min_samples=min_samples,\n",
    "                                          fs_option='uniform')\n",
    "\n",
    "print(f'Y_replay {Y_replay.shape}')"
   ]
  },
  {
   "cell_type": "code",
   "execution_count": 29,
   "metadata": {},
   "outputs": [
    {
     "name": "stderr",
     "output_type": "stream",
     "text": [
      "\r",
      "  0%|          | 0/1 [00:00<?, ?it/s]"
     ]
    },
    {
     "name": "stdout",
     "output_type": "stream",
     "text": [
      "len(v) 305 > v_choose 39\n"
     ]
    },
    {
     "name": "stderr",
     "output_type": "stream",
     "text": [
      "100%|██████████| 1/1 [00:00<00:00,  3.23it/s]\n",
      "  0%|          | 0/1 [00:00<?, ?it/s]"
     ]
    },
    {
     "name": "stdout",
     "output_type": "stream",
     "text": [
      "len(v) 871 > v_choose 39\n"
     ]
    },
    {
     "name": "stderr",
     "output_type": "stream",
     "text": [
      "100%|██████████| 1/1 [00:00<00:00,  3.13it/s]\n",
      "  0%|          | 0/1 [00:00<?, ?it/s]"
     ]
    },
    {
     "name": "stdout",
     "output_type": "stream",
     "text": [
      "len(v) 4739 > v_choose 39\n"
     ]
    },
    {
     "name": "stderr",
     "output_type": "stream",
     "text": [
      "100%|██████████| 1/1 [00:00<00:00,  2.16it/s]\n",
      "  0%|          | 0/2 [00:00<?, ?it/s]"
     ]
    },
    {
     "name": "stdout",
     "output_type": "stream",
     "text": [
      "len(v) 9832 > v_choose 39\n"
     ]
    },
    {
     "name": "stderr",
     "output_type": "stream",
     "text": [
      "100%|██████████| 2/2 [00:00<00:00,  3.47it/s]\n",
      "  0%|          | 0/1 [00:00<?, ?it/s]"
     ]
    },
    {
     "name": "stdout",
     "output_type": "stream",
     "text": [
      "len(v) 3660 > v_choose 39\n"
     ]
    },
    {
     "name": "stderr",
     "output_type": "stream",
     "text": [
      "100%|██████████| 1/1 [00:00<00:00,  2.32it/s]\n",
      "  0%|          | 0/1 [00:00<?, ?it/s]"
     ]
    },
    {
     "name": "stdout",
     "output_type": "stream",
     "text": [
      "len(v) 3932 > v_choose 39\n"
     ]
    },
    {
     "name": "stderr",
     "output_type": "stream",
     "text": [
      "100%|██████████| 1/1 [00:00<00:00,  2.55it/s]\n",
      "  0%|          | 0/1 [00:00<?, ?it/s]"
     ]
    },
    {
     "name": "stdout",
     "output_type": "stream",
     "text": [
      "len(v) 7 <= v_choose 39\n",
      "len(v) 36 <= v_choose 39\n",
      "len(v) 2 <= v_choose 39\n",
      "len(v) 37 <= v_choose 39\n",
      "len(v) 104 > v_choose 39\n"
     ]
    },
    {
     "name": "stderr",
     "output_type": "stream",
     "text": [
      "100%|██████████| 1/1 [00:00<00:00,  3.85it/s]\n",
      "  0%|          | 0/1 [00:00<?, ?it/s]"
     ]
    },
    {
     "name": "stdout",
     "output_type": "stream",
     "text": [
      "len(v) 1 <= v_choose 39\n",
      "len(v) 31 <= v_choose 39\n",
      "len(v) 513 > v_choose 39\n"
     ]
    },
    {
     "name": "stderr",
     "output_type": "stream",
     "text": [
      "100%|██████████| 1/1 [00:00<00:00,  3.69it/s]\n",
      "  0%|          | 0/1 [00:00<?, ?it/s]"
     ]
    },
    {
     "name": "stdout",
     "output_type": "stream",
     "text": [
      "len(v) 549 > v_choose 39\n"
     ]
    },
    {
     "name": "stderr",
     "output_type": "stream",
     "text": [
      "100%|██████████| 1/1 [00:00<00:00,  3.22it/s]\n",
      "  0%|          | 0/1 [00:00<?, ?it/s]"
     ]
    },
    {
     "name": "stdout",
     "output_type": "stream",
     "text": [
      "len(v) 255 > v_choose 39\n"
     ]
    },
    {
     "name": "stderr",
     "output_type": "stream",
     "text": [
      "100%|██████████| 1/1 [00:00<00:00,  3.41it/s]\n",
      "  0%|          | 0/1 [00:00<?, ?it/s]"
     ]
    },
    {
     "name": "stdout",
     "output_type": "stream",
     "text": [
      "len(v) 26 <= v_choose 39\n",
      "len(v) 144 > v_choose 39\n"
     ]
    },
    {
     "name": "stderr",
     "output_type": "stream",
     "text": [
      "100%|██████████| 1/1 [00:00<00:00,  3.43it/s]\n",
      "  0%|          | 0/1 [00:00<?, ?it/s]"
     ]
    },
    {
     "name": "stdout",
     "output_type": "stream",
     "text": [
      "len(v) 842 > v_choose 39\n"
     ]
    },
    {
     "name": "stderr",
     "output_type": "stream",
     "text": [
      "100%|██████████| 1/1 [00:00<00:00,  3.25it/s]\n",
      "  0%|          | 0/1 [00:00<?, ?it/s]"
     ]
    },
    {
     "name": "stdout",
     "output_type": "stream",
     "text": [
      "len(v) 210 > v_choose 39\n"
     ]
    },
    {
     "name": "stderr",
     "output_type": "stream",
     "text": [
      "100%|██████████| 1/1 [00:00<00:00,  3.42it/s]\n",
      "  0%|          | 0/1 [00:00<?, ?it/s]"
     ]
    },
    {
     "name": "stdout",
     "output_type": "stream",
     "text": [
      "len(v) 1366 > v_choose 39\n"
     ]
    },
    {
     "name": "stderr",
     "output_type": "stream",
     "text": [
      "100%|██████████| 1/1 [00:00<00:00,  2.92it/s]\n",
      "  0%|          | 0/1 [00:00<?, ?it/s]"
     ]
    },
    {
     "name": "stdout",
     "output_type": "stream",
     "text": [
      "len(v) 905 > v_choose 39\n"
     ]
    },
    {
     "name": "stderr",
     "output_type": "stream",
     "text": [
      "100%|██████████| 1/1 [00:00<00:00,  3.16it/s]\n",
      "  0%|          | 0/1 [00:00<?, ?it/s]"
     ]
    },
    {
     "name": "stdout",
     "output_type": "stream",
     "text": [
      "len(v) 42 > v_choose 39\n"
     ]
    },
    {
     "name": "stderr",
     "output_type": "stream",
     "text": [
      "100%|██████████| 1/1 [00:00<00:00,  3.60it/s]\n",
      "  0%|          | 0/1 [00:00<?, ?it/s]"
     ]
    },
    {
     "name": "stdout",
     "output_type": "stream",
     "text": [
      "len(v) 646 > v_choose 39\n"
     ]
    },
    {
     "name": "stderr",
     "output_type": "stream",
     "text": [
      "100%|██████████| 1/1 [00:00<00:00,  3.32it/s]\n",
      "  0%|          | 0/1 [00:00<?, ?it/s]"
     ]
    },
    {
     "name": "stdout",
     "output_type": "stream",
     "text": [
      "len(v) 3258 > v_choose 39\n"
     ]
    },
    {
     "name": "stderr",
     "output_type": "stream",
     "text": [
      "100%|██████████| 1/1 [00:00<00:00,  2.43it/s]\n",
      "  0%|          | 0/1 [00:00<?, ?it/s]"
     ]
    },
    {
     "name": "stdout",
     "output_type": "stream",
     "text": [
      "len(v) 2046 > v_choose 39\n"
     ]
    },
    {
     "name": "stderr",
     "output_type": "stream",
     "text": [
      "100%|██████████| 1/1 [00:00<00:00,  2.93it/s]\n",
      "  0%|          | 0/1 [00:00<?, ?it/s]"
     ]
    },
    {
     "name": "stdout",
     "output_type": "stream",
     "text": [
      "len(v) 256 > v_choose 39\n"
     ]
    },
    {
     "name": "stderr",
     "output_type": "stream",
     "text": [
      "100%|██████████| 1/1 [00:00<00:00,  3.81it/s]\n",
      "  0%|          | 0/1 [00:00<?, ?it/s]"
     ]
    },
    {
     "name": "stdout",
     "output_type": "stream",
     "text": [
      "len(v) 462 > v_choose 39\n"
     ]
    },
    {
     "name": "stderr",
     "output_type": "stream",
     "text": [
      "100%|██████████| 1/1 [00:00<00:00,  3.35it/s]\n",
      "  0%|          | 0/1 [00:00<?, ?it/s]"
     ]
    },
    {
     "name": "stdout",
     "output_type": "stream",
     "text": [
      "len(v) 26 <= v_choose 39\n",
      "len(v) 89 > v_choose 39\n"
     ]
    },
    {
     "name": "stderr",
     "output_type": "stream",
     "text": [
      "100%|██████████| 1/1 [00:00<00:00,  3.66it/s]\n",
      "  0%|          | 0/1 [00:00<?, ?it/s]"
     ]
    },
    {
     "name": "stdout",
     "output_type": "stream",
     "text": [
      "len(v) 575 > v_choose 39\n"
     ]
    },
    {
     "name": "stderr",
     "output_type": "stream",
     "text": [
      "100%|██████████| 1/1 [00:00<00:00,  3.29it/s]\n",
      "  0%|          | 0/1 [00:00<?, ?it/s]"
     ]
    },
    {
     "name": "stdout",
     "output_type": "stream",
     "text": [
      "len(v) 327 > v_choose 39\n"
     ]
    },
    {
     "name": "stderr",
     "output_type": "stream",
     "text": [
      "100%|██████████| 1/1 [00:00<00:00,  3.33it/s]\n",
      "  0%|          | 0/1 [00:00<?, ?it/s]"
     ]
    },
    {
     "name": "stdout",
     "output_type": "stream",
     "text": [
      "len(v) 13 <= v_choose 39\n",
      "len(v) 5 <= v_choose 39\n",
      "len(v) 462 > v_choose 39\n"
     ]
    },
    {
     "name": "stderr",
     "output_type": "stream",
     "text": [
      "100%|██████████| 1/1 [00:00<00:00,  3.37it/s]\n",
      "  0%|          | 0/1 [00:00<?, ?it/s]"
     ]
    },
    {
     "name": "stdout",
     "output_type": "stream",
     "text": [
      "len(v) 846 > v_choose 39\n"
     ]
    },
    {
     "name": "stderr",
     "output_type": "stream",
     "text": [
      "100%|██████████| 1/1 [00:00<00:00,  3.16it/s]\n",
      "  0%|          | 0/1 [00:00<?, ?it/s]"
     ]
    },
    {
     "name": "stdout",
     "output_type": "stream",
     "text": [
      "len(v) 555 > v_choose 39\n"
     ]
    },
    {
     "name": "stderr",
     "output_type": "stream",
     "text": [
      "100%|██████████| 1/1 [00:00<00:00,  3.28it/s]\n",
      "  0%|          | 0/1 [00:00<?, ?it/s]"
     ]
    },
    {
     "name": "stdout",
     "output_type": "stream",
     "text": [
      "len(v) 82 > v_choose 39\n"
     ]
    },
    {
     "name": "stderr",
     "output_type": "stream",
     "text": [
      "100%|██████████| 1/1 [00:00<00:00,  3.64it/s]\n",
      "  0%|          | 0/1 [00:00<?, ?it/s]"
     ]
    },
    {
     "name": "stdout",
     "output_type": "stream",
     "text": [
      "len(v) 32 <= v_choose 39\n",
      "len(v) 26 <= v_choose 39\n",
      "len(v) 38 <= v_choose 39\n",
      "len(v) 19 <= v_choose 39\n",
      "len(v) 43 > v_choose 39\n"
     ]
    },
    {
     "name": "stderr",
     "output_type": "stream",
     "text": [
      "100%|██████████| 1/1 [00:00<00:00,  3.68it/s]\n",
      "  0%|          | 0/1 [00:00<?, ?it/s]"
     ]
    },
    {
     "name": "stdout",
     "output_type": "stream",
     "text": [
      "len(v) 25 <= v_choose 39\n",
      "len(v) 27 <= v_choose 39\n",
      "len(v) 347 > v_choose 39\n"
     ]
    },
    {
     "name": "stderr",
     "output_type": "stream",
     "text": [
      "100%|██████████| 1/1 [00:00<00:00,  3.50it/s]\n",
      "  0%|          | 0/1 [00:00<?, ?it/s]"
     ]
    },
    {
     "name": "stdout",
     "output_type": "stream",
     "text": [
      "len(v) 81 > v_choose 39\n"
     ]
    },
    {
     "name": "stderr",
     "output_type": "stream",
     "text": [
      "100%|██████████| 1/1 [00:00<00:00,  3.50it/s]\n",
      "  0%|          | 0/1 [00:00<?, ?it/s]"
     ]
    },
    {
     "name": "stdout",
     "output_type": "stream",
     "text": [
      "len(v) 106 > v_choose 39\n"
     ]
    },
    {
     "name": "stderr",
     "output_type": "stream",
     "text": [
      "100%|██████████| 1/1 [00:00<00:00,  3.52it/s]\n",
      "  0%|          | 0/1 [00:00<?, ?it/s]"
     ]
    },
    {
     "name": "stdout",
     "output_type": "stream",
     "text": [
      "len(v) 131 > v_choose 39\n"
     ]
    },
    {
     "name": "stderr",
     "output_type": "stream",
     "text": [
      "100%|██████████| 1/1 [00:00<00:00,  3.62it/s]\n",
      "  0%|          | 0/1 [00:00<?, ?it/s]"
     ]
    },
    {
     "name": "stdout",
     "output_type": "stream",
     "text": [
      "len(v) 53 > v_choose 39\n"
     ]
    },
    {
     "name": "stderr",
     "output_type": "stream",
     "text": [
      "100%|██████████| 1/1 [00:00<00:00,  3.66it/s]\n",
      "  0%|          | 0/1 [00:00<?, ?it/s]"
     ]
    },
    {
     "name": "stdout",
     "output_type": "stream",
     "text": [
      "len(v) 32 <= v_choose 39\n",
      "len(v) 23 <= v_choose 39\n",
      "len(v) 4 <= v_choose 39\n",
      "len(v) 23 <= v_choose 39\n",
      "len(v) 798 > v_choose 39\n"
     ]
    },
    {
     "name": "stderr",
     "output_type": "stream",
     "text": [
      "100%|██████████| 1/1 [00:00<00:00,  3.16it/s]\n",
      "  0%|          | 0/1 [00:00<?, ?it/s]"
     ]
    },
    {
     "name": "stdout",
     "output_type": "stream",
     "text": [
      "len(v) 14 <= v_choose 39\n",
      "len(v) 21 <= v_choose 39\n",
      "len(v) 14 <= v_choose 39\n",
      "len(v) 1123 > v_choose 39\n"
     ]
    },
    {
     "name": "stderr",
     "output_type": "stream",
     "text": [
      "100%|██████████| 1/1 [00:00<00:00,  3.07it/s]\n",
      "  0%|          | 0/1 [00:00<?, ?it/s]"
     ]
    },
    {
     "name": "stdout",
     "output_type": "stream",
     "text": [
      "len(v) 15 <= v_choose 39\n",
      "len(v) 41 > v_choose 39\n"
     ]
    },
    {
     "name": "stderr",
     "output_type": "stream",
     "text": [
      "100%|██████████| 1/1 [00:00<00:00,  3.69it/s]\n",
      "  0%|          | 0/1 [00:00<?, ?it/s]"
     ]
    },
    {
     "name": "stdout",
     "output_type": "stream",
     "text": [
      "len(v) 504 > v_choose 39\n"
     ]
    },
    {
     "name": "stderr",
     "output_type": "stream",
     "text": [
      "100%|██████████| 1/1 [00:00<00:00,  3.38it/s]\n",
      "  0%|          | 0/1 [00:00<?, ?it/s]"
     ]
    },
    {
     "name": "stdout",
     "output_type": "stream",
     "text": [
      "len(v) 53 > v_choose 39\n"
     ]
    },
    {
     "name": "stderr",
     "output_type": "stream",
     "text": [
      "100%|██████████| 1/1 [00:00<00:00,  3.64it/s]\n",
      "  0%|          | 0/1 [00:00<?, ?it/s]"
     ]
    },
    {
     "name": "stdout",
     "output_type": "stream",
     "text": [
      "len(v) 96 > v_choose 39\n"
     ]
    },
    {
     "name": "stderr",
     "output_type": "stream",
     "text": [
      "100%|██████████| 1/1 [00:00<00:00,  3.62it/s]\n",
      "  0%|          | 0/1 [00:00<?, ?it/s]"
     ]
    },
    {
     "name": "stdout",
     "output_type": "stream",
     "text": [
      "len(v) 1 <= v_choose 39\n",
      "len(v) 6 <= v_choose 39\n",
      "len(v) 15 <= v_choose 39\n",
      "len(v) 148 > v_choose 39\n"
     ]
    },
    {
     "name": "stderr",
     "output_type": "stream",
     "text": [
      "100%|██████████| 1/1 [00:00<00:00,  3.63it/s]\n",
      "  0%|          | 0/1 [00:00<?, ?it/s]"
     ]
    },
    {
     "name": "stdout",
     "output_type": "stream",
     "text": [
      "len(v) 1 <= v_choose 39\n",
      "len(v) 38 <= v_choose 39\n",
      "len(v) 106 > v_choose 39\n"
     ]
    },
    {
     "name": "stderr",
     "output_type": "stream",
     "text": [
      "100%|██████████| 1/1 [00:00<00:00,  3.65it/s]\n",
      "  0%|          | 0/1 [00:00<?, ?it/s]"
     ]
    },
    {
     "name": "stdout",
     "output_type": "stream",
     "text": [
      "len(v) 749 > v_choose 39\n"
     ]
    },
    {
     "name": "stderr",
     "output_type": "stream",
     "text": [
      "100%|██████████| 1/1 [00:00<00:00,  3.14it/s]\n",
      "  0%|          | 0/1 [00:00<?, ?it/s]"
     ]
    },
    {
     "name": "stdout",
     "output_type": "stream",
     "text": [
      "len(v) 27 <= v_choose 39\n",
      "len(v) 16 <= v_choose 39\n",
      "len(v) 1 <= v_choose 39\n",
      "len(v) 19 <= v_choose 39\n",
      "len(v) 313 > v_choose 39\n"
     ]
    },
    {
     "name": "stderr",
     "output_type": "stream",
     "text": [
      "100%|██████████| 1/1 [00:00<00:00,  3.51it/s]\n",
      "  0%|          | 0/1 [00:00<?, ?it/s]"
     ]
    },
    {
     "name": "stdout",
     "output_type": "stream",
     "text": [
      "len(v) 7 <= v_choose 39\n",
      "len(v) 52 > v_choose 39\n"
     ]
    },
    {
     "name": "stderr",
     "output_type": "stream",
     "text": [
      "100%|██████████| 1/1 [00:00<00:00,  3.62it/s]\n",
      "  0%|          | 0/1 [00:00<?, ?it/s]"
     ]
    },
    {
     "name": "stdout",
     "output_type": "stream",
     "text": [
      "len(v) 137 > v_choose 39\n"
     ]
    },
    {
     "name": "stderr",
     "output_type": "stream",
     "text": [
      "100%|██████████| 1/1 [00:00<00:00,  3.64it/s]\n",
      "  0%|          | 0/1 [00:00<?, ?it/s]"
     ]
    },
    {
     "name": "stdout",
     "output_type": "stream",
     "text": [
      "len(v) 171 > v_choose 39\n"
     ]
    },
    {
     "name": "stderr",
     "output_type": "stream",
     "text": [
      "100%|██████████| 1/1 [00:00<00:00,  3.61it/s]\n",
      "  0%|          | 0/1 [00:00<?, ?it/s]"
     ]
    },
    {
     "name": "stdout",
     "output_type": "stream",
     "text": [
      "len(v) 6 <= v_choose 39\n",
      "len(v) 26 <= v_choose 39\n",
      "len(v) 72 > v_choose 39\n"
     ]
    },
    {
     "name": "stderr",
     "output_type": "stream",
     "text": [
      "100%|██████████| 1/1 [00:00<00:00,  3.67it/s]\n",
      "  0%|          | 0/1 [00:00<?, ?it/s]"
     ]
    },
    {
     "name": "stdout",
     "output_type": "stream",
     "text": [
      "len(v) 4 <= v_choose 39\n",
      "len(v) 3 <= v_choose 39\n",
      "len(v) 7 <= v_choose 39\n",
      "len(v) 266 > v_choose 39\n"
     ]
    },
    {
     "name": "stderr",
     "output_type": "stream",
     "text": [
      "100%|██████████| 1/1 [00:00<00:00,  3.51it/s]\n",
      "  0%|          | 0/1 [00:00<?, ?it/s]"
     ]
    },
    {
     "name": "stdout",
     "output_type": "stream",
     "text": [
      "len(v) 227 > v_choose 39\n"
     ]
    },
    {
     "name": "stderr",
     "output_type": "stream",
     "text": [
      "100%|██████████| 1/1 [00:00<00:00,  3.50it/s]\n",
      "  0%|          | 0/1 [00:00<?, ?it/s]"
     ]
    },
    {
     "name": "stdout",
     "output_type": "stream",
     "text": [
      "len(v) 113 > v_choose 39\n"
     ]
    },
    {
     "name": "stderr",
     "output_type": "stream",
     "text": [
      "100%|██████████| 1/1 [00:00<00:00,  3.61it/s]\n",
      "  0%|          | 0/1 [00:00<?, ?it/s]"
     ]
    },
    {
     "name": "stdout",
     "output_type": "stream",
     "text": [
      "len(v) 6 <= v_choose 39\n",
      "len(v) 11 <= v_choose 39\n",
      "len(v) 2 <= v_choose 39\n",
      "len(v) 97 > v_choose 39\n"
     ]
    },
    {
     "name": "stderr",
     "output_type": "stream",
     "text": [
      "100%|██████████| 1/1 [00:00<00:00,  3.33it/s]\n",
      "  0%|          | 0/1 [00:00<?, ?it/s]"
     ]
    },
    {
     "name": "stdout",
     "output_type": "stream",
     "text": [
      "len(v) 187 > v_choose 39\n"
     ]
    },
    {
     "name": "stderr",
     "output_type": "stream",
     "text": [
      "100%|██████████| 1/1 [00:00<00:00,  3.44it/s]\n",
      "  0%|          | 0/1 [00:00<?, ?it/s]"
     ]
    },
    {
     "name": "stdout",
     "output_type": "stream",
     "text": [
      "len(v) 10 <= v_choose 39\n",
      "len(v) 255 > v_choose 39\n"
     ]
    },
    {
     "name": "stderr",
     "output_type": "stream",
     "text": [
      "100%|██████████| 1/1 [00:00<00:00,  3.47it/s]\n",
      "  0%|          | 0/1 [00:00<?, ?it/s]"
     ]
    },
    {
     "name": "stdout",
     "output_type": "stream",
     "text": [
      "len(v) 277 > v_choose 39\n"
     ]
    },
    {
     "name": "stderr",
     "output_type": "stream",
     "text": [
      "100%|██████████| 1/1 [00:00<00:00,  3.41it/s]\n",
      "  0%|          | 0/1 [00:00<?, ?it/s]"
     ]
    },
    {
     "name": "stdout",
     "output_type": "stream",
     "text": [
      "len(v) 67 > v_choose 39\n"
     ]
    },
    {
     "name": "stderr",
     "output_type": "stream",
     "text": [
      "100%|██████████| 1/1 [00:00<00:00,  3.59it/s]\n",
      "  0%|          | 0/1 [00:00<?, ?it/s]"
     ]
    },
    {
     "name": "stdout",
     "output_type": "stream",
     "text": [
      "len(v) 12 <= v_choose 39\n",
      "len(v) 59 > v_choose 39\n"
     ]
    },
    {
     "name": "stderr",
     "output_type": "stream",
     "text": [
      "100%|██████████| 1/1 [00:00<00:00,  3.60it/s]\n",
      "  0%|          | 0/1 [00:00<?, ?it/s]"
     ]
    },
    {
     "name": "stdout",
     "output_type": "stream",
     "text": [
      "len(v) 69 > v_choose 39\n"
     ]
    },
    {
     "name": "stderr",
     "output_type": "stream",
     "text": [
      "100%|██████████| 1/1 [00:00<00:00,  3.63it/s]\n",
      "  0%|          | 0/1 [00:00<?, ?it/s]"
     ]
    },
    {
     "name": "stdout",
     "output_type": "stream",
     "text": [
      "len(v) 33 <= v_choose 39\n",
      "len(v) 44 > v_choose 39\n"
     ]
    },
    {
     "name": "stderr",
     "output_type": "stream",
     "text": [
      "100%|██████████| 1/1 [00:00<00:00,  3.55it/s]\n",
      "  0%|          | 0/1 [00:00<?, ?it/s]"
     ]
    },
    {
     "name": "stdout",
     "output_type": "stream",
     "text": [
      "len(v) 28 <= v_choose 39\n",
      "len(v) 28 <= v_choose 39\n",
      "len(v) 24 <= v_choose 39\n",
      "len(v) 140 > v_choose 39\n"
     ]
    },
    {
     "name": "stderr",
     "output_type": "stream",
     "text": [
      "100%|██████████| 1/1 [00:00<00:00,  3.63it/s]\n",
      "  0%|          | 0/1 [00:00<?, ?it/s]"
     ]
    },
    {
     "name": "stdout",
     "output_type": "stream",
     "text": [
      "len(v) 35 <= v_choose 39\n",
      "len(v) 2 <= v_choose 39\n",
      "len(v) 118 > v_choose 39\n"
     ]
    },
    {
     "name": "stderr",
     "output_type": "stream",
     "text": [
      "100%|██████████| 1/1 [00:00<00:00,  3.53it/s]\n",
      "  0%|          | 0/1 [00:00<?, ?it/s]"
     ]
    },
    {
     "name": "stdout",
     "output_type": "stream",
     "text": [
      "len(v) 3 <= v_choose 39\n",
      "len(v) 12 <= v_choose 39\n",
      "len(v) 310 > v_choose 39\n"
     ]
    },
    {
     "name": "stderr",
     "output_type": "stream",
     "text": [
      "100%|██████████| 1/1 [00:00<00:00,  3.53it/s]\n",
      "  0%|          | 0/1 [00:00<?, ?it/s]"
     ]
    },
    {
     "name": "stdout",
     "output_type": "stream",
     "text": [
      "len(v) 23 <= v_choose 39\n",
      "len(v) 28 <= v_choose 39\n",
      "len(v) 3 <= v_choose 39\n",
      "len(v) 10 <= v_choose 39\n",
      "len(v) 1 <= v_choose 39\n",
      "len(v) 3 <= v_choose 39\n",
      "len(v) 10 <= v_choose 39\n",
      "len(v) 342 > v_choose 39\n"
     ]
    },
    {
     "name": "stderr",
     "output_type": "stream",
     "text": [
      "100%|██████████| 1/1 [00:00<00:00,  3.40it/s]\n",
      "  0%|          | 0/1 [00:00<?, ?it/s]"
     ]
    },
    {
     "name": "stdout",
     "output_type": "stream",
     "text": [
      "len(v) 6 <= v_choose 39\n",
      "len(v) 44 > v_choose 39\n"
     ]
    },
    {
     "name": "stderr",
     "output_type": "stream",
     "text": [
      "100%|██████████| 1/1 [00:00<00:00,  3.65it/s]\n",
      "  0%|          | 0/1 [00:00<?, ?it/s]"
     ]
    },
    {
     "name": "stdout",
     "output_type": "stream",
     "text": [
      "len(v) 194 > v_choose 39\n"
     ]
    },
    {
     "name": "stderr",
     "output_type": "stream",
     "text": [
      "100%|██████████| 1/1 [00:00<00:00,  3.56it/s]\n",
      "  0%|          | 0/1 [00:00<?, ?it/s]"
     ]
    },
    {
     "name": "stdout",
     "output_type": "stream",
     "text": [
      "len(v) 118 > v_choose 39\n"
     ]
    },
    {
     "name": "stderr",
     "output_type": "stream",
     "text": [
      "100%|██████████| 1/1 [00:00<00:00,  3.67it/s]\n",
      "  0%|          | 0/1 [00:00<?, ?it/s]"
     ]
    },
    {
     "name": "stdout",
     "output_type": "stream",
     "text": [
      "len(v) 194 > v_choose 39\n"
     ]
    },
    {
     "name": "stderr",
     "output_type": "stream",
     "text": [
      "100%|██████████| 1/1 [00:00<00:00,  3.61it/s]\n",
      "  0%|          | 0/1 [00:00<?, ?it/s]"
     ]
    },
    {
     "name": "stdout",
     "output_type": "stream",
     "text": [
      "len(v) 24 <= v_choose 39\n",
      "len(v) 66 > v_choose 39\n"
     ]
    },
    {
     "name": "stderr",
     "output_type": "stream",
     "text": [
      "100%|██████████| 1/1 [00:00<00:00,  3.66it/s]\n",
      "  0%|          | 0/1 [00:00<?, ?it/s]"
     ]
    },
    {
     "name": "stdout",
     "output_type": "stream",
     "text": [
      "len(v) 50 > v_choose 39\n"
     ]
    },
    {
     "name": "stderr",
     "output_type": "stream",
     "text": [
      "100%|██████████| 1/1 [00:00<00:00,  3.71it/s]\n",
      "  0%|          | 0/1 [00:00<?, ?it/s]"
     ]
    },
    {
     "name": "stdout",
     "output_type": "stream",
     "text": [
      "len(v) 1 <= v_choose 39\n",
      "len(v) 9 <= v_choose 39\n",
      "len(v) 262 > v_choose 39\n"
     ]
    },
    {
     "name": "stderr",
     "output_type": "stream",
     "text": [
      "100%|██████████| 1/1 [00:00<00:00,  3.48it/s]\n",
      "  0%|          | 0/1 [00:00<?, ?it/s]"
     ]
    },
    {
     "name": "stdout",
     "output_type": "stream",
     "text": [
      "len(v) 11 <= v_choose 39\n",
      "len(v) 2 <= v_choose 39\n",
      "len(v) 60 > v_choose 39\n"
     ]
    },
    {
     "name": "stderr",
     "output_type": "stream",
     "text": [
      "100%|██████████| 1/1 [00:00<00:00,  3.65it/s]\n",
      "  0%|          | 0/1 [00:00<?, ?it/s]"
     ]
    },
    {
     "name": "stdout",
     "output_type": "stream",
     "text": [
      "len(v) 2 <= v_choose 39\n",
      "len(v) 8 <= v_choose 39\n",
      "len(v) 7 <= v_choose 39\n",
      "len(v) 37 <= v_choose 39\n",
      "len(v) 63 > v_choose 39\n"
     ]
    },
    {
     "name": "stderr",
     "output_type": "stream",
     "text": [
      "100%|██████████| 1/1 [00:00<00:00,  3.48it/s]\n",
      "  0%|          | 0/1 [00:00<?, ?it/s]"
     ]
    },
    {
     "name": "stdout",
     "output_type": "stream",
     "text": [
      "len(v) 79 > v_choose 39\n"
     ]
    },
    {
     "name": "stderr",
     "output_type": "stream",
     "text": [
      "100%|██████████| 1/1 [00:00<00:00,  3.50it/s]\n",
      "  0%|          | 0/1 [00:00<?, ?it/s]"
     ]
    },
    {
     "name": "stdout",
     "output_type": "stream",
     "text": [
      "len(v) 36 <= v_choose 39\n",
      "len(v) 2 <= v_choose 39\n",
      "len(v) 197 > v_choose 39\n"
     ]
    },
    {
     "name": "stderr",
     "output_type": "stream",
     "text": [
      "100%|██████████| 1/1 [00:00<00:00,  3.54it/s]\n",
      "  0%|          | 0/1 [00:00<?, ?it/s]"
     ]
    },
    {
     "name": "stdout",
     "output_type": "stream",
     "text": [
      "len(v) 10 <= v_choose 39\n",
      "len(v) 3 <= v_choose 39\n",
      "len(v) 7 <= v_choose 39\n",
      "len(v) 58 > v_choose 39\n"
     ]
    },
    {
     "name": "stderr",
     "output_type": "stream",
     "text": [
      "100%|██████████| 1/1 [00:00<00:00,  3.70it/s]\n",
      "  0%|          | 0/1 [00:00<?, ?it/s]"
     ]
    },
    {
     "name": "stdout",
     "output_type": "stream",
     "text": [
      "len(v) 35 <= v_choose 39\n",
      "len(v) 55 > v_choose 39\n"
     ]
    },
    {
     "name": "stderr",
     "output_type": "stream",
     "text": [
      "100%|██████████| 1/1 [00:00<00:00,  3.74it/s]\n",
      "  0%|          | 0/1 [00:00<?, ?it/s]"
     ]
    },
    {
     "name": "stdout",
     "output_type": "stream",
     "text": [
      "len(v) 28 <= v_choose 39\n",
      "len(v) 7 <= v_choose 39\n",
      "len(v) 68 > v_choose 39\n"
     ]
    },
    {
     "name": "stderr",
     "output_type": "stream",
     "text": [
      "100%|██████████| 1/1 [00:00<00:00,  3.74it/s]\n",
      "  0%|          | 0/1 [00:00<?, ?it/s]"
     ]
    },
    {
     "name": "stdout",
     "output_type": "stream",
     "text": [
      "len(v) 7 <= v_choose 39\n",
      "len(v) 64 > v_choose 39\n"
     ]
    },
    {
     "name": "stderr",
     "output_type": "stream",
     "text": [
      "100%|██████████| 1/1 [00:00<00:00,  3.69it/s]\n",
      "  0%|          | 0/1 [00:00<?, ?it/s]"
     ]
    },
    {
     "name": "stdout",
     "output_type": "stream",
     "text": [
      "len(v) 14 <= v_choose 39\n",
      "len(v) 10 <= v_choose 39\n",
      "len(v) 5 <= v_choose 39\n",
      "len(v) 158 > v_choose 39\n"
     ]
    },
    {
     "name": "stderr",
     "output_type": "stream",
     "text": [
      "100%|██████████| 1/1 [00:00<00:00,  3.57it/s]\n",
      "  0%|          | 0/1 [00:00<?, ?it/s]"
     ]
    },
    {
     "name": "stdout",
     "output_type": "stream",
     "text": [
      "len(v) 390 > v_choose 39\n"
     ]
    },
    {
     "name": "stderr",
     "output_type": "stream",
     "text": [
      "100%|██████████| 1/1 [00:00<00:00,  3.47it/s]\n",
      "  0%|          | 0/1 [00:00<?, ?it/s]"
     ]
    },
    {
     "name": "stdout",
     "output_type": "stream",
     "text": [
      "len(v) 10 <= v_choose 39\n",
      "len(v) 7 <= v_choose 39\n",
      "len(v) 1 <= v_choose 39\n",
      "len(v) 24 <= v_choose 39\n",
      "len(v) 8 <= v_choose 39\n",
      "len(v) 13 <= v_choose 39\n",
      "len(v) 43 > v_choose 39\n"
     ]
    },
    {
     "name": "stderr",
     "output_type": "stream",
     "text": [
      "100%|██████████| 1/1 [00:00<00:00,  3.68it/s]\n",
      "  0%|          | 0/1 [00:00<?, ?it/s]"
     ]
    },
    {
     "name": "stdout",
     "output_type": "stream",
     "text": [
      "len(v) 23 <= v_choose 39\n",
      "len(v) 139 > v_choose 39\n"
     ]
    },
    {
     "name": "stderr",
     "output_type": "stream",
     "text": [
      "100%|██████████| 1/1 [00:00<00:00,  3.68it/s]\n",
      "  0%|          | 0/1 [00:00<?, ?it/s]"
     ]
    },
    {
     "name": "stdout",
     "output_type": "stream",
     "text": [
      "len(v) 15 <= v_choose 39\n",
      "len(v) 9 <= v_choose 39\n",
      "len(v) 347 > v_choose 39\n"
     ]
    },
    {
     "name": "stderr",
     "output_type": "stream",
     "text": [
      "100%|██████████| 1/1 [00:00<00:00,  3.55it/s]\n",
      "  0%|          | 0/1 [00:00<?, ?it/s]"
     ]
    },
    {
     "name": "stdout",
     "output_type": "stream",
     "text": [
      "len(v) 12 <= v_choose 39\n",
      "len(v) 2 <= v_choose 39\n",
      "len(v) 11 <= v_choose 39\n",
      "len(v) 2 <= v_choose 39\n",
      "len(v) 3 <= v_choose 39\n",
      "len(v) 11 <= v_choose 39\n",
      "len(v) 18 <= v_choose 39\n",
      "len(v) 4 <= v_choose 39\n",
      "len(v) 8 <= v_choose 39\n",
      "len(v) 19 <= v_choose 39\n",
      "len(v) 36 <= v_choose 39\n",
      "len(v) 35 <= v_choose 39\n",
      "len(v) 14 <= v_choose 39\n",
      "len(v) 7 <= v_choose 39\n",
      "len(v) 68 > v_choose 39\n"
     ]
    },
    {
     "name": "stderr",
     "output_type": "stream",
     "text": [
      "100%|██████████| 1/1 [00:00<00:00,  3.66it/s]\n",
      "  0%|          | 0/1 [00:00<?, ?it/s]"
     ]
    },
    {
     "name": "stdout",
     "output_type": "stream",
     "text": [
      "len(v) 2 <= v_choose 39\n",
      "len(v) 18 <= v_choose 39\n",
      "len(v) 5 <= v_choose 39\n",
      "len(v) 6 <= v_choose 39\n",
      "len(v) 92 > v_choose 39\n"
     ]
    },
    {
     "name": "stderr",
     "output_type": "stream",
     "text": [
      "100%|██████████| 1/1 [00:00<00:00,  3.36it/s]\n",
      "  0%|          | 0/1 [00:00<?, ?it/s]"
     ]
    },
    {
     "name": "stdout",
     "output_type": "stream",
     "text": [
      "len(v) 17 <= v_choose 39\n",
      "len(v) 39 <= v_choose 39\n",
      "len(v) 13 <= v_choose 39\n",
      "len(v) 6 <= v_choose 39\n",
      "len(v) 64 > v_choose 39\n"
     ]
    },
    {
     "name": "stderr",
     "output_type": "stream",
     "text": [
      "100%|██████████| 1/1 [00:00<00:00,  3.59it/s]\n",
      "  0%|          | 0/1 [00:00<?, ?it/s]"
     ]
    },
    {
     "name": "stdout",
     "output_type": "stream",
     "text": [
      "len(v) 24 <= v_choose 39\n",
      "len(v) 41 > v_choose 39\n"
     ]
    },
    {
     "name": "stderr",
     "output_type": "stream",
     "text": [
      "100%|██████████| 1/1 [00:00<00:00,  3.75it/s]\n",
      "  0%|          | 0/1 [00:00<?, ?it/s]"
     ]
    },
    {
     "name": "stdout",
     "output_type": "stream",
     "text": [
      "len(v) 81 > v_choose 39\n"
     ]
    },
    {
     "name": "stderr",
     "output_type": "stream",
     "text": [
      "100%|██████████| 1/1 [00:00<00:00,  3.64it/s]\n",
      "  0%|          | 0/1 [00:00<?, ?it/s]"
     ]
    },
    {
     "name": "stdout",
     "output_type": "stream",
     "text": [
      "len(v) 58 > v_choose 39\n"
     ]
    },
    {
     "name": "stderr",
     "output_type": "stream",
     "text": [
      "100%|██████████| 1/1 [00:00<00:00,  3.60it/s]\n",
      "  0%|          | 0/1 [00:00<?, ?it/s]"
     ]
    },
    {
     "name": "stdout",
     "output_type": "stream",
     "text": [
      "len(v) 53 > v_choose 39\n"
     ]
    },
    {
     "name": "stderr",
     "output_type": "stream",
     "text": [
      "100%|██████████| 1/1 [00:00<00:00,  3.57it/s]\n",
      "  0%|          | 0/1 [00:00<?, ?it/s]"
     ]
    },
    {
     "name": "stdout",
     "output_type": "stream",
     "text": [
      "len(v) 89 > v_choose 39\n"
     ]
    },
    {
     "name": "stderr",
     "output_type": "stream",
     "text": [
      "100%|██████████| 1/1 [00:00<00:00,  3.47it/s]\n",
      "  0%|          | 0/1 [00:00<?, ?it/s]"
     ]
    },
    {
     "name": "stdout",
     "output_type": "stream",
     "text": [
      "len(v) 21 <= v_choose 39\n",
      "len(v) 10 <= v_choose 39\n",
      "len(v) 9 <= v_choose 39\n",
      "len(v) 49 > v_choose 39\n"
     ]
    },
    {
     "name": "stderr",
     "output_type": "stream",
     "text": [
      "100%|██████████| 1/1 [00:00<00:00,  3.74it/s]\n",
      "  0%|          | 0/1 [00:00<?, ?it/s]"
     ]
    },
    {
     "name": "stdout",
     "output_type": "stream",
     "text": [
      "len(v) 16 <= v_choose 39\n",
      "len(v) 63 > v_choose 39\n"
     ]
    },
    {
     "name": "stderr",
     "output_type": "stream",
     "text": [
      "100%|██████████| 1/1 [00:00<00:00,  3.72it/s]\n",
      "  0%|          | 0/1 [00:00<?, ?it/s]"
     ]
    },
    {
     "name": "stdout",
     "output_type": "stream",
     "text": [
      "len(v) 139 > v_choose 39\n"
     ]
    },
    {
     "name": "stderr",
     "output_type": "stream",
     "text": [
      "100%|██████████| 1/1 [00:00<00:00,  3.62it/s]\n",
      "  0%|          | 0/1 [00:00<?, ?it/s]"
     ]
    },
    {
     "name": "stdout",
     "output_type": "stream",
     "text": [
      "len(v) 4 <= v_choose 39\n",
      "len(v) 14 <= v_choose 39\n",
      "len(v) 66 > v_choose 39\n"
     ]
    },
    {
     "name": "stderr",
     "output_type": "stream",
     "text": [
      "100%|██████████| 1/1 [00:00<00:00,  3.62it/s]\n",
      "  0%|          | 0/1 [00:00<?, ?it/s]"
     ]
    },
    {
     "name": "stdout",
     "output_type": "stream",
     "text": [
      "len(v) 3 <= v_choose 39\n",
      "len(v) 60 > v_choose 39\n"
     ]
    },
    {
     "name": "stderr",
     "output_type": "stream",
     "text": [
      "100%|██████████| 1/1 [00:00<00:00,  3.47it/s]\n",
      "  0%|          | 0/1 [00:00<?, ?it/s]"
     ]
    },
    {
     "name": "stdout",
     "output_type": "stream",
     "text": [
      "len(v) 7 <= v_choose 39\n",
      "len(v) 17 <= v_choose 39\n",
      "len(v) 19 <= v_choose 39\n",
      "len(v) 22 <= v_choose 39\n",
      "len(v) 1 <= v_choose 39\n",
      "len(v) 6 <= v_choose 39\n",
      "len(v) 200 > v_choose 39\n"
     ]
    },
    {
     "name": "stderr",
     "output_type": "stream",
     "text": [
      "100%|██████████| 1/1 [00:00<00:00,  3.43it/s]\n",
      "  0%|          | 0/1 [00:00<?, ?it/s]"
     ]
    },
    {
     "name": "stdout",
     "output_type": "stream",
     "text": [
      "len(v) 18 <= v_choose 39\n",
      "len(v) 4 <= v_choose 39\n",
      "len(v) 4 <= v_choose 39\n",
      "len(v) 23 <= v_choose 39\n",
      "len(v) 17 <= v_choose 39\n",
      "len(v) 24 <= v_choose 39\n",
      "len(v) 63 > v_choose 39\n"
     ]
    },
    {
     "name": "stderr",
     "output_type": "stream",
     "text": [
      "100%|██████████| 1/1 [00:00<00:00,  3.62it/s]\n",
      "  0%|          | 0/1 [00:00<?, ?it/s]"
     ]
    },
    {
     "name": "stdout",
     "output_type": "stream",
     "text": [
      "len(v) 86 > v_choose 39\n"
     ]
    },
    {
     "name": "stderr",
     "output_type": "stream",
     "text": [
      "100%|██████████| 1/1 [00:00<00:00,  3.63it/s]\n",
      "  0%|          | 0/1 [00:00<?, ?it/s]"
     ]
    },
    {
     "name": "stdout",
     "output_type": "stream",
     "text": [
      "len(v) 1 <= v_choose 39\n",
      "len(v) 12 <= v_choose 39\n",
      "len(v) 1 <= v_choose 39\n",
      "len(v) 5 <= v_choose 39\n",
      "len(v) 139 > v_choose 39\n"
     ]
    },
    {
     "name": "stderr",
     "output_type": "stream",
     "text": [
      "100%|██████████| 1/1 [00:00<00:00,  3.48it/s]\n",
      "  0%|          | 0/1 [00:00<?, ?it/s]"
     ]
    },
    {
     "name": "stdout",
     "output_type": "stream",
     "text": [
      "len(v) 7 <= v_choose 39\n",
      "len(v) 4 <= v_choose 39\n",
      "len(v) 26 <= v_choose 39\n",
      "len(v) 5 <= v_choose 39\n",
      "len(v) 12 <= v_choose 39\n",
      "len(v) 24 <= v_choose 39\n",
      "len(v) 2 <= v_choose 39\n",
      "len(v) 8 <= v_choose 39\n",
      "len(v) 22 <= v_choose 39\n",
      "len(v) 2 <= v_choose 39\n",
      "len(v) 4 <= v_choose 39\n",
      "len(v) 15 <= v_choose 39\n",
      "len(v) 55 > v_choose 39\n"
     ]
    },
    {
     "name": "stderr",
     "output_type": "stream",
     "text": [
      "100%|██████████| 1/1 [00:00<00:00,  3.61it/s]\n",
      "  0%|          | 0/1 [00:00<?, ?it/s]"
     ]
    },
    {
     "name": "stdout",
     "output_type": "stream",
     "text": [
      "len(v) 27 <= v_choose 39\n",
      "len(v) 37 <= v_choose 39\n",
      "len(v) 10 <= v_choose 39\n",
      "len(v) 16 <= v_choose 39\n",
      "len(v) 9 <= v_choose 39\n",
      "len(v) 14 <= v_choose 39\n",
      "len(v) 2 <= v_choose 39\n",
      "len(v) 18 <= v_choose 39\n",
      "len(v) 6 <= v_choose 39\n",
      "len(v) 15 <= v_choose 39\n",
      "len(v) 74 > v_choose 39\n"
     ]
    },
    {
     "name": "stderr",
     "output_type": "stream",
     "text": [
      "100%|██████████| 1/1 [00:00<00:00,  3.54it/s]\n",
      "  0%|          | 0/1 [00:00<?, ?it/s]"
     ]
    },
    {
     "name": "stdout",
     "output_type": "stream",
     "text": [
      "len(v) 1 <= v_choose 39\n",
      "len(v) 54 > v_choose 39\n"
     ]
    },
    {
     "name": "stderr",
     "output_type": "stream",
     "text": [
      "100%|██████████| 1/1 [00:00<00:00,  3.57it/s]\n",
      "  0%|          | 0/1 [00:00<?, ?it/s]"
     ]
    },
    {
     "name": "stdout",
     "output_type": "stream",
     "text": [
      "len(v) 27 <= v_choose 39\n",
      "len(v) 20 <= v_choose 39\n",
      "len(v) 4 <= v_choose 39\n",
      "len(v) 28 <= v_choose 39\n",
      "len(v) 4 <= v_choose 39\n",
      "len(v) 4 <= v_choose 39\n",
      "len(v) 11 <= v_choose 39\n",
      "len(v) 8 <= v_choose 39\n",
      "len(v) 14 <= v_choose 39\n",
      "len(v) 41 > v_choose 39\n"
     ]
    },
    {
     "name": "stderr",
     "output_type": "stream",
     "text": [
      "100%|██████████| 1/1 [00:00<00:00,  3.68it/s]\n",
      "  0%|          | 0/1 [00:00<?, ?it/s]"
     ]
    },
    {
     "name": "stdout",
     "output_type": "stream",
     "text": [
      "len(v) 17 <= v_choose 39\n",
      "len(v) 17 <= v_choose 39\n",
      "len(v) 1 <= v_choose 39\n",
      "len(v) 32 <= v_choose 39\n",
      "len(v) 2 <= v_choose 39\n",
      "len(v) 12 <= v_choose 39\n",
      "len(v) 5 <= v_choose 39\n",
      "len(v) 7 <= v_choose 39\n",
      "len(v) 1 <= v_choose 39\n",
      "len(v) 3 <= v_choose 39\n",
      "len(v) 1 <= v_choose 39\n",
      "len(v) 15 <= v_choose 39\n",
      "len(v) 30 <= v_choose 39\n",
      "len(v) 3 <= v_choose 39\n",
      "len(v) 10 <= v_choose 39\n",
      "len(v) 10 <= v_choose 39\n",
      "len(v) 62 > v_choose 39\n"
     ]
    },
    {
     "name": "stderr",
     "output_type": "stream",
     "text": [
      "100%|██████████| 1/1 [00:00<00:00,  3.68it/s]\n",
      "  0%|          | 0/1 [00:00<?, ?it/s]"
     ]
    },
    {
     "name": "stdout",
     "output_type": "stream",
     "text": [
      "len(v) 24 <= v_choose 39\n",
      "len(v) 20 <= v_choose 39\n",
      "len(v) 124 > v_choose 39\n"
     ]
    },
    {
     "name": "stderr",
     "output_type": "stream",
     "text": [
      "100%|██████████| 1/1 [00:00<00:00,  3.64it/s]\n",
      "  0%|          | 0/1 [00:00<?, ?it/s]"
     ]
    },
    {
     "name": "stdout",
     "output_type": "stream",
     "text": [
      "len(v) 5 <= v_choose 39\n",
      "len(v) 14 <= v_choose 39\n",
      "len(v) 15 <= v_choose 39\n",
      "len(v) 6 <= v_choose 39\n",
      "len(v) 7 <= v_choose 39\n",
      "len(v) 1 <= v_choose 39\n",
      "len(v) 5 <= v_choose 39\n",
      "len(v) 2 <= v_choose 39\n",
      "len(v) 2 <= v_choose 39\n",
      "len(v) 1 <= v_choose 39\n",
      "len(v) 45 > v_choose 39\n"
     ]
    },
    {
     "name": "stderr",
     "output_type": "stream",
     "text": [
      "100%|██████████| 1/1 [00:00<00:00,  3.70it/s]\n",
      "  0%|          | 0/1 [00:00<?, ?it/s]"
     ]
    },
    {
     "name": "stdout",
     "output_type": "stream",
     "text": [
      "len(v) 34 <= v_choose 39\n",
      "len(v) 34 <= v_choose 39\n",
      "len(v) 25 <= v_choose 39\n",
      "len(v) 11 <= v_choose 39\n",
      "len(v) 2 <= v_choose 39\n",
      "len(v) 25 <= v_choose 39\n",
      "len(v) 12 <= v_choose 39\n",
      "len(v) 15 <= v_choose 39\n",
      "len(v) 9 <= v_choose 39\n",
      "len(v) 3 <= v_choose 39\n",
      "len(v) 14 <= v_choose 39\n",
      "len(v) 1 <= v_choose 39\n",
      "len(v) 2 <= v_choose 39\n",
      "len(v) 36 <= v_choose 39\n",
      "len(v) 1 <= v_choose 39\n",
      "len(v) 13 <= v_choose 39\n",
      "len(v) 12 <= v_choose 39\n",
      "len(v) 1 <= v_choose 39\n",
      "len(v) 7 <= v_choose 39\n",
      "len(v) 11 <= v_choose 39\n",
      "len(v) 11 <= v_choose 39\n",
      "len(v) 6 <= v_choose 39\n",
      "len(v) 41 > v_choose 39\n"
     ]
    },
    {
     "name": "stderr",
     "output_type": "stream",
     "text": [
      "100%|██████████| 1/1 [00:00<00:00,  3.62it/s]\n",
      "  0%|          | 0/1 [00:00<?, ?it/s]"
     ]
    },
    {
     "name": "stdout",
     "output_type": "stream",
     "text": [
      "len(v) 66 > v_choose 39\n"
     ]
    },
    {
     "name": "stderr",
     "output_type": "stream",
     "text": [
      "100%|██████████| 1/1 [00:00<00:00,  3.57it/s]\n",
      "  0%|          | 0/1 [00:00<?, ?it/s]"
     ]
    },
    {
     "name": "stdout",
     "output_type": "stream",
     "text": [
      "len(v) 36 <= v_choose 39\n",
      "len(v) 6 <= v_choose 39\n",
      "len(v) 2 <= v_choose 39\n",
      "len(v) 1 <= v_choose 39\n",
      "len(v) 9 <= v_choose 39\n",
      "len(v) 44 > v_choose 39\n"
     ]
    },
    {
     "name": "stderr",
     "output_type": "stream",
     "text": [
      "100%|██████████| 1/1 [00:00<00:00,  3.71it/s]\n",
      "  0%|          | 0/1 [00:00<?, ?it/s]"
     ]
    },
    {
     "name": "stdout",
     "output_type": "stream",
     "text": [
      "len(v) 1 <= v_choose 39\n",
      "len(v) 11 <= v_choose 39\n",
      "len(v) 116 > v_choose 39\n"
     ]
    },
    {
     "name": "stderr",
     "output_type": "stream",
     "text": [
      "100%|██████████| 1/1 [00:00<00:00,  3.64it/s]\n",
      "  0%|          | 0/1 [00:00<?, ?it/s]"
     ]
    },
    {
     "name": "stdout",
     "output_type": "stream",
     "text": [
      "len(v) 2 <= v_choose 39\n",
      "len(v) 1 <= v_choose 39\n",
      "len(v) 4 <= v_choose 39\n",
      "len(v) 10 <= v_choose 39\n",
      "len(v) 2 <= v_choose 39\n",
      "len(v) 8 <= v_choose 39\n",
      "len(v) 3 <= v_choose 39\n",
      "len(v) 10 <= v_choose 39\n",
      "len(v) 30 <= v_choose 39\n",
      "len(v) 15 <= v_choose 39\n",
      "len(v) 11 <= v_choose 39\n",
      "len(v) 33 <= v_choose 39\n",
      "len(v) 8 <= v_choose 39\n",
      "len(v) 17 <= v_choose 39\n",
      "len(v) 1 <= v_choose 39\n",
      "len(v) 2 <= v_choose 39\n",
      "len(v) 8 <= v_choose 39\n",
      "len(v) 27 <= v_choose 39\n",
      "len(v) 11 <= v_choose 39\n",
      "len(v) 7 <= v_choose 39\n",
      "len(v) 41 > v_choose 39\n"
     ]
    },
    {
     "name": "stderr",
     "output_type": "stream",
     "text": [
      "100%|██████████| 1/1 [00:00<00:00,  3.71it/s]\n",
      "  0%|          | 0/1 [00:00<?, ?it/s]"
     ]
    },
    {
     "name": "stdout",
     "output_type": "stream",
     "text": [
      "len(v) 1 <= v_choose 39\n",
      "len(v) 3 <= v_choose 39\n",
      "len(v) 23 <= v_choose 39\n",
      "len(v) 1 <= v_choose 39\n",
      "len(v) 1 <= v_choose 39\n",
      "len(v) 46 > v_choose 39\n"
     ]
    },
    {
     "name": "stderr",
     "output_type": "stream",
     "text": [
      "100%|██████████| 1/1 [00:00<00:00,  3.69it/s]\n",
      "  0%|          | 0/1 [00:00<?, ?it/s]"
     ]
    },
    {
     "name": "stdout",
     "output_type": "stream",
     "text": [
      "len(v) 15 <= v_choose 39\n",
      "len(v) 1 <= v_choose 39\n",
      "len(v) 4 <= v_choose 39\n",
      "len(v) 3 <= v_choose 39\n",
      "len(v) 1 <= v_choose 39\n",
      "len(v) 12 <= v_choose 39\n",
      "len(v) 1 <= v_choose 39\n",
      "len(v) 12 <= v_choose 39\n",
      "len(v) 35 <= v_choose 39\n",
      "len(v) 4 <= v_choose 39\n",
      "len(v) 92 > v_choose 39\n"
     ]
    },
    {
     "name": "stderr",
     "output_type": "stream",
     "text": [
      "100%|██████████| 1/1 [00:00<00:00,  3.66it/s]\n",
      "  0%|          | 0/1 [00:00<?, ?it/s]"
     ]
    },
    {
     "name": "stdout",
     "output_type": "stream",
     "text": [
      "len(v) 1 <= v_choose 39\n",
      "len(v) 4 <= v_choose 39\n",
      "len(v) 26 <= v_choose 39\n",
      "len(v) 4 <= v_choose 39\n",
      "len(v) 1 <= v_choose 39\n",
      "len(v) 15 <= v_choose 39\n",
      "len(v) 2 <= v_choose 39\n",
      "len(v) 7 <= v_choose 39\n",
      "len(v) 5 <= v_choose 39\n",
      "len(v) 7 <= v_choose 39\n",
      "len(v) 5 <= v_choose 39\n",
      "len(v) 1 <= v_choose 39\n",
      "len(v) 5 <= v_choose 39\n",
      "len(v) 2 <= v_choose 39\n",
      "len(v) 3 <= v_choose 39\n",
      "len(v) 12 <= v_choose 39\n",
      "len(v) 6 <= v_choose 39\n",
      "len(v) 2 <= v_choose 39\n",
      "len(v) 1 <= v_choose 39\n",
      "len(v) 1 <= v_choose 39\n",
      "len(v) 1 <= v_choose 39\n",
      "len(v) 8 <= v_choose 39\n",
      "len(v) 16 <= v_choose 39\n",
      "len(v) 2 <= v_choose 39\n",
      "len(v) 12 <= v_choose 39\n",
      "len(v) 1 <= v_choose 39\n",
      "len(v) 3 <= v_choose 39\n",
      "len(v) 4 <= v_choose 39\n",
      "len(v) 4 <= v_choose 39\n",
      "len(v) 11 <= v_choose 39\n",
      "len(v) 6 <= v_choose 39\n",
      "len(v) 12 <= v_choose 39\n",
      "len(v) 4 <= v_choose 39\n",
      "len(v) 21 <= v_choose 39\n",
      "len(v) 3 <= v_choose 39\n",
      "len(v) 2 <= v_choose 39\n",
      "len(v) 26 <= v_choose 39\n",
      "len(v) 1 <= v_choose 39\n",
      "len(v) 1 <= v_choose 39\n",
      "len(v) 48 > v_choose 39\n"
     ]
    },
    {
     "name": "stderr",
     "output_type": "stream",
     "text": [
      "100%|██████████| 1/1 [00:00<00:00,  3.71it/s]\n",
      "  0%|          | 0/1 [00:00<?, ?it/s]"
     ]
    },
    {
     "name": "stdout",
     "output_type": "stream",
     "text": [
      "len(v) 13 <= v_choose 39\n",
      "len(v) 1 <= v_choose 39\n",
      "len(v) 7 <= v_choose 39\n",
      "len(v) 8 <= v_choose 39\n",
      "len(v) 1 <= v_choose 39\n",
      "len(v) 7 <= v_choose 39\n",
      "len(v) 1 <= v_choose 39\n",
      "len(v) 1 <= v_choose 39\n",
      "len(v) 3 <= v_choose 39\n",
      "len(v) 2 <= v_choose 39\n",
      "len(v) 10 <= v_choose 39\n",
      "len(v) 1 <= v_choose 39\n",
      "len(v) 20 <= v_choose 39\n",
      "len(v) 8 <= v_choose 39\n",
      "len(v) 1 <= v_choose 39\n",
      "len(v) 8 <= v_choose 39\n",
      "len(v) 4 <= v_choose 39\n",
      "len(v) 1 <= v_choose 39\n",
      "len(v) 1 <= v_choose 39\n",
      "len(v) 9 <= v_choose 39\n",
      "len(v) 3 <= v_choose 39\n",
      "len(v) 1 <= v_choose 39\n",
      "len(v) 1 <= v_choose 39\n",
      "len(v) 1 <= v_choose 39\n",
      "len(v) 10 <= v_choose 39\n",
      "len(v) 2 <= v_choose 39\n",
      "len(v) 5 <= v_choose 39\n",
      "len(v) 1 <= v_choose 39\n",
      "len(v) 34 <= v_choose 39\n",
      "len(v) 1 <= v_choose 39\n",
      "len(v) 2 <= v_choose 39\n",
      "len(v) 6 <= v_choose 39\n",
      "len(v) 2 <= v_choose 39\n",
      "len(v) 1 <= v_choose 39\n",
      "len(v) 1 <= v_choose 39\n",
      "len(v) 1 <= v_choose 39\n",
      "len(v) 3 <= v_choose 39\n",
      "len(v) 3 <= v_choose 39\n",
      "len(v) 11 <= v_choose 39\n",
      "len(v) 2 <= v_choose 39\n",
      "len(v) 3 <= v_choose 39\n",
      "len(v) 1 <= v_choose 39\n",
      "len(v) 2 <= v_choose 39\n",
      "len(v) 1 <= v_choose 39\n",
      "len(v) 3 <= v_choose 39\n",
      "len(v) 9 <= v_choose 39\n",
      "len(v) 8 <= v_choose 39\n",
      "len(v) 5 <= v_choose 39\n",
      "len(v) 2 <= v_choose 39\n",
      "len(v) 1 <= v_choose 39\n",
      "len(v) 3 <= v_choose 39\n",
      "len(v) 2 <= v_choose 39\n",
      "len(v) 1 <= v_choose 39\n",
      "len(v) 2 <= v_choose 39\n",
      "len(v) 3 <= v_choose 39\n",
      "len(v) 1 <= v_choose 39\n",
      "len(v) 8 <= v_choose 39\n",
      "len(v) 1 <= v_choose 39\n",
      "len(v) 16 <= v_choose 39\n",
      "len(v) 19 <= v_choose 39\n",
      "len(v) 10 <= v_choose 39\n",
      "len(v) 4 <= v_choose 39\n",
      "len(v) 2 <= v_choose 39\n",
      "len(v) 2 <= v_choose 39\n",
      "len(v) 2 <= v_choose 39\n",
      "len(v) 2 <= v_choose 39\n",
      "len(v) 7 <= v_choose 39\n",
      "len(v) 4 <= v_choose 39\n",
      "len(v) 6 <= v_choose 39\n",
      "len(v) 9 <= v_choose 39\n",
      "len(v) 9 <= v_choose 39\n",
      "len(v) 23 <= v_choose 39\n",
      "len(v) 5 <= v_choose 39\n",
      "len(v) 14 <= v_choose 39\n",
      "len(v) 1 <= v_choose 39\n",
      "len(v) 2 <= v_choose 39\n",
      "len(v) 1 <= v_choose 39\n",
      "len(v) 1 <= v_choose 39\n",
      "len(v) 2 <= v_choose 39\n",
      "len(v) 1 <= v_choose 39\n",
      "len(v) 7 <= v_choose 39\n",
      "len(v) 2 <= v_choose 39\n",
      "len(v) 6 <= v_choose 39\n",
      "len(v) 3 <= v_choose 39\n",
      "len(v) 6 <= v_choose 39\n",
      "len(v) 1 <= v_choose 39\n",
      "len(v) 4 <= v_choose 39\n",
      "len(v) 1 <= v_choose 39\n",
      "len(v) 8 <= v_choose 39\n",
      "len(v) 5 <= v_choose 39\n",
      "len(v) 5 <= v_choose 39\n",
      "len(v) 5 <= v_choose 39\n",
      "len(v) 1 <= v_choose 39\n",
      "len(v) 4 <= v_choose 39\n",
      "len(v) 5 <= v_choose 39\n",
      "len(v) 1 <= v_choose 39\n",
      "len(v) 2 <= v_choose 39\n",
      "len(v) 7 <= v_choose 39\n",
      "len(v) 4 <= v_choose 39\n",
      "len(v) 1 <= v_choose 39\n",
      "len(v) 4 <= v_choose 39\n",
      "len(v) 1 <= v_choose 39\n",
      "len(v) 1 <= v_choose 39\n",
      "len(v) 1 <= v_choose 39\n",
      "len(v) 2 <= v_choose 39\n",
      "len(v) 12 <= v_choose 39\n",
      "len(v) 20 <= v_choose 39\n",
      "len(v) 13 <= v_choose 39\n",
      "len(v) 5 <= v_choose 39\n",
      "len(v) 3 <= v_choose 39\n",
      "len(v) 1 <= v_choose 39\n",
      "len(v) 1 <= v_choose 39\n",
      "len(v) 4 <= v_choose 39\n",
      "len(v) 4 <= v_choose 39\n",
      "len(v) 4 <= v_choose 39\n",
      "len(v) 2 <= v_choose 39\n",
      "len(v) 1 <= v_choose 39\n",
      "len(v) 6 <= v_choose 39\n",
      "len(v) 1 <= v_choose 39\n",
      "len(v) 6 <= v_choose 39\n",
      "len(v) 4 <= v_choose 39\n",
      "len(v) 9 <= v_choose 39\n",
      "len(v) 5 <= v_choose 39\n",
      "len(v) 7 <= v_choose 39\n",
      "len(v) 1 <= v_choose 39\n",
      "len(v) 2 <= v_choose 39\n",
      "len(v) 3 <= v_choose 39\n",
      "len(v) 2 <= v_choose 39\n",
      "len(v) 2 <= v_choose 39\n",
      "len(v) 14 <= v_choose 39\n",
      "len(v) 1 <= v_choose 39\n",
      "len(v) 8 <= v_choose 39\n",
      "len(v) 3 <= v_choose 39\n",
      "len(v) 7 <= v_choose 39\n",
      "len(v) 5 <= v_choose 39\n",
      "len(v) 1 <= v_choose 39\n",
      "len(v) 19 <= v_choose 39\n",
      "len(v) 3 <= v_choose 39\n",
      "len(v) 5 <= v_choose 39\n",
      "len(v) 2 <= v_choose 39\n",
      "len(v) 5 <= v_choose 39\n",
      "len(v) 2 <= v_choose 39\n",
      "len(v) 1 <= v_choose 39\n",
      "len(v) 1 <= v_choose 39\n",
      "len(v) 1 <= v_choose 39\n",
      "len(v) 4 <= v_choose 39\n",
      "len(v) 7 <= v_choose 39\n",
      "len(v) 1 <= v_choose 39\n",
      "len(v) 9 <= v_choose 39\n",
      "len(v) 1 <= v_choose 39\n",
      "len(v) 1 <= v_choose 39\n",
      "len(v) 1 <= v_choose 39\n",
      "len(v) 4 <= v_choose 39\n",
      "len(v) 2 <= v_choose 39\n",
      "len(v) 4 <= v_choose 39\n",
      "len(v) 41 > v_choose 39\n"
     ]
    },
    {
     "name": "stderr",
     "output_type": "stream",
     "text": [
      "100%|██████████| 1/1 [00:00<00:00,  3.68it/s]\n",
      "  0%|          | 0/1 [00:00<?, ?it/s]"
     ]
    },
    {
     "name": "stdout",
     "output_type": "stream",
     "text": [
      "len(v) 1 <= v_choose 39\n",
      "len(v) 2 <= v_choose 39\n",
      "len(v) 1 <= v_choose 39\n",
      "len(v) 1 <= v_choose 39\n",
      "len(v) 8 <= v_choose 39\n",
      "len(v) 2 <= v_choose 39\n",
      "len(v) 2 <= v_choose 39\n",
      "len(v) 5 <= v_choose 39\n",
      "len(v) 2 <= v_choose 39\n",
      "len(v) 3 <= v_choose 39\n",
      "len(v) 1 <= v_choose 39\n",
      "len(v) 9 <= v_choose 39\n",
      "len(v) 7 <= v_choose 39\n",
      "len(v) 1 <= v_choose 39\n",
      "len(v) 8 <= v_choose 39\n",
      "len(v) 1 <= v_choose 39\n",
      "len(v) 1 <= v_choose 39\n",
      "len(v) 1 <= v_choose 39\n",
      "len(v) 2 <= v_choose 39\n",
      "len(v) 23 <= v_choose 39\n",
      "len(v) 3 <= v_choose 39\n",
      "len(v) 2 <= v_choose 39\n",
      "len(v) 1 <= v_choose 39\n",
      "len(v) 2 <= v_choose 39\n",
      "len(v) 1 <= v_choose 39\n",
      "len(v) 3 <= v_choose 39\n",
      "len(v) 1 <= v_choose 39\n",
      "len(v) 1 <= v_choose 39\n",
      "len(v) 1 <= v_choose 39\n",
      "len(v) 2 <= v_choose 39\n",
      "len(v) 3 <= v_choose 39\n",
      "len(v) 1 <= v_choose 39\n",
      "len(v) 4 <= v_choose 39\n",
      "len(v) 2 <= v_choose 39\n",
      "len(v) 33 <= v_choose 39\n",
      "len(v) 1 <= v_choose 39\n",
      "len(v) 4 <= v_choose 39\n",
      "len(v) 1 <= v_choose 39\n",
      "len(v) 2 <= v_choose 39\n",
      "len(v) 8 <= v_choose 39\n",
      "len(v) 7 <= v_choose 39\n",
      "len(v) 2 <= v_choose 39\n",
      "len(v) 7 <= v_choose 39\n",
      "len(v) 2 <= v_choose 39\n",
      "len(v) 1 <= v_choose 39\n",
      "len(v) 1 <= v_choose 39\n",
      "len(v) 5 <= v_choose 39\n",
      "len(v) 1 <= v_choose 39\n",
      "len(v) 4 <= v_choose 39\n",
      "len(v) 15 <= v_choose 39\n",
      "len(v) 13 <= v_choose 39\n",
      "len(v) 2 <= v_choose 39\n",
      "len(v) 1 <= v_choose 39\n",
      "len(v) 4 <= v_choose 39\n",
      "len(v) 1 <= v_choose 39\n",
      "len(v) 4 <= v_choose 39\n",
      "len(v) 1 <= v_choose 39\n",
      "len(v) 3 <= v_choose 39\n",
      "len(v) 1 <= v_choose 39\n",
      "len(v) 1 <= v_choose 39\n",
      "len(v) 2 <= v_choose 39\n",
      "len(v) 2 <= v_choose 39\n",
      "len(v) 1 <= v_choose 39\n",
      "len(v) 13 <= v_choose 39\n",
      "len(v) 1 <= v_choose 39\n",
      "len(v) 9 <= v_choose 39\n",
      "len(v) 33 <= v_choose 39\n",
      "len(v) 1 <= v_choose 39\n",
      "len(v) 8 <= v_choose 39\n",
      "len(v) 2 <= v_choose 39\n",
      "len(v) 2 <= v_choose 39\n",
      "len(v) 7 <= v_choose 39\n",
      "len(v) 2 <= v_choose 39\n",
      "len(v) 2 <= v_choose 39\n",
      "len(v) 3 <= v_choose 39\n",
      "len(v) 1 <= v_choose 39\n",
      "len(v) 1 <= v_choose 39\n",
      "len(v) 1 <= v_choose 39\n",
      "len(v) 1 <= v_choose 39\n",
      "len(v) 1 <= v_choose 39\n",
      "len(v) 1 <= v_choose 39\n",
      "len(v) 7 <= v_choose 39\n",
      "len(v) 6 <= v_choose 39\n",
      "len(v) 1 <= v_choose 39\n",
      "len(v) 2 <= v_choose 39\n",
      "len(v) 1 <= v_choose 39\n",
      "len(v) 2 <= v_choose 39\n",
      "len(v) 1 <= v_choose 39\n",
      "len(v) 3 <= v_choose 39\n",
      "len(v) 3 <= v_choose 39\n",
      "len(v) 3 <= v_choose 39\n",
      "len(v) 1 <= v_choose 39\n",
      "len(v) 2 <= v_choose 39\n",
      "len(v) 3 <= v_choose 39\n",
      "len(v) 10 <= v_choose 39\n",
      "len(v) 1 <= v_choose 39\n",
      "len(v) 4 <= v_choose 39\n",
      "len(v) 3 <= v_choose 39\n",
      "len(v) 3 <= v_choose 39\n",
      "len(v) 4 <= v_choose 39\n",
      "len(v) 2 <= v_choose 39\n",
      "len(v) 1 <= v_choose 39\n",
      "len(v) 2 <= v_choose 39\n",
      "len(v) 1 <= v_choose 39\n",
      "len(v) 3 <= v_choose 39\n",
      "len(v) 1 <= v_choose 39\n",
      "len(v) 1 <= v_choose 39\n",
      "len(v) 1 <= v_choose 39\n",
      "len(v) 1 <= v_choose 39\n",
      "len(v) 2 <= v_choose 39\n",
      "len(v) 3 <= v_choose 39\n",
      "len(v) 1 <= v_choose 39\n",
      "len(v) 3 <= v_choose 39\n",
      "len(v) 1 <= v_choose 39\n",
      "len(v) 1 <= v_choose 39\n",
      "len(v) 1 <= v_choose 39\n",
      "len(v) 3 <= v_choose 39\n",
      "len(v) 1 <= v_choose 39\n",
      "len(v) 4 <= v_choose 39\n",
      "len(v) 2 <= v_choose 39\n",
      "len(v) 2 <= v_choose 39\n",
      "len(v) 1 <= v_choose 39\n",
      "len(v) 1 <= v_choose 39\n",
      "len(v) 1 <= v_choose 39\n",
      "len(v) 1 <= v_choose 39\n",
      "len(v) 2 <= v_choose 39\n",
      "len(v) 1 <= v_choose 39\n",
      "len(v) 3 <= v_choose 39\n",
      "len(v) 1 <= v_choose 39\n",
      "len(v) 1 <= v_choose 39\n",
      "len(v) 2 <= v_choose 39\n",
      "len(v) 1 <= v_choose 39\n",
      "len(v) 1 <= v_choose 39\n",
      "len(v) 1 <= v_choose 39\n",
      "len(v) 1 <= v_choose 39\n",
      "len(v) 1 <= v_choose 39\n",
      "len(v) 1 <= v_choose 39\n",
      "len(v) 4 <= v_choose 39\n",
      "len(v) 3 <= v_choose 39\n",
      "len(v) 1 <= v_choose 39\n",
      "len(v) 1 <= v_choose 39\n",
      "len(v) 2 <= v_choose 39\n",
      "len(v) 9 <= v_choose 39\n",
      "len(v) 1 <= v_choose 39\n",
      "len(v) 1 <= v_choose 39\n",
      "len(v) 6 <= v_choose 39\n",
      "len(v) 5 <= v_choose 39\n",
      "len(v) 1 <= v_choose 39\n",
      "len(v) 1 <= v_choose 39\n",
      "len(v) 1 <= v_choose 39\n",
      "len(v) 2 <= v_choose 39\n",
      "len(v) 4 <= v_choose 39\n",
      "len(v) 3 <= v_choose 39\n",
      "len(v) 5 <= v_choose 39\n",
      "len(v) 1 <= v_choose 39\n",
      "len(v) 4 <= v_choose 39\n",
      "len(v) 1 <= v_choose 39\n",
      "len(v) 1 <= v_choose 39\n",
      "len(v) 3 <= v_choose 39\n",
      "len(v) 2 <= v_choose 39\n",
      "len(v) 3 <= v_choose 39\n",
      "len(v) 2 <= v_choose 39\n",
      "len(v) 1 <= v_choose 39\n",
      "len(v) 1 <= v_choose 39\n",
      "len(v) 1 <= v_choose 39\n",
      "len(v) 2 <= v_choose 39\n",
      "len(v) 28 <= v_choose 39\n",
      "len(v) 1 <= v_choose 39\n",
      "len(v) 1 <= v_choose 39\n",
      "len(v) 1 <= v_choose 39\n",
      "len(v) 2 <= v_choose 39\n",
      "len(v) 1 <= v_choose 39\n",
      "len(v) 2 <= v_choose 39\n",
      "len(v) 1 <= v_choose 39\n",
      "len(v) 1 <= v_choose 39\n",
      "len(v) 2 <= v_choose 39\n",
      "len(v) 1 <= v_choose 39\n",
      "len(v) 9 <= v_choose 39\n",
      "len(v) 10 <= v_choose 39\n",
      "len(v) 2 <= v_choose 39\n",
      "len(v) 1 <= v_choose 39\n",
      "len(v) 3 <= v_choose 39\n",
      "len(v) 3 <= v_choose 39\n",
      "len(v) 1 <= v_choose 39\n",
      "len(v) 6 <= v_choose 39\n",
      "len(v) 2 <= v_choose 39\n",
      "len(v) 3 <= v_choose 39\n",
      "len(v) 1 <= v_choose 39\n",
      "len(v) 1 <= v_choose 39\n",
      "len(v) 1 <= v_choose 39\n",
      "len(v) 1 <= v_choose 39\n",
      "len(v) 1 <= v_choose 39\n",
      "len(v) 1 <= v_choose 39\n",
      "len(v) 3 <= v_choose 39\n",
      "len(v) 4 <= v_choose 39\n",
      "len(v) 1 <= v_choose 39\n",
      "len(v) 1 <= v_choose 39\n",
      "len(v) 1 <= v_choose 39\n",
      "len(v) 2 <= v_choose 39\n",
      "len(v) 2 <= v_choose 39\n",
      "len(v) 4 <= v_choose 39\n",
      "len(v) 1 <= v_choose 39\n",
      "len(v) 1 <= v_choose 39\n",
      "len(v) 1 <= v_choose 39\n",
      "len(v) 1 <= v_choose 39\n",
      "len(v) 2 <= v_choose 39\n",
      "len(v) 1 <= v_choose 39\n",
      "len(v) 1 <= v_choose 39\n",
      "len(v) 1 <= v_choose 39\n",
      "len(v) 3 <= v_choose 39\n",
      "len(v) 4 <= v_choose 39\n",
      "len(v) 156 > v_choose 39\n"
     ]
    },
    {
     "name": "stderr",
     "output_type": "stream",
     "text": [
      "100%|██████████| 1/1 [00:00<00:00,  3.59it/s]\n",
      "  0%|          | 0/1 [00:00<?, ?it/s]"
     ]
    },
    {
     "name": "stdout",
     "output_type": "stream",
     "text": [
      "len(v) 1 <= v_choose 39\n",
      "len(v) 1 <= v_choose 39\n",
      "len(v) 1 <= v_choose 39\n",
      "len(v) 7 <= v_choose 39\n",
      "len(v) 1 <= v_choose 39\n",
      "len(v) 2 <= v_choose 39\n",
      "len(v) 4 <= v_choose 39\n",
      "len(v) 1 <= v_choose 39\n",
      "len(v) 1 <= v_choose 39\n",
      "len(v) 1 <= v_choose 39\n",
      "len(v) 1 <= v_choose 39\n",
      "len(v) 2 <= v_choose 39\n",
      "len(v) 4 <= v_choose 39\n",
      "len(v) 6 <= v_choose 39\n",
      "len(v) 3 <= v_choose 39\n",
      "len(v) 1 <= v_choose 39\n",
      "len(v) 1 <= v_choose 39\n",
      "len(v) 3 <= v_choose 39\n",
      "len(v) 3 <= v_choose 39\n",
      "len(v) 2 <= v_choose 39\n",
      "len(v) 1 <= v_choose 39\n",
      "len(v) 1 <= v_choose 39\n",
      "len(v) 2 <= v_choose 39\n",
      "len(v) 1 <= v_choose 39\n",
      "len(v) 4 <= v_choose 39\n",
      "len(v) 2 <= v_choose 39\n",
      "len(v) 1 <= v_choose 39\n",
      "len(v) 2 <= v_choose 39\n",
      "len(v) 2 <= v_choose 39\n",
      "len(v) 1 <= v_choose 39\n",
      "len(v) 7 <= v_choose 39\n",
      "len(v) 1 <= v_choose 39\n",
      "len(v) 1 <= v_choose 39\n",
      "len(v) 4 <= v_choose 39\n",
      "len(v) 1 <= v_choose 39\n",
      "len(v) 1 <= v_choose 39\n",
      "len(v) 1 <= v_choose 39\n",
      "len(v) 3 <= v_choose 39\n",
      "len(v) 24 <= v_choose 39\n",
      "len(v) 1 <= v_choose 39\n",
      "len(v) 1 <= v_choose 39\n",
      "len(v) 1 <= v_choose 39\n",
      "len(v) 1 <= v_choose 39\n",
      "len(v) 1 <= v_choose 39\n",
      "len(v) 1 <= v_choose 39\n",
      "len(v) 1 <= v_choose 39\n",
      "len(v) 2 <= v_choose 39\n",
      "len(v) 8 <= v_choose 39\n",
      "len(v) 1 <= v_choose 39\n",
      "len(v) 1 <= v_choose 39\n",
      "len(v) 1 <= v_choose 39\n",
      "len(v) 1 <= v_choose 39\n",
      "len(v) 2 <= v_choose 39\n",
      "len(v) 1 <= v_choose 39\n",
      "len(v) 1 <= v_choose 39\n",
      "len(v) 1 <= v_choose 39\n",
      "len(v) 5 <= v_choose 39\n",
      "len(v) 1 <= v_choose 39\n",
      "len(v) 1 <= v_choose 39\n",
      "len(v) 2 <= v_choose 39\n",
      "len(v) 2 <= v_choose 39\n",
      "len(v) 1 <= v_choose 39\n",
      "len(v) 1 <= v_choose 39\n",
      "len(v) 1 <= v_choose 39\n",
      "len(v) 1 <= v_choose 39\n",
      "len(v) 1 <= v_choose 39\n",
      "len(v) 4 <= v_choose 39\n",
      "len(v) 1 <= v_choose 39\n",
      "len(v) 1 <= v_choose 39\n",
      "len(v) 5 <= v_choose 39\n",
      "len(v) 1 <= v_choose 39\n",
      "len(v) 1 <= v_choose 39\n",
      "len(v) 1 <= v_choose 39\n",
      "len(v) 1 <= v_choose 39\n",
      "len(v) 2 <= v_choose 39\n",
      "len(v) 5 <= v_choose 39\n",
      "len(v) 1 <= v_choose 39\n",
      "len(v) 1 <= v_choose 39\n",
      "len(v) 1 <= v_choose 39\n",
      "len(v) 1 <= v_choose 39\n",
      "len(v) 1 <= v_choose 39\n",
      "len(v) 2 <= v_choose 39\n",
      "len(v) 1 <= v_choose 39\n",
      "len(v) 1 <= v_choose 39\n",
      "len(v) 6 <= v_choose 39\n",
      "len(v) 1 <= v_choose 39\n",
      "len(v) 7 <= v_choose 39\n",
      "len(v) 1 <= v_choose 39\n",
      "len(v) 60 > v_choose 39\n"
     ]
    },
    {
     "name": "stderr",
     "output_type": "stream",
     "text": [
      "100%|██████████| 1/1 [00:00<00:00,  3.47it/s]\n",
      "  0%|          | 0/1 [00:00<?, ?it/s]"
     ]
    },
    {
     "name": "stdout",
     "output_type": "stream",
     "text": [
      "len(v) 2 <= v_choose 39\n",
      "len(v) 7 <= v_choose 39\n",
      "len(v) 1 <= v_choose 39\n",
      "len(v) 4 <= v_choose 39\n",
      "len(v) 1 <= v_choose 39\n",
      "len(v) 1 <= v_choose 39\n",
      "len(v) 2 <= v_choose 39\n",
      "len(v) 1 <= v_choose 39\n",
      "len(v) 1 <= v_choose 39\n",
      "len(v) 1 <= v_choose 39\n",
      "len(v) 1 <= v_choose 39\n",
      "len(v) 41 > v_choose 39\n"
     ]
    },
    {
     "name": "stderr",
     "output_type": "stream",
     "text": [
      "100%|██████████| 1/1 [00:00<00:00,  3.70it/s]\n",
      "  0%|          | 0/1 [00:00<?, ?it/s]"
     ]
    },
    {
     "name": "stdout",
     "output_type": "stream",
     "text": [
      "len(v) 556 > v_choose 39\n"
     ]
    },
    {
     "name": "stderr",
     "output_type": "stream",
     "text": [
      "100%|██████████| 1/1 [00:00<00:00,  3.34it/s]\n",
      "  0%|          | 0/1 [00:00<?, ?it/s]"
     ]
    },
    {
     "name": "stdout",
     "output_type": "stream",
     "text": [
      "len(v) 1 <= v_choose 39\n",
      "len(v) 26 <= v_choose 39\n",
      "len(v) 83 > v_choose 39\n"
     ]
    },
    {
     "name": "stderr",
     "output_type": "stream",
     "text": [
      "100%|██████████| 1/1 [00:00<00:00,  3.64it/s]\n",
      "  0%|          | 0/1 [00:00<?, ?it/s]"
     ]
    },
    {
     "name": "stdout",
     "output_type": "stream",
     "text": [
      "len(v) 4 <= v_choose 39\n",
      "len(v) 3 <= v_choose 39\n",
      "len(v) 1 <= v_choose 39\n",
      "len(v) 1 <= v_choose 39\n",
      "len(v) 2 <= v_choose 39\n",
      "len(v) 1 <= v_choose 39\n",
      "len(v) 1 <= v_choose 39\n",
      "len(v) 1 <= v_choose 39\n",
      "len(v) 3 <= v_choose 39\n",
      "len(v) 1 <= v_choose 39\n",
      "len(v) 9 <= v_choose 39\n",
      "len(v) 1 <= v_choose 39\n",
      "len(v) 1 <= v_choose 39\n",
      "len(v) 1 <= v_choose 39\n",
      "len(v) 60 > v_choose 39\n"
     ]
    },
    {
     "name": "stderr",
     "output_type": "stream",
     "text": [
      "100%|██████████| 1/1 [00:00<00:00,  3.70it/s]\n",
      "  0%|          | 0/1 [00:00<?, ?it/s]"
     ]
    },
    {
     "name": "stdout",
     "output_type": "stream",
     "text": [
      "len(v) 1 <= v_choose 39\n",
      "len(v) 1 <= v_choose 39\n",
      "len(v) 1 <= v_choose 39\n",
      "len(v) 1 <= v_choose 39\n",
      "len(v) 1 <= v_choose 39\n",
      "len(v) 1 <= v_choose 39\n",
      "len(v) 1 <= v_choose 39\n",
      "len(v) 2 <= v_choose 39\n",
      "len(v) 3 <= v_choose 39\n",
      "len(v) 3 <= v_choose 39\n",
      "len(v) 5 <= v_choose 39\n",
      "len(v) 58 > v_choose 39\n"
     ]
    },
    {
     "name": "stderr",
     "output_type": "stream",
     "text": [
      "100%|██████████| 1/1 [00:00<00:00,  3.70it/s]\n"
     ]
    },
    {
     "name": "stdout",
     "output_type": "stream",
     "text": [
      "len(v) 1 <= v_choose 39\n",
      "len(v) 1 <= v_choose 39\n",
      "len(v) 3 <= v_choose 39\n",
      "len(v) 3 <= v_choose 39\n",
      "len(v) 3 <= v_choose 39\n",
      "len(v) 1 <= v_choose 39\n",
      "len(v) 1 <= v_choose 39\n",
      "len(v) 19 <= v_choose 39\n",
      "len(v) 1 <= v_choose 39\n",
      "len(v) 2 <= v_choose 39\n",
      "len(v) 4 <= v_choose 39\n",
      "len(v) 12 <= v_choose 39\n",
      "len(v) 1 <= v_choose 39\n",
      "len(v) 1 <= v_choose 39\n",
      "len(v) 1 <= v_choose 39\n",
      "len(v) 1 <= v_choose 39\n",
      "len(v) 1 <= v_choose 39\n",
      "len(v) 2 <= v_choose 39\n",
      "len(v) 1 <= v_choose 39\n",
      "len(v) 8 <= v_choose 39\n",
      "len(v) 4 <= v_choose 39\n",
      "len(v) 1 <= v_choose 39\n",
      "len(v) 2 <= v_choose 39\n",
      "len(v) 1 <= v_choose 39\n",
      "len(v) 21 <= v_choose 39\n",
      "len(v) 3 <= v_choose 39\n",
      "len(v) 2 <= v_choose 39\n",
      "len(v) 1 <= v_choose 39\n",
      "len(v) 1 <= v_choose 39\n",
      "len(v) 9 <= v_choose 39\n",
      "len(v) 1 <= v_choose 39\n",
      "len(v) 3 <= v_choose 39\n",
      "len(v) 2 <= v_choose 39\n",
      "len(v) 1 <= v_choose 39\n",
      "len(v) 1 <= v_choose 39\n",
      "len(v) 2 <= v_choose 39\n",
      "len(v) 3 <= v_choose 39\n",
      "len(v) 3 <= v_choose 39\n",
      "len(v) 1 <= v_choose 39\n",
      "len(v) 2 <= v_choose 39\n",
      "len(v) 3 <= v_choose 39\n",
      "len(v) 1 <= v_choose 39\n",
      "len(v) 1 <= v_choose 39\n",
      "len(v) 2 <= v_choose 39\n",
      "len(v) 1 <= v_choose 39\n",
      "len(v) 1 <= v_choose 39\n",
      "len(v) 1 <= v_choose 39\n",
      "len(v) 1 <= v_choose 39\n",
      "len(v) 2 <= v_choose 39\n",
      "len(v) 1 <= v_choose 39\n",
      "len(v) 3 <= v_choose 39\n",
      "len(v) 1 <= v_choose 39\n",
      "len(v) 3 <= v_choose 39\n",
      "len(v) 1 <= v_choose 39\n",
      "len(v) 3 <= v_choose 39\n",
      "len(v) 1 <= v_choose 39\n",
      "len(v) 1 <= v_choose 39\n",
      "len(v) 3 <= v_choose 39\n",
      "len(v) 1 <= v_choose 39\n",
      "len(v) 2 <= v_choose 39\n",
      "len(v) 4 <= v_choose 39\n",
      "len(v) 3 <= v_choose 39\n",
      "len(v) 2 <= v_choose 39\n",
      "len(v) 1 <= v_choose 39\n",
      "len(v) 1 <= v_choose 39\n",
      "len(v) 6 <= v_choose 39\n",
      "len(v) 2 <= v_choose 39\n",
      "len(v) 1 <= v_choose 39\n",
      "len(v) 4 <= v_choose 39\n",
      "len(v) 2 <= v_choose 39\n",
      "len(v) 1 <= v_choose 39\n",
      "len(v) 1 <= v_choose 39\n",
      "len(v) 2 <= v_choose 39\n",
      "len(v) 1 <= v_choose 39\n",
      "len(v) 4 <= v_choose 39\n",
      "len(v) 1 <= v_choose 39\n",
      "len(v) 2 <= v_choose 39\n",
      "len(v) 1 <= v_choose 39\n",
      "len(v) 1 <= v_choose 39\n",
      "len(v) 1 <= v_choose 39\n",
      "len(v) 1 <= v_choose 39\n",
      "len(v) 1 <= v_choose 39\n",
      "len(v) 2 <= v_choose 39\n",
      "len(v) 1 <= v_choose 39\n",
      "len(v) 1 <= v_choose 39\n",
      "len(v) 2 <= v_choose 39\n",
      "len(v) 1 <= v_choose 39\n",
      "len(v) 1 <= v_choose 39\n",
      "len(v) 2 <= v_choose 39\n",
      "len(v) 1 <= v_choose 39\n",
      "len(v) 3 <= v_choose 39\n",
      "len(v) 3 <= v_choose 39\n",
      "len(v) 1 <= v_choose 39\n",
      "len(v) 1 <= v_choose 39\n",
      "len(v) 1 <= v_choose 39\n",
      "len(v) 3 <= v_choose 39\n",
      "len(v) 1 <= v_choose 39\n",
      "len(v) 2 <= v_choose 39\n",
      "len(v) 1 <= v_choose 39\n",
      "len(v) 3 <= v_choose 39\n",
      "len(v) 1 <= v_choose 39\n",
      "len(v) 1 <= v_choose 39\n",
      "len(v) 3 <= v_choose 39\n",
      "len(v) 1 <= v_choose 39\n",
      "len(v) 1 <= v_choose 39\n",
      "len(v) 2 <= v_choose 39\n",
      "len(v) 1 <= v_choose 39\n",
      "len(v) 1 <= v_choose 39\n",
      "len(v) 1 <= v_choose 39\n",
      "len(v) 4 <= v_choose 39\n",
      "len(v) 2 <= v_choose 39\n",
      "len(v) 1 <= v_choose 39\n",
      "len(v) 1 <= v_choose 39\n",
      "len(v) 1 <= v_choose 39\n",
      "len(v) 1 <= v_choose 39\n",
      "len(v) 2 <= v_choose 39\n",
      "len(v) 5 <= v_choose 39\n",
      "len(v) 4 <= v_choose 39\n",
      "len(v) 1 <= v_choose 39\n",
      "len(v) 1 <= v_choose 39\n",
      "len(v) 1 <= v_choose 39\n",
      "len(v) 2 <= v_choose 39\n",
      "len(v) 1 <= v_choose 39\n",
      "len(v) 1 <= v_choose 39\n",
      "len(v) 4 <= v_choose 39\n",
      "len(v) 5 <= v_choose 39\n",
      "len(v) 2 <= v_choose 39\n",
      "len(v) 1 <= v_choose 39\n",
      "len(v) 5 <= v_choose 39\n",
      "len(v) 1 <= v_choose 39\n",
      "len(v) 1 <= v_choose 39\n",
      "len(v) 2 <= v_choose 39\n",
      "len(v) 2 <= v_choose 39\n",
      "len(v) 1 <= v_choose 39\n",
      "len(v) 2 <= v_choose 39\n",
      "len(v) 3 <= v_choose 39\n",
      "len(v) 1 <= v_choose 39\n",
      "len(v) 1 <= v_choose 39\n",
      "len(v) 1 <= v_choose 39\n",
      "len(v) 2 <= v_choose 39\n",
      "len(v) 1 <= v_choose 39\n",
      "len(v) 2 <= v_choose 39\n",
      "len(v) 2 <= v_choose 39\n",
      "len(v) 1 <= v_choose 39\n",
      "len(v) 2 <= v_choose 39\n",
      "len(v) 1 <= v_choose 39\n",
      "len(v) 1 <= v_choose 39\n",
      "len(v) 1 <= v_choose 39\n",
      "len(v) 1 <= v_choose 39\n",
      "len(v) 1 <= v_choose 39\n",
      "len(v) 1 <= v_choose 39\n",
      "len(v) 1 <= v_choose 39\n",
      "len(v) 1 <= v_choose 39\n",
      "len(v) 1 <= v_choose 39\n",
      "len(v) 1 <= v_choose 39\n",
      "len(v) 2 <= v_choose 39\n",
      "len(v) 1 <= v_choose 39\n",
      "len(v) 1 <= v_choose 39\n",
      "len(v) 2 <= v_choose 39\n",
      "len(v) 4 <= v_choose 39\n",
      "len(v) 1 <= v_choose 39\n",
      "len(v) 1 <= v_choose 39\n",
      "len(v) 1 <= v_choose 39\n",
      "len(v) 3 <= v_choose 39\n",
      "len(v) 1 <= v_choose 39\n",
      "len(v) 1 <= v_choose 39\n",
      "len(v) 1 <= v_choose 39\n",
      "len(v) 1 <= v_choose 39\n",
      "len(v) 2 <= v_choose 39\n",
      "len(v) 1 <= v_choose 39\n",
      "len(v) 1 <= v_choose 39\n",
      "len(v) 3 <= v_choose 39\n",
      "len(v) 1 <= v_choose 39\n",
      "len(v) 2 <= v_choose 39\n",
      "len(v) 1 <= v_choose 39\n",
      "len(v) 2 <= v_choose 39\n",
      "len(v) 1 <= v_choose 39\n",
      "len(v) 2 <= v_choose 39\n",
      "len(v) 3 <= v_choose 39\n",
      "len(v) 1 <= v_choose 39\n",
      "len(v) 1 <= v_choose 39\n",
      "len(v) 1 <= v_choose 39\n",
      "len(v) 1 <= v_choose 39\n",
      "len(v) 5 <= v_choose 39\n",
      "len(v) 1 <= v_choose 39\n",
      "len(v) 1 <= v_choose 39\n",
      "len(v) 4 <= v_choose 39\n",
      "len(v) 1 <= v_choose 39\n",
      "len(v) 1 <= v_choose 39\n",
      "len(v) 1 <= v_choose 39\n",
      "len(v) 1 <= v_choose 39\n",
      "len(v) 1 <= v_choose 39\n",
      "len(v) 1 <= v_choose 39\n",
      "len(v) 1 <= v_choose 39\n",
      "len(v) 1 <= v_choose 39\n",
      "len(v) 1 <= v_choose 39\n",
      "len(v) 1 <= v_choose 39\n",
      "len(v) 1 <= v_choose 39\n",
      "len(v) 3 <= v_choose 39\n",
      "len(v) 1 <= v_choose 39\n",
      "len(v) 1 <= v_choose 39\n",
      "len(v) 1 <= v_choose 39\n",
      "len(v) 1 <= v_choose 39\n",
      "len(v) 2 <= v_choose 39\n",
      "len(v) 1 <= v_choose 39\n",
      "len(v) 1 <= v_choose 39\n",
      "len(v) 1 <= v_choose 39\n",
      "len(v) 1 <= v_choose 39\n",
      "len(v) 1 <= v_choose 39\n",
      "len(v) 1 <= v_choose 39\n",
      "len(v) 2 <= v_choose 39\n",
      "len(v) 2 <= v_choose 39\n",
      "len(v) 2 <= v_choose 39\n",
      "len(v) 3 <= v_choose 39\n",
      "len(v) 1 <= v_choose 39\n",
      "len(v) 1 <= v_choose 39\n",
      "len(v) 1 <= v_choose 39\n",
      "len(v) 1 <= v_choose 39\n",
      "len(v) 1 <= v_choose 39\n",
      "len(v) 1 <= v_choose 39\n",
      "len(v) 1 <= v_choose 39\n",
      "len(v) 1 <= v_choose 39\n",
      "len(v) 1 <= v_choose 39\n",
      "len(v) 1 <= v_choose 39\n",
      "len(v) 1 <= v_choose 39\n",
      "len(v) 1 <= v_choose 39\n",
      "len(v) 1 <= v_choose 39\n",
      "len(v) 1 <= v_choose 39\n",
      "len(v) 1 <= v_choose 39\n",
      "len(v) 2 <= v_choose 39\n",
      "len(v) 1 <= v_choose 39\n",
      "len(v) 1 <= v_choose 39\n",
      "len(v) 1 <= v_choose 39\n",
      "len(v) 1 <= v_choose 39\n",
      "len(v) 4 <= v_choose 39\n",
      "len(v) 1 <= v_choose 39\n",
      "len(v) 3 <= v_choose 39\n",
      "len(v) 1 <= v_choose 39\n",
      "len(v) 1 <= v_choose 39\n",
      "len(v) 1 <= v_choose 39\n",
      "len(v) 1 <= v_choose 39\n",
      "len(v) 1 <= v_choose 39\n",
      "len(v) 1 <= v_choose 39\n",
      "len(v) 1 <= v_choose 39\n",
      "len(v) 4 <= v_choose 39\n",
      "len(v) 1 <= v_choose 39\n",
      "len(v) 1 <= v_choose 39\n",
      "len(v) 1 <= v_choose 39\n",
      "len(v) 1 <= v_choose 39\n",
      "len(v) 1 <= v_choose 39\n",
      "len(v) 1 <= v_choose 39\n",
      "len(v) 1 <= v_choose 39\n",
      "len(v) 1 <= v_choose 39\n",
      "len(v) 1 <= v_choose 39\n",
      "len(v) 1 <= v_choose 39\n",
      "len(v) 1 <= v_choose 39\n",
      "len(v) 1 <= v_choose 39\n",
      "len(v) 1 <= v_choose 39\n",
      "len(v) 1 <= v_choose 39\n",
      "len(v) 1 <= v_choose 39\n",
      "len(v) 1 <= v_choose 39\n",
      "len(v) 1 <= v_choose 39\n",
      "len(v) 2 <= v_choose 39\n",
      "len(v) 1 <= v_choose 39\n",
      "len(v) 1 <= v_choose 39\n",
      "len(v) 2 <= v_choose 39\n",
      "len(v) 1 <= v_choose 39\n",
      "len(v) 2 <= v_choose 39\n",
      "len(v) 1 <= v_choose 39\n",
      "len(v) 2 <= v_choose 39\n",
      "len(v) 1 <= v_choose 39\n",
      "len(v) 1 <= v_choose 39\n",
      "len(v) 1 <= v_choose 39\n",
      "len(v) 1 <= v_choose 39\n",
      "len(v) 1 <= v_choose 39\n",
      "len(v) 1 <= v_choose 39\n",
      "len(v) 1 <= v_choose 39\n",
      "len(v) 1 <= v_choose 39\n",
      "len(v) 1 <= v_choose 39\n",
      "len(v) 2 <= v_choose 39\n",
      "len(v) 1 <= v_choose 39\n",
      "len(v) 1 <= v_choose 39\n",
      "len(v) 1 <= v_choose 39\n",
      "len(v) 1 <= v_choose 39\n",
      "len(v) 1 <= v_choose 39\n",
      "len(v) 1 <= v_choose 39\n",
      "len(v) 1 <= v_choose 39\n",
      "len(v) 1 <= v_choose 39\n",
      "len(v) 1 <= v_choose 39\n",
      "len(v) 1 <= v_choose 39\n",
      "len(v) 1 <= v_choose 39\n",
      "len(v) 1 <= v_choose 39\n",
      "len(v) 1 <= v_choose 39\n",
      "len(v) 1 <= v_choose 39\n",
      "len(v) 1 <= v_choose 39\n",
      "len(v) 1 <= v_choose 39\n",
      "len(v) 1 <= v_choose 39\n",
      "len(v) 1 <= v_choose 39\n",
      "len(v) 1 <= v_choose 39\n",
      "len(v) 1 <= v_choose 39\n",
      "len(v) 1 <= v_choose 39\n",
      "len(v) 1 <= v_choose 39\n",
      "len(v) 1 <= v_choose 39\n",
      "len(v) 1 <= v_choose 39\n",
      "len(v) 1 <= v_choose 39\n",
      "len(v) 1 <= v_choose 39\n",
      "len(v) 1 <= v_choose 39\n",
      "len(v) 1 <= v_choose 39\n",
      "len(v) 1 <= v_choose 39\n",
      "len(v) 2 <= v_choose 39\n",
      "len(v) 1 <= v_choose 39\n",
      "len(v) 1 <= v_choose 39\n",
      "len(v) 1 <= v_choose 39\n",
      "len(v) 1 <= v_choose 39\n",
      "len(v) 1 <= v_choose 39\n",
      "len(v) 2 <= v_choose 39\n",
      "len(v) 1 <= v_choose 39\n",
      "len(v) 1 <= v_choose 39\n",
      "len(v) 1 <= v_choose 39\n",
      "len(v) 2 <= v_choose 39\n",
      "len(v) 2 <= v_choose 39\n",
      "len(v) 1 <= v_choose 39\n",
      "len(v) 1 <= v_choose 39\n",
      "len(v) 1 <= v_choose 39\n",
      "len(v) 1 <= v_choose 39\n",
      "len(v) 3 <= v_choose 39\n",
      "len(v) 1 <= v_choose 39\n",
      "len(v) 1 <= v_choose 39\n",
      "len(v) 1 <= v_choose 39\n",
      "len(v) 1 <= v_choose 39\n",
      "len(v) 1 <= v_choose 39\n",
      "len(v) 1 <= v_choose 39\n",
      "len(v) 1 <= v_choose 39\n",
      "len(v) 1 <= v_choose 39\n",
      "len(v) 1 <= v_choose 39\n",
      "len(v) 1 <= v_choose 39\n",
      "len(v) 1 <= v_choose 39\n",
      "len(v) 1 <= v_choose 39\n",
      "len(v) 1 <= v_choose 39\n",
      "len(v) 1 <= v_choose 39\n",
      "len(v) 1 <= v_choose 39\n",
      "len(v) 1 <= v_choose 39\n",
      "len(v) 1 <= v_choose 39\n",
      "len(v) 2 <= v_choose 39\n",
      "len(v) 1 <= v_choose 39\n",
      "len(v) 1 <= v_choose 39\n",
      "len(v) 1 <= v_choose 39\n",
      "len(v) 1 <= v_choose 39\n",
      "len(v) 1 <= v_choose 39\n",
      "len(v) 1 <= v_choose 39\n",
      "len(v) 1 <= v_choose 39\n",
      "len(v) 1 <= v_choose 39\n",
      "len(v) 1 <= v_choose 39\n",
      "len(v) 1 <= v_choose 39\n",
      "len(v) 1 <= v_choose 39\n",
      "len(v) 2 <= v_choose 39\n",
      "len(v) 1 <= v_choose 39\n",
      "len(v) 1 <= v_choose 39\n",
      "len(v) 1 <= v_choose 39\n",
      "len(v) 1 <= v_choose 39\n",
      "len(v) 1 <= v_choose 39\n",
      "len(v) 1 <= v_choose 39\n",
      "len(v) 1 <= v_choose 39\n",
      "len(v) 1 <= v_choose 39\n",
      "len(v) 1 <= v_choose 39\n",
      "len(v) 1 <= v_choose 39\n",
      "len(v) 1 <= v_choose 39\n",
      "len(v) 1 <= v_choose 39\n",
      "len(v) 1 <= v_choose 39\n",
      "len(v) 1 <= v_choose 39\n",
      "len(v) 1 <= v_choose 39\n",
      "len(v) 1 <= v_choose 39\n",
      "len(v) 1 <= v_choose 39\n",
      "len(v) 1 <= v_choose 39\n",
      "len(v) 1 <= v_choose 39\n",
      "len(v) 1 <= v_choose 39\n",
      "len(v) 1 <= v_choose 39\n"
     ]
    },
    {
     "name": "stdout",
     "output_type": "stream",
     "text": [
      "pre_GoodSamples (47058, 2381) pre_malSamples (10675, 2381)\n",
      "Y_replay (57733,)\n"
     ]
    }
   ],
   "source": [
    "def AWS_Samples(v, v_weights, v_choose, get_anomalous=True, contamination=0.1):\n",
    "    \n",
    "    v_weights = np.array(v_weights) \n",
    "    data_X = v\n",
    "    \n",
    "    clf = IsolationForest(max_samples=len(v_weights), contamination=contamination)\n",
    "    clf.fit(v_weights)\n",
    "    y_pred = clf.predict(v_weights)\n",
    "    anomalous_idx = np.where(y_pred == -1.0)\n",
    "    similar_idx = np.where(y_pred == 1.0)\n",
    "\n",
    "    assert len(anomalous_idx[0]) + len(similar_idx[0]) == len(y_pred)\n",
    "    \n",
    "    if get_anomalous:\n",
    "        anomalous_samples_pool = list(data_X[anomalous_idx])\n",
    "        similar_samples_pool = list(data_X[similar_idx])\n",
    "\n",
    "        v_choose_split = int(np.ceil(v_choose/2))\n",
    "\n",
    "        if len(anomalous_samples_pool) > v_choose_split:\n",
    "            anomalous_samples = random.sample(anomalous_samples_pool, v_choose_split)\n",
    "\n",
    "        else:\n",
    "            anomalous_samples = anomalous_samples_pool\n",
    "\n",
    "        if len(anomalous_samples) == v_choose_split:\n",
    "            similar_samples = random.sample(similar_samples_pool, v_choose_split)\n",
    "        elif len(anomalous_samples) < v_choose_split:\n",
    "            v_choose_split += v_choose_split - len(anomalous_samples)\n",
    "            if len(similar_samples_pool) > v_choose_split:\n",
    "                similar_samples = random.sample(similar_samples_pool, v_choose_split)\n",
    "            else:\n",
    "                similar_samples = similar_samples_pool\n",
    "        if len(anomalous_samples) > 0 and len(similar_samples) > 0: \n",
    "            anomalous_samples, similar_samples = np.array(anomalous_samples), np.array(similar_samples)\n",
    "            #print(f'anomalous_samples {anomalous_samples.shape} similar_samples {similar_samples.shape}')\n",
    "            replay_samples = np.concatenate((anomalous_samples, similar_samples))\n",
    "        else:\n",
    "            if len(anomalous_samples) <= 0:\n",
    "                replay_samples = similar_samples\n",
    "            if len(similar_samples) <= 0:\n",
    "                replay_samples = anomalous_samples\n",
    "    else:\n",
    "        similar_samples_pool = list(data_X[similar_idx])\n",
    "        if len(similar_samples_pool) > v_choose:\n",
    "            similar_samples = random.sample(similar_samples_pool, v_choose)\n",
    "        else:\n",
    "            similar_samples = similar_samples_pool\n",
    "            \n",
    "        replay_samples = np.array(similar_samples)\n",
    "        \n",
    "    return replay_samples\n",
    "\n",
    "\n",
    "def AWS(GFamilyDict, memory_budget, model, layer, batch_size, device,\\\n",
    "        goodware_ifs=False, min_samples=1, fs_option='ratio'):\n",
    "    #fs_option = 'uniform'\n",
    "    #memory_budget = 1000\n",
    "    goodware_budget = malware_budget = int(np.ceil(memory_budget/2))\n",
    "    \n",
    "    num_families = len(GFamilyDict.keys()) - 1 \n",
    "    pre_malSamples = []\n",
    "    #cnt = 0\n",
    "    #fam_cnt = 0\n",
    "    \n",
    "    for k, v in GFamilyDict.items():\n",
    "        if k != 'goodware':\n",
    "            #if malware_count > malware_budget:\n",
    "            if fs_option != 'gifs':\n",
    "                #fam_cnt += 1\n",
    "                v = np.array(v)\n",
    "                #print(f'{k} - {len(v)}')\n",
    "                #cnt += len(v)\n",
    "\n",
    "                if fs_option == 'ratio':\n",
    "                    v_choose = int(np.ceil((len(v) / malware_count) * malware_budget))\n",
    "\n",
    "                if fs_option == 'uniform':\n",
    "                    v_choose = int(np.ceil(malware_budget / num_families))\n",
    "\n",
    "                if fs_option == 'mix':\n",
    "                    v_choose = int(np.ceil((len(v) / malware_count) * malware_budget))\n",
    "                    if v_choose < min_samples:\n",
    "                        #print(f'v_choose {v_choose} min_samples {min_samples}')\n",
    "                        v_choose = min_samples\n",
    "                    #else: print(f'v_choose {v_choose} **')                \n",
    "\n",
    "                if len(v) <= v_choose:\n",
    "                    print(f'len(v) {len(v)} <= v_choose {v_choose}')\n",
    "                    for i in v:\n",
    "                        pre_malSamples.append(i)\n",
    "                else:\n",
    "                    print(f'len(v) {len(v)} > v_choose {v_choose}')\n",
    "                    v_Y = np.ones(len(v))\n",
    "                    v_weights = get_weights(model, layer, v, v_Y, batch_size, device)\n",
    "                    v = AWS_Samples(v, v_weights, v_choose, get_anomalous=True, contamination=0.1)\n",
    "\n",
    "                    for i in v:\n",
    "                        pre_malSamples.append(i)\n",
    "            else:\n",
    "                for i in v:\n",
    "                    pre_malSamples.append(i)\n",
    "#             else:\n",
    "#                 for i in v:\n",
    "#                     pre_malSamples.append(i)    \n",
    "\n",
    "    if fs_option == 'gifs':\n",
    "        if malware_budget < len(pre_malSamples):\n",
    "            pre_malSamples = random.sample(list(pre_malSamples), malware_budget)\n",
    "    \n",
    "    \n",
    "    all_Goodware = GFamilyDict['goodware']\n",
    "    if goodware_ifs:\n",
    "        #print(f'I am here NOW.')\n",
    "        \n",
    "        v = all_Goodware\n",
    "        pre_GoodSamples = []\n",
    "        if len(all_Goodware) > goodware_budget:\n",
    "            v_Y = np.ones(len(v))\n",
    "            v_weights = get_weights(model, layer, v, v_Y, batch_size, device)\n",
    "            v_choose = goodware_budget\n",
    "            v = AWS_Samples(v, v_weights, v_choose, get_anomalous=True, contamination=0.1)\n",
    "            for i in v:\n",
    "                pre_GoodSamples.append(i)\n",
    "        else:\n",
    "            for i in v:\n",
    "                pre_GoodSamples.append(i)\n",
    "    else:\n",
    "        if goodware_budget > len(all_Goodware):\n",
    "            pre_GoodSamples = all_Goodware\n",
    "        else:\n",
    "            pre_GoodSamples = random.sample(list(all_Goodware), goodware_budget)\n",
    "    \n",
    "    print(f'pre_GoodSamples {np.array(pre_GoodSamples).shape} pre_malSamples {np.array(pre_malSamples).shape}')\n",
    "    samples_to_replay = np.concatenate((np.array(pre_GoodSamples), np.array(pre_malSamples)))\n",
    "    labels_to_replay = np.concatenate((np.zeros(len(pre_GoodSamples)), np.ones(len(pre_malSamples))))\n",
    "    \n",
    "    X_replay, Y_replay = shuffle(samples_to_replay, labels_to_replay)\n",
    "    \n",
    "    return X_replay, Y_replay\n",
    "\n",
    "\n",
    "\n",
    "memory_budget = 100000\n",
    "X_replay, Y_replay = AWS(GFamilyDict, memory_budget, model_new,\\\n",
    "                                          layer, batch_size, device,\\\n",
    "                                          goodware_ifs=True, min_samples=1,\n",
    "                                          fs_option='uniform')\n",
    "\n",
    "print(f'Y_replay {Y_replay.shape}')"
   ]
  },
  {
   "cell_type": "code",
   "execution_count": 10,
   "metadata": {
    "scrolled": true
   },
   "outputs": [
    {
     "data": {
      "text/plain": [
       "57388"
      ]
     },
     "execution_count": 10,
     "metadata": {},
     "output_type": "execute_result"
    }
   ],
   "source": []
  }
 ],
 "metadata": {
  "kernelspec": {
   "display_name": "PyTorch",
   "language": "python",
   "name": "pytorch"
  },
  "language_info": {
   "codemirror_mode": {
    "name": "ipython",
    "version": 3
   },
   "file_extension": ".py",
   "mimetype": "text/x-python",
   "name": "python",
   "nbconvert_exporter": "python",
   "pygments_lexer": "ipython3",
   "version": "3.7.9"
  }
 },
 "nbformat": 4,
 "nbformat_minor": 4
}
