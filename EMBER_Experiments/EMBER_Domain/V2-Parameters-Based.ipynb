{
 "cells": [
  {
   "cell_type": "code",
   "execution_count": 2,
   "metadata": {},
   "outputs": [],
   "source": [
    "import numpy as np\n",
    "import random\n",
    "import datetime\n",
    "import time\n",
    "import os\n",
    "from collections import defaultdict\n",
    "from sklearn.preprocessing import StandardScaler\n",
    "from sklearn.ensemble import IsolationForest\n",
    "import matplotlib.pyplot as plt\n",
    "from tqdm import tqdm\n",
    "import ast\n",
    "import pandas as pd\n",
    "import seaborn as sns\n",
    "\n",
    "import argparse\n",
    "import torch\n",
    "import torchvision\n",
    "import torch.nn as nn\n",
    "import torch.optim as optim\n",
    "import torch.nn.functional as F\n",
    "from torchvision import transforms, utils, datasets\n",
    "from torch.utils.data import Dataset, DataLoader\n",
    "\n",
    "import matplotlib.pyplot as plt\n",
    "from scipy import stats\n",
    "import seaborn as sns\n",
    "plt.rcParams['font.size'] = 18\n",
    "#plt.rcParams['font.family'] = \"serif\"\n",
    "tdir = 'in'\n",
    "major = 5.0\n",
    "minor = 3.0\n",
    "plt.rcParams['xtick.direction'] = tdir\n",
    "plt.rcParams['ytick.direction'] = tdir\n",
    "plt.rcParams['xtick.major.size'] = major\n",
    "plt.rcParams['xtick.minor.size'] = minor\n",
    "plt.rcParams['ytick.major.size'] = major\n",
    "plt.rcParams['ytick.minor.size'] = minor\n",
    "\n",
    "\n",
    "from ember_utils import *\n",
    "from ember_model import *\n",
    "from ember_pjr_utils import *"
   ]
  },
  {
   "cell_type": "code",
   "execution_count": 3,
   "metadata": {},
   "outputs": [
    {
     "name": "stdout",
     "output_type": "stream",
     "text": [
      "Torch 1.6.0 CUDA 10.2\n",
      "Model has 3.132161m parameters\n",
      "\n",
      "2023-01-28 03:06:49 Round 1 ...\n",
      "Current Task 2018-01 w/ 500 samples to Replay per Malware family.\n",
      "X_train (55722, 2381) Y_train (55722,) Y_tr_family (55722,)\n",
      "X_test (6192, 2381) Y_test (6192,) Y_te_family (6192,)\n",
      "Task 2018-01 and #-of new samples stored 55722\n",
      "2023-01-28 03:06:50 Standardizing ...\n"
     ]
    },
    {
     "name": "stderr",
     "output_type": "stream",
     "text": [
      "\r",
      "  0%|          | 0/9 [00:00<?, ?it/s]"
     ]
    },
    {
     "name": "stdout",
     "output_type": "stream",
     "text": [
      "\n",
      "X_train (55722, 2381) Y_train (55722,)\n",
      "\n",
      "2023-01-28 03:06:53 Training ...\n",
      "Epoch 1 of 500\n"
     ]
    },
    {
     "name": "stderr",
     "output_type": "stream",
     "text": [
      "100%|██████████| 9/9 [00:01<00:00,  4.72it/s]\n",
      "100%|██████████| 2/2 [00:00<00:00, 13.25it/s]\n",
      "  0%|          | 0/9 [00:00<?, ?it/s]"
     ]
    },
    {
     "name": "stdout",
     "output_type": "stream",
     "text": [
      "Train Loss: 0.7014, Train Acc: 0.5266\n",
      "Val Loss: 0.6841, Val Acc: 0.7139\n",
      "Validation loss decreased (inf --> 0.684086).  Saving model ...\n",
      "../Weights_model_weights/Weights_replay_500/2018-01/best_model_epoch_1.pt\n",
      "../Weights_optimizer_weights/Weights_replay_500/2018-01/best_optimizer_epoch_1.pt\n",
      "Epoch 2 of 500\n"
     ]
    },
    {
     "name": "stderr",
     "output_type": "stream",
     "text": [
      "100%|██████████| 9/9 [00:01<00:00,  6.24it/s]\n",
      "100%|██████████| 2/2 [00:00<00:00, 12.40it/s]\n",
      "  0%|          | 0/9 [00:00<?, ?it/s]"
     ]
    },
    {
     "name": "stdout",
     "output_type": "stream",
     "text": [
      "Train Loss: 0.6654, Train Acc: 0.6084\n",
      "Val Loss: 0.6490, Val Acc: 0.7339\n",
      "Validation loss decreased (0.684086 --> 0.648958).  Saving model ...\n",
      "../Weights_model_weights/Weights_replay_500/2018-01/best_model_epoch_2.pt\n",
      "../Weights_optimizer_weights/Weights_replay_500/2018-01/best_optimizer_epoch_2.pt\n",
      "Epoch 3 of 500\n"
     ]
    },
    {
     "name": "stderr",
     "output_type": "stream",
     "text": [
      "100%|██████████| 9/9 [00:01<00:00,  6.71it/s]\n",
      "100%|██████████| 2/2 [00:00<00:00,  7.87it/s]\n",
      "  0%|          | 0/9 [00:00<?, ?it/s]"
     ]
    },
    {
     "name": "stdout",
     "output_type": "stream",
     "text": [
      "Train Loss: 0.6199, Train Acc: 0.6823\n",
      "Val Loss: 0.5906, Val Acc: 0.7666\n",
      "Validation loss decreased (0.648958 --> 0.590589).  Saving model ...\n",
      "../Weights_model_weights/Weights_replay_500/2018-01/best_model_epoch_3.pt\n",
      "../Weights_optimizer_weights/Weights_replay_500/2018-01/best_optimizer_epoch_3.pt\n",
      "Epoch 4 of 500\n"
     ]
    },
    {
     "name": "stderr",
     "output_type": "stream",
     "text": [
      "100%|██████████| 9/9 [00:01<00:00,  5.88it/s]\n",
      "100%|██████████| 2/2 [00:00<00:00, 12.21it/s]\n",
      "  0%|          | 0/9 [00:00<?, ?it/s]"
     ]
    },
    {
     "name": "stdout",
     "output_type": "stream",
     "text": [
      "Train Loss: 0.5657, Train Acc: 0.7286\n",
      "Val Loss: 0.5172, Val Acc: 0.7911\n",
      "Validation loss decreased (0.590589 --> 0.517158).  Saving model ...\n",
      "../Weights_model_weights/Weights_replay_500/2018-01/best_model_epoch_4.pt\n",
      "../Weights_optimizer_weights/Weights_replay_500/2018-01/best_optimizer_epoch_4.pt\n",
      "Epoch 5 of 500\n"
     ]
    },
    {
     "name": "stderr",
     "output_type": "stream",
     "text": [
      "100%|██████████| 9/9 [00:01<00:00,  5.95it/s]\n",
      "100%|██████████| 2/2 [00:00<00:00, 12.52it/s]\n",
      "  0%|          | 0/9 [00:00<?, ?it/s]"
     ]
    },
    {
     "name": "stdout",
     "output_type": "stream",
     "text": [
      "Train Loss: 0.5038, Train Acc: 0.7666\n",
      "Val Loss: 0.4546, Val Acc: 0.7977\n",
      "Validation loss decreased (0.517158 --> 0.454603).  Saving model ...\n",
      "../Weights_model_weights/Weights_replay_500/2018-01/best_model_epoch_5.pt\n",
      "../Weights_optimizer_weights/Weights_replay_500/2018-01/best_optimizer_epoch_5.pt\n",
      "Epoch 6 of 500\n"
     ]
    },
    {
     "name": "stderr",
     "output_type": "stream",
     "text": [
      "100%|██████████| 9/9 [00:01<00:00,  6.11it/s]\n",
      "100%|██████████| 2/2 [00:00<00:00, 12.62it/s]\n",
      "  0%|          | 0/9 [00:00<?, ?it/s]"
     ]
    },
    {
     "name": "stdout",
     "output_type": "stream",
     "text": [
      "Train Loss: 0.4609, Train Acc: 0.7832\n",
      "Val Loss: 0.4049, Val Acc: 0.8279\n",
      "Validation loss decreased (0.454603 --> 0.404903).  Saving model ...\n",
      "../Weights_model_weights/Weights_replay_500/2018-01/best_model_epoch_6.pt\n",
      "../Weights_optimizer_weights/Weights_replay_500/2018-01/best_optimizer_epoch_6.pt\n",
      "Epoch 7 of 500\n"
     ]
    },
    {
     "name": "stderr",
     "output_type": "stream",
     "text": [
      "100%|██████████| 9/9 [00:01<00:00,  6.52it/s]\n",
      "100%|██████████| 2/2 [00:00<00:00,  6.81it/s]\n",
      "  0%|          | 0/9 [00:00<?, ?it/s]"
     ]
    },
    {
     "name": "stdout",
     "output_type": "stream",
     "text": [
      "Train Loss: 0.4161, Train Acc: 0.8059\n",
      "Val Loss: 0.3646, Val Acc: 0.8408\n",
      "Validation loss decreased (0.404903 --> 0.364636).  Saving model ...\n",
      "../Weights_model_weights/Weights_replay_500/2018-01/best_model_epoch_7.pt\n",
      "../Weights_optimizer_weights/Weights_replay_500/2018-01/best_optimizer_epoch_7.pt\n",
      "Epoch 8 of 500\n"
     ]
    },
    {
     "name": "stderr",
     "output_type": "stream",
     "text": [
      "100%|██████████| 9/9 [00:01<00:00,  5.54it/s]\n",
      "100%|██████████| 2/2 [00:00<00:00, 11.69it/s]\n",
      "  0%|          | 0/9 [00:00<?, ?it/s]"
     ]
    },
    {
     "name": "stdout",
     "output_type": "stream",
     "text": [
      "Train Loss: 0.3808, Train Acc: 0.8266\n",
      "Val Loss: 0.3303, Val Acc: 0.8630\n",
      "Validation loss decreased (0.364636 --> 0.330292).  Saving model ...\n",
      "../Weights_model_weights/Weights_replay_500/2018-01/best_model_epoch_8.pt\n",
      "../Weights_optimizer_weights/Weights_replay_500/2018-01/best_optimizer_epoch_8.pt\n",
      "Epoch 9 of 500\n"
     ]
    },
    {
     "name": "stderr",
     "output_type": "stream",
     "text": [
      "100%|██████████| 9/9 [00:01<00:00,  5.91it/s]\n",
      "100%|██████████| 2/2 [00:00<00:00, 12.14it/s]\n",
      "  0%|          | 0/9 [00:00<?, ?it/s]"
     ]
    },
    {
     "name": "stdout",
     "output_type": "stream",
     "text": [
      "Train Loss: 0.3495, Train Acc: 0.8429\n",
      "Val Loss: 0.3001, Val Acc: 0.8776\n",
      "Validation loss decreased (0.330292 --> 0.300073).  Saving model ...\n",
      "../Weights_model_weights/Weights_replay_500/2018-01/best_model_epoch_9.pt\n",
      "../Weights_optimizer_weights/Weights_replay_500/2018-01/best_optimizer_epoch_9.pt\n",
      "Epoch 10 of 500\n"
     ]
    },
    {
     "name": "stderr",
     "output_type": "stream",
     "text": [
      "100%|██████████| 9/9 [00:01<00:00,  4.84it/s]\n",
      "100%|██████████| 2/2 [00:00<00:00, 11.44it/s]\n",
      "  0%|          | 0/9 [00:00<?, ?it/s]"
     ]
    },
    {
     "name": "stdout",
     "output_type": "stream",
     "text": [
      "Train Loss: 0.3223, Train Acc: 0.8595\n",
      "Val Loss: 0.2782, Val Acc: 0.8851\n",
      "Validation loss decreased (0.300073 --> 0.278247).  Saving model ...\n",
      "../Weights_model_weights/Weights_replay_500/2018-01/best_model_epoch_10.pt\n",
      "../Weights_optimizer_weights/Weights_replay_500/2018-01/best_optimizer_epoch_10.pt\n",
      "Epoch 11 of 500\n"
     ]
    },
    {
     "name": "stderr",
     "output_type": "stream",
     "text": [
      "100%|██████████| 9/9 [00:01<00:00,  5.63it/s]\n",
      "100%|██████████| 2/2 [00:00<00:00,  7.90it/s]\n",
      "  0%|          | 0/9 [00:00<?, ?it/s]"
     ]
    },
    {
     "name": "stdout",
     "output_type": "stream",
     "text": [
      "Train Loss: 0.3017, Train Acc: 0.8682\n",
      "Val Loss: 0.2640, Val Acc: 0.8918\n",
      "Validation loss decreased (0.278247 --> 0.264016).  Saving model ...\n",
      "../Weights_model_weights/Weights_replay_500/2018-01/best_model_epoch_11.pt\n",
      "../Weights_optimizer_weights/Weights_replay_500/2018-01/best_optimizer_epoch_11.pt\n",
      "Epoch 12 of 500\n"
     ]
    },
    {
     "name": "stderr",
     "output_type": "stream",
     "text": [
      "100%|██████████| 9/9 [00:01<00:00,  5.50it/s]\n",
      "100%|██████████| 2/2 [00:00<00:00, 11.79it/s]\n",
      "  0%|          | 0/9 [00:00<?, ?it/s]"
     ]
    },
    {
     "name": "stdout",
     "output_type": "stream",
     "text": [
      "Train Loss: 0.2837, Train Acc: 0.8788\n",
      "Val Loss: 0.2528, Val Acc: 0.8943\n",
      "Validation loss decreased (0.264016 --> 0.252774).  Saving model ...\n",
      "../Weights_model_weights/Weights_replay_500/2018-01/best_model_epoch_12.pt\n",
      "../Weights_optimizer_weights/Weights_replay_500/2018-01/best_optimizer_epoch_12.pt\n",
      "Epoch 13 of 500\n"
     ]
    },
    {
     "name": "stderr",
     "output_type": "stream",
     "text": [
      "100%|██████████| 9/9 [00:01<00:00,  5.76it/s]\n",
      "100%|██████████| 2/2 [00:00<00:00, 10.36it/s]\n",
      "  0%|          | 0/9 [00:00<?, ?it/s]"
     ]
    },
    {
     "name": "stdout",
     "output_type": "stream",
     "text": [
      "Train Loss: 0.2701, Train Acc: 0.8850\n",
      "Val Loss: 0.2418, Val Acc: 0.8974\n",
      "Validation loss decreased (0.252774 --> 0.241757).  Saving model ...\n",
      "../Weights_model_weights/Weights_replay_500/2018-01/best_model_epoch_13.pt\n",
      "../Weights_optimizer_weights/Weights_replay_500/2018-01/best_optimizer_epoch_13.pt\n",
      "Epoch 14 of 500\n"
     ]
    },
    {
     "name": "stderr",
     "output_type": "stream",
     "text": [
      "100%|██████████| 9/9 [00:01<00:00,  5.68it/s]\n",
      "100%|██████████| 2/2 [00:00<00:00,  7.64it/s]\n",
      "  0%|          | 0/9 [00:00<?, ?it/s]"
     ]
    },
    {
     "name": "stdout",
     "output_type": "stream",
     "text": [
      "Train Loss: 0.2584, Train Acc: 0.8916\n",
      "Val Loss: 0.2392, Val Acc: 0.8991\n",
      "Validation loss decreased (0.241757 --> 0.239188).  Saving model ...\n",
      "../Weights_model_weights/Weights_replay_500/2018-01/best_model_epoch_14.pt\n",
      "../Weights_optimizer_weights/Weights_replay_500/2018-01/best_optimizer_epoch_14.pt\n",
      "Epoch 15 of 500\n"
     ]
    },
    {
     "name": "stderr",
     "output_type": "stream",
     "text": [
      "100%|██████████| 9/9 [00:01<00:00,  5.95it/s]\n",
      "100%|██████████| 2/2 [00:00<00:00, 12.09it/s]\n",
      "  0%|          | 0/9 [00:00<?, ?it/s]"
     ]
    },
    {
     "name": "stdout",
     "output_type": "stream",
     "text": [
      "Train Loss: 0.2434, Train Acc: 0.8984\n",
      "Val Loss: 0.2305, Val Acc: 0.9047\n",
      "Validation loss decreased (0.239188 --> 0.230528).  Saving model ...\n",
      "../Weights_model_weights/Weights_replay_500/2018-01/best_model_epoch_15.pt\n",
      "../Weights_optimizer_weights/Weights_replay_500/2018-01/best_optimizer_epoch_15.pt\n",
      "Epoch 16 of 500\n"
     ]
    },
    {
     "name": "stderr",
     "output_type": "stream",
     "text": [
      "100%|██████████| 9/9 [00:01<00:00,  5.90it/s]\n",
      "100%|██████████| 2/2 [00:00<00:00, 11.54it/s]\n",
      "  0%|          | 0/9 [00:00<?, ?it/s]"
     ]
    },
    {
     "name": "stdout",
     "output_type": "stream",
     "text": [
      "Train Loss: 0.2342, Train Acc: 0.9032\n",
      "Val Loss: 0.2285, Val Acc: 0.9065\n",
      "Validation loss decreased (0.230528 --> 0.228533).  Saving model ...\n",
      "../Weights_model_weights/Weights_replay_500/2018-01/best_model_epoch_16.pt\n",
      "../Weights_optimizer_weights/Weights_replay_500/2018-01/best_optimizer_epoch_16.pt\n",
      "Epoch 17 of 500\n"
     ]
    },
    {
     "name": "stderr",
     "output_type": "stream",
     "text": [
      "100%|██████████| 9/9 [00:01<00:00,  6.00it/s]\n",
      "100%|██████████| 2/2 [00:00<00:00, 12.18it/s]\n",
      "  0%|          | 0/9 [00:00<?, ?it/s]"
     ]
    },
    {
     "name": "stdout",
     "output_type": "stream",
     "text": [
      "Train Loss: 0.2256, Train Acc: 0.9069\n",
      "Val Loss: 0.2252, Val Acc: 0.9075\n",
      "Validation loss decreased (0.228533 --> 0.225176).  Saving model ...\n",
      "../Weights_model_weights/Weights_replay_500/2018-01/best_model_epoch_17.pt\n",
      "../Weights_optimizer_weights/Weights_replay_500/2018-01/best_optimizer_epoch_17.pt\n",
      "Epoch 18 of 500\n"
     ]
    },
    {
     "name": "stderr",
     "output_type": "stream",
     "text": [
      "100%|██████████| 9/9 [00:01<00:00,  5.75it/s]\n",
      "100%|██████████| 2/2 [00:00<00:00,  7.54it/s]\n",
      "  0%|          | 0/9 [00:00<?, ?it/s]"
     ]
    },
    {
     "name": "stdout",
     "output_type": "stream",
     "text": [
      "Train Loss: 0.2251, Train Acc: 0.9071\n",
      "Val Loss: 0.2208, Val Acc: 0.9090\n",
      "Validation loss decreased (0.225176 --> 0.220783).  Saving model ...\n",
      "../Weights_model_weights/Weights_replay_500/2018-01/best_model_epoch_18.pt\n",
      "../Weights_optimizer_weights/Weights_replay_500/2018-01/best_optimizer_epoch_18.pt\n",
      "Epoch 19 of 500\n"
     ]
    },
    {
     "name": "stderr",
     "output_type": "stream",
     "text": [
      "100%|██████████| 9/9 [00:01<00:00,  5.92it/s]\n",
      "100%|██████████| 2/2 [00:00<00:00, 11.50it/s]\n",
      "  0%|          | 0/9 [00:00<?, ?it/s]"
     ]
    },
    {
     "name": "stdout",
     "output_type": "stream",
     "text": [
      "Train Loss: 0.2162, Train Acc: 0.9125\n",
      "Val Loss: 0.2180, Val Acc: 0.9108\n",
      "Validation loss decreased (0.220783 --> 0.218019).  Saving model ...\n",
      "../Weights_model_weights/Weights_replay_500/2018-01/best_model_epoch_19.pt\n",
      "../Weights_optimizer_weights/Weights_replay_500/2018-01/best_optimizer_epoch_19.pt\n",
      "Epoch 20 of 500\n"
     ]
    },
    {
     "name": "stderr",
     "output_type": "stream",
     "text": [
      "100%|██████████| 9/9 [00:01<00:00,  5.42it/s]\n",
      "100%|██████████| 2/2 [00:00<00:00, 12.17it/s]\n",
      "  0%|          | 0/9 [00:00<?, ?it/s]"
     ]
    },
    {
     "name": "stdout",
     "output_type": "stream",
     "text": [
      "Train Loss: 0.2072, Train Acc: 0.9152\n",
      "Val Loss: 0.2155, Val Acc: 0.9136\n",
      "Validation loss decreased (0.218019 --> 0.215496).  Saving model ...\n",
      "../Weights_model_weights/Weights_replay_500/2018-01/best_model_epoch_20.pt\n",
      "../Weights_optimizer_weights/Weights_replay_500/2018-01/best_optimizer_epoch_20.pt\n",
      "Epoch 21 of 500\n"
     ]
    },
    {
     "name": "stderr",
     "output_type": "stream",
     "text": [
      "100%|██████████| 9/9 [00:01<00:00,  5.73it/s]\n",
      "100%|██████████| 2/2 [00:00<00:00,  9.70it/s]\n",
      "  0%|          | 0/9 [00:00<?, ?it/s]"
     ]
    },
    {
     "name": "stdout",
     "output_type": "stream",
     "text": [
      "Train Loss: 0.2075, Train Acc: 0.9154\n",
      "Val Loss: 0.2151, Val Acc: 0.9067\n",
      "Validation loss decreased (0.215496 --> 0.215093).  Saving model ...\n",
      "../Weights_model_weights/Weights_replay_500/2018-01/best_model_epoch_21.pt\n",
      "../Weights_optimizer_weights/Weights_replay_500/2018-01/best_optimizer_epoch_21.pt\n",
      "Epoch 22 of 500\n"
     ]
    },
    {
     "name": "stderr",
     "output_type": "stream",
     "text": [
      "100%|██████████| 9/9 [00:01<00:00,  5.48it/s]\n",
      "100%|██████████| 2/2 [00:00<00:00,  6.53it/s]\n",
      "  0%|          | 0/9 [00:00<?, ?it/s]"
     ]
    },
    {
     "name": "stdout",
     "output_type": "stream",
     "text": [
      "Train Loss: 0.2001, Train Acc: 0.9173\n",
      "Val Loss: 0.2122, Val Acc: 0.9128\n",
      "Validation loss decreased (0.215093 --> 0.212216).  Saving model ...\n",
      "../Weights_model_weights/Weights_replay_500/2018-01/best_model_epoch_22.pt\n",
      "../Weights_optimizer_weights/Weights_replay_500/2018-01/best_optimizer_epoch_22.pt\n",
      "Epoch 23 of 500\n"
     ]
    },
    {
     "name": "stderr",
     "output_type": "stream",
     "text": [
      "100%|██████████| 9/9 [00:01<00:00,  5.81it/s]\n",
      "100%|██████████| 2/2 [00:00<00:00, 10.08it/s]\n",
      "  0%|          | 0/9 [00:00<?, ?it/s]"
     ]
    },
    {
     "name": "stdout",
     "output_type": "stream",
     "text": [
      "Train Loss: 0.1951, Train Acc: 0.9208\n",
      "Val Loss: 0.2097, Val Acc: 0.9157\n",
      "Validation loss decreased (0.212216 --> 0.209651).  Saving model ...\n",
      "../Weights_model_weights/Weights_replay_500/2018-01/best_model_epoch_23.pt\n",
      "../Weights_optimizer_weights/Weights_replay_500/2018-01/best_optimizer_epoch_23.pt\n",
      "Epoch 24 of 500\n"
     ]
    },
    {
     "name": "stderr",
     "output_type": "stream",
     "text": [
      "100%|██████████| 9/9 [00:01<00:00,  5.68it/s]\n",
      "100%|██████████| 2/2 [00:00<00:00, 11.38it/s]\n",
      "  0%|          | 0/9 [00:00<?, ?it/s]"
     ]
    },
    {
     "name": "stdout",
     "output_type": "stream",
     "text": [
      "Train Loss: 0.1895, Train Acc: 0.9236\n",
      "Val Loss: 0.2056, Val Acc: 0.9137\n",
      "Validation loss decreased (0.209651 --> 0.205632).  Saving model ...\n",
      "../Weights_model_weights/Weights_replay_500/2018-01/best_model_epoch_24.pt\n",
      "../Weights_optimizer_weights/Weights_replay_500/2018-01/best_optimizer_epoch_24.pt\n",
      "Epoch 25 of 500\n"
     ]
    },
    {
     "name": "stderr",
     "output_type": "stream",
     "text": [
      "100%|██████████| 9/9 [00:01<00:00,  5.78it/s]\n",
      "100%|██████████| 2/2 [00:00<00:00, 10.23it/s]\n",
      "  0%|          | 0/9 [00:00<?, ?it/s]"
     ]
    },
    {
     "name": "stdout",
     "output_type": "stream",
     "text": [
      "Train Loss: 0.1855, Train Acc: 0.9261\n",
      "Val Loss: 0.2072, Val Acc: 0.9147\n",
      "EarlyStopping counter: 1 out of 5\n",
      "Epoch 26 of 500\n"
     ]
    },
    {
     "name": "stderr",
     "output_type": "stream",
     "text": [
      "100%|██████████| 9/9 [00:01<00:00,  5.55it/s]\n",
      "100%|██████████| 2/2 [00:00<00:00,  6.35it/s]\n",
      "  0%|          | 0/9 [00:00<?, ?it/s]"
     ]
    },
    {
     "name": "stdout",
     "output_type": "stream",
     "text": [
      "Train Loss: 0.1887, Train Acc: 0.9250\n",
      "Val Loss: 0.2022, Val Acc: 0.9181\n",
      "Validation loss decreased (0.205632 --> 0.202240).  Saving model ...\n",
      "../Weights_model_weights/Weights_replay_500/2018-01/best_model_epoch_26.pt\n",
      "../Weights_optimizer_weights/Weights_replay_500/2018-01/best_optimizer_epoch_26.pt\n",
      "Epoch 27 of 500\n"
     ]
    },
    {
     "name": "stderr",
     "output_type": "stream",
     "text": [
      "100%|██████████| 9/9 [00:01<00:00,  5.79it/s]\n",
      "100%|██████████| 2/2 [00:00<00:00, 11.51it/s]\n",
      "  0%|          | 0/9 [00:00<?, ?it/s]"
     ]
    },
    {
     "name": "stdout",
     "output_type": "stream",
     "text": [
      "Train Loss: 0.1793, Train Acc: 0.9287\n",
      "Val Loss: 0.2007, Val Acc: 0.9197\n",
      "Validation loss decreased (0.202240 --> 0.200657).  Saving model ...\n",
      "../Weights_model_weights/Weights_replay_500/2018-01/best_model_epoch_27.pt\n",
      "../Weights_optimizer_weights/Weights_replay_500/2018-01/best_optimizer_epoch_27.pt\n",
      "Epoch 28 of 500\n"
     ]
    },
    {
     "name": "stderr",
     "output_type": "stream",
     "text": [
      "100%|██████████| 9/9 [00:01<00:00,  5.79it/s]\n",
      "100%|██████████| 2/2 [00:00<00:00, 11.31it/s]\n",
      "  0%|          | 0/9 [00:00<?, ?it/s]"
     ]
    },
    {
     "name": "stdout",
     "output_type": "stream",
     "text": [
      "Train Loss: 0.1747, Train Acc: 0.9313\n",
      "Val Loss: 0.2002, Val Acc: 0.9200\n",
      "Validation loss decreased (0.200657 --> 0.200214).  Saving model ...\n",
      "../Weights_model_weights/Weights_replay_500/2018-01/best_model_epoch_28.pt\n",
      "../Weights_optimizer_weights/Weights_replay_500/2018-01/best_optimizer_epoch_28.pt\n",
      "Epoch 29 of 500\n"
     ]
    },
    {
     "name": "stderr",
     "output_type": "stream",
     "text": [
      "100%|██████████| 9/9 [00:01<00:00,  5.84it/s]\n",
      "100%|██████████| 2/2 [00:00<00:00, 10.18it/s]\n",
      "  0%|          | 0/9 [00:00<?, ?it/s]"
     ]
    },
    {
     "name": "stdout",
     "output_type": "stream",
     "text": [
      "Train Loss: 0.1726, Train Acc: 0.9315\n",
      "Val Loss: 0.2011, Val Acc: 0.9192\n",
      "EarlyStopping counter: 1 out of 5\n",
      "Epoch 30 of 500\n"
     ]
    },
    {
     "name": "stderr",
     "output_type": "stream",
     "text": [
      "100%|██████████| 9/9 [00:01<00:00,  5.49it/s]\n",
      "100%|██████████| 2/2 [00:00<00:00,  6.65it/s]\n",
      "  0%|          | 0/9 [00:00<?, ?it/s]"
     ]
    },
    {
     "name": "stdout",
     "output_type": "stream",
     "text": [
      "Train Loss: 0.1685, Train Acc: 0.9336\n",
      "Val Loss: 0.1928, Val Acc: 0.9228\n",
      "Validation loss decreased (0.200214 --> 0.192766).  Saving model ...\n",
      "../Weights_model_weights/Weights_replay_500/2018-01/best_model_epoch_30.pt\n",
      "../Weights_optimizer_weights/Weights_replay_500/2018-01/best_optimizer_epoch_30.pt\n",
      "Epoch 31 of 500\n"
     ]
    },
    {
     "name": "stderr",
     "output_type": "stream",
     "text": [
      "100%|██████████| 9/9 [00:01<00:00,  5.67it/s]\n",
      "100%|██████████| 2/2 [00:00<00:00, 12.18it/s]\n",
      "  0%|          | 0/9 [00:00<?, ?it/s]"
     ]
    },
    {
     "name": "stdout",
     "output_type": "stream",
     "text": [
      "Train Loss: 0.1646, Train Acc: 0.9340\n",
      "Val Loss: 0.1935, Val Acc: 0.9207\n",
      "EarlyStopping counter: 1 out of 5\n",
      "Epoch 32 of 500\n"
     ]
    },
    {
     "name": "stderr",
     "output_type": "stream",
     "text": [
      "100%|██████████| 9/9 [00:01<00:00,  5.88it/s]\n",
      "100%|██████████| 2/2 [00:00<00:00, 10.44it/s]\n",
      "  0%|          | 0/9 [00:00<?, ?it/s]"
     ]
    },
    {
     "name": "stdout",
     "output_type": "stream",
     "text": [
      "Train Loss: 0.1646, Train Acc: 0.9353\n",
      "Val Loss: 0.1945, Val Acc: 0.9213\n",
      "EarlyStopping counter: 2 out of 5\n",
      "Epoch 33 of 500\n"
     ]
    },
    {
     "name": "stderr",
     "output_type": "stream",
     "text": [
      "100%|██████████| 9/9 [00:01<00:00,  5.59it/s]\n",
      "100%|██████████| 2/2 [00:00<00:00,  5.40it/s]\n",
      "  0%|          | 0/9 [00:00<?, ?it/s]"
     ]
    },
    {
     "name": "stdout",
     "output_type": "stream",
     "text": [
      "Train Loss: 0.1611, Train Acc: 0.9371\n",
      "Val Loss: 0.1901, Val Acc: 0.9209\n",
      "Validation loss decreased (0.192766 --> 0.190070).  Saving model ...\n",
      "../Weights_model_weights/Weights_replay_500/2018-01/best_model_epoch_33.pt\n",
      "../Weights_optimizer_weights/Weights_replay_500/2018-01/best_optimizer_epoch_33.pt\n",
      "Epoch 34 of 500\n"
     ]
    },
    {
     "name": "stderr",
     "output_type": "stream",
     "text": [
      "100%|██████████| 9/9 [00:01<00:00,  6.30it/s]\n",
      "100%|██████████| 2/2 [00:00<00:00, 12.32it/s]\n",
      "  0%|          | 0/9 [00:00<?, ?it/s]"
     ]
    },
    {
     "name": "stdout",
     "output_type": "stream",
     "text": [
      "Train Loss: 0.1608, Train Acc: 0.9356\n",
      "Val Loss: 0.1883, Val Acc: 0.9244\n",
      "Validation loss decreased (0.190070 --> 0.188283).  Saving model ...\n",
      "../Weights_model_weights/Weights_replay_500/2018-01/best_model_epoch_34.pt\n",
      "../Weights_optimizer_weights/Weights_replay_500/2018-01/best_optimizer_epoch_34.pt\n",
      "Epoch 35 of 500\n"
     ]
    },
    {
     "name": "stderr",
     "output_type": "stream",
     "text": [
      "100%|██████████| 9/9 [00:01<00:00,  6.51it/s]\n",
      "100%|██████████| 2/2 [00:00<00:00, 12.05it/s]\n",
      "  0%|          | 0/9 [00:00<?, ?it/s]"
     ]
    },
    {
     "name": "stdout",
     "output_type": "stream",
     "text": [
      "Train Loss: 0.1546, Train Acc: 0.9393\n",
      "Val Loss: 0.1882, Val Acc: 0.9253\n",
      "Validation loss decreased (0.188283 --> 0.188175).  Saving model ...\n",
      "../Weights_model_weights/Weights_replay_500/2018-01/best_model_epoch_35.pt\n",
      "../Weights_optimizer_weights/Weights_replay_500/2018-01/best_optimizer_epoch_35.pt\n",
      "Epoch 36 of 500\n"
     ]
    },
    {
     "name": "stderr",
     "output_type": "stream",
     "text": [
      "100%|██████████| 9/9 [00:01<00:00,  6.28it/s]\n",
      "100%|██████████| 2/2 [00:00<00:00, 11.99it/s]\n",
      "  0%|          | 0/9 [00:00<?, ?it/s]"
     ]
    },
    {
     "name": "stdout",
     "output_type": "stream",
     "text": [
      "Train Loss: 0.1537, Train Acc: 0.9380\n",
      "Val Loss: 0.1895, Val Acc: 0.9250\n",
      "EarlyStopping counter: 1 out of 5\n",
      "Epoch 37 of 500\n"
     ]
    },
    {
     "name": "stderr",
     "output_type": "stream",
     "text": [
      "100%|██████████| 9/9 [00:01<00:00,  5.48it/s]\n",
      "100%|██████████| 2/2 [00:00<00:00,  7.17it/s]\n",
      "  0%|          | 0/9 [00:00<?, ?it/s]"
     ]
    },
    {
     "name": "stdout",
     "output_type": "stream",
     "text": [
      "Train Loss: 0.1487, Train Acc: 0.9416\n",
      "Val Loss: 0.1815, Val Acc: 0.9339\n",
      "Validation loss decreased (0.188175 --> 0.181540).  Saving model ...\n",
      "../Weights_model_weights/Weights_replay_500/2018-01/best_model_epoch_37.pt\n",
      "../Weights_optimizer_weights/Weights_replay_500/2018-01/best_optimizer_epoch_37.pt\n",
      "Epoch 38 of 500\n"
     ]
    },
    {
     "name": "stderr",
     "output_type": "stream",
     "text": [
      "100%|██████████| 9/9 [00:01<00:00,  5.71it/s]\n",
      "100%|██████████| 2/2 [00:00<00:00, 11.47it/s]\n",
      "  0%|          | 0/9 [00:00<?, ?it/s]"
     ]
    },
    {
     "name": "stdout",
     "output_type": "stream",
     "text": [
      "Train Loss: 0.1491, Train Acc: 0.9420\n",
      "Val Loss: 0.1825, Val Acc: 0.9295\n",
      "EarlyStopping counter: 1 out of 5\n",
      "Epoch 39 of 500\n"
     ]
    },
    {
     "name": "stderr",
     "output_type": "stream",
     "text": [
      "100%|██████████| 9/9 [00:01<00:00,  6.04it/s]\n",
      "100%|██████████| 2/2 [00:00<00:00, 11.84it/s]\n",
      "  0%|          | 0/9 [00:00<?, ?it/s]"
     ]
    },
    {
     "name": "stdout",
     "output_type": "stream",
     "text": [
      "Train Loss: 0.1482, Train Acc: 0.9420\n",
      "Val Loss: 0.1838, Val Acc: 0.9284\n",
      "EarlyStopping counter: 2 out of 5\n",
      "Epoch 40 of 500\n"
     ]
    },
    {
     "name": "stderr",
     "output_type": "stream",
     "text": [
      "100%|██████████| 9/9 [00:01<00:00,  6.19it/s]\n",
      "100%|██████████| 2/2 [00:00<00:00, 11.92it/s]\n",
      "  0%|          | 0/9 [00:00<?, ?it/s]"
     ]
    },
    {
     "name": "stdout",
     "output_type": "stream",
     "text": [
      "Train Loss: 0.1382, Train Acc: 0.9454\n",
      "Val Loss: 0.1837, Val Acc: 0.9294\n",
      "EarlyStopping counter: 3 out of 5\n",
      "Epoch 41 of 500\n"
     ]
    },
    {
     "name": "stderr",
     "output_type": "stream",
     "text": [
      "100%|██████████| 9/9 [00:01<00:00,  6.14it/s]\n",
      "100%|██████████| 2/2 [00:00<00:00,  6.92it/s]\n",
      "  0%|          | 0/9 [00:00<?, ?it/s]"
     ]
    },
    {
     "name": "stdout",
     "output_type": "stream",
     "text": [
      "Train Loss: 0.1473, Train Acc: 0.9430\n",
      "Val Loss: 0.1828, Val Acc: 0.9320\n",
      "EarlyStopping counter: 4 out of 5\n",
      "Epoch 42 of 500\n"
     ]
    },
    {
     "name": "stderr",
     "output_type": "stream",
     "text": [
      "100%|██████████| 9/9 [00:01<00:00,  6.27it/s]\n",
      "100%|██████████| 2/2 [00:00<00:00, 10.76it/s]\n",
      "  0%|          | 0/9 [00:00<?, ?it/s]"
     ]
    },
    {
     "name": "stdout",
     "output_type": "stream",
     "text": [
      "Train Loss: 0.1412, Train Acc: 0.9452\n",
      "Val Loss: 0.1798, Val Acc: 0.9326\n",
      "Validation loss decreased (0.181540 --> 0.179789).  Saving model ...\n",
      "../Weights_model_weights/Weights_replay_500/2018-01/best_model_epoch_42.pt\n",
      "../Weights_optimizer_weights/Weights_replay_500/2018-01/best_optimizer_epoch_42.pt\n",
      "Epoch 43 of 500\n"
     ]
    },
    {
     "name": "stderr",
     "output_type": "stream",
     "text": [
      "100%|██████████| 9/9 [00:01<00:00,  6.36it/s]\n",
      "100%|██████████| 2/2 [00:00<00:00, 11.43it/s]\n",
      "  0%|          | 0/9 [00:00<?, ?it/s]"
     ]
    },
    {
     "name": "stdout",
     "output_type": "stream",
     "text": [
      "Train Loss: 0.1367, Train Acc: 0.9466\n",
      "Val Loss: 0.1792, Val Acc: 0.9304\n",
      "Validation loss decreased (0.179789 --> 0.179214).  Saving model ...\n",
      "../Weights_model_weights/Weights_replay_500/2018-01/best_model_epoch_43.pt\n",
      "../Weights_optimizer_weights/Weights_replay_500/2018-01/best_optimizer_epoch_43.pt\n",
      "Epoch 44 of 500\n"
     ]
    },
    {
     "name": "stderr",
     "output_type": "stream",
     "text": [
      "100%|██████████| 9/9 [00:01<00:00,  6.31it/s]\n",
      "100%|██████████| 2/2 [00:00<00:00, 12.40it/s]\n",
      "  0%|          | 0/9 [00:00<?, ?it/s]"
     ]
    },
    {
     "name": "stdout",
     "output_type": "stream",
     "text": [
      "Train Loss: 0.1391, Train Acc: 0.9459\n",
      "Val Loss: 0.1796, Val Acc: 0.9323\n",
      "EarlyStopping counter: 1 out of 5\n",
      "Epoch 45 of 500\n"
     ]
    },
    {
     "name": "stderr",
     "output_type": "stream",
     "text": [
      "100%|██████████| 9/9 [00:01<00:00,  5.11it/s]\n",
      "100%|██████████| 2/2 [00:00<00:00,  5.55it/s]\n",
      "  0%|          | 0/9 [00:00<?, ?it/s]"
     ]
    },
    {
     "name": "stdout",
     "output_type": "stream",
     "text": [
      "Train Loss: 0.1360, Train Acc: 0.9468\n",
      "Val Loss: 0.1774, Val Acc: 0.9301\n",
      "Validation loss decreased (0.179214 --> 0.177397).  Saving model ...\n",
      "../Weights_model_weights/Weights_replay_500/2018-01/best_model_epoch_45.pt\n",
      "../Weights_optimizer_weights/Weights_replay_500/2018-01/best_optimizer_epoch_45.pt\n",
      "Epoch 46 of 500\n"
     ]
    },
    {
     "name": "stderr",
     "output_type": "stream",
     "text": [
      "100%|██████████| 9/9 [00:01<00:00,  5.72it/s]\n",
      "100%|██████████| 2/2 [00:00<00:00, 10.32it/s]\n",
      "  0%|          | 0/9 [00:00<?, ?it/s]"
     ]
    },
    {
     "name": "stdout",
     "output_type": "stream",
     "text": [
      "Train Loss: 0.1323, Train Acc: 0.9490\n",
      "Val Loss: 0.1778, Val Acc: 0.9304\n",
      "EarlyStopping counter: 1 out of 5\n",
      "Epoch 47 of 500\n"
     ]
    },
    {
     "name": "stderr",
     "output_type": "stream",
     "text": [
      "100%|██████████| 9/9 [00:01<00:00,  5.65it/s]\n",
      "100%|██████████| 2/2 [00:00<00:00, 11.98it/s]\n",
      "  0%|          | 0/9 [00:00<?, ?it/s]"
     ]
    },
    {
     "name": "stdout",
     "output_type": "stream",
     "text": [
      "Train Loss: 0.1313, Train Acc: 0.9487\n",
      "Val Loss: 0.1731, Val Acc: 0.9316\n",
      "Validation loss decreased (0.177397 --> 0.173118).  Saving model ...\n",
      "../Weights_model_weights/Weights_replay_500/2018-01/best_model_epoch_47.pt\n",
      "../Weights_optimizer_weights/Weights_replay_500/2018-01/best_optimizer_epoch_47.pt\n",
      "Epoch 48 of 500\n"
     ]
    },
    {
     "name": "stderr",
     "output_type": "stream",
     "text": [
      "100%|██████████| 9/9 [00:01<00:00,  5.40it/s]\n",
      "100%|██████████| 2/2 [00:00<00:00,  9.76it/s]\n",
      "  0%|          | 0/9 [00:00<?, ?it/s]"
     ]
    },
    {
     "name": "stdout",
     "output_type": "stream",
     "text": [
      "Train Loss: 0.1290, Train Acc: 0.9498\n",
      "Val Loss: 0.1725, Val Acc: 0.9337\n",
      "Validation loss decreased (0.173118 --> 0.172472).  Saving model ...\n",
      "../Weights_model_weights/Weights_replay_500/2018-01/best_model_epoch_48.pt\n",
      "../Weights_optimizer_weights/Weights_replay_500/2018-01/best_optimizer_epoch_48.pt\n",
      "Epoch 49 of 500\n"
     ]
    },
    {
     "name": "stderr",
     "output_type": "stream",
     "text": [
      "100%|██████████| 9/9 [00:01<00:00,  5.56it/s]\n",
      "100%|██████████| 2/2 [00:00<00:00,  6.69it/s]\n",
      "  0%|          | 0/9 [00:00<?, ?it/s]"
     ]
    },
    {
     "name": "stdout",
     "output_type": "stream",
     "text": [
      "Train Loss: 0.1302, Train Acc: 0.9507\n",
      "Val Loss: 0.1745, Val Acc: 0.9282\n",
      "EarlyStopping counter: 1 out of 5\n",
      "Epoch 50 of 500\n"
     ]
    },
    {
     "name": "stderr",
     "output_type": "stream",
     "text": [
      "100%|██████████| 9/9 [00:01<00:00,  5.77it/s]\n",
      "100%|██████████| 2/2 [00:00<00:00, 10.57it/s]\n",
      "  0%|          | 0/9 [00:00<?, ?it/s]"
     ]
    },
    {
     "name": "stdout",
     "output_type": "stream",
     "text": [
      "Train Loss: 0.1231, Train Acc: 0.9520\n",
      "Val Loss: 0.1711, Val Acc: 0.9363\n",
      "Validation loss decreased (0.172472 --> 0.171079).  Saving model ...\n",
      "../Weights_model_weights/Weights_replay_500/2018-01/best_model_epoch_50.pt\n",
      "../Weights_optimizer_weights/Weights_replay_500/2018-01/best_optimizer_epoch_50.pt\n",
      "Epoch 51 of 500\n"
     ]
    },
    {
     "name": "stderr",
     "output_type": "stream",
     "text": [
      "100%|██████████| 9/9 [00:01<00:00,  5.75it/s]\n",
      "100%|██████████| 2/2 [00:00<00:00, 13.23it/s]\n",
      "  0%|          | 0/9 [00:00<?, ?it/s]"
     ]
    },
    {
     "name": "stdout",
     "output_type": "stream",
     "text": [
      "Train Loss: 0.1258, Train Acc: 0.9512\n",
      "Val Loss: 0.1735, Val Acc: 0.9315\n",
      "EarlyStopping counter: 1 out of 5\n",
      "Epoch 52 of 500\n"
     ]
    },
    {
     "name": "stderr",
     "output_type": "stream",
     "text": [
      "100%|██████████| 9/9 [00:01<00:00,  5.52it/s]\n",
      "100%|██████████| 2/2 [00:00<00:00,  6.07it/s]\n",
      "  0%|          | 0/9 [00:00<?, ?it/s]"
     ]
    },
    {
     "name": "stdout",
     "output_type": "stream",
     "text": [
      "Train Loss: 0.1244, Train Acc: 0.9513\n",
      "Val Loss: 0.1701, Val Acc: 0.9317\n",
      "Validation loss decreased (0.171079 --> 0.170135).  Saving model ...\n",
      "../Weights_model_weights/Weights_replay_500/2018-01/best_model_epoch_52.pt\n",
      "../Weights_optimizer_weights/Weights_replay_500/2018-01/best_optimizer_epoch_52.pt\n",
      "Epoch 53 of 500\n"
     ]
    },
    {
     "name": "stderr",
     "output_type": "stream",
     "text": [
      "100%|██████████| 9/9 [00:01<00:00,  5.72it/s]\n",
      "100%|██████████| 2/2 [00:00<00:00, 12.10it/s]\n",
      "  0%|          | 0/9 [00:00<?, ?it/s]"
     ]
    },
    {
     "name": "stdout",
     "output_type": "stream",
     "text": [
      "Train Loss: 0.1179, Train Acc: 0.9552\n",
      "Val Loss: 0.1693, Val Acc: 0.9368\n",
      "Validation loss decreased (0.170135 --> 0.169275).  Saving model ...\n",
      "../Weights_model_weights/Weights_replay_500/2018-01/best_model_epoch_53.pt\n",
      "../Weights_optimizer_weights/Weights_replay_500/2018-01/best_optimizer_epoch_53.pt\n",
      "Epoch 54 of 500\n"
     ]
    },
    {
     "name": "stderr",
     "output_type": "stream",
     "text": [
      "100%|██████████| 9/9 [00:01<00:00,  5.74it/s]\n",
      "100%|██████████| 2/2 [00:00<00:00, 11.68it/s]\n",
      "  0%|          | 0/9 [00:00<?, ?it/s]"
     ]
    },
    {
     "name": "stdout",
     "output_type": "stream",
     "text": [
      "Train Loss: 0.1197, Train Acc: 0.9530\n",
      "Val Loss: 0.1661, Val Acc: 0.9391\n",
      "Validation loss decreased (0.169275 --> 0.166097).  Saving model ...\n",
      "../Weights_model_weights/Weights_replay_500/2018-01/best_model_epoch_54.pt\n",
      "../Weights_optimizer_weights/Weights_replay_500/2018-01/best_optimizer_epoch_54.pt\n",
      "Epoch 55 of 500\n"
     ]
    },
    {
     "name": "stderr",
     "output_type": "stream",
     "text": [
      "100%|██████████| 9/9 [00:01<00:00,  5.74it/s]\n",
      "100%|██████████| 2/2 [00:00<00:00, 12.04it/s]\n",
      "  0%|          | 0/9 [00:00<?, ?it/s]"
     ]
    },
    {
     "name": "stdout",
     "output_type": "stream",
     "text": [
      "Train Loss: 0.1185, Train Acc: 0.9539\n",
      "Val Loss: 0.1672, Val Acc: 0.9402\n",
      "EarlyStopping counter: 1 out of 5\n",
      "Epoch 56 of 500\n"
     ]
    },
    {
     "name": "stderr",
     "output_type": "stream",
     "text": [
      "100%|██████████| 9/9 [00:01<00:00,  5.45it/s]\n",
      "100%|██████████| 2/2 [00:00<00:00,  6.06it/s]\n",
      "  0%|          | 0/9 [00:00<?, ?it/s]"
     ]
    },
    {
     "name": "stdout",
     "output_type": "stream",
     "text": [
      "Train Loss: 0.1179, Train Acc: 0.9547\n",
      "Val Loss: 0.1708, Val Acc: 0.9351\n",
      "EarlyStopping counter: 2 out of 5\n",
      "Epoch 57 of 500\n"
     ]
    },
    {
     "name": "stderr",
     "output_type": "stream",
     "text": [
      "100%|██████████| 9/9 [00:01<00:00,  5.76it/s]\n",
      "100%|██████████| 2/2 [00:00<00:00, 11.63it/s]\n",
      "  0%|          | 0/9 [00:00<?, ?it/s]"
     ]
    },
    {
     "name": "stdout",
     "output_type": "stream",
     "text": [
      "Train Loss: 0.1163, Train Acc: 0.9545\n",
      "Val Loss: 0.1671, Val Acc: 0.9346\n",
      "EarlyStopping counter: 3 out of 5\n",
      "Epoch 58 of 500\n"
     ]
    },
    {
     "name": "stderr",
     "output_type": "stream",
     "text": [
      "100%|██████████| 9/9 [00:01<00:00,  6.18it/s]\n",
      "100%|██████████| 2/2 [00:00<00:00, 11.94it/s]\n",
      "  0%|          | 0/9 [00:00<?, ?it/s]"
     ]
    },
    {
     "name": "stdout",
     "output_type": "stream",
     "text": [
      "Train Loss: 0.1120, Train Acc: 0.9572\n",
      "Val Loss: 0.1650, Val Acc: 0.9405\n",
      "Validation loss decreased (0.166097 --> 0.164984).  Saving model ...\n",
      "../Weights_model_weights/Weights_replay_500/2018-01/best_model_epoch_58.pt\n",
      "../Weights_optimizer_weights/Weights_replay_500/2018-01/best_optimizer_epoch_58.pt\n",
      "Epoch 59 of 500\n"
     ]
    },
    {
     "name": "stderr",
     "output_type": "stream",
     "text": [
      "100%|██████████| 9/9 [00:01<00:00,  6.35it/s]\n",
      "100%|██████████| 2/2 [00:00<00:00, 12.14it/s]\n",
      "  0%|          | 0/9 [00:00<?, ?it/s]"
     ]
    },
    {
     "name": "stdout",
     "output_type": "stream",
     "text": [
      "Train Loss: 0.1119, Train Acc: 0.9565\n",
      "Val Loss: 0.1673, Val Acc: 0.9330\n",
      "EarlyStopping counter: 1 out of 5\n",
      "Epoch 60 of 500\n"
     ]
    },
    {
     "name": "stderr",
     "output_type": "stream",
     "text": [
      "100%|██████████| 9/9 [00:01<00:00,  6.00it/s]\n",
      "100%|██████████| 2/2 [00:00<00:00,  6.13it/s]\n",
      "  0%|          | 0/9 [00:00<?, ?it/s]"
     ]
    },
    {
     "name": "stdout",
     "output_type": "stream",
     "text": [
      "Train Loss: 0.1121, Train Acc: 0.9572\n",
      "Val Loss: 0.1617, Val Acc: 0.9385\n",
      "Validation loss decreased (0.164984 --> 0.161732).  Saving model ...\n",
      "../Weights_model_weights/Weights_replay_500/2018-01/best_model_epoch_60.pt\n",
      "../Weights_optimizer_weights/Weights_replay_500/2018-01/best_optimizer_epoch_60.pt\n",
      "Epoch 61 of 500\n"
     ]
    },
    {
     "name": "stderr",
     "output_type": "stream",
     "text": [
      "100%|██████████| 9/9 [00:01<00:00,  6.29it/s]\n",
      "100%|██████████| 2/2 [00:00<00:00, 11.93it/s]\n",
      "  0%|          | 0/9 [00:00<?, ?it/s]"
     ]
    },
    {
     "name": "stdout",
     "output_type": "stream",
     "text": [
      "Train Loss: 0.1090, Train Acc: 0.9577\n",
      "Val Loss: 0.1625, Val Acc: 0.9407\n",
      "EarlyStopping counter: 1 out of 5\n",
      "Epoch 62 of 500\n"
     ]
    },
    {
     "name": "stderr",
     "output_type": "stream",
     "text": [
      "100%|██████████| 9/9 [00:01<00:00,  6.27it/s]\n",
      "100%|██████████| 2/2 [00:00<00:00, 11.82it/s]\n",
      "  0%|          | 0/9 [00:00<?, ?it/s]"
     ]
    },
    {
     "name": "stdout",
     "output_type": "stream",
     "text": [
      "Train Loss: 0.1096, Train Acc: 0.9579\n",
      "Val Loss: 0.1657, Val Acc: 0.9431\n",
      "EarlyStopping counter: 2 out of 5\n",
      "Epoch 63 of 500\n"
     ]
    },
    {
     "name": "stderr",
     "output_type": "stream",
     "text": [
      "100%|██████████| 9/9 [00:01<00:00,  6.38it/s]\n",
      "100%|██████████| 2/2 [00:00<00:00, 11.83it/s]\n",
      "  0%|          | 0/9 [00:00<?, ?it/s]"
     ]
    },
    {
     "name": "stdout",
     "output_type": "stream",
     "text": [
      "Train Loss: 0.1070, Train Acc: 0.9601\n",
      "Val Loss: 0.1622, Val Acc: 0.9435\n",
      "EarlyStopping counter: 3 out of 5\n",
      "Epoch 64 of 500\n"
     ]
    },
    {
     "name": "stderr",
     "output_type": "stream",
     "text": [
      "100%|██████████| 9/9 [00:01<00:00,  6.11it/s]\n",
      "100%|██████████| 2/2 [00:00<00:00,  6.05it/s]\n",
      "  0%|          | 0/9 [00:00<?, ?it/s]"
     ]
    },
    {
     "name": "stdout",
     "output_type": "stream",
     "text": [
      "Train Loss: 0.1086, Train Acc: 0.9581\n",
      "Val Loss: 0.1681, Val Acc: 0.9406\n",
      "EarlyStopping counter: 4 out of 5\n",
      "Epoch 65 of 500\n"
     ]
    },
    {
     "name": "stderr",
     "output_type": "stream",
     "text": [
      "100%|██████████| 9/9 [00:01<00:00,  6.48it/s]\n",
      "100%|██████████| 2/2 [00:00<00:00, 11.90it/s]\n",
      "  0%|          | 0/2 [00:00<?, ?it/s]"
     ]
    },
    {
     "name": "stdout",
     "output_type": "stream",
     "text": [
      "Train Loss: 0.1029, Train Acc: 0.9604\n",
      "Val Loss: 0.1632, Val Acc: 0.9444\n",
      "EarlyStopping counter: 5 out of 5\n",
      "Early stopping\n",
      "Training time: 1.993 minutes\n",
      "loading best model ../Weights_model_weights/Weights_replay_500/2018-01/best_model_epoch_60.pt\n",
      "loading best optimizer ../Weights_optimizer_weights/Weights_replay_500/2018-01/best_optimizer_epoch_60.pt\n"
     ]
    },
    {
     "name": "stderr",
     "output_type": "stream",
     "text": [
      "100%|██████████| 2/2 [00:00<00:00,  4.40it/s]"
     ]
    },
    {
     "name": "stdout",
     "output_type": "stream",
     "text": [
      "test accuracy 0.9488124847412109 and ROC-AUC 0.9445796219516585\n",
      "Elapsed time 2.1529736518859863 mins.\n",
      "\n",
      "Elapsed time 2.1529928048451743 mins.\n"
     ]
    },
    {
     "name": "stderr",
     "output_type": "stream",
     "text": [
      "\n"
     ]
    }
   ],
   "source": [
    "def get_weights_V1(model, data, layer, device):\n",
    "    \n",
    "    #print(f'i am in get_weights')\n",
    "    model.eval()\n",
    "    \n",
    "    weights_ = []\n",
    "    \n",
    "    #sample_cnt = 0\n",
    "    for sample in data:\n",
    "        #print()\n",
    "        #sample_cnt += 1\n",
    "        X_ = torch.from_numpy(sample).type(torch.FloatTensor)\n",
    "        X_ = X_.reshape(1, -1).to(device)\n",
    "        \n",
    "        activation = {}\n",
    "        def get_activation(name):\n",
    "            def hook(model, input, output):\n",
    "                activation[name] = output.detach()\n",
    "            return hook\n",
    "        \n",
    "        \n",
    "        if layer == 'fc2':\n",
    "            model.fc2.register_forward_hook(get_activation(layer))\n",
    "        elif layer == 'fc3':\n",
    "            model.fc3.register_forward_hook(get_activation(layer))\n",
    "        elif layer == 'fc4':\n",
    "            model.fc4.register_forward_hook(get_activation(layer))\n",
    "            \n",
    "        output = model(X_)\n",
    "        weights_.append(activation[layer].cpu().numpy()[0])\n",
    "        \n",
    "        #print(f'sample_cnt {sample_cnt}')\n",
    "    #print(f'weights_ {len(weights_)}')\n",
    "    return weights_\n",
    "\n",
    "\n",
    "\n",
    "def get_dataloader_weights(X, y, batch_size):\n",
    "    \n",
    "    X_ = torch.from_numpy(np.array(X)).type(torch.FloatTensor)\n",
    "    y_ = torch.from_numpy(y).type(torch.FloatTensor)\n",
    "    \n",
    "    data_tensored = torch.utils.data.TensorDataset(X_,y_)    \n",
    "    \n",
    "    data_loader = torch.utils.data.DataLoader(data_tensored, batch_size = batch_size,\n",
    "                                              num_workers=1, drop_last=False)\n",
    "    return data_loader\n",
    "\n",
    "\n",
    "\n",
    "def get_weights(model, layer, X_, Y_, batch_size, device):\n",
    "    \n",
    "    activation = {}\n",
    "    def get_activation(name):\n",
    "        def hook(model, input, output):\n",
    "            activation[name] = output.detach()\n",
    "        return hook\n",
    "    \n",
    "    if layer == 'fc2':\n",
    "        model.fc2.register_forward_hook(get_activation(layer))\n",
    "    elif layer == 'fc3':\n",
    "        model.fc3.register_forward_hook(get_activation(layer))\n",
    "    elif layer == 'fc4':\n",
    "        model.fc4.register_forward_hook(get_activation(layer))\n",
    "    elif layer == 'act2':\n",
    "        model.act2.register_forward_hook(get_activation(layer))\n",
    "    elif layer == 'act3':\n",
    "        model.act3.register_forward_hook(get_activation(layer))\n",
    "    elif layer == 'act4':\n",
    "        model.act4.register_forward_hook(get_activation(layer)) \n",
    "    \n",
    "    dataloader = get_dataloader_weights(X_, Y_, batch_size)   \n",
    "    \n",
    "    model.eval()\n",
    "    \n",
    "    features = []\n",
    "\n",
    "    with torch.no_grad():\n",
    "        for x_batch, y_batch in tqdm(dataloader):\n",
    "            x_batch, y_batch = x_batch.to(device), y_batch.to(device)\n",
    "            y_test_pred = model(x_batch)\n",
    "            feats_batch = activation[layer].cpu().numpy()\n",
    "            \n",
    "            for f in feats_batch:\n",
    "                features.append(f)\n",
    " \n",
    "            \n",
    "    assert len(features) == len(X_)      \n",
    "    return np.array(features)\n",
    "\n",
    "\n",
    "\n",
    "def get_anomalyScoresSamples(fam, weight_data,\\\n",
    "                             raw_data, samples_in_family,\\\n",
    "                             chooseSample = True):\n",
    "    clf = IsolationForest(max_samples=len(weight_data))\n",
    "    clf.fit(weight_data)\n",
    "    scores_prediction = clf.decision_function(weight_data)\n",
    "    y_pred = clf.predict(weight_data)\n",
    "\n",
    "\n",
    "    anomalous_idx = np.where(y_pred == -1.0)\n",
    "    similar_idx = np.where(y_pred == 1.0)\n",
    "\n",
    "    #print(f'family {fam} anomaly-similar: {len(anomalous_idx[0])} - {len(similar_idx[0])}')\n",
    "    \n",
    "    if chooseSample:\n",
    "        raw_data = np.array(raw_data)\n",
    "        anomaly_samples = raw_data[anomalous_idx]\n",
    "        \n",
    "        \n",
    "        remaining_samples_to_pick = samples_in_family - len(anomaly_samples)\n",
    "\n",
    "        \n",
    "        if abs(remaining_samples_to_pick)/remaining_samples_to_pick == -1:\n",
    "            remaining_samples_to_pick = min(int(len(anomaly_samples) * 0.50), abs(remaining_samples_to_pick))\n",
    "        \n",
    "        if remaining_samples_to_pick >= len(similar_idx):\n",
    "            similar_samples = raw_data[similar_idx]\n",
    "        else:\n",
    "            similar_samples_pool = list(raw_data[similar_idx])\n",
    "            similar_samples = random.sample(similar_samples_pool, remaining_samples_to_pick)\n",
    "        \n",
    "\n",
    "        mal_replay_samples = np.concatenate((np.array(anomaly_samples), np.array(similar_samples)))\n",
    "\n",
    "        return np.array(mal_replay_samples)\n",
    "    else:\n",
    "        return scores_prediction\n",
    "\n",
    "\n",
    "def get_anomalySamples(X_train, Y_train, Y_train_family,\\\n",
    "                       family_dict,\\\n",
    "                       samples_in_family,\\\n",
    "                       model, layer, device):\n",
    "    \n",
    "    \n",
    "    #layer = 'fc4'\n",
    "    good_weight_samples = X_train[np.where(Y_train == 0)]\n",
    "    #print(f'good_weight_samples {len(good_weight_samples)}')\n",
    "    \n",
    "    pre_malware_samples = []\n",
    "    for k, v in family_dict.items():\n",
    "        #print(f'family {k} ....')\n",
    "        if k != 'goodware':\n",
    "            if len(v) > num_samples_per_malware_family:\n",
    "                #print(f'family {k} to IF.')\n",
    "                \n",
    "                k_samples = v\n",
    "                k_Y = np.ones(len(k_samples))\n",
    "                k_weights = get_weights(model, layer, k_samples, k_Y, batch_size, device)\n",
    "                \n",
    "                #print(f'k_samples {len(k_samples)}  k_weights {len(k_weights)}')\n",
    "                \n",
    "                \n",
    "                k_selected_samples = get_anomalyScoresSamples(k, k_weights,\\\n",
    "                                                     k_samples, samples_in_family,\\\n",
    "                                                     chooseSample = True)\n",
    "                for sample in k_selected_samples:\n",
    "                    pre_malware_samples.append(sample)\n",
    "                \n",
    "                family_dict[k] = list(k_selected_samples)\n",
    "            else:\n",
    "                for sample in v:\n",
    "                    pre_malware_samples.append(sample)\n",
    "    \n",
    "\n",
    "    if len(good_weight_samples) <= len(pre_malware_samples):\n",
    "        pre_goodware_samples = good_weight_samples\n",
    "    else:\n",
    "        pre_goodware_samples = random.sample(list(good_weight_samples), abs(len(pre_malware_samples)))\n",
    "\n",
    "    family_dict['goodware'] = list(pre_goodware_samples)\n",
    "    \n",
    "    replay_samples = np.concatenate((np.array(pre_goodware_samples),\\\n",
    "                                     np.array(pre_malware_samples)))\n",
    "    labels_to_replay = np.concatenate((np.zeros(len(pre_goodware_samples)),\\\n",
    "                                       np.ones(len(pre_malware_samples))))\n",
    "    \n",
    "    return replay_samples, labels_to_replay, family_dict\n",
    "\n",
    "\n",
    "\n",
    "\n",
    "\n",
    "\n",
    "\n",
    "all_task_months = ['2018-01', '2018-02', '2018-03', '2018-04', '2018-05', '2018-06',\n",
    "                   '2018-07', '2018-08', '2018-09', '2018-10', '2018-11', '2018-12']\n",
    "\n",
    "data_dir = '../../month_based_processing_with_family_labels/'\n",
    "\n",
    "\n",
    "\n",
    "patience = 5\n",
    "replay_type = 'pjr'\n",
    "\n",
    "\n",
    "\n",
    "num_exps = 1 #args.num_exps\n",
    "#task_month = args.task_month\n",
    "num_epoch = 500 #args.num_epoch\n",
    "batch_size = 6000 #args.batch_size\n",
    "num_samples_per_malware_family = 500\n",
    "\n",
    "layer = 'fc4'\n",
    "\n",
    "exp_type = 'weights'\n",
    "\n",
    "exp_seeds = [random.randint(1, 99999) for i in range(num_exps)]\n",
    "\n",
    "\n",
    "expSaveDir = '../Weights_'\n",
    "resSaveDir = './Weights_'\n",
    "expSaveFile = '/Weights_replay_'\n",
    "\n",
    "\n",
    "raw_anomalyScores_Dict = {}\n",
    "weight_anomalyScores_Dict = {}\n",
    "\n",
    "\n",
    "cnt =  1    \n",
    "for exp in exp_seeds:\n",
    "    start_time = time.time()\n",
    "    use_cuda = True\n",
    "    print('Torch', torch.__version__, 'CUDA', torch.version.cuda)\n",
    "    use_cuda = use_cuda and torch.cuda.is_available()\n",
    "    device = torch.device(\"cuda\" if use_cuda else \"cpu\")\n",
    "    torch.manual_seed(exp)\n",
    "\n",
    "    model = Ember_MLP_Net()\n",
    "    \n",
    "    optimizer = torch.optim.SGD(model.parameters(), lr=0.01, momentum=0.9, weight_decay=0.000001)\n",
    "       \n",
    "    if torch.cuda.device_count() > 1:\n",
    "        print(\"Let's use\", torch.cuda.device_count(), \"GPUs!\")\n",
    "        model = nn.DataParallel(model)\n",
    "    \n",
    "    model = model.to(device)\n",
    "    print(f'Model has {count_parameters(model)/1000000}m parameters')    \n",
    "    criterion = nn.BCELoss()    \n",
    "\n",
    "    \n",
    "    \n",
    "    stored_global_family_dict = defaultdict(list)\n",
    "    \n",
    "    standardization = StandardScaler()\n",
    "    standard_scaler = None\n",
    "    for task_month in range(len(all_task_months[:1])):\n",
    "                \n",
    "        print(f'\\n{datetime.datetime.now().strftime(\"%Y-%m-%d %H:%M:%S\")} Round {cnt} ...')\n",
    "        task_start = time.time()\n",
    "        \n",
    "        #task_month = task_month\n",
    "        current_task = all_task_months[task_month]\n",
    "        task_months = all_task_months[:task_month+1]\n",
    "        print(f'Current Task {current_task} w/ {num_samples_per_malware_family} samples to Replay per Malware family.')\n",
    "\n",
    "\n",
    "        model_save_dir = str(expSaveDir) + 'model_' +\\\n",
    "                    str(exp_type) + str(expSaveFile) +\\\n",
    "                    str(num_samples_per_malware_family) + '/' + str(current_task) + '/'\n",
    "        create_parent_folder(model_save_dir)\n",
    "        \n",
    "        opt_save_path = str(expSaveDir) + 'optimizer_' +\\\n",
    "                    str(exp_type) + str(expSaveFile) +\\\n",
    "                    str(num_samples_per_malware_family) + '/' + str(current_task) + '/'\n",
    "        create_parent_folder(opt_save_path)\n",
    "        \n",
    "        \n",
    "        results_save_dir = str(resSaveDir) + 'results_' +\\\n",
    "                    str(exp_type) + str(expSaveFile) +\\\n",
    "                    str(num_samples_per_malware_family) + '/' \n",
    "        create_parent_folder(results_save_dir)\n",
    "\n",
    "        \n",
    "        X_train, Y_train, Y_train_family = get_family_labeled_month_data(data_dir, current_task)\n",
    "        X_test, Y_test, Y_test_family = get_family_labeled_task_test_data(data_dir, task_months, mlp_net=True)\n",
    "        \n",
    "        stored_global_family_dict = make_family_based_dict(\\\n",
    "                                   X_train, Y_train, Y_train_family,\\\n",
    "                                   current_task, stored_global_family_dict)\n",
    "        \n",
    "        \n",
    "        if current_task != all_task_months[0]:\n",
    "            \n",
    "            #X_train = np.concatenate((np.array(X_train), np.array(X_replay)))\n",
    "            #Y_train = np.concatenate((np.array(Y_train), np.array(Y_replay)))\n",
    "            X_train, Y_train, stored_global_family_dict = get_anomalySamples(X_train, Y_train,\\\n",
    "                                                     Y_train_family, stored_global_family_dict,\\\n",
    "                                                     num_samples_per_malware_family,\\\n",
    "                                                     model, layer, device)\n",
    "        \n",
    "        num_replay_samples = len(Y_train)\n",
    "        \n",
    "        print(f'{datetime.datetime.now().strftime(\"%Y-%m-%d %H:%M:%S\")} Standardizing ...')\n",
    "        standard_scaler = standardization.partial_fit(X_train)\n",
    "\n",
    "        X_train = standard_scaler.transform(X_train)\n",
    "        X_test = standard_scaler.transform(X_test)\n",
    "\n",
    "        X_train, Y_train = np.array(X_train, np.float32), np.array(Y_train, np.int32)\n",
    "        X_test, Y_test = np.array(X_test, np.float32), np.array(Y_test, np.int32)        \n",
    "        \n",
    "        \n",
    "        # to debug\n",
    "        #X_train, Y_train, Y_train_family = X_train[:500], Y_train [:500], Y_train_family[:500]\n",
    "        #X_test, Y_test, Y_test_family = X_test[:50], Y_test[:50], Y_test_family[:50]\n",
    "        \n",
    "        print()\n",
    "        print(f'X_train {X_train.shape} Y_train {Y_train.shape}')\n",
    "        print()\n",
    "        \n",
    "    \n",
    "        \n",
    "        print(f'{datetime.datetime.now().strftime(\"%Y-%m-%d %H:%M:%S\")} Training ...')\n",
    "        task_training_time, epoch_ran, training_loss, validation_loss  =\\\n",
    "                                training_early_stopping(model, model_save_dir, opt_save_path,\\\n",
    "                                X_train, Y_train, X_test, Y_test, patience,\\\n",
    "                                batch_size, device, optimizer, num_epoch,\\\n",
    "                                 criterion, replay_type, current_task, exp, earlystopping=True)\n",
    "        \n",
    "        \n",
    "        \n",
    "        model = Ember_MLP_Net()\n",
    "        model = model.to(device)\n",
    "        #load the best model for this task\n",
    "        best_model_path = model_save_dir + os.listdir(model_save_dir)[0]\n",
    "        print(f'loading best model {best_model_path}')\n",
    "        model.load_state_dict(torch.load(best_model_path))\n",
    "        \n",
    "        \n",
    "        optimizer = torch.optim.SGD(model.parameters(), lr=0.01, momentum=0.9, weight_decay=0.000001)\n",
    "        best_optimizer = opt_save_path + os.listdir(opt_save_path)[0]\n",
    "        print(f'loading best optimizer {best_optimizer}')\n",
    "        optimizer.load_state_dict(torch.load(best_optimizer))\n",
    "        \n",
    "        \n",
    "        \n",
    "        acc, rocauc = testing_aucscore(model, X_test, Y_test, batch_size, device)\n",
    "        \n",
    "        \n",
    "        end_time = time.time()\n",
    "\n",
    "        print(f'Elapsed time {(end_time - start_time)/60} mins.')    \n",
    "        \n",
    "\n",
    "        task_end = time.time()\n",
    "        task_run_time = (task_end - task_start)/60\n",
    "        \n",
    "        \n",
    "        #print()\n",
    "#         X_replay, Y_replay, stored_global_family_dict = get_anomalySamples(X_train, Y_train,\\\n",
    "#                                                      Y_train_family, stored_global_family_dict,\\\n",
    "#                                                      num_samples_per_malware_family,\\\n",
    "#                                                      model, layer, device)\n",
    "        \n",
    "#         num_replay_samples = len(X_replay)\n",
    "        \n",
    "        print()\n",
    "        \n",
    "        \n",
    "        results_f = open(os.path.join(results_save_dir + layer + '_weight_test_fc4_' + str(num_samples_per_malware_family) + '_results.txt'), 'a')\n",
    "        result_string = '{}\\t{}\\t{}\\t{}\\t{}\\t{}\\t\\n'.format(current_task,epoch_ran, task_training_time, acc, rocauc, num_replay_samples)\n",
    "        results_f.write(result_string)\n",
    "        results_f.flush()\n",
    "        results_f.close()\n",
    "        \n",
    "    \n",
    "    end_time = time.time()\n",
    "    cnt += 1\n",
    "    print(f'Elapsed time {(end_time - start_time)/60} mins.')\n",
    "   \n"
   ]
  },
  {
   "cell_type": "code",
   "execution_count": null,
   "metadata": {},
   "outputs": [],
   "source": []
  },
  {
   "cell_type": "code",
   "execution_count": null,
   "metadata": {},
   "outputs": [],
   "source": []
  },
  {
   "cell_type": "code",
   "execution_count": null,
   "metadata": {},
   "outputs": [],
   "source": []
  },
  {
   "cell_type": "code",
   "execution_count": null,
   "metadata": {},
   "outputs": [],
   "source": [
    "def get_weights(model, layer, X_, Y_, batch_size, device):\n",
    "    \n",
    "    activation = {}\n",
    "    def get_activation(name):\n",
    "        def hook(model, input, output):\n",
    "            activation[name] = output.detach()\n",
    "        return hook\n",
    "    \n",
    "    if layer == 'fc2':\n",
    "        model.fc2_bn.register_forward_hook(get_activation(layer))\n",
    "    elif layer == 'fc3':\n",
    "        model.fc3_bn.register_forward_hook(get_activation(layer))\n",
    "    elif layer == 'fc4':\n",
    "        model.fc4_bn.register_forward_hook(get_activation(layer))\n",
    "    elif layer == 'act2':\n",
    "        model.act2.register_forward_hook(get_activation(layer))\n",
    "    elif layer == 'act3':\n",
    "        model.act3.register_forward_hook(get_activation(layer))\n",
    "    elif layer == 'act4':\n",
    "        model.act4.register_forward_hook(get_activation(layer)) \n",
    "    \n",
    "    dataloader = get_dataloader(X_, Y_, batch_size, train_data=False)   \n",
    "    \n",
    "    model.eval()\n",
    "    \n",
    "    features = []\n",
    "\n",
    "    with torch.no_grad():\n",
    "        for x_batch, y_batch in tqdm(dataloader):\n",
    "            x_batch, y_batch = x_batch.to(device), y_batch.to(device)\n",
    "            y_test_pred = model(x_batch)\n",
    "            feats_batch = activation[layer].cpu().numpy()\n",
    "            \n",
    "            for f in feats_batch:\n",
    "                features.append(f)\n",
    " \n",
    "            \n",
    "    assert len(features) == len(X_)      \n",
    "    return np.array(features)\n",
    "\n",
    "\n",
    "layer = 'fc3'\n",
    "features_act = get_weights(model, layer, X_train, Y_train, batch_size, device)"
   ]
  },
  {
   "cell_type": "code",
   "execution_count": null,
   "metadata": {},
   "outputs": [],
   "source": [
    "filename = layer + '_jan.pdf'\n",
    "\n",
    "mal_weight = np.array(features_act)[np.where(Y_train == 1)]\n",
    "\n",
    "clf = IsolationForest(max_samples=len(mal_weight))\n",
    "clf.fit(mal_weight)\n",
    "scores_prediction = clf.decision_function(mal_weight)\n",
    "\n",
    "y_pred = clf.predict(mal_weight)\n",
    "\n",
    "anomalous_idx = np.where(y_pred == -1.0)\n",
    "similar_idx = np.where(y_pred == 1.0)\n",
    "\n",
    "print(f'anomaly-similar samples {len(anomalous_idx[0])} - {len(similar_idx[0])}')\n",
    "\n",
    "plt.figure(figsize=(10, 10))\n",
    "\n",
    "\n",
    "\n",
    "sns.scatterplot(x=scores_prediction, y=[i for i in range(len(scores_prediction))], color='red',  alpha=1.0)\n",
    "\n",
    "plt.grid(True)\n",
    "\n",
    "plt.title(f'Layer {layer} January Anomaly-Similar {len(anomalous_idx[0])} - {len(similar_idx[0])}')\n",
    "plt.savefig('./figures_weights/' + filename,\n",
    "                bbox_inches='tight', \n",
    "               transparent=True, dpi=600);"
   ]
  }
 ],
 "metadata": {
  "kernelspec": {
   "display_name": "PyTorch",
   "language": "python",
   "name": "pytorch"
  },
  "language_info": {
   "codemirror_mode": {
    "name": "ipython",
    "version": 3
   },
   "file_extension": ".py",
   "mimetype": "text/x-python",
   "name": "python",
   "nbconvert_exporter": "python",
   "pygments_lexer": "ipython3",
   "version": "3.7.9"
  }
 },
 "nbformat": 4,
 "nbformat_minor": 4
}
