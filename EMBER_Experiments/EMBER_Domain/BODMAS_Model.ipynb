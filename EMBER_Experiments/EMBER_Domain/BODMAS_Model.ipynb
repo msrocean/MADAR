{
 "cells": [
  {
   "cell_type": "code",
   "execution_count": 2,
   "metadata": {},
   "outputs": [],
   "source": [
    "import numpy as np\n",
    "import os\n",
    "import pandas as pd\n",
    "import matplotlib.pyplot as plt\n",
    "import time, random\n",
    "from tqdm import tqdm\n",
    "from sklearn.metrics import classification_report\n",
    "from sklearn.preprocessing import StandardScaler, QuantileTransformer\n",
    "from sklearn.model_selection import train_test_split\n",
    "import datetime\n",
    "import argparse\n",
    "import torch\n",
    "import torchvision\n",
    "import torch.nn as nn\n",
    "import torch.optim as optim\n",
    "import torch.nn.functional as F\n",
    "from torchvision import transforms, utils, datasets\n",
    "from torch.utils.data import Dataset, DataLoader\n",
    "\n",
    "from ember_utils import *\n",
    "from ember_model import *\n",
    "from ember_pjr_utils import *\n",
    "\n"
   ]
  },
  {
   "cell_type": "code",
   "execution_count": 3,
   "metadata": {},
   "outputs": [],
   "source": [
    "data_path = '../../BODMAS_DATA/'\n",
    "\n",
    "filename = data_path + 'XY_processed.npz'\n",
    "data = np.load(filename)\n",
    "X = data['X']  # all the feature vectors\n",
    "y = data['Y']  # labels, 0 as benign, 1 as malicious"
   ]
  },
  {
   "cell_type": "code",
   "execution_count": 8,
   "metadata": {},
   "outputs": [
    {
     "name": "stdout",
     "output_type": "stream",
     "text": [
      "Torch 1.6.0 CUDA 10.2\n",
      "Model has 3.132161m parameters\n"
     ]
    },
    {
     "name": "stderr",
     "output_type": "stream",
     "text": [
      "\r",
      "  0%|          | 0/434 [00:00<?, ?it/s]"
     ]
    },
    {
     "name": "stdout",
     "output_type": "stream",
     "text": [
      "X_train (111333, 2381) Y_train (111333,)\n",
      "X_test (12371, 2381) Y_test (12371,)\n",
      "Epoch 1 of 500\n"
     ]
    },
    {
     "name": "stderr",
     "output_type": "stream",
     "text": [
      "100%|██████████| 434/434 [00:03<00:00, 123.32it/s]\n",
      "100%|██████████| 49/49 [00:00<00:00, 283.75it/s]\n",
      "  0%|          | 0/434 [00:00<?, ?it/s]"
     ]
    },
    {
     "name": "stdout",
     "output_type": "stream",
     "text": [
      "Train Loss: 0.1133, Train Acc: 0.9539\n",
      "Val Loss: 0.0425, Val Acc: 0.9903\n",
      "Validation loss decreased (inf --> 0.042486).  Saving model ...\n",
      "../bodmas_model/best_model_epoch_1.pt\n",
      "../bodmas_model/best_optimizer_epoch_1.pt\n",
      "Epoch 2 of 500\n"
     ]
    },
    {
     "name": "stderr",
     "output_type": "stream",
     "text": [
      "100%|██████████| 434/434 [00:03<00:00, 116.47it/s]\n",
      "100%|██████████| 49/49 [00:00<00:00, 165.11it/s]\n",
      "  0%|          | 0/434 [00:00<?, ?it/s]"
     ]
    },
    {
     "name": "stdout",
     "output_type": "stream",
     "text": [
      "Train Loss: 0.0270, Train Acc: 0.9917\n",
      "Val Loss: 0.0372, Val Acc: 0.9921\n",
      "Validation loss decreased (0.042486 --> 0.037247).  Saving model ...\n",
      "../bodmas_model/best_model_epoch_2.pt\n",
      "../bodmas_model/best_optimizer_epoch_2.pt\n",
      "Epoch 3 of 500\n"
     ]
    },
    {
     "name": "stderr",
     "output_type": "stream",
     "text": [
      "100%|██████████| 434/434 [00:03<00:00, 121.24it/s]\n",
      "100%|██████████| 49/49 [00:00<00:00, 179.57it/s]\n",
      "  0%|          | 0/434 [00:00<?, ?it/s]"
     ]
    },
    {
     "name": "stdout",
     "output_type": "stream",
     "text": [
      "Train Loss: 0.0204, Train Acc: 0.9939\n",
      "Val Loss: 0.0355, Val Acc: 0.9931\n",
      "Validation loss decreased (0.037247 --> 0.035510).  Saving model ...\n",
      "../bodmas_model/best_model_epoch_3.pt\n",
      "../bodmas_model/best_optimizer_epoch_3.pt\n",
      "Epoch 4 of 500\n"
     ]
    },
    {
     "name": "stderr",
     "output_type": "stream",
     "text": [
      "100%|██████████| 434/434 [00:03<00:00, 126.92it/s]\n",
      "100%|██████████| 49/49 [00:00<00:00, 197.78it/s]\n",
      "  0%|          | 0/434 [00:00<?, ?it/s]"
     ]
    },
    {
     "name": "stdout",
     "output_type": "stream",
     "text": [
      "Train Loss: 0.0157, Train Acc: 0.9953\n",
      "Val Loss: 0.0354, Val Acc: 0.9935\n",
      "Validation loss decreased (0.035510 --> 0.035409).  Saving model ...\n",
      "../bodmas_model/best_model_epoch_4.pt\n",
      "../bodmas_model/best_optimizer_epoch_4.pt\n",
      "Epoch 5 of 500\n"
     ]
    },
    {
     "name": "stderr",
     "output_type": "stream",
     "text": [
      "100%|██████████| 434/434 [00:03<00:00, 130.39it/s]\n",
      "100%|██████████| 49/49 [00:00<00:00, 159.98it/s]\n",
      "  0%|          | 0/434 [00:00<?, ?it/s]"
     ]
    },
    {
     "name": "stdout",
     "output_type": "stream",
     "text": [
      "Train Loss: 0.0134, Train Acc: 0.9959\n",
      "Val Loss: 0.0381, Val Acc: 0.9933\n",
      "EarlyStopping counter: 1 out of 5\n",
      "Epoch 6 of 500\n"
     ]
    },
    {
     "name": "stderr",
     "output_type": "stream",
     "text": [
      "100%|██████████| 434/434 [00:03<00:00, 125.52it/s]\n",
      "100%|██████████| 49/49 [00:00<00:00, 126.10it/s]\n",
      "  0%|          | 0/434 [00:00<?, ?it/s]"
     ]
    },
    {
     "name": "stdout",
     "output_type": "stream",
     "text": [
      "Train Loss: 0.0123, Train Acc: 0.9964\n",
      "Val Loss: 0.0338, Val Acc: 0.9947\n",
      "Validation loss decreased (0.035409 --> 0.033804).  Saving model ...\n",
      "../bodmas_model/best_model_epoch_6.pt\n",
      "../bodmas_model/best_optimizer_epoch_6.pt\n",
      "Epoch 7 of 500\n"
     ]
    },
    {
     "name": "stderr",
     "output_type": "stream",
     "text": [
      "100%|██████████| 434/434 [00:03<00:00, 111.59it/s]\n",
      "100%|██████████| 49/49 [00:00<00:00, 166.47it/s]\n",
      "  0%|          | 0/434 [00:00<?, ?it/s]"
     ]
    },
    {
     "name": "stdout",
     "output_type": "stream",
     "text": [
      "Train Loss: 0.0107, Train Acc: 0.9968\n",
      "Val Loss: 0.0338, Val Acc: 0.9949\n",
      "Validation loss decreased (0.033804 --> 0.033765).  Saving model ...\n",
      "../bodmas_model/best_model_epoch_7.pt\n",
      "../bodmas_model/best_optimizer_epoch_7.pt\n",
      "Epoch 8 of 500\n"
     ]
    },
    {
     "name": "stderr",
     "output_type": "stream",
     "text": [
      "100%|██████████| 434/434 [00:03<00:00, 128.88it/s]\n",
      "100%|██████████| 49/49 [00:00<00:00, 113.11it/s]\n",
      "  0%|          | 0/434 [00:00<?, ?it/s]"
     ]
    },
    {
     "name": "stdout",
     "output_type": "stream",
     "text": [
      "Train Loss: 0.0092, Train Acc: 0.9973\n",
      "Val Loss: 0.0346, Val Acc: 0.9944\n",
      "EarlyStopping counter: 1 out of 5\n",
      "Epoch 9 of 500\n"
     ]
    },
    {
     "name": "stderr",
     "output_type": "stream",
     "text": [
      "100%|██████████| 434/434 [00:03<00:00, 131.88it/s]\n",
      "100%|██████████| 49/49 [00:00<00:00, 192.32it/s]\n",
      "  0%|          | 0/434 [00:00<?, ?it/s]"
     ]
    },
    {
     "name": "stdout",
     "output_type": "stream",
     "text": [
      "Train Loss: 0.0087, Train Acc: 0.9975\n",
      "Val Loss: 0.0378, Val Acc: 0.9943\n",
      "EarlyStopping counter: 2 out of 5\n",
      "Epoch 10 of 500\n"
     ]
    },
    {
     "name": "stderr",
     "output_type": "stream",
     "text": [
      "100%|██████████| 434/434 [00:03<00:00, 126.28it/s]\n",
      "100%|██████████| 49/49 [00:00<00:00, 155.77it/s]\n",
      "  0%|          | 0/434 [00:00<?, ?it/s]"
     ]
    },
    {
     "name": "stdout",
     "output_type": "stream",
     "text": [
      "Train Loss: 0.0086, Train Acc: 0.9975\n",
      "Val Loss: 0.0394, Val Acc: 0.9942\n",
      "EarlyStopping counter: 3 out of 5\n",
      "Epoch 11 of 500\n"
     ]
    },
    {
     "name": "stderr",
     "output_type": "stream",
     "text": [
      "100%|██████████| 434/434 [00:03<00:00, 126.17it/s]\n",
      "100%|██████████| 49/49 [00:00<00:00, 220.82it/s]\n",
      "  0%|          | 0/434 [00:00<?, ?it/s]"
     ]
    },
    {
     "name": "stdout",
     "output_type": "stream",
     "text": [
      "Train Loss: 0.0078, Train Acc: 0.9978\n",
      "Val Loss: 0.0378, Val Acc: 0.9940\n",
      "EarlyStopping counter: 4 out of 5\n",
      "Epoch 12 of 500\n"
     ]
    },
    {
     "name": "stderr",
     "output_type": "stream",
     "text": [
      "100%|██████████| 434/434 [00:03<00:00, 130.08it/s]\n",
      "100%|██████████| 49/49 [00:00<00:00, 163.50it/s]\n",
      "  0%|          | 0/49 [00:00<?, ?it/s]"
     ]
    },
    {
     "name": "stdout",
     "output_type": "stream",
     "text": [
      "Train Loss: 0.0065, Train Acc: 0.9981\n",
      "Val Loss: 0.0354, Val Acc: 0.9947\n",
      "EarlyStopping counter: 5 out of 5\n",
      "Early stopping\n",
      "Training time: 0.765 minutes\n",
      "Elapsed time 0.8613609155019124 mins.\n"
     ]
    },
    {
     "name": "stderr",
     "output_type": "stream",
     "text": [
      "100%|██████████| 49/49 [00:00<00:00, 83.01it/s] \n"
     ]
    },
    {
     "name": "stdout",
     "output_type": "stream",
     "text": [
      "test accuracy 0.9951371161305175 and ROC-AUC 0.9950614247453928\n",
      "\n",
      "Torch 1.6.0 CUDA 10.2\n",
      "Model has 3.132161m parameters\n"
     ]
    },
    {
     "name": "stderr",
     "output_type": "stream",
     "text": [
      "\r",
      "  0%|          | 0/434 [00:00<?, ?it/s]"
     ]
    },
    {
     "name": "stdout",
     "output_type": "stream",
     "text": [
      "X_train (111333, 2381) Y_train (111333,)\n",
      "X_test (12371, 2381) Y_test (12371,)\n",
      "Epoch 1 of 500\n"
     ]
    },
    {
     "name": "stderr",
     "output_type": "stream",
     "text": [
      "100%|██████████| 434/434 [00:02<00:00, 146.25it/s]\n",
      "100%|██████████| 49/49 [00:00<00:00, 201.01it/s]\n",
      "  0%|          | 0/434 [00:00<?, ?it/s]"
     ]
    },
    {
     "name": "stdout",
     "output_type": "stream",
     "text": [
      "Train Loss: 0.1148, Train Acc: 0.9531\n",
      "Val Loss: 0.0419, Val Acc: 0.9899\n",
      "Validation loss decreased (inf --> 0.041890).  Saving model ...\n",
      "../bodmas_model/best_model_epoch_1.pt\n",
      "../bodmas_model/best_optimizer_epoch_1.pt\n",
      "Epoch 2 of 500\n"
     ]
    },
    {
     "name": "stderr",
     "output_type": "stream",
     "text": [
      "100%|██████████| 434/434 [00:03<00:00, 134.77it/s]\n",
      "100%|██████████| 49/49 [00:00<00:00, 161.64it/s]\n",
      "  0%|          | 0/434 [00:00<?, ?it/s]"
     ]
    },
    {
     "name": "stdout",
     "output_type": "stream",
     "text": [
      "Train Loss: 0.0304, Train Acc: 0.9905\n",
      "Val Loss: 0.0305, Val Acc: 0.9926\n",
      "Validation loss decreased (0.041890 --> 0.030460).  Saving model ...\n",
      "../bodmas_model/best_model_epoch_2.pt\n",
      "../bodmas_model/best_optimizer_epoch_2.pt\n",
      "Epoch 3 of 500\n"
     ]
    },
    {
     "name": "stderr",
     "output_type": "stream",
     "text": [
      "100%|██████████| 434/434 [00:03<00:00, 120.39it/s]\n",
      "100%|██████████| 49/49 [00:00<00:00, 192.53it/s]\n",
      "  0%|          | 0/434 [00:00<?, ?it/s]"
     ]
    },
    {
     "name": "stdout",
     "output_type": "stream",
     "text": [
      "Train Loss: 0.0203, Train Acc: 0.9940\n",
      "Val Loss: 0.0291, Val Acc: 0.9931\n",
      "Validation loss decreased (0.030460 --> 0.029120).  Saving model ...\n",
      "../bodmas_model/best_model_epoch_3.pt\n",
      "../bodmas_model/best_optimizer_epoch_3.pt\n",
      "Epoch 4 of 500\n"
     ]
    },
    {
     "name": "stderr",
     "output_type": "stream",
     "text": [
      "100%|██████████| 434/434 [00:03<00:00, 121.22it/s]\n",
      "100%|██████████| 49/49 [00:00<00:00, 282.16it/s]\n",
      "  0%|          | 0/434 [00:00<?, ?it/s]"
     ]
    },
    {
     "name": "stdout",
     "output_type": "stream",
     "text": [
      "Train Loss: 0.0159, Train Acc: 0.9951\n",
      "Val Loss: 0.0296, Val Acc: 0.9939\n",
      "EarlyStopping counter: 1 out of 5\n",
      "Epoch 5 of 500\n"
     ]
    },
    {
     "name": "stderr",
     "output_type": "stream",
     "text": [
      "100%|██████████| 434/434 [00:03<00:00, 120.03it/s]\n",
      "100%|██████████| 49/49 [00:00<00:00, 200.91it/s]\n",
      "  0%|          | 0/434 [00:00<?, ?it/s]"
     ]
    },
    {
     "name": "stdout",
     "output_type": "stream",
     "text": [
      "Train Loss: 0.0143, Train Acc: 0.9957\n",
      "Val Loss: 0.0279, Val Acc: 0.9945\n",
      "Validation loss decreased (0.029120 --> 0.027886).  Saving model ...\n",
      "../bodmas_model/best_model_epoch_5.pt\n",
      "../bodmas_model/best_optimizer_epoch_5.pt\n",
      "Epoch 6 of 500\n"
     ]
    },
    {
     "name": "stderr",
     "output_type": "stream",
     "text": [
      "100%|██████████| 434/434 [00:03<00:00, 128.34it/s]\n",
      "100%|██████████| 49/49 [00:00<00:00, 187.62it/s]\n",
      "  0%|          | 0/434 [00:00<?, ?it/s]"
     ]
    },
    {
     "name": "stdout",
     "output_type": "stream",
     "text": [
      "Train Loss: 0.0120, Train Acc: 0.9964\n",
      "Val Loss: 0.0293, Val Acc: 0.9943\n",
      "EarlyStopping counter: 1 out of 5\n",
      "Epoch 7 of 500\n"
     ]
    },
    {
     "name": "stderr",
     "output_type": "stream",
     "text": [
      "100%|██████████| 434/434 [00:03<00:00, 124.66it/s]\n",
      "100%|██████████| 49/49 [00:00<00:00, 177.84it/s]\n",
      "  0%|          | 0/434 [00:00<?, ?it/s]"
     ]
    },
    {
     "name": "stdout",
     "output_type": "stream",
     "text": [
      "Train Loss: 0.0095, Train Acc: 0.9974\n",
      "Val Loss: 0.0288, Val Acc: 0.9947\n",
      "EarlyStopping counter: 2 out of 5\n",
      "Epoch 8 of 500\n"
     ]
    },
    {
     "name": "stderr",
     "output_type": "stream",
     "text": [
      "100%|██████████| 434/434 [00:03<00:00, 122.41it/s]\n",
      "100%|██████████| 49/49 [00:00<00:00, 271.18it/s]\n",
      "  0%|          | 0/434 [00:00<?, ?it/s]"
     ]
    },
    {
     "name": "stdout",
     "output_type": "stream",
     "text": [
      "Train Loss: 0.0096, Train Acc: 0.9972\n",
      "Val Loss: 0.0281, Val Acc: 0.9955\n",
      "EarlyStopping counter: 3 out of 5\n",
      "Epoch 9 of 500\n"
     ]
    },
    {
     "name": "stderr",
     "output_type": "stream",
     "text": [
      "100%|██████████| 434/434 [00:03<00:00, 129.53it/s]\n",
      "100%|██████████| 49/49 [00:00<00:00, 125.68it/s]\n",
      "  0%|          | 0/434 [00:00<?, ?it/s]"
     ]
    },
    {
     "name": "stdout",
     "output_type": "stream",
     "text": [
      "Train Loss: 0.0084, Train Acc: 0.9974\n",
      "Val Loss: 0.0309, Val Acc: 0.9943\n",
      "EarlyStopping counter: 4 out of 5\n",
      "Epoch 10 of 500\n"
     ]
    },
    {
     "name": "stderr",
     "output_type": "stream",
     "text": [
      "100%|██████████| 434/434 [00:03<00:00, 112.99it/s]\n",
      "100%|██████████| 49/49 [00:00<00:00, 119.36it/s]\n",
      "  0%|          | 0/434 [00:00<?, ?it/s]"
     ]
    },
    {
     "name": "stdout",
     "output_type": "stream",
     "text": [
      "Train Loss: 0.0096, Train Acc: 0.9972\n",
      "Val Loss: 0.0275, Val Acc: 0.9949\n",
      "Validation loss decreased (0.027886 --> 0.027523).  Saving model ...\n",
      "../bodmas_model/best_model_epoch_10.pt\n",
      "../bodmas_model/best_optimizer_epoch_10.pt\n",
      "Epoch 11 of 500\n"
     ]
    },
    {
     "name": "stderr",
     "output_type": "stream",
     "text": [
      "100%|██████████| 434/434 [00:03<00:00, 118.66it/s]\n",
      "100%|██████████| 49/49 [00:00<00:00, 185.47it/s]\n",
      "  0%|          | 0/434 [00:00<?, ?it/s]"
     ]
    },
    {
     "name": "stdout",
     "output_type": "stream",
     "text": [
      "Train Loss: 0.0079, Train Acc: 0.9978\n",
      "Val Loss: 0.0275, Val Acc: 0.9952\n",
      "Validation loss decreased (0.027523 --> 0.027490).  Saving model ...\n",
      "../bodmas_model/best_model_epoch_11.pt\n",
      "../bodmas_model/best_optimizer_epoch_11.pt\n",
      "Epoch 12 of 500\n"
     ]
    },
    {
     "name": "stderr",
     "output_type": "stream",
     "text": [
      "100%|██████████| 434/434 [00:03<00:00, 133.14it/s]\n",
      "100%|██████████| 49/49 [00:00<00:00, 131.33it/s]\n",
      "  0%|          | 0/434 [00:00<?, ?it/s]"
     ]
    },
    {
     "name": "stdout",
     "output_type": "stream",
     "text": [
      "Train Loss: 0.0068, Train Acc: 0.9979\n",
      "Val Loss: 0.0283, Val Acc: 0.9955\n",
      "EarlyStopping counter: 1 out of 5\n",
      "Epoch 13 of 500\n"
     ]
    },
    {
     "name": "stderr",
     "output_type": "stream",
     "text": [
      "100%|██████████| 434/434 [00:03<00:00, 124.31it/s]\n",
      "100%|██████████| 49/49 [00:00<00:00, 170.66it/s]\n",
      "  0%|          | 0/434 [00:00<?, ?it/s]"
     ]
    },
    {
     "name": "stdout",
     "output_type": "stream",
     "text": [
      "Train Loss: 0.0065, Train Acc: 0.9981\n",
      "Val Loss: 0.0291, Val Acc: 0.9955\n",
      "EarlyStopping counter: 2 out of 5\n",
      "Epoch 14 of 500\n"
     ]
    },
    {
     "name": "stderr",
     "output_type": "stream",
     "text": [
      "100%|██████████| 434/434 [00:03<00:00, 130.94it/s]\n",
      "100%|██████████| 49/49 [00:00<00:00, 173.35it/s]\n",
      "  0%|          | 0/434 [00:00<?, ?it/s]"
     ]
    },
    {
     "name": "stdout",
     "output_type": "stream",
     "text": [
      "Train Loss: 0.0062, Train Acc: 0.9984\n",
      "Val Loss: 0.0286, Val Acc: 0.9956\n",
      "EarlyStopping counter: 3 out of 5\n",
      "Epoch 15 of 500\n"
     ]
    },
    {
     "name": "stderr",
     "output_type": "stream",
     "text": [
      "100%|██████████| 434/434 [00:03<00:00, 124.89it/s]\n",
      "100%|██████████| 49/49 [00:00<00:00, 168.72it/s]\n",
      "  0%|          | 0/434 [00:00<?, ?it/s]"
     ]
    },
    {
     "name": "stdout",
     "output_type": "stream",
     "text": [
      "Train Loss: 0.0064, Train Acc: 0.9981\n",
      "Val Loss: 0.0301, Val Acc: 0.9954\n",
      "EarlyStopping counter: 4 out of 5\n",
      "Epoch 16 of 500\n"
     ]
    },
    {
     "name": "stderr",
     "output_type": "stream",
     "text": [
      "100%|██████████| 434/434 [00:03<00:00, 119.20it/s]\n",
      "100%|██████████| 49/49 [00:00<00:00, 148.47it/s]\n",
      "  0%|          | 0/49 [00:00<?, ?it/s]"
     ]
    },
    {
     "name": "stdout",
     "output_type": "stream",
     "text": [
      "Train Loss: 0.0049, Train Acc: 0.9986\n",
      "Val Loss: 0.0280, Val Acc: 0.9962\n",
      "EarlyStopping counter: 5 out of 5\n",
      "Early stopping\n",
      "Training time: 1.011 minutes\n",
      "Elapsed time 1.1353509744008383 mins.\n"
     ]
    },
    {
     "name": "stderr",
     "output_type": "stream",
     "text": [
      "100%|██████████| 49/49 [00:00<00:00, 83.48it/s] \n"
     ]
    },
    {
     "name": "stdout",
     "output_type": "stream",
     "text": [
      "test accuracy 0.9966517844978644 and ROC-AUC 0.9966049239932347\n",
      "\n",
      "Torch 1.6.0 CUDA 10.2\n",
      "Model has 3.132161m parameters\n"
     ]
    },
    {
     "name": "stderr",
     "output_type": "stream",
     "text": [
      "\r",
      "  0%|          | 0/434 [00:00<?, ?it/s]"
     ]
    },
    {
     "name": "stdout",
     "output_type": "stream",
     "text": [
      "X_train (111333, 2381) Y_train (111333,)\n",
      "X_test (12371, 2381) Y_test (12371,)\n",
      "Epoch 1 of 500\n"
     ]
    },
    {
     "name": "stderr",
     "output_type": "stream",
     "text": [
      "100%|██████████| 434/434 [00:03<00:00, 123.58it/s]\n",
      "100%|██████████| 49/49 [00:00<00:00, 284.54it/s]\n",
      "  0%|          | 0/434 [00:00<?, ?it/s]"
     ]
    },
    {
     "name": "stdout",
     "output_type": "stream",
     "text": [
      "Train Loss: 0.1148, Train Acc: 0.9530\n",
      "Val Loss: 0.0323, Val Acc: 0.9896\n",
      "Validation loss decreased (inf --> 0.032265).  Saving model ...\n",
      "../bodmas_model/best_model_epoch_1.pt\n",
      "../bodmas_model/best_optimizer_epoch_1.pt\n",
      "Epoch 2 of 500\n"
     ]
    },
    {
     "name": "stderr",
     "output_type": "stream",
     "text": [
      "100%|██████████| 434/434 [00:04<00:00, 103.53it/s]\n",
      "100%|██████████| 49/49 [00:00<00:00, 153.77it/s]\n",
      "  0%|          | 0/434 [00:00<?, ?it/s]"
     ]
    },
    {
     "name": "stdout",
     "output_type": "stream",
     "text": [
      "Train Loss: 0.0283, Train Acc: 0.9912\n",
      "Val Loss: 0.0265, Val Acc: 0.9919\n",
      "Validation loss decreased (0.032265 --> 0.026522).  Saving model ...\n",
      "../bodmas_model/best_model_epoch_2.pt\n",
      "../bodmas_model/best_optimizer_epoch_2.pt\n",
      "Epoch 3 of 500\n"
     ]
    },
    {
     "name": "stderr",
     "output_type": "stream",
     "text": [
      "100%|██████████| 434/434 [00:03<00:00, 120.36it/s]\n",
      "100%|██████████| 49/49 [00:00<00:00, 199.38it/s]\n",
      "  0%|          | 0/434 [00:00<?, ?it/s]"
     ]
    },
    {
     "name": "stdout",
     "output_type": "stream",
     "text": [
      "Train Loss: 0.0205, Train Acc: 0.9943\n",
      "Val Loss: 0.0232, Val Acc: 0.9925\n",
      "Validation loss decreased (0.026522 --> 0.023240).  Saving model ...\n",
      "../bodmas_model/best_model_epoch_3.pt\n",
      "../bodmas_model/best_optimizer_epoch_3.pt\n",
      "Epoch 4 of 500\n"
     ]
    },
    {
     "name": "stderr",
     "output_type": "stream",
     "text": [
      "100%|██████████| 434/434 [00:03<00:00, 127.09it/s]\n",
      "100%|██████████| 49/49 [00:00<00:00, 183.00it/s]\n",
      "  0%|          | 0/434 [00:00<?, ?it/s]"
     ]
    },
    {
     "name": "stdout",
     "output_type": "stream",
     "text": [
      "Train Loss: 0.0157, Train Acc: 0.9951\n",
      "Val Loss: 0.0264, Val Acc: 0.9930\n",
      "EarlyStopping counter: 1 out of 5\n",
      "Epoch 5 of 500\n"
     ]
    },
    {
     "name": "stderr",
     "output_type": "stream",
     "text": [
      "100%|██████████| 434/434 [00:03<00:00, 119.13it/s]\n",
      "100%|██████████| 49/49 [00:00<00:00, 173.09it/s]\n",
      "  0%|          | 0/434 [00:00<?, ?it/s]"
     ]
    },
    {
     "name": "stdout",
     "output_type": "stream",
     "text": [
      "Train Loss: 0.0132, Train Acc: 0.9960\n",
      "Val Loss: 0.0245, Val Acc: 0.9933\n",
      "EarlyStopping counter: 2 out of 5\n",
      "Epoch 6 of 500\n"
     ]
    },
    {
     "name": "stderr",
     "output_type": "stream",
     "text": [
      "100%|██████████| 434/434 [00:03<00:00, 123.67it/s]\n",
      "100%|██████████| 49/49 [00:00<00:00, 282.26it/s]\n",
      "  0%|          | 0/434 [00:00<?, ?it/s]"
     ]
    },
    {
     "name": "stdout",
     "output_type": "stream",
     "text": [
      "Train Loss: 0.0122, Train Acc: 0.9964\n",
      "Val Loss: 0.0228, Val Acc: 0.9937\n",
      "Validation loss decreased (0.023240 --> 0.022774).  Saving model ...\n",
      "../bodmas_model/best_model_epoch_6.pt\n",
      "../bodmas_model/best_optimizer_epoch_6.pt\n",
      "Epoch 7 of 500\n"
     ]
    },
    {
     "name": "stderr",
     "output_type": "stream",
     "text": [
      "100%|██████████| 434/434 [00:03<00:00, 125.40it/s]\n",
      "100%|██████████| 49/49 [00:00<00:00, 193.41it/s]\n",
      "  0%|          | 0/434 [00:00<?, ?it/s]"
     ]
    },
    {
     "name": "stdout",
     "output_type": "stream",
     "text": [
      "Train Loss: 0.0106, Train Acc: 0.9967\n",
      "Val Loss: 0.0220, Val Acc: 0.9945\n",
      "Validation loss decreased (0.022774 --> 0.022012).  Saving model ...\n",
      "../bodmas_model/best_model_epoch_7.pt\n",
      "../bodmas_model/best_optimizer_epoch_7.pt\n",
      "Epoch 8 of 500\n"
     ]
    },
    {
     "name": "stderr",
     "output_type": "stream",
     "text": [
      "100%|██████████| 434/434 [00:03<00:00, 117.34it/s]\n",
      "100%|██████████| 49/49 [00:00<00:00, 128.18it/s]\n",
      "  0%|          | 0/434 [00:00<?, ?it/s]"
     ]
    },
    {
     "name": "stdout",
     "output_type": "stream",
     "text": [
      "Train Loss: 0.0098, Train Acc: 0.9970\n",
      "Val Loss: 0.0226, Val Acc: 0.9938\n",
      "EarlyStopping counter: 1 out of 5\n",
      "Epoch 9 of 500\n"
     ]
    },
    {
     "name": "stderr",
     "output_type": "stream",
     "text": [
      "100%|██████████| 434/434 [00:03<00:00, 132.64it/s]\n",
      "100%|██████████| 49/49 [00:00<00:00, 201.95it/s]\n",
      "  0%|          | 0/434 [00:00<?, ?it/s]"
     ]
    },
    {
     "name": "stdout",
     "output_type": "stream",
     "text": [
      "Train Loss: 0.0097, Train Acc: 0.9972\n",
      "Val Loss: 0.0225, Val Acc: 0.9942\n",
      "EarlyStopping counter: 2 out of 5\n",
      "Epoch 10 of 500\n"
     ]
    },
    {
     "name": "stderr",
     "output_type": "stream",
     "text": [
      "100%|██████████| 434/434 [00:03<00:00, 127.49it/s]\n",
      "100%|██████████| 49/49 [00:00<00:00, 244.73it/s]\n",
      "  0%|          | 0/434 [00:00<?, ?it/s]"
     ]
    },
    {
     "name": "stdout",
     "output_type": "stream",
     "text": [
      "Train Loss: 0.0082, Train Acc: 0.9974\n",
      "Val Loss: 0.0233, Val Acc: 0.9943\n",
      "EarlyStopping counter: 3 out of 5\n",
      "Epoch 11 of 500\n"
     ]
    },
    {
     "name": "stderr",
     "output_type": "stream",
     "text": [
      "100%|██████████| 434/434 [00:03<00:00, 131.70it/s]\n",
      "100%|██████████| 49/49 [00:00<00:00, 167.37it/s]\n",
      "  0%|          | 0/434 [00:00<?, ?it/s]"
     ]
    },
    {
     "name": "stdout",
     "output_type": "stream",
     "text": [
      "Train Loss: 0.0077, Train Acc: 0.9980\n",
      "Val Loss: 0.0230, Val Acc: 0.9946\n",
      "EarlyStopping counter: 4 out of 5\n",
      "Epoch 12 of 500\n"
     ]
    },
    {
     "name": "stderr",
     "output_type": "stream",
     "text": [
      "100%|██████████| 434/434 [00:03<00:00, 123.96it/s]\n",
      "100%|██████████| 49/49 [00:00<00:00, 215.77it/s]\n",
      "  0%|          | 0/49 [00:00<?, ?it/s]"
     ]
    },
    {
     "name": "stdout",
     "output_type": "stream",
     "text": [
      "Train Loss: 0.0071, Train Acc: 0.9979\n",
      "Val Loss: 0.0251, Val Acc: 0.9940\n",
      "EarlyStopping counter: 5 out of 5\n",
      "Early stopping\n",
      "Training time: 0.770 minutes\n",
      "Elapsed time 0.8795507351557413 mins.\n"
     ]
    },
    {
     "name": "stderr",
     "output_type": "stream",
     "text": [
      "100%|██████████| 49/49 [00:00<00:00, 87.51it/s] \n"
     ]
    },
    {
     "name": "stdout",
     "output_type": "stream",
     "text": [
      "test accuracy 0.9942467565439186 and ROC-AUC 0.9944999842395191\n",
      "\n",
      "Torch 1.6.0 CUDA 10.2\n",
      "Model has 3.132161m parameters\n"
     ]
    },
    {
     "name": "stderr",
     "output_type": "stream",
     "text": [
      "\r",
      "  0%|          | 0/434 [00:00<?, ?it/s]"
     ]
    },
    {
     "name": "stdout",
     "output_type": "stream",
     "text": [
      "X_train (111333, 2381) Y_train (111333,)\n",
      "X_test (12371, 2381) Y_test (12371,)\n",
      "Epoch 1 of 500\n"
     ]
    },
    {
     "name": "stderr",
     "output_type": "stream",
     "text": [
      "100%|██████████| 434/434 [00:03<00:00, 126.82it/s]\n",
      "100%|██████████| 49/49 [00:00<00:00, 163.77it/s]\n",
      "  0%|          | 0/434 [00:00<?, ?it/s]"
     ]
    },
    {
     "name": "stdout",
     "output_type": "stream",
     "text": [
      "Train Loss: 0.1162, Train Acc: 0.9529\n",
      "Val Loss: 0.0315, Val Acc: 0.9903\n",
      "Validation loss decreased (inf --> 0.031472).  Saving model ...\n",
      "../bodmas_model/best_model_epoch_1.pt\n",
      "../bodmas_model/best_optimizer_epoch_1.pt\n",
      "Epoch 2 of 500\n"
     ]
    },
    {
     "name": "stderr",
     "output_type": "stream",
     "text": [
      "100%|██████████| 434/434 [00:03<00:00, 108.58it/s]\n",
      "100%|██████████| 49/49 [00:00<00:00, 191.59it/s]\n",
      "  0%|          | 0/434 [00:00<?, ?it/s]"
     ]
    },
    {
     "name": "stdout",
     "output_type": "stream",
     "text": [
      "Train Loss: 0.0268, Train Acc: 0.9919\n",
      "Val Loss: 0.0261, Val Acc: 0.9928\n",
      "Validation loss decreased (0.031472 --> 0.026113).  Saving model ...\n",
      "../bodmas_model/best_model_epoch_2.pt\n",
      "../bodmas_model/best_optimizer_epoch_2.pt\n",
      "Epoch 3 of 500\n"
     ]
    },
    {
     "name": "stderr",
     "output_type": "stream",
     "text": [
      "100%|██████████| 434/434 [00:03<00:00, 125.36it/s]\n",
      "100%|██████████| 49/49 [00:00<00:00, 206.22it/s]\n",
      "  0%|          | 0/434 [00:00<?, ?it/s]"
     ]
    },
    {
     "name": "stdout",
     "output_type": "stream",
     "text": [
      "Train Loss: 0.0207, Train Acc: 0.9941\n",
      "Val Loss: 0.0237, Val Acc: 0.9935\n",
      "Validation loss decreased (0.026113 --> 0.023718).  Saving model ...\n",
      "../bodmas_model/best_model_epoch_3.pt\n",
      "../bodmas_model/best_optimizer_epoch_3.pt\n",
      "Epoch 4 of 500\n"
     ]
    },
    {
     "name": "stderr",
     "output_type": "stream",
     "text": [
      "100%|██████████| 434/434 [00:03<00:00, 125.01it/s]\n",
      "100%|██████████| 49/49 [00:00<00:00, 160.83it/s]\n",
      "  0%|          | 0/434 [00:00<?, ?it/s]"
     ]
    },
    {
     "name": "stdout",
     "output_type": "stream",
     "text": [
      "Train Loss: 0.0164, Train Acc: 0.9950\n",
      "Val Loss: 0.0213, Val Acc: 0.9944\n",
      "Validation loss decreased (0.023718 --> 0.021277).  Saving model ...\n",
      "../bodmas_model/best_model_epoch_4.pt\n",
      "../bodmas_model/best_optimizer_epoch_4.pt\n",
      "Epoch 5 of 500\n"
     ]
    },
    {
     "name": "stderr",
     "output_type": "stream",
     "text": [
      "100%|██████████| 434/434 [00:03<00:00, 110.43it/s]\n",
      "100%|██████████| 49/49 [00:00<00:00, 170.22it/s]\n",
      "  0%|          | 0/434 [00:00<?, ?it/s]"
     ]
    },
    {
     "name": "stdout",
     "output_type": "stream",
     "text": [
      "Train Loss: 0.0143, Train Acc: 0.9959\n",
      "Val Loss: 0.0214, Val Acc: 0.9943\n",
      "EarlyStopping counter: 1 out of 5\n",
      "Epoch 6 of 500\n"
     ]
    },
    {
     "name": "stderr",
     "output_type": "stream",
     "text": [
      "100%|██████████| 434/434 [00:03<00:00, 109.78it/s]\n",
      "100%|██████████| 49/49 [00:00<00:00, 121.12it/s]\n",
      "  0%|          | 0/434 [00:00<?, ?it/s]"
     ]
    },
    {
     "name": "stdout",
     "output_type": "stream",
     "text": [
      "Train Loss: 0.0126, Train Acc: 0.9962\n",
      "Val Loss: 0.0198, Val Acc: 0.9954\n",
      "Validation loss decreased (0.021277 --> 0.019788).  Saving model ...\n",
      "../bodmas_model/best_model_epoch_6.pt\n",
      "../bodmas_model/best_optimizer_epoch_6.pt\n",
      "Epoch 7 of 500\n"
     ]
    },
    {
     "name": "stderr",
     "output_type": "stream",
     "text": [
      "100%|██████████| 434/434 [00:04<00:00, 99.40it/s] \n",
      "100%|██████████| 49/49 [00:00<00:00, 168.57it/s]\n",
      "  0%|          | 0/434 [00:00<?, ?it/s]"
     ]
    },
    {
     "name": "stdout",
     "output_type": "stream",
     "text": [
      "Train Loss: 0.0103, Train Acc: 0.9971\n",
      "Val Loss: 0.0202, Val Acc: 0.9947\n",
      "EarlyStopping counter: 1 out of 5\n",
      "Epoch 8 of 500\n"
     ]
    },
    {
     "name": "stderr",
     "output_type": "stream",
     "text": [
      "100%|██████████| 434/434 [00:03<00:00, 112.32it/s]\n",
      "100%|██████████| 49/49 [00:00<00:00, 168.43it/s]\n",
      "  0%|          | 0/434 [00:00<?, ?it/s]"
     ]
    },
    {
     "name": "stdout",
     "output_type": "stream",
     "text": [
      "Train Loss: 0.0096, Train Acc: 0.9972\n",
      "Val Loss: 0.0212, Val Acc: 0.9947\n",
      "EarlyStopping counter: 2 out of 5\n",
      "Epoch 9 of 500\n"
     ]
    },
    {
     "name": "stderr",
     "output_type": "stream",
     "text": [
      "100%|██████████| 434/434 [00:03<00:00, 109.01it/s]\n",
      "100%|██████████| 49/49 [00:00<00:00, 171.07it/s]\n",
      "  0%|          | 0/434 [00:00<?, ?it/s]"
     ]
    },
    {
     "name": "stdout",
     "output_type": "stream",
     "text": [
      "Train Loss: 0.0095, Train Acc: 0.9975\n",
      "Val Loss: 0.0207, Val Acc: 0.9953\n",
      "EarlyStopping counter: 3 out of 5\n",
      "Epoch 10 of 500\n"
     ]
    },
    {
     "name": "stderr",
     "output_type": "stream",
     "text": [
      "100%|██████████| 434/434 [00:03<00:00, 119.21it/s]\n",
      "100%|██████████| 49/49 [00:00<00:00, 127.45it/s]\n",
      "  0%|          | 0/434 [00:00<?, ?it/s]"
     ]
    },
    {
     "name": "stdout",
     "output_type": "stream",
     "text": [
      "Train Loss: 0.0091, Train Acc: 0.9975\n",
      "Val Loss: 0.0241, Val Acc: 0.9944\n",
      "EarlyStopping counter: 4 out of 5\n",
      "Epoch 11 of 500\n"
     ]
    },
    {
     "name": "stderr",
     "output_type": "stream",
     "text": [
      "100%|██████████| 434/434 [00:03<00:00, 123.09it/s]\n",
      "100%|██████████| 49/49 [00:00<00:00, 180.12it/s]\n",
      "  0%|          | 0/49 [00:00<?, ?it/s]"
     ]
    },
    {
     "name": "stdout",
     "output_type": "stream",
     "text": [
      "Train Loss: 0.0074, Train Acc: 0.9978\n",
      "Val Loss: 0.0213, Val Acc: 0.9952\n",
      "EarlyStopping counter: 5 out of 5\n",
      "Early stopping\n",
      "Training time: 0.759 minutes\n",
      "Elapsed time 0.8645117084185282 mins.\n"
     ]
    },
    {
     "name": "stderr",
     "output_type": "stream",
     "text": [
      "100%|██████████| 49/49 [00:00<00:00, 103.30it/s]\n"
     ]
    },
    {
     "name": "stdout",
     "output_type": "stream",
     "text": [
      "test accuracy 0.9953762742937827 and ROC-AUC 0.9953158439564985\n",
      "\n",
      "Torch 1.6.0 CUDA 10.2\n",
      "Model has 3.132161m parameters\n"
     ]
    },
    {
     "name": "stderr",
     "output_type": "stream",
     "text": [
      "\r",
      "  0%|          | 0/434 [00:00<?, ?it/s]"
     ]
    },
    {
     "name": "stdout",
     "output_type": "stream",
     "text": [
      "X_train (111333, 2381) Y_train (111333,)\n",
      "X_test (12371, 2381) Y_test (12371,)\n",
      "Epoch 1 of 500\n"
     ]
    },
    {
     "name": "stderr",
     "output_type": "stream",
     "text": [
      "100%|██████████| 434/434 [00:03<00:00, 116.86it/s]\n",
      "100%|██████████| 49/49 [00:00<00:00, 159.75it/s]\n",
      "  0%|          | 0/434 [00:00<?, ?it/s]"
     ]
    },
    {
     "name": "stdout",
     "output_type": "stream",
     "text": [
      "Train Loss: 0.1214, Train Acc: 0.9505\n",
      "Val Loss: 0.0329, Val Acc: 0.9899\n",
      "Validation loss decreased (inf --> 0.032914).  Saving model ...\n",
      "../bodmas_model/best_model_epoch_1.pt\n",
      "../bodmas_model/best_optimizer_epoch_1.pt\n",
      "Epoch 2 of 500\n"
     ]
    },
    {
     "name": "stderr",
     "output_type": "stream",
     "text": [
      "100%|██████████| 434/434 [00:03<00:00, 117.08it/s]\n",
      "100%|██████████| 49/49 [00:00<00:00, 196.61it/s]\n",
      "  0%|          | 0/434 [00:00<?, ?it/s]"
     ]
    },
    {
     "name": "stdout",
     "output_type": "stream",
     "text": [
      "Train Loss: 0.0278, Train Acc: 0.9915\n",
      "Val Loss: 0.0292, Val Acc: 0.9918\n",
      "Validation loss decreased (0.032914 --> 0.029205).  Saving model ...\n",
      "../bodmas_model/best_model_epoch_2.pt\n",
      "../bodmas_model/best_optimizer_epoch_2.pt\n",
      "Epoch 3 of 500\n"
     ]
    },
    {
     "name": "stderr",
     "output_type": "stream",
     "text": [
      "100%|██████████| 434/434 [00:03<00:00, 115.48it/s]\n",
      "100%|██████████| 49/49 [00:00<00:00, 171.18it/s]\n",
      "  0%|          | 0/434 [00:00<?, ?it/s]"
     ]
    },
    {
     "name": "stdout",
     "output_type": "stream",
     "text": [
      "Train Loss: 0.0221, Train Acc: 0.9934\n",
      "Val Loss: 0.0241, Val Acc: 0.9933\n",
      "Validation loss decreased (0.029205 --> 0.024117).  Saving model ...\n",
      "../bodmas_model/best_model_epoch_3.pt\n",
      "../bodmas_model/best_optimizer_epoch_3.pt\n",
      "Epoch 4 of 500\n"
     ]
    },
    {
     "name": "stderr",
     "output_type": "stream",
     "text": [
      "100%|██████████| 434/434 [00:03<00:00, 119.18it/s]\n",
      "100%|██████████| 49/49 [00:00<00:00, 191.67it/s]\n",
      "  0%|          | 0/434 [00:00<?, ?it/s]"
     ]
    },
    {
     "name": "stdout",
     "output_type": "stream",
     "text": [
      "Train Loss: 0.0165, Train Acc: 0.9951\n",
      "Val Loss: 0.0206, Val Acc: 0.9944\n",
      "Validation loss decreased (0.024117 --> 0.020620).  Saving model ...\n",
      "../bodmas_model/best_model_epoch_4.pt\n",
      "../bodmas_model/best_optimizer_epoch_4.pt\n",
      "Epoch 5 of 500\n"
     ]
    },
    {
     "name": "stderr",
     "output_type": "stream",
     "text": [
      "100%|██████████| 434/434 [00:03<00:00, 129.99it/s]\n",
      "100%|██████████| 49/49 [00:00<00:00, 180.46it/s]\n",
      "  0%|          | 0/434 [00:00<?, ?it/s]"
     ]
    },
    {
     "name": "stdout",
     "output_type": "stream",
     "text": [
      "Train Loss: 0.0132, Train Acc: 0.9961\n",
      "Val Loss: 0.0206, Val Acc: 0.9946\n",
      "Validation loss decreased (0.020620 --> 0.020570).  Saving model ...\n",
      "../bodmas_model/best_model_epoch_5.pt\n",
      "../bodmas_model/best_optimizer_epoch_5.pt\n",
      "Epoch 6 of 500\n"
     ]
    },
    {
     "name": "stderr",
     "output_type": "stream",
     "text": [
      "100%|██████████| 434/434 [00:03<00:00, 114.83it/s]\n",
      "100%|██████████| 49/49 [00:00<00:00, 179.15it/s]\n",
      "  0%|          | 0/434 [00:00<?, ?it/s]"
     ]
    },
    {
     "name": "stdout",
     "output_type": "stream",
     "text": [
      "Train Loss: 0.0124, Train Acc: 0.9961\n",
      "Val Loss: 0.0212, Val Acc: 0.9947\n",
      "EarlyStopping counter: 1 out of 5\n",
      "Epoch 7 of 500\n"
     ]
    },
    {
     "name": "stderr",
     "output_type": "stream",
     "text": [
      "100%|██████████| 434/434 [00:03<00:00, 115.60it/s]\n",
      "100%|██████████| 49/49 [00:00<00:00, 201.52it/s]\n",
      "  0%|          | 0/434 [00:00<?, ?it/s]"
     ]
    },
    {
     "name": "stdout",
     "output_type": "stream",
     "text": [
      "Train Loss: 0.0114, Train Acc: 0.9967\n",
      "Val Loss: 0.0203, Val Acc: 0.9945\n",
      "Validation loss decreased (0.020570 --> 0.020319).  Saving model ...\n",
      "../bodmas_model/best_model_epoch_7.pt\n",
      "../bodmas_model/best_optimizer_epoch_7.pt\n",
      "Epoch 8 of 500\n"
     ]
    },
    {
     "name": "stderr",
     "output_type": "stream",
     "text": [
      "100%|██████████| 434/434 [00:03<00:00, 127.16it/s]\n",
      "100%|██████████| 49/49 [00:00<00:00, 125.99it/s]\n",
      "  0%|          | 0/434 [00:00<?, ?it/s]"
     ]
    },
    {
     "name": "stdout",
     "output_type": "stream",
     "text": [
      "Train Loss: 0.0091, Train Acc: 0.9974\n",
      "Val Loss: 0.0210, Val Acc: 0.9951\n",
      "EarlyStopping counter: 1 out of 5\n",
      "Epoch 9 of 500\n"
     ]
    },
    {
     "name": "stderr",
     "output_type": "stream",
     "text": [
      "100%|██████████| 434/434 [00:03<00:00, 111.89it/s]\n",
      "100%|██████████| 49/49 [00:00<00:00, 203.19it/s]\n",
      "  0%|          | 0/434 [00:00<?, ?it/s]"
     ]
    },
    {
     "name": "stdout",
     "output_type": "stream",
     "text": [
      "Train Loss: 0.0085, Train Acc: 0.9975\n",
      "Val Loss: 0.0194, Val Acc: 0.9950\n",
      "Validation loss decreased (0.020319 --> 0.019420).  Saving model ...\n",
      "../bodmas_model/best_model_epoch_9.pt\n",
      "../bodmas_model/best_optimizer_epoch_9.pt\n",
      "Epoch 10 of 500\n"
     ]
    },
    {
     "name": "stderr",
     "output_type": "stream",
     "text": [
      "100%|██████████| 434/434 [00:03<00:00, 122.74it/s]\n",
      "100%|██████████| 49/49 [00:00<00:00, 168.75it/s]\n",
      "  0%|          | 0/434 [00:00<?, ?it/s]"
     ]
    },
    {
     "name": "stdout",
     "output_type": "stream",
     "text": [
      "Train Loss: 0.0087, Train Acc: 0.9975\n",
      "Val Loss: 0.0192, Val Acc: 0.9955\n",
      "Validation loss decreased (0.019420 --> 0.019158).  Saving model ...\n",
      "../bodmas_model/best_model_epoch_10.pt\n",
      "../bodmas_model/best_optimizer_epoch_10.pt\n",
      "Epoch 11 of 500\n"
     ]
    },
    {
     "name": "stderr",
     "output_type": "stream",
     "text": [
      "100%|██████████| 434/434 [00:03<00:00, 129.01it/s]\n",
      "100%|██████████| 49/49 [00:00<00:00, 158.11it/s]\n",
      "  0%|          | 0/434 [00:00<?, ?it/s]"
     ]
    },
    {
     "name": "stdout",
     "output_type": "stream",
     "text": [
      "Train Loss: 0.0077, Train Acc: 0.9981\n",
      "Val Loss: 0.0206, Val Acc: 0.9951\n",
      "EarlyStopping counter: 1 out of 5\n",
      "Epoch 12 of 500\n"
     ]
    },
    {
     "name": "stderr",
     "output_type": "stream",
     "text": [
      "100%|██████████| 434/434 [00:03<00:00, 108.99it/s]\n",
      "100%|██████████| 49/49 [00:00<00:00, 166.09it/s]\n",
      "  0%|          | 0/434 [00:00<?, ?it/s]"
     ]
    },
    {
     "name": "stdout",
     "output_type": "stream",
     "text": [
      "Train Loss: 0.0081, Train Acc: 0.9977\n",
      "Val Loss: 0.0192, Val Acc: 0.9955\n",
      "EarlyStopping counter: 2 out of 5\n",
      "Epoch 13 of 500\n"
     ]
    },
    {
     "name": "stderr",
     "output_type": "stream",
     "text": [
      "100%|██████████| 434/434 [00:03<00:00, 124.29it/s]\n",
      "100%|██████████| 49/49 [00:00<00:00, 93.05it/s] \n",
      "  0%|          | 0/434 [00:00<?, ?it/s]"
     ]
    },
    {
     "name": "stdout",
     "output_type": "stream",
     "text": [
      "Train Loss: 0.0070, Train Acc: 0.9979\n",
      "Val Loss: 0.0200, Val Acc: 0.9955\n",
      "EarlyStopping counter: 3 out of 5\n",
      "Epoch 14 of 500\n"
     ]
    },
    {
     "name": "stderr",
     "output_type": "stream",
     "text": [
      "100%|██████████| 434/434 [00:03<00:00, 123.80it/s]\n",
      "100%|██████████| 49/49 [00:00<00:00, 193.46it/s]\n",
      "  0%|          | 0/434 [00:00<?, ?it/s]"
     ]
    },
    {
     "name": "stdout",
     "output_type": "stream",
     "text": [
      "Train Loss: 0.0065, Train Acc: 0.9981\n",
      "Val Loss: 0.0199, Val Acc: 0.9956\n",
      "EarlyStopping counter: 4 out of 5\n",
      "Epoch 15 of 500\n"
     ]
    },
    {
     "name": "stderr",
     "output_type": "stream",
     "text": [
      "100%|██████████| 434/434 [00:03<00:00, 121.18it/s]\n",
      "100%|██████████| 49/49 [00:00<00:00, 142.20it/s]\n",
      "  0%|          | 0/49 [00:00<?, ?it/s]"
     ]
    },
    {
     "name": "stdout",
     "output_type": "stream",
     "text": [
      "Train Loss: 0.0056, Train Acc: 0.9984\n",
      "Val Loss: 0.0194, Val Acc: 0.9954\n",
      "EarlyStopping counter: 5 out of 5\n",
      "Early stopping\n",
      "Training time: 0.998 minutes\n",
      "Elapsed time 1.1046385248502095 mins.\n"
     ]
    },
    {
     "name": "stderr",
     "output_type": "stream",
     "text": [
      "100%|██████████| 49/49 [00:00<00:00, 91.87it/s] \n"
     ]
    },
    {
     "name": "stdout",
     "output_type": "stream",
     "text": [
      "test accuracy 0.9962464643984424 and ROC-AUC 0.996375443796402\n",
      "\n",
      "Torch 1.6.0 CUDA 10.2\n",
      "Model has 3.132161m parameters\n"
     ]
    },
    {
     "name": "stderr",
     "output_type": "stream",
     "text": [
      "\r",
      "  0%|          | 0/434 [00:00<?, ?it/s]"
     ]
    },
    {
     "name": "stdout",
     "output_type": "stream",
     "text": [
      "X_train (111333, 2381) Y_train (111333,)\n",
      "X_test (12371, 2381) Y_test (12371,)\n",
      "Epoch 1 of 500\n"
     ]
    },
    {
     "name": "stderr",
     "output_type": "stream",
     "text": [
      "100%|██████████| 434/434 [00:03<00:00, 123.78it/s]\n",
      "100%|██████████| 49/49 [00:00<00:00, 118.76it/s]\n",
      "  0%|          | 0/434 [00:00<?, ?it/s]"
     ]
    },
    {
     "name": "stdout",
     "output_type": "stream",
     "text": [
      "Train Loss: 0.1158, Train Acc: 0.9533\n",
      "Val Loss: 0.0396, Val Acc: 0.9868\n",
      "Validation loss decreased (inf --> 0.039617).  Saving model ...\n",
      "../bodmas_model/best_model_epoch_1.pt\n",
      "../bodmas_model/best_optimizer_epoch_1.pt\n",
      "Epoch 2 of 500\n"
     ]
    },
    {
     "name": "stderr",
     "output_type": "stream",
     "text": [
      "100%|██████████| 434/434 [00:03<00:00, 126.42it/s]\n",
      "100%|██████████| 49/49 [00:00<00:00, 195.37it/s]\n",
      "  0%|          | 0/434 [00:00<?, ?it/s]"
     ]
    },
    {
     "name": "stdout",
     "output_type": "stream",
     "text": [
      "Train Loss: 0.0287, Train Acc: 0.9913\n",
      "Val Loss: 0.0240, Val Acc: 0.9931\n",
      "Validation loss decreased (0.039617 --> 0.023980).  Saving model ...\n",
      "../bodmas_model/best_model_epoch_2.pt\n",
      "../bodmas_model/best_optimizer_epoch_2.pt\n",
      "Epoch 3 of 500\n"
     ]
    },
    {
     "name": "stderr",
     "output_type": "stream",
     "text": [
      "100%|██████████| 434/434 [00:03<00:00, 120.41it/s]\n",
      "100%|██████████| 49/49 [00:00<00:00, 183.03it/s]\n",
      "  0%|          | 0/434 [00:00<?, ?it/s]"
     ]
    },
    {
     "name": "stdout",
     "output_type": "stream",
     "text": [
      "Train Loss: 0.0205, Train Acc: 0.9938\n",
      "Val Loss: 0.0257, Val Acc: 0.9931\n",
      "EarlyStopping counter: 1 out of 5\n",
      "Epoch 4 of 500\n"
     ]
    },
    {
     "name": "stderr",
     "output_type": "stream",
     "text": [
      "100%|██████████| 434/434 [00:03<00:00, 122.01it/s]\n",
      "100%|██████████| 49/49 [00:00<00:00, 276.90it/s]\n",
      "  0%|          | 0/434 [00:00<?, ?it/s]"
     ]
    },
    {
     "name": "stdout",
     "output_type": "stream",
     "text": [
      "Train Loss: 0.0166, Train Acc: 0.9950\n",
      "Val Loss: 0.0232, Val Acc: 0.9935\n",
      "Validation loss decreased (0.023980 --> 0.023187).  Saving model ...\n",
      "../bodmas_model/best_model_epoch_4.pt\n",
      "../bodmas_model/best_optimizer_epoch_4.pt\n",
      "Epoch 5 of 500\n"
     ]
    },
    {
     "name": "stderr",
     "output_type": "stream",
     "text": [
      "100%|██████████| 434/434 [00:03<00:00, 117.77it/s]\n",
      "100%|██████████| 49/49 [00:00<00:00, 206.64it/s]\n",
      "  0%|          | 0/434 [00:00<?, ?it/s]"
     ]
    },
    {
     "name": "stdout",
     "output_type": "stream",
     "text": [
      "Train Loss: 0.0144, Train Acc: 0.9959\n",
      "Val Loss: 0.0211, Val Acc: 0.9947\n",
      "Validation loss decreased (0.023187 --> 0.021051).  Saving model ...\n",
      "../bodmas_model/best_model_epoch_5.pt\n",
      "../bodmas_model/best_optimizer_epoch_5.pt\n",
      "Epoch 6 of 500\n"
     ]
    },
    {
     "name": "stderr",
     "output_type": "stream",
     "text": [
      "100%|██████████| 434/434 [00:03<00:00, 129.05it/s]\n",
      "100%|██████████| 49/49 [00:00<00:00, 155.16it/s]\n",
      "  0%|          | 0/434 [00:00<?, ?it/s]"
     ]
    },
    {
     "name": "stdout",
     "output_type": "stream",
     "text": [
      "Train Loss: 0.0116, Train Acc: 0.9968\n",
      "Val Loss: 0.0191, Val Acc: 0.9947\n",
      "Validation loss decreased (0.021051 --> 0.019109).  Saving model ...\n",
      "../bodmas_model/best_model_epoch_6.pt\n",
      "../bodmas_model/best_optimizer_epoch_6.pt\n",
      "Epoch 7 of 500\n"
     ]
    },
    {
     "name": "stderr",
     "output_type": "stream",
     "text": [
      "100%|██████████| 434/434 [00:03<00:00, 109.44it/s]\n",
      "100%|██████████| 49/49 [00:00<00:00, 164.02it/s]\n",
      "  0%|          | 0/434 [00:00<?, ?it/s]"
     ]
    },
    {
     "name": "stdout",
     "output_type": "stream",
     "text": [
      "Train Loss: 0.0106, Train Acc: 0.9971\n",
      "Val Loss: 0.0184, Val Acc: 0.9954\n",
      "Validation loss decreased (0.019109 --> 0.018409).  Saving model ...\n",
      "../bodmas_model/best_model_epoch_7.pt\n",
      "../bodmas_model/best_optimizer_epoch_7.pt\n",
      "Epoch 8 of 500\n"
     ]
    },
    {
     "name": "stderr",
     "output_type": "stream",
     "text": [
      "100%|██████████| 434/434 [00:03<00:00, 123.63it/s]\n",
      "100%|██████████| 434/434 [00:03<00:00, 132.19it/s]\n",
      "100%|██████████| 49/49 [00:00<00:00, 148.36it/s]\n",
      "  0%|          | 0/434 [00:00<?, ?it/s]"
     ]
    },
    {
     "name": "stdout",
     "output_type": "stream",
     "text": [
      "Train Loss: 0.0281, Train Acc: 0.9916\n",
      "Val Loss: 0.0401, Val Acc: 0.9902\n",
      "Validation loss decreased (0.059049 --> 0.040105).  Saving model ...\n",
      "../bodmas_model/best_model_epoch_2.pt\n",
      "../bodmas_model/best_optimizer_epoch_2.pt\n",
      "Epoch 3 of 500\n"
     ]
    },
    {
     "name": "stderr",
     "output_type": "stream",
     "text": [
      "100%|██████████| 434/434 [00:03<00:00, 126.82it/s]\n",
      "100%|██████████| 49/49 [00:00<00:00, 168.87it/s]\n",
      "  0%|          | 0/434 [00:00<?, ?it/s]"
     ]
    },
    {
     "name": "stdout",
     "output_type": "stream",
     "text": [
      "Train Loss: 0.0213, Train Acc: 0.9938\n",
      "Val Loss: 0.0342, Val Acc: 0.9921\n",
      "Validation loss decreased (0.040105 --> 0.034193).  Saving model ...\n",
      "../bodmas_model/best_model_epoch_3.pt\n",
      "../bodmas_model/best_optimizer_epoch_3.pt\n",
      "Epoch 4 of 500\n"
     ]
    },
    {
     "name": "stderr",
     "output_type": "stream",
     "text": [
      "100%|██████████| 434/434 [00:03<00:00, 117.19it/s]\n",
      "100%|██████████| 49/49 [00:00<00:00, 200.71it/s]\n",
      "  0%|          | 0/434 [00:00<?, ?it/s]"
     ]
    },
    {
     "name": "stdout",
     "output_type": "stream",
     "text": [
      "Train Loss: 0.0173, Train Acc: 0.9946\n",
      "Val Loss: 0.0346, Val Acc: 0.9930\n",
      "EarlyStopping counter: 1 out of 5\n",
      "Epoch 5 of 500\n"
     ]
    },
    {
     "name": "stderr",
     "output_type": "stream",
     "text": [
      "100%|██████████| 434/434 [00:03<00:00, 130.47it/s]\n",
      "100%|██████████| 49/49 [00:00<00:00, 267.17it/s]\n",
      "  0%|          | 0/434 [00:00<?, ?it/s]"
     ]
    },
    {
     "name": "stdout",
     "output_type": "stream",
     "text": [
      "Train Loss: 0.0146, Train Acc: 0.9962\n",
      "Val Loss: 0.0318, Val Acc: 0.9933\n",
      "Validation loss decreased (0.034193 --> 0.031773).  Saving model ...\n",
      "../bodmas_model/best_model_epoch_5.pt\n",
      "../bodmas_model/best_optimizer_epoch_5.pt\n",
      "Epoch 6 of 500\n"
     ]
    },
    {
     "name": "stderr",
     "output_type": "stream",
     "text": [
      "100%|██████████| 434/434 [00:03<00:00, 128.07it/s]\n",
      "100%|██████████| 49/49 [00:00<00:00, 187.94it/s]\n",
      "  0%|          | 0/434 [00:00<?, ?it/s]"
     ]
    },
    {
     "name": "stdout",
     "output_type": "stream",
     "text": [
      "Train Loss: 0.0133, Train Acc: 0.9962\n",
      "Val Loss: 0.0316, Val Acc: 0.9936\n",
      "Validation loss decreased (0.031773 --> 0.031572).  Saving model ...\n",
      "../bodmas_model/best_model_epoch_6.pt\n",
      "../bodmas_model/best_optimizer_epoch_6.pt\n",
      "Epoch 7 of 500\n"
     ]
    },
    {
     "name": "stderr",
     "output_type": "stream",
     "text": [
      "100%|██████████| 434/434 [00:03<00:00, 127.64it/s]\n",
      "100%|██████████| 49/49 [00:00<00:00, 268.82it/s]\n",
      "  0%|          | 0/434 [00:00<?, ?it/s]"
     ]
    },
    {
     "name": "stdout",
     "output_type": "stream",
     "text": [
      "Train Loss: 0.0116, Train Acc: 0.9966\n",
      "Val Loss: 0.0294, Val Acc: 0.9946\n",
      "Validation loss decreased (0.031572 --> 0.029418).  Saving model ...\n",
      "../bodmas_model/best_model_epoch_7.pt\n",
      "../bodmas_model/best_optimizer_epoch_7.pt\n",
      "Epoch 8 of 500\n"
     ]
    },
    {
     "name": "stderr",
     "output_type": "stream",
     "text": [
      "100%|██████████| 434/434 [00:03<00:00, 123.16it/s]\n",
      "100%|██████████| 49/49 [00:00<00:00, 253.68it/s]\n",
      "  0%|          | 0/434 [00:00<?, ?it/s]"
     ]
    },
    {
     "name": "stdout",
     "output_type": "stream",
     "text": [
      "Train Loss: 0.0096, Train Acc: 0.9973\n",
      "Val Loss: 0.0301, Val Acc: 0.9947\n",
      "EarlyStopping counter: 1 out of 5\n",
      "Epoch 9 of 500\n"
     ]
    },
    {
     "name": "stderr",
     "output_type": "stream",
     "text": [
      "100%|██████████| 434/434 [00:03<00:00, 127.60it/s]\n",
      "100%|██████████| 49/49 [00:00<00:00, 197.22it/s]\n",
      "  0%|          | 0/434 [00:00<?, ?it/s]"
     ]
    },
    {
     "name": "stdout",
     "output_type": "stream",
     "text": [
      "Train Loss: 0.0087, Train Acc: 0.9974\n",
      "Val Loss: 0.0308, Val Acc: 0.9947\n",
      "EarlyStopping counter: 2 out of 5\n",
      "Epoch 10 of 500\n"
     ]
    },
    {
     "name": "stderr",
     "output_type": "stream",
     "text": [
      "100%|██████████| 434/434 [00:03<00:00, 129.16it/s]\n",
      "100%|██████████| 49/49 [00:00<00:00, 241.71it/s]\n",
      "  0%|          | 0/434 [00:00<?, ?it/s]"
     ]
    },
    {
     "name": "stdout",
     "output_type": "stream",
     "text": [
      "Train Loss: 0.0083, Train Acc: 0.9975\n",
      "Val Loss: 0.0291, Val Acc: 0.9951\n",
      "Validation loss decreased (0.029418 --> 0.029102).  Saving model ...\n",
      "../bodmas_model/best_model_epoch_10.pt\n",
      "../bodmas_model/best_optimizer_epoch_10.pt\n",
      "Epoch 11 of 500\n"
     ]
    },
    {
     "name": "stderr",
     "output_type": "stream",
     "text": [
      "100%|██████████| 434/434 [00:03<00:00, 129.45it/s]\n",
      "100%|██████████| 49/49 [00:00<00:00, 230.23it/s]\n",
      "  0%|          | 0/434 [00:00<?, ?it/s]"
     ]
    },
    {
     "name": "stdout",
     "output_type": "stream",
     "text": [
      "Train Loss: 0.0078, Train Acc: 0.9979\n",
      "Val Loss: 0.0309, Val Acc: 0.9943\n",
      "EarlyStopping counter: 1 out of 5\n",
      "Epoch 12 of 500\n"
     ]
    },
    {
     "name": "stderr",
     "output_type": "stream",
     "text": [
      "100%|██████████| 434/434 [00:03<00:00, 127.59it/s]\n",
      "100%|██████████| 49/49 [00:00<00:00, 240.24it/s]\n",
      "  0%|          | 0/434 [00:00<?, ?it/s]"
     ]
    },
    {
     "name": "stdout",
     "output_type": "stream",
     "text": [
      "Train Loss: 0.0068, Train Acc: 0.9981\n",
      "Val Loss: 0.0338, Val Acc: 0.9940\n",
      "EarlyStopping counter: 2 out of 5\n",
      "Epoch 13 of 500\n"
     ]
    },
    {
     "name": "stderr",
     "output_type": "stream",
     "text": [
      "100%|██████████| 434/434 [00:03<00:00, 130.35it/s]\n",
      "100%|██████████| 49/49 [00:00<00:00, 232.49it/s]\n",
      "  0%|          | 0/434 [00:00<?, ?it/s]"
     ]
    },
    {
     "name": "stdout",
     "output_type": "stream",
     "text": [
      "Train Loss: 0.0060, Train Acc: 0.9983\n",
      "Val Loss: 0.0318, Val Acc: 0.9942\n",
      "EarlyStopping counter: 3 out of 5\n",
      "Epoch 14 of 500\n"
     ]
    },
    {
     "name": "stderr",
     "output_type": "stream",
     "text": [
      "100%|██████████| 434/434 [00:03<00:00, 128.36it/s]\n",
      "100%|██████████| 49/49 [00:00<00:00, 146.20it/s]\n",
      "  0%|          | 0/434 [00:00<?, ?it/s]"
     ]
    },
    {
     "name": "stdout",
     "output_type": "stream",
     "text": [
      "Train Loss: 0.0060, Train Acc: 0.9983\n",
      "Val Loss: 0.0312, Val Acc: 0.9943\n",
      "EarlyStopping counter: 4 out of 5\n",
      "Epoch 15 of 500\n"
     ]
    },
    {
     "name": "stderr",
     "output_type": "stream",
     "text": [
      "100%|██████████| 434/434 [00:03<00:00, 134.51it/s]\n",
      "100%|██████████| 49/49 [00:00<00:00, 222.72it/s]\n",
      "  0%|          | 0/49 [00:00<?, ?it/s]"
     ]
    },
    {
     "name": "stdout",
     "output_type": "stream",
     "text": [
      "Train Loss: 0.0061, Train Acc: 0.9983\n",
      "Val Loss: 0.0320, Val Acc: 0.9948\n",
      "EarlyStopping counter: 5 out of 5\n",
      "Early stopping\n",
      "Training time: 0.921 minutes\n",
      "Elapsed time 1.0294949173927308 mins.\n"
     ]
    },
    {
     "name": "stderr",
     "output_type": "stream",
     "text": [
      "100%|██████████| 49/49 [00:00<00:00, 93.66it/s] \n"
     ]
    },
    {
     "name": "stdout",
     "output_type": "stream",
     "text": [
      "test accuracy 0.9940143215412997 and ROC-AUC 0.9941212220225454\n",
      "\n",
      "Torch 1.6.0 CUDA 10.2\n",
      "Model has 3.132161m parameters\n"
     ]
    },
    {
     "name": "stderr",
     "output_type": "stream",
     "text": [
      "\r",
      "  0%|          | 0/434 [00:00<?, ?it/s]"
     ]
    },
    {
     "name": "stdout",
     "output_type": "stream",
     "text": [
      "X_train (111333, 2381) Y_train (111333,)\n",
      "X_test (12371, 2381) Y_test (12371,)\n",
      "Epoch 1 of 500\n"
     ]
    },
    {
     "name": "stderr",
     "output_type": "stream",
     "text": [
      "100%|██████████| 434/434 [00:03<00:00, 116.43it/s]\n",
      "100%|██████████| 49/49 [00:00<00:00, 186.80it/s]\n",
      "  0%|          | 0/434 [00:00<?, ?it/s]"
     ]
    },
    {
     "name": "stdout",
     "output_type": "stream",
     "text": [
      "Train Loss: 0.1183, Train Acc: 0.9509\n",
      "Val Loss: 0.0298, Val Acc: 0.9903\n",
      "Validation loss decreased (inf --> 0.029758).  Saving model ...\n",
      "../bodmas_model/best_model_epoch_1.pt\n",
      "../bodmas_model/best_optimizer_epoch_1.pt\n",
      "Epoch 2 of 500\n"
     ]
    },
    {
     "name": "stderr",
     "output_type": "stream",
     "text": [
      "100%|██████████| 434/434 [00:03<00:00, 117.76it/s]\n",
      "100%|██████████| 49/49 [00:00<00:00, 205.28it/s]\n",
      "  0%|          | 0/434 [00:00<?, ?it/s]"
     ]
    },
    {
     "name": "stdout",
     "output_type": "stream",
     "text": [
      "Train Loss: 0.0280, Train Acc: 0.9914\n",
      "Val Loss: 0.0269, Val Acc: 0.9925\n",
      "Validation loss decreased (0.029758 --> 0.026942).  Saving model ...\n",
      "../bodmas_model/best_model_epoch_2.pt\n",
      "../bodmas_model/best_optimizer_epoch_2.pt\n",
      "Epoch 3 of 500\n"
     ]
    },
    {
     "name": "stderr",
     "output_type": "stream",
     "text": [
      "100%|██████████| 434/434 [00:03<00:00, 132.07it/s]\n",
      "100%|██████████| 49/49 [00:00<00:00, 196.43it/s]\n",
      "  0%|          | 0/434 [00:00<?, ?it/s]"
     ]
    },
    {
     "name": "stdout",
     "output_type": "stream",
     "text": [
      "Train Loss: 0.0210, Train Acc: 0.9936\n",
      "Val Loss: 0.0238, Val Acc: 0.9932\n",
      "Validation loss decreased (0.026942 --> 0.023850).  Saving model ...\n",
      "../bodmas_model/best_model_epoch_3.pt\n",
      "../bodmas_model/best_optimizer_epoch_3.pt\n",
      "Epoch 4 of 500\n"
     ]
    },
    {
     "name": "stderr",
     "output_type": "stream",
     "text": [
      "100%|██████████| 434/434 [00:03<00:00, 128.11it/s]\n",
      "100%|██████████| 49/49 [00:00<00:00, 193.06it/s]\n",
      "  0%|          | 0/434 [00:00<?, ?it/s]"
     ]
    },
    {
     "name": "stdout",
     "output_type": "stream",
     "text": [
      "Train Loss: 0.0159, Train Acc: 0.9954\n",
      "Val Loss: 0.0195, Val Acc: 0.9943\n",
      "Validation loss decreased (0.023850 --> 0.019477).  Saving model ...\n",
      "../bodmas_model/best_model_epoch_4.pt\n",
      "../bodmas_model/best_optimizer_epoch_4.pt\n",
      "Epoch 5 of 500\n"
     ]
    },
    {
     "name": "stderr",
     "output_type": "stream",
     "text": [
      "100%|██████████| 434/434 [00:03<00:00, 129.73it/s]\n",
      "100%|██████████| 49/49 [00:00<00:00, 230.61it/s]\n",
      "  0%|          | 0/434 [00:00<?, ?it/s]"
     ]
    },
    {
     "name": "stdout",
     "output_type": "stream",
     "text": [
      "Train Loss: 0.0142, Train Acc: 0.9958\n",
      "Val Loss: 0.0191, Val Acc: 0.9941\n",
      "Validation loss decreased (0.019477 --> 0.019123).  Saving model ...\n",
      "../bodmas_model/best_model_epoch_5.pt\n",
      "../bodmas_model/best_optimizer_epoch_5.pt\n",
      "Epoch 6 of 500\n"
     ]
    },
    {
     "name": "stderr",
     "output_type": "stream",
     "text": [
      "100%|██████████| 434/434 [00:03<00:00, 129.69it/s]\n",
      "100%|██████████| 49/49 [00:00<00:00, 256.89it/s]\n",
      "  0%|          | 0/434 [00:00<?, ?it/s]"
     ]
    },
    {
     "name": "stdout",
     "output_type": "stream",
     "text": [
      "Train Loss: 0.0126, Train Acc: 0.9963\n",
      "Val Loss: 0.0177, Val Acc: 0.9947\n",
      "Validation loss decreased (0.019123 --> 0.017716).  Saving model ...\n",
      "../bodmas_model/best_model_epoch_6.pt\n",
      "../bodmas_model/best_optimizer_epoch_6.pt\n",
      "Epoch 7 of 500\n"
     ]
    },
    {
     "name": "stderr",
     "output_type": "stream",
     "text": [
      "100%|██████████| 434/434 [00:03<00:00, 130.77it/s]\n",
      "100%|██████████| 49/49 [00:00<00:00, 237.93it/s]\n",
      "  0%|          | 0/434 [00:00<?, ?it/s]"
     ]
    },
    {
     "name": "stdout",
     "output_type": "stream",
     "text": [
      "Train Loss: 0.0119, Train Acc: 0.9968\n",
      "Val Loss: 0.0199, Val Acc: 0.9948\n",
      "EarlyStopping counter: 1 out of 5\n",
      "Epoch 8 of 500\n"
     ]
    },
    {
     "name": "stderr",
     "output_type": "stream",
     "text": [
      "100%|██████████| 434/434 [00:03<00:00, 127.04it/s]\n",
      "100%|██████████| 49/49 [00:00<00:00, 290.27it/s]\n",
      "  0%|          | 0/434 [00:00<?, ?it/s]"
     ]
    },
    {
     "name": "stdout",
     "output_type": "stream",
     "text": [
      "Train Loss: 0.0093, Train Acc: 0.9973\n",
      "Val Loss: 0.0198, Val Acc: 0.9949\n",
      "EarlyStopping counter: 2 out of 5\n",
      "Epoch 9 of 500\n"
     ]
    },
    {
     "name": "stderr",
     "output_type": "stream",
     "text": [
      "100%|██████████| 434/434 [00:03<00:00, 129.52it/s]\n",
      "100%|██████████| 49/49 [00:00<00:00, 223.02it/s]\n",
      "  0%|          | 0/434 [00:00<?, ?it/s]"
     ]
    },
    {
     "name": "stdout",
     "output_type": "stream",
     "text": [
      "Train Loss: 0.0088, Train Acc: 0.9972\n",
      "Val Loss: 0.0188, Val Acc: 0.9951\n",
      "EarlyStopping counter: 3 out of 5\n",
      "Epoch 10 of 500\n"
     ]
    },
    {
     "name": "stderr",
     "output_type": "stream",
     "text": [
      "100%|██████████| 434/434 [00:03<00:00, 130.17it/s]\n",
      "100%|██████████| 49/49 [00:00<00:00, 196.86it/s]\n",
      "  0%|          | 0/434 [00:00<?, ?it/s]"
     ]
    },
    {
     "name": "stdout",
     "output_type": "stream",
     "text": [
      "Train Loss: 0.0085, Train Acc: 0.9975\n",
      "Val Loss: 0.0212, Val Acc: 0.9945\n",
      "EarlyStopping counter: 4 out of 5\n",
      "Epoch 11 of 500\n"
     ]
    },
    {
     "name": "stderr",
     "output_type": "stream",
     "text": [
      "100%|██████████| 434/434 [00:03<00:00, 113.22it/s]\n",
      "100%|██████████| 49/49 [00:00<00:00, 186.21it/s]\n",
      "  0%|          | 0/49 [00:00<?, ?it/s]"
     ]
    },
    {
     "name": "stdout",
     "output_type": "stream",
     "text": [
      "Train Loss: 0.0074, Train Acc: 0.9977\n",
      "Val Loss: 0.0186, Val Acc: 0.9953\n",
      "EarlyStopping counter: 5 out of 5\n",
      "Early stopping\n",
      "Training time: 0.685 minutes\n",
      "Elapsed time 0.787007478872935 mins.\n"
     ]
    },
    {
     "name": "stderr",
     "output_type": "stream",
     "text": [
      "100%|██████████| 49/49 [00:00<00:00, 79.38it/s] \n"
     ]
    },
    {
     "name": "stdout",
     "output_type": "stream",
     "text": [
      "test accuracy 0.9946587998039869 and ROC-AUC 0.9945861381424558\n",
      "\n",
      "Torch 1.6.0 CUDA 10.2\n",
      "Model has 3.132161m parameters\n"
     ]
    },
    {
     "name": "stderr",
     "output_type": "stream",
     "text": [
      "\r",
      "  0%|          | 0/434 [00:00<?, ?it/s]"
     ]
    },
    {
     "name": "stdout",
     "output_type": "stream",
     "text": [
      "X_train (111333, 2381) Y_train (111333,)\n",
      "X_test (12371, 2381) Y_test (12371,)\n",
      "Epoch 1 of 500\n"
     ]
    },
    {
     "name": "stderr",
     "output_type": "stream",
     "text": [
      "100%|██████████| 434/434 [00:03<00:00, 122.55it/s]\n",
      "100%|██████████| 49/49 [00:00<00:00, 250.11it/s]\n",
      "  0%|          | 0/434 [00:00<?, ?it/s]"
     ]
    },
    {
     "name": "stdout",
     "output_type": "stream",
     "text": [
      "Train Loss: 0.1150, Train Acc: 0.9522\n",
      "Val Loss: 0.0351, Val Acc: 0.9888\n",
      "Validation loss decreased (inf --> 0.035089).  Saving model ...\n",
      "../bodmas_model/best_model_epoch_1.pt\n",
      "../bodmas_model/best_optimizer_epoch_1.pt\n",
      "Epoch 2 of 500\n"
     ]
    },
    {
     "name": "stderr",
     "output_type": "stream",
     "text": [
      "100%|██████████| 434/434 [00:03<00:00, 116.15it/s]\n",
      "100%|██████████| 49/49 [00:00<00:00, 110.33it/s]\n",
      "  0%|          | 0/434 [00:00<?, ?it/s]"
     ]
    },
    {
     "name": "stdout",
     "output_type": "stream",
     "text": [
      "Train Loss: 0.0286, Train Acc: 0.9913\n",
      "Val Loss: 0.0251, Val Acc: 0.9925\n",
      "Validation loss decreased (0.035089 --> 0.025101).  Saving model ...\n",
      "../bodmas_model/best_model_epoch_2.pt\n",
      "../bodmas_model/best_optimizer_epoch_2.pt\n",
      "Epoch 3 of 500\n"
     ]
    },
    {
     "name": "stderr",
     "output_type": "stream",
     "text": [
      "100%|██████████| 434/434 [00:03<00:00, 125.17it/s]\n",
      "100%|██████████| 49/49 [00:00<00:00, 155.16it/s]\n",
      "  0%|          | 0/434 [00:00<?, ?it/s]"
     ]
    },
    {
     "name": "stdout",
     "output_type": "stream",
     "text": [
      "Train Loss: 0.0203, Train Acc: 0.9940\n",
      "Val Loss: 0.0191, Val Acc: 0.9941\n",
      "Validation loss decreased (0.025101 --> 0.019146).  Saving model ...\n",
      "../bodmas_model/best_model_epoch_3.pt\n",
      "../bodmas_model/best_optimizer_epoch_3.pt\n",
      "Epoch 4 of 500\n"
     ]
    },
    {
     "name": "stderr",
     "output_type": "stream",
     "text": [
      "100%|██████████| 434/434 [00:03<00:00, 117.84it/s]\n",
      "100%|██████████| 49/49 [00:00<00:00, 197.07it/s]\n",
      "  0%|          | 0/434 [00:00<?, ?it/s]"
     ]
    },
    {
     "name": "stdout",
     "output_type": "stream",
     "text": [
      "Train Loss: 0.0165, Train Acc: 0.9951\n",
      "Val Loss: 0.0194, Val Acc: 0.9943\n",
      "EarlyStopping counter: 1 out of 5\n",
      "Epoch 5 of 500\n"
     ]
    },
    {
     "name": "stderr",
     "output_type": "stream",
     "text": [
      "100%|██████████| 434/434 [00:03<00:00, 129.38it/s]\n",
      "100%|██████████| 49/49 [00:00<00:00, 174.12it/s]\n",
      "  0%|          | 0/434 [00:00<?, ?it/s]"
     ]
    },
    {
     "name": "stdout",
     "output_type": "stream",
     "text": [
      "Train Loss: 0.0138, Train Acc: 0.9958\n",
      "Val Loss: 0.0227, Val Acc: 0.9941\n",
      "EarlyStopping counter: 2 out of 5\n",
      "Epoch 6 of 500\n"
     ]
    },
    {
     "name": "stderr",
     "output_type": "stream",
     "text": [
      "100%|██████████| 434/434 [00:03<00:00, 119.32it/s]\n",
      "100%|██████████| 49/49 [00:00<00:00, 156.95it/s]\n",
      "  0%|          | 0/434 [00:00<?, ?it/s]"
     ]
    },
    {
     "name": "stdout",
     "output_type": "stream",
     "text": [
      "Train Loss: 0.0114, Train Acc: 0.9966\n",
      "Val Loss: 0.0214, Val Acc: 0.9940\n",
      "EarlyStopping counter: 3 out of 5\n",
      "Epoch 7 of 500\n"
     ]
    },
    {
     "name": "stderr",
     "output_type": "stream",
     "text": [
      "100%|██████████| 434/434 [00:03<00:00, 110.08it/s]\n",
      "100%|██████████| 49/49 [00:00<00:00, 162.62it/s]\n",
      "  0%|          | 0/434 [00:00<?, ?it/s]"
     ]
    },
    {
     "name": "stdout",
     "output_type": "stream",
     "text": [
      "Train Loss: 0.0107, Train Acc: 0.9970\n",
      "Val Loss: 0.0191, Val Acc: 0.9944\n",
      "Validation loss decreased (0.019146 --> 0.019070).  Saving model ...\n",
      "../bodmas_model/best_model_epoch_7.pt\n",
      "../bodmas_model/best_optimizer_epoch_7.pt\n",
      "Epoch 8 of 500\n"
     ]
    },
    {
     "name": "stderr",
     "output_type": "stream",
     "text": [
      "100%|██████████| 434/434 [00:03<00:00, 115.85it/s]\n",
      "100%|██████████| 49/49 [00:00<00:00, 165.38it/s]\n",
      "  0%|          | 0/434 [00:00<?, ?it/s]"
     ]
    },
    {
     "name": "stdout",
     "output_type": "stream",
     "text": [
      "Train Loss: 0.0108, Train Acc: 0.9970\n",
      "Val Loss: 0.0186, Val Acc: 0.9948\n",
      "Validation loss decreased (0.019070 --> 0.018559).  Saving model ...\n",
      "../bodmas_model/best_model_epoch_8.pt\n",
      "../bodmas_model/best_optimizer_epoch_8.pt\n",
      "Epoch 9 of 500\n"
     ]
    },
    {
     "name": "stderr",
     "output_type": "stream",
     "text": [
      "100%|██████████| 434/434 [00:03<00:00, 109.05it/s]\n",
      "100%|██████████| 49/49 [00:00<00:00, 193.53it/s]\n",
      "  0%|          | 0/434 [00:00<?, ?it/s]"
     ]
    },
    {
     "name": "stdout",
     "output_type": "stream",
     "text": [
      "Train Loss: 0.0095, Train Acc: 0.9973\n",
      "Val Loss: 0.0186, Val Acc: 0.9954\n",
      "EarlyStopping counter: 1 out of 5\n",
      "Epoch 10 of 500\n"
     ]
    },
    {
     "name": "stderr",
     "output_type": "stream",
     "text": [
      "100%|██████████| 434/434 [00:03<00:00, 118.40it/s]\n",
      "100%|██████████| 49/49 [00:00<00:00, 223.65it/s]\n",
      "  0%|          | 0/434 [00:00<?, ?it/s]"
     ]
    },
    {
     "name": "stdout",
     "output_type": "stream",
     "text": [
      "Train Loss: 0.0085, Train Acc: 0.9976\n",
      "Val Loss: 0.0197, Val Acc: 0.9951\n",
      "EarlyStopping counter: 2 out of 5\n",
      "Epoch 11 of 500\n"
     ]
    },
    {
     "name": "stderr",
     "output_type": "stream",
     "text": [
      "100%|██████████| 434/434 [00:03<00:00, 123.59it/s]\n",
      "100%|██████████| 49/49 [00:00<00:00, 200.45it/s]\n",
      "  0%|          | 0/434 [00:00<?, ?it/s]"
     ]
    },
    {
     "name": "stdout",
     "output_type": "stream",
     "text": [
      "Train Loss: 0.0069, Train Acc: 0.9980\n",
      "Val Loss: 0.0180, Val Acc: 0.9953\n",
      "Validation loss decreased (0.018559 --> 0.018039).  Saving model ...\n",
      "../bodmas_model/best_model_epoch_11.pt\n",
      "../bodmas_model/best_optimizer_epoch_11.pt\n",
      "Epoch 12 of 500\n"
     ]
    },
    {
     "name": "stderr",
     "output_type": "stream",
     "text": [
      "100%|██████████| 434/434 [00:03<00:00, 126.77it/s]\n",
      "100%|██████████| 49/49 [00:00<00:00, 198.43it/s]\n",
      "  0%|          | 0/434 [00:00<?, ?it/s]"
     ]
    },
    {
     "name": "stdout",
     "output_type": "stream",
     "text": [
      "Train Loss: 0.0069, Train Acc: 0.9979\n",
      "Val Loss: 0.0213, Val Acc: 0.9948\n",
      "EarlyStopping counter: 1 out of 5\n",
      "Epoch 13 of 500\n"
     ]
    },
    {
     "name": "stderr",
     "output_type": "stream",
     "text": [
      "100%|██████████| 434/434 [00:03<00:00, 118.80it/s]\n",
      "100%|██████████| 49/49 [00:00<00:00, 182.38it/s]\n",
      "  0%|          | 0/434 [00:00<?, ?it/s]"
     ]
    },
    {
     "name": "stdout",
     "output_type": "stream",
     "text": [
      "Train Loss: 0.0068, Train Acc: 0.9981\n",
      "Val Loss: 0.0190, Val Acc: 0.9953\n",
      "EarlyStopping counter: 2 out of 5\n",
      "Epoch 14 of 500\n"
     ]
    },
    {
     "name": "stderr",
     "output_type": "stream",
     "text": [
      "100%|██████████| 434/434 [00:03<00:00, 113.63it/s]\n",
      "100%|██████████| 49/49 [00:00<00:00, 196.45it/s]\n",
      "  0%|          | 0/434 [00:00<?, ?it/s]"
     ]
    },
    {
     "name": "stdout",
     "output_type": "stream",
     "text": [
      "Train Loss: 0.0065, Train Acc: 0.9982\n",
      "Val Loss: 0.0200, Val Acc: 0.9950\n",
      "EarlyStopping counter: 3 out of 5\n",
      "Epoch 15 of 500\n"
     ]
    },
    {
     "name": "stderr",
     "output_type": "stream",
     "text": [
      "100%|██████████| 434/434 [00:03<00:00, 118.25it/s]\n",
      "100%|██████████| 49/49 [00:00<00:00, 193.69it/s]\n",
      "  0%|          | 0/434 [00:00<?, ?it/s]"
     ]
    },
    {
     "name": "stdout",
     "output_type": "stream",
     "text": [
      "Train Loss: 0.0062, Train Acc: 0.9982\n",
      "Val Loss: 0.0206, Val Acc: 0.9949\n",
      "EarlyStopping counter: 4 out of 5\n",
      "Epoch 16 of 500\n"
     ]
    },
    {
     "name": "stderr",
     "output_type": "stream",
     "text": [
      "100%|██████████| 434/434 [00:03<00:00, 126.00it/s]\n",
      "100%|██████████| 49/49 [00:00<00:00, 151.93it/s]\n",
      "  0%|          | 0/49 [00:00<?, ?it/s]"
     ]
    },
    {
     "name": "stdout",
     "output_type": "stream",
     "text": [
      "Train Loss: 0.0055, Train Acc: 0.9984\n",
      "Val Loss: 0.0201, Val Acc: 0.9953\n",
      "EarlyStopping counter: 5 out of 5\n",
      "Early stopping\n",
      "Training time: 1.057 minutes\n",
      "Elapsed time 1.1583699544270833 mins.\n"
     ]
    },
    {
     "name": "stderr",
     "output_type": "stream",
     "text": [
      "100%|██████████| 49/49 [00:00<00:00, 87.24it/s] "
     ]
    },
    {
     "name": "stdout",
     "output_type": "stream",
     "text": [
      "test accuracy 0.9952898317453812 and ROC-AUC 0.9953749561533511\n",
      "\n"
     ]
    },
    {
     "name": "stderr",
     "output_type": "stream",
     "text": [
      "\n"
     ]
    }
   ],
   "source": [
    "exp_seeds = [random.randint(1, 99999) for i in range(10)]\n",
    "\n",
    "\n",
    "accs_all = []\n",
    "rocauc_all = []\n",
    "\n",
    "\n",
    "num_epoch = 500\n",
    "batch_size = 256\n",
    "patience = 5\n",
    "\n",
    "replay_type, current_task = 'bodmas', 'bodmas_joint'\n",
    "\n",
    "for exp in exp_seeds:\n",
    "    \n",
    "\n",
    "    X_train, X_test, Y_train, Y_test = train_test_split(X, y, test_size=0.1, random_state=exp)\n",
    "    start_time = time.time()\n",
    "    use_cuda = True\n",
    "    print('Torch', torch.__version__, 'CUDA', torch.version.cuda)\n",
    "    use_cuda = use_cuda and torch.cuda.is_available()\n",
    "    device = torch.device(\"cuda\" if use_cuda else \"cpu\")\n",
    "    torch.manual_seed(exp)\n",
    "\n",
    "    model = Ember_MLP_Net()\n",
    "    optimizer = torch.optim.SGD(model.parameters(), lr=0.01, momentum=0.9, weight_decay=0.000001)\n",
    "       \n",
    "    if torch.cuda.device_count() > 1:\n",
    "        print(\"Let's use\", torch.cuda.device_count(), \"GPUs!\")\n",
    "        model = nn.DataParallel(model)\n",
    "    \n",
    "    model = model.to(device)\n",
    "    print(f'Model has {count_parameters(model)/1000000}m parameters')    \n",
    "    criterion = nn.BCELoss()    \n",
    "\n",
    "\n",
    "    standardization = StandardScaler()\n",
    "    standard_scaler = standardization.fit(X_train)\n",
    "\n",
    "    X_train = standard_scaler.transform(X_train)\n",
    "    X_test = standard_scaler.transform(X_test)\n",
    "\n",
    "\n",
    "    X_train, Y_train = np.array(X_train, np.float32), np.array(Y_train, np.int32)\n",
    "    X_test, Y_test = np.array(X_test, np.float32), np.array(Y_test, np.int32)  \n",
    "\n",
    "    \n",
    "    \n",
    "    model_save_dir = '../bodmas_model/'\n",
    "    create_parent_folder(model_save_dir)\n",
    "\n",
    "    opt_save_path = '../bodmas_model/'\n",
    "    create_parent_folder(opt_save_path)\n",
    "\n",
    "    print(f'X_train {X_train.shape} Y_train {Y_train.shape}')\n",
    "    print(f'X_test {X_test.shape} Y_test {Y_test.shape}')\n",
    "    \n",
    "    \n",
    "    task_training_time, epoch_ran, training_loss, validation_loss  = training_early_stopping(\\\n",
    "                                 model, model_save_dir, opt_save_path, X_train, Y_train,\\\n",
    "                                 X_test, Y_test, patience, batch_size, device, optimizer, num_epoch,\\\n",
    "                                 criterion, replay_type, current_task, exp, earlystopping=True)\n",
    "\n",
    "    \n",
    "    end_time = time.time()\n",
    "\n",
    "    print(f'Elapsed time {(end_time - start_time)/60} mins.') \n",
    "    \n",
    "    acc, rocauc = testing_aucscore(model, X_test, Y_test, batch_size, device)\n",
    "    print()\n",
    "    accs_all.append(acc)\n",
    "    rocauc_all.append(rocauc)\n",
    "\n"
   ]
  },
  {
   "cell_type": "code",
   "execution_count": 12,
   "metadata": {},
   "outputs": [
    {
     "data": {
      "text/plain": [
       "(0.9952213555622429,\n",
       " 0.000742324851330087,\n",
       " 0.9952055019991739,\n",
       " 0.0007683991448096392)"
      ]
     },
     "execution_count": 12,
     "metadata": {},
     "output_type": "execute_result"
    }
   ],
   "source": [
    "np.mean(rocauc_all), np.std(rocauc_all), np.mean(accs_all), np.std(accs_all)"
   ]
  }
 ],
 "metadata": {
  "kernelspec": {
   "display_name": "PyTorch",
   "language": "python",
   "name": "pytorch"
  },
  "language_info": {
   "codemirror_mode": {
    "name": "ipython",
    "version": 3
   },
   "file_extension": ".py",
   "mimetype": "text/x-python",
   "name": "python",
   "nbconvert_exporter": "python",
   "pygments_lexer": "ipython3",
   "version": "3.7.9"
  }
 },
 "nbformat": 4,
 "nbformat_minor": 4
}
