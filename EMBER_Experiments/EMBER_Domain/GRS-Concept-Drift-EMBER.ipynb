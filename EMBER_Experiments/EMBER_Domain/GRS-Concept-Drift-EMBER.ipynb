{
 "cells": [
  {
   "cell_type": "code",
   "execution_count": 1,
   "metadata": {},
   "outputs": [],
   "source": [
    "import numpy as np\n",
    "import os\n",
    "import pandas as pd\n",
    "import matplotlib.pyplot as plt\n",
    "import time, random\n",
    "from tqdm import tqdm\n",
    "from sklearn.metrics import classification_report\n",
    "from sklearn.preprocessing import StandardScaler, QuantileTransformer\n",
    "import datetime\n",
    "import argparse\n",
    "import torch\n",
    "import torchvision\n",
    "import torch.nn as nn\n",
    "import torch.optim as optim\n",
    "import torch.nn.functional as F\n",
    "from torchvision import transforms, utils, datasets\n",
    "from torch.utils.data import Dataset, DataLoader\n",
    "\n",
    "from ember_utils import *\n",
    "from ember_model import *\n",
    "from ember_pjr_utils import *"
   ]
  },
  {
   "cell_type": "code",
   "execution_count": 11,
   "metadata": {},
   "outputs": [
    {
     "name": "stdout",
     "output_type": "stream",
     "text": [
      "Torch 1.2.0+cu92 CUDA 9.2.148\n",
      "Model has 3.132161m parameters\n",
      "\n",
      "2024-05-27 02:01:49 Round 1 ...\n",
      "Current Task ['2018-01'] with Budget none\n",
      "X_train (55722, 2381) Y_train (55722,)\n",
      "\n",
      "2024-05-27 02:01:50 Standardizing ...\n"
     ]
    },
    {
     "name": "stderr",
     "output_type": "stream",
     "text": [
      "\r",
      "  0%|          | 0/8 [00:00<?, ?it/s]"
     ]
    },
    {
     "name": "stdout",
     "output_type": "stream",
     "text": [
      "Epoch 1 of 100\n"
     ]
    },
    {
     "name": "stderr",
     "output_type": "stream",
     "text": [
      "100%|██████████| 8/8 [00:01<00:00,  6.56it/s]\n",
      "100%|██████████| 1/1 [00:00<00:00,  8.82it/s]\n",
      "  0%|          | 0/8 [00:00<?, ?it/s]"
     ]
    },
    {
     "name": "stdout",
     "output_type": "stream",
     "text": [
      "Train Loss: 0.6996, Train Acc: 0.5332\n",
      "Val Loss: 0.6825, Val Acc: 0.5536\n",
      "Validation loss decreased (inf --> 0.682466).  Saving model ...\n",
      "../../GRS_SavedModel/GRSModel_none/['2018-01']/best_model_epoch_1.pt\n",
      "../../GRS_SavedModel/GRSOpt_none/['2018-01']/best_optimizer_epoch_1.pt\n",
      "Epoch 2 of 100\n"
     ]
    },
    {
     "name": "stderr",
     "output_type": "stream",
     "text": [
      "100%|██████████| 8/8 [00:01<00:00,  6.46it/s]\n",
      "100%|██████████| 1/1 [00:00<00:00,  8.98it/s]\n",
      "  0%|          | 0/8 [00:00<?, ?it/s]"
     ]
    },
    {
     "name": "stdout",
     "output_type": "stream",
     "text": [
      "Train Loss: 0.6617, Train Acc: 0.6151\n",
      "Val Loss: 0.6499, Val Acc: 0.6505\n",
      "Validation loss decreased (0.682466 --> 0.649871).  Saving model ...\n",
      "../../GRS_SavedModel/GRSModel_none/['2018-01']/best_model_epoch_2.pt\n",
      "../../GRS_SavedModel/GRSOpt_none/['2018-01']/best_optimizer_epoch_2.pt\n",
      "Epoch 3 of 100\n"
     ]
    },
    {
     "name": "stderr",
     "output_type": "stream",
     "text": [
      "100%|██████████| 8/8 [00:01<00:00,  6.99it/s]\n",
      "100%|██████████| 1/1 [00:00<00:00,  4.64it/s]\n",
      "  0%|          | 0/8 [00:00<?, ?it/s]"
     ]
    },
    {
     "name": "stdout",
     "output_type": "stream",
     "text": [
      "Train Loss: 0.6184, Train Acc: 0.6816\n",
      "Val Loss: 0.5923, Val Acc: 0.7613\n",
      "Validation loss decreased (0.649871 --> 0.592328).  Saving model ...\n",
      "../../GRS_SavedModel/GRSModel_none/['2018-01']/best_model_epoch_3.pt\n",
      "../../GRS_SavedModel/GRSOpt_none/['2018-01']/best_optimizer_epoch_3.pt\n",
      "Epoch 4 of 100\n"
     ]
    },
    {
     "name": "stderr",
     "output_type": "stream",
     "text": [
      "100%|██████████| 8/8 [00:01<00:00,  6.50it/s]\n",
      "100%|██████████| 1/1 [00:00<00:00,  8.20it/s]\n",
      "  0%|          | 0/8 [00:00<?, ?it/s]"
     ]
    },
    {
     "name": "stdout",
     "output_type": "stream",
     "text": [
      "Train Loss: 0.5715, Train Acc: 0.7238\n",
      "Val Loss: 0.5229, Val Acc: 0.7897\n",
      "Validation loss decreased (0.592328 --> 0.522927).  Saving model ...\n",
      "../../GRS_SavedModel/GRSModel_none/['2018-01']/best_model_epoch_4.pt\n",
      "../../GRS_SavedModel/GRSOpt_none/['2018-01']/best_optimizer_epoch_4.pt\n",
      "Epoch 5 of 100\n"
     ]
    },
    {
     "name": "stderr",
     "output_type": "stream",
     "text": [
      "100%|██████████| 8/8 [00:01<00:00,  6.55it/s]\n",
      "100%|██████████| 1/1 [00:00<00:00,  8.32it/s]\n",
      "  0%|          | 0/8 [00:00<?, ?it/s]"
     ]
    },
    {
     "name": "stdout",
     "output_type": "stream",
     "text": [
      "Train Loss: 0.5170, Train Acc: 0.7577\n",
      "Val Loss: 0.4640, Val Acc: 0.8035\n",
      "Validation loss decreased (0.522927 --> 0.464026).  Saving model ...\n",
      "../../GRS_SavedModel/GRSModel_none/['2018-01']/best_model_epoch_5.pt\n",
      "../../GRS_SavedModel/GRSOpt_none/['2018-01']/best_optimizer_epoch_5.pt\n",
      "Epoch 6 of 100\n"
     ]
    },
    {
     "name": "stderr",
     "output_type": "stream",
     "text": [
      "100%|██████████| 8/8 [00:01<00:00,  7.41it/s]\n",
      "100%|██████████| 1/1 [00:00<00:00,  8.34it/s]\n",
      "  0%|          | 0/8 [00:00<?, ?it/s]"
     ]
    },
    {
     "name": "stdout",
     "output_type": "stream",
     "text": [
      "Train Loss: 0.4768, Train Acc: 0.7733\n",
      "Val Loss: 0.4197, Val Acc: 0.8093\n",
      "Validation loss decreased (0.464026 --> 0.419723).  Saving model ...\n",
      "../../GRS_SavedModel/GRSModel_none/['2018-01']/best_model_epoch_6.pt\n",
      "../../GRS_SavedModel/GRSOpt_none/['2018-01']/best_optimizer_epoch_6.pt\n",
      "Epoch 7 of 100\n"
     ]
    },
    {
     "name": "stderr",
     "output_type": "stream",
     "text": [
      "100%|██████████| 8/8 [00:01<00:00,  6.54it/s]\n",
      "100%|██████████| 1/1 [00:00<00:00,  8.20it/s]\n",
      "  0%|          | 0/8 [00:00<?, ?it/s]"
     ]
    },
    {
     "name": "stdout",
     "output_type": "stream",
     "text": [
      "Train Loss: 0.4320, Train Acc: 0.7978\n",
      "Val Loss: 0.3812, Val Acc: 0.8263\n",
      "Validation loss decreased (0.419723 --> 0.381195).  Saving model ...\n",
      "../../GRS_SavedModel/GRSModel_none/['2018-01']/best_model_epoch_7.pt\n",
      "../../GRS_SavedModel/GRSOpt_none/['2018-01']/best_optimizer_epoch_7.pt\n",
      "Epoch 8 of 100\n"
     ]
    },
    {
     "name": "stderr",
     "output_type": "stream",
     "text": [
      "100%|██████████| 8/8 [00:01<00:00,  7.74it/s]\n",
      "100%|██████████| 1/1 [00:00<00:00,  4.98it/s]\n",
      "  0%|          | 0/8 [00:00<?, ?it/s]"
     ]
    },
    {
     "name": "stdout",
     "output_type": "stream",
     "text": [
      "Train Loss: 0.3990, Train Acc: 0.8151\n",
      "Val Loss: 0.3439, Val Acc: 0.8446\n",
      "Validation loss decreased (0.381195 --> 0.343930).  Saving model ...\n",
      "../../GRS_SavedModel/GRSModel_none/['2018-01']/best_model_epoch_8.pt\n",
      "../../GRS_SavedModel/GRSOpt_none/['2018-01']/best_optimizer_epoch_8.pt\n",
      "Epoch 9 of 100\n"
     ]
    },
    {
     "name": "stderr",
     "output_type": "stream",
     "text": [
      "100%|██████████| 8/8 [00:01<00:00,  6.09it/s]\n",
      "100%|██████████| 1/1 [00:00<00:00,  9.01it/s]\n",
      "  0%|          | 0/8 [00:00<?, ?it/s]"
     ]
    },
    {
     "name": "stdout",
     "output_type": "stream",
     "text": [
      "Train Loss: 0.3730, Train Acc: 0.8313\n",
      "Val Loss: 0.3150, Val Acc: 0.8617\n",
      "Validation loss decreased (0.343930 --> 0.315028).  Saving model ...\n",
      "../../GRS_SavedModel/GRSModel_none/['2018-01']/best_model_epoch_9.pt\n",
      "../../GRS_SavedModel/GRSOpt_none/['2018-01']/best_optimizer_epoch_9.pt\n",
      "Epoch 10 of 100\n"
     ]
    },
    {
     "name": "stderr",
     "output_type": "stream",
     "text": [
      "100%|██████████| 8/8 [00:01<00:00,  6.75it/s]\n",
      "100%|██████████| 1/1 [00:00<00:00,  6.58it/s]\n",
      "  0%|          | 0/8 [00:00<?, ?it/s]"
     ]
    },
    {
     "name": "stdout",
     "output_type": "stream",
     "text": [
      "Train Loss: 0.3402, Train Acc: 0.8490\n",
      "Val Loss: 0.2933, Val Acc: 0.8690\n",
      "Validation loss decreased (0.315028 --> 0.293267).  Saving model ...\n",
      "../../GRS_SavedModel/GRSModel_none/['2018-01']/best_model_epoch_10.pt\n",
      "../../GRS_SavedModel/GRSOpt_none/['2018-01']/best_optimizer_epoch_10.pt\n",
      "Epoch 11 of 100\n"
     ]
    },
    {
     "name": "stderr",
     "output_type": "stream",
     "text": [
      "100%|██████████| 8/8 [00:01<00:00,  6.67it/s]\n",
      "100%|██████████| 1/1 [00:00<00:00,  9.69it/s]\n",
      "  0%|          | 0/8 [00:00<?, ?it/s]"
     ]
    },
    {
     "name": "stdout",
     "output_type": "stream",
     "text": [
      "Train Loss: 0.3202, Train Acc: 0.8609\n",
      "Val Loss: 0.2774, Val Acc: 0.8746\n",
      "Validation loss decreased (0.293267 --> 0.277352).  Saving model ...\n",
      "../../GRS_SavedModel/GRSModel_none/['2018-01']/best_model_epoch_11.pt\n",
      "../../GRS_SavedModel/GRSOpt_none/['2018-01']/best_optimizer_epoch_11.pt\n",
      "Epoch 12 of 100\n"
     ]
    },
    {
     "name": "stderr",
     "output_type": "stream",
     "text": [
      "100%|██████████| 8/8 [00:01<00:00,  6.76it/s]\n",
      "100%|██████████| 1/1 [00:00<00:00,  4.66it/s]\n",
      "  0%|          | 0/8 [00:00<?, ?it/s]"
     ]
    },
    {
     "name": "stdout",
     "output_type": "stream",
     "text": [
      "Train Loss: 0.2960, Train Acc: 0.8728\n",
      "Val Loss: 0.2638, Val Acc: 0.8807\n",
      "Validation loss decreased (0.277352 --> 0.263774).  Saving model ...\n",
      "../../GRS_SavedModel/GRSModel_none/['2018-01']/best_model_epoch_12.pt\n",
      "../../GRS_SavedModel/GRSOpt_none/['2018-01']/best_optimizer_epoch_12.pt\n",
      "Epoch 13 of 100\n"
     ]
    },
    {
     "name": "stderr",
     "output_type": "stream",
     "text": [
      "100%|██████████| 8/8 [00:01<00:00,  6.55it/s]\n",
      "100%|██████████| 1/1 [00:00<00:00,  8.38it/s]\n",
      "  0%|          | 0/8 [00:00<?, ?it/s]"
     ]
    },
    {
     "name": "stdout",
     "output_type": "stream",
     "text": [
      "Train Loss: 0.2847, Train Acc: 0.8781\n",
      "Val Loss: 0.2536, Val Acc: 0.8857\n",
      "Validation loss decreased (0.263774 --> 0.253641).  Saving model ...\n",
      "../../GRS_SavedModel/GRSModel_none/['2018-01']/best_model_epoch_13.pt\n",
      "../../GRS_SavedModel/GRSOpt_none/['2018-01']/best_optimizer_epoch_13.pt\n",
      "Epoch 14 of 100\n"
     ]
    },
    {
     "name": "stderr",
     "output_type": "stream",
     "text": [
      "100%|██████████| 8/8 [00:01<00:00,  6.44it/s]\n",
      "100%|██████████| 1/1 [00:00<00:00,  8.65it/s]\n",
      "  0%|          | 0/8 [00:00<?, ?it/s]"
     ]
    },
    {
     "name": "stdout",
     "output_type": "stream",
     "text": [
      "Train Loss: 0.2728, Train Acc: 0.8831\n",
      "Val Loss: 0.2472, Val Acc: 0.8904\n",
      "Validation loss decreased (0.253641 --> 0.247205).  Saving model ...\n",
      "../../GRS_SavedModel/GRSModel_none/['2018-01']/best_model_epoch_14.pt\n",
      "../../GRS_SavedModel/GRSOpt_none/['2018-01']/best_optimizer_epoch_14.pt\n",
      "Epoch 15 of 100\n"
     ]
    },
    {
     "name": "stderr",
     "output_type": "stream",
     "text": [
      "100%|██████████| 8/8 [00:01<00:00,  6.64it/s]\n",
      "100%|██████████| 1/1 [00:00<00:00,  8.07it/s]\n",
      "  0%|          | 0/8 [00:00<?, ?it/s]"
     ]
    },
    {
     "name": "stdout",
     "output_type": "stream",
     "text": [
      "Train Loss: 0.2567, Train Acc: 0.8919\n",
      "Val Loss: 0.2391, Val Acc: 0.8936\n",
      "Validation loss decreased (0.247205 --> 0.239080).  Saving model ...\n",
      "../../GRS_SavedModel/GRSModel_none/['2018-01']/best_model_epoch_15.pt\n",
      "../../GRS_SavedModel/GRSOpt_none/['2018-01']/best_optimizer_epoch_15.pt\n",
      "Epoch 16 of 100\n"
     ]
    },
    {
     "name": "stderr",
     "output_type": "stream",
     "text": [
      "100%|██████████| 8/8 [00:01<00:00,  5.91it/s]\n",
      "100%|██████████| 1/1 [00:00<00:00,  5.20it/s]\n",
      "  0%|          | 0/8 [00:00<?, ?it/s]"
     ]
    },
    {
     "name": "stdout",
     "output_type": "stream",
     "text": [
      "Train Loss: 0.2488, Train Acc: 0.8982\n",
      "Val Loss: 0.2340, Val Acc: 0.8965\n",
      "Validation loss decreased (0.239080 --> 0.233980).  Saving model ...\n",
      "../../GRS_SavedModel/GRSModel_none/['2018-01']/best_model_epoch_16.pt\n",
      "../../GRS_SavedModel/GRSOpt_none/['2018-01']/best_optimizer_epoch_16.pt\n",
      "Epoch 17 of 100\n"
     ]
    },
    {
     "name": "stderr",
     "output_type": "stream",
     "text": [
      "100%|██████████| 8/8 [00:01<00:00,  6.75it/s]\n",
      "100%|██████████| 1/1 [00:00<00:00,  9.14it/s]\n",
      "  0%|          | 0/8 [00:00<?, ?it/s]"
     ]
    },
    {
     "name": "stdout",
     "output_type": "stream",
     "text": [
      "Train Loss: 0.2406, Train Acc: 0.8997\n",
      "Val Loss: 0.2285, Val Acc: 0.8983\n",
      "Validation loss decreased (0.233980 --> 0.228536).  Saving model ...\n",
      "../../GRS_SavedModel/GRSModel_none/['2018-01']/best_model_epoch_17.pt\n",
      "../../GRS_SavedModel/GRSOpt_none/['2018-01']/best_optimizer_epoch_17.pt\n",
      "Epoch 18 of 100\n"
     ]
    },
    {
     "name": "stderr",
     "output_type": "stream",
     "text": [
      "100%|██████████| 8/8 [00:01<00:00,  6.16it/s]\n",
      "100%|██████████| 1/1 [00:00<00:00,  8.73it/s]\n",
      "  0%|          | 0/8 [00:00<?, ?it/s]"
     ]
    },
    {
     "name": "stdout",
     "output_type": "stream",
     "text": [
      "Train Loss: 0.2298, Train Acc: 0.9059\n",
      "Val Loss: 0.2211, Val Acc: 0.9022\n",
      "Validation loss decreased (0.228536 --> 0.221063).  Saving model ...\n",
      "../../GRS_SavedModel/GRSModel_none/['2018-01']/best_model_epoch_18.pt\n",
      "../../GRS_SavedModel/GRSOpt_none/['2018-01']/best_optimizer_epoch_18.pt\n",
      "Epoch 19 of 100\n"
     ]
    },
    {
     "name": "stderr",
     "output_type": "stream",
     "text": [
      "100%|██████████| 8/8 [00:01<00:00,  6.68it/s]\n",
      "100%|██████████| 1/1 [00:00<00:00,  8.84it/s]\n",
      "  0%|          | 0/8 [00:00<?, ?it/s]"
     ]
    },
    {
     "name": "stdout",
     "output_type": "stream",
     "text": [
      "Train Loss: 0.2256, Train Acc: 0.9067\n",
      "Val Loss: 0.2165, Val Acc: 0.9067\n",
      "Validation loss decreased (0.221063 --> 0.216453).  Saving model ...\n",
      "../../GRS_SavedModel/GRSModel_none/['2018-01']/best_model_epoch_19.pt\n",
      "../../GRS_SavedModel/GRSOpt_none/['2018-01']/best_optimizer_epoch_19.pt\n",
      "Epoch 20 of 100\n"
     ]
    },
    {
     "name": "stderr",
     "output_type": "stream",
     "text": [
      "100%|██████████| 8/8 [00:01<00:00,  6.78it/s]\n",
      "100%|██████████| 1/1 [00:00<00:00,  4.98it/s]\n",
      "  0%|          | 0/8 [00:00<?, ?it/s]"
     ]
    },
    {
     "name": "stdout",
     "output_type": "stream",
     "text": [
      "Train Loss: 0.2192, Train Acc: 0.9091\n",
      "Val Loss: 0.2133, Val Acc: 0.9087\n",
      "Validation loss decreased (0.216453 --> 0.213346).  Saving model ...\n",
      "../../GRS_SavedModel/GRSModel_none/['2018-01']/best_model_epoch_20.pt\n",
      "../../GRS_SavedModel/GRSOpt_none/['2018-01']/best_optimizer_epoch_20.pt\n",
      "Epoch 21 of 100\n"
     ]
    },
    {
     "name": "stderr",
     "output_type": "stream",
     "text": [
      "100%|██████████| 8/8 [00:01<00:00,  6.73it/s]\n",
      "100%|██████████| 1/1 [00:00<00:00,  7.13it/s]\n",
      "  0%|          | 0/8 [00:00<?, ?it/s]"
     ]
    },
    {
     "name": "stdout",
     "output_type": "stream",
     "text": [
      "Train Loss: 0.2119, Train Acc: 0.9153\n",
      "Val Loss: 0.2095, Val Acc: 0.9099\n",
      "Validation loss decreased (0.213346 --> 0.209499).  Saving model ...\n",
      "../../GRS_SavedModel/GRSModel_none/['2018-01']/best_model_epoch_21.pt\n",
      "../../GRS_SavedModel/GRSOpt_none/['2018-01']/best_optimizer_epoch_21.pt\n",
      "Epoch 22 of 100\n"
     ]
    },
    {
     "name": "stderr",
     "output_type": "stream",
     "text": [
      "100%|██████████| 8/8 [00:01<00:00,  6.70it/s]\n",
      "100%|██████████| 1/1 [00:00<00:00,  7.74it/s]\n",
      "  0%|          | 0/8 [00:00<?, ?it/s]"
     ]
    },
    {
     "name": "stdout",
     "output_type": "stream",
     "text": [
      "Train Loss: 0.2062, Train Acc: 0.9159\n",
      "Val Loss: 0.2066, Val Acc: 0.9114\n",
      "Validation loss decreased (0.209499 --> 0.206628).  Saving model ...\n",
      "../../GRS_SavedModel/GRSModel_none/['2018-01']/best_model_epoch_22.pt\n",
      "../../GRS_SavedModel/GRSOpt_none/['2018-01']/best_optimizer_epoch_22.pt\n",
      "Epoch 23 of 100\n"
     ]
    },
    {
     "name": "stderr",
     "output_type": "stream",
     "text": [
      "100%|██████████| 8/8 [00:01<00:00,  6.64it/s]\n",
      "100%|██████████| 1/1 [00:00<00:00,  7.67it/s]\n",
      "  0%|          | 0/8 [00:00<?, ?it/s]"
     ]
    },
    {
     "name": "stdout",
     "output_type": "stream",
     "text": [
      "Train Loss: 0.2080, Train Acc: 0.9169\n",
      "Val Loss: 0.2028, Val Acc: 0.9137\n",
      "Validation loss decreased (0.206628 --> 0.202789).  Saving model ...\n",
      "../../GRS_SavedModel/GRSModel_none/['2018-01']/best_model_epoch_23.pt\n",
      "../../GRS_SavedModel/GRSOpt_none/['2018-01']/best_optimizer_epoch_23.pt\n",
      "Epoch 24 of 100\n"
     ]
    },
    {
     "name": "stderr",
     "output_type": "stream",
     "text": [
      "100%|██████████| 8/8 [00:01<00:00,  6.77it/s]\n",
      "100%|██████████| 1/1 [00:00<00:00,  4.59it/s]\n",
      "  0%|          | 0/8 [00:00<?, ?it/s]"
     ]
    },
    {
     "name": "stdout",
     "output_type": "stream",
     "text": [
      "Train Loss: 0.1926, Train Acc: 0.9228\n",
      "Val Loss: 0.2000, Val Acc: 0.9160\n",
      "Validation loss decreased (0.202789 --> 0.200014).  Saving model ...\n",
      "../../GRS_SavedModel/GRSModel_none/['2018-01']/best_model_epoch_24.pt\n",
      "../../GRS_SavedModel/GRSOpt_none/['2018-01']/best_optimizer_epoch_24.pt\n",
      "Epoch 25 of 100\n"
     ]
    },
    {
     "name": "stderr",
     "output_type": "stream",
     "text": [
      "100%|██████████| 8/8 [00:01<00:00,  6.48it/s]\n",
      "100%|██████████| 1/1 [00:00<00:00,  8.13it/s]\n",
      "  0%|          | 0/8 [00:00<?, ?it/s]"
     ]
    },
    {
     "name": "stdout",
     "output_type": "stream",
     "text": [
      "Train Loss: 0.1891, Train Acc: 0.9249\n",
      "Val Loss: 0.1993, Val Acc: 0.9155\n",
      "Validation loss decreased (0.200014 --> 0.199336).  Saving model ...\n",
      "../../GRS_SavedModel/GRSModel_none/['2018-01']/best_model_epoch_25.pt\n",
      "../../GRS_SavedModel/GRSOpt_none/['2018-01']/best_optimizer_epoch_25.pt\n",
      "Epoch 26 of 100\n"
     ]
    },
    {
     "name": "stderr",
     "output_type": "stream",
     "text": [
      "100%|██████████| 8/8 [00:01<00:00,  6.41it/s]\n",
      "100%|██████████| 1/1 [00:00<00:00,  8.55it/s]\n",
      "  0%|          | 0/8 [00:00<?, ?it/s]"
     ]
    },
    {
     "name": "stdout",
     "output_type": "stream",
     "text": [
      "Train Loss: 0.1902, Train Acc: 0.9246\n",
      "Val Loss: 0.1976, Val Acc: 0.9155\n",
      "Validation loss decreased (0.199336 --> 0.197628).  Saving model ...\n",
      "../../GRS_SavedModel/GRSModel_none/['2018-01']/best_model_epoch_26.pt\n",
      "../../GRS_SavedModel/GRSOpt_none/['2018-01']/best_optimizer_epoch_26.pt\n",
      "Epoch 27 of 100\n"
     ]
    },
    {
     "name": "stderr",
     "output_type": "stream",
     "text": [
      "100%|██████████| 8/8 [00:01<00:00,  6.71it/s]\n",
      "100%|██████████| 1/1 [00:00<00:00,  8.75it/s]\n",
      "  0%|          | 0/8 [00:00<?, ?it/s]"
     ]
    },
    {
     "name": "stdout",
     "output_type": "stream",
     "text": [
      "Train Loss: 0.1868, Train Acc: 0.9246\n",
      "Val Loss: 0.1970, Val Acc: 0.9167\n",
      "Validation loss decreased (0.197628 --> 0.197036).  Saving model ...\n",
      "../../GRS_SavedModel/GRSModel_none/['2018-01']/best_model_epoch_27.pt\n",
      "../../GRS_SavedModel/GRSOpt_none/['2018-01']/best_optimizer_epoch_27.pt\n",
      "Epoch 28 of 100\n"
     ]
    },
    {
     "name": "stderr",
     "output_type": "stream",
     "text": [
      "100%|██████████| 8/8 [00:01<00:00,  6.79it/s]\n",
      "100%|██████████| 1/1 [00:00<00:00,  8.46it/s]\n",
      "  0%|          | 0/8 [00:00<?, ?it/s]"
     ]
    },
    {
     "name": "stdout",
     "output_type": "stream",
     "text": [
      "Train Loss: 0.1808, Train Acc: 0.9272\n",
      "Val Loss: 0.1947, Val Acc: 0.9173\n",
      "Validation loss decreased (0.197036 --> 0.194689).  Saving model ...\n",
      "../../GRS_SavedModel/GRSModel_none/['2018-01']/best_model_epoch_28.pt\n",
      "../../GRS_SavedModel/GRSOpt_none/['2018-01']/best_optimizer_epoch_28.pt\n",
      "Epoch 29 of 100\n"
     ]
    },
    {
     "name": "stderr",
     "output_type": "stream",
     "text": [
      "100%|██████████| 8/8 [00:01<00:00,  6.19it/s]\n",
      "100%|██████████| 1/1 [00:00<00:00,  4.76it/s]\n",
      "  0%|          | 0/8 [00:00<?, ?it/s]"
     ]
    },
    {
     "name": "stdout",
     "output_type": "stream",
     "text": [
      "Train Loss: 0.1779, Train Acc: 0.9289\n",
      "Val Loss: 0.1901, Val Acc: 0.9187\n",
      "Validation loss decreased (0.194689 --> 0.190075).  Saving model ...\n",
      "../../GRS_SavedModel/GRSModel_none/['2018-01']/best_model_epoch_29.pt\n",
      "../../GRS_SavedModel/GRSOpt_none/['2018-01']/best_optimizer_epoch_29.pt\n",
      "Epoch 30 of 100\n"
     ]
    },
    {
     "name": "stderr",
     "output_type": "stream",
     "text": [
      "100%|██████████| 8/8 [00:01<00:00,  6.56it/s]\n",
      "100%|██████████| 1/1 [00:00<00:00,  8.41it/s]\n",
      "  0%|          | 0/8 [00:00<?, ?it/s]"
     ]
    },
    {
     "name": "stdout",
     "output_type": "stream",
     "text": [
      "Train Loss: 0.1729, Train Acc: 0.9301\n",
      "Val Loss: 0.1891, Val Acc: 0.9202\n",
      "Validation loss decreased (0.190075 --> 0.189144).  Saving model ...\n",
      "../../GRS_SavedModel/GRSModel_none/['2018-01']/best_model_epoch_30.pt\n",
      "../../GRS_SavedModel/GRSOpt_none/['2018-01']/best_optimizer_epoch_30.pt\n",
      "Epoch 31 of 100\n"
     ]
    },
    {
     "name": "stderr",
     "output_type": "stream",
     "text": [
      "100%|██████████| 8/8 [00:01<00:00,  6.57it/s]\n",
      "100%|██████████| 1/1 [00:00<00:00,  8.33it/s]\n",
      "  0%|          | 0/8 [00:00<?, ?it/s]"
     ]
    },
    {
     "name": "stdout",
     "output_type": "stream",
     "text": [
      "Train Loss: 0.1727, Train Acc: 0.9305\n",
      "Val Loss: 0.1864, Val Acc: 0.9221\n",
      "Validation loss decreased (0.189144 --> 0.186446).  Saving model ...\n",
      "../../GRS_SavedModel/GRSModel_none/['2018-01']/best_model_epoch_31.pt\n",
      "../../GRS_SavedModel/GRSOpt_none/['2018-01']/best_optimizer_epoch_31.pt\n",
      "Epoch 32 of 100\n"
     ]
    },
    {
     "name": "stderr",
     "output_type": "stream",
     "text": [
      "100%|██████████| 8/8 [00:01<00:00,  6.56it/s]\n",
      "100%|██████████| 1/1 [00:00<00:00,  8.39it/s]\n",
      "  0%|          | 0/8 [00:00<?, ?it/s]"
     ]
    },
    {
     "name": "stdout",
     "output_type": "stream",
     "text": [
      "Train Loss: 0.1677, Train Acc: 0.9344\n",
      "Val Loss: 0.1852, Val Acc: 0.9212\n",
      "Validation loss decreased (0.186446 --> 0.185245).  Saving model ...\n",
      "../../GRS_SavedModel/GRSModel_none/['2018-01']/best_model_epoch_32.pt\n",
      "../../GRS_SavedModel/GRSOpt_none/['2018-01']/best_optimizer_epoch_32.pt\n",
      "Epoch 33 of 100\n"
     ]
    },
    {
     "name": "stderr",
     "output_type": "stream",
     "text": [
      "100%|██████████| 8/8 [00:01<00:00,  6.78it/s]\n",
      "100%|██████████| 1/1 [00:00<00:00,  4.40it/s]\n",
      "  0%|          | 0/8 [00:00<?, ?it/s]"
     ]
    },
    {
     "name": "stdout",
     "output_type": "stream",
     "text": [
      "Train Loss: 0.1688, Train Acc: 0.9331\n",
      "Val Loss: 0.1839, Val Acc: 0.9210\n",
      "Validation loss decreased (0.185245 --> 0.183932).  Saving model ...\n",
      "../../GRS_SavedModel/GRSModel_none/['2018-01']/best_model_epoch_33.pt\n",
      "../../GRS_SavedModel/GRSOpt_none/['2018-01']/best_optimizer_epoch_33.pt\n",
      "Epoch 34 of 100\n"
     ]
    },
    {
     "name": "stderr",
     "output_type": "stream",
     "text": [
      "100%|██████████| 8/8 [00:01<00:00,  6.70it/s]\n",
      "100%|██████████| 1/1 [00:00<00:00,  8.65it/s]\n",
      "  0%|          | 0/8 [00:00<?, ?it/s]"
     ]
    },
    {
     "name": "stdout",
     "output_type": "stream",
     "text": [
      "Train Loss: 0.1688, Train Acc: 0.9335\n",
      "Val Loss: 0.1829, Val Acc: 0.9219\n",
      "Validation loss decreased (0.183932 --> 0.182892).  Saving model ...\n",
      "../../GRS_SavedModel/GRSModel_none/['2018-01']/best_model_epoch_34.pt\n",
      "../../GRS_SavedModel/GRSOpt_none/['2018-01']/best_optimizer_epoch_34.pt\n",
      "Epoch 35 of 100\n"
     ]
    },
    {
     "name": "stderr",
     "output_type": "stream",
     "text": [
      "100%|██████████| 8/8 [00:01<00:00,  6.20it/s]\n",
      "100%|██████████| 1/1 [00:00<00:00,  8.50it/s]\n",
      "  0%|          | 0/8 [00:00<?, ?it/s]"
     ]
    },
    {
     "name": "stdout",
     "output_type": "stream",
     "text": [
      "Train Loss: 0.1602, Train Acc: 0.9358\n",
      "Val Loss: 0.1816, Val Acc: 0.9230\n",
      "Validation loss decreased (0.182892 --> 0.181585).  Saving model ...\n",
      "../../GRS_SavedModel/GRSModel_none/['2018-01']/best_model_epoch_35.pt\n",
      "../../GRS_SavedModel/GRSOpt_none/['2018-01']/best_optimizer_epoch_35.pt\n",
      "Epoch 36 of 100\n"
     ]
    },
    {
     "name": "stderr",
     "output_type": "stream",
     "text": [
      "100%|██████████| 8/8 [00:01<00:00,  6.72it/s]\n",
      "100%|██████████| 1/1 [00:00<00:00,  8.86it/s]\n",
      "  0%|          | 0/8 [00:00<?, ?it/s]"
     ]
    },
    {
     "name": "stdout",
     "output_type": "stream",
     "text": [
      "Train Loss: 0.1577, Train Acc: 0.9374\n",
      "Val Loss: 0.1819, Val Acc: 0.9228\n",
      "EarlyStopping counter: 1 out of 5\n",
      "Epoch 37 of 100\n"
     ]
    },
    {
     "name": "stderr",
     "output_type": "stream",
     "text": [
      "100%|██████████| 8/8 [00:01<00:00,  7.67it/s]\n",
      "100%|██████████| 1/1 [00:00<00:00,  5.47it/s]\n",
      "  0%|          | 0/8 [00:00<?, ?it/s]"
     ]
    },
    {
     "name": "stdout",
     "output_type": "stream",
     "text": [
      "Train Loss: 0.1547, Train Acc: 0.9386\n",
      "Val Loss: 0.1800, Val Acc: 0.9241\n",
      "Validation loss decreased (0.181585 --> 0.179987).  Saving model ...\n",
      "../../GRS_SavedModel/GRSModel_none/['2018-01']/best_model_epoch_37.pt\n",
      "../../GRS_SavedModel/GRSOpt_none/['2018-01']/best_optimizer_epoch_37.pt\n",
      "Epoch 38 of 100\n"
     ]
    },
    {
     "name": "stderr",
     "output_type": "stream",
     "text": [
      "100%|██████████| 8/8 [00:01<00:00,  6.63it/s]\n",
      "100%|██████████| 1/1 [00:00<00:00,  8.31it/s]\n",
      "  0%|          | 0/8 [00:00<?, ?it/s]"
     ]
    },
    {
     "name": "stdout",
     "output_type": "stream",
     "text": [
      "Train Loss: 0.1578, Train Acc: 0.9386\n",
      "Val Loss: 0.1816, Val Acc: 0.9228\n",
      "EarlyStopping counter: 1 out of 5\n",
      "Epoch 39 of 100\n"
     ]
    },
    {
     "name": "stderr",
     "output_type": "stream",
     "text": [
      "100%|██████████| 8/8 [00:01<00:00,  6.00it/s]\n",
      "100%|██████████| 1/1 [00:00<00:00,  8.52it/s]\n",
      "  0%|          | 0/8 [00:00<?, ?it/s]"
     ]
    },
    {
     "name": "stdout",
     "output_type": "stream",
     "text": [
      "Train Loss: 0.1520, Train Acc: 0.9411\n",
      "Val Loss: 0.1779, Val Acc: 0.9264\n",
      "Validation loss decreased (0.179987 --> 0.177929).  Saving model ...\n",
      "../../GRS_SavedModel/GRSModel_none/['2018-01']/best_model_epoch_39.pt\n",
      "../../GRS_SavedModel/GRSOpt_none/['2018-01']/best_optimizer_epoch_39.pt\n",
      "Epoch 40 of 100\n"
     ]
    },
    {
     "name": "stderr",
     "output_type": "stream",
     "text": [
      "100%|██████████| 8/8 [00:01<00:00,  6.69it/s]\n",
      "100%|██████████| 1/1 [00:00<00:00,  8.82it/s]\n",
      "  0%|          | 0/8 [00:00<?, ?it/s]"
     ]
    },
    {
     "name": "stdout",
     "output_type": "stream",
     "text": [
      "Train Loss: 0.1501, Train Acc: 0.9404\n",
      "Val Loss: 0.1777, Val Acc: 0.9254\n",
      "Validation loss decreased (0.177929 --> 0.177659).  Saving model ...\n",
      "../../GRS_SavedModel/GRSModel_none/['2018-01']/best_model_epoch_40.pt\n",
      "../../GRS_SavedModel/GRSOpt_none/['2018-01']/best_optimizer_epoch_40.pt\n",
      "Epoch 41 of 100\n"
     ]
    },
    {
     "name": "stderr",
     "output_type": "stream",
     "text": [
      "100%|██████████| 8/8 [00:01<00:00,  6.82it/s]\n",
      "100%|██████████| 1/1 [00:00<00:00,  4.77it/s]\n",
      "  0%|          | 0/8 [00:00<?, ?it/s]"
     ]
    },
    {
     "name": "stdout",
     "output_type": "stream",
     "text": [
      "Train Loss: 0.1483, Train Acc: 0.9426\n",
      "Val Loss: 0.1776, Val Acc: 0.9264\n",
      "Validation loss decreased (0.177659 --> 0.177616).  Saving model ...\n",
      "../../GRS_SavedModel/GRSModel_none/['2018-01']/best_model_epoch_41.pt\n",
      "../../GRS_SavedModel/GRSOpt_none/['2018-01']/best_optimizer_epoch_41.pt\n",
      "Epoch 42 of 100\n"
     ]
    },
    {
     "name": "stderr",
     "output_type": "stream",
     "text": [
      "100%|██████████| 8/8 [00:01<00:00,  6.54it/s]\n",
      "100%|██████████| 1/1 [00:00<00:00,  8.46it/s]\n",
      "  0%|          | 0/8 [00:00<?, ?it/s]"
     ]
    },
    {
     "name": "stdout",
     "output_type": "stream",
     "text": [
      "Train Loss: 0.1443, Train Acc: 0.9440\n",
      "Val Loss: 0.1777, Val Acc: 0.9252\n",
      "EarlyStopping counter: 1 out of 5\n",
      "Epoch 43 of 100\n"
     ]
    },
    {
     "name": "stderr",
     "output_type": "stream",
     "text": [
      "100%|██████████| 8/8 [00:01<00:00,  6.22it/s]\n",
      "100%|██████████| 1/1 [00:00<00:00,  8.39it/s]\n",
      "  0%|          | 0/8 [00:00<?, ?it/s]"
     ]
    },
    {
     "name": "stdout",
     "output_type": "stream",
     "text": [
      "Train Loss: 0.1408, Train Acc: 0.9458\n",
      "Val Loss: 0.1745, Val Acc: 0.9279\n",
      "Validation loss decreased (0.177616 --> 0.174477).  Saving model ...\n",
      "../../GRS_SavedModel/GRSModel_none/['2018-01']/best_model_epoch_43.pt\n",
      "../../GRS_SavedModel/GRSOpt_none/['2018-01']/best_optimizer_epoch_43.pt\n",
      "Epoch 44 of 100\n"
     ]
    },
    {
     "name": "stderr",
     "output_type": "stream",
     "text": [
      "100%|██████████| 8/8 [00:01<00:00,  6.69it/s]\n",
      "100%|██████████| 1/1 [00:00<00:00,  8.83it/s]\n",
      "  0%|          | 0/8 [00:00<?, ?it/s]"
     ]
    },
    {
     "name": "stdout",
     "output_type": "stream",
     "text": [
      "Train Loss: 0.1416, Train Acc: 0.9448\n",
      "Val Loss: 0.1732, Val Acc: 0.9280\n",
      "Validation loss decreased (0.174477 --> 0.173205).  Saving model ...\n",
      "../../GRS_SavedModel/GRSModel_none/['2018-01']/best_model_epoch_44.pt\n",
      "../../GRS_SavedModel/GRSOpt_none/['2018-01']/best_optimizer_epoch_44.pt\n",
      "Epoch 45 of 100\n"
     ]
    },
    {
     "name": "stderr",
     "output_type": "stream",
     "text": [
      "100%|██████████| 8/8 [00:01<00:00,  6.74it/s]\n",
      "100%|██████████| 1/1 [00:00<00:00,  4.83it/s]\n",
      "  0%|          | 0/8 [00:00<?, ?it/s]"
     ]
    },
    {
     "name": "stdout",
     "output_type": "stream",
     "text": [
      "Train Loss: 0.1429, Train Acc: 0.9447\n",
      "Val Loss: 0.1720, Val Acc: 0.9297\n",
      "Validation loss decreased (0.173205 --> 0.171957).  Saving model ...\n",
      "../../GRS_SavedModel/GRSModel_none/['2018-01']/best_model_epoch_45.pt\n",
      "../../GRS_SavedModel/GRSOpt_none/['2018-01']/best_optimizer_epoch_45.pt\n",
      "Epoch 46 of 100\n"
     ]
    },
    {
     "name": "stderr",
     "output_type": "stream",
     "text": [
      "100%|██████████| 8/8 [00:01<00:00,  6.53it/s]\n",
      "100%|██████████| 1/1 [00:00<00:00, 10.44it/s]\n",
      "  0%|          | 0/8 [00:00<?, ?it/s]"
     ]
    },
    {
     "name": "stdout",
     "output_type": "stream",
     "text": [
      "Train Loss: 0.1362, Train Acc: 0.9471\n",
      "Val Loss: 0.1740, Val Acc: 0.9288\n",
      "EarlyStopping counter: 1 out of 5\n",
      "Epoch 47 of 100\n"
     ]
    },
    {
     "name": "stderr",
     "output_type": "stream",
     "text": [
      "100%|██████████| 8/8 [00:01<00:00,  6.36it/s]\n",
      "100%|██████████| 1/1 [00:00<00:00,  8.33it/s]\n",
      "  0%|          | 0/8 [00:00<?, ?it/s]"
     ]
    },
    {
     "name": "stdout",
     "output_type": "stream",
     "text": [
      "Train Loss: 0.1343, Train Acc: 0.9482\n",
      "Val Loss: 0.1738, Val Acc: 0.9282\n",
      "EarlyStopping counter: 2 out of 5\n",
      "Epoch 48 of 100\n"
     ]
    },
    {
     "name": "stderr",
     "output_type": "stream",
     "text": [
      "100%|██████████| 8/8 [00:01<00:00,  6.76it/s]\n",
      "100%|██████████| 1/1 [00:00<00:00, 10.67it/s]\n",
      "  0%|          | 0/8 [00:00<?, ?it/s]"
     ]
    },
    {
     "name": "stdout",
     "output_type": "stream",
     "text": [
      "Train Loss: 0.1330, Train Acc: 0.9479\n",
      "Val Loss: 0.1726, Val Acc: 0.9297\n",
      "EarlyStopping counter: 3 out of 5\n",
      "Epoch 49 of 100\n"
     ]
    },
    {
     "name": "stderr",
     "output_type": "stream",
     "text": [
      "100%|██████████| 8/8 [00:01<00:00,  6.26it/s]\n",
      "100%|██████████| 1/1 [00:00<00:00,  4.69it/s]\n",
      "  0%|          | 0/8 [00:00<?, ?it/s]"
     ]
    },
    {
     "name": "stdout",
     "output_type": "stream",
     "text": [
      "Train Loss: 0.1318, Train Acc: 0.9490\n",
      "Val Loss: 0.1714, Val Acc: 0.9298\n",
      "Validation loss decreased (0.171957 --> 0.171415).  Saving model ...\n",
      "../../GRS_SavedModel/GRSModel_none/['2018-01']/best_model_epoch_49.pt\n",
      "../../GRS_SavedModel/GRSOpt_none/['2018-01']/best_optimizer_epoch_49.pt\n",
      "Epoch 50 of 100\n"
     ]
    },
    {
     "name": "stderr",
     "output_type": "stream",
     "text": [
      "100%|██████████| 8/8 [00:01<00:00,  6.57it/s]\n",
      "100%|██████████| 1/1 [00:00<00:00,  8.41it/s]\n",
      "  0%|          | 0/8 [00:00<?, ?it/s]"
     ]
    },
    {
     "name": "stdout",
     "output_type": "stream",
     "text": [
      "Train Loss: 0.1307, Train Acc: 0.9502\n",
      "Val Loss: 0.1700, Val Acc: 0.9309\n",
      "Validation loss decreased (0.171415 --> 0.169973).  Saving model ...\n",
      "../../GRS_SavedModel/GRSModel_none/['2018-01']/best_model_epoch_50.pt\n",
      "../../GRS_SavedModel/GRSOpt_none/['2018-01']/best_optimizer_epoch_50.pt\n",
      "Epoch 51 of 100\n"
     ]
    },
    {
     "name": "stderr",
     "output_type": "stream",
     "text": [
      "100%|██████████| 8/8 [00:01<00:00,  6.39it/s]\n",
      "100%|██████████| 1/1 [00:00<00:00,  8.56it/s]\n",
      "  0%|          | 0/8 [00:00<?, ?it/s]"
     ]
    },
    {
     "name": "stdout",
     "output_type": "stream",
     "text": [
      "Train Loss: 0.1236, Train Acc: 0.9525\n",
      "Val Loss: 0.1693, Val Acc: 0.9307\n",
      "Validation loss decreased (0.169973 --> 0.169318).  Saving model ...\n",
      "../../GRS_SavedModel/GRSModel_none/['2018-01']/best_model_epoch_51.pt\n",
      "../../GRS_SavedModel/GRSOpt_none/['2018-01']/best_optimizer_epoch_51.pt\n",
      "Epoch 52 of 100\n"
     ]
    },
    {
     "name": "stderr",
     "output_type": "stream",
     "text": [
      "100%|██████████| 8/8 [00:01<00:00,  6.71it/s]\n",
      "100%|██████████| 1/1 [00:00<00:00,  7.72it/s]\n",
      "  0%|          | 0/8 [00:00<?, ?it/s]"
     ]
    },
    {
     "name": "stdout",
     "output_type": "stream",
     "text": [
      "Train Loss: 0.1262, Train Acc: 0.9517\n",
      "Val Loss: 0.1704, Val Acc: 0.9313\n",
      "EarlyStopping counter: 1 out of 5\n",
      "Epoch 53 of 100\n"
     ]
    },
    {
     "name": "stderr",
     "output_type": "stream",
     "text": [
      "100%|██████████| 8/8 [00:01<00:00,  7.26it/s]\n",
      "100%|██████████| 1/1 [00:00<00:00, 10.17it/s]\n",
      "  0%|          | 0/8 [00:00<?, ?it/s]"
     ]
    },
    {
     "name": "stdout",
     "output_type": "stream",
     "text": [
      "Train Loss: 0.1251, Train Acc: 0.9512\n",
      "Val Loss: 0.1716, Val Acc: 0.9311\n",
      "EarlyStopping counter: 2 out of 5\n",
      "Epoch 54 of 100\n"
     ]
    },
    {
     "name": "stderr",
     "output_type": "stream",
     "text": [
      "100%|██████████| 8/8 [00:01<00:00,  5.53it/s]\n",
      "100%|██████████| 1/1 [00:00<00:00,  4.76it/s]\n",
      "  0%|          | 0/8 [00:00<?, ?it/s]"
     ]
    },
    {
     "name": "stdout",
     "output_type": "stream",
     "text": [
      "Train Loss: 0.1254, Train Acc: 0.9521\n",
      "Val Loss: 0.1703, Val Acc: 0.9325\n",
      "EarlyStopping counter: 3 out of 5\n",
      "Epoch 55 of 100\n"
     ]
    },
    {
     "name": "stderr",
     "output_type": "stream",
     "text": [
      "100%|██████████| 8/8 [00:01<00:00,  6.58it/s]\n",
      "100%|██████████| 1/1 [00:00<00:00,  8.14it/s]\n",
      "  0%|          | 0/8 [00:00<?, ?it/s]"
     ]
    },
    {
     "name": "stdout",
     "output_type": "stream",
     "text": [
      "Train Loss: 0.1221, Train Acc: 0.9526\n",
      "Val Loss: 0.1691, Val Acc: 0.9332\n",
      "Validation loss decreased (0.169318 --> 0.169054).  Saving model ...\n",
      "../../GRS_SavedModel/GRSModel_none/['2018-01']/best_model_epoch_55.pt\n",
      "../../GRS_SavedModel/GRSOpt_none/['2018-01']/best_optimizer_epoch_55.pt\n",
      "Epoch 56 of 100\n"
     ]
    },
    {
     "name": "stderr",
     "output_type": "stream",
     "text": [
      "100%|██████████| 8/8 [00:01<00:00,  6.06it/s]\n",
      "100%|██████████| 1/1 [00:00<00:00,  8.48it/s]\n",
      "  0%|          | 0/8 [00:00<?, ?it/s]"
     ]
    },
    {
     "name": "stdout",
     "output_type": "stream",
     "text": [
      "Train Loss: 0.1176, Train Acc: 0.9541\n",
      "Val Loss: 0.1693, Val Acc: 0.9341\n",
      "EarlyStopping counter: 1 out of 5\n",
      "Epoch 57 of 100\n"
     ]
    },
    {
     "name": "stderr",
     "output_type": "stream",
     "text": [
      "100%|██████████| 8/8 [00:01<00:00,  6.50it/s]\n",
      "100%|██████████| 1/1 [00:00<00:00,  9.09it/s]\n",
      "  0%|          | 0/8 [00:00<?, ?it/s]"
     ]
    },
    {
     "name": "stdout",
     "output_type": "stream",
     "text": [
      "Train Loss: 0.1202, Train Acc: 0.9532\n",
      "Val Loss: 0.1675, Val Acc: 0.9356\n",
      "Validation loss decreased (0.169054 --> 0.167524).  Saving model ...\n",
      "../../GRS_SavedModel/GRSModel_none/['2018-01']/best_model_epoch_57.pt\n",
      "../../GRS_SavedModel/GRSOpt_none/['2018-01']/best_optimizer_epoch_57.pt\n",
      "Epoch 58 of 100\n"
     ]
    },
    {
     "name": "stderr",
     "output_type": "stream",
     "text": [
      "100%|██████████| 8/8 [00:01<00:00,  6.67it/s]\n",
      "100%|██████████| 1/1 [00:00<00:00,  4.54it/s]\n",
      "  0%|          | 0/8 [00:00<?, ?it/s]"
     ]
    },
    {
     "name": "stdout",
     "output_type": "stream",
     "text": [
      "Train Loss: 0.1177, Train Acc: 0.9556\n",
      "Val Loss: 0.1691, Val Acc: 0.9345\n",
      "EarlyStopping counter: 1 out of 5\n",
      "Epoch 59 of 100\n"
     ]
    },
    {
     "name": "stderr",
     "output_type": "stream",
     "text": [
      "100%|██████████| 8/8 [00:01<00:00,  6.57it/s]\n",
      "100%|██████████| 1/1 [00:00<00:00,  8.49it/s]\n",
      "  0%|          | 0/8 [00:00<?, ?it/s]"
     ]
    },
    {
     "name": "stdout",
     "output_type": "stream",
     "text": [
      "Train Loss: 0.1144, Train Acc: 0.9559\n",
      "Val Loss: 0.1700, Val Acc: 0.9338\n",
      "EarlyStopping counter: 2 out of 5\n",
      "Epoch 60 of 100\n"
     ]
    },
    {
     "name": "stderr",
     "output_type": "stream",
     "text": [
      "100%|██████████| 8/8 [00:01<00:00,  6.20it/s]\n",
      "100%|██████████| 1/1 [00:00<00:00,  8.49it/s]\n",
      "  0%|          | 0/8 [00:00<?, ?it/s]"
     ]
    },
    {
     "name": "stdout",
     "output_type": "stream",
     "text": [
      "Train Loss: 0.1133, Train Acc: 0.9569\n",
      "Val Loss: 0.1685, Val Acc: 0.9341\n",
      "EarlyStopping counter: 3 out of 5\n",
      "Epoch 61 of 100\n"
     ]
    },
    {
     "name": "stderr",
     "output_type": "stream",
     "text": [
      "100%|██████████| 8/8 [00:01<00:00,  6.72it/s]\n",
      "100%|██████████| 1/1 [00:00<00:00,  8.88it/s]\n",
      "  0%|          | 0/8 [00:00<?, ?it/s]"
     ]
    },
    {
     "name": "stdout",
     "output_type": "stream",
     "text": [
      "Train Loss: 0.1129, Train Acc: 0.9563\n",
      "Val Loss: 0.1678, Val Acc: 0.9334\n",
      "EarlyStopping counter: 4 out of 5\n",
      "Epoch 62 of 100\n"
     ]
    },
    {
     "name": "stderr",
     "output_type": "stream",
     "text": [
      "100%|██████████| 8/8 [00:01<00:00,  6.83it/s]\n",
      "100%|██████████| 1/1 [00:00<00:00,  4.50it/s]\n",
      "  0%|          | 0/8 [00:00<?, ?it/s]"
     ]
    },
    {
     "name": "stdout",
     "output_type": "stream",
     "text": [
      "Train Loss: 0.1121, Train Acc: 0.9577\n",
      "Val Loss: 0.1668, Val Acc: 0.9347\n",
      "Validation loss decreased (0.167524 --> 0.166783).  Saving model ...\n",
      "../../GRS_SavedModel/GRSModel_none/['2018-01']/best_model_epoch_62.pt\n",
      "../../GRS_SavedModel/GRSOpt_none/['2018-01']/best_optimizer_epoch_62.pt\n",
      "Epoch 63 of 100\n"
     ]
    },
    {
     "name": "stderr",
     "output_type": "stream",
     "text": [
      "100%|██████████| 8/8 [00:01<00:00,  6.64it/s]\n",
      "100%|██████████| 1/1 [00:00<00:00,  9.71it/s]\n",
      "  0%|          | 0/8 [00:00<?, ?it/s]"
     ]
    },
    {
     "name": "stdout",
     "output_type": "stream",
     "text": [
      "Train Loss: 0.1115, Train Acc: 0.9574\n",
      "Val Loss: 0.1692, Val Acc: 0.9350\n",
      "EarlyStopping counter: 1 out of 5\n",
      "Epoch 64 of 100\n"
     ]
    },
    {
     "name": "stderr",
     "output_type": "stream",
     "text": [
      "100%|██████████| 8/8 [00:01<00:00,  6.68it/s]\n",
      "100%|██████████| 1/1 [00:00<00:00,  8.39it/s]\n",
      "  0%|          | 0/8 [00:00<?, ?it/s]"
     ]
    },
    {
     "name": "stdout",
     "output_type": "stream",
     "text": [
      "Train Loss: 0.1111, Train Acc: 0.9582\n",
      "Val Loss: 0.1685, Val Acc: 0.9334\n",
      "EarlyStopping counter: 2 out of 5\n",
      "Epoch 65 of 100\n"
     ]
    },
    {
     "name": "stderr",
     "output_type": "stream",
     "text": [
      "100%|██████████| 8/8 [00:01<00:00,  6.44it/s]\n",
      "100%|██████████| 1/1 [00:00<00:00,  8.34it/s]\n",
      "  0%|          | 0/8 [00:00<?, ?it/s]"
     ]
    },
    {
     "name": "stdout",
     "output_type": "stream",
     "text": [
      "Train Loss: 0.1092, Train Acc: 0.9590\n",
      "Val Loss: 0.1686, Val Acc: 0.9350\n",
      "EarlyStopping counter: 3 out of 5\n",
      "Epoch 66 of 100\n"
     ]
    },
    {
     "name": "stderr",
     "output_type": "stream",
     "text": [
      "100%|██████████| 8/8 [00:01<00:00,  6.02it/s]\n",
      "100%|██████████| 1/1 [00:00<00:00,  4.41it/s]\n",
      "  0%|          | 0/8 [00:00<?, ?it/s]"
     ]
    },
    {
     "name": "stdout",
     "output_type": "stream",
     "text": [
      "Train Loss: 0.1048, Train Acc: 0.9597\n",
      "Val Loss: 0.1673, Val Acc: 0.9354\n",
      "EarlyStopping counter: 4 out of 5\n",
      "Epoch 67 of 100\n"
     ]
    },
    {
     "name": "stderr",
     "output_type": "stream",
     "text": [
      "100%|██████████| 8/8 [00:01<00:00,  6.50it/s]\n",
      "100%|██████████| 1/1 [00:00<00:00,  9.76it/s]\n"
     ]
    },
    {
     "name": "stdout",
     "output_type": "stream",
     "text": [
      "Train Loss: 0.1045, Train Acc: 0.9602\n",
      "Val Loss: 0.1673, Val Acc: 0.9363\n",
      "EarlyStopping counter: 5 out of 5\n",
      "Early stopping\n",
      "Training time: 1.577 minutes\n",
      "loading best model ../../GRS_SavedModel/GRSModel_none/['2018-01']/best_model_epoch_62.pt\n",
      "loading best optimizer ../../GRS_SavedModel/GRSOpt_none/['2018-01']/best_optimizer_epoch_62.pt\n"
     ]
    },
    {
     "name": "stderr",
     "output_type": "stream",
     "text": [
      "100%|██████████| 2/2 [00:00<00:00,  6.13it/s]\n",
      "100%|██████████| 1/1 [00:00<00:00,  3.43it/s]\n",
      "100%|██████████| 1/1 [00:00<00:00,  3.89it/s]\n",
      "100%|██████████| 1/1 [00:00<00:00,  3.46it/s]\n",
      "100%|██████████| 1/1 [00:00<00:00,  3.69it/s]\n",
      "100%|██████████| 1/1 [00:00<00:00,  3.58it/s]\n",
      "100%|██████████| 1/1 [00:00<00:00,  3.34it/s]\n",
      "100%|██████████| 1/1 [00:00<00:00,  3.61it/s]\n",
      "100%|██████████| 2/2 [00:00<00:00,  5.89it/s]\n",
      "100%|██████████| 2/2 [00:00<00:00,  5.30it/s]\n",
      "100%|██████████| 2/2 [00:00<00:00,  5.03it/s]\n",
      "100%|██████████| 2/2 [00:00<00:00,  5.03it/s]\n"
     ]
    },
    {
     "name": "stdout",
     "output_type": "stream",
     "text": [
      "Elapsed time 1.752486260732015 mins.\n",
      "\n",
      "2024-05-27 02:03:34 Round 1 ...\n",
      "Current Task ['2018-02'] with Budget none\n",
      "X_train (48723, 2381) Y_train (48723,)\n",
      "\n",
      "2024-05-27 02:03:35 Standardizing ...\n"
     ]
    },
    {
     "name": "stderr",
     "output_type": "stream",
     "text": [
      "\r",
      "  0%|          | 0/7 [00:00<?, ?it/s]"
     ]
    },
    {
     "name": "stdout",
     "output_type": "stream",
     "text": [
      "Epoch 1 of 100\n"
     ]
    },
    {
     "name": "stderr",
     "output_type": "stream",
     "text": [
      "100%|██████████| 7/7 [00:01<00:00,  5.32it/s]\n",
      "100%|██████████| 1/1 [00:00<00:00,  9.01it/s]\n",
      "  0%|          | 0/7 [00:00<?, ?it/s]"
     ]
    },
    {
     "name": "stdout",
     "output_type": "stream",
     "text": [
      "Train Loss: 0.2803, Train Acc: 0.8966\n",
      "Val Loss: 0.2238, Val Acc: 0.9165\n",
      "Validation loss decreased (inf --> 0.223830).  Saving model ...\n",
      "../../GRS_SavedModel/GRSModel_none/['2018-02']/best_model_epoch_1.pt\n",
      "../../GRS_SavedModel/GRSOpt_none/['2018-02']/best_optimizer_epoch_1.pt\n",
      "Epoch 2 of 100\n"
     ]
    },
    {
     "name": "stderr",
     "output_type": "stream",
     "text": [
      "100%|██████████| 7/7 [00:01<00:00,  6.16it/s]\n",
      "100%|██████████| 1/1 [00:00<00:00, 10.28it/s]\n",
      "  0%|          | 0/7 [00:00<?, ?it/s]"
     ]
    },
    {
     "name": "stdout",
     "output_type": "stream",
     "text": [
      "Train Loss: 0.2476, Train Acc: 0.9074\n",
      "Val Loss: 0.2034, Val Acc: 0.9245\n",
      "Validation loss decreased (0.223830 --> 0.203367).  Saving model ...\n",
      "../../GRS_SavedModel/GRSModel_none/['2018-02']/best_model_epoch_2.pt\n",
      "../../GRS_SavedModel/GRSOpt_none/['2018-02']/best_optimizer_epoch_2.pt\n",
      "Epoch 3 of 100\n"
     ]
    },
    {
     "name": "stderr",
     "output_type": "stream",
     "text": [
      "100%|██████████| 7/7 [00:01<00:00,  6.23it/s]\n",
      "100%|██████████| 1/1 [00:00<00:00,  9.85it/s]\n",
      "  0%|          | 0/7 [00:00<?, ?it/s]"
     ]
    },
    {
     "name": "stdout",
     "output_type": "stream",
     "text": [
      "Train Loss: 0.2156, Train Acc: 0.9146\n",
      "Val Loss: 0.1927, Val Acc: 0.9247\n",
      "Validation loss decreased (0.203367 --> 0.192654).  Saving model ...\n",
      "../../GRS_SavedModel/GRSModel_none/['2018-02']/best_model_epoch_3.pt\n",
      "../../GRS_SavedModel/GRSOpt_none/['2018-02']/best_optimizer_epoch_3.pt\n",
      "Epoch 4 of 100\n"
     ]
    },
    {
     "name": "stderr",
     "output_type": "stream",
     "text": [
      "100%|██████████| 7/7 [00:01<00:00,  6.35it/s]\n",
      "100%|██████████| 1/1 [00:00<00:00,  4.58it/s]\n",
      "  0%|          | 0/7 [00:00<?, ?it/s]"
     ]
    },
    {
     "name": "stdout",
     "output_type": "stream",
     "text": [
      "Train Loss: 0.2029, Train Acc: 0.9179\n",
      "Val Loss: 0.1848, Val Acc: 0.9286\n",
      "Validation loss decreased (0.192654 --> 0.184797).  Saving model ...\n",
      "../../GRS_SavedModel/GRSModel_none/['2018-02']/best_model_epoch_4.pt\n",
      "../../GRS_SavedModel/GRSOpt_none/['2018-02']/best_optimizer_epoch_4.pt\n",
      "Epoch 5 of 100\n"
     ]
    },
    {
     "name": "stderr",
     "output_type": "stream",
     "text": [
      "100%|██████████| 7/7 [00:01<00:00,  6.52it/s]\n",
      "100%|██████████| 1/1 [00:00<00:00,  8.60it/s]\n",
      "  0%|          | 0/7 [00:00<?, ?it/s]"
     ]
    },
    {
     "name": "stdout",
     "output_type": "stream",
     "text": [
      "Train Loss: 0.1942, Train Acc: 0.9218\n",
      "Val Loss: 0.1797, Val Acc: 0.9274\n",
      "Validation loss decreased (0.184797 --> 0.179680).  Saving model ...\n",
      "../../GRS_SavedModel/GRSModel_none/['2018-02']/best_model_epoch_5.pt\n",
      "../../GRS_SavedModel/GRSOpt_none/['2018-02']/best_optimizer_epoch_5.pt\n",
      "Epoch 6 of 100\n"
     ]
    },
    {
     "name": "stderr",
     "output_type": "stream",
     "text": [
      "100%|██████████| 7/7 [00:01<00:00,  6.11it/s]\n",
      "100%|██████████| 1/1 [00:00<00:00,  8.72it/s]\n",
      "  0%|          | 0/7 [00:00<?, ?it/s]"
     ]
    },
    {
     "name": "stdout",
     "output_type": "stream",
     "text": [
      "Train Loss: 0.1895, Train Acc: 0.9237\n",
      "Val Loss: 0.1751, Val Acc: 0.9304\n",
      "Validation loss decreased (0.179680 --> 0.175122).  Saving model ...\n",
      "../../GRS_SavedModel/GRSModel_none/['2018-02']/best_model_epoch_6.pt\n",
      "../../GRS_SavedModel/GRSOpt_none/['2018-02']/best_optimizer_epoch_6.pt\n",
      "Epoch 7 of 100\n"
     ]
    },
    {
     "name": "stderr",
     "output_type": "stream",
     "text": [
      "100%|██████████| 7/7 [00:01<00:00,  6.29it/s]\n",
      "100%|██████████| 1/1 [00:00<00:00,  9.25it/s]\n",
      "  0%|          | 0/7 [00:00<?, ?it/s]"
     ]
    },
    {
     "name": "stdout",
     "output_type": "stream",
     "text": [
      "Train Loss: 0.1823, Train Acc: 0.9265\n",
      "Val Loss: 0.1712, Val Acc: 0.9292\n",
      "Validation loss decreased (0.175122 --> 0.171237).  Saving model ...\n",
      "../../GRS_SavedModel/GRSModel_none/['2018-02']/best_model_epoch_7.pt\n",
      "../../GRS_SavedModel/GRSOpt_none/['2018-02']/best_optimizer_epoch_7.pt\n",
      "Epoch 8 of 100\n"
     ]
    },
    {
     "name": "stderr",
     "output_type": "stream",
     "text": [
      "100%|██████████| 7/7 [00:01<00:00,  5.43it/s]\n",
      "100%|██████████| 1/1 [00:00<00:00,  9.98it/s]\n",
      "  0%|          | 0/7 [00:00<?, ?it/s]"
     ]
    },
    {
     "name": "stdout",
     "output_type": "stream",
     "text": [
      "Train Loss: 0.1764, Train Acc: 0.9304\n",
      "Val Loss: 0.1689, Val Acc: 0.9296\n",
      "Validation loss decreased (0.171237 --> 0.168862).  Saving model ...\n",
      "../../GRS_SavedModel/GRSModel_none/['2018-02']/best_model_epoch_8.pt\n",
      "../../GRS_SavedModel/GRSOpt_none/['2018-02']/best_optimizer_epoch_8.pt\n",
      "Epoch 9 of 100\n"
     ]
    },
    {
     "name": "stderr",
     "output_type": "stream",
     "text": [
      "100%|██████████| 7/7 [00:01<00:00,  6.38it/s]\n",
      "100%|██████████| 1/1 [00:00<00:00,  4.67it/s]\n",
      "  0%|          | 0/7 [00:00<?, ?it/s]"
     ]
    },
    {
     "name": "stdout",
     "output_type": "stream",
     "text": [
      "Train Loss: 0.1703, Train Acc: 0.9316\n",
      "Val Loss: 0.1677, Val Acc: 0.9310\n",
      "Validation loss decreased (0.168862 --> 0.167655).  Saving model ...\n",
      "../../GRS_SavedModel/GRSModel_none/['2018-02']/best_model_epoch_9.pt\n",
      "../../GRS_SavedModel/GRSOpt_none/['2018-02']/best_optimizer_epoch_9.pt\n",
      "Epoch 10 of 100\n"
     ]
    },
    {
     "name": "stderr",
     "output_type": "stream",
     "text": [
      "100%|██████████| 7/7 [00:01<00:00,  6.57it/s]\n",
      "100%|██████████| 1/1 [00:00<00:00, 10.01it/s]\n",
      "  0%|          | 0/7 [00:00<?, ?it/s]"
     ]
    },
    {
     "name": "stdout",
     "output_type": "stream",
     "text": [
      "Train Loss: 0.1663, Train Acc: 0.9340\n",
      "Val Loss: 0.1656, Val Acc: 0.9327\n",
      "Validation loss decreased (0.167655 --> 0.165611).  Saving model ...\n",
      "../../GRS_SavedModel/GRSModel_none/['2018-02']/best_model_epoch_10.pt\n",
      "../../GRS_SavedModel/GRSOpt_none/['2018-02']/best_optimizer_epoch_10.pt\n",
      "Epoch 11 of 100\n"
     ]
    },
    {
     "name": "stderr",
     "output_type": "stream",
     "text": [
      "100%|██████████| 7/7 [00:01<00:00,  5.92it/s]\n",
      "100%|██████████| 1/1 [00:00<00:00,  8.49it/s]\n",
      "  0%|          | 0/7 [00:00<?, ?it/s]"
     ]
    },
    {
     "name": "stdout",
     "output_type": "stream",
     "text": [
      "Train Loss: 0.1653, Train Acc: 0.9334\n",
      "Val Loss: 0.1631, Val Acc: 0.9337\n",
      "Validation loss decreased (0.165611 --> 0.163115).  Saving model ...\n",
      "../../GRS_SavedModel/GRSModel_none/['2018-02']/best_model_epoch_11.pt\n",
      "../../GRS_SavedModel/GRSOpt_none/['2018-02']/best_optimizer_epoch_11.pt\n",
      "Epoch 12 of 100\n"
     ]
    },
    {
     "name": "stderr",
     "output_type": "stream",
     "text": [
      "100%|██████████| 7/7 [00:01<00:00,  6.19it/s]\n",
      "100%|██████████| 1/1 [00:00<00:00,  9.20it/s]\n",
      "  0%|          | 0/7 [00:00<?, ?it/s]"
     ]
    },
    {
     "name": "stdout",
     "output_type": "stream",
     "text": [
      "Train Loss: 0.1638, Train Acc: 0.9342\n",
      "Val Loss: 0.1629, Val Acc: 0.9341\n",
      "Validation loss decreased (0.163115 --> 0.162857).  Saving model ...\n",
      "../../GRS_SavedModel/GRSModel_none/['2018-02']/best_model_epoch_12.pt\n",
      "../../GRS_SavedModel/GRSOpt_none/['2018-02']/best_optimizer_epoch_12.pt\n",
      "Epoch 13 of 100\n"
     ]
    },
    {
     "name": "stderr",
     "output_type": "stream",
     "text": [
      "100%|██████████| 7/7 [00:01<00:00,  6.28it/s]\n",
      "100%|██████████| 1/1 [00:00<00:00,  4.44it/s]\n",
      "  0%|          | 0/7 [00:00<?, ?it/s]"
     ]
    },
    {
     "name": "stdout",
     "output_type": "stream",
     "text": [
      "Train Loss: 0.1628, Train Acc: 0.9342\n",
      "Val Loss: 0.1616, Val Acc: 0.9347\n",
      "Validation loss decreased (0.162857 --> 0.161590).  Saving model ...\n",
      "../../GRS_SavedModel/GRSModel_none/['2018-02']/best_model_epoch_13.pt\n",
      "../../GRS_SavedModel/GRSOpt_none/['2018-02']/best_optimizer_epoch_13.pt\n",
      "Epoch 14 of 100\n"
     ]
    },
    {
     "name": "stderr",
     "output_type": "stream",
     "text": [
      "100%|██████████| 7/7 [00:01<00:00,  5.97it/s]\n",
      "100%|██████████| 1/1 [00:00<00:00,  9.73it/s]\n",
      "  0%|          | 0/7 [00:00<?, ?it/s]"
     ]
    },
    {
     "name": "stdout",
     "output_type": "stream",
     "text": [
      "Train Loss: 0.1566, Train Acc: 0.9371\n",
      "Val Loss: 0.1608, Val Acc: 0.9358\n",
      "Validation loss decreased (0.161590 --> 0.160834).  Saving model ...\n",
      "../../GRS_SavedModel/GRSModel_none/['2018-02']/best_model_epoch_14.pt\n",
      "../../GRS_SavedModel/GRSOpt_none/['2018-02']/best_optimizer_epoch_14.pt\n",
      "Epoch 15 of 100\n"
     ]
    },
    {
     "name": "stderr",
     "output_type": "stream",
     "text": [
      "100%|██████████| 7/7 [00:01<00:00,  6.15it/s]\n",
      "100%|██████████| 1/1 [00:00<00:00, 11.45it/s]\n",
      "  0%|          | 0/7 [00:00<?, ?it/s]"
     ]
    },
    {
     "name": "stdout",
     "output_type": "stream",
     "text": [
      "Train Loss: 0.1567, Train Acc: 0.9373\n",
      "Val Loss: 0.1609, Val Acc: 0.9349\n",
      "EarlyStopping counter: 1 out of 5\n",
      "Epoch 16 of 100\n"
     ]
    },
    {
     "name": "stderr",
     "output_type": "stream",
     "text": [
      "100%|██████████| 7/7 [00:01<00:00,  6.61it/s]\n",
      "100%|██████████| 1/1 [00:00<00:00,  9.65it/s]\n",
      "  0%|          | 0/7 [00:00<?, ?it/s]"
     ]
    },
    {
     "name": "stdout",
     "output_type": "stream",
     "text": [
      "Train Loss: 0.1539, Train Acc: 0.9378\n",
      "Val Loss: 0.1597, Val Acc: 0.9347\n",
      "Validation loss decreased (0.160834 --> 0.159658).  Saving model ...\n",
      "../../GRS_SavedModel/GRSModel_none/['2018-02']/best_model_epoch_16.pt\n",
      "../../GRS_SavedModel/GRSOpt_none/['2018-02']/best_optimizer_epoch_16.pt\n",
      "Epoch 17 of 100\n"
     ]
    },
    {
     "name": "stderr",
     "output_type": "stream",
     "text": [
      "100%|██████████| 7/7 [00:01<00:00,  6.25it/s]\n",
      "100%|██████████| 1/1 [00:00<00:00, 10.02it/s]\n",
      "  0%|          | 0/7 [00:00<?, ?it/s]"
     ]
    },
    {
     "name": "stdout",
     "output_type": "stream",
     "text": [
      "Train Loss: 0.1526, Train Acc: 0.9390\n",
      "Val Loss: 0.1586, Val Acc: 0.9352\n",
      "Validation loss decreased (0.159658 --> 0.158580).  Saving model ...\n",
      "../../GRS_SavedModel/GRSModel_none/['2018-02']/best_model_epoch_17.pt\n",
      "../../GRS_SavedModel/GRSOpt_none/['2018-02']/best_optimizer_epoch_17.pt\n",
      "Epoch 18 of 100\n"
     ]
    },
    {
     "name": "stderr",
     "output_type": "stream",
     "text": [
      "100%|██████████| 7/7 [00:01<00:00,  6.34it/s]\n",
      "100%|██████████| 1/1 [00:00<00:00,  4.74it/s]\n",
      "  0%|          | 0/7 [00:00<?, ?it/s]"
     ]
    },
    {
     "name": "stdout",
     "output_type": "stream",
     "text": [
      "Train Loss: 0.1431, Train Acc: 0.9451\n",
      "Val Loss: 0.1593, Val Acc: 0.9364\n",
      "EarlyStopping counter: 1 out of 5\n",
      "Epoch 19 of 100\n"
     ]
    },
    {
     "name": "stderr",
     "output_type": "stream",
     "text": [
      "100%|██████████| 7/7 [00:01<00:00,  6.46it/s]\n",
      "100%|██████████| 1/1 [00:00<00:00,  8.77it/s]\n",
      "  0%|          | 0/7 [00:00<?, ?it/s]"
     ]
    },
    {
     "name": "stdout",
     "output_type": "stream",
     "text": [
      "Train Loss: 0.1451, Train Acc: 0.9433\n",
      "Val Loss: 0.1595, Val Acc: 0.9362\n",
      "EarlyStopping counter: 2 out of 5\n",
      "Epoch 20 of 100\n"
     ]
    },
    {
     "name": "stderr",
     "output_type": "stream",
     "text": [
      "100%|██████████| 7/7 [00:01<00:00,  6.02it/s]\n",
      "100%|██████████| 1/1 [00:00<00:00,  8.67it/s]\n",
      "  0%|          | 0/7 [00:00<?, ?it/s]"
     ]
    },
    {
     "name": "stdout",
     "output_type": "stream",
     "text": [
      "Train Loss: 0.1444, Train Acc: 0.9445\n",
      "Val Loss: 0.1561, Val Acc: 0.9393\n",
      "Validation loss decreased (0.158580 --> 0.156135).  Saving model ...\n",
      "../../GRS_SavedModel/GRSModel_none/['2018-02']/best_model_epoch_20.pt\n",
      "../../GRS_SavedModel/GRSOpt_none/['2018-02']/best_optimizer_epoch_20.pt\n",
      "Epoch 21 of 100\n"
     ]
    },
    {
     "name": "stderr",
     "output_type": "stream",
     "text": [
      "100%|██████████| 7/7 [00:01<00:00,  6.12it/s]\n",
      "100%|██████████| 1/1 [00:00<00:00,  9.07it/s]\n",
      "  0%|          | 0/7 [00:00<?, ?it/s]"
     ]
    },
    {
     "name": "stdout",
     "output_type": "stream",
     "text": [
      "Train Loss: 0.1419, Train Acc: 0.9451\n",
      "Val Loss: 0.1550, Val Acc: 0.9395\n",
      "Validation loss decreased (0.156135 --> 0.155045).  Saving model ...\n",
      "../../GRS_SavedModel/GRSModel_none/['2018-02']/best_model_epoch_21.pt\n",
      "../../GRS_SavedModel/GRSOpt_none/['2018-02']/best_optimizer_epoch_21.pt\n",
      "Epoch 22 of 100\n"
     ]
    },
    {
     "name": "stderr",
     "output_type": "stream",
     "text": [
      "100%|██████████| 7/7 [00:01<00:00,  6.30it/s]\n",
      "100%|██████████| 1/1 [00:00<00:00,  9.71it/s]\n",
      "  0%|          | 0/7 [00:00<?, ?it/s]"
     ]
    },
    {
     "name": "stdout",
     "output_type": "stream",
     "text": [
      "Train Loss: 0.1434, Train Acc: 0.9424\n",
      "Val Loss: 0.1548, Val Acc: 0.9391\n",
      "Validation loss decreased (0.155045 --> 0.154784).  Saving model ...\n",
      "../../GRS_SavedModel/GRSModel_none/['2018-02']/best_model_epoch_22.pt\n",
      "../../GRS_SavedModel/GRSOpt_none/['2018-02']/best_optimizer_epoch_22.pt\n",
      "Epoch 23 of 100\n"
     ]
    },
    {
     "name": "stderr",
     "output_type": "stream",
     "text": [
      "100%|██████████| 7/7 [00:01<00:00,  5.25it/s]\n",
      "100%|██████████| 1/1 [00:00<00:00,  5.21it/s]\n",
      "  0%|          | 0/7 [00:00<?, ?it/s]"
     ]
    },
    {
     "name": "stdout",
     "output_type": "stream",
     "text": [
      "Train Loss: 0.1374, Train Acc: 0.9458\n",
      "Val Loss: 0.1572, Val Acc: 0.9374\n",
      "EarlyStopping counter: 1 out of 5\n",
      "Epoch 24 of 100\n"
     ]
    },
    {
     "name": "stderr",
     "output_type": "stream",
     "text": [
      "100%|██████████| 7/7 [00:01<00:00,  6.64it/s]\n",
      "100%|██████████| 1/1 [00:00<00:00, 10.27it/s]\n",
      "  0%|          | 0/7 [00:00<?, ?it/s]"
     ]
    },
    {
     "name": "stdout",
     "output_type": "stream",
     "text": [
      "Train Loss: 0.1380, Train Acc: 0.9460\n",
      "Val Loss: 0.1546, Val Acc: 0.9399\n",
      "Validation loss decreased (0.154784 --> 0.154638).  Saving model ...\n",
      "../../GRS_SavedModel/GRSModel_none/['2018-02']/best_model_epoch_24.pt\n",
      "../../GRS_SavedModel/GRSOpt_none/['2018-02']/best_optimizer_epoch_24.pt\n",
      "Epoch 25 of 100\n"
     ]
    },
    {
     "name": "stderr",
     "output_type": "stream",
     "text": [
      "100%|██████████| 7/7 [00:01<00:00,  6.01it/s]\n",
      "100%|██████████| 1/1 [00:00<00:00,  8.84it/s]\n",
      "  0%|          | 0/7 [00:00<?, ?it/s]"
     ]
    },
    {
     "name": "stdout",
     "output_type": "stream",
     "text": [
      "Train Loss: 0.1347, Train Acc: 0.9472\n",
      "Val Loss: 0.1549, Val Acc: 0.9388\n",
      "EarlyStopping counter: 1 out of 5\n",
      "Epoch 26 of 100\n"
     ]
    },
    {
     "name": "stderr",
     "output_type": "stream",
     "text": [
      "100%|██████████| 7/7 [00:01<00:00,  5.70it/s]\n",
      "100%|██████████| 1/1 [00:00<00:00,  9.77it/s]\n",
      "  0%|          | 0/7 [00:00<?, ?it/s]"
     ]
    },
    {
     "name": "stdout",
     "output_type": "stream",
     "text": [
      "Train Loss: 0.1345, Train Acc: 0.9478\n",
      "Val Loss: 0.1535, Val Acc: 0.9397\n",
      "Validation loss decreased (0.154638 --> 0.153537).  Saving model ...\n",
      "../../GRS_SavedModel/GRSModel_none/['2018-02']/best_model_epoch_26.pt\n",
      "../../GRS_SavedModel/GRSOpt_none/['2018-02']/best_optimizer_epoch_26.pt\n",
      "Epoch 27 of 100\n"
     ]
    },
    {
     "name": "stderr",
     "output_type": "stream",
     "text": [
      "100%|██████████| 7/7 [00:01<00:00,  6.19it/s]\n",
      "100%|██████████| 1/1 [00:00<00:00,  9.73it/s]\n",
      "  0%|          | 0/7 [00:00<?, ?it/s]"
     ]
    },
    {
     "name": "stdout",
     "output_type": "stream",
     "text": [
      "Train Loss: 0.1362, Train Acc: 0.9462\n",
      "Val Loss: 0.1531, Val Acc: 0.9413\n",
      "Validation loss decreased (0.153537 --> 0.153062).  Saving model ...\n",
      "../../GRS_SavedModel/GRSModel_none/['2018-02']/best_model_epoch_27.pt\n",
      "../../GRS_SavedModel/GRSOpt_none/['2018-02']/best_optimizer_epoch_27.pt\n",
      "Epoch 28 of 100\n"
     ]
    },
    {
     "name": "stderr",
     "output_type": "stream",
     "text": [
      "100%|██████████| 7/7 [00:01<00:00,  6.03it/s]\n",
      "100%|██████████| 1/1 [00:00<00:00,  4.72it/s]\n",
      "  0%|          | 0/7 [00:00<?, ?it/s]"
     ]
    },
    {
     "name": "stdout",
     "output_type": "stream",
     "text": [
      "Train Loss: 0.1293, Train Acc: 0.9492\n",
      "Val Loss: 0.1523, Val Acc: 0.9411\n",
      "Validation loss decreased (0.153062 --> 0.152318).  Saving model ...\n",
      "../../GRS_SavedModel/GRSModel_none/['2018-02']/best_model_epoch_28.pt\n",
      "../../GRS_SavedModel/GRSOpt_none/['2018-02']/best_optimizer_epoch_28.pt\n",
      "Epoch 29 of 100\n"
     ]
    },
    {
     "name": "stderr",
     "output_type": "stream",
     "text": [
      "100%|██████████| 7/7 [00:01<00:00,  6.48it/s]\n",
      "100%|██████████| 1/1 [00:00<00:00,  9.08it/s]\n",
      "  0%|          | 0/7 [00:00<?, ?it/s]"
     ]
    },
    {
     "name": "stdout",
     "output_type": "stream",
     "text": [
      "Train Loss: 0.1301, Train Acc: 0.9490\n",
      "Val Loss: 0.1524, Val Acc: 0.9395\n",
      "EarlyStopping counter: 1 out of 5\n",
      "Epoch 30 of 100\n"
     ]
    },
    {
     "name": "stderr",
     "output_type": "stream",
     "text": [
      "100%|██████████| 7/7 [00:01<00:00,  6.20it/s]\n",
      "100%|██████████| 1/1 [00:00<00:00,  9.74it/s]\n",
      "  0%|          | 0/7 [00:00<?, ?it/s]"
     ]
    },
    {
     "name": "stdout",
     "output_type": "stream",
     "text": [
      "Train Loss: 0.1282, Train Acc: 0.9493\n",
      "Val Loss: 0.1522, Val Acc: 0.9397\n",
      "Validation loss decreased (0.152318 --> 0.152203).  Saving model ...\n",
      "../../GRS_SavedModel/GRSModel_none/['2018-02']/best_model_epoch_30.pt\n",
      "../../GRS_SavedModel/GRSOpt_none/['2018-02']/best_optimizer_epoch_30.pt\n",
      "Epoch 31 of 100\n"
     ]
    },
    {
     "name": "stderr",
     "output_type": "stream",
     "text": [
      "100%|██████████| 7/7 [00:01<00:00,  5.77it/s]\n",
      "100%|██████████| 1/1 [00:00<00:00, 10.61it/s]\n",
      "  0%|          | 0/7 [00:00<?, ?it/s]"
     ]
    },
    {
     "name": "stdout",
     "output_type": "stream",
     "text": [
      "Train Loss: 0.1206, Train Acc: 0.9531\n",
      "Val Loss: 0.1531, Val Acc: 0.9405\n",
      "EarlyStopping counter: 1 out of 5\n",
      "Epoch 32 of 100\n"
     ]
    },
    {
     "name": "stderr",
     "output_type": "stream",
     "text": [
      "100%|██████████| 7/7 [00:00<00:00,  7.40it/s]\n",
      "100%|██████████| 1/1 [00:00<00:00,  9.15it/s]\n",
      "  0%|          | 0/7 [00:00<?, ?it/s]"
     ]
    },
    {
     "name": "stdout",
     "output_type": "stream",
     "text": [
      "Train Loss: 0.1196, Train Acc: 0.9532\n",
      "Val Loss: 0.1538, Val Acc: 0.9403\n",
      "EarlyStopping counter: 2 out of 5\n",
      "Epoch 33 of 100\n"
     ]
    },
    {
     "name": "stderr",
     "output_type": "stream",
     "text": [
      "100%|██████████| 7/7 [00:01<00:00,  5.55it/s]\n",
      "100%|██████████| 1/1 [00:00<00:00,  5.66it/s]\n",
      "  0%|          | 0/7 [00:00<?, ?it/s]"
     ]
    },
    {
     "name": "stdout",
     "output_type": "stream",
     "text": [
      "Train Loss: 0.1225, Train Acc: 0.9525\n",
      "Val Loss: 0.1543, Val Acc: 0.9432\n",
      "EarlyStopping counter: 3 out of 5\n",
      "Epoch 34 of 100\n"
     ]
    },
    {
     "name": "stderr",
     "output_type": "stream",
     "text": [
      "100%|██████████| 7/7 [00:00<00:00,  7.05it/s]\n",
      "100%|██████████| 1/1 [00:00<00:00,  9.49it/s]\n",
      "  0%|          | 0/7 [00:00<?, ?it/s]"
     ]
    },
    {
     "name": "stdout",
     "output_type": "stream",
     "text": [
      "Train Loss: 0.1168, Train Acc: 0.9548\n",
      "Val Loss: 0.1539, Val Acc: 0.9432\n",
      "EarlyStopping counter: 4 out of 5\n",
      "Epoch 35 of 100\n"
     ]
    },
    {
     "name": "stderr",
     "output_type": "stream",
     "text": [
      "100%|██████████| 7/7 [00:01<00:00,  6.12it/s]\n",
      "100%|██████████| 1/1 [00:00<00:00,  9.20it/s]\n",
      "  0%|          | 0/7 [00:00<?, ?it/s]"
     ]
    },
    {
     "name": "stdout",
     "output_type": "stream",
     "text": [
      "Train Loss: 0.1176, Train Acc: 0.9531\n",
      "Val Loss: 0.1520, Val Acc: 0.9438\n",
      "Validation loss decreased (0.152203 --> 0.152029).  Saving model ...\n",
      "../../GRS_SavedModel/GRSModel_none/['2018-02']/best_model_epoch_35.pt\n",
      "../../GRS_SavedModel/GRSOpt_none/['2018-02']/best_optimizer_epoch_35.pt\n",
      "Epoch 36 of 100\n"
     ]
    },
    {
     "name": "stderr",
     "output_type": "stream",
     "text": [
      "100%|██████████| 7/7 [00:01<00:00,  5.88it/s]\n",
      "100%|██████████| 1/1 [00:00<00:00,  9.82it/s]\n",
      "  0%|          | 0/7 [00:00<?, ?it/s]"
     ]
    },
    {
     "name": "stdout",
     "output_type": "stream",
     "text": [
      "Train Loss: 0.1196, Train Acc: 0.9533\n",
      "Val Loss: 0.1531, Val Acc: 0.9425\n",
      "EarlyStopping counter: 1 out of 5\n",
      "Epoch 37 of 100\n"
     ]
    },
    {
     "name": "stderr",
     "output_type": "stream",
     "text": [
      "100%|██████████| 7/7 [00:01<00:00,  5.57it/s]\n",
      "100%|██████████| 1/1 [00:00<00:00,  5.15it/s]\n",
      "  0%|          | 0/7 [00:00<?, ?it/s]"
     ]
    },
    {
     "name": "stdout",
     "output_type": "stream",
     "text": [
      "Train Loss: 0.1158, Train Acc: 0.9551\n",
      "Val Loss: 0.1543, Val Acc: 0.9432\n",
      "EarlyStopping counter: 2 out of 5\n",
      "Epoch 38 of 100\n"
     ]
    },
    {
     "name": "stderr",
     "output_type": "stream",
     "text": [
      "100%|██████████| 7/7 [00:01<00:00,  6.64it/s]\n",
      "100%|██████████| 1/1 [00:00<00:00, 10.57it/s]\n",
      "  0%|          | 0/7 [00:00<?, ?it/s]"
     ]
    },
    {
     "name": "stdout",
     "output_type": "stream",
     "text": [
      "Train Loss: 0.1163, Train Acc: 0.9551\n",
      "Val Loss: 0.1555, Val Acc: 0.9415\n",
      "EarlyStopping counter: 3 out of 5\n",
      "Epoch 39 of 100\n"
     ]
    },
    {
     "name": "stderr",
     "output_type": "stream",
     "text": [
      "100%|██████████| 7/7 [00:01<00:00,  6.01it/s]\n",
      "100%|██████████| 1/1 [00:00<00:00,  8.55it/s]\n",
      "  0%|          | 0/7 [00:00<?, ?it/s]"
     ]
    },
    {
     "name": "stdout",
     "output_type": "stream",
     "text": [
      "Train Loss: 0.1103, Train Acc: 0.9570\n",
      "Val Loss: 0.1534, Val Acc: 0.9450\n",
      "EarlyStopping counter: 4 out of 5\n",
      "Epoch 40 of 100\n"
     ]
    },
    {
     "name": "stderr",
     "output_type": "stream",
     "text": [
      "100%|██████████| 7/7 [00:01<00:00,  5.89it/s]\n",
      "100%|██████████| 1/1 [00:00<00:00, 10.72it/s]\n"
     ]
    },
    {
     "name": "stdout",
     "output_type": "stream",
     "text": [
      "Train Loss: 0.1115, Train Acc: 0.9569\n",
      "Val Loss: 0.1542, Val Acc: 0.9432\n",
      "EarlyStopping counter: 5 out of 5\n",
      "Early stopping\n",
      "Training time: 0.881 minutes\n",
      "loading best model ../../GRS_SavedModel/GRSModel_none/['2018-02']/best_model_epoch_35.pt\n",
      "loading best optimizer ../../GRS_SavedModel/GRSOpt_none/['2018-02']/best_optimizer_epoch_35.pt\n"
     ]
    },
    {
     "name": "stderr",
     "output_type": "stream",
     "text": [
      "100%|██████████| 2/2 [00:00<00:00,  5.94it/s]\n",
      "100%|██████████| 1/1 [00:00<00:00,  3.43it/s]\n",
      "100%|██████████| 1/1 [00:00<00:00,  3.88it/s]\n",
      "100%|██████████| 1/1 [00:00<00:00,  3.50it/s]\n",
      "100%|██████████| 1/1 [00:00<00:00,  3.69it/s]\n",
      "100%|██████████| 1/1 [00:00<00:00,  3.60it/s]\n",
      "100%|██████████| 1/1 [00:00<00:00,  3.46it/s]\n",
      "100%|██████████| 1/1 [00:00<00:00,  3.67it/s]\n",
      "100%|██████████| 2/2 [00:00<00:00,  5.87it/s]\n",
      "100%|██████████| 2/2 [00:00<00:00,  3.66it/s]\n",
      "100%|██████████| 2/2 [00:00<00:00,  4.10it/s]\n",
      "100%|██████████| 2/2 [00:00<00:00,  3.88it/s]\n"
     ]
    },
    {
     "name": "stdout",
     "output_type": "stream",
     "text": [
      "Elapsed time 2.8089419047037762 mins.\n",
      "\n",
      "2024-05-27 02:04:38 Round 1 ...\n",
      "Current Task ['2018-03'] with Budget none\n",
      "X_train (37372, 2381) Y_train (37372,)\n",
      "\n",
      "2024-05-27 02:04:38 Standardizing ...\n"
     ]
    },
    {
     "name": "stderr",
     "output_type": "stream",
     "text": [
      "\r",
      "  0%|          | 0/5 [00:00<?, ?it/s]"
     ]
    },
    {
     "name": "stdout",
     "output_type": "stream",
     "text": [
      "Epoch 1 of 100\n"
     ]
    },
    {
     "name": "stderr",
     "output_type": "stream",
     "text": [
      "100%|██████████| 5/5 [00:00<00:00,  5.50it/s]\n",
      "100%|██████████| 1/1 [00:00<00:00, 11.42it/s]\n",
      "  0%|          | 0/5 [00:00<?, ?it/s]"
     ]
    },
    {
     "name": "stdout",
     "output_type": "stream",
     "text": [
      "Train Loss: 0.2646, Train Acc: 0.9024\n",
      "Val Loss: 0.2518, Val Acc: 0.9053\n",
      "Validation loss decreased (inf --> 0.251801).  Saving model ...\n",
      "../../GRS_SavedModel/GRSModel_none/['2018-03']/best_model_epoch_1.pt\n",
      "../../GRS_SavedModel/GRSOpt_none/['2018-03']/best_optimizer_epoch_1.pt\n",
      "Epoch 2 of 100\n"
     ]
    },
    {
     "name": "stderr",
     "output_type": "stream",
     "text": [
      "100%|██████████| 5/5 [00:01<00:00,  4.88it/s]\n",
      "100%|██████████| 1/1 [00:00<00:00, 11.11it/s]\n",
      "  0%|          | 0/5 [00:00<?, ?it/s]"
     ]
    },
    {
     "name": "stdout",
     "output_type": "stream",
     "text": [
      "Train Loss: 0.2477, Train Acc: 0.9058\n",
      "Val Loss: 0.2294, Val Acc: 0.9192\n",
      "Validation loss decreased (0.251801 --> 0.229411).  Saving model ...\n",
      "../../GRS_SavedModel/GRSModel_none/['2018-03']/best_model_epoch_2.pt\n",
      "../../GRS_SavedModel/GRSOpt_none/['2018-03']/best_optimizer_epoch_2.pt\n",
      "Epoch 3 of 100\n"
     ]
    },
    {
     "name": "stderr",
     "output_type": "stream",
     "text": [
      "100%|██████████| 5/5 [00:00<00:00,  5.47it/s]\n",
      "100%|██████████| 1/1 [00:00<00:00,  5.18it/s]\n",
      "  0%|          | 0/5 [00:00<?, ?it/s]"
     ]
    },
    {
     "name": "stdout",
     "output_type": "stream",
     "text": [
      "Train Loss: 0.2268, Train Acc: 0.9113\n",
      "Val Loss: 0.2177, Val Acc: 0.9248\n",
      "Validation loss decreased (0.229411 --> 0.217652).  Saving model ...\n",
      "../../GRS_SavedModel/GRSModel_none/['2018-03']/best_model_epoch_3.pt\n",
      "../../GRS_SavedModel/GRSOpt_none/['2018-03']/best_optimizer_epoch_3.pt\n",
      "Epoch 4 of 100\n"
     ]
    },
    {
     "name": "stderr",
     "output_type": "stream",
     "text": [
      "100%|██████████| 5/5 [00:00<00:00,  6.35it/s]\n",
      "100%|██████████| 1/1 [00:00<00:00, 11.94it/s]\n",
      "  0%|          | 0/5 [00:00<?, ?it/s]"
     ]
    },
    {
     "name": "stdout",
     "output_type": "stream",
     "text": [
      "Train Loss: 0.2167, Train Acc: 0.9140\n",
      "Val Loss: 0.2133, Val Acc: 0.9227\n",
      "Validation loss decreased (0.217652 --> 0.213298).  Saving model ...\n",
      "../../GRS_SavedModel/GRSModel_none/['2018-03']/best_model_epoch_4.pt\n",
      "../../GRS_SavedModel/GRSOpt_none/['2018-03']/best_optimizer_epoch_4.pt\n",
      "Epoch 5 of 100\n"
     ]
    },
    {
     "name": "stderr",
     "output_type": "stream",
     "text": [
      "100%|██████████| 5/5 [00:00<00:00,  5.58it/s]\n",
      "100%|██████████| 1/1 [00:00<00:00, 13.10it/s]\n",
      "  0%|          | 0/5 [00:00<?, ?it/s]"
     ]
    },
    {
     "name": "stdout",
     "output_type": "stream",
     "text": [
      "Train Loss: 0.2061, Train Acc: 0.9169\n",
      "Val Loss: 0.2064, Val Acc: 0.9256\n",
      "Validation loss decreased (0.213298 --> 0.206357).  Saving model ...\n",
      "../../GRS_SavedModel/GRSModel_none/['2018-03']/best_model_epoch_5.pt\n",
      "../../GRS_SavedModel/GRSOpt_none/['2018-03']/best_optimizer_epoch_5.pt\n",
      "Epoch 6 of 100\n"
     ]
    },
    {
     "name": "stderr",
     "output_type": "stream",
     "text": [
      "100%|██████████| 5/5 [00:00<00:00,  5.52it/s]\n",
      "100%|██████████| 1/1 [00:00<00:00, 12.95it/s]\n",
      "  0%|          | 0/5 [00:00<?, ?it/s]"
     ]
    },
    {
     "name": "stdout",
     "output_type": "stream",
     "text": [
      "Train Loss: 0.1967, Train Acc: 0.9223\n",
      "Val Loss: 0.2014, Val Acc: 0.9248\n",
      "Validation loss decreased (0.206357 --> 0.201421).  Saving model ...\n",
      "../../GRS_SavedModel/GRSModel_none/['2018-03']/best_model_epoch_6.pt\n",
      "../../GRS_SavedModel/GRSOpt_none/['2018-03']/best_optimizer_epoch_6.pt\n",
      "Epoch 7 of 100\n"
     ]
    },
    {
     "name": "stderr",
     "output_type": "stream",
     "text": [
      "100%|██████████| 5/5 [00:00<00:00,  5.51it/s]\n",
      "100%|██████████| 1/1 [00:00<00:00, 12.68it/s]\n",
      "  0%|          | 0/5 [00:00<?, ?it/s]"
     ]
    },
    {
     "name": "stdout",
     "output_type": "stream",
     "text": [
      "Train Loss: 0.1839, Train Acc: 0.9274\n",
      "Val Loss: 0.1981, Val Acc: 0.9246\n",
      "Validation loss decreased (0.201421 --> 0.198072).  Saving model ...\n",
      "../../GRS_SavedModel/GRSModel_none/['2018-03']/best_model_epoch_7.pt\n",
      "../../GRS_SavedModel/GRSOpt_none/['2018-03']/best_optimizer_epoch_7.pt\n",
      "Epoch 8 of 100\n"
     ]
    },
    {
     "name": "stderr",
     "output_type": "stream",
     "text": [
      "100%|██████████| 5/5 [00:00<00:00,  5.20it/s]\n",
      "100%|██████████| 1/1 [00:00<00:00, 13.24it/s]\n",
      "  0%|          | 0/5 [00:00<?, ?it/s]"
     ]
    },
    {
     "name": "stdout",
     "output_type": "stream",
     "text": [
      "Train Loss: 0.1874, Train Acc: 0.9257\n",
      "Val Loss: 0.1957, Val Acc: 0.9264\n",
      "Validation loss decreased (0.198072 --> 0.195748).  Saving model ...\n",
      "../../GRS_SavedModel/GRSModel_none/['2018-03']/best_model_epoch_8.pt\n",
      "../../GRS_SavedModel/GRSOpt_none/['2018-03']/best_optimizer_epoch_8.pt\n",
      "Epoch 9 of 100\n"
     ]
    },
    {
     "name": "stderr",
     "output_type": "stream",
     "text": [
      "100%|██████████| 5/5 [00:00<00:00,  5.02it/s]\n",
      "100%|██████████| 1/1 [00:00<00:00,  5.16it/s]\n",
      "  0%|          | 0/5 [00:00<?, ?it/s]"
     ]
    },
    {
     "name": "stdout",
     "output_type": "stream",
     "text": [
      "Train Loss: 0.1813, Train Acc: 0.9286\n",
      "Val Loss: 0.1943, Val Acc: 0.9238\n",
      "Validation loss decreased (0.195748 --> 0.194313).  Saving model ...\n",
      "../../GRS_SavedModel/GRSModel_none/['2018-03']/best_model_epoch_9.pt\n",
      "../../GRS_SavedModel/GRSOpt_none/['2018-03']/best_optimizer_epoch_9.pt\n",
      "Epoch 10 of 100\n"
     ]
    },
    {
     "name": "stderr",
     "output_type": "stream",
     "text": [
      "100%|██████████| 5/5 [00:00<00:00,  5.51it/s]\n",
      "100%|██████████| 1/1 [00:00<00:00, 10.99it/s]\n",
      "  0%|          | 0/5 [00:00<?, ?it/s]"
     ]
    },
    {
     "name": "stdout",
     "output_type": "stream",
     "text": [
      "Train Loss: 0.1762, Train Acc: 0.9287\n",
      "Val Loss: 0.1932, Val Acc: 0.9259\n",
      "Validation loss decreased (0.194313 --> 0.193193).  Saving model ...\n",
      "../../GRS_SavedModel/GRSModel_none/['2018-03']/best_model_epoch_10.pt\n",
      "../../GRS_SavedModel/GRSOpt_none/['2018-03']/best_optimizer_epoch_10.pt\n",
      "Epoch 11 of 100\n"
     ]
    },
    {
     "name": "stderr",
     "output_type": "stream",
     "text": [
      "100%|██████████| 5/5 [00:00<00:00,  5.56it/s]\n",
      "100%|██████████| 1/1 [00:00<00:00, 10.77it/s]\n",
      "  0%|          | 0/5 [00:00<?, ?it/s]"
     ]
    },
    {
     "name": "stdout",
     "output_type": "stream",
     "text": [
      "Train Loss: 0.1737, Train Acc: 0.9322\n",
      "Val Loss: 0.1901, Val Acc: 0.9294\n",
      "Validation loss decreased (0.193193 --> 0.190121).  Saving model ...\n",
      "../../GRS_SavedModel/GRSModel_none/['2018-03']/best_model_epoch_11.pt\n",
      "../../GRS_SavedModel/GRSOpt_none/['2018-03']/best_optimizer_epoch_11.pt\n",
      "Epoch 12 of 100\n"
     ]
    },
    {
     "name": "stderr",
     "output_type": "stream",
     "text": [
      "100%|██████████| 5/5 [00:00<00:00,  5.52it/s]\n",
      "100%|██████████| 1/1 [00:00<00:00, 10.76it/s]\n",
      "  0%|          | 0/5 [00:00<?, ?it/s]"
     ]
    },
    {
     "name": "stdout",
     "output_type": "stream",
     "text": [
      "Train Loss: 0.1716, Train Acc: 0.9337\n",
      "Val Loss: 0.1874, Val Acc: 0.9296\n",
      "Validation loss decreased (0.190121 --> 0.187448).  Saving model ...\n",
      "../../GRS_SavedModel/GRSModel_none/['2018-03']/best_model_epoch_12.pt\n",
      "../../GRS_SavedModel/GRSOpt_none/['2018-03']/best_optimizer_epoch_12.pt\n",
      "Epoch 13 of 100\n"
     ]
    },
    {
     "name": "stderr",
     "output_type": "stream",
     "text": [
      "100%|██████████| 5/5 [00:00<00:00,  5.49it/s]\n",
      "100%|██████████| 1/1 [00:00<00:00, 11.25it/s]\n",
      "  0%|          | 0/5 [00:00<?, ?it/s]"
     ]
    },
    {
     "name": "stdout",
     "output_type": "stream",
     "text": [
      "Train Loss: 0.1723, Train Acc: 0.9330\n",
      "Val Loss: 0.1882, Val Acc: 0.9310\n",
      "EarlyStopping counter: 1 out of 5\n",
      "Epoch 14 of 100\n"
     ]
    },
    {
     "name": "stderr",
     "output_type": "stream",
     "text": [
      "100%|██████████| 5/5 [00:00<00:00,  5.42it/s]\n",
      "100%|██████████| 1/1 [00:00<00:00, 10.98it/s]\n",
      "  0%|          | 0/5 [00:00<?, ?it/s]"
     ]
    },
    {
     "name": "stdout",
     "output_type": "stream",
     "text": [
      "Train Loss: 0.1632, Train Acc: 0.9377\n",
      "Val Loss: 0.1865, Val Acc: 0.9307\n",
      "Validation loss decreased (0.187448 --> 0.186544).  Saving model ...\n",
      "../../GRS_SavedModel/GRSModel_none/['2018-03']/best_model_epoch_14.pt\n",
      "../../GRS_SavedModel/GRSOpt_none/['2018-03']/best_optimizer_epoch_14.pt\n",
      "Epoch 15 of 100\n"
     ]
    },
    {
     "name": "stderr",
     "output_type": "stream",
     "text": [
      "100%|██████████| 5/5 [00:00<00:00,  5.23it/s]\n",
      "100%|██████████| 1/1 [00:00<00:00,  4.90it/s]\n",
      "  0%|          | 0/5 [00:00<?, ?it/s]"
     ]
    },
    {
     "name": "stdout",
     "output_type": "stream",
     "text": [
      "Train Loss: 0.1658, Train Acc: 0.9345\n",
      "Val Loss: 0.1839, Val Acc: 0.9299\n",
      "Validation loss decreased (0.186544 --> 0.183855).  Saving model ...\n",
      "../../GRS_SavedModel/GRSModel_none/['2018-03']/best_model_epoch_15.pt\n",
      "../../GRS_SavedModel/GRSOpt_none/['2018-03']/best_optimizer_epoch_15.pt\n",
      "Epoch 16 of 100\n"
     ]
    },
    {
     "name": "stderr",
     "output_type": "stream",
     "text": [
      "100%|██████████| 5/5 [00:00<00:00,  5.59it/s]\n",
      "100%|██████████| 1/1 [00:00<00:00, 10.66it/s]\n",
      "  0%|          | 0/5 [00:00<?, ?it/s]"
     ]
    },
    {
     "name": "stdout",
     "output_type": "stream",
     "text": [
      "Train Loss: 0.1613, Train Acc: 0.9383\n",
      "Val Loss: 0.1853, Val Acc: 0.9323\n",
      "EarlyStopping counter: 1 out of 5\n",
      "Epoch 17 of 100\n"
     ]
    },
    {
     "name": "stderr",
     "output_type": "stream",
     "text": [
      "100%|██████████| 5/5 [00:00<00:00,  5.55it/s]\n",
      "100%|██████████| 1/1 [00:00<00:00, 11.19it/s]\n",
      "  0%|          | 0/5 [00:00<?, ?it/s]"
     ]
    },
    {
     "name": "stdout",
     "output_type": "stream",
     "text": [
      "Train Loss: 0.1567, Train Acc: 0.9392\n",
      "Val Loss: 0.1858, Val Acc: 0.9288\n",
      "EarlyStopping counter: 2 out of 5\n",
      "Epoch 18 of 100\n"
     ]
    },
    {
     "name": "stderr",
     "output_type": "stream",
     "text": [
      "100%|██████████| 5/5 [00:00<00:00,  5.40it/s]\n",
      "100%|██████████| 1/1 [00:00<00:00, 11.16it/s]\n",
      "  0%|          | 0/5 [00:00<?, ?it/s]"
     ]
    },
    {
     "name": "stdout",
     "output_type": "stream",
     "text": [
      "Train Loss: 0.1535, Train Acc: 0.9409\n",
      "Val Loss: 0.1843, Val Acc: 0.9312\n",
      "EarlyStopping counter: 3 out of 5\n",
      "Epoch 19 of 100\n"
     ]
    },
    {
     "name": "stderr",
     "output_type": "stream",
     "text": [
      "100%|██████████| 5/5 [00:00<00:00,  5.58it/s]\n",
      "100%|██████████| 1/1 [00:00<00:00, 11.25it/s]\n",
      "  0%|          | 0/5 [00:00<?, ?it/s]"
     ]
    },
    {
     "name": "stdout",
     "output_type": "stream",
     "text": [
      "Train Loss: 0.1542, Train Acc: 0.9413\n",
      "Val Loss: 0.1820, Val Acc: 0.9307\n",
      "Validation loss decreased (0.183855 --> 0.182034).  Saving model ...\n",
      "../../GRS_SavedModel/GRSModel_none/['2018-03']/best_model_epoch_19.pt\n",
      "../../GRS_SavedModel/GRSOpt_none/['2018-03']/best_optimizer_epoch_19.pt\n",
      "Epoch 20 of 100\n"
     ]
    },
    {
     "name": "stderr",
     "output_type": "stream",
     "text": [
      "100%|██████████| 5/5 [00:00<00:00,  5.42it/s]\n",
      "100%|██████████| 1/1 [00:00<00:00, 10.73it/s]\n",
      "  0%|          | 0/5 [00:00<?, ?it/s]"
     ]
    },
    {
     "name": "stdout",
     "output_type": "stream",
     "text": [
      "Train Loss: 0.1531, Train Acc: 0.9408\n",
      "Val Loss: 0.1821, Val Acc: 0.9307\n",
      "EarlyStopping counter: 1 out of 5\n",
      "Epoch 21 of 100\n"
     ]
    },
    {
     "name": "stderr",
     "output_type": "stream",
     "text": [
      "100%|██████████| 5/5 [00:00<00:00,  5.31it/s]\n",
      "100%|██████████| 1/1 [00:00<00:00, 11.49it/s]\n",
      "  0%|          | 0/5 [00:00<?, ?it/s]"
     ]
    },
    {
     "name": "stdout",
     "output_type": "stream",
     "text": [
      "Train Loss: 0.1491, Train Acc: 0.9422\n",
      "Val Loss: 0.1796, Val Acc: 0.9304\n",
      "Validation loss decreased (0.182034 --> 0.179568).  Saving model ...\n",
      "../../GRS_SavedModel/GRSModel_none/['2018-03']/best_model_epoch_21.pt\n",
      "../../GRS_SavedModel/GRSOpt_none/['2018-03']/best_optimizer_epoch_21.pt\n",
      "Epoch 22 of 100\n"
     ]
    },
    {
     "name": "stderr",
     "output_type": "stream",
     "text": [
      "100%|██████████| 5/5 [00:00<00:00,  5.27it/s]\n",
      "100%|██████████| 1/1 [00:00<00:00,  5.05it/s]\n",
      "  0%|          | 0/5 [00:00<?, ?it/s]"
     ]
    },
    {
     "name": "stdout",
     "output_type": "stream",
     "text": [
      "Train Loss: 0.1503, Train Acc: 0.9413\n",
      "Val Loss: 0.1808, Val Acc: 0.9299\n",
      "EarlyStopping counter: 1 out of 5\n",
      "Epoch 23 of 100\n"
     ]
    },
    {
     "name": "stderr",
     "output_type": "stream",
     "text": [
      "100%|██████████| 5/5 [00:00<00:00,  5.44it/s]\n",
      "100%|██████████| 1/1 [00:00<00:00, 11.97it/s]\n",
      "  0%|          | 0/5 [00:00<?, ?it/s]"
     ]
    },
    {
     "name": "stdout",
     "output_type": "stream",
     "text": [
      "Train Loss: 0.1400, Train Acc: 0.9460\n",
      "Val Loss: 0.1786, Val Acc: 0.9334\n",
      "Validation loss decreased (0.179568 --> 0.178624).  Saving model ...\n",
      "../../GRS_SavedModel/GRSModel_none/['2018-03']/best_model_epoch_23.pt\n",
      "../../GRS_SavedModel/GRSOpt_none/['2018-03']/best_optimizer_epoch_23.pt\n",
      "Epoch 24 of 100\n"
     ]
    },
    {
     "name": "stderr",
     "output_type": "stream",
     "text": [
      "100%|██████████| 5/5 [00:00<00:00,  5.60it/s]\n",
      "100%|██████████| 1/1 [00:00<00:00, 12.82it/s]\n",
      "  0%|          | 0/5 [00:00<?, ?it/s]"
     ]
    },
    {
     "name": "stdout",
     "output_type": "stream",
     "text": [
      "Train Loss: 0.1447, Train Acc: 0.9444\n",
      "Val Loss: 0.1770, Val Acc: 0.9334\n",
      "Validation loss decreased (0.178624 --> 0.177013).  Saving model ...\n",
      "../../GRS_SavedModel/GRSModel_none/['2018-03']/best_model_epoch_24.pt\n",
      "../../GRS_SavedModel/GRSOpt_none/['2018-03']/best_optimizer_epoch_24.pt\n",
      "Epoch 25 of 100\n"
     ]
    },
    {
     "name": "stderr",
     "output_type": "stream",
     "text": [
      "100%|██████████| 5/5 [00:00<00:00,  5.52it/s]\n",
      "100%|██████████| 1/1 [00:00<00:00, 11.73it/s]\n",
      "  0%|          | 0/5 [00:00<?, ?it/s]"
     ]
    },
    {
     "name": "stdout",
     "output_type": "stream",
     "text": [
      "Train Loss: 0.1399, Train Acc: 0.9448\n",
      "Val Loss: 0.1790, Val Acc: 0.9331\n",
      "EarlyStopping counter: 1 out of 5\n",
      "Epoch 26 of 100\n"
     ]
    },
    {
     "name": "stderr",
     "output_type": "stream",
     "text": [
      "100%|██████████| 5/5 [00:00<00:00,  5.37it/s]\n",
      "100%|██████████| 1/1 [00:00<00:00, 13.03it/s]\n",
      "  0%|          | 0/5 [00:00<?, ?it/s]"
     ]
    },
    {
     "name": "stdout",
     "output_type": "stream",
     "text": [
      "Train Loss: 0.1341, Train Acc: 0.9497\n",
      "Val Loss: 0.1791, Val Acc: 0.9326\n",
      "EarlyStopping counter: 2 out of 5\n",
      "Epoch 27 of 100\n"
     ]
    },
    {
     "name": "stderr",
     "output_type": "stream",
     "text": [
      "100%|██████████| 5/5 [00:01<00:00,  4.53it/s]\n",
      "100%|██████████| 1/1 [00:00<00:00, 12.25it/s]\n",
      "  0%|          | 0/5 [00:00<?, ?it/s]"
     ]
    },
    {
     "name": "stdout",
     "output_type": "stream",
     "text": [
      "Train Loss: 0.1402, Train Acc: 0.9441\n",
      "Val Loss: 0.1796, Val Acc: 0.9307\n",
      "EarlyStopping counter: 3 out of 5\n",
      "Epoch 28 of 100\n"
     ]
    },
    {
     "name": "stderr",
     "output_type": "stream",
     "text": [
      "100%|██████████| 5/5 [00:00<00:00,  5.35it/s]\n",
      "100%|██████████| 1/1 [00:00<00:00,  5.16it/s]\n",
      "  0%|          | 0/5 [00:00<?, ?it/s]"
     ]
    },
    {
     "name": "stdout",
     "output_type": "stream",
     "text": [
      "Train Loss: 0.1383, Train Acc: 0.9472\n",
      "Val Loss: 0.1807, Val Acc: 0.9339\n",
      "EarlyStopping counter: 4 out of 5\n",
      "Epoch 29 of 100\n"
     ]
    },
    {
     "name": "stderr",
     "output_type": "stream",
     "text": [
      "100%|██████████| 5/5 [00:00<00:00,  5.22it/s]\n",
      "100%|██████████| 1/1 [00:00<00:00, 12.02it/s]\n"
     ]
    },
    {
     "name": "stdout",
     "output_type": "stream",
     "text": [
      "Train Loss: 0.1338, Train Acc: 0.9479\n",
      "Val Loss: 0.1784, Val Acc: 0.9326\n",
      "EarlyStopping counter: 5 out of 5\n",
      "Early stopping\n",
      "Training time: 0.527 minutes\n",
      "loading best model ../../GRS_SavedModel/GRSModel_none/['2018-03']/best_model_epoch_24.pt\n",
      "loading best optimizer ../../GRS_SavedModel/GRSOpt_none/['2018-03']/best_optimizer_epoch_24.pt\n"
     ]
    },
    {
     "name": "stderr",
     "output_type": "stream",
     "text": [
      "100%|██████████| 2/2 [00:00<00:00,  5.95it/s]\n",
      "100%|██████████| 1/1 [00:00<00:00,  3.42it/s]\n",
      "100%|██████████| 1/1 [00:00<00:00,  4.02it/s]\n",
      "100%|██████████| 1/1 [00:00<00:00,  3.48it/s]\n",
      "100%|██████████| 1/1 [00:00<00:00,  3.65it/s]\n",
      "100%|██████████| 1/1 [00:00<00:00,  3.57it/s]\n",
      "100%|██████████| 1/1 [00:00<00:00,  3.36it/s]\n",
      "100%|██████████| 1/1 [00:00<00:00,  3.62it/s]\n",
      "100%|██████████| 2/2 [00:00<00:00,  5.85it/s]\n",
      "100%|██████████| 2/2 [00:00<00:00,  5.75it/s]\n",
      "100%|██████████| 2/2 [00:00<00:00,  5.05it/s]\n",
      "100%|██████████| 2/2 [00:00<00:00,  4.96it/s]\n"
     ]
    },
    {
     "name": "stdout",
     "output_type": "stream",
     "text": [
      "Elapsed time 3.493299361069997 mins.\n",
      "\n",
      "2024-05-27 02:05:19 Round 1 ...\n",
      "Current Task ['2018-04'] with Budget none\n",
      "X_train (46873, 2381) Y_train (46873,)\n",
      "\n",
      "2024-05-27 02:05:19 Standardizing ...\n"
     ]
    },
    {
     "name": "stderr",
     "output_type": "stream",
     "text": [
      "\r",
      "  0%|          | 0/7 [00:00<?, ?it/s]"
     ]
    },
    {
     "name": "stdout",
     "output_type": "stream",
     "text": [
      "Epoch 1 of 100\n"
     ]
    },
    {
     "name": "stderr",
     "output_type": "stream",
     "text": [
      "100%|██████████| 7/7 [00:01<00:00,  5.91it/s]\n",
      "100%|██████████| 1/1 [00:00<00:00, 10.82it/s]\n",
      "  0%|          | 0/7 [00:00<?, ?it/s]"
     ]
    },
    {
     "name": "stdout",
     "output_type": "stream",
     "text": [
      "Train Loss: 0.2062, Train Acc: 0.9223\n",
      "Val Loss: 0.1731, Val Acc: 0.9334\n",
      "Validation loss decreased (inf --> 0.173097).  Saving model ...\n",
      "../../GRS_SavedModel/GRSModel_none/['2018-04']/best_model_epoch_1.pt\n",
      "../../GRS_SavedModel/GRSOpt_none/['2018-04']/best_optimizer_epoch_1.pt\n",
      "Epoch 2 of 100\n"
     ]
    },
    {
     "name": "stderr",
     "output_type": "stream",
     "text": [
      "100%|██████████| 7/7 [00:01<00:00,  6.25it/s]\n",
      "100%|██████████| 1/1 [00:00<00:00, 10.56it/s]\n",
      "  0%|          | 0/7 [00:00<?, ?it/s]"
     ]
    },
    {
     "name": "stdout",
     "output_type": "stream",
     "text": [
      "Train Loss: 0.1708, Train Acc: 0.9334\n",
      "Val Loss: 0.1466, Val Acc: 0.9413\n",
      "Validation loss decreased (0.173097 --> 0.146574).  Saving model ...\n",
      "../../GRS_SavedModel/GRSModel_none/['2018-04']/best_model_epoch_2.pt\n",
      "../../GRS_SavedModel/GRSOpt_none/['2018-04']/best_optimizer_epoch_2.pt\n",
      "Epoch 3 of 100\n"
     ]
    },
    {
     "name": "stderr",
     "output_type": "stream",
     "text": [
      "100%|██████████| 7/7 [00:01<00:00,  5.94it/s]\n",
      "100%|██████████| 1/1 [00:00<00:00,  9.34it/s]\n",
      "  0%|          | 0/7 [00:00<?, ?it/s]"
     ]
    },
    {
     "name": "stdout",
     "output_type": "stream",
     "text": [
      "Train Loss: 0.1561, Train Acc: 0.9396\n",
      "Val Loss: 0.1384, Val Acc: 0.9467\n",
      "Validation loss decreased (0.146574 --> 0.138423).  Saving model ...\n",
      "../../GRS_SavedModel/GRSModel_none/['2018-04']/best_model_epoch_3.pt\n",
      "../../GRS_SavedModel/GRSOpt_none/['2018-04']/best_optimizer_epoch_3.pt\n",
      "Epoch 4 of 100\n"
     ]
    },
    {
     "name": "stderr",
     "output_type": "stream",
     "text": [
      "100%|██████████| 7/7 [00:01<00:00,  5.95it/s]\n",
      "100%|██████████| 1/1 [00:00<00:00,  4.63it/s]\n",
      "  0%|          | 0/7 [00:00<?, ?it/s]"
     ]
    },
    {
     "name": "stdout",
     "output_type": "stream",
     "text": [
      "Train Loss: 0.1462, Train Acc: 0.9444\n",
      "Val Loss: 0.1355, Val Acc: 0.9475\n",
      "Validation loss decreased (0.138423 --> 0.135548).  Saving model ...\n",
      "../../GRS_SavedModel/GRSModel_none/['2018-04']/best_model_epoch_4.pt\n",
      "../../GRS_SavedModel/GRSOpt_none/['2018-04']/best_optimizer_epoch_4.pt\n",
      "Epoch 5 of 100\n"
     ]
    },
    {
     "name": "stderr",
     "output_type": "stream",
     "text": [
      "100%|██████████| 7/7 [00:01<00:00,  6.28it/s]\n",
      "100%|██████████| 1/1 [00:00<00:00,  9.98it/s]\n",
      "  0%|          | 0/7 [00:00<?, ?it/s]"
     ]
    },
    {
     "name": "stdout",
     "output_type": "stream",
     "text": [
      "Train Loss: 0.1446, Train Acc: 0.9439\n",
      "Val Loss: 0.1329, Val Acc: 0.9488\n",
      "Validation loss decreased (0.135548 --> 0.132866).  Saving model ...\n",
      "../../GRS_SavedModel/GRSModel_none/['2018-04']/best_model_epoch_5.pt\n",
      "../../GRS_SavedModel/GRSOpt_none/['2018-04']/best_optimizer_epoch_5.pt\n",
      "Epoch 6 of 100\n"
     ]
    },
    {
     "name": "stderr",
     "output_type": "stream",
     "text": [
      "100%|██████████| 7/7 [00:01<00:00,  6.29it/s]\n",
      "100%|██████████| 1/1 [00:00<00:00, 12.60it/s]\n",
      "  0%|          | 0/7 [00:00<?, ?it/s]"
     ]
    },
    {
     "name": "stdout",
     "output_type": "stream",
     "text": [
      "Train Loss: 0.1351, Train Acc: 0.9477\n",
      "Val Loss: 0.1296, Val Acc: 0.9488\n",
      "Validation loss decreased (0.132866 --> 0.129636).  Saving model ...\n",
      "../../GRS_SavedModel/GRSModel_none/['2018-04']/best_model_epoch_6.pt\n",
      "../../GRS_SavedModel/GRSOpt_none/['2018-04']/best_optimizer_epoch_6.pt\n",
      "Epoch 7 of 100\n"
     ]
    },
    {
     "name": "stderr",
     "output_type": "stream",
     "text": [
      "100%|██████████| 7/7 [00:01<00:00,  6.74it/s]\n",
      "100%|██████████| 1/1 [00:00<00:00,  9.54it/s]\n",
      "  0%|          | 0/7 [00:00<?, ?it/s]"
     ]
    },
    {
     "name": "stdout",
     "output_type": "stream",
     "text": [
      "Train Loss: 0.1366, Train Acc: 0.9489\n",
      "Val Loss: 0.1276, Val Acc: 0.9488\n",
      "Validation loss decreased (0.129636 --> 0.127598).  Saving model ...\n",
      "../../GRS_SavedModel/GRSModel_none/['2018-04']/best_model_epoch_7.pt\n",
      "../../GRS_SavedModel/GRSOpt_none/['2018-04']/best_optimizer_epoch_7.pt\n",
      "Epoch 8 of 100\n"
     ]
    },
    {
     "name": "stderr",
     "output_type": "stream",
     "text": [
      "100%|██████████| 7/7 [00:01<00:00,  6.41it/s]\n",
      "100%|██████████| 1/1 [00:00<00:00,  9.77it/s]\n",
      "  0%|          | 0/7 [00:00<?, ?it/s]"
     ]
    },
    {
     "name": "stdout",
     "output_type": "stream",
     "text": [
      "Train Loss: 0.1294, Train Acc: 0.9508\n",
      "Val Loss: 0.1288, Val Acc: 0.9497\n",
      "EarlyStopping counter: 1 out of 5\n",
      "Epoch 9 of 100\n"
     ]
    },
    {
     "name": "stderr",
     "output_type": "stream",
     "text": [
      "100%|██████████| 7/7 [00:01<00:00,  6.47it/s]\n",
      "100%|██████████| 1/1 [00:00<00:00,  5.34it/s]\n",
      "  0%|          | 0/7 [00:00<?, ?it/s]"
     ]
    },
    {
     "name": "stdout",
     "output_type": "stream",
     "text": [
      "Train Loss: 0.1256, Train Acc: 0.9514\n",
      "Val Loss: 0.1282, Val Acc: 0.9492\n",
      "EarlyStopping counter: 2 out of 5\n",
      "Epoch 10 of 100\n"
     ]
    },
    {
     "name": "stderr",
     "output_type": "stream",
     "text": [
      "100%|██████████| 7/7 [00:01<00:00,  6.58it/s]\n",
      "100%|██████████| 1/1 [00:00<00:00,  9.59it/s]\n",
      "  0%|          | 0/7 [00:00<?, ?it/s]"
     ]
    },
    {
     "name": "stdout",
     "output_type": "stream",
     "text": [
      "Train Loss: 0.1244, Train Acc: 0.9519\n",
      "Val Loss: 0.1262, Val Acc: 0.9484\n",
      "Validation loss decreased (0.127598 --> 0.126208).  Saving model ...\n",
      "../../GRS_SavedModel/GRSModel_none/['2018-04']/best_model_epoch_10.pt\n",
      "../../GRS_SavedModel/GRSOpt_none/['2018-04']/best_optimizer_epoch_10.pt\n",
      "Epoch 11 of 100\n"
     ]
    },
    {
     "name": "stderr",
     "output_type": "stream",
     "text": [
      "100%|██████████| 7/7 [00:01<00:00,  6.20it/s]\n",
      "100%|██████████| 1/1 [00:00<00:00,  8.02it/s]\n",
      "  0%|          | 0/7 [00:00<?, ?it/s]"
     ]
    },
    {
     "name": "stdout",
     "output_type": "stream",
     "text": [
      "Train Loss: 0.1175, Train Acc: 0.9552\n",
      "Val Loss: 0.1255, Val Acc: 0.9514\n",
      "Validation loss decreased (0.126208 --> 0.125520).  Saving model ...\n",
      "../../GRS_SavedModel/GRSModel_none/['2018-04']/best_model_epoch_11.pt\n",
      "../../GRS_SavedModel/GRSOpt_none/['2018-04']/best_optimizer_epoch_11.pt\n",
      "Epoch 12 of 100\n"
     ]
    },
    {
     "name": "stderr",
     "output_type": "stream",
     "text": [
      "100%|██████████| 7/7 [00:01<00:00,  5.47it/s]\n",
      "100%|██████████| 1/1 [00:00<00:00,  9.34it/s]\n",
      "  0%|          | 0/7 [00:00<?, ?it/s]"
     ]
    },
    {
     "name": "stdout",
     "output_type": "stream",
     "text": [
      "Train Loss: 0.1176, Train Acc: 0.9551\n",
      "Val Loss: 0.1244, Val Acc: 0.9501\n",
      "Validation loss decreased (0.125520 --> 0.124412).  Saving model ...\n",
      "../../GRS_SavedModel/GRSModel_none/['2018-04']/best_model_epoch_12.pt\n",
      "../../GRS_SavedModel/GRSOpt_none/['2018-04']/best_optimizer_epoch_12.pt\n",
      "Epoch 13 of 100\n"
     ]
    },
    {
     "name": "stderr",
     "output_type": "stream",
     "text": [
      "100%|██████████| 7/7 [00:01<00:00,  6.36it/s]\n",
      "100%|██████████| 1/1 [00:00<00:00,  8.44it/s]\n",
      "  0%|          | 0/7 [00:00<?, ?it/s]"
     ]
    },
    {
     "name": "stdout",
     "output_type": "stream",
     "text": [
      "Train Loss: 0.1145, Train Acc: 0.9573\n",
      "Val Loss: 0.1245, Val Acc: 0.9507\n",
      "EarlyStopping counter: 1 out of 5\n",
      "Epoch 14 of 100\n"
     ]
    },
    {
     "name": "stderr",
     "output_type": "stream",
     "text": [
      "100%|██████████| 7/7 [00:01<00:00,  6.01it/s]\n",
      "100%|██████████| 1/1 [00:00<00:00,  5.19it/s]\n",
      "  0%|          | 0/7 [00:00<?, ?it/s]"
     ]
    },
    {
     "name": "stdout",
     "output_type": "stream",
     "text": [
      "Train Loss: 0.1160, Train Acc: 0.9564\n",
      "Val Loss: 0.1256, Val Acc: 0.9518\n",
      "EarlyStopping counter: 2 out of 5\n",
      "Epoch 15 of 100\n"
     ]
    },
    {
     "name": "stderr",
     "output_type": "stream",
     "text": [
      "100%|██████████| 7/7 [00:01<00:00,  6.66it/s]\n",
      "100%|██████████| 1/1 [00:00<00:00, 10.18it/s]\n",
      "  0%|          | 0/7 [00:00<?, ?it/s]"
     ]
    },
    {
     "name": "stdout",
     "output_type": "stream",
     "text": [
      "Train Loss: 0.1137, Train Acc: 0.9564\n",
      "Val Loss: 0.1238, Val Acc: 0.9520\n",
      "Validation loss decreased (0.124412 --> 0.123810).  Saving model ...\n",
      "../../GRS_SavedModel/GRSModel_none/['2018-04']/best_model_epoch_15.pt\n",
      "../../GRS_SavedModel/GRSOpt_none/['2018-04']/best_optimizer_epoch_15.pt\n",
      "Epoch 16 of 100\n"
     ]
    },
    {
     "name": "stderr",
     "output_type": "stream",
     "text": [
      "100%|██████████| 7/7 [00:01<00:00,  6.68it/s]\n",
      "100%|██████████| 1/1 [00:00<00:00,  9.77it/s]\n",
      "  0%|          | 0/7 [00:00<?, ?it/s]"
     ]
    },
    {
     "name": "stdout",
     "output_type": "stream",
     "text": [
      "Train Loss: 0.1114, Train Acc: 0.9580\n",
      "Val Loss: 0.1239, Val Acc: 0.9522\n",
      "EarlyStopping counter: 1 out of 5\n",
      "Epoch 17 of 100\n"
     ]
    },
    {
     "name": "stderr",
     "output_type": "stream",
     "text": [
      "100%|██████████| 7/7 [00:01<00:00,  6.06it/s]\n",
      "100%|██████████| 1/1 [00:00<00:00,  9.50it/s]\n",
      "  0%|          | 0/7 [00:00<?, ?it/s]"
     ]
    },
    {
     "name": "stdout",
     "output_type": "stream",
     "text": [
      "Train Loss: 0.1059, Train Acc: 0.9609\n",
      "Val Loss: 0.1232, Val Acc: 0.9520\n",
      "Validation loss decreased (0.123810 --> 0.123231).  Saving model ...\n",
      "../../GRS_SavedModel/GRSModel_none/['2018-04']/best_model_epoch_17.pt\n",
      "../../GRS_SavedModel/GRSOpt_none/['2018-04']/best_optimizer_epoch_17.pt\n",
      "Epoch 18 of 100\n"
     ]
    },
    {
     "name": "stderr",
     "output_type": "stream",
     "text": [
      "100%|██████████| 7/7 [00:01<00:00,  6.15it/s]\n",
      "100%|██████████| 1/1 [00:00<00:00, 10.08it/s]\n",
      "  0%|          | 0/7 [00:00<?, ?it/s]"
     ]
    },
    {
     "name": "stdout",
     "output_type": "stream",
     "text": [
      "Train Loss: 0.1113, Train Acc: 0.9574\n",
      "Val Loss: 0.1227, Val Acc: 0.9512\n",
      "Validation loss decreased (0.123231 --> 0.122675).  Saving model ...\n",
      "../../GRS_SavedModel/GRSModel_none/['2018-04']/best_model_epoch_18.pt\n",
      "../../GRS_SavedModel/GRSOpt_none/['2018-04']/best_optimizer_epoch_18.pt\n",
      "Epoch 19 of 100\n"
     ]
    },
    {
     "name": "stderr",
     "output_type": "stream",
     "text": [
      "100%|██████████| 7/7 [00:00<00:00,  7.30it/s]\n",
      "100%|██████████| 1/1 [00:00<00:00,  8.87it/s]\n",
      "  0%|          | 0/7 [00:00<?, ?it/s]"
     ]
    },
    {
     "name": "stdout",
     "output_type": "stream",
     "text": [
      "Train Loss: 0.1065, Train Acc: 0.9594\n",
      "Val Loss: 0.1233, Val Acc: 0.9531\n",
      "EarlyStopping counter: 1 out of 5\n",
      "Epoch 20 of 100\n"
     ]
    },
    {
     "name": "stderr",
     "output_type": "stream",
     "text": [
      "100%|██████████| 7/7 [00:00<00:00,  7.58it/s]\n",
      "100%|██████████| 1/1 [00:00<00:00,  4.53it/s]\n",
      "  0%|          | 0/7 [00:00<?, ?it/s]"
     ]
    },
    {
     "name": "stdout",
     "output_type": "stream",
     "text": [
      "Train Loss: 0.1030, Train Acc: 0.9615\n",
      "Val Loss: 0.1225, Val Acc: 0.9535\n",
      "Validation loss decreased (0.122675 --> 0.122479).  Saving model ...\n",
      "../../GRS_SavedModel/GRSModel_none/['2018-04']/best_model_epoch_20.pt\n",
      "../../GRS_SavedModel/GRSOpt_none/['2018-04']/best_optimizer_epoch_20.pt\n",
      "Epoch 21 of 100\n"
     ]
    },
    {
     "name": "stderr",
     "output_type": "stream",
     "text": [
      "100%|██████████| 7/7 [00:01<00:00,  5.63it/s]\n",
      "100%|██████████| 1/1 [00:00<00:00, 10.18it/s]\n",
      "  0%|          | 0/7 [00:00<?, ?it/s]"
     ]
    },
    {
     "name": "stdout",
     "output_type": "stream",
     "text": [
      "Train Loss: 0.1016, Train Acc: 0.9625\n",
      "Val Loss: 0.1210, Val Acc: 0.9541\n",
      "Validation loss decreased (0.122479 --> 0.121030).  Saving model ...\n",
      "../../GRS_SavedModel/GRSModel_none/['2018-04']/best_model_epoch_21.pt\n",
      "../../GRS_SavedModel/GRSOpt_none/['2018-04']/best_optimizer_epoch_21.pt\n",
      "Epoch 22 of 100\n"
     ]
    },
    {
     "name": "stderr",
     "output_type": "stream",
     "text": [
      "100%|██████████| 7/7 [00:00<00:00,  7.13it/s]\n",
      "100%|██████████| 1/1 [00:00<00:00, 10.82it/s]\n",
      "  0%|          | 0/7 [00:00<?, ?it/s]"
     ]
    },
    {
     "name": "stdout",
     "output_type": "stream",
     "text": [
      "Train Loss: 0.0978, Train Acc: 0.9633\n",
      "Val Loss: 0.1200, Val Acc: 0.9541\n",
      "Validation loss decreased (0.121030 --> 0.119959).  Saving model ...\n",
      "../../GRS_SavedModel/GRSModel_none/['2018-04']/best_model_epoch_22.pt\n",
      "../../GRS_SavedModel/GRSOpt_none/['2018-04']/best_optimizer_epoch_22.pt\n",
      "Epoch 23 of 100\n"
     ]
    },
    {
     "name": "stderr",
     "output_type": "stream",
     "text": [
      "100%|██████████| 7/7 [00:01<00:00,  6.63it/s]\n",
      "100%|██████████| 1/1 [00:00<00:00,  9.31it/s]\n",
      "  0%|          | 0/7 [00:00<?, ?it/s]"
     ]
    },
    {
     "name": "stdout",
     "output_type": "stream",
     "text": [
      "Train Loss: 0.0984, Train Acc: 0.9626\n",
      "Val Loss: 0.1212, Val Acc: 0.9529\n",
      "EarlyStopping counter: 1 out of 5\n",
      "Epoch 24 of 100\n"
     ]
    },
    {
     "name": "stderr",
     "output_type": "stream",
     "text": [
      "100%|██████████| 7/7 [00:01<00:00,  6.83it/s]\n",
      "100%|██████████| 1/1 [00:00<00:00, 12.56it/s]\n",
      "  0%|          | 0/7 [00:00<?, ?it/s]"
     ]
    },
    {
     "name": "stdout",
     "output_type": "stream",
     "text": [
      "Train Loss: 0.0995, Train Acc: 0.9615\n",
      "Val Loss: 0.1214, Val Acc: 0.9533\n",
      "EarlyStopping counter: 2 out of 5\n",
      "Epoch 25 of 100\n"
     ]
    },
    {
     "name": "stderr",
     "output_type": "stream",
     "text": [
      "100%|██████████| 7/7 [00:01<00:00,  5.76it/s]\n",
      "100%|██████████| 1/1 [00:00<00:00,  4.83it/s]\n",
      "  0%|          | 0/7 [00:00<?, ?it/s]"
     ]
    },
    {
     "name": "stdout",
     "output_type": "stream",
     "text": [
      "Train Loss: 0.0973, Train Acc: 0.9638\n",
      "Val Loss: 0.1211, Val Acc: 0.9531\n",
      "EarlyStopping counter: 3 out of 5\n",
      "Epoch 26 of 100\n"
     ]
    },
    {
     "name": "stderr",
     "output_type": "stream",
     "text": [
      "100%|██████████| 7/7 [00:01<00:00,  6.45it/s]\n",
      "100%|██████████| 1/1 [00:00<00:00, 10.20it/s]\n",
      "  0%|          | 0/7 [00:00<?, ?it/s]"
     ]
    },
    {
     "name": "stdout",
     "output_type": "stream",
     "text": [
      "Train Loss: 0.0942, Train Acc: 0.9642\n",
      "Val Loss: 0.1204, Val Acc: 0.9552\n",
      "EarlyStopping counter: 4 out of 5\n",
      "Epoch 27 of 100\n"
     ]
    },
    {
     "name": "stderr",
     "output_type": "stream",
     "text": [
      "100%|██████████| 7/7 [00:01<00:00,  6.81it/s]\n",
      "100%|██████████| 1/1 [00:00<00:00, 10.27it/s]\n"
     ]
    },
    {
     "name": "stdout",
     "output_type": "stream",
     "text": [
      "Train Loss: 0.0942, Train Acc: 0.9653\n",
      "Val Loss: 0.1213, Val Acc: 0.9537\n",
      "EarlyStopping counter: 5 out of 5\n",
      "Early stopping\n",
      "Training time: 0.573 minutes\n",
      "loading best model ../../GRS_SavedModel/GRSModel_none/['2018-04']/best_model_epoch_22.pt\n",
      "loading best optimizer ../../GRS_SavedModel/GRSOpt_none/['2018-04']/best_optimizer_epoch_22.pt\n"
     ]
    },
    {
     "name": "stderr",
     "output_type": "stream",
     "text": [
      "100%|██████████| 2/2 [00:00<00:00,  6.03it/s]\n",
      "100%|██████████| 1/1 [00:00<00:00,  3.41it/s]\n",
      "100%|██████████| 1/1 [00:00<00:00,  3.90it/s]\n",
      "100%|██████████| 1/1 [00:00<00:00,  3.48it/s]\n",
      "100%|██████████| 1/1 [00:00<00:00,  3.77it/s]\n",
      "100%|██████████| 1/1 [00:00<00:00,  3.59it/s]\n",
      "100%|██████████| 1/1 [00:00<00:00,  3.47it/s]\n",
      "100%|██████████| 1/1 [00:00<00:00,  3.71it/s]\n",
      "100%|██████████| 2/2 [00:00<00:00,  5.85it/s]\n",
      "100%|██████████| 2/2 [00:00<00:00,  5.42it/s]\n",
      "100%|██████████| 2/2 [00:00<00:00,  3.43it/s]\n",
      "100%|██████████| 2/2 [00:00<00:00,  3.57it/s]\n"
     ]
    },
    {
     "name": "stdout",
     "output_type": "stream",
     "text": [
      "Elapsed time 4.239651513099671 mins.\n",
      "\n",
      "2024-05-27 02:06:04 Round 1 ...\n",
      "Current Task ['2018-05'] with Budget none\n",
      "X_train (41320, 2381) Y_train (41320,)\n",
      "\n",
      "2024-05-27 02:06:04 Standardizing ...\n"
     ]
    },
    {
     "name": "stderr",
     "output_type": "stream",
     "text": [
      "\r",
      "  0%|          | 0/6 [00:00<?, ?it/s]"
     ]
    },
    {
     "name": "stdout",
     "output_type": "stream",
     "text": [
      "Epoch 1 of 100\n"
     ]
    },
    {
     "name": "stderr",
     "output_type": "stream",
     "text": [
      "100%|██████████| 6/6 [00:01<00:00,  5.54it/s]\n",
      "100%|██████████| 1/1 [00:00<00:00, 10.93it/s]\n",
      "  0%|          | 0/6 [00:00<?, ?it/s]"
     ]
    },
    {
     "name": "stdout",
     "output_type": "stream",
     "text": [
      "Train Loss: 0.1960, Train Acc: 0.9304\n",
      "Val Loss: 0.1646, Val Acc: 0.9390\n",
      "Validation loss decreased (inf --> 0.164560).  Saving model ...\n",
      "../../GRS_SavedModel/GRSModel_none/['2018-05']/best_model_epoch_1.pt\n",
      "../../GRS_SavedModel/GRSOpt_none/['2018-05']/best_optimizer_epoch_1.pt\n",
      "Epoch 2 of 100\n"
     ]
    },
    {
     "name": "stderr",
     "output_type": "stream",
     "text": [
      "100%|██████████| 6/6 [00:00<00:00,  6.02it/s]\n",
      "100%|██████████| 1/1 [00:00<00:00, 11.76it/s]\n",
      "  0%|          | 0/6 [00:00<?, ?it/s]"
     ]
    },
    {
     "name": "stdout",
     "output_type": "stream",
     "text": [
      "Train Loss: 0.1863, Train Acc: 0.9310\n",
      "Val Loss: 0.1631, Val Acc: 0.9383\n",
      "Validation loss decreased (0.164560 --> 0.163137).  Saving model ...\n",
      "../../GRS_SavedModel/GRSModel_none/['2018-05']/best_model_epoch_2.pt\n",
      "../../GRS_SavedModel/GRSOpt_none/['2018-05']/best_optimizer_epoch_2.pt\n",
      "Epoch 3 of 100\n"
     ]
    },
    {
     "name": "stderr",
     "output_type": "stream",
     "text": [
      "100%|██████████| 6/6 [00:01<00:00,  4.95it/s]\n",
      "100%|██████████| 1/1 [00:00<00:00,  5.03it/s]\n",
      "  0%|          | 0/6 [00:00<?, ?it/s]"
     ]
    },
    {
     "name": "stdout",
     "output_type": "stream",
     "text": [
      "Train Loss: 0.1694, Train Acc: 0.9365\n",
      "Val Loss: 0.1587, Val Acc: 0.9383\n",
      "Validation loss decreased (0.163137 --> 0.158675).  Saving model ...\n",
      "../../GRS_SavedModel/GRSModel_none/['2018-05']/best_model_epoch_3.pt\n",
      "../../GRS_SavedModel/GRSOpt_none/['2018-05']/best_optimizer_epoch_3.pt\n",
      "Epoch 4 of 100\n"
     ]
    },
    {
     "name": "stderr",
     "output_type": "stream",
     "text": [
      "100%|██████████| 6/6 [00:01<00:00,  5.75it/s]\n",
      "100%|██████████| 1/1 [00:00<00:00,  9.26it/s]\n",
      "  0%|          | 0/6 [00:00<?, ?it/s]"
     ]
    },
    {
     "name": "stdout",
     "output_type": "stream",
     "text": [
      "Train Loss: 0.1626, Train Acc: 0.9374\n",
      "Val Loss: 0.1525, Val Acc: 0.9419\n",
      "Validation loss decreased (0.158675 --> 0.152514).  Saving model ...\n",
      "../../GRS_SavedModel/GRSModel_none/['2018-05']/best_model_epoch_4.pt\n",
      "../../GRS_SavedModel/GRSOpt_none/['2018-05']/best_optimizer_epoch_4.pt\n",
      "Epoch 5 of 100\n"
     ]
    },
    {
     "name": "stderr",
     "output_type": "stream",
     "text": [
      "100%|██████████| 6/6 [00:00<00:00,  6.06it/s]\n",
      "100%|██████████| 1/1 [00:00<00:00, 11.45it/s]\n",
      "  0%|          | 0/6 [00:00<?, ?it/s]"
     ]
    },
    {
     "name": "stdout",
     "output_type": "stream",
     "text": [
      "Train Loss: 0.1524, Train Acc: 0.9428\n",
      "Val Loss: 0.1515, Val Acc: 0.9407\n",
      "Validation loss decreased (0.152514 --> 0.151483).  Saving model ...\n",
      "../../GRS_SavedModel/GRSModel_none/['2018-05']/best_model_epoch_5.pt\n",
      "../../GRS_SavedModel/GRSOpt_none/['2018-05']/best_optimizer_epoch_5.pt\n",
      "Epoch 6 of 100\n"
     ]
    },
    {
     "name": "stderr",
     "output_type": "stream",
     "text": [
      "100%|██████████| 6/6 [00:01<00:00,  5.77it/s]\n",
      "100%|██████████| 1/1 [00:00<00:00, 10.92it/s]\n",
      "  0%|          | 0/6 [00:00<?, ?it/s]"
     ]
    },
    {
     "name": "stdout",
     "output_type": "stream",
     "text": [
      "Train Loss: 0.1471, Train Acc: 0.9439\n",
      "Val Loss: 0.1496, Val Acc: 0.9431\n",
      "Validation loss decreased (0.151483 --> 0.149633).  Saving model ...\n",
      "../../GRS_SavedModel/GRSModel_none/['2018-05']/best_model_epoch_6.pt\n",
      "../../GRS_SavedModel/GRSOpt_none/['2018-05']/best_optimizer_epoch_6.pt\n",
      "Epoch 7 of 100\n"
     ]
    },
    {
     "name": "stderr",
     "output_type": "stream",
     "text": [
      "100%|██████████| 6/6 [00:01<00:00,  5.46it/s]\n",
      "100%|██████████| 1/1 [00:00<00:00, 11.42it/s]\n",
      "  0%|          | 0/6 [00:00<?, ?it/s]"
     ]
    },
    {
     "name": "stdout",
     "output_type": "stream",
     "text": [
      "Train Loss: 0.1431, Train Acc: 0.9452\n",
      "Val Loss: 0.1484, Val Acc: 0.9422\n",
      "Validation loss decreased (0.149633 --> 0.148438).  Saving model ...\n",
      "../../GRS_SavedModel/GRSModel_none/['2018-05']/best_model_epoch_7.pt\n",
      "../../GRS_SavedModel/GRSOpt_none/['2018-05']/best_optimizer_epoch_7.pt\n",
      "Epoch 8 of 100\n"
     ]
    },
    {
     "name": "stderr",
     "output_type": "stream",
     "text": [
      "100%|██████████| 6/6 [00:01<00:00,  5.34it/s]\n",
      "100%|██████████| 1/1 [00:00<00:00, 10.43it/s]\n",
      "  0%|          | 0/6 [00:00<?, ?it/s]"
     ]
    },
    {
     "name": "stdout",
     "output_type": "stream",
     "text": [
      "Train Loss: 0.1356, Train Acc: 0.9492\n",
      "Val Loss: 0.1474, Val Acc: 0.9422\n",
      "Validation loss decreased (0.148438 --> 0.147391).  Saving model ...\n",
      "../../GRS_SavedModel/GRSModel_none/['2018-05']/best_model_epoch_8.pt\n",
      "../../GRS_SavedModel/GRSOpt_none/['2018-05']/best_optimizer_epoch_8.pt\n",
      "Epoch 9 of 100\n"
     ]
    },
    {
     "name": "stderr",
     "output_type": "stream",
     "text": [
      "100%|██████████| 6/6 [00:01<00:00,  5.96it/s]\n",
      "100%|██████████| 1/1 [00:00<00:00,  5.99it/s]\n",
      "  0%|          | 0/6 [00:00<?, ?it/s]"
     ]
    },
    {
     "name": "stdout",
     "output_type": "stream",
     "text": [
      "Train Loss: 0.1340, Train Acc: 0.9485\n",
      "Val Loss: 0.1474, Val Acc: 0.9439\n",
      "Validation loss decreased (0.147391 --> 0.147366).  Saving model ...\n",
      "../../GRS_SavedModel/GRSModel_none/['2018-05']/best_model_epoch_9.pt\n",
      "../../GRS_SavedModel/GRSOpt_none/['2018-05']/best_optimizer_epoch_9.pt\n",
      "Epoch 10 of 100\n"
     ]
    },
    {
     "name": "stderr",
     "output_type": "stream",
     "text": [
      "100%|██████████| 6/6 [00:01<00:00,  5.68it/s]\n",
      "100%|██████████| 1/1 [00:00<00:00, 10.44it/s]\n",
      "  0%|          | 0/6 [00:00<?, ?it/s]"
     ]
    },
    {
     "name": "stdout",
     "output_type": "stream",
     "text": [
      "Train Loss: 0.1342, Train Acc: 0.9493\n",
      "Val Loss: 0.1480, Val Acc: 0.9434\n",
      "EarlyStopping counter: 1 out of 5\n",
      "Epoch 11 of 100\n"
     ]
    },
    {
     "name": "stderr",
     "output_type": "stream",
     "text": [
      "100%|██████████| 6/6 [00:00<00:00,  6.12it/s]\n",
      "100%|██████████| 1/1 [00:00<00:00, 10.57it/s]\n",
      "  0%|          | 0/6 [00:00<?, ?it/s]"
     ]
    },
    {
     "name": "stdout",
     "output_type": "stream",
     "text": [
      "Train Loss: 0.1283, Train Acc: 0.9511\n",
      "Val Loss: 0.1479, Val Acc: 0.9426\n",
      "EarlyStopping counter: 2 out of 5\n",
      "Epoch 12 of 100\n"
     ]
    },
    {
     "name": "stderr",
     "output_type": "stream",
     "text": [
      "100%|██████████| 6/6 [00:01<00:00,  5.72it/s]\n",
      "100%|██████████| 1/1 [00:00<00:00, 11.22it/s]\n",
      "  0%|          | 0/6 [00:00<?, ?it/s]"
     ]
    },
    {
     "name": "stdout",
     "output_type": "stream",
     "text": [
      "Train Loss: 0.1330, Train Acc: 0.9489\n",
      "Val Loss: 0.1462, Val Acc: 0.9451\n",
      "Validation loss decreased (0.147366 --> 0.146185).  Saving model ...\n",
      "../../GRS_SavedModel/GRSModel_none/['2018-05']/best_model_epoch_12.pt\n",
      "../../GRS_SavedModel/GRSOpt_none/['2018-05']/best_optimizer_epoch_12.pt\n",
      "Epoch 13 of 100\n"
     ]
    },
    {
     "name": "stderr",
     "output_type": "stream",
     "text": [
      "100%|██████████| 6/6 [00:01<00:00,  5.59it/s]\n",
      "100%|██████████| 1/1 [00:00<00:00,  9.81it/s]\n",
      "  0%|          | 0/6 [00:00<?, ?it/s]"
     ]
    },
    {
     "name": "stdout",
     "output_type": "stream",
     "text": [
      "Train Loss: 0.1270, Train Acc: 0.9510\n",
      "Val Loss: 0.1474, Val Acc: 0.9451\n",
      "EarlyStopping counter: 1 out of 5\n",
      "Epoch 14 of 100\n"
     ]
    },
    {
     "name": "stderr",
     "output_type": "stream",
     "text": [
      "100%|██████████| 6/6 [00:01<00:00,  5.60it/s]\n",
      "100%|██████████| 1/1 [00:00<00:00,  4.89it/s]\n",
      "  0%|          | 0/6 [00:00<?, ?it/s]"
     ]
    },
    {
     "name": "stdout",
     "output_type": "stream",
     "text": [
      "Train Loss: 0.1241, Train Acc: 0.9523\n",
      "Val Loss: 0.1461, Val Acc: 0.9455\n",
      "Validation loss decreased (0.146185 --> 0.146057).  Saving model ...\n",
      "../../GRS_SavedModel/GRSModel_none/['2018-05']/best_model_epoch_14.pt\n",
      "../../GRS_SavedModel/GRSOpt_none/['2018-05']/best_optimizer_epoch_14.pt\n",
      "Epoch 15 of 100\n"
     ]
    },
    {
     "name": "stderr",
     "output_type": "stream",
     "text": [
      "100%|██████████| 6/6 [00:00<00:00,  6.04it/s]\n",
      "100%|██████████| 1/1 [00:00<00:00, 11.39it/s]\n",
      "  0%|          | 0/6 [00:00<?, ?it/s]"
     ]
    },
    {
     "name": "stdout",
     "output_type": "stream",
     "text": [
      "Train Loss: 0.1201, Train Acc: 0.9544\n",
      "Val Loss: 0.1477, Val Acc: 0.9448\n",
      "EarlyStopping counter: 1 out of 5\n",
      "Epoch 16 of 100\n"
     ]
    },
    {
     "name": "stderr",
     "output_type": "stream",
     "text": [
      "100%|██████████| 6/6 [00:01<00:00,  5.90it/s]\n",
      "100%|██████████| 1/1 [00:00<00:00, 12.92it/s]\n",
      "  0%|          | 0/6 [00:00<?, ?it/s]"
     ]
    },
    {
     "name": "stdout",
     "output_type": "stream",
     "text": [
      "Train Loss: 0.1215, Train Acc: 0.9530\n",
      "Val Loss: 0.1493, Val Acc: 0.9439\n",
      "EarlyStopping counter: 2 out of 5\n",
      "Epoch 17 of 100\n"
     ]
    },
    {
     "name": "stderr",
     "output_type": "stream",
     "text": [
      "100%|██████████| 6/6 [00:01<00:00,  5.94it/s]\n",
      "100%|██████████| 1/1 [00:00<00:00, 10.95it/s]\n",
      "  0%|          | 0/6 [00:00<?, ?it/s]"
     ]
    },
    {
     "name": "stdout",
     "output_type": "stream",
     "text": [
      "Train Loss: 0.1197, Train Acc: 0.9539\n",
      "Val Loss: 0.1457, Val Acc: 0.9460\n",
      "Validation loss decreased (0.146057 --> 0.145743).  Saving model ...\n",
      "../../GRS_SavedModel/GRSModel_none/['2018-05']/best_model_epoch_17.pt\n",
      "../../GRS_SavedModel/GRSOpt_none/['2018-05']/best_optimizer_epoch_17.pt\n",
      "Epoch 18 of 100\n"
     ]
    },
    {
     "name": "stderr",
     "output_type": "stream",
     "text": [
      "100%|██████████| 6/6 [00:01<00:00,  5.69it/s]\n",
      "100%|██████████| 1/1 [00:00<00:00, 11.23it/s]\n",
      "  0%|          | 0/6 [00:00<?, ?it/s]"
     ]
    },
    {
     "name": "stdout",
     "output_type": "stream",
     "text": [
      "Train Loss: 0.1151, Train Acc: 0.9561\n",
      "Val Loss: 0.1439, Val Acc: 0.9458\n",
      "Validation loss decreased (0.145743 --> 0.143897).  Saving model ...\n",
      "../../GRS_SavedModel/GRSModel_none/['2018-05']/best_model_epoch_18.pt\n",
      "../../GRS_SavedModel/GRSOpt_none/['2018-05']/best_optimizer_epoch_18.pt\n",
      "Epoch 19 of 100\n"
     ]
    },
    {
     "name": "stderr",
     "output_type": "stream",
     "text": [
      "100%|██████████| 6/6 [00:01<00:00,  5.69it/s]\n",
      "100%|██████████| 1/1 [00:00<00:00,  9.14it/s]\n",
      "  0%|          | 0/6 [00:00<?, ?it/s]"
     ]
    },
    {
     "name": "stdout",
     "output_type": "stream",
     "text": [
      "Train Loss: 0.1134, Train Acc: 0.9567\n",
      "Val Loss: 0.1463, Val Acc: 0.9453\n",
      "EarlyStopping counter: 1 out of 5\n",
      "Epoch 20 of 100\n"
     ]
    },
    {
     "name": "stderr",
     "output_type": "stream",
     "text": [
      "100%|██████████| 6/6 [00:01<00:00,  5.59it/s]\n",
      "100%|██████████| 1/1 [00:00<00:00,  5.86it/s]\n",
      "  0%|          | 0/6 [00:00<?, ?it/s]"
     ]
    },
    {
     "name": "stdout",
     "output_type": "stream",
     "text": [
      "Train Loss: 0.1140, Train Acc: 0.9571\n",
      "Val Loss: 0.1429, Val Acc: 0.9470\n",
      "Validation loss decreased (0.143897 --> 0.142934).  Saving model ...\n",
      "../../GRS_SavedModel/GRSModel_none/['2018-05']/best_model_epoch_20.pt\n",
      "../../GRS_SavedModel/GRSOpt_none/['2018-05']/best_optimizer_epoch_20.pt\n",
      "Epoch 21 of 100\n"
     ]
    },
    {
     "name": "stderr",
     "output_type": "stream",
     "text": [
      "100%|██████████| 6/6 [00:00<00:00,  6.91it/s]\n",
      "100%|██████████| 1/1 [00:00<00:00, 11.66it/s]\n",
      "  0%|          | 0/6 [00:00<?, ?it/s]"
     ]
    },
    {
     "name": "stdout",
     "output_type": "stream",
     "text": [
      "Train Loss: 0.1101, Train Acc: 0.9580\n",
      "Val Loss: 0.1429, Val Acc: 0.9460\n",
      "Validation loss decreased (0.142934 --> 0.142916).  Saving model ...\n",
      "../../GRS_SavedModel/GRSModel_none/['2018-05']/best_model_epoch_21.pt\n",
      "../../GRS_SavedModel/GRSOpt_none/['2018-05']/best_optimizer_epoch_21.pt\n",
      "Epoch 22 of 100\n"
     ]
    },
    {
     "name": "stderr",
     "output_type": "stream",
     "text": [
      "100%|██████████| 6/6 [00:01<00:00,  5.71it/s]\n",
      "100%|██████████| 1/1 [00:00<00:00, 10.15it/s]\n",
      "  0%|          | 0/6 [00:00<?, ?it/s]"
     ]
    },
    {
     "name": "stdout",
     "output_type": "stream",
     "text": [
      "Train Loss: 0.1123, Train Acc: 0.9578\n",
      "Val Loss: 0.1428, Val Acc: 0.9480\n",
      "Validation loss decreased (0.142916 --> 0.142831).  Saving model ...\n",
      "../../GRS_SavedModel/GRSModel_none/['2018-05']/best_model_epoch_22.pt\n",
      "../../GRS_SavedModel/GRSOpt_none/['2018-05']/best_optimizer_epoch_22.pt\n",
      "Epoch 23 of 100\n"
     ]
    },
    {
     "name": "stderr",
     "output_type": "stream",
     "text": [
      "100%|██████████| 6/6 [00:01<00:00,  5.77it/s]\n",
      "100%|██████████| 1/1 [00:00<00:00, 11.03it/s]\n",
      "  0%|          | 0/6 [00:00<?, ?it/s]"
     ]
    },
    {
     "name": "stdout",
     "output_type": "stream",
     "text": [
      "Train Loss: 0.1121, Train Acc: 0.9579\n",
      "Val Loss: 0.1423, Val Acc: 0.9472\n",
      "Validation loss decreased (0.142831 --> 0.142304).  Saving model ...\n",
      "../../GRS_SavedModel/GRSModel_none/['2018-05']/best_model_epoch_23.pt\n",
      "../../GRS_SavedModel/GRSOpt_none/['2018-05']/best_optimizer_epoch_23.pt\n",
      "Epoch 24 of 100\n"
     ]
    },
    {
     "name": "stderr",
     "output_type": "stream",
     "text": [
      "100%|██████████| 6/6 [00:01<00:00,  5.46it/s]\n",
      "100%|██████████| 1/1 [00:00<00:00, 11.50it/s]\n",
      "  0%|          | 0/6 [00:00<?, ?it/s]"
     ]
    },
    {
     "name": "stdout",
     "output_type": "stream",
     "text": [
      "Train Loss: 0.1075, Train Acc: 0.9579\n",
      "Val Loss: 0.1433, Val Acc: 0.9470\n",
      "EarlyStopping counter: 1 out of 5\n",
      "Epoch 25 of 100\n"
     ]
    },
    {
     "name": "stderr",
     "output_type": "stream",
     "text": [
      "100%|██████████| 6/6 [00:01<00:00,  4.83it/s]\n",
      "100%|██████████| 1/1 [00:00<00:00, 10.31it/s]\n",
      "  0%|          | 0/6 [00:00<?, ?it/s]"
     ]
    },
    {
     "name": "stdout",
     "output_type": "stream",
     "text": [
      "Train Loss: 0.1052, Train Acc: 0.9601\n",
      "Val Loss: 0.1415, Val Acc: 0.9509\n",
      "Validation loss decreased (0.142304 --> 0.141489).  Saving model ...\n",
      "../../GRS_SavedModel/GRSModel_none/['2018-05']/best_model_epoch_25.pt\n",
      "../../GRS_SavedModel/GRSOpt_none/['2018-05']/best_optimizer_epoch_25.pt\n",
      "Epoch 26 of 100\n"
     ]
    },
    {
     "name": "stderr",
     "output_type": "stream",
     "text": [
      "100%|██████████| 6/6 [00:01<00:00,  5.78it/s]\n",
      "100%|██████████| 1/1 [00:00<00:00,  4.90it/s]\n",
      "  0%|          | 0/6 [00:00<?, ?it/s]"
     ]
    },
    {
     "name": "stdout",
     "output_type": "stream",
     "text": [
      "Train Loss: 0.1057, Train Acc: 0.9616\n",
      "Val Loss: 0.1431, Val Acc: 0.9472\n",
      "EarlyStopping counter: 1 out of 5\n",
      "Epoch 27 of 100\n"
     ]
    },
    {
     "name": "stderr",
     "output_type": "stream",
     "text": [
      "100%|██████████| 6/6 [00:01<00:00,  5.91it/s]\n",
      "100%|██████████| 1/1 [00:00<00:00, 10.83it/s]\n",
      "  0%|          | 0/6 [00:00<?, ?it/s]"
     ]
    },
    {
     "name": "stdout",
     "output_type": "stream",
     "text": [
      "Train Loss: 0.1047, Train Acc: 0.9607\n",
      "Val Loss: 0.1424, Val Acc: 0.9499\n",
      "EarlyStopping counter: 2 out of 5\n",
      "Epoch 28 of 100\n"
     ]
    },
    {
     "name": "stderr",
     "output_type": "stream",
     "text": [
      "100%|██████████| 6/6 [00:00<00:00,  6.06it/s]\n",
      "100%|██████████| 1/1 [00:00<00:00, 11.33it/s]\n",
      "  0%|          | 0/6 [00:00<?, ?it/s]"
     ]
    },
    {
     "name": "stdout",
     "output_type": "stream",
     "text": [
      "Train Loss: 0.1021, Train Acc: 0.9603\n",
      "Val Loss: 0.1427, Val Acc: 0.9477\n",
      "EarlyStopping counter: 3 out of 5\n",
      "Epoch 29 of 100\n"
     ]
    },
    {
     "name": "stderr",
     "output_type": "stream",
     "text": [
      "100%|██████████| 6/6 [00:01<00:00,  5.69it/s]\n",
      "100%|██████████| 1/1 [00:00<00:00,  9.97it/s]\n",
      "  0%|          | 0/6 [00:00<?, ?it/s]"
     ]
    },
    {
     "name": "stdout",
     "output_type": "stream",
     "text": [
      "Train Loss: 0.1030, Train Acc: 0.9609\n",
      "Val Loss: 0.1449, Val Acc: 0.9477\n",
      "EarlyStopping counter: 4 out of 5\n",
      "Epoch 30 of 100\n"
     ]
    },
    {
     "name": "stderr",
     "output_type": "stream",
     "text": [
      "100%|██████████| 6/6 [00:01<00:00,  5.41it/s]\n",
      "100%|██████████| 1/1 [00:00<00:00, 11.53it/s]\n"
     ]
    },
    {
     "name": "stdout",
     "output_type": "stream",
     "text": [
      "Train Loss: 0.1019, Train Acc: 0.9615\n",
      "Val Loss: 0.1451, Val Acc: 0.9477\n",
      "EarlyStopping counter: 5 out of 5\n",
      "Early stopping\n",
      "Training time: 0.606 minutes\n",
      "loading best model ../../GRS_SavedModel/GRSModel_none/['2018-05']/best_model_epoch_25.pt\n",
      "loading best optimizer ../../GRS_SavedModel/GRSOpt_none/['2018-05']/best_optimizer_epoch_25.pt\n"
     ]
    },
    {
     "name": "stderr",
     "output_type": "stream",
     "text": [
      "100%|██████████| 2/2 [00:00<00:00,  4.64it/s]\n",
      "100%|██████████| 1/1 [00:00<00:00,  2.59it/s]\n",
      "100%|██████████| 1/1 [00:00<00:00,  3.93it/s]\n",
      "100%|██████████| 1/1 [00:00<00:00,  2.50it/s]\n",
      "100%|██████████| 1/1 [00:00<00:00,  3.74it/s]\n",
      "100%|██████████| 1/1 [00:00<00:00,  3.63it/s]\n",
      "100%|██████████| 1/1 [00:00<00:00,  2.50it/s]\n",
      "100%|██████████| 1/1 [00:00<00:00,  3.71it/s]\n",
      "100%|██████████| 2/2 [00:00<00:00,  4.38it/s]\n",
      "100%|██████████| 2/2 [00:00<00:00,  3.98it/s]\n",
      "100%|██████████| 2/2 [00:00<00:00,  3.94it/s]\n",
      "100%|██████████| 2/2 [00:00<00:00,  3.87it/s]\n"
     ]
    },
    {
     "name": "stdout",
     "output_type": "stream",
     "text": [
      "Elapsed time 5.019548587004343 mins.\n",
      "\n",
      "2024-05-27 02:06:50 Round 1 ...\n",
      "Current Task ['2018-06'] with Budget none\n",
      "X_train (43560, 2381) Y_train (43560,)\n",
      "\n",
      "2024-05-27 02:06:51 Standardizing ...\n"
     ]
    },
    {
     "name": "stderr",
     "output_type": "stream",
     "text": [
      "\r",
      "  0%|          | 0/6 [00:00<?, ?it/s]"
     ]
    },
    {
     "name": "stdout",
     "output_type": "stream",
     "text": [
      "Epoch 1 of 100\n"
     ]
    },
    {
     "name": "stderr",
     "output_type": "stream",
     "text": [
      "100%|██████████| 6/6 [00:01<00:00,  5.57it/s]\n",
      "100%|██████████| 1/1 [00:00<00:00, 10.18it/s]\n",
      "  0%|          | 0/6 [00:00<?, ?it/s]"
     ]
    },
    {
     "name": "stdout",
     "output_type": "stream",
     "text": [
      "Train Loss: 0.2086, Train Acc: 0.9233\n",
      "Val Loss: 0.1787, Val Acc: 0.9320\n",
      "Validation loss decreased (inf --> 0.178689).  Saving model ...\n",
      "../../GRS_SavedModel/GRSModel_none/['2018-06']/best_model_epoch_1.pt\n",
      "../../GRS_SavedModel/GRSOpt_none/['2018-06']/best_optimizer_epoch_1.pt\n",
      "Epoch 2 of 100\n"
     ]
    },
    {
     "name": "stderr",
     "output_type": "stream",
     "text": [
      "100%|██████████| 6/6 [00:01<00:00,  5.61it/s]\n",
      "100%|██████████| 1/1 [00:00<00:00,  4.77it/s]\n",
      "  0%|          | 0/6 [00:00<?, ?it/s]"
     ]
    },
    {
     "name": "stdout",
     "output_type": "stream",
     "text": [
      "Train Loss: 0.1981, Train Acc: 0.9272\n",
      "Val Loss: 0.1668, Val Acc: 0.9394\n",
      "Validation loss decreased (0.178689 --> 0.166822).  Saving model ...\n",
      "../../GRS_SavedModel/GRSModel_none/['2018-06']/best_model_epoch_2.pt\n",
      "../../GRS_SavedModel/GRSOpt_none/['2018-06']/best_optimizer_epoch_2.pt\n",
      "Epoch 3 of 100\n"
     ]
    },
    {
     "name": "stderr",
     "output_type": "stream",
     "text": [
      "100%|██████████| 6/6 [00:00<00:00,  6.07it/s]\n",
      "100%|██████████| 1/1 [00:00<00:00, 10.64it/s]\n",
      "  0%|          | 0/6 [00:00<?, ?it/s]"
     ]
    },
    {
     "name": "stdout",
     "output_type": "stream",
     "text": [
      "Train Loss: 0.1879, Train Acc: 0.9277\n",
      "Val Loss: 0.1683, Val Acc: 0.9380\n",
      "EarlyStopping counter: 1 out of 5\n",
      "Epoch 4 of 100\n"
     ]
    },
    {
     "name": "stderr",
     "output_type": "stream",
     "text": [
      "100%|██████████| 6/6 [00:01<00:00,  5.77it/s]\n",
      "100%|██████████| 1/1 [00:00<00:00, 10.74it/s]\n",
      "  0%|          | 0/6 [00:00<?, ?it/s]"
     ]
    },
    {
     "name": "stdout",
     "output_type": "stream",
     "text": [
      "Train Loss: 0.1713, Train Acc: 0.9348\n",
      "Val Loss: 0.1605, Val Acc: 0.9392\n",
      "Validation loss decreased (0.166822 --> 0.160486).  Saving model ...\n",
      "../../GRS_SavedModel/GRSModel_none/['2018-06']/best_model_epoch_4.pt\n",
      "../../GRS_SavedModel/GRSOpt_none/['2018-06']/best_optimizer_epoch_4.pt\n",
      "Epoch 5 of 100\n"
     ]
    },
    {
     "name": "stderr",
     "output_type": "stream",
     "text": [
      "100%|██████████| 6/6 [00:01<00:00,  5.63it/s]\n",
      "100%|██████████| 1/1 [00:00<00:00, 10.69it/s]\n",
      "  0%|          | 0/6 [00:00<?, ?it/s]"
     ]
    },
    {
     "name": "stdout",
     "output_type": "stream",
     "text": [
      "Train Loss: 0.1680, Train Acc: 0.9354\n",
      "Val Loss: 0.1554, Val Acc: 0.9410\n",
      "Validation loss decreased (0.160486 --> 0.155449).  Saving model ...\n",
      "../../GRS_SavedModel/GRSModel_none/['2018-06']/best_model_epoch_5.pt\n",
      "../../GRS_SavedModel/GRSOpt_none/['2018-06']/best_optimizer_epoch_5.pt\n",
      "Epoch 6 of 100\n"
     ]
    },
    {
     "name": "stderr",
     "output_type": "stream",
     "text": [
      "100%|██████████| 6/6 [00:01<00:00,  5.85it/s]\n",
      "100%|██████████| 1/1 [00:00<00:00, 11.33it/s]\n",
      "  0%|          | 0/6 [00:00<?, ?it/s]"
     ]
    },
    {
     "name": "stdout",
     "output_type": "stream",
     "text": [
      "Train Loss: 0.1833, Train Acc: 0.9315\n",
      "Val Loss: 0.1486, Val Acc: 0.9419\n",
      "Validation loss decreased (0.155449 --> 0.148617).  Saving model ...\n",
      "../../GRS_SavedModel/GRSModel_none/['2018-06']/best_model_epoch_6.pt\n",
      "../../GRS_SavedModel/GRSOpt_none/['2018-06']/best_optimizer_epoch_6.pt\n",
      "Epoch 7 of 100\n"
     ]
    },
    {
     "name": "stderr",
     "output_type": "stream",
     "text": [
      "100%|██████████| 6/6 [00:01<00:00,  5.35it/s]\n",
      "100%|██████████| 1/1 [00:00<00:00,  5.22it/s]\n",
      "  0%|          | 0/6 [00:00<?, ?it/s]"
     ]
    },
    {
     "name": "stdout",
     "output_type": "stream",
     "text": [
      "Train Loss: 0.1552, Train Acc: 0.9404\n",
      "Val Loss: 0.1456, Val Acc: 0.9449\n",
      "Validation loss decreased (0.148617 --> 0.145612).  Saving model ...\n",
      "../../GRS_SavedModel/GRSModel_none/['2018-06']/best_model_epoch_7.pt\n",
      "../../GRS_SavedModel/GRSOpt_none/['2018-06']/best_optimizer_epoch_7.pt\n",
      "Epoch 8 of 100\n"
     ]
    },
    {
     "name": "stderr",
     "output_type": "stream",
     "text": [
      "100%|██████████| 6/6 [00:00<00:00,  6.05it/s]\n",
      "100%|██████████| 1/1 [00:00<00:00, 12.18it/s]\n",
      "  0%|          | 0/6 [00:00<?, ?it/s]"
     ]
    },
    {
     "name": "stdout",
     "output_type": "stream",
     "text": [
      "Train Loss: 0.1557, Train Acc: 0.9409\n",
      "Val Loss: 0.1536, Val Acc: 0.9399\n",
      "EarlyStopping counter: 1 out of 5\n",
      "Epoch 9 of 100\n"
     ]
    },
    {
     "name": "stderr",
     "output_type": "stream",
     "text": [
      "100%|██████████| 6/6 [00:01<00:00,  5.93it/s]\n",
      "100%|██████████| 1/1 [00:00<00:00, 10.29it/s]\n",
      "  0%|          | 0/6 [00:00<?, ?it/s]"
     ]
    },
    {
     "name": "stdout",
     "output_type": "stream",
     "text": [
      "Train Loss: 0.1517, Train Acc: 0.9422\n",
      "Val Loss: 0.1494, Val Acc: 0.9426\n",
      "EarlyStopping counter: 2 out of 5\n",
      "Epoch 10 of 100\n"
     ]
    },
    {
     "name": "stderr",
     "output_type": "stream",
     "text": [
      "100%|██████████| 6/6 [00:01<00:00,  5.71it/s]\n",
      "100%|██████████| 1/1 [00:00<00:00, 13.30it/s]\n",
      "  0%|          | 0/6 [00:00<?, ?it/s]"
     ]
    },
    {
     "name": "stdout",
     "output_type": "stream",
     "text": [
      "Train Loss: 0.1479, Train Acc: 0.9430\n",
      "Val Loss: 0.1484, Val Acc: 0.9421\n",
      "EarlyStopping counter: 3 out of 5\n",
      "Epoch 11 of 100\n"
     ]
    },
    {
     "name": "stderr",
     "output_type": "stream",
     "text": [
      "100%|██████████| 6/6 [00:01<00:00,  5.47it/s]\n",
      "100%|██████████| 1/1 [00:00<00:00, 10.63it/s]\n",
      "  0%|          | 0/6 [00:00<?, ?it/s]"
     ]
    },
    {
     "name": "stdout",
     "output_type": "stream",
     "text": [
      "Train Loss: 0.1467, Train Acc: 0.9453\n",
      "Val Loss: 0.1468, Val Acc: 0.9435\n",
      "EarlyStopping counter: 4 out of 5\n",
      "Epoch 12 of 100\n"
     ]
    },
    {
     "name": "stderr",
     "output_type": "stream",
     "text": [
      "100%|██████████| 6/6 [00:01<00:00,  5.77it/s]\n",
      "100%|██████████| 1/1 [00:00<00:00,  5.34it/s]\n",
      "  0%|          | 0/6 [00:00<?, ?it/s]"
     ]
    },
    {
     "name": "stdout",
     "output_type": "stream",
     "text": [
      "Train Loss: 0.1442, Train Acc: 0.9452\n",
      "Val Loss: 0.1438, Val Acc: 0.9442\n",
      "Validation loss decreased (0.145612 --> 0.143838).  Saving model ...\n",
      "../../GRS_SavedModel/GRSModel_none/['2018-06']/best_model_epoch_12.pt\n",
      "../../GRS_SavedModel/GRSOpt_none/['2018-06']/best_optimizer_epoch_12.pt\n",
      "Epoch 13 of 100\n"
     ]
    },
    {
     "name": "stderr",
     "output_type": "stream",
     "text": [
      "100%|██████████| 6/6 [00:00<00:00,  6.04it/s]\n",
      "100%|██████████| 1/1 [00:00<00:00, 10.99it/s]\n",
      "  0%|          | 0/6 [00:00<?, ?it/s]"
     ]
    },
    {
     "name": "stdout",
     "output_type": "stream",
     "text": [
      "Train Loss: 0.1410, Train Acc: 0.9463\n",
      "Val Loss: 0.1469, Val Acc: 0.9440\n",
      "EarlyStopping counter: 1 out of 5\n",
      "Epoch 14 of 100\n"
     ]
    },
    {
     "name": "stderr",
     "output_type": "stream",
     "text": [
      "100%|██████████| 6/6 [00:01<00:00,  5.83it/s]\n",
      "100%|██████████| 1/1 [00:00<00:00, 10.70it/s]\n",
      "  0%|          | 0/6 [00:00<?, ?it/s]"
     ]
    },
    {
     "name": "stdout",
     "output_type": "stream",
     "text": [
      "Train Loss: 0.1437, Train Acc: 0.9456\n",
      "Val Loss: 0.1461, Val Acc: 0.9431\n",
      "EarlyStopping counter: 2 out of 5\n",
      "Epoch 15 of 100\n"
     ]
    },
    {
     "name": "stderr",
     "output_type": "stream",
     "text": [
      "100%|██████████| 6/6 [00:00<00:00,  6.11it/s]\n",
      "100%|██████████| 1/1 [00:00<00:00, 13.78it/s]\n",
      "  0%|          | 0/6 [00:00<?, ?it/s]"
     ]
    },
    {
     "name": "stdout",
     "output_type": "stream",
     "text": [
      "Train Loss: 0.1373, Train Acc: 0.9501\n",
      "Val Loss: 0.1420, Val Acc: 0.9458\n",
      "Validation loss decreased (0.143838 --> 0.141956).  Saving model ...\n",
      "../../GRS_SavedModel/GRSModel_none/['2018-06']/best_model_epoch_15.pt\n",
      "../../GRS_SavedModel/GRSOpt_none/['2018-06']/best_optimizer_epoch_15.pt\n",
      "Epoch 16 of 100\n"
     ]
    },
    {
     "name": "stderr",
     "output_type": "stream",
     "text": [
      "100%|██████████| 6/6 [00:01<00:00,  5.67it/s]\n",
      "100%|██████████| 1/1 [00:00<00:00, 10.16it/s]\n",
      "  0%|          | 0/6 [00:00<?, ?it/s]"
     ]
    },
    {
     "name": "stdout",
     "output_type": "stream",
     "text": [
      "Train Loss: 0.1340, Train Acc: 0.9489\n",
      "Val Loss: 0.1396, Val Acc: 0.9486\n",
      "Validation loss decreased (0.141956 --> 0.139595).  Saving model ...\n",
      "../../GRS_SavedModel/GRSModel_none/['2018-06']/best_model_epoch_16.pt\n",
      "../../GRS_SavedModel/GRSOpt_none/['2018-06']/best_optimizer_epoch_16.pt\n",
      "Epoch 17 of 100\n"
     ]
    },
    {
     "name": "stderr",
     "output_type": "stream",
     "text": [
      "100%|██████████| 6/6 [00:01<00:00,  5.31it/s]\n",
      "100%|██████████| 1/1 [00:00<00:00, 10.79it/s]\n",
      "  0%|          | 0/6 [00:00<?, ?it/s]"
     ]
    },
    {
     "name": "stdout",
     "output_type": "stream",
     "text": [
      "Train Loss: 0.1447, Train Acc: 0.9458\n",
      "Val Loss: 0.1359, Val Acc: 0.9495\n",
      "Validation loss decreased (0.139595 --> 0.135887).  Saving model ...\n",
      "../../GRS_SavedModel/GRSModel_none/['2018-06']/best_model_epoch_17.pt\n",
      "../../GRS_SavedModel/GRSOpt_none/['2018-06']/best_optimizer_epoch_17.pt\n",
      "Epoch 18 of 100\n"
     ]
    },
    {
     "name": "stderr",
     "output_type": "stream",
     "text": [
      "100%|██████████| 6/6 [00:01<00:00,  5.91it/s]\n",
      "100%|██████████| 1/1 [00:00<00:00,  5.10it/s]\n",
      "  0%|          | 0/6 [00:00<?, ?it/s]"
     ]
    },
    {
     "name": "stdout",
     "output_type": "stream",
     "text": [
      "Train Loss: 0.1345, Train Acc: 0.9495\n",
      "Val Loss: 0.1408, Val Acc: 0.9456\n",
      "EarlyStopping counter: 1 out of 5\n",
      "Epoch 19 of 100\n"
     ]
    },
    {
     "name": "stderr",
     "output_type": "stream",
     "text": [
      "100%|██████████| 6/6 [00:00<00:00,  6.01it/s]\n",
      "100%|██████████| 1/1 [00:00<00:00, 10.21it/s]\n",
      "  0%|          | 0/6 [00:00<?, ?it/s]"
     ]
    },
    {
     "name": "stdout",
     "output_type": "stream",
     "text": [
      "Train Loss: 0.1278, Train Acc: 0.9523\n",
      "Val Loss: 0.1366, Val Acc: 0.9490\n",
      "EarlyStopping counter: 2 out of 5\n",
      "Epoch 20 of 100\n"
     ]
    },
    {
     "name": "stderr",
     "output_type": "stream",
     "text": [
      "100%|██████████| 6/6 [00:01<00:00,  5.82it/s]\n",
      "100%|██████████| 1/1 [00:00<00:00, 10.65it/s]\n",
      "  0%|          | 0/6 [00:00<?, ?it/s]"
     ]
    },
    {
     "name": "stdout",
     "output_type": "stream",
     "text": [
      "Train Loss: 0.1468, Train Acc: 0.9448\n",
      "Val Loss: 0.1435, Val Acc: 0.9458\n",
      "EarlyStopping counter: 3 out of 5\n",
      "Epoch 21 of 100\n"
     ]
    },
    {
     "name": "stderr",
     "output_type": "stream",
     "text": [
      "100%|██████████| 6/6 [00:01<00:00,  5.51it/s]\n",
      "100%|██████████| 1/1 [00:00<00:00, 11.61it/s]\n",
      "  0%|          | 0/6 [00:00<?, ?it/s]"
     ]
    },
    {
     "name": "stdout",
     "output_type": "stream",
     "text": [
      "Train Loss: 0.1360, Train Acc: 0.9491\n",
      "Val Loss: 0.1399, Val Acc: 0.9477\n",
      "EarlyStopping counter: 4 out of 5\n",
      "Epoch 22 of 100\n"
     ]
    },
    {
     "name": "stderr",
     "output_type": "stream",
     "text": [
      "100%|██████████| 6/6 [00:01<00:00,  5.63it/s]\n",
      "100%|██████████| 1/1 [00:00<00:00, 10.81it/s]\n"
     ]
    },
    {
     "name": "stdout",
     "output_type": "stream",
     "text": [
      "Train Loss: 0.1236, Train Acc: 0.9536\n",
      "Val Loss: 0.1430, Val Acc: 0.9467\n",
      "EarlyStopping counter: 5 out of 5\n",
      "Early stopping\n",
      "Training time: 0.439 minutes\n",
      "loading best model ../../GRS_SavedModel/GRSModel_none/['2018-06']/best_model_epoch_17.pt\n",
      "loading best optimizer ../../GRS_SavedModel/GRSOpt_none/['2018-06']/best_optimizer_epoch_17.pt\n"
     ]
    },
    {
     "name": "stderr",
     "output_type": "stream",
     "text": [
      "100%|██████████| 2/2 [00:00<00:00,  4.62it/s]\n",
      "100%|██████████| 1/1 [00:00<00:00,  2.59it/s]\n",
      "100%|██████████| 1/1 [00:00<00:00,  2.82it/s]\n",
      "100%|██████████| 1/1 [00:00<00:00,  2.57it/s]\n",
      "100%|██████████| 1/1 [00:00<00:00,  2.69it/s]\n",
      "100%|██████████| 1/1 [00:00<00:00,  2.61it/s]\n",
      "100%|██████████| 1/1 [00:00<00:00,  2.59it/s]\n",
      "100%|██████████| 1/1 [00:00<00:00,  2.66it/s]\n",
      "100%|██████████| 2/2 [00:00<00:00,  4.57it/s]\n",
      "100%|██████████| 2/2 [00:00<00:00,  4.26it/s]\n",
      "100%|██████████| 2/2 [00:00<00:00,  3.77it/s]\n",
      "100%|██████████| 2/2 [00:00<00:00,  3.99it/s]\n"
     ]
    },
    {
     "name": "stdout",
     "output_type": "stream",
     "text": [
      "Elapsed time 5.6419875184694925 mins.\n",
      "\n",
      "2024-05-27 02:07:28 Round 1 ...\n",
      "Current Task ['2018-07'] with Budget none\n",
      "X_train (46278, 2381) Y_train (46278,)\n",
      "\n",
      "2024-05-27 02:07:28 Standardizing ...\n"
     ]
    },
    {
     "name": "stderr",
     "output_type": "stream",
     "text": [
      "\r",
      "  0%|          | 0/6 [00:00<?, ?it/s]"
     ]
    },
    {
     "name": "stdout",
     "output_type": "stream",
     "text": [
      "Epoch 1 of 100\n"
     ]
    },
    {
     "name": "stderr",
     "output_type": "stream",
     "text": [
      "100%|██████████| 6/6 [00:01<00:00,  5.51it/s]\n",
      "100%|██████████| 1/1 [00:00<00:00,  4.94it/s]\n",
      "  0%|          | 0/6 [00:00<?, ?it/s]"
     ]
    },
    {
     "name": "stdout",
     "output_type": "stream",
     "text": [
      "Train Loss: 0.1541, Train Acc: 0.9442\n",
      "Val Loss: 0.1299, Val Acc: 0.9548\n",
      "Validation loss decreased (inf --> 0.129890).  Saving model ...\n",
      "../../GRS_SavedModel/GRSModel_none/['2018-07']/best_model_epoch_1.pt\n",
      "../../GRS_SavedModel/GRSOpt_none/['2018-07']/best_optimizer_epoch_1.pt\n",
      "Epoch 2 of 100\n"
     ]
    },
    {
     "name": "stderr",
     "output_type": "stream",
     "text": [
      "100%|██████████| 6/6 [00:00<00:00,  6.16it/s]\n",
      "100%|██████████| 1/1 [00:00<00:00, 10.95it/s]\n",
      "  0%|          | 0/6 [00:00<?, ?it/s]"
     ]
    },
    {
     "name": "stdout",
     "output_type": "stream",
     "text": [
      "Train Loss: 0.1479, Train Acc: 0.9471\n",
      "Val Loss: 0.1197, Val Acc: 0.9596\n",
      "Validation loss decreased (0.129890 --> 0.119711).  Saving model ...\n",
      "../../GRS_SavedModel/GRSModel_none/['2018-07']/best_model_epoch_2.pt\n",
      "../../GRS_SavedModel/GRSOpt_none/['2018-07']/best_optimizer_epoch_2.pt\n",
      "Epoch 3 of 100\n"
     ]
    },
    {
     "name": "stderr",
     "output_type": "stream",
     "text": [
      "100%|██████████| 6/6 [00:00<00:00,  6.08it/s]\n",
      "100%|██████████| 1/1 [00:00<00:00,  9.82it/s]\n",
      "  0%|          | 0/6 [00:00<?, ?it/s]"
     ]
    },
    {
     "name": "stdout",
     "output_type": "stream",
     "text": [
      "Train Loss: 0.1336, Train Acc: 0.9519\n",
      "Val Loss: 0.1147, Val Acc: 0.9613\n",
      "Validation loss decreased (0.119711 --> 0.114729).  Saving model ...\n",
      "../../GRS_SavedModel/GRSModel_none/['2018-07']/best_model_epoch_3.pt\n",
      "../../GRS_SavedModel/GRSOpt_none/['2018-07']/best_optimizer_epoch_3.pt\n",
      "Epoch 4 of 100\n"
     ]
    },
    {
     "name": "stderr",
     "output_type": "stream",
     "text": [
      "100%|██████████| 6/6 [00:00<00:00,  6.34it/s]\n",
      "100%|██████████| 1/1 [00:00<00:00, 10.37it/s]\n",
      "  0%|          | 0/6 [00:00<?, ?it/s]"
     ]
    },
    {
     "name": "stdout",
     "output_type": "stream",
     "text": [
      "Train Loss: 0.1241, Train Acc: 0.9546\n",
      "Val Loss: 0.1106, Val Acc: 0.9611\n",
      "Validation loss decreased (0.114729 --> 0.110601).  Saving model ...\n",
      "../../GRS_SavedModel/GRSModel_none/['2018-07']/best_model_epoch_4.pt\n",
      "../../GRS_SavedModel/GRSOpt_none/['2018-07']/best_optimizer_epoch_4.pt\n",
      "Epoch 5 of 100\n"
     ]
    },
    {
     "name": "stderr",
     "output_type": "stream",
     "text": [
      "100%|██████████| 6/6 [00:01<00:00,  5.92it/s]\n",
      "100%|██████████| 1/1 [00:00<00:00, 10.40it/s]\n",
      "  0%|          | 0/6 [00:00<?, ?it/s]"
     ]
    },
    {
     "name": "stdout",
     "output_type": "stream",
     "text": [
      "Train Loss: 0.1146, Train Acc: 0.9582\n",
      "Val Loss: 0.1078, Val Acc: 0.9620\n",
      "Validation loss decreased (0.110601 --> 0.107785).  Saving model ...\n",
      "../../GRS_SavedModel/GRSModel_none/['2018-07']/best_model_epoch_5.pt\n",
      "../../GRS_SavedModel/GRSOpt_none/['2018-07']/best_optimizer_epoch_5.pt\n",
      "Epoch 6 of 100\n"
     ]
    },
    {
     "name": "stderr",
     "output_type": "stream",
     "text": [
      "100%|██████████| 6/6 [00:01<00:00,  5.64it/s]\n",
      "100%|██████████| 1/1 [00:00<00:00,  5.41it/s]\n",
      "  0%|          | 0/6 [00:00<?, ?it/s]"
     ]
    },
    {
     "name": "stdout",
     "output_type": "stream",
     "text": [
      "Train Loss: 0.1174, Train Acc: 0.9559\n",
      "Val Loss: 0.1056, Val Acc: 0.9624\n",
      "Validation loss decreased (0.107785 --> 0.105577).  Saving model ...\n",
      "../../GRS_SavedModel/GRSModel_none/['2018-07']/best_model_epoch_6.pt\n",
      "../../GRS_SavedModel/GRSOpt_none/['2018-07']/best_optimizer_epoch_6.pt\n",
      "Epoch 7 of 100\n"
     ]
    },
    {
     "name": "stderr",
     "output_type": "stream",
     "text": [
      "100%|██████████| 6/6 [00:01<00:00,  5.76it/s]\n",
      "100%|██████████| 1/1 [00:00<00:00,  9.85it/s]\n",
      "  0%|          | 0/6 [00:00<?, ?it/s]"
     ]
    },
    {
     "name": "stdout",
     "output_type": "stream",
     "text": [
      "Train Loss: 0.1129, Train Acc: 0.9593\n",
      "Val Loss: 0.1035, Val Acc: 0.9631\n",
      "Validation loss decreased (0.105577 --> 0.103481).  Saving model ...\n",
      "../../GRS_SavedModel/GRSModel_none/['2018-07']/best_model_epoch_7.pt\n",
      "../../GRS_SavedModel/GRSOpt_none/['2018-07']/best_optimizer_epoch_7.pt\n",
      "Epoch 8 of 100\n"
     ]
    },
    {
     "name": "stderr",
     "output_type": "stream",
     "text": [
      "100%|██████████| 6/6 [00:00<00:00,  6.07it/s]\n",
      "100%|██████████| 1/1 [00:00<00:00, 11.66it/s]\n",
      "  0%|          | 0/6 [00:00<?, ?it/s]"
     ]
    },
    {
     "name": "stdout",
     "output_type": "stream",
     "text": [
      "Train Loss: 0.1101, Train Acc: 0.9591\n",
      "Val Loss: 0.1018, Val Acc: 0.9622\n",
      "Validation loss decreased (0.103481 --> 0.101815).  Saving model ...\n",
      "../../GRS_SavedModel/GRSModel_none/['2018-07']/best_model_epoch_8.pt\n",
      "../../GRS_SavedModel/GRSOpt_none/['2018-07']/best_optimizer_epoch_8.pt\n",
      "Epoch 9 of 100\n"
     ]
    },
    {
     "name": "stderr",
     "output_type": "stream",
     "text": [
      "100%|██████████| 6/6 [00:01<00:00,  5.78it/s]\n",
      "100%|██████████| 1/1 [00:00<00:00, 10.41it/s]\n",
      "  0%|          | 0/6 [00:00<?, ?it/s]"
     ]
    },
    {
     "name": "stdout",
     "output_type": "stream",
     "text": [
      "Train Loss: 0.1067, Train Acc: 0.9607\n",
      "Val Loss: 0.1015, Val Acc: 0.9637\n",
      "Validation loss decreased (0.101815 --> 0.101503).  Saving model ...\n",
      "../../GRS_SavedModel/GRSModel_none/['2018-07']/best_model_epoch_9.pt\n",
      "../../GRS_SavedModel/GRSOpt_none/['2018-07']/best_optimizer_epoch_9.pt\n",
      "Epoch 10 of 100\n"
     ]
    },
    {
     "name": "stderr",
     "output_type": "stream",
     "text": [
      "100%|██████████| 6/6 [00:01<00:00,  5.25it/s]\n",
      "100%|██████████| 1/1 [00:00<00:00,  9.78it/s]\n",
      "  0%|          | 0/6 [00:00<?, ?it/s]"
     ]
    },
    {
     "name": "stdout",
     "output_type": "stream",
     "text": [
      "Train Loss: 0.1081, Train Acc: 0.9618\n",
      "Val Loss: 0.1007, Val Acc: 0.9633\n",
      "Validation loss decreased (0.101503 --> 0.100665).  Saving model ...\n",
      "../../GRS_SavedModel/GRSModel_none/['2018-07']/best_model_epoch_10.pt\n",
      "../../GRS_SavedModel/GRSOpt_none/['2018-07']/best_optimizer_epoch_10.pt\n",
      "Epoch 11 of 100\n"
     ]
    },
    {
     "name": "stderr",
     "output_type": "stream",
     "text": [
      "100%|██████████| 6/6 [00:01<00:00,  5.87it/s]\n",
      "100%|██████████| 1/1 [00:00<00:00,  4.32it/s]\n",
      "  0%|          | 0/6 [00:00<?, ?it/s]"
     ]
    },
    {
     "name": "stdout",
     "output_type": "stream",
     "text": [
      "Train Loss: 0.1061, Train Acc: 0.9605\n",
      "Val Loss: 0.1002, Val Acc: 0.9643\n",
      "Validation loss decreased (0.100665 --> 0.100194).  Saving model ...\n",
      "../../GRS_SavedModel/GRSModel_none/['2018-07']/best_model_epoch_11.pt\n",
      "../../GRS_SavedModel/GRSOpt_none/['2018-07']/best_optimizer_epoch_11.pt\n",
      "Epoch 12 of 100\n"
     ]
    },
    {
     "name": "stderr",
     "output_type": "stream",
     "text": [
      "100%|██████████| 6/6 [00:01<00:00,  5.95it/s]\n",
      "100%|██████████| 1/1 [00:00<00:00, 11.16it/s]\n",
      "  0%|          | 0/6 [00:00<?, ?it/s]"
     ]
    },
    {
     "name": "stdout",
     "output_type": "stream",
     "text": [
      "Train Loss: 0.1021, Train Acc: 0.9632\n",
      "Val Loss: 0.0998, Val Acc: 0.9650\n",
      "Validation loss decreased (0.100194 --> 0.099769).  Saving model ...\n",
      "../../GRS_SavedModel/GRSModel_none/['2018-07']/best_model_epoch_12.pt\n",
      "../../GRS_SavedModel/GRSOpt_none/['2018-07']/best_optimizer_epoch_12.pt\n",
      "Epoch 13 of 100\n"
     ]
    },
    {
     "name": "stderr",
     "output_type": "stream",
     "text": [
      "100%|██████████| 6/6 [00:01<00:00,  5.94it/s]\n",
      "100%|██████████| 1/1 [00:00<00:00, 10.16it/s]\n",
      "  0%|          | 0/6 [00:00<?, ?it/s]"
     ]
    },
    {
     "name": "stdout",
     "output_type": "stream",
     "text": [
      "Train Loss: 0.0995, Train Acc: 0.9645\n",
      "Val Loss: 0.0981, Val Acc: 0.9661\n",
      "Validation loss decreased (0.099769 --> 0.098139).  Saving model ...\n",
      "../../GRS_SavedModel/GRSModel_none/['2018-07']/best_model_epoch_13.pt\n",
      "../../GRS_SavedModel/GRSOpt_none/['2018-07']/best_optimizer_epoch_13.pt\n",
      "Epoch 14 of 100\n"
     ]
    },
    {
     "name": "stderr",
     "output_type": "stream",
     "text": [
      "100%|██████████| 6/6 [00:01<00:00,  5.88it/s]\n",
      "100%|██████████| 1/1 [00:00<00:00,  9.32it/s]\n",
      "  0%|          | 0/6 [00:00<?, ?it/s]"
     ]
    },
    {
     "name": "stdout",
     "output_type": "stream",
     "text": [
      "Train Loss: 0.1006, Train Acc: 0.9635\n",
      "Val Loss: 0.0974, Val Acc: 0.9665\n",
      "Validation loss decreased (0.098139 --> 0.097375).  Saving model ...\n",
      "../../GRS_SavedModel/GRSModel_none/['2018-07']/best_model_epoch_14.pt\n",
      "../../GRS_SavedModel/GRSOpt_none/['2018-07']/best_optimizer_epoch_14.pt\n",
      "Epoch 15 of 100\n"
     ]
    },
    {
     "name": "stderr",
     "output_type": "stream",
     "text": [
      "100%|██████████| 6/6 [00:01<00:00,  5.66it/s]\n",
      "100%|██████████| 1/1 [00:00<00:00, 11.22it/s]\n",
      "  0%|          | 0/6 [00:00<?, ?it/s]"
     ]
    },
    {
     "name": "stdout",
     "output_type": "stream",
     "text": [
      "Train Loss: 0.0928, Train Acc: 0.9660\n",
      "Val Loss: 0.0984, Val Acc: 0.9654\n",
      "EarlyStopping counter: 1 out of 5\n",
      "Epoch 16 of 100\n"
     ]
    },
    {
     "name": "stderr",
     "output_type": "stream",
     "text": [
      "100%|██████████| 6/6 [00:01<00:00,  5.35it/s]\n",
      "100%|██████████| 1/1 [00:00<00:00,  5.22it/s]\n",
      "  0%|          | 0/6 [00:00<?, ?it/s]"
     ]
    },
    {
     "name": "stdout",
     "output_type": "stream",
     "text": [
      "Train Loss: 0.0956, Train Acc: 0.9646\n",
      "Val Loss: 0.0972, Val Acc: 0.9646\n",
      "Validation loss decreased (0.097375 --> 0.097217).  Saving model ...\n",
      "../../GRS_SavedModel/GRSModel_none/['2018-07']/best_model_epoch_16.pt\n",
      "../../GRS_SavedModel/GRSOpt_none/['2018-07']/best_optimizer_epoch_16.pt\n",
      "Epoch 17 of 100\n"
     ]
    },
    {
     "name": "stderr",
     "output_type": "stream",
     "text": [
      "100%|██████████| 6/6 [00:00<00:00,  6.15it/s]\n",
      "100%|██████████| 1/1 [00:00<00:00, 10.22it/s]\n",
      "  0%|          | 0/6 [00:00<?, ?it/s]"
     ]
    },
    {
     "name": "stdout",
     "output_type": "stream",
     "text": [
      "Train Loss: 0.0915, Train Acc: 0.9656\n",
      "Val Loss: 0.0960, Val Acc: 0.9652\n",
      "Validation loss decreased (0.097217 --> 0.095962).  Saving model ...\n",
      "../../GRS_SavedModel/GRSModel_none/['2018-07']/best_model_epoch_17.pt\n",
      "../../GRS_SavedModel/GRSOpt_none/['2018-07']/best_optimizer_epoch_17.pt\n",
      "Epoch 18 of 100\n"
     ]
    },
    {
     "name": "stderr",
     "output_type": "stream",
     "text": [
      "100%|██████████| 6/6 [00:00<00:00,  6.19it/s]\n",
      "100%|██████████| 1/1 [00:00<00:00, 10.60it/s]\n",
      "  0%|          | 0/6 [00:00<?, ?it/s]"
     ]
    },
    {
     "name": "stdout",
     "output_type": "stream",
     "text": [
      "Train Loss: 0.0912, Train Acc: 0.9671\n",
      "Val Loss: 0.0945, Val Acc: 0.9661\n",
      "Validation loss decreased (0.095962 --> 0.094460).  Saving model ...\n",
      "../../GRS_SavedModel/GRSModel_none/['2018-07']/best_model_epoch_18.pt\n",
      "../../GRS_SavedModel/GRSOpt_none/['2018-07']/best_optimizer_epoch_18.pt\n",
      "Epoch 19 of 100\n"
     ]
    },
    {
     "name": "stderr",
     "output_type": "stream",
     "text": [
      "100%|██████████| 6/6 [00:01<00:00,  5.93it/s]\n",
      "100%|██████████| 1/1 [00:00<00:00, 10.20it/s]\n",
      "  0%|          | 0/6 [00:00<?, ?it/s]"
     ]
    },
    {
     "name": "stdout",
     "output_type": "stream",
     "text": [
      "Train Loss: 0.0878, Train Acc: 0.9687\n",
      "Val Loss: 0.0960, Val Acc: 0.9656\n",
      "EarlyStopping counter: 1 out of 5\n",
      "Epoch 20 of 100\n"
     ]
    },
    {
     "name": "stderr",
     "output_type": "stream",
     "text": [
      "100%|██████████| 6/6 [00:01<00:00,  5.25it/s]\n",
      "100%|██████████| 1/1 [00:00<00:00,  9.08it/s]\n",
      "  0%|          | 0/6 [00:00<?, ?it/s]"
     ]
    },
    {
     "name": "stdout",
     "output_type": "stream",
     "text": [
      "Train Loss: 0.0882, Train Acc: 0.9688\n",
      "Val Loss: 0.0960, Val Acc: 0.9650\n",
      "EarlyStopping counter: 2 out of 5\n",
      "Epoch 21 of 100\n"
     ]
    },
    {
     "name": "stderr",
     "output_type": "stream",
     "text": [
      "100%|██████████| 6/6 [00:00<00:00,  6.02it/s]\n",
      "100%|██████████| 1/1 [00:00<00:00,  5.07it/s]\n",
      "  0%|          | 0/6 [00:00<?, ?it/s]"
     ]
    },
    {
     "name": "stdout",
     "output_type": "stream",
     "text": [
      "Train Loss: 0.0812, Train Acc: 0.9716\n",
      "Val Loss: 0.0934, Val Acc: 0.9676\n",
      "Validation loss decreased (0.094460 --> 0.093432).  Saving model ...\n",
      "../../GRS_SavedModel/GRSModel_none/['2018-07']/best_model_epoch_21.pt\n",
      "../../GRS_SavedModel/GRSOpt_none/['2018-07']/best_optimizer_epoch_21.pt\n",
      "Epoch 22 of 100\n"
     ]
    },
    {
     "name": "stderr",
     "output_type": "stream",
     "text": [
      "100%|██████████| 6/6 [00:01<00:00,  5.62it/s]\n",
      "100%|██████████| 1/1 [00:00<00:00,  9.30it/s]\n",
      "  0%|          | 0/6 [00:00<?, ?it/s]"
     ]
    },
    {
     "name": "stdout",
     "output_type": "stream",
     "text": [
      "Train Loss: 0.0821, Train Acc: 0.9712\n",
      "Val Loss: 0.0934, Val Acc: 0.9669\n",
      "Validation loss decreased (0.093432 --> 0.093387).  Saving model ...\n",
      "../../GRS_SavedModel/GRSModel_none/['2018-07']/best_model_epoch_22.pt\n",
      "../../GRS_SavedModel/GRSOpt_none/['2018-07']/best_optimizer_epoch_22.pt\n",
      "Epoch 23 of 100\n"
     ]
    },
    {
     "name": "stderr",
     "output_type": "stream",
     "text": [
      "100%|██████████| 6/6 [00:00<00:00,  6.16it/s]\n",
      "100%|██████████| 1/1 [00:00<00:00, 10.11it/s]\n",
      "  0%|          | 0/6 [00:00<?, ?it/s]"
     ]
    },
    {
     "name": "stdout",
     "output_type": "stream",
     "text": [
      "Train Loss: 0.0793, Train Acc: 0.9718\n",
      "Val Loss: 0.0942, Val Acc: 0.9661\n",
      "EarlyStopping counter: 1 out of 5\n",
      "Epoch 24 of 100\n"
     ]
    },
    {
     "name": "stderr",
     "output_type": "stream",
     "text": [
      "100%|██████████| 6/6 [00:01<00:00,  5.99it/s]\n",
      "100%|██████████| 1/1 [00:00<00:00, 10.15it/s]\n",
      "  0%|          | 0/6 [00:00<?, ?it/s]"
     ]
    },
    {
     "name": "stdout",
     "output_type": "stream",
     "text": [
      "Train Loss: 0.0806, Train Acc: 0.9705\n",
      "Val Loss: 0.0949, Val Acc: 0.9652\n",
      "EarlyStopping counter: 2 out of 5\n",
      "Epoch 25 of 100\n"
     ]
    },
    {
     "name": "stderr",
     "output_type": "stream",
     "text": [
      "100%|██████████| 6/6 [00:01<00:00,  5.42it/s]\n",
      "100%|██████████| 1/1 [00:00<00:00, 10.03it/s]\n",
      "  0%|          | 0/6 [00:00<?, ?it/s]"
     ]
    },
    {
     "name": "stdout",
     "output_type": "stream",
     "text": [
      "Train Loss: 0.0803, Train Acc: 0.9714\n",
      "Val Loss: 0.0944, Val Acc: 0.9661\n",
      "EarlyStopping counter: 3 out of 5\n",
      "Epoch 26 of 100\n"
     ]
    },
    {
     "name": "stderr",
     "output_type": "stream",
     "text": [
      "100%|██████████| 6/6 [00:01<00:00,  5.76it/s]\n",
      "100%|██████████| 1/1 [00:00<00:00,  4.93it/s]\n",
      "  0%|          | 0/6 [00:00<?, ?it/s]"
     ]
    },
    {
     "name": "stdout",
     "output_type": "stream",
     "text": [
      "Train Loss: 0.0767, Train Acc: 0.9721\n",
      "Val Loss: 0.0943, Val Acc: 0.9652\n",
      "EarlyStopping counter: 4 out of 5\n",
      "Epoch 27 of 100\n"
     ]
    },
    {
     "name": "stderr",
     "output_type": "stream",
     "text": [
      "100%|██████████| 6/6 [00:01<00:00,  5.95it/s]\n",
      "100%|██████████| 1/1 [00:00<00:00, 10.31it/s]\n"
     ]
    },
    {
     "name": "stdout",
     "output_type": "stream",
     "text": [
      "Train Loss: 0.0767, Train Acc: 0.9732\n",
      "Val Loss: 0.0951, Val Acc: 0.9654\n",
      "EarlyStopping counter: 5 out of 5\n",
      "Early stopping\n",
      "Training time: 0.543 minutes\n",
      "loading best model ../../GRS_SavedModel/GRSModel_none/['2018-07']/best_model_epoch_22.pt\n",
      "loading best optimizer ../../GRS_SavedModel/GRSOpt_none/['2018-07']/best_optimizer_epoch_22.pt\n"
     ]
    },
    {
     "name": "stderr",
     "output_type": "stream",
     "text": [
      "100%|██████████| 2/2 [00:00<00:00,  5.77it/s]\n",
      "100%|██████████| 1/1 [00:00<00:00,  3.22it/s]\n",
      "100%|██████████| 1/1 [00:00<00:00,  3.94it/s]\n",
      "100%|██████████| 1/1 [00:00<00:00,  3.50it/s]\n",
      "100%|██████████| 1/1 [00:00<00:00,  3.74it/s]\n",
      "100%|██████████| 1/1 [00:00<00:00,  3.82it/s]\n",
      "100%|██████████| 1/1 [00:00<00:00,  3.53it/s]\n",
      "100%|██████████| 1/1 [00:00<00:00,  3.83it/s]\n",
      "100%|██████████| 2/2 [00:00<00:00,  6.05it/s]\n",
      "100%|██████████| 2/2 [00:00<00:00,  5.27it/s]\n",
      "100%|██████████| 2/2 [00:00<00:00,  5.03it/s]\n",
      "100%|██████████| 2/2 [00:00<00:00,  5.31it/s]\n"
     ]
    },
    {
     "name": "stdout",
     "output_type": "stream",
     "text": [
      "Elapsed time 6.350609652201334 mins.\n",
      "\n",
      "2024-05-27 02:08:10 Round 1 ...\n",
      "Current Task ['2018-08'] with Budget none\n",
      "X_train (40882, 2381) Y_train (40882,)\n",
      "\n",
      "2024-05-27 02:08:11 Standardizing ...\n"
     ]
    },
    {
     "name": "stderr",
     "output_type": "stream",
     "text": [
      "\r",
      "  0%|          | 0/6 [00:00<?, ?it/s]"
     ]
    },
    {
     "name": "stdout",
     "output_type": "stream",
     "text": [
      "Epoch 1 of 100\n"
     ]
    },
    {
     "name": "stderr",
     "output_type": "stream",
     "text": [
      "100%|██████████| 6/6 [00:01<00:00,  5.81it/s]\n",
      "100%|██████████| 1/1 [00:00<00:00, 11.10it/s]\n",
      "  0%|          | 0/6 [00:00<?, ?it/s]"
     ]
    },
    {
     "name": "stdout",
     "output_type": "stream",
     "text": [
      "Train Loss: 0.2060, Train Acc: 0.9228\n",
      "Val Loss: 0.1604, Val Acc: 0.9406\n",
      "Validation loss decreased (inf --> 0.160447).  Saving model ...\n",
      "../../GRS_SavedModel/GRSModel_none/['2018-08']/best_model_epoch_1.pt\n",
      "../../GRS_SavedModel/GRSOpt_none/['2018-08']/best_optimizer_epoch_1.pt\n",
      "Epoch 2 of 100\n"
     ]
    },
    {
     "name": "stderr",
     "output_type": "stream",
     "text": [
      "100%|██████████| 6/6 [00:01<00:00,  5.93it/s]\n",
      "100%|██████████| 1/1 [00:00<00:00, 11.27it/s]\n",
      "  0%|          | 0/6 [00:00<?, ?it/s]"
     ]
    },
    {
     "name": "stdout",
     "output_type": "stream",
     "text": [
      "Train Loss: 0.1814, Train Acc: 0.9283\n",
      "Val Loss: 0.1590, Val Acc: 0.9396\n",
      "Validation loss decreased (0.160447 --> 0.158990).  Saving model ...\n",
      "../../GRS_SavedModel/GRSModel_none/['2018-08']/best_model_epoch_2.pt\n",
      "../../GRS_SavedModel/GRSOpt_none/['2018-08']/best_optimizer_epoch_2.pt\n",
      "Epoch 3 of 100\n"
     ]
    },
    {
     "name": "stderr",
     "output_type": "stream",
     "text": [
      "100%|██████████| 6/6 [00:01<00:00,  5.56it/s]\n",
      "100%|██████████| 1/1 [00:00<00:00, 10.58it/s]\n",
      "  0%|          | 0/6 [00:00<?, ?it/s]"
     ]
    },
    {
     "name": "stdout",
     "output_type": "stream",
     "text": [
      "Train Loss: 0.1650, Train Acc: 0.9342\n",
      "Val Loss: 0.1609, Val Acc: 0.9418\n",
      "EarlyStopping counter: 1 out of 5\n",
      "Epoch 4 of 100\n"
     ]
    },
    {
     "name": "stderr",
     "output_type": "stream",
     "text": [
      "100%|██████████| 6/6 [00:01<00:00,  5.89it/s]\n",
      "100%|██████████| 1/1 [00:00<00:00, 11.88it/s]\n",
      "  0%|          | 0/6 [00:00<?, ?it/s]"
     ]
    },
    {
     "name": "stdout",
     "output_type": "stream",
     "text": [
      "Train Loss: 0.1599, Train Acc: 0.9351\n",
      "Val Loss: 0.1528, Val Acc: 0.9416\n",
      "Validation loss decreased (0.158990 --> 0.152751).  Saving model ...\n",
      "../../GRS_SavedModel/GRSModel_none/['2018-08']/best_model_epoch_4.pt\n",
      "../../GRS_SavedModel/GRSOpt_none/['2018-08']/best_optimizer_epoch_4.pt\n",
      "Epoch 5 of 100\n"
     ]
    },
    {
     "name": "stderr",
     "output_type": "stream",
     "text": [
      "100%|██████████| 6/6 [00:01<00:00,  5.61it/s]\n",
      "100%|██████████| 1/1 [00:00<00:00,  5.05it/s]\n",
      "  0%|          | 0/6 [00:00<?, ?it/s]"
     ]
    },
    {
     "name": "stdout",
     "output_type": "stream",
     "text": [
      "Train Loss: 0.1523, Train Acc: 0.9391\n",
      "Val Loss: 0.1516, Val Acc: 0.9438\n",
      "Validation loss decreased (0.152751 --> 0.151619).  Saving model ...\n",
      "../../GRS_SavedModel/GRSModel_none/['2018-08']/best_model_epoch_5.pt\n",
      "../../GRS_SavedModel/GRSOpt_none/['2018-08']/best_optimizer_epoch_5.pt\n",
      "Epoch 6 of 100\n"
     ]
    },
    {
     "name": "stderr",
     "output_type": "stream",
     "text": [
      "100%|██████████| 6/6 [00:01<00:00,  5.66it/s]\n",
      "100%|██████████| 1/1 [00:00<00:00, 11.40it/s]\n",
      "  0%|          | 0/6 [00:00<?, ?it/s]"
     ]
    },
    {
     "name": "stdout",
     "output_type": "stream",
     "text": [
      "Train Loss: 0.1446, Train Acc: 0.9425\n",
      "Val Loss: 0.1470, Val Acc: 0.9452\n",
      "Validation loss decreased (0.151619 --> 0.147044).  Saving model ...\n",
      "../../GRS_SavedModel/GRSModel_none/['2018-08']/best_model_epoch_6.pt\n",
      "../../GRS_SavedModel/GRSOpt_none/['2018-08']/best_optimizer_epoch_6.pt\n",
      "Epoch 7 of 100\n"
     ]
    },
    {
     "name": "stderr",
     "output_type": "stream",
     "text": [
      "100%|██████████| 6/6 [00:01<00:00,  5.80it/s]\n",
      "100%|██████████| 1/1 [00:00<00:00, 11.74it/s]\n",
      "  0%|          | 0/6 [00:00<?, ?it/s]"
     ]
    },
    {
     "name": "stdout",
     "output_type": "stream",
     "text": [
      "Train Loss: 0.1436, Train Acc: 0.9415\n",
      "Val Loss: 0.1436, Val Acc: 0.9494\n",
      "Validation loss decreased (0.147044 --> 0.143616).  Saving model ...\n",
      "../../GRS_SavedModel/GRSModel_none/['2018-08']/best_model_epoch_7.pt\n",
      "../../GRS_SavedModel/GRSOpt_none/['2018-08']/best_optimizer_epoch_7.pt\n",
      "Epoch 8 of 100\n"
     ]
    },
    {
     "name": "stderr",
     "output_type": "stream",
     "text": [
      "100%|██████████| 6/6 [00:01<00:00,  5.69it/s]\n",
      "100%|██████████| 1/1 [00:00<00:00, 11.26it/s]\n",
      "  0%|          | 0/6 [00:00<?, ?it/s]"
     ]
    },
    {
     "name": "stdout",
     "output_type": "stream",
     "text": [
      "Train Loss: 0.1403, Train Acc: 0.9443\n",
      "Val Loss: 0.1430, Val Acc: 0.9489\n",
      "Validation loss decreased (0.143616 --> 0.143033).  Saving model ...\n",
      "../../GRS_SavedModel/GRSModel_none/['2018-08']/best_model_epoch_8.pt\n",
      "../../GRS_SavedModel/GRSOpt_none/['2018-08']/best_optimizer_epoch_8.pt\n",
      "Epoch 9 of 100\n"
     ]
    },
    {
     "name": "stderr",
     "output_type": "stream",
     "text": [
      "100%|██████████| 6/6 [00:01<00:00,  5.78it/s]\n",
      "100%|██████████| 1/1 [00:00<00:00, 11.23it/s]\n",
      "  0%|          | 0/6 [00:00<?, ?it/s]"
     ]
    },
    {
     "name": "stdout",
     "output_type": "stream",
     "text": [
      "Train Loss: 0.1328, Train Acc: 0.9467\n",
      "Val Loss: 0.1399, Val Acc: 0.9496\n",
      "Validation loss decreased (0.143033 --> 0.139857).  Saving model ...\n",
      "../../GRS_SavedModel/GRSModel_none/['2018-08']/best_model_epoch_9.pt\n",
      "../../GRS_SavedModel/GRSOpt_none/['2018-08']/best_optimizer_epoch_9.pt\n",
      "Epoch 10 of 100\n"
     ]
    },
    {
     "name": "stderr",
     "output_type": "stream",
     "text": [
      "100%|██████████| 6/6 [00:01<00:00,  5.49it/s]\n",
      "100%|██████████| 1/1 [00:00<00:00, 11.35it/s]\n",
      "  0%|          | 0/6 [00:00<?, ?it/s]"
     ]
    },
    {
     "name": "stdout",
     "output_type": "stream",
     "text": [
      "Train Loss: 0.1316, Train Acc: 0.9480\n",
      "Val Loss: 0.1386, Val Acc: 0.9491\n",
      "Validation loss decreased (0.139857 --> 0.138635).  Saving model ...\n",
      "../../GRS_SavedModel/GRSModel_none/['2018-08']/best_model_epoch_10.pt\n",
      "../../GRS_SavedModel/GRSOpt_none/['2018-08']/best_optimizer_epoch_10.pt\n",
      "Epoch 11 of 100\n"
     ]
    },
    {
     "name": "stderr",
     "output_type": "stream",
     "text": [
      "100%|██████████| 6/6 [00:01<00:00,  5.72it/s]\n",
      "100%|██████████| 1/1 [00:00<00:00,  5.63it/s]\n",
      "  0%|          | 0/6 [00:00<?, ?it/s]"
     ]
    },
    {
     "name": "stdout",
     "output_type": "stream",
     "text": [
      "Train Loss: 0.1321, Train Acc: 0.9471\n",
      "Val Loss: 0.1364, Val Acc: 0.9501\n",
      "Validation loss decreased (0.138635 --> 0.136419).  Saving model ...\n",
      "../../GRS_SavedModel/GRSModel_none/['2018-08']/best_model_epoch_11.pt\n",
      "../../GRS_SavedModel/GRSOpt_none/['2018-08']/best_optimizer_epoch_11.pt\n",
      "Epoch 12 of 100\n"
     ]
    },
    {
     "name": "stderr",
     "output_type": "stream",
     "text": [
      "100%|██████████| 6/6 [00:00<00:00,  6.05it/s]\n",
      "100%|██████████| 1/1 [00:00<00:00, 11.41it/s]\n",
      "  0%|          | 0/6 [00:00<?, ?it/s]"
     ]
    },
    {
     "name": "stdout",
     "output_type": "stream",
     "text": [
      "Train Loss: 0.1266, Train Acc: 0.9487\n",
      "Val Loss: 0.1362, Val Acc: 0.9494\n",
      "Validation loss decreased (0.136419 --> 0.136200).  Saving model ...\n",
      "../../GRS_SavedModel/GRSModel_none/['2018-08']/best_model_epoch_12.pt\n",
      "../../GRS_SavedModel/GRSOpt_none/['2018-08']/best_optimizer_epoch_12.pt\n",
      "Epoch 13 of 100\n"
     ]
    },
    {
     "name": "stderr",
     "output_type": "stream",
     "text": [
      "100%|██████████| 6/6 [00:00<00:00,  6.32it/s]\n",
      "100%|██████████| 1/1 [00:00<00:00, 11.21it/s]\n",
      "  0%|          | 0/6 [00:00<?, ?it/s]"
     ]
    },
    {
     "name": "stdout",
     "output_type": "stream",
     "text": [
      "Train Loss: 0.1256, Train Acc: 0.9496\n",
      "Val Loss: 0.1389, Val Acc: 0.9474\n",
      "EarlyStopping counter: 1 out of 5\n",
      "Epoch 14 of 100\n"
     ]
    },
    {
     "name": "stderr",
     "output_type": "stream",
     "text": [
      "100%|██████████| 6/6 [00:01<00:00,  5.73it/s]\n",
      "100%|██████████| 1/1 [00:00<00:00, 10.48it/s]\n",
      "  0%|          | 0/6 [00:00<?, ?it/s]"
     ]
    },
    {
     "name": "stdout",
     "output_type": "stream",
     "text": [
      "Train Loss: 0.1225, Train Acc: 0.9509\n",
      "Val Loss: 0.1352, Val Acc: 0.9538\n",
      "Validation loss decreased (0.136200 --> 0.135178).  Saving model ...\n",
      "../../GRS_SavedModel/GRSModel_none/['2018-08']/best_model_epoch_14.pt\n",
      "../../GRS_SavedModel/GRSOpt_none/['2018-08']/best_optimizer_epoch_14.pt\n",
      "Epoch 15 of 100\n"
     ]
    },
    {
     "name": "stderr",
     "output_type": "stream",
     "text": [
      "100%|██████████| 6/6 [00:01<00:00,  5.45it/s]\n",
      "100%|██████████| 1/1 [00:00<00:00, 11.59it/s]\n",
      "  0%|          | 0/6 [00:00<?, ?it/s]"
     ]
    },
    {
     "name": "stdout",
     "output_type": "stream",
     "text": [
      "Train Loss: 0.1224, Train Acc: 0.9521\n",
      "Val Loss: 0.1370, Val Acc: 0.9489\n",
      "EarlyStopping counter: 1 out of 5\n",
      "Epoch 16 of 100\n"
     ]
    },
    {
     "name": "stderr",
     "output_type": "stream",
     "text": [
      "100%|██████████| 6/6 [00:01<00:00,  5.24it/s]\n",
      "100%|██████████| 1/1 [00:00<00:00, 10.61it/s]\n",
      "  0%|          | 0/6 [00:00<?, ?it/s]"
     ]
    },
    {
     "name": "stdout",
     "output_type": "stream",
     "text": [
      "Train Loss: 0.1168, Train Acc: 0.9531\n",
      "Val Loss: 0.1400, Val Acc: 0.9447\n",
      "EarlyStopping counter: 2 out of 5\n",
      "Epoch 17 of 100\n"
     ]
    },
    {
     "name": "stderr",
     "output_type": "stream",
     "text": [
      "100%|██████████| 6/6 [00:01<00:00,  5.88it/s]\n",
      "100%|██████████| 1/1 [00:00<00:00,  5.16it/s]\n",
      "  0%|          | 0/6 [00:00<?, ?it/s]"
     ]
    },
    {
     "name": "stdout",
     "output_type": "stream",
     "text": [
      "Train Loss: 0.1144, Train Acc: 0.9536\n",
      "Val Loss: 0.1362, Val Acc: 0.9508\n",
      "EarlyStopping counter: 3 out of 5\n",
      "Epoch 18 of 100\n"
     ]
    },
    {
     "name": "stderr",
     "output_type": "stream",
     "text": [
      "100%|██████████| 6/6 [00:00<00:00,  6.11it/s]\n",
      "100%|██████████| 1/1 [00:00<00:00, 11.54it/s]\n",
      "  0%|          | 0/6 [00:00<?, ?it/s]"
     ]
    },
    {
     "name": "stdout",
     "output_type": "stream",
     "text": [
      "Train Loss: 0.1194, Train Acc: 0.9522\n",
      "Val Loss: 0.1349, Val Acc: 0.9494\n",
      "Validation loss decreased (0.135178 --> 0.134851).  Saving model ...\n",
      "../../GRS_SavedModel/GRSModel_none/['2018-08']/best_model_epoch_18.pt\n",
      "../../GRS_SavedModel/GRSOpt_none/['2018-08']/best_optimizer_epoch_18.pt\n",
      "Epoch 19 of 100\n"
     ]
    },
    {
     "name": "stderr",
     "output_type": "stream",
     "text": [
      "100%|██████████| 6/6 [00:01<00:00,  5.74it/s]\n",
      "100%|██████████| 1/1 [00:00<00:00,  9.74it/s]\n",
      "  0%|          | 0/6 [00:00<?, ?it/s]"
     ]
    },
    {
     "name": "stdout",
     "output_type": "stream",
     "text": [
      "Train Loss: 0.1170, Train Acc: 0.9539\n",
      "Val Loss: 0.1340, Val Acc: 0.9511\n",
      "Validation loss decreased (0.134851 --> 0.134013).  Saving model ...\n",
      "../../GRS_SavedModel/GRSModel_none/['2018-08']/best_model_epoch_19.pt\n",
      "../../GRS_SavedModel/GRSOpt_none/['2018-08']/best_optimizer_epoch_19.pt\n",
      "Epoch 20 of 100\n"
     ]
    },
    {
     "name": "stderr",
     "output_type": "stream",
     "text": [
      "100%|██████████| 6/6 [00:01<00:00,  5.71it/s]\n",
      "100%|██████████| 1/1 [00:00<00:00,  8.60it/s]\n",
      "  0%|          | 0/6 [00:00<?, ?it/s]"
     ]
    },
    {
     "name": "stdout",
     "output_type": "stream",
     "text": [
      "Train Loss: 0.1143, Train Acc: 0.9545\n",
      "Val Loss: 0.1341, Val Acc: 0.9511\n",
      "EarlyStopping counter: 1 out of 5\n",
      "Epoch 21 of 100\n"
     ]
    },
    {
     "name": "stderr",
     "output_type": "stream",
     "text": [
      "100%|██████████| 6/6 [00:01<00:00,  5.59it/s]\n",
      "100%|██████████| 1/1 [00:00<00:00, 11.23it/s]\n",
      "  0%|          | 0/6 [00:00<?, ?it/s]"
     ]
    },
    {
     "name": "stdout",
     "output_type": "stream",
     "text": [
      "Train Loss: 0.1127, Train Acc: 0.9554\n",
      "Val Loss: 0.1344, Val Acc: 0.9516\n",
      "EarlyStopping counter: 2 out of 5\n",
      "Epoch 22 of 100\n"
     ]
    },
    {
     "name": "stderr",
     "output_type": "stream",
     "text": [
      "100%|██████████| 6/6 [00:01<00:00,  5.74it/s]\n",
      "100%|██████████| 1/1 [00:00<00:00,  4.60it/s]\n",
      "  0%|          | 0/6 [00:00<?, ?it/s]"
     ]
    },
    {
     "name": "stdout",
     "output_type": "stream",
     "text": [
      "Train Loss: 0.1092, Train Acc: 0.9569\n",
      "Val Loss: 0.1343, Val Acc: 0.9538\n",
      "EarlyStopping counter: 3 out of 5\n",
      "Epoch 23 of 100\n"
     ]
    },
    {
     "name": "stderr",
     "output_type": "stream",
     "text": [
      "100%|██████████| 6/6 [00:00<00:00,  6.09it/s]\n",
      "100%|██████████| 1/1 [00:00<00:00, 12.09it/s]\n",
      "  0%|          | 0/6 [00:00<?, ?it/s]"
     ]
    },
    {
     "name": "stdout",
     "output_type": "stream",
     "text": [
      "Train Loss: 0.1092, Train Acc: 0.9566\n",
      "Val Loss: 0.1376, Val Acc: 0.9491\n",
      "EarlyStopping counter: 4 out of 5\n",
      "Epoch 24 of 100\n"
     ]
    },
    {
     "name": "stderr",
     "output_type": "stream",
     "text": [
      "100%|██████████| 6/6 [00:01<00:00,  5.72it/s]\n",
      "100%|██████████| 1/1 [00:00<00:00, 10.47it/s]\n"
     ]
    },
    {
     "name": "stdout",
     "output_type": "stream",
     "text": [
      "Train Loss: 0.1115, Train Acc: 0.9561\n",
      "Val Loss: 0.1383, Val Acc: 0.9501\n",
      "EarlyStopping counter: 5 out of 5\n",
      "Early stopping\n",
      "Training time: 0.482 minutes\n",
      "loading best model ../../GRS_SavedModel/GRSModel_none/['2018-08']/best_model_epoch_19.pt\n",
      "loading best optimizer ../../GRS_SavedModel/GRSOpt_none/['2018-08']/best_optimizer_epoch_19.pt\n"
     ]
    },
    {
     "name": "stderr",
     "output_type": "stream",
     "text": [
      "100%|██████████| 2/2 [00:00<00:00,  5.77it/s]\n",
      "100%|██████████| 1/1 [00:00<00:00,  3.50it/s]\n",
      "100%|██████████| 1/1 [00:00<00:00,  4.04it/s]\n",
      "100%|██████████| 1/1 [00:00<00:00,  3.51it/s]\n",
      "100%|██████████| 1/1 [00:00<00:00,  3.75it/s]\n",
      "100%|██████████| 1/1 [00:00<00:00,  3.65it/s]\n",
      "100%|██████████| 1/1 [00:00<00:00,  3.61it/s]\n",
      "100%|██████████| 1/1 [00:00<00:00,  3.73it/s]\n",
      "100%|██████████| 2/2 [00:00<00:00,  5.89it/s]\n",
      "100%|██████████| 2/2 [00:00<00:00,  5.56it/s]\n",
      "100%|██████████| 2/2 [00:00<00:00,  5.24it/s]\n",
      "100%|██████████| 2/2 [00:00<00:00,  5.21it/s]\n"
     ]
    },
    {
     "name": "stdout",
     "output_type": "stream",
     "text": [
      "Elapsed time 6.990787998835246 mins.\n",
      "\n",
      "2024-05-27 02:08:49 Round 1 ...\n",
      "Current Task ['2018-09'] with Budget none\n",
      "X_train (56492, 2381) Y_train (56492,)\n",
      "\n",
      "2024-05-27 02:08:49 Standardizing ...\n"
     ]
    },
    {
     "name": "stderr",
     "output_type": "stream",
     "text": [
      "\r",
      "  0%|          | 0/8 [00:00<?, ?it/s]"
     ]
    },
    {
     "name": "stdout",
     "output_type": "stream",
     "text": [
      "Epoch 1 of 100\n"
     ]
    },
    {
     "name": "stderr",
     "output_type": "stream",
     "text": [
      "100%|██████████| 8/8 [00:01<00:00,  6.21it/s]\n",
      "100%|██████████| 1/1 [00:00<00:00,  8.58it/s]\n",
      "  0%|          | 0/8 [00:00<?, ?it/s]"
     ]
    },
    {
     "name": "stdout",
     "output_type": "stream",
     "text": [
      "Train Loss: 0.2196, Train Acc: 0.9205\n",
      "Val Loss: 0.1764, Val Acc: 0.9345\n",
      "Validation loss decreased (inf --> 0.176397).  Saving model ...\n",
      "../../GRS_SavedModel/GRSModel_none/['2018-09']/best_model_epoch_1.pt\n",
      "../../GRS_SavedModel/GRSOpt_none/['2018-09']/best_optimizer_epoch_1.pt\n",
      "Epoch 2 of 100\n"
     ]
    },
    {
     "name": "stderr",
     "output_type": "stream",
     "text": [
      "100%|██████████| 8/8 [00:01<00:00,  6.57it/s]\n",
      "100%|██████████| 1/1 [00:00<00:00,  8.71it/s]\n",
      "  0%|          | 0/8 [00:00<?, ?it/s]"
     ]
    },
    {
     "name": "stdout",
     "output_type": "stream",
     "text": [
      "Train Loss: 0.1931, Train Acc: 0.9278\n",
      "Val Loss: 0.1659, Val Acc: 0.9359\n",
      "Validation loss decreased (0.176397 --> 0.165863).  Saving model ...\n",
      "../../GRS_SavedModel/GRSModel_none/['2018-09']/best_model_epoch_2.pt\n",
      "../../GRS_SavedModel/GRSOpt_none/['2018-09']/best_optimizer_epoch_2.pt\n",
      "Epoch 3 of 100\n"
     ]
    },
    {
     "name": "stderr",
     "output_type": "stream",
     "text": [
      "100%|██████████| 8/8 [00:01<00:00,  6.72it/s]\n",
      "100%|██████████| 1/1 [00:00<00:00,  4.67it/s]\n",
      "  0%|          | 0/8 [00:00<?, ?it/s]"
     ]
    },
    {
     "name": "stdout",
     "output_type": "stream",
     "text": [
      "Train Loss: 0.1835, Train Acc: 0.9282\n",
      "Val Loss: 0.1647, Val Acc: 0.9354\n",
      "Validation loss decreased (0.165863 --> 0.164669).  Saving model ...\n",
      "../../GRS_SavedModel/GRSModel_none/['2018-09']/best_model_epoch_3.pt\n",
      "../../GRS_SavedModel/GRSOpt_none/['2018-09']/best_optimizer_epoch_3.pt\n",
      "Epoch 4 of 100\n"
     ]
    },
    {
     "name": "stderr",
     "output_type": "stream",
     "text": [
      "100%|██████████| 8/8 [00:01<00:00,  6.46it/s]\n",
      "100%|██████████| 1/1 [00:00<00:00,  9.99it/s]\n",
      "  0%|          | 0/8 [00:00<?, ?it/s]"
     ]
    },
    {
     "name": "stdout",
     "output_type": "stream",
     "text": [
      "Train Loss: 0.1697, Train Acc: 0.9335\n",
      "Val Loss: 0.1513, Val Acc: 0.9391\n",
      "Validation loss decreased (0.164669 --> 0.151349).  Saving model ...\n",
      "../../GRS_SavedModel/GRSModel_none/['2018-09']/best_model_epoch_4.pt\n",
      "../../GRS_SavedModel/GRSOpt_none/['2018-09']/best_optimizer_epoch_4.pt\n",
      "Epoch 5 of 100\n"
     ]
    },
    {
     "name": "stderr",
     "output_type": "stream",
     "text": [
      "100%|██████████| 8/8 [00:01<00:00,  6.97it/s]\n",
      "100%|██████████| 1/1 [00:00<00:00,  8.15it/s]\n",
      "  0%|          | 0/8 [00:00<?, ?it/s]"
     ]
    },
    {
     "name": "stdout",
     "output_type": "stream",
     "text": [
      "Train Loss: 0.1623, Train Acc: 0.9362\n",
      "Val Loss: 0.1470, Val Acc: 0.9409\n",
      "Validation loss decreased (0.151349 --> 0.146990).  Saving model ...\n",
      "../../GRS_SavedModel/GRSModel_none/['2018-09']/best_model_epoch_5.pt\n",
      "../../GRS_SavedModel/GRSOpt_none/['2018-09']/best_optimizer_epoch_5.pt\n",
      "Epoch 6 of 100\n"
     ]
    },
    {
     "name": "stderr",
     "output_type": "stream",
     "text": [
      "100%|██████████| 8/8 [00:01<00:00,  6.58it/s]\n",
      "100%|██████████| 1/1 [00:00<00:00,  8.75it/s]\n",
      "  0%|          | 0/8 [00:00<?, ?it/s]"
     ]
    },
    {
     "name": "stdout",
     "output_type": "stream",
     "text": [
      "Train Loss: 0.1543, Train Acc: 0.9402\n",
      "Val Loss: 0.1457, Val Acc: 0.9418\n",
      "Validation loss decreased (0.146990 --> 0.145668).  Saving model ...\n",
      "../../GRS_SavedModel/GRSModel_none/['2018-09']/best_model_epoch_6.pt\n",
      "../../GRS_SavedModel/GRSOpt_none/['2018-09']/best_optimizer_epoch_6.pt\n",
      "Epoch 7 of 100\n"
     ]
    },
    {
     "name": "stderr",
     "output_type": "stream",
     "text": [
      "100%|██████████| 8/8 [00:01<00:00,  5.88it/s]\n",
      "100%|██████████| 1/1 [00:00<00:00,  5.03it/s]\n",
      "  0%|          | 0/8 [00:00<?, ?it/s]"
     ]
    },
    {
     "name": "stdout",
     "output_type": "stream",
     "text": [
      "Train Loss: 0.1505, Train Acc: 0.9408\n",
      "Val Loss: 0.1431, Val Acc: 0.9425\n",
      "Validation loss decreased (0.145668 --> 0.143109).  Saving model ...\n",
      "../../GRS_SavedModel/GRSModel_none/['2018-09']/best_model_epoch_7.pt\n",
      "../../GRS_SavedModel/GRSOpt_none/['2018-09']/best_optimizer_epoch_7.pt\n",
      "Epoch 8 of 100\n"
     ]
    },
    {
     "name": "stderr",
     "output_type": "stream",
     "text": [
      "100%|██████████| 8/8 [00:01<00:00,  6.50it/s]\n",
      "100%|██████████| 1/1 [00:00<00:00, 10.10it/s]\n",
      "  0%|          | 0/8 [00:00<?, ?it/s]"
     ]
    },
    {
     "name": "stdout",
     "output_type": "stream",
     "text": [
      "Train Loss: 0.1428, Train Acc: 0.9442\n",
      "Val Loss: 0.1422, Val Acc: 0.9430\n",
      "Validation loss decreased (0.143109 --> 0.142197).  Saving model ...\n",
      "../../GRS_SavedModel/GRSModel_none/['2018-09']/best_model_epoch_8.pt\n",
      "../../GRS_SavedModel/GRSOpt_none/['2018-09']/best_optimizer_epoch_8.pt\n",
      "Epoch 9 of 100\n"
     ]
    },
    {
     "name": "stderr",
     "output_type": "stream",
     "text": [
      "100%|██████████| 8/8 [00:01<00:00,  6.44it/s]\n",
      "100%|██████████| 1/1 [00:00<00:00,  8.82it/s]\n",
      "  0%|          | 0/8 [00:00<?, ?it/s]"
     ]
    },
    {
     "name": "stdout",
     "output_type": "stream",
     "text": [
      "Train Loss: 0.1401, Train Acc: 0.9451\n",
      "Val Loss: 0.1398, Val Acc: 0.9446\n",
      "Validation loss decreased (0.142197 --> 0.139767).  Saving model ...\n",
      "../../GRS_SavedModel/GRSModel_none/['2018-09']/best_model_epoch_9.pt\n",
      "../../GRS_SavedModel/GRSOpt_none/['2018-09']/best_optimizer_epoch_9.pt\n",
      "Epoch 10 of 100\n"
     ]
    },
    {
     "name": "stderr",
     "output_type": "stream",
     "text": [
      "100%|██████████| 8/8 [00:01<00:00,  6.33it/s]\n",
      "100%|██████████| 1/1 [00:00<00:00,  8.93it/s]\n",
      "  0%|          | 0/8 [00:00<?, ?it/s]"
     ]
    },
    {
     "name": "stdout",
     "output_type": "stream",
     "text": [
      "Train Loss: 0.1406, Train Acc: 0.9446\n",
      "Val Loss: 0.1389, Val Acc: 0.9437\n",
      "Validation loss decreased (0.139767 --> 0.138894).  Saving model ...\n",
      "../../GRS_SavedModel/GRSModel_none/['2018-09']/best_model_epoch_10.pt\n",
      "../../GRS_SavedModel/GRSOpt_none/['2018-09']/best_optimizer_epoch_10.pt\n",
      "Epoch 11 of 100\n"
     ]
    },
    {
     "name": "stderr",
     "output_type": "stream",
     "text": [
      "100%|██████████| 8/8 [00:01<00:00,  5.83it/s]\n",
      "100%|██████████| 1/1 [00:00<00:00,  4.42it/s]\n",
      "  0%|          | 0/8 [00:00<?, ?it/s]"
     ]
    },
    {
     "name": "stdout",
     "output_type": "stream",
     "text": [
      "Train Loss: 0.1367, Train Acc: 0.9462\n",
      "Val Loss: 0.1412, Val Acc: 0.9425\n",
      "EarlyStopping counter: 1 out of 5\n",
      "Epoch 12 of 100\n"
     ]
    },
    {
     "name": "stderr",
     "output_type": "stream",
     "text": [
      "100%|██████████| 8/8 [00:01<00:00,  6.52it/s]\n",
      "100%|██████████| 1/1 [00:00<00:00,  8.17it/s]\n",
      "  0%|          | 0/8 [00:00<?, ?it/s]"
     ]
    },
    {
     "name": "stdout",
     "output_type": "stream",
     "text": [
      "Train Loss: 0.1325, Train Acc: 0.9486\n",
      "Val Loss: 0.1374, Val Acc: 0.9469\n",
      "Validation loss decreased (0.138894 --> 0.137372).  Saving model ...\n",
      "../../GRS_SavedModel/GRSModel_none/['2018-09']/best_model_epoch_12.pt\n",
      "../../GRS_SavedModel/GRSOpt_none/['2018-09']/best_optimizer_epoch_12.pt\n",
      "Epoch 13 of 100\n"
     ]
    },
    {
     "name": "stderr",
     "output_type": "stream",
     "text": [
      "100%|██████████| 8/8 [00:01<00:00,  6.10it/s]\n",
      "100%|██████████| 1/1 [00:00<00:00,  8.56it/s]\n",
      "  0%|          | 0/8 [00:00<?, ?it/s]"
     ]
    },
    {
     "name": "stdout",
     "output_type": "stream",
     "text": [
      "Train Loss: 0.1324, Train Acc: 0.9483\n",
      "Val Loss: 0.1366, Val Acc: 0.9465\n",
      "Validation loss decreased (0.137372 --> 0.136624).  Saving model ...\n",
      "../../GRS_SavedModel/GRSModel_none/['2018-09']/best_model_epoch_13.pt\n",
      "../../GRS_SavedModel/GRSOpt_none/['2018-09']/best_optimizer_epoch_13.pt\n",
      "Epoch 14 of 100\n"
     ]
    },
    {
     "name": "stderr",
     "output_type": "stream",
     "text": [
      "100%|██████████| 8/8 [00:01<00:00,  6.59it/s]\n",
      "100%|██████████| 1/1 [00:00<00:00,  8.07it/s]\n",
      "  0%|          | 0/8 [00:00<?, ?it/s]"
     ]
    },
    {
     "name": "stdout",
     "output_type": "stream",
     "text": [
      "Train Loss: 0.1308, Train Acc: 0.9498\n",
      "Val Loss: 0.1355, Val Acc: 0.9471\n",
      "Validation loss decreased (0.136624 --> 0.135475).  Saving model ...\n",
      "../../GRS_SavedModel/GRSModel_none/['2018-09']/best_model_epoch_14.pt\n",
      "../../GRS_SavedModel/GRSOpt_none/['2018-09']/best_optimizer_epoch_14.pt\n",
      "Epoch 15 of 100\n"
     ]
    },
    {
     "name": "stderr",
     "output_type": "stream",
     "text": [
      "100%|██████████| 8/8 [00:01<00:00,  6.64it/s]\n",
      "100%|██████████| 1/1 [00:00<00:00,  8.38it/s]\n",
      "  0%|          | 0/8 [00:00<?, ?it/s]"
     ]
    },
    {
     "name": "stdout",
     "output_type": "stream",
     "text": [
      "Train Loss: 0.1261, Train Acc: 0.9526\n",
      "Val Loss: 0.1347, Val Acc: 0.9481\n",
      "Validation loss decreased (0.135475 --> 0.134716).  Saving model ...\n",
      "../../GRS_SavedModel/GRSModel_none/['2018-09']/best_model_epoch_15.pt\n",
      "../../GRS_SavedModel/GRSOpt_none/['2018-09']/best_optimizer_epoch_15.pt\n",
      "Epoch 16 of 100\n"
     ]
    },
    {
     "name": "stderr",
     "output_type": "stream",
     "text": [
      "100%|██████████| 8/8 [00:01<00:00,  5.53it/s]\n",
      "100%|██████████| 1/1 [00:00<00:00,  4.53it/s]\n",
      "  0%|          | 0/8 [00:00<?, ?it/s]"
     ]
    },
    {
     "name": "stdout",
     "output_type": "stream",
     "text": [
      "Train Loss: 0.1234, Train Acc: 0.9527\n",
      "Val Loss: 0.1352, Val Acc: 0.9476\n",
      "EarlyStopping counter: 1 out of 5\n",
      "Epoch 17 of 100\n"
     ]
    },
    {
     "name": "stderr",
     "output_type": "stream",
     "text": [
      "100%|██████████| 8/8 [00:01<00:00,  6.71it/s]\n",
      "100%|██████████| 1/1 [00:00<00:00,  8.35it/s]\n",
      "  0%|          | 0/8 [00:00<?, ?it/s]"
     ]
    },
    {
     "name": "stdout",
     "output_type": "stream",
     "text": [
      "Train Loss: 0.1214, Train Acc: 0.9532\n",
      "Val Loss: 0.1330, Val Acc: 0.9501\n",
      "Validation loss decreased (0.134716 --> 0.133007).  Saving model ...\n",
      "../../GRS_SavedModel/GRSModel_none/['2018-09']/best_model_epoch_17.pt\n",
      "../../GRS_SavedModel/GRSOpt_none/['2018-09']/best_optimizer_epoch_17.pt\n",
      "Epoch 18 of 100\n"
     ]
    },
    {
     "name": "stderr",
     "output_type": "stream",
     "text": [
      "100%|██████████| 8/8 [00:01<00:00,  6.56it/s]\n",
      "100%|██████████| 1/1 [00:00<00:00,  8.08it/s]\n",
      "  0%|          | 0/8 [00:00<?, ?it/s]"
     ]
    },
    {
     "name": "stdout",
     "output_type": "stream",
     "text": [
      "Train Loss: 0.1242, Train Acc: 0.9527\n",
      "Val Loss: 0.1325, Val Acc: 0.9506\n",
      "Validation loss decreased (0.133007 --> 0.132519).  Saving model ...\n",
      "../../GRS_SavedModel/GRSModel_none/['2018-09']/best_model_epoch_18.pt\n",
      "../../GRS_SavedModel/GRSOpt_none/['2018-09']/best_optimizer_epoch_18.pt\n",
      "Epoch 19 of 100\n"
     ]
    },
    {
     "name": "stderr",
     "output_type": "stream",
     "text": [
      "100%|██████████| 8/8 [00:01<00:00,  6.54it/s]\n",
      "100%|██████████| 1/1 [00:00<00:00,  8.11it/s]\n",
      "  0%|          | 0/8 [00:00<?, ?it/s]"
     ]
    },
    {
     "name": "stdout",
     "output_type": "stream",
     "text": [
      "Train Loss: 0.1208, Train Acc: 0.9543\n",
      "Val Loss: 0.1328, Val Acc: 0.9496\n",
      "EarlyStopping counter: 1 out of 5\n",
      "Epoch 20 of 100\n"
     ]
    },
    {
     "name": "stderr",
     "output_type": "stream",
     "text": [
      "100%|██████████| 8/8 [00:01<00:00,  7.35it/s]\n",
      "100%|██████████| 1/1 [00:00<00:00,  4.37it/s]\n",
      "  0%|          | 0/8 [00:00<?, ?it/s]"
     ]
    },
    {
     "name": "stdout",
     "output_type": "stream",
     "text": [
      "Train Loss: 0.1137, Train Acc: 0.9559\n",
      "Val Loss: 0.1333, Val Acc: 0.9497\n",
      "EarlyStopping counter: 2 out of 5\n",
      "Epoch 21 of 100\n"
     ]
    },
    {
     "name": "stderr",
     "output_type": "stream",
     "text": [
      "100%|██████████| 8/8 [00:01<00:00,  6.71it/s]\n",
      "100%|██████████| 1/1 [00:00<00:00,  8.68it/s]\n",
      "  0%|          | 0/8 [00:00<?, ?it/s]"
     ]
    },
    {
     "name": "stdout",
     "output_type": "stream",
     "text": [
      "Train Loss: 0.1208, Train Acc: 0.9526\n",
      "Val Loss: 0.1323, Val Acc: 0.9494\n",
      "Validation loss decreased (0.132519 --> 0.132289).  Saving model ...\n",
      "../../GRS_SavedModel/GRSModel_none/['2018-09']/best_model_epoch_21.pt\n",
      "../../GRS_SavedModel/GRSOpt_none/['2018-09']/best_optimizer_epoch_21.pt\n",
      "Epoch 22 of 100\n"
     ]
    },
    {
     "name": "stderr",
     "output_type": "stream",
     "text": [
      "100%|██████████| 8/8 [00:01<00:00,  6.10it/s]\n",
      "100%|██████████| 1/1 [00:00<00:00,  7.22it/s]\n",
      "  0%|          | 0/8 [00:00<?, ?it/s]"
     ]
    },
    {
     "name": "stdout",
     "output_type": "stream",
     "text": [
      "Train Loss: 0.1163, Train Acc: 0.9542\n",
      "Val Loss: 0.1313, Val Acc: 0.9508\n",
      "Validation loss decreased (0.132289 --> 0.131334).  Saving model ...\n",
      "../../GRS_SavedModel/GRSModel_none/['2018-09']/best_model_epoch_22.pt\n",
      "../../GRS_SavedModel/GRSOpt_none/['2018-09']/best_optimizer_epoch_22.pt\n",
      "Epoch 23 of 100\n"
     ]
    },
    {
     "name": "stderr",
     "output_type": "stream",
     "text": [
      "100%|██████████| 8/8 [00:01<00:00,  6.58it/s]\n",
      "100%|██████████| 1/1 [00:00<00:00,  8.52it/s]\n",
      "  0%|          | 0/8 [00:00<?, ?it/s]"
     ]
    },
    {
     "name": "stdout",
     "output_type": "stream",
     "text": [
      "Train Loss: 0.1114, Train Acc: 0.9574\n",
      "Val Loss: 0.1318, Val Acc: 0.9497\n",
      "EarlyStopping counter: 1 out of 5\n",
      "Epoch 24 of 100\n"
     ]
    },
    {
     "name": "stderr",
     "output_type": "stream",
     "text": [
      "100%|██████████| 8/8 [00:01<00:00,  6.59it/s]\n",
      "100%|██████████| 1/1 [00:00<00:00,  4.13it/s]\n",
      "  0%|          | 0/8 [00:00<?, ?it/s]"
     ]
    },
    {
     "name": "stdout",
     "output_type": "stream",
     "text": [
      "Train Loss: 0.1128, Train Acc: 0.9567\n",
      "Val Loss: 0.1312, Val Acc: 0.9504\n",
      "Validation loss decreased (0.131334 --> 0.131211).  Saving model ...\n",
      "../../GRS_SavedModel/GRSModel_none/['2018-09']/best_model_epoch_24.pt\n",
      "../../GRS_SavedModel/GRSOpt_none/['2018-09']/best_optimizer_epoch_24.pt\n",
      "Epoch 25 of 100\n"
     ]
    },
    {
     "name": "stderr",
     "output_type": "stream",
     "text": [
      "100%|██████████| 8/8 [00:01<00:00,  6.71it/s]\n",
      "100%|██████████| 1/1 [00:00<00:00,  8.87it/s]\n",
      "  0%|          | 0/8 [00:00<?, ?it/s]"
     ]
    },
    {
     "name": "stdout",
     "output_type": "stream",
     "text": [
      "Train Loss: 0.1089, Train Acc: 0.9581\n",
      "Val Loss: 0.1300, Val Acc: 0.9522\n",
      "Validation loss decreased (0.131211 --> 0.129953).  Saving model ...\n",
      "../../GRS_SavedModel/GRSModel_none/['2018-09']/best_model_epoch_25.pt\n",
      "../../GRS_SavedModel/GRSOpt_none/['2018-09']/best_optimizer_epoch_25.pt\n",
      "Epoch 26 of 100\n"
     ]
    },
    {
     "name": "stderr",
     "output_type": "stream",
     "text": [
      "100%|██████████| 8/8 [00:01<00:00,  6.27it/s]\n",
      "100%|██████████| 1/1 [00:00<00:00,  7.82it/s]\n",
      "  0%|          | 0/8 [00:00<?, ?it/s]"
     ]
    },
    {
     "name": "stdout",
     "output_type": "stream",
     "text": [
      "Train Loss: 0.1092, Train Acc: 0.9579\n",
      "Val Loss: 0.1325, Val Acc: 0.9504\n",
      "EarlyStopping counter: 1 out of 5\n",
      "Epoch 27 of 100\n"
     ]
    },
    {
     "name": "stderr",
     "output_type": "stream",
     "text": [
      "100%|██████████| 8/8 [00:01<00:00,  6.75it/s]\n",
      "100%|██████████| 1/1 [00:00<00:00,  7.97it/s]\n",
      "  0%|          | 0/8 [00:00<?, ?it/s]"
     ]
    },
    {
     "name": "stdout",
     "output_type": "stream",
     "text": [
      "Train Loss: 0.1039, Train Acc: 0.9605\n",
      "Val Loss: 0.1313, Val Acc: 0.9504\n",
      "EarlyStopping counter: 2 out of 5\n",
      "Epoch 28 of 100\n"
     ]
    },
    {
     "name": "stderr",
     "output_type": "stream",
     "text": [
      "100%|██████████| 8/8 [00:01<00:00,  6.72it/s]\n",
      "100%|██████████| 1/1 [00:00<00:00,  4.10it/s]\n",
      "  0%|          | 0/8 [00:00<?, ?it/s]"
     ]
    },
    {
     "name": "stdout",
     "output_type": "stream",
     "text": [
      "Train Loss: 0.1103, Train Acc: 0.9570\n",
      "Val Loss: 0.1322, Val Acc: 0.9520\n",
      "EarlyStopping counter: 3 out of 5\n",
      "Epoch 29 of 100\n"
     ]
    },
    {
     "name": "stderr",
     "output_type": "stream",
     "text": [
      "100%|██████████| 8/8 [00:01<00:00,  6.64it/s]\n",
      "100%|██████████| 1/1 [00:00<00:00, 10.56it/s]\n",
      "  0%|          | 0/8 [00:00<?, ?it/s]"
     ]
    },
    {
     "name": "stdout",
     "output_type": "stream",
     "text": [
      "Train Loss: 0.1148, Train Acc: 0.9552\n",
      "Val Loss: 0.1334, Val Acc: 0.9529\n",
      "EarlyStopping counter: 4 out of 5\n",
      "Epoch 30 of 100\n"
     ]
    },
    {
     "name": "stderr",
     "output_type": "stream",
     "text": [
      "100%|██████████| 8/8 [00:01<00:00,  7.41it/s]\n",
      "100%|██████████| 1/1 [00:00<00:00,  8.06it/s]\n"
     ]
    },
    {
     "name": "stdout",
     "output_type": "stream",
     "text": [
      "Train Loss: 0.1125, Train Acc: 0.9565\n",
      "Val Loss: 0.1461, Val Acc: 0.9469\n",
      "EarlyStopping counter: 5 out of 5\n",
      "Early stopping\n",
      "Training time: 0.715 minutes\n",
      "loading best model ../../GRS_SavedModel/GRSModel_none/['2018-09']/best_model_epoch_25.pt\n",
      "loading best optimizer ../../GRS_SavedModel/GRSOpt_none/['2018-09']/best_optimizer_epoch_25.pt\n"
     ]
    },
    {
     "name": "stderr",
     "output_type": "stream",
     "text": [
      "100%|██████████| 2/2 [00:00<00:00,  6.02it/s]\n",
      "100%|██████████| 1/1 [00:00<00:00,  3.57it/s]\n",
      "100%|██████████| 1/1 [00:00<00:00,  3.90it/s]\n",
      "100%|██████████| 1/1 [00:00<00:00,  3.39it/s]\n",
      "100%|██████████| 1/1 [00:00<00:00,  3.67it/s]\n",
      "100%|██████████| 1/1 [00:00<00:00,  3.58it/s]\n",
      "100%|██████████| 1/1 [00:00<00:00,  3.47it/s]\n",
      "100%|██████████| 1/1 [00:00<00:00,  3.68it/s]\n",
      "100%|██████████| 2/2 [00:00<00:00,  5.68it/s]\n",
      "100%|██████████| 2/2 [00:00<00:00,  5.54it/s]\n",
      "100%|██████████| 2/2 [00:00<00:00,  3.24it/s]\n",
      "100%|██████████| 2/2 [00:00<00:00,  4.15it/s]\n"
     ]
    },
    {
     "name": "stdout",
     "output_type": "stream",
     "text": [
      "Elapsed time 7.887279518445333 mins.\n",
      "\n",
      "2024-05-27 02:09:42 Round 1 ...\n",
      "Current Task ['2018-10'] with Budget none\n",
      "X_train (77772, 2381) Y_train (77772,)\n",
      "\n",
      "2024-05-27 02:09:43 Standardizing ...\n"
     ]
    },
    {
     "name": "stderr",
     "output_type": "stream",
     "text": [
      "\r",
      "  0%|          | 0/11 [00:00<?, ?it/s]"
     ]
    },
    {
     "name": "stdout",
     "output_type": "stream",
     "text": [
      "Epoch 1 of 100\n"
     ]
    },
    {
     "name": "stderr",
     "output_type": "stream",
     "text": [
      "100%|██████████| 11/11 [00:01<00:00,  7.08it/s]\n",
      "100%|██████████| 2/2 [00:00<00:00, 13.65it/s]\n",
      "  0%|          | 0/11 [00:00<?, ?it/s]"
     ]
    },
    {
     "name": "stdout",
     "output_type": "stream",
     "text": [
      "Train Loss: 0.2380, Train Acc: 0.9190\n",
      "Val Loss: 0.1529, Val Acc: 0.9446\n",
      "Validation loss decreased (inf --> 0.152854).  Saving model ...\n",
      "../../GRS_SavedModel/GRSModel_none/['2018-10']/best_model_epoch_1.pt\n",
      "../../GRS_SavedModel/GRSOpt_none/['2018-10']/best_optimizer_epoch_1.pt\n",
      "Epoch 2 of 100\n"
     ]
    },
    {
     "name": "stderr",
     "output_type": "stream",
     "text": [
      "100%|██████████| 11/11 [00:01<00:00,  7.07it/s]\n",
      "100%|██████████| 2/2 [00:00<00:00,  7.61it/s]\n",
      "  0%|          | 0/11 [00:00<?, ?it/s]"
     ]
    },
    {
     "name": "stdout",
     "output_type": "stream",
     "text": [
      "Train Loss: 0.1597, Train Acc: 0.9404\n",
      "Val Loss: 0.1229, Val Acc: 0.9523\n",
      "Validation loss decreased (0.152854 --> 0.122902).  Saving model ...\n",
      "../../GRS_SavedModel/GRSModel_none/['2018-10']/best_model_epoch_2.pt\n",
      "../../GRS_SavedModel/GRSOpt_none/['2018-10']/best_optimizer_epoch_2.pt\n",
      "Epoch 3 of 100\n"
     ]
    },
    {
     "name": "stderr",
     "output_type": "stream",
     "text": [
      "100%|██████████| 11/11 [00:01<00:00,  6.60it/s]\n",
      "100%|██████████| 2/2 [00:00<00:00, 12.64it/s]\n",
      "  0%|          | 0/11 [00:00<?, ?it/s]"
     ]
    },
    {
     "name": "stdout",
     "output_type": "stream",
     "text": [
      "Train Loss: 0.1382, Train Acc: 0.9485\n",
      "Val Loss: 0.1145, Val Acc: 0.9559\n",
      "Validation loss decreased (0.122902 --> 0.114525).  Saving model ...\n",
      "../../GRS_SavedModel/GRSModel_none/['2018-10']/best_model_epoch_3.pt\n",
      "../../GRS_SavedModel/GRSOpt_none/['2018-10']/best_optimizer_epoch_3.pt\n",
      "Epoch 4 of 100\n"
     ]
    },
    {
     "name": "stderr",
     "output_type": "stream",
     "text": [
      "100%|██████████| 11/11 [00:01<00:00,  7.19it/s]\n",
      "100%|██████████| 2/2 [00:00<00:00, 12.86it/s]\n",
      "  0%|          | 0/11 [00:00<?, ?it/s]"
     ]
    },
    {
     "name": "stdout",
     "output_type": "stream",
     "text": [
      "Train Loss: 0.1254, Train Acc: 0.9547\n",
      "Val Loss: 0.1093, Val Acc: 0.9586\n",
      "Validation loss decreased (0.114525 --> 0.109281).  Saving model ...\n",
      "../../GRS_SavedModel/GRSModel_none/['2018-10']/best_model_epoch_4.pt\n",
      "../../GRS_SavedModel/GRSOpt_none/['2018-10']/best_optimizer_epoch_4.pt\n",
      "Epoch 5 of 100\n"
     ]
    },
    {
     "name": "stderr",
     "output_type": "stream",
     "text": [
      "100%|██████████| 11/11 [00:01<00:00,  7.30it/s]\n",
      "100%|██████████| 2/2 [00:00<00:00,  9.75it/s]\n",
      "  0%|          | 0/11 [00:00<?, ?it/s]"
     ]
    },
    {
     "name": "stdout",
     "output_type": "stream",
     "text": [
      "Train Loss: 0.1207, Train Acc: 0.9545\n",
      "Val Loss: 0.1071, Val Acc: 0.9585\n",
      "Validation loss decreased (0.109281 --> 0.107131).  Saving model ...\n",
      "../../GRS_SavedModel/GRSModel_none/['2018-10']/best_model_epoch_5.pt\n",
      "../../GRS_SavedModel/GRSOpt_none/['2018-10']/best_optimizer_epoch_5.pt\n",
      "Epoch 6 of 100\n"
     ]
    },
    {
     "name": "stderr",
     "output_type": "stream",
     "text": [
      "100%|██████████| 11/11 [00:01<00:00,  7.39it/s]\n",
      "100%|██████████| 2/2 [00:00<00:00, 11.99it/s]\n",
      "  0%|          | 0/11 [00:00<?, ?it/s]"
     ]
    },
    {
     "name": "stdout",
     "output_type": "stream",
     "text": [
      "Train Loss: 0.1126, Train Acc: 0.9580\n",
      "Val Loss: 0.1020, Val Acc: 0.9613\n",
      "Validation loss decreased (0.107131 --> 0.101992).  Saving model ...\n",
      "../../GRS_SavedModel/GRSModel_none/['2018-10']/best_model_epoch_6.pt\n",
      "../../GRS_SavedModel/GRSOpt_none/['2018-10']/best_optimizer_epoch_6.pt\n",
      "Epoch 7 of 100\n"
     ]
    },
    {
     "name": "stderr",
     "output_type": "stream",
     "text": [
      "100%|██████████| 11/11 [00:01<00:00,  7.12it/s]\n",
      "100%|██████████| 2/2 [00:00<00:00, 12.77it/s]\n",
      "  0%|          | 0/11 [00:00<?, ?it/s]"
     ]
    },
    {
     "name": "stdout",
     "output_type": "stream",
     "text": [
      "Train Loss: 0.1083, Train Acc: 0.9600\n",
      "Val Loss: 0.0994, Val Acc: 0.9633\n",
      "Validation loss decreased (0.101992 --> 0.099371).  Saving model ...\n",
      "../../GRS_SavedModel/GRSModel_none/['2018-10']/best_model_epoch_7.pt\n",
      "../../GRS_SavedModel/GRSOpt_none/['2018-10']/best_optimizer_epoch_7.pt\n",
      "Epoch 8 of 100\n"
     ]
    },
    {
     "name": "stderr",
     "output_type": "stream",
     "text": [
      "100%|██████████| 11/11 [00:01<00:00,  7.13it/s]\n",
      "100%|██████████| 2/2 [00:00<00:00,  7.79it/s]\n",
      "  0%|          | 0/11 [00:00<?, ?it/s]"
     ]
    },
    {
     "name": "stdout",
     "output_type": "stream",
     "text": [
      "Train Loss: 0.1015, Train Acc: 0.9633\n",
      "Val Loss: 0.0982, Val Acc: 0.9639\n",
      "Validation loss decreased (0.099371 --> 0.098248).  Saving model ...\n",
      "../../GRS_SavedModel/GRSModel_none/['2018-10']/best_model_epoch_8.pt\n",
      "../../GRS_SavedModel/GRSOpt_none/['2018-10']/best_optimizer_epoch_8.pt\n",
      "Epoch 9 of 100\n"
     ]
    },
    {
     "name": "stderr",
     "output_type": "stream",
     "text": [
      "100%|██████████| 11/11 [00:01<00:00,  7.16it/s]\n",
      "100%|██████████| 2/2 [00:00<00:00, 16.19it/s]\n",
      "  0%|          | 0/11 [00:00<?, ?it/s]"
     ]
    },
    {
     "name": "stdout",
     "output_type": "stream",
     "text": [
      "Train Loss: 0.1034, Train Acc: 0.9623\n",
      "Val Loss: 0.0975, Val Acc: 0.9649\n",
      "Validation loss decreased (0.098248 --> 0.097454).  Saving model ...\n",
      "../../GRS_SavedModel/GRSModel_none/['2018-10']/best_model_epoch_9.pt\n",
      "../../GRS_SavedModel/GRSOpt_none/['2018-10']/best_optimizer_epoch_9.pt\n",
      "Epoch 10 of 100\n"
     ]
    },
    {
     "name": "stderr",
     "output_type": "stream",
     "text": [
      "100%|██████████| 11/11 [00:01<00:00,  6.75it/s]\n",
      "100%|██████████| 2/2 [00:00<00:00, 13.47it/s]\n",
      "  0%|          | 0/11 [00:00<?, ?it/s]"
     ]
    },
    {
     "name": "stdout",
     "output_type": "stream",
     "text": [
      "Train Loss: 0.0965, Train Acc: 0.9645\n",
      "Val Loss: 0.0945, Val Acc: 0.9645\n",
      "Validation loss decreased (0.097454 --> 0.094499).  Saving model ...\n",
      "../../GRS_SavedModel/GRSModel_none/['2018-10']/best_model_epoch_10.pt\n",
      "../../GRS_SavedModel/GRSOpt_none/['2018-10']/best_optimizer_epoch_10.pt\n",
      "Epoch 11 of 100\n"
     ]
    },
    {
     "name": "stderr",
     "output_type": "stream",
     "text": [
      "100%|██████████| 11/11 [00:01<00:00,  6.48it/s]\n",
      "100%|██████████| 2/2 [00:00<00:00,  7.83it/s]\n",
      "  0%|          | 0/11 [00:00<?, ?it/s]"
     ]
    },
    {
     "name": "stdout",
     "output_type": "stream",
     "text": [
      "Train Loss: 0.0946, Train Acc: 0.9659\n",
      "Val Loss: 0.0934, Val Acc: 0.9665\n",
      "Validation loss decreased (0.094499 --> 0.093381).  Saving model ...\n",
      "../../GRS_SavedModel/GRSModel_none/['2018-10']/best_model_epoch_11.pt\n",
      "../../GRS_SavedModel/GRSOpt_none/['2018-10']/best_optimizer_epoch_11.pt\n",
      "Epoch 12 of 100\n"
     ]
    },
    {
     "name": "stderr",
     "output_type": "stream",
     "text": [
      "100%|██████████| 11/11 [00:01<00:00,  7.22it/s]\n",
      "100%|██████████| 2/2 [00:00<00:00, 13.67it/s]\n",
      "  0%|          | 0/11 [00:00<?, ?it/s]"
     ]
    },
    {
     "name": "stdout",
     "output_type": "stream",
     "text": [
      "Train Loss: 0.0913, Train Acc: 0.9673\n",
      "Val Loss: 0.0921, Val Acc: 0.9682\n",
      "Validation loss decreased (0.093381 --> 0.092051).  Saving model ...\n",
      "../../GRS_SavedModel/GRSModel_none/['2018-10']/best_model_epoch_12.pt\n",
      "../../GRS_SavedModel/GRSOpt_none/['2018-10']/best_optimizer_epoch_12.pt\n",
      "Epoch 13 of 100\n"
     ]
    },
    {
     "name": "stderr",
     "output_type": "stream",
     "text": [
      "100%|██████████| 11/11 [00:01<00:00,  6.32it/s]\n",
      "100%|██████████| 2/2 [00:00<00:00, 11.80it/s]\n",
      "  0%|          | 0/11 [00:00<?, ?it/s]"
     ]
    },
    {
     "name": "stdout",
     "output_type": "stream",
     "text": [
      "Train Loss: 0.0903, Train Acc: 0.9670\n",
      "Val Loss: 0.0923, Val Acc: 0.9679\n",
      "EarlyStopping counter: 1 out of 5\n",
      "Epoch 14 of 100\n"
     ]
    },
    {
     "name": "stderr",
     "output_type": "stream",
     "text": [
      "100%|██████████| 11/11 [00:01<00:00,  7.32it/s]\n",
      "100%|██████████| 2/2 [00:00<00:00,  7.34it/s]\n",
      "  0%|          | 0/11 [00:00<?, ?it/s]"
     ]
    },
    {
     "name": "stdout",
     "output_type": "stream",
     "text": [
      "Train Loss: 0.0891, Train Acc: 0.9682\n",
      "Val Loss: 0.0895, Val Acc: 0.9691\n",
      "Validation loss decreased (0.092051 --> 0.089540).  Saving model ...\n",
      "../../GRS_SavedModel/GRSModel_none/['2018-10']/best_model_epoch_14.pt\n",
      "../../GRS_SavedModel/GRSOpt_none/['2018-10']/best_optimizer_epoch_14.pt\n",
      "Epoch 15 of 100\n"
     ]
    },
    {
     "name": "stderr",
     "output_type": "stream",
     "text": [
      "100%|██████████| 11/11 [00:01<00:00,  6.66it/s]\n",
      "100%|██████████| 2/2 [00:00<00:00, 12.49it/s]\n",
      "  0%|          | 0/11 [00:00<?, ?it/s]"
     ]
    },
    {
     "name": "stdout",
     "output_type": "stream",
     "text": [
      "Train Loss: 0.0853, Train Acc: 0.9700\n",
      "Val Loss: 0.0895, Val Acc: 0.9689\n",
      "Validation loss decreased (0.089540 --> 0.089499).  Saving model ...\n",
      "../../GRS_SavedModel/GRSModel_none/['2018-10']/best_model_epoch_15.pt\n",
      "../../GRS_SavedModel/GRSOpt_none/['2018-10']/best_optimizer_epoch_15.pt\n",
      "Epoch 16 of 100\n"
     ]
    },
    {
     "name": "stderr",
     "output_type": "stream",
     "text": [
      "100%|██████████| 11/11 [00:01<00:00,  7.10it/s]\n",
      "100%|██████████| 2/2 [00:00<00:00, 12.64it/s]\n",
      "  0%|          | 0/11 [00:00<?, ?it/s]"
     ]
    },
    {
     "name": "stdout",
     "output_type": "stream",
     "text": [
      "Train Loss: 0.0816, Train Acc: 0.9711\n",
      "Val Loss: 0.0881, Val Acc: 0.9696\n",
      "Validation loss decreased (0.089499 --> 0.088051).  Saving model ...\n",
      "../../GRS_SavedModel/GRSModel_none/['2018-10']/best_model_epoch_16.pt\n",
      "../../GRS_SavedModel/GRSOpt_none/['2018-10']/best_optimizer_epoch_16.pt\n",
      "Epoch 17 of 100\n"
     ]
    },
    {
     "name": "stderr",
     "output_type": "stream",
     "text": [
      "100%|██████████| 11/11 [00:01<00:00,  7.18it/s]\n",
      "100%|██████████| 2/2 [00:00<00:00,  7.70it/s]\n",
      "  0%|          | 0/11 [00:00<?, ?it/s]"
     ]
    },
    {
     "name": "stdout",
     "output_type": "stream",
     "text": [
      "Train Loss: 0.0814, Train Acc: 0.9713\n",
      "Val Loss: 0.0883, Val Acc: 0.9700\n",
      "EarlyStopping counter: 1 out of 5\n",
      "Epoch 18 of 100\n"
     ]
    },
    {
     "name": "stderr",
     "output_type": "stream",
     "text": [
      "100%|██████████| 11/11 [00:01<00:00,  6.86it/s]\n",
      "100%|██████████| 2/2 [00:00<00:00, 12.59it/s]\n",
      "  0%|          | 0/11 [00:00<?, ?it/s]"
     ]
    },
    {
     "name": "stdout",
     "output_type": "stream",
     "text": [
      "Train Loss: 0.0781, Train Acc: 0.9724\n",
      "Val Loss: 0.0865, Val Acc: 0.9708\n",
      "Validation loss decreased (0.088051 --> 0.086501).  Saving model ...\n",
      "../../GRS_SavedModel/GRSModel_none/['2018-10']/best_model_epoch_18.pt\n",
      "../../GRS_SavedModel/GRSOpt_none/['2018-10']/best_optimizer_epoch_18.pt\n",
      "Epoch 19 of 100\n"
     ]
    },
    {
     "name": "stderr",
     "output_type": "stream",
     "text": [
      "100%|██████████| 11/11 [00:01<00:00,  6.95it/s]\n",
      "100%|██████████| 2/2 [00:00<00:00, 13.48it/s]\n",
      "  0%|          | 0/11 [00:00<?, ?it/s]"
     ]
    },
    {
     "name": "stdout",
     "output_type": "stream",
     "text": [
      "Train Loss: 0.0758, Train Acc: 0.9733\n",
      "Val Loss: 0.0866, Val Acc: 0.9711\n",
      "EarlyStopping counter: 1 out of 5\n",
      "Epoch 20 of 100\n"
     ]
    },
    {
     "name": "stderr",
     "output_type": "stream",
     "text": [
      "100%|██████████| 11/11 [00:01<00:00,  6.41it/s]\n",
      "100%|██████████| 2/2 [00:00<00:00,  7.12it/s]\n",
      "  0%|          | 0/11 [00:00<?, ?it/s]"
     ]
    },
    {
     "name": "stdout",
     "output_type": "stream",
     "text": [
      "Train Loss: 0.0744, Train Acc: 0.9736\n",
      "Val Loss: 0.0856, Val Acc: 0.9713\n",
      "Validation loss decreased (0.086501 --> 0.085609).  Saving model ...\n",
      "../../GRS_SavedModel/GRSModel_none/['2018-10']/best_model_epoch_20.pt\n",
      "../../GRS_SavedModel/GRSOpt_none/['2018-10']/best_optimizer_epoch_20.pt\n",
      "Epoch 21 of 100\n"
     ]
    },
    {
     "name": "stderr",
     "output_type": "stream",
     "text": [
      "100%|██████████| 11/11 [00:01<00:00,  7.16it/s]\n",
      "100%|██████████| 2/2 [00:00<00:00, 12.97it/s]\n",
      "  0%|          | 0/11 [00:00<?, ?it/s]"
     ]
    },
    {
     "name": "stdout",
     "output_type": "stream",
     "text": [
      "Train Loss: 0.0754, Train Acc: 0.9725\n",
      "Val Loss: 0.0841, Val Acc: 0.9713\n",
      "Validation loss decreased (0.085609 --> 0.084062).  Saving model ...\n",
      "../../GRS_SavedModel/GRSModel_none/['2018-10']/best_model_epoch_21.pt\n",
      "../../GRS_SavedModel/GRSOpt_none/['2018-10']/best_optimizer_epoch_21.pt\n",
      "Epoch 22 of 100\n"
     ]
    },
    {
     "name": "stderr",
     "output_type": "stream",
     "text": [
      "100%|██████████| 11/11 [00:01<00:00,  7.16it/s]\n",
      "100%|██████████| 2/2 [00:00<00:00, 13.04it/s]\n",
      "  0%|          | 0/11 [00:00<?, ?it/s]"
     ]
    },
    {
     "name": "stdout",
     "output_type": "stream",
     "text": [
      "Train Loss: 0.0723, Train Acc: 0.9753\n",
      "Val Loss: 0.0839, Val Acc: 0.9725\n",
      "Validation loss decreased (0.084062 --> 0.083944).  Saving model ...\n",
      "../../GRS_SavedModel/GRSModel_none/['2018-10']/best_model_epoch_22.pt\n",
      "../../GRS_SavedModel/GRSOpt_none/['2018-10']/best_optimizer_epoch_22.pt\n",
      "Epoch 23 of 100\n"
     ]
    },
    {
     "name": "stderr",
     "output_type": "stream",
     "text": [
      "100%|██████████| 11/11 [00:01<00:00,  7.41it/s]\n",
      "100%|██████████| 2/2 [00:00<00:00,  7.82it/s]\n",
      "  0%|          | 0/11 [00:00<?, ?it/s]"
     ]
    },
    {
     "name": "stdout",
     "output_type": "stream",
     "text": [
      "Train Loss: 0.0696, Train Acc: 0.9755\n",
      "Val Loss: 0.0846, Val Acc: 0.9717\n",
      "EarlyStopping counter: 1 out of 5\n",
      "Epoch 24 of 100\n"
     ]
    },
    {
     "name": "stderr",
     "output_type": "stream",
     "text": [
      "100%|██████████| 11/11 [00:01<00:00,  7.08it/s]\n",
      "100%|██████████| 2/2 [00:00<00:00, 13.74it/s]\n",
      "  0%|          | 0/11 [00:00<?, ?it/s]"
     ]
    },
    {
     "name": "stdout",
     "output_type": "stream",
     "text": [
      "Train Loss: 0.0684, Train Acc: 0.9763\n",
      "Val Loss: 0.0839, Val Acc: 0.9725\n",
      "Validation loss decreased (0.083944 --> 0.083881).  Saving model ...\n",
      "../../GRS_SavedModel/GRSModel_none/['2018-10']/best_model_epoch_24.pt\n",
      "../../GRS_SavedModel/GRSOpt_none/['2018-10']/best_optimizer_epoch_24.pt\n",
      "Epoch 25 of 100\n"
     ]
    },
    {
     "name": "stderr",
     "output_type": "stream",
     "text": [
      "100%|██████████| 11/11 [00:01<00:00,  5.90it/s]\n",
      "100%|██████████| 2/2 [00:00<00:00, 12.73it/s]\n",
      "  0%|          | 0/11 [00:00<?, ?it/s]"
     ]
    },
    {
     "name": "stdout",
     "output_type": "stream",
     "text": [
      "Train Loss: 0.0693, Train Acc: 0.9765\n",
      "Val Loss: 0.0851, Val Acc: 0.9727\n",
      "EarlyStopping counter: 1 out of 5\n",
      "Epoch 26 of 100\n"
     ]
    },
    {
     "name": "stderr",
     "output_type": "stream",
     "text": [
      "100%|██████████| 11/11 [00:01<00:00,  7.16it/s]\n",
      "100%|██████████| 2/2 [00:00<00:00,  7.68it/s]\n",
      "  0%|          | 0/11 [00:00<?, ?it/s]"
     ]
    },
    {
     "name": "stdout",
     "output_type": "stream",
     "text": [
      "Train Loss: 0.0693, Train Acc: 0.9761\n",
      "Val Loss: 0.0828, Val Acc: 0.9732\n",
      "Validation loss decreased (0.083881 --> 0.082819).  Saving model ...\n",
      "../../GRS_SavedModel/GRSModel_none/['2018-10']/best_model_epoch_26.pt\n",
      "../../GRS_SavedModel/GRSOpt_none/['2018-10']/best_optimizer_epoch_26.pt\n",
      "Epoch 27 of 100\n"
     ]
    },
    {
     "name": "stderr",
     "output_type": "stream",
     "text": [
      "100%|██████████| 11/11 [00:01<00:00,  7.54it/s]\n",
      "100%|██████████| 2/2 [00:00<00:00, 12.85it/s]\n",
      "  0%|          | 0/11 [00:00<?, ?it/s]"
     ]
    },
    {
     "name": "stdout",
     "output_type": "stream",
     "text": [
      "Train Loss: 0.0653, Train Acc: 0.9765\n",
      "Val Loss: 0.0833, Val Acc: 0.9733\n",
      "EarlyStopping counter: 1 out of 5\n",
      "Epoch 28 of 100\n"
     ]
    },
    {
     "name": "stderr",
     "output_type": "stream",
     "text": [
      "100%|██████████| 11/11 [00:01<00:00,  7.16it/s]\n",
      "100%|██████████| 2/2 [00:00<00:00, 12.20it/s]\n",
      "  0%|          | 0/11 [00:00<?, ?it/s]"
     ]
    },
    {
     "name": "stdout",
     "output_type": "stream",
     "text": [
      "Train Loss: 0.0652, Train Acc: 0.9773\n",
      "Val Loss: 0.0827, Val Acc: 0.9727\n",
      "Validation loss decreased (0.082819 --> 0.082698).  Saving model ...\n",
      "../../GRS_SavedModel/GRSModel_none/['2018-10']/best_model_epoch_28.pt\n",
      "../../GRS_SavedModel/GRSOpt_none/['2018-10']/best_optimizer_epoch_28.pt\n",
      "Epoch 29 of 100\n"
     ]
    },
    {
     "name": "stderr",
     "output_type": "stream",
     "text": [
      "100%|██████████| 11/11 [00:01<00:00,  7.14it/s]\n",
      "100%|██████████| 2/2 [00:00<00:00,  7.42it/s]\n",
      "  0%|          | 0/11 [00:00<?, ?it/s]"
     ]
    },
    {
     "name": "stdout",
     "output_type": "stream",
     "text": [
      "Train Loss: 0.0627, Train Acc: 0.9779\n",
      "Val Loss: 0.0807, Val Acc: 0.9737\n",
      "Validation loss decreased (0.082698 --> 0.080671).  Saving model ...\n",
      "../../GRS_SavedModel/GRSModel_none/['2018-10']/best_model_epoch_29.pt\n",
      "../../GRS_SavedModel/GRSOpt_none/['2018-10']/best_optimizer_epoch_29.pt\n",
      "Epoch 30 of 100\n"
     ]
    },
    {
     "name": "stderr",
     "output_type": "stream",
     "text": [
      "100%|██████████| 11/11 [00:01<00:00,  7.47it/s]\n",
      "100%|██████████| 2/2 [00:00<00:00, 16.24it/s]\n",
      "  0%|          | 0/11 [00:00<?, ?it/s]"
     ]
    },
    {
     "name": "stdout",
     "output_type": "stream",
     "text": [
      "Train Loss: 0.0630, Train Acc: 0.9777\n",
      "Val Loss: 0.0814, Val Acc: 0.9727\n",
      "EarlyStopping counter: 1 out of 5\n",
      "Epoch 31 of 100\n"
     ]
    },
    {
     "name": "stderr",
     "output_type": "stream",
     "text": [
      "100%|██████████| 11/11 [00:01<00:00,  6.48it/s]\n",
      "100%|██████████| 2/2 [00:00<00:00, 12.00it/s]\n",
      "  0%|          | 0/11 [00:00<?, ?it/s]"
     ]
    },
    {
     "name": "stdout",
     "output_type": "stream",
     "text": [
      "Train Loss: 0.0610, Train Acc: 0.9787\n",
      "Val Loss: 0.0807, Val Acc: 0.9735\n",
      "Validation loss decreased (0.080671 --> 0.080654).  Saving model ...\n",
      "../../GRS_SavedModel/GRSModel_none/['2018-10']/best_model_epoch_31.pt\n",
      "../../GRS_SavedModel/GRSOpt_none/['2018-10']/best_optimizer_epoch_31.pt\n",
      "Epoch 32 of 100\n"
     ]
    },
    {
     "name": "stderr",
     "output_type": "stream",
     "text": [
      "100%|██████████| 11/11 [00:01<00:00,  7.19it/s]\n",
      "100%|██████████| 2/2 [00:00<00:00,  8.67it/s]\n",
      "  0%|          | 0/11 [00:00<?, ?it/s]"
     ]
    },
    {
     "name": "stdout",
     "output_type": "stream",
     "text": [
      "Train Loss: 0.0615, Train Acc: 0.9793\n",
      "Val Loss: 0.0811, Val Acc: 0.9739\n",
      "EarlyStopping counter: 1 out of 5\n",
      "Epoch 33 of 100\n"
     ]
    },
    {
     "name": "stderr",
     "output_type": "stream",
     "text": [
      "100%|██████████| 11/11 [00:01<00:00,  7.99it/s]\n",
      "100%|██████████| 2/2 [00:00<00:00, 12.78it/s]\n",
      "  0%|          | 0/11 [00:00<?, ?it/s]"
     ]
    },
    {
     "name": "stdout",
     "output_type": "stream",
     "text": [
      "Train Loss: 0.0587, Train Acc: 0.9797\n",
      "Val Loss: 0.0803, Val Acc: 0.9728\n",
      "Validation loss decreased (0.080654 --> 0.080348).  Saving model ...\n",
      "../../GRS_SavedModel/GRSModel_none/['2018-10']/best_model_epoch_33.pt\n",
      "../../GRS_SavedModel/GRSOpt_none/['2018-10']/best_optimizer_epoch_33.pt\n",
      "Epoch 34 of 100\n"
     ]
    },
    {
     "name": "stderr",
     "output_type": "stream",
     "text": [
      "100%|██████████| 11/11 [00:01<00:00,  7.85it/s]\n",
      "100%|██████████| 2/2 [00:00<00:00, 13.23it/s]\n",
      "  0%|          | 0/11 [00:00<?, ?it/s]"
     ]
    },
    {
     "name": "stdout",
     "output_type": "stream",
     "text": [
      "Train Loss: 0.0599, Train Acc: 0.9796\n",
      "Val Loss: 0.0800, Val Acc: 0.9737\n",
      "Validation loss decreased (0.080348 --> 0.079958).  Saving model ...\n",
      "../../GRS_SavedModel/GRSModel_none/['2018-10']/best_model_epoch_34.pt\n",
      "../../GRS_SavedModel/GRSOpt_none/['2018-10']/best_optimizer_epoch_34.pt\n",
      "Epoch 35 of 100\n"
     ]
    },
    {
     "name": "stderr",
     "output_type": "stream",
     "text": [
      "100%|██████████| 11/11 [00:01<00:00,  7.35it/s]\n",
      "100%|██████████| 2/2 [00:00<00:00,  8.91it/s]\n",
      "  0%|          | 0/11 [00:00<?, ?it/s]"
     ]
    },
    {
     "name": "stdout",
     "output_type": "stream",
     "text": [
      "Train Loss: 0.0585, Train Acc: 0.9806\n",
      "Val Loss: 0.0811, Val Acc: 0.9728\n",
      "EarlyStopping counter: 1 out of 5\n",
      "Epoch 36 of 100\n"
     ]
    },
    {
     "name": "stderr",
     "output_type": "stream",
     "text": [
      "100%|██████████| 11/11 [00:01<00:00,  7.02it/s]\n",
      "100%|██████████| 2/2 [00:00<00:00, 12.07it/s]\n",
      "  0%|          | 0/11 [00:00<?, ?it/s]"
     ]
    },
    {
     "name": "stdout",
     "output_type": "stream",
     "text": [
      "Train Loss: 0.0554, Train Acc: 0.9810\n",
      "Val Loss: 0.0805, Val Acc: 0.9730\n",
      "EarlyStopping counter: 2 out of 5\n",
      "Epoch 37 of 100\n"
     ]
    },
    {
     "name": "stderr",
     "output_type": "stream",
     "text": [
      "100%|██████████| 11/11 [00:01<00:00,  7.13it/s]\n",
      "100%|██████████| 2/2 [00:00<00:00, 13.02it/s]\n",
      "  0%|          | 0/11 [00:00<?, ?it/s]"
     ]
    },
    {
     "name": "stdout",
     "output_type": "stream",
     "text": [
      "Train Loss: 0.0543, Train Acc: 0.9815\n",
      "Val Loss: 0.0782, Val Acc: 0.9759\n",
      "Validation loss decreased (0.079958 --> 0.078162).  Saving model ...\n",
      "../../GRS_SavedModel/GRSModel_none/['2018-10']/best_model_epoch_37.pt\n",
      "../../GRS_SavedModel/GRSOpt_none/['2018-10']/best_optimizer_epoch_37.pt\n",
      "Epoch 38 of 100\n"
     ]
    },
    {
     "name": "stderr",
     "output_type": "stream",
     "text": [
      "100%|██████████| 11/11 [00:01<00:00,  7.21it/s]\n",
      "100%|██████████| 2/2 [00:00<00:00,  7.68it/s]\n",
      "  0%|          | 0/11 [00:00<?, ?it/s]"
     ]
    },
    {
     "name": "stdout",
     "output_type": "stream",
     "text": [
      "Train Loss: 0.0552, Train Acc: 0.9810\n",
      "Val Loss: 0.0790, Val Acc: 0.9755\n",
      "EarlyStopping counter: 1 out of 5\n",
      "Epoch 39 of 100\n"
     ]
    },
    {
     "name": "stderr",
     "output_type": "stream",
     "text": [
      "100%|██████████| 11/11 [00:01<00:00,  7.01it/s]\n",
      "100%|██████████| 2/2 [00:00<00:00, 11.00it/s]\n",
      "  0%|          | 0/11 [00:00<?, ?it/s]"
     ]
    },
    {
     "name": "stdout",
     "output_type": "stream",
     "text": [
      "Train Loss: 0.0529, Train Acc: 0.9817\n",
      "Val Loss: 0.0785, Val Acc: 0.9750\n",
      "EarlyStopping counter: 2 out of 5\n",
      "Epoch 40 of 100\n"
     ]
    },
    {
     "name": "stderr",
     "output_type": "stream",
     "text": [
      "100%|██████████| 11/11 [00:01<00:00,  7.13it/s]\n",
      "100%|██████████| 2/2 [00:00<00:00, 13.26it/s]\n",
      "  0%|          | 0/11 [00:00<?, ?it/s]"
     ]
    },
    {
     "name": "stdout",
     "output_type": "stream",
     "text": [
      "Train Loss: 0.0540, Train Acc: 0.9821\n",
      "Val Loss: 0.0803, Val Acc: 0.9744\n",
      "EarlyStopping counter: 3 out of 5\n",
      "Epoch 41 of 100\n"
     ]
    },
    {
     "name": "stderr",
     "output_type": "stream",
     "text": [
      "100%|██████████| 11/11 [00:01<00:00,  7.25it/s]\n",
      "100%|██████████| 2/2 [00:00<00:00,  7.29it/s]\n",
      "  0%|          | 0/11 [00:00<?, ?it/s]"
     ]
    },
    {
     "name": "stdout",
     "output_type": "stream",
     "text": [
      "Train Loss: 0.0525, Train Acc: 0.9830\n",
      "Val Loss: 0.0808, Val Acc: 0.9741\n",
      "EarlyStopping counter: 4 out of 5\n",
      "Epoch 42 of 100\n"
     ]
    },
    {
     "name": "stderr",
     "output_type": "stream",
     "text": [
      "100%|██████████| 11/11 [00:01<00:00,  7.39it/s]\n",
      "100%|██████████| 2/2 [00:00<00:00, 13.27it/s]\n"
     ]
    },
    {
     "name": "stdout",
     "output_type": "stream",
     "text": [
      "Train Loss: 0.0528, Train Acc: 0.9820\n",
      "Val Loss: 0.0789, Val Acc: 0.9759\n",
      "EarlyStopping counter: 5 out of 5\n",
      "Early stopping\n",
      "Training time: 1.260 minutes\n",
      "loading best model ../../GRS_SavedModel/GRSModel_none/['2018-10']/best_model_epoch_37.pt\n",
      "loading best optimizer ../../GRS_SavedModel/GRSOpt_none/['2018-10']/best_optimizer_epoch_37.pt\n"
     ]
    },
    {
     "name": "stderr",
     "output_type": "stream",
     "text": [
      "100%|██████████| 2/2 [00:00<00:00,  5.85it/s]\n",
      "100%|██████████| 1/1 [00:00<00:00,  3.26it/s]\n",
      "100%|██████████| 1/1 [00:00<00:00,  3.83it/s]\n",
      "100%|██████████| 1/1 [00:00<00:00,  3.37it/s]\n",
      "100%|██████████| 1/1 [00:00<00:00,  3.78it/s]\n",
      "100%|██████████| 1/1 [00:00<00:00,  3.60it/s]\n",
      "100%|██████████| 1/1 [00:00<00:00,  3.62it/s]\n",
      "100%|██████████| 1/1 [00:00<00:00,  3.79it/s]\n",
      "100%|██████████| 2/2 [00:00<00:00,  6.14it/s]\n",
      "100%|██████████| 2/2 [00:00<00:00,  5.44it/s]\n",
      "100%|██████████| 2/2 [00:00<00:00,  5.22it/s]\n",
      "100%|██████████| 2/2 [00:00<00:00,  5.13it/s]\n"
     ]
    },
    {
     "name": "stdout",
     "output_type": "stream",
     "text": [
      "Elapsed time 9.342538277308146 mins.\n",
      "\n",
      "2024-05-27 02:11:10 Round 1 ...\n",
      "Current Task ['2018-11'] with Budget none\n",
      "X_train (90000, 2381) Y_train (90000,)\n",
      "\n",
      "2024-05-27 02:11:11 Standardizing ...\n"
     ]
    },
    {
     "name": "stderr",
     "output_type": "stream",
     "text": [
      "\r",
      "  0%|          | 0/13 [00:00<?, ?it/s]"
     ]
    },
    {
     "name": "stdout",
     "output_type": "stream",
     "text": [
      "Epoch 1 of 100\n"
     ]
    },
    {
     "name": "stderr",
     "output_type": "stream",
     "text": [
      "100%|██████████| 13/13 [00:01<00:00,  7.18it/s]\n",
      "100%|██████████| 2/2 [00:00<00:00, 12.16it/s]\n",
      "  0%|          | 0/13 [00:00<?, ?it/s]"
     ]
    },
    {
     "name": "stdout",
     "output_type": "stream",
     "text": [
      "Train Loss: 0.1725, Train Acc: 0.9428\n",
      "Val Loss: 0.1388, Val Acc: 0.9567\n",
      "Validation loss decreased (inf --> 0.138810).  Saving model ...\n",
      "../../GRS_SavedModel/GRSModel_none/['2018-11']/best_model_epoch_1.pt\n",
      "../../GRS_SavedModel/GRSOpt_none/['2018-11']/best_optimizer_epoch_1.pt\n",
      "Epoch 2 of 100\n"
     ]
    },
    {
     "name": "stderr",
     "output_type": "stream",
     "text": [
      "100%|██████████| 13/13 [00:01<00:00,  7.36it/s]\n",
      "100%|██████████| 2/2 [00:00<00:00,  7.88it/s]\n",
      "  0%|          | 0/13 [00:00<?, ?it/s]"
     ]
    },
    {
     "name": "stdout",
     "output_type": "stream",
     "text": [
      "Train Loss: 0.1389, Train Acc: 0.9513\n",
      "Val Loss: 0.1261, Val Acc: 0.9568\n",
      "Validation loss decreased (0.138810 --> 0.126120).  Saving model ...\n",
      "../../GRS_SavedModel/GRSModel_none/['2018-11']/best_model_epoch_2.pt\n",
      "../../GRS_SavedModel/GRSOpt_none/['2018-11']/best_optimizer_epoch_2.pt\n",
      "Epoch 3 of 100\n"
     ]
    },
    {
     "name": "stderr",
     "output_type": "stream",
     "text": [
      "100%|██████████| 13/13 [00:01<00:00,  6.69it/s]\n",
      "100%|██████████| 2/2 [00:00<00:00, 11.25it/s]\n",
      "  0%|          | 0/13 [00:00<?, ?it/s]"
     ]
    },
    {
     "name": "stdout",
     "output_type": "stream",
     "text": [
      "Train Loss: 0.1211, Train Acc: 0.9566\n",
      "Val Loss: 0.1168, Val Acc: 0.9598\n",
      "Validation loss decreased (0.126120 --> 0.116786).  Saving model ...\n",
      "../../GRS_SavedModel/GRSModel_none/['2018-11']/best_model_epoch_3.pt\n",
      "../../GRS_SavedModel/GRSOpt_none/['2018-11']/best_optimizer_epoch_3.pt\n",
      "Epoch 4 of 100\n"
     ]
    },
    {
     "name": "stderr",
     "output_type": "stream",
     "text": [
      "100%|██████████| 13/13 [00:01<00:00,  6.91it/s]\n",
      "100%|██████████| 2/2 [00:00<00:00,  6.59it/s]\n",
      "  0%|          | 0/13 [00:00<?, ?it/s]"
     ]
    },
    {
     "name": "stdout",
     "output_type": "stream",
     "text": [
      "Train Loss: 0.1208, Train Acc: 0.9554\n",
      "Val Loss: 0.1201, Val Acc: 0.9567\n",
      "EarlyStopping counter: 1 out of 5\n",
      "Epoch 5 of 100\n"
     ]
    },
    {
     "name": "stderr",
     "output_type": "stream",
     "text": [
      "100%|██████████| 13/13 [00:01<00:00,  7.51it/s]\n",
      "100%|██████████| 2/2 [00:00<00:00, 11.38it/s]\n",
      "  0%|          | 0/13 [00:00<?, ?it/s]"
     ]
    },
    {
     "name": "stdout",
     "output_type": "stream",
     "text": [
      "Train Loss: 0.1119, Train Acc: 0.9598\n",
      "Val Loss: 0.1121, Val Acc: 0.9608\n",
      "Validation loss decreased (0.116786 --> 0.112062).  Saving model ...\n",
      "../../GRS_SavedModel/GRSModel_none/['2018-11']/best_model_epoch_5.pt\n",
      "../../GRS_SavedModel/GRSOpt_none/['2018-11']/best_optimizer_epoch_5.pt\n",
      "Epoch 6 of 100\n"
     ]
    },
    {
     "name": "stderr",
     "output_type": "stream",
     "text": [
      "100%|██████████| 13/13 [00:01<00:00,  6.73it/s]\n",
      "100%|██████████| 2/2 [00:00<00:00, 10.12it/s]\n",
      "  0%|          | 0/13 [00:00<?, ?it/s]"
     ]
    },
    {
     "name": "stdout",
     "output_type": "stream",
     "text": [
      "Train Loss: 0.1084, Train Acc: 0.9608\n",
      "Val Loss: 0.1065, Val Acc: 0.9633\n",
      "Validation loss decreased (0.112062 --> 0.106542).  Saving model ...\n",
      "../../GRS_SavedModel/GRSModel_none/['2018-11']/best_model_epoch_6.pt\n",
      "../../GRS_SavedModel/GRSOpt_none/['2018-11']/best_optimizer_epoch_6.pt\n",
      "Epoch 7 of 100\n"
     ]
    },
    {
     "name": "stderr",
     "output_type": "stream",
     "text": [
      "100%|██████████| 13/13 [00:01<00:00,  7.30it/s]\n",
      "100%|██████████| 2/2 [00:00<00:00,  6.14it/s]\n",
      "  0%|          | 0/13 [00:00<?, ?it/s]"
     ]
    },
    {
     "name": "stdout",
     "output_type": "stream",
     "text": [
      "Train Loss: 0.1020, Train Acc: 0.9629\n",
      "Val Loss: 0.1041, Val Acc: 0.9635\n",
      "Validation loss decreased (0.106542 --> 0.104113).  Saving model ...\n",
      "../../GRS_SavedModel/GRSModel_none/['2018-11']/best_model_epoch_7.pt\n",
      "../../GRS_SavedModel/GRSOpt_none/['2018-11']/best_optimizer_epoch_7.pt\n",
      "Epoch 8 of 100\n"
     ]
    },
    {
     "name": "stderr",
     "output_type": "stream",
     "text": [
      "100%|██████████| 13/13 [00:01<00:00,  8.29it/s]\n",
      "100%|██████████| 2/2 [00:00<00:00, 11.20it/s]\n",
      "  0%|          | 0/13 [00:00<?, ?it/s]"
     ]
    },
    {
     "name": "stdout",
     "output_type": "stream",
     "text": [
      "Train Loss: 0.1057, Train Acc: 0.9621\n",
      "Val Loss: 0.1102, Val Acc: 0.9606\n",
      "EarlyStopping counter: 1 out of 5\n",
      "Epoch 9 of 100\n"
     ]
    },
    {
     "name": "stderr",
     "output_type": "stream",
     "text": [
      "100%|██████████| 13/13 [00:01<00:00,  7.83it/s]\n",
      "100%|██████████| 2/2 [00:00<00:00, 10.49it/s]\n",
      "  0%|          | 0/13 [00:00<?, ?it/s]"
     ]
    },
    {
     "name": "stdout",
     "output_type": "stream",
     "text": [
      "Train Loss: 0.1005, Train Acc: 0.9635\n",
      "Val Loss: 0.1077, Val Acc: 0.9615\n",
      "EarlyStopping counter: 2 out of 5\n",
      "Epoch 10 of 100\n"
     ]
    },
    {
     "name": "stderr",
     "output_type": "stream",
     "text": [
      "100%|██████████| 13/13 [00:01<00:00,  7.50it/s]\n",
      "100%|██████████| 2/2 [00:00<00:00,  6.37it/s]\n",
      "  0%|          | 0/13 [00:00<?, ?it/s]"
     ]
    },
    {
     "name": "stdout",
     "output_type": "stream",
     "text": [
      "Train Loss: 0.1031, Train Acc: 0.9633\n",
      "Val Loss: 0.1153, Val Acc: 0.9583\n",
      "EarlyStopping counter: 3 out of 5\n",
      "Epoch 11 of 100\n"
     ]
    },
    {
     "name": "stderr",
     "output_type": "stream",
     "text": [
      "100%|██████████| 13/13 [00:01<00:00,  7.63it/s]\n",
      "100%|██████████| 2/2 [00:00<00:00, 11.63it/s]\n",
      "  0%|          | 0/13 [00:00<?, ?it/s]"
     ]
    },
    {
     "name": "stdout",
     "output_type": "stream",
     "text": [
      "Train Loss: 0.0952, Train Acc: 0.9656\n",
      "Val Loss: 0.1078, Val Acc: 0.9609\n",
      "EarlyStopping counter: 4 out of 5\n",
      "Epoch 12 of 100\n"
     ]
    },
    {
     "name": "stderr",
     "output_type": "stream",
     "text": [
      "100%|██████████| 13/13 [00:01<00:00,  7.39it/s]\n",
      "100%|██████████| 2/2 [00:00<00:00,  7.27it/s]\n"
     ]
    },
    {
     "name": "stdout",
     "output_type": "stream",
     "text": [
      "Train Loss: 0.1043, Train Acc: 0.9617\n",
      "Val Loss: 0.1079, Val Acc: 0.9613\n",
      "EarlyStopping counter: 5 out of 5\n",
      "Early stopping\n",
      "Training time: 0.409 minutes\n",
      "loading best model ../../GRS_SavedModel/GRSModel_none/['2018-11']/best_model_epoch_7.pt\n",
      "loading best optimizer ../../GRS_SavedModel/GRSOpt_none/['2018-11']/best_optimizer_epoch_7.pt\n"
     ]
    },
    {
     "name": "stderr",
     "output_type": "stream",
     "text": [
      "100%|██████████| 2/2 [00:00<00:00,  6.19it/s]\n",
      "100%|██████████| 1/1 [00:00<00:00,  3.46it/s]\n",
      "100%|██████████| 1/1 [00:00<00:00,  3.92it/s]\n",
      "100%|██████████| 1/1 [00:00<00:00,  3.54it/s]\n",
      "100%|██████████| 1/1 [00:00<00:00,  3.71it/s]\n",
      "100%|██████████| 1/1 [00:00<00:00,  3.62it/s]\n",
      "100%|██████████| 1/1 [00:00<00:00,  3.40it/s]\n",
      "100%|██████████| 1/1 [00:00<00:00,  3.64it/s]\n",
      "100%|██████████| 2/2 [00:00<00:00,  6.27it/s]\n",
      "100%|██████████| 2/2 [00:00<00:00,  5.49it/s]\n",
      "100%|██████████| 2/2 [00:00<00:00,  5.15it/s]\n",
      "100%|██████████| 2/2 [00:00<00:00,  5.09it/s]\n"
     ]
    },
    {
     "name": "stdout",
     "output_type": "stream",
     "text": [
      "Elapsed time 9.958650855223338 mins.\n",
      "\n",
      "2024-05-27 02:11:47 Round 1 ...\n",
      "Current Task ['2018-12'] with Budget none\n",
      "X_train (90000, 2381) Y_train (90000,)\n",
      "\n",
      "2024-05-27 02:11:48 Standardizing ...\n"
     ]
    },
    {
     "name": "stderr",
     "output_type": "stream",
     "text": [
      "\r",
      "  0%|          | 0/13 [00:00<?, ?it/s]"
     ]
    },
    {
     "name": "stdout",
     "output_type": "stream",
     "text": [
      "Epoch 1 of 100\n"
     ]
    },
    {
     "name": "stderr",
     "output_type": "stream",
     "text": [
      "100%|██████████| 13/13 [00:01<00:00,  7.30it/s]\n",
      "100%|██████████| 2/2 [00:00<00:00, 11.85it/s]\n",
      "  0%|          | 0/13 [00:00<?, ?it/s]"
     ]
    },
    {
     "name": "stdout",
     "output_type": "stream",
     "text": [
      "Train Loss: 0.1641, Train Acc: 0.9417\n",
      "Val Loss: 0.1327, Val Acc: 0.9547\n",
      "Validation loss decreased (inf --> 0.132652).  Saving model ...\n",
      "../../GRS_SavedModel/GRSModel_none/['2018-12']/best_model_epoch_1.pt\n",
      "../../GRS_SavedModel/GRSOpt_none/['2018-12']/best_optimizer_epoch_1.pt\n",
      "Epoch 2 of 100\n"
     ]
    },
    {
     "name": "stderr",
     "output_type": "stream",
     "text": [
      "100%|██████████| 13/13 [00:01<00:00,  6.51it/s]\n",
      "100%|██████████| 2/2 [00:00<00:00, 11.14it/s]\n",
      "  0%|          | 0/13 [00:00<?, ?it/s]"
     ]
    },
    {
     "name": "stdout",
     "output_type": "stream",
     "text": [
      "Train Loss: 0.1444, Train Acc: 0.9469\n",
      "Val Loss: 0.1273, Val Acc: 0.9579\n",
      "Validation loss decreased (0.132652 --> 0.127306).  Saving model ...\n",
      "../../GRS_SavedModel/GRSModel_none/['2018-12']/best_model_epoch_2.pt\n",
      "../../GRS_SavedModel/GRSOpt_none/['2018-12']/best_optimizer_epoch_2.pt\n",
      "Epoch 3 of 100\n"
     ]
    },
    {
     "name": "stderr",
     "output_type": "stream",
     "text": [
      "100%|██████████| 13/13 [00:01<00:00,  7.39it/s]\n",
      "100%|██████████| 2/2 [00:00<00:00,  7.09it/s]\n",
      "  0%|          | 0/13 [00:00<?, ?it/s]"
     ]
    },
    {
     "name": "stdout",
     "output_type": "stream",
     "text": [
      "Train Loss: 0.1373, Train Acc: 0.9506\n",
      "Val Loss: 0.1230, Val Acc: 0.9594\n",
      "Validation loss decreased (0.127306 --> 0.122983).  Saving model ...\n",
      "../../GRS_SavedModel/GRSModel_none/['2018-12']/best_model_epoch_3.pt\n",
      "../../GRS_SavedModel/GRSOpt_none/['2018-12']/best_optimizer_epoch_3.pt\n",
      "Epoch 4 of 100\n"
     ]
    },
    {
     "name": "stderr",
     "output_type": "stream",
     "text": [
      "100%|██████████| 13/13 [00:01<00:00,  7.22it/s]\n",
      "100%|██████████| 2/2 [00:00<00:00, 11.23it/s]\n",
      "  0%|          | 0/13 [00:00<?, ?it/s]"
     ]
    },
    {
     "name": "stdout",
     "output_type": "stream",
     "text": [
      "Train Loss: 0.1338, Train Acc: 0.9513\n",
      "Val Loss: 0.1200, Val Acc: 0.9607\n",
      "Validation loss decreased (0.122983 --> 0.120030).  Saving model ...\n",
      "../../GRS_SavedModel/GRSModel_none/['2018-12']/best_model_epoch_4.pt\n",
      "../../GRS_SavedModel/GRSOpt_none/['2018-12']/best_optimizer_epoch_4.pt\n",
      "Epoch 5 of 100\n"
     ]
    },
    {
     "name": "stderr",
     "output_type": "stream",
     "text": [
      "100%|██████████| 13/13 [00:01<00:00,  7.50it/s]\n",
      "100%|██████████| 2/2 [00:00<00:00,  6.88it/s]\n",
      "  0%|          | 0/13 [00:00<?, ?it/s]"
     ]
    },
    {
     "name": "stdout",
     "output_type": "stream",
     "text": [
      "Train Loss: 0.1244, Train Acc: 0.9551\n",
      "Val Loss: 0.1187, Val Acc: 0.9603\n",
      "Validation loss decreased (0.120030 --> 0.118653).  Saving model ...\n",
      "../../GRS_SavedModel/GRSModel_none/['2018-12']/best_model_epoch_5.pt\n",
      "../../GRS_SavedModel/GRSOpt_none/['2018-12']/best_optimizer_epoch_5.pt\n",
      "Epoch 6 of 100\n"
     ]
    },
    {
     "name": "stderr",
     "output_type": "stream",
     "text": [
      "100%|██████████| 13/13 [00:01<00:00,  7.43it/s]\n",
      "100%|██████████| 2/2 [00:00<00:00,  9.55it/s]\n",
      "  0%|          | 0/13 [00:00<?, ?it/s]"
     ]
    },
    {
     "name": "stdout",
     "output_type": "stream",
     "text": [
      "Train Loss: 0.1220, Train Acc: 0.9565\n",
      "Val Loss: 0.1169, Val Acc: 0.9616\n",
      "Validation loss decreased (0.118653 --> 0.116925).  Saving model ...\n",
      "../../GRS_SavedModel/GRSModel_none/['2018-12']/best_model_epoch_6.pt\n",
      "../../GRS_SavedModel/GRSOpt_none/['2018-12']/best_optimizer_epoch_6.pt\n",
      "Epoch 7 of 100\n"
     ]
    },
    {
     "name": "stderr",
     "output_type": "stream",
     "text": [
      "100%|██████████| 13/13 [00:01<00:00,  7.35it/s]\n",
      "100%|██████████| 2/2 [00:00<00:00, 10.64it/s]\n",
      "  0%|          | 0/13 [00:00<?, ?it/s]"
     ]
    },
    {
     "name": "stdout",
     "output_type": "stream",
     "text": [
      "Train Loss: 0.1186, Train Acc: 0.9562\n",
      "Val Loss: 0.1164, Val Acc: 0.9616\n",
      "Validation loss decreased (0.116925 --> 0.116420).  Saving model ...\n",
      "../../GRS_SavedModel/GRSModel_none/['2018-12']/best_model_epoch_7.pt\n",
      "../../GRS_SavedModel/GRSOpt_none/['2018-12']/best_optimizer_epoch_7.pt\n",
      "Epoch 8 of 100\n"
     ]
    },
    {
     "name": "stderr",
     "output_type": "stream",
     "text": [
      "100%|██████████| 13/13 [00:01<00:00,  7.21it/s]\n",
      "100%|██████████| 2/2 [00:00<00:00,  6.83it/s]\n",
      "  0%|          | 0/13 [00:00<?, ?it/s]"
     ]
    },
    {
     "name": "stdout",
     "output_type": "stream",
     "text": [
      "Train Loss: 0.1141, Train Acc: 0.9582\n",
      "Val Loss: 0.1146, Val Acc: 0.9626\n",
      "Validation loss decreased (0.116420 --> 0.114580).  Saving model ...\n",
      "../../GRS_SavedModel/GRSModel_none/['2018-12']/best_model_epoch_8.pt\n",
      "../../GRS_SavedModel/GRSOpt_none/['2018-12']/best_optimizer_epoch_8.pt\n",
      "Epoch 9 of 100\n"
     ]
    },
    {
     "name": "stderr",
     "output_type": "stream",
     "text": [
      "100%|██████████| 13/13 [00:02<00:00,  6.36it/s]\n",
      "100%|██████████| 2/2 [00:00<00:00, 11.33it/s]\n",
      "  0%|          | 0/13 [00:00<?, ?it/s]"
     ]
    },
    {
     "name": "stdout",
     "output_type": "stream",
     "text": [
      "Train Loss: 0.1120, Train Acc: 0.9587\n",
      "Val Loss: 0.1151, Val Acc: 0.9624\n",
      "EarlyStopping counter: 1 out of 5\n",
      "Epoch 10 of 100\n"
     ]
    },
    {
     "name": "stderr",
     "output_type": "stream",
     "text": [
      "100%|██████████| 13/13 [00:02<00:00,  6.36it/s]\n",
      "100%|██████████| 2/2 [00:00<00:00, 11.18it/s]\n",
      "  0%|          | 0/13 [00:00<?, ?it/s]"
     ]
    },
    {
     "name": "stdout",
     "output_type": "stream",
     "text": [
      "Train Loss: 0.1129, Train Acc: 0.9591\n",
      "Val Loss: 0.1153, Val Acc: 0.9623\n",
      "EarlyStopping counter: 2 out of 5\n",
      "Epoch 11 of 100\n"
     ]
    },
    {
     "name": "stderr",
     "output_type": "stream",
     "text": [
      "100%|██████████| 13/13 [00:01<00:00,  7.49it/s]\n",
      "100%|██████████| 2/2 [00:00<00:00,  6.53it/s]\n",
      "  0%|          | 0/13 [00:00<?, ?it/s]"
     ]
    },
    {
     "name": "stdout",
     "output_type": "stream",
     "text": [
      "Train Loss: 0.1084, Train Acc: 0.9604\n",
      "Val Loss: 0.1137, Val Acc: 0.9633\n",
      "Validation loss decreased (0.114580 --> 0.113703).  Saving model ...\n",
      "../../GRS_SavedModel/GRSModel_none/['2018-12']/best_model_epoch_11.pt\n",
      "../../GRS_SavedModel/GRSOpt_none/['2018-12']/best_optimizer_epoch_11.pt\n",
      "Epoch 12 of 100\n"
     ]
    },
    {
     "name": "stderr",
     "output_type": "stream",
     "text": [
      "100%|██████████| 13/13 [00:01<00:00,  7.21it/s]\n",
      "100%|██████████| 2/2 [00:00<00:00, 11.18it/s]\n",
      "  0%|          | 0/13 [00:00<?, ?it/s]"
     ]
    },
    {
     "name": "stdout",
     "output_type": "stream",
     "text": [
      "Train Loss: 0.1025, Train Acc: 0.9629\n",
      "Val Loss: 0.1132, Val Acc: 0.9627\n",
      "Validation loss decreased (0.113703 --> 0.113232).  Saving model ...\n",
      "../../GRS_SavedModel/GRSModel_none/['2018-12']/best_model_epoch_12.pt\n",
      "../../GRS_SavedModel/GRSOpt_none/['2018-12']/best_optimizer_epoch_12.pt\n",
      "Epoch 13 of 100\n"
     ]
    },
    {
     "name": "stderr",
     "output_type": "stream",
     "text": [
      "100%|██████████| 13/13 [00:01<00:00,  7.12it/s]\n",
      "100%|██████████| 2/2 [00:00<00:00,  8.18it/s]\n",
      "  0%|          | 0/13 [00:00<?, ?it/s]"
     ]
    },
    {
     "name": "stdout",
     "output_type": "stream",
     "text": [
      "Train Loss: 0.1055, Train Acc: 0.9615\n",
      "Val Loss: 0.1127, Val Acc: 0.9638\n",
      "Validation loss decreased (0.113232 --> 0.112707).  Saving model ...\n",
      "../../GRS_SavedModel/GRSModel_none/['2018-12']/best_model_epoch_13.pt\n",
      "../../GRS_SavedModel/GRSOpt_none/['2018-12']/best_optimizer_epoch_13.pt\n",
      "Epoch 14 of 100\n"
     ]
    },
    {
     "name": "stderr",
     "output_type": "stream",
     "text": [
      "100%|██████████| 13/13 [00:01<00:00,  6.76it/s]\n",
      "100%|██████████| 2/2 [00:00<00:00,  9.92it/s]\n",
      "  0%|          | 0/13 [00:00<?, ?it/s]"
     ]
    },
    {
     "name": "stdout",
     "output_type": "stream",
     "text": [
      "Train Loss: 0.1026, Train Acc: 0.9624\n",
      "Val Loss: 0.1134, Val Acc: 0.9621\n",
      "EarlyStopping counter: 1 out of 5\n",
      "Epoch 15 of 100\n"
     ]
    },
    {
     "name": "stderr",
     "output_type": "stream",
     "text": [
      "100%|██████████| 13/13 [00:01<00:00,  7.42it/s]\n",
      "100%|██████████| 2/2 [00:00<00:00, 11.36it/s]\n",
      "  0%|          | 0/13 [00:00<?, ?it/s]"
     ]
    },
    {
     "name": "stdout",
     "output_type": "stream",
     "text": [
      "Train Loss: 0.0993, Train Acc: 0.9639\n",
      "Val Loss: 0.1138, Val Acc: 0.9628\n",
      "EarlyStopping counter: 2 out of 5\n",
      "Epoch 16 of 100\n"
     ]
    },
    {
     "name": "stderr",
     "output_type": "stream",
     "text": [
      "100%|██████████| 13/13 [00:01<00:00,  7.48it/s]\n",
      "100%|██████████| 2/2 [00:00<00:00,  6.55it/s]\n",
      "  0%|          | 0/13 [00:00<?, ?it/s]"
     ]
    },
    {
     "name": "stdout",
     "output_type": "stream",
     "text": [
      "Train Loss: 0.0983, Train Acc: 0.9647\n",
      "Val Loss: 0.1122, Val Acc: 0.9638\n",
      "Validation loss decreased (0.112707 --> 0.112194).  Saving model ...\n",
      "../../GRS_SavedModel/GRSModel_none/['2018-12']/best_model_epoch_16.pt\n",
      "../../GRS_SavedModel/GRSOpt_none/['2018-12']/best_optimizer_epoch_16.pt\n",
      "Epoch 17 of 100\n"
     ]
    },
    {
     "name": "stderr",
     "output_type": "stream",
     "text": [
      "100%|██████████| 13/13 [00:01<00:00,  7.24it/s]\n",
      "100%|██████████| 2/2 [00:00<00:00, 11.54it/s]\n",
      "  0%|          | 0/13 [00:00<?, ?it/s]"
     ]
    },
    {
     "name": "stdout",
     "output_type": "stream",
     "text": [
      "Train Loss: 0.0987, Train Acc: 0.9638\n",
      "Val Loss: 0.1101, Val Acc: 0.9653\n",
      "Validation loss decreased (0.112194 --> 0.110135).  Saving model ...\n",
      "../../GRS_SavedModel/GRSModel_none/['2018-12']/best_model_epoch_17.pt\n",
      "../../GRS_SavedModel/GRSOpt_none/['2018-12']/best_optimizer_epoch_17.pt\n",
      "Epoch 18 of 100\n"
     ]
    },
    {
     "name": "stderr",
     "output_type": "stream",
     "text": [
      "100%|██████████| 13/13 [00:01<00:00,  7.52it/s]\n",
      "100%|██████████| 2/2 [00:00<00:00,  6.31it/s]\n",
      "  0%|          | 0/13 [00:00<?, ?it/s]"
     ]
    },
    {
     "name": "stdout",
     "output_type": "stream",
     "text": [
      "Train Loss: 0.0961, Train Acc: 0.9655\n",
      "Val Loss: 0.1094, Val Acc: 0.9645\n",
      "Validation loss decreased (0.110135 --> 0.109407).  Saving model ...\n",
      "../../GRS_SavedModel/GRSModel_none/['2018-12']/best_model_epoch_18.pt\n",
      "../../GRS_SavedModel/GRSOpt_none/['2018-12']/best_optimizer_epoch_18.pt\n",
      "Epoch 19 of 100\n"
     ]
    },
    {
     "name": "stderr",
     "output_type": "stream",
     "text": [
      "100%|██████████| 13/13 [00:01<00:00,  7.54it/s]\n",
      "100%|██████████| 2/2 [00:00<00:00, 11.37it/s]\n",
      "  0%|          | 0/13 [00:00<?, ?it/s]"
     ]
    },
    {
     "name": "stdout",
     "output_type": "stream",
     "text": [
      "Train Loss: 0.0947, Train Acc: 0.9655\n",
      "Val Loss: 0.1100, Val Acc: 0.9653\n",
      "EarlyStopping counter: 1 out of 5\n",
      "Epoch 20 of 100\n"
     ]
    },
    {
     "name": "stderr",
     "output_type": "stream",
     "text": [
      "100%|██████████| 13/13 [00:01<00:00,  7.33it/s]\n",
      "100%|██████████| 2/2 [00:00<00:00, 10.74it/s]\n",
      "  0%|          | 0/13 [00:00<?, ?it/s]"
     ]
    },
    {
     "name": "stdout",
     "output_type": "stream",
     "text": [
      "Train Loss: 0.0931, Train Acc: 0.9657\n",
      "Val Loss: 0.1099, Val Acc: 0.9650\n",
      "EarlyStopping counter: 2 out of 5\n",
      "Epoch 21 of 100\n"
     ]
    },
    {
     "name": "stderr",
     "output_type": "stream",
     "text": [
      "100%|██████████| 13/13 [00:01<00:00,  7.26it/s]\n",
      "100%|██████████| 2/2 [00:00<00:00,  7.89it/s]\n",
      "  0%|          | 0/13 [00:00<?, ?it/s]"
     ]
    },
    {
     "name": "stdout",
     "output_type": "stream",
     "text": [
      "Train Loss: 0.0904, Train Acc: 0.9680\n",
      "Val Loss: 0.1085, Val Acc: 0.9646\n",
      "Validation loss decreased (0.109407 --> 0.108455).  Saving model ...\n",
      "../../GRS_SavedModel/GRSModel_none/['2018-12']/best_model_epoch_21.pt\n",
      "../../GRS_SavedModel/GRSOpt_none/['2018-12']/best_optimizer_epoch_21.pt\n",
      "Epoch 22 of 100\n"
     ]
    },
    {
     "name": "stderr",
     "output_type": "stream",
     "text": [
      "100%|██████████| 13/13 [00:01<00:00,  8.08it/s]\n",
      "100%|██████████| 2/2 [00:00<00:00, 10.63it/s]\n",
      "  0%|          | 0/13 [00:00<?, ?it/s]"
     ]
    },
    {
     "name": "stdout",
     "output_type": "stream",
     "text": [
      "Train Loss: 0.0890, Train Acc: 0.9686\n",
      "Val Loss: 0.1089, Val Acc: 0.9652\n",
      "EarlyStopping counter: 1 out of 5\n",
      "Epoch 23 of 100\n"
     ]
    },
    {
     "name": "stderr",
     "output_type": "stream",
     "text": [
      "100%|██████████| 13/13 [00:01<00:00,  7.64it/s]\n",
      "100%|██████████| 2/2 [00:00<00:00, 11.77it/s]\n",
      "  0%|          | 0/13 [00:00<?, ?it/s]"
     ]
    },
    {
     "name": "stdout",
     "output_type": "stream",
     "text": [
      "Train Loss: 0.0881, Train Acc: 0.9687\n",
      "Val Loss: 0.1081, Val Acc: 0.9661\n",
      "Validation loss decreased (0.108455 --> 0.108055).  Saving model ...\n",
      "../../GRS_SavedModel/GRSModel_none/['2018-12']/best_model_epoch_23.pt\n",
      "../../GRS_SavedModel/GRSOpt_none/['2018-12']/best_optimizer_epoch_23.pt\n",
      "Epoch 24 of 100\n"
     ]
    },
    {
     "name": "stderr",
     "output_type": "stream",
     "text": [
      "100%|██████████| 13/13 [00:01<00:00,  7.33it/s]\n",
      "100%|██████████| 2/2 [00:00<00:00,  7.63it/s]\n",
      "  0%|          | 0/13 [00:00<?, ?it/s]"
     ]
    },
    {
     "name": "stdout",
     "output_type": "stream",
     "text": [
      "Train Loss: 0.0856, Train Acc: 0.9701\n",
      "Val Loss: 0.1071, Val Acc: 0.9651\n",
      "Validation loss decreased (0.108055 --> 0.107105).  Saving model ...\n",
      "../../GRS_SavedModel/GRSModel_none/['2018-12']/best_model_epoch_24.pt\n",
      "../../GRS_SavedModel/GRSOpt_none/['2018-12']/best_optimizer_epoch_24.pt\n",
      "Epoch 25 of 100\n"
     ]
    },
    {
     "name": "stderr",
     "output_type": "stream",
     "text": [
      "100%|██████████| 13/13 [00:01<00:00,  7.47it/s]\n",
      "100%|██████████| 2/2 [00:00<00:00, 10.86it/s]\n",
      "  0%|          | 0/13 [00:00<?, ?it/s]"
     ]
    },
    {
     "name": "stdout",
     "output_type": "stream",
     "text": [
      "Train Loss: 0.0851, Train Acc: 0.9691\n",
      "Val Loss: 0.1078, Val Acc: 0.9656\n",
      "EarlyStopping counter: 1 out of 5\n",
      "Epoch 26 of 100\n"
     ]
    },
    {
     "name": "stderr",
     "output_type": "stream",
     "text": [
      "100%|██████████| 13/13 [00:01<00:00,  7.21it/s]\n",
      "100%|██████████| 2/2 [00:00<00:00,  6.63it/s]\n",
      "  0%|          | 0/13 [00:00<?, ?it/s]"
     ]
    },
    {
     "name": "stdout",
     "output_type": "stream",
     "text": [
      "Train Loss: 0.0822, Train Acc: 0.9714\n",
      "Val Loss: 0.1075, Val Acc: 0.9653\n",
      "EarlyStopping counter: 2 out of 5\n",
      "Epoch 27 of 100\n"
     ]
    },
    {
     "name": "stderr",
     "output_type": "stream",
     "text": [
      "100%|██████████| 13/13 [00:01<00:00,  7.46it/s]\n",
      "100%|██████████| 2/2 [00:00<00:00, 11.50it/s]\n",
      "  0%|          | 0/13 [00:00<?, ?it/s]"
     ]
    },
    {
     "name": "stdout",
     "output_type": "stream",
     "text": [
      "Train Loss: 0.0832, Train Acc: 0.9708\n",
      "Val Loss: 0.1072, Val Acc: 0.9658\n",
      "EarlyStopping counter: 3 out of 5\n",
      "Epoch 28 of 100\n"
     ]
    },
    {
     "name": "stderr",
     "output_type": "stream",
     "text": [
      "100%|██████████| 13/13 [00:01<00:00,  7.51it/s]\n",
      "100%|██████████| 2/2 [00:00<00:00, 11.54it/s]\n",
      "  0%|          | 0/13 [00:00<?, ?it/s]"
     ]
    },
    {
     "name": "stdout",
     "output_type": "stream",
     "text": [
      "Train Loss: 0.0808, Train Acc: 0.9712\n",
      "Val Loss: 0.1081, Val Acc: 0.9662\n",
      "EarlyStopping counter: 4 out of 5\n",
      "Epoch 29 of 100\n"
     ]
    },
    {
     "name": "stderr",
     "output_type": "stream",
     "text": [
      "100%|██████████| 13/13 [00:01<00:00,  7.46it/s]\n",
      "100%|██████████| 2/2 [00:00<00:00,  8.63it/s]\n"
     ]
    },
    {
     "name": "stdout",
     "output_type": "stream",
     "text": [
      "Train Loss: 0.0794, Train Acc: 0.9717\n",
      "Val Loss: 0.1072, Val Acc: 0.9661\n",
      "EarlyStopping counter: 5 out of 5\n",
      "Early stopping\n",
      "Training time: 0.994 minutes\n",
      "loading best model ../../GRS_SavedModel/GRSModel_none/['2018-12']/best_model_epoch_24.pt\n",
      "loading best optimizer ../../GRS_SavedModel/GRSOpt_none/['2018-12']/best_optimizer_epoch_24.pt\n"
     ]
    },
    {
     "name": "stderr",
     "output_type": "stream",
     "text": [
      "100%|██████████| 2/2 [00:00<00:00,  6.01it/s]\n",
      "100%|██████████| 1/1 [00:00<00:00,  3.42it/s]\n",
      "100%|██████████| 1/1 [00:00<00:00,  3.86it/s]\n",
      "100%|██████████| 1/1 [00:00<00:00,  3.49it/s]\n",
      "100%|██████████| 1/1 [00:00<00:00,  3.63it/s]\n",
      "100%|██████████| 1/1 [00:00<00:00,  3.58it/s]\n",
      "100%|██████████| 1/1 [00:00<00:00,  3.39it/s]\n",
      "100%|██████████| 1/1 [00:00<00:00,  3.66it/s]\n",
      "100%|██████████| 2/2 [00:00<00:00,  6.13it/s]\n",
      "100%|██████████| 2/2 [00:00<00:00,  5.41it/s]\n",
      "100%|██████████| 2/2 [00:00<00:00,  5.34it/s]\n",
      "100%|██████████| 2/2 [00:00<00:00,  5.25it/s]"
     ]
    },
    {
     "name": "stdout",
     "output_type": "stream",
     "text": [
      "Elapsed time 11.161363832155864 mins.\n",
      "Avg-Acc-Till-Current-Task-Joint\t0.9317145956078111\t\tFuture-Acc\t0.913014641641558\n",
      "Elapsed time 11.161389064788818 mins.\n"
     ]
    },
    {
     "name": "stderr",
     "output_type": "stream",
     "text": [
      "\n",
      "/home/mr6564/anaconda3/envs/PyTorch/lib/python3.7/site-packages/numpy/core/fromnumeric.py:3441: RuntimeWarning: Mean of empty slice.\n",
      "  out=out, **kwargs)\n",
      "/home/mr6564/anaconda3/envs/PyTorch/lib/python3.7/site-packages/numpy/core/_methods.py:189: RuntimeWarning: invalid value encountered in double_scalars\n",
      "  ret = ret.dtype.type(ret / rcount)\n"
     ]
    }
   ],
   "source": [
    "def get_only_av_class_labeled_samples(all_X, all_Y, Y_Family):\n",
    "    \n",
    "    new_X = []\n",
    "    new_Y = []\n",
    "    new_Y_family = []\n",
    "    \n",
    "    for ind, y in enumerate(all_Y):\n",
    "        if y == 1:\n",
    "            if Y_Family[ind] != '':\n",
    "                new_Y.append(y)\n",
    "                new_X.append(all_X[ind])\n",
    "                new_Y_family.append(Y_Family[ind])\n",
    "        else:\n",
    "            new_Y.append(y)\n",
    "            new_X.append(all_X[ind])\n",
    "            new_Y_family.append(Y_Family[ind])\n",
    "            \n",
    "            \n",
    "    print(len(all_Y==1) == (len(new_Y) + (len(all_Y) - len(new_Y))))  \n",
    "    print(len(new_X) == len(new_Y))\n",
    "    return new_X, new_Y, new_Y_family\n",
    "\n",
    "def get_family_labeled_month_data(data_dir, month, train=True):\n",
    "    \n",
    "    if train:\n",
    "        data_dir = data_dir + str(month) + '/'\n",
    "        XY_train = np.load(data_dir + 'XY_train.npz')\n",
    "        X_tr, Y_tr, Y_tr_family = XY_train['X_train'], XY_train['Y_train'], XY_train['Y_family_train']\n",
    "\n",
    "        #print(f'X_train {X_tr.shape} Y_train {Y_tr.shape} Y_tr_family {Y_tr_family.shape}')\n",
    "        \n",
    "        return X_tr, Y_tr, Y_tr_family\n",
    "    else:\n",
    "        data_dir = data_dir + str(month) + '/'\n",
    "        XY_test = np.load(data_dir + 'XY_test.npz')\n",
    "        X_test, Y_test, Y_test_family = XY_test['X_test'], XY_test['Y_test'], XY_test['Y_family_test']\n",
    "\n",
    "        return X_test, Y_test, Y_test_family\n",
    "\n",
    "    \n",
    "    \n",
    "def get_family_labeled_task_test_data(data_dir, task_months, mlp_net=False):\n",
    "    \n",
    "    X_te, Y_te, Y_te_family = get_family_labeled_month_data(data_dir, task_months[-1], train=False)\n",
    "    \n",
    "    for month in task_months[:-1]:\n",
    "        pre_X_te, pre_Y_te, pre_Y_te_family = get_family_labeled_month_data(data_dir, month, train=False)\n",
    "        X_te, Y_te, Y_te_family = np.concatenate((X_te, pre_X_te)), np.concatenate((Y_te, pre_Y_te)),\\\n",
    "                                np.concatenate((Y_te_family, pre_Y_te_family))\n",
    "        \n",
    "\n",
    "    X_test, Y_test, Y_test_family = X_te, Y_te, Y_te_family\n",
    "    print(f'X_test {X_test.shape} Y_test {Y_test.shape} Y_te_family {Y_te_family.shape}')\n",
    "    \n",
    "    return X_test, Y_test, Y_test_family\n",
    "\n",
    "\n",
    "\n",
    "def get_month_data(data_dir, month, train=True):\n",
    "    \n",
    "    if train:\n",
    "        data_dir = data_dir + str(month) + '/'\n",
    "        XY_train = np.load(data_dir + 'XY_train.npz')\n",
    "        X_tr, Y_tr = XY_train['X_train'], XY_train['Y_train']\n",
    "        \n",
    "        return X_tr, Y_tr\n",
    "    else:\n",
    "        data_dir = data_dir + str(month) + '/'\n",
    "        XY_test = np.load(data_dir + 'XY_test.npz')\n",
    "        X_test, Y_test = XY_test['X_test'], XY_test['Y_test']\n",
    "\n",
    "        return X_test, Y_test \n",
    "\n",
    "    \n",
    "    \n",
    "def get_MemoryData(X, Y, memory_budget):\n",
    "    indx = [i for i in range(len(Y))]\n",
    "    random.shuffle(indx)\n",
    "    \n",
    "    replay_index = indx[:memory_budget]\n",
    "    X_train = X[replay_index]\n",
    "    Y_train = Y[replay_index]\n",
    "    \n",
    "    return X_train, Y_train\n",
    "\n",
    "\n",
    "\n",
    "def get_GRS_data(data_dir, task_months, memory_budget, train=True, joint=False, none=False):\n",
    "    \n",
    "    if train:\n",
    "        if none:\n",
    "            X_tr, Y_tr = get_month_data(data_dir, task_months[-1])\n",
    "            X_train, Y_train  = X_tr, Y_tr\n",
    "            print(f'X_train {X_train.shape} Y_train {Y_train.shape}\\n')\n",
    "            return X_train, Y_train\n",
    "        else:\n",
    "            X_tr, Y_tr = get_month_data(data_dir, task_months[-1])\n",
    "            print(f'Current Task month {task_months[-1]} data X {X_tr.shape} Y {Y_tr.shape}')\n",
    "\n",
    "            if len(task_months) != 1:\n",
    "                previous_Xs, previous_Ys = [], []\n",
    "                for month in task_months[:-1]:\n",
    "                    #pre_X_tr, pre_Y_tr, pre_X_val, pre_Y_val = get_month_data(data_dir, month)\n",
    "                    pre_X_tr, pre_Y_tr = get_month_data(data_dir, month)\n",
    "\n",
    "\n",
    "                    pre_X_tr, pre_Y_tr = np.array(pre_X_tr), np.array(pre_Y_tr)\n",
    "                    #print(f'pre_X_tr {pre_X_tr.shape}  pre_Y_tr {pre_Y_tr.shape}')\n",
    "\n",
    "                    for idx, prevSample in enumerate(pre_X_tr):\n",
    "                        previous_Xs.append(prevSample)\n",
    "                        previous_Ys.append(pre_Y_tr[idx])\n",
    "\n",
    "\n",
    "                previous_Xs, previous_Ys = np.array(previous_Xs), np.array(previous_Ys)  \n",
    "\n",
    "                #print(f'Y_tr {Y_tr.shape}  previous_Ys {previous_Ys.shape}')\n",
    "                if joint:\n",
    "                    X_tr, Y_tr = np.concatenate((X_tr, previous_Xs)), np.concatenate((Y_tr, previous_Ys))\n",
    "                else:\n",
    "                    if memory_budget >= len(previous_Ys):\n",
    "                        X_tr, Y_tr = np.concatenate((X_tr, previous_Xs)), np.concatenate((Y_tr, previous_Ys))\n",
    "                    else:\n",
    "                        previous_Xs, previous_Ys = get_MemoryData(previous_Xs, previous_Ys, memory_budget)\n",
    "                        X_tr, Y_tr = np.concatenate((X_tr, previous_Xs)), np.concatenate((Y_tr, previous_Ys))\n",
    "                        #print(f'memory_budget {memory_budget}  Y_tr {previous_Ys.shape} ')\n",
    "                        assert memory_budget == len(previous_Ys)\n",
    "            \n",
    "\n",
    "            X_train, Y_train  = X_tr, Y_tr\n",
    "            print(f'X_train {X_train.shape} Y_train {Y_train.shape}\\n')\n",
    "            return X_train, Y_train\n",
    "    else:\n",
    "        #X_te, Y_te = get_month_data(data_dir, task_months[-1], train=False)\n",
    "        \n",
    "        X_te, Y_te = [], []\n",
    "        #for month in task_months[:-1]:\n",
    "        for month in task_months:\n",
    "            pre_X_te, pre_Y_te = get_month_data(data_dir, month, train=False)\n",
    "            \n",
    "            X_te.append(np.array(pre_X_te)), Y_te.append(np.array(pre_Y_te))\n",
    "            #X_te, Y_te = np.concatenate((X_te, pre_X_te)), np.concatenate((Y_te, pre_Y_te))\n",
    "\n",
    "        X_test, Y_test  = X_te, Y_te\n",
    "        #print(f'X_test {X_test.shape} Y_test {Y_test.shape}')\n",
    "        return X_test, Y_test\n",
    "\n",
    "\n",
    "                        \n",
    "def life_experience(model, X_test, Y_test, batch_size, device):\n",
    "    result_accs = []\n",
    "    \n",
    "    for T, Y in enumerate(Y_test):\n",
    "        accT, _, _, _ = testing_aucscore(model, X_test[T], Y, batch_size, device)\n",
    "        result_accs.append(accT)\n",
    "    \n",
    "    return np.array(result_accs)\n",
    "\n",
    "def create_empty_matrix(m, n):\n",
    "    return np.zeros((m, n))\n",
    "\n",
    "\n",
    "def testing_aucscore(model, X_test, Y_test, batch_size, device):\n",
    "    #X_te = torch.from_numpy(X_test).type(torch.FloatTensor)\n",
    "    #y_te = torch.from_numpy(Y_test).type(torch.FloatTensor) \n",
    "    \n",
    "    testloader = get_dataloader(X_test, Y_test, batch_size, train_data=False)   \n",
    "    \n",
    "    model.eval()\n",
    "    y_pred_list = []\n",
    "    y_true_list = []\n",
    "    test_acc = []\n",
    "    with torch.no_grad():\n",
    "        for x_batch, y_batch in tqdm(testloader):\n",
    "            x_batch, y_batch = x_batch.to(device), y_batch.to(device)\n",
    "            y_test_pred = model(x_batch)\n",
    "            tmp_test_acc = binary_acc(y_test_pred, y_batch)\n",
    "            test_acc.append(tmp_test_acc.item())\n",
    "            \n",
    "            y_pred_tag = torch.round(y_test_pred).squeeze(1)\n",
    "            y_pred_list += list(y_pred_tag.cpu().numpy())\n",
    "            y_true_list += list(y_batch.cpu().numpy())\n",
    "        \n",
    "            \n",
    "    #correct_test_results = (np.array(y_pred_list) == np.array(y_true_list)).sum()\n",
    "    #acc = correct_test_results/len(y_true_list)\n",
    "    \n",
    "#     from sklearn.metrics import f1_score, roc_auc_score, precision_score, recall_score, accuracy_score\n",
    "    \n",
    "#     correct_labels, predicted_labels = np.array(y_true_list), np.array(y_pred_list)\n",
    "    \n",
    "#     roc_auc = roc_auc_score(correct_labels, predicted_labels)\n",
    "#     precision = precision_score(correct_labels, predicted_labels, average='micro')\n",
    "#     recall = recall_score(correct_labels, predicted_labels, average='micro')\n",
    "#     f1score = f1_score(correct_labels, predicted_labels, average='macro')\n",
    "    \n",
    "    #print(f'test accuracy {np.mean(test_acc)} and ROC-AUC {roc_auc}')\n",
    "\n",
    "    #wrong_good, wrong_mal, top_k_mistaken_families = \\\n",
    "    #            get_mistaken_stats(np.array(y_true_list), np.array(np.round(y_pred_list)), Y_test_family, top_k)\n",
    "    \n",
    "    #return np.mean(test_acc), roc_auc, precision, recall, f1score\n",
    "    return np.mean(test_acc)\n",
    "\n",
    "\n",
    "# parser = argparse.ArgumentParser()\n",
    "# parser.add_argument('--num_exps', type=int, default=1, required=False, help='Number of Experiments to Run.')\n",
    "# parser.add_argument('--num_epoch', type=int, default=500, required=False)\n",
    "# parser.add_argument('--batch_size', type=int, default=6000, required=False)\n",
    "# parser.add_argument('--grs_joint',  action=\"store_true\", required=False)\n",
    "# parser.add_argument('--grs_none',  action=\"store_true\", required=False)\n",
    "# parser.add_argument('--memory_budget', type=int, required=False)\n",
    "# parser.add_argument('--data_dir', type=str,\\\n",
    "#                     default='../../../month_based_processing_with_family_labels/', required=False)\n",
    "\n",
    "# args = parser.parse_args()\n",
    "\n",
    "\n",
    "all_task_months = ['2018-01', '2018-02', '2018-03', '2018-04', '2018-05', '2018-06',\n",
    "                   '2018-07', '2018-08', '2018-09', '2018-10', '2018-11', '2018-12']\n",
    "\n",
    "\n",
    "\n",
    "# data_dir = args.data_dir\n",
    "# num_exps = args.num_exps\n",
    "# num_epoch = args.num_epoch\n",
    "# batch_size = args.batch_size\n",
    "# memory_budget = args.memory_budget\n",
    "\n",
    "\n",
    "data_dir = '../../../month_based_processing_with_family_labels/'\n",
    "num_exps = 1\n",
    "num_epoch = 100\n",
    "batch_size = 6000\n",
    "memory_budget = 'none'\n",
    "grs_joint = False\n",
    "\n",
    "patience = 5\n",
    "\n",
    "\n",
    "\n",
    "# if args.grs_joint:\n",
    "#     memory_budget = 'joint'\n",
    "    \n",
    "# if args.grs_none:\n",
    "#     memory_budget = 'none'\n",
    "    \n",
    "    \n",
    "replay_type = 'joint_partial'\n",
    "\n",
    "exp_seeds = [random.randint(1, 99999) for i in range(num_exps)]\n",
    "\n",
    "\n",
    "num_tasks = len(all_task_months)\n",
    "results_matrix = create_empty_matrix(num_tasks, num_tasks)\n",
    "\n",
    "cnt =  1    \n",
    "for exp in exp_seeds:\n",
    "    start_time = time.time()\n",
    "    use_cuda = True\n",
    "    print('Torch', torch.__version__, 'CUDA', torch.version.cuda)\n",
    "    use_cuda = use_cuda and torch.cuda.is_available()\n",
    "    device = torch.device(\"cuda\" if use_cuda else \"cpu\")\n",
    "    torch.manual_seed(exp)\n",
    "\n",
    "    model = Ember_MLP_Net()\n",
    "    #optimizer = optim.Adam(model.parameters(), lr=learning_rate)\n",
    "    optimizer = torch.optim.SGD(model.parameters(), lr=0.01, momentum=0.9, weight_decay=0.000001)\n",
    "       \n",
    "    if torch.cuda.device_count() > 1:\n",
    "        print(\"Let's use\", torch.cuda.device_count(), \"GPUs!\")\n",
    "        model = nn.DataParallel(model)\n",
    "    \n",
    "    model = model.to(device)\n",
    "    print(f'Model has {count_parameters(model)/1000000}m parameters')    \n",
    "    criterion = nn.BCELoss()    \n",
    "    \n",
    "    \n",
    "    standardization = StandardScaler()\n",
    "    standard_scaler = None\n",
    "    \n",
    "    count_task = 0\n",
    "    model_init = 'yes'\n",
    "    results_acc = []\n",
    "    results_task = []\n",
    "    for task_month in range(len(all_task_months)):\n",
    "                \n",
    "        print(f'\\n{datetime.datetime.now().strftime(\"%Y-%m-%d %H:%M:%S\")} Round {cnt} ...')\n",
    "        task_start = time.time()\n",
    "        current_task = [all_task_months[task_month]]\n",
    "        task_months = all_task_months[:task_month+1]\n",
    "        print(f'Current Task {current_task} with Budget {memory_budget}')\n",
    "\n",
    "\n",
    "        model_save_dir = '../../GRS_SavedModel' + '/GRSModel_' + str(memory_budget) + '/' + str(current_task) + '/'\n",
    "        create_parent_folder(model_save_dir)\n",
    "        \n",
    "        opt_save_path = '../../GRS_SavedModel' + '/GRSOpt_' + str(memory_budget) + '/' + str(current_task) + '/'\n",
    "        create_parent_folder(opt_save_path)\n",
    "        \n",
    "        results_save_dir =  '../../GRS_SavedResults_' +'/GRS_' + str(memory_budget) + '/' \n",
    "        create_parent_folder(results_save_dir)\n",
    "        \n",
    "        X_train, Y_train = get_GRS_data(data_dir, task_months, memory_budget, train=True, none=True)        \n",
    "#         if args.grs_joint:\n",
    "#             X_train, Y_train = get_GRS_data(data_dir, task_months, memory_budget, train=True, joint=True)\n",
    "#             X_test, Y_test = get_GRS_data(data_dir, all_task_months, memory_budget, train=False, joint=True)\n",
    "#         elif args.grs_none:\n",
    "#             X_train, Y_train = get_GRS_data(data_dir, current_task, memory_budget, train=True, joint=True)\n",
    "#             X_test, Y_test = get_GRS_data(data_dir, all_task_months, memory_budget, train=False, joint=True)\n",
    "#         else:\n",
    "#             X_train, Y_train = get_GRS_data(data_dir, task_months, memory_budget, train=True, joint=False)\n",
    "#             X_test, Y_test = get_GRS_data(data_dir, all_task_months, memory_budget, train=False, joint=False)\n",
    "    \n",
    "        \n",
    "        # to debug\n",
    "        #X_train = X_train[:500]\n",
    "        #Y_train = Y_train [:500]\n",
    "        #X_valid, Y_valid = X_valid[:500], Y_valid[:500]\n",
    "        \n",
    "        print(f'{datetime.datetime.now().strftime(\"%Y-%m-%d %H:%M:%S\")} Standardizing ...')\n",
    "        \n",
    "        if grs_joint:\n",
    "                standardization = StandardScaler()\n",
    "                standard_scaler = None\n",
    "                standard_scaler = standardization.fit(X_train)\n",
    "        else:        \n",
    "                standard_scaler = standardization.partial_fit(X_train)\n",
    "\n",
    "        X_train = standard_scaler.transform(X_train)\n",
    "        X_train, Y_train = np.array(X_train, np.float32), np.array(Y_train, np.int32)\n",
    "        \n",
    "        from sklearn.model_selection import train_test_split\n",
    "        X_train, X_valid, Y_train, Y_valid = train_test_split(X_train, Y_train,\\\n",
    "                                                              test_size=0.10, random_state=42)\n",
    "\n",
    "        task_training_time, epoch_ran, training_loss, validation_loss  = training_early_stopping(\\\n",
    "                             model, model_save_dir, opt_save_path, X_train, Y_train,\\\n",
    "                             X_valid, Y_valid, patience, batch_size, device, optimizer, num_epoch,\\\n",
    "                             criterion, replay_type, current_task, exp, earlystopping=True)\n",
    "        \n",
    "        \n",
    "        #model = Ember_MLP_Net()\n",
    "        #model = model.to(device)\n",
    "        #load the best model for this task\n",
    "        best_model_path = model_save_dir + os.listdir(model_save_dir)[0]\n",
    "        print(f'loading best model {best_model_path}')\n",
    "        model.load_state_dict(torch.load(best_model_path))\n",
    "        \n",
    "        \n",
    "        #optimizer = torch.optim.SGD(model.parameters(), lr=0.001, momentum=0.9, weight_decay=0.000001)\n",
    "        best_optimizer = opt_save_path + os.listdir(opt_save_path)[0]\n",
    "        print(f'loading best optimizer {best_optimizer}')\n",
    "        optimizer.load_state_dict(torch.load(best_optimizer))\n",
    "        \n",
    "\n",
    "        for t in range(num_tasks):\n",
    "            y_t = all_task_months[t]\n",
    "            X_te, Y_te = get_month_data(data_dir, y_t, train=False)\n",
    "            X_te, Y_te = np.array(standard_scaler.transform(X_te), np.float32),\\\n",
    "                        np.array(Y_te, np.int32)\n",
    "            \n",
    "            acc = testing_aucscore(model, X_te, Y_te, batch_size, device)\n",
    "            \n",
    "            results_matrix[task_month][t] = acc\n",
    "        \n",
    "        end_time = time.time()\n",
    "\n",
    "        print(f'Elapsed time {(end_time - start_time)/60} mins.')    \n",
    "\n",
    "\n",
    "        task_end = time.time()\n",
    "        task_run_time = (task_end - task_start)/60\n",
    "        \n",
    "        \n",
    "    joint_acc_all = []\n",
    "    future_acc_all = []\n",
    "    for t in range(num_tasks):\n",
    "        joint_acc = np.mean(results_matrix[t][0:t+1])\n",
    "        future_acc = np.mean(results_matrix[t][t+1:])\n",
    "        #print(f'task {t+1}\\t{results_matrix[t][t+1:]}\\n')\n",
    "        joint_acc_all.append(joint_acc)\n",
    "\n",
    "        if t+1 != num_tasks:\n",
    "            #print(future_acc)\n",
    "            future_acc_all.append(future_acc)\n",
    "\n",
    "    print(f'Avg-Acc-Till-Current-Task-Joint\\t{np.mean(joint_acc_all)}\\t\\tFuture-Acc\\t{np.mean(future_acc_all)}')\n",
    "    \n",
    "    end_time = time.time()\n",
    "    cnt += 1\n",
    "    print(f'Elapsed time {(end_time - start_time)/60} mins.')\n",
    "\n",
    "    del model_save_dir\n",
    "    del opt_save_path\n",
    "    del results_save_dir\n"
   ]
  },
  {
   "cell_type": "code",
   "execution_count": null,
   "metadata": {},
   "outputs": [],
   "source": []
  },
  {
   "cell_type": "code",
   "execution_count": 9,
   "metadata": {},
   "outputs": [
    {
     "data": {
      "text/plain": [
       "array([[0.94164583, 0.90875506, 0.88923669, 0.89959687, 0.90940768,\n",
       "        0.89051849, 0.91386348, 0.8914814 , 0.87601805, 0.83396575,\n",
       "        0.87858334, 0.85295835],\n",
       "       [0.95541668, 0.94661987, 0.91837221, 0.8959493 , 0.91681188,\n",
       "        0.90477175, 0.93466848, 0.90556902, 0.91537213, 0.85560736,\n",
       "        0.89612502, 0.88737503],\n",
       "       [0.95129168, 0.95530105, 0.93859857, 0.90650797, 0.93728226,\n",
       "        0.91613305, 0.94050163, 0.91789567, 0.92875904, 0.8855893 ,\n",
       "        0.90837502, 0.89887503],\n",
       "       [0.96237499, 0.95714808, 0.94847095, 0.96102899, 0.94751745,\n",
       "        0.93059283, 0.94691813, 0.93308383, 0.93211913, 0.89138132,\n",
       "        0.911125  , 0.90966669],\n",
       "       [0.94616666, 0.95696342, 0.9458223 , 0.96563643, 0.9549216 ,\n",
       "        0.94216073, 0.96091771, 0.93814659, 0.91815042, 0.89042807,\n",
       "        0.90616667, 0.90533337],\n",
       "       [0.95631251, 0.96195048, 0.94437754, 0.96985984, 0.96559232,\n",
       "        0.96157819, 0.96461207, 0.93836671, 0.93142569, 0.89495766,\n",
       "        0.91945836, 0.9136667 ],\n",
       "       [0.9420417 , 0.96102691, 0.95978808, 0.97081977, 0.96689898,\n",
       "        0.95827305, 0.96811199, 0.94761169, 0.94059083, 0.9100627 ,\n",
       "        0.93012503, 0.91729167],\n",
       "       [0.95856249, 0.96453637, 0.94991571, 0.9735074 , 0.95601046,\n",
       "        0.96550298, 0.97705615, 0.95157385, 0.94303429, 0.91650194,\n",
       "        0.93887502, 0.92770836],\n",
       "       [0.96377084, 0.96416694, 0.95015651, 0.97062778, 0.96232581,\n",
       "        0.95971906, 0.97569507, 0.95245433, 0.94795245, 0.9178353 ,\n",
       "        0.93558335, 0.92154169],\n",
       "       [0.96402085, 0.96859992, 0.95039725, 0.96544445, 0.96341467,\n",
       "        0.96116507, 0.97219521, 0.96037859, 0.9565343 , 0.96400562,\n",
       "        0.95900002, 0.94079167],\n",
       "       [0.97360417, 0.96084225, 0.95617622, 0.97235554, 0.97147214,\n",
       "        0.96178472, 0.9727785 , 0.96169931, 0.96095097, 0.9675352 ,\n",
       "        0.9720417 , 0.95470834],\n",
       "       [0.97106251, 0.96712226, 0.95424992, 0.97254753, 0.96581012,\n",
       "        0.96281761, 0.97258407, 0.96059871, 0.96800452, 0.97791752,\n",
       "        0.97670835, 0.96416667]])"
      ]
     },
     "execution_count": 9,
     "metadata": {},
     "output_type": "execute_result"
    }
   ],
   "source": [
    "# None\n",
    "Avg-Acc-Till-Current-Task-Joint\t0.9317145956078111\t\tFuture-Acc\t0.913014641641558\n",
    "\n",
    "# Joint\n",
    "Avg-Acc-Till-Current-Task-Joint\t0.9577413405273368\t\tFuture-Acc\t0.9245585751963752"
   ]
  }
 ],
 "metadata": {
  "kernelspec": {
   "display_name": "PyTorch",
   "language": "python",
   "name": "pytorch"
  },
  "language_info": {
   "codemirror_mode": {
    "name": "ipython",
    "version": 3
   },
   "file_extension": ".py",
   "mimetype": "text/x-python",
   "name": "python",
   "nbconvert_exporter": "python",
   "pygments_lexer": "ipython3",
   "version": "3.7.9"
  }
 },
 "nbformat": 4,
 "nbformat_minor": 4
}
