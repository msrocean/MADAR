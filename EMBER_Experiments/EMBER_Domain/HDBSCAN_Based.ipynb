{
 "cells": [
  {
   "cell_type": "code",
   "execution_count": 6,
   "metadata": {
    "scrolled": false
   },
   "outputs": [
    {
     "name": "stdout",
     "output_type": "stream",
     "text": [
      "Torch 1.6.0 CUDA 10.2\n",
      "Model has 3.132161m parameters\n",
      "\n",
      "2022-12-16 02:55:22 Round 1 ...\n",
      "Current Task 2018-01 w/ 500 samples to Replay per Malware family.\n",
      "X_train (55722, 2381) Y_train (55722,) Y_tr_family (55722,)\n",
      "X_test (6192, 2381) Y_test (6192,) Y_te_family (6192,)\n",
      "2022-12-16 02:55:23 Standardizing ...\n",
      "Task 2018-01 and #-of new samples stored 55722\n",
      "pre_malware_samples 15471\n",
      "pre_goodware_samples 15471\n"
     ]
    },
    {
     "name": "stderr",
     "output_type": "stream",
     "text": [
      "\r",
      "  0%|          | 0/9 [00:00<?, ?it/s]"
     ]
    },
    {
     "name": "stdout",
     "output_type": "stream",
     "text": [
      "good 15471 mal 15471\n",
      "True\n",
      "good 15471 mal 15471\n",
      "task 2018-01 exemplars stored 15471\n",
      "Current Training - X_train (55722, 2381) \n",
      "2022-12-16 02:58:39 Training ...\n",
      "Epoch 1 of 500\n"
     ]
    },
    {
     "name": "stderr",
     "output_type": "stream",
     "text": [
      "100%|██████████| 9/9 [00:01<00:00,  4.86it/s]\n",
      "100%|██████████| 2/2 [00:00<00:00, 11.24it/s]\n",
      "  0%|          | 0/9 [00:00<?, ?it/s]"
     ]
    },
    {
     "name": "stdout",
     "output_type": "stream",
     "text": [
      "Train Loss: 0.7018, Train Acc: 0.5301\n",
      "Val Loss: 0.6839, Val Acc: 0.6293\n",
      "Validation loss decreased (inf --> 0.683873).  Saving model ...\n",
      "../HDBScanBased_pjr_saved_model_HDBScanBased/HDBScanBased_PJR_replay_500/2018-01/best_model_epoch_1.pt\n",
      "../HDBScanBased_pjr_saved_optimizer_HDBScanBased/HDBScanBased_PJR_replay_500/2018-01/best_optimizer_epoch_1.pt\n",
      "Epoch 2 of 500\n"
     ]
    },
    {
     "name": "stderr",
     "output_type": "stream",
     "text": [
      "100%|██████████| 9/9 [00:01<00:00,  5.09it/s]\n",
      "100%|██████████| 2/2 [00:00<00:00, 14.14it/s]\n",
      "  0%|          | 0/9 [00:00<?, ?it/s]"
     ]
    },
    {
     "name": "stdout",
     "output_type": "stream",
     "text": [
      "Train Loss: 0.6633, Train Acc: 0.6149\n",
      "Val Loss: 0.6509, Val Acc: 0.7087\n",
      "Validation loss decreased (0.683873 --> 0.650857).  Saving model ...\n",
      "../HDBScanBased_pjr_saved_model_HDBScanBased/HDBScanBased_PJR_replay_500/2018-01/best_model_epoch_2.pt\n",
      "../HDBScanBased_pjr_saved_optimizer_HDBScanBased/HDBScanBased_PJR_replay_500/2018-01/best_optimizer_epoch_2.pt\n",
      "Epoch 3 of 500\n"
     ]
    },
    {
     "name": "stderr",
     "output_type": "stream",
     "text": [
      "100%|██████████| 9/9 [00:01<00:00,  5.15it/s]\n",
      "100%|██████████| 2/2 [00:00<00:00,  5.46it/s]\n",
      "  0%|          | 0/9 [00:00<?, ?it/s]"
     ]
    },
    {
     "name": "stdout",
     "output_type": "stream",
     "text": [
      "Train Loss: 0.6198, Train Acc: 0.6827\n",
      "Val Loss: 0.5932, Val Acc: 0.7520\n",
      "Validation loss decreased (0.650857 --> 0.593195).  Saving model ...\n",
      "../HDBScanBased_pjr_saved_model_HDBScanBased/HDBScanBased_PJR_replay_500/2018-01/best_model_epoch_3.pt\n",
      "../HDBScanBased_pjr_saved_optimizer_HDBScanBased/HDBScanBased_PJR_replay_500/2018-01/best_optimizer_epoch_3.pt\n",
      "Epoch 4 of 500\n"
     ]
    },
    {
     "name": "stderr",
     "output_type": "stream",
     "text": [
      "100%|██████████| 9/9 [00:01<00:00,  5.19it/s]\n",
      "100%|██████████| 2/2 [00:00<00:00, 14.03it/s]\n",
      "  0%|          | 0/9 [00:00<?, ?it/s]"
     ]
    },
    {
     "name": "stdout",
     "output_type": "stream",
     "text": [
      "Train Loss: 0.5655, Train Acc: 0.7341\n",
      "Val Loss: 0.5205, Val Acc: 0.7900\n",
      "Validation loss decreased (0.593195 --> 0.520478).  Saving model ...\n",
      "../HDBScanBased_pjr_saved_model_HDBScanBased/HDBScanBased_PJR_replay_500/2018-01/best_model_epoch_4.pt\n",
      "../HDBScanBased_pjr_saved_optimizer_HDBScanBased/HDBScanBased_PJR_replay_500/2018-01/best_optimizer_epoch_4.pt\n",
      "Epoch 5 of 500\n"
     ]
    },
    {
     "name": "stderr",
     "output_type": "stream",
     "text": [
      "100%|██████████| 9/9 [00:01<00:00,  4.97it/s]\n",
      "100%|██████████| 2/2 [00:00<00:00, 14.07it/s]\n",
      "  0%|          | 0/9 [00:00<?, ?it/s]"
     ]
    },
    {
     "name": "stdout",
     "output_type": "stream",
     "text": [
      "Train Loss: 0.5117, Train Acc: 0.7617\n",
      "Val Loss: 0.4592, Val Acc: 0.8054\n",
      "Validation loss decreased (0.520478 --> 0.459201).  Saving model ...\n",
      "../HDBScanBased_pjr_saved_model_HDBScanBased/HDBScanBased_PJR_replay_500/2018-01/best_model_epoch_5.pt\n",
      "../HDBScanBased_pjr_saved_optimizer_HDBScanBased/HDBScanBased_PJR_replay_500/2018-01/best_optimizer_epoch_5.pt\n",
      "Epoch 6 of 500\n"
     ]
    },
    {
     "name": "stderr",
     "output_type": "stream",
     "text": [
      "100%|██████████| 9/9 [00:01<00:00,  5.52it/s]\n",
      "100%|██████████| 2/2 [00:00<00:00, 14.64it/s]\n",
      "  0%|          | 0/9 [00:00<?, ?it/s]"
     ]
    },
    {
     "name": "stdout",
     "output_type": "stream",
     "text": [
      "Train Loss: 0.4580, Train Acc: 0.7852\n",
      "Val Loss: 0.4083, Val Acc: 0.8236\n",
      "Validation loss decreased (0.459201 --> 0.408299).  Saving model ...\n",
      "../HDBScanBased_pjr_saved_model_HDBScanBased/HDBScanBased_PJR_replay_500/2018-01/best_model_epoch_6.pt\n",
      "../HDBScanBased_pjr_saved_optimizer_HDBScanBased/HDBScanBased_PJR_replay_500/2018-01/best_optimizer_epoch_6.pt\n",
      "Epoch 7 of 500\n"
     ]
    },
    {
     "name": "stderr",
     "output_type": "stream",
     "text": [
      "100%|██████████| 9/9 [00:01<00:00,  4.90it/s]\n",
      "100%|██████████| 2/2 [00:00<00:00,  9.38it/s]\n",
      "  0%|          | 0/9 [00:00<?, ?it/s]"
     ]
    },
    {
     "name": "stdout",
     "output_type": "stream",
     "text": [
      "Train Loss: 0.4175, Train Acc: 0.8039\n",
      "Val Loss: 0.3628, Val Acc: 0.8415\n",
      "Validation loss decreased (0.408299 --> 0.362829).  Saving model ...\n",
      "../HDBScanBased_pjr_saved_model_HDBScanBased/HDBScanBased_PJR_replay_500/2018-01/best_model_epoch_7.pt\n",
      "../HDBScanBased_pjr_saved_optimizer_HDBScanBased/HDBScanBased_PJR_replay_500/2018-01/best_optimizer_epoch_7.pt\n",
      "Epoch 8 of 500\n"
     ]
    },
    {
     "name": "stderr",
     "output_type": "stream",
     "text": [
      "100%|██████████| 9/9 [00:01<00:00,  5.26it/s]\n",
      "100%|██████████| 2/2 [00:00<00:00, 13.44it/s]\n",
      "  0%|          | 0/9 [00:00<?, ?it/s]"
     ]
    },
    {
     "name": "stdout",
     "output_type": "stream",
     "text": [
      "Train Loss: 0.3801, Train Acc: 0.8287\n",
      "Val Loss: 0.3236, Val Acc: 0.8668\n",
      "Validation loss decreased (0.362829 --> 0.323587).  Saving model ...\n",
      "../HDBScanBased_pjr_saved_model_HDBScanBased/HDBScanBased_PJR_replay_500/2018-01/best_model_epoch_8.pt\n",
      "../HDBScanBased_pjr_saved_optimizer_HDBScanBased/HDBScanBased_PJR_replay_500/2018-01/best_optimizer_epoch_8.pt\n",
      "Epoch 9 of 500\n"
     ]
    },
    {
     "name": "stderr",
     "output_type": "stream",
     "text": [
      "100%|██████████| 9/9 [00:01<00:00,  5.56it/s]\n",
      "100%|██████████| 2/2 [00:00<00:00, 13.98it/s]\n",
      "  0%|          | 0/9 [00:00<?, ?it/s]"
     ]
    },
    {
     "name": "stdout",
     "output_type": "stream",
     "text": [
      "Train Loss: 0.3478, Train Acc: 0.8456\n",
      "Val Loss: 0.2920, Val Acc: 0.8776\n",
      "Validation loss decreased (0.323587 --> 0.291952).  Saving model ...\n",
      "../HDBScanBased_pjr_saved_model_HDBScanBased/HDBScanBased_PJR_replay_500/2018-01/best_model_epoch_9.pt\n",
      "../HDBScanBased_pjr_saved_optimizer_HDBScanBased/HDBScanBased_PJR_replay_500/2018-01/best_optimizer_epoch_9.pt\n",
      "Epoch 10 of 500\n"
     ]
    },
    {
     "name": "stderr",
     "output_type": "stream",
     "text": [
      "100%|██████████| 9/9 [00:01<00:00,  5.32it/s]\n",
      "100%|██████████| 2/2 [00:00<00:00, 14.43it/s]\n",
      "  0%|          | 0/9 [00:00<?, ?it/s]"
     ]
    },
    {
     "name": "stdout",
     "output_type": "stream",
     "text": [
      "Train Loss: 0.3248, Train Acc: 0.8581\n",
      "Val Loss: 0.2725, Val Acc: 0.8834\n",
      "Validation loss decreased (0.291952 --> 0.272453).  Saving model ...\n",
      "../HDBScanBased_pjr_saved_model_HDBScanBased/HDBScanBased_PJR_replay_500/2018-01/best_model_epoch_10.pt\n",
      "../HDBScanBased_pjr_saved_optimizer_HDBScanBased/HDBScanBased_PJR_replay_500/2018-01/best_optimizer_epoch_10.pt\n",
      "Epoch 11 of 500\n"
     ]
    },
    {
     "name": "stderr",
     "output_type": "stream",
     "text": [
      "100%|██████████| 9/9 [00:01<00:00,  5.43it/s]\n",
      "100%|██████████| 2/2 [00:00<00:00,  8.29it/s]\n",
      "  0%|          | 0/9 [00:00<?, ?it/s]"
     ]
    },
    {
     "name": "stdout",
     "output_type": "stream",
     "text": [
      "Train Loss: 0.3019, Train Acc: 0.8689\n",
      "Val Loss: 0.2552, Val Acc: 0.8875\n",
      "Validation loss decreased (0.272453 --> 0.255188).  Saving model ...\n",
      "../HDBScanBased_pjr_saved_model_HDBScanBased/HDBScanBased_PJR_replay_500/2018-01/best_model_epoch_11.pt\n",
      "../HDBScanBased_pjr_saved_optimizer_HDBScanBased/HDBScanBased_PJR_replay_500/2018-01/best_optimizer_epoch_11.pt\n",
      "Epoch 12 of 500\n"
     ]
    },
    {
     "name": "stderr",
     "output_type": "stream",
     "text": [
      "100%|██████████| 9/9 [00:01<00:00,  5.55it/s]\n",
      "100%|██████████| 2/2 [00:00<00:00, 14.33it/s]\n",
      "  0%|          | 0/9 [00:00<?, ?it/s]"
     ]
    },
    {
     "name": "stdout",
     "output_type": "stream",
     "text": [
      "Train Loss: 0.2839, Train Acc: 0.8784\n",
      "Val Loss: 0.2451, Val Acc: 0.8874\n",
      "Validation loss decreased (0.255188 --> 0.245074).  Saving model ...\n",
      "../HDBScanBased_pjr_saved_model_HDBScanBased/HDBScanBased_PJR_replay_500/2018-01/best_model_epoch_12.pt\n",
      "../HDBScanBased_pjr_saved_optimizer_HDBScanBased/HDBScanBased_PJR_replay_500/2018-01/best_optimizer_epoch_12.pt\n",
      "Epoch 13 of 500\n"
     ]
    },
    {
     "name": "stderr",
     "output_type": "stream",
     "text": [
      "100%|██████████| 9/9 [00:01<00:00,  5.49it/s]\n",
      "100%|██████████| 2/2 [00:00<00:00, 13.98it/s]\n",
      "  0%|          | 0/9 [00:00<?, ?it/s]"
     ]
    },
    {
     "name": "stdout",
     "output_type": "stream",
     "text": [
      "Train Loss: 0.2667, Train Acc: 0.8867\n",
      "Val Loss: 0.2357, Val Acc: 0.8936\n",
      "Validation loss decreased (0.245074 --> 0.235707).  Saving model ...\n",
      "../HDBScanBased_pjr_saved_model_HDBScanBased/HDBScanBased_PJR_replay_500/2018-01/best_model_epoch_13.pt\n",
      "../HDBScanBased_pjr_saved_optimizer_HDBScanBased/HDBScanBased_PJR_replay_500/2018-01/best_optimizer_epoch_13.pt\n",
      "Epoch 14 of 500\n"
     ]
    },
    {
     "name": "stderr",
     "output_type": "stream",
     "text": [
      "100%|██████████| 9/9 [00:01<00:00,  5.32it/s]\n",
      "100%|██████████| 2/2 [00:00<00:00,  7.88it/s]\n",
      "  0%|          | 0/9 [00:00<?, ?it/s]"
     ]
    },
    {
     "name": "stdout",
     "output_type": "stream",
     "text": [
      "Train Loss: 0.2594, Train Acc: 0.8899\n",
      "Val Loss: 0.2266, Val Acc: 0.8933\n",
      "Validation loss decreased (0.235707 --> 0.226570).  Saving model ...\n",
      "../HDBScanBased_pjr_saved_model_HDBScanBased/HDBScanBased_PJR_replay_500/2018-01/best_model_epoch_14.pt\n",
      "../HDBScanBased_pjr_saved_optimizer_HDBScanBased/HDBScanBased_PJR_replay_500/2018-01/best_optimizer_epoch_14.pt\n",
      "Epoch 15 of 500\n"
     ]
    },
    {
     "name": "stderr",
     "output_type": "stream",
     "text": [
      "100%|██████████| 9/9 [00:01<00:00,  5.43it/s]\n",
      "100%|██████████| 2/2 [00:00<00:00, 13.92it/s]\n",
      "  0%|          | 0/9 [00:00<?, ?it/s]"
     ]
    },
    {
     "name": "stdout",
     "output_type": "stream",
     "text": [
      "Train Loss: 0.2464, Train Acc: 0.8962\n",
      "Val Loss: 0.2222, Val Acc: 0.9003\n",
      "Validation loss decreased (0.226570 --> 0.222178).  Saving model ...\n",
      "../HDBScanBased_pjr_saved_model_HDBScanBased/HDBScanBased_PJR_replay_500/2018-01/best_model_epoch_15.pt\n",
      "../HDBScanBased_pjr_saved_optimizer_HDBScanBased/HDBScanBased_PJR_replay_500/2018-01/best_optimizer_epoch_15.pt\n",
      "Epoch 16 of 500\n"
     ]
    },
    {
     "name": "stderr",
     "output_type": "stream",
     "text": [
      "100%|██████████| 9/9 [00:01<00:00,  6.04it/s]\n",
      "100%|██████████| 2/2 [00:00<00:00, 14.53it/s]\n",
      "  0%|          | 0/9 [00:00<?, ?it/s]"
     ]
    },
    {
     "name": "stdout",
     "output_type": "stream",
     "text": [
      "Train Loss: 0.2341, Train Acc: 0.9039\n",
      "Val Loss: 0.2171, Val Acc: 0.9039\n",
      "Validation loss decreased (0.222178 --> 0.217118).  Saving model ...\n",
      "../HDBScanBased_pjr_saved_model_HDBScanBased/HDBScanBased_PJR_replay_500/2018-01/best_model_epoch_16.pt\n",
      "../HDBScanBased_pjr_saved_optimizer_HDBScanBased/HDBScanBased_PJR_replay_500/2018-01/best_optimizer_epoch_16.pt\n",
      "Epoch 17 of 500\n"
     ]
    },
    {
     "name": "stderr",
     "output_type": "stream",
     "text": [
      "100%|██████████| 9/9 [00:01<00:00,  5.24it/s]\n",
      "100%|██████████| 2/2 [00:00<00:00, 14.09it/s]\n",
      "  0%|          | 0/9 [00:00<?, ?it/s]"
     ]
    },
    {
     "name": "stdout",
     "output_type": "stream",
     "text": [
      "Train Loss: 0.2318, Train Acc: 0.9045\n",
      "Val Loss: 0.2173, Val Acc: 0.9091\n",
      "EarlyStopping counter: 1 out of 5\n",
      "Epoch 18 of 500\n"
     ]
    },
    {
     "name": "stderr",
     "output_type": "stream",
     "text": [
      "100%|██████████| 9/9 [00:01<00:00,  5.25it/s]\n",
      "100%|██████████| 2/2 [00:00<00:00,  8.06it/s]\n",
      "  0%|          | 0/9 [00:00<?, ?it/s]"
     ]
    },
    {
     "name": "stdout",
     "output_type": "stream",
     "text": [
      "Train Loss: 0.2201, Train Acc: 0.9110\n",
      "Val Loss: 0.2100, Val Acc: 0.9166\n",
      "Validation loss decreased (0.217118 --> 0.209967).  Saving model ...\n",
      "../HDBScanBased_pjr_saved_model_HDBScanBased/HDBScanBased_PJR_replay_500/2018-01/best_model_epoch_18.pt\n",
      "../HDBScanBased_pjr_saved_optimizer_HDBScanBased/HDBScanBased_PJR_replay_500/2018-01/best_optimizer_epoch_18.pt\n",
      "Epoch 19 of 500\n"
     ]
    },
    {
     "name": "stderr",
     "output_type": "stream",
     "text": [
      "100%|██████████| 9/9 [00:01<00:00,  5.83it/s]\n",
      "100%|██████████| 2/2 [00:00<00:00, 11.37it/s]\n",
      "  0%|          | 0/9 [00:00<?, ?it/s]"
     ]
    },
    {
     "name": "stdout",
     "output_type": "stream",
     "text": [
      "Train Loss: 0.2145, Train Acc: 0.9112\n",
      "Val Loss: 0.2078, Val Acc: 0.9179\n",
      "Validation loss decreased (0.209967 --> 0.207763).  Saving model ...\n",
      "../HDBScanBased_pjr_saved_model_HDBScanBased/HDBScanBased_PJR_replay_500/2018-01/best_model_epoch_19.pt\n",
      "../HDBScanBased_pjr_saved_optimizer_HDBScanBased/HDBScanBased_PJR_replay_500/2018-01/best_optimizer_epoch_19.pt\n",
      "Epoch 20 of 500\n"
     ]
    },
    {
     "name": "stderr",
     "output_type": "stream",
     "text": [
      "100%|██████████| 9/9 [00:01<00:00,  5.44it/s]\n",
      "100%|██████████| 2/2 [00:00<00:00, 13.88it/s]\n",
      "  0%|          | 0/9 [00:00<?, ?it/s]"
     ]
    },
    {
     "name": "stdout",
     "output_type": "stream",
     "text": [
      "Train Loss: 0.2096, Train Acc: 0.9150\n",
      "Val Loss: 0.2041, Val Acc: 0.9213\n",
      "Validation loss decreased (0.207763 --> 0.204143).  Saving model ...\n",
      "../HDBScanBased_pjr_saved_model_HDBScanBased/HDBScanBased_PJR_replay_500/2018-01/best_model_epoch_20.pt\n",
      "../HDBScanBased_pjr_saved_optimizer_HDBScanBased/HDBScanBased_PJR_replay_500/2018-01/best_optimizer_epoch_20.pt\n",
      "Epoch 21 of 500\n"
     ]
    },
    {
     "name": "stderr",
     "output_type": "stream",
     "text": [
      "100%|██████████| 9/9 [00:02<00:00,  4.49it/s]\n",
      "100%|██████████| 2/2 [00:00<00:00, 14.21it/s]\n",
      "  0%|          | 0/9 [00:00<?, ?it/s]"
     ]
    },
    {
     "name": "stdout",
     "output_type": "stream",
     "text": [
      "Train Loss: 0.2023, Train Acc: 0.9182\n",
      "Val Loss: 0.2068, Val Acc: 0.9185\n",
      "EarlyStopping counter: 1 out of 5\n",
      "Epoch 22 of 500\n"
     ]
    },
    {
     "name": "stderr",
     "output_type": "stream",
     "text": [
      "100%|██████████| 9/9 [00:01<00:00,  4.69it/s]\n",
      "100%|██████████| 2/2 [00:00<00:00,  9.07it/s]\n",
      "  0%|          | 0/9 [00:00<?, ?it/s]"
     ]
    },
    {
     "name": "stdout",
     "output_type": "stream",
     "text": [
      "Train Loss: 0.1994, Train Acc: 0.9188\n",
      "Val Loss: 0.2042, Val Acc: 0.9189\n",
      "EarlyStopping counter: 2 out of 5\n",
      "Epoch 23 of 500\n"
     ]
    },
    {
     "name": "stderr",
     "output_type": "stream",
     "text": [
      "100%|██████████| 9/9 [00:01<00:00,  5.12it/s]\n",
      "100%|██████████| 2/2 [00:00<00:00, 12.35it/s]\n",
      "  0%|          | 0/9 [00:00<?, ?it/s]"
     ]
    },
    {
     "name": "stdout",
     "output_type": "stream",
     "text": [
      "Train Loss: 0.1932, Train Acc: 0.9228\n",
      "Val Loss: 0.1997, Val Acc: 0.9207\n",
      "Validation loss decreased (0.204143 --> 0.199690).  Saving model ...\n",
      "../HDBScanBased_pjr_saved_model_HDBScanBased/HDBScanBased_PJR_replay_500/2018-01/best_model_epoch_23.pt\n",
      "../HDBScanBased_pjr_saved_optimizer_HDBScanBased/HDBScanBased_PJR_replay_500/2018-01/best_optimizer_epoch_23.pt\n",
      "Epoch 24 of 500\n"
     ]
    },
    {
     "name": "stderr",
     "output_type": "stream",
     "text": [
      "100%|██████████| 9/9 [00:01<00:00,  5.50it/s]\n",
      "100%|██████████| 2/2 [00:00<00:00, 21.70it/s]\n",
      "  0%|          | 0/9 [00:00<?, ?it/s]"
     ]
    },
    {
     "name": "stdout",
     "output_type": "stream",
     "text": [
      "Train Loss: 0.1888, Train Acc: 0.9246\n",
      "Val Loss: 0.1949, Val Acc: 0.9240\n",
      "Validation loss decreased (0.199690 --> 0.194917).  Saving model ...\n",
      "../HDBScanBased_pjr_saved_model_HDBScanBased/HDBScanBased_PJR_replay_500/2018-01/best_model_epoch_24.pt\n",
      "../HDBScanBased_pjr_saved_optimizer_HDBScanBased/HDBScanBased_PJR_replay_500/2018-01/best_optimizer_epoch_24.pt\n",
      "Epoch 25 of 500\n"
     ]
    },
    {
     "name": "stderr",
     "output_type": "stream",
     "text": [
      "100%|██████████| 9/9 [00:01<00:00,  5.84it/s]\n",
      "100%|██████████| 2/2 [00:00<00:00, 13.91it/s]\n",
      "  0%|          | 0/9 [00:00<?, ?it/s]"
     ]
    },
    {
     "name": "stdout",
     "output_type": "stream",
     "text": [
      "Train Loss: 0.1844, Train Acc: 0.9264\n",
      "Val Loss: 0.1941, Val Acc: 0.9250\n",
      "Validation loss decreased (0.194917 --> 0.194140).  Saving model ...\n",
      "../HDBScanBased_pjr_saved_model_HDBScanBased/HDBScanBased_PJR_replay_500/2018-01/best_model_epoch_25.pt\n",
      "../HDBScanBased_pjr_saved_optimizer_HDBScanBased/HDBScanBased_PJR_replay_500/2018-01/best_optimizer_epoch_25.pt\n",
      "Epoch 26 of 500\n"
     ]
    },
    {
     "name": "stderr",
     "output_type": "stream",
     "text": [
      "100%|██████████| 9/9 [00:01<00:00,  5.72it/s]\n",
      "100%|██████████| 2/2 [00:00<00:00,  6.73it/s]\n",
      "  0%|          | 0/9 [00:00<?, ?it/s]"
     ]
    },
    {
     "name": "stdout",
     "output_type": "stream",
     "text": [
      "Train Loss: 0.1835, Train Acc: 0.9266\n",
      "Val Loss: 0.1900, Val Acc: 0.9231\n",
      "Validation loss decreased (0.194140 --> 0.189992).  Saving model ...\n",
      "../HDBScanBased_pjr_saved_model_HDBScanBased/HDBScanBased_PJR_replay_500/2018-01/best_model_epoch_26.pt\n",
      "../HDBScanBased_pjr_saved_optimizer_HDBScanBased/HDBScanBased_PJR_replay_500/2018-01/best_optimizer_epoch_26.pt\n",
      "Epoch 27 of 500\n"
     ]
    },
    {
     "name": "stderr",
     "output_type": "stream",
     "text": [
      "100%|██████████| 9/9 [00:01<00:00,  5.83it/s]\n",
      "100%|██████████| 2/2 [00:00<00:00, 21.87it/s]\n",
      "  0%|          | 0/9 [00:00<?, ?it/s]"
     ]
    },
    {
     "name": "stdout",
     "output_type": "stream",
     "text": [
      "Train Loss: 0.1804, Train Acc: 0.9296\n",
      "Val Loss: 0.1895, Val Acc: 0.9234\n",
      "Validation loss decreased (0.189992 --> 0.189545).  Saving model ...\n",
      "../HDBScanBased_pjr_saved_model_HDBScanBased/HDBScanBased_PJR_replay_500/2018-01/best_model_epoch_27.pt\n",
      "../HDBScanBased_pjr_saved_optimizer_HDBScanBased/HDBScanBased_PJR_replay_500/2018-01/best_optimizer_epoch_27.pt\n",
      "Epoch 28 of 500\n"
     ]
    },
    {
     "name": "stderr",
     "output_type": "stream",
     "text": [
      "100%|██████████| 9/9 [00:01<00:00,  6.00it/s]\n",
      "100%|██████████| 2/2 [00:00<00:00, 20.80it/s]\n",
      "  0%|          | 0/9 [00:00<?, ?it/s]"
     ]
    },
    {
     "name": "stdout",
     "output_type": "stream",
     "text": [
      "Train Loss: 0.1742, Train Acc: 0.9306\n",
      "Val Loss: 0.1853, Val Acc: 0.9242\n",
      "Validation loss decreased (0.189545 --> 0.185300).  Saving model ...\n",
      "../HDBScanBased_pjr_saved_model_HDBScanBased/HDBScanBased_PJR_replay_500/2018-01/best_model_epoch_28.pt\n",
      "../HDBScanBased_pjr_saved_optimizer_HDBScanBased/HDBScanBased_PJR_replay_500/2018-01/best_optimizer_epoch_28.pt\n",
      "Epoch 29 of 500\n"
     ]
    },
    {
     "name": "stderr",
     "output_type": "stream",
     "text": [
      "100%|██████████| 9/9 [00:01<00:00,  5.26it/s]\n",
      "100%|██████████| 2/2 [00:00<00:00, 21.37it/s]\n",
      "  0%|          | 0/9 [00:00<?, ?it/s]"
     ]
    },
    {
     "name": "stdout",
     "output_type": "stream",
     "text": [
      "Train Loss: 0.1743, Train Acc: 0.9310\n",
      "Val Loss: 0.1860, Val Acc: 0.9245\n",
      "EarlyStopping counter: 1 out of 5\n",
      "Epoch 30 of 500\n"
     ]
    },
    {
     "name": "stderr",
     "output_type": "stream",
     "text": [
      "100%|██████████| 9/9 [00:01<00:00,  5.24it/s]\n",
      "100%|██████████| 2/2 [00:00<00:00,  4.99it/s]\n",
      "  0%|          | 0/9 [00:00<?, ?it/s]"
     ]
    },
    {
     "name": "stdout",
     "output_type": "stream",
     "text": [
      "Train Loss: 0.1680, Train Acc: 0.9343\n",
      "Val Loss: 0.1834, Val Acc: 0.9257\n",
      "Validation loss decreased (0.185300 --> 0.183435).  Saving model ...\n",
      "../HDBScanBased_pjr_saved_model_HDBScanBased/HDBScanBased_PJR_replay_500/2018-01/best_model_epoch_30.pt\n",
      "../HDBScanBased_pjr_saved_optimizer_HDBScanBased/HDBScanBased_PJR_replay_500/2018-01/best_optimizer_epoch_30.pt\n",
      "Epoch 31 of 500\n"
     ]
    },
    {
     "name": "stderr",
     "output_type": "stream",
     "text": [
      "100%|██████████| 9/9 [00:01<00:00,  5.30it/s]\n",
      "100%|██████████| 2/2 [00:00<00:00, 13.68it/s]\n",
      "  0%|          | 0/9 [00:00<?, ?it/s]"
     ]
    },
    {
     "name": "stdout",
     "output_type": "stream",
     "text": [
      "Train Loss: 0.1666, Train Acc: 0.9330\n",
      "Val Loss: 0.1833, Val Acc: 0.9255\n",
      "Validation loss decreased (0.183435 --> 0.183280).  Saving model ...\n",
      "../HDBScanBased_pjr_saved_model_HDBScanBased/HDBScanBased_PJR_replay_500/2018-01/best_model_epoch_31.pt\n",
      "../HDBScanBased_pjr_saved_optimizer_HDBScanBased/HDBScanBased_PJR_replay_500/2018-01/best_optimizer_epoch_31.pt\n",
      "Epoch 32 of 500\n"
     ]
    },
    {
     "name": "stderr",
     "output_type": "stream",
     "text": [
      "100%|██████████| 9/9 [00:01<00:00,  4.68it/s]\n",
      "100%|██████████| 2/2 [00:00<00:00, 13.96it/s]\n",
      "  0%|          | 0/9 [00:00<?, ?it/s]"
     ]
    },
    {
     "name": "stdout",
     "output_type": "stream",
     "text": [
      "Train Loss: 0.1628, Train Acc: 0.9362\n",
      "Val Loss: 0.1811, Val Acc: 0.9268\n",
      "Validation loss decreased (0.183280 --> 0.181100).  Saving model ...\n",
      "../HDBScanBased_pjr_saved_model_HDBScanBased/HDBScanBased_PJR_replay_500/2018-01/best_model_epoch_32.pt\n",
      "../HDBScanBased_pjr_saved_optimizer_HDBScanBased/HDBScanBased_PJR_replay_500/2018-01/best_optimizer_epoch_32.pt\n",
      "Epoch 33 of 500\n"
     ]
    },
    {
     "name": "stderr",
     "output_type": "stream",
     "text": [
      "100%|██████████| 9/9 [00:01<00:00,  4.68it/s]\n",
      "100%|██████████| 2/2 [00:00<00:00,  6.14it/s]\n",
      "  0%|          | 0/9 [00:00<?, ?it/s]"
     ]
    },
    {
     "name": "stdout",
     "output_type": "stream",
     "text": [
      "Train Loss: 0.1582, Train Acc: 0.9378\n",
      "Val Loss: 0.1825, Val Acc: 0.9268\n",
      "EarlyStopping counter: 1 out of 5\n",
      "Epoch 34 of 500\n"
     ]
    },
    {
     "name": "stderr",
     "output_type": "stream",
     "text": [
      "100%|██████████| 9/9 [00:01<00:00,  4.81it/s]\n",
      "100%|██████████| 2/2 [00:00<00:00, 13.77it/s]\n",
      "  0%|          | 0/9 [00:00<?, ?it/s]"
     ]
    },
    {
     "name": "stdout",
     "output_type": "stream",
     "text": [
      "Train Loss: 0.1547, Train Acc: 0.9397\n",
      "Val Loss: 0.1746, Val Acc: 0.9305\n",
      "Validation loss decreased (0.181100 --> 0.174588).  Saving model ...\n",
      "../HDBScanBased_pjr_saved_model_HDBScanBased/HDBScanBased_PJR_replay_500/2018-01/best_model_epoch_34.pt\n",
      "../HDBScanBased_pjr_saved_optimizer_HDBScanBased/HDBScanBased_PJR_replay_500/2018-01/best_optimizer_epoch_34.pt\n",
      "Epoch 35 of 500\n"
     ]
    },
    {
     "name": "stderr",
     "output_type": "stream",
     "text": [
      "100%|██████████| 9/9 [00:01<00:00,  5.18it/s]\n",
      "100%|██████████| 2/2 [00:00<00:00, 12.85it/s]\n",
      "  0%|          | 0/9 [00:00<?, ?it/s]"
     ]
    },
    {
     "name": "stdout",
     "output_type": "stream",
     "text": [
      "Train Loss: 0.1557, Train Acc: 0.9389\n",
      "Val Loss: 0.1800, Val Acc: 0.9230\n",
      "EarlyStopping counter: 1 out of 5\n",
      "Epoch 36 of 500\n"
     ]
    },
    {
     "name": "stderr",
     "output_type": "stream",
     "text": [
      "100%|██████████| 9/9 [00:01<00:00,  5.39it/s]\n",
      "100%|██████████| 2/2 [00:00<00:00, 14.87it/s]\n",
      "  0%|          | 0/9 [00:00<?, ?it/s]"
     ]
    },
    {
     "name": "stdout",
     "output_type": "stream",
     "text": [
      "Train Loss: 0.1512, Train Acc: 0.9398\n",
      "Val Loss: 0.1778, Val Acc: 0.9252\n",
      "EarlyStopping counter: 2 out of 5\n",
      "Epoch 37 of 500\n"
     ]
    },
    {
     "name": "stderr",
     "output_type": "stream",
     "text": [
      "100%|██████████| 9/9 [00:01<00:00,  4.91it/s]\n",
      "100%|██████████| 2/2 [00:00<00:00,  6.78it/s]\n",
      "  0%|          | 0/9 [00:00<?, ?it/s]"
     ]
    },
    {
     "name": "stdout",
     "output_type": "stream",
     "text": [
      "Train Loss: 0.1537, Train Acc: 0.9392\n",
      "Val Loss: 0.1760, Val Acc: 0.9260\n",
      "EarlyStopping counter: 3 out of 5\n",
      "Epoch 38 of 500\n"
     ]
    },
    {
     "name": "stderr",
     "output_type": "stream",
     "text": [
      "100%|██████████| 9/9 [00:01<00:00,  4.88it/s]\n",
      "100%|██████████| 2/2 [00:00<00:00, 13.70it/s]\n",
      "  0%|          | 0/9 [00:00<?, ?it/s]"
     ]
    },
    {
     "name": "stdout",
     "output_type": "stream",
     "text": [
      "Train Loss: 0.1494, Train Acc: 0.9408\n",
      "Val Loss: 0.1732, Val Acc: 0.9288\n",
      "Validation loss decreased (0.174588 --> 0.173157).  Saving model ...\n",
      "../HDBScanBased_pjr_saved_model_HDBScanBased/HDBScanBased_PJR_replay_500/2018-01/best_model_epoch_38.pt\n",
      "../HDBScanBased_pjr_saved_optimizer_HDBScanBased/HDBScanBased_PJR_replay_500/2018-01/best_optimizer_epoch_38.pt\n",
      "Epoch 39 of 500\n"
     ]
    },
    {
     "name": "stderr",
     "output_type": "stream",
     "text": [
      "100%|██████████| 9/9 [00:01<00:00,  5.07it/s]\n",
      "100%|██████████| 2/2 [00:00<00:00, 12.21it/s]\n",
      "  0%|          | 0/9 [00:00<?, ?it/s]"
     ]
    },
    {
     "name": "stdout",
     "output_type": "stream",
     "text": [
      "Train Loss: 0.1487, Train Acc: 0.9411\n",
      "Val Loss: 0.1753, Val Acc: 0.9262\n",
      "EarlyStopping counter: 1 out of 5\n",
      "Epoch 40 of 500\n"
     ]
    },
    {
     "name": "stderr",
     "output_type": "stream",
     "text": [
      "100%|██████████| 9/9 [00:01<00:00,  5.30it/s]\n",
      "100%|██████████| 2/2 [00:00<00:00, 12.09it/s]\n",
      "  0%|          | 0/9 [00:00<?, ?it/s]"
     ]
    },
    {
     "name": "stdout",
     "output_type": "stream",
     "text": [
      "Train Loss: 0.1416, Train Acc: 0.9446\n",
      "Val Loss: 0.1724, Val Acc: 0.9236\n",
      "Validation loss decreased (0.173157 --> 0.172445).  Saving model ...\n",
      "../HDBScanBased_pjr_saved_model_HDBScanBased/HDBScanBased_PJR_replay_500/2018-01/best_model_epoch_40.pt\n",
      "../HDBScanBased_pjr_saved_optimizer_HDBScanBased/HDBScanBased_PJR_replay_500/2018-01/best_optimizer_epoch_40.pt\n",
      "Epoch 41 of 500\n"
     ]
    },
    {
     "name": "stderr",
     "output_type": "stream",
     "text": [
      "100%|██████████| 9/9 [00:01<00:00,  4.93it/s]\n",
      "100%|██████████| 2/2 [00:00<00:00,  6.94it/s]\n",
      "  0%|          | 0/9 [00:00<?, ?it/s]"
     ]
    },
    {
     "name": "stdout",
     "output_type": "stream",
     "text": [
      "Train Loss: 0.1419, Train Acc: 0.9438\n",
      "Val Loss: 0.1726, Val Acc: 0.9265\n",
      "EarlyStopping counter: 1 out of 5\n",
      "Epoch 42 of 500\n"
     ]
    },
    {
     "name": "stderr",
     "output_type": "stream",
     "text": [
      "100%|██████████| 9/9 [00:01<00:00,  5.29it/s]\n",
      "100%|██████████| 2/2 [00:00<00:00, 13.65it/s]\n",
      "  0%|          | 0/9 [00:00<?, ?it/s]"
     ]
    },
    {
     "name": "stdout",
     "output_type": "stream",
     "text": [
      "Train Loss: 0.1395, Train Acc: 0.9461\n",
      "Val Loss: 0.1688, Val Acc: 0.9274\n",
      "Validation loss decreased (0.172445 --> 0.168802).  Saving model ...\n",
      "../HDBScanBased_pjr_saved_model_HDBScanBased/HDBScanBased_PJR_replay_500/2018-01/best_model_epoch_42.pt\n",
      "../HDBScanBased_pjr_saved_optimizer_HDBScanBased/HDBScanBased_PJR_replay_500/2018-01/best_optimizer_epoch_42.pt\n",
      "Epoch 43 of 500\n"
     ]
    },
    {
     "name": "stderr",
     "output_type": "stream",
     "text": [
      "100%|██████████| 9/9 [00:01<00:00,  5.30it/s]\n",
      "100%|██████████| 2/2 [00:00<00:00, 13.16it/s]\n",
      "  0%|          | 0/9 [00:00<?, ?it/s]"
     ]
    },
    {
     "name": "stdout",
     "output_type": "stream",
     "text": [
      "Train Loss: 0.1411, Train Acc: 0.9453\n",
      "Val Loss: 0.1692, Val Acc: 0.9246\n",
      "EarlyStopping counter: 1 out of 5\n",
      "Epoch 44 of 500\n"
     ]
    },
    {
     "name": "stderr",
     "output_type": "stream",
     "text": [
      "100%|██████████| 9/9 [00:01<00:00,  5.38it/s]\n",
      "100%|██████████| 2/2 [00:00<00:00, 11.78it/s]\n",
      "  0%|          | 0/9 [00:00<?, ?it/s]"
     ]
    },
    {
     "name": "stdout",
     "output_type": "stream",
     "text": [
      "Train Loss: 0.1368, Train Acc: 0.9468\n",
      "Val Loss: 0.1676, Val Acc: 0.9252\n",
      "Validation loss decreased (0.168802 --> 0.167586).  Saving model ...\n",
      "../HDBScanBased_pjr_saved_model_HDBScanBased/HDBScanBased_PJR_replay_500/2018-01/best_model_epoch_44.pt\n",
      "../HDBScanBased_pjr_saved_optimizer_HDBScanBased/HDBScanBased_PJR_replay_500/2018-01/best_optimizer_epoch_44.pt\n",
      "Epoch 45 of 500\n"
     ]
    },
    {
     "name": "stderr",
     "output_type": "stream",
     "text": [
      "100%|██████████| 9/9 [00:01<00:00,  5.14it/s]\n",
      "100%|██████████| 2/2 [00:00<00:00,  7.40it/s]\n",
      "  0%|          | 0/9 [00:00<?, ?it/s]"
     ]
    },
    {
     "name": "stdout",
     "output_type": "stream",
     "text": [
      "Train Loss: 0.1339, Train Acc: 0.9480\n",
      "Val Loss: 0.1680, Val Acc: 0.9248\n",
      "EarlyStopping counter: 1 out of 5\n",
      "Epoch 46 of 500\n"
     ]
    },
    {
     "name": "stderr",
     "output_type": "stream",
     "text": [
      "100%|██████████| 9/9 [00:01<00:00,  5.41it/s]\n",
      "100%|██████████| 2/2 [00:00<00:00, 18.53it/s]\n",
      "  0%|          | 0/9 [00:00<?, ?it/s]"
     ]
    },
    {
     "name": "stdout",
     "output_type": "stream",
     "text": [
      "Train Loss: 0.1316, Train Acc: 0.9484\n",
      "Val Loss: 0.1666, Val Acc: 0.9230\n",
      "Validation loss decreased (0.167586 --> 0.166642).  Saving model ...\n",
      "../HDBScanBased_pjr_saved_model_HDBScanBased/HDBScanBased_PJR_replay_500/2018-01/best_model_epoch_46.pt\n",
      "../HDBScanBased_pjr_saved_optimizer_HDBScanBased/HDBScanBased_PJR_replay_500/2018-01/best_optimizer_epoch_46.pt\n",
      "Epoch 47 of 500\n"
     ]
    },
    {
     "name": "stderr",
     "output_type": "stream",
     "text": [
      "100%|██████████| 9/9 [00:01<00:00,  5.42it/s]\n",
      "100%|██████████| 2/2 [00:00<00:00, 13.89it/s]\n",
      "  0%|          | 0/9 [00:00<?, ?it/s]"
     ]
    },
    {
     "name": "stdout",
     "output_type": "stream",
     "text": [
      "Train Loss: 0.1302, Train Acc: 0.9491\n",
      "Val Loss: 0.1665, Val Acc: 0.9203\n",
      "Validation loss decreased (0.166642 --> 0.166515).  Saving model ...\n",
      "../HDBScanBased_pjr_saved_model_HDBScanBased/HDBScanBased_PJR_replay_500/2018-01/best_model_epoch_47.pt\n",
      "../HDBScanBased_pjr_saved_optimizer_HDBScanBased/HDBScanBased_PJR_replay_500/2018-01/best_optimizer_epoch_47.pt\n",
      "Epoch 48 of 500\n"
     ]
    },
    {
     "name": "stderr",
     "output_type": "stream",
     "text": [
      "100%|██████████| 9/9 [00:01<00:00,  5.10it/s]\n",
      "100%|██████████| 2/2 [00:00<00:00, 14.17it/s]\n",
      "  0%|          | 0/9 [00:00<?, ?it/s]"
     ]
    },
    {
     "name": "stdout",
     "output_type": "stream",
     "text": [
      "Train Loss: 0.1286, Train Acc: 0.9506\n",
      "Val Loss: 0.1623, Val Acc: 0.9283\n",
      "Validation loss decreased (0.166515 --> 0.162267).  Saving model ...\n",
      "../HDBScanBased_pjr_saved_model_HDBScanBased/HDBScanBased_PJR_replay_500/2018-01/best_model_epoch_48.pt\n",
      "../HDBScanBased_pjr_saved_optimizer_HDBScanBased/HDBScanBased_PJR_replay_500/2018-01/best_optimizer_epoch_48.pt\n",
      "Epoch 49 of 500\n"
     ]
    },
    {
     "name": "stderr",
     "output_type": "stream",
     "text": [
      "100%|██████████| 9/9 [00:01<00:00,  5.19it/s]\n",
      "100%|██████████| 2/2 [00:00<00:00,  7.89it/s]\n",
      "  0%|          | 0/9 [00:00<?, ?it/s]"
     ]
    },
    {
     "name": "stdout",
     "output_type": "stream",
     "text": [
      "Train Loss: 0.1258, Train Acc: 0.9516\n",
      "Val Loss: 0.1642, Val Acc: 0.9315\n",
      "EarlyStopping counter: 1 out of 5\n",
      "Epoch 50 of 500\n"
     ]
    },
    {
     "name": "stderr",
     "output_type": "stream",
     "text": [
      "100%|██████████| 9/9 [00:01<00:00,  5.31it/s]\n",
      "100%|██████████| 2/2 [00:00<00:00, 12.46it/s]\n",
      "  0%|          | 0/9 [00:00<?, ?it/s]"
     ]
    },
    {
     "name": "stdout",
     "output_type": "stream",
     "text": [
      "Train Loss: 0.1264, Train Acc: 0.9508\n",
      "Val Loss: 0.1593, Val Acc: 0.9346\n",
      "Validation loss decreased (0.162267 --> 0.159266).  Saving model ...\n",
      "../HDBScanBased_pjr_saved_model_HDBScanBased/HDBScanBased_PJR_replay_500/2018-01/best_model_epoch_50.pt\n",
      "../HDBScanBased_pjr_saved_optimizer_HDBScanBased/HDBScanBased_PJR_replay_500/2018-01/best_optimizer_epoch_50.pt\n",
      "Epoch 51 of 500\n"
     ]
    },
    {
     "name": "stderr",
     "output_type": "stream",
     "text": [
      "100%|██████████| 9/9 [00:01<00:00,  4.94it/s]\n",
      "100%|██████████| 2/2 [00:00<00:00, 14.32it/s]\n",
      "  0%|          | 0/9 [00:00<?, ?it/s]"
     ]
    },
    {
     "name": "stdout",
     "output_type": "stream",
     "text": [
      "Train Loss: 0.1252, Train Acc: 0.9517\n",
      "Val Loss: 0.1593, Val Acc: 0.9344\n",
      "Validation loss decreased (0.159266 --> 0.159252).  Saving model ...\n",
      "../HDBScanBased_pjr_saved_model_HDBScanBased/HDBScanBased_PJR_replay_500/2018-01/best_model_epoch_51.pt\n",
      "../HDBScanBased_pjr_saved_optimizer_HDBScanBased/HDBScanBased_PJR_replay_500/2018-01/best_optimizer_epoch_51.pt\n",
      "Epoch 52 of 500\n"
     ]
    },
    {
     "name": "stderr",
     "output_type": "stream",
     "text": [
      "100%|██████████| 9/9 [00:01<00:00,  5.01it/s]\n",
      "100%|██████████| 2/2 [00:00<00:00,  7.33it/s]\n",
      "  0%|          | 0/9 [00:00<?, ?it/s]"
     ]
    },
    {
     "name": "stdout",
     "output_type": "stream",
     "text": [
      "Train Loss: 0.1193, Train Acc: 0.9542\n",
      "Val Loss: 0.1616, Val Acc: 0.9335\n",
      "EarlyStopping counter: 1 out of 5\n",
      "Epoch 53 of 500\n"
     ]
    },
    {
     "name": "stderr",
     "output_type": "stream",
     "text": [
      "100%|██████████| 9/9 [00:01<00:00,  5.37it/s]\n",
      "100%|██████████| 2/2 [00:00<00:00, 14.18it/s]\n",
      "  0%|          | 0/9 [00:00<?, ?it/s]"
     ]
    },
    {
     "name": "stdout",
     "output_type": "stream",
     "text": [
      "Train Loss: 0.1209, Train Acc: 0.9523\n",
      "Val Loss: 0.1625, Val Acc: 0.9310\n",
      "EarlyStopping counter: 2 out of 5\n",
      "Epoch 54 of 500\n"
     ]
    },
    {
     "name": "stderr",
     "output_type": "stream",
     "text": [
      "100%|██████████| 9/9 [00:01<00:00,  5.39it/s]\n",
      "100%|██████████| 2/2 [00:00<00:00, 14.98it/s]\n",
      "  0%|          | 0/9 [00:00<?, ?it/s]"
     ]
    },
    {
     "name": "stdout",
     "output_type": "stream",
     "text": [
      "Train Loss: 0.1183, Train Acc: 0.9549\n",
      "Val Loss: 0.1622, Val Acc: 0.9288\n",
      "EarlyStopping counter: 3 out of 5\n",
      "Epoch 55 of 500\n"
     ]
    },
    {
     "name": "stderr",
     "output_type": "stream",
     "text": [
      "100%|██████████| 9/9 [00:01<00:00,  5.37it/s]\n",
      "100%|██████████| 2/2 [00:00<00:00, 13.78it/s]\n",
      "  0%|          | 0/9 [00:00<?, ?it/s]"
     ]
    },
    {
     "name": "stdout",
     "output_type": "stream",
     "text": [
      "Train Loss: 0.1168, Train Acc: 0.9550\n",
      "Val Loss: 0.1607, Val Acc: 0.9318\n",
      "EarlyStopping counter: 4 out of 5\n",
      "Epoch 56 of 500\n"
     ]
    },
    {
     "name": "stderr",
     "output_type": "stream",
     "text": [
      "100%|██████████| 9/9 [00:01<00:00,  5.18it/s]\n",
      "100%|██████████| 2/2 [00:00<00:00,  7.45it/s]\n",
      "  0%|          | 0/9 [00:00<?, ?it/s]"
     ]
    },
    {
     "name": "stdout",
     "output_type": "stream",
     "text": [
      "Train Loss: 0.1147, Train Acc: 0.9555\n",
      "Val Loss: 0.1553, Val Acc: 0.9321\n",
      "Validation loss decreased (0.159252 --> 0.155320).  Saving model ...\n",
      "../HDBScanBased_pjr_saved_model_HDBScanBased/HDBScanBased_PJR_replay_500/2018-01/best_model_epoch_56.pt\n",
      "../HDBScanBased_pjr_saved_optimizer_HDBScanBased/HDBScanBased_PJR_replay_500/2018-01/best_optimizer_epoch_56.pt\n",
      "Epoch 57 of 500\n"
     ]
    },
    {
     "name": "stderr",
     "output_type": "stream",
     "text": [
      "100%|██████████| 9/9 [00:01<00:00,  5.38it/s]\n",
      "100%|██████████| 2/2 [00:00<00:00, 12.30it/s]\n",
      "  0%|          | 0/9 [00:00<?, ?it/s]"
     ]
    },
    {
     "name": "stdout",
     "output_type": "stream",
     "text": [
      "Train Loss: 0.1144, Train Acc: 0.9565\n",
      "Val Loss: 0.1547, Val Acc: 0.9380\n",
      "Validation loss decreased (0.155320 --> 0.154666).  Saving model ...\n",
      "../HDBScanBased_pjr_saved_model_HDBScanBased/HDBScanBased_PJR_replay_500/2018-01/best_model_epoch_57.pt\n",
      "../HDBScanBased_pjr_saved_optimizer_HDBScanBased/HDBScanBased_PJR_replay_500/2018-01/best_optimizer_epoch_57.pt\n",
      "Epoch 58 of 500\n"
     ]
    },
    {
     "name": "stderr",
     "output_type": "stream",
     "text": [
      "100%|██████████| 9/9 [00:01<00:00,  5.28it/s]\n",
      "100%|██████████| 2/2 [00:00<00:00, 14.34it/s]\n",
      "  0%|          | 0/9 [00:00<?, ?it/s]"
     ]
    },
    {
     "name": "stdout",
     "output_type": "stream",
     "text": [
      "Train Loss: 0.1133, Train Acc: 0.9564\n",
      "Val Loss: 0.1583, Val Acc: 0.9377\n",
      "EarlyStopping counter: 1 out of 5\n",
      "Epoch 59 of 500\n"
     ]
    },
    {
     "name": "stderr",
     "output_type": "stream",
     "text": [
      "100%|██████████| 9/9 [00:01<00:00,  5.79it/s]\n",
      "100%|██████████| 2/2 [00:00<00:00, 15.49it/s]\n",
      "  0%|          | 0/9 [00:00<?, ?it/s]"
     ]
    },
    {
     "name": "stdout",
     "output_type": "stream",
     "text": [
      "Train Loss: 0.1071, Train Acc: 0.9593\n",
      "Val Loss: 0.1596, Val Acc: 0.9351\n",
      "EarlyStopping counter: 2 out of 5\n",
      "Epoch 60 of 500\n"
     ]
    },
    {
     "name": "stderr",
     "output_type": "stream",
     "text": [
      "100%|██████████| 9/9 [00:01<00:00,  5.59it/s]\n",
      "100%|██████████| 2/2 [00:00<00:00,  7.11it/s]\n",
      "  0%|          | 0/9 [00:00<?, ?it/s]"
     ]
    },
    {
     "name": "stdout",
     "output_type": "stream",
     "text": [
      "Train Loss: 0.1112, Train Acc: 0.9571\n",
      "Val Loss: 0.1597, Val Acc: 0.9351\n",
      "EarlyStopping counter: 3 out of 5\n",
      "Epoch 61 of 500\n"
     ]
    },
    {
     "name": "stderr",
     "output_type": "stream",
     "text": [
      "100%|██████████| 9/9 [00:01<00:00,  5.13it/s]\n",
      "100%|██████████| 2/2 [00:00<00:00, 14.60it/s]\n",
      "  0%|          | 0/9 [00:00<?, ?it/s]"
     ]
    },
    {
     "name": "stdout",
     "output_type": "stream",
     "text": [
      "Train Loss: 0.1109, Train Acc: 0.9573\n",
      "Val Loss: 0.1551, Val Acc: 0.9385\n",
      "EarlyStopping counter: 4 out of 5\n",
      "Epoch 62 of 500\n"
     ]
    },
    {
     "name": "stderr",
     "output_type": "stream",
     "text": [
      "100%|██████████| 9/9 [00:01<00:00,  5.37it/s]\n",
      "100%|██████████| 2/2 [00:00<00:00, 13.85it/s]\n",
      "  0%|          | 0/2 [00:00<?, ?it/s]"
     ]
    },
    {
     "name": "stdout",
     "output_type": "stream",
     "text": [
      "Train Loss: 0.1092, Train Acc: 0.9588\n",
      "Val Loss: 0.1572, Val Acc: 0.9409\n",
      "EarlyStopping counter: 5 out of 5\n",
      "Early stopping\n",
      "Training time: 2.041 minutes\n",
      "loading best model ../HDBScanBased_pjr_saved_model_HDBScanBased/HDBScanBased_PJR_replay_500/2018-01/best_model_epoch_57.pt\n",
      "loading best optimizer ../HDBScanBased_pjr_saved_optimizer_HDBScanBased/HDBScanBased_PJR_replay_500/2018-01/best_optimizer_epoch_57.pt\n"
     ]
    },
    {
     "name": "stderr",
     "output_type": "stream",
     "text": [
      "100%|██████████| 2/2 [00:00<00:00,  3.73it/s]\n"
     ]
    },
    {
     "name": "stdout",
     "output_type": "stream",
     "text": [
      "test accuracy 0.9455416798591614 and ROC-AUC 0.9435437817258884\n",
      "Task Elapsed time 5.3383564949035645 mins.\n",
      "\n",
      "2022-12-16 03:00:42 Round 1 ...\n",
      "Current Task 2018-02 w/ 500 samples to Replay per Malware family.\n",
      "X_train (48723, 2381) Y_train (48723,) Y_tr_family (48723,)\n",
      "X_test (11606, 2381) Y_test (11606,) Y_te_family (11606,)\n",
      "2022-12-16 03:00:43 Standardizing ...\n",
      "Task 2018-02 and #-of new samples stored 48723\n",
      "pre_malware_samples 26960\n",
      "pre_goodware_samples 26960\n"
     ]
    },
    {
     "name": "stderr",
     "output_type": "stream",
     "text": [
      "\r",
      "  0%|          | 0/8 [00:00<?, ?it/s]"
     ]
    },
    {
     "name": "stdout",
     "output_type": "stream",
     "text": [
      "good 26960 mal 26960\n",
      "True\n",
      "task 2018-02 exemplars used 26960\n",
      "Current Training - X_train (53920, 2381) \n",
      "2022-12-16 03:03:47 Training ...\n",
      "Epoch 1 of 500\n"
     ]
    },
    {
     "name": "stderr",
     "output_type": "stream",
     "text": [
      "100%|██████████| 8/8 [00:01<00:00,  6.09it/s]\n",
      "100%|██████████| 2/2 [00:00<00:00,  4.30it/s]\n",
      "  0%|          | 0/8 [00:00<?, ?it/s]"
     ]
    },
    {
     "name": "stdout",
     "output_type": "stream",
     "text": [
      "Train Loss: 0.2599, Train Acc: 0.9019\n",
      "Val Loss: 0.2007, Val Acc: 0.9273\n",
      "Validation loss decreased (inf --> 0.200655).  Saving model ...\n",
      "../HDBScanBased_pjr_saved_model_HDBScanBased/HDBScanBased_PJR_replay_500/2018-02/best_model_epoch_1.pt\n",
      "../HDBScanBased_pjr_saved_optimizer_HDBScanBased/HDBScanBased_PJR_replay_500/2018-02/best_optimizer_epoch_1.pt\n",
      "Epoch 2 of 500\n"
     ]
    },
    {
     "name": "stderr",
     "output_type": "stream",
     "text": [
      "100%|██████████| 8/8 [00:01<00:00,  5.17it/s]\n",
      "100%|██████████| 2/2 [00:00<00:00,  7.97it/s]\n",
      "  0%|          | 0/8 [00:00<?, ?it/s]"
     ]
    },
    {
     "name": "stdout",
     "output_type": "stream",
     "text": [
      "Train Loss: 0.2366, Train Acc: 0.9111\n",
      "Val Loss: 0.2000, Val Acc: 0.9263\n",
      "Validation loss decreased (0.200655 --> 0.200025).  Saving model ...\n",
      "../HDBScanBased_pjr_saved_model_HDBScanBased/HDBScanBased_PJR_replay_500/2018-02/best_model_epoch_2.pt\n",
      "../HDBScanBased_pjr_saved_optimizer_HDBScanBased/HDBScanBased_PJR_replay_500/2018-02/best_optimizer_epoch_2.pt\n",
      "Epoch 3 of 500\n"
     ]
    },
    {
     "name": "stderr",
     "output_type": "stream",
     "text": [
      "100%|██████████| 8/8 [00:01<00:00,  5.14it/s]\n",
      "100%|██████████| 2/2 [00:00<00:00,  5.40it/s]\n",
      "  0%|          | 0/8 [00:00<?, ?it/s]"
     ]
    },
    {
     "name": "stdout",
     "output_type": "stream",
     "text": [
      "Train Loss: 0.2213, Train Acc: 0.9141\n",
      "Val Loss: 0.1880, Val Acc: 0.9305\n",
      "Validation loss decreased (0.200025 --> 0.187977).  Saving model ...\n",
      "../HDBScanBased_pjr_saved_model_HDBScanBased/HDBScanBased_PJR_replay_500/2018-02/best_model_epoch_3.pt\n",
      "../HDBScanBased_pjr_saved_optimizer_HDBScanBased/HDBScanBased_PJR_replay_500/2018-02/best_optimizer_epoch_3.pt\n",
      "Epoch 4 of 500\n"
     ]
    },
    {
     "name": "stderr",
     "output_type": "stream",
     "text": [
      "100%|██████████| 8/8 [00:01<00:00,  5.14it/s]\n",
      "100%|██████████| 2/2 [00:00<00:00,  7.81it/s]\n",
      "  0%|          | 0/8 [00:00<?, ?it/s]"
     ]
    },
    {
     "name": "stdout",
     "output_type": "stream",
     "text": [
      "Train Loss: 0.2118, Train Acc: 0.9170\n",
      "Val Loss: 0.1841, Val Acc: 0.9311\n",
      "Validation loss decreased (0.187977 --> 0.184138).  Saving model ...\n",
      "../HDBScanBased_pjr_saved_model_HDBScanBased/HDBScanBased_PJR_replay_500/2018-02/best_model_epoch_4.pt\n",
      "../HDBScanBased_pjr_saved_optimizer_HDBScanBased/HDBScanBased_PJR_replay_500/2018-02/best_optimizer_epoch_4.pt\n",
      "Epoch 5 of 500\n"
     ]
    },
    {
     "name": "stderr",
     "output_type": "stream",
     "text": [
      "100%|██████████| 8/8 [00:01<00:00,  5.05it/s]\n",
      "100%|██████████| 2/2 [00:00<00:00,  7.94it/s]\n",
      "  0%|          | 0/8 [00:00<?, ?it/s]"
     ]
    },
    {
     "name": "stdout",
     "output_type": "stream",
     "text": [
      "Train Loss: 0.2059, Train Acc: 0.9188\n",
      "Val Loss: 0.1829, Val Acc: 0.9312\n",
      "Validation loss decreased (0.184138 --> 0.182873).  Saving model ...\n",
      "../HDBScanBased_pjr_saved_model_HDBScanBased/HDBScanBased_PJR_replay_500/2018-02/best_model_epoch_5.pt\n",
      "../HDBScanBased_pjr_saved_optimizer_HDBScanBased/HDBScanBased_PJR_replay_500/2018-02/best_optimizer_epoch_5.pt\n",
      "Epoch 6 of 500\n"
     ]
    },
    {
     "name": "stderr",
     "output_type": "stream",
     "text": [
      "100%|██████████| 8/8 [00:01<00:00,  5.11it/s]\n",
      "100%|██████████| 2/2 [00:00<00:00,  6.96it/s]\n",
      "  0%|          | 0/8 [00:00<?, ?it/s]"
     ]
    },
    {
     "name": "stdout",
     "output_type": "stream",
     "text": [
      "Train Loss: 0.1991, Train Acc: 0.9210\n",
      "Val Loss: 0.1815, Val Acc: 0.9311\n",
      "Validation loss decreased (0.182873 --> 0.181459).  Saving model ...\n",
      "../HDBScanBased_pjr_saved_model_HDBScanBased/HDBScanBased_PJR_replay_500/2018-02/best_model_epoch_6.pt\n",
      "../HDBScanBased_pjr_saved_optimizer_HDBScanBased/HDBScanBased_PJR_replay_500/2018-02/best_optimizer_epoch_6.pt\n",
      "Epoch 7 of 500\n"
     ]
    },
    {
     "name": "stderr",
     "output_type": "stream",
     "text": [
      "100%|██████████| 8/8 [00:01<00:00,  4.38it/s]\n",
      "100%|██████████| 2/2 [00:00<00:00,  8.28it/s]\n",
      "  0%|          | 0/8 [00:00<?, ?it/s]"
     ]
    },
    {
     "name": "stdout",
     "output_type": "stream",
     "text": [
      "Train Loss: 0.1881, Train Acc: 0.9251\n",
      "Val Loss: 0.1775, Val Acc: 0.9330\n",
      "Validation loss decreased (0.181459 --> 0.177469).  Saving model ...\n",
      "../HDBScanBased_pjr_saved_model_HDBScanBased/HDBScanBased_PJR_replay_500/2018-02/best_model_epoch_7.pt\n",
      "../HDBScanBased_pjr_saved_optimizer_HDBScanBased/HDBScanBased_PJR_replay_500/2018-02/best_optimizer_epoch_7.pt\n",
      "Epoch 8 of 500\n"
     ]
    },
    {
     "name": "stderr",
     "output_type": "stream",
     "text": [
      "100%|██████████| 8/8 [00:01<00:00,  4.50it/s]\n",
      "100%|██████████| 2/2 [00:00<00:00,  9.44it/s]\n",
      "  0%|          | 0/8 [00:00<?, ?it/s]"
     ]
    },
    {
     "name": "stdout",
     "output_type": "stream",
     "text": [
      "Train Loss: 0.1964, Train Acc: 0.9224\n",
      "Val Loss: 0.1746, Val Acc: 0.9330\n",
      "Validation loss decreased (0.177469 --> 0.174591).  Saving model ...\n",
      "../HDBScanBased_pjr_saved_model_HDBScanBased/HDBScanBased_PJR_replay_500/2018-02/best_model_epoch_8.pt\n",
      "../HDBScanBased_pjr_saved_optimizer_HDBScanBased/HDBScanBased_PJR_replay_500/2018-02/best_optimizer_epoch_8.pt\n",
      "Epoch 9 of 500\n"
     ]
    },
    {
     "name": "stderr",
     "output_type": "stream",
     "text": [
      "100%|██████████| 8/8 [00:01<00:00,  4.91it/s]\n",
      "100%|██████████| 2/2 [00:00<00:00,  5.75it/s]\n",
      "  0%|          | 0/8 [00:00<?, ?it/s]"
     ]
    },
    {
     "name": "stdout",
     "output_type": "stream",
     "text": [
      "Train Loss: 0.1863, Train Acc: 0.9269\n",
      "Val Loss: 0.1719, Val Acc: 0.9353\n",
      "Validation loss decreased (0.174591 --> 0.171917).  Saving model ...\n",
      "../HDBScanBased_pjr_saved_model_HDBScanBased/HDBScanBased_PJR_replay_500/2018-02/best_model_epoch_9.pt\n",
      "../HDBScanBased_pjr_saved_optimizer_HDBScanBased/HDBScanBased_PJR_replay_500/2018-02/best_optimizer_epoch_9.pt\n",
      "Epoch 10 of 500\n"
     ]
    },
    {
     "name": "stderr",
     "output_type": "stream",
     "text": [
      "100%|██████████| 8/8 [00:01<00:00,  5.06it/s]\n",
      "100%|██████████| 2/2 [00:00<00:00,  9.28it/s]\n",
      "  0%|          | 0/8 [00:00<?, ?it/s]"
     ]
    },
    {
     "name": "stdout",
     "output_type": "stream",
     "text": [
      "Train Loss: 0.1851, Train Acc: 0.9260\n",
      "Val Loss: 0.1700, Val Acc: 0.9348\n",
      "Validation loss decreased (0.171917 --> 0.169965).  Saving model ...\n",
      "../HDBScanBased_pjr_saved_model_HDBScanBased/HDBScanBased_PJR_replay_500/2018-02/best_model_epoch_10.pt\n",
      "../HDBScanBased_pjr_saved_optimizer_HDBScanBased/HDBScanBased_PJR_replay_500/2018-02/best_optimizer_epoch_10.pt\n",
      "Epoch 11 of 500\n"
     ]
    },
    {
     "name": "stderr",
     "output_type": "stream",
     "text": [
      "100%|██████████| 8/8 [00:01<00:00,  5.23it/s]\n",
      "100%|██████████| 2/2 [00:00<00:00,  5.90it/s]\n",
      "  0%|          | 0/8 [00:00<?, ?it/s]"
     ]
    },
    {
     "name": "stdout",
     "output_type": "stream",
     "text": [
      "Train Loss: 0.1810, Train Acc: 0.9271\n",
      "Val Loss: 0.1692, Val Acc: 0.9347\n",
      "Validation loss decreased (0.169965 --> 0.169200).  Saving model ...\n",
      "../HDBScanBased_pjr_saved_model_HDBScanBased/HDBScanBased_PJR_replay_500/2018-02/best_model_epoch_11.pt\n",
      "../HDBScanBased_pjr_saved_optimizer_HDBScanBased/HDBScanBased_PJR_replay_500/2018-02/best_optimizer_epoch_11.pt\n",
      "Epoch 12 of 500\n"
     ]
    },
    {
     "name": "stderr",
     "output_type": "stream",
     "text": [
      "100%|██████████| 8/8 [00:01<00:00,  5.07it/s]\n",
      "100%|██████████| 2/2 [00:00<00:00,  8.57it/s]\n",
      "  0%|          | 0/8 [00:00<?, ?it/s]"
     ]
    },
    {
     "name": "stdout",
     "output_type": "stream",
     "text": [
      "Train Loss: 0.1788, Train Acc: 0.9290\n",
      "Val Loss: 0.1710, Val Acc: 0.9349\n",
      "EarlyStopping counter: 1 out of 5\n",
      "Epoch 13 of 500\n"
     ]
    },
    {
     "name": "stderr",
     "output_type": "stream",
     "text": [
      "100%|██████████| 8/8 [00:01<00:00,  4.80it/s]\n",
      "100%|██████████| 2/2 [00:00<00:00,  5.34it/s]\n",
      "  0%|          | 0/8 [00:00<?, ?it/s]"
     ]
    },
    {
     "name": "stdout",
     "output_type": "stream",
     "text": [
      "Train Loss: 0.1756, Train Acc: 0.9295\n",
      "Val Loss: 0.1684, Val Acc: 0.9358\n",
      "Validation loss decreased (0.169200 --> 0.168380).  Saving model ...\n",
      "../HDBScanBased_pjr_saved_model_HDBScanBased/HDBScanBased_PJR_replay_500/2018-02/best_model_epoch_13.pt\n",
      "../HDBScanBased_pjr_saved_optimizer_HDBScanBased/HDBScanBased_PJR_replay_500/2018-02/best_optimizer_epoch_13.pt\n",
      "Epoch 14 of 500\n"
     ]
    },
    {
     "name": "stderr",
     "output_type": "stream",
     "text": [
      "100%|██████████| 8/8 [00:01<00:00,  4.58it/s]\n",
      "100%|██████████| 2/2 [00:00<00:00,  8.74it/s]\n",
      "  0%|          | 0/8 [00:00<?, ?it/s]"
     ]
    },
    {
     "name": "stdout",
     "output_type": "stream",
     "text": [
      "Train Loss: 0.1710, Train Acc: 0.9323\n",
      "Val Loss: 0.1666, Val Acc: 0.9360\n",
      "Validation loss decreased (0.168380 --> 0.166589).  Saving model ...\n",
      "../HDBScanBased_pjr_saved_model_HDBScanBased/HDBScanBased_PJR_replay_500/2018-02/best_model_epoch_14.pt\n",
      "../HDBScanBased_pjr_saved_optimizer_HDBScanBased/HDBScanBased_PJR_replay_500/2018-02/best_optimizer_epoch_14.pt\n",
      "Epoch 15 of 500\n"
     ]
    },
    {
     "name": "stderr",
     "output_type": "stream",
     "text": [
      "100%|██████████| 8/8 [00:01<00:00,  4.91it/s]\n",
      "100%|██████████| 2/2 [00:00<00:00,  5.13it/s]\n",
      "  0%|          | 0/8 [00:00<?, ?it/s]"
     ]
    },
    {
     "name": "stdout",
     "output_type": "stream",
     "text": [
      "Train Loss: 0.1713, Train Acc: 0.9317\n",
      "Val Loss: 0.1657, Val Acc: 0.9365\n",
      "Validation loss decreased (0.166589 --> 0.165736).  Saving model ...\n",
      "../HDBScanBased_pjr_saved_model_HDBScanBased/HDBScanBased_PJR_replay_500/2018-02/best_model_epoch_15.pt\n",
      "../HDBScanBased_pjr_saved_optimizer_HDBScanBased/HDBScanBased_PJR_replay_500/2018-02/best_optimizer_epoch_15.pt\n",
      "Epoch 16 of 500\n"
     ]
    },
    {
     "name": "stderr",
     "output_type": "stream",
     "text": [
      "100%|██████████| 8/8 [00:01<00:00,  4.50it/s]\n",
      "100%|██████████| 2/2 [00:00<00:00,  6.48it/s]\n",
      "  0%|          | 0/8 [00:00<?, ?it/s]"
     ]
    },
    {
     "name": "stdout",
     "output_type": "stream",
     "text": [
      "Train Loss: 0.1700, Train Acc: 0.9325\n",
      "Val Loss: 0.1665, Val Acc: 0.9362\n",
      "EarlyStopping counter: 1 out of 5\n",
      "Epoch 17 of 500\n"
     ]
    },
    {
     "name": "stderr",
     "output_type": "stream",
     "text": [
      "100%|██████████| 8/8 [00:01<00:00,  4.96it/s]\n",
      "100%|██████████| 2/2 [00:00<00:00,  4.65it/s]\n",
      "  0%|          | 0/8 [00:00<?, ?it/s]"
     ]
    },
    {
     "name": "stdout",
     "output_type": "stream",
     "text": [
      "Train Loss: 0.1667, Train Acc: 0.9346\n",
      "Val Loss: 0.1645, Val Acc: 0.9378\n",
      "Validation loss decreased (0.165736 --> 0.164511).  Saving model ...\n",
      "../HDBScanBased_pjr_saved_model_HDBScanBased/HDBScanBased_PJR_replay_500/2018-02/best_model_epoch_17.pt\n",
      "../HDBScanBased_pjr_saved_optimizer_HDBScanBased/HDBScanBased_PJR_replay_500/2018-02/best_optimizer_epoch_17.pt\n",
      "Epoch 18 of 500\n"
     ]
    },
    {
     "name": "stderr",
     "output_type": "stream",
     "text": [
      "100%|██████████| 8/8 [00:01<00:00,  4.85it/s]\n",
      "100%|██████████| 2/2 [00:00<00:00,  7.93it/s]\n",
      "  0%|          | 0/8 [00:00<?, ?it/s]"
     ]
    },
    {
     "name": "stdout",
     "output_type": "stream",
     "text": [
      "Train Loss: 0.1639, Train Acc: 0.9352\n",
      "Val Loss: 0.1637, Val Acc: 0.9386\n",
      "Validation loss decreased (0.164511 --> 0.163694).  Saving model ...\n",
      "../HDBScanBased_pjr_saved_model_HDBScanBased/HDBScanBased_PJR_replay_500/2018-02/best_model_epoch_18.pt\n",
      "../HDBScanBased_pjr_saved_optimizer_HDBScanBased/HDBScanBased_PJR_replay_500/2018-02/best_optimizer_epoch_18.pt\n",
      "Epoch 19 of 500\n"
     ]
    },
    {
     "name": "stderr",
     "output_type": "stream",
     "text": [
      "100%|██████████| 8/8 [00:01<00:00,  4.97it/s]\n",
      "100%|██████████| 2/2 [00:00<00:00,  4.56it/s]\n",
      "  0%|          | 0/8 [00:00<?, ?it/s]"
     ]
    },
    {
     "name": "stdout",
     "output_type": "stream",
     "text": [
      "Train Loss: 0.1602, Train Acc: 0.9366\n",
      "Val Loss: 0.1648, Val Acc: 0.9382\n",
      "EarlyStopping counter: 1 out of 5\n",
      "Epoch 20 of 500\n"
     ]
    },
    {
     "name": "stderr",
     "output_type": "stream",
     "text": [
      "100%|██████████| 8/8 [00:01<00:00,  4.90it/s]\n",
      "100%|██████████| 2/2 [00:00<00:00,  8.58it/s]\n",
      "  0%|          | 0/8 [00:00<?, ?it/s]"
     ]
    },
    {
     "name": "stdout",
     "output_type": "stream",
     "text": [
      "Train Loss: 0.1583, Train Acc: 0.9372\n",
      "Val Loss: 0.1619, Val Acc: 0.9394\n",
      "Validation loss decreased (0.163694 --> 0.161853).  Saving model ...\n",
      "../HDBScanBased_pjr_saved_model_HDBScanBased/HDBScanBased_PJR_replay_500/2018-02/best_model_epoch_20.pt\n",
      "../HDBScanBased_pjr_saved_optimizer_HDBScanBased/HDBScanBased_PJR_replay_500/2018-02/best_optimizer_epoch_20.pt\n",
      "Epoch 21 of 500\n"
     ]
    },
    {
     "name": "stderr",
     "output_type": "stream",
     "text": [
      "100%|██████████| 8/8 [00:01<00:00,  5.37it/s]\n",
      "100%|██████████| 2/2 [00:00<00:00,  5.45it/s]\n",
      "  0%|          | 0/8 [00:00<?, ?it/s]"
     ]
    },
    {
     "name": "stdout",
     "output_type": "stream",
     "text": [
      "Train Loss: 0.1581, Train Acc: 0.9375\n",
      "Val Loss: 0.1637, Val Acc: 0.9376\n",
      "EarlyStopping counter: 1 out of 5\n",
      "Epoch 22 of 500\n"
     ]
    },
    {
     "name": "stderr",
     "output_type": "stream",
     "text": [
      "100%|██████████| 8/8 [00:01<00:00,  5.41it/s]\n",
      "100%|██████████| 2/2 [00:00<00:00,  8.96it/s]\n",
      "  0%|          | 0/8 [00:00<?, ?it/s]"
     ]
    },
    {
     "name": "stdout",
     "output_type": "stream",
     "text": [
      "Train Loss: 0.1541, Train Acc: 0.9380\n",
      "Val Loss: 0.1610, Val Acc: 0.9411\n",
      "Validation loss decreased (0.161853 --> 0.160952).  Saving model ...\n",
      "../HDBScanBased_pjr_saved_model_HDBScanBased/HDBScanBased_PJR_replay_500/2018-02/best_model_epoch_22.pt\n",
      "../HDBScanBased_pjr_saved_optimizer_HDBScanBased/HDBScanBased_PJR_replay_500/2018-02/best_optimizer_epoch_22.pt\n",
      "Epoch 23 of 500\n"
     ]
    },
    {
     "name": "stderr",
     "output_type": "stream",
     "text": [
      "100%|██████████| 8/8 [00:01<00:00,  5.42it/s]\n",
      "100%|██████████| 2/2 [00:00<00:00,  4.90it/s]\n",
      "  0%|          | 0/8 [00:00<?, ?it/s]"
     ]
    },
    {
     "name": "stdout",
     "output_type": "stream",
     "text": [
      "Train Loss: 0.1513, Train Acc: 0.9409\n",
      "Val Loss: 0.1612, Val Acc: 0.9409\n",
      "EarlyStopping counter: 1 out of 5\n",
      "Epoch 24 of 500\n"
     ]
    },
    {
     "name": "stderr",
     "output_type": "stream",
     "text": [
      "100%|██████████| 8/8 [00:01<00:00,  5.36it/s]\n",
      "100%|██████████| 2/2 [00:00<00:00,  8.93it/s]\n",
      "  0%|          | 0/8 [00:00<?, ?it/s]"
     ]
    },
    {
     "name": "stdout",
     "output_type": "stream",
     "text": [
      "Train Loss: 0.1492, Train Acc: 0.9418\n",
      "Val Loss: 0.1613, Val Acc: 0.9407\n",
      "EarlyStopping counter: 2 out of 5\n",
      "Epoch 25 of 500\n"
     ]
    },
    {
     "name": "stderr",
     "output_type": "stream",
     "text": [
      "100%|██████████| 8/8 [00:01<00:00,  5.04it/s]\n",
      "100%|██████████| 2/2 [00:00<00:00,  5.22it/s]\n",
      "  0%|          | 0/8 [00:00<?, ?it/s]"
     ]
    },
    {
     "name": "stdout",
     "output_type": "stream",
     "text": [
      "Train Loss: 0.1514, Train Acc: 0.9401\n",
      "Val Loss: 0.1614, Val Acc: 0.9412\n",
      "EarlyStopping counter: 3 out of 5\n",
      "Epoch 26 of 500\n"
     ]
    },
    {
     "name": "stderr",
     "output_type": "stream",
     "text": [
      "100%|██████████| 8/8 [00:01<00:00,  4.93it/s]\n",
      "100%|██████████| 2/2 [00:00<00:00,  9.07it/s]\n",
      "  0%|          | 0/8 [00:00<?, ?it/s]"
     ]
    },
    {
     "name": "stdout",
     "output_type": "stream",
     "text": [
      "Train Loss: 0.1498, Train Acc: 0.9406\n",
      "Val Loss: 0.1587, Val Acc: 0.9426\n",
      "Validation loss decreased (0.160952 --> 0.158707).  Saving model ...\n",
      "../HDBScanBased_pjr_saved_model_HDBScanBased/HDBScanBased_PJR_replay_500/2018-02/best_model_epoch_26.pt\n",
      "../HDBScanBased_pjr_saved_optimizer_HDBScanBased/HDBScanBased_PJR_replay_500/2018-02/best_optimizer_epoch_26.pt\n",
      "Epoch 27 of 500\n"
     ]
    },
    {
     "name": "stderr",
     "output_type": "stream",
     "text": [
      "100%|██████████| 8/8 [00:01<00:00,  5.03it/s]\n",
      "100%|██████████| 2/2 [00:00<00:00,  5.93it/s]\n",
      "  0%|          | 0/8 [00:00<?, ?it/s]"
     ]
    },
    {
     "name": "stdout",
     "output_type": "stream",
     "text": [
      "Train Loss: 0.1473, Train Acc: 0.9420\n",
      "Val Loss: 0.1603, Val Acc: 0.9412\n",
      "EarlyStopping counter: 1 out of 5\n",
      "Epoch 28 of 500\n"
     ]
    },
    {
     "name": "stderr",
     "output_type": "stream",
     "text": [
      "100%|██████████| 8/8 [00:01<00:00,  4.94it/s]\n",
      "100%|██████████| 2/2 [00:00<00:00,  8.41it/s]\n",
      "  0%|          | 0/8 [00:00<?, ?it/s]"
     ]
    },
    {
     "name": "stdout",
     "output_type": "stream",
     "text": [
      "Train Loss: 0.1478, Train Acc: 0.9425\n",
      "Val Loss: 0.1615, Val Acc: 0.9418\n",
      "EarlyStopping counter: 2 out of 5\n",
      "Epoch 29 of 500\n"
     ]
    },
    {
     "name": "stderr",
     "output_type": "stream",
     "text": [
      "100%|██████████| 8/8 [00:01<00:00,  5.04it/s]\n",
      "100%|██████████| 2/2 [00:00<00:00,  5.31it/s]\n",
      "  0%|          | 0/8 [00:00<?, ?it/s]"
     ]
    },
    {
     "name": "stdout",
     "output_type": "stream",
     "text": [
      "Train Loss: 0.1428, Train Acc: 0.9448\n",
      "Val Loss: 0.1619, Val Acc: 0.9406\n",
      "EarlyStopping counter: 3 out of 5\n",
      "Epoch 30 of 500\n"
     ]
    },
    {
     "name": "stderr",
     "output_type": "stream",
     "text": [
      "100%|██████████| 8/8 [00:01<00:00,  4.98it/s]\n",
      "100%|██████████| 2/2 [00:00<00:00,  9.15it/s]\n",
      "  0%|          | 0/8 [00:00<?, ?it/s]"
     ]
    },
    {
     "name": "stdout",
     "output_type": "stream",
     "text": [
      "Train Loss: 0.1398, Train Acc: 0.9444\n",
      "Val Loss: 0.1599, Val Acc: 0.9412\n",
      "EarlyStopping counter: 4 out of 5\n",
      "Epoch 31 of 500\n"
     ]
    },
    {
     "name": "stderr",
     "output_type": "stream",
     "text": [
      "100%|██████████| 8/8 [00:01<00:00,  5.05it/s]\n",
      "100%|██████████| 2/2 [00:00<00:00,  4.91it/s]\n",
      "  0%|          | 0/2 [00:00<?, ?it/s]"
     ]
    },
    {
     "name": "stdout",
     "output_type": "stream",
     "text": [
      "Train Loss: 0.1413, Train Acc: 0.9445\n",
      "Val Loss: 0.1614, Val Acc: 0.9405\n",
      "EarlyStopping counter: 5 out of 5\n",
      "Early stopping\n",
      "Training time: 1.023 minutes\n",
      "loading best model ../HDBScanBased_pjr_saved_model_HDBScanBased/HDBScanBased_PJR_replay_500/2018-02/best_model_epoch_26.pt\n",
      "loading best optimizer ../HDBScanBased_pjr_saved_optimizer_HDBScanBased/HDBScanBased_PJR_replay_500/2018-02/best_optimizer_epoch_26.pt\n"
     ]
    },
    {
     "name": "stderr",
     "output_type": "stream",
     "text": [
      "100%|██████████| 2/2 [00:00<00:00,  3.02it/s]\n"
     ]
    },
    {
     "name": "stdout",
     "output_type": "stream",
     "text": [
      "test accuracy 0.9390626847743988 and ROC-AUC 0.9393101663363084\n",
      "Task Elapsed time 4.111641995112101 mins.\n",
      "\n",
      "2022-12-16 03:04:49 Round 1 ...\n",
      "Current Task 2018-03 w/ 500 samples to Replay per Malware family.\n",
      "X_train (37372, 2381) Y_train (37372,) Y_tr_family (37372,)\n",
      "X_test (15759, 2381) Y_test (15759,) Y_te_family (15759,)\n",
      "2022-12-16 03:04:50 Standardizing ...\n",
      "Task 2018-03 and #-of new samples stored 37372\n",
      "pre_malware_samples 34524\n",
      "pre_goodware_samples 34524\n"
     ]
    },
    {
     "name": "stderr",
     "output_type": "stream",
     "text": [
      "\r",
      "  0%|          | 0/11 [00:00<?, ?it/s]"
     ]
    },
    {
     "name": "stdout",
     "output_type": "stream",
     "text": [
      "good 34524 mal 34524\n",
      "True\n",
      "task 2018-03 exemplars used 34524\n",
      "Current Training - X_train (69048, 2381) \n",
      "2022-12-16 03:06:40 Training ...\n",
      "Epoch 1 of 500\n"
     ]
    },
    {
     "name": "stderr",
     "output_type": "stream",
     "text": [
      "100%|██████████| 11/11 [00:02<00:00,  5.25it/s]\n",
      "100%|██████████| 3/3 [00:00<00:00,  7.20it/s]\n",
      "  0%|          | 0/11 [00:00<?, ?it/s]"
     ]
    },
    {
     "name": "stdout",
     "output_type": "stream",
     "text": [
      "Train Loss: 0.2027, Train Acc: 0.9212\n",
      "Val Loss: 0.1945, Val Acc: 0.9284\n",
      "Validation loss decreased (inf --> 0.194531).  Saving model ...\n",
      "../HDBScanBased_pjr_saved_model_HDBScanBased/HDBScanBased_PJR_replay_500/2018-03/best_model_epoch_1.pt\n",
      "../HDBScanBased_pjr_saved_optimizer_HDBScanBased/HDBScanBased_PJR_replay_500/2018-03/best_optimizer_epoch_1.pt\n",
      "Epoch 2 of 500\n"
     ]
    },
    {
     "name": "stderr",
     "output_type": "stream",
     "text": [
      "100%|██████████| 11/11 [00:02<00:00,  4.73it/s]\n",
      "100%|██████████| 3/3 [00:00<00:00,  5.76it/s]\n",
      "  0%|          | 0/11 [00:00<?, ?it/s]"
     ]
    },
    {
     "name": "stdout",
     "output_type": "stream",
     "text": [
      "Train Loss: 0.1983, Train Acc: 0.9226\n",
      "Val Loss: 0.1918, Val Acc: 0.9296\n",
      "Validation loss decreased (0.194531 --> 0.191794).  Saving model ...\n",
      "../HDBScanBased_pjr_saved_model_HDBScanBased/HDBScanBased_PJR_replay_500/2018-03/best_model_epoch_2.pt\n",
      "../HDBScanBased_pjr_saved_optimizer_HDBScanBased/HDBScanBased_PJR_replay_500/2018-03/best_optimizer_epoch_2.pt\n",
      "Epoch 3 of 500\n"
     ]
    },
    {
     "name": "stderr",
     "output_type": "stream",
     "text": [
      "100%|██████████| 11/11 [00:02<00:00,  5.43it/s]\n",
      "100%|██████████| 3/3 [00:00<00:00,  5.91it/s]\n",
      "  0%|          | 0/11 [00:00<?, ?it/s]"
     ]
    },
    {
     "name": "stdout",
     "output_type": "stream",
     "text": [
      "Train Loss: 0.1905, Train Acc: 0.9246\n",
      "Val Loss: 0.1877, Val Acc: 0.9319\n",
      "Validation loss decreased (0.191794 --> 0.187742).  Saving model ...\n",
      "../HDBScanBased_pjr_saved_model_HDBScanBased/HDBScanBased_PJR_replay_500/2018-03/best_model_epoch_3.pt\n",
      "../HDBScanBased_pjr_saved_optimizer_HDBScanBased/HDBScanBased_PJR_replay_500/2018-03/best_optimizer_epoch_3.pt\n",
      "Epoch 4 of 500\n"
     ]
    },
    {
     "name": "stderr",
     "output_type": "stream",
     "text": [
      "100%|██████████| 11/11 [00:02<00:00,  5.30it/s]\n",
      "100%|██████████| 3/3 [00:00<00:00,  9.11it/s]\n",
      "  0%|          | 0/11 [00:00<?, ?it/s]"
     ]
    },
    {
     "name": "stdout",
     "output_type": "stream",
     "text": [
      "Train Loss: 0.1842, Train Acc: 0.9277\n",
      "Val Loss: 0.1772, Val Acc: 0.9351\n",
      "Validation loss decreased (0.187742 --> 0.177243).  Saving model ...\n",
      "../HDBScanBased_pjr_saved_model_HDBScanBased/HDBScanBased_PJR_replay_500/2018-03/best_model_epoch_4.pt\n",
      "../HDBScanBased_pjr_saved_optimizer_HDBScanBased/HDBScanBased_PJR_replay_500/2018-03/best_optimizer_epoch_4.pt\n",
      "Epoch 5 of 500\n"
     ]
    },
    {
     "name": "stderr",
     "output_type": "stream",
     "text": [
      "100%|██████████| 11/11 [00:02<00:00,  5.29it/s]\n",
      "100%|██████████| 3/3 [00:00<00:00,  5.68it/s]\n",
      "  0%|          | 0/11 [00:00<?, ?it/s]"
     ]
    },
    {
     "name": "stdout",
     "output_type": "stream",
     "text": [
      "Train Loss: 0.1777, Train Acc: 0.9297\n",
      "Val Loss: 0.1777, Val Acc: 0.9342\n",
      "EarlyStopping counter: 1 out of 5\n",
      "Epoch 6 of 500\n"
     ]
    },
    {
     "name": "stderr",
     "output_type": "stream",
     "text": [
      "100%|██████████| 11/11 [00:02<00:00,  5.29it/s]\n",
      "100%|██████████| 3/3 [00:00<00:00,  6.11it/s]\n",
      "  0%|          | 0/11 [00:00<?, ?it/s]"
     ]
    },
    {
     "name": "stdout",
     "output_type": "stream",
     "text": [
      "Train Loss: 0.1788, Train Acc: 0.9298\n",
      "Val Loss: 0.1768, Val Acc: 0.9339\n",
      "Validation loss decreased (0.177243 --> 0.176806).  Saving model ...\n",
      "../HDBScanBased_pjr_saved_model_HDBScanBased/HDBScanBased_PJR_replay_500/2018-03/best_model_epoch_6.pt\n",
      "../HDBScanBased_pjr_saved_optimizer_HDBScanBased/HDBScanBased_PJR_replay_500/2018-03/best_optimizer_epoch_6.pt\n",
      "Epoch 7 of 500\n"
     ]
    },
    {
     "name": "stderr",
     "output_type": "stream",
     "text": [
      "100%|██████████| 11/11 [00:02<00:00,  4.97it/s]\n",
      "100%|██████████| 3/3 [00:00<00:00, 10.19it/s]\n",
      "  0%|          | 0/11 [00:00<?, ?it/s]"
     ]
    },
    {
     "name": "stdout",
     "output_type": "stream",
     "text": [
      "Train Loss: 0.1737, Train Acc: 0.9315\n",
      "Val Loss: 0.1742, Val Acc: 0.9350\n",
      "Validation loss decreased (0.176806 --> 0.174230).  Saving model ...\n",
      "../HDBScanBased_pjr_saved_model_HDBScanBased/HDBScanBased_PJR_replay_500/2018-03/best_model_epoch_7.pt\n",
      "../HDBScanBased_pjr_saved_optimizer_HDBScanBased/HDBScanBased_PJR_replay_500/2018-03/best_optimizer_epoch_7.pt\n",
      "Epoch 8 of 500\n"
     ]
    },
    {
     "name": "stderr",
     "output_type": "stream",
     "text": [
      "100%|██████████| 11/11 [00:02<00:00,  4.81it/s]\n",
      "100%|██████████| 3/3 [00:00<00:00,  5.72it/s]\n",
      "  0%|          | 0/11 [00:00<?, ?it/s]"
     ]
    },
    {
     "name": "stdout",
     "output_type": "stream",
     "text": [
      "Train Loss: 0.1749, Train Acc: 0.9343\n",
      "Val Loss: 0.1747, Val Acc: 0.9355\n",
      "EarlyStopping counter: 1 out of 5\n",
      "Epoch 9 of 500\n"
     ]
    },
    {
     "name": "stderr",
     "output_type": "stream",
     "text": [
      "100%|██████████| 11/11 [00:02<00:00,  5.23it/s]\n",
      "100%|██████████| 3/3 [00:00<00:00,  6.68it/s]\n",
      "  0%|          | 0/11 [00:00<?, ?it/s]"
     ]
    },
    {
     "name": "stdout",
     "output_type": "stream",
     "text": [
      "Train Loss: 0.1646, Train Acc: 0.9356\n",
      "Val Loss: 0.1696, Val Acc: 0.9376\n",
      "Validation loss decreased (0.174230 --> 0.169629).  Saving model ...\n",
      "../HDBScanBased_pjr_saved_model_HDBScanBased/HDBScanBased_PJR_replay_500/2018-03/best_model_epoch_9.pt\n",
      "../HDBScanBased_pjr_saved_optimizer_HDBScanBased/HDBScanBased_PJR_replay_500/2018-03/best_optimizer_epoch_9.pt\n",
      "Epoch 10 of 500\n"
     ]
    },
    {
     "name": "stderr",
     "output_type": "stream",
     "text": [
      "100%|██████████| 11/11 [00:01<00:00,  5.55it/s]\n",
      "100%|██████████| 3/3 [00:00<00:00, 10.10it/s]\n",
      "  0%|          | 0/11 [00:00<?, ?it/s]"
     ]
    },
    {
     "name": "stdout",
     "output_type": "stream",
     "text": [
      "Train Loss: 0.1686, Train Acc: 0.9347\n",
      "Val Loss: 0.1743, Val Acc: 0.9357\n",
      "EarlyStopping counter: 1 out of 5\n",
      "Epoch 11 of 500\n"
     ]
    },
    {
     "name": "stderr",
     "output_type": "stream",
     "text": [
      "100%|██████████| 11/11 [00:02<00:00,  5.47it/s]\n",
      "100%|██████████| 3/3 [00:00<00:00,  6.75it/s]\n",
      "  0%|          | 0/11 [00:00<?, ?it/s]"
     ]
    },
    {
     "name": "stdout",
     "output_type": "stream",
     "text": [
      "Train Loss: 0.1629, Train Acc: 0.9361\n",
      "Val Loss: 0.1716, Val Acc: 0.9367\n",
      "EarlyStopping counter: 2 out of 5\n",
      "Epoch 12 of 500\n"
     ]
    },
    {
     "name": "stderr",
     "output_type": "stream",
     "text": [
      "100%|██████████| 11/11 [00:02<00:00,  5.47it/s]\n",
      "100%|██████████| 3/3 [00:00<00:00,  4.53it/s]\n",
      "  0%|          | 0/11 [00:00<?, ?it/s]"
     ]
    },
    {
     "name": "stdout",
     "output_type": "stream",
     "text": [
      "Train Loss: 0.1628, Train Acc: 0.9371\n",
      "Val Loss: 0.1741, Val Acc: 0.9362\n",
      "EarlyStopping counter: 3 out of 5\n",
      "Epoch 13 of 500\n"
     ]
    },
    {
     "name": "stderr",
     "output_type": "stream",
     "text": [
      "100%|██████████| 11/11 [00:01<00:00,  5.61it/s]\n",
      "100%|██████████| 3/3 [00:00<00:00, 10.42it/s]\n",
      "  0%|          | 0/11 [00:00<?, ?it/s]"
     ]
    },
    {
     "name": "stdout",
     "output_type": "stream",
     "text": [
      "Train Loss: 0.1605, Train Acc: 0.9366\n",
      "Val Loss: 0.1711, Val Acc: 0.9365\n",
      "EarlyStopping counter: 4 out of 5\n",
      "Epoch 14 of 500\n"
     ]
    },
    {
     "name": "stderr",
     "output_type": "stream",
     "text": [
      "100%|██████████| 11/11 [00:01<00:00,  5.70it/s]\n",
      "100%|██████████| 3/3 [00:00<00:00,  6.93it/s]\n",
      "  0%|          | 0/11 [00:00<?, ?it/s]"
     ]
    },
    {
     "name": "stdout",
     "output_type": "stream",
     "text": [
      "Train Loss: 0.1595, Train Acc: 0.9376\n",
      "Val Loss: 0.1675, Val Acc: 0.9380\n",
      "Validation loss decreased (0.169629 --> 0.167522).  Saving model ...\n",
      "../HDBScanBased_pjr_saved_model_HDBScanBased/HDBScanBased_PJR_replay_500/2018-03/best_model_epoch_14.pt\n",
      "../HDBScanBased_pjr_saved_optimizer_HDBScanBased/HDBScanBased_PJR_replay_500/2018-03/best_optimizer_epoch_14.pt\n",
      "Epoch 15 of 500\n"
     ]
    },
    {
     "name": "stderr",
     "output_type": "stream",
     "text": [
      "100%|██████████| 11/11 [00:01<00:00,  5.67it/s]\n",
      "100%|██████████| 3/3 [00:00<00:00,  6.58it/s]\n",
      "  0%|          | 0/11 [00:00<?, ?it/s]"
     ]
    },
    {
     "name": "stdout",
     "output_type": "stream",
     "text": [
      "Train Loss: 0.1548, Train Acc: 0.9398\n",
      "Val Loss: 0.1689, Val Acc: 0.9378\n",
      "EarlyStopping counter: 1 out of 5\n",
      "Epoch 16 of 500\n"
     ]
    },
    {
     "name": "stderr",
     "output_type": "stream",
     "text": [
      "100%|██████████| 11/11 [00:01<00:00,  5.63it/s]\n",
      "100%|██████████| 3/3 [00:00<00:00,  8.93it/s]\n",
      "  0%|          | 0/11 [00:00<?, ?it/s]"
     ]
    },
    {
     "name": "stdout",
     "output_type": "stream",
     "text": [
      "Train Loss: 0.1534, Train Acc: 0.9400\n",
      "Val Loss: 0.1686, Val Acc: 0.9376\n",
      "EarlyStopping counter: 2 out of 5\n",
      "Epoch 17 of 500\n"
     ]
    },
    {
     "name": "stderr",
     "output_type": "stream",
     "text": [
      "100%|██████████| 11/11 [00:01<00:00,  5.66it/s]\n",
      "100%|██████████| 3/3 [00:00<00:00,  6.46it/s]\n",
      "  0%|          | 0/11 [00:00<?, ?it/s]"
     ]
    },
    {
     "name": "stdout",
     "output_type": "stream",
     "text": [
      "Train Loss: 0.1540, Train Acc: 0.9393\n",
      "Val Loss: 0.1658, Val Acc: 0.9387\n",
      "Validation loss decreased (0.167522 --> 0.165786).  Saving model ...\n",
      "../HDBScanBased_pjr_saved_model_HDBScanBased/HDBScanBased_PJR_replay_500/2018-03/best_model_epoch_17.pt\n",
      "../HDBScanBased_pjr_saved_optimizer_HDBScanBased/HDBScanBased_PJR_replay_500/2018-03/best_optimizer_epoch_17.pt\n",
      "Epoch 18 of 500\n"
     ]
    },
    {
     "name": "stderr",
     "output_type": "stream",
     "text": [
      "100%|██████████| 11/11 [00:01<00:00,  5.69it/s]\n",
      "100%|██████████| 3/3 [00:00<00:00,  7.28it/s]\n",
      "  0%|          | 0/11 [00:00<?, ?it/s]"
     ]
    },
    {
     "name": "stdout",
     "output_type": "stream",
     "text": [
      "Train Loss: 0.1524, Train Acc: 0.9414\n",
      "Val Loss: 0.1683, Val Acc: 0.9379\n",
      "EarlyStopping counter: 1 out of 5\n",
      "Epoch 19 of 500\n"
     ]
    },
    {
     "name": "stderr",
     "output_type": "stream",
     "text": [
      "100%|██████████| 11/11 [00:02<00:00,  5.27it/s]\n",
      "100%|██████████| 3/3 [00:00<00:00,  8.79it/s]\n",
      "  0%|          | 0/11 [00:00<?, ?it/s]"
     ]
    },
    {
     "name": "stdout",
     "output_type": "stream",
     "text": [
      "Train Loss: 0.1465, Train Acc: 0.9429\n",
      "Val Loss: 0.1657, Val Acc: 0.9397\n",
      "Validation loss decreased (0.165786 --> 0.165747).  Saving model ...\n",
      "../HDBScanBased_pjr_saved_model_HDBScanBased/HDBScanBased_PJR_replay_500/2018-03/best_model_epoch_19.pt\n",
      "../HDBScanBased_pjr_saved_optimizer_HDBScanBased/HDBScanBased_PJR_replay_500/2018-03/best_optimizer_epoch_19.pt\n",
      "Epoch 20 of 500\n"
     ]
    },
    {
     "name": "stderr",
     "output_type": "stream",
     "text": [
      "100%|██████████| 11/11 [00:02<00:00,  5.33it/s]\n",
      "100%|██████████| 3/3 [00:00<00:00,  5.43it/s]\n",
      "  0%|          | 0/11 [00:00<?, ?it/s]"
     ]
    },
    {
     "name": "stdout",
     "output_type": "stream",
     "text": [
      "Train Loss: 0.1459, Train Acc: 0.9440\n",
      "Val Loss: 0.1674, Val Acc: 0.9386\n",
      "EarlyStopping counter: 1 out of 5\n",
      "Epoch 21 of 500\n"
     ]
    },
    {
     "name": "stderr",
     "output_type": "stream",
     "text": [
      "100%|██████████| 11/11 [00:02<00:00,  5.32it/s]\n",
      "100%|██████████| 3/3 [00:00<00:00,  7.44it/s]\n",
      "  0%|          | 0/11 [00:00<?, ?it/s]"
     ]
    },
    {
     "name": "stdout",
     "output_type": "stream",
     "text": [
      "Train Loss: 0.1444, Train Acc: 0.9447\n",
      "Val Loss: 0.1674, Val Acc: 0.9391\n",
      "EarlyStopping counter: 2 out of 5\n",
      "Epoch 22 of 500\n"
     ]
    },
    {
     "name": "stderr",
     "output_type": "stream",
     "text": [
      "100%|██████████| 11/11 [00:02<00:00,  5.28it/s]\n",
      "100%|██████████| 3/3 [00:00<00:00, 10.34it/s]\n",
      "  0%|          | 0/11 [00:00<?, ?it/s]"
     ]
    },
    {
     "name": "stdout",
     "output_type": "stream",
     "text": [
      "Train Loss: 0.1435, Train Acc: 0.9450\n",
      "Val Loss: 0.1664, Val Acc: 0.9394\n",
      "EarlyStopping counter: 3 out of 5\n",
      "Epoch 23 of 500\n"
     ]
    },
    {
     "name": "stderr",
     "output_type": "stream",
     "text": [
      "100%|██████████| 11/11 [00:01<00:00,  5.71it/s]\n",
      "100%|██████████| 3/3 [00:00<00:00,  7.88it/s]\n",
      "  0%|          | 0/11 [00:00<?, ?it/s]"
     ]
    },
    {
     "name": "stdout",
     "output_type": "stream",
     "text": [
      "Train Loss: 0.1419, Train Acc: 0.9448\n",
      "Val Loss: 0.1674, Val Acc: 0.9399\n",
      "EarlyStopping counter: 4 out of 5\n",
      "Epoch 24 of 500\n"
     ]
    },
    {
     "name": "stderr",
     "output_type": "stream",
     "text": [
      "100%|██████████| 11/11 [00:01<00:00,  5.64it/s]\n",
      "100%|██████████| 3/3 [00:00<00:00,  6.82it/s]\n",
      "  0%|          | 0/3 [00:00<?, ?it/s]"
     ]
    },
    {
     "name": "stdout",
     "output_type": "stream",
     "text": [
      "Train Loss: 0.1415, Train Acc: 0.9459\n",
      "Val Loss: 0.1665, Val Acc: 0.9394\n",
      "EarlyStopping counter: 5 out of 5\n",
      "Early stopping\n",
      "Training time: 1.015 minutes\n",
      "loading best model ../HDBScanBased_pjr_saved_model_HDBScanBased/HDBScanBased_PJR_replay_500/2018-03/best_model_epoch_19.pt\n",
      "loading best optimizer ../HDBScanBased_pjr_saved_optimizer_HDBScanBased/HDBScanBased_PJR_replay_500/2018-03/best_optimizer_epoch_19.pt\n"
     ]
    },
    {
     "name": "stderr",
     "output_type": "stream",
     "text": [
      "100%|██████████| 3/3 [00:00<00:00,  4.07it/s]\n"
     ]
    },
    {
     "name": "stdout",
     "output_type": "stream",
     "text": [
      "test accuracy 0.9377732872962952 and ROC-AUC 0.9378458776714621\n",
      "Task Elapsed time 2.877719346682231 mins.\n",
      "\n",
      "2022-12-16 03:07:42 Round 1 ...\n",
      "Current Task 2018-04 w/ 500 samples to Replay per Malware family.\n",
      "X_train (46873, 2381) Y_train (46873,) Y_tr_family (46873,)\n",
      "X_test (20968, 2381) Y_test (20968,) Y_te_family (20968,)\n",
      "2022-12-16 03:07:43 Standardizing ...\n",
      "Task 2018-04 and #-of new samples stored 46873\n",
      "pre_malware_samples 39752\n",
      "pre_goodware_samples 39752\n"
     ]
    },
    {
     "name": "stderr",
     "output_type": "stream",
     "text": [
      "\r",
      "  0%|          | 0/13 [00:00<?, ?it/s]"
     ]
    },
    {
     "name": "stdout",
     "output_type": "stream",
     "text": [
      "good 39752 mal 39752\n",
      "True\n",
      "task 2018-04 exemplars used 39752\n",
      "Current Training - X_train (79504, 2381) \n",
      "2022-12-16 03:15:33 Training ...\n",
      "Epoch 1 of 500\n"
     ]
    },
    {
     "name": "stderr",
     "output_type": "stream",
     "text": [
      "100%|██████████| 13/13 [00:02<00:00,  5.97it/s]\n",
      "100%|██████████| 4/4 [00:00<00:00,  6.18it/s]\n",
      "  0%|          | 0/13 [00:00<?, ?it/s]"
     ]
    },
    {
     "name": "stdout",
     "output_type": "stream",
     "text": [
      "Train Loss: 0.1835, Train Acc: 0.9297\n",
      "Val Loss: 0.1758, Val Acc: 0.9357\n",
      "Validation loss decreased (inf --> 0.175820).  Saving model ...\n",
      "../HDBScanBased_pjr_saved_model_HDBScanBased/HDBScanBased_PJR_replay_500/2018-04/best_model_epoch_1.pt\n",
      "../HDBScanBased_pjr_saved_optimizer_HDBScanBased/HDBScanBased_PJR_replay_500/2018-04/best_optimizer_epoch_1.pt\n",
      "Epoch 2 of 500\n"
     ]
    },
    {
     "name": "stderr",
     "output_type": "stream",
     "text": [
      "100%|██████████| 13/13 [00:02<00:00,  5.87it/s]\n",
      "100%|██████████| 4/4 [00:00<00:00,  7.00it/s]\n",
      "  0%|          | 0/13 [00:00<?, ?it/s]"
     ]
    },
    {
     "name": "stdout",
     "output_type": "stream",
     "text": [
      "Train Loss: 0.1723, Train Acc: 0.9334\n",
      "Val Loss: 0.1750, Val Acc: 0.9359\n",
      "Validation loss decreased (0.175820 --> 0.175000).  Saving model ...\n",
      "../HDBScanBased_pjr_saved_model_HDBScanBased/HDBScanBased_PJR_replay_500/2018-04/best_model_epoch_2.pt\n",
      "../HDBScanBased_pjr_saved_optimizer_HDBScanBased/HDBScanBased_PJR_replay_500/2018-04/best_optimizer_epoch_2.pt\n",
      "Epoch 3 of 500\n"
     ]
    },
    {
     "name": "stderr",
     "output_type": "stream",
     "text": [
      "100%|██████████| 13/13 [00:02<00:00,  4.67it/s]\n",
      "100%|██████████| 4/4 [00:00<00:00,  8.00it/s]\n",
      "  0%|          | 0/13 [00:00<?, ?it/s]"
     ]
    },
    {
     "name": "stdout",
     "output_type": "stream",
     "text": [
      "Train Loss: 0.1643, Train Acc: 0.9363\n",
      "Val Loss: 0.1683, Val Acc: 0.9378\n",
      "Validation loss decreased (0.175000 --> 0.168279).  Saving model ...\n",
      "../HDBScanBased_pjr_saved_model_HDBScanBased/HDBScanBased_PJR_replay_500/2018-04/best_model_epoch_3.pt\n",
      "../HDBScanBased_pjr_saved_optimizer_HDBScanBased/HDBScanBased_PJR_replay_500/2018-04/best_optimizer_epoch_3.pt\n",
      "Epoch 4 of 500\n"
     ]
    },
    {
     "name": "stderr",
     "output_type": "stream",
     "text": [
      "100%|██████████| 13/13 [00:02<00:00,  5.78it/s]\n",
      "100%|██████████| 4/4 [00:00<00:00, 11.06it/s]\n",
      "  0%|          | 0/13 [00:00<?, ?it/s]"
     ]
    },
    {
     "name": "stdout",
     "output_type": "stream",
     "text": [
      "Train Loss: 0.1639, Train Acc: 0.9378\n",
      "Val Loss: 0.1676, Val Acc: 0.9379\n",
      "Validation loss decreased (0.168279 --> 0.167558).  Saving model ...\n",
      "../HDBScanBased_pjr_saved_model_HDBScanBased/HDBScanBased_PJR_replay_500/2018-04/best_model_epoch_4.pt\n",
      "../HDBScanBased_pjr_saved_optimizer_HDBScanBased/HDBScanBased_PJR_replay_500/2018-04/best_optimizer_epoch_4.pt\n",
      "Epoch 5 of 500\n"
     ]
    },
    {
     "name": "stderr",
     "output_type": "stream",
     "text": [
      "100%|██████████| 13/13 [00:02<00:00,  6.01it/s]\n",
      "100%|██████████| 4/4 [00:00<00:00,  7.85it/s]\n",
      "  0%|          | 0/13 [00:00<?, ?it/s]"
     ]
    },
    {
     "name": "stdout",
     "output_type": "stream",
     "text": [
      "Train Loss: 0.1585, Train Acc: 0.9385\n",
      "Val Loss: 0.1657, Val Acc: 0.9385\n",
      "Validation loss decreased (0.167558 --> 0.165662).  Saving model ...\n",
      "../HDBScanBased_pjr_saved_model_HDBScanBased/HDBScanBased_PJR_replay_500/2018-04/best_model_epoch_5.pt\n",
      "../HDBScanBased_pjr_saved_optimizer_HDBScanBased/HDBScanBased_PJR_replay_500/2018-04/best_optimizer_epoch_5.pt\n",
      "Epoch 6 of 500\n"
     ]
    },
    {
     "name": "stderr",
     "output_type": "stream",
     "text": [
      "100%|██████████| 13/13 [00:02<00:00,  5.83it/s]\n",
      "100%|██████████| 4/4 [00:00<00:00,  7.08it/s]\n",
      "  0%|          | 0/13 [00:00<?, ?it/s]"
     ]
    },
    {
     "name": "stdout",
     "output_type": "stream",
     "text": [
      "Train Loss: 0.1557, Train Acc: 0.9394\n",
      "Val Loss: 0.1645, Val Acc: 0.9393\n",
      "Validation loss decreased (0.165662 --> 0.164467).  Saving model ...\n",
      "../HDBScanBased_pjr_saved_model_HDBScanBased/HDBScanBased_PJR_replay_500/2018-04/best_model_epoch_6.pt\n",
      "../HDBScanBased_pjr_saved_optimizer_HDBScanBased/HDBScanBased_PJR_replay_500/2018-04/best_optimizer_epoch_6.pt\n",
      "Epoch 7 of 500\n"
     ]
    },
    {
     "name": "stderr",
     "output_type": "stream",
     "text": [
      "100%|██████████| 13/13 [00:02<00:00,  5.77it/s]\n",
      "100%|██████████| 4/4 [00:00<00:00,  8.43it/s]\n",
      "  0%|          | 0/13 [00:00<?, ?it/s]"
     ]
    },
    {
     "name": "stdout",
     "output_type": "stream",
     "text": [
      "Train Loss: 0.1553, Train Acc: 0.9398\n",
      "Val Loss: 0.1616, Val Acc: 0.9406\n",
      "Validation loss decreased (0.164467 --> 0.161563).  Saving model ...\n",
      "../HDBScanBased_pjr_saved_model_HDBScanBased/HDBScanBased_PJR_replay_500/2018-04/best_model_epoch_7.pt\n",
      "../HDBScanBased_pjr_saved_optimizer_HDBScanBased/HDBScanBased_PJR_replay_500/2018-04/best_optimizer_epoch_7.pt\n",
      "Epoch 8 of 500\n"
     ]
    },
    {
     "name": "stderr",
     "output_type": "stream",
     "text": [
      "100%|██████████| 13/13 [00:02<00:00,  6.06it/s]\n",
      "100%|██████████| 4/4 [00:00<00:00,  8.17it/s]\n",
      "  0%|          | 0/13 [00:00<?, ?it/s]"
     ]
    },
    {
     "name": "stdout",
     "output_type": "stream",
     "text": [
      "Train Loss: 0.1506, Train Acc: 0.9412\n",
      "Val Loss: 0.1595, Val Acc: 0.9411\n",
      "Validation loss decreased (0.161563 --> 0.159544).  Saving model ...\n",
      "../HDBScanBased_pjr_saved_model_HDBScanBased/HDBScanBased_PJR_replay_500/2018-04/best_model_epoch_8.pt\n",
      "../HDBScanBased_pjr_saved_optimizer_HDBScanBased/HDBScanBased_PJR_replay_500/2018-04/best_optimizer_epoch_8.pt\n",
      "Epoch 9 of 500\n"
     ]
    },
    {
     "name": "stderr",
     "output_type": "stream",
     "text": [
      "100%|██████████| 13/13 [00:02<00:00,  5.69it/s]\n",
      "100%|██████████| 4/4 [00:00<00:00,  8.02it/s]\n",
      "  0%|          | 0/13 [00:00<?, ?it/s]"
     ]
    },
    {
     "name": "stdout",
     "output_type": "stream",
     "text": [
      "Train Loss: 0.1451, Train Acc: 0.9442\n",
      "Val Loss: 0.1613, Val Acc: 0.9411\n",
      "EarlyStopping counter: 1 out of 5\n",
      "Epoch 10 of 500\n"
     ]
    },
    {
     "name": "stderr",
     "output_type": "stream",
     "text": [
      "100%|██████████| 13/13 [00:02<00:00,  5.93it/s]\n",
      "100%|██████████| 4/4 [00:00<00:00,  7.19it/s]\n",
      "  0%|          | 0/13 [00:00<?, ?it/s]"
     ]
    },
    {
     "name": "stdout",
     "output_type": "stream",
     "text": [
      "Train Loss: 0.1445, Train Acc: 0.9437\n",
      "Val Loss: 0.1589, Val Acc: 0.9423\n",
      "Validation loss decreased (0.159544 --> 0.158893).  Saving model ...\n",
      "../HDBScanBased_pjr_saved_model_HDBScanBased/HDBScanBased_PJR_replay_500/2018-04/best_model_epoch_10.pt\n",
      "../HDBScanBased_pjr_saved_optimizer_HDBScanBased/HDBScanBased_PJR_replay_500/2018-04/best_optimizer_epoch_10.pt\n",
      "Epoch 11 of 500\n"
     ]
    },
    {
     "name": "stderr",
     "output_type": "stream",
     "text": [
      "100%|██████████| 13/13 [00:02<00:00,  5.92it/s]\n",
      "100%|██████████| 4/4 [00:00<00:00,  8.60it/s]\n",
      "  0%|          | 0/13 [00:00<?, ?it/s]"
     ]
    },
    {
     "name": "stdout",
     "output_type": "stream",
     "text": [
      "Train Loss: 0.1428, Train Acc: 0.9458\n",
      "Val Loss: 0.1598, Val Acc: 0.9411\n",
      "EarlyStopping counter: 1 out of 5\n",
      "Epoch 12 of 500\n"
     ]
    },
    {
     "name": "stderr",
     "output_type": "stream",
     "text": [
      "100%|██████████| 13/13 [00:02<00:00,  5.98it/s]\n",
      "100%|██████████| 4/4 [00:00<00:00,  8.83it/s]\n",
      "  0%|          | 0/13 [00:00<?, ?it/s]"
     ]
    },
    {
     "name": "stdout",
     "output_type": "stream",
     "text": [
      "Train Loss: 0.1398, Train Acc: 0.9454\n",
      "Val Loss: 0.1574, Val Acc: 0.9439\n",
      "Validation loss decreased (0.158893 --> 0.157450).  Saving model ...\n",
      "../HDBScanBased_pjr_saved_model_HDBScanBased/HDBScanBased_PJR_replay_500/2018-04/best_model_epoch_12.pt\n",
      "../HDBScanBased_pjr_saved_optimizer_HDBScanBased/HDBScanBased_PJR_replay_500/2018-04/best_optimizer_epoch_12.pt\n",
      "Epoch 13 of 500\n"
     ]
    },
    {
     "name": "stderr",
     "output_type": "stream",
     "text": [
      "100%|██████████| 13/13 [00:02<00:00,  5.95it/s]\n",
      "100%|██████████| 4/4 [00:00<00:00, 11.05it/s]\n",
      "  0%|          | 0/13 [00:00<?, ?it/s]"
     ]
    },
    {
     "name": "stdout",
     "output_type": "stream",
     "text": [
      "Train Loss: 0.1414, Train Acc: 0.9462\n",
      "Val Loss: 0.1595, Val Acc: 0.9421\n",
      "EarlyStopping counter: 1 out of 5\n",
      "Epoch 14 of 500\n"
     ]
    },
    {
     "name": "stderr",
     "output_type": "stream",
     "text": [
      "100%|██████████| 13/13 [00:02<00:00,  5.50it/s]\n",
      "100%|██████████| 4/4 [00:00<00:00,  8.25it/s]\n",
      "  0%|          | 0/13 [00:00<?, ?it/s]"
     ]
    },
    {
     "name": "stdout",
     "output_type": "stream",
     "text": [
      "Train Loss: 0.1386, Train Acc: 0.9478\n",
      "Val Loss: 0.1589, Val Acc: 0.9418\n",
      "EarlyStopping counter: 2 out of 5\n",
      "Epoch 15 of 500\n"
     ]
    },
    {
     "name": "stderr",
     "output_type": "stream",
     "text": [
      "100%|██████████| 13/13 [00:02<00:00,  5.86it/s]\n",
      "100%|██████████| 4/4 [00:00<00:00,  8.33it/s]\n",
      "  0%|          | 0/13 [00:00<?, ?it/s]"
     ]
    },
    {
     "name": "stdout",
     "output_type": "stream",
     "text": [
      "Train Loss: 0.1358, Train Acc: 0.9486\n",
      "Val Loss: 0.1611, Val Acc: 0.9401\n",
      "EarlyStopping counter: 3 out of 5\n",
      "Epoch 16 of 500\n"
     ]
    },
    {
     "name": "stderr",
     "output_type": "stream",
     "text": [
      "100%|██████████| 13/13 [00:02<00:00,  5.74it/s]\n",
      "100%|██████████| 4/4 [00:00<00:00,  7.64it/s]\n",
      "  0%|          | 0/13 [00:00<?, ?it/s]"
     ]
    },
    {
     "name": "stdout",
     "output_type": "stream",
     "text": [
      "Train Loss: 0.1318, Train Acc: 0.9494\n",
      "Val Loss: 0.1564, Val Acc: 0.9443\n",
      "Validation loss decreased (0.157450 --> 0.156407).  Saving model ...\n",
      "../HDBScanBased_pjr_saved_model_HDBScanBased/HDBScanBased_PJR_replay_500/2018-04/best_model_epoch_16.pt\n",
      "../HDBScanBased_pjr_saved_optimizer_HDBScanBased/HDBScanBased_PJR_replay_500/2018-04/best_optimizer_epoch_16.pt\n",
      "Epoch 17 of 500\n"
     ]
    },
    {
     "name": "stderr",
     "output_type": "stream",
     "text": [
      "100%|██████████| 13/13 [00:02<00:00,  5.70it/s]\n",
      "100%|██████████| 4/4 [00:00<00:00,  8.34it/s]\n",
      "  0%|          | 0/13 [00:00<?, ?it/s]"
     ]
    },
    {
     "name": "stdout",
     "output_type": "stream",
     "text": [
      "Train Loss: 0.1335, Train Acc: 0.9488\n",
      "Val Loss: 0.1589, Val Acc: 0.9424\n",
      "EarlyStopping counter: 1 out of 5\n",
      "Epoch 18 of 500\n"
     ]
    },
    {
     "name": "stderr",
     "output_type": "stream",
     "text": [
      "100%|██████████| 13/13 [00:02<00:00,  5.72it/s]\n",
      "100%|██████████| 4/4 [00:00<00:00,  8.56it/s]\n",
      "  0%|          | 0/13 [00:00<?, ?it/s]"
     ]
    },
    {
     "name": "stdout",
     "output_type": "stream",
     "text": [
      "Train Loss: 0.1307, Train Acc: 0.9502\n",
      "Val Loss: 0.1547, Val Acc: 0.9455\n",
      "Validation loss decreased (0.156407 --> 0.154653).  Saving model ...\n",
      "../HDBScanBased_pjr_saved_model_HDBScanBased/HDBScanBased_PJR_replay_500/2018-04/best_model_epoch_18.pt\n",
      "../HDBScanBased_pjr_saved_optimizer_HDBScanBased/HDBScanBased_PJR_replay_500/2018-04/best_optimizer_epoch_18.pt\n",
      "Epoch 19 of 500\n"
     ]
    },
    {
     "name": "stderr",
     "output_type": "stream",
     "text": [
      "100%|██████████| 13/13 [00:02<00:00,  5.55it/s]\n",
      "100%|██████████| 4/4 [00:00<00:00,  8.64it/s]\n",
      "  0%|          | 0/13 [00:00<?, ?it/s]"
     ]
    },
    {
     "name": "stdout",
     "output_type": "stream",
     "text": [
      "Train Loss: 0.1285, Train Acc: 0.9507\n",
      "Val Loss: 0.1546, Val Acc: 0.9457\n",
      "Validation loss decreased (0.154653 --> 0.154593).  Saving model ...\n",
      "../HDBScanBased_pjr_saved_model_HDBScanBased/HDBScanBased_PJR_replay_500/2018-04/best_model_epoch_19.pt\n",
      "../HDBScanBased_pjr_saved_optimizer_HDBScanBased/HDBScanBased_PJR_replay_500/2018-04/best_optimizer_epoch_19.pt\n",
      "Epoch 20 of 500\n"
     ]
    },
    {
     "name": "stderr",
     "output_type": "stream",
     "text": [
      "100%|██████████| 13/13 [00:02<00:00,  5.94it/s]\n",
      "100%|██████████| 4/4 [00:00<00:00,  8.36it/s]\n",
      "  0%|          | 0/13 [00:00<?, ?it/s]"
     ]
    },
    {
     "name": "stdout",
     "output_type": "stream",
     "text": [
      "Train Loss: 0.1295, Train Acc: 0.9507\n",
      "Val Loss: 0.1569, Val Acc: 0.9445\n",
      "EarlyStopping counter: 1 out of 5\n",
      "Epoch 21 of 500\n"
     ]
    },
    {
     "name": "stderr",
     "output_type": "stream",
     "text": [
      "100%|██████████| 13/13 [00:02<00:00,  5.93it/s]\n",
      "100%|██████████| 4/4 [00:00<00:00,  8.33it/s]\n",
      "  0%|          | 0/13 [00:00<?, ?it/s]"
     ]
    },
    {
     "name": "stdout",
     "output_type": "stream",
     "text": [
      "Train Loss: 0.1260, Train Acc: 0.9516\n",
      "Val Loss: 0.1568, Val Acc: 0.9460\n",
      "EarlyStopping counter: 2 out of 5\n",
      "Epoch 22 of 500\n"
     ]
    },
    {
     "name": "stderr",
     "output_type": "stream",
     "text": [
      "100%|██████████| 13/13 [00:02<00:00,  5.57it/s]\n",
      "100%|██████████| 4/4 [00:00<00:00,  9.45it/s]\n",
      "  0%|          | 0/13 [00:00<?, ?it/s]"
     ]
    },
    {
     "name": "stdout",
     "output_type": "stream",
     "text": [
      "Train Loss: 0.1233, Train Acc: 0.9526\n",
      "Val Loss: 0.1570, Val Acc: 0.9446\n",
      "EarlyStopping counter: 3 out of 5\n",
      "Epoch 23 of 500\n"
     ]
    },
    {
     "name": "stderr",
     "output_type": "stream",
     "text": [
      "100%|██████████| 13/13 [00:02<00:00,  5.88it/s]\n",
      "100%|██████████| 4/4 [00:00<00:00,  8.35it/s]\n",
      "  0%|          | 0/13 [00:00<?, ?it/s]"
     ]
    },
    {
     "name": "stdout",
     "output_type": "stream",
     "text": [
      "Train Loss: 0.1243, Train Acc: 0.9526\n",
      "Val Loss: 0.1581, Val Acc: 0.9433\n",
      "EarlyStopping counter: 4 out of 5\n",
      "Epoch 24 of 500\n"
     ]
    },
    {
     "name": "stderr",
     "output_type": "stream",
     "text": [
      "100%|██████████| 13/13 [00:02<00:00,  5.78it/s]\n",
      "100%|██████████| 4/4 [00:00<00:00,  7.88it/s]\n",
      "  0%|          | 0/4 [00:00<?, ?it/s]"
     ]
    },
    {
     "name": "stdout",
     "output_type": "stream",
     "text": [
      "Train Loss: 0.1210, Train Acc: 0.9542\n",
      "Val Loss: 0.1547, Val Acc: 0.9460\n",
      "EarlyStopping counter: 5 out of 5\n",
      "Early stopping\n",
      "Training time: 1.131 minutes\n",
      "loading best model ../HDBScanBased_pjr_saved_model_HDBScanBased/HDBScanBased_PJR_replay_500/2018-04/best_model_epoch_19.pt\n",
      "loading best optimizer ../HDBScanBased_pjr_saved_optimizer_HDBScanBased/HDBScanBased_PJR_replay_500/2018-04/best_optimizer_epoch_19.pt\n"
     ]
    },
    {
     "name": "stderr",
     "output_type": "stream",
     "text": [
      "100%|██████████| 4/4 [00:01<00:00,  3.75it/s]\n"
     ]
    },
    {
     "name": "stdout",
     "output_type": "stream",
     "text": [
      "test accuracy 0.9464821219444275 and ROC-AUC 0.946628256105877\n",
      "Task Elapsed time 9.00852862993876 mins.\n",
      "\n",
      "2022-12-16 03:16:42 Round 1 ...\n",
      "Current Task 2018-05 w/ 500 samples to Replay per Malware family.\n",
      "X_train (41320, 2381) Y_train (41320,) Y_tr_family (41320,)\n",
      "X_test (25560, 2381) Y_test (25560,) Y_te_family (25560,)\n",
      "2022-12-16 03:16:44 Standardizing ...\n",
      "Task 2018-05 and #-of new samples stored 41320\n",
      "pre_malware_samples 48059\n",
      "pre_goodware_samples 48059\n"
     ]
    },
    {
     "name": "stderr",
     "output_type": "stream",
     "text": [
      "\r",
      "  0%|          | 0/16 [00:00<?, ?it/s]"
     ]
    },
    {
     "name": "stdout",
     "output_type": "stream",
     "text": [
      "good 48059 mal 48059\n",
      "True\n",
      "task 2018-05 exemplars used 48059\n",
      "Current Training - X_train (96118, 2381) \n",
      "2022-12-16 03:18:38 Training ...\n",
      "Epoch 1 of 500\n"
     ]
    },
    {
     "name": "stderr",
     "output_type": "stream",
     "text": [
      "100%|██████████| 16/16 [00:02<00:00,  5.40it/s]\n",
      "100%|██████████| 5/5 [00:00<00:00,  6.69it/s]\n",
      "  0%|          | 0/16 [00:00<?, ?it/s]"
     ]
    },
    {
     "name": "stdout",
     "output_type": "stream",
     "text": [
      "Train Loss: 0.1501, Train Acc: 0.9437\n",
      "Val Loss: 0.1664, Val Acc: 0.9405\n",
      "Validation loss decreased (inf --> 0.166397).  Saving model ...\n",
      "../HDBScanBased_pjr_saved_model_HDBScanBased/HDBScanBased_PJR_replay_500/2018-05/best_model_epoch_1.pt\n",
      "../HDBScanBased_pjr_saved_optimizer_HDBScanBased/HDBScanBased_PJR_replay_500/2018-05/best_optimizer_epoch_1.pt\n",
      "Epoch 2 of 500\n"
     ]
    },
    {
     "name": "stderr",
     "output_type": "stream",
     "text": [
      "100%|██████████| 16/16 [00:03<00:00,  4.74it/s]\n",
      "100%|██████████| 5/5 [00:00<00:00,  7.31it/s]\n",
      "  0%|          | 0/16 [00:00<?, ?it/s]"
     ]
    },
    {
     "name": "stdout",
     "output_type": "stream",
     "text": [
      "Train Loss: 0.1427, Train Acc: 0.9449\n",
      "Val Loss: 0.1660, Val Acc: 0.9396\n",
      "Validation loss decreased (0.166397 --> 0.165966).  Saving model ...\n",
      "../HDBScanBased_pjr_saved_model_HDBScanBased/HDBScanBased_PJR_replay_500/2018-05/best_model_epoch_2.pt\n",
      "../HDBScanBased_pjr_saved_optimizer_HDBScanBased/HDBScanBased_PJR_replay_500/2018-05/best_optimizer_epoch_2.pt\n",
      "Epoch 3 of 500\n"
     ]
    },
    {
     "name": "stderr",
     "output_type": "stream",
     "text": [
      "100%|██████████| 16/16 [00:03<00:00,  5.17it/s]\n",
      "100%|██████████| 5/5 [00:00<00:00,  6.87it/s]\n",
      "  0%|          | 0/16 [00:00<?, ?it/s]"
     ]
    },
    {
     "name": "stdout",
     "output_type": "stream",
     "text": [
      "Train Loss: 0.1412, Train Acc: 0.9465\n",
      "Val Loss: 0.1652, Val Acc: 0.9396\n",
      "Validation loss decreased (0.165966 --> 0.165185).  Saving model ...\n",
      "../HDBScanBased_pjr_saved_model_HDBScanBased/HDBScanBased_PJR_replay_500/2018-05/best_model_epoch_3.pt\n",
      "../HDBScanBased_pjr_saved_optimizer_HDBScanBased/HDBScanBased_PJR_replay_500/2018-05/best_optimizer_epoch_3.pt\n",
      "Epoch 4 of 500\n"
     ]
    },
    {
     "name": "stderr",
     "output_type": "stream",
     "text": [
      "100%|██████████| 16/16 [00:02<00:00,  5.73it/s]\n",
      "100%|██████████| 5/5 [00:00<00:00,  7.41it/s]\n",
      "  0%|          | 0/16 [00:00<?, ?it/s]"
     ]
    },
    {
     "name": "stdout",
     "output_type": "stream",
     "text": [
      "Train Loss: 0.1368, Train Acc: 0.9484\n",
      "Val Loss: 0.1612, Val Acc: 0.9411\n",
      "Validation loss decreased (0.165185 --> 0.161222).  Saving model ...\n",
      "../HDBScanBased_pjr_saved_model_HDBScanBased/HDBScanBased_PJR_replay_500/2018-05/best_model_epoch_4.pt\n",
      "../HDBScanBased_pjr_saved_optimizer_HDBScanBased/HDBScanBased_PJR_replay_500/2018-05/best_optimizer_epoch_4.pt\n",
      "Epoch 5 of 500\n"
     ]
    },
    {
     "name": "stderr",
     "output_type": "stream",
     "text": [
      "100%|██████████| 16/16 [00:02<00:00,  5.87it/s]\n",
      "100%|██████████| 5/5 [00:00<00:00,  6.80it/s]\n",
      "  0%|          | 0/16 [00:00<?, ?it/s]"
     ]
    },
    {
     "name": "stdout",
     "output_type": "stream",
     "text": [
      "Train Loss: 0.1332, Train Acc: 0.9492\n",
      "Val Loss: 0.1561, Val Acc: 0.9440\n",
      "Validation loss decreased (0.161222 --> 0.156076).  Saving model ...\n",
      "../HDBScanBased_pjr_saved_model_HDBScanBased/HDBScanBased_PJR_replay_500/2018-05/best_model_epoch_5.pt\n",
      "../HDBScanBased_pjr_saved_optimizer_HDBScanBased/HDBScanBased_PJR_replay_500/2018-05/best_optimizer_epoch_5.pt\n",
      "Epoch 6 of 500\n"
     ]
    },
    {
     "name": "stderr",
     "output_type": "stream",
     "text": [
      "100%|██████████| 16/16 [00:02<00:00,  6.15it/s]\n",
      "100%|██████████| 5/5 [00:00<00:00,  7.68it/s]\n",
      "  0%|          | 0/16 [00:00<?, ?it/s]"
     ]
    },
    {
     "name": "stdout",
     "output_type": "stream",
     "text": [
      "Train Loss: 0.1347, Train Acc: 0.9486\n",
      "Val Loss: 0.1570, Val Acc: 0.9444\n",
      "EarlyStopping counter: 1 out of 5\n",
      "Epoch 7 of 500\n"
     ]
    },
    {
     "name": "stderr",
     "output_type": "stream",
     "text": [
      "100%|██████████| 16/16 [00:02<00:00,  5.82it/s]\n",
      "100%|██████████| 5/5 [00:00<00:00,  6.72it/s]\n",
      "  0%|          | 0/16 [00:00<?, ?it/s]"
     ]
    },
    {
     "name": "stdout",
     "output_type": "stream",
     "text": [
      "Train Loss: 0.1335, Train Acc: 0.9487\n",
      "Val Loss: 0.1565, Val Acc: 0.9441\n",
      "EarlyStopping counter: 2 out of 5\n",
      "Epoch 8 of 500\n"
     ]
    },
    {
     "name": "stderr",
     "output_type": "stream",
     "text": [
      "100%|██████████| 16/16 [00:02<00:00,  6.01it/s]\n",
      "100%|██████████| 5/5 [00:00<00:00,  5.41it/s]\n",
      "  0%|          | 0/16 [00:00<?, ?it/s]"
     ]
    },
    {
     "name": "stdout",
     "output_type": "stream",
     "text": [
      "Train Loss: 0.1265, Train Acc: 0.9519\n",
      "Val Loss: 0.1540, Val Acc: 0.9451\n",
      "Validation loss decreased (0.156076 --> 0.153952).  Saving model ...\n",
      "../HDBScanBased_pjr_saved_model_HDBScanBased/HDBScanBased_PJR_replay_500/2018-05/best_model_epoch_8.pt\n",
      "../HDBScanBased_pjr_saved_optimizer_HDBScanBased/HDBScanBased_PJR_replay_500/2018-05/best_optimizer_epoch_8.pt\n",
      "Epoch 9 of 500\n"
     ]
    },
    {
     "name": "stderr",
     "output_type": "stream",
     "text": [
      "100%|██████████| 16/16 [00:02<00:00,  6.08it/s]\n",
      "100%|██████████| 5/5 [00:00<00:00,  8.79it/s]\n",
      "  0%|          | 0/16 [00:00<?, ?it/s]"
     ]
    },
    {
     "name": "stdout",
     "output_type": "stream",
     "text": [
      "Train Loss: 0.1244, Train Acc: 0.9523\n",
      "Val Loss: 0.1537, Val Acc: 0.9447\n",
      "Validation loss decreased (0.153952 --> 0.153740).  Saving model ...\n",
      "../HDBScanBased_pjr_saved_model_HDBScanBased/HDBScanBased_PJR_replay_500/2018-05/best_model_epoch_9.pt\n",
      "../HDBScanBased_pjr_saved_optimizer_HDBScanBased/HDBScanBased_PJR_replay_500/2018-05/best_optimizer_epoch_9.pt\n",
      "Epoch 10 of 500\n"
     ]
    },
    {
     "name": "stderr",
     "output_type": "stream",
     "text": [
      "100%|██████████| 16/16 [00:02<00:00,  5.93it/s]\n",
      "100%|██████████| 5/5 [00:00<00:00,  8.09it/s]\n",
      "  0%|          | 0/16 [00:00<?, ?it/s]"
     ]
    },
    {
     "name": "stdout",
     "output_type": "stream",
     "text": [
      "Train Loss: 0.1249, Train Acc: 0.9520\n",
      "Val Loss: 0.1563, Val Acc: 0.9435\n",
      "EarlyStopping counter: 1 out of 5\n",
      "Epoch 11 of 500\n"
     ]
    },
    {
     "name": "stderr",
     "output_type": "stream",
     "text": [
      "100%|██████████| 16/16 [00:02<00:00,  5.96it/s]\n",
      "100%|██████████| 5/5 [00:00<00:00,  8.58it/s]\n",
      "  0%|          | 0/16 [00:00<?, ?it/s]"
     ]
    },
    {
     "name": "stdout",
     "output_type": "stream",
     "text": [
      "Train Loss: 0.1228, Train Acc: 0.9525\n",
      "Val Loss: 0.1531, Val Acc: 0.9464\n",
      "Validation loss decreased (0.153740 --> 0.153110).  Saving model ...\n",
      "../HDBScanBased_pjr_saved_model_HDBScanBased/HDBScanBased_PJR_replay_500/2018-05/best_model_epoch_11.pt\n",
      "../HDBScanBased_pjr_saved_optimizer_HDBScanBased/HDBScanBased_PJR_replay_500/2018-05/best_optimizer_epoch_11.pt\n",
      "Epoch 12 of 500\n"
     ]
    },
    {
     "name": "stderr",
     "output_type": "stream",
     "text": [
      "100%|██████████| 16/16 [00:02<00:00,  5.76it/s]\n",
      "100%|██████████| 5/5 [00:00<00:00,  8.67it/s]\n",
      "  0%|          | 0/16 [00:00<?, ?it/s]"
     ]
    },
    {
     "name": "stdout",
     "output_type": "stream",
     "text": [
      "Train Loss: 0.1208, Train Acc: 0.9537\n",
      "Val Loss: 0.1503, Val Acc: 0.9462\n",
      "Validation loss decreased (0.153110 --> 0.150253).  Saving model ...\n",
      "../HDBScanBased_pjr_saved_model_HDBScanBased/HDBScanBased_PJR_replay_500/2018-05/best_model_epoch_12.pt\n",
      "../HDBScanBased_pjr_saved_optimizer_HDBScanBased/HDBScanBased_PJR_replay_500/2018-05/best_optimizer_epoch_12.pt\n",
      "Epoch 13 of 500\n"
     ]
    },
    {
     "name": "stderr",
     "output_type": "stream",
     "text": [
      "100%|██████████| 16/16 [00:02<00:00,  6.01it/s]\n",
      "100%|██████████| 5/5 [00:00<00:00,  7.61it/s]\n",
      "  0%|          | 0/16 [00:00<?, ?it/s]"
     ]
    },
    {
     "name": "stdout",
     "output_type": "stream",
     "text": [
      "Train Loss: 0.1184, Train Acc: 0.9549\n",
      "Val Loss: 0.1525, Val Acc: 0.9463\n",
      "EarlyStopping counter: 1 out of 5\n",
      "Epoch 14 of 500\n"
     ]
    },
    {
     "name": "stderr",
     "output_type": "stream",
     "text": [
      "100%|██████████| 16/16 [00:02<00:00,  5.89it/s]\n",
      "100%|██████████| 5/5 [00:00<00:00,  7.50it/s]\n",
      "  0%|          | 0/16 [00:00<?, ?it/s]"
     ]
    },
    {
     "name": "stdout",
     "output_type": "stream",
     "text": [
      "Train Loss: 0.1192, Train Acc: 0.9544\n",
      "Val Loss: 0.1512, Val Acc: 0.9474\n",
      "EarlyStopping counter: 2 out of 5\n",
      "Epoch 15 of 500\n"
     ]
    },
    {
     "name": "stderr",
     "output_type": "stream",
     "text": [
      "100%|██████████| 16/16 [00:02<00:00,  5.72it/s]\n",
      "100%|██████████| 5/5 [00:00<00:00,  9.36it/s]\n",
      "  0%|          | 0/16 [00:00<?, ?it/s]"
     ]
    },
    {
     "name": "stdout",
     "output_type": "stream",
     "text": [
      "Train Loss: 0.1163, Train Acc: 0.9552\n",
      "Val Loss: 0.1535, Val Acc: 0.9475\n",
      "EarlyStopping counter: 3 out of 5\n",
      "Epoch 16 of 500\n"
     ]
    },
    {
     "name": "stderr",
     "output_type": "stream",
     "text": [
      "100%|██████████| 16/16 [00:02<00:00,  5.71it/s]\n",
      "100%|██████████| 5/5 [00:00<00:00,  9.00it/s]\n",
      "  0%|          | 0/16 [00:00<?, ?it/s]"
     ]
    },
    {
     "name": "stdout",
     "output_type": "stream",
     "text": [
      "Train Loss: 0.1123, Train Acc: 0.9579\n",
      "Val Loss: 0.1528, Val Acc: 0.9450\n",
      "EarlyStopping counter: 4 out of 5\n",
      "Epoch 17 of 500\n"
     ]
    },
    {
     "name": "stderr",
     "output_type": "stream",
     "text": [
      "100%|██████████| 16/16 [00:02<00:00,  5.98it/s]\n",
      "100%|██████████| 5/5 [00:00<00:00,  8.97it/s]\n",
      "  0%|          | 0/5 [00:00<?, ?it/s]"
     ]
    },
    {
     "name": "stdout",
     "output_type": "stream",
     "text": [
      "Train Loss: 0.1135, Train Acc: 0.9575\n",
      "Val Loss: 0.1503, Val Acc: 0.9475\n",
      "EarlyStopping counter: 5 out of 5\n",
      "Early stopping\n",
      "Training time: 0.998 minutes\n",
      "loading best model ../HDBScanBased_pjr_saved_model_HDBScanBased/HDBScanBased_PJR_replay_500/2018-05/best_model_epoch_12.pt\n",
      "loading best optimizer ../HDBScanBased_pjr_saved_optimizer_HDBScanBased/HDBScanBased_PJR_replay_500/2018-05/best_optimizer_epoch_12.pt\n"
     ]
    },
    {
     "name": "stderr",
     "output_type": "stream",
     "text": [
      "100%|██████████| 5/5 [00:01<00:00,  4.52it/s]\n"
     ]
    },
    {
     "name": "stdout",
     "output_type": "stream",
     "text": [
      "test accuracy 0.9473743557929992 and ROC-AUC 0.946295041193829\n",
      "Task Elapsed time 2.9558754324913026 mins.\n",
      "\n",
      "2022-12-16 03:19:39 Round 1 ...\n",
      "Current Task 2018-06 w/ 500 samples to Replay per Malware family.\n",
      "X_train (43560, 2381) Y_train (43560,) Y_tr_family (43560,)\n",
      "X_test (30401, 2381) Y_test (30401,) Y_te_family (30401,)\n",
      "2022-12-16 03:19:42 Standardizing ...\n",
      "Task 2018-06 and #-of new samples stored 43560\n",
      "pre_malware_samples 58423\n",
      "pre_goodware_samples 58423\n"
     ]
    },
    {
     "name": "stderr",
     "output_type": "stream",
     "text": [
      "\r",
      "  0%|          | 0/19 [00:00<?, ?it/s]"
     ]
    },
    {
     "name": "stdout",
     "output_type": "stream",
     "text": [
      "good 58423 mal 58423\n",
      "True\n",
      "task 2018-06 exemplars used 58423\n",
      "Current Training - X_train (116846, 2381) \n",
      "2022-12-16 03:21:41 Training ...\n",
      "Epoch 1 of 500\n"
     ]
    },
    {
     "name": "stderr",
     "output_type": "stream",
     "text": [
      "100%|██████████| 19/19 [00:03<00:00,  4.82it/s]\n",
      "100%|██████████| 6/6 [00:00<00:00,  7.68it/s]\n",
      "  0%|          | 0/19 [00:00<?, ?it/s]"
     ]
    },
    {
     "name": "stdout",
     "output_type": "stream",
     "text": [
      "Train Loss: 0.1480, Train Acc: 0.9445\n",
      "Val Loss: 0.1501, Val Acc: 0.9460\n",
      "Validation loss decreased (inf --> 0.150083).  Saving model ...\n",
      "../HDBScanBased_pjr_saved_model_HDBScanBased/HDBScanBased_PJR_replay_500/2018-06/best_model_epoch_1.pt\n",
      "../HDBScanBased_pjr_saved_optimizer_HDBScanBased/HDBScanBased_PJR_replay_500/2018-06/best_optimizer_epoch_1.pt\n",
      "Epoch 2 of 500\n"
     ]
    },
    {
     "name": "stderr",
     "output_type": "stream",
     "text": [
      "100%|██████████| 19/19 [00:03<00:00,  5.76it/s]\n",
      "100%|██████████| 6/6 [00:00<00:00,  9.01it/s]\n",
      "  0%|          | 0/19 [00:00<?, ?it/s]"
     ]
    },
    {
     "name": "stdout",
     "output_type": "stream",
     "text": [
      "Train Loss: 0.1421, Train Acc: 0.9469\n",
      "Val Loss: 0.1508, Val Acc: 0.9443\n",
      "EarlyStopping counter: 1 out of 5\n",
      "Epoch 3 of 500\n"
     ]
    },
    {
     "name": "stderr",
     "output_type": "stream",
     "text": [
      "100%|██████████| 19/19 [00:03<00:00,  5.19it/s]\n",
      "100%|██████████| 6/6 [00:00<00:00,  8.16it/s]\n",
      "  0%|          | 0/19 [00:00<?, ?it/s]"
     ]
    },
    {
     "name": "stdout",
     "output_type": "stream",
     "text": [
      "Train Loss: 0.1379, Train Acc: 0.9493\n",
      "Val Loss: 0.1455, Val Acc: 0.9469\n",
      "Validation loss decreased (0.150083 --> 0.145534).  Saving model ...\n",
      "../HDBScanBased_pjr_saved_model_HDBScanBased/HDBScanBased_PJR_replay_500/2018-06/best_model_epoch_3.pt\n",
      "../HDBScanBased_pjr_saved_optimizer_HDBScanBased/HDBScanBased_PJR_replay_500/2018-06/best_optimizer_epoch_3.pt\n",
      "Epoch 4 of 500\n"
     ]
    },
    {
     "name": "stderr",
     "output_type": "stream",
     "text": [
      "100%|██████████| 19/19 [00:03<00:00,  5.65it/s]\n",
      "100%|██████████| 6/6 [00:00<00:00,  8.03it/s]\n",
      "  0%|          | 0/19 [00:00<?, ?it/s]"
     ]
    },
    {
     "name": "stdout",
     "output_type": "stream",
     "text": [
      "Train Loss: 0.1340, Train Acc: 0.9506\n",
      "Val Loss: 0.1405, Val Acc: 0.9478\n",
      "Validation loss decreased (0.145534 --> 0.140462).  Saving model ...\n",
      "../HDBScanBased_pjr_saved_model_HDBScanBased/HDBScanBased_PJR_replay_500/2018-06/best_model_epoch_4.pt\n",
      "../HDBScanBased_pjr_saved_optimizer_HDBScanBased/HDBScanBased_PJR_replay_500/2018-06/best_optimizer_epoch_4.pt\n",
      "Epoch 5 of 500\n"
     ]
    },
    {
     "name": "stderr",
     "output_type": "stream",
     "text": [
      "100%|██████████| 19/19 [00:03<00:00,  6.20it/s]\n",
      "100%|██████████| 6/6 [00:00<00:00,  9.52it/s]\n",
      "  0%|          | 0/19 [00:00<?, ?it/s]"
     ]
    },
    {
     "name": "stdout",
     "output_type": "stream",
     "text": [
      "Train Loss: 0.1325, Train Acc: 0.9503\n",
      "Val Loss: 0.1398, Val Acc: 0.9498\n",
      "Validation loss decreased (0.140462 --> 0.139829).  Saving model ...\n",
      "../HDBScanBased_pjr_saved_model_HDBScanBased/HDBScanBased_PJR_replay_500/2018-06/best_model_epoch_5.pt\n",
      "../HDBScanBased_pjr_saved_optimizer_HDBScanBased/HDBScanBased_PJR_replay_500/2018-06/best_optimizer_epoch_5.pt\n",
      "Epoch 6 of 500\n"
     ]
    },
    {
     "name": "stderr",
     "output_type": "stream",
     "text": [
      "100%|██████████| 19/19 [00:03<00:00,  6.22it/s]\n",
      "100%|██████████| 6/6 [00:00<00:00,  6.53it/s]\n",
      "  0%|          | 0/19 [00:00<?, ?it/s]"
     ]
    },
    {
     "name": "stdout",
     "output_type": "stream",
     "text": [
      "Train Loss: 0.1283, Train Acc: 0.9513\n",
      "Val Loss: 0.1460, Val Acc: 0.9466\n",
      "EarlyStopping counter: 1 out of 5\n",
      "Epoch 7 of 500\n"
     ]
    },
    {
     "name": "stderr",
     "output_type": "stream",
     "text": [
      "100%|██████████| 19/19 [00:03<00:00,  5.79it/s]\n",
      "100%|██████████| 6/6 [00:00<00:00,  9.13it/s]\n",
      "  0%|          | 0/19 [00:00<?, ?it/s]"
     ]
    },
    {
     "name": "stdout",
     "output_type": "stream",
     "text": [
      "Train Loss: 0.1264, Train Acc: 0.9523\n",
      "Val Loss: 0.1385, Val Acc: 0.9507\n",
      "Validation loss decreased (0.139829 --> 0.138520).  Saving model ...\n",
      "../HDBScanBased_pjr_saved_model_HDBScanBased/HDBScanBased_PJR_replay_500/2018-06/best_model_epoch_7.pt\n",
      "../HDBScanBased_pjr_saved_optimizer_HDBScanBased/HDBScanBased_PJR_replay_500/2018-06/best_optimizer_epoch_7.pt\n",
      "Epoch 8 of 500\n"
     ]
    },
    {
     "name": "stderr",
     "output_type": "stream",
     "text": [
      "100%|██████████| 19/19 [00:03<00:00,  5.96it/s]\n",
      "100%|██████████| 6/6 [00:00<00:00,  9.18it/s]\n",
      "  0%|          | 0/19 [00:00<?, ?it/s]"
     ]
    },
    {
     "name": "stdout",
     "output_type": "stream",
     "text": [
      "Train Loss: 0.1413, Train Acc: 0.9462\n",
      "Val Loss: 0.1612, Val Acc: 0.9418\n",
      "EarlyStopping counter: 1 out of 5\n",
      "Epoch 9 of 500\n"
     ]
    },
    {
     "name": "stderr",
     "output_type": "stream",
     "text": [
      "100%|██████████| 19/19 [00:03<00:00,  6.18it/s]\n",
      "100%|██████████| 6/6 [00:00<00:00,  8.42it/s]\n",
      "  0%|          | 0/19 [00:00<?, ?it/s]"
     ]
    },
    {
     "name": "stdout",
     "output_type": "stream",
     "text": [
      "Train Loss: 0.1408, Train Acc: 0.9467\n",
      "Val Loss: 0.1448, Val Acc: 0.9469\n",
      "EarlyStopping counter: 2 out of 5\n",
      "Epoch 10 of 500\n"
     ]
    },
    {
     "name": "stderr",
     "output_type": "stream",
     "text": [
      "100%|██████████| 19/19 [00:03<00:00,  5.98it/s]\n",
      "100%|██████████| 6/6 [00:00<00:00,  8.88it/s]\n",
      "  0%|          | 0/19 [00:00<?, ?it/s]"
     ]
    },
    {
     "name": "stdout",
     "output_type": "stream",
     "text": [
      "Train Loss: 0.1308, Train Acc: 0.9493\n",
      "Val Loss: 0.1339, Val Acc: 0.9513\n",
      "Validation loss decreased (0.138520 --> 0.133881).  Saving model ...\n",
      "../HDBScanBased_pjr_saved_model_HDBScanBased/HDBScanBased_PJR_replay_500/2018-06/best_model_epoch_10.pt\n",
      "../HDBScanBased_pjr_saved_optimizer_HDBScanBased/HDBScanBased_PJR_replay_500/2018-06/best_optimizer_epoch_10.pt\n",
      "Epoch 11 of 500\n"
     ]
    },
    {
     "name": "stderr",
     "output_type": "stream",
     "text": [
      "100%|██████████| 19/19 [00:03<00:00,  5.85it/s]\n",
      "100%|██████████| 6/6 [00:00<00:00,  9.17it/s]\n",
      "  0%|          | 0/19 [00:00<?, ?it/s]"
     ]
    },
    {
     "name": "stdout",
     "output_type": "stream",
     "text": [
      "Train Loss: 0.1207, Train Acc: 0.9540\n",
      "Val Loss: 0.1348, Val Acc: 0.9529\n",
      "EarlyStopping counter: 1 out of 5\n",
      "Epoch 12 of 500\n"
     ]
    },
    {
     "name": "stderr",
     "output_type": "stream",
     "text": [
      "100%|██████████| 19/19 [00:03<00:00,  6.02it/s]\n",
      "100%|██████████| 6/6 [00:00<00:00,  8.64it/s]\n",
      "  0%|          | 0/19 [00:00<?, ?it/s]"
     ]
    },
    {
     "name": "stdout",
     "output_type": "stream",
     "text": [
      "Train Loss: 0.1343, Train Acc: 0.9480\n",
      "Val Loss: 0.1483, Val Acc: 0.9482\n",
      "EarlyStopping counter: 2 out of 5\n",
      "Epoch 13 of 500\n"
     ]
    },
    {
     "name": "stderr",
     "output_type": "stream",
     "text": [
      "100%|██████████| 19/19 [00:03<00:00,  6.27it/s]\n",
      "100%|██████████| 6/6 [00:00<00:00,  8.06it/s]\n",
      "  0%|          | 0/19 [00:00<?, ?it/s]"
     ]
    },
    {
     "name": "stdout",
     "output_type": "stream",
     "text": [
      "Train Loss: 0.1203, Train Acc: 0.9545\n",
      "Val Loss: 0.1369, Val Acc: 0.9525\n",
      "EarlyStopping counter: 3 out of 5\n",
      "Epoch 14 of 500\n"
     ]
    },
    {
     "name": "stderr",
     "output_type": "stream",
     "text": [
      "100%|██████████| 19/19 [00:02<00:00,  6.40it/s]\n",
      "100%|██████████| 6/6 [00:00<00:00,  9.67it/s]\n",
      "  0%|          | 0/19 [00:00<?, ?it/s]"
     ]
    },
    {
     "name": "stdout",
     "output_type": "stream",
     "text": [
      "Train Loss: 0.1435, Train Acc: 0.9471\n",
      "Val Loss: 0.1251, Val Acc: 0.9541\n",
      "Validation loss decreased (0.133881 --> 0.125071).  Saving model ...\n",
      "../HDBScanBased_pjr_saved_model_HDBScanBased/HDBScanBased_PJR_replay_500/2018-06/best_model_epoch_14.pt\n",
      "../HDBScanBased_pjr_saved_optimizer_HDBScanBased/HDBScanBased_PJR_replay_500/2018-06/best_optimizer_epoch_14.pt\n",
      "Epoch 15 of 500\n"
     ]
    },
    {
     "name": "stderr",
     "output_type": "stream",
     "text": [
      "100%|██████████| 19/19 [00:03<00:00,  6.11it/s]\n",
      "100%|██████████| 6/6 [00:00<00:00,  8.36it/s]\n",
      "  0%|          | 0/19 [00:00<?, ?it/s]"
     ]
    },
    {
     "name": "stdout",
     "output_type": "stream",
     "text": [
      "Train Loss: 0.1217, Train Acc: 0.9543\n",
      "Val Loss: 0.1214, Val Acc: 0.9567\n",
      "Validation loss decreased (0.125071 --> 0.121416).  Saving model ...\n",
      "../HDBScanBased_pjr_saved_model_HDBScanBased/HDBScanBased_PJR_replay_500/2018-06/best_model_epoch_15.pt\n",
      "../HDBScanBased_pjr_saved_optimizer_HDBScanBased/HDBScanBased_PJR_replay_500/2018-06/best_optimizer_epoch_15.pt\n",
      "Epoch 16 of 500\n"
     ]
    },
    {
     "name": "stderr",
     "output_type": "stream",
     "text": [
      "100%|██████████| 19/19 [00:03<00:00,  5.94it/s]\n",
      "100%|██████████| 6/6 [00:00<00:00,  8.34it/s]\n",
      "  0%|          | 0/19 [00:00<?, ?it/s]"
     ]
    },
    {
     "name": "stdout",
     "output_type": "stream",
     "text": [
      "Train Loss: 0.1369, Train Acc: 0.9472\n",
      "Val Loss: 0.1415, Val Acc: 0.9507\n",
      "EarlyStopping counter: 1 out of 5\n",
      "Epoch 17 of 500\n"
     ]
    },
    {
     "name": "stderr",
     "output_type": "stream",
     "text": [
      "100%|██████████| 19/19 [00:03<00:00,  5.60it/s]\n",
      "100%|██████████| 6/6 [00:00<00:00,  9.95it/s]\n",
      "  0%|          | 0/19 [00:00<?, ?it/s]"
     ]
    },
    {
     "name": "stdout",
     "output_type": "stream",
     "text": [
      "Train Loss: 0.1235, Train Acc: 0.9530\n",
      "Val Loss: 0.1269, Val Acc: 0.9540\n",
      "EarlyStopping counter: 2 out of 5\n",
      "Epoch 18 of 500\n"
     ]
    },
    {
     "name": "stderr",
     "output_type": "stream",
     "text": [
      "100%|██████████| 19/19 [00:03<00:00,  5.89it/s]\n",
      "100%|██████████| 6/6 [00:00<00:00,  9.68it/s]\n",
      "  0%|          | 0/19 [00:00<?, ?it/s]"
     ]
    },
    {
     "name": "stdout",
     "output_type": "stream",
     "text": [
      "Train Loss: 0.1142, Train Acc: 0.9572\n",
      "Val Loss: 0.1383, Val Acc: 0.9500\n",
      "EarlyStopping counter: 3 out of 5\n",
      "Epoch 19 of 500\n"
     ]
    },
    {
     "name": "stderr",
     "output_type": "stream",
     "text": [
      "100%|██████████| 19/19 [00:03<00:00,  6.22it/s]\n",
      "100%|██████████| 6/6 [00:00<00:00,  9.21it/s]\n",
      "  0%|          | 0/19 [00:00<?, ?it/s]"
     ]
    },
    {
     "name": "stdout",
     "output_type": "stream",
     "text": [
      "Train Loss: 0.1104, Train Acc: 0.9577\n",
      "Val Loss: 0.1330, Val Acc: 0.9523\n",
      "EarlyStopping counter: 4 out of 5\n",
      "Epoch 20 of 500\n"
     ]
    },
    {
     "name": "stderr",
     "output_type": "stream",
     "text": [
      "100%|██████████| 19/19 [00:03<00:00,  6.17it/s]\n",
      "100%|██████████| 6/6 [00:00<00:00,  7.77it/s]\n",
      "  0%|          | 0/6 [00:00<?, ?it/s]"
     ]
    },
    {
     "name": "stdout",
     "output_type": "stream",
     "text": [
      "Train Loss: 0.1093, Train Acc: 0.9587\n",
      "Val Loss: 0.1326, Val Acc: 0.9542\n",
      "EarlyStopping counter: 5 out of 5\n",
      "Early stopping\n",
      "Training time: 1.329 minutes\n",
      "loading best model ../HDBScanBased_pjr_saved_model_HDBScanBased/HDBScanBased_PJR_replay_500/2018-06/best_model_epoch_15.pt\n",
      "loading best optimizer ../HDBScanBased_pjr_saved_optimizer_HDBScanBased/HDBScanBased_PJR_replay_500/2018-06/best_optimizer_epoch_15.pt\n"
     ]
    },
    {
     "name": "stderr",
     "output_type": "stream",
     "text": [
      "100%|██████████| 6/6 [00:01<00:00,  5.10it/s]\n"
     ]
    },
    {
     "name": "stdout",
     "output_type": "stream",
     "text": [
      "test accuracy 0.9505290985107422 and ROC-AUC 0.9542523585334376\n",
      "Task Elapsed time 3.3820900599161785 mins.\n",
      "\n",
      "2022-12-16 03:23:02 Round 1 ...\n",
      "Current Task 2018-07 w/ 500 samples to Replay per Malware family.\n",
      "X_train (46278, 2381) Y_train (46278,) Y_tr_family (46278,)\n",
      "X_test (35544, 2381) Y_test (35544,) Y_te_family (35544,)\n",
      "2022-12-16 03:23:05 Standardizing ...\n",
      "Task 2018-07 and #-of new samples stored 46278\n",
      "pre_malware_samples 65735\n",
      "pre_goodware_samples 65735\n"
     ]
    },
    {
     "name": "stderr",
     "output_type": "stream",
     "text": [
      "\r",
      "  0%|          | 0/21 [00:00<?, ?it/s]"
     ]
    },
    {
     "name": "stdout",
     "output_type": "stream",
     "text": [
      "good 65735 mal 65735\n",
      "True\n",
      "task 2018-07 exemplars used 65735\n",
      "Current Training - X_train (131470, 2381) \n",
      "2022-12-16 03:25:55 Training ...\n",
      "Epoch 1 of 500\n"
     ]
    },
    {
     "name": "stderr",
     "output_type": "stream",
     "text": [
      "100%|██████████| 21/21 [00:04<00:00,  5.18it/s]\n",
      "100%|██████████| 6/6 [00:00<00:00,  6.99it/s]\n",
      "  0%|          | 0/21 [00:00<?, ?it/s]"
     ]
    },
    {
     "name": "stdout",
     "output_type": "stream",
     "text": [
      "Train Loss: 0.1280, Train Acc: 0.9533\n",
      "Val Loss: 0.1445, Val Acc: 0.9486\n",
      "Validation loss decreased (inf --> 0.144516).  Saving model ...\n",
      "../HDBScanBased_pjr_saved_model_HDBScanBased/HDBScanBased_PJR_replay_500/2018-07/best_model_epoch_1.pt\n",
      "../HDBScanBased_pjr_saved_optimizer_HDBScanBased/HDBScanBased_PJR_replay_500/2018-07/best_optimizer_epoch_1.pt\n",
      "Epoch 2 of 500\n"
     ]
    },
    {
     "name": "stderr",
     "output_type": "stream",
     "text": [
      "100%|██████████| 21/21 [00:03<00:00,  5.55it/s]\n",
      "100%|██████████| 6/6 [00:00<00:00,  7.28it/s]\n",
      "  0%|          | 0/21 [00:00<?, ?it/s]"
     ]
    },
    {
     "name": "stdout",
     "output_type": "stream",
     "text": [
      "Train Loss: 0.1219, Train Acc: 0.9544\n",
      "Val Loss: 0.1428, Val Acc: 0.9495\n",
      "Validation loss decreased (0.144516 --> 0.142840).  Saving model ...\n",
      "../HDBScanBased_pjr_saved_model_HDBScanBased/HDBScanBased_PJR_replay_500/2018-07/best_model_epoch_2.pt\n",
      "../HDBScanBased_pjr_saved_optimizer_HDBScanBased/HDBScanBased_PJR_replay_500/2018-07/best_optimizer_epoch_2.pt\n",
      "Epoch 3 of 500\n"
     ]
    },
    {
     "name": "stderr",
     "output_type": "stream",
     "text": [
      "100%|██████████| 21/21 [00:03<00:00,  5.78it/s]\n",
      "100%|██████████| 6/6 [00:00<00:00,  8.63it/s]\n",
      "  0%|          | 0/21 [00:00<?, ?it/s]"
     ]
    },
    {
     "name": "stdout",
     "output_type": "stream",
     "text": [
      "Train Loss: 0.1196, Train Acc: 0.9556\n",
      "Val Loss: 0.1399, Val Acc: 0.9506\n",
      "Validation loss decreased (0.142840 --> 0.139867).  Saving model ...\n",
      "../HDBScanBased_pjr_saved_model_HDBScanBased/HDBScanBased_PJR_replay_500/2018-07/best_model_epoch_3.pt\n",
      "../HDBScanBased_pjr_saved_optimizer_HDBScanBased/HDBScanBased_PJR_replay_500/2018-07/best_optimizer_epoch_3.pt\n",
      "Epoch 4 of 500\n"
     ]
    },
    {
     "name": "stderr",
     "output_type": "stream",
     "text": [
      "100%|██████████| 21/21 [00:03<00:00,  5.94it/s]\n",
      "100%|██████████| 6/6 [00:00<00:00,  7.78it/s]\n",
      "  0%|          | 0/21 [00:00<?, ?it/s]"
     ]
    },
    {
     "name": "stdout",
     "output_type": "stream",
     "text": [
      "Train Loss: 0.1173, Train Acc: 0.9566\n",
      "Val Loss: 0.1416, Val Acc: 0.9501\n",
      "EarlyStopping counter: 1 out of 5\n",
      "Epoch 5 of 500\n"
     ]
    },
    {
     "name": "stderr",
     "output_type": "stream",
     "text": [
      "100%|██████████| 21/21 [00:03<00:00,  6.13it/s]\n",
      "100%|██████████| 6/6 [00:00<00:00,  8.90it/s]\n",
      "  0%|          | 0/21 [00:00<?, ?it/s]"
     ]
    },
    {
     "name": "stdout",
     "output_type": "stream",
     "text": [
      "Train Loss: 0.1118, Train Acc: 0.9586\n",
      "Val Loss: 0.1414, Val Acc: 0.9509\n",
      "EarlyStopping counter: 2 out of 5\n",
      "Epoch 6 of 500\n"
     ]
    },
    {
     "name": "stderr",
     "output_type": "stream",
     "text": [
      "100%|██████████| 21/21 [00:03<00:00,  6.11it/s]\n",
      "100%|██████████| 6/6 [00:00<00:00,  7.75it/s]\n",
      "  0%|          | 0/21 [00:00<?, ?it/s]"
     ]
    },
    {
     "name": "stdout",
     "output_type": "stream",
     "text": [
      "Train Loss: 0.1136, Train Acc: 0.9576\n",
      "Val Loss: 0.1426, Val Acc: 0.9497\n",
      "EarlyStopping counter: 3 out of 5\n",
      "Epoch 7 of 500\n"
     ]
    },
    {
     "name": "stderr",
     "output_type": "stream",
     "text": [
      "100%|██████████| 21/21 [00:03<00:00,  6.04it/s]\n",
      "100%|██████████| 6/6 [00:00<00:00,  8.94it/s]\n",
      "  0%|          | 0/21 [00:00<?, ?it/s]"
     ]
    },
    {
     "name": "stdout",
     "output_type": "stream",
     "text": [
      "Train Loss: 0.1103, Train Acc: 0.9592\n",
      "Val Loss: 0.1389, Val Acc: 0.9502\n",
      "Validation loss decreased (0.139867 --> 0.138925).  Saving model ...\n",
      "../HDBScanBased_pjr_saved_model_HDBScanBased/HDBScanBased_PJR_replay_500/2018-07/best_model_epoch_7.pt\n",
      "../HDBScanBased_pjr_saved_optimizer_HDBScanBased/HDBScanBased_PJR_replay_500/2018-07/best_optimizer_epoch_7.pt\n",
      "Epoch 8 of 500\n"
     ]
    },
    {
     "name": "stderr",
     "output_type": "stream",
     "text": [
      "100%|██████████| 21/21 [00:03<00:00,  6.33it/s]\n",
      "100%|██████████| 6/6 [00:00<00:00,  7.83it/s]\n",
      "  0%|          | 0/21 [00:00<?, ?it/s]"
     ]
    },
    {
     "name": "stdout",
     "output_type": "stream",
     "text": [
      "Train Loss: 0.1098, Train Acc: 0.9601\n",
      "Val Loss: 0.1380, Val Acc: 0.9525\n",
      "Validation loss decreased (0.138925 --> 0.138011).  Saving model ...\n",
      "../HDBScanBased_pjr_saved_model_HDBScanBased/HDBScanBased_PJR_replay_500/2018-07/best_model_epoch_8.pt\n",
      "../HDBScanBased_pjr_saved_optimizer_HDBScanBased/HDBScanBased_PJR_replay_500/2018-07/best_optimizer_epoch_8.pt\n",
      "Epoch 9 of 500\n"
     ]
    },
    {
     "name": "stderr",
     "output_type": "stream",
     "text": [
      "100%|██████████| 21/21 [00:03<00:00,  6.37it/s]\n",
      "100%|██████████| 6/6 [00:00<00:00,  8.89it/s]\n",
      "  0%|          | 0/21 [00:00<?, ?it/s]"
     ]
    },
    {
     "name": "stdout",
     "output_type": "stream",
     "text": [
      "Train Loss: 0.1076, Train Acc: 0.9601\n",
      "Val Loss: 0.1388, Val Acc: 0.9514\n",
      "EarlyStopping counter: 1 out of 5\n",
      "Epoch 10 of 500\n"
     ]
    },
    {
     "name": "stderr",
     "output_type": "stream",
     "text": [
      "100%|██████████| 21/21 [00:03<00:00,  6.33it/s]\n",
      "100%|██████████| 6/6 [00:00<00:00,  7.69it/s]\n",
      "  0%|          | 0/21 [00:00<?, ?it/s]"
     ]
    },
    {
     "name": "stdout",
     "output_type": "stream",
     "text": [
      "Train Loss: 0.1066, Train Acc: 0.9603\n",
      "Val Loss: 0.1371, Val Acc: 0.9529\n",
      "Validation loss decreased (0.138011 --> 0.137112).  Saving model ...\n",
      "../HDBScanBased_pjr_saved_model_HDBScanBased/HDBScanBased_PJR_replay_500/2018-07/best_model_epoch_10.pt\n",
      "../HDBScanBased_pjr_saved_optimizer_HDBScanBased/HDBScanBased_PJR_replay_500/2018-07/best_optimizer_epoch_10.pt\n",
      "Epoch 11 of 500\n"
     ]
    },
    {
     "name": "stderr",
     "output_type": "stream",
     "text": [
      "100%|██████████| 21/21 [00:03<00:00,  6.41it/s]\n",
      "100%|██████████| 6/6 [00:00<00:00,  8.11it/s]\n",
      "  0%|          | 0/21 [00:00<?, ?it/s]"
     ]
    },
    {
     "name": "stdout",
     "output_type": "stream",
     "text": [
      "Train Loss: 0.1012, Train Acc: 0.9628\n",
      "Val Loss: 0.1386, Val Acc: 0.9519\n",
      "EarlyStopping counter: 1 out of 5\n",
      "Epoch 12 of 500\n"
     ]
    },
    {
     "name": "stderr",
     "output_type": "stream",
     "text": [
      "100%|██████████| 21/21 [00:03<00:00,  6.35it/s]\n",
      "100%|██████████| 6/6 [00:00<00:00,  7.15it/s]\n",
      "  0%|          | 0/21 [00:00<?, ?it/s]"
     ]
    },
    {
     "name": "stdout",
     "output_type": "stream",
     "text": [
      "Train Loss: 0.1016, Train Acc: 0.9624\n",
      "Val Loss: 0.1367, Val Acc: 0.9526\n",
      "Validation loss decreased (0.137112 --> 0.136727).  Saving model ...\n",
      "../HDBScanBased_pjr_saved_model_HDBScanBased/HDBScanBased_PJR_replay_500/2018-07/best_model_epoch_12.pt\n",
      "../HDBScanBased_pjr_saved_optimizer_HDBScanBased/HDBScanBased_PJR_replay_500/2018-07/best_optimizer_epoch_12.pt\n",
      "Epoch 13 of 500\n"
     ]
    },
    {
     "name": "stderr",
     "output_type": "stream",
     "text": [
      "100%|██████████| 21/21 [00:03<00:00,  6.37it/s]\n",
      "100%|██████████| 6/6 [00:00<00:00,  8.64it/s]\n",
      "  0%|          | 0/21 [00:00<?, ?it/s]"
     ]
    },
    {
     "name": "stdout",
     "output_type": "stream",
     "text": [
      "Train Loss: 0.1000, Train Acc: 0.9627\n",
      "Val Loss: 0.1383, Val Acc: 0.9516\n",
      "EarlyStopping counter: 1 out of 5\n",
      "Epoch 14 of 500\n"
     ]
    },
    {
     "name": "stderr",
     "output_type": "stream",
     "text": [
      "100%|██████████| 21/21 [00:03<00:00,  6.02it/s]\n",
      "100%|██████████| 6/6 [00:00<00:00,  7.66it/s]\n",
      "  0%|          | 0/21 [00:00<?, ?it/s]"
     ]
    },
    {
     "name": "stdout",
     "output_type": "stream",
     "text": [
      "Train Loss: 0.0995, Train Acc: 0.9626\n",
      "Val Loss: 0.1384, Val Acc: 0.9515\n",
      "EarlyStopping counter: 2 out of 5\n",
      "Epoch 15 of 500\n"
     ]
    },
    {
     "name": "stderr",
     "output_type": "stream",
     "text": [
      "100%|██████████| 21/21 [00:03<00:00,  6.03it/s]\n",
      "100%|██████████| 6/6 [00:00<00:00,  8.47it/s]\n",
      "  0%|          | 0/21 [00:00<?, ?it/s]"
     ]
    },
    {
     "name": "stdout",
     "output_type": "stream",
     "text": [
      "Train Loss: 0.0974, Train Acc: 0.9634\n",
      "Val Loss: 0.1423, Val Acc: 0.9518\n",
      "EarlyStopping counter: 3 out of 5\n",
      "Epoch 16 of 500\n"
     ]
    },
    {
     "name": "stderr",
     "output_type": "stream",
     "text": [
      "100%|██████████| 21/21 [00:03<00:00,  6.42it/s]\n",
      "100%|██████████| 6/6 [00:00<00:00,  7.64it/s]\n",
      "  0%|          | 0/21 [00:00<?, ?it/s]"
     ]
    },
    {
     "name": "stdout",
     "output_type": "stream",
     "text": [
      "Train Loss: 0.0982, Train Acc: 0.9645\n",
      "Val Loss: 0.1390, Val Acc: 0.9522\n",
      "EarlyStopping counter: 4 out of 5\n",
      "Epoch 17 of 500\n"
     ]
    },
    {
     "name": "stderr",
     "output_type": "stream",
     "text": [
      "100%|██████████| 21/21 [00:03<00:00,  6.40it/s]\n",
      "100%|██████████| 6/6 [00:00<00:00,  8.62it/s]\n",
      "  0%|          | 0/6 [00:00<?, ?it/s]"
     ]
    },
    {
     "name": "stdout",
     "output_type": "stream",
     "text": [
      "Train Loss: 0.0977, Train Acc: 0.9634\n",
      "Val Loss: 0.1418, Val Acc: 0.9516\n",
      "EarlyStopping counter: 5 out of 5\n",
      "Early stopping\n",
      "Training time: 1.208 minutes\n",
      "loading best model ../HDBScanBased_pjr_saved_model_HDBScanBased/HDBScanBased_PJR_replay_500/2018-07/best_model_epoch_12.pt\n",
      "loading best optimizer ../HDBScanBased_pjr_saved_optimizer_HDBScanBased/HDBScanBased_PJR_replay_500/2018-07/best_optimizer_epoch_12.pt\n"
     ]
    },
    {
     "name": "stderr",
     "output_type": "stream",
     "text": [
      "100%|██████████| 6/6 [00:01<00:00,  3.95it/s]\n"
     ]
    },
    {
     "name": "stdout",
     "output_type": "stream",
     "text": [
      "test accuracy 0.9528644581635793 and ROC-AUC 0.9528643239455604\n",
      "Task Elapsed time 4.1106982827186584 mins.\n",
      "\n",
      "2022-12-16 03:27:09 Round 1 ...\n",
      "Current Task 2018-08 w/ 500 samples to Replay per Malware family.\n",
      "X_train (40882, 2381) Y_train (40882,) Y_tr_family (40882,)\n",
      "X_test (40087, 2381) Y_test (40087,) Y_te_family (40087,)\n",
      "2022-12-16 03:27:12 Standardizing ...\n",
      "Task 2018-08 and #-of new samples stored 40882\n",
      "pre_malware_samples 71482\n",
      "pre_goodware_samples 71482\n"
     ]
    },
    {
     "name": "stderr",
     "output_type": "stream",
     "text": [
      "\r",
      "  0%|          | 0/23 [00:00<?, ?it/s]"
     ]
    },
    {
     "name": "stdout",
     "output_type": "stream",
     "text": [
      "good 71482 mal 71482\n",
      "True\n",
      "task 2018-08 exemplars used 71482\n",
      "Current Training - X_train (142964, 2381) \n",
      "2022-12-16 03:29:30 Training ...\n",
      "Epoch 1 of 500\n"
     ]
    },
    {
     "name": "stderr",
     "output_type": "stream",
     "text": [
      "100%|██████████| 23/23 [00:03<00:00,  6.44it/s]\n",
      "100%|██████████| 7/7 [00:01<00:00,  6.83it/s]\n",
      "  0%|          | 0/23 [00:00<?, ?it/s]"
     ]
    },
    {
     "name": "stdout",
     "output_type": "stream",
     "text": [
      "Train Loss: 0.1210, Train Acc: 0.9552\n",
      "Val Loss: 0.1413, Val Acc: 0.9510\n",
      "Validation loss decreased (inf --> 0.141268).  Saving model ...\n",
      "../HDBScanBased_pjr_saved_model_HDBScanBased/HDBScanBased_PJR_replay_500/2018-08/best_model_epoch_1.pt\n",
      "../HDBScanBased_pjr_saved_optimizer_HDBScanBased/HDBScanBased_PJR_replay_500/2018-08/best_optimizer_epoch_1.pt\n",
      "Epoch 2 of 500\n"
     ]
    },
    {
     "name": "stderr",
     "output_type": "stream",
     "text": [
      "100%|██████████| 23/23 [00:03<00:00,  6.66it/s]\n",
      "100%|██████████| 7/7 [00:00<00:00,  8.19it/s]\n",
      "  0%|          | 0/23 [00:00<?, ?it/s]"
     ]
    },
    {
     "name": "stdout",
     "output_type": "stream",
     "text": [
      "Train Loss: 0.1165, Train Acc: 0.9560\n",
      "Val Loss: 0.1354, Val Acc: 0.9528\n",
      "Validation loss decreased (0.141268 --> 0.135354).  Saving model ...\n",
      "../HDBScanBased_pjr_saved_model_HDBScanBased/HDBScanBased_PJR_replay_500/2018-08/best_model_epoch_2.pt\n",
      "../HDBScanBased_pjr_saved_optimizer_HDBScanBased/HDBScanBased_PJR_replay_500/2018-08/best_optimizer_epoch_2.pt\n",
      "Epoch 3 of 500\n"
     ]
    },
    {
     "name": "stderr",
     "output_type": "stream",
     "text": [
      "100%|██████████| 23/23 [00:03<00:00,  6.51it/s]\n",
      "100%|██████████| 7/7 [00:00<00:00,  8.21it/s]\n",
      "  0%|          | 0/23 [00:00<?, ?it/s]"
     ]
    },
    {
     "name": "stdout",
     "output_type": "stream",
     "text": [
      "Train Loss: 0.1151, Train Acc: 0.9567\n",
      "Val Loss: 0.1374, Val Acc: 0.9518\n",
      "EarlyStopping counter: 1 out of 5\n",
      "Epoch 4 of 500\n"
     ]
    },
    {
     "name": "stderr",
     "output_type": "stream",
     "text": [
      "100%|██████████| 23/23 [00:03<00:00,  6.72it/s]\n",
      "100%|██████████| 7/7 [00:00<00:00,  9.33it/s]\n",
      "  0%|          | 0/23 [00:00<?, ?it/s]"
     ]
    },
    {
     "name": "stdout",
     "output_type": "stream",
     "text": [
      "Train Loss: 0.1135, Train Acc: 0.9567\n",
      "Val Loss: 0.1313, Val Acc: 0.9536\n",
      "Validation loss decreased (0.135354 --> 0.131332).  Saving model ...\n",
      "../HDBScanBased_pjr_saved_model_HDBScanBased/HDBScanBased_PJR_replay_500/2018-08/best_model_epoch_4.pt\n",
      "../HDBScanBased_pjr_saved_optimizer_HDBScanBased/HDBScanBased_PJR_replay_500/2018-08/best_optimizer_epoch_4.pt\n",
      "Epoch 5 of 500\n"
     ]
    },
    {
     "name": "stderr",
     "output_type": "stream",
     "text": [
      "100%|██████████| 23/23 [00:03<00:00,  6.65it/s]\n",
      "100%|██████████| 7/7 [00:00<00:00,  8.22it/s]\n",
      "  0%|          | 0/23 [00:00<?, ?it/s]"
     ]
    },
    {
     "name": "stdout",
     "output_type": "stream",
     "text": [
      "Train Loss: 0.1087, Train Acc: 0.9591\n",
      "Val Loss: 0.1341, Val Acc: 0.9533\n",
      "EarlyStopping counter: 1 out of 5\n",
      "Epoch 6 of 500\n"
     ]
    },
    {
     "name": "stderr",
     "output_type": "stream",
     "text": [
      "100%|██████████| 23/23 [00:03<00:00,  6.19it/s]\n",
      "100%|██████████| 7/7 [00:00<00:00,  8.05it/s]\n",
      "  0%|          | 0/23 [00:00<?, ?it/s]"
     ]
    },
    {
     "name": "stdout",
     "output_type": "stream",
     "text": [
      "Train Loss: 0.1078, Train Acc: 0.9594\n",
      "Val Loss: 0.1352, Val Acc: 0.9528\n",
      "EarlyStopping counter: 2 out of 5\n",
      "Epoch 7 of 500\n"
     ]
    },
    {
     "name": "stderr",
     "output_type": "stream",
     "text": [
      "100%|██████████| 23/23 [00:03<00:00,  6.31it/s]\n",
      "100%|██████████| 7/7 [00:00<00:00,  9.28it/s]\n",
      "  0%|          | 0/23 [00:00<?, ?it/s]"
     ]
    },
    {
     "name": "stdout",
     "output_type": "stream",
     "text": [
      "Train Loss: 0.1052, Train Acc: 0.9593\n",
      "Val Loss: 0.1327, Val Acc: 0.9539\n",
      "EarlyStopping counter: 3 out of 5\n",
      "Epoch 8 of 500\n"
     ]
    },
    {
     "name": "stderr",
     "output_type": "stream",
     "text": [
      "100%|██████████| 23/23 [00:03<00:00,  6.05it/s]\n",
      "100%|██████████| 7/7 [00:00<00:00,  8.31it/s]\n",
      "  0%|          | 0/23 [00:00<?, ?it/s]"
     ]
    },
    {
     "name": "stdout",
     "output_type": "stream",
     "text": [
      "Train Loss: 0.1057, Train Acc: 0.9597\n",
      "Val Loss: 0.1339, Val Acc: 0.9530\n",
      "EarlyStopping counter: 4 out of 5\n",
      "Epoch 9 of 500\n"
     ]
    },
    {
     "name": "stderr",
     "output_type": "stream",
     "text": [
      "100%|██████████| 23/23 [00:03<00:00,  5.89it/s]\n",
      "100%|██████████| 7/7 [00:00<00:00,  7.86it/s]\n",
      "  0%|          | 0/7 [00:00<?, ?it/s]"
     ]
    },
    {
     "name": "stdout",
     "output_type": "stream",
     "text": [
      "Train Loss: 0.1048, Train Acc: 0.9603\n",
      "Val Loss: 0.1325, Val Acc: 0.9539\n",
      "EarlyStopping counter: 5 out of 5\n",
      "Early stopping\n",
      "Training time: 0.678 minutes\n",
      "loading best model ../HDBScanBased_pjr_saved_model_HDBScanBased/HDBScanBased_PJR_replay_500/2018-08/best_model_epoch_4.pt\n",
      "loading best optimizer ../HDBScanBased_pjr_saved_optimizer_HDBScanBased/HDBScanBased_PJR_replay_500/2018-08/best_optimizer_epoch_4.pt\n"
     ]
    },
    {
     "name": "stderr",
     "output_type": "stream",
     "text": [
      "100%|██████████| 7/7 [00:01<00:00,  4.26it/s]\n"
     ]
    },
    {
     "name": "stdout",
     "output_type": "stream",
     "text": [
      "test accuracy 0.9529950107846942 and ROC-AUC 0.953023375759422\n",
      "Task Elapsed time 3.0524194637934365 mins.\n",
      "\n",
      "2022-12-16 03:30:12 Round 1 ...\n",
      "Current Task 2018-09 w/ 500 samples to Replay per Malware family.\n",
      "X_train (56492, 2381) Y_train (56492,) Y_tr_family (56492,)\n",
      "X_test (46364, 2381) Y_test (46364,) Y_te_family (46364,)\n",
      "2022-12-16 03:30:16 Standardizing ...\n",
      "Task 2018-09 and #-of new samples stored 56492\n",
      "pre_malware_samples 82747\n",
      "pre_goodware_samples 82747\n"
     ]
    },
    {
     "name": "stderr",
     "output_type": "stream",
     "text": [
      "\r",
      "  0%|          | 0/27 [00:00<?, ?it/s]"
     ]
    },
    {
     "name": "stdout",
     "output_type": "stream",
     "text": [
      "good 82747 mal 82747\n",
      "True\n",
      "task 2018-09 exemplars used 82747\n",
      "Current Training - X_train (165494, 2381) \n",
      "2022-12-16 03:34:03 Training ...\n",
      "Epoch 1 of 500\n"
     ]
    },
    {
     "name": "stderr",
     "output_type": "stream",
     "text": [
      "100%|██████████| 27/27 [00:04<00:00,  5.61it/s]\n",
      "100%|██████████| 8/8 [00:01<00:00,  7.14it/s]\n",
      "  0%|          | 0/27 [00:00<?, ?it/s]"
     ]
    },
    {
     "name": "stdout",
     "output_type": "stream",
     "text": [
      "Train Loss: 0.1380, Train Acc: 0.9482\n",
      "Val Loss: 0.1437, Val Acc: 0.9482\n",
      "Validation loss decreased (inf --> 0.143737).  Saving model ...\n",
      "../HDBScanBased_pjr_saved_model_HDBScanBased/HDBScanBased_PJR_replay_500/2018-09/best_model_epoch_1.pt\n",
      "../HDBScanBased_pjr_saved_optimizer_HDBScanBased/HDBScanBased_PJR_replay_500/2018-09/best_optimizer_epoch_1.pt\n",
      "Epoch 2 of 500\n"
     ]
    },
    {
     "name": "stderr",
     "output_type": "stream",
     "text": [
      "100%|██████████| 27/27 [00:04<00:00,  5.87it/s]\n",
      "100%|██████████| 8/8 [00:00<00:00,  8.62it/s]\n",
      "  0%|          | 0/27 [00:00<?, ?it/s]"
     ]
    },
    {
     "name": "stdout",
     "output_type": "stream",
     "text": [
      "Train Loss: 0.1316, Train Acc: 0.9495\n",
      "Val Loss: 0.1366, Val Acc: 0.9494\n",
      "Validation loss decreased (0.143737 --> 0.136621).  Saving model ...\n",
      "../HDBScanBased_pjr_saved_model_HDBScanBased/HDBScanBased_PJR_replay_500/2018-09/best_model_epoch_2.pt\n",
      "../HDBScanBased_pjr_saved_optimizer_HDBScanBased/HDBScanBased_PJR_replay_500/2018-09/best_optimizer_epoch_2.pt\n",
      "Epoch 3 of 500\n"
     ]
    },
    {
     "name": "stderr",
     "output_type": "stream",
     "text": [
      "100%|██████████| 27/27 [00:04<00:00,  5.73it/s]\n",
      "100%|██████████| 8/8 [00:00<00:00,  8.53it/s]\n",
      "  0%|          | 0/27 [00:00<?, ?it/s]"
     ]
    },
    {
     "name": "stdout",
     "output_type": "stream",
     "text": [
      "Train Loss: 0.1241, Train Acc: 0.9531\n",
      "Val Loss: 0.1352, Val Acc: 0.9501\n",
      "Validation loss decreased (0.136621 --> 0.135159).  Saving model ...\n",
      "../HDBScanBased_pjr_saved_model_HDBScanBased/HDBScanBased_PJR_replay_500/2018-09/best_model_epoch_3.pt\n",
      "../HDBScanBased_pjr_saved_optimizer_HDBScanBased/HDBScanBased_PJR_replay_500/2018-09/best_optimizer_epoch_3.pt\n",
      "Epoch 4 of 500\n"
     ]
    },
    {
     "name": "stderr",
     "output_type": "stream",
     "text": [
      "100%|██████████| 27/27 [00:04<00:00,  5.83it/s]\n",
      "100%|██████████| 8/8 [00:00<00:00,  8.51it/s]\n",
      "  0%|          | 0/27 [00:00<?, ?it/s]"
     ]
    },
    {
     "name": "stdout",
     "output_type": "stream",
     "text": [
      "Train Loss: 0.1230, Train Acc: 0.9533\n",
      "Val Loss: 0.1352, Val Acc: 0.9502\n",
      "EarlyStopping counter: 1 out of 5\n",
      "Epoch 5 of 500\n"
     ]
    },
    {
     "name": "stderr",
     "output_type": "stream",
     "text": [
      "100%|██████████| 27/27 [00:04<00:00,  6.12it/s]\n",
      "100%|██████████| 8/8 [00:00<00:00,  8.47it/s]\n",
      "  0%|          | 0/27 [00:00<?, ?it/s]"
     ]
    },
    {
     "name": "stdout",
     "output_type": "stream",
     "text": [
      "Train Loss: 0.1214, Train Acc: 0.9541\n",
      "Val Loss: 0.1420, Val Acc: 0.9482\n",
      "EarlyStopping counter: 2 out of 5\n",
      "Epoch 6 of 500\n"
     ]
    },
    {
     "name": "stderr",
     "output_type": "stream",
     "text": [
      "100%|██████████| 27/27 [00:04<00:00,  6.19it/s]\n",
      "100%|██████████| 8/8 [00:00<00:00,  8.53it/s]\n",
      "  0%|          | 0/27 [00:00<?, ?it/s]"
     ]
    },
    {
     "name": "stdout",
     "output_type": "stream",
     "text": [
      "Train Loss: 0.1194, Train Acc: 0.9543\n",
      "Val Loss: 0.1348, Val Acc: 0.9500\n",
      "Validation loss decreased (0.135159 --> 0.134822).  Saving model ...\n",
      "../HDBScanBased_pjr_saved_model_HDBScanBased/HDBScanBased_PJR_replay_500/2018-09/best_model_epoch_6.pt\n",
      "../HDBScanBased_pjr_saved_optimizer_HDBScanBased/HDBScanBased_PJR_replay_500/2018-09/best_optimizer_epoch_6.pt\n",
      "Epoch 7 of 500\n"
     ]
    },
    {
     "name": "stderr",
     "output_type": "stream",
     "text": [
      "100%|██████████| 27/27 [00:04<00:00,  6.15it/s]\n",
      "100%|██████████| 8/8 [00:00<00:00,  8.50it/s]\n",
      "  0%|          | 0/27 [00:00<?, ?it/s]"
     ]
    },
    {
     "name": "stdout",
     "output_type": "stream",
     "text": [
      "Train Loss: 0.1337, Train Acc: 0.9484\n",
      "Val Loss: 0.1361, Val Acc: 0.9494\n",
      "EarlyStopping counter: 1 out of 5\n",
      "Epoch 8 of 500\n"
     ]
    },
    {
     "name": "stderr",
     "output_type": "stream",
     "text": [
      "100%|██████████| 27/27 [00:04<00:00,  6.21it/s]\n",
      "100%|██████████| 8/8 [00:01<00:00,  7.59it/s]\n",
      "  0%|          | 0/27 [00:00<?, ?it/s]"
     ]
    },
    {
     "name": "stdout",
     "output_type": "stream",
     "text": [
      "Train Loss: 0.1310, Train Acc: 0.9500\n",
      "Val Loss: 0.1459, Val Acc: 0.9454\n",
      "EarlyStopping counter: 2 out of 5\n",
      "Epoch 9 of 500\n"
     ]
    },
    {
     "name": "stderr",
     "output_type": "stream",
     "text": [
      "100%|██████████| 27/27 [00:04<00:00,  6.43it/s]\n",
      "100%|██████████| 8/8 [00:00<00:00,  8.36it/s]\n",
      "  0%|          | 0/27 [00:00<?, ?it/s]"
     ]
    },
    {
     "name": "stdout",
     "output_type": "stream",
     "text": [
      "Train Loss: 0.1253, Train Acc: 0.9514\n",
      "Val Loss: 0.1347, Val Acc: 0.9511\n",
      "Validation loss decreased (0.134822 --> 0.134663).  Saving model ...\n",
      "../HDBScanBased_pjr_saved_model_HDBScanBased/HDBScanBased_PJR_replay_500/2018-09/best_model_epoch_9.pt\n",
      "../HDBScanBased_pjr_saved_optimizer_HDBScanBased/HDBScanBased_PJR_replay_500/2018-09/best_optimizer_epoch_9.pt\n",
      "Epoch 10 of 500\n"
     ]
    },
    {
     "name": "stderr",
     "output_type": "stream",
     "text": [
      "100%|██████████| 27/27 [00:04<00:00,  6.51it/s]\n",
      "100%|██████████| 8/8 [00:00<00:00,  8.34it/s]\n",
      "  0%|          | 0/27 [00:00<?, ?it/s]"
     ]
    },
    {
     "name": "stdout",
     "output_type": "stream",
     "text": [
      "Train Loss: 0.1183, Train Acc: 0.9547\n",
      "Val Loss: 0.1375, Val Acc: 0.9485\n",
      "EarlyStopping counter: 1 out of 5\n",
      "Epoch 11 of 500\n"
     ]
    },
    {
     "name": "stderr",
     "output_type": "stream",
     "text": [
      "100%|██████████| 27/27 [00:04<00:00,  6.32it/s]\n",
      "100%|██████████| 8/8 [00:00<00:00,  8.37it/s]\n",
      "  0%|          | 0/27 [00:00<?, ?it/s]"
     ]
    },
    {
     "name": "stdout",
     "output_type": "stream",
     "text": [
      "Train Loss: 0.1326, Train Acc: 0.9476\n",
      "Val Loss: 0.1308, Val Acc: 0.9512\n",
      "Validation loss decreased (0.134663 --> 0.130846).  Saving model ...\n",
      "../HDBScanBased_pjr_saved_model_HDBScanBased/HDBScanBased_PJR_replay_500/2018-09/best_model_epoch_11.pt\n",
      "../HDBScanBased_pjr_saved_optimizer_HDBScanBased/HDBScanBased_PJR_replay_500/2018-09/best_optimizer_epoch_11.pt\n",
      "Epoch 12 of 500\n"
     ]
    },
    {
     "name": "stderr",
     "output_type": "stream",
     "text": [
      "100%|██████████| 27/27 [00:04<00:00,  6.45it/s]\n",
      "100%|██████████| 8/8 [00:00<00:00,  8.28it/s]\n",
      "  0%|          | 0/27 [00:00<?, ?it/s]"
     ]
    },
    {
     "name": "stdout",
     "output_type": "stream",
     "text": [
      "Train Loss: 0.1163, Train Acc: 0.9551\n",
      "Val Loss: 0.1282, Val Acc: 0.9516\n",
      "Validation loss decreased (0.130846 --> 0.128187).  Saving model ...\n",
      "../HDBScanBased_pjr_saved_model_HDBScanBased/HDBScanBased_PJR_replay_500/2018-09/best_model_epoch_12.pt\n",
      "../HDBScanBased_pjr_saved_optimizer_HDBScanBased/HDBScanBased_PJR_replay_500/2018-09/best_optimizer_epoch_12.pt\n",
      "Epoch 13 of 500\n"
     ]
    },
    {
     "name": "stderr",
     "output_type": "stream",
     "text": [
      "100%|██████████| 27/27 [00:04<00:00,  6.65it/s]\n",
      "100%|██████████| 8/8 [00:00<00:00,  8.28it/s]\n",
      "  0%|          | 0/27 [00:00<?, ?it/s]"
     ]
    },
    {
     "name": "stdout",
     "output_type": "stream",
     "text": [
      "Train Loss: 0.1061, Train Acc: 0.9600\n",
      "Val Loss: 0.1337, Val Acc: 0.9505\n",
      "EarlyStopping counter: 1 out of 5\n",
      "Epoch 14 of 500\n"
     ]
    },
    {
     "name": "stderr",
     "output_type": "stream",
     "text": [
      "100%|██████████| 27/27 [00:04<00:00,  6.58it/s]\n",
      "100%|██████████| 8/8 [00:00<00:00,  8.32it/s]\n",
      "  0%|          | 0/27 [00:00<?, ?it/s]"
     ]
    },
    {
     "name": "stdout",
     "output_type": "stream",
     "text": [
      "Train Loss: 0.1043, Train Acc: 0.9604\n",
      "Val Loss: 0.1304, Val Acc: 0.9527\n",
      "EarlyStopping counter: 2 out of 5\n",
      "Epoch 15 of 500\n"
     ]
    },
    {
     "name": "stderr",
     "output_type": "stream",
     "text": [
      "100%|██████████| 27/27 [00:04<00:00,  6.64it/s]\n",
      "100%|██████████| 8/8 [00:00<00:00,  9.24it/s]\n",
      "  0%|          | 0/27 [00:00<?, ?it/s]"
     ]
    },
    {
     "name": "stdout",
     "output_type": "stream",
     "text": [
      "Train Loss: 0.1039, Train Acc: 0.9601\n",
      "Val Loss: 0.1345, Val Acc: 0.9506\n",
      "EarlyStopping counter: 3 out of 5\n",
      "Epoch 16 of 500\n"
     ]
    },
    {
     "name": "stderr",
     "output_type": "stream",
     "text": [
      "100%|██████████| 27/27 [00:04<00:00,  6.71it/s]\n",
      "100%|██████████| 8/8 [00:00<00:00,  8.50it/s]\n",
      "  0%|          | 0/27 [00:00<?, ?it/s]"
     ]
    },
    {
     "name": "stdout",
     "output_type": "stream",
     "text": [
      "Train Loss: 0.1012, Train Acc: 0.9609\n",
      "Val Loss: 0.1296, Val Acc: 0.9541\n",
      "EarlyStopping counter: 4 out of 5\n",
      "Epoch 17 of 500\n"
     ]
    },
    {
     "name": "stderr",
     "output_type": "stream",
     "text": [
      "100%|██████████| 27/27 [00:04<00:00,  6.73it/s]\n",
      "100%|██████████| 8/8 [00:00<00:00,  8.43it/s]\n",
      "  0%|          | 0/8 [00:00<?, ?it/s]"
     ]
    },
    {
     "name": "stdout",
     "output_type": "stream",
     "text": [
      "Train Loss: 0.1018, Train Acc: 0.9610\n",
      "Val Loss: 0.1381, Val Acc: 0.9502\n",
      "EarlyStopping counter: 5 out of 5\n",
      "Early stopping\n",
      "Training time: 1.512 minutes\n",
      "loading best model ../HDBScanBased_pjr_saved_model_HDBScanBased/HDBScanBased_PJR_replay_500/2018-09/best_model_epoch_12.pt\n",
      "loading best optimizer ../HDBScanBased_pjr_saved_optimizer_HDBScanBased/HDBScanBased_PJR_replay_500/2018-09/best_optimizer_epoch_12.pt\n"
     ]
    },
    {
     "name": "stderr",
     "output_type": "stream",
     "text": [
      "100%|██████████| 8/8 [00:01<00:00,  4.71it/s]\n"
     ]
    },
    {
     "name": "stdout",
     "output_type": "stream",
     "text": [
      "test accuracy 0.950896367430687 and ROC-AUC 0.9509938623072558\n",
      "Task Elapsed time 5.3925238966941835 mins.\n",
      "\n",
      "2022-12-16 03:35:36 Round 1 ...\n",
      "Current Task 2018-10 w/ 500 samples to Replay per Malware family.\n",
      "X_train (77772, 2381) Y_train (77772,) Y_tr_family (77772,)\n",
      "X_test (55006, 2381) Y_test (55006,) Y_te_family (55006,)\n",
      "2022-12-16 03:35:40 Standardizing ...\n",
      "Task 2018-10 and #-of new samples stored 77772\n",
      "pre_malware_samples 84311\n",
      "pre_goodware_samples 84311\n"
     ]
    },
    {
     "name": "stderr",
     "output_type": "stream",
     "text": [
      "\r",
      "  0%|          | 0/28 [00:00<?, ?it/s]"
     ]
    },
    {
     "name": "stdout",
     "output_type": "stream",
     "text": [
      "good 84311 mal 84311\n",
      "True\n",
      "task 2018-10 exemplars used 84311\n",
      "Current Training - X_train (168622, 2381) \n",
      "2022-12-16 04:03:45 Training ...\n",
      "Epoch 1 of 500\n"
     ]
    },
    {
     "name": "stderr",
     "output_type": "stream",
     "text": [
      "100%|██████████| 28/28 [00:05<00:00,  4.90it/s]\n",
      "100%|██████████| 10/10 [00:01<00:00,  7.47it/s]\n",
      "  0%|          | 0/28 [00:00<?, ?it/s]"
     ]
    },
    {
     "name": "stdout",
     "output_type": "stream",
     "text": [
      "Train Loss: 0.1320, Train Acc: 0.9512\n",
      "Val Loss: 0.1347, Val Acc: 0.9506\n",
      "Validation loss decreased (inf --> 0.134720).  Saving model ...\n",
      "../HDBScanBased_pjr_saved_model_HDBScanBased/HDBScanBased_PJR_replay_500/2018-10/best_model_epoch_1.pt\n",
      "../HDBScanBased_pjr_saved_optimizer_HDBScanBased/HDBScanBased_PJR_replay_500/2018-10/best_optimizer_epoch_1.pt\n",
      "Epoch 2 of 500\n"
     ]
    },
    {
     "name": "stderr",
     "output_type": "stream",
     "text": [
      "100%|██████████| 28/28 [00:05<00:00,  5.56it/s]\n",
      "100%|██████████| 10/10 [00:01<00:00,  8.56it/s]\n",
      "  0%|          | 0/28 [00:00<?, ?it/s]"
     ]
    },
    {
     "name": "stdout",
     "output_type": "stream",
     "text": [
      "Train Loss: 0.1200, Train Acc: 0.9554\n",
      "Val Loss: 0.1350, Val Acc: 0.9504\n",
      "EarlyStopping counter: 1 out of 5\n",
      "Epoch 3 of 500\n"
     ]
    },
    {
     "name": "stderr",
     "output_type": "stream",
     "text": [
      "100%|██████████| 28/28 [00:04<00:00,  6.15it/s]\n",
      "100%|██████████| 10/10 [00:01<00:00,  8.00it/s]\n",
      "  0%|          | 0/28 [00:00<?, ?it/s]"
     ]
    },
    {
     "name": "stdout",
     "output_type": "stream",
     "text": [
      "Train Loss: 0.1184, Train Acc: 0.9560\n",
      "Val Loss: 0.1361, Val Acc: 0.9496\n",
      "EarlyStopping counter: 2 out of 5\n",
      "Epoch 4 of 500\n"
     ]
    },
    {
     "name": "stderr",
     "output_type": "stream",
     "text": [
      "100%|██████████| 28/28 [00:04<00:00,  6.36it/s]\n",
      "100%|██████████| 10/10 [00:01<00:00,  7.83it/s]\n",
      "  0%|          | 0/28 [00:00<?, ?it/s]"
     ]
    },
    {
     "name": "stdout",
     "output_type": "stream",
     "text": [
      "Train Loss: 0.1138, Train Acc: 0.9580\n",
      "Val Loss: 0.1381, Val Acc: 0.9482\n",
      "EarlyStopping counter: 3 out of 5\n",
      "Epoch 5 of 500\n"
     ]
    },
    {
     "name": "stderr",
     "output_type": "stream",
     "text": [
      "100%|██████████| 28/28 [00:04<00:00,  6.53it/s]\n",
      "100%|██████████| 10/10 [00:01<00:00,  7.89it/s]\n",
      "  0%|          | 0/28 [00:00<?, ?it/s]"
     ]
    },
    {
     "name": "stdout",
     "output_type": "stream",
     "text": [
      "Train Loss: 0.1161, Train Acc: 0.9560\n",
      "Val Loss: 0.1421, Val Acc: 0.9462\n",
      "EarlyStopping counter: 4 out of 5\n",
      "Epoch 6 of 500\n"
     ]
    },
    {
     "name": "stderr",
     "output_type": "stream",
     "text": [
      "100%|██████████| 28/28 [00:04<00:00,  6.31it/s]\n",
      "100%|██████████| 10/10 [00:01<00:00,  8.67it/s]\n",
      "  0%|          | 0/10 [00:00<?, ?it/s]"
     ]
    },
    {
     "name": "stdout",
     "output_type": "stream",
     "text": [
      "Train Loss: 0.1145, Train Acc: 0.9563\n",
      "Val Loss: 0.1373, Val Acc: 0.9493\n",
      "EarlyStopping counter: 5 out of 5\n",
      "Early stopping\n",
      "Training time: 0.602 minutes\n",
      "loading best model ../HDBScanBased_pjr_saved_model_HDBScanBased/HDBScanBased_PJR_replay_500/2018-10/best_model_epoch_1.pt\n",
      "loading best optimizer ../HDBScanBased_pjr_saved_optimizer_HDBScanBased/HDBScanBased_PJR_replay_500/2018-10/best_optimizer_epoch_1.pt\n"
     ]
    },
    {
     "name": "stderr",
     "output_type": "stream",
     "text": [
      "100%|██████████| 10/10 [00:01<00:00,  5.08it/s]\n"
     ]
    },
    {
     "name": "stdout",
     "output_type": "stream",
     "text": [
      "test accuracy 0.952125632762909 and ROC-AUC 0.9516604455705413\n",
      "Task Elapsed time 28.794633694489796 mins.\n",
      "\n",
      "2022-12-16 04:04:23 Round 1 ...\n",
      "Current Task 2018-11 w/ 500 samples to Replay per Malware family.\n",
      "X_train (90000, 2381) Y_train (90000,) Y_tr_family (90000,)\n",
      "X_test (65006, 2381) Y_test (65006,) Y_te_family (65006,)\n",
      "2022-12-16 04:04:29 Standardizing ...\n",
      "Task 2018-11 and #-of new samples stored 90000\n",
      "pre_malware_samples 87589\n",
      "pre_goodware_samples 87589\n"
     ]
    },
    {
     "name": "stderr",
     "output_type": "stream",
     "text": [
      "\r",
      "  0%|          | 0/29 [00:00<?, ?it/s]"
     ]
    },
    {
     "name": "stdout",
     "output_type": "stream",
     "text": [
      "good 87589 mal 87589\n",
      "True\n",
      "task 2018-11 exemplars used 87589\n",
      "Current Training - X_train (175178, 2381) \n",
      "2022-12-16 04:23:02 Training ...\n",
      "Epoch 1 of 500\n"
     ]
    },
    {
     "name": "stderr",
     "output_type": "stream",
     "text": [
      "100%|██████████| 29/29 [00:05<00:00,  4.89it/s]\n",
      "100%|██████████| 11/11 [00:01<00:00,  6.20it/s]\n",
      "  0%|          | 0/29 [00:00<?, ?it/s]"
     ]
    },
    {
     "name": "stdout",
     "output_type": "stream",
     "text": [
      "Train Loss: 0.1498, Train Acc: 0.9454\n",
      "Val Loss: 0.1658, Val Acc: 0.9374\n",
      "Validation loss decreased (inf --> 0.165777).  Saving model ...\n",
      "../HDBScanBased_pjr_saved_model_HDBScanBased/HDBScanBased_PJR_replay_500/2018-11/best_model_epoch_1.pt\n",
      "../HDBScanBased_pjr_saved_optimizer_HDBScanBased/HDBScanBased_PJR_replay_500/2018-11/best_optimizer_epoch_1.pt\n",
      "Epoch 2 of 500\n"
     ]
    },
    {
     "name": "stderr",
     "output_type": "stream",
     "text": [
      "100%|██████████| 29/29 [00:05<00:00,  5.54it/s]\n",
      "100%|██████████| 11/11 [00:01<00:00,  6.88it/s]\n",
      "  0%|          | 0/29 [00:00<?, ?it/s]"
     ]
    },
    {
     "name": "stdout",
     "output_type": "stream",
     "text": [
      "Train Loss: 0.1330, Train Acc: 0.9518\n",
      "Val Loss: 0.1604, Val Acc: 0.9384\n",
      "Validation loss decreased (0.165777 --> 0.160384).  Saving model ...\n",
      "../HDBScanBased_pjr_saved_model_HDBScanBased/HDBScanBased_PJR_replay_500/2018-11/best_model_epoch_2.pt\n",
      "../HDBScanBased_pjr_saved_optimizer_HDBScanBased/HDBScanBased_PJR_replay_500/2018-11/best_optimizer_epoch_2.pt\n",
      "Epoch 3 of 500\n"
     ]
    },
    {
     "name": "stderr",
     "output_type": "stream",
     "text": [
      "100%|██████████| 29/29 [00:04<00:00,  5.96it/s]\n",
      "100%|██████████| 11/11 [00:01<00:00,  7.48it/s]\n",
      "  0%|          | 0/29 [00:00<?, ?it/s]"
     ]
    },
    {
     "name": "stdout",
     "output_type": "stream",
     "text": [
      "Train Loss: 0.1298, Train Acc: 0.9519\n",
      "Val Loss: 0.1596, Val Acc: 0.9390\n",
      "Validation loss decreased (0.160384 --> 0.159584).  Saving model ...\n",
      "../HDBScanBased_pjr_saved_model_HDBScanBased/HDBScanBased_PJR_replay_500/2018-11/best_model_epoch_3.pt\n",
      "../HDBScanBased_pjr_saved_optimizer_HDBScanBased/HDBScanBased_PJR_replay_500/2018-11/best_optimizer_epoch_3.pt\n",
      "Epoch 4 of 500\n"
     ]
    },
    {
     "name": "stderr",
     "output_type": "stream",
     "text": [
      "100%|██████████| 29/29 [00:04<00:00,  6.17it/s]\n",
      "100%|██████████| 11/11 [00:01<00:00,  7.17it/s]\n",
      "  0%|          | 0/29 [00:00<?, ?it/s]"
     ]
    },
    {
     "name": "stdout",
     "output_type": "stream",
     "text": [
      "Train Loss: 0.1323, Train Acc: 0.9515\n",
      "Val Loss: 0.1656, Val Acc: 0.9367\n",
      "EarlyStopping counter: 1 out of 5\n",
      "Epoch 5 of 500\n"
     ]
    },
    {
     "name": "stderr",
     "output_type": "stream",
     "text": [
      "100%|██████████| 29/29 [00:04<00:00,  6.41it/s]\n",
      "100%|██████████| 11/11 [00:01<00:00,  7.03it/s]\n",
      "  0%|          | 0/29 [00:00<?, ?it/s]"
     ]
    },
    {
     "name": "stdout",
     "output_type": "stream",
     "text": [
      "Train Loss: 0.1260, Train Acc: 0.9527\n",
      "Val Loss: 0.1585, Val Acc: 0.9374\n",
      "Validation loss decreased (0.159584 --> 0.158550).  Saving model ...\n",
      "../HDBScanBased_pjr_saved_model_HDBScanBased/HDBScanBased_PJR_replay_500/2018-11/best_model_epoch_5.pt\n",
      "../HDBScanBased_pjr_saved_optimizer_HDBScanBased/HDBScanBased_PJR_replay_500/2018-11/best_optimizer_epoch_5.pt\n",
      "Epoch 6 of 500\n"
     ]
    },
    {
     "name": "stderr",
     "output_type": "stream",
     "text": [
      "100%|██████████| 29/29 [00:04<00:00,  6.25it/s]\n",
      "100%|██████████| 11/11 [00:01<00:00,  6.89it/s]\n",
      "  0%|          | 0/29 [00:00<?, ?it/s]"
     ]
    },
    {
     "name": "stdout",
     "output_type": "stream",
     "text": [
      "Train Loss: 0.1221, Train Acc: 0.9546\n",
      "Val Loss: 0.1813, Val Acc: 0.9253\n",
      "EarlyStopping counter: 1 out of 5\n",
      "Epoch 7 of 500\n"
     ]
    },
    {
     "name": "stderr",
     "output_type": "stream",
     "text": [
      "100%|██████████| 29/29 [00:04<00:00,  6.46it/s]\n",
      "100%|██████████| 11/11 [00:01<00:00,  6.88it/s]\n",
      "  0%|          | 0/29 [00:00<?, ?it/s]"
     ]
    },
    {
     "name": "stdout",
     "output_type": "stream",
     "text": [
      "Train Loss: 0.1125, Train Acc: 0.9588\n",
      "Val Loss: 0.1546, Val Acc: 0.9410\n",
      "Validation loss decreased (0.158550 --> 0.154556).  Saving model ...\n",
      "../HDBScanBased_pjr_saved_model_HDBScanBased/HDBScanBased_PJR_replay_500/2018-11/best_model_epoch_7.pt\n",
      "../HDBScanBased_pjr_saved_optimizer_HDBScanBased/HDBScanBased_PJR_replay_500/2018-11/best_optimizer_epoch_7.pt\n",
      "Epoch 8 of 500\n"
     ]
    },
    {
     "name": "stderr",
     "output_type": "stream",
     "text": [
      "100%|██████████| 29/29 [00:04<00:00,  6.29it/s]\n",
      "100%|██████████| 11/11 [00:01<00:00,  6.70it/s]\n",
      "  0%|          | 0/29 [00:00<?, ?it/s]"
     ]
    },
    {
     "name": "stdout",
     "output_type": "stream",
     "text": [
      "Train Loss: 0.1121, Train Acc: 0.9589\n",
      "Val Loss: 0.1575, Val Acc: 0.9407\n",
      "EarlyStopping counter: 1 out of 5\n",
      "Epoch 9 of 500\n"
     ]
    },
    {
     "name": "stderr",
     "output_type": "stream",
     "text": [
      "100%|██████████| 29/29 [00:04<00:00,  6.24it/s]\n",
      "100%|██████████| 11/11 [00:01<00:00,  7.08it/s]\n",
      "  0%|          | 0/29 [00:00<?, ?it/s]"
     ]
    },
    {
     "name": "stdout",
     "output_type": "stream",
     "text": [
      "Train Loss: 0.1114, Train Acc: 0.9587\n",
      "Val Loss: 0.1531, Val Acc: 0.9400\n",
      "Validation loss decreased (0.154556 --> 0.153118).  Saving model ...\n",
      "../HDBScanBased_pjr_saved_model_HDBScanBased/HDBScanBased_PJR_replay_500/2018-11/best_model_epoch_9.pt\n",
      "../HDBScanBased_pjr_saved_optimizer_HDBScanBased/HDBScanBased_PJR_replay_500/2018-11/best_optimizer_epoch_9.pt\n",
      "Epoch 10 of 500\n"
     ]
    },
    {
     "name": "stderr",
     "output_type": "stream",
     "text": [
      "100%|██████████| 29/29 [00:04<00:00,  6.38it/s]\n",
      "100%|██████████| 11/11 [00:01<00:00,  6.96it/s]\n",
      "  0%|          | 0/29 [00:00<?, ?it/s]"
     ]
    },
    {
     "name": "stdout",
     "output_type": "stream",
     "text": [
      "Train Loss: 0.1069, Train Acc: 0.9606\n",
      "Val Loss: 0.1600, Val Acc: 0.9406\n",
      "EarlyStopping counter: 1 out of 5\n",
      "Epoch 11 of 500\n"
     ]
    },
    {
     "name": "stderr",
     "output_type": "stream",
     "text": [
      "100%|██████████| 29/29 [00:04<00:00,  6.36it/s]\n",
      "100%|██████████| 11/11 [00:01<00:00,  6.89it/s]\n",
      "  0%|          | 0/29 [00:00<?, ?it/s]"
     ]
    },
    {
     "name": "stdout",
     "output_type": "stream",
     "text": [
      "Train Loss: 0.1041, Train Acc: 0.9613\n",
      "Val Loss: 0.1702, Val Acc: 0.9330\n",
      "EarlyStopping counter: 2 out of 5\n",
      "Epoch 12 of 500\n"
     ]
    },
    {
     "name": "stderr",
     "output_type": "stream",
     "text": [
      "100%|██████████| 29/29 [00:04<00:00,  6.36it/s]\n",
      "100%|██████████| 11/11 [00:01<00:00,  7.27it/s]\n",
      "  0%|          | 0/29 [00:00<?, ?it/s]"
     ]
    },
    {
     "name": "stdout",
     "output_type": "stream",
     "text": [
      "Train Loss: 0.1101, Train Acc: 0.9592\n",
      "Val Loss: 0.1913, Val Acc: 0.9252\n",
      "EarlyStopping counter: 3 out of 5\n",
      "Epoch 13 of 500\n"
     ]
    },
    {
     "name": "stderr",
     "output_type": "stream",
     "text": [
      "100%|██████████| 29/29 [00:04<00:00,  6.34it/s]\n",
      "100%|██████████| 11/11 [00:01<00:00,  7.00it/s]\n",
      "  0%|          | 0/29 [00:00<?, ?it/s]"
     ]
    },
    {
     "name": "stdout",
     "output_type": "stream",
     "text": [
      "Train Loss: 0.1029, Train Acc: 0.9624\n",
      "Val Loss: 0.1720, Val Acc: 0.9349\n",
      "EarlyStopping counter: 4 out of 5\n",
      "Epoch 14 of 500\n"
     ]
    },
    {
     "name": "stderr",
     "output_type": "stream",
     "text": [
      "100%|██████████| 29/29 [00:04<00:00,  6.21it/s]\n",
      "100%|██████████| 11/11 [00:01<00:00,  7.12it/s]\n",
      "  0%|          | 0/11 [00:00<?, ?it/s]"
     ]
    },
    {
     "name": "stdout",
     "output_type": "stream",
     "text": [
      "Train Loss: 0.1029, Train Acc: 0.9614\n",
      "Val Loss: 0.1648, Val Acc: 0.9381\n",
      "EarlyStopping counter: 5 out of 5\n",
      "Early stopping\n",
      "Training time: 1.492 minutes\n",
      "loading best model ../HDBScanBased_pjr_saved_model_HDBScanBased/HDBScanBased_PJR_replay_500/2018-11/best_model_epoch_9.pt\n",
      "loading best optimizer ../HDBScanBased_pjr_saved_optimizer_HDBScanBased/HDBScanBased_PJR_replay_500/2018-11/best_optimizer_epoch_9.pt\n"
     ]
    },
    {
     "name": "stderr",
     "output_type": "stream",
     "text": [
      "100%|██████████| 11/11 [00:02<00:00,  4.98it/s]\n"
     ]
    },
    {
     "name": "stdout",
     "output_type": "stream",
     "text": [
      "test accuracy 0.9406580328941345 and ROC-AUC 0.9408105711186409\n",
      "Task Elapsed time 20.17256787220637 mins.\n",
      "\n",
      "2022-12-16 04:24:34 Round 1 ...\n",
      "Current Task 2018-12 w/ 500 samples to Replay per Malware family.\n",
      "X_train (90000, 2381) Y_train (90000,) Y_tr_family (90000,)\n",
      "X_test (75006, 2381) Y_test (75006,) Y_te_family (75006,)\n",
      "2022-12-16 04:24:40 Standardizing ...\n",
      "Task 2018-12 and #-of new samples stored 90000\n",
      "pre_malware_samples 91526\n",
      "pre_goodware_samples 91526\n"
     ]
    },
    {
     "name": "stderr",
     "output_type": "stream",
     "text": [
      "\r",
      "  0%|          | 0/30 [00:00<?, ?it/s]"
     ]
    },
    {
     "name": "stdout",
     "output_type": "stream",
     "text": [
      "good 91526 mal 91526\n",
      "True\n",
      "task 2018-12 exemplars used 91526\n",
      "Current Training - X_train (183052, 2381) \n",
      "2022-12-16 04:37:43 Training ...\n",
      "Epoch 1 of 500\n"
     ]
    },
    {
     "name": "stderr",
     "output_type": "stream",
     "text": [
      "100%|██████████| 30/30 [00:06<00:00,  5.00it/s]\n",
      "100%|██████████| 13/13 [00:02<00:00,  6.48it/s]\n",
      "  0%|          | 0/30 [00:00<?, ?it/s]"
     ]
    },
    {
     "name": "stdout",
     "output_type": "stream",
     "text": [
      "Train Loss: 0.1480, Train Acc: 0.9447\n",
      "Val Loss: 0.1621, Val Acc: 0.9360\n",
      "Validation loss decreased (inf --> 0.162080).  Saving model ...\n",
      "../HDBScanBased_pjr_saved_model_HDBScanBased/HDBScanBased_PJR_replay_500/2018-12/best_model_epoch_1.pt\n",
      "../HDBScanBased_pjr_saved_optimizer_HDBScanBased/HDBScanBased_PJR_replay_500/2018-12/best_optimizer_epoch_1.pt\n",
      "Epoch 2 of 500\n"
     ]
    },
    {
     "name": "stderr",
     "output_type": "stream",
     "text": [
      "100%|██████████| 30/30 [00:05<00:00,  5.41it/s]\n",
      "100%|██████████| 13/13 [00:01<00:00,  7.45it/s]\n",
      "  0%|          | 0/30 [00:00<?, ?it/s]"
     ]
    },
    {
     "name": "stdout",
     "output_type": "stream",
     "text": [
      "Train Loss: 0.1216, Train Acc: 0.9557\n",
      "Val Loss: 0.1559, Val Acc: 0.9365\n",
      "Validation loss decreased (0.162080 --> 0.155938).  Saving model ...\n",
      "../HDBScanBased_pjr_saved_model_HDBScanBased/HDBScanBased_PJR_replay_500/2018-12/best_model_epoch_2.pt\n",
      "../HDBScanBased_pjr_saved_optimizer_HDBScanBased/HDBScanBased_PJR_replay_500/2018-12/best_optimizer_epoch_2.pt\n",
      "Epoch 3 of 500\n"
     ]
    },
    {
     "name": "stderr",
     "output_type": "stream",
     "text": [
      "100%|██████████| 30/30 [00:05<00:00,  5.83it/s]\n",
      "100%|██████████| 13/13 [00:01<00:00,  7.10it/s]\n",
      "  0%|          | 0/30 [00:00<?, ?it/s]"
     ]
    },
    {
     "name": "stdout",
     "output_type": "stream",
     "text": [
      "Train Loss: 0.1174, Train Acc: 0.9576\n",
      "Val Loss: 0.1611, Val Acc: 0.9358\n",
      "EarlyStopping counter: 1 out of 5\n",
      "Epoch 4 of 500\n"
     ]
    },
    {
     "name": "stderr",
     "output_type": "stream",
     "text": [
      "100%|██████████| 30/30 [00:04<00:00,  6.30it/s]\n",
      "100%|██████████| 13/13 [00:02<00:00,  6.16it/s]\n",
      "  0%|          | 0/30 [00:00<?, ?it/s]"
     ]
    },
    {
     "name": "stdout",
     "output_type": "stream",
     "text": [
      "Train Loss: 0.1138, Train Acc: 0.9589\n",
      "Val Loss: 0.1567, Val Acc: 0.9392\n",
      "EarlyStopping counter: 2 out of 5\n",
      "Epoch 5 of 500\n"
     ]
    },
    {
     "name": "stderr",
     "output_type": "stream",
     "text": [
      "100%|██████████| 30/30 [00:04<00:00,  6.16it/s]\n",
      "100%|██████████| 13/13 [00:01<00:00,  7.70it/s]\n",
      "  0%|          | 0/30 [00:00<?, ?it/s]"
     ]
    },
    {
     "name": "stdout",
     "output_type": "stream",
     "text": [
      "Train Loss: 0.1146, Train Acc: 0.9581\n",
      "Val Loss: 0.1590, Val Acc: 0.9376\n",
      "EarlyStopping counter: 3 out of 5\n",
      "Epoch 6 of 500\n"
     ]
    },
    {
     "name": "stderr",
     "output_type": "stream",
     "text": [
      "100%|██████████| 30/30 [00:04<00:00,  6.54it/s]\n",
      "100%|██████████| 13/13 [00:01<00:00,  8.69it/s]\n",
      "  0%|          | 0/30 [00:00<?, ?it/s]"
     ]
    },
    {
     "name": "stdout",
     "output_type": "stream",
     "text": [
      "Train Loss: 0.1091, Train Acc: 0.9603\n",
      "Val Loss: 0.1617, Val Acc: 0.9363\n",
      "EarlyStopping counter: 4 out of 5\n",
      "Epoch 7 of 500\n"
     ]
    },
    {
     "name": "stderr",
     "output_type": "stream",
     "text": [
      "100%|██████████| 30/30 [00:04<00:00,  6.36it/s]\n",
      "100%|██████████| 13/13 [00:01<00:00,  7.49it/s]\n",
      "  0%|          | 0/30 [00:00<?, ?it/s]"
     ]
    },
    {
     "name": "stdout",
     "output_type": "stream",
     "text": [
      "Train Loss: 0.1068, Train Acc: 0.9613\n",
      "Val Loss: 0.1555, Val Acc: 0.9423\n",
      "Validation loss decreased (0.155938 --> 0.155515).  Saving model ...\n",
      "../HDBScanBased_pjr_saved_model_HDBScanBased/HDBScanBased_PJR_replay_500/2018-12/best_model_epoch_7.pt\n",
      "../HDBScanBased_pjr_saved_optimizer_HDBScanBased/HDBScanBased_PJR_replay_500/2018-12/best_optimizer_epoch_7.pt\n",
      "Epoch 8 of 500\n"
     ]
    },
    {
     "name": "stderr",
     "output_type": "stream",
     "text": [
      "100%|██████████| 30/30 [00:04<00:00,  6.35it/s]\n",
      "100%|██████████| 13/13 [00:01<00:00,  7.12it/s]\n",
      "  0%|          | 0/30 [00:00<?, ?it/s]"
     ]
    },
    {
     "name": "stdout",
     "output_type": "stream",
     "text": [
      "Train Loss: 0.1126, Train Acc: 0.9591\n",
      "Val Loss: 0.1580, Val Acc: 0.9417\n",
      "EarlyStopping counter: 1 out of 5\n",
      "Epoch 9 of 500\n"
     ]
    },
    {
     "name": "stderr",
     "output_type": "stream",
     "text": [
      "100%|██████████| 30/30 [00:04<00:00,  6.47it/s]\n",
      "100%|██████████| 13/13 [00:01<00:00,  7.43it/s]\n",
      "  0%|          | 0/30 [00:00<?, ?it/s]"
     ]
    },
    {
     "name": "stdout",
     "output_type": "stream",
     "text": [
      "Train Loss: 0.1152, Train Acc: 0.9575\n",
      "Val Loss: 0.1556, Val Acc: 0.9387\n",
      "EarlyStopping counter: 2 out of 5\n",
      "Epoch 10 of 500\n"
     ]
    },
    {
     "name": "stderr",
     "output_type": "stream",
     "text": [
      "100%|██████████| 30/30 [00:04<00:00,  6.21it/s]\n",
      "100%|██████████| 13/13 [00:01<00:00,  7.59it/s]\n",
      "  0%|          | 0/30 [00:00<?, ?it/s]"
     ]
    },
    {
     "name": "stdout",
     "output_type": "stream",
     "text": [
      "Train Loss: 0.1083, Train Acc: 0.9601\n",
      "Val Loss: 0.1600, Val Acc: 0.9346\n",
      "EarlyStopping counter: 3 out of 5\n",
      "Epoch 11 of 500\n"
     ]
    },
    {
     "name": "stderr",
     "output_type": "stream",
     "text": [
      "100%|██████████| 30/30 [00:04<00:00,  6.49it/s]\n",
      "100%|██████████| 13/13 [00:01<00:00,  7.41it/s]\n",
      "  0%|          | 0/30 [00:00<?, ?it/s]"
     ]
    },
    {
     "name": "stdout",
     "output_type": "stream",
     "text": [
      "Train Loss: 0.0990, Train Acc: 0.9645\n",
      "Val Loss: 0.1667, Val Acc: 0.9365\n",
      "EarlyStopping counter: 4 out of 5\n",
      "Epoch 12 of 500\n"
     ]
    },
    {
     "name": "stderr",
     "output_type": "stream",
     "text": [
      "100%|██████████| 30/30 [00:04<00:00,  6.34it/s]\n",
      "100%|██████████| 13/13 [00:01<00:00,  7.57it/s]\n",
      "  0%|          | 0/13 [00:00<?, ?it/s]"
     ]
    },
    {
     "name": "stdout",
     "output_type": "stream",
     "text": [
      "Train Loss: 0.0978, Train Acc: 0.9644\n",
      "Val Loss: 0.1678, Val Acc: 0.9375\n",
      "EarlyStopping counter: 5 out of 5\n",
      "Early stopping\n",
      "Training time: 1.351 minutes\n",
      "loading best model ../HDBScanBased_pjr_saved_model_HDBScanBased/HDBScanBased_PJR_replay_500/2018-12/best_model_epoch_7.pt\n",
      "loading best optimizer ../HDBScanBased_pjr_saved_optimizer_HDBScanBased/HDBScanBased_PJR_replay_500/2018-12/best_optimizer_epoch_7.pt\n"
     ]
    },
    {
     "name": "stderr",
     "output_type": "stream",
     "text": [
      "100%|██████████| 13/13 [00:02<00:00,  5.32it/s]"
     ]
    },
    {
     "name": "stdout",
     "output_type": "stream",
     "text": [
      "test accuracy 0.9434962272644043 and ROC-AUC 0.9436449744371973\n",
      "Task Elapsed time 14.552315306663512 mins.\n",
      "Elapsed time 103.76502691109975 mins.\n"
     ]
    },
    {
     "name": "stderr",
     "output_type": "stream",
     "text": [
      "\n"
     ]
    }
   ],
   "source": [
    "import numpy as np\n",
    "import random\n",
    "import datetime\n",
    "import time\n",
    "import os\n",
    "from collections import defaultdict\n",
    "from sklearn.preprocessing import StandardScaler\n",
    "from sklearn.ensemble import IsolationForest\n",
    "import hdbscan\n",
    "import matplotlib.pyplot as plt\n",
    "from tqdm import tqdm\n",
    "import ast\n",
    "import pandas as pd\n",
    "import seaborn as sns\n",
    "\n",
    "import argparse\n",
    "import torch\n",
    "import torchvision\n",
    "import torch.nn as nn\n",
    "import torch.optim as optim\n",
    "import torch.nn.functional as F\n",
    "from torchvision import transforms, utils, datasets\n",
    "from torch.utils.data import Dataset, DataLoader\n",
    "\n",
    "from ember_utils import *\n",
    "from ember_model import *\n",
    "from ember_pjr_utils import *\n",
    "\n",
    "\n",
    "def min_count_cluster(clusterLabels, uniqueLabels):\n",
    "    \n",
    "    min_ = float('inf')\n",
    "    for l in uniqueLabels:\n",
    "        if l != -1:\n",
    "            curr_l = np.where(clusterLabels == l)\n",
    "            min_ = min(min_, len(curr_l))\n",
    "    return min_\n",
    "\n",
    "\n",
    "def get_cluster_samples(data, clusterLabels,\\\n",
    "                        uniqueLabels, eachClusterSamples):\n",
    "    \n",
    "    samples = []\n",
    "    \n",
    "    for l in uniqueLabels:\n",
    "        if l != -1:\n",
    "            curr_l = np.where(clusterLabels == l)\n",
    "            curr_l_samples = list(data[curr_l])\n",
    "            \n",
    "            if len(curr_l_samples) <= eachClusterSamples:\n",
    "                curr_l_samples = curr_l_samples\n",
    "            else:\n",
    "                curr_l_samples = random.sample(curr_l_samples, eachClusterSamples)\n",
    "            #print(f'curr_l_samples {len(curr_l_samples)}')\n",
    "            for s in curr_l_samples:\n",
    "                samples.append(s)\n",
    "                \n",
    "    #print(f'len(samples) {len(samples)}')\n",
    "        \n",
    "    return samples\n",
    "    \n",
    "    \n",
    "    \n",
    "\n",
    "def get_HDBScanBased_samples_V1(family_name, family_data, num_samples_per_malware_family):\n",
    "    data_X = np.array(family_data)\n",
    "    \n",
    "    if len(data_X) > 1:\n",
    "        # fit the model\n",
    "        clf_hdbscan = hdbscan.HDBSCAN()\n",
    "        clf_fit_hdbscan = clf_hdbscan.fit(data_X)\n",
    "        clf_hdbscan_labels = clf_fit_hdbscan.labels_\n",
    "        unique_hdbscan_labels = np.unique(clf_hdbscan_labels)\n",
    "\n",
    "        anomalous_idx = np.where(clf_hdbscan_labels == -1)\n",
    "        \n",
    "        anomalous_samples = list(data_X[anomalous_idx])\n",
    "        \n",
    "        if len(anomalous_samples) >= num_samples_per_malware_family:\n",
    "            replay_samples = random.sample(anomalous_samples, num_samples_per_malware_family)\n",
    "        \n",
    "        else:\n",
    "            if len(unique_hdbscan_labels) == 1:\n",
    "                replay_samples = anomalous_samples\n",
    "            else:\n",
    "                remaining_samples_to_pick = num_samples_per_malware_family - len(anomalous_samples)\n",
    "                #min_samples_cluster = min_count_cluster(clf_hdbscan_labels, unique_hdbscan_labels)\n",
    "                #print(f'unique_hdbscan_labels {unique_hdbscan_labels}')\n",
    "                samples_per_cluster_equal = int(np.ceil(remaining_samples_to_pick/(len(unique_hdbscan_labels) - 1)))\n",
    "                #samples_per_cluster_equal = min(samples_per_cluster_equal, min_samples_cluster)\n",
    "\n",
    "                cluster_samples = get_cluster_samples(data_X, clf_hdbscan_labels,\\\n",
    "                                                      unique_hdbscan_labels, samples_per_cluster_equal)\n",
    "                if len(anomalous_samples) != 0:\n",
    "                    #print(f'{np.array(anomalous_samples).shape} - {np.array(cluster_samples).shape}')\n",
    "                    replay_samples = np.concatenate((anomalous_samples,\\\n",
    "                                                     cluster_samples))\n",
    "                else:\n",
    "                    replay_samples = cluster_samples\n",
    "    else:\n",
    "        replay_samples = data_X\n",
    "    \n",
    "    return np.array(replay_samples)\n",
    "\n",
    "def get_HDBScanBased_similar_samples(ifbased_similar_samples):\n",
    "    \n",
    "    similar_malware_samples = []\n",
    "    \n",
    "    clf_hdbscan = hdbscan.HDBSCAN()\n",
    "    clf_fit_hdbscan = clf_hdbscan.fit(ifbased_similar_samples)\n",
    "    unique_hdbscan_labels = np.unique(clf_fit_hdbscan.labels_)\n",
    "\n",
    "    if len(unique_hdbscan_labels) == 1:\n",
    "        similar_malware_samples = ifbased_similar_samples\n",
    "    else:\n",
    "        exemplars = clf_fit_hdbscan.exemplars_\n",
    "\n",
    "        #print(selected_family_samples)\n",
    "        for cluster in exemplars:\n",
    "            for sample in cluster:\n",
    "                similar_malware_samples.append(sample)\n",
    "\n",
    "\n",
    "    return similar_malware_samples\n",
    "\n",
    "\n",
    "def get_HDBScanBased_samples_V2(family_name, family_data, \n",
    "                             min_cluster_size,\n",
    "                             min_samples,\n",
    "                             num_samples_per_malware_family):\n",
    "    data_X = np.array(family_data)\n",
    "    \n",
    "    if len(data_X) > min_samples:  \n",
    "        # fit the model\n",
    "        clf_hdbscan = hdbscan.HDBSCAN(min_cluster_size, min_samples)\n",
    "        clf_fit_hdbscan = clf_hdbscan.fit(data_X)\n",
    "        clf_hdbscan_labels = clf_fit_hdbscan.labels_\n",
    "        unique_hdbscan_labels = np.unique(clf_hdbscan_labels)\n",
    "        \n",
    "        if len(unique_hdbscan_labels) == 1:\n",
    "            if len(data_X) > num_samples_per_malware_family:\n",
    "                replay_samples = random.sample(list(data_X), num_samples_per_malware_family)\n",
    "            else:\n",
    "                replay_samples = data_X\n",
    "        else:\n",
    "            replay_samples = []\n",
    "            exemplars = clf_fit_hdbscan.exemplars_\n",
    "            for cluster in exemplars:\n",
    "                for sample in cluster:\n",
    "                    replay_samples.append(sample)\n",
    "            \n",
    "            if len(replay_samples) < num_samples_per_malware_family:\n",
    "                rest_samples_number = int(num_samples_per_malware_family - len(replay_samples))\n",
    "                \n",
    "                outlier_idx = np.where(clf_hdbscan_labels == -1)\n",
    "                outlier_samples = list(data_X[outlier_idx])\n",
    "                \n",
    "                #print(rest_samples_number, len(outlier_samples))\n",
    "                if rest_samples_number < len(outlier_samples):\n",
    "                    \n",
    "                    rest_samples = random.sample(outlier_samples, rest_samples_number)\n",
    "                    replay_samples += rest_samples\n",
    "            \n",
    "            #print(f'family {family_name} clusters {len(exemplars)} samples {len(replay_samples)}')\n",
    "    else:\n",
    "        replay_samples = data_X\n",
    "    \n",
    "    return np.array(replay_samples)\n",
    "\n",
    "\n",
    "def get_HDBScanBased_samples(family_name, family_data, \n",
    "                             min_cluster_size,\n",
    "                             min_samples,\n",
    "                             num_samples_per_malware_family):\n",
    "    data_X = np.array(family_data)\n",
    "    \n",
    "    if len(data_X) > num_samples_per_malware_family:  \n",
    "        # fit the model\n",
    "        clf_hdbscan = hdbscan.HDBSCAN(min_cluster_size, min_samples)\n",
    "        clf_fit_hdbscan = clf_hdbscan.fit(data_X)\n",
    "        clf_hdbscan_labels = clf_fit_hdbscan.labels_\n",
    "        unique_hdbscan_labels = np.unique(clf_hdbscan_labels)\n",
    "        \n",
    "        if len(unique_hdbscan_labels) == 1:\n",
    "            replay_samples = random.sample(list(data_X), num_samples_per_malware_family)\n",
    "        else:\n",
    "            split_num_sample = int(num_samples_per_malware_family/2)\n",
    "            \n",
    "            \n",
    "            outliers_indx = np.where(clf_hdbscan_labels == -1)\n",
    "            \n",
    "            if len(outliers_indx[0]) < split_num_sample:\n",
    "                outlier_samples = data_X[outliers_indx]\n",
    "            else:\n",
    "                outlier_samples = data_X[outliers_indx]\n",
    "                outlier_samples = random.sample(list(outlier_samples), split_num_sample)\n",
    "                \n",
    "            clusters_samples_indx = np.where(clf_hdbscan_labels != -1)\n",
    "            \n",
    "            if len(clusters_samples_indx[0]) < split_num_sample:\n",
    "                clusters_samples = data_X[clusters_samples_indx]\n",
    "            else:\n",
    "                clusters_samples = data_X[clusters_samples_indx]\n",
    "                clusters_samples = random.sample(list(clusters_samples), split_num_sample)\n",
    "            \n",
    "            replay_samples = np.concatenate((outlier_samples,\\\n",
    "                                                     clusters_samples))\n",
    "            \n",
    "            \n",
    "    else:\n",
    "        replay_samples = data_X\n",
    "    \n",
    "    return np.array(replay_samples)\n",
    "\n",
    "\n",
    "def get_sample_count(dataDict):\n",
    "    mal_count_ = []\n",
    "    good_count = 0\n",
    "    for k, v in dataDict.items():\n",
    "        if k != 'goodware':\n",
    "            mal_count_ += [len(v)]\n",
    "        else:\n",
    "            good_count += len(v)\n",
    "            \n",
    "    mal_count = np.sum(np.array(mal_count_))\n",
    "    print(f'good {good_count} mal {mal_count}')\n",
    "    \n",
    "    return mal_count\n",
    "\n",
    "def get_replay_samples_HDBScanBased(global_family_dict,\n",
    "                                    min_cluster_size,\n",
    "                                    min_samples,\n",
    "                                    num_samples_per_malware_family):\n",
    "    tmp_family_dict = defaultdict(list)\n",
    "    pre_malware_samples = []\n",
    "    \n",
    "    num_exemplars = 0\n",
    "    cnt = 0\n",
    "    for k, v in global_family_dict.items():\n",
    "        if k != 'goodware':\n",
    "            cnt += 1\n",
    "            selected_family_samples = get_HDBScanBased_samples(k, v, \n",
    "                                                               min_cluster_size,\n",
    "                                                               min_samples,\n",
    "                                                               num_samples_per_malware_family)\n",
    "            #print(f'family {k} samples {len(selected_family_samples)}')\n",
    "            tmp_family_dict[k] = list(selected_family_samples)\n",
    "            num_exemplars += len(selected_family_samples)\n",
    "            #print(selected_family_samples)\n",
    "            for sample in selected_family_samples:\n",
    "                pre_malware_samples.append(sample)\n",
    "    \n",
    "    print(f'pre_malware_samples {len(pre_malware_samples)}')\n",
    "    if len(global_family_dict['goodware']) < len(pre_malware_samples):\n",
    "        pre_goodware_samples = random.sample(global_family_dict['goodware'], len(global_family_dict['goodware']))\n",
    "    else:\n",
    "        pre_goodware_samples = random.sample(global_family_dict['goodware'], len(pre_malware_samples))\n",
    "    \n",
    "    tmp_family_dict['goodware'] = list(pre_goodware_samples)\n",
    "    print(f'pre_goodware_samples {len(pre_goodware_samples)}')\n",
    "    \n",
    "    samples_to_replay = np.concatenate((np.array(pre_goodware_samples), np.array(pre_malware_samples)))\n",
    "    labels_to_replay = np.concatenate((np.zeros(len(pre_goodware_samples)), np.ones(len(pre_malware_samples))))\n",
    "    \n",
    "    validate_mal_count = get_sample_count(tmp_family_dict)\n",
    "    \n",
    "    print(validate_mal_count == len(pre_malware_samples))\n",
    "    \n",
    "    \n",
    "    return samples_to_replay, labels_to_replay, tmp_family_dict, num_exemplars\n",
    "\n",
    "\n",
    "\n",
    "def make_family_based_dict(X_train, Y_train, Y_train_family, task_month, global_family_dict):\n",
    "    count = 0\n",
    "    for x_ind, x_sample in enumerate(X_train):\n",
    "        count += 1\n",
    "        #print(x_ind, Y_train[x_ind])\n",
    "\n",
    "        if Y_train[x_ind] == 0:\n",
    "            global_family_dict[\"goodware\"].append(x_sample)\n",
    "        if Y_train[x_ind] == 1:\n",
    "            if Y_train_family[x_ind] == '':\n",
    "                global_family_dict[\"others_family\"].append(x_sample)\n",
    "            else:\n",
    "                global_family_dict[Y_train_family[x_ind]].append(x_sample)\n",
    "\n",
    "    print(f'Task {task_month} and #-of new samples stored {count}')\n",
    "    \n",
    "    return global_family_dict\n",
    "\n",
    "\n",
    "\n",
    "all_task_months = ['2018-01', '2018-02', '2018-03', '2018-04', '2018-05', '2018-06',\n",
    "                   '2018-07', '2018-08', '2018-09', '2018-10', '2018-11', '2018-12']\n",
    "\n",
    "data_dir = '../../month_based_processing_with_family_labels/'\n",
    "\n",
    " \n",
    "\n",
    "patience = 5\n",
    "replay_type = 'hdbscan'\n",
    "\n",
    "\n",
    "\n",
    "num_exps = 1 #args.num_exps\n",
    "num_epoch = 500 #args.num_epoch\n",
    "batch_size = 6000 #args.batch_size\n",
    "num_samples_per_malware_family = 500\n",
    "\n",
    "\n",
    "min_cluster_size = 10\n",
    "min_samples = 5\n",
    "\n",
    "exp_type = 'HDBScanBased'\n",
    "\n",
    "exp_seeds = [random.randint(1, 99999) for i in range(num_exps)]\n",
    "\n",
    "exemplars_stat = {}\n",
    "\n",
    "\n",
    "\n",
    "cnt =  1    \n",
    "for exp in exp_seeds:\n",
    "    #try:\n",
    "        start_time = time.time()\n",
    "        use_cuda = True\n",
    "        print('Torch', torch.__version__, 'CUDA', torch.version.cuda)\n",
    "        use_cuda = use_cuda and torch.cuda.is_available()\n",
    "        device = torch.device(\"cuda\" if use_cuda else \"cpu\")\n",
    "        torch.manual_seed(exp)\n",
    "\n",
    "        model = Ember_MLP_Net()\n",
    "\n",
    "        optimizer = torch.optim.SGD(model.parameters(), lr=0.01, momentum=0.9, weight_decay=0.000001)\n",
    "\n",
    "        if torch.cuda.device_count() > 1:\n",
    "            print(\"Let's use\", torch.cuda.device_count(), \"GPUs!\")\n",
    "            model = nn.DataParallel(model)\n",
    "\n",
    "        model = model.to(device)\n",
    "        print(f'Model has {count_parameters(model)/1000000}m parameters')    \n",
    "        criterion = nn.BCELoss()    \n",
    "\n",
    "\n",
    "\n",
    "        stored_global_family_dict = defaultdict(list)\n",
    "\n",
    "        standardization = StandardScaler()\n",
    "        standard_scaler = None\n",
    "        \n",
    "        all_mal_training_samples = []\n",
    "        for task_month in range(len(all_task_months)):\n",
    "\n",
    "            print(f'\\n{datetime.datetime.now().strftime(\"%Y-%m-%d %H:%M:%S\")} Round {cnt} ...')\n",
    "            task_start = time.time()\n",
    "\n",
    "            #task_month = task_month\n",
    "            current_task = all_task_months[task_month]\n",
    "            task_months = all_task_months[:task_month+1]\n",
    "            print(f'Current Task {current_task} w/ {num_samples_per_malware_family} samples to Replay per Malware family.')\n",
    "\n",
    "\n",
    "            model_save_dir = '../HDBScanBased_pjr_saved_model_' +\\\n",
    "                        str(exp_type) + '/HDBScanBased_PJR_replay_' +\\\n",
    "                        str(num_samples_per_malware_family) + '/' + str(current_task) + '/'\n",
    "            create_parent_folder(model_save_dir)\n",
    "\n",
    "            opt_save_path = '../HDBScanBased_pjr_saved_optimizer_' +\\\n",
    "                        str(exp_type) + '/HDBScanBased_PJR_replay_' +\\\n",
    "                        str(num_samples_per_malware_family) + '/' + str(current_task) + '/'\n",
    "            create_parent_folder(opt_save_path)\n",
    "\n",
    "\n",
    "            results_save_dir = './HDBScanBased_saved_results_' +\\\n",
    "                        str(exp_type) + '/HDBScanBased_PJR_replay_' +\\\n",
    "                        str(num_samples_per_malware_family) + '/' \n",
    "            create_parent_folder(results_save_dir)\n",
    "\n",
    "\n",
    "            X_train, Y_train, Y_train_family = get_family_labeled_month_data(data_dir, current_task)\n",
    "            X_test, Y_test, Y_test_family = get_family_labeled_task_test_data(data_dir, task_months, mlp_net=True)\n",
    "            \n",
    "            \n",
    "            print(f'{datetime.datetime.now().strftime(\"%Y-%m-%d %H:%M:%S\")} Standardizing ...')\n",
    "            standard_scaler = standardization.partial_fit(X_train)\n",
    "\n",
    "            X_train = standard_scaler.transform(X_train)\n",
    "            X_test = standard_scaler.transform(X_test)\n",
    "\n",
    "            X_train, Y_train = np.array(X_train, np.float32), np.array(Y_train, np.int32)\n",
    "            X_test, Y_test = np.array(X_test, np.float32), np.array(Y_test, np.int32)        \n",
    "            \n",
    "            \n",
    "            mal_samples = np.where(Y_train == 1)\n",
    "            all_mal_training_samples.append(len(mal_samples[0]))\n",
    "\n",
    "            # to debug\n",
    "            #X_train, Y_train, Y_train_family = X_train[:5000], Y_train [:5000], Y_train_family[:5000]\n",
    "            #X_test, Y_test, Y_test_family = X_test[:50], Y_test[:50], Y_test_family[:50]\n",
    "\n",
    "            \n",
    "            if current_task == all_task_months[0]:\n",
    "                num_replay_samples = 0\n",
    "                stored_global_family_dict = make_family_based_dict(X_train,\\\n",
    "                           Y_train, Y_train_family,\\\n",
    "                            current_task, stored_global_family_dict)    \n",
    "                \n",
    "                _, _, stored_global_family_dict, num_exemplar_samples =\\\n",
    "                    get_replay_samples_HDBScanBased(stored_global_family_dict,\n",
    "                                                    min_cluster_size,\n",
    "                                                    min_samples,\n",
    "                                                    num_samples_per_malware_family)\n",
    "                \n",
    "                exemplars_stat[current_task] = stored_global_family_dict   \n",
    "                mal_count_from_dict = get_sample_count(stored_global_family_dict)\n",
    "                print(f'task {current_task} exemplars stored {num_exemplar_samples}')\n",
    "                \n",
    "            else:\n",
    "\n",
    "                stored_global_family_dict = make_family_based_dict(X_train, Y_train, Y_train_family,\\\n",
    "                                                                       current_task, stored_global_family_dict)\n",
    "                \n",
    "                X_train, Y_train, stored_global_family_dict, num_exemplar_samples =\\\n",
    "                    get_replay_samples_HDBScanBased(stored_global_family_dict,\n",
    "                                                    min_cluster_size,\n",
    "                                                    min_samples,\n",
    "                                                    num_samples_per_malware_family)\n",
    "                print(f'task {current_task} exemplars used {num_exemplar_samples}')\n",
    "                \n",
    "                exemplars_stat[current_task] = num_exemplar_samples\n",
    "        \n",
    "            print(f'Current Training - X_train {X_train.shape} ')\n",
    "            '''\n",
    "            print(f'{datetime.datetime.now().strftime(\"%Y-%m-%d %H:%M:%S\")} Standardizing ...')\n",
    "            standard_scaler = standardization.partial_fit(X_train)\n",
    "\n",
    "            X_train = standard_scaler.transform(X_train)\n",
    "            X_test = standard_scaler.transform(X_test)\n",
    "\n",
    "            X_train, Y_train = np.array(X_train, np.float32), np.array(Y_train, np.int32)\n",
    "            X_test, Y_test = np.array(X_test, np.float32), np.array(Y_test, np.int32)        \n",
    "            '''\n",
    "\n",
    "            print(f'{datetime.datetime.now().strftime(\"%Y-%m-%d %H:%M:%S\")} Training ...')\n",
    "            task_training_time, epoch_ran, training_loss, validation_loss  =\\\n",
    "                                    training_early_stopping(model, model_save_dir, opt_save_path,\\\n",
    "                                    X_train, Y_train, X_test, Y_test, patience,\\\n",
    "                                    batch_size, device, optimizer, num_epoch,\\\n",
    "                                     criterion, replay_type, current_task, exp, earlystopping=True)\n",
    "\n",
    "        \n",
    "            model = Ember_MLP_Net()\n",
    "            model = model.to(device)\n",
    "            #load the best model for this task\n",
    "            best_model_path = model_save_dir + os.listdir(model_save_dir)[0]\n",
    "            print(f'loading best model {best_model_path}')\n",
    "            model.load_state_dict(torch.load(best_model_path))\n",
    "\n",
    "            optimizer = torch.optim.SGD(model.parameters(), lr=0.01, momentum=0.9, weight_decay=0.000001)\n",
    "            best_optimizer = opt_save_path + os.listdir(opt_save_path)[0]\n",
    "            print(f'loading best optimizer {best_optimizer}')\n",
    "            optimizer.load_state_dict(torch.load(best_optimizer))\n",
    "\n",
    "\n",
    "            acc, rocauc = testing_aucscore(model, X_test, Y_test, batch_size, device)\n",
    "\n",
    "            task_end = time.time()\n",
    "\n",
    "            print(f'Task Elapsed time {(task_end - task_start)/60} mins.')    \n",
    "\n",
    "            \n",
    "            results_f = open(os.path.join(results_save_dir + 'hdbscan_10_5_stdBefore_' + str(num_samples_per_malware_family) + '_results.txt'), 'a')\n",
    "            result_string = '{}\\t{}\\t{}\\t{}\\t{}\\t{}\\t\\n'.format(current_task,epoch_ran, task_training_time, acc, rocauc, num_replay_samples)\n",
    "            results_f.write(result_string)\n",
    "            results_f.flush()\n",
    "            results_f.close()\n",
    "\n",
    "\n",
    "        end_time = time.time()\n",
    "        cnt += 1\n",
    "        print(f'Elapsed time {(end_time - start_time)/60} mins.')\n",
    "        \n",
    "    \n",
    "    #except:\n",
    "    #    exp_seeds += [random.randint(99999, 999999)]\n",
    "    #    pass\n",
    "\n",
    "#exemplar_file = './hdbscanExemplars_minCluster20.npz'    \n",
    "#np.savez(exemplar_file, exemplars_stat)"
   ]
  },
  {
   "cell_type": "code",
   "execution_count": null,
   "metadata": {},
   "outputs": [],
   "source": [
    "exemplars_samples = [12324, 20463, 24626, 31995, 36498, 41805, 48096, 53178, 62630, 78204, 86381, 93384]\n",
    "exemplars_samples = np.array(exemplars_samples)\n",
    "all_mal_training_samples = [29309, 28078, 18139, 24166, 19977, 22628, 23957, 19623, 33367,\n",
    "       50742, 44994, 44987]\n",
    "all_mal_training_samples = np.array(all_mal_training_samples)"
   ]
  },
  {
   "cell_type": "code",
   "execution_count": null,
   "metadata": {},
   "outputs": [],
   "source": [
    "\n",
    "all_task_months = ['2018-01', '2018-02', '2018-03', '2018-04', '2018-05', '2018-06',\n",
    "                   '2018-07', '2018-08', '2018-09', '2018-10', '2018-11', '2018-12']\n",
    "#k = 11\n",
    "\n",
    "exemplars_count = []\n",
    "\n",
    "for k in range(12):\n",
    "    curr_task_samples = exemplars_stat[all_task_months[k]]\n",
    "    #print(len(curr_task_samples))\n",
    "\n",
    "    num_exemplars = []\n",
    "    for x, y in curr_task_samples.items():\n",
    "        if x != 'goodware':\n",
    "            num_exemplars += [len(y)]\n",
    "        else:\n",
    "            #pass\n",
    "            print(f'good {len(y)}')\n",
    "    #print(num_exemplars)\n",
    "\n",
    "    print(sum(num_exemplars))\n",
    "    cum_num_exemplars = np.cumsum(np.sort(num_exemplars))\n",
    "    exemplars_count.append(cum_num_exemplars)\n",
    "    \n",
    "#plt.figure(figsize=(6, 4))\n",
    "#plt.plot(cum_num_exemplars, 'blue', linewidth=2, marker= '*');"
   ]
  },
  {
   "cell_type": "code",
   "execution_count": null,
   "metadata": {},
   "outputs": [],
   "source": [
    "save_file_name = 'default_HDBSCAN_exemplars.pdf'\n",
    "\n",
    "colors = ['black', 'blue', 'red', 'orange', 'purple', 'green',\\\n",
    "         'cyan', 'pink', 'lime', 'gray', 'goldenrod', 'navy']\n",
    "mons = ['Jan', 'Feb', 'Mar', 'Apr', 'May', 'Jun', 'Jul', 'Aug', 'Sep', 'Oct', 'Nov', 'Dec']\n",
    "plt.figure(figsize=(10, 6))\n",
    "for ind, m in enumerate(exemplars_count):\n",
    "    plt.plot(m, c = colors[ind], linewidth=4, marker= '*', markersize=6, label=mons[ind]);\n",
    "\n",
    "    \n",
    "    \n",
    "plt.legend(loc='best', fontsize=16)\n",
    "plt.ylabel(\"Cumulative #of Samples\", size=20)\n",
    "plt.xlabel(\"Number of Families\", size=20)\n",
    "plt.yticks(fontsize=20)\n",
    "plt.xticks(fontsize=20)\n",
    "plt.title('Exemplars Selection using default HDBSCAN.exemplars_', fontsize=20)\n",
    "plt.grid(True, linestyle='--', linewidth=1.)\n",
    "\n",
    "#plt.savefig('./figures/isolation_forest/' + save_file_name, dpi=1000, bbox_inches='tight', transparent=True);"
   ]
  }
 ],
 "metadata": {
  "kernelspec": {
   "display_name": "PyTorch",
   "language": "python",
   "name": "pytorch"
  },
  "language_info": {
   "codemirror_mode": {
    "name": "ipython",
    "version": 3
   },
   "file_extension": ".py",
   "mimetype": "text/x-python",
   "name": "python",
   "nbconvert_exporter": "python",
   "pygments_lexer": "ipython3",
   "version": "3.7.9"
  }
 },
 "nbformat": 4,
 "nbformat_minor": 5
}
