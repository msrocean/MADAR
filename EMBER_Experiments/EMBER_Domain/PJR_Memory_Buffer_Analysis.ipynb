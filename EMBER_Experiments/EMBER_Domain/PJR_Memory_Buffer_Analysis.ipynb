{
 "cells": [
  {
   "cell_type": "raw",
   "metadata": {},
   "source": [
    "mal_samples = np.array([32491, 31222, 20152, 26892, 22193, 25116, 26622, 21791, 37062,\n",
    "        56459, 50000, 50000])\n",
    "good_samples = np.array([29423, 22915, 21373, 25190, 23719, 23285, 24799, 23634, 25707,\n",
    "        29955, 50000, 50000])"
   ]
  },
  {
   "cell_type": "code",
   "execution_count": 105,
   "metadata": {},
   "outputs": [],
   "source": [
    "import numpy as np\n",
    "import random\n",
    "import datetime\n",
    "import time\n",
    "import os\n",
    "from collections import defaultdict\n",
    "from sklearn.preprocessing import StandardScaler\n",
    "import matplotlib.pyplot as plt\n",
    "from tqdm import tqdm\n",
    "import ast\n",
    "\n",
    "import argparse\n",
    "import torch\n",
    "import torchvision\n",
    "import torch.nn as nn\n",
    "import torch.optim as optim\n",
    "import torch.nn.functional as F\n",
    "from torchvision import transforms, utils, datasets\n",
    "from torch.utils.data import Dataset, DataLoader\n",
    "\n",
    "from ember_utils import *\n",
    "from ember_model import *\n",
    "from ember_pjr_utils import *"
   ]
  },
  {
   "cell_type": "code",
   "execution_count": 106,
   "metadata": {},
   "outputs": [],
   "source": [
    "def create_parent_folder(file_path):\n",
    "    if not os.path.exists(os.path.dirname(file_path)):\n",
    "        os.makedirs(os.path.dirname(file_path))\n",
    "\n",
    "\n",
    "\n",
    "def get_family_labeled_month_data(data_dir, month, train=True):\n",
    "    \n",
    "    if train:\n",
    "        data_dir = data_dir + str(month) + '/'\n",
    "        XY_train = np.load(data_dir + 'XY_train.npz')\n",
    "        X_tr, Y_tr, Y_tr_family = XY_train['X_train'], XY_train['Y_train'], XY_train['Y_family_train']\n",
    "\n",
    "        print(f'X_train {X_tr.shape} Y_train {Y_tr.shape} Y_tr_family {Y_tr_family.shape}')\n",
    "        \n",
    "        return X_tr, Y_tr, Y_tr_family\n",
    "    else:\n",
    "        data_dir = data_dir + str(month) + '/'\n",
    "        XY_test = np.load(data_dir + 'XY_test.npz')\n",
    "        X_test, Y_test, Y_test_family = XY_test['X_test'], XY_test['Y_test'], XY_test['Y_family_test']\n",
    "\n",
    "        return X_test, Y_test, Y_test_family\n",
    "\n",
    "    \n",
    "    \n",
    "def get_family_labeled_task_test_data(data_dir, task_months, mlp_net=False):\n",
    "    \n",
    "    X_te, Y_te, Y_te_family = get_family_labeled_month_data(data_dir, task_months[-1], train=False)\n",
    "    \n",
    "    for month in task_months[:-1]:\n",
    "        pre_X_te, pre_Y_te, pre_Y_te_family = get_family_labeled_month_data(data_dir, month, train=False)\n",
    "        X_te, Y_te, Y_te_family = np.concatenate((X_te, pre_X_te)), np.concatenate((Y_te, pre_Y_te)),\\\n",
    "                                np.concatenate((Y_te_family, pre_Y_te_family))\n",
    "        \n",
    "\n",
    "    X_test, Y_test, Y_test_family = X_te, Y_te, Y_te_family\n",
    "    print(f'X_test {X_test.shape} Y_test {Y_test.shape} Y_te_family {Y_te_family.shape}')\n",
    "    \n",
    "    return X_test, Y_test, Y_test_family\n",
    "\n",
    "\n",
    "\n",
    "def make_family_based_dict(X_train, Y_train, Y_train_family, task_month, global_family_dict):\n",
    "    count = 0\n",
    "    for x_ind, x_sample in enumerate(X_train):\n",
    "        count += 1\n",
    "        #print(x_ind, Y_train[x_ind])\n",
    "\n",
    "        if Y_train[x_ind] == 0:\n",
    "            global_family_dict[\"goodware\"].append(x_sample)\n",
    "        if Y_train[x_ind] == 1:\n",
    "            if Y_train_family[x_ind] == '':\n",
    "                global_family_dict[\"others_family\"].append(x_sample)\n",
    "            else:\n",
    "                global_family_dict[Y_train_family[x_ind]].append(x_sample)\n",
    "\n",
    "    print(f'Task {task_month} and #-of new samples stored {count}')\n",
    "    \n",
    "    return global_family_dict\n",
    "\n",
    "\n",
    "\n",
    "def get_replay_samples(global_family_dict, num_samples_per_malware_family):\n",
    "    pre_malware_samples = []\n",
    "\n",
    "    cnt = 0\n",
    "    for k in global_family_dict.keys():\n",
    "        if k != 'goodware':\n",
    "            cnt += 1\n",
    "            if num_samples_per_malware_family > len(global_family_dict[k]):\n",
    "                selected_family_samples = random.sample(global_family_dict[k], len(global_family_dict[k]))\n",
    "            else:\n",
    "                selected_family_samples = random.sample(global_family_dict[k], num_samples_per_malware_family)\n",
    "\n",
    "            #print(selected_family_samples)\n",
    "            for sample in selected_family_samples:\n",
    "                pre_malware_samples.append(sample)\n",
    "                \n",
    "    if len(global_family_dict['goodware']) < len(pre_malware_samples):\n",
    "        pre_goodware_samples = random.sample(global_family_dict['goodware'], len(global_family_dict['goodware']))\n",
    "    else:\n",
    "        pre_goodware_samples = random.sample(global_family_dict['goodware'], len(pre_malware_samples))\n",
    "\n",
    "    samples_to_replay = np.concatenate((np.array(pre_goodware_samples), np.array(pre_malware_samples)))\n",
    "    labels_to_replay = np.concatenate((np.zeros(len(pre_goodware_samples)), np.ones(len(pre_malware_samples))))\n",
    "\n",
    "\n",
    "    print(f'X_replay {samples_to_replay.shape} Y_replay {labels_to_replay.shape}')\n",
    "    print(f'Replay {len(pre_malware_samples)} malware samples of {len(global_family_dict.keys()) -1} families')\n",
    "    print(f'and Replay {len(pre_goodware_samples)} goodware samples')\n",
    "    \n",
    "    \n",
    "    return samples_to_replay, labels_to_replay\n",
    "\n",
    "\n",
    "\n",
    "\n",
    "def get_replay_samples_first(global_family_dict, num_samples_per_malware_family):\n",
    "    pre_malware_samples = []\n",
    "\n",
    "    cnt = 0\n",
    "    for k in global_family_dict.keys():\n",
    "        if k != 'goodware':\n",
    "            cnt += 1\n",
    "            if num_samples_per_malware_family > len(global_family_dict[k]):\n",
    "                selected_family_samples = global_family_dict[k] \n",
    "                #random.sample(global_family_dict[k], len(global_family_dict[k]))\n",
    "            else:\n",
    "                selected_family_samples = global_family_dict[k][:num_samples_per_malware_family]\n",
    "                #random.sample(global_family_dict[k], num_samples_per_malware_family)\n",
    "\n",
    "            #print(selected_family_samples)\n",
    "            for sample in selected_family_samples:\n",
    "                pre_malware_samples.append(sample)\n",
    "                \n",
    "    if len(global_family_dict['goodware']) < len(pre_malware_samples):\n",
    "        pre_goodware_samples = global_family_dict['goodware'] \n",
    "        #random.sample(global_family_dict['goodware'], len(global_family_dict['goodware']))\n",
    "    else:\n",
    "        pre_goodware_samples = global_family_dict['goodware'][:len(pre_malware_samples)] \n",
    "        #random.sample(global_family_dict['goodware'], len(pre_malware_samples))\n",
    "\n",
    "    samples_to_replay = np.concatenate((np.array(pre_goodware_samples), np.array(pre_malware_samples)))\n",
    "    labels_to_replay = np.concatenate((np.zeros(len(pre_goodware_samples)), np.ones(len(pre_malware_samples))))\n",
    "\n",
    "\n",
    "    print(f'X_replay {samples_to_replay.shape} Y_replay {labels_to_replay.shape}')\n",
    "    print(f'Replay {len(pre_malware_samples)} malware samples of {len(global_family_dict.keys()) -1} families')\n",
    "    print(f'and Replay {len(pre_goodware_samples)} goodware samples')\n",
    "    \n",
    "    \n",
    "    return samples_to_replay, labels_to_replay\n",
    "\n",
    "\n",
    "def get_replay_samples_last(global_family_dict, num_samples_per_malware_family):\n",
    "    pre_malware_samples = []\n",
    "\n",
    "    cnt = 0\n",
    "    for k in global_family_dict.keys():\n",
    "        if k != 'goodware':\n",
    "            cnt += 1\n",
    "            if num_samples_per_malware_family > len(global_family_dict[k]):\n",
    "                selected_family_samples = global_family_dict[k] \n",
    "                #random.sample(global_family_dict[k], len(global_family_dict[k]))\n",
    "            else:\n",
    "                selected_family_samples = global_family_dict[k][-num_samples_per_malware_family:]\n",
    "                #random.sample(global_family_dict[k], num_samples_per_malware_family)\n",
    "\n",
    "            #print(selected_family_samples)\n",
    "            for sample in selected_family_samples:\n",
    "                pre_malware_samples.append(sample)\n",
    "                \n",
    "    if len(global_family_dict['goodware']) < len(pre_malware_samples):\n",
    "        pre_goodware_samples = global_family_dict['goodware']\n",
    "        #random.sample(global_family_dict['goodware'], len(global_family_dict['goodware']))\n",
    "    else:\n",
    "        pre_goodware_samples = global_family_dict['goodware'][-len(pre_malware_samples):]\n",
    "        #random.sample(global_family_dict['goodware'], len(pre_malware_samples))\n",
    "\n",
    "    samples_to_replay = np.concatenate((np.array(pre_goodware_samples), np.array(pre_malware_samples)))\n",
    "    labels_to_replay = np.concatenate((np.zeros(len(pre_goodware_samples)), np.ones(len(pre_malware_samples))))\n",
    "\n",
    "\n",
    "    print(f'X_replay {samples_to_replay.shape} Y_replay {labels_to_replay.shape}')\n",
    "    print(f'Replay {len(pre_malware_samples)} malware samples of {len(global_family_dict.keys()) -1} families')\n",
    "    print(f'and Replay {len(pre_goodware_samples)} goodware samples')\n",
    "    \n",
    "    \n",
    "    return samples_to_replay, labels_to_replay\n"
   ]
  },
  {
   "cell_type": "code",
   "execution_count": 109,
   "metadata": {},
   "outputs": [],
   "source": [
    "def get_only_av_class_labeled_samples(all_X, all_Y, Y_Family):\n",
    "    \n",
    "    new_X = []\n",
    "    new_Y = []\n",
    "    new_Y_family = []\n",
    "    \n",
    "    for ind, y in enumerate(all_Y):\n",
    "        if y == 1:\n",
    "            if Y_Family[ind] != '':\n",
    "                new_Y.append(y)\n",
    "                new_X.append(all_X[ind])\n",
    "                new_Y_family.append(Y_Family[ind])\n",
    "        else:\n",
    "            new_Y.append(y)\n",
    "            new_X.append(all_X[ind])\n",
    "            new_Y_family.append(Y_Family[ind])\n",
    "            \n",
    "            \n",
    "    print(len(all_Y==1) == (len(new_Y) + (len(all_Y) - len(new_Y))))  \n",
    "    print(len(new_X) == len(new_Y))\n",
    "    \n",
    "    new_X, new_Y, new_Y_family = np.array(new_X), np.array(new_Y), np.array(new_Y_family)\n",
    "    return new_X, new_Y, new_Y_family\n",
    "\n",
    "\n",
    "def getNOAVCLASS_partial_data(X, Y, Y_fam , replay_portion):\n",
    "    indx = [i for i in range(len(Y))]\n",
    "    random.shuffle(indx)\n",
    "\n",
    "    replay_data_size = int(len(indx)*replay_portion)\n",
    "    replay_index = indx[:replay_data_size]\n",
    "\n",
    "    X_train = X[replay_index]\n",
    "    Y_train = Y[replay_index]\n",
    "    Y_family = Y_fam[replay_index]\n",
    "    \n",
    "    return X_train, Y_train, Y_family        \n",
    "        \n",
    "def getNOAVCLASS_PJR_random_training_data(data_dir, task_months, replay_portion):\n",
    "    \n",
    "    X_tr, Y_tr, Y_tr_fam = get_family_labeled_month_data(data_dir, task_months[-1])\n",
    "    X_tr, Y_tr, Y_tr_fam = get_only_av_class_labeled_samples(X_tr, Y_tr, Y_tr_fam)\n",
    "    \n",
    "    print(f'Current Task month {task_months[-1]} data X {X_tr.shape} Y {Y_tr.shape}')\n",
    "    for month in task_months[:-1]:\n",
    "        pre_X_tr, pre_Y_tr, pre_Y_tr_fam = get_family_labeled_month_data(data_dir, month)\n",
    "        pre_X_tr, pre_Y_tr, pre_Y_tr_fam = get_only_av_class_labeled_samples(pre_X_tr, Y_train, pre_Y_tr_fam)\n",
    "        \n",
    "        pre_X_tr, pre_Y_tr, pre_Y_tr_fam = getNOAVCLASS_partial_data(pre_X_tr, pre_Y_tr, pre_Y_tr_fam, replay_portion)\n",
    "        \n",
    "        print(f'previous month {month} data X {pre_X_tr.shape} Y {pre_Y_tr.shape} Y_family {pre_Y_tr_fam.shape}')\n",
    "        \n",
    "        X_tr, Y_tr, Y_tr_fam  = np.concatenate((X_tr, pre_X_tr)),\\\n",
    "                    np.concatenate((Y_tr, pre_Y_tr)), np.concatenate((Y_tr_fam, pre_Y_tr_fam))\n",
    "\n",
    "    \n",
    "    print()\n",
    "    print(f'X_train {X_tr.shape} Y_train {Y_tr.shape} Y_family {Y_tr_fam.shape}\\n')\n",
    "    \n",
    "    return X_tr, Y_tr, Y_tr_fam \n",
    "\n",
    "        \n",
    "def get_family_labeled_task_test_data(data_dir, task_months, mlp_net=False):\n",
    "    \n",
    "    X_te, Y_te, Y_te_family = get_family_labeled_month_data(data_dir, task_months[-1], train=False)\n",
    "    \n",
    "    for month in task_months[:-1]:\n",
    "        pre_X_te, pre_Y_te, pre_Y_te_family = get_family_labeled_month_data(data_dir, month, train=False)\n",
    "        X_te, Y_te, Y_te_family = np.concatenate((X_te, pre_X_te)), np.concatenate((Y_te, pre_Y_te)),\\\n",
    "                                np.concatenate((Y_te_family, pre_Y_te_family))\n",
    "        \n",
    "\n",
    "    X_test, Y_test, Y_test_family = X_te, Y_te, Y_te_family\n",
    "    print(f'X_test {X_test.shape} Y_test {Y_test.shape} Y_te_family {Y_te_family.shape}')\n",
    "    \n",
    "    return X_test, Y_test, Y_test_family\n",
    "\n",
    "\n"
   ]
  },
  {
   "cell_type": "code",
   "execution_count": 113,
   "metadata": {},
   "outputs": [
    {
     "name": "stdout",
     "output_type": "stream",
     "text": [
      "Torch 1.6.0 CUDA 10.2\n",
      "Model has 3.132161m parameters\n",
      "\n",
      "2022-10-31 01:04:49 Round 1 ...\n",
      "Current Task 2018-01 w/ 500 samples to Replay per Malware family.\n",
      "X_train (55722, 2381) Y_train (55722,) Y_tr_family (55722,)\n",
      "X_test (6192, 2381) Y_test (6192,) Y_te_family (6192,)\n",
      "True\n",
      "True\n",
      "True\n",
      "True\n",
      "Task 2018-01 and #-of new samples stored 54148\n",
      "Initial Task 2018-01 X_train (54148, 2381) Y_train (54148,)\n",
      "************** ************** **************\n",
      "\n",
      "2022-10-31 01:04:51 Standardizing ...\n"
     ]
    },
    {
     "name": "stderr",
     "output_type": "stream",
     "text": [
      "\r",
      "  0%|          | 0/9 [00:00<?, ?it/s]"
     ]
    },
    {
     "name": "stdout",
     "output_type": "stream",
     "text": [
      "2022-10-31 01:04:53 Training ...\n",
      "Epoch 1 of 500\n"
     ]
    },
    {
     "name": "stderr",
     "output_type": "stream",
     "text": [
      "100%|██████████| 9/9 [00:01<00:00,  5.85it/s]\n",
      "100%|██████████| 1/1 [00:00<00:00,  1.55it/s]\n",
      "  0%|          | 0/9 [00:00<?, ?it/s]"
     ]
    },
    {
     "name": "stdout",
     "output_type": "stream",
     "text": [
      "Train Loss: 0.7069, Train Acc: 53.03\n",
      "Val Loss: 0.6819, Val Acc: 62.22\n",
      "Validation loss decreased (inf --> 0.681908).  Saving model ...\n",
      "../pjr_saved_model_first/VALID_NEW_PJR_replay_500/2018-01/best_model_epoch_1.pt\n",
      "Epoch 2 of 500\n"
     ]
    },
    {
     "name": "stderr",
     "output_type": "stream",
     "text": [
      "100%|██████████| 9/9 [00:01<00:00,  5.29it/s]\n",
      "100%|██████████| 1/1 [00:00<00:00,  1.67it/s]\n",
      "  0%|          | 0/9 [00:00<?, ?it/s]"
     ]
    },
    {
     "name": "stdout",
     "output_type": "stream",
     "text": [
      "Train Loss: 0.6551, Train Acc: 62.99\n",
      "Val Loss: 0.6386, Val Acc: 72.44\n",
      "Validation loss decreased (0.681908 --> 0.638553).  Saving model ...\n",
      "../pjr_saved_model_first/VALID_NEW_PJR_replay_500/2018-01/best_model_epoch_2.pt\n",
      "Epoch 3 of 500\n"
     ]
    },
    {
     "name": "stderr",
     "output_type": "stream",
     "text": [
      "100%|██████████| 9/9 [00:01<00:00,  5.47it/s]\n",
      "100%|██████████| 1/1 [00:00<00:00,  1.71it/s]\n",
      "  0%|          | 0/9 [00:00<?, ?it/s]"
     ]
    },
    {
     "name": "stdout",
     "output_type": "stream",
     "text": [
      "Train Loss: 0.6090, Train Acc: 69.71\n",
      "Val Loss: 0.5804, Val Acc: 76.16\n",
      "Validation loss decreased (0.638553 --> 0.580437).  Saving model ...\n",
      "../pjr_saved_model_first/VALID_NEW_PJR_replay_500/2018-01/best_model_epoch_3.pt\n",
      "Epoch 4 of 500\n"
     ]
    },
    {
     "name": "stderr",
     "output_type": "stream",
     "text": [
      "100%|██████████| 9/9 [00:01<00:00,  5.99it/s]\n",
      "100%|██████████| 1/1 [00:00<00:00,  1.61it/s]\n",
      "  0%|          | 0/9 [00:00<?, ?it/s]"
     ]
    },
    {
     "name": "stdout",
     "output_type": "stream",
     "text": [
      "Train Loss: 0.5502, Train Acc: 74.03\n",
      "Val Loss: 0.5161, Val Acc: 79.43\n",
      "Validation loss decreased (0.580437 --> 0.516081).  Saving model ...\n",
      "../pjr_saved_model_first/VALID_NEW_PJR_replay_500/2018-01/best_model_epoch_4.pt\n",
      "Epoch 5 of 500\n"
     ]
    },
    {
     "name": "stderr",
     "output_type": "stream",
     "text": [
      "100%|██████████| 9/9 [00:01<00:00,  5.50it/s]\n",
      "100%|██████████| 1/1 [00:00<00:00,  1.65it/s]\n",
      "  0%|          | 0/9 [00:00<?, ?it/s]"
     ]
    },
    {
     "name": "stdout",
     "output_type": "stream",
     "text": [
      "Train Loss: 0.4897, Train Acc: 77.21\n",
      "Val Loss: 0.4310, Val Acc: 82.01\n",
      "Validation loss decreased (0.516081 --> 0.430953).  Saving model ...\n",
      "../pjr_saved_model_first/VALID_NEW_PJR_replay_500/2018-01/best_model_epoch_5.pt\n",
      "Epoch 6 of 500\n"
     ]
    },
    {
     "name": "stderr",
     "output_type": "stream",
     "text": [
      "100%|██████████| 9/9 [00:01<00:00,  5.04it/s]\n",
      "100%|██████████| 1/1 [00:00<00:00,  1.42it/s]\n",
      "  0%|          | 0/9 [00:00<?, ?it/s]"
     ]
    },
    {
     "name": "stdout",
     "output_type": "stream",
     "text": [
      "Train Loss: 0.4376, Train Acc: 79.79\n",
      "Val Loss: 0.3939, Val Acc: 82.19\n",
      "Validation loss decreased (0.430953 --> 0.393879).  Saving model ...\n",
      "../pjr_saved_model_first/VALID_NEW_PJR_replay_500/2018-01/best_model_epoch_6.pt\n",
      "Epoch 7 of 500\n"
     ]
    },
    {
     "name": "stderr",
     "output_type": "stream",
     "text": [
      "100%|██████████| 9/9 [00:01<00:00,  4.97it/s]\n",
      "100%|██████████| 1/1 [00:00<00:00,  1.63it/s]\n",
      "  0%|          | 0/9 [00:00<?, ?it/s]"
     ]
    },
    {
     "name": "stdout",
     "output_type": "stream",
     "text": [
      "Train Loss: 0.3993, Train Acc: 81.53\n",
      "Val Loss: 0.3344, Val Acc: 85.76\n",
      "Validation loss decreased (0.393879 --> 0.334446).  Saving model ...\n",
      "../pjr_saved_model_first/VALID_NEW_PJR_replay_500/2018-01/best_model_epoch_7.pt\n",
      "Epoch 8 of 500\n"
     ]
    },
    {
     "name": "stderr",
     "output_type": "stream",
     "text": [
      "100%|██████████| 9/9 [00:01<00:00,  5.48it/s]\n",
      "100%|██████████| 1/1 [00:00<00:00,  1.53it/s]\n",
      "  0%|          | 0/9 [00:00<?, ?it/s]"
     ]
    },
    {
     "name": "stdout",
     "output_type": "stream",
     "text": [
      "Train Loss: 0.3679, Train Acc: 83.58\n",
      "Val Loss: 0.3033, Val Acc: 87.83\n",
      "Validation loss decreased (0.334446 --> 0.303333).  Saving model ...\n",
      "../pjr_saved_model_first/VALID_NEW_PJR_replay_500/2018-01/best_model_epoch_8.pt\n",
      "Epoch 9 of 500\n"
     ]
    },
    {
     "name": "stderr",
     "output_type": "stream",
     "text": [
      "100%|██████████| 9/9 [00:01<00:00,  5.50it/s]\n",
      "100%|██████████| 1/1 [00:00<00:00,  1.67it/s]\n",
      "  0%|          | 0/9 [00:00<?, ?it/s]"
     ]
    },
    {
     "name": "stdout",
     "output_type": "stream",
     "text": [
      "Train Loss: 0.3350, Train Acc: 85.10\n",
      "Val Loss: 0.2760, Val Acc: 88.91\n",
      "Validation loss decreased (0.303333 --> 0.275953).  Saving model ...\n",
      "../pjr_saved_model_first/VALID_NEW_PJR_replay_500/2018-01/best_model_epoch_9.pt\n",
      "Epoch 10 of 500\n"
     ]
    },
    {
     "name": "stderr",
     "output_type": "stream",
     "text": [
      "100%|██████████| 9/9 [00:01<00:00,  5.16it/s]\n",
      "100%|██████████| 1/1 [00:00<00:00,  1.68it/s]\n",
      "  0%|          | 0/9 [00:00<?, ?it/s]"
     ]
    },
    {
     "name": "stdout",
     "output_type": "stream",
     "text": [
      "Train Loss: 0.3096, Train Acc: 86.59\n",
      "Val Loss: 0.2687, Val Acc: 89.03\n",
      "Validation loss decreased (0.275953 --> 0.268722).  Saving model ...\n",
      "../pjr_saved_model_first/VALID_NEW_PJR_replay_500/2018-01/best_model_epoch_10.pt\n",
      "Epoch 11 of 500\n"
     ]
    },
    {
     "name": "stderr",
     "output_type": "stream",
     "text": [
      "100%|██████████| 9/9 [00:01<00:00,  6.04it/s]\n",
      "100%|██████████| 1/1 [00:00<00:00,  1.71it/s]\n",
      "  0%|          | 0/9 [00:00<?, ?it/s]"
     ]
    },
    {
     "name": "stdout",
     "output_type": "stream",
     "text": [
      "Train Loss: 0.2869, Train Acc: 87.78\n",
      "Val Loss: 0.2438, Val Acc: 89.86\n",
      "Validation loss decreased (0.268722 --> 0.243820).  Saving model ...\n",
      "../pjr_saved_model_first/VALID_NEW_PJR_replay_500/2018-01/best_model_epoch_11.pt\n",
      "Epoch 12 of 500\n"
     ]
    },
    {
     "name": "stderr",
     "output_type": "stream",
     "text": [
      "100%|██████████| 9/9 [00:01<00:00,  6.03it/s]\n",
      "100%|██████████| 1/1 [00:00<00:00,  1.69it/s]\n",
      "  0%|          | 0/9 [00:00<?, ?it/s]"
     ]
    },
    {
     "name": "stdout",
     "output_type": "stream",
     "text": [
      "Train Loss: 0.2698, Train Acc: 88.70\n",
      "Val Loss: 0.2315, Val Acc: 90.43\n",
      "Validation loss decreased (0.243820 --> 0.231517).  Saving model ...\n",
      "../pjr_saved_model_first/VALID_NEW_PJR_replay_500/2018-01/best_model_epoch_12.pt\n",
      "Epoch 13 of 500\n"
     ]
    },
    {
     "name": "stderr",
     "output_type": "stream",
     "text": [
      "100%|██████████| 9/9 [00:01<00:00,  5.51it/s]\n",
      "100%|██████████| 1/1 [00:00<00:00,  1.74it/s]\n",
      "  0%|          | 0/9 [00:00<?, ?it/s]"
     ]
    },
    {
     "name": "stdout",
     "output_type": "stream",
     "text": [
      "Train Loss: 0.2570, Train Acc: 89.18\n",
      "Val Loss: 0.2218, Val Acc: 90.61\n",
      "Validation loss decreased (0.231517 --> 0.221827).  Saving model ...\n",
      "../pjr_saved_model_first/VALID_NEW_PJR_replay_500/2018-01/best_model_epoch_13.pt\n",
      "Epoch 14 of 500\n"
     ]
    },
    {
     "name": "stderr",
     "output_type": "stream",
     "text": [
      "100%|██████████| 9/9 [00:01<00:00,  5.50it/s]\n",
      "100%|██████████| 1/1 [00:00<00:00,  1.59it/s]\n",
      "  0%|          | 0/9 [00:00<?, ?it/s]"
     ]
    },
    {
     "name": "stdout",
     "output_type": "stream",
     "text": [
      "Train Loss: 0.2400, Train Acc: 90.13\n",
      "Val Loss: 0.2226, Val Acc: 90.95\n",
      "EarlyStopping counter: 1 out of 5\n",
      "Epoch 15 of 500\n"
     ]
    },
    {
     "name": "stderr",
     "output_type": "stream",
     "text": [
      "100%|██████████| 9/9 [00:01<00:00,  5.17it/s]\n",
      "100%|██████████| 1/1 [00:00<00:00,  1.69it/s]\n",
      "  0%|          | 0/9 [00:00<?, ?it/s]"
     ]
    },
    {
     "name": "stdout",
     "output_type": "stream",
     "text": [
      "Train Loss: 0.2272, Train Acc: 90.67\n",
      "Val Loss: 0.1983, Val Acc: 91.70\n",
      "Validation loss decreased (0.221827 --> 0.198281).  Saving model ...\n",
      "../pjr_saved_model_first/VALID_NEW_PJR_replay_500/2018-01/best_model_epoch_15.pt\n",
      "Epoch 16 of 500\n"
     ]
    },
    {
     "name": "stderr",
     "output_type": "stream",
     "text": [
      "100%|██████████| 9/9 [00:01<00:00,  4.73it/s]\n",
      "100%|██████████| 1/1 [00:00<00:00,  1.63it/s]\n",
      "  0%|          | 0/9 [00:00<?, ?it/s]"
     ]
    },
    {
     "name": "stdout",
     "output_type": "stream",
     "text": [
      "Train Loss: 0.2208, Train Acc: 91.03\n",
      "Val Loss: 0.2165, Val Acc: 91.03\n",
      "EarlyStopping counter: 1 out of 5\n",
      "Epoch 17 of 500\n"
     ]
    },
    {
     "name": "stderr",
     "output_type": "stream",
     "text": [
      "100%|██████████| 9/9 [00:01<00:00,  4.91it/s]\n",
      "100%|██████████| 1/1 [00:00<00:00,  1.66it/s]\n",
      "  0%|          | 0/9 [00:00<?, ?it/s]"
     ]
    },
    {
     "name": "stdout",
     "output_type": "stream",
     "text": [
      "Train Loss: 0.2100, Train Acc: 91.38\n",
      "Val Loss: 0.1986, Val Acc: 91.58\n",
      "EarlyStopping counter: 2 out of 5\n",
      "Epoch 18 of 500\n"
     ]
    },
    {
     "name": "stderr",
     "output_type": "stream",
     "text": [
      "100%|██████████| 9/9 [00:01<00:00,  5.59it/s]\n",
      "100%|██████████| 1/1 [00:00<00:00,  1.67it/s]\n",
      "  0%|          | 0/9 [00:00<?, ?it/s]"
     ]
    },
    {
     "name": "stdout",
     "output_type": "stream",
     "text": [
      "Train Loss: 0.2036, Train Acc: 91.70\n",
      "Val Loss: 0.2005, Val Acc: 91.58\n",
      "EarlyStopping counter: 3 out of 5\n",
      "Epoch 19 of 500\n"
     ]
    },
    {
     "name": "stderr",
     "output_type": "stream",
     "text": [
      "100%|██████████| 9/9 [00:01<00:00,  5.45it/s]\n",
      "100%|██████████| 1/1 [00:00<00:00,  1.56it/s]\n",
      "  0%|          | 0/9 [00:00<?, ?it/s]"
     ]
    },
    {
     "name": "stdout",
     "output_type": "stream",
     "text": [
      "Train Loss: 0.2000, Train Acc: 91.95\n",
      "Val Loss: 0.1959, Val Acc: 92.01\n",
      "Validation loss decreased (0.198281 --> 0.195877).  Saving model ...\n",
      "../pjr_saved_model_first/VALID_NEW_PJR_replay_500/2018-01/best_model_epoch_19.pt\n",
      "Epoch 20 of 500\n"
     ]
    },
    {
     "name": "stderr",
     "output_type": "stream",
     "text": [
      "100%|██████████| 9/9 [00:01<00:00,  5.80it/s]\n",
      "100%|██████████| 1/1 [00:00<00:00,  1.58it/s]\n",
      "  0%|          | 0/9 [00:00<?, ?it/s]"
     ]
    },
    {
     "name": "stdout",
     "output_type": "stream",
     "text": [
      "Train Loss: 0.1937, Train Acc: 92.27\n",
      "Val Loss: 0.1870, Val Acc: 92.63\n",
      "Validation loss decreased (0.195877 --> 0.186993).  Saving model ...\n",
      "../pjr_saved_model_first/VALID_NEW_PJR_replay_500/2018-01/best_model_epoch_20.pt\n",
      "Epoch 21 of 500\n"
     ]
    },
    {
     "name": "stderr",
     "output_type": "stream",
     "text": [
      "100%|██████████| 9/9 [00:01<00:00,  5.09it/s]\n",
      "100%|██████████| 1/1 [00:00<00:00,  1.55it/s]\n",
      "  0%|          | 0/9 [00:00<?, ?it/s]"
     ]
    },
    {
     "name": "stdout",
     "output_type": "stream",
     "text": [
      "Train Loss: 0.1882, Train Acc: 92.56\n",
      "Val Loss: 0.1723, Val Acc: 93.05\n",
      "Validation loss decreased (0.186993 --> 0.172338).  Saving model ...\n",
      "../pjr_saved_model_first/VALID_NEW_PJR_replay_500/2018-01/best_model_epoch_21.pt\n",
      "Epoch 22 of 500\n"
     ]
    },
    {
     "name": "stderr",
     "output_type": "stream",
     "text": [
      "100%|██████████| 9/9 [00:01<00:00,  5.30it/s]\n",
      "100%|██████████| 1/1 [00:00<00:00,  1.72it/s]\n",
      "  0%|          | 0/9 [00:00<?, ?it/s]"
     ]
    },
    {
     "name": "stdout",
     "output_type": "stream",
     "text": [
      "Train Loss: 0.1808, Train Acc: 92.89\n",
      "Val Loss: 0.1853, Val Acc: 92.45\n",
      "EarlyStopping counter: 1 out of 5\n",
      "Epoch 23 of 500\n"
     ]
    },
    {
     "name": "stderr",
     "output_type": "stream",
     "text": [
      "100%|██████████| 9/9 [00:01<00:00,  5.45it/s]\n",
      "100%|██████████| 1/1 [00:00<00:00,  1.68it/s]\n",
      "  0%|          | 0/9 [00:00<?, ?it/s]"
     ]
    },
    {
     "name": "stdout",
     "output_type": "stream",
     "text": [
      "Train Loss: 0.1790, Train Acc: 92.86\n",
      "Val Loss: 0.1844, Val Acc: 92.76\n",
      "EarlyStopping counter: 2 out of 5\n",
      "Epoch 24 of 500\n"
     ]
    },
    {
     "name": "stderr",
     "output_type": "stream",
     "text": [
      "100%|██████████| 9/9 [00:01<00:00,  5.47it/s]\n",
      "100%|██████████| 1/1 [00:00<00:00,  1.53it/s]\n",
      "  0%|          | 0/9 [00:00<?, ?it/s]"
     ]
    },
    {
     "name": "stdout",
     "output_type": "stream",
     "text": [
      "Train Loss: 0.1743, Train Acc: 93.05\n",
      "Val Loss: 0.1739, Val Acc: 93.23\n",
      "EarlyStopping counter: 3 out of 5\n",
      "Epoch 25 of 500\n"
     ]
    },
    {
     "name": "stderr",
     "output_type": "stream",
     "text": [
      "100%|██████████| 9/9 [00:01<00:00,  4.78it/s]\n",
      "100%|██████████| 1/1 [00:00<00:00,  1.67it/s]\n",
      "  0%|          | 0/9 [00:00<?, ?it/s]"
     ]
    },
    {
     "name": "stdout",
     "output_type": "stream",
     "text": [
      "Train Loss: 0.1684, Train Acc: 93.36\n",
      "Val Loss: 0.1780, Val Acc: 92.96\n",
      "EarlyStopping counter: 4 out of 5\n",
      "Epoch 26 of 500\n"
     ]
    },
    {
     "name": "stderr",
     "output_type": "stream",
     "text": [
      "100%|██████████| 9/9 [00:01<00:00,  5.53it/s]\n",
      "100%|██████████| 1/1 [00:00<00:00,  1.62it/s]\n",
      "  0%|          | 0/1 [00:00<?, ?it/s]"
     ]
    },
    {
     "name": "stdout",
     "output_type": "stream",
     "text": [
      "Train Loss: 0.1633, Train Acc: 93.58\n",
      "Val Loss: 0.1755, Val Acc: 93.06\n",
      "EarlyStopping counter: 5 out of 5\n",
      "Early stopping\n",
      "Training time: 1.028 minutes\n"
     ]
    },
    {
     "name": "stderr",
     "output_type": "stream",
     "text": [
      "100%|██████████| 1/1 [00:00<00:00,  2.41it/s]\n"
     ]
    },
    {
     "name": "stdout",
     "output_type": "stream",
     "text": [
      "accuracy 0.9296432144048016 and ROC-AUC 0.9840684999132743\n",
      "total 422 :: goodware 266 :: malware 156 and True\n",
      "Elapsed time 1.1177498698234558 mins.\n",
      "\n",
      "2022-10-31 01:05:56 Round 1 ...\n",
      "Current Task 2018-02 w/ 500 samples to Replay per Malware family.\n",
      "X_train (48723, 2381) Y_train (48723,) Y_tr_family (48723,)\n",
      "X_test (11606, 2381) Y_test (11606,) Y_te_family (11606,)\n",
      "True\n",
      "True\n",
      "True\n",
      "True\n",
      "X_replay (32252, 2381) Y_replay (32252,)\n",
      "Replay 16126 malware samples of 880 families\n",
      "and Replay 16126 goodware samples\n",
      "Task 2018-02 and #-of new samples stored 47039\n",
      "W/O replay samples \n",
      " X_train (47039, 2381) Y_train (47039,)\n",
      "With replay samples \n",
      " X_train (79291, 2381) Y_train (79291,)\n",
      "************** ************** **************\n",
      "\n",
      "2022-10-31 01:05:58 Standardizing ...\n"
     ]
    },
    {
     "name": "stderr",
     "output_type": "stream",
     "text": [
      "\r",
      "  0%|          | 0/13 [00:00<?, ?it/s]"
     ]
    },
    {
     "name": "stdout",
     "output_type": "stream",
     "text": [
      "2022-10-31 01:06:02 Training ...\n",
      "Epoch 1 of 500\n"
     ]
    },
    {
     "name": "stderr",
     "output_type": "stream",
     "text": [
      "100%|██████████| 13/13 [00:01<00:00,  6.95it/s]\n",
      "100%|██████████| 2/2 [00:00<00:00,  4.42it/s]\n",
      "  0%|          | 0/13 [00:00<?, ?it/s]"
     ]
    },
    {
     "name": "stdout",
     "output_type": "stream",
     "text": [
      "Train Loss: 0.2483, Train Acc: 89.91\n",
      "Val Loss: 0.1960, Val Acc: 92.17\n",
      "Validation loss decreased (inf --> 0.196004).  Saving model ...\n",
      "../pjr_saved_model_first/VALID_NEW_PJR_replay_500/2018-02/best_model_epoch_1.pt\n",
      "Epoch 2 of 500\n"
     ]
    },
    {
     "name": "stderr",
     "output_type": "stream",
     "text": [
      "100%|██████████| 13/13 [00:02<00:00,  6.39it/s]\n",
      "100%|██████████| 2/2 [00:00<00:00,  4.56it/s]\n",
      "  0%|          | 0/13 [00:00<?, ?it/s]"
     ]
    },
    {
     "name": "stdout",
     "output_type": "stream",
     "text": [
      "Train Loss: 0.2298, Train Acc: 90.58\n",
      "Val Loss: 0.1890, Val Acc: 92.63\n",
      "Validation loss decreased (0.196004 --> 0.188998).  Saving model ...\n",
      "../pjr_saved_model_first/VALID_NEW_PJR_replay_500/2018-02/best_model_epoch_2.pt\n",
      "Epoch 3 of 500\n"
     ]
    },
    {
     "name": "stderr",
     "output_type": "stream",
     "text": [
      "100%|██████████| 13/13 [00:02<00:00,  6.21it/s]\n",
      "100%|██████████| 2/2 [00:00<00:00,  4.30it/s]\n",
      "  0%|          | 0/13 [00:00<?, ?it/s]"
     ]
    },
    {
     "name": "stdout",
     "output_type": "stream",
     "text": [
      "Train Loss: 0.2173, Train Acc: 91.24\n",
      "Val Loss: 0.1777, Val Acc: 92.81\n",
      "Validation loss decreased (0.188998 --> 0.177694).  Saving model ...\n",
      "../pjr_saved_model_first/VALID_NEW_PJR_replay_500/2018-02/best_model_epoch_3.pt\n",
      "Epoch 4 of 500\n"
     ]
    },
    {
     "name": "stderr",
     "output_type": "stream",
     "text": [
      "100%|██████████| 13/13 [00:02<00:00,  6.08it/s]\n",
      "100%|██████████| 2/2 [00:00<00:00,  4.40it/s]\n",
      "  0%|          | 0/13 [00:00<?, ?it/s]"
     ]
    },
    {
     "name": "stdout",
     "output_type": "stream",
     "text": [
      "Train Loss: 0.2046, Train Acc: 91.73\n",
      "Val Loss: 0.1640, Val Acc: 93.30\n",
      "Validation loss decreased (0.177694 --> 0.163977).  Saving model ...\n",
      "../pjr_saved_model_first/VALID_NEW_PJR_replay_500/2018-02/best_model_epoch_4.pt\n",
      "Epoch 5 of 500\n"
     ]
    },
    {
     "name": "stderr",
     "output_type": "stream",
     "text": [
      "100%|██████████| 13/13 [00:02<00:00,  6.27it/s]\n",
      "100%|██████████| 2/2 [00:00<00:00,  4.76it/s]\n",
      "  0%|          | 0/13 [00:00<?, ?it/s]"
     ]
    },
    {
     "name": "stdout",
     "output_type": "stream",
     "text": [
      "Train Loss: 0.2017, Train Acc: 91.94\n",
      "Val Loss: 0.1718, Val Acc: 93.37\n",
      "EarlyStopping counter: 1 out of 5\n",
      "Epoch 6 of 500\n"
     ]
    },
    {
     "name": "stderr",
     "output_type": "stream",
     "text": [
      "100%|██████████| 13/13 [00:01<00:00,  6.62it/s]\n",
      "100%|██████████| 2/2 [00:00<00:00,  4.59it/s]\n",
      "  0%|          | 0/13 [00:00<?, ?it/s]"
     ]
    },
    {
     "name": "stdout",
     "output_type": "stream",
     "text": [
      "Train Loss: 0.1948, Train Acc: 92.20\n",
      "Val Loss: 0.1653, Val Acc: 93.63\n",
      "EarlyStopping counter: 2 out of 5\n",
      "Epoch 7 of 500\n"
     ]
    },
    {
     "name": "stderr",
     "output_type": "stream",
     "text": [
      "100%|██████████| 13/13 [00:02<00:00,  6.12it/s]\n",
      "100%|██████████| 2/2 [00:00<00:00,  4.75it/s]\n",
      "  0%|          | 0/13 [00:00<?, ?it/s]"
     ]
    },
    {
     "name": "stdout",
     "output_type": "stream",
     "text": [
      "Train Loss: 0.1910, Train Acc: 92.31\n",
      "Val Loss: 0.1661, Val Acc: 93.48\n",
      "EarlyStopping counter: 3 out of 5\n",
      "Epoch 8 of 500\n"
     ]
    },
    {
     "name": "stderr",
     "output_type": "stream",
     "text": [
      "100%|██████████| 13/13 [00:02<00:00,  6.05it/s]\n",
      "100%|██████████| 2/2 [00:00<00:00,  4.67it/s]\n",
      "  0%|          | 0/13 [00:00<?, ?it/s]"
     ]
    },
    {
     "name": "stdout",
     "output_type": "stream",
     "text": [
      "Train Loss: 0.1849, Train Acc: 92.72\n",
      "Val Loss: 0.1709, Val Acc: 93.46\n",
      "EarlyStopping counter: 4 out of 5\n",
      "Epoch 9 of 500\n"
     ]
    },
    {
     "name": "stderr",
     "output_type": "stream",
     "text": [
      "100%|██████████| 13/13 [00:02<00:00,  6.25it/s]\n",
      "100%|██████████| 2/2 [00:00<00:00,  4.52it/s]\n",
      " 50%|█████     | 1/2 [00:00<00:00,  7.13it/s]"
     ]
    },
    {
     "name": "stdout",
     "output_type": "stream",
     "text": [
      "Train Loss: 0.1806, Train Acc: 92.79\n",
      "Val Loss: 0.1653, Val Acc: 93.39\n",
      "EarlyStopping counter: 5 out of 5\n",
      "Early stopping\n",
      "Training time: 0.386 minutes\n"
     ]
    },
    {
     "name": "stderr",
     "output_type": "stream",
     "text": [
      "100%|██████████| 2/2 [00:00<00:00,  8.32it/s]\n"
     ]
    },
    {
     "name": "stdout",
     "output_type": "stream",
     "text": [
      "accuracy 0.9386230208148016 and ROC-AUC 0.9868461112297073\n",
      "total 690 :: goodware 445 :: malware 245 and True\n",
      "Elapsed time 1.612605373064677 mins.\n",
      "\n",
      "2022-10-31 01:06:25 Round 1 ...\n",
      "Current Task 2018-03 w/ 500 samples to Replay per Malware family.\n",
      "X_train (37372, 2381) Y_train (37372,) Y_tr_family (37372,)\n",
      "X_test (15759, 2381) Y_test (15759,) Y_te_family (15759,)\n",
      "True\n",
      "True\n",
      "True\n",
      "True\n",
      "X_replay (57044, 2381) Y_replay (57044,)\n",
      "Replay 28522 malware samples of 1290 families\n",
      "and Replay 28522 goodware samples\n",
      "Task 2018-03 and #-of new samples stored 36404\n",
      "W/O replay samples \n",
      " X_train (36404, 2381) Y_train (36404,)\n",
      "With replay samples \n",
      " X_train (93448, 2381) Y_train (93448,)\n",
      "************** ************** **************\n",
      "\n",
      "2022-10-31 01:06:28 Standardizing ...\n"
     ]
    },
    {
     "name": "stderr",
     "output_type": "stream",
     "text": [
      "\r",
      "  0%|          | 0/15 [00:00<?, ?it/s]"
     ]
    },
    {
     "name": "stdout",
     "output_type": "stream",
     "text": [
      "2022-10-31 01:06:34 Training ...\n",
      "Epoch 1 of 500\n"
     ]
    },
    {
     "name": "stderr",
     "output_type": "stream",
     "text": [
      "100%|██████████| 15/15 [00:02<00:00,  7.00it/s]\n",
      "100%|██████████| 3/3 [00:00<00:00,  4.08it/s]\n",
      "  0%|          | 0/15 [00:00<?, ?it/s]"
     ]
    },
    {
     "name": "stdout",
     "output_type": "stream",
     "text": [
      "Train Loss: 0.2278, Train Acc: 90.76\n",
      "Val Loss: 0.1868, Val Acc: 92.74\n",
      "Validation loss decreased (inf --> 0.186793).  Saving model ...\n",
      "../pjr_saved_model_first/VALID_NEW_PJR_replay_500/2018-03/best_model_epoch_1.pt\n",
      "Epoch 2 of 500\n"
     ]
    },
    {
     "name": "stderr",
     "output_type": "stream",
     "text": [
      "100%|██████████| 15/15 [00:02<00:00,  5.42it/s]\n",
      "100%|██████████| 3/3 [00:00<00:00,  3.99it/s]\n",
      "  0%|          | 0/15 [00:00<?, ?it/s]"
     ]
    },
    {
     "name": "stdout",
     "output_type": "stream",
     "text": [
      "Train Loss: 0.2170, Train Acc: 91.16\n",
      "Val Loss: 0.1868, Val Acc: 92.91\n",
      "Validation loss decreased (0.186793 --> 0.186763).  Saving model ...\n",
      "../pjr_saved_model_first/VALID_NEW_PJR_replay_500/2018-03/best_model_epoch_2.pt\n",
      "Epoch 3 of 500\n"
     ]
    },
    {
     "name": "stderr",
     "output_type": "stream",
     "text": [
      "100%|██████████| 15/15 [00:02<00:00,  5.60it/s]\n",
      "100%|██████████| 3/3 [00:00<00:00,  4.14it/s]\n",
      "  0%|          | 0/15 [00:00<?, ?it/s]"
     ]
    },
    {
     "name": "stdout",
     "output_type": "stream",
     "text": [
      "Train Loss: 0.2094, Train Acc: 91.39\n",
      "Val Loss: 0.1773, Val Acc: 93.26\n",
      "Validation loss decreased (0.186763 --> 0.177336).  Saving model ...\n",
      "../pjr_saved_model_first/VALID_NEW_PJR_replay_500/2018-03/best_model_epoch_3.pt\n",
      "Epoch 4 of 500\n"
     ]
    },
    {
     "name": "stderr",
     "output_type": "stream",
     "text": [
      "100%|██████████| 15/15 [00:02<00:00,  5.84it/s]\n",
      "100%|██████████| 3/3 [00:00<00:00,  3.98it/s]\n",
      "  0%|          | 0/15 [00:00<?, ?it/s]"
     ]
    },
    {
     "name": "stdout",
     "output_type": "stream",
     "text": [
      "Train Loss: 0.2010, Train Acc: 91.89\n",
      "Val Loss: 0.1789, Val Acc: 93.23\n",
      "EarlyStopping counter: 1 out of 5\n",
      "Epoch 5 of 500\n"
     ]
    },
    {
     "name": "stderr",
     "output_type": "stream",
     "text": [
      "100%|██████████| 15/15 [00:02<00:00,  5.55it/s]\n",
      "100%|██████████| 3/3 [00:00<00:00,  3.27it/s]\n",
      "  0%|          | 0/15 [00:00<?, ?it/s]"
     ]
    },
    {
     "name": "stdout",
     "output_type": "stream",
     "text": [
      "Train Loss: 0.1947, Train Acc: 92.22\n",
      "Val Loss: 0.1736, Val Acc: 93.35\n",
      "Validation loss decreased (0.177336 --> 0.173606).  Saving model ...\n",
      "../pjr_saved_model_first/VALID_NEW_PJR_replay_500/2018-03/best_model_epoch_5.pt\n",
      "Epoch 6 of 500\n"
     ]
    },
    {
     "name": "stderr",
     "output_type": "stream",
     "text": [
      "100%|██████████| 15/15 [00:02<00:00,  6.38it/s]\n",
      "100%|██████████| 3/3 [00:00<00:00,  3.55it/s]\n",
      "  0%|          | 0/15 [00:00<?, ?it/s]"
     ]
    },
    {
     "name": "stdout",
     "output_type": "stream",
     "text": [
      "Train Loss: 0.1922, Train Acc: 92.28\n",
      "Val Loss: 0.1771, Val Acc: 93.03\n",
      "EarlyStopping counter: 1 out of 5\n",
      "Epoch 7 of 500\n"
     ]
    },
    {
     "name": "stderr",
     "output_type": "stream",
     "text": [
      "100%|██████████| 15/15 [00:02<00:00,  5.44it/s]\n",
      "100%|██████████| 3/3 [00:00<00:00,  3.75it/s]\n",
      "  0%|          | 0/15 [00:00<?, ?it/s]"
     ]
    },
    {
     "name": "stdout",
     "output_type": "stream",
     "text": [
      "Train Loss: 0.1926, Train Acc: 92.27\n",
      "Val Loss: 0.1816, Val Acc: 92.99\n",
      "EarlyStopping counter: 2 out of 5\n",
      "Epoch 8 of 500\n"
     ]
    },
    {
     "name": "stderr",
     "output_type": "stream",
     "text": [
      "100%|██████████| 15/15 [00:02<00:00,  6.21it/s]\n",
      "100%|██████████| 3/3 [00:00<00:00,  3.77it/s]\n",
      "  0%|          | 0/15 [00:00<?, ?it/s]"
     ]
    },
    {
     "name": "stdout",
     "output_type": "stream",
     "text": [
      "Train Loss: 0.1878, Train Acc: 92.48\n",
      "Val Loss: 0.1689, Val Acc: 93.48\n",
      "Validation loss decreased (0.173606 --> 0.168850).  Saving model ...\n",
      "../pjr_saved_model_first/VALID_NEW_PJR_replay_500/2018-03/best_model_epoch_8.pt\n",
      "Epoch 9 of 500\n"
     ]
    },
    {
     "name": "stderr",
     "output_type": "stream",
     "text": [
      "100%|██████████| 15/15 [00:02<00:00,  6.32it/s]\n",
      "100%|██████████| 3/3 [00:00<00:00,  3.80it/s]\n",
      "  0%|          | 0/15 [00:00<?, ?it/s]"
     ]
    },
    {
     "name": "stdout",
     "output_type": "stream",
     "text": [
      "Train Loss: 0.1824, Train Acc: 92.69\n",
      "Val Loss: 0.1683, Val Acc: 93.61\n",
      "Validation loss decreased (0.168850 --> 0.168264).  Saving model ...\n",
      "../pjr_saved_model_first/VALID_NEW_PJR_replay_500/2018-03/best_model_epoch_9.pt\n",
      "Epoch 10 of 500\n"
     ]
    },
    {
     "name": "stderr",
     "output_type": "stream",
     "text": [
      "100%|██████████| 15/15 [00:02<00:00,  5.37it/s]\n",
      "100%|██████████| 3/3 [00:00<00:00,  4.08it/s]\n",
      "  0%|          | 0/15 [00:00<?, ?it/s]"
     ]
    },
    {
     "name": "stdout",
     "output_type": "stream",
     "text": [
      "Train Loss: 0.1807, Train Acc: 92.80\n",
      "Val Loss: 0.1660, Val Acc: 93.71\n",
      "Validation loss decreased (0.168264 --> 0.165956).  Saving model ...\n",
      "../pjr_saved_model_first/VALID_NEW_PJR_replay_500/2018-03/best_model_epoch_10.pt\n",
      "Epoch 11 of 500\n"
     ]
    },
    {
     "name": "stderr",
     "output_type": "stream",
     "text": [
      "100%|██████████| 15/15 [00:02<00:00,  6.35it/s]\n",
      "100%|██████████| 3/3 [00:00<00:00,  3.22it/s]\n",
      "  0%|          | 0/15 [00:00<?, ?it/s]"
     ]
    },
    {
     "name": "stdout",
     "output_type": "stream",
     "text": [
      "Train Loss: 0.1785, Train Acc: 92.94\n",
      "Val Loss: 0.1729, Val Acc: 93.29\n",
      "EarlyStopping counter: 1 out of 5\n",
      "Epoch 12 of 500\n"
     ]
    },
    {
     "name": "stderr",
     "output_type": "stream",
     "text": [
      "100%|██████████| 15/15 [00:02<00:00,  6.86it/s]\n",
      "100%|██████████| 3/3 [00:00<00:00,  3.87it/s]\n",
      "  0%|          | 0/15 [00:00<?, ?it/s]"
     ]
    },
    {
     "name": "stdout",
     "output_type": "stream",
     "text": [
      "Train Loss: 0.1724, Train Acc: 93.16\n",
      "Val Loss: 0.1641, Val Acc: 93.89\n",
      "Validation loss decreased (0.165956 --> 0.164111).  Saving model ...\n",
      "../pjr_saved_model_first/VALID_NEW_PJR_replay_500/2018-03/best_model_epoch_12.pt\n",
      "Epoch 13 of 500\n"
     ]
    },
    {
     "name": "stderr",
     "output_type": "stream",
     "text": [
      "100%|██████████| 15/15 [00:02<00:00,  6.94it/s]\n",
      "100%|██████████| 3/3 [00:00<00:00,  3.74it/s]\n",
      "  0%|          | 0/15 [00:00<?, ?it/s]"
     ]
    },
    {
     "name": "stdout",
     "output_type": "stream",
     "text": [
      "Train Loss: 0.1726, Train Acc: 93.11\n",
      "Val Loss: 0.1603, Val Acc: 93.95\n",
      "Validation loss decreased (0.164111 --> 0.160338).  Saving model ...\n",
      "../pjr_saved_model_first/VALID_NEW_PJR_replay_500/2018-03/best_model_epoch_13.pt\n",
      "Epoch 14 of 500\n"
     ]
    },
    {
     "name": "stderr",
     "output_type": "stream",
     "text": [
      "100%|██████████| 15/15 [00:02<00:00,  6.38it/s]\n",
      "100%|██████████| 3/3 [00:00<00:00,  3.77it/s]\n",
      "  0%|          | 0/15 [00:00<?, ?it/s]"
     ]
    },
    {
     "name": "stdout",
     "output_type": "stream",
     "text": [
      "Train Loss: 0.1685, Train Acc: 93.29\n",
      "Val Loss: 0.1636, Val Acc: 93.85\n",
      "EarlyStopping counter: 1 out of 5\n",
      "Epoch 15 of 500\n"
     ]
    },
    {
     "name": "stderr",
     "output_type": "stream",
     "text": [
      "100%|██████████| 15/15 [00:02<00:00,  6.37it/s]\n",
      "100%|██████████| 3/3 [00:00<00:00,  3.75it/s]\n",
      "  0%|          | 0/15 [00:00<?, ?it/s]"
     ]
    },
    {
     "name": "stdout",
     "output_type": "stream",
     "text": [
      "Train Loss: 0.1659, Train Acc: 93.46\n",
      "Val Loss: 0.1576, Val Acc: 94.14\n",
      "Validation loss decreased (0.160338 --> 0.157643).  Saving model ...\n",
      "../pjr_saved_model_first/VALID_NEW_PJR_replay_500/2018-03/best_model_epoch_15.pt\n",
      "Epoch 16 of 500\n"
     ]
    },
    {
     "name": "stderr",
     "output_type": "stream",
     "text": [
      "100%|██████████| 15/15 [00:02<00:00,  6.38it/s]\n",
      "100%|██████████| 3/3 [00:00<00:00,  3.79it/s]\n",
      "  0%|          | 0/15 [00:00<?, ?it/s]"
     ]
    },
    {
     "name": "stdout",
     "output_type": "stream",
     "text": [
      "Train Loss: 0.1644, Train Acc: 93.46\n",
      "Val Loss: 0.1646, Val Acc: 93.85\n",
      "EarlyStopping counter: 1 out of 5\n",
      "Epoch 17 of 500\n"
     ]
    },
    {
     "name": "stderr",
     "output_type": "stream",
     "text": [
      "100%|██████████| 15/15 [00:02<00:00,  6.42it/s]\n",
      "100%|██████████| 3/3 [00:00<00:00,  3.72it/s]\n",
      "  0%|          | 0/15 [00:00<?, ?it/s]"
     ]
    },
    {
     "name": "stdout",
     "output_type": "stream",
     "text": [
      "Train Loss: 0.1611, Train Acc: 93.66\n",
      "Val Loss: 0.1695, Val Acc: 93.56\n",
      "EarlyStopping counter: 2 out of 5\n",
      "Epoch 18 of 500\n"
     ]
    },
    {
     "name": "stderr",
     "output_type": "stream",
     "text": [
      "100%|██████████| 15/15 [00:02<00:00,  6.38it/s]\n",
      "100%|██████████| 3/3 [00:00<00:00,  3.77it/s]\n",
      "  0%|          | 0/15 [00:00<?, ?it/s]"
     ]
    },
    {
     "name": "stdout",
     "output_type": "stream",
     "text": [
      "Train Loss: 0.1589, Train Acc: 93.72\n",
      "Val Loss: 0.1549, Val Acc: 94.34\n",
      "Validation loss decreased (0.157643 --> 0.154898).  Saving model ...\n",
      "../pjr_saved_model_first/VALID_NEW_PJR_replay_500/2018-03/best_model_epoch_18.pt\n",
      "Epoch 19 of 500\n"
     ]
    },
    {
     "name": "stderr",
     "output_type": "stream",
     "text": [
      "100%|██████████| 15/15 [00:02<00:00,  6.42it/s]\n",
      "100%|██████████| 3/3 [00:00<00:00,  3.60it/s]\n",
      "  0%|          | 0/15 [00:00<?, ?it/s]"
     ]
    },
    {
     "name": "stdout",
     "output_type": "stream",
     "text": [
      "Train Loss: 0.1581, Train Acc: 93.80\n",
      "Val Loss: 0.1503, Val Acc: 94.46\n",
      "Validation loss decreased (0.154898 --> 0.150284).  Saving model ...\n",
      "../pjr_saved_model_first/VALID_NEW_PJR_replay_500/2018-03/best_model_epoch_19.pt\n",
      "Epoch 20 of 500\n"
     ]
    },
    {
     "name": "stderr",
     "output_type": "stream",
     "text": [
      "100%|██████████| 15/15 [00:02<00:00,  5.56it/s]\n",
      "100%|██████████| 3/3 [00:00<00:00,  3.97it/s]\n",
      "  0%|          | 0/15 [00:00<?, ?it/s]"
     ]
    },
    {
     "name": "stdout",
     "output_type": "stream",
     "text": [
      "Train Loss: 0.1567, Train Acc: 93.85\n",
      "Val Loss: 0.1624, Val Acc: 94.22\n",
      "EarlyStopping counter: 1 out of 5\n",
      "Epoch 21 of 500\n"
     ]
    },
    {
     "name": "stderr",
     "output_type": "stream",
     "text": [
      "100%|██████████| 15/15 [00:02<00:00,  5.83it/s]\n",
      "100%|██████████| 3/3 [00:00<00:00,  3.85it/s]\n",
      "  0%|          | 0/15 [00:00<?, ?it/s]"
     ]
    },
    {
     "name": "stdout",
     "output_type": "stream",
     "text": [
      "Train Loss: 0.1516, Train Acc: 94.01\n",
      "Val Loss: 0.1509, Val Acc: 94.54\n",
      "EarlyStopping counter: 2 out of 5\n",
      "Epoch 22 of 500\n"
     ]
    },
    {
     "name": "stderr",
     "output_type": "stream",
     "text": [
      "100%|██████████| 15/15 [00:02<00:00,  6.15it/s]\n",
      "100%|██████████| 3/3 [00:00<00:00,  3.81it/s]\n",
      "  0%|          | 0/15 [00:00<?, ?it/s]"
     ]
    },
    {
     "name": "stdout",
     "output_type": "stream",
     "text": [
      "Train Loss: 0.1501, Train Acc: 94.10\n",
      "Val Loss: 0.1570, Val Acc: 94.39\n",
      "EarlyStopping counter: 3 out of 5\n",
      "Epoch 23 of 500\n"
     ]
    },
    {
     "name": "stderr",
     "output_type": "stream",
     "text": [
      "100%|██████████| 15/15 [00:02<00:00,  6.35it/s]\n",
      "100%|██████████| 3/3 [00:00<00:00,  3.72it/s]\n",
      "  0%|          | 0/15 [00:00<?, ?it/s]"
     ]
    },
    {
     "name": "stdout",
     "output_type": "stream",
     "text": [
      "Train Loss: 0.1490, Train Acc: 94.20\n",
      "Val Loss: 0.1661, Val Acc: 93.61\n",
      "EarlyStopping counter: 4 out of 5\n",
      "Epoch 24 of 500\n"
     ]
    },
    {
     "name": "stderr",
     "output_type": "stream",
     "text": [
      "100%|██████████| 15/15 [00:02<00:00,  6.41it/s]\n",
      "100%|██████████| 3/3 [00:00<00:00,  3.42it/s]\n",
      " 33%|███▎      | 1/3 [00:00<00:00,  6.79it/s]"
     ]
    },
    {
     "name": "stdout",
     "output_type": "stream",
     "text": [
      "Train Loss: 0.1479, Train Acc: 94.25\n",
      "Val Loss: 0.1547, Val Acc: 94.32\n",
      "EarlyStopping counter: 5 out of 5\n",
      "Early stopping\n",
      "Training time: 1.328 minutes\n"
     ]
    },
    {
     "name": "stderr",
     "output_type": "stream",
     "text": [
      "100%|██████████| 3/3 [00:00<00:00,  6.17it/s]\n"
     ]
    },
    {
     "name": "stdout",
     "output_type": "stream",
     "text": [
      "accuracy 0.9430383885945981 and ROC-AUC 0.9885827345323394\n",
      "total 871 :: goodware 593 :: malware 278 and True\n",
      "Elapsed time 3.1000617504119874 mins.\n",
      "\n",
      "2022-10-31 01:07:54 Round 1 ...\n",
      "Current Task 2018-04 w/ 500 samples to Replay per Malware family.\n",
      "X_train (46873, 2381) Y_train (46873,) Y_tr_family (46873,)\n",
      "X_test (20968, 2381) Y_test (20968,) Y_te_family (20968,)\n",
      "True\n",
      "True\n",
      "True\n",
      "True\n",
      "X_replay (71202, 2381) Y_replay (71202,)\n",
      "Replay 35601 malware samples of 1535 families\n",
      "and Replay 35601 goodware samples\n",
      "Task 2018-04 and #-of new samples stored 46135\n",
      "W/O replay samples \n",
      " X_train (46135, 2381) Y_train (46135,)\n",
      "With replay samples \n",
      " X_train (117337, 2381) Y_train (117337,)\n",
      "************** ************** **************\n",
      "\n",
      "2022-10-31 01:07:57 Standardizing ...\n"
     ]
    },
    {
     "name": "stderr",
     "output_type": "stream",
     "text": [
      "\r",
      "  0%|          | 0/19 [00:00<?, ?it/s]"
     ]
    },
    {
     "name": "stdout",
     "output_type": "stream",
     "text": [
      "2022-10-31 01:08:03 Training ...\n",
      "Epoch 1 of 500\n"
     ]
    },
    {
     "name": "stderr",
     "output_type": "stream",
     "text": [
      "100%|██████████| 19/19 [00:02<00:00,  6.90it/s]\n",
      "100%|██████████| 4/4 [00:00<00:00,  4.97it/s]\n",
      "  0%|          | 0/19 [00:00<?, ?it/s]"
     ]
    },
    {
     "name": "stdout",
     "output_type": "stream",
     "text": [
      "Train Loss: 0.1714, Train Acc: 93.40\n",
      "Val Loss: 0.1452, Val Acc: 94.46\n",
      "Validation loss decreased (inf --> 0.145171).  Saving model ...\n",
      "../pjr_saved_model_first/VALID_NEW_PJR_replay_500/2018-04/best_model_epoch_1.pt\n",
      "Epoch 2 of 500\n"
     ]
    },
    {
     "name": "stderr",
     "output_type": "stream",
     "text": [
      "100%|██████████| 19/19 [00:03<00:00,  6.04it/s]\n",
      "100%|██████████| 4/4 [00:00<00:00,  4.52it/s]\n",
      "  0%|          | 0/19 [00:00<?, ?it/s]"
     ]
    },
    {
     "name": "stdout",
     "output_type": "stream",
     "text": [
      "Train Loss: 0.1610, Train Acc: 93.72\n",
      "Val Loss: 0.1497, Val Acc: 94.31\n",
      "EarlyStopping counter: 1 out of 5\n",
      "Epoch 3 of 500\n"
     ]
    },
    {
     "name": "stderr",
     "output_type": "stream",
     "text": [
      "100%|██████████| 19/19 [00:02<00:00,  6.39it/s]\n",
      "100%|██████████| 4/4 [00:00<00:00,  5.14it/s]\n",
      "  0%|          | 0/19 [00:00<?, ?it/s]"
     ]
    },
    {
     "name": "stdout",
     "output_type": "stream",
     "text": [
      "Train Loss: 0.1535, Train Acc: 94.06\n",
      "Val Loss: 0.1451, Val Acc: 94.48\n",
      "Validation loss decreased (0.145171 --> 0.145123).  Saving model ...\n",
      "../pjr_saved_model_first/VALID_NEW_PJR_replay_500/2018-04/best_model_epoch_3.pt\n",
      "Epoch 4 of 500\n"
     ]
    },
    {
     "name": "stderr",
     "output_type": "stream",
     "text": [
      "100%|██████████| 19/19 [00:03<00:00,  6.29it/s]\n",
      "100%|██████████| 4/4 [00:00<00:00,  5.08it/s]\n",
      "  0%|          | 0/19 [00:00<?, ?it/s]"
     ]
    },
    {
     "name": "stdout",
     "output_type": "stream",
     "text": [
      "Train Loss: 0.1468, Train Acc: 94.31\n",
      "Val Loss: 0.1400, Val Acc: 94.85\n",
      "Validation loss decreased (0.145123 --> 0.139965).  Saving model ...\n",
      "../pjr_saved_model_first/VALID_NEW_PJR_replay_500/2018-04/best_model_epoch_4.pt\n",
      "Epoch 5 of 500\n"
     ]
    },
    {
     "name": "stderr",
     "output_type": "stream",
     "text": [
      "100%|██████████| 19/19 [00:02<00:00,  7.02it/s]\n",
      "100%|██████████| 4/4 [00:00<00:00,  5.49it/s]\n",
      "  0%|          | 0/19 [00:00<?, ?it/s]"
     ]
    },
    {
     "name": "stdout",
     "output_type": "stream",
     "text": [
      "Train Loss: 0.1468, Train Acc: 94.35\n",
      "Val Loss: 0.1359, Val Acc: 94.94\n",
      "Validation loss decreased (0.139965 --> 0.135901).  Saving model ...\n",
      "../pjr_saved_model_first/VALID_NEW_PJR_replay_500/2018-04/best_model_epoch_5.pt\n",
      "Epoch 6 of 500\n"
     ]
    },
    {
     "name": "stderr",
     "output_type": "stream",
     "text": [
      "100%|██████████| 19/19 [00:02<00:00,  7.04it/s]\n",
      "100%|██████████| 4/4 [00:00<00:00,  5.36it/s]\n",
      "  0%|          | 0/19 [00:00<?, ?it/s]"
     ]
    },
    {
     "name": "stdout",
     "output_type": "stream",
     "text": [
      "Train Loss: 0.1406, Train Acc: 94.62\n",
      "Val Loss: 0.1425, Val Acc: 94.57\n",
      "EarlyStopping counter: 1 out of 5\n",
      "Epoch 7 of 500\n"
     ]
    },
    {
     "name": "stderr",
     "output_type": "stream",
     "text": [
      "100%|██████████| 19/19 [00:02<00:00,  7.61it/s]\n",
      "100%|██████████| 4/4 [00:00<00:00,  5.62it/s]\n",
      "  0%|          | 0/19 [00:00<?, ?it/s]"
     ]
    },
    {
     "name": "stdout",
     "output_type": "stream",
     "text": [
      "Train Loss: 0.1415, Train Acc: 94.50\n",
      "Val Loss: 0.1401, Val Acc: 94.67\n",
      "EarlyStopping counter: 2 out of 5\n",
      "Epoch 8 of 500\n"
     ]
    },
    {
     "name": "stderr",
     "output_type": "stream",
     "text": [
      "100%|██████████| 19/19 [00:02<00:00,  7.57it/s]\n",
      "100%|██████████| 4/4 [00:00<00:00,  4.82it/s]\n",
      "  0%|          | 0/19 [00:00<?, ?it/s]"
     ]
    },
    {
     "name": "stdout",
     "output_type": "stream",
     "text": [
      "Train Loss: 0.1383, Train Acc: 94.58\n",
      "Val Loss: 0.1394, Val Acc: 94.86\n",
      "EarlyStopping counter: 3 out of 5\n",
      "Epoch 9 of 500\n"
     ]
    },
    {
     "name": "stderr",
     "output_type": "stream",
     "text": [
      "100%|██████████| 19/19 [00:03<00:00,  5.54it/s]\n",
      "100%|██████████| 4/4 [00:00<00:00,  4.96it/s]\n",
      "  0%|          | 0/19 [00:00<?, ?it/s]"
     ]
    },
    {
     "name": "stdout",
     "output_type": "stream",
     "text": [
      "Train Loss: 0.1352, Train Acc: 94.79\n",
      "Val Loss: 0.1422, Val Acc: 94.96\n",
      "EarlyStopping counter: 4 out of 5\n",
      "Epoch 10 of 500\n"
     ]
    },
    {
     "name": "stderr",
     "output_type": "stream",
     "text": [
      "100%|██████████| 19/19 [00:02<00:00,  6.76it/s]\n",
      "100%|██████████| 4/4 [00:00<00:00,  5.07it/s]\n",
      " 25%|██▌       | 1/4 [00:00<00:00,  7.31it/s]"
     ]
    },
    {
     "name": "stdout",
     "output_type": "stream",
     "text": [
      "Train Loss: 0.1348, Train Acc: 94.80\n",
      "Val Loss: 0.1442, Val Acc: 94.81\n",
      "EarlyStopping counter: 5 out of 5\n",
      "Early stopping\n",
      "Training time: 0.617 minutes\n"
     ]
    },
    {
     "name": "stderr",
     "output_type": "stream",
     "text": [
      "100%|██████████| 4/4 [00:00<00:00,  7.18it/s]\n"
     ]
    },
    {
     "name": "stdout",
     "output_type": "stream",
     "text": [
      "accuracy 0.9497721370118096 and ROC-AUC 0.9907653746289504\n",
      "total 1025 :: goodware 684 :: malware 341 and True\n",
      "Elapsed time 3.875472966829936 mins.\n",
      "\n",
      "2022-10-31 01:08:41 Round 1 ...\n",
      "Current Task 2018-05 w/ 500 samples to Replay per Malware family.\n",
      "X_train (41320, 2381) Y_train (41320,) Y_tr_family (41320,)\n",
      "X_test (25560, 2381) Y_test (25560,) Y_te_family (25560,)\n",
      "True\n",
      "True\n",
      "True\n",
      "True\n",
      "X_replay (82922, 2381) Y_replay (82922,)\n",
      "Replay 41461 malware samples of 1734 families\n",
      "and Replay 41461 goodware samples\n",
      "Task 2018-05 and #-of new samples stored 40725\n",
      "W/O replay samples \n",
      " X_train (40725, 2381) Y_train (40725,)\n",
      "With replay samples \n",
      " X_train (123647, 2381) Y_train (123647,)\n",
      "************** ************** **************\n",
      "\n",
      "2022-10-31 01:08:44 Standardizing ...\n"
     ]
    },
    {
     "name": "stderr",
     "output_type": "stream",
     "text": [
      "\r",
      "  0%|          | 0/20 [00:00<?, ?it/s]"
     ]
    },
    {
     "name": "stdout",
     "output_type": "stream",
     "text": [
      "2022-10-31 01:08:50 Training ...\n",
      "Epoch 1 of 500\n"
     ]
    },
    {
     "name": "stderr",
     "output_type": "stream",
     "text": [
      "100%|██████████| 20/20 [00:02<00:00,  7.02it/s]\n",
      "100%|██████████| 5/5 [00:00<00:00,  5.69it/s]\n",
      "  0%|          | 0/20 [00:00<?, ?it/s]"
     ]
    },
    {
     "name": "stdout",
     "output_type": "stream",
     "text": [
      "Train Loss: 0.1613, Train Acc: 93.90\n",
      "Val Loss: 0.1545, Val Acc: 94.46\n",
      "Validation loss decreased (inf --> 0.154462).  Saving model ...\n",
      "../pjr_saved_model_first/VALID_NEW_PJR_replay_500/2018-05/best_model_epoch_1.pt\n",
      "Epoch 2 of 500\n"
     ]
    },
    {
     "name": "stderr",
     "output_type": "stream",
     "text": [
      "100%|██████████| 20/20 [00:03<00:00,  6.57it/s]\n",
      "100%|██████████| 5/5 [00:00<00:00,  6.00it/s]\n",
      "  0%|          | 0/20 [00:00<?, ?it/s]"
     ]
    },
    {
     "name": "stdout",
     "output_type": "stream",
     "text": [
      "Train Loss: 0.1527, Train Acc: 94.08\n",
      "Val Loss: 0.1465, Val Acc: 94.48\n",
      "Validation loss decreased (0.154462 --> 0.146484).  Saving model ...\n",
      "../pjr_saved_model_first/VALID_NEW_PJR_replay_500/2018-05/best_model_epoch_2.pt\n",
      "Epoch 3 of 500\n"
     ]
    },
    {
     "name": "stderr",
     "output_type": "stream",
     "text": [
      "100%|██████████| 20/20 [00:03<00:00,  5.69it/s]\n",
      "100%|██████████| 5/5 [00:00<00:00,  5.47it/s]\n",
      "  0%|          | 0/20 [00:00<?, ?it/s]"
     ]
    },
    {
     "name": "stdout",
     "output_type": "stream",
     "text": [
      "Train Loss: 0.1500, Train Acc: 94.23\n",
      "Val Loss: 0.1442, Val Acc: 94.79\n",
      "Validation loss decreased (0.146484 --> 0.144238).  Saving model ...\n",
      "../pjr_saved_model_first/VALID_NEW_PJR_replay_500/2018-05/best_model_epoch_3.pt\n",
      "Epoch 4 of 500\n"
     ]
    },
    {
     "name": "stderr",
     "output_type": "stream",
     "text": [
      "100%|██████████| 20/20 [00:03<00:00,  6.38it/s]\n",
      "100%|██████████| 5/5 [00:00<00:00,  5.77it/s]\n",
      "  0%|          | 0/20 [00:00<?, ?it/s]"
     ]
    },
    {
     "name": "stdout",
     "output_type": "stream",
     "text": [
      "Train Loss: 0.1456, Train Acc: 94.40\n",
      "Val Loss: 0.1341, Val Acc: 94.94\n",
      "Validation loss decreased (0.144238 --> 0.134069).  Saving model ...\n",
      "../pjr_saved_model_first/VALID_NEW_PJR_replay_500/2018-05/best_model_epoch_4.pt\n",
      "Epoch 5 of 500\n"
     ]
    },
    {
     "name": "stderr",
     "output_type": "stream",
     "text": [
      "100%|██████████| 20/20 [00:03<00:00,  6.65it/s]\n",
      "100%|██████████| 5/5 [00:00<00:00,  5.73it/s]\n",
      "  0%|          | 0/20 [00:00<?, ?it/s]"
     ]
    },
    {
     "name": "stdout",
     "output_type": "stream",
     "text": [
      "Train Loss: 0.1450, Train Acc: 94.51\n",
      "Val Loss: 0.1426, Val Acc: 94.74\n",
      "EarlyStopping counter: 1 out of 5\n",
      "Epoch 6 of 500\n"
     ]
    },
    {
     "name": "stderr",
     "output_type": "stream",
     "text": [
      "100%|██████████| 20/20 [00:02<00:00,  7.57it/s]\n",
      "100%|██████████| 5/5 [00:00<00:00,  5.88it/s]\n",
      "  0%|          | 0/20 [00:00<?, ?it/s]"
     ]
    },
    {
     "name": "stdout",
     "output_type": "stream",
     "text": [
      "Train Loss: 0.1421, Train Acc: 94.60\n",
      "Val Loss: 0.1388, Val Acc: 94.92\n",
      "EarlyStopping counter: 2 out of 5\n",
      "Epoch 7 of 500\n"
     ]
    },
    {
     "name": "stderr",
     "output_type": "stream",
     "text": [
      "100%|██████████| 20/20 [00:02<00:00,  7.77it/s]\n",
      "100%|██████████| 5/5 [00:00<00:00,  5.96it/s]\n",
      "  0%|          | 0/20 [00:00<?, ?it/s]"
     ]
    },
    {
     "name": "stdout",
     "output_type": "stream",
     "text": [
      "Train Loss: 0.1396, Train Acc: 94.65\n",
      "Val Loss: 0.1380, Val Acc: 94.79\n",
      "EarlyStopping counter: 3 out of 5\n",
      "Epoch 8 of 500\n"
     ]
    },
    {
     "name": "stderr",
     "output_type": "stream",
     "text": [
      "100%|██████████| 20/20 [00:02<00:00,  7.98it/s]\n",
      "100%|██████████| 5/5 [00:00<00:00,  6.57it/s]\n",
      "  0%|          | 0/20 [00:00<?, ?it/s]"
     ]
    },
    {
     "name": "stdout",
     "output_type": "stream",
     "text": [
      "Train Loss: 0.1376, Train Acc: 94.80\n",
      "Val Loss: 0.1300, Val Acc: 95.12\n",
      "Validation loss decreased (0.134069 --> 0.130028).  Saving model ...\n",
      "../pjr_saved_model_first/VALID_NEW_PJR_replay_500/2018-05/best_model_epoch_8.pt\n",
      "Epoch 9 of 500\n"
     ]
    },
    {
     "name": "stderr",
     "output_type": "stream",
     "text": [
      "100%|██████████| 20/20 [00:02<00:00,  7.24it/s]\n",
      "100%|██████████| 5/5 [00:00<00:00,  5.45it/s]\n",
      "  0%|          | 0/20 [00:00<?, ?it/s]"
     ]
    },
    {
     "name": "stdout",
     "output_type": "stream",
     "text": [
      "Train Loss: 0.1343, Train Acc: 94.84\n",
      "Val Loss: 0.1336, Val Acc: 94.90\n",
      "EarlyStopping counter: 1 out of 5\n",
      "Epoch 10 of 500\n"
     ]
    },
    {
     "name": "stderr",
     "output_type": "stream",
     "text": [
      "100%|██████████| 20/20 [00:02<00:00,  7.23it/s]\n",
      "100%|██████████| 5/5 [00:00<00:00,  5.32it/s]\n",
      "  0%|          | 0/20 [00:00<?, ?it/s]"
     ]
    },
    {
     "name": "stdout",
     "output_type": "stream",
     "text": [
      "Train Loss: 0.1369, Train Acc: 94.78\n",
      "Val Loss: 0.1389, Val Acc: 94.74\n",
      "EarlyStopping counter: 2 out of 5\n",
      "Epoch 11 of 500\n"
     ]
    },
    {
     "name": "stderr",
     "output_type": "stream",
     "text": [
      "100%|██████████| 20/20 [00:03<00:00,  6.26it/s]\n",
      "100%|██████████| 5/5 [00:00<00:00,  5.18it/s]\n",
      "  0%|          | 0/20 [00:00<?, ?it/s]"
     ]
    },
    {
     "name": "stdout",
     "output_type": "stream",
     "text": [
      "Train Loss: 0.1319, Train Acc: 94.95\n",
      "Val Loss: 0.1407, Val Acc: 94.68\n",
      "EarlyStopping counter: 3 out of 5\n",
      "Epoch 12 of 500\n"
     ]
    },
    {
     "name": "stderr",
     "output_type": "stream",
     "text": [
      "100%|██████████| 20/20 [00:03<00:00,  6.40it/s]\n",
      "100%|██████████| 5/5 [00:00<00:00,  5.66it/s]\n",
      "  0%|          | 0/20 [00:00<?, ?it/s]"
     ]
    },
    {
     "name": "stdout",
     "output_type": "stream",
     "text": [
      "Train Loss: 0.1299, Train Acc: 95.06\n",
      "Val Loss: 0.1341, Val Acc: 95.04\n",
      "EarlyStopping counter: 4 out of 5\n",
      "Epoch 13 of 500\n"
     ]
    },
    {
     "name": "stderr",
     "output_type": "stream",
     "text": [
      "100%|██████████| 20/20 [00:03<00:00,  6.23it/s]\n",
      "100%|██████████| 5/5 [00:00<00:00,  5.54it/s]\n",
      "  0%|          | 0/20 [00:00<?, ?it/s]"
     ]
    },
    {
     "name": "stdout",
     "output_type": "stream",
     "text": [
      "Train Loss: 0.1280, Train Acc: 95.07\n",
      "Val Loss: 0.1232, Val Acc: 95.35\n",
      "Validation loss decreased (0.130028 --> 0.123215).  Saving model ...\n",
      "../pjr_saved_model_first/VALID_NEW_PJR_replay_500/2018-05/best_model_epoch_13.pt\n",
      "Epoch 14 of 500\n"
     ]
    },
    {
     "name": "stderr",
     "output_type": "stream",
     "text": [
      "100%|██████████| 20/20 [00:03<00:00,  6.53it/s]\n",
      "100%|██████████| 5/5 [00:00<00:00,  5.86it/s]\n",
      "  0%|          | 0/20 [00:00<?, ?it/s]"
     ]
    },
    {
     "name": "stdout",
     "output_type": "stream",
     "text": [
      "Train Loss: 0.1265, Train Acc: 95.15\n",
      "Val Loss: 0.1319, Val Acc: 95.33\n",
      "EarlyStopping counter: 1 out of 5\n",
      "Epoch 15 of 500\n"
     ]
    },
    {
     "name": "stderr",
     "output_type": "stream",
     "text": [
      "100%|██████████| 20/20 [00:03<00:00,  6.17it/s]\n",
      "100%|██████████| 5/5 [00:00<00:00,  5.57it/s]\n",
      "  0%|          | 0/20 [00:00<?, ?it/s]"
     ]
    },
    {
     "name": "stdout",
     "output_type": "stream",
     "text": [
      "Train Loss: 0.1239, Train Acc: 95.26\n",
      "Val Loss: 0.1326, Val Acc: 94.90\n",
      "EarlyStopping counter: 2 out of 5\n",
      "Epoch 16 of 500\n"
     ]
    },
    {
     "name": "stderr",
     "output_type": "stream",
     "text": [
      "100%|██████████| 20/20 [00:02<00:00,  6.96it/s]\n",
      "100%|██████████| 5/5 [00:00<00:00,  5.66it/s]\n",
      "  0%|          | 0/20 [00:00<?, ?it/s]"
     ]
    },
    {
     "name": "stdout",
     "output_type": "stream",
     "text": [
      "Train Loss: 0.1249, Train Acc: 95.17\n",
      "Val Loss: 0.1317, Val Acc: 95.17\n",
      "EarlyStopping counter: 3 out of 5\n",
      "Epoch 17 of 500\n"
     ]
    },
    {
     "name": "stderr",
     "output_type": "stream",
     "text": [
      "100%|██████████| 20/20 [00:02<00:00,  6.98it/s]\n",
      "100%|██████████| 5/5 [00:00<00:00,  5.61it/s]\n",
      "  0%|          | 0/20 [00:00<?, ?it/s]"
     ]
    },
    {
     "name": "stdout",
     "output_type": "stream",
     "text": [
      "Train Loss: 0.1248, Train Acc: 95.27\n",
      "Val Loss: 0.1324, Val Acc: 95.19\n",
      "EarlyStopping counter: 4 out of 5\n",
      "Epoch 18 of 500\n"
     ]
    },
    {
     "name": "stderr",
     "output_type": "stream",
     "text": [
      "100%|██████████| 20/20 [00:02<00:00,  6.68it/s]\n",
      "100%|██████████| 5/5 [00:00<00:00,  5.78it/s]\n",
      " 20%|██        | 1/5 [00:00<00:00,  8.94it/s]"
     ]
    },
    {
     "name": "stdout",
     "output_type": "stream",
     "text": [
      "Train Loss: 0.1211, Train Acc: 95.36\n",
      "Val Loss: 0.1315, Val Acc: 95.23\n",
      "EarlyStopping counter: 5 out of 5\n",
      "Early stopping\n",
      "Training time: 1.167 minutes\n"
     ]
    },
    {
     "name": "stderr",
     "output_type": "stream",
     "text": [
      "100%|██████████| 5/5 [00:00<00:00,  8.22it/s]\n"
     ]
    },
    {
     "name": "stdout",
     "output_type": "stream",
     "text": [
      "accuracy 0.9519473747543219 and ROC-AUC 0.9918255966885623\n",
      "total 1198 :: goodware 867 :: malware 331 and True\n",
      "Elapsed time 5.208813619613648 mins.\n",
      "\n",
      "2022-10-31 01:10:01 Round 1 ...\n",
      "Current Task 2018-06 w/ 500 samples to Replay per Malware family.\n",
      "X_train (43560, 2381) Y_train (43560,) Y_tr_family (43560,)\n",
      "X_test (30401, 2381) Y_test (30401,) Y_te_family (30401,)\n",
      "True\n",
      "True\n",
      "True\n",
      "True\n",
      "X_replay (101174, 2381) Y_replay (101174,)\n",
      "Replay 50587 malware samples of 1905 families\n",
      "and Replay 50587 goodware samples\n",
      "Task 2018-06 and #-of new samples stored 42529\n",
      "W/O replay samples \n",
      " X_train (42529, 2381) Y_train (42529,)\n",
      "With replay samples \n",
      " X_train (143703, 2381) Y_train (143703,)\n",
      "************** ************** **************\n",
      "\n",
      "2022-10-31 01:10:04 Standardizing ...\n"
     ]
    },
    {
     "name": "stderr",
     "output_type": "stream",
     "text": [
      "\r",
      "  0%|          | 0/23 [00:00<?, ?it/s]"
     ]
    },
    {
     "name": "stdout",
     "output_type": "stream",
     "text": [
      "2022-10-31 01:10:13 Training ...\n",
      "Epoch 1 of 500\n"
     ]
    },
    {
     "name": "stderr",
     "output_type": "stream",
     "text": [
      "100%|██████████| 23/23 [00:03<00:00,  7.21it/s]\n",
      "100%|██████████| 5/5 [00:00<00:00,  5.17it/s]\n",
      "  0%|          | 0/23 [00:00<?, ?it/s]"
     ]
    },
    {
     "name": "stdout",
     "output_type": "stream",
     "text": [
      "Train Loss: 0.1622, Train Acc: 93.87\n",
      "Val Loss: 0.1426, Val Acc: 94.69\n",
      "Validation loss decreased (inf --> 0.142605).  Saving model ...\n",
      "../pjr_saved_model_first/VALID_NEW_PJR_replay_500/2018-06/best_model_epoch_1.pt\n",
      "Epoch 2 of 500\n"
     ]
    },
    {
     "name": "stderr",
     "output_type": "stream",
     "text": [
      "100%|██████████| 23/23 [00:03<00:00,  7.16it/s]\n",
      "100%|██████████| 5/5 [00:00<00:00,  5.86it/s]\n",
      "  0%|          | 0/23 [00:00<?, ?it/s]"
     ]
    },
    {
     "name": "stdout",
     "output_type": "stream",
     "text": [
      "Train Loss: 0.1607, Train Acc: 94.10\n",
      "Val Loss: 0.1220, Val Acc: 95.31\n",
      "Validation loss decreased (0.142605 --> 0.121984).  Saving model ...\n",
      "../pjr_saved_model_first/VALID_NEW_PJR_replay_500/2018-06/best_model_epoch_2.pt\n",
      "Epoch 3 of 500\n"
     ]
    },
    {
     "name": "stderr",
     "output_type": "stream",
     "text": [
      "100%|██████████| 23/23 [00:03<00:00,  7.18it/s]\n",
      "100%|██████████| 5/5 [00:00<00:00,  5.76it/s]\n",
      "  0%|          | 0/23 [00:00<?, ?it/s]"
     ]
    },
    {
     "name": "stdout",
     "output_type": "stream",
     "text": [
      "Train Loss: 0.1622, Train Acc: 93.83\n",
      "Val Loss: 0.1478, Val Acc: 94.40\n",
      "EarlyStopping counter: 1 out of 5\n",
      "Epoch 4 of 500\n"
     ]
    },
    {
     "name": "stderr",
     "output_type": "stream",
     "text": [
      "100%|██████████| 23/23 [00:03<00:00,  7.41it/s]\n",
      "100%|██████████| 5/5 [00:00<00:00,  5.03it/s]\n",
      "  0%|          | 0/23 [00:00<?, ?it/s]"
     ]
    },
    {
     "name": "stdout",
     "output_type": "stream",
     "text": [
      "Train Loss: 0.1539, Train Acc: 94.11\n",
      "Val Loss: 0.1238, Val Acc: 95.61\n",
      "EarlyStopping counter: 2 out of 5\n",
      "Epoch 5 of 500\n"
     ]
    },
    {
     "name": "stderr",
     "output_type": "stream",
     "text": [
      "100%|██████████| 23/23 [00:03<00:00,  5.80it/s]\n",
      "100%|██████████| 5/5 [00:00<00:00,  5.11it/s]\n",
      "  0%|          | 0/23 [00:00<?, ?it/s]"
     ]
    },
    {
     "name": "stdout",
     "output_type": "stream",
     "text": [
      "Train Loss: 0.1410, Train Acc: 94.67\n",
      "Val Loss: 0.1312, Val Acc: 95.22\n",
      "EarlyStopping counter: 3 out of 5\n",
      "Epoch 6 of 500\n"
     ]
    },
    {
     "name": "stderr",
     "output_type": "stream",
     "text": [
      "100%|██████████| 23/23 [00:03<00:00,  7.26it/s]\n",
      "100%|██████████| 5/5 [00:00<00:00,  5.82it/s]\n",
      "  0%|          | 0/23 [00:00<?, ?it/s]"
     ]
    },
    {
     "name": "stdout",
     "output_type": "stream",
     "text": [
      "Train Loss: 0.1515, Train Acc: 94.11\n",
      "Val Loss: 0.1297, Val Acc: 95.00\n",
      "EarlyStopping counter: 4 out of 5\n",
      "Epoch 7 of 500\n"
     ]
    },
    {
     "name": "stderr",
     "output_type": "stream",
     "text": [
      "100%|██████████| 23/23 [00:03<00:00,  7.67it/s]\n",
      "100%|██████████| 5/5 [00:00<00:00,  5.90it/s]\n",
      "  0%|          | 0/23 [00:00<?, ?it/s]"
     ]
    },
    {
     "name": "stdout",
     "output_type": "stream",
     "text": [
      "Train Loss: 0.1386, Train Acc: 94.71\n",
      "Val Loss: 0.1202, Val Acc: 95.60\n",
      "Validation loss decreased (0.121984 --> 0.120242).  Saving model ...\n",
      "../pjr_saved_model_first/VALID_NEW_PJR_replay_500/2018-06/best_model_epoch_7.pt\n",
      "Epoch 8 of 500\n"
     ]
    },
    {
     "name": "stderr",
     "output_type": "stream",
     "text": [
      "100%|██████████| 23/23 [00:03<00:00,  7.39it/s]\n",
      "100%|██████████| 5/5 [00:00<00:00,  5.21it/s]\n",
      "  0%|          | 0/23 [00:00<?, ?it/s]"
     ]
    },
    {
     "name": "stdout",
     "output_type": "stream",
     "text": [
      "Train Loss: 0.1423, Train Acc: 94.46\n",
      "Val Loss: 0.1333, Val Acc: 94.84\n",
      "EarlyStopping counter: 1 out of 5\n",
      "Epoch 9 of 500\n"
     ]
    },
    {
     "name": "stderr",
     "output_type": "stream",
     "text": [
      "100%|██████████| 23/23 [00:03<00:00,  6.35it/s]\n",
      "100%|██████████| 5/5 [00:00<00:00,  5.14it/s]\n",
      "  0%|          | 0/23 [00:00<?, ?it/s]"
     ]
    },
    {
     "name": "stdout",
     "output_type": "stream",
     "text": [
      "Train Loss: 0.1341, Train Acc: 94.92\n",
      "Val Loss: 0.1419, Val Acc: 94.51\n",
      "EarlyStopping counter: 2 out of 5\n",
      "Epoch 10 of 500\n"
     ]
    },
    {
     "name": "stderr",
     "output_type": "stream",
     "text": [
      "100%|██████████| 23/23 [00:03<00:00,  6.21it/s]\n",
      "100%|██████████| 5/5 [00:01<00:00,  4.88it/s]\n",
      "  0%|          | 0/23 [00:00<?, ?it/s]"
     ]
    },
    {
     "name": "stdout",
     "output_type": "stream",
     "text": [
      "Train Loss: 0.1382, Train Acc: 94.79\n",
      "Val Loss: 0.1108, Val Acc: 95.98\n",
      "Validation loss decreased (0.120242 --> 0.110830).  Saving model ...\n",
      "../pjr_saved_model_first/VALID_NEW_PJR_replay_500/2018-06/best_model_epoch_10.pt\n",
      "Epoch 11 of 500\n"
     ]
    },
    {
     "name": "stderr",
     "output_type": "stream",
     "text": [
      "100%|██████████| 23/23 [00:03<00:00,  6.58it/s]\n",
      "100%|██████████| 5/5 [00:00<00:00,  5.20it/s]\n",
      "  0%|          | 0/23 [00:00<?, ?it/s]"
     ]
    },
    {
     "name": "stdout",
     "output_type": "stream",
     "text": [
      "Train Loss: 0.1307, Train Acc: 95.07\n",
      "Val Loss: 0.1260, Val Acc: 95.33\n",
      "EarlyStopping counter: 1 out of 5\n",
      "Epoch 12 of 500\n"
     ]
    },
    {
     "name": "stderr",
     "output_type": "stream",
     "text": [
      "100%|██████████| 23/23 [00:03<00:00,  6.76it/s]\n",
      "100%|██████████| 5/5 [00:00<00:00,  5.04it/s]\n",
      "  0%|          | 0/23 [00:00<?, ?it/s]"
     ]
    },
    {
     "name": "stdout",
     "output_type": "stream",
     "text": [
      "Train Loss: 0.1243, Train Acc: 95.31\n",
      "Val Loss: 0.1257, Val Acc: 95.45\n",
      "EarlyStopping counter: 2 out of 5\n",
      "Epoch 13 of 500\n"
     ]
    },
    {
     "name": "stderr",
     "output_type": "stream",
     "text": [
      "100%|██████████| 23/23 [00:03<00:00,  6.07it/s]\n",
      "100%|██████████| 5/5 [00:00<00:00,  5.28it/s]\n",
      "  0%|          | 0/23 [00:00<?, ?it/s]"
     ]
    },
    {
     "name": "stdout",
     "output_type": "stream",
     "text": [
      "Train Loss: 0.1270, Train Acc: 95.18\n",
      "Val Loss: 0.1359, Val Acc: 94.82\n",
      "EarlyStopping counter: 3 out of 5\n",
      "Epoch 14 of 500\n"
     ]
    },
    {
     "name": "stderr",
     "output_type": "stream",
     "text": [
      "100%|██████████| 23/23 [00:03<00:00,  6.82it/s]\n",
      "100%|██████████| 5/5 [00:00<00:00,  5.22it/s]\n",
      "  0%|          | 0/23 [00:00<?, ?it/s]"
     ]
    },
    {
     "name": "stdout",
     "output_type": "stream",
     "text": [
      "Train Loss: 0.1234, Train Acc: 95.30\n",
      "Val Loss: 0.1199, Val Acc: 95.61\n",
      "EarlyStopping counter: 4 out of 5\n",
      "Epoch 15 of 500\n"
     ]
    },
    {
     "name": "stderr",
     "output_type": "stream",
     "text": [
      "100%|██████████| 23/23 [00:03<00:00,  6.39it/s]\n",
      "100%|██████████| 5/5 [00:00<00:00,  5.03it/s]\n",
      " 20%|██        | 1/5 [00:00<00:00,  7.43it/s]"
     ]
    },
    {
     "name": "stdout",
     "output_type": "stream",
     "text": [
      "Train Loss: 0.1241, Train Acc: 95.28\n",
      "Val Loss: 0.1261, Val Acc: 95.47\n",
      "EarlyStopping counter: 5 out of 5\n",
      "Early stopping\n",
      "Training time: 1.101 minutes\n"
     ]
    },
    {
     "name": "stderr",
     "output_type": "stream",
     "text": [
      "100%|██████████| 5/5 [00:00<00:00,  6.87it/s]\n"
     ]
    },
    {
     "name": "stdout",
     "output_type": "stream",
     "text": [
      "accuracy 0.9538954468802698 and ROC-AUC 0.9913752212489899\n",
      "total 1367 :: goodware 930 :: malware 437 and True\n",
      "Elapsed time 6.519824333985647 mins.\n",
      "\n",
      "2022-10-31 01:11:20 Round 1 ...\n",
      "Current Task 2018-07 w/ 500 samples to Replay per Malware family.\n",
      "X_train (46278, 2381) Y_train (46278,) Y_tr_family (46278,)\n",
      "X_test (35544, 2381) Y_test (35544,) Y_te_family (35544,)\n",
      "True\n",
      "True\n",
      "True\n",
      "True\n",
      "X_replay (122014, 2381) Y_replay (122014,)\n",
      "Replay 61007 malware samples of 2080 families\n",
      "and Replay 61007 goodware samples\n",
      "Task 2018-07 and #-of new samples stored 45615\n",
      "W/O replay samples \n",
      " X_train (45615, 2381) Y_train (45615,)\n",
      "With replay samples \n",
      " X_train (167629, 2381) Y_train (167629,)\n",
      "************** ************** **************\n",
      "\n",
      "2022-10-31 01:11:24 Standardizing ...\n"
     ]
    },
    {
     "name": "stderr",
     "output_type": "stream",
     "text": [
      "\r",
      "  0%|          | 0/27 [00:00<?, ?it/s]"
     ]
    },
    {
     "name": "stdout",
     "output_type": "stream",
     "text": [
      "2022-10-31 01:11:34 Training ...\n",
      "Epoch 1 of 500\n"
     ]
    },
    {
     "name": "stderr",
     "output_type": "stream",
     "text": [
      "100%|██████████| 27/27 [00:03<00:00,  7.23it/s]\n",
      "100%|██████████| 6/6 [00:01<00:00,  5.18it/s]\n",
      "  0%|          | 0/27 [00:00<?, ?it/s]"
     ]
    },
    {
     "name": "stdout",
     "output_type": "stream",
     "text": [
      "Train Loss: 0.1335, Train Acc: 95.19\n",
      "Val Loss: 0.1229, Val Acc: 95.59\n",
      "Validation loss decreased (inf --> 0.122870).  Saving model ...\n",
      "../pjr_saved_model_first/VALID_NEW_PJR_replay_500/2018-07/best_model_epoch_1.pt\n",
      "Epoch 2 of 500\n"
     ]
    },
    {
     "name": "stderr",
     "output_type": "stream",
     "text": [
      "100%|██████████| 27/27 [00:03<00:00,  7.34it/s]\n",
      "100%|██████████| 6/6 [00:01<00:00,  5.12it/s]\n",
      "  0%|          | 0/27 [00:00<?, ?it/s]"
     ]
    },
    {
     "name": "stdout",
     "output_type": "stream",
     "text": [
      "Train Loss: 0.1277, Train Acc: 95.27\n",
      "Val Loss: 0.1202, Val Acc: 95.57\n",
      "Validation loss decreased (0.122870 --> 0.120227).  Saving model ...\n",
      "../pjr_saved_model_first/VALID_NEW_PJR_replay_500/2018-07/best_model_epoch_2.pt\n",
      "Epoch 3 of 500\n"
     ]
    },
    {
     "name": "stderr",
     "output_type": "stream",
     "text": [
      "100%|██████████| 27/27 [00:03<00:00,  7.37it/s]\n",
      "100%|██████████| 6/6 [00:01<00:00,  5.64it/s]\n",
      "  0%|          | 0/27 [00:00<?, ?it/s]"
     ]
    },
    {
     "name": "stdout",
     "output_type": "stream",
     "text": [
      "Train Loss: 0.1220, Train Acc: 95.48\n",
      "Val Loss: 0.1172, Val Acc: 95.81\n",
      "Validation loss decreased (0.120227 --> 0.117228).  Saving model ...\n",
      "../pjr_saved_model_first/VALID_NEW_PJR_replay_500/2018-07/best_model_epoch_3.pt\n",
      "Epoch 4 of 500\n"
     ]
    },
    {
     "name": "stderr",
     "output_type": "stream",
     "text": [
      "100%|██████████| 27/27 [00:03<00:00,  7.53it/s]\n",
      "100%|██████████| 6/6 [00:01<00:00,  5.64it/s]\n",
      "  0%|          | 0/27 [00:00<?, ?it/s]"
     ]
    },
    {
     "name": "stdout",
     "output_type": "stream",
     "text": [
      "Train Loss: 0.1200, Train Acc: 95.56\n",
      "Val Loss: 0.1206, Val Acc: 95.80\n",
      "EarlyStopping counter: 1 out of 5\n",
      "Epoch 5 of 500\n"
     ]
    },
    {
     "name": "stderr",
     "output_type": "stream",
     "text": [
      "100%|██████████| 27/27 [00:03<00:00,  7.06it/s]\n",
      "100%|██████████| 6/6 [00:01<00:00,  5.00it/s]\n",
      "  0%|          | 0/27 [00:00<?, ?it/s]"
     ]
    },
    {
     "name": "stdout",
     "output_type": "stream",
     "text": [
      "Train Loss: 0.1234, Train Acc: 95.47\n",
      "Val Loss: 0.1211, Val Acc: 95.44\n",
      "EarlyStopping counter: 2 out of 5\n",
      "Epoch 6 of 500\n"
     ]
    },
    {
     "name": "stderr",
     "output_type": "stream",
     "text": [
      "100%|██████████| 27/27 [00:03<00:00,  7.52it/s]\n",
      "100%|██████████| 6/6 [00:01<00:00,  4.98it/s]\n",
      "  0%|          | 0/27 [00:00<?, ?it/s]"
     ]
    },
    {
     "name": "stdout",
     "output_type": "stream",
     "text": [
      "Train Loss: 0.1148, Train Acc: 95.76\n",
      "Val Loss: 0.1110, Val Acc: 95.91\n",
      "Validation loss decreased (0.117228 --> 0.111037).  Saving model ...\n",
      "../pjr_saved_model_first/VALID_NEW_PJR_replay_500/2018-07/best_model_epoch_6.pt\n",
      "Epoch 7 of 500\n"
     ]
    },
    {
     "name": "stderr",
     "output_type": "stream",
     "text": [
      "100%|██████████| 27/27 [00:04<00:00,  6.68it/s]\n",
      "100%|██████████| 6/6 [00:01<00:00,  5.03it/s]\n",
      "  0%|          | 0/27 [00:00<?, ?it/s]"
     ]
    },
    {
     "name": "stdout",
     "output_type": "stream",
     "text": [
      "Train Loss: 0.1165, Train Acc: 95.61\n",
      "Val Loss: 0.1108, Val Acc: 95.89\n",
      "Validation loss decreased (0.111037 --> 0.110794).  Saving model ...\n",
      "../pjr_saved_model_first/VALID_NEW_PJR_replay_500/2018-07/best_model_epoch_7.pt\n",
      "Epoch 8 of 500\n"
     ]
    },
    {
     "name": "stderr",
     "output_type": "stream",
     "text": [
      "100%|██████████| 27/27 [00:03<00:00,  6.84it/s]\n",
      "100%|██████████| 6/6 [00:01<00:00,  5.11it/s]\n",
      "  0%|          | 0/27 [00:00<?, ?it/s]"
     ]
    },
    {
     "name": "stdout",
     "output_type": "stream",
     "text": [
      "Train Loss: 0.1111, Train Acc: 95.77\n",
      "Val Loss: 0.1137, Val Acc: 95.80\n",
      "EarlyStopping counter: 1 out of 5\n",
      "Epoch 9 of 500\n"
     ]
    },
    {
     "name": "stderr",
     "output_type": "stream",
     "text": [
      "100%|██████████| 27/27 [00:03<00:00,  7.10it/s]\n",
      "100%|██████████| 6/6 [00:01<00:00,  5.12it/s]\n",
      "  0%|          | 0/27 [00:00<?, ?it/s]"
     ]
    },
    {
     "name": "stdout",
     "output_type": "stream",
     "text": [
      "Train Loss: 0.1113, Train Acc: 95.86\n",
      "Val Loss: 0.1236, Val Acc: 95.69\n",
      "EarlyStopping counter: 2 out of 5\n",
      "Epoch 10 of 500\n"
     ]
    },
    {
     "name": "stderr",
     "output_type": "stream",
     "text": [
      "100%|██████████| 27/27 [00:03<00:00,  6.75it/s]\n",
      "100%|██████████| 6/6 [00:01<00:00,  4.94it/s]\n",
      "  0%|          | 0/27 [00:00<?, ?it/s]"
     ]
    },
    {
     "name": "stdout",
     "output_type": "stream",
     "text": [
      "Train Loss: 0.1122, Train Acc: 95.83\n",
      "Val Loss: 0.1083, Val Acc: 96.28\n",
      "Validation loss decreased (0.110794 --> 0.108258).  Saving model ...\n",
      "../pjr_saved_model_first/VALID_NEW_PJR_replay_500/2018-07/best_model_epoch_10.pt\n",
      "Epoch 11 of 500\n"
     ]
    },
    {
     "name": "stderr",
     "output_type": "stream",
     "text": [
      "100%|██████████| 27/27 [00:03<00:00,  7.55it/s]\n",
      "100%|██████████| 6/6 [00:01<00:00,  4.94it/s]\n",
      "  0%|          | 0/27 [00:00<?, ?it/s]"
     ]
    },
    {
     "name": "stdout",
     "output_type": "stream",
     "text": [
      "Train Loss: 0.1090, Train Acc: 95.91\n",
      "Val Loss: 0.1129, Val Acc: 95.99\n",
      "EarlyStopping counter: 1 out of 5\n",
      "Epoch 12 of 500\n"
     ]
    },
    {
     "name": "stderr",
     "output_type": "stream",
     "text": [
      "100%|██████████| 27/27 [00:04<00:00,  6.39it/s]\n",
      "100%|██████████| 6/6 [00:01<00:00,  5.12it/s]\n",
      "  0%|          | 0/27 [00:00<?, ?it/s]"
     ]
    },
    {
     "name": "stdout",
     "output_type": "stream",
     "text": [
      "Train Loss: 0.1043, Train Acc: 96.05\n",
      "Val Loss: 0.1122, Val Acc: 95.93\n",
      "EarlyStopping counter: 2 out of 5\n",
      "Epoch 13 of 500\n"
     ]
    },
    {
     "name": "stderr",
     "output_type": "stream",
     "text": [
      "100%|██████████| 27/27 [00:03<00:00,  7.11it/s]\n",
      "100%|██████████| 6/6 [00:01<00:00,  5.03it/s]\n",
      "  0%|          | 0/27 [00:00<?, ?it/s]"
     ]
    },
    {
     "name": "stdout",
     "output_type": "stream",
     "text": [
      "Train Loss: 0.1059, Train Acc: 96.09\n",
      "Val Loss: 0.1123, Val Acc: 96.06\n",
      "EarlyStopping counter: 3 out of 5\n",
      "Epoch 14 of 500\n"
     ]
    },
    {
     "name": "stderr",
     "output_type": "stream",
     "text": [
      "100%|██████████| 27/27 [00:04<00:00,  6.53it/s]\n",
      "100%|██████████| 6/6 [00:01<00:00,  5.17it/s]\n",
      "  0%|          | 0/27 [00:00<?, ?it/s]"
     ]
    },
    {
     "name": "stdout",
     "output_type": "stream",
     "text": [
      "Train Loss: 0.1048, Train Acc: 96.10\n",
      "Val Loss: 0.1116, Val Acc: 96.05\n",
      "EarlyStopping counter: 4 out of 5\n",
      "Epoch 15 of 500\n"
     ]
    },
    {
     "name": "stderr",
     "output_type": "stream",
     "text": [
      "100%|██████████| 27/27 [00:03<00:00,  6.80it/s]\n",
      "100%|██████████| 6/6 [00:01<00:00,  5.10it/s]\n",
      " 17%|█▋        | 1/6 [00:00<00:00,  6.93it/s]"
     ]
    },
    {
     "name": "stdout",
     "output_type": "stream",
     "text": [
      "Train Loss: 0.1036, Train Acc: 96.14\n",
      "Val Loss: 0.1190, Val Acc: 95.64\n",
      "EarlyStopping counter: 5 out of 5\n",
      "Early stopping\n",
      "Training time: 1.270 minutes\n"
     ]
    },
    {
     "name": "stderr",
     "output_type": "stream",
     "text": [
      "100%|██████████| 6/6 [00:00<00:00,  6.98it/s]\n"
     ]
    },
    {
     "name": "stdout",
     "output_type": "stream",
     "text": [
      "accuracy 0.9580572679610532 and ROC-AUC 0.9934032429933635\n",
      "total 1456 :: goodware 1010 :: malware 446 and True\n",
      "Elapsed time 8.045398068428039 mins.\n",
      "\n",
      "2022-10-31 01:12:51 Round 1 ...\n",
      "Current Task 2018-08 w/ 500 samples to Replay per Malware family.\n",
      "X_train (40882, 2381) Y_train (40882,) Y_tr_family (40882,)\n",
      "X_test (40087, 2381) Y_test (40087,) Y_te_family (40087,)\n",
      "True\n",
      "True\n",
      "True\n",
      "True\n",
      "X_replay (136072, 2381) Y_replay (136072,)\n",
      "Replay 68036 malware samples of 2193 families\n",
      "and Replay 68036 goodware samples\n",
      "Task 2018-08 and #-of new samples stored 39811\n",
      "W/O replay samples \n",
      " X_train (39811, 2381) Y_train (39811,)\n",
      "With replay samples \n",
      " X_train (175883, 2381) Y_train (175883,)\n",
      "************** ************** **************\n",
      "\n",
      "2022-10-31 01:12:56 Standardizing ...\n"
     ]
    },
    {
     "name": "stderr",
     "output_type": "stream",
     "text": [
      "\r",
      "  0%|          | 0/29 [00:00<?, ?it/s]"
     ]
    },
    {
     "name": "stdout",
     "output_type": "stream",
     "text": [
      "2022-10-31 01:13:07 Training ...\n",
      "Epoch 1 of 500\n"
     ]
    },
    {
     "name": "stderr",
     "output_type": "stream",
     "text": [
      "100%|██████████| 29/29 [00:03<00:00,  7.29it/s]\n",
      "100%|██████████| 7/7 [00:01<00:00,  6.05it/s]\n",
      "  0%|          | 0/29 [00:00<?, ?it/s]"
     ]
    },
    {
     "name": "stdout",
     "output_type": "stream",
     "text": [
      "Train Loss: 0.1285, Train Acc: 95.37\n",
      "Val Loss: 0.1180, Val Acc: 95.87\n",
      "Validation loss decreased (inf --> 0.118029).  Saving model ...\n",
      "../pjr_saved_model_first/VALID_NEW_PJR_replay_500/2018-08/best_model_epoch_1.pt\n",
      "Epoch 2 of 500\n"
     ]
    },
    {
     "name": "stderr",
     "output_type": "stream",
     "text": [
      "100%|██████████| 29/29 [00:03<00:00,  7.32it/s]\n",
      "100%|██████████| 7/7 [00:01<00:00,  5.19it/s]\n",
      "  0%|          | 0/29 [00:00<?, ?it/s]"
     ]
    },
    {
     "name": "stdout",
     "output_type": "stream",
     "text": [
      "Train Loss: 0.1206, Train Acc: 95.44\n",
      "Val Loss: 0.1120, Val Acc: 95.87\n",
      "Validation loss decreased (0.118029 --> 0.111997).  Saving model ...\n",
      "../pjr_saved_model_first/VALID_NEW_PJR_replay_500/2018-08/best_model_epoch_2.pt\n",
      "Epoch 3 of 500\n"
     ]
    },
    {
     "name": "stderr",
     "output_type": "stream",
     "text": [
      "100%|██████████| 29/29 [00:03<00:00,  7.32it/s]\n",
      "100%|██████████| 7/7 [00:01<00:00,  6.07it/s]\n",
      "  0%|          | 0/29 [00:00<?, ?it/s]"
     ]
    },
    {
     "name": "stdout",
     "output_type": "stream",
     "text": [
      "Train Loss: 0.1178, Train Acc: 95.54\n",
      "Val Loss: 0.1124, Val Acc: 95.98\n",
      "EarlyStopping counter: 1 out of 5\n",
      "Epoch 4 of 500\n"
     ]
    },
    {
     "name": "stderr",
     "output_type": "stream",
     "text": [
      "100%|██████████| 29/29 [00:03<00:00,  7.55it/s]\n",
      "100%|██████████| 7/7 [00:01<00:00,  6.19it/s]\n",
      "  0%|          | 0/29 [00:00<?, ?it/s]"
     ]
    },
    {
     "name": "stdout",
     "output_type": "stream",
     "text": [
      "Train Loss: 0.1155, Train Acc: 95.73\n",
      "Val Loss: 0.1103, Val Acc: 96.08\n",
      "Validation loss decreased (0.111997 --> 0.110344).  Saving model ...\n",
      "../pjr_saved_model_first/VALID_NEW_PJR_replay_500/2018-08/best_model_epoch_4.pt\n",
      "Epoch 5 of 500\n"
     ]
    },
    {
     "name": "stderr",
     "output_type": "stream",
     "text": [
      "100%|██████████| 29/29 [00:03<00:00,  7.57it/s]\n",
      "100%|██████████| 7/7 [00:01<00:00,  6.41it/s]\n",
      "  0%|          | 0/29 [00:00<?, ?it/s]"
     ]
    },
    {
     "name": "stdout",
     "output_type": "stream",
     "text": [
      "Train Loss: 0.1154, Train Acc: 95.59\n",
      "Val Loss: 0.1077, Val Acc: 96.12\n",
      "Validation loss decreased (0.110344 --> 0.107700).  Saving model ...\n",
      "../pjr_saved_model_first/VALID_NEW_PJR_replay_500/2018-08/best_model_epoch_5.pt\n",
      "Epoch 6 of 500\n"
     ]
    },
    {
     "name": "stderr",
     "output_type": "stream",
     "text": [
      "100%|██████████| 29/29 [00:03<00:00,  7.55it/s]\n",
      "100%|██████████| 7/7 [00:01<00:00,  6.45it/s]\n",
      "  0%|          | 0/29 [00:00<?, ?it/s]"
     ]
    },
    {
     "name": "stdout",
     "output_type": "stream",
     "text": [
      "Train Loss: 0.1102, Train Acc: 95.76\n",
      "Val Loss: 0.1085, Val Acc: 96.12\n",
      "EarlyStopping counter: 1 out of 5\n",
      "Epoch 7 of 500\n"
     ]
    },
    {
     "name": "stderr",
     "output_type": "stream",
     "text": [
      "100%|██████████| 29/29 [00:03<00:00,  7.55it/s]\n",
      "100%|██████████| 7/7 [00:01<00:00,  6.39it/s]\n",
      "  0%|          | 0/29 [00:00<?, ?it/s]"
     ]
    },
    {
     "name": "stdout",
     "output_type": "stream",
     "text": [
      "Train Loss: 0.1105, Train Acc: 95.80\n",
      "Val Loss: 0.1054, Val Acc: 96.39\n",
      "Validation loss decreased (0.107700 --> 0.105413).  Saving model ...\n",
      "../pjr_saved_model_first/VALID_NEW_PJR_replay_500/2018-08/best_model_epoch_7.pt\n",
      "Epoch 8 of 500\n"
     ]
    },
    {
     "name": "stderr",
     "output_type": "stream",
     "text": [
      "100%|██████████| 29/29 [00:04<00:00,  6.72it/s]\n",
      "100%|██████████| 7/7 [00:01<00:00,  5.76it/s]\n",
      "  0%|          | 0/29 [00:00<?, ?it/s]"
     ]
    },
    {
     "name": "stdout",
     "output_type": "stream",
     "text": [
      "Train Loss: 0.1072, Train Acc: 95.89\n",
      "Val Loss: 0.1103, Val Acc: 96.01\n",
      "EarlyStopping counter: 1 out of 5\n",
      "Epoch 9 of 500\n"
     ]
    },
    {
     "name": "stderr",
     "output_type": "stream",
     "text": [
      "100%|██████████| 29/29 [00:04<00:00,  7.09it/s]\n",
      "100%|██████████| 7/7 [00:01<00:00,  5.75it/s]\n",
      "  0%|          | 0/29 [00:00<?, ?it/s]"
     ]
    },
    {
     "name": "stdout",
     "output_type": "stream",
     "text": [
      "Train Loss: 0.1077, Train Acc: 95.94\n",
      "Val Loss: 0.1078, Val Acc: 96.20\n",
      "EarlyStopping counter: 2 out of 5\n",
      "Epoch 10 of 500\n"
     ]
    },
    {
     "name": "stderr",
     "output_type": "stream",
     "text": [
      "100%|██████████| 29/29 [00:04<00:00,  6.96it/s]\n",
      "100%|██████████| 7/7 [00:01<00:00,  5.78it/s]\n",
      "  0%|          | 0/29 [00:00<?, ?it/s]"
     ]
    },
    {
     "name": "stdout",
     "output_type": "stream",
     "text": [
      "Train Loss: 0.1045, Train Acc: 96.02\n",
      "Val Loss: 0.1204, Val Acc: 95.73\n",
      "EarlyStopping counter: 3 out of 5\n",
      "Epoch 11 of 500\n"
     ]
    },
    {
     "name": "stderr",
     "output_type": "stream",
     "text": [
      "100%|██████████| 29/29 [00:03<00:00,  7.41it/s]\n",
      "100%|██████████| 7/7 [00:01<00:00,  5.47it/s]\n",
      "  0%|          | 0/29 [00:00<?, ?it/s]"
     ]
    },
    {
     "name": "stdout",
     "output_type": "stream",
     "text": [
      "Train Loss: 0.1061, Train Acc: 95.99\n",
      "Val Loss: 0.1149, Val Acc: 96.03\n",
      "EarlyStopping counter: 4 out of 5\n",
      "Epoch 12 of 500\n"
     ]
    },
    {
     "name": "stderr",
     "output_type": "stream",
     "text": [
      "100%|██████████| 29/29 [00:03<00:00,  7.80it/s]\n",
      "100%|██████████| 7/7 [00:01<00:00,  5.86it/s]\n",
      " 14%|█▍        | 1/7 [00:00<00:00,  6.80it/s]"
     ]
    },
    {
     "name": "stdout",
     "output_type": "stream",
     "text": [
      "Train Loss: 0.1029, Train Acc: 96.05\n",
      "Val Loss: 0.1138, Val Acc: 95.86\n",
      "EarlyStopping counter: 5 out of 5\n",
      "Early stopping\n",
      "Training time: 1.041 minutes\n"
     ]
    },
    {
     "name": "stderr",
     "output_type": "stream",
     "text": [
      "100%|██████████| 7/7 [00:00<00:00,  7.44it/s]\n"
     ]
    },
    {
     "name": "stdout",
     "output_type": "stream",
     "text": [
      "accuracy 0.9611265877782605 and ROC-AUC 0.9932858743748144\n",
      "total 1521 :: goodware 931 :: malware 590 and True\n",
      "Elapsed time 9.367252000172932 mins.\n",
      "\n",
      "2022-10-31 01:14:10 Round 1 ...\n",
      "Current Task 2018-09 w/ 500 samples to Replay per Malware family.\n",
      "X_train (56492, 2381) Y_train (56492,) Y_tr_family (56492,)\n",
      "X_test (46364, 2381) Y_test (46364,) Y_te_family (46364,)\n",
      "True\n",
      "True\n",
      "True\n",
      "True\n",
      "X_replay (149758, 2381) Y_replay (149758,)\n",
      "Replay 74879 malware samples of 2325 families\n",
      "and Replay 74879 goodware samples\n",
      "Task 2018-09 and #-of new samples stored 55281\n",
      "W/O replay samples \n",
      " X_train (55281, 2381) Y_train (55281,)\n",
      "With replay samples \n",
      " X_train (205039, 2381) Y_train (205039,)\n",
      "************** ************** **************\n",
      "\n",
      "2022-10-31 01:14:17 Standardizing ...\n"
     ]
    },
    {
     "name": "stderr",
     "output_type": "stream",
     "text": [
      "\r",
      "  0%|          | 0/34 [00:00<?, ?it/s]"
     ]
    },
    {
     "name": "stdout",
     "output_type": "stream",
     "text": [
      "2022-10-31 01:14:31 Training ...\n",
      "Epoch 1 of 500\n"
     ]
    },
    {
     "name": "stderr",
     "output_type": "stream",
     "text": [
      "100%|██████████| 34/34 [00:04<00:00,  7.12it/s]\n",
      "100%|██████████| 8/8 [00:01<00:00,  5.34it/s]\n",
      "  0%|          | 0/34 [00:00<?, ?it/s]"
     ]
    },
    {
     "name": "stdout",
     "output_type": "stream",
     "text": [
      "Train Loss: 0.1381, Train Acc: 94.79\n",
      "Val Loss: 0.1157, Val Acc: 95.91\n",
      "Validation loss decreased (inf --> 0.115749).  Saving model ...\n",
      "../pjr_saved_model_first/VALID_NEW_PJR_replay_500/2018-09/best_model_epoch_1.pt\n",
      "Epoch 2 of 500\n"
     ]
    },
    {
     "name": "stderr",
     "output_type": "stream",
     "text": [
      "100%|██████████| 34/34 [00:04<00:00,  7.05it/s]\n",
      "100%|██████████| 8/8 [00:01<00:00,  5.92it/s]\n",
      "  0%|          | 0/34 [00:00<?, ?it/s]"
     ]
    },
    {
     "name": "stdout",
     "output_type": "stream",
     "text": [
      "Train Loss: 0.1305, Train Acc: 95.14\n",
      "Val Loss: 0.1128, Val Acc: 95.93\n",
      "Validation loss decreased (0.115749 --> 0.112809).  Saving model ...\n",
      "../pjr_saved_model_first/VALID_NEW_PJR_replay_500/2018-09/best_model_epoch_2.pt\n",
      "Epoch 3 of 500\n"
     ]
    },
    {
     "name": "stderr",
     "output_type": "stream",
     "text": [
      "100%|██████████| 34/34 [00:04<00:00,  6.87it/s]\n",
      "100%|██████████| 8/8 [00:01<00:00,  5.43it/s]\n",
      "  0%|          | 0/34 [00:00<?, ?it/s]"
     ]
    },
    {
     "name": "stdout",
     "output_type": "stream",
     "text": [
      "Train Loss: 0.1535, Train Acc: 94.21\n",
      "Val Loss: 0.1419, Val Acc: 94.80\n",
      "EarlyStopping counter: 1 out of 5\n",
      "Epoch 4 of 500\n"
     ]
    },
    {
     "name": "stderr",
     "output_type": "stream",
     "text": [
      "100%|██████████| 34/34 [00:04<00:00,  7.05it/s]\n",
      "100%|██████████| 8/8 [00:01<00:00,  5.45it/s]\n",
      "  0%|          | 0/34 [00:00<?, ?it/s]"
     ]
    },
    {
     "name": "stdout",
     "output_type": "stream",
     "text": [
      "Train Loss: 0.1458, Train Acc: 94.42\n",
      "Val Loss: 0.1102, Val Acc: 95.87\n",
      "Validation loss decreased (0.112809 --> 0.110232).  Saving model ...\n",
      "../pjr_saved_model_first/VALID_NEW_PJR_replay_500/2018-09/best_model_epoch_4.pt\n",
      "Epoch 5 of 500\n"
     ]
    },
    {
     "name": "stderr",
     "output_type": "stream",
     "text": [
      "100%|██████████| 34/34 [00:04<00:00,  7.11it/s]\n",
      "100%|██████████| 8/8 [00:01<00:00,  5.45it/s]\n",
      "  0%|          | 0/34 [00:00<?, ?it/s]"
     ]
    },
    {
     "name": "stdout",
     "output_type": "stream",
     "text": [
      "Train Loss: 0.1281, Train Acc: 95.09\n",
      "Val Loss: 0.1095, Val Acc: 95.97\n",
      "Validation loss decreased (0.110232 --> 0.109534).  Saving model ...\n",
      "../pjr_saved_model_first/VALID_NEW_PJR_replay_500/2018-09/best_model_epoch_5.pt\n",
      "Epoch 6 of 500\n"
     ]
    },
    {
     "name": "stderr",
     "output_type": "stream",
     "text": [
      "100%|██████████| 34/34 [00:04<00:00,  7.29it/s]\n",
      "100%|██████████| 8/8 [00:01<00:00,  5.94it/s]\n",
      "  0%|          | 0/34 [00:00<?, ?it/s]"
     ]
    },
    {
     "name": "stdout",
     "output_type": "stream",
     "text": [
      "Train Loss: 0.1185, Train Acc: 95.48\n",
      "Val Loss: 0.1117, Val Acc: 95.89\n",
      "EarlyStopping counter: 1 out of 5\n",
      "Epoch 7 of 500\n"
     ]
    },
    {
     "name": "stderr",
     "output_type": "stream",
     "text": [
      "100%|██████████| 34/34 [00:04<00:00,  7.29it/s]\n",
      "100%|██████████| 8/8 [00:01<00:00,  5.34it/s]\n",
      "  0%|          | 0/34 [00:00<?, ?it/s]"
     ]
    },
    {
     "name": "stdout",
     "output_type": "stream",
     "text": [
      "Train Loss: 0.1322, Train Acc: 94.98\n",
      "Val Loss: 0.1168, Val Acc: 95.64\n",
      "EarlyStopping counter: 2 out of 5\n",
      "Epoch 8 of 500\n"
     ]
    },
    {
     "name": "stderr",
     "output_type": "stream",
     "text": [
      "100%|██████████| 34/34 [00:04<00:00,  7.08it/s]\n",
      "100%|██████████| 8/8 [00:01<00:00,  5.43it/s]\n",
      "  0%|          | 0/34 [00:00<?, ?it/s]"
     ]
    },
    {
     "name": "stdout",
     "output_type": "stream",
     "text": [
      "Train Loss: 0.1331, Train Acc: 94.95\n",
      "Val Loss: 0.1384, Val Acc: 94.80\n",
      "EarlyStopping counter: 3 out of 5\n",
      "Epoch 9 of 500\n"
     ]
    },
    {
     "name": "stderr",
     "output_type": "stream",
     "text": [
      "100%|██████████| 34/34 [00:04<00:00,  7.06it/s]\n",
      "100%|██████████| 8/8 [00:01<00:00,  5.43it/s]\n",
      "  0%|          | 0/34 [00:00<?, ?it/s]"
     ]
    },
    {
     "name": "stdout",
     "output_type": "stream",
     "text": [
      "Train Loss: 0.1241, Train Acc: 95.26\n",
      "Val Loss: 0.1063, Val Acc: 96.12\n",
      "Validation loss decreased (0.109534 --> 0.106258).  Saving model ...\n",
      "../pjr_saved_model_first/VALID_NEW_PJR_replay_500/2018-09/best_model_epoch_9.pt\n",
      "Epoch 10 of 500\n"
     ]
    },
    {
     "name": "stderr",
     "output_type": "stream",
     "text": [
      "100%|██████████| 34/34 [00:04<00:00,  7.11it/s]\n",
      "100%|██████████| 8/8 [00:01<00:00,  5.73it/s]\n",
      "  0%|          | 0/34 [00:00<?, ?it/s]"
     ]
    },
    {
     "name": "stdout",
     "output_type": "stream",
     "text": [
      "Train Loss: 0.1112, Train Acc: 95.77\n",
      "Val Loss: 0.1048, Val Acc: 96.21\n",
      "Validation loss decreased (0.106258 --> 0.104783).  Saving model ...\n",
      "../pjr_saved_model_first/VALID_NEW_PJR_replay_500/2018-09/best_model_epoch_10.pt\n",
      "Epoch 11 of 500\n"
     ]
    },
    {
     "name": "stderr",
     "output_type": "stream",
     "text": [
      "100%|██████████| 34/34 [00:04<00:00,  7.27it/s]\n",
      "100%|██████████| 8/8 [00:01<00:00,  5.18it/s]\n",
      "  0%|          | 0/34 [00:00<?, ?it/s]"
     ]
    },
    {
     "name": "stdout",
     "output_type": "stream",
     "text": [
      "Train Loss: 0.1298, Train Acc: 94.95\n",
      "Val Loss: 0.1199, Val Acc: 95.63\n",
      "EarlyStopping counter: 1 out of 5\n",
      "Epoch 12 of 500\n"
     ]
    },
    {
     "name": "stderr",
     "output_type": "stream",
     "text": [
      "100%|██████████| 34/34 [00:04<00:00,  7.08it/s]\n",
      "100%|██████████| 8/8 [00:01<00:00,  5.22it/s]\n",
      "  0%|          | 0/34 [00:00<?, ?it/s]"
     ]
    },
    {
     "name": "stdout",
     "output_type": "stream",
     "text": [
      "Train Loss: 0.1110, Train Acc: 95.82\n",
      "Val Loss: 0.1072, Val Acc: 96.08\n",
      "EarlyStopping counter: 2 out of 5\n",
      "Epoch 13 of 500\n"
     ]
    },
    {
     "name": "stderr",
     "output_type": "stream",
     "text": [
      "100%|██████████| 34/34 [00:04<00:00,  7.08it/s]\n",
      "100%|██████████| 8/8 [00:01<00:00,  5.27it/s]\n",
      "  0%|          | 0/34 [00:00<?, ?it/s]"
     ]
    },
    {
     "name": "stdout",
     "output_type": "stream",
     "text": [
      "Train Loss: 0.1098, Train Acc: 95.77\n",
      "Val Loss: 0.1069, Val Acc: 96.15\n",
      "EarlyStopping counter: 3 out of 5\n",
      "Epoch 14 of 500\n"
     ]
    },
    {
     "name": "stderr",
     "output_type": "stream",
     "text": [
      "100%|██████████| 34/34 [00:04<00:00,  7.02it/s]\n",
      "100%|██████████| 8/8 [00:01<00:00,  5.17it/s]\n",
      "  0%|          | 0/34 [00:00<?, ?it/s]"
     ]
    },
    {
     "name": "stdout",
     "output_type": "stream",
     "text": [
      "Train Loss: 0.1148, Train Acc: 95.58\n",
      "Val Loss: 0.1110, Val Acc: 95.88\n",
      "EarlyStopping counter: 4 out of 5\n",
      "Epoch 15 of 500\n"
     ]
    },
    {
     "name": "stderr",
     "output_type": "stream",
     "text": [
      "100%|██████████| 34/34 [00:04<00:00,  7.01it/s]\n",
      "100%|██████████| 8/8 [00:01<00:00,  5.09it/s]\n",
      "  0%|          | 0/34 [00:00<?, ?it/s]"
     ]
    },
    {
     "name": "stdout",
     "output_type": "stream",
     "text": [
      "Train Loss: 0.1043, Train Acc: 96.07\n",
      "Val Loss: 0.1029, Val Acc: 96.35\n",
      "Validation loss decreased (0.104783 --> 0.102932).  Saving model ...\n",
      "../pjr_saved_model_first/VALID_NEW_PJR_replay_500/2018-09/best_model_epoch_15.pt\n",
      "Epoch 16 of 500\n"
     ]
    },
    {
     "name": "stderr",
     "output_type": "stream",
     "text": [
      "100%|██████████| 34/34 [00:04<00:00,  6.85it/s]\n",
      "100%|██████████| 8/8 [00:01<00:00,  5.06it/s]\n",
      "  0%|          | 0/34 [00:00<?, ?it/s]"
     ]
    },
    {
     "name": "stdout",
     "output_type": "stream",
     "text": [
      "Train Loss: 0.1307, Train Acc: 95.43\n",
      "Val Loss: 0.5029, Val Acc: 83.24\n",
      "EarlyStopping counter: 1 out of 5\n",
      "Epoch 17 of 500\n"
     ]
    },
    {
     "name": "stderr",
     "output_type": "stream",
     "text": [
      "100%|██████████| 34/34 [00:04<00:00,  7.02it/s]\n",
      "100%|██████████| 8/8 [00:01<00:00,  5.96it/s]\n",
      "  0%|          | 0/34 [00:00<?, ?it/s]"
     ]
    },
    {
     "name": "stdout",
     "output_type": "stream",
     "text": [
      "Train Loss: 0.1388, Train Acc: 94.53\n",
      "Val Loss: 0.1148, Val Acc: 95.89\n",
      "EarlyStopping counter: 2 out of 5\n",
      "Epoch 18 of 500\n"
     ]
    },
    {
     "name": "stderr",
     "output_type": "stream",
     "text": [
      "100%|██████████| 34/34 [00:04<00:00,  7.02it/s]\n",
      "100%|██████████| 8/8 [00:01<00:00,  5.59it/s]\n",
      "  0%|          | 0/34 [00:00<?, ?it/s]"
     ]
    },
    {
     "name": "stdout",
     "output_type": "stream",
     "text": [
      "Train Loss: 0.1118, Train Acc: 95.76\n",
      "Val Loss: 0.1765, Val Acc: 93.49\n",
      "EarlyStopping counter: 3 out of 5\n",
      "Epoch 19 of 500\n"
     ]
    },
    {
     "name": "stderr",
     "output_type": "stream",
     "text": [
      "100%|██████████| 34/34 [00:04<00:00,  6.93it/s]\n",
      "100%|██████████| 8/8 [00:01<00:00,  4.99it/s]\n",
      "  0%|          | 0/34 [00:00<?, ?it/s]"
     ]
    },
    {
     "name": "stdout",
     "output_type": "stream",
     "text": [
      "Train Loss: 0.1060, Train Acc: 95.88\n",
      "Val Loss: 0.0993, Val Acc: 96.50\n",
      "Validation loss decreased (0.102932 --> 0.099282).  Saving model ...\n",
      "../pjr_saved_model_first/VALID_NEW_PJR_replay_500/2018-09/best_model_epoch_19.pt\n",
      "Epoch 20 of 500\n"
     ]
    },
    {
     "name": "stderr",
     "output_type": "stream",
     "text": [
      "100%|██████████| 34/34 [00:04<00:00,  6.85it/s]\n",
      "100%|██████████| 8/8 [00:01<00:00,  5.10it/s]\n",
      "  0%|          | 0/34 [00:00<?, ?it/s]"
     ]
    },
    {
     "name": "stdout",
     "output_type": "stream",
     "text": [
      "Train Loss: 0.1070, Train Acc: 95.87\n",
      "Val Loss: 0.1127, Val Acc: 95.98\n",
      "EarlyStopping counter: 1 out of 5\n",
      "Epoch 21 of 500\n"
     ]
    },
    {
     "name": "stderr",
     "output_type": "stream",
     "text": [
      "100%|██████████| 34/34 [00:04<00:00,  6.84it/s]\n",
      "100%|██████████| 8/8 [00:01<00:00,  5.04it/s]\n",
      "  0%|          | 0/34 [00:00<?, ?it/s]"
     ]
    },
    {
     "name": "stdout",
     "output_type": "stream",
     "text": [
      "Train Loss: 0.1027, Train Acc: 96.05\n",
      "Val Loss: 0.0994, Val Acc: 96.46\n",
      "EarlyStopping counter: 2 out of 5\n",
      "Epoch 22 of 500\n"
     ]
    },
    {
     "name": "stderr",
     "output_type": "stream",
     "text": [
      "100%|██████████| 34/34 [00:05<00:00,  6.77it/s]\n",
      "100%|██████████| 8/8 [00:01<00:00,  5.06it/s]\n",
      "  0%|          | 0/34 [00:00<?, ?it/s]"
     ]
    },
    {
     "name": "stdout",
     "output_type": "stream",
     "text": [
      "Train Loss: 0.1019, Train Acc: 96.14\n",
      "Val Loss: 0.1034, Val Acc: 96.34\n",
      "EarlyStopping counter: 3 out of 5\n",
      "Epoch 23 of 500\n"
     ]
    },
    {
     "name": "stderr",
     "output_type": "stream",
     "text": [
      "100%|██████████| 34/34 [00:05<00:00,  6.78it/s]\n",
      "100%|██████████| 8/8 [00:01<00:00,  5.01it/s]\n",
      "  0%|          | 0/34 [00:00<?, ?it/s]"
     ]
    },
    {
     "name": "stdout",
     "output_type": "stream",
     "text": [
      "Train Loss: 0.0996, Train Acc: 96.26\n",
      "Val Loss: 0.1156, Val Acc: 95.71\n",
      "EarlyStopping counter: 4 out of 5\n",
      "Epoch 24 of 500\n"
     ]
    },
    {
     "name": "stderr",
     "output_type": "stream",
     "text": [
      "100%|██████████| 34/34 [00:05<00:00,  6.77it/s]\n",
      "100%|██████████| 8/8 [00:01<00:00,  5.05it/s]\n",
      " 12%|█▎        | 1/8 [00:00<00:01,  5.86it/s]"
     ]
    },
    {
     "name": "stdout",
     "output_type": "stream",
     "text": [
      "Train Loss: 0.1002, Train Acc: 96.17\n",
      "Val Loss: 0.1017, Val Acc: 96.31\n",
      "EarlyStopping counter: 5 out of 5\n",
      "Early stopping\n",
      "Training time: 2.561 minutes\n"
     ]
    },
    {
     "name": "stderr",
     "output_type": "stream",
     "text": [
      "100%|██████████| 8/8 [00:01<00:00,  6.72it/s]\n"
     ]
    },
    {
     "name": "stdout",
     "output_type": "stream",
     "text": [
      "accuracy 0.9632796447272486 and ROC-AUC 0.9932602750302264\n",
      "total 1662 :: goodware 649 :: malware 1013 and True\n",
      "Elapsed time 12.297191945711772 mins.\n",
      "\n",
      "2022-10-31 01:17:06 Round 1 ...\n",
      "Current Task 2018-10 w/ 500 samples to Replay per Malware family.\n",
      "X_train (77772, 2381) Y_train (77772,) Y_tr_family (77772,)\n",
      "X_test (55006, 2381) Y_test (55006,) Y_te_family (55006,)\n",
      "True\n",
      "True\n",
      "True\n",
      "True\n",
      "X_replay (172768, 2381) Y_replay (172768,)\n",
      "Replay 86384 malware samples of 2610 families\n",
      "and Replay 86384 goodware samples\n",
      "Task 2018-10 and #-of new samples stored 77670\n",
      "W/O replay samples \n",
      " X_train (77670, 2381) Y_train (77670,)\n",
      "With replay samples \n",
      " X_train (250438, 2381) Y_train (250438,)\n",
      "************** ************** **************\n",
      "\n",
      "2022-10-31 01:17:14 Standardizing ...\n"
     ]
    },
    {
     "name": "stderr",
     "output_type": "stream",
     "text": [
      "\r",
      "  0%|          | 0/41 [00:00<?, ?it/s]"
     ]
    },
    {
     "name": "stdout",
     "output_type": "stream",
     "text": [
      "2022-10-31 01:17:31 Training ...\n",
      "Epoch 1 of 500\n"
     ]
    },
    {
     "name": "stderr",
     "output_type": "stream",
     "text": [
      "100%|██████████| 41/41 [00:05<00:00,  7.32it/s]\n",
      "100%|██████████| 9/9 [00:01<00:00,  5.93it/s]\n",
      "  0%|          | 0/41 [00:00<?, ?it/s]"
     ]
    },
    {
     "name": "stdout",
     "output_type": "stream",
     "text": [
      "Train Loss: 0.1332, Train Acc: 95.27\n",
      "Val Loss: 0.1095, Val Acc: 96.28\n",
      "Validation loss decreased (inf --> 0.109538).  Saving model ...\n",
      "../pjr_saved_model_first/VALID_NEW_PJR_replay_500/2018-10/best_model_epoch_1.pt\n",
      "Epoch 2 of 500\n"
     ]
    },
    {
     "name": "stderr",
     "output_type": "stream",
     "text": [
      "100%|██████████| 41/41 [00:05<00:00,  7.29it/s]\n",
      "100%|██████████| 9/9 [00:01<00:00,  6.03it/s]\n",
      "  0%|          | 0/41 [00:00<?, ?it/s]"
     ]
    },
    {
     "name": "stdout",
     "output_type": "stream",
     "text": [
      "Train Loss: 0.1174, Train Acc: 95.74\n",
      "Val Loss: 0.1069, Val Acc: 96.27\n",
      "Validation loss decreased (0.109538 --> 0.106891).  Saving model ...\n",
      "../pjr_saved_model_first/VALID_NEW_PJR_replay_500/2018-10/best_model_epoch_2.pt\n",
      "Epoch 3 of 500\n"
     ]
    },
    {
     "name": "stderr",
     "output_type": "stream",
     "text": [
      "100%|██████████| 41/41 [00:05<00:00,  7.16it/s]\n",
      "100%|██████████| 9/9 [00:01<00:00,  5.90it/s]\n",
      "  0%|          | 0/41 [00:00<?, ?it/s]"
     ]
    },
    {
     "name": "stdout",
     "output_type": "stream",
     "text": [
      "Train Loss: 0.1109, Train Acc: 95.94\n",
      "Val Loss: 0.1025, Val Acc: 96.32\n",
      "Validation loss decreased (0.106891 --> 0.102484).  Saving model ...\n",
      "../pjr_saved_model_first/VALID_NEW_PJR_replay_500/2018-10/best_model_epoch_3.pt\n",
      "Epoch 4 of 500\n"
     ]
    },
    {
     "name": "stderr",
     "output_type": "stream",
     "text": [
      "100%|██████████| 41/41 [00:05<00:00,  6.96it/s]\n",
      "100%|██████████| 9/9 [00:01<00:00,  5.42it/s]\n",
      "  0%|          | 0/41 [00:00<?, ?it/s]"
     ]
    },
    {
     "name": "stdout",
     "output_type": "stream",
     "text": [
      "Train Loss: 0.1088, Train Acc: 95.99\n",
      "Val Loss: 0.1038, Val Acc: 96.37\n",
      "EarlyStopping counter: 1 out of 5\n",
      "Epoch 5 of 500\n"
     ]
    },
    {
     "name": "stderr",
     "output_type": "stream",
     "text": [
      "100%|██████████| 41/41 [00:05<00:00,  6.92it/s]\n",
      "100%|██████████| 9/9 [00:01<00:00,  5.89it/s]\n",
      "  0%|          | 0/41 [00:00<?, ?it/s]"
     ]
    },
    {
     "name": "stdout",
     "output_type": "stream",
     "text": [
      "Train Loss: 0.1051, Train Acc: 96.08\n",
      "Val Loss: 0.1052, Val Acc: 96.11\n",
      "EarlyStopping counter: 2 out of 5\n",
      "Epoch 6 of 500\n"
     ]
    },
    {
     "name": "stderr",
     "output_type": "stream",
     "text": [
      "100%|██████████| 41/41 [00:05<00:00,  6.91it/s]\n",
      "100%|██████████| 9/9 [00:01<00:00,  5.87it/s]\n",
      "  0%|          | 0/41 [00:00<?, ?it/s]"
     ]
    },
    {
     "name": "stdout",
     "output_type": "stream",
     "text": [
      "Train Loss: 0.1039, Train Acc: 96.15\n",
      "Val Loss: 0.1017, Val Acc: 96.42\n",
      "Validation loss decreased (0.102484 --> 0.101692).  Saving model ...\n",
      "../pjr_saved_model_first/VALID_NEW_PJR_replay_500/2018-10/best_model_epoch_6.pt\n",
      "Epoch 7 of 500\n"
     ]
    },
    {
     "name": "stderr",
     "output_type": "stream",
     "text": [
      "100%|██████████| 41/41 [00:05<00:00,  6.89it/s]\n",
      "100%|██████████| 9/9 [00:01<00:00,  4.64it/s]\n",
      "  0%|          | 0/41 [00:00<?, ?it/s]"
     ]
    },
    {
     "name": "stdout",
     "output_type": "stream",
     "text": [
      "Train Loss: 0.0993, Train Acc: 96.31\n",
      "Val Loss: 0.1052, Val Acc: 96.29\n",
      "EarlyStopping counter: 1 out of 5\n",
      "Epoch 8 of 500\n"
     ]
    },
    {
     "name": "stderr",
     "output_type": "stream",
     "text": [
      "100%|██████████| 41/41 [00:06<00:00,  6.71it/s]\n",
      "100%|██████████| 9/9 [00:01<00:00,  5.09it/s]\n",
      "  0%|          | 0/41 [00:00<?, ?it/s]"
     ]
    },
    {
     "name": "stdout",
     "output_type": "stream",
     "text": [
      "Train Loss: 0.0998, Train Acc: 96.26\n",
      "Val Loss: 0.1057, Val Acc: 96.31\n",
      "EarlyStopping counter: 2 out of 5\n",
      "Epoch 9 of 500\n"
     ]
    },
    {
     "name": "stderr",
     "output_type": "stream",
     "text": [
      "100%|██████████| 41/41 [00:06<00:00,  6.83it/s]\n",
      "100%|██████████| 9/9 [00:01<00:00,  5.34it/s]\n",
      "  0%|          | 0/41 [00:00<?, ?it/s]"
     ]
    },
    {
     "name": "stdout",
     "output_type": "stream",
     "text": [
      "Train Loss: 0.0994, Train Acc: 96.32\n",
      "Val Loss: 0.1012, Val Acc: 96.46\n",
      "Validation loss decreased (0.101692 --> 0.101167).  Saving model ...\n",
      "../pjr_saved_model_first/VALID_NEW_PJR_replay_500/2018-10/best_model_epoch_9.pt\n",
      "Epoch 10 of 500\n"
     ]
    },
    {
     "name": "stderr",
     "output_type": "stream",
     "text": [
      "100%|██████████| 41/41 [00:05<00:00,  6.93it/s]\n",
      "100%|██████████| 9/9 [00:01<00:00,  5.80it/s]\n",
      "  0%|          | 0/41 [00:00<?, ?it/s]"
     ]
    },
    {
     "name": "stdout",
     "output_type": "stream",
     "text": [
      "Train Loss: 0.0951, Train Acc: 96.46\n",
      "Val Loss: 0.0978, Val Acc: 96.55\n",
      "Validation loss decreased (0.101167 --> 0.097809).  Saving model ...\n",
      "../pjr_saved_model_first/VALID_NEW_PJR_replay_500/2018-10/best_model_epoch_10.pt\n",
      "Epoch 11 of 500\n"
     ]
    },
    {
     "name": "stderr",
     "output_type": "stream",
     "text": [
      "100%|██████████| 41/41 [00:05<00:00,  7.16it/s]\n",
      "100%|██████████| 9/9 [00:01<00:00,  5.44it/s]\n",
      "  0%|          | 0/41 [00:00<?, ?it/s]"
     ]
    },
    {
     "name": "stdout",
     "output_type": "stream",
     "text": [
      "Train Loss: 0.0957, Train Acc: 96.49\n",
      "Val Loss: 0.1022, Val Acc: 96.58\n",
      "EarlyStopping counter: 1 out of 5\n",
      "Epoch 12 of 500\n"
     ]
    },
    {
     "name": "stderr",
     "output_type": "stream",
     "text": [
      "100%|██████████| 41/41 [00:06<00:00,  6.30it/s]\n",
      "100%|██████████| 9/9 [00:01<00:00,  5.43it/s]\n",
      "  0%|          | 0/41 [00:00<?, ?it/s]"
     ]
    },
    {
     "name": "stdout",
     "output_type": "stream",
     "text": [
      "Train Loss: 0.0961, Train Acc: 96.38\n",
      "Val Loss: 0.1030, Val Acc: 96.47\n",
      "EarlyStopping counter: 2 out of 5\n",
      "Epoch 13 of 500\n"
     ]
    },
    {
     "name": "stderr",
     "output_type": "stream",
     "text": [
      "100%|██████████| 41/41 [00:06<00:00,  6.51it/s]\n",
      "100%|██████████| 9/9 [00:01<00:00,  5.48it/s]\n",
      "  0%|          | 0/41 [00:00<?, ?it/s]"
     ]
    },
    {
     "name": "stdout",
     "output_type": "stream",
     "text": [
      "Train Loss: 0.0927, Train Acc: 96.50\n",
      "Val Loss: 0.0989, Val Acc: 96.60\n",
      "EarlyStopping counter: 3 out of 5\n",
      "Epoch 14 of 500\n"
     ]
    },
    {
     "name": "stderr",
     "output_type": "stream",
     "text": [
      "100%|██████████| 41/41 [00:06<00:00,  5.98it/s]\n",
      "100%|██████████| 9/9 [00:01<00:00,  5.46it/s]\n",
      "  0%|          | 0/41 [00:00<?, ?it/s]"
     ]
    },
    {
     "name": "stdout",
     "output_type": "stream",
     "text": [
      "Train Loss: 0.0940, Train Acc: 96.45\n",
      "Val Loss: 0.0997, Val Acc: 96.47\n",
      "EarlyStopping counter: 4 out of 5\n",
      "Epoch 15 of 500\n"
     ]
    },
    {
     "name": "stderr",
     "output_type": "stream",
     "text": [
      "100%|██████████| 41/41 [00:06<00:00,  6.48it/s]\n",
      "100%|██████████| 9/9 [00:01<00:00,  5.22it/s]\n",
      " 11%|█         | 1/9 [00:00<00:01,  5.39it/s]"
     ]
    },
    {
     "name": "stdout",
     "output_type": "stream",
     "text": [
      "Train Loss: 0.0986, Train Acc: 96.25\n",
      "Val Loss: 0.1039, Val Acc: 96.47\n",
      "EarlyStopping counter: 5 out of 5\n",
      "Early stopping\n",
      "Training time: 1.933 minutes\n"
     ]
    },
    {
     "name": "stderr",
     "output_type": "stream",
     "text": [
      "100%|██████████| 9/9 [00:01<00:00,  6.08it/s]\n"
     ]
    },
    {
     "name": "stdout",
     "output_type": "stream",
     "text": [
      "accuracy 0.9648351240512906 and ROC-AUC 0.9937669336812275\n",
      "total 1895 :: goodware 1112 :: malware 783 and True\n",
      "Elapsed time 14.664631696542104 mins.\n",
      "\n",
      "2022-10-31 01:19:28 Round 1 ...\n",
      "Current Task 2018-11 w/ 500 samples to Replay per Malware family.\n",
      "X_train (90000, 2381) Y_train (90000,) Y_tr_family (90000,)\n",
      "X_test (65006, 2381) Y_test (65006,) Y_te_family (65006,)\n",
      "True\n",
      "True\n",
      "True\n",
      "True\n",
      "X_replay (177916, 2381) Y_replay (177916,)\n",
      "Replay 88958 malware samples of 2628 families\n",
      "and Replay 88958 goodware samples\n",
      "Task 2018-11 and #-of new samples stored 89806\n",
      "W/O replay samples \n",
      " X_train (89806, 2381) Y_train (89806,)\n",
      "With replay samples \n",
      " X_train (267722, 2381) Y_train (267722,)\n",
      "************** ************** **************\n",
      "\n",
      "2022-10-31 01:19:38 Standardizing ...\n"
     ]
    },
    {
     "name": "stderr",
     "output_type": "stream",
     "text": [
      "\r",
      "  0%|          | 0/44 [00:00<?, ?it/s]"
     ]
    },
    {
     "name": "stdout",
     "output_type": "stream",
     "text": [
      "2022-10-31 01:19:57 Training ...\n",
      "Epoch 1 of 500\n"
     ]
    },
    {
     "name": "stderr",
     "output_type": "stream",
     "text": [
      "100%|██████████| 44/44 [00:08<00:00,  5.50it/s]\n",
      "100%|██████████| 11/11 [00:02<00:00,  5.47it/s]\n",
      "  0%|          | 0/44 [00:00<?, ?it/s]"
     ]
    },
    {
     "name": "stdout",
     "output_type": "stream",
     "text": [
      "Train Loss: 0.1299, Train Acc: 95.31\n",
      "Val Loss: 0.1028, Val Acc: 96.25\n",
      "Validation loss decreased (inf --> 0.102807).  Saving model ...\n",
      "../pjr_saved_model_first/VALID_NEW_PJR_replay_500/2018-11/best_model_epoch_1.pt\n",
      "Epoch 2 of 500\n"
     ]
    },
    {
     "name": "stderr",
     "output_type": "stream",
     "text": [
      "100%|██████████| 44/44 [00:07<00:00,  6.17it/s]\n",
      "100%|██████████| 11/11 [00:01<00:00,  5.59it/s]\n",
      "  0%|          | 0/44 [00:00<?, ?it/s]"
     ]
    },
    {
     "name": "stdout",
     "output_type": "stream",
     "text": [
      "Train Loss: 0.1239, Train Acc: 95.33\n",
      "Val Loss: 0.1207, Val Acc: 95.40\n",
      "EarlyStopping counter: 1 out of 5\n",
      "Epoch 3 of 500\n"
     ]
    },
    {
     "name": "stderr",
     "output_type": "stream",
     "text": [
      "100%|██████████| 44/44 [00:07<00:00,  6.15it/s]\n",
      "100%|██████████| 11/11 [00:01<00:00,  5.64it/s]\n",
      "  0%|          | 0/44 [00:00<?, ?it/s]"
     ]
    },
    {
     "name": "stdout",
     "output_type": "stream",
     "text": [
      "Train Loss: 0.1396, Train Acc: 94.86\n",
      "Val Loss: 0.1251, Val Acc: 95.39\n",
      "EarlyStopping counter: 2 out of 5\n",
      "Epoch 4 of 500\n"
     ]
    },
    {
     "name": "stderr",
     "output_type": "stream",
     "text": [
      "100%|██████████| 44/44 [00:07<00:00,  5.68it/s]\n",
      "100%|██████████| 11/11 [00:02<00:00,  4.45it/s]\n",
      "  0%|          | 0/44 [00:00<?, ?it/s]"
     ]
    },
    {
     "name": "stdout",
     "output_type": "stream",
     "text": [
      "Train Loss: 0.1156, Train Acc: 95.62\n",
      "Val Loss: 0.1000, Val Acc: 96.33\n",
      "Validation loss decreased (0.102807 --> 0.100036).  Saving model ...\n",
      "../pjr_saved_model_first/VALID_NEW_PJR_replay_500/2018-11/best_model_epoch_4.pt\n",
      "Epoch 5 of 500\n"
     ]
    },
    {
     "name": "stderr",
     "output_type": "stream",
     "text": [
      "100%|██████████| 44/44 [00:06<00:00,  6.75it/s]\n",
      "100%|██████████| 11/11 [00:02<00:00,  5.25it/s]\n",
      "  0%|          | 0/44 [00:00<?, ?it/s]"
     ]
    },
    {
     "name": "stdout",
     "output_type": "stream",
     "text": [
      "Train Loss: 0.1190, Train Acc: 95.56\n",
      "Val Loss: 0.1107, Val Acc: 95.73\n",
      "EarlyStopping counter: 1 out of 5\n",
      "Epoch 6 of 500\n"
     ]
    },
    {
     "name": "stderr",
     "output_type": "stream",
     "text": [
      "100%|██████████| 44/44 [00:06<00:00,  6.61it/s]\n",
      "100%|██████████| 11/11 [00:01<00:00,  5.90it/s]\n",
      "  0%|          | 0/44 [00:00<?, ?it/s]"
     ]
    },
    {
     "name": "stdout",
     "output_type": "stream",
     "text": [
      "Train Loss: 0.1395, Train Acc: 94.70\n",
      "Val Loss: 0.1018, Val Acc: 96.24\n",
      "EarlyStopping counter: 2 out of 5\n",
      "Epoch 7 of 500\n"
     ]
    },
    {
     "name": "stderr",
     "output_type": "stream",
     "text": [
      "100%|██████████| 44/44 [00:06<00:00,  6.84it/s]\n",
      "100%|██████████| 11/11 [00:01<00:00,  5.57it/s]\n",
      "  0%|          | 0/44 [00:00<?, ?it/s]"
     ]
    },
    {
     "name": "stdout",
     "output_type": "stream",
     "text": [
      "Train Loss: 0.1062, Train Acc: 96.00\n",
      "Val Loss: 0.1009, Val Acc: 96.26\n",
      "EarlyStopping counter: 3 out of 5\n",
      "Epoch 8 of 500\n"
     ]
    },
    {
     "name": "stderr",
     "output_type": "stream",
     "text": [
      "100%|██████████| 44/44 [00:06<00:00,  6.74it/s]\n",
      "100%|██████████| 11/11 [00:01<00:00,  5.65it/s]\n",
      "  0%|          | 0/44 [00:00<?, ?it/s]"
     ]
    },
    {
     "name": "stdout",
     "output_type": "stream",
     "text": [
      "Train Loss: 0.1147, Train Acc: 95.74\n",
      "Val Loss: 0.1089, Val Acc: 95.91\n",
      "EarlyStopping counter: 4 out of 5\n",
      "Epoch 9 of 500\n"
     ]
    },
    {
     "name": "stderr",
     "output_type": "stream",
     "text": [
      "100%|██████████| 44/44 [00:07<00:00,  6.13it/s]\n",
      "100%|██████████| 11/11 [00:02<00:00,  5.14it/s]\n",
      "  0%|          | 0/11 [00:00<?, ?it/s]"
     ]
    },
    {
     "name": "stdout",
     "output_type": "stream",
     "text": [
      "Train Loss: 0.1085, Train Acc: 95.97\n",
      "Val Loss: 0.1212, Val Acc: 95.96\n",
      "EarlyStopping counter: 5 out of 5\n",
      "Early stopping\n",
      "Training time: 1.371 minutes\n"
     ]
    },
    {
     "name": "stderr",
     "output_type": "stream",
     "text": [
      "100%|██████████| 11/11 [00:01<00:00,  6.05it/s]\n"
     ]
    },
    {
     "name": "stdout",
     "output_type": "stream",
     "text": [
      "accuracy 0.960018159332488 and ROC-AUC 0.9922734780533673\n",
      "total 2554 :: goodware 1051 :: malware 1503 and True\n",
      "Elapsed time 16.54040709336599 mins.\n",
      "\n",
      "2022-10-31 01:21:21 Round 1 ...\n",
      "Current Task 2018-12 w/ 500 samples to Replay per Malware family.\n",
      "X_train (90000, 2381) Y_train (90000,) Y_tr_family (90000,)\n",
      "X_test (75006, 2381) Y_test (75006,) Y_te_family (75006,)\n",
      "True\n",
      "True\n",
      "True\n",
      "True\n",
      "X_replay (183410, 2381) Y_replay (183410,)\n",
      "Replay 91705 malware samples of 2693 families\n",
      "and Replay 91705 goodware samples\n",
      "Task 2018-12 and #-of new samples stored 89565\n",
      "W/O replay samples \n",
      " X_train (89565, 2381) Y_train (89565,)\n",
      "With replay samples \n",
      " X_train (272975, 2381) Y_train (272975,)\n",
      "************** ************** **************\n",
      "\n",
      "2022-10-31 01:21:32 Standardizing ...\n"
     ]
    },
    {
     "name": "stderr",
     "output_type": "stream",
     "text": [
      "\r",
      "  0%|          | 0/45 [00:00<?, ?it/s]"
     ]
    },
    {
     "name": "stdout",
     "output_type": "stream",
     "text": [
      "2022-10-31 01:21:50 Training ...\n",
      "Epoch 1 of 500\n"
     ]
    },
    {
     "name": "stderr",
     "output_type": "stream",
     "text": [
      "100%|██████████| 45/45 [00:06<00:00,  6.73it/s]\n",
      "100%|██████████| 13/13 [00:02<00:00,  4.83it/s]\n",
      "  0%|          | 0/45 [00:00<?, ?it/s]"
     ]
    },
    {
     "name": "stdout",
     "output_type": "stream",
     "text": [
      "Train Loss: 0.1153, Train Acc: 95.80\n",
      "Val Loss: 0.1018, Val Acc: 96.39\n",
      "Validation loss decreased (inf --> 0.101849).  Saving model ...\n",
      "../pjr_saved_model_first/VALID_NEW_PJR_replay_500/2018-12/best_model_epoch_1.pt\n",
      "Epoch 2 of 500\n"
     ]
    },
    {
     "name": "stderr",
     "output_type": "stream",
     "text": [
      "100%|██████████| 45/45 [00:06<00:00,  6.94it/s]\n",
      "100%|██████████| 13/13 [00:02<00:00,  5.22it/s]\n",
      "  0%|          | 0/45 [00:00<?, ?it/s]"
     ]
    },
    {
     "name": "stdout",
     "output_type": "stream",
     "text": [
      "Train Loss: 0.1100, Train Acc: 95.95\n",
      "Val Loss: 0.1004, Val Acc: 96.37\n",
      "Validation loss decreased (0.101849 --> 0.100383).  Saving model ...\n",
      "../pjr_saved_model_first/VALID_NEW_PJR_replay_500/2018-12/best_model_epoch_2.pt\n",
      "Epoch 3 of 500\n"
     ]
    },
    {
     "name": "stderr",
     "output_type": "stream",
     "text": [
      "100%|██████████| 45/45 [00:06<00:00,  6.66it/s]\n",
      "100%|██████████| 13/13 [00:02<00:00,  5.67it/s]\n",
      "  0%|          | 0/45 [00:00<?, ?it/s]"
     ]
    },
    {
     "name": "stdout",
     "output_type": "stream",
     "text": [
      "Train Loss: 0.1075, Train Acc: 96.03\n",
      "Val Loss: 0.0966, Val Acc: 96.56\n",
      "Validation loss decreased (0.100383 --> 0.096645).  Saving model ...\n",
      "../pjr_saved_model_first/VALID_NEW_PJR_replay_500/2018-12/best_model_epoch_3.pt\n",
      "Epoch 4 of 500\n"
     ]
    },
    {
     "name": "stderr",
     "output_type": "stream",
     "text": [
      "100%|██████████| 45/45 [00:06<00:00,  6.61it/s]\n",
      "100%|██████████| 13/13 [00:02<00:00,  5.91it/s]\n",
      "  0%|          | 0/45 [00:00<?, ?it/s]"
     ]
    },
    {
     "name": "stdout",
     "output_type": "stream",
     "text": [
      "Train Loss: 0.1032, Train Acc: 96.21\n",
      "Val Loss: 0.1013, Val Acc: 96.36\n",
      "EarlyStopping counter: 1 out of 5\n",
      "Epoch 5 of 500\n"
     ]
    },
    {
     "name": "stderr",
     "output_type": "stream",
     "text": [
      "100%|██████████| 45/45 [00:07<00:00,  6.40it/s]\n",
      "100%|██████████| 13/13 [00:02<00:00,  5.98it/s]\n",
      "  0%|          | 0/45 [00:00<?, ?it/s]"
     ]
    },
    {
     "name": "stdout",
     "output_type": "stream",
     "text": [
      "Train Loss: 0.1041, Train Acc: 96.17\n",
      "Val Loss: 0.1017, Val Acc: 96.48\n",
      "EarlyStopping counter: 2 out of 5\n",
      "Epoch 6 of 500\n"
     ]
    },
    {
     "name": "stderr",
     "output_type": "stream",
     "text": [
      "100%|██████████| 45/45 [00:07<00:00,  6.37it/s]\n",
      "100%|██████████| 13/13 [00:02<00:00,  5.92it/s]\n",
      "  0%|          | 0/45 [00:00<?, ?it/s]"
     ]
    },
    {
     "name": "stdout",
     "output_type": "stream",
     "text": [
      "Train Loss: 0.0981, Train Acc: 96.38\n",
      "Val Loss: 0.1033, Val Acc: 96.27\n",
      "EarlyStopping counter: 3 out of 5\n",
      "Epoch 7 of 500\n"
     ]
    },
    {
     "name": "stderr",
     "output_type": "stream",
     "text": [
      "100%|██████████| 45/45 [00:06<00:00,  6.47it/s]\n",
      "100%|██████████| 13/13 [00:02<00:00,  6.13it/s]\n",
      "  0%|          | 0/45 [00:00<?, ?it/s]"
     ]
    },
    {
     "name": "stdout",
     "output_type": "stream",
     "text": [
      "Train Loss: 0.0977, Train Acc: 96.44\n",
      "Val Loss: 0.1020, Val Acc: 96.42\n",
      "EarlyStopping counter: 4 out of 5\n",
      "Epoch 8 of 500\n"
     ]
    },
    {
     "name": "stderr",
     "output_type": "stream",
     "text": [
      "100%|██████████| 45/45 [00:06<00:00,  6.63it/s]\n",
      "100%|██████████| 13/13 [00:02<00:00,  6.25it/s]\n",
      "  8%|▊         | 1/13 [00:00<00:01,  6.80it/s]"
     ]
    },
    {
     "name": "stdout",
     "output_type": "stream",
     "text": [
      "Train Loss: 0.0964, Train Acc: 96.42\n",
      "Val Loss: 0.0992, Val Acc: 96.47\n",
      "EarlyStopping counter: 5 out of 5\n",
      "Early stopping\n",
      "Training time: 1.221 minutes\n"
     ]
    },
    {
     "name": "stderr",
     "output_type": "stream",
     "text": [
      "100%|██████████| 13/13 [00:01<00:00,  7.03it/s]"
     ]
    },
    {
     "name": "stdout",
     "output_type": "stream",
     "text": [
      "accuracy 0.9638537900025732 and ROC-AUC 0.9938441606494037\n",
      "total 2669 :: goodware 1363 :: malware 1306 and True\n",
      "Elapsed time 18.287832315762838 mins.\n",
      "Elapsed time 18.287850379943848 mins.\n"
     ]
    },
    {
     "name": "stderr",
     "output_type": "stream",
     "text": [
      "\n"
     ]
    }
   ],
   "source": [
    "\n",
    "\n",
    "\n",
    "all_task_months = ['2018-01', '2018-02', '2018-03', '2018-04', '2018-05', '2018-06',\n",
    "                   '2018-07', '2018-08', '2018-09', '2018-10', '2018-11', '2018-12']\n",
    "\n",
    "data_dir = '../../month_based_processing_with_family_labels/'\n",
    "\n",
    "\n",
    "\n",
    "patience = 5\n",
    "replay_type = 'partial_joint_replay'\n",
    "\n",
    "\n",
    "\n",
    "num_exps = 1 #args.num_exps\n",
    "#task_month = args.task_month\n",
    "num_epoch = 500 #args.num_epoch\n",
    "batch_size = 6000 #args.batch_size\n",
    "#replay_portion = args.replay_portion\n",
    "num_samples_per_malware_family = 500\n",
    "\n",
    "exp_type = 'first' #'last'\n",
    "\n",
    "exp_seeds = [random.randint(1, 99999) for i in range(num_exps)]\n",
    "\n",
    "\n",
    "allexps_acc = {}\n",
    "allexps_rocauc = {}\n",
    "allexps_training_time = {}\n",
    "all_exps_best_epoch = {}\n",
    "\n",
    "mistaken_stats = {}\n",
    "\n",
    "cnt =  1    \n",
    "for exp in exp_seeds:\n",
    "    start_time = time.time()\n",
    "    use_cuda = True\n",
    "    print('Torch', torch.__version__, 'CUDA', torch.version.cuda)\n",
    "    use_cuda = use_cuda and torch.cuda.is_available()\n",
    "    device = torch.device(\"cuda\" if use_cuda else \"cpu\")\n",
    "    torch.manual_seed(exp)\n",
    "\n",
    "    model = Ember_MLP_Net()\n",
    "    \n",
    "    optimizer = torch.optim.SGD(model.parameters(), lr=0.01, momentum=0.9, weight_decay=0.000001)\n",
    "       \n",
    "    if torch.cuda.device_count() > 1:\n",
    "        print(\"Let's use\", torch.cuda.device_count(), \"GPUs!\")\n",
    "        model = nn.DataParallel(model)\n",
    "    \n",
    "    model = model.to(device)\n",
    "    print(f'Model has {count_parameters(model)/1000000}m parameters')    \n",
    "    criterion = nn.BCELoss()    \n",
    "\n",
    "    \n",
    "    \n",
    "    stored_global_family_dict = defaultdict(list)\n",
    "    \n",
    "    standardization = StandardScaler()\n",
    "    standard_scaler = None\n",
    "    for task_month in range(len(all_task_months)):\n",
    "                \n",
    "        print(f'\\n{datetime.datetime.now().strftime(\"%Y-%m-%d %H:%M:%S\")} Round {cnt} ...')\n",
    "        task_start = time.time()\n",
    "        \n",
    "        current_task = all_task_months[task_month]\n",
    "        task_months = all_task_months[:task_month+1]\n",
    "        print(f'Current Task {current_task} w/ {num_samples_per_malware_family} samples to Replay per Malware family.')\n",
    "\n",
    "\n",
    "        model_save_dir = '../pjr_saved_model_' + str(exp_type) + '/VALID_NEW_PJR_replay_' + str(num_samples_per_malware_family) + '/' + str(current_task) + '/'\n",
    "        create_parent_folder(model_save_dir)\n",
    "        \n",
    "        results_save_dir = './saved_results_' + str(exp_type) + '/VALID_NEW_PJR_replay_' + str(num_samples_per_malware_family) + '/' \n",
    "        create_parent_folder(results_save_dir)\n",
    "\n",
    "        \n",
    "        X_train, Y_train, Y_train_family = get_family_labeled_month_data(data_dir, current_task)\n",
    "        X_test, Y_test, Y_test_family = get_family_labeled_task_test_data(data_dir, task_months, mlp_net=True)\n",
    "        \n",
    "        #X_train, Y_train, Y_train_family = get_only_av_class_labeled_samples(X_train, Y_train, Y_train_family)\n",
    "        #X_test, Y_test, Y_test_family = get_only_av_class_labeled_samples(X_test, Y_test, Y_test_family)\n",
    "        \n",
    "        # to debug\n",
    "        #X_train, Y_train, Y_train_family = X_train[:500], Y_train [:500], Y_train_family[:500]\n",
    "        #X_test, Y_test, Y_test_family = X_test[:50], Y_test[:50], Y_test_family[:50]\n",
    "        \n",
    "\n",
    "        if current_task == all_task_months[0]:\n",
    "            stored_global_family_dict = make_family_based_dict(X_train, Y_train, Y_train_family,\\\n",
    "                                                               current_task, stored_global_family_dict)\n",
    "        else:\n",
    "            if str(exp_type) == 'first':\n",
    "                X_replay, Y_replay = get_replay_samples_first(stored_global_family_dict, num_samples_per_malware_family)\n",
    "            elif str(exp_type) == 'last':\n",
    "                X_replay, Y_replay = get_replay_samples_last(stored_global_family_dict, num_samples_per_malware_family)\n",
    "            else:\n",
    "                X_replay, Y_replay = get_replay_samples(stored_global_family_dict, num_samples_per_malware_family)\n",
    "            \n",
    "            \n",
    "            \n",
    "            stored_global_family_dict = make_family_based_dict(X_train, Y_train, Y_train_family,\\\n",
    "                                                               current_task, stored_global_family_dict)\n",
    "        \n",
    "        \n",
    "        if current_task == all_task_months[0]:\n",
    "            print(f'Initial Task {current_task} X_train {X_train.shape} Y_train {Y_train.shape}')\n",
    "            print(f'************** ************** **************')\n",
    "            print()\n",
    "        else:\n",
    "            print(f'W/O replay samples \\n X_train {X_train.shape} Y_train {Y_train.shape}')\n",
    "            X_train, Y_train = np.concatenate((X_train, X_replay)), np.concatenate((Y_train, Y_replay))\n",
    "            print(f'With replay samples \\n X_train {X_train.shape} Y_train {Y_train.shape}')\n",
    "            print(f'************** ************** **************')\n",
    "            print()\n",
    "        \n",
    "        print(f'{datetime.datetime.now().strftime(\"%Y-%m-%d %H:%M:%S\")} Standardizing ...')\n",
    "        standard_scaler = standardization.partial_fit(X_train)\n",
    "\n",
    "        X_train = standard_scaler.transform(X_train)\n",
    "        X_test = standard_scaler.transform(X_test)\n",
    "\n",
    "        X_train, Y_train = np.array(X_train, np.float32), np.array(Y_train, np.int32)\n",
    "        X_test, Y_test = np.array(X_test, np.float32), np.array(Y_test, np.int32)        \n",
    "                \n",
    "        \n",
    "        print(f'{datetime.datetime.now().strftime(\"%Y-%m-%d %H:%M:%S\")} Training ...')\n",
    "        task_training_time, epoch_ran, training_loss, validation_loss  = training_early_stopping(model, model_save_dir,\\\n",
    "                                X_train, Y_train, X_test, Y_test, patience,\\\n",
    "                                batch_size, device, optimizer, num_epoch,\\\n",
    "                                 criterion, replay_type, current_task, exp, earlystopping=True)\n",
    "\n",
    "        top_k = 10\n",
    "        acc, rocauc, wrong_good, wrong_mal, top_k_mistaken_families =\\\n",
    "                                    testing_aucscore_with_mistaken_stats(model, X_test, Y_test,\\\n",
    "                                    Y_test_family, batch_size, top_k, device)\n",
    "        \n",
    "        mistaken_stats[str(current_task)] = (wrong_good, wrong_mal, top_k_mistaken_families)\n",
    "        \n",
    "        end_time = time.time()\n",
    "\n",
    "        print(f'Elapsed time {(end_time - start_time)/60} mins.')    \n",
    "        \n",
    "\n",
    "        task_end = time.time()\n",
    "        task_run_time = (task_end - task_start)/60\n",
    "        \n",
    "        \n",
    "        try:\n",
    "            allexps_acc[str(current_task)].append(acc)\n",
    "            allexps_rocauc[str(current_task)].append(rocauc)\n",
    "            allexps_training_time[str(current_task)].append(task_run_time)\n",
    "            all_exps_best_epoch[str(current_task)].append(epoch_ran)\n",
    "        except:\n",
    "            allexps_acc[str(current_task)] = [acc]\n",
    "            allexps_rocauc[str(current_task)] = [rocauc]\n",
    "            allexps_training_time[str(current_task)] = [task_run_time]\n",
    "            all_exps_best_epoch[str(current_task)] = [epoch_ran]\n",
    "        \n",
    "        \n",
    "        \n",
    "        results_f = open(os.path.join(results_save_dir + 'results_accumulated_replay_' + str(num_samples_per_malware_family) + '_results.txt'), 'a')\n",
    "        result_string = '{}\\t{}\\t{}\\t{}\\t{}\\t\\n'.format(current_task,epoch_ran, task_training_time, acc, rocauc)\n",
    "        results_f.write(result_string)\n",
    "        results_f.flush()\n",
    "        results_f.close()\n",
    "        \n",
    "\n",
    "        \n",
    "        wf = open(os.path.join(results_save_dir + 'Results_' + str(current_task) + '_' + str(num_epoch) + '_replay_' + str(num_samples_per_malware_family) + '_results.txt'), 'a')\n",
    "        task_exp_string = '\\n\\nSeed\\t{}\\t\\tRun time\\t{}\\tAcc:\\t{}\\t\\tROC_AUC:\\t{}\\n\\tepoch_ran\\t{}\\t\\n\\ntraining_loss\\t{}\\n\\nValid_loss\\t{}\\n\\n'.format(exp,task_training_time, acc, rocauc, epoch_ran, training_loss, validation_loss)\n",
    "        \n",
    "        wf.write('\\n ########################### ########################### ###########################\\n')\n",
    "        wf.write(str(model))\n",
    "        wf.write(task_exp_string)\n",
    "        \n",
    "        wf.flush()\n",
    "        wf.close()\n",
    "    \n",
    "    mistakes_f = open(os.path.join(results_save_dir + 'mistaken_stats_replay_' + str(num_samples_per_malware_family) + '.txt'), 'a')\n",
    "    mis_string = '{}\\n'.format(mistaken_stats)\n",
    "    mistakes_f.write(mis_string)\n",
    "    mistakes_f.flush()\n",
    "    mistakes_f.close()\n",
    "        \n",
    "    end_time = time.time()\n",
    "    cnt += 1\n",
    "    print(f'Elapsed time {(end_time - start_time)/60} mins.')\n",
    "    \n",
    "\n",
    "#results_save_dir = './saved_results/PJR_replay_' + str(num_samples_per_malware_family) + '/' \n",
    "#create_parent_folder(results_save_dir)\n",
    "#all_results_save_file = results_save_dir + 'PJR_acc_rocauc_tr_time_best_epoch_' + str(args.num_run) + '.npz'\n",
    "#np.savez_compressed(all_results_save_file,\n",
    "#                        accuracy = allexps_acc, rocauc = allexps_rocauc, tr_time = allexps_training_time, best_epochs = all_exps_best_epoch)\n",
    "#print(f'all results saved')\n"
   ]
  },
  {
   "cell_type": "code",
   "execution_count": 104,
   "metadata": {},
   "outputs": [
    {
     "name": "stdout",
     "output_type": "stream",
     "text": [
      "True\n",
      "True\n",
      "Invalid samples 435 and Valid samples 89565 and valid Y family 89565\n"
     ]
    }
   ],
   "source": [
    "def get_only_av_class_labeled_samples(all_X, all_Y, Y_Family):\n",
    "    \n",
    "    new_X = []\n",
    "    new_Y = []\n",
    "    new_Y_family = []\n",
    "    \n",
    "    for ind, y in enumerate(all_Y):\n",
    "        if y == 1:\n",
    "            if Y_Family[ind] != '':\n",
    "                new_Y.append(y)\n",
    "                new_X.append(all_X[ind])\n",
    "                new_Y_family.append(Y_Family[ind])\n",
    "        else:\n",
    "            new_Y.append(y)\n",
    "            new_X.append(all_X[ind])\n",
    "            new_Y_family.append(Y_Family[ind])\n",
    "            \n",
    "            \n",
    "    print(len(all_Y==1) == (len(new_Y) + (len(all_Y) - len(new_Y))))  \n",
    "    print(len(new_X) == len(new_Y))\n",
    "    return new_X, new_Y, new_Y_family\n",
    "\n",
    "validX, validY, new_Y_family = get_only_av_class_labeled_samples(X_train, Y_train, Y_train_family)\n",
    "\n",
    "print(f'Invalid samples {len(Y_train) - len(validY)} and Valid samples {len(validY)} and valid Y family {len(new_Y_family)}')"
   ]
  },
  {
   "cell_type": "code",
   "execution_count": 103,
   "metadata": {},
   "outputs": [
    {
     "name": "stdout",
     "output_type": "stream",
     "text": [
      "True\n",
      "90000\n"
     ]
    }
   ],
   "source": [
    "print(len((Y_train)) == (len(validY) + (len(Y_train) - len(validY))))\n",
    "print((len(validY) + (len(Y_train) - len(validY))))"
   ]
  },
  {
   "cell_type": "code",
   "execution_count": 26,
   "metadata": {},
   "outputs": [],
   "source": [
    "def get_mistaken_stats_in_dict(num_samples_per_family, sampling_category):\n",
    "    num_samples_per_malware_family = num_samples_per_family #100\n",
    "    \n",
    "    if sampling_category == 'last':\n",
    "        results_save_dir = './saved_results_last/NEW_PJR_replay_' + str(num_samples_per_malware_family) + '/'\n",
    "    elif sampling_category == 'first':\n",
    "        results_save_dir = './saved_results_first/NEW_PJR_replay_' + str(num_samples_per_malware_family) + '/'\n",
    "    else:\n",
    "        results_save_dir = './saved_results/NEW_PJR_replay_' + str(num_samples_per_malware_family) + '/'\n",
    "        \n",
    "    results_file = 'mistaken_stats_replay_' + str(num_samples_per_malware_family) + '.txt'\n",
    "\n",
    "    with open(results_save_dir + results_file, 'r') as f:\n",
    "        lines = f.readlines()[0]\n",
    "        lines = ast.literal_eval(lines)\n",
    "        #print(lines)\n",
    "\n",
    "    cnt = 0\n",
    "\n",
    "    good_mistakes = []\n",
    "    mal_mistakes = []\n",
    "\n",
    "    top_mistaken_families = []\n",
    "\n",
    "    for k, v in lines.items():\n",
    "        good_mistakes.append(v[0])\n",
    "        mal_mistakes.append(v[1])\n",
    "        #print(v[2][0][0])\n",
    "        for j in range(10):\n",
    "            if v[2][j][0] not in top_mistaken_families:\n",
    "                top_mistaken_families.append(v[2][j][0])\n",
    "        cnt += 1\n",
    "\n",
    "\n",
    "    row = len(top_mistaken_families)\n",
    "    column = 12\n",
    "\n",
    "    mistaks_counts = np.zeros((row, column))\n",
    "\n",
    "    cnt = 0\n",
    "    for k, v in lines.items():\n",
    "        for num_row, element in enumerate(top_mistaken_families):\n",
    "            for m in range(10):\n",
    "                if element in v[2][m]:\n",
    "                    mistaks_counts[num_row, cnt] = v[2][m][1]\n",
    "\n",
    "        cnt += 1\n",
    "\n",
    "    #print(mistaks_counts)\n",
    "\n",
    "    task_months = ['Jan', 'Feb', 'Mar', 'Apr', 'May', 'Jun', \n",
    "                   'Jul', 'Aug', 'Sep', 'Oct', 'Nov', 'Dec']\n",
    "\n",
    "    mistakes_data_by_family = {}\n",
    "\n",
    "    for month_ind, month in enumerate(task_months):\n",
    "        #if month_ind != 0:\n",
    "        mistakes_data_by_family[month] = mistaks_counts[:,month_ind]\n",
    "\n",
    "    mistakes_data_by_task = {}\n",
    "\n",
    "    for ind_fam, fam in enumerate(top_mistaken_families):\n",
    "        mistakes_data_by_task[fam] = mistaks_counts[ind_fam]\n",
    "\n",
    "\n",
    "    #print(mistakes_data_by_family)\n",
    "\n",
    "    return mistakes_data_by_task, mistakes_data_by_family, top_mistaken_families"
   ]
  },
  {
   "cell_type": "code",
   "execution_count": 54,
   "metadata": {},
   "outputs": [],
   "source": [
    "\n",
    "num_samples_per_fam = 1000\n",
    "mistakes_data_by_task, mistakes_data_by_family, top_mistaken_families = get_mistaken_stats_in_dict(num_samples_per_fam, 'first')"
   ]
  },
  {
   "cell_type": "code",
   "execution_count": 67,
   "metadata": {},
   "outputs": [
    {
     "name": "stdout",
     "output_type": "stream",
     "text": [
      "X_train (55722, 2381) Y_train (55722,) Y_tr_family (55722,)\n",
      "X_train (48723, 2381) Y_train (48723,) Y_tr_family (48723,)\n",
      "X_train (37372, 2381) Y_train (37372,) Y_tr_family (37372,)\n",
      "X_train (46873, 2381) Y_train (46873,) Y_tr_family (46873,)\n",
      "X_train (41320, 2381) Y_train (41320,) Y_tr_family (41320,)\n",
      "X_train (43560, 2381) Y_train (43560,) Y_tr_family (43560,)\n",
      "X_train (46278, 2381) Y_train (46278,) Y_tr_family (46278,)\n",
      "X_train (40882, 2381) Y_train (40882,) Y_tr_family (40882,)\n",
      "X_train (56492, 2381) Y_train (56492,) Y_tr_family (56492,)\n",
      "X_train (77772, 2381) Y_train (77772,) Y_tr_family (77772,)\n",
      "X_train (90000, 2381) Y_train (90000,) Y_tr_family (90000,)\n",
      "X_train (90000, 2381) Y_train (90000,) Y_tr_family (90000,)\n"
     ]
    }
   ],
   "source": [
    "\n",
    "task_count = 0\n",
    "row = len(top_mistaken_families)\n",
    "column = 12\n",
    "\n",
    "training_top_family_counts = np.zeros((row, column))\n",
    "\n",
    "for task_month in range(len(all_task_months)):\n",
    "\n",
    "    current_task = all_task_months[task_month]\n",
    "    task_months = all_task_months[:task_month+1]\n",
    "    \n",
    "    X_train, Y_train, Y_train_family = get_family_labeled_month_data(data_dir, current_task)\n",
    "    #X_test, Y_test, Y_test_family = get_family_labeled_task_test_data(data_dir, task_months, mlp_net=True)\n",
    "\n",
    "\n",
    "\n",
    "    for ind, y_fam in enumerate(Y_train_family):\n",
    "        if Y_train[ind] == 1:\n",
    "            #print(malware_family_dict)\n",
    "\n",
    "            for fam_ind, top_fam in enumerate(top_mistaken_families):\n",
    "                if y_fam == top_fam:\n",
    "                    training_top_family_counts[fam_ind, task_count] += 1\n",
    "                elif y_fam == '':\n",
    "                    training_top_family_counts[fam_ind, task_count] += 1\n",
    "            \n",
    "            \n",
    "    task_count += 1"
   ]
  },
  {
   "cell_type": "code",
   "execution_count": 68,
   "metadata": {},
   "outputs": [
    {
     "name": "stdout",
     "output_type": "stream",
     "text": [
      "X_test (6192, 2381) Y_test (6192,) Y_te_family (6192,)\n",
      "X_test (11606, 2381) Y_test (11606,) Y_te_family (11606,)\n",
      "X_test (15759, 2381) Y_test (15759,) Y_te_family (15759,)\n",
      "X_test (20968, 2381) Y_test (20968,) Y_te_family (20968,)\n",
      "X_test (25560, 2381) Y_test (25560,) Y_te_family (25560,)\n",
      "X_test (30401, 2381) Y_test (30401,) Y_te_family (30401,)\n",
      "X_test (35544, 2381) Y_test (35544,) Y_te_family (35544,)\n",
      "X_test (40087, 2381) Y_test (40087,) Y_te_family (40087,)\n",
      "X_test (46364, 2381) Y_test (46364,) Y_te_family (46364,)\n",
      "X_test (55006, 2381) Y_test (55006,) Y_te_family (55006,)\n",
      "X_test (65006, 2381) Y_test (65006,) Y_te_family (65006,)\n",
      "X_test (75006, 2381) Y_test (75006,) Y_te_family (75006,)\n"
     ]
    }
   ],
   "source": [
    "\n",
    "task_count = 0\n",
    "row = len(top_mistaken_families)\n",
    "column = 12\n",
    "\n",
    "test_top_family_counts = np.zeros((row, column))\n",
    "\n",
    "for task_month in range(len(all_task_months)):\n",
    "\n",
    "    current_task = all_task_months[task_month]\n",
    "    task_months = all_task_months[:task_month+1]\n",
    "    \n",
    "    #X_train, Y_train, Y_train_family = get_family_labeled_month_data(data_dir, current_task)\n",
    "    X_test, Y_test, Y_test_family = get_family_labeled_task_test_data(data_dir, task_months, mlp_net=True)\n",
    "\n",
    "\n",
    "\n",
    "    for ind, y_fam in enumerate(Y_test_family):\n",
    "        if Y_test[ind] == 1:\n",
    "            #print(malware_family_dict)\n",
    "\n",
    "            for fam_ind, top_fam in enumerate(top_mistaken_families):\n",
    "                if y_fam == top_fam:\n",
    "                    test_top_family_counts[fam_ind, task_count] += 1\n",
    "                elif y_fam == '':\n",
    "                    test_top_family_counts[fam_ind, task_count] += 1\n",
    "            \n",
    "            \n",
    "    task_count += 1"
   ]
  },
  {
   "cell_type": "code",
   "execution_count": 70,
   "metadata": {},
   "outputs": [],
   "source": [
    "task_months_ = ['Jan', 'Feb', 'Mar', 'Apr', 'May', 'Jun', \n",
    "                   'Jul', 'Aug', 'Sep', 'Oct', 'Nov', 'Dec']\n",
    "\n",
    "training_data_by_family = {}\n",
    "test_data_by_family = {}\n",
    "\n",
    "\n",
    "for month_ind, month in enumerate(task_months_):\n",
    "    training_data_by_family[month] = training_top_family_counts[:,month_ind]\n",
    "    test_data_by_family[month] = test_top_family_counts[:,month_ind]"
   ]
  },
  {
   "cell_type": "code",
   "execution_count": 76,
   "metadata": {},
   "outputs": [
    {
     "data": {
      "text/plain": [
       "10266.0"
      ]
     },
     "execution_count": 76,
     "metadata": {},
     "output_type": "execute_result"
    }
   ],
   "source": [
    "sum(training_top_family_counts[0])"
   ]
  },
  {
   "cell_type": "code",
   "execution_count": null,
   "metadata": {},
   "outputs": [],
   "source": []
  },
  {
   "cell_type": "code",
   "execution_count": 71,
   "metadata": {},
   "outputs": [
    {
     "data": {
      "image/png": "[encoded data removed]",
      "text/plain": [
       "<Figure size 1296x576 with 1 Axes>"
      ]
     },
     "metadata": {},
     "output_type": "display_data"
    }
   ],
   "source": [
    "import pandas as pd\n",
    "#import seaborn as sns\n",
    "import matplotlib.pyplot as plt\n",
    "import seaborn as sns\n",
    "\n",
    "save_file_name = f'{num_samples_per_fam}_First_Test_Samples_with_Top_{len(top_mistaken_families)}_Mistaken_Families.png'\n",
    "\n",
    "\n",
    "#sns.color_palette(\"rocket\", as_cmap=True)\n",
    "sns.set(rc={'figure.figsize':(18, 8)})\n",
    "\n",
    "\n",
    "colors = ['red', 'green', 'blue', 'black', 'purple', 'yellow', \n",
    "          'gray', 'lime', 'orange', 'brown', 'olive', 'aqua']\n",
    "\n",
    "# create DataFrame\n",
    "df = pd.DataFrame(test_data_by_family,\n",
    "                  index=top_mistaken_families)\n",
    "sns.set_theme()\n",
    "sns.set_style(\"dark\")\n",
    "\n",
    "df.plot(kind='bar', stacked=True, fontsize=20, color = colors)\n",
    "\n",
    "plt.xlabel(f'Top {len(top_mistaken_families)} Mistaken Families', fontsize=20)\n",
    "plt.ylabel(f'{num_samples_per_fam} first #of Test Samples in each Task Month', fontsize=20)\n",
    " \n",
    "# title of plot\n",
    "plt.title(f'{num_samples_per_fam} first Samples : #of Test Samples of the Top {len(top_mistaken_families)} Mistaken Families', fontsize=20)\n",
    "\n",
    "\n",
    "\n",
    "\n",
    "plt.legend(ncol=6, loc=(.055, 1.075), fontsize=20)\n",
    "\n",
    "#plt.grid(True, linestyle='--', linewidth=1.)\n",
    "plt.savefig('./figures/' + save_file_name,\n",
    "                bbox_inches='tight');"
   ]
  },
  {
   "cell_type": "code",
   "execution_count": 57,
   "metadata": {},
   "outputs": [
    {
     "data": {
      "image/png": "[encoded data removed]",
      "text/plain": [
       "<Figure size 1296x576 with 1 Axes>"
      ]
     },
     "metadata": {},
     "output_type": "display_data"
    }
   ],
   "source": [
    "import pandas as pd\n",
    "#import seaborn as sns\n",
    "import matplotlib.pyplot as plt\n",
    "import seaborn as sns\n",
    "\n",
    "save_file_name = f'{num_samples_per_fam} First Training_Samples_with_Top_{len(top_mistaken_families)}_Mistaken_Families.png'\n",
    "\n",
    "\n",
    "#sns.color_palette(\"rocket\", as_cmap=True)\n",
    "sns.set(rc={'figure.figsize':(18, 8)})\n",
    "\n",
    "\n",
    "colors = ['red', 'green', 'blue', 'black', 'purple', 'yellow', \n",
    "          'gray', 'lime', 'orange', 'brown', 'olive', 'aqua']\n",
    "\n",
    "# create DataFrame\n",
    "df = pd.DataFrame(training_data_by_family,\n",
    "                  index=top_mistaken_families)\n",
    "sns.set_theme()\n",
    "sns.set_style(\"dark\")\n",
    "\n",
    "df.plot(kind='bar', stacked=True, fontsize=20, color = colors)\n",
    "\n",
    "plt.xlabel(f'Top {len(top_mistaken_families)} Mistaken Families', fontsize=20)\n",
    "plt.ylabel(f'{num_samples_per_fam} first #of Training Samples in each Task Month', fontsize=20)\n",
    " \n",
    "# title of plot\n",
    "plt.title(f'{num_samples_per_fam} first Samples : #of Training Samples of the Top {len(top_mistaken_families)} Mistaken Families', fontsize=20)\n",
    "\n",
    "\n",
    "\n",
    "\n",
    "plt.legend(ncol=6, loc=(.055, 1.075), fontsize=20)\n",
    "\n",
    "#plt.grid(True, linestyle='--', linewidth=1.)\n",
    "plt.savefig('./figures/' + save_file_name,\n",
    "                bbox_inches='tight');"
   ]
  },
  {
   "cell_type": "code",
   "execution_count": 58,
   "metadata": {},
   "outputs": [
    {
     "data": {
      "image/png": "[encoded data removed]",
      "text/plain": [
       "<Figure size 1296x576 with 1 Axes>"
      ]
     },
     "metadata": {},
     "output_type": "display_data"
    }
   ],
   "source": [
    "import pandas as pd\n",
    "#import seaborn as sns\n",
    "import matplotlib.pyplot as plt\n",
    "import seaborn as sns\n",
    "\n",
    "save_file_name = f'First_{num_samples_per_fam}_Mistakes_stats.png'\n",
    "\n",
    "\n",
    "#sns.color_palette(\"rocket\", as_cmap=True)\n",
    "sns.set(rc={'figure.figsize':(18, 8)})\n",
    "\n",
    "\n",
    "colors = ['red', 'green', 'blue', 'black', 'purple', 'yellow', \n",
    "          'gray', 'lime', 'orange', 'brown', 'olive', 'aqua']\n",
    "\n",
    "# create DataFrame\n",
    "df = pd.DataFrame(mistakes_data_by_family,\n",
    "                  index=top_mistaken_families)\n",
    "sns.set_theme()\n",
    "sns.set_style(\"dark\")\n",
    "\n",
    "df.plot(kind='bar', stacked=True, fontsize=20, color = colors)\n",
    "\n",
    "plt.xlabel(f'Top {len(top_mistaken_families)} Mistaken Families', fontsize=20)\n",
    "plt.ylabel('#of Mistakes in each Task Month', fontsize=20)\n",
    " \n",
    "# title of plot\n",
    "plt.title(f'{num_samples_per_fam} first per family - Mistakes Statistics', fontsize=20)\n",
    "\n",
    "\n",
    "\n",
    "\n",
    "plt.legend(ncol=6, loc=(.055, 1.075), fontsize=20)\n",
    "\n",
    "#plt.grid(True, linestyle='--', linewidth=1.)\n",
    "plt.savefig('./figures/' + save_file_name,\n",
    "                bbox_inches='tight');"
   ]
  },
  {
   "cell_type": "code",
   "execution_count": 103,
   "metadata": {},
   "outputs": [
    {
     "data": {
      "text/plain": [
       "<matplotlib.legend.Legend at 0x7f8cce199d50>"
      ]
     },
     "execution_count": 103,
     "metadata": {},
     "output_type": "execute_result"
    },
    {
     "data": {
      "image/png": "[encoded data removed]",
      "text/plain": [
       "<Figure size 1296x576 with 1 Axes>"
      ]
     },
     "metadata": {},
     "output_type": "display_data"
    }
   ],
   "source": [
    "import pandas as pd\n",
    "#import seaborn as sns\n",
    "import matplotlib.pyplot as plt\n",
    "import seaborn as sns\n",
    "\n",
    "\n",
    "sns.set(rc={'figure.figsize':(18, 8)})\n",
    "\n",
    "# create DataFrame\n",
    "df = pd.DataFrame(mistakes_data,\n",
    "                  index=['Jan', 'Feb', 'Mar', 'Apr', 'May',\n",
    "                         'Jun', 'Jul', 'Aug', 'Sep', 'Oct',\n",
    "                         'Nov', 'Dec'])\n",
    "\n",
    "df.plot(kind='bar', stacked=True, fontsize=20)\n",
    "\n",
    "plt.xlabel('Incremental Months', fontsize=20)\n",
    "plt.ylabel('#of Mistakes', fontsize=20)\n",
    " \n",
    "# title of plot\n",
    "plt.title('Mistakes Statistics - Last 100 samples per family', fontsize=20)\n",
    "\n",
    "sns.set(style=\"whitegrid\")\n",
    "sns.color_palette(\"rocket\", as_cmap=True)\n",
    "\n",
    "\n",
    "plt.legend(ncol=5, loc=(-.055, 1.075), fontsize=20)"
   ]
  },
  {
   "cell_type": "code",
   "execution_count": null,
   "metadata": {},
   "outputs": [],
   "source": []
  },
  {
   "cell_type": "raw",
   "metadata": {},
   "source": [
    "def get_mistaken_stats(y_true, y_pred, Y_test_family, top_k):\n",
    "    wrong_good = 0\n",
    "    wrong_mal = 0\n",
    "    wrong_pred = 0\n",
    "    family_wrong = {}\n",
    "    for ind, y in enumerate(y_true):\n",
    "        if y != y_pred[ind]:\n",
    "            wrong_pred += 1\n",
    "\n",
    "            if y == 0:\n",
    "                wrong_good += 1\n",
    "                #print(ind, y)\n",
    "            else:\n",
    "                wrong_mal += 1\n",
    "                #print(Y_test_family[ind])\n",
    "\n",
    "                if Y_test_family[ind] == '':\n",
    "                    if \"others_family\" not in family_wrong.keys():\n",
    "                        #print('here 1')\n",
    "                        family_wrong[\"others_family\"] = 1\n",
    "                    else:\n",
    "                        #print('here 2')\n",
    "                        family_wrong[\"others_family\"] += 1\n",
    "\n",
    "                else:\n",
    "                    if Y_test_family[ind] not in family_wrong.keys():\n",
    "                        family_wrong[Y_test_family[ind]] = 1\n",
    "                    else:\n",
    "                        family_wrong[Y_test_family[ind]] += 1\n",
    "\n",
    "    top_k_mistaken_families = list(reversed(sorted(family_wrong.items(), key=lambda item: item[1])))[:top_k]          \n",
    "    print(f'total {wrong_pred} :: goodware {wrong_good} :: malware {wrong_mal} and {sum(family_wrong.values()) == wrong_mal}')\n",
    "    #print(f' {sum(family_wrong.values()) == wrong_mal}')\n",
    "    #print(f'goodware mistakes {wrong_good}')\n",
    "    #print(f'malware mistakes {wrong_mal}')\n",
    "    #print(top_10_mistaken_families)\n",
    "    \n",
    "    return wrong_good, wrong_mal, top_k_mistaken_families\n",
    "    \n",
    "\n",
    "\n",
    "\n",
    "\n",
    "def testing_aucscore_with_mistaken_stats(model, X_test, Y_test, Y_test_family, batch_size, top_k, device):\n",
    "    X_te = torch.from_numpy(X_test).type(torch.FloatTensor)\n",
    "    y_te = torch.from_numpy(Y_test).type(torch.FloatTensor)\n",
    "    test = torch.utils.data.TensorDataset(X_te, y_te)    \n",
    "    testloader = torch.utils.data.DataLoader(test, batch_size = batch_size, shuffle = False)    \n",
    "\n",
    "    model.eval()\n",
    "    y_pred_list = []\n",
    "    y_true_list = []\n",
    "    with torch.no_grad():\n",
    "        for x_batch, y_batch in tqdm(testloader):\n",
    "            x_batch, y_batch = x_batch.to(device), y_batch.to(device)\n",
    "            y_test_pred = model(x_batch)\n",
    "\n",
    "            y_pred_tag = y_test_pred.squeeze(1).float()\n",
    "            y_pred_list += list(y_pred_tag.cpu().numpy())\n",
    "            y_true_list += list(y_batch.cpu().numpy())\n",
    "\n",
    "    correct_test_results = (np.array(np.round(y_pred_list)) == np.array(y_true_list)).sum()\n",
    "    acc = correct_test_results/len(y_true_list)\n",
    "\n",
    "    roc_auc = roc_auc_score(np.array(y_true_list), np.array(y_pred_list))\n",
    "    print(f'accuracy {acc} and ROC-AUC {roc_auc}')\n",
    "\n",
    "    wrong_good, wrong_mal, top_k_mistaken_families = \\\n",
    "                get_mistaken_stats(y_true, y_pred, Y_test_family, top_k)\n",
    "    \n",
    "    return acc, roc_auc, wrong_good, wrong_mal, top_k_mistaken_families\n",
    "\n"
   ]
  },
  {
   "cell_type": "code",
   "execution_count": null,
   "metadata": {},
   "outputs": [],
   "source": []
  }
 ],
 "metadata": {
  "kernelspec": {
   "display_name": "PyTorch",
   "language": "python",
   "name": "pytorch"
  },
  "language_info": {
   "codemirror_mode": {
    "name": "ipython",
    "version": 3
   },
   "file_extension": ".py",
   "mimetype": "text/x-python",
   "name": "python",
   "nbconvert_exporter": "python",
   "pygments_lexer": "ipython3",
   "version": "3.7.9"
  }
 },
 "nbformat": 4,
 "nbformat_minor": 5
}
