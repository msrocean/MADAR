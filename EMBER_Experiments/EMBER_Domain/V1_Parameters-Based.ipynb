{
 "cells": [
  {
   "cell_type": "code",
   "execution_count": 102,
   "metadata": {},
   "outputs": [],
   "source": [
    "import numpy as np\n",
    "import random\n",
    "import datetime\n",
    "import time\n",
    "import os\n",
    "from collections import defaultdict\n",
    "from sklearn.preprocessing import StandardScaler\n",
    "from sklearn.ensemble import IsolationForest\n",
    "import matplotlib.pyplot as plt\n",
    "from tqdm import tqdm\n",
    "import ast\n",
    "import pandas as pd\n",
    "import seaborn as sns\n",
    "\n",
    "import argparse\n",
    "import torch\n",
    "import torchvision\n",
    "import torch.nn as nn\n",
    "import torch.optim as optim\n",
    "import torch.nn.functional as F\n",
    "from torchvision import transforms, utils, datasets\n",
    "from torch.utils.data import Dataset, DataLoader\n",
    "\n",
    "import matplotlib.pyplot as plt\n",
    "from scipy import stats\n",
    "import seaborn as sns\n",
    "plt.rcParams['font.size'] = 18\n",
    "#plt.rcParams['font.family'] = \"serif\"\n",
    "tdir = 'in'\n",
    "major = 5.0\n",
    "minor = 3.0\n",
    "plt.rcParams['xtick.direction'] = tdir\n",
    "plt.rcParams['ytick.direction'] = tdir\n",
    "plt.rcParams['xtick.major.size'] = major\n",
    "plt.rcParams['xtick.minor.size'] = minor\n",
    "plt.rcParams['ytick.major.size'] = major\n",
    "plt.rcParams['ytick.minor.size'] = minor\n",
    "\n",
    "\n",
    "from ember_utils import *\n",
    "from ember_model import *\n",
    "from ember_pjr_utils import *"
   ]
  },
  {
   "cell_type": "code",
   "execution_count": null,
   "metadata": {},
   "outputs": [
    {
     "name": "stdout",
     "output_type": "stream",
     "text": [
      "Torch 1.6.0 CUDA 10.2\n",
      "Model has 3.132161m parameters\n",
      "\n",
      "2023-01-19 02:34:38 Round 1 ...\n",
      "Current Task 2018-01 w/ 500 samples to Replay per Malware family.\n",
      "X_train (55722, 2381) Y_train (55722,) Y_tr_family (55722,)\n",
      "X_test (6192, 2381) Y_test (6192,) Y_te_family (6192,)\n",
      "2023-01-19 02:34:39 Standardizing ...\n"
     ]
    },
    {
     "name": "stderr",
     "output_type": "stream",
     "text": [
      "\r",
      "  0%|          | 0/9 [00:00<?, ?it/s]"
     ]
    },
    {
     "name": "stdout",
     "output_type": "stream",
     "text": [
      "\n",
      "X_train (55722, 2381) Y_train (55722,)\n",
      "\n",
      "2023-01-19 02:34:42 Training ...\n",
      "Epoch 1 of 500\n"
     ]
    },
    {
     "name": "stderr",
     "output_type": "stream",
     "text": [
      "100%|██████████| 9/9 [00:01<00:00,  5.00it/s]\n",
      "100%|██████████| 2/2 [00:00<00:00,  2.75it/s]\n",
      "  0%|          | 0/9 [00:00<?, ?it/s]"
     ]
    },
    {
     "name": "stdout",
     "output_type": "stream",
     "text": [
      "Train Loss: 0.7172, Train Acc: 0.5262\n",
      "Val Loss: 0.6819, Val Acc: 0.6292\n",
      "Validation loss decreased (inf --> 0.681884).  Saving model ...\n",
      "../Weights_model_weights/Weights_replay_500/2018-01/best_model_epoch_1.pt\n",
      "../Weights_optimizer_weights/Weights_replay_500/2018-01/best_optimizer_epoch_1.pt\n",
      "Epoch 2 of 500\n"
     ]
    },
    {
     "name": "stderr",
     "output_type": "stream",
     "text": [
      "100%|██████████| 9/9 [00:01<00:00,  6.20it/s]\n",
      "100%|██████████| 2/2 [00:00<00:00, 14.56it/s]\n",
      "  0%|          | 0/9 [00:00<?, ?it/s]"
     ]
    },
    {
     "name": "stdout",
     "output_type": "stream",
     "text": [
      "Train Loss: 0.6664, Train Acc: 0.6091\n",
      "Val Loss: 0.6455, Val Acc: 0.6789\n",
      "Validation loss decreased (0.681884 --> 0.645491).  Saving model ...\n",
      "../Weights_model_weights/Weights_replay_500/2018-01/best_model_epoch_2.pt\n",
      "../Weights_optimizer_weights/Weights_replay_500/2018-01/best_optimizer_epoch_2.pt\n",
      "Epoch 3 of 500\n"
     ]
    },
    {
     "name": "stderr",
     "output_type": "stream",
     "text": [
      "100%|██████████| 9/9 [00:01<00:00,  6.00it/s]\n",
      "100%|██████████| 2/2 [00:00<00:00, 11.22it/s]\n",
      "  0%|          | 0/9 [00:00<?, ?it/s]"
     ]
    },
    {
     "name": "stdout",
     "output_type": "stream",
     "text": [
      "Train Loss: 0.6187, Train Acc: 0.6829\n",
      "Val Loss: 0.5891, Val Acc: 0.7156\n",
      "Validation loss decreased (0.645491 --> 0.589064).  Saving model ...\n",
      "../Weights_model_weights/Weights_replay_500/2018-01/best_model_epoch_3.pt\n",
      "../Weights_optimizer_weights/Weights_replay_500/2018-01/best_optimizer_epoch_3.pt\n",
      "Epoch 4 of 500\n"
     ]
    },
    {
     "name": "stderr",
     "output_type": "stream",
     "text": [
      "100%|██████████| 9/9 [00:01<00:00,  4.76it/s]\n",
      "100%|██████████| 2/2 [00:00<00:00, 12.83it/s]\n",
      "  0%|          | 0/9 [00:00<?, ?it/s]"
     ]
    },
    {
     "name": "stdout",
     "output_type": "stream",
     "text": [
      "Train Loss: 0.5654, Train Acc: 0.7226\n",
      "Val Loss: 0.5194, Val Acc: 0.7825\n",
      "Validation loss decreased (0.589064 --> 0.519355).  Saving model ...\n",
      "../Weights_model_weights/Weights_replay_500/2018-01/best_model_epoch_4.pt\n",
      "../Weights_optimizer_weights/Weights_replay_500/2018-01/best_optimizer_epoch_4.pt\n",
      "Epoch 5 of 500\n"
     ]
    },
    {
     "name": "stderr",
     "output_type": "stream",
     "text": [
      "100%|██████████| 9/9 [00:02<00:00,  4.45it/s]\n",
      "100%|██████████| 2/2 [00:00<00:00, 11.87it/s]\n",
      "  0%|          | 0/9 [00:00<?, ?it/s]"
     ]
    },
    {
     "name": "stdout",
     "output_type": "stream",
     "text": [
      "Train Loss: 0.5102, Train Acc: 0.7575\n",
      "Val Loss: 0.4571, Val Acc: 0.7981\n",
      "Validation loss decreased (0.519355 --> 0.457085).  Saving model ...\n",
      "../Weights_model_weights/Weights_replay_500/2018-01/best_model_epoch_5.pt\n",
      "../Weights_optimizer_weights/Weights_replay_500/2018-01/best_optimizer_epoch_5.pt\n",
      "Epoch 6 of 500\n"
     ]
    },
    {
     "name": "stderr",
     "output_type": "stream",
     "text": [
      "100%|██████████| 9/9 [00:01<00:00,  5.79it/s]\n",
      "100%|██████████| 2/2 [00:00<00:00, 11.11it/s]\n",
      "  0%|          | 0/9 [00:00<?, ?it/s]"
     ]
    },
    {
     "name": "stdout",
     "output_type": "stream",
     "text": [
      "Train Loss: 0.4621, Train Acc: 0.7829\n",
      "Val Loss: 0.4076, Val Acc: 0.8128\n",
      "Validation loss decreased (0.457085 --> 0.407604).  Saving model ...\n",
      "../Weights_model_weights/Weights_replay_500/2018-01/best_model_epoch_6.pt\n",
      "../Weights_optimizer_weights/Weights_replay_500/2018-01/best_optimizer_epoch_6.pt\n",
      "Epoch 7 of 500\n"
     ]
    },
    {
     "name": "stderr",
     "output_type": "stream",
     "text": [
      "100%|██████████| 9/9 [00:01<00:00,  5.29it/s]\n",
      "100%|██████████| 2/2 [00:00<00:00, 12.83it/s]\n",
      "  0%|          | 0/9 [00:00<?, ?it/s]"
     ]
    },
    {
     "name": "stdout",
     "output_type": "stream",
     "text": [
      "Train Loss: 0.4236, Train Acc: 0.8032\n",
      "Val Loss: 0.3658, Val Acc: 0.8344\n",
      "Validation loss decreased (0.407604 --> 0.365778).  Saving model ...\n",
      "../Weights_model_weights/Weights_replay_500/2018-01/best_model_epoch_7.pt\n",
      "../Weights_optimizer_weights/Weights_replay_500/2018-01/best_optimizer_epoch_7.pt\n",
      "Epoch 8 of 500\n"
     ]
    },
    {
     "name": "stderr",
     "output_type": "stream",
     "text": [
      "100%|██████████| 9/9 [00:01<00:00,  5.10it/s]\n",
      "100%|██████████| 2/2 [00:00<00:00,  5.75it/s]\n",
      "  0%|          | 0/9 [00:00<?, ?it/s]"
     ]
    },
    {
     "name": "stdout",
     "output_type": "stream",
     "text": [
      "Train Loss: 0.3863, Train Acc: 0.8235\n",
      "Val Loss: 0.3283, Val Acc: 0.8600\n",
      "Validation loss decreased (0.365778 --> 0.328322).  Saving model ...\n",
      "../Weights_model_weights/Weights_replay_500/2018-01/best_model_epoch_8.pt\n",
      "../Weights_optimizer_weights/Weights_replay_500/2018-01/best_optimizer_epoch_8.pt\n",
      "Epoch 9 of 500\n"
     ]
    },
    {
     "name": "stderr",
     "output_type": "stream",
     "text": [
      "100%|██████████| 9/9 [00:01<00:00,  5.78it/s]\n",
      "100%|██████████| 2/2 [00:00<00:00, 11.25it/s]\n",
      "  0%|          | 0/9 [00:00<?, ?it/s]"
     ]
    },
    {
     "name": "stdout",
     "output_type": "stream",
     "text": [
      "Train Loss: 0.3546, Train Acc: 0.8413\n",
      "Val Loss: 0.2964, Val Acc: 0.8802\n",
      "Validation loss decreased (0.328322 --> 0.296375).  Saving model ...\n",
      "../Weights_model_weights/Weights_replay_500/2018-01/best_model_epoch_9.pt\n",
      "../Weights_optimizer_weights/Weights_replay_500/2018-01/best_optimizer_epoch_9.pt\n",
      "Epoch 10 of 500\n"
     ]
    },
    {
     "name": "stderr",
     "output_type": "stream",
     "text": [
      "100%|██████████| 9/9 [00:01<00:00,  5.08it/s]\n",
      "100%|██████████| 2/2 [00:00<00:00, 12.81it/s]\n",
      "  0%|          | 0/9 [00:00<?, ?it/s]"
     ]
    },
    {
     "name": "stdout",
     "output_type": "stream",
     "text": [
      "Train Loss: 0.3312, Train Acc: 0.8551\n",
      "Val Loss: 0.2731, Val Acc: 0.8833\n",
      "Validation loss decreased (0.296375 --> 0.273139).  Saving model ...\n",
      "../Weights_model_weights/Weights_replay_500/2018-01/best_model_epoch_10.pt\n",
      "../Weights_optimizer_weights/Weights_replay_500/2018-01/best_optimizer_epoch_10.pt\n",
      "Epoch 11 of 500\n"
     ]
    },
    {
     "name": "stderr",
     "output_type": "stream",
     "text": [
      "100%|██████████| 9/9 [00:01<00:00,  5.88it/s]\n",
      "100%|██████████| 2/2 [00:00<00:00, 13.09it/s]\n",
      "  0%|          | 0/9 [00:00<?, ?it/s]"
     ]
    },
    {
     "name": "stdout",
     "output_type": "stream",
     "text": [
      "Train Loss: 0.3061, Train Acc: 0.8652\n",
      "Val Loss: 0.2571, Val Acc: 0.8924\n",
      "Validation loss decreased (0.273139 --> 0.257081).  Saving model ...\n",
      "../Weights_model_weights/Weights_replay_500/2018-01/best_model_epoch_11.pt\n",
      "../Weights_optimizer_weights/Weights_replay_500/2018-01/best_optimizer_epoch_11.pt\n",
      "Epoch 12 of 500\n"
     ]
    },
    {
     "name": "stderr",
     "output_type": "stream",
     "text": [
      "100%|██████████| 9/9 [00:01<00:00,  5.38it/s]\n",
      "100%|██████████| 2/2 [00:00<00:00, 12.30it/s]\n",
      "  0%|          | 0/9 [00:00<?, ?it/s]"
     ]
    },
    {
     "name": "stdout",
     "output_type": "stream",
     "text": [
      "Train Loss: 0.2860, Train Acc: 0.8779\n",
      "Val Loss: 0.2450, Val Acc: 0.8898\n",
      "Validation loss decreased (0.257081 --> 0.244997).  Saving model ...\n",
      "../Weights_model_weights/Weights_replay_500/2018-01/best_model_epoch_12.pt\n",
      "../Weights_optimizer_weights/Weights_replay_500/2018-01/best_optimizer_epoch_12.pt\n",
      "Epoch 13 of 500\n"
     ]
    },
    {
     "name": "stderr",
     "output_type": "stream",
     "text": [
      "100%|██████████| 9/9 [00:01<00:00,  5.50it/s]\n",
      "100%|██████████| 2/2 [00:00<00:00, 11.32it/s]\n",
      "  0%|          | 0/9 [00:00<?, ?it/s]"
     ]
    },
    {
     "name": "stdout",
     "output_type": "stream",
     "text": [
      "Train Loss: 0.2753, Train Acc: 0.8824\n",
      "Val Loss: 0.2376, Val Acc: 0.8997\n",
      "Validation loss decreased (0.244997 --> 0.237641).  Saving model ...\n",
      "../Weights_model_weights/Weights_replay_500/2018-01/best_model_epoch_13.pt\n",
      "../Weights_optimizer_weights/Weights_replay_500/2018-01/best_optimizer_epoch_13.pt\n",
      "Epoch 14 of 500\n"
     ]
    },
    {
     "name": "stderr",
     "output_type": "stream",
     "text": [
      "100%|██████████| 9/9 [00:01<00:00,  5.53it/s]\n",
      "100%|██████████| 2/2 [00:00<00:00,  5.57it/s]\n",
      "  0%|          | 0/9 [00:00<?, ?it/s]"
     ]
    },
    {
     "name": "stdout",
     "output_type": "stream",
     "text": [
      "Train Loss: 0.2606, Train Acc: 0.8888\n",
      "Val Loss: 0.2285, Val Acc: 0.8996\n",
      "Validation loss decreased (0.237641 --> 0.228548).  Saving model ...\n",
      "../Weights_model_weights/Weights_replay_500/2018-01/best_model_epoch_14.pt\n",
      "../Weights_optimizer_weights/Weights_replay_500/2018-01/best_optimizer_epoch_14.pt\n",
      "Epoch 15 of 500\n"
     ]
    },
    {
     "name": "stderr",
     "output_type": "stream",
     "text": [
      "100%|██████████| 9/9 [00:01<00:00,  5.89it/s]\n",
      "100%|██████████| 2/2 [00:00<00:00, 12.84it/s]\n",
      "  0%|          | 0/9 [00:00<?, ?it/s]"
     ]
    },
    {
     "name": "stdout",
     "output_type": "stream",
     "text": [
      "Train Loss: 0.2467, Train Acc: 0.8961\n",
      "Val Loss: 0.2254, Val Acc: 0.9041\n",
      "Validation loss decreased (0.228548 --> 0.225355).  Saving model ...\n",
      "../Weights_model_weights/Weights_replay_500/2018-01/best_model_epoch_15.pt\n",
      "../Weights_optimizer_weights/Weights_replay_500/2018-01/best_optimizer_epoch_15.pt\n",
      "Epoch 16 of 500\n"
     ]
    },
    {
     "name": "stderr",
     "output_type": "stream",
     "text": [
      "100%|██████████| 9/9 [00:01<00:00,  5.36it/s]\n",
      "100%|██████████| 2/2 [00:00<00:00, 12.39it/s]\n",
      "  0%|          | 0/9 [00:00<?, ?it/s]"
     ]
    },
    {
     "name": "stdout",
     "output_type": "stream",
     "text": [
      "Train Loss: 0.2402, Train Acc: 0.8996\n",
      "Val Loss: 0.2212, Val Acc: 0.9060\n",
      "Validation loss decreased (0.225355 --> 0.221194).  Saving model ...\n",
      "../Weights_model_weights/Weights_replay_500/2018-01/best_model_epoch_16.pt\n",
      "../Weights_optimizer_weights/Weights_replay_500/2018-01/best_optimizer_epoch_16.pt\n",
      "Epoch 17 of 500\n"
     ]
    },
    {
     "name": "stderr",
     "output_type": "stream",
     "text": [
      "100%|██████████| 9/9 [00:01<00:00,  4.55it/s]\n",
      "100%|██████████| 2/2 [00:00<00:00, 11.10it/s]\n",
      "  0%|          | 0/9 [00:00<?, ?it/s]"
     ]
    },
    {
     "name": "stdout",
     "output_type": "stream",
     "text": [
      "Train Loss: 0.2321, Train Acc: 0.9051\n",
      "Val Loss: 0.2172, Val Acc: 0.9103\n",
      "Validation loss decreased (0.221194 --> 0.217219).  Saving model ...\n",
      "../Weights_model_weights/Weights_replay_500/2018-01/best_model_epoch_17.pt\n",
      "../Weights_optimizer_weights/Weights_replay_500/2018-01/best_optimizer_epoch_17.pt\n",
      "Epoch 18 of 500\n"
     ]
    },
    {
     "name": "stderr",
     "output_type": "stream",
     "text": [
      "100%|██████████| 9/9 [00:01<00:00,  5.78it/s]\n",
      "100%|██████████| 2/2 [00:00<00:00, 12.69it/s]\n",
      "  0%|          | 0/9 [00:00<?, ?it/s]"
     ]
    },
    {
     "name": "stdout",
     "output_type": "stream",
     "text": [
      "Train Loss: 0.2221, Train Acc: 0.9095\n",
      "Val Loss: 0.2099, Val Acc: 0.9121\n",
      "Validation loss decreased (0.217219 --> 0.209932).  Saving model ...\n",
      "../Weights_model_weights/Weights_replay_500/2018-01/best_model_epoch_18.pt\n",
      "../Weights_optimizer_weights/Weights_replay_500/2018-01/best_optimizer_epoch_18.pt\n",
      "Epoch 19 of 500\n"
     ]
    },
    {
     "name": "stderr",
     "output_type": "stream",
     "text": [
      "100%|██████████| 9/9 [00:01<00:00,  5.37it/s]\n",
      "100%|██████████| 2/2 [00:00<00:00, 12.14it/s]\n",
      "  0%|          | 0/9 [00:00<?, ?it/s]"
     ]
    },
    {
     "name": "stdout",
     "output_type": "stream",
     "text": [
      "Train Loss: 0.2173, Train Acc: 0.9115\n",
      "Val Loss: 0.2093, Val Acc: 0.9148\n",
      "Validation loss decreased (0.209932 --> 0.209315).  Saving model ...\n",
      "../Weights_model_weights/Weights_replay_500/2018-01/best_model_epoch_19.pt\n",
      "../Weights_optimizer_weights/Weights_replay_500/2018-01/best_optimizer_epoch_19.pt\n",
      "Epoch 20 of 500\n"
     ]
    },
    {
     "name": "stderr",
     "output_type": "stream",
     "text": [
      "100%|██████████| 9/9 [00:01<00:00,  5.43it/s]\n",
      "100%|██████████| 2/2 [00:00<00:00, 11.27it/s]\n",
      "  0%|          | 0/9 [00:00<?, ?it/s]"
     ]
    },
    {
     "name": "stdout",
     "output_type": "stream",
     "text": [
      "Train Loss: 0.2072, Train Acc: 0.9156\n",
      "Val Loss: 0.2055, Val Acc: 0.9193\n",
      "Validation loss decreased (0.209315 --> 0.205530).  Saving model ...\n",
      "../Weights_model_weights/Weights_replay_500/2018-01/best_model_epoch_20.pt\n",
      "../Weights_optimizer_weights/Weights_replay_500/2018-01/best_optimizer_epoch_20.pt\n",
      "Epoch 21 of 500\n"
     ]
    },
    {
     "name": "stderr",
     "output_type": "stream",
     "text": [
      "100%|██████████| 9/9 [00:01<00:00,  4.57it/s]\n",
      "100%|██████████| 2/2 [00:00<00:00,  5.53it/s]\n",
      "  0%|          | 0/9 [00:00<?, ?it/s]"
     ]
    },
    {
     "name": "stdout",
     "output_type": "stream",
     "text": [
      "Train Loss: 0.2034, Train Acc: 0.9187\n",
      "Val Loss: 0.2024, Val Acc: 0.9207\n",
      "Validation loss decreased (0.205530 --> 0.202421).  Saving model ...\n",
      "../Weights_model_weights/Weights_replay_500/2018-01/best_model_epoch_21.pt\n",
      "../Weights_optimizer_weights/Weights_replay_500/2018-01/best_optimizer_epoch_21.pt\n",
      "Epoch 22 of 500\n"
     ]
    },
    {
     "name": "stderr",
     "output_type": "stream",
     "text": [
      "100%|██████████| 9/9 [00:01<00:00,  5.88it/s]\n",
      "100%|██████████| 2/2 [00:00<00:00, 12.15it/s]\n",
      "  0%|          | 0/9 [00:00<?, ?it/s]"
     ]
    },
    {
     "name": "stdout",
     "output_type": "stream",
     "text": [
      "Train Loss: 0.1992, Train Acc: 0.9207\n",
      "Val Loss: 0.2018, Val Acc: 0.9204\n",
      "Validation loss decreased (0.202421 --> 0.201778).  Saving model ...\n",
      "../Weights_model_weights/Weights_replay_500/2018-01/best_model_epoch_22.pt\n",
      "../Weights_optimizer_weights/Weights_replay_500/2018-01/best_optimizer_epoch_22.pt\n",
      "Epoch 23 of 500\n"
     ]
    },
    {
     "name": "stderr",
     "output_type": "stream",
     "text": [
      "100%|██████████| 9/9 [00:01<00:00,  5.87it/s]\n",
      "100%|██████████| 2/2 [00:00<00:00, 12.55it/s]\n",
      "  0%|          | 0/9 [00:00<?, ?it/s]"
     ]
    },
    {
     "name": "stdout",
     "output_type": "stream",
     "text": [
      "Train Loss: 0.1920, Train Acc: 0.9231\n",
      "Val Loss: 0.1984, Val Acc: 0.9214\n",
      "Validation loss decreased (0.201778 --> 0.198449).  Saving model ...\n",
      "../Weights_model_weights/Weights_replay_500/2018-01/best_model_epoch_23.pt\n",
      "../Weights_optimizer_weights/Weights_replay_500/2018-01/best_optimizer_epoch_23.pt\n",
      "Epoch 24 of 500\n"
     ]
    },
    {
     "name": "stderr",
     "output_type": "stream",
     "text": [
      "100%|██████████| 9/9 [00:01<00:00,  5.43it/s]\n",
      "100%|██████████| 2/2 [00:00<00:00, 11.28it/s]\n",
      "  0%|          | 0/9 [00:00<?, ?it/s]"
     ]
    },
    {
     "name": "stdout",
     "output_type": "stream",
     "text": [
      "Train Loss: 0.1920, Train Acc: 0.9232\n",
      "Val Loss: 0.1959, Val Acc: 0.9198\n",
      "Validation loss decreased (0.198449 --> 0.195865).  Saving model ...\n",
      "../Weights_model_weights/Weights_replay_500/2018-01/best_model_epoch_24.pt\n",
      "../Weights_optimizer_weights/Weights_replay_500/2018-01/best_optimizer_epoch_24.pt\n",
      "Epoch 25 of 500\n"
     ]
    },
    {
     "name": "stderr",
     "output_type": "stream",
     "text": [
      "100%|██████████| 9/9 [00:01<00:00,  5.41it/s]\n",
      "100%|██████████| 2/2 [00:00<00:00, 12.60it/s]\n",
      "  0%|          | 0/9 [00:00<?, ?it/s]"
     ]
    },
    {
     "name": "stdout",
     "output_type": "stream",
     "text": [
      "Train Loss: 0.1895, Train Acc: 0.9239\n",
      "Val Loss: 0.1980, Val Acc: 0.9122\n",
      "EarlyStopping counter: 1 out of 5\n",
      "Epoch 26 of 500\n"
     ]
    },
    {
     "name": "stderr",
     "output_type": "stream",
     "text": [
      "100%|██████████| 9/9 [00:01<00:00,  5.54it/s]\n",
      "100%|██████████| 2/2 [00:00<00:00,  6.05it/s]\n",
      "  0%|          | 0/9 [00:00<?, ?it/s]"
     ]
    },
    {
     "name": "stdout",
     "output_type": "stream",
     "text": [
      "Train Loss: 0.1828, Train Acc: 0.9280\n",
      "Val Loss: 0.1967, Val Acc: 0.9130\n",
      "EarlyStopping counter: 2 out of 5\n",
      "Epoch 27 of 500\n"
     ]
    },
    {
     "name": "stderr",
     "output_type": "stream",
     "text": [
      "100%|██████████| 9/9 [00:01<00:00,  5.80it/s]\n",
      "100%|██████████| 2/2 [00:00<00:00, 12.91it/s]\n",
      "  0%|          | 0/9 [00:00<?, ?it/s]"
     ]
    },
    {
     "name": "stdout",
     "output_type": "stream",
     "text": [
      "Train Loss: 0.1765, Train Acc: 0.9305\n",
      "Val Loss: 0.1906, Val Acc: 0.9223\n",
      "Validation loss decreased (0.195865 --> 0.190605).  Saving model ...\n",
      "../Weights_model_weights/Weights_replay_500/2018-01/best_model_epoch_27.pt\n",
      "../Weights_optimizer_weights/Weights_replay_500/2018-01/best_optimizer_epoch_27.pt\n",
      "Epoch 28 of 500\n"
     ]
    },
    {
     "name": "stderr",
     "output_type": "stream",
     "text": [
      "100%|██████████| 9/9 [00:01<00:00,  6.61it/s]\n",
      "100%|██████████| 2/2 [00:00<00:00, 12.48it/s]\n",
      "  0%|          | 0/9 [00:00<?, ?it/s]"
     ]
    },
    {
     "name": "stdout",
     "output_type": "stream",
     "text": [
      "Train Loss: 0.1731, Train Acc: 0.9313\n",
      "Val Loss: 0.1902, Val Acc: 0.9177\n",
      "Validation loss decreased (0.190605 --> 0.190150).  Saving model ...\n",
      "../Weights_model_weights/Weights_replay_500/2018-01/best_model_epoch_28.pt\n",
      "../Weights_optimizer_weights/Weights_replay_500/2018-01/best_optimizer_epoch_28.pt\n",
      "Epoch 29 of 500\n"
     ]
    },
    {
     "name": "stderr",
     "output_type": "stream",
     "text": [
      "100%|██████████| 9/9 [00:01<00:00,  5.70it/s]\n",
      "100%|██████████| 2/2 [00:00<00:00, 10.04it/s]\n",
      "  0%|          | 0/9 [00:00<?, ?it/s]"
     ]
    },
    {
     "name": "stdout",
     "output_type": "stream",
     "text": [
      "Train Loss: 0.1711, Train Acc: 0.9322\n",
      "Val Loss: 0.1895, Val Acc: 0.9185\n",
      "Validation loss decreased (0.190150 --> 0.189490).  Saving model ...\n",
      "../Weights_model_weights/Weights_replay_500/2018-01/best_model_epoch_29.pt\n",
      "../Weights_optimizer_weights/Weights_replay_500/2018-01/best_optimizer_epoch_29.pt\n",
      "Epoch 30 of 500\n"
     ]
    },
    {
     "name": "stderr",
     "output_type": "stream",
     "text": [
      "100%|██████████| 9/9 [00:01<00:00,  5.50it/s]\n",
      "100%|██████████| 2/2 [00:00<00:00, 13.10it/s]\n",
      "  0%|          | 0/9 [00:00<?, ?it/s]"
     ]
    },
    {
     "name": "stdout",
     "output_type": "stream",
     "text": [
      "Train Loss: 0.1710, Train Acc: 0.9314\n",
      "Val Loss: 0.1889, Val Acc: 0.9180\n",
      "Validation loss decreased (0.189490 --> 0.188888).  Saving model ...\n",
      "../Weights_model_weights/Weights_replay_500/2018-01/best_model_epoch_30.pt\n",
      "../Weights_optimizer_weights/Weights_replay_500/2018-01/best_optimizer_epoch_30.pt\n",
      "Epoch 31 of 500\n"
     ]
    },
    {
     "name": "stderr",
     "output_type": "stream",
     "text": [
      "100%|██████████| 9/9 [00:01<00:00,  5.42it/s]\n",
      "100%|██████████| 2/2 [00:00<00:00, 12.77it/s]\n",
      "  0%|          | 0/9 [00:00<?, ?it/s]"
     ]
    },
    {
     "name": "stdout",
     "output_type": "stream",
     "text": [
      "Train Loss: 0.1677, Train Acc: 0.9343\n",
      "Val Loss: 0.1838, Val Acc: 0.9246\n",
      "Validation loss decreased (0.188888 --> 0.183821).  Saving model ...\n",
      "../Weights_model_weights/Weights_replay_500/2018-01/best_model_epoch_31.pt\n",
      "../Weights_optimizer_weights/Weights_replay_500/2018-01/best_optimizer_epoch_31.pt\n",
      "Epoch 32 of 500\n"
     ]
    },
    {
     "name": "stderr",
     "output_type": "stream",
     "text": [
      "100%|██████████| 9/9 [00:01<00:00,  5.51it/s]\n",
      "100%|██████████| 2/2 [00:00<00:00,  5.58it/s]\n",
      "  0%|          | 0/9 [00:00<?, ?it/s]"
     ]
    },
    {
     "name": "stdout",
     "output_type": "stream",
     "text": [
      "Train Loss: 0.1603, Train Acc: 0.9366\n",
      "Val Loss: 0.1872, Val Acc: 0.9211\n",
      "EarlyStopping counter: 1 out of 5\n",
      "Epoch 33 of 500\n"
     ]
    },
    {
     "name": "stderr",
     "output_type": "stream",
     "text": [
      "100%|██████████| 9/9 [00:01<00:00,  5.99it/s]\n",
      "100%|██████████| 2/2 [00:00<00:00, 12.85it/s]\n",
      "  0%|          | 0/9 [00:00<?, ?it/s]"
     ]
    },
    {
     "name": "stdout",
     "output_type": "stream",
     "text": [
      "Train Loss: 0.1606, Train Acc: 0.9362\n",
      "Val Loss: 0.1860, Val Acc: 0.9261\n",
      "EarlyStopping counter: 2 out of 5\n",
      "Epoch 34 of 500\n"
     ]
    },
    {
     "name": "stderr",
     "output_type": "stream",
     "text": [
      "100%|██████████| 9/9 [00:01<00:00,  5.06it/s]\n",
      "100%|██████████| 2/2 [00:00<00:00, 11.29it/s]\n",
      "  0%|          | 0/9 [00:00<?, ?it/s]"
     ]
    },
    {
     "name": "stdout",
     "output_type": "stream",
     "text": [
      "Train Loss: 0.1555, Train Acc: 0.9386\n",
      "Val Loss: 0.1849, Val Acc: 0.9278\n",
      "EarlyStopping counter: 3 out of 5\n",
      "Epoch 35 of 500\n"
     ]
    },
    {
     "name": "stderr",
     "output_type": "stream",
     "text": [
      "100%|██████████| 9/9 [00:01<00:00,  5.88it/s]\n",
      "100%|██████████| 2/2 [00:00<00:00, 12.75it/s]\n",
      "  0%|          | 0/9 [00:00<?, ?it/s]"
     ]
    },
    {
     "name": "stdout",
     "output_type": "stream",
     "text": [
      "Train Loss: 0.1560, Train Acc: 0.9385\n",
      "Val Loss: 0.1799, Val Acc: 0.9279\n",
      "Validation loss decreased (0.183821 --> 0.179870).  Saving model ...\n",
      "../Weights_model_weights/Weights_replay_500/2018-01/best_model_epoch_35.pt\n",
      "../Weights_optimizer_weights/Weights_replay_500/2018-01/best_optimizer_epoch_35.pt\n",
      "Epoch 36 of 500\n"
     ]
    },
    {
     "name": "stderr",
     "output_type": "stream",
     "text": [
      "100%|██████████| 9/9 [00:01<00:00,  5.56it/s]\n",
      "100%|██████████| 2/2 [00:00<00:00, 12.30it/s]\n",
      "  0%|          | 0/9 [00:00<?, ?it/s]"
     ]
    },
    {
     "name": "stdout",
     "output_type": "stream",
     "text": [
      "Train Loss: 0.1529, Train Acc: 0.9391\n",
      "Val Loss: 0.1819, Val Acc: 0.9231\n",
      "EarlyStopping counter: 1 out of 5\n",
      "Epoch 37 of 500\n"
     ]
    },
    {
     "name": "stderr",
     "output_type": "stream",
     "text": [
      "100%|██████████| 9/9 [00:01<00:00,  5.91it/s]\n",
      "100%|██████████| 2/2 [00:00<00:00, 11.37it/s]\n",
      "  0%|          | 0/9 [00:00<?, ?it/s]"
     ]
    },
    {
     "name": "stdout",
     "output_type": "stream",
     "text": [
      "Train Loss: 0.1519, Train Acc: 0.9397\n",
      "Val Loss: 0.1798, Val Acc: 0.9231\n",
      "Validation loss decreased (0.179870 --> 0.179799).  Saving model ...\n",
      "../Weights_model_weights/Weights_replay_500/2018-01/best_model_epoch_37.pt\n",
      "../Weights_optimizer_weights/Weights_replay_500/2018-01/best_optimizer_epoch_37.pt\n",
      "Epoch 38 of 500\n"
     ]
    },
    {
     "name": "stderr",
     "output_type": "stream",
     "text": [
      "100%|██████████| 9/9 [00:01<00:00,  5.93it/s]\n",
      "100%|██████████| 2/2 [00:00<00:00,  5.65it/s]\n",
      "  0%|          | 0/9 [00:00<?, ?it/s]"
     ]
    },
    {
     "name": "stdout",
     "output_type": "stream",
     "text": [
      "Train Loss: 0.1489, Train Acc: 0.9414\n",
      "Val Loss: 0.1758, Val Acc: 0.9308\n",
      "Validation loss decreased (0.179799 --> 0.175781).  Saving model ...\n",
      "../Weights_model_weights/Weights_replay_500/2018-01/best_model_epoch_38.pt\n",
      "../Weights_optimizer_weights/Weights_replay_500/2018-01/best_optimizer_epoch_38.pt\n",
      "Epoch 39 of 500\n"
     ]
    },
    {
     "name": "stderr",
     "output_type": "stream",
     "text": [
      "100%|██████████| 9/9 [00:01<00:00,  6.36it/s]\n",
      "100%|██████████| 2/2 [00:00<00:00, 12.51it/s]\n",
      "  0%|          | 0/9 [00:00<?, ?it/s]"
     ]
    },
    {
     "name": "stdout",
     "output_type": "stream",
     "text": [
      "Train Loss: 0.1472, Train Acc: 0.9442\n",
      "Val Loss: 0.1751, Val Acc: 0.9285\n",
      "Validation loss decreased (0.175781 --> 0.175075).  Saving model ...\n",
      "../Weights_model_weights/Weights_replay_500/2018-01/best_model_epoch_39.pt\n",
      "../Weights_optimizer_weights/Weights_replay_500/2018-01/best_optimizer_epoch_39.pt\n",
      "Epoch 40 of 500\n"
     ]
    },
    {
     "name": "stderr",
     "output_type": "stream",
     "text": [
      "100%|██████████| 9/9 [00:01<00:00,  5.88it/s]\n",
      "100%|██████████| 2/2 [00:00<00:00, 12.71it/s]\n",
      "  0%|          | 0/9 [00:00<?, ?it/s]"
     ]
    },
    {
     "name": "stdout",
     "output_type": "stream",
     "text": [
      "Train Loss: 0.1418, Train Acc: 0.9444\n",
      "Val Loss: 0.1778, Val Acc: 0.9282\n",
      "EarlyStopping counter: 1 out of 5\n",
      "Epoch 41 of 500\n"
     ]
    },
    {
     "name": "stderr",
     "output_type": "stream",
     "text": [
      "100%|██████████| 9/9 [00:01<00:00,  5.88it/s]\n",
      "100%|██████████| 2/2 [00:00<00:00, 12.77it/s]\n",
      "  0%|          | 0/9 [00:00<?, ?it/s]"
     ]
    },
    {
     "name": "stdout",
     "output_type": "stream",
     "text": [
      "Train Loss: 0.1418, Train Acc: 0.9451\n",
      "Val Loss: 0.1793, Val Acc: 0.9257\n",
      "EarlyStopping counter: 2 out of 5\n",
      "Epoch 42 of 500\n"
     ]
    },
    {
     "name": "stderr",
     "output_type": "stream",
     "text": [
      "100%|██████████| 9/9 [00:01<00:00,  5.52it/s]\n",
      "100%|██████████| 2/2 [00:00<00:00, 12.88it/s]\n",
      "  0%|          | 0/9 [00:00<?, ?it/s]"
     ]
    },
    {
     "name": "stdout",
     "output_type": "stream",
     "text": [
      "Train Loss: 0.1416, Train Acc: 0.9449\n",
      "Val Loss: 0.1722, Val Acc: 0.9315\n",
      "Validation loss decreased (0.175075 --> 0.172201).  Saving model ...\n",
      "../Weights_model_weights/Weights_replay_500/2018-01/best_model_epoch_42.pt\n",
      "../Weights_optimizer_weights/Weights_replay_500/2018-01/best_optimizer_epoch_42.pt\n",
      "Epoch 43 of 500\n"
     ]
    },
    {
     "name": "stderr",
     "output_type": "stream",
     "text": [
      "100%|██████████| 9/9 [00:01<00:00,  5.48it/s]\n",
      "100%|██████████| 2/2 [00:00<00:00, 12.89it/s]\n",
      "  0%|          | 0/9 [00:00<?, ?it/s]"
     ]
    },
    {
     "name": "stdout",
     "output_type": "stream",
     "text": [
      "Train Loss: 0.1394, Train Acc: 0.9462\n",
      "Val Loss: 0.1759, Val Acc: 0.9215\n",
      "EarlyStopping counter: 1 out of 5\n",
      "Epoch 44 of 500\n"
     ]
    },
    {
     "name": "stderr",
     "output_type": "stream",
     "text": [
      "100%|██████████| 9/9 [00:01<00:00,  5.54it/s]\n",
      "100%|██████████| 2/2 [00:00<00:00,  6.29it/s]\n",
      "  0%|          | 0/9 [00:00<?, ?it/s]"
     ]
    },
    {
     "name": "stdout",
     "output_type": "stream",
     "text": [
      "Train Loss: 0.1362, Train Acc: 0.9464\n",
      "Val Loss: 0.1764, Val Acc: 0.9289\n",
      "EarlyStopping counter: 2 out of 5\n",
      "Epoch 45 of 500\n"
     ]
    },
    {
     "name": "stderr",
     "output_type": "stream",
     "text": [
      "100%|██████████| 9/9 [00:01<00:00,  5.77it/s]\n",
      "100%|██████████| 2/2 [00:00<00:00, 12.85it/s]\n",
      "  0%|          | 0/9 [00:00<?, ?it/s]"
     ]
    },
    {
     "name": "stdout",
     "output_type": "stream",
     "text": [
      "Train Loss: 0.1349, Train Acc: 0.9478\n",
      "Val Loss: 0.1748, Val Acc: 0.9271\n",
      "EarlyStopping counter: 3 out of 5\n",
      "Epoch 46 of 500\n"
     ]
    },
    {
     "name": "stderr",
     "output_type": "stream",
     "text": [
      "100%|██████████| 9/9 [00:01<00:00,  5.91it/s]\n",
      "100%|██████████| 2/2 [00:00<00:00, 13.86it/s]\n",
      "  0%|          | 0/9 [00:00<?, ?it/s]"
     ]
    },
    {
     "name": "stdout",
     "output_type": "stream",
     "text": [
      "Train Loss: 0.1315, Train Acc: 0.9493\n",
      "Val Loss: 0.1668, Val Acc: 0.9325\n",
      "Validation loss decreased (0.172201 --> 0.166823).  Saving model ...\n",
      "../Weights_model_weights/Weights_replay_500/2018-01/best_model_epoch_46.pt\n",
      "../Weights_optimizer_weights/Weights_replay_500/2018-01/best_optimizer_epoch_46.pt\n",
      "Epoch 47 of 500\n"
     ]
    },
    {
     "name": "stderr",
     "output_type": "stream",
     "text": [
      "100%|██████████| 9/9 [00:01<00:00,  5.91it/s]\n",
      "100%|██████████| 2/2 [00:00<00:00, 12.43it/s]\n",
      "  0%|          | 0/9 [00:00<?, ?it/s]"
     ]
    },
    {
     "name": "stdout",
     "output_type": "stream",
     "text": [
      "Train Loss: 0.1316, Train Acc: 0.9488\n",
      "Val Loss: 0.1736, Val Acc: 0.9248\n",
      "EarlyStopping counter: 1 out of 5\n",
      "Epoch 48 of 500\n"
     ]
    },
    {
     "name": "stderr",
     "output_type": "stream",
     "text": [
      "100%|██████████| 9/9 [00:01<00:00,  5.99it/s]\n",
      "100%|██████████| 2/2 [00:00<00:00, 10.77it/s]\n",
      "  0%|          | 0/9 [00:00<?, ?it/s]"
     ]
    },
    {
     "name": "stdout",
     "output_type": "stream",
     "text": [
      "Train Loss: 0.1314, Train Acc: 0.9484\n",
      "Val Loss: 0.1709, Val Acc: 0.9272\n",
      "EarlyStopping counter: 2 out of 5\n",
      "Epoch 49 of 500\n"
     ]
    },
    {
     "name": "stderr",
     "output_type": "stream",
     "text": [
      "100%|██████████| 9/9 [00:01<00:00,  5.42it/s]\n",
      "100%|██████████| 2/2 [00:00<00:00, 13.12it/s]\n",
      "  0%|          | 0/9 [00:00<?, ?it/s]"
     ]
    },
    {
     "name": "stdout",
     "output_type": "stream",
     "text": [
      "Train Loss: 0.1285, Train Acc: 0.9499\n",
      "Val Loss: 0.1681, Val Acc: 0.9301\n",
      "EarlyStopping counter: 3 out of 5\n",
      "Epoch 50 of 500\n"
     ]
    },
    {
     "name": "stderr",
     "output_type": "stream",
     "text": [
      "100%|██████████| 9/9 [00:01<00:00,  5.44it/s]\n",
      "100%|██████████| 2/2 [00:00<00:00, 12.78it/s]\n",
      "  0%|          | 0/9 [00:00<?, ?it/s]"
     ]
    },
    {
     "name": "stdout",
     "output_type": "stream",
     "text": [
      "Train Loss: 0.1279, Train Acc: 0.9510\n",
      "Val Loss: 0.1705, Val Acc: 0.9299\n",
      "EarlyStopping counter: 4 out of 5\n",
      "Epoch 51 of 500\n"
     ]
    },
    {
     "name": "stderr",
     "output_type": "stream",
     "text": [
      "100%|██████████| 9/9 [00:01<00:00,  5.52it/s]\n",
      "100%|██████████| 2/2 [00:00<00:00,  5.77it/s]\n",
      "  0%|          | 0/9 [00:00<?, ?it/s]"
     ]
    },
    {
     "name": "stdout",
     "output_type": "stream",
     "text": [
      "Train Loss: 0.1260, Train Acc: 0.9516\n",
      "Val Loss: 0.1641, Val Acc: 0.9336\n",
      "Validation loss decreased (0.166823 --> 0.164099).  Saving model ...\n",
      "../Weights_model_weights/Weights_replay_500/2018-01/best_model_epoch_51.pt\n",
      "../Weights_optimizer_weights/Weights_replay_500/2018-01/best_optimizer_epoch_51.pt\n",
      "Epoch 52 of 500\n"
     ]
    },
    {
     "name": "stderr",
     "output_type": "stream",
     "text": [
      "100%|██████████| 9/9 [00:01<00:00,  5.82it/s]\n",
      "100%|██████████| 2/2 [00:00<00:00, 12.82it/s]\n",
      "  0%|          | 0/9 [00:00<?, ?it/s]"
     ]
    },
    {
     "name": "stdout",
     "output_type": "stream",
     "text": [
      "Train Loss: 0.1256, Train Acc: 0.9508\n",
      "Val Loss: 0.1618, Val Acc: 0.9360\n",
      "Validation loss decreased (0.164099 --> 0.161753).  Saving model ...\n",
      "../Weights_model_weights/Weights_replay_500/2018-01/best_model_epoch_52.pt\n",
      "../Weights_optimizer_weights/Weights_replay_500/2018-01/best_optimizer_epoch_52.pt\n",
      "Epoch 53 of 500\n"
     ]
    },
    {
     "name": "stderr",
     "output_type": "stream",
     "text": [
      "100%|██████████| 9/9 [00:01<00:00,  5.81it/s]\n",
      "100%|██████████| 2/2 [00:00<00:00, 12.83it/s]\n",
      "  0%|          | 0/9 [00:00<?, ?it/s]"
     ]
    },
    {
     "name": "stdout",
     "output_type": "stream",
     "text": [
      "Train Loss: 0.1230, Train Acc: 0.9517\n",
      "Val Loss: 0.1676, Val Acc: 0.9332\n",
      "EarlyStopping counter: 1 out of 5\n",
      "Epoch 54 of 500\n"
     ]
    },
    {
     "name": "stderr",
     "output_type": "stream",
     "text": [
      "100%|██████████| 9/9 [00:01<00:00,  5.87it/s]\n",
      "100%|██████████| 2/2 [00:00<00:00, 12.79it/s]\n",
      "  0%|          | 0/9 [00:00<?, ?it/s]"
     ]
    },
    {
     "name": "stdout",
     "output_type": "stream",
     "text": [
      "Train Loss: 0.1207, Train Acc: 0.9528\n",
      "Val Loss: 0.1612, Val Acc: 0.9364\n",
      "Validation loss decreased (0.161753 --> 0.161192).  Saving model ...\n",
      "../Weights_model_weights/Weights_replay_500/2018-01/best_model_epoch_54.pt\n",
      "../Weights_optimizer_weights/Weights_replay_500/2018-01/best_optimizer_epoch_54.pt\n",
      "Epoch 55 of 500\n"
     ]
    },
    {
     "name": "stderr",
     "output_type": "stream",
     "text": [
      "100%|██████████| 9/9 [00:01<00:00,  5.55it/s]\n",
      "100%|██████████| 2/2 [00:00<00:00, 14.48it/s]\n",
      "  0%|          | 0/9 [00:00<?, ?it/s]"
     ]
    },
    {
     "name": "stdout",
     "output_type": "stream",
     "text": [
      "Train Loss: 0.1169, Train Acc: 0.9539\n",
      "Val Loss: 0.1592, Val Acc: 0.9368\n",
      "Validation loss decreased (0.161192 --> 0.159186).  Saving model ...\n",
      "../Weights_model_weights/Weights_replay_500/2018-01/best_model_epoch_55.pt\n",
      "../Weights_optimizer_weights/Weights_replay_500/2018-01/best_optimizer_epoch_55.pt\n",
      "Epoch 56 of 500\n"
     ]
    },
    {
     "name": "stderr",
     "output_type": "stream",
     "text": [
      "100%|██████████| 9/9 [00:01<00:00,  5.60it/s]\n",
      "100%|██████████| 2/2 [00:00<00:00,  6.33it/s]\n",
      "  0%|          | 0/9 [00:00<?, ?it/s]"
     ]
    },
    {
     "name": "stdout",
     "output_type": "stream",
     "text": [
      "Train Loss: 0.1176, Train Acc: 0.9549\n",
      "Val Loss: 0.1623, Val Acc: 0.9342\n",
      "EarlyStopping counter: 1 out of 5\n",
      "Epoch 57 of 500\n"
     ]
    },
    {
     "name": "stderr",
     "output_type": "stream",
     "text": [
      "100%|██████████| 9/9 [00:01<00:00,  5.96it/s]\n",
      "100%|██████████| 2/2 [00:00<00:00, 13.16it/s]\n",
      "  0%|          | 0/9 [00:00<?, ?it/s]"
     ]
    },
    {
     "name": "stdout",
     "output_type": "stream",
     "text": [
      "Train Loss: 0.1144, Train Acc: 0.9559\n",
      "Val Loss: 0.1590, Val Acc: 0.9292\n",
      "Validation loss decreased (0.159186 --> 0.158984).  Saving model ...\n",
      "../Weights_model_weights/Weights_replay_500/2018-01/best_model_epoch_57.pt\n",
      "../Weights_optimizer_weights/Weights_replay_500/2018-01/best_optimizer_epoch_57.pt\n",
      "Epoch 58 of 500\n"
     ]
    },
    {
     "name": "stderr",
     "output_type": "stream",
     "text": [
      "100%|██████████| 9/9 [00:01<00:00,  5.90it/s]\n",
      "100%|██████████| 2/2 [00:00<00:00, 12.67it/s]\n",
      "  0%|          | 0/9 [00:00<?, ?it/s]"
     ]
    },
    {
     "name": "stdout",
     "output_type": "stream",
     "text": [
      "Train Loss: 0.1140, Train Acc: 0.9564\n",
      "Val Loss: 0.1611, Val Acc: 0.9352\n",
      "EarlyStopping counter: 1 out of 5\n",
      "Epoch 59 of 500\n"
     ]
    },
    {
     "name": "stderr",
     "output_type": "stream",
     "text": [
      "100%|██████████| 9/9 [00:01<00:00,  5.95it/s]\n",
      "100%|██████████| 2/2 [00:00<00:00, 12.86it/s]\n",
      "  0%|          | 0/9 [00:00<?, ?it/s]"
     ]
    },
    {
     "name": "stdout",
     "output_type": "stream",
     "text": [
      "Train Loss: 0.1156, Train Acc: 0.9549\n",
      "Val Loss: 0.1631, Val Acc: 0.9381\n",
      "EarlyStopping counter: 2 out of 5\n",
      "Epoch 60 of 500\n"
     ]
    },
    {
     "name": "stderr",
     "output_type": "stream",
     "text": [
      "100%|██████████| 9/9 [00:01<00:00,  5.50it/s]\n",
      "100%|██████████| 2/2 [00:00<00:00, 12.70it/s]\n",
      "  0%|          | 0/9 [00:00<?, ?it/s]"
     ]
    },
    {
     "name": "stdout",
     "output_type": "stream",
     "text": [
      "Train Loss: 0.1085, Train Acc: 0.9587\n",
      "Val Loss: 0.1664, Val Acc: 0.9367\n",
      "EarlyStopping counter: 3 out of 5\n",
      "Epoch 61 of 500\n"
     ]
    },
    {
     "name": "stderr",
     "output_type": "stream",
     "text": [
      "100%|██████████| 9/9 [00:01<00:00,  5.13it/s]\n",
      "100%|██████████| 2/2 [00:00<00:00, 12.79it/s]\n",
      "  0%|          | 0/9 [00:00<?, ?it/s]"
     ]
    },
    {
     "name": "stdout",
     "output_type": "stream",
     "text": [
      "Train Loss: 0.1104, Train Acc: 0.9573\n",
      "Val Loss: 0.1645, Val Acc: 0.9401\n",
      "EarlyStopping counter: 4 out of 5\n",
      "Epoch 62 of 500\n"
     ]
    },
    {
     "name": "stderr",
     "output_type": "stream",
     "text": [
      "100%|██████████| 9/9 [00:01<00:00,  4.71it/s]\n",
      "100%|██████████| 2/2 [00:00<00:00, 10.73it/s]\n",
      "  0%|          | 0/2 [00:00<?, ?it/s]"
     ]
    },
    {
     "name": "stdout",
     "output_type": "stream",
     "text": [
      "Train Loss: 0.1098, Train Acc: 0.9588\n",
      "Val Loss: 0.1666, Val Acc: 0.9324\n",
      "EarlyStopping counter: 5 out of 5\n",
      "Early stopping\n",
      "Training time: 1.963 minutes\n",
      "loading best model ../Weights_model_weights/Weights_replay_500/2018-01/best_model_epoch_57.pt\n",
      "loading best optimizer ../Weights_optimizer_weights/Weights_replay_500/2018-01/best_optimizer_epoch_57.pt\n"
     ]
    },
    {
     "name": "stderr",
     "output_type": "stream",
     "text": [
      "100%|██████████| 2/2 [00:00<00:00,  2.86it/s]\n"
     ]
    },
    {
     "name": "stdout",
     "output_type": "stream",
     "text": [
      "test accuracy 0.9334583580493927 and ROC-AUC 0.9396782327010419\n",
      "Elapsed time 2.0444429755210876 mins.\n",
      "\n"
     ]
    }
   ],
   "source": [
    "def get_weights(model, data, layer, device):\n",
    "    \n",
    "    \n",
    "    model.eval()\n",
    "    \n",
    "    weights_ = []\n",
    "    \n",
    "    for sample in data:\n",
    "        X_ = torch.from_numpy(sample).type(torch.FloatTensor)\n",
    "        X_ = X_.reshape(1, -1).to(device)\n",
    "        \n",
    "        activation = {}\n",
    "        def get_activation(name):\n",
    "            def hook(model, input, output):\n",
    "                activation[name] = output.detach()\n",
    "            return hook\n",
    "        \n",
    "        \n",
    "        if layer == 'fc2':\n",
    "            model.fc2.register_forward_hook(get_activation(layer))\n",
    "        elif layer == 'fc3':\n",
    "            model.fc3.register_forward_hook(get_activation(layer))\n",
    "        elif layer == 'fc4':\n",
    "            model.fc4.register_forward_hook(get_activation(layer))\n",
    "            \n",
    "        output = model(X_)\n",
    "        weights_.append(activation[layer].cpu().numpy()[0])\n",
    "    \n",
    "    return weights_\n",
    "\n",
    "\n",
    "def get_anomalyScoresSamples(weight_data, raw_data, chooseSample = True):\n",
    "    clf = IsolationForest(max_samples=len(weight_data))\n",
    "    clf.fit(weight_data)\n",
    "    scores_prediction = clf.decision_function(weight_data)\n",
    "    y_pred = clf.predict(weight_data)\n",
    "\n",
    "\n",
    "    anomalous_idx = np.where(y_pred == -1.0)\n",
    "    similar_idx = np.where(y_pred == 1.0)\n",
    "\n",
    "    print(f'anomaly-similar samples {len(anomalous_idx[0])} - {len(similar_idx[0])}')\n",
    "    \n",
    "    if chooseSample:\n",
    "        raw_data = np.array(raw_data)\n",
    "        anomaly_samples = raw_data[anomalous_idx]\n",
    "        similar_samples = random.sample(list(raw_data[similar_idx]), len(anomaly_samples))\n",
    "\n",
    "        mal_replay_samples = np.concatenate((np.array(anomaly_samples), np.array(similar_samples)))\n",
    "\n",
    "        return mal_replay_samples, scores_prediction\n",
    "    else:\n",
    "        return scores_prediction\n",
    "\n",
    "\n",
    "def get_anomalySamples(X_train, model, device):\n",
    "    layer = 'fc4'\n",
    "    wegt = get_weights(model, X_train, layer, device)\n",
    "    mal_raw = X_train[np.where(Y_train == 1)]\n",
    "    mal_weight = np.array(wegt)[np.where(Y_train == 1)]\n",
    "    \n",
    "    \n",
    "    good_weight_samples = X_train[np.where(Y_train == 0)]\n",
    "    mal_weight_samples = X_train[np.where(Y_train == 1)]\n",
    "    \n",
    "    replay_mal_samples, anomalyscores = get_anomalyScoresSamples(mal_weight,\\\n",
    "                                         mal_weight_samples, chooseSample = True)\n",
    "    \n",
    "    \n",
    "    if len(good_weight_samples) < len(replay_mal_samples):\n",
    "        replay_good_samples = good_weight_samples\n",
    "    else:\n",
    "        replay_good_samples = random.sample(list(good_weight_samples), len(replay_mal_samples))\n",
    "    \n",
    "    \n",
    "    replay_samples = np.concatenate((np.array(replay_good_samples), np.array(replay_mal_samples)))\n",
    "    labels_to_replay = np.concatenate((np.zeros(len(replay_good_samples)), np.ones(len(replay_mal_samples))))\n",
    "    \n",
    "    return replay_samples, labels_to_replay, anomalyscores\n",
    "\n",
    "\n",
    "\n",
    "all_task_months = ['2018-01', '2018-02', '2018-03', '2018-04', '2018-05', '2018-06',\n",
    "                   '2018-07', '2018-08', '2018-09', '2018-10', '2018-11', '2018-12']\n",
    "\n",
    "data_dir = '../../month_based_processing_with_family_labels/'\n",
    "\n",
    "\n",
    "\n",
    "patience = 5\n",
    "replay_type = 'pjr'\n",
    "\n",
    "\n",
    "\n",
    "num_exps = 1 #args.num_exps\n",
    "#task_month = args.task_month\n",
    "num_epoch = 500 #args.num_epoch\n",
    "batch_size = 6000 #args.batch_size\n",
    "num_samples_per_malware_family = 500\n",
    "\n",
    "exp_type = 'weights'\n",
    "\n",
    "exp_seeds = [random.randint(1, 99999) for i in range(num_exps)]\n",
    "\n",
    "\n",
    "expSaveDir = '../Weights_'\n",
    "resSaveDir = './Weights_'\n",
    "expSaveFile = '/Weights_replay_'\n",
    "\n",
    "\n",
    "raw_anomalyScores_Dict = {}\n",
    "weight_anomalyScores_Dict = {}\n",
    "\n",
    "\n",
    "cnt =  1    \n",
    "for exp in exp_seeds:\n",
    "    start_time = time.time()\n",
    "    use_cuda = True\n",
    "    print('Torch', torch.__version__, 'CUDA', torch.version.cuda)\n",
    "    use_cuda = use_cuda and torch.cuda.is_available()\n",
    "    device = torch.device(\"cuda\" if use_cuda else \"cpu\")\n",
    "    torch.manual_seed(exp)\n",
    "\n",
    "    model = Ember_MLP_Net()\n",
    "    \n",
    "    optimizer = torch.optim.SGD(model.parameters(), lr=0.01, momentum=0.9, weight_decay=0.000001)\n",
    "       \n",
    "    if torch.cuda.device_count() > 1:\n",
    "        print(\"Let's use\", torch.cuda.device_count(), \"GPUs!\")\n",
    "        model = nn.DataParallel(model)\n",
    "    \n",
    "    model = model.to(device)\n",
    "    print(f'Model has {count_parameters(model)/1000000}m parameters')    \n",
    "    criterion = nn.BCELoss()    \n",
    "\n",
    "    \n",
    "    \n",
    "    stored_global_family_dict = defaultdict(list)\n",
    "    \n",
    "    standardization = StandardScaler()\n",
    "    standard_scaler = None\n",
    "    for task_month in range(len(all_task_months)):\n",
    "                \n",
    "        print(f'\\n{datetime.datetime.now().strftime(\"%Y-%m-%d %H:%M:%S\")} Round {cnt} ...')\n",
    "        task_start = time.time()\n",
    "        \n",
    "        #task_month = task_month\n",
    "        current_task = all_task_months[task_month]\n",
    "        task_months = all_task_months[:task_month+1]\n",
    "        print(f'Current Task {current_task} w/ {num_samples_per_malware_family} samples to Replay per Malware family.')\n",
    "\n",
    "\n",
    "        model_save_dir = str(expSaveDir) + 'model_' +\\\n",
    "                    str(exp_type) + str(expSaveFile) +\\\n",
    "                    str(num_samples_per_malware_family) + '/' + str(current_task) + '/'\n",
    "        create_parent_folder(model_save_dir)\n",
    "        \n",
    "        opt_save_path = str(expSaveDir) + 'optimizer_' +\\\n",
    "                    str(exp_type) + str(expSaveFile) +\\\n",
    "                    str(num_samples_per_malware_family) + '/' + str(current_task) + '/'\n",
    "        create_parent_folder(opt_save_path)\n",
    "        \n",
    "        \n",
    "        results_save_dir = str(resSaveDir) + 'results_' +\\\n",
    "                    str(exp_type) + str(expSaveFile) +\\\n",
    "                    str(num_samples_per_malware_family) + '/' \n",
    "        create_parent_folder(results_save_dir)\n",
    "\n",
    "        \n",
    "        X_train, Y_train, Y_train_family = get_family_labeled_month_data(data_dir, current_task)\n",
    "        X_test, Y_test, Y_test_family = get_family_labeled_task_test_data(data_dir, task_months, mlp_net=True)\n",
    "        \n",
    "        \n",
    "        if current_task != all_task_months[0]:\n",
    "            X_train = np.concatenate((np.array(X_train), np.array(X_replay)))\n",
    "            Y_train = np.concatenate((np.array(Y_train), np.array(Y_replay)))\n",
    "        \n",
    "        \n",
    "        print(f'{datetime.datetime.now().strftime(\"%Y-%m-%d %H:%M:%S\")} Standardizing ...')\n",
    "        standard_scaler = standardization.partial_fit(X_train)\n",
    "\n",
    "        X_train = standard_scaler.transform(X_train)\n",
    "        X_test = standard_scaler.transform(X_test)\n",
    "\n",
    "        X_train, Y_train = np.array(X_train, np.float32), np.array(Y_train, np.int32)\n",
    "        X_test, Y_test = np.array(X_test, np.float32), np.array(Y_test, np.int32)        \n",
    "        \n",
    "        \n",
    "        # to debug\n",
    "        #X_train, Y_train, Y_train_family = X_train[:500], Y_train [:500], Y_train_family[:500]\n",
    "        #X_test, Y_test, Y_test_family = X_test[:50], Y_test[:50], Y_test_family[:50]\n",
    "        \n",
    "        \n",
    "\n",
    "#         if current_task == all_task_months[0]:\n",
    "#             num_replay_samples = 0\n",
    "#             stored_global_family_dict = make_family_based_dict(\\\n",
    "#                                        X_train, Y_train, Y_train_family,\\\n",
    "#                                        current_task, stored_global_family_dict)\n",
    "#         else:\n",
    "#             stored_global_family_dict = make_family_based_dict(X_train, Y_train, Y_train_family,\\\n",
    "#                                                                    current_task, stored_global_family_dict)\n",
    "            \n",
    "#             X_train, Y_train, stored_global_family_dict =\\\n",
    "#                 get_replay_samples_IFBased(stored_global_family_dict, num_samples_per_malware_family)\n",
    "            \n",
    "        print()\n",
    "        print(f'X_train {X_train.shape} Y_train {Y_train.shape}')\n",
    "        print()\n",
    "        \n",
    "        '''\n",
    "        print(f'{datetime.datetime.now().strftime(\"%Y-%m-%d %H:%M:%S\")} Standardizing ...')\n",
    "        standard_scaler = standardization.partial_fit(X_train)\n",
    "\n",
    "        X_train = standard_scaler.transform(X_train)\n",
    "        X_test = standard_scaler.transform(X_test)\n",
    "\n",
    "        X_train, Y_train = np.array(X_train, np.float32), np.array(Y_train, np.int32)\n",
    "        X_test, Y_test = np.array(X_test, np.float32), np.array(Y_test, np.int32)        \n",
    "        '''        \n",
    "        \n",
    "        print(f'{datetime.datetime.now().strftime(\"%Y-%m-%d %H:%M:%S\")} Training ...')\n",
    "        task_training_time, epoch_ran, training_loss, validation_loss  =\\\n",
    "                                training_early_stopping(model, model_save_dir, opt_save_path,\\\n",
    "                                X_train, Y_train, X_test, Y_test, patience,\\\n",
    "                                batch_size, device, optimizer, num_epoch,\\\n",
    "                                 criterion, replay_type, current_task, exp, earlystopping=True)\n",
    "        \n",
    "        \n",
    "        \n",
    "        model = Ember_MLP_Net()\n",
    "        model = model.to(device)\n",
    "        #load the best model for this task\n",
    "        best_model_path = model_save_dir + os.listdir(model_save_dir)[0]\n",
    "        print(f'loading best model {best_model_path}')\n",
    "        model.load_state_dict(torch.load(best_model_path))\n",
    "        \n",
    "        \n",
    "        optimizer = torch.optim.SGD(model.parameters(), lr=0.01, momentum=0.9, weight_decay=0.000001)\n",
    "        best_optimizer = opt_save_path + os.listdir(opt_save_path)[0]\n",
    "        print(f'loading best optimizer {best_optimizer}')\n",
    "        optimizer.load_state_dict(torch.load(best_optimizer))\n",
    "        \n",
    "        \n",
    "        \n",
    "        acc, rocauc = testing_aucscore(model, X_test, Y_test, batch_size, device)\n",
    "        \n",
    "        \n",
    "        end_time = time.time()\n",
    "\n",
    "        print(f'Elapsed time {(end_time - start_time)/60} mins.')    \n",
    "        \n",
    "\n",
    "        task_end = time.time()\n",
    "        task_run_time = (task_end - task_start)/60\n",
    "        \n",
    "        \n",
    "        print()\n",
    "        X_replay, Y_replay, mal_weights_anomaly = get_anomalySamples(X_train, model, device)\n",
    "        num_replay_samples = len(X_replay)\n",
    "        \n",
    "#         mal_raw = X_train[np.where(Y_train == 1)]\n",
    "#         mal_raw_anomaly = get_anomalyScoresSamples(mal_raw,\\\n",
    "#                                          mal_raw, chooseSample = False)\n",
    "    \n",
    "        #raw_anomalyScores_Dict[str(current_task)] = mal_raw_anomaly\n",
    "        weight_anomalyScores_Dict[str(current_task)] = mal_weights_anomaly\n",
    "        print()\n",
    "        \n",
    "        \n",
    "        results_f = open(os.path.join(results_save_dir + 'v1_weight_' + str(num_samples_per_malware_family) + '_results.txt'), 'a')\n",
    "        result_string = '{}\\t{}\\t{}\\t{}\\t{}\\t{}\\t\\n'.format(current_task,epoch_ran, task_training_time, acc, rocauc, num_replay_samples)\n",
    "        results_f.write(result_string)\n",
    "        results_f.flush()\n",
    "        results_f.close()\n",
    "        \n",
    "    \n",
    "    end_time = time.time()\n",
    "    cnt += 1\n",
    "    print(f'Elapsed time {(end_time - start_time)/60} mins.')\n",
    "   \n"
   ]
  },
  {
   "cell_type": "code",
   "execution_count": null,
   "metadata": {},
   "outputs": [],
   "source": []
  },
  {
   "cell_type": "code",
   "execution_count": null,
   "metadata": {},
   "outputs": [],
   "source": []
  },
  {
   "cell_type": "code",
   "execution_count": null,
   "metadata": {},
   "outputs": [],
   "source": []
  },
  {
   "cell_type": "code",
   "execution_count": null,
   "metadata": {},
   "outputs": [],
   "source": []
  },
  {
   "cell_type": "code",
   "execution_count": null,
   "metadata": {},
   "outputs": [],
   "source": []
  },
  {
   "cell_type": "code",
   "execution_count": null,
   "metadata": {},
   "outputs": [],
   "source": []
  },
  {
   "cell_type": "code",
   "execution_count": 74,
   "metadata": {},
   "outputs": [],
   "source": [
    "def get_weights(model, data, layer, device):\n",
    "    \n",
    "    \n",
    "    model.eval()\n",
    "    \n",
    "    weights_ = []\n",
    "    \n",
    "    for sample in data:\n",
    "        X_ = torch.from_numpy(sample).type(torch.FloatTensor)\n",
    "        X_ = X_.reshape(1, -1).to(device)\n",
    "        \n",
    "        activation = {}\n",
    "        def get_activation(name):\n",
    "            def hook(model, input, output):\n",
    "                activation[name] = output.detach()\n",
    "            return hook\n",
    "        \n",
    "        \n",
    "        if layer == 'fc2':\n",
    "            model.fc2.register_forward_hook(get_activation(layer))\n",
    "        elif layer == 'fc3':\n",
    "            model.fc3.register_forward_hook(get_activation(layer))\n",
    "        elif layer == 'fc4':\n",
    "            model.fc4.register_forward_hook(get_activation(layer))\n",
    "            \n",
    "        output = model(X_)\n",
    "        weights_.append(activation[layer].cpu().numpy()[0])\n",
    "    \n",
    "    return weights_\n",
    "\n",
    "\n",
    "layer = 'fc4'\n",
    "wegt = get_weights(model, X_train, layer, device)"
   ]
  },
  {
   "cell_type": "code",
   "execution_count": 80,
   "metadata": {},
   "outputs": [],
   "source": [
    "#len(wegt) == len(X_train), \n",
    "#Y_train[np.where(Y_train == 1)]\n",
    "\n",
    "mal_raw = X_train[np.where(Y_train == 1)]\n",
    "mal_wegt = np.array(wegt)[np.where(Y_train == 1)]"
   ]
  },
  {
   "cell_type": "code",
   "execution_count": 81,
   "metadata": {},
   "outputs": [
    {
     "data": {
      "text/plain": [
       "(29309, 29309)"
      ]
     },
     "execution_count": 81,
     "metadata": {},
     "output_type": "execute_result"
    }
   ],
   "source": [
    "len(mal_raw), len(mal_wegt)"
   ]
  },
  {
   "cell_type": "code",
   "execution_count": 88,
   "metadata": {},
   "outputs": [],
   "source": [
    "def get_anomalyScoresSamples(weight_data, raw_data, chooseSample = True):\n",
    "    clf = IsolationForest(max_samples=len(weight_data))\n",
    "    clf.fit(weight_data)\n",
    "    scores_prediction = clf.decision_function(weight_data)\n",
    "    y_pred = clf.predict(weight_data)\n",
    "\n",
    "\n",
    "    anomalous_idx = np.where(y_pred == -1.0)\n",
    "    similar_idx = np.where(y_pred == 1.0)\n",
    "\n",
    "    print(f'anomaly-similar samples {len(anomalous_idx[0])} - {len(similar_idx[0])}')\n",
    "    \n",
    "    if chooseSample:\n",
    "        raw_data = np.array(raw_data)\n",
    "        anomaly_samples = raw_data[anomalous_idx]\n",
    "        similar_samples = random.sample(list(raw_data[similar_idx]), len(anomaly_samples))\n",
    "\n",
    "        mal_replay_samples = np.concatenate((np.array(anomaly_samples), np.array(similar_samples)))\n",
    "\n",
    "        return mal_replay_samples, scores_prediction\n",
    "    else:\n",
    "        return mal_replay_samples, scores_prediction\n",
    "\n",
    "\n",
    "def get_anomalySamples(X_train, model, device):\n",
    "    layer = 'fc4'\n",
    "    wegt = get_weights(model, X_train, layer, device)\n",
    "    mal_raw = X_train[np.where(Y_train == 1)]\n",
    "    mal_weight = np.array(wegt)[np.where(Y_train == 1)]\n",
    "    \n",
    "    \n",
    "    good_weight_samples = X_train[np.where(Y_train == 0)]\n",
    "    mal_weight_samples = X_train[np.where(Y_train == 1)]\n",
    "    \n",
    "    replay_mal_samples, anomalyscores = get_anomalyScoresSamples(mal_weight,\\\n",
    "                                         mal_weight_samples, chooseSample = True)\n",
    "    \n",
    "    \n",
    "    if len(good_weight_samples) < len(replay_mal_samples):\n",
    "        replay_good_samples = good_weight_samples\n",
    "    else:\n",
    "        replay_good_samples = random.sample(list(good_weight_samples), len(replay_mal_samples))\n",
    "    \n",
    "    \n",
    "    replay_samples = np.concatenate((np.array(replay_good_samples), np.array(replay_mal_samples)))\n",
    "    labels_to_replay = np.concatenate((np.zeros(len(replay_good_samples)), np.ones(len(replay_mal_samples))))\n",
    "    \n",
    "    return replay_samples, labels_to_replay, anomalyscores\n",
    "\n",
    "\n"
   ]
  },
  {
   "cell_type": "code",
   "execution_count": 96,
   "metadata": {},
   "outputs": [
    {
     "data": {
      "text/plain": [
       "(190, 190)"
      ]
     },
     "execution_count": 96,
     "metadata": {},
     "output_type": "execute_result"
    }
   ],
   "source": [
    "len(np.array(wegt)[np.where(Y_train_family == 'tinba')]), len(np.where(Y_train_family == 'tinba')[0])"
   ]
  },
  {
   "cell_type": "code",
   "execution_count": null,
   "metadata": {},
   "outputs": [],
   "source": [
    "for fam_ind, fam_label in enumerate(Y_train_family):\n",
    "    if Y_train[fam_ind] != 0:\n",
    "        "
   ]
  },
  {
   "cell_type": "code",
   "execution_count": 87,
   "metadata": {},
   "outputs": [
    {
     "data": {
      "text/plain": [
       "55722"
      ]
     },
     "execution_count": 87,
     "metadata": {},
     "output_type": "execute_result"
    }
   ],
   "source": [
    "len(Y_train_family)"
   ]
  },
  {
   "cell_type": "code",
   "execution_count": null,
   "metadata": {},
   "outputs": [],
   "source": [
    "def make_family_based_dict(X_train, Y_train, Y_train_family, task_month, global_family_dict):\n",
    "    count = 0\n",
    "    for x_ind, x_sample in enumerate(X_train):\n",
    "        count += 1\n",
    "        #print(x_ind, Y_train[x_ind])\n",
    "\n",
    "        if Y_train[x_ind] == 0:\n",
    "            global_family_dict[\"goodware\"].append(x_sample)\n",
    "        if Y_train[x_ind] == 1:\n",
    "            if Y_train_family[x_ind] == '':\n",
    "                global_family_dict[\"others_family\"].append(x_sample)\n",
    "            else:\n",
    "                global_family_dict[Y_train_family[x_ind]].append(x_sample)\n",
    "\n",
    "    print(f'Task {task_month} and #-of new samples stored {count}')\n",
    "    \n",
    "    return global_family_dict"
   ]
  },
  {
   "cell_type": "code",
   "execution_count": 68,
   "metadata": {},
   "outputs": [],
   "source": [
    "from sklearn.ensemble import IsolationForest"
   ]
  },
  {
   "cell_type": "code",
   "execution_count": 82,
   "metadata": {},
   "outputs": [
    {
     "name": "stdout",
     "output_type": "stream",
     "text": [
      "anomaly-similar samples 8 - 29301\n",
      "anomaly-similar samples 327 - 28982\n"
     ]
    }
   ],
   "source": [
    "def get_anomalyScores(data):\n",
    "    clf = IsolationForest(max_samples=len(data))\n",
    "    clf.fit(data)\n",
    "    scores_prediction = clf.decision_function(data)\n",
    "    y_pred = clf.predict(data)\n",
    "\n",
    "\n",
    "    anomalous_idx = np.where(y_pred == -1.0)\n",
    "    similar_idx = np.where(y_pred == 1.0)\n",
    "\n",
    "    print(f'anomaly-similar samples {len(anomalous_idx[0])} - {len(similar_idx[0])}')\n",
    "    \n",
    "    return scores_prediction\n",
    "\n",
    "\n",
    "raw_anomaly = get_anomalyScores(mal_raw)\n",
    "hidden_anomaly = get_anomalyScores(mal_wegt)"
   ]
  },
  {
   "cell_type": "code",
   "execution_count": 86,
   "metadata": {},
   "outputs": [
    {
     "data": {
      "text/plain": [
       "<matplotlib.axes._subplots.AxesSubplot at 0x7fa0601a7d10>"
      ]
     },
     "execution_count": 86,
     "metadata": {},
     "output_type": "execute_result"
    },
    {
     "data": {
      "image/png": "[encoded data removed]",
      "text/plain": [
       "<Figure size 864x432 with 1 Axes>"
      ]
     },
     "metadata": {
      "needs_background": "light"
     },
     "output_type": "display_data"
    }
   ],
   "source": [
    "plt.figure(figsize=(12, 6))\n",
    "sns.scatterplot(x=hidden_anomaly, y=[i for i in range(len(hidden_anomaly))], color='red',\n",
    "                 marker='o', s=200,  alpha=1.0)\n"
   ]
  },
  {
   "cell_type": "code",
   "execution_count": 83,
   "metadata": {},
   "outputs": [
    {
     "data": {
      "text/plain": [
       "<matplotlib.axes._subplots.AxesSubplot at 0x7fa060413490>"
      ]
     },
     "execution_count": 83,
     "metadata": {},
     "output_type": "execute_result"
    },
    {
     "data": {
      "image/png": "[encoded data removed]",
      "text/plain": [
       "<Figure size 864x432 with 1 Axes>"
      ]
     },
     "metadata": {
      "needs_background": "light"
     },
     "output_type": "display_data"
    }
   ],
   "source": [
    "plt.figure(figsize=(12, 6))\n",
    "\n",
    "sns.scatterplot(x=raw_anomaly, y=[i for i in range(len(raw_anomaly))], color='blue',\n",
    "                 marker='o', s=200,  alpha=1.0)\n"
   ]
  },
  {
   "cell_type": "code",
   "execution_count": 59,
   "metadata": {},
   "outputs": [
    {
     "data": {
      "text/plain": [
       "tensor([[-0.9141,  0.5025,  0.4549, -0.2445, -0.5742,  0.5611,  0.3200,  0.2804,\n",
       "         -0.0201,  0.7599,  0.0185, -0.7983,  0.1927, -0.5078, -0.4734,  0.4082,\n",
       "          0.2988,  0.6552, -0.7080,  0.6065, -0.3862,  0.5355,  0.1356, -0.5825,\n",
       "          0.6145,  0.1265, -0.7096,  0.4439,  0.4675,  0.4716,  0.3591,  0.6058,\n",
       "         -0.3708, -1.2019, -0.7278,  0.5031,  0.6456,  0.8547,  0.3175,  0.5376,\n",
       "          0.1578,  0.6338, -0.7163,  0.3647,  0.6368, -0.4985,  0.4210,  0.4145,\n",
       "         -0.0817, -0.6840, -0.6164, -0.7414,  0.1943,  0.5484,  0.0496, -0.3584,\n",
       "         -0.9522, -0.3232,  0.4768,  0.3057,  0.3553,  0.4393, -0.4086,  0.7328,\n",
       "         -0.2180, -0.8600,  0.6451, -1.0335,  0.1668,  0.0864, -0.7120,  0.6086,\n",
       "         -0.4466,  0.2163,  0.6120, -0.3605,  0.6569, -0.5985,  0.6693,  0.2626,\n",
       "         -0.4405, -0.1760, -0.4872,  0.1403, -0.6262, -0.9400,  0.1485,  0.3536,\n",
       "         -0.5842, -0.2083, -0.7032, -0.5963,  0.1501, -0.4507,  0.1778,  0.5751,\n",
       "         -0.5583, -0.4706, -0.9617,  0.3771, -0.5466,  0.8568, -0.4623, -0.1910,\n",
       "          0.4061,  0.0729,  0.2752,  0.0257,  0.1106, -0.7438, -0.7274,  0.1900,\n",
       "          0.3088,  0.2530,  0.4636, -0.7367,  0.3849,  0.4038, -0.5925, -0.6875,\n",
       "         -0.5493, -0.6902, -0.1119, -0.6370,  0.7807, -0.8126, -0.3164,  0.3232]],\n",
       "       device='cuda:0')"
      ]
     },
     "execution_count": 59,
     "metadata": {},
     "output_type": "execute_result"
    }
   ],
   "source": [
    "X_partial = torch.from_numpy(X_test[0]).type(torch.FloatTensor)\n",
    "X_partial = X_partial.reshape(1, -1).to(device)\n",
    "\n",
    "activation = {}\n",
    "def get_activation(name):\n",
    "    def hook(model, input, output):\n",
    "        activation[name] = output.detach()\n",
    "    return hook\n",
    "X__ = torch.randn(1, 2381).to(device)\n",
    "\n",
    "#print(model)\n",
    "\n",
    "model.fc4.register_forward_hook(get_activation('fc4'))\n",
    "output = model(X_partial)\n",
    "activation['fc4']\n",
    "\n"
   ]
  },
  {
   "cell_type": "code",
   "execution_count": 50,
   "metadata": {},
   "outputs": [
    {
     "data": {
      "image/png": "[encoded data removed]",
      "text/plain": [
       "<Figure size 576x432 with 1 Axes>"
      ]
     },
     "metadata": {
      "needs_background": "light"
     },
     "output_type": "display_data"
    }
   ],
   "source": [
    "\n",
    "plt.figure(figsize=(8, 6))\n",
    "plt.plot(fc4weights[0], color='b');"
   ]
  },
  {
   "cell_type": "code",
   "execution_count": 37,
   "metadata": {},
   "outputs": [
    {
     "data": {
      "text/plain": [
       "128"
      ]
     },
     "execution_count": 37,
     "metadata": {},
     "output_type": "execute_result"
    }
   ],
   "source": [
    "len(fc4weights[0])"
   ]
  },
  {
   "cell_type": "code",
   "execution_count": 47,
   "metadata": {},
   "outputs": [
    {
     "data": {
      "text/plain": [
       "<matplotlib.axes._subplots.AxesSubplot at 0x7fa0633fe190>"
      ]
     },
     "execution_count": 47,
     "metadata": {},
     "output_type": "execute_result"
    },
    {
     "data": {
      "image/png": "[encoded data removed]",
      "text/plain": [
       "<Figure size 576x432 with 1 Axes>"
      ]
     },
     "metadata": {
      "needs_background": "light"
     },
     "output_type": "display_data"
    }
   ],
   "source": [
    "plt.figure(figsize=(8, 6))\n",
    "\n",
    "sns.scatterplot(x=fc4weights[0], y=[i for i in range(len(fc4weights[0]))], color='red',\n",
    "                 marker='o', s=200,  alpha=1.0)\n"
   ]
  }
 ],
 "metadata": {
  "kernelspec": {
   "display_name": "PyTorch",
   "language": "python",
   "name": "pytorch"
  },
  "language_info": {
   "codemirror_mode": {
    "name": "ipython",
    "version": 3
   },
   "file_extension": ".py",
   "mimetype": "text/x-python",
   "name": "python",
   "nbconvert_exporter": "python",
   "pygments_lexer": "ipython3",
   "version": "3.7.9"
  }
 },
 "nbformat": 4,
 "nbformat_minor": 4
}
