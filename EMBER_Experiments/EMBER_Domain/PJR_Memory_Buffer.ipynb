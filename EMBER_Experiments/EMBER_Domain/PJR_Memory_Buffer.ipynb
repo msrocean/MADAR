{
 "cells": [
  {
   "cell_type": "raw",
   "metadata": {},
   "source": [
    "mal_samples = np.array([32491, 31222, 20152, 26892, 22193, 25116, 26622, 21791, 37062,\n",
    "        56459, 50000, 50000])\n",
    "good_samples = np.array([29423, 22915, 21373, 25190, 23719, 23285, 24799, 23634, 25707,\n",
    "        29955, 50000, 50000])"
   ]
  },
  {
   "cell_type": "code",
   "execution_count": 1,
   "metadata": {},
   "outputs": [],
   "source": [
    "import numpy as np\n",
    "import random\n",
    "import datetime\n",
    "import time\n",
    "import os\n",
    "from collections import defaultdict\n",
    "from sklearn.preprocessing import StandardScaler\n",
    "import matplotlib.pyplot as plt\n",
    "from tqdm import tqdm\n",
    "import argparse\n",
    "import torch\n",
    "import torchvision\n",
    "import torch.nn as nn\n",
    "import torch.optim as optim\n",
    "import torch.nn.functional as F\n",
    "from torchvision import transforms, utils, datasets\n",
    "from torch.utils.data import Dataset, DataLoader\n",
    "\n",
    "from ember_utils import *\n",
    "from ember_model import *\n",
    "from ember_pjr_utils import *\n",
    "\n",
    "\n",
    "\n",
    "def create_parent_folder(file_path):\n",
    "    if not os.path.exists(os.path.dirname(file_path)):\n",
    "        os.makedirs(os.path.dirname(file_path))\n",
    "\n",
    "\n",
    "\n",
    "def get_family_labeled_month_data(data_dir, month, train=True):\n",
    "    \n",
    "    if train:\n",
    "        data_dir = data_dir + str(month) + '/'\n",
    "        XY_train = np.load(data_dir + 'XY_train.npz')\n",
    "        X_tr, Y_tr, Y_tr_family = XY_train['X_train'], XY_train['Y_train'], XY_train['Y_family_train']\n",
    "\n",
    "        print(f'X_train {X_tr.shape} Y_train {Y_tr.shape} Y_tr_family {Y_tr_family.shape}')\n",
    "        \n",
    "        return X_tr, Y_tr, Y_tr_family\n",
    "    else:\n",
    "        data_dir = data_dir + str(month) + '/'\n",
    "        XY_test = np.load(data_dir + 'XY_test.npz')\n",
    "        X_test, Y_test, Y_test_family = XY_test['X_test'], XY_test['Y_test'], XY_test['Y_family_test']\n",
    "\n",
    "        return X_test, Y_test, Y_test_family\n",
    "\n",
    "    \n",
    "    \n",
    "def get_family_labeled_task_test_data(data_dir, task_months, mlp_net=False):\n",
    "    \n",
    "    X_te, Y_te, Y_te_family = get_family_labeled_month_data(data_dir, task_months[-1], train=False)\n",
    "    \n",
    "    for month in task_months[:-1]:\n",
    "        pre_X_te, pre_Y_te, pre_Y_te_family = get_family_labeled_month_data(data_dir, month, train=False)\n",
    "        X_te, Y_te, Y_te_family = np.concatenate((X_te, pre_X_te)), np.concatenate((Y_te, pre_Y_te)),\\\n",
    "                                np.concatenate((Y_te_family, pre_Y_te_family))\n",
    "        \n",
    "\n",
    "    X_test, Y_test, Y_test_family = X_te, Y_te, Y_te_family\n",
    "    print(f'X_test {X_test.shape} Y_test {Y_test.shape} Y_te_family {Y_te_family.shape}')\n",
    "    \n",
    "    return X_test, Y_test, Y_test_family\n",
    "\n",
    "\n",
    "\n",
    "def make_family_based_dict(X_train, Y_train, Y_train_family, task_month, global_family_dict):\n",
    "    count = 0\n",
    "    for x_ind, x_sample in enumerate(X_train):\n",
    "        count += 1\n",
    "        #print(x_ind, Y_train[x_ind])\n",
    "\n",
    "        if Y_train[x_ind] == 0:\n",
    "            global_family_dict[\"goodware\"].append(x_sample)\n",
    "        if Y_train[x_ind] == 1:\n",
    "            if Y_train_family[x_ind] == '':\n",
    "                global_family_dict[\"others_family\"].append(x_sample)\n",
    "            else:\n",
    "                global_family_dict[Y_train_family[x_ind]].append(x_sample)\n",
    "\n",
    "    print(f'Task {task_month} and #-of new samples stored {count}')\n",
    "    \n",
    "    return global_family_dict\n",
    "\n",
    "\n",
    "\n",
    "def get_replay_samples(global_family_dict, num_samples_per_malware_family):\n",
    "    pre_malware_samples = []\n",
    "\n",
    "    cnt = 0\n",
    "    for k in global_family_dict.keys():\n",
    "        if k != 'goodware':\n",
    "            cnt += 1\n",
    "            if num_samples_per_malware_family > len(global_family_dict[k]):\n",
    "                selected_family_samples = random.sample(global_family_dict[k], len(global_family_dict[k]))\n",
    "            else:\n",
    "                selected_family_samples = random.sample(global_family_dict[k], num_samples_per_malware_family)\n",
    "\n",
    "            #print(selected_family_samples)\n",
    "            for sample in selected_family_samples:\n",
    "                pre_malware_samples.append(sample)\n",
    "                \n",
    "    if len(global_family_dict['goodware']) < len(pre_malware_samples):\n",
    "        pre_goodware_samples = random.sample(global_family_dict['goodware'], len(global_family_dict['goodware']))\n",
    "    else:\n",
    "        pre_goodware_samples = random.sample(global_family_dict['goodware'], len(pre_malware_samples))\n",
    "\n",
    "    samples_to_replay = np.concatenate((np.array(pre_goodware_samples), np.array(pre_malware_samples)))\n",
    "    labels_to_replay = np.concatenate((np.zeros(len(pre_goodware_samples)), np.ones(len(pre_malware_samples))))\n",
    "\n",
    "\n",
    "    print(f'X_replay {samples_to_replay.shape} Y_replay {labels_to_replay.shape}')\n",
    "    print(f'Replay {len(pre_malware_samples)} malware samples of {len(global_family_dict.keys()) -1} families')\n",
    "    print(f'and Replay {len(pre_goodware_samples)} goodware samples')\n",
    "    \n",
    "    \n",
    "    return samples_to_replay, labels_to_replay\n",
    "\n"
   ]
  },
  {
   "cell_type": "code",
   "execution_count": 15,
   "metadata": {},
   "outputs": [
    {
     "name": "stdout",
     "output_type": "stream",
     "text": [
      "Torch 1.6.0 CUDA 10.2\n",
      "Model has 3.132161m parameters\n",
      "\n",
      "2022-10-05 15:14:38 Round 1 ...\n",
      "Current Task 2018-01 w/ 100 samples to Replay per Malware family.\n",
      "X_train (55722, 2381) Y_train (55722,) Y_tr_family (55722,)\n",
      "X_test (6192, 2381) Y_test (6192,) Y_te_family (6192,)\n",
      "Task 2018-01 and #-of new samples stored 55722\n",
      "Initial Task 2018-01 X_train (55722, 2381) Y_train (55722,)\n",
      "************** ************** **************\n",
      "\n",
      "2022-10-05 15:14:40 Standardizing ...\n"
     ]
    },
    {
     "name": "stderr",
     "output_type": "stream",
     "text": [
      "\r",
      "  0%|          | 0/9 [00:00<?, ?it/s]"
     ]
    },
    {
     "name": "stdout",
     "output_type": "stream",
     "text": [
      "2022-10-05 15:14:43 Training ...\n",
      "Epoch 1 of 500\n"
     ]
    },
    {
     "name": "stderr",
     "output_type": "stream",
     "text": [
      "100%|██████████| 9/9 [00:01<00:00,  5.55it/s]\n",
      "100%|██████████| 2/2 [00:00<00:00,  3.87it/s]\n",
      "  0%|          | 0/9 [00:00<?, ?it/s]"
     ]
    },
    {
     "name": "stdout",
     "output_type": "stream",
     "text": [
      "Train Loss: 0.7129, Train Acc: 51.65\n",
      "Val Loss: 0.6854, Val Acc: 49.08\n",
      "Validation loss decreased (inf --> 0.685407).  Saving model ...\n",
      "../pjr_saved_model_last/NEW_PJR_replay_100/2018-01/best_model_epoch_1.pt\n",
      "Epoch 2 of 500\n"
     ]
    },
    {
     "name": "stderr",
     "output_type": "stream",
     "text": [
      "100%|██████████| 9/9 [00:01<00:00,  5.71it/s]\n",
      "100%|██████████| 2/2 [00:00<00:00,  3.77it/s]\n",
      "  0%|          | 0/9 [00:00<?, ?it/s]"
     ]
    },
    {
     "name": "stdout",
     "output_type": "stream",
     "text": [
      "Train Loss: 0.6692, Train Acc: 59.97\n",
      "Val Loss: 0.6769, Val Acc: 76.42\n",
      "Validation loss decreased (0.685407 --> 0.676937).  Saving model ...\n",
      "../pjr_saved_model_last/NEW_PJR_replay_100/2018-01/best_model_epoch_2.pt\n",
      "Epoch 3 of 500\n"
     ]
    },
    {
     "name": "stderr",
     "output_type": "stream",
     "text": [
      "100%|██████████| 9/9 [00:01<00:00,  5.12it/s]\n",
      "100%|██████████| 2/2 [00:00<00:00,  3.68it/s]\n",
      "  0%|          | 0/9 [00:00<?, ?it/s]"
     ]
    },
    {
     "name": "stdout",
     "output_type": "stream",
     "text": [
      "Train Loss: 0.6255, Train Acc: 66.73\n",
      "Val Loss: 0.5954, Val Acc: 75.24\n",
      "Validation loss decreased (0.676937 --> 0.595388).  Saving model ...\n",
      "../pjr_saved_model_last/NEW_PJR_replay_100/2018-01/best_model_epoch_3.pt\n",
      "Epoch 4 of 500\n"
     ]
    },
    {
     "name": "stderr",
     "output_type": "stream",
     "text": [
      "100%|██████████| 9/9 [00:01<00:00,  5.40it/s]\n",
      "100%|██████████| 2/2 [00:00<00:00,  3.81it/s]\n",
      "  0%|          | 0/9 [00:00<?, ?it/s]"
     ]
    },
    {
     "name": "stdout",
     "output_type": "stream",
     "text": [
      "Train Loss: 0.5749, Train Acc: 71.35\n",
      "Val Loss: 0.5253, Val Acc: 80.66\n",
      "Validation loss decreased (0.595388 --> 0.525313).  Saving model ...\n",
      "../pjr_saved_model_last/NEW_PJR_replay_100/2018-01/best_model_epoch_4.pt\n",
      "Epoch 5 of 500\n"
     ]
    },
    {
     "name": "stderr",
     "output_type": "stream",
     "text": [
      "100%|██████████| 9/9 [00:01<00:00,  5.60it/s]\n",
      "100%|██████████| 2/2 [00:00<00:00,  3.98it/s]\n",
      "  0%|          | 0/9 [00:00<?, ?it/s]"
     ]
    },
    {
     "name": "stdout",
     "output_type": "stream",
     "text": [
      "Train Loss: 0.5196, Train Acc: 75.04\n",
      "Val Loss: 0.4754, Val Acc: 77.87\n",
      "Validation loss decreased (0.525313 --> 0.475363).  Saving model ...\n",
      "../pjr_saved_model_last/NEW_PJR_replay_100/2018-01/best_model_epoch_5.pt\n",
      "Epoch 6 of 500\n"
     ]
    },
    {
     "name": "stderr",
     "output_type": "stream",
     "text": [
      "100%|██████████| 9/9 [00:01<00:00,  5.79it/s]\n",
      "100%|██████████| 2/2 [00:00<00:00,  3.83it/s]\n",
      "  0%|          | 0/9 [00:00<?, ?it/s]"
     ]
    },
    {
     "name": "stdout",
     "output_type": "stream",
     "text": [
      "Train Loss: 0.4720, Train Acc: 77.42\n",
      "Val Loss: 0.4046, Val Acc: 83.10\n",
      "Validation loss decreased (0.475363 --> 0.404617).  Saving model ...\n",
      "../pjr_saved_model_last/NEW_PJR_replay_100/2018-01/best_model_epoch_6.pt\n",
      "Epoch 7 of 500\n"
     ]
    },
    {
     "name": "stderr",
     "output_type": "stream",
     "text": [
      "100%|██████████| 9/9 [00:01<00:00,  5.79it/s]\n",
      "100%|██████████| 2/2 [00:00<00:00,  3.89it/s]\n",
      "  0%|          | 0/9 [00:00<?, ?it/s]"
     ]
    },
    {
     "name": "stdout",
     "output_type": "stream",
     "text": [
      "Train Loss: 0.4263, Train Acc: 79.91\n",
      "Val Loss: 0.3602, Val Acc: 85.56\n",
      "Validation loss decreased (0.404617 --> 0.360208).  Saving model ...\n",
      "../pjr_saved_model_last/NEW_PJR_replay_100/2018-01/best_model_epoch_7.pt\n",
      "Epoch 8 of 500\n"
     ]
    },
    {
     "name": "stderr",
     "output_type": "stream",
     "text": [
      "100%|██████████| 9/9 [00:01<00:00,  5.77it/s]\n",
      "100%|██████████| 2/2 [00:00<00:00,  3.67it/s]\n",
      "  0%|          | 0/9 [00:00<?, ?it/s]"
     ]
    },
    {
     "name": "stdout",
     "output_type": "stream",
     "text": [
      "Train Loss: 0.3935, Train Acc: 81.83\n",
      "Val Loss: 0.3470, Val Acc: 85.03\n",
      "Validation loss decreased (0.360208 --> 0.346981).  Saving model ...\n",
      "../pjr_saved_model_last/NEW_PJR_replay_100/2018-01/best_model_epoch_8.pt\n",
      "Epoch 9 of 500\n"
     ]
    },
    {
     "name": "stderr",
     "output_type": "stream",
     "text": [
      "100%|██████████| 9/9 [00:01<00:00,  5.08it/s]\n",
      "100%|██████████| 2/2 [00:00<00:00,  3.87it/s]\n",
      "  0%|          | 0/9 [00:00<?, ?it/s]"
     ]
    },
    {
     "name": "stdout",
     "output_type": "stream",
     "text": [
      "Train Loss: 0.3649, Train Acc: 83.48\n",
      "Val Loss: 0.3209, Val Acc: 86.20\n",
      "Validation loss decreased (0.346981 --> 0.320910).  Saving model ...\n",
      "../pjr_saved_model_last/NEW_PJR_replay_100/2018-01/best_model_epoch_9.pt\n",
      "Epoch 10 of 500\n"
     ]
    },
    {
     "name": "stderr",
     "output_type": "stream",
     "text": [
      "100%|██████████| 9/9 [00:01<00:00,  5.66it/s]\n",
      "100%|██████████| 2/2 [00:00<00:00,  3.83it/s]\n",
      "  0%|          | 0/9 [00:00<?, ?it/s]"
     ]
    },
    {
     "name": "stdout",
     "output_type": "stream",
     "text": [
      "Train Loss: 0.3360, Train Acc: 85.19\n",
      "Val Loss: 0.2707, Val Acc: 89.78\n",
      "Validation loss decreased (0.320910 --> 0.270677).  Saving model ...\n",
      "../pjr_saved_model_last/NEW_PJR_replay_100/2018-01/best_model_epoch_10.pt\n",
      "Epoch 11 of 500\n"
     ]
    },
    {
     "name": "stderr",
     "output_type": "stream",
     "text": [
      "100%|██████████| 9/9 [00:01<00:00,  5.32it/s]\n",
      "100%|██████████| 2/2 [00:00<00:00,  3.87it/s]\n",
      "  0%|          | 0/9 [00:00<?, ?it/s]"
     ]
    },
    {
     "name": "stdout",
     "output_type": "stream",
     "text": [
      "Train Loss: 0.3152, Train Acc: 86.06\n",
      "Val Loss: 0.2500, Val Acc: 90.08\n",
      "Validation loss decreased (0.270677 --> 0.250046).  Saving model ...\n",
      "../pjr_saved_model_last/NEW_PJR_replay_100/2018-01/best_model_epoch_11.pt\n",
      "Epoch 12 of 500\n"
     ]
    },
    {
     "name": "stderr",
     "output_type": "stream",
     "text": [
      "100%|██████████| 9/9 [00:01<00:00,  5.60it/s]\n",
      "100%|██████████| 2/2 [00:00<00:00,  3.86it/s]\n",
      "  0%|          | 0/9 [00:00<?, ?it/s]"
     ]
    },
    {
     "name": "stdout",
     "output_type": "stream",
     "text": [
      "Train Loss: 0.2950, Train Acc: 87.23\n",
      "Val Loss: 0.2378, Val Acc: 89.78\n",
      "Validation loss decreased (0.250046 --> 0.237795).  Saving model ...\n",
      "../pjr_saved_model_last/NEW_PJR_replay_100/2018-01/best_model_epoch_12.pt\n",
      "Epoch 13 of 500\n"
     ]
    },
    {
     "name": "stderr",
     "output_type": "stream",
     "text": [
      "100%|██████████| 9/9 [00:01<00:00,  5.08it/s]\n",
      "100%|██████████| 2/2 [00:00<00:00,  4.11it/s]\n",
      "  0%|          | 0/9 [00:00<?, ?it/s]"
     ]
    },
    {
     "name": "stdout",
     "output_type": "stream",
     "text": [
      "Train Loss: 0.2779, Train Acc: 88.12\n",
      "Val Loss: 0.2490, Val Acc: 90.15\n",
      "EarlyStopping counter: 1 out of 5\n",
      "Epoch 14 of 500\n"
     ]
    },
    {
     "name": "stderr",
     "output_type": "stream",
     "text": [
      "100%|██████████| 9/9 [00:01<00:00,  5.79it/s]\n",
      "100%|██████████| 2/2 [00:00<00:00,  3.93it/s]\n",
      "  0%|          | 0/9 [00:00<?, ?it/s]"
     ]
    },
    {
     "name": "stdout",
     "output_type": "stream",
     "text": [
      "Train Loss: 0.2628, Train Acc: 88.81\n",
      "Val Loss: 0.2235, Val Acc: 90.72\n",
      "Validation loss decreased (0.237795 --> 0.223527).  Saving model ...\n",
      "../pjr_saved_model_last/NEW_PJR_replay_100/2018-01/best_model_epoch_14.pt\n",
      "Epoch 15 of 500\n"
     ]
    },
    {
     "name": "stderr",
     "output_type": "stream",
     "text": [
      "100%|██████████| 9/9 [00:01<00:00,  5.68it/s]\n",
      "100%|██████████| 2/2 [00:00<00:00,  3.92it/s]\n",
      "  0%|          | 0/9 [00:00<?, ?it/s]"
     ]
    },
    {
     "name": "stdout",
     "output_type": "stream",
     "text": [
      "Train Loss: 0.2546, Train Acc: 89.24\n",
      "Val Loss: 0.2294, Val Acc: 90.48\n",
      "EarlyStopping counter: 1 out of 5\n",
      "Epoch 16 of 500\n"
     ]
    },
    {
     "name": "stderr",
     "output_type": "stream",
     "text": [
      "100%|██████████| 9/9 [00:01<00:00,  5.69it/s]\n",
      "100%|██████████| 2/2 [00:00<00:00,  3.93it/s]\n",
      "  0%|          | 0/9 [00:00<?, ?it/s]"
     ]
    },
    {
     "name": "stdout",
     "output_type": "stream",
     "text": [
      "Train Loss: 0.2446, Train Acc: 89.91\n",
      "Val Loss: 0.2297, Val Acc: 91.26\n",
      "EarlyStopping counter: 2 out of 5\n",
      "Epoch 17 of 500\n"
     ]
    },
    {
     "name": "stderr",
     "output_type": "stream",
     "text": [
      "100%|██████████| 9/9 [00:01<00:00,  5.25it/s]\n",
      "100%|██████████| 2/2 [00:00<00:00,  4.26it/s]\n",
      "  0%|          | 0/9 [00:00<?, ?it/s]"
     ]
    },
    {
     "name": "stdout",
     "output_type": "stream",
     "text": [
      "Train Loss: 0.2376, Train Acc: 90.04\n",
      "Val Loss: 0.2462, Val Acc: 90.71\n",
      "EarlyStopping counter: 3 out of 5\n",
      "Epoch 18 of 500\n"
     ]
    },
    {
     "name": "stderr",
     "output_type": "stream",
     "text": [
      "100%|██████████| 9/9 [00:01<00:00,  5.56it/s]\n",
      "100%|██████████| 2/2 [00:00<00:00,  3.92it/s]\n",
      "  0%|          | 0/9 [00:00<?, ?it/s]"
     ]
    },
    {
     "name": "stdout",
     "output_type": "stream",
     "text": [
      "Train Loss: 0.2213, Train Acc: 90.95\n",
      "Val Loss: 0.1920, Val Acc: 92.75\n",
      "Validation loss decreased (0.223527 --> 0.191965).  Saving model ...\n",
      "../pjr_saved_model_last/NEW_PJR_replay_100/2018-01/best_model_epoch_18.pt\n",
      "Epoch 19 of 500\n"
     ]
    },
    {
     "name": "stderr",
     "output_type": "stream",
     "text": [
      "100%|██████████| 9/9 [00:01<00:00,  5.79it/s]\n",
      "100%|██████████| 2/2 [00:00<00:00,  3.96it/s]\n",
      "  0%|          | 0/9 [00:00<?, ?it/s]"
     ]
    },
    {
     "name": "stdout",
     "output_type": "stream",
     "text": [
      "Train Loss: 0.2215, Train Acc: 90.96\n",
      "Val Loss: 0.1989, Val Acc: 91.65\n",
      "EarlyStopping counter: 1 out of 5\n",
      "Epoch 20 of 500\n"
     ]
    },
    {
     "name": "stderr",
     "output_type": "stream",
     "text": [
      "100%|██████████| 9/9 [00:01<00:00,  5.61it/s]\n",
      "100%|██████████| 2/2 [00:00<00:00,  3.93it/s]\n",
      "  0%|          | 0/9 [00:00<?, ?it/s]"
     ]
    },
    {
     "name": "stdout",
     "output_type": "stream",
     "text": [
      "Train Loss: 0.2128, Train Acc: 91.32\n",
      "Val Loss: 0.1972, Val Acc: 91.72\n",
      "EarlyStopping counter: 2 out of 5\n",
      "Epoch 21 of 500\n"
     ]
    },
    {
     "name": "stderr",
     "output_type": "stream",
     "text": [
      "100%|██████████| 9/9 [00:01<00:00,  5.74it/s]\n",
      "100%|██████████| 2/2 [00:00<00:00,  3.91it/s]\n",
      "  0%|          | 0/9 [00:00<?, ?it/s]"
     ]
    },
    {
     "name": "stdout",
     "output_type": "stream",
     "text": [
      "Train Loss: 0.2059, Train Acc: 91.76\n",
      "Val Loss: 0.2042, Val Acc: 92.20\n",
      "EarlyStopping counter: 3 out of 5\n",
      "Epoch 22 of 500\n"
     ]
    },
    {
     "name": "stderr",
     "output_type": "stream",
     "text": [
      "100%|██████████| 9/9 [00:01<00:00,  5.70it/s]\n",
      "100%|██████████| 2/2 [00:00<00:00,  3.90it/s]\n",
      "  0%|          | 0/9 [00:00<?, ?it/s]"
     ]
    },
    {
     "name": "stdout",
     "output_type": "stream",
     "text": [
      "Train Loss: 0.1975, Train Acc: 92.08\n",
      "Val Loss: 0.1865, Val Acc: 92.85\n",
      "Validation loss decreased (0.191965 --> 0.186457).  Saving model ...\n",
      "../pjr_saved_model_last/NEW_PJR_replay_100/2018-01/best_model_epoch_22.pt\n",
      "Epoch 23 of 500\n"
     ]
    },
    {
     "name": "stderr",
     "output_type": "stream",
     "text": [
      "100%|██████████| 9/9 [00:01<00:00,  5.15it/s]\n",
      "100%|██████████| 2/2 [00:00<00:00,  3.89it/s]\n",
      "  0%|          | 0/9 [00:00<?, ?it/s]"
     ]
    },
    {
     "name": "stdout",
     "output_type": "stream",
     "text": [
      "Train Loss: 0.1971, Train Acc: 92.10\n",
      "Val Loss: 0.1780, Val Acc: 91.98\n",
      "Validation loss decreased (0.186457 --> 0.178023).  Saving model ...\n",
      "../pjr_saved_model_last/NEW_PJR_replay_100/2018-01/best_model_epoch_23.pt\n",
      "Epoch 24 of 500\n"
     ]
    },
    {
     "name": "stderr",
     "output_type": "stream",
     "text": [
      "100%|██████████| 9/9 [00:01<00:00,  5.41it/s]\n",
      "100%|██████████| 2/2 [00:00<00:00,  3.88it/s]\n",
      "  0%|          | 0/9 [00:00<?, ?it/s]"
     ]
    },
    {
     "name": "stdout",
     "output_type": "stream",
     "text": [
      "Train Loss: 0.1925, Train Acc: 92.33\n",
      "Val Loss: 0.1887, Val Acc: 93.39\n",
      "EarlyStopping counter: 1 out of 5\n",
      "Epoch 25 of 500\n"
     ]
    },
    {
     "name": "stderr",
     "output_type": "stream",
     "text": [
      "100%|██████████| 9/9 [00:01<00:00,  5.67it/s]\n",
      "100%|██████████| 2/2 [00:00<00:00,  3.94it/s]\n",
      "  0%|          | 0/9 [00:00<?, ?it/s]"
     ]
    },
    {
     "name": "stdout",
     "output_type": "stream",
     "text": [
      "Train Loss: 0.1912, Train Acc: 92.31\n",
      "Val Loss: 0.1798, Val Acc: 93.00\n",
      "EarlyStopping counter: 2 out of 5\n",
      "Epoch 26 of 500\n"
     ]
    },
    {
     "name": "stderr",
     "output_type": "stream",
     "text": [
      "100%|██████████| 9/9 [00:01<00:00,  5.80it/s]\n",
      "100%|██████████| 2/2 [00:00<00:00,  3.90it/s]\n",
      "  0%|          | 0/9 [00:00<?, ?it/s]"
     ]
    },
    {
     "name": "stdout",
     "output_type": "stream",
     "text": [
      "Train Loss: 0.1836, Train Acc: 92.54\n",
      "Val Loss: 0.1876, Val Acc: 92.21\n",
      "EarlyStopping counter: 3 out of 5\n",
      "Epoch 27 of 500\n"
     ]
    },
    {
     "name": "stderr",
     "output_type": "stream",
     "text": [
      "100%|██████████| 9/9 [00:01<00:00,  5.80it/s]\n",
      "100%|██████████| 2/2 [00:00<00:00,  3.88it/s]\n",
      "  0%|          | 0/9 [00:00<?, ?it/s]"
     ]
    },
    {
     "name": "stdout",
     "output_type": "stream",
     "text": [
      "Train Loss: 0.1805, Train Acc: 92.62\n",
      "Val Loss: 0.1889, Val Acc: 93.49\n",
      "EarlyStopping counter: 4 out of 5\n",
      "Epoch 28 of 500\n"
     ]
    },
    {
     "name": "stderr",
     "output_type": "stream",
     "text": [
      "100%|██████████| 9/9 [00:01<00:00,  5.83it/s]\n",
      "100%|██████████| 2/2 [00:00<00:00,  3.91it/s]\n",
      "100%|██████████| 2/2 [00:00<00:00, 13.41it/s]\n"
     ]
    },
    {
     "name": "stdout",
     "output_type": "stream",
     "text": [
      "Train Loss: 0.1780, Train Acc: 92.78\n",
      "Val Loss: 0.1893, Val Acc: 92.35\n",
      "EarlyStopping counter: 5 out of 5\n",
      "Early stopping\n",
      "Training time: 1.027 minutes\n",
      "0.9305555555555556 0.9831775915605013\n",
      "Elapsed time 1.1281907478968303 mins.\n",
      "\n",
      "2022-10-05 15:15:45 Round 1 ...\n",
      "Current Task 2018-02 w/ 100 samples to Replay per Malware family.\n",
      "X_train (48723, 2381) Y_train (48723,) Y_tr_family (48723,)\n",
      "X_test (11606, 2381) Y_test (11606,) Y_te_family (11606,)\n",
      "X_replay (9947, 2381) Y_replay (9947,)\n",
      "Replay 9847 malware samples of 881 families\n",
      "and Replay 100 goodware samples\n",
      "Task 2018-02 and #-of new samples stored 48723\n",
      "W/O replay samples \n",
      " X_train (48723, 2381) Y_train (48723,)\n",
      "With replay samples \n",
      " X_train (58670, 2381) Y_train (58670,)\n",
      "************** ************** **************\n",
      "\n",
      "2022-10-05 15:15:47 Standardizing ...\n"
     ]
    },
    {
     "name": "stderr",
     "output_type": "stream",
     "text": [
      "\r",
      "  0%|          | 0/9 [00:00<?, ?it/s]"
     ]
    },
    {
     "name": "stdout",
     "output_type": "stream",
     "text": [
      "2022-10-05 15:15:51 Training ...\n",
      "Epoch 1 of 500\n"
     ]
    },
    {
     "name": "stderr",
     "output_type": "stream",
     "text": [
      "100%|██████████| 9/9 [00:01<00:00,  5.53it/s]\n",
      "100%|██████████| 2/2 [00:00<00:00,  2.43it/s]\n",
      "  0%|          | 0/9 [00:00<?, ?it/s]"
     ]
    },
    {
     "name": "stdout",
     "output_type": "stream",
     "text": [
      "Train Loss: 0.2854, Train Acc: 88.25\n",
      "Val Loss: 0.2030, Val Acc: 92.14\n",
      "Validation loss decreased (inf --> 0.203007).  Saving model ...\n",
      "../pjr_saved_model_last/NEW_PJR_replay_100/2018-02/best_model_epoch_1.pt\n",
      "Epoch 2 of 500\n"
     ]
    },
    {
     "name": "stderr",
     "output_type": "stream",
     "text": [
      "100%|██████████| 9/9 [00:01<00:00,  6.56it/s]\n",
      "100%|██████████| 2/2 [00:00<00:00,  2.82it/s]\n",
      "  0%|          | 0/9 [00:00<?, ?it/s]"
     ]
    },
    {
     "name": "stdout",
     "output_type": "stream",
     "text": [
      "Train Loss: 0.2602, Train Acc: 89.30\n",
      "Val Loss: 0.1932, Val Acc: 91.92\n",
      "Validation loss decreased (0.203007 --> 0.193155).  Saving model ...\n",
      "../pjr_saved_model_last/NEW_PJR_replay_100/2018-02/best_model_epoch_2.pt\n",
      "Epoch 3 of 500\n"
     ]
    },
    {
     "name": "stderr",
     "output_type": "stream",
     "text": [
      "100%|██████████| 9/9 [00:01<00:00,  6.45it/s]\n",
      "100%|██████████| 2/2 [00:00<00:00,  2.84it/s]\n",
      "  0%|          | 0/9 [00:00<?, ?it/s]"
     ]
    },
    {
     "name": "stdout",
     "output_type": "stream",
     "text": [
      "Train Loss: 0.2466, Train Acc: 89.78\n",
      "Val Loss: 0.1933, Val Acc: 91.99\n",
      "EarlyStopping counter: 1 out of 5\n",
      "Epoch 4 of 500\n"
     ]
    },
    {
     "name": "stderr",
     "output_type": "stream",
     "text": [
      "100%|██████████| 9/9 [00:01<00:00,  5.65it/s]\n",
      "100%|██████████| 2/2 [00:00<00:00,  2.58it/s]\n",
      "  0%|          | 0/9 [00:00<?, ?it/s]"
     ]
    },
    {
     "name": "stdout",
     "output_type": "stream",
     "text": [
      "Train Loss: 0.2348, Train Acc: 90.16\n",
      "Val Loss: 0.1917, Val Acc: 92.52\n",
      "Validation loss decreased (0.193155 --> 0.191709).  Saving model ...\n",
      "../pjr_saved_model_last/NEW_PJR_replay_100/2018-02/best_model_epoch_4.pt\n",
      "Epoch 5 of 500\n"
     ]
    },
    {
     "name": "stderr",
     "output_type": "stream",
     "text": [
      "100%|██████████| 9/9 [00:01<00:00,  5.76it/s]\n",
      "100%|██████████| 2/2 [00:00<00:00,  2.78it/s]\n",
      "  0%|          | 0/9 [00:00<?, ?it/s]"
     ]
    },
    {
     "name": "stdout",
     "output_type": "stream",
     "text": [
      "Train Loss: 0.2255, Train Acc: 90.72\n",
      "Val Loss: 0.1826, Val Acc: 92.94\n",
      "Validation loss decreased (0.191709 --> 0.182578).  Saving model ...\n",
      "../pjr_saved_model_last/NEW_PJR_replay_100/2018-02/best_model_epoch_5.pt\n",
      "Epoch 6 of 500\n"
     ]
    },
    {
     "name": "stderr",
     "output_type": "stream",
     "text": [
      "100%|██████████| 9/9 [00:01<00:00,  5.51it/s]\n",
      "100%|██████████| 2/2 [00:00<00:00,  2.76it/s]\n",
      "  0%|          | 0/9 [00:00<?, ?it/s]"
     ]
    },
    {
     "name": "stdout",
     "output_type": "stream",
     "text": [
      "Train Loss: 0.2199, Train Acc: 90.84\n",
      "Val Loss: 0.1941, Val Acc: 92.37\n",
      "EarlyStopping counter: 1 out of 5\n",
      "Epoch 7 of 500\n"
     ]
    },
    {
     "name": "stderr",
     "output_type": "stream",
     "text": [
      "100%|██████████| 9/9 [00:01<00:00,  5.44it/s]\n",
      "100%|██████████| 2/2 [00:00<00:00,  2.75it/s]\n",
      "  0%|          | 0/9 [00:00<?, ?it/s]"
     ]
    },
    {
     "name": "stdout",
     "output_type": "stream",
     "text": [
      "Train Loss: 0.2122, Train Acc: 91.26\n",
      "Val Loss: 0.1861, Val Acc: 92.87\n",
      "EarlyStopping counter: 2 out of 5\n",
      "Epoch 8 of 500\n"
     ]
    },
    {
     "name": "stderr",
     "output_type": "stream",
     "text": [
      "100%|██████████| 9/9 [00:01<00:00,  5.12it/s]\n",
      "100%|██████████| 2/2 [00:00<00:00,  2.76it/s]\n",
      "  0%|          | 0/9 [00:00<?, ?it/s]"
     ]
    },
    {
     "name": "stdout",
     "output_type": "stream",
     "text": [
      "Train Loss: 0.2081, Train Acc: 91.54\n",
      "Val Loss: 0.1807, Val Acc: 93.09\n",
      "Validation loss decreased (0.182578 --> 0.180701).  Saving model ...\n",
      "../pjr_saved_model_last/NEW_PJR_replay_100/2018-02/best_model_epoch_8.pt\n",
      "Epoch 9 of 500\n"
     ]
    },
    {
     "name": "stderr",
     "output_type": "stream",
     "text": [
      "100%|██████████| 9/9 [00:01<00:00,  5.23it/s]\n",
      "100%|██████████| 2/2 [00:00<00:00,  2.69it/s]\n",
      "  0%|          | 0/9 [00:00<?, ?it/s]"
     ]
    },
    {
     "name": "stdout",
     "output_type": "stream",
     "text": [
      "Train Loss: 0.2063, Train Acc: 91.46\n",
      "Val Loss: 0.1763, Val Acc: 93.41\n",
      "Validation loss decreased (0.180701 --> 0.176302).  Saving model ...\n",
      "../pjr_saved_model_last/NEW_PJR_replay_100/2018-02/best_model_epoch_9.pt\n",
      "Epoch 10 of 500\n"
     ]
    },
    {
     "name": "stderr",
     "output_type": "stream",
     "text": [
      "100%|██████████| 9/9 [00:01<00:00,  5.51it/s]\n",
      "100%|██████████| 2/2 [00:00<00:00,  2.74it/s]\n",
      "  0%|          | 0/9 [00:00<?, ?it/s]"
     ]
    },
    {
     "name": "stdout",
     "output_type": "stream",
     "text": [
      "Train Loss: 0.2052, Train Acc: 91.61\n",
      "Val Loss: 0.1716, Val Acc: 93.39\n",
      "Validation loss decreased (0.176302 --> 0.171607).  Saving model ...\n",
      "../pjr_saved_model_last/NEW_PJR_replay_100/2018-02/best_model_epoch_10.pt\n",
      "Epoch 11 of 500\n"
     ]
    },
    {
     "name": "stderr",
     "output_type": "stream",
     "text": [
      "100%|██████████| 9/9 [00:01<00:00,  5.62it/s]\n",
      "100%|██████████| 2/2 [00:00<00:00,  2.70it/s]\n",
      "  0%|          | 0/9 [00:00<?, ?it/s]"
     ]
    },
    {
     "name": "stdout",
     "output_type": "stream",
     "text": [
      "Train Loss: 0.1962, Train Acc: 92.00\n",
      "Val Loss: 0.1792, Val Acc: 93.35\n",
      "EarlyStopping counter: 1 out of 5\n",
      "Epoch 12 of 500\n"
     ]
    },
    {
     "name": "stderr",
     "output_type": "stream",
     "text": [
      "100%|██████████| 9/9 [00:01<00:00,  5.25it/s]\n",
      "100%|██████████| 2/2 [00:00<00:00,  2.72it/s]\n",
      "  0%|          | 0/9 [00:00<?, ?it/s]"
     ]
    },
    {
     "name": "stdout",
     "output_type": "stream",
     "text": [
      "Train Loss: 0.2006, Train Acc: 91.78\n",
      "Val Loss: 0.1781, Val Acc: 92.98\n",
      "EarlyStopping counter: 2 out of 5\n",
      "Epoch 13 of 500\n"
     ]
    },
    {
     "name": "stderr",
     "output_type": "stream",
     "text": [
      "100%|██████████| 9/9 [00:01<00:00,  5.71it/s]\n",
      "100%|██████████| 2/2 [00:00<00:00,  2.79it/s]\n",
      "  0%|          | 0/9 [00:00<?, ?it/s]"
     ]
    },
    {
     "name": "stdout",
     "output_type": "stream",
     "text": [
      "Train Loss: 0.1955, Train Acc: 92.03\n",
      "Val Loss: 0.1660, Val Acc: 93.75\n",
      "Validation loss decreased (0.171607 --> 0.166050).  Saving model ...\n",
      "../pjr_saved_model_last/NEW_PJR_replay_100/2018-02/best_model_epoch_13.pt\n",
      "Epoch 14 of 500\n"
     ]
    },
    {
     "name": "stderr",
     "output_type": "stream",
     "text": [
      "100%|██████████| 9/9 [00:01<00:00,  5.64it/s]\n",
      "100%|██████████| 2/2 [00:00<00:00,  2.38it/s]\n",
      "  0%|          | 0/9 [00:00<?, ?it/s]"
     ]
    },
    {
     "name": "stdout",
     "output_type": "stream",
     "text": [
      "Train Loss: 0.1886, Train Acc: 92.41\n",
      "Val Loss: 0.1723, Val Acc: 93.38\n",
      "EarlyStopping counter: 1 out of 5\n",
      "Epoch 15 of 500\n"
     ]
    },
    {
     "name": "stderr",
     "output_type": "stream",
     "text": [
      "100%|██████████| 9/9 [00:01<00:00,  5.66it/s]\n",
      "100%|██████████| 2/2 [00:00<00:00,  2.83it/s]\n",
      "  0%|          | 0/9 [00:00<?, ?it/s]"
     ]
    },
    {
     "name": "stdout",
     "output_type": "stream",
     "text": [
      "Train Loss: 0.1888, Train Acc: 92.38\n",
      "Val Loss: 0.1729, Val Acc: 93.37\n",
      "EarlyStopping counter: 2 out of 5\n",
      "Epoch 16 of 500\n"
     ]
    },
    {
     "name": "stderr",
     "output_type": "stream",
     "text": [
      "100%|██████████| 9/9 [00:01<00:00,  5.87it/s]\n",
      "100%|██████████| 2/2 [00:00<00:00,  2.85it/s]\n",
      "  0%|          | 0/9 [00:00<?, ?it/s]"
     ]
    },
    {
     "name": "stdout",
     "output_type": "stream",
     "text": [
      "Train Loss: 0.1796, Train Acc: 92.72\n",
      "Val Loss: 0.1751, Val Acc: 93.17\n",
      "EarlyStopping counter: 3 out of 5\n",
      "Epoch 17 of 500\n"
     ]
    },
    {
     "name": "stderr",
     "output_type": "stream",
     "text": [
      "100%|██████████| 9/9 [00:01<00:00,  5.63it/s]\n",
      "100%|██████████| 2/2 [00:00<00:00,  2.42it/s]\n",
      "  0%|          | 0/9 [00:00<?, ?it/s]"
     ]
    },
    {
     "name": "stdout",
     "output_type": "stream",
     "text": [
      "Train Loss: 0.1817, Train Acc: 92.71\n",
      "Val Loss: 0.1623, Val Acc: 94.10\n",
      "Validation loss decreased (0.166050 --> 0.162270).  Saving model ...\n",
      "../pjr_saved_model_last/NEW_PJR_replay_100/2018-02/best_model_epoch_17.pt\n",
      "Epoch 18 of 500\n"
     ]
    },
    {
     "name": "stderr",
     "output_type": "stream",
     "text": [
      "100%|██████████| 9/9 [00:01<00:00,  5.58it/s]\n",
      "100%|██████████| 2/2 [00:00<00:00,  2.76it/s]\n",
      "  0%|          | 0/9 [00:00<?, ?it/s]"
     ]
    },
    {
     "name": "stdout",
     "output_type": "stream",
     "text": [
      "Train Loss: 0.1751, Train Acc: 92.74\n",
      "Val Loss: 0.1659, Val Acc: 93.71\n",
      "EarlyStopping counter: 1 out of 5\n",
      "Epoch 19 of 500\n"
     ]
    },
    {
     "name": "stderr",
     "output_type": "stream",
     "text": [
      "100%|██████████| 9/9 [00:01<00:00,  5.71it/s]\n",
      "100%|██████████| 2/2 [00:00<00:00,  2.82it/s]\n",
      "  0%|          | 0/9 [00:00<?, ?it/s]"
     ]
    },
    {
     "name": "stdout",
     "output_type": "stream",
     "text": [
      "Train Loss: 0.1720, Train Acc: 93.16\n",
      "Val Loss: 0.1750, Val Acc: 93.61\n",
      "EarlyStopping counter: 2 out of 5\n",
      "Epoch 20 of 500\n"
     ]
    },
    {
     "name": "stderr",
     "output_type": "stream",
     "text": [
      "100%|██████████| 9/9 [00:01<00:00,  5.63it/s]\n",
      "100%|██████████| 2/2 [00:00<00:00,  2.85it/s]\n",
      "  0%|          | 0/9 [00:00<?, ?it/s]"
     ]
    },
    {
     "name": "stdout",
     "output_type": "stream",
     "text": [
      "Train Loss: 0.1740, Train Acc: 92.93\n",
      "Val Loss: 0.1711, Val Acc: 93.34\n",
      "EarlyStopping counter: 3 out of 5\n",
      "Epoch 21 of 500\n"
     ]
    },
    {
     "name": "stderr",
     "output_type": "stream",
     "text": [
      "100%|██████████| 9/9 [00:01<00:00,  5.68it/s]\n",
      "100%|██████████| 2/2 [00:00<00:00,  2.60it/s]\n",
      "  0%|          | 0/9 [00:00<?, ?it/s]"
     ]
    },
    {
     "name": "stdout",
     "output_type": "stream",
     "text": [
      "Train Loss: 0.1709, Train Acc: 93.17\n",
      "Val Loss: 0.1743, Val Acc: 93.70\n",
      "EarlyStopping counter: 4 out of 5\n",
      "Epoch 22 of 500\n"
     ]
    },
    {
     "name": "stderr",
     "output_type": "stream",
     "text": [
      "100%|██████████| 9/9 [00:01<00:00,  5.55it/s]\n",
      "100%|██████████| 2/2 [00:00<00:00,  2.77it/s]\n",
      " 50%|█████     | 1/2 [00:00<00:00,  7.25it/s]"
     ]
    },
    {
     "name": "stdout",
     "output_type": "stream",
     "text": [
      "Train Loss: 0.1691, Train Acc: 93.28\n",
      "Val Loss: 0.1743, Val Acc: 93.65\n",
      "EarlyStopping counter: 5 out of 5\n",
      "Early stopping\n",
      "Training time: 0.884 minutes\n"
     ]
    },
    {
     "name": "stderr",
     "output_type": "stream",
     "text": [
      "100%|██████████| 2/2 [00:00<00:00,  4.26it/s]\n"
     ]
    },
    {
     "name": "stdout",
     "output_type": "stream",
     "text": [
      "0.9386524211614682 0.985863311226396\n",
      "Elapsed time 2.110471765200297 mins.\n",
      "\n",
      "2022-10-05 15:16:44 Round 1 ...\n",
      "Current Task 2018-03 w/ 100 samples to Replay per Malware family.\n",
      "X_train (37372, 2381) Y_train (37372,) Y_tr_family (37372,)\n",
      "X_test (15759, 2381) Y_test (15759,) Y_te_family (15759,)\n",
      "X_replay (15830, 2381) Y_replay (15830,)\n",
      "Replay 15730 malware samples of 1291 families\n",
      "and Replay 100 goodware samples\n",
      "Task 2018-03 and #-of new samples stored 37372\n",
      "W/O replay samples \n",
      " X_train (37372, 2381) Y_train (37372,)\n",
      "With replay samples \n",
      " X_train (53202, 2381) Y_train (53202,)\n",
      "************** ************** **************\n",
      "\n",
      "2022-10-05 15:16:46 Standardizing ...\n"
     ]
    },
    {
     "name": "stderr",
     "output_type": "stream",
     "text": [
      "\r",
      "  0%|          | 0/8 [00:00<?, ?it/s]"
     ]
    },
    {
     "name": "stdout",
     "output_type": "stream",
     "text": [
      "2022-10-05 15:16:48 Training ...\n",
      "Epoch 1 of 500\n"
     ]
    },
    {
     "name": "stderr",
     "output_type": "stream",
     "text": [
      "100%|██████████| 8/8 [00:01<00:00,  5.42it/s]\n",
      "100%|██████████| 3/3 [00:00<00:00,  4.96it/s]\n",
      "  0%|          | 0/8 [00:00<?, ?it/s]"
     ]
    },
    {
     "name": "stdout",
     "output_type": "stream",
     "text": [
      "Train Loss: 0.2632, Train Acc: 89.46\n",
      "Val Loss: 0.1847, Val Acc: 92.97\n",
      "Validation loss decreased (inf --> 0.184716).  Saving model ...\n",
      "../pjr_saved_model_last/NEW_PJR_replay_100/2018-03/best_model_epoch_1.pt\n",
      "Epoch 2 of 500\n"
     ]
    },
    {
     "name": "stderr",
     "output_type": "stream",
     "text": [
      "100%|██████████| 8/8 [00:01<00:00,  5.42it/s]\n",
      "100%|██████████| 3/3 [00:00<00:00,  4.98it/s]\n",
      "  0%|          | 0/8 [00:00<?, ?it/s]"
     ]
    },
    {
     "name": "stdout",
     "output_type": "stream",
     "text": [
      "Train Loss: 0.2424, Train Acc: 90.08\n",
      "Val Loss: 0.1897, Val Acc: 92.52\n",
      "EarlyStopping counter: 1 out of 5\n",
      "Epoch 3 of 500\n"
     ]
    },
    {
     "name": "stderr",
     "output_type": "stream",
     "text": [
      "100%|██████████| 8/8 [00:01<00:00,  5.55it/s]\n",
      "100%|██████████| 3/3 [00:00<00:00,  4.53it/s]\n",
      "  0%|          | 0/8 [00:00<?, ?it/s]"
     ]
    },
    {
     "name": "stdout",
     "output_type": "stream",
     "text": [
      "Train Loss: 0.2360, Train Acc: 90.34\n",
      "Val Loss: 0.1888, Val Acc: 92.60\n",
      "EarlyStopping counter: 2 out of 5\n",
      "Epoch 4 of 500\n"
     ]
    },
    {
     "name": "stderr",
     "output_type": "stream",
     "text": [
      "100%|██████████| 8/8 [00:01<00:00,  5.55it/s]\n",
      "100%|██████████| 3/3 [00:00<00:00,  4.59it/s]\n",
      "  0%|          | 0/8 [00:00<?, ?it/s]"
     ]
    },
    {
     "name": "stdout",
     "output_type": "stream",
     "text": [
      "Train Loss: 0.2271, Train Acc: 90.66\n",
      "Val Loss: 0.1958, Val Acc: 92.33\n",
      "EarlyStopping counter: 3 out of 5\n",
      "Epoch 5 of 500\n"
     ]
    },
    {
     "name": "stderr",
     "output_type": "stream",
     "text": [
      "100%|██████████| 8/8 [00:01<00:00,  5.27it/s]\n",
      "100%|██████████| 3/3 [00:00<00:00,  4.71it/s]\n",
      "  0%|          | 0/8 [00:00<?, ?it/s]"
     ]
    },
    {
     "name": "stdout",
     "output_type": "stream",
     "text": [
      "Train Loss: 0.2197, Train Acc: 91.03\n",
      "Val Loss: 0.1902, Val Acc: 92.44\n",
      "EarlyStopping counter: 4 out of 5\n",
      "Epoch 6 of 500\n"
     ]
    },
    {
     "name": "stderr",
     "output_type": "stream",
     "text": [
      "100%|██████████| 8/8 [00:01<00:00,  5.48it/s]\n",
      "100%|██████████| 3/3 [00:00<00:00,  4.57it/s]\n",
      " 33%|███▎      | 1/3 [00:00<00:00,  7.34it/s]"
     ]
    },
    {
     "name": "stdout",
     "output_type": "stream",
     "text": [
      "Train Loss: 0.2156, Train Acc: 91.19\n",
      "Val Loss: 0.1853, Val Acc: 92.62\n",
      "EarlyStopping counter: 5 out of 5\n",
      "Early stopping\n",
      "Training time: 0.216 minutes\n"
     ]
    },
    {
     "name": "stderr",
     "output_type": "stream",
     "text": [
      "100%|██████████| 3/3 [00:00<00:00, 10.05it/s]\n"
     ]
    },
    {
     "name": "stdout",
     "output_type": "stream",
     "text": [
      "0.9258201662542039 0.9825851170530184\n",
      "Elapsed time 2.402612741788228 mins.\n",
      "\n",
      "2022-10-05 15:17:02 Round 1 ...\n",
      "Current Task 2018-04 w/ 100 samples to Replay per Malware family.\n",
      "X_train (46873, 2381) Y_train (46873,) Y_tr_family (46873,)\n",
      "X_test (20968, 2381) Y_test (20968,) Y_te_family (20968,)\n",
      "X_replay (19801, 2381) Y_replay (19801,)\n",
      "Replay 19701 malware samples of 1536 families\n",
      "and Replay 100 goodware samples\n",
      "Task 2018-04 and #-of new samples stored 46873\n",
      "W/O replay samples \n",
      " X_train (46873, 2381) Y_train (46873,)\n",
      "With replay samples \n",
      " X_train (66674, 2381) Y_train (66674,)\n",
      "************** ************** **************\n",
      "\n",
      "2022-10-05 15:17:04 Standardizing ...\n"
     ]
    },
    {
     "name": "stderr",
     "output_type": "stream",
     "text": [
      "\r",
      "  0%|          | 0/11 [00:00<?, ?it/s]"
     ]
    },
    {
     "name": "stdout",
     "output_type": "stream",
     "text": [
      "2022-10-05 15:17:07 Training ...\n",
      "Epoch 1 of 500\n"
     ]
    },
    {
     "name": "stderr",
     "output_type": "stream",
     "text": [
      "100%|██████████| 11/11 [00:01<00:00,  6.47it/s]\n",
      "100%|██████████| 4/4 [00:00<00:00,  4.42it/s]\n",
      "  0%|          | 0/11 [00:00<?, ?it/s]"
     ]
    },
    {
     "name": "stdout",
     "output_type": "stream",
     "text": [
      "Train Loss: 0.2269, Train Acc: 90.86\n",
      "Val Loss: 0.1900, Val Acc: 92.39\n",
      "Validation loss decreased (inf --> 0.190036).  Saving model ...\n",
      "../pjr_saved_model_last/NEW_PJR_replay_100/2018-04/best_model_epoch_1.pt\n",
      "Epoch 2 of 500\n"
     ]
    },
    {
     "name": "stderr",
     "output_type": "stream",
     "text": [
      "100%|██████████| 11/11 [00:02<00:00,  4.81it/s]\n",
      "100%|██████████| 4/4 [00:00<00:00,  4.41it/s]\n",
      "  0%|          | 0/11 [00:00<?, ?it/s]"
     ]
    },
    {
     "name": "stdout",
     "output_type": "stream",
     "text": [
      "Train Loss: 0.2067, Train Acc: 91.83\n",
      "Val Loss: 0.1805, Val Acc: 92.88\n",
      "Validation loss decreased (0.190036 --> 0.180468).  Saving model ...\n",
      "../pjr_saved_model_last/NEW_PJR_replay_100/2018-04/best_model_epoch_2.pt\n",
      "Epoch 3 of 500\n"
     ]
    },
    {
     "name": "stderr",
     "output_type": "stream",
     "text": [
      "100%|██████████| 11/11 [00:02<00:00,  5.44it/s]\n",
      "100%|██████████| 4/4 [00:00<00:00,  4.75it/s]\n",
      "  0%|          | 0/11 [00:00<?, ?it/s]"
     ]
    },
    {
     "name": "stdout",
     "output_type": "stream",
     "text": [
      "Train Loss: 0.1977, Train Acc: 92.01\n",
      "Val Loss: 0.1896, Val Acc: 92.22\n",
      "EarlyStopping counter: 1 out of 5\n",
      "Epoch 4 of 500\n"
     ]
    },
    {
     "name": "stderr",
     "output_type": "stream",
     "text": [
      "100%|██████████| 11/11 [00:02<00:00,  5.22it/s]\n",
      "100%|██████████| 4/4 [00:00<00:00,  4.48it/s]\n",
      "  0%|          | 0/11 [00:00<?, ?it/s]"
     ]
    },
    {
     "name": "stdout",
     "output_type": "stream",
     "text": [
      "Train Loss: 0.1895, Train Acc: 92.37\n",
      "Val Loss: 0.1977, Val Acc: 91.92\n",
      "EarlyStopping counter: 2 out of 5\n",
      "Epoch 5 of 500\n"
     ]
    },
    {
     "name": "stderr",
     "output_type": "stream",
     "text": [
      "100%|██████████| 11/11 [00:01<00:00,  5.84it/s]\n",
      "100%|██████████| 4/4 [00:00<00:00,  4.28it/s]\n",
      "  0%|          | 0/11 [00:00<?, ?it/s]"
     ]
    },
    {
     "name": "stdout",
     "output_type": "stream",
     "text": [
      "Train Loss: 0.1826, Train Acc: 92.75\n",
      "Val Loss: 0.1975, Val Acc: 92.10\n",
      "EarlyStopping counter: 3 out of 5\n",
      "Epoch 6 of 500\n"
     ]
    },
    {
     "name": "stderr",
     "output_type": "stream",
     "text": [
      "100%|██████████| 11/11 [00:01<00:00,  5.69it/s]\n",
      "100%|██████████| 4/4 [00:00<00:00,  4.27it/s]\n",
      "  0%|          | 0/11 [00:00<?, ?it/s]"
     ]
    },
    {
     "name": "stdout",
     "output_type": "stream",
     "text": [
      "Train Loss: 0.1815, Train Acc: 92.72\n",
      "Val Loss: 0.1862, Val Acc: 92.70\n",
      "EarlyStopping counter: 4 out of 5\n",
      "Epoch 7 of 500\n"
     ]
    },
    {
     "name": "stderr",
     "output_type": "stream",
     "text": [
      "100%|██████████| 11/11 [00:02<00:00,  5.41it/s]\n",
      "100%|██████████| 4/4 [00:00<00:00,  4.41it/s]\n",
      "  0%|          | 0/4 [00:00<?, ?it/s]"
     ]
    },
    {
     "name": "stdout",
     "output_type": "stream",
     "text": [
      "Train Loss: 0.1751, Train Acc: 93.03\n",
      "Val Loss: 0.1874, Val Acc: 92.49\n",
      "EarlyStopping counter: 5 out of 5\n",
      "Early stopping\n",
      "Training time: 0.345 minutes\n"
     ]
    },
    {
     "name": "stderr",
     "output_type": "stream",
     "text": [
      "100%|██████████| 4/4 [00:00<00:00,  6.39it/s]\n"
     ]
    },
    {
     "name": "stdout",
     "output_type": "stream",
     "text": [
      "0.9268409004196871 0.9844025684476064\n",
      "Elapsed time 2.852091101805369 mins.\n",
      "\n",
      "2022-10-05 15:17:29 Round 1 ...\n",
      "Current Task 2018-05 w/ 100 samples to Replay per Malware family.\n",
      "X_train (41320, 2381) Y_train (41320,) Y_tr_family (41320,)\n",
      "X_test (25560, 2381) Y_test (25560,) Y_te_family (25560,)\n",
      "X_replay (22651, 2381) Y_replay (22651,)\n",
      "Replay 22551 malware samples of 1735 families\n",
      "and Replay 100 goodware samples\n",
      "Task 2018-05 and #-of new samples stored 41320\n",
      "W/O replay samples \n",
      " X_train (41320, 2381) Y_train (41320,)\n",
      "With replay samples \n",
      " X_train (63971, 2381) Y_train (63971,)\n",
      "************** ************** **************\n",
      "\n",
      "2022-10-05 15:17:31 Standardizing ...\n"
     ]
    },
    {
     "name": "stderr",
     "output_type": "stream",
     "text": [
      "\r",
      "  0%|          | 0/10 [00:00<?, ?it/s]"
     ]
    },
    {
     "name": "stdout",
     "output_type": "stream",
     "text": [
      "2022-10-05 15:17:34 Training ...\n",
      "Epoch 1 of 500\n"
     ]
    },
    {
     "name": "stderr",
     "output_type": "stream",
     "text": [
      "100%|██████████| 10/10 [00:01<00:00,  6.02it/s]\n",
      "100%|██████████| 5/5 [00:01<00:00,  4.79it/s]\n",
      "  0%|          | 0/10 [00:00<?, ?it/s]"
     ]
    },
    {
     "name": "stdout",
     "output_type": "stream",
     "text": [
      "Train Loss: 0.1984, Train Acc: 92.30\n",
      "Val Loss: 0.2192, Val Acc: 91.31\n",
      "Validation loss decreased (inf --> 0.219164).  Saving model ...\n",
      "../pjr_saved_model_last/NEW_PJR_replay_100/2018-05/best_model_epoch_1.pt\n",
      "Epoch 2 of 500\n"
     ]
    },
    {
     "name": "stderr",
     "output_type": "stream",
     "text": [
      "100%|██████████| 10/10 [00:01<00:00,  5.65it/s]\n",
      "100%|██████████| 5/5 [00:00<00:00,  5.96it/s]\n",
      "  0%|          | 0/10 [00:00<?, ?it/s]"
     ]
    },
    {
     "name": "stdout",
     "output_type": "stream",
     "text": [
      "Train Loss: 0.1865, Train Acc: 92.64\n",
      "Val Loss: 0.2203, Val Acc: 91.52\n",
      "EarlyStopping counter: 1 out of 5\n",
      "Epoch 3 of 500\n"
     ]
    },
    {
     "name": "stderr",
     "output_type": "stream",
     "text": [
      "100%|██████████| 10/10 [00:01<00:00,  5.50it/s]\n",
      "100%|██████████| 5/5 [00:00<00:00,  5.44it/s]\n",
      "  0%|          | 0/10 [00:00<?, ?it/s]"
     ]
    },
    {
     "name": "stdout",
     "output_type": "stream",
     "text": [
      "Train Loss: 0.1827, Train Acc: 92.80\n",
      "Val Loss: 0.2191, Val Acc: 91.57\n",
      "Validation loss decreased (0.219164 --> 0.219132).  Saving model ...\n",
      "../pjr_saved_model_last/NEW_PJR_replay_100/2018-05/best_model_epoch_3.pt\n",
      "Epoch 4 of 500\n"
     ]
    },
    {
     "name": "stderr",
     "output_type": "stream",
     "text": [
      "100%|██████████| 10/10 [00:01<00:00,  5.46it/s]\n",
      "100%|██████████| 5/5 [00:00<00:00,  5.12it/s]\n",
      "  0%|          | 0/10 [00:00<?, ?it/s]"
     ]
    },
    {
     "name": "stdout",
     "output_type": "stream",
     "text": [
      "Train Loss: 0.1752, Train Acc: 93.22\n",
      "Val Loss: 0.2254, Val Acc: 91.07\n",
      "EarlyStopping counter: 1 out of 5\n",
      "Epoch 5 of 500\n"
     ]
    },
    {
     "name": "stderr",
     "output_type": "stream",
     "text": [
      "100%|██████████| 10/10 [00:01<00:00,  6.10it/s]\n",
      "100%|██████████| 5/5 [00:00<00:00,  5.81it/s]\n",
      "  0%|          | 0/10 [00:00<?, ?it/s]"
     ]
    },
    {
     "name": "stdout",
     "output_type": "stream",
     "text": [
      "Train Loss: 0.1719, Train Acc: 93.30\n",
      "Val Loss: 0.2291, Val Acc: 91.07\n",
      "EarlyStopping counter: 2 out of 5\n",
      "Epoch 6 of 500\n"
     ]
    },
    {
     "name": "stderr",
     "output_type": "stream",
     "text": [
      "100%|██████████| 10/10 [00:01<00:00,  5.79it/s]\n",
      "100%|██████████| 5/5 [00:00<00:00,  5.68it/s]\n",
      "  0%|          | 0/10 [00:00<?, ?it/s]"
     ]
    },
    {
     "name": "stdout",
     "output_type": "stream",
     "text": [
      "Train Loss: 0.1633, Train Acc: 93.67\n",
      "Val Loss: 0.2330, Val Acc: 90.76\n",
      "EarlyStopping counter: 3 out of 5\n",
      "Epoch 7 of 500\n"
     ]
    },
    {
     "name": "stderr",
     "output_type": "stream",
     "text": [
      "100%|██████████| 10/10 [00:01<00:00,  5.21it/s]\n",
      "100%|██████████| 5/5 [00:01<00:00,  4.66it/s]\n",
      "  0%|          | 0/10 [00:00<?, ?it/s]"
     ]
    },
    {
     "name": "stdout",
     "output_type": "stream",
     "text": [
      "Train Loss: 0.1628, Train Acc: 93.68\n",
      "Val Loss: 0.2295, Val Acc: 90.92\n",
      "EarlyStopping counter: 4 out of 5\n",
      "Epoch 8 of 500\n"
     ]
    },
    {
     "name": "stderr",
     "output_type": "stream",
     "text": [
      "100%|██████████| 10/10 [00:01<00:00,  5.92it/s]\n",
      "100%|██████████| 5/5 [00:00<00:00,  5.78it/s]\n",
      " 20%|██        | 1/5 [00:00<00:00,  6.04it/s]"
     ]
    },
    {
     "name": "stdout",
     "output_type": "stream",
     "text": [
      "Train Loss: 0.1596, Train Acc: 93.83\n",
      "Val Loss: 0.2365, Val Acc: 90.57\n",
      "EarlyStopping counter: 5 out of 5\n",
      "Early stopping\n",
      "Training time: 0.366 minutes\n"
     ]
    },
    {
     "name": "stderr",
     "output_type": "stream",
     "text": [
      "100%|██████████| 5/5 [00:00<00:00,  6.95it/s]\n"
     ]
    },
    {
     "name": "stdout",
     "output_type": "stream",
     "text": [
      "0.9104851330203443 0.984876123146899\n",
      "Elapsed time 3.326561133066813 mins.\n",
      "\n",
      "2022-10-05 15:17:57 Round 1 ...\n",
      "Current Task 2018-06 w/ 100 samples to Replay per Malware family.\n",
      "X_train (43560, 2381) Y_train (43560,) Y_tr_family (43560,)\n",
      "X_test (30401, 2381) Y_test (30401,) Y_te_family (30401,)\n",
      "X_replay (26719, 2381) Y_replay (26719,)\n",
      "Replay 26619 malware samples of 1906 families\n",
      "and Replay 100 goodware samples\n",
      "Task 2018-06 and #-of new samples stored 43560\n",
      "W/O replay samples \n",
      " X_train (43560, 2381) Y_train (43560,)\n",
      "With replay samples \n",
      " X_train (70279, 2381) Y_train (70279,)\n",
      "************** ************** **************\n",
      "\n",
      "2022-10-05 15:18:00 Standardizing ...\n"
     ]
    },
    {
     "name": "stderr",
     "output_type": "stream",
     "text": [
      "\r",
      "  0%|          | 0/11 [00:00<?, ?it/s]"
     ]
    },
    {
     "name": "stdout",
     "output_type": "stream",
     "text": [
      "2022-10-05 15:18:06 Training ...\n",
      "Epoch 1 of 500\n"
     ]
    },
    {
     "name": "stderr",
     "output_type": "stream",
     "text": [
      "100%|██████████| 11/11 [00:02<00:00,  4.74it/s]\n",
      "100%|██████████| 6/6 [00:01<00:00,  4.05it/s]\n",
      "  0%|          | 0/11 [00:00<?, ?it/s]"
     ]
    },
    {
     "name": "stdout",
     "output_type": "stream",
     "text": [
      "Train Loss: 0.2268, Train Acc: 90.88\n",
      "Val Loss: 0.2029, Val Acc: 92.01\n",
      "Validation loss decreased (inf --> 0.202855).  Saving model ...\n",
      "../pjr_saved_model_last/NEW_PJR_replay_100/2018-06/best_model_epoch_1.pt\n",
      "Epoch 2 of 500\n"
     ]
    },
    {
     "name": "stderr",
     "output_type": "stream",
     "text": [
      "100%|██████████| 11/11 [00:01<00:00,  5.58it/s]\n",
      "100%|██████████| 6/6 [00:01<00:00,  4.60it/s]\n",
      "  0%|          | 0/11 [00:00<?, ?it/s]"
     ]
    },
    {
     "name": "stdout",
     "output_type": "stream",
     "text": [
      "Train Loss: 0.2128, Train Acc: 91.69\n",
      "Val Loss: 0.2083, Val Acc: 91.85\n",
      "EarlyStopping counter: 1 out of 5\n",
      "Epoch 3 of 500\n"
     ]
    },
    {
     "name": "stderr",
     "output_type": "stream",
     "text": [
      "100%|██████████| 11/11 [00:02<00:00,  4.91it/s]\n",
      "100%|██████████| 6/6 [00:01<00:00,  4.73it/s]\n",
      "  0%|          | 0/11 [00:00<?, ?it/s]"
     ]
    },
    {
     "name": "stdout",
     "output_type": "stream",
     "text": [
      "Train Loss: 0.1988, Train Acc: 92.23\n",
      "Val Loss: 0.2158, Val Acc: 91.78\n",
      "EarlyStopping counter: 2 out of 5\n",
      "Epoch 4 of 500\n"
     ]
    },
    {
     "name": "stderr",
     "output_type": "stream",
     "text": [
      "100%|██████████| 11/11 [00:01<00:00,  5.51it/s]\n",
      "100%|██████████| 6/6 [00:01<00:00,  4.82it/s]\n",
      "  0%|          | 0/11 [00:00<?, ?it/s]"
     ]
    },
    {
     "name": "stdout",
     "output_type": "stream",
     "text": [
      "Train Loss: 0.1963, Train Acc: 92.21\n",
      "Val Loss: 0.2078, Val Acc: 92.02\n",
      "EarlyStopping counter: 3 out of 5\n",
      "Epoch 5 of 500\n"
     ]
    },
    {
     "name": "stderr",
     "output_type": "stream",
     "text": [
      "100%|██████████| 11/11 [00:01<00:00,  5.59it/s]\n",
      "100%|██████████| 6/6 [00:01<00:00,  3.94it/s]\n",
      "  0%|          | 0/11 [00:00<?, ?it/s]"
     ]
    },
    {
     "name": "stdout",
     "output_type": "stream",
     "text": [
      "Train Loss: 0.1897, Train Acc: 92.50\n",
      "Val Loss: 0.1977, Val Acc: 92.27\n",
      "Validation loss decreased (0.202855 --> 0.197653).  Saving model ...\n",
      "../pjr_saved_model_last/NEW_PJR_replay_100/2018-06/best_model_epoch_5.pt\n",
      "Epoch 6 of 500\n"
     ]
    },
    {
     "name": "stderr",
     "output_type": "stream",
     "text": [
      "100%|██████████| 11/11 [00:02<00:00,  5.35it/s]\n",
      "100%|██████████| 6/6 [00:01<00:00,  4.01it/s]\n",
      "  0%|          | 0/11 [00:00<?, ?it/s]"
     ]
    },
    {
     "name": "stdout",
     "output_type": "stream",
     "text": [
      "Train Loss: 0.1814, Train Acc: 92.79\n",
      "Val Loss: 0.1952, Val Acc: 92.44\n",
      "Validation loss decreased (0.197653 --> 0.195215).  Saving model ...\n",
      "../pjr_saved_model_last/NEW_PJR_replay_100/2018-06/best_model_epoch_6.pt\n",
      "Epoch 7 of 500\n"
     ]
    },
    {
     "name": "stderr",
     "output_type": "stream",
     "text": [
      "100%|██████████| 11/11 [00:02<00:00,  5.35it/s]\n",
      "100%|██████████| 6/6 [00:01<00:00,  4.37it/s]\n",
      "  0%|          | 0/11 [00:00<?, ?it/s]"
     ]
    },
    {
     "name": "stdout",
     "output_type": "stream",
     "text": [
      "Train Loss: 0.1801, Train Acc: 92.88\n",
      "Val Loss: 0.2008, Val Acc: 92.21\n",
      "EarlyStopping counter: 1 out of 5\n",
      "Epoch 8 of 500\n"
     ]
    },
    {
     "name": "stderr",
     "output_type": "stream",
     "text": [
      "100%|██████████| 11/11 [00:02<00:00,  5.47it/s]\n",
      "100%|██████████| 6/6 [00:01<00:00,  4.52it/s]\n",
      "  0%|          | 0/11 [00:00<?, ?it/s]"
     ]
    },
    {
     "name": "stdout",
     "output_type": "stream",
     "text": [
      "Train Loss: 0.1757, Train Acc: 93.20\n",
      "Val Loss: 0.2065, Val Acc: 92.24\n",
      "EarlyStopping counter: 2 out of 5\n",
      "Epoch 9 of 500\n"
     ]
    },
    {
     "name": "stderr",
     "output_type": "stream",
     "text": [
      "100%|██████████| 11/11 [00:02<00:00,  4.84it/s]\n",
      "100%|██████████| 6/6 [00:01<00:00,  4.35it/s]\n",
      "  0%|          | 0/11 [00:00<?, ?it/s]"
     ]
    },
    {
     "name": "stdout",
     "output_type": "stream",
     "text": [
      "Train Loss: 0.1749, Train Acc: 93.17\n",
      "Val Loss: 0.1976, Val Acc: 92.58\n",
      "EarlyStopping counter: 3 out of 5\n",
      "Epoch 10 of 500\n"
     ]
    },
    {
     "name": "stderr",
     "output_type": "stream",
     "text": [
      "100%|██████████| 11/11 [00:02<00:00,  4.96it/s]\n",
      "100%|██████████| 6/6 [00:01<00:00,  4.83it/s]\n",
      "  0%|          | 0/11 [00:00<?, ?it/s]"
     ]
    },
    {
     "name": "stdout",
     "output_type": "stream",
     "text": [
      "Train Loss: 0.1676, Train Acc: 93.52\n",
      "Val Loss: 0.2044, Val Acc: 92.35\n",
      "EarlyStopping counter: 4 out of 5\n",
      "Epoch 11 of 500\n"
     ]
    },
    {
     "name": "stderr",
     "output_type": "stream",
     "text": [
      "100%|██████████| 11/11 [00:02<00:00,  5.45it/s]\n",
      "100%|██████████| 6/6 [00:01<00:00,  5.12it/s]\n",
      "  0%|          | 0/6 [00:00<?, ?it/s]"
     ]
    },
    {
     "name": "stdout",
     "output_type": "stream",
     "text": [
      "Train Loss: 0.1692, Train Acc: 93.46\n",
      "Val Loss: 0.1982, Val Acc: 92.67\n",
      "EarlyStopping counter: 5 out of 5\n",
      "Early stopping\n",
      "Training time: 0.641 minutes\n"
     ]
    },
    {
     "name": "stderr",
     "output_type": "stream",
     "text": [
      "100%|██████████| 6/6 [00:00<00:00,  6.29it/s]\n"
     ]
    },
    {
     "name": "stdout",
     "output_type": "stream",
     "text": [
      "0.9252656162626229 0.984329943940851\n",
      "Elapsed time 4.135746296246847 mins.\n",
      "\n",
      "2022-10-05 15:18:46 Round 1 ...\n",
      "Current Task 2018-07 w/ 100 samples to Replay per Malware family.\n",
      "X_train (46278, 2381) Y_train (46278,) Y_tr_family (46278,)\n",
      "X_test (35544, 2381) Y_test (35544,) Y_te_family (35544,)\n",
      "X_replay (30826, 2381) Y_replay (30826,)\n",
      "Replay 30726 malware samples of 2081 families\n",
      "and Replay 100 goodware samples\n",
      "Task 2018-07 and #-of new samples stored 46278\n",
      "W/O replay samples \n",
      " X_train (46278, 2381) Y_train (46278,)\n",
      "With replay samples \n",
      " X_train (77104, 2381) Y_train (77104,)\n",
      "************** ************** **************\n",
      "\n",
      "2022-10-05 15:18:49 Standardizing ...\n"
     ]
    },
    {
     "name": "stderr",
     "output_type": "stream",
     "text": [
      "\r",
      "  0%|          | 0/12 [00:00<?, ?it/s]"
     ]
    },
    {
     "name": "stdout",
     "output_type": "stream",
     "text": [
      "2022-10-05 15:18:53 Training ...\n",
      "Epoch 1 of 500\n"
     ]
    },
    {
     "name": "stderr",
     "output_type": "stream",
     "text": [
      "100%|██████████| 12/12 [00:01<00:00,  6.16it/s]\n",
      "100%|██████████| 6/6 [00:01<00:00,  4.94it/s]\n",
      "  0%|          | 0/12 [00:00<?, ?it/s]"
     ]
    },
    {
     "name": "stdout",
     "output_type": "stream",
     "text": [
      "Train Loss: 0.1749, Train Acc: 93.54\n",
      "Val Loss: 0.1984, Val Acc: 92.34\n",
      "Validation loss decreased (inf --> 0.198426).  Saving model ...\n",
      "../pjr_saved_model_last/NEW_PJR_replay_100/2018-07/best_model_epoch_1.pt\n",
      "Epoch 2 of 500\n"
     ]
    },
    {
     "name": "stderr",
     "output_type": "stream",
     "text": [
      "100%|██████████| 12/12 [00:01<00:00,  6.12it/s]\n",
      "100%|██████████| 6/6 [00:01<00:00,  4.77it/s]\n",
      "  0%|          | 0/12 [00:00<?, ?it/s]"
     ]
    },
    {
     "name": "stdout",
     "output_type": "stream",
     "text": [
      "Train Loss: 0.1632, Train Acc: 93.86\n",
      "Val Loss: 0.1923, Val Acc: 92.56\n",
      "Validation loss decreased (0.198426 --> 0.192332).  Saving model ...\n",
      "../pjr_saved_model_last/NEW_PJR_replay_100/2018-07/best_model_epoch_2.pt\n",
      "Epoch 3 of 500\n"
     ]
    },
    {
     "name": "stderr",
     "output_type": "stream",
     "text": [
      "100%|██████████| 12/12 [00:02<00:00,  5.39it/s]\n",
      "100%|██████████| 6/6 [00:01<00:00,  5.00it/s]\n",
      "  0%|          | 0/12 [00:00<?, ?it/s]"
     ]
    },
    {
     "name": "stdout",
     "output_type": "stream",
     "text": [
      "Train Loss: 0.1568, Train Acc: 94.11\n",
      "Val Loss: 0.2026, Val Acc: 92.04\n",
      "EarlyStopping counter: 1 out of 5\n",
      "Epoch 4 of 500\n"
     ]
    },
    {
     "name": "stderr",
     "output_type": "stream",
     "text": [
      "100%|██████████| 12/12 [00:02<00:00,  5.68it/s]\n",
      "100%|██████████| 6/6 [00:01<00:00,  5.25it/s]\n",
      "  0%|          | 0/12 [00:00<?, ?it/s]"
     ]
    },
    {
     "name": "stdout",
     "output_type": "stream",
     "text": [
      "Train Loss: 0.1558, Train Acc: 94.06\n",
      "Val Loss: 0.2013, Val Acc: 92.28\n",
      "EarlyStopping counter: 2 out of 5\n",
      "Epoch 5 of 500\n"
     ]
    },
    {
     "name": "stderr",
     "output_type": "stream",
     "text": [
      "100%|██████████| 12/12 [00:01<00:00,  6.04it/s]\n",
      "100%|██████████| 6/6 [00:01<00:00,  4.78it/s]\n",
      "  0%|          | 0/12 [00:00<?, ?it/s]"
     ]
    },
    {
     "name": "stdout",
     "output_type": "stream",
     "text": [
      "Train Loss: 0.1459, Train Acc: 94.49\n",
      "Val Loss: 0.1970, Val Acc: 92.32\n",
      "EarlyStopping counter: 3 out of 5\n",
      "Epoch 6 of 500\n"
     ]
    },
    {
     "name": "stderr",
     "output_type": "stream",
     "text": [
      "100%|██████████| 12/12 [00:02<00:00,  5.80it/s]\n",
      "100%|██████████| 6/6 [00:01<00:00,  4.88it/s]\n",
      "  0%|          | 0/12 [00:00<?, ?it/s]"
     ]
    },
    {
     "name": "stdout",
     "output_type": "stream",
     "text": [
      "Train Loss: 0.1461, Train Acc: 94.47\n",
      "Val Loss: 0.1984, Val Acc: 92.37\n",
      "EarlyStopping counter: 4 out of 5\n",
      "Epoch 7 of 500\n"
     ]
    },
    {
     "name": "stderr",
     "output_type": "stream",
     "text": [
      "100%|██████████| 12/12 [00:02<00:00,  5.27it/s]\n",
      "100%|██████████| 6/6 [00:01<00:00,  4.75it/s]\n",
      "  0%|          | 0/12 [00:00<?, ?it/s]"
     ]
    },
    {
     "name": "stdout",
     "output_type": "stream",
     "text": [
      "Train Loss: 0.1403, Train Acc: 94.71\n",
      "Val Loss: 0.1909, Val Acc: 92.56\n",
      "Validation loss decreased (0.192332 --> 0.190937).  Saving model ...\n",
      "../pjr_saved_model_last/NEW_PJR_replay_100/2018-07/best_model_epoch_7.pt\n",
      "Epoch 8 of 500\n"
     ]
    },
    {
     "name": "stderr",
     "output_type": "stream",
     "text": [
      "100%|██████████| 12/12 [00:02<00:00,  5.99it/s]\n",
      "100%|██████████| 6/6 [00:01<00:00,  4.91it/s]\n",
      "  0%|          | 0/12 [00:00<?, ?it/s]"
     ]
    },
    {
     "name": "stdout",
     "output_type": "stream",
     "text": [
      "Train Loss: 0.1367, Train Acc: 94.83\n",
      "Val Loss: 0.2000, Val Acc: 92.31\n",
      "EarlyStopping counter: 1 out of 5\n",
      "Epoch 9 of 500\n"
     ]
    },
    {
     "name": "stderr",
     "output_type": "stream",
     "text": [
      "100%|██████████| 12/12 [00:01<00:00,  6.70it/s]\n",
      "100%|██████████| 6/6 [00:01<00:00,  5.68it/s]\n",
      "  0%|          | 0/12 [00:00<?, ?it/s]"
     ]
    },
    {
     "name": "stdout",
     "output_type": "stream",
     "text": [
      "Train Loss: 0.1410, Train Acc: 94.70\n",
      "Val Loss: 0.1976, Val Acc: 92.37\n",
      "EarlyStopping counter: 2 out of 5\n",
      "Epoch 10 of 500\n"
     ]
    },
    {
     "name": "stderr",
     "output_type": "stream",
     "text": [
      "100%|██████████| 12/12 [00:01<00:00,  6.58it/s]\n",
      "100%|██████████| 6/6 [00:01<00:00,  5.67it/s]\n",
      "  0%|          | 0/12 [00:00<?, ?it/s]"
     ]
    },
    {
     "name": "stdout",
     "output_type": "stream",
     "text": [
      "Train Loss: 0.1303, Train Acc: 95.06\n",
      "Val Loss: 0.2055, Val Acc: 92.19\n",
      "EarlyStopping counter: 3 out of 5\n",
      "Epoch 11 of 500\n"
     ]
    },
    {
     "name": "stderr",
     "output_type": "stream",
     "text": [
      "100%|██████████| 12/12 [00:01<00:00,  6.08it/s]\n",
      "100%|██████████| 6/6 [00:01<00:00,  5.12it/s]\n",
      "  0%|          | 0/12 [00:00<?, ?it/s]"
     ]
    },
    {
     "name": "stdout",
     "output_type": "stream",
     "text": [
      "Train Loss: 0.1308, Train Acc: 95.13\n",
      "Val Loss: 0.2030, Val Acc: 92.23\n",
      "EarlyStopping counter: 4 out of 5\n",
      "Epoch 12 of 500\n"
     ]
    },
    {
     "name": "stderr",
     "output_type": "stream",
     "text": [
      "100%|██████████| 12/12 [00:02<00:00,  5.89it/s]\n",
      "100%|██████████| 6/6 [00:01<00:00,  4.62it/s]\n",
      " 17%|█▋        | 1/6 [00:00<00:00,  6.90it/s]"
     ]
    },
    {
     "name": "stdout",
     "output_type": "stream",
     "text": [
      "Train Loss: 0.1305, Train Acc: 95.07\n",
      "Val Loss: 0.2001, Val Acc: 92.43\n",
      "EarlyStopping counter: 5 out of 5\n",
      "Early stopping\n",
      "Training time: 0.656 minutes\n"
     ]
    },
    {
     "name": "stderr",
     "output_type": "stream",
     "text": [
      "100%|██████████| 6/6 [00:00<00:00,  8.65it/s]\n"
     ]
    },
    {
     "name": "stdout",
     "output_type": "stream",
     "text": [
      "0.925472653612424 0.9867199198720986\n",
      "Elapsed time 4.928234473864237 mins.\n",
      "\n",
      "2022-10-05 15:19:33 Round 1 ...\n",
      "Current Task 2018-08 w/ 100 samples to Replay per Malware family.\n",
      "X_train (40882, 2381) Y_train (40882,) Y_tr_family (40882,)\n",
      "X_test (40087, 2381) Y_test (40087,) Y_te_family (40087,)\n",
      "X_replay (33521, 2381) Y_replay (33521,)\n",
      "Replay 33421 malware samples of 2194 families\n",
      "and Replay 100 goodware samples\n",
      "Task 2018-08 and #-of new samples stored 40882\n",
      "W/O replay samples \n",
      " X_train (40882, 2381) Y_train (40882,)\n",
      "With replay samples \n",
      " X_train (74403, 2381) Y_train (74403,)\n",
      "************** ************** **************\n",
      "\n",
      "2022-10-05 15:19:36 Standardizing ...\n"
     ]
    },
    {
     "name": "stderr",
     "output_type": "stream",
     "text": [
      "\r",
      "  0%|          | 0/12 [00:00<?, ?it/s]"
     ]
    },
    {
     "name": "stdout",
     "output_type": "stream",
     "text": [
      "2022-10-05 15:19:40 Training ...\n",
      "Epoch 1 of 500\n"
     ]
    },
    {
     "name": "stderr",
     "output_type": "stream",
     "text": [
      "100%|██████████| 12/12 [00:01<00:00,  6.01it/s]\n",
      "100%|██████████| 7/7 [00:01<00:00,  5.25it/s]\n",
      "  0%|          | 0/12 [00:00<?, ?it/s]"
     ]
    },
    {
     "name": "stdout",
     "output_type": "stream",
     "text": [
      "Train Loss: 0.1999, Train Acc: 92.22\n",
      "Val Loss: 0.1895, Val Acc: 92.91\n",
      "Validation loss decreased (inf --> 0.189477).  Saving model ...\n",
      "../pjr_saved_model_last/NEW_PJR_replay_100/2018-08/best_model_epoch_1.pt\n",
      "Epoch 2 of 500\n"
     ]
    },
    {
     "name": "stderr",
     "output_type": "stream",
     "text": [
      "100%|██████████| 12/12 [00:01<00:00,  6.41it/s]\n",
      "100%|██████████| 7/7 [00:01<00:00,  5.92it/s]\n",
      "  0%|          | 0/12 [00:00<?, ?it/s]"
     ]
    },
    {
     "name": "stdout",
     "output_type": "stream",
     "text": [
      "Train Loss: 0.1822, Train Acc: 92.77\n",
      "Val Loss: 0.1923, Val Acc: 92.56\n",
      "EarlyStopping counter: 1 out of 5\n",
      "Epoch 3 of 500\n"
     ]
    },
    {
     "name": "stderr",
     "output_type": "stream",
     "text": [
      "100%|██████████| 12/12 [00:01<00:00,  6.23it/s]\n",
      "100%|██████████| 7/7 [00:01<00:00,  5.93it/s]\n",
      "  0%|          | 0/12 [00:00<?, ?it/s]"
     ]
    },
    {
     "name": "stdout",
     "output_type": "stream",
     "text": [
      "Train Loss: 0.1689, Train Acc: 93.21\n",
      "Val Loss: 0.1885, Val Acc: 92.88\n",
      "Validation loss decreased (0.189477 --> 0.188479).  Saving model ...\n",
      "../pjr_saved_model_last/NEW_PJR_replay_100/2018-08/best_model_epoch_3.pt\n",
      "Epoch 4 of 500\n"
     ]
    },
    {
     "name": "stderr",
     "output_type": "stream",
     "text": [
      "100%|██████████| 12/12 [00:01<00:00,  6.30it/s]\n",
      "100%|██████████| 7/7 [00:01<00:00,  5.85it/s]\n",
      "  0%|          | 0/12 [00:00<?, ?it/s]"
     ]
    },
    {
     "name": "stdout",
     "output_type": "stream",
     "text": [
      "Train Loss: 0.1678, Train Acc: 93.24\n",
      "Val Loss: 0.1913, Val Acc: 92.74\n",
      "EarlyStopping counter: 1 out of 5\n",
      "Epoch 5 of 500\n"
     ]
    },
    {
     "name": "stderr",
     "output_type": "stream",
     "text": [
      "100%|██████████| 12/12 [00:02<00:00,  5.77it/s]\n",
      "100%|██████████| 7/7 [00:01<00:00,  4.56it/s]\n",
      "  0%|          | 0/12 [00:00<?, ?it/s]"
     ]
    },
    {
     "name": "stdout",
     "output_type": "stream",
     "text": [
      "Train Loss: 0.1638, Train Acc: 93.42\n",
      "Val Loss: 0.1886, Val Acc: 92.71\n",
      "EarlyStopping counter: 2 out of 5\n",
      "Epoch 6 of 500\n"
     ]
    },
    {
     "name": "stderr",
     "output_type": "stream",
     "text": [
      "100%|██████████| 12/12 [00:01<00:00,  6.09it/s]\n",
      "100%|██████████| 7/7 [00:01<00:00,  5.14it/s]\n",
      "  0%|          | 0/12 [00:00<?, ?it/s]"
     ]
    },
    {
     "name": "stdout",
     "output_type": "stream",
     "text": [
      "Train Loss: 0.1636, Train Acc: 93.30\n",
      "Val Loss: 0.1819, Val Acc: 93.07\n",
      "Validation loss decreased (0.188479 --> 0.181921).  Saving model ...\n",
      "../pjr_saved_model_last/NEW_PJR_replay_100/2018-08/best_model_epoch_6.pt\n",
      "Epoch 7 of 500\n"
     ]
    },
    {
     "name": "stderr",
     "output_type": "stream",
     "text": [
      "100%|██████████| 12/12 [00:02<00:00,  5.81it/s]\n",
      "100%|██████████| 7/7 [00:01<00:00,  5.26it/s]\n",
      "  0%|          | 0/12 [00:00<?, ?it/s]"
     ]
    },
    {
     "name": "stdout",
     "output_type": "stream",
     "text": [
      "Train Loss: 0.1570, Train Acc: 93.67\n",
      "Val Loss: 0.1889, Val Acc: 92.56\n",
      "EarlyStopping counter: 1 out of 5\n",
      "Epoch 8 of 500\n"
     ]
    },
    {
     "name": "stderr",
     "output_type": "stream",
     "text": [
      "100%|██████████| 12/12 [00:01<00:00,  6.06it/s]\n",
      "100%|██████████| 7/7 [00:01<00:00,  5.26it/s]\n",
      "  0%|          | 0/12 [00:00<?, ?it/s]"
     ]
    },
    {
     "name": "stdout",
     "output_type": "stream",
     "text": [
      "Train Loss: 0.1544, Train Acc: 93.77\n",
      "Val Loss: 0.1876, Val Acc: 92.76\n",
      "EarlyStopping counter: 2 out of 5\n",
      "Epoch 9 of 500\n"
     ]
    },
    {
     "name": "stderr",
     "output_type": "stream",
     "text": [
      "100%|██████████| 12/12 [00:01<00:00,  6.37it/s]\n",
      "100%|██████████| 7/7 [00:01<00:00,  5.31it/s]\n",
      "  0%|          | 0/12 [00:00<?, ?it/s]"
     ]
    },
    {
     "name": "stdout",
     "output_type": "stream",
     "text": [
      "Train Loss: 0.1535, Train Acc: 93.92\n",
      "Val Loss: 0.1922, Val Acc: 92.62\n",
      "EarlyStopping counter: 3 out of 5\n",
      "Epoch 10 of 500\n"
     ]
    },
    {
     "name": "stderr",
     "output_type": "stream",
     "text": [
      "100%|██████████| 12/12 [00:01<00:00,  6.05it/s]\n",
      "100%|██████████| 7/7 [00:01<00:00,  4.63it/s]\n",
      "  0%|          | 0/12 [00:00<?, ?it/s]"
     ]
    },
    {
     "name": "stdout",
     "output_type": "stream",
     "text": [
      "Train Loss: 0.1472, Train Acc: 94.22\n",
      "Val Loss: 0.1964, Val Acc: 92.62\n",
      "EarlyStopping counter: 4 out of 5\n",
      "Epoch 11 of 500\n"
     ]
    },
    {
     "name": "stderr",
     "output_type": "stream",
     "text": [
      "100%|██████████| 12/12 [00:02<00:00,  5.46it/s]\n",
      "100%|██████████| 7/7 [00:01<00:00,  5.21it/s]\n",
      " 14%|█▍        | 1/7 [00:00<00:00,  6.74it/s]"
     ]
    },
    {
     "name": "stdout",
     "output_type": "stream",
     "text": [
      "Train Loss: 0.1449, Train Acc: 94.24\n",
      "Val Loss: 0.1941, Val Acc: 92.68\n",
      "EarlyStopping counter: 5 out of 5\n",
      "Early stopping\n",
      "Training time: 0.619 minutes\n"
     ]
    },
    {
     "name": "stderr",
     "output_type": "stream",
     "text": [
      "100%|██████████| 7/7 [00:00<00:00,  7.99it/s]\n"
     ]
    },
    {
     "name": "stdout",
     "output_type": "stream",
     "text": [
      "0.9270337016988051 0.985931974635576\n",
      "Elapsed time 5.6851490100224815 mins.\n",
      "\n",
      "2022-10-05 15:20:19 Round 1 ...\n",
      "Current Task 2018-09 w/ 100 samples to Replay per Malware family.\n",
      "X_train (56492, 2381) Y_train (56492,) Y_tr_family (56492,)\n",
      "X_test (46364, 2381) Y_test (46364,) Y_te_family (46364,)\n",
      "X_replay (36668, 2381) Y_replay (36668,)\n",
      "Replay 36568 malware samples of 2326 families\n",
      "and Replay 100 goodware samples\n",
      "Task 2018-09 and #-of new samples stored 56492\n",
      "W/O replay samples \n",
      " X_train (56492, 2381) Y_train (56492,)\n",
      "With replay samples \n",
      " X_train (93160, 2381) Y_train (93160,)\n",
      "************** ************** **************\n",
      "\n",
      "2022-10-05 15:20:22 Standardizing ...\n"
     ]
    },
    {
     "name": "stderr",
     "output_type": "stream",
     "text": [
      "\r",
      "  0%|          | 0/15 [00:00<?, ?it/s]"
     ]
    },
    {
     "name": "stdout",
     "output_type": "stream",
     "text": [
      "2022-10-05 15:20:29 Training ...\n",
      "Epoch 1 of 500\n"
     ]
    },
    {
     "name": "stderr",
     "output_type": "stream",
     "text": [
      "100%|██████████| 15/15 [00:02<00:00,  5.44it/s]\n",
      "100%|██████████| 8/8 [00:01<00:00,  4.29it/s]\n",
      "  0%|          | 0/15 [00:00<?, ?it/s]"
     ]
    },
    {
     "name": "stdout",
     "output_type": "stream",
     "text": [
      "Train Loss: 0.2267, Train Acc: 91.19\n",
      "Val Loss: 0.1834, Val Acc: 92.72\n",
      "Validation loss decreased (inf --> 0.183437).  Saving model ...\n",
      "../pjr_saved_model_last/NEW_PJR_replay_100/2018-09/best_model_epoch_1.pt\n",
      "Epoch 2 of 500\n"
     ]
    },
    {
     "name": "stderr",
     "output_type": "stream",
     "text": [
      "100%|██████████| 15/15 [00:02<00:00,  6.01it/s]\n",
      "100%|██████████| 8/8 [00:01<00:00,  5.67it/s]\n",
      "  0%|          | 0/15 [00:00<?, ?it/s]"
     ]
    },
    {
     "name": "stdout",
     "output_type": "stream",
     "text": [
      "Train Loss: 0.1987, Train Acc: 91.97\n",
      "Val Loss: 0.1850, Val Acc: 92.75\n",
      "EarlyStopping counter: 1 out of 5\n",
      "Epoch 3 of 500\n"
     ]
    },
    {
     "name": "stderr",
     "output_type": "stream",
     "text": [
      "100%|██████████| 15/15 [00:02<00:00,  6.03it/s]\n",
      "100%|██████████| 8/8 [00:01<00:00,  5.33it/s]\n",
      "  0%|          | 0/15 [00:00<?, ?it/s]"
     ]
    },
    {
     "name": "stdout",
     "output_type": "stream",
     "text": [
      "Train Loss: 0.2004, Train Acc: 91.83\n",
      "Val Loss: 0.1773, Val Acc: 92.70\n",
      "Validation loss decreased (0.183437 --> 0.177333).  Saving model ...\n",
      "../pjr_saved_model_last/NEW_PJR_replay_100/2018-09/best_model_epoch_3.pt\n",
      "Epoch 4 of 500\n"
     ]
    },
    {
     "name": "stderr",
     "output_type": "stream",
     "text": [
      "100%|██████████| 15/15 [00:02<00:00,  6.02it/s]\n",
      "100%|██████████| 8/8 [00:01<00:00,  4.84it/s]\n",
      "  0%|          | 0/15 [00:00<?, ?it/s]"
     ]
    },
    {
     "name": "stdout",
     "output_type": "stream",
     "text": [
      "Train Loss: 0.1954, Train Acc: 92.22\n",
      "Val Loss: 0.1699, Val Acc: 92.98\n",
      "Validation loss decreased (0.177333 --> 0.169911).  Saving model ...\n",
      "../pjr_saved_model_last/NEW_PJR_replay_100/2018-09/best_model_epoch_4.pt\n",
      "Epoch 5 of 500\n"
     ]
    },
    {
     "name": "stderr",
     "output_type": "stream",
     "text": [
      "100%|██████████| 15/15 [00:02<00:00,  6.29it/s]\n",
      "100%|██████████| 8/8 [00:01<00:00,  4.73it/s]\n",
      "  0%|          | 0/15 [00:00<?, ?it/s]"
     ]
    },
    {
     "name": "stdout",
     "output_type": "stream",
     "text": [
      "Train Loss: 0.1832, Train Acc: 92.52\n",
      "Val Loss: 0.1729, Val Acc: 92.97\n",
      "EarlyStopping counter: 1 out of 5\n",
      "Epoch 6 of 500\n"
     ]
    },
    {
     "name": "stderr",
     "output_type": "stream",
     "text": [
      "100%|██████████| 15/15 [00:02<00:00,  5.34it/s]\n",
      "100%|██████████| 8/8 [00:01<00:00,  4.63it/s]\n",
      "  0%|          | 0/15 [00:00<?, ?it/s]"
     ]
    },
    {
     "name": "stdout",
     "output_type": "stream",
     "text": [
      "Train Loss: 0.1785, Train Acc: 92.73\n",
      "Val Loss: 0.1623, Val Acc: 93.36\n",
      "Validation loss decreased (0.169911 --> 0.162299).  Saving model ...\n",
      "../pjr_saved_model_last/NEW_PJR_replay_100/2018-09/best_model_epoch_6.pt\n",
      "Epoch 7 of 500\n"
     ]
    },
    {
     "name": "stderr",
     "output_type": "stream",
     "text": [
      "100%|██████████| 15/15 [00:02<00:00,  6.07it/s]\n",
      "100%|██████████| 8/8 [00:01<00:00,  5.18it/s]\n",
      "  0%|          | 0/15 [00:00<?, ?it/s]"
     ]
    },
    {
     "name": "stdout",
     "output_type": "stream",
     "text": [
      "Train Loss: 0.1778, Train Acc: 92.66\n",
      "Val Loss: 0.1858, Val Acc: 92.51\n",
      "EarlyStopping counter: 1 out of 5\n",
      "Epoch 8 of 500\n"
     ]
    },
    {
     "name": "stderr",
     "output_type": "stream",
     "text": [
      "100%|██████████| 15/15 [00:02<00:00,  6.19it/s]\n",
      "100%|██████████| 8/8 [00:01<00:00,  5.01it/s]\n",
      "  0%|          | 0/15 [00:00<?, ?it/s]"
     ]
    },
    {
     "name": "stdout",
     "output_type": "stream",
     "text": [
      "Train Loss: 0.1770, Train Acc: 92.73\n",
      "Val Loss: 0.1744, Val Acc: 92.99\n",
      "EarlyStopping counter: 2 out of 5\n",
      "Epoch 9 of 500\n"
     ]
    },
    {
     "name": "stderr",
     "output_type": "stream",
     "text": [
      "100%|██████████| 15/15 [00:02<00:00,  5.63it/s]\n",
      "100%|██████████| 8/8 [00:01<00:00,  5.04it/s]\n",
      "  0%|          | 0/15 [00:00<?, ?it/s]"
     ]
    },
    {
     "name": "stdout",
     "output_type": "stream",
     "text": [
      "Train Loss: 0.1656, Train Acc: 93.32\n",
      "Val Loss: 0.1726, Val Acc: 93.05\n",
      "EarlyStopping counter: 3 out of 5\n",
      "Epoch 10 of 500\n"
     ]
    },
    {
     "name": "stderr",
     "output_type": "stream",
     "text": [
      "100%|██████████| 15/15 [00:02<00:00,  5.91it/s]\n",
      "100%|██████████| 8/8 [00:01<00:00,  5.16it/s]\n",
      "  0%|          | 0/15 [00:00<?, ?it/s]"
     ]
    },
    {
     "name": "stdout",
     "output_type": "stream",
     "text": [
      "Train Loss: 0.1600, Train Acc: 93.57\n",
      "Val Loss: 0.1674, Val Acc: 93.37\n",
      "EarlyStopping counter: 4 out of 5\n",
      "Epoch 11 of 500\n"
     ]
    },
    {
     "name": "stderr",
     "output_type": "stream",
     "text": [
      "100%|██████████| 15/15 [00:02<00:00,  6.09it/s]\n",
      "100%|██████████| 8/8 [00:01<00:00,  5.13it/s]\n",
      " 12%|█▎        | 1/8 [00:00<00:01,  6.55it/s]"
     ]
    },
    {
     "name": "stdout",
     "output_type": "stream",
     "text": [
      "Train Loss: 0.1582, Train Acc: 93.68\n",
      "Val Loss: 0.1737, Val Acc: 93.10\n",
      "EarlyStopping counter: 5 out of 5\n",
      "Early stopping\n",
      "Training time: 0.774 minutes\n"
     ]
    },
    {
     "name": "stderr",
     "output_type": "stream",
     "text": [
      "100%|██████████| 8/8 [00:01<00:00,  7.80it/s]\n"
     ]
    },
    {
     "name": "stdout",
     "output_type": "stream",
     "text": [
      "0.9340005176429989 0.9858320126548192\n",
      "Elapsed time 6.6533183018366495 mins.\n",
      "\n",
      "2022-10-05 15:21:17 Round 1 ...\n",
      "Current Task 2018-10 w/ 100 samples to Replay per Malware family.\n",
      "X_train (77772, 2381) Y_train (77772,) Y_tr_family (77772,)\n",
      "X_test (55006, 2381) Y_test (55006,) Y_te_family (55006,)\n",
      "X_replay (41047, 2381) Y_replay (41047,)\n",
      "Replay 40947 malware samples of 2611 families\n",
      "and Replay 100 goodware samples\n",
      "Task 2018-10 and #-of new samples stored 77772\n",
      "W/O replay samples \n",
      " X_train (77772, 2381) Y_train (77772,)\n",
      "With replay samples \n",
      " X_train (118819, 2381) Y_train (118819,)\n",
      "************** ************** **************\n",
      "\n",
      "2022-10-05 15:21:21 Standardizing ...\n"
     ]
    },
    {
     "name": "stderr",
     "output_type": "stream",
     "text": [
      "\r",
      "  0%|          | 0/19 [00:00<?, ?it/s]"
     ]
    },
    {
     "name": "stdout",
     "output_type": "stream",
     "text": [
      "2022-10-05 15:21:30 Training ...\n",
      "Epoch 1 of 500\n"
     ]
    },
    {
     "name": "stderr",
     "output_type": "stream",
     "text": [
      "100%|██████████| 19/19 [00:03<00:00,  6.23it/s]\n",
      "100%|██████████| 10/10 [00:01<00:00,  5.13it/s]\n",
      "  0%|          | 0/19 [00:00<?, ?it/s]"
     ]
    },
    {
     "name": "stdout",
     "output_type": "stream",
     "text": [
      "Train Loss: 0.2430, Train Acc: 90.68\n",
      "Val Loss: 0.1643, Val Acc: 93.53\n",
      "Validation loss decreased (inf --> 0.164340).  Saving model ...\n",
      "../pjr_saved_model_last/NEW_PJR_replay_100/2018-10/best_model_epoch_1.pt\n",
      "Epoch 2 of 500\n"
     ]
    },
    {
     "name": "stderr",
     "output_type": "stream",
     "text": [
      "100%|██████████| 19/19 [00:03<00:00,  5.29it/s]\n",
      "100%|██████████| 10/10 [00:01<00:00,  5.73it/s]\n",
      "  0%|          | 0/19 [00:00<?, ?it/s]"
     ]
    },
    {
     "name": "stdout",
     "output_type": "stream",
     "text": [
      "Train Loss: 0.1944, Train Acc: 92.15\n",
      "Val Loss: 0.1654, Val Acc: 93.61\n",
      "EarlyStopping counter: 1 out of 5\n",
      "Epoch 3 of 500\n"
     ]
    },
    {
     "name": "stderr",
     "output_type": "stream",
     "text": [
      "100%|██████████| 19/19 [00:03<00:00,  5.91it/s]\n",
      "100%|██████████| 10/10 [00:01<00:00,  5.47it/s]\n",
      "  0%|          | 0/19 [00:00<?, ?it/s]"
     ]
    },
    {
     "name": "stdout",
     "output_type": "stream",
     "text": [
      "Train Loss: 0.1855, Train Acc: 92.57\n",
      "Val Loss: 0.1611, Val Acc: 93.83\n",
      "Validation loss decreased (0.164340 --> 0.161073).  Saving model ...\n",
      "../pjr_saved_model_last/NEW_PJR_replay_100/2018-10/best_model_epoch_3.pt\n",
      "Epoch 4 of 500\n"
     ]
    },
    {
     "name": "stderr",
     "output_type": "stream",
     "text": [
      "100%|██████████| 19/19 [00:03<00:00,  5.38it/s]\n",
      "100%|██████████| 10/10 [00:01<00:00,  5.34it/s]\n",
      "  0%|          | 0/19 [00:00<?, ?it/s]"
     ]
    },
    {
     "name": "stdout",
     "output_type": "stream",
     "text": [
      "Train Loss: 0.1806, Train Acc: 92.92\n",
      "Val Loss: 0.1580, Val Acc: 94.06\n",
      "Validation loss decreased (0.161073 --> 0.158012).  Saving model ...\n",
      "../pjr_saved_model_last/NEW_PJR_replay_100/2018-10/best_model_epoch_4.pt\n",
      "Epoch 5 of 500\n"
     ]
    },
    {
     "name": "stderr",
     "output_type": "stream",
     "text": [
      "100%|██████████| 19/19 [00:03<00:00,  5.96it/s]\n",
      "100%|██████████| 10/10 [00:02<00:00,  4.39it/s]\n",
      "  0%|          | 0/19 [00:00<?, ?it/s]"
     ]
    },
    {
     "name": "stdout",
     "output_type": "stream",
     "text": [
      "Train Loss: 0.1750, Train Acc: 93.07\n",
      "Val Loss: 0.1600, Val Acc: 93.91\n",
      "EarlyStopping counter: 1 out of 5\n",
      "Epoch 6 of 500\n"
     ]
    },
    {
     "name": "stderr",
     "output_type": "stream",
     "text": [
      "100%|██████████| 19/19 [00:03<00:00,  5.37it/s]\n",
      "100%|██████████| 10/10 [00:01<00:00,  5.18it/s]\n",
      "  0%|          | 0/19 [00:00<?, ?it/s]"
     ]
    },
    {
     "name": "stdout",
     "output_type": "stream",
     "text": [
      "Train Loss: 0.1674, Train Acc: 93.38\n",
      "Val Loss: 0.1614, Val Acc: 93.79\n",
      "EarlyStopping counter: 2 out of 5\n",
      "Epoch 7 of 500\n"
     ]
    },
    {
     "name": "stderr",
     "output_type": "stream",
     "text": [
      "100%|██████████| 19/19 [00:03<00:00,  5.31it/s]\n",
      "100%|██████████| 10/10 [00:01<00:00,  5.36it/s]\n",
      "  0%|          | 0/19 [00:00<?, ?it/s]"
     ]
    },
    {
     "name": "stdout",
     "output_type": "stream",
     "text": [
      "Train Loss: 0.1597, Train Acc: 93.60\n",
      "Val Loss: 0.1585, Val Acc: 93.94\n",
      "EarlyStopping counter: 3 out of 5\n",
      "Epoch 8 of 500\n"
     ]
    },
    {
     "name": "stderr",
     "output_type": "stream",
     "text": [
      "100%|██████████| 19/19 [00:04<00:00,  4.65it/s]\n",
      "100%|██████████| 10/10 [00:02<00:00,  4.87it/s]\n",
      "  0%|          | 0/19 [00:00<?, ?it/s]"
     ]
    },
    {
     "name": "stdout",
     "output_type": "stream",
     "text": [
      "Train Loss: 0.1573, Train Acc: 93.84\n",
      "Val Loss: 0.1595, Val Acc: 94.05\n",
      "EarlyStopping counter: 4 out of 5\n",
      "Epoch 9 of 500\n"
     ]
    },
    {
     "name": "stderr",
     "output_type": "stream",
     "text": [
      "100%|██████████| 19/19 [00:03<00:00,  6.09it/s]\n",
      "100%|██████████| 10/10 [00:01<00:00,  5.54it/s]\n",
      " 10%|█         | 1/10 [00:00<00:01,  6.61it/s]"
     ]
    },
    {
     "name": "stdout",
     "output_type": "stream",
     "text": [
      "Train Loss: 0.1583, Train Acc: 93.83\n",
      "Val Loss: 0.1643, Val Acc: 93.71\n",
      "EarlyStopping counter: 5 out of 5\n",
      "Early stopping\n",
      "Training time: 0.812 minutes\n"
     ]
    },
    {
     "name": "stderr",
     "output_type": "stream",
     "text": [
      "100%|██████████| 10/10 [00:01<00:00,  8.02it/s]\n"
     ]
    },
    {
     "name": "stdout",
     "output_type": "stream",
     "text": [
      "0.9403156019343344 0.9857906945762059\n",
      "Elapsed time 7.711048964659373 mins.\n",
      "\n",
      "2022-10-05 15:22:20 Round 1 ...\n",
      "Current Task 2018-11 w/ 100 samples to Replay per Malware family.\n",
      "X_train (90000, 2381) Y_train (90000,) Y_tr_family (90000,)\n",
      "X_test (65006, 2381) Y_test (65006,) Y_te_family (65006,)\n",
      "X_replay (41590, 2381) Y_replay (41590,)\n",
      "Replay 41490 malware samples of 2629 families\n",
      "and Replay 100 goodware samples\n",
      "Task 2018-11 and #-of new samples stored 90000\n",
      "W/O replay samples \n",
      " X_train (90000, 2381) Y_train (90000,)\n",
      "With replay samples \n",
      " X_train (131590, 2381) Y_train (131590,)\n",
      "************** ************** **************\n",
      "\n",
      "2022-10-05 15:22:26 Standardizing ...\n"
     ]
    },
    {
     "name": "stderr",
     "output_type": "stream",
     "text": [
      "\r",
      "  0%|          | 0/21 [00:00<?, ?it/s]"
     ]
    },
    {
     "name": "stdout",
     "output_type": "stream",
     "text": [
      "2022-10-05 15:22:37 Training ...\n",
      "Epoch 1 of 500\n"
     ]
    },
    {
     "name": "stderr",
     "output_type": "stream",
     "text": [
      "100%|██████████| 21/21 [00:04<00:00,  5.22it/s]\n",
      "100%|██████████| 11/11 [00:02<00:00,  5.27it/s]\n",
      "  0%|          | 0/21 [00:00<?, ?it/s]"
     ]
    },
    {
     "name": "stdout",
     "output_type": "stream",
     "text": [
      "Train Loss: 0.2113, Train Acc: 91.79\n",
      "Val Loss: 0.1521, Val Acc: 94.14\n",
      "Validation loss decreased (inf --> 0.152118).  Saving model ...\n",
      "../pjr_saved_model_last/NEW_PJR_replay_100/2018-11/best_model_epoch_1.pt\n",
      "Epoch 2 of 500\n"
     ]
    },
    {
     "name": "stderr",
     "output_type": "stream",
     "text": [
      "100%|██████████| 21/21 [00:03<00:00,  5.55it/s]\n",
      "100%|██████████| 11/11 [00:02<00:00,  4.89it/s]\n",
      "  0%|          | 0/21 [00:00<?, ?it/s]"
     ]
    },
    {
     "name": "stdout",
     "output_type": "stream",
     "text": [
      "Train Loss: 0.1925, Train Acc: 92.42\n",
      "Val Loss: 0.1595, Val Acc: 93.84\n",
      "EarlyStopping counter: 1 out of 5\n",
      "Epoch 3 of 500\n"
     ]
    },
    {
     "name": "stderr",
     "output_type": "stream",
     "text": [
      "100%|██████████| 21/21 [00:03<00:00,  5.29it/s]\n",
      "100%|██████████| 11/11 [00:02<00:00,  4.95it/s]\n",
      "  0%|          | 0/21 [00:00<?, ?it/s]"
     ]
    },
    {
     "name": "stdout",
     "output_type": "stream",
     "text": [
      "Train Loss: 0.1847, Train Acc: 92.79\n",
      "Val Loss: 0.1550, Val Acc: 94.02\n",
      "EarlyStopping counter: 2 out of 5\n",
      "Epoch 4 of 500\n"
     ]
    },
    {
     "name": "stderr",
     "output_type": "stream",
     "text": [
      "100%|██████████| 21/21 [00:04<00:00,  5.23it/s]\n",
      "100%|██████████| 11/11 [00:02<00:00,  5.04it/s]\n",
      "  0%|          | 0/21 [00:00<?, ?it/s]"
     ]
    },
    {
     "name": "stdout",
     "output_type": "stream",
     "text": [
      "Train Loss: 0.1809, Train Acc: 92.95\n",
      "Val Loss: 0.1554, Val Acc: 94.12\n",
      "EarlyStopping counter: 3 out of 5\n",
      "Epoch 5 of 500\n"
     ]
    },
    {
     "name": "stderr",
     "output_type": "stream",
     "text": [
      "100%|██████████| 21/21 [00:03<00:00,  5.39it/s]\n",
      "100%|██████████| 11/11 [00:02<00:00,  4.44it/s]\n",
      "  0%|          | 0/21 [00:00<?, ?it/s]"
     ]
    },
    {
     "name": "stdout",
     "output_type": "stream",
     "text": [
      "Train Loss: 0.1826, Train Acc: 92.73\n",
      "Val Loss: 0.1483, Val Acc: 94.28\n",
      "Validation loss decreased (0.152118 --> 0.148261).  Saving model ...\n",
      "../pjr_saved_model_last/NEW_PJR_replay_100/2018-11/best_model_epoch_5.pt\n",
      "Epoch 6 of 500\n"
     ]
    },
    {
     "name": "stderr",
     "output_type": "stream",
     "text": [
      "100%|██████████| 21/21 [00:03<00:00,  5.42it/s]\n",
      "100%|██████████| 11/11 [00:02<00:00,  5.11it/s]\n",
      "  0%|          | 0/21 [00:00<?, ?it/s]"
     ]
    },
    {
     "name": "stdout",
     "output_type": "stream",
     "text": [
      "Train Loss: 0.1782, Train Acc: 93.02\n",
      "Val Loss: 0.1575, Val Acc: 93.97\n",
      "EarlyStopping counter: 1 out of 5\n",
      "Epoch 7 of 500\n"
     ]
    },
    {
     "name": "stderr",
     "output_type": "stream",
     "text": [
      "100%|██████████| 21/21 [00:03<00:00,  5.65it/s]\n",
      "100%|██████████| 11/11 [00:02<00:00,  5.05it/s]\n",
      "  0%|          | 0/21 [00:00<?, ?it/s]"
     ]
    },
    {
     "name": "stdout",
     "output_type": "stream",
     "text": [
      "Train Loss: 0.1835, Train Acc: 92.75\n",
      "Val Loss: 0.1626, Val Acc: 93.71\n",
      "EarlyStopping counter: 2 out of 5\n",
      "Epoch 8 of 500\n"
     ]
    },
    {
     "name": "stderr",
     "output_type": "stream",
     "text": [
      "100%|██████████| 21/21 [00:03<00:00,  6.09it/s]\n",
      "100%|██████████| 11/11 [00:02<00:00,  5.26it/s]\n",
      "  0%|          | 0/21 [00:00<?, ?it/s]"
     ]
    },
    {
     "name": "stdout",
     "output_type": "stream",
     "text": [
      "Train Loss: 0.1768, Train Acc: 93.05\n",
      "Val Loss: 0.1569, Val Acc: 93.87\n",
      "EarlyStopping counter: 3 out of 5\n",
      "Epoch 9 of 500\n"
     ]
    },
    {
     "name": "stderr",
     "output_type": "stream",
     "text": [
      "100%|██████████| 21/21 [00:03<00:00,  6.04it/s]\n",
      "100%|██████████| 11/11 [00:02<00:00,  5.34it/s]\n",
      "  0%|          | 0/21 [00:00<?, ?it/s]"
     ]
    },
    {
     "name": "stdout",
     "output_type": "stream",
     "text": [
      "Train Loss: 0.1610, Train Acc: 93.70\n",
      "Val Loss: 0.1492, Val Acc: 94.24\n",
      "EarlyStopping counter: 4 out of 5\n",
      "Epoch 10 of 500\n"
     ]
    },
    {
     "name": "stderr",
     "output_type": "stream",
     "text": [
      "100%|██████████| 21/21 [00:03<00:00,  5.66it/s]\n",
      "100%|██████████| 11/11 [00:02<00:00,  4.77it/s]\n",
      "  9%|▉         | 1/11 [00:00<00:01,  6.02it/s]"
     ]
    },
    {
     "name": "stdout",
     "output_type": "stream",
     "text": [
      "Train Loss: 0.1675, Train Acc: 93.49\n",
      "Val Loss: 0.1498, Val Acc: 94.16\n",
      "EarlyStopping counter: 5 out of 5\n",
      "Early stopping\n",
      "Training time: 1.009 minutes\n"
     ]
    },
    {
     "name": "stderr",
     "output_type": "stream",
     "text": [
      "100%|██████████| 11/11 [00:01<00:00,  6.21it/s]\n"
     ]
    },
    {
     "name": "stdout",
     "output_type": "stream",
     "text": [
      "0.9420207365473956 0.9869607992010588\n",
      "Elapsed time 9.033321976661682 mins.\n",
      "\n",
      "2022-10-05 15:23:39 Round 1 ...\n",
      "Current Task 2018-12 w/ 100 samples to Replay per Malware family.\n",
      "X_train (90000, 2381) Y_train (90000,) Y_tr_family (90000,)\n",
      "X_test (75006, 2381) Y_test (75006,) Y_te_family (75006,)\n",
      "X_replay (42568, 2381) Y_replay (42568,)\n",
      "Replay 42468 malware samples of 2694 families\n",
      "and Replay 100 goodware samples\n",
      "Task 2018-12 and #-of new samples stored 90000\n",
      "W/O replay samples \n",
      " X_train (90000, 2381) Y_train (90000,)\n",
      "With replay samples \n",
      " X_train (132568, 2381) Y_train (132568,)\n",
      "************** ************** **************\n",
      "\n",
      "2022-10-05 15:23:48 Standardizing ...\n"
     ]
    },
    {
     "name": "stderr",
     "output_type": "stream",
     "text": [
      "\r",
      "  0%|          | 0/22 [00:00<?, ?it/s]"
     ]
    },
    {
     "name": "stdout",
     "output_type": "stream",
     "text": [
      "2022-10-05 15:24:00 Training ...\n",
      "Epoch 1 of 500\n"
     ]
    },
    {
     "name": "stderr",
     "output_type": "stream",
     "text": [
      "100%|██████████| 22/22 [00:04<00:00,  5.17it/s]\n",
      "100%|██████████| 13/13 [00:02<00:00,  6.14it/s]\n",
      "  0%|          | 0/22 [00:00<?, ?it/s]"
     ]
    },
    {
     "name": "stdout",
     "output_type": "stream",
     "text": [
      "Train Loss: 0.1966, Train Acc: 92.49\n",
      "Val Loss: 0.1480, Val Acc: 94.31\n",
      "Validation loss decreased (inf --> 0.148004).  Saving model ...\n",
      "../pjr_saved_model_last/NEW_PJR_replay_100/2018-12/best_model_epoch_1.pt\n",
      "Epoch 2 of 500\n"
     ]
    },
    {
     "name": "stderr",
     "output_type": "stream",
     "text": [
      "100%|██████████| 22/22 [00:03<00:00,  5.97it/s]\n",
      "100%|██████████| 13/13 [00:02<00:00,  5.76it/s]\n",
      "  0%|          | 0/22 [00:00<?, ?it/s]"
     ]
    },
    {
     "name": "stdout",
     "output_type": "stream",
     "text": [
      "Train Loss: 0.1844, Train Acc: 92.97\n",
      "Val Loss: 0.1443, Val Acc: 94.36\n",
      "Validation loss decreased (0.148004 --> 0.144260).  Saving model ...\n",
      "../pjr_saved_model_last/NEW_PJR_replay_100/2018-12/best_model_epoch_2.pt\n",
      "Epoch 3 of 500\n"
     ]
    },
    {
     "name": "stderr",
     "output_type": "stream",
     "text": [
      "100%|██████████| 22/22 [00:03<00:00,  5.56it/s]\n",
      "100%|██████████| 13/13 [00:02<00:00,  4.84it/s]\n",
      "  0%|          | 0/22 [00:00<?, ?it/s]"
     ]
    },
    {
     "name": "stdout",
     "output_type": "stream",
     "text": [
      "Train Loss: 0.1769, Train Acc: 93.34\n",
      "Val Loss: 0.1384, Val Acc: 94.55\n",
      "Validation loss decreased (0.144260 --> 0.138425).  Saving model ...\n",
      "../pjr_saved_model_last/NEW_PJR_replay_100/2018-12/best_model_epoch_3.pt\n",
      "Epoch 4 of 500\n"
     ]
    },
    {
     "name": "stderr",
     "output_type": "stream",
     "text": [
      "100%|██████████| 22/22 [00:04<00:00,  5.43it/s]\n",
      "100%|██████████| 13/13 [00:02<00:00,  5.71it/s]\n",
      "  0%|          | 0/22 [00:00<?, ?it/s]"
     ]
    },
    {
     "name": "stdout",
     "output_type": "stream",
     "text": [
      "Train Loss: 0.1698, Train Acc: 93.49\n",
      "Val Loss: 0.1417, Val Acc: 94.46\n",
      "EarlyStopping counter: 1 out of 5\n",
      "Epoch 5 of 500\n"
     ]
    },
    {
     "name": "stderr",
     "output_type": "stream",
     "text": [
      "100%|██████████| 22/22 [00:03<00:00,  5.97it/s]\n",
      "100%|██████████| 13/13 [00:02<00:00,  5.82it/s]\n",
      "  0%|          | 0/22 [00:00<?, ?it/s]"
     ]
    },
    {
     "name": "stdout",
     "output_type": "stream",
     "text": [
      "Train Loss: 0.1670, Train Acc: 93.50\n",
      "Val Loss: 0.1419, Val Acc: 94.52\n",
      "EarlyStopping counter: 2 out of 5\n",
      "Epoch 6 of 500\n"
     ]
    },
    {
     "name": "stderr",
     "output_type": "stream",
     "text": [
      "100%|██████████| 22/22 [00:04<00:00,  5.38it/s]\n",
      "100%|██████████| 13/13 [00:02<00:00,  5.78it/s]\n",
      "  0%|          | 0/22 [00:00<?, ?it/s]"
     ]
    },
    {
     "name": "stdout",
     "output_type": "stream",
     "text": [
      "Train Loss: 0.1651, Train Acc: 93.69\n",
      "Val Loss: 0.1427, Val Acc: 94.49\n",
      "EarlyStopping counter: 3 out of 5\n",
      "Epoch 7 of 500\n"
     ]
    },
    {
     "name": "stderr",
     "output_type": "stream",
     "text": [
      "100%|██████████| 22/22 [00:03<00:00,  5.74it/s]\n",
      "100%|██████████| 13/13 [00:02<00:00,  5.35it/s]\n",
      "  0%|          | 0/22 [00:00<?, ?it/s]"
     ]
    },
    {
     "name": "stdout",
     "output_type": "stream",
     "text": [
      "Train Loss: 0.1599, Train Acc: 93.89\n",
      "Val Loss: 0.1463, Val Acc: 94.49\n",
      "EarlyStopping counter: 4 out of 5\n",
      "Epoch 8 of 500\n"
     ]
    },
    {
     "name": "stderr",
     "output_type": "stream",
     "text": [
      "100%|██████████| 22/22 [00:04<00:00,  5.34it/s]\n",
      "100%|██████████| 13/13 [00:02<00:00,  5.91it/s]\n",
      "  8%|▊         | 1/13 [00:00<00:01,  6.06it/s]"
     ]
    },
    {
     "name": "stdout",
     "output_type": "stream",
     "text": [
      "Train Loss: 0.1551, Train Acc: 94.00\n",
      "Val Loss: 0.1441, Val Acc: 94.53\n",
      "EarlyStopping counter: 5 out of 5\n",
      "Early stopping\n",
      "Training time: 0.845 minutes\n"
     ]
    },
    {
     "name": "stderr",
     "output_type": "stream",
     "text": [
      "100%|██████████| 13/13 [00:01<00:00,  6.52it/s]\n"
     ]
    },
    {
     "name": "stdout",
     "output_type": "stream",
     "text": [
      "0.9466042716582673 0.9883465422329297\n",
      "Elapsed time 10.248346825440725 mins.\n",
      "Elapsed time 10.248366741339366 mins.\n"
     ]
    }
   ],
   "source": [
    "def get_replay_samples_first(global_family_dict, num_samples_per_malware_family):\n",
    "    pre_malware_samples = []\n",
    "\n",
    "    cnt = 0\n",
    "    for k in global_family_dict.keys():\n",
    "        if k != 'goodware':\n",
    "            cnt += 1\n",
    "            if num_samples_per_malware_family > len(global_family_dict[k]):\n",
    "                selected_family_samples = global_family_dict[k] \n",
    "                #random.sample(global_family_dict[k], len(global_family_dict[k]))\n",
    "            else:\n",
    "                selected_family_samples = global_family_dict[k][:num_samples_per_malware_family]\n",
    "                #random.sample(global_family_dict[k], num_samples_per_malware_family)\n",
    "\n",
    "            #print(selected_family_samples)\n",
    "            for sample in selected_family_samples:\n",
    "                pre_malware_samples.append(sample)\n",
    "                \n",
    "    if len(global_family_dict['goodware']) < len(pre_malware_samples):\n",
    "        pre_goodware_samples = global_family_dict['goodware'] \n",
    "        #random.sample(global_family_dict['goodware'], len(global_family_dict['goodware']))\n",
    "    else:\n",
    "        pre_goodware_samples = global_family_dict['goodware'][:num_samples_per_malware_family] \n",
    "        #random.sample(global_family_dict['goodware'], len(pre_malware_samples))\n",
    "\n",
    "    samples_to_replay = np.concatenate((np.array(pre_goodware_samples), np.array(pre_malware_samples)))\n",
    "    labels_to_replay = np.concatenate((np.zeros(len(pre_goodware_samples)), np.ones(len(pre_malware_samples))))\n",
    "\n",
    "\n",
    "    print(f'X_replay {samples_to_replay.shape} Y_replay {labels_to_replay.shape}')\n",
    "    print(f'Replay {len(pre_malware_samples)} malware samples of {len(global_family_dict.keys()) -1} families')\n",
    "    print(f'and Replay {len(pre_goodware_samples)} goodware samples')\n",
    "    \n",
    "    \n",
    "    return samples_to_replay, labels_to_replay\n",
    "\n",
    "\n",
    "def get_replay_samples_last(global_family_dict, num_samples_per_malware_family):\n",
    "    pre_malware_samples = []\n",
    "\n",
    "    cnt = 0\n",
    "    for k in global_family_dict.keys():\n",
    "        if k != 'goodware':\n",
    "            cnt += 1\n",
    "            if num_samples_per_malware_family > len(global_family_dict[k]):\n",
    "                selected_family_samples = global_family_dict[k] \n",
    "                #random.sample(global_family_dict[k], len(global_family_dict[k]))\n",
    "            else:\n",
    "                selected_family_samples = global_family_dict[k][-num_samples_per_malware_family:]\n",
    "                #random.sample(global_family_dict[k], num_samples_per_malware_family)\n",
    "\n",
    "            #print(selected_family_samples)\n",
    "            for sample in selected_family_samples:\n",
    "                pre_malware_samples.append(sample)\n",
    "                \n",
    "    if len(global_family_dict['goodware']) < len(pre_malware_samples):\n",
    "        pre_goodware_samples = global_family_dict['goodware']\n",
    "        #random.sample(global_family_dict['goodware'], len(global_family_dict['goodware']))\n",
    "    else:\n",
    "        pre_goodware_samples = global_family_dict['goodware'][-num_samples_per_malware_family:]\n",
    "        #random.sample(global_family_dict['goodware'], len(pre_malware_samples))\n",
    "\n",
    "    samples_to_replay = np.concatenate((np.array(pre_goodware_samples), np.array(pre_malware_samples)))\n",
    "    labels_to_replay = np.concatenate((np.zeros(len(pre_goodware_samples)), np.ones(len(pre_malware_samples))))\n",
    "\n",
    "\n",
    "    print(f'X_replay {samples_to_replay.shape} Y_replay {labels_to_replay.shape}')\n",
    "    print(f'Replay {len(pre_malware_samples)} malware samples of {len(global_family_dict.keys()) -1} families')\n",
    "    print(f'and Replay {len(pre_goodware_samples)} goodware samples')\n",
    "    \n",
    "    \n",
    "    return samples_to_replay, labels_to_replay\n",
    "\n",
    "\n",
    "\n",
    "\n",
    "\n",
    "all_task_months = ['2018-01', '2018-02', '2018-03', '2018-04', '2018-05', '2018-06',\n",
    "                   '2018-07', '2018-08', '2018-09', '2018-10', '2018-11', '2018-12']\n",
    "\n",
    "data_dir = '../../month_based_processing_with_family_labels/'\n",
    "\n",
    "\n",
    "patience = 5\n",
    "replay_type = 'partial_joint_replay'\n",
    "\n",
    "\n",
    "num_exps = 1 #args.num_exps\n",
    "#task_month = args.task_month\n",
    "num_epoch = 500 #args.num_epoch\n",
    "batch_size = 6000 #args.batch_size\n",
    "#replay_portion = args.replay_portion\n",
    "num_samples_per_malware_family = 100\n",
    "\n",
    "exp_seeds = [random.randint(1, 99999) for i in range(num_exps)]\n",
    "\n",
    "\n",
    "allexps_acc = {}\n",
    "allexps_rocauc = {}\n",
    "allexps_training_time = {}\n",
    "all_exps_best_epoch = {}\n",
    "\n",
    "\n",
    "\n",
    "cnt =  1    \n",
    "for exp in exp_seeds:\n",
    "    start_time = time.time()\n",
    "    use_cuda = True\n",
    "    print('Torch', torch.__version__, 'CUDA', torch.version.cuda)\n",
    "    use_cuda = use_cuda and torch.cuda.is_available()\n",
    "    device = torch.device(\"cuda\" if use_cuda else \"cpu\")\n",
    "    torch.manual_seed(exp)\n",
    "\n",
    "    model = Ember_MLP_Net()\n",
    "    \n",
    "    optimizer = torch.optim.SGD(model.parameters(), lr=0.01, momentum=0.9, weight_decay=0.000001)\n",
    "       \n",
    "    if torch.cuda.device_count() > 1:\n",
    "        print(\"Let's use\", torch.cuda.device_count(), \"GPUs!\")\n",
    "        model = nn.DataParallel(model)\n",
    "    \n",
    "    model = model.to(device)\n",
    "    print(f'Model has {count_parameters(model)/1000000}m parameters')    \n",
    "    criterion = nn.BCELoss()    \n",
    "\n",
    "    \n",
    "    \n",
    "    stored_global_family_dict = defaultdict(list)\n",
    "    \n",
    "    standardization = StandardScaler()\n",
    "    standard_scaler = None\n",
    "    for task_month in range(len(all_task_months)):\n",
    "                \n",
    "        print(f'\\n{datetime.datetime.now().strftime(\"%Y-%m-%d %H:%M:%S\")} Round {cnt} ...')\n",
    "        task_start = time.time()\n",
    "        \n",
    "        current_task = all_task_months[task_month]\n",
    "        task_months = all_task_months[:task_month+1]\n",
    "        print(f'Current Task {current_task} w/ {num_samples_per_malware_family} samples to Replay per Malware family.')\n",
    "\n",
    "\n",
    "        model_save_dir = '../pjr_saved_model_last/NEW_PJR_replay_' + str(num_samples_per_malware_family) + '/' + str(current_task) + '/'\n",
    "        create_parent_folder(model_save_dir)\n",
    "        \n",
    "        results_save_dir = './saved_results_last/NEW_PJR_replay_' + str(num_samples_per_malware_family) + '/' \n",
    "        create_parent_folder(results_save_dir)\n",
    "\n",
    "        \n",
    "        X_train, Y_train, Y_train_family = get_family_labeled_month_data(data_dir, current_task)\n",
    "        X_test, Y_test, Y_test_family = get_family_labeled_task_test_data(data_dir, task_months, mlp_net=True)\n",
    "        \n",
    "        # to debug\n",
    "        #X_train, Y_train, Y_train_family = X_train[:500], Y_train [:500], Y_train_family[:500]\n",
    "        #X_test, Y_test, Y_test_family = X_test[:50], Y_test[:50], Y_test_family[:50]\n",
    "        \n",
    "\n",
    "        if current_task == all_task_months[0]:\n",
    "            stored_global_family_dict = make_family_based_dict(X_train, Y_train, Y_train_family,\\\n",
    "                                                               current_task, stored_global_family_dict)\n",
    "        else:\n",
    "            X_replay, Y_replay = get_replay_samples_last(stored_global_family_dict, num_samples_per_malware_family)\n",
    "            stored_global_family_dict = make_family_based_dict(X_train, Y_train, Y_train_family,\\\n",
    "                                                               current_task, stored_global_family_dict)\n",
    "        \n",
    "        \n",
    "        if current_task == all_task_months[0]:\n",
    "            print(f'Initial Task {current_task} X_train {X_train.shape} Y_train {Y_train.shape}')\n",
    "            print(f'************** ************** **************')\n",
    "            print()\n",
    "        else:\n",
    "            print(f'W/O replay samples \\n X_train {X_train.shape} Y_train {Y_train.shape}')\n",
    "            X_train, Y_train = np.concatenate((X_train, X_replay)), np.concatenate((Y_train, Y_replay))\n",
    "            print(f'With replay samples \\n X_train {X_train.shape} Y_train {Y_train.shape}')\n",
    "            print(f'************** ************** **************')\n",
    "            print()\n",
    "        \n",
    "        print(f'{datetime.datetime.now().strftime(\"%Y-%m-%d %H:%M:%S\")} Standardizing ...')\n",
    "        standard_scaler = standardization.partial_fit(X_train)\n",
    "\n",
    "        X_train = standard_scaler.transform(X_train)\n",
    "        X_test = standard_scaler.transform(X_test)\n",
    "\n",
    "        X_train, Y_train = np.array(X_train, np.float32), np.array(Y_train, np.int32)\n",
    "        X_test, Y_test = np.array(X_test, np.float32), np.array(Y_test, np.int32)        \n",
    "                \n",
    "        \n",
    "        print(f'{datetime.datetime.now().strftime(\"%Y-%m-%d %H:%M:%S\")} Training ...')\n",
    "        task_training_time, epoch_ran, training_loss, validation_loss  = training_early_stopping(model, model_save_dir,\\\n",
    "                                X_train, Y_train, X_test, Y_test, patience,\\\n",
    "                                batch_size, device, optimizer, num_epoch,\\\n",
    "                                 criterion, replay_type, current_task, exp, earlystopping=True)\n",
    "\n",
    "        acc, rocauc = testing_aucscore(model, X_test, Y_test, batch_size, device)\n",
    "\n",
    "        end_time = time.time()\n",
    "\n",
    "        print(f'Elapsed time {(end_time - start_time)/60} mins.')    \n",
    "\n",
    "\n",
    "        task_end = time.time()\n",
    "        task_run_time = (task_end - task_start)/60\n",
    "        \n",
    "        try:\n",
    "            allexps_acc[str(current_task)].append(acc)\n",
    "            allexps_rocauc[str(current_task)].append(rocauc)\n",
    "            allexps_training_time[str(current_task)].append(task_run_time)\n",
    "            all_exps_best_epoch[str(current_task)].append(epoch_ran)\n",
    "        except:\n",
    "            allexps_acc[str(current_task)] = [acc]\n",
    "            allexps_rocauc[str(current_task)] = [rocauc]\n",
    "            allexps_training_time[str(current_task)] = [task_run_time]\n",
    "            all_exps_best_epoch[str(current_task)] = [epoch_ran]\n",
    "        \n",
    "        \n",
    "        \n",
    "        results_f = open(os.path.join(results_save_dir + 'results_accumulated_replay_' + str(num_samples_per_malware_family) + '_results.txt'), 'a')\n",
    "        result_string = '{}\\t{}\\t{}\\t{}\\t{}\\t\\n'.format(current_task,epoch_ran, task_training_time, acc, rocauc)\n",
    "        results_f.write(result_string)\n",
    "        results_f.flush()\n",
    "        results_f.close()\n",
    "\n",
    "        \n",
    "        wf = open(os.path.join(results_save_dir + 'Results_' + str(current_task) + '_' + str(num_epoch) + '_replay_' + str(num_samples_per_malware_family) + '_results.txt'), 'a')\n",
    "        task_exp_string = '\\n\\nSeed\\t{}\\t\\tRun time\\t{}\\tAcc:\\t{}\\t\\tROC_AUC:\\t{}\\n\\tepoch_ran\\t{}\\t\\n\\ntraining_loss\\t{}\\n\\nValid_loss\\t{}\\n\\n'.format(exp,task_training_time, acc, rocauc, epoch_ran, training_loss, validation_loss)\n",
    "        \n",
    "        wf.write('\\n ########################### ########################### ###########################\\n')\n",
    "        wf.write(str(model))\n",
    "        wf.write(task_exp_string)\n",
    "        \n",
    "        wf.flush()\n",
    "        wf.close()\n",
    "\n",
    "    end_time = time.time()\n",
    "    cnt += 1\n",
    "    print(f'Elapsed time {(end_time - start_time)/60} mins.')\n",
    "    \n",
    "\n",
    "#results_save_dir = './saved_results/PJR_replay_' + str(num_samples_per_malware_family) + '/' \n",
    "#create_parent_folder(results_save_dir)\n",
    "#all_results_save_file = results_save_dir + 'PJR_acc_rocauc_tr_time_best_epoch_' + str(args.num_run) + '.npz'\n",
    "#np.savez_compressed(all_results_save_file,\n",
    "#                        accuracy = allexps_acc, rocauc = allexps_rocauc, tr_time = allexps_training_time, best_epochs = all_exps_best_epoch)\n",
    "#print(f'all results saved')\n"
   ]
  },
  {
   "cell_type": "code",
   "execution_count": null,
   "metadata": {},
   "outputs": [],
   "source": []
  }
 ],
 "metadata": {
  "kernelspec": {
   "display_name": "PyTorch",
   "language": "python",
   "name": "pytorch"
  },
  "language_info": {
   "codemirror_mode": {
    "name": "ipython",
    "version": 3
   },
   "file_extension": ".py",
   "mimetype": "text/x-python",
   "name": "python",
   "nbconvert_exporter": "python",
   "pygments_lexer": "ipython3",
   "version": "3.7.9"
  }
 },
 "nbformat": 4,
 "nbformat_minor": 5
}
