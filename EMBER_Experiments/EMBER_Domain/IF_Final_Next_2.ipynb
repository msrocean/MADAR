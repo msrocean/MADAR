{
 "cells": [
  {
   "cell_type": "code",
   "execution_count": 22,
   "metadata": {},
   "outputs": [],
   "source": [
    "import numpy as np\n",
    "import random\n",
    "import datetime\n",
    "import time\n",
    "import os\n",
    "from collections import defaultdict\n",
    "from sklearn.preprocessing import StandardScaler\n",
    "from sklearn.ensemble import IsolationForest\n",
    "import matplotlib.pyplot as plt\n",
    "from tqdm import tqdm\n",
    "import ast\n",
    "import pandas as pd\n",
    "import seaborn as sns\n",
    "\n",
    "import argparse\n",
    "import torch\n",
    "import torchvision\n",
    "import torch.nn as nn\n",
    "import torch.optim as optim\n",
    "import torch.nn.functional as F\n",
    "from torchvision import transforms, utils, datasets\n",
    "from torch.utils.data import Dataset, DataLoader\n",
    "\n",
    "import matplotlib.pyplot as plt\n",
    "from scipy import stats\n",
    "import seaborn as sns\n",
    "plt.rcParams['font.size'] = 18\n",
    "#plt.rcParams['font.family'] = \"serif\"\n",
    "tdir = 'in'\n",
    "major = 5.0\n",
    "minor = 3.0\n",
    "plt.rcParams['xtick.direction'] = tdir\n",
    "plt.rcParams['ytick.direction'] = tdir\n",
    "plt.rcParams['xtick.major.size'] = major\n",
    "plt.rcParams['xtick.minor.size'] = minor\n",
    "plt.rcParams['ytick.major.size'] = major\n",
    "plt.rcParams['ytick.minor.size'] = minor\n",
    "\n",
    "\n",
    "from ember_utils import *\n",
    "from ember_model import *\n",
    "from ember_pjr_utils import *"
   ]
  },
  {
   "cell_type": "code",
   "execution_count": 2,
   "metadata": {},
   "outputs": [],
   "source": [
    "def get_IFBased_samples(family_name, family_data, num_samples_per_malware_family):\n",
    "    data_X = np.array(family_data)\n",
    "    \n",
    "    if len(data_X) > 1:\n",
    "        \n",
    "        # fit the model\n",
    "        clf = IsolationForest(max_samples=len(data_X))\n",
    "        clf.fit(data_X)\n",
    "        #scores_prediction = clf.decision_function(data_X)\n",
    "        y_pred = clf.predict(data_X)\n",
    "\n",
    "\n",
    "        anomalous_idx = np.where(y_pred == -1.0)\n",
    "        similar_idx = np.where(y_pred == 1.0)\n",
    "\n",
    "        #print(f'{family_name}: all-{len(y_pred)} anomalous-{len(anomalous_idx[0])} similar-{len(similar_idx[0])}')\n",
    "        assert len(anomalous_idx[0]) + len(similar_idx[0]) == len(y_pred)\n",
    "\n",
    "        anomalous_samples = data_X[anomalous_idx]\n",
    "        remaining_samples_to_pick = num_samples_per_malware_family - len(anomalous_samples)\n",
    "        if abs(remaining_samples_to_pick)/remaining_samples_to_pick == -1:\n",
    "            remaining_samples_to_pick = min(int(len(anomalous_samples) * 0.50), abs(remaining_samples_to_pick))\n",
    "        \n",
    "        if remaining_samples_to_pick >= len(similar_idx):\n",
    "            similar_samples = data_X[similar_idx]\n",
    "        else:\n",
    "            similar_samples_pool = list(data_X[similar_idx])\n",
    "            similar_samples = random.sample(similar_samples_pool, remaining_samples_to_pick)\n",
    "\n",
    "        replay_samples = np.concatenate((anomalous_samples, similar_samples))\n",
    "    else:\n",
    "        replay_samples = data_X\n",
    "    \n",
    "    return replay_samples\n",
    "\n",
    "\n",
    "def get_IFBased_samples_V1(family_name, family_data, num_samples_per_malware_family):\n",
    "    data_X = np.array(family_data)\n",
    "    \n",
    "    if len(data_X) > 1:\n",
    "        \n",
    "        # fit the model\n",
    "        clf = IsolationForest(max_samples=len(data_X))\n",
    "        clf.fit(data_X)\n",
    "        #scores_prediction = clf.decision_function(data_X)\n",
    "        y_pred = clf.predict(data_X)\n",
    "\n",
    "\n",
    "        anomalous_idx = np.where(y_pred == -1.0)\n",
    "        similar_idx = np.where(y_pred == 1.0)\n",
    "\n",
    "        #print(f'{family_name}: all-{len(y_pred)} anomalous-{len(anomalous_idx[0])} similar-{len(similar_idx[0])}')\n",
    "        assert len(anomalous_idx[0]) + len(similar_idx[0]) == len(y_pred)\n",
    "\n",
    "        anomalous_samples = data_X[anomalous_idx]\n",
    "        remaining_samples_to_pick = num_samples_per_malware_family - len(anomalous_samples)\n",
    "\n",
    "        if remaining_samples_to_pick >= len(similar_idx):\n",
    "            similar_samples = data_X[similar_idx]\n",
    "        else:\n",
    "            similar_samples_pool = list(data_X[similar_idx])\n",
    "            similar_samples = random.sample(similar_samples_pool, remaining_samples_to_pick)\n",
    "\n",
    "        replay_samples = np.concatenate((anomalous_samples, similar_samples))\n",
    "    else:\n",
    "        replay_samples = data_X\n",
    "    \n",
    "    return replay_samples\n",
    "\n",
    "\n",
    "\n",
    "def get_replay_samples_IFBased(global_family_dict, num_samples_per_malware_family):\n",
    "    \n",
    "    \n",
    "    tmp_family_dict = defaultdict(list)\n",
    "    \n",
    "    pre_malware_samples = []\n",
    "\n",
    "    cnt = 0\n",
    "    for k, v in global_family_dict.items():\n",
    "        if k != 'goodware':\n",
    "            cnt += 1\n",
    "            selected_family_samples = get_IFBased_samples(k, v, num_samples_per_malware_family)\n",
    "            tmp_family_dict[k] = list(selected_family_samples)\n",
    "            \n",
    "            #print(selected_family_samples)\n",
    "            for sample in selected_family_samples:\n",
    "                pre_malware_samples.append(sample)\n",
    "                \n",
    "    if len(global_family_dict['goodware']) < len(pre_malware_samples):\n",
    "        pre_goodware_samples = random.sample(global_family_dict['goodware'], len(global_family_dict['goodware']))\n",
    "    else:\n",
    "        pre_goodware_samples = random.sample(global_family_dict['goodware'], len(pre_malware_samples))\n",
    "    \n",
    "    tmp_family_dict['goodware'] = list(pre_goodware_samples)\n",
    "    \n",
    "    samples_to_replay = np.concatenate((np.array(pre_goodware_samples), np.array(pre_malware_samples)))\n",
    "    labels_to_replay = np.concatenate((np.zeros(len(pre_goodware_samples)), np.ones(len(pre_malware_samples))))\n",
    "\n",
    "\n",
    "    #print(f'X_replay {samples_to_replay.shape} Y_replay {labels_to_replay.shape}')\n",
    "    #print(f'Replay {len(pre_malware_samples)} malware samples of {len(global_family_dict.keys()) -1} families')\n",
    "    #print(f'and Replay {len(pre_goodware_samples)} goodware samples')\n",
    "    \n",
    "    \n",
    "    return samples_to_replay, labels_to_replay, tmp_family_dict"
   ]
  },
  {
   "cell_type": "code",
   "execution_count": 23,
   "metadata": {},
   "outputs": [],
   "source": [
    "def training_final_score(model, X_, Y_, batch_size, device):\n",
    "    \n",
    "    testloader = get_dataloader(X_test, Y_test, batch_size, train_data=False)   \n",
    "    \n",
    "    model.eval()\n",
    "    y_pred_list = []\n",
    "    y_true_list = []\n",
    "    \n",
    "    \n",
    "    with torch.no_grad():\n",
    "        for x_batch, y_batch in tqdm(testloader):\n",
    "            x_batch, y_batch = x_batch.to(device), y_batch.to(device)\n",
    "            y_test_pred = model(x_batch)\n",
    "            y_pred_list += list(y_test_pred.squeeze(1).cpu().numpy())\n",
    "    \n",
    "            y_true_list += list(y_batch.cpu().numpy())\n",
    "        \n",
    "    assert len(y_true_list) == len(y_pred_list) \n",
    "    return np.array(y_pred_list), np.array(y_true_list)"
   ]
  },
  {
   "cell_type": "code",
   "execution_count": null,
   "metadata": {},
   "outputs": [
    {
     "name": "stdout",
     "output_type": "stream",
     "text": [
      "Torch 1.6.0 CUDA 10.2\n",
      "Model has 3.132161m parameters\n",
      "\n",
      "2023-01-10 22:11:28 Round 1 ...\n",
      "Current Task 2018-01 w/ 500 samples to Replay per Malware family.\n",
      "X_train (55722, 2381) Y_train (55722,) Y_tr_family (55722,)\n",
      "X_test (6192, 2381) Y_test (6192,) Y_te_family (6192,)\n",
      "2023-01-10 22:11:30 Standardizing ...\n"
     ]
    },
    {
     "name": "stderr",
     "output_type": "stream",
     "text": [
      "\r",
      "  0%|          | 0/9 [00:00<?, ?it/s]"
     ]
    },
    {
     "name": "stdout",
     "output_type": "stream",
     "text": [
      "Task 2018-01 and #-of new samples stored 55722\n",
      "\n",
      "X_train (55722, 2381) Y_train (55722,)\n",
      "\n",
      "2023-01-10 22:11:33 Training ...\n",
      "Epoch 1 of 500\n"
     ]
    },
    {
     "name": "stderr",
     "output_type": "stream",
     "text": [
      "100%|██████████| 9/9 [00:01<00:00,  6.92it/s]\n",
      "100%|██████████| 2/2 [00:00<00:00, 13.99it/s]\n",
      "  0%|          | 0/9 [00:00<?, ?it/s]"
     ]
    },
    {
     "name": "stdout",
     "output_type": "stream",
     "text": [
      "Train Loss: 0.7089, Train Acc: 0.5226\n",
      "Val Loss: 0.6844, Val Acc: 0.5590\n",
      "Validation loss decreased (inf --> 0.684360).  Saving model ...\n",
      "../IFBased_pjr_saved_model_ifbased_/IFBased_PJR_replay_500/2018-01/best_model_epoch_1.pt\n",
      "../IFBased_pjr_saved_optimizer_ifbased_/IFBased_PJR_replay_500/2018-01/best_optimizer_epoch_1.pt\n",
      "Epoch 2 of 500\n"
     ]
    },
    {
     "name": "stderr",
     "output_type": "stream",
     "text": [
      "100%|██████████| 9/9 [00:01<00:00,  5.00it/s]\n",
      "100%|██████████| 2/2 [00:00<00:00,  5.87it/s]\n",
      "  0%|          | 0/9 [00:00<?, ?it/s]"
     ]
    },
    {
     "name": "stdout",
     "output_type": "stream",
     "text": [
      "Train Loss: 0.6652, Train Acc: 0.6082\n",
      "Val Loss: 0.6509, Val Acc: 0.6652\n",
      "Validation loss decreased (0.684360 --> 0.650867).  Saving model ...\n",
      "../IFBased_pjr_saved_model_ifbased_/IFBased_PJR_replay_500/2018-01/best_model_epoch_2.pt\n",
      "../IFBased_pjr_saved_optimizer_ifbased_/IFBased_PJR_replay_500/2018-01/best_optimizer_epoch_2.pt\n",
      "Epoch 3 of 500\n"
     ]
    },
    {
     "name": "stderr",
     "output_type": "stream",
     "text": [
      "100%|██████████| 9/9 [00:01<00:00,  5.79it/s]\n",
      "100%|██████████| 2/2 [00:00<00:00, 13.29it/s]\n",
      "  0%|          | 0/9 [00:00<?, ?it/s]"
     ]
    },
    {
     "name": "stdout",
     "output_type": "stream",
     "text": [
      "Train Loss: 0.6209, Train Acc: 0.6786\n",
      "Val Loss: 0.5944, Val Acc: 0.7312\n",
      "Validation loss decreased (0.650867 --> 0.594428).  Saving model ...\n",
      "../IFBased_pjr_saved_model_ifbased_/IFBased_PJR_replay_500/2018-01/best_model_epoch_3.pt\n",
      "../IFBased_pjr_saved_optimizer_ifbased_/IFBased_PJR_replay_500/2018-01/best_optimizer_epoch_3.pt\n",
      "Epoch 4 of 500\n"
     ]
    },
    {
     "name": "stderr",
     "output_type": "stream",
     "text": [
      "100%|██████████| 9/9 [00:01<00:00,  5.81it/s]\n",
      "100%|██████████| 2/2 [00:00<00:00,  8.03it/s]\n",
      "  0%|          | 0/9 [00:00<?, ?it/s]"
     ]
    },
    {
     "name": "stdout",
     "output_type": "stream",
     "text": [
      "Train Loss: 0.5672, Train Acc: 0.7214\n",
      "Val Loss: 0.5219, Val Acc: 0.7867\n",
      "Validation loss decreased (0.594428 --> 0.521935).  Saving model ...\n",
      "../IFBased_pjr_saved_model_ifbased_/IFBased_PJR_replay_500/2018-01/best_model_epoch_4.pt\n",
      "../IFBased_pjr_saved_optimizer_ifbased_/IFBased_PJR_replay_500/2018-01/best_optimizer_epoch_4.pt\n",
      "Epoch 5 of 500\n"
     ]
    },
    {
     "name": "stderr",
     "output_type": "stream",
     "text": [
      "100%|██████████| 9/9 [00:01<00:00,  5.74it/s]\n",
      "100%|██████████| 2/2 [00:00<00:00, 11.85it/s]\n",
      "  0%|          | 0/9 [00:00<?, ?it/s]"
     ]
    },
    {
     "name": "stdout",
     "output_type": "stream",
     "text": [
      "Train Loss: 0.5062, Train Acc: 0.7598\n",
      "Val Loss: 0.4542, Val Acc: 0.8019\n",
      "Validation loss decreased (0.521935 --> 0.454237).  Saving model ...\n",
      "../IFBased_pjr_saved_model_ifbased_/IFBased_PJR_replay_500/2018-01/best_model_epoch_5.pt\n",
      "../IFBased_pjr_saved_optimizer_ifbased_/IFBased_PJR_replay_500/2018-01/best_optimizer_epoch_5.pt\n",
      "Epoch 6 of 500\n"
     ]
    },
    {
     "name": "stderr",
     "output_type": "stream",
     "text": [
      "100%|██████████| 9/9 [00:01<00:00,  5.52it/s]\n",
      "100%|██████████| 2/2 [00:00<00:00,  5.32it/s]\n",
      "  0%|          | 0/9 [00:00<?, ?it/s]"
     ]
    },
    {
     "name": "stdout",
     "output_type": "stream",
     "text": [
      "Train Loss: 0.4572, Train Acc: 0.7832\n",
      "Val Loss: 0.4054, Val Acc: 0.8256\n",
      "Validation loss decreased (0.454237 --> 0.405404).  Saving model ...\n",
      "../IFBased_pjr_saved_model_ifbased_/IFBased_PJR_replay_500/2018-01/best_model_epoch_6.pt\n",
      "../IFBased_pjr_saved_optimizer_ifbased_/IFBased_PJR_replay_500/2018-01/best_optimizer_epoch_6.pt\n",
      "Epoch 7 of 500\n"
     ]
    },
    {
     "name": "stderr",
     "output_type": "stream",
     "text": [
      "100%|██████████| 9/9 [00:01<00:00,  5.79it/s]\n",
      "100%|██████████| 2/2 [00:00<00:00, 12.08it/s]\n",
      "  0%|          | 0/9 [00:00<?, ?it/s]"
     ]
    },
    {
     "name": "stdout",
     "output_type": "stream",
     "text": [
      "Train Loss: 0.4173, Train Acc: 0.8028\n",
      "Val Loss: 0.3664, Val Acc: 0.8399\n",
      "Validation loss decreased (0.405404 --> 0.366356).  Saving model ...\n",
      "../IFBased_pjr_saved_model_ifbased_/IFBased_PJR_replay_500/2018-01/best_model_epoch_7.pt\n",
      "../IFBased_pjr_saved_optimizer_ifbased_/IFBased_PJR_replay_500/2018-01/best_optimizer_epoch_7.pt\n",
      "Epoch 8 of 500\n"
     ]
    },
    {
     "name": "stderr",
     "output_type": "stream",
     "text": [
      "100%|██████████| 9/9 [00:01<00:00,  5.73it/s]\n",
      "100%|██████████| 2/2 [00:00<00:00, 10.87it/s]\n",
      "  0%|          | 0/9 [00:00<?, ?it/s]"
     ]
    },
    {
     "name": "stdout",
     "output_type": "stream",
     "text": [
      "Train Loss: 0.3850, Train Acc: 0.8225\n",
      "Val Loss: 0.3311, Val Acc: 0.8636\n",
      "Validation loss decreased (0.366356 --> 0.331122).  Saving model ...\n",
      "../IFBased_pjr_saved_model_ifbased_/IFBased_PJR_replay_500/2018-01/best_model_epoch_8.pt\n",
      "../IFBased_pjr_saved_optimizer_ifbased_/IFBased_PJR_replay_500/2018-01/best_optimizer_epoch_8.pt\n",
      "Epoch 9 of 500\n"
     ]
    },
    {
     "name": "stderr",
     "output_type": "stream",
     "text": [
      "100%|██████████| 9/9 [00:01<00:00,  5.92it/s]\n",
      "100%|██████████| 2/2 [00:00<00:00, 12.72it/s]\n",
      "  0%|          | 0/9 [00:00<?, ?it/s]"
     ]
    },
    {
     "name": "stdout",
     "output_type": "stream",
     "text": [
      "Train Loss: 0.3536, Train Acc: 0.8401\n",
      "Val Loss: 0.2993, Val Acc: 0.8785\n",
      "Validation loss decreased (0.331122 --> 0.299286).  Saving model ...\n",
      "../IFBased_pjr_saved_model_ifbased_/IFBased_PJR_replay_500/2018-01/best_model_epoch_9.pt\n",
      "../IFBased_pjr_saved_optimizer_ifbased_/IFBased_PJR_replay_500/2018-01/best_optimizer_epoch_9.pt\n",
      "Epoch 10 of 500\n"
     ]
    },
    {
     "name": "stderr",
     "output_type": "stream",
     "text": [
      "100%|██████████| 9/9 [00:01<00:00,  6.11it/s]\n",
      "100%|██████████| 2/2 [00:00<00:00,  5.86it/s]\n",
      "  0%|          | 0/9 [00:00<?, ?it/s]"
     ]
    },
    {
     "name": "stdout",
     "output_type": "stream",
     "text": [
      "Train Loss: 0.3308, Train Acc: 0.8503\n",
      "Val Loss: 0.2743, Val Acc: 0.8837\n",
      "Validation loss decreased (0.299286 --> 0.274293).  Saving model ...\n",
      "../IFBased_pjr_saved_model_ifbased_/IFBased_PJR_replay_500/2018-01/best_model_epoch_10.pt\n",
      "../IFBased_pjr_saved_optimizer_ifbased_/IFBased_PJR_replay_500/2018-01/best_optimizer_epoch_10.pt\n",
      "Epoch 11 of 500\n"
     ]
    },
    {
     "name": "stderr",
     "output_type": "stream",
     "text": [
      "100%|██████████| 9/9 [00:01<00:00,  6.23it/s]\n",
      "100%|██████████| 2/2 [00:00<00:00, 12.80it/s]\n",
      "  0%|          | 0/9 [00:00<?, ?it/s]"
     ]
    },
    {
     "name": "stdout",
     "output_type": "stream",
     "text": [
      "Train Loss: 0.3092, Train Acc: 0.8629\n",
      "Val Loss: 0.2579, Val Acc: 0.8903\n",
      "Validation loss decreased (0.274293 --> 0.257934).  Saving model ...\n",
      "../IFBased_pjr_saved_model_ifbased_/IFBased_PJR_replay_500/2018-01/best_model_epoch_11.pt\n",
      "../IFBased_pjr_saved_optimizer_ifbased_/IFBased_PJR_replay_500/2018-01/best_optimizer_epoch_11.pt\n",
      "Epoch 12 of 500\n"
     ]
    },
    {
     "name": "stderr",
     "output_type": "stream",
     "text": [
      "100%|██████████| 9/9 [00:01<00:00,  6.30it/s]\n",
      "100%|██████████| 2/2 [00:00<00:00, 12.12it/s]\n",
      "  0%|          | 0/9 [00:00<?, ?it/s]"
     ]
    },
    {
     "name": "stdout",
     "output_type": "stream",
     "text": [
      "Train Loss: 0.2890, Train Acc: 0.8754\n",
      "Val Loss: 0.2447, Val Acc: 0.8931\n",
      "Validation loss decreased (0.257934 --> 0.244690).  Saving model ...\n",
      "../IFBased_pjr_saved_model_ifbased_/IFBased_PJR_replay_500/2018-01/best_model_epoch_12.pt\n",
      "../IFBased_pjr_saved_optimizer_ifbased_/IFBased_PJR_replay_500/2018-01/best_optimizer_epoch_12.pt\n",
      "Epoch 13 of 500\n"
     ]
    },
    {
     "name": "stderr",
     "output_type": "stream",
     "text": [
      "100%|██████████| 9/9 [00:01<00:00,  5.99it/s]\n",
      "100%|██████████| 2/2 [00:00<00:00,  4.84it/s]\n",
      "  0%|          | 0/9 [00:00<?, ?it/s]"
     ]
    },
    {
     "name": "stdout",
     "output_type": "stream",
     "text": [
      "Train Loss: 0.2745, Train Acc: 0.8819\n",
      "Val Loss: 0.2347, Val Acc: 0.8966\n",
      "Validation loss decreased (0.244690 --> 0.234738).  Saving model ...\n",
      "../IFBased_pjr_saved_model_ifbased_/IFBased_PJR_replay_500/2018-01/best_model_epoch_13.pt\n",
      "../IFBased_pjr_saved_optimizer_ifbased_/IFBased_PJR_replay_500/2018-01/best_optimizer_epoch_13.pt\n",
      "Epoch 14 of 500\n"
     ]
    },
    {
     "name": "stderr",
     "output_type": "stream",
     "text": [
      "100%|██████████| 9/9 [00:01<00:00,  5.72it/s]\n",
      "100%|██████████| 2/2 [00:00<00:00, 11.99it/s]\n",
      "  0%|          | 0/9 [00:00<?, ?it/s]"
     ]
    },
    {
     "name": "stdout",
     "output_type": "stream",
     "text": [
      "Train Loss: 0.2610, Train Acc: 0.8887\n",
      "Val Loss: 0.2276, Val Acc: 0.9004\n",
      "Validation loss decreased (0.234738 --> 0.227580).  Saving model ...\n",
      "../IFBased_pjr_saved_model_ifbased_/IFBased_PJR_replay_500/2018-01/best_model_epoch_14.pt\n",
      "../IFBased_pjr_saved_optimizer_ifbased_/IFBased_PJR_replay_500/2018-01/best_optimizer_epoch_14.pt\n",
      "Epoch 15 of 500\n"
     ]
    },
    {
     "name": "stderr",
     "output_type": "stream",
     "text": [
      "100%|██████████| 9/9 [00:01<00:00,  5.78it/s]\n",
      "100%|██████████| 2/2 [00:00<00:00, 12.04it/s]\n",
      "  0%|          | 0/9 [00:00<?, ?it/s]"
     ]
    },
    {
     "name": "stdout",
     "output_type": "stream",
     "text": [
      "Train Loss: 0.2505, Train Acc: 0.8937\n",
      "Val Loss: 0.2211, Val Acc: 0.9048\n",
      "Validation loss decreased (0.227580 --> 0.221050).  Saving model ...\n",
      "../IFBased_pjr_saved_model_ifbased_/IFBased_PJR_replay_500/2018-01/best_model_epoch_15.pt\n",
      "../IFBased_pjr_saved_optimizer_ifbased_/IFBased_PJR_replay_500/2018-01/best_optimizer_epoch_15.pt\n",
      "Epoch 16 of 500\n"
     ]
    },
    {
     "name": "stderr",
     "output_type": "stream",
     "text": [
      "100%|██████████| 9/9 [00:01<00:00,  6.08it/s]\n",
      "100%|██████████| 2/2 [00:00<00:00, 10.70it/s]\n",
      "  0%|          | 0/9 [00:00<?, ?it/s]"
     ]
    },
    {
     "name": "stdout",
     "output_type": "stream",
     "text": [
      "Train Loss: 0.2413, Train Acc: 0.9004\n",
      "Val Loss: 0.2188, Val Acc: 0.9041\n",
      "Validation loss decreased (0.221050 --> 0.218841).  Saving model ...\n",
      "../IFBased_pjr_saved_model_ifbased_/IFBased_PJR_replay_500/2018-01/best_model_epoch_16.pt\n",
      "../IFBased_pjr_saved_optimizer_ifbased_/IFBased_PJR_replay_500/2018-01/best_optimizer_epoch_16.pt\n",
      "Epoch 17 of 500\n"
     ]
    },
    {
     "name": "stderr",
     "output_type": "stream",
     "text": [
      "100%|██████████| 9/9 [00:01<00:00,  5.80it/s]\n",
      "100%|██████████| 2/2 [00:00<00:00,  6.65it/s]\n",
      "  0%|          | 0/9 [00:00<?, ?it/s]"
     ]
    },
    {
     "name": "stdout",
     "output_type": "stream",
     "text": [
      "Train Loss: 0.2269, Train Acc: 0.9069\n",
      "Val Loss: 0.2139, Val Acc: 0.9078\n",
      "Validation loss decreased (0.218841 --> 0.213884).  Saving model ...\n",
      "../IFBased_pjr_saved_model_ifbased_/IFBased_PJR_replay_500/2018-01/best_model_epoch_17.pt\n",
      "../IFBased_pjr_saved_optimizer_ifbased_/IFBased_PJR_replay_500/2018-01/best_optimizer_epoch_17.pt\n",
      "Epoch 18 of 500\n"
     ]
    },
    {
     "name": "stderr",
     "output_type": "stream",
     "text": [
      "100%|██████████| 9/9 [00:01<00:00,  5.91it/s]\n",
      "100%|██████████| 2/2 [00:00<00:00, 12.00it/s]\n",
      "  0%|          | 0/9 [00:00<?, ?it/s]"
     ]
    },
    {
     "name": "stdout",
     "output_type": "stream",
     "text": [
      "Train Loss: 0.2250, Train Acc: 0.9069\n",
      "Val Loss: 0.2121, Val Acc: 0.9116\n",
      "Validation loss decreased (0.213884 --> 0.212119).  Saving model ...\n",
      "../IFBased_pjr_saved_model_ifbased_/IFBased_PJR_replay_500/2018-01/best_model_epoch_18.pt\n",
      "../IFBased_pjr_saved_optimizer_ifbased_/IFBased_PJR_replay_500/2018-01/best_optimizer_epoch_18.pt\n",
      "Epoch 19 of 500\n"
     ]
    },
    {
     "name": "stderr",
     "output_type": "stream",
     "text": [
      "100%|██████████| 9/9 [00:01<00:00,  6.22it/s]\n",
      "100%|██████████| 2/2 [00:00<00:00, 10.40it/s]\n",
      "  0%|          | 0/9 [00:00<?, ?it/s]"
     ]
    },
    {
     "name": "stdout",
     "output_type": "stream",
     "text": [
      "Train Loss: 0.2146, Train Acc: 0.9115\n",
      "Val Loss: 0.2074, Val Acc: 0.9124\n",
      "Validation loss decreased (0.212119 --> 0.207359).  Saving model ...\n",
      "../IFBased_pjr_saved_model_ifbased_/IFBased_PJR_replay_500/2018-01/best_model_epoch_19.pt\n",
      "../IFBased_pjr_saved_optimizer_ifbased_/IFBased_PJR_replay_500/2018-01/best_optimizer_epoch_19.pt\n",
      "Epoch 20 of 500\n"
     ]
    },
    {
     "name": "stderr",
     "output_type": "stream",
     "text": [
      "100%|██████████| 9/9 [00:01<00:00,  6.18it/s]\n",
      "100%|██████████| 2/2 [00:00<00:00, 12.97it/s]\n",
      "  0%|          | 0/9 [00:00<?, ?it/s]"
     ]
    },
    {
     "name": "stdout",
     "output_type": "stream",
     "text": [
      "Train Loss: 0.2111, Train Acc: 0.9131\n",
      "Val Loss: 0.2079, Val Acc: 0.9078\n",
      "EarlyStopping counter: 1 out of 5\n",
      "Epoch 21 of 500\n"
     ]
    },
    {
     "name": "stderr",
     "output_type": "stream",
     "text": [
      "100%|██████████| 9/9 [00:01<00:00,  5.49it/s]\n",
      "100%|██████████| 2/2 [00:00<00:00,  6.29it/s]\n",
      "  0%|          | 0/9 [00:00<?, ?it/s]"
     ]
    },
    {
     "name": "stdout",
     "output_type": "stream",
     "text": [
      "Train Loss: 0.2036, Train Acc: 0.9171\n",
      "Val Loss: 0.2042, Val Acc: 0.9110\n",
      "Validation loss decreased (0.207359 --> 0.204209).  Saving model ...\n",
      "../IFBased_pjr_saved_model_ifbased_/IFBased_PJR_replay_500/2018-01/best_model_epoch_21.pt\n",
      "../IFBased_pjr_saved_optimizer_ifbased_/IFBased_PJR_replay_500/2018-01/best_optimizer_epoch_21.pt\n",
      "Epoch 22 of 500\n"
     ]
    },
    {
     "name": "stderr",
     "output_type": "stream",
     "text": [
      "100%|██████████| 9/9 [00:01<00:00,  6.26it/s]\n",
      "100%|██████████| 2/2 [00:00<00:00, 13.26it/s]\n",
      "  0%|          | 0/9 [00:00<?, ?it/s]"
     ]
    },
    {
     "name": "stdout",
     "output_type": "stream",
     "text": [
      "Train Loss: 0.1987, Train Acc: 0.9197\n",
      "Val Loss: 0.2029, Val Acc: 0.9182\n",
      "Validation loss decreased (0.204209 --> 0.202878).  Saving model ...\n",
      "../IFBased_pjr_saved_model_ifbased_/IFBased_PJR_replay_500/2018-01/best_model_epoch_22.pt\n",
      "../IFBased_pjr_saved_optimizer_ifbased_/IFBased_PJR_replay_500/2018-01/best_optimizer_epoch_22.pt\n",
      "Epoch 23 of 500\n"
     ]
    },
    {
     "name": "stderr",
     "output_type": "stream",
     "text": [
      "100%|██████████| 9/9 [00:01<00:00,  6.22it/s]\n",
      "100%|██████████| 2/2 [00:00<00:00, 12.99it/s]\n",
      "  0%|          | 0/9 [00:00<?, ?it/s]"
     ]
    },
    {
     "name": "stdout",
     "output_type": "stream",
     "text": [
      "Train Loss: 0.1960, Train Acc: 0.9206\n",
      "Val Loss: 0.2004, Val Acc: 0.9138\n",
      "Validation loss decreased (0.202878 --> 0.200383).  Saving model ...\n",
      "../IFBased_pjr_saved_model_ifbased_/IFBased_PJR_replay_500/2018-01/best_model_epoch_23.pt\n",
      "../IFBased_pjr_saved_optimizer_ifbased_/IFBased_PJR_replay_500/2018-01/best_optimizer_epoch_23.pt\n",
      "Epoch 24 of 500\n"
     ]
    },
    {
     "name": "stderr",
     "output_type": "stream",
     "text": [
      "100%|██████████| 9/9 [00:01<00:00,  6.28it/s]\n",
      "100%|██████████| 2/2 [00:00<00:00, 12.36it/s]\n",
      "  0%|          | 0/9 [00:00<?, ?it/s]"
     ]
    },
    {
     "name": "stdout",
     "output_type": "stream",
     "text": [
      "Train Loss: 0.1882, Train Acc: 0.9241\n",
      "Val Loss: 0.1976, Val Acc: 0.9163\n",
      "Validation loss decreased (0.200383 --> 0.197585).  Saving model ...\n",
      "../IFBased_pjr_saved_model_ifbased_/IFBased_PJR_replay_500/2018-01/best_model_epoch_24.pt\n",
      "../IFBased_pjr_saved_optimizer_ifbased_/IFBased_PJR_replay_500/2018-01/best_optimizer_epoch_24.pt\n",
      "Epoch 25 of 500\n"
     ]
    },
    {
     "name": "stderr",
     "output_type": "stream",
     "text": [
      "100%|██████████| 9/9 [00:01<00:00,  5.54it/s]\n",
      "100%|██████████| 2/2 [00:00<00:00,  6.77it/s]\n",
      "  0%|          | 0/9 [00:00<?, ?it/s]"
     ]
    },
    {
     "name": "stdout",
     "output_type": "stream",
     "text": [
      "Train Loss: 0.1823, Train Acc: 0.9269\n",
      "Val Loss: 0.1960, Val Acc: 0.9169\n",
      "Validation loss decreased (0.197585 --> 0.195991).  Saving model ...\n",
      "../IFBased_pjr_saved_model_ifbased_/IFBased_PJR_replay_500/2018-01/best_model_epoch_25.pt\n",
      "../IFBased_pjr_saved_optimizer_ifbased_/IFBased_PJR_replay_500/2018-01/best_optimizer_epoch_25.pt\n",
      "Epoch 26 of 500\n"
     ]
    },
    {
     "name": "stderr",
     "output_type": "stream",
     "text": [
      "100%|██████████| 9/9 [00:01<00:00,  5.76it/s]\n",
      "100%|██████████| 2/2 [00:00<00:00, 12.31it/s]\n",
      "  0%|          | 0/9 [00:00<?, ?it/s]"
     ]
    },
    {
     "name": "stdout",
     "output_type": "stream",
     "text": [
      "Train Loss: 0.1856, Train Acc: 0.9256\n",
      "Val Loss: 0.1934, Val Acc: 0.9229\n",
      "Validation loss decreased (0.195991 --> 0.193448).  Saving model ...\n",
      "../IFBased_pjr_saved_model_ifbased_/IFBased_PJR_replay_500/2018-01/best_model_epoch_26.pt\n",
      "../IFBased_pjr_saved_optimizer_ifbased_/IFBased_PJR_replay_500/2018-01/best_optimizer_epoch_26.pt\n",
      "Epoch 27 of 500\n"
     ]
    },
    {
     "name": "stderr",
     "output_type": "stream",
     "text": [
      "100%|██████████| 9/9 [00:01<00:00,  5.75it/s]\n",
      "100%|██████████| 2/2 [00:00<00:00, 12.37it/s]\n",
      "  0%|          | 0/9 [00:00<?, ?it/s]"
     ]
    },
    {
     "name": "stdout",
     "output_type": "stream",
     "text": [
      "Train Loss: 0.1782, Train Acc: 0.9299\n",
      "Val Loss: 0.1932, Val Acc: 0.9230\n",
      "Validation loss decreased (0.193448 --> 0.193223).  Saving model ...\n",
      "../IFBased_pjr_saved_model_ifbased_/IFBased_PJR_replay_500/2018-01/best_model_epoch_27.pt\n",
      "../IFBased_pjr_saved_optimizer_ifbased_/IFBased_PJR_replay_500/2018-01/best_optimizer_epoch_27.pt\n",
      "Epoch 28 of 500\n"
     ]
    },
    {
     "name": "stderr",
     "output_type": "stream",
     "text": [
      "100%|██████████| 9/9 [00:01<00:00,  5.73it/s]\n",
      "100%|██████████| 2/2 [00:00<00:00, 12.67it/s]\n",
      "  0%|          | 0/9 [00:00<?, ?it/s]"
     ]
    },
    {
     "name": "stdout",
     "output_type": "stream",
     "text": [
      "Train Loss: 0.1747, Train Acc: 0.9300\n",
      "Val Loss: 0.1880, Val Acc: 0.9187\n",
      "Validation loss decreased (0.193223 --> 0.187997).  Saving model ...\n",
      "../IFBased_pjr_saved_model_ifbased_/IFBased_PJR_replay_500/2018-01/best_model_epoch_28.pt\n",
      "../IFBased_pjr_saved_optimizer_ifbased_/IFBased_PJR_replay_500/2018-01/best_optimizer_epoch_28.pt\n",
      "Epoch 29 of 500\n"
     ]
    },
    {
     "name": "stderr",
     "output_type": "stream",
     "text": [
      "100%|██████████| 9/9 [00:01<00:00,  6.06it/s]\n",
      "100%|██████████| 2/2 [00:00<00:00,  7.01it/s]\n",
      "  0%|          | 0/9 [00:00<?, ?it/s]"
     ]
    },
    {
     "name": "stdout",
     "output_type": "stream",
     "text": [
      "Train Loss: 0.1737, Train Acc: 0.9314\n",
      "Val Loss: 0.1898, Val Acc: 0.9252\n",
      "EarlyStopping counter: 1 out of 5\n",
      "Epoch 30 of 500\n"
     ]
    },
    {
     "name": "stderr",
     "output_type": "stream",
     "text": [
      "100%|██████████| 9/9 [00:01<00:00,  6.27it/s]\n",
      "100%|██████████| 2/2 [00:00<00:00, 14.22it/s]\n",
      "  0%|          | 0/9 [00:00<?, ?it/s]"
     ]
    },
    {
     "name": "stdout",
     "output_type": "stream",
     "text": [
      "Train Loss: 0.1672, Train Acc: 0.9323\n",
      "Val Loss: 0.1874, Val Acc: 0.9251\n",
      "Validation loss decreased (0.187997 --> 0.187380).  Saving model ...\n",
      "../IFBased_pjr_saved_model_ifbased_/IFBased_PJR_replay_500/2018-01/best_model_epoch_30.pt\n",
      "../IFBased_pjr_saved_optimizer_ifbased_/IFBased_PJR_replay_500/2018-01/best_optimizer_epoch_30.pt\n",
      "Epoch 31 of 500\n"
     ]
    },
    {
     "name": "stderr",
     "output_type": "stream",
     "text": [
      "100%|██████████| 9/9 [00:01<00:00,  5.75it/s]\n",
      "100%|██████████| 2/2 [00:00<00:00, 10.90it/s]\n",
      "  0%|          | 0/9 [00:00<?, ?it/s]"
     ]
    },
    {
     "name": "stdout",
     "output_type": "stream",
     "text": [
      "Train Loss: 0.1671, Train Acc: 0.9326\n",
      "Val Loss: 0.1843, Val Acc: 0.9251\n",
      "Validation loss decreased (0.187380 --> 0.184286).  Saving model ...\n",
      "../IFBased_pjr_saved_model_ifbased_/IFBased_PJR_replay_500/2018-01/best_model_epoch_31.pt\n",
      "../IFBased_pjr_saved_optimizer_ifbased_/IFBased_PJR_replay_500/2018-01/best_optimizer_epoch_31.pt\n",
      "Epoch 32 of 500\n"
     ]
    },
    {
     "name": "stderr",
     "output_type": "stream",
     "text": [
      "100%|██████████| 9/9 [00:01<00:00,  5.49it/s]\n",
      "100%|██████████| 2/2 [00:00<00:00,  6.55it/s]\n",
      "  0%|          | 0/9 [00:00<?, ?it/s]"
     ]
    },
    {
     "name": "stdout",
     "output_type": "stream",
     "text": [
      "Train Loss: 0.1630, Train Acc: 0.9359\n",
      "Val Loss: 0.1865, Val Acc: 0.9247\n",
      "EarlyStopping counter: 1 out of 5\n",
      "Epoch 33 of 500\n"
     ]
    },
    {
     "name": "stderr",
     "output_type": "stream",
     "text": [
      "100%|██████████| 9/9 [00:01<00:00,  5.70it/s]\n",
      "100%|██████████| 2/2 [00:00<00:00, 12.39it/s]\n",
      "  0%|          | 0/9 [00:00<?, ?it/s]"
     ]
    },
    {
     "name": "stdout",
     "output_type": "stream",
     "text": [
      "Train Loss: 0.1613, Train Acc: 0.9359\n",
      "Val Loss: 0.1829, Val Acc: 0.9229\n",
      "Validation loss decreased (0.184286 --> 0.182856).  Saving model ...\n",
      "../IFBased_pjr_saved_model_ifbased_/IFBased_PJR_replay_500/2018-01/best_model_epoch_33.pt\n",
      "../IFBased_pjr_saved_optimizer_ifbased_/IFBased_PJR_replay_500/2018-01/best_optimizer_epoch_33.pt\n",
      "Epoch 34 of 500\n"
     ]
    },
    {
     "name": "stderr",
     "output_type": "stream",
     "text": [
      "100%|██████████| 9/9 [00:01<00:00,  5.78it/s]\n",
      "100%|██████████| 2/2 [00:00<00:00, 12.46it/s]\n",
      "  0%|          | 0/9 [00:00<?, ?it/s]"
     ]
    },
    {
     "name": "stdout",
     "output_type": "stream",
     "text": [
      "Train Loss: 0.1601, Train Acc: 0.9360\n",
      "Val Loss: 0.1841, Val Acc: 0.9234\n",
      "EarlyStopping counter: 1 out of 5\n",
      "Epoch 35 of 500\n"
     ]
    },
    {
     "name": "stderr",
     "output_type": "stream",
     "text": [
      "100%|██████████| 9/9 [00:01<00:00,  6.32it/s]\n",
      "100%|██████████| 2/2 [00:00<00:00, 12.43it/s]\n",
      "  0%|          | 0/9 [00:00<?, ?it/s]"
     ]
    },
    {
     "name": "stdout",
     "output_type": "stream",
     "text": [
      "Train Loss: 0.1548, Train Acc: 0.9399\n",
      "Val Loss: 0.1807, Val Acc: 0.9250\n",
      "Validation loss decreased (0.182856 --> 0.180672).  Saving model ...\n",
      "../IFBased_pjr_saved_model_ifbased_/IFBased_PJR_replay_500/2018-01/best_model_epoch_35.pt\n",
      "../IFBased_pjr_saved_optimizer_ifbased_/IFBased_PJR_replay_500/2018-01/best_optimizer_epoch_35.pt\n",
      "Epoch 36 of 500\n"
     ]
    },
    {
     "name": "stderr",
     "output_type": "stream",
     "text": [
      "100%|██████████| 9/9 [00:01<00:00,  6.10it/s]\n",
      "100%|██████████| 2/2 [00:00<00:00,  6.91it/s]\n",
      "  0%|          | 0/9 [00:00<?, ?it/s]"
     ]
    },
    {
     "name": "stdout",
     "output_type": "stream",
     "text": [
      "Train Loss: 0.1551, Train Acc: 0.9381\n",
      "Val Loss: 0.1787, Val Acc: 0.9280\n",
      "Validation loss decreased (0.180672 --> 0.178697).  Saving model ...\n",
      "../IFBased_pjr_saved_model_ifbased_/IFBased_PJR_replay_500/2018-01/best_model_epoch_36.pt\n",
      "../IFBased_pjr_saved_optimizer_ifbased_/IFBased_PJR_replay_500/2018-01/best_optimizer_epoch_36.pt\n",
      "Epoch 37 of 500\n"
     ]
    },
    {
     "name": "stderr",
     "output_type": "stream",
     "text": [
      "100%|██████████| 9/9 [00:01<00:00,  6.28it/s]\n",
      "100%|██████████| 2/2 [00:00<00:00, 13.18it/s]\n",
      "  0%|          | 0/9 [00:00<?, ?it/s]"
     ]
    },
    {
     "name": "stdout",
     "output_type": "stream",
     "text": [
      "Train Loss: 0.1511, Train Acc: 0.9404\n",
      "Val Loss: 0.1823, Val Acc: 0.9273\n",
      "EarlyStopping counter: 1 out of 5\n",
      "Epoch 38 of 500\n"
     ]
    },
    {
     "name": "stderr",
     "output_type": "stream",
     "text": [
      "100%|██████████| 9/9 [00:01<00:00,  5.82it/s]\n",
      "100%|██████████| 2/2 [00:00<00:00, 12.62it/s]\n",
      "  0%|          | 0/9 [00:00<?, ?it/s]"
     ]
    },
    {
     "name": "stdout",
     "output_type": "stream",
     "text": [
      "Train Loss: 0.1508, Train Acc: 0.9411\n",
      "Val Loss: 0.1753, Val Acc: 0.9285\n",
      "Validation loss decreased (0.178697 --> 0.175339).  Saving model ...\n",
      "../IFBased_pjr_saved_model_ifbased_/IFBased_PJR_replay_500/2018-01/best_model_epoch_38.pt\n",
      "../IFBased_pjr_saved_optimizer_ifbased_/IFBased_PJR_replay_500/2018-01/best_optimizer_epoch_38.pt\n",
      "Epoch 39 of 500\n"
     ]
    },
    {
     "name": "stderr",
     "output_type": "stream",
     "text": [
      "100%|██████████| 9/9 [00:01<00:00,  6.31it/s]\n",
      "100%|██████████| 2/2 [00:00<00:00, 12.58it/s]\n",
      "  0%|          | 0/9 [00:00<?, ?it/s]"
     ]
    },
    {
     "name": "stdout",
     "output_type": "stream",
     "text": [
      "Train Loss: 0.1459, Train Acc: 0.9431\n",
      "Val Loss: 0.1780, Val Acc: 0.9276\n",
      "EarlyStopping counter: 1 out of 5\n",
      "Epoch 40 of 500\n"
     ]
    },
    {
     "name": "stderr",
     "output_type": "stream",
     "text": [
      "100%|██████████| 9/9 [00:01<00:00,  6.13it/s]\n",
      "100%|██████████| 2/2 [00:00<00:00,  6.36it/s]\n",
      "  0%|          | 0/9 [00:00<?, ?it/s]"
     ]
    },
    {
     "name": "stdout",
     "output_type": "stream",
     "text": [
      "Train Loss: 0.1464, Train Acc: 0.9430\n",
      "Val Loss: 0.1771, Val Acc: 0.9256\n",
      "EarlyStopping counter: 2 out of 5\n",
      "Epoch 41 of 500\n"
     ]
    },
    {
     "name": "stderr",
     "output_type": "stream",
     "text": [
      "100%|██████████| 9/9 [00:01<00:00,  6.29it/s]\n",
      "100%|██████████| 2/2 [00:00<00:00, 12.71it/s]\n",
      "  0%|          | 0/9 [00:00<?, ?it/s]"
     ]
    },
    {
     "name": "stdout",
     "output_type": "stream",
     "text": [
      "Train Loss: 0.1411, Train Acc: 0.9449\n",
      "Val Loss: 0.1738, Val Acc: 0.9314\n",
      "Validation loss decreased (0.175339 --> 0.173777).  Saving model ...\n",
      "../IFBased_pjr_saved_model_ifbased_/IFBased_PJR_replay_500/2018-01/best_model_epoch_41.pt\n",
      "../IFBased_pjr_saved_optimizer_ifbased_/IFBased_PJR_replay_500/2018-01/best_optimizer_epoch_41.pt\n",
      "Epoch 42 of 500\n"
     ]
    },
    {
     "name": "stderr",
     "output_type": "stream",
     "text": [
      "100%|██████████| 9/9 [00:01<00:00,  6.29it/s]\n",
      "100%|██████████| 2/2 [00:00<00:00, 12.78it/s]\n",
      "  0%|          | 0/9 [00:00<?, ?it/s]"
     ]
    },
    {
     "name": "stdout",
     "output_type": "stream",
     "text": [
      "Train Loss: 0.1413, Train Acc: 0.9451\n",
      "Val Loss: 0.1752, Val Acc: 0.9259\n",
      "EarlyStopping counter: 1 out of 5\n",
      "Epoch 43 of 500\n"
     ]
    },
    {
     "name": "stderr",
     "output_type": "stream",
     "text": [
      "100%|██████████| 9/9 [00:01<00:00,  6.25it/s]\n",
      "100%|██████████| 2/2 [00:00<00:00, 12.83it/s]\n",
      "  0%|          | 0/9 [00:00<?, ?it/s]"
     ]
    },
    {
     "name": "stdout",
     "output_type": "stream",
     "text": [
      "Train Loss: 0.1393, Train Acc: 0.9454\n",
      "Val Loss: 0.1726, Val Acc: 0.9311\n",
      "Validation loss decreased (0.173777 --> 0.172587).  Saving model ...\n",
      "../IFBased_pjr_saved_model_ifbased_/IFBased_PJR_replay_500/2018-01/best_model_epoch_43.pt\n",
      "../IFBased_pjr_saved_optimizer_ifbased_/IFBased_PJR_replay_500/2018-01/best_optimizer_epoch_43.pt\n",
      "Epoch 44 of 500\n"
     ]
    },
    {
     "name": "stderr",
     "output_type": "stream",
     "text": [
      "100%|██████████| 9/9 [00:01<00:00,  6.11it/s]\n",
      "100%|██████████| 2/2 [00:00<00:00,  6.63it/s]\n",
      "  0%|          | 0/9 [00:00<?, ?it/s]"
     ]
    },
    {
     "name": "stdout",
     "output_type": "stream",
     "text": [
      "Train Loss: 0.1363, Train Acc: 0.9469\n",
      "Val Loss: 0.1710, Val Acc: 0.9343\n",
      "Validation loss decreased (0.172587 --> 0.171020).  Saving model ...\n",
      "../IFBased_pjr_saved_model_ifbased_/IFBased_PJR_replay_500/2018-01/best_model_epoch_44.pt\n",
      "../IFBased_pjr_saved_optimizer_ifbased_/IFBased_PJR_replay_500/2018-01/best_optimizer_epoch_44.pt\n",
      "Epoch 45 of 500\n"
     ]
    },
    {
     "name": "stderr",
     "output_type": "stream",
     "text": [
      "100%|██████████| 9/9 [00:01<00:00,  5.76it/s]\n",
      "100%|██████████| 2/2 [00:00<00:00, 12.84it/s]\n",
      "  0%|          | 0/9 [00:00<?, ?it/s]"
     ]
    },
    {
     "name": "stdout",
     "output_type": "stream",
     "text": [
      "Train Loss: 0.1364, Train Acc: 0.9461\n",
      "Val Loss: 0.1705, Val Acc: 0.9296\n",
      "Validation loss decreased (0.171020 --> 0.170458).  Saving model ...\n",
      "../IFBased_pjr_saved_model_ifbased_/IFBased_PJR_replay_500/2018-01/best_model_epoch_45.pt\n",
      "../IFBased_pjr_saved_optimizer_ifbased_/IFBased_PJR_replay_500/2018-01/best_optimizer_epoch_45.pt\n",
      "Epoch 46 of 500\n"
     ]
    },
    {
     "name": "stderr",
     "output_type": "stream",
     "text": [
      "100%|██████████| 9/9 [00:01<00:00,  5.79it/s]\n",
      "100%|██████████| 2/2 [00:00<00:00, 13.00it/s]\n",
      "  0%|          | 0/9 [00:00<?, ?it/s]"
     ]
    },
    {
     "name": "stdout",
     "output_type": "stream",
     "text": [
      "Train Loss: 0.1311, Train Acc: 0.9498\n",
      "Val Loss: 0.1687, Val Acc: 0.9303\n",
      "Validation loss decreased (0.170458 --> 0.168669).  Saving model ...\n",
      "../IFBased_pjr_saved_model_ifbased_/IFBased_PJR_replay_500/2018-01/best_model_epoch_46.pt\n",
      "../IFBased_pjr_saved_optimizer_ifbased_/IFBased_PJR_replay_500/2018-01/best_optimizer_epoch_46.pt\n",
      "Epoch 47 of 500\n"
     ]
    },
    {
     "name": "stderr",
     "output_type": "stream",
     "text": [
      "100%|██████████| 9/9 [00:01<00:00,  6.00it/s]\n",
      "100%|██████████| 2/2 [00:00<00:00, 12.65it/s]\n",
      "  0%|          | 0/9 [00:00<?, ?it/s]"
     ]
    },
    {
     "name": "stdout",
     "output_type": "stream",
     "text": [
      "Train Loss: 0.1317, Train Acc: 0.9485\n",
      "Val Loss: 0.1696, Val Acc: 0.9302\n",
      "EarlyStopping counter: 1 out of 5\n",
      "Epoch 48 of 500\n"
     ]
    },
    {
     "name": "stderr",
     "output_type": "stream",
     "text": [
      "100%|██████████| 9/9 [00:01<00:00,  6.19it/s]\n",
      "100%|██████████| 2/2 [00:00<00:00,  7.54it/s]\n",
      "  0%|          | 0/9 [00:00<?, ?it/s]"
     ]
    },
    {
     "name": "stdout",
     "output_type": "stream",
     "text": [
      "Train Loss: 0.1277, Train Acc: 0.9500\n",
      "Val Loss: 0.1711, Val Acc: 0.9300\n",
      "EarlyStopping counter: 2 out of 5\n",
      "Epoch 49 of 500\n"
     ]
    },
    {
     "name": "stderr",
     "output_type": "stream",
     "text": [
      "100%|██████████| 9/9 [00:01<00:00,  6.24it/s]\n",
      "100%|██████████| 2/2 [00:00<00:00, 12.78it/s]\n",
      "  0%|          | 0/9 [00:00<?, ?it/s]"
     ]
    },
    {
     "name": "stdout",
     "output_type": "stream",
     "text": [
      "Train Loss: 0.1263, Train Acc: 0.9504\n",
      "Val Loss: 0.1719, Val Acc: 0.9304\n",
      "EarlyStopping counter: 3 out of 5\n",
      "Epoch 50 of 500\n"
     ]
    },
    {
     "name": "stderr",
     "output_type": "stream",
     "text": [
      "100%|██████████| 9/9 [00:01<00:00,  5.85it/s]\n",
      "100%|██████████| 2/2 [00:00<00:00, 12.43it/s]\n",
      "  0%|          | 0/9 [00:00<?, ?it/s]"
     ]
    },
    {
     "name": "stdout",
     "output_type": "stream",
     "text": [
      "Train Loss: 0.1266, Train Acc: 0.9503\n",
      "Val Loss: 0.1679, Val Acc: 0.9340\n",
      "Validation loss decreased (0.168669 --> 0.167864).  Saving model ...\n",
      "../IFBased_pjr_saved_model_ifbased_/IFBased_PJR_replay_500/2018-01/best_model_epoch_50.pt\n",
      "../IFBased_pjr_saved_optimizer_ifbased_/IFBased_PJR_replay_500/2018-01/best_optimizer_epoch_50.pt\n",
      "Epoch 51 of 500\n"
     ]
    },
    {
     "name": "stderr",
     "output_type": "stream",
     "text": [
      "100%|██████████| 9/9 [00:01<00:00,  6.06it/s]\n",
      "100%|██████████| 2/2 [00:00<00:00,  7.08it/s]\n",
      "  0%|          | 0/9 [00:00<?, ?it/s]"
     ]
    },
    {
     "name": "stdout",
     "output_type": "stream",
     "text": [
      "Train Loss: 0.1275, Train Acc: 0.9511\n",
      "Val Loss: 0.1652, Val Acc: 0.9340\n",
      "Validation loss decreased (0.167864 --> 0.165226).  Saving model ...\n",
      "../IFBased_pjr_saved_model_ifbased_/IFBased_PJR_replay_500/2018-01/best_model_epoch_51.pt\n",
      "../IFBased_pjr_saved_optimizer_ifbased_/IFBased_PJR_replay_500/2018-01/best_optimizer_epoch_51.pt\n",
      "Epoch 52 of 500\n"
     ]
    },
    {
     "name": "stderr",
     "output_type": "stream",
     "text": [
      "100%|██████████| 9/9 [00:01<00:00,  6.26it/s]\n",
      "100%|██████████| 2/2 [00:00<00:00, 10.78it/s]\n",
      "  0%|          | 0/9 [00:00<?, ?it/s]"
     ]
    },
    {
     "name": "stdout",
     "output_type": "stream",
     "text": [
      "Train Loss: 0.1197, Train Acc: 0.9537\n",
      "Val Loss: 0.1685, Val Acc: 0.9283\n",
      "EarlyStopping counter: 1 out of 5\n",
      "Epoch 53 of 500\n"
     ]
    },
    {
     "name": "stderr",
     "output_type": "stream",
     "text": [
      "100%|██████████| 9/9 [00:01<00:00,  6.23it/s]\n",
      "100%|██████████| 2/2 [00:00<00:00, 12.78it/s]\n",
      "  0%|          | 0/9 [00:00<?, ?it/s]"
     ]
    },
    {
     "name": "stdout",
     "output_type": "stream",
     "text": [
      "Train Loss: 0.1192, Train Acc: 0.9545\n",
      "Val Loss: 0.1660, Val Acc: 0.9338\n",
      "EarlyStopping counter: 2 out of 5\n",
      "Epoch 54 of 500\n"
     ]
    },
    {
     "name": "stderr",
     "output_type": "stream",
     "text": [
      "100%|██████████| 9/9 [00:01<00:00,  5.68it/s]\n",
      "100%|██████████| 2/2 [00:00<00:00, 12.79it/s]\n",
      "  0%|          | 0/9 [00:00<?, ?it/s]"
     ]
    },
    {
     "name": "stdout",
     "output_type": "stream",
     "text": [
      "Train Loss: 0.1217, Train Acc: 0.9527\n",
      "Val Loss: 0.1636, Val Acc: 0.9367\n",
      "Validation loss decreased (0.165226 --> 0.163589).  Saving model ...\n",
      "../IFBased_pjr_saved_model_ifbased_/IFBased_PJR_replay_500/2018-01/best_model_epoch_54.pt\n",
      "../IFBased_pjr_saved_optimizer_ifbased_/IFBased_PJR_replay_500/2018-01/best_optimizer_epoch_54.pt\n",
      "Epoch 55 of 500\n"
     ]
    },
    {
     "name": "stderr",
     "output_type": "stream",
     "text": [
      "100%|██████████| 9/9 [00:01<00:00,  6.03it/s]\n",
      "100%|██████████| 2/2 [00:00<00:00,  6.01it/s]\n",
      "  0%|          | 0/9 [00:00<?, ?it/s]"
     ]
    },
    {
     "name": "stdout",
     "output_type": "stream",
     "text": [
      "Train Loss: 0.1193, Train Acc: 0.9534\n",
      "Val Loss: 0.1628, Val Acc: 0.9366\n",
      "Validation loss decreased (0.163589 --> 0.162838).  Saving model ...\n",
      "../IFBased_pjr_saved_model_ifbased_/IFBased_PJR_replay_500/2018-01/best_model_epoch_55.pt\n",
      "../IFBased_pjr_saved_optimizer_ifbased_/IFBased_PJR_replay_500/2018-01/best_optimizer_epoch_55.pt\n",
      "Epoch 56 of 500\n"
     ]
    },
    {
     "name": "stderr",
     "output_type": "stream",
     "text": [
      "100%|██████████| 9/9 [00:01<00:00,  6.24it/s]\n",
      "100%|██████████| 2/2 [00:00<00:00, 12.29it/s]\n",
      "  0%|          | 0/9 [00:00<?, ?it/s]"
     ]
    },
    {
     "name": "stdout",
     "output_type": "stream",
     "text": [
      "Train Loss: 0.1162, Train Acc: 0.9543\n",
      "Val Loss: 0.1646, Val Acc: 0.9349\n",
      "EarlyStopping counter: 1 out of 5\n",
      "Epoch 57 of 500\n"
     ]
    },
    {
     "name": "stderr",
     "output_type": "stream",
     "text": [
      "100%|██████████| 9/9 [00:01<00:00,  6.26it/s]\n",
      "100%|██████████| 2/2 [00:00<00:00, 12.52it/s]\n",
      "  0%|          | 0/9 [00:00<?, ?it/s]"
     ]
    },
    {
     "name": "stdout",
     "output_type": "stream",
     "text": [
      "Train Loss: 0.1167, Train Acc: 0.9557\n",
      "Val Loss: 0.1676, Val Acc: 0.9337\n",
      "EarlyStopping counter: 2 out of 5\n",
      "Epoch 58 of 500\n"
     ]
    },
    {
     "name": "stderr",
     "output_type": "stream",
     "text": [
      "100%|██████████| 9/9 [00:01<00:00,  5.84it/s]\n",
      "100%|██████████| 2/2 [00:00<00:00, 12.14it/s]\n",
      "  0%|          | 0/9 [00:00<?, ?it/s]"
     ]
    },
    {
     "name": "stdout",
     "output_type": "stream",
     "text": [
      "Train Loss: 0.1134, Train Acc: 0.9559\n",
      "Val Loss: 0.1601, Val Acc: 0.9390\n",
      "Validation loss decreased (0.162838 --> 0.160137).  Saving model ...\n",
      "../IFBased_pjr_saved_model_ifbased_/IFBased_PJR_replay_500/2018-01/best_model_epoch_58.pt\n",
      "../IFBased_pjr_saved_optimizer_ifbased_/IFBased_PJR_replay_500/2018-01/best_optimizer_epoch_58.pt\n",
      "Epoch 59 of 500\n"
     ]
    },
    {
     "name": "stderr",
     "output_type": "stream",
     "text": [
      "100%|██████████| 9/9 [00:01<00:00,  5.56it/s]\n",
      "100%|██████████| 2/2 [00:00<00:00,  7.21it/s]\n",
      "  0%|          | 0/9 [00:00<?, ?it/s]"
     ]
    },
    {
     "name": "stdout",
     "output_type": "stream",
     "text": [
      "Train Loss: 0.1104, Train Acc: 0.9569\n",
      "Val Loss: 0.1616, Val Acc: 0.9343\n",
      "EarlyStopping counter: 1 out of 5\n",
      "Epoch 60 of 500\n"
     ]
    },
    {
     "name": "stderr",
     "output_type": "stream",
     "text": [
      "100%|██████████| 9/9 [00:01<00:00,  5.80it/s]\n",
      "100%|██████████| 2/2 [00:00<00:00, 12.50it/s]\n",
      "  0%|          | 0/9 [00:00<?, ?it/s]"
     ]
    },
    {
     "name": "stdout",
     "output_type": "stream",
     "text": [
      "Train Loss: 0.1095, Train Acc: 0.9574\n",
      "Val Loss: 0.1637, Val Acc: 0.9318\n",
      "EarlyStopping counter: 2 out of 5\n",
      "Epoch 61 of 500\n"
     ]
    },
    {
     "name": "stderr",
     "output_type": "stream",
     "text": [
      "100%|██████████| 9/9 [00:01<00:00,  5.79it/s]\n",
      "100%|██████████| 2/2 [00:00<00:00, 11.78it/s]\n",
      "  0%|          | 0/9 [00:00<?, ?it/s]"
     ]
    },
    {
     "name": "stdout",
     "output_type": "stream",
     "text": [
      "Train Loss: 0.1103, Train Acc: 0.9568\n",
      "Val Loss: 0.1595, Val Acc: 0.9376\n",
      "Validation loss decreased (0.160137 --> 0.159510).  Saving model ...\n",
      "../IFBased_pjr_saved_model_ifbased_/IFBased_PJR_replay_500/2018-01/best_model_epoch_61.pt\n",
      "../IFBased_pjr_saved_optimizer_ifbased_/IFBased_PJR_replay_500/2018-01/best_optimizer_epoch_61.pt\n",
      "Epoch 62 of 500\n"
     ]
    },
    {
     "name": "stderr",
     "output_type": "stream",
     "text": [
      "100%|██████████| 9/9 [00:01<00:00,  5.75it/s]\n",
      "100%|██████████| 2/2 [00:00<00:00, 12.59it/s]\n",
      "  0%|          | 0/9 [00:00<?, ?it/s]"
     ]
    },
    {
     "name": "stdout",
     "output_type": "stream",
     "text": [
      "Train Loss: 0.1092, Train Acc: 0.9583\n",
      "Val Loss: 0.1597, Val Acc: 0.9370\n",
      "EarlyStopping counter: 1 out of 5\n",
      "Epoch 63 of 500\n"
     ]
    },
    {
     "name": "stderr",
     "output_type": "stream",
     "text": [
      "100%|██████████| 9/9 [00:01<00:00,  5.59it/s]\n",
      "100%|██████████| 2/2 [00:00<00:00,  7.42it/s]\n",
      "  0%|          | 0/9 [00:00<?, ?it/s]"
     ]
    },
    {
     "name": "stdout",
     "output_type": "stream",
     "text": [
      "Train Loss: 0.1085, Train Acc: 0.9578\n",
      "Val Loss: 0.1591, Val Acc: 0.9352\n",
      "Validation loss decreased (0.159510 --> 0.159141).  Saving model ...\n",
      "../IFBased_pjr_saved_model_ifbased_/IFBased_PJR_replay_500/2018-01/best_model_epoch_63.pt\n",
      "../IFBased_pjr_saved_optimizer_ifbased_/IFBased_PJR_replay_500/2018-01/best_optimizer_epoch_63.pt\n",
      "Epoch 64 of 500\n"
     ]
    },
    {
     "name": "stderr",
     "output_type": "stream",
     "text": [
      "100%|██████████| 9/9 [00:01<00:00,  5.71it/s]\n",
      "100%|██████████| 2/2 [00:00<00:00, 12.62it/s]\n",
      "  0%|          | 0/9 [00:00<?, ?it/s]"
     ]
    },
    {
     "name": "stdout",
     "output_type": "stream",
     "text": [
      "Train Loss: 0.1065, Train Acc: 0.9590\n",
      "Val Loss: 0.1613, Val Acc: 0.9325\n",
      "EarlyStopping counter: 1 out of 5\n",
      "Epoch 65 of 500\n"
     ]
    },
    {
     "name": "stderr",
     "output_type": "stream",
     "text": [
      "100%|██████████| 9/9 [00:01<00:00,  5.75it/s]\n",
      "100%|██████████| 2/2 [00:00<00:00, 11.07it/s]\n",
      "  0%|          | 0/9 [00:00<?, ?it/s]"
     ]
    },
    {
     "name": "stdout",
     "output_type": "stream",
     "text": [
      "Train Loss: 0.1037, Train Acc: 0.9605\n",
      "Val Loss: 0.1608, Val Acc: 0.9357\n",
      "EarlyStopping counter: 2 out of 5\n",
      "Epoch 66 of 500\n"
     ]
    },
    {
     "name": "stderr",
     "output_type": "stream",
     "text": [
      "100%|██████████| 9/9 [00:01<00:00,  5.96it/s]\n",
      "100%|██████████| 2/2 [00:00<00:00, 12.69it/s]\n",
      "  0%|          | 0/9 [00:00<?, ?it/s]"
     ]
    },
    {
     "name": "stdout",
     "output_type": "stream",
     "text": [
      "Train Loss: 0.1054, Train Acc: 0.9604\n",
      "Val Loss: 0.1616, Val Acc: 0.9358\n",
      "EarlyStopping counter: 3 out of 5\n",
      "Epoch 67 of 500\n"
     ]
    },
    {
     "name": "stderr",
     "output_type": "stream",
     "text": [
      "100%|██████████| 9/9 [00:01<00:00,  6.17it/s]\n",
      "100%|██████████| 2/2 [00:00<00:00,  6.01it/s]\n",
      "  0%|          | 0/9 [00:00<?, ?it/s]"
     ]
    },
    {
     "name": "stdout",
     "output_type": "stream",
     "text": [
      "Train Loss: 0.1029, Train Acc: 0.9603\n",
      "Val Loss: 0.1551, Val Acc: 0.9353\n",
      "Validation loss decreased (0.159141 --> 0.155097).  Saving model ...\n",
      "../IFBased_pjr_saved_model_ifbased_/IFBased_PJR_replay_500/2018-01/best_model_epoch_67.pt\n",
      "../IFBased_pjr_saved_optimizer_ifbased_/IFBased_PJR_replay_500/2018-01/best_optimizer_epoch_67.pt\n",
      "Epoch 68 of 500\n"
     ]
    },
    {
     "name": "stderr",
     "output_type": "stream",
     "text": [
      "100%|██████████| 9/9 [00:01<00:00,  6.18it/s]\n",
      "100%|██████████| 2/2 [00:00<00:00, 12.68it/s]\n",
      "  0%|          | 0/9 [00:00<?, ?it/s]"
     ]
    },
    {
     "name": "stdout",
     "output_type": "stream",
     "text": [
      "Train Loss: 0.1007, Train Acc: 0.9614\n",
      "Val Loss: 0.1586, Val Acc: 0.9369\n",
      "EarlyStopping counter: 1 out of 5\n",
      "Epoch 69 of 500\n"
     ]
    },
    {
     "name": "stderr",
     "output_type": "stream",
     "text": [
      "100%|██████████| 9/9 [00:01<00:00,  5.69it/s]\n",
      "100%|██████████| 2/2 [00:00<00:00, 12.72it/s]\n",
      "  0%|          | 0/9 [00:00<?, ?it/s]"
     ]
    },
    {
     "name": "stdout",
     "output_type": "stream",
     "text": [
      "Train Loss: 0.0991, Train Acc: 0.9617\n",
      "Val Loss: 0.1564, Val Acc: 0.9355\n",
      "EarlyStopping counter: 2 out of 5\n",
      "Epoch 70 of 500\n"
     ]
    },
    {
     "name": "stderr",
     "output_type": "stream",
     "text": [
      "100%|██████████| 9/9 [00:01<00:00,  5.89it/s]\n",
      "100%|██████████| 2/2 [00:00<00:00,  7.36it/s]\n",
      "  0%|          | 0/9 [00:00<?, ?it/s]"
     ]
    },
    {
     "name": "stdout",
     "output_type": "stream",
     "text": [
      "Train Loss: 0.0960, Train Acc: 0.9630\n",
      "Val Loss: 0.1614, Val Acc: 0.9360\n",
      "EarlyStopping counter: 3 out of 5\n",
      "Epoch 71 of 500\n"
     ]
    },
    {
     "name": "stderr",
     "output_type": "stream",
     "text": [
      "100%|██████████| 9/9 [00:01<00:00,  6.25it/s]\n",
      "100%|██████████| 2/2 [00:00<00:00, 12.51it/s]\n",
      "  0%|          | 0/9 [00:00<?, ?it/s]"
     ]
    },
    {
     "name": "stdout",
     "output_type": "stream",
     "text": [
      "Train Loss: 0.0970, Train Acc: 0.9631\n",
      "Val Loss: 0.1584, Val Acc: 0.9390\n",
      "EarlyStopping counter: 4 out of 5\n",
      "Epoch 72 of 500\n"
     ]
    },
    {
     "name": "stderr",
     "output_type": "stream",
     "text": [
      "100%|██████████| 9/9 [00:01<00:00,  6.20it/s]\n",
      "100%|██████████| 2/2 [00:00<00:00, 12.47it/s]\n",
      "  0%|          | 0/2 [00:00<?, ?it/s]"
     ]
    },
    {
     "name": "stdout",
     "output_type": "stream",
     "text": [
      "Train Loss: 0.0958, Train Acc: 0.9631\n",
      "Val Loss: 0.1571, Val Acc: 0.9395\n",
      "EarlyStopping counter: 5 out of 5\n",
      "Early stopping\n",
      "Training time: 2.168 minutes\n",
      "loading best model ../IFBased_pjr_saved_model_ifbased_/IFBased_PJR_replay_500/2018-01/best_model_epoch_67.pt\n",
      "loading best optimizer ../IFBased_pjr_saved_optimizer_ifbased_/IFBased_PJR_replay_500/2018-01/best_optimizer_epoch_67.pt\n"
     ]
    },
    {
     "name": "stderr",
     "output_type": "stream",
     "text": [
      "100%|██████████| 2/2 [00:00<00:00,  4.60it/s]\n",
      "100%|██████████| 2/2 [00:00<00:00,  4.73it/s]\n"
     ]
    },
    {
     "name": "stdout",
     "output_type": "stream",
     "text": [
      "test accuracy 0.9392499923706055 and ROC-AUC 0.9408843539402154\n",
      "Elapsed time 2.3008144736289977 mins.\n",
      "\n",
      "2023-01-10 22:13:46 Round 1 ...\n",
      "Current Task 2018-02 w/ 500 samples to Replay per Malware family.\n",
      "X_train (48723, 2381) Y_train (48723,) Y_tr_family (48723,)\n",
      "X_test (11606, 2381) Y_test (11606,) Y_te_family (11606,)\n",
      "2023-01-10 22:13:48 Standardizing ...\n",
      "replay samples of task 55722\n",
      "Task 2018-02 and #-of new samples stored 48723\n"
     ]
    },
    {
     "name": "stderr",
     "output_type": "stream",
     "text": [
      "\r",
      "  0%|          | 0/17 [00:00<?, ?it/s]"
     ]
    },
    {
     "name": "stdout",
     "output_type": "stream",
     "text": [
      "\n",
      "X_train (104445, 2381) Y_train (104445,)\n",
      "\n",
      "2023-01-10 22:17:02 Training ...\n",
      "Epoch 1 of 500\n"
     ]
    },
    {
     "name": "stderr",
     "output_type": "stream",
     "text": [
      "100%|██████████| 17/17 [00:02<00:00,  6.00it/s]\n",
      "100%|██████████| 2/2 [00:00<00:00,  5.17it/s]\n",
      "  0%|          | 0/17 [00:00<?, ?it/s]"
     ]
    },
    {
     "name": "stdout",
     "output_type": "stream",
     "text": [
      "Train Loss: 0.1761, Train Acc: 0.9339\n",
      "Val Loss: 0.1708, Val Acc: 0.9358\n",
      "Validation loss decreased (inf --> 0.170803).  Saving model ...\n",
      "../IFBased_pjr_saved_model_ifbased_/IFBased_PJR_replay_500/2018-02/best_model_epoch_1.pt\n",
      "../IFBased_pjr_saved_optimizer_ifbased_/IFBased_PJR_replay_500/2018-02/best_optimizer_epoch_1.pt\n",
      "Epoch 2 of 500\n"
     ]
    },
    {
     "name": "stderr",
     "output_type": "stream",
     "text": [
      "100%|██████████| 17/17 [00:02<00:00,  6.47it/s]\n",
      "100%|██████████| 2/2 [00:00<00:00,  6.41it/s]\n",
      "  0%|          | 0/17 [00:00<?, ?it/s]"
     ]
    },
    {
     "name": "stdout",
     "output_type": "stream",
     "text": [
      "Train Loss: 0.1609, Train Acc: 0.9379\n",
      "Val Loss: 0.1623, Val Acc: 0.9378\n",
      "Validation loss decreased (0.170803 --> 0.162347).  Saving model ...\n",
      "../IFBased_pjr_saved_model_ifbased_/IFBased_PJR_replay_500/2018-02/best_model_epoch_2.pt\n",
      "../IFBased_pjr_saved_optimizer_ifbased_/IFBased_PJR_replay_500/2018-02/best_optimizer_epoch_2.pt\n",
      "Epoch 3 of 500\n"
     ]
    },
    {
     "name": "stderr",
     "output_type": "stream",
     "text": [
      "100%|██████████| 17/17 [00:02<00:00,  6.48it/s]\n",
      "100%|██████████| 2/2 [00:00<00:00,  4.92it/s]\n",
      "  0%|          | 0/17 [00:00<?, ?it/s]"
     ]
    },
    {
     "name": "stdout",
     "output_type": "stream",
     "text": [
      "Train Loss: 0.1489, Train Acc: 0.9429\n",
      "Val Loss: 0.1585, Val Acc: 0.9389\n",
      "Validation loss decreased (0.162347 --> 0.158532).  Saving model ...\n",
      "../IFBased_pjr_saved_model_ifbased_/IFBased_PJR_replay_500/2018-02/best_model_epoch_3.pt\n",
      "../IFBased_pjr_saved_optimizer_ifbased_/IFBased_PJR_replay_500/2018-02/best_optimizer_epoch_3.pt\n",
      "Epoch 4 of 500\n"
     ]
    },
    {
     "name": "stderr",
     "output_type": "stream",
     "text": [
      "100%|██████████| 17/17 [00:02<00:00,  6.69it/s]\n",
      "100%|██████████| 2/2 [00:00<00:00,  7.36it/s]\n",
      "  0%|          | 0/17 [00:00<?, ?it/s]"
     ]
    },
    {
     "name": "stdout",
     "output_type": "stream",
     "text": [
      "Train Loss: 0.1434, Train Acc: 0.9443\n",
      "Val Loss: 0.1550, Val Acc: 0.9405\n",
      "Validation loss decreased (0.158532 --> 0.154968).  Saving model ...\n",
      "../IFBased_pjr_saved_model_ifbased_/IFBased_PJR_replay_500/2018-02/best_model_epoch_4.pt\n",
      "../IFBased_pjr_saved_optimizer_ifbased_/IFBased_PJR_replay_500/2018-02/best_optimizer_epoch_4.pt\n",
      "Epoch 5 of 500\n"
     ]
    },
    {
     "name": "stderr",
     "output_type": "stream",
     "text": [
      "100%|██████████| 17/17 [00:02<00:00,  6.27it/s]\n",
      "100%|██████████| 2/2 [00:00<00:00,  4.89it/s]\n",
      "  0%|          | 0/17 [00:00<?, ?it/s]"
     ]
    },
    {
     "name": "stdout",
     "output_type": "stream",
     "text": [
      "Train Loss: 0.1406, Train Acc: 0.9453\n",
      "Val Loss: 0.1522, Val Acc: 0.9430\n",
      "Validation loss decreased (0.154968 --> 0.152222).  Saving model ...\n",
      "../IFBased_pjr_saved_model_ifbased_/IFBased_PJR_replay_500/2018-02/best_model_epoch_5.pt\n",
      "../IFBased_pjr_saved_optimizer_ifbased_/IFBased_PJR_replay_500/2018-02/best_optimizer_epoch_5.pt\n",
      "Epoch 6 of 500\n"
     ]
    },
    {
     "name": "stderr",
     "output_type": "stream",
     "text": [
      "100%|██████████| 17/17 [00:02<00:00,  6.40it/s]\n",
      "100%|██████████| 2/2 [00:00<00:00,  7.47it/s]\n",
      "  0%|          | 0/17 [00:00<?, ?it/s]"
     ]
    },
    {
     "name": "stdout",
     "output_type": "stream",
     "text": [
      "Train Loss: 0.1377, Train Acc: 0.9466\n",
      "Val Loss: 0.1512, Val Acc: 0.9430\n",
      "Validation loss decreased (0.152222 --> 0.151203).  Saving model ...\n",
      "../IFBased_pjr_saved_model_ifbased_/IFBased_PJR_replay_500/2018-02/best_model_epoch_6.pt\n",
      "../IFBased_pjr_saved_optimizer_ifbased_/IFBased_PJR_replay_500/2018-02/best_optimizer_epoch_6.pt\n",
      "Epoch 7 of 500\n"
     ]
    },
    {
     "name": "stderr",
     "output_type": "stream",
     "text": [
      "100%|██████████| 17/17 [00:02<00:00,  6.30it/s]\n",
      "100%|██████████| 2/2 [00:00<00:00,  5.09it/s]\n",
      "  0%|          | 0/17 [00:00<?, ?it/s]"
     ]
    },
    {
     "name": "stdout",
     "output_type": "stream",
     "text": [
      "Train Loss: 0.1361, Train Acc: 0.9477\n",
      "Val Loss: 0.1513, Val Acc: 0.9435\n",
      "EarlyStopping counter: 1 out of 5\n",
      "Epoch 8 of 500\n"
     ]
    },
    {
     "name": "stderr",
     "output_type": "stream",
     "text": [
      "100%|██████████| 17/17 [00:02<00:00,  6.42it/s]\n",
      "100%|██████████| 2/2 [00:00<00:00,  7.64it/s]\n",
      "  0%|          | 0/17 [00:00<?, ?it/s]"
     ]
    },
    {
     "name": "stdout",
     "output_type": "stream",
     "text": [
      "Train Loss: 0.1355, Train Acc: 0.9483\n",
      "Val Loss: 0.1516, Val Acc: 0.9417\n",
      "EarlyStopping counter: 2 out of 5\n",
      "Epoch 9 of 500\n"
     ]
    },
    {
     "name": "stderr",
     "output_type": "stream",
     "text": [
      "100%|██████████| 17/17 [00:02<00:00,  6.27it/s]\n",
      "100%|██████████| 2/2 [00:00<00:00,  5.24it/s]\n",
      "  0%|          | 0/17 [00:00<?, ?it/s]"
     ]
    },
    {
     "name": "stdout",
     "output_type": "stream",
     "text": [
      "Train Loss: 0.1300, Train Acc: 0.9495\n",
      "Val Loss: 0.1479, Val Acc: 0.9434\n",
      "Validation loss decreased (0.151203 --> 0.147919).  Saving model ...\n",
      "../IFBased_pjr_saved_model_ifbased_/IFBased_PJR_replay_500/2018-02/best_model_epoch_9.pt\n",
      "../IFBased_pjr_saved_optimizer_ifbased_/IFBased_PJR_replay_500/2018-02/best_optimizer_epoch_9.pt\n",
      "Epoch 10 of 500\n"
     ]
    },
    {
     "name": "stderr",
     "output_type": "stream",
     "text": [
      "100%|██████████| 17/17 [00:02<00:00,  6.66it/s]\n",
      "100%|██████████| 2/2 [00:00<00:00,  7.48it/s]\n",
      "  0%|          | 0/17 [00:00<?, ?it/s]"
     ]
    },
    {
     "name": "stdout",
     "output_type": "stream",
     "text": [
      "Train Loss: 0.1280, Train Acc: 0.9509\n",
      "Val Loss: 0.1467, Val Acc: 0.9452\n",
      "Validation loss decreased (0.147919 --> 0.146738).  Saving model ...\n",
      "../IFBased_pjr_saved_model_ifbased_/IFBased_PJR_replay_500/2018-02/best_model_epoch_10.pt\n",
      "../IFBased_pjr_saved_optimizer_ifbased_/IFBased_PJR_replay_500/2018-02/best_optimizer_epoch_10.pt\n",
      "Epoch 11 of 500\n"
     ]
    },
    {
     "name": "stderr",
     "output_type": "stream",
     "text": [
      "100%|██████████| 17/17 [00:02<00:00,  6.53it/s]\n",
      "100%|██████████| 2/2 [00:00<00:00,  5.20it/s]\n",
      "  0%|          | 0/17 [00:00<?, ?it/s]"
     ]
    },
    {
     "name": "stdout",
     "output_type": "stream",
     "text": [
      "Train Loss: 0.1224, Train Acc: 0.9527\n",
      "Val Loss: 0.1448, Val Acc: 0.9450\n",
      "Validation loss decreased (0.146738 --> 0.144766).  Saving model ...\n",
      "../IFBased_pjr_saved_model_ifbased_/IFBased_PJR_replay_500/2018-02/best_model_epoch_11.pt\n",
      "../IFBased_pjr_saved_optimizer_ifbased_/IFBased_PJR_replay_500/2018-02/best_optimizer_epoch_11.pt\n",
      "Epoch 12 of 500\n"
     ]
    },
    {
     "name": "stderr",
     "output_type": "stream",
     "text": [
      "100%|██████████| 17/17 [00:02<00:00,  6.67it/s]\n",
      "100%|██████████| 2/2 [00:00<00:00,  7.45it/s]\n",
      "  0%|          | 0/17 [00:00<?, ?it/s]"
     ]
    },
    {
     "name": "stdout",
     "output_type": "stream",
     "text": [
      "Train Loss: 0.1253, Train Acc: 0.9516\n",
      "Val Loss: 0.1454, Val Acc: 0.9447\n",
      "EarlyStopping counter: 1 out of 5\n",
      "Epoch 13 of 500\n"
     ]
    },
    {
     "name": "stderr",
     "output_type": "stream",
     "text": [
      "100%|██████████| 17/17 [00:02<00:00,  6.50it/s]\n",
      "100%|██████████| 2/2 [00:00<00:00,  5.17it/s]\n",
      "  0%|          | 0/17 [00:00<?, ?it/s]"
     ]
    },
    {
     "name": "stdout",
     "output_type": "stream",
     "text": [
      "Train Loss: 0.1240, Train Acc: 0.9520\n",
      "Val Loss: 0.1434, Val Acc: 0.9459\n",
      "Validation loss decreased (0.144766 --> 0.143368).  Saving model ...\n",
      "../IFBased_pjr_saved_model_ifbased_/IFBased_PJR_replay_500/2018-02/best_model_epoch_13.pt\n",
      "../IFBased_pjr_saved_optimizer_ifbased_/IFBased_PJR_replay_500/2018-02/best_optimizer_epoch_13.pt\n",
      "Epoch 14 of 500\n"
     ]
    },
    {
     "name": "stderr",
     "output_type": "stream",
     "text": [
      "100%|██████████| 17/17 [00:03<00:00,  5.49it/s]\n",
      "100%|██████████| 2/2 [00:00<00:00,  7.27it/s]\n",
      "  0%|          | 0/17 [00:00<?, ?it/s]"
     ]
    },
    {
     "name": "stdout",
     "output_type": "stream",
     "text": [
      "Train Loss: 0.1182, Train Acc: 0.9538\n",
      "Val Loss: 0.1410, Val Acc: 0.9466\n",
      "Validation loss decreased (0.143368 --> 0.140979).  Saving model ...\n",
      "../IFBased_pjr_saved_model_ifbased_/IFBased_PJR_replay_500/2018-02/best_model_epoch_14.pt\n",
      "../IFBased_pjr_saved_optimizer_ifbased_/IFBased_PJR_replay_500/2018-02/best_optimizer_epoch_14.pt\n",
      "Epoch 15 of 500\n"
     ]
    },
    {
     "name": "stderr",
     "output_type": "stream",
     "text": [
      "100%|██████████| 17/17 [00:02<00:00,  6.56it/s]\n",
      "100%|██████████| 2/2 [00:00<00:00,  5.12it/s]\n",
      "  0%|          | 0/17 [00:00<?, ?it/s]"
     ]
    },
    {
     "name": "stdout",
     "output_type": "stream",
     "text": [
      "Train Loss: 0.1183, Train Acc: 0.9539\n",
      "Val Loss: 0.1432, Val Acc: 0.9463\n",
      "EarlyStopping counter: 1 out of 5\n",
      "Epoch 16 of 500\n"
     ]
    },
    {
     "name": "stderr",
     "output_type": "stream",
     "text": [
      "100%|██████████| 17/17 [00:02<00:00,  6.59it/s]\n",
      "100%|██████████| 2/2 [00:00<00:00,  7.55it/s]\n",
      "  0%|          | 0/17 [00:00<?, ?it/s]"
     ]
    },
    {
     "name": "stdout",
     "output_type": "stream",
     "text": [
      "Train Loss: 0.1153, Train Acc: 0.9557\n",
      "Val Loss: 0.1427, Val Acc: 0.9449\n",
      "EarlyStopping counter: 2 out of 5\n",
      "Epoch 17 of 500\n"
     ]
    },
    {
     "name": "stderr",
     "output_type": "stream",
     "text": [
      "100%|██████████| 17/17 [00:02<00:00,  5.93it/s]\n",
      "100%|██████████| 2/2 [00:00<00:00,  5.14it/s]\n",
      "  0%|          | 0/17 [00:00<?, ?it/s]"
     ]
    },
    {
     "name": "stdout",
     "output_type": "stream",
     "text": [
      "Train Loss: 0.1135, Train Acc: 0.9563\n",
      "Val Loss: 0.1420, Val Acc: 0.9468\n",
      "EarlyStopping counter: 3 out of 5\n",
      "Epoch 18 of 500\n"
     ]
    },
    {
     "name": "stderr",
     "output_type": "stream",
     "text": [
      "100%|██████████| 17/17 [00:02<00:00,  6.04it/s]\n",
      "100%|██████████| 2/2 [00:00<00:00,  7.35it/s]\n",
      "  0%|          | 0/17 [00:00<?, ?it/s]"
     ]
    },
    {
     "name": "stdout",
     "output_type": "stream",
     "text": [
      "Train Loss: 0.1125, Train Acc: 0.9573\n",
      "Val Loss: 0.1410, Val Acc: 0.9466\n",
      "EarlyStopping counter: 4 out of 5\n",
      "Epoch 19 of 500\n"
     ]
    },
    {
     "name": "stderr",
     "output_type": "stream",
     "text": [
      "100%|██████████| 17/17 [00:02<00:00,  5.72it/s]\n",
      "100%|██████████| 2/2 [00:00<00:00,  5.14it/s]\n",
      "  0%|          | 0/17 [00:00<?, ?it/s]"
     ]
    },
    {
     "name": "stdout",
     "output_type": "stream",
     "text": [
      "Train Loss: 0.1113, Train Acc: 0.9574\n",
      "Val Loss: 0.1395, Val Acc: 0.9470\n",
      "Validation loss decreased (0.140979 --> 0.139464).  Saving model ...\n",
      "../IFBased_pjr_saved_model_ifbased_/IFBased_PJR_replay_500/2018-02/best_model_epoch_19.pt\n",
      "../IFBased_pjr_saved_optimizer_ifbased_/IFBased_PJR_replay_500/2018-02/best_optimizer_epoch_19.pt\n",
      "Epoch 20 of 500\n"
     ]
    },
    {
     "name": "stderr",
     "output_type": "stream",
     "text": [
      "100%|██████████| 17/17 [00:02<00:00,  6.05it/s]\n",
      "100%|██████████| 2/2 [00:00<00:00,  7.42it/s]\n",
      "  0%|          | 0/17 [00:00<?, ?it/s]"
     ]
    },
    {
     "name": "stdout",
     "output_type": "stream",
     "text": [
      "Train Loss: 0.1090, Train Acc: 0.9587\n",
      "Val Loss: 0.1404, Val Acc: 0.9476\n",
      "EarlyStopping counter: 1 out of 5\n",
      "Epoch 21 of 500\n"
     ]
    },
    {
     "name": "stderr",
     "output_type": "stream",
     "text": [
      "100%|██████████| 17/17 [00:02<00:00,  6.09it/s]\n",
      "100%|██████████| 2/2 [00:00<00:00,  5.18it/s]\n",
      "  0%|          | 0/17 [00:00<?, ?it/s]"
     ]
    },
    {
     "name": "stdout",
     "output_type": "stream",
     "text": [
      "Train Loss: 0.1065, Train Acc: 0.9588\n",
      "Val Loss: 0.1407, Val Acc: 0.9487\n",
      "EarlyStopping counter: 2 out of 5\n",
      "Epoch 22 of 500\n"
     ]
    },
    {
     "name": "stderr",
     "output_type": "stream",
     "text": [
      "100%|██████████| 17/17 [00:02<00:00,  6.07it/s]\n",
      "100%|██████████| 2/2 [00:00<00:00,  7.55it/s]\n",
      "  0%|          | 0/17 [00:00<?, ?it/s]"
     ]
    },
    {
     "name": "stdout",
     "output_type": "stream",
     "text": [
      "Train Loss: 0.1073, Train Acc: 0.9594\n",
      "Val Loss: 0.1392, Val Acc: 0.9491\n",
      "Validation loss decreased (0.139464 --> 0.139244).  Saving model ...\n",
      "../IFBased_pjr_saved_model_ifbased_/IFBased_PJR_replay_500/2018-02/best_model_epoch_22.pt\n",
      "../IFBased_pjr_saved_optimizer_ifbased_/IFBased_PJR_replay_500/2018-02/best_optimizer_epoch_22.pt\n",
      "Epoch 23 of 500\n"
     ]
    },
    {
     "name": "stderr",
     "output_type": "stream",
     "text": [
      "100%|██████████| 17/17 [00:02<00:00,  6.05it/s]\n",
      "100%|██████████| 2/2 [00:00<00:00,  5.20it/s]\n",
      "  0%|          | 0/17 [00:00<?, ?it/s]"
     ]
    },
    {
     "name": "stdout",
     "output_type": "stream",
     "text": [
      "Train Loss: 0.1063, Train Acc: 0.9589\n",
      "Val Loss: 0.1377, Val Acc: 0.9488\n",
      "Validation loss decreased (0.139244 --> 0.137742).  Saving model ...\n",
      "../IFBased_pjr_saved_model_ifbased_/IFBased_PJR_replay_500/2018-02/best_model_epoch_23.pt\n",
      "../IFBased_pjr_saved_optimizer_ifbased_/IFBased_PJR_replay_500/2018-02/best_optimizer_epoch_23.pt\n",
      "Epoch 24 of 500\n"
     ]
    },
    {
     "name": "stderr",
     "output_type": "stream",
     "text": [
      "100%|██████████| 17/17 [00:02<00:00,  6.45it/s]\n",
      "100%|██████████| 2/2 [00:00<00:00,  7.52it/s]\n",
      "  0%|          | 0/17 [00:00<?, ?it/s]"
     ]
    },
    {
     "name": "stdout",
     "output_type": "stream",
     "text": [
      "Train Loss: 0.1023, Train Acc: 0.9606\n",
      "Val Loss: 0.1366, Val Acc: 0.9486\n",
      "Validation loss decreased (0.137742 --> 0.136629).  Saving model ...\n",
      "../IFBased_pjr_saved_model_ifbased_/IFBased_PJR_replay_500/2018-02/best_model_epoch_24.pt\n",
      "../IFBased_pjr_saved_optimizer_ifbased_/IFBased_PJR_replay_500/2018-02/best_optimizer_epoch_24.pt\n",
      "Epoch 25 of 500\n"
     ]
    },
    {
     "name": "stderr",
     "output_type": "stream",
     "text": [
      "100%|██████████| 17/17 [00:02<00:00,  6.48it/s]\n",
      "100%|██████████| 2/2 [00:00<00:00,  4.48it/s]\n",
      "  0%|          | 0/17 [00:00<?, ?it/s]"
     ]
    },
    {
     "name": "stdout",
     "output_type": "stream",
     "text": [
      "Train Loss: 0.1023, Train Acc: 0.9606\n",
      "Val Loss: 0.1380, Val Acc: 0.9478\n",
      "EarlyStopping counter: 1 out of 5\n",
      "Epoch 26 of 500\n"
     ]
    },
    {
     "name": "stderr",
     "output_type": "stream",
     "text": [
      "100%|██████████| 17/17 [00:02<00:00,  6.25it/s]\n",
      "100%|██████████| 2/2 [00:00<00:00,  8.08it/s]\n",
      "  0%|          | 0/17 [00:00<?, ?it/s]"
     ]
    },
    {
     "name": "stdout",
     "output_type": "stream",
     "text": [
      "Train Loss: 0.0999, Train Acc: 0.9615\n",
      "Val Loss: 0.1387, Val Acc: 0.9492\n",
      "EarlyStopping counter: 2 out of 5\n",
      "Epoch 27 of 500\n"
     ]
    },
    {
     "name": "stderr",
     "output_type": "stream",
     "text": [
      "100%|██████████| 17/17 [00:02<00:00,  6.24it/s]\n",
      "100%|██████████| 2/2 [00:00<00:00,  5.45it/s]\n",
      "  0%|          | 0/17 [00:00<?, ?it/s]"
     ]
    },
    {
     "name": "stdout",
     "output_type": "stream",
     "text": [
      "Train Loss: 0.0991, Train Acc: 0.9617\n",
      "Val Loss: 0.1365, Val Acc: 0.9499\n",
      "Validation loss decreased (0.136629 --> 0.136521).  Saving model ...\n",
      "../IFBased_pjr_saved_model_ifbased_/IFBased_PJR_replay_500/2018-02/best_model_epoch_27.pt\n",
      "../IFBased_pjr_saved_optimizer_ifbased_/IFBased_PJR_replay_500/2018-02/best_optimizer_epoch_27.pt\n",
      "Epoch 28 of 500\n"
     ]
    },
    {
     "name": "stderr",
     "output_type": "stream",
     "text": [
      "100%|██████████| 17/17 [00:02<00:00,  6.30it/s]\n",
      "100%|██████████| 2/2 [00:00<00:00,  8.31it/s]\n",
      "  0%|          | 0/17 [00:00<?, ?it/s]"
     ]
    },
    {
     "name": "stdout",
     "output_type": "stream",
     "text": [
      "Train Loss: 0.0960, Train Acc: 0.9631\n",
      "Val Loss: 0.1386, Val Acc: 0.9489\n",
      "EarlyStopping counter: 1 out of 5\n",
      "Epoch 29 of 500\n"
     ]
    },
    {
     "name": "stderr",
     "output_type": "stream",
     "text": [
      "100%|██████████| 17/17 [00:02<00:00,  6.19it/s]\n",
      "100%|██████████| 2/2 [00:00<00:00,  6.92it/s]\n",
      "  0%|          | 0/17 [00:00<?, ?it/s]"
     ]
    },
    {
     "name": "stdout",
     "output_type": "stream",
     "text": [
      "Train Loss: 0.0975, Train Acc: 0.9632\n",
      "Val Loss: 0.1356, Val Acc: 0.9511\n",
      "Validation loss decreased (0.136521 --> 0.135641).  Saving model ...\n",
      "../IFBased_pjr_saved_model_ifbased_/IFBased_PJR_replay_500/2018-02/best_model_epoch_29.pt\n",
      "../IFBased_pjr_saved_optimizer_ifbased_/IFBased_PJR_replay_500/2018-02/best_optimizer_epoch_29.pt\n",
      "Epoch 30 of 500\n"
     ]
    },
    {
     "name": "stderr",
     "output_type": "stream",
     "text": [
      "100%|██████████| 17/17 [00:02<00:00,  6.29it/s]\n",
      "100%|██████████| 2/2 [00:00<00:00,  7.47it/s]\n",
      "  0%|          | 0/17 [00:00<?, ?it/s]"
     ]
    },
    {
     "name": "stdout",
     "output_type": "stream",
     "text": [
      "Train Loss: 0.0951, Train Acc: 0.9641\n",
      "Val Loss: 0.1351, Val Acc: 0.9520\n",
      "Validation loss decreased (0.135641 --> 0.135102).  Saving model ...\n",
      "../IFBased_pjr_saved_model_ifbased_/IFBased_PJR_replay_500/2018-02/best_model_epoch_30.pt\n",
      "../IFBased_pjr_saved_optimizer_ifbased_/IFBased_PJR_replay_500/2018-02/best_optimizer_epoch_30.pt\n",
      "Epoch 31 of 500\n"
     ]
    },
    {
     "name": "stderr",
     "output_type": "stream",
     "text": [
      "100%|██████████| 17/17 [00:02<00:00,  6.14it/s]\n",
      "100%|██████████| 2/2 [00:00<00:00,  4.36it/s]\n",
      "  0%|          | 0/17 [00:00<?, ?it/s]"
     ]
    },
    {
     "name": "stdout",
     "output_type": "stream",
     "text": [
      "Train Loss: 0.0943, Train Acc: 0.9639\n",
      "Val Loss: 0.1336, Val Acc: 0.9532\n",
      "Validation loss decreased (0.135102 --> 0.133629).  Saving model ...\n",
      "../IFBased_pjr_saved_model_ifbased_/IFBased_PJR_replay_500/2018-02/best_model_epoch_31.pt\n",
      "../IFBased_pjr_saved_optimizer_ifbased_/IFBased_PJR_replay_500/2018-02/best_optimizer_epoch_31.pt\n",
      "Epoch 32 of 500\n"
     ]
    },
    {
     "name": "stderr",
     "output_type": "stream",
     "text": [
      "100%|██████████| 17/17 [00:02<00:00,  6.49it/s]\n",
      "100%|██████████| 2/2 [00:00<00:00,  7.38it/s]\n",
      "  0%|          | 0/17 [00:00<?, ?it/s]"
     ]
    },
    {
     "name": "stdout",
     "output_type": "stream",
     "text": [
      "Train Loss: 0.0949, Train Acc: 0.9636\n",
      "Val Loss: 0.1358, Val Acc: 0.9514\n",
      "EarlyStopping counter: 1 out of 5\n",
      "Epoch 33 of 500\n"
     ]
    },
    {
     "name": "stderr",
     "output_type": "stream",
     "text": [
      "100%|██████████| 17/17 [00:02<00:00,  6.46it/s]\n",
      "100%|██████████| 2/2 [00:00<00:00,  5.01it/s]\n",
      "  0%|          | 0/17 [00:00<?, ?it/s]"
     ]
    },
    {
     "name": "stdout",
     "output_type": "stream",
     "text": [
      "Train Loss: 0.0918, Train Acc: 0.9652\n",
      "Val Loss: 0.1355, Val Acc: 0.9524\n",
      "EarlyStopping counter: 2 out of 5\n",
      "Epoch 34 of 500\n"
     ]
    },
    {
     "name": "stderr",
     "output_type": "stream",
     "text": [
      "100%|██████████| 17/17 [00:02<00:00,  6.53it/s]\n",
      "100%|██████████| 2/2 [00:00<00:00,  7.53it/s]\n",
      "  0%|          | 0/17 [00:00<?, ?it/s]"
     ]
    },
    {
     "name": "stdout",
     "output_type": "stream",
     "text": [
      "Train Loss: 0.0910, Train Acc: 0.9655\n",
      "Val Loss: 0.1333, Val Acc: 0.9529\n",
      "Validation loss decreased (0.133629 --> 0.133294).  Saving model ...\n",
      "../IFBased_pjr_saved_model_ifbased_/IFBased_PJR_replay_500/2018-02/best_model_epoch_34.pt\n",
      "../IFBased_pjr_saved_optimizer_ifbased_/IFBased_PJR_replay_500/2018-02/best_optimizer_epoch_34.pt\n",
      "Epoch 35 of 500\n"
     ]
    },
    {
     "name": "stderr",
     "output_type": "stream",
     "text": [
      "100%|██████████| 17/17 [00:02<00:00,  6.46it/s]\n",
      "100%|██████████| 2/2 [00:00<00:00,  5.23it/s]\n",
      "  0%|          | 0/17 [00:00<?, ?it/s]"
     ]
    },
    {
     "name": "stdout",
     "output_type": "stream",
     "text": [
      "Train Loss: 0.0884, Train Acc: 0.9666\n",
      "Val Loss: 0.1348, Val Acc: 0.9523\n",
      "EarlyStopping counter: 1 out of 5\n",
      "Epoch 36 of 500\n"
     ]
    },
    {
     "name": "stderr",
     "output_type": "stream",
     "text": [
      "100%|██████████| 17/17 [00:02<00:00,  6.20it/s]\n",
      "100%|██████████| 2/2 [00:00<00:00,  7.36it/s]\n",
      "  0%|          | 0/17 [00:00<?, ?it/s]"
     ]
    },
    {
     "name": "stdout",
     "output_type": "stream",
     "text": [
      "Train Loss: 0.0884, Train Acc: 0.9664\n",
      "Val Loss: 0.1333, Val Acc: 0.9526\n",
      "EarlyStopping counter: 2 out of 5\n",
      "Epoch 37 of 500\n"
     ]
    },
    {
     "name": "stderr",
     "output_type": "stream",
     "text": [
      "100%|██████████| 17/17 [00:02<00:00,  6.42it/s]\n",
      "100%|██████████| 2/2 [00:00<00:00,  5.24it/s]\n",
      "  0%|          | 0/17 [00:00<?, ?it/s]"
     ]
    },
    {
     "name": "stdout",
     "output_type": "stream",
     "text": [
      "Train Loss: 0.0849, Train Acc: 0.9684\n",
      "Val Loss: 0.1356, Val Acc: 0.9516\n",
      "EarlyStopping counter: 3 out of 5\n",
      "Epoch 38 of 500\n"
     ]
    },
    {
     "name": "stderr",
     "output_type": "stream",
     "text": [
      "100%|██████████| 17/17 [00:02<00:00,  6.53it/s]\n",
      "100%|██████████| 2/2 [00:00<00:00,  7.36it/s]\n",
      "  0%|          | 0/17 [00:00<?, ?it/s]"
     ]
    },
    {
     "name": "stdout",
     "output_type": "stream",
     "text": [
      "Train Loss: 0.0854, Train Acc: 0.9674\n",
      "Val Loss: 0.1388, Val Acc: 0.9518\n",
      "EarlyStopping counter: 4 out of 5\n",
      "Epoch 39 of 500\n"
     ]
    },
    {
     "name": "stderr",
     "output_type": "stream",
     "text": [
      "100%|██████████| 17/17 [00:02<00:00,  6.12it/s]\n",
      "100%|██████████| 2/2 [00:00<00:00,  5.24it/s]\n",
      "  0%|          | 0/2 [00:00<?, ?it/s]"
     ]
    },
    {
     "name": "stdout",
     "output_type": "stream",
     "text": [
      "Train Loss: 0.0869, Train Acc: 0.9670\n",
      "Val Loss: 0.1372, Val Acc: 0.9516\n",
      "EarlyStopping counter: 5 out of 5\n",
      "Early stopping\n",
      "Training time: 2.021 minutes\n",
      "loading best model ../IFBased_pjr_saved_model_ifbased_/IFBased_PJR_replay_500/2018-02/best_model_epoch_34.pt\n",
      "loading best optimizer ../IFBased_pjr_saved_optimizer_ifbased_/IFBased_PJR_replay_500/2018-02/best_optimizer_epoch_34.pt\n"
     ]
    },
    {
     "name": "stderr",
     "output_type": "stream",
     "text": [
      "100%|██████████| 2/2 [00:00<00:00,  3.13it/s]\n",
      "100%|██████████| 2/2 [00:00<00:00,  3.07it/s]\n"
     ]
    },
    {
     "name": "stdout",
     "output_type": "stream",
     "text": [
      "test accuracy 0.9524231553077698 and ROC-AUC 0.9523135758210718\n",
      "Elapsed time 7.644845267136891 mins.\n",
      "\n",
      "2023-01-10 22:19:07 Round 1 ...\n",
      "Current Task 2018-03 w/ 500 samples to Replay per Malware family.\n",
      "X_train (37372, 2381) Y_train (37372,) Y_tr_family (37372,)\n",
      "X_test (15759, 2381) Y_test (15759,) Y_te_family (15759,)\n",
      "2023-01-10 22:19:09 Standardizing ...\n",
      "replay samples of task 104445\n",
      "Task 2018-03 and #-of new samples stored 37372\n"
     ]
    },
    {
     "name": "stderr",
     "output_type": "stream",
     "text": [
      "\r",
      "  0%|          | 0/23 [00:00<?, ?it/s]"
     ]
    },
    {
     "name": "stdout",
     "output_type": "stream",
     "text": [
      "\n",
      "X_train (141817, 2381) Y_train (141817,)\n",
      "\n",
      "2023-01-10 22:23:14 Training ...\n",
      "Epoch 1 of 500\n"
     ]
    },
    {
     "name": "stderr",
     "output_type": "stream",
     "text": [
      "100%|██████████| 23/23 [00:03<00:00,  6.34it/s]\n",
      "100%|██████████| 3/3 [00:00<00:00,  6.69it/s]\n",
      "  0%|          | 0/23 [00:00<?, ?it/s]"
     ]
    },
    {
     "name": "stdout",
     "output_type": "stream",
     "text": [
      "Train Loss: 0.1314, Train Acc: 0.9523\n",
      "Val Loss: 0.1541, Val Acc: 0.9436\n",
      "Validation loss decreased (inf --> 0.154080).  Saving model ...\n",
      "../IFBased_pjr_saved_model_ifbased_/IFBased_PJR_replay_500/2018-03/best_model_epoch_1.pt\n",
      "../IFBased_pjr_saved_optimizer_ifbased_/IFBased_PJR_replay_500/2018-03/best_optimizer_epoch_1.pt\n",
      "Epoch 2 of 500\n"
     ]
    },
    {
     "name": "stderr",
     "output_type": "stream",
     "text": [
      "100%|██████████| 23/23 [00:03<00:00,  6.69it/s]\n",
      "100%|██████████| 3/3 [00:00<00:00,  9.24it/s]\n",
      "  0%|          | 0/23 [00:00<?, ?it/s]"
     ]
    },
    {
     "name": "stdout",
     "output_type": "stream",
     "text": [
      "Train Loss: 0.1251, Train Acc: 0.9535\n",
      "Val Loss: 0.1478, Val Acc: 0.9447\n",
      "Validation loss decreased (0.154080 --> 0.147843).  Saving model ...\n",
      "../IFBased_pjr_saved_model_ifbased_/IFBased_PJR_replay_500/2018-03/best_model_epoch_2.pt\n",
      "../IFBased_pjr_saved_optimizer_ifbased_/IFBased_PJR_replay_500/2018-03/best_optimizer_epoch_2.pt\n",
      "Epoch 3 of 500\n"
     ]
    },
    {
     "name": "stderr",
     "output_type": "stream",
     "text": [
      "100%|██████████| 23/23 [00:03<00:00,  6.82it/s]\n",
      "100%|██████████| 3/3 [00:00<00:00,  6.65it/s]\n",
      "  0%|          | 0/23 [00:00<?, ?it/s]"
     ]
    },
    {
     "name": "stdout",
     "output_type": "stream",
     "text": [
      "Train Loss: 0.1197, Train Acc: 0.9553\n",
      "Val Loss: 0.1478, Val Acc: 0.9447\n",
      "Validation loss decreased (0.147843 --> 0.147810).  Saving model ...\n",
      "../IFBased_pjr_saved_model_ifbased_/IFBased_PJR_replay_500/2018-03/best_model_epoch_3.pt\n",
      "../IFBased_pjr_saved_optimizer_ifbased_/IFBased_PJR_replay_500/2018-03/best_optimizer_epoch_3.pt\n",
      "Epoch 4 of 500\n"
     ]
    },
    {
     "name": "stderr",
     "output_type": "stream",
     "text": [
      "100%|██████████| 23/23 [00:03<00:00,  6.86it/s]\n",
      "100%|██████████| 3/3 [00:00<00:00,  6.56it/s]\n",
      "  0%|          | 0/23 [00:00<?, ?it/s]"
     ]
    },
    {
     "name": "stdout",
     "output_type": "stream",
     "text": [
      "Train Loss: 0.1174, Train Acc: 0.9552\n",
      "Val Loss: 0.1447, Val Acc: 0.9466\n",
      "Validation loss decreased (0.147810 --> 0.144679).  Saving model ...\n",
      "../IFBased_pjr_saved_model_ifbased_/IFBased_PJR_replay_500/2018-03/best_model_epoch_4.pt\n",
      "../IFBased_pjr_saved_optimizer_ifbased_/IFBased_PJR_replay_500/2018-03/best_optimizer_epoch_4.pt\n",
      "Epoch 5 of 500\n"
     ]
    },
    {
     "name": "stderr",
     "output_type": "stream",
     "text": [
      "100%|██████████| 23/23 [00:03<00:00,  6.71it/s]\n",
      "100%|██████████| 3/3 [00:00<00:00,  8.67it/s]\n",
      "  0%|          | 0/23 [00:00<?, ?it/s]"
     ]
    },
    {
     "name": "stdout",
     "output_type": "stream",
     "text": [
      "Train Loss: 0.1147, Train Acc: 0.9570\n",
      "Val Loss: 0.1424, Val Acc: 0.9478\n",
      "Validation loss decreased (0.144679 --> 0.142388).  Saving model ...\n",
      "../IFBased_pjr_saved_model_ifbased_/IFBased_PJR_replay_500/2018-03/best_model_epoch_5.pt\n",
      "../IFBased_pjr_saved_optimizer_ifbased_/IFBased_PJR_replay_500/2018-03/best_optimizer_epoch_5.pt\n",
      "Epoch 6 of 500\n"
     ]
    },
    {
     "name": "stderr",
     "output_type": "stream",
     "text": [
      "100%|██████████| 23/23 [00:03<00:00,  6.85it/s]\n",
      "100%|██████████| 3/3 [00:00<00:00,  6.60it/s]\n",
      "  0%|          | 0/23 [00:00<?, ?it/s]"
     ]
    },
    {
     "name": "stdout",
     "output_type": "stream",
     "text": [
      "Train Loss: 0.1138, Train Acc: 0.9578\n",
      "Val Loss: 0.1414, Val Acc: 0.9471\n",
      "Validation loss decreased (0.142388 --> 0.141380).  Saving model ...\n",
      "../IFBased_pjr_saved_model_ifbased_/IFBased_PJR_replay_500/2018-03/best_model_epoch_6.pt\n",
      "../IFBased_pjr_saved_optimizer_ifbased_/IFBased_PJR_replay_500/2018-03/best_optimizer_epoch_6.pt\n",
      "Epoch 7 of 500\n"
     ]
    },
    {
     "name": "stderr",
     "output_type": "stream",
     "text": [
      "100%|██████████| 23/23 [00:03<00:00,  6.86it/s]\n",
      "100%|██████████| 3/3 [00:00<00:00,  5.97it/s]\n",
      "  0%|          | 0/23 [00:00<?, ?it/s]"
     ]
    },
    {
     "name": "stdout",
     "output_type": "stream",
     "text": [
      "Train Loss: 0.1113, Train Acc: 0.9584\n",
      "Val Loss: 0.1392, Val Acc: 0.9486\n",
      "Validation loss decreased (0.141380 --> 0.139185).  Saving model ...\n",
      "../IFBased_pjr_saved_model_ifbased_/IFBased_PJR_replay_500/2018-03/best_model_epoch_7.pt\n",
      "../IFBased_pjr_saved_optimizer_ifbased_/IFBased_PJR_replay_500/2018-03/best_optimizer_epoch_7.pt\n",
      "Epoch 8 of 500\n"
     ]
    },
    {
     "name": "stderr",
     "output_type": "stream",
     "text": [
      "100%|██████████| 23/23 [00:03<00:00,  6.45it/s]\n",
      "100%|██████████| 3/3 [00:00<00:00,  8.46it/s]\n",
      "  0%|          | 0/23 [00:00<?, ?it/s]"
     ]
    },
    {
     "name": "stdout",
     "output_type": "stream",
     "text": [
      "Train Loss: 0.1062, Train Acc: 0.9599\n",
      "Val Loss: 0.1380, Val Acc: 0.9488\n",
      "Validation loss decreased (0.139185 --> 0.137998).  Saving model ...\n",
      "../IFBased_pjr_saved_model_ifbased_/IFBased_PJR_replay_500/2018-03/best_model_epoch_8.pt\n",
      "../IFBased_pjr_saved_optimizer_ifbased_/IFBased_PJR_replay_500/2018-03/best_optimizer_epoch_8.pt\n",
      "Epoch 9 of 500\n"
     ]
    },
    {
     "name": "stderr",
     "output_type": "stream",
     "text": [
      "100%|██████████| 23/23 [00:03<00:00,  6.54it/s]\n",
      "100%|██████████| 3/3 [00:00<00:00,  6.39it/s]\n",
      "  0%|          | 0/23 [00:00<?, ?it/s]"
     ]
    },
    {
     "name": "stdout",
     "output_type": "stream",
     "text": [
      "Train Loss: 0.1063, Train Acc: 0.9599\n",
      "Val Loss: 0.1370, Val Acc: 0.9490\n",
      "Validation loss decreased (0.137998 --> 0.136975).  Saving model ...\n",
      "../IFBased_pjr_saved_model_ifbased_/IFBased_PJR_replay_500/2018-03/best_model_epoch_9.pt\n",
      "../IFBased_pjr_saved_optimizer_ifbased_/IFBased_PJR_replay_500/2018-03/best_optimizer_epoch_9.pt\n",
      "Epoch 10 of 500\n"
     ]
    },
    {
     "name": "stderr",
     "output_type": "stream",
     "text": [
      "100%|██████████| 23/23 [00:03<00:00,  6.71it/s]\n",
      "100%|██████████| 3/3 [00:00<00:00,  6.35it/s]\n",
      "  0%|          | 0/23 [00:00<?, ?it/s]"
     ]
    },
    {
     "name": "stdout",
     "output_type": "stream",
     "text": [
      "Train Loss: 0.1066, Train Acc: 0.9600\n",
      "Val Loss: 0.1365, Val Acc: 0.9500\n",
      "Validation loss decreased (0.136975 --> 0.136542).  Saving model ...\n",
      "../IFBased_pjr_saved_model_ifbased_/IFBased_PJR_replay_500/2018-03/best_model_epoch_10.pt\n",
      "../IFBased_pjr_saved_optimizer_ifbased_/IFBased_PJR_replay_500/2018-03/best_optimizer_epoch_10.pt\n",
      "Epoch 11 of 500\n"
     ]
    },
    {
     "name": "stderr",
     "output_type": "stream",
     "text": [
      "100%|██████████| 23/23 [00:03<00:00,  6.62it/s]\n",
      "100%|██████████| 3/3 [00:00<00:00,  8.57it/s]\n",
      "  0%|          | 0/23 [00:00<?, ?it/s]"
     ]
    },
    {
     "name": "stdout",
     "output_type": "stream",
     "text": [
      "Train Loss: 0.1012, Train Acc: 0.9620\n",
      "Val Loss: 0.1368, Val Acc: 0.9495\n",
      "EarlyStopping counter: 1 out of 5\n",
      "Epoch 12 of 500\n"
     ]
    },
    {
     "name": "stderr",
     "output_type": "stream",
     "text": [
      "100%|██████████| 23/23 [00:03<00:00,  6.34it/s]\n",
      "100%|██████████| 3/3 [00:00<00:00,  6.50it/s]\n",
      "  0%|          | 0/23 [00:00<?, ?it/s]"
     ]
    },
    {
     "name": "stdout",
     "output_type": "stream",
     "text": [
      "Train Loss: 0.1024, Train Acc: 0.9610\n",
      "Val Loss: 0.1368, Val Acc: 0.9500\n",
      "EarlyStopping counter: 2 out of 5\n",
      "Epoch 13 of 500\n"
     ]
    },
    {
     "name": "stderr",
     "output_type": "stream",
     "text": [
      "100%|██████████| 23/23 [00:03<00:00,  6.51it/s]\n",
      "100%|██████████| 3/3 [00:00<00:00,  6.32it/s]\n",
      "  0%|          | 0/23 [00:00<?, ?it/s]"
     ]
    },
    {
     "name": "stdout",
     "output_type": "stream",
     "text": [
      "Train Loss: 0.0997, Train Acc: 0.9626\n",
      "Val Loss: 0.1387, Val Acc: 0.9491\n",
      "EarlyStopping counter: 3 out of 5\n",
      "Epoch 14 of 500\n"
     ]
    },
    {
     "name": "stderr",
     "output_type": "stream",
     "text": [
      "100%|██████████| 23/23 [00:03<00:00,  6.06it/s]\n",
      "100%|██████████| 3/3 [00:00<00:00,  8.57it/s]\n",
      "  0%|          | 0/23 [00:00<?, ?it/s]"
     ]
    },
    {
     "name": "stdout",
     "output_type": "stream",
     "text": [
      "Train Loss: 0.0977, Train Acc: 0.9634\n",
      "Val Loss: 0.1385, Val Acc: 0.9500\n",
      "EarlyStopping counter: 4 out of 5\n",
      "Epoch 15 of 500\n"
     ]
    },
    {
     "name": "stderr",
     "output_type": "stream",
     "text": [
      "100%|██████████| 23/23 [00:03<00:00,  6.40it/s]\n",
      "100%|██████████| 3/3 [00:00<00:00,  6.64it/s]\n",
      "  0%|          | 0/23 [00:00<?, ?it/s]"
     ]
    },
    {
     "name": "stdout",
     "output_type": "stream",
     "text": [
      "Train Loss: 0.0977, Train Acc: 0.9633\n",
      "Val Loss: 0.1365, Val Acc: 0.9512\n",
      "Validation loss decreased (0.136542 --> 0.136497).  Saving model ...\n",
      "../IFBased_pjr_saved_model_ifbased_/IFBased_PJR_replay_500/2018-03/best_model_epoch_15.pt\n",
      "../IFBased_pjr_saved_optimizer_ifbased_/IFBased_PJR_replay_500/2018-03/best_optimizer_epoch_15.pt\n",
      "Epoch 16 of 500\n"
     ]
    },
    {
     "name": "stderr",
     "output_type": "stream",
     "text": [
      "100%|██████████| 23/23 [00:03<00:00,  5.82it/s]\n",
      "100%|██████████| 3/3 [00:00<00:00,  6.36it/s]\n",
      "  0%|          | 0/23 [00:00<?, ?it/s]"
     ]
    },
    {
     "name": "stdout",
     "output_type": "stream",
     "text": [
      "Train Loss: 0.0961, Train Acc: 0.9635\n",
      "Val Loss: 0.1404, Val Acc: 0.9496\n",
      "EarlyStopping counter: 1 out of 5\n",
      "Epoch 17 of 500\n"
     ]
    },
    {
     "name": "stderr",
     "output_type": "stream",
     "text": [
      "100%|██████████| 23/23 [00:03<00:00,  5.89it/s]\n",
      "100%|██████████| 3/3 [00:00<00:00,  8.42it/s]\n",
      "  0%|          | 0/23 [00:00<?, ?it/s]"
     ]
    },
    {
     "name": "stdout",
     "output_type": "stream",
     "text": [
      "Train Loss: 0.0963, Train Acc: 0.9633\n",
      "Val Loss: 0.1377, Val Acc: 0.9501\n",
      "EarlyStopping counter: 2 out of 5\n",
      "Epoch 18 of 500\n"
     ]
    },
    {
     "name": "stderr",
     "output_type": "stream",
     "text": [
      "100%|██████████| 23/23 [00:03<00:00,  6.16it/s]\n",
      "100%|██████████| 3/3 [00:00<00:00,  6.52it/s]\n",
      "  0%|          | 0/23 [00:00<?, ?it/s]"
     ]
    },
    {
     "name": "stdout",
     "output_type": "stream",
     "text": [
      "Train Loss: 0.0947, Train Acc: 0.9648\n",
      "Val Loss: 0.1353, Val Acc: 0.9509\n",
      "Validation loss decreased (0.136497 --> 0.135259).  Saving model ...\n",
      "../IFBased_pjr_saved_model_ifbased_/IFBased_PJR_replay_500/2018-03/best_model_epoch_18.pt\n",
      "../IFBased_pjr_saved_optimizer_ifbased_/IFBased_PJR_replay_500/2018-03/best_optimizer_epoch_18.pt\n",
      "Epoch 19 of 500\n"
     ]
    },
    {
     "name": "stderr",
     "output_type": "stream",
     "text": [
      "100%|██████████| 23/23 [00:03<00:00,  6.40it/s]\n",
      "100%|██████████| 3/3 [00:00<00:00,  6.30it/s]\n",
      "  0%|          | 0/23 [00:00<?, ?it/s]"
     ]
    },
    {
     "name": "stdout",
     "output_type": "stream",
     "text": [
      "Train Loss: 0.0938, Train Acc: 0.9652\n",
      "Val Loss: 0.1361, Val Acc: 0.9500\n",
      "EarlyStopping counter: 1 out of 5\n",
      "Epoch 20 of 500\n"
     ]
    },
    {
     "name": "stderr",
     "output_type": "stream",
     "text": [
      "100%|██████████| 23/23 [00:03<00:00,  6.28it/s]\n",
      "100%|██████████| 3/3 [00:00<00:00,  8.42it/s]\n",
      "  0%|          | 0/23 [00:00<?, ?it/s]"
     ]
    },
    {
     "name": "stdout",
     "output_type": "stream",
     "text": [
      "Train Loss: 0.0898, Train Acc: 0.9658\n",
      "Val Loss: 0.1357, Val Acc: 0.9522\n",
      "EarlyStopping counter: 2 out of 5\n",
      "Epoch 21 of 500\n"
     ]
    },
    {
     "name": "stderr",
     "output_type": "stream",
     "text": [
      "100%|██████████| 23/23 [00:03<00:00,  6.24it/s]\n",
      "100%|██████████| 3/3 [00:00<00:00,  6.57it/s]\n",
      "  0%|          | 0/23 [00:00<?, ?it/s]"
     ]
    },
    {
     "name": "stdout",
     "output_type": "stream",
     "text": [
      "Train Loss: 0.0889, Train Acc: 0.9668\n",
      "Val Loss: 0.1369, Val Acc: 0.9518\n",
      "EarlyStopping counter: 3 out of 5\n",
      "Epoch 22 of 500\n"
     ]
    },
    {
     "name": "stderr",
     "output_type": "stream",
     "text": [
      "100%|██████████| 23/23 [00:03<00:00,  6.42it/s]\n",
      "100%|██████████| 3/3 [00:00<00:00,  6.34it/s]\n",
      "  0%|          | 0/23 [00:00<?, ?it/s]"
     ]
    },
    {
     "name": "stdout",
     "output_type": "stream",
     "text": [
      "Train Loss: 0.0879, Train Acc: 0.9671\n",
      "Val Loss: 0.1362, Val Acc: 0.9523\n",
      "EarlyStopping counter: 4 out of 5\n",
      "Epoch 23 of 500\n"
     ]
    },
    {
     "name": "stderr",
     "output_type": "stream",
     "text": [
      "100%|██████████| 23/23 [00:03<00:00,  6.37it/s]\n",
      "100%|██████████| 3/3 [00:00<00:00,  8.66it/s]\n",
      "  0%|          | 0/3 [00:00<?, ?it/s]"
     ]
    },
    {
     "name": "stdout",
     "output_type": "stream",
     "text": [
      "Train Loss: 0.0879, Train Acc: 0.9668\n",
      "Val Loss: 0.1362, Val Acc: 0.9525\n",
      "EarlyStopping counter: 5 out of 5\n",
      "Early stopping\n",
      "Training time: 1.559 minutes\n",
      "loading best model ../IFBased_pjr_saved_model_ifbased_/IFBased_PJR_replay_500/2018-03/best_model_epoch_18.pt\n",
      "loading best optimizer ../IFBased_pjr_saved_optimizer_ifbased_/IFBased_PJR_replay_500/2018-03/best_optimizer_epoch_18.pt\n"
     ]
    },
    {
     "name": "stderr",
     "output_type": "stream",
     "text": [
      "100%|██████████| 3/3 [00:00<00:00,  3.23it/s]\n",
      "100%|██████████| 3/3 [00:00<00:00,  3.71it/s]\n"
     ]
    },
    {
     "name": "stdout",
     "output_type": "stream",
     "text": [
      "test accuracy 0.9519784649213155 and ROC-AUC 0.9511870249657293\n",
      "Elapsed time 13.395463009675344 mins.\n",
      "\n",
      "2023-01-10 22:24:52 Round 1 ...\n",
      "Current Task 2018-04 w/ 500 samples to Replay per Malware family.\n",
      "X_train (46873, 2381) Y_train (46873,) Y_tr_family (46873,)\n",
      "X_test (20968, 2381) Y_test (20968,) Y_te_family (20968,)\n",
      "2023-01-10 22:24:54 Standardizing ...\n",
      "replay samples of task 141817\n",
      "Task 2018-04 and #-of new samples stored 46873\n"
     ]
    },
    {
     "name": "stderr",
     "output_type": "stream",
     "text": [
      "\r",
      "  0%|          | 0/31 [00:00<?, ?it/s]"
     ]
    },
    {
     "name": "stdout",
     "output_type": "stream",
     "text": [
      "\n",
      "X_train (188690, 2381) Y_train (188690,)\n",
      "\n",
      "2023-01-10 22:30:10 Training ...\n",
      "Epoch 1 of 500\n"
     ]
    },
    {
     "name": "stderr",
     "output_type": "stream",
     "text": [
      "100%|██████████| 31/31 [00:06<00:00,  4.86it/s]\n",
      "100%|██████████| 4/4 [00:00<00:00,  4.84it/s]\n",
      "  0%|          | 0/31 [00:00<?, ?it/s]"
     ]
    },
    {
     "name": "stdout",
     "output_type": "stream",
     "text": [
      "Train Loss: 0.1144, Train Acc: 0.9583\n",
      "Val Loss: 0.1372, Val Acc: 0.9503\n",
      "Validation loss decreased (inf --> 0.137246).  Saving model ...\n",
      "../IFBased_pjr_saved_model_ifbased_/IFBased_PJR_replay_500/2018-04/best_model_epoch_1.pt\n",
      "../IFBased_pjr_saved_optimizer_ifbased_/IFBased_PJR_replay_500/2018-04/best_optimizer_epoch_1.pt\n",
      "Epoch 2 of 500\n"
     ]
    },
    {
     "name": "stderr",
     "output_type": "stream",
     "text": [
      "100%|██████████| 31/31 [00:05<00:00,  5.85it/s]\n",
      "100%|██████████| 4/4 [00:00<00:00,  6.80it/s]\n",
      "  0%|          | 0/31 [00:00<?, ?it/s]"
     ]
    },
    {
     "name": "stdout",
     "output_type": "stream",
     "text": [
      "Train Loss: 0.1049, Train Acc: 0.9613\n",
      "Val Loss: 0.1346, Val Acc: 0.9522\n",
      "Validation loss decreased (0.137246 --> 0.134587).  Saving model ...\n",
      "../IFBased_pjr_saved_model_ifbased_/IFBased_PJR_replay_500/2018-04/best_model_epoch_2.pt\n",
      "../IFBased_pjr_saved_optimizer_ifbased_/IFBased_PJR_replay_500/2018-04/best_optimizer_epoch_2.pt\n",
      "Epoch 3 of 500\n"
     ]
    },
    {
     "name": "stderr",
     "output_type": "stream",
     "text": [
      "100%|██████████| 31/31 [00:04<00:00,  6.32it/s]\n",
      "100%|██████████| 4/4 [00:00<00:00,  6.64it/s]\n",
      "  0%|          | 0/31 [00:00<?, ?it/s]"
     ]
    },
    {
     "name": "stdout",
     "output_type": "stream",
     "text": [
      "Train Loss: 0.1040, Train Acc: 0.9614\n",
      "Val Loss: 0.1328, Val Acc: 0.9536\n",
      "Validation loss decreased (0.134587 --> 0.132782).  Saving model ...\n",
      "../IFBased_pjr_saved_model_ifbased_/IFBased_PJR_replay_500/2018-04/best_model_epoch_3.pt\n",
      "../IFBased_pjr_saved_optimizer_ifbased_/IFBased_PJR_replay_500/2018-04/best_optimizer_epoch_3.pt\n",
      "Epoch 4 of 500\n"
     ]
    },
    {
     "name": "stderr",
     "output_type": "stream",
     "text": [
      "100%|██████████| 31/31 [00:04<00:00,  6.29it/s]\n",
      "100%|██████████| 4/4 [00:00<00:00,  6.63it/s]\n",
      "  0%|          | 0/31 [00:00<?, ?it/s]"
     ]
    },
    {
     "name": "stdout",
     "output_type": "stream",
     "text": [
      "Train Loss: 0.1032, Train Acc: 0.9615\n",
      "Val Loss: 0.1303, Val Acc: 0.9544\n",
      "Validation loss decreased (0.132782 --> 0.130342).  Saving model ...\n",
      "../IFBased_pjr_saved_model_ifbased_/IFBased_PJR_replay_500/2018-04/best_model_epoch_4.pt\n",
      "../IFBased_pjr_saved_optimizer_ifbased_/IFBased_PJR_replay_500/2018-04/best_optimizer_epoch_4.pt\n",
      "Epoch 5 of 500\n"
     ]
    },
    {
     "name": "stderr",
     "output_type": "stream",
     "text": [
      "100%|██████████| 31/31 [00:04<00:00,  6.52it/s]\n",
      "100%|██████████| 4/4 [00:00<00:00,  8.17it/s]\n",
      "  0%|          | 0/31 [00:00<?, ?it/s]"
     ]
    },
    {
     "name": "stdout",
     "output_type": "stream",
     "text": [
      "Train Loss: 0.0976, Train Acc: 0.9633\n",
      "Val Loss: 0.1287, Val Acc: 0.9550\n",
      "Validation loss decreased (0.130342 --> 0.128725).  Saving model ...\n",
      "../IFBased_pjr_saved_model_ifbased_/IFBased_PJR_replay_500/2018-04/best_model_epoch_5.pt\n",
      "../IFBased_pjr_saved_optimizer_ifbased_/IFBased_PJR_replay_500/2018-04/best_optimizer_epoch_5.pt\n",
      "Epoch 6 of 500\n"
     ]
    },
    {
     "name": "stderr",
     "output_type": "stream",
     "text": [
      "100%|██████████| 31/31 [00:04<00:00,  6.84it/s]\n",
      "100%|██████████| 4/4 [00:00<00:00,  6.59it/s]\n",
      "  0%|          | 0/31 [00:00<?, ?it/s]"
     ]
    },
    {
     "name": "stdout",
     "output_type": "stream",
     "text": [
      "Train Loss: 0.0991, Train Acc: 0.9627\n",
      "Val Loss: 0.1295, Val Acc: 0.9534\n",
      "EarlyStopping counter: 1 out of 5\n",
      "Epoch 7 of 500\n"
     ]
    },
    {
     "name": "stderr",
     "output_type": "stream",
     "text": [
      "100%|██████████| 31/31 [00:04<00:00,  6.74it/s]\n",
      "100%|██████████| 4/4 [00:00<00:00,  6.66it/s]\n",
      "  0%|          | 0/31 [00:00<?, ?it/s]"
     ]
    },
    {
     "name": "stdout",
     "output_type": "stream",
     "text": [
      "Train Loss: 0.0960, Train Acc: 0.9641\n",
      "Val Loss: 0.1280, Val Acc: 0.9555\n",
      "Validation loss decreased (0.128725 --> 0.128001).  Saving model ...\n",
      "../IFBased_pjr_saved_model_ifbased_/IFBased_PJR_replay_500/2018-04/best_model_epoch_7.pt\n",
      "../IFBased_pjr_saved_optimizer_ifbased_/IFBased_PJR_replay_500/2018-04/best_optimizer_epoch_7.pt\n",
      "Epoch 8 of 500\n"
     ]
    },
    {
     "name": "stderr",
     "output_type": "stream",
     "text": [
      "100%|██████████| 31/31 [00:04<00:00,  6.42it/s]\n",
      "100%|██████████| 4/4 [00:00<00:00,  6.71it/s]\n",
      "  0%|          | 0/31 [00:00<?, ?it/s]"
     ]
    },
    {
     "name": "stdout",
     "output_type": "stream",
     "text": [
      "Train Loss: 0.0936, Train Acc: 0.9650\n",
      "Val Loss: 0.1298, Val Acc: 0.9551\n",
      "EarlyStopping counter: 1 out of 5\n",
      "Epoch 9 of 500\n"
     ]
    },
    {
     "name": "stderr",
     "output_type": "stream",
     "text": [
      "100%|██████████| 31/31 [00:04<00:00,  6.71it/s]\n",
      "100%|██████████| 4/4 [00:00<00:00,  6.72it/s]\n",
      "  0%|          | 0/31 [00:00<?, ?it/s]"
     ]
    },
    {
     "name": "stdout",
     "output_type": "stream",
     "text": [
      "Train Loss: 0.0927, Train Acc: 0.9654\n",
      "Val Loss: 0.1270, Val Acc: 0.9558\n",
      "Validation loss decreased (0.128001 --> 0.126989).  Saving model ...\n",
      "../IFBased_pjr_saved_model_ifbased_/IFBased_PJR_replay_500/2018-04/best_model_epoch_9.pt\n",
      "../IFBased_pjr_saved_optimizer_ifbased_/IFBased_PJR_replay_500/2018-04/best_optimizer_epoch_9.pt\n",
      "Epoch 10 of 500\n"
     ]
    },
    {
     "name": "stderr",
     "output_type": "stream",
     "text": [
      "100%|██████████| 31/31 [00:04<00:00,  6.48it/s]\n",
      "100%|██████████| 4/4 [00:00<00:00,  6.69it/s]\n",
      "  0%|          | 0/31 [00:00<?, ?it/s]"
     ]
    },
    {
     "name": "stdout",
     "output_type": "stream",
     "text": [
      "Train Loss: 0.0910, Train Acc: 0.9660\n",
      "Val Loss: 0.1285, Val Acc: 0.9543\n",
      "EarlyStopping counter: 1 out of 5\n",
      "Epoch 11 of 500\n"
     ]
    },
    {
     "name": "stderr",
     "output_type": "stream",
     "text": [
      "100%|██████████| 31/31 [00:04<00:00,  6.64it/s]\n",
      "100%|██████████| 4/4 [00:00<00:00,  6.78it/s]\n",
      "  0%|          | 0/31 [00:00<?, ?it/s]"
     ]
    },
    {
     "name": "stdout",
     "output_type": "stream",
     "text": [
      "Train Loss: 0.0903, Train Acc: 0.9660\n",
      "Val Loss: 0.1253, Val Acc: 0.9562\n",
      "Validation loss decreased (0.126989 --> 0.125266).  Saving model ...\n",
      "../IFBased_pjr_saved_model_ifbased_/IFBased_PJR_replay_500/2018-04/best_model_epoch_11.pt\n",
      "../IFBased_pjr_saved_optimizer_ifbased_/IFBased_PJR_replay_500/2018-04/best_optimizer_epoch_11.pt\n",
      "Epoch 12 of 500\n"
     ]
    },
    {
     "name": "stderr",
     "output_type": "stream",
     "text": [
      "100%|██████████| 31/31 [00:04<00:00,  6.64it/s]\n",
      "100%|██████████| 4/4 [00:00<00:00,  6.75it/s]\n",
      "  0%|          | 0/31 [00:00<?, ?it/s]"
     ]
    },
    {
     "name": "stdout",
     "output_type": "stream",
     "text": [
      "Train Loss: 0.0898, Train Acc: 0.9665\n",
      "Val Loss: 0.1256, Val Acc: 0.9567\n",
      "EarlyStopping counter: 1 out of 5\n",
      "Epoch 13 of 500\n"
     ]
    },
    {
     "name": "stderr",
     "output_type": "stream",
     "text": [
      "100%|██████████| 31/31 [00:04<00:00,  6.45it/s]\n",
      "100%|██████████| 4/4 [00:00<00:00,  6.52it/s]\n",
      "  0%|          | 0/31 [00:00<?, ?it/s]"
     ]
    },
    {
     "name": "stdout",
     "output_type": "stream",
     "text": [
      "Train Loss: 0.0870, Train Acc: 0.9673\n",
      "Val Loss: 0.1247, Val Acc: 0.9575\n",
      "Validation loss decreased (0.125266 --> 0.124734).  Saving model ...\n",
      "../IFBased_pjr_saved_model_ifbased_/IFBased_PJR_replay_500/2018-04/best_model_epoch_13.pt\n",
      "../IFBased_pjr_saved_optimizer_ifbased_/IFBased_PJR_replay_500/2018-04/best_optimizer_epoch_13.pt\n",
      "Epoch 14 of 500\n"
     ]
    },
    {
     "name": "stderr",
     "output_type": "stream",
     "text": [
      "100%|██████████| 31/31 [00:04<00:00,  6.77it/s]\n",
      "100%|██████████| 4/4 [00:00<00:00,  8.24it/s]\n",
      "  0%|          | 0/31 [00:00<?, ?it/s]"
     ]
    },
    {
     "name": "stdout",
     "output_type": "stream",
     "text": [
      "Train Loss: 0.0855, Train Acc: 0.9679\n",
      "Val Loss: 0.1253, Val Acc: 0.9570\n",
      "EarlyStopping counter: 1 out of 5\n",
      "Epoch 15 of 500\n"
     ]
    },
    {
     "name": "stderr",
     "output_type": "stream",
     "text": [
      "100%|██████████| 31/31 [00:04<00:00,  6.74it/s]\n",
      "100%|██████████| 4/4 [00:00<00:00,  6.28it/s]\n",
      "  0%|          | 0/31 [00:00<?, ?it/s]"
     ]
    },
    {
     "name": "stdout",
     "output_type": "stream",
     "text": [
      "Train Loss: 0.0834, Train Acc: 0.9694\n",
      "Val Loss: 0.1251, Val Acc: 0.9568\n",
      "EarlyStopping counter: 2 out of 5\n",
      "Epoch 16 of 500\n"
     ]
    },
    {
     "name": "stderr",
     "output_type": "stream",
     "text": [
      "100%|██████████| 31/31 [00:04<00:00,  6.52it/s]\n",
      "100%|██████████| 4/4 [00:00<00:00,  6.79it/s]\n",
      "  0%|          | 0/31 [00:00<?, ?it/s]"
     ]
    },
    {
     "name": "stdout",
     "output_type": "stream",
     "text": [
      "Train Loss: 0.0836, Train Acc: 0.9690\n",
      "Val Loss: 0.1269, Val Acc: 0.9575\n",
      "EarlyStopping counter: 3 out of 5\n",
      "Epoch 17 of 500\n"
     ]
    },
    {
     "name": "stderr",
     "output_type": "stream",
     "text": [
      "100%|██████████| 31/31 [00:04<00:00,  6.47it/s]\n",
      "100%|██████████| 4/4 [00:00<00:00,  6.65it/s]\n",
      "  0%|          | 0/31 [00:00<?, ?it/s]"
     ]
    },
    {
     "name": "stdout",
     "output_type": "stream",
     "text": [
      "Train Loss: 0.0821, Train Acc: 0.9693\n",
      "Val Loss: 0.1263, Val Acc: 0.9570\n",
      "EarlyStopping counter: 4 out of 5\n",
      "Epoch 18 of 500\n"
     ]
    },
    {
     "name": "stderr",
     "output_type": "stream",
     "text": [
      "100%|██████████| 31/31 [00:04<00:00,  6.62it/s]\n",
      "100%|██████████| 4/4 [00:00<00:00,  6.78it/s]\n",
      "  0%|          | 0/4 [00:00<?, ?it/s]"
     ]
    },
    {
     "name": "stdout",
     "output_type": "stream",
     "text": [
      "Train Loss: 0.0823, Train Acc: 0.9698\n",
      "Val Loss: 0.1253, Val Acc: 0.9574\n",
      "EarlyStopping counter: 5 out of 5\n",
      "Early stopping\n",
      "Training time: 1.654 minutes\n",
      "loading best model ../IFBased_pjr_saved_model_ifbased_/IFBased_PJR_replay_500/2018-04/best_model_epoch_13.pt\n",
      "loading best optimizer ../IFBased_pjr_saved_optimizer_ifbased_/IFBased_PJR_replay_500/2018-04/best_optimizer_epoch_13.pt\n"
     ]
    },
    {
     "name": "stderr",
     "output_type": "stream",
     "text": [
      "100%|██████████| 4/4 [00:01<00:00,  3.89it/s]\n",
      "100%|██████████| 4/4 [00:01<00:00,  3.40it/s]\n"
     ]
    },
    {
     "name": "stdout",
     "output_type": "stream",
     "text": [
      "test accuracy 0.9584683179855347 and ROC-AUC 0.9587105972489053\n",
      "Elapsed time 20.440861582756042 mins.\n",
      "\n",
      "2023-01-10 22:31:55 Round 1 ...\n",
      "Current Task 2018-05 w/ 500 samples to Replay per Malware family.\n",
      "X_train (41320, 2381) Y_train (41320,) Y_tr_family (41320,)\n",
      "X_test (25560, 2381) Y_test (25560,) Y_te_family (25560,)\n",
      "2023-01-10 22:31:57 Standardizing ...\n",
      "replay samples of task 188690\n",
      "Task 2018-05 and #-of new samples stored 41320\n"
     ]
    },
    {
     "name": "stderr",
     "output_type": "stream",
     "text": [
      "\r",
      "  0%|          | 0/38 [00:00<?, ?it/s]"
     ]
    },
    {
     "name": "stdout",
     "output_type": "stream",
     "text": [
      "\n",
      "X_train (230010, 2381) Y_train (230010,)\n",
      "\n",
      "2023-01-10 22:38:01 Training ...\n",
      "Epoch 1 of 500\n"
     ]
    },
    {
     "name": "stderr",
     "output_type": "stream",
     "text": [
      "100%|██████████| 38/38 [00:05<00:00,  6.65it/s]\n",
      "100%|██████████| 5/5 [00:01<00:00,  4.82it/s]\n",
      "  0%|          | 0/38 [00:00<?, ?it/s]"
     ]
    },
    {
     "name": "stdout",
     "output_type": "stream",
     "text": [
      "Train Loss: 0.1003, Train Acc: 0.9634\n",
      "Val Loss: 0.1265, Val Acc: 0.9562\n",
      "Validation loss decreased (inf --> 0.126513).  Saving model ...\n",
      "../IFBased_pjr_saved_model_ifbased_/IFBased_PJR_replay_500/2018-05/best_model_epoch_1.pt\n",
      "../IFBased_pjr_saved_optimizer_ifbased_/IFBased_PJR_replay_500/2018-05/best_optimizer_epoch_1.pt\n",
      "Epoch 2 of 500\n"
     ]
    },
    {
     "name": "stderr",
     "output_type": "stream",
     "text": [
      "100%|██████████| 38/38 [00:05<00:00,  6.67it/s]\n",
      "100%|██████████| 5/5 [00:00<00:00,  9.31it/s]\n",
      "  0%|          | 0/38 [00:00<?, ?it/s]"
     ]
    },
    {
     "name": "stdout",
     "output_type": "stream",
     "text": [
      "Train Loss: 0.0974, Train Acc: 0.9641\n",
      "Val Loss: 0.1281, Val Acc: 0.9556\n",
      "EarlyStopping counter: 1 out of 5\n",
      "Epoch 3 of 500\n"
     ]
    },
    {
     "name": "stderr",
     "output_type": "stream",
     "text": [
      "100%|██████████| 38/38 [00:05<00:00,  6.74it/s]\n",
      "100%|██████████| 5/5 [00:00<00:00,  6.10it/s]\n",
      "  0%|          | 0/38 [00:00<?, ?it/s]"
     ]
    },
    {
     "name": "stdout",
     "output_type": "stream",
     "text": [
      "Train Loss: 0.0958, Train Acc: 0.9646\n",
      "Val Loss: 0.1246, Val Acc: 0.9569\n",
      "Validation loss decreased (0.126513 --> 0.124601).  Saving model ...\n",
      "../IFBased_pjr_saved_model_ifbased_/IFBased_PJR_replay_500/2018-05/best_model_epoch_3.pt\n",
      "../IFBased_pjr_saved_optimizer_ifbased_/IFBased_PJR_replay_500/2018-05/best_optimizer_epoch_3.pt\n",
      "Epoch 4 of 500\n"
     ]
    },
    {
     "name": "stderr",
     "output_type": "stream",
     "text": [
      "100%|██████████| 38/38 [00:05<00:00,  6.89it/s]\n",
      "100%|██████████| 5/5 [00:00<00:00,  7.07it/s]\n",
      "  0%|          | 0/38 [00:00<?, ?it/s]"
     ]
    },
    {
     "name": "stdout",
     "output_type": "stream",
     "text": [
      "Train Loss: 0.0933, Train Acc: 0.9655\n",
      "Val Loss: 0.1268, Val Acc: 0.9557\n",
      "EarlyStopping counter: 1 out of 5\n",
      "Epoch 5 of 500\n"
     ]
    },
    {
     "name": "stderr",
     "output_type": "stream",
     "text": [
      "100%|██████████| 38/38 [00:05<00:00,  6.90it/s]\n",
      "100%|██████████| 5/5 [00:00<00:00,  6.71it/s]\n",
      "  0%|          | 0/38 [00:00<?, ?it/s]"
     ]
    },
    {
     "name": "stdout",
     "output_type": "stream",
     "text": [
      "Train Loss: 0.0926, Train Acc: 0.9656\n",
      "Val Loss: 0.1234, Val Acc: 0.9574\n",
      "Validation loss decreased (0.124601 --> 0.123355).  Saving model ...\n",
      "../IFBased_pjr_saved_model_ifbased_/IFBased_PJR_replay_500/2018-05/best_model_epoch_5.pt\n",
      "../IFBased_pjr_saved_optimizer_ifbased_/IFBased_PJR_replay_500/2018-05/best_optimizer_epoch_5.pt\n",
      "Epoch 6 of 500\n"
     ]
    },
    {
     "name": "stderr",
     "output_type": "stream",
     "text": [
      "100%|██████████| 38/38 [00:05<00:00,  6.94it/s]\n",
      "100%|██████████| 5/5 [00:00<00:00,  6.42it/s]\n",
      "  0%|          | 0/38 [00:00<?, ?it/s]"
     ]
    },
    {
     "name": "stdout",
     "output_type": "stream",
     "text": [
      "Train Loss: 0.0902, Train Acc: 0.9665\n",
      "Val Loss: 0.1210, Val Acc: 0.9592\n",
      "Validation loss decreased (0.123355 --> 0.121011).  Saving model ...\n",
      "../IFBased_pjr_saved_model_ifbased_/IFBased_PJR_replay_500/2018-05/best_model_epoch_6.pt\n",
      "../IFBased_pjr_saved_optimizer_ifbased_/IFBased_PJR_replay_500/2018-05/best_optimizer_epoch_6.pt\n",
      "Epoch 7 of 500\n"
     ]
    },
    {
     "name": "stderr",
     "output_type": "stream",
     "text": [
      "100%|██████████| 38/38 [00:06<00:00,  5.73it/s]\n",
      "100%|██████████| 5/5 [00:00<00:00,  6.54it/s]\n",
      "  0%|          | 0/38 [00:00<?, ?it/s]"
     ]
    },
    {
     "name": "stdout",
     "output_type": "stream",
     "text": [
      "Train Loss: 0.0885, Train Acc: 0.9667\n",
      "Val Loss: 0.1239, Val Acc: 0.9563\n",
      "EarlyStopping counter: 1 out of 5\n",
      "Epoch 8 of 500\n"
     ]
    },
    {
     "name": "stderr",
     "output_type": "stream",
     "text": [
      "100%|██████████| 38/38 [00:06<00:00,  5.85it/s]\n",
      "100%|██████████| 5/5 [00:00<00:00,  7.02it/s]\n",
      "  0%|          | 0/38 [00:00<?, ?it/s]"
     ]
    },
    {
     "name": "stdout",
     "output_type": "stream",
     "text": [
      "Train Loss: 0.0879, Train Acc: 0.9668\n",
      "Val Loss: 0.1211, Val Acc: 0.9585\n",
      "EarlyStopping counter: 2 out of 5\n",
      "Epoch 9 of 500\n"
     ]
    },
    {
     "name": "stderr",
     "output_type": "stream",
     "text": [
      "100%|██████████| 38/38 [00:06<00:00,  5.78it/s]\n",
      "100%|██████████| 5/5 [00:00<00:00,  5.91it/s]\n",
      "  0%|          | 0/38 [00:00<?, ?it/s]"
     ]
    },
    {
     "name": "stdout",
     "output_type": "stream",
     "text": [
      "Train Loss: 0.0887, Train Acc: 0.9673\n",
      "Val Loss: 0.1218, Val Acc: 0.9570\n",
      "EarlyStopping counter: 3 out of 5\n",
      "Epoch 10 of 500\n"
     ]
    },
    {
     "name": "stderr",
     "output_type": "stream",
     "text": [
      "100%|██████████| 38/38 [00:06<00:00,  6.20it/s]\n",
      "100%|██████████| 5/5 [00:00<00:00,  5.99it/s]\n",
      "  0%|          | 0/38 [00:00<?, ?it/s]"
     ]
    },
    {
     "name": "stdout",
     "output_type": "stream",
     "text": [
      "Train Loss: 0.0843, Train Acc: 0.9685\n",
      "Val Loss: 0.1226, Val Acc: 0.9595\n",
      "EarlyStopping counter: 4 out of 5\n",
      "Epoch 11 of 500\n"
     ]
    },
    {
     "name": "stderr",
     "output_type": "stream",
     "text": [
      "100%|██████████| 38/38 [00:05<00:00,  6.47it/s]\n",
      "100%|██████████| 5/5 [00:00<00:00,  6.40it/s]\n",
      "  0%|          | 0/38 [00:00<?, ?it/s]"
     ]
    },
    {
     "name": "stdout",
     "output_type": "stream",
     "text": [
      "Train Loss: 0.0828, Train Acc: 0.9691\n",
      "Val Loss: 0.1208, Val Acc: 0.9584\n",
      "Validation loss decreased (0.121011 --> 0.120771).  Saving model ...\n",
      "../IFBased_pjr_saved_model_ifbased_/IFBased_PJR_replay_500/2018-05/best_model_epoch_11.pt\n",
      "../IFBased_pjr_saved_optimizer_ifbased_/IFBased_PJR_replay_500/2018-05/best_optimizer_epoch_11.pt\n",
      "Epoch 12 of 500\n"
     ]
    },
    {
     "name": "stderr",
     "output_type": "stream",
     "text": [
      "100%|██████████| 38/38 [00:05<00:00,  6.52it/s]\n",
      "100%|██████████| 5/5 [00:00<00:00,  5.78it/s]\n",
      "  0%|          | 0/38 [00:00<?, ?it/s]"
     ]
    },
    {
     "name": "stdout",
     "output_type": "stream",
     "text": [
      "Train Loss: 0.0840, Train Acc: 0.9684\n",
      "Val Loss: 0.1243, Val Acc: 0.9580\n",
      "EarlyStopping counter: 1 out of 5\n",
      "Epoch 13 of 500\n"
     ]
    },
    {
     "name": "stderr",
     "output_type": "stream",
     "text": [
      "100%|██████████| 38/38 [00:05<00:00,  6.36it/s]\n",
      "100%|██████████| 5/5 [00:00<00:00,  6.96it/s]\n",
      "  0%|          | 0/38 [00:00<?, ?it/s]"
     ]
    },
    {
     "name": "stdout",
     "output_type": "stream",
     "text": [
      "Train Loss: 0.0830, Train Acc: 0.9693\n",
      "Val Loss: 0.1205, Val Acc: 0.9603\n",
      "Validation loss decreased (0.120771 --> 0.120457).  Saving model ...\n",
      "../IFBased_pjr_saved_model_ifbased_/IFBased_PJR_replay_500/2018-05/best_model_epoch_13.pt\n",
      "../IFBased_pjr_saved_optimizer_ifbased_/IFBased_PJR_replay_500/2018-05/best_optimizer_epoch_13.pt\n",
      "Epoch 14 of 500\n"
     ]
    },
    {
     "name": "stderr",
     "output_type": "stream",
     "text": [
      "100%|██████████| 38/38 [00:05<00:00,  6.47it/s]\n",
      "100%|██████████| 5/5 [00:00<00:00,  6.11it/s]\n",
      "  0%|          | 0/38 [00:00<?, ?it/s]"
     ]
    },
    {
     "name": "stdout",
     "output_type": "stream",
     "text": [
      "Train Loss: 0.0843, Train Acc: 0.9685\n",
      "Val Loss: 0.1219, Val Acc: 0.9594\n",
      "EarlyStopping counter: 1 out of 5\n",
      "Epoch 15 of 500\n"
     ]
    },
    {
     "name": "stderr",
     "output_type": "stream",
     "text": [
      "100%|██████████| 38/38 [00:05<00:00,  6.59it/s]\n",
      "100%|██████████| 5/5 [00:00<00:00,  6.20it/s]\n",
      "  0%|          | 0/38 [00:00<?, ?it/s]"
     ]
    },
    {
     "name": "stdout",
     "output_type": "stream",
     "text": [
      "Train Loss: 0.0782, Train Acc: 0.9714\n",
      "Val Loss: 0.1189, Val Acc: 0.9596\n",
      "Validation loss decreased (0.120457 --> 0.118852).  Saving model ...\n",
      "../IFBased_pjr_saved_model_ifbased_/IFBased_PJR_replay_500/2018-05/best_model_epoch_15.pt\n",
      "../IFBased_pjr_saved_optimizer_ifbased_/IFBased_PJR_replay_500/2018-05/best_optimizer_epoch_15.pt\n",
      "Epoch 16 of 500\n"
     ]
    },
    {
     "name": "stderr",
     "output_type": "stream",
     "text": [
      "100%|██████████| 38/38 [00:05<00:00,  6.52it/s]\n",
      "100%|██████████| 5/5 [00:00<00:00,  6.76it/s]\n",
      "  0%|          | 0/38 [00:00<?, ?it/s]"
     ]
    },
    {
     "name": "stdout",
     "output_type": "stream",
     "text": [
      "Train Loss: 0.0775, Train Acc: 0.9707\n",
      "Val Loss: 0.1208, Val Acc: 0.9605\n",
      "EarlyStopping counter: 1 out of 5\n",
      "Epoch 17 of 500\n"
     ]
    },
    {
     "name": "stderr",
     "output_type": "stream",
     "text": [
      "100%|██████████| 38/38 [00:05<00:00,  6.64it/s]\n",
      "100%|██████████| 5/5 [00:00<00:00,  6.09it/s]\n",
      "  0%|          | 0/38 [00:00<?, ?it/s]"
     ]
    },
    {
     "name": "stdout",
     "output_type": "stream",
     "text": [
      "Train Loss: 0.0777, Train Acc: 0.9715\n",
      "Val Loss: 0.1186, Val Acc: 0.9605\n",
      "Validation loss decreased (0.118852 --> 0.118611).  Saving model ...\n",
      "../IFBased_pjr_saved_model_ifbased_/IFBased_PJR_replay_500/2018-05/best_model_epoch_17.pt\n",
      "../IFBased_pjr_saved_optimizer_ifbased_/IFBased_PJR_replay_500/2018-05/best_optimizer_epoch_17.pt\n",
      "Epoch 18 of 500\n"
     ]
    },
    {
     "name": "stderr",
     "output_type": "stream",
     "text": [
      "100%|██████████| 38/38 [00:05<00:00,  6.56it/s]\n",
      "100%|██████████| 5/5 [00:00<00:00,  7.09it/s]\n",
      "  0%|          | 0/38 [00:00<?, ?it/s]"
     ]
    },
    {
     "name": "stdout",
     "output_type": "stream",
     "text": [
      "Train Loss: 0.0758, Train Acc: 0.9718\n",
      "Val Loss: 0.1187, Val Acc: 0.9601\n",
      "EarlyStopping counter: 1 out of 5\n",
      "Epoch 19 of 500\n"
     ]
    },
    {
     "name": "stderr",
     "output_type": "stream",
     "text": [
      "100%|██████████| 38/38 [00:05<00:00,  6.34it/s]\n",
      "100%|██████████| 5/5 [00:00<00:00,  6.87it/s]\n",
      "  0%|          | 0/38 [00:00<?, ?it/s]"
     ]
    },
    {
     "name": "stdout",
     "output_type": "stream",
     "text": [
      "Train Loss: 0.0765, Train Acc: 0.9712\n",
      "Val Loss: 0.1184, Val Acc: 0.9625\n",
      "Validation loss decreased (0.118611 --> 0.118412).  Saving model ...\n",
      "../IFBased_pjr_saved_model_ifbased_/IFBased_PJR_replay_500/2018-05/best_model_epoch_19.pt\n",
      "../IFBased_pjr_saved_optimizer_ifbased_/IFBased_PJR_replay_500/2018-05/best_optimizer_epoch_19.pt\n",
      "Epoch 20 of 500\n"
     ]
    },
    {
     "name": "stderr",
     "output_type": "stream",
     "text": [
      "100%|██████████| 38/38 [00:05<00:00,  6.56it/s]\n",
      "100%|██████████| 5/5 [00:00<00:00,  5.92it/s]\n",
      "  0%|          | 0/38 [00:00<?, ?it/s]"
     ]
    },
    {
     "name": "stdout",
     "output_type": "stream",
     "text": [
      "Train Loss: 0.0755, Train Acc: 0.9716\n",
      "Val Loss: 0.1210, Val Acc: 0.9603\n",
      "EarlyStopping counter: 1 out of 5\n",
      "Epoch 21 of 500\n"
     ]
    },
    {
     "name": "stderr",
     "output_type": "stream",
     "text": [
      "100%|██████████| 38/38 [00:05<00:00,  6.50it/s]\n",
      "100%|██████████| 5/5 [00:00<00:00,  7.10it/s]\n",
      "  0%|          | 0/38 [00:00<?, ?it/s]"
     ]
    },
    {
     "name": "stdout",
     "output_type": "stream",
     "text": [
      "Train Loss: 0.0739, Train Acc: 0.9721\n",
      "Val Loss: 0.1219, Val Acc: 0.9603\n",
      "EarlyStopping counter: 2 out of 5\n",
      "Epoch 22 of 500\n"
     ]
    },
    {
     "name": "stderr",
     "output_type": "stream",
     "text": [
      "100%|██████████| 38/38 [00:05<00:00,  6.39it/s]\n",
      "100%|██████████| 5/5 [00:00<00:00,  7.05it/s]\n",
      "  0%|          | 0/38 [00:00<?, ?it/s]"
     ]
    },
    {
     "name": "stdout",
     "output_type": "stream",
     "text": [
      "Train Loss: 0.0732, Train Acc: 0.9726\n",
      "Val Loss: 0.1205, Val Acc: 0.9601\n",
      "EarlyStopping counter: 3 out of 5\n",
      "Epoch 23 of 500\n"
     ]
    },
    {
     "name": "stderr",
     "output_type": "stream",
     "text": [
      "100%|██████████| 38/38 [00:05<00:00,  6.35it/s]\n",
      "100%|██████████| 5/5 [00:00<00:00,  7.09it/s]\n",
      "  0%|          | 0/38 [00:00<?, ?it/s]"
     ]
    },
    {
     "name": "stdout",
     "output_type": "stream",
     "text": [
      "Train Loss: 0.0750, Train Acc: 0.9721\n",
      "Val Loss: 0.1280, Val Acc: 0.9586\n",
      "EarlyStopping counter: 4 out of 5\n",
      "Epoch 24 of 500\n"
     ]
    },
    {
     "name": "stderr",
     "output_type": "stream",
     "text": [
      "100%|██████████| 38/38 [00:05<00:00,  6.49it/s]\n",
      "100%|██████████| 5/5 [00:00<00:00,  6.08it/s]\n",
      "  0%|          | 0/5 [00:00<?, ?it/s]"
     ]
    },
    {
     "name": "stdout",
     "output_type": "stream",
     "text": [
      "Train Loss: 0.0744, Train Acc: 0.9721\n",
      "Val Loss: 0.1231, Val Acc: 0.9594\n",
      "EarlyStopping counter: 5 out of 5\n",
      "Early stopping\n",
      "Training time: 2.691 minutes\n",
      "loading best model ../IFBased_pjr_saved_model_ifbased_/IFBased_PJR_replay_500/2018-05/best_model_epoch_19.pt\n",
      "loading best optimizer ../IFBased_pjr_saved_optimizer_ifbased_/IFBased_PJR_replay_500/2018-05/best_optimizer_epoch_19.pt\n"
     ]
    },
    {
     "name": "stderr",
     "output_type": "stream",
     "text": [
      "100%|██████████| 5/5 [00:01<00:00,  3.90it/s]\n",
      "100%|██████████| 5/5 [00:01<00:00,  3.77it/s]\n"
     ]
    },
    {
     "name": "stdout",
     "output_type": "stream",
     "text": [
      "test accuracy 0.9638333320617676 and ROC-AUC 0.9633178465249277\n",
      "Elapsed time 29.331837411721548 mins.\n",
      "\n",
      "2023-01-10 22:40:48 Round 1 ...\n",
      "Current Task 2018-06 w/ 500 samples to Replay per Malware family.\n",
      "X_train (43560, 2381) Y_train (43560,) Y_tr_family (43560,)\n",
      "X_test (30401, 2381) Y_test (30401,) Y_te_family (30401,)\n",
      "2023-01-10 22:40:51 Standardizing ...\n",
      "replay samples of task 230010\n",
      "Task 2018-06 and #-of new samples stored 43560\n"
     ]
    },
    {
     "name": "stderr",
     "output_type": "stream",
     "text": [
      "\r",
      "  0%|          | 0/45 [00:00<?, ?it/s]"
     ]
    },
    {
     "name": "stdout",
     "output_type": "stream",
     "text": [
      "\n",
      "X_train (273570, 2381) Y_train (273570,)\n",
      "\n",
      "2023-01-10 22:47:40 Training ...\n",
      "Epoch 1 of 500\n"
     ]
    },
    {
     "name": "stderr",
     "output_type": "stream",
     "text": [
      "100%|██████████| 45/45 [00:07<00:00,  5.87it/s]\n",
      "100%|██████████| 6/6 [00:00<00:00,  6.63it/s]\n",
      "  0%|          | 0/45 [00:00<?, ?it/s]"
     ]
    },
    {
     "name": "stdout",
     "output_type": "stream",
     "text": [
      "Train Loss: 0.0941, Train Acc: 0.9656\n",
      "Val Loss: 0.1232, Val Acc: 0.9561\n",
      "Validation loss decreased (inf --> 0.123159).  Saving model ...\n",
      "../IFBased_pjr_saved_model_ifbased_/IFBased_PJR_replay_500/2018-06/best_model_epoch_1.pt\n",
      "../IFBased_pjr_saved_optimizer_ifbased_/IFBased_PJR_replay_500/2018-06/best_optimizer_epoch_1.pt\n",
      "Epoch 2 of 500\n"
     ]
    },
    {
     "name": "stderr",
     "output_type": "stream",
     "text": [
      "100%|██████████| 45/45 [00:06<00:00,  6.50it/s]\n",
      "100%|██████████| 6/6 [00:00<00:00,  7.19it/s]\n",
      "  0%|          | 0/45 [00:00<?, ?it/s]"
     ]
    },
    {
     "name": "stdout",
     "output_type": "stream",
     "text": [
      "Train Loss: 0.0983, Train Acc: 0.9644\n",
      "Val Loss: 0.1317, Val Acc: 0.9511\n",
      "EarlyStopping counter: 1 out of 5\n",
      "Epoch 3 of 500\n"
     ]
    },
    {
     "name": "stderr",
     "output_type": "stream",
     "text": [
      "100%|██████████| 45/45 [00:06<00:00,  6.81it/s]\n",
      "100%|██████████| 45/45 [00:06<00:00,  6.48it/s]\n",
      "100%|██████████| 6/6 [00:00<00:00,  7.28it/s]\n",
      "  0%|          | 0/6 [00:00<?, ?it/s]"
     ]
    },
    {
     "name": "stdout",
     "output_type": "stream",
     "text": [
      "Train Loss: 0.0772, Train Acc: 0.9716\n",
      "Val Loss: 0.1090, Val Acc: 0.9617\n",
      "EarlyStopping counter: 5 out of 5\n",
      "Early stopping\n",
      "Training time: 2.389 minutes\n",
      "loading best model ../IFBased_pjr_saved_model_ifbased_/IFBased_PJR_replay_500/2018-06/best_model_epoch_13.pt\n",
      "loading best optimizer ../IFBased_pjr_saved_optimizer_ifbased_/IFBased_PJR_replay_500/2018-06/best_optimizer_epoch_13.pt\n"
     ]
    },
    {
     "name": "stderr",
     "output_type": "stream",
     "text": [
      "100%|██████████| 6/6 [00:01<00:00,  4.31it/s]\n",
      "100%|██████████| 6/6 [00:01<00:00,  4.25it/s]\n"
     ]
    },
    {
     "name": "stdout",
     "output_type": "stream",
     "text": [
      "test accuracy 0.9587398866812388 and ROC-AUC 0.9589507470569327\n",
      "Elapsed time 38.67387481133143 mins.\n",
      "\n",
      "2023-01-10 22:50:09 Round 1 ...\n",
      "Current Task 2018-07 w/ 500 samples to Replay per Malware family.\n",
      "X_train (46278, 2381) Y_train (46278,) Y_tr_family (46278,)\n",
      "X_test (35544, 2381) Y_test (35544,) Y_te_family (35544,)\n",
      "2023-01-10 22:50:12 Standardizing ...\n",
      "replay samples of task 273570\n",
      "Task 2018-07 and #-of new samples stored 46278\n"
     ]
    },
    {
     "name": "stderr",
     "output_type": "stream",
     "text": [
      "\r",
      "  0%|          | 0/53 [00:00<?, ?it/s]"
     ]
    },
    {
     "name": "stdout",
     "output_type": "stream",
     "text": [
      "\n",
      "X_train (319848, 2381) Y_train (319848,)\n",
      "\n",
      "2023-01-10 22:57:47 Training ...\n",
      "Epoch 1 of 500\n"
     ]
    },
    {
     "name": "stderr",
     "output_type": "stream",
     "text": [
      "100%|██████████| 53/53 [00:11<00:00,  4.81it/s]\n",
      "100%|██████████| 6/6 [00:01<00:00,  5.72it/s]\n",
      "  0%|          | 0/53 [00:00<?, ?it/s]"
     ]
    },
    {
     "name": "stdout",
     "output_type": "stream",
     "text": [
      "Train Loss: 0.0889, Train Acc: 0.9675\n",
      "Val Loss: 0.1613, Val Acc: 0.9436\n",
      "Validation loss decreased (inf --> 0.161259).  Saving model ...\n",
      "../IFBased_pjr_saved_model_ifbased_/IFBased_PJR_replay_500/2018-07/best_model_epoch_1.pt\n",
      "../IFBased_pjr_saved_optimizer_ifbased_/IFBased_PJR_replay_500/2018-07/best_optimizer_epoch_1.pt\n",
      "Epoch 2 of 500\n"
     ]
    },
    {
     "name": "stderr",
     "output_type": "stream",
     "text": [
      "100%|██████████| 53/53 [00:09<00:00,  5.79it/s]\n",
      "100%|██████████| 6/6 [00:00<00:00,  8.23it/s]\n",
      "  0%|          | 0/53 [00:00<?, ?it/s]"
     ]
    },
    {
     "name": "stdout",
     "output_type": "stream",
     "text": [
      "Train Loss: 0.0810, Train Acc: 0.9704\n",
      "Val Loss: 0.1168, Val Acc: 0.9605\n",
      "Validation loss decreased (0.161259 --> 0.116838).  Saving model ...\n",
      "../IFBased_pjr_saved_model_ifbased_/IFBased_PJR_replay_500/2018-07/best_model_epoch_2.pt\n",
      "../IFBased_pjr_saved_optimizer_ifbased_/IFBased_PJR_replay_500/2018-07/best_optimizer_epoch_2.pt\n",
      "Epoch 3 of 500\n"
     ]
    },
    {
     "name": "stderr",
     "output_type": "stream",
     "text": [
      "100%|██████████| 53/53 [00:08<00:00,  6.18it/s]\n",
      "100%|██████████| 6/6 [00:00<00:00,  7.00it/s]\n",
      "  0%|          | 0/53 [00:00<?, ?it/s]"
     ]
    },
    {
     "name": "stdout",
     "output_type": "stream",
     "text": [
      "Train Loss: 0.0801, Train Acc: 0.9705\n",
      "Val Loss: 0.1155, Val Acc: 0.9610\n",
      "Validation loss decreased (0.116838 --> 0.115524).  Saving model ...\n",
      "../IFBased_pjr_saved_model_ifbased_/IFBased_PJR_replay_500/2018-07/best_model_epoch_3.pt\n",
      "../IFBased_pjr_saved_optimizer_ifbased_/IFBased_PJR_replay_500/2018-07/best_optimizer_epoch_3.pt\n",
      "Epoch 4 of 500\n"
     ]
    },
    {
     "name": "stderr",
     "output_type": "stream",
     "text": [
      "100%|██████████| 53/53 [00:08<00:00,  6.34it/s]\n",
      "100%|██████████| 6/6 [00:00<00:00,  7.89it/s]\n",
      "  0%|          | 0/53 [00:00<?, ?it/s]"
     ]
    },
    {
     "name": "stdout",
     "output_type": "stream",
     "text": [
      "Train Loss: 0.0817, Train Acc: 0.9698\n",
      "Val Loss: 0.1131, Val Acc: 0.9620\n",
      "Validation loss decreased (0.115524 --> 0.113066).  Saving model ...\n",
      "../IFBased_pjr_saved_model_ifbased_/IFBased_PJR_replay_500/2018-07/best_model_epoch_4.pt\n",
      "../IFBased_pjr_saved_optimizer_ifbased_/IFBased_PJR_replay_500/2018-07/best_optimizer_epoch_4.pt\n",
      "Epoch 5 of 500\n"
     ]
    },
    {
     "name": "stderr",
     "output_type": "stream",
     "text": [
      "100%|██████████| 53/53 [00:08<00:00,  6.56it/s]\n",
      "100%|██████████| 6/6 [00:00<00:00,  7.78it/s]\n",
      "  0%|          | 0/53 [00:00<?, ?it/s]"
     ]
    },
    {
     "name": "stdout",
     "output_type": "stream",
     "text": [
      "Train Loss: 0.0792, Train Acc: 0.9714\n",
      "Val Loss: 0.1134, Val Acc: 0.9616\n",
      "EarlyStopping counter: 1 out of 5\n",
      "Epoch 6 of 500\n"
     ]
    },
    {
     "name": "stderr",
     "output_type": "stream",
     "text": [
      "100%|██████████| 53/53 [00:07<00:00,  6.64it/s]\n",
      "100%|██████████| 6/6 [00:00<00:00,  7.21it/s]\n",
      "  0%|          | 0/53 [00:00<?, ?it/s]"
     ]
    },
    {
     "name": "stdout",
     "output_type": "stream",
     "text": [
      "Train Loss: 0.0831, Train Acc: 0.9687\n",
      "Val Loss: 0.1089, Val Acc: 0.9599\n",
      "Validation loss decreased (0.113066 --> 0.108867).  Saving model ...\n",
      "../IFBased_pjr_saved_model_ifbased_/IFBased_PJR_replay_500/2018-07/best_model_epoch_6.pt\n",
      "../IFBased_pjr_saved_optimizer_ifbased_/IFBased_PJR_replay_500/2018-07/best_optimizer_epoch_6.pt\n",
      "Epoch 7 of 500\n"
     ]
    },
    {
     "name": "stderr",
     "output_type": "stream",
     "text": [
      "100%|██████████| 53/53 [00:07<00:00,  6.75it/s]\n",
      "100%|██████████| 6/6 [00:00<00:00,  7.08it/s]\n",
      "  0%|          | 0/53 [00:00<?, ?it/s]"
     ]
    },
    {
     "name": "stdout",
     "output_type": "stream",
     "text": [
      "Train Loss: 0.0745, Train Acc: 0.9727\n",
      "Val Loss: 0.1110, Val Acc: 0.9632\n",
      "EarlyStopping counter: 1 out of 5\n",
      "Epoch 8 of 500\n"
     ]
    },
    {
     "name": "stderr",
     "output_type": "stream",
     "text": [
      "100%|██████████| 53/53 [00:08<00:00,  6.58it/s]\n",
      "100%|██████████| 6/6 [00:00<00:00,  7.99it/s]\n",
      "  0%|          | 0/53 [00:00<?, ?it/s]"
     ]
    },
    {
     "name": "stdout",
     "output_type": "stream",
     "text": [
      "Train Loss: 0.0739, Train Acc: 0.9732\n",
      "Val Loss: 0.1111, Val Acc: 0.9624\n",
      "EarlyStopping counter: 2 out of 5\n",
      "Epoch 9 of 500\n"
     ]
    },
    {
     "name": "stderr",
     "output_type": "stream",
     "text": [
      "100%|██████████| 53/53 [00:07<00:00,  6.66it/s]\n",
      "100%|██████████| 6/6 [00:00<00:00,  7.13it/s]\n",
      "  0%|          | 0/53 [00:00<?, ?it/s]"
     ]
    },
    {
     "name": "stdout",
     "output_type": "stream",
     "text": [
      "Train Loss: 0.0744, Train Acc: 0.9727\n",
      "Val Loss: 0.1163, Val Acc: 0.9598\n",
      "EarlyStopping counter: 3 out of 5\n",
      "Epoch 10 of 500\n"
     ]
    },
    {
     "name": "stderr",
     "output_type": "stream",
     "text": [
      "100%|██████████| 53/53 [00:07<00:00,  6.68it/s]\n",
      "100%|██████████| 6/6 [00:00<00:00,  8.09it/s]\n",
      "  0%|          | 0/53 [00:00<?, ?it/s]"
     ]
    },
    {
     "name": "stdout",
     "output_type": "stream",
     "text": [
      "Train Loss: 0.0797, Train Acc: 0.9709\n",
      "Val Loss: 0.1034, Val Acc: 0.9652\n",
      "Validation loss decreased (0.108867 --> 0.103413).  Saving model ...\n",
      "../IFBased_pjr_saved_model_ifbased_/IFBased_PJR_replay_500/2018-07/best_model_epoch_10.pt\n",
      "../IFBased_pjr_saved_optimizer_ifbased_/IFBased_PJR_replay_500/2018-07/best_optimizer_epoch_10.pt\n",
      "Epoch 11 of 500\n"
     ]
    },
    {
     "name": "stderr",
     "output_type": "stream",
     "text": [
      "100%|██████████| 53/53 [00:07<00:00,  6.72it/s]\n",
      "100%|██████████| 6/6 [00:00<00:00,  6.77it/s]\n",
      "  0%|          | 0/53 [00:00<?, ?it/s]"
     ]
    },
    {
     "name": "stdout",
     "output_type": "stream",
     "text": [
      "Train Loss: 0.0750, Train Acc: 0.9717\n",
      "Val Loss: 0.1113, Val Acc: 0.9619\n",
      "EarlyStopping counter: 1 out of 5\n",
      "Epoch 12 of 500\n"
     ]
    },
    {
     "name": "stderr",
     "output_type": "stream",
     "text": [
      "100%|██████████| 53/53 [00:08<00:00,  6.28it/s]\n",
      "100%|██████████| 6/6 [00:00<00:00,  8.09it/s]\n",
      "  0%|          | 0/53 [00:00<?, ?it/s]"
     ]
    },
    {
     "name": "stdout",
     "output_type": "stream",
     "text": [
      "Train Loss: 0.0792, Train Acc: 0.9706\n",
      "Val Loss: 0.1088, Val Acc: 0.9634\n",
      "EarlyStopping counter: 2 out of 5\n",
      "Epoch 13 of 500\n"
     ]
    },
    {
     "name": "stderr",
     "output_type": "stream",
     "text": [
      "100%|██████████| 53/53 [00:08<00:00,  6.32it/s]\n",
      "100%|██████████| 6/6 [00:00<00:00,  7.64it/s]\n",
      "  0%|          | 0/53 [00:00<?, ?it/s]"
     ]
    },
    {
     "name": "stdout",
     "output_type": "stream",
     "text": [
      "Train Loss: 0.0700, Train Acc: 0.9740\n",
      "Val Loss: 0.1160, Val Acc: 0.9604\n",
      "EarlyStopping counter: 3 out of 5\n",
      "Epoch 14 of 500\n"
     ]
    },
    {
     "name": "stderr",
     "output_type": "stream",
     "text": [
      "100%|██████████| 53/53 [00:08<00:00,  6.44it/s]\n",
      "100%|██████████| 6/6 [00:00<00:00,  6.99it/s]\n",
      "  0%|          | 0/53 [00:00<?, ?it/s]"
     ]
    },
    {
     "name": "stdout",
     "output_type": "stream",
     "text": [
      "Train Loss: 0.0910, Train Acc: 0.9668\n",
      "Val Loss: 0.1213, Val Acc: 0.9574\n",
      "EarlyStopping counter: 4 out of 5\n",
      "Epoch 15 of 500\n"
     ]
    },
    {
     "name": "stderr",
     "output_type": "stream",
     "text": [
      "100%|██████████| 53/53 [00:08<00:00,  6.46it/s]\n",
      "100%|██████████| 6/6 [00:00<00:00,  8.00it/s]\n",
      "  0%|          | 0/6 [00:00<?, ?it/s]"
     ]
    },
    {
     "name": "stdout",
     "output_type": "stream",
     "text": [
      "Train Loss: 0.0796, Train Acc: 0.9706\n",
      "Val Loss: 0.1078, Val Acc: 0.9634\n",
      "EarlyStopping counter: 5 out of 5\n",
      "Early stopping\n",
      "Training time: 2.320 minutes\n",
      "loading best model ../IFBased_pjr_saved_model_ifbased_/IFBased_PJR_replay_500/2018-07/best_model_epoch_10.pt\n",
      "loading best optimizer ../IFBased_pjr_saved_optimizer_ifbased_/IFBased_PJR_replay_500/2018-07/best_optimizer_epoch_10.pt\n"
     ]
    },
    {
     "name": "stderr",
     "output_type": "stream",
     "text": [
      "100%|██████████| 6/6 [00:01<00:00,  3.43it/s]\n",
      "100%|██████████| 6/6 [00:01<00:00,  3.54it/s]\n"
     ]
    },
    {
     "name": "stdout",
     "output_type": "stream",
     "text": [
      "test accuracy 0.9667763312657675 and ROC-AUC 0.9667858464281833\n",
      "Elapsed time 48.746054367224374 mins.\n",
      "\n",
      "2023-01-10 23:00:13 Round 1 ...\n",
      "Current Task 2018-08 w/ 500 samples to Replay per Malware family.\n",
      "X_train (40882, 2381) Y_train (40882,) Y_tr_family (40882,)\n",
      "X_test (40087, 2381) Y_test (40087,) Y_te_family (40087,)\n",
      "2023-01-10 23:00:16 Standardizing ...\n",
      "replay samples of task 319848\n",
      "Task 2018-08 and #-of new samples stored 40882\n"
     ]
    },
    {
     "name": "stderr",
     "output_type": "stream",
     "text": [
      "\r",
      "  0%|          | 0/60 [00:00<?, ?it/s]"
     ]
    },
    {
     "name": "stdout",
     "output_type": "stream",
     "text": [
      "\n",
      "X_train (360730, 2381) Y_train (360730,)\n",
      "\n",
      "2023-01-10 23:08:52 Training ...\n",
      "Epoch 1 of 500\n"
     ]
    },
    {
     "name": "stderr",
     "output_type": "stream",
     "text": [
      "100%|██████████| 60/60 [00:12<00:00,  4.91it/s]\n",
      "100%|██████████| 7/7 [00:01<00:00,  6.37it/s]\n",
      "  0%|          | 0/60 [00:00<?, ?it/s]"
     ]
    },
    {
     "name": "stdout",
     "output_type": "stream",
     "text": [
      "Train Loss: 0.0817, Train Acc: 0.9701\n",
      "Val Loss: 0.1135, Val Acc: 0.9617\n",
      "Validation loss decreased (inf --> 0.113476).  Saving model ...\n",
      "../IFBased_pjr_saved_model_ifbased_/IFBased_PJR_replay_500/2018-08/best_model_epoch_1.pt\n",
      "../IFBased_pjr_saved_optimizer_ifbased_/IFBased_PJR_replay_500/2018-08/best_optimizer_epoch_1.pt\n",
      "Epoch 2 of 500\n"
     ]
    },
    {
     "name": "stderr",
     "output_type": "stream",
     "text": [
      "100%|██████████| 60/60 [00:10<00:00,  5.57it/s]\n",
      "100%|██████████| 7/7 [00:01<00:00,  6.62it/s]\n",
      "  0%|          | 0/60 [00:00<?, ?it/s]"
     ]
    },
    {
     "name": "stdout",
     "output_type": "stream",
     "text": [
      "Train Loss: 0.0819, Train Acc: 0.9696\n",
      "Val Loss: 0.1141, Val Acc: 0.9609\n",
      "EarlyStopping counter: 1 out of 5\n",
      "Epoch 3 of 500\n"
     ]
    },
    {
     "name": "stderr",
     "output_type": "stream",
     "text": [
      "100%|██████████| 60/60 [00:09<00:00,  6.12it/s]\n",
      "100%|██████████| 7/7 [00:00<00:00,  7.48it/s]\n",
      "  0%|          | 0/60 [00:00<?, ?it/s]"
     ]
    },
    {
     "name": "stdout",
     "output_type": "stream",
     "text": [
      "Train Loss: 0.0869, Train Acc: 0.9670\n",
      "Val Loss: 0.1114, Val Acc: 0.9608\n",
      "Validation loss decreased (0.113476 --> 0.111401).  Saving model ...\n",
      "../IFBased_pjr_saved_model_ifbased_/IFBased_PJR_replay_500/2018-08/best_model_epoch_3.pt\n",
      "../IFBased_pjr_saved_optimizer_ifbased_/IFBased_PJR_replay_500/2018-08/best_optimizer_epoch_3.pt\n",
      "Epoch 4 of 500\n"
     ]
    },
    {
     "name": "stderr",
     "output_type": "stream",
     "text": [
      "100%|██████████| 60/60 [00:09<00:00,  6.34it/s]\n",
      "100%|██████████| 7/7 [00:01<00:00,  6.95it/s]\n",
      "  0%|          | 0/60 [00:00<?, ?it/s]"
     ]
    },
    {
     "name": "stdout",
     "output_type": "stream",
     "text": [
      "Train Loss: 0.0819, Train Acc: 0.9690\n",
      "Val Loss: 0.1124, Val Acc: 0.9617\n",
      "EarlyStopping counter: 1 out of 5\n",
      "Epoch 5 of 500\n"
     ]
    },
    {
     "name": "stderr",
     "output_type": "stream",
     "text": [
      "100%|██████████| 60/60 [00:09<00:00,  6.47it/s]\n",
      "100%|██████████| 7/7 [00:01<00:00,  6.67it/s]\n",
      "  0%|          | 0/60 [00:00<?, ?it/s]"
     ]
    },
    {
     "name": "stdout",
     "output_type": "stream",
     "text": [
      "Train Loss: 0.0768, Train Acc: 0.9716\n",
      "Val Loss: 0.1139, Val Acc: 0.9601\n",
      "EarlyStopping counter: 2 out of 5\n",
      "Epoch 6 of 500\n"
     ]
    },
    {
     "name": "stderr",
     "output_type": "stream",
     "text": [
      "100%|██████████| 60/60 [00:09<00:00,  6.45it/s]\n",
      "100%|██████████| 7/7 [00:01<00:00,  6.09it/s]\n",
      "  0%|          | 0/60 [00:00<?, ?it/s]"
     ]
    },
    {
     "name": "stdout",
     "output_type": "stream",
     "text": [
      "Train Loss: 0.0814, Train Acc: 0.9693\n",
      "Val Loss: 0.1111, Val Acc: 0.9614\n",
      "Validation loss decreased (0.111401 --> 0.111085).  Saving model ...\n",
      "../IFBased_pjr_saved_model_ifbased_/IFBased_PJR_replay_500/2018-08/best_model_epoch_6.pt\n",
      "../IFBased_pjr_saved_optimizer_ifbased_/IFBased_PJR_replay_500/2018-08/best_optimizer_epoch_6.pt\n",
      "Epoch 7 of 500\n"
     ]
    },
    {
     "name": "stderr",
     "output_type": "stream",
     "text": [
      "100%|██████████| 60/60 [00:09<00:00,  6.48it/s]\n",
      "100%|██████████| 7/7 [00:00<00:00,  7.56it/s]\n",
      "  0%|          | 0/60 [00:00<?, ?it/s]"
     ]
    },
    {
     "name": "stdout",
     "output_type": "stream",
     "text": [
      "Train Loss: 0.0754, Train Acc: 0.9716\n",
      "Val Loss: 0.1141, Val Acc: 0.9602\n",
      "EarlyStopping counter: 1 out of 5\n",
      "Epoch 8 of 500\n"
     ]
    },
    {
     "name": "stderr",
     "output_type": "stream",
     "text": [
      "100%|██████████| 60/60 [00:09<00:00,  6.53it/s]\n",
      "100%|██████████| 7/7 [00:01<00:00,  6.97it/s]\n",
      "  0%|          | 0/60 [00:00<?, ?it/s]"
     ]
    },
    {
     "name": "stdout",
     "output_type": "stream",
     "text": [
      "Train Loss: 0.0728, Train Acc: 0.9732\n",
      "Val Loss: 0.1097, Val Acc: 0.9631\n",
      "Validation loss decreased (0.111085 --> 0.109662).  Saving model ...\n",
      "../IFBased_pjr_saved_model_ifbased_/IFBased_PJR_replay_500/2018-08/best_model_epoch_8.pt\n",
      "../IFBased_pjr_saved_optimizer_ifbased_/IFBased_PJR_replay_500/2018-08/best_optimizer_epoch_8.pt\n",
      "Epoch 9 of 500\n"
     ]
    },
    {
     "name": "stderr",
     "output_type": "stream",
     "text": [
      "100%|██████████| 60/60 [00:09<00:00,  6.58it/s]\n",
      "100%|██████████| 7/7 [00:01<00:00,  6.68it/s]\n",
      "  0%|          | 0/60 [00:00<?, ?it/s]"
     ]
    },
    {
     "name": "stdout",
     "output_type": "stream",
     "text": [
      "Train Loss: 0.0721, Train Acc: 0.9729\n",
      "Val Loss: 0.1109, Val Acc: 0.9619\n",
      "EarlyStopping counter: 1 out of 5\n",
      "Epoch 10 of 500\n"
     ]
    },
    {
     "name": "stderr",
     "output_type": "stream",
     "text": [
      "100%|██████████| 60/60 [00:09<00:00,  6.57it/s]\n",
      "100%|██████████| 7/7 [00:00<00:00,  7.38it/s]\n",
      "  0%|          | 0/60 [00:00<?, ?it/s]"
     ]
    },
    {
     "name": "stdout",
     "output_type": "stream",
     "text": [
      "Train Loss: 0.0705, Train Acc: 0.9736\n",
      "Val Loss: 0.1107, Val Acc: 0.9633\n",
      "EarlyStopping counter: 2 out of 5\n",
      "Epoch 11 of 500\n"
     ]
    },
    {
     "name": "stderr",
     "output_type": "stream",
     "text": [
      "100%|██████████| 60/60 [00:09<00:00,  6.58it/s]\n",
      "100%|██████████| 7/7 [00:01<00:00,  6.67it/s]\n",
      "  0%|          | 0/60 [00:00<?, ?it/s]"
     ]
    },
    {
     "name": "stdout",
     "output_type": "stream",
     "text": [
      "Train Loss: 0.0715, Train Acc: 0.9733\n",
      "Val Loss: 0.1069, Val Acc: 0.9644\n",
      "Validation loss decreased (0.109662 --> 0.106873).  Saving model ...\n",
      "../IFBased_pjr_saved_model_ifbased_/IFBased_PJR_replay_500/2018-08/best_model_epoch_11.pt\n",
      "../IFBased_pjr_saved_optimizer_ifbased_/IFBased_PJR_replay_500/2018-08/best_optimizer_epoch_11.pt\n",
      "Epoch 12 of 500\n"
     ]
    },
    {
     "name": "stderr",
     "output_type": "stream",
     "text": [
      "100%|██████████| 60/60 [00:09<00:00,  6.32it/s]\n",
      "100%|██████████| 7/7 [00:01<00:00,  6.29it/s]\n",
      "  0%|          | 0/60 [00:00<?, ?it/s]"
     ]
    },
    {
     "name": "stdout",
     "output_type": "stream",
     "text": [
      "Train Loss: 0.0823, Train Acc: 0.9692\n",
      "Val Loss: 0.1089, Val Acc: 0.9633\n",
      "EarlyStopping counter: 1 out of 5\n",
      "Epoch 13 of 500\n"
     ]
    },
    {
     "name": "stderr",
     "output_type": "stream",
     "text": [
      "100%|██████████| 60/60 [00:09<00:00,  6.29it/s]\n",
      "100%|██████████| 7/7 [00:00<00:00,  7.48it/s]\n",
      "  0%|          | 0/60 [00:00<?, ?it/s]"
     ]
    },
    {
     "name": "stdout",
     "output_type": "stream",
     "text": [
      "Train Loss: 0.0878, Train Acc: 0.9693\n",
      "Val Loss: 0.4301, Val Acc: 0.8588\n",
      "EarlyStopping counter: 2 out of 5\n",
      "Epoch 14 of 500\n"
     ]
    },
    {
     "name": "stderr",
     "output_type": "stream",
     "text": [
      "100%|██████████| 60/60 [00:09<00:00,  6.40it/s]\n",
      "100%|██████████| 7/7 [00:00<00:00,  7.13it/s]\n",
      "  0%|          | 0/60 [00:00<?, ?it/s]"
     ]
    },
    {
     "name": "stdout",
     "output_type": "stream",
     "text": [
      "Train Loss: 0.0718, Train Acc: 0.9725\n",
      "Val Loss: 0.1347, Val Acc: 0.9511\n",
      "EarlyStopping counter: 3 out of 5\n",
      "Epoch 15 of 500\n"
     ]
    },
    {
     "name": "stderr",
     "output_type": "stream",
     "text": [
      "100%|██████████| 60/60 [00:09<00:00,  6.38it/s]\n",
      "100%|██████████| 7/7 [00:00<00:00,  7.17it/s]\n",
      "  0%|          | 0/60 [00:00<?, ?it/s]"
     ]
    },
    {
     "name": "stdout",
     "output_type": "stream",
     "text": [
      "Train Loss: 0.0713, Train Acc: 0.9729\n",
      "Val Loss: 0.1070, Val Acc: 0.9638\n",
      "EarlyStopping counter: 4 out of 5\n",
      "Epoch 16 of 500\n"
     ]
    },
    {
     "name": "stderr",
     "output_type": "stream",
     "text": [
      "100%|██████████| 60/60 [00:09<00:00,  6.44it/s]\n",
      "100%|██████████| 7/7 [00:01<00:00,  6.89it/s]\n",
      "  0%|          | 0/7 [00:00<?, ?it/s]"
     ]
    },
    {
     "name": "stdout",
     "output_type": "stream",
     "text": [
      "Train Loss: 0.0680, Train Acc: 0.9747\n",
      "Val Loss: 0.1079, Val Acc: 0.9643\n",
      "EarlyStopping counter: 5 out of 5\n",
      "Early stopping\n",
      "Training time: 2.847 minutes\n",
      "loading best model ../IFBased_pjr_saved_model_ifbased_/IFBased_PJR_replay_500/2018-08/best_model_epoch_11.pt\n",
      "loading best optimizer ../IFBased_pjr_saved_optimizer_ifbased_/IFBased_PJR_replay_500/2018-08/best_optimizer_epoch_11.pt\n"
     ]
    },
    {
     "name": "stderr",
     "output_type": "stream",
     "text": [
      "100%|██████████| 7/7 [00:01<00:00,  4.45it/s]\n",
      "100%|██████████| 7/7 [00:01<00:00,  4.00it/s]\n"
     ]
    },
    {
     "name": "stdout",
     "output_type": "stream",
     "text": [
      "test accuracy 0.962953439780644 and ROC-AUC 0.9630161567120222\n",
      "Elapsed time 60.35246513287226 mins.\n",
      "\n",
      "2023-01-10 23:11:50 Round 1 ...\n",
      "Current Task 2018-09 w/ 500 samples to Replay per Malware family.\n",
      "X_train (56492, 2381) Y_train (56492,) Y_tr_family (56492,)\n",
      "X_test (46364, 2381) Y_test (46364,) Y_te_family (46364,)\n",
      "2023-01-10 23:11:54 Standardizing ...\n",
      "replay samples of task 360730\n",
      "Task 2018-09 and #-of new samples stored 56492\n"
     ]
    },
    {
     "name": "stderr",
     "output_type": "stream",
     "text": [
      "\r",
      "  0%|          | 0/69 [00:00<?, ?it/s]"
     ]
    },
    {
     "name": "stdout",
     "output_type": "stream",
     "text": [
      "\n",
      "X_train (417222, 2381) Y_train (417222,)\n",
      "\n",
      "2023-01-10 23:21:31 Training ...\n",
      "Epoch 1 of 500\n"
     ]
    },
    {
     "name": "stderr",
     "output_type": "stream",
     "text": [
      "100%|██████████| 69/69 [00:14<00:00,  4.70it/s]\n",
      "100%|██████████| 8/8 [00:01<00:00,  6.70it/s]\n",
      "  0%|          | 0/69 [00:00<?, ?it/s]"
     ]
    },
    {
     "name": "stdout",
     "output_type": "stream",
     "text": [
      "Train Loss: 0.0909, Train Acc: 0.9672\n",
      "Val Loss: 0.1492, Val Acc: 0.9471\n",
      "Validation loss decreased (inf --> 0.149217).  Saving model ...\n",
      "../IFBased_pjr_saved_model_ifbased_/IFBased_PJR_replay_500/2018-09/best_model_epoch_1.pt\n",
      "../IFBased_pjr_saved_optimizer_ifbased_/IFBased_PJR_replay_500/2018-09/best_optimizer_epoch_1.pt\n",
      "Epoch 2 of 500\n"
     ]
    },
    {
     "name": "stderr",
     "output_type": "stream",
     "text": [
      "100%|██████████| 69/69 [00:12<00:00,  5.73it/s]\n",
      "100%|██████████| 8/8 [00:01<00:00,  7.72it/s]\n",
      "  0%|          | 0/69 [00:00<?, ?it/s]"
     ]
    },
    {
     "name": "stdout",
     "output_type": "stream",
     "text": [
      "Train Loss: 0.0947, Train Acc: 0.9645\n",
      "Val Loss: 0.1131, Val Acc: 0.9580\n",
      "Validation loss decreased (0.149217 --> 0.113107).  Saving model ...\n",
      "../IFBased_pjr_saved_model_ifbased_/IFBased_PJR_replay_500/2018-09/best_model_epoch_2.pt\n",
      "../IFBased_pjr_saved_optimizer_ifbased_/IFBased_PJR_replay_500/2018-09/best_optimizer_epoch_2.pt\n",
      "Epoch 3 of 500\n"
     ]
    },
    {
     "name": "stderr",
     "output_type": "stream",
     "text": [
      "100%|██████████| 69/69 [00:10<00:00,  6.29it/s]\n",
      "100%|██████████| 8/8 [00:01<00:00,  7.99it/s]\n",
      "  0%|          | 0/69 [00:00<?, ?it/s]"
     ]
    },
    {
     "name": "stdout",
     "output_type": "stream",
     "text": [
      "Train Loss: 0.0937, Train Acc: 0.9658\n",
      "Val Loss: 0.1761, Val Acc: 0.9343\n",
      "EarlyStopping counter: 1 out of 5\n",
      "Epoch 4 of 500\n"
     ]
    },
    {
     "name": "stderr",
     "output_type": "stream",
     "text": [
      "100%|██████████| 69/69 [00:10<00:00,  6.44it/s]\n",
      "100%|██████████| 8/8 [00:01<00:00,  7.40it/s]\n",
      "  0%|          | 0/69 [00:00<?, ?it/s]"
     ]
    },
    {
     "name": "stdout",
     "output_type": "stream",
     "text": [
      "Train Loss: 0.0812, Train Acc: 0.9698\n",
      "Val Loss: 0.1153, Val Acc: 0.9578\n",
      "EarlyStopping counter: 2 out of 5\n",
      "Epoch 5 of 500\n"
     ]
    },
    {
     "name": "stderr",
     "output_type": "stream",
     "text": [
      "100%|██████████| 69/69 [00:10<00:00,  6.50it/s]\n",
      "100%|██████████| 8/8 [00:01<00:00,  7.43it/s]\n",
      "  0%|          | 0/69 [00:00<?, ?it/s]"
     ]
    },
    {
     "name": "stdout",
     "output_type": "stream",
     "text": [
      "Train Loss: 0.0839, Train Acc: 0.9691\n",
      "Val Loss: 0.1343, Val Acc: 0.9515\n",
      "EarlyStopping counter: 3 out of 5\n",
      "Epoch 6 of 500\n"
     ]
    },
    {
     "name": "stderr",
     "output_type": "stream",
     "text": [
      "100%|██████████| 69/69 [00:10<00:00,  6.53it/s]\n",
      "100%|██████████| 8/8 [00:01<00:00,  7.91it/s]\n",
      "  0%|          | 0/69 [00:00<?, ?it/s]"
     ]
    },
    {
     "name": "stdout",
     "output_type": "stream",
     "text": [
      "Train Loss: 0.0798, Train Acc: 0.9702\n",
      "Val Loss: 0.1174, Val Acc: 0.9577\n",
      "EarlyStopping counter: 4 out of 5\n",
      "Epoch 7 of 500\n"
     ]
    },
    {
     "name": "stderr",
     "output_type": "stream",
     "text": [
      "100%|██████████| 69/69 [00:10<00:00,  6.53it/s]\n",
      "100%|██████████| 8/8 [00:01<00:00,  7.76it/s]\n",
      "  0%|          | 0/8 [00:00<?, ?it/s]"
     ]
    },
    {
     "name": "stdout",
     "output_type": "stream",
     "text": [
      "Train Loss: 0.0892, Train Acc: 0.9660\n",
      "Val Loss: 0.1319, Val Acc: 0.9503\n",
      "EarlyStopping counter: 5 out of 5\n",
      "Early stopping\n",
      "Training time: 1.465 minutes\n",
      "loading best model ../IFBased_pjr_saved_model_ifbased_/IFBased_PJR_replay_500/2018-09/best_model_epoch_2.pt\n",
      "loading best optimizer ../IFBased_pjr_saved_optimizer_ifbased_/IFBased_PJR_replay_500/2018-09/best_optimizer_epoch_2.pt\n"
     ]
    },
    {
     "name": "stderr",
     "output_type": "stream",
     "text": [
      "100%|██████████| 8/8 [00:02<00:00,  3.97it/s]\n",
      "100%|██████████| 8/8 [00:02<00:00,  3.99it/s]\n"
     ]
    },
    {
     "name": "stdout",
     "output_type": "stream",
     "text": [
      "test accuracy 0.9572998881340027 and ROC-AUC 0.9570440427681746\n",
      "Elapsed time 71.63420333067576 mins.\n",
      "\n",
      "2023-01-10 23:23:06 Round 1 ...\n",
      "Current Task 2018-10 w/ 500 samples to Replay per Malware family.\n",
      "X_train (77772, 2381) Y_train (77772,) Y_tr_family (77772,)\n",
      "X_test (55006, 2381) Y_test (55006,) Y_te_family (55006,)\n",
      "2023-01-10 23:23:12 Standardizing ...\n",
      "replay samples of task 417222\n",
      "Task 2018-10 and #-of new samples stored 77772\n"
     ]
    },
    {
     "name": "stderr",
     "output_type": "stream",
     "text": [
      "\r",
      "  0%|          | 0/82 [00:00<?, ?it/s]"
     ]
    },
    {
     "name": "stdout",
     "output_type": "stream",
     "text": [
      "\n",
      "X_train (494994, 2381) Y_train (494994,)\n",
      "\n",
      "2023-01-10 23:35:01 Training ...\n",
      "Epoch 1 of 500\n"
     ]
    },
    {
     "name": "stderr",
     "output_type": "stream",
     "text": [
      "100%|██████████| 82/82 [00:16<00:00,  4.82it/s]\n",
      "100%|██████████| 10/10 [00:01<00:00,  6.86it/s]\n",
      "  0%|          | 0/82 [00:00<?, ?it/s]"
     ]
    },
    {
     "name": "stdout",
     "output_type": "stream",
     "text": [
      "Train Loss: 0.1205, Train Acc: 0.9561\n",
      "Val Loss: 0.1369, Val Acc: 0.9476\n",
      "Validation loss decreased (inf --> 0.136884).  Saving model ...\n",
      "../IFBased_pjr_saved_model_ifbased_/IFBased_PJR_replay_500/2018-10/best_model_epoch_1.pt\n",
      "../IFBased_pjr_saved_optimizer_ifbased_/IFBased_PJR_replay_500/2018-10/best_optimizer_epoch_1.pt\n",
      "Epoch 2 of 500\n"
     ]
    },
    {
     "name": "stderr",
     "output_type": "stream",
     "text": [
      "100%|██████████| 82/82 [00:14<00:00,  5.60it/s]\n",
      "100%|██████████| 10/10 [00:01<00:00,  7.29it/s]\n",
      "  0%|          | 0/82 [00:00<?, ?it/s]"
     ]
    },
    {
     "name": "stdout",
     "output_type": "stream",
     "text": [
      "Train Loss: 0.0965, Train Acc: 0.9641\n",
      "Val Loss: 0.1141, Val Acc: 0.9586\n",
      "Validation loss decreased (0.136884 --> 0.114095).  Saving model ...\n",
      "../IFBased_pjr_saved_model_ifbased_/IFBased_PJR_replay_500/2018-10/best_model_epoch_2.pt\n",
      "../IFBased_pjr_saved_optimizer_ifbased_/IFBased_PJR_replay_500/2018-10/best_optimizer_epoch_2.pt\n",
      "Epoch 3 of 500\n"
     ]
    },
    {
     "name": "stderr",
     "output_type": "stream",
     "text": [
      "100%|██████████| 82/82 [00:13<00:00,  6.10it/s]\n",
      "100%|██████████| 10/10 [00:01<00:00,  7.84it/s]\n",
      "  0%|          | 0/82 [00:00<?, ?it/s]"
     ]
    },
    {
     "name": "stdout",
     "output_type": "stream",
     "text": [
      "Train Loss: 0.0897, Train Acc: 0.9669\n",
      "Val Loss: 0.1137, Val Acc: 0.9587\n",
      "Validation loss decreased (0.114095 --> 0.113745).  Saving model ...\n",
      "../IFBased_pjr_saved_model_ifbased_/IFBased_PJR_replay_500/2018-10/best_model_epoch_3.pt\n",
      "../IFBased_pjr_saved_optimizer_ifbased_/IFBased_PJR_replay_500/2018-10/best_optimizer_epoch_3.pt\n",
      "Epoch 4 of 500\n"
     ]
    },
    {
     "name": "stderr",
     "output_type": "stream",
     "text": [
      "100%|██████████| 82/82 [00:12<00:00,  6.37it/s]\n",
      "100%|██████████| 10/10 [00:01<00:00,  8.09it/s]\n",
      "  0%|          | 0/82 [00:00<?, ?it/s]"
     ]
    },
    {
     "name": "stdout",
     "output_type": "stream",
     "text": [
      "Train Loss: 0.0906, Train Acc: 0.9663\n",
      "Val Loss: 0.1133, Val Acc: 0.9594\n",
      "Validation loss decreased (0.113745 --> 0.113278).  Saving model ...\n",
      "../IFBased_pjr_saved_model_ifbased_/IFBased_PJR_replay_500/2018-10/best_model_epoch_4.pt\n",
      "../IFBased_pjr_saved_optimizer_ifbased_/IFBased_PJR_replay_500/2018-10/best_optimizer_epoch_4.pt\n",
      "Epoch 5 of 500\n"
     ]
    },
    {
     "name": "stderr",
     "output_type": "stream",
     "text": [
      "100%|██████████| 82/82 [00:12<00:00,  6.49it/s]\n",
      "100%|██████████| 10/10 [00:01<00:00,  6.89it/s]\n",
      "  0%|          | 0/82 [00:00<?, ?it/s]"
     ]
    },
    {
     "name": "stdout",
     "output_type": "stream",
     "text": [
      "Train Loss: 0.0867, Train Acc: 0.9680\n",
      "Val Loss: 0.1104, Val Acc: 0.9592\n",
      "Validation loss decreased (0.113278 --> 0.110391).  Saving model ...\n",
      "../IFBased_pjr_saved_model_ifbased_/IFBased_PJR_replay_500/2018-10/best_model_epoch_5.pt\n",
      "../IFBased_pjr_saved_optimizer_ifbased_/IFBased_PJR_replay_500/2018-10/best_optimizer_epoch_5.pt\n",
      "Epoch 6 of 500\n"
     ]
    },
    {
     "name": "stderr",
     "output_type": "stream",
     "text": [
      "100%|██████████| 82/82 [00:12<00:00,  6.40it/s]\n",
      "100%|██████████| 10/10 [00:01<00:00,  7.68it/s]\n",
      "  0%|          | 0/82 [00:00<?, ?it/s]"
     ]
    },
    {
     "name": "stdout",
     "output_type": "stream",
     "text": [
      "Train Loss: 0.0882, Train Acc: 0.9674\n",
      "Val Loss: 0.1121, Val Acc: 0.9584\n",
      "EarlyStopping counter: 1 out of 5\n",
      "Epoch 7 of 500\n"
     ]
    },
    {
     "name": "stderr",
     "output_type": "stream",
     "text": [
      "100%|██████████| 82/82 [00:12<00:00,  6.50it/s]\n",
      "100%|██████████| 10/10 [00:01<00:00,  8.30it/s]\n",
      "  0%|          | 0/82 [00:00<?, ?it/s]"
     ]
    },
    {
     "name": "stdout",
     "output_type": "stream",
     "text": [
      "Train Loss: 0.0921, Train Acc: 0.9654\n",
      "Val Loss: 0.1084, Val Acc: 0.9600\n",
      "Validation loss decreased (0.110391 --> 0.108351).  Saving model ...\n",
      "../IFBased_pjr_saved_model_ifbased_/IFBased_PJR_replay_500/2018-10/best_model_epoch_7.pt\n",
      "../IFBased_pjr_saved_optimizer_ifbased_/IFBased_PJR_replay_500/2018-10/best_optimizer_epoch_7.pt\n",
      "Epoch 8 of 500\n"
     ]
    },
    {
     "name": "stderr",
     "output_type": "stream",
     "text": [
      "100%|██████████| 82/82 [00:12<00:00,  6.48it/s]\n",
      "100%|██████████| 10/10 [00:01<00:00,  8.22it/s]\n",
      "  0%|          | 0/82 [00:00<?, ?it/s]"
     ]
    },
    {
     "name": "stdout",
     "output_type": "stream",
     "text": [
      "Train Loss: 0.0890, Train Acc: 0.9670\n",
      "Val Loss: 0.1131, Val Acc: 0.9582\n",
      "EarlyStopping counter: 1 out of 5\n",
      "Epoch 9 of 500\n"
     ]
    },
    {
     "name": "stderr",
     "output_type": "stream",
     "text": [
      "100%|██████████| 82/82 [00:12<00:00,  6.32it/s]\n",
      "100%|██████████| 10/10 [00:01<00:00,  7.83it/s]\n",
      "  0%|          | 0/82 [00:00<?, ?it/s]"
     ]
    },
    {
     "name": "stdout",
     "output_type": "stream",
     "text": [
      "Train Loss: 0.0833, Train Acc: 0.9686\n",
      "Val Loss: 0.1123, Val Acc: 0.9579\n",
      "EarlyStopping counter: 2 out of 5\n",
      "Epoch 10 of 500\n"
     ]
    },
    {
     "name": "stderr",
     "output_type": "stream",
     "text": [
      "100%|██████████| 82/82 [00:13<00:00,  6.27it/s]\n",
      "100%|██████████| 10/10 [00:01<00:00,  8.18it/s]\n",
      "  0%|          | 0/82 [00:00<?, ?it/s]"
     ]
    },
    {
     "name": "stdout",
     "output_type": "stream",
     "text": [
      "Train Loss: 0.0803, Train Acc: 0.9701\n",
      "Val Loss: 0.1108, Val Acc: 0.9596\n",
      "EarlyStopping counter: 3 out of 5\n",
      "Epoch 11 of 500\n"
     ]
    },
    {
     "name": "stderr",
     "output_type": "stream",
     "text": [
      "100%|██████████| 82/82 [00:12<00:00,  6.35it/s]\n",
      "100%|██████████| 10/10 [00:01<00:00,  6.67it/s]\n",
      "  0%|          | 0/82 [00:00<?, ?it/s]"
     ]
    },
    {
     "name": "stdout",
     "output_type": "stream",
     "text": [
      "Train Loss: 0.0793, Train Acc: 0.9706\n",
      "Val Loss: 0.1119, Val Acc: 0.9582\n",
      "EarlyStopping counter: 4 out of 5\n",
      "Epoch 12 of 500\n"
     ]
    },
    {
     "name": "stderr",
     "output_type": "stream",
     "text": [
      "100%|██████████| 82/82 [00:13<00:00,  6.30it/s]\n",
      "100%|██████████| 10/10 [00:01<00:00,  6.23it/s]\n",
      "  0%|          | 0/82 [00:00<?, ?it/s]"
     ]
    },
    {
     "name": "stdout",
     "output_type": "stream",
     "text": [
      "Train Loss: 0.0848, Train Acc: 0.9675\n",
      "Val Loss: 0.1051, Val Acc: 0.9606\n",
      "Validation loss decreased (0.108351 --> 0.105138).  Saving model ...\n",
      "../IFBased_pjr_saved_model_ifbased_/IFBased_PJR_replay_500/2018-10/best_model_epoch_12.pt\n",
      "../IFBased_pjr_saved_optimizer_ifbased_/IFBased_PJR_replay_500/2018-10/best_optimizer_epoch_12.pt\n",
      "Epoch 13 of 500\n"
     ]
    },
    {
     "name": "stderr",
     "output_type": "stream",
     "text": [
      "100%|██████████| 82/82 [00:12<00:00,  6.33it/s]\n",
      "100%|██████████| 10/10 [00:01<00:00,  6.55it/s]\n",
      "  0%|          | 0/82 [00:00<?, ?it/s]"
     ]
    },
    {
     "name": "stdout",
     "output_type": "stream",
     "text": [
      "Train Loss: 0.0748, Train Acc: 0.9721\n",
      "Val Loss: 0.1085, Val Acc: 0.9610\n",
      "EarlyStopping counter: 1 out of 5\n",
      "Epoch 14 of 500\n"
     ]
    },
    {
     "name": "stderr",
     "output_type": "stream",
     "text": [
      "100%|██████████| 82/82 [00:13<00:00,  6.29it/s]\n",
      "100%|██████████| 10/10 [00:01<00:00,  6.98it/s]\n",
      "  0%|          | 0/82 [00:00<?, ?it/s]"
     ]
    },
    {
     "name": "stdout",
     "output_type": "stream",
     "text": [
      "Train Loss: 0.0734, Train Acc: 0.9729\n",
      "Val Loss: 0.1089, Val Acc: 0.9619\n",
      "EarlyStopping counter: 2 out of 5\n",
      "Epoch 15 of 500\n"
     ]
    },
    {
     "name": "stderr",
     "output_type": "stream",
     "text": [
      "100%|██████████| 82/82 [00:13<00:00,  6.27it/s]\n",
      "100%|██████████| 10/10 [00:01<00:00,  7.74it/s]\n",
      "  0%|          | 0/82 [00:00<?, ?it/s]"
     ]
    },
    {
     "name": "stdout",
     "output_type": "stream",
     "text": [
      "Train Loss: 0.0755, Train Acc: 0.9714\n",
      "Val Loss: 0.1164, Val Acc: 0.9558\n",
      "EarlyStopping counter: 3 out of 5\n",
      "Epoch 16 of 500\n"
     ]
    },
    {
     "name": "stderr",
     "output_type": "stream",
     "text": [
      "100%|██████████| 82/82 [00:12<00:00,  6.33it/s]\n",
      "100%|██████████| 10/10 [00:01<00:00,  7.33it/s]\n",
      "  0%|          | 0/82 [00:00<?, ?it/s]"
     ]
    },
    {
     "name": "stdout",
     "output_type": "stream",
     "text": [
      "Train Loss: 0.0717, Train Acc: 0.9732\n",
      "Val Loss: 0.1080, Val Acc: 0.9616\n",
      "EarlyStopping counter: 4 out of 5\n",
      "Epoch 17 of 500\n"
     ]
    },
    {
     "name": "stderr",
     "output_type": "stream",
     "text": [
      "100%|██████████| 82/82 [00:13<00:00,  6.24it/s]\n",
      "100%|██████████| 10/10 [00:01<00:00,  7.01it/s]\n",
      "  0%|          | 0/82 [00:00<?, ?it/s]"
     ]
    },
    {
     "name": "stdout",
     "output_type": "stream",
     "text": [
      "Train Loss: 0.0749, Train Acc: 0.9715\n",
      "Val Loss: 0.1047, Val Acc: 0.9617\n",
      "Validation loss decreased (0.105138 --> 0.104684).  Saving model ...\n",
      "../IFBased_pjr_saved_model_ifbased_/IFBased_PJR_replay_500/2018-10/best_model_epoch_17.pt\n",
      "../IFBased_pjr_saved_optimizer_ifbased_/IFBased_PJR_replay_500/2018-10/best_optimizer_epoch_17.pt\n",
      "Epoch 18 of 500\n"
     ]
    },
    {
     "name": "stderr",
     "output_type": "stream",
     "text": [
      "100%|██████████| 82/82 [00:13<00:00,  6.27it/s]\n",
      "100%|██████████| 10/10 [00:01<00:00,  7.94it/s]\n",
      "  0%|          | 0/82 [00:00<?, ?it/s]"
     ]
    },
    {
     "name": "stdout",
     "output_type": "stream",
     "text": [
      "Train Loss: 0.0719, Train Acc: 0.9729\n",
      "Val Loss: 0.1120, Val Acc: 0.9605\n",
      "EarlyStopping counter: 1 out of 5\n",
      "Epoch 19 of 500\n"
     ]
    },
    {
     "name": "stderr",
     "output_type": "stream",
     "text": [
      "100%|██████████| 82/82 [00:13<00:00,  6.29it/s]\n",
      "100%|██████████| 10/10 [00:01<00:00,  6.75it/s]\n",
      "  0%|          | 0/82 [00:00<?, ?it/s]"
     ]
    },
    {
     "name": "stdout",
     "output_type": "stream",
     "text": [
      "Train Loss: 0.0678, Train Acc: 0.9747\n",
      "Val Loss: 0.1147, Val Acc: 0.9597\n",
      "EarlyStopping counter: 2 out of 5\n",
      "Epoch 20 of 500\n"
     ]
    },
    {
     "name": "stderr",
     "output_type": "stream",
     "text": [
      "100%|██████████| 82/82 [00:12<00:00,  6.33it/s]\n",
      "100%|██████████| 10/10 [00:01<00:00,  7.98it/s]\n",
      "  0%|          | 0/82 [00:00<?, ?it/s]"
     ]
    },
    {
     "name": "stdout",
     "output_type": "stream",
     "text": [
      "Train Loss: 0.0696, Train Acc: 0.9738\n",
      "Val Loss: 0.1066, Val Acc: 0.9628\n",
      "EarlyStopping counter: 3 out of 5\n",
      "Epoch 21 of 500\n"
     ]
    },
    {
     "name": "stderr",
     "output_type": "stream",
     "text": [
      "100%|██████████| 82/82 [00:13<00:00,  6.24it/s]\n",
      "100%|██████████| 10/10 [00:01<00:00,  8.01it/s]\n",
      "  0%|          | 0/82 [00:00<?, ?it/s]"
     ]
    },
    {
     "name": "stdout",
     "output_type": "stream",
     "text": [
      "Train Loss: 0.0710, Train Acc: 0.9728\n",
      "Val Loss: 0.1124, Val Acc: 0.9603\n",
      "EarlyStopping counter: 4 out of 5\n",
      "Epoch 22 of 500\n"
     ]
    },
    {
     "name": "stderr",
     "output_type": "stream",
     "text": [
      "100%|██████████| 82/82 [00:12<00:00,  6.37it/s]\n",
      "100%|██████████| 10/10 [00:01<00:00,  6.74it/s]\n",
      "  0%|          | 0/10 [00:00<?, ?it/s]"
     ]
    },
    {
     "name": "stdout",
     "output_type": "stream",
     "text": [
      "Train Loss: 0.0727, Train Acc: 0.9723\n",
      "Val Loss: 0.1125, Val Acc: 0.9600\n",
      "EarlyStopping counter: 5 out of 5\n",
      "Early stopping\n",
      "Training time: 5.363 minutes\n",
      "loading best model ../IFBased_pjr_saved_model_ifbased_/IFBased_PJR_replay_500/2018-10/best_model_epoch_17.pt\n",
      "loading best optimizer ../IFBased_pjr_saved_optimizer_ifbased_/IFBased_PJR_replay_500/2018-10/best_optimizer_epoch_17.pt\n"
     ]
    },
    {
     "name": "stderr",
     "output_type": "stream",
     "text": [
      "100%|██████████| 10/10 [00:02<00:00,  4.67it/s]\n",
      "100%|██████████| 10/10 [00:02<00:00,  4.29it/s]\n"
     ]
    },
    {
     "name": "stdout",
     "output_type": "stream",
     "text": [
      "test accuracy 0.9636833488941192 and ROC-AUC 0.9629042405714767\n",
      "Elapsed time 89.05038710832596 mins.\n",
      "\n",
      "2023-01-10 23:40:31 Round 1 ...\n",
      "Current Task 2018-11 w/ 500 samples to Replay per Malware family.\n",
      "X_train (90000, 2381) Y_train (90000,) Y_tr_family (90000,)\n",
      "X_test (65006, 2381) Y_test (65006,) Y_te_family (65006,)\n",
      "2023-01-10 23:40:38 Standardizing ...\n",
      "replay samples of task 494994\n",
      "Task 2018-11 and #-of new samples stored 90000\n"
     ]
    },
    {
     "name": "stderr",
     "output_type": "stream",
     "text": [
      "\r",
      "  0%|          | 0/97 [00:00<?, ?it/s]"
     ]
    },
    {
     "name": "stdout",
     "output_type": "stream",
     "text": [
      "\n",
      "X_train (584994, 2381) Y_train (584994,)\n",
      "\n",
      "2023-01-10 23:54:31 Training ...\n",
      "Epoch 1 of 500\n"
     ]
    },
    {
     "name": "stderr",
     "output_type": "stream",
     "text": [
      "100%|██████████| 97/97 [00:20<00:00,  4.72it/s]\n",
      "100%|██████████| 11/11 [00:01<00:00,  6.89it/s]\n",
      "  0%|          | 0/97 [00:00<?, ?it/s]"
     ]
    },
    {
     "name": "stdout",
     "output_type": "stream",
     "text": [
      "Train Loss: 0.0855, Train Acc: 0.9692\n",
      "Val Loss: 0.1134, Val Acc: 0.9592\n",
      "Validation loss decreased (inf --> 0.113398).  Saving model ...\n",
      "../IFBased_pjr_saved_model_ifbased_/IFBased_PJR_replay_500/2018-11/best_model_epoch_1.pt\n",
      "../IFBased_pjr_saved_optimizer_ifbased_/IFBased_PJR_replay_500/2018-11/best_optimizer_epoch_1.pt\n",
      "Epoch 2 of 500\n"
     ]
    },
    {
     "name": "stderr",
     "output_type": "stream",
     "text": [
      "100%|██████████| 97/97 [00:16<00:00,  5.85it/s]\n",
      "100%|██████████| 11/11 [00:01<00:00,  8.64it/s]\n",
      "  0%|          | 0/97 [00:00<?, ?it/s]"
     ]
    },
    {
     "name": "stdout",
     "output_type": "stream",
     "text": [
      "Train Loss: 0.0839, Train Acc: 0.9691\n",
      "Val Loss: 0.1156, Val Acc: 0.9578\n",
      "EarlyStopping counter: 1 out of 5\n",
      "Epoch 3 of 500\n"
     ]
    },
    {
     "name": "stderr",
     "output_type": "stream",
     "text": [
      "100%|██████████| 97/97 [00:15<00:00,  6.34it/s]\n",
      "100%|██████████| 11/11 [00:01<00:00,  7.28it/s]\n",
      "  0%|          | 0/97 [00:00<?, ?it/s]"
     ]
    },
    {
     "name": "stdout",
     "output_type": "stream",
     "text": [
      "Train Loss: 0.0811, Train Acc: 0.9697\n",
      "Val Loss: 0.1238, Val Acc: 0.9521\n",
      "EarlyStopping counter: 2 out of 5\n",
      "Epoch 4 of 500\n"
     ]
    },
    {
     "name": "stderr",
     "output_type": "stream",
     "text": [
      " 68%|██████▊   | 66/97 [00:10<00:03,  7.97it/s]IOPub message rate exceeded.\n",
      "The notebook server will temporarily stop sending output\n",
      "to the client in order to avoid crashing it.\n",
      "To change this limit, set the config variable\n",
      "`--NotebookApp.iopub_msg_rate_limit`.\n",
      "\n",
      "Current values:\n",
      "NotebookApp.iopub_msg_rate_limit=1000.0 (msgs/sec)\n",
      "NotebookApp.rate_limit_window=3.0 (secs)\n",
      "\n"
     ]
    }
   ],
   "source": [
    "all_task_months = ['2018-01', '2018-02', '2018-03', '2018-04', '2018-05', '2018-06',\n",
    "                   '2018-07', '2018-08', '2018-09', '2018-10', '2018-11', '2018-12']\n",
    "\n",
    "data_dir = '../../month_based_processing_with_family_labels/'\n",
    "\n",
    "\n",
    "\n",
    "patience = 5\n",
    "replay_type = 'partial_joint_replay'\n",
    "\n",
    "\n",
    "\n",
    "num_exps = 1 #args.num_exps\n",
    "#task_month = args.task_month\n",
    "num_epoch = 500 #args.num_epoch\n",
    "batch_size = 6000 #args.batch_size\n",
    "#replay_portion = args.replay_portion\n",
    "num_samples_per_malware_family = 500\n",
    "\n",
    "exp_type = 'ifbased_' #{'', 'last', 'random', 'ifbased'}\n",
    "\n",
    "exp_seeds = [random.randint(1, 99999) for i in range(num_exps)]\n",
    "\n",
    "\n",
    "allexps_acc = {}\n",
    "allexps_rocauc = {}\n",
    "allexps_training_time = {}\n",
    "all_exps_best_epoch = {}\n",
    "\n",
    "mistaken_stats = {}\n",
    "\n",
    "cnt =  1    \n",
    "for exp in exp_seeds:\n",
    "    start_time = time.time()\n",
    "    use_cuda = True\n",
    "    print('Torch', torch.__version__, 'CUDA', torch.version.cuda)\n",
    "    use_cuda = use_cuda and torch.cuda.is_available()\n",
    "    device = torch.device(\"cuda\" if use_cuda else \"cpu\")\n",
    "    torch.manual_seed(exp)\n",
    "\n",
    "    model = Ember_MLP_Net()\n",
    "    \n",
    "    optimizer = torch.optim.SGD(model.parameters(), lr=0.01, momentum=0.9, weight_decay=0.000001)\n",
    "       \n",
    "    if torch.cuda.device_count() > 1:\n",
    "        print(\"Let's use\", torch.cuda.device_count(), \"GPUs!\")\n",
    "        model = nn.DataParallel(model)\n",
    "    \n",
    "    model = model.to(device)\n",
    "    print(f'Model has {count_parameters(model)/1000000}m parameters')    \n",
    "    criterion = nn.BCELoss()    \n",
    "\n",
    "    \n",
    "    stored_global_family_dict = defaultdict(list)\n",
    "    \n",
    "    standardization = StandardScaler()\n",
    "    standard_scaler = None\n",
    "    for task_month in range(len(all_task_months)):\n",
    "                \n",
    "        print(f'\\n{datetime.datetime.now().strftime(\"%Y-%m-%d %H:%M:%S\")} Round {cnt} ...')\n",
    "        task_start = time.time()\n",
    "        \n",
    "        #task_month = task_month\n",
    "        current_task = all_task_months[task_month]\n",
    "        task_months = all_task_months[:task_month+1]\n",
    "        print(f'Current Task {current_task} w/ {num_samples_per_malware_family} samples to Replay per Malware family.')\n",
    "\n",
    "\n",
    "        model_save_dir = '../IFBased_pjr_saved_model_' +\\\n",
    "                    str(exp_type) + '/IFBased_PJR_replay_' +\\\n",
    "                    str(num_samples_per_malware_family) + '/' + str(current_task) + '/'\n",
    "        create_parent_folder(model_save_dir)\n",
    "        \n",
    "        opt_save_path = '../IFBased_pjr_saved_optimizer_' +\\\n",
    "                    str(exp_type) + '/IFBased_PJR_replay_' +\\\n",
    "                    str(num_samples_per_malware_family) + '/' + str(current_task) + '/'\n",
    "        create_parent_folder(opt_save_path)\n",
    "        \n",
    "        \n",
    "        results_save_dir = './IFBased_saved_results_' +\\\n",
    "                    str(exp_type) + '/IFBased_PJR_replay_' +\\\n",
    "                    str(num_samples_per_malware_family) + '/' \n",
    "        create_parent_folder(results_save_dir)\n",
    "\n",
    "        \n",
    "        X_train, Y_train, Y_train_family = get_family_labeled_month_data(data_dir, current_task)\n",
    "        X_test, Y_test, Y_test_family = get_family_labeled_task_test_data(data_dir, task_months, mlp_net=True)\n",
    "        \n",
    "        \n",
    "        print(f'{datetime.datetime.now().strftime(\"%Y-%m-%d %H:%M:%S\")} Standardizing ...')\n",
    "        standard_scaler = standardization.partial_fit(X_train)\n",
    "\n",
    "        X_train = standard_scaler.transform(X_train)\n",
    "        X_test = standard_scaler.transform(X_test)\n",
    "\n",
    "        X_train, Y_train = np.array(X_train, np.float32), np.array(Y_train, np.int32)\n",
    "        X_test, Y_test = np.array(X_test, np.float32), np.array(Y_test, np.int32)        \n",
    "        \n",
    "        \n",
    "        # to debug\n",
    "        #X_train, Y_train, Y_train_family = X_train[:500], Y_train [:500], Y_train_family[:500]\n",
    "        #X_test, Y_test, Y_test_family = X_test[:50], Y_test[:50], Y_test_family[:50]\n",
    "        \n",
    "\n",
    "        if current_task == all_task_months[0]:\n",
    "            num_replay_samples = 0\n",
    "            stored_global_family_dict = make_family_based_dict(X_train, Y_train, Y_train_family,\\\n",
    "                                                                   current_task, stored_global_family_dict)\n",
    "        else:\n",
    "            num_replay_samples = sum([len(v) for k, v in stored_global_family_dict.items()])\n",
    "            print(f'replay samples of task {num_replay_samples}')\n",
    "            \n",
    "    \n",
    "            stored_global_family_dict = make_family_based_dict(X_train, Y_train, Y_train_family,\\\n",
    "                                                                   current_task, stored_global_family_dict)\n",
    "            X_train, Y_train, stored_global_family_dict =\\\n",
    "                get_replay_samples_IFBased(stored_global_family_dict, num_samples_per_malware_family)\n",
    "            \n",
    "        print()\n",
    "        print(f'X_train {X_train.shape} Y_train {Y_train.shape}')\n",
    "        print()\n",
    "        \n",
    "        '''\n",
    "        print(f'{datetime.datetime.now().strftime(\"%Y-%m-%d %H:%M:%S\")} Standardizing ...')\n",
    "        standard_scaler = standardization.partial_fit(X_train)\n",
    "\n",
    "        X_train = standard_scaler.transform(X_train)\n",
    "        X_test = standard_scaler.transform(X_test)\n",
    "\n",
    "        X_train, Y_train = np.array(X_train, np.float32), np.array(Y_train, np.int32)\n",
    "        X_test, Y_test = np.array(X_test, np.float32), np.array(Y_test, np.int32)        \n",
    "        '''        \n",
    "        \n",
    "        print(f'{datetime.datetime.now().strftime(\"%Y-%m-%d %H:%M:%S\")} Training ...')\n",
    "        task_training_time, epoch_ran, training_loss, validation_loss  =\\\n",
    "                                training_early_stopping(model, model_save_dir, opt_save_path,\\\n",
    "                                X_train, Y_train, X_test, Y_test, patience,\\\n",
    "                                batch_size, device, optimizer, num_epoch,\\\n",
    "                                 criterion, replay_type, current_task, exp, earlystopping=True)\n",
    "        \n",
    "        \n",
    "        \n",
    "        model = Ember_MLP_Net()\n",
    "        model = model.to(device)\n",
    "        #load the best model for this task\n",
    "        best_model_path = model_save_dir + os.listdir(model_save_dir)[0]\n",
    "        print(f'loading best model {best_model_path}')\n",
    "        model.load_state_dict(torch.load(best_model_path))\n",
    "        \n",
    "        \n",
    "        optimizer = torch.optim.SGD(model.parameters(), lr=0.01, momentum=0.9, weight_decay=0.000001)\n",
    "        best_optimizer = opt_save_path + os.listdir(opt_save_path)[0]\n",
    "        print(f'loading best optimizer {best_optimizer}')\n",
    "        optimizer.load_state_dict(torch.load(best_optimizer))\n",
    "        \n",
    "        \n",
    "        \n",
    "        y_preds, y_trues = training_final_score(model, X_train, Y_train, batch_size, device)\n",
    "        \n",
    "        \n",
    "        plt.figure(figsize=(8, 6))\n",
    "\n",
    "        save_file_name = str(task_month + 1) + '_trainingSampleScores.png'\n",
    "        sns.scatterplot(x=y_preds, y=[i for i in range(len(y_preds))],\\\n",
    "                        marker='+',  alpha=1.0, color='red')\n",
    "\n",
    "        plt.savefig('./scores_fig/' + save_file_name, bbox_inches='tight', dpi=1000);\n",
    "\n",
    "        \n",
    "        \n",
    "        acc, rocauc = testing_aucscore(model, X_test, Y_test, batch_size, device)\n",
    "        \n",
    "        \n",
    "        end_time = time.time()\n",
    "\n",
    "        print(f'Elapsed time {(end_time - start_time)/60} mins.')    \n",
    "        \n",
    "\n",
    "        task_end = time.time()\n",
    "        task_run_time = (task_end - task_start)/60\n",
    "        \n",
    "        \n",
    "        try:\n",
    "            allexps_acc[str(current_task)].append(acc)\n",
    "            allexps_rocauc[str(current_task)].append(rocauc)\n",
    "            allexps_training_time[str(current_task)].append(task_run_time)\n",
    "            all_exps_best_epoch[str(current_task)].append(epoch_ran)\n",
    "        except:\n",
    "            allexps_acc[str(current_task)] = [acc]\n",
    "            allexps_rocauc[str(current_task)] = [rocauc]\n",
    "            allexps_training_time[str(current_task)] = [task_run_time]\n",
    "            all_exps_best_epoch[str(current_task)] = [epoch_ran]\n",
    "        \n",
    "        \n",
    "\n",
    "        results_f = open(os.path.join(results_save_dir + '011023_ifnext2_' + str(num_samples_per_malware_family) + '_results.txt'), 'a')\n",
    "        result_string = '{}\\t{}\\t{}\\t{}\\t{}\\t{}\\t\\n'.format(current_task,epoch_ran, task_training_time, acc, rocauc, num_replay_samples)\n",
    "        results_f.write(result_string)\n",
    "        results_f.flush()\n",
    "        results_f.close()\n",
    "        \n",
    "    \n",
    "    end_time = time.time()\n",
    "    cnt += 1\n",
    "    print(f'Elapsed time {(end_time - start_time)/60} mins.')\n",
    "   \n"
   ]
  }
 ],
 "metadata": {
  "kernelspec": {
   "display_name": "PyTorch",
   "language": "python",
   "name": "pytorch"
  },
  "language_info": {
   "codemirror_mode": {
    "name": "ipython",
    "version": 3
   },
   "file_extension": ".py",
   "mimetype": "text/x-python",
   "name": "python",
   "nbconvert_exporter": "python",
   "pygments_lexer": "ipython3",
   "version": "3.7.9"
  }
 },
 "nbformat": 4,
 "nbformat_minor": 4
}
