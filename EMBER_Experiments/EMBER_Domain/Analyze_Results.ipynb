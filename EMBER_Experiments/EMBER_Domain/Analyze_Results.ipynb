{
 "cells": [
  {
   "cell_type": "code",
   "execution_count": 3,
   "id": "cf283e53",
   "metadata": {},
   "outputs": [],
   "source": [
    "import numpy as np"
   ]
  },
  {
   "cell_type": "code",
   "execution_count": 10,
   "id": "600836d2",
   "metadata": {},
   "outputs": [],
   "source": [
    "results_file = './saved_results/PJR_replay_1.0/PJR_acc_rocauc_tr_time_best_epoch_1.npz'\n",
    "results = np.load(results_file, allow_pickle=True)"
   ]
  },
  {
   "cell_type": "code",
   "execution_count": 15,
   "id": "736a8b97",
   "metadata": {},
   "outputs": [
    {
     "name": "stdout",
     "output_type": "stream",
     "text": [
      "Accuracy {'2018-01': [0.9218346253229974], '2018-02': [0.9394278821299328], '2018-03': [0.9432070562852973], '2018-04': [0.9573159099580313], '2018-05': [0.9580985915492958], '2018-06': [0.9597710601624947], '2018-07': [0.9623283817240603], '2018-08': [0.961882904682316], '2018-09': [0.9625140194978863], '2018-10': [0.9640039268443442], '2018-11': [0.9635879764944775], '2018-12': [0.9685891795323041]} \n",
      "\n",
      "and ROCAUC {'2018-01': [0.9794730392156863], '2018-02': [0.9858464120175797], '2018-03': [0.986499843364934], '2018-04': [0.9908984370204862], '2018-05': [0.9916232373495568], '2018-06': [0.9920307392897942], '2018-07': [0.9932663406467159], '2018-08': [0.9931048584962039], '2018-09': [0.9936209372738639], '2018-10': [0.9939147755184543], '2018-11': [0.9946698110472352], '2018-12': [0.9955782059196869]}\n"
     ]
    }
   ],
   "source": [
    "accuracy = results['accuracy']\n",
    "rocauc = results['rocauc']\n",
    "tr_time = results['tr_time']\n",
    "best_epochs = results['best_epochs']\n",
    "\n",
    "\n",
    "print(f'Accuracy {accuracy} \\n\\nand ROCAUC {rocauc}')"
   ]
  },
  {
   "cell_type": "code",
   "execution_count": 4,
   "id": "92c4e426",
   "metadata": {},
   "outputs": [],
   "source": [
    "def get_month_data(data_dir, month, train=True):\n",
    "    \n",
    "    if train:\n",
    "        data_dir = data_dir + str(month) + '/'\n",
    "        XY_train = np.load(data_dir + 'XY_train.npz')\n",
    "        X_tr, Y_tr = XY_train['X_train'], XY_train['Y_train']\n",
    "\n",
    "        return X_tr, Y_tr\n",
    "    else:\n",
    "        data_dir = data_dir + str(month) + '/'\n",
    "        XY_test = np.load(data_dir + 'XY_test.npz')\n",
    "        X_test, Y_test = XY_test['X_test'], XY_test['Y_test']\n",
    "\n",
    "\n",
    "\n",
    "def get_task_partial_joint_training_data(data_dir, task_months, replay_portion, mlp_net=False):\n",
    "    \n",
    "    #X_tr, Y_tr, X_val, Y_val = get_month_data(data_dir, task_months[-1])\n",
    "    X_tr, Y_tr = get_month_data(data_dir, task_months[-1])\n",
    "    print(f'Current Task month {task_months[-1]} data X {X_tr.shape} Y {Y_tr.shape}')\n",
    "    for month in task_months[:-1]:\n",
    "        #pre_X_tr, pre_Y_tr, pre_X_val, pre_Y_val = get_month_data(data_dir, month)\n",
    "        pre_X_tr, pre_Y_tr = get_month_data(data_dir, month)\n",
    "        pre_X_tr, pre_Y_tr = get_partial_data(pre_X_tr, pre_Y_tr, replay_portion)\n",
    "        \n",
    "        print(f'previous month {month} data X {pre_X_tr.shape} Y {pre_Y_tr.shape}')\n",
    "        \n",
    "        X_tr, Y_tr = np.concatenate((X_tr, pre_X_tr)), np.concatenate((Y_tr, pre_Y_tr))\n",
    "        #X_val, Y_val = np.concatenate((X_val, pre_X_val)), np.concatenate((Y_val, pre_Y_val))\n",
    "    \n",
    "    if not mlp_net:\n",
    "        X_train, Y_train  = reshape_features(X_tr, Y_tr)\n",
    "        X_valid, Y_valid = reshape_features(X_val, Y_val)\n",
    "    else:\n",
    "        X_train, Y_train  = X_tr, Y_tr\n",
    "        #X_valid, Y_valid = X_val, Y_val\n",
    "    print(f'X_train {X_train.shape} Y_train {Y_train.shape}\\n')\n",
    "    #print(f'X_valid {X_valid.shape} Y_valid {Y_valid.shape}\\n')\n",
    "    \n",
    "    #return X_train, Y_train, X_valid, Y_valid\n",
    "    return X_train, Y_train\n",
    "\n",
    "\n",
    "\n",
    "#pre_X_tr, pre_Y_tr = get_month_data(data_dir, month)\n",
    "\n",
    "#X_train, Y_train = get_task_partial_joint_training_data(data_dir, task_months, replay_portion, mlp_net=True)"
   ]
  },
  {
   "cell_type": "code",
   "execution_count": 5,
   "id": "bd58f94d",
   "metadata": {},
   "outputs": [],
   "source": [
    "data_dir = '../../../ember2018/month_based_processing/'\n",
    "\n",
    "all_task_months = ['2018-01', '2018-02', '2018-03', '2018-04', '2018-05', '2018-06',\n",
    "                   '2018-07', '2018-08', '2018-09', '2018-10', '2018-11', '2018-12']\n",
    "\n",
    "month = all_task_months[0]\n",
    "pre_X_tr, pre_Y_tr = get_month_data(data_dir, month)\n"
   ]
  },
  {
   "cell_type": "code",
   "execution_count": 9,
   "id": "cd9ca580",
   "metadata": {},
   "outputs": [
    {
     "data": {
      "text/plain": [
       "array([1., 1., 0., ..., 0., 1., 0.], dtype=float32)"
      ]
     },
     "execution_count": 9,
     "metadata": {},
     "output_type": "execute_result"
    }
   ],
   "source": [
    "pre_Y_tr"
   ]
  },
  {
   "cell_type": "code",
   "execution_count": 16,
   "id": "004ca63e",
   "metadata": {},
   "outputs": [
    {
     "data": {
      "text/plain": [
       "14.0"
      ]
     },
     "execution_count": 16,
     "metadata": {},
     "output_type": "execute_result"
    }
   ],
   "source": [
    "26495 - np.ceil(29423 * 0.9)"
   ]
  },
  {
   "cell_type": "code",
   "execution_count": 12,
   "id": "fc465537",
   "metadata": {},
   "outputs": [
    {
     "data": {
      "text/plain": [
       "(26495, 29227)"
      ]
     },
     "execution_count": 12,
     "metadata": {},
     "output_type": "execute_result"
    }
   ],
   "source": [
    "len(np.where(pre_Y_tr == 0)[0]), len(np.where(pre_Y_tr == 1)[0])"
   ]
  }
 ],
 "metadata": {
  "kernelspec": {
   "display_name": "PyTorch",
   "language": "python",
   "name": "pytorch"
  },
  "language_info": {
   "codemirror_mode": {
    "name": "ipython",
    "version": 3
   },
   "file_extension": ".py",
   "mimetype": "text/x-python",
   "name": "python",
   "nbconvert_exporter": "python",
   "pygments_lexer": "ipython3",
   "version": "3.7.9"
  }
 },
 "nbformat": 4,
 "nbformat_minor": 5
}
