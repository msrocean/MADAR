{
 "cells": [
  {
   "cell_type": "code",
   "execution_count": 46,
   "metadata": {},
   "outputs": [],
   "source": [
    "import numpy as np\n",
    "import matplotlib.pyplot as plt\n",
    "import scipy as stats\n",
    "import scipy as s\n",
    "from scipy import stats\n",
    "# import seaborn as sns\n",
    "plt.rcParams['font.size'] = 18\n",
    "#plt.rcParams['font.family'] = \"serif\"\n",
    "tdir = 'in'\n",
    "major = 5.0\n",
    "minor = 3.0\n",
    "plt.rcParams['xtick.direction'] = tdir\n",
    "plt.rcParams['ytick.direction'] = tdir\n",
    "plt.rcParams['xtick.major.size'] = major\n",
    "plt.rcParams['xtick.minor.size'] = minor\n",
    "plt.rcParams['ytick.major.size'] = major\n",
    "plt.rcParams['ytick.minor.size'] = minor"
   ]
  },
  {
   "cell_type": "code",
   "execution_count": 7,
   "metadata": {},
   "outputs": [
    {
     "name": "stdout",
     "output_type": "stream",
     "text": [
      "month 2018-01\t\tpre_Y_tr (55722,)\n",
      "month 2018-02\t\tpre_Y_tr (48723,)\n",
      "month 2018-03\t\tpre_Y_tr (37372,)\n",
      "month 2018-04\t\tpre_Y_tr (46873,)\n",
      "month 2018-05\t\tpre_Y_tr (41320,)\n",
      "month 2018-06\t\tpre_Y_tr (43560,)\n",
      "month 2018-07\t\tpre_Y_tr (46278,)\n",
      "month 2018-08\t\tpre_Y_tr (40882,)\n",
      "month 2018-09\t\tpre_Y_tr (56492,)\n",
      "month 2018-10\t\tpre_Y_tr (77772,)\n",
      "month 2018-11\t\tpre_Y_tr (90000,)\n",
      "month 2018-12\t\tpre_Y_tr (90000,)\n",
      "total samples 674994\n"
     ]
    }
   ],
   "source": [
    "def get_month_data(data_dir, month, train=True):\n",
    "    \n",
    "    if train:\n",
    "        data_dir = data_dir + str(month) + '/'\n",
    "        XY_train = np.load(data_dir + 'XY_train.npz')\n",
    "        X_tr, Y_tr = XY_train['X_train'], XY_train['Y_train']\n",
    "        \n",
    "        return np.array(X_tr), np.array(Y_tr)\n",
    "    else:\n",
    "        data_dir = data_dir + str(month) + '/'\n",
    "        XY_test = np.load(data_dir + 'XY_test.npz')\n",
    "        X_test, Y_test = XY_test['X_test'], XY_test['Y_test']\n",
    "\n",
    "        return np.array(X_test), np.array(Y_test) \n",
    "    \n",
    "all_task_months = ['2018-01', '2018-02', '2018-03', '2018-04', '2018-05', '2018-06',\n",
    "                   '2018-07', '2018-08', '2018-09', '2018-10', '2018-11', '2018-12']\n",
    "\n",
    "\n",
    "cnt_samples = 0\n",
    "for month in all_task_months:\n",
    "    pre_X_tr, pre_Y_tr = get_month_data('../../month_based_processing_with_family_labels/', month)\n",
    "    \n",
    "    print(f'month {month}\\t\\tpre_Y_tr {pre_Y_tr.shape}')\n",
    "    cnt_samples += len(pre_Y_tr)\n",
    "print(f'total samples {cnt_samples}')"
   ]
  },
  {
   "cell_type": "code",
   "execution_count": 64,
   "metadata": {
    "scrolled": true
   },
   "outputs": [],
   "source": [
    "def get_average_all_exps(result_dict, get_exps_min=False):\n",
    "    \n",
    "    multiexps = {}\n",
    "    for k, runs in result_dict.items():\n",
    "        #print(k)\n",
    "        #for runs in precs_dict[k]:\n",
    "        #print(runs)\n",
    "        for ind, run in enumerate(runs):\n",
    "            #print(run)\n",
    "            try:\n",
    "                if ind in multiexps.keys():\n",
    "                    multiexps[ind].append(run)\n",
    "                else:\n",
    "                    multiexps[ind] = [run]\n",
    "            except: continue\n",
    "\n",
    "\n",
    "    exps_mean = []\n",
    "    exps_min = []\n",
    "    for exp in multiexps.keys():\n",
    "        exps_mean.append(np.mean(multiexps[exp]))\n",
    "        exps_min.append(np.min(multiexps[exp]))\n",
    "        #print(np.mean(multiexps[exp]), np.std(multiexps[exp]))\n",
    "\n",
    "    assert len(exps_mean) == len(exps_min)\n",
    "\n",
    "    #print(f'Mean {np.mean(exps_mean)* 100:.2f}\\u00B1{np.std(exps_mean)* 100:.2f}')\n",
    "    #print(f'Min {np.mean(exps_min)* 100:.2f}\\u00B1{np.std(exps_min)* 100:.2f}')\n",
    "    \n",
    "    if get_exps_min:\n",
    "        return exps_mean, exps_min\n",
    "    else:\n",
    "        return exps_mean \n",
    "    \n",
    "    \n",
    "    \n",
    "def V2_ifs_results(scenario, replay_config, ifs_option='ratio', joint=False,\n",
    "                cnt_rate=0.1, anomaly_perct=0.5, memory_budget=1000):\n",
    "\n",
    "    target_classes = 100\n",
    "    \n",
    "    results_dir = './Submission_Domain/'\n",
    "\n",
    "    if replay_config == 'grs':\n",
    "        if joint:\n",
    "            result_file = str(replay_config)  + '_joint_results.txt'\n",
    "        else:\n",
    "            result_file = str(replay_config)  + '_' +\\\n",
    "                    str(memory_budget)  + '_results.txt'\n",
    "    elif replay_config == 'ifs':\n",
    "        result_file = 'ifs_' + str(ifs_option) + '_' + str(memory_budget) + '_results.txt'\n",
    "    else:\n",
    "        result_file = str(replay_config)  + '_' +\\\n",
    "                    str(memory_budget)  + '_results.txt'\n",
    "\n",
    "        \n",
    "    result_path = results_dir + result_file \n",
    "    print(result_path)\n",
    "    \n",
    "    accs_dict = {}\n",
    "    precs_dict = {}\n",
    "    recalls_dict = {}\n",
    "    f1_dict = {}\n",
    "\n",
    "    with open(result_path) as f:\n",
    "            lines = f.readlines()\n",
    "            #print(lines)\n",
    "            for line in lines:\n",
    "                #print(line)\n",
    "                infos = line.split('\\t')\n",
    "                task = infos[0]\n",
    "                #print(int(task))\n",
    "                acc, prec, recal, f1 = float(infos[1]), float(infos[2]), float(infos[3]), float(infos[4])\n",
    "\n",
    "                if task in accs_dict.keys():\n",
    "                    accs_dict[task].append(acc)\n",
    "                    precs_dict[task].append(prec)\n",
    "                    recalls_dict[task].append(recal)\n",
    "                    f1_dict[task].append(f1)\n",
    "                else:\n",
    "                    accs_dict[task] = [acc]\n",
    "                    precs_dict[task] = [prec]\n",
    "                    recalls_dict[task] = [recal]\n",
    "                    f1_dict[task] = [f1]\n",
    "\n",
    "    #print(accs_dict)\n",
    "    \n",
    "    #accs_all_task = []\n",
    "    accs_all = get_average_all_exps(accs_dict, get_exps_min=False)\n",
    "    precs_all, precs_all_min = get_average_all_exps(precs_dict, get_exps_min=True)\n",
    "    \n",
    "    recalls_all =get_average_all_exps(recalls_dict, get_exps_min=False)\n",
    "    f1_all = get_average_all_exps(f1_dict, get_exps_min=False)\n",
    "    \n",
    "    \n",
    "    precs_all_task = []\n",
    "    f1_all_task = []\n",
    "    for k, v in precs_dict.items():\n",
    "        precs_all_task.append(v)\n",
    "        f1_all_task.append(f1_dict[k])\n",
    "        \n",
    "\n",
    "    #print()\n",
    "    if replay_config == 'grs':\n",
    "        if joint:\n",
    "            print(f'\\t\\t {str(replay_config)}-Joint \\n#################\\t###################\\t###################\\t###################\\nprec   {np.mean(precs_all)* 100:.2f}\\u00B1{np.std(precs_all) * 100:.2f} \\tprec-min\\t{np.mean(precs_all_min)* 100:.2f}\\u00B1{np.std(precs_all_min) * 100:.2f} \\trecall\\t {np.mean(recalls_all)* 100:.2f}\\u00B1{np.std(recalls_all) * 100:.2f} \\tf1\\t{np.mean(f1_all)* 100:.2f}\\u00B1{np.std(f1_all) * 100:.2f} \\n#################\\t###################\\t###################\\t###################')\n",
    "        else:\n",
    "            print(f'\\t\\t {str(replay_config)}-{str(memory_budget)}\\n#################\\t###################\\t###################\\t###################\\nprec   {np.mean(precs_all)* 100:.2f}\\u00B1{np.std(precs_all) * 100:.2f} \\tprec-min\\t{np.mean(precs_all_min)* 100:.2f}\\u00B1{np.std(precs_all_min) * 100:.2f} \\trecall\\t {np.mean(recalls_all)* 100:.2f}\\u00B1{np.std(recalls_all) * 100:.2f} \\tf1\\t{np.mean(f1_all)* 100:.2f}\\u00B1{np.std(f1_all) * 100:.2f} \\n#################\\t###################\\t###################\\t###################')\n",
    "    if replay_config == 'ifs':\n",
    "        print(f'\\t\\t {str(replay_config)}-{str(ifs_option)}-{str(memory_budget)}\\n#################\\t###################\\t###################\\t###################\\nprec   {np.mean(precs_all)* 100:.2f}\\u00B1{np.std(precs_all) * 100:.2f} \\tprec-min\\t{np.mean(precs_all_min)* 100:.2f}\\u00B1{np.std(precs_all_min) * 100:.2f} \\trecall\\t {np.mean(recalls_all)* 100:.2f}\\u00B1{np.std(recalls_all) * 100:.2f} \\tf1\\t{np.mean(f1_all)* 100:.2f}\\u00B1{np.std(f1_all) * 100:.2f} \\n#################\\t###################\\t###################\\t###################')\n",
    "    \n",
    "    print()\n",
    "    return  np.array(precs_all_task), np.array(accs_all), np.array(precs_all), np.array(recalls_all), np.array(f1_all_task), np.array(f1_all)\n",
    "\n",
    "\n",
    "def ifs_results(scenario, replay_config, ifs_option='ratio', joint=False,\n",
    "                cnt_rate=0.1, anomaly_perct=0.5, min_samples=1, goodware_ifs=False, memory_budget=1000):\n",
    "\n",
    "    #target_classes = 100\n",
    "    \n",
    "    results_dir = './Submission_Domain/'\n",
    "\n",
    "    if replay_config == 'grs':\n",
    "        if joint:\n",
    "            result_file = str(replay_config)  + '_joint_results.txt'\n",
    "        else:\n",
    "            result_file = str(replay_config)  + '_' +\\\n",
    "                    str(memory_budget)  + '_results.txt'\n",
    "            \n",
    "    elif replay_config == 'ifs':\n",
    "        if goodware_ifs:\n",
    "            if min_samples > 1:\n",
    "                result_file = 'ifs_good_' + str(ifs_option) + '_' + str(min_samples) + '_' + str(memory_budget) + '_results.txt'\n",
    "            else:\n",
    "                result_file = 'ifs_good_' + str(ifs_option) + '_' + str(memory_budget) + '_results.txt'\n",
    "        else:\n",
    "            if min_samples > 1:\n",
    "                result_file = 'ifs_' + str(ifs_option) + '_' + str(min_samples) + '_' + str(memory_budget) + '_results.txt'\n",
    "            else:\n",
    "                result_file = 'ifs_' + str(ifs_option) + '_' + str(memory_budget) + '_results.txt'\n",
    "\n",
    "    elif replay_config == 'aws':\n",
    "        if goodware_ifs:\n",
    "            if min_samples > 1:\n",
    "                result_file = 'aws_good_' + str(ifs_option) + '_' + str(min_samples) + '_' + str(memory_budget) + '_results.txt'\n",
    "            else:\n",
    "                result_file = 'aws_good_' + str(ifs_option) + '_' + str(memory_budget) + '_results.txt'\n",
    "        else:\n",
    "            if min_samples > 1:\n",
    "                result_file = 'aws_' + str(ifs_option) + '_' + str(min_samples) + '_' + str(memory_budget) + '_results.txt'\n",
    "            else:\n",
    "                result_file = 'aws_' + str(ifs_option) + '_' + str(memory_budget) + '_results.txt'\n",
    "\n",
    "        \n",
    "    else:\n",
    "        result_file = str(replay_config)  + '_' +\\\n",
    "                    str(memory_budget)  + '_results.txt'\n",
    "\n",
    "        \n",
    "    result_path = results_dir + result_file \n",
    "    #print(result_path)\n",
    "    \n",
    "    accs_dict = {}\n",
    "    precs_dict = {}\n",
    "    recalls_dict = {}\n",
    "    f1_dict = {}\n",
    "\n",
    "    with open(result_path) as f:\n",
    "            lines = f.readlines()\n",
    "            #print(lines)\n",
    "            for line in lines:\n",
    "                #print(line)\n",
    "                infos = line.split('\\t')\n",
    "                #print(infos)\n",
    "                task = infos[0]\n",
    "                #print(int(task))\n",
    "                acc, prec, recal, f1 = float(infos[1]), float(infos[2]), float(infos[3]), float(infos[4])\n",
    "\n",
    "                if task in accs_dict.keys():\n",
    "                    accs_dict[task].append(acc)\n",
    "                    precs_dict[task].append(prec)\n",
    "                    recalls_dict[task].append(recal)\n",
    "                    f1_dict[task].append(f1)\n",
    "                else:\n",
    "                    accs_dict[task] = [acc]\n",
    "                    precs_dict[task] = [prec]\n",
    "                    recalls_dict[task] = [recal]\n",
    "                    f1_dict[task] = [f1]\n",
    "\n",
    "    #print(accs_dict)\n",
    "    \n",
    "    #accs_all_task = []\n",
    "    accs_all = get_average_all_exps(accs_dict, get_exps_min=False)\n",
    "    precs_all, precs_all_min = get_average_all_exps(precs_dict, get_exps_min=True)\n",
    "    \n",
    "    recalls_all =get_average_all_exps(recalls_dict, get_exps_min=False)\n",
    "    f1_all = get_average_all_exps(f1_dict, get_exps_min=False)\n",
    "    \n",
    "    \n",
    "    precs_all_task = []\n",
    "    f1_all_task = []\n",
    "    for k, v in precs_dict.items():\n",
    "        precs_all_task.append(v)\n",
    "        f1_all_task.append(f1_dict[k])\n",
    "        \n",
    "\n",
    "    #print()\n",
    "    if replay_config == 'grs':\n",
    "        if joint:\n",
    "            #print(f'\\t\\t {str(replay_config)}-Joint \\n#################\\t###################\\t###################\\t###################\\nprec   {np.mean(precs_all)* 100:.2f}\\u00B1{np.std(precs_all) * 100:.2f} \\tprec-min\\t{np.mean(precs_all_min)* 100:.2f}\\u00B1{np.std(precs_all_min) * 100:.2f} \\trecall\\t {np.mean(recalls_all)* 100:.2f}\\u00B1{np.std(recalls_all) * 100:.2f} \\tf1\\t{np.mean(f1_all)* 100:.2f}\\u00B1{np.std(f1_all) * 100:.2f} \\n#################\\t###################\\t###################\\t###################')\n",
    "            print(f'\\t {str(replay_config)}-Joint\\tprec-min\\t{np.mean(precs_all_min)* 100:.1f}$\\pm${np.std(precs_all_min) * 100:.1f}')\n",
    "        else:\n",
    "            print(f'\\t {str(replay_config)}-{str(memory_budget)}\\tprec-min\\t{np.mean(precs_all_min)* 100:.1f}$\\pm${np.std(precs_all_min) * 100:.1f}')\n",
    "            #print(f'\\t\\t {str(replay_config)}-{str(memory_budget)}\\n#################\\t###################\\t###################\\t###################\\nprec   {np.mean(precs_all)* 100:.2f}\\u00B1{np.std(precs_all) * 100:.2f} \\tprec-min\\t{np.mean(precs_all_min)* 100:.2f}\\u00B1{np.std(precs_all_min) * 100:.2f} \\trecall\\t {np.mean(recalls_all)* 100:.2f}\\u00B1{np.std(recalls_all) * 100:.2f} \\tf1\\t{np.mean(f1_all)* 100:.2f}\\u00B1{np.std(f1_all) * 100:.2f} \\n#################\\t###################\\t###################\\t###################')\n",
    "    \n",
    "    if replay_config == 'ifs':\n",
    "        if goodware_ifs:\n",
    "            if min_samples > 1:\n",
    "                print(f'\\tGood-{str(replay_config)}-{str(ifs_option)}-{str(memory_budget)}-{str(min_samples)}\\tprec\\t{np.mean(precs_all)* 100:.1f}$\\pm${np.std(precs_all) * 100:.1f}\\tprec-min\\t{np.mean(precs_all_min)* 100:.1f}$\\pm${np.std(precs_all_min) * 100:.1f}\\n')\n",
    "            else:\n",
    "                #print(f'\\t\\t {str(replay_config)}-{str(ifs_option)}-{str(memory_budget)}\\n#################\\t###################\\t###################\\t###################\\nprec   {np.mean(precs_all)* 100:.2f}\\u00B1{np.std(precs_all) * 100:.2f} \\tprec-min\\t{np.mean(precs_all_min)* 100:.2f}\\u00B1{np.std(precs_all_min) * 100:.2f} \\trecall\\t {np.mean(recalls_all)* 100:.2f}\\u00B1{np.std(recalls_all) * 100:.2f} \\tf1\\t{np.mean(f1_all)* 100:.2f}\\u00B1{np.std(f1_all) * 100:.2f} \\n#################\\t###################\\t###################\\t###################')\n",
    "                print(f'\\tGood-{str(replay_config)}-{str(ifs_option)}-{str(memory_budget)}\\tprec\\t{np.mean(precs_all)* 100:.1f}$\\pm${np.std(precs_all) * 100:.1f}\\tprec-min\\t{np.mean(precs_all_min)* 100:.1f}$\\pm${np.std(precs_all_min) * 100:.1f}\\n')\n",
    "                #print(f'\\t{str(replay_config)}-{str(ifs_option)}-{str(memory_budget)}\\tprec-min\\t{np.mean(precs_all_min)* 100:.1f}$\\pm${np.std(precs_all_min) * 100:.1f}****\\n')\n",
    "        else:\n",
    "            if min_samples > 1:\n",
    "                print(f'\\t{str(replay_config)}-{str(ifs_option)}-{str(memory_budget)}-{str(min_samples)}\\tprec\\t{np.mean(precs_all)* 100:.1f}$\\pm${np.std(precs_all) * 100:.1f}\\tprec-min\\t{np.mean(precs_all_min)* 100:.1f}$\\pm${np.std(precs_all_min) * 100:.1f}\\n')\n",
    "            else:\n",
    "                #print(f'\\t\\t {str(replay_config)}-{str(ifs_option)}-{str(memory_budget)}\\n#################\\t###################\\t###################\\t###################\\nprec   {np.mean(precs_all)* 100:.2f}\\u00B1{np.std(precs_all) * 100:.2f} \\tprec-min\\t{np.mean(precs_all_min)* 100:.2f}\\u00B1{np.std(precs_all_min) * 100:.2f} \\trecall\\t {np.mean(recalls_all)* 100:.2f}\\u00B1{np.std(recalls_all) * 100:.2f} \\tf1\\t{np.mean(f1_all)* 100:.2f}\\u00B1{np.std(f1_all) * 100:.2f} \\n#################\\t###################\\t###################\\t###################')\n",
    "                print(f'\\t{str(replay_config)}-{str(ifs_option)}-{str(memory_budget)}\\tprec\\t{np.mean(precs_all)* 100:.1f}$\\pm${np.std(precs_all) * 100:.1f}\\tprec-min\\t{np.mean(precs_all_min)* 100:.1f}$\\pm${np.std(precs_all_min) * 100:.1f}\\n')\n",
    "                #print(f'\\t{str(replay_config)}-{str(ifs_option)}-{str(memory_budget)}\\tprec-min\\t{np.mean(precs_all_min)* 100:.1f}$\\pm${np.std(precs_all_min) * 100:.1f}****\\n')\n",
    "    if replay_config == 'aws':\n",
    "        if goodware_ifs:\n",
    "            if min_samples > 1:\n",
    "                print(f'\\tGood-{str(replay_config)}-{str(ifs_option)}-{str(memory_budget)}-{str(min_samples)}\\tprec\\t{np.mean(precs_all)* 100:.1f}$\\pm${np.std(precs_all) * 100:.1f}\\tprec-min\\t{np.mean(precs_all_min)* 100:.1f}$\\pm${np.std(precs_all_min) * 100:.1f}\\n')\n",
    "            else:\n",
    "                #print(f'\\t\\t {str(replay_config)}-{str(ifs_option)}-{str(memory_budget)}\\n#################\\t###################\\t###################\\t###################\\nprec   {np.mean(precs_all)* 100:.2f}\\u00B1{np.std(precs_all) * 100:.2f} \\tprec-min\\t{np.mean(precs_all_min)* 100:.2f}\\u00B1{np.std(precs_all_min) * 100:.2f} \\trecall\\t {np.mean(recalls_all)* 100:.2f}\\u00B1{np.std(recalls_all) * 100:.2f} \\tf1\\t{np.mean(f1_all)* 100:.2f}\\u00B1{np.std(f1_all) * 100:.2f} \\n#################\\t###################\\t###################\\t###################')\n",
    "                print(f'\\tGood-{str(replay_config)}-{str(ifs_option)}-{str(memory_budget)}\\tprec\\t{np.mean(precs_all)* 100:.1f}$\\pm${np.std(precs_all) * 100:.1f}\\tprec-min\\t{np.mean(precs_all_min)* 100:.1f}$\\pm${np.std(precs_all_min) * 100:.1f}\\n')\n",
    "                #print(f'\\t{str(replay_config)}-{str(ifs_option)}-{str(memory_budget)}\\tprec-min\\t{np.mean(precs_all_min)* 100:.1f}$\\pm${np.std(precs_all_min) * 100:.1f}****\\n')\n",
    "        else:\n",
    "            if min_samples > 1:\n",
    "                print(f'\\t{str(replay_config)}-{str(ifs_option)}-{str(memory_budget)}-{str(min_samples)}\\tprec\\t{np.mean(precs_all)* 100:.1f}$\\pm${np.std(precs_all) * 100:.1f}\\tprec-min\\t{np.mean(precs_all_min)* 100:.1f}$\\pm${np.std(precs_all_min) * 100:.1f}\\n')\n",
    "            else:\n",
    "                #print(f'\\t\\t {str(replay_config)}-{str(ifs_option)}-{str(memory_budget)}\\n#################\\t###################\\t###################\\t###################\\nprec   {np.mean(precs_all)* 100:.2f}\\u00B1{np.std(precs_all) * 100:.2f} \\tprec-min\\t{np.mean(precs_all_min)* 100:.2f}\\u00B1{np.std(precs_all_min) * 100:.2f} \\trecall\\t {np.mean(recalls_all)* 100:.2f}\\u00B1{np.std(recalls_all) * 100:.2f} \\tf1\\t{np.mean(f1_all)* 100:.2f}\\u00B1{np.std(f1_all) * 100:.2f} \\n#################\\t###################\\t###################\\t###################')\n",
    "                print(f'\\t{str(replay_config)}-{str(ifs_option)}-{str(memory_budget)}\\tprec\\t{np.mean(precs_all)* 100:.1f}$\\pm${np.std(precs_all) * 100:.1f}\\tprec-min\\t{np.mean(precs_all_min)* 100:.1f}$\\pm${np.std(precs_all_min) * 100:.1f}\\n')\n",
    "                #print(f'\\t{str(replay_config)}-{str(ifs_option)}-{str(memory_budget)}\\tprec-min\\t{np.mean(precs_all_min)* 100:.1f}$\\pm${np.std(precs_all_min) * 100:.1f}****\\n')\n",
    "    #print()\n",
    "    \n",
    "    \n",
    "    return  np.array(precs_all_task), np.array(accs_all), np.array(precs_all), np.array(recalls_all), np.array(f1_all_task), np.array(f1_all)\n",
    "\n",
    "\n",
    "\n",
    "\n",
    "# scenario, replay_config, joint=False,\n",
    "#                 cnt_rate=0.1, anomaly_perct=0.5, memory_budget=1000\n",
    "\n",
    "# grs_joint, _, _, _, _, _ = ifs_results('domain', replay_config='grs', joint=True) \n",
    "\n",
    "\n",
    "# grs_1K, _, _, _, _, _ = ifs_results('domain', replay_config='grs', memory_budget=1000)\n",
    "# grs_10K, _, _, _, _, _ = ifs_results('domain', replay_config='grs', memory_budget=10000)\n",
    "# grs_50K, _, _, _, _, _ = ifs_results('domain', replay_config='grs', memory_budget=50000)\n",
    "# grs_100K, _, _, _, _, _ = ifs_results('domain', replay_config='grs', memory_budget=100000)\n",
    "# grs_150K, _, _, _, _, _ = ifs_results('domain', replay_config='grs', memory_budget=150000)\n",
    "# grs_200K, _, _, _, _, _ = ifs_results('domain', replay_config='grs', memory_budget=200000)\n",
    "# grs_250K, _, _, _, _, _ = ifs_results('domain', replay_config='grs', memory_budget=250000)\n",
    "# grs_300K, _, _, _, _, _ = ifs_results('domain', replay_config='grs', memory_budget=300000)\n",
    "# grs_350K, _, _, _, _, _ = ifs_results('domain', replay_config='grs', memory_budget=350000)\n",
    "# grs_400K, _, _, _, _, _ = ifs_results('domain', replay_config='grs', memory_budget=400000);"
   ]
  },
  {
   "cell_type": "code",
   "execution_count": 49,
   "metadata": {},
   "outputs": [
    {
     "name": "stdout",
     "output_type": "stream",
     "text": [
      "\tifs-ratio-1000\tprec\t93.7$\\pm$0.1\tprec-min\t92.6$\\pm$0.1\n",
      "\n",
      "\tifs-ratio-10000\tprec\t94.7$\\pm$0.1\tprec-min\t94.1$\\pm$0.1\n",
      "\n",
      "\tifs-ratio-50000\tprec\t95.4$\\pm$0.1\tprec-min\t94.6$\\pm$0.3\n",
      "\n",
      "\tifs-ratio-100000\tprec\t95.8$\\pm$0.0\tprec-min\t94.3$\\pm$0.0\n",
      "\n",
      "\tifs-ratio-150000\tprec\t96.1$\\pm$0.0\tprec-min\t94.8$\\pm$0.4\n",
      "\n",
      "\tifs-ratio-200000\tprec\t96.0$\\pm$0.1\tprec-min\t94.3$\\pm$0.1\n",
      "\n",
      "\tifs-ratio-250000\tprec\t96.1$\\pm$0.0\tprec-min\t94.4$\\pm$0.5\n",
      "\n",
      "\tifs-ratio-300000\tprec\t96.1$\\pm$0.0\tprec-min\t94.7$\\pm$0.1\n",
      "\n",
      "\tifs-ratio-350000\tprec\t96.3$\\pm$0.0\tprec-min\t95.3$\\pm$0.1\n",
      "\n",
      "\tifs-ratio-400000\tprec\t96.1$\\pm$0.0\tprec-min\t94.0$\\pm$0.0\n",
      "\n"
     ]
    }
   ],
   "source": [
    "ifs_1K, _, _, _, _, _ = ifs_results('domain',  replay_config='ifs', ifs_option='ratio', memory_budget=1000)\n",
    "ifs_10K, _, _, _, _, _ = ifs_results('domain',  replay_config='ifs', ifs_option='ratio', memory_budget=10000)\n",
    "ifs_50K, _, _, _, _, _ = ifs_results('domain',  replay_config='ifs', ifs_option='ratio', memory_budget=50000)\n",
    "ifs_100K, _, _, _, _, _ = ifs_results('domain', replay_config='ifs', ifs_option='ratio', memory_budget=100000)\n",
    "ifs_150K, _, _, _, _, _ = ifs_results('domain', replay_config='ifs', ifs_option='ratio', memory_budget=150000)\n",
    "ifs_200K, _, _, _, _, _ = ifs_results('domain', replay_config='ifs', ifs_option='ratio', memory_budget=200000)\n",
    "ifs_250K, _, _, _, _, _ = ifs_results('domain', replay_config='ifs', ifs_option='ratio', memory_budget=250000)\n",
    "ifs_300K, _, _, _, _, _ = ifs_results('domain', replay_config='ifs', ifs_option='ratio', memory_budget=300000)\n",
    "ifs_350K, _, _, _, _, _ = ifs_results('domain', replay_config='ifs', ifs_option='ratio', memory_budget=350000)\n",
    "ifs_400K, _, _, _, _, _ = ifs_results('domain', replay_config='ifs', ifs_option='ratio', memory_budget=400000);"
   ]
  },
  {
   "cell_type": "code",
   "execution_count": 47,
   "metadata": {},
   "outputs": [
    {
     "name": "stdout",
     "output_type": "stream",
     "text": [
      "\tifs-uniform-1000\tprec\t93.6$\\pm$0.2\tprec-min\t92.5$\\pm$0.2\n",
      "\n",
      "\tifs-uniform-10000\tprec\t94.0$\\pm$0.2\tprec-min\t93.0$\\pm$0.2\n",
      "\n",
      "\tifs-uniform-50000\tprec\t95.1$\\pm$0.1\tprec-min\t94.4$\\pm$0.2\n",
      "\n",
      "\tifs-uniform-100000\tprec\t95.3$\\pm$0.1\tprec-min\t94.3$\\pm$0.5\n",
      "\n",
      "\tifs-uniform-150000\tprec\t95.4$\\pm$0.1\tprec-min\t94.4$\\pm$0.6\n",
      "\n",
      "\tifs-uniform-200000\tprec\t95.5$\\pm$0.1\tprec-min\t94.5$\\pm$0.3\n",
      "\n",
      "\tifs-uniform-250000\tprec\t95.6$\\pm$0.1\tprec-min\t94.3$\\pm$0.5\n",
      "\n",
      "\tifs-uniform-300000\tprec\t95.7$\\pm$0.1\tprec-min\t94.2$\\pm$0.2\n",
      "\n",
      "\tifs-uniform-350000\tprec\t95.4$\\pm$0.2\tprec-min\t93.3$\\pm$1.9\n",
      "\n",
      "\tifs-uniform-400000\tprec\t95.7$\\pm$0.1\tprec-min\t94.2$\\pm$0.4\n",
      "\n"
     ]
    },
    {
     "name": "stderr",
     "output_type": "stream",
     "text": [
      "/home/mr6564/anaconda3/envs/PyTorch/lib/python3.7/site-packages/ipykernel_launcher.py:222: VisibleDeprecationWarning: Creating an ndarray from ragged nested sequences (which is a list-or-tuple of lists-or-tuples-or ndarrays with different lengths or shapes) is deprecated. If you meant to do this, you must specify 'dtype=object' when creating the ndarray.\n"
     ]
    }
   ],
   "source": [
    "ifs_1K, _, _, _, _, _ = ifs_results('domain',  replay_config='ifs', ifs_option='uniform', memory_budget=1000)\n",
    "ifs_10K, _, _, _, _, _ = ifs_results('domain',  replay_config='ifs', ifs_option='uniform', memory_budget=10000)\n",
    "ifs_50K, _, _, _, _, _ = ifs_results('domain',  replay_config='ifs', ifs_option='uniform', memory_budget=50000)\n",
    "ifs_100K, _, _, _, _, _ = ifs_results('domain', replay_config='ifs', ifs_option='uniform', memory_budget=100000)\n",
    "ifs_150K, _, _, _, _, _ = ifs_results('domain', replay_config='ifs', ifs_option='uniform', memory_budget=150000)\n",
    "ifs_200K, _, _, _, _, _ = ifs_results('domain', replay_config='ifs', ifs_option='uniform', memory_budget=200000)\n",
    "ifs_250K, _, _, _, _, _ = ifs_results('domain', replay_config='ifs', ifs_option='uniform', memory_budget=250000)\n",
    "ifs_300K, _, _, _, _, _ = ifs_results('domain', replay_config='ifs', ifs_option='uniform', memory_budget=300000)\n",
    "ifs_350K, _, _, _, _, _ = ifs_results('domain', replay_config='ifs', ifs_option='uniform', memory_budget=350000)\n",
    "ifs_400K, _, _, _, _, _ = ifs_results('domain', replay_config='ifs', ifs_option='uniform', memory_budget=400000);"
   ]
  },
  {
   "cell_type": "code",
   "execution_count": 48,
   "metadata": {
    "scrolled": true
   },
   "outputs": [
    {
     "name": "stdout",
     "output_type": "stream",
     "text": [
      "\tifs-gifs-1000\tprec\t93.6$\\pm$0.1\tprec-min\t91.8$\\pm$0.3\n",
      "\n",
      "\tifs-gifs-10000\tprec\t94.5$\\pm$0.1\tprec-min\t93.7$\\pm$0.1\n",
      "\n",
      "\tifs-gifs-50000\tprec\t95.2$\\pm$0.0\tprec-min\t93.9$\\pm$0.3\n",
      "\n",
      "\tifs-gifs-100000\tprec\t94.5$\\pm$1.1\tprec-min\t93.9$\\pm$0.5\n",
      "\n",
      "\tifs-gifs-150000\tprec\t94.9$\\pm$0.8\tprec-min\t94.2$\\pm$0.4\n",
      "\n",
      "\tifs-gifs-200000\tprec\t94.8$\\pm$0.9\tprec-min\t94.2$\\pm$0.5\n",
      "\n",
      "\tifs-gifs-250000\tprec\t94.9$\\pm$0.9\tprec-min\t93.3$\\pm$1.0\n",
      "\n",
      "\tifs-gifs-300000\tprec\t95.5$\\pm$0.8\tprec-min\t94.4$\\pm$0.6\n",
      "\n",
      "\tifs-gifs-350000\tprec\t95.7$\\pm$0.6\tprec-min\t94.5$\\pm$0.4\n",
      "\n",
      "\tifs-gifs-400000\tprec\t95.0$\\pm$1.3\tprec-min\t93.8$\\pm$0.7\n",
      "\n"
     ]
    },
    {
     "name": "stderr",
     "output_type": "stream",
     "text": [
      "/home/mr6564/anaconda3/envs/PyTorch/lib/python3.7/site-packages/ipykernel_launcher.py:222: VisibleDeprecationWarning: Creating an ndarray from ragged nested sequences (which is a list-or-tuple of lists-or-tuples-or ndarrays with different lengths or shapes) is deprecated. If you meant to do this, you must specify 'dtype=object' when creating the ndarray.\n"
     ]
    }
   ],
   "source": [
    "ifs_1K, _, _, _, _, _ = ifs_results('domain',  replay_config='ifs', ifs_option='gifs', memory_budget=1000)\n",
    "ifs_10K, _, _, _, _, _ = ifs_results('domain',  replay_config='ifs', ifs_option='gifs', memory_budget=10000)\n",
    "ifs_50K, _, _, _, _, _ = ifs_results('domain',  replay_config='ifs', ifs_option='gifs', memory_budget=50000)\n",
    "ifs_100K, _, _, _, _, _ = ifs_results('domain', replay_config='ifs', ifs_option='gifs', memory_budget=100000)\n",
    "ifs_150K, _, _, _, _, _ = ifs_results('domain', replay_config='ifs', ifs_option='gifs', memory_budget=150000)\n",
    "ifs_200K, _, _, _, _, _ = ifs_results('domain', replay_config='ifs', ifs_option='gifs', memory_budget=200000)\n",
    "ifs_250K, _, _, _, _, _ = ifs_results('domain', replay_config='ifs', ifs_option='gifs', memory_budget=250000)\n",
    "ifs_300K, _, _, _, _, _ = ifs_results('domain', replay_config='ifs', ifs_option='gifs', memory_budget=300000)\n",
    "ifs_350K, _, _, _, _, _ = ifs_results('domain', replay_config='ifs', ifs_option='gifs', memory_budget=350000)\n",
    "ifs_400K, _, _, _, _, _ = ifs_results('domain', replay_config='ifs', ifs_option='gifs', memory_budget=400000);"
   ]
  },
  {
   "cell_type": "code",
   "execution_count": 22,
   "metadata": {},
   "outputs": [
    {
     "name": "stdout",
     "output_type": "stream",
     "text": [
      "\tifs-mix-1000-2\tprec\t93.6$\\pm$0.2\tprec-min\t92.6$\\pm$0.3\n",
      "\n",
      "\tifs-mix-1000-5\tprec\t93.5$\\pm$0.1\tprec-min\t92.7$\\pm$0.3\n",
      "\n",
      "\tifs-mix-1000-10\tprec\t93.3$\\pm$0.2\tprec-min\t92.3$\\pm$0.3\n",
      "\n",
      "\tifs-mix-1000-15\tprec\t94.0$\\pm$0.5\tprec-min\t93.4$\\pm$1.0\n",
      "\n",
      "\tifs-mix-1000-20\tprec\t93.8$\\pm$0.6\tprec-min\t92.0$\\pm$3.3\n",
      "\n"
     ]
    },
    {
     "name": "stderr",
     "output_type": "stream",
     "text": [
      "/home/mr6564/anaconda3/envs/PyTorch/lib/python3.7/site-packages/ipykernel_launcher.py:208: VisibleDeprecationWarning: Creating an ndarray from ragged nested sequences (which is a list-or-tuple of lists-or-tuples-or ndarrays with different lengths or shapes) is deprecated. If you meant to do this, you must specify 'dtype=object' when creating the ndarray.\n"
     ]
    }
   ],
   "source": [
    "ifsM_100_2, _, _, _, _, _ = ifs_results('domain', replay_config='ifs',\\\n",
    "                          ifs_option='mix', min_samples=2, memory_budget=1000)\n",
    "ifsM_100_5, _, _, _, _, _ = ifs_results('domain', replay_config='ifs',\\\n",
    "                          ifs_option='mix', min_samples=5, memory_budget=1000)\n",
    "ifsM_100_10, _, _, _, _, _ = ifs_results('domain', replay_config='ifs',\\\n",
    "                          ifs_option='mix', min_samples=10, memory_budget=1000)\n",
    "ifsM_100_15, _, _, _, _, _ = ifs_results('domain', replay_config='ifs',\\\n",
    "                          ifs_option='mix', min_samples=15, memory_budget=1000)\n",
    "ifsM_100_20, _, _, _, _, _ = ifs_results('domain', replay_config='ifs',\\\n",
    "                          ifs_option='mix', min_samples=20, memory_budget=1000)\n"
   ]
  },
  {
   "cell_type": "code",
   "execution_count": 23,
   "metadata": {},
   "outputs": [
    {
     "name": "stdout",
     "output_type": "stream",
     "text": [
      "\tifs-mix-10000-2\tprec\t94.3$\\pm$0.3\tprec-min\t93.7$\\pm$0.5\n",
      "\n",
      "\tifs-mix-10000-5\tprec\t94.3$\\pm$0.1\tprec-min\t93.5$\\pm$0.3\n",
      "\n",
      "\tifs-mix-10000-10\tprec\t94.3$\\pm$0.2\tprec-min\t93.7$\\pm$0.3\n",
      "\n",
      "\tifs-mix-10000-15\tprec\t94.1$\\pm$0.2\tprec-min\t93.3$\\pm$0.2\n",
      "\n",
      "\tifs-mix-10000-20\tprec\t94.0$\\pm$0.2\tprec-min\t93.3$\\pm$0.3\n",
      "\n"
     ]
    },
    {
     "name": "stderr",
     "output_type": "stream",
     "text": [
      "/home/mr6564/anaconda3/envs/PyTorch/lib/python3.7/site-packages/ipykernel_launcher.py:208: VisibleDeprecationWarning: Creating an ndarray from ragged nested sequences (which is a list-or-tuple of lists-or-tuples-or ndarrays with different lengths or shapes) is deprecated. If you meant to do this, you must specify 'dtype=object' when creating the ndarray.\n"
     ]
    }
   ],
   "source": [
    "ifsM_100_2, _, _, _, _, _ = ifs_results('domain', replay_config='ifs',\\\n",
    "                          ifs_option='mix', min_samples=2, memory_budget=10000)\n",
    "ifsM_100_5, _, _, _, _, _ = ifs_results('domain', replay_config='ifs',\\\n",
    "                          ifs_option='mix', min_samples=5, memory_budget=10000)\n",
    "ifsM_100_10, _, _, _, _, _ = ifs_results('domain', replay_config='ifs',\\\n",
    "                          ifs_option='mix', min_samples=10, memory_budget=10000)\n",
    "ifsM_100_15, _, _, _, _, _ = ifs_results('domain', replay_config='ifs',\\\n",
    "                          ifs_option='mix', min_samples=15, memory_budget=10000)\n",
    "ifsM_100_20, _, _, _, _, _ = ifs_results('domain', replay_config='ifs',\\\n",
    "                          ifs_option='mix', min_samples=20, memory_budget=10000)\n"
   ]
  },
  {
   "cell_type": "code",
   "execution_count": 24,
   "metadata": {},
   "outputs": [
    {
     "name": "stdout",
     "output_type": "stream",
     "text": [
      "\tifs-mix-50000-2\tprec\t95.4$\\pm$0.1\tprec-min\t94.5$\\pm$0.3\n",
      "\n",
      "\tifs-mix-50000-5\tprec\t95.2$\\pm$0.2\tprec-min\t94.4$\\pm$0.3\n",
      "\n",
      "\tifs-mix-50000-10\tprec\t95.3$\\pm$0.2\tprec-min\t94.6$\\pm$0.3\n",
      "\n",
      "\tifs-mix-50000-15\tprec\t95.3$\\pm$0.1\tprec-min\t94.3$\\pm$0.5\n",
      "\n",
      "\tifs-mix-50000-20\tprec\t95.0$\\pm$0.3\tprec-min\t94.0$\\pm$0.4\n",
      "\n"
     ]
    },
    {
     "name": "stderr",
     "output_type": "stream",
     "text": [
      "/home/mr6564/anaconda3/envs/PyTorch/lib/python3.7/site-packages/ipykernel_launcher.py:208: VisibleDeprecationWarning: Creating an ndarray from ragged nested sequences (which is a list-or-tuple of lists-or-tuples-or ndarrays with different lengths or shapes) is deprecated. If you meant to do this, you must specify 'dtype=object' when creating the ndarray.\n"
     ]
    }
   ],
   "source": [
    "ifsM_100_2, _, _, _, _, _ = ifs_results('domain', replay_config='ifs',\\\n",
    "                          ifs_option='mix', min_samples=2, memory_budget=50000)\n",
    "ifsM_100_5, _, _, _, _, _ = ifs_results('domain', replay_config='ifs',\\\n",
    "                          ifs_option='mix', min_samples=5, memory_budget=50000)\n",
    "ifsM_100_10, _, _, _, _, _ = ifs_results('domain', replay_config='ifs',\\\n",
    "                          ifs_option='mix', min_samples=10, memory_budget=50000)\n",
    "ifsM_100_15, _, _, _, _, _ = ifs_results('domain', replay_config='ifs',\\\n",
    "                          ifs_option='mix', min_samples=15, memory_budget=50000)\n",
    "ifsM_100_20, _, _, _, _, _ = ifs_results('domain', replay_config='ifs',\\\n",
    "                          ifs_option='mix', min_samples=20, memory_budget=50000)\n"
   ]
  },
  {
   "cell_type": "code",
   "execution_count": 42,
   "metadata": {},
   "outputs": [
    {
     "name": "stdout",
     "output_type": "stream",
     "text": [
      "\tifs-mix-100000-2\tprec\t95.4$\\pm$0.5\tprec-min\t94.2$\\pm$0.6\n",
      "\n",
      "\tifs-mix-100000-5\tprec\t95.7$\\pm$0.1\tprec-min\t94.5$\\pm$0.3\n",
      "\n",
      "\tifs-mix-100000-10\tprec\t95.8$\\pm$0.0\tprec-min\t94.3$\\pm$0.2\n",
      "\n",
      "\tifs-mix-100000-15\tprec\t95.7$\\pm$0.2\tprec-min\t94.2$\\pm$0.5\n",
      "\n",
      "\tifs-mix-100000-20\tprec\t95.6$\\pm$0.2\tprec-min\t93.7$\\pm$1.1\n",
      "\n"
     ]
    },
    {
     "name": "stderr",
     "output_type": "stream",
     "text": [
      "/home/mr6564/anaconda3/envs/PyTorch/lib/python3.7/site-packages/ipykernel_launcher.py:208: VisibleDeprecationWarning: Creating an ndarray from ragged nested sequences (which is a list-or-tuple of lists-or-tuples-or ndarrays with different lengths or shapes) is deprecated. If you meant to do this, you must specify 'dtype=object' when creating the ndarray.\n"
     ]
    }
   ],
   "source": [
    "ifsM_100_2, _, _, _, _, _ = ifs_results('domain', replay_config='ifs',\\\n",
    "                          ifs_option='mix', min_samples=2, memory_budget=100000)\n",
    "ifsM_100_5, _, _, _, _, _ = ifs_results('domain', replay_config='ifs',\\\n",
    "                          ifs_option='mix', min_samples=5, memory_budget=100000)\n",
    "ifsM_100_10, _, _, _, _, _ = ifs_results('domain', replay_config='ifs',\\\n",
    "                          ifs_option='mix', min_samples=10, memory_budget=100000)\n",
    "ifsM_100_15, _, _, _, _, _ = ifs_results('domain', replay_config='ifs',\\\n",
    "                          ifs_option='mix', min_samples=15, memory_budget=100000)\n",
    "ifsM_100_20, _, _, _, _, _ = ifs_results('domain', replay_config='ifs',\\\n",
    "                          ifs_option='mix', min_samples=20, memory_budget=100000)\n"
   ]
  },
  {
   "cell_type": "code",
   "execution_count": 27,
   "metadata": {},
   "outputs": [
    {
     "name": "stdout",
     "output_type": "stream",
     "text": [
      "\tifs-mix-150000-2\tprec\t95.9$\\pm$0.1\tprec-min\t94.5$\\pm$0.4\n",
      "\n",
      "\tifs-mix-150000-5\tprec\t95.9$\\pm$0.1\tprec-min\t94.2$\\pm$0.6\n",
      "\n",
      "\tifs-mix-150000-10\tprec\t95.9$\\pm$0.1\tprec-min\t94.2$\\pm$0.3\n",
      "\n",
      "\tifs-mix-150000-15\tprec\t95.9$\\pm$0.1\tprec-min\t94.1$\\pm$0.4\n",
      "\n",
      "\tifs-mix-150000-20\tprec\t95.7$\\pm$0.5\tprec-min\t94.0$\\pm$0.6\n",
      "\n"
     ]
    },
    {
     "name": "stderr",
     "output_type": "stream",
     "text": [
      "/home/mr6564/anaconda3/envs/PyTorch/lib/python3.7/site-packages/ipykernel_launcher.py:208: VisibleDeprecationWarning: Creating an ndarray from ragged nested sequences (which is a list-or-tuple of lists-or-tuples-or ndarrays with different lengths or shapes) is deprecated. If you meant to do this, you must specify 'dtype=object' when creating the ndarray.\n"
     ]
    }
   ],
   "source": [
    "ifsM_100_2, _, _, _, _, _ = ifs_results('domain', replay_config='ifs',\\\n",
    "                          ifs_option='mix', min_samples=2, memory_budget=150000)\n",
    "ifsM_100_5, _, _, _, _, _ = ifs_results('domain', replay_config='ifs',\\\n",
    "                          ifs_option='mix', min_samples=5, memory_budget=150000)\n",
    "ifsM_100_10, _, _, _, _, _ = ifs_results('domain', replay_config='ifs',\\\n",
    "                          ifs_option='mix', min_samples=10, memory_budget=150000)\n",
    "ifsM_100_15, _, _, _, _, _ = ifs_results('domain', replay_config='ifs',\\\n",
    "                          ifs_option='mix', min_samples=15, memory_budget=150000)\n",
    "ifsM_100_20, _, _, _, _, _ = ifs_results('domain', replay_config='ifs',\\\n",
    "                          ifs_option='mix', min_samples=20, memory_budget=150000)\n"
   ]
  },
  {
   "cell_type": "code",
   "execution_count": 37,
   "metadata": {},
   "outputs": [
    {
     "name": "stdout",
     "output_type": "stream",
     "text": [
      "\tifs-mix-200000-2\tprec\t95.9$\\pm$0.1\tprec-min\t93.6$\\pm$0.8\n",
      "\n",
      "\tifs-mix-200000-5\tprec\t96.1$\\pm$0.1\tprec-min\t94.5$\\pm$0.2\n",
      "\n",
      "\tifs-mix-200000-10\tprec\t95.9$\\pm$0.3\tprec-min\t92.8$\\pm$3.4\n",
      "\n",
      "\tifs-mix-200000-15\tprec\t96.0$\\pm$0.1\tprec-min\t94.1$\\pm$0.4\n",
      "\n",
      "\tifs-mix-200000-20\tprec\t96.0$\\pm$0.1\tprec-min\t94.2$\\pm$0.3\n",
      "\n"
     ]
    }
   ],
   "source": [
    "ifsM_100_2, _, _, _, _, _ = ifs_results('domain', replay_config='ifs',\\\n",
    "                          ifs_option='mix', min_samples=2, memory_budget=200000)\n",
    "ifsM_100_5, _, _, _, _, _ = ifs_results('domain', replay_config='ifs',\\\n",
    "                          ifs_option='mix', min_samples=5, memory_budget=200000)\n",
    "ifsM_100_10, _, _, _, _, _ = ifs_results('domain', replay_config='ifs',\\\n",
    "                          ifs_option='mix', min_samples=10, memory_budget=200000)\n",
    "ifsM_100_15, _, _, _, _, _ = ifs_results('domain', replay_config='ifs',\\\n",
    "                          ifs_option='mix', min_samples=15, memory_budget=200000)\n",
    "ifsM_100_20, _, _, _, _, _ = ifs_results('domain', replay_config='ifs',\\\n",
    "                          ifs_option='mix', min_samples=20, memory_budget=200000)\n"
   ]
  },
  {
   "cell_type": "code",
   "execution_count": 31,
   "metadata": {},
   "outputs": [
    {
     "name": "stdout",
     "output_type": "stream",
     "text": [
      "\tifs-mix-250000-2\tprec\t96.1$\\pm$0.1\tprec-min\t94.5$\\pm$0.4\n",
      "\n",
      "\tifs-mix-250000-5\tprec\t96.0$\\pm$0.1\tprec-min\t94.0$\\pm$0.5\n",
      "\n",
      "\tifs-mix-250000-10\tprec\t96.0$\\pm$0.1\tprec-min\t94.0$\\pm$0.4\n",
      "\n",
      "\tifs-mix-250000-15\tprec\t96.1$\\pm$0.1\tprec-min\t94.4$\\pm$0.3\n",
      "\n",
      "\tifs-mix-250000-20\tprec\t96.1$\\pm$0.1\tprec-min\t94.5$\\pm$0.3\n",
      "\n"
     ]
    }
   ],
   "source": [
    "ifsM_100_2, _, _, _, _, _ = ifs_results('domain', replay_config='ifs',\\\n",
    "                          ifs_option='mix', min_samples=2, memory_budget=250000)\n",
    "ifsM_100_5, _, _, _, _, _ = ifs_results('domain', replay_config='ifs',\\\n",
    "                          ifs_option='mix', min_samples=5, memory_budget=250000)\n",
    "ifsM_100_10, _, _, _, _, _ = ifs_results('domain', replay_config='ifs',\\\n",
    "                          ifs_option='mix', min_samples=10, memory_budget=250000)\n",
    "ifsM_100_15, _, _, _, _, _ = ifs_results('domain', replay_config='ifs',\\\n",
    "                          ifs_option='mix', min_samples=15, memory_budget=250000)\n",
    "ifsM_100_20, _, _, _, _, _ = ifs_results('domain', replay_config='ifs',\\\n",
    "                          ifs_option='mix', min_samples=20, memory_budget=250000)\n"
   ]
  },
  {
   "cell_type": "code",
   "execution_count": 38,
   "metadata": {},
   "outputs": [
    {
     "name": "stdout",
     "output_type": "stream",
     "text": [
      "\tifs-mix-300000-2\tprec\t96.2$\\pm$0.0\tprec-min\t94.4$\\pm$0.2\n",
      "\n",
      "\tifs-mix-300000-5\tprec\t96.1$\\pm$0.1\tprec-min\t94.3$\\pm$0.3\n",
      "\n",
      "\tifs-mix-300000-10\tprec\t96.2$\\pm$0.1\tprec-min\t94.5$\\pm$0.2\n",
      "\n",
      "\tifs-mix-300000-15\tprec\t96.0$\\pm$0.1\tprec-min\t93.8$\\pm$0.3\n",
      "\n",
      "\tifs-mix-300000-20\tprec\t96.1$\\pm$0.1\tprec-min\t94.2$\\pm$0.2\n",
      "\n"
     ]
    }
   ],
   "source": [
    "ifsM_100_2, _, _, _, _, _ = ifs_results('domain', replay_config='ifs',\\\n",
    "                          ifs_option='mix', min_samples=2, memory_budget=300000)\n",
    "ifsM_100_5, _, _, _, _, _ = ifs_results('domain', replay_config='ifs',\\\n",
    "                          ifs_option='mix', min_samples=5, memory_budget=300000)\n",
    "ifsM_100_10, _, _, _, _, _ = ifs_results('domain', replay_config='ifs',\\\n",
    "                          ifs_option='mix', min_samples=10, memory_budget=300000)\n",
    "ifsM_100_15, _, _, _, _, _ = ifs_results('domain', replay_config='ifs',\\\n",
    "                          ifs_option='mix', min_samples=15, memory_budget=300000)\n",
    "ifsM_100_20, _, _, _, _, _ = ifs_results('domain', replay_config='ifs',\\\n",
    "                          ifs_option='mix', min_samples=20, memory_budget=300000)\n"
   ]
  },
  {
   "cell_type": "code",
   "execution_count": 32,
   "metadata": {},
   "outputs": [
    {
     "name": "stdout",
     "output_type": "stream",
     "text": [
      "\tifs-mix-350000-2\tprec\t96.1$\\pm$0.1\tprec-min\t94.5$\\pm$0.5\n",
      "\n",
      "\tifs-mix-350000-5\tprec\t96.0$\\pm$0.1\tprec-min\t94.3$\\pm$0.5\n",
      "\n",
      "\tifs-mix-350000-10\tprec\t96.1$\\pm$0.1\tprec-min\t94.0$\\pm$0.5\n",
      "\n",
      "\tifs-mix-350000-15\tprec\t96.1$\\pm$0.2\tprec-min\t94.0$\\pm$0.7\n",
      "\n",
      "\tifs-mix-350000-20\tprec\t96.1$\\pm$0.2\tprec-min\t93.9$\\pm$1.1\n",
      "\n"
     ]
    }
   ],
   "source": [
    "ifsM_100_2, _, _, _, _, _ = ifs_results('domain', replay_config='ifs',\\\n",
    "                          ifs_option='mix', min_samples=2, memory_budget=350000)\n",
    "ifsM_100_5, _, _, _, _, _ = ifs_results('domain', replay_config='ifs',\\\n",
    "                          ifs_option='mix', min_samples=5, memory_budget=350000)\n",
    "ifsM_100_10, _, _, _, _, _ = ifs_results('domain', replay_config='ifs',\\\n",
    "                          ifs_option='mix', min_samples=10, memory_budget=350000)\n",
    "ifsM_100_15, _, _, _, _, _ = ifs_results('domain', replay_config='ifs',\\\n",
    "                          ifs_option='mix', min_samples=15, memory_budget=350000)\n",
    "ifsM_100_20, _, _, _, _, _ = ifs_results('domain', replay_config='ifs',\\\n",
    "                          ifs_option='mix', min_samples=20, memory_budget=350000)\n"
   ]
  },
  {
   "cell_type": "code",
   "execution_count": 41,
   "metadata": {},
   "outputs": [
    {
     "name": "stdout",
     "output_type": "stream",
     "text": [
      "\tifs-mix-400000-2\tprec\t96.1$\\pm$0.1\tprec-min\t94.0$\\pm$1.2\n",
      "\n",
      "\tifs-mix-400000-5\tprec\t96.1$\\pm$0.1\tprec-min\t94.2$\\pm$0.2\n",
      "\n",
      "\tifs-mix-400000-10\tprec\t96.1$\\pm$0.1\tprec-min\t94.7$\\pm$0.4\n",
      "\n",
      "\tifs-mix-400000-15\tprec\t96.1$\\pm$0.2\tprec-min\t94.1$\\pm$0.9\n",
      "\n",
      "\tifs-mix-400000-20\tprec\t96.2$\\pm$0.1\tprec-min\t94.7$\\pm$0.0\n",
      "\n"
     ]
    }
   ],
   "source": [
    "ifsM_100_2, _, _, _, _, _ = ifs_results('domain', replay_config='ifs',\\\n",
    "                          ifs_option='mix', min_samples=2, memory_budget=400000)\n",
    "ifsM_100_5, _, _, _, _, _ = ifs_results('domain', replay_config='ifs',\\\n",
    "                          ifs_option='mix', min_samples=5, memory_budget=400000)\n",
    "ifsM_100_10, _, _, _, _, _ = ifs_results('domain', replay_config='ifs',\\\n",
    "                          ifs_option='mix', min_samples=10, memory_budget=400000)\n",
    "ifsM_100_15, _, _, _, _, _ = ifs_results('domain', replay_config='ifs',\\\n",
    "                          ifs_option='mix', min_samples=15, memory_budget=400000)\n",
    "ifsM_100_20, _, _, _, _, _ = ifs_results('domain', replay_config='ifs',\\\n",
    "                          ifs_option='mix', min_samples=20, memory_budget=400000)\n"
   ]
  },
  {
   "cell_type": "code",
   "execution_count": 45,
   "metadata": {},
   "outputs": [
    {
     "name": "stdout",
     "output_type": "stream",
     "text": [
      "\tGood-ifs-ratio-1000\tprec\t93.5$\\pm$0.2\tprec-min\t92.7$\\pm$0.2\n",
      "\n",
      "\tGood-ifs-ratio-10000\tprec\t94.1$\\pm$0.3\tprec-min\t93.3$\\pm$0.2\n",
      "\n",
      "\tGood-ifs-ratio-50000\tprec\t95.0$\\pm$0.1\tprec-min\t93.9$\\pm$0.5\n",
      "\n",
      "\tGood-ifs-ratio-100000\tprec\t95.7$\\pm$0.1\tprec-min\t94.3$\\pm$0.4\n",
      "\n",
      "\tGood-ifs-ratio-150000\tprec\t96.0$\\pm$0.1\tprec-min\t94.7$\\pm$0.5\n",
      "\n",
      "\tGood-ifs-ratio-200000\tprec\t96.0$\\pm$0.1\tprec-min\t94.1$\\pm$0.3\n",
      "\n",
      "\tGood-ifs-ratio-250000\tprec\t96.1$\\pm$0.1\tprec-min\t94.4$\\pm$0.6\n",
      "\n",
      "\tGood-ifs-ratio-300000\tprec\t96.1$\\pm$0.1\tprec-min\t94.2$\\pm$0.5\n",
      "\n",
      "\tGood-ifs-ratio-350000\tprec\t96.0$\\pm$0.2\tprec-min\t94.1$\\pm$0.3\n",
      "\n",
      "\tGood-ifs-ratio-400000\tprec\t96.0$\\pm$0.3\tprec-min\t93.9$\\pm$0.5\n",
      "\n"
     ]
    },
    {
     "name": "stderr",
     "output_type": "stream",
     "text": [
      "/home/mr6564/anaconda3/envs/PyTorch/lib/python3.7/site-packages/ipykernel_launcher.py:222: VisibleDeprecationWarning: Creating an ndarray from ragged nested sequences (which is a list-or-tuple of lists-or-tuples-or ndarrays with different lengths or shapes) is deprecated. If you meant to do this, you must specify 'dtype=object' when creating the ndarray.\n"
     ]
    }
   ],
   "source": [
    "ifs_1K, _, _, _, _, _ = ifs_results('domain',  replay_config='ifs', ifs_option='ratio', goodware_ifs=True, memory_budget=1000)\n",
    "ifs_10K, _, _, _, _, _ = ifs_results('domain',  replay_config='ifs', ifs_option='ratio', goodware_ifs=True, memory_budget=10000)\n",
    "ifs_50K, _, _, _, _, _ = ifs_results('domain',  replay_config='ifs', ifs_option='ratio', goodware_ifs=True, memory_budget=50000)\n",
    "ifs_100K, _, _, _, _, _ = ifs_results('domain', replay_config='ifs', ifs_option='ratio', goodware_ifs=True, memory_budget=100000)\n",
    "ifs_150K, _, _, _, _, _ = ifs_results('domain', replay_config='ifs', ifs_option='ratio', goodware_ifs=True, memory_budget=150000)\n",
    "ifs_200K, _, _, _, _, _ = ifs_results('domain', replay_config='ifs', ifs_option='ratio', goodware_ifs=True, memory_budget=200000)\n",
    "ifs_250K, _, _, _, _, _ = ifs_results('domain', replay_config='ifs', ifs_option='ratio', goodware_ifs=True, memory_budget=250000)\n",
    "ifs_300K, _, _, _, _, _ = ifs_results('domain', replay_config='ifs', ifs_option='ratio', goodware_ifs=True, memory_budget=300000)\n",
    "ifs_350K, _, _, _, _, _ = ifs_results('domain', replay_config='ifs', ifs_option='ratio', goodware_ifs=True, memory_budget=350000)\n",
    "ifs_400K, _, _, _, _, _ = ifs_results('domain', replay_config='ifs', ifs_option='ratio', goodware_ifs=True, memory_budget=400000);"
   ]
  },
  {
   "cell_type": "code",
   "execution_count": 50,
   "metadata": {},
   "outputs": [
    {
     "name": "stdout",
     "output_type": "stream",
     "text": [
      "\tGood-ifs-uniform-1000\tprec\t93.6$\\pm$0.2\tprec-min\t92.6$\\pm$0.2\n",
      "\n",
      "\tGood-ifs-uniform-10000\tprec\t94.1$\\pm$0.1\tprec-min\t93.0$\\pm$0.3\n",
      "\n",
      "\tGood-ifs-uniform-50000\tprec\t94.8$\\pm$0.1\tprec-min\t94.2$\\pm$0.2\n",
      "\n",
      "\tGood-ifs-uniform-100000\tprec\t95.1$\\pm$0.1\tprec-min\t94.1$\\pm$0.4\n",
      "\n",
      "\tGood-ifs-uniform-150000\tprec\t95.3$\\pm$0.1\tprec-min\t94.1$\\pm$0.6\n",
      "\n",
      "\tGood-ifs-uniform-200000\tprec\t95.6$\\pm$0.1\tprec-min\t94.4$\\pm$0.1\n",
      "\n",
      "\tGood-ifs-uniform-250000\tprec\t95.5$\\pm$0.1\tprec-min\t94.3$\\pm$0.3\n",
      "\n",
      "\tGood-ifs-uniform-300000\tprec\t95.5$\\pm$0.1\tprec-min\t94.2$\\pm$0.2\n",
      "\n",
      "\tGood-ifs-uniform-350000\tprec\t95.6$\\pm$0.1\tprec-min\t94.3$\\pm$0.4\n",
      "\n",
      "\tGood-ifs-uniform-400000\tprec\t95.5$\\pm$0.0\tprec-min\t93.0$\\pm$0.2\n",
      "\n"
     ]
    }
   ],
   "source": [
    "ifs_1K, _, _, _, _, _ = ifs_results('domain',  replay_config='ifs', ifs_option='uniform', goodware_ifs=True, memory_budget=1000)\n",
    "ifs_10K, _, _, _, _, _ = ifs_results('domain',  replay_config='ifs', ifs_option='uniform', goodware_ifs=True, memory_budget=10000)\n",
    "ifs_50K, _, _, _, _, _ = ifs_results('domain',  replay_config='ifs', ifs_option='uniform', goodware_ifs=True, memory_budget=50000)\n",
    "ifs_100K, _, _, _, _, _ = ifs_results('domain', replay_config='ifs', ifs_option='uniform', goodware_ifs=True, memory_budget=100000)\n",
    "ifs_150K, _, _, _, _, _ = ifs_results('domain', replay_config='ifs', ifs_option='uniform', goodware_ifs=True, memory_budget=150000)\n",
    "ifs_200K, _, _, _, _, _ = ifs_results('domain', replay_config='ifs', ifs_option='uniform', goodware_ifs=True, memory_budget=200000)\n",
    "ifs_250K, _, _, _, _, _ = ifs_results('domain', replay_config='ifs', ifs_option='uniform', goodware_ifs=True, memory_budget=250000)\n",
    "ifs_300K, _, _, _, _, _ = ifs_results('domain', replay_config='ifs', ifs_option='uniform', goodware_ifs=True, memory_budget=300000)\n",
    "ifs_350K, _, _, _, _, _ = ifs_results('domain', replay_config='ifs', ifs_option='uniform', goodware_ifs=True, memory_budget=350000)\n",
    "ifs_400K, _, _, _, _, _ = ifs_results('domain', replay_config='ifs', ifs_option='uniform', goodware_ifs=True, memory_budget=400000);\n"
   ]
  },
  {
   "cell_type": "code",
   "execution_count": 52,
   "metadata": {},
   "outputs": [
    {
     "name": "stdout",
     "output_type": "stream",
     "text": [
      "\tGood-ifs-mix-1000-2\tprec\t93.9$\\pm$0.3\tprec-min\t93.0$\\pm$0.5\n",
      "\n",
      "\tGood-ifs-mix-10000-2\tprec\t94.3$\\pm$0.2\tprec-min\t93.6$\\pm$0.3\n",
      "\n",
      "\tGood-ifs-mix-50000-2\tprec\t95.1$\\pm$0.1\tprec-min\t94.4$\\pm$0.5\n",
      "\n",
      "\tGood-ifs-mix-100000-2\tprec\t95.7$\\pm$0.0\tprec-min\t94.3$\\pm$0.2\n",
      "\n",
      "\tGood-ifs-mix-150000-2\tprec\t95.9$\\pm$0.0\tprec-min\t94.4$\\pm$0.4\n",
      "\n",
      "\tGood-ifs-mix-200000-2\tprec\t96.0$\\pm$0.1\tprec-min\t94.4$\\pm$0.4\n",
      "\n",
      "\tGood-ifs-mix-250000-2\tprec\t96.0$\\pm$0.0\tprec-min\t94.2$\\pm$0.4\n",
      "\n",
      "\tGood-ifs-mix-300000-2\tprec\t96.2$\\pm$0.0\tprec-min\t94.4$\\pm$0.4\n",
      "\n",
      "\tGood-ifs-mix-350000-2\tprec\t95.7$\\pm$0.6\tprec-min\t89.5$\\pm$7.8\n",
      "\n",
      "\tGood-ifs-mix-400000-2\tprec\t96.2$\\pm$0.1\tprec-min\t94.2$\\pm$0.5\n",
      "\n"
     ]
    },
    {
     "name": "stderr",
     "output_type": "stream",
     "text": [
      "/home/mr6564/anaconda3/envs/PyTorch/lib/python3.7/site-packages/ipykernel_launcher.py:222: VisibleDeprecationWarning: Creating an ndarray from ragged nested sequences (which is a list-or-tuple of lists-or-tuples-or ndarrays with different lengths or shapes) is deprecated. If you meant to do this, you must specify 'dtype=object' when creating the ndarray.\n"
     ]
    }
   ],
   "source": [
    "ifs_1K, _, _, _, _, _ = ifs_results('domain',  replay_config='ifs', ifs_option='mix', min_samples=2, goodware_ifs=True, memory_budget=1000)\n",
    "ifs_10K, _, _, _, _, _ = ifs_results('domain',  replay_config='ifs', ifs_option='mix', min_samples=2, goodware_ifs=True, memory_budget=10000)\n",
    "ifs_50K, _, _, _, _, _ = ifs_results('domain',  replay_config='ifs', ifs_option='mix', min_samples=2, goodware_ifs=True, memory_budget=50000)\n",
    "ifs_100K, _, _, _, _, _ = ifs_results('domain', replay_config='ifs', ifs_option='mix', min_samples=2, goodware_ifs=True, memory_budget=100000)\n",
    "ifs_150K, _, _, _, _, _ = ifs_results('domain', replay_config='ifs', ifs_option='mix', min_samples=2, goodware_ifs=True, memory_budget=150000)\n",
    "ifs_200K, _, _, _, _, _ = ifs_results('domain', replay_config='ifs', ifs_option='mix', min_samples=2, goodware_ifs=True, memory_budget=200000)\n",
    "ifs_250K, _, _, _, _, _ = ifs_results('domain', replay_config='ifs', ifs_option='mix', min_samples=2, goodware_ifs=True, memory_budget=250000)\n",
    "ifs_300K, _, _, _, _, _ = ifs_results('domain', replay_config='ifs', ifs_option='mix', min_samples=2, goodware_ifs=True, memory_budget=300000)\n",
    "ifs_350K, _, _, _, _, _ = ifs_results('domain', replay_config='ifs', ifs_option='mix', min_samples=2, goodware_ifs=True, memory_budget=350000)\n",
    "ifs_400K, _, _, _, _, _ = ifs_results('domain', replay_config='ifs', ifs_option='mix', min_samples=2, goodware_ifs=True, memory_budget=400000);\n"
   ]
  },
  {
   "cell_type": "code",
   "execution_count": 54,
   "metadata": {},
   "outputs": [
    {
     "name": "stdout",
     "output_type": "stream",
     "text": [
      "\tGood-ifs-mix-1000-5\tprec\t93.2$\\pm$0.3\tprec-min\t92.2$\\pm$0.6\n",
      "\n",
      "\tGood-ifs-mix-10000-5\tprec\t94.1$\\pm$0.1\tprec-min\t93.3$\\pm$0.1\n",
      "\n",
      "\tGood-ifs-mix-50000-5\tprec\t95.0$\\pm$0.1\tprec-min\t94.1$\\pm$0.4\n",
      "\n",
      "\tGood-ifs-mix-100000-5\tprec\t95.7$\\pm$0.1\tprec-min\t94.4$\\pm$0.3\n",
      "\n",
      "\tGood-ifs-mix-150000-5\tprec\t95.9$\\pm$0.1\tprec-min\t94.5$\\pm$0.3\n",
      "\n",
      "\tGood-ifs-mix-200000-5\tprec\t96.0$\\pm$0.1\tprec-min\t94.6$\\pm$0.0\n",
      "\n",
      "\tGood-ifs-mix-250000-5\tprec\t96.0$\\pm$0.1\tprec-min\t94.3$\\pm$0.2\n",
      "\n",
      "\tGood-ifs-mix-300000-5\tprec\t96.2$\\pm$0.1\tprec-min\t94.5$\\pm$0.5\n",
      "\n",
      "\tGood-ifs-mix-350000-5\tprec\t96.2$\\pm$0.0\tprec-min\t94.7$\\pm$0.1\n",
      "\n",
      "\tGood-ifs-mix-400000-5\tprec\t96.1$\\pm$0.1\tprec-min\t94.2$\\pm$0.4\n",
      "\n"
     ]
    }
   ],
   "source": [
    "ifs_1K, _, _, _, _, _ = ifs_results('domain',  replay_config='ifs', ifs_option='mix', min_samples=5, goodware_ifs=True, memory_budget=1000)\n",
    "ifs_10K, _, _, _, _, _ = ifs_results('domain',  replay_config='ifs', ifs_option='mix', min_samples=5, goodware_ifs=True, memory_budget=10000)\n",
    "ifs_50K, _, _, _, _, _ = ifs_results('domain',  replay_config='ifs', ifs_option='mix', min_samples=5, goodware_ifs=True, memory_budget=50000)\n",
    "ifs_100K, _, _, _, _, _ = ifs_results('domain', replay_config='ifs', ifs_option='mix', min_samples=5, goodware_ifs=True, memory_budget=100000)\n",
    "ifs_150K, _, _, _, _, _ = ifs_results('domain', replay_config='ifs', ifs_option='mix', min_samples=5, goodware_ifs=True, memory_budget=150000)\n",
    "ifs_200K, _, _, _, _, _ = ifs_results('domain', replay_config='ifs', ifs_option='mix', min_samples=5, goodware_ifs=True, memory_budget=200000)\n",
    "ifs_250K, _, _, _, _, _ = ifs_results('domain', replay_config='ifs', ifs_option='mix', min_samples=5, goodware_ifs=True, memory_budget=250000)\n",
    "ifs_300K, _, _, _, _, _ = ifs_results('domain', replay_config='ifs', ifs_option='mix', min_samples=5, goodware_ifs=True, memory_budget=300000)\n",
    "ifs_350K, _, _, _, _, _ = ifs_results('domain', replay_config='ifs', ifs_option='mix', min_samples=5, goodware_ifs=True, memory_budget=350000)\n",
    "ifs_400K, _, _, _, _, _ = ifs_results('domain', replay_config='ifs', ifs_option='mix', min_samples=5, goodware_ifs=True, memory_budget=400000);\n"
   ]
  },
  {
   "cell_type": "code",
   "execution_count": 56,
   "metadata": {},
   "outputs": [
    {
     "name": "stdout",
     "output_type": "stream",
     "text": [
      "\tGood-ifs-mix-1000-10\tprec\t93.4$\\pm$0.1\tprec-min\t92.3$\\pm$0.3\n",
      "\n",
      "\tGood-ifs-mix-10000-10\tprec\t94.2$\\pm$0.2\tprec-min\t93.3$\\pm$0.3\n",
      "\n",
      "\tGood-ifs-mix-50000-10\tprec\t95.1$\\pm$0.0\tprec-min\t94.4$\\pm$0.4\n",
      "\n",
      "\tGood-ifs-mix-100000-10\tprec\t95.7$\\pm$0.1\tprec-min\t94.4$\\pm$0.5\n",
      "\n",
      "\tGood-ifs-mix-150000-10\tprec\t95.9$\\pm$0.1\tprec-min\t94.1$\\pm$0.8\n",
      "\n",
      "\tGood-ifs-mix-200000-10\tprec\t95.9$\\pm$0.1\tprec-min\t94.1$\\pm$0.3\n",
      "\n",
      "\tGood-ifs-mix-250000-10\tprec\t96.1$\\pm$0.1\tprec-min\t94.9$\\pm$0.4\n",
      "\n",
      "\tGood-ifs-mix-300000-10\tprec\t96.1$\\pm$0.1\tprec-min\t94.1$\\pm$0.3\n",
      "\n",
      "\tGood-ifs-mix-350000-10\tprec\t96.2$\\pm$0.0\tprec-min\t94.5$\\pm$0.4\n",
      "\n",
      "\tGood-ifs-mix-400000-10\tprec\t96.1$\\pm$0.0\tprec-min\t94.4$\\pm$0.5\n",
      "\n"
     ]
    },
    {
     "name": "stderr",
     "output_type": "stream",
     "text": [
      "/home/mr6564/anaconda3/envs/PyTorch/lib/python3.7/site-packages/ipykernel_launcher.py:222: VisibleDeprecationWarning: Creating an ndarray from ragged nested sequences (which is a list-or-tuple of lists-or-tuples-or ndarrays with different lengths or shapes) is deprecated. If you meant to do this, you must specify 'dtype=object' when creating the ndarray.\n"
     ]
    }
   ],
   "source": [
    "ifs_1K, _, _, _, _, _ = ifs_results('domain',  replay_config='ifs', ifs_option='mix', min_samples=10, goodware_ifs=True, memory_budget=1000)\n",
    "ifs_10K, _, _, _, _, _ = ifs_results('domain',  replay_config='ifs', ifs_option='mix', min_samples=10, goodware_ifs=True, memory_budget=10000)\n",
    "ifs_50K, _, _, _, _, _ = ifs_results('domain',  replay_config='ifs', ifs_option='mix', min_samples=10, goodware_ifs=True, memory_budget=50000)\n",
    "ifs_100K, _, _, _, _, _ = ifs_results('domain', replay_config='ifs', ifs_option='mix', min_samples=10, goodware_ifs=True, memory_budget=100000)\n",
    "ifs_150K, _, _, _, _, _ = ifs_results('domain', replay_config='ifs', ifs_option='mix', min_samples=10, goodware_ifs=True, memory_budget=150000)\n",
    "ifs_200K, _, _, _, _, _ = ifs_results('domain', replay_config='ifs', ifs_option='mix', min_samples=10, goodware_ifs=True, memory_budget=200000)\n",
    "ifs_250K, _, _, _, _, _ = ifs_results('domain', replay_config='ifs', ifs_option='mix', min_samples=10, goodware_ifs=True, memory_budget=250000)\n",
    "ifs_300K, _, _, _, _, _ = ifs_results('domain', replay_config='ifs', ifs_option='mix', min_samples=10, goodware_ifs=True, memory_budget=300000)\n",
    "ifs_350K, _, _, _, _, _ = ifs_results('domain', replay_config='ifs', ifs_option='mix', min_samples=10, goodware_ifs=True, memory_budget=350000)\n",
    "ifs_400K, _, _, _, _, _ = ifs_results('domain', replay_config='ifs', ifs_option='mix', min_samples=10, goodware_ifs=True, memory_budget=400000);\n"
   ]
  },
  {
   "cell_type": "code",
   "execution_count": 58,
   "metadata": {},
   "outputs": [
    {
     "name": "stdout",
     "output_type": "stream",
     "text": [
      "\tGood-ifs-mix-1000-15\tprec\t93.6$\\pm$0.4\tprec-min\t92.4$\\pm$0.5\n",
      "\n",
      "\tGood-ifs-mix-10000-15\tprec\t94.1$\\pm$0.1\tprec-min\t93.1$\\pm$0.0\n",
      "\n",
      "\tGood-ifs-mix-50000-15\tprec\t95.0$\\pm$0.2\tprec-min\t94.0$\\pm$0.4\n",
      "\n",
      "\tGood-ifs-mix-100000-15\tprec\t95.7$\\pm$0.1\tprec-min\t94.4$\\pm$0.5\n",
      "\n",
      "\tGood-ifs-mix-150000-15\tprec\t95.9$\\pm$0.0\tprec-min\t94.6$\\pm$0.3\n",
      "\n",
      "\tGood-ifs-mix-200000-15\tprec\t96.0$\\pm$0.1\tprec-min\t94.7$\\pm$0.3\n",
      "\n",
      "\tGood-ifs-mix-250000-15\tprec\t96.1$\\pm$0.1\tprec-min\t94.3$\\pm$0.7\n",
      "\n",
      "\tGood-ifs-mix-300000-15\tprec\t96.1$\\pm$0.1\tprec-min\t94.3$\\pm$0.4\n",
      "\n",
      "\tGood-ifs-mix-350000-15\tprec\t96.1$\\pm$0.1\tprec-min\t94.4$\\pm$0.3\n",
      "\n",
      "\tGood-ifs-mix-400000-15\tprec\t96.2$\\pm$0.1\tprec-min\t94.2$\\pm$0.6\n",
      "\n"
     ]
    }
   ],
   "source": [
    "ifs_1K, _, _, _, _, _ = ifs_results('domain',  replay_config='ifs', ifs_option='mix', min_samples=15, goodware_ifs=True, memory_budget=1000)\n",
    "ifs_10K, _, _, _, _, _ = ifs_results('domain',  replay_config='ifs', ifs_option='mix', min_samples=15, goodware_ifs=True, memory_budget=10000)\n",
    "ifs_50K, _, _, _, _, _ = ifs_results('domain',  replay_config='ifs', ifs_option='mix', min_samples=15, goodware_ifs=True, memory_budget=50000)\n",
    "ifs_100K, _, _, _, _, _ = ifs_results('domain', replay_config='ifs', ifs_option='mix', min_samples=15, goodware_ifs=True, memory_budget=100000)\n",
    "ifs_150K, _, _, _, _, _ = ifs_results('domain', replay_config='ifs', ifs_option='mix', min_samples=15, goodware_ifs=True, memory_budget=150000)\n",
    "ifs_200K, _, _, _, _, _ = ifs_results('domain', replay_config='ifs', ifs_option='mix', min_samples=15, goodware_ifs=True, memory_budget=200000)\n",
    "ifs_250K, _, _, _, _, _ = ifs_results('domain', replay_config='ifs', ifs_option='mix', min_samples=15, goodware_ifs=True, memory_budget=250000)\n",
    "ifs_300K, _, _, _, _, _ = ifs_results('domain', replay_config='ifs', ifs_option='mix', min_samples=15, goodware_ifs=True, memory_budget=300000)\n",
    "ifs_350K, _, _, _, _, _ = ifs_results('domain', replay_config='ifs', ifs_option='mix', min_samples=15, goodware_ifs=True, memory_budget=350000)\n",
    "ifs_400K, _, _, _, _, _ = ifs_results('domain', replay_config='ifs', ifs_option='mix', min_samples=15, goodware_ifs=True, memory_budget=400000);\n"
   ]
  },
  {
   "cell_type": "code",
   "execution_count": 59,
   "metadata": {},
   "outputs": [
    {
     "name": "stdout",
     "output_type": "stream",
     "text": [
      "\tGood-ifs-mix-1000-20\tprec\t93.7$\\pm$0.2\tprec-min\t92.7$\\pm$0.2\n",
      "\n",
      "\tGood-ifs-mix-10000-20\tprec\t94.0$\\pm$0.2\tprec-min\t92.9$\\pm$0.3\n",
      "\n",
      "\tGood-ifs-mix-50000-20\tprec\t95.0$\\pm$0.2\tprec-min\t93.9$\\pm$0.2\n",
      "\n",
      "\tGood-ifs-mix-100000-20\tprec\t95.7$\\pm$0.1\tprec-min\t94.7$\\pm$0.4\n",
      "\n",
      "\tGood-ifs-mix-150000-20\tprec\t95.9$\\pm$0.2\tprec-min\t94.2$\\pm$0.3\n",
      "\n",
      "\tGood-ifs-mix-200000-20\tprec\t96.0$\\pm$0.0\tprec-min\t94.3$\\pm$0.4\n",
      "\n",
      "\tGood-ifs-mix-250000-20\tprec\t96.0$\\pm$0.1\tprec-min\t94.5$\\pm$0.3\n",
      "\n",
      "\tGood-ifs-mix-300000-20\tprec\t96.2$\\pm$0.1\tprec-min\t94.4$\\pm$0.3\n",
      "\n",
      "\tGood-ifs-mix-350000-20\tprec\t96.2$\\pm$0.1\tprec-min\t94.2$\\pm$0.7\n",
      "\n",
      "\tGood-ifs-mix-400000-20\tprec\t96.2$\\pm$0.1\tprec-min\t94.4$\\pm$0.5\n",
      "\n"
     ]
    }
   ],
   "source": [
    "ifs_1K, _, _, _, _, _ = ifs_results('domain',  replay_config='ifs', ifs_option='mix', min_samples=20, goodware_ifs=True, memory_budget=1000)\n",
    "ifs_10K, _, _, _, _, _ = ifs_results('domain',  replay_config='ifs', ifs_option='mix', min_samples=20, goodware_ifs=True, memory_budget=10000)\n",
    "ifs_50K, _, _, _, _, _ = ifs_results('domain',  replay_config='ifs', ifs_option='mix', min_samples=20, goodware_ifs=True, memory_budget=50000)\n",
    "ifs_100K, _, _, _, _, _ = ifs_results('domain', replay_config='ifs', ifs_option='mix', min_samples=20, goodware_ifs=True, memory_budget=100000)\n",
    "ifs_150K, _, _, _, _, _ = ifs_results('domain', replay_config='ifs', ifs_option='mix', min_samples=20, goodware_ifs=True, memory_budget=150000)\n",
    "ifs_200K, _, _, _, _, _ = ifs_results('domain', replay_config='ifs', ifs_option='mix', min_samples=20, goodware_ifs=True, memory_budget=200000)\n",
    "ifs_250K, _, _, _, _, _ = ifs_results('domain', replay_config='ifs', ifs_option='mix', min_samples=20, goodware_ifs=True, memory_budget=250000)\n",
    "ifs_300K, _, _, _, _, _ = ifs_results('domain', replay_config='ifs', ifs_option='mix', min_samples=20, goodware_ifs=True, memory_budget=300000)\n",
    "ifs_350K, _, _, _, _, _ = ifs_results('domain', replay_config='ifs', ifs_option='mix', min_samples=20, goodware_ifs=True, memory_budget=350000)\n",
    "ifs_400K, _, _, _, _, _ = ifs_results('domain', replay_config='ifs', ifs_option='mix', min_samples=20, goodware_ifs=True, memory_budget=400000);\n"
   ]
  },
  {
   "cell_type": "code",
   "execution_count": 67,
   "metadata": {},
   "outputs": [
    {
     "name": "stdout",
     "output_type": "stream",
     "text": [
      "\taws-ratio-1000\tprec\t93.6$\\pm$0.1\tprec-min\t92.5$\\pm$0.4\n",
      "\n",
      "\taws-ratio-10000\tprec\t94.4$\\pm$0.3\tprec-min\t93.7$\\pm$0.4\n",
      "\n",
      "\taws-ratio-50000\tprec\t95.3$\\pm$0.2\tprec-min\t94.3$\\pm$0.2\n",
      "\n",
      "\taws-ratio-100000\tprec\t95.8$\\pm$0.1\tprec-min\t94.3$\\pm$0.5\n",
      "\n",
      "\taws-ratio-150000\tprec\t95.9$\\pm$0.1\tprec-min\t94.2$\\pm$0.3\n",
      "\n",
      "\taws-ratio-200000\tprec\t96.1$\\pm$0.1\tprec-min\t94.9$\\pm$0.3\n",
      "\n",
      "\taws-ratio-250000\tprec\t96.1$\\pm$0.1\tprec-min\t94.6$\\pm$0.1\n",
      "\n",
      "\taws-ratio-300000\tprec\t96.1$\\pm$0.1\tprec-min\t94.2$\\pm$0.5\n",
      "\n",
      "\taws-ratio-350000\tprec\t96.2$\\pm$0.1\tprec-min\t94.7$\\pm$0.4\n",
      "\n",
      "\taws-ratio-400000\tprec\t96.1$\\pm$0.1\tprec-min\t94.1$\\pm$0.4\n",
      "\n"
     ]
    }
   ],
   "source": [
    "ifs_1K, _, _, _, _, _ = ifs_results('domain',  replay_config='aws', ifs_option='ratio', memory_budget=1000)\n",
    "ifs_10K, _, _, _, _, _ = ifs_results('domain',  replay_config='aws', ifs_option='ratio', memory_budget=10000)\n",
    "ifs_50K, _, _, _, _, _ = ifs_results('domain',  replay_config='aws', ifs_option='ratio', memory_budget=50000)\n",
    "ifs_100K, _, _, _, _, _ = ifs_results('domain', replay_config='aws', ifs_option='ratio', memory_budget=100000)\n",
    "ifs_150K, _, _, _, _, _ = ifs_results('domain', replay_config='aws', ifs_option='ratio', memory_budget=150000)\n",
    "ifs_200K, _, _, _, _, _ = ifs_results('domain', replay_config='aws', ifs_option='ratio', memory_budget=200000)\n",
    "ifs_250K, _, _, _, _, _ = ifs_results('domain', replay_config='aws', ifs_option='ratio', memory_budget=250000)\n",
    "ifs_300K, _, _, _, _, _ = ifs_results('domain', replay_config='aws', ifs_option='ratio', memory_budget=300000)\n",
    "ifs_350K, _, _, _, _, _ = ifs_results('domain', replay_config='aws', ifs_option='ratio', memory_budget=350000)\n",
    "ifs_400K, _, _, _, _, _ = ifs_results('domain', replay_config='aws', ifs_option='ratio', memory_budget=400000);"
   ]
  },
  {
   "cell_type": "code",
   "execution_count": 68,
   "metadata": {},
   "outputs": [
    {
     "name": "stdout",
     "output_type": "stream",
     "text": [
      "\taws-uniform-1000\tprec\t93.1$\\pm$0.5\tprec-min\t91.9$\\pm$0.9\n",
      "\n",
      "\taws-uniform-10000\tprec\t94.1$\\pm$0.2\tprec-min\t93.1$\\pm$0.3\n",
      "\n",
      "\taws-uniform-50000\tprec\t94.9$\\pm$0.1\tprec-min\t93.9$\\pm$0.3\n",
      "\n",
      "\taws-uniform-100000\tprec\t95.2$\\pm$0.2\tprec-min\t94.0$\\pm$0.5\n",
      "\n",
      "\taws-uniform-150000\tprec\t95.5$\\pm$0.1\tprec-min\t94.4$\\pm$0.3\n",
      "\n",
      "\taws-uniform-200000\tprec\t95.6$\\pm$0.1\tprec-min\t94.2$\\pm$0.3\n",
      "\n",
      "\taws-uniform-250000\tprec\t95.6$\\pm$0.0\tprec-min\t94.2$\\pm$0.5\n",
      "\n",
      "\taws-uniform-300000\tprec\t95.7$\\pm$0.1\tprec-min\t93.9$\\pm$0.5\n",
      "\n",
      "\taws-uniform-350000\tprec\t95.6$\\pm$0.1\tprec-min\t94.2$\\pm$0.5\n",
      "\n",
      "\taws-uniform-400000\tprec\t95.7$\\pm$0.1\tprec-min\t94.2$\\pm$0.3\n",
      "\n"
     ]
    }
   ],
   "source": [
    "ifs_1K, _, _, _, _, _ = ifs_results('domain',  replay_config='aws', ifs_option='uniform', memory_budget=1000)\n",
    "ifs_10K, _, _, _, _, _ = ifs_results('domain',  replay_config='aws', ifs_option='uniform', memory_budget=10000)\n",
    "ifs_50K, _, _, _, _, _ = ifs_results('domain',  replay_config='aws', ifs_option='uniform', memory_budget=50000)\n",
    "ifs_100K, _, _, _, _, _ = ifs_results('domain', replay_config='aws', ifs_option='uniform', memory_budget=100000)\n",
    "ifs_150K, _, _, _, _, _ = ifs_results('domain', replay_config='aws', ifs_option='uniform', memory_budget=150000)\n",
    "ifs_200K, _, _, _, _, _ = ifs_results('domain', replay_config='aws', ifs_option='uniform', memory_budget=200000)\n",
    "ifs_250K, _, _, _, _, _ = ifs_results('domain', replay_config='aws', ifs_option='uniform', memory_budget=250000)\n",
    "ifs_300K, _, _, _, _, _ = ifs_results('domain', replay_config='aws', ifs_option='uniform', memory_budget=300000)\n",
    "ifs_350K, _, _, _, _, _ = ifs_results('domain', replay_config='aws', ifs_option='uniform', memory_budget=350000)\n",
    "ifs_400K, _, _, _, _, _ = ifs_results('domain', replay_config='aws', ifs_option='uniform', memory_budget=400000);"
   ]
  }
 ],
 "metadata": {
  "kernelspec": {
   "display_name": "PyTorch",
   "language": "python",
   "name": "pytorch"
  },
  "language_info": {
   "codemirror_mode": {
    "name": "ipython",
    "version": 3
   },
   "file_extension": ".py",
   "mimetype": "text/x-python",
   "name": "python",
   "nbconvert_exporter": "python",
   "pygments_lexer": "ipython3",
   "version": "3.7.9"
  }
 },
 "nbformat": 4,
 "nbformat_minor": 5
}
