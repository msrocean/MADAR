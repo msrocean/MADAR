{
 "cells": [
  {
   "cell_type": "code",
   "execution_count": 1,
   "metadata": {},
   "outputs": [],
   "source": [
    "import numpy as np\n",
    "import matplotlib.pyplot as plt\n",
    "import scipy as stats\n",
    "import scipy as s\n",
    "from scipy import stats\n",
    "# import seaborn as sns\n",
    "plt.rcParams['font.size'] = 18\n",
    "#plt.rcParams['font.family'] = \"serif\"\n",
    "tdir = 'in'\n",
    "major = 5.0\n",
    "minor = 3.0\n",
    "plt.rcParams['xtick.direction'] = tdir\n",
    "plt.rcParams['ytick.direction'] = tdir\n",
    "plt.rcParams['xtick.major.size'] = major\n",
    "plt.rcParams['xtick.minor.size'] = minor\n",
    "plt.rcParams['ytick.major.size'] = major\n",
    "plt.rcParams['ytick.minor.size'] = minor"
   ]
  },
  {
   "cell_type": "code",
   "execution_count": 204,
   "metadata": {
    "scrolled": true
   },
   "outputs": [],
   "source": [
    "def get_average_all_exps(result_dict, get_exps_min=False):\n",
    "    \n",
    "    multiexps = {}\n",
    "    for k, runs in result_dict.items():\n",
    "        #print(k)\n",
    "        #for runs in precs_dict[k]:\n",
    "        #print(runs)\n",
    "        for ind, run in enumerate(runs):\n",
    "            #print(run)\n",
    "            try:\n",
    "                if ind in multiexps.keys():\n",
    "                    multiexps[ind].append(run)\n",
    "                else:\n",
    "                    multiexps[ind] = [run]\n",
    "            except: continue\n",
    "\n",
    "\n",
    "    exps_mean = []\n",
    "    exps_min = []\n",
    "    for exp in multiexps.keys():\n",
    "        exps_mean.append(np.mean(multiexps[exp]))\n",
    "        exps_min.append(np.min(multiexps[exp]))\n",
    "        #print(np.mean(multiexps[exp]), np.std(multiexps[exp]))\n",
    "\n",
    "    assert len(exps_mean) == len(exps_min)\n",
    "\n",
    "    #print(f'Mean {np.mean(exps_mean)* 100:.2f}\\u00B1{np.std(exps_mean)* 100:.2f}')\n",
    "    #print(f'Min {np.mean(exps_min)* 100:.2f}\\u00B1{np.std(exps_min)* 100:.2f}')\n",
    "    \n",
    "    if get_exps_min:\n",
    "        return exps_mean, exps_min\n",
    "    else:\n",
    "        return exps_mean \n",
    "    \n",
    "    \n",
    "    \n",
    "def ifs_results(scenario, replay_config, ifs_option='ratio', joint=False, get_min=False,\n",
    "                cnt_rate=0.1, anomaly_perct=0.5, min_samples=1, memory_budget=1000):\n",
    "\n",
    "    #target_classes = 100\n",
    "    \n",
    "    results_dir = './Submission_Class/'\n",
    "\n",
    "    if replay_config == 'grs':\n",
    "        if joint:\n",
    "            result_file = str(replay_config)  + '_joint_results.txt'\n",
    "        else:\n",
    "            result_file = str(replay_config)  + '_' +\\\n",
    "                    str(memory_budget)  + '_results.txt'\n",
    "            \n",
    "    elif replay_config == 'ifs':\n",
    "        if min_samples > 1:\n",
    "            result_file = 'ifs_' + str(ifs_option) + '_' + str(memory_budget) + '_' + str(min_samples) + '_results.txt'\n",
    "        else:\n",
    "            result_file = 'ifs_' + str(ifs_option) + '_' + str(memory_budget) + '_results.txt'\n",
    "    elif replay_config == 'aws':\n",
    "        if min_samples > 1:\n",
    "            result_file = 'aws_' + str(ifs_option) + '_' + str(memory_budget) + '_' + str(min_samples) + '_results.txt'\n",
    "        else:\n",
    "            result_file = 'aws_' + str(ifs_option) + '_' + str(memory_budget) + '_results.txt'\n",
    "    elif replay_config == 'none':\n",
    "        result_file = 'none_results.txt'\n",
    "    else:\n",
    "        result_file = str(replay_config)  + '_' +\\\n",
    "                    str(memory_budget)  + '_results.txt'\n",
    "\n",
    "        \n",
    "    result_path = results_dir + result_file \n",
    "    #print(result_path)\n",
    "    \n",
    "    accs_dict = {}\n",
    "    precs_dict = {}\n",
    "    recalls_dict = {}\n",
    "    f1_dict = {}\n",
    "\n",
    "    with open(result_path) as f:\n",
    "            lines = f.readlines()\n",
    "            #print(lines)\n",
    "            for line in lines:\n",
    "                #print(line)\n",
    "                infos = line.split('\\t')\n",
    "                #print(infos)\n",
    "                task = infos[0]\n",
    "                #print(int(task))\n",
    "                acc, prec, recal, f1 = float(infos[1]), float(infos[2]), float(infos[3]), float(infos[4])\n",
    "\n",
    "                if task in accs_dict.keys():\n",
    "                    accs_dict[task].append(acc)\n",
    "                    precs_dict[task].append(prec)\n",
    "                    recalls_dict[task].append(recal)\n",
    "                    f1_dict[task].append(f1)\n",
    "                else:\n",
    "                    accs_dict[task] = [acc]\n",
    "                    precs_dict[task] = [prec]\n",
    "                    recalls_dict[task] = [recal]\n",
    "                    f1_dict[task] = [f1]\n",
    "\n",
    "    #print(accs_dict)\n",
    "    \n",
    "    #accs_all_task = []\n",
    "    accs_all = get_average_all_exps(accs_dict, get_exps_min=False)\n",
    "    precs_all, precs_all_min = get_average_all_exps(precs_dict, get_exps_min=True)\n",
    "    \n",
    "    recalls_all =get_average_all_exps(recalls_dict, get_exps_min=False)\n",
    "    f1_all = get_average_all_exps(f1_dict, get_exps_min=False)\n",
    "    \n",
    "    \n",
    "    precs_all_task = []\n",
    "    f1_all_task = []\n",
    "    for k, v in precs_dict.items():\n",
    "        precs_all_task.append(v)\n",
    "        f1_all_task.append(f1_dict[k])\n",
    "        \n",
    "\n",
    "    #print()\n",
    "    if get_min:\n",
    "        if replay_config == 'grs':\n",
    "            if joint:\n",
    "                print(f'\\t {str(replay_config)}-Joint\\tprec-min\\t{np.mean(precs_all_min)* 100:.1f}$\\pm${np.std(precs_all_min) * 100:.1f}')\n",
    "            else:\n",
    "                print(f'\\t {str(replay_config)}-{str(memory_budget)}\\tprec-min\\t{np.mean(precs_all_min)* 100:.1f}$\\pm${np.std(precs_all_min) * 100:.1f}')\n",
    "                \n",
    "        if replay_config == 'ifs' or replay_config == 'aws':\n",
    "            print(f'\\t{str(replay_config)}-{str(ifs_option)}-{str(memory_budget)}\\t prec-min\\t{np.mean(precs_all_min)* 100:.1f}\\u00B1{np.std(precs_all_min) * 100:.1f} \\n')\n",
    "    else:\n",
    "        if replay_config == 'grs':\n",
    "            if joint:\n",
    "                #print(f'\\t\\t {str(replay_config)}-Joint \\n#################\\t###################\\t###################\\t###################\\nprec   {np.mean(precs_all)* 100:.2f}\\u00B1{np.std(precs_all) * 100:.2f} \\tprec-min\\t{np.mean(precs_all_min)* 100:.2f}\\u00B1{np.std(precs_all_min) * 100:.2f} \\trecall\\t {np.mean(recalls_all)* 100:.2f}\\u00B1{np.std(recalls_all) * 100:.2f} \\tf1\\t{np.mean(f1_all)* 100:.2f}\\u00B1{np.std(f1_all) * 100:.2f} \\n#################\\t###################\\t###################\\t###################')\n",
    "                #print(f'\\t {str(replay_config)}-Joint\\tprec-min\\t{np.mean(precs_all_min)* 100:.1f}$\\pm${np.std(precs_all_min) * 100:.1f}')\n",
    "                print(f'\\t {str(replay_config)}-Joint\\tprec\\t{np.mean(precs_all)* 100:.1f}$\\pm${np.std(precs_all) * 100:.1f}')\n",
    "            else:\n",
    "                print(f'\\t {str(replay_config)}-{str(memory_budget)}\\tprec\\t{np.mean(precs_all)* 100:.1f}$\\pm${np.std(precs_all) * 100:.1f}')\n",
    "                #print(f'\\t {str(replay_config)}-{str(memory_budget)}\\tprec-min\\t{np.mean(precs_all_min)* 100:.1f}$\\pm${np.std(precs_all_min) * 100:.1f}')\n",
    "                #print(f'\\t\\t {str(replay_config)}-{str(memory_budget)}\\n#################\\t###################\\t###################\\t###################\\nprec   {np.mean(precs_all)* 100:.2f}\\u00B1{np.std(precs_all) * 100:.2f} \\tprec-min\\t{np.mean(precs_all_min)* 100:.2f}\\u00B1{np.std(precs_all_min) * 100:.2f} \\trecall\\t {np.mean(recalls_all)* 100:.2f}\\u00B1{np.std(recalls_all) * 100:.2f} \\tf1\\t{np.mean(f1_all)* 100:.2f}\\u00B1{np.std(f1_all) * 100:.2f} \\n#################\\t###################\\t###################\\t###################')\n",
    "\n",
    "        if replay_config == 'ifs' or replay_config == 'aws':\n",
    "            print(f'\\t{str(replay_config)}-{str(ifs_option)}-{str(memory_budget)}\\tprec\\t{np.mean(precs_all)* 100:.1f}$\\pm${np.std(precs_all) * 100:.1f}')\n",
    "            #print(f'\\t\\t {str(replay_config)}-{str(ifs_option)}-{str(memory_budget)}\\n#################\\t###################\\t###################\\t###################\\nprec   {np.mean(precs_all)* 100:.2f}\\u00B1{np.std(precs_all) * 100:.2f} \\tprec-min\\t{np.mean(precs_all_min)* 100:.2f}\\u00B1{np.std(precs_all_min) * 100:.2f} \\trecall\\t {np.mean(recalls_all)* 100:.2f}\\u00B1{np.std(recalls_all) * 100:.2f} \\tf1\\t{np.mean(f1_all)* 100:.2f}\\u00B1{np.std(f1_all) * 100:.2f} \\n#################\\t###################\\t###################\\t###################')\n",
    "            #print(f'\\t{str(replay_config)}-{str(ifs_option)}-{str(memory_budget)}\\t prec-min\\t{np.mean(precs_all_min)* 100:.2f}\\u00B1{np.std(precs_all_min) * 100:.2f} \\n')\n",
    "            #print(f'\\t{str(replay_config)}-{str(ifs_option)}-{str(memory_budget)}\\tprec-min\\t{np.mean(precs_all_min)* 100:.1f}$\\pm${np.std(precs_all_min) * 100:.1f}')\n",
    "        #print()\n",
    "    \n",
    "    \n",
    "    return  np.array(precs_all_task), np.array(accs_all), np.array(precs_all), np.array(recalls_all), np.array(f1_all_task), np.array(f1_all)\n",
    "\n",
    "\n",
    "\n",
    "# scenario, replay_config, joint=False,\n",
    "#                 cnt_rate=0.1, anomaly_perct=0.5, memory_budget=1000\n",
    "\n",
    "# grs_joint, _, _, _, _, _ = ifs_results('class', replay_config='grs', joint=True) \n",
    "\n",
    "# grs_100, _, _, _, _, _ = ifs_results('class', replay_config='grs', memory_budget=100)\n",
    "# grs_250, _, _, _, _, _ = ifs_results('class', replay_config='grs', memory_budget=250)\n",
    "# grs_500, _, _, _, _, _ = ifs_results('class', replay_config='grs', memory_budget=500)\n",
    "# grs_1K, _, _, _, _, _ = ifs_results('class', replay_config='grs', memory_budget=1000)\n",
    "# grs_1_5K, _, _, _, _, _ = ifs_results('class', replay_config='grs', memory_budget=1500)\n",
    "# grs_2K, _, _, _, _, _ = ifs_results('class', replay_config='grs', memory_budget=2000)\n",
    "# grs_2_5K, _, _, _, _, _ = ifs_results('class', replay_config='grs', memory_budget=2500)\n",
    "# grs_3K, _, _, _, _, _ = ifs_results('class', replay_config='grs', memory_budget=3000)\n",
    "# grs_3_5K, _, _, _, _, _ = ifs_results('class', replay_config='grs', memory_budget=3500)\n",
    "# grs_4K, _, _, _, _, _ = ifs_results('class', replay_config='grs', memory_budget=4000)\n",
    "# grs_4_5K, _, _, _, _, _ = ifs_results('class', replay_config='grs', memory_budget=4500)\n",
    "# grs_5K, _, _, _, _, _ = ifs_results('class', replay_config='grs', memory_budget=5000);"
   ]
  },
  {
   "cell_type": "code",
   "execution_count": 194,
   "metadata": {},
   "outputs": [
    {
     "name": "stdout",
     "output_type": "stream",
     "text": [
      "\t grs-Joint\tprec\t86.2$\\pm$1.3\n",
      "\t grs-100\tprec\t51.9$\\pm$0.4\n",
      "\t grs-250\tprec\t61.9$\\pm$1.8\n",
      "\t grs-500\tprec\t70.3$\\pm$0.5\n",
      "\t grs-1000\tprec\t75.4$\\pm$0.7\n",
      "\t grs-2000\tprec\t79.1$\\pm$0.2\n",
      "\t grs-3000\tprec\t80.6$\\pm$0.3\n",
      "\t grs-4000\tprec\t81.3$\\pm$0.3\n",
      "\t grs-5000\tprec\t82.0$\\pm$0.2\n",
      "\t grs-6000\tprec\t82.5$\\pm$0.2\n",
      "\t grs-7000\tprec\t83.1$\\pm$0.3\n",
      "\t grs-10000\tprec\t83.5$\\pm$0.1\n",
      "\t grs-15000\tprec\t84.3$\\pm$0.3\n",
      "\t grs-20000\tprec\t84.6$\\pm$0.2\n"
     ]
    }
   ],
   "source": [
    "grs_joint, _, _, _, _, _ = ifs_results('class', replay_config='grs', joint=True) \n",
    "grs_100, _, _, _, _, _ = ifs_results('class', replay_config='grs', memory_budget=100)\n",
    "grs_250, _, _, _, _, _ = ifs_results('class', replay_config='grs', memory_budget=250)\n",
    "grs_500, _, _, _, _, _ = ifs_results('class', replay_config='grs', memory_budget=500)\n",
    "grs_1K, _, _, _, _, _ = ifs_results('class', replay_config='grs', memory_budget=1000)\n",
    "grs_2K, _, _, _, _, _ = ifs_results('class', replay_config='grs', memory_budget=2000)\n",
    "grs_3K, _, _, _, _, _ = ifs_results('class', replay_config='grs', memory_budget=3000)\n",
    "grs_4K, _, _, _, _, _ = ifs_results('class', replay_config='grs', memory_budget=4000)\n",
    "grs_5K, _, _, _, _, _ = ifs_results('class', replay_config='grs', memory_budget=5000)\n",
    "grs_6K, _, _, _, _, _ = ifs_results('class', replay_config='grs', memory_budget=6000)\n",
    "grs_7K, _, _, _, _, _ = ifs_results('class', replay_config='grs', memory_budget=7000)\n",
    "grs_10K, _, _, _, _, _ = ifs_results('class', replay_config='grs', memory_budget=10000)\n",
    "grs_15K, _, _, _, _, _ = ifs_results('class', replay_config='grs', memory_budget=15000)\n",
    "grs_20K, _, _, _, _, _ = ifs_results('class', replay_config='grs', memory_budget=20000)\n"
   ]
  },
  {
   "cell_type": "code",
   "execution_count": 172,
   "metadata": {},
   "outputs": [
    {
     "name": "stdout",
     "output_type": "stream",
     "text": [
      "\t grs-100\tprec-min\t31.0$\\pm$2.6\n",
      "\t grs-250\tprec-min\t40.8$\\pm$3.5\n",
      "\t grs-500\tprec-min\t53.9$\\pm$2.0\n",
      "\t grs-1000\tprec-min\t62.4$\\pm$1.6\n",
      "\t grs-2000\tprec-min\t69.7$\\pm$0.8\n",
      "\t grs-3000\tprec-min\t72.7$\\pm$0.6\n",
      "\t grs-4000\tprec-min\t73.7$\\pm$0.9\n",
      "\t grs-5000\tprec-min\t75.0$\\pm$0.8\n",
      "\t grs-6000\tprec-min\t76.2$\\pm$0.6\n",
      "\t grs-7000\tprec-min\t76.9$\\pm$0.6\n"
     ]
    }
   ],
   "source": [
    "#grs_joint, _, _, _, _, _ = ifs_results('class', replay_config='grs', joint=True) \n",
    "grs_100, _, _, _, _, _ = ifs_results('class', replay_config='grs', get_min=True, memory_budget=100)\n",
    "grs_250, _, _, _, _, _ = ifs_results('class', replay_config='grs', get_min=True, memory_budget=250)\n",
    "grs_500, _, _, _, _, _ = ifs_results('class', replay_config='grs', get_min=True, memory_budget=500)\n",
    "grs_1K, _, _, _, _, _ = ifs_results('class', replay_config='grs', get_min=True, memory_budget=1000)\n",
    "grs_2K, _, _, _, _, _ = ifs_results('class', replay_config='grs', get_min=True, memory_budget=2000)\n",
    "grs_3K, _, _, _, _, _ = ifs_results('class', replay_config='grs', get_min=True, memory_budget=3000)\n",
    "grs_4K, _, _, _, _, _ = ifs_results('class', replay_config='grs', get_min=True, memory_budget=4000)\n",
    "grs_5K, _, _, _, _, _ = ifs_results('class', replay_config='grs', get_min=True, memory_budget=5000)\n",
    "grs_6K, _, _, _, _, _ = ifs_results('class', replay_config='grs', get_min=True, memory_budget=6000)\n",
    "grs_7K, _, _, _, _, _ = ifs_results('class', replay_config='grs', get_min=True, memory_budget=7000)\n"
   ]
  },
  {
   "cell_type": "code",
   "execution_count": 195,
   "metadata": {},
   "outputs": [
    {
     "name": "stdout",
     "output_type": "stream",
     "text": [
      "\tifs-ratio-100\tprec\t68.0$\\pm$0.4\n",
      "\tifs-ratio-250\tprec\t70.4$\\pm$0.1\n",
      "\tifs-ratio-500\tprec\t73.6$\\pm$0.2\n",
      "\tifs-ratio-1000\tprec\t76.0$\\pm$0.3\n",
      "\tifs-ratio-2000\tprec\t78.8$\\pm$0.4\n",
      "\tifs-ratio-3000\tprec\t79.9$\\pm$0.2\n",
      "\tifs-ratio-4000\tprec\t80.7$\\pm$0.3\n",
      "\tifs-ratio-5000\tprec\t81.5$\\pm$0.2\n",
      "\tifs-ratio-6000\tprec\t81.9$\\pm$0.2\n",
      "\tifs-ratio-7000\tprec\t82.2$\\pm$0.3\n",
      "\tifs-ratio-10000\tprec\t83.1$\\pm$0.3\n",
      "\tifs-ratio-15000\tprec\t83.8$\\pm$0.2\n",
      "\tifs-ratio-20000\tprec\t84.0$\\pm$0.2\n"
     ]
    }
   ],
   "source": [
    "ifsR_100, _, _, _, _, _ = ifs_results('class', replay_config='ifs', ifs_option='ratio', memory_budget=100)\n",
    "ifsR_250, _, _, _, _, _ = ifs_results('class', replay_config='ifs', ifs_option='ratio', memory_budget=250)\n",
    "ifsR_500, _, _, _, _, _ = ifs_results('class', replay_config='ifs', ifs_option='ratio', memory_budget=500)\n",
    "ifsR_1K, _, _, _, _, _ = ifs_results('class', replay_config='ifs', ifs_option='ratio', memory_budget=1000)\n",
    "ifsR_2K, _, _, _, _, _ = ifs_results('class', replay_config='ifs', ifs_option='ratio', memory_budget=2000)\n",
    "ifsR_3K, _, _, _, _, _ = ifs_results('class', replay_config='ifs', ifs_option='ratio', memory_budget=3000)\n",
    "ifsR_4K, _, _, _, _, _ = ifs_results('class', replay_config='ifs', ifs_option='ratio', memory_budget=4000)\n",
    "ifsR_5K, _, _, _, _, _ = ifs_results('class', replay_config='ifs', ifs_option='ratio', memory_budget=5000)\n",
    "ifsR_6K, _, _, _, _, _ = ifs_results('class', replay_config='ifs', ifs_option='ratio', memory_budget=6000)\n",
    "ifsR_7K, _, _, _, _, _ = ifs_results('class', replay_config='ifs', ifs_option='ratio', memory_budget=7000)\n",
    "ifsR_10K, _, _, _, _, _ = ifs_results('class', replay_config='ifs', ifs_option='ratio', memory_budget=10000)\n",
    "ifsR_15K, _, _, _, _, _ = ifs_results('class', replay_config='ifs', ifs_option='ratio', memory_budget=15000)\n",
    "ifsR_20K, _, _, _, _, _ = ifs_results('class', replay_config='ifs', ifs_option='ratio', memory_budget=20000)"
   ]
  },
  {
   "cell_type": "code",
   "execution_count": 196,
   "metadata": {},
   "outputs": [
    {
     "name": "stdout",
     "output_type": "stream",
     "text": [
      "\tifs-uniform-100\tprec\t66.4$\\pm$0.4\n",
      "\tifs-uniform-250\tprec\t72.6$\\pm$0.3\n",
      "\tifs-uniform-500\tprec\t76.5$\\pm$0.2\n",
      "\tifs-uniform-1000\tprec\t79.4$\\pm$0.4\n",
      "\tifs-uniform-2000\tprec\t81.9$\\pm$0.2\n",
      "\tifs-uniform-3000\tprec\t82.6$\\pm$0.3\n",
      "\tifs-uniform-4000\tprec\t83.4$\\pm$0.2\n",
      "\tifs-uniform-5000\tprec\t83.8$\\pm$0.2\n",
      "\tifs-uniform-6000\tprec\t84.1$\\pm$0.2\n",
      "\tifs-uniform-7000\tprec\t84.4$\\pm$0.2\n",
      "\tifs-uniform-10000\tprec\t84.8$\\pm$0.1\n",
      "\tifs-uniform-15000\tprec\t85.5$\\pm$0.1\n",
      "\tifs-uniform-20000\tprec\t85.8$\\pm$0.3\n"
     ]
    }
   ],
   "source": [
    "ifsU_100, _, _, _, _, _ = ifs_results('class', replay_config='ifs', ifs_option='uniform', memory_budget=100)\n",
    "ifsU_250, _, _, _, _, _ = ifs_results('class', replay_config='ifs', ifs_option='uniform', memory_budget=250)\n",
    "ifsU_500, _, _, _, _, _ = ifs_results('class', replay_config='ifs', ifs_option='uniform', memory_budget=500)\n",
    "ifsU_1K, _, _, _, _, _ = ifs_results('class', replay_config='ifs', ifs_option='uniform', memory_budget=1000)\n",
    "ifsU_2K, _, _, _, _, _ = ifs_results('class', replay_config='ifs', ifs_option='uniform', memory_budget=2000)\n",
    "ifsU_3K, _, _, _, _, _ = ifs_results('class', replay_config='ifs', ifs_option='uniform', memory_budget=3000)\n",
    "ifsU_4K, _, _, _, _, _ = ifs_results('class', replay_config='ifs', ifs_option='uniform', memory_budget=4000)\n",
    "ifsU_5K, _, _, _, _, _ = ifs_results('class', replay_config='ifs', ifs_option='uniform', memory_budget=5000)\n",
    "ifsU_6K, _, _, _, _, _ = ifs_results('class', replay_config='ifs', ifs_option='uniform', memory_budget=6000)\n",
    "ifsU_7K, _, _, _, _, _ = ifs_results('class', replay_config='ifs', ifs_option='uniform', memory_budget=7000)\n",
    "ifsU_10K, _, _, _, _, _ = ifs_results('class', replay_config='ifs', ifs_option='uniform', memory_budget=10000)\n",
    "ifsU_15K, _, _, _, _, _ = ifs_results('class', replay_config='ifs', ifs_option='uniform', memory_budget=15000)\n",
    "ifsU_20K, _, _, _, _, _ = ifs_results('class', replay_config='ifs', ifs_option='uniform', memory_budget=20000)\n"
   ]
  },
  {
   "cell_type": "code",
   "execution_count": 197,
   "metadata": {},
   "outputs": [
    {
     "name": "stdout",
     "output_type": "stream",
     "text": [
      "\tifs-mix-100\tprec\t67.5$\\pm$0.8\n",
      "\tifs-mix-250\tprec\t70.9$\\pm$0.4\n",
      "\tifs-mix-500\tprec\t73.3$\\pm$0.4\n",
      "\tifs-mix-1000\tprec\t76.1$\\pm$0.4\n",
      "\tifs-mix-2000\tprec\t78.9$\\pm$0.3\n",
      "\tifs-mix-3000\tprec\t80.1$\\pm$0.3\n",
      "\tifs-mix-4000\tprec\t80.8$\\pm$0.2\n",
      "\tifs-mix-5000\tprec\t81.7$\\pm$0.3\n",
      "\tifs-mix-6000\tprec\t82.0$\\pm$0.3\n",
      "\tifs-mix-7000\tprec\t82.3$\\pm$0.2\n",
      "\tifs-mix-10000\tprec\t83.0$\\pm$0.2\n",
      "\tifs-mix-15000\tprec\t83.6$\\pm$0.1\n",
      "\tifs-mix-20000\tprec\t84.1$\\pm$0.1\n"
     ]
    }
   ],
   "source": [
    "min_samples = 2\n",
    "\n",
    "ifsM_100, _, _, _, _, _ = ifs_results('class',  replay_config='ifs', ifs_option='mix', min_samples=min_samples, memory_budget=100)\n",
    "ifsM_250, _, _, _, _, _ = ifs_results('class',  replay_config='ifs', ifs_option='mix', min_samples=min_samples, memory_budget=250)\n",
    "ifsM_500, _, _, _, _, _ = ifs_results('class',  replay_config='ifs', ifs_option='mix', min_samples=min_samples, memory_budget=500)\n",
    "ifsM_1K, _, _, _, _, _ = ifs_results('class', replay_config='ifs', ifs_option='mix', min_samples=min_samples, memory_budget=1000)\n",
    "ifsM_2K, _, _, _, _, _ = ifs_results('class', replay_config='ifs', ifs_option='mix', min_samples=min_samples, memory_budget=2000)\n",
    "ifsM_3K, _, _, _, _, _ = ifs_results('class', replay_config='ifs', ifs_option='mix', min_samples=min_samples, memory_budget=3000)\n",
    "ifsM_4K, _, _, _, _, _ = ifs_results('class', replay_config='ifs', ifs_option='mix', min_samples=min_samples, memory_budget=4000)\n",
    "ifsM_5K, _, _, _, _, _ = ifs_results('class', replay_config='ifs', ifs_option='mix', min_samples=min_samples, memory_budget=5000)\n",
    "ifsM_6K, _, _, _, _, _ = ifs_results('class', replay_config='ifs', ifs_option='mix', min_samples=min_samples, memory_budget=6000)\n",
    "ifsM_7K, _, _, _, _, _ = ifs_results('class', replay_config='ifs', ifs_option='mix', min_samples=min_samples, memory_budget=7000);\n",
    "ifsM_10K, _, _, _, _, _ = ifs_results('class', replay_config='ifs', ifs_option='mix', min_samples=min_samples, memory_budget=10000)\n",
    "ifsM_15K, _, _, _, _, _ = ifs_results('class', replay_config='ifs', ifs_option='mix', min_samples=min_samples, memory_budget=15000)\n",
    "ifsM_20K, _, _, _, _, _ = ifs_results('class', replay_config='ifs', ifs_option='mix', min_samples=min_samples, memory_budget=20000);\n"
   ]
  },
  {
   "cell_type": "code",
   "execution_count": 198,
   "metadata": {},
   "outputs": [
    {
     "name": "stdout",
     "output_type": "stream",
     "text": [
      "\tifs-mix-100\tprec\t74.7$\\pm$0.5\n",
      "\tifs-mix-250\tprec\t76.0$\\pm$0.5\n",
      "\tifs-mix-500\tprec\t76.2$\\pm$0.4\n",
      "\tifs-mix-1000\tprec\t77.6$\\pm$0.3\n",
      "\tifs-mix-2000\tprec\t79.0$\\pm$0.3\n",
      "\tifs-mix-3000\tprec\t80.0$\\pm$0.1\n",
      "\tifs-mix-4000\tprec\t80.8$\\pm$0.2\n",
      "\tifs-mix-5000\tprec\t81.5$\\pm$0.2\n",
      "\tifs-mix-6000\tprec\t81.7$\\pm$0.1\n",
      "\tifs-mix-7000\tprec\t82.1$\\pm$0.3\n",
      "\tifs-mix-10000\tprec\t82.9$\\pm$0.3\n",
      "\tifs-mix-15000\tprec\t83.7$\\pm$0.1\n",
      "\tifs-mix-20000\tprec\t84.2$\\pm$0.2\n"
     ]
    }
   ],
   "source": [
    "min_samples = 5\n",
    "\n",
    "ifsM_100, _, _, _, _, _ = ifs_results('class',  replay_config='ifs', ifs_option='mix', min_samples=min_samples, memory_budget=100)\n",
    "ifsM_250, _, _, _, _, _ = ifs_results('class',  replay_config='ifs', ifs_option='mix', min_samples=min_samples, memory_budget=250)\n",
    "ifsM_500, _, _, _, _, _ = ifs_results('class',  replay_config='ifs', ifs_option='mix', min_samples=min_samples, memory_budget=500)\n",
    "ifsM_1K, _, _, _, _, _ = ifs_results('class', replay_config='ifs', ifs_option='mix', min_samples=min_samples, memory_budget=1000)\n",
    "ifsM_2K, _, _, _, _, _ = ifs_results('class', replay_config='ifs', ifs_option='mix', min_samples=min_samples, memory_budget=2000)\n",
    "ifsM_3K, _, _, _, _, _ = ifs_results('class', replay_config='ifs', ifs_option='mix', min_samples=min_samples, memory_budget=3000)\n",
    "ifsM_4K, _, _, _, _, _ = ifs_results('class', replay_config='ifs', ifs_option='mix', min_samples=min_samples, memory_budget=4000)\n",
    "ifsM_5K, _, _, _, _, _ = ifs_results('class', replay_config='ifs', ifs_option='mix', min_samples=min_samples, memory_budget=5000)\n",
    "ifsM_6K, _, _, _, _, _ = ifs_results('class', replay_config='ifs', ifs_option='mix', min_samples=min_samples, memory_budget=6000)\n",
    "ifsM_7K, _, _, _, _, _ = ifs_results('class', replay_config='ifs', ifs_option='mix', min_samples=min_samples, memory_budget=7000);\n",
    "ifsM_10K, _, _, _, _, _ = ifs_results('class', replay_config='ifs', ifs_option='mix', min_samples=min_samples, memory_budget=10000);\n",
    "ifsM_15K, _, _, _, _, _ = ifs_results('class', replay_config='ifs', ifs_option='mix', min_samples=min_samples, memory_budget=15000);\n",
    "ifsM_20K, _, _, _, _, _ = ifs_results('class', replay_config='ifs', ifs_option='mix', min_samples=min_samples, memory_budget=20000);\n"
   ]
  },
  {
   "cell_type": "code",
   "execution_count": null,
   "metadata": {},
   "outputs": [],
   "source": []
  },
  {
   "cell_type": "code",
   "execution_count": 199,
   "metadata": {},
   "outputs": [
    {
     "name": "stdout",
     "output_type": "stream",
     "text": [
      "\tifs-mix-100\tprec\t77.9$\\pm$0.2\n",
      "\tifs-mix-250\tprec\t77.9$\\pm$0.1\n",
      "\tifs-mix-500\tprec\t78.6$\\pm$0.1\n",
      "\tifs-mix-1000\tprec\t79.2$\\pm$0.3\n",
      "\tifs-mix-2000\tprec\t79.9$\\pm$0.4\n",
      "\tifs-mix-3000\tprec\t80.4$\\pm$0.3\n",
      "\tifs-mix-4000\tprec\t80.7$\\pm$0.2\n",
      "\tifs-mix-5000\tprec\t81.4$\\pm$0.2\n",
      "\tifs-mix-6000\tprec\t81.9$\\pm$0.3\n",
      "\tifs-mix-7000\tprec\t82.3$\\pm$0.2\n",
      "\tifs-mix-10000\tprec\t82.9$\\pm$0.2\n",
      "\tifs-mix-15000\tprec\t83.6$\\pm$0.2\n",
      "\tifs-mix-20000\tprec\t84.3$\\pm$0.1\n"
     ]
    }
   ],
   "source": [
    "min_samples = 10\n",
    "\n",
    "ifsM_100, _, _, _, _, _ = ifs_results('class',  replay_config='ifs', ifs_option='mix', min_samples=min_samples, memory_budget=100)\n",
    "ifsM_250, _, _, _, _, _ = ifs_results('class',  replay_config='ifs', ifs_option='mix', min_samples=min_samples, memory_budget=250)\n",
    "ifsM_500, _, _, _, _, _ = ifs_results('class',  replay_config='ifs', ifs_option='mix', min_samples=min_samples, memory_budget=500)\n",
    "ifsM_1K, _, _, _, _, _ = ifs_results('class', replay_config='ifs', ifs_option='mix', min_samples=min_samples, memory_budget=1000)\n",
    "ifsM_2K, _, _, _, _, _ = ifs_results('class', replay_config='ifs', ifs_option='mix', min_samples=min_samples, memory_budget=2000)\n",
    "ifsM_3K, _, _, _, _, _ = ifs_results('class', replay_config='ifs', ifs_option='mix', min_samples=min_samples, memory_budget=3000)\n",
    "ifsM_4K, _, _, _, _, _ = ifs_results('class', replay_config='ifs', ifs_option='mix', min_samples=min_samples, memory_budget=4000)\n",
    "ifsM_5K, _, _, _, _, _ = ifs_results('class', replay_config='ifs', ifs_option='mix', min_samples=min_samples, memory_budget=5000)\n",
    "ifsM_6K, _, _, _, _, _ = ifs_results('class', replay_config='ifs', ifs_option='mix', min_samples=min_samples, memory_budget=6000)\n",
    "ifsM_7K, _, _, _, _, _ = ifs_results('class', replay_config='ifs', ifs_option='mix', min_samples=min_samples, memory_budget=7000);\n",
    "ifsM_10K, _, _, _, _, _ = ifs_results('class', replay_config='ifs', ifs_option='mix', min_samples=min_samples, memory_budget=10000);\n",
    "ifsM_15K, _, _, _, _, _ = ifs_results('class', replay_config='ifs', ifs_option='mix', min_samples=min_samples, memory_budget=15000);\n",
    "ifsM_20K, _, _, _, _, _ = ifs_results('class', replay_config='ifs', ifs_option='mix', min_samples=min_samples, memory_budget=20000);\n"
   ]
  },
  {
   "cell_type": "code",
   "execution_count": 202,
   "metadata": {},
   "outputs": [
    {
     "name": "stdout",
     "output_type": "stream",
     "text": [
      "\tifs-mix-100\tprec\t79.8$\\pm$0.2\n",
      "\tifs-mix-250\tprec\t79.7$\\pm$0.2\n",
      "\tifs-mix-500\tprec\t80.0$\\pm$0.2\n",
      "\tifs-mix-1000\tprec\t80.8$\\pm$0.2\n",
      "\tifs-mix-2000\tprec\t80.9$\\pm$0.2\n",
      "\tifs-mix-3000\tprec\t81.2$\\pm$0.3\n",
      "\tifs-mix-4000\tprec\t81.6$\\pm$0.3\n",
      "\tifs-mix-5000\tprec\t81.9$\\pm$0.2\n",
      "\tifs-mix-6000\tprec\t82.0$\\pm$0.2\n",
      "\tifs-mix-7000\tprec\t82.4$\\pm$0.3\n",
      "\tifs-mix-10000\tprec\t82.9$\\pm$0.3\n",
      "\tifs-mix-15000\tprec\t83.7$\\pm$0.2\n",
      "\tifs-mix-20000\tprec\t84.0$\\pm$0.3\n"
     ]
    }
   ],
   "source": [
    "min_samples = 15\n",
    "\n",
    "ifsM_100, _, _, _, _, _ = ifs_results('class',  replay_config='ifs', ifs_option='mix', min_samples=min_samples, memory_budget=100)\n",
    "ifsM_250, _, _, _, _, _ = ifs_results('class',  replay_config='ifs', ifs_option='mix', min_samples=min_samples, memory_budget=250)\n",
    "ifsM_500, _, _, _, _, _ = ifs_results('class',  replay_config='ifs', ifs_option='mix', min_samples=min_samples, memory_budget=500)\n",
    "ifsM_1K, _, _, _, _, _ = ifs_results('class', replay_config='ifs', ifs_option='mix', min_samples=min_samples, memory_budget=1000)\n",
    "ifsM_2K, _, _, _, _, _ = ifs_results('class', replay_config='ifs', ifs_option='mix', min_samples=min_samples, memory_budget=2000)\n",
    "ifsM_3K, _, _, _, _, _ = ifs_results('class', replay_config='ifs', ifs_option='mix', min_samples=min_samples, memory_budget=3000)\n",
    "ifsM_4K, _, _, _, _, _ = ifs_results('class', replay_config='ifs', ifs_option='mix', min_samples=min_samples, memory_budget=4000)\n",
    "ifsM_5K, _, _, _, _, _ = ifs_results('class', replay_config='ifs', ifs_option='mix', min_samples=min_samples, memory_budget=5000)\n",
    "ifsM_6K, _, _, _, _, _ = ifs_results('class', replay_config='ifs', ifs_option='mix', min_samples=min_samples, memory_budget=6000)\n",
    "ifsM_7K, _, _, _, _, _ = ifs_results('class', replay_config='ifs', ifs_option='mix', min_samples=min_samples, memory_budget=7000);\n",
    "ifsM_10K, _, _, _, _, _ = ifs_results('class', replay_config='ifs', ifs_option='mix', min_samples=min_samples, memory_budget=10000);\n",
    "ifsM_15K, _, _, _, _, _ = ifs_results('class', replay_config='ifs', ifs_option='mix', min_samples=min_samples, memory_budget=15000);\n",
    "\n",
    "ifsM_20K, _, _, _, _, _ = ifs_results('class', replay_config='ifs', ifs_option='mix', min_samples=min_samples, memory_budget=20000);\n"
   ]
  },
  {
   "cell_type": "code",
   "execution_count": null,
   "metadata": {},
   "outputs": [],
   "source": []
  },
  {
   "cell_type": "code",
   "execution_count": 203,
   "metadata": {},
   "outputs": [
    {
     "name": "stdout",
     "output_type": "stream",
     "text": [
      "\tifs-mix-100\tprec\t80.6$\\pm$0.2\n",
      "\tifs-mix-250\tprec\t80.5$\\pm$0.3\n",
      "\tifs-mix-500\tprec\t81.0$\\pm$0.0\n",
      "\tifs-mix-1000\tprec\t81.0$\\pm$0.2\n",
      "\tifs-mix-2000\tprec\t81.6$\\pm$0.2\n",
      "\tifs-mix-3000\tprec\t81.5$\\pm$0.1\n",
      "\tifs-mix-4000\tprec\t81.7$\\pm$0.4\n",
      "\tifs-mix-5000\tprec\t82.2$\\pm$0.2\n",
      "\tifs-mix-6000\tprec\t82.3$\\pm$0.2\n",
      "\tifs-mix-7000\tprec\t82.3$\\pm$0.2\n",
      "\tifs-mix-10000\tprec\t82.9$\\pm$0.1\n",
      "\tifs-mix-15000\tprec\t83.6$\\pm$0.1\n",
      "\tifs-mix-20000\tprec\t84.4$\\pm$0.6\n"
     ]
    },
    {
     "name": "stderr",
     "output_type": "stream",
     "text": [
      "/home/mr6564/anaconda3/envs/PyTorch/lib/python3.7/site-packages/ipykernel_launcher.py:138: VisibleDeprecationWarning: Creating an ndarray from ragged nested sequences (which is a list-or-tuple of lists-or-tuples-or ndarrays with different lengths or shapes) is deprecated. If you meant to do this, you must specify 'dtype=object' when creating the ndarray.\n"
     ]
    }
   ],
   "source": [
    "min_samples = 20\n",
    "\n",
    "ifsM_100, _, _, _, _, _ = ifs_results('class',  replay_config='ifs', ifs_option='mix', min_samples=min_samples, memory_budget=100)\n",
    "ifsM_250, _, _, _, _, _ = ifs_results('class',  replay_config='ifs', ifs_option='mix', min_samples=min_samples, memory_budget=250)\n",
    "ifsM_500, _, _, _, _, _ = ifs_results('class',  replay_config='ifs', ifs_option='mix', min_samples=min_samples, memory_budget=500)\n",
    "ifsM_1K, _, _, _, _, _ = ifs_results('class', replay_config='ifs', ifs_option='mix', min_samples=min_samples, memory_budget=1000)\n",
    "ifsM_2K, _, _, _, _, _ = ifs_results('class', replay_config='ifs', ifs_option='mix', min_samples=min_samples, memory_budget=2000)\n",
    "ifsM_3K, _, _, _, _, _ = ifs_results('class', replay_config='ifs', ifs_option='mix', min_samples=min_samples, memory_budget=3000)\n",
    "ifsM_4K, _, _, _, _, _ = ifs_results('class', replay_config='ifs', ifs_option='mix', min_samples=min_samples, memory_budget=4000)\n",
    "ifsM_5K, _, _, _, _, _ = ifs_results('class', replay_config='ifs', ifs_option='mix', min_samples=min_samples, memory_budget=5000)\n",
    "ifsM_6K, _, _, _, _, _ = ifs_results('class', replay_config='ifs', ifs_option='mix', min_samples=min_samples, memory_budget=6000)\n",
    "ifsM_7K, _, _, _, _, _ = ifs_results('class', replay_config='ifs', ifs_option='mix', min_samples=min_samples, memory_budget=7000);\n",
    "ifsM_10K, _, _, _, _, _ = ifs_results('class', replay_config='ifs', ifs_option='mix', min_samples=min_samples, memory_budget=10000);\n",
    "ifsM_15K, _, _, _, _, _ = ifs_results('class', replay_config='ifs', ifs_option='mix', min_samples=min_samples, memory_budget=15000);\n",
    "\n",
    "ifsM_20K, _, _, _, _, _ = ifs_results('class', replay_config='ifs', ifs_option='mix', min_samples=min_samples, memory_budget=20000);\n",
    "\n"
   ]
  },
  {
   "cell_type": "code",
   "execution_count": 207,
   "metadata": {},
   "outputs": [
    {
     "name": "stdout",
     "output_type": "stream",
     "text": [
      "\taws-ratio-100\tprec\t67.9$\\pm$0.3\n",
      "\taws-ratio-250\tprec\t70.5$\\pm$0.2\n",
      "\taws-ratio-500\tprec\t72.7$\\pm$0.5\n",
      "\taws-ratio-1000\tprec\t76.0$\\pm$0.2\n",
      "\taws-ratio-2000\tprec\t78.8$\\pm$0.2\n",
      "\taws-ratio-3000\tprec\t80.2$\\pm$0.5\n",
      "\taws-ratio-4000\tprec\t80.9$\\pm$0.1\n",
      "\taws-ratio-5000\tprec\t81.7$\\pm$0.2\n",
      "\taws-ratio-6000\tprec\t81.7$\\pm$0.2\n",
      "\taws-ratio-7000\tprec\t82.3$\\pm$0.1\n",
      "\taws-ratio-10000\tprec\t83.2$\\pm$0.1\n",
      "\taws-ratio-15000\tprec\t83.9$\\pm$0.1\n",
      "\taws-ratio-20000\tprec\t84.5$\\pm$0.2\n"
     ]
    }
   ],
   "source": [
    "ifsR_100, _, _, _, _, _ = ifs_results('class', replay_config='aws', ifs_option='ratio', memory_budget=100)\n",
    "ifsR_250, _, _, _, _, _ = ifs_results('class', replay_config='aws', ifs_option='ratio', memory_budget=250)\n",
    "ifsR_500, _, _, _, _, _ = ifs_results('class', replay_config='aws', ifs_option='ratio', memory_budget=500)\n",
    "ifsR_1K, _, _, _, _, _ = ifs_results('class', replay_config='aws', ifs_option='ratio', memory_budget=1000)\n",
    "ifsR_2K, _, _, _, _, _ = ifs_results('class', replay_config='aws', ifs_option='ratio', memory_budget=2000)\n",
    "ifsR_3K, _, _, _, _, _ = ifs_results('class', replay_config='aws', ifs_option='ratio', memory_budget=3000)\n",
    "ifsR_4K, _, _, _, _, _ = ifs_results('class', replay_config='aws', ifs_option='ratio', memory_budget=4000)\n",
    "ifsR_5K, _, _, _, _, _ = ifs_results('class', replay_config='aws', ifs_option='ratio', memory_budget=5000)\n",
    "ifsR_6K, _, _, _, _, _ = ifs_results('class', replay_config='aws', ifs_option='ratio', memory_budget=6000)\n",
    "ifsR_7K, _, _, _, _, _ = ifs_results('class', replay_config='aws', ifs_option='ratio', memory_budget=7000)\n",
    "ifsR_10K, _, _, _, _, _ = ifs_results('class', replay_config='aws', ifs_option='ratio', memory_budget=10000)\n",
    "ifsR_15K, _, _, _, _, _ = ifs_results('class', replay_config='aws', ifs_option='ratio', memory_budget=15000)\n",
    "ifsR_20K, _, _, _, _, _ = ifs_results('class', replay_config='aws', ifs_option='ratio', memory_budget=20000)"
   ]
  },
  {
   "cell_type": "code",
   "execution_count": 208,
   "metadata": {},
   "outputs": [
    {
     "name": "stdout",
     "output_type": "stream",
     "text": [
      "\taws-uniform-100\tprec\t65.5$\\pm$0.7\n",
      "\taws-uniform-250\tprec\t72.8$\\pm$0.2\n",
      "\taws-uniform-500\tprec\t76.4$\\pm$0.4\n",
      "\taws-uniform-1000\tprec\t79.7$\\pm$0.4\n",
      "\taws-uniform-2000\tprec\t82.1$\\pm$0.3\n",
      "\taws-uniform-3000\tprec\t83.0$\\pm$0.3\n",
      "\taws-uniform-4000\tprec\t83.7$\\pm$0.2\n",
      "\taws-uniform-5000\tprec\t84.1$\\pm$0.1\n",
      "\taws-uniform-6000\tprec\t86.2$\\pm$2.3\n",
      "\taws-uniform-7000\tprec\t84.8$\\pm$0.0\n",
      "\taws-uniform-10000\tprec\t85.3$\\pm$0.2\n",
      "\taws-uniform-15000\tprec\t85.8$\\pm$0.3\n",
      "\taws-uniform-20000\tprec\t86.2$\\pm$0.2\n"
     ]
    },
    {
     "name": "stderr",
     "output_type": "stream",
     "text": [
      "/home/mr6564/anaconda3/envs/PyTorch/lib/python3.7/site-packages/ipykernel_launcher.py:143: VisibleDeprecationWarning: Creating an ndarray from ragged nested sequences (which is a list-or-tuple of lists-or-tuples-or ndarrays with different lengths or shapes) is deprecated. If you meant to do this, you must specify 'dtype=object' when creating the ndarray.\n"
     ]
    }
   ],
   "source": [
    "ifsU_100, _, _, _, _, _ = ifs_results('class', replay_config='aws', ifs_option='uniform', memory_budget=100)\n",
    "ifsU_250, _, _, _, _, _ = ifs_results('class', replay_config='aws', ifs_option='uniform', memory_budget=250)\n",
    "ifsU_500, _, _, _, _, _ = ifs_results('class', replay_config='aws', ifs_option='uniform', memory_budget=500)\n",
    "ifsU_1K, _, _, _, _, _ = ifs_results('class', replay_config='aws', ifs_option='uniform', memory_budget=1000)\n",
    "ifsU_2K, _, _, _, _, _ = ifs_results('class', replay_config='aws', ifs_option='uniform', memory_budget=2000)\n",
    "ifsU_3K, _, _, _, _, _ = ifs_results('class', replay_config='aws', ifs_option='uniform', memory_budget=3000)\n",
    "ifsU_4K, _, _, _, _, _ = ifs_results('class', replay_config='aws', ifs_option='uniform', memory_budget=4000)\n",
    "ifsU_5K, _, _, _, _, _ = ifs_results('class', replay_config='aws', ifs_option='uniform', memory_budget=5000)\n",
    "ifsU_6K, _, _, _, _, _ = ifs_results('class', replay_config='aws', ifs_option='uniform', memory_budget=6000)\n",
    "ifsU_7K, _, _, _, _, _ = ifs_results('class', replay_config='aws', ifs_option='uniform', memory_budget=7000)\n",
    "ifsU_10K, _, _, _, _, _ = ifs_results('class', replay_config='aws', ifs_option='uniform', memory_budget=10000)\n",
    "ifsU_15K, _, _, _, _, _ = ifs_results('class', replay_config='aws', ifs_option='uniform', memory_budget=15000)\n",
    "ifsU_20K, _, _, _, _, _ = ifs_results('class', replay_config='aws', ifs_option='uniform', memory_budget=20000)\n"
   ]
  }
 ],
 "metadata": {
  "kernelspec": {
   "display_name": "PyTorch",
   "language": "python",
   "name": "pytorch"
  },
  "language_info": {
   "codemirror_mode": {
    "name": "ipython",
    "version": 3
   },
   "file_extension": ".py",
   "mimetype": "text/x-python",
   "name": "python",
   "nbconvert_exporter": "python",
   "pygments_lexer": "ipython3",
   "version": "3.7.9"
  }
 },
 "nbformat": 4,
 "nbformat_minor": 5
}
