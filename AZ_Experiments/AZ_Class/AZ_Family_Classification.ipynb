{
 "cells": [
  {
   "cell_type": "code",
   "execution_count": 17,
   "metadata": {},
   "outputs": [],
   "source": [
    "import numpy as np\n",
    "import os, random\n",
    "import pandas as pd\n",
    "import matplotlib.pyplot as plt\n",
    "import time, random\n",
    "from tqdm import tqdm\n",
    "from sklearn.metrics import classification_report, roc_auc_score, f1_score\n",
    "from sklearn.preprocessing import StandardScaler, QuantileTransformer\n",
    "import datetime\n",
    "import argparse\n",
    "import torch\n",
    "import torchvision\n",
    "import torch.nn as nn\n",
    "import torch.optim as optim\n",
    "import torch.nn.functional as F\n",
    "from torchvision import transforms, utils, datasets\n",
    "from torch.utils.data import Dataset, DataLoader\n",
    "from az_model import *\n",
    "\n",
    "random.seed(1)"
   ]
  },
  {
   "cell_type": "code",
   "execution_count": 18,
   "metadata": {},
   "outputs": [],
   "source": [
    "save_path = '/home/mr6564/continual_research/AZ_Data/Family_Transformed/'\n",
    "\n",
    "tr_file_save = save_path + 'Family_AZ_Train_Transformed.npz'\n",
    "te_file_save = save_path + 'Family_AZ_Test_Transformed.npz'\n",
    "\n",
    "tr_data = np.load(tr_file_save, allow_pickle=True)\n",
    "te_data = np.load(te_file_save, allow_pickle=True)\n",
    "X_train, Y_train, Y_tr_family = tr_data['X_train'], tr_data['Y_train'], tr_data['Y_tr_family']\n",
    "X_test, Y_test, Y_te_family = te_data['X_test'], te_data['Y_test'], te_data['Y_te_family']"
   ]
  },
  {
   "cell_type": "code",
   "execution_count": 19,
   "metadata": {},
   "outputs": [
    {
     "data": {
      "text/plain": [
       "((257023, 2439), (28559, 2439))"
      ]
     },
     "execution_count": 19,
     "metadata": {},
     "output_type": "execute_result"
    }
   ],
   "source": [
    "X_train.shape, X_test.shape"
   ]
  },
  {
   "cell_type": "code",
   "execution_count": 54,
   "metadata": {},
   "outputs": [
    {
     "name": "stdout",
     "output_type": "stream",
     "text": [
      "Torch 2.0.1 CUDA 11.8\n",
      "Model has 7.805156m parameters\n",
      "Epoch 1 of 500\n"
     ]
    },
    {
     "name": "stderr",
     "output_type": "stream",
     "text": [
      "100%|█████████████████████████████████████████████████████████████| 125/125 [00:05<00:00, 22.50it/s]\n",
      "100%|███████████████████████████████████████████████████████████████| 14/14 [00:00<00:00, 16.85it/s]\n"
     ]
    },
    {
     "name": "stdout",
     "output_type": "stream",
     "text": [
      "Train Loss: 5997.9397, Train Acc: 39.33\n",
      "Val Loss: 2310.3396, Val Acc: 74.64\n",
      "Validation loss decreased (inf --> 2310.339589).  Saving model ...\n",
      "../../drebin_exps_store/MLP_model/statictraining_15456/best_model_epoch_1.pt\n",
      "Epoch 2 of 500\n"
     ]
    },
    {
     "name": "stderr",
     "output_type": "stream",
     "text": [
      "100%|█████████████████████████████████████████████████████████████| 125/125 [00:04<00:00, 25.21it/s]\n",
      "100%|███████████████████████████████████████████████████████████████| 14/14 [00:00<00:00, 14.27it/s]\n"
     ]
    },
    {
     "name": "stdout",
     "output_type": "stream",
     "text": [
      "Train Loss: 2507.0093, Train Acc: 72.11\n",
      "Val Loss: 1401.7952, Val Acc: 82.43\n",
      "Validation loss decreased (2310.339589 --> 1401.795239).  Saving model ...\n",
      "../../drebin_exps_store/MLP_model/statictraining_15456/best_model_epoch_2.pt\n",
      "Epoch 3 of 500\n"
     ]
    },
    {
     "name": "stderr",
     "output_type": "stream",
     "text": [
      "100%|█████████████████████████████████████████████████████████████| 125/125 [00:04<00:00, 25.44it/s]\n",
      "100%|███████████████████████████████████████████████████████████████| 14/14 [00:00<00:00, 14.31it/s]\n"
     ]
    },
    {
     "name": "stdout",
     "output_type": "stream",
     "text": [
      "Train Loss: 1885.6518, Train Acc: 77.91\n",
      "Val Loss: 1206.9323, Val Acc: 84.29\n",
      "Validation loss decreased (1401.795239 --> 1206.932346).  Saving model ...\n",
      "../../drebin_exps_store/MLP_model/statictraining_15456/best_model_epoch_3.pt\n",
      "Epoch 4 of 500\n"
     ]
    },
    {
     "name": "stderr",
     "output_type": "stream",
     "text": [
      "100%|█████████████████████████████████████████████████████████████| 125/125 [00:05<00:00, 24.27it/s]\n",
      "100%|███████████████████████████████████████████████████████████████| 14/14 [00:01<00:00, 13.57it/s]\n"
     ]
    },
    {
     "name": "stdout",
     "output_type": "stream",
     "text": [
      "Train Loss: 1629.9675, Train Acc: 80.53\n",
      "Val Loss: 1121.2442, Val Acc: 85.64\n",
      "Validation loss decreased (1206.932346 --> 1121.244192).  Saving model ...\n",
      "../../drebin_exps_store/MLP_model/statictraining_15456/best_model_epoch_4.pt\n",
      "Epoch 5 of 500\n"
     ]
    },
    {
     "name": "stderr",
     "output_type": "stream",
     "text": [
      "100%|█████████████████████████████████████████████████████████████| 125/125 [00:05<00:00, 24.48it/s]\n",
      "100%|███████████████████████████████████████████████████████████████| 14/14 [00:00<00:00, 14.49it/s]\n"
     ]
    },
    {
     "name": "stdout",
     "output_type": "stream",
     "text": [
      "Train Loss: 1464.8034, Train Acc: 82.31\n",
      "Val Loss: 1015.4332, Val Acc: 86.79\n",
      "Validation loss decreased (1121.244192 --> 1015.433235).  Saving model ...\n",
      "../../drebin_exps_store/MLP_model/statictraining_15456/best_model_epoch_5.pt\n",
      "Epoch 6 of 500\n"
     ]
    },
    {
     "name": "stderr",
     "output_type": "stream",
     "text": [
      "100%|█████████████████████████████████████████████████████████████| 125/125 [00:05<00:00, 24.29it/s]\n",
      "100%|███████████████████████████████████████████████████████████████| 14/14 [00:00<00:00, 15.68it/s]\n"
     ]
    },
    {
     "name": "stdout",
     "output_type": "stream",
     "text": [
      "Train Loss: 1383.9772, Train Acc: 83.04\n",
      "Val Loss: 925.9646, Val Acc: 87.64\n",
      "Validation loss decreased (1015.433235 --> 925.964556).  Saving model ...\n",
      "../../drebin_exps_store/MLP_model/statictraining_15456/best_model_epoch_6.pt\n",
      "Epoch 7 of 500\n"
     ]
    },
    {
     "name": "stderr",
     "output_type": "stream",
     "text": [
      "100%|█████████████████████████████████████████████████████████████| 125/125 [00:05<00:00, 24.96it/s]\n",
      "100%|███████████████████████████████████████████████████████████████| 14/14 [00:01<00:00, 13.89it/s]\n"
     ]
    },
    {
     "name": "stdout",
     "output_type": "stream",
     "text": [
      "Train Loss: 1279.5928, Train Acc: 84.12\n",
      "Val Loss: 930.6392, Val Acc: 87.57\n",
      "EarlyStopping counter: 1 out of 5\n",
      "Epoch 8 of 500\n"
     ]
    },
    {
     "name": "stderr",
     "output_type": "stream",
     "text": [
      "100%|█████████████████████████████████████████████████████████████| 125/125 [00:05<00:00, 24.77it/s]\n",
      "100%|███████████████████████████████████████████████████████████████| 14/14 [00:01<00:00, 13.54it/s]\n"
     ]
    },
    {
     "name": "stdout",
     "output_type": "stream",
     "text": [
      "Train Loss: 1211.1682, Train Acc: 84.82\n",
      "Val Loss: 888.7113, Val Acc: 88.29\n",
      "Validation loss decreased (925.964556 --> 888.711312).  Saving model ...\n",
      "../../drebin_exps_store/MLP_model/statictraining_15456/best_model_epoch_8.pt\n",
      "Epoch 9 of 500\n"
     ]
    },
    {
     "name": "stderr",
     "output_type": "stream",
     "text": [
      "100%|█████████████████████████████████████████████████████████████| 125/125 [00:05<00:00, 24.49it/s]\n",
      "100%|███████████████████████████████████████████████████████████████| 14/14 [00:00<00:00, 14.02it/s]\n"
     ]
    },
    {
     "name": "stdout",
     "output_type": "stream",
     "text": [
      "Train Loss: 1167.8232, Train Acc: 85.34\n",
      "Val Loss: 894.1295, Val Acc: 87.93\n",
      "EarlyStopping counter: 1 out of 5\n",
      "Epoch 10 of 500\n"
     ]
    },
    {
     "name": "stderr",
     "output_type": "stream",
     "text": [
      "100%|█████████████████████████████████████████████████████████████| 125/125 [00:05<00:00, 24.45it/s]\n",
      "100%|███████████████████████████████████████████████████████████████| 14/14 [00:00<00:00, 15.99it/s]\n"
     ]
    },
    {
     "name": "stdout",
     "output_type": "stream",
     "text": [
      "Train Loss: 1122.5384, Train Acc: 85.75\n",
      "Val Loss: 834.3454, Val Acc: 88.64\n",
      "Validation loss decreased (888.711312 --> 834.345360).  Saving model ...\n",
      "../../drebin_exps_store/MLP_model/statictraining_15456/best_model_epoch_10.pt\n",
      "Epoch 11 of 500\n"
     ]
    },
    {
     "name": "stderr",
     "output_type": "stream",
     "text": [
      "100%|█████████████████████████████████████████████████████████████| 125/125 [00:05<00:00, 24.52it/s]\n",
      "100%|███████████████████████████████████████████████████████████████| 14/14 [00:01<00:00, 13.52it/s]\n"
     ]
    },
    {
     "name": "stdout",
     "output_type": "stream",
     "text": [
      "Train Loss: 1092.3220, Train Acc: 86.10\n",
      "Val Loss: 833.7374, Val Acc: 88.93\n",
      "Validation loss decreased (834.345360 --> 833.737379).  Saving model ...\n",
      "../../drebin_exps_store/MLP_model/statictraining_15456/best_model_epoch_11.pt\n",
      "Epoch 12 of 500\n"
     ]
    },
    {
     "name": "stderr",
     "output_type": "stream",
     "text": [
      "100%|█████████████████████████████████████████████████████████████| 125/125 [00:05<00:00, 24.42it/s]\n",
      "100%|███████████████████████████████████████████████████████████████| 14/14 [00:01<00:00, 13.84it/s]\n"
     ]
    },
    {
     "name": "stdout",
     "output_type": "stream",
     "text": [
      "Train Loss: 1060.4456, Train Acc: 86.46\n",
      "Val Loss: 824.7263, Val Acc: 88.86\n",
      "Validation loss decreased (833.737379 --> 824.726321).  Saving model ...\n",
      "../../drebin_exps_store/MLP_model/statictraining_15456/best_model_epoch_12.pt\n",
      "Epoch 13 of 500\n"
     ]
    },
    {
     "name": "stderr",
     "output_type": "stream",
     "text": [
      "100%|█████████████████████████████████████████████████████████████| 125/125 [00:05<00:00, 22.26it/s]\n",
      "100%|███████████████████████████████████████████████████████████████| 14/14 [00:01<00:00, 13.43it/s]\n"
     ]
    },
    {
     "name": "stdout",
     "output_type": "stream",
     "text": [
      "Train Loss: 1021.2824, Train Acc: 86.82\n",
      "Val Loss: 800.8110, Val Acc: 89.14\n",
      "Validation loss decreased (824.726321 --> 800.811030).  Saving model ...\n",
      "../../drebin_exps_store/MLP_model/statictraining_15456/best_model_epoch_13.pt\n",
      "Epoch 14 of 500\n"
     ]
    },
    {
     "name": "stderr",
     "output_type": "stream",
     "text": [
      "100%|█████████████████████████████████████████████████████████████| 125/125 [00:05<00:00, 24.16it/s]\n",
      "100%|███████████████████████████████████████████████████████████████| 14/14 [00:00<00:00, 14.03it/s]\n"
     ]
    },
    {
     "name": "stdout",
     "output_type": "stream",
     "text": [
      "Train Loss: 998.4035, Train Acc: 87.17\n",
      "Val Loss: 810.2709, Val Acc: 89.00\n",
      "EarlyStopping counter: 1 out of 5\n",
      "Epoch 15 of 500\n"
     ]
    },
    {
     "name": "stderr",
     "output_type": "stream",
     "text": [
      "100%|█████████████████████████████████████████████████████████████| 125/125 [00:06<00:00, 20.82it/s]\n",
      "100%|███████████████████████████████████████████████████████████████| 14/14 [00:00<00:00, 15.56it/s]\n"
     ]
    },
    {
     "name": "stdout",
     "output_type": "stream",
     "text": [
      "Train Loss: 979.9949, Train Acc: 87.34\n",
      "Val Loss: 775.9653, Val Acc: 89.36\n",
      "Validation loss decreased (800.811030 --> 775.965332).  Saving model ...\n",
      "../../drebin_exps_store/MLP_model/statictraining_15456/best_model_epoch_15.pt\n",
      "Epoch 16 of 500\n"
     ]
    },
    {
     "name": "stderr",
     "output_type": "stream",
     "text": [
      "100%|█████████████████████████████████████████████████████████████| 125/125 [00:05<00:00, 22.72it/s]\n",
      "100%|███████████████████████████████████████████████████████████████| 14/14 [00:00<00:00, 15.17it/s]\n"
     ]
    },
    {
     "name": "stdout",
     "output_type": "stream",
     "text": [
      "Train Loss: 953.3736, Train Acc: 87.62\n",
      "Val Loss: 791.6483, Val Acc: 89.36\n",
      "EarlyStopping counter: 1 out of 5\n",
      "Epoch 17 of 500\n"
     ]
    },
    {
     "name": "stderr",
     "output_type": "stream",
     "text": [
      "100%|█████████████████████████████████████████████████████████████| 125/125 [00:05<00:00, 22.20it/s]\n",
      "100%|███████████████████████████████████████████████████████████████| 14/14 [00:00<00:00, 14.28it/s]\n"
     ]
    },
    {
     "name": "stdout",
     "output_type": "stream",
     "text": [
      "Train Loss: 932.2341, Train Acc: 87.98\n",
      "Val Loss: 787.0809, Val Acc: 89.64\n",
      "EarlyStopping counter: 2 out of 5\n",
      "Epoch 18 of 500\n"
     ]
    },
    {
     "name": "stderr",
     "output_type": "stream",
     "text": [
      "100%|█████████████████████████████████████████████████████████████| 125/125 [00:05<00:00, 24.16it/s]\n",
      "100%|███████████████████████████████████████████████████████████████| 14/14 [00:01<00:00, 13.86it/s]\n"
     ]
    },
    {
     "name": "stdout",
     "output_type": "stream",
     "text": [
      "Train Loss: 930.8007, Train Acc: 88.04\n",
      "Val Loss: 779.0999, Val Acc: 89.71\n",
      "EarlyStopping counter: 3 out of 5\n",
      "Epoch 19 of 500\n"
     ]
    },
    {
     "name": "stderr",
     "output_type": "stream",
     "text": [
      "100%|█████████████████████████████████████████████████████████████| 125/125 [00:05<00:00, 24.46it/s]\n",
      "100%|███████████████████████████████████████████████████████████████| 14/14 [00:00<00:00, 14.30it/s]\n"
     ]
    },
    {
     "name": "stdout",
     "output_type": "stream",
     "text": [
      "Train Loss: 901.4853, Train Acc: 88.26\n",
      "Val Loss: 740.8963, Val Acc: 89.86\n",
      "Validation loss decreased (775.965332 --> 740.896266).  Saving model ...\n",
      "../../drebin_exps_store/MLP_model/statictraining_15456/best_model_epoch_19.pt\n",
      "Epoch 20 of 500\n"
     ]
    },
    {
     "name": "stderr",
     "output_type": "stream",
     "text": [
      "100%|█████████████████████████████████████████████████████████████| 125/125 [00:05<00:00, 24.74it/s]\n",
      "100%|███████████████████████████████████████████████████████████████| 14/14 [00:00<00:00, 15.76it/s]\n"
     ]
    },
    {
     "name": "stdout",
     "output_type": "stream",
     "text": [
      "Train Loss: 897.5098, Train Acc: 88.32\n",
      "Val Loss: 739.3748, Val Acc: 90.00\n",
      "Validation loss decreased (740.896266 --> 739.374807).  Saving model ...\n",
      "../../drebin_exps_store/MLP_model/statictraining_15456/best_model_epoch_20.pt\n",
      "Epoch 21 of 500\n"
     ]
    },
    {
     "name": "stderr",
     "output_type": "stream",
     "text": [
      "100%|█████████████████████████████████████████████████████████████| 125/125 [00:05<00:00, 24.52it/s]\n",
      "100%|███████████████████████████████████████████████████████████████| 14/14 [00:00<00:00, 14.08it/s]\n"
     ]
    },
    {
     "name": "stdout",
     "output_type": "stream",
     "text": [
      "Train Loss: 876.4973, Train Acc: 88.46\n",
      "Val Loss: 721.0549, Val Acc: 90.14\n",
      "Validation loss decreased (739.374807 --> 721.054870).  Saving model ...\n",
      "../../drebin_exps_store/MLP_model/statictraining_15456/best_model_epoch_21.pt\n",
      "Epoch 22 of 500\n"
     ]
    },
    {
     "name": "stderr",
     "output_type": "stream",
     "text": [
      "100%|█████████████████████████████████████████████████████████████| 125/125 [00:05<00:00, 22.11it/s]\n",
      "100%|███████████████████████████████████████████████████████████████| 14/14 [00:01<00:00, 13.96it/s]\n"
     ]
    },
    {
     "name": "stdout",
     "output_type": "stream",
     "text": [
      "Train Loss: 864.0399, Train Acc: 88.74\n",
      "Val Loss: 755.0139, Val Acc: 90.07\n",
      "EarlyStopping counter: 1 out of 5\n",
      "Epoch 23 of 500\n"
     ]
    },
    {
     "name": "stderr",
     "output_type": "stream",
     "text": [
      "100%|█████████████████████████████████████████████████████████████| 125/125 [00:05<00:00, 24.44it/s]\n",
      "100%|███████████████████████████████████████████████████████████████| 14/14 [00:01<00:00, 13.96it/s]\n"
     ]
    },
    {
     "name": "stdout",
     "output_type": "stream",
     "text": [
      "Train Loss: 850.1380, Train Acc: 88.99\n",
      "Val Loss: 737.2919, Val Acc: 90.21\n",
      "EarlyStopping counter: 2 out of 5\n",
      "Epoch 24 of 500\n"
     ]
    },
    {
     "name": "stderr",
     "output_type": "stream",
     "text": [
      "100%|█████████████████████████████████████████████████████████████| 125/125 [00:05<00:00, 24.58it/s]\n",
      "100%|███████████████████████████████████████████████████████████████| 14/14 [00:01<00:00, 13.82it/s]\n"
     ]
    },
    {
     "name": "stdout",
     "output_type": "stream",
     "text": [
      "Train Loss: 843.3245, Train Acc: 88.92\n",
      "Val Loss: 718.7703, Val Acc: 90.57\n",
      "Validation loss decreased (721.054870 --> 718.770312).  Saving model ...\n",
      "../../drebin_exps_store/MLP_model/statictraining_15456/best_model_epoch_24.pt\n",
      "Epoch 25 of 500\n"
     ]
    },
    {
     "name": "stderr",
     "output_type": "stream",
     "text": [
      "100%|█████████████████████████████████████████████████████████████| 125/125 [00:05<00:00, 24.30it/s]\n",
      "100%|███████████████████████████████████████████████████████████████| 14/14 [00:01<00:00, 13.68it/s]\n"
     ]
    },
    {
     "name": "stdout",
     "output_type": "stream",
     "text": [
      "Train Loss: 836.3559, Train Acc: 89.02\n",
      "Val Loss: 736.1509, Val Acc: 90.29\n",
      "EarlyStopping counter: 1 out of 5\n",
      "Epoch 26 of 500\n"
     ]
    },
    {
     "name": "stderr",
     "output_type": "stream",
     "text": [
      "100%|█████████████████████████████████████████████████████████████| 125/125 [00:05<00:00, 24.55it/s]\n",
      "100%|███████████████████████████████████████████████████████████████| 14/14 [00:00<00:00, 14.02it/s]\n"
     ]
    },
    {
     "name": "stdout",
     "output_type": "stream",
     "text": [
      "Train Loss: 830.9110, Train Acc: 89.06\n",
      "Val Loss: 724.2944, Val Acc: 90.29\n",
      "EarlyStopping counter: 2 out of 5\n",
      "Epoch 27 of 500\n"
     ]
    },
    {
     "name": "stderr",
     "output_type": "stream",
     "text": [
      "100%|█████████████████████████████████████████████████████████████| 125/125 [00:05<00:00, 24.95it/s]\n",
      "100%|███████████████████████████████████████████████████████████████| 14/14 [00:00<00:00, 15.57it/s]\n"
     ]
    },
    {
     "name": "stdout",
     "output_type": "stream",
     "text": [
      "Train Loss: 817.5271, Train Acc: 89.15\n",
      "Val Loss: 722.3074, Val Acc: 90.36\n",
      "EarlyStopping counter: 3 out of 5\n",
      "Epoch 28 of 500\n"
     ]
    },
    {
     "name": "stderr",
     "output_type": "stream",
     "text": [
      "100%|█████████████████████████████████████████████████████████████| 125/125 [00:05<00:00, 23.20it/s]\n",
      "100%|███████████████████████████████████████████████████████████████| 14/14 [00:00<00:00, 17.08it/s]\n"
     ]
    },
    {
     "name": "stdout",
     "output_type": "stream",
     "text": [
      "Train Loss: 811.0313, Train Acc: 89.30\n",
      "Val Loss: 711.1540, Val Acc: 90.36\n",
      "Validation loss decreased (718.770312 --> 711.154010).  Saving model ...\n",
      "../../drebin_exps_store/MLP_model/statictraining_15456/best_model_epoch_28.pt\n",
      "Epoch 29 of 500\n"
     ]
    },
    {
     "name": "stderr",
     "output_type": "stream",
     "text": [
      "100%|█████████████████████████████████████████████████████████████| 125/125 [00:05<00:00, 24.34it/s]\n",
      "100%|███████████████████████████████████████████████████████████████| 14/14 [00:01<00:00, 12.80it/s]\n"
     ]
    },
    {
     "name": "stdout",
     "output_type": "stream",
     "text": [
      "Train Loss: 801.1345, Train Acc: 89.46\n",
      "Val Loss: 730.9774, Val Acc: 90.21\n",
      "EarlyStopping counter: 1 out of 5\n",
      "Epoch 30 of 500\n"
     ]
    },
    {
     "name": "stderr",
     "output_type": "stream",
     "text": [
      "100%|█████████████████████████████████████████████████████████████| 125/125 [00:05<00:00, 23.56it/s]\n",
      "100%|███████████████████████████████████████████████████████████████| 14/14 [00:00<00:00, 14.49it/s]\n"
     ]
    },
    {
     "name": "stdout",
     "output_type": "stream",
     "text": [
      "Train Loss: 796.9371, Train Acc: 89.55\n",
      "Val Loss: 690.7165, Val Acc: 90.64\n",
      "Validation loss decreased (711.154010 --> 690.716472).  Saving model ...\n",
      "../../drebin_exps_store/MLP_model/statictraining_15456/best_model_epoch_30.pt\n",
      "Epoch 31 of 500\n"
     ]
    },
    {
     "name": "stderr",
     "output_type": "stream",
     "text": [
      "100%|█████████████████████████████████████████████████████████████| 125/125 [00:04<00:00, 25.80it/s]\n",
      "100%|███████████████████████████████████████████████████████████████| 14/14 [00:01<00:00, 13.98it/s]\n"
     ]
    },
    {
     "name": "stdout",
     "output_type": "stream",
     "text": [
      "Train Loss: 779.3181, Train Acc: 89.63\n",
      "Val Loss: 697.2453, Val Acc: 91.00\n",
      "EarlyStopping counter: 1 out of 5\n",
      "Epoch 32 of 500\n"
     ]
    },
    {
     "name": "stderr",
     "output_type": "stream",
     "text": [
      "100%|█████████████████████████████████████████████████████████████| 125/125 [00:04<00:00, 25.63it/s]\n",
      "100%|███████████████████████████████████████████████████████████████| 14/14 [00:00<00:00, 15.73it/s]\n"
     ]
    },
    {
     "name": "stdout",
     "output_type": "stream",
     "text": [
      "Train Loss: 775.9254, Train Acc: 89.72\n",
      "Val Loss: 678.3736, Val Acc: 91.21\n",
      "Validation loss decreased (690.716472 --> 678.373606).  Saving model ...\n",
      "../../drebin_exps_store/MLP_model/statictraining_15456/best_model_epoch_32.pt\n",
      "Epoch 33 of 500\n"
     ]
    },
    {
     "name": "stderr",
     "output_type": "stream",
     "text": [
      "100%|█████████████████████████████████████████████████████████████| 125/125 [00:05<00:00, 24.97it/s]\n",
      "100%|███████████████████████████████████████████████████████████████| 14/14 [00:01<00:00, 13.56it/s]\n"
     ]
    },
    {
     "name": "stdout",
     "output_type": "stream",
     "text": [
      "Train Loss: 769.0792, Train Acc: 89.76\n",
      "Val Loss: 679.8057, Val Acc: 91.00\n",
      "EarlyStopping counter: 1 out of 5\n",
      "Epoch 34 of 500\n"
     ]
    },
    {
     "name": "stderr",
     "output_type": "stream",
     "text": [
      "100%|█████████████████████████████████████████████████████████████| 125/125 [00:05<00:00, 21.59it/s]\n",
      "100%|███████████████████████████████████████████████████████████████| 14/14 [00:01<00:00, 13.77it/s]\n"
     ]
    },
    {
     "name": "stdout",
     "output_type": "stream",
     "text": [
      "Train Loss: 765.7870, Train Acc: 89.94\n",
      "Val Loss: 678.9217, Val Acc: 91.00\n",
      "EarlyStopping counter: 2 out of 5\n",
      "Epoch 35 of 500\n"
     ]
    },
    {
     "name": "stderr",
     "output_type": "stream",
     "text": [
      "100%|█████████████████████████████████████████████████████████████| 125/125 [00:05<00:00, 24.98it/s]\n",
      "100%|███████████████████████████████████████████████████████████████| 14/14 [00:01<00:00, 13.60it/s]\n"
     ]
    },
    {
     "name": "stdout",
     "output_type": "stream",
     "text": [
      "Train Loss: 755.7198, Train Acc: 89.98\n",
      "Val Loss: 642.9360, Val Acc: 91.43\n",
      "Validation loss decreased (678.373606 --> 642.935965).  Saving model ...\n",
      "../../drebin_exps_store/MLP_model/statictraining_15456/best_model_epoch_35.pt\n",
      "Epoch 36 of 500\n"
     ]
    },
    {
     "name": "stderr",
     "output_type": "stream",
     "text": [
      "100%|█████████████████████████████████████████████████████████████| 125/125 [00:05<00:00, 21.04it/s]\n",
      "100%|███████████████████████████████████████████████████████████████| 14/14 [00:01<00:00, 13.84it/s]\n"
     ]
    },
    {
     "name": "stdout",
     "output_type": "stream",
     "text": [
      "Train Loss: 750.8078, Train Acc: 90.04\n",
      "Val Loss: 676.5492, Val Acc: 91.21\n",
      "EarlyStopping counter: 1 out of 5\n",
      "Epoch 37 of 500\n"
     ]
    },
    {
     "name": "stderr",
     "output_type": "stream",
     "text": [
      "100%|█████████████████████████████████████████████████████████████| 125/125 [00:05<00:00, 24.70it/s]\n",
      "100%|███████████████████████████████████████████████████████████████| 14/14 [00:00<00:00, 14.38it/s]\n"
     ]
    },
    {
     "name": "stdout",
     "output_type": "stream",
     "text": [
      "Train Loss: 754.0505, Train Acc: 89.98\n",
      "Val Loss: 674.2852, Val Acc: 90.57\n",
      "EarlyStopping counter: 2 out of 5\n",
      "Epoch 38 of 500\n"
     ]
    },
    {
     "name": "stderr",
     "output_type": "stream",
     "text": [
      "100%|█████████████████████████████████████████████████████████████| 125/125 [00:06<00:00, 20.66it/s]\n",
      "100%|███████████████████████████████████████████████████████████████| 14/14 [00:01<00:00, 13.93it/s]\n"
     ]
    },
    {
     "name": "stdout",
     "output_type": "stream",
     "text": [
      "Train Loss: 740.8360, Train Acc: 90.07\n",
      "Val Loss: 663.5850, Val Acc: 91.36\n",
      "EarlyStopping counter: 3 out of 5\n",
      "Epoch 39 of 500\n"
     ]
    },
    {
     "name": "stderr",
     "output_type": "stream",
     "text": [
      "100%|█████████████████████████████████████████████████████████████| 125/125 [00:05<00:00, 21.47it/s]\n",
      "100%|███████████████████████████████████████████████████████████████| 14/14 [00:00<00:00, 15.79it/s]\n"
     ]
    },
    {
     "name": "stdout",
     "output_type": "stream",
     "text": [
      "Train Loss: 730.1046, Train Acc: 90.30\n",
      "Val Loss: 705.5743, Val Acc: 90.93\n",
      "EarlyStopping counter: 4 out of 5\n",
      "Epoch 40 of 500\n"
     ]
    },
    {
     "name": "stderr",
     "output_type": "stream",
     "text": [
      "100%|█████████████████████████████████████████████████████████████| 125/125 [00:06<00:00, 20.74it/s]\n",
      "100%|███████████████████████████████████████████████████████████████| 14/14 [00:01<00:00, 13.59it/s]\n"
     ]
    },
    {
     "name": "stdout",
     "output_type": "stream",
     "text": [
      "Train Loss: 726.3851, Train Acc: 90.16\n",
      "Val Loss: 668.3496, Val Acc: 91.36\n",
      "EarlyStopping counter: 5 out of 5\n",
      "Early stopping\n",
      "Training time: 4.212 minutes\n"
     ]
    },
    {
     "name": "stderr",
     "output_type": "stream",
     "text": [
      "100%|███████████████████████████████████████████████████████████████| 14/14 [00:00<00:00, 14.81it/s]\n"
     ]
    },
    {
     "name": "stdout",
     "output_type": "stream",
     "text": [
      "test accuracy 91.5\n",
      "Elapsed time 4.396073114871979 mins.\n"
     ]
    }
   ],
   "source": [
    "class AZ_MLP_Net(nn.Module):\n",
    "    def __init__(self, input_features, n_classes):\n",
    "        super(AZ_MLP_Net, self).__init__()\n",
    "        self.input_feats_length = input_features\n",
    "        self.output_classes = n_classes\n",
    "        \n",
    "        \n",
    "        self.fc01 = nn.Linear(self.input_feats_length, 2048)\n",
    "        self.fc01_bn = nn.BatchNorm1d(2048)\n",
    "        self.fc01_drop = nn.Dropout(p=0.5)\n",
    "        \n",
    "        self.fc1 = nn.Linear(2048, 1024)\n",
    "        self.fc1_bn = nn.BatchNorm1d(1024)\n",
    "        self.fc1_drop = nn.Dropout(p=0.5)\n",
    "        \n",
    "        self.fc2 = nn.Linear(1024, 512)\n",
    "        self.fc2_bn = nn.BatchNorm1d(512)\n",
    "        self.fc2_drop = nn.Dropout(p=0.5)\n",
    "        \n",
    "        self.fc3 = nn.Linear(512, 256)\n",
    "        self.fc3_bn = nn.BatchNorm1d(256)\n",
    "        self.fc3_drop = nn.Dropout(p=0.5)        \n",
    "        \n",
    "        self.fc4 = nn.Linear(256, 128)\n",
    "        self.fc4_bn = nn.BatchNorm1d(128)\n",
    "        self.fc4_drop = nn.Dropout(p=0.5)  \n",
    "        \n",
    "        self.fc_last = nn.Linear(128, self.output_classes) \n",
    "        \n",
    "        self.activate = nn.ReLU()\n",
    "\n",
    "    def forward(self, x):\n",
    "        x = x.view(x.size(0), -1)\n",
    "        #print(x.shape)\n",
    "        \n",
    "        x = self.fc01(x)\n",
    "        x = self.fc01_bn(x)\n",
    "        x = self.activate(x) \n",
    "        x = self.fc01_drop(x)\n",
    "        \n",
    "        \n",
    "        x = self.fc1(x)\n",
    "        x = self.fc1_bn(x)\n",
    "        x = self.activate(x) \n",
    "        x = self.fc1_drop(x)\n",
    "\n",
    "        x = self.fc2(x)\n",
    "        x = self.fc2_bn(x)\n",
    "        x = self.activate(x) \n",
    "        x = self.fc2_drop(x)\n",
    "        \n",
    "        x = self.fc3(x)\n",
    "        x = self.fc3_bn(x)\n",
    "        x = self.activate(x) \n",
    "        x = self.fc3_drop(x)\n",
    "        \n",
    "        x = self.fc4(x)\n",
    "        x = self.fc4_bn(x)\n",
    "        x = self.activate(x) \n",
    "        x = self.fc4_drop(x)\n",
    "        \n",
    "        x = self.fc_last(x)\n",
    "        return x\n",
    "\n",
    "num_exps = 1 #args.num_exps\n",
    "num_epoch = 500 #args.num_epoch\n",
    "batch_size = 2048 #args.batch_size\n",
    "#replay_portion = 1.0 #args.replay_portion\n",
    "patience = 5\n",
    "replay_type = 'static_training'\n",
    "\n",
    "exp_seeds = [random.randint(1, 99999) for i in range(num_exps)]\n",
    "\n",
    "\n",
    "\n",
    "cnt =  1    \n",
    "for exp in exp_seeds:\n",
    "    start_time = time.time()\n",
    "    \n",
    "    current_task = exp\n",
    "    \n",
    "    use_cuda = True\n",
    "    print('Torch', torch.__version__, 'CUDA', torch.version.cuda)\n",
    "    use_cuda = use_cuda and torch.cuda.is_available()\n",
    "    device = torch.device(\"cuda\" if use_cuda else \"cpu\")\n",
    "    torch.manual_seed(exp)\n",
    "\n",
    "    model = AZ_MLP_Net(X_train.shape[1], 100)\n",
    "    optimizer = optim.Adam(model.parameters(), lr=0.001)\n",
    "    #optimizer = torch.optim.SGD(model.parameters(), lr=0.01, momentum=0.9, weight_decay=0.000001)\n",
    "       \n",
    "    if torch.cuda.device_count() > 1:\n",
    "        print(\"Let's use\", torch.cuda.device_count(), \"GPUs!\")\n",
    "        model = nn.DataParallel(model)\n",
    "    model = model.to(device)\n",
    "    print(f'Model has {count_parameters(model)/1000000}m parameters')    \n",
    "    criterion = nn.CrossEntropyLoss() #weight=class_weights.to(device)\n",
    "    \n",
    "    \n",
    "    standardization = StandardScaler()\n",
    "    standard_scaler = standardization.partial_fit(X_train)\n",
    "    \n",
    "    # X_train, y_train, X_valid, Y_valid, X_test, Y_test\n",
    "    \n",
    "    X_train = standard_scaler.transform(X_train)\n",
    "    X_test = standard_scaler.transform(X_test)\n",
    "\n",
    "\n",
    "    X_train, Y_train = np.array(X_train, np.float32), np.array(Y_train, np.int32)\n",
    "    X_test, Y_test = np.array(X_test, np.float32), np.array(Y_test, np.int32)   \n",
    "    \n",
    "    model_save_dir = '../../drebin_exps_store/MLP_model/statictraining_' + str(current_task) + '/'\n",
    "    create_parent_folder(model_save_dir)\n",
    "\n",
    "    results_save_dir = '../../drebin_exps_store/MLP_Model/statictraining_results/' \n",
    "    create_parent_folder(results_save_dir)\n",
    "\n",
    "        \n",
    "    task_training_time, epoch_ran, training_loss, validation_loss  =\\\n",
    "                            training_early_stopping(model, model_save_dir,\\\n",
    "                             X_train, Y_train,\\\n",
    "                            X_test, Y_test, patience, batch_size, device, optimizer, num_epoch,\\\n",
    "                             criterion, replay_type, current_task, exp, earlystopping=True)\n",
    "\n",
    "    acc = testing_aucscore(model, X_test, Y_test, batch_size, device)   \n",
    "\n",
    "    \n",
    "\n",
    "    end_time = time.time()\n",
    "    cnt += 1\n",
    "    print(f'Elapsed time {(end_time - start_time)/60} mins.')\n",
    "    "
   ]
  }
 ],
 "metadata": {
  "kernelspec": {
   "display_name": "PyTorch2",
   "language": "python",
   "name": "pytorch2"
  },
  "language_info": {
   "codemirror_mode": {
    "name": "ipython",
    "version": 3
   },
   "file_extension": ".py",
   "mimetype": "text/x-python",
   "name": "python",
   "nbconvert_exporter": "python",
   "pygments_lexer": "ipython3",
   "version": "3.9.17"
  }
 },
 "nbformat": 4,
 "nbformat_minor": 4
}
