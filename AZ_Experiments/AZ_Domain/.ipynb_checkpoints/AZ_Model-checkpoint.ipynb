{
 "cells": [
  {
   "cell_type": "code",
   "execution_count": 2,
   "metadata": {},
   "outputs": [],
   "source": [
    "import numpy as np\n",
    "import os\n",
    "# import pandas as pd\n",
    "import matplotlib.pyplot as plt\n",
    "import time, random\n",
    "from tqdm import tqdm\n",
    "from sklearn.metrics import classification_report\n",
    "from sklearn.preprocessing import StandardScaler, QuantileTransformer\n",
    "from sklearn.model_selection import train_test_split\n",
    "import datetime\n",
    "import argparse\n",
    "import torch\n",
    "import torchvision\n",
    "import torch.nn as nn\n",
    "import torch.optim as optim\n",
    "import torch.nn.functional as F\n",
    "from torchvision import transforms, utils, datasets\n",
    "from torch.utils.data import Dataset, DataLoader\n",
    "\n",
    "from ember_utils import *\n",
    "from ember_model import *\n",
    "from ember_pjr_utils import *"
   ]
  },
  {
   "cell_type": "code",
   "execution_count": 3,
   "metadata": {},
   "outputs": [],
   "source": [
    "raw_path = '/home/mr6564/continual_research/AZ_Data/Domain/'\n",
    "train_file = raw_path + 'All_Domain_AZ_Train.npz'\n",
    "test_file = raw_path + 'All_Domain_AZ_Test.npz'\n",
    "\n",
    "\n",
    "train_data = np.load(train_file, allow_pickle=True)\n",
    "test_data = np.load(test_file, allow_pickle=True)\n",
    "\n",
    "X_train, Y_train, Y_tr_family_year = train_data['X_train'], train_data['Y_train'], train_data['Y_tr_family']\n",
    "X_test, Y_test, Y_te_family_year = test_data['X_test'], test_data['Y_test'], test_data['Y_te_family']\n"
   ]
  },
  {
   "cell_type": "code",
   "execution_count": 9,
   "metadata": {},
   "outputs": [
    {
     "name": "stdout",
     "output_type": "stream",
     "text": [
      "Torch 2.0.1 CUDA 11.8\n",
      "Model has 3.720193m parameters\n",
      "X_train (682598, 2959) Y_train (682598,)\n",
      "X_test (75848, 2959) Y_test (75848,)\n",
      "Epoch 1 of 500\n"
     ]
    },
    {
     "name": "stderr",
     "output_type": "stream",
     "text": [
      "100%|███████████████████████████████████████████████████████████| 1333/1333 [00:15<00:00, 88.17it/s]\n",
      "100%|████████████████████████████████████████████████████████████| 149/149 [00:01<00:00, 108.70it/s]\n"
     ]
    },
    {
     "name": "stdout",
     "output_type": "stream",
     "text": [
      "Train Loss: 0.6931, Train Acc: 0.5009\n",
      "Val Loss: 0.6933, Val Acc: 0.4641\n",
      "Validation loss decreased (inf --> 0.693308).  Saving model ...\n",
      "../az_model/best_model_epoch_1.pt\n",
      "../az_model/best_optimizer_epoch_1.pt\n",
      "Epoch 2 of 500\n"
     ]
    },
    {
     "name": "stderr",
     "output_type": "stream",
     "text": [
      "100%|██████████████████████████████████████████████████████████| 1333/1333 [00:12<00:00, 104.01it/s]\n",
      "100%|█████████████████████████████████████████████████████████████| 149/149 [00:01<00:00, 99.83it/s]\n"
     ]
    },
    {
     "name": "stdout",
     "output_type": "stream",
     "text": [
      "Train Loss: 0.6931, Train Acc: 0.5060\n",
      "Val Loss: 0.6916, Val Acc: 0.8509\n",
      "Validation loss decreased (0.693308 --> 0.691646).  Saving model ...\n",
      "../az_model/best_model_epoch_2.pt\n",
      "../az_model/best_optimizer_epoch_2.pt\n",
      "Epoch 3 of 500\n"
     ]
    },
    {
     "name": "stderr",
     "output_type": "stream",
     "text": [
      "100%|██████████████████████████████████████████████████████████| 1333/1333 [00:13<00:00, 102.45it/s]\n",
      "100%|████████████████████████████████████████████████████████████| 149/149 [00:01<00:00, 102.68it/s]\n"
     ]
    },
    {
     "name": "stdout",
     "output_type": "stream",
     "text": [
      "Train Loss: 0.6931, Train Acc: 0.5046\n",
      "Val Loss: 0.6940, Val Acc: 0.2701\n",
      "EarlyStopping counter: 1 out of 5\n",
      "Epoch 4 of 500\n"
     ]
    },
    {
     "name": "stderr",
     "output_type": "stream",
     "text": [
      "100%|██████████████████████████████████████████████████████████| 1333/1333 [00:12<00:00, 108.98it/s]\n",
      "100%|████████████████████████████████████████████████████████████| 149/149 [00:01<00:00, 123.34it/s]\n"
     ]
    },
    {
     "name": "stdout",
     "output_type": "stream",
     "text": [
      "Train Loss: 0.6931, Train Acc: 0.5058\n",
      "Val Loss: 0.6948, Val Acc: 0.1623\n",
      "EarlyStopping counter: 2 out of 5\n",
      "Epoch 5 of 500\n"
     ]
    },
    {
     "name": "stderr",
     "output_type": "stream",
     "text": [
      "100%|██████████████████████████████████████████████████████████| 1333/1333 [00:12<00:00, 105.14it/s]\n",
      "100%|████████████████████████████████████████████████████████████| 149/149 [00:01<00:00, 108.88it/s]\n"
     ]
    },
    {
     "name": "stdout",
     "output_type": "stream",
     "text": [
      "Train Loss: 0.6931, Train Acc: 0.5066\n",
      "Val Loss: 0.6929, Val Acc: 0.5798\n",
      "EarlyStopping counter: 3 out of 5\n",
      "Epoch 6 of 500\n"
     ]
    },
    {
     "name": "stderr",
     "output_type": "stream",
     "text": [
      "100%|██████████████████████████████████████████████████████████| 1333/1333 [00:12<00:00, 106.63it/s]\n",
      "100%|█████████████████████████████████████████████████████████████| 149/149 [00:01<00:00, 98.36it/s]\n"
     ]
    },
    {
     "name": "stdout",
     "output_type": "stream",
     "text": [
      "Train Loss: 0.6931, Train Acc: 0.5102\n",
      "Val Loss: 0.6938, Val Acc: 0.4080\n",
      "EarlyStopping counter: 4 out of 5\n",
      "Epoch 7 of 500\n"
     ]
    },
    {
     "name": "stderr",
     "output_type": "stream",
     "text": [
      "100%|██████████████████████████████████████████████████████████| 1333/1333 [00:12<00:00, 104.98it/s]\n",
      "100%|████████████████████████████████████████████████████████████| 149/149 [00:01<00:00, 114.72it/s]\n"
     ]
    },
    {
     "name": "stdout",
     "output_type": "stream",
     "text": [
      "Train Loss: 0.6931, Train Acc: 0.5086\n",
      "Val Loss: 0.6916, Val Acc: 0.7596\n",
      "EarlyStopping counter: 5 out of 5\n",
      "Early stopping\n",
      "Training time: 1.683 minutes\n",
      "Elapsed time 1.7526292045911154 mins.\n",
      "loading best model ../az_model/best_model_epoch_2.pt\n",
      "loading best optimizer ../az_model/best_model_epoch_2.pt\n"
     ]
    },
    {
     "ename": "KeyError",
     "evalue": "'param_groups'",
     "output_type": "error",
     "traceback": [
      "\u001b[0;31m---------------------------------------------------------------------------\u001b[0m",
      "\u001b[0;31mKeyError\u001b[0m                                  Traceback (most recent call last)",
      "Cell \u001b[0;32mIn[9], line 139\u001b[0m\n\u001b[1;32m    137\u001b[0m best_optimizer \u001b[38;5;241m=\u001b[39m opt_save_path \u001b[38;5;241m+\u001b[39m os\u001b[38;5;241m.\u001b[39mlistdir(opt_save_path)[\u001b[38;5;241m0\u001b[39m]\n\u001b[1;32m    138\u001b[0m \u001b[38;5;28mprint\u001b[39m(\u001b[38;5;124mf\u001b[39m\u001b[38;5;124m'\u001b[39m\u001b[38;5;124mloading best optimizer \u001b[39m\u001b[38;5;132;01m{\u001b[39;00mbest_optimizer\u001b[38;5;132;01m}\u001b[39;00m\u001b[38;5;124m'\u001b[39m)\n\u001b[0;32m--> 139\u001b[0m \u001b[43moptimizer\u001b[49m\u001b[38;5;241;43m.\u001b[39;49m\u001b[43mload_state_dict\u001b[49m\u001b[43m(\u001b[49m\u001b[43mtorch\u001b[49m\u001b[38;5;241;43m.\u001b[39;49m\u001b[43mload\u001b[49m\u001b[43m(\u001b[49m\u001b[43mbest_optimizer\u001b[49m\u001b[43m)\u001b[49m\u001b[43m)\u001b[49m\n\u001b[1;32m    142\u001b[0m acc, precision, recall, f1score \u001b[38;5;241m=\u001b[39m testing_aucscore(model, X_test, Y_test, batch_size, device)\n\u001b[1;32m    143\u001b[0m \u001b[38;5;28mprint\u001b[39m()\n",
      "File \u001b[0;32m~/anaconda3/envs/PyTorch2/lib/python3.9/site-packages/torch/optim/optimizer.py:382\u001b[0m, in \u001b[0;36mOptimizer.load_state_dict\u001b[0;34m(self, state_dict)\u001b[0m\n\u001b[1;32m    380\u001b[0m \u001b[38;5;66;03m# Validate the state_dict\u001b[39;00m\n\u001b[1;32m    381\u001b[0m groups \u001b[38;5;241m=\u001b[39m \u001b[38;5;28mself\u001b[39m\u001b[38;5;241m.\u001b[39mparam_groups\n\u001b[0;32m--> 382\u001b[0m saved_groups \u001b[38;5;241m=\u001b[39m \u001b[43mstate_dict\u001b[49m\u001b[43m[\u001b[49m\u001b[38;5;124;43m'\u001b[39;49m\u001b[38;5;124;43mparam_groups\u001b[39;49m\u001b[38;5;124;43m'\u001b[39;49m\u001b[43m]\u001b[49m\n\u001b[1;32m    384\u001b[0m \u001b[38;5;28;01mif\u001b[39;00m \u001b[38;5;28mlen\u001b[39m(groups) \u001b[38;5;241m!=\u001b[39m \u001b[38;5;28mlen\u001b[39m(saved_groups):\n\u001b[1;32m    385\u001b[0m     \u001b[38;5;28;01mraise\u001b[39;00m \u001b[38;5;167;01mValueError\u001b[39;00m(\u001b[38;5;124m\"\u001b[39m\u001b[38;5;124mloaded state dict has a different number of \u001b[39m\u001b[38;5;124m\"\u001b[39m\n\u001b[1;32m    386\u001b[0m                      \u001b[38;5;124m\"\u001b[39m\u001b[38;5;124mparameter groups\u001b[39m\u001b[38;5;124m\"\u001b[39m)\n",
      "\u001b[0;31mKeyError\u001b[0m: 'param_groups'"
     ]
    }
   ],
   "source": [
    "class Ember_MLP_Net(nn.Module):\n",
    "    def __init__(self, input_features):\n",
    "        super(Ember_MLP_Net, self).__init__()\n",
    "        \n",
    "        self.fc1 = nn.Linear(input_features, 1024)\n",
    "        #self.fc1_bn = nn.BatchNorm1d(1024)\n",
    "        self.act1 = nn.ReLU()\n",
    "        #self.fc1_drop = nn.Dropout(p=0.5)\n",
    "        \n",
    "        self.fc2 = nn.Linear(1024, 512)\n",
    "        #self.fc2_bn = nn.BatchNorm1d(512)\n",
    "        self.act2 = nn.ReLU()\n",
    "        #self.fc2_drop = nn.Dropout(p=0.5)\n",
    "        \n",
    "        self.fc3 = nn.Linear(512, 256)\n",
    "        #self.fc3_bn = nn.BatchNorm1d(256)\n",
    "        self.act3 = nn.ReLU()\n",
    "        #self.fc3_drop = nn.Dropout(p=0.5)        \n",
    "        \n",
    "        self.fc4 = nn.Linear(256, 128)\n",
    "        #self.fc4_bn = nn.BatchNorm1d(128)\n",
    "        self.act4 = nn.ReLU()\n",
    "        #self.fc4_drop = nn.Dropout(p=0.5)  \n",
    "        \n",
    "        self.fc_last = nn.Linear(128, 1) \n",
    "        self.out = nn.Sigmoid()\n",
    "        \n",
    "        #self.activate = nn.ReLU()\n",
    "\n",
    "    def forward(self, x):\n",
    "        x = x.view(x.size(0), -1)\n",
    "        #print(x.shape)\n",
    "        x = self.fc1(x)\n",
    "        #x = self.fc1_bn(x)\n",
    "        x = self.act1(x) \n",
    "        #x = self.fc1_drop(x)\n",
    "\n",
    "        x = self.fc2(x)\n",
    "        #x = self.fc2_bn(x)\n",
    "        x = self.act2(x) \n",
    "        #x = self.fc2_drop(x)\n",
    "        \n",
    "        x = self.fc3(x)\n",
    "        #x = self.fc3_bn(x)\n",
    "        x = self.act3(x) \n",
    "        #x = self.fc3_drop(x)\n",
    "        \n",
    "        x = self.fc4(x)\n",
    "        #x = self.fc4_bn(x)\n",
    "        x = self.act4(x)\n",
    "        #x = self.fc4_drop(x)\n",
    "        \n",
    "        x = self.fc_last(x)\n",
    "        x = self.out(x)\n",
    "        return x\n",
    "\n",
    "\n",
    "\n",
    "\n",
    "\n",
    "\n",
    "exp_seeds = [random.randint(1, 99999) for i in range(1)]\n",
    "\n",
    "\n",
    "accs_all = []\n",
    "rocauc_all = []\n",
    "\n",
    "num_epoch = 500\n",
    "batch_size = 512\n",
    "patience = 5\n",
    "\n",
    "\n",
    "input_features = X_train.shape[1]\n",
    "\n",
    "replay_type, current_task = 'azdomain', 'azdomain'\n",
    "\n",
    "for exp in exp_seeds:\n",
    "\n",
    "    start_time = time.time()\n",
    "    use_cuda = True\n",
    "    print('Torch', torch.__version__, 'CUDA', torch.version.cuda)\n",
    "    use_cuda = use_cuda and torch.cuda.is_available()\n",
    "    device = torch.device(\"cuda\" if use_cuda else \"cpu\")\n",
    "    torch.manual_seed(exp)\n",
    "\n",
    "    model = Ember_MLP_Net(input_features)\n",
    "    #optimizer = torch.optim.SGD(model.parameters(), lr=0.001, momentum=0.9, weight_decay=0.000001)\n",
    "    optimizer = torch.optim.Adam(model.parameters(), lr=0.001)\n",
    "       \n",
    "    if torch.cuda.device_count() > 1:\n",
    "        print(\"Let's use\", torch.cuda.device_count(), \"GPUs!\")\n",
    "        model = nn.DataParallel(model)\n",
    "    \n",
    "    model = model.to(device)\n",
    "    print(f'Model has {count_parameters(model)/1000000}m parameters')    \n",
    "    criterion = nn.BCELoss()    \n",
    "\n",
    "    \n",
    "#     standardization = StandardScaler()\n",
    "#     standard_scaler = standardization.fit(X_train)\n",
    "\n",
    "#     X_train = standard_scaler.transform(X_train)\n",
    "#     X_test = standard_scaler.transform(X_test)\n",
    "    \n",
    "    X_train, Y_train = np.array(X_train, np.float32), np.array(Y_train, np.int32)\n",
    "    X_test, Y_test = np.array(X_test, np.float32), np.array(Y_test, np.int32)  \n",
    "\n",
    "    \n",
    "    \n",
    "    model_save_dir = '../az_model/model/'\n",
    "    create_parent_folder(model_save_dir)\n",
    "\n",
    "    opt_save_path = '../az_model/opt/'\n",
    "    create_parent_folder(opt_save_path)\n",
    "\n",
    "    results_save_dir =  '../az_model/res/' \n",
    "    create_parent_folder(results_save_dir)\n",
    "\n",
    "    print(f'X_train {X_train.shape} Y_train {Y_train.shape}')\n",
    "    print(f'X_test {X_test.shape} Y_test {Y_test.shape}')\n",
    "    \n",
    "    \n",
    "    task_training_time, epoch_ran, training_loss, validation_loss  = training_early_stopping(\\\n",
    "                                 model, model_save_dir, opt_save_path, X_train, Y_train,\\\n",
    "                                 X_test, Y_test, patience, batch_size, device, optimizer, num_epoch,\\\n",
    "                                 criterion, replay_type, current_task, exp, earlystopping=True)\n",
    "\n",
    "    \n",
    "    end_time = time.time()\n",
    "    print(f'Elapsed time {(end_time - start_time)/60} mins.') \n",
    "    \n",
    "    \n",
    "    \n",
    "    best_model_path = model_save_dir + os.listdir(model_save_dir)[0]\n",
    "    print(f'loading best model {best_model_path}')\n",
    "    model.load_state_dict(torch.load(best_model_path))\n",
    "\n",
    "    #optimizer = torch.optim.SGD(model.parameters(), lr=0.001, momentum=0.9, weight_decay=0.000001)\n",
    "    best_optimizer = opt_save_path + os.listdir(opt_save_path)[0]\n",
    "    print(f'loading best optimizer {best_optimizer}')\n",
    "    optimizer.load_state_dict(torch.load(best_optimizer))\n",
    "\n",
    "\n",
    "    acc, precision, recall, f1score = testing_aucscore(model, X_test, Y_test, batch_size, device)\n",
    "    print()\n",
    "    del model_save_dir\n",
    "    del opt_save_path\n",
    "    del results_save_dir\n",
    "    \n",
    "#     accs_all.append(acc)\n",
    "#     rocauc_all.append(rocauc)\n",
    "\n"
   ]
  },
  {
   "cell_type": "code",
   "execution_count": null,
   "metadata": {},
   "outputs": [],
   "source": [
    "model"
   ]
  },
  {
   "cell_type": "code",
   "execution_count": 5,
   "metadata": {},
   "outputs": [],
   "source": [
    "best_optimizer = opt_save_path + os.listdir(opt_save_path)[0]\n"
   ]
  },
  {
   "cell_type": "code",
   "execution_count": 8,
   "metadata": {},
   "outputs": [
    {
     "data": {
      "text/plain": [
       "Adam (\n",
       "Parameter Group 0\n",
       "    amsgrad: False\n",
       "    betas: (0.9, 0.999)\n",
       "    capturable: False\n",
       "    differentiable: False\n",
       "    eps: 1e-08\n",
       "    foreach: None\n",
       "    fused: None\n",
       "    lr: 0.001\n",
       "    maximize: False\n",
       "    weight_decay: 0\n",
       ")"
      ]
     },
     "execution_count": 8,
     "metadata": {},
     "output_type": "execute_result"
    }
   ],
   "source": [
    "optimizer"
   ]
  },
  {
   "cell_type": "code",
   "execution_count": 7,
   "metadata": {},
   "outputs": [
    {
     "data": {
      "text/plain": [
       "OrderedDict([('fc1.weight',\n",
       "              tensor([[ 0.0042, -0.0176,  0.0149,  ..., -0.0178, -0.0115,  0.0123],\n",
       "                      [ 0.1327,  0.0044,  0.1471,  ...,  0.0402,  0.1023, -0.0720],\n",
       "                      [ 0.0067,  0.0534,  0.0393,  ..., -0.0618, -0.0373,  0.0042],\n",
       "                      ...,\n",
       "                      [-0.0147, -0.0301,  0.0096,  ...,  0.0037, -0.0127, -0.0127],\n",
       "                      [-0.0687,  0.0553, -0.2438,  ..., -0.0508, -0.0132,  0.0895],\n",
       "                      [-0.0018,  0.1080,  0.0264,  ...,  0.0352,  0.0104, -0.0060]],\n",
       "                     device='cuda:0')),\n",
       "             ('fc1.bias',\n",
       "              tensor([-0.0549, -0.0018, -0.0854,  ..., -0.0033,  0.0239, -0.0687],\n",
       "                     device='cuda:0')),\n",
       "             ('fc2.weight',\n",
       "              tensor([[-0.0189, -0.0295,  0.0117,  ...,  0.0259, -0.0872, -0.0226],\n",
       "                      [ 0.0567,  0.0365,  0.0364,  ..., -0.0423, -0.1114, -0.0538],\n",
       "                      [-0.0182, -0.0354, -0.0076,  ...,  0.0068,  0.0188, -0.0020],\n",
       "                      ...,\n",
       "                      [-0.0270,  0.0247,  0.0215,  ...,  0.0241,  0.0293,  0.0012],\n",
       "                      [-0.0076, -0.0034, -0.0207,  ..., -0.0287,  0.0537,  0.0361],\n",
       "                      [ 0.0143,  0.0083, -0.0330,  ...,  0.0116, -0.0241, -0.0363]],\n",
       "                     device='cuda:0')),\n",
       "             ('fc2.bias',\n",
       "              tensor([-1.2321e-01,  3.3253e-02, -2.9023e-02, -8.4908e-02, -1.3390e-02,\n",
       "                      -1.0021e-02, -2.1631e-02, -6.2360e-02, -5.4109e-02, -3.9885e-02,\n",
       "                      -4.9893e-02, -4.1707e-02, -4.1401e-02, -3.9126e-02, -5.9698e-03,\n",
       "                      -7.0174e-02, -4.9868e-02, -8.7054e-02,  7.1949e-04, -9.2956e-02,\n",
       "                       5.3832e-02, -6.0342e-02, -6.1057e-02, -4.1591e-02, -5.3927e-02,\n",
       "                      -4.2185e-02, -2.8349e-02, -4.5831e-02, -4.1839e-02, -3.6126e-02,\n",
       "                       9.6406e-02, -3.7076e-03, -8.2025e-02, -3.5305e-02, -6.4742e-03,\n",
       "                      -3.6879e-02, -4.1480e-03,  1.4140e-03, -1.5909e-02, -5.4340e-02,\n",
       "                      -8.4139e-02, -9.3014e-02, -8.6647e-02, -1.0792e-02, -1.2636e-01,\n",
       "                      -6.5483e-02, -4.4307e-02, -1.0058e-01, -3.3485e-02,  1.7976e-01,\n",
       "                      -1.3384e-02, -2.5200e-02,  2.0809e-04, -1.2453e-01, -3.7408e-02,\n",
       "                      -4.7377e-02,  2.9971e-02, -7.9946e-03,  1.2281e-01,  5.1508e-02,\n",
       "                      -1.0907e-02, -3.6137e-02,  2.1292e-02, -6.7993e-02, -3.8254e-02,\n",
       "                      -1.1623e-02, -1.2762e-02, -7.1806e-03, -1.0570e-01, -5.4417e-02,\n",
       "                      -3.7788e-02, -3.9405e-02, -2.5582e-02,  4.6177e-02, -1.1104e-01,\n",
       "                      -5.5263e-02, -6.1540e-02,  9.5745e-03, -3.6351e-02, -6.9669e-02,\n",
       "                       1.7104e-02,  2.6630e-02,  9.1852e-02,  1.1281e-01, -1.0175e-01,\n",
       "                      -4.4428e-02,  1.7575e-01,  1.0259e-01, -4.2084e-02, -2.4254e-02,\n",
       "                      -1.2372e-02, -1.1949e-01,  9.4156e-02,  3.2684e-02, -3.1157e-03,\n",
       "                      -2.7860e-02,  4.4969e-02, -2.3333e-02,  8.8968e-02, -2.4314e-02,\n",
       "                       9.9766e-02, -6.0287e-02,  6.7259e-02, -4.6793e-02, -3.4784e-02,\n",
       "                      -3.3960e-02,  9.9234e-03, -2.3646e-02, -5.5915e-02, -8.2392e-02,\n",
       "                      -5.7363e-02, -3.5599e-02, -9.9013e-02, -3.0568e-02, -2.8418e-02,\n",
       "                      -3.9589e-02, -3.2879e-02,  6.1433e-02, -8.6882e-02, -7.3166e-02,\n",
       "                      -3.3162e-02, -1.8518e-02,  4.7775e-02, -7.7281e-02, -3.2529e-02,\n",
       "                      -6.8465e-02, -3.9958e-02, -5.4658e-02, -4.5599e-02,  1.6152e-03,\n",
       "                      -4.5646e-02, -1.2154e-02, -1.0670e-01, -5.2017e-02,  9.0273e-02,\n",
       "                      -7.3745e-02, -6.8604e-02,  6.4239e-02, -5.0987e-02, -1.7775e-02,\n",
       "                      -4.6288e-02, -7.5460e-02, -4.5436e-02, -4.9196e-02, -8.3248e-02,\n",
       "                      -2.5353e-02, -3.4574e-02, -6.2211e-02, -4.8331e-02, -1.0263e-01,\n",
       "                      -1.7437e-02, -9.4667e-02, -2.6196e-02, -7.8890e-02,  2.0610e-02,\n",
       "                      -6.3950e-02, -6.0552e-02, -1.0373e-01, -6.9956e-02,  4.8485e-02,\n",
       "                      -3.6289e-02, -2.4164e-02, -3.4495e-02,  2.9659e-03, -1.3871e-01,\n",
       "                      -2.7812e-02, -5.3628e-02, -8.0369e-02, -5.5825e-02, -8.3378e-02,\n",
       "                      -1.2305e-01, -5.1139e-02, -3.6464e-02, -3.2057e-02, -5.0891e-02,\n",
       "                      -3.5610e-02, -7.6672e-02,  1.0998e-01, -5.4774e-02, -1.0709e-01,\n",
       "                      -8.6780e-02, -1.7881e-02, -1.2612e-01, -3.4507e-02,  1.8800e-01,\n",
       "                       7.8069e-02, -6.0167e-02,  1.0427e-02, -1.8532e-02, -6.2670e-03,\n",
       "                      -7.2581e-02, -5.1540e-03, -6.3624e-02,  1.5583e-02,  7.1173e-02,\n",
       "                      -9.4813e-02, -8.9996e-02,  1.0949e-01, -1.3846e-02,  8.6159e-02,\n",
       "                       1.1093e-01, -1.1618e-01, -2.6450e-02,  3.6771e-03,  7.9093e-02,\n",
       "                      -3.4526e-02, -6.2382e-02, -1.7331e-03, -1.7643e-02, -6.1015e-02,\n",
       "                      -4.7406e-02, -4.3544e-02, -1.3238e-02,  3.8742e-03, -2.3290e-02,\n",
       "                      -2.4640e-02, -1.2969e-02,  2.0455e-01, -2.0322e-02, -1.8731e-02,\n",
       "                      -2.5989e-02,  8.7906e-03,  1.0815e-01, -4.0200e-02, -6.5967e-02,\n",
       "                      -9.4730e-02, -6.8886e-02, -1.8729e-02, -6.4567e-02,  3.3710e-02,\n",
       "                      -3.0837e-02, -1.9095e-02, -8.1882e-02,  1.8664e-02, -4.9979e-02,\n",
       "                       1.5289e-02, -7.4813e-02, -5.8170e-02,  3.8141e-02, -2.8974e-02,\n",
       "                      -5.7344e-02, -3.2827e-02, -6.8560e-02, -7.1201e-03, -1.7816e-02,\n",
       "                       9.0725e-03, -2.6655e-02, -1.3174e-02,  1.2365e-01, -8.7318e-02,\n",
       "                      -8.2156e-02, -4.2397e-02, -9.4531e-02,  1.1714e-02, -1.0176e-01,\n",
       "                      -9.0573e-02, -1.2107e-02, -1.2899e-01, -1.1581e-01, -9.3826e-03,\n",
       "                      -6.7080e-02,  5.8353e-02, -4.1637e-02, -8.2270e-02, -1.7568e-02,\n",
       "                      -1.2584e-01, -6.4420e-02, -6.2722e-02, -4.4798e-02, -6.8013e-02,\n",
       "                      -1.4454e-02, -7.7635e-02, -4.9803e-02,  1.3095e-02,  6.9678e-02,\n",
       "                      -9.6382e-03, -2.5185e-02,  1.0177e-01, -3.3224e-02, -2.9024e-02,\n",
       "                       8.5904e-02,  1.1244e-01, -9.1759e-02, -1.0144e-01, -7.1893e-02,\n",
       "                      -7.4255e-02, -4.4110e-02, -3.0119e-02, -1.1932e-01,  1.1860e-01,\n",
       "                       9.2797e-02,  3.3962e-02, -8.9652e-02, -4.9564e-02, -3.0790e-02,\n",
       "                       2.9773e-02, -7.0607e-02, -1.4230e-02, -3.4443e-02,  7.8700e-02,\n",
       "                       1.0913e-01, -3.0896e-02, -5.1459e-02,  3.3906e-03, -1.9514e-02,\n",
       "                      -3.3804e-02, -5.0068e-02, -3.2703e-03, -5.7340e-02, -2.7374e-02,\n",
       "                       1.4158e-01,  2.4669e-02, -4.3202e-02,  2.0395e-02,  9.8747e-02,\n",
       "                      -8.8545e-02, -5.1527e-02, -5.2683e-02, -9.5838e-02,  9.4984e-02,\n",
       "                       8.2044e-02, -5.3812e-02, -5.1233e-02, -3.7650e-02, -3.0706e-02,\n",
       "                      -9.2721e-02, -1.4355e-02,  1.0782e-01, -9.5587e-02,  1.2423e-02,\n",
       "                      -6.2889e-02, -1.0276e-01,  9.3303e-03,  9.1784e-02,  5.3060e-02,\n",
       "                      -2.9059e-02, -4.9885e-02, -3.5508e-02,  1.0900e-02,  2.0799e-02,\n",
       "                      -4.3045e-02, -9.0822e-02, -9.0211e-02, -6.8511e-03, -6.3621e-02,\n",
       "                      -2.8213e-02, -6.1298e-02,  6.9760e-02, -3.1411e-02, -2.7855e-02,\n",
       "                      -7.9249e-02, -5.0779e-02, -1.3019e-02, -6.2278e-02,  2.0333e-02,\n",
       "                      -7.2613e-02,  1.3179e-02, -6.8822e-02, -1.5135e-02, -1.1649e-01,\n",
       "                      -1.4543e-02, -8.5176e-02,  2.6219e-03,  1.1092e-01, -2.2417e-02,\n",
       "                      -3.6821e-02, -3.2433e-02, -5.2386e-02, -4.2454e-02, -6.9862e-02,\n",
       "                      -6.6449e-03, -1.2540e-02, -5.9329e-03, -9.6083e-02, -3.9821e-02,\n",
       "                      -5.0593e-02, -3.6510e-02, -2.6526e-02,  7.0762e-02, -3.8837e-02,\n",
       "                      -7.2163e-02, -5.9041e-02,  1.2905e-01, -8.6549e-02, -1.0492e-01,\n",
       "                      -1.8197e-02, -8.7238e-02, -9.1280e-02,  7.5488e-02, -5.7248e-02,\n",
       "                      -7.7341e-02, -4.6725e-02, -1.0917e-01,  9.9824e-02, -9.2521e-02,\n",
       "                      -2.8758e-02, -3.1803e-02, -3.3642e-02, -5.4274e-02, -3.0179e-02,\n",
       "                      -4.4787e-02,  2.1742e-02,  1.5744e-01, -8.4848e-02,  1.1550e-02,\n",
       "                      -9.5239e-03, -6.7313e-02, -9.3918e-03, -8.3129e-02, -7.4142e-02,\n",
       "                      -2.4649e-02,  6.0796e-02, -5.2869e-02, -9.1566e-02, -1.7604e-02,\n",
       "                      -2.9602e-02,  3.7465e-02,  9.4751e-02, -7.0542e-02, -5.5896e-02,\n",
       "                      -1.0228e-02, -6.4478e-02, -6.8020e-02,  7.9371e-03, -6.1778e-02,\n",
       "                       4.0734e-02, -2.2862e-02, -3.8749e-02, -6.7925e-02, -2.1668e-02,\n",
       "                      -1.0308e-01, -4.4591e-02, -1.1253e-01,  3.9476e-02, -8.1949e-02,\n",
       "                      -6.1216e-02, -8.1088e-03, -5.3021e-03,  4.4630e-02,  1.2783e-01,\n",
       "                       3.0953e-02, -1.6076e-02, -1.0010e-01, -7.2777e-02, -5.1674e-02,\n",
       "                      -5.5792e-02, -3.7587e-02, -2.7849e-02,  3.5051e-02,  1.2533e-02,\n",
       "                       3.1939e-02, -1.9227e-03, -2.4525e-03, -5.8541e-02, -7.8262e-02,\n",
       "                       1.4929e-01, -1.8643e-02, -7.4236e-02, -5.8209e-02, -1.0262e-01,\n",
       "                       1.3720e-01,  5.8234e-05, -1.2228e-01, -3.8055e-02, -2.4728e-02,\n",
       "                       1.4662e-01, -1.1407e-01, -1.6189e-02, -3.8717e-02, -8.0086e-02,\n",
       "                      -1.3873e-01, -9.4649e-02, -7.3390e-04, -1.8804e-02,  5.5251e-02,\n",
       "                       8.1858e-02, -7.7939e-03, -1.1138e-01, -1.2346e-02, -1.1798e-01,\n",
       "                      -4.3853e-02, -2.7683e-02, -5.5176e-02, -7.0293e-02, -5.2082e-02,\n",
       "                      -9.7744e-02,  4.5406e-02, -6.3964e-02, -3.3114e-02, -6.5817e-02,\n",
       "                       6.3350e-02,  8.2089e-02, -4.6477e-02, -7.0548e-02, -4.2382e-02,\n",
       "                       4.9723e-03, -1.0036e-01, -7.5702e-02, -5.0193e-02, -4.6338e-02,\n",
       "                      -1.5703e-01, -5.9914e-02, -6.3526e-02, -2.8941e-02, -3.3455e-02,\n",
       "                      -5.7809e-02, -1.0040e-01,  2.5715e-02, -7.4907e-02, -2.9933e-02,\n",
       "                      -8.7356e-02, -4.9829e-03], device='cuda:0')),\n",
       "             ('fc3.weight',\n",
       "              tensor([[-0.0012, -0.0391,  0.0302,  ...,  0.0216, -0.0138, -0.0073],\n",
       "                      [-0.0404, -0.0147, -0.0384,  ...,  0.0245, -0.0098,  0.0302],\n",
       "                      [ 0.0057, -0.0567, -0.0479,  ...,  0.0294, -0.0203, -0.0398],\n",
       "                      ...,\n",
       "                      [-0.0110, -0.0458,  0.0060,  ...,  0.0436,  0.0703, -0.0416],\n",
       "                      [ 0.0205, -0.0116,  0.0414,  ..., -0.0250,  0.0030, -0.0420],\n",
       "                      [ 0.0750, -0.1035, -0.0313,  ..., -0.0741,  0.0236, -0.0208]],\n",
       "                     device='cuda:0')),\n",
       "             ('fc3.bias',\n",
       "              tensor([-0.1014, -0.0704, -0.0623, -0.0422, -0.0052, -0.0495, -0.1043, -0.0617,\n",
       "                      -0.0455,  0.1725, -0.0812, -0.0100, -0.0089, -0.0613,  0.0882, -0.0112,\n",
       "                       0.1310, -0.0710,  0.0053,  0.0608, -0.0364,  0.0722,  0.0489, -0.0144,\n",
       "                      -0.0112, -0.0223, -0.0287, -0.0229, -0.0302, -0.0112, -0.1103, -0.0107,\n",
       "                       0.0090, -0.0600, -0.0244, -0.0461, -0.0428,  0.0902,  0.0014, -0.0521,\n",
       "                      -0.0461, -0.0146, -0.0754, -0.0246, -0.0434, -0.0538, -0.0032, -0.0293,\n",
       "                       0.0256, -0.0323, -0.2201, -0.0258, -0.1024,  0.0190, -0.0237, -0.0387,\n",
       "                      -0.0759, -0.0721, -0.0468, -0.0600,  0.0594,  0.0796,  0.1014, -0.0662,\n",
       "                      -0.0068, -0.0749,  0.1046, -0.1121, -0.0270, -0.0027, -0.0390,  0.0150,\n",
       "                       0.0064, -0.0643, -0.0502, -0.0374, -0.0213, -0.0568,  0.0006, -0.0716,\n",
       "                      -0.1154,  0.0666, -0.0747, -0.0218, -0.0362, -0.1300, -0.0216, -0.0485,\n",
       "                      -0.0568, -0.0541, -0.0505, -0.0472, -0.0501, -0.0454, -0.0314,  0.0522,\n",
       "                      -0.0235, -0.0504, -0.0047, -0.0991,  0.0316, -0.0036, -0.0510, -0.0962,\n",
       "                      -0.0131, -0.0305, -0.0919, -0.0659, -0.0450, -0.0410, -0.0505, -0.0826,\n",
       "                      -0.1461,  0.0019, -0.0511, -0.0728,  0.0160, -0.0414, -0.0878, -0.0401,\n",
       "                       0.0559, -0.0315, -0.0465, -0.0312, -0.0633, -0.0910,  0.1209, -0.0187,\n",
       "                      -0.0970, -0.0748,  0.1107,  0.0057, -0.0588, -0.0795,  0.0432, -0.1124,\n",
       "                      -0.0431,  0.0480, -0.0427, -0.0380, -0.0436, -0.0140, -0.0393, -0.0826,\n",
       "                      -0.0277, -0.0841, -0.0309,  0.0104, -0.0791, -0.0060, -0.0756,  0.0104,\n",
       "                      -0.0217, -0.0587, -0.0372, -0.0574, -0.0859,  0.0213,  0.0018,  0.0935,\n",
       "                      -0.0493, -0.0231, -0.0384, -0.0962, -0.0163, -0.0264,  0.0782,  0.0102,\n",
       "                       0.0238, -0.0359,  0.0040, -0.0154, -0.0515, -0.0879, -0.0749, -0.0626,\n",
       "                      -0.0388, -0.0608, -0.0328, -0.0659,  0.0382,  0.0010, -0.0752, -0.0836,\n",
       "                      -0.0924, -0.0843, -0.0765, -0.0593, -0.0024, -0.0544, -0.1072, -0.0151,\n",
       "                      -0.0613, -0.0219, -0.0750,  0.0050, -0.0316,  0.0070, -0.0114, -0.0415,\n",
       "                      -0.0637, -0.0304,  0.0242, -0.0108, -0.0400,  0.0324, -0.0594, -0.0266,\n",
       "                      -0.0070, -0.0469, -0.1000, -0.0659, -0.1200, -0.0511, -0.0099,  0.0082,\n",
       "                      -0.0699, -0.0917, -0.0401, -0.0468, -0.0951, -0.0437,  0.0018, -0.0283,\n",
       "                      -0.0029,  0.0672, -0.0353, -0.0389, -0.0284, -0.0629, -0.0628, -0.0878,\n",
       "                      -0.0078, -0.0523, -0.0910,  0.0275,  0.1657,  0.0085, -0.0364, -0.0468,\n",
       "                      -0.0582, -0.0860, -0.0942, -0.0332, -0.0671,  0.0310, -0.0863, -0.0621,\n",
       "                       0.0324, -0.0588, -0.0704, -0.0487, -0.0705, -0.0094, -0.0171,  0.0105],\n",
       "                     device='cuda:0')),\n",
       "             ('fc4.weight',\n",
       "              tensor([[ 8.4198e-05, -6.7006e-03, -1.6568e-02,  ..., -3.4634e-02,\n",
       "                       -4.6457e-02, -6.0711e-02],\n",
       "                      [ 2.4899e-02,  2.5010e-02,  2.6698e-02,  ...,  1.2815e-02,\n",
       "                        2.7138e-02, -4.2056e-02],\n",
       "                      [-5.3780e-02,  5.3728e-02, -2.9372e-02,  ..., -6.9328e-02,\n",
       "                        3.2797e-02, -1.2365e-01],\n",
       "                      ...,\n",
       "                      [ 2.2733e-02, -3.0909e-02,  1.3182e-02,  ..., -4.2906e-02,\n",
       "                        9.6057e-03,  7.0471e-02],\n",
       "                      [ 3.6842e-03,  4.6750e-02,  4.7234e-02,  ..., -8.7646e-02,\n",
       "                        3.4059e-02, -6.5674e-02],\n",
       "                      [ 2.3437e-02,  1.8142e-02,  4.8025e-02,  ..., -9.6348e-03,\n",
       "                        3.4981e-02, -4.4469e-02]], device='cuda:0')),\n",
       "             ('fc4.bias',\n",
       "              tensor([ 0.0215,  0.0144, -0.1180,  0.0003, -0.0519,  0.1111, -0.0337, -0.0709,\n",
       "                      -0.0943,  0.1586,  0.0124, -0.0320, -0.0878,  0.0344, -0.0023, -0.0871,\n",
       "                      -0.0322,  0.1522,  0.1870, -0.0543, -0.0965, -0.0141, -0.0197, -0.0276,\n",
       "                      -0.0234, -0.1074, -0.0326,  0.1866,  0.0198,  0.0149, -0.0640,  0.0614,\n",
       "                      -0.0954,  0.0088,  0.0902,  0.0434, -0.1001,  0.0703, -0.0313, -0.0057,\n",
       "                      -0.0941, -0.0163, -0.0707, -0.0271, -0.0057, -0.0774, -0.0914,  0.0625,\n",
       "                      -0.0591, -0.0618, -0.0585,  0.1019, -0.1129, -0.0776,  0.0304, -0.0024,\n",
       "                      -0.0408, -0.1047,  0.1127, -0.0342,  0.1186, -0.0078, -0.0557,  0.0176,\n",
       "                      -0.0508, -0.0294,  0.1964, -0.0542, -0.0264,  0.0353,  0.0435, -0.0705,\n",
       "                       0.0163,  0.0025, -0.0513, -0.0505, -0.0442, -0.0275,  0.0318, -0.0721,\n",
       "                      -0.0281, -0.0489, -0.0639, -0.0198, -0.0153, -0.0718,  0.1218,  0.1790,\n",
       "                      -0.0680,  0.0406,  0.1323,  0.0659, -0.0926, -0.0604,  0.0206, -0.0458,\n",
       "                       0.0328, -0.0206, -0.0846, -0.0211, -0.0255, -0.0145, -0.0584, -0.0537,\n",
       "                      -0.0874, -0.0289, -0.0619, -0.0052,  0.0544, -0.0706, -0.0646, -0.0604,\n",
       "                      -0.0255, -0.0270,  0.0840,  0.0564, -0.0866, -0.0470,  0.0913,  0.0060,\n",
       "                       0.0166, -0.0821, -0.0037, -0.0040,  0.0028, -0.0251, -0.0112,  0.0185],\n",
       "                     device='cuda:0')),\n",
       "             ('fc_last.weight',\n",
       "              tensor([[-4.8769e-02,  7.4356e-03, -8.0691e-04,  7.4909e-03,  1.3442e-02,\n",
       "                       -1.3762e-01,  1.7253e-03,  2.0471e-02,  4.2415e-03,  1.3353e-01,\n",
       "                        1.6565e-03,  1.2716e-02,  3.4487e-03,  4.1742e-02,  3.7458e-03,\n",
       "                        1.1817e-05,  2.7177e-03,  8.8688e-02,  1.0751e-01, -4.5570e-03,\n",
       "                       -3.8547e-03, -1.3817e-02, -2.0312e-02, -4.2266e-04,  1.7155e-04,\n",
       "                        5.2314e-03, -4.1859e-02,  1.2307e-01,  2.7926e-02,  2.5867e-03,\n",
       "                        2.1470e-02,  8.1676e-03,  1.2649e-02,  8.6748e-03, -9.6958e-02,\n",
       "                       -9.2253e-02,  2.7314e-02, -1.0408e-01,  1.9318e-02, -3.4811e-02,\n",
       "                        1.4640e-02, -1.5387e-03,  3.8884e-03,  1.0835e-02,  1.5879e-03,\n",
       "                        1.3527e-02,  9.3962e-04, -1.1274e-01,  1.8645e-02, -7.4419e-02,\n",
       "                        4.1552e-03,  1.1498e-01,  9.0549e-03,  4.5759e-03, -1.3591e-01,\n",
       "                       -8.3160e-04, -1.8121e-03, -1.4182e-02,  5.1933e-02, -7.9410e-04,\n",
       "                        1.1480e-01, -1.4245e-03,  3.7992e-02,  1.3697e-02, -1.5982e-03,\n",
       "                        1.8010e-04,  9.3319e-02,  3.4318e-03,  4.1299e-03, -1.0703e-01,\n",
       "                       -2.0415e-04, -2.2608e-02,  4.6277e-03,  3.9597e-03,  3.5867e-03,\n",
       "                       -1.2070e-02,  4.3321e-03,  6.9446e-04, -1.2201e-01,  1.4220e-02,\n",
       "                       -2.1041e-02, -5.9497e-04, -9.3468e-04, -1.9244e-03,  4.3544e-02,\n",
       "                        6.9720e-03,  6.1739e-02,  1.0852e-01, -5.1221e-02,  2.6572e-02,\n",
       "                        8.1562e-02, -1.2630e-01, -2.8828e-02, -3.8787e-03,  1.2503e-02,\n",
       "                        5.4237e-04,  5.2053e-03, -1.2551e-01, -4.4702e-04, -9.5031e-04,\n",
       "                        1.7478e-02, -3.3558e-03, -3.2991e-04, -4.8749e-02, -2.1790e-02,\n",
       "                       -4.4552e-03,  1.6261e-02, -4.0882e-04,  7.3138e-02,  3.2626e-02,\n",
       "                       -1.1492e-04,  2.2897e-02,  1.0205e-03, -6.2410e-02, -9.5073e-02,\n",
       "                        9.2656e-02,  3.7845e-02, -1.2318e-02, -1.1697e-01, -4.1380e-03,\n",
       "                        1.7260e-02,  3.1685e-03, -2.4205e-03,  1.4831e-02,  3.3732e-04,\n",
       "                        1.4986e-02,  9.3286e-04, -4.6611e-03]], device='cuda:0')),\n",
       "             ('fc_last.bias', tensor([0.0646], device='cuda:0'))])"
      ]
     },
     "execution_count": 7,
     "metadata": {},
     "output_type": "execute_result"
    }
   ],
   "source": [
    "torch.load(best_optimizer)"
   ]
  },
  {
   "cell_type": "code",
   "execution_count": null,
   "metadata": {},
   "outputs": [],
   "source": [
    "optimizer = torch.optim.Adam(model.parameters(), lr=0.001)\n",
    "\n",
    "print(f'loading best optimizer {best_optimizer}')\n",
    "optimizer.load_state_dict(torch.load(best_optimizer))"
   ]
  },
  {
   "cell_type": "code",
   "execution_count": null,
   "metadata": {},
   "outputs": [],
   "source": []
  },
  {
   "cell_type": "code",
   "execution_count": 11,
   "metadata": {},
   "outputs": [
    {
     "name": "stdout",
     "output_type": "stream",
     "text": [
      "Torch 2.0.1 CUDA 11.8\n",
      "Model has 3.724033m parameters\n",
      "2023-10-30 15:25:44 Training ...\n",
      "Epoch 1 of 500\n"
     ]
    },
    {
     "name": "stderr",
     "output_type": "stream",
     "text": [
      "100%|███████████████████████████████████████████████████████████| 1333/1333 [00:14<00:00, 90.97it/s]\n",
      "100%|█████████████████████████████████████████████████████████████| 149/149 [00:01<00:00, 98.37it/s]\n"
     ]
    },
    {
     "name": "stdout",
     "output_type": "stream",
     "text": [
      "Train Loss: 0.6998, Train Acc: 0.5028\n",
      "Val Loss: 0.6937, Val Acc: 0.5250\n",
      "Validation loss decreased (inf --> 0.693733).  Saving model ...\n",
      "../az_model/model/best_model_epoch_1.pt\n",
      "../az_model/opt/best_optimizer_epoch_1.pt\n",
      "Epoch 2 of 500\n"
     ]
    },
    {
     "name": "stderr",
     "output_type": "stream",
     "text": [
      "100%|███████████████████████████████████████████████████████████| 1333/1333 [00:14<00:00, 93.41it/s]\n",
      "100%|████████████████████████████████████████████████████████████| 149/149 [00:01<00:00, 121.56it/s]\n"
     ]
    },
    {
     "name": "stdout",
     "output_type": "stream",
     "text": [
      "Train Loss: 0.6933, Train Acc: 0.5029\n",
      "Val Loss: 0.6864, Val Acc: 0.7771\n",
      "Validation loss decreased (0.693733 --> 0.686436).  Saving model ...\n",
      "../az_model/model/best_model_epoch_2.pt\n",
      "../az_model/opt/best_optimizer_epoch_2.pt\n",
      "Epoch 3 of 500\n"
     ]
    },
    {
     "name": "stderr",
     "output_type": "stream",
     "text": [
      "100%|███████████████████████████████████████████████████████████| 1333/1333 [00:14<00:00, 93.09it/s]\n",
      "100%|█████████████████████████████████████████████████████████████| 149/149 [00:01<00:00, 91.81it/s]\n"
     ]
    },
    {
     "name": "stdout",
     "output_type": "stream",
     "text": [
      "Train Loss: 0.6931, Train Acc: 0.5045\n",
      "Val Loss: 0.6858, Val Acc: 0.7895\n",
      "Validation loss decreased (0.686436 --> 0.685780).  Saving model ...\n",
      "../az_model/model/best_model_epoch_3.pt\n",
      "../az_model/opt/best_optimizer_epoch_3.pt\n",
      "Epoch 4 of 500\n"
     ]
    },
    {
     "name": "stderr",
     "output_type": "stream",
     "text": [
      "100%|███████████████████████████████████████████████████████████| 1333/1333 [00:13<00:00, 97.90it/s]\n",
      "100%|████████████████████████████████████████████████████████████| 149/149 [00:01<00:00, 107.14it/s]\n"
     ]
    },
    {
     "name": "stdout",
     "output_type": "stream",
     "text": [
      "Train Loss: 0.6931, Train Acc: 0.5044\n",
      "Val Loss: 0.6914, Val Acc: 0.6860\n",
      "EarlyStopping counter: 1 out of 5\n",
      "Epoch 5 of 500\n"
     ]
    },
    {
     "name": "stderr",
     "output_type": "stream",
     "text": [
      "100%|███████████████████████████████████████████████████████████| 1333/1333 [00:14<00:00, 89.05it/s]\n",
      "100%|████████████████████████████████████████████████████████████| 149/149 [00:01<00:00, 117.58it/s]\n"
     ]
    },
    {
     "name": "stdout",
     "output_type": "stream",
     "text": [
      "Train Loss: 0.6929, Train Acc: 0.5071\n",
      "Val Loss: 0.6841, Val Acc: 0.7831\n",
      "Validation loss decreased (0.685780 --> 0.684097).  Saving model ...\n",
      "../az_model/model/best_model_epoch_5.pt\n",
      "../az_model/opt/best_optimizer_epoch_5.pt\n",
      "Epoch 6 of 500\n"
     ]
    },
    {
     "name": "stderr",
     "output_type": "stream",
     "text": [
      "100%|███████████████████████████████████████████████████████████| 1333/1333 [00:15<00:00, 88.45it/s]\n",
      "100%|████████████████████████████████████████████████████████████| 149/149 [00:01<00:00, 102.01it/s]\n"
     ]
    },
    {
     "name": "stdout",
     "output_type": "stream",
     "text": [
      "Train Loss: 0.6929, Train Acc: 0.5079\n",
      "Val Loss: 0.6840, Val Acc: 0.7873\n",
      "Validation loss decreased (0.684097 --> 0.683965).  Saving model ...\n",
      "../az_model/model/best_model_epoch_6.pt\n",
      "../az_model/opt/best_optimizer_epoch_6.pt\n",
      "Epoch 7 of 500\n"
     ]
    },
    {
     "name": "stderr",
     "output_type": "stream",
     "text": [
      "100%|███████████████████████████████████████████████████████████| 1333/1333 [00:14<00:00, 91.54it/s]\n",
      "100%|█████████████████████████████████████████████████████████████| 149/149 [00:01<00:00, 92.77it/s]\n"
     ]
    },
    {
     "name": "stdout",
     "output_type": "stream",
     "text": [
      "Train Loss: 0.6927, Train Acc: 0.5095\n",
      "Val Loss: 0.6834, Val Acc: 0.7893\n",
      "Validation loss decreased (0.683965 --> 0.683361).  Saving model ...\n",
      "../az_model/model/best_model_epoch_7.pt\n",
      "../az_model/opt/best_optimizer_epoch_7.pt\n",
      "Epoch 8 of 500\n"
     ]
    },
    {
     "name": "stderr",
     "output_type": "stream",
     "text": [
      "100%|███████████████████████████████████████████████████████████| 1333/1333 [00:15<00:00, 87.01it/s]\n",
      "100%|████████████████████████████████████████████████████████████| 149/149 [00:01<00:00, 105.07it/s]\n"
     ]
    },
    {
     "name": "stdout",
     "output_type": "stream",
     "text": [
      "Train Loss: 0.6926, Train Acc: 0.5102\n",
      "Val Loss: 0.6846, Val Acc: 0.7960\n",
      "EarlyStopping counter: 1 out of 5\n",
      "Epoch 9 of 500\n"
     ]
    },
    {
     "name": "stderr",
     "output_type": "stream",
     "text": [
      "100%|███████████████████████████████████████████████████████████| 1333/1333 [00:15<00:00, 87.69it/s]\n",
      "100%|████████████████████████████████████████████████████████████| 149/149 [00:01<00:00, 107.02it/s]\n"
     ]
    },
    {
     "name": "stdout",
     "output_type": "stream",
     "text": [
      "Train Loss: 0.6925, Train Acc: 0.5110\n",
      "Val Loss: 0.6811, Val Acc: 0.8059\n",
      "Validation loss decreased (0.683361 --> 0.681071).  Saving model ...\n",
      "../az_model/model/best_model_epoch_9.pt\n",
      "../az_model/opt/best_optimizer_epoch_9.pt\n",
      "Epoch 10 of 500\n"
     ]
    },
    {
     "name": "stderr",
     "output_type": "stream",
     "text": [
      "100%|███████████████████████████████████████████████████████████| 1333/1333 [00:14<00:00, 91.02it/s]\n",
      "100%|█████████████████████████████████████████████████████████████| 149/149 [00:01<00:00, 97.64it/s]\n"
     ]
    },
    {
     "name": "stdout",
     "output_type": "stream",
     "text": [
      "Train Loss: 0.6924, Train Acc: 0.5105\n",
      "Val Loss: 0.6791, Val Acc: 0.8099\n",
      "Validation loss decreased (0.681071 --> 0.679131).  Saving model ...\n",
      "../az_model/model/best_model_epoch_10.pt\n",
      "../az_model/opt/best_optimizer_epoch_10.pt\n",
      "Epoch 11 of 500\n"
     ]
    },
    {
     "name": "stderr",
     "output_type": "stream",
     "text": [
      "100%|███████████████████████████████████████████████████████████| 1333/1333 [00:15<00:00, 84.60it/s]\n",
      "100%|████████████████████████████████████████████████████████████| 149/149 [00:01<00:00, 117.70it/s]\n"
     ]
    },
    {
     "name": "stdout",
     "output_type": "stream",
     "text": [
      "Train Loss: 0.6922, Train Acc: 0.5126\n",
      "Val Loss: 0.6783, Val Acc: 0.8061\n",
      "Validation loss decreased (0.679131 --> 0.678349).  Saving model ...\n",
      "../az_model/model/best_model_epoch_11.pt\n",
      "../az_model/opt/best_optimizer_epoch_11.pt\n",
      "Epoch 12 of 500\n"
     ]
    },
    {
     "name": "stderr",
     "output_type": "stream",
     "text": [
      "100%|███████████████████████████████████████████████████████████| 1333/1333 [00:14<00:00, 90.85it/s]\n",
      "100%|█████████████████████████████████████████████████████████████| 149/149 [00:01<00:00, 87.77it/s]\n"
     ]
    },
    {
     "name": "stdout",
     "output_type": "stream",
     "text": [
      "Train Loss: 0.6922, Train Acc: 0.5130\n",
      "Val Loss: 0.6805, Val Acc: 0.7994\n",
      "EarlyStopping counter: 1 out of 5\n",
      "Epoch 13 of 500\n"
     ]
    },
    {
     "name": "stderr",
     "output_type": "stream",
     "text": [
      "100%|███████████████████████████████████████████████████████████| 1333/1333 [00:14<00:00, 93.73it/s]\n",
      "100%|████████████████████████████████████████████████████████████| 149/149 [00:01<00:00, 106.71it/s]\n"
     ]
    },
    {
     "name": "stdout",
     "output_type": "stream",
     "text": [
      "Train Loss: 0.6921, Train Acc: 0.5128\n",
      "Val Loss: 0.6869, Val Acc: 0.7855\n",
      "EarlyStopping counter: 2 out of 5\n",
      "Epoch 14 of 500\n"
     ]
    },
    {
     "name": "stderr",
     "output_type": "stream",
     "text": [
      "100%|███████████████████████████████████████████████████████████| 1333/1333 [00:14<00:00, 89.96it/s]\n",
      "100%|█████████████████████████████████████████████████████████████| 149/149 [00:01<00:00, 99.72it/s]\n"
     ]
    },
    {
     "name": "stdout",
     "output_type": "stream",
     "text": [
      "Train Loss: 0.6920, Train Acc: 0.5134\n",
      "Val Loss: 0.6717, Val Acc: 0.8190\n",
      "Validation loss decreased (0.678349 --> 0.671723).  Saving model ...\n",
      "../az_model/model/best_model_epoch_14.pt\n",
      "../az_model/opt/best_optimizer_epoch_14.pt\n",
      "Epoch 15 of 500\n"
     ]
    },
    {
     "name": "stderr",
     "output_type": "stream",
     "text": [
      "100%|███████████████████████████████████████████████████████████| 1333/1333 [00:13<00:00, 97.83it/s]\n",
      "100%|████████████████████████████████████████████████████████████| 149/149 [00:01<00:00, 120.37it/s]\n"
     ]
    },
    {
     "name": "stdout",
     "output_type": "stream",
     "text": [
      "Train Loss: 0.6918, Train Acc: 0.5156\n",
      "Val Loss: 0.6815, Val Acc: 0.7996\n",
      "EarlyStopping counter: 1 out of 5\n",
      "Epoch 16 of 500\n"
     ]
    },
    {
     "name": "stderr",
     "output_type": "stream",
     "text": [
      "100%|███████████████████████████████████████████████████████████| 1333/1333 [00:16<00:00, 78.67it/s]\n",
      "100%|████████████████████████████████████████████████████████████| 149/149 [00:01<00:00, 116.70it/s]\n"
     ]
    },
    {
     "name": "stdout",
     "output_type": "stream",
     "text": [
      "Train Loss: 0.6917, Train Acc: 0.5149\n",
      "Val Loss: 0.6757, Val Acc: 0.8093\n",
      "EarlyStopping counter: 2 out of 5\n",
      "Epoch 17 of 500\n"
     ]
    },
    {
     "name": "stderr",
     "output_type": "stream",
     "text": [
      "100%|███████████████████████████████████████████████████████████| 1333/1333 [00:13<00:00, 97.96it/s]\n",
      "100%|████████████████████████████████████████████████████████████| 149/149 [00:01<00:00, 120.65it/s]\n"
     ]
    },
    {
     "name": "stdout",
     "output_type": "stream",
     "text": [
      "Train Loss: 0.6916, Train Acc: 0.5149\n",
      "Val Loss: 0.6782, Val Acc: 0.8040\n",
      "EarlyStopping counter: 3 out of 5\n",
      "Epoch 18 of 500\n"
     ]
    },
    {
     "name": "stderr",
     "output_type": "stream",
     "text": [
      "100%|███████████████████████████████████████████████████████████| 1333/1333 [00:13<00:00, 96.97it/s]\n",
      "100%|████████████████████████████████████████████████████████████| 149/149 [00:01<00:00, 101.05it/s]\n"
     ]
    },
    {
     "name": "stdout",
     "output_type": "stream",
     "text": [
      "Train Loss: 0.6917, Train Acc: 0.5152\n",
      "Val Loss: 0.6754, Val Acc: 0.8106\n",
      "EarlyStopping counter: 4 out of 5\n",
      "Epoch 19 of 500\n"
     ]
    },
    {
     "name": "stderr",
     "output_type": "stream",
     "text": [
      "100%|███████████████████████████████████████████████████████████| 1333/1333 [00:14<00:00, 91.45it/s]\n",
      "100%|████████████████████████████████████████████████████████████| 149/149 [00:01<00:00, 115.83it/s]\n"
     ]
    },
    {
     "name": "stdout",
     "output_type": "stream",
     "text": [
      "Train Loss: 0.6916, Train Acc: 0.5157\n",
      "Val Loss: 0.6780, Val Acc: 0.7994\n",
      "EarlyStopping counter: 5 out of 5\n",
      "Early stopping\n",
      "Training time: 5.103 minutes\n",
      "loading best model ../az_model/model/best_model_epoch_14.pt\n",
      "loading best optimizer ../az_model/opt/best_optimizer_epoch_14.pt\n"
     ]
    },
    {
     "name": "stderr",
     "output_type": "stream",
     "text": [
      "100%|█████████████████████████████████████████████████████████████| 149/149 [00:01<00:00, 93.77it/s]\n"
     ]
    },
    {
     "name": "stdout",
     "output_type": "stream",
     "text": [
      "test accuracy 0.5177572707601842 and ROC-AUC 0.5188043549039545\n",
      "Elapsed time 5.203850718339284 mins.\n"
     ]
    }
   ],
   "source": [
    "import numpy as np\n",
    "import os\n",
    "import pandas as pd\n",
    "import matplotlib.pyplot as plt\n",
    "import time, random\n",
    "from tqdm import tqdm\n",
    "from sklearn.metrics import classification_report\n",
    "from sklearn.preprocessing import StandardScaler, QuantileTransformer\n",
    "import datetime\n",
    "import argparse\n",
    "import torch\n",
    "import torchvision\n",
    "import torch.nn as nn\n",
    "import torch.optim as optim\n",
    "import torch.nn.functional as F\n",
    "from torchvision import transforms, utils, datasets\n",
    "from torch.utils.data import Dataset, DataLoader\n",
    "\n",
    "from ember_utils import *\n",
    "from ember_model import *\n",
    "from ember_pjr_utils import *\n",
    "\n",
    "\n",
    "start_time = time.time()\n",
    "use_cuda = True\n",
    "print('Torch', torch.__version__, 'CUDA', torch.version.cuda)\n",
    "use_cuda = use_cuda and torch.cuda.is_available()\n",
    "device = torch.device(\"cuda\" if use_cuda else \"cpu\")\n",
    "torch.manual_seed(exp)\n",
    "\n",
    "model = Ember_MLP_Net(input_features)\n",
    "#optimizer = optim.Adam(model.parameters(), lr=learning_rate)\n",
    "optimizer = torch.optim.SGD(model.parameters(), lr=0.001, momentum=0.9, weight_decay=0.000001)\n",
    "\n",
    "if torch.cuda.device_count() > 1:\n",
    "    print(\"Let's use\", torch.cuda.device_count(), \"GPUs!\")\n",
    "    model = nn.DataParallel(model)\n",
    "\n",
    "model = model.to(device)\n",
    "print(f'Model has {count_parameters(model)/1000000}m parameters')    \n",
    "criterion = nn.BCELoss()    \n",
    "    \n",
    "\n",
    "model_save_dir = '../az_model/model/'\n",
    "create_parent_folder(model_save_dir)\n",
    "\n",
    "opt_save_path = '../az_model/opt/'\n",
    "create_parent_folder(opt_save_path)\n",
    "\n",
    "results_save_dir =  '../az_model/res/' \n",
    "create_parent_folder(results_save_dir)\n",
    "\n",
    "# X_train = standard_scaler.transform(X_train)\n",
    "# X_test = standard_scaler.transform(X_test)\n",
    "\n",
    "\n",
    "X_train, Y_train = np.array(X_train, np.float32), np.array(Y_train, np.int32)\n",
    "X_test, Y_test = np.array(X_test, np.float32), np.array(Y_test, np.int32)        \n",
    "\n",
    "print(f'{datetime.datetime.now().strftime(\"%Y-%m-%d %H:%M:%S\")} Training ...')\n",
    "\n",
    "\n",
    "\n",
    "task_training_time, epoch_ran, training_loss, validation_loss  = training_early_stopping(\\\n",
    "                     model, model_save_dir, opt_save_path, X_train, Y_train,\\\n",
    "                     X_test, Y_test, patience, batch_size, device, optimizer, num_epoch,\\\n",
    "                     criterion, replay_type, current_task, exp, earlystopping=True)\n",
    "        \n",
    "\n",
    "#model = Ember_MLP_Net()\n",
    "#model = model.to(device)\n",
    "#load the best model for this task\n",
    "best_model_path = model_save_dir + os.listdir(model_save_dir)[0]\n",
    "print(f'loading best model {best_model_path}')\n",
    "model.load_state_dict(torch.load(best_model_path))\n",
    "\n",
    "\n",
    "#optimizer = torch.optim.SGD(model.parameters(), lr=0.001, momentum=0.9, weight_decay=0.000001)\n",
    "best_optimizer = opt_save_path + os.listdir(opt_save_path)[0]\n",
    "print(f'loading best optimizer {best_optimizer}')\n",
    "optimizer.load_state_dict(torch.load(best_optimizer))\n",
    "\n",
    "acc, precision, recall, f1score = testing_aucscore(model, X_test, Y_test, batch_size, device)\n",
    "\n",
    "\n",
    "\n",
    "end_time = time.time()\n",
    "print(f'Elapsed time {(end_time - start_time)/60} mins.')\n",
    "\n",
    "del model_save_dir\n",
    "del opt_save_path\n",
    "del results_save_dir\n",
    "\n"
   ]
  }
 ],
 "metadata": {
  "kernelspec": {
   "display_name": "PyTorch2",
   "language": "python",
   "name": "pytorch2"
  },
  "language_info": {
   "codemirror_mode": {
    "name": "ipython",
    "version": 3
   },
   "file_extension": ".py",
   "mimetype": "text/x-python",
   "name": "python",
   "nbconvert_exporter": "python",
   "pygments_lexer": "ipython3",
   "version": "3.9.17"
  }
 },
 "nbformat": 4,
 "nbformat_minor": 4
}
