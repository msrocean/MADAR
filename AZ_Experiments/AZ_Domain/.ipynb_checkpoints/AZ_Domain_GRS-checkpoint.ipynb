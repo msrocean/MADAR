{
 "cells": [
  {
   "cell_type": "code",
   "execution_count": 38,
   "metadata": {},
   "outputs": [],
   "source": [
    "import pandas as pd\n",
    "import os\n",
    "import numpy as np\n",
    "from sklearn.feature_extraction.text import CountVectorizer as CountV\n",
    "from sklearn.feature_selection import VarianceThreshold\n",
    "import scipy\n",
    "from scipy.sparse import lil_matrix\n",
    "\n",
    "import numpy as np\n",
    "import os\n",
    "# import pandas as pd\n",
    "import matplotlib.pyplot as plt\n",
    "import time, random\n",
    "from tqdm import tqdm\n",
    "from sklearn.metrics import classification_report\n",
    "from sklearn.preprocessing import StandardScaler, QuantileTransformer\n",
    "from sklearn.model_selection import train_test_split\n",
    "import datetime\n",
    "import argparse\n",
    "import torch\n",
    "import torchvision\n",
    "import torch.nn as nn\n",
    "import torch.optim as optim\n",
    "import torch.nn.functional as F\n",
    "from torchvision import transforms, utils, datasets\n",
    "from torch.utils.data import Dataset, DataLoader\n",
    "from torch.utils.data import TensorDataset\n",
    "from ember_utils import *\n",
    "from ember_model import *\n",
    "from ember_pjr_utils import *\n",
    "\n"
   ]
  },
  {
   "cell_type": "code",
   "execution_count": 16,
   "metadata": {
    "scrolled": true
   },
   "outputs": [],
   "source": [
    "raw_path = '/home/mr6564/continual_research/AZ_Data/Domain/'\n",
    "years = ['2008', '2009', '2010', '2011', '2012', '2013', '2014', '2015', '2016']\n",
    "\n",
    "all_X_tr, all_Y_tr, all_Y_tr_family = [], [], []\n",
    "all_X_te, all_Y_te, all_Y_te_family = [], [], []\n",
    "\n",
    "\n",
    "for year in years:\n",
    "    tr_file = raw_path + year + '_Domain_AZ_Train.npz'\n",
    "    te_file = raw_path + year + '_Domain_AZ_Test.npz'\n",
    "    \n",
    "    tr_year = np.load(tr_file, allow_pickle=True)\n",
    "    te_year = np.load(te_file, allow_pickle=True)\n",
    "    \n",
    "    X_tr_year, Y_tr_year, Y_tr_family_year = tr_year['X_train'], tr_year['Y_train'], tr_year['Y_tr_family']\n",
    "    X_te_year, Y_te_year, Y_te_family_year = te_year['X_test'], te_year['Y_test'], te_year['Y_te_family']\n",
    "    \n",
    "    \n",
    "    all_X_tr, all_Y_tr, all_Y_tr_family = np.concatenate((all_X_tr, X_tr_year)),\\\n",
    "                                            np.concatenate((all_Y_tr, Y_tr_year)),\\\n",
    "                                            np.concatenate((all_Y_tr_family, Y_tr_family_year))\n",
    "    \n",
    "    all_X_te, all_Y_te, all_Y_te_family = np.concatenate((all_X_te, X_te_year)),\\\n",
    "                                            np.concatenate((all_Y_te, Y_te_year)),\\\n",
    "                                            np.concatenate((all_Y_te_family, Y_te_family_year))\n",
    "\n",
    "#print(len(np.where(Y_tr_family_year == 'goodware')[0]), len(np.where(Y_tr_year == 0)[0]))"
   ]
  },
  {
   "cell_type": "code",
   "execution_count": 18,
   "metadata": {},
   "outputs": [
    {
     "name": "stdout",
     "output_type": "stream",
     "text": [
      "Vectorized Data shape: (682598, 3858791)\n",
      "(75848, 3858791)\n"
     ]
    }
   ],
   "source": [
    "\n",
    "def build_vocabulary(data):\n",
    "    \"\"\"Build a vocabulary from a list of lists of strings.\"\"\"\n",
    "    vocab_set = set(word for sample in data for word in sample)\n",
    "    return sorted(list(vocab_set))  # Sort for consistency\n",
    "\n",
    "def vectorize_samples(data, vocabulary):\n",
    "    \"\"\"Vectorize data based on the given vocabulary.\"\"\"\n",
    "    vocab_index = {word: idx for idx, word in enumerate(vocabulary)}\n",
    "    vectorized_data = np.zeros((len(data), len(vocabulary)), dtype=int)\n",
    "\n",
    "    for i, sample in enumerate(data):\n",
    "        for word in sample:\n",
    "            if word in vocab_index:\n",
    "                vectorized_data[i, vocab_index[word]] = 1\n",
    "\n",
    "    return vectorized_data\n",
    "\n",
    "\n",
    "\n",
    "\n",
    "def transform_with_training_vocab(training_vocab_list, data_samples):\n",
    "    \"\"\"\n",
    "    Transform the data samples using the vocabulary list from the training data.\n",
    "    :param training_vocab_list: List of words from the training data\n",
    "    :param data_samples: List of data samples (each sample is a list of words)\n",
    "    :return: Vectorized data as a NumPy array\n",
    "    \"\"\"\n",
    "    # Convert the vocabulary list to a dictionary {word: index}\n",
    "    training_vocab_dict = {word: idx for idx, word in enumerate(training_vocab_list)}\n",
    "\n",
    "    # Create a zero matrix with dimensions: number of samples x size of vocabulary\n",
    "    vectorized = np.zeros((len(data_samples), len(training_vocab_list)), dtype=int)\n",
    "\n",
    "    for i, sample in enumerate(data_samples):\n",
    "        for word in sample:\n",
    "            if word in training_vocab_dict:\n",
    "                vectorized[i, training_vocab_dict[word]] = 1\n",
    "\n",
    "    return vectorized\n",
    "\n",
    "\n",
    "\n",
    "def vectorize_samples_sparse(data, vocabulary):\n",
    "    vocab_index = {word: idx for idx, word in enumerate(vocabulary)}\n",
    "    vectorized_data = lil_matrix((len(data), len(vocabulary)), dtype=int)\n",
    "    for i, sample in enumerate(data):\n",
    "        for word in sample:\n",
    "            if word in vocab_index:\n",
    "                vectorized_data[i, vocab_index[word]] += 1\n",
    "    return vectorized_data.tocsr()  # Convert to CSR format for efficient arithmetic and matrix vector operations\n",
    "\n",
    "\n",
    "\n",
    "def transform_with_training_vocab_sparse(training_vocab_list, data_samples):\n",
    "    training_vocab_dict = {word: idx for idx, word in enumerate(training_vocab_list)}\n",
    "    # Create a sparse matrix instead of a dense numpy array\n",
    "    vectorized = lil_matrix((len(data_samples), len(training_vocab_list)), dtype=int)\n",
    "\n",
    "    for i, sample in enumerate(data_samples):\n",
    "        for word in sample:\n",
    "            if word in training_vocab_dict:\n",
    "                vectorized[i, training_vocab_dict[word]] += 1\n",
    "    return vectorized.tocsr()\n",
    "\n",
    "\n",
    "\n",
    "\n",
    "\n",
    "# all_X_tr, all_Y_tr, all_Y_tr_family\n",
    "# all_X_te, all_Y_te, all_Y_te_family\n",
    "\n",
    "\n",
    "data = all_X_tr\n",
    "vocabulary = build_vocabulary(data)\n",
    "vectorized_data = vectorize_samples_sparse(data, vocabulary)\n",
    "\n",
    "print(\"Vectorized Data shape:\", vectorized_data.shape)\n",
    "\n",
    "vectorized_test_data = transform_with_training_vocab_sparse(vocabulary, all_X_te)\n",
    "print(vectorized_test_data.shape)"
   ]
  },
  {
   "cell_type": "code",
   "execution_count": 36,
   "metadata": {},
   "outputs": [
    {
     "data": {
      "text/plain": [
       "scipy.sparse._csr.csr_matrix"
      ]
     },
     "execution_count": 36,
     "metadata": {},
     "output_type": "execute_result"
    }
   ],
   "source": [
    "type(vectorized_data)"
   ]
  },
  {
   "cell_type": "code",
   "execution_count": 37,
   "metadata": {},
   "outputs": [],
   "source": [
    "\n"
   ]
  },
  {
   "cell_type": "code",
   "execution_count": 27,
   "metadata": {},
   "outputs": [
    {
     "name": "stdout",
     "output_type": "stream",
     "text": [
      "after variance thresholding\n",
      "(682598, 1789) (75848, 1789)\n",
      "(682598, 1789) (75848, 1789) (682598,) (75848,)\n"
     ]
    }
   ],
   "source": [
    "selector = VarianceThreshold(threshold=0.001)\n",
    "\n",
    "selector.fit(vectorized_data)\n",
    "\n",
    "X_train_selected = selector.transform(vectorized_data)\n",
    "X_test_selected = selector.transform(vectorized_test_data)\n",
    "\n",
    "X_train, Y_train = X_train_selected, all_Y_tr\n",
    "X_test, Y_test = X_test_selected, all_Y_te\n",
    "\n",
    "\n",
    "print(f'after variance thresholding')\n",
    "print(X_train_selected.shape, X_test_selected.shape)\n",
    "\n",
    "X_train = X_train.toarray()\n",
    "X_test = X_test.toarray()\n",
    "\n",
    "print(X_train.shape, X_test.shape, Y_train.shape, Y_test.shape)"
   ]
  },
  {
   "cell_type": "code",
   "execution_count": 33,
   "metadata": {},
   "outputs": [
    {
     "name": "stdout",
     "output_type": "stream",
     "text": [
      "Torch 2.0.1 CUDA 11.8\n",
      "Model has 2.525953m parameters\n",
      "X_train (682598, 1789) Y_train (682598,)\n",
      "X_test (75848, 1789) Y_test (75848,)\n",
      "Epoch 1 of 50\n"
     ]
    },
    {
     "name": "stderr",
     "output_type": "stream",
     "text": [
      "100%|███████████████████████████████████████████████████████████| 1333/1333 [00:14<00:00, 89.15it/s]\n",
      "100%|████████████████████████████████████████████████████████████| 149/149 [00:01<00:00, 119.75it/s]\n"
     ]
    },
    {
     "name": "stdout",
     "output_type": "stream",
     "text": [
      "Train Loss: 0.1434, Train Acc: 0.9494\n",
      "Val Loss: 0.1040, Val Acc: 0.9614\n",
      "Validation loss decreased (inf --> 0.103981).  Saving model ...\n",
      "../az_model/model/best_model_epoch_1.pt\n",
      "../az_model/opt/best_optimizer_epoch_1.pt\n",
      "Epoch 2 of 50\n"
     ]
    },
    {
     "name": "stderr",
     "output_type": "stream",
     "text": [
      "100%|███████████████████████████████████████████████████████████| 1333/1333 [00:13<00:00, 98.81it/s]\n",
      "100%|████████████████████████████████████████████████████████████| 149/149 [00:01<00:00, 122.07it/s]\n"
     ]
    },
    {
     "name": "stdout",
     "output_type": "stream",
     "text": [
      "Train Loss: 0.1064, Train Acc: 0.9639\n",
      "Val Loss: 0.0881, Val Acc: 0.9686\n",
      "Validation loss decreased (0.103981 --> 0.088149).  Saving model ...\n",
      "../az_model/model/best_model_epoch_2.pt\n",
      "../az_model/opt/best_optimizer_epoch_2.pt\n",
      "Epoch 3 of 50\n"
     ]
    },
    {
     "name": "stderr",
     "output_type": "stream",
     "text": [
      "100%|███████████████████████████████████████████████████████████| 1333/1333 [00:15<00:00, 86.14it/s]\n",
      "100%|████████████████████████████████████████████████████████████| 149/149 [00:01<00:00, 112.70it/s]\n"
     ]
    },
    {
     "name": "stdout",
     "output_type": "stream",
     "text": [
      "Train Loss: 0.0939, Train Acc: 0.9686\n",
      "Val Loss: 0.0835, Val Acc: 0.9713\n",
      "Validation loss decreased (0.088149 --> 0.083522).  Saving model ...\n",
      "../az_model/model/best_model_epoch_3.pt\n",
      "../az_model/opt/best_optimizer_epoch_3.pt\n",
      "Epoch 4 of 50\n"
     ]
    },
    {
     "name": "stderr",
     "output_type": "stream",
     "text": [
      "100%|███████████████████████████████████████████████████████████| 1333/1333 [00:14<00:00, 94.04it/s]\n",
      "100%|████████████████████████████████████████████████████████████| 149/149 [00:01<00:00, 129.32it/s]\n"
     ]
    },
    {
     "name": "stdout",
     "output_type": "stream",
     "text": [
      "Train Loss: 0.0849, Train Acc: 0.9718\n",
      "Val Loss: 0.0842, Val Acc: 0.9709\n",
      "EarlyStopping counter: 1 out of 5\n",
      "Epoch 5 of 50\n"
     ]
    },
    {
     "name": "stderr",
     "output_type": "stream",
     "text": [
      "100%|██████████████████████████████████████████████████████████| 1333/1333 [00:12<00:00, 106.83it/s]\n",
      "100%|████████████████████████████████████████████████████████████| 149/149 [00:01<00:00, 140.15it/s]\n"
     ]
    },
    {
     "name": "stdout",
     "output_type": "stream",
     "text": [
      "Train Loss: 0.0770, Train Acc: 0.9746\n",
      "Val Loss: 0.0844, Val Acc: 0.9693\n",
      "EarlyStopping counter: 2 out of 5\n",
      "Epoch 6 of 50\n"
     ]
    },
    {
     "name": "stderr",
     "output_type": "stream",
     "text": [
      "100%|██████████████████████████████████████████████████████████| 1333/1333 [00:11<00:00, 112.81it/s]\n",
      "100%|████████████████████████████████████████████████████████████| 149/149 [00:01<00:00, 137.75it/s]\n"
     ]
    },
    {
     "name": "stdout",
     "output_type": "stream",
     "text": [
      "Train Loss: 0.0736, Train Acc: 0.9758\n",
      "Val Loss: 0.0877, Val Acc: 0.9692\n",
      "EarlyStopping counter: 3 out of 5\n",
      "Epoch 7 of 50\n"
     ]
    },
    {
     "name": "stderr",
     "output_type": "stream",
     "text": [
      "100%|███████████████████████████████████████████████████████████| 1333/1333 [00:13<00:00, 97.73it/s]\n",
      "100%|████████████████████████████████████████████████████████████| 149/149 [00:01<00:00, 104.57it/s]\n"
     ]
    },
    {
     "name": "stdout",
     "output_type": "stream",
     "text": [
      "Train Loss: 0.0687, Train Acc: 0.9775\n",
      "Val Loss: 0.0757, Val Acc: 0.9744\n",
      "Validation loss decreased (0.083522 --> 0.075723).  Saving model ...\n",
      "../az_model/model/best_model_epoch_7.pt\n",
      "../az_model/opt/best_optimizer_epoch_7.pt\n",
      "Epoch 8 of 50\n"
     ]
    },
    {
     "name": "stderr",
     "output_type": "stream",
     "text": [
      "100%|███████████████████████████████████████████████████████████| 1333/1333 [00:15<00:00, 85.13it/s]\n",
      "100%|█████████████████████████████████████████████████████████████| 149/149 [00:03<00:00, 38.23it/s]\n"
     ]
    },
    {
     "name": "stdout",
     "output_type": "stream",
     "text": [
      "Train Loss: 0.0659, Train Acc: 0.9785\n",
      "Val Loss: 0.0855, Val Acc: 0.9726\n",
      "EarlyStopping counter: 1 out of 5\n",
      "Epoch 9 of 50\n"
     ]
    },
    {
     "name": "stderr",
     "output_type": "stream",
     "text": [
      "100%|██████████████████████████████████████████████████████████| 1333/1333 [00:11<00:00, 120.23it/s]\n",
      "100%|████████████████████████████████████████████████████████████| 149/149 [00:01<00:00, 130.75it/s]\n"
     ]
    },
    {
     "name": "stdout",
     "output_type": "stream",
     "text": [
      "Train Loss: 0.0632, Train Acc: 0.9796\n",
      "Val Loss: 0.0849, Val Acc: 0.9733\n",
      "EarlyStopping counter: 2 out of 5\n",
      "Epoch 10 of 50\n"
     ]
    },
    {
     "name": "stderr",
     "output_type": "stream",
     "text": [
      "100%|███████████████████████████████████████████████████████████| 1333/1333 [00:15<00:00, 84.44it/s]\n",
      "100%|████████████████████████████████████████████████████████████| 149/149 [00:01<00:00, 132.06it/s]\n"
     ]
    },
    {
     "name": "stdout",
     "output_type": "stream",
     "text": [
      "Train Loss: 0.0617, Train Acc: 0.9801\n",
      "Val Loss: 0.0787, Val Acc: 0.9733\n",
      "EarlyStopping counter: 3 out of 5\n",
      "Epoch 11 of 50\n"
     ]
    },
    {
     "name": "stderr",
     "output_type": "stream",
     "text": [
      "100%|███████████████████████████████████████████████████████████| 1333/1333 [00:14<00:00, 95.12it/s]\n",
      "100%|████████████████████████████████████████████████████████████| 149/149 [00:01<00:00, 130.60it/s]\n"
     ]
    },
    {
     "name": "stdout",
     "output_type": "stream",
     "text": [
      "Train Loss: 0.0590, Train Acc: 0.9809\n",
      "Val Loss: 0.0838, Val Acc: 0.9746\n",
      "EarlyStopping counter: 4 out of 5\n",
      "Epoch 12 of 50\n"
     ]
    },
    {
     "name": "stderr",
     "output_type": "stream",
     "text": [
      "100%|██████████████████████████████████████████████████████████| 1333/1333 [00:13<00:00, 102.38it/s]\n",
      "100%|████████████████████████████████████████████████████████████| 149/149 [00:01<00:00, 131.68it/s]\n"
     ]
    },
    {
     "name": "stdout",
     "output_type": "stream",
     "text": [
      "Train Loss: 0.0571, Train Acc: 0.9817\n",
      "Val Loss: 0.0823, Val Acc: 0.9744\n",
      "EarlyStopping counter: 5 out of 5\n",
      "Early stopping\n",
      "Training time: 3.049 minutes\n",
      "Elapsed time 3.0601836840311685 mins.\n",
      "loading best model ../az_model/model/best_model_epoch_7.pt\n",
      "loading best optimizer ../az_model/opt/best_optimizer_epoch_7.pt\n"
     ]
    },
    {
     "name": "stderr",
     "output_type": "stream",
     "text": [
      "100%|█████████████████████████████████████████████████████████████| 149/149 [00:01<00:00, 92.45it/s]\n"
     ]
    },
    {
     "name": "stdout",
     "output_type": "stream",
     "text": [
      "test accuracy 0.9642247505636024 and ROC-AUC 0.9641880860939362\n",
      "\n",
      "Torch 2.0.1 CUDA 11.8\n",
      "Model has 2.525953m parameters\n",
      "X_train (682598, 1789) Y_train (682598,)\n",
      "X_test (75848, 1789) Y_test (75848,)\n",
      "Epoch 1 of 50\n"
     ]
    },
    {
     "name": "stderr",
     "output_type": "stream",
     "text": [
      "100%|███████████████████████████████████████████████████████████| 1333/1333 [00:14<00:00, 92.73it/s]\n",
      "100%|████████████████████████████████████████████████████████████| 149/149 [00:01<00:00, 103.13it/s]\n"
     ]
    },
    {
     "name": "stdout",
     "output_type": "stream",
     "text": [
      "Train Loss: 0.1431, Train Acc: 0.9491\n",
      "Val Loss: 0.1094, Val Acc: 0.9603\n",
      "Validation loss decreased (inf --> 0.109413).  Saving model ...\n",
      "../az_model/model/best_model_epoch_1.pt\n",
      "../az_model/opt/best_optimizer_epoch_1.pt\n",
      "Epoch 2 of 50\n"
     ]
    },
    {
     "name": "stderr",
     "output_type": "stream",
     "text": [
      "100%|███████████████████████████████████████████████████████████| 1333/1333 [00:15<00:00, 88.72it/s]\n",
      "100%|████████████████████████████████████████████████████████████| 149/149 [00:01<00:00, 118.07it/s]\n"
     ]
    },
    {
     "name": "stdout",
     "output_type": "stream",
     "text": [
      "Train Loss: 0.1076, Train Acc: 0.9634\n",
      "Val Loss: 0.0952, Val Acc: 0.9659\n",
      "Validation loss decreased (0.109413 --> 0.095180).  Saving model ...\n",
      "../az_model/model/best_model_epoch_2.pt\n",
      "../az_model/opt/best_optimizer_epoch_2.pt\n",
      "Epoch 3 of 50\n"
     ]
    },
    {
     "name": "stderr",
     "output_type": "stream",
     "text": [
      "100%|███████████████████████████████████████████████████████████| 1333/1333 [00:15<00:00, 87.85it/s]\n",
      "100%|████████████████████████████████████████████████████████████| 149/149 [00:01<00:00, 129.14it/s]\n"
     ]
    },
    {
     "name": "stdout",
     "output_type": "stream",
     "text": [
      "Train Loss: 0.0934, Train Acc: 0.9684\n",
      "Val Loss: 0.1008, Val Acc: 0.9651\n",
      "EarlyStopping counter: 1 out of 5\n",
      "Epoch 4 of 50\n"
     ]
    },
    {
     "name": "stderr",
     "output_type": "stream",
     "text": [
      "100%|███████████████████████████████████████████████████████████| 1333/1333 [00:13<00:00, 97.18it/s]\n",
      "100%|████████████████████████████████████████████████████████████| 149/149 [00:01<00:00, 119.04it/s]\n"
     ]
    },
    {
     "name": "stdout",
     "output_type": "stream",
     "text": [
      "Train Loss: 0.0845, Train Acc: 0.9719\n",
      "Val Loss: 0.0937, Val Acc: 0.9673\n",
      "Validation loss decreased (0.095180 --> 0.093722).  Saving model ...\n",
      "../az_model/model/best_model_epoch_4.pt\n",
      "../az_model/opt/best_optimizer_epoch_4.pt\n",
      "Epoch 5 of 50\n"
     ]
    },
    {
     "name": "stderr",
     "output_type": "stream",
     "text": [
      "100%|██████████████████████████████████████████████████████████| 1333/1333 [00:12<00:00, 102.78it/s]\n",
      "100%|████████████████████████████████████████████████████████████| 149/149 [00:01<00:00, 126.74it/s]\n"
     ]
    },
    {
     "name": "stdout",
     "output_type": "stream",
     "text": [
      "Train Loss: 0.0787, Train Acc: 0.9741\n",
      "Val Loss: 0.0798, Val Acc: 0.9728\n",
      "Validation loss decreased (0.093722 --> 0.079784).  Saving model ...\n",
      "../az_model/model/best_model_epoch_5.pt\n",
      "../az_model/opt/best_optimizer_epoch_5.pt\n",
      "Epoch 6 of 50\n"
     ]
    },
    {
     "name": "stderr",
     "output_type": "stream",
     "text": [
      "100%|██████████████████████████████████████████████████████████| 1333/1333 [00:12<00:00, 105.92it/s]\n",
      "100%|████████████████████████████████████████████████████████████| 149/149 [00:01<00:00, 132.53it/s]\n"
     ]
    },
    {
     "name": "stdout",
     "output_type": "stream",
     "text": [
      "Train Loss: 0.0729, Train Acc: 0.9760\n",
      "Val Loss: 0.0851, Val Acc: 0.9712\n",
      "EarlyStopping counter: 1 out of 5\n",
      "Epoch 7 of 50\n"
     ]
    },
    {
     "name": "stderr",
     "output_type": "stream",
     "text": [
      "100%|███████████████████████████████████████████████████████████| 1333/1333 [00:16<00:00, 80.74it/s]\n",
      "100%|█████████████████████████████████████████████████████████████| 149/149 [00:03<00:00, 43.43it/s]\n"
     ]
    },
    {
     "name": "stdout",
     "output_type": "stream",
     "text": [
      "Train Loss: 0.0694, Train Acc: 0.9772\n",
      "Val Loss: 0.0845, Val Acc: 0.9724\n",
      "EarlyStopping counter: 2 out of 5\n",
      "Epoch 8 of 50\n"
     ]
    },
    {
     "name": "stderr",
     "output_type": "stream",
     "text": [
      "100%|███████████████████████████████████████████████████████████| 1333/1333 [00:14<00:00, 91.79it/s]\n",
      "100%|████████████████████████████████████████████████████████████| 149/149 [00:01<00:00, 130.16it/s]\n"
     ]
    },
    {
     "name": "stdout",
     "output_type": "stream",
     "text": [
      "Train Loss: 0.0666, Train Acc: 0.9783\n",
      "Val Loss: 0.0817, Val Acc: 0.9733\n",
      "EarlyStopping counter: 3 out of 5\n",
      "Epoch 9 of 50\n"
     ]
    },
    {
     "name": "stderr",
     "output_type": "stream",
     "text": [
      "100%|██████████████████████████████████████████████████████████| 1333/1333 [00:12<00:00, 109.02it/s]\n",
      "100%|████████████████████████████████████████████████████████████| 149/149 [00:01<00:00, 129.84it/s]\n"
     ]
    },
    {
     "name": "stdout",
     "output_type": "stream",
     "text": [
      "Train Loss: 0.0626, Train Acc: 0.9797\n",
      "Val Loss: 0.0845, Val Acc: 0.9732\n",
      "EarlyStopping counter: 4 out of 5\n",
      "Epoch 10 of 50\n"
     ]
    },
    {
     "name": "stderr",
     "output_type": "stream",
     "text": [
      "100%|██████████████████████████████████████████████████████████| 1333/1333 [00:12<00:00, 110.58it/s]\n",
      "100%|████████████████████████████████████████████████████████████| 149/149 [00:01<00:00, 128.15it/s]\n"
     ]
    },
    {
     "name": "stdout",
     "output_type": "stream",
     "text": [
      "Train Loss: 0.0606, Train Acc: 0.9804\n",
      "Val Loss: 0.0834, Val Acc: 0.9745\n",
      "EarlyStopping counter: 5 out of 5\n",
      "Early stopping\n",
      "Training time: 2.564 minutes\n",
      "Elapsed time 2.5741952021916705 mins.\n",
      "loading best model ../az_model/model/best_model_epoch_5.pt\n",
      "loading best optimizer ../az_model/opt/best_optimizer_epoch_5.pt\n"
     ]
    },
    {
     "name": "stderr",
     "output_type": "stream",
     "text": [
      "100%|████████████████████████████████████████████████████████████| 149/149 [00:01<00:00, 102.95it/s]\n"
     ]
    },
    {
     "name": "stdout",
     "output_type": "stream",
     "text": [
      "test accuracy 0.9623779478489153 and ROC-AUC 0.9622254426669976\n",
      "\n",
      "Torch 2.0.1 CUDA 11.8\n",
      "Model has 2.525953m parameters\n",
      "X_train (682598, 1789) Y_train (682598,)\n",
      "X_test (75848, 1789) Y_test (75848,)\n",
      "Epoch 1 of 50\n"
     ]
    },
    {
     "name": "stderr",
     "output_type": "stream",
     "text": [
      "100%|███████████████████████████████████████████████████████████| 1333/1333 [00:16<00:00, 79.64it/s]\n",
      "100%|████████████████████████████████████████████████████████████| 149/149 [00:01<00:00, 113.18it/s]\n"
     ]
    },
    {
     "name": "stdout",
     "output_type": "stream",
     "text": [
      "Train Loss: 0.1434, Train Acc: 0.9491\n",
      "Val Loss: 0.0981, Val Acc: 0.9633\n",
      "Validation loss decreased (inf --> 0.098108).  Saving model ...\n",
      "../az_model/model/best_model_epoch_1.pt\n",
      "../az_model/opt/best_optimizer_epoch_1.pt\n",
      "Epoch 2 of 50\n"
     ]
    },
    {
     "name": "stderr",
     "output_type": "stream",
     "text": [
      "100%|███████████████████████████████████████████████████████████| 1333/1333 [00:13<00:00, 99.64it/s]\n",
      "100%|████████████████████████████████████████████████████████████| 149/149 [00:01<00:00, 121.49it/s]\n"
     ]
    },
    {
     "name": "stdout",
     "output_type": "stream",
     "text": [
      "Train Loss: 0.1067, Train Acc: 0.9638\n",
      "Val Loss: 0.1038, Val Acc: 0.9616\n",
      "EarlyStopping counter: 1 out of 5\n",
      "Epoch 3 of 50\n"
     ]
    },
    {
     "name": "stderr",
     "output_type": "stream",
     "text": [
      "100%|███████████████████████████████████████████████████████████| 1333/1333 [00:17<00:00, 78.31it/s]\n",
      "100%|████████████████████████████████████████████████████████████| 149/149 [00:01<00:00, 105.02it/s]\n"
     ]
    },
    {
     "name": "stdout",
     "output_type": "stream",
     "text": [
      "Train Loss: 0.0939, Train Acc: 0.9683\n",
      "Val Loss: 0.0887, Val Acc: 0.9682\n",
      "Validation loss decreased (0.098108 --> 0.088748).  Saving model ...\n",
      "../az_model/model/best_model_epoch_3.pt\n",
      "../az_model/opt/best_optimizer_epoch_3.pt\n",
      "Epoch 4 of 50\n"
     ]
    },
    {
     "name": "stderr",
     "output_type": "stream",
     "text": [
      "100%|███████████████████████████████████████████████████████████| 1333/1333 [00:17<00:00, 75.94it/s]\n",
      "100%|████████████████████████████████████████████████████████████| 149/149 [00:01<00:00, 109.84it/s]\n"
     ]
    },
    {
     "name": "stdout",
     "output_type": "stream",
     "text": [
      "Train Loss: 0.0840, Train Acc: 0.9720\n",
      "Val Loss: 0.0910, Val Acc: 0.9697\n",
      "EarlyStopping counter: 1 out of 5\n",
      "Epoch 5 of 50\n"
     ]
    },
    {
     "name": "stderr",
     "output_type": "stream",
     "text": [
      "100%|███████████████████████████████████████████████████████████| 1333/1333 [00:18<00:00, 71.18it/s]\n",
      "100%|████████████████████████████████████████████████████████████| 149/149 [00:01<00:00, 129.83it/s]\n"
     ]
    },
    {
     "name": "stdout",
     "output_type": "stream",
     "text": [
      "Train Loss: 0.0782, Train Acc: 0.9740\n",
      "Val Loss: 0.0901, Val Acc: 0.9678\n",
      "EarlyStopping counter: 2 out of 5\n",
      "Epoch 6 of 50\n"
     ]
    },
    {
     "name": "stderr",
     "output_type": "stream",
     "text": [
      "100%|███████████████████████████████████████████████████████████| 1333/1333 [00:14<00:00, 91.44it/s]\n",
      "100%|████████████████████████████████████████████████████████████| 149/149 [00:01<00:00, 117.92it/s]\n"
     ]
    },
    {
     "name": "stdout",
     "output_type": "stream",
     "text": [
      "Train Loss: 0.0738, Train Acc: 0.9758\n",
      "Val Loss: 0.0804, Val Acc: 0.9729\n",
      "Validation loss decreased (0.088748 --> 0.080437).  Saving model ...\n",
      "../az_model/model/best_model_epoch_6.pt\n",
      "../az_model/opt/best_optimizer_epoch_6.pt\n",
      "Epoch 7 of 50\n"
     ]
    },
    {
     "name": "stderr",
     "output_type": "stream",
     "text": [
      "100%|███████████████████████████████████████████████████████████| 1333/1333 [00:14<00:00, 91.07it/s]\n",
      "100%|█████████████████████████████████████████████████████████████| 149/149 [00:03<00:00, 48.00it/s]\n"
     ]
    },
    {
     "name": "stdout",
     "output_type": "stream",
     "text": [
      "Train Loss: 0.0702, Train Acc: 0.9769\n",
      "Val Loss: 0.0830, Val Acc: 0.9725\n",
      "EarlyStopping counter: 1 out of 5\n",
      "Epoch 8 of 50\n"
     ]
    },
    {
     "name": "stderr",
     "output_type": "stream",
     "text": [
      "100%|██████████████████████████████████████████████████████████| 1333/1333 [00:12<00:00, 102.82it/s]\n",
      "100%|████████████████████████████████████████████████████████████| 149/149 [00:01<00:00, 136.57it/s]\n"
     ]
    },
    {
     "name": "stdout",
     "output_type": "stream",
     "text": [
      "Train Loss: 0.0665, Train Acc: 0.9783\n",
      "Val Loss: 0.0796, Val Acc: 0.9733\n",
      "Validation loss decreased (0.080437 --> 0.079609).  Saving model ...\n",
      "../az_model/model/best_model_epoch_8.pt\n",
      "../az_model/opt/best_optimizer_epoch_8.pt\n",
      "Epoch 9 of 50\n"
     ]
    },
    {
     "name": "stderr",
     "output_type": "stream",
     "text": [
      "100%|██████████████████████████████████████████████████████████| 1333/1333 [00:12<00:00, 106.43it/s]\n",
      "100%|████████████████████████████████████████████████████████████| 149/149 [00:01<00:00, 130.68it/s]\n"
     ]
    },
    {
     "name": "stdout",
     "output_type": "stream",
     "text": [
      "Train Loss: 0.0639, Train Acc: 0.9792\n",
      "Val Loss: 0.0808, Val Acc: 0.9736\n",
      "EarlyStopping counter: 1 out of 5\n",
      "Epoch 10 of 50\n"
     ]
    },
    {
     "name": "stderr",
     "output_type": "stream",
     "text": [
      "100%|██████████████████████████████████████████████████████████| 1333/1333 [00:13<00:00, 102.06it/s]\n",
      "100%|████████████████████████████████████████████████████████████| 149/149 [00:00<00:00, 179.78it/s]\n"
     ]
    },
    {
     "name": "stdout",
     "output_type": "stream",
     "text": [
      "Train Loss: 0.0611, Train Acc: 0.9801\n",
      "Val Loss: 0.0830, Val Acc: 0.9735\n",
      "EarlyStopping counter: 2 out of 5\n",
      "Epoch 11 of 50\n"
     ]
    },
    {
     "name": "stderr",
     "output_type": "stream",
     "text": [
      "100%|██████████████████████████████████████████████████████████| 1333/1333 [00:11<00:00, 111.61it/s]\n",
      "100%|████████████████████████████████████████████████████████████| 149/149 [00:01<00:00, 113.72it/s]\n"
     ]
    },
    {
     "name": "stdout",
     "output_type": "stream",
     "text": [
      "Train Loss: 0.0591, Train Acc: 0.9809\n",
      "Val Loss: 0.0861, Val Acc: 0.9724\n",
      "EarlyStopping counter: 3 out of 5\n",
      "Epoch 12 of 50\n"
     ]
    },
    {
     "name": "stderr",
     "output_type": "stream",
     "text": [
      "100%|███████████████████████████████████████████████████████████| 1333/1333 [00:16<00:00, 83.07it/s]\n",
      "100%|████████████████████████████████████████████████████████████| 149/149 [00:01<00:00, 128.84it/s]\n"
     ]
    },
    {
     "name": "stdout",
     "output_type": "stream",
     "text": [
      "Train Loss: 0.0573, Train Acc: 0.9814\n",
      "Val Loss: 0.0830, Val Acc: 0.9743\n",
      "EarlyStopping counter: 4 out of 5\n",
      "Epoch 13 of 50\n"
     ]
    },
    {
     "name": "stderr",
     "output_type": "stream",
     "text": [
      "100%|███████████████████████████████████████████████████████████| 1333/1333 [00:14<00:00, 93.46it/s]\n",
      "100%|████████████████████████████████████████████████████████████| 149/149 [00:01<00:00, 103.04it/s]\n"
     ]
    },
    {
     "name": "stdout",
     "output_type": "stream",
     "text": [
      "Train Loss: 0.0552, Train Acc: 0.9821\n",
      "Val Loss: 0.0806, Val Acc: 0.9754\n",
      "EarlyStopping counter: 5 out of 5\n",
      "Early stopping\n",
      "Training time: 3.528 minutes\n",
      "Elapsed time 3.5381277283032735 mins.\n",
      "loading best model ../az_model/model/best_model_epoch_8.pt\n",
      "loading best optimizer ../az_model/opt/best_optimizer_epoch_8.pt\n"
     ]
    },
    {
     "name": "stderr",
     "output_type": "stream",
     "text": [
      "100%|█████████████████████████████████████████████████████████████| 149/149 [00:01<00:00, 97.60it/s]\n"
     ]
    },
    {
     "name": "stdout",
     "output_type": "stream",
     "text": [
      "test accuracy 0.9646442136508506 and ROC-AUC 0.9645722302030157\n",
      "\n",
      "Torch 2.0.1 CUDA 11.8\n",
      "Model has 2.525953m parameters\n",
      "X_train (682598, 1789) Y_train (682598,)\n",
      "X_test (75848, 1789) Y_test (75848,)\n",
      "Epoch 1 of 50\n"
     ]
    },
    {
     "name": "stderr",
     "output_type": "stream",
     "text": [
      "100%|███████████████████████████████████████████████████████████| 1333/1333 [00:15<00:00, 85.98it/s]\n",
      "100%|████████████████████████████████████████████████████████████| 149/149 [00:01<00:00, 125.48it/s]\n"
     ]
    },
    {
     "name": "stdout",
     "output_type": "stream",
     "text": [
      "Train Loss: 0.1428, Train Acc: 0.9496\n",
      "Val Loss: 0.1127, Val Acc: 0.9578\n",
      "Validation loss decreased (inf --> 0.112743).  Saving model ...\n",
      "../az_model/model/best_model_epoch_1.pt\n",
      "../az_model/opt/best_optimizer_epoch_1.pt\n",
      "Epoch 2 of 50\n"
     ]
    },
    {
     "name": "stderr",
     "output_type": "stream",
     "text": [
      "100%|███████████████████████████████████████████████████████████| 1333/1333 [00:14<00:00, 94.71it/s]\n",
      "100%|████████████████████████████████████████████████████████████| 149/149 [00:01<00:00, 121.24it/s]\n"
     ]
    },
    {
     "name": "stdout",
     "output_type": "stream",
     "text": [
      "Train Loss: 0.1060, Train Acc: 0.9641\n",
      "Val Loss: 0.1027, Val Acc: 0.9639\n",
      "Validation loss decreased (0.112743 --> 0.102658).  Saving model ...\n",
      "../az_model/model/best_model_epoch_2.pt\n",
      "../az_model/opt/best_optimizer_epoch_2.pt\n",
      "Epoch 3 of 50\n"
     ]
    },
    {
     "name": "stderr",
     "output_type": "stream",
     "text": [
      "100%|███████████████████████████████████████████████████████████| 1333/1333 [00:13<00:00, 97.39it/s]\n",
      "100%|████████████████████████████████████████████████████████████| 149/149 [00:01<00:00, 128.85it/s]\n"
     ]
    },
    {
     "name": "stdout",
     "output_type": "stream",
     "text": [
      "Train Loss: 0.0936, Train Acc: 0.9687\n",
      "Val Loss: 0.0915, Val Acc: 0.9666\n",
      "Validation loss decreased (0.102658 --> 0.091450).  Saving model ...\n",
      "../az_model/model/best_model_epoch_3.pt\n",
      "../az_model/opt/best_optimizer_epoch_3.pt\n",
      "Epoch 4 of 50\n"
     ]
    },
    {
     "name": "stderr",
     "output_type": "stream",
     "text": [
      "100%|███████████████████████████████████████████████████████████| 1333/1333 [00:18<00:00, 71.81it/s]\n",
      "100%|████████████████████████████████████████████████████████████| 149/149 [00:01<00:00, 131.86it/s]\n"
     ]
    },
    {
     "name": "stdout",
     "output_type": "stream",
     "text": [
      "Train Loss: 0.0848, Train Acc: 0.9717\n",
      "Val Loss: 0.0952, Val Acc: 0.9673\n",
      "EarlyStopping counter: 1 out of 5\n",
      "Epoch 5 of 50\n"
     ]
    },
    {
     "name": "stderr",
     "output_type": "stream",
     "text": [
      "100%|███████████████████████████████████████████████████████████| 1333/1333 [00:16<00:00, 82.04it/s]\n",
      "100%|█████████████████████████████████████████████████████████████| 149/149 [00:03<00:00, 40.91it/s]\n"
     ]
    },
    {
     "name": "stdout",
     "output_type": "stream",
     "text": [
      "Train Loss: 0.0791, Train Acc: 0.9738\n",
      "Val Loss: 0.0805, Val Acc: 0.9725\n",
      "Validation loss decreased (0.091450 --> 0.080516).  Saving model ...\n",
      "../az_model/model/best_model_epoch_5.pt\n",
      "../az_model/opt/best_optimizer_epoch_5.pt\n",
      "Epoch 6 of 50\n"
     ]
    },
    {
     "name": "stderr",
     "output_type": "stream",
     "text": [
      "100%|███████████████████████████████████████████████████████████| 1333/1333 [00:14<00:00, 90.49it/s]\n",
      "100%|████████████████████████████████████████████████████████████| 149/149 [00:01<00:00, 113.11it/s]\n"
     ]
    },
    {
     "name": "stdout",
     "output_type": "stream",
     "text": [
      "Train Loss: 0.0738, Train Acc: 0.9757\n",
      "Val Loss: 0.0811, Val Acc: 0.9733\n",
      "EarlyStopping counter: 1 out of 5\n",
      "Epoch 7 of 50\n"
     ]
    },
    {
     "name": "stderr",
     "output_type": "stream",
     "text": [
      "100%|██████████████████████████████████████████████████████████| 1333/1333 [00:13<00:00, 101.67it/s]\n",
      "100%|████████████████████████████████████████████████████████████| 149/149 [00:01<00:00, 107.71it/s]\n"
     ]
    },
    {
     "name": "stdout",
     "output_type": "stream",
     "text": [
      "Train Loss: 0.0692, Train Acc: 0.9774\n",
      "Val Loss: 0.0853, Val Acc: 0.9715\n",
      "EarlyStopping counter: 2 out of 5\n",
      "Epoch 8 of 50\n"
     ]
    },
    {
     "name": "stderr",
     "output_type": "stream",
     "text": [
      "100%|███████████████████████████████████████████████████████████| 1333/1333 [00:15<00:00, 85.98it/s]\n",
      "100%|████████████████████████████████████████████████████████████| 149/149 [00:01<00:00, 126.12it/s]\n"
     ]
    },
    {
     "name": "stdout",
     "output_type": "stream",
     "text": [
      "Train Loss: 0.0669, Train Acc: 0.9781\n",
      "Val Loss: 0.0816, Val Acc: 0.9725\n",
      "EarlyStopping counter: 3 out of 5\n",
      "Epoch 9 of 50\n"
     ]
    },
    {
     "name": "stderr",
     "output_type": "stream",
     "text": [
      "100%|███████████████████████████████████████████████████████████| 1333/1333 [00:13<00:00, 98.71it/s]\n",
      "100%|████████████████████████████████████████████████████████████| 149/149 [00:01<00:00, 119.53it/s]\n"
     ]
    },
    {
     "name": "stdout",
     "output_type": "stream",
     "text": [
      "Train Loss: 0.0632, Train Acc: 0.9795\n",
      "Val Loss: 0.0811, Val Acc: 0.9733\n",
      "EarlyStopping counter: 4 out of 5\n",
      "Epoch 10 of 50\n"
     ]
    },
    {
     "name": "stderr",
     "output_type": "stream",
     "text": [
      "100%|███████████████████████████████████████████████████████████| 1333/1333 [00:16<00:00, 79.64it/s]\n",
      "100%|████████████████████████████████████████████████████████████| 149/149 [00:01<00:00, 120.53it/s]\n"
     ]
    },
    {
     "name": "stdout",
     "output_type": "stream",
     "text": [
      "Train Loss: 0.0617, Train Acc: 0.9801\n",
      "Val Loss: 0.0827, Val Acc: 0.9743\n",
      "EarlyStopping counter: 5 out of 5\n",
      "Early stopping\n",
      "Training time: 2.779 minutes\n",
      "Elapsed time 2.788777470588684 mins.\n",
      "loading best model ../az_model/model/best_model_epoch_5.pt\n",
      "loading best optimizer ../az_model/opt/best_optimizer_epoch_5.pt\n"
     ]
    },
    {
     "name": "stderr",
     "output_type": "stream",
     "text": [
      "100%|█████████████████████████████████████████████████████████████| 149/149 [00:01<00:00, 85.97it/s]\n"
     ]
    },
    {
     "name": "stdout",
     "output_type": "stream",
     "text": [
      "test accuracy 0.9635154500903699 and ROC-AUC 0.9635190756900766\n",
      "\n",
      "Torch 2.0.1 CUDA 11.8\n",
      "Model has 2.525953m parameters\n",
      "X_train (682598, 1789) Y_train (682598,)\n",
      "X_test (75848, 1789) Y_test (75848,)\n",
      "Epoch 1 of 50\n"
     ]
    },
    {
     "name": "stderr",
     "output_type": "stream",
     "text": [
      "100%|███████████████████████████████████████████████████████████| 1333/1333 [00:15<00:00, 86.76it/s]\n",
      "100%|████████████████████████████████████████████████████████████| 149/149 [00:01<00:00, 119.72it/s]\n"
     ]
    },
    {
     "name": "stdout",
     "output_type": "stream",
     "text": [
      "Train Loss: 0.1430, Train Acc: 0.9493\n",
      "Val Loss: 0.1253, Val Acc: 0.9581\n",
      "Validation loss decreased (inf --> 0.125329).  Saving model ...\n",
      "../az_model/model/best_model_epoch_1.pt\n",
      "../az_model/opt/best_optimizer_epoch_1.pt\n",
      "Epoch 2 of 50\n"
     ]
    },
    {
     "name": "stderr",
     "output_type": "stream",
     "text": [
      "100%|███████████████████████████████████████████████████████████| 1333/1333 [00:15<00:00, 86.06it/s]\n",
      "100%|████████████████████████████████████████████████████████████| 149/149 [00:01<00:00, 104.86it/s]\n"
     ]
    },
    {
     "name": "stdout",
     "output_type": "stream",
     "text": [
      "Train Loss: 0.1068, Train Acc: 0.9636\n",
      "Val Loss: 0.0879, Val Acc: 0.9670\n",
      "Validation loss decreased (0.125329 --> 0.087928).  Saving model ...\n",
      "../az_model/model/best_model_epoch_2.pt\n",
      "../az_model/opt/best_optimizer_epoch_2.pt\n",
      "Epoch 3 of 50\n"
     ]
    },
    {
     "name": "stderr",
     "output_type": "stream",
     "text": [
      "100%|███████████████████████████████████████████████████████████| 1333/1333 [00:15<00:00, 86.24it/s]\n",
      "100%|████████████████████████████████████████████████████████████| 149/149 [00:01<00:00, 115.37it/s]\n"
     ]
    },
    {
     "name": "stdout",
     "output_type": "stream",
     "text": [
      "Train Loss: 0.0929, Train Acc: 0.9688\n",
      "Val Loss: 0.1061, Val Acc: 0.9630\n",
      "EarlyStopping counter: 1 out of 5\n",
      "Epoch 4 of 50\n"
     ]
    },
    {
     "name": "stderr",
     "output_type": "stream",
     "text": [
      "100%|███████████████████████████████████████████████████████████| 1333/1333 [00:13<00:00, 95.97it/s]\n",
      "100%|████████████████████████████████████████████████████████████| 149/149 [00:01<00:00, 119.22it/s]\n"
     ]
    },
    {
     "name": "stdout",
     "output_type": "stream",
     "text": [
      "Train Loss: 0.0850, Train Acc: 0.9719\n",
      "Val Loss: 0.0910, Val Acc: 0.9700\n",
      "EarlyStopping counter: 2 out of 5\n",
      "Epoch 5 of 50\n"
     ]
    },
    {
     "name": "stderr",
     "output_type": "stream",
     "text": [
      "100%|███████████████████████████████████████████████████████████| 1333/1333 [00:14<00:00, 92.13it/s]\n",
      "100%|████████████████████████████████████████████████████████████| 149/149 [00:01<00:00, 122.74it/s]\n"
     ]
    },
    {
     "name": "stdout",
     "output_type": "stream",
     "text": [
      "Train Loss: 0.0784, Train Acc: 0.9740\n",
      "Val Loss: 0.0815, Val Acc: 0.9716\n",
      "Validation loss decreased (0.087928 --> 0.081530).  Saving model ...\n",
      "../az_model/model/best_model_epoch_5.pt\n",
      "../az_model/opt/best_optimizer_epoch_5.pt\n",
      "Epoch 6 of 50\n"
     ]
    },
    {
     "name": "stderr",
     "output_type": "stream",
     "text": [
      "100%|███████████████████████████████████████████████████████████| 1333/1333 [00:15<00:00, 88.83it/s]\n",
      "100%|█████████████████████████████████████████████████████████████| 149/149 [00:03<00:00, 39.30it/s]\n"
     ]
    },
    {
     "name": "stdout",
     "output_type": "stream",
     "text": [
      "Train Loss: 0.0727, Train Acc: 0.9761\n",
      "Val Loss: 0.0798, Val Acc: 0.9734\n",
      "Validation loss decreased (0.081530 --> 0.079838).  Saving model ...\n",
      "../az_model/model/best_model_epoch_6.pt\n",
      "../az_model/opt/best_optimizer_epoch_6.pt\n",
      "Epoch 7 of 50\n"
     ]
    },
    {
     "name": "stderr",
     "output_type": "stream",
     "text": [
      "100%|███████████████████████████████████████████████████████████| 1333/1333 [00:13<00:00, 99.95it/s]\n",
      "100%|████████████████████████████████████████████████████████████| 149/149 [00:01<00:00, 121.64it/s]\n"
     ]
    },
    {
     "name": "stdout",
     "output_type": "stream",
     "text": [
      "Train Loss: 0.0699, Train Acc: 0.9771\n",
      "Val Loss: 0.0843, Val Acc: 0.9729\n",
      "EarlyStopping counter: 1 out of 5\n",
      "Epoch 8 of 50\n"
     ]
    },
    {
     "name": "stderr",
     "output_type": "stream",
     "text": [
      "100%|███████████████████████████████████████████████████████████| 1333/1333 [00:16<00:00, 79.35it/s]\n",
      "100%|████████████████████████████████████████████████████████████| 149/149 [00:01<00:00, 127.05it/s]\n"
     ]
    },
    {
     "name": "stdout",
     "output_type": "stream",
     "text": [
      "Train Loss: 0.0660, Train Acc: 0.9785\n",
      "Val Loss: 0.0818, Val Acc: 0.9732\n",
      "EarlyStopping counter: 2 out of 5\n",
      "Epoch 9 of 50\n"
     ]
    },
    {
     "name": "stderr",
     "output_type": "stream",
     "text": [
      "100%|██████████████████████████████████████████████████████████| 1333/1333 [00:12<00:00, 108.63it/s]\n",
      "100%|████████████████████████████████████████████████████████████| 149/149 [00:01<00:00, 107.64it/s]\n"
     ]
    },
    {
     "name": "stdout",
     "output_type": "stream",
     "text": [
      "Train Loss: 0.0639, Train Acc: 0.9792\n",
      "Val Loss: 0.0776, Val Acc: 0.9752\n",
      "Validation loss decreased (0.079838 --> 0.077634).  Saving model ...\n",
      "../az_model/model/best_model_epoch_9.pt\n",
      "../az_model/opt/best_optimizer_epoch_9.pt\n",
      "Epoch 10 of 50\n"
     ]
    },
    {
     "name": "stderr",
     "output_type": "stream",
     "text": [
      "100%|██████████████████████████████████████████████████████████| 1333/1333 [00:12<00:00, 103.93it/s]\n",
      "100%|████████████████████████████████████████████████████████████| 149/149 [00:01<00:00, 102.96it/s]\n"
     ]
    },
    {
     "name": "stdout",
     "output_type": "stream",
     "text": [
      "Train Loss: 0.0604, Train Acc: 0.9806\n",
      "Val Loss: 0.0840, Val Acc: 0.9733\n",
      "EarlyStopping counter: 1 out of 5\n",
      "Epoch 11 of 50\n"
     ]
    },
    {
     "name": "stderr",
     "output_type": "stream",
     "text": [
      "100%|███████████████████████████████████████████████████████████| 1333/1333 [00:14<00:00, 89.00it/s]\n",
      "100%|████████████████████████████████████████████████████████████| 149/149 [00:01<00:00, 119.90it/s]\n"
     ]
    },
    {
     "name": "stdout",
     "output_type": "stream",
     "text": [
      "Train Loss: 0.0595, Train Acc: 0.9808\n",
      "Val Loss: 0.0869, Val Acc: 0.9741\n",
      "EarlyStopping counter: 2 out of 5\n",
      "Epoch 12 of 50\n"
     ]
    },
    {
     "name": "stderr",
     "output_type": "stream",
     "text": [
      "100%|██████████████████████████████████████████████████████████| 1333/1333 [00:13<00:00, 100.49it/s]\n",
      "100%|████████████████████████████████████████████████████████████| 149/149 [00:00<00:00, 169.31it/s]\n"
     ]
    },
    {
     "name": "stdout",
     "output_type": "stream",
     "text": [
      "Train Loss: 0.0574, Train Acc: 0.9816\n",
      "Val Loss: 0.0752, Val Acc: 0.9754\n",
      "Validation loss decreased (0.077634 --> 0.075224).  Saving model ...\n",
      "../az_model/model/best_model_epoch_12.pt\n",
      "../az_model/opt/best_optimizer_epoch_12.pt\n",
      "Epoch 13 of 50\n"
     ]
    },
    {
     "name": "stderr",
     "output_type": "stream",
     "text": [
      "100%|██████████████████████████████████████████████████████████| 1333/1333 [00:12<00:00, 106.48it/s]\n",
      "100%|████████████████████████████████████████████████████████████| 149/149 [00:01<00:00, 128.14it/s]\n"
     ]
    },
    {
     "name": "stdout",
     "output_type": "stream",
     "text": [
      "Train Loss: 0.0552, Train Acc: 0.9822\n",
      "Val Loss: 0.0835, Val Acc: 0.9733\n",
      "EarlyStopping counter: 1 out of 5\n",
      "Epoch 14 of 50\n"
     ]
    },
    {
     "name": "stderr",
     "output_type": "stream",
     "text": [
      "100%|███████████████████████████████████████████████████████████| 1333/1333 [00:13<00:00, 99.32it/s]\n",
      "100%|████████████████████████████████████████████████████████████| 149/149 [00:01<00:00, 139.64it/s]\n"
     ]
    },
    {
     "name": "stdout",
     "output_type": "stream",
     "text": [
      "Train Loss: 0.0538, Train Acc: 0.9827\n",
      "Val Loss: 0.0795, Val Acc: 0.9751\n",
      "EarlyStopping counter: 2 out of 5\n",
      "Epoch 15 of 50\n"
     ]
    },
    {
     "name": "stderr",
     "output_type": "stream",
     "text": [
      "100%|███████████████████████████████████████████████████████████| 1333/1333 [00:13<00:00, 99.04it/s]\n",
      "100%|████████████████████████████████████████████████████████████| 149/149 [00:01<00:00, 140.87it/s]\n"
     ]
    },
    {
     "name": "stdout",
     "output_type": "stream",
     "text": [
      "Train Loss: 0.0527, Train Acc: 0.9831\n",
      "Val Loss: 0.0815, Val Acc: 0.9754\n",
      "EarlyStopping counter: 3 out of 5\n",
      "Epoch 16 of 50\n"
     ]
    },
    {
     "name": "stderr",
     "output_type": "stream",
     "text": [
      "100%|███████████████████████████████████████████████████████████| 1333/1333 [00:14<00:00, 94.90it/s]\n",
      "100%|█████████████████████████████████████████████████████████████| 149/149 [00:03<00:00, 40.72it/s]\n"
     ]
    },
    {
     "name": "stdout",
     "output_type": "stream",
     "text": [
      "Train Loss: 0.0511, Train Acc: 0.9837\n",
      "Val Loss: 0.0831, Val Acc: 0.9746\n",
      "EarlyStopping counter: 4 out of 5\n",
      "Epoch 17 of 50\n"
     ]
    },
    {
     "name": "stderr",
     "output_type": "stream",
     "text": [
      "100%|███████████████████████████████████████████████████████████| 1333/1333 [00:14<00:00, 89.87it/s]\n",
      "100%|████████████████████████████████████████████████████████████| 149/149 [00:01<00:00, 128.44it/s]\n"
     ]
    },
    {
     "name": "stdout",
     "output_type": "stream",
     "text": [
      "Train Loss: 0.0502, Train Acc: 0.9839\n",
      "Val Loss: 0.0865, Val Acc: 0.9733\n",
      "EarlyStopping counter: 5 out of 5\n",
      "Early stopping\n",
      "Training time: 4.461 minutes\n",
      "Elapsed time 4.471034491062165 mins.\n",
      "loading best model ../az_model/model/best_model_epoch_12.pt\n",
      "loading best optimizer ../az_model/opt/best_optimizer_epoch_12.pt\n"
     ]
    },
    {
     "name": "stderr",
     "output_type": "stream",
     "text": [
      "100%|█████████████████████████████████████████████████████████████| 149/149 [00:02<00:00, 73.53it/s]\n"
     ]
    },
    {
     "name": "stdout",
     "output_type": "stream",
     "text": [
      "test accuracy 0.9663861505937257 and ROC-AUC 0.966461086767823\n",
      "\n",
      "Torch 2.0.1 CUDA 11.8\n",
      "Model has 2.525953m parameters\n",
      "X_train (682598, 1789) Y_train (682598,)\n",
      "X_test (75848, 1789) Y_test (75848,)\n",
      "Epoch 1 of 50\n"
     ]
    },
    {
     "name": "stderr",
     "output_type": "stream",
     "text": [
      "100%|███████████████████████████████████████████████████████████| 1333/1333 [00:15<00:00, 85.82it/s]\n",
      "100%|████████████████████████████████████████████████████████████| 149/149 [00:01<00:00, 124.04it/s]\n"
     ]
    },
    {
     "name": "stdout",
     "output_type": "stream",
     "text": [
      "Train Loss: 0.1438, Train Acc: 0.9490\n",
      "Val Loss: 0.1081, Val Acc: 0.9590\n",
      "Validation loss decreased (inf --> 0.108130).  Saving model ...\n",
      "../az_model/model/best_model_epoch_1.pt\n",
      "../az_model/opt/best_optimizer_epoch_1.pt\n",
      "Epoch 2 of 50\n"
     ]
    },
    {
     "name": "stderr",
     "output_type": "stream",
     "text": [
      "100%|██████████████████████████████████████████████████████████| 1333/1333 [00:13<00:00, 102.43it/s]\n",
      "100%|████████████████████████████████████████████████████████████| 149/149 [00:01<00:00, 115.83it/s]\n"
     ]
    },
    {
     "name": "stdout",
     "output_type": "stream",
     "text": [
      "Train Loss: 0.1065, Train Acc: 0.9637\n",
      "Val Loss: 0.0964, Val Acc: 0.9649\n",
      "Validation loss decreased (0.108130 --> 0.096430).  Saving model ...\n",
      "../az_model/model/best_model_epoch_2.pt\n",
      "../az_model/opt/best_optimizer_epoch_2.pt\n",
      "Epoch 3 of 50\n"
     ]
    },
    {
     "name": "stderr",
     "output_type": "stream",
     "text": [
      "100%|██████████████████████████████████████████████████████████| 1333/1333 [00:13<00:00, 100.73it/s]\n",
      "100%|████████████████████████████████████████████████████████████| 149/149 [00:01<00:00, 100.02it/s]\n"
     ]
    },
    {
     "name": "stdout",
     "output_type": "stream",
     "text": [
      "Train Loss: 0.0936, Train Acc: 0.9687\n",
      "Val Loss: 0.1000, Val Acc: 0.9649\n",
      "EarlyStopping counter: 1 out of 5\n",
      "Epoch 4 of 50\n"
     ]
    },
    {
     "name": "stderr",
     "output_type": "stream",
     "text": [
      "100%|███████████████████████████████████████████████████████████| 1333/1333 [00:14<00:00, 94.60it/s]\n",
      "100%|████████████████████████████████████████████████████████████| 149/149 [00:01<00:00, 116.83it/s]\n"
     ]
    },
    {
     "name": "stdout",
     "output_type": "stream",
     "text": [
      "Train Loss: 0.0843, Train Acc: 0.9720\n",
      "Val Loss: 0.0955, Val Acc: 0.9641\n",
      "Validation loss decreased (0.096430 --> 0.095549).  Saving model ...\n",
      "../az_model/model/best_model_epoch_4.pt\n",
      "../az_model/opt/best_optimizer_epoch_4.pt\n",
      "Epoch 5 of 50\n"
     ]
    },
    {
     "name": "stderr",
     "output_type": "stream",
     "text": [
      "100%|██████████████████████████████████████████████████████████| 1333/1333 [00:13<00:00, 101.00it/s]\n",
      "100%|████████████████████████████████████████████████████████████| 149/149 [00:00<00:00, 156.17it/s]\n"
     ]
    },
    {
     "name": "stdout",
     "output_type": "stream",
     "text": [
      "Train Loss: 0.0772, Train Acc: 0.9744\n",
      "Val Loss: 0.0851, Val Acc: 0.9699\n",
      "Validation loss decreased (0.095549 --> 0.085108).  Saving model ...\n",
      "../az_model/model/best_model_epoch_5.pt\n",
      "../az_model/opt/best_optimizer_epoch_5.pt\n",
      "Epoch 6 of 50\n"
     ]
    },
    {
     "name": "stderr",
     "output_type": "stream",
     "text": [
      "100%|███████████████████████████████████████████████████████████| 1333/1333 [00:13<00:00, 97.63it/s]\n",
      "100%|████████████████████████████████████████████████████████████| 149/149 [00:01<00:00, 106.66it/s]\n"
     ]
    },
    {
     "name": "stdout",
     "output_type": "stream",
     "text": [
      "Train Loss: 0.0727, Train Acc: 0.9761\n",
      "Val Loss: 0.0862, Val Acc: 0.9714\n",
      "EarlyStopping counter: 1 out of 5\n",
      "Epoch 7 of 50\n"
     ]
    },
    {
     "name": "stderr",
     "output_type": "stream",
     "text": [
      "100%|██████████████████████████████████████████████████████████| 1333/1333 [00:12<00:00, 102.95it/s]\n",
      "100%|████████████████████████████████████████████████████████████| 149/149 [00:01<00:00, 140.36it/s]\n"
     ]
    },
    {
     "name": "stdout",
     "output_type": "stream",
     "text": [
      "Train Loss: 0.0692, Train Acc: 0.9774\n",
      "Val Loss: 0.0769, Val Acc: 0.9749\n",
      "Validation loss decreased (0.085108 --> 0.076902).  Saving model ...\n",
      "../az_model/model/best_model_epoch_7.pt\n",
      "../az_model/opt/best_optimizer_epoch_7.pt\n",
      "Epoch 8 of 50\n"
     ]
    },
    {
     "name": "stderr",
     "output_type": "stream",
     "text": [
      "100%|███████████████████████████████████████████████████████████| 1333/1333 [00:14<00:00, 94.10it/s]\n",
      "100%|████████████████████████████████████████████████████████████| 149/149 [00:01<00:00, 131.32it/s]\n"
     ]
    },
    {
     "name": "stdout",
     "output_type": "stream",
     "text": [
      "Train Loss: 0.0668, Train Acc: 0.9783\n",
      "Val Loss: 0.0799, Val Acc: 0.9741\n",
      "EarlyStopping counter: 1 out of 5\n",
      "Epoch 9 of 50\n"
     ]
    },
    {
     "name": "stderr",
     "output_type": "stream",
     "text": [
      "100%|███████████████████████████████████████████████████████████| 1333/1333 [00:13<00:00, 96.42it/s]\n",
      "100%|████████████████████████████████████████████████████████████| 149/149 [00:01<00:00, 130.22it/s]\n"
     ]
    },
    {
     "name": "stdout",
     "output_type": "stream",
     "text": [
      "Train Loss: 0.0628, Train Acc: 0.9797\n",
      "Val Loss: 0.0837, Val Acc: 0.9734\n",
      "EarlyStopping counter: 2 out of 5\n",
      "Epoch 10 of 50\n"
     ]
    },
    {
     "name": "stderr",
     "output_type": "stream",
     "text": [
      "100%|███████████████████████████████████████████████████████████| 1333/1333 [00:14<00:00, 89.22it/s]\n",
      "100%|█████████████████████████████████████████████████████████████| 149/149 [00:03<00:00, 40.79it/s]\n"
     ]
    },
    {
     "name": "stdout",
     "output_type": "stream",
     "text": [
      "Train Loss: 0.0615, Train Acc: 0.9800\n",
      "Val Loss: 0.0800, Val Acc: 0.9750\n",
      "EarlyStopping counter: 3 out of 5\n",
      "Epoch 11 of 50\n"
     ]
    },
    {
     "name": "stderr",
     "output_type": "stream",
     "text": [
      "100%|███████████████████████████████████████████████████████████| 1333/1333 [00:14<00:00, 92.94it/s]\n",
      "100%|████████████████████████████████████████████████████████████| 149/149 [00:01<00:00, 134.40it/s]\n"
     ]
    },
    {
     "name": "stdout",
     "output_type": "stream",
     "text": [
      "Train Loss: 0.0585, Train Acc: 0.9811\n",
      "Val Loss: 0.0836, Val Acc: 0.9755\n",
      "EarlyStopping counter: 4 out of 5\n",
      "Epoch 12 of 50\n"
     ]
    },
    {
     "name": "stderr",
     "output_type": "stream",
     "text": [
      "100%|███████████████████████████████████████████████████████████| 1333/1333 [00:14<00:00, 93.28it/s]\n",
      "100%|████████████████████████████████████████████████████████████| 149/149 [00:01<00:00, 126.78it/s]\n"
     ]
    },
    {
     "name": "stdout",
     "output_type": "stream",
     "text": [
      "Train Loss: 0.0570, Train Acc: 0.9817\n",
      "Val Loss: 0.0842, Val Acc: 0.9739\n",
      "EarlyStopping counter: 5 out of 5\n",
      "Early stopping\n",
      "Training time: 3.076 minutes\n",
      "Elapsed time 3.0861973841985066 mins.\n",
      "loading best model ../az_model/model/best_model_epoch_7.pt\n",
      "loading best optimizer ../az_model/opt/best_optimizer_epoch_7.pt\n"
     ]
    },
    {
     "name": "stderr",
     "output_type": "stream",
     "text": [
      "100%|█████████████████████████████████████████████████████████████| 149/149 [00:01<00:00, 78.11it/s]\n"
     ]
    },
    {
     "name": "stdout",
     "output_type": "stream",
     "text": [
      "test accuracy 0.9656666549260184 and ROC-AUC 0.9656408374800394\n",
      "\n",
      "Torch 2.0.1 CUDA 11.8\n",
      "Model has 2.525953m parameters\n",
      "X_train (682598, 1789) Y_train (682598,)\n",
      "X_test (75848, 1789) Y_test (75848,)\n",
      "Epoch 1 of 50\n"
     ]
    },
    {
     "name": "stderr",
     "output_type": "stream",
     "text": [
      "100%|███████████████████████████████████████████████████████████| 1333/1333 [00:15<00:00, 88.45it/s]\n",
      "100%|████████████████████████████████████████████████████████████| 149/149 [00:01<00:00, 117.31it/s]\n"
     ]
    },
    {
     "name": "stdout",
     "output_type": "stream",
     "text": [
      "Train Loss: 0.1426, Train Acc: 0.9494\n",
      "Val Loss: 0.0989, Val Acc: 0.9640\n",
      "Validation loss decreased (inf --> 0.098908).  Saving model ...\n",
      "../az_model/model/best_model_epoch_1.pt\n",
      "../az_model/opt/best_optimizer_epoch_1.pt\n",
      "Epoch 2 of 50\n"
     ]
    },
    {
     "name": "stderr",
     "output_type": "stream",
     "text": [
      "100%|██████████████████████████████████████████████████████████| 1333/1333 [00:12<00:00, 108.49it/s]\n",
      "100%|████████████████████████████████████████████████████████████| 149/149 [00:01<00:00, 110.64it/s]\n"
     ]
    },
    {
     "name": "stdout",
     "output_type": "stream",
     "text": [
      "Train Loss: 0.1070, Train Acc: 0.9634\n",
      "Val Loss: 0.0926, Val Acc: 0.9668\n",
      "Validation loss decreased (0.098908 --> 0.092552).  Saving model ...\n",
      "../az_model/model/best_model_epoch_2.pt\n",
      "../az_model/opt/best_optimizer_epoch_2.pt\n",
      "Epoch 3 of 50\n"
     ]
    },
    {
     "name": "stderr",
     "output_type": "stream",
     "text": [
      "100%|██████████████████████████████████████████████████████████| 1333/1333 [00:12<00:00, 103.95it/s]\n",
      "100%|████████████████████████████████████████████████████████████| 149/149 [00:01<00:00, 120.24it/s]\n"
     ]
    },
    {
     "name": "stdout",
     "output_type": "stream",
     "text": [
      "Train Loss: 0.0928, Train Acc: 0.9689\n",
      "Val Loss: 0.1087, Val Acc: 0.9621\n",
      "EarlyStopping counter: 1 out of 5\n",
      "Epoch 4 of 50\n"
     ]
    },
    {
     "name": "stderr",
     "output_type": "stream",
     "text": [
      "100%|███████████████████████████████████████████████████████████| 1333/1333 [00:17<00:00, 76.55it/s]\n",
      "100%|████████████████████████████████████████████████████████████| 149/149 [00:01<00:00, 120.36it/s]\n"
     ]
    },
    {
     "name": "stdout",
     "output_type": "stream",
     "text": [
      "Train Loss: 0.0840, Train Acc: 0.9723\n",
      "Val Loss: 0.0855, Val Acc: 0.9711\n",
      "Validation loss decreased (0.092552 --> 0.085504).  Saving model ...\n",
      "../az_model/model/best_model_epoch_4.pt\n",
      "../az_model/opt/best_optimizer_epoch_4.pt\n",
      "Epoch 5 of 50\n"
     ]
    },
    {
     "name": "stderr",
     "output_type": "stream",
     "text": [
      "100%|███████████████████████████████████████████████████████████| 1333/1333 [00:14<00:00, 90.63it/s]\n",
      "100%|████████████████████████████████████████████████████████████| 149/149 [00:01<00:00, 120.29it/s]\n"
     ]
    },
    {
     "name": "stdout",
     "output_type": "stream",
     "text": [
      "Train Loss: 0.0782, Train Acc: 0.9742\n",
      "Val Loss: 0.0814, Val Acc: 0.9722\n",
      "Validation loss decreased (0.085504 --> 0.081441).  Saving model ...\n",
      "../az_model/model/best_model_epoch_5.pt\n",
      "../az_model/opt/best_optimizer_epoch_5.pt\n",
      "Epoch 6 of 50\n"
     ]
    },
    {
     "name": "stderr",
     "output_type": "stream",
     "text": [
      "100%|███████████████████████████████████████████████████████████| 1333/1333 [00:14<00:00, 92.03it/s]\n",
      "100%|████████████████████████████████████████████████████████████| 149/149 [00:01<00:00, 120.99it/s]\n"
     ]
    },
    {
     "name": "stdout",
     "output_type": "stream",
     "text": [
      "Train Loss: 0.0742, Train Acc: 0.9757\n",
      "Val Loss: 0.0868, Val Acc: 0.9709\n",
      "EarlyStopping counter: 1 out of 5\n",
      "Epoch 7 of 50\n"
     ]
    },
    {
     "name": "stderr",
     "output_type": "stream",
     "text": [
      "100%|███████████████████████████████████████████████████████████| 1333/1333 [00:14<00:00, 91.37it/s]\n",
      "100%|████████████████████████████████████████████████████████████| 149/149 [00:01<00:00, 121.56it/s]\n"
     ]
    },
    {
     "name": "stdout",
     "output_type": "stream",
     "text": [
      "Train Loss: 0.0695, Train Acc: 0.9774\n",
      "Val Loss: 0.0834, Val Acc: 0.9720\n",
      "EarlyStopping counter: 2 out of 5\n",
      "Epoch 8 of 50\n"
     ]
    },
    {
     "name": "stderr",
     "output_type": "stream",
     "text": [
      "100%|███████████████████████████████████████████████████████████| 1333/1333 [00:13<00:00, 96.47it/s]\n",
      "100%|█████████████████████████████████████████████████████████████| 149/149 [00:03<00:00, 41.88it/s]\n"
     ]
    },
    {
     "name": "stdout",
     "output_type": "stream",
     "text": [
      "Train Loss: 0.0666, Train Acc: 0.9784\n",
      "Val Loss: 0.0805, Val Acc: 0.9741\n",
      "Validation loss decreased (0.081441 --> 0.080457).  Saving model ...\n",
      "../az_model/model/best_model_epoch_8.pt\n",
      "../az_model/opt/best_optimizer_epoch_8.pt\n",
      "Epoch 9 of 50\n"
     ]
    },
    {
     "name": "stderr",
     "output_type": "stream",
     "text": [
      "100%|██████████████████████████████████████████████████████████| 1333/1333 [00:12<00:00, 102.64it/s]\n",
      "100%|████████████████████████████████████████████████████████████| 149/149 [00:01<00:00, 117.63it/s]\n"
     ]
    },
    {
     "name": "stdout",
     "output_type": "stream",
     "text": [
      "Train Loss: 0.0636, Train Acc: 0.9793\n",
      "Val Loss: 0.0870, Val Acc: 0.9727\n",
      "EarlyStopping counter: 1 out of 5\n",
      "Epoch 10 of 50\n"
     ]
    },
    {
     "name": "stderr",
     "output_type": "stream",
     "text": [
      "100%|███████████████████████████████████████████████████████████| 1333/1333 [00:15<00:00, 86.92it/s]\n",
      "100%|████████████████████████████████████████████████████████████| 149/149 [00:01<00:00, 112.80it/s]\n"
     ]
    },
    {
     "name": "stdout",
     "output_type": "stream",
     "text": [
      "Train Loss: 0.0609, Train Acc: 0.9802\n",
      "Val Loss: 0.0839, Val Acc: 0.9732\n",
      "EarlyStopping counter: 2 out of 5\n",
      "Epoch 11 of 50\n"
     ]
    },
    {
     "name": "stderr",
     "output_type": "stream",
     "text": [
      "100%|███████████████████████████████████████████████████████████| 1333/1333 [00:14<00:00, 95.02it/s]\n",
      "100%|████████████████████████████████████████████████████████████| 149/149 [00:01<00:00, 103.36it/s]\n"
     ]
    },
    {
     "name": "stdout",
     "output_type": "stream",
     "text": [
      "Train Loss: 0.0591, Train Acc: 0.9809\n",
      "Val Loss: 0.0798, Val Acc: 0.9759\n",
      "Validation loss decreased (0.080457 --> 0.079839).  Saving model ...\n",
      "../az_model/model/best_model_epoch_11.pt\n",
      "../az_model/opt/best_optimizer_epoch_11.pt\n",
      "Epoch 12 of 50\n"
     ]
    },
    {
     "name": "stderr",
     "output_type": "stream",
     "text": [
      "100%|███████████████████████████████████████████████████████████| 1333/1333 [00:14<00:00, 94.61it/s]\n",
      "100%|████████████████████████████████████████████████████████████| 149/149 [00:01<00:00, 105.48it/s]\n"
     ]
    },
    {
     "name": "stdout",
     "output_type": "stream",
     "text": [
      "Train Loss: 0.0577, Train Acc: 0.9814\n",
      "Val Loss: 0.0789, Val Acc: 0.9756\n",
      "Validation loss decreased (0.079839 --> 0.078930).  Saving model ...\n",
      "../az_model/model/best_model_epoch_12.pt\n",
      "../az_model/opt/best_optimizer_epoch_12.pt\n",
      "Epoch 13 of 50\n"
     ]
    },
    {
     "name": "stderr",
     "output_type": "stream",
     "text": [
      "100%|███████████████████████████████████████████████████████████| 1333/1333 [00:18<00:00, 70.63it/s]\n",
      "100%|████████████████████████████████████████████████████████████| 149/149 [00:01<00:00, 105.93it/s]\n"
     ]
    },
    {
     "name": "stdout",
     "output_type": "stream",
     "text": [
      "Train Loss: 0.0561, Train Acc: 0.9821\n",
      "Val Loss: 0.0852, Val Acc: 0.9745\n",
      "EarlyStopping counter: 1 out of 5\n",
      "Epoch 14 of 50\n"
     ]
    },
    {
     "name": "stderr",
     "output_type": "stream",
     "text": [
      "100%|███████████████████████████████████████████████████████████| 1333/1333 [00:14<00:00, 92.96it/s]\n",
      "100%|████████████████████████████████████████████████████████████| 149/149 [00:01<00:00, 119.16it/s]\n"
     ]
    },
    {
     "name": "stdout",
     "output_type": "stream",
     "text": [
      "Train Loss: 0.0548, Train Acc: 0.9824\n",
      "Val Loss: 0.0877, Val Acc: 0.9735\n",
      "EarlyStopping counter: 2 out of 5\n",
      "Epoch 15 of 50\n"
     ]
    },
    {
     "name": "stderr",
     "output_type": "stream",
     "text": [
      "100%|███████████████████████████████████████████████████████████| 1333/1333 [00:15<00:00, 87.55it/s]\n",
      "100%|████████████████████████████████████████████████████████████| 149/149 [00:01<00:00, 126.48it/s]\n"
     ]
    },
    {
     "name": "stdout",
     "output_type": "stream",
     "text": [
      "Train Loss: 0.0528, Train Acc: 0.9829\n",
      "Val Loss: 0.0808, Val Acc: 0.9762\n",
      "EarlyStopping counter: 3 out of 5\n",
      "Epoch 16 of 50\n"
     ]
    },
    {
     "name": "stderr",
     "output_type": "stream",
     "text": [
      "100%|███████████████████████████████████████████████████████████| 1333/1333 [00:14<00:00, 91.26it/s]\n",
      "100%|████████████████████████████████████████████████████████████| 149/149 [00:01<00:00, 123.54it/s]\n"
     ]
    },
    {
     "name": "stdout",
     "output_type": "stream",
     "text": [
      "Train Loss: 0.0515, Train Acc: 0.9835\n",
      "Val Loss: 0.0791, Val Acc: 0.9758\n",
      "EarlyStopping counter: 4 out of 5\n",
      "Epoch 17 of 50\n"
     ]
    },
    {
     "name": "stderr",
     "output_type": "stream",
     "text": [
      "100%|███████████████████████████████████████████████████████████| 1333/1333 [00:14<00:00, 94.09it/s]\n",
      "100%|████████████████████████████████████████████████████████████| 149/149 [00:01<00:00, 129.29it/s]\n"
     ]
    },
    {
     "name": "stdout",
     "output_type": "stream",
     "text": [
      "Train Loss: 0.0508, Train Acc: 0.9838\n",
      "Val Loss: 0.0825, Val Acc: 0.9760\n",
      "EarlyStopping counter: 5 out of 5\n",
      "Early stopping\n",
      "Training time: 4.559 minutes\n",
      "Elapsed time 4.5697240948677065 mins.\n",
      "loading best model ../az_model/model/best_model_epoch_12.pt\n",
      "loading best optimizer ../az_model/opt/best_optimizer_epoch_12.pt\n"
     ]
    },
    {
     "name": "stderr",
     "output_type": "stream",
     "text": [
      "100%|█████████████████████████████████████████████████████████████| 149/149 [00:01<00:00, 89.28it/s]\n"
     ]
    },
    {
     "name": "stdout",
     "output_type": "stream",
     "text": [
      "test accuracy 0.9663206094863431 and ROC-AUC 0.9663466237092917\n",
      "\n",
      "Torch 2.0.1 CUDA 11.8\n",
      "Model has 2.525953m parameters\n",
      "X_train (682598, 1789) Y_train (682598,)\n",
      "X_test (75848, 1789) Y_test (75848,)\n",
      "Epoch 1 of 50\n"
     ]
    },
    {
     "name": "stderr",
     "output_type": "stream",
     "text": [
      "100%|███████████████████████████████████████████████████████████| 1333/1333 [00:18<00:00, 72.66it/s]\n",
      "100%|████████████████████████████████████████████████████████████| 149/149 [00:01<00:00, 116.65it/s]\n"
     ]
    },
    {
     "name": "stdout",
     "output_type": "stream",
     "text": [
      "Train Loss: 0.1425, Train Acc: 0.9497\n",
      "Val Loss: 0.1125, Val Acc: 0.9601\n",
      "Validation loss decreased (inf --> 0.112479).  Saving model ...\n",
      "../az_model/model/best_model_epoch_1.pt\n",
      "../az_model/opt/best_optimizer_epoch_1.pt\n",
      "Epoch 2 of 50\n"
     ]
    },
    {
     "name": "stderr",
     "output_type": "stream",
     "text": [
      "100%|███████████████████████████████████████████████████████████| 1333/1333 [00:15<00:00, 85.47it/s]\n",
      "100%|█████████████████████████████████████████████████████████████| 149/149 [00:03<00:00, 40.85it/s]\n"
     ]
    },
    {
     "name": "stdout",
     "output_type": "stream",
     "text": [
      "Train Loss: 0.1063, Train Acc: 0.9637\n",
      "Val Loss: 0.1029, Val Acc: 0.9612\n",
      "Validation loss decreased (0.112479 --> 0.102903).  Saving model ...\n",
      "../az_model/model/best_model_epoch_2.pt\n",
      "../az_model/opt/best_optimizer_epoch_2.pt\n",
      "Epoch 3 of 50\n"
     ]
    },
    {
     "name": "stderr",
     "output_type": "stream",
     "text": [
      "100%|███████████████████████████████████████████████████████████| 1333/1333 [00:14<00:00, 91.04it/s]\n",
      "100%|████████████████████████████████████████████████████████████| 149/149 [00:01<00:00, 114.00it/s]\n"
     ]
    },
    {
     "name": "stdout",
     "output_type": "stream",
     "text": [
      "Train Loss: 0.0928, Train Acc: 0.9688\n",
      "Val Loss: 0.0893, Val Acc: 0.9688\n",
      "Validation loss decreased (0.102903 --> 0.089338).  Saving model ...\n",
      "../az_model/model/best_model_epoch_3.pt\n",
      "../az_model/opt/best_optimizer_epoch_3.pt\n",
      "Epoch 4 of 50\n"
     ]
    },
    {
     "name": "stderr",
     "output_type": "stream",
     "text": [
      "100%|██████████████████████████████████████████████████████████| 1333/1333 [00:12<00:00, 110.57it/s]\n",
      "100%|████████████████████████████████████████████████████████████| 149/149 [00:01<00:00, 126.40it/s]\n"
     ]
    },
    {
     "name": "stdout",
     "output_type": "stream",
     "text": [
      "Train Loss: 0.0848, Train Acc: 0.9717\n",
      "Val Loss: 0.0923, Val Acc: 0.9674\n",
      "EarlyStopping counter: 1 out of 5\n",
      "Epoch 5 of 50\n"
     ]
    },
    {
     "name": "stderr",
     "output_type": "stream",
     "text": [
      "100%|███████████████████████████████████████████████████████████| 1333/1333 [00:16<00:00, 82.15it/s]\n",
      "100%|████████████████████████████████████████████████████████████| 149/149 [00:01<00:00, 131.16it/s]\n"
     ]
    },
    {
     "name": "stdout",
     "output_type": "stream",
     "text": [
      "Train Loss: 0.0779, Train Acc: 0.9744\n",
      "Val Loss: 0.0877, Val Acc: 0.9704\n",
      "Validation loss decreased (0.089338 --> 0.087662).  Saving model ...\n",
      "../az_model/model/best_model_epoch_5.pt\n",
      "../az_model/opt/best_optimizer_epoch_5.pt\n",
      "Epoch 6 of 50\n"
     ]
    },
    {
     "name": "stderr",
     "output_type": "stream",
     "text": [
      "100%|██████████████████████████████████████████████████████████| 1333/1333 [00:11<00:00, 111.41it/s]\n",
      "100%|████████████████████████████████████████████████████████████| 149/149 [00:01<00:00, 131.11it/s]\n"
     ]
    },
    {
     "name": "stdout",
     "output_type": "stream",
     "text": [
      "Train Loss: 0.0732, Train Acc: 0.9758\n",
      "Val Loss: 0.0820, Val Acc: 0.9722\n",
      "Validation loss decreased (0.087662 --> 0.082025).  Saving model ...\n",
      "../az_model/model/best_model_epoch_6.pt\n",
      "../az_model/opt/best_optimizer_epoch_6.pt\n",
      "Epoch 7 of 50\n"
     ]
    },
    {
     "name": "stderr",
     "output_type": "stream",
     "text": [
      "100%|███████████████████████████████████████████████████████████| 1333/1333 [00:13<00:00, 95.93it/s]\n",
      "100%|████████████████████████████████████████████████████████████| 149/149 [00:01<00:00, 130.83it/s]\n"
     ]
    },
    {
     "name": "stdout",
     "output_type": "stream",
     "text": [
      "Train Loss: 0.0698, Train Acc: 0.9770\n",
      "Val Loss: 0.0837, Val Acc: 0.9721\n",
      "EarlyStopping counter: 1 out of 5\n",
      "Epoch 8 of 50\n"
     ]
    },
    {
     "name": "stderr",
     "output_type": "stream",
     "text": [
      "100%|███████████████████████████████████████████████████████████| 1333/1333 [00:13<00:00, 95.73it/s]\n",
      "100%|████████████████████████████████████████████████████████████| 149/149 [00:01<00:00, 117.05it/s]\n"
     ]
    },
    {
     "name": "stdout",
     "output_type": "stream",
     "text": [
      "Train Loss: 0.0662, Train Acc: 0.9783\n",
      "Val Loss: 0.0828, Val Acc: 0.9722\n",
      "EarlyStopping counter: 2 out of 5\n",
      "Epoch 9 of 50\n"
     ]
    },
    {
     "name": "stderr",
     "output_type": "stream",
     "text": [
      "100%|██████████████████████████████████████████████████████████| 1333/1333 [00:13<00:00, 100.47it/s]\n",
      "100%|████████████████████████████████████████████████████████████| 149/149 [00:01<00:00, 132.44it/s]\n"
     ]
    },
    {
     "name": "stdout",
     "output_type": "stream",
     "text": [
      "Train Loss: 0.0633, Train Acc: 0.9794\n",
      "Val Loss: 0.0847, Val Acc: 0.9725\n",
      "EarlyStopping counter: 3 out of 5\n",
      "Epoch 10 of 50\n"
     ]
    },
    {
     "name": "stderr",
     "output_type": "stream",
     "text": [
      "100%|███████████████████████████████████████████████████████████| 1333/1333 [00:14<00:00, 93.99it/s]\n",
      "100%|████████████████████████████████████████████████████████████| 149/149 [00:01<00:00, 105.23it/s]\n"
     ]
    },
    {
     "name": "stdout",
     "output_type": "stream",
     "text": [
      "Train Loss: 0.0614, Train Acc: 0.9801\n",
      "Val Loss: 0.0855, Val Acc: 0.9739\n",
      "EarlyStopping counter: 4 out of 5\n",
      "Epoch 11 of 50\n"
     ]
    },
    {
     "name": "stderr",
     "output_type": "stream",
     "text": [
      "100%|███████████████████████████████████████████████████████████| 1333/1333 [00:14<00:00, 90.60it/s]\n",
      "100%|████████████████████████████████████████████████████████████| 149/149 [00:01<00:00, 116.05it/s]\n"
     ]
    },
    {
     "name": "stdout",
     "output_type": "stream",
     "text": [
      "Train Loss: 0.0588, Train Acc: 0.9812\n",
      "Val Loss: 0.0804, Val Acc: 0.9747\n",
      "Validation loss decreased (0.082025 --> 0.080406).  Saving model ...\n",
      "../az_model/model/best_model_epoch_11.pt\n",
      "../az_model/opt/best_optimizer_epoch_11.pt\n",
      "Epoch 12 of 50\n"
     ]
    },
    {
     "name": "stderr",
     "output_type": "stream",
     "text": [
      "100%|███████████████████████████████████████████████████████████| 1333/1333 [00:18<00:00, 72.97it/s]\n",
      "100%|████████████████████████████████████████████████████████████| 149/149 [00:01<00:00, 132.91it/s]\n"
     ]
    },
    {
     "name": "stdout",
     "output_type": "stream",
     "text": [
      "Train Loss: 0.0573, Train Acc: 0.9814\n",
      "Val Loss: 0.0844, Val Acc: 0.9732\n",
      "EarlyStopping counter: 1 out of 5\n",
      "Epoch 13 of 50\n"
     ]
    },
    {
     "name": "stderr",
     "output_type": "stream",
     "text": [
      "100%|███████████████████████████████████████████████████████████| 1333/1333 [00:13<00:00, 99.53it/s]\n",
      "100%|████████████████████████████████████████████████████████████| 149/149 [00:01<00:00, 138.44it/s]\n"
     ]
    },
    {
     "name": "stdout",
     "output_type": "stream",
     "text": [
      "Train Loss: 0.0558, Train Acc: 0.9821\n",
      "Val Loss: 0.0780, Val Acc: 0.9756\n",
      "Validation loss decreased (0.080406 --> 0.077983).  Saving model ...\n",
      "../az_model/model/best_model_epoch_13.pt\n",
      "../az_model/opt/best_optimizer_epoch_13.pt\n",
      "Epoch 14 of 50\n"
     ]
    },
    {
     "name": "stderr",
     "output_type": "stream",
     "text": [
      "100%|███████████████████████████████████████████████████████████| 1333/1333 [00:16<00:00, 82.76it/s]\n",
      "100%|█████████████████████████████████████████████████████████████| 149/149 [00:03<00:00, 41.80it/s]\n"
     ]
    },
    {
     "name": "stdout",
     "output_type": "stream",
     "text": [
      "Train Loss: 0.0538, Train Acc: 0.9827\n",
      "Val Loss: 0.0837, Val Acc: 0.9745\n",
      "EarlyStopping counter: 1 out of 5\n",
      "Epoch 15 of 50\n"
     ]
    },
    {
     "name": "stderr",
     "output_type": "stream",
     "text": [
      "100%|██████████████████████████████████████████████████████████| 1333/1333 [00:11<00:00, 119.40it/s]\n",
      "100%|████████████████████████████████████████████████████████████| 149/149 [00:01<00:00, 130.85it/s]\n"
     ]
    },
    {
     "name": "stdout",
     "output_type": "stream",
     "text": [
      "Train Loss: 0.0531, Train Acc: 0.9829\n",
      "Val Loss: 0.0829, Val Acc: 0.9747\n",
      "EarlyStopping counter: 2 out of 5\n",
      "Epoch 16 of 50\n"
     ]
    },
    {
     "name": "stderr",
     "output_type": "stream",
     "text": [
      "100%|███████████████████████████████████████████████████████████| 1333/1333 [00:15<00:00, 87.24it/s]\n",
      "100%|████████████████████████████████████████████████████████████| 149/149 [00:01<00:00, 103.79it/s]\n"
     ]
    },
    {
     "name": "stdout",
     "output_type": "stream",
     "text": [
      "Train Loss: 0.0517, Train Acc: 0.9833\n",
      "Val Loss: 0.0830, Val Acc: 0.9756\n",
      "EarlyStopping counter: 3 out of 5\n",
      "Epoch 17 of 50\n"
     ]
    },
    {
     "name": "stderr",
     "output_type": "stream",
     "text": [
      "100%|██████████████████████████████████████████████████████████| 1333/1333 [00:12<00:00, 105.14it/s]\n",
      "100%|████████████████████████████████████████████████████████████| 149/149 [00:01<00:00, 138.82it/s]\n"
     ]
    },
    {
     "name": "stdout",
     "output_type": "stream",
     "text": [
      "Train Loss: 0.0503, Train Acc: 0.9839\n",
      "Val Loss: 0.0768, Val Acc: 0.9772\n",
      "Validation loss decreased (0.077983 --> 0.076823).  Saving model ...\n",
      "../az_model/model/best_model_epoch_17.pt\n",
      "../az_model/opt/best_optimizer_epoch_17.pt\n",
      "Epoch 18 of 50\n"
     ]
    },
    {
     "name": "stderr",
     "output_type": "stream",
     "text": [
      "100%|██████████████████████████████████████████████████████████| 1333/1333 [00:11<00:00, 116.07it/s]\n",
      "100%|████████████████████████████████████████████████████████████| 149/149 [00:01<00:00, 137.86it/s]\n"
     ]
    },
    {
     "name": "stdout",
     "output_type": "stream",
     "text": [
      "Train Loss: 0.0498, Train Acc: 0.9840\n",
      "Val Loss: 0.0773, Val Acc: 0.9767\n",
      "EarlyStopping counter: 1 out of 5\n",
      "Epoch 19 of 50\n"
     ]
    },
    {
     "name": "stderr",
     "output_type": "stream",
     "text": [
      "100%|███████████████████████████████████████████████████████████| 1333/1333 [00:13<00:00, 95.45it/s]\n",
      "100%|████████████████████████████████████████████████████████████| 149/149 [00:01<00:00, 128.71it/s]\n"
     ]
    },
    {
     "name": "stdout",
     "output_type": "stream",
     "text": [
      "Train Loss: 0.0495, Train Acc: 0.9841\n",
      "Val Loss: 0.0826, Val Acc: 0.9756\n",
      "EarlyStopping counter: 2 out of 5\n",
      "Epoch 20 of 50\n"
     ]
    },
    {
     "name": "stderr",
     "output_type": "stream",
     "text": [
      "100%|███████████████████████████████████████████████████████████| 1333/1333 [00:13<00:00, 95.68it/s]\n",
      "100%|████████████████████████████████████████████████████████████| 149/149 [00:01<00:00, 126.02it/s]\n"
     ]
    },
    {
     "name": "stdout",
     "output_type": "stream",
     "text": [
      "Train Loss: 0.0476, Train Acc: 0.9848\n",
      "Val Loss: 0.0840, Val Acc: 0.9767\n",
      "EarlyStopping counter: 3 out of 5\n",
      "Epoch 21 of 50\n"
     ]
    },
    {
     "name": "stderr",
     "output_type": "stream",
     "text": [
      "100%|███████████████████████████████████████████████████████████| 1333/1333 [00:13<00:00, 96.80it/s]\n",
      "100%|████████████████████████████████████████████████████████████| 149/149 [00:01<00:00, 130.26it/s]\n"
     ]
    },
    {
     "name": "stdout",
     "output_type": "stream",
     "text": [
      "Train Loss: 0.0475, Train Acc: 0.9850\n",
      "Val Loss: 0.0792, Val Acc: 0.9769\n",
      "EarlyStopping counter: 4 out of 5\n",
      "Epoch 22 of 50\n"
     ]
    },
    {
     "name": "stderr",
     "output_type": "stream",
     "text": [
      "100%|███████████████████████████████████████████████████████████| 1333/1333 [00:14<00:00, 95.09it/s]\n",
      "100%|████████████████████████████████████████████████████████████| 149/149 [00:01<00:00, 135.49it/s]\n"
     ]
    },
    {
     "name": "stdout",
     "output_type": "stream",
     "text": [
      "Train Loss: 0.0465, Train Acc: 0.9849\n",
      "Val Loss: 0.0857, Val Acc: 0.9763\n",
      "EarlyStopping counter: 5 out of 5\n",
      "Early stopping\n",
      "Training time: 5.743 minutes\n",
      "Elapsed time 5.753209495544434 mins.\n",
      "loading best model ../az_model/model/best_model_epoch_17.pt\n",
      "loading best optimizer ../az_model/opt/best_optimizer_epoch_17.pt\n"
     ]
    },
    {
     "name": "stderr",
     "output_type": "stream",
     "text": [
      "100%|█████████████████████████████████████████████████████████████| 149/149 [00:01<00:00, 84.66it/s]\n"
     ]
    },
    {
     "name": "stdout",
     "output_type": "stream",
     "text": [
      "test accuracy 0.9637776145199001 and ROC-AUC 0.9637559610450379\n",
      "\n",
      "Torch 2.0.1 CUDA 11.8\n",
      "Model has 2.525953m parameters\n",
      "X_train (682598, 1789) Y_train (682598,)\n",
      "X_test (75848, 1789) Y_test (75848,)\n",
      "Epoch 1 of 50\n"
     ]
    },
    {
     "name": "stderr",
     "output_type": "stream",
     "text": [
      "100%|███████████████████████████████████████████████████████████| 1333/1333 [00:13<00:00, 98.09it/s]\n",
      "100%|████████████████████████████████████████████████████████████| 149/149 [00:01<00:00, 123.35it/s]\n"
     ]
    },
    {
     "name": "stdout",
     "output_type": "stream",
     "text": [
      "Train Loss: 0.1426, Train Acc: 0.9496\n",
      "Val Loss: 0.1098, Val Acc: 0.9620\n",
      "Validation loss decreased (inf --> 0.109792).  Saving model ...\n",
      "../az_model/model/best_model_epoch_1.pt\n",
      "../az_model/opt/best_optimizer_epoch_1.pt\n",
      "Epoch 2 of 50\n"
     ]
    },
    {
     "name": "stderr",
     "output_type": "stream",
     "text": [
      "100%|███████████████████████████████████████████████████████████| 1333/1333 [00:14<00:00, 91.70it/s]\n",
      "100%|████████████████████████████████████████████████████████████| 149/149 [00:01<00:00, 125.81it/s]\n"
     ]
    },
    {
     "name": "stdout",
     "output_type": "stream",
     "text": [
      "Train Loss: 0.1069, Train Acc: 0.9637\n",
      "Val Loss: 0.0907, Val Acc: 0.9683\n",
      "Validation loss decreased (0.109792 --> 0.090670).  Saving model ...\n",
      "../az_model/model/best_model_epoch_2.pt\n",
      "../az_model/opt/best_optimizer_epoch_2.pt\n",
      "Epoch 3 of 50\n"
     ]
    },
    {
     "name": "stderr",
     "output_type": "stream",
     "text": [
      "100%|███████████████████████████████████████████████████████████| 1333/1333 [00:15<00:00, 85.23it/s]\n",
      "100%|█████████████████████████████████████████████████████████████| 149/149 [00:04<00:00, 36.16it/s]\n"
     ]
    },
    {
     "name": "stdout",
     "output_type": "stream",
     "text": [
      "Train Loss: 0.0937, Train Acc: 0.9685\n",
      "Val Loss: 0.0888, Val Acc: 0.9683\n",
      "Validation loss decreased (0.090670 --> 0.088757).  Saving model ...\n",
      "../az_model/model/best_model_epoch_3.pt\n",
      "../az_model/opt/best_optimizer_epoch_3.pt\n",
      "Epoch 4 of 50\n"
     ]
    },
    {
     "name": "stderr",
     "output_type": "stream",
     "text": [
      "100%|███████████████████████████████████████████████████████████| 1333/1333 [00:15<00:00, 84.49it/s]\n",
      "100%|████████████████████████████████████████████████████████████| 149/149 [00:01<00:00, 121.01it/s]\n"
     ]
    },
    {
     "name": "stdout",
     "output_type": "stream",
     "text": [
      "Train Loss: 0.0842, Train Acc: 0.9717\n",
      "Val Loss: 0.0872, Val Acc: 0.9682\n",
      "Validation loss decreased (0.088757 --> 0.087212).  Saving model ...\n",
      "../az_model/model/best_model_epoch_4.pt\n",
      "../az_model/opt/best_optimizer_epoch_4.pt\n",
      "Epoch 5 of 50\n"
     ]
    },
    {
     "name": "stderr",
     "output_type": "stream",
     "text": [
      "100%|██████████████████████████████████████████████████████████| 1333/1333 [00:12<00:00, 110.14it/s]\n",
      "100%|████████████████████████████████████████████████████████████| 149/149 [00:01<00:00, 124.49it/s]\n"
     ]
    },
    {
     "name": "stdout",
     "output_type": "stream",
     "text": [
      "Train Loss: 0.0781, Train Acc: 0.9740\n",
      "Val Loss: 0.0812, Val Acc: 0.9722\n",
      "Validation loss decreased (0.087212 --> 0.081240).  Saving model ...\n",
      "../az_model/model/best_model_epoch_5.pt\n",
      "../az_model/opt/best_optimizer_epoch_5.pt\n",
      "Epoch 6 of 50\n"
     ]
    },
    {
     "name": "stderr",
     "output_type": "stream",
     "text": [
      "100%|███████████████████████████████████████████████████████████| 1333/1333 [00:14<00:00, 94.39it/s]\n",
      "100%|████████████████████████████████████████████████████████████| 149/149 [00:01<00:00, 130.67it/s]\n"
     ]
    },
    {
     "name": "stdout",
     "output_type": "stream",
     "text": [
      "Train Loss: 0.0728, Train Acc: 0.9761\n",
      "Val Loss: 0.0896, Val Acc: 0.9711\n",
      "EarlyStopping counter: 1 out of 5\n",
      "Epoch 7 of 50\n"
     ]
    },
    {
     "name": "stderr",
     "output_type": "stream",
     "text": [
      "100%|██████████████████████████████████████████████████████████| 1333/1333 [00:12<00:00, 110.91it/s]\n",
      "100%|████████████████████████████████████████████████████████████| 149/149 [00:01<00:00, 131.04it/s]\n"
     ]
    },
    {
     "name": "stdout",
     "output_type": "stream",
     "text": [
      "Train Loss: 0.0694, Train Acc: 0.9773\n",
      "Val Loss: 0.0835, Val Acc: 0.9717\n",
      "EarlyStopping counter: 2 out of 5\n",
      "Epoch 8 of 50\n"
     ]
    },
    {
     "name": "stderr",
     "output_type": "stream",
     "text": [
      "100%|███████████████████████████████████████████████████████████| 1333/1333 [00:14<00:00, 94.20it/s]\n",
      "100%|████████████████████████████████████████████████████████████| 149/149 [00:01<00:00, 132.35it/s]\n"
     ]
    },
    {
     "name": "stdout",
     "output_type": "stream",
     "text": [
      "Train Loss: 0.0657, Train Acc: 0.9788\n",
      "Val Loss: 0.0890, Val Acc: 0.9710\n",
      "EarlyStopping counter: 3 out of 5\n",
      "Epoch 9 of 50\n"
     ]
    },
    {
     "name": "stderr",
     "output_type": "stream",
     "text": [
      "100%|███████████████████████████████████████████████████████████| 1333/1333 [00:14<00:00, 93.52it/s]\n",
      "100%|████████████████████████████████████████████████████████████| 149/149 [00:01<00:00, 131.42it/s]\n"
     ]
    },
    {
     "name": "stdout",
     "output_type": "stream",
     "text": [
      "Train Loss: 0.0627, Train Acc: 0.9797\n",
      "Val Loss: 0.0812, Val Acc: 0.9731\n",
      "Validation loss decreased (0.081240 --> 0.081237).  Saving model ...\n",
      "../az_model/model/best_model_epoch_9.pt\n",
      "../az_model/opt/best_optimizer_epoch_9.pt\n",
      "Epoch 10 of 50\n"
     ]
    },
    {
     "name": "stderr",
     "output_type": "stream",
     "text": [
      "100%|███████████████████████████████████████████████████████████| 1333/1333 [00:13<00:00, 95.33it/s]\n",
      "100%|████████████████████████████████████████████████████████████| 149/149 [00:01<00:00, 129.04it/s]\n"
     ]
    },
    {
     "name": "stdout",
     "output_type": "stream",
     "text": [
      "Train Loss: 0.0614, Train Acc: 0.9803\n",
      "Val Loss: 0.0823, Val Acc: 0.9733\n",
      "EarlyStopping counter: 1 out of 5\n",
      "Epoch 11 of 50\n"
     ]
    },
    {
     "name": "stderr",
     "output_type": "stream",
     "text": [
      "100%|███████████████████████████████████████████████████████████| 1333/1333 [00:13<00:00, 96.01it/s]\n",
      "100%|████████████████████████████████████████████████████████████| 149/149 [00:01<00:00, 132.74it/s]\n"
     ]
    },
    {
     "name": "stdout",
     "output_type": "stream",
     "text": [
      "Train Loss: 0.0592, Train Acc: 0.9810\n",
      "Val Loss: 0.0810, Val Acc: 0.9754\n",
      "Validation loss decreased (0.081237 --> 0.081002).  Saving model ...\n",
      "../az_model/model/best_model_epoch_11.pt\n",
      "../az_model/opt/best_optimizer_epoch_11.pt\n",
      "Epoch 12 of 50\n"
     ]
    },
    {
     "name": "stderr",
     "output_type": "stream",
     "text": [
      "100%|███████████████████████████████████████████████████████████| 1333/1333 [00:14<00:00, 94.94it/s]\n",
      "100%|████████████████████████████████████████████████████████████| 149/149 [00:01<00:00, 138.75it/s]\n"
     ]
    },
    {
     "name": "stdout",
     "output_type": "stream",
     "text": [
      "Train Loss: 0.0584, Train Acc: 0.9812\n",
      "Val Loss: 0.0823, Val Acc: 0.9742\n",
      "EarlyStopping counter: 1 out of 5\n",
      "Epoch 13 of 50\n"
     ]
    },
    {
     "name": "stderr",
     "output_type": "stream",
     "text": [
      "100%|███████████████████████████████████████████████████████████| 1333/1333 [00:13<00:00, 97.08it/s]\n",
      "100%|████████████████████████████████████████████████████████████| 149/149 [00:01<00:00, 131.45it/s]\n"
     ]
    },
    {
     "name": "stdout",
     "output_type": "stream",
     "text": [
      "Train Loss: 0.0557, Train Acc: 0.9820\n",
      "Val Loss: 0.0797, Val Acc: 0.9751\n",
      "Validation loss decreased (0.081002 --> 0.079722).  Saving model ...\n",
      "../az_model/model/best_model_epoch_13.pt\n",
      "../az_model/opt/best_optimizer_epoch_13.pt\n",
      "Epoch 14 of 50\n"
     ]
    },
    {
     "name": "stderr",
     "output_type": "stream",
     "text": [
      "100%|███████████████████████████████████████████████████████████| 1333/1333 [00:14<00:00, 94.51it/s]\n",
      "100%|█████████████████████████████████████████████████████████████| 149/149 [00:03<00:00, 43.07it/s]\n"
     ]
    },
    {
     "name": "stdout",
     "output_type": "stream",
     "text": [
      "Train Loss: 0.0546, Train Acc: 0.9824\n",
      "Val Loss: 0.0857, Val Acc: 0.9738\n",
      "EarlyStopping counter: 1 out of 5\n",
      "Epoch 15 of 50\n"
     ]
    },
    {
     "name": "stderr",
     "output_type": "stream",
     "text": [
      "100%|███████████████████████████████████████████████████████████| 1333/1333 [00:14<00:00, 94.85it/s]\n",
      "100%|████████████████████████████████████████████████████████████| 149/149 [00:01<00:00, 131.32it/s]\n"
     ]
    },
    {
     "name": "stdout",
     "output_type": "stream",
     "text": [
      "Train Loss: 0.0536, Train Acc: 0.9827\n",
      "Val Loss: 0.0799, Val Acc: 0.9752\n",
      "EarlyStopping counter: 2 out of 5\n",
      "Epoch 16 of 50\n"
     ]
    },
    {
     "name": "stderr",
     "output_type": "stream",
     "text": [
      "100%|███████████████████████████████████████████████████████████| 1333/1333 [00:15<00:00, 84.84it/s]\n",
      "100%|████████████████████████████████████████████████████████████| 149/149 [00:01<00:00, 129.04it/s]\n"
     ]
    },
    {
     "name": "stdout",
     "output_type": "stream",
     "text": [
      "Train Loss: 0.0522, Train Acc: 0.9830\n",
      "Val Loss: 0.0793, Val Acc: 0.9770\n",
      "Validation loss decreased (0.079722 --> 0.079334).  Saving model ...\n",
      "../az_model/model/best_model_epoch_16.pt\n",
      "../az_model/opt/best_optimizer_epoch_16.pt\n",
      "Epoch 17 of 50\n"
     ]
    },
    {
     "name": "stderr",
     "output_type": "stream",
     "text": [
      "100%|██████████████████████████████████████████████████████████| 1333/1333 [00:11<00:00, 113.76it/s]\n",
      "100%|████████████████████████████████████████████████████████████| 149/149 [00:01<00:00, 136.40it/s]\n"
     ]
    },
    {
     "name": "stdout",
     "output_type": "stream",
     "text": [
      "Train Loss: 0.0505, Train Acc: 0.9837\n",
      "Val Loss: 0.0812, Val Acc: 0.9761\n",
      "EarlyStopping counter: 1 out of 5\n",
      "Epoch 18 of 50\n"
     ]
    },
    {
     "name": "stderr",
     "output_type": "stream",
     "text": [
      "100%|███████████████████████████████████████████████████████████| 1333/1333 [00:14<00:00, 92.87it/s]\n",
      "100%|████████████████████████████████████████████████████████████| 149/149 [00:01<00:00, 116.02it/s]\n"
     ]
    },
    {
     "name": "stdout",
     "output_type": "stream",
     "text": [
      "Train Loss: 0.0492, Train Acc: 0.9842\n",
      "Val Loss: 0.0866, Val Acc: 0.9738\n",
      "EarlyStopping counter: 2 out of 5\n",
      "Epoch 19 of 50\n"
     ]
    },
    {
     "name": "stderr",
     "output_type": "stream",
     "text": [
      "100%|███████████████████████████████████████████████████████████| 1333/1333 [00:13<00:00, 96.76it/s]\n",
      "100%|████████████████████████████████████████████████████████████| 149/149 [00:01<00:00, 126.12it/s]\n"
     ]
    },
    {
     "name": "stdout",
     "output_type": "stream",
     "text": [
      "Train Loss: 0.0484, Train Acc: 0.9845\n",
      "Val Loss: 0.0861, Val Acc: 0.9756\n",
      "EarlyStopping counter: 3 out of 5\n",
      "Epoch 20 of 50\n"
     ]
    },
    {
     "name": "stderr",
     "output_type": "stream",
     "text": [
      "100%|███████████████████████████████████████████████████████████| 1333/1333 [00:13<00:00, 98.23it/s]\n",
      "100%|████████████████████████████████████████████████████████████| 149/149 [00:01<00:00, 135.74it/s]\n"
     ]
    },
    {
     "name": "stdout",
     "output_type": "stream",
     "text": [
      "Train Loss: 0.0478, Train Acc: 0.9847\n",
      "Val Loss: 0.0852, Val Acc: 0.9757\n",
      "EarlyStopping counter: 4 out of 5\n",
      "Epoch 21 of 50\n"
     ]
    },
    {
     "name": "stderr",
     "output_type": "stream",
     "text": [
      "100%|███████████████████████████████████████████████████████████| 1333/1333 [00:14<00:00, 94.75it/s]\n",
      "100%|████████████████████████████████████████████████████████████| 149/149 [00:01<00:00, 140.22it/s]\n"
     ]
    },
    {
     "name": "stdout",
     "output_type": "stream",
     "text": [
      "Train Loss: 0.0472, Train Acc: 0.9848\n",
      "Val Loss: 0.0809, Val Acc: 0.9759\n",
      "EarlyStopping counter: 5 out of 5\n",
      "Early stopping\n",
      "Training time: 5.391 minutes\n",
      "Elapsed time 5.401189128557841 mins.\n",
      "loading best model ../az_model/model/best_model_epoch_16.pt\n",
      "loading best optimizer ../az_model/opt/best_optimizer_epoch_16.pt\n"
     ]
    },
    {
     "name": "stderr",
     "output_type": "stream",
     "text": [
      "100%|████████████████████████████████████████████████████████████| 149/149 [00:01<00:00, 100.85it/s]\n"
     ]
    },
    {
     "name": "stdout",
     "output_type": "stream",
     "text": [
      "test accuracy 0.9627187616073045 and ROC-AUC 0.9625539957277439\n",
      "\n",
      "Torch 2.0.1 CUDA 11.8\n",
      "Model has 2.525953m parameters\n",
      "X_train (682598, 1789) Y_train (682598,)\n",
      "X_test (75848, 1789) Y_test (75848,)\n",
      "Epoch 1 of 50\n"
     ]
    },
    {
     "name": "stderr",
     "output_type": "stream",
     "text": [
      "100%|███████████████████████████████████████████████████████████| 1333/1333 [00:15<00:00, 87.93it/s]\n",
      "100%|████████████████████████████████████████████████████████████| 149/149 [00:01<00:00, 124.58it/s]\n"
     ]
    },
    {
     "name": "stdout",
     "output_type": "stream",
     "text": [
      "Train Loss: 0.1435, Train Acc: 0.9490\n",
      "Val Loss: 0.1072, Val Acc: 0.9601\n",
      "Validation loss decreased (inf --> 0.107239).  Saving model ...\n",
      "../az_model/model/best_model_epoch_1.pt\n",
      "../az_model/opt/best_optimizer_epoch_1.pt\n",
      "Epoch 2 of 50\n"
     ]
    },
    {
     "name": "stderr",
     "output_type": "stream",
     "text": [
      "100%|███████████████████████████████████████████████████████████| 1333/1333 [00:15<00:00, 85.50it/s]\n",
      "100%|████████████████████████████████████████████████████████████| 149/149 [00:01<00:00, 107.68it/s]\n"
     ]
    },
    {
     "name": "stdout",
     "output_type": "stream",
     "text": [
      "Train Loss: 0.1073, Train Acc: 0.9637\n",
      "Val Loss: 0.1002, Val Acc: 0.9645\n",
      "Validation loss decreased (0.107239 --> 0.100223).  Saving model ...\n",
      "../az_model/model/best_model_epoch_2.pt\n",
      "../az_model/opt/best_optimizer_epoch_2.pt\n",
      "Epoch 3 of 50\n"
     ]
    },
    {
     "name": "stderr",
     "output_type": "stream",
     "text": [
      "100%|███████████████████████████████████████████████████████████| 1333/1333 [00:14<00:00, 92.90it/s]\n",
      "100%|█████████████████████████████████████████████████████████████| 149/149 [00:06<00:00, 24.41it/s]\n"
     ]
    },
    {
     "name": "stdout",
     "output_type": "stream",
     "text": [
      "Train Loss: 0.0933, Train Acc: 0.9688\n",
      "Val Loss: 0.0863, Val Acc: 0.9692\n",
      "Validation loss decreased (0.100223 --> 0.086273).  Saving model ...\n",
      "../az_model/model/best_model_epoch_3.pt\n",
      "../az_model/opt/best_optimizer_epoch_3.pt\n",
      "Epoch 4 of 50\n"
     ]
    },
    {
     "name": "stderr",
     "output_type": "stream",
     "text": [
      "100%|███████████████████████████████████████████████████████████| 1333/1333 [00:15<00:00, 85.92it/s]\n",
      "100%|█████████████████████████████████████████████████████████████| 149/149 [00:01<00:00, 96.46it/s]\n"
     ]
    },
    {
     "name": "stdout",
     "output_type": "stream",
     "text": [
      "Train Loss: 0.0851, Train Acc: 0.9719\n",
      "Val Loss: 0.0808, Val Acc: 0.9709\n",
      "Validation loss decreased (0.086273 --> 0.080848).  Saving model ...\n",
      "../az_model/model/best_model_epoch_4.pt\n",
      "../az_model/opt/best_optimizer_epoch_4.pt\n",
      "Epoch 5 of 50\n"
     ]
    },
    {
     "name": "stderr",
     "output_type": "stream",
     "text": [
      "100%|██████████████████████████████████████████████████████████| 1333/1333 [00:11<00:00, 117.96it/s]\n",
      "100%|████████████████████████████████████████████████████████████| 149/149 [00:01<00:00, 106.45it/s]\n"
     ]
    },
    {
     "name": "stdout",
     "output_type": "stream",
     "text": [
      "Train Loss: 0.0779, Train Acc: 0.9741\n",
      "Val Loss: 0.0842, Val Acc: 0.9701\n",
      "EarlyStopping counter: 1 out of 5\n",
      "Epoch 6 of 50\n"
     ]
    },
    {
     "name": "stderr",
     "output_type": "stream",
     "text": [
      "100%|██████████████████████████████████████████████████████████| 1333/1333 [00:11<00:00, 118.18it/s]\n",
      "100%|█████████████████████████████████████████████████████████████| 149/149 [00:01<00:00, 97.83it/s]\n"
     ]
    },
    {
     "name": "stdout",
     "output_type": "stream",
     "text": [
      "Train Loss: 0.0732, Train Acc: 0.9759\n",
      "Val Loss: 0.0866, Val Acc: 0.9701\n",
      "EarlyStopping counter: 2 out of 5\n",
      "Epoch 7 of 50\n"
     ]
    },
    {
     "name": "stderr",
     "output_type": "stream",
     "text": [
      "100%|███████████████████████████████████████████████████████████| 1333/1333 [00:13<00:00, 96.33it/s]\n",
      "100%|████████████████████████████████████████████████████████████| 149/149 [00:01<00:00, 102.70it/s]\n"
     ]
    },
    {
     "name": "stdout",
     "output_type": "stream",
     "text": [
      "Train Loss: 0.0705, Train Acc: 0.9770\n",
      "Val Loss: 0.0893, Val Acc: 0.9695\n",
      "EarlyStopping counter: 3 out of 5\n",
      "Epoch 8 of 50\n"
     ]
    },
    {
     "name": "stderr",
     "output_type": "stream",
     "text": [
      "100%|███████████████████████████████████████████████████████████| 1333/1333 [00:16<00:00, 82.74it/s]\n",
      "100%|████████████████████████████████████████████████████████████| 149/149 [00:01<00:00, 103.74it/s]\n"
     ]
    },
    {
     "name": "stdout",
     "output_type": "stream",
     "text": [
      "Train Loss: 0.0663, Train Acc: 0.9783\n",
      "Val Loss: 0.0793, Val Acc: 0.9739\n",
      "Validation loss decreased (0.080848 --> 0.079345).  Saving model ...\n",
      "../az_model/model/best_model_epoch_8.pt\n",
      "../az_model/opt/best_optimizer_epoch_8.pt\n",
      "Epoch 9 of 50\n"
     ]
    },
    {
     "name": "stderr",
     "output_type": "stream",
     "text": [
      "100%|██████████████████████████████████████████████████████████| 1333/1333 [00:13<00:00, 100.05it/s]\n",
      "100%|████████████████████████████████████████████████████████████| 149/149 [00:01<00:00, 128.83it/s]\n"
     ]
    },
    {
     "name": "stdout",
     "output_type": "stream",
     "text": [
      "Train Loss: 0.0636, Train Acc: 0.9795\n",
      "Val Loss: 0.0815, Val Acc: 0.9732\n",
      "EarlyStopping counter: 1 out of 5\n",
      "Epoch 10 of 50\n"
     ]
    },
    {
     "name": "stderr",
     "output_type": "stream",
     "text": [
      "100%|███████████████████████████████████████████████████████████| 1333/1333 [00:14<00:00, 94.26it/s]\n",
      "100%|████████████████████████████████████████████████████████████| 149/149 [00:01<00:00, 128.86it/s]\n"
     ]
    },
    {
     "name": "stdout",
     "output_type": "stream",
     "text": [
      "Train Loss: 0.0614, Train Acc: 0.9800\n",
      "Val Loss: 0.0844, Val Acc: 0.9718\n",
      "EarlyStopping counter: 2 out of 5\n",
      "Epoch 11 of 50\n"
     ]
    },
    {
     "name": "stderr",
     "output_type": "stream",
     "text": [
      "100%|███████████████████████████████████████████████████████████| 1333/1333 [00:14<00:00, 93.27it/s]\n",
      "100%|████████████████████████████████████████████████████████████| 149/149 [00:01<00:00, 130.64it/s]\n"
     ]
    },
    {
     "name": "stdout",
     "output_type": "stream",
     "text": [
      "Train Loss: 0.0593, Train Acc: 0.9809\n",
      "Val Loss: 0.0853, Val Acc: 0.9732\n",
      "EarlyStopping counter: 3 out of 5\n",
      "Epoch 12 of 50\n"
     ]
    },
    {
     "name": "stderr",
     "output_type": "stream",
     "text": [
      "100%|██████████████████████████████████████████████████████████| 1333/1333 [00:13<00:00, 101.27it/s]\n",
      "100%|████████████████████████████████████████████████████████████| 149/149 [00:01<00:00, 138.17it/s]\n"
     ]
    },
    {
     "name": "stdout",
     "output_type": "stream",
     "text": [
      "Train Loss: 0.0565, Train Acc: 0.9816\n",
      "Val Loss: 0.0807, Val Acc: 0.9741\n",
      "EarlyStopping counter: 4 out of 5\n",
      "Epoch 13 of 50\n"
     ]
    },
    {
     "name": "stderr",
     "output_type": "stream",
     "text": [
      "100%|██████████████████████████████████████████████████████████| 1333/1333 [00:13<00:00, 100.91it/s]\n",
      "100%|████████████████████████████████████████████████████████████| 149/149 [00:01<00:00, 139.03it/s]\n"
     ]
    },
    {
     "name": "stdout",
     "output_type": "stream",
     "text": [
      "Train Loss: 0.0556, Train Acc: 0.9821\n",
      "Val Loss: 0.0817, Val Acc: 0.9747\n",
      "EarlyStopping counter: 5 out of 5\n",
      "Early stopping\n",
      "Training time: 3.390 minutes\n",
      "Elapsed time 3.399556557337443 mins.\n",
      "loading best model ../az_model/model/best_model_epoch_8.pt\n",
      "loading best optimizer ../az_model/opt/best_optimizer_epoch_8.pt\n"
     ]
    },
    {
     "name": "stderr",
     "output_type": "stream",
     "text": [
      "100%|█████████████████████████████████████████████████████████████| 149/149 [00:03<00:00, 39.76it/s]\n"
     ]
    },
    {
     "name": "stdout",
     "output_type": "stream",
     "text": [
      "test accuracy 0.9648393804594975 and ROC-AUC 0.9648528586693991\n",
      "\n"
     ]
    }
   ],
   "source": [
    "class Ember_MLP_Net(nn.Module):\n",
    "    def __init__(self, input_features):\n",
    "        super(Ember_MLP_Net, self).__init__()\n",
    "        \n",
    "        self.fc1 = nn.Linear(input_features, 1024)\n",
    "        self.fc1_bn = nn.BatchNorm1d(1024)\n",
    "        self.act1 = nn.ReLU()\n",
    "        self.fc1_drop = nn.Dropout(p=0.5)\n",
    "        \n",
    "        self.fc2 = nn.Linear(1024, 512)\n",
    "        self.fc2_bn = nn.BatchNorm1d(512)\n",
    "        self.act2 = nn.ReLU()\n",
    "        self.fc2_drop = nn.Dropout(p=0.5)\n",
    "        \n",
    "        self.fc3 = nn.Linear(512, 256)\n",
    "        self.fc3_bn = nn.BatchNorm1d(256)\n",
    "        self.act3 = nn.ReLU()\n",
    "        self.fc3_drop = nn.Dropout(p=0.5)        \n",
    "        \n",
    "        self.fc4 = nn.Linear(256, 128)\n",
    "        self.fc4_bn = nn.BatchNorm1d(128)\n",
    "        self.act4 = nn.ReLU()\n",
    "        self.fc4_drop = nn.Dropout(p=0.5)  \n",
    "        \n",
    "        self.fc_last = nn.Linear(128, 1) \n",
    "        self.out = nn.Sigmoid()\n",
    "        \n",
    "        #self.activate = nn.ReLU()\n",
    "\n",
    "    def forward(self, x):\n",
    "        x = x.view(x.size(0), -1)\n",
    "        #print(x.shape)\n",
    "        x = self.fc1(x)\n",
    "        x = self.fc1_bn(x)\n",
    "        x = self.act1(x) \n",
    "        x = self.fc1_drop(x)\n",
    "\n",
    "        x = self.fc2(x)\n",
    "        x = self.fc2_bn(x)\n",
    "        x = self.act2(x) \n",
    "        x = self.fc2_drop(x)\n",
    "        \n",
    "        x = self.fc3(x)\n",
    "        x = self.fc3_bn(x)\n",
    "        x = self.act3(x) \n",
    "        x = self.fc3_drop(x)\n",
    "        \n",
    "        x = self.fc4(x)\n",
    "        x = self.fc4_bn(x)\n",
    "        x = self.act4(x)\n",
    "        x = self.fc4_drop(x)\n",
    "        \n",
    "        x = self.fc_last(x)\n",
    "        x = self.out(x)\n",
    "        return x\n",
    "\n",
    "def testing_aucscore(model, X_test, Y_test, batch_size, device):\n",
    "    #X_te = torch.from_numpy(X_test).type(torch.FloatTensor)\n",
    "    #y_te = torch.from_numpy(Y_test).type(torch.FloatTensor) \n",
    "    \n",
    "    testloader = get_dataloader(X_test, Y_test, batch_size, train_data=False)   \n",
    "    \n",
    "    model.eval()\n",
    "    y_pred_list = []\n",
    "    y_true_list = []\n",
    "    test_acc = []\n",
    "    with torch.no_grad():\n",
    "        for x_batch, y_batch in tqdm(testloader):\n",
    "            x_batch, y_batch = x_batch.to(device), y_batch.to(device)\n",
    "            y_test_pred = model(x_batch)\n",
    "            tmp_test_acc = binary_acc(y_test_pred, y_batch)\n",
    "            test_acc.append(tmp_test_acc.item())\n",
    "            \n",
    "            y_pred_tag = torch.round(y_test_pred).squeeze(1)\n",
    "            y_pred_list += list(y_pred_tag.cpu().numpy())\n",
    "            y_true_list += list(y_batch.cpu().numpy())\n",
    "        \n",
    "            \n",
    "    #correct_test_results = (np.array(y_pred_list) == np.array(y_true_list)).sum()\n",
    "    #acc = correct_test_results/len(y_true_list)\n",
    "    \n",
    "    from sklearn.metrics import f1_score, roc_auc_score, precision_score, recall_score, accuracy_score\n",
    "    \n",
    "    correct_labels, predicted_labels = np.array(y_true_list), np.array(y_pred_list)\n",
    "    \n",
    "    roc_auc = roc_auc_score(correct_labels, predicted_labels)\n",
    "    precision = precision_score(correct_labels, predicted_labels, average='micro')\n",
    "    recall = recall_score(correct_labels, predicted_labels, average='micro')\n",
    "    f1score = f1_score(correct_labels, predicted_labels, average='macro')\n",
    "    \n",
    "    print(f'test accuracy {np.mean(test_acc)} and ROC-AUC {roc_auc}')\n",
    "\n",
    "    #wrong_good, wrong_mal, top_k_mistaken_families = \\\n",
    "    #            get_mistaken_stats(np.array(y_true_list), np.array(np.round(y_pred_list)), Y_test_family, top_k)\n",
    "    \n",
    "    return np.mean(test_acc), roc_auc, precision, recall, f1score \n",
    "\n",
    "    \n",
    "\n",
    "\n",
    "exp_seeds = [random.randint(1, 99999) for i in range(10)]\n",
    "\n",
    "\n",
    "accs_all = []\n",
    "rocauc_all = []\n",
    "\n",
    "num_epoch = 50\n",
    "batch_size = 512\n",
    "patience = 5\n",
    "\n",
    "\n",
    "input_features = X_train.shape[1]\n",
    "\n",
    "replay_type, current_task = 'azdomain', 'azdomain'\n",
    "\n",
    "for exp in exp_seeds:\n",
    "\n",
    "    start_time = time.time()\n",
    "    use_cuda = True\n",
    "    print('Torch', torch.__version__, 'CUDA', torch.version.cuda)\n",
    "    use_cuda = use_cuda and torch.cuda.is_available()\n",
    "    device = torch.device(\"cuda\" if use_cuda else \"cpu\")\n",
    "    torch.manual_seed(exp)\n",
    "\n",
    "    model = Ember_MLP_Net(input_features)\n",
    "    #optimizer = torch.optim.SGD(model.parameters(), lr=0.001, momentum=0.9, weight_decay=0.000001)\n",
    "    optimizer = torch.optim.Adam(model.parameters(), lr=0.001)\n",
    "       \n",
    "    if torch.cuda.device_count() > 1:\n",
    "        print(\"Let's use\", torch.cuda.device_count(), \"GPUs!\")\n",
    "        model = nn.DataParallel(model)\n",
    "    \n",
    "    model = model.to(device)\n",
    "    print(f'Model has {count_parameters(model)/1000000}m parameters')    \n",
    "    criterion = nn.BCELoss()    \n",
    "\n",
    "    \n",
    "#     standardization = StandardScaler()\n",
    "#     standard_scaler = standardization.fit(X_train)\n",
    "\n",
    "#     X_train = standard_scaler.transform(X_train)\n",
    "#     X_test = standard_scaler.transform(X_test)\n",
    "    \n",
    "#     X_train, Y_train = np.array(X_train, np.float32), np.array(Y_train, np.int32)\n",
    "#     X_test, Y_test = np.array(X_test, np.float32), np.array(Y_test, np.int32)  \n",
    "\n",
    "    \n",
    "    model_save_dir = '../az_model/model/'\n",
    "    create_parent_folder(model_save_dir)\n",
    "\n",
    "    opt_save_path = '../az_model/opt/'\n",
    "    create_parent_folder(opt_save_path)\n",
    "\n",
    "    results_save_dir =  '../az_model/res/' \n",
    "    create_parent_folder(results_save_dir)\n",
    "\n",
    "    print(f'X_train {X_train.shape} Y_train {Y_train.shape}')\n",
    "    print(f'X_test {X_test.shape} Y_test {Y_test.shape}')\n",
    "    \n",
    "    \n",
    "    task_training_time, epoch_ran, training_loss, validation_loss  = training_early_stopping(\\\n",
    "                                 model, model_save_dir, opt_save_path, X_train, Y_train,\\\n",
    "                                 X_test, Y_test, patience, batch_size, device, optimizer, num_epoch,\\\n",
    "                                 criterion, replay_type, current_task, exp, earlystopping=True)\n",
    "\n",
    "    \n",
    "    end_time = time.time()\n",
    "    print(f'Elapsed time {(end_time - start_time)/60} mins.') \n",
    "    \n",
    "    \n",
    "    \n",
    "    best_model_path = model_save_dir + os.listdir(model_save_dir)[0]\n",
    "    print(f'loading best model {best_model_path}')\n",
    "    model.load_state_dict(torch.load(best_model_path))\n",
    "\n",
    "    #optimizer = torch.optim.SGD(model.parameters(), lr=0.001, momentum=0.9, weight_decay=0.000001)\n",
    "    best_optimizer = opt_save_path + os.listdir(opt_save_path)[0]\n",
    "    print(f'loading best optimizer {best_optimizer}')\n",
    "    optimizer.load_state_dict(torch.load(best_optimizer))\n",
    "\n",
    "\n",
    "    acc, rocauc, precision, recall, f1score = testing_aucscore(model, X_test, Y_test, batch_size, device)\n",
    "    print()\n",
    "    del model_save_dir\n",
    "    del opt_save_path\n",
    "    del results_save_dir\n",
    "    \n",
    "    accs_all.append(acc)\n",
    "    rocauc_all.append(rocauc)\n"
   ]
  },
  {
   "cell_type": "code",
   "execution_count": 32,
   "metadata": {},
   "outputs": [
    {
     "data": {
      "text/plain": [
       "(0.9647547741731008, 0.9645591302605157)"
      ]
     },
     "execution_count": 32,
     "metadata": {},
     "output_type": "execute_result"
    }
   ],
   "source": [
    "np.mean(accs_all), np.mean(rocauc_all)"
   ]
  },
  {
   "cell_type": "code",
   "execution_count": 34,
   "metadata": {},
   "outputs": [
    {
     "data": {
      "text/plain": [
       "(0.9644471533746527, 0.9644116198053361)"
      ]
     },
     "execution_count": 34,
     "metadata": {},
     "output_type": "execute_result"
    }
   ],
   "source": [
    "np.mean(accs_all), np.mean(rocauc_all)"
   ]
  },
  {
   "cell_type": "code",
   "execution_count": null,
   "metadata": {},
   "outputs": [],
   "source": [
    "data_dir = args.data_dir\n",
    "num_exps = args.num_exps\n",
    "num_epoch = args.num_epoch\n",
    "batch_size = args.batch_size\n",
    "memory_budget = args.memory_budget\n",
    "patience = 5\n",
    "\n",
    "\n",
    "\n",
    "if args.grs_joint:\n",
    "    memory_budget = 'joint'\n",
    "\n",
    "input_features = X_train.shape[1]\n",
    "\n",
    "replay_type, current_task = 'azdomain', 'azdomain'\n",
    "\n",
    "\n",
    "cnt =  1    \n",
    "for exp in exp_seeds:\n",
    "    start_time = time.time()\n",
    "    use_cuda = True\n",
    "    print('Torch', torch.__version__, 'CUDA', torch.version.cuda)\n",
    "    use_cuda = use_cuda and torch.cuda.is_available()\n",
    "    device = torch.device(\"cuda\" if use_cuda else \"cpu\")\n",
    "    torch.manual_seed(exp)\n",
    "\n",
    "    model = Ember_MLP_Net()\n",
    "    optimizer = optim.Adam(model.parameters(), lr=0.001)\n",
    "    #optimizer = torch.optim.SGD(model.parameters(), lr=0.01, momentum=0.9, weight_decay=0.000001)\n",
    "       \n",
    "    if torch.cuda.device_count() > 1:\n",
    "        print(\"Let's use\", torch.cuda.device_count(), \"GPUs!\")\n",
    "        model = nn.DataParallel(model)\n",
    "    \n",
    "    model = model.to(device)\n",
    "    print(f'Model has {count_parameters(model)/1000000}m parameters')    \n",
    "    criterion = nn.BCELoss()    \n",
    "    \n",
    "    \n",
    "#     standardization = StandardScaler()\n",
    "#     standard_scaler = None\n",
    "    for task_month in range(len(all_task_months)):\n",
    "                \n",
    "        print(f'\\n{datetime.datetime.now().strftime(\"%Y-%m-%d %H:%M:%S\")} Round {cnt} ...')\n",
    "        task_start = time.time()\n",
    "        current_task = all_task_months[task_month]\n",
    "        task_months = all_task_months[:task_month+1]\n",
    "        print(f'Current Task {current_task} with Budget {memory_budget}')\n",
    "\n",
    "\n",
    "        model_save_dir = '../GRS_SavedModel' + '/GRSModel_' + str(memory_budget) + '/' + str(current_task) + '/'\n",
    "        create_parent_folder(model_save_dir)\n",
    "        \n",
    "        opt_save_path = '../GRS_SavedModel' + '/GRSOpt_' + str(memory_budget) + '/' + str(current_task) + '/'\n",
    "        create_parent_folder(opt_save_path)\n",
    "        \n",
    "        results_save_dir =  '../GRS_SavedResults_' +'/GRS_' + str(memory_budget) + '/' \n",
    "        create_parent_folder(results_save_dir)\n",
    "        \n",
    "        \n",
    "        if args.grs_joint:\n",
    "            X_train, Y_train = get_GRS_data(data_dir, task_months, memory_budget, train=True, joint=True)\n",
    "            X_test, Y_test = get_GRS_data(data_dir, task_months, memory_budget, train=False, joint=True)\n",
    "        else:\n",
    "            X_train, Y_train = get_GRS_data(data_dir, task_months, memory_budget, train=True, joint=False)\n",
    "            X_test, Y_test = get_GRS_data(data_dir, task_months, memory_budget, train=False, joint=False)\n",
    "        \n",
    "        \n",
    "        print(f'{datetime.datetime.now().strftime(\"%Y-%m-%d %H:%M:%S\")} Standardizing ...')\n",
    "        \n",
    "#         if args.grs_joint:\n",
    "#                 standardization = StandardScaler()\n",
    "#                 standard_scaler = None\n",
    "#                 standard_scaler = standardization.fit(X_train)\n",
    "#         else:        \n",
    "#                 standard_scaler = standardization.partial_fit(X_train)\n",
    "\n",
    "#         X_train = standard_scaler.transform(X_train)\n",
    "#         X_test = standard_scaler.transform(X_test)\n",
    "\n",
    "\n",
    "        X_train, Y_train = np.array(X_train, np.float32), np.array(Y_train, np.int32)\n",
    "        X_test, Y_test = np.array(X_test, np.float32), np.array(Y_test, np.int32)        \n",
    "        \n",
    "        print(f'{datetime.datetime.now().strftime(\"%Y-%m-%d %H:%M:%S\")} Training ...')\n",
    "        \n",
    "        \n",
    "        \n",
    "        task_training_time, epoch_ran, training_loss, validation_loss  = training_early_stopping(\\\n",
    "                                     model, model_save_dir, opt_save_path, X_train, Y_train,\\\n",
    "                                     X_test, Y_test, patience, batch_size, device, optimizer, num_epoch,\\\n",
    "                                     criterion, replay_type, current_task, exp, earlystopping=True)\n",
    "\n",
    "\n",
    "        end_time = time.time()\n",
    "        print(f'Elapsed time {(end_time - start_time)/60} mins.') \n",
    "\n",
    "\n",
    "        best_model_path = model_save_dir + os.listdir(model_save_dir)[0]\n",
    "        print(f'loading best model {best_model_path}')\n",
    "        model.load_state_dict(torch.load(best_model_path))\n",
    "\n",
    "        #optimizer = torch.optim.SGD(model.parameters(), lr=0.001, momentum=0.9, weight_decay=0.000001)\n",
    "        best_optimizer = opt_save_path + os.listdir(opt_save_path)[0]\n",
    "        print(f'loading best optimizer {best_optimizer}')\n",
    "        optimizer.load_state_dict(torch.load(best_optimizer))\n",
    "\n",
    "\n",
    "        acc, rocauc, precision, recall, f1score = testing_aucscore(model, X_test, Y_test, batch_size, device)\n",
    "\n",
    "        end_time = time.time()\n",
    "        print(f'Elapsed time {(end_time - start_time)/60} mins.')    \n",
    "        \n",
    "       \n",
    "        results_f = open(os.path.join('./Submission_Domain/' + 'grs_' + str(memory_budget) + '_results.txt'), 'a')\n",
    "        result_string = '{}\\t{}\\t{}\\t{}\\t{}\\t\\n'.format(current_task, acc, precision, recall, f1score)\n",
    "        \n",
    "        results_f.write(result_string)\n",
    "        results_f.flush()\n",
    "        results_f.close()\n",
    "    \n",
    "    end_time = time.time()\n",
    "    cnt += 1\n",
    "    print(f'Elapsed time {(end_time - start_time)/60} mins.')\n",
    "    \n",
    "    del model_save_dir\n",
    "    del opt_save_path\n",
    "    del results_save_dir\n"
   ]
  },
  {
   "cell_type": "code",
   "execution_count": null,
   "metadata": {},
   "outputs": [],
   "source": []
  },
  {
   "cell_type": "code",
   "execution_count": null,
   "metadata": {},
   "outputs": [],
   "source": []
  },
  {
   "cell_type": "code",
   "execution_count": null,
   "metadata": {},
   "outputs": [],
   "source": []
  },
  {
   "cell_type": "code",
   "execution_count": null,
   "metadata": {},
   "outputs": [],
   "source": []
  }
 ],
 "metadata": {
  "kernelspec": {
   "display_name": "PyTorch2",
   "language": "python",
   "name": "pytorch2"
  },
  "language_info": {
   "codemirror_mode": {
    "name": "ipython",
    "version": 3
   },
   "file_extension": ".py",
   "mimetype": "text/x-python",
   "name": "python",
   "nbconvert_exporter": "python",
   "pygments_lexer": "ipython3",
   "version": "3.9.17"
  }
 },
 "nbformat": 4,
 "nbformat_minor": 5
}
