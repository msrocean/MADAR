{
 "cells": [
  {
   "cell_type": "code",
   "execution_count": 6,
   "metadata": {},
   "outputs": [],
   "source": [
    "import numpy as np\n",
    "import os\n",
    "import pandas as pd\n",
    "import matplotlib.pyplot as plt\n",
    "import time, random\n",
    "from tqdm import tqdm\n",
    "import scipy\n",
    "from scipy.sparse import lil_matrix\n",
    "from sklearn.metrics import classification_report\n",
    "from sklearn.preprocessing import StandardScaler, QuantileTransformer\n",
    "import datetime\n",
    "import argparse\n",
    "import torch\n",
    "import torchvision\n",
    "import torch.nn as nn\n",
    "import torch.optim as optim\n",
    "import torch.nn.functional as F\n",
    "from torchvision import transforms, utils, datasets\n",
    "from torch.utils.data import Dataset, DataLoader\n",
    "\n",
    "from az_utils import *\n",
    "from ember_model import *\n",
    "\n",
    "\n",
    "\n",
    "\n",
    "def get_year_data(data_dir, year, train=True):\n",
    "    \n",
    "    if train:\n",
    "        data_dir = data_dir + '/'\n",
    "        XY_train = np.load(data_dir + str(year) + '_Domain_AZ_Train_Transformed.npz', allow_pickle=True)\n",
    "        X_tr, Y_tr = XY_train['X_train'], XY_train['Y_train']\n",
    "        \n",
    "        return X_tr, Y_tr\n",
    "    else:\n",
    "        data_dir = data_dir + '/'\n",
    "        XY_test = np.load(data_dir + str(year) + '_Domain_AZ_Test_Transformed.npz', allow_pickle=True)\n",
    "        X_test, Y_test = XY_test['X_test'], XY_test['Y_test']\n",
    "\n",
    "        return X_test, Y_test \n",
    "\n",
    "\n",
    "def get_MemoryData(X, Y, memory_budget):\n",
    "    indx = [i for i in range(len(Y))]\n",
    "    random.shuffle(indx)\n",
    "    \n",
    "    replay_index = indx[:memory_budget]\n",
    "    X_train = X[replay_index]\n",
    "    Y_train = Y[replay_index]\n",
    "    \n",
    "    return X_train, Y_train\n",
    "\n",
    "def create_empty_matrix(m, n):\n",
    "    return np.zeros((m, n))"
   ]
  },
  {
   "cell_type": "code",
   "execution_count": 7,
   "metadata": {},
   "outputs": [],
   "source": [
    "def get_GRS_data(data_dir, task_years, memory_budget, train=True, joint=True, none=False):\n",
    "    \n",
    "    if train:\n",
    "        if none:\n",
    "            X_tr, Y_tr = get_year_data(data_dir, task_years[-1])\n",
    "            X_train, Y_train  = X_tr, Y_tr\n",
    "            print(f'X_train {X_train.shape} Y_train {Y_train.shape}\\n')\n",
    "            return X_train, Y_train\n",
    "        \n",
    "        else:\n",
    "            X_tr, Y_tr = get_year_data(data_dir, task_years[-1])\n",
    "            print(f'Current Task Year {task_years[-1]} data X {X_tr.shape} Y {Y_tr.shape}')\n",
    "\n",
    "            if len(task_years) != 1:\n",
    "                previous_Xs, previous_Ys = [], []\n",
    "                for year in task_years[:-1]:\n",
    "                    pre_X_tr, pre_Y_tr = get_year_data(data_dir, year)\n",
    "\n",
    "\n",
    "                    pre_X_tr, pre_Y_tr = np.array(pre_X_tr), np.array(pre_Y_tr)\n",
    "                    #print(f'pre_X_tr {pre_X_tr.shape}  pre_Y_tr {pre_Y_tr.shape}')\n",
    "\n",
    "                    for idx, prevSample in enumerate(pre_X_tr):\n",
    "                        previous_Xs.append(prevSample)\n",
    "                        previous_Ys.append(pre_Y_tr[idx])\n",
    "\n",
    "\n",
    "                previous_Xs, previous_Ys = np.array(previous_Xs), np.array(previous_Ys)  \n",
    "\n",
    "                #print(f'Y_tr {Y_tr.shape}  previous_Ys {previous_Ys.shape}')\n",
    "                if joint:\n",
    "                    X_tr, Y_tr = np.concatenate((X_tr, previous_Xs)), np.concatenate((Y_tr, previous_Ys))\n",
    "                else:\n",
    "                    if memory_budget >= len(previous_Ys):\n",
    "                        X_tr, Y_tr = np.concatenate((X_tr, previous_Xs)), np.concatenate((Y_tr, previous_Ys))\n",
    "                    else:\n",
    "                        previous_Xs, previous_Ys = get_MemoryData(previous_Xs, previous_Ys, memory_budget)\n",
    "                        X_tr, Y_tr = np.concatenate((X_tr, previous_Xs)), np.concatenate((Y_tr, previous_Ys))\n",
    "                        #print(f'memory_budget {memory_budget}  Y_tr {previous_Ys.shape} ')\n",
    "                        assert memory_budget == len(previous_Ys)\n",
    "\n",
    "\n",
    "            X_train, Y_train  = X_tr, Y_tr\n",
    "            print(f'X_train {X_train.shape} Y_train {Y_train.shape}\\n')\n",
    "            return X_train, Y_train\n",
    "    else:\n",
    "        X_te, Y_te = get_year_data(data_dir, task_years[-1], train=False)\n",
    "        for year in task_years[:-1]:\n",
    "            pre_X_te, pre_Y_te = get_year_data(data_dir, year, train=False)\n",
    "            \n",
    "            X_te, Y_te = np.concatenate((X_te, pre_X_te)), np.concatenate((Y_te, pre_Y_te))\n",
    "\n",
    "        X_test, Y_test  = X_te, Y_te\n",
    "        print(f'X_test {X_test.shape} Y_test {Y_test.shape}')\n",
    "        return X_test, Y_test"
   ]
  },
  {
   "cell_type": "code",
   "execution_count": 12,
   "metadata": {},
   "outputs": [
    {
     "name": "stdout",
     "output_type": "stream",
     "text": [
      "Torch 1.2.0+cu92 CUDA 9.2.148\n",
      "Model has 2.525953m parameters\n",
      "\n",
      "2024-05-26 20:08:15 Round 1 ...\n",
      "Current Task 2008 with Budget none\n",
      "Current Task Year 2008 data X (36333, 1789) Y (36333,)\n",
      "X_train (36333, 1789) Y_train (36333,)\n",
      "\n",
      "2024-05-26 20:08:15 Standardizing ...\n"
     ]
    },
    {
     "name": "stderr",
     "output_type": "stream",
     "text": [
      "\r",
      "  0%|          | 0/7 [00:00<?, ?it/s]"
     ]
    },
    {
     "name": "stdout",
     "output_type": "stream",
     "text": [
      "2024-05-26 20:08:15 Training ...\n",
      "Epoch 1 of 100\n"
     ]
    },
    {
     "name": "stderr",
     "output_type": "stream",
     "text": [
      "100%|██████████| 7/7 [00:00<00:00,  8.32it/s]\n",
      "100%|██████████| 1/1 [00:00<00:00, 12.08it/s]\n",
      "  0%|          | 0/7 [00:00<?, ?it/s]"
     ]
    },
    {
     "name": "stdout",
     "output_type": "stream",
     "text": [
      "Train Loss: 0.3585, Train Acc: 0.8659\n",
      "Val Loss: 0.4425, Val Acc: 0.9854\n",
      "Validation loss decreased (inf --> 0.442487).  Saving model ...\n",
      "../az_model_cd/GRS_SavedModel/GRSModel_none/2008/best_model_epoch_1.pt\n",
      "../az_model_cd/GRS_SavedModel/GRSOpt_none/2008/best_optimizer_epoch_1.pt\n",
      "Epoch 2 of 100\n"
     ]
    },
    {
     "name": "stderr",
     "output_type": "stream",
     "text": [
      "100%|██████████| 7/7 [00:00<00:00,  8.34it/s]\n",
      "100%|██████████| 1/1 [00:00<00:00, 13.58it/s]\n",
      "  0%|          | 0/7 [00:00<?, ?it/s]"
     ]
    },
    {
     "name": "stdout",
     "output_type": "stream",
     "text": [
      "Train Loss: 0.1084, Train Acc: 0.9842\n",
      "Val Loss: 0.1405, Val Acc: 0.9898\n",
      "Validation loss decreased (0.442487 --> 0.140487).  Saving model ...\n",
      "../az_model_cd/GRS_SavedModel/GRSModel_none/2008/best_model_epoch_2.pt\n",
      "../az_model_cd/GRS_SavedModel/GRSOpt_none/2008/best_optimizer_epoch_2.pt\n",
      "Epoch 3 of 100\n"
     ]
    },
    {
     "name": "stderr",
     "output_type": "stream",
     "text": [
      "100%|██████████| 7/7 [00:00<00:00,  8.66it/s]\n",
      "100%|██████████| 1/1 [00:00<00:00, 11.75it/s]\n",
      "  0%|          | 0/7 [00:00<?, ?it/s]"
     ]
    },
    {
     "name": "stdout",
     "output_type": "stream",
     "text": [
      "Train Loss: 0.0685, Train Acc: 0.9909\n",
      "Val Loss: 0.0609, Val Acc: 0.9948\n",
      "Validation loss decreased (0.140487 --> 0.060944).  Saving model ...\n",
      "../az_model_cd/GRS_SavedModel/GRSModel_none/2008/best_model_epoch_3.pt\n",
      "../az_model_cd/GRS_SavedModel/GRSOpt_none/2008/best_optimizer_epoch_3.pt\n",
      "Epoch 4 of 100\n"
     ]
    },
    {
     "name": "stderr",
     "output_type": "stream",
     "text": [
      "100%|██████████| 7/7 [00:00<00:00,  7.94it/s]\n",
      "100%|██████████| 1/1 [00:00<00:00,  4.85it/s]\n",
      "  0%|          | 0/7 [00:00<?, ?it/s]"
     ]
    },
    {
     "name": "stdout",
     "output_type": "stream",
     "text": [
      "Train Loss: 0.0524, Train Acc: 0.9917\n",
      "Val Loss: 0.0407, Val Acc: 0.9945\n",
      "Validation loss decreased (0.060944 --> 0.040697).  Saving model ...\n",
      "../az_model_cd/GRS_SavedModel/GRSModel_none/2008/best_model_epoch_4.pt\n",
      "../az_model_cd/GRS_SavedModel/GRSOpt_none/2008/best_optimizer_epoch_4.pt\n",
      "Epoch 5 of 100\n"
     ]
    },
    {
     "name": "stderr",
     "output_type": "stream",
     "text": [
      "100%|██████████| 7/7 [00:00<00:00,  8.72it/s]\n",
      "100%|██████████| 1/1 [00:00<00:00, 14.70it/s]\n",
      "  0%|          | 0/7 [00:00<?, ?it/s]"
     ]
    },
    {
     "name": "stdout",
     "output_type": "stream",
     "text": [
      "Train Loss: 0.0400, Train Acc: 0.9937\n",
      "Val Loss: 0.0336, Val Acc: 0.9939\n",
      "Validation loss decreased (0.040697 --> 0.033583).  Saving model ...\n",
      "../az_model_cd/GRS_SavedModel/GRSModel_none/2008/best_model_epoch_5.pt\n",
      "../az_model_cd/GRS_SavedModel/GRSOpt_none/2008/best_optimizer_epoch_5.pt\n",
      "Epoch 6 of 100\n"
     ]
    },
    {
     "name": "stderr",
     "output_type": "stream",
     "text": [
      "100%|██████████| 7/7 [00:00<00:00,  8.82it/s]\n",
      "100%|██████████| 1/1 [00:00<00:00, 13.43it/s]\n",
      "  0%|          | 0/7 [00:00<?, ?it/s]"
     ]
    },
    {
     "name": "stdout",
     "output_type": "stream",
     "text": [
      "Train Loss: 0.0323, Train Acc: 0.9947\n",
      "Val Loss: 0.0281, Val Acc: 0.9945\n",
      "Validation loss decreased (0.033583 --> 0.028101).  Saving model ...\n",
      "../az_model_cd/GRS_SavedModel/GRSModel_none/2008/best_model_epoch_6.pt\n",
      "../az_model_cd/GRS_SavedModel/GRSOpt_none/2008/best_optimizer_epoch_6.pt\n",
      "Epoch 7 of 100\n"
     ]
    },
    {
     "name": "stderr",
     "output_type": "stream",
     "text": [
      "100%|██████████| 7/7 [00:00<00:00,  8.72it/s]\n",
      "100%|██████████| 1/1 [00:00<00:00, 12.70it/s]\n",
      "  0%|          | 0/7 [00:00<?, ?it/s]"
     ]
    },
    {
     "name": "stdout",
     "output_type": "stream",
     "text": [
      "Train Loss: 0.0269, Train Acc: 0.9957\n",
      "Val Loss: 0.0235, Val Acc: 0.9953\n",
      "Validation loss decreased (0.028101 --> 0.023489).  Saving model ...\n",
      "../az_model_cd/GRS_SavedModel/GRSModel_none/2008/best_model_epoch_7.pt\n",
      "../az_model_cd/GRS_SavedModel/GRSOpt_none/2008/best_optimizer_epoch_7.pt\n",
      "Epoch 8 of 100\n"
     ]
    },
    {
     "name": "stderr",
     "output_type": "stream",
     "text": [
      "100%|██████████| 7/7 [00:00<00:00,  8.39it/s]\n",
      "100%|██████████| 1/1 [00:00<00:00, 13.66it/s]\n",
      "  0%|          | 0/7 [00:00<?, ?it/s]"
     ]
    },
    {
     "name": "stdout",
     "output_type": "stream",
     "text": [
      "Train Loss: 0.0231, Train Acc: 0.9963\n",
      "Val Loss: 0.0217, Val Acc: 0.9953\n",
      "Validation loss decreased (0.023489 --> 0.021655).  Saving model ...\n",
      "../az_model_cd/GRS_SavedModel/GRSModel_none/2008/best_model_epoch_8.pt\n",
      "../az_model_cd/GRS_SavedModel/GRSOpt_none/2008/best_optimizer_epoch_8.pt\n",
      "Epoch 9 of 100\n"
     ]
    },
    {
     "name": "stderr",
     "output_type": "stream",
     "text": [
      "100%|██████████| 7/7 [00:00<00:00,  8.25it/s]\n",
      "100%|██████████| 1/1 [00:00<00:00, 14.04it/s]\n",
      "  0%|          | 0/7 [00:00<?, ?it/s]"
     ]
    },
    {
     "name": "stdout",
     "output_type": "stream",
     "text": [
      "Train Loss: 0.0198, Train Acc: 0.9968\n",
      "Val Loss: 0.0211, Val Acc: 0.9950\n",
      "Validation loss decreased (0.021655 --> 0.021058).  Saving model ...\n",
      "../az_model_cd/GRS_SavedModel/GRSModel_none/2008/best_model_epoch_9.pt\n",
      "../az_model_cd/GRS_SavedModel/GRSOpt_none/2008/best_optimizer_epoch_9.pt\n",
      "Epoch 10 of 100\n"
     ]
    },
    {
     "name": "stderr",
     "output_type": "stream",
     "text": [
      "100%|██████████| 7/7 [00:00<00:00,  8.27it/s]\n",
      "100%|██████████| 1/1 [00:00<00:00, 14.28it/s]\n",
      "  0%|          | 0/7 [00:00<?, ?it/s]"
     ]
    },
    {
     "name": "stdout",
     "output_type": "stream",
     "text": [
      "Train Loss: 0.0172, Train Acc: 0.9971\n",
      "Val Loss: 0.0209, Val Acc: 0.9948\n",
      "Validation loss decreased (0.021058 --> 0.020938).  Saving model ...\n",
      "../az_model_cd/GRS_SavedModel/GRSModel_none/2008/best_model_epoch_10.pt\n",
      "../az_model_cd/GRS_SavedModel/GRSOpt_none/2008/best_optimizer_epoch_10.pt\n",
      "Epoch 11 of 100\n"
     ]
    },
    {
     "name": "stderr",
     "output_type": "stream",
     "text": [
      "100%|██████████| 7/7 [00:00<00:00,  8.37it/s]\n",
      "100%|██████████| 1/1 [00:00<00:00,  5.73it/s]\n",
      "  0%|          | 0/7 [00:00<?, ?it/s]"
     ]
    },
    {
     "name": "stdout",
     "output_type": "stream",
     "text": [
      "Train Loss: 0.0161, Train Acc: 0.9974\n",
      "Val Loss: 0.0216, Val Acc: 0.9948\n",
      "EarlyStopping counter: 1 out of 5\n",
      "Epoch 12 of 100\n"
     ]
    },
    {
     "name": "stderr",
     "output_type": "stream",
     "text": [
      "100%|██████████| 7/7 [00:00<00:00,  8.75it/s]\n",
      "100%|██████████| 1/1 [00:00<00:00, 10.35it/s]\n",
      "  0%|          | 0/7 [00:00<?, ?it/s]"
     ]
    },
    {
     "name": "stdout",
     "output_type": "stream",
     "text": [
      "Train Loss: 0.0143, Train Acc: 0.9975\n",
      "Val Loss: 0.0194, Val Acc: 0.9953\n",
      "Validation loss decreased (0.020938 --> 0.019370).  Saving model ...\n",
      "../az_model_cd/GRS_SavedModel/GRSModel_none/2008/best_model_epoch_12.pt\n",
      "../az_model_cd/GRS_SavedModel/GRSOpt_none/2008/best_optimizer_epoch_12.pt\n",
      "Epoch 13 of 100\n"
     ]
    },
    {
     "name": "stderr",
     "output_type": "stream",
     "text": [
      "100%|██████████| 7/7 [00:00<00:00,  8.58it/s]\n",
      "100%|██████████| 1/1 [00:00<00:00, 14.90it/s]\n",
      "  0%|          | 0/7 [00:00<?, ?it/s]"
     ]
    },
    {
     "name": "stdout",
     "output_type": "stream",
     "text": [
      "Train Loss: 0.0124, Train Acc: 0.9978\n",
      "Val Loss: 0.0189, Val Acc: 0.9953\n",
      "Validation loss decreased (0.019370 --> 0.018947).  Saving model ...\n",
      "../az_model_cd/GRS_SavedModel/GRSModel_none/2008/best_model_epoch_13.pt\n",
      "../az_model_cd/GRS_SavedModel/GRSOpt_none/2008/best_optimizer_epoch_13.pt\n",
      "Epoch 14 of 100\n"
     ]
    },
    {
     "name": "stderr",
     "output_type": "stream",
     "text": [
      "100%|██████████| 7/7 [00:00<00:00,  8.50it/s]\n",
      "100%|██████████| 1/1 [00:00<00:00, 14.80it/s]\n",
      "  0%|          | 0/7 [00:00<?, ?it/s]"
     ]
    },
    {
     "name": "stdout",
     "output_type": "stream",
     "text": [
      "Train Loss: 0.0106, Train Acc: 0.9982\n",
      "Val Loss: 0.0212, Val Acc: 0.9939\n",
      "EarlyStopping counter: 1 out of 5\n",
      "Epoch 15 of 100\n"
     ]
    },
    {
     "name": "stderr",
     "output_type": "stream",
     "text": [
      "100%|██████████| 7/7 [00:00<00:00,  8.46it/s]\n",
      "100%|██████████| 1/1 [00:00<00:00, 15.62it/s]\n",
      "  0%|          | 0/7 [00:00<?, ?it/s]"
     ]
    },
    {
     "name": "stdout",
     "output_type": "stream",
     "text": [
      "Train Loss: 0.0094, Train Acc: 0.9985\n",
      "Val Loss: 0.0202, Val Acc: 0.9950\n",
      "EarlyStopping counter: 2 out of 5\n",
      "Epoch 16 of 100\n"
     ]
    },
    {
     "name": "stderr",
     "output_type": "stream",
     "text": [
      "100%|██████████| 7/7 [00:00<00:00,  8.62it/s]\n",
      "100%|██████████| 1/1 [00:00<00:00, 15.73it/s]\n",
      "  0%|          | 0/7 [00:00<?, ?it/s]"
     ]
    },
    {
     "name": "stdout",
     "output_type": "stream",
     "text": [
      "Train Loss: 0.0084, Train Acc: 0.9987\n",
      "Val Loss: 0.0203, Val Acc: 0.9950\n",
      "EarlyStopping counter: 3 out of 5\n",
      "Epoch 17 of 100\n"
     ]
    },
    {
     "name": "stderr",
     "output_type": "stream",
     "text": [
      "100%|██████████| 7/7 [00:00<00:00,  8.11it/s]\n",
      "100%|██████████| 1/1 [00:00<00:00,  5.05it/s]\n",
      "  0%|          | 0/7 [00:00<?, ?it/s]"
     ]
    },
    {
     "name": "stdout",
     "output_type": "stream",
     "text": [
      "Train Loss: 0.0104, Train Acc: 0.9978\n",
      "Val Loss: 0.0188, Val Acc: 0.9953\n",
      "Validation loss decreased (0.018947 --> 0.018817).  Saving model ...\n",
      "../az_model_cd/GRS_SavedModel/GRSModel_none/2008/best_model_epoch_17.pt\n",
      "../az_model_cd/GRS_SavedModel/GRSOpt_none/2008/best_optimizer_epoch_17.pt\n",
      "Epoch 18 of 100\n"
     ]
    },
    {
     "name": "stderr",
     "output_type": "stream",
     "text": [
      "100%|██████████| 7/7 [00:00<00:00,  8.77it/s]\n",
      "100%|██████████| 1/1 [00:00<00:00, 12.87it/s]\n",
      "  0%|          | 0/7 [00:00<?, ?it/s]"
     ]
    },
    {
     "name": "stdout",
     "output_type": "stream",
     "text": [
      "Train Loss: 0.0079, Train Acc: 0.9985\n",
      "Val Loss: 0.0187, Val Acc: 0.9959\n",
      "Validation loss decreased (0.018817 --> 0.018749).  Saving model ...\n",
      "../az_model_cd/GRS_SavedModel/GRSModel_none/2008/best_model_epoch_18.pt\n",
      "../az_model_cd/GRS_SavedModel/GRSOpt_none/2008/best_optimizer_epoch_18.pt\n",
      "Epoch 19 of 100\n"
     ]
    },
    {
     "name": "stderr",
     "output_type": "stream",
     "text": [
      "100%|██████████| 7/7 [00:00<00:00,  8.49it/s]\n",
      "100%|██████████| 1/1 [00:00<00:00, 13.98it/s]\n",
      "  0%|          | 0/7 [00:00<?, ?it/s]"
     ]
    },
    {
     "name": "stdout",
     "output_type": "stream",
     "text": [
      "Train Loss: 0.0072, Train Acc: 0.9986\n",
      "Val Loss: 0.0197, Val Acc: 0.9950\n",
      "EarlyStopping counter: 1 out of 5\n",
      "Epoch 20 of 100\n"
     ]
    },
    {
     "name": "stderr",
     "output_type": "stream",
     "text": [
      "100%|██████████| 7/7 [00:00<00:00,  8.85it/s]\n",
      "100%|██████████| 1/1 [00:00<00:00, 13.23it/s]\n",
      "  0%|          | 0/7 [00:00<?, ?it/s]"
     ]
    },
    {
     "name": "stdout",
     "output_type": "stream",
     "text": [
      "Train Loss: 0.0072, Train Acc: 0.9988\n",
      "Val Loss: 0.0189, Val Acc: 0.9956\n",
      "EarlyStopping counter: 2 out of 5\n",
      "Epoch 21 of 100\n"
     ]
    },
    {
     "name": "stderr",
     "output_type": "stream",
     "text": [
      "100%|██████████| 7/7 [00:00<00:00,  8.23it/s]\n",
      "100%|██████████| 1/1 [00:00<00:00, 13.23it/s]\n",
      "  0%|          | 0/7 [00:00<?, ?it/s]"
     ]
    },
    {
     "name": "stdout",
     "output_type": "stream",
     "text": [
      "Train Loss: 0.0068, Train Acc: 0.9986\n",
      "Val Loss: 0.0185, Val Acc: 0.9956\n",
      "Validation loss decreased (0.018749 --> 0.018452).  Saving model ...\n",
      "../az_model_cd/GRS_SavedModel/GRSModel_none/2008/best_model_epoch_21.pt\n",
      "../az_model_cd/GRS_SavedModel/GRSOpt_none/2008/best_optimizer_epoch_21.pt\n",
      "Epoch 22 of 100\n"
     ]
    },
    {
     "name": "stderr",
     "output_type": "stream",
     "text": [
      "100%|██████████| 7/7 [00:00<00:00,  8.00it/s]\n",
      "100%|██████████| 1/1 [00:00<00:00, 13.32it/s]\n",
      "  0%|          | 0/7 [00:00<?, ?it/s]"
     ]
    },
    {
     "name": "stdout",
     "output_type": "stream",
     "text": [
      "Train Loss: 0.0076, Train Acc: 0.9984\n",
      "Val Loss: 0.0168, Val Acc: 0.9959\n",
      "Validation loss decreased (0.018452 --> 0.016796).  Saving model ...\n",
      "../az_model_cd/GRS_SavedModel/GRSModel_none/2008/best_model_epoch_22.pt\n",
      "../az_model_cd/GRS_SavedModel/GRSOpt_none/2008/best_optimizer_epoch_22.pt\n",
      "Epoch 23 of 100\n"
     ]
    },
    {
     "name": "stderr",
     "output_type": "stream",
     "text": [
      "100%|██████████| 7/7 [00:00<00:00,  8.15it/s]\n",
      "100%|██████████| 1/1 [00:00<00:00, 11.20it/s]\n",
      "  0%|          | 0/7 [00:00<?, ?it/s]"
     ]
    },
    {
     "name": "stdout",
     "output_type": "stream",
     "text": [
      "Train Loss: 0.0068, Train Acc: 0.9984\n",
      "Val Loss: 0.0223, Val Acc: 0.9950\n",
      "EarlyStopping counter: 1 out of 5\n",
      "Epoch 24 of 100\n"
     ]
    },
    {
     "name": "stderr",
     "output_type": "stream",
     "text": [
      "100%|██████████| 7/7 [00:00<00:00,  7.77it/s]\n",
      "100%|██████████| 1/1 [00:00<00:00,  5.65it/s]\n",
      "  0%|          | 0/7 [00:00<?, ?it/s]"
     ]
    },
    {
     "name": "stdout",
     "output_type": "stream",
     "text": [
      "Train Loss: 0.0072, Train Acc: 0.9982\n",
      "Val Loss: 0.0184, Val Acc: 0.9959\n",
      "EarlyStopping counter: 2 out of 5\n",
      "Epoch 25 of 100\n"
     ]
    },
    {
     "name": "stderr",
     "output_type": "stream",
     "text": [
      "100%|██████████| 7/7 [00:00<00:00,  8.94it/s]\n",
      "100%|██████████| 1/1 [00:00<00:00, 14.18it/s]\n",
      "  0%|          | 0/7 [00:00<?, ?it/s]"
     ]
    },
    {
     "name": "stdout",
     "output_type": "stream",
     "text": [
      "Train Loss: 0.0074, Train Acc: 0.9982\n",
      "Val Loss: 0.0181, Val Acc: 0.9959\n",
      "EarlyStopping counter: 3 out of 5\n",
      "Epoch 26 of 100\n"
     ]
    },
    {
     "name": "stderr",
     "output_type": "stream",
     "text": [
      "100%|██████████| 7/7 [00:00<00:00,  8.85it/s]\n",
      "100%|██████████| 1/1 [00:00<00:00, 14.21it/s]\n",
      "  0%|          | 0/7 [00:00<?, ?it/s]"
     ]
    },
    {
     "name": "stdout",
     "output_type": "stream",
     "text": [
      "Train Loss: 0.0063, Train Acc: 0.9985\n",
      "Val Loss: 0.0197, Val Acc: 0.9953\n",
      "EarlyStopping counter: 4 out of 5\n",
      "Epoch 27 of 100\n"
     ]
    },
    {
     "name": "stderr",
     "output_type": "stream",
     "text": [
      "100%|██████████| 7/7 [00:00<00:00,  8.83it/s]\n",
      "100%|██████████| 1/1 [00:00<00:00, 10.53it/s]\n",
      "  0%|          | 0/1 [00:00<?, ?it/s]"
     ]
    },
    {
     "name": "stdout",
     "output_type": "stream",
     "text": [
      "Train Loss: 0.0077, Train Acc: 0.9983\n",
      "Val Loss: 0.0179, Val Acc: 0.9959\n",
      "EarlyStopping counter: 5 out of 5\n",
      "Early stopping\n",
      "Training time: 0.436 minutes\n",
      "Elapsed time 0.450871996084849 mins.\n",
      "loading best model ../az_model_cd/GRS_SavedModel/GRSModel_none/2008/best_model_epoch_22.pt\n",
      "loading best optimizer ../az_model_cd/GRS_SavedModel/GRSOpt_none/2008/best_optimizer_epoch_22.pt\n"
     ]
    },
    {
     "name": "stderr",
     "output_type": "stream",
     "text": [
      "100%|██████████| 1/1 [00:00<00:00,  4.40it/s]\n",
      "  0%|          | 0/1 [00:00<?, ?it/s]"
     ]
    },
    {
     "name": "stdout",
     "output_type": "stream",
     "text": [
      "test accuracy 0.9915779232978821 and ROC-AUC 0.9915610649269685\n"
     ]
    },
    {
     "name": "stderr",
     "output_type": "stream",
     "text": [
      "100%|██████████| 1/1 [00:00<00:00,  8.81it/s]\n"
     ]
    },
    {
     "name": "stdout",
     "output_type": "stream",
     "text": [
      "test accuracy 0.7804877758026123 and ROC-AUC 0.7767857142857143\n"
     ]
    },
    {
     "name": "stderr",
     "output_type": "stream",
     "text": [
      "100%|██████████| 1/1 [00:00<00:00,  4.58it/s]\n"
     ]
    },
    {
     "name": "stdout",
     "output_type": "stream",
     "text": [
      "test accuracy 0.6843189597129822 and ROC-AUC 0.6792942166563345\n"
     ]
    },
    {
     "name": "stderr",
     "output_type": "stream",
     "text": [
      "100%|██████████| 3/3 [00:00<00:00,  6.29it/s]\n"
     ]
    },
    {
     "name": "stdout",
     "output_type": "stream",
     "text": [
      "test accuracy 0.7572408517201742 and ROC-AUC 0.7579379022571235\n"
     ]
    },
    {
     "name": "stderr",
     "output_type": "stream",
     "text": [
      "100%|██████████| 3/3 [00:00<00:00,  6.10it/s]\n"
     ]
    },
    {
     "name": "stdout",
     "output_type": "stream",
     "text": [
      "test accuracy 0.8414727449417114 and ROC-AUC 0.8410586497217051\n"
     ]
    },
    {
     "name": "stderr",
     "output_type": "stream",
     "text": [
      "100%|██████████| 3/3 [00:00<00:00,  6.07it/s]\n"
     ]
    },
    {
     "name": "stdout",
     "output_type": "stream",
     "text": [
      "test accuracy 0.799098273118337 and ROC-AUC 0.797033794711675\n"
     ]
    },
    {
     "name": "stderr",
     "output_type": "stream",
     "text": [
      "100%|██████████| 3/3 [00:00<00:00,  6.07it/s]\n"
     ]
    },
    {
     "name": "stdout",
     "output_type": "stream",
     "text": [
      "test accuracy 0.7880522807439169 and ROC-AUC 0.7870669575830168\n"
     ]
    },
    {
     "name": "stderr",
     "output_type": "stream",
     "text": [
      "100%|██████████| 3/3 [00:00<00:00,  5.72it/s]\n",
      "  0%|          | 0/3 [00:00<?, ?it/s]"
     ]
    },
    {
     "name": "stdout",
     "output_type": "stream",
     "text": [
      "test accuracy 0.7752713759740194 and ROC-AUC 0.7735122870280402\n"
     ]
    },
    {
     "name": "stderr",
     "output_type": "stream",
     "text": [
      "100%|██████████| 3/3 [00:00<00:00,  9.47it/s]\n"
     ]
    },
    {
     "name": "stdout",
     "output_type": "stream",
     "text": [
      "test accuracy 0.6688638130823771 and ROC-AUC 0.6756315765913544\n",
      "[[0.99157792 0.78048778 0.68431896 0.75724085 0.84147274 0.79909827\n",
      "  0.78805228 0.77527138 0.66886381]\n",
      " [0.         0.         0.         0.         0.         0.\n",
      "  0.         0.         0.        ]\n",
      " [0.         0.         0.         0.         0.         0.\n",
      "  0.         0.         0.        ]\n",
      " [0.         0.         0.         0.         0.         0.\n",
      "  0.         0.         0.        ]\n",
      " [0.         0.         0.         0.         0.         0.\n",
      "  0.         0.         0.        ]\n",
      " [0.         0.         0.         0.         0.         0.\n",
      "  0.         0.         0.        ]\n",
      " [0.         0.         0.         0.         0.         0.\n",
      "  0.         0.         0.        ]\n",
      " [0.         0.         0.         0.         0.         0.\n",
      "  0.         0.         0.        ]\n",
      " [0.         0.         0.         0.         0.         0.\n",
      "  0.         0.         0.        ]]\n",
      "Elapsed time 0.5389292001724243 mins.\n",
      "\n",
      "2024-05-26 20:08:47 Round 1 ...\n",
      "Current Task 2009 with Budget none\n",
      "Current Task Year 2009 data X (735, 1789) Y (735,)\n",
      "X_train (37068, 1789) Y_train (37068,)\n",
      "\n",
      "2024-05-26 20:08:48 Standardizing ...\n"
     ]
    },
    {
     "name": "stderr",
     "output_type": "stream",
     "text": [
      "\r",
      "  0%|          | 0/8 [00:00<?, ?it/s]"
     ]
    },
    {
     "name": "stdout",
     "output_type": "stream",
     "text": [
      "2024-05-26 20:08:48 Training ...\n",
      "Epoch 1 of 100\n"
     ]
    },
    {
     "name": "stderr",
     "output_type": "stream",
     "text": [
      "100%|██████████| 8/8 [00:00<00:00,  9.08it/s]\n",
      "100%|██████████| 1/1 [00:00<00:00, 12.11it/s]\n",
      "  0%|          | 0/8 [00:00<?, ?it/s]"
     ]
    },
    {
     "name": "stdout",
     "output_type": "stream",
     "text": [
      "Train Loss: 0.0180, Train Acc: 0.9960\n",
      "Val Loss: 0.0061, Val Acc: 0.9989\n",
      "Validation loss decreased (inf --> 0.006088).  Saving model ...\n",
      "../az_model_cd/GRS_SavedModel/GRSModel_none/2009/best_model_epoch_1.pt\n",
      "../az_model_cd/GRS_SavedModel/GRSOpt_none/2009/best_optimizer_epoch_1.pt\n",
      "Epoch 2 of 100\n"
     ]
    },
    {
     "name": "stderr",
     "output_type": "stream",
     "text": [
      "100%|██████████| 8/8 [00:00<00:00,  8.35it/s]\n",
      "100%|██████████| 1/1 [00:00<00:00, 10.39it/s]\n",
      "  0%|          | 0/8 [00:00<?, ?it/s]"
     ]
    },
    {
     "name": "stdout",
     "output_type": "stream",
     "text": [
      "Train Loss: 0.0147, Train Acc: 0.9963\n",
      "Val Loss: 0.0073, Val Acc: 0.9984\n",
      "EarlyStopping counter: 1 out of 5\n",
      "Epoch 3 of 100\n"
     ]
    },
    {
     "name": "stderr",
     "output_type": "stream",
     "text": [
      "100%|██████████| 8/8 [00:00<00:00,  8.97it/s]\n",
      "100%|██████████| 1/1 [00:00<00:00,  3.82it/s]\n",
      "  0%|          | 0/8 [00:00<?, ?it/s]"
     ]
    },
    {
     "name": "stdout",
     "output_type": "stream",
     "text": [
      "Train Loss: 0.0117, Train Acc: 0.9971\n",
      "Val Loss: 0.0074, Val Acc: 0.9984\n",
      "EarlyStopping counter: 2 out of 5\n",
      "Epoch 4 of 100\n"
     ]
    },
    {
     "name": "stderr",
     "output_type": "stream",
     "text": [
      "100%|██████████| 8/8 [00:00<00:00,  9.40it/s]\n",
      "100%|██████████| 1/1 [00:00<00:00, 13.39it/s]\n",
      "  0%|          | 0/8 [00:00<?, ?it/s]"
     ]
    },
    {
     "name": "stdout",
     "output_type": "stream",
     "text": [
      "Train Loss: 0.0124, Train Acc: 0.9966\n",
      "Val Loss: 0.0076, Val Acc: 0.9981\n",
      "EarlyStopping counter: 3 out of 5\n",
      "Epoch 5 of 100\n"
     ]
    },
    {
     "name": "stderr",
     "output_type": "stream",
     "text": [
      "100%|██████████| 8/8 [00:00<00:00,  9.46it/s]\n",
      "100%|██████████| 1/1 [00:00<00:00, 13.06it/s]\n",
      "  0%|          | 0/8 [00:00<?, ?it/s]"
     ]
    },
    {
     "name": "stdout",
     "output_type": "stream",
     "text": [
      "Train Loss: 0.0097, Train Acc: 0.9975\n",
      "Val Loss: 0.0072, Val Acc: 0.9978\n",
      "EarlyStopping counter: 4 out of 5\n",
      "Epoch 6 of 100\n"
     ]
    },
    {
     "name": "stderr",
     "output_type": "stream",
     "text": [
      "100%|██████████| 8/8 [00:00<00:00,  9.18it/s]\n",
      "100%|██████████| 1/1 [00:00<00:00, 14.47it/s]\n",
      "  0%|          | 0/1 [00:00<?, ?it/s]"
     ]
    },
    {
     "name": "stdout",
     "output_type": "stream",
     "text": [
      "Train Loss: 0.0090, Train Acc: 0.9976\n",
      "Val Loss: 0.0096, Val Acc: 0.9978\n",
      "EarlyStopping counter: 5 out of 5\n",
      "Early stopping\n",
      "Training time: 0.102 minutes\n",
      "Elapsed time 0.6640145858128865 mins.\n",
      "loading best model ../az_model_cd/GRS_SavedModel/GRSModel_none/2009/best_model_epoch_1.pt\n",
      "loading best optimizer ../az_model_cd/GRS_SavedModel/GRSOpt_none/2009/best_optimizer_epoch_1.pt\n"
     ]
    },
    {
     "name": "stderr",
     "output_type": "stream",
     "text": [
      "100%|██████████| 1/1 [00:00<00:00,  4.40it/s]\n",
      "  0%|          | 0/1 [00:00<?, ?it/s]"
     ]
    },
    {
     "name": "stdout",
     "output_type": "stream",
     "text": [
      "test accuracy 0.9925687313079834 and ROC-AUC 0.9925398833420224\n"
     ]
    },
    {
     "name": "stderr",
     "output_type": "stream",
     "text": [
      "100%|██████████| 1/1 [00:00<00:00,  8.70it/s]\n"
     ]
    },
    {
     "name": "stdout",
     "output_type": "stream",
     "text": [
      "test accuracy 0.8536584973335266 and ROC-AUC 0.8568872987477639\n"
     ]
    },
    {
     "name": "stderr",
     "output_type": "stream",
     "text": [
      "100%|██████████| 1/1 [00:00<00:00,  4.78it/s]\n"
     ]
    },
    {
     "name": "stdout",
     "output_type": "stream",
     "text": [
      "test accuracy 0.6654898524284363 and ROC-AUC 0.6596337323157768\n"
     ]
    },
    {
     "name": "stderr",
     "output_type": "stream",
     "text": [
      "100%|██████████| 3/3 [00:00<00:00,  9.00it/s]\n"
     ]
    },
    {
     "name": "stdout",
     "output_type": "stream",
     "text": [
      "test accuracy 0.7595422267913818 and ROC-AUC 0.7614646848303401\n"
     ]
    },
    {
     "name": "stderr",
     "output_type": "stream",
     "text": [
      "100%|██████████| 3/3 [00:00<00:00,  6.44it/s]\n"
     ]
    },
    {
     "name": "stdout",
     "output_type": "stream",
     "text": [
      "test accuracy 0.8483182390530905 and ROC-AUC 0.8486685714026977\n"
     ]
    },
    {
     "name": "stderr",
     "output_type": "stream",
     "text": [
      "100%|██████████| 3/3 [00:00<00:00,  6.38it/s]\n"
     ]
    },
    {
     "name": "stdout",
     "output_type": "stream",
     "text": [
      "test accuracy 0.8274954557418823 and ROC-AUC 0.8282851808271664\n"
     ]
    },
    {
     "name": "stderr",
     "output_type": "stream",
     "text": [
      "100%|██████████| 3/3 [00:00<00:00,  6.22it/s]\n"
     ]
    },
    {
     "name": "stdout",
     "output_type": "stream",
     "text": [
      "test accuracy 0.8093390464782715 and ROC-AUC 0.8107902680026603\n"
     ]
    },
    {
     "name": "stderr",
     "output_type": "stream",
     "text": [
      "100%|██████████| 3/3 [00:00<00:00,  5.72it/s]\n",
      "  0%|          | 0/3 [00:00<?, ?it/s]"
     ]
    },
    {
     "name": "stdout",
     "output_type": "stream",
     "text": [
      "test accuracy 0.7994943062464396 and ROC-AUC 0.7994596426193364\n"
     ]
    },
    {
     "name": "stderr",
     "output_type": "stream",
     "text": [
      "100%|██████████| 3/3 [00:00<00:00,  9.00it/s]\n"
     ]
    },
    {
     "name": "stdout",
     "output_type": "stream",
     "text": [
      "test accuracy 0.6922780076662699 and ROC-AUC 0.6873306477068861\n",
      "[[0.99157792 0.78048778 0.68431896 0.75724085 0.84147274 0.79909827\n",
      "  0.78805228 0.77527138 0.66886381]\n",
      " [0.99256873 0.8536585  0.66548985 0.75954223 0.84831824 0.82749546\n",
      "  0.80933905 0.79949431 0.69227801]\n",
      " [0.         0.         0.         0.         0.         0.\n",
      "  0.         0.         0.        ]\n",
      " [0.         0.         0.         0.         0.         0.\n",
      "  0.         0.         0.        ]\n",
      " [0.         0.         0.         0.         0.         0.\n",
      "  0.         0.         0.        ]\n",
      " [0.         0.         0.         0.         0.         0.\n",
      "  0.         0.         0.        ]\n",
      " [0.         0.         0.         0.         0.         0.\n",
      "  0.         0.         0.        ]\n",
      " [0.         0.         0.         0.         0.         0.\n",
      "  0.         0.         0.        ]\n",
      " [0.         0.         0.         0.         0.         0.\n",
      "  0.         0.         0.        ]]\n",
      "Elapsed time 0.7486112157503764 mins.\n",
      "\n",
      "2024-05-26 20:08:59 Round 1 ...\n",
      "Current Task 2010 with Budget none\n",
      "Current Task Year 2010 data X (30588, 1789) Y (30588,)\n",
      "X_train (67656, 1789) Y_train (67656,)\n",
      "\n",
      "2024-05-26 20:09:02 Standardizing ...\n"
     ]
    },
    {
     "name": "stderr",
     "output_type": "stream",
     "text": [
      "\r",
      "  0%|          | 0/14 [00:00<?, ?it/s]"
     ]
    },
    {
     "name": "stdout",
     "output_type": "stream",
     "text": [
      "2024-05-26 20:09:02 Training ...\n",
      "Epoch 1 of 100\n"
     ]
    },
    {
     "name": "stderr",
     "output_type": "stream",
     "text": [
      "100%|██████████| 14/14 [00:01<00:00, 10.92it/s]\n",
      "100%|██████████| 2/2 [00:00<00:00, 16.17it/s]\n",
      "  0%|          | 0/14 [00:00<?, ?it/s]"
     ]
    },
    {
     "name": "stdout",
     "output_type": "stream",
     "text": [
      "Train Loss: 0.1303, Train Acc: 0.9619\n",
      "Val Loss: 0.1008, Val Acc: 0.9687\n",
      "Validation loss decreased (inf --> 0.100831).  Saving model ...\n",
      "../az_model_cd/GRS_SavedModel/GRSModel_none/2010/best_model_epoch_1.pt\n",
      "../az_model_cd/GRS_SavedModel/GRSOpt_none/2010/best_optimizer_epoch_1.pt\n",
      "Epoch 2 of 100\n"
     ]
    },
    {
     "name": "stderr",
     "output_type": "stream",
     "text": [
      "100%|██████████| 14/14 [00:01<00:00,  9.35it/s]\n",
      "100%|██████████| 2/2 [00:00<00:00,  8.91it/s]\n",
      "  0%|          | 0/14 [00:00<?, ?it/s]"
     ]
    },
    {
     "name": "stdout",
     "output_type": "stream",
     "text": [
      "Train Loss: 0.0748, Train Acc: 0.9756\n",
      "Val Loss: 0.0680, Val Acc: 0.9775\n",
      "Validation loss decreased (0.100831 --> 0.068017).  Saving model ...\n",
      "../az_model_cd/GRS_SavedModel/GRSModel_none/2010/best_model_epoch_2.pt\n",
      "../az_model_cd/GRS_SavedModel/GRSOpt_none/2010/best_optimizer_epoch_2.pt\n",
      "Epoch 3 of 100\n"
     ]
    },
    {
     "name": "stderr",
     "output_type": "stream",
     "text": [
      "100%|██████████| 14/14 [00:01<00:00, 11.47it/s]\n",
      "100%|██████████| 2/2 [00:00<00:00, 15.99it/s]\n",
      "  0%|          | 0/14 [00:00<?, ?it/s]"
     ]
    },
    {
     "name": "stdout",
     "output_type": "stream",
     "text": [
      "Train Loss: 0.0621, Train Acc: 0.9801\n",
      "Val Loss: 0.0611, Val Acc: 0.9802\n",
      "Validation loss decreased (0.068017 --> 0.061100).  Saving model ...\n",
      "../az_model_cd/GRS_SavedModel/GRSModel_none/2010/best_model_epoch_3.pt\n",
      "../az_model_cd/GRS_SavedModel/GRSOpt_none/2010/best_optimizer_epoch_3.pt\n",
      "Epoch 4 of 100\n"
     ]
    },
    {
     "name": "stderr",
     "output_type": "stream",
     "text": [
      "100%|██████████| 14/14 [00:01<00:00, 11.36it/s]\n",
      "100%|██████████| 2/2 [00:00<00:00, 20.38it/s]\n",
      "  0%|          | 0/14 [00:00<?, ?it/s]"
     ]
    },
    {
     "name": "stdout",
     "output_type": "stream",
     "text": [
      "Train Loss: 0.0535, Train Acc: 0.9829\n",
      "Val Loss: 0.0537, Val Acc: 0.9823\n",
      "Validation loss decreased (0.061100 --> 0.053696).  Saving model ...\n",
      "../az_model_cd/GRS_SavedModel/GRSModel_none/2010/best_model_epoch_4.pt\n",
      "../az_model_cd/GRS_SavedModel/GRSOpt_none/2010/best_optimizer_epoch_4.pt\n",
      "Epoch 5 of 100\n"
     ]
    },
    {
     "name": "stderr",
     "output_type": "stream",
     "text": [
      "100%|██████████| 14/14 [00:01<00:00, 10.41it/s]\n",
      "100%|██████████| 2/2 [00:00<00:00, 18.54it/s]\n",
      "  0%|          | 0/14 [00:00<?, ?it/s]"
     ]
    },
    {
     "name": "stdout",
     "output_type": "stream",
     "text": [
      "Train Loss: 0.0470, Train Acc: 0.9859\n",
      "Val Loss: 0.0598, Val Acc: 0.9807\n",
      "EarlyStopping counter: 1 out of 5\n",
      "Epoch 6 of 100\n"
     ]
    },
    {
     "name": "stderr",
     "output_type": "stream",
     "text": [
      "100%|██████████| 14/14 [00:01<00:00, 10.82it/s]\n",
      "100%|██████████| 2/2 [00:00<00:00, 10.12it/s]\n",
      "  0%|          | 0/14 [00:00<?, ?it/s]"
     ]
    },
    {
     "name": "stdout",
     "output_type": "stream",
     "text": [
      "Train Loss: 0.0451, Train Acc: 0.9859\n",
      "Val Loss: 0.0503, Val Acc: 0.9838\n",
      "Validation loss decreased (0.053696 --> 0.050306).  Saving model ...\n",
      "../az_model_cd/GRS_SavedModel/GRSModel_none/2010/best_model_epoch_6.pt\n",
      "../az_model_cd/GRS_SavedModel/GRSOpt_none/2010/best_optimizer_epoch_6.pt\n",
      "Epoch 7 of 100\n"
     ]
    },
    {
     "name": "stderr",
     "output_type": "stream",
     "text": [
      "100%|██████████| 14/14 [00:01<00:00, 11.22it/s]\n",
      "100%|██████████| 2/2 [00:00<00:00, 16.44it/s]\n",
      "  0%|          | 0/14 [00:00<?, ?it/s]"
     ]
    },
    {
     "name": "stdout",
     "output_type": "stream",
     "text": [
      "Train Loss: 0.0379, Train Acc: 0.9888\n",
      "Val Loss: 0.0457, Val Acc: 0.9855\n",
      "Validation loss decreased (0.050306 --> 0.045655).  Saving model ...\n",
      "../az_model_cd/GRS_SavedModel/GRSModel_none/2010/best_model_epoch_7.pt\n",
      "../az_model_cd/GRS_SavedModel/GRSOpt_none/2010/best_optimizer_epoch_7.pt\n",
      "Epoch 8 of 100\n"
     ]
    },
    {
     "name": "stderr",
     "output_type": "stream",
     "text": [
      "100%|██████████| 14/14 [00:01<00:00, 11.38it/s]\n",
      "100%|██████████| 2/2 [00:00<00:00, 16.33it/s]\n",
      "  0%|          | 0/14 [00:00<?, ?it/s]"
     ]
    },
    {
     "name": "stdout",
     "output_type": "stream",
     "text": [
      "Train Loss: 0.0375, Train Acc: 0.9889\n",
      "Val Loss: 0.0458, Val Acc: 0.9854\n",
      "EarlyStopping counter: 1 out of 5\n",
      "Epoch 9 of 100\n"
     ]
    },
    {
     "name": "stderr",
     "output_type": "stream",
     "text": [
      "100%|██████████| 14/14 [00:01<00:00,  9.40it/s]\n",
      "100%|██████████| 2/2 [00:00<00:00,  8.13it/s]\n",
      "  0%|          | 0/14 [00:00<?, ?it/s]"
     ]
    },
    {
     "name": "stdout",
     "output_type": "stream",
     "text": [
      "Train Loss: 0.0353, Train Acc: 0.9894\n",
      "Val Loss: 0.0448, Val Acc: 0.9863\n",
      "Validation loss decreased (0.045655 --> 0.044849).  Saving model ...\n",
      "../az_model_cd/GRS_SavedModel/GRSModel_none/2010/best_model_epoch_9.pt\n",
      "../az_model_cd/GRS_SavedModel/GRSOpt_none/2010/best_optimizer_epoch_9.pt\n",
      "Epoch 10 of 100\n"
     ]
    },
    {
     "name": "stderr",
     "output_type": "stream",
     "text": [
      "100%|██████████| 14/14 [00:01<00:00, 11.30it/s]\n",
      "100%|██████████| 2/2 [00:00<00:00, 15.38it/s]\n",
      "  0%|          | 0/14 [00:00<?, ?it/s]"
     ]
    },
    {
     "name": "stdout",
     "output_type": "stream",
     "text": [
      "Train Loss: 0.0346, Train Acc: 0.9893\n",
      "Val Loss: 0.0479, Val Acc: 0.9850\n",
      "EarlyStopping counter: 1 out of 5\n",
      "Epoch 11 of 100\n"
     ]
    },
    {
     "name": "stderr",
     "output_type": "stream",
     "text": [
      "100%|██████████| 14/14 [00:01<00:00, 10.84it/s]\n",
      "100%|██████████| 2/2 [00:00<00:00, 17.63it/s]\n",
      "  0%|          | 0/14 [00:00<?, ?it/s]"
     ]
    },
    {
     "name": "stdout",
     "output_type": "stream",
     "text": [
      "Train Loss: 0.0358, Train Acc: 0.9887\n",
      "Val Loss: 0.0527, Val Acc: 0.9832\n",
      "EarlyStopping counter: 2 out of 5\n",
      "Epoch 12 of 100\n"
     ]
    },
    {
     "name": "stderr",
     "output_type": "stream",
     "text": [
      "100%|██████████| 14/14 [00:01<00:00, 11.67it/s]\n",
      "100%|██████████| 2/2 [00:00<00:00, 14.46it/s]\n",
      "  0%|          | 0/14 [00:00<?, ?it/s]"
     ]
    },
    {
     "name": "stdout",
     "output_type": "stream",
     "text": [
      "Train Loss: 0.0323, Train Acc: 0.9903\n",
      "Val Loss: 0.0486, Val Acc: 0.9852\n",
      "EarlyStopping counter: 3 out of 5\n",
      "Epoch 13 of 100\n"
     ]
    },
    {
     "name": "stderr",
     "output_type": "stream",
     "text": [
      "100%|██████████| 14/14 [00:01<00:00, 10.91it/s]\n",
      "100%|██████████| 2/2 [00:00<00:00,  8.63it/s]\n",
      "  0%|          | 0/14 [00:00<?, ?it/s]"
     ]
    },
    {
     "name": "stdout",
     "output_type": "stream",
     "text": [
      "Train Loss: 0.0322, Train Acc: 0.9896\n",
      "Val Loss: 0.0429, Val Acc: 0.9861\n",
      "Validation loss decreased (0.044849 --> 0.042877).  Saving model ...\n",
      "../az_model_cd/GRS_SavedModel/GRSModel_none/2010/best_model_epoch_13.pt\n",
      "../az_model_cd/GRS_SavedModel/GRSOpt_none/2010/best_optimizer_epoch_13.pt\n",
      "Epoch 14 of 100\n"
     ]
    },
    {
     "name": "stderr",
     "output_type": "stream",
     "text": [
      "100%|██████████| 14/14 [00:01<00:00, 11.28it/s]\n",
      "100%|██████████| 2/2 [00:00<00:00, 17.83it/s]\n",
      "  0%|          | 0/14 [00:00<?, ?it/s]"
     ]
    },
    {
     "name": "stdout",
     "output_type": "stream",
     "text": [
      "Train Loss: 0.0320, Train Acc: 0.9900\n",
      "Val Loss: 0.0436, Val Acc: 0.9864\n",
      "EarlyStopping counter: 1 out of 5\n",
      "Epoch 15 of 100\n"
     ]
    },
    {
     "name": "stderr",
     "output_type": "stream",
     "text": [
      "100%|██████████| 14/14 [00:01<00:00, 11.35it/s]\n",
      "100%|██████████| 2/2 [00:00<00:00, 15.51it/s]\n",
      "  0%|          | 0/14 [00:00<?, ?it/s]"
     ]
    },
    {
     "name": "stdout",
     "output_type": "stream",
     "text": [
      "Train Loss: 0.0300, Train Acc: 0.9903\n",
      "Val Loss: 0.0436, Val Acc: 0.9860\n",
      "EarlyStopping counter: 2 out of 5\n",
      "Epoch 16 of 100\n"
     ]
    },
    {
     "name": "stderr",
     "output_type": "stream",
     "text": [
      "100%|██████████| 14/14 [00:01<00:00, 10.65it/s]\n",
      "100%|██████████| 2/2 [00:00<00:00,  8.49it/s]\n",
      "  0%|          | 0/14 [00:00<?, ?it/s]"
     ]
    },
    {
     "name": "stdout",
     "output_type": "stream",
     "text": [
      "Train Loss: 0.0286, Train Acc: 0.9912\n",
      "Val Loss: 0.0407, Val Acc: 0.9875\n",
      "Validation loss decreased (0.042877 --> 0.040660).  Saving model ...\n",
      "../az_model_cd/GRS_SavedModel/GRSModel_none/2010/best_model_epoch_16.pt\n",
      "../az_model_cd/GRS_SavedModel/GRSOpt_none/2010/best_optimizer_epoch_16.pt\n",
      "Epoch 17 of 100\n"
     ]
    },
    {
     "name": "stderr",
     "output_type": "stream",
     "text": [
      "100%|██████████| 14/14 [00:01<00:00, 11.32it/s]\n",
      "100%|██████████| 2/2 [00:00<00:00, 16.72it/s]\n",
      "  0%|          | 0/14 [00:00<?, ?it/s]"
     ]
    },
    {
     "name": "stdout",
     "output_type": "stream",
     "text": [
      "Train Loss: 0.0266, Train Acc: 0.9924\n",
      "Val Loss: 0.0453, Val Acc: 0.9856\n",
      "EarlyStopping counter: 1 out of 5\n",
      "Epoch 18 of 100\n"
     ]
    },
    {
     "name": "stderr",
     "output_type": "stream",
     "text": [
      "100%|██████████| 14/14 [00:01<00:00, 10.97it/s]\n",
      "100%|██████████| 2/2 [00:00<00:00, 16.85it/s]\n",
      "  0%|          | 0/14 [00:00<?, ?it/s]"
     ]
    },
    {
     "name": "stdout",
     "output_type": "stream",
     "text": [
      "Train Loss: 0.0280, Train Acc: 0.9916\n",
      "Val Loss: 0.0507, Val Acc: 0.9847\n",
      "EarlyStopping counter: 2 out of 5\n",
      "Epoch 19 of 100\n"
     ]
    },
    {
     "name": "stderr",
     "output_type": "stream",
     "text": [
      "100%|██████████| 14/14 [00:01<00:00,  9.89it/s]\n",
      "100%|██████████| 2/2 [00:00<00:00, 15.91it/s]\n",
      "  0%|          | 0/14 [00:00<?, ?it/s]"
     ]
    },
    {
     "name": "stdout",
     "output_type": "stream",
     "text": [
      "Train Loss: 0.0271, Train Acc: 0.9912\n",
      "Val Loss: 0.0482, Val Acc: 0.9854\n",
      "EarlyStopping counter: 3 out of 5\n",
      "Epoch 20 of 100\n"
     ]
    },
    {
     "name": "stderr",
     "output_type": "stream",
     "text": [
      "100%|██████████| 14/14 [00:01<00:00, 10.53it/s]\n",
      "100%|██████████| 2/2 [00:00<00:00,  8.60it/s]\n",
      "  0%|          | 0/14 [00:00<?, ?it/s]"
     ]
    },
    {
     "name": "stdout",
     "output_type": "stream",
     "text": [
      "Train Loss: 0.0256, Train Acc: 0.9925\n",
      "Val Loss: 0.0467, Val Acc: 0.9849\n",
      "EarlyStopping counter: 4 out of 5\n",
      "Epoch 21 of 100\n"
     ]
    },
    {
     "name": "stderr",
     "output_type": "stream",
     "text": [
      "100%|██████████| 14/14 [00:01<00:00, 10.94it/s]\n",
      "100%|██████████| 2/2 [00:00<00:00, 17.73it/s]\n",
      "  0%|          | 0/1 [00:00<?, ?it/s]"
     ]
    },
    {
     "name": "stdout",
     "output_type": "stream",
     "text": [
      "Train Loss: 0.0265, Train Acc: 0.9920\n",
      "Val Loss: 0.0474, Val Acc: 0.9857\n",
      "EarlyStopping counter: 5 out of 5\n",
      "Early stopping\n",
      "Training time: 0.519 minutes\n",
      "Elapsed time 1.3175519506136577 mins.\n",
      "loading best model ../az_model_cd/GRS_SavedModel/GRSModel_none/2010/best_model_epoch_16.pt\n",
      "loading best optimizer ../az_model_cd/GRS_SavedModel/GRSOpt_none/2010/best_optimizer_epoch_16.pt\n"
     ]
    },
    {
     "name": "stderr",
     "output_type": "stream",
     "text": [
      "100%|██████████| 1/1 [00:00<00:00,  4.32it/s]\n",
      "  0%|          | 0/1 [00:00<?, ?it/s]"
     ]
    },
    {
     "name": "stdout",
     "output_type": "stream",
     "text": [
      "test accuracy 0.9928164482116699 and ROC-AUC 0.9928356518640045\n"
     ]
    },
    {
     "name": "stderr",
     "output_type": "stream",
     "text": [
      "100%|██████████| 1/1 [00:00<00:00,  9.03it/s]\n"
     ]
    },
    {
     "name": "stdout",
     "output_type": "stream",
     "text": [
      "test accuracy 0.914634108543396 and ROC-AUC 0.925531914893617\n"
     ]
    },
    {
     "name": "stderr",
     "output_type": "stream",
     "text": [
      "100%|██████████| 1/1 [00:00<00:00,  5.29it/s]\n",
      "  0%|          | 0/3 [00:00<?, ?it/s]"
     ]
    },
    {
     "name": "stdout",
     "output_type": "stream",
     "text": [
      "test accuracy 0.9623419046401978 and ROC-AUC 0.9620036992009311\n"
     ]
    },
    {
     "name": "stderr",
     "output_type": "stream",
     "text": [
      "100%|██████████| 3/3 [00:00<00:00,  8.27it/s]\n"
     ]
    },
    {
     "name": "stdout",
     "output_type": "stream",
     "text": [
      "test accuracy 0.8726477225621542 and ROC-AUC 0.8738323854477412\n"
     ]
    },
    {
     "name": "stderr",
     "output_type": "stream",
     "text": [
      "100%|██████████| 3/3 [00:00<00:00,  6.19it/s]\n"
     ]
    },
    {
     "name": "stdout",
     "output_type": "stream",
     "text": [
      "test accuracy 0.8580688238143921 and ROC-AUC 0.8579544430231676\n"
     ]
    },
    {
     "name": "stderr",
     "output_type": "stream",
     "text": [
      "100%|██████████| 3/3 [00:00<00:00,  6.26it/s]\n"
     ]
    },
    {
     "name": "stdout",
     "output_type": "stream",
     "text": [
      "test accuracy 0.773044486840566 and ROC-AUC 0.7740363387440381\n"
     ]
    },
    {
     "name": "stderr",
     "output_type": "stream",
     "text": [
      "100%|██████████| 3/3 [00:00<00:00,  6.00it/s]\n"
     ]
    },
    {
     "name": "stdout",
     "output_type": "stream",
     "text": [
      "test accuracy 0.7846164703369141 and ROC-AUC 0.7844793216489863\n"
     ]
    },
    {
     "name": "stderr",
     "output_type": "stream",
     "text": [
      "100%|██████████| 3/3 [00:00<00:00,  5.91it/s]\n",
      "  0%|          | 0/3 [00:00<?, ?it/s]"
     ]
    },
    {
     "name": "stdout",
     "output_type": "stream",
     "text": [
      "test accuracy 0.754131555557251 and ROC-AUC 0.7570488445550007\n"
     ]
    },
    {
     "name": "stderr",
     "output_type": "stream",
     "text": [
      "100%|██████████| 3/3 [00:00<00:00,  9.10it/s]\n"
     ]
    },
    {
     "name": "stdout",
     "output_type": "stream",
     "text": [
      "test accuracy 0.6726890206336975 and ROC-AUC 0.6697630284529301\n",
      "[[0.99157792 0.78048778 0.68431896 0.75724085 0.84147274 0.79909827\n",
      "  0.78805228 0.77527138 0.66886381]\n",
      " [0.99256873 0.8536585  0.66548985 0.75954223 0.84831824 0.82749546\n",
      "  0.80933905 0.79949431 0.69227801]\n",
      " [0.99281645 0.91463411 0.9623419  0.87264772 0.85806882 0.77304449\n",
      "  0.78461647 0.75413156 0.67268902]\n",
      " [0.         0.         0.         0.         0.         0.\n",
      "  0.         0.         0.        ]\n",
      " [0.         0.         0.         0.         0.         0.\n",
      "  0.         0.         0.        ]\n",
      " [0.         0.         0.         0.         0.         0.\n",
      "  0.         0.         0.        ]\n",
      " [0.         0.         0.         0.         0.         0.\n",
      "  0.         0.         0.        ]\n",
      " [0.         0.         0.         0.         0.         0.\n",
      "  0.         0.         0.        ]\n",
      " [0.         0.         0.         0.         0.         0.\n",
      "  0.         0.         0.        ]]\n",
      "Elapsed time 1.401231586933136 mins.\n",
      "\n",
      "2024-05-26 20:09:39 Round 1 ...\n",
      "Current Task 2011 with Budget none\n",
      "Current Task Year 2011 data X (96605, 1789) Y (96605,)\n",
      "X_train (164261, 1789) Y_train (164261,)\n",
      "\n",
      "2024-05-26 20:09:44 Standardizing ...\n"
     ]
    },
    {
     "name": "stderr",
     "output_type": "stream",
     "text": [
      "\r",
      "  0%|          | 0/36 [00:00<?, ?it/s]"
     ]
    },
    {
     "name": "stdout",
     "output_type": "stream",
     "text": [
      "2024-05-26 20:09:45 Training ...\n",
      "Epoch 1 of 100\n"
     ]
    },
    {
     "name": "stderr",
     "output_type": "stream",
     "text": [
      "100%|██████████| 36/36 [00:02<00:00, 12.07it/s]\n",
      "100%|██████████| 5/5 [00:00<00:00, 13.14it/s]\n",
      "  0%|          | 0/36 [00:00<?, ?it/s]"
     ]
    },
    {
     "name": "stdout",
     "output_type": "stream",
     "text": [
      "Train Loss: 0.1418, Train Acc: 0.9566\n",
      "Val Loss: 0.1237, Val Acc: 0.9531\n",
      "Validation loss decreased (inf --> 0.123691).  Saving model ...\n",
      "../az_model_cd/GRS_SavedModel/GRSModel_none/2011/best_model_epoch_1.pt\n",
      "../az_model_cd/GRS_SavedModel/GRSOpt_none/2011/best_optimizer_epoch_1.pt\n",
      "Epoch 2 of 100\n"
     ]
    },
    {
     "name": "stderr",
     "output_type": "stream",
     "text": [
      "100%|██████████| 36/36 [00:03<00:00, 11.53it/s]\n",
      "100%|██████████| 5/5 [00:00<00:00, 17.53it/s]\n",
      "  0%|          | 0/36 [00:00<?, ?it/s]"
     ]
    },
    {
     "name": "stdout",
     "output_type": "stream",
     "text": [
      "Train Loss: 0.0947, Train Acc: 0.9697\n",
      "Val Loss: 0.1138, Val Acc: 0.9569\n",
      "Validation loss decreased (0.123691 --> 0.113801).  Saving model ...\n",
      "../az_model_cd/GRS_SavedModel/GRSModel_none/2011/best_model_epoch_2.pt\n",
      "../az_model_cd/GRS_SavedModel/GRSOpt_none/2011/best_optimizer_epoch_2.pt\n",
      "Epoch 3 of 100\n"
     ]
    },
    {
     "name": "stderr",
     "output_type": "stream",
     "text": [
      "100%|██████████| 36/36 [00:03<00:00, 11.98it/s]\n",
      "100%|██████████| 5/5 [00:00<00:00, 13.88it/s]\n",
      "  0%|          | 0/36 [00:00<?, ?it/s]"
     ]
    },
    {
     "name": "stdout",
     "output_type": "stream",
     "text": [
      "Train Loss: 0.0824, Train Acc: 0.9734\n",
      "Val Loss: 0.1165, Val Acc: 0.9568\n",
      "EarlyStopping counter: 1 out of 5\n",
      "Epoch 4 of 100\n"
     ]
    },
    {
     "name": "stderr",
     "output_type": "stream",
     "text": [
      "100%|██████████| 36/36 [00:02<00:00, 13.29it/s]\n",
      "100%|██████████| 5/5 [00:00<00:00, 12.71it/s]\n",
      "  0%|          | 0/36 [00:00<?, ?it/s]"
     ]
    },
    {
     "name": "stdout",
     "output_type": "stream",
     "text": [
      "Train Loss: 0.0768, Train Acc: 0.9757\n",
      "Val Loss: 0.1182, Val Acc: 0.9576\n",
      "EarlyStopping counter: 2 out of 5\n",
      "Epoch 5 of 100\n"
     ]
    },
    {
     "name": "stderr",
     "output_type": "stream",
     "text": [
      "100%|██████████| 36/36 [00:02<00:00, 13.45it/s]\n",
      "100%|██████████| 5/5 [00:00<00:00, 12.94it/s]\n",
      "  0%|          | 0/36 [00:00<?, ?it/s]"
     ]
    },
    {
     "name": "stdout",
     "output_type": "stream",
     "text": [
      "Train Loss: 0.0738, Train Acc: 0.9763\n",
      "Val Loss: 0.1127, Val Acc: 0.9585\n",
      "Validation loss decreased (0.113801 --> 0.112700).  Saving model ...\n",
      "../az_model_cd/GRS_SavedModel/GRSModel_none/2011/best_model_epoch_5.pt\n",
      "../az_model_cd/GRS_SavedModel/GRSOpt_none/2011/best_optimizer_epoch_5.pt\n",
      "Epoch 6 of 100\n"
     ]
    },
    {
     "name": "stderr",
     "output_type": "stream",
     "text": [
      "100%|██████████| 36/36 [00:02<00:00, 13.43it/s]\n",
      "100%|██████████| 5/5 [00:00<00:00, 19.60it/s]\n",
      "  0%|          | 0/36 [00:00<?, ?it/s]"
     ]
    },
    {
     "name": "stdout",
     "output_type": "stream",
     "text": [
      "Train Loss: 0.0666, Train Acc: 0.9791\n",
      "Val Loss: 0.1045, Val Acc: 0.9601\n",
      "Validation loss decreased (0.112700 --> 0.104471).  Saving model ...\n",
      "../az_model_cd/GRS_SavedModel/GRSModel_none/2011/best_model_epoch_6.pt\n",
      "../az_model_cd/GRS_SavedModel/GRSOpt_none/2011/best_optimizer_epoch_6.pt\n",
      "Epoch 7 of 100\n"
     ]
    },
    {
     "name": "stderr",
     "output_type": "stream",
     "text": [
      "100%|██████████| 36/36 [00:02<00:00, 12.49it/s]\n",
      "100%|██████████| 5/5 [00:00<00:00, 13.31it/s]\n",
      "  0%|          | 0/36 [00:00<?, ?it/s]"
     ]
    },
    {
     "name": "stdout",
     "output_type": "stream",
     "text": [
      "Train Loss: 0.0658, Train Acc: 0.9794\n",
      "Val Loss: 0.1164, Val Acc: 0.9582\n",
      "EarlyStopping counter: 1 out of 5\n",
      "Epoch 8 of 100\n"
     ]
    },
    {
     "name": "stderr",
     "output_type": "stream",
     "text": [
      "100%|██████████| 36/36 [00:02<00:00, 13.28it/s]\n",
      "100%|██████████| 5/5 [00:00<00:00, 12.56it/s]\n",
      "  0%|          | 0/36 [00:00<?, ?it/s]"
     ]
    },
    {
     "name": "stdout",
     "output_type": "stream",
     "text": [
      "Train Loss: 0.0625, Train Acc: 0.9802\n",
      "Val Loss: 0.1231, Val Acc: 0.9566\n",
      "EarlyStopping counter: 2 out of 5\n",
      "Epoch 9 of 100\n"
     ]
    },
    {
     "name": "stderr",
     "output_type": "stream",
     "text": [
      "100%|██████████| 36/36 [00:02<00:00, 13.16it/s]\n",
      "100%|██████████| 5/5 [00:00<00:00, 19.18it/s]\n",
      "  0%|          | 0/36 [00:00<?, ?it/s]"
     ]
    },
    {
     "name": "stdout",
     "output_type": "stream",
     "text": [
      "Train Loss: 0.0614, Train Acc: 0.9802\n",
      "Val Loss: 0.1053, Val Acc: 0.9611\n",
      "EarlyStopping counter: 3 out of 5\n",
      "Epoch 10 of 100\n"
     ]
    },
    {
     "name": "stderr",
     "output_type": "stream",
     "text": [
      "100%|██████████| 36/36 [00:02<00:00, 13.52it/s]\n",
      "100%|██████████| 5/5 [00:00<00:00, 12.00it/s]\n",
      "  0%|          | 0/36 [00:00<?, ?it/s]"
     ]
    },
    {
     "name": "stdout",
     "output_type": "stream",
     "text": [
      "Train Loss: 0.0616, Train Acc: 0.9803\n",
      "Val Loss: 0.1107, Val Acc: 0.9601\n",
      "EarlyStopping counter: 4 out of 5\n",
      "Epoch 11 of 100\n"
     ]
    },
    {
     "name": "stderr",
     "output_type": "stream",
     "text": [
      "100%|██████████| 36/36 [00:02<00:00, 13.57it/s]\n",
      "100%|██████████| 5/5 [00:00<00:00, 12.79it/s]\n",
      "  0%|          | 0/1 [00:00<?, ?it/s]"
     ]
    },
    {
     "name": "stdout",
     "output_type": "stream",
     "text": [
      "Train Loss: 0.0583, Train Acc: 0.9813\n",
      "Val Loss: 0.1159, Val Acc: 0.9611\n",
      "EarlyStopping counter: 5 out of 5\n",
      "Early stopping\n",
      "Training time: 0.585 minutes\n",
      "Elapsed time 2.0897055705388388 mins.\n",
      "loading best model ../az_model_cd/GRS_SavedModel/GRSModel_none/2011/best_model_epoch_6.pt\n",
      "loading best optimizer ../az_model_cd/GRS_SavedModel/GRSOpt_none/2011/best_optimizer_epoch_6.pt\n"
     ]
    },
    {
     "name": "stderr",
     "output_type": "stream",
     "text": [
      "100%|██████████| 1/1 [00:00<00:00,  4.20it/s]\n",
      "  0%|          | 0/1 [00:00<?, ?it/s]"
     ]
    },
    {
     "name": "stdout",
     "output_type": "stream",
     "text": [
      "test accuracy 0.9915779232978821 and ROC-AUC 0.9915216272820015\n"
     ]
    },
    {
     "name": "stderr",
     "output_type": "stream",
     "text": [
      "100%|██████████| 1/1 [00:00<00:00,  8.64it/s]\n"
     ]
    },
    {
     "name": "stdout",
     "output_type": "stream",
     "text": [
      "test accuracy 0.9999999403953552 and ROC-AUC 1.0\n"
     ]
    },
    {
     "name": "stderr",
     "output_type": "stream",
     "text": [
      "100%|██████████| 1/1 [00:00<00:00,  4.56it/s]\n",
      "  0%|          | 0/3 [00:00<?, ?it/s]"
     ]
    },
    {
     "name": "stdout",
     "output_type": "stream",
     "text": [
      "test accuracy 0.9696969985961914 and ROC-AUC 0.9695669266792286\n"
     ]
    },
    {
     "name": "stderr",
     "output_type": "stream",
     "text": [
      "100%|██████████| 3/3 [00:00<00:00,  7.91it/s]\n"
     ]
    },
    {
     "name": "stdout",
     "output_type": "stream",
     "text": [
      "test accuracy 0.9467704892158508 and ROC-AUC 0.9465349332607524\n"
     ]
    },
    {
     "name": "stderr",
     "output_type": "stream",
     "text": [
      "100%|██████████| 3/3 [00:00<00:00,  8.05it/s]\n"
     ]
    },
    {
     "name": "stdout",
     "output_type": "stream",
     "text": [
      "test accuracy 0.8906256953875223 and ROC-AUC 0.8894953793466525\n"
     ]
    },
    {
     "name": "stderr",
     "output_type": "stream",
     "text": [
      "100%|██████████| 3/3 [00:00<00:00,  7.92it/s]\n"
     ]
    },
    {
     "name": "stdout",
     "output_type": "stream",
     "text": [
      "test accuracy 0.7721173365910848 and ROC-AUC 0.7727606150616808\n"
     ]
    },
    {
     "name": "stderr",
     "output_type": "stream",
     "text": [
      "100%|██████████| 3/3 [00:00<00:00,  7.91it/s]\n"
     ]
    },
    {
     "name": "stdout",
     "output_type": "stream",
     "text": [
      "test accuracy 0.7579361399014791 and ROC-AUC 0.7570773706868764\n"
     ]
    },
    {
     "name": "stderr",
     "output_type": "stream",
     "text": [
      "100%|██████████| 3/3 [00:00<00:00,  8.30it/s]\n",
      "  0%|          | 0/3 [00:00<?, ?it/s]"
     ]
    },
    {
     "name": "stdout",
     "output_type": "stream",
     "text": [
      "test accuracy 0.7133613228797913 and ROC-AUC 0.7109427034535729\n"
     ]
    },
    {
     "name": "stderr",
     "output_type": "stream",
     "text": [
      "100%|██████████| 3/3 [00:00<00:00,  8.97it/s]\n"
     ]
    },
    {
     "name": "stdout",
     "output_type": "stream",
     "text": [
      "test accuracy 0.6289629936218262 and ROC-AUC 0.6245147366337954\n",
      "[[0.99157792 0.78048778 0.68431896 0.75724085 0.84147274 0.79909827\n",
      "  0.78805228 0.77527138 0.66886381]\n",
      " [0.99256873 0.8536585  0.66548985 0.75954223 0.84831824 0.82749546\n",
      "  0.80933905 0.79949431 0.69227801]\n",
      " [0.99281645 0.91463411 0.9623419  0.87264772 0.85806882 0.77304449\n",
      "  0.78461647 0.75413156 0.67268902]\n",
      " [0.99157792 0.99999994 0.969697   0.94677049 0.8906257  0.77211734\n",
      "  0.75793614 0.71336132 0.62896299]\n",
      " [0.         0.         0.         0.         0.         0.\n",
      "  0.         0.         0.        ]\n",
      " [0.         0.         0.         0.         0.         0.\n",
      "  0.         0.         0.        ]\n",
      " [0.         0.         0.         0.         0.         0.\n",
      "  0.         0.         0.        ]\n",
      " [0.         0.         0.         0.         0.         0.\n",
      "  0.         0.         0.        ]\n",
      " [0.         0.         0.         0.         0.         0.\n",
      "  0.         0.         0.        ]]\n",
      "Elapsed time 2.167909634113312 mins.\n",
      "\n",
      "2024-05-26 20:10:25 Round 1 ...\n",
      "Current Task 2012 with Budget none\n",
      "Current Task Year 2012 data X (107996, 1789) Y (107996,)\n",
      "X_train (272257, 1789) Y_train (272257,)\n",
      "\n",
      "2024-05-26 20:10:33 Standardizing ...\n"
     ]
    },
    {
     "name": "stderr",
     "output_type": "stream",
     "text": [
      "\r",
      "  0%|          | 0/59 [00:00<?, ?it/s]"
     ]
    },
    {
     "name": "stdout",
     "output_type": "stream",
     "text": [
      "2024-05-26 20:10:35 Training ...\n",
      "Epoch 1 of 100\n"
     ]
    },
    {
     "name": "stderr",
     "output_type": "stream",
     "text": [
      "100%|██████████| 59/59 [00:04<00:00, 14.23it/s]\n",
      "100%|██████████| 7/7 [00:00<00:00, 14.80it/s]\n",
      "  0%|          | 0/59 [00:00<?, ?it/s]"
     ]
    },
    {
     "name": "stdout",
     "output_type": "stream",
     "text": [
      "Train Loss: 0.1035, Train Acc: 0.9672\n",
      "Val Loss: 0.1016, Val Acc: 0.9654\n",
      "Validation loss decreased (inf --> 0.101618).  Saving model ...\n",
      "../az_model_cd/GRS_SavedModel/GRSModel_none/2012/best_model_epoch_1.pt\n",
      "../az_model_cd/GRS_SavedModel/GRSOpt_none/2012/best_optimizer_epoch_1.pt\n",
      "Epoch 2 of 100\n"
     ]
    },
    {
     "name": "stderr",
     "output_type": "stream",
     "text": [
      "100%|██████████| 59/59 [00:04<00:00, 14.01it/s]\n",
      "100%|██████████| 7/7 [00:00<00:00, 12.94it/s]\n",
      "  0%|          | 0/59 [00:00<?, ?it/s]"
     ]
    },
    {
     "name": "stdout",
     "output_type": "stream",
     "text": [
      "Train Loss: 0.0779, Train Acc: 0.9750\n",
      "Val Loss: 0.0923, Val Acc: 0.9679\n",
      "Validation loss decreased (0.101618 --> 0.092294).  Saving model ...\n",
      "../az_model_cd/GRS_SavedModel/GRSModel_none/2012/best_model_epoch_2.pt\n",
      "../az_model_cd/GRS_SavedModel/GRSOpt_none/2012/best_optimizer_epoch_2.pt\n",
      "Epoch 3 of 100\n"
     ]
    },
    {
     "name": "stderr",
     "output_type": "stream",
     "text": [
      "100%|██████████| 59/59 [00:04<00:00, 13.96it/s]\n",
      "100%|██████████| 7/7 [00:00<00:00, 14.70it/s]\n",
      "  0%|          | 0/59 [00:00<?, ?it/s]"
     ]
    },
    {
     "name": "stdout",
     "output_type": "stream",
     "text": [
      "Train Loss: 0.0729, Train Acc: 0.9766\n",
      "Val Loss: 0.0936, Val Acc: 0.9638\n",
      "EarlyStopping counter: 1 out of 5\n",
      "Epoch 4 of 100\n"
     ]
    },
    {
     "name": "stderr",
     "output_type": "stream",
     "text": [
      "100%|██████████| 59/59 [00:04<00:00, 13.95it/s]\n",
      "100%|██████████| 7/7 [00:00<00:00, 14.98it/s]\n",
      "  0%|          | 0/59 [00:00<?, ?it/s]"
     ]
    },
    {
     "name": "stdout",
     "output_type": "stream",
     "text": [
      "Train Loss: 0.0721, Train Acc: 0.9770\n",
      "Val Loss: 0.0861, Val Acc: 0.9708\n",
      "Validation loss decreased (0.092294 --> 0.086131).  Saving model ...\n",
      "../az_model_cd/GRS_SavedModel/GRSModel_none/2012/best_model_epoch_4.pt\n",
      "../az_model_cd/GRS_SavedModel/GRSOpt_none/2012/best_optimizer_epoch_4.pt\n",
      "Epoch 5 of 100\n"
     ]
    },
    {
     "name": "stderr",
     "output_type": "stream",
     "text": [
      "100%|██████████| 59/59 [00:04<00:00, 13.40it/s]\n",
      "100%|██████████| 7/7 [00:00<00:00, 14.97it/s]\n",
      "  0%|          | 0/59 [00:00<?, ?it/s]"
     ]
    },
    {
     "name": "stdout",
     "output_type": "stream",
     "text": [
      "Train Loss: 0.0683, Train Acc: 0.9781\n",
      "Val Loss: 0.0985, Val Acc: 0.9670\n",
      "EarlyStopping counter: 1 out of 5\n",
      "Epoch 6 of 100\n"
     ]
    },
    {
     "name": "stderr",
     "output_type": "stream",
     "text": [
      "100%|██████████| 59/59 [00:04<00:00, 14.07it/s]\n",
      "100%|██████████| 7/7 [00:00<00:00, 11.99it/s]\n",
      "  0%|          | 0/59 [00:00<?, ?it/s]"
     ]
    },
    {
     "name": "stdout",
     "output_type": "stream",
     "text": [
      "Train Loss: 0.0666, Train Acc: 0.9787\n",
      "Val Loss: 0.0803, Val Acc: 0.9725\n",
      "Validation loss decreased (0.086131 --> 0.080259).  Saving model ...\n",
      "../az_model_cd/GRS_SavedModel/GRSModel_none/2012/best_model_epoch_6.pt\n",
      "../az_model_cd/GRS_SavedModel/GRSOpt_none/2012/best_optimizer_epoch_6.pt\n",
      "Epoch 7 of 100\n"
     ]
    },
    {
     "name": "stderr",
     "output_type": "stream",
     "text": [
      "100%|██████████| 59/59 [00:04<00:00, 13.29it/s]\n",
      "100%|██████████| 7/7 [00:00<00:00, 14.14it/s]\n",
      "  0%|          | 0/59 [00:00<?, ?it/s]"
     ]
    },
    {
     "name": "stdout",
     "output_type": "stream",
     "text": [
      "Train Loss: 0.0636, Train Acc: 0.9796\n",
      "Val Loss: 0.0969, Val Acc: 0.9688\n",
      "EarlyStopping counter: 1 out of 5\n",
      "Epoch 8 of 100\n"
     ]
    },
    {
     "name": "stderr",
     "output_type": "stream",
     "text": [
      "100%|██████████| 59/59 [00:04<00:00, 14.23it/s]\n",
      "100%|██████████| 7/7 [00:00<00:00, 15.39it/s]\n",
      "  0%|          | 0/59 [00:00<?, ?it/s]"
     ]
    },
    {
     "name": "stdout",
     "output_type": "stream",
     "text": [
      "Train Loss: 0.0622, Train Acc: 0.9802\n",
      "Val Loss: 0.0876, Val Acc: 0.9725\n",
      "EarlyStopping counter: 2 out of 5\n",
      "Epoch 9 of 100\n"
     ]
    },
    {
     "name": "stderr",
     "output_type": "stream",
     "text": [
      "100%|██████████| 59/59 [00:04<00:00, 14.39it/s]\n",
      "100%|██████████| 7/7 [00:00<00:00, 14.14it/s]\n",
      "  0%|          | 0/59 [00:00<?, ?it/s]"
     ]
    },
    {
     "name": "stdout",
     "output_type": "stream",
     "text": [
      "Train Loss: 0.0617, Train Acc: 0.9807\n",
      "Val Loss: 0.0919, Val Acc: 0.9696\n",
      "EarlyStopping counter: 3 out of 5\n",
      "Epoch 10 of 100\n"
     ]
    },
    {
     "name": "stderr",
     "output_type": "stream",
     "text": [
      "100%|██████████| 59/59 [00:04<00:00, 14.74it/s]\n",
      "100%|██████████| 7/7 [00:00<00:00, 14.91it/s]\n",
      "  0%|          | 0/59 [00:00<?, ?it/s]"
     ]
    },
    {
     "name": "stdout",
     "output_type": "stream",
     "text": [
      "Train Loss: 0.0598, Train Acc: 0.9810\n",
      "Val Loss: 0.0926, Val Acc: 0.9718\n",
      "EarlyStopping counter: 4 out of 5\n",
      "Epoch 11 of 100\n"
     ]
    },
    {
     "name": "stderr",
     "output_type": "stream",
     "text": [
      "100%|██████████| 59/59 [00:04<00:00, 14.29it/s]\n",
      "100%|██████████| 7/7 [00:00<00:00, 13.91it/s]\n",
      "  0%|          | 0/1 [00:00<?, ?it/s]"
     ]
    },
    {
     "name": "stdout",
     "output_type": "stream",
     "text": [
      "Train Loss: 0.0592, Train Acc: 0.9812\n",
      "Val Loss: 0.0957, Val Acc: 0.9711\n",
      "EarlyStopping counter: 5 out of 5\n",
      "Early stopping\n",
      "Training time: 0.867 minutes\n",
      "Elapsed time 3.205343310038249 mins.\n",
      "loading best model ../az_model_cd/GRS_SavedModel/GRSModel_none/2012/best_model_epoch_6.pt\n",
      "loading best optimizer ../az_model_cd/GRS_SavedModel/GRSOpt_none/2012/best_optimizer_epoch_6.pt\n"
     ]
    },
    {
     "name": "stderr",
     "output_type": "stream",
     "text": [
      "100%|██████████| 1/1 [00:00<00:00,  3.01it/s]\n",
      "  0%|          | 0/1 [00:00<?, ?it/s]"
     ]
    },
    {
     "name": "stdout",
     "output_type": "stream",
     "text": [
      "test accuracy 0.993807315826416 and ROC-AUC 0.9938020575622629\n"
     ]
    },
    {
     "name": "stderr",
     "output_type": "stream",
     "text": [
      "100%|██████████| 1/1 [00:00<00:00,  8.29it/s]\n"
     ]
    },
    {
     "name": "stdout",
     "output_type": "stream",
     "text": [
      "test accuracy 0.9999999403953552 and ROC-AUC 1.0\n"
     ]
    },
    {
     "name": "stderr",
     "output_type": "stream",
     "text": [
      "100%|██████████| 1/1 [00:00<00:00,  4.66it/s]\n"
     ]
    },
    {
     "name": "stdout",
     "output_type": "stream",
     "text": [
      "test accuracy 0.9526331424713135 and ROC-AUC 0.953325897032639\n"
     ]
    },
    {
     "name": "stderr",
     "output_type": "stream",
     "text": [
      "100%|██████████| 3/3 [00:00<00:00,  6.73it/s]\n"
     ]
    },
    {
     "name": "stdout",
     "output_type": "stream",
     "text": [
      "test accuracy 0.9521148800849915 and ROC-AUC 0.9513645594764678\n"
     ]
    },
    {
     "name": "stderr",
     "output_type": "stream",
     "text": [
      "100%|██████████| 3/3 [00:00<00:00,  6.18it/s]\n"
     ]
    },
    {
     "name": "stdout",
     "output_type": "stream",
     "text": [
      "test accuracy 0.9615358908971151 and ROC-AUC 0.9614387664739281\n"
     ]
    },
    {
     "name": "stderr",
     "output_type": "stream",
     "text": [
      "100%|██████████| 3/3 [00:00<00:00,  6.30it/s]\n"
     ]
    },
    {
     "name": "stdout",
     "output_type": "stream",
     "text": [
      "test accuracy 0.8676247994105021 and ROC-AUC 0.8671924115196464\n"
     ]
    },
    {
     "name": "stderr",
     "output_type": "stream",
     "text": [
      "100%|██████████| 3/3 [00:00<00:00,  6.38it/s]\n"
     ]
    },
    {
     "name": "stdout",
     "output_type": "stream",
     "text": [
      "test accuracy 0.7811558842658997 and ROC-AUC 0.7825997344756394\n"
     ]
    },
    {
     "name": "stderr",
     "output_type": "stream",
     "text": [
      "100%|██████████| 3/3 [00:00<00:00,  6.38it/s]\n",
      "  0%|          | 0/3 [00:00<?, ?it/s]"
     ]
    },
    {
     "name": "stdout",
     "output_type": "stream",
     "text": [
      "test accuracy 0.7698270082473755 and ROC-AUC 0.7713985554460354\n"
     ]
    },
    {
     "name": "stderr",
     "output_type": "stream",
     "text": [
      "100%|██████████| 3/3 [00:00<00:00,  6.28it/s]\n"
     ]
    },
    {
     "name": "stdout",
     "output_type": "stream",
     "text": [
      "test accuracy 0.6927565534909567 and ROC-AUC 0.6938861626609816\n",
      "[[0.99157792 0.78048778 0.68431896 0.75724085 0.84147274 0.79909827\n",
      "  0.78805228 0.77527138 0.66886381]\n",
      " [0.99256873 0.8536585  0.66548985 0.75954223 0.84831824 0.82749546\n",
      "  0.80933905 0.79949431 0.69227801]\n",
      " [0.99281645 0.91463411 0.9623419  0.87264772 0.85806882 0.77304449\n",
      "  0.78461647 0.75413156 0.67268902]\n",
      " [0.99157792 0.99999994 0.969697   0.94677049 0.8906257  0.77211734\n",
      "  0.75793614 0.71336132 0.62896299]\n",
      " [0.99380732 0.99999994 0.95263314 0.95211488 0.96153589 0.8676248\n",
      "  0.78115588 0.76982701 0.69275655]\n",
      " [0.         0.         0.         0.         0.         0.\n",
      "  0.         0.         0.        ]\n",
      " [0.         0.         0.         0.         0.         0.\n",
      "  0.         0.         0.        ]\n",
      " [0.         0.         0.         0.         0.         0.\n",
      "  0.         0.         0.        ]\n",
      " [0.         0.         0.         0.         0.         0.\n",
      "  0.         0.         0.        ]]\n",
      "Elapsed time 3.29612299601237 mins.\n",
      "\n",
      "2024-05-26 20:11:32 Round 1 ...\n",
      "Current Task 2013 with Budget none\n",
      "Current Task Year 2013 data X (107984, 1789) Y (107984,)\n",
      "X_train (380241, 1789) Y_train (380241,)\n",
      "\n",
      "2024-05-26 20:11:44 Standardizing ...\n"
     ]
    },
    {
     "name": "stderr",
     "output_type": "stream",
     "text": [
      "\r",
      "  0%|          | 0/83 [00:00<?, ?it/s]"
     ]
    },
    {
     "name": "stdout",
     "output_type": "stream",
     "text": [
      "2024-05-26 20:11:47 Training ...\n",
      "Epoch 1 of 100\n"
     ]
    },
    {
     "name": "stderr",
     "output_type": "stream",
     "text": [
      "100%|██████████| 83/83 [00:06<00:00, 13.07it/s]\n",
      "100%|██████████| 10/10 [00:00<00:00, 14.14it/s]\n",
      "  0%|          | 0/83 [00:00<?, ?it/s]"
     ]
    },
    {
     "name": "stdout",
     "output_type": "stream",
     "text": [
      "Train Loss: 0.0967, Train Acc: 0.9695\n",
      "Val Loss: 0.0906, Val Acc: 0.9671\n",
      "Validation loss decreased (inf --> 0.090627).  Saving model ...\n",
      "../az_model_cd/GRS_SavedModel/GRSModel_none/2013/best_model_epoch_1.pt\n",
      "../az_model_cd/GRS_SavedModel/GRSOpt_none/2013/best_optimizer_epoch_1.pt\n",
      "Epoch 2 of 100\n"
     ]
    },
    {
     "name": "stderr",
     "output_type": "stream",
     "text": [
      "100%|██████████| 83/83 [00:06<00:00, 13.20it/s]\n",
      "100%|██████████| 10/10 [00:00<00:00, 14.12it/s]\n",
      "  0%|          | 0/83 [00:00<?, ?it/s]"
     ]
    },
    {
     "name": "stdout",
     "output_type": "stream",
     "text": [
      "Train Loss: 0.0749, Train Acc: 0.9763\n",
      "Val Loss: 0.0811, Val Acc: 0.9721\n",
      "Validation loss decreased (0.090627 --> 0.081141).  Saving model ...\n",
      "../az_model_cd/GRS_SavedModel/GRSModel_none/2013/best_model_epoch_2.pt\n",
      "../az_model_cd/GRS_SavedModel/GRSOpt_none/2013/best_optimizer_epoch_2.pt\n",
      "Epoch 3 of 100\n"
     ]
    },
    {
     "name": "stderr",
     "output_type": "stream",
     "text": [
      "100%|██████████| 83/83 [00:06<00:00, 12.90it/s]\n",
      "100%|██████████| 10/10 [00:00<00:00, 13.56it/s]\n",
      "  0%|          | 0/83 [00:00<?, ?it/s]"
     ]
    },
    {
     "name": "stdout",
     "output_type": "stream",
     "text": [
      "Train Loss: 0.0692, Train Acc: 0.9784\n",
      "Val Loss: 0.0722, Val Acc: 0.9750\n",
      "Validation loss decreased (0.081141 --> 0.072207).  Saving model ...\n",
      "../az_model_cd/GRS_SavedModel/GRSModel_none/2013/best_model_epoch_3.pt\n",
      "../az_model_cd/GRS_SavedModel/GRSOpt_none/2013/best_optimizer_epoch_3.pt\n",
      "Epoch 4 of 100\n"
     ]
    },
    {
     "name": "stderr",
     "output_type": "stream",
     "text": [
      "100%|██████████| 83/83 [00:05<00:00, 14.48it/s]\n",
      "100%|██████████| 10/10 [00:00<00:00, 16.32it/s]\n",
      "  0%|          | 0/83 [00:00<?, ?it/s]"
     ]
    },
    {
     "name": "stdout",
     "output_type": "stream",
     "text": [
      "Train Loss: 0.0655, Train Acc: 0.9797\n",
      "Val Loss: 0.0774, Val Acc: 0.9744\n",
      "EarlyStopping counter: 1 out of 5\n",
      "Epoch 5 of 100\n"
     ]
    },
    {
     "name": "stderr",
     "output_type": "stream",
     "text": [
      "100%|██████████| 83/83 [00:05<00:00, 15.15it/s]\n",
      "100%|██████████| 10/10 [00:00<00:00, 14.76it/s]\n",
      "  0%|          | 0/83 [00:00<?, ?it/s]"
     ]
    },
    {
     "name": "stdout",
     "output_type": "stream",
     "text": [
      "Train Loss: 0.0625, Train Acc: 0.9805\n",
      "Val Loss: 0.0846, Val Acc: 0.9720\n",
      "EarlyStopping counter: 2 out of 5\n",
      "Epoch 6 of 100\n"
     ]
    },
    {
     "name": "stderr",
     "output_type": "stream",
     "text": [
      "100%|██████████| 83/83 [00:06<00:00, 13.68it/s]\n",
      "100%|██████████| 10/10 [00:00<00:00, 13.09it/s]\n",
      "  0%|          | 0/83 [00:00<?, ?it/s]"
     ]
    },
    {
     "name": "stdout",
     "output_type": "stream",
     "text": [
      "Train Loss: 0.0608, Train Acc: 0.9809\n",
      "Val Loss: 0.0779, Val Acc: 0.9749\n",
      "EarlyStopping counter: 3 out of 5\n",
      "Epoch 7 of 100\n"
     ]
    },
    {
     "name": "stderr",
     "output_type": "stream",
     "text": [
      "100%|██████████| 83/83 [00:05<00:00, 14.86it/s]\n",
      "100%|██████████| 10/10 [00:00<00:00, 14.09it/s]\n",
      "  0%|          | 0/83 [00:00<?, ?it/s]"
     ]
    },
    {
     "name": "stdout",
     "output_type": "stream",
     "text": [
      "Train Loss: 0.0598, Train Acc: 0.9813\n",
      "Val Loss: 0.0763, Val Acc: 0.9742\n",
      "EarlyStopping counter: 4 out of 5\n",
      "Epoch 8 of 100\n"
     ]
    },
    {
     "name": "stderr",
     "output_type": "stream",
     "text": [
      "100%|██████████| 83/83 [00:05<00:00, 15.11it/s]\n",
      "100%|██████████| 10/10 [00:00<00:00, 14.40it/s]\n",
      "  0%|          | 0/1 [00:00<?, ?it/s]"
     ]
    },
    {
     "name": "stdout",
     "output_type": "stream",
     "text": [
      "Train Loss: 0.0585, Train Acc: 0.9820\n",
      "Val Loss: 0.0783, Val Acc: 0.9746\n",
      "EarlyStopping counter: 5 out of 5\n",
      "Early stopping\n",
      "Training time: 0.888 minutes\n",
      "Elapsed time 4.425580279032389 mins.\n",
      "loading best model ../az_model_cd/GRS_SavedModel/GRSModel_none/2013/best_model_epoch_3.pt\n",
      "loading best optimizer ../az_model_cd/GRS_SavedModel/GRSOpt_none/2013/best_optimizer_epoch_3.pt\n"
     ]
    },
    {
     "name": "stderr",
     "output_type": "stream",
     "text": [
      "100%|██████████| 1/1 [00:00<00:00,  4.24it/s]\n",
      "  0%|          | 0/1 [00:00<?, ?it/s]"
     ]
    },
    {
     "name": "stdout",
     "output_type": "stream",
     "text": [
      "test accuracy 0.9920733571052551 and ROC-AUC 0.992113727051146\n"
     ]
    },
    {
     "name": "stderr",
     "output_type": "stream",
     "text": [
      "100%|██████████| 1/1 [00:00<00:00,  8.39it/s]\n"
     ]
    },
    {
     "name": "stdout",
     "output_type": "stream",
     "text": [
      "test accuracy 0.9756097197532654 and ROC-AUC 0.9761904761904762\n"
     ]
    },
    {
     "name": "stderr",
     "output_type": "stream",
     "text": [
      "100%|██████████| 1/1 [00:00<00:00,  4.56it/s]\n"
     ]
    },
    {
     "name": "stdout",
     "output_type": "stream",
     "text": [
      "test accuracy 0.9458664655685425 and ROC-AUC 0.944681959074722\n"
     ]
    },
    {
     "name": "stderr",
     "output_type": "stream",
     "text": [
      "100%|██████████| 3/3 [00:00<00:00,  5.95it/s]\n"
     ]
    },
    {
     "name": "stdout",
     "output_type": "stream",
     "text": [
      "test accuracy 0.9545111457506815 and ROC-AUC 0.9537377611802259\n"
     ]
    },
    {
     "name": "stderr",
     "output_type": "stream",
     "text": [
      "100%|██████████| 3/3 [00:00<00:00,  6.08it/s]\n"
     ]
    },
    {
     "name": "stdout",
     "output_type": "stream",
     "text": [
      "test accuracy 0.9672974745432535 and ROC-AUC 0.9672590320380974\n"
     ]
    },
    {
     "name": "stderr",
     "output_type": "stream",
     "text": [
      "100%|██████████| 3/3 [00:00<00:00,  6.23it/s]\n"
     ]
    },
    {
     "name": "stdout",
     "output_type": "stream",
     "text": [
      "test accuracy 0.9547861218452454 and ROC-AUC 0.9550179809880975\n"
     ]
    },
    {
     "name": "stderr",
     "output_type": "stream",
     "text": [
      "100%|██████████| 3/3 [00:00<00:00,  6.08it/s]\n"
     ]
    },
    {
     "name": "stdout",
     "output_type": "stream",
     "text": [
      "test accuracy 0.8774319092432658 and ROC-AUC 0.8775324836128673\n"
     ]
    },
    {
     "name": "stderr",
     "output_type": "stream",
     "text": [
      "100%|██████████| 3/3 [00:00<00:00,  6.10it/s]\n",
      "  0%|          | 0/3 [00:00<?, ?it/s]"
     ]
    },
    {
     "name": "stdout",
     "output_type": "stream",
     "text": [
      "test accuracy 0.7842612465222677 and ROC-AUC 0.7857279297894826\n"
     ]
    },
    {
     "name": "stderr",
     "output_type": "stream",
     "text": [
      "100%|██████████| 3/3 [00:00<00:00,  6.64it/s]\n"
     ]
    },
    {
     "name": "stdout",
     "output_type": "stream",
     "text": [
      "test accuracy 0.7375306089719137 and ROC-AUC 0.7396837156111229\n",
      "[[0.99157792 0.78048778 0.68431896 0.75724085 0.84147274 0.79909827\n",
      "  0.78805228 0.77527138 0.66886381]\n",
      " [0.99256873 0.8536585  0.66548985 0.75954223 0.84831824 0.82749546\n",
      "  0.80933905 0.79949431 0.69227801]\n",
      " [0.99281645 0.91463411 0.9623419  0.87264772 0.85806882 0.77304449\n",
      "  0.78461647 0.75413156 0.67268902]\n",
      " [0.99157792 0.99999994 0.969697   0.94677049 0.8906257  0.77211734\n",
      "  0.75793614 0.71336132 0.62896299]\n",
      " [0.99380732 0.99999994 0.95263314 0.95211488 0.96153589 0.8676248\n",
      "  0.78115588 0.76982701 0.69275655]\n",
      " [0.99207336 0.97560972 0.94586647 0.95451115 0.96729747 0.95478612\n",
      "  0.87743191 0.78426125 0.73753061]\n",
      " [0.         0.         0.         0.         0.         0.\n",
      "  0.         0.         0.        ]\n",
      " [0.         0.         0.         0.         0.         0.\n",
      "  0.         0.         0.        ]\n",
      " [0.         0.         0.         0.         0.         0.\n",
      "  0.         0.         0.        ]]\n",
      "Elapsed time 4.5163069327672325 mins.\n",
      "\n",
      "2024-05-26 20:12:45 Round 1 ...\n",
      "Current Task 2014 with Budget none\n",
      "Current Task Year 2014 data X (107978, 1789) Y (107978,)\n",
      "X_train (488219, 1789) Y_train (488219,)\n",
      "\n",
      "2024-05-26 20:13:00 Standardizing ...\n"
     ]
    },
    {
     "name": "stderr",
     "output_type": "stream",
     "text": [
      "\r",
      "  0%|          | 0/107 [00:00<?, ?it/s]"
     ]
    },
    {
     "name": "stdout",
     "output_type": "stream",
     "text": [
      "2024-05-26 20:13:03 Training ...\n",
      "Epoch 1 of 100\n"
     ]
    },
    {
     "name": "stderr",
     "output_type": "stream",
     "text": [
      "100%|██████████| 107/107 [00:07<00:00, 14.58it/s]\n",
      "100%|██████████| 12/12 [00:00<00:00, 18.88it/s]\n",
      "  0%|          | 0/107 [00:00<?, ?it/s]"
     ]
    },
    {
     "name": "stdout",
     "output_type": "stream",
     "text": [
      "Train Loss: 0.0872, Train Acc: 0.9717\n",
      "Val Loss: 0.0832, Val Acc: 0.9713\n",
      "Validation loss decreased (inf --> 0.083173).  Saving model ...\n",
      "../az_model_cd/GRS_SavedModel/GRSModel_none/2014/best_model_epoch_1.pt\n",
      "../az_model_cd/GRS_SavedModel/GRSOpt_none/2014/best_optimizer_epoch_1.pt\n",
      "Epoch 2 of 100\n"
     ]
    },
    {
     "name": "stderr",
     "output_type": "stream",
     "text": [
      "100%|██████████| 107/107 [00:07<00:00, 14.20it/s]\n",
      "100%|██████████| 12/12 [00:00<00:00, 15.58it/s]\n",
      "  0%|          | 0/107 [00:00<?, ?it/s]"
     ]
    },
    {
     "name": "stdout",
     "output_type": "stream",
     "text": [
      "Train Loss: 0.0723, Train Acc: 0.9767\n",
      "Val Loss: 0.0828, Val Acc: 0.9693\n",
      "Validation loss decreased (0.083173 --> 0.082833).  Saving model ...\n",
      "../az_model_cd/GRS_SavedModel/GRSModel_none/2014/best_model_epoch_2.pt\n",
      "../az_model_cd/GRS_SavedModel/GRSOpt_none/2014/best_optimizer_epoch_2.pt\n",
      "Epoch 3 of 100\n"
     ]
    },
    {
     "name": "stderr",
     "output_type": "stream",
     "text": [
      "100%|██████████| 107/107 [00:08<00:00, 13.10it/s]\n",
      "100%|██████████| 12/12 [00:00<00:00, 13.47it/s]\n",
      "  0%|          | 0/107 [00:00<?, ?it/s]"
     ]
    },
    {
     "name": "stdout",
     "output_type": "stream",
     "text": [
      "Train Loss: 0.0674, Train Acc: 0.9784\n",
      "Val Loss: 0.0769, Val Acc: 0.9724\n",
      "Validation loss decreased (0.082833 --> 0.076858).  Saving model ...\n",
      "../az_model_cd/GRS_SavedModel/GRSModel_none/2014/best_model_epoch_3.pt\n",
      "../az_model_cd/GRS_SavedModel/GRSOpt_none/2014/best_optimizer_epoch_3.pt\n",
      "Epoch 4 of 100\n"
     ]
    },
    {
     "name": "stderr",
     "output_type": "stream",
     "text": [
      "100%|██████████| 107/107 [00:07<00:00, 15.20it/s]\n",
      "100%|██████████| 12/12 [00:00<00:00, 15.26it/s]\n",
      "  0%|          | 0/107 [00:00<?, ?it/s]"
     ]
    },
    {
     "name": "stdout",
     "output_type": "stream",
     "text": [
      "Train Loss: 0.0626, Train Acc: 0.9801\n",
      "Val Loss: 0.0837, Val Acc: 0.9700\n",
      "EarlyStopping counter: 1 out of 5\n",
      "Epoch 5 of 100\n"
     ]
    },
    {
     "name": "stderr",
     "output_type": "stream",
     "text": [
      "100%|██████████| 107/107 [00:07<00:00, 15.21it/s]\n",
      "100%|██████████| 12/12 [00:00<00:00, 17.06it/s]\n",
      "  0%|          | 0/107 [00:00<?, ?it/s]"
     ]
    },
    {
     "name": "stdout",
     "output_type": "stream",
     "text": [
      "Train Loss: 0.0624, Train Acc: 0.9798\n",
      "Val Loss: 0.0812, Val Acc: 0.9725\n",
      "EarlyStopping counter: 2 out of 5\n",
      "Epoch 6 of 100\n"
     ]
    },
    {
     "name": "stderr",
     "output_type": "stream",
     "text": [
      "100%|██████████| 107/107 [00:07<00:00, 15.28it/s]\n",
      "100%|██████████| 12/12 [00:00<00:00, 15.19it/s]\n",
      "  0%|          | 0/107 [00:00<?, ?it/s]"
     ]
    },
    {
     "name": "stdout",
     "output_type": "stream",
     "text": [
      "Train Loss: 0.0582, Train Acc: 0.9812\n",
      "Val Loss: 0.0795, Val Acc: 0.9728\n",
      "EarlyStopping counter: 3 out of 5\n",
      "Epoch 7 of 100\n"
     ]
    },
    {
     "name": "stderr",
     "output_type": "stream",
     "text": [
      "100%|██████████| 107/107 [00:07<00:00, 15.10it/s]\n",
      "100%|██████████| 12/12 [00:00<00:00, 15.17it/s]\n",
      "  0%|          | 0/107 [00:00<?, ?it/s]"
     ]
    },
    {
     "name": "stdout",
     "output_type": "stream",
     "text": [
      "Train Loss: 0.0580, Train Acc: 0.9814\n",
      "Val Loss: 0.0757, Val Acc: 0.9732\n",
      "Validation loss decreased (0.076858 --> 0.075650).  Saving model ...\n",
      "../az_model_cd/GRS_SavedModel/GRSModel_none/2014/best_model_epoch_7.pt\n",
      "../az_model_cd/GRS_SavedModel/GRSOpt_none/2014/best_optimizer_epoch_7.pt\n",
      "Epoch 8 of 100\n"
     ]
    },
    {
     "name": "stderr",
     "output_type": "stream",
     "text": [
      "100%|██████████| 107/107 [00:07<00:00, 14.92it/s]\n",
      "100%|██████████| 12/12 [00:00<00:00, 16.38it/s]\n",
      "  0%|          | 0/107 [00:00<?, ?it/s]"
     ]
    },
    {
     "name": "stdout",
     "output_type": "stream",
     "text": [
      "Train Loss: 0.0552, Train Acc: 0.9826\n",
      "Val Loss: 0.0765, Val Acc: 0.9735\n",
      "EarlyStopping counter: 1 out of 5\n",
      "Epoch 9 of 100\n"
     ]
    },
    {
     "name": "stderr",
     "output_type": "stream",
     "text": [
      "100%|██████████| 107/107 [00:06<00:00, 15.33it/s]\n",
      "100%|██████████| 12/12 [00:00<00:00, 14.80it/s]\n",
      "  0%|          | 0/107 [00:00<?, ?it/s]"
     ]
    },
    {
     "name": "stdout",
     "output_type": "stream",
     "text": [
      "Train Loss: 0.0542, Train Acc: 0.9826\n",
      "Val Loss: 0.0776, Val Acc: 0.9739\n",
      "EarlyStopping counter: 2 out of 5\n",
      "Epoch 10 of 100\n"
     ]
    },
    {
     "name": "stderr",
     "output_type": "stream",
     "text": [
      "100%|██████████| 107/107 [00:07<00:00, 15.22it/s]\n",
      "100%|██████████| 12/12 [00:00<00:00, 13.80it/s]\n",
      "  0%|          | 0/107 [00:00<?, ?it/s]"
     ]
    },
    {
     "name": "stdout",
     "output_type": "stream",
     "text": [
      "Train Loss: 0.0525, Train Acc: 0.9834\n",
      "Val Loss: 0.0776, Val Acc: 0.9749\n",
      "EarlyStopping counter: 3 out of 5\n",
      "Epoch 11 of 100\n"
     ]
    },
    {
     "name": "stderr",
     "output_type": "stream",
     "text": [
      "100%|██████████| 107/107 [00:06<00:00, 15.44it/s]\n",
      "100%|██████████| 12/12 [00:00<00:00, 15.17it/s]\n",
      "  0%|          | 0/107 [00:00<?, ?it/s]"
     ]
    },
    {
     "name": "stdout",
     "output_type": "stream",
     "text": [
      "Train Loss: 0.0515, Train Acc: 0.9836\n",
      "Val Loss: 0.0890, Val Acc: 0.9712\n",
      "EarlyStopping counter: 4 out of 5\n",
      "Epoch 12 of 100\n"
     ]
    },
    {
     "name": "stderr",
     "output_type": "stream",
     "text": [
      "100%|██████████| 107/107 [00:07<00:00, 15.17it/s]\n",
      "100%|██████████| 12/12 [00:00<00:00, 16.85it/s]\n",
      "  0%|          | 0/1 [00:00<?, ?it/s]"
     ]
    },
    {
     "name": "stdout",
     "output_type": "stream",
     "text": [
      "Train Loss: 0.0513, Train Acc: 0.9838\n",
      "Val Loss: 0.0832, Val Acc: 0.9728\n",
      "EarlyStopping counter: 5 out of 5\n",
      "Early stopping\n",
      "Training time: 1.600 minutes\n",
      "Elapsed time 6.403546524047852 mins.\n",
      "loading best model ../az_model_cd/GRS_SavedModel/GRSModel_none/2014/best_model_epoch_7.pt\n",
      "loading best optimizer ../az_model_cd/GRS_SavedModel/GRSOpt_none/2014/best_optimizer_epoch_7.pt\n"
     ]
    },
    {
     "name": "stderr",
     "output_type": "stream",
     "text": [
      "100%|██████████| 1/1 [00:00<00:00,  4.53it/s]\n",
      "  0%|          | 0/1 [00:00<?, ?it/s]"
     ]
    },
    {
     "name": "stdout",
     "output_type": "stream",
     "text": [
      "test accuracy 0.9952935576438904 and ROC-AUC 0.9953040926457456\n"
     ]
    },
    {
     "name": "stderr",
     "output_type": "stream",
     "text": [
      "100%|██████████| 1/1 [00:00<00:00,  8.23it/s]\n"
     ]
    },
    {
     "name": "stdout",
     "output_type": "stream",
     "text": [
      "test accuracy 0.9756097197532654 and ROC-AUC 0.9743589743589743\n"
     ]
    },
    {
     "name": "stderr",
     "output_type": "stream",
     "text": [
      "100%|██████████| 1/1 [00:00<00:00,  4.83it/s]\n",
      "  0%|          | 0/3 [00:00<?, ?it/s]"
     ]
    },
    {
     "name": "stdout",
     "output_type": "stream",
     "text": [
      "test accuracy 0.9502795338630676 and ROC-AUC 0.9509835231980404\n"
     ]
    },
    {
     "name": "stderr",
     "output_type": "stream",
     "text": [
      "100%|██████████| 3/3 [00:00<00:00,  9.07it/s]\n",
      "  0%|          | 0/3 [00:00<?, ?it/s]"
     ]
    },
    {
     "name": "stdout",
     "output_type": "stream",
     "text": [
      "test accuracy 0.9585936665534973 and ROC-AUC 0.958612980711895\n"
     ]
    },
    {
     "name": "stderr",
     "output_type": "stream",
     "text": [
      "100%|██████████| 3/3 [00:00<00:00,  8.38it/s]\n"
     ]
    },
    {
     "name": "stdout",
     "output_type": "stream",
     "text": [
      "test accuracy 0.968811571598053 and ROC-AUC 0.9687499852430552\n"
     ]
    },
    {
     "name": "stderr",
     "output_type": "stream",
     "text": [
      "100%|██████████| 3/3 [00:00<00:00,  8.01it/s]\n"
     ]
    },
    {
     "name": "stdout",
     "output_type": "stream",
     "text": [
      "test accuracy 0.9589467247327169 and ROC-AUC 0.9590190522374679\n"
     ]
    },
    {
     "name": "stderr",
     "output_type": "stream",
     "text": [
      "100%|██████████| 3/3 [00:00<00:00,  7.85it/s]\n"
     ]
    },
    {
     "name": "stdout",
     "output_type": "stream",
     "text": [
      "test accuracy 0.9627673427263895 and ROC-AUC 0.9624414580896287\n"
     ]
    },
    {
     "name": "stderr",
     "output_type": "stream",
     "text": [
      "100%|██████████| 3/3 [00:00<00:00,  8.02it/s]\n",
      "  0%|          | 0/3 [00:00<?, ?it/s]"
     ]
    },
    {
     "name": "stdout",
     "output_type": "stream",
     "text": [
      "test accuracy 0.8714153369267782 and ROC-AUC 0.8720101764520719\n"
     ]
    },
    {
     "name": "stderr",
     "output_type": "stream",
     "text": [
      "100%|██████████| 3/3 [00:00<00:00,  8.99it/s]\n"
     ]
    },
    {
     "name": "stdout",
     "output_type": "stream",
     "text": [
      "test accuracy 0.7802606026331583 and ROC-AUC 0.7850498641642584\n",
      "[[0.99157792 0.78048778 0.68431896 0.75724085 0.84147274 0.79909827\n",
      "  0.78805228 0.77527138 0.66886381]\n",
      " [0.99256873 0.8536585  0.66548985 0.75954223 0.84831824 0.82749546\n",
      "  0.80933905 0.79949431 0.69227801]\n",
      " [0.99281645 0.91463411 0.9623419  0.87264772 0.85806882 0.77304449\n",
      "  0.78461647 0.75413156 0.67268902]\n",
      " [0.99157792 0.99999994 0.969697   0.94677049 0.8906257  0.77211734\n",
      "  0.75793614 0.71336132 0.62896299]\n",
      " [0.99380732 0.99999994 0.95263314 0.95211488 0.96153589 0.8676248\n",
      "  0.78115588 0.76982701 0.69275655]\n",
      " [0.99207336 0.97560972 0.94586647 0.95451115 0.96729747 0.95478612\n",
      "  0.87743191 0.78426125 0.73753061]\n",
      " [0.99529356 0.97560972 0.95027953 0.95859367 0.96881157 0.95894672\n",
      "  0.96276734 0.87141534 0.7802606 ]\n",
      " [0.         0.         0.         0.         0.         0.\n",
      "  0.         0.         0.        ]\n",
      " [0.         0.         0.         0.         0.         0.\n",
      "  0.         0.         0.        ]]\n",
      "Elapsed time 6.478930819034576 mins.\n",
      "\n",
      "2024-05-26 20:14:43 Round 1 ...\n",
      "Current Task 2015 with Budget none\n",
      "Current Task Year 2015 data X (107869, 1789) Y (107869,)\n",
      "X_train (596088, 1789) Y_train (596088,)\n",
      "\n",
      "2024-05-26 20:15:01 Standardizing ...\n"
     ]
    },
    {
     "name": "stderr",
     "output_type": "stream",
     "text": [
      "\r",
      "  0%|          | 0/130 [00:00<?, ?it/s]"
     ]
    },
    {
     "name": "stdout",
     "output_type": "stream",
     "text": [
      "2024-05-26 20:15:04 Training ...\n",
      "Epoch 1 of 100\n"
     ]
    },
    {
     "name": "stderr",
     "output_type": "stream",
     "text": [
      "100%|██████████| 130/130 [00:09<00:00, 14.23it/s]\n",
      "100%|██████████| 15/15 [00:00<00:00, 16.52it/s]\n",
      "  0%|          | 0/130 [00:00<?, ?it/s]"
     ]
    },
    {
     "name": "stdout",
     "output_type": "stream",
     "text": [
      "Train Loss: 0.0793, Train Acc: 0.9744\n",
      "Val Loss: 0.0656, Val Acc: 0.9760\n",
      "Validation loss decreased (inf --> 0.065571).  Saving model ...\n",
      "../az_model_cd/GRS_SavedModel/GRSModel_none/2015/best_model_epoch_1.pt\n",
      "../az_model_cd/GRS_SavedModel/GRSOpt_none/2015/best_optimizer_epoch_1.pt\n",
      "Epoch 2 of 100\n"
     ]
    },
    {
     "name": "stderr",
     "output_type": "stream",
     "text": [
      "100%|██████████| 130/130 [00:08<00:00, 14.48it/s]\n",
      "100%|██████████| 15/15 [00:00<00:00, 16.98it/s]\n",
      "  0%|          | 0/130 [00:00<?, ?it/s]"
     ]
    },
    {
     "name": "stdout",
     "output_type": "stream",
     "text": [
      "Train Loss: 0.0657, Train Acc: 0.9790\n",
      "Val Loss: 0.0627, Val Acc: 0.9781\n",
      "Validation loss decreased (0.065571 --> 0.062675).  Saving model ...\n",
      "../az_model_cd/GRS_SavedModel/GRSModel_none/2015/best_model_epoch_2.pt\n",
      "../az_model_cd/GRS_SavedModel/GRSOpt_none/2015/best_optimizer_epoch_2.pt\n",
      "Epoch 3 of 100\n"
     ]
    },
    {
     "name": "stderr",
     "output_type": "stream",
     "text": [
      "100%|██████████| 130/130 [00:09<00:00, 14.07it/s]\n",
      "100%|██████████| 15/15 [00:00<00:00, 17.60it/s]\n",
      "  0%|          | 0/130 [00:00<?, ?it/s]"
     ]
    },
    {
     "name": "stdout",
     "output_type": "stream",
     "text": [
      "Train Loss: 0.0603, Train Acc: 0.9805\n",
      "Val Loss: 0.0660, Val Acc: 0.9769\n",
      "EarlyStopping counter: 1 out of 5\n",
      "Epoch 4 of 100\n"
     ]
    },
    {
     "name": "stderr",
     "output_type": "stream",
     "text": [
      "100%|██████████| 130/130 [00:08<00:00, 15.11it/s]\n",
      "100%|██████████| 15/15 [00:00<00:00, 15.21it/s]\n",
      "  0%|          | 0/130 [00:00<?, ?it/s]"
     ]
    },
    {
     "name": "stdout",
     "output_type": "stream",
     "text": [
      "Train Loss: 0.0591, Train Acc: 0.9808\n",
      "Val Loss: 0.0664, Val Acc: 0.9771\n",
      "EarlyStopping counter: 2 out of 5\n",
      "Epoch 5 of 100\n"
     ]
    },
    {
     "name": "stderr",
     "output_type": "stream",
     "text": [
      "100%|██████████| 130/130 [00:08<00:00, 15.34it/s]\n",
      "100%|██████████| 15/15 [00:01<00:00, 14.82it/s]\n",
      "  0%|          | 0/130 [00:00<?, ?it/s]"
     ]
    },
    {
     "name": "stdout",
     "output_type": "stream",
     "text": [
      "Train Loss: 0.0564, Train Acc: 0.9817\n",
      "Val Loss: 0.0629, Val Acc: 0.9779\n",
      "EarlyStopping counter: 3 out of 5\n",
      "Epoch 6 of 100\n"
     ]
    },
    {
     "name": "stderr",
     "output_type": "stream",
     "text": [
      "100%|██████████| 130/130 [00:09<00:00, 13.63it/s]\n",
      "100%|██████████| 15/15 [00:00<00:00, 15.19it/s]\n",
      "  0%|          | 0/130 [00:00<?, ?it/s]"
     ]
    },
    {
     "name": "stdout",
     "output_type": "stream",
     "text": [
      "Train Loss: 0.0551, Train Acc: 0.9823\n",
      "Val Loss: 0.0729, Val Acc: 0.9745\n",
      "EarlyStopping counter: 4 out of 5\n",
      "Epoch 7 of 100\n"
     ]
    },
    {
     "name": "stderr",
     "output_type": "stream",
     "text": [
      "100%|██████████| 130/130 [00:08<00:00, 15.29it/s]\n",
      "100%|██████████| 15/15 [00:00<00:00, 17.78it/s]\n",
      "  0%|          | 0/1 [00:00<?, ?it/s]"
     ]
    },
    {
     "name": "stdout",
     "output_type": "stream",
     "text": [
      "Train Loss: 0.0527, Train Acc: 0.9833\n",
      "Val Loss: 0.0697, Val Acc: 0.9756\n",
      "EarlyStopping counter: 5 out of 5\n",
      "Early stopping\n",
      "Training time: 1.152 minutes\n",
      "Elapsed time 7.981885560353597 mins.\n",
      "loading best model ../az_model_cd/GRS_SavedModel/GRSModel_none/2015/best_model_epoch_2.pt\n",
      "loading best optimizer ../az_model_cd/GRS_SavedModel/GRSOpt_none/2015/best_optimizer_epoch_2.pt\n"
     ]
    },
    {
     "name": "stderr",
     "output_type": "stream",
     "text": [
      "100%|██████████| 1/1 [00:00<00:00,  3.14it/s]\n",
      "  0%|          | 0/1 [00:00<?, ?it/s]"
     ]
    },
    {
     "name": "stdout",
     "output_type": "stream",
     "text": [
      "test accuracy 0.9930641651153564 and ROC-AUC 0.9930388459353359\n"
     ]
    },
    {
     "name": "stderr",
     "output_type": "stream",
     "text": [
      "100%|██████████| 1/1 [00:00<00:00,  3.98it/s]\n",
      "  0%|          | 0/1 [00:00<?, ?it/s]"
     ]
    },
    {
     "name": "stdout",
     "output_type": "stream",
     "text": [
      "test accuracy 0.9268292188644409 and ROC-AUC 0.9189189189189189\n"
     ]
    },
    {
     "name": "stderr",
     "output_type": "stream",
     "text": [
      "100%|██████████| 1/1 [00:00<00:00,  3.21it/s]\n"
     ]
    },
    {
     "name": "stdout",
     "output_type": "stream",
     "text": [
      "test accuracy 0.9541041851043701 and ROC-AUC 0.9532504484057953\n"
     ]
    },
    {
     "name": "stderr",
     "output_type": "stream",
     "text": [
      "100%|██████████| 3/3 [00:00<00:00,  6.74it/s]\n"
     ]
    },
    {
     "name": "stdout",
     "output_type": "stream",
     "text": [
      "test accuracy 0.9496187965075175 and ROC-AUC 0.9495809685049598\n"
     ]
    },
    {
     "name": "stderr",
     "output_type": "stream",
     "text": [
      "100%|██████████| 3/3 [00:00<00:00,  6.41it/s]\n"
     ]
    },
    {
     "name": "stdout",
     "output_type": "stream",
     "text": [
      "test accuracy 0.9692889054616293 and ROC-AUC 0.9693350929231148\n"
     ]
    },
    {
     "name": "stderr",
     "output_type": "stream",
     "text": [
      "100%|██████████| 3/3 [00:00<00:00,  5.61it/s]\n"
     ]
    },
    {
     "name": "stdout",
     "output_type": "stream",
     "text": [
      "test accuracy 0.9604002833366394 and ROC-AUC 0.9605288322999908\n"
     ]
    },
    {
     "name": "stderr",
     "output_type": "stream",
     "text": [
      "100%|██████████| 3/3 [00:00<00:00,  7.98it/s]\n"
     ]
    },
    {
     "name": "stdout",
     "output_type": "stream",
     "text": [
      "test accuracy 0.9576667149861654 and ROC-AUC 0.9575051896645093\n"
     ]
    },
    {
     "name": "stderr",
     "output_type": "stream",
     "text": [
      "100%|██████████| 3/3 [00:00<00:00,  7.86it/s]\n",
      "  0%|          | 0/3 [00:00<?, ?it/s]"
     ]
    },
    {
     "name": "stdout",
     "output_type": "stream",
     "text": [
      "test accuracy 0.9548396865526835 and ROC-AUC 0.9546827140059835\n"
     ]
    },
    {
     "name": "stderr",
     "output_type": "stream",
     "text": [
      "100%|██████████| 3/3 [00:00<00:00,  9.06it/s]\n"
     ]
    },
    {
     "name": "stdout",
     "output_type": "stream",
     "text": [
      "test accuracy 0.8838351567586263 and ROC-AUC 0.883986073151891\n",
      "[[0.99157792 0.78048778 0.68431896 0.75724085 0.84147274 0.79909827\n",
      "  0.78805228 0.77527138 0.66886381]\n",
      " [0.99256873 0.8536585  0.66548985 0.75954223 0.84831824 0.82749546\n",
      "  0.80933905 0.79949431 0.69227801]\n",
      " [0.99281645 0.91463411 0.9623419  0.87264772 0.85806882 0.77304449\n",
      "  0.78461647 0.75413156 0.67268902]\n",
      " [0.99157792 0.99999994 0.969697   0.94677049 0.8906257  0.77211734\n",
      "  0.75793614 0.71336132 0.62896299]\n",
      " [0.99380732 0.99999994 0.95263314 0.95211488 0.96153589 0.8676248\n",
      "  0.78115588 0.76982701 0.69275655]\n",
      " [0.99207336 0.97560972 0.94586647 0.95451115 0.96729747 0.95478612\n",
      "  0.87743191 0.78426125 0.73753061]\n",
      " [0.99529356 0.97560972 0.95027953 0.95859367 0.96881157 0.95894672\n",
      "  0.96276734 0.87141534 0.7802606 ]\n",
      " [0.99306417 0.92682922 0.95410419 0.9496188  0.96928891 0.96040028\n",
      "  0.95766671 0.95483969 0.88383516]\n",
      " [0.         0.         0.         0.         0.         0.\n",
      "  0.         0.         0.        ]]\n",
      "Elapsed time 8.070905315876008 mins.\n",
      "\n",
      "2024-05-26 20:16:19 Round 1 ...\n",
      "Current Task 2016 with Budget none\n",
      "Current Task Year 2016 data X (86510, 1789) Y (86510,)\n",
      "X_train (682598, 1789) Y_train (682598,)\n",
      "\n",
      "2024-05-26 20:16:39 Standardizing ...\n"
     ]
    },
    {
     "name": "stderr",
     "output_type": "stream",
     "text": [
      "\r",
      "  0%|          | 0/149 [00:00<?, ?it/s]"
     ]
    },
    {
     "name": "stdout",
     "output_type": "stream",
     "text": [
      "2024-05-26 20:16:42 Training ...\n",
      "Epoch 1 of 100\n"
     ]
    },
    {
     "name": "stderr",
     "output_type": "stream",
     "text": [
      "100%|██████████| 149/149 [00:10<00:00, 14.57it/s]\n",
      "100%|██████████| 17/17 [00:01<00:00, 15.97it/s]\n",
      "  0%|          | 0/149 [00:00<?, ?it/s]"
     ]
    },
    {
     "name": "stdout",
     "output_type": "stream",
     "text": [
      "Train Loss: 0.0760, Train Acc: 0.9753\n",
      "Val Loss: 0.0599, Val Acc: 0.9774\n",
      "Validation loss decreased (inf --> 0.059945).  Saving model ...\n",
      "../az_model_cd/GRS_SavedModel/GRSModel_none/2016/best_model_epoch_1.pt\n",
      "../az_model_cd/GRS_SavedModel/GRSOpt_none/2016/best_optimizer_epoch_1.pt\n",
      "Epoch 2 of 100\n"
     ]
    },
    {
     "name": "stderr",
     "output_type": "stream",
     "text": [
      "100%|██████████| 149/149 [00:09<00:00, 15.47it/s]\n",
      "100%|██████████| 17/17 [00:01<00:00, 13.80it/s]\n",
      "  0%|          | 0/149 [00:00<?, ?it/s]"
     ]
    },
    {
     "name": "stdout",
     "output_type": "stream",
     "text": [
      "Train Loss: 0.0647, Train Acc: 0.9788\n",
      "Val Loss: 0.0656, Val Acc: 0.9765\n",
      "EarlyStopping counter: 1 out of 5\n",
      "Epoch 3 of 100\n"
     ]
    },
    {
     "name": "stderr",
     "output_type": "stream",
     "text": [
      "100%|██████████| 149/149 [00:09<00:00, 15.02it/s]\n",
      "100%|██████████| 17/17 [00:01<00:00, 15.85it/s]\n",
      "  0%|          | 0/149 [00:00<?, ?it/s]"
     ]
    },
    {
     "name": "stdout",
     "output_type": "stream",
     "text": [
      "Train Loss: 0.0606, Train Acc: 0.9803\n",
      "Val Loss: 0.0607, Val Acc: 0.9782\n",
      "EarlyStopping counter: 2 out of 5\n",
      "Epoch 4 of 100\n"
     ]
    },
    {
     "name": "stderr",
     "output_type": "stream",
     "text": [
      "100%|██████████| 149/149 [00:09<00:00, 15.02it/s]\n",
      "100%|██████████| 17/17 [00:01<00:00, 14.72it/s]\n",
      "  0%|          | 0/149 [00:00<?, ?it/s]"
     ]
    },
    {
     "name": "stdout",
     "output_type": "stream",
     "text": [
      "Train Loss: 0.0569, Train Acc: 0.9816\n",
      "Val Loss: 0.0630, Val Acc: 0.9783\n",
      "EarlyStopping counter: 3 out of 5\n",
      "Epoch 5 of 100\n"
     ]
    },
    {
     "name": "stderr",
     "output_type": "stream",
     "text": [
      "100%|██████████| 149/149 [00:09<00:00, 15.28it/s]\n",
      "100%|██████████| 17/17 [00:01<00:00, 15.15it/s]\n",
      "  0%|          | 0/149 [00:00<?, ?it/s]"
     ]
    },
    {
     "name": "stdout",
     "output_type": "stream",
     "text": [
      "Train Loss: 0.0562, Train Acc: 0.9820\n",
      "Val Loss: 0.0665, Val Acc: 0.9773\n",
      "EarlyStopping counter: 4 out of 5\n",
      "Epoch 6 of 100\n"
     ]
    },
    {
     "name": "stderr",
     "output_type": "stream",
     "text": [
      "100%|██████████| 149/149 [00:09<00:00, 15.48it/s]\n",
      "100%|██████████| 17/17 [00:01<00:00, 14.32it/s]\n",
      "  0%|          | 0/1 [00:00<?, ?it/s]"
     ]
    },
    {
     "name": "stdout",
     "output_type": "stream",
     "text": [
      "Train Loss: 0.0549, Train Acc: 0.9825\n",
      "Val Loss: 0.0659, Val Acc: 0.9780\n",
      "EarlyStopping counter: 5 out of 5\n",
      "Early stopping\n",
      "Training time: 1.101 minutes\n",
      "Elapsed time 9.568563691775005 mins.\n",
      "loading best model ../az_model_cd/GRS_SavedModel/GRSModel_none/2016/best_model_epoch_1.pt\n",
      "loading best optimizer ../az_model_cd/GRS_SavedModel/GRSOpt_none/2016/best_optimizer_epoch_1.pt\n"
     ]
    },
    {
     "name": "stderr",
     "output_type": "stream",
     "text": [
      "100%|██████████| 1/1 [00:00<00:00,  4.56it/s]\n",
      "  0%|          | 0/1 [00:00<?, ?it/s]"
     ]
    },
    {
     "name": "stdout",
     "output_type": "stream",
     "text": [
      "test accuracy 0.9945504069328308 and ROC-AUC 0.9945479562874364\n"
     ]
    },
    {
     "name": "stderr",
     "output_type": "stream",
     "text": [
      "100%|██████████| 1/1 [00:00<00:00,  8.14it/s]\n"
     ]
    },
    {
     "name": "stdout",
     "output_type": "stream",
     "text": [
      "test accuracy 0.9268292188644409 and ROC-AUC 0.9254621347644603\n"
     ]
    },
    {
     "name": "stderr",
     "output_type": "stream",
     "text": [
      "100%|██████████| 1/1 [00:00<00:00,  4.52it/s]\n"
     ]
    },
    {
     "name": "stdout",
     "output_type": "stream",
     "text": [
      "test accuracy 0.9520447850227356 and ROC-AUC 0.9513414786229448\n"
     ]
    },
    {
     "name": "stderr",
     "output_type": "stream",
     "text": [
      "100%|██████████| 3/3 [00:00<00:00,  8.35it/s]\n"
     ]
    },
    {
     "name": "stdout",
     "output_type": "stream",
     "text": [
      "test accuracy 0.9561025102933248 and ROC-AUC 0.9559149082497456\n"
     ]
    },
    {
     "name": "stderr",
     "output_type": "stream",
     "text": [
      "100%|██████████| 3/3 [00:00<00:00,  7.87it/s]\n"
     ]
    },
    {
     "name": "stdout",
     "output_type": "stream",
     "text": [
      "test accuracy 0.9665985703468323 and ROC-AUC 0.966717619386958\n"
     ]
    },
    {
     "name": "stderr",
     "output_type": "stream",
     "text": [
      "100%|██████████| 3/3 [00:00<00:00,  7.72it/s]\n"
     ]
    },
    {
     "name": "stdout",
     "output_type": "stream",
     "text": [
      "test accuracy 0.9601601759592692 and ROC-AUC 0.9602831962595041\n"
     ]
    },
    {
     "name": "stderr",
     "output_type": "stream",
     "text": [
      "100%|██████████| 3/3 [00:00<00:00,  7.76it/s]\n"
     ]
    },
    {
     "name": "stdout",
     "output_type": "stream",
     "text": [
      "test accuracy 0.9652831554412842 and ROC-AUC 0.9653342253140514\n"
     ]
    },
    {
     "name": "stderr",
     "output_type": "stream",
     "text": [
      "100%|██████████| 3/3 [00:00<00:00,  7.90it/s]\n",
      "  0%|          | 0/3 [00:00<?, ?it/s]"
     ]
    },
    {
     "name": "stdout",
     "output_type": "stream",
     "text": [
      "test accuracy 0.964685062567393 and ROC-AUC 0.9645994184950906\n"
     ]
    },
    {
     "name": "stderr",
     "output_type": "stream",
     "text": [
      "100%|██████████| 3/3 [00:00<00:00,  8.54it/s]"
     ]
    },
    {
     "name": "stdout",
     "output_type": "stream",
     "text": [
      "test accuracy 0.9603815674781799 and ROC-AUC 0.96110238602638\n",
      "[[0.99157792 0.78048778 0.68431896 0.75724085 0.84147274 0.79909827\n",
      "  0.78805228 0.77527138 0.66886381]\n",
      " [0.99256873 0.8536585  0.66548985 0.75954223 0.84831824 0.82749546\n",
      "  0.80933905 0.79949431 0.69227801]\n",
      " [0.99281645 0.91463411 0.9623419  0.87264772 0.85806882 0.77304449\n",
      "  0.78461647 0.75413156 0.67268902]\n",
      " [0.99157792 0.99999994 0.969697   0.94677049 0.8906257  0.77211734\n",
      "  0.75793614 0.71336132 0.62896299]\n",
      " [0.99380732 0.99999994 0.95263314 0.95211488 0.96153589 0.8676248\n",
      "  0.78115588 0.76982701 0.69275655]\n",
      " [0.99207336 0.97560972 0.94586647 0.95451115 0.96729747 0.95478612\n",
      "  0.87743191 0.78426125 0.73753061]\n",
      " [0.99529356 0.97560972 0.95027953 0.95859367 0.96881157 0.95894672\n",
      "  0.96276734 0.87141534 0.7802606 ]\n",
      " [0.99306417 0.92682922 0.95410419 0.9496188  0.96928891 0.96040028\n",
      "  0.95766671 0.95483969 0.88383516]\n",
      " [0.99455041 0.92682922 0.95204479 0.95610251 0.96659857 0.96016018\n",
      "  0.96528316 0.96468506 0.96038157]]\n",
      "Elapsed time 9.647023491064708 mins.\n",
      "Elapsed time 9.647024238109589 mins.\n"
     ]
    },
    {
     "name": "stderr",
     "output_type": "stream",
     "text": [
      "\n"
     ]
    }
   ],
   "source": [
    "# parser = argparse.ArgumentParser()\n",
    "# parser.add_argument('--num_exps', type=int, default=1, required=False, help='Number of Experiments to Run.')\n",
    "# parser.add_argument('--num_epoch', type=int, default=100, required=False)\n",
    "# parser.add_argument('--batch_size', type=int, default=4096, required=False)\n",
    "# parser.add_argument('--grs_joint',  action=\"store_true\", required=False)\n",
    "# parser.add_argument('--grs_none',  action=\"store_true\", required=False)\n",
    "# parser.add_argument('--memory_budget', type=int, required=False)\n",
    "# parser.add_argument('--data_dir', type=str,\\\n",
    "#                     default='/home/mr6564/continual_research/AZ_Data/Domain_Transformed/', required=False)\n",
    "\n",
    "# args = parser.parse_args()\n",
    "\n",
    "# data_dir = args.data_dir\n",
    "# num_exps = args.num_exps\n",
    "# num_epoch = args.num_epoch\n",
    "# batch_size = args.batch_size\n",
    "# memory_budget = args.memory_budget\n",
    "\n",
    "data_dir = '/home/mr6564/continual_research/AZ_Data/Domain_Transformed/'\n",
    "num_exps = 1\n",
    "num_epoch = 100\n",
    "batch_size = 4096\n",
    "memory_budget = 'none'\n",
    "\n",
    "# if args.grs_joint:\n",
    "#     memory_budget = 'joint'\n",
    "    \n",
    "# if args.grs_none:\n",
    "#     memory_budget = 'none'\n",
    "\n",
    "\n",
    "patience = 5\n",
    "\n",
    "exp_seeds = [random.randint(1, 99999) for i in range(num_exps)]\n",
    "\n",
    "all_task_years = ['2008', '2009', '2010', '2011', '2012', '2013', '2014', '2015', '2016']\n",
    "\n",
    "\n",
    "input_features = 1789\n",
    "\n",
    "replay_type, current_task = 'azdomain', 'azdomain'\n",
    "\n",
    "\n",
    "num_tasks = len(all_task_years)\n",
    "results_matrix = create_empty_matrix(num_tasks, num_tasks)\n",
    "#print(matrix)\n",
    "\n",
    "cnt =  1    \n",
    "for exp in exp_seeds:\n",
    "    start_time = time.time()\n",
    "    use_cuda = True\n",
    "    print('Torch', torch.__version__, 'CUDA', torch.version.cuda)\n",
    "    use_cuda = use_cuda and torch.cuda.is_available()\n",
    "    device = torch.device(\"cuda\" if use_cuda else \"cpu\")\n",
    "    torch.manual_seed(exp)\n",
    "\n",
    "    model = Ember_MLP_Net(input_features)\n",
    "    optimizer = optim.Adam(model.parameters(), lr=0.001)\n",
    "    #optimizer = torch.optim.SGD(model.parameters(), lr=0.01, momentum=0.9, weight_decay=0.000001)\n",
    "       \n",
    "    if torch.cuda.device_count() > 1:\n",
    "        print(\"Let's use\", torch.cuda.device_count(), \"GPUs!\")\n",
    "        model = nn.DataParallel(model)\n",
    "    \n",
    "    model = model.to(device)\n",
    "    print(f'Model has {count_parameters(model)/1000000}m parameters')    \n",
    "    criterion = nn.BCELoss()    \n",
    "    \n",
    "    \n",
    "#     standardization = StandardScaler()\n",
    "#     standard_scaler = None\n",
    "    for task_year in range(len(all_task_years)):\n",
    "                \n",
    "        print(f'\\n{datetime.datetime.now().strftime(\"%Y-%m-%d %H:%M:%S\")} Round {cnt} ...')\n",
    "        task_start = time.time()\n",
    "        current_task = all_task_years[task_year]\n",
    "        task_years = all_task_years[:task_year+1]\n",
    "        print(f'Current Task {current_task} with Budget {memory_budget}')\n",
    "\n",
    "\n",
    "        model_save_dir = '../az_model_cd/GRS_SavedModel' + '/GRSModel_' + str(memory_budget) + '/' + str(current_task) + '/'\n",
    "        create_parent_folder(model_save_dir)\n",
    "        \n",
    "        opt_save_path = '../az_model_cd/GRS_SavedModel' + '/GRSOpt_' + str(memory_budget) + '/' + str(current_task) + '/'\n",
    "        create_parent_folder(opt_save_path)\n",
    "        \n",
    "        results_save_dir =  '../az_model_cd/GRS_SavedResults_' +'/GRS_' + str(memory_budget) + '/' \n",
    "        create_parent_folder(results_save_dir)\n",
    "        \n",
    "        \n",
    "#         if args.grs_joint:\n",
    "#             X_train, Y_train = get_GRS_data(data_dir, task_years, memory_budget, train=True, joint=True)\n",
    "#             # X_test, Y_test = get_GRS_data(data_dir, task_years, memory_budget, train=False, joint=True)\n",
    "#         elif args.grs_none:\n",
    "#             X_train, Y_train = get_GRS_data(data_dir, task_years, memory_budget, train=True, none=True)\n",
    "#             # X_test, Y_test = get_GRS_data(data_dir, task_years, memory_budget, train=False, none=True)\n",
    "#         else:\n",
    "#             X_train, Y_train = get_GRS_data(data_dir, task_years, memory_budget, train=True, joint=False)\n",
    "#             # X_test, Y_test = get_GRS_data(data_dir, task_years, memory_budget, train=False, joint=False)\n",
    "        \n",
    "        X_train, Y_train = get_GRS_data(data_dir, task_years, memory_budget, train=True, joint=True)\n",
    "        \n",
    "        print(f'{datetime.datetime.now().strftime(\"%Y-%m-%d %H:%M:%S\")} Standardizing ...')\n",
    "        \n",
    "#         if args.grs_joint:\n",
    "#                 standardization = StandardScaler()\n",
    "#                 standard_scaler = None\n",
    "#                 standard_scaler = standardization.fit(X_train)\n",
    "#         else:        \n",
    "#                 standard_scaler = standardization.partial_fit(X_train)\n",
    "\n",
    "#         X_train = standard_scaler.transform(X_train)\n",
    "#         X_test = standard_scaler.transform(X_test)\n",
    "\n",
    "        from sklearn.model_selection import train_test_split\n",
    "        X_train, Y_train = np.array(X_train, np.float32), np.array(Y_train, np.int32)\n",
    "        X_train, X_valid, Y_train, Y_valid = train_test_split(X_train, Y_train, test_size=0.10, random_state=42)\n",
    "        # X_test, Y_test = np.array(X_test, np.float32), np.array(Y_test, np.int32)        \n",
    "        \n",
    "        print(f'{datetime.datetime.now().strftime(\"%Y-%m-%d %H:%M:%S\")} Training ...')\n",
    "        \n",
    "        \n",
    "        \n",
    "        task_training_time, epoch_ran, training_loss, validation_loss  = training_early_stopping(\\\n",
    "                                     model, model_save_dir, opt_save_path, X_train, Y_train,\\\n",
    "                                     X_valid, Y_valid, patience, batch_size, device, optimizer, num_epoch,\\\n",
    "                                     criterion, replay_type, current_task, exp, earlystopping=True)\n",
    "\n",
    "\n",
    "        end_time = time.time()\n",
    "        print(f'Elapsed time {(end_time - start_time)/60} mins.') \n",
    "\n",
    "\n",
    "        best_model_path = model_save_dir + os.listdir(model_save_dir)[0]\n",
    "        print(f'loading best model {best_model_path}')\n",
    "        model.load_state_dict(torch.load(best_model_path))\n",
    "\n",
    "        #optimizer = torch.optim.SGD(model.parameters(), lr=0.001, momentum=0.9, weight_decay=0.000001)\n",
    "        best_optimizer = opt_save_path + os.listdir(opt_save_path)[0]\n",
    "        print(f'loading best optimizer {best_optimizer}')\n",
    "        optimizer.load_state_dict(torch.load(best_optimizer))\n",
    "\n",
    "        \n",
    "        for t in range(num_tasks):\n",
    "            y_t = all_task_years[t]\n",
    "            X_te, Y_te = get_year_data(data_dir, y_t, train=False)\n",
    "            \n",
    "            # acc, _, _, _, _ = testing_aucscore(model, X_te, Y_te, batch_size, device)\n",
    "            acc = testing_aucscore(model, X_te, Y_te, batch_size, device)\n",
    "            \n",
    "            results_matrix[task_year][t] = acc\n",
    "            \n",
    "        #print(results_matrix)\n",
    "                \n",
    "            \n",
    "        end_time = time.time()\n",
    "        print(f'Elapsed time {(end_time - start_time)/60} mins.')    \n",
    "        \n",
    "       \n",
    "#         results_f = open(os.path.join('./Submission_Domain/' + 'grs_' + str(memory_budget) + '_results.txt'), 'a')\n",
    "#         result_string = '{}\\t{}\\t{}\\t{}\\t{}\\t\\n'.format(current_task, acc, precision, recall, f1score)\n",
    "        \n",
    "#         results_f.write(result_string)\n",
    "#         results_f.flush()\n",
    "#         results_f.close()\n",
    "    \n",
    "    end_time = time.time()\n",
    "    cnt += 1\n",
    "    print(f'Elapsed time {(end_time - start_time)/60} mins.')\n",
    "    \n",
    "    del model_save_dir\n",
    "    del opt_save_path\n",
    "    del results_save_dir\n"
   ]
  },
  {
   "cell_type": "code",
   "execution_count": 53,
   "metadata": {},
   "outputs": [
    {
     "name": "stdout",
     "output_type": "stream",
     "text": [
      "Avg-Acc-Till-Current-Task-Joint\t0.9634991586357268\t\tFuture-Acc\t0.7949101760687809\n"
     ]
    }
   ],
   "source": [
    "\n",
    "joint_acc_all = []\n",
    "future_acc_all = []\n",
    "for t in range(num_tasks):\n",
    "    #print(f'res \\t {results_matrix[t]}\\n')\n",
    "#     if t == first_task:\n",
    "#         print(f'task {t}\\t{results_matrix[t][0]}\\n')\n",
    "#         curr_task += 1\n",
    "#     else:\n",
    "#         print(f'res \\t {results_matrix[t]}\\n')\n",
    "    \n",
    "    joint_acc = np.mean(results_matrix[t][0:t+1])\n",
    "    future_acc = np.mean(results_matrix[t][t+1:])\n",
    "    #print(f'task {t+1}\\t{results_matrix[t][t+1:]}\\n')\n",
    "    joint_acc_all.append(joint_acc)\n",
    "    \n",
    "    if t+1 != num_tasks:\n",
    "        #print(future_acc)\n",
    "        future_acc_all.append(future_acc)\n",
    "    \n",
    "#     print(f'task {t+1}\\tAvg-Acc-Till-Current-Task\\t{joint_acc}\\t\\tFuture-Acc\\t{future_acc}')\n",
    "\n",
    "print(f'Avg-Acc-Till-Current-Task-Joint\\t{np.mean(joint_acc_all)}\\t\\tFuture-Acc\\t{np.mean(future_acc_all)}')"
   ]
  }
 ],
 "metadata": {
  "kernelspec": {
   "display_name": "PyTorch",
   "language": "python",
   "name": "pytorch"
  },
  "language_info": {
   "codemirror_mode": {
    "name": "ipython",
    "version": 3
   },
   "file_extension": ".py",
   "mimetype": "text/x-python",
   "name": "python",
   "nbconvert_exporter": "python",
   "pygments_lexer": "ipython3",
   "version": "3.7.9"
  }
 },
 "nbformat": 4,
 "nbformat_minor": 4
}
