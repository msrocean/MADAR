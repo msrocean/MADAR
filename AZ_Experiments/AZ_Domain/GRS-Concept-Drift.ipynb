{
 "cells": [
  {
   "cell_type": "code",
   "execution_count": 6,
   "metadata": {},
   "outputs": [],
   "source": [
    "import numpy as np\n",
    "import os\n",
    "import pandas as pd\n",
    "import matplotlib.pyplot as plt\n",
    "import time, random\n",
    "from tqdm import tqdm\n",
    "import scipy\n",
    "from scipy.sparse import lil_matrix\n",
    "from sklearn.metrics import classification_report\n",
    "from sklearn.preprocessing import StandardScaler, QuantileTransformer\n",
    "import datetime\n",
    "import argparse\n",
    "import torch\n",
    "import torchvision\n",
    "import torch.nn as nn\n",
    "import torch.optim as optim\n",
    "import torch.nn.functional as F\n",
    "from torchvision import transforms, utils, datasets\n",
    "from torch.utils.data import Dataset, DataLoader\n",
    "\n",
    "from az_utils import *\n",
    "from ember_model import *\n",
    "\n",
    "\n",
    "\n",
    "\n",
    "def get_year_data(data_dir, year, train=True):\n",
    "    \n",
    "    if train:\n",
    "        data_dir = data_dir + '/'\n",
    "        XY_train = np.load(data_dir + str(year) + '_Domain_AZ_Train_Transformed.npz', allow_pickle=True)\n",
    "        X_tr, Y_tr = XY_train['X_train'], XY_train['Y_train']\n",
    "        \n",
    "        return X_tr, Y_tr\n",
    "    else:\n",
    "        data_dir = data_dir + '/'\n",
    "        XY_test = np.load(data_dir + str(year) + '_Domain_AZ_Test_Transformed.npz', allow_pickle=True)\n",
    "        X_test, Y_test = XY_test['X_test'], XY_test['Y_test']\n",
    "\n",
    "        return X_test, Y_test \n",
    "\n",
    "\n",
    "def get_MemoryData(X, Y, memory_budget):\n",
    "    indx = [i for i in range(len(Y))]\n",
    "    random.shuffle(indx)\n",
    "    \n",
    "    replay_index = indx[:memory_budget]\n",
    "    X_train = X[replay_index]\n",
    "    Y_train = Y[replay_index]\n",
    "    \n",
    "    return X_train, Y_train\n",
    "\n",
    "def create_empty_matrix(m, n):\n",
    "    return np.zeros((m, n))"
   ]
  },
  {
   "cell_type": "code",
   "execution_count": 7,
   "metadata": {},
   "outputs": [],
   "source": [
    "def get_GRS_data(data_dir, task_years, memory_budget, train=True, joint=True, none=False):\n",
    "    \n",
    "    if train:\n",
    "        if none:\n",
    "            X_tr, Y_tr = get_year_data(data_dir, task_years[-1])\n",
    "            X_train, Y_train  = X_tr, Y_tr\n",
    "            print(f'X_train {X_train.shape} Y_train {Y_train.shape}\\n')\n",
    "            return X_train, Y_train\n",
    "        \n",
    "        else:\n",
    "            X_tr, Y_tr = get_year_data(data_dir, task_years[-1])\n",
    "            print(f'Current Task Year {task_years[-1]} data X {X_tr.shape} Y {Y_tr.shape}')\n",
    "\n",
    "            if len(task_years) != 1:\n",
    "                previous_Xs, previous_Ys = [], []\n",
    "                for year in task_years[:-1]:\n",
    "                    pre_X_tr, pre_Y_tr = get_year_data(data_dir, year)\n",
    "\n",
    "\n",
    "                    pre_X_tr, pre_Y_tr = np.array(pre_X_tr), np.array(pre_Y_tr)\n",
    "                    #print(f'pre_X_tr {pre_X_tr.shape}  pre_Y_tr {pre_Y_tr.shape}')\n",
    "\n",
    "                    for idx, prevSample in enumerate(pre_X_tr):\n",
    "                        previous_Xs.append(prevSample)\n",
    "                        previous_Ys.append(pre_Y_tr[idx])\n",
    "\n",
    "\n",
    "                previous_Xs, previous_Ys = np.array(previous_Xs), np.array(previous_Ys)  \n",
    "\n",
    "                #print(f'Y_tr {Y_tr.shape}  previous_Ys {previous_Ys.shape}')\n",
    "                if joint:\n",
    "                    X_tr, Y_tr = np.concatenate((X_tr, previous_Xs)), np.concatenate((Y_tr, previous_Ys))\n",
    "                else:\n",
    "                    if memory_budget >= len(previous_Ys):\n",
    "                        X_tr, Y_tr = np.concatenate((X_tr, previous_Xs)), np.concatenate((Y_tr, previous_Ys))\n",
    "                    else:\n",
    "                        previous_Xs, previous_Ys = get_MemoryData(previous_Xs, previous_Ys, memory_budget)\n",
    "                        X_tr, Y_tr = np.concatenate((X_tr, previous_Xs)), np.concatenate((Y_tr, previous_Ys))\n",
    "                        #print(f'memory_budget {memory_budget}  Y_tr {previous_Ys.shape} ')\n",
    "                        assert memory_budget == len(previous_Ys)\n",
    "\n",
    "\n",
    "            X_train, Y_train  = X_tr, Y_tr\n",
    "            print(f'X_train {X_train.shape} Y_train {Y_train.shape}\\n')\n",
    "            return X_train, Y_train\n",
    "    else:\n",
    "        X_te, Y_te = get_year_data(data_dir, task_years[-1], train=False)\n",
    "        for year in task_years[:-1]:\n",
    "            pre_X_te, pre_Y_te = get_year_data(data_dir, year, train=False)\n",
    "            \n",
    "            X_te, Y_te = np.concatenate((X_te, pre_X_te)), np.concatenate((Y_te, pre_Y_te))\n",
    "\n",
    "        X_test, Y_test  = X_te, Y_te\n",
    "        print(f'X_test {X_test.shape} Y_test {Y_test.shape}')\n",
    "        return X_test, Y_test"
   ]
  },
  {
   "cell_type": "code",
   "execution_count": 77,
   "metadata": {},
   "outputs": [
    {
     "name": "stdout",
     "output_type": "stream",
     "text": [
      "Torch 1.2.0+cu92 CUDA 9.2.148\n",
      "Model has 2.525953m parameters\n",
      "\n",
      "2024-05-26 22:50:21 Round 1 ...\n",
      "Current Task 2008 with Budget none\n",
      "X_train (36333, 1789) Y_train (36333,)\n",
      "\n",
      "2024-05-26 22:50:22 Standardizing ...\n"
     ]
    },
    {
     "name": "stderr",
     "output_type": "stream",
     "text": [
      "\r",
      "  0%|          | 0/7 [00:00<?, ?it/s]"
     ]
    },
    {
     "name": "stdout",
     "output_type": "stream",
     "text": [
      "2024-05-26 22:50:22 Training ...\n",
      "Epoch 1 of 200\n"
     ]
    },
    {
     "name": "stderr",
     "output_type": "stream",
     "text": [
      "100%|██████████| 7/7 [00:00<00:00,  8.09it/s]\n",
      "100%|██████████| 1/1 [00:00<00:00, 12.38it/s]\n",
      "  0%|          | 0/7 [00:00<?, ?it/s]"
     ]
    },
    {
     "name": "stdout",
     "output_type": "stream",
     "text": [
      "Train Loss: 0.3276, Train Acc: 0.8826\n",
      "Val Loss: 0.4664, Val Acc: 0.9744\n",
      "Validation loss decreased (inf --> 0.466356).  Saving model ...\n",
      "../az_model_cd/GRS_SavedModel/GRSModel_none/2008/best_model_epoch_1.pt\n",
      "../az_model_cd/GRS_SavedModel/GRSOpt_none/2008/best_optimizer_epoch_1.pt\n",
      "Epoch 2 of 200\n"
     ]
    },
    {
     "name": "stderr",
     "output_type": "stream",
     "text": [
      "100%|██████████| 7/7 [00:00<00:00,  8.01it/s]\n",
      "100%|██████████| 1/1 [00:00<00:00, 12.89it/s]\n",
      "  0%|          | 0/7 [00:00<?, ?it/s]"
     ]
    },
    {
     "name": "stdout",
     "output_type": "stream",
     "text": [
      "Train Loss: 0.0867, Train Acc: 0.9864\n",
      "Val Loss: 0.1523, Val Acc: 0.9871\n",
      "Validation loss decreased (0.466356 --> 0.152300).  Saving model ...\n",
      "../az_model_cd/GRS_SavedModel/GRSModel_none/2008/best_model_epoch_2.pt\n",
      "../az_model_cd/GRS_SavedModel/GRSOpt_none/2008/best_optimizer_epoch_2.pt\n",
      "Epoch 3 of 200\n"
     ]
    },
    {
     "name": "stderr",
     "output_type": "stream",
     "text": [
      "100%|██████████| 7/7 [00:00<00:00,  8.33it/s]\n",
      "100%|██████████| 1/1 [00:00<00:00, 13.59it/s]\n",
      "  0%|          | 0/7 [00:00<?, ?it/s]"
     ]
    },
    {
     "name": "stdout",
     "output_type": "stream",
     "text": [
      "Train Loss: 0.0556, Train Acc: 0.9904\n",
      "Val Loss: 0.0673, Val Acc: 0.9912\n",
      "Validation loss decreased (0.152300 --> 0.067281).  Saving model ...\n",
      "../az_model_cd/GRS_SavedModel/GRSModel_none/2008/best_model_epoch_3.pt\n",
      "../az_model_cd/GRS_SavedModel/GRSOpt_none/2008/best_optimizer_epoch_3.pt\n",
      "Epoch 4 of 200\n"
     ]
    },
    {
     "name": "stderr",
     "output_type": "stream",
     "text": [
      "100%|██████████| 7/7 [00:00<00:00,  8.32it/s]\n",
      "100%|██████████| 1/1 [00:00<00:00, 13.56it/s]\n",
      "  0%|          | 0/7 [00:00<?, ?it/s]"
     ]
    },
    {
     "name": "stdout",
     "output_type": "stream",
     "text": [
      "Train Loss: 0.0432, Train Acc: 0.9919\n",
      "Val Loss: 0.0416, Val Acc: 0.9939\n",
      "Validation loss decreased (0.067281 --> 0.041590).  Saving model ...\n",
      "../az_model_cd/GRS_SavedModel/GRSModel_none/2008/best_model_epoch_4.pt\n",
      "../az_model_cd/GRS_SavedModel/GRSOpt_none/2008/best_optimizer_epoch_4.pt\n",
      "Epoch 5 of 200\n"
     ]
    },
    {
     "name": "stderr",
     "output_type": "stream",
     "text": [
      "100%|██████████| 7/7 [00:00<00:00,  7.81it/s]\n",
      "100%|██████████| 1/1 [00:00<00:00, 13.58it/s]\n",
      "  0%|          | 0/7 [00:00<?, ?it/s]"
     ]
    },
    {
     "name": "stdout",
     "output_type": "stream",
     "text": [
      "Train Loss: 0.0307, Train Acc: 0.9949\n",
      "Val Loss: 0.0319, Val Acc: 0.9934\n",
      "Validation loss decreased (0.041590 --> 0.031893).  Saving model ...\n",
      "../az_model_cd/GRS_SavedModel/GRSModel_none/2008/best_model_epoch_5.pt\n",
      "../az_model_cd/GRS_SavedModel/GRSOpt_none/2008/best_optimizer_epoch_5.pt\n",
      "Epoch 6 of 200\n"
     ]
    },
    {
     "name": "stderr",
     "output_type": "stream",
     "text": [
      "100%|██████████| 7/7 [00:00<00:00,  7.82it/s]\n",
      "100%|██████████| 1/1 [00:00<00:00,  4.74it/s]\n",
      "  0%|          | 0/7 [00:00<?, ?it/s]"
     ]
    },
    {
     "name": "stdout",
     "output_type": "stream",
     "text": [
      "Train Loss: 0.0267, Train Acc: 0.9952\n",
      "Val Loss: 0.0246, Val Acc: 0.9945\n",
      "Validation loss decreased (0.031893 --> 0.024552).  Saving model ...\n",
      "../az_model_cd/GRS_SavedModel/GRSModel_none/2008/best_model_epoch_6.pt\n",
      "../az_model_cd/GRS_SavedModel/GRSOpt_none/2008/best_optimizer_epoch_6.pt\n",
      "Epoch 7 of 200\n"
     ]
    },
    {
     "name": "stderr",
     "output_type": "stream",
     "text": [
      "100%|██████████| 7/7 [00:00<00:00,  8.48it/s]\n",
      "100%|██████████| 1/1 [00:00<00:00, 13.40it/s]\n",
      "  0%|          | 0/7 [00:00<?, ?it/s]"
     ]
    },
    {
     "name": "stdout",
     "output_type": "stream",
     "text": [
      "Train Loss: 0.0237, Train Acc: 0.9958\n",
      "Val Loss: 0.0210, Val Acc: 0.9953\n",
      "Validation loss decreased (0.024552 --> 0.020953).  Saving model ...\n",
      "../az_model_cd/GRS_SavedModel/GRSModel_none/2008/best_model_epoch_7.pt\n",
      "../az_model_cd/GRS_SavedModel/GRSOpt_none/2008/best_optimizer_epoch_7.pt\n",
      "Epoch 8 of 200\n"
     ]
    },
    {
     "name": "stderr",
     "output_type": "stream",
     "text": [
      "100%|██████████| 7/7 [00:00<00:00,  8.57it/s]\n",
      "100%|██████████| 1/1 [00:00<00:00, 13.77it/s]\n",
      "  0%|          | 0/7 [00:00<?, ?it/s]"
     ]
    },
    {
     "name": "stdout",
     "output_type": "stream",
     "text": [
      "Train Loss: 0.0186, Train Acc: 0.9968\n",
      "Val Loss: 0.0226, Val Acc: 0.9948\n",
      "EarlyStopping counter: 1 out of 5\n",
      "Epoch 9 of 200\n"
     ]
    },
    {
     "name": "stderr",
     "output_type": "stream",
     "text": [
      "100%|██████████| 7/7 [00:00<00:00,  8.25it/s]\n",
      "100%|██████████| 1/1 [00:00<00:00, 14.68it/s]\n",
      "  0%|          | 0/7 [00:00<?, ?it/s]"
     ]
    },
    {
     "name": "stdout",
     "output_type": "stream",
     "text": [
      "Train Loss: 0.0166, Train Acc: 0.9967\n",
      "Val Loss: 0.0226, Val Acc: 0.9939\n",
      "EarlyStopping counter: 2 out of 5\n",
      "Epoch 10 of 200\n"
     ]
    },
    {
     "name": "stderr",
     "output_type": "stream",
     "text": [
      "100%|██████████| 7/7 [00:00<00:00,  8.30it/s]\n",
      "100%|██████████| 1/1 [00:00<00:00, 14.24it/s]\n",
      "  0%|          | 0/7 [00:00<?, ?it/s]"
     ]
    },
    {
     "name": "stdout",
     "output_type": "stream",
     "text": [
      "Train Loss: 0.0161, Train Acc: 0.9969\n",
      "Val Loss: 0.0212, Val Acc: 0.9942\n",
      "EarlyStopping counter: 3 out of 5\n",
      "Epoch 11 of 200\n"
     ]
    },
    {
     "name": "stderr",
     "output_type": "stream",
     "text": [
      "100%|██████████| 7/7 [00:00<00:00,  8.60it/s]\n",
      "100%|██████████| 1/1 [00:00<00:00, 14.22it/s]\n",
      "  0%|          | 0/7 [00:00<?, ?it/s]"
     ]
    },
    {
     "name": "stdout",
     "output_type": "stream",
     "text": [
      "Train Loss: 0.0139, Train Acc: 0.9975\n",
      "Val Loss: 0.0190, Val Acc: 0.9953\n",
      "Validation loss decreased (0.020953 --> 0.018967).  Saving model ...\n",
      "../az_model_cd/GRS_SavedModel/GRSModel_none/2008/best_model_epoch_11.pt\n",
      "../az_model_cd/GRS_SavedModel/GRSOpt_none/2008/best_optimizer_epoch_11.pt\n",
      "Epoch 12 of 200\n"
     ]
    },
    {
     "name": "stderr",
     "output_type": "stream",
     "text": [
      "100%|██████████| 7/7 [00:00<00:00,  7.51it/s]\n",
      "100%|██████████| 1/1 [00:00<00:00,  6.26it/s]\n",
      "  0%|          | 0/7 [00:00<?, ?it/s]"
     ]
    },
    {
     "name": "stdout",
     "output_type": "stream",
     "text": [
      "Train Loss: 0.0120, Train Acc: 0.9978\n",
      "Val Loss: 0.0197, Val Acc: 0.9953\n",
      "EarlyStopping counter: 1 out of 5\n",
      "Epoch 13 of 200\n"
     ]
    },
    {
     "name": "stderr",
     "output_type": "stream",
     "text": [
      "100%|██████████| 7/7 [00:00<00:00,  8.87it/s]\n",
      "100%|██████████| 1/1 [00:00<00:00, 16.77it/s]\n",
      "  0%|          | 0/7 [00:00<?, ?it/s]"
     ]
    },
    {
     "name": "stdout",
     "output_type": "stream",
     "text": [
      "Train Loss: 0.0122, Train Acc: 0.9976\n",
      "Val Loss: 0.0181, Val Acc: 0.9956\n",
      "Validation loss decreased (0.018967 --> 0.018123).  Saving model ...\n",
      "../az_model_cd/GRS_SavedModel/GRSModel_none/2008/best_model_epoch_13.pt\n",
      "../az_model_cd/GRS_SavedModel/GRSOpt_none/2008/best_optimizer_epoch_13.pt\n",
      "Epoch 14 of 200\n"
     ]
    },
    {
     "name": "stderr",
     "output_type": "stream",
     "text": [
      "100%|██████████| 7/7 [00:00<00:00,  8.40it/s]\n",
      "100%|██████████| 1/1 [00:00<00:00, 14.24it/s]\n",
      "  0%|          | 0/7 [00:00<?, ?it/s]"
     ]
    },
    {
     "name": "stdout",
     "output_type": "stream",
     "text": [
      "Train Loss: 0.0100, Train Acc: 0.9980\n",
      "Val Loss: 0.0179, Val Acc: 0.9948\n",
      "Validation loss decreased (0.018123 --> 0.017949).  Saving model ...\n",
      "../az_model_cd/GRS_SavedModel/GRSModel_none/2008/best_model_epoch_14.pt\n",
      "../az_model_cd/GRS_SavedModel/GRSOpt_none/2008/best_optimizer_epoch_14.pt\n",
      "Epoch 15 of 200\n"
     ]
    },
    {
     "name": "stderr",
     "output_type": "stream",
     "text": [
      "100%|██████████| 7/7 [00:00<00:00,  8.53it/s]\n",
      "100%|██████████| 1/1 [00:00<00:00, 15.76it/s]\n",
      "  0%|          | 0/7 [00:00<?, ?it/s]"
     ]
    },
    {
     "name": "stdout",
     "output_type": "stream",
     "text": [
      "Train Loss: 0.0087, Train Acc: 0.9983\n",
      "Val Loss: 0.0184, Val Acc: 0.9959\n",
      "EarlyStopping counter: 1 out of 5\n",
      "Epoch 16 of 200\n"
     ]
    },
    {
     "name": "stderr",
     "output_type": "stream",
     "text": [
      "100%|██████████| 7/7 [00:00<00:00,  8.53it/s]\n",
      "100%|██████████| 1/1 [00:00<00:00, 14.36it/s]\n",
      "  0%|          | 0/7 [00:00<?, ?it/s]"
     ]
    },
    {
     "name": "stdout",
     "output_type": "stream",
     "text": [
      "Train Loss: 0.0076, Train Acc: 0.9986\n",
      "Val Loss: 0.0188, Val Acc: 0.9950\n",
      "EarlyStopping counter: 2 out of 5\n",
      "Epoch 17 of 200\n"
     ]
    },
    {
     "name": "stderr",
     "output_type": "stream",
     "text": [
      "100%|██████████| 7/7 [00:00<00:00,  8.43it/s]\n",
      "100%|██████████| 1/1 [00:00<00:00, 13.57it/s]\n",
      "  0%|          | 0/7 [00:00<?, ?it/s]"
     ]
    },
    {
     "name": "stdout",
     "output_type": "stream",
     "text": [
      "Train Loss: 0.0086, Train Acc: 0.9979\n",
      "Val Loss: 0.0173, Val Acc: 0.9959\n",
      "Validation loss decreased (0.017949 --> 0.017316).  Saving model ...\n",
      "../az_model_cd/GRS_SavedModel/GRSModel_none/2008/best_model_epoch_17.pt\n",
      "../az_model_cd/GRS_SavedModel/GRSOpt_none/2008/best_optimizer_epoch_17.pt\n",
      "Epoch 18 of 200\n"
     ]
    },
    {
     "name": "stderr",
     "output_type": "stream",
     "text": [
      "100%|██████████| 7/7 [00:00<00:00,  8.55it/s]\n",
      "100%|██████████| 1/1 [00:00<00:00, 10.90it/s]\n",
      "  0%|          | 0/7 [00:00<?, ?it/s]"
     ]
    },
    {
     "name": "stdout",
     "output_type": "stream",
     "text": [
      "Train Loss: 0.0080, Train Acc: 0.9983\n",
      "Val Loss: 0.0198, Val Acc: 0.9956\n",
      "EarlyStopping counter: 1 out of 5\n",
      "Epoch 19 of 200\n"
     ]
    },
    {
     "name": "stderr",
     "output_type": "stream",
     "text": [
      "100%|██████████| 7/7 [00:00<00:00,  8.12it/s]\n",
      "100%|██████████| 1/1 [00:00<00:00,  5.17it/s]\n",
      "  0%|          | 0/7 [00:00<?, ?it/s]"
     ]
    },
    {
     "name": "stdout",
     "output_type": "stream",
     "text": [
      "Train Loss: 0.0067, Train Acc: 0.9990\n",
      "Val Loss: 0.0208, Val Acc: 0.9956\n",
      "EarlyStopping counter: 2 out of 5\n",
      "Epoch 20 of 200\n"
     ]
    },
    {
     "name": "stderr",
     "output_type": "stream",
     "text": [
      "100%|██████████| 7/7 [00:00<00:00,  8.76it/s]\n",
      "100%|██████████| 1/1 [00:00<00:00, 14.76it/s]\n",
      "  0%|          | 0/7 [00:00<?, ?it/s]"
     ]
    },
    {
     "name": "stdout",
     "output_type": "stream",
     "text": [
      "Train Loss: 0.0074, Train Acc: 0.9985\n",
      "Val Loss: 0.0177, Val Acc: 0.9959\n",
      "EarlyStopping counter: 3 out of 5\n",
      "Epoch 21 of 200\n"
     ]
    },
    {
     "name": "stderr",
     "output_type": "stream",
     "text": [
      "100%|██████████| 7/7 [00:00<00:00,  8.52it/s]\n",
      "100%|██████████| 1/1 [00:00<00:00, 14.87it/s]\n",
      "  0%|          | 0/7 [00:00<?, ?it/s]"
     ]
    },
    {
     "name": "stdout",
     "output_type": "stream",
     "text": [
      "Train Loss: 0.0070, Train Acc: 0.9980\n",
      "Val Loss: 0.0181, Val Acc: 0.9964\n",
      "EarlyStopping counter: 4 out of 5\n",
      "Epoch 22 of 200\n"
     ]
    },
    {
     "name": "stderr",
     "output_type": "stream",
     "text": [
      "100%|██████████| 7/7 [00:00<00:00,  8.59it/s]\n",
      "100%|██████████| 1/1 [00:00<00:00, 14.91it/s]\n",
      "  0%|          | 0/1 [00:00<?, ?it/s]"
     ]
    },
    {
     "name": "stdout",
     "output_type": "stream",
     "text": [
      "Train Loss: 0.0067, Train Acc: 0.9982\n",
      "Val Loss: 0.0182, Val Acc: 0.9961\n",
      "EarlyStopping counter: 5 out of 5\n",
      "Early stopping\n",
      "Training time: 0.357 minutes\n",
      "Elapsed time 0.37118316094080606 mins.\n",
      "loading best model ../az_model_cd/GRS_SavedModel/GRSModel_none/2008/best_model_epoch_17.pt\n",
      "loading best optimizer ../az_model_cd/GRS_SavedModel/GRSOpt_none/2008/best_optimizer_epoch_17.pt\n"
     ]
    },
    {
     "name": "stderr",
     "output_type": "stream",
     "text": [
      "100%|██████████| 1/1 [00:00<00:00,  4.18it/s]\n",
      "100%|██████████| 1/1 [00:00<00:00,  8.22it/s]\n",
      "100%|██████████| 1/1 [00:00<00:00,  4.69it/s]\n",
      "100%|██████████| 3/3 [00:00<00:00,  8.42it/s]\n",
      "100%|██████████| 3/3 [00:00<00:00,  5.86it/s]\n",
      "100%|██████████| 3/3 [00:00<00:00,  6.11it/s]\n",
      "100%|██████████| 3/3 [00:00<00:00,  6.08it/s]\n",
      "100%|██████████| 3/3 [00:00<00:00,  6.03it/s]\n",
      "100%|██████████| 3/3 [00:00<00:00,  8.81it/s]\n",
      "0it [00:00, ?it/s]"
     ]
    },
    {
     "name": "stdout",
     "output_type": "stream",
     "text": [
      "Elapsed time 0.4533833503723145 mins.\n",
      "\n",
      "2024-05-26 22:50:48 Round 1 ...\n",
      "Current Task 2009 with Budget none\n",
      "X_train (735, 1789) Y_train (735,)\n",
      "\n",
      "2024-05-26 22:50:48 Standardizing ...\n",
      "2024-05-26 22:50:49 Training ...\n",
      "Epoch 1 of 200\n"
     ]
    },
    {
     "name": "stderr",
     "output_type": "stream",
     "text": [
      "0it [00:00, ?it/s]\n",
      "100%|██████████| 1/1 [00:00<00:00, 82.85it/s]\n"
     ]
    },
    {
     "name": "stdout",
     "output_type": "stream",
     "text": [
      "Train Loss: nan, Train Acc: nan\n",
      "Val Loss: 0.1214, Val Acc: 0.9595\n",
      "Validation loss decreased (inf --> 0.121355).  Saving model ...\n",
      "../az_model_cd/GRS_SavedModel/GRSModel_none/2009/best_model_epoch_1.pt\n",
      "../az_model_cd/GRS_SavedModel/GRSOpt_none/2009/best_optimizer_epoch_1.pt\n"
     ]
    },
    {
     "name": "stderr",
     "output_type": "stream",
     "text": [
      "\r",
      "0it [00:00, ?it/s]"
     ]
    },
    {
     "name": "stdout",
     "output_type": "stream",
     "text": [
      "Epoch 2 of 200\n"
     ]
    },
    {
     "name": "stderr",
     "output_type": "stream",
     "text": [
      "0it [00:00, ?it/s]\n",
      "100%|██████████| 1/1 [00:00<00:00, 152.90it/s]\n"
     ]
    },
    {
     "name": "stdout",
     "output_type": "stream",
     "text": [
      "Train Loss: nan, Train Acc: nan\n",
      "Val Loss: 0.1214, Val Acc: 0.9595\n",
      "Validation loss decreased (0.121355 --> 0.121355).  Saving model ...\n",
      "../az_model_cd/GRS_SavedModel/GRSModel_none/2009/best_model_epoch_2.pt\n"
     ]
    },
    {
     "name": "stderr",
     "output_type": "stream",
     "text": [
      "\r",
      "0it [00:00, ?it/s]"
     ]
    },
    {
     "name": "stdout",
     "output_type": "stream",
     "text": [
      "../az_model_cd/GRS_SavedModel/GRSOpt_none/2009/best_optimizer_epoch_2.pt\n",
      "Epoch 3 of 200\n"
     ]
    },
    {
     "name": "stderr",
     "output_type": "stream",
     "text": [
      "0it [00:00, ?it/s]\n",
      "100%|██████████| 1/1 [00:00<00:00, 169.72it/s]\n"
     ]
    },
    {
     "name": "stdout",
     "output_type": "stream",
     "text": [
      "Train Loss: nan, Train Acc: nan\n",
      "Val Loss: 0.1214, Val Acc: 0.9595\n",
      "Validation loss decreased (0.121355 --> 0.121355).  Saving model ...\n",
      "../az_model_cd/GRS_SavedModel/GRSModel_none/2009/best_model_epoch_3.pt\n"
     ]
    },
    {
     "name": "stderr",
     "output_type": "stream",
     "text": [
      "\r",
      "0it [00:00, ?it/s]"
     ]
    },
    {
     "name": "stdout",
     "output_type": "stream",
     "text": [
      "../az_model_cd/GRS_SavedModel/GRSOpt_none/2009/best_optimizer_epoch_3.pt\n",
      "Epoch 4 of 200\n"
     ]
    },
    {
     "name": "stderr",
     "output_type": "stream",
     "text": [
      "0it [00:00, ?it/s]\n",
      "100%|██████████| 1/1 [00:00<00:00, 137.05it/s]\n"
     ]
    },
    {
     "name": "stdout",
     "output_type": "stream",
     "text": [
      "Train Loss: nan, Train Acc: nan\n",
      "Val Loss: 0.1214, Val Acc: 0.9595\n",
      "Validation loss decreased (0.121355 --> 0.121355).  Saving model ...\n",
      "../az_model_cd/GRS_SavedModel/GRSModel_none/2009/best_model_epoch_4.pt\n"
     ]
    },
    {
     "name": "stderr",
     "output_type": "stream",
     "text": [
      "\r",
      "0it [00:00, ?it/s]"
     ]
    },
    {
     "name": "stdout",
     "output_type": "stream",
     "text": [
      "../az_model_cd/GRS_SavedModel/GRSOpt_none/2009/best_optimizer_epoch_4.pt\n",
      "Epoch 5 of 200\n"
     ]
    },
    {
     "name": "stderr",
     "output_type": "stream",
     "text": [
      "0it [00:00, ?it/s]\n",
      "100%|██████████| 1/1 [00:00<00:00, 166.15it/s]\n"
     ]
    },
    {
     "name": "stdout",
     "output_type": "stream",
     "text": [
      "Train Loss: nan, Train Acc: nan\n",
      "Val Loss: 0.1214, Val Acc: 0.9595\n",
      "Validation loss decreased (0.121355 --> 0.121355).  Saving model ...\n",
      "../az_model_cd/GRS_SavedModel/GRSModel_none/2009/best_model_epoch_5.pt\n"
     ]
    },
    {
     "name": "stderr",
     "output_type": "stream",
     "text": [
      "\r",
      "0it [00:00, ?it/s]"
     ]
    },
    {
     "name": "stdout",
     "output_type": "stream",
     "text": [
      "../az_model_cd/GRS_SavedModel/GRSOpt_none/2009/best_optimizer_epoch_5.pt\n",
      "Epoch 6 of 200\n"
     ]
    },
    {
     "name": "stderr",
     "output_type": "stream",
     "text": [
      "0it [00:00, ?it/s]\n",
      "100%|██████████| 1/1 [00:00<00:00, 166.44it/s]\n"
     ]
    },
    {
     "name": "stdout",
     "output_type": "stream",
     "text": [
      "Train Loss: nan, Train Acc: nan\n",
      "Val Loss: 0.1214, Val Acc: 0.9595\n",
      "Validation loss decreased (0.121355 --> 0.121355).  Saving model ...\n",
      "../az_model_cd/GRS_SavedModel/GRSModel_none/2009/best_model_epoch_6.pt\n"
     ]
    },
    {
     "name": "stderr",
     "output_type": "stream",
     "text": [
      "\r",
      "0it [00:00, ?it/s]"
     ]
    },
    {
     "name": "stdout",
     "output_type": "stream",
     "text": [
      "../az_model_cd/GRS_SavedModel/GRSOpt_none/2009/best_optimizer_epoch_6.pt\n",
      "Epoch 7 of 200\n"
     ]
    },
    {
     "name": "stderr",
     "output_type": "stream",
     "text": [
      "0it [00:00, ?it/s]\n",
      "100%|██████████| 1/1 [00:00<00:00, 168.74it/s]\n"
     ]
    },
    {
     "name": "stdout",
     "output_type": "stream",
     "text": [
      "Train Loss: nan, Train Acc: nan\n",
      "Val Loss: 0.1214, Val Acc: 0.9595\n",
      "Validation loss decreased (0.121355 --> 0.121355).  Saving model ...\n",
      "../az_model_cd/GRS_SavedModel/GRSModel_none/2009/best_model_epoch_7.pt\n",
      "../az_model_cd/GRS_SavedModel/GRSOpt_none/2009/best_optimizer_epoch_7.pt\n"
     ]
    },
    {
     "name": "stderr",
     "output_type": "stream",
     "text": [
      "\r",
      "0it [00:00, ?it/s]"
     ]
    },
    {
     "name": "stdout",
     "output_type": "stream",
     "text": [
      "Epoch 8 of 200\n"
     ]
    },
    {
     "name": "stderr",
     "output_type": "stream",
     "text": [
      "0it [00:00, ?it/s]\n",
      "100%|██████████| 1/1 [00:00<00:00, 154.21it/s]\n"
     ]
    },
    {
     "name": "stdout",
     "output_type": "stream",
     "text": [
      "Train Loss: nan, Train Acc: nan\n",
      "Val Loss: 0.1214, Val Acc: 0.9595\n",
      "Validation loss decreased (0.121355 --> 0.121355).  Saving model ...\n",
      "../az_model_cd/GRS_SavedModel/GRSModel_none/2009/best_model_epoch_8.pt\n"
     ]
    },
    {
     "name": "stderr",
     "output_type": "stream",
     "text": [
      "\r",
      "0it [00:00, ?it/s]"
     ]
    },
    {
     "name": "stdout",
     "output_type": "stream",
     "text": [
      "../az_model_cd/GRS_SavedModel/GRSOpt_none/2009/best_optimizer_epoch_8.pt\n",
      "Epoch 9 of 200\n"
     ]
    },
    {
     "name": "stderr",
     "output_type": "stream",
     "text": [
      "0it [00:00, ?it/s]\n",
      "100%|██████████| 1/1 [00:00<00:00, 176.51it/s]\n"
     ]
    },
    {
     "name": "stdout",
     "output_type": "stream",
     "text": [
      "Train Loss: nan, Train Acc: nan\n",
      "Val Loss: 0.1214, Val Acc: 0.9595\n",
      "Validation loss decreased (0.121355 --> 0.121355).  Saving model ...\n",
      "../az_model_cd/GRS_SavedModel/GRSModel_none/2009/best_model_epoch_9.pt\n",
      "../az_model_cd/GRS_SavedModel/GRSOpt_none/2009/best_optimizer_epoch_9.pt\n"
     ]
    },
    {
     "name": "stderr",
     "output_type": "stream",
     "text": [
      "\r",
      "0it [00:00, ?it/s]"
     ]
    },
    {
     "name": "stdout",
     "output_type": "stream",
     "text": [
      "Epoch 10 of 200\n"
     ]
    },
    {
     "name": "stderr",
     "output_type": "stream",
     "text": [
      "0it [00:00, ?it/s]\n",
      "100%|██████████| 1/1 [00:00<00:00, 168.44it/s]\n"
     ]
    },
    {
     "name": "stdout",
     "output_type": "stream",
     "text": [
      "Train Loss: nan, Train Acc: nan\n",
      "Val Loss: 0.1214, Val Acc: 0.9595\n",
      "Validation loss decreased (0.121355 --> 0.121355).  Saving model ...\n",
      "../az_model_cd/GRS_SavedModel/GRSModel_none/2009/best_model_epoch_10.pt\n"
     ]
    },
    {
     "name": "stderr",
     "output_type": "stream",
     "text": [
      "\r",
      "0it [00:00, ?it/s]"
     ]
    },
    {
     "name": "stdout",
     "output_type": "stream",
     "text": [
      "../az_model_cd/GRS_SavedModel/GRSOpt_none/2009/best_optimizer_epoch_10.pt\n",
      "Epoch 11 of 200\n"
     ]
    },
    {
     "name": "stderr",
     "output_type": "stream",
     "text": [
      "0it [00:00, ?it/s]\n",
      "100%|██████████| 1/1 [00:00<00:00, 167.48it/s]\n"
     ]
    },
    {
     "name": "stdout",
     "output_type": "stream",
     "text": [
      "Train Loss: nan, Train Acc: nan\n",
      "Val Loss: 0.1214, Val Acc: 0.9595\n",
      "Validation loss decreased (0.121355 --> 0.121355).  Saving model ...\n"
     ]
    },
    {
     "name": "stderr",
     "output_type": "stream",
     "text": [
      "\r",
      "0it [00:00, ?it/s]"
     ]
    },
    {
     "name": "stdout",
     "output_type": "stream",
     "text": [
      "../az_model_cd/GRS_SavedModel/GRSModel_none/2009/best_model_epoch_11.pt\n",
      "../az_model_cd/GRS_SavedModel/GRSOpt_none/2009/best_optimizer_epoch_11.pt\n",
      "Epoch 12 of 200\n"
     ]
    },
    {
     "name": "stderr",
     "output_type": "stream",
     "text": [
      "0it [00:00, ?it/s]\n",
      "100%|██████████| 1/1 [00:00<00:00, 166.63it/s]\n"
     ]
    },
    {
     "name": "stdout",
     "output_type": "stream",
     "text": [
      "Train Loss: nan, Train Acc: nan\n",
      "Val Loss: 0.1214, Val Acc: 0.9595\n",
      "Validation loss decreased (0.121355 --> 0.121355).  Saving model ...\n",
      "../az_model_cd/GRS_SavedModel/GRSModel_none/2009/best_model_epoch_12.pt\n"
     ]
    },
    {
     "name": "stderr",
     "output_type": "stream",
     "text": [
      "\r",
      "0it [00:00, ?it/s]"
     ]
    },
    {
     "name": "stdout",
     "output_type": "stream",
     "text": [
      "../az_model_cd/GRS_SavedModel/GRSOpt_none/2009/best_optimizer_epoch_12.pt\n",
      "Epoch 13 of 200\n"
     ]
    },
    {
     "name": "stderr",
     "output_type": "stream",
     "text": [
      "0it [00:00, ?it/s]\n",
      "100%|██████████| 1/1 [00:00<00:00, 173.50it/s]\n"
     ]
    },
    {
     "name": "stdout",
     "output_type": "stream",
     "text": [
      "Train Loss: nan, Train Acc: nan\n",
      "Val Loss: 0.1214, Val Acc: 0.9595\n",
      "Validation loss decreased (0.121355 --> 0.121355).  Saving model ...\n",
      "../az_model_cd/GRS_SavedModel/GRSModel_none/2009/best_model_epoch_13.pt\n"
     ]
    },
    {
     "name": "stderr",
     "output_type": "stream",
     "text": [
      "\r",
      "0it [00:00, ?it/s]"
     ]
    },
    {
     "name": "stdout",
     "output_type": "stream",
     "text": [
      "../az_model_cd/GRS_SavedModel/GRSOpt_none/2009/best_optimizer_epoch_13.pt\n",
      "Epoch 14 of 200\n"
     ]
    },
    {
     "name": "stderr",
     "output_type": "stream",
     "text": [
      "0it [00:00, ?it/s]\n",
      "100%|██████████| 1/1 [00:00<00:00, 169.04it/s]\n"
     ]
    },
    {
     "name": "stdout",
     "output_type": "stream",
     "text": [
      "Train Loss: nan, Train Acc: nan\n",
      "Val Loss: 0.1214, Val Acc: 0.9595\n",
      "Validation loss decreased (0.121355 --> 0.121355).  Saving model ...\n",
      "../az_model_cd/GRS_SavedModel/GRSModel_none/2009/best_model_epoch_14.pt\n"
     ]
    },
    {
     "name": "stderr",
     "output_type": "stream",
     "text": [
      "\r",
      "0it [00:00, ?it/s]"
     ]
    },
    {
     "name": "stdout",
     "output_type": "stream",
     "text": [
      "../az_model_cd/GRS_SavedModel/GRSOpt_none/2009/best_optimizer_epoch_14.pt\n",
      "Epoch 15 of 200\n"
     ]
    },
    {
     "name": "stderr",
     "output_type": "stream",
     "text": [
      "0it [00:00, ?it/s]\n",
      "100%|██████████| 1/1 [00:00<00:00, 160.41it/s]\n"
     ]
    },
    {
     "name": "stdout",
     "output_type": "stream",
     "text": [
      "Train Loss: nan, Train Acc: nan\n",
      "Val Loss: 0.1214, Val Acc: 0.9595\n",
      "Validation loss decreased (0.121355 --> 0.121355).  Saving model ...\n",
      "../az_model_cd/GRS_SavedModel/GRSModel_none/2009/best_model_epoch_15.pt\n"
     ]
    },
    {
     "name": "stderr",
     "output_type": "stream",
     "text": [
      "\r",
      "0it [00:00, ?it/s]"
     ]
    },
    {
     "name": "stdout",
     "output_type": "stream",
     "text": [
      "../az_model_cd/GRS_SavedModel/GRSOpt_none/2009/best_optimizer_epoch_15.pt\n",
      "Epoch 16 of 200\n"
     ]
    },
    {
     "name": "stderr",
     "output_type": "stream",
     "text": [
      "0it [00:00, ?it/s]\n",
      "100%|██████████| 1/1 [00:00<00:00, 165.43it/s]\n"
     ]
    },
    {
     "name": "stdout",
     "output_type": "stream",
     "text": [
      "Train Loss: nan, Train Acc: nan\n",
      "Val Loss: 0.1214, Val Acc: 0.9595\n",
      "Validation loss decreased (0.121355 --> 0.121355).  Saving model ...\n",
      "../az_model_cd/GRS_SavedModel/GRSModel_none/2009/best_model_epoch_16.pt\n"
     ]
    },
    {
     "name": "stderr",
     "output_type": "stream",
     "text": [
      "\r",
      "0it [00:00, ?it/s]"
     ]
    },
    {
     "name": "stdout",
     "output_type": "stream",
     "text": [
      "../az_model_cd/GRS_SavedModel/GRSOpt_none/2009/best_optimizer_epoch_16.pt\n",
      "Epoch 17 of 200\n"
     ]
    },
    {
     "name": "stderr",
     "output_type": "stream",
     "text": [
      "0it [00:00, ?it/s]\n",
      "100%|██████████| 1/1 [00:00<00:00, 145.95it/s]\n"
     ]
    },
    {
     "name": "stdout",
     "output_type": "stream",
     "text": [
      "Train Loss: nan, Train Acc: nan\n",
      "Val Loss: 0.1214, Val Acc: 0.9595\n",
      "Validation loss decreased (0.121355 --> 0.121355).  Saving model ...\n",
      "../az_model_cd/GRS_SavedModel/GRSModel_none/2009/best_model_epoch_17.pt\n"
     ]
    },
    {
     "name": "stderr",
     "output_type": "stream",
     "text": [
      "\r",
      "0it [00:00, ?it/s]"
     ]
    },
    {
     "name": "stdout",
     "output_type": "stream",
     "text": [
      "../az_model_cd/GRS_SavedModel/GRSOpt_none/2009/best_optimizer_epoch_17.pt\n",
      "Epoch 18 of 200\n"
     ]
    },
    {
     "name": "stderr",
     "output_type": "stream",
     "text": [
      "0it [00:00, ?it/s]\n",
      "100%|██████████| 1/1 [00:00<00:00, 134.58it/s]\n"
     ]
    },
    {
     "name": "stdout",
     "output_type": "stream",
     "text": [
      "Train Loss: nan, Train Acc: nan\n",
      "Val Loss: 0.1214, Val Acc: 0.9595\n",
      "Validation loss decreased (0.121355 --> 0.121355).  Saving model ...\n",
      "../az_model_cd/GRS_SavedModel/GRSModel_none/2009/best_model_epoch_18.pt\n"
     ]
    },
    {
     "name": "stderr",
     "output_type": "stream",
     "text": [
      "\r",
      "0it [00:00, ?it/s]"
     ]
    },
    {
     "name": "stdout",
     "output_type": "stream",
     "text": [
      "../az_model_cd/GRS_SavedModel/GRSOpt_none/2009/best_optimizer_epoch_18.pt\n",
      "Epoch 19 of 200\n"
     ]
    },
    {
     "name": "stderr",
     "output_type": "stream",
     "text": [
      "0it [00:00, ?it/s]\n",
      "100%|██████████| 1/1 [00:00<00:00, 168.20it/s]\n"
     ]
    },
    {
     "name": "stdout",
     "output_type": "stream",
     "text": [
      "Train Loss: nan, Train Acc: nan\n",
      "Val Loss: 0.1214, Val Acc: 0.9595\n",
      "Validation loss decreased (0.121355 --> 0.121355).  Saving model ...\n",
      "../az_model_cd/GRS_SavedModel/GRSModel_none/2009/best_model_epoch_19.pt\n"
     ]
    },
    {
     "name": "stderr",
     "output_type": "stream",
     "text": [
      "\r",
      "0it [00:00, ?it/s]"
     ]
    },
    {
     "name": "stdout",
     "output_type": "stream",
     "text": [
      "../az_model_cd/GRS_SavedModel/GRSOpt_none/2009/best_optimizer_epoch_19.pt\n",
      "Epoch 20 of 200\n"
     ]
    },
    {
     "name": "stderr",
     "output_type": "stream",
     "text": [
      "0it [00:00, ?it/s]\n",
      "100%|██████████| 1/1 [00:00<00:00, 165.93it/s]\n"
     ]
    },
    {
     "name": "stdout",
     "output_type": "stream",
     "text": [
      "Train Loss: nan, Train Acc: nan\n",
      "Val Loss: 0.1214, Val Acc: 0.9595\n",
      "Validation loss decreased (0.121355 --> 0.121355).  Saving model ...\n",
      "../az_model_cd/GRS_SavedModel/GRSModel_none/2009/best_model_epoch_20.pt\n"
     ]
    },
    {
     "name": "stderr",
     "output_type": "stream",
     "text": [
      "\r",
      "0it [00:00, ?it/s]"
     ]
    },
    {
     "name": "stdout",
     "output_type": "stream",
     "text": [
      "../az_model_cd/GRS_SavedModel/GRSOpt_none/2009/best_optimizer_epoch_20.pt\n",
      "Epoch 21 of 200\n"
     ]
    },
    {
     "name": "stderr",
     "output_type": "stream",
     "text": [
      "0it [00:00, ?it/s]\n",
      "100%|██████████| 1/1 [00:00<00:00, 125.56it/s]\n"
     ]
    },
    {
     "name": "stdout",
     "output_type": "stream",
     "text": [
      "Train Loss: nan, Train Acc: nan\n",
      "Val Loss: 0.1214, Val Acc: 0.9595\n",
      "Validation loss decreased (0.121355 --> 0.121355).  Saving model ...\n",
      "../az_model_cd/GRS_SavedModel/GRSModel_none/2009/best_model_epoch_21.pt\n"
     ]
    },
    {
     "name": "stderr",
     "output_type": "stream",
     "text": [
      "\r",
      "0it [00:00, ?it/s]"
     ]
    },
    {
     "name": "stdout",
     "output_type": "stream",
     "text": [
      "../az_model_cd/GRS_SavedModel/GRSOpt_none/2009/best_optimizer_epoch_21.pt\n",
      "Epoch 22 of 200\n"
     ]
    },
    {
     "name": "stderr",
     "output_type": "stream",
     "text": [
      "0it [00:00, ?it/s]\n",
      "100%|██████████| 1/1 [00:00<00:00, 156.18it/s]\n"
     ]
    },
    {
     "name": "stdout",
     "output_type": "stream",
     "text": [
      "Train Loss: nan, Train Acc: nan\n",
      "Val Loss: 0.1214, Val Acc: 0.9595\n",
      "Validation loss decreased (0.121355 --> 0.121355).  Saving model ...\n",
      "../az_model_cd/GRS_SavedModel/GRSModel_none/2009/best_model_epoch_22.pt\n"
     ]
    },
    {
     "name": "stderr",
     "output_type": "stream",
     "text": [
      "\r",
      "0it [00:00, ?it/s]"
     ]
    },
    {
     "name": "stdout",
     "output_type": "stream",
     "text": [
      "../az_model_cd/GRS_SavedModel/GRSOpt_none/2009/best_optimizer_epoch_22.pt\n",
      "Epoch 23 of 200\n"
     ]
    },
    {
     "name": "stderr",
     "output_type": "stream",
     "text": [
      "0it [00:00, ?it/s]\n",
      "100%|██████████| 1/1 [00:00<00:00, 165.55it/s]\n"
     ]
    },
    {
     "name": "stdout",
     "output_type": "stream",
     "text": [
      "Train Loss: nan, Train Acc: nan\n",
      "Val Loss: 0.1214, Val Acc: 0.9595\n",
      "Validation loss decreased (0.121355 --> 0.121355).  Saving model ...\n",
      "../az_model_cd/GRS_SavedModel/GRSModel_none/2009/best_model_epoch_23.pt\n"
     ]
    },
    {
     "name": "stderr",
     "output_type": "stream",
     "text": [
      "\r",
      "0it [00:00, ?it/s]"
     ]
    },
    {
     "name": "stdout",
     "output_type": "stream",
     "text": [
      "../az_model_cd/GRS_SavedModel/GRSOpt_none/2009/best_optimizer_epoch_23.pt\n",
      "Epoch 24 of 200\n"
     ]
    },
    {
     "name": "stderr",
     "output_type": "stream",
     "text": [
      "0it [00:00, ?it/s]\n",
      "100%|██████████| 1/1 [00:00<00:00, 162.12it/s]\n"
     ]
    },
    {
     "name": "stdout",
     "output_type": "stream",
     "text": [
      "Train Loss: nan, Train Acc: nan\n",
      "Val Loss: 0.1214, Val Acc: 0.9595\n",
      "Validation loss decreased (0.121355 --> 0.121355).  Saving model ...\n",
      "../az_model_cd/GRS_SavedModel/GRSModel_none/2009/best_model_epoch_24.pt\n"
     ]
    },
    {
     "name": "stderr",
     "output_type": "stream",
     "text": [
      "\r",
      "0it [00:00, ?it/s]"
     ]
    },
    {
     "name": "stdout",
     "output_type": "stream",
     "text": [
      "../az_model_cd/GRS_SavedModel/GRSOpt_none/2009/best_optimizer_epoch_24.pt\n",
      "Epoch 25 of 200\n"
     ]
    },
    {
     "name": "stderr",
     "output_type": "stream",
     "text": [
      "0it [00:00, ?it/s]\n",
      "100%|██████████| 1/1 [00:00<00:00, 146.09it/s]\n"
     ]
    },
    {
     "name": "stdout",
     "output_type": "stream",
     "text": [
      "Train Loss: nan, Train Acc: nan\n",
      "Val Loss: 0.1214, Val Acc: 0.9595\n",
      "Validation loss decreased (0.121355 --> 0.121355).  Saving model ...\n",
      "../az_model_cd/GRS_SavedModel/GRSModel_none/2009/best_model_epoch_25.pt\n"
     ]
    },
    {
     "name": "stderr",
     "output_type": "stream",
     "text": [
      "\r",
      "0it [00:00, ?it/s]"
     ]
    },
    {
     "name": "stdout",
     "output_type": "stream",
     "text": [
      "../az_model_cd/GRS_SavedModel/GRSOpt_none/2009/best_optimizer_epoch_25.pt\n",
      "Epoch 26 of 200\n"
     ]
    },
    {
     "name": "stderr",
     "output_type": "stream",
     "text": [
      "0it [00:00, ?it/s]\n",
      "100%|██████████| 1/1 [00:00<00:00, 165.80it/s]\n"
     ]
    },
    {
     "name": "stdout",
     "output_type": "stream",
     "text": [
      "Train Loss: nan, Train Acc: nan\n",
      "Val Loss: 0.1214, Val Acc: 0.9595\n",
      "Validation loss decreased (0.121355 --> 0.121355).  Saving model ...\n",
      "../az_model_cd/GRS_SavedModel/GRSModel_none/2009/best_model_epoch_26.pt\n"
     ]
    },
    {
     "name": "stderr",
     "output_type": "stream",
     "text": [
      "\r",
      "0it [00:00, ?it/s]"
     ]
    },
    {
     "name": "stdout",
     "output_type": "stream",
     "text": [
      "../az_model_cd/GRS_SavedModel/GRSOpt_none/2009/best_optimizer_epoch_26.pt\n",
      "Epoch 27 of 200\n"
     ]
    },
    {
     "name": "stderr",
     "output_type": "stream",
     "text": [
      "0it [00:00, ?it/s]\n",
      "100%|██████████| 1/1 [00:00<00:00, 167.04it/s]\n"
     ]
    },
    {
     "name": "stdout",
     "output_type": "stream",
     "text": [
      "Train Loss: nan, Train Acc: nan\n",
      "Val Loss: 0.1214, Val Acc: 0.9595\n",
      "Validation loss decreased (0.121355 --> 0.121355).  Saving model ...\n",
      "../az_model_cd/GRS_SavedModel/GRSModel_none/2009/best_model_epoch_27.pt\n"
     ]
    },
    {
     "name": "stderr",
     "output_type": "stream",
     "text": [
      "\r",
      "0it [00:00, ?it/s]"
     ]
    },
    {
     "name": "stdout",
     "output_type": "stream",
     "text": [
      "../az_model_cd/GRS_SavedModel/GRSOpt_none/2009/best_optimizer_epoch_27.pt\n",
      "Epoch 28 of 200\n"
     ]
    },
    {
     "name": "stderr",
     "output_type": "stream",
     "text": [
      "0it [00:00, ?it/s]\n",
      "100%|██████████| 1/1 [00:00<00:00, 167.98it/s]\n"
     ]
    },
    {
     "name": "stdout",
     "output_type": "stream",
     "text": [
      "Train Loss: nan, Train Acc: nan\n",
      "Val Loss: 0.1214, Val Acc: 0.9595\n",
      "Validation loss decreased (0.121355 --> 0.121355).  Saving model ...\n",
      "../az_model_cd/GRS_SavedModel/GRSModel_none/2009/best_model_epoch_28.pt\n"
     ]
    },
    {
     "name": "stderr",
     "output_type": "stream",
     "text": [
      "\r",
      "0it [00:00, ?it/s]"
     ]
    },
    {
     "name": "stdout",
     "output_type": "stream",
     "text": [
      "../az_model_cd/GRS_SavedModel/GRSOpt_none/2009/best_optimizer_epoch_28.pt\n",
      "Epoch 29 of 200\n"
     ]
    },
    {
     "name": "stderr",
     "output_type": "stream",
     "text": [
      "0it [00:00, ?it/s]\n",
      "100%|██████████| 1/1 [00:00<00:00, 167.30it/s]\n"
     ]
    },
    {
     "name": "stdout",
     "output_type": "stream",
     "text": [
      "Train Loss: nan, Train Acc: nan\n",
      "Val Loss: 0.1214, Val Acc: 0.9595\n",
      "Validation loss decreased (0.121355 --> 0.121355).  Saving model ...\n",
      "../az_model_cd/GRS_SavedModel/GRSModel_none/2009/best_model_epoch_29.pt\n"
     ]
    },
    {
     "name": "stderr",
     "output_type": "stream",
     "text": [
      "\r",
      "0it [00:00, ?it/s]"
     ]
    },
    {
     "name": "stdout",
     "output_type": "stream",
     "text": [
      "../az_model_cd/GRS_SavedModel/GRSOpt_none/2009/best_optimizer_epoch_29.pt\n",
      "Epoch 30 of 200\n"
     ]
    },
    {
     "name": "stderr",
     "output_type": "stream",
     "text": [
      "0it [00:00, ?it/s]\n",
      "100%|██████████| 1/1 [00:00<00:00, 177.15it/s]\n"
     ]
    },
    {
     "name": "stdout",
     "output_type": "stream",
     "text": [
      "Train Loss: nan, Train Acc: nan\n",
      "Val Loss: 0.1214, Val Acc: 0.9595\n",
      "Validation loss decreased (0.121355 --> 0.121355).  Saving model ...\n",
      "../az_model_cd/GRS_SavedModel/GRSModel_none/2009/best_model_epoch_30.pt\n"
     ]
    },
    {
     "name": "stderr",
     "output_type": "stream",
     "text": [
      "\r",
      "0it [00:00, ?it/s]"
     ]
    },
    {
     "name": "stdout",
     "output_type": "stream",
     "text": [
      "../az_model_cd/GRS_SavedModel/GRSOpt_none/2009/best_optimizer_epoch_30.pt\n",
      "Epoch 31 of 200\n"
     ]
    },
    {
     "name": "stderr",
     "output_type": "stream",
     "text": [
      "0it [00:00, ?it/s]\n",
      "100%|██████████| 1/1 [00:00<00:00, 167.64it/s]\n"
     ]
    },
    {
     "name": "stdout",
     "output_type": "stream",
     "text": [
      "Train Loss: nan, Train Acc: nan\n",
      "Val Loss: 0.1214, Val Acc: 0.9595\n",
      "Validation loss decreased (0.121355 --> 0.121355).  Saving model ...\n",
      "../az_model_cd/GRS_SavedModel/GRSModel_none/2009/best_model_epoch_31.pt\n"
     ]
    },
    {
     "name": "stderr",
     "output_type": "stream",
     "text": [
      "\r",
      "0it [00:00, ?it/s]"
     ]
    },
    {
     "name": "stdout",
     "output_type": "stream",
     "text": [
      "../az_model_cd/GRS_SavedModel/GRSOpt_none/2009/best_optimizer_epoch_31.pt\n",
      "Epoch 32 of 200\n"
     ]
    },
    {
     "name": "stderr",
     "output_type": "stream",
     "text": [
      "0it [00:00, ?it/s]\n",
      "100%|██████████| 1/1 [00:00<00:00, 176.29it/s]\n"
     ]
    },
    {
     "name": "stdout",
     "output_type": "stream",
     "text": [
      "Train Loss: nan, Train Acc: nan\n",
      "Val Loss: 0.1214, Val Acc: 0.9595\n",
      "Validation loss decreased (0.121355 --> 0.121355).  Saving model ...\n",
      "../az_model_cd/GRS_SavedModel/GRSModel_none/2009/best_model_epoch_32.pt\n",
      "../az_model_cd/GRS_SavedModel/GRSOpt_none/2009/best_optimizer_epoch_32.pt\n"
     ]
    },
    {
     "name": "stderr",
     "output_type": "stream",
     "text": [
      "\r",
      "0it [00:00, ?it/s]"
     ]
    },
    {
     "name": "stdout",
     "output_type": "stream",
     "text": [
      "Epoch 33 of 200\n"
     ]
    },
    {
     "name": "stderr",
     "output_type": "stream",
     "text": [
      "0it [00:00, ?it/s]\n",
      "100%|██████████| 1/1 [00:00<00:00, 165.11it/s]\n"
     ]
    },
    {
     "name": "stdout",
     "output_type": "stream",
     "text": [
      "Train Loss: nan, Train Acc: nan\n",
      "Val Loss: 0.1214, Val Acc: 0.9595\n",
      "Validation loss decreased (0.121355 --> 0.121355).  Saving model ...\n",
      "../az_model_cd/GRS_SavedModel/GRSModel_none/2009/best_model_epoch_33.pt\n"
     ]
    },
    {
     "name": "stderr",
     "output_type": "stream",
     "text": [
      "\r",
      "0it [00:00, ?it/s]"
     ]
    },
    {
     "name": "stdout",
     "output_type": "stream",
     "text": [
      "../az_model_cd/GRS_SavedModel/GRSOpt_none/2009/best_optimizer_epoch_33.pt\n",
      "Epoch 34 of 200\n"
     ]
    },
    {
     "name": "stderr",
     "output_type": "stream",
     "text": [
      "0it [00:00, ?it/s]\n",
      "100%|██████████| 1/1 [00:00<00:00, 148.33it/s]\n"
     ]
    },
    {
     "name": "stdout",
     "output_type": "stream",
     "text": [
      "Train Loss: nan, Train Acc: nan\n",
      "Val Loss: 0.1214, Val Acc: 0.9595\n",
      "Validation loss decreased (0.121355 --> 0.121355).  Saving model ...\n",
      "../az_model_cd/GRS_SavedModel/GRSModel_none/2009/best_model_epoch_34.pt\n",
      "../az_model_cd/GRS_SavedModel/GRSOpt_none/2009/best_optimizer_epoch_34.pt"
     ]
    },
    {
     "name": "stderr",
     "output_type": "stream",
     "text": [
      "\r",
      "0it [00:00, ?it/s]"
     ]
    },
    {
     "name": "stdout",
     "output_type": "stream",
     "text": [
      "\n",
      "Epoch 35 of 200\n"
     ]
    },
    {
     "name": "stderr",
     "output_type": "stream",
     "text": [
      "0it [00:00, ?it/s]\n",
      "100%|██████████| 1/1 [00:00<00:00, 167.97it/s]\n"
     ]
    },
    {
     "name": "stdout",
     "output_type": "stream",
     "text": [
      "Train Loss: nan, Train Acc: nan\n",
      "Val Loss: 0.1214, Val Acc: 0.9595\n",
      "Validation loss decreased (0.121355 --> 0.121355).  Saving model ...\n",
      "../az_model_cd/GRS_SavedModel/GRSModel_none/2009/best_model_epoch_35.pt\n"
     ]
    },
    {
     "name": "stderr",
     "output_type": "stream",
     "text": [
      "\r",
      "0it [00:00, ?it/s]"
     ]
    },
    {
     "name": "stdout",
     "output_type": "stream",
     "text": [
      "../az_model_cd/GRS_SavedModel/GRSOpt_none/2009/best_optimizer_epoch_35.pt\n",
      "Epoch 36 of 200\n"
     ]
    },
    {
     "name": "stderr",
     "output_type": "stream",
     "text": [
      "0it [00:00, ?it/s]\n",
      "100%|██████████| 1/1 [00:00<00:00, 168.76it/s]\n"
     ]
    },
    {
     "name": "stdout",
     "output_type": "stream",
     "text": [
      "Train Loss: nan, Train Acc: nan\n",
      "Val Loss: 0.1214, Val Acc: 0.9595\n",
      "Validation loss decreased (0.121355 --> 0.121355).  Saving model ...\n",
      "../az_model_cd/GRS_SavedModel/GRSModel_none/2009/best_model_epoch_36.pt\n"
     ]
    },
    {
     "name": "stderr",
     "output_type": "stream",
     "text": [
      "\r",
      "0it [00:00, ?it/s]"
     ]
    },
    {
     "name": "stdout",
     "output_type": "stream",
     "text": [
      "../az_model_cd/GRS_SavedModel/GRSOpt_none/2009/best_optimizer_epoch_36.pt\n",
      "Epoch 37 of 200\n"
     ]
    },
    {
     "name": "stderr",
     "output_type": "stream",
     "text": [
      "0it [00:00, ?it/s]\n",
      "100%|██████████| 1/1 [00:00<00:00, 168.41it/s]\n"
     ]
    },
    {
     "name": "stdout",
     "output_type": "stream",
     "text": [
      "Train Loss: nan, Train Acc: nan\n",
      "Val Loss: 0.1214, Val Acc: 0.9595\n",
      "Validation loss decreased (0.121355 --> 0.121355).  Saving model ...\n",
      "../az_model_cd/GRS_SavedModel/GRSModel_none/2009/best_model_epoch_37.pt\n"
     ]
    },
    {
     "name": "stderr",
     "output_type": "stream",
     "text": [
      "\r",
      "0it [00:00, ?it/s]"
     ]
    },
    {
     "name": "stdout",
     "output_type": "stream",
     "text": [
      "../az_model_cd/GRS_SavedModel/GRSOpt_none/2009/best_optimizer_epoch_37.pt\n",
      "Epoch 38 of 200\n"
     ]
    },
    {
     "name": "stderr",
     "output_type": "stream",
     "text": [
      "0it [00:00, ?it/s]\n",
      "100%|██████████| 1/1 [00:00<00:00, 188.54it/s]\n"
     ]
    },
    {
     "name": "stdout",
     "output_type": "stream",
     "text": [
      "Train Loss: nan, Train Acc: nan\n",
      "Val Loss: 0.1214, Val Acc: 0.9595\n",
      "Validation loss decreased (0.121355 --> 0.121355).  Saving model ...\n",
      "../az_model_cd/GRS_SavedModel/GRSModel_none/2009/best_model_epoch_38.pt\n"
     ]
    },
    {
     "name": "stderr",
     "output_type": "stream",
     "text": [
      "\r",
      "0it [00:00, ?it/s]"
     ]
    },
    {
     "name": "stdout",
     "output_type": "stream",
     "text": [
      "../az_model_cd/GRS_SavedModel/GRSOpt_none/2009/best_optimizer_epoch_38.pt\n",
      "Epoch 39 of 200\n"
     ]
    },
    {
     "name": "stderr",
     "output_type": "stream",
     "text": [
      "0it [00:00, ?it/s]\n",
      "100%|██████████| 1/1 [00:00<00:00, 167.39it/s]\n"
     ]
    },
    {
     "name": "stdout",
     "output_type": "stream",
     "text": [
      "Train Loss: nan, Train Acc: nan\n",
      "Val Loss: 0.1214, Val Acc: 0.9595\n",
      "Validation loss decreased (0.121355 --> 0.121355).  Saving model ...\n",
      "../az_model_cd/GRS_SavedModel/GRSModel_none/2009/best_model_epoch_39.pt\n"
     ]
    },
    {
     "name": "stderr",
     "output_type": "stream",
     "text": [
      "\r",
      "0it [00:00, ?it/s]"
     ]
    },
    {
     "name": "stdout",
     "output_type": "stream",
     "text": [
      "../az_model_cd/GRS_SavedModel/GRSOpt_none/2009/best_optimizer_epoch_39.pt\n",
      "Epoch 40 of 200\n"
     ]
    },
    {
     "name": "stderr",
     "output_type": "stream",
     "text": [
      "0it [00:00, ?it/s]\n",
      "100%|██████████| 1/1 [00:00<00:00, 174.35it/s]\n"
     ]
    },
    {
     "name": "stdout",
     "output_type": "stream",
     "text": [
      "Train Loss: nan, Train Acc: nan\n",
      "Val Loss: 0.1214, Val Acc: 0.9595\n",
      "Validation loss decreased (0.121355 --> 0.121355).  Saving model ...\n",
      "../az_model_cd/GRS_SavedModel/GRSModel_none/2009/best_model_epoch_40.pt\n"
     ]
    },
    {
     "name": "stderr",
     "output_type": "stream",
     "text": [
      "\r",
      "0it [00:00, ?it/s]"
     ]
    },
    {
     "name": "stdout",
     "output_type": "stream",
     "text": [
      "../az_model_cd/GRS_SavedModel/GRSOpt_none/2009/best_optimizer_epoch_40.pt\n",
      "Epoch 41 of 200\n"
     ]
    },
    {
     "name": "stderr",
     "output_type": "stream",
     "text": [
      "0it [00:00, ?it/s]\n",
      "100%|██████████| 1/1 [00:00<00:00, 160.38it/s]\n"
     ]
    },
    {
     "name": "stdout",
     "output_type": "stream",
     "text": [
      "Train Loss: nan, Train Acc: nan\n",
      "Val Loss: 0.1214, Val Acc: 0.9595\n",
      "Validation loss decreased (0.121355 --> 0.121355).  Saving model ...\n",
      "../az_model_cd/GRS_SavedModel/GRSModel_none/2009/best_model_epoch_41.pt\n"
     ]
    },
    {
     "name": "stderr",
     "output_type": "stream",
     "text": [
      "\r",
      "0it [00:00, ?it/s]"
     ]
    },
    {
     "name": "stdout",
     "output_type": "stream",
     "text": [
      "../az_model_cd/GRS_SavedModel/GRSOpt_none/2009/best_optimizer_epoch_41.pt\n",
      "Epoch 42 of 200\n"
     ]
    },
    {
     "name": "stderr",
     "output_type": "stream",
     "text": [
      "0it [00:00, ?it/s]\n",
      "100%|██████████| 1/1 [00:00<00:00, 176.64it/s]\n"
     ]
    },
    {
     "name": "stdout",
     "output_type": "stream",
     "text": [
      "Train Loss: nan, Train Acc: nan\n",
      "Val Loss: 0.1214, Val Acc: 0.9595\n",
      "Validation loss decreased (0.121355 --> 0.121355).  Saving model ...\n",
      "../az_model_cd/GRS_SavedModel/GRSModel_none/2009/best_model_epoch_42.pt\n"
     ]
    },
    {
     "name": "stderr",
     "output_type": "stream",
     "text": [
      "\r",
      "0it [00:00, ?it/s]"
     ]
    },
    {
     "name": "stdout",
     "output_type": "stream",
     "text": [
      "../az_model_cd/GRS_SavedModel/GRSOpt_none/2009/best_optimizer_epoch_42.pt\n",
      "Epoch 43 of 200\n"
     ]
    },
    {
     "name": "stderr",
     "output_type": "stream",
     "text": [
      "0it [00:00, ?it/s]\n",
      "100%|██████████| 1/1 [00:00<00:00, 176.69it/s]\n"
     ]
    },
    {
     "name": "stdout",
     "output_type": "stream",
     "text": [
      "Train Loss: nan, Train Acc: nan\n",
      "Val Loss: 0.1214, Val Acc: 0.9595\n",
      "Validation loss decreased (0.121355 --> 0.121355).  Saving model ...\n",
      "../az_model_cd/GRS_SavedModel/GRSModel_none/2009/best_model_epoch_43.pt\n"
     ]
    },
    {
     "name": "stderr",
     "output_type": "stream",
     "text": [
      "\r",
      "0it [00:00, ?it/s]"
     ]
    },
    {
     "name": "stdout",
     "output_type": "stream",
     "text": [
      "../az_model_cd/GRS_SavedModel/GRSOpt_none/2009/best_optimizer_epoch_43.pt\n",
      "Epoch 44 of 200\n"
     ]
    },
    {
     "name": "stderr",
     "output_type": "stream",
     "text": [
      "0it [00:00, ?it/s]\n",
      "100%|██████████| 1/1 [00:00<00:00, 166.99it/s]\n"
     ]
    },
    {
     "name": "stdout",
     "output_type": "stream",
     "text": [
      "Train Loss: nan, Train Acc: nan\n",
      "Val Loss: 0.1214, Val Acc: 0.9595\n",
      "Validation loss decreased (0.121355 --> 0.121355).  Saving model ...\n",
      "../az_model_cd/GRS_SavedModel/GRSModel_none/2009/best_model_epoch_44.pt\n",
      "../az_model_cd/GRS_SavedModel/GRSOpt_none/2009/best_optimizer_epoch_44.pt\n"
     ]
    },
    {
     "name": "stderr",
     "output_type": "stream",
     "text": [
      "\r",
      "0it [00:00, ?it/s]"
     ]
    },
    {
     "name": "stdout",
     "output_type": "stream",
     "text": [
      "Epoch 45 of 200\n"
     ]
    },
    {
     "name": "stderr",
     "output_type": "stream",
     "text": [
      "0it [00:00, ?it/s]\n",
      "100%|██████████| 1/1 [00:00<00:00, 159.49it/s]\n"
     ]
    },
    {
     "name": "stdout",
     "output_type": "stream",
     "text": [
      "Train Loss: nan, Train Acc: nan\n",
      "Val Loss: 0.1214, Val Acc: 0.9595\n",
      "Validation loss decreased (0.121355 --> 0.121355).  Saving model ...\n",
      "../az_model_cd/GRS_SavedModel/GRSModel_none/2009/best_model_epoch_45.pt\n"
     ]
    },
    {
     "name": "stderr",
     "output_type": "stream",
     "text": [
      "\r",
      "0it [00:00, ?it/s]"
     ]
    },
    {
     "name": "stdout",
     "output_type": "stream",
     "text": [
      "../az_model_cd/GRS_SavedModel/GRSOpt_none/2009/best_optimizer_epoch_45.pt\n",
      "Epoch 46 of 200\n"
     ]
    },
    {
     "name": "stderr",
     "output_type": "stream",
     "text": [
      "0it [00:00, ?it/s]\n",
      "100%|██████████| 1/1 [00:00<00:00, 154.89it/s]\n"
     ]
    },
    {
     "name": "stdout",
     "output_type": "stream",
     "text": [
      "Train Loss: nan, Train Acc: nan\n",
      "Val Loss: 0.1214, Val Acc: 0.9595\n",
      "Validation loss decreased (0.121355 --> 0.121355).  Saving model ...\n",
      "../az_model_cd/GRS_SavedModel/GRSModel_none/2009/best_model_epoch_46.pt\n"
     ]
    },
    {
     "name": "stderr",
     "output_type": "stream",
     "text": [
      "\r",
      "0it [00:00, ?it/s]"
     ]
    },
    {
     "name": "stdout",
     "output_type": "stream",
     "text": [
      "../az_model_cd/GRS_SavedModel/GRSOpt_none/2009/best_optimizer_epoch_46.pt\n",
      "Epoch 47 of 200\n"
     ]
    },
    {
     "name": "stderr",
     "output_type": "stream",
     "text": [
      "0it [00:00, ?it/s]\n",
      "100%|██████████| 1/1 [00:00<00:00, 168.22it/s]\n"
     ]
    },
    {
     "name": "stdout",
     "output_type": "stream",
     "text": [
      "Train Loss: nan, Train Acc: nan\n",
      "Val Loss: 0.1214, Val Acc: 0.9595\n",
      "Validation loss decreased (0.121355 --> 0.121355).  Saving model ...\n",
      "../az_model_cd/GRS_SavedModel/GRSModel_none/2009/best_model_epoch_47.pt\n"
     ]
    },
    {
     "name": "stderr",
     "output_type": "stream",
     "text": [
      "\r",
      "0it [00:00, ?it/s]"
     ]
    },
    {
     "name": "stdout",
     "output_type": "stream",
     "text": [
      "../az_model_cd/GRS_SavedModel/GRSOpt_none/2009/best_optimizer_epoch_47.pt\n",
      "Epoch 48 of 200\n"
     ]
    },
    {
     "name": "stderr",
     "output_type": "stream",
     "text": [
      "0it [00:00, ?it/s]\n",
      "100%|██████████| 1/1 [00:00<00:00, 164.56it/s]\n"
     ]
    },
    {
     "name": "stdout",
     "output_type": "stream",
     "text": [
      "Train Loss: nan, Train Acc: nan\n",
      "Val Loss: 0.1214, Val Acc: 0.9595\n",
      "Validation loss decreased (0.121355 --> 0.121355).  Saving model ...\n",
      "../az_model_cd/GRS_SavedModel/GRSModel_none/2009/best_model_epoch_48.pt\n"
     ]
    },
    {
     "name": "stderr",
     "output_type": "stream",
     "text": [
      "\r",
      "0it [00:00, ?it/s]"
     ]
    },
    {
     "name": "stdout",
     "output_type": "stream",
     "text": [
      "../az_model_cd/GRS_SavedModel/GRSOpt_none/2009/best_optimizer_epoch_48.pt\n",
      "Epoch 49 of 200\n"
     ]
    },
    {
     "name": "stderr",
     "output_type": "stream",
     "text": [
      "0it [00:00, ?it/s]\n",
      "100%|██████████| 1/1 [00:00<00:00, 155.40it/s]\n"
     ]
    },
    {
     "name": "stdout",
     "output_type": "stream",
     "text": [
      "Train Loss: nan, Train Acc: nan\n",
      "Val Loss: 0.1214, Val Acc: 0.9595\n",
      "Validation loss decreased (0.121355 --> 0.121355).  Saving model ...\n",
      "../az_model_cd/GRS_SavedModel/GRSModel_none/2009/best_model_epoch_49.pt\n"
     ]
    },
    {
     "name": "stderr",
     "output_type": "stream",
     "text": [
      "\r",
      "0it [00:00, ?it/s]"
     ]
    },
    {
     "name": "stdout",
     "output_type": "stream",
     "text": [
      "../az_model_cd/GRS_SavedModel/GRSOpt_none/2009/best_optimizer_epoch_49.pt\n",
      "Epoch 50 of 200\n"
     ]
    },
    {
     "name": "stderr",
     "output_type": "stream",
     "text": [
      "0it [00:00, ?it/s]\n",
      "100%|██████████| 1/1 [00:00<00:00, 155.13it/s]\n"
     ]
    },
    {
     "name": "stdout",
     "output_type": "stream",
     "text": [
      "Train Loss: nan, Train Acc: nan\n",
      "Val Loss: 0.1214, Val Acc: 0.9595\n",
      "Validation loss decreased (0.121355 --> 0.121355).  Saving model ...\n",
      "../az_model_cd/GRS_SavedModel/GRSModel_none/2009/best_model_epoch_50.pt\n"
     ]
    },
    {
     "name": "stderr",
     "output_type": "stream",
     "text": [
      "\r",
      "0it [00:00, ?it/s]"
     ]
    },
    {
     "name": "stdout",
     "output_type": "stream",
     "text": [
      "../az_model_cd/GRS_SavedModel/GRSOpt_none/2009/best_optimizer_epoch_50.pt\n",
      "Epoch 51 of 200\n"
     ]
    },
    {
     "name": "stderr",
     "output_type": "stream",
     "text": [
      "0it [00:00, ?it/s]\n",
      "100%|██████████| 1/1 [00:00<00:00, 166.78it/s]\n"
     ]
    },
    {
     "name": "stdout",
     "output_type": "stream",
     "text": [
      "Train Loss: nan, Train Acc: nan\n",
      "Val Loss: 0.1214, Val Acc: 0.9595\n",
      "Validation loss decreased (0.121355 --> 0.121355).  Saving model ...\n",
      "../az_model_cd/GRS_SavedModel/GRSModel_none/2009/best_model_epoch_51.pt\n"
     ]
    },
    {
     "name": "stderr",
     "output_type": "stream",
     "text": [
      "\r",
      "0it [00:00, ?it/s]"
     ]
    },
    {
     "name": "stdout",
     "output_type": "stream",
     "text": [
      "../az_model_cd/GRS_SavedModel/GRSOpt_none/2009/best_optimizer_epoch_51.pt\n",
      "Epoch 52 of 200\n"
     ]
    },
    {
     "name": "stderr",
     "output_type": "stream",
     "text": [
      "0it [00:00, ?it/s]\n",
      "100%|██████████| 1/1 [00:00<00:00, 165.77it/s]\n"
     ]
    },
    {
     "name": "stdout",
     "output_type": "stream",
     "text": [
      "Train Loss: nan, Train Acc: nan\n",
      "Val Loss: 0.1214, Val Acc: 0.9595\n",
      "Validation loss decreased (0.121355 --> 0.121355).  Saving model ...\n",
      "../az_model_cd/GRS_SavedModel/GRSModel_none/2009/best_model_epoch_52.pt\n",
      "../az_model_cd/GRS_SavedModel/GRSOpt_none/2009/best_optimizer_epoch_52.pt"
     ]
    },
    {
     "name": "stderr",
     "output_type": "stream",
     "text": [
      "\r",
      "0it [00:00, ?it/s]"
     ]
    },
    {
     "name": "stdout",
     "output_type": "stream",
     "text": [
      "\n",
      "Epoch 53 of 200\n"
     ]
    },
    {
     "name": "stderr",
     "output_type": "stream",
     "text": [
      "0it [00:00, ?it/s]\n",
      "100%|██████████| 1/1 [00:00<00:00, 165.05it/s]\n"
     ]
    },
    {
     "name": "stdout",
     "output_type": "stream",
     "text": [
      "Train Loss: nan, Train Acc: nan\n",
      "Val Loss: 0.1214, Val Acc: 0.9595\n",
      "Validation loss decreased (0.121355 --> 0.121355).  Saving model ...\n",
      "../az_model_cd/GRS_SavedModel/GRSModel_none/2009/best_model_epoch_53.pt\n"
     ]
    },
    {
     "name": "stderr",
     "output_type": "stream",
     "text": [
      "\r",
      "0it [00:00, ?it/s]"
     ]
    },
    {
     "name": "stdout",
     "output_type": "stream",
     "text": [
      "../az_model_cd/GRS_SavedModel/GRSOpt_none/2009/best_optimizer_epoch_53.pt\n",
      "Epoch 54 of 200\n"
     ]
    },
    {
     "name": "stderr",
     "output_type": "stream",
     "text": [
      "0it [00:00, ?it/s]\n",
      "100%|██████████| 1/1 [00:00<00:00, 176.06it/s]\n"
     ]
    },
    {
     "name": "stdout",
     "output_type": "stream",
     "text": [
      "Train Loss: nan, Train Acc: nan\n",
      "Val Loss: 0.1214, Val Acc: 0.9595\n",
      "Validation loss decreased (0.121355 --> 0.121355).  Saving model ...\n",
      "../az_model_cd/GRS_SavedModel/GRSModel_none/2009/best_model_epoch_54.pt\n",
      "../az_model_cd/GRS_SavedModel/GRSOpt_none/2009/best_optimizer_epoch_54.pt\n"
     ]
    },
    {
     "name": "stderr",
     "output_type": "stream",
     "text": [
      "\r",
      "0it [00:00, ?it/s]"
     ]
    },
    {
     "name": "stdout",
     "output_type": "stream",
     "text": [
      "Epoch 55 of 200\n"
     ]
    },
    {
     "name": "stderr",
     "output_type": "stream",
     "text": [
      "0it [00:00, ?it/s]\n",
      "100%|██████████| 1/1 [00:00<00:00, 173.09it/s]\n"
     ]
    },
    {
     "name": "stdout",
     "output_type": "stream",
     "text": [
      "Train Loss: nan, Train Acc: nan\n",
      "Val Loss: 0.1214, Val Acc: 0.9595\n",
      "Validation loss decreased (0.121355 --> 0.121355).  Saving model ...\n",
      "../az_model_cd/GRS_SavedModel/GRSModel_none/2009/best_model_epoch_55.pt\n"
     ]
    },
    {
     "name": "stderr",
     "output_type": "stream",
     "text": [
      "\r",
      "0it [00:00, ?it/s]"
     ]
    },
    {
     "name": "stdout",
     "output_type": "stream",
     "text": [
      "../az_model_cd/GRS_SavedModel/GRSOpt_none/2009/best_optimizer_epoch_55.pt\n",
      "Epoch 56 of 200\n"
     ]
    },
    {
     "name": "stderr",
     "output_type": "stream",
     "text": [
      "0it [00:00, ?it/s]\n",
      "100%|██████████| 1/1 [00:00<00:00, 177.21it/s]\n"
     ]
    },
    {
     "name": "stdout",
     "output_type": "stream",
     "text": [
      "Train Loss: nan, Train Acc: nan\n",
      "Val Loss: 0.1214, Val Acc: 0.9595\n",
      "Validation loss decreased (0.121355 --> 0.121355).  Saving model ...\n",
      "../az_model_cd/GRS_SavedModel/GRSModel_none/2009/best_model_epoch_56.pt\n"
     ]
    },
    {
     "name": "stderr",
     "output_type": "stream",
     "text": [
      "\r",
      "0it [00:00, ?it/s]"
     ]
    },
    {
     "name": "stdout",
     "output_type": "stream",
     "text": [
      "../az_model_cd/GRS_SavedModel/GRSOpt_none/2009/best_optimizer_epoch_56.pt\n",
      "Epoch 57 of 200\n"
     ]
    },
    {
     "name": "stderr",
     "output_type": "stream",
     "text": [
      "0it [00:00, ?it/s]\n",
      "100%|██████████| 1/1 [00:00<00:00, 156.84it/s]\n"
     ]
    },
    {
     "name": "stdout",
     "output_type": "stream",
     "text": [
      "Train Loss: nan, Train Acc: nan\n",
      "Val Loss: 0.1214, Val Acc: 0.9595\n",
      "Validation loss decreased (0.121355 --> 0.121355).  Saving model ...\n",
      "../az_model_cd/GRS_SavedModel/GRSModel_none/2009/best_model_epoch_57.pt\n"
     ]
    },
    {
     "name": "stderr",
     "output_type": "stream",
     "text": [
      "\r",
      "0it [00:00, ?it/s]"
     ]
    },
    {
     "name": "stdout",
     "output_type": "stream",
     "text": [
      "../az_model_cd/GRS_SavedModel/GRSOpt_none/2009/best_optimizer_epoch_57.pt\n",
      "Epoch 58 of 200\n"
     ]
    },
    {
     "name": "stderr",
     "output_type": "stream",
     "text": [
      "0it [00:00, ?it/s]\n",
      "100%|██████████| 1/1 [00:00<00:00, 166.82it/s]\n"
     ]
    },
    {
     "name": "stdout",
     "output_type": "stream",
     "text": [
      "Train Loss: nan, Train Acc: nan\n",
      "Val Loss: 0.1214, Val Acc: 0.9595\n",
      "Validation loss decreased (0.121355 --> 0.121355).  Saving model ...\n",
      "../az_model_cd/GRS_SavedModel/GRSModel_none/2009/best_model_epoch_58.pt\n",
      "../az_model_cd/GRS_SavedModel/GRSOpt_none/2009/best_optimizer_epoch_58.pt\n"
     ]
    },
    {
     "name": "stderr",
     "output_type": "stream",
     "text": [
      "\r",
      "0it [00:00, ?it/s]"
     ]
    },
    {
     "name": "stdout",
     "output_type": "stream",
     "text": [
      "Epoch 59 of 200\n"
     ]
    },
    {
     "name": "stderr",
     "output_type": "stream",
     "text": [
      "0it [00:00, ?it/s]\n",
      "100%|██████████| 1/1 [00:00<00:00, 172.53it/s]"
     ]
    },
    {
     "name": "stdout",
     "output_type": "stream",
     "text": [
      "Train Loss: nan, Train Acc: nan\n",
      "Val Loss: 0.1214, Val Acc: 0.9595\n",
      "Validation loss decreased (0.121355 --> 0.121355).  Saving model ...\n",
      "../az_model_cd/GRS_SavedModel/GRSModel_none/2009/best_model_epoch_59.pt\n",
      "../az_model_cd/GRS_SavedModel/GRSOpt_none/2009/best_optimizer_epoch_59.pt\n"
     ]
    },
    {
     "name": "stderr",
     "output_type": "stream",
     "text": [
      "\n",
      "\r",
      "0it [00:00, ?it/s]"
     ]
    },
    {
     "name": "stdout",
     "output_type": "stream",
     "text": [
      "Epoch 60 of 200\n"
     ]
    },
    {
     "name": "stderr",
     "output_type": "stream",
     "text": [
      "0it [00:00, ?it/s]\n",
      "100%|██████████| 1/1 [00:00<00:00, 166.20it/s]\n"
     ]
    },
    {
     "name": "stdout",
     "output_type": "stream",
     "text": [
      "Train Loss: nan, Train Acc: nan\n",
      "Val Loss: 0.1214, Val Acc: 0.9595\n",
      "Validation loss decreased (0.121355 --> 0.121355).  Saving model ...\n",
      "../az_model_cd/GRS_SavedModel/GRSModel_none/2009/best_model_epoch_60.pt\n"
     ]
    },
    {
     "name": "stderr",
     "output_type": "stream",
     "text": [
      "\r",
      "0it [00:00, ?it/s]"
     ]
    },
    {
     "name": "stdout",
     "output_type": "stream",
     "text": [
      "../az_model_cd/GRS_SavedModel/GRSOpt_none/2009/best_optimizer_epoch_60.pt\n",
      "Epoch 61 of 200\n"
     ]
    },
    {
     "name": "stderr",
     "output_type": "stream",
     "text": [
      "0it [00:00, ?it/s]\n",
      "100%|██████████| 1/1 [00:00<00:00, 168.55it/s]\n"
     ]
    },
    {
     "name": "stdout",
     "output_type": "stream",
     "text": [
      "Train Loss: nan, Train Acc: nan\n",
      "Val Loss: 0.1214, Val Acc: 0.9595\n",
      "Validation loss decreased (0.121355 --> 0.121355).  Saving model ...\n",
      "../az_model_cd/GRS_SavedModel/GRSModel_none/2009/best_model_epoch_61.pt\n"
     ]
    },
    {
     "name": "stderr",
     "output_type": "stream",
     "text": [
      "\r",
      "0it [00:00, ?it/s]"
     ]
    },
    {
     "name": "stdout",
     "output_type": "stream",
     "text": [
      "../az_model_cd/GRS_SavedModel/GRSOpt_none/2009/best_optimizer_epoch_61.pt\n",
      "Epoch 62 of 200\n"
     ]
    },
    {
     "name": "stderr",
     "output_type": "stream",
     "text": [
      "0it [00:00, ?it/s]\n",
      "100%|██████████| 1/1 [00:00<00:00, 168.00it/s]\n"
     ]
    },
    {
     "name": "stdout",
     "output_type": "stream",
     "text": [
      "Train Loss: nan, Train Acc: nan\n",
      "Val Loss: 0.1214, Val Acc: 0.9595\n",
      "Validation loss decreased (0.121355 --> 0.121355).  Saving model ...\n",
      "../az_model_cd/GRS_SavedModel/GRSModel_none/2009/best_model_epoch_62.pt\n",
      "../az_model_cd/GRS_SavedModel/GRSOpt_none/2009/best_optimizer_epoch_62.pt\n"
     ]
    },
    {
     "name": "stderr",
     "output_type": "stream",
     "text": [
      "\r",
      "0it [00:00, ?it/s]"
     ]
    },
    {
     "name": "stdout",
     "output_type": "stream",
     "text": [
      "Epoch 63 of 200\n"
     ]
    },
    {
     "name": "stderr",
     "output_type": "stream",
     "text": [
      "0it [00:00, ?it/s]\n",
      "100%|██████████| 1/1 [00:00<00:00, 172.69it/s]\n"
     ]
    },
    {
     "name": "stdout",
     "output_type": "stream",
     "text": [
      "Train Loss: nan, Train Acc: nan\n",
      "Val Loss: 0.1214, Val Acc: 0.9595\n",
      "Validation loss decreased (0.121355 --> 0.121355).  Saving model ...\n",
      "../az_model_cd/GRS_SavedModel/GRSModel_none/2009/best_model_epoch_63.pt\n"
     ]
    },
    {
     "name": "stderr",
     "output_type": "stream",
     "text": [
      "\r",
      "0it [00:00, ?it/s]"
     ]
    },
    {
     "name": "stdout",
     "output_type": "stream",
     "text": [
      "../az_model_cd/GRS_SavedModel/GRSOpt_none/2009/best_optimizer_epoch_63.pt\n",
      "Epoch 64 of 200\n"
     ]
    },
    {
     "name": "stderr",
     "output_type": "stream",
     "text": [
      "0it [00:00, ?it/s]\n",
      "100%|██████████| 1/1 [00:00<00:00, 145.32it/s]\n"
     ]
    },
    {
     "name": "stdout",
     "output_type": "stream",
     "text": [
      "Train Loss: nan, Train Acc: nan\n",
      "Val Loss: 0.1214, Val Acc: 0.9595\n",
      "Validation loss decreased (0.121355 --> 0.121355).  Saving model ...\n",
      "../az_model_cd/GRS_SavedModel/GRSModel_none/2009/best_model_epoch_64.pt\n"
     ]
    },
    {
     "name": "stderr",
     "output_type": "stream",
     "text": [
      "\r",
      "0it [00:00, ?it/s]"
     ]
    },
    {
     "name": "stdout",
     "output_type": "stream",
     "text": [
      "../az_model_cd/GRS_SavedModel/GRSOpt_none/2009/best_optimizer_epoch_64.pt\n",
      "Epoch 65 of 200\n"
     ]
    },
    {
     "name": "stderr",
     "output_type": "stream",
     "text": [
      "0it [00:00, ?it/s]\n",
      "100%|██████████| 1/1 [00:00<00:00, 139.21it/s]\n"
     ]
    },
    {
     "name": "stdout",
     "output_type": "stream",
     "text": [
      "Train Loss: nan, Train Acc: nan\n",
      "Val Loss: 0.1214, Val Acc: 0.9595\n",
      "Validation loss decreased (0.121355 --> 0.121355).  Saving model ...\n",
      "../az_model_cd/GRS_SavedModel/GRSModel_none/2009/best_model_epoch_65.pt\n"
     ]
    },
    {
     "name": "stderr",
     "output_type": "stream",
     "text": [
      "\r",
      "0it [00:00, ?it/s]"
     ]
    },
    {
     "name": "stdout",
     "output_type": "stream",
     "text": [
      "../az_model_cd/GRS_SavedModel/GRSOpt_none/2009/best_optimizer_epoch_65.pt\n",
      "Epoch 66 of 200\n"
     ]
    },
    {
     "name": "stderr",
     "output_type": "stream",
     "text": [
      "0it [00:00, ?it/s]\n",
      "100%|██████████| 1/1 [00:00<00:00, 122.57it/s]\n"
     ]
    },
    {
     "name": "stdout",
     "output_type": "stream",
     "text": [
      "Train Loss: nan, Train Acc: nan\n",
      "Val Loss: 0.1214, Val Acc: 0.9595\n",
      "Validation loss decreased (0.121355 --> 0.121355).  Saving model ...\n",
      "../az_model_cd/GRS_SavedModel/GRSModel_none/2009/best_model_epoch_66.pt\n"
     ]
    },
    {
     "name": "stderr",
     "output_type": "stream",
     "text": [
      "\r",
      "0it [00:00, ?it/s]"
     ]
    },
    {
     "name": "stdout",
     "output_type": "stream",
     "text": [
      "../az_model_cd/GRS_SavedModel/GRSOpt_none/2009/best_optimizer_epoch_66.pt\n",
      "Epoch 67 of 200\n"
     ]
    },
    {
     "name": "stderr",
     "output_type": "stream",
     "text": [
      "0it [00:00, ?it/s]\n",
      "100%|██████████| 1/1 [00:00<00:00, 153.10it/s]\n"
     ]
    },
    {
     "name": "stdout",
     "output_type": "stream",
     "text": [
      "Train Loss: nan, Train Acc: nan\n",
      "Val Loss: 0.1214, Val Acc: 0.9595\n",
      "Validation loss decreased (0.121355 --> 0.121355).  Saving model ...\n",
      "../az_model_cd/GRS_SavedModel/GRSModel_none/2009/best_model_epoch_67.pt\n"
     ]
    },
    {
     "name": "stderr",
     "output_type": "stream",
     "text": [
      "\r",
      "0it [00:00, ?it/s]"
     ]
    },
    {
     "name": "stdout",
     "output_type": "stream",
     "text": [
      "../az_model_cd/GRS_SavedModel/GRSOpt_none/2009/best_optimizer_epoch_67.pt\n",
      "Epoch 68 of 200\n"
     ]
    },
    {
     "name": "stderr",
     "output_type": "stream",
     "text": [
      "0it [00:00, ?it/s]\n",
      "100%|██████████| 1/1 [00:00<00:00, 152.66it/s]\n"
     ]
    },
    {
     "name": "stdout",
     "output_type": "stream",
     "text": [
      "Train Loss: nan, Train Acc: nan\n",
      "Val Loss: 0.1214, Val Acc: 0.9595\n",
      "Validation loss decreased (0.121355 --> 0.121355).  Saving model ...\n",
      "../az_model_cd/GRS_SavedModel/GRSModel_none/2009/best_model_epoch_68.pt\n",
      "../az_model_cd/GRS_SavedModel/GRSOpt_none/2009/best_optimizer_epoch_68.pt\n"
     ]
    },
    {
     "name": "stderr",
     "output_type": "stream",
     "text": [
      "\r",
      "0it [00:00, ?it/s]"
     ]
    },
    {
     "name": "stdout",
     "output_type": "stream",
     "text": [
      "Epoch 69 of 200\n"
     ]
    },
    {
     "name": "stderr",
     "output_type": "stream",
     "text": [
      "0it [00:00, ?it/s]\n",
      "100%|██████████| 1/1 [00:00<00:00, 145.67it/s]\n"
     ]
    },
    {
     "name": "stdout",
     "output_type": "stream",
     "text": [
      "Train Loss: nan, Train Acc: nan\n",
      "Val Loss: 0.1214, Val Acc: 0.9595\n",
      "Validation loss decreased (0.121355 --> 0.121355).  Saving model ...\n",
      "../az_model_cd/GRS_SavedModel/GRSModel_none/2009/best_model_epoch_69.pt\n"
     ]
    },
    {
     "name": "stderr",
     "output_type": "stream",
     "text": [
      "\r",
      "0it [00:00, ?it/s]"
     ]
    },
    {
     "name": "stdout",
     "output_type": "stream",
     "text": [
      "../az_model_cd/GRS_SavedModel/GRSOpt_none/2009/best_optimizer_epoch_69.pt\n",
      "Epoch 70 of 200\n"
     ]
    },
    {
     "name": "stderr",
     "output_type": "stream",
     "text": [
      "0it [00:00, ?it/s]\n",
      "100%|██████████| 1/1 [00:00<00:00, 147.27it/s]\n"
     ]
    },
    {
     "name": "stdout",
     "output_type": "stream",
     "text": [
      "Train Loss: nan, Train Acc: nan\n",
      "Val Loss: 0.1214, Val Acc: 0.9595\n",
      "Validation loss decreased (0.121355 --> 0.121355).  Saving model ...\n",
      "../az_model_cd/GRS_SavedModel/GRSModel_none/2009/best_model_epoch_70.pt\n"
     ]
    },
    {
     "name": "stderr",
     "output_type": "stream",
     "text": [
      "\r",
      "0it [00:00, ?it/s]"
     ]
    },
    {
     "name": "stdout",
     "output_type": "stream",
     "text": [
      "../az_model_cd/GRS_SavedModel/GRSOpt_none/2009/best_optimizer_epoch_70.pt\n",
      "Epoch 71 of 200\n"
     ]
    },
    {
     "name": "stderr",
     "output_type": "stream",
     "text": [
      "0it [00:00, ?it/s]\n",
      "100%|██████████| 1/1 [00:00<00:00, 141.94it/s]\n"
     ]
    },
    {
     "name": "stdout",
     "output_type": "stream",
     "text": [
      "Train Loss: nan, Train Acc: nan\n",
      "Val Loss: 0.1214, Val Acc: 0.9595\n",
      "Validation loss decreased (0.121355 --> 0.121355).  Saving model ...\n",
      "../az_model_cd/GRS_SavedModel/GRSModel_none/2009/best_model_epoch_71.pt\n"
     ]
    },
    {
     "name": "stderr",
     "output_type": "stream",
     "text": [
      "\r",
      "0it [00:00, ?it/s]"
     ]
    },
    {
     "name": "stdout",
     "output_type": "stream",
     "text": [
      "../az_model_cd/GRS_SavedModel/GRSOpt_none/2009/best_optimizer_epoch_71.pt\n",
      "Epoch 72 of 200\n"
     ]
    },
    {
     "name": "stderr",
     "output_type": "stream",
     "text": [
      "0it [00:00, ?it/s]\n",
      "100%|██████████| 1/1 [00:00<00:00, 169.76it/s]\n"
     ]
    },
    {
     "name": "stdout",
     "output_type": "stream",
     "text": [
      "Train Loss: nan, Train Acc: nan\n",
      "Val Loss: 0.1214, Val Acc: 0.9595\n",
      "Validation loss decreased (0.121355 --> 0.121355).  Saving model ...\n",
      "../az_model_cd/GRS_SavedModel/GRSModel_none/2009/best_model_epoch_72.pt\n"
     ]
    },
    {
     "name": "stderr",
     "output_type": "stream",
     "text": [
      "\r",
      "0it [00:00, ?it/s]"
     ]
    },
    {
     "name": "stdout",
     "output_type": "stream",
     "text": [
      "../az_model_cd/GRS_SavedModel/GRSOpt_none/2009/best_optimizer_epoch_72.pt\n",
      "Epoch 73 of 200\n"
     ]
    },
    {
     "name": "stderr",
     "output_type": "stream",
     "text": [
      "0it [00:00, ?it/s]\n",
      "100%|██████████| 1/1 [00:00<00:00, 161.05it/s]\n"
     ]
    },
    {
     "name": "stdout",
     "output_type": "stream",
     "text": [
      "Train Loss: nan, Train Acc: nan\n",
      "Val Loss: 0.1214, Val Acc: 0.9595\n",
      "Validation loss decreased (0.121355 --> 0.121355).  Saving model ...\n",
      "../az_model_cd/GRS_SavedModel/GRSModel_none/2009/best_model_epoch_73.pt\n"
     ]
    },
    {
     "name": "stderr",
     "output_type": "stream",
     "text": [
      "\r",
      "0it [00:00, ?it/s]"
     ]
    },
    {
     "name": "stdout",
     "output_type": "stream",
     "text": [
      "../az_model_cd/GRS_SavedModel/GRSOpt_none/2009/best_optimizer_epoch_73.pt\n",
      "Epoch 74 of 200\n"
     ]
    },
    {
     "name": "stderr",
     "output_type": "stream",
     "text": [
      "0it [00:00, ?it/s]\n",
      "100%|██████████| 1/1 [00:00<00:00, 178.72it/s]\n"
     ]
    },
    {
     "name": "stdout",
     "output_type": "stream",
     "text": [
      "Train Loss: nan, Train Acc: nan\n",
      "Val Loss: 0.1214, Val Acc: 0.9595\n",
      "Validation loss decreased (0.121355 --> 0.121355).  Saving model ...\n",
      "../az_model_cd/GRS_SavedModel/GRSModel_none/2009/best_model_epoch_74.pt\n"
     ]
    },
    {
     "name": "stderr",
     "output_type": "stream",
     "text": [
      "\r",
      "0it [00:00, ?it/s]"
     ]
    },
    {
     "name": "stdout",
     "output_type": "stream",
     "text": [
      "../az_model_cd/GRS_SavedModel/GRSOpt_none/2009/best_optimizer_epoch_74.pt\n",
      "Epoch 75 of 200\n"
     ]
    },
    {
     "name": "stderr",
     "output_type": "stream",
     "text": [
      "0it [00:00, ?it/s]\n",
      "100%|██████████| 1/1 [00:00<00:00, 168.21it/s]\n"
     ]
    },
    {
     "name": "stdout",
     "output_type": "stream",
     "text": [
      "Train Loss: nan, Train Acc: nan\n",
      "Val Loss: 0.1214, Val Acc: 0.9595\n",
      "Validation loss decreased (0.121355 --> 0.121355).  Saving model ...\n",
      "../az_model_cd/GRS_SavedModel/GRSModel_none/2009/best_model_epoch_75.pt\n"
     ]
    },
    {
     "name": "stderr",
     "output_type": "stream",
     "text": [
      "\r",
      "0it [00:00, ?it/s]"
     ]
    },
    {
     "name": "stdout",
     "output_type": "stream",
     "text": [
      "../az_model_cd/GRS_SavedModel/GRSOpt_none/2009/best_optimizer_epoch_75.pt\n",
      "Epoch 76 of 200\n"
     ]
    },
    {
     "name": "stderr",
     "output_type": "stream",
     "text": [
      "0it [00:00, ?it/s]\n",
      "100%|██████████| 1/1 [00:00<00:00, 170.42it/s]\n"
     ]
    },
    {
     "name": "stdout",
     "output_type": "stream",
     "text": [
      "Train Loss: nan, Train Acc: nan\n",
      "Val Loss: 0.1214, Val Acc: 0.9595\n",
      "Validation loss decreased (0.121355 --> 0.121355).  Saving model ...\n",
      "../az_model_cd/GRS_SavedModel/GRSModel_none/2009/best_model_epoch_76.pt\n"
     ]
    },
    {
     "name": "stderr",
     "output_type": "stream",
     "text": [
      "\r",
      "0it [00:00, ?it/s]"
     ]
    },
    {
     "name": "stdout",
     "output_type": "stream",
     "text": [
      "../az_model_cd/GRS_SavedModel/GRSOpt_none/2009/best_optimizer_epoch_76.pt\n",
      "Epoch 77 of 200\n"
     ]
    },
    {
     "name": "stderr",
     "output_type": "stream",
     "text": [
      "0it [00:00, ?it/s]\n",
      "100%|██████████| 1/1 [00:00<00:00, 166.32it/s]\n"
     ]
    },
    {
     "name": "stdout",
     "output_type": "stream",
     "text": [
      "Train Loss: nan, Train Acc: nan\n",
      "Val Loss: 0.1214, Val Acc: 0.9595\n",
      "Validation loss decreased (0.121355 --> 0.121355).  Saving model ...\n",
      "../az_model_cd/GRS_SavedModel/GRSModel_none/2009/best_model_epoch_77.pt\n"
     ]
    },
    {
     "name": "stderr",
     "output_type": "stream",
     "text": [
      "\r",
      "0it [00:00, ?it/s]"
     ]
    },
    {
     "name": "stdout",
     "output_type": "stream",
     "text": [
      "../az_model_cd/GRS_SavedModel/GRSOpt_none/2009/best_optimizer_epoch_77.pt\n",
      "Epoch 78 of 200\n"
     ]
    },
    {
     "name": "stderr",
     "output_type": "stream",
     "text": [
      "0it [00:00, ?it/s]\n",
      "100%|██████████| 1/1 [00:00<00:00, 168.70it/s]\n"
     ]
    },
    {
     "name": "stdout",
     "output_type": "stream",
     "text": [
      "Train Loss: nan, Train Acc: nan\n",
      "Val Loss: 0.1214, Val Acc: 0.9595\n",
      "Validation loss decreased (0.121355 --> 0.121355).  Saving model ...\n",
      "../az_model_cd/GRS_SavedModel/GRSModel_none/2009/best_model_epoch_78.pt\n"
     ]
    },
    {
     "name": "stderr",
     "output_type": "stream",
     "text": [
      "\r",
      "0it [00:00, ?it/s]"
     ]
    },
    {
     "name": "stdout",
     "output_type": "stream",
     "text": [
      "../az_model_cd/GRS_SavedModel/GRSOpt_none/2009/best_optimizer_epoch_78.pt\n",
      "Epoch 79 of 200\n"
     ]
    },
    {
     "name": "stderr",
     "output_type": "stream",
     "text": [
      "0it [00:00, ?it/s]\n",
      "100%|██████████| 1/1 [00:00<00:00, 175.82it/s]\n"
     ]
    },
    {
     "name": "stdout",
     "output_type": "stream",
     "text": [
      "Train Loss: nan, Train Acc: nan\n",
      "Val Loss: 0.1214, Val Acc: 0.9595\n",
      "Validation loss decreased (0.121355 --> 0.121355).  Saving model ...\n",
      "../az_model_cd/GRS_SavedModel/GRSModel_none/2009/best_model_epoch_79.pt\n",
      "../az_model_cd/GRS_SavedModel/GRSOpt_none/2009/best_optimizer_epoch_79.pt\n"
     ]
    },
    {
     "name": "stderr",
     "output_type": "stream",
     "text": [
      "\r",
      "0it [00:00, ?it/s]"
     ]
    },
    {
     "name": "stdout",
     "output_type": "stream",
     "text": [
      "Epoch 80 of 200\n"
     ]
    },
    {
     "name": "stderr",
     "output_type": "stream",
     "text": [
      "0it [00:00, ?it/s]\n",
      "100%|██████████| 1/1 [00:00<00:00, 169.00it/s]\n"
     ]
    },
    {
     "name": "stdout",
     "output_type": "stream",
     "text": [
      "Train Loss: nan, Train Acc: nan\n",
      "Val Loss: 0.1214, Val Acc: 0.9595\n",
      "Validation loss decreased (0.121355 --> 0.121355).  Saving model ...\n",
      "../az_model_cd/GRS_SavedModel/GRSModel_none/2009/best_model_epoch_80.pt\n"
     ]
    },
    {
     "name": "stderr",
     "output_type": "stream",
     "text": [
      "\r",
      "0it [00:00, ?it/s]"
     ]
    },
    {
     "name": "stdout",
     "output_type": "stream",
     "text": [
      "../az_model_cd/GRS_SavedModel/GRSOpt_none/2009/best_optimizer_epoch_80.pt\n",
      "Epoch 81 of 200\n"
     ]
    },
    {
     "name": "stderr",
     "output_type": "stream",
     "text": [
      "0it [00:00, ?it/s]\n",
      "100%|██████████| 1/1 [00:00<00:00, 148.88it/s]\n"
     ]
    },
    {
     "name": "stdout",
     "output_type": "stream",
     "text": [
      "Train Loss: nan, Train Acc: nan\n",
      "Val Loss: 0.1214, Val Acc: 0.9595\n",
      "Validation loss decreased (0.121355 --> 0.121355).  Saving model ...\n",
      "../az_model_cd/GRS_SavedModel/GRSModel_none/2009/best_model_epoch_81.pt\n"
     ]
    },
    {
     "name": "stderr",
     "output_type": "stream",
     "text": [
      "\r",
      "0it [00:00, ?it/s]"
     ]
    },
    {
     "name": "stdout",
     "output_type": "stream",
     "text": [
      "../az_model_cd/GRS_SavedModel/GRSOpt_none/2009/best_optimizer_epoch_81.pt\n",
      "Epoch 82 of 200\n"
     ]
    },
    {
     "name": "stderr",
     "output_type": "stream",
     "text": [
      "0it [00:00, ?it/s]\n",
      "100%|██████████| 1/1 [00:00<00:00, 166.93it/s]\n"
     ]
    },
    {
     "name": "stdout",
     "output_type": "stream",
     "text": [
      "Train Loss: nan, Train Acc: nan\n",
      "Val Loss: 0.1214, Val Acc: 0.9595\n",
      "Validation loss decreased (0.121355 --> 0.121355).  Saving model ...\n",
      "../az_model_cd/GRS_SavedModel/GRSModel_none/2009/best_model_epoch_82.pt\n"
     ]
    },
    {
     "name": "stderr",
     "output_type": "stream",
     "text": [
      "\r",
      "0it [00:00, ?it/s]"
     ]
    },
    {
     "name": "stdout",
     "output_type": "stream",
     "text": [
      "../az_model_cd/GRS_SavedModel/GRSOpt_none/2009/best_optimizer_epoch_82.pt\n",
      "Epoch 83 of 200\n"
     ]
    },
    {
     "name": "stderr",
     "output_type": "stream",
     "text": [
      "0it [00:00, ?it/s]\n",
      "100%|██████████| 1/1 [00:00<00:00, 157.82it/s]\n"
     ]
    },
    {
     "name": "stdout",
     "output_type": "stream",
     "text": [
      "Train Loss: nan, Train Acc: nan\n",
      "Val Loss: 0.1214, Val Acc: 0.9595\n",
      "Validation loss decreased (0.121355 --> 0.121355).  Saving model ...\n",
      "../az_model_cd/GRS_SavedModel/GRSModel_none/2009/best_model_epoch_83.pt\n"
     ]
    },
    {
     "name": "stderr",
     "output_type": "stream",
     "text": [
      "\r",
      "0it [00:00, ?it/s]"
     ]
    },
    {
     "name": "stdout",
     "output_type": "stream",
     "text": [
      "../az_model_cd/GRS_SavedModel/GRSOpt_none/2009/best_optimizer_epoch_83.pt\n",
      "Epoch 84 of 200\n"
     ]
    },
    {
     "name": "stderr",
     "output_type": "stream",
     "text": [
      "0it [00:00, ?it/s]\n",
      "100%|██████████| 1/1 [00:00<00:00, 178.92it/s]\n"
     ]
    },
    {
     "name": "stdout",
     "output_type": "stream",
     "text": [
      "Train Loss: nan, Train Acc: nan\n",
      "Val Loss: 0.1214, Val Acc: 0.9595\n",
      "Validation loss decreased (0.121355 --> 0.121355).  Saving model ...\n",
      "../az_model_cd/GRS_SavedModel/GRSModel_none/2009/best_model_epoch_84.pt\n"
     ]
    },
    {
     "name": "stderr",
     "output_type": "stream",
     "text": [
      "\r",
      "0it [00:00, ?it/s]"
     ]
    },
    {
     "name": "stdout",
     "output_type": "stream",
     "text": [
      "../az_model_cd/GRS_SavedModel/GRSOpt_none/2009/best_optimizer_epoch_84.pt\n",
      "Epoch 85 of 200\n"
     ]
    },
    {
     "name": "stderr",
     "output_type": "stream",
     "text": [
      "0it [00:00, ?it/s]\n",
      "100%|██████████| 1/1 [00:00<00:00, 167.81it/s]\n"
     ]
    },
    {
     "name": "stdout",
     "output_type": "stream",
     "text": [
      "Train Loss: nan, Train Acc: nan\n",
      "Val Loss: 0.1214, Val Acc: 0.9595\n",
      "Validation loss decreased (0.121355 --> 0.121355).  Saving model ...\n",
      "../az_model_cd/GRS_SavedModel/GRSModel_none/2009/best_model_epoch_85.pt\n"
     ]
    },
    {
     "name": "stderr",
     "output_type": "stream",
     "text": [
      "\r",
      "0it [00:00, ?it/s]"
     ]
    },
    {
     "name": "stdout",
     "output_type": "stream",
     "text": [
      "../az_model_cd/GRS_SavedModel/GRSOpt_none/2009/best_optimizer_epoch_85.pt\n",
      "Epoch 86 of 200\n"
     ]
    },
    {
     "name": "stderr",
     "output_type": "stream",
     "text": [
      "0it [00:00, ?it/s]\n",
      "100%|██████████| 1/1 [00:00<00:00, 169.71it/s]\n"
     ]
    },
    {
     "name": "stdout",
     "output_type": "stream",
     "text": [
      "Train Loss: nan, Train Acc: nan\n",
      "Val Loss: 0.1214, Val Acc: 0.9595\n",
      "Validation loss decreased (0.121355 --> 0.121355).  Saving model ...\n",
      "../az_model_cd/GRS_SavedModel/GRSModel_none/2009/best_model_epoch_86.pt\n"
     ]
    },
    {
     "name": "stderr",
     "output_type": "stream",
     "text": [
      "\r",
      "0it [00:00, ?it/s]"
     ]
    },
    {
     "name": "stdout",
     "output_type": "stream",
     "text": [
      "../az_model_cd/GRS_SavedModel/GRSOpt_none/2009/best_optimizer_epoch_86.pt\n",
      "Epoch 87 of 200\n"
     ]
    },
    {
     "name": "stderr",
     "output_type": "stream",
     "text": [
      "0it [00:00, ?it/s]\n",
      "100%|██████████| 1/1 [00:00<00:00, 169.51it/s]\n"
     ]
    },
    {
     "name": "stdout",
     "output_type": "stream",
     "text": [
      "Train Loss: nan, Train Acc: nan\n",
      "Val Loss: 0.1214, Val Acc: 0.9595\n",
      "Validation loss decreased (0.121355 --> 0.121355).  Saving model ...\n",
      "../az_model_cd/GRS_SavedModel/GRSModel_none/2009/best_model_epoch_87.pt\n",
      "../az_model_cd/GRS_SavedModel/GRSOpt_none/2009/best_optimizer_epoch_87.pt\n"
     ]
    },
    {
     "name": "stderr",
     "output_type": "stream",
     "text": [
      "\r",
      "0it [00:00, ?it/s]"
     ]
    },
    {
     "name": "stdout",
     "output_type": "stream",
     "text": [
      "Epoch 88 of 200\n"
     ]
    },
    {
     "name": "stderr",
     "output_type": "stream",
     "text": [
      "0it [00:00, ?it/s]\n",
      "100%|██████████| 1/1 [00:00<00:00, 168.16it/s]"
     ]
    },
    {
     "name": "stdout",
     "output_type": "stream",
     "text": [
      "Train Loss: nan, Train Acc: nan\n",
      "Val Loss: 0.1214, Val Acc: 0.9595\n",
      "Validation loss decreased (0.121355 --> 0.121355).  Saving model ...\n",
      "../az_model_cd/GRS_SavedModel/GRSModel_none/2009/best_model_epoch_88.pt\n",
      "../az_model_cd/GRS_SavedModel/GRSOpt_none/2009/best_optimizer_epoch_88.pt\n"
     ]
    },
    {
     "name": "stderr",
     "output_type": "stream",
     "text": [
      "\n",
      "\r",
      "0it [00:00, ?it/s]"
     ]
    },
    {
     "name": "stdout",
     "output_type": "stream",
     "text": [
      "Epoch 89 of 200\n"
     ]
    },
    {
     "name": "stderr",
     "output_type": "stream",
     "text": [
      "0it [00:00, ?it/s]\n",
      "100%|██████████| 1/1 [00:00<00:00, 165.63it/s]\n"
     ]
    },
    {
     "name": "stdout",
     "output_type": "stream",
     "text": [
      "Train Loss: nan, Train Acc: nan\n",
      "Val Loss: 0.1214, Val Acc: 0.9595\n",
      "Validation loss decreased (0.121355 --> 0.121355).  Saving model ...\n",
      "../az_model_cd/GRS_SavedModel/GRSModel_none/2009/best_model_epoch_89.pt\n"
     ]
    },
    {
     "name": "stderr",
     "output_type": "stream",
     "text": [
      "\r",
      "0it [00:00, ?it/s]"
     ]
    },
    {
     "name": "stdout",
     "output_type": "stream",
     "text": [
      "../az_model_cd/GRS_SavedModel/GRSOpt_none/2009/best_optimizer_epoch_89.pt\n",
      "Epoch 90 of 200\n"
     ]
    },
    {
     "name": "stderr",
     "output_type": "stream",
     "text": [
      "0it [00:00, ?it/s]\n",
      "100%|██████████| 1/1 [00:00<00:00, 168.72it/s]\n"
     ]
    },
    {
     "name": "stdout",
     "output_type": "stream",
     "text": [
      "Train Loss: nan, Train Acc: nan\n",
      "Val Loss: 0.1214, Val Acc: 0.9595\n",
      "Validation loss decreased (0.121355 --> 0.121355).  Saving model ...\n",
      "../az_model_cd/GRS_SavedModel/GRSModel_none/2009/best_model_epoch_90.pt\n"
     ]
    },
    {
     "name": "stderr",
     "output_type": "stream",
     "text": [
      "\r",
      "0it [00:00, ?it/s]"
     ]
    },
    {
     "name": "stdout",
     "output_type": "stream",
     "text": [
      "../az_model_cd/GRS_SavedModel/GRSOpt_none/2009/best_optimizer_epoch_90.pt\n",
      "Epoch 91 of 200\n"
     ]
    },
    {
     "name": "stderr",
     "output_type": "stream",
     "text": [
      "0it [00:00, ?it/s]\n",
      "100%|██████████| 1/1 [00:00<00:00, 167.25it/s]\n"
     ]
    },
    {
     "name": "stdout",
     "output_type": "stream",
     "text": [
      "Train Loss: nan, Train Acc: nan\n",
      "Val Loss: 0.1214, Val Acc: 0.9595\n",
      "Validation loss decreased (0.121355 --> 0.121355).  Saving model ...\n",
      "../az_model_cd/GRS_SavedModel/GRSModel_none/2009/best_model_epoch_91.pt\n"
     ]
    },
    {
     "name": "stderr",
     "output_type": "stream",
     "text": [
      "\r",
      "0it [00:00, ?it/s]"
     ]
    },
    {
     "name": "stdout",
     "output_type": "stream",
     "text": [
      "../az_model_cd/GRS_SavedModel/GRSOpt_none/2009/best_optimizer_epoch_91.pt\n",
      "Epoch 92 of 200\n"
     ]
    },
    {
     "name": "stderr",
     "output_type": "stream",
     "text": [
      "0it [00:00, ?it/s]\n",
      "100%|██████████| 1/1 [00:00<00:00, 167.46it/s]\n"
     ]
    },
    {
     "name": "stdout",
     "output_type": "stream",
     "text": [
      "Train Loss: nan, Train Acc: nan\n",
      "Val Loss: 0.1214, Val Acc: 0.9595\n",
      "Validation loss decreased (0.121355 --> 0.121355).  Saving model ...\n",
      "../az_model_cd/GRS_SavedModel/GRSModel_none/2009/best_model_epoch_92.pt\n"
     ]
    },
    {
     "name": "stderr",
     "output_type": "stream",
     "text": [
      "\r",
      "0it [00:00, ?it/s]"
     ]
    },
    {
     "name": "stdout",
     "output_type": "stream",
     "text": [
      "../az_model_cd/GRS_SavedModel/GRSOpt_none/2009/best_optimizer_epoch_92.pt\n",
      "Epoch 93 of 200\n"
     ]
    },
    {
     "name": "stderr",
     "output_type": "stream",
     "text": [
      "0it [00:00, ?it/s]\n",
      "100%|██████████| 1/1 [00:00<00:00, 167.44it/s]\n"
     ]
    },
    {
     "name": "stdout",
     "output_type": "stream",
     "text": [
      "Train Loss: nan, Train Acc: nan\n",
      "Val Loss: 0.1214, Val Acc: 0.9595\n",
      "Validation loss decreased (0.121355 --> 0.121355).  Saving model ...\n",
      "../az_model_cd/GRS_SavedModel/GRSModel_none/2009/best_model_epoch_93.pt\n"
     ]
    },
    {
     "name": "stderr",
     "output_type": "stream",
     "text": [
      "\r",
      "0it [00:00, ?it/s]"
     ]
    },
    {
     "name": "stdout",
     "output_type": "stream",
     "text": [
      "../az_model_cd/GRS_SavedModel/GRSOpt_none/2009/best_optimizer_epoch_93.pt\n",
      "Epoch 94 of 200\n"
     ]
    },
    {
     "name": "stderr",
     "output_type": "stream",
     "text": [
      "0it [00:00, ?it/s]\n",
      "100%|██████████| 1/1 [00:00<00:00, 189.50it/s]\n"
     ]
    },
    {
     "name": "stdout",
     "output_type": "stream",
     "text": [
      "Train Loss: nan, Train Acc: nan\n",
      "Val Loss: 0.1214, Val Acc: 0.9595\n",
      "Validation loss decreased (0.121355 --> 0.121355).  Saving model ...\n",
      "../az_model_cd/GRS_SavedModel/GRSModel_none/2009/best_model_epoch_94.pt\n",
      "../az_model_cd/GRS_SavedModel/GRSOpt_none/2009/best_optimizer_epoch_94.pt\n"
     ]
    },
    {
     "name": "stderr",
     "output_type": "stream",
     "text": [
      "\r",
      "0it [00:00, ?it/s]"
     ]
    },
    {
     "name": "stdout",
     "output_type": "stream",
     "text": [
      "Epoch 95 of 200\n"
     ]
    },
    {
     "name": "stderr",
     "output_type": "stream",
     "text": [
      "0it [00:00, ?it/s]\n",
      "100%|██████████| 1/1 [00:00<00:00, 166.78it/s]\n"
     ]
    },
    {
     "name": "stdout",
     "output_type": "stream",
     "text": [
      "Train Loss: nan, Train Acc: nan\n",
      "Val Loss: 0.1214, Val Acc: 0.9595\n",
      "Validation loss decreased (0.121355 --> 0.121355).  Saving model ...\n",
      "../az_model_cd/GRS_SavedModel/GRSModel_none/2009/best_model_epoch_95.pt\n"
     ]
    },
    {
     "name": "stderr",
     "output_type": "stream",
     "text": [
      "\r",
      "0it [00:00, ?it/s]"
     ]
    },
    {
     "name": "stdout",
     "output_type": "stream",
     "text": [
      "../az_model_cd/GRS_SavedModel/GRSOpt_none/2009/best_optimizer_epoch_95.pt\n",
      "Epoch 96 of 200\n"
     ]
    },
    {
     "name": "stderr",
     "output_type": "stream",
     "text": [
      "0it [00:00, ?it/s]\n",
      "100%|██████████| 1/1 [00:00<00:00, 170.63it/s]\n"
     ]
    },
    {
     "name": "stdout",
     "output_type": "stream",
     "text": [
      "Train Loss: nan, Train Acc: nan\n",
      "Val Loss: 0.1214, Val Acc: 0.9595\n",
      "Validation loss decreased (0.121355 --> 0.121355).  Saving model ...\n",
      "../az_model_cd/GRS_SavedModel/GRSModel_none/2009/best_model_epoch_96.pt\n"
     ]
    },
    {
     "name": "stderr",
     "output_type": "stream",
     "text": [
      "\r",
      "0it [00:00, ?it/s]"
     ]
    },
    {
     "name": "stdout",
     "output_type": "stream",
     "text": [
      "../az_model_cd/GRS_SavedModel/GRSOpt_none/2009/best_optimizer_epoch_96.pt\n",
      "Epoch 97 of 200\n"
     ]
    },
    {
     "name": "stderr",
     "output_type": "stream",
     "text": [
      "0it [00:00, ?it/s]\n",
      "100%|██████████| 1/1 [00:00<00:00, 155.73it/s]\n"
     ]
    },
    {
     "name": "stdout",
     "output_type": "stream",
     "text": [
      "Train Loss: nan, Train Acc: nan\n",
      "Val Loss: 0.1214, Val Acc: 0.9595\n",
      "Validation loss decreased (0.121355 --> 0.121355).  Saving model ...\n",
      "../az_model_cd/GRS_SavedModel/GRSModel_none/2009/best_model_epoch_97.pt\n"
     ]
    },
    {
     "name": "stderr",
     "output_type": "stream",
     "text": [
      "\r",
      "0it [00:00, ?it/s]"
     ]
    },
    {
     "name": "stdout",
     "output_type": "stream",
     "text": [
      "../az_model_cd/GRS_SavedModel/GRSOpt_none/2009/best_optimizer_epoch_97.pt\n",
      "Epoch 98 of 200\n"
     ]
    },
    {
     "name": "stderr",
     "output_type": "stream",
     "text": [
      "0it [00:00, ?it/s]\n",
      "100%|██████████| 1/1 [00:00<00:00, 193.98it/s]\n"
     ]
    },
    {
     "name": "stdout",
     "output_type": "stream",
     "text": [
      "Train Loss: nan, Train Acc: nan\n",
      "Val Loss: 0.1214, Val Acc: 0.9595\n",
      "Validation loss decreased (0.121355 --> 0.121355).  Saving model ...\n",
      "../az_model_cd/GRS_SavedModel/GRSModel_none/2009/best_model_epoch_98.pt\n"
     ]
    },
    {
     "name": "stderr",
     "output_type": "stream",
     "text": [
      "\r",
      "0it [00:00, ?it/s]"
     ]
    },
    {
     "name": "stdout",
     "output_type": "stream",
     "text": [
      "../az_model_cd/GRS_SavedModel/GRSOpt_none/2009/best_optimizer_epoch_98.pt\n",
      "Epoch 99 of 200\n"
     ]
    },
    {
     "name": "stderr",
     "output_type": "stream",
     "text": [
      "0it [00:00, ?it/s]\n",
      "100%|██████████| 1/1 [00:00<00:00, 182.82it/s]\n"
     ]
    },
    {
     "name": "stdout",
     "output_type": "stream",
     "text": [
      "Train Loss: nan, Train Acc: nan\n",
      "Val Loss: 0.1214, Val Acc: 0.9595\n",
      "Validation loss decreased (0.121355 --> 0.121355).  Saving model ...\n",
      "../az_model_cd/GRS_SavedModel/GRSModel_none/2009/best_model_epoch_99.pt\n"
     ]
    },
    {
     "name": "stderr",
     "output_type": "stream",
     "text": [
      "\r",
      "0it [00:00, ?it/s]"
     ]
    },
    {
     "name": "stdout",
     "output_type": "stream",
     "text": [
      "../az_model_cd/GRS_SavedModel/GRSOpt_none/2009/best_optimizer_epoch_99.pt\n",
      "Epoch 100 of 200\n"
     ]
    },
    {
     "name": "stderr",
     "output_type": "stream",
     "text": [
      "0it [00:00, ?it/s]\n",
      "100%|██████████| 1/1 [00:00<00:00, 171.04it/s]\n"
     ]
    },
    {
     "name": "stdout",
     "output_type": "stream",
     "text": [
      "Train Loss: nan, Train Acc: nan\n",
      "Val Loss: 0.1214, Val Acc: 0.9595\n",
      "Validation loss decreased (0.121355 --> 0.121355).  Saving model ...\n",
      "../az_model_cd/GRS_SavedModel/GRSModel_none/2009/best_model_epoch_100.pt\n"
     ]
    },
    {
     "name": "stderr",
     "output_type": "stream",
     "text": [
      "\r",
      "0it [00:00, ?it/s]"
     ]
    },
    {
     "name": "stdout",
     "output_type": "stream",
     "text": [
      "../az_model_cd/GRS_SavedModel/GRSOpt_none/2009/best_optimizer_epoch_100.pt\n",
      "Epoch 101 of 200\n"
     ]
    },
    {
     "name": "stderr",
     "output_type": "stream",
     "text": [
      "0it [00:00, ?it/s]\n",
      "100%|██████████| 1/1 [00:00<00:00, 177.21it/s]\n"
     ]
    },
    {
     "name": "stdout",
     "output_type": "stream",
     "text": [
      "Train Loss: nan, Train Acc: nan\n",
      "Val Loss: 0.1214, Val Acc: 0.9595\n",
      "Validation loss decreased (0.121355 --> 0.121355).  Saving model ...\n",
      "../az_model_cd/GRS_SavedModel/GRSModel_none/2009/best_model_epoch_101.pt\n"
     ]
    },
    {
     "name": "stderr",
     "output_type": "stream",
     "text": [
      "\r",
      "0it [00:00, ?it/s]"
     ]
    },
    {
     "name": "stdout",
     "output_type": "stream",
     "text": [
      "../az_model_cd/GRS_SavedModel/GRSOpt_none/2009/best_optimizer_epoch_101.pt\n",
      "Epoch 102 of 200\n"
     ]
    },
    {
     "name": "stderr",
     "output_type": "stream",
     "text": [
      "0it [00:00, ?it/s]\n",
      "100%|██████████| 1/1 [00:00<00:00, 170.24it/s]\n"
     ]
    },
    {
     "name": "stdout",
     "output_type": "stream",
     "text": [
      "Train Loss: nan, Train Acc: nan\n",
      "Val Loss: 0.1214, Val Acc: 0.9595\n",
      "Validation loss decreased (0.121355 --> 0.121355).  Saving model ...\n",
      "../az_model_cd/GRS_SavedModel/GRSModel_none/2009/best_model_epoch_102.pt\n",
      "../az_model_cd/GRS_SavedModel/GRSOpt_none/2009/best_optimizer_epoch_102.pt"
     ]
    },
    {
     "name": "stderr",
     "output_type": "stream",
     "text": [
      "\r",
      "0it [00:00, ?it/s]"
     ]
    },
    {
     "name": "stdout",
     "output_type": "stream",
     "text": [
      "\n",
      "Epoch 103 of 200\n"
     ]
    },
    {
     "name": "stderr",
     "output_type": "stream",
     "text": [
      "0it [00:00, ?it/s]\n",
      "100%|██████████| 1/1 [00:00<00:00, 178.04it/s]\n"
     ]
    },
    {
     "name": "stdout",
     "output_type": "stream",
     "text": [
      "Train Loss: nan, Train Acc: nan\n",
      "Val Loss: 0.1214, Val Acc: 0.9595\n",
      "Validation loss decreased (0.121355 --> 0.121355).  Saving model ...\n",
      "../az_model_cd/GRS_SavedModel/GRSModel_none/2009/best_model_epoch_103.pt\n",
      "../az_model_cd/GRS_SavedModel/GRSOpt_none/2009/best_optimizer_epoch_103.pt\n"
     ]
    },
    {
     "name": "stderr",
     "output_type": "stream",
     "text": [
      "\r",
      "0it [00:00, ?it/s]"
     ]
    },
    {
     "name": "stdout",
     "output_type": "stream",
     "text": [
      "Epoch 104 of 200\n"
     ]
    },
    {
     "name": "stderr",
     "output_type": "stream",
     "text": [
      "0it [00:00, ?it/s]\n",
      "100%|██████████| 1/1 [00:00<00:00, 165.91it/s]\n"
     ]
    },
    {
     "name": "stdout",
     "output_type": "stream",
     "text": [
      "Train Loss: nan, Train Acc: nan\n",
      "Val Loss: 0.1214, Val Acc: 0.9595\n",
      "Validation loss decreased (0.121355 --> 0.121355).  Saving model ...\n",
      "../az_model_cd/GRS_SavedModel/GRSModel_none/2009/best_model_epoch_104.pt\n",
      "../az_model_cd/GRS_SavedModel/GRSOpt_none/2009/best_optimizer_epoch_104.pt\n"
     ]
    },
    {
     "name": "stderr",
     "output_type": "stream",
     "text": [
      "\r",
      "0it [00:00, ?it/s]"
     ]
    },
    {
     "name": "stdout",
     "output_type": "stream",
     "text": [
      "Epoch 105 of 200\n"
     ]
    },
    {
     "name": "stderr",
     "output_type": "stream",
     "text": [
      "0it [00:00, ?it/s]\n",
      "100%|██████████| 1/1 [00:00<00:00, 160.08it/s]\n"
     ]
    },
    {
     "name": "stdout",
     "output_type": "stream",
     "text": [
      "Train Loss: nan, Train Acc: nan\n",
      "Val Loss: 0.1214, Val Acc: 0.9595\n",
      "Validation loss decreased (0.121355 --> 0.121355).  Saving model ...\n",
      "../az_model_cd/GRS_SavedModel/GRSModel_none/2009/best_model_epoch_105.pt\n"
     ]
    },
    {
     "name": "stderr",
     "output_type": "stream",
     "text": [
      "\r",
      "0it [00:00, ?it/s]"
     ]
    },
    {
     "name": "stdout",
     "output_type": "stream",
     "text": [
      "../az_model_cd/GRS_SavedModel/GRSOpt_none/2009/best_optimizer_epoch_105.pt\n",
      "Epoch 106 of 200\n"
     ]
    },
    {
     "name": "stderr",
     "output_type": "stream",
     "text": [
      "0it [00:00, ?it/s]\n",
      "100%|██████████| 1/1 [00:00<00:00, 167.90it/s]\n"
     ]
    },
    {
     "name": "stdout",
     "output_type": "stream",
     "text": [
      "Train Loss: nan, Train Acc: nan\n",
      "Val Loss: 0.1214, Val Acc: 0.9595\n",
      "Validation loss decreased (0.121355 --> 0.121355).  Saving model ...\n",
      "../az_model_cd/GRS_SavedModel/GRSModel_none/2009/best_model_epoch_106.pt\n"
     ]
    },
    {
     "name": "stderr",
     "output_type": "stream",
     "text": [
      "\r",
      "0it [00:00, ?it/s]"
     ]
    },
    {
     "name": "stdout",
     "output_type": "stream",
     "text": [
      "../az_model_cd/GRS_SavedModel/GRSOpt_none/2009/best_optimizer_epoch_106.pt\n",
      "Epoch 107 of 200\n"
     ]
    },
    {
     "name": "stderr",
     "output_type": "stream",
     "text": [
      "0it [00:00, ?it/s]\n",
      "100%|██████████| 1/1 [00:00<00:00, 170.44it/s]\n"
     ]
    },
    {
     "name": "stdout",
     "output_type": "stream",
     "text": [
      "Train Loss: nan, Train Acc: nan\n",
      "Val Loss: 0.1214, Val Acc: 0.9595\n",
      "Validation loss decreased (0.121355 --> 0.121355).  Saving model ...\n",
      "../az_model_cd/GRS_SavedModel/GRSModel_none/2009/best_model_epoch_107.pt\n"
     ]
    },
    {
     "name": "stderr",
     "output_type": "stream",
     "text": [
      "\r",
      "0it [00:00, ?it/s]"
     ]
    },
    {
     "name": "stdout",
     "output_type": "stream",
     "text": [
      "../az_model_cd/GRS_SavedModel/GRSOpt_none/2009/best_optimizer_epoch_107.pt\n",
      "Epoch 108 of 200\n"
     ]
    },
    {
     "name": "stderr",
     "output_type": "stream",
     "text": [
      "0it [00:00, ?it/s]\n",
      "100%|██████████| 1/1 [00:00<00:00, 170.29it/s]\n"
     ]
    },
    {
     "name": "stdout",
     "output_type": "stream",
     "text": [
      "Train Loss: nan, Train Acc: nan\n",
      "Val Loss: 0.1214, Val Acc: 0.9595\n",
      "Validation loss decreased (0.121355 --> 0.121355).  Saving model ...\n",
      "../az_model_cd/GRS_SavedModel/GRSModel_none/2009/best_model_epoch_108.pt\n"
     ]
    },
    {
     "name": "stderr",
     "output_type": "stream",
     "text": [
      "\r",
      "0it [00:00, ?it/s]"
     ]
    },
    {
     "name": "stdout",
     "output_type": "stream",
     "text": [
      "../az_model_cd/GRS_SavedModel/GRSOpt_none/2009/best_optimizer_epoch_108.pt\n",
      "Epoch 109 of 200\n"
     ]
    },
    {
     "name": "stderr",
     "output_type": "stream",
     "text": [
      "0it [00:00, ?it/s]\n",
      "100%|██████████| 1/1 [00:00<00:00, 167.54it/s]\n"
     ]
    },
    {
     "name": "stdout",
     "output_type": "stream",
     "text": [
      "Train Loss: nan, Train Acc: nan\n",
      "Val Loss: 0.1214, Val Acc: 0.9595\n",
      "Validation loss decreased (0.121355 --> 0.121355).  Saving model ...\n",
      "../az_model_cd/GRS_SavedModel/GRSModel_none/2009/best_model_epoch_109.pt\n",
      "../az_model_cd/GRS_SavedModel/GRSOpt_none/2009/best_optimizer_epoch_109.pt"
     ]
    },
    {
     "name": "stderr",
     "output_type": "stream",
     "text": [
      "\r",
      "0it [00:00, ?it/s]"
     ]
    },
    {
     "name": "stdout",
     "output_type": "stream",
     "text": [
      "\n",
      "Epoch 110 of 200\n"
     ]
    },
    {
     "name": "stderr",
     "output_type": "stream",
     "text": [
      "0it [00:00, ?it/s]\n",
      "100%|██████████| 1/1 [00:00<00:00, 176.66it/s]\n"
     ]
    },
    {
     "name": "stdout",
     "output_type": "stream",
     "text": [
      "Train Loss: nan, Train Acc: nan\n",
      "Val Loss: 0.1214, Val Acc: 0.9595\n",
      "Validation loss decreased (0.121355 --> 0.121355).  Saving model ...\n",
      "../az_model_cd/GRS_SavedModel/GRSModel_none/2009/best_model_epoch_110.pt\n"
     ]
    },
    {
     "name": "stderr",
     "output_type": "stream",
     "text": [
      "\r",
      "0it [00:00, ?it/s]"
     ]
    },
    {
     "name": "stdout",
     "output_type": "stream",
     "text": [
      "../az_model_cd/GRS_SavedModel/GRSOpt_none/2009/best_optimizer_epoch_110.pt\n",
      "Epoch 111 of 200\n"
     ]
    },
    {
     "name": "stderr",
     "output_type": "stream",
     "text": [
      "0it [00:00, ?it/s]\n",
      "100%|██████████| 1/1 [00:00<00:00, 181.11it/s]\n"
     ]
    },
    {
     "name": "stdout",
     "output_type": "stream",
     "text": [
      "Train Loss: nan, Train Acc: nan\n",
      "Val Loss: 0.1214, Val Acc: 0.9595\n",
      "Validation loss decreased (0.121355 --> 0.121355).  Saving model ...\n",
      "../az_model_cd/GRS_SavedModel/GRSModel_none/2009/best_model_epoch_111.pt\n"
     ]
    },
    {
     "name": "stderr",
     "output_type": "stream",
     "text": [
      "\r",
      "0it [00:00, ?it/s]"
     ]
    },
    {
     "name": "stdout",
     "output_type": "stream",
     "text": [
      "../az_model_cd/GRS_SavedModel/GRSOpt_none/2009/best_optimizer_epoch_111.pt\n",
      "Epoch 112 of 200\n"
     ]
    },
    {
     "name": "stderr",
     "output_type": "stream",
     "text": [
      "0it [00:00, ?it/s]\n",
      "100%|██████████| 1/1 [00:00<00:00, 175.21it/s]\n"
     ]
    },
    {
     "name": "stdout",
     "output_type": "stream",
     "text": [
      "Train Loss: nan, Train Acc: nan\n",
      "Val Loss: 0.1214, Val Acc: 0.9595\n",
      "Validation loss decreased (0.121355 --> 0.121355).  Saving model ...\n",
      "../az_model_cd/GRS_SavedModel/GRSModel_none/2009/best_model_epoch_112.pt\n"
     ]
    },
    {
     "name": "stderr",
     "output_type": "stream",
     "text": [
      "\r",
      "0it [00:00, ?it/s]"
     ]
    },
    {
     "name": "stdout",
     "output_type": "stream",
     "text": [
      "../az_model_cd/GRS_SavedModel/GRSOpt_none/2009/best_optimizer_epoch_112.pt\n",
      "Epoch 113 of 200\n"
     ]
    },
    {
     "name": "stderr",
     "output_type": "stream",
     "text": [
      "0it [00:00, ?it/s]\n",
      "100%|██████████| 1/1 [00:00<00:00, 159.00it/s]\n"
     ]
    },
    {
     "name": "stdout",
     "output_type": "stream",
     "text": [
      "Train Loss: nan, Train Acc: nan\n",
      "Val Loss: 0.1214, Val Acc: 0.9595\n",
      "Validation loss decreased (0.121355 --> 0.121355).  Saving model ...\n",
      "../az_model_cd/GRS_SavedModel/GRSModel_none/2009/best_model_epoch_113.pt\n"
     ]
    },
    {
     "name": "stderr",
     "output_type": "stream",
     "text": [
      "\r",
      "0it [00:00, ?it/s]"
     ]
    },
    {
     "name": "stdout",
     "output_type": "stream",
     "text": [
      "../az_model_cd/GRS_SavedModel/GRSOpt_none/2009/best_optimizer_epoch_113.pt\n",
      "Epoch 114 of 200\n"
     ]
    },
    {
     "name": "stderr",
     "output_type": "stream",
     "text": [
      "0it [00:00, ?it/s]\n",
      "100%|██████████| 1/1 [00:00<00:00, 166.98it/s]\n"
     ]
    },
    {
     "name": "stdout",
     "output_type": "stream",
     "text": [
      "Train Loss: nan, Train Acc: nan\n",
      "Val Loss: 0.1214, Val Acc: 0.9595\n",
      "Validation loss decreased (0.121355 --> 0.121355).  Saving model ...\n",
      "../az_model_cd/GRS_SavedModel/GRSModel_none/2009/best_model_epoch_114.pt\n"
     ]
    },
    {
     "name": "stderr",
     "output_type": "stream",
     "text": [
      "\r",
      "0it [00:00, ?it/s]"
     ]
    },
    {
     "name": "stdout",
     "output_type": "stream",
     "text": [
      "../az_model_cd/GRS_SavedModel/GRSOpt_none/2009/best_optimizer_epoch_114.pt\n",
      "Epoch 115 of 200\n"
     ]
    },
    {
     "name": "stderr",
     "output_type": "stream",
     "text": [
      "0it [00:00, ?it/s]\n",
      "100%|██████████| 1/1 [00:00<00:00, 172.61it/s]\n"
     ]
    },
    {
     "name": "stdout",
     "output_type": "stream",
     "text": [
      "Train Loss: nan, Train Acc: nan\n",
      "Val Loss: 0.1214, Val Acc: 0.9595\n",
      "Validation loss decreased (0.121355 --> 0.121355).  Saving model ...\n",
      "../az_model_cd/GRS_SavedModel/GRSModel_none/2009/best_model_epoch_115.pt\n"
     ]
    },
    {
     "name": "stderr",
     "output_type": "stream",
     "text": [
      "\r",
      "0it [00:00, ?it/s]"
     ]
    },
    {
     "name": "stdout",
     "output_type": "stream",
     "text": [
      "../az_model_cd/GRS_SavedModel/GRSOpt_none/2009/best_optimizer_epoch_115.pt\n",
      "Epoch 116 of 200\n"
     ]
    },
    {
     "name": "stderr",
     "output_type": "stream",
     "text": [
      "0it [00:00, ?it/s]\n",
      "100%|██████████| 1/1 [00:00<00:00, 169.23it/s]\n"
     ]
    },
    {
     "name": "stdout",
     "output_type": "stream",
     "text": [
      "Train Loss: nan, Train Acc: nan\n",
      "Val Loss: 0.1214, Val Acc: 0.9595\n",
      "Validation loss decreased (0.121355 --> 0.121355).  Saving model ...\n",
      "../az_model_cd/GRS_SavedModel/GRSModel_none/2009/best_model_epoch_116.pt\n"
     ]
    },
    {
     "name": "stderr",
     "output_type": "stream",
     "text": [
      "\r",
      "0it [00:00, ?it/s]"
     ]
    },
    {
     "name": "stdout",
     "output_type": "stream",
     "text": [
      "../az_model_cd/GRS_SavedModel/GRSOpt_none/2009/best_optimizer_epoch_116.pt\n",
      "Epoch 117 of 200\n"
     ]
    },
    {
     "name": "stderr",
     "output_type": "stream",
     "text": [
      "0it [00:00, ?it/s]\n",
      "100%|██████████| 1/1 [00:00<00:00, 166.12it/s]"
     ]
    },
    {
     "name": "stdout",
     "output_type": "stream",
     "text": [
      "Train Loss: nan, Train Acc: nan\n",
      "Val Loss: 0.1214, Val Acc: 0.9595\n",
      "Validation loss decreased (0.121355 --> 0.121355).  Saving model ...\n",
      "../az_model_cd/GRS_SavedModel/GRSModel_none/2009/best_model_epoch_117.pt\n",
      "../az_model_cd/GRS_SavedModel/GRSOpt_none/2009/best_optimizer_epoch_117.pt\n"
     ]
    },
    {
     "name": "stderr",
     "output_type": "stream",
     "text": [
      "\n",
      "\r",
      "0it [00:00, ?it/s]"
     ]
    },
    {
     "name": "stdout",
     "output_type": "stream",
     "text": [
      "Epoch 118 of 200\n"
     ]
    },
    {
     "name": "stderr",
     "output_type": "stream",
     "text": [
      "0it [00:00, ?it/s]\n",
      "100%|██████████| 1/1 [00:00<00:00, 167.30it/s]\n"
     ]
    },
    {
     "name": "stdout",
     "output_type": "stream",
     "text": [
      "Train Loss: nan, Train Acc: nan\n",
      "Val Loss: 0.1214, Val Acc: 0.9595\n",
      "Validation loss decreased (0.121355 --> 0.121355).  Saving model ...\n",
      "../az_model_cd/GRS_SavedModel/GRSModel_none/2009/best_model_epoch_118.pt\n"
     ]
    },
    {
     "name": "stderr",
     "output_type": "stream",
     "text": [
      "\r",
      "0it [00:00, ?it/s]"
     ]
    },
    {
     "name": "stdout",
     "output_type": "stream",
     "text": [
      "../az_model_cd/GRS_SavedModel/GRSOpt_none/2009/best_optimizer_epoch_118.pt\n",
      "Epoch 119 of 200\n"
     ]
    },
    {
     "name": "stderr",
     "output_type": "stream",
     "text": [
      "0it [00:00, ?it/s]\n",
      "100%|██████████| 1/1 [00:00<00:00, 167.10it/s]\n"
     ]
    },
    {
     "name": "stdout",
     "output_type": "stream",
     "text": [
      "Train Loss: nan, Train Acc: nan\n",
      "Val Loss: 0.1214, Val Acc: 0.9595\n",
      "Validation loss decreased (0.121355 --> 0.121355).  Saving model ...\n",
      "../az_model_cd/GRS_SavedModel/GRSModel_none/2009/best_model_epoch_119.pt\n"
     ]
    },
    {
     "name": "stderr",
     "output_type": "stream",
     "text": [
      "\r",
      "0it [00:00, ?it/s]"
     ]
    },
    {
     "name": "stdout",
     "output_type": "stream",
     "text": [
      "../az_model_cd/GRS_SavedModel/GRSOpt_none/2009/best_optimizer_epoch_119.pt\n",
      "Epoch 120 of 200\n"
     ]
    },
    {
     "name": "stderr",
     "output_type": "stream",
     "text": [
      "0it [00:00, ?it/s]\n",
      "100%|██████████| 1/1 [00:00<00:00, 169.76it/s]\n"
     ]
    },
    {
     "name": "stdout",
     "output_type": "stream",
     "text": [
      "Train Loss: nan, Train Acc: nan\n",
      "Val Loss: 0.1214, Val Acc: 0.9595\n",
      "Validation loss decreased (0.121355 --> 0.121355).  Saving model ...\n",
      "../az_model_cd/GRS_SavedModel/GRSModel_none/2009/best_model_epoch_120.pt\n"
     ]
    },
    {
     "name": "stderr",
     "output_type": "stream",
     "text": [
      "\r",
      "0it [00:00, ?it/s]"
     ]
    },
    {
     "name": "stdout",
     "output_type": "stream",
     "text": [
      "../az_model_cd/GRS_SavedModel/GRSOpt_none/2009/best_optimizer_epoch_120.pt\n",
      "Epoch 121 of 200\n"
     ]
    },
    {
     "name": "stderr",
     "output_type": "stream",
     "text": [
      "0it [00:00, ?it/s]\n",
      "100%|██████████| 1/1 [00:00<00:00, 159.55it/s]\n"
     ]
    },
    {
     "name": "stdout",
     "output_type": "stream",
     "text": [
      "Train Loss: nan, Train Acc: nan\n",
      "Val Loss: 0.1214, Val Acc: 0.9595\n",
      "Validation loss decreased (0.121355 --> 0.121355).  Saving model ...\n",
      "../az_model_cd/GRS_SavedModel/GRSModel_none/2009/best_model_epoch_121.pt\n"
     ]
    },
    {
     "name": "stderr",
     "output_type": "stream",
     "text": [
      "\r",
      "0it [00:00, ?it/s]"
     ]
    },
    {
     "name": "stdout",
     "output_type": "stream",
     "text": [
      "../az_model_cd/GRS_SavedModel/GRSOpt_none/2009/best_optimizer_epoch_121.pt\n",
      "Epoch 122 of 200\n"
     ]
    },
    {
     "name": "stderr",
     "output_type": "stream",
     "text": [
      "0it [00:00, ?it/s]\n",
      "100%|██████████| 1/1 [00:00<00:00, 167.42it/s]\n"
     ]
    },
    {
     "name": "stdout",
     "output_type": "stream",
     "text": [
      "Train Loss: nan, Train Acc: nan\n",
      "Val Loss: 0.1214, Val Acc: 0.9595\n",
      "Validation loss decreased (0.121355 --> 0.121355).  Saving model ...\n",
      "../az_model_cd/GRS_SavedModel/GRSModel_none/2009/best_model_epoch_122.pt\n"
     ]
    },
    {
     "name": "stderr",
     "output_type": "stream",
     "text": [
      "\r",
      "0it [00:00, ?it/s]"
     ]
    },
    {
     "name": "stdout",
     "output_type": "stream",
     "text": [
      "../az_model_cd/GRS_SavedModel/GRSOpt_none/2009/best_optimizer_epoch_122.pt\n",
      "Epoch 123 of 200\n"
     ]
    },
    {
     "name": "stderr",
     "output_type": "stream",
     "text": [
      "0it [00:00, ?it/s]\n",
      "100%|██████████| 1/1 [00:00<00:00, 169.64it/s]\n"
     ]
    },
    {
     "name": "stdout",
     "output_type": "stream",
     "text": [
      "Train Loss: nan, Train Acc: nan\n",
      "Val Loss: 0.1214, Val Acc: 0.9595\n",
      "Validation loss decreased (0.121355 --> 0.121355).  Saving model ...\n",
      "../az_model_cd/GRS_SavedModel/GRSModel_none/2009/best_model_epoch_123.pt\n"
     ]
    },
    {
     "name": "stderr",
     "output_type": "stream",
     "text": [
      "\r",
      "0it [00:00, ?it/s]"
     ]
    },
    {
     "name": "stdout",
     "output_type": "stream",
     "text": [
      "../az_model_cd/GRS_SavedModel/GRSOpt_none/2009/best_optimizer_epoch_123.pt\n",
      "Epoch 124 of 200\n"
     ]
    },
    {
     "name": "stderr",
     "output_type": "stream",
     "text": [
      "0it [00:00, ?it/s]\n",
      "100%|██████████| 1/1 [00:00<00:00, 170.16it/s]\n"
     ]
    },
    {
     "name": "stdout",
     "output_type": "stream",
     "text": [
      "Train Loss: nan, Train Acc: nan\n",
      "Val Loss: 0.1214, Val Acc: 0.9595\n",
      "Validation loss decreased (0.121355 --> 0.121355).  Saving model ...\n",
      "../az_model_cd/GRS_SavedModel/GRSModel_none/2009/best_model_epoch_124.pt\n"
     ]
    },
    {
     "name": "stderr",
     "output_type": "stream",
     "text": [
      "\r",
      "0it [00:00, ?it/s]"
     ]
    },
    {
     "name": "stdout",
     "output_type": "stream",
     "text": [
      "../az_model_cd/GRS_SavedModel/GRSOpt_none/2009/best_optimizer_epoch_124.pt\n",
      "Epoch 125 of 200\n"
     ]
    },
    {
     "name": "stderr",
     "output_type": "stream",
     "text": [
      "0it [00:00, ?it/s]\n",
      "100%|██████████| 1/1 [00:00<00:00, 167.10it/s]\n"
     ]
    },
    {
     "name": "stdout",
     "output_type": "stream",
     "text": [
      "Train Loss: nan, Train Acc: nan\n",
      "Val Loss: 0.1214, Val Acc: 0.9595\n",
      "Validation loss decreased (0.121355 --> 0.121355).  Saving model ...\n",
      "../az_model_cd/GRS_SavedModel/GRSModel_none/2009/best_model_epoch_125.pt\n"
     ]
    },
    {
     "name": "stderr",
     "output_type": "stream",
     "text": [
      "\r",
      "0it [00:00, ?it/s]"
     ]
    },
    {
     "name": "stdout",
     "output_type": "stream",
     "text": [
      "../az_model_cd/GRS_SavedModel/GRSOpt_none/2009/best_optimizer_epoch_125.pt\n",
      "Epoch 126 of 200\n"
     ]
    },
    {
     "name": "stderr",
     "output_type": "stream",
     "text": [
      "0it [00:00, ?it/s]\n",
      "100%|██████████| 1/1 [00:00<00:00, 183.63it/s]\n"
     ]
    },
    {
     "name": "stdout",
     "output_type": "stream",
     "text": [
      "Train Loss: nan, Train Acc: nan\n",
      "Val Loss: 0.1214, Val Acc: 0.9595\n",
      "Validation loss decreased (0.121355 --> 0.121355).  Saving model ...\n",
      "../az_model_cd/GRS_SavedModel/GRSModel_none/2009/best_model_epoch_126.pt\n"
     ]
    },
    {
     "name": "stderr",
     "output_type": "stream",
     "text": [
      "\r",
      "0it [00:00, ?it/s]"
     ]
    },
    {
     "name": "stdout",
     "output_type": "stream",
     "text": [
      "../az_model_cd/GRS_SavedModel/GRSOpt_none/2009/best_optimizer_epoch_126.pt\n",
      "Epoch 127 of 200\n"
     ]
    },
    {
     "name": "stderr",
     "output_type": "stream",
     "text": [
      "0it [00:00, ?it/s]\n",
      "100%|██████████| 1/1 [00:00<00:00, 170.35it/s]\n"
     ]
    },
    {
     "name": "stdout",
     "output_type": "stream",
     "text": [
      "Train Loss: nan, Train Acc: nan\n",
      "Val Loss: 0.1214, Val Acc: 0.9595\n",
      "Validation loss decreased (0.121355 --> 0.121355).  Saving model ...\n",
      "../az_model_cd/GRS_SavedModel/GRSModel_none/2009/best_model_epoch_127.pt\n"
     ]
    },
    {
     "name": "stderr",
     "output_type": "stream",
     "text": [
      "\r",
      "0it [00:00, ?it/s]"
     ]
    },
    {
     "name": "stdout",
     "output_type": "stream",
     "text": [
      "../az_model_cd/GRS_SavedModel/GRSOpt_none/2009/best_optimizer_epoch_127.pt\n",
      "Epoch 128 of 200\n"
     ]
    },
    {
     "name": "stderr",
     "output_type": "stream",
     "text": [
      "0it [00:00, ?it/s]\n",
      "100%|██████████| 1/1 [00:00<00:00, 166.00it/s]\n"
     ]
    },
    {
     "name": "stdout",
     "output_type": "stream",
     "text": [
      "Train Loss: nan, Train Acc: nan\n",
      "Val Loss: 0.1214, Val Acc: 0.9595\n",
      "Validation loss decreased (0.121355 --> 0.121355).  Saving model ...\n",
      "../az_model_cd/GRS_SavedModel/GRSModel_none/2009/best_model_epoch_128.pt\n"
     ]
    },
    {
     "name": "stderr",
     "output_type": "stream",
     "text": [
      "\r",
      "0it [00:00, ?it/s]"
     ]
    },
    {
     "name": "stdout",
     "output_type": "stream",
     "text": [
      "../az_model_cd/GRS_SavedModel/GRSOpt_none/2009/best_optimizer_epoch_128.pt\n",
      "Epoch 129 of 200\n"
     ]
    },
    {
     "name": "stderr",
     "output_type": "stream",
     "text": [
      "0it [00:00, ?it/s]\n",
      "100%|██████████| 1/1 [00:00<00:00, 158.85it/s]\n"
     ]
    },
    {
     "name": "stdout",
     "output_type": "stream",
     "text": [
      "Train Loss: nan, Train Acc: nan\n",
      "Val Loss: 0.1214, Val Acc: 0.9595\n",
      "Validation loss decreased (0.121355 --> 0.121355).  Saving model ...\n",
      "../az_model_cd/GRS_SavedModel/GRSModel_none/2009/best_model_epoch_129.pt\n",
      "../az_model_cd/GRS_SavedModel/GRSOpt_none/2009/best_optimizer_epoch_129.pt\n"
     ]
    },
    {
     "name": "stderr",
     "output_type": "stream",
     "text": [
      "\r",
      "0it [00:00, ?it/s]"
     ]
    },
    {
     "name": "stdout",
     "output_type": "stream",
     "text": [
      "Epoch 130 of 200\n"
     ]
    },
    {
     "name": "stderr",
     "output_type": "stream",
     "text": [
      "0it [00:00, ?it/s]\n",
      "100%|██████████| 1/1 [00:00<00:00, 177.20it/s]\n"
     ]
    },
    {
     "name": "stdout",
     "output_type": "stream",
     "text": [
      "Train Loss: nan, Train Acc: nan\n",
      "Val Loss: 0.1214, Val Acc: 0.9595\n",
      "Validation loss decreased (0.121355 --> 0.121355).  Saving model ...\n",
      "../az_model_cd/GRS_SavedModel/GRSModel_none/2009/best_model_epoch_130.pt\n",
      "../az_model_cd/GRS_SavedModel/GRSOpt_none/2009/best_optimizer_epoch_130.pt\n"
     ]
    },
    {
     "name": "stderr",
     "output_type": "stream",
     "text": [
      "\r",
      "0it [00:00, ?it/s]"
     ]
    },
    {
     "name": "stdout",
     "output_type": "stream",
     "text": [
      "Epoch 131 of 200\n"
     ]
    },
    {
     "name": "stderr",
     "output_type": "stream",
     "text": [
      "0it [00:00, ?it/s]\n",
      "100%|██████████| 1/1 [00:00<00:00, 179.03it/s]\n"
     ]
    },
    {
     "name": "stdout",
     "output_type": "stream",
     "text": [
      "Train Loss: nan, Train Acc: nan\n",
      "Val Loss: 0.1214, Val Acc: 0.9595\n",
      "Validation loss decreased (0.121355 --> 0.121355).  Saving model ...\n",
      "../az_model_cd/GRS_SavedModel/GRSModel_none/2009/best_model_epoch_131.pt\n"
     ]
    },
    {
     "name": "stderr",
     "output_type": "stream",
     "text": [
      "\r",
      "0it [00:00, ?it/s]"
     ]
    },
    {
     "name": "stdout",
     "output_type": "stream",
     "text": [
      "../az_model_cd/GRS_SavedModel/GRSOpt_none/2009/best_optimizer_epoch_131.pt\n",
      "Epoch 132 of 200\n"
     ]
    },
    {
     "name": "stderr",
     "output_type": "stream",
     "text": [
      "0it [00:00, ?it/s]\n",
      "100%|██████████| 1/1 [00:00<00:00, 146.77it/s]\n"
     ]
    },
    {
     "name": "stdout",
     "output_type": "stream",
     "text": [
      "Train Loss: nan, Train Acc: nan\n",
      "Val Loss: 0.1214, Val Acc: 0.9595\n",
      "Validation loss decreased (0.121355 --> 0.121355).  Saving model ...\n",
      "../az_model_cd/GRS_SavedModel/GRSModel_none/2009/best_model_epoch_132.pt\n"
     ]
    },
    {
     "name": "stderr",
     "output_type": "stream",
     "text": [
      "\r",
      "0it [00:00, ?it/s]"
     ]
    },
    {
     "name": "stdout",
     "output_type": "stream",
     "text": [
      "../az_model_cd/GRS_SavedModel/GRSOpt_none/2009/best_optimizer_epoch_132.pt\n",
      "Epoch 133 of 200\n"
     ]
    },
    {
     "name": "stderr",
     "output_type": "stream",
     "text": [
      "0it [00:00, ?it/s]\n",
      "100%|██████████| 1/1 [00:00<00:00, 146.09it/s]\n"
     ]
    },
    {
     "name": "stdout",
     "output_type": "stream",
     "text": [
      "Train Loss: nan, Train Acc: nan\n",
      "Val Loss: 0.1214, Val Acc: 0.9595\n",
      "Validation loss decreased (0.121355 --> 0.121355).  Saving model ...\n",
      "../az_model_cd/GRS_SavedModel/GRSModel_none/2009/best_model_epoch_133.pt\n"
     ]
    },
    {
     "name": "stderr",
     "output_type": "stream",
     "text": [
      "\r",
      "0it [00:00, ?it/s]"
     ]
    },
    {
     "name": "stdout",
     "output_type": "stream",
     "text": [
      "../az_model_cd/GRS_SavedModel/GRSOpt_none/2009/best_optimizer_epoch_133.pt\n",
      "Epoch 134 of 200\n"
     ]
    },
    {
     "name": "stderr",
     "output_type": "stream",
     "text": [
      "0it [00:00, ?it/s]\n",
      "100%|██████████| 1/1 [00:00<00:00, 146.65it/s]\n"
     ]
    },
    {
     "name": "stdout",
     "output_type": "stream",
     "text": [
      "Train Loss: nan, Train Acc: nan\n",
      "Val Loss: 0.1214, Val Acc: 0.9595\n",
      "Validation loss decreased (0.121355 --> 0.121355).  Saving model ...\n",
      "../az_model_cd/GRS_SavedModel/GRSModel_none/2009/best_model_epoch_134.pt\n",
      "../az_model_cd/GRS_SavedModel/GRSOpt_none/2009/best_optimizer_epoch_134.pt\n"
     ]
    },
    {
     "name": "stderr",
     "output_type": "stream",
     "text": [
      "\r",
      "0it [00:00, ?it/s]"
     ]
    },
    {
     "name": "stdout",
     "output_type": "stream",
     "text": [
      "Epoch 135 of 200\n"
     ]
    },
    {
     "name": "stderr",
     "output_type": "stream",
     "text": [
      "0it [00:00, ?it/s]\n",
      "100%|██████████| 1/1 [00:00<00:00, 145.16it/s]\n"
     ]
    },
    {
     "name": "stdout",
     "output_type": "stream",
     "text": [
      "Train Loss: nan, Train Acc: nan\n",
      "Val Loss: 0.1214, Val Acc: 0.9595\n",
      "Validation loss decreased (0.121355 --> 0.121355).  Saving model ...\n",
      "../az_model_cd/GRS_SavedModel/GRSModel_none/2009/best_model_epoch_135.pt\n"
     ]
    },
    {
     "name": "stderr",
     "output_type": "stream",
     "text": [
      "\r",
      "0it [00:00, ?it/s]"
     ]
    },
    {
     "name": "stdout",
     "output_type": "stream",
     "text": [
      "../az_model_cd/GRS_SavedModel/GRSOpt_none/2009/best_optimizer_epoch_135.pt\n",
      "Epoch 136 of 200\n"
     ]
    },
    {
     "name": "stderr",
     "output_type": "stream",
     "text": [
      "0it [00:00, ?it/s]\n",
      "100%|██████████| 1/1 [00:00<00:00, 139.45it/s]\n"
     ]
    },
    {
     "name": "stdout",
     "output_type": "stream",
     "text": [
      "Train Loss: nan, Train Acc: nan\n",
      "Val Loss: 0.1214, Val Acc: 0.9595\n",
      "Validation loss decreased (0.121355 --> 0.121355).  Saving model ...\n",
      "../az_model_cd/GRS_SavedModel/GRSModel_none/2009/best_model_epoch_136.pt\n"
     ]
    },
    {
     "name": "stderr",
     "output_type": "stream",
     "text": [
      "\r",
      "0it [00:00, ?it/s]"
     ]
    },
    {
     "name": "stdout",
     "output_type": "stream",
     "text": [
      "../az_model_cd/GRS_SavedModel/GRSOpt_none/2009/best_optimizer_epoch_136.pt\n",
      "Epoch 137 of 200\n"
     ]
    },
    {
     "name": "stderr",
     "output_type": "stream",
     "text": [
      "0it [00:00, ?it/s]\n",
      "100%|██████████| 1/1 [00:00<00:00, 140.32it/s]\n"
     ]
    },
    {
     "name": "stdout",
     "output_type": "stream",
     "text": [
      "Train Loss: nan, Train Acc: nan\n",
      "Val Loss: 0.1214, Val Acc: 0.9595\n",
      "Validation loss decreased (0.121355 --> 0.121355).  Saving model ...\n",
      "../az_model_cd/GRS_SavedModel/GRSModel_none/2009/best_model_epoch_137.pt\n"
     ]
    },
    {
     "name": "stderr",
     "output_type": "stream",
     "text": [
      "\r",
      "0it [00:00, ?it/s]"
     ]
    },
    {
     "name": "stdout",
     "output_type": "stream",
     "text": [
      "../az_model_cd/GRS_SavedModel/GRSOpt_none/2009/best_optimizer_epoch_137.pt\n",
      "Epoch 138 of 200\n"
     ]
    },
    {
     "name": "stderr",
     "output_type": "stream",
     "text": [
      "0it [00:00, ?it/s]\n",
      "100%|██████████| 1/1 [00:00<00:00, 147.36it/s]\n"
     ]
    },
    {
     "name": "stdout",
     "output_type": "stream",
     "text": [
      "Train Loss: nan, Train Acc: nan\n",
      "Val Loss: 0.1214, Val Acc: 0.9595\n",
      "Validation loss decreased (0.121355 --> 0.121355).  Saving model ...\n",
      "../az_model_cd/GRS_SavedModel/GRSModel_none/2009/best_model_epoch_138.pt\n"
     ]
    },
    {
     "name": "stderr",
     "output_type": "stream",
     "text": [
      "\r",
      "0it [00:00, ?it/s]"
     ]
    },
    {
     "name": "stdout",
     "output_type": "stream",
     "text": [
      "../az_model_cd/GRS_SavedModel/GRSOpt_none/2009/best_optimizer_epoch_138.pt\n",
      "Epoch 139 of 200\n"
     ]
    },
    {
     "name": "stderr",
     "output_type": "stream",
     "text": [
      "0it [00:00, ?it/s]\n",
      "100%|██████████| 1/1 [00:00<00:00, 146.52it/s]\n"
     ]
    },
    {
     "name": "stdout",
     "output_type": "stream",
     "text": [
      "Train Loss: nan, Train Acc: nan\n",
      "Val Loss: 0.1214, Val Acc: 0.9595\n",
      "Validation loss decreased (0.121355 --> 0.121355).  Saving model ...\n",
      "../az_model_cd/GRS_SavedModel/GRSModel_none/2009/best_model_epoch_139.pt\n",
      "../az_model_cd/GRS_SavedModel/GRSOpt_none/2009/best_optimizer_epoch_139.pt\n"
     ]
    },
    {
     "name": "stderr",
     "output_type": "stream",
     "text": [
      "\r",
      "0it [00:00, ?it/s]"
     ]
    },
    {
     "name": "stdout",
     "output_type": "stream",
     "text": [
      "Epoch 140 of 200\n"
     ]
    },
    {
     "name": "stderr",
     "output_type": "stream",
     "text": [
      "0it [00:00, ?it/s]\n",
      "100%|██████████| 1/1 [00:00<00:00, 138.22it/s]\n"
     ]
    },
    {
     "name": "stdout",
     "output_type": "stream",
     "text": [
      "Train Loss: nan, Train Acc: nan\n",
      "Val Loss: 0.1214, Val Acc: 0.9595\n",
      "Validation loss decreased (0.121355 --> 0.121355).  Saving model ...\n",
      "../az_model_cd/GRS_SavedModel/GRSModel_none/2009/best_model_epoch_140.pt\n"
     ]
    },
    {
     "name": "stderr",
     "output_type": "stream",
     "text": [
      "\r",
      "0it [00:00, ?it/s]"
     ]
    },
    {
     "name": "stdout",
     "output_type": "stream",
     "text": [
      "../az_model_cd/GRS_SavedModel/GRSOpt_none/2009/best_optimizer_epoch_140.pt\n",
      "Epoch 141 of 200\n"
     ]
    },
    {
     "name": "stderr",
     "output_type": "stream",
     "text": [
      "0it [00:00, ?it/s]\n",
      "100%|██████████| 1/1 [00:00<00:00, 154.46it/s]\n"
     ]
    },
    {
     "name": "stdout",
     "output_type": "stream",
     "text": [
      "Train Loss: nan, Train Acc: nan\n",
      "Val Loss: 0.1214, Val Acc: 0.9595\n",
      "Validation loss decreased (0.121355 --> 0.121355).  Saving model ...\n",
      "../az_model_cd/GRS_SavedModel/GRSModel_none/2009/best_model_epoch_141.pt\n"
     ]
    },
    {
     "name": "stderr",
     "output_type": "stream",
     "text": [
      "\r",
      "0it [00:00, ?it/s]"
     ]
    },
    {
     "name": "stdout",
     "output_type": "stream",
     "text": [
      "../az_model_cd/GRS_SavedModel/GRSOpt_none/2009/best_optimizer_epoch_141.pt\n",
      "Epoch 142 of 200\n"
     ]
    },
    {
     "name": "stderr",
     "output_type": "stream",
     "text": [
      "0it [00:00, ?it/s]\n",
      "100%|██████████| 1/1 [00:00<00:00, 148.96it/s]\n"
     ]
    },
    {
     "name": "stdout",
     "output_type": "stream",
     "text": [
      "Train Loss: nan, Train Acc: nan\n",
      "Val Loss: 0.1214, Val Acc: 0.9595\n",
      "Validation loss decreased (0.121355 --> 0.121355).  Saving model ...\n",
      "../az_model_cd/GRS_SavedModel/GRSModel_none/2009/best_model_epoch_142.pt\n",
      "../az_model_cd/GRS_SavedModel/GRSOpt_none/2009/best_optimizer_epoch_142.pt"
     ]
    },
    {
     "name": "stderr",
     "output_type": "stream",
     "text": [
      "\r",
      "0it [00:00, ?it/s]"
     ]
    },
    {
     "name": "stdout",
     "output_type": "stream",
     "text": [
      "\n",
      "Epoch 143 of 200\n"
     ]
    },
    {
     "name": "stderr",
     "output_type": "stream",
     "text": [
      "0it [00:00, ?it/s]\n",
      "100%|██████████| 1/1 [00:00<00:00, 144.10it/s]\n"
     ]
    },
    {
     "name": "stdout",
     "output_type": "stream",
     "text": [
      "Train Loss: nan, Train Acc: nan\n",
      "Val Loss: 0.1214, Val Acc: 0.9595\n",
      "Validation loss decreased (0.121355 --> 0.121355).  Saving model ...\n",
      "../az_model_cd/GRS_SavedModel/GRSModel_none/2009/best_model_epoch_143.pt\n"
     ]
    },
    {
     "name": "stderr",
     "output_type": "stream",
     "text": [
      "\r",
      "0it [00:00, ?it/s]"
     ]
    },
    {
     "name": "stdout",
     "output_type": "stream",
     "text": [
      "../az_model_cd/GRS_SavedModel/GRSOpt_none/2009/best_optimizer_epoch_143.pt\n",
      "Epoch 144 of 200\n"
     ]
    },
    {
     "name": "stderr",
     "output_type": "stream",
     "text": [
      "0it [00:00, ?it/s]\n",
      "100%|██████████| 1/1 [00:00<00:00, 164.48it/s]\n"
     ]
    },
    {
     "name": "stdout",
     "output_type": "stream",
     "text": [
      "Train Loss: nan, Train Acc: nan\n",
      "Val Loss: 0.1214, Val Acc: 0.9595\n",
      "Validation loss decreased (0.121355 --> 0.121355).  Saving model ...\n",
      "../az_model_cd/GRS_SavedModel/GRSModel_none/2009/best_model_epoch_144.pt\n",
      "../az_model_cd/GRS_SavedModel/GRSOpt_none/2009/best_optimizer_epoch_144.pt\n"
     ]
    },
    {
     "name": "stderr",
     "output_type": "stream",
     "text": [
      "\r",
      "0it [00:00, ?it/s]"
     ]
    },
    {
     "name": "stdout",
     "output_type": "stream",
     "text": [
      "Epoch 145 of 200\n"
     ]
    },
    {
     "name": "stderr",
     "output_type": "stream",
     "text": [
      "0it [00:00, ?it/s]\n",
      "100%|██████████| 1/1 [00:00<00:00, 157.78it/s]\n"
     ]
    },
    {
     "name": "stdout",
     "output_type": "stream",
     "text": [
      "Train Loss: nan, Train Acc: nan\n",
      "Val Loss: 0.1214, Val Acc: 0.9595\n",
      "Validation loss decreased (0.121355 --> 0.121355).  Saving model ...\n",
      "../az_model_cd/GRS_SavedModel/GRSModel_none/2009/best_model_epoch_145.pt\n"
     ]
    },
    {
     "name": "stderr",
     "output_type": "stream",
     "text": [
      "\r",
      "0it [00:00, ?it/s]"
     ]
    },
    {
     "name": "stdout",
     "output_type": "stream",
     "text": [
      "../az_model_cd/GRS_SavedModel/GRSOpt_none/2009/best_optimizer_epoch_145.pt\n",
      "Epoch 146 of 200\n"
     ]
    },
    {
     "name": "stderr",
     "output_type": "stream",
     "text": [
      "0it [00:00, ?it/s]\n",
      "100%|██████████| 1/1 [00:00<00:00, 181.75it/s]\n"
     ]
    },
    {
     "name": "stdout",
     "output_type": "stream",
     "text": [
      "Train Loss: nan, Train Acc: nan\n",
      "Val Loss: 0.1214, Val Acc: 0.9595\n",
      "Validation loss decreased (0.121355 --> 0.121355).  Saving model ...\n",
      "../az_model_cd/GRS_SavedModel/GRSModel_none/2009/best_model_epoch_146.pt\n",
      "../az_model_cd/GRS_SavedModel/GRSOpt_none/2009/best_optimizer_epoch_146.pt\n"
     ]
    },
    {
     "name": "stderr",
     "output_type": "stream",
     "text": [
      "\r",
      "0it [00:00, ?it/s]"
     ]
    },
    {
     "name": "stdout",
     "output_type": "stream",
     "text": [
      "Epoch 147 of 200\n"
     ]
    },
    {
     "name": "stderr",
     "output_type": "stream",
     "text": [
      "0it [00:00, ?it/s]\n",
      "100%|██████████| 1/1 [00:00<00:00, 166.79it/s]\n"
     ]
    },
    {
     "name": "stdout",
     "output_type": "stream",
     "text": [
      "Train Loss: nan, Train Acc: nan\n",
      "Val Loss: 0.1214, Val Acc: 0.9595\n",
      "Validation loss decreased (0.121355 --> 0.121355).  Saving model ...\n",
      "../az_model_cd/GRS_SavedModel/GRSModel_none/2009/best_model_epoch_147.pt\n"
     ]
    },
    {
     "name": "stderr",
     "output_type": "stream",
     "text": [
      "\r",
      "0it [00:00, ?it/s]"
     ]
    },
    {
     "name": "stdout",
     "output_type": "stream",
     "text": [
      "../az_model_cd/GRS_SavedModel/GRSOpt_none/2009/best_optimizer_epoch_147.pt\n",
      "Epoch 148 of 200\n"
     ]
    },
    {
     "name": "stderr",
     "output_type": "stream",
     "text": [
      "0it [00:00, ?it/s]\n",
      "100%|██████████| 1/1 [00:00<00:00, 168.91it/s]\n"
     ]
    },
    {
     "name": "stdout",
     "output_type": "stream",
     "text": [
      "Train Loss: nan, Train Acc: nan\n",
      "Val Loss: 0.1214, Val Acc: 0.9595\n",
      "Validation loss decreased (0.121355 --> 0.121355).  Saving model ...\n",
      "../az_model_cd/GRS_SavedModel/GRSModel_none/2009/best_model_epoch_148.pt\n"
     ]
    },
    {
     "name": "stderr",
     "output_type": "stream",
     "text": [
      "\r",
      "0it [00:00, ?it/s]"
     ]
    },
    {
     "name": "stdout",
     "output_type": "stream",
     "text": [
      "../az_model_cd/GRS_SavedModel/GRSOpt_none/2009/best_optimizer_epoch_148.pt\n",
      "Epoch 149 of 200\n"
     ]
    },
    {
     "name": "stderr",
     "output_type": "stream",
     "text": [
      "0it [00:00, ?it/s]\n",
      "100%|██████████| 1/1 [00:00<00:00, 167.57it/s]\n"
     ]
    },
    {
     "name": "stdout",
     "output_type": "stream",
     "text": [
      "Train Loss: nan, Train Acc: nan\n",
      "Val Loss: 0.1214, Val Acc: 0.9595\n",
      "Validation loss decreased (0.121355 --> 0.121355).  Saving model ...\n",
      "../az_model_cd/GRS_SavedModel/GRSModel_none/2009/best_model_epoch_149.pt\n"
     ]
    },
    {
     "name": "stderr",
     "output_type": "stream",
     "text": [
      "\r",
      "0it [00:00, ?it/s]"
     ]
    },
    {
     "name": "stdout",
     "output_type": "stream",
     "text": [
      "../az_model_cd/GRS_SavedModel/GRSOpt_none/2009/best_optimizer_epoch_149.pt\n",
      "Epoch 150 of 200\n"
     ]
    },
    {
     "name": "stderr",
     "output_type": "stream",
     "text": [
      "0it [00:00, ?it/s]\n",
      "100%|██████████| 1/1 [00:00<00:00, 159.73it/s]\n"
     ]
    },
    {
     "name": "stdout",
     "output_type": "stream",
     "text": [
      "Train Loss: nan, Train Acc: nan\n",
      "Val Loss: 0.1214, Val Acc: 0.9595\n",
      "Validation loss decreased (0.121355 --> 0.121355).  Saving model ...\n",
      "../az_model_cd/GRS_SavedModel/GRSModel_none/2009/best_model_epoch_150.pt\n"
     ]
    },
    {
     "name": "stderr",
     "output_type": "stream",
     "text": [
      "\r",
      "0it [00:00, ?it/s]"
     ]
    },
    {
     "name": "stdout",
     "output_type": "stream",
     "text": [
      "../az_model_cd/GRS_SavedModel/GRSOpt_none/2009/best_optimizer_epoch_150.pt\n",
      "Epoch 151 of 200\n"
     ]
    },
    {
     "name": "stderr",
     "output_type": "stream",
     "text": [
      "0it [00:00, ?it/s]\n",
      "100%|██████████| 1/1 [00:00<00:00, 168.83it/s]\n"
     ]
    },
    {
     "name": "stdout",
     "output_type": "stream",
     "text": [
      "Train Loss: nan, Train Acc: nan\n",
      "Val Loss: 0.1214, Val Acc: 0.9595\n",
      "Validation loss decreased (0.121355 --> 0.121355).  Saving model ...\n",
      "../az_model_cd/GRS_SavedModel/GRSModel_none/2009/best_model_epoch_151.pt\n"
     ]
    },
    {
     "name": "stderr",
     "output_type": "stream",
     "text": [
      "\r",
      "0it [00:00, ?it/s]"
     ]
    },
    {
     "name": "stdout",
     "output_type": "stream",
     "text": [
      "../az_model_cd/GRS_SavedModel/GRSOpt_none/2009/best_optimizer_epoch_151.pt\n",
      "Epoch 152 of 200\n"
     ]
    },
    {
     "name": "stderr",
     "output_type": "stream",
     "text": [
      "0it [00:00, ?it/s]\n",
      "100%|██████████| 1/1 [00:00<00:00, 168.99it/s]\n"
     ]
    },
    {
     "name": "stdout",
     "output_type": "stream",
     "text": [
      "Train Loss: nan, Train Acc: nan\n",
      "Val Loss: 0.1214, Val Acc: 0.9595\n",
      "Validation loss decreased (0.121355 --> 0.121355).  Saving model ...\n",
      "../az_model_cd/GRS_SavedModel/GRSModel_none/2009/best_model_epoch_152.pt\n"
     ]
    },
    {
     "name": "stderr",
     "output_type": "stream",
     "text": [
      "\r",
      "0it [00:00, ?it/s]"
     ]
    },
    {
     "name": "stdout",
     "output_type": "stream",
     "text": [
      "../az_model_cd/GRS_SavedModel/GRSOpt_none/2009/best_optimizer_epoch_152.pt\n",
      "Epoch 153 of 200\n"
     ]
    },
    {
     "name": "stderr",
     "output_type": "stream",
     "text": [
      "0it [00:00, ?it/s]\n",
      "100%|██████████| 1/1 [00:00<00:00, 159.18it/s]\n"
     ]
    },
    {
     "name": "stdout",
     "output_type": "stream",
     "text": [
      "Train Loss: nan, Train Acc: nan\n",
      "Val Loss: 0.1214, Val Acc: 0.9595\n",
      "Validation loss decreased (0.121355 --> 0.121355).  Saving model ...\n",
      "../az_model_cd/GRS_SavedModel/GRSModel_none/2009/best_model_epoch_153.pt\n"
     ]
    },
    {
     "name": "stderr",
     "output_type": "stream",
     "text": [
      "\r",
      "0it [00:00, ?it/s]"
     ]
    },
    {
     "name": "stdout",
     "output_type": "stream",
     "text": [
      "../az_model_cd/GRS_SavedModel/GRSOpt_none/2009/best_optimizer_epoch_153.pt\n",
      "Epoch 154 of 200\n"
     ]
    },
    {
     "name": "stderr",
     "output_type": "stream",
     "text": [
      "0it [00:00, ?it/s]\n",
      "100%|██████████| 1/1 [00:00<00:00, 167.25it/s]\n"
     ]
    },
    {
     "name": "stdout",
     "output_type": "stream",
     "text": [
      "Train Loss: nan, Train Acc: nan\n",
      "Val Loss: 0.1214, Val Acc: 0.9595\n",
      "Validation loss decreased (0.121355 --> 0.121355).  Saving model ...\n",
      "../az_model_cd/GRS_SavedModel/GRSModel_none/2009/best_model_epoch_154.pt\n"
     ]
    },
    {
     "name": "stderr",
     "output_type": "stream",
     "text": [
      "\r",
      "0it [00:00, ?it/s]"
     ]
    },
    {
     "name": "stdout",
     "output_type": "stream",
     "text": [
      "../az_model_cd/GRS_SavedModel/GRSOpt_none/2009/best_optimizer_epoch_154.pt\n",
      "Epoch 155 of 200\n"
     ]
    },
    {
     "name": "stderr",
     "output_type": "stream",
     "text": [
      "0it [00:00, ?it/s]\n",
      "100%|██████████| 1/1 [00:00<00:00, 170.81it/s]\n"
     ]
    },
    {
     "name": "stdout",
     "output_type": "stream",
     "text": [
      "Train Loss: nan, Train Acc: nan\n",
      "Val Loss: 0.1214, Val Acc: 0.9595\n",
      "Validation loss decreased (0.121355 --> 0.121355).  Saving model ...\n",
      "../az_model_cd/GRS_SavedModel/GRSModel_none/2009/best_model_epoch_155.pt\n"
     ]
    },
    {
     "name": "stderr",
     "output_type": "stream",
     "text": [
      "\r",
      "0it [00:00, ?it/s]"
     ]
    },
    {
     "name": "stdout",
     "output_type": "stream",
     "text": [
      "../az_model_cd/GRS_SavedModel/GRSOpt_none/2009/best_optimizer_epoch_155.pt\n",
      "Epoch 156 of 200\n"
     ]
    },
    {
     "name": "stderr",
     "output_type": "stream",
     "text": [
      "0it [00:00, ?it/s]\n",
      "100%|██████████| 1/1 [00:00<00:00, 166.82it/s]\n"
     ]
    },
    {
     "name": "stdout",
     "output_type": "stream",
     "text": [
      "Train Loss: nan, Train Acc: nan\n",
      "Val Loss: 0.1214, Val Acc: 0.9595\n",
      "Validation loss decreased (0.121355 --> 0.121355).  Saving model ...\n",
      "../az_model_cd/GRS_SavedModel/GRSModel_none/2009/best_model_epoch_156.pt\n"
     ]
    },
    {
     "name": "stderr",
     "output_type": "stream",
     "text": [
      "\r",
      "0it [00:00, ?it/s]"
     ]
    },
    {
     "name": "stdout",
     "output_type": "stream",
     "text": [
      "../az_model_cd/GRS_SavedModel/GRSOpt_none/2009/best_optimizer_epoch_156.pt\n",
      "Epoch 157 of 200\n"
     ]
    },
    {
     "name": "stderr",
     "output_type": "stream",
     "text": [
      "0it [00:00, ?it/s]\n",
      "100%|██████████| 1/1 [00:00<00:00, 164.44it/s]\n"
     ]
    },
    {
     "name": "stdout",
     "output_type": "stream",
     "text": [
      "Train Loss: nan, Train Acc: nan\n",
      "Val Loss: 0.1214, Val Acc: 0.9595\n",
      "Validation loss decreased (0.121355 --> 0.121355).  Saving model ...\n",
      "../az_model_cd/GRS_SavedModel/GRSModel_none/2009/best_model_epoch_157.pt\n"
     ]
    },
    {
     "name": "stderr",
     "output_type": "stream",
     "text": [
      "\r",
      "0it [00:00, ?it/s]"
     ]
    },
    {
     "name": "stdout",
     "output_type": "stream",
     "text": [
      "../az_model_cd/GRS_SavedModel/GRSOpt_none/2009/best_optimizer_epoch_157.pt\n",
      "Epoch 158 of 200\n"
     ]
    },
    {
     "name": "stderr",
     "output_type": "stream",
     "text": [
      "0it [00:00, ?it/s]\n",
      "100%|██████████| 1/1 [00:00<00:00, 167.42it/s]\n"
     ]
    },
    {
     "name": "stdout",
     "output_type": "stream",
     "text": [
      "Train Loss: nan, Train Acc: nan\n",
      "Val Loss: 0.1214, Val Acc: 0.9595\n",
      "Validation loss decreased (0.121355 --> 0.121355).  Saving model ...\n",
      "../az_model_cd/GRS_SavedModel/GRSModel_none/2009/best_model_epoch_158.pt\n"
     ]
    },
    {
     "name": "stderr",
     "output_type": "stream",
     "text": [
      "\r",
      "0it [00:00, ?it/s]"
     ]
    },
    {
     "name": "stdout",
     "output_type": "stream",
     "text": [
      "../az_model_cd/GRS_SavedModel/GRSOpt_none/2009/best_optimizer_epoch_158.pt\n",
      "Epoch 159 of 200\n"
     ]
    },
    {
     "name": "stderr",
     "output_type": "stream",
     "text": [
      "0it [00:00, ?it/s]\n",
      "100%|██████████| 1/1 [00:00<00:00, 171.11it/s]\n"
     ]
    },
    {
     "name": "stdout",
     "output_type": "stream",
     "text": [
      "Train Loss: nan, Train Acc: nan\n",
      "Val Loss: 0.1214, Val Acc: 0.9595\n",
      "Validation loss decreased (0.121355 --> 0.121355).  Saving model ...\n",
      "../az_model_cd/GRS_SavedModel/GRSModel_none/2009/best_model_epoch_159.pt\n"
     ]
    },
    {
     "name": "stderr",
     "output_type": "stream",
     "text": [
      "\r",
      "0it [00:00, ?it/s]"
     ]
    },
    {
     "name": "stdout",
     "output_type": "stream",
     "text": [
      "../az_model_cd/GRS_SavedModel/GRSOpt_none/2009/best_optimizer_epoch_159.pt\n",
      "Epoch 160 of 200\n"
     ]
    },
    {
     "name": "stderr",
     "output_type": "stream",
     "text": [
      "0it [00:00, ?it/s]\n",
      "100%|██████████| 1/1 [00:00<00:00, 167.98it/s]\n"
     ]
    },
    {
     "name": "stdout",
     "output_type": "stream",
     "text": [
      "Train Loss: nan, Train Acc: nan\n",
      "Val Loss: 0.1214, Val Acc: 0.9595\n",
      "Validation loss decreased (0.121355 --> 0.121355).  Saving model ...\n",
      "../az_model_cd/GRS_SavedModel/GRSModel_none/2009/best_model_epoch_160.pt\n",
      "../az_model_cd/GRS_SavedModel/GRSOpt_none/2009/best_optimizer_epoch_160.pt"
     ]
    },
    {
     "name": "stderr",
     "output_type": "stream",
     "text": [
      "\r",
      "0it [00:00, ?it/s]"
     ]
    },
    {
     "name": "stdout",
     "output_type": "stream",
     "text": [
      "\n",
      "Epoch 161 of 200\n"
     ]
    },
    {
     "name": "stderr",
     "output_type": "stream",
     "text": [
      "0it [00:00, ?it/s]\n",
      "100%|██████████| 1/1 [00:00<00:00, 163.27it/s]\n"
     ]
    },
    {
     "name": "stdout",
     "output_type": "stream",
     "text": [
      "Train Loss: nan, Train Acc: nan\n",
      "Val Loss: 0.1214, Val Acc: 0.9595\n",
      "Validation loss decreased (0.121355 --> 0.121355).  Saving model ...\n",
      "../az_model_cd/GRS_SavedModel/GRSModel_none/2009/best_model_epoch_161.pt\n"
     ]
    },
    {
     "name": "stderr",
     "output_type": "stream",
     "text": [
      "\r",
      "0it [00:00, ?it/s]"
     ]
    },
    {
     "name": "stdout",
     "output_type": "stream",
     "text": [
      "../az_model_cd/GRS_SavedModel/GRSOpt_none/2009/best_optimizer_epoch_161.pt\n",
      "Epoch 162 of 200\n"
     ]
    },
    {
     "name": "stderr",
     "output_type": "stream",
     "text": [
      "0it [00:00, ?it/s]\n",
      "100%|██████████| 1/1 [00:00<00:00, 165.78it/s]\n"
     ]
    },
    {
     "name": "stdout",
     "output_type": "stream",
     "text": [
      "Train Loss: nan, Train Acc: nan\n",
      "Val Loss: 0.1214, Val Acc: 0.9595\n",
      "Validation loss decreased (0.121355 --> 0.121355).  Saving model ...\n",
      "../az_model_cd/GRS_SavedModel/GRSModel_none/2009/best_model_epoch_162.pt\n"
     ]
    },
    {
     "name": "stderr",
     "output_type": "stream",
     "text": [
      "\r",
      "0it [00:00, ?it/s]"
     ]
    },
    {
     "name": "stdout",
     "output_type": "stream",
     "text": [
      "../az_model_cd/GRS_SavedModel/GRSOpt_none/2009/best_optimizer_epoch_162.pt\n",
      "Epoch 163 of 200\n"
     ]
    },
    {
     "name": "stderr",
     "output_type": "stream",
     "text": [
      "0it [00:00, ?it/s]\n",
      "100%|██████████| 1/1 [00:00<00:00, 168.73it/s]\n"
     ]
    },
    {
     "name": "stdout",
     "output_type": "stream",
     "text": [
      "Train Loss: nan, Train Acc: nan\n",
      "Val Loss: 0.1214, Val Acc: 0.9595\n",
      "Validation loss decreased (0.121355 --> 0.121355).  Saving model ...\n",
      "../az_model_cd/GRS_SavedModel/GRSModel_none/2009/best_model_epoch_163.pt\n",
      "../az_model_cd/GRS_SavedModel/GRSOpt_none/2009/best_optimizer_epoch_163.pt\n"
     ]
    },
    {
     "name": "stderr",
     "output_type": "stream",
     "text": [
      "\r",
      "0it [00:00, ?it/s]"
     ]
    },
    {
     "name": "stdout",
     "output_type": "stream",
     "text": [
      "Epoch 164 of 200\n"
     ]
    },
    {
     "name": "stderr",
     "output_type": "stream",
     "text": [
      "0it [00:00, ?it/s]\n",
      "100%|██████████| 1/1 [00:00<00:00, 166.88it/s]\n"
     ]
    },
    {
     "name": "stdout",
     "output_type": "stream",
     "text": [
      "Train Loss: nan, Train Acc: nan\n",
      "Val Loss: 0.1214, Val Acc: 0.9595\n",
      "Validation loss decreased (0.121355 --> 0.121355).  Saving model ...\n",
      "../az_model_cd/GRS_SavedModel/GRSModel_none/2009/best_model_epoch_164.pt\n",
      "../az_model_cd/GRS_SavedModel/GRSOpt_none/2009/best_optimizer_epoch_164.pt\n"
     ]
    },
    {
     "name": "stderr",
     "output_type": "stream",
     "text": [
      "\r",
      "0it [00:00, ?it/s]"
     ]
    },
    {
     "name": "stdout",
     "output_type": "stream",
     "text": [
      "Epoch 165 of 200\n"
     ]
    },
    {
     "name": "stderr",
     "output_type": "stream",
     "text": [
      "0it [00:00, ?it/s]\n",
      "100%|██████████| 1/1 [00:00<00:00, 179.61it/s]\n"
     ]
    },
    {
     "name": "stdout",
     "output_type": "stream",
     "text": [
      "Train Loss: nan, Train Acc: nan\n",
      "Val Loss: 0.1214, Val Acc: 0.9595\n",
      "Validation loss decreased (0.121355 --> 0.121355).  Saving model ...\n",
      "../az_model_cd/GRS_SavedModel/GRSModel_none/2009/best_model_epoch_165.pt\n"
     ]
    },
    {
     "name": "stderr",
     "output_type": "stream",
     "text": [
      "\r",
      "0it [00:00, ?it/s]"
     ]
    },
    {
     "name": "stdout",
     "output_type": "stream",
     "text": [
      "../az_model_cd/GRS_SavedModel/GRSOpt_none/2009/best_optimizer_epoch_165.pt\n",
      "Epoch 166 of 200\n"
     ]
    },
    {
     "name": "stderr",
     "output_type": "stream",
     "text": [
      "0it [00:00, ?it/s]\n",
      "100%|██████████| 1/1 [00:00<00:00, 144.11it/s]\n"
     ]
    },
    {
     "name": "stdout",
     "output_type": "stream",
     "text": [
      "Train Loss: nan, Train Acc: nan\n",
      "Val Loss: 0.1214, Val Acc: 0.9595\n",
      "Validation loss decreased (0.121355 --> 0.121355).  Saving model ...\n",
      "../az_model_cd/GRS_SavedModel/GRSModel_none/2009/best_model_epoch_166.pt\n",
      "../az_model_cd/GRS_SavedModel/GRSOpt_none/2009/best_optimizer_epoch_166.pt\n"
     ]
    },
    {
     "name": "stderr",
     "output_type": "stream",
     "text": [
      "\r",
      "0it [00:00, ?it/s]"
     ]
    },
    {
     "name": "stdout",
     "output_type": "stream",
     "text": [
      "Epoch 167 of 200\n"
     ]
    },
    {
     "name": "stderr",
     "output_type": "stream",
     "text": [
      "0it [00:00, ?it/s]\n",
      "100%|██████████| 1/1 [00:00<00:00, 146.08it/s]\n"
     ]
    },
    {
     "name": "stdout",
     "output_type": "stream",
     "text": [
      "Train Loss: nan, Train Acc: nan\n",
      "Val Loss: 0.1214, Val Acc: 0.9595\n",
      "Validation loss decreased (0.121355 --> 0.121355).  Saving model ...\n",
      "../az_model_cd/GRS_SavedModel/GRSModel_none/2009/best_model_epoch_167.pt\n",
      "../az_model_cd/GRS_SavedModel/GRSOpt_none/2009/best_optimizer_epoch_167.pt\n"
     ]
    },
    {
     "name": "stderr",
     "output_type": "stream",
     "text": [
      "\r",
      "0it [00:00, ?it/s]"
     ]
    },
    {
     "name": "stdout",
     "output_type": "stream",
     "text": [
      "Epoch 168 of 200\n"
     ]
    },
    {
     "name": "stderr",
     "output_type": "stream",
     "text": [
      "0it [00:00, ?it/s]\n",
      "100%|██████████| 1/1 [00:00<00:00, 142.78it/s]\n"
     ]
    },
    {
     "name": "stdout",
     "output_type": "stream",
     "text": [
      "Train Loss: nan, Train Acc: nan\n",
      "Val Loss: 0.1214, Val Acc: 0.9595\n",
      "Validation loss decreased (0.121355 --> 0.121355).  Saving model ...\n",
      "../az_model_cd/GRS_SavedModel/GRSModel_none/2009/best_model_epoch_168.pt\n"
     ]
    },
    {
     "name": "stderr",
     "output_type": "stream",
     "text": [
      "\r",
      "0it [00:00, ?it/s]"
     ]
    },
    {
     "name": "stdout",
     "output_type": "stream",
     "text": [
      "../az_model_cd/GRS_SavedModel/GRSOpt_none/2009/best_optimizer_epoch_168.pt\n",
      "Epoch 169 of 200\n"
     ]
    },
    {
     "name": "stderr",
     "output_type": "stream",
     "text": [
      "0it [00:00, ?it/s]\n",
      "100%|██████████| 1/1 [00:00<00:00, 140.70it/s]\n"
     ]
    },
    {
     "name": "stdout",
     "output_type": "stream",
     "text": [
      "Train Loss: nan, Train Acc: nan\n",
      "Val Loss: 0.1214, Val Acc: 0.9595\n",
      "Validation loss decreased (0.121355 --> 0.121355).  Saving model ...\n",
      "../az_model_cd/GRS_SavedModel/GRSModel_none/2009/best_model_epoch_169.pt\n"
     ]
    },
    {
     "name": "stderr",
     "output_type": "stream",
     "text": [
      "\r",
      "0it [00:00, ?it/s]"
     ]
    },
    {
     "name": "stdout",
     "output_type": "stream",
     "text": [
      "../az_model_cd/GRS_SavedModel/GRSOpt_none/2009/best_optimizer_epoch_169.pt\n",
      "Epoch 170 of 200\n"
     ]
    },
    {
     "name": "stderr",
     "output_type": "stream",
     "text": [
      "0it [00:00, ?it/s]\n",
      "100%|██████████| 1/1 [00:00<00:00, 178.73it/s]\n"
     ]
    },
    {
     "name": "stdout",
     "output_type": "stream",
     "text": [
      "Train Loss: nan, Train Acc: nan\n",
      "Val Loss: 0.1214, Val Acc: 0.9595\n",
      "Validation loss decreased (0.121355 --> 0.121355).  Saving model ...\n",
      "../az_model_cd/GRS_SavedModel/GRSModel_none/2009/best_model_epoch_170.pt\n"
     ]
    },
    {
     "name": "stderr",
     "output_type": "stream",
     "text": [
      "\r",
      "0it [00:00, ?it/s]"
     ]
    },
    {
     "name": "stdout",
     "output_type": "stream",
     "text": [
      "../az_model_cd/GRS_SavedModel/GRSOpt_none/2009/best_optimizer_epoch_170.pt\n",
      "Epoch 171 of 200\n"
     ]
    },
    {
     "name": "stderr",
     "output_type": "stream",
     "text": [
      "0it [00:00, ?it/s]\n",
      "100%|██████████| 1/1 [00:00<00:00, 178.89it/s]\n"
     ]
    },
    {
     "name": "stdout",
     "output_type": "stream",
     "text": [
      "Train Loss: nan, Train Acc: nan\n",
      "Val Loss: 0.1214, Val Acc: 0.9595\n",
      "Validation loss decreased (0.121355 --> 0.121355).  Saving model ...\n",
      "../az_model_cd/GRS_SavedModel/GRSModel_none/2009/best_model_epoch_171.pt\n",
      "../az_model_cd/GRS_SavedModel/GRSOpt_none/2009/best_optimizer_epoch_171.pt\n"
     ]
    },
    {
     "name": "stderr",
     "output_type": "stream",
     "text": [
      "\r",
      "0it [00:00, ?it/s]"
     ]
    },
    {
     "name": "stdout",
     "output_type": "stream",
     "text": [
      "Epoch 172 of 200\n"
     ]
    },
    {
     "name": "stderr",
     "output_type": "stream",
     "text": [
      "0it [00:00, ?it/s]\n",
      "100%|██████████| 1/1 [00:00<00:00, 167.16it/s]\n"
     ]
    },
    {
     "name": "stdout",
     "output_type": "stream",
     "text": [
      "Train Loss: nan, Train Acc: nan\n",
      "Val Loss: 0.1214, Val Acc: 0.9595\n",
      "Validation loss decreased (0.121355 --> 0.121355).  Saving model ...\n",
      "../az_model_cd/GRS_SavedModel/GRSModel_none/2009/best_model_epoch_172.pt\n"
     ]
    },
    {
     "name": "stderr",
     "output_type": "stream",
     "text": [
      "\r",
      "0it [00:00, ?it/s]"
     ]
    },
    {
     "name": "stdout",
     "output_type": "stream",
     "text": [
      "../az_model_cd/GRS_SavedModel/GRSOpt_none/2009/best_optimizer_epoch_172.pt\n",
      "Epoch 173 of 200\n"
     ]
    },
    {
     "name": "stderr",
     "output_type": "stream",
     "text": [
      "0it [00:00, ?it/s]\n",
      "100%|██████████| 1/1 [00:00<00:00, 167.71it/s]\n"
     ]
    },
    {
     "name": "stdout",
     "output_type": "stream",
     "text": [
      "Train Loss: nan, Train Acc: nan\n",
      "Val Loss: 0.1214, Val Acc: 0.9595\n",
      "Validation loss decreased (0.121355 --> 0.121355).  Saving model ...\n",
      "../az_model_cd/GRS_SavedModel/GRSModel_none/2009/best_model_epoch_173.pt\n",
      "../az_model_cd/GRS_SavedModel/GRSOpt_none/2009/best_optimizer_epoch_173.pt\n"
     ]
    },
    {
     "name": "stderr",
     "output_type": "stream",
     "text": [
      "\r",
      "0it [00:00, ?it/s]"
     ]
    },
    {
     "name": "stdout",
     "output_type": "stream",
     "text": [
      "Epoch 174 of 200\n"
     ]
    },
    {
     "name": "stderr",
     "output_type": "stream",
     "text": [
      "0it [00:00, ?it/s]\n",
      "100%|██████████| 1/1 [00:00<00:00, 169.68it/s]"
     ]
    },
    {
     "name": "stdout",
     "output_type": "stream",
     "text": [
      "Train Loss: nan, Train Acc: nan\n",
      "Val Loss: 0.1214, Val Acc: 0.9595\n",
      "Validation loss decreased (0.121355 --> 0.121355).  Saving model ...\n",
      "../az_model_cd/GRS_SavedModel/GRSModel_none/2009/best_model_epoch_174.pt\n"
     ]
    },
    {
     "name": "stderr",
     "output_type": "stream",
     "text": [
      "\n",
      "\r",
      "0it [00:00, ?it/s]"
     ]
    },
    {
     "name": "stdout",
     "output_type": "stream",
     "text": [
      "../az_model_cd/GRS_SavedModel/GRSOpt_none/2009/best_optimizer_epoch_174.pt\n",
      "Epoch 175 of 200\n"
     ]
    },
    {
     "name": "stderr",
     "output_type": "stream",
     "text": [
      "0it [00:00, ?it/s]\n",
      "100%|██████████| 1/1 [00:00<00:00, 143.24it/s]\n"
     ]
    },
    {
     "name": "stdout",
     "output_type": "stream",
     "text": [
      "Train Loss: nan, Train Acc: nan\n",
      "Val Loss: 0.1214, Val Acc: 0.9595\n",
      "Validation loss decreased (0.121355 --> 0.121355).  Saving model ...\n",
      "../az_model_cd/GRS_SavedModel/GRSModel_none/2009/best_model_epoch_175.pt\n",
      "../az_model_cd/GRS_SavedModel/GRSOpt_none/2009/best_optimizer_epoch_175.pt\n"
     ]
    },
    {
     "name": "stderr",
     "output_type": "stream",
     "text": [
      "\r",
      "0it [00:00, ?it/s]"
     ]
    },
    {
     "name": "stdout",
     "output_type": "stream",
     "text": [
      "Epoch 176 of 200\n"
     ]
    },
    {
     "name": "stderr",
     "output_type": "stream",
     "text": [
      "0it [00:00, ?it/s]\n",
      "100%|██████████| 1/1 [00:00<00:00, 148.58it/s]\n"
     ]
    },
    {
     "name": "stdout",
     "output_type": "stream",
     "text": [
      "Train Loss: nan, Train Acc: nan\n",
      "Val Loss: 0.1214, Val Acc: 0.9595\n",
      "Validation loss decreased (0.121355 --> 0.121355).  Saving model ...\n",
      "../az_model_cd/GRS_SavedModel/GRSModel_none/2009/best_model_epoch_176.pt\n"
     ]
    },
    {
     "name": "stderr",
     "output_type": "stream",
     "text": [
      "\r",
      "0it [00:00, ?it/s]"
     ]
    },
    {
     "name": "stdout",
     "output_type": "stream",
     "text": [
      "../az_model_cd/GRS_SavedModel/GRSOpt_none/2009/best_optimizer_epoch_176.pt\n",
      "Epoch 177 of 200\n"
     ]
    },
    {
     "name": "stderr",
     "output_type": "stream",
     "text": [
      "0it [00:00, ?it/s]\n",
      "100%|██████████| 1/1 [00:00<00:00, 149.48it/s]\n"
     ]
    },
    {
     "name": "stdout",
     "output_type": "stream",
     "text": [
      "Train Loss: nan, Train Acc: nan\n",
      "Val Loss: 0.1214, Val Acc: 0.9595\n",
      "Validation loss decreased (0.121355 --> 0.121355).  Saving model ...\n",
      "../az_model_cd/GRS_SavedModel/GRSModel_none/2009/best_model_epoch_177.pt\n"
     ]
    },
    {
     "name": "stderr",
     "output_type": "stream",
     "text": [
      "\r",
      "0it [00:00, ?it/s]"
     ]
    },
    {
     "name": "stdout",
     "output_type": "stream",
     "text": [
      "../az_model_cd/GRS_SavedModel/GRSOpt_none/2009/best_optimizer_epoch_177.pt\n",
      "Epoch 178 of 200\n"
     ]
    },
    {
     "name": "stderr",
     "output_type": "stream",
     "text": [
      "0it [00:00, ?it/s]\n",
      "100%|██████████| 1/1 [00:00<00:00, 144.90it/s]\n"
     ]
    },
    {
     "name": "stdout",
     "output_type": "stream",
     "text": [
      "Train Loss: nan, Train Acc: nan\n",
      "Val Loss: 0.1214, Val Acc: 0.9595\n",
      "Validation loss decreased (0.121355 --> 0.121355).  Saving model ...\n",
      "../az_model_cd/GRS_SavedModel/GRSModel_none/2009/best_model_epoch_178.pt\n"
     ]
    },
    {
     "name": "stderr",
     "output_type": "stream",
     "text": [
      "\r",
      "0it [00:00, ?it/s]"
     ]
    },
    {
     "name": "stdout",
     "output_type": "stream",
     "text": [
      "../az_model_cd/GRS_SavedModel/GRSOpt_none/2009/best_optimizer_epoch_178.pt\n",
      "Epoch 179 of 200\n"
     ]
    },
    {
     "name": "stderr",
     "output_type": "stream",
     "text": [
      "0it [00:00, ?it/s]\n",
      "100%|██████████| 1/1 [00:00<00:00, 153.49it/s]\n"
     ]
    },
    {
     "name": "stdout",
     "output_type": "stream",
     "text": [
      "Train Loss: nan, Train Acc: nan\n",
      "Val Loss: 0.1214, Val Acc: 0.9595\n",
      "Validation loss decreased (0.121355 --> 0.121355).  Saving model ...\n",
      "../az_model_cd/GRS_SavedModel/GRSModel_none/2009/best_model_epoch_179.pt\n"
     ]
    },
    {
     "name": "stderr",
     "output_type": "stream",
     "text": [
      "\r",
      "0it [00:00, ?it/s]"
     ]
    },
    {
     "name": "stdout",
     "output_type": "stream",
     "text": [
      "../az_model_cd/GRS_SavedModel/GRSOpt_none/2009/best_optimizer_epoch_179.pt\n",
      "Epoch 180 of 200\n"
     ]
    },
    {
     "name": "stderr",
     "output_type": "stream",
     "text": [
      "0it [00:00, ?it/s]\n",
      "100%|██████████| 1/1 [00:00<00:00, 145.04it/s]\n"
     ]
    },
    {
     "name": "stdout",
     "output_type": "stream",
     "text": [
      "Train Loss: nan, Train Acc: nan\n",
      "Val Loss: 0.1214, Val Acc: 0.9595\n",
      "Validation loss decreased (0.121355 --> 0.121355).  Saving model ...\n",
      "../az_model_cd/GRS_SavedModel/GRSModel_none/2009/best_model_epoch_180.pt\n"
     ]
    },
    {
     "name": "stderr",
     "output_type": "stream",
     "text": [
      "\r",
      "0it [00:00, ?it/s]"
     ]
    },
    {
     "name": "stdout",
     "output_type": "stream",
     "text": [
      "../az_model_cd/GRS_SavedModel/GRSOpt_none/2009/best_optimizer_epoch_180.pt\n",
      "Epoch 181 of 200\n"
     ]
    },
    {
     "name": "stderr",
     "output_type": "stream",
     "text": [
      "0it [00:00, ?it/s]\n",
      "100%|██████████| 1/1 [00:00<00:00, 146.92it/s]\n"
     ]
    },
    {
     "name": "stdout",
     "output_type": "stream",
     "text": [
      "Train Loss: nan, Train Acc: nan\n",
      "Val Loss: 0.1214, Val Acc: 0.9595\n",
      "Validation loss decreased (0.121355 --> 0.121355).  Saving model ...\n",
      "../az_model_cd/GRS_SavedModel/GRSModel_none/2009/best_model_epoch_181.pt\n"
     ]
    },
    {
     "name": "stderr",
     "output_type": "stream",
     "text": [
      "\r",
      "0it [00:00, ?it/s]"
     ]
    },
    {
     "name": "stdout",
     "output_type": "stream",
     "text": [
      "../az_model_cd/GRS_SavedModel/GRSOpt_none/2009/best_optimizer_epoch_181.pt\n",
      "Epoch 182 of 200\n"
     ]
    },
    {
     "name": "stderr",
     "output_type": "stream",
     "text": [
      "0it [00:00, ?it/s]\n",
      "100%|██████████| 1/1 [00:00<00:00, 144.09it/s]\n"
     ]
    },
    {
     "name": "stdout",
     "output_type": "stream",
     "text": [
      "Train Loss: nan, Train Acc: nan\n",
      "Val Loss: 0.1214, Val Acc: 0.9595\n",
      "Validation loss decreased (0.121355 --> 0.121355).  Saving model ...\n",
      "../az_model_cd/GRS_SavedModel/GRSModel_none/2009/best_model_epoch_182.pt\n",
      "../az_model_cd/GRS_SavedModel/GRSOpt_none/2009/best_optimizer_epoch_182.pt\n"
     ]
    },
    {
     "name": "stderr",
     "output_type": "stream",
     "text": [
      "\r",
      "0it [00:00, ?it/s]"
     ]
    },
    {
     "name": "stdout",
     "output_type": "stream",
     "text": [
      "Epoch 183 of 200\n"
     ]
    },
    {
     "name": "stderr",
     "output_type": "stream",
     "text": [
      "0it [00:00, ?it/s]\n",
      "100%|██████████| 1/1 [00:00<00:00, 178.13it/s]\n"
     ]
    },
    {
     "name": "stdout",
     "output_type": "stream",
     "text": [
      "Train Loss: nan, Train Acc: nan\n",
      "Val Loss: 0.1214, Val Acc: 0.9595\n",
      "Validation loss decreased (0.121355 --> 0.121355).  Saving model ...\n",
      "../az_model_cd/GRS_SavedModel/GRSModel_none/2009/best_model_epoch_183.pt\n",
      "../az_model_cd/GRS_SavedModel/GRSOpt_none/2009/best_optimizer_epoch_183.pt\n"
     ]
    },
    {
     "name": "stderr",
     "output_type": "stream",
     "text": [
      "\r",
      "0it [00:00, ?it/s]"
     ]
    },
    {
     "name": "stdout",
     "output_type": "stream",
     "text": [
      "Epoch 184 of 200\n"
     ]
    },
    {
     "name": "stderr",
     "output_type": "stream",
     "text": [
      "0it [00:00, ?it/s]\n",
      "100%|██████████| 1/1 [00:00<00:00, 166.09it/s]\n"
     ]
    },
    {
     "name": "stdout",
     "output_type": "stream",
     "text": [
      "Train Loss: nan, Train Acc: nan\n",
      "Val Loss: 0.1214, Val Acc: 0.9595\n",
      "Validation loss decreased (0.121355 --> 0.121355).  Saving model ...\n",
      "../az_model_cd/GRS_SavedModel/GRSModel_none/2009/best_model_epoch_184.pt\n"
     ]
    },
    {
     "name": "stderr",
     "output_type": "stream",
     "text": [
      "\r",
      "0it [00:00, ?it/s]"
     ]
    },
    {
     "name": "stdout",
     "output_type": "stream",
     "text": [
      "../az_model_cd/GRS_SavedModel/GRSOpt_none/2009/best_optimizer_epoch_184.pt\n",
      "Epoch 185 of 200\n"
     ]
    },
    {
     "name": "stderr",
     "output_type": "stream",
     "text": [
      "0it [00:00, ?it/s]\n",
      "100%|██████████| 1/1 [00:00<00:00, 159.45it/s]\n"
     ]
    },
    {
     "name": "stdout",
     "output_type": "stream",
     "text": [
      "Train Loss: nan, Train Acc: nan\n",
      "Val Loss: 0.1214, Val Acc: 0.9595\n",
      "Validation loss decreased (0.121355 --> 0.121355).  Saving model ...\n",
      "../az_model_cd/GRS_SavedModel/GRSModel_none/2009/best_model_epoch_185.pt\n"
     ]
    },
    {
     "name": "stderr",
     "output_type": "stream",
     "text": [
      "\r",
      "0it [00:00, ?it/s]"
     ]
    },
    {
     "name": "stdout",
     "output_type": "stream",
     "text": [
      "../az_model_cd/GRS_SavedModel/GRSOpt_none/2009/best_optimizer_epoch_185.pt\n",
      "Epoch 186 of 200\n"
     ]
    },
    {
     "name": "stderr",
     "output_type": "stream",
     "text": [
      "0it [00:00, ?it/s]\n",
      "100%|██████████| 1/1 [00:00<00:00, 188.31it/s]\n"
     ]
    },
    {
     "name": "stdout",
     "output_type": "stream",
     "text": [
      "Train Loss: nan, Train Acc: nan\n",
      "Val Loss: 0.1214, Val Acc: 0.9595\n",
      "Validation loss decreased (0.121355 --> 0.121355).  Saving model ...\n",
      "../az_model_cd/GRS_SavedModel/GRSModel_none/2009/best_model_epoch_186.pt\n"
     ]
    },
    {
     "name": "stderr",
     "output_type": "stream",
     "text": [
      "\r",
      "0it [00:00, ?it/s]"
     ]
    },
    {
     "name": "stdout",
     "output_type": "stream",
     "text": [
      "../az_model_cd/GRS_SavedModel/GRSOpt_none/2009/best_optimizer_epoch_186.pt\n",
      "Epoch 187 of 200\n"
     ]
    },
    {
     "name": "stderr",
     "output_type": "stream",
     "text": [
      "0it [00:00, ?it/s]\n",
      "100%|██████████| 1/1 [00:00<00:00, 177.27it/s]\n"
     ]
    },
    {
     "name": "stdout",
     "output_type": "stream",
     "text": [
      "Train Loss: nan, Train Acc: nan\n",
      "Val Loss: 0.1214, Val Acc: 0.9595\n",
      "Validation loss decreased (0.121355 --> 0.121355).  Saving model ...\n",
      "../az_model_cd/GRS_SavedModel/GRSModel_none/2009/best_model_epoch_187.pt\n"
     ]
    },
    {
     "name": "stderr",
     "output_type": "stream",
     "text": [
      "\r",
      "0it [00:00, ?it/s]"
     ]
    },
    {
     "name": "stdout",
     "output_type": "stream",
     "text": [
      "../az_model_cd/GRS_SavedModel/GRSOpt_none/2009/best_optimizer_epoch_187.pt\n",
      "Epoch 188 of 200\n"
     ]
    },
    {
     "name": "stderr",
     "output_type": "stream",
     "text": [
      "0it [00:00, ?it/s]\n",
      "100%|██████████| 1/1 [00:00<00:00, 165.74it/s]\n"
     ]
    },
    {
     "name": "stdout",
     "output_type": "stream",
     "text": [
      "Train Loss: nan, Train Acc: nan\n",
      "Val Loss: 0.1214, Val Acc: 0.9595\n",
      "Validation loss decreased (0.121355 --> 0.121355).  Saving model ...\n",
      "../az_model_cd/GRS_SavedModel/GRSModel_none/2009/best_model_epoch_188.pt\n",
      "../az_model_cd/GRS_SavedModel/GRSOpt_none/2009/best_optimizer_epoch_188.pt"
     ]
    },
    {
     "name": "stderr",
     "output_type": "stream",
     "text": [
      "\r",
      "0it [00:00, ?it/s]"
     ]
    },
    {
     "name": "stdout",
     "output_type": "stream",
     "text": [
      "\n",
      "Epoch 189 of 200\n"
     ]
    },
    {
     "name": "stderr",
     "output_type": "stream",
     "text": [
      "0it [00:00, ?it/s]\n",
      "100%|██████████| 1/1 [00:00<00:00, 168.21it/s]\n"
     ]
    },
    {
     "name": "stdout",
     "output_type": "stream",
     "text": [
      "Train Loss: nan, Train Acc: nan\n",
      "Val Loss: 0.1214, Val Acc: 0.9595\n",
      "Validation loss decreased (0.121355 --> 0.121355).  Saving model ...\n",
      "../az_model_cd/GRS_SavedModel/GRSModel_none/2009/best_model_epoch_189.pt\n"
     ]
    },
    {
     "name": "stderr",
     "output_type": "stream",
     "text": [
      "\r",
      "0it [00:00, ?it/s]"
     ]
    },
    {
     "name": "stdout",
     "output_type": "stream",
     "text": [
      "../az_model_cd/GRS_SavedModel/GRSOpt_none/2009/best_optimizer_epoch_189.pt\n",
      "Epoch 190 of 200\n"
     ]
    },
    {
     "name": "stderr",
     "output_type": "stream",
     "text": [
      "0it [00:00, ?it/s]\n",
      "100%|██████████| 1/1 [00:00<00:00, 165.49it/s]\n"
     ]
    },
    {
     "name": "stdout",
     "output_type": "stream",
     "text": [
      "Train Loss: nan, Train Acc: nan\n",
      "Val Loss: 0.1214, Val Acc: 0.9595\n",
      "Validation loss decreased (0.121355 --> 0.121355).  Saving model ...\n",
      "../az_model_cd/GRS_SavedModel/GRSModel_none/2009/best_model_epoch_190.pt\n"
     ]
    },
    {
     "name": "stderr",
     "output_type": "stream",
     "text": [
      "\r",
      "0it [00:00, ?it/s]"
     ]
    },
    {
     "name": "stdout",
     "output_type": "stream",
     "text": [
      "../az_model_cd/GRS_SavedModel/GRSOpt_none/2009/best_optimizer_epoch_190.pt\n",
      "Epoch 191 of 200\n"
     ]
    },
    {
     "name": "stderr",
     "output_type": "stream",
     "text": [
      "0it [00:00, ?it/s]\n",
      "100%|██████████| 1/1 [00:00<00:00, 167.94it/s]\n"
     ]
    },
    {
     "name": "stdout",
     "output_type": "stream",
     "text": [
      "Train Loss: nan, Train Acc: nan\n",
      "Val Loss: 0.1214, Val Acc: 0.9595\n",
      "Validation loss decreased (0.121355 --> 0.121355).  Saving model ...\n",
      "../az_model_cd/GRS_SavedModel/GRSModel_none/2009/best_model_epoch_191.pt\n"
     ]
    },
    {
     "name": "stderr",
     "output_type": "stream",
     "text": [
      "\r",
      "0it [00:00, ?it/s]"
     ]
    },
    {
     "name": "stdout",
     "output_type": "stream",
     "text": [
      "../az_model_cd/GRS_SavedModel/GRSOpt_none/2009/best_optimizer_epoch_191.pt\n",
      "Epoch 192 of 200\n"
     ]
    },
    {
     "name": "stderr",
     "output_type": "stream",
     "text": [
      "0it [00:00, ?it/s]\n",
      "100%|██████████| 1/1 [00:00<00:00, 165.92it/s]\n"
     ]
    },
    {
     "name": "stdout",
     "output_type": "stream",
     "text": [
      "Train Loss: nan, Train Acc: nan\n",
      "Val Loss: 0.1214, Val Acc: 0.9595\n",
      "Validation loss decreased (0.121355 --> 0.121355).  Saving model ...\n",
      "../az_model_cd/GRS_SavedModel/GRSModel_none/2009/best_model_epoch_192.pt\n"
     ]
    },
    {
     "name": "stderr",
     "output_type": "stream",
     "text": [
      "\r",
      "0it [00:00, ?it/s]"
     ]
    },
    {
     "name": "stdout",
     "output_type": "stream",
     "text": [
      "../az_model_cd/GRS_SavedModel/GRSOpt_none/2009/best_optimizer_epoch_192.pt\n",
      "Epoch 193 of 200\n"
     ]
    },
    {
     "name": "stderr",
     "output_type": "stream",
     "text": [
      "0it [00:00, ?it/s]\n",
      "100%|██████████| 1/1 [00:00<00:00, 152.79it/s]\n"
     ]
    },
    {
     "name": "stdout",
     "output_type": "stream",
     "text": [
      "Train Loss: nan, Train Acc: nan\n",
      "Val Loss: 0.1214, Val Acc: 0.9595\n",
      "Validation loss decreased (0.121355 --> 0.121355).  Saving model ...\n",
      "../az_model_cd/GRS_SavedModel/GRSModel_none/2009/best_model_epoch_193.pt\n"
     ]
    },
    {
     "name": "stderr",
     "output_type": "stream",
     "text": [
      "\r",
      "0it [00:00, ?it/s]"
     ]
    },
    {
     "name": "stdout",
     "output_type": "stream",
     "text": [
      "../az_model_cd/GRS_SavedModel/GRSOpt_none/2009/best_optimizer_epoch_193.pt\n",
      "Epoch 194 of 200\n"
     ]
    },
    {
     "name": "stderr",
     "output_type": "stream",
     "text": [
      "0it [00:00, ?it/s]\n",
      "100%|██████████| 1/1 [00:00<00:00, 168.05it/s]\n"
     ]
    },
    {
     "name": "stdout",
     "output_type": "stream",
     "text": [
      "Train Loss: nan, Train Acc: nan\n",
      "Val Loss: 0.1214, Val Acc: 0.9595\n",
      "Validation loss decreased (0.121355 --> 0.121355).  Saving model ...\n",
      "../az_model_cd/GRS_SavedModel/GRSModel_none/2009/best_model_epoch_194.pt\n"
     ]
    },
    {
     "name": "stderr",
     "output_type": "stream",
     "text": [
      "\r",
      "0it [00:00, ?it/s]"
     ]
    },
    {
     "name": "stdout",
     "output_type": "stream",
     "text": [
      "../az_model_cd/GRS_SavedModel/GRSOpt_none/2009/best_optimizer_epoch_194.pt\n",
      "Epoch 195 of 200\n"
     ]
    },
    {
     "name": "stderr",
     "output_type": "stream",
     "text": [
      "0it [00:00, ?it/s]\n",
      "100%|██████████| 1/1 [00:00<00:00, 168.76it/s]\n"
     ]
    },
    {
     "name": "stdout",
     "output_type": "stream",
     "text": [
      "Train Loss: nan, Train Acc: nan\n",
      "Val Loss: 0.1214, Val Acc: 0.9595\n",
      "Validation loss decreased (0.121355 --> 0.121355).  Saving model ...\n",
      "../az_model_cd/GRS_SavedModel/GRSModel_none/2009/best_model_epoch_195.pt\n"
     ]
    },
    {
     "name": "stderr",
     "output_type": "stream",
     "text": [
      "\r",
      "0it [00:00, ?it/s]"
     ]
    },
    {
     "name": "stdout",
     "output_type": "stream",
     "text": [
      "../az_model_cd/GRS_SavedModel/GRSOpt_none/2009/best_optimizer_epoch_195.pt\n",
      "Epoch 196 of 200\n"
     ]
    },
    {
     "name": "stderr",
     "output_type": "stream",
     "text": [
      "0it [00:00, ?it/s]\n",
      "100%|██████████| 1/1 [00:00<00:00, 177.51it/s]\n"
     ]
    },
    {
     "name": "stdout",
     "output_type": "stream",
     "text": [
      "Train Loss: nan, Train Acc: nan\n",
      "Val Loss: 0.1214, Val Acc: 0.9595\n",
      "Validation loss decreased (0.121355 --> 0.121355).  Saving model ...\n",
      "../az_model_cd/GRS_SavedModel/GRSModel_none/2009/best_model_epoch_196.pt\n"
     ]
    },
    {
     "name": "stderr",
     "output_type": "stream",
     "text": [
      "\r",
      "0it [00:00, ?it/s]"
     ]
    },
    {
     "name": "stdout",
     "output_type": "stream",
     "text": [
      "../az_model_cd/GRS_SavedModel/GRSOpt_none/2009/best_optimizer_epoch_196.pt\n",
      "Epoch 197 of 200\n"
     ]
    },
    {
     "name": "stderr",
     "output_type": "stream",
     "text": [
      "0it [00:00, ?it/s]\n",
      "100%|██████████| 1/1 [00:00<00:00, 165.91it/s]\n"
     ]
    },
    {
     "name": "stdout",
     "output_type": "stream",
     "text": [
      "Train Loss: nan, Train Acc: nan\n",
      "Val Loss: 0.1214, Val Acc: 0.9595\n",
      "Validation loss decreased (0.121355 --> 0.121355).  Saving model ...\n",
      "../az_model_cd/GRS_SavedModel/GRSModel_none/2009/best_model_epoch_197.pt\n",
      "../az_model_cd/GRS_SavedModel/GRSOpt_none/2009/best_optimizer_epoch_197.pt"
     ]
    },
    {
     "name": "stderr",
     "output_type": "stream",
     "text": [
      "\r",
      "0it [00:00, ?it/s]"
     ]
    },
    {
     "name": "stdout",
     "output_type": "stream",
     "text": [
      "\n",
      "Epoch 198 of 200\n"
     ]
    },
    {
     "name": "stderr",
     "output_type": "stream",
     "text": [
      "0it [00:00, ?it/s]\n",
      "100%|██████████| 1/1 [00:00<00:00, 166.80it/s]\n"
     ]
    },
    {
     "name": "stdout",
     "output_type": "stream",
     "text": [
      "Train Loss: nan, Train Acc: nan\n",
      "Val Loss: 0.1214, Val Acc: 0.9595\n",
      "Validation loss decreased (0.121355 --> 0.121355).  Saving model ...\n",
      "../az_model_cd/GRS_SavedModel/GRSModel_none/2009/best_model_epoch_198.pt\n"
     ]
    },
    {
     "name": "stderr",
     "output_type": "stream",
     "text": [
      "\r",
      "0it [00:00, ?it/s]"
     ]
    },
    {
     "name": "stdout",
     "output_type": "stream",
     "text": [
      "../az_model_cd/GRS_SavedModel/GRSOpt_none/2009/best_optimizer_epoch_198.pt\n",
      "Epoch 199 of 200\n"
     ]
    },
    {
     "name": "stderr",
     "output_type": "stream",
     "text": [
      "0it [00:00, ?it/s]\n",
      "100%|██████████| 1/1 [00:00<00:00, 167.68it/s]\n"
     ]
    },
    {
     "name": "stdout",
     "output_type": "stream",
     "text": [
      "Train Loss: nan, Train Acc: nan\n",
      "Val Loss: 0.1214, Val Acc: 0.9595\n",
      "Validation loss decreased (0.121355 --> 0.121355).  Saving model ...\n",
      "../az_model_cd/GRS_SavedModel/GRSModel_none/2009/best_model_epoch_199.pt\n"
     ]
    },
    {
     "name": "stderr",
     "output_type": "stream",
     "text": [
      "\r",
      "0it [00:00, ?it/s]"
     ]
    },
    {
     "name": "stdout",
     "output_type": "stream",
     "text": [
      "../az_model_cd/GRS_SavedModel/GRSOpt_none/2009/best_optimizer_epoch_199.pt\n",
      "Epoch 200 of 200\n"
     ]
    },
    {
     "name": "stderr",
     "output_type": "stream",
     "text": [
      "0it [00:00, ?it/s]\n",
      "100%|██████████| 1/1 [00:00<00:00, 168.03it/s]\n"
     ]
    },
    {
     "name": "stdout",
     "output_type": "stream",
     "text": [
      "Train Loss: nan, Train Acc: nan\n",
      "Val Loss: 0.1214, Val Acc: 0.9595\n",
      "Validation loss decreased (0.121355 --> 0.121355).  Saving model ...\n",
      "../az_model_cd/GRS_SavedModel/GRSModel_none/2009/best_model_epoch_200.pt\n",
      "../az_model_cd/GRS_SavedModel/GRSOpt_none/2009/best_optimizer_epoch_200.pt\n",
      "Training time: 0.588 minutes\n",
      "Elapsed time 1.042407508691152 mins.\n",
      "loading best model ../az_model_cd/GRS_SavedModel/GRSModel_none/2009/best_model_epoch_200.pt\n",
      "loading best optimizer ../az_model_cd/GRS_SavedModel/GRSOpt_none/2009/best_optimizer_epoch_200.pt\n"
     ]
    },
    {
     "name": "stderr",
     "output_type": "stream",
     "text": [
      "100%|██████████| 1/1 [00:00<00:00,  4.15it/s]\n",
      "100%|██████████| 1/1 [00:00<00:00,  7.85it/s]\n",
      "100%|██████████| 1/1 [00:00<00:00,  4.51it/s]\n",
      "100%|██████████| 3/3 [00:00<00:00,  6.18it/s]\n",
      "100%|██████████| 3/3 [00:00<00:00,  5.93it/s]\n",
      "100%|██████████| 3/3 [00:00<00:00,  5.94it/s]\n",
      "100%|██████████| 3/3 [00:00<00:00,  5.89it/s]\n",
      "100%|██████████| 3/3 [00:00<00:00,  5.93it/s]\n",
      "100%|██████████| 3/3 [00:00<00:00,  6.40it/s]\n"
     ]
    },
    {
     "name": "stdout",
     "output_type": "stream",
     "text": [
      "Elapsed time 1.1284751852353414 mins.\n",
      "\n",
      "2024-05-26 22:51:29 Round 1 ...\n",
      "Current Task 2010 with Budget none\n",
      "X_train (30588, 1789) Y_train (30588,)\n",
      "\n",
      "2024-05-26 22:51:29 Standardizing ...\n"
     ]
    },
    {
     "name": "stderr",
     "output_type": "stream",
     "text": [
      "\r",
      "  0%|          | 0/6 [00:00<?, ?it/s]"
     ]
    },
    {
     "name": "stdout",
     "output_type": "stream",
     "text": [
      "2024-05-26 22:51:30 Training ...\n",
      "Epoch 1 of 200\n"
     ]
    },
    {
     "name": "stderr",
     "output_type": "stream",
     "text": [
      "100%|██████████| 6/6 [00:00<00:00,  7.92it/s]\n",
      "100%|██████████| 1/1 [00:00<00:00, 14.22it/s]\n",
      "  0%|          | 0/6 [00:00<?, ?it/s]"
     ]
    },
    {
     "name": "stdout",
     "output_type": "stream",
     "text": [
      "Train Loss: 0.4495, Train Acc: 0.8862\n",
      "Val Loss: 0.1591, Val Acc: 0.9598\n",
      "Validation loss decreased (inf --> 0.159148).  Saving model ...\n",
      "../az_model_cd/GRS_SavedModel/GRSModel_none/2010/best_model_epoch_1.pt\n",
      "../az_model_cd/GRS_SavedModel/GRSOpt_none/2010/best_optimizer_epoch_1.pt\n",
      "Epoch 2 of 200\n"
     ]
    },
    {
     "name": "stderr",
     "output_type": "stream",
     "text": [
      "100%|██████████| 6/6 [00:00<00:00,  7.93it/s]\n",
      "100%|██████████| 1/1 [00:00<00:00, 17.08it/s]\n",
      "  0%|          | 0/6 [00:00<?, ?it/s]"
     ]
    },
    {
     "name": "stdout",
     "output_type": "stream",
     "text": [
      "Train Loss: 0.1755, Train Acc: 0.9418\n",
      "Val Loss: 0.1758, Val Acc: 0.9428\n",
      "EarlyStopping counter: 1 out of 5\n",
      "Epoch 3 of 200\n"
     ]
    },
    {
     "name": "stderr",
     "output_type": "stream",
     "text": [
      "100%|██████████| 6/6 [00:00<00:00,  7.45it/s]\n",
      "100%|██████████| 1/1 [00:00<00:00,  5.71it/s]\n",
      "  0%|          | 0/6 [00:00<?, ?it/s]"
     ]
    },
    {
     "name": "stdout",
     "output_type": "stream",
     "text": [
      "Train Loss: 0.1515, Train Acc: 0.9471\n",
      "Val Loss: 0.1177, Val Acc: 0.9582\n",
      "Validation loss decreased (0.159148 --> 0.117736).  Saving model ...\n",
      "../az_model_cd/GRS_SavedModel/GRSModel_none/2010/best_model_epoch_3.pt\n",
      "../az_model_cd/GRS_SavedModel/GRSOpt_none/2010/best_optimizer_epoch_3.pt\n",
      "Epoch 4 of 200\n"
     ]
    },
    {
     "name": "stderr",
     "output_type": "stream",
     "text": [
      "100%|██████████| 6/6 [00:00<00:00,  8.50it/s]\n",
      "100%|██████████| 1/1 [00:00<00:00, 16.44it/s]\n",
      "  0%|          | 0/6 [00:00<?, ?it/s]"
     ]
    },
    {
     "name": "stdout",
     "output_type": "stream",
     "text": [
      "Train Loss: 0.1257, Train Acc: 0.9607\n",
      "Val Loss: 0.1166, Val Acc: 0.9575\n",
      "Validation loss decreased (0.117736 --> 0.116643).  Saving model ...\n",
      "../az_model_cd/GRS_SavedModel/GRSModel_none/2010/best_model_epoch_4.pt\n",
      "../az_model_cd/GRS_SavedModel/GRSOpt_none/2010/best_optimizer_epoch_4.pt\n",
      "Epoch 5 of 200\n"
     ]
    },
    {
     "name": "stderr",
     "output_type": "stream",
     "text": [
      "100%|██████████| 6/6 [00:00<00:00,  8.14it/s]\n",
      "100%|██████████| 1/1 [00:00<00:00, 16.80it/s]\n",
      "  0%|          | 0/6 [00:00<?, ?it/s]"
     ]
    },
    {
     "name": "stdout",
     "output_type": "stream",
     "text": [
      "Train Loss: 0.1085, Train Acc: 0.9667\n",
      "Val Loss: 0.0982, Val Acc: 0.9634\n",
      "Validation loss decreased (0.116643 --> 0.098195).  Saving model ...\n",
      "../az_model_cd/GRS_SavedModel/GRSModel_none/2010/best_model_epoch_5.pt\n",
      "../az_model_cd/GRS_SavedModel/GRSOpt_none/2010/best_optimizer_epoch_5.pt\n",
      "Epoch 6 of 200\n"
     ]
    },
    {
     "name": "stderr",
     "output_type": "stream",
     "text": [
      "100%|██████████| 6/6 [00:00<00:00,  8.18it/s]\n",
      "100%|██████████| 1/1 [00:00<00:00, 16.87it/s]\n",
      "  0%|          | 0/6 [00:00<?, ?it/s]"
     ]
    },
    {
     "name": "stdout",
     "output_type": "stream",
     "text": [
      "Train Loss: 0.0997, Train Acc: 0.9703\n",
      "Val Loss: 0.1030, Val Acc: 0.9644\n",
      "EarlyStopping counter: 1 out of 5\n",
      "Epoch 7 of 200\n"
     ]
    },
    {
     "name": "stderr",
     "output_type": "stream",
     "text": [
      "100%|██████████| 6/6 [00:00<00:00,  8.06it/s]\n",
      "100%|██████████| 1/1 [00:00<00:00, 16.85it/s]\n",
      "  0%|          | 0/6 [00:00<?, ?it/s]"
     ]
    },
    {
     "name": "stdout",
     "output_type": "stream",
     "text": [
      "Train Loss: 0.0872, Train Acc: 0.9755\n",
      "Val Loss: 0.1005, Val Acc: 0.9686\n",
      "EarlyStopping counter: 2 out of 5\n",
      "Epoch 8 of 200\n"
     ]
    },
    {
     "name": "stderr",
     "output_type": "stream",
     "text": [
      "100%|██████████| 6/6 [00:00<00:00,  8.14it/s]\n",
      "100%|██████████| 1/1 [00:00<00:00, 16.82it/s]\n",
      "  0%|          | 0/6 [00:00<?, ?it/s]"
     ]
    },
    {
     "name": "stdout",
     "output_type": "stream",
     "text": [
      "Train Loss: 0.0819, Train Acc: 0.9768\n",
      "Val Loss: 0.0971, Val Acc: 0.9709\n",
      "Validation loss decreased (0.098195 --> 0.097132).  Saving model ...\n",
      "../az_model_cd/GRS_SavedModel/GRSModel_none/2010/best_model_epoch_8.pt\n",
      "../az_model_cd/GRS_SavedModel/GRSOpt_none/2010/best_optimizer_epoch_8.pt\n",
      "Epoch 9 of 200\n"
     ]
    },
    {
     "name": "stderr",
     "output_type": "stream",
     "text": [
      "100%|██████████| 6/6 [00:00<00:00,  8.05it/s]\n",
      "100%|██████████| 1/1 [00:00<00:00, 16.98it/s]\n",
      "  0%|          | 0/6 [00:00<?, ?it/s]"
     ]
    },
    {
     "name": "stdout",
     "output_type": "stream",
     "text": [
      "Train Loss: 0.0814, Train Acc: 0.9773\n",
      "Val Loss: 0.1067, Val Acc: 0.9676\n",
      "EarlyStopping counter: 1 out of 5\n",
      "Epoch 10 of 200\n"
     ]
    },
    {
     "name": "stderr",
     "output_type": "stream",
     "text": [
      "100%|██████████| 6/6 [00:00<00:00,  8.03it/s]\n",
      "100%|██████████| 1/1 [00:00<00:00,  5.54it/s]\n",
      "  0%|          | 0/6 [00:00<?, ?it/s]"
     ]
    },
    {
     "name": "stdout",
     "output_type": "stream",
     "text": [
      "Train Loss: 0.0745, Train Acc: 0.9788\n",
      "Val Loss: 0.0906, Val Acc: 0.9732\n",
      "Validation loss decreased (0.097132 --> 0.090576).  Saving model ...\n",
      "../az_model_cd/GRS_SavedModel/GRSModel_none/2010/best_model_epoch_10.pt\n",
      "../az_model_cd/GRS_SavedModel/GRSOpt_none/2010/best_optimizer_epoch_10.pt\n",
      "Epoch 11 of 200\n"
     ]
    },
    {
     "name": "stderr",
     "output_type": "stream",
     "text": [
      "100%|██████████| 6/6 [00:00<00:00,  7.77it/s]\n",
      "100%|██████████| 1/1 [00:00<00:00, 15.64it/s]\n",
      "  0%|          | 0/6 [00:00<?, ?it/s]"
     ]
    },
    {
     "name": "stdout",
     "output_type": "stream",
     "text": [
      "Train Loss: 0.0739, Train Acc: 0.9804\n",
      "Val Loss: 0.0862, Val Acc: 0.9745\n",
      "Validation loss decreased (0.090576 --> 0.086200).  Saving model ...\n",
      "../az_model_cd/GRS_SavedModel/GRSModel_none/2010/best_model_epoch_11.pt\n",
      "../az_model_cd/GRS_SavedModel/GRSOpt_none/2010/best_optimizer_epoch_11.pt\n",
      "Epoch 12 of 200\n"
     ]
    },
    {
     "name": "stderr",
     "output_type": "stream",
     "text": [
      "100%|██████████| 6/6 [00:00<00:00,  8.65it/s]\n",
      "100%|██████████| 1/1 [00:00<00:00, 16.37it/s]\n",
      "  0%|          | 0/6 [00:00<?, ?it/s]"
     ]
    },
    {
     "name": "stdout",
     "output_type": "stream",
     "text": [
      "Train Loss: 0.0728, Train Acc: 0.9799\n",
      "Val Loss: 0.0898, Val Acc: 0.9745\n",
      "EarlyStopping counter: 1 out of 5\n",
      "Epoch 13 of 200\n"
     ]
    },
    {
     "name": "stderr",
     "output_type": "stream",
     "text": [
      "100%|██████████| 6/6 [00:00<00:00,  7.78it/s]\n",
      "100%|██████████| 1/1 [00:00<00:00, 16.74it/s]\n",
      "  0%|          | 0/6 [00:00<?, ?it/s]"
     ]
    },
    {
     "name": "stdout",
     "output_type": "stream",
     "text": [
      "Train Loss: 0.0678, Train Acc: 0.9812\n",
      "Val Loss: 0.0820, Val Acc: 0.9748\n",
      "Validation loss decreased (0.086200 --> 0.081979).  Saving model ...\n",
      "../az_model_cd/GRS_SavedModel/GRSModel_none/2010/best_model_epoch_13.pt\n",
      "../az_model_cd/GRS_SavedModel/GRSOpt_none/2010/best_optimizer_epoch_13.pt\n",
      "Epoch 14 of 200\n"
     ]
    },
    {
     "name": "stderr",
     "output_type": "stream",
     "text": [
      "100%|██████████| 6/6 [00:00<00:00,  8.50it/s]\n",
      "100%|██████████| 1/1 [00:00<00:00, 16.67it/s]\n",
      "  0%|          | 0/6 [00:00<?, ?it/s]"
     ]
    },
    {
     "name": "stdout",
     "output_type": "stream",
     "text": [
      "Train Loss: 0.0668, Train Acc: 0.9812\n",
      "Val Loss: 0.0822, Val Acc: 0.9755\n",
      "EarlyStopping counter: 1 out of 5\n",
      "Epoch 15 of 200\n"
     ]
    },
    {
     "name": "stderr",
     "output_type": "stream",
     "text": [
      "100%|██████████| 6/6 [00:00<00:00,  8.01it/s]\n",
      "100%|██████████| 1/1 [00:00<00:00, 16.01it/s]\n",
      "  0%|          | 0/6 [00:00<?, ?it/s]"
     ]
    },
    {
     "name": "stdout",
     "output_type": "stream",
     "text": [
      "Train Loss: 0.0607, Train Acc: 0.9840\n",
      "Val Loss: 0.0954, Val Acc: 0.9703\n",
      "EarlyStopping counter: 2 out of 5\n",
      "Epoch 16 of 200\n"
     ]
    },
    {
     "name": "stderr",
     "output_type": "stream",
     "text": [
      "100%|██████████| 6/6 [00:00<00:00,  9.11it/s]\n",
      "100%|██████████| 1/1 [00:00<00:00, 17.22it/s]\n",
      "  0%|          | 0/6 [00:00<?, ?it/s]"
     ]
    },
    {
     "name": "stdout",
     "output_type": "stream",
     "text": [
      "Train Loss: 0.0603, Train Acc: 0.9830\n",
      "Val Loss: 0.0873, Val Acc: 0.9738\n",
      "EarlyStopping counter: 3 out of 5\n",
      "Epoch 17 of 200\n"
     ]
    },
    {
     "name": "stderr",
     "output_type": "stream",
     "text": [
      "100%|██████████| 6/6 [00:00<00:00,  8.16it/s]\n",
      "100%|██████████| 1/1 [00:00<00:00, 13.99it/s]\n",
      "  0%|          | 0/6 [00:00<?, ?it/s]"
     ]
    },
    {
     "name": "stdout",
     "output_type": "stream",
     "text": [
      "Train Loss: 0.0572, Train Acc: 0.9855\n",
      "Val Loss: 0.0902, Val Acc: 0.9738\n",
      "EarlyStopping counter: 4 out of 5\n",
      "Epoch 18 of 200\n"
     ]
    },
    {
     "name": "stderr",
     "output_type": "stream",
     "text": [
      "100%|██████████| 6/6 [00:00<00:00,  7.94it/s]\n",
      "100%|██████████| 1/1 [00:00<00:00,  4.47it/s]\n",
      "  0%|          | 0/1 [00:00<?, ?it/s]"
     ]
    },
    {
     "name": "stdout",
     "output_type": "stream",
     "text": [
      "Train Loss: 0.0597, Train Acc: 0.9843\n",
      "Val Loss: 0.0883, Val Acc: 0.9745\n",
      "EarlyStopping counter: 5 out of 5\n",
      "Early stopping\n",
      "Training time: 0.258 minutes\n",
      "Elapsed time 1.3993975559870402 mins.\n",
      "loading best model ../az_model_cd/GRS_SavedModel/GRSModel_none/2010/best_model_epoch_13.pt\n",
      "loading best optimizer ../az_model_cd/GRS_SavedModel/GRSOpt_none/2010/best_optimizer_epoch_13.pt\n"
     ]
    },
    {
     "name": "stderr",
     "output_type": "stream",
     "text": [
      "100%|██████████| 1/1 [00:00<00:00,  4.21it/s]\n",
      "100%|██████████| 1/1 [00:00<00:00,  8.27it/s]\n",
      "100%|██████████| 1/1 [00:00<00:00,  4.52it/s]\n",
      "100%|██████████| 3/3 [00:00<00:00,  8.21it/s]\n",
      "100%|██████████| 3/3 [00:00<00:00,  7.76it/s]\n",
      "100%|██████████| 3/3 [00:00<00:00,  7.65it/s]\n",
      "100%|██████████| 3/3 [00:00<00:00,  7.86it/s]\n",
      "100%|██████████| 3/3 [00:00<00:00,  7.91it/s]\n",
      "100%|██████████| 3/3 [00:00<00:00,  8.68it/s]\n"
     ]
    },
    {
     "name": "stdout",
     "output_type": "stream",
     "text": [
      "Elapsed time 1.4733510216077168 mins.\n",
      "\n",
      "2024-05-26 22:51:50 Round 1 ...\n",
      "Current Task 2011 with Budget none\n",
      "X_train (96605, 1789) Y_train (96605,)\n",
      "\n",
      "2024-05-26 22:51:51 Standardizing ...\n"
     ]
    },
    {
     "name": "stderr",
     "output_type": "stream",
     "text": [
      "\r",
      "  0%|          | 0/21 [00:00<?, ?it/s]"
     ]
    },
    {
     "name": "stdout",
     "output_type": "stream",
     "text": [
      "2024-05-26 22:51:52 Training ...\n",
      "Epoch 1 of 200\n"
     ]
    },
    {
     "name": "stderr",
     "output_type": "stream",
     "text": [
      "100%|██████████| 21/21 [00:01<00:00, 11.80it/s]\n",
      "100%|██████████| 3/3 [00:00<00:00, 19.06it/s]\n",
      "  0%|          | 0/21 [00:00<?, ?it/s]"
     ]
    },
    {
     "name": "stdout",
     "output_type": "stream",
     "text": [
      "Train Loss: 0.2537, Train Acc: 0.9182\n",
      "Val Loss: 0.2130, Val Acc: 0.9147\n",
      "Validation loss decreased (inf --> 0.212978).  Saving model ...\n",
      "../az_model_cd/GRS_SavedModel/GRSModel_none/2011/best_model_epoch_1.pt\n",
      "../az_model_cd/GRS_SavedModel/GRSOpt_none/2011/best_optimizer_epoch_1.pt\n",
      "Epoch 2 of 200\n"
     ]
    },
    {
     "name": "stderr",
     "output_type": "stream",
     "text": [
      "100%|██████████| 21/21 [00:01<00:00, 12.12it/s]\n",
      "100%|██████████| 3/3 [00:00<00:00, 20.29it/s]\n",
      "  0%|          | 0/21 [00:00<?, ?it/s]"
     ]
    },
    {
     "name": "stdout",
     "output_type": "stream",
     "text": [
      "Train Loss: 0.1645, Train Acc: 0.9443\n",
      "Val Loss: 0.1662, Val Acc: 0.9355\n",
      "Validation loss decreased (0.212978 --> 0.166164).  Saving model ...\n",
      "../az_model_cd/GRS_SavedModel/GRSModel_none/2011/best_model_epoch_2.pt\n",
      "../az_model_cd/GRS_SavedModel/GRSOpt_none/2011/best_optimizer_epoch_2.pt\n",
      "Epoch 3 of 200\n"
     ]
    },
    {
     "name": "stderr",
     "output_type": "stream",
     "text": [
      "100%|██████████| 21/21 [00:01<00:00, 10.76it/s]\n",
      "100%|██████████| 3/3 [00:00<00:00, 10.99it/s]\n",
      "  0%|          | 0/21 [00:00<?, ?it/s]"
     ]
    },
    {
     "name": "stdout",
     "output_type": "stream",
     "text": [
      "Train Loss: 0.1410, Train Acc: 0.9535\n",
      "Val Loss: 0.1392, Val Acc: 0.9500\n",
      "Validation loss decreased (0.166164 --> 0.139162).  Saving model ...\n",
      "../az_model_cd/GRS_SavedModel/GRSModel_none/2011/best_model_epoch_3.pt\n",
      "../az_model_cd/GRS_SavedModel/GRSOpt_none/2011/best_optimizer_epoch_3.pt\n",
      "Epoch 4 of 200\n"
     ]
    },
    {
     "name": "stderr",
     "output_type": "stream",
     "text": [
      "100%|██████████| 21/21 [00:01<00:00, 11.69it/s]\n",
      "100%|██████████| 3/3 [00:00<00:00, 18.23it/s]\n",
      "  0%|          | 0/21 [00:00<?, ?it/s]"
     ]
    },
    {
     "name": "stdout",
     "output_type": "stream",
     "text": [
      "Train Loss: 0.1252, Train Acc: 0.9605\n",
      "Val Loss: 0.1346, Val Acc: 0.9501\n",
      "Validation loss decreased (0.139162 --> 0.134622).  Saving model ...\n",
      "../az_model_cd/GRS_SavedModel/GRSModel_none/2011/best_model_epoch_4.pt\n",
      "../az_model_cd/GRS_SavedModel/GRSOpt_none/2011/best_optimizer_epoch_4.pt\n",
      "Epoch 5 of 200\n"
     ]
    },
    {
     "name": "stderr",
     "output_type": "stream",
     "text": [
      "100%|██████████| 21/21 [00:01<00:00, 11.60it/s]\n",
      "100%|██████████| 3/3 [00:00<00:00, 11.46it/s]\n",
      "  0%|          | 0/21 [00:00<?, ?it/s]"
     ]
    },
    {
     "name": "stdout",
     "output_type": "stream",
     "text": [
      "Train Loss: 0.1148, Train Acc: 0.9643\n",
      "Val Loss: 0.1379, Val Acc: 0.9507\n",
      "EarlyStopping counter: 1 out of 5\n",
      "Epoch 6 of 200\n"
     ]
    },
    {
     "name": "stderr",
     "output_type": "stream",
     "text": [
      "100%|██████████| 21/21 [00:01<00:00, 12.49it/s]\n",
      "100%|██████████| 3/3 [00:00<00:00, 19.82it/s]\n",
      "  0%|          | 0/21 [00:00<?, ?it/s]"
     ]
    },
    {
     "name": "stdout",
     "output_type": "stream",
     "text": [
      "Train Loss: 0.1048, Train Acc: 0.9677\n",
      "Val Loss: 0.1331, Val Acc: 0.9529\n",
      "Validation loss decreased (0.134622 --> 0.133127).  Saving model ...\n",
      "../az_model_cd/GRS_SavedModel/GRSModel_none/2011/best_model_epoch_6.pt\n",
      "../az_model_cd/GRS_SavedModel/GRSOpt_none/2011/best_optimizer_epoch_6.pt\n",
      "Epoch 7 of 200\n"
     ]
    },
    {
     "name": "stderr",
     "output_type": "stream",
     "text": [
      "100%|██████████| 21/21 [00:01<00:00, 13.54it/s]\n",
      "100%|██████████| 3/3 [00:00<00:00, 31.30it/s]\n",
      "  0%|          | 0/21 [00:00<?, ?it/s]"
     ]
    },
    {
     "name": "stdout",
     "output_type": "stream",
     "text": [
      "Train Loss: 0.0984, Train Acc: 0.9697\n",
      "Val Loss: 0.1389, Val Acc: 0.9530\n",
      "EarlyStopping counter: 1 out of 5\n",
      "Epoch 8 of 200\n"
     ]
    },
    {
     "name": "stderr",
     "output_type": "stream",
     "text": [
      "100%|██████████| 21/21 [00:01<00:00, 12.31it/s]\n",
      "100%|██████████| 3/3 [00:00<00:00, 11.01it/s]\n",
      "  0%|          | 0/21 [00:00<?, ?it/s]"
     ]
    },
    {
     "name": "stdout",
     "output_type": "stream",
     "text": [
      "Train Loss: 0.0929, Train Acc: 0.9714\n",
      "Val Loss: 0.1417, Val Acc: 0.9524\n",
      "EarlyStopping counter: 2 out of 5\n",
      "Epoch 9 of 200\n"
     ]
    },
    {
     "name": "stderr",
     "output_type": "stream",
     "text": [
      "100%|██████████| 21/21 [00:01<00:00, 14.10it/s]\n",
      "100%|██████████| 3/3 [00:00<00:00, 19.51it/s]\n",
      "  0%|          | 0/21 [00:00<?, ?it/s]"
     ]
    },
    {
     "name": "stdout",
     "output_type": "stream",
     "text": [
      "Train Loss: 0.0886, Train Acc: 0.9729\n",
      "Val Loss: 0.1303, Val Acc: 0.9554\n",
      "Validation loss decreased (0.133127 --> 0.130324).  Saving model ...\n",
      "../az_model_cd/GRS_SavedModel/GRSModel_none/2011/best_model_epoch_9.pt\n",
      "../az_model_cd/GRS_SavedModel/GRSOpt_none/2011/best_optimizer_epoch_9.pt\n",
      "Epoch 10 of 200\n"
     ]
    },
    {
     "name": "stderr",
     "output_type": "stream",
     "text": [
      "100%|██████████| 21/21 [00:01<00:00, 13.31it/s]\n",
      "100%|██████████| 3/3 [00:00<00:00, 12.04it/s]\n",
      "  0%|          | 0/21 [00:00<?, ?it/s]"
     ]
    },
    {
     "name": "stdout",
     "output_type": "stream",
     "text": [
      "Train Loss: 0.0855, Train Acc: 0.9747\n",
      "Val Loss: 0.1382, Val Acc: 0.9523\n",
      "EarlyStopping counter: 1 out of 5\n",
      "Epoch 11 of 200\n"
     ]
    },
    {
     "name": "stderr",
     "output_type": "stream",
     "text": [
      "100%|██████████| 21/21 [00:01<00:00, 11.68it/s]\n",
      "100%|██████████| 3/3 [00:00<00:00, 18.31it/s]\n",
      "  0%|          | 0/21 [00:00<?, ?it/s]"
     ]
    },
    {
     "name": "stdout",
     "output_type": "stream",
     "text": [
      "Train Loss: 0.0838, Train Acc: 0.9749\n",
      "Val Loss: 0.1417, Val Acc: 0.9543\n",
      "EarlyStopping counter: 2 out of 5\n",
      "Epoch 12 of 200\n"
     ]
    },
    {
     "name": "stderr",
     "output_type": "stream",
     "text": [
      "100%|██████████| 21/21 [00:01<00:00, 12.00it/s]\n",
      "100%|██████████| 3/3 [00:00<00:00, 18.30it/s]\n",
      "  0%|          | 0/21 [00:00<?, ?it/s]"
     ]
    },
    {
     "name": "stdout",
     "output_type": "stream",
     "text": [
      "Train Loss: 0.0820, Train Acc: 0.9755\n",
      "Val Loss: 0.1464, Val Acc: 0.9549\n",
      "EarlyStopping counter: 3 out of 5\n",
      "Epoch 13 of 200\n"
     ]
    },
    {
     "name": "stderr",
     "output_type": "stream",
     "text": [
      "100%|██████████| 21/21 [00:01<00:00, 12.18it/s]\n",
      "100%|██████████| 3/3 [00:00<00:00, 11.37it/s]\n",
      "  0%|          | 0/21 [00:00<?, ?it/s]"
     ]
    },
    {
     "name": "stdout",
     "output_type": "stream",
     "text": [
      "Train Loss: 0.0807, Train Acc: 0.9754\n",
      "Val Loss: 0.1413, Val Acc: 0.9546\n",
      "EarlyStopping counter: 4 out of 5\n",
      "Epoch 14 of 200\n"
     ]
    },
    {
     "name": "stderr",
     "output_type": "stream",
     "text": [
      "100%|██████████| 21/21 [00:01<00:00, 12.38it/s]\n",
      "100%|██████████| 3/3 [00:00<00:00, 19.12it/s]\n",
      "  0%|          | 0/1 [00:00<?, ?it/s]"
     ]
    },
    {
     "name": "stdout",
     "output_type": "stream",
     "text": [
      "Train Loss: 0.0784, Train Acc: 0.9764\n",
      "Val Loss: 0.1404, Val Acc: 0.9543\n",
      "EarlyStopping counter: 5 out of 5\n",
      "Early stopping\n",
      "Training time: 0.454 minutes\n",
      "Elapsed time 1.960137673219045 mins.\n",
      "loading best model ../az_model_cd/GRS_SavedModel/GRSModel_none/2011/best_model_epoch_9.pt\n",
      "loading best optimizer ../az_model_cd/GRS_SavedModel/GRSOpt_none/2011/best_optimizer_epoch_9.pt\n"
     ]
    },
    {
     "name": "stderr",
     "output_type": "stream",
     "text": [
      "100%|██████████| 1/1 [00:00<00:00,  4.11it/s]\n",
      "100%|██████████| 1/1 [00:00<00:00,  7.98it/s]\n",
      "100%|██████████| 1/1 [00:00<00:00,  4.51it/s]\n",
      "100%|██████████| 3/3 [00:00<00:00,  6.31it/s]\n",
      "100%|██████████| 3/3 [00:00<00:00,  6.21it/s]\n",
      "100%|██████████| 3/3 [00:00<00:00,  6.14it/s]\n",
      "100%|██████████| 3/3 [00:00<00:00,  6.11it/s]\n",
      "100%|██████████| 3/3 [00:00<00:00,  6.14it/s]\n",
      "100%|██████████| 3/3 [00:00<00:00,  6.69it/s]\n"
     ]
    },
    {
     "name": "stdout",
     "output_type": "stream",
     "text": [
      "Elapsed time 2.0446836709976197 mins.\n",
      "\n",
      "2024-05-26 22:52:24 Round 1 ...\n",
      "Current Task 2012 with Budget none\n",
      "X_train (107996, 1789) Y_train (107996,)\n",
      "\n",
      "2024-05-26 22:52:25 Standardizing ...\n"
     ]
    },
    {
     "name": "stderr",
     "output_type": "stream",
     "text": [
      "\r",
      "  0%|          | 0/23 [00:00<?, ?it/s]"
     ]
    },
    {
     "name": "stdout",
     "output_type": "stream",
     "text": [
      "2024-05-26 22:52:26 Training ...\n",
      "Epoch 1 of 200\n"
     ]
    },
    {
     "name": "stderr",
     "output_type": "stream",
     "text": [
      "100%|██████████| 23/23 [00:02<00:00, 11.24it/s]\n",
      "100%|██████████| 3/3 [00:00<00:00, 10.58it/s]\n",
      "  0%|          | 0/23 [00:00<?, ?it/s]"
     ]
    },
    {
     "name": "stdout",
     "output_type": "stream",
     "text": [
      "Train Loss: 0.1656, Train Acc: 0.9461\n",
      "Val Loss: 0.1569, Val Acc: 0.9458\n",
      "Validation loss decreased (inf --> 0.156918).  Saving model ...\n",
      "../az_model_cd/GRS_SavedModel/GRSModel_none/2012/best_model_epoch_1.pt\n",
      "../az_model_cd/GRS_SavedModel/GRSOpt_none/2012/best_optimizer_epoch_1.pt\n",
      "Epoch 2 of 200\n"
     ]
    },
    {
     "name": "stderr",
     "output_type": "stream",
     "text": [
      "100%|██████████| 23/23 [00:01<00:00, 12.45it/s]\n",
      "100%|██████████| 3/3 [00:00<00:00, 24.46it/s]\n",
      "  0%|          | 0/23 [00:00<?, ?it/s]"
     ]
    },
    {
     "name": "stdout",
     "output_type": "stream",
     "text": [
      "Train Loss: 0.1103, Train Acc: 0.9658\n",
      "Val Loss: 0.1079, Val Acc: 0.9644\n",
      "Validation loss decreased (0.156918 --> 0.107908).  Saving model ...\n",
      "../az_model_cd/GRS_SavedModel/GRSModel_none/2012/best_model_epoch_2.pt\n",
      "../az_model_cd/GRS_SavedModel/GRSOpt_none/2012/best_optimizer_epoch_2.pt\n",
      "Epoch 3 of 200\n"
     ]
    },
    {
     "name": "stderr",
     "output_type": "stream",
     "text": [
      "100%|██████████| 23/23 [00:01<00:00, 11.96it/s]\n",
      "100%|██████████| 3/3 [00:00<00:00, 10.87it/s]\n",
      "  0%|          | 0/23 [00:00<?, ?it/s]"
     ]
    },
    {
     "name": "stdout",
     "output_type": "stream",
     "text": [
      "Train Loss: 0.0949, Train Acc: 0.9725\n",
      "Val Loss: 0.0961, Val Acc: 0.9664\n",
      "Validation loss decreased (0.107908 --> 0.096106).  Saving model ...\n",
      "../az_model_cd/GRS_SavedModel/GRSModel_none/2012/best_model_epoch_3.pt\n",
      "../az_model_cd/GRS_SavedModel/GRSOpt_none/2012/best_optimizer_epoch_3.pt\n",
      "Epoch 4 of 200\n"
     ]
    },
    {
     "name": "stderr",
     "output_type": "stream",
     "text": [
      "100%|██████████| 23/23 [00:01<00:00, 12.19it/s]\n",
      "100%|██████████| 3/3 [00:00<00:00, 17.43it/s]\n",
      "  0%|          | 0/23 [00:00<?, ?it/s]"
     ]
    },
    {
     "name": "stdout",
     "output_type": "stream",
     "text": [
      "Train Loss: 0.0833, Train Acc: 0.9754\n",
      "Val Loss: 0.0901, Val Acc: 0.9697\n",
      "Validation loss decreased (0.096106 --> 0.090069).  Saving model ...\n",
      "../az_model_cd/GRS_SavedModel/GRSModel_none/2012/best_model_epoch_4.pt\n",
      "../az_model_cd/GRS_SavedModel/GRSOpt_none/2012/best_optimizer_epoch_4.pt\n",
      "Epoch 5 of 200\n"
     ]
    },
    {
     "name": "stderr",
     "output_type": "stream",
     "text": [
      "100%|██████████| 23/23 [00:01<00:00, 12.50it/s]\n",
      "100%|██████████| 3/3 [00:00<00:00, 11.47it/s]\n",
      "  0%|          | 0/23 [00:00<?, ?it/s]"
     ]
    },
    {
     "name": "stdout",
     "output_type": "stream",
     "text": [
      "Train Loss: 0.0757, Train Acc: 0.9781\n",
      "Val Loss: 0.0949, Val Acc: 0.9672\n",
      "EarlyStopping counter: 1 out of 5\n",
      "Epoch 6 of 200\n"
     ]
    },
    {
     "name": "stderr",
     "output_type": "stream",
     "text": [
      "100%|██████████| 23/23 [00:01<00:00, 12.27it/s]\n",
      "100%|██████████| 3/3 [00:00<00:00, 17.65it/s]\n",
      "  0%|          | 0/23 [00:00<?, ?it/s]"
     ]
    },
    {
     "name": "stdout",
     "output_type": "stream",
     "text": [
      "Train Loss: 0.0702, Train Acc: 0.9797\n",
      "Val Loss: 0.0875, Val Acc: 0.9712\n",
      "Validation loss decreased (0.090069 --> 0.087509).  Saving model ...\n",
      "../az_model_cd/GRS_SavedModel/GRSModel_none/2012/best_model_epoch_6.pt\n",
      "../az_model_cd/GRS_SavedModel/GRSOpt_none/2012/best_optimizer_epoch_6.pt\n",
      "Epoch 7 of 200\n"
     ]
    },
    {
     "name": "stderr",
     "output_type": "stream",
     "text": [
      "100%|██████████| 23/23 [00:01<00:00, 12.64it/s]\n",
      "100%|██████████| 3/3 [00:00<00:00, 17.47it/s]\n",
      "  0%|          | 0/23 [00:00<?, ?it/s]"
     ]
    },
    {
     "name": "stdout",
     "output_type": "stream",
     "text": [
      "Train Loss: 0.0677, Train Acc: 0.9804\n",
      "Val Loss: 0.0873, Val Acc: 0.9705\n",
      "Validation loss decreased (0.087509 --> 0.087301).  Saving model ...\n",
      "../az_model_cd/GRS_SavedModel/GRSModel_none/2012/best_model_epoch_7.pt\n",
      "../az_model_cd/GRS_SavedModel/GRSOpt_none/2012/best_optimizer_epoch_7.pt\n",
      "Epoch 8 of 200\n"
     ]
    },
    {
     "name": "stderr",
     "output_type": "stream",
     "text": [
      "100%|██████████| 23/23 [00:01<00:00, 12.92it/s]\n",
      "100%|██████████| 3/3 [00:00<00:00, 11.72it/s]\n",
      "  0%|          | 0/23 [00:00<?, ?it/s]"
     ]
    },
    {
     "name": "stdout",
     "output_type": "stream",
     "text": [
      "Train Loss: 0.0621, Train Acc: 0.9823\n",
      "Val Loss: 0.0875, Val Acc: 0.9710\n",
      "EarlyStopping counter: 1 out of 5\n",
      "Epoch 9 of 200\n"
     ]
    },
    {
     "name": "stderr",
     "output_type": "stream",
     "text": [
      "100%|██████████| 23/23 [00:01<00:00, 12.55it/s]\n",
      "100%|██████████| 3/3 [00:00<00:00, 18.13it/s]\n",
      "  0%|          | 0/23 [00:00<?, ?it/s]"
     ]
    },
    {
     "name": "stdout",
     "output_type": "stream",
     "text": [
      "Train Loss: 0.0601, Train Acc: 0.9829\n",
      "Val Loss: 0.0883, Val Acc: 0.9711\n",
      "EarlyStopping counter: 2 out of 5\n",
      "Epoch 10 of 200\n"
     ]
    },
    {
     "name": "stderr",
     "output_type": "stream",
     "text": [
      "100%|██████████| 23/23 [00:02<00:00, 10.36it/s]\n",
      "100%|██████████| 3/3 [00:00<00:00, 10.72it/s]\n",
      "  0%|          | 0/23 [00:00<?, ?it/s]"
     ]
    },
    {
     "name": "stdout",
     "output_type": "stream",
     "text": [
      "Train Loss: 0.0590, Train Acc: 0.9828\n",
      "Val Loss: 0.0896, Val Acc: 0.9705\n",
      "EarlyStopping counter: 3 out of 5\n",
      "Epoch 11 of 200\n"
     ]
    },
    {
     "name": "stderr",
     "output_type": "stream",
     "text": [
      "100%|██████████| 23/23 [00:01<00:00, 12.78it/s]\n",
      "100%|██████████| 3/3 [00:00<00:00, 17.13it/s]\n",
      "  0%|          | 0/23 [00:00<?, ?it/s]"
     ]
    },
    {
     "name": "stdout",
     "output_type": "stream",
     "text": [
      "Train Loss: 0.0575, Train Acc: 0.9829\n",
      "Val Loss: 0.0900, Val Acc: 0.9718\n",
      "EarlyStopping counter: 4 out of 5\n",
      "Epoch 12 of 200\n"
     ]
    },
    {
     "name": "stderr",
     "output_type": "stream",
     "text": [
      "100%|██████████| 23/23 [00:01<00:00, 12.60it/s]\n",
      "100%|██████████| 3/3 [00:00<00:00, 11.64it/s]\n",
      "  0%|          | 0/1 [00:00<?, ?it/s]"
     ]
    },
    {
     "name": "stdout",
     "output_type": "stream",
     "text": [
      "Train Loss: 0.0531, Train Acc: 0.9843\n",
      "Val Loss: 0.0902, Val Acc: 0.9712\n",
      "EarlyStopping counter: 5 out of 5\n",
      "Early stopping\n",
      "Training time: 0.429 minutes\n",
      "Elapsed time 2.510372793674469 mins.\n",
      "loading best model ../az_model_cd/GRS_SavedModel/GRSModel_none/2012/best_model_epoch_7.pt\n",
      "loading best optimizer ../az_model_cd/GRS_SavedModel/GRSOpt_none/2012/best_optimizer_epoch_7.pt\n"
     ]
    },
    {
     "name": "stderr",
     "output_type": "stream",
     "text": [
      "100%|██████████| 1/1 [00:00<00:00,  4.00it/s]\n",
      "100%|██████████| 1/1 [00:00<00:00,  7.99it/s]\n",
      "100%|██████████| 1/1 [00:00<00:00,  4.74it/s]\n",
      "100%|██████████| 3/3 [00:00<00:00,  8.73it/s]\n",
      "100%|██████████| 3/3 [00:00<00:00,  7.75it/s]\n",
      "100%|██████████| 3/3 [00:00<00:00,  7.93it/s]\n",
      "100%|██████████| 3/3 [00:00<00:00,  8.14it/s]\n",
      "100%|██████████| 3/3 [00:00<00:00,  7.82it/s]\n",
      "100%|██████████| 3/3 [00:00<00:00,  8.40it/s]\n"
     ]
    },
    {
     "name": "stdout",
     "output_type": "stream",
     "text": [
      "Elapsed time 2.5839921315511067 mins.\n",
      "\n",
      "2024-05-26 22:52:56 Round 1 ...\n",
      "Current Task 2013 with Budget none\n",
      "X_train (107984, 1789) Y_train (107984,)\n",
      "\n",
      "2024-05-26 22:52:58 Standardizing ...\n"
     ]
    },
    {
     "name": "stderr",
     "output_type": "stream",
     "text": [
      "\r",
      "  0%|          | 0/23 [00:00<?, ?it/s]"
     ]
    },
    {
     "name": "stdout",
     "output_type": "stream",
     "text": [
      "2024-05-26 22:52:59 Training ...\n",
      "Epoch 1 of 200\n"
     ]
    },
    {
     "name": "stderr",
     "output_type": "stream",
     "text": [
      "100%|██████████| 23/23 [00:01<00:00, 11.67it/s]\n",
      "100%|██████████| 3/3 [00:00<00:00, 17.64it/s]\n",
      "  0%|          | 0/23 [00:00<?, ?it/s]"
     ]
    },
    {
     "name": "stdout",
     "output_type": "stream",
     "text": [
      "Train Loss: 0.1738, Train Acc: 0.9422\n",
      "Val Loss: 0.1567, Val Acc: 0.9333\n",
      "Validation loss decreased (inf --> 0.156718).  Saving model ...\n",
      "../az_model_cd/GRS_SavedModel/GRSModel_none/2013/best_model_epoch_1.pt\n",
      "../az_model_cd/GRS_SavedModel/GRSOpt_none/2013/best_optimizer_epoch_1.pt\n",
      "Epoch 2 of 200\n"
     ]
    },
    {
     "name": "stderr",
     "output_type": "stream",
     "text": [
      "100%|██████████| 23/23 [00:02<00:00, 10.59it/s]\n",
      "100%|██████████| 3/3 [00:00<00:00,  9.39it/s]\n",
      "  0%|          | 0/23 [00:00<?, ?it/s]"
     ]
    },
    {
     "name": "stdout",
     "output_type": "stream",
     "text": [
      "Train Loss: 0.1043, Train Acc: 0.9643\n",
      "Val Loss: 0.0910, Val Acc: 0.9643\n",
      "Validation loss decreased (0.156718 --> 0.090974).  Saving model ...\n",
      "../az_model_cd/GRS_SavedModel/GRSModel_none/2013/best_model_epoch_2.pt\n",
      "../az_model_cd/GRS_SavedModel/GRSOpt_none/2013/best_optimizer_epoch_2.pt\n",
      "Epoch 3 of 200\n"
     ]
    },
    {
     "name": "stderr",
     "output_type": "stream",
     "text": [
      "100%|██████████| 23/23 [00:01<00:00, 11.60it/s]\n",
      "100%|██████████| 3/3 [00:00<00:00, 17.52it/s]\n",
      "  0%|          | 0/23 [00:00<?, ?it/s]"
     ]
    },
    {
     "name": "stdout",
     "output_type": "stream",
     "text": [
      "Train Loss: 0.0827, Train Acc: 0.9722\n",
      "Val Loss: 0.0844, Val Acc: 0.9699\n",
      "Validation loss decreased (0.090974 --> 0.084357).  Saving model ...\n",
      "../az_model_cd/GRS_SavedModel/GRSModel_none/2013/best_model_epoch_3.pt\n",
      "../az_model_cd/GRS_SavedModel/GRSOpt_none/2013/best_optimizer_epoch_3.pt\n",
      "Epoch 4 of 200\n"
     ]
    },
    {
     "name": "stderr",
     "output_type": "stream",
     "text": [
      "100%|██████████| 23/23 [00:01<00:00, 12.34it/s]\n",
      "100%|██████████| 3/3 [00:00<00:00, 10.27it/s]\n",
      "  0%|          | 0/23 [00:00<?, ?it/s]"
     ]
    },
    {
     "name": "stdout",
     "output_type": "stream",
     "text": [
      "Train Loss: 0.0700, Train Acc: 0.9767\n",
      "Val Loss: 0.0760, Val Acc: 0.9754\n",
      "Validation loss decreased (0.084357 --> 0.076028).  Saving model ...\n",
      "../az_model_cd/GRS_SavedModel/GRSModel_none/2013/best_model_epoch_4.pt\n",
      "../az_model_cd/GRS_SavedModel/GRSOpt_none/2013/best_optimizer_epoch_4.pt\n",
      "Epoch 5 of 200\n"
     ]
    },
    {
     "name": "stderr",
     "output_type": "stream",
     "text": [
      "100%|██████████| 23/23 [00:02<00:00, 10.63it/s]\n",
      "100%|██████████| 3/3 [00:00<00:00, 14.26it/s]\n",
      "  0%|          | 0/23 [00:00<?, ?it/s]"
     ]
    },
    {
     "name": "stdout",
     "output_type": "stream",
     "text": [
      "Train Loss: 0.0609, Train Acc: 0.9807\n",
      "Val Loss: 0.0732, Val Acc: 0.9764\n",
      "Validation loss decreased (0.076028 --> 0.073212).  Saving model ...\n",
      "../az_model_cd/GRS_SavedModel/GRSModel_none/2013/best_model_epoch_5.pt\n",
      "../az_model_cd/GRS_SavedModel/GRSOpt_none/2013/best_optimizer_epoch_5.pt\n",
      "Epoch 6 of 200\n"
     ]
    },
    {
     "name": "stderr",
     "output_type": "stream",
     "text": [
      "100%|██████████| 23/23 [00:01<00:00, 12.41it/s]\n",
      "100%|██████████| 3/3 [00:00<00:00, 18.43it/s]\n",
      "  0%|          | 0/23 [00:00<?, ?it/s]"
     ]
    },
    {
     "name": "stdout",
     "output_type": "stream",
     "text": [
      "Train Loss: 0.0585, Train Acc: 0.9814\n",
      "Val Loss: 0.0740, Val Acc: 0.9757\n",
      "EarlyStopping counter: 1 out of 5\n",
      "Epoch 7 of 200\n"
     ]
    },
    {
     "name": "stderr",
     "output_type": "stream",
     "text": [
      "100%|██████████| 23/23 [00:02<00:00, 10.93it/s]\n",
      "100%|██████████| 3/3 [00:00<00:00, 10.03it/s]\n",
      "  0%|          | 0/23 [00:00<?, ?it/s]"
     ]
    },
    {
     "name": "stdout",
     "output_type": "stream",
     "text": [
      "Train Loss: 0.0522, Train Acc: 0.9837\n",
      "Val Loss: 0.0742, Val Acc: 0.9757\n",
      "EarlyStopping counter: 2 out of 5\n",
      "Epoch 8 of 200\n"
     ]
    },
    {
     "name": "stderr",
     "output_type": "stream",
     "text": [
      "100%|██████████| 23/23 [00:01<00:00, 12.03it/s]\n",
      "100%|██████████| 3/3 [00:00<00:00, 18.57it/s]\n",
      "  0%|          | 0/23 [00:00<?, ?it/s]"
     ]
    },
    {
     "name": "stdout",
     "output_type": "stream",
     "text": [
      "Train Loss: 0.0491, Train Acc: 0.9841\n",
      "Val Loss: 0.0707, Val Acc: 0.9794\n",
      "Validation loss decreased (0.073212 --> 0.070661).  Saving model ...\n",
      "../az_model_cd/GRS_SavedModel/GRSModel_none/2013/best_model_epoch_8.pt\n",
      "../az_model_cd/GRS_SavedModel/GRSOpt_none/2013/best_optimizer_epoch_8.pt\n",
      "Epoch 9 of 200\n"
     ]
    },
    {
     "name": "stderr",
     "output_type": "stream",
     "text": [
      "100%|██████████| 23/23 [00:02<00:00, 11.10it/s]\n",
      "100%|██████████| 3/3 [00:00<00:00, 10.09it/s]\n",
      "  0%|          | 0/23 [00:00<?, ?it/s]"
     ]
    },
    {
     "name": "stdout",
     "output_type": "stream",
     "text": [
      "Train Loss: 0.0461, Train Acc: 0.9854\n",
      "Val Loss: 0.0779, Val Acc: 0.9764\n",
      "EarlyStopping counter: 1 out of 5\n",
      "Epoch 10 of 200\n"
     ]
    },
    {
     "name": "stderr",
     "output_type": "stream",
     "text": [
      "100%|██████████| 23/23 [00:01<00:00, 12.47it/s]\n",
      "100%|██████████| 3/3 [00:00<00:00, 27.00it/s]\n",
      "  0%|          | 0/23 [00:00<?, ?it/s]"
     ]
    },
    {
     "name": "stdout",
     "output_type": "stream",
     "text": [
      "Train Loss: 0.0437, Train Acc: 0.9857\n",
      "Val Loss: 0.0747, Val Acc: 0.9789\n",
      "EarlyStopping counter: 2 out of 5\n",
      "Epoch 11 of 200\n"
     ]
    },
    {
     "name": "stderr",
     "output_type": "stream",
     "text": [
      "100%|██████████| 23/23 [00:01<00:00, 12.43it/s]\n",
      "100%|██████████| 3/3 [00:00<00:00, 10.29it/s]\n",
      "  0%|          | 0/23 [00:00<?, ?it/s]"
     ]
    },
    {
     "name": "stdout",
     "output_type": "stream",
     "text": [
      "Train Loss: 0.0403, Train Acc: 0.9872\n",
      "Val Loss: 0.0772, Val Acc: 0.9774\n",
      "EarlyStopping counter: 3 out of 5\n",
      "Epoch 12 of 200\n"
     ]
    },
    {
     "name": "stderr",
     "output_type": "stream",
     "text": [
      "100%|██████████| 23/23 [00:01<00:00, 11.63it/s]\n",
      "100%|██████████| 3/3 [00:00<00:00, 17.76it/s]\n",
      "  0%|          | 0/23 [00:00<?, ?it/s]"
     ]
    },
    {
     "name": "stdout",
     "output_type": "stream",
     "text": [
      "Train Loss: 0.0370, Train Acc: 0.9884\n",
      "Val Loss: 0.0734, Val Acc: 0.9804\n",
      "EarlyStopping counter: 4 out of 5\n",
      "Epoch 13 of 200\n"
     ]
    },
    {
     "name": "stderr",
     "output_type": "stream",
     "text": [
      "100%|██████████| 23/23 [00:01<00:00, 12.60it/s]\n",
      "100%|██████████| 3/3 [00:00<00:00, 10.19it/s]\n",
      "  0%|          | 0/1 [00:00<?, ?it/s]"
     ]
    },
    {
     "name": "stdout",
     "output_type": "stream",
     "text": [
      "Train Loss: 0.0380, Train Acc: 0.9883\n",
      "Val Loss: 0.0757, Val Acc: 0.9786\n",
      "EarlyStopping counter: 5 out of 5\n",
      "Early stopping\n",
      "Training time: 0.485 minutes\n",
      "Elapsed time 3.1059695283571878 mins.\n",
      "loading best model ../az_model_cd/GRS_SavedModel/GRSModel_none/2013/best_model_epoch_8.pt\n",
      "loading best optimizer ../az_model_cd/GRS_SavedModel/GRSOpt_none/2013/best_optimizer_epoch_8.pt\n"
     ]
    },
    {
     "name": "stderr",
     "output_type": "stream",
     "text": [
      "100%|██████████| 1/1 [00:00<00:00,  4.10it/s]\n",
      "100%|██████████| 1/1 [00:00<00:00,  8.18it/s]\n",
      "100%|██████████| 1/1 [00:00<00:00,  4.44it/s]\n",
      "100%|██████████| 3/3 [00:00<00:00,  8.84it/s]\n",
      "100%|██████████| 3/3 [00:00<00:00,  7.76it/s]\n",
      "100%|██████████| 3/3 [00:00<00:00,  7.86it/s]\n",
      "100%|██████████| 3/3 [00:00<00:00,  7.92it/s]\n",
      "100%|██████████| 3/3 [00:00<00:00,  8.15it/s]\n",
      "100%|██████████| 3/3 [00:00<00:00,  8.67it/s]\n"
     ]
    },
    {
     "name": "stdout",
     "output_type": "stream",
     "text": [
      "Elapsed time 3.179302187760671 mins.\n",
      "\n",
      "2024-05-26 22:53:32 Round 1 ...\n",
      "Current Task 2014 with Budget none\n",
      "X_train (107978, 1789) Y_train (107978,)\n",
      "\n",
      "2024-05-26 22:53:34 Standardizing ...\n"
     ]
    },
    {
     "name": "stderr",
     "output_type": "stream",
     "text": [
      "\r",
      "  0%|          | 0/23 [00:00<?, ?it/s]"
     ]
    },
    {
     "name": "stdout",
     "output_type": "stream",
     "text": [
      "2024-05-26 22:53:34 Training ...\n",
      "Epoch 1 of 200\n"
     ]
    },
    {
     "name": "stderr",
     "output_type": "stream",
     "text": [
      "100%|██████████| 23/23 [00:02<00:00, 11.48it/s]\n",
      "100%|██████████| 3/3 [00:00<00:00, 16.66it/s]\n",
      "  0%|          | 0/23 [00:00<?, ?it/s]"
     ]
    },
    {
     "name": "stdout",
     "output_type": "stream",
     "text": [
      "Train Loss: 0.1685, Train Acc: 0.9433\n",
      "Val Loss: 0.1173, Val Acc: 0.9505\n",
      "Validation loss decreased (inf --> 0.117309).  Saving model ...\n",
      "../az_model_cd/GRS_SavedModel/GRSModel_none/2014/best_model_epoch_1.pt\n",
      "../az_model_cd/GRS_SavedModel/GRSOpt_none/2014/best_optimizer_epoch_1.pt\n",
      "Epoch 2 of 200\n"
     ]
    },
    {
     "name": "stderr",
     "output_type": "stream",
     "text": [
      "100%|██████████| 23/23 [00:01<00:00, 12.39it/s]\n",
      "100%|██████████| 3/3 [00:00<00:00, 17.35it/s]\n",
      "  0%|          | 0/23 [00:00<?, ?it/s]"
     ]
    },
    {
     "name": "stdout",
     "output_type": "stream",
     "text": [
      "Train Loss: 0.0972, Train Acc: 0.9655\n",
      "Val Loss: 0.0896, Val Acc: 0.9662\n",
      "Validation loss decreased (0.117309 --> 0.089596).  Saving model ...\n",
      "../az_model_cd/GRS_SavedModel/GRSModel_none/2014/best_model_epoch_2.pt\n",
      "../az_model_cd/GRS_SavedModel/GRSOpt_none/2014/best_optimizer_epoch_2.pt\n",
      "Epoch 3 of 200\n"
     ]
    },
    {
     "name": "stderr",
     "output_type": "stream",
     "text": [
      "100%|██████████| 23/23 [00:01<00:00, 12.76it/s]\n",
      "100%|██████████| 3/3 [00:00<00:00, 10.67it/s]\n",
      "  0%|          | 0/23 [00:00<?, ?it/s]"
     ]
    },
    {
     "name": "stdout",
     "output_type": "stream",
     "text": [
      "Train Loss: 0.0769, Train Acc: 0.9732\n",
      "Val Loss: 0.0781, Val Acc: 0.9714\n",
      "Validation loss decreased (0.089596 --> 0.078081).  Saving model ...\n",
      "../az_model_cd/GRS_SavedModel/GRSModel_none/2014/best_model_epoch_3.pt\n",
      "../az_model_cd/GRS_SavedModel/GRSOpt_none/2014/best_optimizer_epoch_3.pt\n",
      "Epoch 4 of 200\n"
     ]
    },
    {
     "name": "stderr",
     "output_type": "stream",
     "text": [
      "100%|██████████| 23/23 [00:01<00:00, 12.27it/s]\n",
      "100%|██████████| 3/3 [00:00<00:00, 18.30it/s]\n",
      "  0%|          | 0/23 [00:00<?, ?it/s]"
     ]
    },
    {
     "name": "stdout",
     "output_type": "stream",
     "text": [
      "Train Loss: 0.0676, Train Acc: 0.9770\n",
      "Val Loss: 0.0685, Val Acc: 0.9752\n",
      "Validation loss decreased (0.078081 --> 0.068510).  Saving model ...\n",
      "../az_model_cd/GRS_SavedModel/GRSModel_none/2014/best_model_epoch_4.pt\n",
      "../az_model_cd/GRS_SavedModel/GRSOpt_none/2014/best_optimizer_epoch_4.pt\n",
      "Epoch 5 of 200\n"
     ]
    },
    {
     "name": "stderr",
     "output_type": "stream",
     "text": [
      "100%|██████████| 23/23 [00:01<00:00, 12.38it/s]\n",
      "100%|██████████| 3/3 [00:00<00:00, 10.43it/s]\n",
      "  0%|          | 0/23 [00:00<?, ?it/s]"
     ]
    },
    {
     "name": "stdout",
     "output_type": "stream",
     "text": [
      "Train Loss: 0.0595, Train Acc: 0.9801\n",
      "Val Loss: 0.0702, Val Acc: 0.9762\n",
      "EarlyStopping counter: 1 out of 5\n",
      "Epoch 6 of 200\n"
     ]
    },
    {
     "name": "stderr",
     "output_type": "stream",
     "text": [
      "100%|██████████| 23/23 [00:01<00:00, 12.42it/s]\n",
      "100%|██████████| 3/3 [00:00<00:00, 18.49it/s]\n",
      "  0%|          | 0/23 [00:00<?, ?it/s]"
     ]
    },
    {
     "name": "stdout",
     "output_type": "stream",
     "text": [
      "Train Loss: 0.0505, Train Acc: 0.9830\n",
      "Val Loss: 0.0754, Val Acc: 0.9746\n",
      "EarlyStopping counter: 2 out of 5\n",
      "Epoch 7 of 200\n"
     ]
    },
    {
     "name": "stderr",
     "output_type": "stream",
     "text": [
      "100%|██████████| 23/23 [00:02<00:00,  9.69it/s]\n",
      "100%|██████████| 3/3 [00:00<00:00,  9.48it/s]\n",
      "  0%|          | 0/23 [00:00<?, ?it/s]"
     ]
    },
    {
     "name": "stdout",
     "output_type": "stream",
     "text": [
      "Train Loss: 0.0478, Train Acc: 0.9841\n",
      "Val Loss: 0.0689, Val Acc: 0.9779\n",
      "EarlyStopping counter: 3 out of 5\n",
      "Epoch 8 of 200\n"
     ]
    },
    {
     "name": "stderr",
     "output_type": "stream",
     "text": [
      "100%|██████████| 23/23 [00:01<00:00, 12.06it/s]\n",
      "100%|██████████| 3/3 [00:00<00:00, 18.12it/s]\n",
      "  0%|          | 0/23 [00:00<?, ?it/s]"
     ]
    },
    {
     "name": "stdout",
     "output_type": "stream",
     "text": [
      "Train Loss: 0.0459, Train Acc: 0.9850\n",
      "Val Loss: 0.0725, Val Acc: 0.9766\n",
      "EarlyStopping counter: 4 out of 5\n",
      "Epoch 9 of 200\n"
     ]
    },
    {
     "name": "stderr",
     "output_type": "stream",
     "text": [
      "100%|██████████| 23/23 [00:01<00:00, 12.23it/s]\n",
      "100%|██████████| 3/3 [00:00<00:00, 11.17it/s]\n",
      "  0%|          | 0/1 [00:00<?, ?it/s]"
     ]
    },
    {
     "name": "stdout",
     "output_type": "stream",
     "text": [
      "Train Loss: 0.0433, Train Acc: 0.9853\n",
      "Val Loss: 0.0721, Val Acc: 0.9765\n",
      "EarlyStopping counter: 5 out of 5\n",
      "Early stopping\n",
      "Training time: 0.329 minutes\n",
      "Elapsed time 3.543892474969228 mins.\n",
      "loading best model ../az_model_cd/GRS_SavedModel/GRSModel_none/2014/best_model_epoch_4.pt\n",
      "loading best optimizer ../az_model_cd/GRS_SavedModel/GRSOpt_none/2014/best_optimizer_epoch_4.pt\n"
     ]
    },
    {
     "name": "stderr",
     "output_type": "stream",
     "text": [
      "100%|██████████| 1/1 [00:00<00:00,  4.13it/s]\n",
      "100%|██████████| 1/1 [00:00<00:00,  8.08it/s]\n",
      "100%|██████████| 1/1 [00:00<00:00,  4.74it/s]\n",
      "100%|██████████| 3/3 [00:00<00:00,  8.70it/s]\n",
      "100%|██████████| 3/3 [00:00<00:00,  7.87it/s]\n",
      "100%|██████████| 3/3 [00:00<00:00,  7.93it/s]\n",
      "100%|██████████| 3/3 [00:00<00:00,  7.89it/s]\n",
      "100%|██████████| 3/3 [00:00<00:00,  7.76it/s]\n",
      "100%|██████████| 3/3 [00:00<00:00,  8.71it/s]\n"
     ]
    },
    {
     "name": "stdout",
     "output_type": "stream",
     "text": [
      "Elapsed time 3.6176472028096516 mins.\n",
      "\n",
      "2024-05-26 22:53:58 Round 1 ...\n",
      "Current Task 2015 with Budget none\n",
      "X_train (107869, 1789) Y_train (107869,)\n",
      "\n",
      "2024-05-26 22:54:00 Standardizing ...\n"
     ]
    },
    {
     "name": "stderr",
     "output_type": "stream",
     "text": [
      "\r",
      "  0%|          | 0/23 [00:00<?, ?it/s]"
     ]
    },
    {
     "name": "stdout",
     "output_type": "stream",
     "text": [
      "2024-05-26 22:54:00 Training ...\n",
      "Epoch 1 of 200\n"
     ]
    },
    {
     "name": "stderr",
     "output_type": "stream",
     "text": [
      "100%|██████████| 23/23 [00:01<00:00, 11.79it/s]\n",
      "100%|██████████| 3/3 [00:00<00:00, 23.21it/s]\n",
      "  0%|          | 0/23 [00:00<?, ?it/s]"
     ]
    },
    {
     "name": "stdout",
     "output_type": "stream",
     "text": [
      "Train Loss: 0.1886, Train Acc: 0.9363\n",
      "Val Loss: 0.1520, Val Acc: 0.9421\n",
      "Validation loss decreased (inf --> 0.151998).  Saving model ...\n",
      "../az_model_cd/GRS_SavedModel/GRSModel_none/2015/best_model_epoch_1.pt\n",
      "../az_model_cd/GRS_SavedModel/GRSOpt_none/2015/best_optimizer_epoch_1.pt\n",
      "Epoch 2 of 200\n"
     ]
    },
    {
     "name": "stderr",
     "output_type": "stream",
     "text": [
      "100%|██████████| 23/23 [00:02<00:00, 10.99it/s]\n",
      "100%|██████████| 3/3 [00:00<00:00,  8.34it/s]\n",
      "  0%|          | 0/23 [00:00<?, ?it/s]"
     ]
    },
    {
     "name": "stdout",
     "output_type": "stream",
     "text": [
      "Train Loss: 0.1168, Train Acc: 0.9604\n",
      "Val Loss: 0.1110, Val Acc: 0.9595\n",
      "Validation loss decreased (0.151998 --> 0.111001).  Saving model ...\n",
      "../az_model_cd/GRS_SavedModel/GRSModel_none/2015/best_model_epoch_2.pt\n",
      "../az_model_cd/GRS_SavedModel/GRSOpt_none/2015/best_optimizer_epoch_2.pt\n",
      "Epoch 3 of 200\n"
     ]
    },
    {
     "name": "stderr",
     "output_type": "stream",
     "text": [
      "100%|██████████| 23/23 [00:01<00:00, 11.82it/s]\n",
      "100%|██████████| 3/3 [00:00<00:00, 18.32it/s]\n",
      "  0%|          | 0/23 [00:00<?, ?it/s]"
     ]
    },
    {
     "name": "stdout",
     "output_type": "stream",
     "text": [
      "Train Loss: 0.0949, Train Acc: 0.9693\n",
      "Val Loss: 0.0972, Val Acc: 0.9665\n",
      "Validation loss decreased (0.111001 --> 0.097220).  Saving model ...\n",
      "../az_model_cd/GRS_SavedModel/GRSModel_none/2015/best_model_epoch_3.pt\n",
      "../az_model_cd/GRS_SavedModel/GRSOpt_none/2015/best_optimizer_epoch_3.pt\n",
      "Epoch 4 of 200\n"
     ]
    },
    {
     "name": "stderr",
     "output_type": "stream",
     "text": [
      "100%|██████████| 23/23 [00:01<00:00, 11.92it/s]\n",
      "100%|██████████| 3/3 [00:00<00:00, 18.09it/s]\n",
      "  0%|          | 0/23 [00:00<?, ?it/s]"
     ]
    },
    {
     "name": "stdout",
     "output_type": "stream",
     "text": [
      "Train Loss: 0.0784, Train Acc: 0.9747\n",
      "Val Loss: 0.0899, Val Acc: 0.9684\n",
      "Validation loss decreased (0.097220 --> 0.089898).  Saving model ...\n",
      "../az_model_cd/GRS_SavedModel/GRSModel_none/2015/best_model_epoch_4.pt\n",
      "../az_model_cd/GRS_SavedModel/GRSOpt_none/2015/best_optimizer_epoch_4.pt\n",
      "Epoch 5 of 200\n"
     ]
    },
    {
     "name": "stderr",
     "output_type": "stream",
     "text": [
      "100%|██████████| 23/23 [00:01<00:00, 12.70it/s]\n",
      "100%|██████████| 3/3 [00:00<00:00, 10.32it/s]\n",
      "  0%|          | 0/23 [00:00<?, ?it/s]"
     ]
    },
    {
     "name": "stdout",
     "output_type": "stream",
     "text": [
      "Train Loss: 0.0670, Train Acc: 0.9785\n",
      "Val Loss: 0.0837, Val Acc: 0.9722\n",
      "Validation loss decreased (0.089898 --> 0.083692).  Saving model ...\n",
      "../az_model_cd/GRS_SavedModel/GRSModel_none/2015/best_model_epoch_5.pt\n",
      "../az_model_cd/GRS_SavedModel/GRSOpt_none/2015/best_optimizer_epoch_5.pt\n",
      "Epoch 6 of 200\n"
     ]
    },
    {
     "name": "stderr",
     "output_type": "stream",
     "text": [
      "100%|██████████| 23/23 [00:01<00:00, 12.36it/s]\n",
      "100%|██████████| 3/3 [00:00<00:00, 18.21it/s]\n",
      "  0%|          | 0/23 [00:00<?, ?it/s]"
     ]
    },
    {
     "name": "stdout",
     "output_type": "stream",
     "text": [
      "Train Loss: 0.0632, Train Acc: 0.9801\n",
      "Val Loss: 0.0855, Val Acc: 0.9712\n",
      "EarlyStopping counter: 1 out of 5\n",
      "Epoch 7 of 200\n"
     ]
    },
    {
     "name": "stderr",
     "output_type": "stream",
     "text": [
      "100%|██████████| 23/23 [00:01<00:00, 13.74it/s]\n",
      "100%|██████████| 3/3 [00:00<00:00, 11.38it/s]\n",
      "  0%|          | 0/23 [00:00<?, ?it/s]"
     ]
    },
    {
     "name": "stdout",
     "output_type": "stream",
     "text": [
      "Train Loss: 0.0563, Train Acc: 0.9822\n",
      "Val Loss: 0.0797, Val Acc: 0.9744\n",
      "Validation loss decreased (0.083692 --> 0.079676).  Saving model ...\n",
      "../az_model_cd/GRS_SavedModel/GRSModel_none/2015/best_model_epoch_7.pt\n",
      "../az_model_cd/GRS_SavedModel/GRSOpt_none/2015/best_optimizer_epoch_7.pt\n",
      "Epoch 8 of 200\n"
     ]
    },
    {
     "name": "stderr",
     "output_type": "stream",
     "text": [
      "100%|██████████| 23/23 [00:01<00:00, 12.39it/s]\n",
      "100%|██████████| 3/3 [00:00<00:00, 16.02it/s]\n",
      "  0%|          | 0/23 [00:00<?, ?it/s]"
     ]
    },
    {
     "name": "stdout",
     "output_type": "stream",
     "text": [
      "Train Loss: 0.0549, Train Acc: 0.9829\n",
      "Val Loss: 0.0822, Val Acc: 0.9729\n",
      "EarlyStopping counter: 1 out of 5\n",
      "Epoch 9 of 200\n"
     ]
    },
    {
     "name": "stderr",
     "output_type": "stream",
     "text": [
      "100%|██████████| 23/23 [00:02<00:00, 10.33it/s]\n",
      "100%|██████████| 3/3 [00:00<00:00, 11.26it/s]\n",
      "  0%|          | 0/23 [00:00<?, ?it/s]"
     ]
    },
    {
     "name": "stdout",
     "output_type": "stream",
     "text": [
      "Train Loss: 0.0493, Train Acc: 0.9846\n",
      "Val Loss: 0.0761, Val Acc: 0.9762\n",
      "Validation loss decreased (0.079676 --> 0.076117).  Saving model ...\n",
      "../az_model_cd/GRS_SavedModel/GRSModel_none/2015/best_model_epoch_9.pt\n",
      "../az_model_cd/GRS_SavedModel/GRSOpt_none/2015/best_optimizer_epoch_9.pt\n",
      "Epoch 10 of 200\n"
     ]
    },
    {
     "name": "stderr",
     "output_type": "stream",
     "text": [
      "100%|██████████| 23/23 [00:01<00:00, 11.88it/s]\n",
      "100%|██████████| 3/3 [00:00<00:00, 18.26it/s]\n",
      "  0%|          | 0/23 [00:00<?, ?it/s]"
     ]
    },
    {
     "name": "stdout",
     "output_type": "stream",
     "text": [
      "Train Loss: 0.0451, Train Acc: 0.9854\n",
      "Val Loss: 0.0778, Val Acc: 0.9761\n",
      "EarlyStopping counter: 1 out of 5\n",
      "Epoch 11 of 200\n"
     ]
    },
    {
     "name": "stderr",
     "output_type": "stream",
     "text": [
      "100%|██████████| 23/23 [00:01<00:00, 12.20it/s]\n",
      "100%|██████████| 3/3 [00:00<00:00,  9.76it/s]\n",
      "  0%|          | 0/23 [00:00<?, ?it/s]"
     ]
    },
    {
     "name": "stdout",
     "output_type": "stream",
     "text": [
      "Train Loss: 0.0438, Train Acc: 0.9865\n",
      "Val Loss: 0.0744, Val Acc: 0.9783\n",
      "Validation loss decreased (0.076117 --> 0.074428).  Saving model ...\n",
      "../az_model_cd/GRS_SavedModel/GRSModel_none/2015/best_model_epoch_11.pt\n",
      "../az_model_cd/GRS_SavedModel/GRSOpt_none/2015/best_optimizer_epoch_11.pt\n",
      "Epoch 12 of 200\n"
     ]
    },
    {
     "name": "stderr",
     "output_type": "stream",
     "text": [
      "100%|██████████| 23/23 [00:02<00:00, 11.17it/s]\n",
      "100%|██████████| 3/3 [00:00<00:00, 18.61it/s]\n",
      "  0%|          | 0/23 [00:00<?, ?it/s]"
     ]
    },
    {
     "name": "stdout",
     "output_type": "stream",
     "text": [
      "Train Loss: 0.0423, Train Acc: 0.9866\n",
      "Val Loss: 0.0773, Val Acc: 0.9774\n",
      "EarlyStopping counter: 1 out of 5\n",
      "Epoch 13 of 200\n"
     ]
    },
    {
     "name": "stderr",
     "output_type": "stream",
     "text": [
      "100%|██████████| 23/23 [00:01<00:00, 12.01it/s]\n",
      "100%|██████████| 3/3 [00:00<00:00, 11.68it/s]\n",
      "  0%|          | 0/23 [00:00<?, ?it/s]"
     ]
    },
    {
     "name": "stdout",
     "output_type": "stream",
     "text": [
      "Train Loss: 0.0398, Train Acc: 0.9870\n",
      "Val Loss: 0.0766, Val Acc: 0.9775\n",
      "EarlyStopping counter: 2 out of 5\n",
      "Epoch 14 of 200\n"
     ]
    },
    {
     "name": "stderr",
     "output_type": "stream",
     "text": [
      "100%|██████████| 23/23 [00:01<00:00, 12.03it/s]\n",
      "100%|██████████| 3/3 [00:00<00:00, 20.39it/s]\n",
      "  0%|          | 0/23 [00:00<?, ?it/s]"
     ]
    },
    {
     "name": "stdout",
     "output_type": "stream",
     "text": [
      "Train Loss: 0.0398, Train Acc: 0.9875\n",
      "Val Loss: 0.0766, Val Acc: 0.9781\n",
      "EarlyStopping counter: 3 out of 5\n",
      "Epoch 15 of 200\n"
     ]
    },
    {
     "name": "stderr",
     "output_type": "stream",
     "text": [
      "100%|██████████| 23/23 [00:01<00:00, 12.98it/s]\n",
      "100%|██████████| 3/3 [00:00<00:00, 17.07it/s]\n",
      "  0%|          | 0/23 [00:00<?, ?it/s]"
     ]
    },
    {
     "name": "stdout",
     "output_type": "stream",
     "text": [
      "Train Loss: 0.0389, Train Acc: 0.9872\n",
      "Val Loss: 0.0701, Val Acc: 0.9793\n",
      "Validation loss decreased (0.074428 --> 0.070148).  Saving model ...\n",
      "../az_model_cd/GRS_SavedModel/GRSModel_none/2015/best_model_epoch_15.pt\n",
      "../az_model_cd/GRS_SavedModel/GRSOpt_none/2015/best_optimizer_epoch_15.pt\n",
      "Epoch 16 of 200\n"
     ]
    },
    {
     "name": "stderr",
     "output_type": "stream",
     "text": [
      "100%|██████████| 23/23 [00:01<00:00, 12.39it/s]\n",
      "100%|██████████| 3/3 [00:00<00:00, 10.68it/s]\n",
      "  0%|          | 0/23 [00:00<?, ?it/s]"
     ]
    },
    {
     "name": "stdout",
     "output_type": "stream",
     "text": [
      "Train Loss: 0.0350, Train Acc: 0.9887\n",
      "Val Loss: 0.0745, Val Acc: 0.9787\n",
      "EarlyStopping counter: 1 out of 5\n",
      "Epoch 17 of 200\n"
     ]
    },
    {
     "name": "stderr",
     "output_type": "stream",
     "text": [
      "100%|██████████| 23/23 [00:01<00:00, 11.97it/s]\n",
      "100%|██████████| 3/3 [00:00<00:00, 18.86it/s]\n",
      "  0%|          | 0/23 [00:00<?, ?it/s]"
     ]
    },
    {
     "name": "stdout",
     "output_type": "stream",
     "text": [
      "Train Loss: 0.0354, Train Acc: 0.9888\n",
      "Val Loss: 0.0822, Val Acc: 0.9773\n",
      "EarlyStopping counter: 2 out of 5\n",
      "Epoch 18 of 200\n"
     ]
    },
    {
     "name": "stderr",
     "output_type": "stream",
     "text": [
      "100%|██████████| 23/23 [00:01<00:00, 13.29it/s]\n",
      "100%|██████████| 3/3 [00:00<00:00, 10.59it/s]\n",
      "  0%|          | 0/23 [00:00<?, ?it/s]"
     ]
    },
    {
     "name": "stdout",
     "output_type": "stream",
     "text": [
      "Train Loss: 0.0331, Train Acc: 0.9896\n",
      "Val Loss: 0.0729, Val Acc: 0.9815\n",
      "EarlyStopping counter: 3 out of 5\n",
      "Epoch 19 of 200\n"
     ]
    },
    {
     "name": "stderr",
     "output_type": "stream",
     "text": [
      "100%|██████████| 23/23 [00:01<00:00, 12.06it/s]\n",
      "100%|██████████| 3/3 [00:00<00:00, 19.20it/s]\n",
      "  0%|          | 0/23 [00:00<?, ?it/s]"
     ]
    },
    {
     "name": "stdout",
     "output_type": "stream",
     "text": [
      "Train Loss: 0.0326, Train Acc: 0.9897\n",
      "Val Loss: 0.0732, Val Acc: 0.9801\n",
      "EarlyStopping counter: 4 out of 5\n",
      "Epoch 20 of 200\n"
     ]
    },
    {
     "name": "stderr",
     "output_type": "stream",
     "text": [
      "100%|██████████| 23/23 [00:01<00:00, 13.03it/s]\n",
      "100%|██████████| 3/3 [00:00<00:00, 10.88it/s]\n",
      "  0%|          | 0/1 [00:00<?, ?it/s]"
     ]
    },
    {
     "name": "stdout",
     "output_type": "stream",
     "text": [
      "Train Loss: 0.0338, Train Acc: 0.9894\n",
      "Val Loss: 0.0767, Val Acc: 0.9802\n",
      "EarlyStopping counter: 5 out of 5\n",
      "Early stopping\n",
      "Training time: 0.720 minutes\n",
      "Elapsed time 4.372211746374766 mins.\n",
      "loading best model ../az_model_cd/GRS_SavedModel/GRSModel_none/2015/best_model_epoch_15.pt\n",
      "loading best optimizer ../az_model_cd/GRS_SavedModel/GRSOpt_none/2015/best_optimizer_epoch_15.pt\n"
     ]
    },
    {
     "name": "stderr",
     "output_type": "stream",
     "text": [
      "100%|██████████| 1/1 [00:00<00:00,  3.97it/s]\n",
      "100%|██████████| 1/1 [00:00<00:00,  7.92it/s]\n",
      "100%|██████████| 1/1 [00:00<00:00,  4.55it/s]\n",
      "100%|██████████| 3/3 [00:00<00:00,  8.62it/s]\n",
      "100%|██████████| 3/3 [00:00<00:00,  8.23it/s]\n",
      "100%|██████████| 3/3 [00:00<00:00,  7.29it/s]\n",
      "100%|██████████| 3/3 [00:00<00:00,  8.20it/s]\n",
      "100%|██████████| 3/3 [00:00<00:00,  8.06it/s]\n",
      "100%|██████████| 3/3 [00:00<00:00,  8.83it/s]\n"
     ]
    },
    {
     "name": "stdout",
     "output_type": "stream",
     "text": [
      "Elapsed time 4.445895254611969 mins.\n",
      "\n",
      "2024-05-26 22:54:48 Round 1 ...\n",
      "Current Task 2016 with Budget none\n",
      "X_train (86510, 1789) Y_train (86510,)\n",
      "\n",
      "2024-05-26 22:54:49 Standardizing ...\n"
     ]
    },
    {
     "name": "stderr",
     "output_type": "stream",
     "text": [
      "\r",
      "  0%|          | 0/19 [00:00<?, ?it/s]"
     ]
    },
    {
     "name": "stdout",
     "output_type": "stream",
     "text": [
      "2024-05-26 22:54:50 Training ...\n",
      "Epoch 1 of 200\n"
     ]
    },
    {
     "name": "stderr",
     "output_type": "stream",
     "text": [
      "100%|██████████| 19/19 [00:01<00:00,  9.84it/s]\n",
      "100%|██████████| 3/3 [00:00<00:00, 17.19it/s]\n",
      "  0%|          | 0/19 [00:00<?, ?it/s]"
     ]
    },
    {
     "name": "stdout",
     "output_type": "stream",
     "text": [
      "Train Loss: 0.1891, Train Acc: 0.9441\n",
      "Val Loss: 0.1122, Val Acc: 0.9472\n",
      "Validation loss decreased (inf --> 0.112177).  Saving model ...\n",
      "../az_model_cd/GRS_SavedModel/GRSModel_none/2016/best_model_epoch_1.pt\n",
      "../az_model_cd/GRS_SavedModel/GRSOpt_none/2016/best_optimizer_epoch_1.pt\n",
      "Epoch 2 of 200\n"
     ]
    },
    {
     "name": "stderr",
     "output_type": "stream",
     "text": [
      "100%|██████████| 19/19 [00:01<00:00, 11.44it/s]\n",
      "100%|██████████| 3/3 [00:00<00:00, 18.34it/s]\n",
      "  0%|          | 0/19 [00:00<?, ?it/s]"
     ]
    },
    {
     "name": "stdout",
     "output_type": "stream",
     "text": [
      "Train Loss: 0.1075, Train Acc: 0.9612\n",
      "Val Loss: 0.0854, Val Acc: 0.9671\n",
      "Validation loss decreased (0.112177 --> 0.085438).  Saving model ...\n",
      "../az_model_cd/GRS_SavedModel/GRSModel_none/2016/best_model_epoch_2.pt\n",
      "../az_model_cd/GRS_SavedModel/GRSOpt_none/2016/best_optimizer_epoch_2.pt\n",
      "Epoch 3 of 200\n"
     ]
    },
    {
     "name": "stderr",
     "output_type": "stream",
     "text": [
      "100%|██████████| 19/19 [00:02<00:00,  9.49it/s]\n",
      "100%|██████████| 3/3 [00:00<00:00, 11.51it/s]\n",
      "  0%|          | 0/19 [00:00<?, ?it/s]"
     ]
    },
    {
     "name": "stdout",
     "output_type": "stream",
     "text": [
      "Train Loss: 0.0879, Train Acc: 0.9685\n",
      "Val Loss: 0.0734, Val Acc: 0.9725\n",
      "Validation loss decreased (0.085438 --> 0.073410).  Saving model ...\n",
      "../az_model_cd/GRS_SavedModel/GRSModel_none/2016/best_model_epoch_3.pt\n",
      "../az_model_cd/GRS_SavedModel/GRSOpt_none/2016/best_optimizer_epoch_3.pt\n",
      "Epoch 4 of 200\n"
     ]
    },
    {
     "name": "stderr",
     "output_type": "stream",
     "text": [
      "100%|██████████| 19/19 [00:01<00:00, 11.86it/s]\n",
      "100%|██████████| 3/3 [00:00<00:00, 19.73it/s]\n",
      "  0%|          | 0/19 [00:00<?, ?it/s]"
     ]
    },
    {
     "name": "stdout",
     "output_type": "stream",
     "text": [
      "Train Loss: 0.0740, Train Acc: 0.9748\n",
      "Val Loss: 0.0649, Val Acc: 0.9786\n",
      "Validation loss decreased (0.073410 --> 0.064876).  Saving model ...\n",
      "../az_model_cd/GRS_SavedModel/GRSModel_none/2016/best_model_epoch_4.pt\n",
      "../az_model_cd/GRS_SavedModel/GRSOpt_none/2016/best_optimizer_epoch_4.pt\n",
      "Epoch 5 of 200\n"
     ]
    },
    {
     "name": "stderr",
     "output_type": "stream",
     "text": [
      "100%|██████████| 19/19 [00:01<00:00,  9.83it/s]\n",
      "100%|██████████| 3/3 [00:00<00:00, 12.15it/s]\n",
      "  0%|          | 0/19 [00:00<?, ?it/s]"
     ]
    },
    {
     "name": "stdout",
     "output_type": "stream",
     "text": [
      "Train Loss: 0.0622, Train Acc: 0.9789\n",
      "Val Loss: 0.0597, Val Acc: 0.9823\n",
      "Validation loss decreased (0.064876 --> 0.059678).  Saving model ...\n",
      "../az_model_cd/GRS_SavedModel/GRSModel_none/2016/best_model_epoch_5.pt\n",
      "../az_model_cd/GRS_SavedModel/GRSOpt_none/2016/best_optimizer_epoch_5.pt\n",
      "Epoch 6 of 200\n"
     ]
    },
    {
     "name": "stderr",
     "output_type": "stream",
     "text": [
      "100%|██████████| 19/19 [00:01<00:00, 11.91it/s]\n",
      "100%|██████████| 3/3 [00:00<00:00, 21.51it/s]\n",
      "  0%|          | 0/19 [00:00<?, ?it/s]"
     ]
    },
    {
     "name": "stdout",
     "output_type": "stream",
     "text": [
      "Train Loss: 0.0564, Train Acc: 0.9810\n",
      "Val Loss: 0.0543, Val Acc: 0.9842\n",
      "Validation loss decreased (0.059678 --> 0.054280).  Saving model ...\n",
      "../az_model_cd/GRS_SavedModel/GRSModel_none/2016/best_model_epoch_6.pt\n",
      "../az_model_cd/GRS_SavedModel/GRSOpt_none/2016/best_optimizer_epoch_6.pt\n",
      "Epoch 7 of 200\n"
     ]
    },
    {
     "name": "stderr",
     "output_type": "stream",
     "text": [
      "100%|██████████| 19/19 [00:01<00:00, 12.92it/s]\n",
      "100%|██████████| 3/3 [00:00<00:00, 16.95it/s]\n",
      "  0%|          | 0/19 [00:00<?, ?it/s]"
     ]
    },
    {
     "name": "stdout",
     "output_type": "stream",
     "text": [
      "Train Loss: 0.0488, Train Acc: 0.9841\n",
      "Val Loss: 0.0523, Val Acc: 0.9834\n",
      "Validation loss decreased (0.054280 --> 0.052323).  Saving model ...\n",
      "../az_model_cd/GRS_SavedModel/GRSModel_none/2016/best_model_epoch_7.pt\n",
      "../az_model_cd/GRS_SavedModel/GRSOpt_none/2016/best_optimizer_epoch_7.pt\n",
      "Epoch 8 of 200\n"
     ]
    },
    {
     "name": "stderr",
     "output_type": "stream",
     "text": [
      "100%|██████████| 19/19 [00:01<00:00, 11.24it/s]\n",
      "100%|██████████| 3/3 [00:00<00:00, 11.17it/s]\n",
      "  0%|          | 0/19 [00:00<?, ?it/s]"
     ]
    },
    {
     "name": "stdout",
     "output_type": "stream",
     "text": [
      "Train Loss: 0.0430, Train Acc: 0.9857\n",
      "Val Loss: 0.0529, Val Acc: 0.9852\n",
      "EarlyStopping counter: 1 out of 5\n",
      "Epoch 9 of 200\n"
     ]
    },
    {
     "name": "stderr",
     "output_type": "stream",
     "text": [
      "100%|██████████| 19/19 [00:01<00:00, 11.84it/s]\n",
      "100%|██████████| 3/3 [00:00<00:00, 21.23it/s]\n",
      "  0%|          | 0/19 [00:00<?, ?it/s]"
     ]
    },
    {
     "name": "stdout",
     "output_type": "stream",
     "text": [
      "Train Loss: 0.0379, Train Acc: 0.9876\n",
      "Val Loss: 0.0542, Val Acc: 0.9838\n",
      "EarlyStopping counter: 2 out of 5\n",
      "Epoch 10 of 200\n"
     ]
    },
    {
     "name": "stderr",
     "output_type": "stream",
     "text": [
      "100%|██████████| 19/19 [00:01<00:00, 12.78it/s]\n",
      "100%|██████████| 3/3 [00:00<00:00, 22.71it/s]\n",
      "  0%|          | 0/19 [00:00<?, ?it/s]"
     ]
    },
    {
     "name": "stdout",
     "output_type": "stream",
     "text": [
      "Train Loss: 0.0384, Train Acc: 0.9876\n",
      "Val Loss: 0.0552, Val Acc: 0.9838\n",
      "EarlyStopping counter: 3 out of 5\n",
      "Epoch 11 of 200\n"
     ]
    },
    {
     "name": "stderr",
     "output_type": "stream",
     "text": [
      "100%|██████████| 19/19 [00:01<00:00,  9.86it/s]\n",
      "100%|██████████| 3/3 [00:00<00:00, 12.09it/s]\n",
      "  0%|          | 0/19 [00:00<?, ?it/s]"
     ]
    },
    {
     "name": "stdout",
     "output_type": "stream",
     "text": [
      "Train Loss: 0.0336, Train Acc: 0.9894\n",
      "Val Loss: 0.0561, Val Acc: 0.9830\n",
      "EarlyStopping counter: 4 out of 5\n",
      "Epoch 12 of 200\n"
     ]
    },
    {
     "name": "stderr",
     "output_type": "stream",
     "text": [
      "100%|██████████| 19/19 [00:01<00:00, 11.72it/s]\n",
      "100%|██████████| 3/3 [00:00<00:00, 21.25it/s]\n",
      "  0%|          | 0/19 [00:00<?, ?it/s]"
     ]
    },
    {
     "name": "stdout",
     "output_type": "stream",
     "text": [
      "Train Loss: 0.0355, Train Acc: 0.9886\n",
      "Val Loss: 0.0522, Val Acc: 0.9843\n",
      "Validation loss decreased (0.052323 --> 0.052224).  Saving model ...\n",
      "../az_model_cd/GRS_SavedModel/GRSModel_none/2016/best_model_epoch_12.pt\n",
      "../az_model_cd/GRS_SavedModel/GRSOpt_none/2016/best_optimizer_epoch_12.pt\n",
      "Epoch 13 of 200\n"
     ]
    },
    {
     "name": "stderr",
     "output_type": "stream",
     "text": [
      "100%|██████████| 19/19 [00:01<00:00, 11.67it/s]\n",
      "100%|██████████| 3/3 [00:00<00:00, 21.02it/s]\n",
      "  0%|          | 0/19 [00:00<?, ?it/s]"
     ]
    },
    {
     "name": "stdout",
     "output_type": "stream",
     "text": [
      "Train Loss: 0.0305, Train Acc: 0.9904\n",
      "Val Loss: 0.0535, Val Acc: 0.9842\n",
      "EarlyStopping counter: 1 out of 5\n",
      "Epoch 14 of 200\n"
     ]
    },
    {
     "name": "stderr",
     "output_type": "stream",
     "text": [
      "100%|██████████| 19/19 [00:01<00:00, 12.74it/s]\n",
      "100%|██████████| 3/3 [00:00<00:00, 10.88it/s]\n",
      "  0%|          | 0/19 [00:00<?, ?it/s]"
     ]
    },
    {
     "name": "stdout",
     "output_type": "stream",
     "text": [
      "Train Loss: 0.0272, Train Acc: 0.9917\n",
      "Val Loss: 0.0527, Val Acc: 0.9864\n",
      "EarlyStopping counter: 2 out of 5\n",
      "Epoch 15 of 200\n"
     ]
    },
    {
     "name": "stderr",
     "output_type": "stream",
     "text": [
      "100%|██████████| 19/19 [00:01<00:00, 12.04it/s]\n",
      "100%|██████████| 3/3 [00:00<00:00, 20.56it/s]\n",
      "  0%|          | 0/19 [00:00<?, ?it/s]"
     ]
    },
    {
     "name": "stdout",
     "output_type": "stream",
     "text": [
      "Train Loss: 0.0280, Train Acc: 0.9911\n",
      "Val Loss: 0.0558, Val Acc: 0.9853\n",
      "EarlyStopping counter: 3 out of 5\n",
      "Epoch 16 of 200\n"
     ]
    },
    {
     "name": "stderr",
     "output_type": "stream",
     "text": [
      "100%|██████████| 19/19 [00:01<00:00, 11.85it/s]\n",
      "100%|██████████| 3/3 [00:00<00:00, 20.42it/s]\n",
      "  0%|          | 0/19 [00:00<?, ?it/s]"
     ]
    },
    {
     "name": "stdout",
     "output_type": "stream",
     "text": [
      "Train Loss: 0.0258, Train Acc: 0.9922\n",
      "Val Loss: 0.0499, Val Acc: 0.9875\n",
      "Validation loss decreased (0.052224 --> 0.049920).  Saving model ...\n",
      "../az_model_cd/GRS_SavedModel/GRSModel_none/2016/best_model_epoch_16.pt\n",
      "../az_model_cd/GRS_SavedModel/GRSOpt_none/2016/best_optimizer_epoch_16.pt\n",
      "Epoch 17 of 200\n"
     ]
    },
    {
     "name": "stderr",
     "output_type": "stream",
     "text": [
      "100%|██████████| 19/19 [00:01<00:00, 11.77it/s]\n",
      "100%|██████████| 3/3 [00:00<00:00,  9.67it/s]\n",
      "  0%|          | 0/19 [00:00<?, ?it/s]"
     ]
    },
    {
     "name": "stdout",
     "output_type": "stream",
     "text": [
      "Train Loss: 0.0254, Train Acc: 0.9922\n",
      "Val Loss: 0.0502, Val Acc: 0.9871\n",
      "EarlyStopping counter: 1 out of 5\n",
      "Epoch 18 of 200\n"
     ]
    },
    {
     "name": "stderr",
     "output_type": "stream",
     "text": [
      "100%|██████████| 19/19 [00:01<00:00, 11.83it/s]\n",
      "100%|██████████| 3/3 [00:00<00:00, 20.71it/s]\n",
      "  0%|          | 0/19 [00:00<?, ?it/s]"
     ]
    },
    {
     "name": "stdout",
     "output_type": "stream",
     "text": [
      "Train Loss: 0.0244, Train Acc: 0.9925\n",
      "Val Loss: 0.0534, Val Acc: 0.9860\n",
      "EarlyStopping counter: 2 out of 5\n",
      "Epoch 19 of 200\n"
     ]
    },
    {
     "name": "stderr",
     "output_type": "stream",
     "text": [
      "100%|██████████| 19/19 [00:01<00:00, 12.07it/s]\n",
      "100%|██████████| 3/3 [00:00<00:00, 12.01it/s]\n",
      "  0%|          | 0/19 [00:00<?, ?it/s]"
     ]
    },
    {
     "name": "stdout",
     "output_type": "stream",
     "text": [
      "Train Loss: 0.0234, Train Acc: 0.9930\n",
      "Val Loss: 0.0511, Val Acc: 0.9872\n",
      "EarlyStopping counter: 3 out of 5\n",
      "Epoch 20 of 200\n"
     ]
    },
    {
     "name": "stderr",
     "output_type": "stream",
     "text": [
      "100%|██████████| 19/19 [00:01<00:00, 11.96it/s]\n",
      "100%|██████████| 3/3 [00:00<00:00, 21.63it/s]\n",
      "  0%|          | 0/19 [00:00<?, ?it/s]"
     ]
    },
    {
     "name": "stdout",
     "output_type": "stream",
     "text": [
      "Train Loss: 0.0212, Train Acc: 0.9936\n",
      "Val Loss: 0.0532, Val Acc: 0.9867\n",
      "EarlyStopping counter: 4 out of 5\n",
      "Epoch 21 of 200\n"
     ]
    },
    {
     "name": "stderr",
     "output_type": "stream",
     "text": [
      "100%|██████████| 19/19 [00:01<00:00, 10.43it/s]\n",
      "100%|██████████| 3/3 [00:00<00:00, 19.42it/s]\n",
      "  0%|          | 0/1 [00:00<?, ?it/s]"
     ]
    },
    {
     "name": "stdout",
     "output_type": "stream",
     "text": [
      "Train Loss: 0.0214, Train Acc: 0.9934\n",
      "Val Loss: 0.0533, Val Acc: 0.9877\n",
      "EarlyStopping counter: 5 out of 5\n",
      "Early stopping\n",
      "Training time: 0.663 minutes\n",
      "Elapsed time 5.139290448029836 mins.\n",
      "loading best model ../az_model_cd/GRS_SavedModel/GRSModel_none/2016/best_model_epoch_16.pt\n",
      "loading best optimizer ../az_model_cd/GRS_SavedModel/GRSOpt_none/2016/best_optimizer_epoch_16.pt\n"
     ]
    },
    {
     "name": "stderr",
     "output_type": "stream",
     "text": [
      "100%|██████████| 1/1 [00:00<00:00,  4.15it/s]\n",
      "100%|██████████| 1/1 [00:00<00:00,  7.86it/s]\n",
      "100%|██████████| 1/1 [00:00<00:00,  4.56it/s]\n",
      "100%|██████████| 3/3 [00:00<00:00,  6.37it/s]\n",
      "100%|██████████| 3/3 [00:00<00:00,  5.35it/s]\n",
      "100%|██████████| 3/3 [00:00<00:00,  5.88it/s]\n",
      "100%|██████████| 3/3 [00:00<00:00,  6.14it/s]\n",
      "100%|██████████| 3/3 [00:00<00:00,  6.06it/s]\n",
      "100%|██████████| 3/3 [00:00<00:00,  6.58it/s]"
     ]
    },
    {
     "name": "stdout",
     "output_type": "stream",
     "text": [
      "Elapsed time 5.22671416203181 mins.\n",
      "Avg-Acc-Till-Current-Task-Joint\t0.8978964356842424\t\tFuture-Acc\t0.7768589081124417\n"
     ]
    },
    {
     "name": "stderr",
     "output_type": "stream",
     "text": [
      "\n"
     ]
    },
    {
     "ename": "FileNotFoundError",
     "evalue": "[Errno 2] No such file or directory: './Submission_Domain_Concept_Drift/grs_none_results.txt'",
     "output_type": "error",
     "traceback": [
      "\u001b[0;31m---------------------------------------------------------------------------\u001b[0m",
      "\u001b[0;31mFileNotFoundError\u001b[0m                         Traceback (most recent call last)",
      "\u001b[0;32m<ipython-input-77-0891902ef2d0>\u001b[0m in \u001b[0;36m<module>\u001b[0;34m\u001b[0m\n\u001b[1;32m    242\u001b[0m     \u001b[0mglobal_future_acc\u001b[0m\u001b[0;34m.\u001b[0m\u001b[0mappend\u001b[0m\u001b[0;34m(\u001b[0m\u001b[0mnp\u001b[0m\u001b[0;34m.\u001b[0m\u001b[0mmean\u001b[0m\u001b[0;34m(\u001b[0m\u001b[0mfuture_acc_all\u001b[0m\u001b[0;34m)\u001b[0m\u001b[0;34m)\u001b[0m\u001b[0;34m\u001b[0m\u001b[0;34m\u001b[0m\u001b[0m\n\u001b[1;32m    243\u001b[0m \u001b[0;34m\u001b[0m\u001b[0m\n\u001b[0;32m--> 244\u001b[0;31m     \u001b[0mresults_f\u001b[0m \u001b[0;34m=\u001b[0m \u001b[0mopen\u001b[0m\u001b[0;34m(\u001b[0m\u001b[0mos\u001b[0m\u001b[0;34m.\u001b[0m\u001b[0mpath\u001b[0m\u001b[0;34m.\u001b[0m\u001b[0mjoin\u001b[0m\u001b[0;34m(\u001b[0m\u001b[0;34m'./Submission_Domain_Concept_Drift/'\u001b[0m \u001b[0;34m+\u001b[0m \u001b[0;34m'grs_'\u001b[0m \u001b[0;34m+\u001b[0m \u001b[0mstr\u001b[0m\u001b[0;34m(\u001b[0m\u001b[0mmemory_budget\u001b[0m\u001b[0;34m)\u001b[0m \u001b[0;34m+\u001b[0m \u001b[0;34m'_results.txt'\u001b[0m\u001b[0;34m)\u001b[0m\u001b[0;34m,\u001b[0m \u001b[0;34m'a'\u001b[0m\u001b[0;34m)\u001b[0m\u001b[0;34m\u001b[0m\u001b[0;34m\u001b[0m\u001b[0m\n\u001b[0m\u001b[1;32m    245\u001b[0m     \u001b[0mresult_string\u001b[0m \u001b[0;34m=\u001b[0m \u001b[0;34m'{}\\t{}\\t\\n'\u001b[0m\u001b[0;34m.\u001b[0m\u001b[0mformat\u001b[0m\u001b[0;34m(\u001b[0m\u001b[0mnp\u001b[0m\u001b[0;34m.\u001b[0m\u001b[0mmean\u001b[0m\u001b[0;34m(\u001b[0m\u001b[0mjoint_acc_all\u001b[0m\u001b[0;34m)\u001b[0m\u001b[0;34m,\u001b[0m \u001b[0mnp\u001b[0m\u001b[0;34m.\u001b[0m\u001b[0mmean\u001b[0m\u001b[0;34m(\u001b[0m\u001b[0mfuture_acc_all\u001b[0m\u001b[0;34m)\u001b[0m\u001b[0;34m)\u001b[0m\u001b[0;34m\u001b[0m\u001b[0;34m\u001b[0m\u001b[0m\n\u001b[1;32m    246\u001b[0m \u001b[0;34m\u001b[0m\u001b[0m\n",
      "\u001b[0;31mFileNotFoundError\u001b[0m: [Errno 2] No such file or directory: './Submission_Domain_Concept_Drift/grs_none_results.txt'"
     ]
    }
   ],
   "source": [
    "def testing_aucscore(model, X_test, Y_test, batch_size, device):\n",
    "    #X_te = torch.from_numpy(X_test).type(torch.FloatTensor)\n",
    "    #y_te = torch.from_numpy(Y_test).type(torch.FloatTensor) \n",
    "    \n",
    "    testloader = get_dataloader(X_test, Y_test, batch_size, train_data=False)   \n",
    "    \n",
    "    model.eval()\n",
    "    y_pred_list = []\n",
    "    y_true_list = []\n",
    "    test_acc = []\n",
    "    with torch.no_grad():\n",
    "        for x_batch, y_batch in tqdm(testloader):\n",
    "            x_batch, y_batch = x_batch.to(device), y_batch.to(device)\n",
    "            y_test_pred = model(x_batch)\n",
    "            tmp_test_acc = binary_acc(y_test_pred, y_batch)\n",
    "            test_acc.append(tmp_test_acc.item())\n",
    "            \n",
    "            y_pred_tag = torch.round(y_test_pred).squeeze(1)\n",
    "            y_pred_list += list(y_pred_tag.cpu().numpy())\n",
    "            y_true_list += list(y_batch.cpu().numpy())\n",
    "        \n",
    "            \n",
    "    #correct_test_results = (np.array(y_pred_list) == np.array(y_true_list)).sum()\n",
    "    #acc = correct_test_results/len(y_true_list)\n",
    "    \n",
    "#     from sklearn.metrics import f1_score, roc_auc_score, precision_score, recall_score, accuracy_score\n",
    "    \n",
    "#     correct_labels, predicted_labels = np.array(y_true_list), np.array(y_pred_list)\n",
    "    \n",
    "#     roc_auc = roc_auc_score(correct_labels, predicted_labels)\n",
    "#     precision = precision_score(correct_labels, predicted_labels, average='micro')\n",
    "#     recall = recall_score(correct_labels, predicted_labels, average='micro')\n",
    "#     f1score = f1_score(correct_labels, predicted_labels, average='macro')\n",
    "    \n",
    "    #print(f'test accuracy {np.mean(test_acc)} and ROC-AUC {roc_auc}')\n",
    "\n",
    "    #wrong_good, wrong_mal, top_k_mistaken_families = \\\n",
    "    #            get_mistaken_stats(np.array(y_true_list), np.array(np.round(y_pred_list)), Y_test_family, top_k)\n",
    "    \n",
    "    #return np.mean(test_acc), roc_auc, precision, recall, f1score\n",
    "    return np.mean(test_acc)\n",
    "\n",
    "# parser = argparse.ArgumentParser()\n",
    "# parser.add_argument('--num_exps', type=int, default=1, required=False, help='Number of Experiments to Run.')\n",
    "# parser.add_argument('--num_epoch', type=int, default=100, required=False)\n",
    "# parser.add_argument('--batch_size', type=int, default=4096, required=False)\n",
    "# parser.add_argument('--grs_joint',  action=\"store_true\", required=False)\n",
    "# parser.add_argument('--grs_none',  action=\"store_true\", required=False)\n",
    "# parser.add_argument('--memory_budget', type=int, required=False)\n",
    "# parser.add_argument('--data_dir', type=str,\\\n",
    "#                     default='/home/mr6564/continual_research/AZ_Data/Domain_Transformed/', required=False)\n",
    "\n",
    "# args = parser.parse_args()\n",
    "\n",
    "# data_dir = args.data_dir\n",
    "# num_exps = args.num_exps\n",
    "# num_epoch = args.num_epoch\n",
    "# batch_size = args.batch_size\n",
    "# memory_budget = args.memory_budget\n",
    "\n",
    "data_dir = '/home/mr6564/continual_research/AZ_Data/Domain_Transformed/'\n",
    "num_exps = 2\n",
    "num_epoch = 200\n",
    "batch_size = 4096\n",
    "memory_budget = 'none'\n",
    "\n",
    "# if args.grs_joint:\n",
    "#     memory_budget = 'joint'\n",
    "    \n",
    "# if args.grs_none:\n",
    "#     memory_budget = 'none'\n",
    "\n",
    "\n",
    "patience = 5\n",
    "\n",
    "exp_seeds = [random.randint(1, 99999) for i in range(num_exps)]\n",
    "\n",
    "all_task_years = ['2008', '2009', '2010', '2011', '2012', '2013', '2014', '2015', '2016']\n",
    "\n",
    "\n",
    "input_features = 1789\n",
    "\n",
    "replay_type, current_task = 'azdomain', 'azdomain'\n",
    "\n",
    "\n",
    "num_tasks = len(all_task_years)\n",
    "results_matrix = create_empty_matrix(num_tasks, num_tasks)\n",
    "#print(matrix)\n",
    "\n",
    "\n",
    "global_acc_joint = []\n",
    "global_future_acc = []\n",
    "cnt =  1    \n",
    "for exp in exp_seeds:\n",
    "    start_time = time.time()\n",
    "    use_cuda = True\n",
    "    print('Torch', torch.__version__, 'CUDA', torch.version.cuda)\n",
    "    use_cuda = use_cuda and torch.cuda.is_available()\n",
    "    device = torch.device(\"cuda\" if use_cuda else \"cpu\")\n",
    "    torch.manual_seed(exp)\n",
    "\n",
    "    model = Ember_MLP_Net(input_features)\n",
    "    optimizer = optim.Adam(model.parameters(), lr=0.001)\n",
    "    #optimizer = torch.optim.SGD(model.parameters(), lr=0.01, momentum=0.9, weight_decay=0.000001)\n",
    "       \n",
    "    if torch.cuda.device_count() > 1:\n",
    "        print(\"Let's use\", torch.cuda.device_count(), \"GPUs!\")\n",
    "        model = nn.DataParallel(model)\n",
    "    \n",
    "    model = model.to(device)\n",
    "    print(f'Model has {count_parameters(model)/1000000}m parameters')    \n",
    "    criterion = nn.BCELoss()    \n",
    "    \n",
    "    \n",
    "#     standardization = StandardScaler()\n",
    "#     standard_scaler = None\n",
    "    for task_year in range(len(all_task_years)):\n",
    "                \n",
    "        print(f'\\n{datetime.datetime.now().strftime(\"%Y-%m-%d %H:%M:%S\")} Round {cnt} ...')\n",
    "        task_start = time.time()\n",
    "        current_task = all_task_years[task_year]\n",
    "        task_years = all_task_years[:task_year+1]\n",
    "        print(f'Current Task {current_task} with Budget {memory_budget}')\n",
    "\n",
    "\n",
    "        model_save_dir = '../az_model_cd/GRS_SavedModel' + '/GRSModel_' + str(memory_budget) + '/' + str(current_task) + '/'\n",
    "        create_parent_folder(model_save_dir)\n",
    "        \n",
    "        opt_save_path = '../az_model_cd/GRS_SavedModel' + '/GRSOpt_' + str(memory_budget) + '/' + str(current_task) + '/'\n",
    "        create_parent_folder(opt_save_path)\n",
    "        \n",
    "        results_save_dir =  '../az_model_cd/GRS_SavedResults_' +'/GRS_' + str(memory_budget) + '/' \n",
    "        create_parent_folder(results_save_dir)\n",
    "        \n",
    "        \n",
    "#         if args.grs_joint:\n",
    "#             X_train, Y_train = get_GRS_data(data_dir, task_years, memory_budget, train=True, joint=True)\n",
    "#             # X_test, Y_test = get_GRS_data(data_dir, task_years, memory_budget, train=False, joint=True)\n",
    "#         elif args.grs_none:\n",
    "#             X_train, Y_train = get_GRS_data(data_dir, task_years, memory_budget, train=True, none=True)\n",
    "#             # X_test, Y_test = get_GRS_data(data_dir, task_years, memory_budget, train=False, none=True)\n",
    "#         else:\n",
    "#             X_train, Y_train = get_GRS_data(data_dir, task_years, memory_budget, train=True, joint=False)\n",
    "#             # X_test, Y_test = get_GRS_data(data_dir, task_years, memory_budget, train=False, joint=False)\n",
    "        \n",
    "        X_train, Y_train = get_GRS_data(data_dir, task_years, memory_budget, train=True, none=True)\n",
    "        \n",
    "        print(f'{datetime.datetime.now().strftime(\"%Y-%m-%d %H:%M:%S\")} Standardizing ...')\n",
    "        \n",
    "#         if args.grs_joint:\n",
    "#                 standardization = StandardScaler()\n",
    "#                 standard_scaler = None\n",
    "#                 standard_scaler = standardization.fit(X_train)\n",
    "#         else:        \n",
    "#                 standard_scaler = standardization.partial_fit(X_train)\n",
    "\n",
    "#         X_train = standard_scaler.transform(X_train)\n",
    "#         X_test = standard_scaler.transform(X_test)\n",
    "\n",
    "        from sklearn.model_selection import train_test_split\n",
    "        X_train, Y_train = np.array(X_train, np.float32), np.array(Y_train, np.int32)\n",
    "        X_train, X_valid, Y_train, Y_valid = train_test_split(X_train, Y_train, test_size=0.10, random_state=42)\n",
    "        # X_test, Y_test = np.array(X_test, np.float32), np.array(Y_test, np.int32)        \n",
    "        \n",
    "        print(f'{datetime.datetime.now().strftime(\"%Y-%m-%d %H:%M:%S\")} Training ...')\n",
    "        \n",
    "        \n",
    "        \n",
    "        task_training_time, epoch_ran, training_loss, validation_loss  = training_early_stopping(\\\n",
    "                                     model, model_save_dir, opt_save_path, X_train, Y_train,\\\n",
    "                                     X_valid, Y_valid, patience, batch_size, device, optimizer, num_epoch,\\\n",
    "                                     criterion, replay_type, current_task, exp, earlystopping=True)\n",
    "\n",
    "\n",
    "        end_time = time.time()\n",
    "        print(f'Elapsed time {(end_time - start_time)/60} mins.') \n",
    "\n",
    "\n",
    "        best_model_path = model_save_dir + os.listdir(model_save_dir)[0]\n",
    "        print(f'loading best model {best_model_path}')\n",
    "        model.load_state_dict(torch.load(best_model_path))\n",
    "\n",
    "        #optimizer = torch.optim.SGD(model.parameters(), lr=0.001, momentum=0.9, weight_decay=0.000001)\n",
    "        best_optimizer = opt_save_path + os.listdir(opt_save_path)[0]\n",
    "        print(f'loading best optimizer {best_optimizer}')\n",
    "        optimizer.load_state_dict(torch.load(best_optimizer))\n",
    "\n",
    "        \n",
    "        for t in range(num_tasks):\n",
    "            y_t = all_task_years[t]\n",
    "            X_te, Y_te = get_year_data(data_dir, y_t, train=False)\n",
    "            \n",
    "            # acc, _, _, _, _ = testing_aucscore(model, X_te, Y_te, batch_size, device)\n",
    "            acc = testing_aucscore(model, X_te, Y_te, batch_size, device)\n",
    "            \n",
    "            results_matrix[task_year][t] = acc\n",
    "            \n",
    "#             if results_matrix[task_year][t] == 0.0:\n",
    "#                 results_matrix[task_year][t] = acc\n",
    "#             else:\n",
    "#                 tmp_acc = results_matrix[task_year][t]\n",
    "#                 results_matrix[task_year][t] = (np.sum(tmp_acc,acc)/2)\n",
    "            \n",
    "        #print(results_matrix)\n",
    "                \n",
    "            \n",
    "        end_time = time.time()\n",
    "        print(f'Elapsed time {(end_time - start_time)/60} mins.')    \n",
    "        \n",
    "       \n",
    "#         results_f = open(os.path.join('./Submission_Domain_Concept_Drift/' + 'grs_' + str(memory_budget) + '_results.txt'), 'a')\n",
    "#         result_string = '{}\\t{}\\t{}\\t{}\\t{}\\t\\n'.format(current_task, acc, precision, recall, f1score)\n",
    "        \n",
    "#         results_f.write(result_string)\n",
    "#         results_f.flush()\n",
    "#         results_f.close()\n",
    "    \n",
    "    joint_acc_all = []\n",
    "    future_acc_all = []\n",
    "    for t in range(num_tasks):\n",
    "        #print(f'res \\t {results_matrix[t]}\\n')\n",
    "    #     if t == first_task:\n",
    "    #         print(f'task {t}\\t{results_matrix[t][0]}\\n')\n",
    "    #         curr_task += 1\n",
    "    #     else:\n",
    "    #         print(f'res \\t {results_matrix[t]}\\n')\n",
    "\n",
    "        joint_acc = np.mean(results_matrix[t][0:t+1])\n",
    "        future_acc = np.mean(results_matrix[t][t+1:])\n",
    "        #print(f'task {t+1}\\t{results_matrix[t][t+1:]}\\n')\n",
    "        joint_acc_all.append(joint_acc)\n",
    "\n",
    "        if t+1 != num_tasks:\n",
    "            #print(future_acc)\n",
    "            future_acc_all.append(future_acc)\n",
    "\n",
    "    #     print(f'task {t+1}\\tAvg-Acc-Till-Current-Task\\t{joint_acc}\\t\\tFuture-Acc\\t{future_acc}')\n",
    "\n",
    "    print(f'Avg-Acc-Till-Current-Task-Joint\\t{np.mean(joint_acc_all)}\\t\\tFuture-Acc\\t{np.mean(future_acc_all)}')\n",
    "    \n",
    "    global_acc_joint.append(np.mean(joint_acc_all))\n",
    "    global_future_acc.append(np.mean(future_acc_all))\n",
    "    \n",
    "    results_f = open(os.path.join('./Submission_Domain_Concept_Drift/' + 'grs_' + str(memory_budget) + '_results.txt'), 'a')\n",
    "    result_string = '{}\\t{}\\t\\n'.format(np.mean(joint_acc_all), np.mean(future_acc_all))\n",
    "\n",
    "    results_f.write(result_string)\n",
    "    results_f.flush()\n",
    "    results_f.close()\n",
    "    \n",
    "    \n",
    "    end_time = time.time()\n",
    "    cnt += 1\n",
    "    print(f'Elapsed time {(end_time - start_time)/60} mins.')\n",
    "    \n",
    "    del model_save_dir\n",
    "    del opt_save_path\n",
    "    del results_save_dir\n",
    "\n",
    "print(f'Global-Acc-Joint\\t{np.mean(global_acc_joint)}\\t\\tGlobal-Future-Acc\\t{np.mean(global_future_acc)}')"
   ]
  },
  {
   "cell_type": "code",
   "execution_count": 78,
   "metadata": {},
   "outputs": [
    {
     "name": "stdout",
     "output_type": "stream",
     "text": [
      "Avg-Acc-Till-Current-Task-Joint\t0.8978964356842424\t\tFuture-Acc\t0.7768589081124417\n"
     ]
    }
   ],
   "source": [
    "\n",
    "joint_acc_all = []\n",
    "future_acc_all = []\n",
    "for t in range(num_tasks):\n",
    "    #print(f'res \\t {results_matrix[t]}\\n')\n",
    "#     if t == first_task:\n",
    "#         print(f'task {t}\\t{results_matrix[t][0]}\\n')\n",
    "#         curr_task += 1\n",
    "#     else:\n",
    "#         print(f'res \\t {results_matrix[t]}\\n')\n",
    "    \n",
    "    joint_acc = np.mean(results_matrix[t][0:t+1])\n",
    "    future_acc = np.mean(results_matrix[t][t+1:])\n",
    "    #print(f'task {t+1}\\t{results_matrix[t][t+1:]}\\n')\n",
    "    joint_acc_all.append(joint_acc)\n",
    "    \n",
    "    if t+1 != num_tasks:\n",
    "        #print(future_acc)\n",
    "        future_acc_all.append(future_acc)\n",
    "    \n",
    "#     print(f'task {t+1}\\tAvg-Acc-Till-Current-Task\\t{joint_acc}\\t\\tFuture-Acc\\t{future_acc}')\n",
    "\n",
    "print(f'Avg-Acc-Till-Current-Task-Joint\\t{np.mean(joint_acc_all)}\\t\\tFuture-Acc\\t{np.mean(future_acc_all)}')"
   ]
  },
  {
   "cell_type": "code",
   "execution_count": null,
   "metadata": {},
   "outputs": [],
   "source": [
    "# None\n",
    "Avg-Acc-Till-Current-Task-Joint\t0.8978964356842424\t\tFuture-Acc\t0.7768589081124417\n",
    "\n",
    "# Joint\n",
    "Avg-Acc-Till-Current-Task-Joint\t0.9634991586357268\t\tFuture-Acc\t0.7949101760687809\n",
    "Avg-Acc-Till-Current-Task-Joint\t0.9636760994301411\t\tFuture-Acc\t0.802318911295798"
   ]
  },
  {
   "cell_type": "code",
   "execution_count": 54,
   "metadata": {},
   "outputs": [],
   "source": [
    "num_tasks = len(all_task_years)\n",
    "results_matrix = create_empty_matrix(num_tasks, num_tasks)\n",
    "#print(matrix)"
   ]
  },
  {
   "cell_type": "code",
   "execution_count": 58,
   "metadata": {},
   "outputs": [
    {
     "data": {
      "text/plain": [
       "True"
      ]
     },
     "execution_count": 58,
     "metadata": {},
     "output_type": "execute_result"
    }
   ],
   "source": [
    "results_matrix[0][0] == 0"
   ]
  }
 ],
 "metadata": {
  "kernelspec": {
   "display_name": "PyTorch",
   "language": "python",
   "name": "pytorch"
  },
  "language_info": {
   "codemirror_mode": {
    "name": "ipython",
    "version": 3
   },
   "file_extension": ".py",
   "mimetype": "text/x-python",
   "name": "python",
   "nbconvert_exporter": "python",
   "pygments_lexer": "ipython3",
   "version": "3.7.9"
  }
 },
 "nbformat": 4,
 "nbformat_minor": 4
}
